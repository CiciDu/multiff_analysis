{
 "cells": [
  {
   "cell_type": "markdown",
   "metadata": {},
   "source": [
    "# Install packages"
   ]
  },
  {
   "cell_type": "code",
   "execution_count": null,
   "metadata": {},
   "outputs": [],
   "source": [
    "# !pip install neo\n",
    "# !pip install matplotlib_scalebar\n",
    "# !pip install ffmpeg\n",
    "# !pip install Ipython --upgrade\n",
    "# %load_ext autoreload\n",
    "# %autoreload 2"
   ]
  },
  {
   "cell_type": "code",
   "execution_count": null,
   "metadata": {},
   "outputs": [],
   "source": [
    "## if using google drive\n",
    "\n",
    "# from google.colab import drive # import drive from google colab\n",
    "# drive.mount(\"/content/drive\") \n",
    "# %cd /content/drive/MyDrive/ff_repo/Multifirefly-Project"
   ]
  },
  {
   "cell_type": "markdown",
   "metadata": {},
   "source": [
    "# Import packages"
   ]
  },
  {
   "cell_type": "code",
   "execution_count": null,
   "metadata": {},
   "outputs": [],
   "source": [
    "%load_ext autoreload\n",
    "%autoreload 2\n",
    "\n",
    "from pathlib import Path\n",
    "import os, sys\n",
    "for p in [Path.cwd()] + list(Path.cwd().parents):\n",
    "    if p.name == 'Multifirefly-Project':\n",
    "        os.chdir(p)\n",
    "        sys.path.insert(0, str(p / 'multiff_analysis/multiff_code/methods'))\n",
    "        break\n",
    "\n",
    "import sys\n",
    "\n",
    "from data_wrangling import specific_utils, process_monkey_information, base_processing_class, combine_info_utils, general_utils\n",
    "from pattern_discovery import pattern_by_trials, pattern_by_points, make_ff_dataframe, ff_dataframe_utils, pattern_by_trials, pattern_by_points, cluster_analysis, organize_patterns_and_features, category_class, cluster_analysis\n",
    "from decision_making_analysis.decision_making import decision_making_class, decision_making_utils, plot_decision_making, intended_targets_classes\n",
    "from decision_making_analysis.GUAT import GUAT_helper_class, GUAT_collect_info_class, GUAT_combine_info_class, process_GUAT_trials_class, GUAT_and_TAFT\n",
    "from decision_making_analysis import free_selection, replacement, trajectory_info\n",
    "from null_behaviors import show_null_trajectory, find_best_arc, curvature_utils, curv_of_traj_utils\n",
    "from machine_learning.ml_methods import regression_utils, classification_utils, prep_ml_data_utils, hyperparam_tuning_class, prep_ml_data_utils\n",
    "from machine_learning.RL.env_related import env_for_lstm, env_utils, base_env, collect_agent_data_utils\n",
    "from machine_learning.RL.lstm import GRU_functions, LSTM_functions\n",
    "from machine_learning.RL.SB3 import interpret_neural_network, sb3_for_multiff_class, rl_for_multiff_utils, SB3_functions\n",
    "from visualization.matplotlib_tools import plot_trials, plot_polar, additional_plots, plot_behaviors_utils, plot_statistics, monkey_heading_utils\n",
    "from visualization.animation import animation_func, animation_utils, animation_class\n",
    "from planning_analysis.test_params_for_planning import params_test_combos_class, params_utils\n",
    "from visualization.plotly_tools import plotly_for_monkey, plotly_for_time_series, plotly_preparation, plotly_for_correlation\n",
    "from visualization.dash_tools import dash_prep_class, dash_utils, dash_utils, dash_comparison_class, dash_params_class\n",
    "from visualization.dash_tools.dash_main_class_methods import dash_main_class\n",
    "from neural_data_analysis.neural_analysis_tools.get_neural_data import neural_data_processing\n",
    "from neural_data_analysis.neural_analysis_tools.visualize_neural_data import plot_neural_data, plot_modeling_result\n",
    "from neural_data_analysis.neural_analysis_tools.model_neural_data import transform_vars, neural_data_modeling, drop_high_corr_vars, drop_high_vif_vars\n",
    "from neural_data_analysis.topic_based_neural_analysis.neural_vs_behavioral import prep_monkey_data, prep_target_data, neural_vs_behavioral_class\n",
    "from neural_data_analysis.topic_based_neural_analysis.planning_and_neural import planning_and_neural_class, pn_utils\n",
    "from planning_analysis.only_cur_ff import only_cur_ff_utils, only_cur_ff_class, only_cur_ff_utils\n",
    "from planning_analysis.plan_factors import plan_factors_utils, build_factor_comp, plan_factors_class, monkey_plan_factors_x_sess_class, feature_lists\n",
    "from planning_analysis.agent_analysis import compare_monkey_and_agent_utils, agent_plan_factors_class, agent_plan_factors_x_sess_class\n",
    "from planning_analysis.plan_factors import test_vs_control_utils\n",
    "from planning_analysis.factors_vs_indicators import make_variations_utils, plot_variations_utils, process_variations_utils\n",
    "from planning_analysis.show_planning import nxt_ff_utils, show_planning_class, show_planning_utils, examine_null_arcs\n",
    "from planning_analysis.show_planning.cur_vs_nxt_ff import cvn_helper_class, find_cvn_utils, plot_cvn_class, plot_cvn_utils, plot_monkey_heading_helper_class, cvn_from_ref_class\n",
    "from machine_learning.ml_methods import ml_methods_class, prep_ml_data_utils\n",
    "from eye_position_analysis import eye_positions\n",
    "from neural_data_analysis.neural_analysis_tools.cca_methods import cca_utils, cca_cv_utils, cca_class\n",
    "\n",
    "from importlib import reload\n",
    "import os, sys\n",
    "import numpy as np\n",
    "import matplotlib\n",
    "import matplotlib.pyplot as plt\n",
    "from sklearn.ensemble import BaggingRegressor, AdaBoostRegressor, RandomForestRegressor\n",
    "from sklearn.preprocessing import PolynomialFeatures\n",
    "from sklearn.linear_model import LinearRegression\n",
    "from matplotlib import cm\n",
    "from os.path import exists\n",
    "import seaborn as sns\n",
    "import math\n",
    "import copy\n",
    "import matplotlib.pyplot as plt\n",
    "import pandas as pd\n",
    "import torch\n",
    "import torch.nn as nn\n",
    "import torch.optim as optim\n",
    "import tqdm\n",
    "import itertools\n",
    "import plotly.express as px\n",
    "from scipy.stats import rankdata\n",
    "from scipy import stats\n",
    "from IPython.display import HTML\n",
    "from matplotlib import rc\n",
    "from sklearn.model_selection import train_test_split\n",
    "from sklearn.preprocessing import OneHotEncoder\n",
    "from sklearn.datasets import make_multilabel_classification\n",
    "from sklearn.model_selection import train_test_split\n",
    "from sklearn.multioutput import MultiOutputClassifier\n",
    "from sklearn.neighbors import KNeighborsClassifier\n",
    "from sklearn.metrics import accuracy_score, hamming_loss, multilabel_confusion_matrix, fbeta_score, precision_score, recall_score\n",
    "from sklearn.svm import SVC\n",
    "from sklearn.tree import DecisionTreeClassifier\n",
    "from sklearn.ensemble import AdaBoostClassifier, RandomForestClassifier, VotingClassifier, BaggingClassifier, GradientBoostingClassifier\n",
    "from sklearn.neural_network import MLPClassifier\n",
    "from sklearn.linear_model import LinearRegression\n",
    "from sklearn.neighbors import KNeighborsRegressor, KNeighborsClassifier\n",
    "from sklearn.naive_bayes import GaussianNB\n",
    "from sklearn.linear_model import LogisticRegression\n",
    "from math import pi\n",
    "from scipy.ndimage import gaussian_filter1d\n",
    "from statsmodels.graphics.tsaplots import plot_acf\n",
    "import warnings\n",
    "import os, sys, sys\n",
    "from sklearn.exceptions import ConvergenceWarning\n",
    "import plotly.graph_objects as go\n",
    "import gc\n",
    "from sklearn.linear_model import LogisticRegression\n",
    "from sklearn.linear_model import LassoCV\n",
    "from sklearn.model_selection import train_test_split\n",
    "from sklearn.preprocessing import StandardScaler\n",
    "\n",
    "\n",
    "plt.rcParams[\"animation.html\"] = \"html5\"\n",
    "os.environ['KMP_DUPLICATE_LIB_OK']='True'\n",
    "rc('animation', html='jshtml')\n",
    "matplotlib.rcParams.update(matplotlib.rcParamsDefault)\n",
    "matplotlib.rcParams['animation.embed_limit'] = 2**128\n",
    "pd.set_option('display.float_format', lambda x: '%.5f' % x)\n",
    "np.set_printoptions(suppress=True)\n",
    "pd.options.display.max_rows = 101\n",
    "\n"
   ]
  },
  {
   "cell_type": "markdown",
   "metadata": {},
   "source": [
    "# Get data"
   ]
  },
  {
   "cell_type": "code",
   "execution_count": null,
   "metadata": {},
   "outputs": [],
   "source": [
    "\n",
    "# ref_point_params_based_on_mode={'time after cur ff visible': [0.1, 0],\n",
    "#                                 'distance': [-150, -100, -50]},\n",
    "\n",
    "# perm_df = pd.DataFrame()\n",
    "# for monkey_name in ['monkey_Schro', 'monkey_Bruno']:\n",
    "#     variations_list = specific_utils.init_variations_list_func(ref_point_params_based_on_mode,\n",
    "#                                                                 monkey_name=monkey_name)\n",
    "#     for index, row in variations_list.iterrows():\n",
    "#         print(row)\n",
    "#         ref_point_mode = row['ref_point_mode']\n",
    "#         ref_point_value = row['ref_point_value']\n",
    "\n",
    "#         ps = monkey_plan_factors_x_sess_class.PlanAcrossSessions(monkey_name=monkey_name)\n",
    "#         ps.initialize_monkey_sessions_df_for_one_monkey()\n",
    "#         ps.get_combd_heading_df_x_sessions_across_sessions(\n",
    "#                                 ref_point_mode=ref_point_mode, ref_point_value=ref_point_value,\n",
    "#                                 save_data=False)\n",
    "\n",
    "#         test_heading_info_df = ps.combd_heading_df_x_sessions_test.copy()\n",
    "#         ctrl_heading_info_df = ps.combd_heading_df_x_sessions_ctrl.copy()\n",
    "#         test_heading_info_df = build_factor_comp.process_heading_info_df(test_heading_info_df)\n",
    "#         ctrl_heading_info_df = build_factor_comp.process_heading_info_df(ctrl_heading_info_df)\n",
    "\n",
    "#         x = test_heading_info_df['diff_in_abs_angle_to_nxt_ff'].values\n",
    "#         y = ctrl_heading_info_df['diff_in_abs_angle_to_nxt_ff'].values\n",
    "#         angle_p_value = permutation_test(x, y, num_permutations=10000, alternative='greater', random_state=None)\n",
    "\n",
    "#         x = test_heading_info_df['diff_in_abs_d_curv'].values\n",
    "#         y = ctrl_heading_info_df['diff_in_abs_d_curv'].values\n",
    "#         d_curv_p_value = permutation_test(x, y, num_permutations=10000, alternative='greater', random_state=None)\n",
    "\n",
    "#         perm_df = pd.concat([perm_df, pd.DataFrame({'monkey_name': monkey_name,\n",
    "#                                                     'ref_point_mode': ref_point_mode,\n",
    "#                                                     'ref_point_value': ref_point_value,\n",
    "#                                                     'angle_p_value': angle_p_value,\n",
    "#                                                     'd_curv_p_value': d_curv_p_value})], axis=0)\n",
    "#         perm_df.reset_index(drop=True, inplace=True)\n",
    "\n",
    "# perm_df.to_csv('perm_df.csv', index=False)"
   ]
  },
  {
   "cell_type": "markdown",
   "metadata": {},
   "source": [
    "## all sessions of data"
   ]
  },
  {
   "cell_type": "code",
   "execution_count": null,
   "metadata": {},
   "outputs": [],
   "source": [
    "ps = monkey_plan_factors_x_sess_class.PlanAcrossSessions(monkey_name='monkey_Schro')\n",
    "ps.initialize_monkey_sessions_df_for_one_monkey()\n",
    "ps.get_combd_heading_df_x_sessions_across_sessions(\n",
    "                        ref_point_mode='time after cur ff visible', ref_point_value=0.1,\n",
    "                        save_data=False)\n",
    "\n",
    "test_heading_info_df = ps.combd_heading_df_x_sessions_test.copy()\n",
    "ctrl_heading_info_df = ps.combd_heading_df_x_sessions_ctrl.copy()\n",
    "test_heading_info_df = build_factor_comp.process_heading_info_df(test_heading_info_df)\n",
    "ctrl_heading_info_df = build_factor_comp.process_heading_info_df(ctrl_heading_info_df)\n"
   ]
  },
  {
   "cell_type": "markdown",
   "metadata": {},
   "source": [
    "## one session data"
   ]
  },
  {
   "cell_type": "code",
   "execution_count": null,
   "metadata": {},
   "outputs": [],
   "source": [
    "exists_ok = False\n",
    "curv_of_traj_mode = 'distance'\n",
    "window_for_curv_of_traj=[-25, 0]\n",
    "raw_data_folder_path = \"all_monkey_data/raw_monkey_data/monkey_Bruno/data_0328\"\n",
    "pf = plan_factors_class.PlanFactors(raw_data_folder_path=raw_data_folder_path,\n",
    "                                    #opt_arc_type='opt_arc_stop_closest')\n",
    "                                    opt_arc_type = 'norm_opt_arc')\n",
    "                                    \n",
    "pf.make_plan_x_and_y_for_both_test_and_ctrl(plan_x_exists_ok=exists_ok, \n",
    "                                            plan_y_exists_ok=exists_ok,\n",
    "                                            already_made_ok=True, \n",
    "                                            heading_info_df_exists_ok=True,\n",
    "                                            ref_point_mode='time after cur ff visible', \n",
    "                                            ref_point_value=0.1,\n",
    "                                            # ref_point_mode='distance', \n",
    "                                            # ref_point_value=-150,  \n",
    "                                            stops_near_ff_df_exists_ok=True,\n",
    "                                            )\n",
    "pf.make_x_and_y_var_df()\n",
    "\n",
    "test_heading_info_df = pf.test_inst.heading_info_df.copy()\n",
    "ctrl_heading_info_df = pf.ctrl_inst.heading_info_df.copy()\n",
    "test_heading_info_df = build_factor_comp.process_heading_info_df(test_heading_info_df)\n",
    "ctrl_heading_info_df = build_factor_comp.process_heading_info_df(ctrl_heading_info_df)"
   ]
  },
  {
   "cell_type": "code",
   "execution_count": null,
   "metadata": {},
   "outputs": [],
   "source": [
    "stop!"
   ]
  },
  {
   "cell_type": "markdown",
   "metadata": {},
   "source": [
    "## monkey data across sessions"
   ]
  },
  {
   "cell_type": "markdown",
   "metadata": {},
   "source": [
    "### get data"
   ]
  },
  {
   "cell_type": "code",
   "execution_count": null,
   "metadata": {},
   "outputs": [],
   "source": [
    "ps = monkey_plan_factors_x_sess_class.PlanAcrossSessions(monkey_name='monkey_Bruno')\n",
    "ps.initialize_monkey_sessions_df_for_one_monkey()\n",
    "# ps.get_plan_x_and_plan_y_across_sessions(exists_ok=True, plan_x_exists_ok=True, plan_y_exists_ok=True,\n",
    "#                                          ref_point_mode='time after cur ff visible', ref_point_value=0.1)\n",
    "ps.get_plan_x_and_plan_y_across_sessions(exists_ok=True, plan_x_exists_ok=True, plan_y_exists_ok=True,\n",
    "                                        heading_info_df_exists_ok=True,\n",
    "                                        stops_near_ff_df_exists_ok=True, \n",
    "                                        ref_point_mode='time after cur ff visible', ref_point_value=0.1)\n",
    "\n",
    "combd_plan_y_tc = ps.combd_plan_y_tc.copy().reset_index(drop=True)\n",
    "combd_plan_x_tc = ps.combd_plan_x_tc.copy().reset_index(drop=True)\n",
    "# pf.plan_x_tc = combd_plan_x_tc.copy()\n",
    "# pf.plan_y_tc = combd_plan_y_tc.copy()"
   ]
  },
  {
   "cell_type": "markdown",
   "metadata": {},
   "source": [
    "### re-calculate planning data for both monkeys"
   ]
  },
  {
   "cell_type": "code",
   "execution_count": null,
   "metadata": {},
   "outputs": [],
   "source": [
    "# # to re-calculate planning data\n",
    "# exists_ok = True\n",
    "# curv_traj_window_before_stop=[-50, 0]\n",
    "\n",
    "# for opt_arc_type in ['norm_opt_arc', 'opt_arc_stop_first_vis_bdry', 'opt_arc_stop_closest']:\n",
    "#     #opt_arc_type='opt_arc_stop_closest' # options are: norm_opt_arc, opt_arc_stop_first_vis_bdry, opt_arc_stop_closest,\n",
    "    \n",
    "\n",
    "\n",
    "#     ref_point_params_based_on_mode = monkey_plan_factors_x_sess_class.PlanAcrossSessions.default_ref_point_params_based_on_mode\n",
    "\n",
    "#     variations_list = specific_utils.init_variations_list_func(ref_point_params_based_on_mode,\n",
    "#                                                                 monkey_name='monkey_Schro')\n",
    "\n",
    "#     for index, row in variations_list.iterrows():\n",
    "#         ps = monkey_plan_factors_x_sess_class.PlanAcrossSessions(monkey_name='monkey_Schro', \n",
    "#                                                                 opt_arc_type=opt_arc_type)\n",
    "#         ps.initialize_monkey_sessions_df_for_one_monkey()\n",
    "#         # ps.get_plan_x_and_plan_y_across_sessions(exists_ok=True, plan_x_exists_ok=True, plan_y_exists_ok=True,\n",
    "#         #                                          ref_point_mode='time after cur ff visible', ref_point_value=0.1)\n",
    "#         print(row)\n",
    "#         ps.get_plan_x_and_plan_y_across_sessions(exists_ok=False, plan_x_exists_ok=exists_ok, plan_y_exists_ok=exists_ok,\n",
    "#                                                 heading_info_df_exists_ok=exists_ok,\n",
    "#                                                 stops_near_ff_df_exists_ok=exists_ok, \n",
    "#                                                 ref_point_mode=row['ref_point_mode'], ref_point_value=row['ref_point_value'])\n",
    "\n",
    "\n",
    "\n",
    "\n",
    "#     # to re-calculate planning data for a monkey\n",
    "#     ref_point_params_based_on_mode = monkey_plan_factors_x_sess_class.PlanAcrossSessions.default_ref_point_params_based_on_mode\n",
    "\n",
    "#     variations_list = specific_utils.init_variations_list_func(ref_point_params_based_on_mode,\n",
    "#                                                                 monkey_name='monkey_Bruno')\n",
    "\n",
    "#     for index, row in variations_list.iterrows():\n",
    "#         ps = monkey_plan_factors_x_sess_class.PlanAcrossSessions(monkey_name='monkey_Bruno', \n",
    "#                                                                 opt_arc_type=opt_arc_type)\n",
    "#         ps.initialize_monkey_sessions_df_for_one_monkey()\n",
    "#         # ps.get_plan_x_and_plan_y_across_sessions(exists_ok=True, plan_x_exists_ok=True, plan_y_exists_ok=True,\n",
    "#         #                                          ref_point_mode='time after cur ff visible', ref_point_value=0.1)\n",
    "#         print(row)\n",
    "#         ps.get_plan_x_and_plan_y_across_sessions(exists_ok=False, plan_x_exists_ok=exists_ok, plan_y_exists_ok=exists_ok,\n",
    "#                                                 heading_info_df_exists_ok=exists_ok,\n",
    "#                                                 stops_near_ff_df_exists_ok=exists_ok, \n",
    "#                                                 ref_point_mode=row['ref_point_mode'], ref_point_value=row['ref_point_value'])\n",
    "\n"
   ]
  },
  {
   "cell_type": "markdown",
   "metadata": {},
   "source": [
    "### re-calculate heading_info"
   ]
  },
  {
   "cell_type": "code",
   "execution_count": null,
   "metadata": {},
   "outputs": [],
   "source": [
    "# for curv_traj_window_before_stop in [[-100, 0], [-50, -5]]:\n",
    "#     # [-75, -0], [-50, 0], [-25, 0], \n",
    "#     for opt_arc_type in ['norm_opt_arc', 'opt_arc_stop_closest', 'opt_arc_stop_first_vis_bdry']:\n",
    "#         # to re-calculate planning data for a monkey\n",
    "#         exists_ok = True\n",
    "#         # opt_arc_type='opt_arc_stop_closest' # options are: norm_opt_arc, opt_arc_stop_first_vis_bdry, opt_arc_stop_closest,\n",
    "        \n",
    "\n",
    "\n",
    "#         ref_point_params_based_on_mode = monkey_plan_factors_x_sess_class.PlanAcrossSessions.default_ref_point_params_based_on_mode\n",
    "\n",
    "#         variations_list = specific_utils.init_variations_list_func(ref_point_params_based_on_mode,\n",
    "#                                                                     monkey_name='monkey_Schro')\n",
    "\n",
    "#         for index, row in variations_list.iterrows():\n",
    "#             ps = monkey_plan_factors_x_sess_class.PlanAcrossSessions(monkey_name='monkey_Schro',\n",
    "#                                                                     opt_arc_type=opt_arc_type)\n",
    "#             ps.initialize_monkey_sessions_df_for_one_monkey()\n",
    "#             # ps.get_plan_x_and_plan_y_across_sessions(exists_ok=True, plan_x_exists_ok=True, plan_y_exists_ok=True,\n",
    "#             #                                          ref_point_mode='time after cur ff visible', ref_point_value=0.1)\n",
    "#             print(row)\n",
    "\n",
    "#             ps.get_combd_heading_df_x_sessions_across_sessions(exists_ok=exists_ok,\n",
    "#                                                     heading_info_df_exists_ok=exists_ok,\n",
    "#                                                     stops_near_ff_df_exists_ok=exists_ok, \n",
    "#                                                     curv_traj_window_before_stop=curv_traj_window_before_stop,\n",
    "#                                                     ref_point_mode=row['ref_point_mode'], ref_point_value=row['ref_point_value'])\n",
    "\n",
    "#         # to re-calculate planning data for a monkey\n",
    "#         ref_point_params_based_on_mode = monkey_plan_factors_x_sess_class.PlanAcrossSessions.default_ref_point_params_based_on_mode\n",
    "\n",
    "#         variations_list = specific_utils.init_variations_list_func(ref_point_params_based_on_mode,\n",
    "#                                                                     monkey_name='monkey_Bruno')\n",
    "\n",
    "#         for index, row in variations_list.iterrows():\n",
    "#             ps = monkey_plan_factors_x_sess_class.PlanAcrossSessions(monkey_name='monkey_Bruno',\n",
    "#                                                                     opt_arc_type=opt_arc_type)                                                             \n",
    "#             ps.initialize_monkey_sessions_df_for_one_monkey()\n",
    "#             # ps.get_plan_x_and_plan_y_across_sessions(exists_ok=True, plan_x_exists_ok=True, plan_y_exists_ok=True,\n",
    "#             #                                          ref_point_mode='time after cur ff visible', ref_point_value=0.1)\n",
    "#             print(row)\n",
    "\n",
    "#             ps.get_combd_heading_df_x_sessions_across_sessions(exists_ok=exists_ok,\n",
    "#                                                     heading_info_df_exists_ok=exists_ok,\n",
    "#                                                     stops_near_ff_df_exists_ok=exists_ok, \n",
    "#                                                     curv_traj_window_before_stop=curv_traj_window_before_stop,\n",
    "#                                                     ref_point_mode=row['ref_point_mode'], ref_point_value=row['ref_point_value'])\n"
   ]
  },
  {
   "cell_type": "markdown",
   "metadata": {},
   "source": [
    "## agent"
   ]
  },
  {
   "cell_type": "code",
   "execution_count": null,
   "metadata": {},
   "outputs": [],
   "source": [
    "env_kwargs = {}"
   ]
  },
  {
   "cell_type": "code",
   "execution_count": null,
   "metadata": {},
   "outputs": [],
   "source": [
    "# for 5 ff\n",
    "ref_point_mode='time after cur ff visible'\n",
    "ref_point_value=0.1\n",
    "save_data = True\n",
    "exists_ok = True\n",
    "num_obs_ff = 5\n",
    "model_folder_name='RL_models/SB3_stored_models/all_agents/gen_27_5_ff_0.3_flash/all_agents/time27.17_dv92.21_dw124.84_w91.59'"
   ]
  },
  {
   "cell_type": "code",
   "execution_count": null,
   "metadata": {},
   "outputs": [],
   "source": [
    "# for 1 ff\n",
    "ref_point_mode='time after cur ff visible'\n",
    "ref_point_value=0.1\n",
    "save_data = True\n",
    "exists_ok = True\n",
    "num_obs_ff = 1\n",
    "model_folder_name='RL_models/SB3_stored_models/all_agents/gen_26_1_ff_0.3_flash/all_agents/time34.84_dv118.27_dw144.17_w101.32'"
   ]
  },
  {
   "cell_type": "code",
   "execution_count": null,
   "metadata": {},
   "outputs": [],
   "source": [
    "# for 4 ff\n",
    "ref_point_mode='time after cur ff visible'\n",
    "ref_point_value=0.1\n",
    "save_data = True\n",
    "exists_ok = True\n",
    "num_obs_ff = 4\n",
    "model_folder_name='RL_models/SB3_stored_models/all_agents/gen_3_env1_4ff_relu/all_agents/time23.73_dv126.41_dw141.9_w87.49'"
   ]
  },
  {
   "cell_type": "code",
   "execution_count": null,
   "metadata": {},
   "outputs": [],
   "source": [
    "# #for i in range(1, 10):\n",
    "# for i in range(1):\n",
    "#     data_name = f'data_{i}'\n",
    "#     print('data_name:', data_name)\n",
    "#     pf = agent_plan_factors_class.PlanFactorsOfAgent(model_folder_name=model_folder_name,\n",
    "#                                                         data_name=data_name\n",
    "#                                                         )\n",
    "#     pf.get_agent_data(**env_kwargs, exists_ok=exists_ok, save_data=save_data, n_steps=100000,\n",
    "#                     num_obs_ff=num_obs_ff)\n",
    "    \n",
    "#     pf.get_plan_x_and_plan_y(ref_point_mode=ref_point_mode, \n",
    "#                              ref_point_value=ref_point_value,\n",
    "#                             plan_x_exists_ok=exists_ok, \n",
    "#                             plan_y_exists_ok=exists_ok, \n",
    "#                             heading_info_df_exists_ok=exists_ok,\n",
    "#                             stops_near_ff_df_exists_ok=exists_ok, \n",
    "#                             save_data=save_data)"
   ]
  },
  {
   "cell_type": "code",
   "execution_count": null,
   "metadata": {},
   "outputs": [],
   "source": [
    "pf.get_plan_x_and_plan_y_across_sessions(\n",
    "                        ref_point_mode=ref_point_mode, \n",
    "                        ref_point_value=ref_point_value,\n",
    "                        save_data=save_data)"
   ]
  },
  {
   "cell_type": "code",
   "execution_count": null,
   "metadata": {},
   "outputs": [],
   "source": [
    "pf.get_combd_heading_df_x_sessions_across_sessions(\n",
    "                        ref_point_mode=ref_point_mode, \n",
    "                        ref_point_value=ref_point_value,\n",
    "                        save_data=save_data)"
   ]
  },
  {
   "cell_type": "code",
   "execution_count": null,
   "metadata": {},
   "outputs": [],
   "source": [
    "import numpy as np\n",
    "\n",
    "def permutation_test(\n",
    "    x, y, \n",
    "    num_permutations=100000, \n",
    "    alternative='two-sided', \n",
    "    statistic='median', \n",
    "    random_state=None\n",
    "):\n",
    "    \"\"\"\n",
    "    General permutation test for difference in means or medians.\n",
    "\n",
    "    Parameters:\n",
    "    - x, y: arrays of sample values from two groups\n",
    "    - num_permutations: number of permutations to perform\n",
    "    - alternative: 'two-sided', 'greater', or 'less'\n",
    "    - statistic: 'mean' or 'median'\n",
    "    - random_state: optional seed for reproducibility\n",
    "\n",
    "    Returns:\n",
    "    - p-value of the permutation test\n",
    "    \"\"\"\n",
    "    rng = np.random.default_rng(random_state)\n",
    "    x = np.asarray(x)\n",
    "    y = np.asarray(y)\n",
    "    \n",
    "    # get rid of nan\n",
    "    # print percentage of nan and get rid of nan\n",
    "    print(f'percentage of nan in x: {round(np.sum(np.isnan(x)) / len(x), 3)}')\n",
    "    print(f'percentage of nan in y: {round(np.sum(np.isnan(y)) / len(y), 3)}')\n",
    "    print('Removing nan...')\n",
    "    x = x[~np.isnan(x)]\n",
    "    y = y[~np.isnan(y)]\n",
    "    \n",
    "    if statistic == 'mean':\n",
    "        stat_func = np.mean\n",
    "    elif statistic == 'median':\n",
    "        stat_func = np.median\n",
    "    else:\n",
    "        raise ValueError(\"statistic must be 'mean' or 'median'\")\n",
    "\n",
    "    observed_diff = stat_func(x) - stat_func(y)\n",
    "    combined = np.concatenate([x, y])\n",
    "    \n",
    "    print(f'observed_diff: {observed_diff}')\n",
    "    \n",
    "    count = 0\n",
    "    for _ in range(num_permutations):\n",
    "        permuted = rng.permutation(combined)\n",
    "        x_perm = permuted[:len(x)]\n",
    "        y_perm = permuted[len(x):]\n",
    "        perm_diff = stat_func(x_perm) - stat_func(y_perm)\n",
    "        \n",
    "        if _ % 5000 == 0:\n",
    "            print(f'perm_diff: {perm_diff}')\n",
    "\n",
    "        if alternative == 'two-sided':\n",
    "            if abs(perm_diff) >= abs(observed_diff):\n",
    "                count += 1\n",
    "        elif alternative == 'greater':\n",
    "            if perm_diff >= observed_diff:\n",
    "                count += 1\n",
    "        elif alternative == 'less':\n",
    "            if perm_diff <= observed_diff:\n",
    "                count += 1\n",
    "        else:\n",
    "            raise ValueError(\"alternative must be 'two-sided', 'greater', or 'less'\")\n",
    "\n",
    "    p_value = count / num_permutations\n",
    "    print(f'count: {count}, num_permutations: {num_permutations}, p_value: {p_value}')\n",
    "    return p_value\n"
   ]
  },
  {
   "cell_type": "markdown",
   "metadata": {},
   "source": [
    "# check features"
   ]
  },
  {
   "cell_type": "code",
   "execution_count": null,
   "metadata": {},
   "outputs": [],
   "source": [
    "pf.plan_x_test.columns.values"
   ]
  },
  {
   "cell_type": "code",
   "execution_count": null,
   "metadata": {},
   "outputs": [],
   "source": [
    "pf.plan_y_test.columns.values"
   ]
  },
  {
   "cell_type": "markdown",
   "metadata": {},
   "source": [
    "# check NA"
   ]
  },
  {
   "cell_type": "code",
   "execution_count": null,
   "metadata": {},
   "outputs": [],
   "source": [
    "na_rows, na_cols = general_utils.check_na_in_df(pf.plan_x_tc)"
   ]
  },
  {
   "cell_type": "code",
   "execution_count": null,
   "metadata": {},
   "outputs": [],
   "source": [
    "na_rows, na_cols = general_utils.check_na_in_df(pf.plan_y_tc)"
   ]
  },
  {
   "cell_type": "code",
   "execution_count": null,
   "metadata": {},
   "outputs": [],
   "source": [
    "na_rows, na_cols = general_utils.check_na_in_df(pf.y_var_df)"
   ]
  },
  {
   "cell_type": "markdown",
   "metadata": {},
   "source": [
    "# check data type"
   ]
  },
  {
   "cell_type": "code",
   "execution_count": null,
   "metadata": {},
   "outputs": [],
   "source": [
    "# Check what's causing the object dtype\n",
    "print(\"X variables object columns:\", pf.x_var_df.dtypes[pf.x_var_df.dtypes != 'float'].index.tolist())\n",
    "print(\"Y variables object columns:\", pf.y_var_df.dtypes[pf.y_var_df.dtypes != 'float'].index.tolist())"
   ]
  },
  {
   "cell_type": "code",
   "execution_count": null,
   "metadata": {},
   "outputs": [],
   "source": [
    "pf.y_var_df.dtypes[pf.y_var_df.dtypes != 'float']"
   ]
  },
  {
   "cell_type": "markdown",
   "metadata": {},
   "source": [
    "# ML"
   ]
  },
  {
   "cell_type": "markdown",
   "metadata": {},
   "source": [
    "## data"
   ]
  },
  {
   "cell_type": "code",
   "execution_count": null,
   "metadata": {},
   "outputs": [],
   "source": [
    "pf.make_x_and_y_var_df()"
   ]
  },
  {
   "cell_type": "code",
   "execution_count": null,
   "metadata": {},
   "outputs": [],
   "source": [
    "ref_columns = [column for column in pf.plan_x_tc.columns if ('ref' in column) & ('cur_ff' in column)]"
   ]
  },
  {
   "cell_type": "code",
   "execution_count": null,
   "metadata": {},
   "outputs": [],
   "source": [
    "x_columns = feature_lists.all_eye_features + feature_lists.trajectory_features\n",
    "x_columns = [col for col in x_columns if col in pf.x_var_df.columns]"
   ]
  },
  {
   "cell_type": "code",
   "execution_count": null,
   "metadata": {},
   "outputs": [],
   "source": [
    "cur_ff_cluster_columns = [col for col in pf.plan_x_tc.columns if 'cur_ff_cluster' in col]"
   ]
  },
  {
   "cell_type": "code",
   "execution_count": null,
   "metadata": {},
   "outputs": [],
   "source": [
    "curv_columns = [col for col in pf.plan_y_tc.columns if 'curv' in col]\n",
    "pf.plan_x_tc[curv_columns + ['d_heading_of_traj']] = pf.plan_y_tc[curv_columns + ['d_heading_of_traj']].values"
   ]
  },
  {
   "cell_type": "markdown",
   "metadata": {},
   "source": [
    "## Linear regression"
   ]
  },
  {
   "cell_type": "markdown",
   "metadata": {},
   "source": [
    "#### predict monkey vars"
   ]
  },
  {
   "cell_type": "code",
   "execution_count": null,
   "metadata": {},
   "outputs": [],
   "source": [
    "# plan_x_tc = pf.plan_x_tc.copy()\n",
    "# pf.x_var_df, pf.y_var_df = prep_ml_data_utils.make_x_and_y_var_df(plan_x_tc, pf.plan_y_tc, drop_na=True, scale_x_var=True)\n",
    "ml_inst = ml_methods_class.MlMethods()\n",
    "for y_var_column in ['curv_of_traj_before_stop',\n",
    "                    'd_heading_of_traj',\n",
    "                    'diff_in_angle_to_nxt_ff',\n",
    "                    'diff_in_abs_angle_to_nxt_ff',   \n",
    "                    'dir_from_cur_ff_to_stop']:\n",
    "    \n",
    "    print('y_var_column:', y_var_column)\n",
    "    ml_inst.split_and_use_linear_regression(pf.x_var_df, pf.y_var_df[[y_var_column]])\n"
   ]
  },
  {
   "cell_type": "markdown",
   "metadata": {},
   "source": [
    "#### predict ff vars"
   ]
  },
  {
   "cell_type": "code",
   "execution_count": null,
   "metadata": {},
   "outputs": [],
   "source": [
    "plan_x_tc = pf.plan_x_tc[ref_columns + ['d_heading_of_traj'] + curv_columns].copy()\n",
    "pf.x_var_df, pf.y_var_df = prep_ml_data_utils.make_x_and_y_var_df(plan_x_tc, pf.plan_y_tc, drop_na=True, scale_x_var=True)\n",
    "ml_inst = ml_methods_class.MlMethods()\n",
    "for y_var_column in ['nxt_ff_distance_at_ref',\n",
    "                        'nxt_ff_angle_at_ref',\n",
    "                        'angle_from_stop_to_nxt_ff']:\n",
    "    if y_var_column not in pf.y_var_df.columns:\n",
    "        continue\n",
    "    print('y_var_column:', y_var_column)\n",
    "    ml_inst.split_and_use_linear_regression(pf.x_var_df, pf.y_var_df[y_var_column])\n"
   ]
  },
  {
   "cell_type": "markdown",
   "metadata": {},
   "source": [
    "#### specific columns"
   ]
  },
  {
   "cell_type": "code",
   "execution_count": null,
   "metadata": {},
   "outputs": [],
   "source": [
    "specific_columns = [\n",
    "'closer_to_cur_ff_than_nxt_ff_last_disp_earliest_vis_time',\n",
    "'closer_to_cur_ff_than_nxt_ff_rightmost_latest_vis_time',\n",
    "'within_n_cm_to_stop_longest_vis_ff_angle',\n",
    "'nxt_ff_angle_when_nxt_ff_first_seen',\n",
    "# 'nxt_ff_distance_when_nxt_ff_first_seen',\n",
    "'cur_ff_angle_when_cur_ff_first_seen',\n",
    "'cur_ff_distance_when_cur_ff_first_seen',\n",
    "'traj_curv_when_cur_ff_first_seen',\n",
    "# 'nxt_ff_angle_when_nxt_ff_last_seen',\n",
    "# 'traj_curv_when_nxt_ff_last_seen',\n",
    "'traj_curv_when_cur_ff_last_seen'\n",
    "]"
   ]
  },
  {
   "cell_type": "code",
   "execution_count": null,
   "metadata": {},
   "outputs": [],
   "source": [
    "test_or_control = 'control'"
   ]
  },
  {
   "cell_type": "code",
   "execution_count": null,
   "metadata": {},
   "outputs": [],
   "source": [
    "y_var_column = ''"
   ]
  },
  {
   "cell_type": "code",
   "execution_count": null,
   "metadata": {},
   "outputs": [],
   "source": [
    "y_var_column = 'angle_from_stop_to_nxt_ff'\n",
    "\n",
    "#pf.use_lr_on_all(test_or_control=test_or_control, y_var_column=y_var_column)\n",
    "pf.use_lr_on_specific_x_columns(test_or_control=test_or_control, y_var_column=y_var_column,\n",
    "                              specific_x_columns=['nxt_ff_angle_at_ref'])\n",
    "pf.summary_df"
   ]
  },
  {
   "cell_type": "code",
   "execution_count": null,
   "metadata": {},
   "outputs": [],
   "source": [
    "y_var_column = 'angle_from_stop_to_nxt_ff'\n",
    "\n",
    "#pf.use_lr_on_all(test_or_control=test_or_control, y_var_column=y_var_column)\n",
    "pf.use_lr_on_specific_x_columns(test_or_control=test_or_control, y_var_column=y_var_column,\n",
    "                              specific_x_columns=['cur_ff_angle_at_ref', 'nxt_ff_angle_at_ref'])\n",
    "pf.summary_df"
   ]
  },
  {
   "cell_type": "markdown",
   "metadata": {},
   "source": [
    "#### convert continous var to dummy"
   ]
  },
  {
   "cell_type": "code",
   "execution_count": null,
   "metadata": {},
   "outputs": [],
   "source": [
    "y_var_column = 'nxt_ff_distance_at_ref'"
   ]
  },
  {
   "cell_type": "code",
   "execution_count": null,
   "metadata": {},
   "outputs": [],
   "source": [
    "ml_inst = ml_methods_class.MlMethods()\n",
    "for value in np.arange(-1, -0.6, 0.1):\n",
    "    pf.plan_x_tc['dummy'] = 0\n",
    "    pf.plan_x_tc.loc[pf.plan_x_tc['nxt_ff_cluster_100_combd_latest_vis_rel_time'].between(value, 0), 'dummy'] = 1\n",
    "    \n",
    "    ml_inst.split_and_use_linear_regression(x_var_df=pf.plan_x_tc, y_var_df=pf.plan_y_tc[y_var_column])\n",
    "    print('===================================')\n",
    "    print('===================================')\n",
    "    print('value:', value)\n",
    "    print(ml_inst.summary_df.loc['dummy'])\n",
    "    print('===================================')\n",
    "    print('===================================')"
   ]
  },
  {
   "cell_type": "markdown",
   "metadata": {},
   "source": [
    "## do left and right have the same same-side ratio for test and control?"
   ]
  },
  {
   "cell_type": "code",
   "execution_count": null,
   "metadata": {},
   "outputs": [],
   "source": [
    "len(ps.plan_xy_ctrl[ps.plan_xy_ctrl['dir_from_cur_ff_to_stop'] == 1])/len(ps.plan_xy_ctrl)"
   ]
  },
  {
   "cell_type": "code",
   "execution_count": null,
   "metadata": {},
   "outputs": [],
   "source": [
    "len(ps.plan_xy_test[ps.plan_xy_test['dir_from_cur_ff_to_stop'] == 1])/len(ps.plan_xy_test)"
   ]
  },
  {
   "cell_type": "code",
   "execution_count": null,
   "metadata": {},
   "outputs": [],
   "source": [
    "len(ps.plan_xy_ctrl[ps.plan_xy_ctrl['dir_from_cur_ff_same_side'] == 1])/len(ps.plan_xy_ctrl)"
   ]
  },
  {
   "cell_type": "code",
   "execution_count": null,
   "metadata": {},
   "outputs": [],
   "source": [
    "len(ps.plan_xy_test[ps.plan_xy_test['dir_from_cur_ff_same_side'] == 1])/len(ps.plan_xy_test)"
   ]
  },
  {
   "cell_type": "markdown",
   "metadata": {},
   "source": [
    "# CCA"
   ]
  },
  {
   "cell_type": "code",
   "execution_count": null,
   "metadata": {},
   "outputs": [],
   "source": [
    "cca_inst.X1_loading.shape[1]"
   ]
  },
  {
   "cell_type": "code",
   "execution_count": null,
   "metadata": {},
   "outputs": [],
   "source": [
    "cca_inst.X2_loading.shape[1]"
   ]
  },
  {
   "cell_type": "code",
   "execution_count": null,
   "metadata": {},
   "outputs": [],
   "source": [
    "cca_inst.X1_loading_df"
   ]
  },
  {
   "cell_type": "code",
   "execution_count": null,
   "metadata": {},
   "outputs": [],
   "source": [
    "# Define data and scaler\n",
    "from sklearn.cross_decomposition import CCA\n",
    "\n",
    "scaler = StandardScaler()\n",
    "\n",
    "X1 = pf.plan_x_tc[x_columns + cur_ff_cluster_columns]\n",
    "X2 = pf.plan_y_tc[['nxt_ff_distance_at_ref',\n",
    "                        'nxt_ff_angle_at_ref',]].copy()\n",
    "\n",
    "#X2 = osf.only_cur_ff_df[['d_heading_of_traj']].copy()\n",
    "\n",
    "X1.drop(columns=['data_name', 'stop_point_index'], inplace=True, errors='ignore')\n",
    "\n",
    "cca_inst = cca_class.CCAclass(X1=X1, X2=X2, lagging_included=False)\n",
    "cca_inst.conduct_cca(reg=0.01)\n",
    "cca_inst.plot_ranked_loadings(X1_or_X2='X1', squared=False)\n",
    "\n",
    "\n",
    "# avg_x_loadings, avg_y_loadings, avg_canon_corrs = cca_utils.run_cca(X1, X2, n_comp=2, n_splits=5, show_plots=False)\n",
    "\n",
    "# cca_plotting.plot_x_loadings(avg_x_loadings, avg_canon_corrs, X1)\n",
    "\n"
   ]
  },
  {
   "cell_type": "markdown",
   "metadata": {},
   "source": [
    "# PCA"
   ]
  },
  {
   "cell_type": "code",
   "execution_count": null,
   "metadata": {},
   "outputs": [],
   "source": [
    "pf.use_lr_on_all(test_or_control=None, y_var_column=y_var_column, use_pca=True)\n",
    "pf.summary_df.head(10)"
   ]
  },
  {
   "cell_type": "code",
   "execution_count": null,
   "metadata": {},
   "outputs": [],
   "source": [
    "# Create a DataFrame of loadings\n",
    "loadings = pf.pca.components_\n",
    "feature_names = pf.original_x_var_df.columns\n",
    "column_names = [f'x{i}' for i in range(loadings.shape[0])]\n",
    "pca_loadings_df = pd.DataFrame(loadings.T, columns=column_names, index=feature_names)"
   ]
  },
  {
   "cell_type": "code",
   "execution_count": null,
   "metadata": {},
   "outputs": [],
   "source": [
    "# show explained variance\n",
    "\n",
    "sorted_result = pf.summary_df[pf.summary_df['p_value'] <= 0.05].sort_values(by='Coefficient', ascending=False).copy()\n",
    "for i in range(10):\n",
    "    print('i:', i)\n",
    "    sorted_result_row = sorted_result.iloc[i]\n",
    "    pca_x = sorted_result_row.name\n",
    "    if pca_x == 'const':\n",
    "        continue\n",
    "    #column = pca_loadings_df.columns[i]\n",
    "    print('pca_x:', pca_x)\n",
    "    print('sorted_result_row:', sorted_result_row)\n",
    "    print(pca_loadings_df[pca_x].sort_values(ascending=False).head(50))\n",
    "    #print(df_loadings[column].sort_values(ascending=False).tail(5))"
   ]
  },
  {
   "cell_type": "code",
   "execution_count": null,
   "metadata": {},
   "outputs": [],
   "source": [
    "pf.summary_df[pf.summary_df['p_value'] <= 0.05].sort_values(by='Coefficient', ascending=False)"
   ]
  },
  {
   "cell_type": "code",
   "execution_count": null,
   "metadata": {},
   "outputs": [],
   "source": [
    "specific_columns = [column for column in pf.summary_df.index if 'nxt_ff_cluster_100' in column]"
   ]
  },
  {
   "cell_type": "code",
   "execution_count": null,
   "metadata": {},
   "outputs": [],
   "source": [
    "pf.summary_df.loc('cur_ff_cluster_100_combd_latest_vis_time_before_stop')"
   ]
  },
  {
   "cell_type": "code",
   "execution_count": null,
   "metadata": {},
   "outputs": [],
   "source": [
    "pf.summary_df.head(50)"
   ]
  },
  {
   "cell_type": "code",
   "execution_count": null,
   "metadata": {},
   "outputs": [],
   "source": [
    "pf.plan_x_tc['whether_test']"
   ]
  },
  {
   "cell_type": "code",
   "execution_count": null,
   "metadata": {},
   "outputs": [],
   "source": [
    "pf.summary_df.loc['dummy'] # both"
   ]
  },
  {
   "cell_type": "code",
   "execution_count": null,
   "metadata": {},
   "outputs": [],
   "source": [
    "features = [column for column in pf.summary_df.index if 'latest_vis_time_before_stop' in column]"
   ]
  },
  {
   "cell_type": "code",
   "execution_count": null,
   "metadata": {},
   "outputs": [],
   "source": [
    "pf.summary_df.loc[features] # control"
   ]
  },
  {
   "cell_type": "code",
   "execution_count": null,
   "metadata": {},
   "outputs": [],
   "source": [
    "pf.plan_x_tc[pf.plan_x_tc['nxt_ff_cluster_100_combd_latest_vis_rel_time'].between(-1, 0)]"
   ]
  },
  {
   "cell_type": "code",
   "execution_count": null,
   "metadata": {},
   "outputs": [],
   "source": [
    "sns.histplot(pf.plan_x_tc['nxt_ff_cluster_100_combd_latest_vis_rel_time'], binrange=(-5, 5))\n",
    "plt.show()"
   ]
  },
  {
   "cell_type": "code",
   "execution_count": null,
   "metadata": {},
   "outputs": [],
   "source": [
    "pf.summary_df.loc['nxt_ff_cluster_100_combd_latest_vis_rel_time'] # test"
   ]
  },
  {
   "cell_type": "markdown",
   "metadata": {},
   "source": [
    "## non-linearity"
   ]
  },
  {
   "cell_type": "code",
   "execution_count": null,
   "metadata": {},
   "outputs": [],
   "source": [
    "import numpy as np\n",
    "import pandas as pd\n",
    "import statsmodels.api as sm\n",
    "from sklearn.preprocessing import PolynomialFeatures\n",
    "\n",
    "# Assuming X_train and y_train are your features and target variable\n",
    "poly = PolynomialFeatures(degree=2, include_bias=False)\n",
    "X_poly = poly.fit_transform(pf.x_var_df)\n",
    "\n",
    "# Convert to DataFrame for better handling\n",
    "X_poly_df = pd.DataFrame(X_poly, columns=poly.get_feature_names_out())\n"
   ]
  },
  {
   "cell_type": "code",
   "execution_count": null,
   "metadata": {},
   "outputs": [],
   "source": [
    "pf.x_var_df = X_poly_df.copy()"
   ]
  },
  {
   "cell_type": "code",
   "execution_count": null,
   "metadata": {},
   "outputs": [],
   "source": [
    "pf.y_var_df.reset_index(drop=True, inplace=True)"
   ]
  },
  {
   "cell_type": "code",
   "execution_count": null,
   "metadata": {},
   "outputs": [],
   "source": [
    "ml_inst = ml_methods_class.MlMethods()\n",
    "ml_inst.split_and_use_linear_regression(y_var_name=y_var_column)"
   ]
  },
  {
   "cell_type": "code",
   "execution_count": null,
   "metadata": {},
   "outputs": [],
   "source": [
    "ml_inst.summary_df"
   ]
  },
  {
   "cell_type": "code",
   "execution_count": null,
   "metadata": {},
   "outputs": [],
   "source": [
    "ml_inst.summary_df_all"
   ]
  },
  {
   "cell_type": "markdown",
   "metadata": {},
   "source": [
    "## vif"
   ]
  },
  {
   "cell_type": "code",
   "execution_count": null,
   "metadata": {},
   "outputs": [],
   "source": [
    "pd.set_option('display.max_colwidth', None)"
   ]
  },
  {
   "cell_type": "code",
   "execution_count": null,
   "metadata": {},
   "outputs": [],
   "source": [
    "pf.vif_df[pf.vif_df['feature']=='dummy']"
   ]
  },
  {
   "cell_type": "code",
   "execution_count": null,
   "metadata": {},
   "outputs": [],
   "source": [
    "pf.vif_df.iloc[:30]"
   ]
  },
  {
   "cell_type": "markdown",
   "metadata": {},
   "source": [
    "## heatmap"
   ]
  },
  {
   "cell_type": "code",
   "execution_count": null,
   "metadata": {},
   "outputs": [],
   "source": [
    "specific_columns = [column for column in pf.vif_df['feature'].values if 'ff_angle' in column]"
   ]
  },
  {
   "cell_type": "code",
   "execution_count": null,
   "metadata": {},
   "outputs": [],
   "source": [
    "specific_columns = [column for column in pf.vif_df['feature'].values if 'better_angle_than_nxt_ff' in column]"
   ]
  },
  {
   "cell_type": "code",
   "execution_count": null,
   "metadata": {},
   "outputs": [],
   "source": [
    "specific_columns = [column for column in pf.vif_df['feature'].values if 'cur_ff_cluster_100' in column]\n"
   ]
  },
  {
   "cell_type": "code",
   "execution_count": null,
   "metadata": {},
   "outputs": [],
   "source": [
    "ml_inst.show_correlation_heatmap(specific_columns=None)"
   ]
  },
  {
   "cell_type": "markdown",
   "metadata": {},
   "source": [
    "## neural network"
   ]
  },
  {
   "cell_type": "code",
   "execution_count": null,
   "metadata": {},
   "outputs": [],
   "source": [
    "ml_inst.use_neural_network()"
   ]
  },
  {
   "cell_type": "markdown",
   "metadata": {},
   "source": [
    "# Data summary"
   ]
  },
  {
   "cell_type": "code",
   "execution_count": null,
   "metadata": {},
   "outputs": [],
   "source": [
    "heading_info_df = ps.test_heading_info_df.copy()"
   ]
  },
  {
   "cell_type": "code",
   "execution_count": null,
   "metadata": {},
   "outputs": [],
   "source": [
    "heading_info_df = ps.ctrl_heading_info_df.copy()"
   ]
  },
  {
   "cell_type": "code",
   "execution_count": null,
   "metadata": {},
   "outputs": [],
   "source": [
    "heading_info_df[['cur_ff_angle_at_ref', 'nxt_ff_angle_at_ref', 'd_heading_of_traj', 'cur_opt_arc_d_heading']] = heading_info_df[['cur_ff_angle_at_ref', 'nxt_ff_angle_at_ref', 'd_heading_of_traj', 'cur_opt_arc_d_heading']]*180/math.pi"
   ]
  },
  {
   "cell_type": "code",
   "execution_count": null,
   "metadata": {},
   "outputs": [],
   "source": [
    "(pf.plan_x_tc[['cur_ff_angle_at_ref', 'nxt_ff_angle_at_ref']]*180/math.pi).describe()"
   ]
  },
  {
   "cell_type": "markdown",
   "metadata": {},
   "source": [
    "### Diff vs diff in abs"
   ]
  },
  {
   "cell_type": "code",
   "execution_count": null,
   "metadata": {},
   "outputs": [],
   "source": [
    "sns.histplot(pf.plan_y_tc['diff_in_angle_to_nxt_ff'], color='blue', alpha=0.4, binrange=(-75, 75), label='diff_in_angle_to_nxt_ff')\n",
    "sns.histplot(pf.plan_y_tc['diff_in_abs_angle_to_nxt_ff'], color='orange', alpha=0.4, binrange=(-75, 75), label='diff_in_abs_angle_to_nxt_ff')\n",
    "plt.legend()\n",
    "plt.show()"
   ]
  },
  {
   "cell_type": "markdown",
   "metadata": {},
   "source": [
    "### take out nxt ff angle to the right at ref\n",
    "\n",
    " filtering the dataset to only include trials where the next firefly (nxt_ff) is positioned to the right of the monkey at the reference point, to see if monkey is biased to any direction"
   ]
  },
  {
   "cell_type": "code",
   "execution_count": null,
   "metadata": {},
   "outputs": [],
   "source": [
    "plan_x_tc = pf.plan_x_tc.copy()\n",
    "plan_y_tc = pf.plan_y_tc.copy()\n",
    "plan_x_tc['unique_id'] = np.arange(len(plan_x_tc))\n",
    "plan_y_tc['unique_id'] = np.arange(len(plan_x_tc))"
   ]
  },
  {
   "cell_type": "code",
   "execution_count": null,
   "metadata": {},
   "outputs": [],
   "source": [
    "plan_x_sub = plan_x_tc[plan_x_tc['nxt_ff_angle_at_ref'] < 0].copy().sort_values(by='unique_id')\n",
    "plan_y_sub = plan_y_tc[plan_y_tc['unique_id'].isin(plan_x_sub['unique_id'])].sort_values(by='unique_id')"
   ]
  },
  {
   "cell_type": "code",
   "execution_count": null,
   "metadata": {},
   "outputs": [],
   "source": [
    "print('ratio of trials where nxt ff is to the right of the monkey at ref:', round(plan_x_sub.shape[0] / pf.plan_x_tc.shape[0], 2)\n",
    "      )"
   ]
  },
  {
   "cell_type": "code",
   "execution_count": null,
   "metadata": {},
   "outputs": [],
   "source": [
    "(plan_y_sub[['diff_in_angle_to_nxt_ff', 'diff_in_abs_angle_to_nxt_ff']]).describe()"
   ]
  },
  {
   "cell_type": "code",
   "execution_count": null,
   "metadata": {},
   "outputs": [],
   "source": [
    "heading_sub = pf.heading_info_df[pf.heading_info_df['nxt_ff_angle_at_ref'] < 0].copy()"
   ]
  },
  {
   "cell_type": "code",
   "execution_count": null,
   "metadata": {},
   "outputs": [],
   "source": [
    "# control\n",
    "heading_sub[['diff_in_angle_to_nxt_ff', 'diff_in_abs_angle_to_nxt_ff', 'cur_ff_angle_at_ref', 'nxt_ff_angle_at_ref', 'angle_from_stop_to_nxt_ff', 'angle_opt_cur_end_to_nxt_ff']].describe()"
   ]
  },
  {
   "cell_type": "code",
   "execution_count": null,
   "metadata": {},
   "outputs": [],
   "source": [
    "# test\n",
    "heading_sub[['diff_in_angle_to_nxt_ff', 'diff_in_abs_angle_to_nxt_ff', 'cur_ff_angle_at_ref', 'nxt_ff_angle_at_ref', 'angle_from_stop_to_nxt_ff', 'angle_opt_cur_end_to_nxt_ff']].describe()"
   ]
  },
  {
   "cell_type": "code",
   "execution_count": null,
   "metadata": {},
   "outputs": [],
   "source": [
    "# control\n",
    "heading_info_df = build_factor_comp.process_heading_info_df(pf.ctrl_inst.heading_info_df)\n",
    "heading_info_df[['diff_in_angle_to_nxt_ff', 'diff_in_abs_angle_to_nxt_ff', 'cur_ff_angle_at_ref', 'nxt_ff_angle_at_ref', 'angle_from_stop_to_nxt_ff', 'angle_opt_cur_end_to_nxt_ff']].describe()"
   ]
  },
  {
   "cell_type": "code",
   "execution_count": null,
   "metadata": {},
   "outputs": [],
   "source": [
    "# test\n",
    "heading_info_df = build_factor_comp.process_heading_info_df(pf.test_inst.heading_info_df)\n",
    "heading_info_df[['diff_in_angle_to_nxt_ff', 'diff_in_abs_angle_to_nxt_ff', 'cur_ff_angle_at_ref', 'nxt_ff_angle_at_ref', 'angle_from_stop_to_nxt_ff', 'angle_opt_cur_end_to_nxt_ff']].describe()"
   ]
  },
  {
   "cell_type": "code",
   "execution_count": null,
   "metadata": {},
   "outputs": [],
   "source": [
    "# check only the sub-set of trials where nxt ff is to the right of the monkey at ref\n",
    "heading_info_df = build_factor_comp.process_heading_info_df(pf.ctrl_inst.heading_info_df)\n",
    "heading_sub2 = heading_info_df[heading_info_df['nxt_ff_angle_at_ref'] > 0].copy()\n",
    "heading_sub2[['diff_in_angle_to_nxt_ff', 'diff_in_abs_angle_to_nxt_ff', 'cur_ff_angle_at_ref', 'nxt_ff_angle_at_ref', 'angle_from_stop_to_nxt_ff', 'angle_opt_cur_end_to_nxt_ff']].describe()"
   ]
  },
  {
   "cell_type": "code",
   "execution_count": null,
   "metadata": {},
   "outputs": [],
   "source": [
    "# test\n",
    "heading_info_df = build_factor_comp.process_heading_info_df(pf.test_inst.heading_info_df)\n",
    "heading_sub2 = heading_info_df[heading_info_df['nxt_ff_angle_at_ref'] > 0].copy()\n",
    "heading_sub2[['diff_in_angle_to_nxt_ff', 'diff_in_abs_angle_to_nxt_ff', 'cur_ff_angle_at_ref', 'nxt_ff_angle_at_ref', 'angle_from_stop_to_nxt_ff', 'angle_opt_cur_end_to_nxt_ff']].describe()"
   ]
  },
  {
   "cell_type": "markdown",
   "metadata": {},
   "source": [
    "## histplot of ratios/diff"
   ]
  },
  {
   "cell_type": "code",
   "execution_count": null,
   "metadata": {},
   "outputs": [],
   "source": [
    "# pf.make_plan_y_tc(already_made_ok=True)"
   ]
  },
  {
   "cell_type": "code",
   "execution_count": null,
   "metadata": {},
   "outputs": [],
   "source": [
    "sns.histplot(pf.plan_y_test['ratio_of_angle_to_nxt_ff'], bins=100, binrange=(-20, 20), stat='probability', alpha=0.5, label='test')\n",
    "sns.histplot(pf.plan_y_ctrl['ratio_of_angle_to_nxt_ff'], bins=100, binrange=(-20, 20), stat='probability', alpha=0.5, label='ctrl')\n",
    "plt.legend()\n",
    "plt.show()"
   ]
  },
  {
   "cell_type": "code",
   "execution_count": null,
   "metadata": {},
   "outputs": [],
   "source": [
    "binrange = (-80, 80)\n",
    "sns.histplot(pf.plan_y_test['diff_in_abs_angle_to_nxt_ff'], bins=100, stat='probability', binrange=binrange, alpha=0.5, color='blue', label='test')\n",
    "sns.histplot(pf.plan_y_ctrl['diff_in_abs_angle_to_nxt_ff'], bins=100, stat='probability', binrange=binrange, alpha=0.5, color='orange', label='ctrl')\n",
    "plt.legend()\n",
    "plt.show()"
   ]
  },
  {
   "cell_type": "code",
   "execution_count": null,
   "metadata": {},
   "outputs": [],
   "source": [
    "sns.histplot(pf.plan_y_test['ratio_of_angle_to_nxt_ff'], bins=100, binrange=(-20, 20), stat='probability')\n",
    "sns.histplot(pf.plan_y_ctrl['ratio_of_angle_to_nxt_ff'], bins=100, binrange=(-20, 20), stat='probability')\n",
    "plt.show()"
   ]
  },
  {
   "cell_type": "code",
   "execution_count": null,
   "metadata": {},
   "outputs": [],
   "source": [
    "binrange = (-80, 80)\n",
    "sns.histplot(pf.plan_y_test['diff_in_abs_angle_to_nxt_ff'], bins=100, stat='probability', binrange=binrange, alpha=0.5, label='test')\n",
    "sns.histplot(pf.plan_y_ctrl['diff_in_abs_angle_to_nxt_ff'], bins=100, stat='probability', binrange=binrange, alpha=0.5, label='ctrl')\n",
    "plt.legend()\n",
    "plt.show()"
   ]
  },
  {
   "cell_type": "markdown",
   "metadata": {},
   "source": [
    "## barplots of ratios/diff"
   ]
  },
  {
   "cell_type": "code",
   "execution_count": null,
   "metadata": {},
   "outputs": [],
   "source": [
    "sns.boxplot(pf.plan_y_tc, x='whether_test', y='diff_in_abs_angle_to_nxt_ff')\n",
    "plt.ylim(-80, 80)\n",
    "plt.show()"
   ]
  },
  {
   "cell_type": "code",
   "execution_count": null,
   "metadata": {},
   "outputs": [],
   "source": [
    "sns.boxplot(pf.plan_y_tc, x='whether_test', y='ratio_of_angle_to_nxt_ff')\n",
    "#sns.boxplot(pf.plan_y_ctrl['ratio_of_angle_to_nxt_ff'])\n",
    "plt.ylim(-5, 5)\n",
    "plt.show()"
   ]
  },
  {
   "cell_type": "code",
   "execution_count": null,
   "metadata": {},
   "outputs": [],
   "source": [
    "\n",
    "ratio_stat = pd.concat([pf.plan_y_test['ratio_of_angle_to_nxt_ff'].describe(), pf.plan_y_ctrl['ratio_of_angle_to_nxt_ff'].describe()], axis=1)\n",
    "ratio_stat.columns = ['test_ratio_of_angle_to_nxt_ff', 'ctrl_ratio_of_angle_to_nxt_ff']\n",
    "diff_stat = pd.concat([pf.plan_y_test['diff_in_abs_angle_to_nxt_ff'].describe(), pf.plan_y_ctrl['diff_in_abs_angle_to_nxt_ff'].describe()], axis=1)\n",
    "diff_stat.columns = ['test_diff_in_abs_angle_to_nxt_ff', 'ctrl_diff_in_abs_angle_to_nxt_ff']\n",
    "all_stat = pd.concat([ratio_stat, diff_stat], axis=1)\n",
    "all_stat"
   ]
  },
  {
   "cell_type": "markdown",
   "metadata": {},
   "source": [
    "## polar plot"
   ]
  },
  {
   "cell_type": "code",
   "execution_count": null,
   "metadata": {},
   "outputs": [],
   "source": [
    "gc.collect()"
   ]
  },
  {
   "cell_type": "code",
   "execution_count": null,
   "metadata": {},
   "outputs": [],
   "source": [
    "pf.load_raw_data(raw_data_folder_path=pf.raw_data_folder_path)"
   ]
  },
  {
   "cell_type": "code",
   "execution_count": null,
   "metadata": {},
   "outputs": [],
   "source": [
    "pf.compare_test_and_control_in_plotly_polar_plots(max_instances_each=50, start='stop_point_index', end='next_stop_point_index')"
   ]
  },
  {
   "cell_type": "markdown",
   "metadata": {},
   "source": [
    "## histplot of ff angle at ref"
   ]
  },
  {
   "cell_type": "code",
   "execution_count": null,
   "metadata": {},
   "outputs": [],
   "source": [
    "pf.make_stops_near_ff_and_ff_comparison_dfs(test_or_control='control')\n",
    "both_ff_at_ref_df_ctrl = pf.get_both_ff_at_ref_df()\n",
    "nxt_ff_at_stop_df_ctrl = pf.get_nxt_ff_at_stop_df()"
   ]
  },
  {
   "cell_type": "code",
   "execution_count": null,
   "metadata": {},
   "outputs": [],
   "source": [
    "pf.make_stops_near_ff_and_ff_comparison_dfs(test_or_control='test')\n",
    "pf._find_nxt_ff_df_2_and_cur_ff_df_2_based_on_specific_point_index(all_point_index=pf.cur_ff_df['point_index_ff_first_seen'].values)\n",
    "test_df = pf.get_both_ff_at_ref_df().copy()"
   ]
  },
  {
   "cell_type": "code",
   "execution_count": null,
   "metadata": {},
   "outputs": [],
   "source": [
    "\n",
    "pf.make_stops_near_ff_and_ff_comparison_dfs(test_or_control='control')\n",
    "pf._find_nxt_ff_df_2_and_cur_ff_df_2_based_on_specific_point_index(all_point_index=pf.cur_ff_df['point_index_ff_first_seen'].values)\n",
    "ctrl_df = pf.get_both_ff_at_ref_df().copy()"
   ]
  },
  {
   "cell_type": "code",
   "execution_count": null,
   "metadata": {},
   "outputs": [],
   "source": [
    "# print shape of test_df and ctrl_df\n",
    "print('test_df.shape:', test_df.shape)\n",
    "print('ctrl_df.shape:', ctrl_df.shape)\n",
    "\n",
    "# plot histogram of nxt_ff_angle_at_ref for test_df and ctrl_df\n",
    "sns.histplot(test_df['nxt_ff_angle_at_ref'], stat='probability', binwidth=0.25, alpha=0.5, label='test')\n",
    "sns.histplot(ctrl_df['nxt_ff_angle_at_ref'], stat='probability', binwidth=0.26, alpha=0.5, label='ctrl')\n",
    "plt.legend()\n",
    "plt.show()"
   ]
  },
  {
   "cell_type": "code",
   "execution_count": null,
   "metadata": {},
   "outputs": [],
   "source": [
    "# note: this is based on plan_x_test and plan_x_ctrl, not both_ff_at_ref_df as calculated above\n",
    "print('pf.plan_x_test.shape:', pf.plan_x_test.shape)\n",
    "print('pf.plan_x_ctrl.shape:', pf.plan_x_ctrl.shape)\n",
    "\n",
    "sns.histplot(pf.plan_x_test['nxt_ff_angle_at_ref'], stat='probability', binwidth=0.1, alpha=0.5, label='test')\n",
    "sns.histplot(pf.plan_x_ctrl['nxt_ff_angle_at_ref'], stat='probability', binwidth=0.1, alpha=0.5, label='ctrl')\n",
    "plt.legend()\n",
    "plt.show()"
   ]
  },
  {
   "cell_type": "code",
   "execution_count": null,
   "metadata": {},
   "outputs": [],
   "source": [
    "sns.histplot(test_df['cur_ff_angle_at_ref'], stat='probability', binwidth=0.25, alpha=0.5, label='test')\n",
    "sns.histplot(ctrl_df['cur_ff_angle_at_ref'], stat='probability', binwidth=0.27, alpha=0.5, label='ctrl')\n",
    "plt.legend()\n",
    "plt.show()"
   ]
  },
  {
   "cell_type": "code",
   "execution_count": null,
   "metadata": {},
   "outputs": [],
   "source": [
    "sns.histplot(test_df['cur_ff_distance_at_ref'], stat='probability', binwidth=20, alpha=0.5, label='test')\n",
    "sns.histplot(ctrl_df['cur_ff_distance_at_ref'], stat='probability', binwidth=21, alpha=0.5, label='ctrl')\n",
    "plt.legend()\n",
    "plt.show()"
   ]
  },
  {
   "cell_type": "code",
   "execution_count": null,
   "metadata": {},
   "outputs": [],
   "source": [
    "sns.histplot(test_df['nxt_ff_distance_at_ref'], stat='probability', binwidth=20, alpha=0.5, label='test')\n",
    "sns.histplot(ctrl_df['nxt_ff_distance_at_ref'], stat='probability', binwidth=20, alpha=0.5, label='ctrl')\n",
    "plt.legend()\n",
    "plt.show()"
   ]
  },
  {
   "cell_type": "code",
   "execution_count": null,
   "metadata": {},
   "outputs": [],
   "source": [
    "stop!"
   ]
  },
  {
   "cell_type": "markdown",
   "metadata": {},
   "source": [
    "# Remake heading_info_df"
   ]
  },
  {
   "cell_type": "code",
   "execution_count": null,
   "metadata": {},
   "outputs": [],
   "source": [
    "ref_point_mode = 'time after cur ff visible'\n",
    "ref_point_value = 0.1"
   ]
  },
  {
   "cell_type": "code",
   "execution_count": null,
   "metadata": {},
   "outputs": [],
   "source": [
    "ref_point_mode = 'distance'\n",
    "ref_point_value = -100"
   ]
  },
  {
   "cell_type": "code",
   "execution_count": null,
   "metadata": {},
   "outputs": [],
   "source": [
    "gc.collect()"
   ]
  },
  {
   "cell_type": "code",
   "execution_count": null,
   "metadata": {},
   "outputs": [],
   "source": [
    "# ref_point_mode = 'distance'\n",
    "# ref_point_value = -150\n",
    "\n",
    "ref_point_mode = 'time after cur ff visible'\n",
    "ref_point_value = 0.1\n",
    "monkey_name='monkey_Schro'\n",
    "\n",
    "ps = monkey_plan_factors_x_sess_class.PlanAcrossSessions(monkey_name=monkey_name)\n",
    "sp = show_planning_class.ShowPlanning(monkey_name=monkey_name)\n",
    "ps.test_heading_info_df, ps.ctrl_heading_info_df = sp.make_or_retrieve_combd_heading_df_x_sessions_from_both_test_and_control(ref_point_mode, ref_point_value, combd_heading_df_x_sessions_exists_ok=True,\n",
    "                                                                show_printed_output=True, heading_info_df_exists_ok=True,\n",
    "                                                                stops_near_ff_df_exists_ok=False)\n",
    "\n",
    "ps.process_both_heading_info_df()     \n",
    "\n",
    "\n",
    "#column_for_split = 'nxt_ff_last_flash_time_bbas'\n",
    "#column_for_split = 'nxt_ff_cluster_last_flash_time_bbas'\n",
    "#column_for_split = 'NXT_time_ff_last_seen_bbas'\n",
    "column_for_split = 'nxt_ff_cluster_last_seen_time_bbas'\n",
    "test_and_ctrl_heading_info_df = pd.concat([ps.test_heading_info_df, ps.ctrl_heading_info_df[ps.test_heading_info_df.columns]], axis=0)\n",
    "ps.ctrl_heading_info_df = test_and_ctrl_heading_info_df[test_and_ctrl_heading_info_df[column_for_split].isnull()].copy()\n",
    "ps.test_heading_info_df = test_and_ctrl_heading_info_df[~test_and_ctrl_heading_info_df[column_for_split].isnull()].copy()\n",
    "\n",
    "\n",
    "\n",
    "ps.filter_both_heading_info_df(max_curv_range=150)\n",
    "test_df = ps.test_heading_info_df.copy()\n",
    "ctrl_df = ps.ctrl_heading_info_df.copy()\n",
    "diff_and_ratio_stat_df = show_planning_utils.make_diff_and_ratio_stat_df(test_df, ctrl_df)\n",
    "print(diff_and_ratio_stat_df)"
   ]
  },
  {
   "cell_type": "markdown",
   "metadata": {},
   "source": [
    "## compare distributions"
   ]
  },
  {
   "cell_type": "code",
   "execution_count": null,
   "metadata": {},
   "outputs": [],
   "source": [
    "sns.histplot(test_df['nxt_ff_distance_at_ref'], stat='probability', binwidth=10, alpha=0.5, color='blue')\n",
    "sns.histplot(ctrl_df['nxt_ff_distance_at_ref'], stat='probability', binwidth=10, alpha=0.5, color='green')\n",
    "plt.show()"
   ]
  },
  {
   "cell_type": "code",
   "execution_count": null,
   "metadata": {},
   "outputs": [],
   "source": [
    "sns.histplot(test_df['nxt_ff_angle_at_ref'], stat='probability', binwidth=0.2, alpha=0.5, color='blue')\n",
    "sns.histplot(ctrl_df['nxt_ff_angle_at_ref'], stat='probability', binwidth=0.2, alpha=0.5, color='green')\n",
    "plt.show()"
   ]
  },
  {
   "cell_type": "code",
   "execution_count": null,
   "metadata": {},
   "outputs": [],
   "source": [
    "sns.histplot(test_df['next_stop_time']-test_df['stop_time'], stat='probability', binwidth=0.1, alpha=0.5, color='blue')\n",
    "sns.histplot(ctrl_df['next_stop_time']-ctrl_df['stop_time'], stat='probability', binwidth=0.1, alpha=0.5, color='green')\n",
    "plt.xlim([0, 10])\n",
    "plt.show()"
   ]
  },
  {
   "cell_type": "code",
   "execution_count": null,
   "metadata": {},
   "outputs": [],
   "source": [
    "sns.histplot(test_df['next_stop_point_index']-test_df['stop_point_index'], stat='probability', binwidth=10, alpha=0.5, color='blue')\n",
    "sns.histplot(ctrl_df['next_stop_point_index']-ctrl_df['stop_point_index'], stat='probability', binwidth=10, alpha=0.5, color='green')\n",
    "plt.xlim([0, 1000])\n",
    "plt.show()"
   ]
  },
  {
   "cell_type": "code",
   "execution_count": null,
   "metadata": {},
   "outputs": [],
   "source": [
    "sns.histplot(test_df['cum_distance_between_two_stops'], stat='probability', alpha=0.5, color='blue', binwidth=25)\n",
    "sns.histplot(ctrl_df['cum_distance_between_two_stops'], stat='probability', alpha=0.5, color='green', binwidth=24)\n",
    "plt.xlim([0, 700])\n",
    "plt.show()"
   ]
  },
  {
   "cell_type": "code",
   "execution_count": null,
   "metadata": {},
   "outputs": [],
   "source": [
    "len(test_df[~test_df['nxt_ff_cluster_last_flash_time_bbas'].isnull()])/len(test_df)"
   ]
  },
  {
   "cell_type": "code",
   "execution_count": null,
   "metadata": {},
   "outputs": [],
   "source": [
    "len(ctrl_df[~ctrl_df['nxt_ff_cluster_last_flash_time_bbas'].isnull()])/len(ctrl_df)"
   ]
  },
  {
   "cell_type": "code",
   "execution_count": null,
   "metadata": {},
   "outputs": [],
   "source": [
    "len(test_df[~test_df['nxt_ff_cluster_last_flash_time_bsans'].isnull()])/len(test_df)"
   ]
  },
  {
   "cell_type": "code",
   "execution_count": null,
   "metadata": {},
   "outputs": [],
   "source": [
    "len(ctrl_df[~ctrl_df['nxt_ff_cluster_last_flash_time_bsans'].isnull()])/len(ctrl_df)"
   ]
  },
  {
   "cell_type": "markdown",
   "metadata": {},
   "source": [
    "# Others"
   ]
  },
  {
   "cell_type": "markdown",
   "metadata": {},
   "source": [
    "## check ff vs ff cluster"
   ]
  },
  {
   "cell_type": "code",
   "execution_count": null,
   "metadata": {},
   "outputs": [],
   "source": [
    "ff_column = 'nxt_ff_last_seen_rel_time_bbas'\n",
    "cluster_column = 'nxt_ff_cluster_last_seen_rel_time_bbas'\n",
    "df = pf.test_inst.shared_stops_near_ff_df\n",
    "\n",
    "find_cvn_utils.check_ff_vs_cluster(df, ff_column, cluster_column)"
   ]
  },
  {
   "cell_type": "code",
   "execution_count": null,
   "metadata": {},
   "outputs": [],
   "source": [
    "ff_column = 'NXT_time_ff_last_seen_bbas'\n",
    "cluster_column = 'nxt_ff_last_flash_time_bbas'\n",
    "\n",
    "find_cvn_utils.check_ff_vs_cluster(df, ff_column, cluster_column)"
   ]
  },
  {
   "cell_type": "code",
   "execution_count": null,
   "metadata": {},
   "outputs": [],
   "source": [
    "ff_column = 'nxt_ff_cluster_last_seen_time_bbas'\n",
    "cluster_column = 'nxt_ff_cluster_last_flash_time_bbas'\n",
    "\n",
    "find_cvn_utils.check_ff_vs_cluster(df, ff_column, cluster_column)"
   ]
  },
  {
   "cell_type": "code",
   "execution_count": null,
   "metadata": {},
   "outputs": [],
   "source": [
    "len_subset = len(df[(df[ff_column].isnull()) & (~df[cluster_column].isnull())])\n",
    "print(f'There are {len_subset} rows where {ff_column} is null but {cluster_column} is not null out of {len(df)} rows')"
   ]
  },
  {
   "cell_type": "code",
   "execution_count": null,
   "metadata": {},
   "outputs": [],
   "source": [
    "df = test_and_ctrl_heading_info_df\n",
    "df[(df[ff_column].isnull()) & (~df[cluster_column].isnull())][['nxt_ff_distance_at_ref', 'nxt_ff_angle_at_ref']].describe()"
   ]
  },
  {
   "cell_type": "code",
   "execution_count": null,
   "metadata": {},
   "outputs": [],
   "source": [
    "df[['nxt_ff_distance_at_ref', 'nxt_ff_angle_at_ref']].describe()"
   ]
  },
  {
   "cell_type": "markdown",
   "metadata": {},
   "source": [
    "## see traj_curv"
   ]
  },
  {
   "cell_type": "code",
   "execution_count": null,
   "metadata": {},
   "outputs": [],
   "source": [
    "gc.collect()"
   ]
  },
  {
   "cell_type": "code",
   "execution_count": null,
   "metadata": {},
   "outputs": [],
   "source": [
    "current_index = 2"
   ]
  },
  {
   "cell_type": "code",
   "execution_count": null,
   "metadata": {},
   "outputs": [],
   "source": [
    "for index, row in dc.stops_near_ff_df_counted.iterrows():\n",
    "    if index > current_index:\n",
    "        current_index += 1\n",
    "    else:\n",
    "        continue\n",
    "    dc.stops_near_ff_row = row\n",
    "    dc.stop_point_index = row.stop_point_index\n",
    "    dc._prepare_to_make_plotly_fig_for_dash_given_stop_point_index(dc.stop_point_index)\n",
    "    dc._further_prepare_plotting_info_for_the_duration()\n",
    "    dc.fig = dc._produce_fig_for_dash()\n",
    "    dc.fig.show()\n",
    "\n",
    "    duration = [row['stop_time'], row['next_stop_time']]\n",
    "    curv_sub = dc.curv_of_traj_df[dc.curv_of_traj_df['time'].between(*duration)].copy()\n",
    "    plt.scatter(curv_sub['time'], curv_sub['curv_of_traj'] * 180/math.pi)\n",
    "    plt.show()\n",
    "\n",
    "    if index == current_index + 10:\n",
    "        break"
   ]
  },
  {
   "cell_type": "markdown",
   "metadata": {},
   "source": [
    "## Experiment on evening out angles"
   ]
  },
  {
   "cell_type": "code",
   "execution_count": null,
   "metadata": {},
   "outputs": [],
   "source": [
    "ref_point_mode = 'distance'\n",
    "ref_point_value = -150\n",
    "monkey_name = 'monkey_Bruno'\n",
    "\n",
    "ps = monkey_plan_factors_x_sess_class.PlanAcrossSessions(monkey_name=monkey_name)\n",
    "sp = show_planning_class.ShowPlanning(monkey_name=monkey_name)\n",
    "ps.test_heading_info_df, ps.ctrl_heading_info_df = sp.make_or_retrieve_combd_heading_df_x_sessions_from_both_test_and_control(ref_point_mode, ref_point_value, combd_heading_df_x_sessions_exists_ok=True,\n",
    "                                                                show_printed_output=True, heading_info_df_exists_ok=False,\n",
    "                                                                stops_near_ff_df_exists_ok=False)\n",
    "ps.process_both_heading_info_df()\n",
    "\n",
    "#column_for_split = 'nxt_ff_last_flash_time_bbas'\n",
    "#column_for_split = 'nxt_ff_cluster_last_flash_time_bbas'\n",
    "#column_for_split = 'NXT_time_ff_last_seen_bbas'\n",
    "column_for_split = 'nxt_ff_cluster_last_seen_time_bbas'\n",
    "test_and_ctrl_heading_info_df = pd.concat([ps.test_heading_info_df, ps.ctrl_heading_info_df[ps.test_heading_info_df.columns]], axis=0)\n",
    "ps.ctrl_heading_info_df = test_and_ctrl_heading_info_df[test_and_ctrl_heading_info_df[column_for_split].isnull()].copy()\n",
    "ps.test_heading_info_df = test_and_ctrl_heading_info_df[~test_and_ctrl_heading_info_df[column_for_split].isnull()].copy()\n",
    "\n",
    "\n",
    "\n",
    "ps.filter_both_heading_info_df(max_curv_range=150)\n",
    "test_df = ps.test_heading_info_df.copy()\n",
    "ctrl_df = ps.ctrl_heading_info_df.copy()\n",
    "diff_and_ratio_stat_df = show_planning_utils.make_diff_and_ratio_stat_df(test_df, ctrl_df)\n",
    "print(diff_and_ratio_stat_df)"
   ]
  },
  {
   "cell_type": "code",
   "execution_count": null,
   "metadata": {},
   "outputs": [],
   "source": [
    "ps.ctrl_heading_info_df.shape"
   ]
  },
  {
   "cell_type": "code",
   "execution_count": null,
   "metadata": {},
   "outputs": [],
   "source": [
    "ps.ctrl_heading_info_df"
   ]
  },
  {
   "cell_type": "code",
   "execution_count": null,
   "metadata": {},
   "outputs": [],
   "source": [
    "\n",
    "\n",
    "diff_and_ratio_stat_df = show_planning_utils.make_diff_and_ratio_stat_df(ps.test_heading_info_df, ps.ctrl_heading_info_df)\n",
    "print(diff_and_ratio_stat_df)"
   ]
  },
  {
   "cell_type": "code",
   "execution_count": null,
   "metadata": {},
   "outputs": [],
   "source": [
    "sns.histplot(ps.test_heading_info_df['cur_ff_angle_at_ref'], stat='probability', binwidth=0.1, alpha=0.5, color='blue')\n",
    "sns.histplot(ps.ctrl_heading_info_df['cur_ff_angle_at_ref'], stat='probability', binwidth=0.1, alpha=0.5, color='orange')\n",
    "plt.show()"
   ]
  },
  {
   "cell_type": "code",
   "execution_count": null,
   "metadata": {},
   "outputs": [],
   "source": [
    "sns.histplot(ps.test_heading_info_df['nxt_ff_distance_at_ref'], stat='probability', binwidth=10, alpha=0.5, color='blue')\n",
    "sns.histplot(ps.ctrl_heading_info_df['nxt_ff_distance_at_ref'], stat='probability', binwidth=10, alpha=0.5, color='orange')\n",
    "plt.show()"
   ]
  },
  {
   "cell_type": "code",
   "execution_count": null,
   "metadata": {},
   "outputs": [],
   "source": [
    "sns.histplot(ps.test_heading_info_df['nxt_ff_angle_at_ref'], stat='probability', binwidth=0.2, alpha=0.5, color='blue')\n",
    "sns.histplot(ps.ctrl_heading_info_df['nxt_ff_angle_at_ref'], stat='probability', binwidth=0.2, alpha=0.5, color='orange')\n",
    "plt.show()"
   ]
  },
  {
   "cell_type": "code",
   "execution_count": null,
   "metadata": {},
   "outputs": [],
   "source": [
    "y1 = 'test_diff_in_abs_angle_to_nxt_ff'\n",
    "y2 = 'ctrl_diff_in_abs_angle_to_nxt_ff'"
   ]
  },
  {
   "cell_type": "markdown",
   "metadata": {},
   "source": [
    "## Other features examined in the past"
   ]
  },
  {
   "cell_type": "code",
   "execution_count": null,
   "metadata": {},
   "outputs": [],
   "source": [
    "['num_closer_than_nxt_ff_to_stop', 'num_ff_visible_later_than_nxt_ff_before_stop',\n",
    "'num_ff_within_n_cm_to_stop', 'nxt_ff_cluster_size',\n",
    "'cur_ff_cluster_size']"
   ]
  }
 ],
 "metadata": {
  "kernelspec": {
   "display_name": "ff_venv2",
   "language": "python",
   "name": "python3"
  },
  "language_info": {
   "codemirror_mode": {
    "name": "ipython",
    "version": 3
   },
   "file_extension": ".py",
   "mimetype": "text/x-python",
   "name": "python",
   "nbconvert_exporter": "python",
   "pygments_lexer": "ipython3",
   "version": "3.11.11"
  }
 },
 "nbformat": 4,
 "nbformat_minor": 2
}
