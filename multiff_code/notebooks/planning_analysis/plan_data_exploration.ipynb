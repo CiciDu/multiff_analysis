{
 "cells": [
  {
   "cell_type": "markdown",
   "metadata": {},
   "source": [
    "# Install packages"
   ]
  },
  {
   "cell_type": "markdown",
   "metadata": {},
   "source": [
    "# Import packages"
   ]
  },
  {
   "cell_type": "code",
   "execution_count": null,
   "metadata": {},
   "outputs": [],
   "source": [
    "%load_ext autoreload\n",
    "%autoreload 2\n",
    "\n",
    "from pathlib import Path\n",
    "import os, sys\n",
    "for p in [Path.cwd()] + list(Path.cwd().parents):\n",
    "    if p.name == 'Multifirefly-Project':\n",
    "        os.chdir(p)\n",
    "        sys.path.insert(0, str(p / 'multiff_analysis/multiff_code/methods'))\n",
    "        break\n",
    "\n",
    "import sys\n",
    "\n",
    "\n",
    "from data_wrangling import specific_utils, process_monkey_information, base_processing_class, combine_info_utils\n",
    "from pattern_discovery import pattern_by_trials, pattern_by_points, make_ff_dataframe, ff_dataframe_utils, pattern_by_trials, pattern_by_points, cluster_analysis, organize_patterns_and_features, category_class, cluster_analysis\n",
    "from decision_making_analysis.decision_making import decision_making_class, decision_making_utils, plot_decision_making, intended_targets_classes\n",
    "from decision_making_analysis.GUAT import GUAT_helper_class, GUAT_collect_info_class, GUAT_combine_info_class, process_GUAT_trials_class, GUAT_and_TAFT\n",
    "from decision_making_analysis import free_selection, replacement, trajectory_info\n",
    "from null_behaviors import show_null_trajectory, find_best_arc, curvature_utils, curvature_class, curv_of_traj_utils\n",
    "from machine_learning.ml_methods import regression_utils, classification_utils, prep_ml_data_utils, hyperparam_tuning_class\n",
    "from machine_learning.RL.env_related import env_for_lstm, env_utils, base_env, collect_agent_data_utils\n",
    "from machine_learning.RL.lstm import GRU_functions, LSTM_functions\n",
    "from machine_learning.RL.SB3 import interpret_neural_network, sb3_for_multiff_class, rl_for_multiff_utils, SB3_functions\n",
    "from visualization.matplotlib_tools import plot_trials, plot_polar, additional_plots, plot_behaviors_utils, plot_statistics, monkey_heading_utils\n",
    "from visualization.animation import animation_func, animation_utils, animation_class\n",
    "from planning_analysis.test_params_for_planning import params_test_combos_class, params_utils\n",
    "from visualization.plotly_tools import plotly_for_monkey, plotly_for_time_series, plotly_preparation, plotly_for_correlation\n",
    "from visualization.dash_tools import dash_prep_class, dash_utils, dash_utils, dash_comparison_class, dash_params_class\n",
    "from visualization.dash_tools.dash_main_class_methods import dash_main_class\n",
    "from neural_data_analysis.neural_analysis_tools.get_neural_data import neural_data_processing\n",
    "from neural_data_analysis.neural_analysis_tools.visualize_neural_data import plot_neural_data, plot_modeling_result\n",
    "from neural_data_analysis.neural_analysis_tools.model_neural_data import transform_vars, neural_data_modeling, drop_high_corr_vars, drop_high_vif_vars\n",
    "from neural_data_analysis.topic_based_neural_analysis.neural_vs_behavioral import prep_monkey_data, prep_target_data, neural_vs_behavioral_class\n",
    "from neural_data_analysis.topic_based_neural_analysis.planning_and_neural import planning_and_neural_class, pn_utils\n",
    "from planning_analysis.plan_factors import plan_factors_utils, build_factor_comp, plan_factors_class, monkey_plan_factors_x_sess_class\n",
    "from planning_analysis.show_planning import nxt_ff_utils, show_planning_class, show_planning_utils\n",
    "from planning_analysis.plan_indicators import plan_indicator_utils\n",
    "from planning_analysis.show_planning.cur_vs_nxt_ff import cvn_helper_class, find_cvn_utils, plot_cvn_class, plot_cvn_utils, plot_monkey_heading_helper_class, cvn_from_ref_class\n",
    "from visualization.dash_tools.dash_main_class_methods import dash_main_helper_class, dash_main_class\n",
    "from neural_data_analysis.neural_analysis_tools.visualize_neural_data import raster_and_fr_plot_in_plotly\n",
    "\n",
    "from importlib import reload\n",
    "from eye_position_analysis import eye_positions\n",
    "import os, sys\n",
    "import numpy as np\n",
    "import matplotlib\n",
    "import matplotlib.pyplot as plt\n",
    "from matplotlib import cm\n",
    "from os.path import exists\n",
    "import seaborn as sns\n",
    "import math\n",
    "import copy\n",
    "import matplotlib.pyplot as plt\n",
    "import pandas as pd\n",
    "import torch\n",
    "import torch.nn as nn\n",
    "import torch.optim as optim\n",
    "import tqdm\n",
    "import itertools\n",
    "import plotly.express as px\n",
    "import gc\n",
    "from scipy.stats import rankdata\n",
    "from scipy import stats\n",
    "from IPython.display import HTML\n",
    "from matplotlib import rc\n",
    "from sklearn.model_selection import train_test_split\n",
    "from sklearn.preprocessing import OneHotEncoder\n",
    "from sklearn.datasets import make_multilabel_classification\n",
    "from sklearn.model_selection import train_test_split\n",
    "from sklearn.multioutput import MultiOutputClassifier\n",
    "from sklearn.neighbors import KNeighborsClassifier\n",
    "from sklearn.metrics import accuracy_score, hamming_loss, multilabel_confusion_matrix, fbeta_score, precision_score, recall_score\n",
    "from sklearn.svm import SVC\n",
    "from sklearn.tree import DecisionTreeClassifier\n",
    "from sklearn.ensemble import AdaBoostClassifier, RandomForestClassifier, VotingClassifier, BaggingClassifier, GradientBoostingClassifier\n",
    "from sklearn.neural_network import MLPClassifier\n",
    "from sklearn.linear_model import LinearRegression\n",
    "from sklearn.neighbors import KNeighborsRegressor, KNeighborsClassifier\n",
    "from sklearn.naive_bayes import GaussianNB\n",
    "from sklearn.linear_model import LogisticRegression\n",
    "from math import pi\n",
    "from scipy.ndimage import gaussian_filter1d\n",
    "from statsmodels.graphics.tsaplots import plot_acf\n",
    "import warnings\n",
    "import os, sys, sys\n",
    "from sklearn.exceptions import ConvergenceWarning\n",
    "import plotly.graph_objects as go\n",
    "\n",
    "plt.rcParams[\"animation.html\"] = \"html5\"\n",
    "os.environ['KMP_DUPLICATE_LIB_OK']='True'\n",
    "rc('animation', html='jshtml')\n",
    "matplotlib.rcParams.update(matplotlib.rcParamsDefault)\n",
    "matplotlib.rcParams['animation.embed_limit'] = 2**128\n",
    "pd.set_option('display.float_format', lambda x: '%.5f' % x)\n",
    "np.set_printoptions(suppress=True)\n",
    "pd.options.display.max_rows = 101"
   ]
  },
  {
   "cell_type": "code",
   "execution_count": null,
   "metadata": {},
   "outputs": [],
   "source": [
    "data_item = None\n",
    "raw_data_folder_path = \"all_monkey_data/raw_monkey_data/monkey_Bruno/data_0312\""
   ]
  },
  {
   "cell_type": "markdown",
   "metadata": {},
   "source": [
    "# SNF (stops near ff)"
   ]
  },
  {
   "cell_type": "markdown",
   "metadata": {},
   "source": [
    "## run class"
   ]
  },
  {
   "cell_type": "code",
   "execution_count": null,
   "metadata": {},
   "outputs": [],
   "source": [
    "normalize = False\n",
    "eliminate_outliers = False\n",
    "use_curv_to_ff_center = False\n",
    "curv_of_traj_mode = 'distance'\n",
    "window_for_curv_of_traj=[-25, 0]\n",
    "raw_data_folder_path = \"all_monkey_data/raw_monkey_data/monkey_Bruno/data_0330\"\n",
    "\n",
    "#data_item_info = find_cvn_utils.extract_key_info_from_data_item_for_stops_near_ff_class(data_item)\n",
    "\n",
    "snf = cvn_from_ref_class.CurVsNxtFfFromRefClass(raw_data_folder_path=raw_data_folder_path)\n",
    "snf.get_more_monkey_data()\n",
    "snf.traj_curv_descr = 'Traj Curv: From Current Point to Right Before Stop'\n",
    "\n",
    "\n",
    "snf.streamline_organizing_info(ref_point_mode='distance', ref_point_value=-150, \n",
    "                              #ref_point_mode='time after cur ff visible', ref_point_value=0.1, \n",
    "                               curv_of_traj_mode=curv_of_traj_mode, window_for_curv_of_traj=window_for_curv_of_traj, truncate_curv_of_traj_by_time_of_capture=True,\n",
    "                               use_curv_to_ff_center=use_curv_to_ff_center,  eliminate_outliers=eliminate_outliers,\n",
    "                               stops_near_ff_df_exists_ok=True)\n",
    "\n",
    "snf.ax_for_corr = snf.find_relationships_from_info(normalize=normalize, show_plot=True)\n",
    "snf.prepare_to_plot_stops_near_ff()"
   ]
  },
  {
   "cell_type": "code",
   "execution_count": null,
   "metadata": {},
   "outputs": [],
   "source": [
    "# debug\n",
    "snf.prepare_to_plot_stops_near_ff()"
   ]
  },
  {
   "cell_type": "markdown",
   "metadata": {},
   "source": [
    "## visualize"
   ]
  },
  {
   "cell_type": "markdown",
   "metadata": {},
   "source": [
    "### matplotlib"
   ]
  },
  {
   "cell_type": "code",
   "execution_count": null,
   "metadata": {},
   "outputs": [],
   "source": [
    "current_i = 0"
   ]
  },
  {
   "cell_type": "code",
   "execution_count": null,
   "metadata": {},
   "outputs": [],
   "source": [
    "current_i = snf.make_individual_plots_for_stops_near_ff_in_mpl(current_i, max_num_plot_to_make = 1)"
   ]
  },
  {
   "cell_type": "markdown",
   "metadata": {},
   "source": [
    "### show eye positions"
   ]
  },
  {
   "cell_type": "code",
   "execution_count": null,
   "metadata": {},
   "outputs": [],
   "source": [
    "current_i = 10"
   ]
  },
  {
   "cell_type": "code",
   "execution_count": null,
   "metadata": {},
   "outputs": [],
   "source": [
    "additional_plotting_kwargs={'show_connect_path_ff_specific_indices': None, 'show_ff_indices': True,\n",
    "                            'show_eye_positions':True,\n",
    "                            'show_eye_positions_for_both_eyes':True,\n",
    "                            'show_connect_path_eye_positions': True}\n",
    "current_i = snf.make_individual_plots_for_stops_near_ff_in_mpl(current_i, max_num_plot_to_make=3, \n",
    "                                      additional_plotting_kwargs=additional_plotting_kwargs,\n",
    "                                      show_position_in_scatter_plot=False)"
   ]
  },
  {
   "cell_type": "markdown",
   "metadata": {},
   "source": [
    "### plotly"
   ]
  },
  {
   "cell_type": "code",
   "execution_count": null,
   "metadata": {},
   "outputs": [],
   "source": [
    "snf.prepare_to_plot_stops_near_ff()"
   ]
  },
  {
   "cell_type": "code",
   "execution_count": null,
   "metadata": {},
   "outputs": [],
   "source": [
    "current_i = 2\n",
    "snf.make_PlotTrials_args()"
   ]
  },
  {
   "cell_type": "code",
   "execution_count": null,
   "metadata": {},
   "outputs": [],
   "source": [
    "current_i = snf.make_individual_plots_for_stops_near_ff_in_plotly(current_i, max_num_plot_to_make=1, \n",
    "                                             show_eye_positions_for_both_eyes=True)"
   ]
  },
  {
   "cell_type": "markdown",
   "metadata": {},
   "source": [
    "## other plots"
   ]
  },
  {
   "cell_type": "markdown",
   "metadata": {},
   "source": [
    "### see a distribution of how long before the stop did both become visible"
   ]
  },
  {
   "cell_type": "code",
   "execution_count": null,
   "metadata": {},
   "outputs": [],
   "source": [
    "earliest_time_point_both_visible = snf.monkey_information.loc[snf.stops_near_ff_df['earlest_point_index_when_nxt_ff_and_cur_ff_have_both_been_seen_bbas'], 'time'].values\n",
    "duration_till_stop = snf.stops_near_ff_df['stop_time'].values - earliest_time_point_both_visible\n",
    "sns.histplot(duration_till_stop, bins=100)\n",
    "plt.show()\n"
   ]
  },
  {
   "cell_type": "markdown",
   "metadata": {},
   "source": [
    "### percentage"
   ]
  },
  {
   "cell_type": "code",
   "execution_count": null,
   "metadata": {},
   "outputs": [],
   "source": [
    "snf._make_info_based_on_monkey_angle()"
   ]
  },
  {
   "cell_type": "code",
   "execution_count": null,
   "metadata": {},
   "outputs": [],
   "source": [
    "(snf.info_based_on_monkey_angle_before_stop['dir_from_cur_ff_to_stop']==snf.info_based_on_monkey_angle_before_stop['dir_from_cur_ff_to_nxt_ff']).sum()/len(snf.stops_near_ff_df)"
   ]
  },
  {
   "cell_type": "markdown",
   "metadata": {},
   "source": [
    "# Dash"
   ]
  },
  {
   "cell_type": "markdown",
   "metadata": {},
   "source": [
    "## main"
   ]
  },
  {
   "cell_type": "code",
   "execution_count": null,
   "metadata": {},
   "outputs": [],
   "source": [
    "reload(dash_main_helper_class)\n",
    "reload(plotly_for_time_series)"
   ]
  },
  {
   "cell_type": "code",
   "execution_count": null,
   "metadata": {},
   "outputs": [],
   "source": [
    "opt_arc_type = 'norm_opt_arc'\n",
    "\n",
    "raw_data_folder_path = \"all_monkey_data/raw_monkey_data/monkey_Bruno/data_0330\"\n",
    "\n",
    "# ref_point_params = {'ref_point_mode': 'distance',\n",
    "#                     'ref_point_value': -150}\n",
    "\n",
    "ref_point_params = {'ref_point_mode': 'time after cur ff visible',\n",
    "                    'ref_point_value': 0.0}\n",
    "\n",
    "curv_of_traj_params = {'curv_of_traj_mode': 'distance',\n",
    "                        'window_for_curv_of_traj': [-25, 0],\n",
    "                        'truncate_curv_of_traj_by_time_of_capture': False}\n",
    "\n",
    "overall_params = {'eliminate_outliers': True,\n",
    "                  'use_curv_to_ff_center': False,\n",
    "                  'normalize': False,\n",
    "                  'remove_i_o_modify_rows_with_big_ff_angles': True,\n",
    "                  'change_units_to_degrees_per_m': True,\n",
    "                  'heading_instead_of_curv': True}  \n",
    "\n",
    "monkey_plot_params = {\n",
    "    \"show_visible_fireflies\": True,\n",
    "    \"show_in_memory_fireflies\": False,\n",
    "    \"show_monkey_heading\": False,\n",
    "    \"show_visible_segments\": True,\n",
    "    \"show_traj_portion\": False,\n",
    "    \"show_null_arcs_to_ff\": True,\n",
    "    \"show_extended_traj_arc\": False,\n",
    "    \"show_stops\": True,\n",
    "    \"show_all_eye_positions\": False,\n",
    "    \"show_current_eye_positions\": False,\n",
    "    \"show_eye_positions_for_both_eyes\": True,\n",
    "    \"show_traj_color_as_speed\":False,\n",
    "    \n",
    "}\n",
    "\n",
    "time_series_plot_params = {\n",
    "    \"use_two_y_axes\": False,\n",
    "    \"show_nxt_ff_curv_in_time_series_plot\": True,\n",
    "    \"show_cur_ff_curv_in_time_series_plot\": True,\n",
    "    \"show_d_curv_to_nxt_ff\": True,\n",
    "    \"show_angle_to_nxt_ff\": True\n",
    "}\n",
    "\n",
    "                     \n",
    "dc = dash_main_class.DashMainPlots(raw_data_folder_path=raw_data_folder_path, opt_arc_type=opt_arc_type)\n",
    "\n",
    "dc.prepare_to_make_dash_for_main_plots(monkey_plot_params=monkey_plot_params,\n",
    "                                        time_series_plot_params=time_series_plot_params,\n",
    "                                        ref_point_params=ref_point_params,\n",
    "                                        curv_of_traj_params=curv_of_traj_params,\n",
    "                                        overall_params=overall_params,\n",
    "                                        stop_point_index=46627\n",
    "                                        )\n",
    "\n",
    "#dc.fig.show()\n",
    "#dc.fig_time_series_combd.show()\n"
   ]
  },
  {
   "cell_type": "code",
   "execution_count": null,
   "metadata": {},
   "outputs": [],
   "source": [
    "dc.make_dash_for_main_plots(show_trajectory_time_series=True)"
   ]
  },
  {
   "cell_type": "markdown",
   "metadata": {},
   "source": [
    "### clean up"
   ]
  },
  {
   "cell_type": "code",
   "execution_count": null,
   "metadata": {},
   "outputs": [],
   "source": [
    "# dc.app.server.shutdown()\n",
    "\n",
    "import gc\n",
    "\n",
    "# Now we're done with the data, so we can delete it and run the garbage collector.\n",
    "del dc.app\n",
    "gc.collect()"
   ]
  },
  {
   "cell_type": "markdown",
   "metadata": {},
   "source": [
    "### just figs from dash"
   ]
  },
  {
   "cell_type": "code",
   "execution_count": null,
   "metadata": {},
   "outputs": [],
   "source": [
    "for index, row in dc.stops_near_ff_df_counted.iterrows():\n",
    "    dc.stops_near_ff_row = row\n",
    "    dc.stop_point_index = row.stop_point_index\n",
    "    dc._prepare_to_make_plotly_fig_for_dash_given_stop_point_index(dc.stop_point_index)\n",
    "    dc.fig = dc._produce_fig_for_dash()\n",
    "    dc.fig.show()\n",
    "\n",
    "    if index == 2:\n",
    "        break\n"
   ]
  },
  {
   "cell_type": "markdown",
   "metadata": {},
   "source": [
    "## exp"
   ]
  },
  {
   "cell_type": "code",
   "execution_count": null,
   "metadata": {},
   "outputs": [],
   "source": [
    "reload(raster_and_fr_plot_in_plotly)\n",
    "reload(neural_data_processing)"
   ]
  },
  {
   "cell_type": "code",
   "execution_count": null,
   "metadata": {},
   "outputs": [],
   "source": [
    "dc._create_raster_plot_figure()"
   ]
  },
  {
   "cell_type": "code",
   "execution_count": null,
   "metadata": {},
   "outputs": [],
   "source": [
    "dc._create_firing_rate_plot_figure()"
   ]
  },
  {
   "cell_type": "code",
   "execution_count": null,
   "metadata": {},
   "outputs": [],
   "source": [
    "dc.monkey_plot_params['show_visible_segments'] = True\n",
    "dc.fig_time_series_s, dc.fig_time_series_cm = dc._produce_fig_time_series(use_two_y_axes=True)"
   ]
  },
  {
   "cell_type": "code",
   "execution_count": null,
   "metadata": {},
   "outputs": [],
   "source": [
    "dc._show_d_curv_to_nxt_ff_in_time_series_plot_func()\n",
    "dc._show_angle_to_nxt_ff_in_time_series()"
   ]
  },
  {
   "cell_type": "code",
   "execution_count": null,
   "metadata": {},
   "outputs": [],
   "source": [
    "dc.fig_time_series_s"
   ]
  },
  {
   "cell_type": "code",
   "execution_count": null,
   "metadata": {},
   "outputs": [],
   "source": [
    "dc.fig_time_series_s.update_layout(\n",
    "        width=1200,\n",
    "        height=600,\n",
    "        margin={'l': 60, 'b': 30, 't': 90, 'r': 60},\n",
    "    )"
   ]
  },
  {
   "cell_type": "code",
   "execution_count": null,
   "metadata": {},
   "outputs": [],
   "source": [
    "dc.current_plotly_key_comp = plotly_preparation.prepare_to_plot_a_planning_instance_in_plotly(\n",
    "    dc.stops_near_ff_row, dc.PlotTrials_args, dc.monkey_plot_params)\n",
    "\n",
    "_ = dc._produce_initial_plots()"
   ]
  },
  {
   "cell_type": "markdown",
   "metadata": {},
   "source": [
    "# hyperparameter tuning"
   ]
  },
  {
   "cell_type": "markdown",
   "metadata": {},
   "source": [
    "The current calculation of curv_r/heading_r needs to be updated.\n",
    "\n",
    "Also, the operation is currently only based on one monkey session."
   ]
  },
  {
   "cell_type": "code",
   "execution_count": null,
   "metadata": {},
   "outputs": [],
   "source": [
    "stop!"
   ]
  },
  {
   "cell_type": "code",
   "execution_count": null,
   "metadata": {},
   "outputs": [],
   "source": [
    "# Potential hyperparameters:\n",
    "\n",
    "# below can be changed to:\n",
    "ref_point_mode = 'time' # or 'distance'\n",
    "ref_point_value = -100 \n",
    "\n",
    "#window_for_curv_of_traj=[-25, 0]\n",
    "curv_of_traj_mode = 'distance'\n",
    "curv_of_traj_lower_end = -25\n",
    "curv_of_traj_upper_end = 25\n",
    "truncate_curv_of_traj_by_time_of_capture=False,\n",
    "eliminate_outliers=True\n",
    "use_curv_to_ff_center=False"
   ]
  },
  {
   "cell_type": "markdown",
   "metadata": {},
   "source": [
    "## get tested_combo_df"
   ]
  },
  {
   "cell_type": "code",
   "execution_count": null,
   "metadata": {},
   "outputs": [],
   "source": [
    "raw_data_folder_path = \"all_monkey_data/raw_monkey_data/monkey_Bruno/data_0322\"\n",
    "ptc = params_test_combos_class.ParamsTestCombos(raw_data_folder_path=raw_data_folder_path)\n",
    "ptc.generate_all_combo_df() \n",
    "# save ptc.tested_combo_df into a csv file\n",
    "tested_combo_df = ptc.test_all_set_of_hyperparameters(sample_size=1000)\n",
    "tested_combo_df.to_csv(os.path.join(raw_data_folder_path, 'planning_hyperparameters_df.csv'))"
   ]
  },
  {
   "cell_type": "code",
   "execution_count": null,
   "metadata": {},
   "outputs": [],
   "source": [
    "raw_data_folder_path = 'all_monkey_data/raw_monkey_data/monkey_Bruno/data_0312'"
   ]
  },
  {
   "cell_type": "code",
   "execution_count": null,
   "metadata": {},
   "outputs": [],
   "source": [
    "tested_combo_df = pd.read_csv(os.path.join(raw_data_folder_path, 'planning_hyperparameters_df.csv'))"
   ]
  },
  {
   "cell_type": "markdown",
   "metadata": {},
   "source": [
    "## inspection"
   ]
  },
  {
   "cell_type": "code",
   "execution_count": null,
   "metadata": {},
   "outputs": [],
   "source": [
    "# # take out the subset where the r value is above 2 std of shuffled r values and see what's going on in each\n",
    "tested_combo_df['shuffled_curv_r_mean_plus_2_std'] = tested_combo_df['shuffled_curv_r_mean'] + tested_combo_df['shuffled_curv_r_std']*2\n",
    "sub_df = tested_combo_df[tested_combo_df['curv_r'] > tested_combo_df['shuffled_curv_r_mean_plus_2_std']]\n",
    "sub_df"
   ]
  },
  {
   "cell_type": "code",
   "execution_count": null,
   "metadata": {},
   "outputs": [],
   "source": [
    "# take out the subset where the r value is above 2 std of shuffled r value and see what's going on in each\n",
    "tested_combo_df['shuffled_heading_r_mean_plus_2_std'] = tested_combo_df['shuffled_heading_r_mean'] + tested_combo_df['shuffled_heading_r_std']*2\n",
    "sub_df = tested_combo_df[tested_combo_df['heading_r'] > tested_combo_df['shuffled_heading_r_mean_plus_2_std']].copy()\n",
    "sub_df"
   ]
  },
  {
   "cell_type": "markdown",
   "metadata": {},
   "source": [
    "## same Mode or Different: Which Is Better?\n",
    "\n",
    "Explore whether using the same measurement mode (e.g., time or distance) for both ref_point_mode and curv_of_traj_mode affects the results. "
   ]
  },
  {
   "cell_type": "code",
   "execution_count": null,
   "metadata": {},
   "outputs": [],
   "source": [
    "params_utils.process_tested_combo_df(tested_combo_df)"
   ]
  },
  {
   "cell_type": "code",
   "execution_count": null,
   "metadata": {},
   "outputs": [],
   "source": [
    "tested_combo_df['ref_point_mode_short'] = tested_combo_df['ref_point_mode'].apply(lambda x: x.split(' ')[0])\n",
    "tested_combo_df['curv_of_traj_mode_short'] = tested_combo_df['curv_of_traj_mode'].apply(lambda x: x.split(' ')[0])\n",
    "tested_combo_df['same_mode'] = tested_combo_df['ref_point_mode_short'] == tested_combo_df['curv_of_traj_mode_short']"
   ]
  },
  {
   "cell_type": "code",
   "execution_count": null,
   "metadata": {},
   "outputs": [],
   "source": [
    "tested_combo_df.sort_values(by='curv_r_z_score', ascending=False)[['same_mode', 'curv_r_z_score', 'use_curv_to_ff_center']].head(20)"
   ]
  },
  {
   "cell_type": "code",
   "execution_count": null,
   "metadata": {},
   "outputs": [],
   "source": [
    "tested_combo_df.sort_values(by='heading_r_z_score', ascending=False)[['same_mode', 'heading_r_z_score', 'use_curv_to_ff_center']].head(20)"
   ]
  },
  {
   "cell_type": "markdown",
   "metadata": {},
   "source": [
    "# Scatterplot for heading_info_df"
   ]
  },
  {
   "cell_type": "code",
   "execution_count": null,
   "metadata": {},
   "outputs": [],
   "source": [
    "normalize = False\n",
    "eliminate_outliers = False\n",
    "use_curv_to_ff_center = False\n",
    "\n",
    "# oh...curv_of_traj doesn't matter if we're only looking at heading. \n",
    "# but we can def play around with the hyperparameters for ref_point\n",
    "curv_of_traj_mode = 'specific index'\n",
    "curv_of_traj_mode = 'distance'\n",
    "window_for_curv_of_traj = [-25, 0]\n",
    "\n",
    "# data_item_info = find_cvn_utils.extract_key_info_from_data_item_for_stops_near_ff_class(data_item)\n",
    "\n",
    "snf = cvn_from_ref_class.CurVsNxtFfFromRefClass(raw_data_folder_path=raw_data_folder_path)\n",
    "snf.get_more_monkey_data()\n",
    "snf.traj_curv_descr = 'Traj Curv: From Current Point to Right Before Stop'\n",
    "\n",
    "snf.streamline_organizing_info(ref_point_mode='distance', ref_point_value=-150, \n",
    "                               curv_of_traj_mode=curv_of_traj_mode, window_for_curv_of_traj=window_for_curv_of_traj,\n",
    "                               truncate_curv_of_traj_by_time_of_capture=False,\n",
    "                               use_curv_to_ff_center=use_curv_to_ff_center,  eliminate_outliers=eliminate_outliers)\n",
    "snf.ax_for_corr = snf.find_relationships_from_info(normalize=normalize, show_plot=True)\n",
    "#snf.get_null_arc_info_for_counted_points(use_fixed_arc_length=False)"
   ]
  },
  {
   "cell_type": "markdown",
   "metadata": {},
   "source": [
    "## normal"
   ]
  },
  {
   "cell_type": "code",
   "execution_count": null,
   "metadata": {},
   "outputs": [],
   "source": [
    "snf._make_cur_and_nxt_ff_from_ref_df()\n",
    "snf.retrieve_or_make_heading_info_df()"
   ]
  },
  {
   "cell_type": "code",
   "execution_count": null,
   "metadata": {},
   "outputs": [],
   "source": [
    "ang_traj_nxt, ang_cur_nxt, heading_info_df_no_na = show_planning_utils.get_ang_traj_nxt_and_ang_cur_nxt(snf.heading_info_df.copy())"
   ]
  },
  {
   "cell_type": "code",
   "execution_count": null,
   "metadata": {},
   "outputs": [],
   "source": [
    "# ang_traj_nxt, ang_cur_nxt, heading_info_df_no_na = show_planning_utils.get_ang_traj_nxt_and_ang_cur_nxt(dsp.combd_heading_df_x_sessions.copy())"
   ]
  },
  {
   "cell_type": "code",
   "execution_count": null,
   "metadata": {},
   "outputs": [],
   "source": [
    "slope, intercept, r_value, p_value, results = show_planning_utils.conduct_linear_regression_to_show_planning(ang_traj_nxt, ang_cur_nxt, fit_intercept=True)\n",
    "slope, intercept, r_value, p_value, results = show_planning_utils.conduct_linear_regression_to_show_planning(ang_traj_nxt, ang_cur_nxt, fit_intercept=True, omit_outliers=True)\n",
    "slope, intercept, r_value, p_value, results = show_planning_utils.conduct_linear_regression_to_show_planning(ang_traj_nxt, ang_cur_nxt, fit_intercept=False)\n",
    "slope, intercept, r_value, p_value, results = show_planning_utils.conduct_linear_regression_to_show_planning(ang_traj_nxt, ang_cur_nxt, fit_intercept=False, omit_outliers=True)"
   ]
  },
  {
   "cell_type": "markdown",
   "metadata": {},
   "source": [
    "## Q13 only"
   ]
  },
  {
   "cell_type": "code",
   "execution_count": null,
   "metadata": {},
   "outputs": [],
   "source": [
    "slope, intercept, r_value, p_value, results = show_planning_utils.conduct_linear_regression_to_show_planning(ang_traj_nxt, ang_cur_nxt, q13_only=True, fit_intercept=True)\n",
    "slope, intercept, r_value, p_value, results = show_planning_utils.conduct_linear_regression_to_show_planning(ang_traj_nxt, ang_cur_nxt, q13_only=True, fit_intercept=True, omit_outliers=True)\n",
    "slope, intercept, r_value, p_value, results = show_planning_utils.conduct_linear_regression_to_show_planning(ang_traj_nxt, ang_cur_nxt, q13_only=True, fit_intercept=False)\n",
    "slope, intercept, r_value, p_value, results = show_planning_utils.conduct_linear_regression_to_show_planning(ang_traj_nxt, ang_cur_nxt, q13_only=True, fit_intercept=False, omit_outliers=True)"
   ]
  },
  {
   "cell_type": "markdown",
   "metadata": {},
   "source": [
    "## Abs value"
   ]
  },
  {
   "cell_type": "code",
   "execution_count": null,
   "metadata": {},
   "outputs": [],
   "source": [
    "slope, intercept, r_value, p_value, results = show_planning_utils.conduct_linear_regression_to_show_planning(ang_traj_nxt, ang_cur_nxt, use_abs_values=True, fit_intercept=True)\n",
    "slope, intercept, r_value, p_value, results = show_planning_utils.conduct_linear_regression_to_show_planning(ang_traj_nxt, ang_cur_nxt, use_abs_values=True, fit_intercept=True, omit_outliers=True)\n",
    "slope, intercept, r_value, p_value, results = show_planning_utils.conduct_linear_regression_to_show_planning(ang_traj_nxt, ang_cur_nxt, use_abs_values=True, fit_intercept=False)\n",
    "slope, intercept, r_value, p_value, results = show_planning_utils.conduct_linear_regression_to_show_planning(ang_traj_nxt, ang_cur_nxt, use_abs_values=True, fit_intercept=False, omit_outliers=True)"
   ]
  },
  {
   "cell_type": "markdown",
   "metadata": {},
   "source": [
    "# Diff in distance (compare test and ctrl)"
   ]
  },
  {
   "cell_type": "code",
   "execution_count": null,
   "metadata": {},
   "outputs": [],
   "source": [
    "snf.make_stops_near_ff_and_ff_comparison_dfs_test(exists_ok=True)\n",
    "snf.make_stops_near_ff_and_ff_comparison_dfs_ctrl(exists_ok=True)"
   ]
  },
  {
   "cell_type": "code",
   "execution_count": null,
   "metadata": {},
   "outputs": [],
   "source": [
    "snf.stops_near_ff_df_test['d_from_cur_ff_to_nxt_ff'].max()"
   ]
  },
  {
   "cell_type": "code",
   "execution_count": null,
   "metadata": {},
   "outputs": [],
   "source": [
    "sns.histplot(snf.stops_near_ff_df_test['d_from_cur_ff_to_nxt_ff'], binwidth=20, stat='density', alpha=0.5, color='orange')\n",
    "sns.histplot(snf.stops_near_ff_df_ctrl['d_from_cur_ff_to_nxt_ff'], binwidth=20, stat='density', alpha=0.5, color='blue')\n",
    "plt.show()\n"
   ]
  },
  {
   "cell_type": "markdown",
   "metadata": {},
   "source": [
    "# Experiment on curv"
   ]
  },
  {
   "cell_type": "markdown",
   "metadata": {},
   "source": [
    "I wanted to see why the r value of the shuffled data is still so high...\n",
    "\n",
    "I realized that traj and stop already have a very high correlation; in fact, traj - alt and stop - alt has a lower correlation but not by much. Therefore, no matter how alt gets shuffled, there's still gonna be correlation that remains. \n",
    "\n",
    "I guess this is the difficulty associated with looking for correlation between difference of vars."
   ]
  },
  {
   "cell_type": "markdown",
   "metadata": {},
   "source": [
    "### corr of diff between vars "
   ]
  },
  {
   "cell_type": "code",
   "execution_count": null,
   "metadata": {},
   "outputs": [],
   "source": [
    "cur_ff_counted_df = dc.cur_ff_counted_df.copy()\n",
    "nxt_ff_counted_df = dc.nxt_ff_counted_df.copy()\n",
    "# also make a copy of nxt_ff_counted_df and shuffle it\n",
    "nxt_ff_counted_df2 = dc.nxt_ff_counted_df.copy()\n",
    "nxt_ff_counted_df2[['cntr_arc_curv', 'opt_arc_curv']] = nxt_ff_counted_df2[['cntr_arc_curv', 'opt_arc_curv']].sample(frac=1).values\n",
    "\n",
    "alt = nxt_ff_counted_df['cntr_arc_curv'].values\n",
    "alt2 = nxt_ff_counted_df2['cntr_arc_curv'].values\n",
    "traj = nxt_ff_counted_df['curv_of_traj'].values\n",
    "stop = cur_ff_counted_df['cntr_arc_curv'].values"
   ]
  },
  {
   "cell_type": "code",
   "execution_count": null,
   "metadata": {},
   "outputs": [],
   "source": [
    "def show_relationships(x, y):\n",
    "    sns.scatterplot(x=x, y=y)\n",
    "    slope, intercept, r_value, p_value, std_err = stats.linregress(x, y)\n",
    "    print('slope:', slope)\n",
    "    print('r_value:', r_value)\n",
    "    return "
   ]
  },
  {
   "cell_type": "code",
   "execution_count": null,
   "metadata": {},
   "outputs": [],
   "source": [
    "x = traj-alt\n",
    "y = stop-alt\n",
    "show_relationships(x, y)"
   ]
  },
  {
   "cell_type": "code",
   "execution_count": null,
   "metadata": {},
   "outputs": [],
   "source": [
    "x = traj\n",
    "y = stop-alt\n",
    "show_relationships(x, y)"
   ]
  },
  {
   "cell_type": "code",
   "execution_count": null,
   "metadata": {},
   "outputs": [],
   "source": [
    "x = traj-alt2\n",
    "y = stop-alt\n",
    "show_relationships(x, y)"
   ]
  },
  {
   "cell_type": "code",
   "execution_count": null,
   "metadata": {},
   "outputs": [],
   "source": [
    "x = traj\n",
    "y = stop\n",
    "show_relationships(x, y)"
   ]
  },
  {
   "cell_type": "code",
   "execution_count": null,
   "metadata": {},
   "outputs": [],
   "source": [
    "x = stop\n",
    "y = alt\n",
    "show_relationships(x, y)"
   ]
  },
  {
   "cell_type": "markdown",
   "metadata": {},
   "source": [
    "### corr of vars"
   ]
  },
  {
   "cell_type": "code",
   "execution_count": null,
   "metadata": {},
   "outputs": [],
   "source": [
    "dc.fig_time_series_combd"
   ]
  },
  {
   "cell_type": "code",
   "execution_count": null,
   "metadata": {},
   "outputs": [],
   "source": [
    "sns.histplot(stop - traj)\n",
    "sns.histplot(alt - traj)"
   ]
  },
  {
   "cell_type": "code",
   "execution_count": null,
   "metadata": {},
   "outputs": [],
   "source": [
    "sns.scatterplot(x=traj, y=stop)\n",
    "slope, intercept, r_value, p_value, std_err = stats.linregress(traj, stop)\n",
    "print('slope:', slope)\n",
    "print('r_value:', r_value)"
   ]
  },
  {
   "cell_type": "code",
   "execution_count": null,
   "metadata": {},
   "outputs": [],
   "source": [
    "sns.scatterplot(x=traj, y=alt)\n",
    "slope, intercept, r_value, p_value, std_err = stats.linregress(traj, alt)\n",
    "print('slope:', slope)\n",
    "print('r_value:', r_value)\n"
   ]
  },
  {
   "cell_type": "code",
   "execution_count": null,
   "metadata": {},
   "outputs": [],
   "source": [
    "sns.scatterplot(x=traj, y=alt2)\n",
    "slope, intercept, r_value, p_value, std_err = stats.linregress(traj, alt2)\n",
    "print('slope:', slope)\n",
    "print('r_value:', r_value)"
   ]
  },
  {
   "cell_type": "code",
   "execution_count": null,
   "metadata": {},
   "outputs": [],
   "source": [
    "sns.scatterplot(x=traj, y=alt)\n",
    "sns.scatterplot(x=stop, y=alt)\n",
    "plt.show()"
   ]
  },
  {
   "cell_type": "markdown",
   "metadata": {},
   "source": [
    "# Other plots"
   ]
  },
  {
   "cell_type": "markdown",
   "metadata": {},
   "source": [
    "## compare 3 heading"
   ]
  },
  {
   "cell_type": "code",
   "execution_count": null,
   "metadata": {},
   "outputs": [],
   "source": [
    "snf._find_relative_heading_info()\n",
    "sns.histplot(snf.d_heading_nxt, bins=20, color='r', alpha=0.5, stat='density', label='nxt', kde=True)\n",
    "sns.histplot(snf.d_heading_cur, bins=20, color='g', alpha=0.5, stat='density', label='cur', kde=True)\n",
    "sns.histplot(snf.d_heading_of_traj, bins=20, color='b', alpha=0.5, stat='density', label='traj', kde=True)\n",
    "plt.legend()\n",
    "plt.show()\n"
   ]
  },
  {
   "cell_type": "code",
   "execution_count": null,
   "metadata": {},
   "outputs": [],
   "source": [
    "import plotly.graph_objects as go\n",
    "\n",
    "snf._find_relative_heading_info()\n",
    "x_array = np.arange(len(snf.d_heading_nxt))\n",
    "\n",
    "# make a plotly figure for each of the three y_array above, with x_array being the same:\n",
    "fig = go.Figure()\n",
    "fig.add_trace(go.Scatter(x=x_array, y=snf.d_heading_nxt, mode='lines', name='nxt'))\n",
    "fig.add_trace(go.Scatter(x=x_array, y=snf.d_heading_cur, mode='lines', name='cur'))\n",
    "fig.add_trace(go.Scatter(x=x_array, y=snf.d_heading_of_traj, mode='lines', name='traj'))\n",
    "\n",
    "fig.show()"
   ]
  },
  {
   "cell_type": "markdown",
   "metadata": {},
   "source": [
    "## what's wrong with monkey angle?"
   ]
  },
  {
   "cell_type": "code",
   "execution_count": null,
   "metadata": {},
   "outputs": [],
   "source": [
    "duration_to_plot = [27, 31.944755]\n",
    "trajectory_df, R = plotly_preparation._make_trajectory_df(snf.PlotTrials_args, duration_to_plot=duration_to_plot)\n",
    "show_stop_point_indices = trajectory_df.loc[trajectory_df['monkey_speeddummy']==0, 'point_index'].values\n",
    "mheading = monkey_heading_utils.find_mheading_in_xy(trajectory_df[['point_index']].values, snf.monkey_information)\n",
    "triangle_df = monkey_heading_utils.turn_mheading_into_triangle_df(mheading, R, point_index=None)\n",
    "\n",
    "\n",
    "fig = go.Figure()\n",
    "#fig = plot_trajectory_data(fig, trajectory_df, hoverdata_multi_columns=[])\n",
    "fig = plotly_for_monkey.plot_trajectory_data(fig, trajectory_df, hoverdata_multi_columns=[])\n",
    "fig = plotly_for_monkey.plot_stops_in_plotly(fig, trajectory_df, show_stop_point_indices, hoverdata_multi_columns=[])\n",
    "fig = plotly_for_monkey.plot_triangles_to_show_monkey_heading_in_xy_in_plotly(fig, triangle_df, trace_name_prefix=None, \n",
    "                                                                                      color='red', linewidth=0.5)\n",
    "# make x and y axis have the same scale\n",
    "fig.update_yaxes(scaleanchor=\"x\", scaleratio=1) \n",
    "fig"
   ]
  },
  {
   "cell_type": "markdown",
   "metadata": {},
   "source": [
    "# Appendix"
   ]
  },
  {
   "cell_type": "markdown",
   "metadata": {},
   "source": [
    "## retrieve one session of heading_info_df"
   ]
  },
  {
   "cell_type": "code",
   "execution_count": null,
   "metadata": {},
   "outputs": [],
   "source": [
    "exists_ok = False\n",
    "curv_of_traj_mode = 'distance'\n",
    "window_for_curv_of_traj=[-25, 0]\n",
    "raw_data_folder_path = \"all_monkey_data/raw_monkey_data/monkey_Bruno/data_0328\"\n",
    "pf = plan_factors_class.PlanFactors(raw_data_folder_path=raw_data_folder_path,\n",
    "                                    #opt_arc_type='opt_arc_stop_closest')\n",
    "                                    opt_arc_type = 'norm_opt_arc')\n",
    "                                    \n",
    "pf.make_plan_x_and_y_for_both_test_and_ctrl(plan_x_exists_ok=exists_ok, \n",
    "                                            plan_y_exists_ok=exists_ok,\n",
    "                                            already_made_ok=True, \n",
    "                                            heading_info_df_exists_ok=True,\n",
    "                                            ref_point_mode='time after cur ff visible', \n",
    "                                            ref_point_value=0.1,\n",
    "                                            # ref_point_mode='distance', \n",
    "                                            # ref_point_value=-150,  \n",
    "                                            stops_near_ff_df_exists_ok=True,\n",
    "                                            )\n",
    "\n",
    "test_heading_info_df = pf.test_inst.heading_info_df.copy()\n",
    "ctrl_heading_info_df = pf.ctrl_inst.heading_info_df.copy()\n",
    "test_heading_info_df = build_factor_comp.process_heading_info_df(test_heading_info_df)\n",
    "ctrl_heading_info_df = build_factor_comp.process_heading_info_df(ctrl_heading_info_df)"
   ]
  },
  {
   "cell_type": "markdown",
   "metadata": {},
   "source": [
    "## check eye position distribution"
   ]
  },
  {
   "cell_type": "markdown",
   "metadata": {},
   "source": [
    "Check to see that \"apply_formulas_to_convert_eye_position_to_ff_position\" is correct: expect to see a straight line of y=x in the scatter plot"
   ]
  },
  {
   "cell_type": "code",
   "execution_count": null,
   "metadata": {},
   "outputs": [],
   "source": [
    "from numpy import linalg as LA\n",
    "\n",
    "monkey_height = -10\n",
    "\n",
    "values = np.arange(-99, 99, 1)\n",
    "\n",
    "gaze_world_x = np.repeat(values, len(values))\n",
    "gaze_world_y = np.repeat(values.reshape([1, -1]), len(values), axis=0).reshape(-1)\n",
    "\n",
    "\n",
    "body_theta = np.random.uniform(-pi, pi, len(gaze_world_x))\n",
    "body_x = np.random.uniform(-100, 100, len(gaze_world_x))\n",
    "body_y = np.random.uniform(-100, 100, len(gaze_world_x))\n",
    "\n",
    "\n",
    "gaze_mky_view_x = gaze_world_x - body_x\n",
    "gaze_mky_view_y = gaze_world_y - body_y\n",
    "gaze_mky_view_xy = np.stack((gaze_mky_view_x, gaze_mky_view_y), axis=1)\n",
    "gaze_mky_view_r = LA.norm(gaze_mky_view_xy, axis=1)\n",
    "\n",
    "theta_to_north = np.arctan((gaze_world_x - body_x) / np.sqrt(monkey_height**2 + (gaze_world_y-body_y)**2))\n",
    "to_adjust = np.where(gaze_mky_view_y < 0)[0]\n",
    "# \n",
    "theta_to_north[to_adjust] = np.sign(theta_to_north[to_adjust]) * (pi - np.abs(theta_to_north[to_adjust]))\n",
    "\n",
    "\n",
    "hor_theta = theta_to_north\n",
    "ver_theta = np.arctan(monkey_height / gaze_mky_view_r)\n",
    "\n",
    "gaze_mky_view_x_recovered, gaze_mky_view_y_recovered, _, gaze_world_x_recovered, gaze_world_y_recovered \\\n",
    "    = eye_positions.apply_formulas_to_convert_eye_position_to_ff_position(hor_theta, ver_theta, body_theta, monkey_height, body_x, body_y,\n",
    "                        interocular_dist=0, rotate_world_xy_based_on_m_angle_to_get_abs_coord=False)\n",
    "\n",
    "plt.scatter(gaze_world_x, gaze_world_x_recovered)\n",
    "plt.show()"
   ]
  },
  {
   "cell_type": "code",
   "execution_count": null,
   "metadata": {},
   "outputs": [],
   "source": [
    "gaze_mky_view_y = dc.monkey_information['gaze_mky_view_y'].values\n",
    "gaze_mky_view_y[gaze_mky_view_y < 0] = 0\n",
    "gaze_mky_view_y[gaze_mky_view_y > 1500] = 1500\n",
    "sns.histplot(gaze_mky_view_y, binwidth=20)\n",
    "plt.show()\n"
   ]
  },
  {
   "cell_type": "code",
   "execution_count": null,
   "metadata": {},
   "outputs": [],
   "source": [
    "sns.histplot(theta_to_north[np.where(np.abs(ver_theta + 0.29414615) < 0.01 )], bins=50)\n",
    "plt.show()"
   ]
  },
  {
   "cell_type": "code",
   "execution_count": null,
   "metadata": {},
   "outputs": [],
   "source": [
    "ab = theta_to_north[np.where(np.abs(ver_theta + 0.29414615) < 0.01 )]\n",
    "max(ab[ab < 1.57])"
   ]
  },
  {
   "cell_type": "code",
   "execution_count": null,
   "metadata": {},
   "outputs": [],
   "source": [
    "ab = theta_to_north[np.where(np.abs(ver_theta + 0.29414615) < 0.01 )]\n",
    "min(ab[ab > 1.57])"
   ]
  },
  {
   "cell_type": "markdown",
   "metadata": {},
   "source": [
    "## does monkey under-turn?\n",
    "\n",
    "This section analyzes whether the monkey's trajectory exhibits an under-turn or over-turn behavior when navigating between fireflies. This analysis examines the relationship between the monkey's actual trajectory heading and the optimal arc heading that would lead directly to the current firefly.\n",
    "\n",
    "When the monkey's trajectory's change in heading is less than the optimal arc's change in heading (turning less than needed to reach the target firefly)"
   ]
  },
  {
   "cell_type": "code",
   "execution_count": null,
   "metadata": {},
   "outputs": [],
   "source": [
    "# for 4 ff\n",
    "ref_point_mode = 'distance'\n",
    "ref_point_value = -150\n",
    "\n",
    "ps = monkey_plan_factors_x_sess_class.PlanAcrossSessions()\n",
    "ps.initialize_monkey_sessions_df_for_one_monkey()\n",
    "ps.get_combd_heading_df_x_sessions_across_sessions(\n",
    "                        ref_point_mode=ref_point_mode, \n",
    "                        ref_point_value=ref_point_value,\n",
    "                        save_data=True)\n"
   ]
  },
  {
   "cell_type": "code",
   "execution_count": null,
   "metadata": {},
   "outputs": [],
   "source": [
    "# control\n",
    "(180/math.pi * (np.abs(ps.combd_heading_df_x_sessions_ctrl['cur_opt_arc_d_heading']) \n",
    "                - np.abs(ps.combd_heading_df_x_sessions_ctrl['d_heading_of_traj']))).describe()"
   ]
  },
  {
   "cell_type": "code",
   "execution_count": null,
   "metadata": {},
   "outputs": [],
   "source": [
    "# test\n",
    "(180/math.pi * (np.abs(ps.combd_heading_df_x_sessions_test['cur_opt_arc_d_heading']) \n",
    "                - np.abs(ps.combd_heading_df_x_sessions_test['d_heading_of_traj']))).describe()"
   ]
  },
  {
   "cell_type": "code",
   "execution_count": null,
   "metadata": {},
   "outputs": [],
   "source": [
    "(180/math.pi * ps.combd_heading_df_x_sessions_test[['cur_opt_arc_d_heading', 'd_heading_of_traj']]).describe()"
   ]
  },
  {
   "cell_type": "code",
   "execution_count": null,
   "metadata": {},
   "outputs": [],
   "source": [
    "# use absolute value of heading difference\n",
    "(180/math.pi * np.abs(ps.combd_heading_df_x_sessions_test[['cur_opt_arc_d_heading', 'd_heading_of_traj']])).describe()"
   ]
  },
  {
   "cell_type": "code",
   "execution_count": null,
   "metadata": {},
   "outputs": [],
   "source": [
    "# see the summary of the difference between the absolute value of the heading difference of the current arc and the heading difference of the trajectory\n",
    "(180/math.pi * (np.abs(ps.combd_heading_df_x_sessions_test['cur_opt_arc_d_heading']) - np.abs(ps.combd_heading_df_x_sessions_test['d_heading_of_traj']))).describe()"
   ]
  },
  {
   "cell_type": "code",
   "execution_count": null,
   "metadata": {},
   "outputs": [],
   "source": [
    "num_rows_mismatched_signs = np.abs((np.sign(ps.combd_heading_df_x_sessions_test['cur_opt_arc_d_heading']) - np.sign(ps.combd_heading_df_x_sessions_test['d_heading_of_traj']))).sum()/2\n",
    "num_rows_mismatched_signs"
   ]
  },
  {
   "cell_type": "code",
   "execution_count": null,
   "metadata": {},
   "outputs": [],
   "source": [
    "num_rows_mismatched_signs/len(ps.combd_heading_df_x_sessions_test)"
   ]
  },
  {
   "cell_type": "markdown",
   "metadata": {},
   "source": [
    "## Bruno prefers to turn left"
   ]
  },
  {
   "cell_type": "code",
   "execution_count": null,
   "metadata": {},
   "outputs": [],
   "source": [
    "monkey_dw = dc.monkey_information['monkey_dw'].values"
   ]
  },
  {
   "cell_type": "code",
   "execution_count": null,
   "metadata": {},
   "outputs": [],
   "source": [
    "monkey_dw = monkey_dw*180/math.pi"
   ]
  },
  {
   "cell_type": "code",
   "execution_count": null,
   "metadata": {},
   "outputs": [],
   "source": [
    "(180/math.pi * dc.monkey_information['monkey_dw']).describe()"
   ]
  },
  {
   "cell_type": "code",
   "execution_count": null,
   "metadata": {},
   "outputs": [],
   "source": [
    "monkey_dw_sub = monkey_dw[np.abs(monkey_dw) < 20]"
   ]
  },
  {
   "cell_type": "code",
   "execution_count": null,
   "metadata": {},
   "outputs": [],
   "source": [
    "len(monkey_dw_sub)/len(monkey_dw)"
   ]
  },
  {
   "cell_type": "code",
   "execution_count": null,
   "metadata": {},
   "outputs": [],
   "source": [
    "np.sum(monkey_dw)/360"
   ]
  },
  {
   "cell_type": "code",
   "execution_count": null,
   "metadata": {},
   "outputs": [],
   "source": [
    "# how many 360 circles did the monkey make?\n",
    "np.sum(monkey_dw_sub)/360"
   ]
  },
  {
   "cell_type": "markdown",
   "metadata": {},
   "source": [
    "## check run time"
   ]
  },
  {
   "cell_type": "markdown",
   "metadata": {},
   "source": [
    "import cProfile\n",
    "cProfile.run('snf.streamline_organizing_info()', sort='cumtime')"
   ]
  },
  {
   "cell_type": "markdown",
   "metadata": {},
   "source": [
    "## Dash comparison\n",
    "\n",
    "(The intention was to shuffle nxt_ff)\n",
    "\n",
    "This is currently outdated/not working"
   ]
  },
  {
   "cell_type": "code",
   "execution_count": null,
   "metadata": {},
   "outputs": [],
   "source": [
    "dcom = dash_comparison_class.DashComparison(raw_data_folder_path=raw_data_folder_path)\n",
    "\n",
    "            \n",
    "ref_point_params = {'ref_point_mode': 'distance',\n",
    "                    'ref_point_value': -150}\n",
    "\n",
    "\n",
    "curv_of_traj_params = {'curv_of_traj_mode': 'distance',\n",
    "                        'window_for_curv_of_traj': [-75, 0],\n",
    "                        'truncate_curv_of_traj_by_time_of_capture': False}\n",
    "\n",
    "overall_params = {'eliminate_outliers': True,\n",
    "                  'use_curv_to_ff_center': False,\n",
    "                  'normalize': False,\n",
    "                  'remove_i_o_modify_rows_with_big_ff_angles': True,\n",
    "                  'change_units_to_degrees_per_m': True,\n",
    "                  'heading_instead_of_curv': True}  \n",
    "\n",
    "        \n",
    "dcom.prepare_to_make_dash_for_comparison(ref_point_params,\n",
    "                                         curv_of_traj_params,\n",
    "                                         overall_params,)\n",
    "\n",
    "#dcom.make_dash_for_comparison()\n",
    "\n",
    "\n",
    "\n",
    "              "
   ]
  },
  {
   "cell_type": "code",
   "execution_count": null,
   "metadata": {},
   "outputs": [],
   "source": [
    "dcom.make_dash_for_comparison()"
   ]
  },
  {
   "cell_type": "markdown",
   "metadata": {},
   "source": [
    "## Dash params"
   ]
  },
  {
   "cell_type": "markdown",
   "metadata": {},
   "source": [
    "The visualization looks good, but the code certainly needs to be updated."
   ]
  },
  {
   "cell_type": "code",
   "execution_count": null,
   "metadata": {},
   "outputs": [],
   "source": [
    "try:\n",
    "    tested_combo_df\n",
    "except:\n",
    "    raise ValueError(\"tested_combo_df not defined\")\n",
    "\n",
    "pad = dash_params_class.ParamsDash(raw_data_folder_path=raw_data_folder_path)\n",
    "                                             \n",
    "pad.ref_point_mode = 'time'\n",
    "pad.curv_of_traj_mode = 'time'\n",
    "tested_combo_df_sub = tested_combo_df[tested_combo_df['curv_r'] != 0].copy()\n",
    "pad.prepare_for_dash(tested_combo_df_sub)\n",
    "pad.make_dash_for_params()"
   ]
  }
 ],
 "metadata": {
  "kernelspec": {
   "display_name": "ff_venv2",
   "language": "python",
   "name": "python3"
  },
  "language_info": {
   "codemirror_mode": {
    "name": "ipython",
    "version": 3
   },
   "file_extension": ".py",
   "mimetype": "text/x-python",
   "name": "python",
   "nbconvert_exporter": "python",
   "pygments_lexer": "ipython3",
   "version": "3.11.11"
  }
 },
 "nbformat": 4,
 "nbformat_minor": 2
}
