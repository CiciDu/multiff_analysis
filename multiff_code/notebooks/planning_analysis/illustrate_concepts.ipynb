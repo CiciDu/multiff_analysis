{
 "cells": [
  {
   "cell_type": "markdown",
   "metadata": {},
   "source": [
    "# Import packages"
   ]
  },
  {
   "cell_type": "code",
   "execution_count": null,
   "metadata": {},
   "outputs": [],
   "source": [
    "%load_ext autoreload\n",
    "%autoreload 2\n",
    "\n",
    "from pathlib import Path\n",
    "import os, sys\n",
    "for p in [Path.cwd()] + list(Path.cwd().parents):\n",
    "    if p.name == 'Multifirefly-Project':\n",
    "        os.chdir(p)\n",
    "        sys.path.insert(0, str(p / 'multiff_analysis/multiff_code/methods'))\n",
    "        break\n",
    "\n",
    "import sys\n",
    "\n",
    "\n",
    "from data_wrangling import specific_utils, process_monkey_information, base_processing_class, combine_info_utils\n",
    "from pattern_discovery import pattern_by_trials, pattern_by_points, make_ff_dataframe, ff_dataframe_utils, pattern_by_trials, pattern_by_points, cluster_analysis, organize_patterns_and_features, category_class, cluster_analysis\n",
    "from decision_making_analysis.decision_making import decision_making_class, decision_making_utils, plot_decision_making, intended_targets_classes\n",
    "from decision_making_analysis.GUAT import GUAT_helper_class, GUAT_collect_info_class, GUAT_combine_info_class, process_GUAT_trials_class, add_features_GUAT_and_TAFT\n",
    "from decision_making_analysis import free_selection, replacement, trajectory_info\n",
    "from null_behaviors import show_null_trajectory, find_best_arc, curvature_utils, curv_of_traj_utils\n",
    "from machine_learning.ml_methods import regression_utils, classification_utils, prep_ml_data_utils, hyperparam_tuning_class\n",
    "from machine_learning.RL.env_related import env_for_lstm, env_utils, base_env, collect_agent_data_utils\n",
    "from machine_learning.RL.lstm import GRU_functions, LSTM_functions\n",
    "from machine_learning.RL.SB3 import interpret_neural_network, sb3_for_multiff_class, rl_for_multiff_utils, SB3_functions\n",
    "from visualization.matplotlib_tools import plot_trials, plot_polar, additional_plots, plot_behaviors_utils, plot_statistics, monkey_heading_utils\n",
    "from visualization.animation import animation_func, animation_utils, animation_class\n",
    "from planning_analysis.test_params_for_planning import params_test_combos_class, params_utils\n",
    "from visualization.plotly_tools import plotly_for_monkey, plotly_for_time_series, plotly_preparation, plotly_for_correlation, plotly_plot_class\n",
    "from visualization.dash_tools import dash_prep_class, dash_utils, dash_utils, dash_comparison_class, dash_params_class\n",
    "from visualization.dash_tools.dash_main_class_methods import dash_main_class\n",
    "from neural_data_analysis.neural_analysis_tools.get_neural_data import neural_data_processing\n",
    "from neural_data_analysis.neural_analysis_tools.visualize_neural_data import plot_neural_data, plot_modeling_result\n",
    "from neural_data_analysis.neural_analysis_tools.model_neural_data import transform_vars, neural_data_modeling, drop_high_corr_vars, drop_high_vif_vars\n",
    "from neural_data_analysis.topic_based_neural_analysis.neural_vs_behavioral import prep_monkey_data, prep_target_data, neural_vs_behavioral_class\n",
    "from neural_data_analysis.topic_based_neural_analysis.planning_and_neural import planning_and_neural_class, pn_utils\n",
    "from planning_analysis.plan_factors import plan_factors_utils, build_factor_comp, plan_factors_class, monkey_plan_factors_x_sess_class\n",
    "from planning_analysis.show_planning import nxt_ff_utils, show_planning_class, show_planning_utils\n",
    "from planning_analysis.show_planning.cur_vs_nxt_ff import cvn_helper_class, find_cvn_utils, plot_cvn_class, plot_cvn_utils, plot_monkey_heading_helper_class, cvn_from_ref_class\n",
    "from planning_analysis.show_planning import illustrate_concepts\n",
    "from visualization.plotly_tools import plotly_for_null_arcs\n",
    "from visualization.plotly_tools import plotly_for_time_series, plotly_for_null_arcs, plotly_for_correlation, plotly_for_monkey, plotly_plot_class\n",
    "from planning_analysis.plan_indicators import diff_in_curv_utils\n",
    "\n",
    "\n",
    "from importlib import reload\n",
    "from eye_position_analysis import eye_positions\n",
    "import os, sys\n",
    "import numpy as np\n",
    "import matplotlib\n",
    "import matplotlib.pyplot as plt\n",
    "from matplotlib import cm\n",
    "from os.path import exists\n",
    "import seaborn as sns\n",
    "import math\n",
    "import copy\n",
    "import matplotlib.pyplot as plt\n",
    "import pandas as pd\n",
    "import torch\n",
    "import torch.nn as nn\n",
    "import torch.optim as optim\n",
    "import tqdm\n",
    "import itertools\n",
    "import plotly.express as px\n",
    "import gc\n",
    "from scipy.stats import rankdata\n",
    "from scipy import stats\n",
    "from IPython.display import HTML\n",
    "from matplotlib import rc\n",
    "from sklearn.model_selection import train_test_split\n",
    "from sklearn.preprocessing import OneHotEncoder\n",
    "from sklearn.datasets import make_multilabel_classification\n",
    "from sklearn.model_selection import train_test_split\n",
    "from sklearn.multioutput import MultiOutputClassifier\n",
    "from sklearn.neighbors import KNeighborsClassifier\n",
    "from sklearn.metrics import accuracy_score, hamming_loss, multilabel_confusion_matrix, fbeta_score, precision_score, recall_score\n",
    "from sklearn.svm import SVC\n",
    "from sklearn.tree import DecisionTreeClassifier\n",
    "from sklearn.ensemble import AdaBoostClassifier, RandomForestClassifier, VotingClassifier, BaggingClassifier, GradientBoostingClassifier\n",
    "from sklearn.neural_network import MLPClassifier\n",
    "from sklearn.linear_model import LinearRegression\n",
    "from sklearn.neighbors import KNeighborsRegressor, KNeighborsClassifier\n",
    "from sklearn.naive_bayes import GaussianNB\n",
    "from sklearn.linear_model import LogisticRegression\n",
    "from math import pi\n",
    "from scipy.ndimage import gaussian_filter1d\n",
    "from statsmodels.graphics.tsaplots import plot_acf\n",
    "import warnings\n",
    "import os, sys, sys\n",
    "from sklearn.exceptions import ConvergenceWarning\n",
    "import plotly.graph_objects as go\n",
    "\n",
    "plt.rcParams[\"animation.html\"] = \"html5\"\n",
    "os.environ['KMP_DUPLICATE_LIB_OK']='True'\n",
    "rc('animation', html='jshtml')\n",
    "matplotlib.rcParams.update(matplotlib.rcParamsDefault)\n",
    "matplotlib.rcParams['animation.embed_limit'] = 2**128\n",
    "pd.set_option('display.float_format', lambda x: '%.5f' % x)\n",
    "np.set_printoptions(suppress=True)\n",
    "pd.options.display.max_rows = 101"
   ]
  },
  {
   "cell_type": "markdown",
   "metadata": {},
   "source": [
    "# Use CurVsNxtFfFromRefClass class"
   ]
  },
  {
   "cell_type": "code",
   "execution_count": null,
   "metadata": {},
   "outputs": [],
   "source": [
    "reload(plot_cvn_class)"
   ]
  },
  {
   "cell_type": "code",
   "execution_count": null,
   "metadata": {},
   "outputs": [],
   "source": [
    "normalize = False\n",
    "eliminate_outliers = False\n",
    "use_curv_to_ff_center = False\n",
    "curv_of_traj_mode = 'distance'\n",
    "window_for_curv_of_traj=[-25, 0]\n",
    "raw_data_folder_path = \"all_monkey_data/raw_monkey_data/monkey_Bruno/data_0328\"\n",
    "\n",
    "#data_item_info = find_cvn_utils.extract_key_info_from_data_item_for_stops_near_ff_class(data_item)\n",
    "\n",
    "snf = cvn_from_ref_class.CurVsNxtFfFromRefClass(raw_data_folder_path=raw_data_folder_path)\n",
    "snf.get_more_monkey_data()\n",
    "snf.traj_curv_descr = 'Traj Curv: From Current Point to Right Before Stop'\n",
    "\n",
    "\n",
    "\n",
    "snf.streamline_organizing_info(ref_point_mode='distance', ref_point_value=-150, \n",
    "                              #ref_point_mode='time after cur ff visible', ref_point_value=0.1, \n",
    "                               curv_of_traj_mode=curv_of_traj_mode, window_for_curv_of_traj=window_for_curv_of_traj, truncate_curv_of_traj_by_time_of_capture=True,\n",
    "                               use_curv_to_ff_center=use_curv_to_ff_center,  eliminate_outliers=eliminate_outliers,\n",
    "                               stops_near_ff_df_exists_ok=True)\n",
    "\n",
    "snf.ax_for_corr = snf.find_relationships_from_info(normalize=normalize, show_plot=True)\n",
    "snf.prepare_to_plot_stops_near_ff()\n",
    "\n",
    "\n",
    "kwargs = {\"show_visible_segments\": False,\n",
    "          \"show_reward_boundary\": True,\n",
    "        \"show_current_eye_positions\": False,\n",
    "        \"show_alive_fireflies\": False,\n",
    "        \"show_visible_fireflies\": False,\n",
    "        'show_cur_ff': True,\n",
    "        'show_nxt_ff': True,\n",
    "        'show_traj_color_as_speed': False,\n",
    "        'show_cur_and_nxt_stops': True,\n",
    "        'show_capture_stops': False,\n",
    "        \"show_stops\": False,\n",
    "        'show_monkey_heading': False,\n",
    "        'plot_arena_edge': False,\n",
    "        'show_null_arcs_to_ff': False,\n",
    "        'show_null_arc_to_cur_ff': True,\n",
    "}\n"
   ]
  },
  {
   "cell_type": "markdown",
   "metadata": {},
   "source": [
    "# Plot some trials"
   ]
  },
  {
   "cell_type": "code",
   "execution_count": null,
   "metadata": {},
   "outputs": [],
   "source": [
    "current_i = 5"
   ]
  },
  {
   "cell_type": "code",
   "execution_count": null,
   "metadata": {},
   "outputs": [],
   "source": [
    "snf.make_individual_plots_for_stops_near_ff_in_plotly(current_i, max_num_plot_to_make=1, \n",
    "                                             show_eye_positions_for_both_eyes=True)"
   ]
  },
  {
   "cell_type": "markdown",
   "metadata": {},
   "source": [
    "# Variables of interest"
   ]
  },
  {
   "cell_type": "markdown",
   "metadata": {},
   "source": [
    "## diff_in_abs_angle_to_nxt_ff"
   ]
  },
  {
   "cell_type": "code",
   "execution_count": null,
   "metadata": {},
   "outputs": [],
   "source": [
    "reload(plotly_plot_class)\n",
    "reload(plot_cvn_class)\n",
    "reload(cvn_from_ref_class)\n",
    "reload(cvn_helper_class)"
   ]
  },
  {
   "cell_type": "code",
   "execution_count": null,
   "metadata": {},
   "outputs": [],
   "source": [
    "reload(plotly_for_monkey)"
   ]
  },
  {
   "cell_type": "code",
   "execution_count": null,
   "metadata": {},
   "outputs": [],
   "source": [
    "\n",
    "fixed_current_i = 14\n",
    "\n",
    "_ = snf.make_individual_plots_for_stops_near_ff_in_plotly(fixed_current_i, max_num_plot_to_make=1, **kwargs, \n",
    "                                                          show_fig=True)"
   ]
  },
  {
   "cell_type": "code",
   "execution_count": null,
   "metadata": {},
   "outputs": [],
   "source": [
    "snf.monkey_plot_params['show_cur_and_nxt_stops_indices']"
   ]
  },
  {
   "cell_type": "markdown",
   "metadata": {},
   "source": [
    "### show angle from monkey stop to next ff"
   ]
  },
  {
   "cell_type": "code",
   "execution_count": null,
   "metadata": {},
   "outputs": [],
   "source": [
    "reload(illustrate_concepts)"
   ]
  },
  {
   "cell_type": "code",
   "execution_count": null,
   "metadata": {},
   "outputs": [],
   "source": [
    "#fixed_current_i = 14\n",
    "\n",
    "fixed_current_i = 14\n",
    "\n",
    "kwargs['show_null_arcs_to_ff'] = True\n",
    "\n",
    "# Make individual plots for stops near ff in Plotly\n",
    "snf.make_individual_plots_for_stops_near_ff_in_plotly(\n",
    "    fixed_current_i, max_num_plot_to_make=1, show_fig=False, **kwargs\n",
    ")\n",
    "snf._find_null_arcs_for_cur_and_nxt_ff_for_the_point_from_info_for_counted_points(\n",
    "    i=fixed_current_i)\n",
    "    \n",
    "line_stop_nxt_ff, line_of_stop_heading, arc_xy = illustrate_concepts.prepare_to_show_angle_from_monkey_stop_to_next_ff(\n",
    "    snf, fixed_current_i) \n",
    "\n",
    "illustrate_concepts.plot_with_additional_elements(snf,\n",
    "                                  line_of_stop_heading, line_stop_nxt_ff,\n",
    "                                  arc_xy)\n",
    "snf.plt.show()"
   ]
  },
  {
   "cell_type": "markdown",
   "metadata": {},
   "source": [
    "### show angle from null arc end to next ff\n",
    "(Note: I might want to click on the null arcs to hide them)"
   ]
  },
  {
   "cell_type": "code",
   "execution_count": null,
   "metadata": {},
   "outputs": [],
   "source": [
    "\n",
    "\n",
    "kwargs['show_null_arcs_to_ff'] = False \n",
    "\n",
    "# Make individual plots for stops near ff in Plotly\n",
    "snf.make_individual_plots_for_stops_near_ff_in_plotly(\n",
    "    fixed_current_i, max_num_plot_to_make=1, show_fig=False, **kwargs\n",
    ")\n",
    "\n",
    "snf._find_null_arcs_for_cur_and_nxt_ff_for_the_point_from_info_for_counted_points(\n",
    "    i=current_i)\n",
    "    \n",
    "snf.fig = plotly_for_null_arcs.plot_null_arcs_in_plotly(snf.fig, snf.cur_null_arc_info_for_the_point, rotation_matrix=snf.current_plotly_key_comp['rotation_matrix'],\n",
    "                                                            color='brown', trace_name='cur null arc', linewidth=3, opacity=0.9)\n",
    "\n",
    "line_of_cur_null_heading, line_cur_and_nxt_ff, arc_xy = illustrate_concepts.prepare_to_show_angle_from_null_arc_end_to_next_ff(snf, fixed_current_i)\n",
    "\n",
    "illustrate_concepts.plot_with_additional_elements(snf,\n",
    "                                  line_of_cur_null_heading, line_cur_and_nxt_ff,\n",
    "                                  arc_xy,\n",
    "                                  arc_label='Angle from null arc end to next ff'\n",
    "                                  )\n",
    "snf.plt.show()"
   ]
  },
  {
   "cell_type": "markdown",
   "metadata": {},
   "source": [
    "# diff_in_abs_d_curv"
   ]
  },
  {
   "cell_type": "code",
   "execution_count": null,
   "metadata": {},
   "outputs": [],
   "source": [
    "current_i"
   ]
  },
  {
   "cell_type": "code",
   "execution_count": null,
   "metadata": {},
   "outputs": [],
   "source": [
    "reload(plotly_plot_class)"
   ]
  },
  {
   "cell_type": "code",
   "execution_count": null,
   "metadata": {},
   "outputs": [],
   "source": [
    "snf.monkey_plot_params"
   ]
  },
  {
   "cell_type": "code",
   "execution_count": null,
   "metadata": {},
   "outputs": [],
   "source": [
    "snf.cur_ff_color = 'brown'\n",
    "kwargs['show_cur_and_nxt_stops'] = False\n",
    "kwargs['show_null_arcs_to_ff'] = False \n",
    "kwargs['show_null_arc_to_cur_ff'] = False\n",
    "# kwargs['show_capture_stops'] = False\n",
    "# kwargs['show_capture_stops_indices'] = False\n",
    "\n",
    "# snf.monkey_plot_params['show_capture_stops_indices'] = None\n",
    "\n",
    "for current_i in [5]: #, 79, 154, 128, 148, 140, 158, 7, 15, 59, 113, 65]:\n",
    "\n",
    "    print(current_i)\n",
    "    # Make individual plots for stops near ff in Plotly\n",
    "    snf.make_individual_plots_for_stops_near_ff_in_plotly(\n",
    "        current_i, max_num_plot_to_make=1, show_fig=False, **kwargs\n",
    "    ) \n",
    "\n",
    "    snf._find_null_arcs_for_cur_and_nxt_ff_for_the_point_from_info_for_counted_points(\n",
    "        i=current_i)\n",
    "\n",
    "\n",
    "    snf.fig = illustrate_concepts.illustrate_diff_in_d_curv(snf)\n",
    "\n",
    "    # arc_from_cur_arc_end_to_next_ff, arc_from_stop_to_nxt_ff, traj_portion_before_stop = illustrate_concepts.prepare_to_illustrate_diff_in_d_curv(snf)\n",
    "\n",
    "    snf.plt.show()\n"
   ]
  },
  {
   "cell_type": "markdown",
   "metadata": {},
   "source": [
    "# Different types of null arcs"
   ]
  },
  {
   "cell_type": "code",
   "execution_count": null,
   "metadata": {},
   "outputs": [],
   "source": [
    "# see landing_within_targets.ipynb"
   ]
  }
 ],
 "metadata": {
  "kernelspec": {
   "display_name": "ff_venv2",
   "language": "python",
   "name": "python3"
  },
  "language_info": {
   "codemirror_mode": {
    "name": "ipython",
    "version": 3
   },
   "file_extension": ".py",
   "mimetype": "text/x-python",
   "name": "python",
   "nbconvert_exporter": "python",
   "pygments_lexer": "ipython3",
   "version": "3.11.11"
  }
 },
 "nbformat": 4,
 "nbformat_minor": 2
}
