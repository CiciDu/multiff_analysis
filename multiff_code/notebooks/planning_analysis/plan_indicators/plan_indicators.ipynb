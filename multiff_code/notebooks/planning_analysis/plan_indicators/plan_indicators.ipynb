{
 "cells": [
  {
   "cell_type": "markdown",
   "id": "0",
   "metadata": {},
   "source": [
    "# Main features\n",
    "'diff_in_abs_angle_to_nxt_ff', 'diff_in_abs_d_curv', 'dir_from_cur_ff_same_side'"
   ]
  },
  {
   "cell_type": "markdown",
   "id": "1",
   "metadata": {},
   "source": [
    "# Import packages"
   ]
  },
  {
   "cell_type": "code",
   "execution_count": null,
   "id": "2",
   "metadata": {},
   "outputs": [],
   "source": [
    "%load_ext autoreload\n",
    "%autoreload 2\n",
    "\n",
    "from pathlib import Path\n",
    "import os, sys\n",
    "for p in [Path.cwd()] + list(Path.cwd().parents):\n",
    "    if p.name == 'Multifirefly-Project':\n",
    "        os.chdir(p)\n",
    "        sys.path.insert(0, str(p / 'multiff_analysis/multiff_code/methods'))\n",
    "        break\n",
    "\n",
    "\n",
    "from pattern_discovery import monkey_landing_in_ff\n",
    "from machine_learning.ml_methods import regression_utils, classification_utils, prep_ml_data_utils\n",
    "from visualization.matplotlib_tools import plot_trials\n",
    "from planning_analysis.show_planning import examine_null_arcs\n",
    "from planning_analysis.show_planning.cur_vs_nxt_ff import cvn_from_ref_class\n",
    "from planning_analysis.only_cur_ff import only_cur_ff_x_sess_class\n",
    "from planning_analysis.plan_factors import plan_factors_utils, build_factor_comp, plan_factors_class, monkey_plan_factors_x_sess_class\n",
    "from planning_analysis.agent_analysis import compare_monkey_and_agent_utils, agent_plan_factors_x_sess_class, cmp_monkey_agent_plan_class\n",
    "from machine_learning.ml_methods import ml_methods_class, prep_ml_data_utils\n",
    "from planning_analysis.plan_factors import monkey_plan_factors_x_sess_class, monkey_plan_factors_x_sess_class\n",
    "from planning_analysis.factors_vs_indicators import make_variations_utils, plot_variations_utils, process_variations_utils\n",
    "from planning_analysis.factors_vs_indicators import make_variations_utils, _predict_y_values_class, _compare_y_values_class, _plot_variations_class\n",
    "\n",
    "import numpy as np\n",
    "import matplotlib\n",
    "import matplotlib.pyplot as plt\n",
    "import seaborn as sns\n",
    "import matplotlib.pyplot as plt\n",
    "import pandas as pd\n",
    "from matplotlib import rc\n",
    "import os, sys\n",
    "from importlib import reload\n",
    "\n",
    "plt.rcParams[\"animation.html\"] = \"html5\"\n",
    "os.environ['KMP_DUPLICATE_LIB_OK']='True'\n",
    "rc('animation', html='jshtml')\n",
    "matplotlib.rcParams.update(matplotlib.rcParamsDefault)\n",
    "matplotlib.rcParams['animation.embed_limit'] = 2**128\n",
    "pd.set_option('display.float_format', lambda x: '%.5f' % x)\n",
    "np.set_printoptions(suppress=True)\n",
    "pd.options.display.max_rows = 101"
   ]
  },
  {
   "cell_type": "code",
   "execution_count": null,
   "id": "3",
   "metadata": {},
   "outputs": [],
   "source": [
    "data_item = None\n",
    "raw_data_folder_path = \"all_monkey_data/raw_monkey_data/monkey_Bruno/data_0328\""
   ]
  },
  {
   "cell_type": "markdown",
   "id": "4",
   "metadata": {},
   "source": [
    "# run overnight"
   ]
  },
  {
   "cell_type": "markdown",
   "id": "5",
   "metadata": {},
   "source": [
    "## agent"
   ]
  },
  {
   "cell_type": "code",
   "execution_count": null,
   "id": "6",
   "metadata": {},
   "outputs": [],
   "source": [
    "# exists_ok = True\n",
    "# for opt_arc_type in ['norm_opt_arc', 'opt_arc_stop_closest', 'opt_arc_stop_first_vis_bdry']:\n",
    "#     pfas = agent_plan_factors_x_sess_class.PlanFactorsAcrossAgentSessions(num_steps_per_dataset=5000,\n",
    "#                                                                         opt_arc_type = opt_arc_type)\n",
    "#     agent_all_ref_pooled_median_info = pfas.make_or_retrieve_all_ref_pooled_median_info(exists_ok=exists_ok)\n",
    "#     agent_all_perc_df = pfas.make_or_retrieve_pooled_perc_info(exists_ok=exists_ok)\n",
    "\n"
   ]
  },
  {
   "cell_type": "markdown",
   "id": "7",
   "metadata": {},
   "source": [
    "## monkey"
   ]
  },
  {
   "cell_type": "code",
   "execution_count": null,
   "id": "8",
   "metadata": {},
   "outputs": [],
   "source": [
    "exists_ok = True\n",
    "list_of_curv_traj_window_before_stop = [[-25, 0]]\n",
    "\n",
    "for monkey_name in ['monkey_Schro', 'monkey_Bruno']:\n",
    "    for opt_arc_type in ['norm_opt_arc', 'opt_arc_stop_closest', 'opt_arc_stop_first_vis_bdry']:\n",
    "        # suppress printed output\n",
    "        # with open(os.devnull, \"w\") as f, contextlib.redirect_stdout(f):\n",
    "\n",
    "        ps = monkey_plan_factors_x_sess_class.PlanAcrossSessions(monkey_name=monkey_name, \n",
    "                                                                opt_arc_type=opt_arc_type)\n",
    "        all_ref_pooled_median_info = ps.make_or_retrieve_all_ref_pooled_median_info(exists_ok=exists_ok,\n",
    "                                                                    list_of_curv_traj_window_before_stop=list_of_curv_traj_window_before_stop,\n",
    "                                                                    )\n",
    "        pooled_perc_info = ps.make_or_retrieve_pooled_perc_info(exists_ok=exists_ok)\n",
    "        \n",
    "        # all_cur_and_nxt_lr_pred_ff_df = ps.make_or_retrieve_all_cur_and_nxt_lr_pred_ff_df(exists_ok=exists_ok)\n",
    "        # all_cur_and_nxt_lr_df = ps.make_or_retrieve_all_cur_and_nxt_lr_df(exists_ok=exists_ok)\n",
    "        # all_cur_and_nxt_clf_df = ps.make_or_retrieve_all_cur_and_nxt_clf_df()\n",
    "\n",
    "        # # # can comment out the below if not needed\n",
    "        # osfxs = only_cur_ff_x_sess_class.OnlyStopFFAcrossSessions(monkey_name=monkey_name)\n",
    "        # all_only_cur_lr_df = osfxs.make_or_retrieve_all_only_cur_lr_df(exists_ok=exists_ok)\n",
    "        # all_only_cur_ml_df = osfxs.make_or_retrieve_all_only_cur_ml_df(exists_ok=exists_ok)            "
   ]
  },
  {
   "cell_type": "markdown",
   "id": "9",
   "metadata": {},
   "source": [
    "# For PPT"
   ]
  },
  {
   "cell_type": "markdown",
   "id": "10",
   "metadata": {},
   "source": [
    "## heading"
   ]
  },
  {
   "cell_type": "code",
   "execution_count": null,
   "id": "11",
   "metadata": {},
   "outputs": [],
   "source": [
    "for monkey in ['Bruno', 'Schro']:\n",
    "\n",
    "    ps = monkey_plan_factors_x_sess_class.PlanAcrossSessions(monkey_name=f'monkey_{monkey}')\n",
    "    monkey_median_df = ps.make_or_retrieve_all_ref_pooled_median_info(exists_ok=True, \n",
    "                                                                    pooled_median_info_exists_ok=True)\n",
    "    \n",
    "    ps.plot_heading_in_all_ref_median_info(monkey_median_df)\n",
    "\n",
    "\n",
    "\n",
    "    ps.fig.update_layout(\n",
    "        title=f\"{monkey}: Reference Point vs Absolute Angle Difference (Median ± 2 Bootstrap SE)\",\n",
    "        xaxis_title=\"Reference Point Value in Distance to Current FF(cm)\",\n",
    "        yaxis_title=\"Median Angle Difference to Next FF (°)\"\n",
    "    )\n",
    "        \n",
    "    ps.plt.show()"
   ]
  },
  {
   "cell_type": "code",
   "execution_count": null,
   "id": "12",
   "metadata": {},
   "outputs": [],
   "source": [
    "ps = monkey_plan_factors_x_sess_class.PlanAcrossSessions(monkey_name='monkey_Schro')\n",
    "monkey_median_df = ps.make_or_retrieve_all_ref_pooled_median_info(exists_ok=True, \n",
    "                                                                pooled_median_info_exists_ok=True)\n",
    "\n",
    "\n",
    "\n",
    "ps.plot_heading_in_all_ref_median_info(monkey_median_df)\n",
    "\n"
   ]
  },
  {
   "cell_type": "markdown",
   "id": "13",
   "metadata": {},
   "source": [
    "## curv"
   ]
  },
  {
   "cell_type": "code",
   "execution_count": null,
   "id": "14",
   "metadata": {},
   "outputs": [],
   "source": [
    "# Difference in Curvature Across Two Arc Pairs"
   ]
  },
  {
   "cell_type": "code",
   "execution_count": null,
   "id": "15",
   "metadata": {},
   "outputs": [],
   "source": [
    "for monkey in ['Bruno', 'Schro']:\n",
    "\n",
    "    ps = monkey_plan_factors_x_sess_class.PlanAcrossSessions(monkey_name=f'monkey_{monkey}')\n",
    "    monkey_median_df = ps.make_or_retrieve_all_ref_pooled_median_info(exists_ok=True, \n",
    "                                                                    pooled_median_info_exists_ok=True)\n",
    "\n",
    "    ps.plot_curv_in_all_ref_median_info(monkey_median_df)\n",
    "\n",
    "\n",
    "\n",
    "    ps.fig.update_layout(\n",
    "        title=f\"{monkey}: Reference Point vs Difference in Curvature Across Two Arc Pairs (Median ± 2 Bootstrap SE)\",\n",
    "        xaxis_title=\"Reference Point Value in Distance to Current FF (cm)\",\n",
    "        yaxis_title=\"Median Angle Difference to Next FF\"\n",
    "    )\n",
    "        \n",
    "\n",
    "    ps.plt.show()"
   ]
  },
  {
   "cell_type": "markdown",
   "id": "16",
   "metadata": {},
   "source": [
    "## perc"
   ]
  },
  {
   "cell_type": "code",
   "execution_count": null,
   "id": "17",
   "metadata": {},
   "outputs": [],
   "source": [
    "for monkey in ['Bruno', 'Schro']:\n",
    "    ps = monkey_plan_factors_x_sess_class.PlanAcrossSessions(monkey_name=f'monkey_{monkey}')\n",
    "    monkey_perc_df = ps.make_or_retrieve_pooled_perc_info(exists_ok=True)\n",
    "    ps.plot_direction_in_perc_info()\n",
    "    \n",
    "\n",
    "\n",
    "    ps.fig.update_layout(\n",
    "                    title=dict(\n",
    "                    text=f\"{monkey}: Same-Side Stop Rate\",\n",
    "                    x=0.5,         # center title\n",
    "                    y=0.95,        # a little below the top edge\n",
    "                    xanchor=\"center\",\n",
    "                    yanchor=\"top\",\n",
    "                    font=dict(size=18)\n",
    "                ),\n",
    "        yaxis=dict(\n",
    "            ticksuffix=\"%\",   # just add % symbol to numbers\n",
    "            title=\"Percentage (Median ± 2 Bootstrap SE)\"\n",
    "        )\n",
    "    )\n",
    "    ps.plt.show()"
   ]
  },
  {
   "cell_type": "markdown",
   "id": "18",
   "metadata": {},
   "source": [
    "# single monkey & arc type"
   ]
  },
  {
   "cell_type": "markdown",
   "id": "19",
   "metadata": {},
   "source": [
    "## heading"
   ]
  },
  {
   "cell_type": "code",
   "execution_count": null,
   "id": "20",
   "metadata": {},
   "outputs": [],
   "source": [
    "ps = monkey_plan_factors_x_sess_class.PlanAcrossSessions(monkey_name='monkey_Schro')\n",
    "monkey_median_df = ps.make_or_retrieve_all_ref_pooled_median_info(exists_ok=True, \n",
    "                                                                pooled_median_info_exists_ok=True)\n",
    "\n",
    "\n",
    "\n",
    "ps.plot_heading_in_all_ref_median_info(monkey_median_df)\n",
    "\n"
   ]
  },
  {
   "cell_type": "markdown",
   "id": "21",
   "metadata": {},
   "source": [
    "## curv"
   ]
  },
  {
   "cell_type": "code",
   "execution_count": null,
   "id": "22",
   "metadata": {},
   "outputs": [],
   "source": [
    "# Difference in Curvature Across Two Arc Pairs"
   ]
  },
  {
   "cell_type": "code",
   "execution_count": null,
   "id": "23",
   "metadata": {},
   "outputs": [],
   "source": [
    "ps = monkey_plan_factors_x_sess_class.PlanAcrossSessions(monkey_name='monkey_Schro')\n",
    "monkey_median_df = ps.make_or_retrieve_all_ref_pooled_median_info(exists_ok=True, \n",
    "                                                                pooled_median_info_exists_ok=True)\n",
    "ps.plot_curv_in_all_ref_median_info()\n",
    "\n"
   ]
  },
  {
   "cell_type": "markdown",
   "id": "24",
   "metadata": {},
   "source": [
    "## perc"
   ]
  },
  {
   "cell_type": "code",
   "execution_count": null,
   "id": "25",
   "metadata": {},
   "outputs": [],
   "source": [
    "ps = monkey_plan_factors_x_sess_class.PlanAcrossSessions(monkey_name='monkey_Schro')\n",
    "monkey_perc_df = ps.make_or_retrieve_pooled_perc_info(exists_ok=True)\n",
    "ps.plot_direction_in_perc_info()\n",
    "ps.plt.show()\n"
   ]
  },
  {
   "cell_type": "markdown",
   "id": "26",
   "metadata": {},
   "source": [
    "## example of changing plotting parameters"
   ]
  },
  {
   "cell_type": "code",
   "execution_count": null,
   "id": "27",
   "metadata": {},
   "outputs": [],
   "source": [
    "ps = monkey_plan_factors_x_sess_class.PlanAcrossSessions(monkey_name='monkey_Schro')\n",
    "monkey_median_df = ps.make_or_retrieve_all_ref_pooled_median_info(exists_ok=True, \n",
    "                                                           pooled_median_info_exists_ok=True)\n",
    "\n",
    "x_var_column_list = ['curv_traj_window_before_stop']\n",
    "\n",
    "fixed_variable_values_to_use = {\n",
    "                                #'whether_even_out_dist': True\n",
    "                                # 'max_curv_range': 200,\n",
    "                                # 'whether_filter_info': True,\n",
    "                                'if_test_nxt_ff_group_appear_after_stop': 'flexible',\n",
    "                                'key_for_split': 'ff_seen',\n",
    "                                #'whether_even_out_dist': False,\n",
    "}\n",
    "\n",
    "changeable_variables = ['whether_even_out_dist']\n",
    "\n",
    "\n",
    "columns_to_find_unique_combinations_for_color = []\n",
    "columns_to_find_unique_combinations_for_line = []\n",
    "\n",
    "\n",
    "ps.plot_heading_in_all_ref_median_info(x_var_column_list=x_var_column_list, \n",
    "                                           fixed_variable_values_to_use=fixed_variable_values_to_use,\n",
    "                                           changeable_variables=changeable_variables,\n",
    "                                           columns_to_find_unique_combinations_for_color=columns_to_find_unique_combinations_for_color,\n",
    "                                           columns_to_find_unique_combinations_for_line=columns_to_find_unique_combinations_for_line,\n",
    "                                           )"
   ]
  },
  {
   "cell_type": "markdown",
   "id": "28",
   "metadata": {},
   "source": [
    "# all monkeys & arc types"
   ]
  },
  {
   "cell_type": "markdown",
   "id": "29",
   "metadata": {},
   "source": [
    "## heading"
   ]
  },
  {
   "cell_type": "code",
   "execution_count": null,
   "id": "30",
   "metadata": {},
   "outputs": [],
   "source": [
    "ps = monkey_plan_factors_x_sess_class.PlanAcrossSessions()\n",
    "monkey_median_df = ps.combine_all_ref_pooled_median_info_across_monkeys_and_opt_arc_types()\n",
    "ps.plot_heading_in_all_ref_median_info_across_monkeys_and_arc_types()"
   ]
  },
  {
   "cell_type": "markdown",
   "id": "31",
   "metadata": {},
   "source": [
    "## curv"
   ]
  },
  {
   "cell_type": "code",
   "execution_count": null,
   "id": "32",
   "metadata": {},
   "outputs": [],
   "source": [
    "ps = monkey_plan_factors_x_sess_class.PlanAcrossSessions()\n",
    "monkey_median_df = ps.combine_all_ref_pooled_median_info_across_monkeys_and_opt_arc_types()\n",
    "ps.plot_curv_in_all_ref_median_info_across_monkeys_and_arc_types()"
   ]
  },
  {
   "cell_type": "markdown",
   "id": "33",
   "metadata": {},
   "source": [
    "## perc"
   ]
  },
  {
   "cell_type": "code",
   "execution_count": null,
   "id": "34",
   "metadata": {},
   "outputs": [],
   "source": [
    "ps = monkey_plan_factors_x_sess_class.PlanAcrossSessions()\n",
    "monkey_perc_df = ps.combine_pooled_perc_info_across_monkeys()\n",
    "ps.plot_direction_in_perc_info_across_monkeys()"
   ]
  },
  {
   "cell_type": "markdown",
   "id": "35",
   "metadata": {},
   "source": [
    "## example of changing plotting parameters"
   ]
  },
  {
   "cell_type": "code",
   "execution_count": null,
   "id": "36",
   "metadata": {},
   "outputs": [],
   "source": [
    "ps = monkey_plan_factors_x_sess_class.PlanAcrossSessions()\n",
    "monkey_median_df = ps.combine_all_ref_pooled_median_info_across_monkeys_and_opt_arc_types()\n",
    "ps.plot_heading_in_all_ref_median_info_across_monkeys_and_arc_types(\n",
    "                                                                      x_var_column_list=['ref_point_value'],\n",
    "                                                                      fixed_variable_values_to_use={\n",
    "                                                                                #'if_test_nxt_ff_group_appear_after_stop': 'flexible',\n",
    "                                                                                                    #'key_for_split': 'ff_seen',\n",
    "                                                                                                    'whether_even_out_dist': False,\n",
    "                                                                                                    'curv_traj_window_before_stop': '[-25, 0]',\n",
    "                                                                                                    'if_test_nxt_ff_group_appear_after_stop': 'flexible',\n",
    "                                                                                                    },\n",
    "                                                                      changeable_variables=[\n",
    "                                                                          'opt_arc_type', 'monkey_name'],\n",
    "                                                                      columns_to_find_unique_combinations_for_color=['opt_arc_type'],\n",
    "                                                                      columns_to_find_unique_combinations_for_line=[],\n",
    "                                                                      )"
   ]
  },
  {
   "cell_type": "code",
   "execution_count": null,
   "id": "37",
   "metadata": {},
   "outputs": [],
   "source": [
    "ps = monkey_plan_factors_x_sess_class.PlanAcrossSessions()\n",
    "monkey_median_df = ps.combine_all_ref_pooled_median_info_across_monkeys_and_opt_arc_types()\n",
    "ps.plot_heading_in_all_ref_median_info_across_monkeys_and_arc_types(\n",
    "                                                                      x_var_column_list=['if_test_nxt_ff_group_appear_after_stop'],\n",
    "                                                                      fixed_variable_values_to_use={\n",
    "                                                                                #'if_test_nxt_ff_group_appear_after_stop': 'flexible',\n",
    "                                                                                                    #'key_for_split': 'ff_seen',\n",
    "                                                                                                    'whether_even_out_dist': False,\n",
    "                                                                                                    'curv_traj_window_before_stop': '[-25, 0]',\n",
    "                                                                                                    'opt_arc_type': 'norm_opt_arc',\n",
    "                                                                                                    'ref_point_value': -100,\n",
    "                                                                                                    },\n",
    "                                                                      changeable_variables=[\n",
    "                                                                          'monkey_name',],\n",
    "                                                                      columns_to_find_unique_combinations_for_color=['opt_arc_type'],\n",
    "                                                                      columns_to_find_unique_combinations_for_line=[],\n",
    "                                                                      )"
   ]
  },
  {
   "cell_type": "markdown",
   "id": "38",
   "metadata": {},
   "source": [
    "# all monkeys: ref distance as x"
   ]
  },
  {
   "cell_type": "code",
   "execution_count": null,
   "id": "39",
   "metadata": {},
   "outputs": [],
   "source": [
    "x_var_column_list = ['ref_point_value']\n",
    "changeable_variables = ['opt_arc_type', 'monkey_name']"
   ]
  },
  {
   "cell_type": "markdown",
   "id": "40",
   "metadata": {},
   "source": [
    "## heading"
   ]
  },
  {
   "cell_type": "code",
   "execution_count": null,
   "id": "41",
   "metadata": {},
   "outputs": [],
   "source": [
    "0.95**20"
   ]
  },
  {
   "cell_type": "code",
   "execution_count": null,
   "id": "42",
   "metadata": {},
   "outputs": [],
   "source": [
    "reload(plot_variations_utils)"
   ]
  },
  {
   "cell_type": "code",
   "execution_count": null,
   "id": "43",
   "metadata": {},
   "outputs": [],
   "source": [
    "monkey_median_df[monkey_median_df['diff_in_abs_angle_to_nxt_ff_median'] > 10]"
   ]
  },
  {
   "cell_type": "code",
   "execution_count": null,
   "id": "44",
   "metadata": {},
   "outputs": [],
   "source": [
    "ps = monkey_plan_factors_x_sess_class.PlanAcrossSessions()\n",
    "monkey_median_df = ps.combine_all_ref_pooled_median_info_across_monkeys_and_opt_arc_types()\n",
    "ps.plot_heading_in_all_ref_median_info_across_monkeys_and_arc_types(x_var_column_list=x_var_column_list,changeable_variables=changeable_variables)"
   ]
  },
  {
   "cell_type": "markdown",
   "id": "45",
   "metadata": {},
   "source": [
    "## curv"
   ]
  },
  {
   "cell_type": "code",
   "execution_count": null,
   "id": "46",
   "metadata": {},
   "outputs": [],
   "source": [
    "ps = monkey_plan_factors_x_sess_class.PlanAcrossSessions()\n",
    "monkey_median_df = ps.combine_all_ref_pooled_median_info_across_monkeys_and_opt_arc_types()\n",
    "ps.plot_curv_in_all_ref_median_info_across_monkeys_and_arc_types(x_var_column_list=x_var_column_list,changeable_variables=changeable_variables)"
   ]
  },
  {
   "cell_type": "markdown",
   "id": "47",
   "metadata": {},
   "source": [
    "## perc"
   ]
  },
  {
   "cell_type": "code",
   "execution_count": null,
   "id": "48",
   "metadata": {},
   "outputs": [],
   "source": [
    "ps = monkey_plan_factors_x_sess_class.PlanAcrossSessions()\n",
    "monkey_perc_df = ps.combine_pooled_perc_info_across_monkeys()\n",
    "ps.plot_direction_in_perc_info_across_monkeys()"
   ]
  },
  {
   "cell_type": "markdown",
   "id": "49",
   "metadata": {},
   "source": [
    "## example of changing plotting parameters"
   ]
  },
  {
   "cell_type": "code",
   "execution_count": null,
   "id": "50",
   "metadata": {},
   "outputs": [],
   "source": [
    "ps = monkey_plan_factors_x_sess_class.PlanAcrossSessions()\n",
    "monkey_median_df = ps.combine_all_ref_pooled_median_info_across_monkeys_and_opt_arc_types()\n",
    "ps.plot_heading_in_all_ref_median_info_across_monkeys_and_arc_types(\n",
    "                                                                      x_var_column_list=['key_for_split'],\n",
    "                                                                      fixed_variable_values_to_use={\n",
    "                                                                                'if_test_nxt_ff_group_appear_after_stop': 'flexible',\n",
    "                                                                                                    #'key_for_split': 'ff_seen',\n",
    "                                                                                                    'whether_even_out_dist': False,\n",
    "                                                                                                    'curv_traj_window_before_stop': '[-25, 0]'\n",
    "                                                                                                    },\n",
    "                                                                      changeable_variables=[\n",
    "                                                                          'ref_point_value', 'monkey_name'],\n",
    "                                                                      columns_to_find_unique_combinations_for_color=['opt_arc_type'],\n",
    "                                                                      columns_to_find_unique_combinations_for_line=[],\n",
    "                                                                      )"
   ]
  },
  {
   "cell_type": "markdown",
   "id": "51",
   "metadata": {},
   "source": [
    "# agents vs monkeys"
   ]
  },
  {
   "cell_type": "markdown",
   "id": "52",
   "metadata": {},
   "source": [
    "## agent data"
   ]
  },
  {
   "cell_type": "code",
   "execution_count": null,
   "id": "53",
   "metadata": {},
   "outputs": [],
   "source": [
    "# remove the folder RL_models/SB3_stored_models/all_collected_data\n"
   ]
  },
  {
   "cell_type": "code",
   "execution_count": null,
   "id": "54",
   "metadata": {},
   "outputs": [],
   "source": [
    "import shutil\n",
    "import os\n",
    "\n",
    "folder_path = \"RL_models/SB3_stored_models/all_collected_data\"\n",
    "\n",
    "# Check if folder exists before removing\n",
    "if os.path.exists(folder_path) and os.path.isdir(folder_path):\n",
    "    shutil.rmtree(folder_path)\n",
    "    print(f\"Removed folder: {folder_path}\")\n",
    "else:\n",
    "    print(f\"Folder not found: {folder_path}\")\n"
   ]
  },
  {
   "cell_type": "code",
   "execution_count": null,
   "id": "55",
   "metadata": {},
   "outputs": [],
   "source": [
    "exists_ok = False\n",
    "pfas = agent_plan_factors_x_sess_class.PlanFactorsAcrossAgentSessions(num_steps_per_dataset=100000)\n",
    "agent_all_ref_pooled_median_info = pfas.make_or_retrieve_all_ref_pooled_median_info(exists_ok=exists_ok)\n",
    "agent_all_perc_df = pfas.make_or_retrieve_pooled_perc_info(exists_ok=exists_ok)"
   ]
  },
  {
   "cell_type": "code",
   "execution_count": null,
   "id": "56",
   "metadata": {},
   "outputs": [],
   "source": [
    "#for opt_arc_type in ['norm_opt_arc', 'opt_arc_stop_closest', 'opt_arc_stop_first_vis_bdry']:"
   ]
  },
  {
   "cell_type": "code",
   "execution_count": null,
   "id": "57",
   "metadata": {},
   "outputs": [],
   "source": [
    "cma = cmp_monkey_agent_plan_class.CompareMonkeyAgentPlan(opt_arc_type='norm_opt_arc')\n",
    "cma.get_monkey_and_agent_all_ref_pooled_median_info()\n",
    "cma.get_monkey_and_agent_pooled_perc_info()"
   ]
  },
  {
   "cell_type": "markdown",
   "id": "58",
   "metadata": {},
   "source": [
    "## heading"
   ]
  },
  {
   "cell_type": "code",
   "execution_count": null,
   "id": "59",
   "metadata": {},
   "outputs": [],
   "source": [
    "x_var_column_list = ['monkey_name']\n",
    "fixed_variable_values_to_use = {#'whether_even_out_dist': True,\n",
    "                                'if_test_nxt_ff_group_appear_after_stop': 'flexible',\n",
    "                                'key_for_split': 'ff_seen',\n",
    "                                }\n",
    "changeable_variables = ['ref_point_value']\n",
    "columns_to_find_unique_combinations_for_color = []\n",
    "\n",
    "cma.plot_heading_in_all_ref_median_info_across_monkeys_and_arc_types(x_var_column_list=x_var_column_list,\n",
    "                                                                fixed_variable_values_to_use=fixed_variable_values_to_use,\n",
    "                                                                changeable_variables=changeable_variables,\n",
    "                                                                columns_to_find_unique_combinations_for_color=columns_to_find_unique_combinations_for_color)"
   ]
  },
  {
   "cell_type": "markdown",
   "id": "60",
   "metadata": {},
   "source": [
    "## curv"
   ]
  },
  {
   "cell_type": "code",
   "execution_count": null,
   "id": "61",
   "metadata": {},
   "outputs": [],
   "source": [
    "x_var_column_list = ['monkey_name']\n",
    "fixed_variable_values_to_use = {'whether_even_out_dist': False,\n",
    "                                'if_test_nxt_ff_group_appear_after_stop': 'flexible',\n",
    "                                'key_for_split': 'ff_seen',\n",
    "                                }\n",
    "changeable_variables = ['ref_point_value']\n",
    "columns_to_find_unique_combinations_for_color = []\n",
    "\n",
    "cma.plot_curv_in_all_ref_median_info_across_monkeys_and_arc_types(x_var_column_list=x_var_column_list,\n",
    "                                                                fixed_variable_values_to_use=fixed_variable_values_to_use,\n",
    "                                                                changeable_variables=changeable_variables,\n",
    "                                                                columns_to_find_unique_combinations_for_color=columns_to_find_unique_combinations_for_color)"
   ]
  },
  {
   "cell_type": "markdown",
   "id": "62",
   "metadata": {},
   "source": [
    "## perc"
   ]
  },
  {
   "cell_type": "code",
   "execution_count": null,
   "id": "63",
   "metadata": {},
   "outputs": [],
   "source": [
    "x_var_column_list = ['monkey_name']\n",
    "\n",
    "fixed_variable_values_to_use = {#'whether_even_out_dist': False,\n",
    "                                'if_test_nxt_ff_group_appear_after_stop': 'flexible',\n",
    "                                'key_for_split': 'ff_seen',\n",
    "                                }\n",
    "\n",
    "changeable_variables = [] #'if_test_nxt_ff_group_appear_after_stop'\n",
    "\n",
    "columns_to_find_unique_combinations_for_color = []\n",
    "\n",
    "cma.plot_direction_in_perc_info_across_monkeys(x_var_column_list=x_var_column_list,\n",
    "                                                                fixed_variable_values_to_use=fixed_variable_values_to_use,\n",
    "                                                                changeable_variables=changeable_variables,\n",
    "                                                                columns_to_find_unique_combinations_for_color=columns_to_find_unique_combinations_for_color)"
   ]
  }
 ],
 "metadata": {
  "kernelspec": {
   "display_name": "multiff_clean",
   "language": "python",
   "name": "python3"
  },
  "language_info": {
   "codemirror_mode": {
    "name": "ipython",
    "version": 3
   },
   "file_extension": ".py",
   "mimetype": "text/x-python",
   "name": "python",
   "nbconvert_exporter": "python",
   "pygments_lexer": "ipython3",
   "version": "3.11.11"
  }
 },
 "nbformat": 4,
 "nbformat_minor": 5
}
