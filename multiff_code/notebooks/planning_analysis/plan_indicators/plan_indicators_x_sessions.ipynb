{
 "cells": [
  {
   "cell_type": "markdown",
   "id": "0",
   "metadata": {},
   "source": [
    "# Main features\n",
    "'diff_in_abs_angle_to_nxt_ff', 'diff_in_abs_d_curv', 'dir_from_cur_ff_same_side'"
   ]
  },
  {
   "cell_type": "markdown",
   "id": "1",
   "metadata": {},
   "source": [
    "# Import packages"
   ]
  },
  {
   "cell_type": "code",
   "execution_count": null,
   "id": "2",
   "metadata": {},
   "outputs": [],
   "source": [
    "%load_ext autoreload\n",
    "%autoreload 2\n",
    "\n",
    "from pathlib import Path\n",
    "import os, sys\n",
    "for p in [Path.cwd()] + list(Path.cwd().parents):\n",
    "    if p.name == 'Multifirefly-Project':\n",
    "        os.chdir(p)\n",
    "        sys.path.insert(0, str(p / 'multiff_analysis/multiff_code/methods'))\n",
    "        break\n",
    "\n",
    "\n",
    "from pattern_discovery import monkey_landing_in_ff\n",
    "from machine_learning.ml_methods import regression_utils, classification_utils, prep_ml_data_utils\n",
    "from visualization.matplotlib_tools import plot_trials\n",
    "from planning_analysis.show_planning import examine_null_arcs\n",
    "from planning_analysis.show_planning.cur_vs_nxt_ff import cvn_from_ref_class\n",
    "from planning_analysis.only_cur_ff import only_cur_ff_x_sess_class\n",
    "from planning_analysis.plan_factors import plan_factors_utils, build_factor_comp, plan_factors_class, monkey_plan_factors_x_sess_class\n",
    "from planning_analysis.agent_analysis import compare_monkey_and_agent_utils, agent_plan_factors_x_sess_class, cmp_monkey_agent_plan_class\n",
    "from machine_learning.ml_methods import ml_methods_class, prep_ml_data_utils\n",
    "from planning_analysis.plan_factors import monkey_plan_factors_x_sess_class, monkey_plan_factors_x_sess_class\n",
    "from planning_analysis.factors_vs_indicators import make_variations_utils, plot_variations_utils, process_variations_utils\n",
    "from data_wrangling import specific_utils\n",
    "\n",
    "import numpy as np\n",
    "import matplotlib\n",
    "import matplotlib.pyplot as plt\n",
    "import seaborn as sns\n",
    "import matplotlib.pyplot as plt\n",
    "import pandas as pd\n",
    "from matplotlib import rc\n",
    "import os, sys\n",
    "from importlib import reload\n",
    "\n",
    "plt.rcParams[\"animation.html\"] = \"html5\"\n",
    "os.environ['KMP_DUPLICATE_LIB_OK']='True'\n",
    "rc('animation', html='jshtml')\n",
    "matplotlib.rcParams.update(matplotlib.rcParamsDefault)\n",
    "matplotlib.rcParams['animation.embed_limit'] = 2**128\n",
    "pd.set_option('display.float_format', lambda x: '%.5f' % x)\n",
    "np.set_printoptions(suppress=True)\n",
    "pd.options.display.max_rows = 101"
   ]
  },
  {
   "cell_type": "markdown",
   "id": "3",
   "metadata": {},
   "source": [
    "# run overnight"
   ]
  },
  {
   "cell_type": "code",
   "execution_count": null,
   "id": "4",
   "metadata": {},
   "outputs": [],
   "source": [
    "# import os\n",
    "# import shutil\n",
    "\n",
    "# folder_path = \"/Users/dusiyi/Documents/Multifirefly-Project/all_monkey_data/planning/monkey_Schro/combined_data\"\n",
    "\n",
    "# if os.path.exists(folder_path) and os.path.isdir(folder_path):\n",
    "#     shutil.rmtree(folder_path)\n",
    "#     print(\"Deleted:\", folder_path)\n",
    "# else:\n",
    "#     print(\"Folder does not exist:\", folder_path)\n"
   ]
  },
  {
   "cell_type": "code",
   "execution_count": null,
   "id": "5",
   "metadata": {},
   "outputs": [],
   "source": [
    "exists_ok = True\n",
    "list_of_curv_traj_window_before_stop = [[-25, 0]]\n",
    "\n",
    "for monkey_name in ['monkey_Schro', 'monkey_Bruno']:\n",
    "    for opt_arc_type in ['norm_opt_arc', 'opt_arc_stop_closest', 'opt_arc_stop_first_vis_bdry']:\n",
    "        # suppress printed output\n",
    "        # with open(os.devnull, \"w\") as f, contextlib.redirect_stdout(f):\n",
    "\n",
    "        ps = monkey_plan_factors_x_sess_class.PlanAcrossSessions(monkey_name=monkey_name, \n",
    "                                                                opt_arc_type=opt_arc_type)\n",
    "        all_ref_pooled_median_info = ps.make_or_retrieve_all_ref_pooled_median_info(exists_ok=exists_ok,\n",
    "                                                                    list_of_curv_traj_window_before_stop=list_of_curv_traj_window_before_stop,\n",
    "                                                                    )\n",
    "        pooled_perc_info = ps.make_or_retrieve_pooled_perc_info(exists_ok=exists_ok)\n",
    "        \n",
    "        # all_cur_and_nxt_lr_pred_ff_df = ps.make_or_retrieve_all_cur_and_nxt_lr_pred_ff_df(exists_ok=exists_ok)\n",
    "        # all_cur_and_nxt_lr_df = ps.make_or_retrieve_all_cur_and_nxt_lr_df(exists_ok=exists_ok)\n",
    "        # all_cur_and_nxt_clf_df = ps.make_or_retrieve_all_cur_and_nxt_clf_df()\n",
    "\n",
    "        # # # can comment out the below if not needed\n",
    "        # osfxs = only_cur_ff_x_sess_class.OnlyStopFFAcrossSessions(monkey_name=monkey_name)\n",
    "        # all_only_cur_lr_df = osfxs.make_or_retrieve_all_only_cur_lr_df(exists_ok=exists_ok)\n",
    "        # all_only_cur_ml_df = osfxs.make_or_retrieve_all_only_cur_ml_df(exists_ok=exists_ok)            "
   ]
  },
  {
   "cell_type": "markdown",
   "id": "6",
   "metadata": {},
   "source": [
    "# exp"
   ]
  },
  {
   "cell_type": "code",
   "execution_count": null,
   "id": "7",
   "metadata": {},
   "outputs": [],
   "source": [
    "        # all_ref_pooled_median_info = ps.make_or_retrieve_all_ref_pooled_median_info(exists_ok=exists_ok,\n",
    "        #                                                             list_of_curv_traj_window_before_stop=list_of_curv_traj_window_before_stop,\n",
    "        #                                                             )\n",
    "        # pooled_perc_info = ps.make_or_retrieve_pooled_perc_info(exists_ok=exists_ok)"
   ]
  },
  {
   "cell_type": "code",
   "execution_count": null,
   "id": "8",
   "metadata": {},
   "outputs": [],
   "source": [
    "self.dict_of_combd_heading_info_folder_path = {'test': self.combd_cur_and_nxt_folder_path + f'/data/combd_heading_info/{self.opt_arc_type}/test',\n",
    "                                            'control': self.combd_cur_and_nxt_folder_path + f'/data/combd_heading_info/{self.opt_arc_type}/control/'}\n",
    "\n",
    "self.dict_of_combd_diff_in_curv_folder_path = {'test': self.combd_cur_and_nxt_folder_path + f'/data/combd_diff_in_curv/{self.opt_arc_type}/test',\n",
    "                                                'control': self.combd_cur_and_nxt_folder_path + f'/data/combd_diff_in_curv/{self.opt_arc_type}/control'}"
   ]
  },
  {
   "cell_type": "code",
   "execution_count": null,
   "id": "9",
   "metadata": {},
   "outputs": [],
   "source": [
    "self.dict_of_combd_heading_info_folder_path[test_or_control]"
   ]
  },
  {
   "cell_type": "code",
   "execution_count": null,
   "id": "10",
   "metadata": {},
   "outputs": [],
   "source": [
    "# ps.combine_test_and_ctrl_heading_info_df_across_sessions_and_ref_point_params()"
   ]
  },
  {
   "cell_type": "code",
   "execution_count": null,
   "id": "11",
   "metadata": {},
   "outputs": [],
   "source": [
    "df = ps.all_test_heading_info_df\n",
    "\n",
    "shared_stop_points = (\n",
    "    df.groupby(\"ref_point_value\")[\"stop_point_index\"]\n",
    "      .apply(set)             # each group → set of indices\n",
    "      .agg(lambda sets: set.intersection(*sets))  # intersect all sets\n",
    ")\n",
    "\n"
   ]
  },
  {
   "cell_type": "code",
   "execution_count": null,
   "id": "12",
   "metadata": {},
   "outputs": [],
   "source": [
    "df = ps.all_test_heading_info_df\n",
    "\n",
    "# --- Step 1: find shared stop_point_index across all ref_point_value ---\n",
    "shared_stop_points = set.intersection(\n",
    "    *df.groupby(\"ref_point_value\")[\"stop_point_index\"].apply(set)\n",
    ")\n",
    "df_shared = df[df[\"stop_point_index\"].isin(shared_stop_points)].copy()\n",
    "\n",
    "# --- Step 2: keep only those rows ---\n",
    "df_shared = df[df[\"stop_point_index\"].isin(shared_stop_points)].copy()\n"
   ]
  },
  {
   "cell_type": "code",
   "execution_count": null,
   "id": "13",
   "metadata": {},
   "outputs": [],
   "source": [
    "# starting from get_test_and_ctrl_heading_info_df_across_sessions"
   ]
  },
  {
   "cell_type": "code",
   "execution_count": null,
   "id": "14",
   "metadata": {},
   "outputs": [],
   "source": [
    "df_shared"
   ]
  },
  {
   "cell_type": "code",
   "execution_count": null,
   "id": "15",
   "metadata": {},
   "outputs": [],
   "source": [
    "# change this\n",
    "\n",
    "    def get_test_and_ctrl_heading_info_df_across_sessions(self,\n",
    "                                                          num_datasets_to_collect=1,\n",
    "                                                          ref_point_mode='distance', ref_point_value=-150,\n",
    "                                                          curv_traj_window_before_stop=[\n",
    "                                                              -25, 0],\n",
    "                                                          heading_info_df_exists_ok=True,\n",
    "                                                          combd_heading_df_x_sessions_exists_ok=True,\n",
    "                                                          stops_near_ff_df_exists_ok=True,\n",
    "                                                          curv_of_traj_mode='distance', window_for_curv_of_traj=[-25, 0],\n",
    "                                                          use_curv_to_ff_center=False,\n",
    "                                                          save_data=True,\n",
    "                                                          **env_kwargs\n",
    "                                                          ):\n",
    "        try:\n",
    "            if combd_heading_df_x_sessions_exists_ok:\n",
    "                self.retrieve_combd_heading_df_x_sessions(ref_point_mode=ref_point_mode, ref_point_value=ref_point_value,\n",
    "                                                          curv_traj_window_before_stop=curv_traj_window_before_stop)\n",
    "                if (len(self.ctrl_heading_info_df) == 0) or (len(self.test_heading_info_df) == 0):\n",
    "                    raise Exception('Empty combd_heading_df_x_sessions.')\n",
    "            else:\n",
    "                raise Exception()\n",
    "\n",
    "        except Exception as e:\n",
    "            print(\n",
    "                f'Will make new combd_heading_df_x_sessions for the agent because {e}.')\n",
    "            self.make_combd_heading_df_x_sessions(num_steps_per_dataset=self.num_steps_per_dataset, num_datasets_to_collect=num_datasets_to_collect,\n",
    "                                                  ref_point_mode=ref_point_mode, ref_point_value=ref_point_value,\n",
    "                                                  curv_traj_window_before_stop=curv_traj_window_before_stop,\n",
    "                                                  heading_info_df_exists_ok=heading_info_df_exists_ok,\n",
    "                                                  stops_near_ff_df_exists_ok=stops_near_ff_df_exists_ok,\n",
    "                                                  curv_of_traj_mode=curv_of_traj_mode, window_for_curv_of_traj=window_for_curv_of_traj,\n",
    "                                                  use_curv_to_ff_center=use_curv_to_ff_center,\n",
    "                                                  save_data=save_data,\n",
    "                                                  **env_kwargs)"
   ]
  },
  {
   "cell_type": "code",
   "execution_count": null,
   "id": "16",
   "metadata": {},
   "outputs": [],
   "source": [
    "len(shared_stop_points.tolist())"
   ]
  },
  {
   "cell_type": "code",
   "execution_count": null,
   "id": "17",
   "metadata": {},
   "outputs": [],
   "source": [
    "\n",
    "ps.all_test_heading_info_df has column data_name and stop_point_index # across all data names, find set of stop_point_index shared by all data names"
   ]
  },
  {
   "cell_type": "code",
   "execution_count": null,
   "id": "18",
   "metadata": {},
   "outputs": [],
   "source": [
    "# self.get_test_and_ctrl_heading_info_df_across_sessions(\n",
    "#     ref_point_mode=ref_point_mode,\n",
    "#     ref_point_value=ref_point_value,\n",
    "#     curv_traj_window_before_stop=curv_traj_window_before_stop,\n",
    "#     heading_info_df_exists_ok=heading_info_df_exists_ok,\n",
    "#     stops_near_ff_df_exists_ok=stops_near_ff_df_exists_ok,\n",
    "#     save_data=save_data,\n",
    "#     combd_heading_df_x_sessions_exists_ok=combd_heading_df_x_sessions_exists_ok,\n",
    "# )"
   ]
  },
  {
   "cell_type": "markdown",
   "id": "19",
   "metadata": {},
   "source": [
    "# single monkey & arc type"
   ]
  },
  {
   "cell_type": "markdown",
   "id": "20",
   "metadata": {},
   "source": [
    "## heading"
   ]
  },
  {
   "cell_type": "code",
   "execution_count": null,
   "id": "21",
   "metadata": {},
   "outputs": [],
   "source": [
    "ps = monkey_plan_factors_x_sess_class.PlanAcrossSessions(monkey_name='monkey_Schro')\n",
    "monkey_median_df = ps.make_or_retrieve_all_ref_per_sess_median_info(exists_ok=False, \n",
    "                                                                pooled_median_info_exists_ok=True,\n",
    "                                                                )\n",
    "monkey_median_df = make_variations_utils.assign_session_id(monkey_median_df)\n",
    "ps.plot_heading_in_all_ref_median_info(monkey_median_df)"
   ]
  },
  {
   "cell_type": "markdown",
   "id": "22",
   "metadata": {},
   "source": [
    "## curv"
   ]
  },
  {
   "cell_type": "code",
   "execution_count": null,
   "id": "23",
   "metadata": {},
   "outputs": [],
   "source": [
    "ps = monkey_plan_factors_x_sess_class.PlanAcrossSessions(monkey_name='monkey_Schro')\n",
    "monkey_median_df = ps.make_or_retrieve_all_ref_per_sess_median_info(\n",
    "    exists_ok=True, \n",
    "    pooled_median_info_exists_ok=True,\n",
    "    )\n",
    "ps.plot_curv_in_all_ref_median_info(monkey_median_df)"
   ]
  },
  {
   "cell_type": "markdown",
   "id": "24",
   "metadata": {},
   "source": [
    "## perc"
   ]
  },
  {
   "cell_type": "code",
   "execution_count": null,
   "id": "25",
   "metadata": {},
   "outputs": [],
   "source": [
    "ps = monkey_plan_factors_x_sess_class.PlanAcrossSessions(monkey_name='monkey_Bruno')\n",
    "monkey_perc_df = ps.make_or_retrieve_per_sess_perc_info(exists_ok=True)\n",
    "ps.plot_direction_in_perc_info(perc_info=ps.per_sess_perc_info_new)"
   ]
  },
  {
   "cell_type": "markdown",
   "id": "26",
   "metadata": {},
   "source": [
    "## example of changing plotting parameters"
   ]
  },
  {
   "cell_type": "code",
   "execution_count": null,
   "id": "27",
   "metadata": {},
   "outputs": [],
   "source": [
    "ps = monkey_plan_factors_x_sess_class.PlanAcrossSessions(monkey_name='monkey_Schro')\n",
    "monkey_median_df = ps.make_or_retrieve_all_ref_per_sess_median_info(exists_ok=True, \n",
    "                                                           pooled_median_info_exists_ok=True,\n",
    "                                                           )\n",
    "\n",
    "x_var_column_list = ['curv_traj_window_before_stop']\n",
    "\n",
    "fixed_variable_values_to_use = {\n",
    "                                #'whether_even_out_dist': True\n",
    "                                # 'max_curv_range': 200,\n",
    "                                # 'whether_filter_info': True,\n",
    "                                'if_test_nxt_ff_group_appear_after_stop': 'flexible',\n",
    "                                'key_for_split': 'ff_seen',\n",
    "                                #'whether_even_out_dist': False,\n",
    "}\n",
    "\n",
    "changeable_variables = ['whether_even_out_dist']\n",
    "\n",
    "\n",
    "columns_to_find_unique_combinations_for_color = []\n",
    "columns_to_find_unique_combinations_for_line = []\n",
    "\n",
    "\n",
    "ps.plot_heading_in_all_ref_median_info(x_var_column_list=x_var_column_list, \n",
    "                                           fixed_variable_values_to_use=fixed_variable_values_to_use,\n",
    "                                           changeable_variables=changeable_variables,\n",
    "                                           columns_to_find_unique_combinations_for_color=columns_to_find_unique_combinations_for_color,\n",
    "                                           columns_to_find_unique_combinations_for_line=columns_to_find_unique_combinations_for_line,\n",
    "                                           )"
   ]
  },
  {
   "cell_type": "markdown",
   "id": "28",
   "metadata": {},
   "source": [
    "# all monkeys & arc types"
   ]
  },
  {
   "cell_type": "markdown",
   "id": "29",
   "metadata": {},
   "source": [
    "## heading"
   ]
  },
  {
   "cell_type": "code",
   "execution_count": null,
   "id": "30",
   "metadata": {},
   "outputs": [],
   "source": [
    "ps = monkey_plan_factors_x_sess_class.PlanAcrossSessions()\n",
    "monkey_median_df = ps.combine_all_ref_per_sess_median_info_across_monkeys_and_opt_arc_types()\n",
    "ps.plot_heading_in_all_ref_median_info_across_monkeys_and_arc_types()"
   ]
  },
  {
   "cell_type": "markdown",
   "id": "31",
   "metadata": {},
   "source": [
    "## curv"
   ]
  },
  {
   "cell_type": "code",
   "execution_count": null,
   "id": "32",
   "metadata": {},
   "outputs": [],
   "source": [
    "ps = monkey_plan_factors_x_sess_class.PlanAcrossSessions()\n",
    "monkey_median_df = ps.combine_all_ref_per_sess_median_info_across_monkeys_and_opt_arc_types()\n",
    "ps.plot_curv_in_all_ref_median_info_across_monkeys_and_arc_types()"
   ]
  },
  {
   "cell_type": "markdown",
   "id": "33",
   "metadata": {},
   "source": [
    "## perc"
   ]
  },
  {
   "cell_type": "code",
   "execution_count": null,
   "id": "34",
   "metadata": {},
   "outputs": [],
   "source": [
    "ps = monkey_plan_factors_x_sess_class.PlanAcrossSessions()\n",
    "monkey_perc_df = ps.combine_pooled_perc_info_across_monkeys()\n",
    "ps.plot_direction_in_perc_info_across_monkeys(ps.per_sess_perc_info_new)"
   ]
  },
  {
   "cell_type": "markdown",
   "id": "35",
   "metadata": {},
   "source": [
    "## example of changing plotting parameters"
   ]
  },
  {
   "cell_type": "code",
   "execution_count": null,
   "id": "36",
   "metadata": {},
   "outputs": [],
   "source": [
    "ps = monkey_plan_factors_x_sess_class.PlanAcrossSessions()\n",
    "monkey_median_df = ps.combine_all_ref_per_sess_median_info_across_monkeys_and_opt_arc_types()\n",
    "ps.plot_heading_in_all_ref_median_info_across_monkeys_and_arc_types(\n",
    "                                                                      x_var_column_list=['key_for_split'],\n",
    "                                                                      fixed_variable_values_to_use={\n",
    "                                                                                'if_test_nxt_ff_group_appear_after_stop': 'flexible',\n",
    "                                                                                                    #'key_for_split': 'ff_seen',\n",
    "                                                                                                    'whether_even_out_dist': False,\n",
    "                                                                                                    'curv_traj_window_before_stop': [-25, 0]\n",
    "                                                                                                    },\n",
    "                                                                      changeable_variables=[\n",
    "                                                                          'ref_point_value', 'monkey_name'],\n",
    "                                                                      columns_to_find_unique_combinations_for_color=['opt_arc_type'],\n",
    "                                                                      columns_to_find_unique_combinations_for_line=[],\n",
    "                                                                      )"
   ]
  },
  {
   "cell_type": "markdown",
   "id": "37",
   "metadata": {},
   "source": [
    "# all monkeys: session_id as x"
   ]
  },
  {
   "cell_type": "code",
   "execution_count": null,
   "id": "38",
   "metadata": {},
   "outputs": [],
   "source": [
    "x_var_column_list = ['session_id']\n",
    "changeable_variables = ['opt_arc_type', 'ref_point_value', 'monkey_name']\n",
    "\n",
    "fixed_variable_values_to_use={'if_test_nxt_ff_group_appear_after_stop': 'flexible',\n",
    "                                'key_for_split': 'ff_seen',\n",
    "                                'whether_even_out_dist': False,\n",
    "                                'curv_traj_window_before_stop': '[-25, 0]',\n",
    "                                'opt_arc_type': 'norm_opt_arc',\n",
    "                                'monkey_name': 'monkey_Bruno',\n",
    "                                }"
   ]
  },
  {
   "cell_type": "markdown",
   "id": "39",
   "metadata": {},
   "source": [
    "## heading"
   ]
  },
  {
   "cell_type": "code",
   "execution_count": null,
   "id": "40",
   "metadata": {},
   "outputs": [],
   "source": [
    "ps = monkey_plan_factors_x_sess_class.PlanAcrossSessions()\n",
    "monkey_median_df = ps.combine_all_ref_per_sess_median_info_across_monkeys_and_opt_arc_types()\n",
    "monkey_median_df = make_variations_utils.assign_session_id(monkey_median_df)"
   ]
  },
  {
   "cell_type": "code",
   "execution_count": null,
   "id": "41",
   "metadata": {},
   "outputs": [],
   "source": [
    "\n",
    "ps.plot_heading_in_all_ref_median_info_across_monkeys_and_arc_types(monkey_median_df,\n",
    "    x_var_column_list=x_var_column_list,\n",
    "    changeable_variables=changeable_variables,\n",
    "    fixed_variable_values_to_use=fixed_variable_values_to_use,\n",
    "    add_error_bars= True)"
   ]
  },
  {
   "cell_type": "markdown",
   "id": "42",
   "metadata": {},
   "source": [
    "## curv"
   ]
  },
  {
   "cell_type": "code",
   "execution_count": null,
   "id": "43",
   "metadata": {},
   "outputs": [],
   "source": [
    "ps = monkey_plan_factors_x_sess_class.PlanAcrossSessions()\n",
    "monkey_median_df = ps.combine_all_ref_per_sess_median_info_across_monkeys_and_opt_arc_types()\n",
    "monkey_median_df = make_variations_utils.assign_session_id(monkey_median_df)"
   ]
  },
  {
   "cell_type": "code",
   "execution_count": null,
   "id": "44",
   "metadata": {},
   "outputs": [],
   "source": [
    "ps.plot_curv_in_all_ref_median_info_across_monkeys_and_arc_types(monkey_median_df,\n",
    "    x_var_column_list=x_var_column_list,\n",
    "    changeable_variables=changeable_variables,\n",
    "    fixed_variable_values_to_use=fixed_variable_values_to_use,\n",
    "    add_error_bars= True)"
   ]
  },
  {
   "cell_type": "markdown",
   "id": "45",
   "metadata": {},
   "source": [
    "## perc"
   ]
  },
  {
   "cell_type": "code",
   "execution_count": null,
   "id": "46",
   "metadata": {},
   "outputs": [],
   "source": [
    "x_var_column_list = ['session_id']\n",
    "changeable_variables = ['monkey_name']\n",
    "\n",
    "fixed_variable_values_to_use={'if_test_nxt_ff_group_appear_after_stop': 'flexible',\n",
    "                                'key_for_split': 'ff_seen',\n",
    "                                'whether_even_out_dist': False,\n",
    "                                'monkey_name': 'monkey_Bruno',\n",
    "                                }\n",
    "\n",
    "\n",
    "ps = monkey_plan_factors_x_sess_class.PlanAcrossSessions()\n",
    "monkey_perc_df = ps.combine_per_sess_perc_info_across_monkeys()\n",
    "monkey_perc_df = make_variations_utils.assign_session_id(monkey_perc_df)\n",
    "ps.plot_direction_in_perc_info_across_monkeys(monkey_perc_df,\n",
    "     x_var_column_list=x_var_column_list,\n",
    "    changeable_variables=changeable_variables,\n",
    "    fixed_variable_values_to_use=fixed_variable_values_to_use,\n",
    "    add_error_bars= True)"
   ]
  },
  {
   "cell_type": "markdown",
   "id": "47",
   "metadata": {},
   "source": [
    "## example of changing plotting parameters"
   ]
  },
  {
   "cell_type": "code",
   "execution_count": null,
   "id": "48",
   "metadata": {},
   "outputs": [],
   "source": [
    "ps = monkey_plan_factors_x_sess_class.PlanAcrossSessions()\n",
    "monkey_median_df = ps.combine_all_ref_per_sess_median_info_across_monkeys_and_opt_arc_types()\n",
    "ps.plot_heading_in_all_ref_median_info_across_monkeys_and_arc_types(\n",
    "                                                                      x_var_column_list=['key_for_split'],\n",
    "                                                                      fixed_variable_values_to_use={\n",
    "                                                                                'if_test_nxt_ff_group_appear_after_stop': 'flexible',\n",
    "                                                                                                    #'key_for_split': 'ff_seen',\n",
    "                                                                                                    'whether_even_out_dist': False,\n",
    "                                                                                                    'curv_traj_window_before_stop': [-25, 0]\n",
    "                                                                                                    },\n",
    "                                                                      changeable_variables=[\n",
    "                                                                          'ref_point_value', 'monkey_name'],\n",
    "                                                                      columns_to_find_unique_combinations_for_color=['opt_arc_type'],\n",
    "                                                                      columns_to_find_unique_combinations_for_line=[],\n",
    "                                                                      )"
   ]
  },
  {
   "cell_type": "markdown",
   "id": "49",
   "metadata": {},
   "source": [
    "# code that might be useful in the future"
   ]
  },
  {
   "cell_type": "code",
   "execution_count": null,
   "id": "50",
   "metadata": {},
   "outputs": [],
   "source": [
    "per_sess_median_info = pd.DataFrame()\n",
    "ref_point_params = monkey_plan_factors_x_sess_class.PlanAcrossSessions.default_ref_point_params_based_on_mode\n",
    "monkeys=['monkey_Schro', 'monkey_Bruno']\n",
    "curv_traj_window_before_stop=[-25, 0]\n",
    "verbose=True\n",
    "kwargs = {}\n",
    "opt_arc_type = 'opt_arc_stop_closest'\n",
    "\n",
    "for monkey_name in monkeys:\n",
    "    variations_list = specific_utils.init_variations_list_func(\n",
    "        ref_point_params,\n",
    "        monkey_name=monkey_name\n",
    "    )\n",
    "    \n",
    "    for _, row in variations_list.iterrows():\n",
    "        ref_point_mode = row['ref_point_mode']\n",
    "        ref_point_value = row['ref_point_value']\n",
    "        if verbose:\n",
    "            print(row)\n",
    "        \n",
    "        # Initialize sessions\n",
    "        planner = monkey_plan_factors_x_sess_class.PlanAcrossSessions(monkey_name=monkey_name,\n",
    "                                                                      opt_arc_type=opt_arc_type)\n",
    "        planner.initialize_monkey_sessions_df_for_one_monkey()\n",
    "        planner.get_test_and_ctrl_heading_info_df_across_sessions(\n",
    "            ref_point_mode=ref_point_mode,\n",
    "            ref_point_value=ref_point_value,\n",
    "            save_data=False,\n",
    "            curv_traj_window_before_stop=curv_traj_window_before_stop,\n",
    "            **kwargs\n",
    "        )\n",
    "        \n",
    "        temp_per_sess_median_info = make_variation_utils.get_per_sess_median_info_for_ref_point_params(planner, ref_point_mode, ref_point_value)\n",
    "        \n",
    "        per_sess_median_info = pd.concat([per_sess_median_info, per_sess_median_info], axis=0)\n",
    "\n",
    "per_sess_median_info.reset_index(drop=True, inplace=True)\n",
    "per_sess_median_info['curv_traj_window_before_stop'] = str(\n",
    "                    curv_traj_window_before_stop)"
   ]
  },
  {
   "cell_type": "code",
   "execution_count": null,
   "id": "51",
   "metadata": {},
   "outputs": [],
   "source": [
    "curv_traj_window_before_stop"
   ]
  },
  {
   "cell_type": "code",
   "execution_count": null,
   "id": "52",
   "metadata": {},
   "outputs": [],
   "source": [
    "def get_per_sess_median_info_for_ref_point_params(planner, ref_point_mode, ref_point_value):\n",
    "    per_sess_median_info = pd.DataFrame()\n",
    "    for data_name in planner.test_heading_info_df['data_name'].unique():\n",
    "        print(f'Processing data_name: {data_name}')\n",
    "        session_test_heading_info_df = planner.test_heading_info_df[planner.test_heading_info_df['data_name'] == data_name]\n",
    "        session_ctrl_heading_info_df = planner.ctrl_heading_info_df[planner.ctrl_heading_info_df['data_name'] == data_name]\n",
    "        \n",
    "        session_median_info = make_variations_utils.make_pooled_median_info_from_test_and_ctrl_heading_info_df(session_test_heading_info_df,\n",
    "                                                                                                        session_ctrl_heading_info_df, verbose=False)\n",
    "\n",
    "        session_median_info['data_name'] = data_name\n",
    "        per_sess_median_info = pd.concat([per_sess_median_info, session_median_info], axis=0)\n",
    "\n",
    "    per_sess_median_info['ref_point_mode'] = ref_point_mode\n",
    "    per_sess_median_info['ref_point_value'] = ref_point_value\n",
    "    return per_sess_median_info"
   ]
  }
 ],
 "metadata": {
  "kernelspec": {
   "display_name": "multiff_clean",
   "language": "python",
   "name": "python3"
  },
  "language_info": {
   "codemirror_mode": {
    "name": "ipython",
    "version": 3
   },
   "file_extension": ".py",
   "mimetype": "text/x-python",
   "name": "python",
   "nbconvert_exporter": "python",
   "pygments_lexer": "ipython3",
   "version": "3.11.11"
  }
 },
 "nbformat": 4,
 "nbformat_minor": 5
}
