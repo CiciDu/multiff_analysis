{
 "cells": [
  {
   "cell_type": "markdown",
   "id": "0",
   "metadata": {},
   "source": [
    "# Main features\n",
    "'diff_in_abs_angle_to_nxt_ff', 'diff_in_abs_d_curv', 'dir_from_cur_ff_same_side'"
   ]
  },
  {
   "cell_type": "markdown",
   "id": "1",
   "metadata": {},
   "source": [
    "# Import packages"
   ]
  },
  {
   "cell_type": "code",
   "execution_count": null,
   "id": "2",
   "metadata": {},
   "outputs": [],
   "source": [
    "%load_ext autoreload\n",
    "%autoreload 2\n",
    "\n",
    "from pathlib import Path\n",
    "import os, sys\n",
    "for p in [Path.cwd()] + list(Path.cwd().parents):\n",
    "    if p.name == 'Multifirefly-Project':\n",
    "        os.chdir(p)\n",
    "        sys.path.insert(0, str(p / 'multiff_analysis/multiff_code/methods'))\n",
    "        break\n",
    "\n",
    "\n",
    "from pattern_discovery import monkey_landing_in_ff\n",
    "from machine_learning.ml_methods import regression_utils, classification_utils, prep_ml_data_utils\n",
    "from visualization.matplotlib_tools import plot_trials\n",
    "from planning_analysis.show_planning import examine_null_arcs\n",
    "from planning_analysis.show_planning.cur_vs_nxt_ff import cvn_from_ref_class\n",
    "from planning_analysis.only_cur_ff import only_cur_ff_x_sess_class\n",
    "from planning_analysis.plan_factors import plan_factors_utils, build_factor_comp, plan_factors_class, monkey_plan_factors_x_sess_class\n",
    "from planning_analysis.agent_analysis import compare_monkey_and_agent_utils, agent_plan_factors_x_sess_class, cmp_monkey_agent_plan_class\n",
    "from machine_learning.ml_methods import ml_methods_class, prep_ml_data_utils\n",
    "from planning_analysis.plan_factors import monkey_plan_factors_x_sess_class, monkey_plan_factors_x_sess_class\n",
    "from planning_analysis.factors_vs_indicators import make_variations_utils, process_variations_utils\n",
    "from data_wrangling import specific_utils\n",
    "\n",
    "import numpy as np\n",
    "import matplotlib\n",
    "import matplotlib.pyplot as plt\n",
    "import seaborn as sns\n",
    "import matplotlib.pyplot as plt\n",
    "import pandas as pd\n",
    "from matplotlib import rc\n",
    "import os, sys\n",
    "from importlib import reload\n",
    "\n",
    "plt.rcParams[\"animation.html\"] = \"html5\"\n",
    "os.environ['KMP_DUPLICATE_LIB_OK']='True'\n",
    "rc('animation', html='jshtml')\n",
    "matplotlib.rcParams.update(matplotlib.rcParamsDefault)\n",
    "matplotlib.rcParams['animation.embed_limit'] = 2**128\n",
    "pd.set_option('display.float_format', lambda x: '%.5f' % x)\n",
    "np.set_printoptions(suppress=True)\n",
    "pd.options.display.max_rows = 101"
   ]
  },
  {
   "cell_type": "markdown",
   "id": "3",
   "metadata": {},
   "source": [
    "# single monkey & arc type"
   ]
  },
  {
   "cell_type": "markdown",
   "id": "4",
   "metadata": {},
   "source": [
    "## heading"
   ]
  },
  {
   "cell_type": "code",
   "execution_count": null,
   "id": "5",
   "metadata": {},
   "outputs": [],
   "source": [
    "ps = monkey_plan_factors_x_sess_class.PlanAcrossSessions(monkey_name='monkey_Schro')\n",
    "monkey_median_df = ps.make_or_retrieve_all_ref_per_sess_median_info(exists_ok=False, \n",
    "                                                                pooled_median_info_exists_ok=True,\n",
    "                                                                )\n",
    "monkey_median_df = make_variations_utils.assign_session_id(monkey_median_df)\n",
    "ps.plot_median_heading(monkey_median_df)\n",
    "ps.fig.show()"
   ]
  },
  {
   "cell_type": "markdown",
   "id": "6",
   "metadata": {},
   "source": [
    "## curv"
   ]
  },
  {
   "cell_type": "code",
   "execution_count": null,
   "id": "7",
   "metadata": {},
   "outputs": [],
   "source": [
    "ps = monkey_plan_factors_x_sess_class.PlanAcrossSessions(monkey_name='monkey_Schro')\n",
    "monkey_median_df = ps.make_or_retrieve_all_ref_per_sess_median_info(\n",
    "    exists_ok=True, \n",
    "    pooled_median_info_exists_ok=True,\n",
    "    )\n",
    "ps.plot_median_curv(monkey_median_df)"
   ]
  },
  {
   "cell_type": "markdown",
   "id": "8",
   "metadata": {},
   "source": [
    "## perc"
   ]
  },
  {
   "cell_type": "code",
   "execution_count": null,
   "id": "9",
   "metadata": {},
   "outputs": [],
   "source": [
    "ps = monkey_plan_factors_x_sess_class.PlanAcrossSessions(monkey_name='monkey_Bruno')\n",
    "monkey_perc_df = ps.make_or_retrieve_per_sess_perc_info(exists_ok=True)\n",
    "ps.plot_same_side_percentage(perc_info=ps.per_sess_perc_info_new)"
   ]
  },
  {
   "cell_type": "markdown",
   "id": "10",
   "metadata": {},
   "source": [
    "## example of changing plotting parameters"
   ]
  },
  {
   "cell_type": "code",
   "execution_count": null,
   "id": "11",
   "metadata": {},
   "outputs": [],
   "source": [
    "ps = monkey_plan_factors_x_sess_class.PlanAcrossSessions(monkey_name='monkey_Schro')\n",
    "monkey_median_df = ps.make_or_retrieve_all_ref_per_sess_median_info(exists_ok=True, \n",
    "                                                           pooled_median_info_exists_ok=True,\n",
    "                                                           )\n",
    "\n",
    "x_var_column_list = ['session_id']\n",
    "changeable_variables = ['opt_arc_type', 'ref_point_value', 'monkey_name']\n",
    "# fixed_variable_values_to_use = {\n",
    "#                                 #'whether_even_out_dist': True\n",
    "#                                 # 'max_curv_range': 200,\n",
    "#                                 # 'whether_filter_info': True,\n",
    "#                                 'if_test_nxt_ff_group_appear_after_stop': 'flexible',\n",
    "#                                 'key_for_split': 'ff_seen',\n",
    "#                                 #'whether_even_out_dist': False,\n",
    "# }\n",
    "\n",
    "fixed_variable_values_to_use={'if_test_nxt_ff_group_appear_after_stop': 'flexible',\n",
    "                                'key_for_split': 'ff_seen',\n",
    "                                'whether_even_out_dist': False,\n",
    "                                'curv_traj_window_before_stop': '[-25, 0]',\n",
    "                                # 'opt_arc_type': 'norm_opt_arc',\n",
    "                                # 'monkey_name': 'monkey_Bruno',\n",
    "                                # 'ref_point_value': 100,\n",
    "                                }\n",
    "\n",
    "columns_to_find_unique_combinations_for_color = []\n",
    "columns_to_find_unique_combinations_for_line = []\n",
    "\n",
    "\n",
    "\n",
    "monkey_median_df = make_variations_utils.assign_session_id(monkey_median_df)\n",
    "\n",
    "ps.plot_median_heading(monkey_median_df, x_var_column_list=x_var_column_list, \n",
    "                                           fixed_variable_values_to_use=fixed_variable_values_to_use,\n",
    "                                           changeable_variables=changeable_variables,\n",
    "                                           columns_to_find_unique_combinations_for_color=columns_to_find_unique_combinations_for_color,\n",
    "                                           columns_to_find_unique_combinations_for_line=columns_to_find_unique_combinations_for_line,\n",
    "                                           )\n",
    "\n",
    "ps.fig.show()"
   ]
  },
  {
   "cell_type": "markdown",
   "id": "12",
   "metadata": {},
   "source": [
    "# all monkeys: session_id as x"
   ]
  },
  {
   "cell_type": "code",
   "execution_count": null,
   "id": "13",
   "metadata": {},
   "outputs": [],
   "source": [
    "x_var_column_list = ['session_id']\n",
    "changeable_variables = ['opt_arc_type', 'ref_point_value', 'monkey_name']\n",
    "\n",
    "fixed_variable_values_to_use={'if_test_nxt_ff_group_appear_after_stop': 'flexible',\n",
    "                                'key_for_split': 'ff_seen',\n",
    "                                'whether_even_out_dist': False,\n",
    "                                'curv_traj_window_before_stop': '[-25, 0]',\n",
    "                                'opt_arc_type': 'norm_opt_arc',\n",
    "                                'monkey_name': 'monkey_Bruno',\n",
    "                                }"
   ]
  },
  {
   "cell_type": "markdown",
   "id": "14",
   "metadata": {},
   "source": [
    "## heading"
   ]
  },
  {
   "cell_type": "code",
   "execution_count": null,
   "id": "15",
   "metadata": {},
   "outputs": [],
   "source": [
    "ps = monkey_plan_factors_x_sess_class.PlanAcrossSessions()\n",
    "monkey_median_df = ps.combine_all_ref_per_sess_median_info_across_monkeys_and_opt_arc_types()\n",
    "monkey_median_df = make_variations_utils.assign_session_id(monkey_median_df)"
   ]
  },
  {
   "cell_type": "code",
   "execution_count": null,
   "id": "16",
   "metadata": {},
   "outputs": [],
   "source": [
    "\n",
    "ps.plot_median_heading_across_monkeys_and_arc_types_with_difference(monkey_median_df,\n",
    "    x_var_column_list=x_var_column_list,\n",
    "    changeable_variables=changeable_variables,\n",
    "    fixed_variable_values_to_use=fixed_variable_values_to_use,\n",
    "    add_error_bars= True)"
   ]
  },
  {
   "cell_type": "markdown",
   "id": "17",
   "metadata": {},
   "source": [
    "## curv"
   ]
  },
  {
   "cell_type": "code",
   "execution_count": null,
   "id": "18",
   "metadata": {},
   "outputs": [],
   "source": [
    "ps = monkey_plan_factors_x_sess_class.PlanAcrossSessions()\n",
    "monkey_median_df = ps.combine_all_ref_per_sess_median_info_across_monkeys_and_opt_arc_types()\n",
    "monkey_median_df = make_variations_utils.assign_session_id(monkey_median_df)"
   ]
  },
  {
   "cell_type": "code",
   "execution_count": null,
   "id": "19",
   "metadata": {},
   "outputs": [],
   "source": [
    "ps.plot_median_curv_across_monkeys_and_arc_types_with_difference(monkey_median_df,\n",
    "    x_var_column_list=x_var_column_list,\n",
    "    changeable_variables=changeable_variables,\n",
    "    fixed_variable_values_to_use=fixed_variable_values_to_use,\n",
    "    add_error_bars= True)"
   ]
  },
  {
   "cell_type": "markdown",
   "id": "20",
   "metadata": {},
   "source": [
    "## perc"
   ]
  },
  {
   "cell_type": "code",
   "execution_count": null,
   "id": "21",
   "metadata": {},
   "outputs": [],
   "source": [
    "x_var_column_list = ['session_id']\n",
    "changeable_variables = ['monkey_name']\n",
    "\n",
    "fixed_variable_values_to_use={'if_test_nxt_ff_group_appear_after_stop': 'flexible',\n",
    "                                'key_for_split': 'ff_seen',\n",
    "                                'whether_even_out_dist': False,\n",
    "                                'monkey_name': 'monkey_Bruno',\n",
    "                                }\n",
    "\n",
    "\n",
    "ps = monkey_plan_factors_x_sess_class.PlanAcrossSessions()\n",
    "monkey_perc_df = ps.combine_per_sess_perc_info_across_monkeys()\n",
    "monkey_perc_df = make_variations_utils.assign_session_id(monkey_perc_df)\n",
    "ps.plot_same_side_percentage_across_monkeys(monkey_perc_df,\n",
    "     x_var_column_list=x_var_column_list,\n",
    "    changeable_variables=changeable_variables,\n",
    "    fixed_variable_values_to_use=fixed_variable_values_to_use,\n",
    "    add_error_bars= True)"
   ]
  },
  {
   "cell_type": "markdown",
   "id": "22",
   "metadata": {},
   "source": [
    "## example of changing plotting parameters"
   ]
  },
  {
   "cell_type": "code",
   "execution_count": null,
   "id": "23",
   "metadata": {},
   "outputs": [],
   "source": [
    "ps = monkey_plan_factors_x_sess_class.PlanAcrossSessions()\n",
    "monkey_median_df = ps.combine_all_ref_per_sess_median_info_across_monkeys_and_opt_arc_types()\n",
    "ps.plot_median_heading_across_monkeys_and_arc_types_with_difference(\n",
    "                                                                      x_var_column_list=['key_for_split'],\n",
    "                                                                      fixed_variable_values_to_use={\n",
    "                                                                                'if_test_nxt_ff_group_appear_after_stop': 'flexible',\n",
    "                                                                                                    #'key_for_split': 'ff_seen',\n",
    "                                                                                                    'whether_even_out_dist': False,\n",
    "                                                                                                    'curv_traj_window_before_stop': [-25, 0]\n",
    "                                                                                                    },\n",
    "                                                                      changeable_variables=[\n",
    "                                                                          'ref_point_value', 'monkey_name'],\n",
    "                                                                      columns_to_find_unique_combinations_for_color=['opt_arc_type'],\n",
    "                                                                      columns_to_find_unique_combinations_for_line=[],\n",
    "                                                                      )"
   ]
  },
  {
   "cell_type": "markdown",
   "id": "24",
   "metadata": {},
   "source": [
    "# code that might be useful in the future"
   ]
  },
  {
   "cell_type": "code",
   "execution_count": null,
   "id": "25",
   "metadata": {},
   "outputs": [],
   "source": [
    "per_sess_median_info = pd.DataFrame()\n",
    "ref_point_params = monkey_plan_factors_x_sess_class.PlanAcrossSessions.default_ref_point_params_based_on_mode\n",
    "monkeys=['monkey_Schro', 'monkey_Bruno']\n",
    "curv_traj_window_before_stop=[-25, 0]\n",
    "verbose=True\n",
    "kwargs = {}\n",
    "opt_arc_type = 'opt_arc_stop_closest'\n",
    "\n",
    "for monkey_name in monkeys:\n",
    "    variations_list = specific_utils.init_variations_list_func(\n",
    "        ref_point_params,\n",
    "        monkey_name=monkey_name\n",
    "    )\n",
    "    \n",
    "    for _, row in variations_list.iterrows():\n",
    "        ref_point_mode = row['ref_point_mode']\n",
    "        ref_point_value = row['ref_point_value']\n",
    "        if verbose:\n",
    "            print(row)\n",
    "        \n",
    "        # Initialize sessions\n",
    "        planner = monkey_plan_factors_x_sess_class.PlanAcrossSessions(monkey_name=monkey_name,\n",
    "                                                                      opt_arc_type=opt_arc_type)\n",
    "        planner.initialize_monkey_sessions_df_for_one_monkey()\n",
    "        planner.get_test_and_ctrl_heading_info_df_across_sessions(\n",
    "            ref_point_mode=ref_point_mode,\n",
    "            ref_point_value=ref_point_value,\n",
    "            save_data=False,\n",
    "            curv_traj_window_before_stop=curv_traj_window_before_stop,\n",
    "            **kwargs\n",
    "        )\n",
    "        \n",
    "        temp_per_sess_median_info = make_variation_utils.get_per_sess_median_info_for_ref_point_params(planner, ref_point_mode, ref_point_value)\n",
    "        \n",
    "        per_sess_median_info = pd.concat([per_sess_median_info, per_sess_median_info], axis=0)\n",
    "\n",
    "per_sess_median_info.reset_index(drop=True, inplace=True)\n",
    "per_sess_median_info['curv_traj_window_before_stop'] = str(\n",
    "                    curv_traj_window_before_stop)"
   ]
  },
  {
   "cell_type": "code",
   "execution_count": null,
   "id": "26",
   "metadata": {},
   "outputs": [],
   "source": [
    "curv_traj_window_before_stop"
   ]
  },
  {
   "cell_type": "code",
   "execution_count": null,
   "id": "27",
   "metadata": {},
   "outputs": [],
   "source": [
    "def get_per_sess_median_info_for_ref_point_params(planner, ref_point_mode, ref_point_value):\n",
    "    per_sess_median_info = pd.DataFrame()\n",
    "    for data_name in planner.test_heading_info_df['data_name'].unique():\n",
    "        print(f'Processing data_name: {data_name}')\n",
    "        session_test_heading_info_df = planner.test_heading_info_df[planner.test_heading_info_df['data_name'] == data_name]\n",
    "        session_ctrl_heading_info_df = planner.ctrl_heading_info_df[planner.ctrl_heading_info_df['data_name'] == data_name]\n",
    "        \n",
    "        session_median_info = make_variations_utils.make_pooled_median_info_from_test_and_ctrl_heading_info_df(session_test_heading_info_df,\n",
    "                                                                                                        session_ctrl_heading_info_df, verbose=False)\n",
    "\n",
    "        session_median_info['data_name'] = data_name\n",
    "        per_sess_median_info = pd.concat([per_sess_median_info, session_median_info], axis=0)\n",
    "\n",
    "    per_sess_median_info['ref_point_mode'] = ref_point_mode\n",
    "    per_sess_median_info['ref_point_value'] = ref_point_value\n",
    "    return per_sess_median_info"
   ]
  }
 ],
 "metadata": {
  "kernelspec": {
   "display_name": "multiff_clean",
   "language": "python",
   "name": "python3"
  },
  "language_info": {
   "codemirror_mode": {
    "name": "ipython",
    "version": 3
   },
   "file_extension": ".py",
   "mimetype": "text/x-python",
   "name": "python",
   "nbconvert_exporter": "python",
   "pygments_lexer": "ipython3",
   "version": "3.11.13"
  }
 },
 "nbformat": 4,
 "nbformat_minor": 5
}
