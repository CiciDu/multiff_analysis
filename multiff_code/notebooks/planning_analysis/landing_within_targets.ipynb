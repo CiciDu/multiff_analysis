{
 "cells": [
  {
   "cell_type": "markdown",
   "id": "0",
   "metadata": {},
   "source": [
    "# Import packages"
   ]
  },
  {
   "cell_type": "code",
   "execution_count": null,
   "id": "1",
   "metadata": {},
   "outputs": [],
   "source": [
    "%load_ext autoreload\n",
    "%autoreload 2\n",
    "\n",
    "from pathlib import Path\n",
    "import os, sys\n",
    "for p in [Path.cwd()] + list(Path.cwd().parents):\n",
    "    if p.name == 'Multifirefly-Project':\n",
    "        os.chdir(p)\n",
    "        sys.path.insert(0, str(p / 'multiff_analysis/multiff_code/methods'))\n",
    "        break\n",
    "\n",
    "import sys\n",
    "\n",
    "\n",
    "from data_wrangling import specific_utils, process_monkey_information, base_processing_class, combine_info_utils\n",
    "from pattern_discovery import pattern_by_trials, pattern_by_points, make_ff_dataframe, ff_dataframe_utils, pattern_by_trials, pattern_by_points, cluster_analysis, organize_patterns_and_features, category_class, cluster_analysis\n",
    "from decision_making_analysis.decision_making import decision_making_class, decision_making_utils, plot_decision_making, intended_targets_classes\n",
    "from decision_making_analysis.GUAT import GUAT_helper_class, GUAT_collect_info_class, GUAT_combine_info_class, process_GUAT_trials_class, GUAT_and_TAFT\n",
    "from decision_making_analysis import free_selection, replacement, trajectory_info\n",
    "from null_behaviors import show_null_trajectory, find_best_arc, curvature_utils, curv_of_traj_utils\n",
    "from machine_learning.ml_methods import regression_utils, classification_utils, prep_ml_data_utils, hyperparam_tuning_class\n",
    "from machine_learning.RL.env_related import env_for_lstm, env_utils, base_env, collect_agent_data_utils\n",
    "from machine_learning.RL.lstm import GRU_functions, LSTM_functions\n",
    "from machine_learning.RL.SB3 import interpret_neural_network, sb3_for_multiff_class, rl_for_multiff_utils, SB3_functions\n",
    "from visualization.matplotlib_tools import plot_trials, plot_polar, additional_plots, plot_behaviors_utils, plot_statistics, monkey_heading_utils\n",
    "from visualization.animation import animation_func, animation_utils, animation_class\n",
    "from planning_analysis.test_params_for_planning import params_test_combos_class, params_utils\n",
    "from visualization.plotly_tools import plotly_for_monkey, plotly_for_time_series, plotly_preparation, plotly_for_correlation\n",
    "from visualization.dash_tools import dash_prep_class, dash_utils, dash_utils, dash_comparison_class, dash_params_class\n",
    "from visualization.dash_tools.dash_main_class_methods import dash_main_class\n",
    "from neural_data_analysis.neural_analysis_tools.get_neural_data import neural_data_processing\n",
    "from neural_data_analysis.neural_analysis_tools.visualize_neural_data import plot_neural_data, plot_modeling_result\n",
    "from neural_data_analysis.neural_analysis_tools.model_neural_data import transform_vars, neural_data_modeling, drop_high_corr_vars, drop_high_vif_vars\n",
    "from neural_data_analysis.topic_based_neural_analysis.neural_vs_behavioral import prep_monkey_data, prep_target_data, neural_vs_behavioral_class\n",
    "from neural_data_analysis.topic_based_neural_analysis.planning_and_neural import planning_and_neural_class, pn_utils\n",
    "from planning_analysis.plan_factors import plan_factors_utils, build_factor_comp, plan_factors_class, monkey_plan_factors_x_sess_class\n",
    "from planning_analysis.show_planning import nxt_ff_utils, show_planning_class, show_planning_utils\n",
    "from planning_analysis.plan_indicators import plan_indicator_utils\n",
    "from planning_analysis.show_planning.cur_vs_nxt_ff import cvn_helper_class, find_cvn_utils, plot_cvn_class, plot_cvn_utils, plot_monkey_heading_helper_class, cvn_from_ref_class\n",
    "from visualization.dash_tools.dash_main_class_methods import dash_main_helper_class, dash_main_class\n",
    "from neural_data_analysis.neural_analysis_tools.visualize_neural_data import raster_and_fr_plot_in_plotly\n",
    "from planning_analysis.show_planning import nxt_ff_utils, show_planning_class, show_planning_utils, examine_null_arcs\n",
    "from pattern_discovery import monkey_landing_in_ff\n",
    "\n",
    "from importlib import reload\n",
    "from eye_position_analysis import eye_positions\n",
    "import os, sys\n",
    "import numpy as np\n",
    "import matplotlib\n",
    "import matplotlib.pyplot as plt\n",
    "from matplotlib import cm\n",
    "from os.path import exists\n",
    "import seaborn as sns\n",
    "import math\n",
    "import copy\n",
    "import matplotlib.pyplot as plt\n",
    "import pandas as pd\n",
    "import torch\n",
    "import torch.nn as nn\n",
    "import torch.optim as optim\n",
    "import tqdm\n",
    "import itertools\n",
    "import plotly.express as px\n",
    "import gc\n",
    "from scipy.stats import rankdata\n",
    "from scipy import stats\n",
    "from IPython.display import HTML\n",
    "from matplotlib import rc\n",
    "from sklearn.model_selection import train_test_split\n",
    "from sklearn.preprocessing import OneHotEncoder\n",
    "from sklearn.datasets import make_multilabel_classification\n",
    "from sklearn.model_selection import train_test_split\n",
    "from sklearn.multioutput import MultiOutputClassifier\n",
    "from sklearn.neighbors import KNeighborsClassifier\n",
    "from sklearn.metrics import accuracy_score, hamming_loss, multilabel_confusion_matrix, fbeta_score, precision_score, recall_score\n",
    "from sklearn.svm import SVC\n",
    "from sklearn.tree import DecisionTreeClassifier\n",
    "from sklearn.ensemble import AdaBoostClassifier, RandomForestClassifier, VotingClassifier, BaggingClassifier, GradientBoostingClassifier\n",
    "from sklearn.neural_network import MLPClassifier\n",
    "from sklearn.linear_model import LinearRegression\n",
    "from sklearn.neighbors import KNeighborsRegressor, KNeighborsClassifier\n",
    "from sklearn.naive_bayes import GaussianNB\n",
    "from sklearn.linear_model import LogisticRegression\n",
    "from math import pi\n",
    "from scipy.ndimage import gaussian_filter1d\n",
    "from statsmodels.graphics.tsaplots import plot_acf\n",
    "import warnings\n",
    "import os, sys, sys\n",
    "from sklearn.exceptions import ConvergenceWarning\n",
    "import plotly.graph_objects as go\n",
    "\n",
    "plt.rcParams[\"animation.html\"] = \"html5\"\n",
    "os.environ['KMP_DUPLICATE_LIB_OK']='True'\n",
    "rc('animation', html='jshtml')\n",
    "matplotlib.rcParams.update(matplotlib.rcParamsDefault)\n",
    "matplotlib.rcParams['animation.embed_limit'] = 2**128\n",
    "pd.set_option('display.float_format', lambda x: '%.5f' % x)\n",
    "np.set_printoptions(suppress=True)\n",
    "pd.options.display.max_rows = 101"
   ]
  },
  {
   "cell_type": "markdown",
   "id": "2",
   "metadata": {},
   "source": [
    "# Optimal arc comparisons"
   ]
  },
  {
   "cell_type": "markdown",
   "id": "3",
   "metadata": {},
   "source": [
    "## monkey traj into ff"
   ]
  },
  {
   "cell_type": "code",
   "execution_count": null,
   "id": "4",
   "metadata": {},
   "outputs": [],
   "source": [
    "normalize = False\n",
    "eliminate_outliers = False\n",
    "use_curv_to_ff_center = False\n",
    "curv_of_traj_mode = 'distance'\n",
    "window_for_curv_of_traj=[-25, 0]\n",
    "raw_data_folder_path = \"all_monkey_data/raw_monkey_data/monkey_Bruno/data_0328\"\n",
    "\n",
    "#data_item_info = find_cvn_utils.extract_key_info_from_data_item_for_stops_near_ff_class(data_item)\n",
    "\n",
    "snf = cvn_from_ref_class.CurVsNxtFfFromRefClass(raw_data_folder_path=raw_data_folder_path)\n",
    "snf.get_more_monkey_data()\n",
    "snf.traj_curv_descr = 'Traj Curv: From Current Point to Right Before Stop'\n",
    "snf.make_stops_near_ff_and_ff_comparison_dfs(\n",
    "    test_or_control='test', exists_ok=True, save_data=True)"
   ]
  },
  {
   "cell_type": "markdown",
   "id": "5",
   "metadata": {},
   "source": [
    "### compare test and control"
   ]
  },
  {
   "cell_type": "code",
   "execution_count": null,
   "id": "6",
   "metadata": {},
   "outputs": [],
   "source": [
    "valid_subset = monkey_landing_in_ff.get_valid_subset_to_construct_scatter_around_target_df(snf.closest_stop_to_capture_df, snf.monkey_information, snf.ff_real_position_sorted)\n",
    "\n",
    "test_cur_ff_indices = snf.shared_stops_near_ff_df[snf.shared_stops_near_ff_df['data_category_by_vis'] == 'test']['cur_ff_index'].values\n",
    "valid_subset_test = valid_subset[valid_subset['cur_ff_index'].isin(test_cur_ff_indices)]\n",
    "\n",
    "control_cur_ff_indices = snf.shared_stops_near_ff_df[snf.shared_stops_near_ff_df['data_category_by_vis'] == 'control']['cur_ff_index'].values\n",
    "valid_subset_control = valid_subset[valid_subset['cur_ff_index'].isin(control_cur_ff_indices)]"
   ]
  },
  {
   "cell_type": "markdown",
   "id": "7",
   "metadata": {},
   "source": [
    "#### separate"
   ]
  },
  {
   "cell_type": "code",
   "execution_count": null,
   "id": "8",
   "metadata": {},
   "outputs": [],
   "source": [
    "print('Test')\n",
    "monkey_landing_in_ff.plot_monkey_landings_in_ff(valid_subset_test, snf.monkey_information, snf.ff_real_position_sorted)\n",
    "print('Control')\n",
    "monkey_landing_in_ff.plot_monkey_landings_in_ff(valid_subset_control, snf.monkey_information, snf.ff_real_position_sorted)"
   ]
  },
  {
   "cell_type": "markdown",
   "id": "9",
   "metadata": {},
   "source": [
    "#### together"
   ]
  },
  {
   "cell_type": "code",
   "execution_count": null,
   "id": "10",
   "metadata": {},
   "outputs": [],
   "source": [
    "plot_path_to_landing = True\n",
    "ax = monkey_landing_in_ff.plot_monkey_landings_in_ff(valid_subset_test, snf.monkey_information, snf.ff_real_position_sorted, show_plot=False,\n",
    "                                                     color='red', plot_path_to_landing=plot_path_to_landing)\n",
    "ax = monkey_landing_in_ff.plot_monkey_landings_in_ff(valid_subset_control, snf.monkey_information, snf.ff_real_position_sorted, show_plot=False,\n",
    "                                                     ax=ax, color='blue', plot_path_to_landing=plot_path_to_landing)\n",
    "\n",
    "ax.legend()\n",
    "plt.show()"
   ]
  },
  {
   "cell_type": "markdown",
   "id": "11",
   "metadata": {},
   "source": [
    "### plot"
   ]
  },
  {
   "cell_type": "code",
   "execution_count": null,
   "id": "12",
   "metadata": {},
   "outputs": [],
   "source": [
    "valid_subset = monkey_landing_in_ff.get_valid_subset_to_construct_scatter_around_target_df(snf.closest_stop_to_capture_df, snf.monkey_information, snf.ff_real_position_sorted)\n",
    "monkey_landing_in_ff.plot_monkey_landings_in_ff(valid_subset, snf.monkey_information, snf.ff_real_position_sorted)"
   ]
  },
  {
   "cell_type": "markdown",
   "id": "13",
   "metadata": {},
   "source": [
    "### scatteredness"
   ]
  },
  {
   "cell_type": "code",
   "execution_count": null,
   "id": "14",
   "metadata": {},
   "outputs": [],
   "source": [
    "sns.histplot(valid_subset['distance_from_ff_to_stop'])\n",
    "plt.title('distance_from_ff_to_stop')\n",
    "plt.show()"
   ]
  },
  {
   "cell_type": "code",
   "execution_count": null,
   "id": "15",
   "metadata": {},
   "outputs": [],
   "source": [
    "# plot the points in the four quadrants\n",
    "quadrants = {1: [-90, 0], 2: [0, 90], 3: [90, 180], 4: [-180, -90]}\n",
    "for quad in range(1, 5):\n",
    "    valid_subset2 = valid_subset[(valid_subset['angle_in_degrees_from_ff_to_stop'] >= quadrants[quad][0]) & (valid_subset['angle_in_degrees_from_ff_to_stop'] < quadrants[quad][1])].copy()\n",
    "    print(f'quad: {quad}, num_points: {len(valid_subset2)}')\n",
    "    monkey_landing_in_ff.plot_monkey_landings_in_ff(valid_subset2, snf.monkey_information, snf.ff_real_position_sorted)"
   ]
  },
  {
   "cell_type": "markdown",
   "id": "16",
   "metadata": {},
   "source": [
    "### how far is the monkey from the edge of ff"
   ]
  },
  {
   "cell_type": "code",
   "execution_count": null,
   "id": "17",
   "metadata": {},
   "outputs": [],
   "source": [
    "sns.histplot(valid_subset['distance_from_ff_to_stop'])\n",
    "plt.show()\n",
    "plt.close()"
   ]
  },
  {
   "cell_type": "code",
   "execution_count": null,
   "id": "18",
   "metadata": {},
   "outputs": [],
   "source": [
    "sns.histplot(valid_subset['angle_in_degrees_from_ff_to_stop'])\n",
    "plt.show()\n",
    "plt.close()"
   ]
  },
  {
   "cell_type": "code",
   "execution_count": null,
   "id": "19",
   "metadata": {},
   "outputs": [],
   "source": [
    "# Not sure what following plots achieved\n",
    "df = valid_subset\n",
    "# plot distance against angle_in_degrees\n",
    "sns.scatterplot(data=df, x='distance_from_ff_to_stop', y='angle_in_degrees_from_ff_to_stop')\n",
    "# plot a regression line\n",
    "sns.regplot(data=df, x='distance_from_ff_to_stop', y='angle_in_degrees_from_ff_to_stop', scatter=False)\n",
    "plt.show()\n",
    "plt.close()\n",
    "\n",
    "# plot distance against abs_angle_in_degrees\n",
    "sns.scatterplot(data=df, x='distance_from_ff_to_stop', y='abs_angle_in_degrees')\n",
    "# plot a regression line\n",
    "sns.regplot(data=df, x='distance_from_ff_to_stop', y='abs_angle_in_degrees', scatter=False)\n",
    "plt.show()\n"
   ]
  },
  {
   "cell_type": "markdown",
   "id": "20",
   "metadata": {},
   "source": [
    "## null arc\n"
   ]
  },
  {
   "cell_type": "code",
   "execution_count": null,
   "id": "21",
   "metadata": {},
   "outputs": [],
   "source": [
    "normalize = False\n",
    "eliminate_outliers = False\n",
    "use_curv_to_ff_center = False\n",
    "curv_of_traj_mode = 'distance'\n",
    "window_for_curv_of_traj=[-25, 0]\n",
    "raw_data_folder_path = \"all_monkey_data/raw_monkey_data/monkey_Bruno/data_0328\"\n",
    "\n",
    "#data_item_info = find_cvn_utils.extract_key_info_from_data_item_for_stops_near_ff_class(data_item)\n",
    "\n",
    "snf = cvn_from_ref_class.CurVsNxtFfFromRefClass(raw_data_folder_path=raw_data_folder_path)\n",
    "snf.get_more_monkey_data()\n",
    "snf.traj_curv_descr = 'Traj Curv: From Current Point to Right Before Stop'"
   ]
  },
  {
   "cell_type": "code",
   "execution_count": null,
   "id": "22",
   "metadata": {},
   "outputs": [],
   "source": [
    "# snf.update_opt_arc_type('opt_arc_stop_closest')\n",
    "# # options are: norm_opt_arc, opt_arc_stop_first_vis_bdry, opt_arc_stop_closest"
   ]
  },
  {
   "cell_type": "code",
   "execution_count": null,
   "id": "23",
   "metadata": {},
   "outputs": [],
   "source": [
    "snf.streamline_organizing_info(ref_point_mode='distance', ref_point_value=-150, \n",
    "                              #ref_point_mode='time after cur ff visible', ref_point_value=0.1, \n",
    "                               curv_of_traj_mode=curv_of_traj_mode, window_for_curv_of_traj=window_for_curv_of_traj, truncate_curv_of_traj_by_time_of_capture=True,\n",
    "                               use_curv_to_ff_center=use_curv_to_ff_center,  eliminate_outliers=eliminate_outliers,\n",
    "                               stops_near_ff_df_exists_ok=True,\n",
    "                               )\n",
    "\n",
    "snf.ax_for_corr = snf.find_relationships_from_info(normalize=normalize, show_plot=True)\n",
    "snf.prepare_to_plot_stops_near_ff()\n"
   ]
  },
  {
   "cell_type": "code",
   "execution_count": null,
   "id": "24",
   "metadata": {},
   "outputs": [],
   "source": [
    "snf.prepare_to_plot_stops_near_ff()"
   ]
  },
  {
   "cell_type": "code",
   "execution_count": null,
   "id": "25",
   "metadata": {},
   "outputs": [],
   "source": [
    "snf.cur_null_arc_info_for_counted_points"
   ]
  },
  {
   "cell_type": "code",
   "execution_count": null,
   "id": "26",
   "metadata": {},
   "outputs": [],
   "source": [
    "snf.cur_null_arc_info_for_counted_points"
   ]
  },
  {
   "cell_type": "code",
   "execution_count": null,
   "id": "27",
   "metadata": {},
   "outputs": [],
   "source": [
    "snf.cur_null_arc_info_for_counted_points"
   ]
  },
  {
   "cell_type": "code",
   "execution_count": null,
   "id": "28",
   "metadata": {},
   "outputs": [],
   "source": [
    "examine_null_arcs.plot_null_arc_ends_in_ff(snf.cur_null_arc_info_for_counted_points, snf.ff_real_position_sorted)"
   ]
  },
  {
   "cell_type": "code",
   "execution_count": null,
   "id": "29",
   "metadata": {},
   "outputs": [],
   "source": [
    "examine_null_arcs.plot_null_arc_ends_in_ff(snf.cur_null_arc_info_for_counted_points, snf.ff_real_position_sorted,\n",
    "                                               include_arc_portion_before_entering_ff=True)"
   ]
  },
  {
   "cell_type": "markdown",
   "id": "30",
   "metadata": {},
   "source": [
    "## see a trial"
   ]
  },
  {
   "cell_type": "markdown",
   "id": "31",
   "metadata": {},
   "source": [
    "### plot trial"
   ]
  },
  {
   "cell_type": "code",
   "execution_count": null,
   "id": "32",
   "metadata": {},
   "outputs": [],
   "source": [
    "counter = 0\n",
    "max_plots = 2\n",
    "for index, row in snf.closest_stop_to_capture_df.iloc[3:].iterrows():\n",
    "    trial = row['cur_ff_index']\n",
    "    returned_info = plot_trials.PlotTrials([snf.ff_caught_T_new[trial-1], snf.ff_caught_T_new[trial]+1], \n",
    "                snf.monkey_information,\n",
    "                snf.ff_dataframe, \n",
    "                snf.ff_life_sorted, \n",
    "                snf.ff_real_position_sorted, \n",
    "                snf.ff_believed_position_sorted, \n",
    "                None, \n",
    "                snf.ff_caught_T_new,\n",
    "                currentTrial=trial,\n",
    "                num_trials=1,\n",
    "                show_believed_target_positions=True,\n",
    "                show_reward_boundary=True,\n",
    "                trail_color_var='speed',\n",
    "                indices_of_ff_to_mark_2nd_kind=[trial],\n",
    "                point_indices_to_be_marked=row['stop_point_index'],\n",
    "                #adjust_xy_limits=False,\n",
    "                )\n",
    "    plt.show()\n",
    "\n",
    "    if counter == max_plots:\n",
    "        break\n",
    "    counter += 1"
   ]
  },
  {
   "cell_type": "markdown",
   "id": "33",
   "metadata": {},
   "source": [
    "### plot interval"
   ]
  },
  {
   "cell_type": "code",
   "execution_count": null,
   "id": "34",
   "metadata": {},
   "outputs": [],
   "source": [
    "reward_boundary_radius = 25\n",
    "monkey_sub = monkey_landing_in_ff.iterate_to_get_subset_of_monkey_info(snf.monkey_information, snf.ff_real_position_sorted, int(row.cur_ff_index), row.time, initial_duration_before_stop=2, reward_boundary_radius=reward_boundary_radius)\n",
    "\n",
    "returned_info = plot_trials.PlotTrials([434, 435], \n",
    "               snf.monkey_information,\n",
    "               snf.ff_dataframe, \n",
    "               snf.ff_life_sorted, \n",
    "               snf.ff_real_position_sorted, \n",
    "               snf.ff_believed_position_sorted, \n",
    "               None, \n",
    "               snf.ff_caught_T_new,\n",
    "               None,\n",
    "               show_believed_target_positions=True,\n",
    "               show_reward_boundary=True,\n",
    "               trail_color_var='speed',\n",
    "               #adjust_xy_limits=False,\n",
    "               )\n",
    "plt.show()"
   ]
  }
 ],
 "metadata": {
  "kernelspec": {
   "display_name": "ff_venv2",
   "language": "python",
   "name": "python3"
  },
  "language_info": {
   "codemirror_mode": {
    "name": "ipython",
    "version": 3
   },
   "file_extension": ".py",
   "mimetype": "text/x-python",
   "name": "python",
   "nbconvert_exporter": "python",
   "pygments_lexer": "ipython3",
   "version": "3.11.11"
  }
 },
 "nbformat": 4,
 "nbformat_minor": 5
}
