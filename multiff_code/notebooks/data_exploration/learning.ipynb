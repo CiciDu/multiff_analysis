{
 "cells": [
  {
   "cell_type": "markdown",
   "metadata": {},
   "source": [
    "# Import packages"
   ]
  },
  {
   "cell_type": "code",
   "execution_count": null,
   "metadata": {},
   "outputs": [],
   "source": [
    "%load_ext autoreload\n",
    "%autoreload 2\n",
    "\n",
    "from pathlib import Path\n",
    "import os, sys\n",
    "for p in [Path.cwd()] + list(Path.cwd().parents):\n",
    "    if p.name == 'Multifirefly-Project':\n",
    "        os.chdir(p)\n",
    "        sys.path.insert(0, str(p / 'multiff_analysis/multiff_code/methods'))\n",
    "        break\n",
    "\n",
    "    \n",
    "import sys\n",
    "from data_wrangling import specific_utils, process_monkey_information, base_processing_class, combine_info_utils, further_processing_class\n",
    "from pattern_discovery import pattern_by_trials, pattern_by_points, make_ff_dataframe, ff_dataframe_utils, pattern_by_trials, pattern_by_points, cluster_analysis, organize_patterns_and_features, category_class, cluster_analysis, patterns_and_features_class, compare_two_monkeys_class, monkey_landing_in_ff\n",
    "from decision_making_analysis.decision_making import decision_making_class, decision_making_utils, plot_decision_making, intended_targets_classes\n",
    "from decision_making_analysis.compare_GUAT_and_TAFT import find_GUAT_or_TAFT_trials\n",
    "from decision_making_analysis.GUAT import GUAT_helper_class, GUAT_collect_info_class, GUAT_combine_info_class, process_GUAT_trials_class, add_features_GUAT_and_TAFT\n",
    "from decision_making_analysis import free_selection, replacement, trajectory_info\n",
    "from null_behaviors import show_null_trajectory, find_best_arc, curvature_utils, curv_of_traj_utils\n",
    "from machine_learning.ml_methods import regression_utils, classification_utils, prep_ml_data_utils, hyperparam_tuning_class\n",
    "from machine_learning.RL.env_related import env_for_lstm, env_utils, base_env, collect_agent_data_utils\n",
    "from machine_learning.RL.lstm import GRU_functions, LSTM_functions\n",
    "from machine_learning.RL.SB3 import interpret_neural_network, sb3_for_multiff_class, rl_for_multiff_utils, SB3_functions\n",
    "from visualization.matplotlib_tools import plot_trials, plot_polar, additional_plots, plot_behaviors_utils, plot_statistics, monkey_heading_utils\n",
    "from visualization.animation import animation_func, animation_utils, animation_class\n",
    "from planning_analysis.test_params_for_planning import params_test_combos_class, params_utils\n",
    "from visualization.plotly_tools import plotly_for_monkey, plotly_for_time_series, plotly_preparation, plotly_for_correlation\n",
    "from visualization.dash_tools import dash_prep_class, dash_utils, dash_utils, dash_comparison_class, dash_params_class\n",
    "from visualization.dash_tools.dash_main_class_methods import dash_main_class\n",
    "from neural_data_analysis.neural_analysis_tools.get_neural_data import neural_data_processing\n",
    "from neural_data_analysis.neural_analysis_tools.visualize_neural_data import plot_neural_data, plot_modeling_result\n",
    "from neural_data_analysis.neural_analysis_tools.model_neural_data import transform_vars, neural_data_modeling, drop_high_corr_vars, drop_high_vif_vars\n",
    "from neural_data_analysis.topic_based_neural_analysis.neural_vs_behavioral import prep_monkey_data, prep_target_data, neural_vs_behavioral_class\n",
    "from neural_data_analysis.topic_based_neural_analysis.planning_and_neural import planning_and_neural_class, pn_utils\n",
    "from planning_analysis.only_cur_ff import only_cur_ff_utils, only_cur_ff_class, only_cur_ff_utils\n",
    "from planning_analysis.plan_factors import plan_factors_utils, build_factor_comp, plan_factors_class, monkey_plan_factors_x_sess_class\n",
    "from planning_analysis.agent_analysis import compare_monkey_and_agent_utils, agent_plan_factors_class, agent_plan_factors_x_sess_class\n",
    "from planning_analysis.plan_factors import test_vs_control_utils\n",
    "from planning_analysis.factors_vs_indicators import make_variations_utils, plot_variations_utils, process_variations_utils\n",
    "from planning_analysis.show_planning import nxt_ff_utils, show_planning_class, show_planning_utils, examine_null_arcs\n",
    "from planning_analysis.show_planning.cur_vs_nxt_ff import cvn_helper_class, find_cvn_utils, plot_cvn_class, plot_cvn_utils, plot_monkey_heading_helper_class, cvn_from_ref_class\n",
    "from machine_learning.ml_methods import ml_methods_class, prep_ml_data_utils\n",
    "from decision_making_analysis.compare_GUAT_and_TAFT import GUAT_vs_TAFT_class, GUAT_vs_TAFT_utils\n",
    "from pattern_discovery.learning import show_learning, analyze_ratio_trend, print_results, show_learning3\n",
    "from pattern_discovery.learning import show_learning_general\n",
    "import numpy as np, pandas as pd, statsmodels.api as sm, statsmodels.formula.api as smf\n",
    "from data_wrangling import specific_utils, process_monkey_information, retrieve_raw_data, time_calib_utils\n",
    "from pattern_discovery import make_ff_dataframe\n",
    "from scipy.stats import pearsonr\n",
    "\n",
    "from importlib import reload\n",
    "from eye_position_analysis import eye_positions\n",
    "import os, sys\n",
    "import numpy as np\n",
    "import matplotlib\n",
    "import matplotlib.pyplot as plt\n",
    "from sklearn.ensemble import BaggingRegressor, AdaBoostRegressor, RandomForestRegressor\n",
    "from sklearn.preprocessing import PolynomialFeatures\n",
    "from sklearn.linear_model import LinearRegression\n",
    "from matplotlib import cm\n",
    "from os.path import exists\n",
    "import seaborn as sns\n",
    "import math\n",
    "import copy\n",
    "import matplotlib.pyplot as plt\n",
    "import pandas as pd\n",
    "import torch\n",
    "import torch.nn as nn\n",
    "import torch.optim as optim\n",
    "import tqdm\n",
    "import itertools\n",
    "import plotly.express as px\n",
    "from scipy.stats import rankdata\n",
    "from scipy import stats\n",
    "from IPython.display import HTML\n",
    "from matplotlib import rc\n",
    "from sklearn.model_selection import train_test_split\n",
    "from sklearn.preprocessing import OneHotEncoder\n",
    "from sklearn.datasets import make_multilabel_classification\n",
    "from sklearn.model_selection import train_test_split\n",
    "from sklearn.multioutput import MultiOutputClassifier\n",
    "from sklearn.neighbors import KNeighborsClassifier\n",
    "from sklearn.metrics import accuracy_score, hamming_loss, multilabel_confusion_matrix, fbeta_score, precision_score, recall_score\n",
    "from sklearn.svm import SVC\n",
    "from sklearn.tree import DecisionTreeClassifier\n",
    "from sklearn.ensemble import AdaBoostClassifier, RandomForestClassifier, VotingClassifier, BaggingClassifier, GradientBoostingClassifier\n",
    "from sklearn.neural_network import MLPClassifier\n",
    "from sklearn.linear_model import LinearRegression\n",
    "from sklearn.neighbors import KNeighborsRegressor, KNeighborsClassifier\n",
    "from sklearn.naive_bayes import GaussianNB\n",
    "from sklearn.linear_model import LogisticRegression\n",
    "from math import pi\n",
    "from scipy.ndimage import gaussian_filter1d\n",
    "from statsmodels.graphics.tsaplots import plot_acf\n",
    "import warnings\n",
    "import os, sys, sys\n",
    "from sklearn.exceptions import ConvergenceWarning\n",
    "import plotly.graph_objects as go\n",
    "import gc\n",
    "from sklearn.linear_model import LogisticRegression\n",
    "from sklearn.linear_model import LassoCV\n",
    "from sklearn.model_selection import train_test_split\n",
    "from sklearn.preprocessing import StandardScaler\n",
    "import plotly.express as px\n",
    "\n",
    "plt.rcParams[\"animation.html\"] = \"html5\"\n",
    "os.environ['KMP_DUPLICATE_LIB_OK']='True'\n",
    "rc('animation', html='jshtml')\n",
    "matplotlib.rcParams.update(matplotlib.rcParamsDefault)\n",
    "matplotlib.rcParams['animation.embed_limit'] = 2**128\n",
    "pd.set_option('display.float_format', lambda x: '%.5f' % x)\n",
    "np.set_printoptions(suppress=True)\n",
    "pd.options.display.max_rows = 40"
   ]
  },
  {
   "cell_type": "code",
   "execution_count": null,
   "metadata": {},
   "outputs": [],
   "source": [
    "monkey_name.strip('_')[1]"
   ]
  },
  {
   "cell_type": "markdown",
   "metadata": {},
   "source": [
    "# Get data"
   ]
  },
  {
   "cell_type": "markdown",
   "metadata": {},
   "source": [
    "## key data"
   ]
  },
  {
   "cell_type": "code",
   "execution_count": null,
   "metadata": {},
   "outputs": [],
   "source": [
    "reload(further_processing_class)"
   ]
  },
  {
   "cell_type": "code",
   "execution_count": null,
   "metadata": {},
   "outputs": [],
   "source": [
    "monkey_name = 'monkey_Schro'\n",
    "\n",
    "try:\n",
    "    all_trial_durations_df = pd.read_csv(f'{monkey_name}/all_trial_durations_df.csv', index_col=False)\n",
    "    all_stop_df = pd.read_csv(f'{monkey_name}/all_stop_df.csv', index_col=False)\n",
    "    all_VBLO_df = pd.read_csv(f'{monkey_name}/all_VBLO_df.csv', index_col=False)\n",
    "except:\n",
    "    all_trial_durations_df, all_stop_df, all_VBLO_df = show_learning.get_key_data(monkey_name=monkey_name)\n",
    "\n",
    "    os.makedirs(f'{monkey_name}', exist_ok=True)\n",
    "    all_trial_durations_df.to_csv(f'{monkey_name}/all_trial_durations_df.csv', index=False)\n",
    "    all_stop_df.to_csv(f'{monkey_name}/all_stop_df.csv', index=False)\n",
    "    all_VBLO_df.to_csv(f'{monkey_name}/all_VBLO_df.csv', index=False)\n",
    "\n"
   ]
  },
  {
   "cell_type": "markdown",
   "metadata": {},
   "source": [
    "## aggregated"
   ]
  },
  {
   "cell_type": "code",
   "execution_count": null,
   "metadata": {},
   "outputs": [],
   "source": [
    "tm = compare_two_monkeys_class.CompareTwoMonkeys()\n",
    "tm.compare_monkeys(exists_ok=True)"
   ]
  },
  {
   "cell_type": "code",
   "execution_count": null,
   "metadata": {},
   "outputs": [],
   "source": [
    "df_monkey['Item'].unique()"
   ]
  },
  {
   "cell_type": "markdown",
   "metadata": {},
   "source": [
    "# Pattern Frequencies"
   ]
  },
  {
   "cell_type": "markdown",
   "metadata": {},
   "source": [
    "## GUAT and TAFT"
   ]
  },
  {
   "cell_type": "code",
   "execution_count": null,
   "metadata": {},
   "outputs": [],
   "source": [
    "monkey = 'Schro'\n",
    "\n",
    "df_monkey = tm.combd_pattern_frequencies[tm.combd_pattern_frequencies['Monkey'] == monkey]\n",
    "analyze_ratio_trend.show_event_ratio(df_monkey, \n",
    "                                     event='retry_any_over_all',\n",
    "                                     title=f\"{monkey}: Retries vs. All Initial Misses\",\n",
    "                                     ylabel=\"\"\n",
    "                                     )\n",
    "\n",
    "analyze_ratio_trend.show_event_ratio(df_monkey, \n",
    "                                     event='retry_fail_over_all',\n",
    "                                     title=f\"{monkey}: Retry-Then-Fail vs. Initial Misses\",\n",
    "                                     ylabel=\"\"\n",
    "                                     )\n",
    "\n",
    "analyze_ratio_trend.show_event_ratio(df_monkey, \n",
    "                                     event='retry_capture_over_all',\n",
    "                                     title=f\"{monkey}: Retry-Then-Capture vs. Initial Misses\",\n",
    "                                     ylabel=\"\"\n",
    "                                     )"
   ]
  },
  {
   "cell_type": "markdown",
   "metadata": {},
   "source": [
    "## Other patterns"
   ]
  },
  {
   "cell_type": "code",
   "execution_count": null,
   "metadata": {},
   "outputs": [],
   "source": [
    "df_monkey = tm.combd_pattern_frequencies[tm.combd_pattern_frequencies['Monkey'] == 'Bruno']\n",
    "\n",
    "#for event in df_monkey['Item'].unique():\n",
    "for event in ['retry_any_over_all', 'retry_fail_over_all', 'retry_capture_over_all']:\n",
    "# for event in ['stop_success_rate', 'ff_capture_rate']:\n",
    "    print('--------------------------------')\n",
    "    print(f'Event: {event}')\n",
    "    try:\n",
    "        analyze_ratio_trend.show_event_ratio(df_monkey, event)\n",
    "    except:\n",
    "        print(f\"Error for event: {event}\")"
   ]
  },
  {
   "cell_type": "markdown",
   "metadata": {},
   "source": [
    "# Durations"
   ]
  },
  {
   "cell_type": "markdown",
   "metadata": {},
   "source": [
    "## both monkeys"
   ]
  },
  {
   "cell_type": "markdown",
   "metadata": {},
   "source": [
    "There's some more things to try here:\n",
    "https://chatgpt.com/g/g-p-68a34392716c8191839b81db389836c7-multiff/c/68a7b6a5-04e0-8332-aa89-8c4235fe4c4b\n"
   ]
  },
  {
   "cell_type": "code",
   "execution_count": null,
   "metadata": {},
   "outputs": [],
   "source": [
    "summary_df = pd.DataFrame()\n",
    "\n",
    "for monkey_name in ['monkey_Bruno', 'monkey_Schro']:\n",
    "    \n",
    "    monkey = monkey_name.split(\"monkey_\")[1]\n",
    "    try:\n",
    "        all_trial_durations_df = pd.read_csv(f'{monkey_name}/all_trial_durations_df.csv', index_col=False)\n",
    "    except:\n",
    "        all_trial_durations_df, all_stop_df, all_VBLO_df = show_learning.get_key_data(monkey_name=monkey_name)\n",
    "        os.makedirs(f'{monkey_name}', exist_ok=True)\n",
    "        all_trial_durations_df.to_csv(f'{monkey_name}/all_trial_durations_df.csv', index=False)\n",
    "        all_stop_df.to_csv(f'{monkey_name}/all_stop_df.csv', index=False)\n",
    "        all_VBLO_df.to_csv(f'{monkey_name}/all_VBLO_df.csv', index=False)\n",
    "        \n",
    "    df_trials, df_sessions = show_learning.process_all_trial_durations_df(all_trial_durations_df)\n",
    "    \n",
    "    out = show_learning_general.fit_and_plot_manual(\n",
    "        df_trials, df_sessions,\n",
    "        session_col=\"session\",\n",
    "        value_col=\"duration_sec\",\n",
    "        count_col=\"captures\",\n",
    "        exposure_col=\"total_duration\",\n",
    "        rate_per=\"minute\",     # or \"second\"\n",
    "        make_plots=True,\n",
    "        title_prefix=f'{monkey}: '\n",
    "    )\n",
    "    po  = out[\"po\"]\n",
    "    ols = out[\"ols\"]\n",
    "\n",
    "    po_df = show_learning_general.extract_estimates_from_poisson_fit(po)\n",
    "    ols_df = show_learning_general.extract_estimates_from_ols_fit(ols)\n",
    "    \n",
    "    po_df['monkey'] = monkey\n",
    "    ols_df['monkey'] = monkey\n",
    "\n",
    "    # Combine into one table\n",
    "    summary_df = pd.concat([summary_df, po_df, ols_df])\n",
    "\n",
    "summary_df"
   ]
  },
  {
   "cell_type": "code",
   "execution_count": null,
   "metadata": {},
   "outputs": [],
   "source": [
    "sum_df = summary_df[summary_df['model'] == 'OLS (log-duration)'].copy()\n",
    "sum_df = sum_df[['monkey'] + [c for c in sum_df.columns if c != 'monkey']]\n",
    "sum_df.drop(columns=['model', 'scale'], inplace=True)\n",
    "sum_df"
   ]
  },
  {
   "cell_type": "code",
   "execution_count": null,
   "metadata": {},
   "outputs": [],
   "source": [
    "sum_df = summary_df[summary_df['model'] == 'Poisson (captures/min)'].copy()\n",
    "sum_df = sum_df[['monkey'] + [c for c in sum_df.columns if c != 'monkey']]\n",
    "sum_df.drop(columns=['model', 'scale'], inplace=True)\n",
    "sum_df"
   ]
  },
  {
   "cell_type": "markdown",
   "metadata": {},
   "source": [
    "## one monkey"
   ]
  },
  {
   "cell_type": "code",
   "execution_count": null,
   "metadata": {},
   "outputs": [],
   "source": [
    "df_trials, df_sessions = show_learning.process_all_trial_durations_df(all_trial_durations_df)\n",
    "\n",
    "# Fit both + make the same plots you were making before\n",
    "out = show_learning_general.fit_and_plot_manual(\n",
    "    df_trials, df_sessions,\n",
    "    session_col=\"session\",\n",
    "    value_col=\"duration_sec\",\n",
    "    count_col=\"captures\",\n",
    "    exposure_col=\"total_duration\",\n",
    "    rate_per=\"minute\",     # or \"second\"\n",
    "    make_plots=True,\n",
    "    title_prefix=f'{monkey_name.split(\"monkey_\")[1]}: '\n",
    ")\n",
    "po  = out[\"po\"]\n",
    "ols = out[\"ols\"]\n",
    "\n",
    "# # If you just want the models (no plots):\n",
    "# models = fit_both_models(df_trials, df_sessions)\n",
    "# po2, ols2 = models[\"po\"], models[\"ols\"]\n",
    "\n",
    "po_df = show_learning_general.extract_estimates_from_poisson_fit(po)\n",
    "ols_df = show_learning_general.extract_estimates_from_ols_fit(ols)\n",
    "\n",
    "# Combine into one table\n",
    "summary_df = pd.concat([po_df, ols_df])\n",
    "summary_df\n"
   ]
  },
  {
   "cell_type": "markdown",
   "metadata": {},
   "source": [
    "## early vs late (from show_learning3 ....but I wonder why this result)\n",
    "\n",
    "adapt the more general form of function here: https://chatgpt.com/c/68ad5178-2338-8329-b65c-ebac9d723c68"
   ]
  },
  {
   "cell_type": "code",
   "execution_count": null,
   "metadata": {},
   "outputs": [],
   "source": [
    "# --- Get the cleaned dfs\n",
    "df_trials, df_sessions = show_learning.process_all_trial_durations_df(all_trial_durations_df)\n",
    "\n",
    "# Add minutes column if you want rate per minute\n",
    "df_sessions = df_sessions.assign(total_minutes=df_sessions[\"total_duration\"] / 60.0)\n",
    "\n",
    "\n",
    "# rate (session-level)\n",
    "spec_rate = show_learning3.MetricSpec(kind=\"rate\",\n",
    "                       event_count_col=\"captures\",\n",
    "                       denom_count_col=\"total_minutes\",\n",
    "                       ylabel=\"Captures per minute\",\n",
    "                       title=\"Early vs Late: Capture Rate\")\n",
    "rate_results = show_learning3.summarize_early_late(df=df_sessions, df_sessions=df_sessions,\n",
    "                                    spec=spec_rate, session_col=\"session\",\n",
    "                                    plot=True, return_models=True)\n",
    "\n",
    "\n",
    "print_results.show_all_pretty_tables2(rate_results, title=\"Capture Rate — Early vs Late\")\n",
    "\n",
    "\n",
    "# continuous (trial-level)\n",
    "spec_cont = show_learning3.MetricSpec(kind=\"continuous\",\n",
    "                       value_col=\"logT\",\n",
    "                       ylabel=\"log(Duration, s)\",\n",
    "                       title=\"Early vs Late: logT\")\n",
    "cont_results = show_learning3.summarize_early_late(df=df_trials, df_sessions=df_sessions,\n",
    "                                    spec=spec_cont, session_col=\"session\",\n",
    "                                    plot=True, return_models=True)\n",
    "\n",
    "print_results.show_all_pretty_tables2(cont_results, title=\"logT — Early vs Late\")\n"
   ]
  },
  {
   "cell_type": "markdown",
   "metadata": {},
   "source": [
    "## can try this later"
   ]
  },
  {
   "cell_type": "code",
   "execution_count": null,
   "metadata": {},
   "outputs": [],
   "source": [
    "df_monkey = tm.combd_pattern_frequencies[tm.combd_pattern_frequencies['Monkey'] == 'Bruno']\n",
    "\n",
    "#for event in df_monkey['Item'].unique():\n",
    "for event in ['retry_any_over_all', 'retry_fail_over_all', 'retry_capture_over_all']:\n",
    "# for event in ['stop_success_rate', 'ff_capture_rate']:\n",
    "    print('--------------------------------')\n",
    "    print(f'Event: {event}')\n",
    "    try:\n",
    "        analyze_ratio_trend.show_event_ratio(df_monkey, event)\n",
    "    except:\n",
    "        print(f\"Error for event: {event}\") \n",
    "        \n",
    "    df_event = df_monkey[df_monkey['Item'] == event].sort_values(by='Session').reset_index(drop=True)\n",
    "\n",
    "    event_count_col = event\n",
    "    denom_count_col = \"all_trial_count\"\n",
    "\n",
    "    df_event.rename(columns={'Session': 'session',\n",
    "                            'Frequency':event_count_col,\n",
    "                            'N_total': denom_count_col,\n",
    "                            }, inplace=True)\n",
    "    \n",
    "    # rate (session-level)\n",
    "    spec_rate = show_learning3.MetricSpec(kind=\"binom\",\n",
    "                        event_count_col=event_count_col,\n",
    "                        denom_count_col=denom_count_col,\n",
    "                        ylabel=\"Captures per minute\",\n",
    "                        title=\"Early vs Late: Capture Rate\")\n",
    "    rate_results = show_learning3.summarize_early_late(df=df_event, df_sessions=df_event,\n",
    "                                        spec=spec_rate, session_col=\"session\",\n",
    "                                        plot=True, return_models=True)\n",
    "\n"
   ]
  },
  {
   "cell_type": "markdown",
   "metadata": {},
   "source": [
    "# VBLO"
   ]
  },
  {
   "cell_type": "code",
   "execution_count": null,
   "metadata": {},
   "outputs": [],
   "source": [
    "reload(analyze_ratio_trend)"
   ]
  },
  {
   "cell_type": "code",
   "execution_count": null,
   "metadata": {},
   "outputs": [],
   "source": [
    "event_count_col = \"VBLO_trials\"\n",
    "denom_count_col = \"base_trials\"\n",
    "ylabel=\"Percentage\"\n",
    "\n",
    "for monkey_name in ['monkey_Schro', 'monkey_Bruno']:\n",
    "    try:\n",
    "        all_trial_durations_df = pd.read_csv(f'{monkey_name}/all_trial_durations_df.csv', index_col=False)\n",
    "        all_stop_df = pd.read_csv(f'{monkey_name}/all_stop_df.csv', index_col=False)\n",
    "        all_VBLO_df = pd.read_csv(f'{monkey_name}/all_VBLO_df.csv', index_col=False)\n",
    "    except:\n",
    "        all_trial_durations_df, all_stop_df, all_VBLO_df = show_learning.get_key_data(monkey_name=monkey_name)\n",
    "\n",
    "        os.makedirs(f'{monkey_name}', exist_ok=True)\n",
    "        all_trial_durations_df.to_csv(f'{monkey_name}/all_trial_durations_df.csv', index=False)\n",
    "        all_stop_df.to_csv(f'{monkey_name}/all_stop_df.csv', index=False)\n",
    "        all_VBLO_df.to_csv(f'{monkey_name}/all_VBLO_df.csv', index=False)\n",
    "\n",
    "\n",
    "    title = f'{monkey_name.split(\"monkey_\")[1]}: Fraction of Targets Visible Before Previous Capture'\n",
    "    analyze_ratio_trend.evaluate_ratio_trend(all_VBLO_df, event_count_col=event_count_col, denom_count_col=denom_count_col,\n",
    "                                            title=title, ylabel=ylabel)"
   ]
  },
  {
   "cell_type": "code",
   "execution_count": null,
   "metadata": {},
   "outputs": [],
   "source": [
    "event_count_col = \"VBLO_trials\"\n",
    "denom_count_col = \"base_trials\"\n",
    "title = f'{monkey_name.split(\"monkey_\")[1]}: Percentage of Visible-Before-Last-Target Trials'\n",
    "ylabel=\"Ratio\"\n",
    "\n",
    "analyze_ratio_trend.evaluate_ratio_trend(all_VBLO_df, event_count_col=event_count_col, denom_count_col=denom_count_col, title=title, ylabel=ylabel)\n"
   ]
  },
  {
   "cell_type": "markdown",
   "metadata": {},
   "source": [
    "# Captures over stops"
   ]
  },
  {
   "cell_type": "code",
   "execution_count": null,
   "metadata": {},
   "outputs": [],
   "source": [
    "event_count_col = \"captures\"\n",
    "denom_count_col = \"stops\"\n",
    "\n",
    "\n",
    "for monkey_name in ['monkey_Schro', 'monkey_Bruno']:\n",
    "    try:\n",
    "        all_trial_durations_df = pd.read_csv(f'{monkey_name}/all_trial_durations_df.csv', index_col=False)\n",
    "        all_stop_df = pd.read_csv(f'{monkey_name}/all_stop_df.csv', index_col=False)\n",
    "        all_VBLO_df = pd.read_csv(f'{monkey_name}/all_VBLO_df.csv', index_col=False)\n",
    "    except:\n",
    "        all_trial_durations_df, all_stop_df, all_VBLO_df = show_learning.get_key_data(monkey_name=monkey_name)\n",
    "\n",
    "        os.makedirs(f'{monkey_name}', exist_ok=True)\n",
    "        all_trial_durations_df.to_csv(f'{monkey_name}/all_trial_durations_df.csv', index=False)\n",
    "        all_stop_df.to_csv(f'{monkey_name}/all_stop_df.csv', index=False)\n",
    "        all_VBLO_df.to_csv(f'{monkey_name}/all_VBLO_df.csv', index=False)\n",
    "\n",
    "\n",
    "    analyze_ratio_trend.evaluate_ratio_trend(all_stop_df, event_count_col=event_count_col, denom_count_col=denom_count_col,\n",
    "                                            title=f'{monkey_name.split(\"monkey_\")[1]}: Ratio of Captures vs Stops')"
   ]
  },
  {
   "cell_type": "markdown",
   "metadata": {},
   "source": [
    "# Appendix"
   ]
  },
  {
   "cell_type": "markdown",
   "metadata": {},
   "source": [
    "## Quickly get all_trial_durations_df"
   ]
  },
  {
   "cell_type": "code",
   "execution_count": null,
   "metadata": {},
   "outputs": [],
   "source": [
    "raw_data_dir_name = 'all_monkey_data/raw_monkey_data'\n",
    "sessions_df_for_one_monkey = combine_info_utils.make_sessions_df_for_one_monkey(\n",
    "    raw_data_dir_name, 'monkey_Bruno')\n",
    "\n",
    "all_trial_durations_df = pd.DataFrame()\n",
    "\n",
    "for index, row in sessions_df_for_one_monkey.iterrows():\n",
    "    if row['finished'] is True:\n",
    "        continue\n",
    "\n",
    "    data_name = row['data_name']\n",
    "    raw_data_folder_path = os.path.join(\n",
    "        raw_data_dir_name, row['monkey_name'], data_name)\n",
    "    print(raw_data_folder_path)\n",
    "    data_item = further_processing_class.FurtherProcessing(\n",
    "        raw_data_folder_path=raw_data_folder_path)\n",
    "    # data_item.retrieve_or_make_monkey_data()\n",
    "    \n",
    "    data_item.ff_caught_T_sorted, data_item.ff_index_sorted, data_item.ff_real_position_sorted, data_item.ff_believed_position_sorted, data_item.ff_life_sorted, \\\n",
    "        data_item.ff_flash_end_sorted = retrieve_raw_data.make_or_retrieve_ff_info_from_txt_data(\n",
    "            data_item.raw_data_folder_path)\n",
    "    # data_item.make_or_retrieve_closest_stop_to_capture_df()\n",
    "    # data_item.make_ff_caught_T_new()\n",
    "    \n",
    "    trial_durations = np.diff(data_item.ff_caught_T_sorted)\n",
    "    trial_durations_df = pd.DataFrame(\n",
    "        {'duration_sec': trial_durations, 'trial_index': np.arange(len(trial_durations))})\n",
    "    trial_durations_df['data_name'] = data_name\n",
    "    all_trial_durations_df = pd.concat(\n",
    "        [all_trial_durations_df, trial_durations_df])\n",
    "    \n",
    "all_trial_durations_df = make_variations_utils.assign_session_id(all_trial_durations_df)\n",
    "\n",
    "all_trial_durations_df = make_variations_utils.assign_session_id(all_trial_durations_df, 'session')\n"
   ]
  },
  {
   "cell_type": "markdown",
   "metadata": {},
   "source": [
    "## Nonparametric trend checks (and others)\n",
    "(a) Spearman: session vs geometric‑mean duration per session"
   ]
  },
  {
   "cell_type": "code",
   "execution_count": null,
   "metadata": {},
   "outputs": [],
   "source": [
    "import numpy as np, pandas as pd\n",
    "from scipy.stats import spearmanr\n",
    "\n",
    "# geometric mean per session = exp(mean(log T))\n",
    "g = (\n",
    "    df_trials\n",
    "    .assign(logT=np.log(df_trials[\"duration_sec\"]))\n",
    "    .groupby(\"session\")[\"logT\"]\n",
    "    .mean()\n",
    "    .pipe(np.exp)\n",
    "    .rename(\"geom_mean_T\")\n",
    "    .reset_index()\n",
    ")\n",
    "\n",
    "rho, pval = spearmanr(g[\"session\"].values, g[\"geom_mean_T\"].values)\n",
    "print(f\"Spearman rho = {rho:.3f}, p = {pval:.3g}\")\n"
   ]
  },
  {
   "cell_type": "markdown",
   "metadata": {},
   "source": [
    "## Theil–Sen slope on log T (trial level)"
   ]
  },
  {
   "cell_type": "code",
   "execution_count": null,
   "metadata": {},
   "outputs": [],
   "source": [
    "import numpy as np\n",
    "from sklearn.linear_model import TheilSenRegressor\n",
    "\n",
    "X = df_trials[[\"session\"]].astype(float).values\n",
    "y = np.log(df_trials[\"duration_sec\"].values)\n",
    "\n",
    "ts = TheilSenRegressor(random_state=0)\n",
    "ts.fit(X, y)\n",
    "\n",
    "slope = ts.coef_[0]                    # per session (on log-scale)\n",
    "per10_pct = (np.exp(10*slope) - 1)*100 # % change per 10 sessions\n",
    "print(f\"Theil–Sen slope (logT vs session) = {slope:.5f} per session \"\n",
    "      f\"⇒ {per10_pct:+.1f}% per 10 sessions\")\n"
   ]
  },
  {
   "cell_type": "markdown",
   "metadata": {},
   "source": [
    "## Old code for duration"
   ]
  },
  {
   "cell_type": "markdown",
   "metadata": {},
   "source": [
    "There's some more things to try here:\n",
    "https://chatgpt.com/g/g-p-68a34392716c8191839b81db389836c7-multiff/c/68a7b6a5-04e0-8332-aa89-8c4235fe4c4b\n"
   ]
  },
  {
   "cell_type": "code",
   "execution_count": null,
   "metadata": {},
   "outputs": [],
   "source": [
    "import numpy as np, pandas as pd, statsmodels.api as sm, statsmodels.formula.api as smf\n",
    "\n",
    "# 1) Filter and clean durations FIRST\n",
    "df_trials = all_trial_durations_df.query(\"duration_sec < 30\").copy()\n",
    "\n",
    "df_trials[\"duration_sec\"] = df_trials[\"duration_sec\"].clip(lower=1e-6)\n",
    "\n",
    "\n",
    "# 2) Build session-level aggregates from the cleaned trials\n",
    "df_sessions = (\n",
    "    df_trials.groupby(\"session\", as_index=False)\n",
    "    .agg(captures=(\"duration_sec\", \"size\"),\n",
    "         total_duration=(\"duration_sec\", \"sum\"))\n",
    ")\n",
    "\n",
    "# If you used drop (A), total_duration should be >0. Still, be safe:\n",
    "df_sessions[\"total_duration\"] = df_sessions[\"total_duration\"].clip(lower=1e-12)\n",
    "\n",
    "# 3) Logs (after cleaning)\n",
    "df_trials[\"logT\"] = np.log(df_trials[\"duration_sec\"])\n",
    "offset = np.log(df_sessions[\"total_duration\"])\n",
    "\n",
    "# 4) Models\n",
    "po = smf.glm(\n",
    "    \"captures ~ session\",\n",
    "    data=df_sessions,\n",
    "    family=sm.families.Poisson(),\n",
    "    offset=offset\n",
    ").fit(cov_type=\"HC0\")\n",
    "\n",
    "\n",
    "ols = smf.ols(\"logT ~ session\", data=df_trials).fit(\n",
    "    cov_type=\"cluster\", cov_kwds={\"groups\": df_trials[\"session\"]}\n",
    ")\n"
   ]
  },
  {
   "cell_type": "code",
   "execution_count": null,
   "metadata": {},
   "outputs": [],
   "source": [
    "import numpy as np\n",
    "import pandas as pd\n",
    "\n",
    "# --- Poisson ---\n",
    "po_ci = po.conf_int().loc[\"session\"]\n",
    "po_dict = {\n",
    "    \"model\": \"Poisson (captures/min)\",\n",
    "    \"estimate_per_session\": round(float(po.params[\"session\"]), 3),\n",
    "    # \"effect_per_10_sessions\": round(float(np.exp(10 * po.params[\"session\"])), 3),\n",
    "    \"95%_CI\": (\n",
    "        round(np.exp(10 * po_ci[0]), 3),\n",
    "        round(np.exp(10 * po_ci[1]), 3)\n",
    "    ),\n",
    "    \"p_value\": round(float(po.pvalues[\"session\"]), 4),\n",
    "    \"scale\": \"rate ratio\"\n",
    "}\n",
    "\n",
    "# --- OLS ---\n",
    "ols_ci = ols.conf_int().loc[\"session\"]\n",
    "ols_dict = {\n",
    "    \"model\": \"OLS (log-duration)\",\n",
    "    \"estimate_per_session\": round(float(ols.params[\"session\"]), 4),\n",
    "    # \"effect_per_10_sessions\": round(\n",
    "    #     float((np.exp(10 * ols.params[\"session\"]) - 1) * 100), 2\n",
    "    # ),\n",
    "    \"95%_CI\": (\n",
    "        round((np.exp(10 * ols_ci[0]) - 1) * 100, 2),\n",
    "        round((np.exp(10 * ols_ci[1]) - 1) * 100, 2)\n",
    "    ),\n",
    "    \"p_value\": round(float(ols.pvalues[\"session\"]), 4),\n",
    "    \"scale\": \"% change\"\n",
    "}\n",
    "\n",
    "# Combine into one table\n",
    "summary_df = pd.DataFrame([po_dict, ols_dict])\n",
    "summary_df\n"
   ]
  },
  {
   "cell_type": "code",
   "execution_count": null,
   "metadata": {},
   "outputs": [],
   "source": [
    "show_learning.plot_poisson_rate_fit(df_sessions, po,  f'{monkey_name.split(\"monkey_\")[1]}: ')\n",
    "show_learning.plot_duration_fit(df_trials, ols,  f'{monkey_name.split(\"monkey_\")[1]}: ')\n",
    "\n"
   ]
  },
  {
   "cell_type": "code",
   "execution_count": null,
   "metadata": {},
   "outputs": [],
   "source": [
    "\n",
    "\n",
    "# Get early vs late results\n",
    "(rate_phase, rate_ttest, rate_glm, rate_effect) = show_learning.summarize_early_late_rate_with_glm(df_sessions)\n",
    "(dur_phase,  dur_ttest,  dur_glm,  dur_effect ) = show_learning.summarize_early_late_duration_with_glm(df_trials, df_sessions)\n",
    "print_results.show_all_pretty_tables(rate_phase, rate_ttest, rate_glm, rate_effect,\n",
    "                       dur_phase,  dur_ttest,  dur_glm,  dur_effect,\n",
    ")\n"
   ]
  }
 ],
 "metadata": {
  "colab": {
   "provenance": [],
   "toc_visible": true
  },
  "kernelspec": {
   "display_name": "multiff_clean",
   "language": "python",
   "name": "python3"
  },
  "language_info": {
   "codemirror_mode": {
    "name": "ipython",
    "version": 3
   },
   "file_extension": ".py",
   "mimetype": "text/x-python",
   "name": "python",
   "nbconvert_exporter": "python",
   "pygments_lexer": "ipython3",
   "version": "3.11.11"
  }
 },
 "nbformat": 4,
 "nbformat_minor": 0
}
