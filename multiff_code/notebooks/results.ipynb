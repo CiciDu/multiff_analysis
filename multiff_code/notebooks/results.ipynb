{
 "cells": [
  {
   "cell_type": "markdown",
   "metadata": {},
   "source": [
    "# Change over time"
   ]
  },
  {
   "cell_type": "markdown",
   "metadata": {},
   "source": [
    "#### patterns"
   ]
  },
  {
   "cell_type": "code",
   "execution_count": null,
   "metadata": {},
   "outputs": [],
   "source": [
    "tm.plot_the_changes_in_pattern_frequencies_over_time()"
   ]
  },
  {
   "cell_type": "markdown",
   "metadata": {},
   "source": [
    "#### features"
   ]
  },
  {
   "cell_type": "code",
   "execution_count": null,
   "metadata": {},
   "outputs": [],
   "source": [
    "tm.plot_the_changes_in_feature_statistics_over_time()"
   ]
  },
  {
   "cell_type": "markdown",
   "metadata": {},
   "source": [
    "#### scatter"
   ]
  },
  {
   "cell_type": "code",
   "execution_count": null,
   "metadata": {},
   "outputs": [],
   "source": [
    "tm.plot_the_changes_in_scatter_around_target_over_time()"
   ]
  },
  {
   "cell_type": "markdown",
   "metadata": {},
   "source": [
    "# Compare monkeys"
   ]
  },
  {
   "cell_type": "markdown",
   "metadata": {},
   "source": [
    "#### diff in abs d heading"
   ]
  },
  {
   "cell_type": "code",
   "execution_count": null,
   "metadata": {},
   "outputs": [],
   "source": [
    "ps.plot_heading_in_all_ref_median_info_across_monkeys_and_arc_types()"
   ]
  },
  {
   "cell_type": "markdown",
   "metadata": {},
   "source": [
    "## curv"
   ]
  },
  {
   "cell_type": "code",
   "execution_count": null,
   "metadata": {},
   "outputs": [],
   "source": [
    "ps.plot_curv_in_all_ref_median_info_across_monkeys_and_arc_types()"
   ]
  },
  {
   "cell_type": "markdown",
   "metadata": {},
   "source": [
    "## perc"
   ]
  },
  {
   "cell_type": "code",
   "execution_count": null,
   "metadata": {},
   "outputs": [],
   "source": [
    "ps.plot_direction_in_pooled_perc_info_across_monkeys()"
   ]
  },
  {
   "cell_type": "markdown",
   "metadata": {},
   "source": [
    "# Compare monkey and agent"
   ]
  },
  {
   "cell_type": "markdown",
   "metadata": {},
   "source": [
    "## diff in abs d heading"
   ]
  },
  {
   "cell_type": "code",
   "execution_count": null,
   "metadata": {},
   "outputs": [],
   "source": [
    "x_var_column_list = ['monkey_name']\n",
    "fixed_variable_values_to_use = {'whether_even_out_dist': True,\n",
    "                                'if_test_nxt_ff_group_appear_after_stop': 'flexible',\n",
    "                                'key_for_split': 'ff_seen',\n",
    "                                }\n",
    "changeable_variables = ['ref_point_value']\n",
    "columns_to_find_unique_combinations_for_color = []\n",
    "\n",
    "cma.plot_heading_in_all_ref_median_info_across_monkeys_and_arc_types(x_var_column_list=x_var_column_list,\n",
    "                                                                fixed_variable_values_to_use=fixed_variable_values_to_use,\n",
    "                                                                changeable_variables=changeable_variables,\n",
    "                                                                columns_to_find_unique_combinations_for_color=columns_to_find_unique_combinations_for_color)"
   ]
  },
  {
   "cell_type": "markdown",
   "metadata": {},
   "source": [
    "## curv"
   ]
  },
  {
   "cell_type": "code",
   "execution_count": null,
   "metadata": {},
   "outputs": [],
   "source": [
    "x_var_column_list = ['monkey_name']\n",
    "fixed_variable_values_to_use = {'whether_even_out_dist': True,\n",
    "                                'if_test_nxt_ff_group_appear_after_stop': 'flexible',\n",
    "                                'key_for_split': 'ff_seen',\n",
    "                                }\n",
    "changeable_variables = ['ref_point_value']\n",
    "columns_to_find_unique_combinations_for_color = []\n",
    "\n",
    "cma.plot_curv_in_all_ref_median_info_across_monkeys_and_arc_types(x_var_column_list=x_var_column_list,\n",
    "                                                                fixed_variable_values_to_use=fixed_variable_values_to_use,\n",
    "                                                                changeable_variables=changeable_variables,\n",
    "                                                                columns_to_find_unique_combinations_for_color=columns_to_find_unique_combinations_for_color)"
   ]
  },
  {
   "cell_type": "markdown",
   "metadata": {},
   "source": [
    "## perc"
   ]
  },
  {
   "cell_type": "code",
   "execution_count": null,
   "metadata": {},
   "outputs": [],
   "source": [
    "x_var_column_list = ['monkey_name']\n",
    "\n",
    "fixed_variable_values_to_use = {'whether_even_out_dist': False,\n",
    "                                'if_test_nxt_ff_group_appear_after_stop': 'flexible',\n",
    "                                'key_for_split': 'ff_seen',\n",
    "                                }\n",
    "\n",
    "changeable_variables = [] #'if_test_nxt_ff_group_appear_after_stop'\n",
    "\n",
    "columns_to_find_unique_combinations_for_color = []\n",
    "\n",
    "cma.plot_direction_in_pooled_perc_info_across_monkeys(x_var_column_list=x_var_column_list,\n",
    "                                                                fixed_variable_values_to_use=fixed_variable_values_to_use,\n",
    "                                                                changeable_variables=changeable_variables,\n",
    "                                                                columns_to_find_unique_combinations_for_color=columns_to_find_unique_combinations_for_color)"
   ]
  }
 ],
 "metadata": {
  "kernelspec": {
   "display_name": "Python 3",
   "language": "python",
   "name": "python3"
  },
  "language_info": {
   "codemirror_mode": {
    "name": "ipython",
    "version": 3
   },
   "file_extension": ".py",
   "mimetype": "text/x-python",
   "name": "python",
   "nbconvert_exporter": "python",
   "pygments_lexer": "ipython3",
   "version": "3.9.19"
  }
 },
 "nbformat": 4,
 "nbformat_minor": 2
}
