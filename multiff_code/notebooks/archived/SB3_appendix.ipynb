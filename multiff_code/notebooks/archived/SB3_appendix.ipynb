{
 "cells": [
  {
   "cell_type": "markdown",
   "id": "0",
   "metadata": {},
   "source": [
    "# Loop (for hyperparameter tuning)"
   ]
  },
  {
   "cell_type": "markdown",
   "id": "1",
   "metadata": {},
   "source": [
    "## get mem1, 2 with no cost"
   ]
  },
  {
   "cell_type": "code",
   "execution_count": null,
   "id": "2",
   "metadata": {},
   "outputs": [],
   "source": [
    "RLforFF.env_kwargs_for_curriculum_training"
   ]
  },
  {
   "cell_type": "code",
   "execution_count": null,
   "id": "3",
   "metadata": {},
   "outputs": [],
   "source": [
    "import copy\n",
    "max_in_memory_time = 3\n",
    "params = {\n",
    "          'dv_cost_factor': 0,\n",
    "          'dw_cost_factor': 0,\n",
    "          'w_cost_factor': 0,\n",
    "}\n",
    "\n",
    "for num_obs_ff in [2, 1]:\n",
    "    overall_folder = f'RL_models/SB3_stored_models/all_agents/env1_relu/ff{num_obs_ff}/'\n",
    "\n",
    "    env_kwargs = {'num_obs_ff': num_obs_ff,\n",
    "                'max_in_memory_time': max_in_memory_time,\n",
    "                'print_ff_capture_incidents': False\n",
    "                #'reward_per_ff': 120,\n",
    "    }\n",
    "\n",
    "    # check if num_obs_ff is consistent with the name in overall_folder. If not, raise an error\n",
    "    if not f'ff{env_kwargs[\"num_obs_ff\"]}' in overall_folder:\n",
    "        raise ValueError('num_obs_ff is not consistent with the name in overall_folder')\n",
    "\n",
    "    RLforFF = sb3_class.SB3forMultifirefly(**params, overall_folder=overall_folder, **env_kwargs)\n",
    "    RLforFF.make_env()\n",
    "    RLforFF.make_agent()\n",
    "    RLforFF.env_kwargs_for_curriculum_training = copy.deepcopy(RLforFF.env_kwargs)\n",
    "    RLforFF._make_agent_for_curriculum_training()\n",
    "    RLforFF.load_best_model_postcurriculum(load_replay_buffer=True)\n",
    "    RLforFF.regular_training(best_model_save_path=RLforFF.best_model_postcurriculum_dir, env_params_to_save=RLforFF.env_kwargs_for_curriculum_training)\n",
    "\n"
   ]
  },
  {
   "cell_type": "markdown",
   "id": "4",
   "metadata": {},
   "source": [
    "## retrain (Resume training) best model from ff1 and ff2, make sure it's mem3..."
   ]
  },
  {
   "cell_type": "code",
   "execution_count": null,
   "id": "5",
   "metadata": {},
   "outputs": [],
   "source": [
    "for max_in_memory_time in [2, 1, 3]:\n",
    "    for num_obs_ff in [2, 1, 3, 4, 5]:\n",
    "        overall_folder = f'RL_models/SB3_stored_models/all_agents/env1_relu/ff{num_obs_ff}/'\n",
    "\n",
    "        env_kwargs = {'num_obs_ff': num_obs_ff,\n",
    "                    'max_in_memory_time': max_in_memory_time,\n",
    "                    'print_ff_capture_incidents': False\n",
    "                    #'reward_per_ff': 120,\n",
    "        }\n",
    "\n",
    "        # check if num_obs_ff is consistent with the name in overall_folder. If not, raise an error\n",
    "        if not f'ff{env_kwargs[\"num_obs_ff\"]}' in overall_folder:\n",
    "            raise ValueError('num_obs_ff is not consistent with the name in overall_folder')\n",
    "\n",
    "        gc.collect()\n",
    "        print(\"Current parameters: \", params)\n",
    "\n",
    "        # params = {'time_cost': 0.0, 'dv_cost_factor': 0.0, 'dw_cost_factor': 0.0, 'w_cost_factor': 0.0, 'v_noise_std': 0.0,\n",
    "        # 'w_noise_std': 0.0}\n",
    "        RLforFF = sb3_class.SB3forMultifirefly(**params, overall_folder=overall_folder,\n",
    "                                                            **env_kwargs)\n",
    "\n",
    "        #RLforFF.import_monkey_data(info_of_monkey, all_trial_features_m, pattern_frequencies_m, feature_statistics_m)\n",
    "        RLforFF.streamline_everything(currentTrial_for_animation=None, num_trials_for_animation=None, duration=[10, 40],\n",
    "                                        best_model_postcurriculum_exists_ok=False, to_load_latest_agent=False)"
   ]
  },
  {
   "cell_type": "markdown",
   "id": "6",
   "metadata": {},
   "source": [
    "## get something from all the agents"
   ]
  },
  {
   "cell_type": "code",
   "execution_count": null,
   "id": "7",
   "metadata": {},
   "outputs": [],
   "source": [
    "candidate_params = {\"v_noise_std\": [0, 0.1, 0.2, 0.3],\n",
    "                    \"w_noise_std\": [0, 0.1, 0.2, 0.3],\n",
    "                    \"ffr_noise_scale\": [0, 0.5, 1, 1.5, 2, 2.5, 3, 3.5],\n",
    "                    \"num_obs_ff\": [2, 3],\n",
    "                    \"max_in_memory_time\": [1, 2, 2.5]}\n",
    "keys, values = zip(*candidate_params.items())\n",
    "param_combinations = []\n",
    "for bundle in product(*values):\n",
    "    param_combinations.append(dict(zip(keys, bundle)))\n",
    "\n",
    "\n",
    "temp_overall_folder = 'RL_models/SB3_stored_models/all_agents/gen_3/'\n",
    "for count, params in enumerate(param_combinations):\n",
    "    RLforFF = sb3_class.SB3forMultifirefly(**params, overall_folder=temp_overall_folder)\n",
    "    RLforFF.make_env()\n",
    "    RLforFF.make_agent()\n",
    "    RLforFF.load_latest_agent()\n",
    "    RLforFF.collect_data(n_steps=2000)\n",
    "    super(type(RLforFF), RLforFF).make_or_retrieve_ff_dataframe(exists_ok=False)\n",
    "    super(type(RLforFF), RLforFF).find_patterns()\n",
    "    if len(RLforFF.ff_caught_T_new) < 1:\n",
    "        print(\"No firefly was caught by the agent during testing. Rip\") \n",
    "        continue\n",
    "    RLforFF.set_animation_parameters(currentTrial=5, num_trials=3, k=1)\n",
    "    RLforFF.call_animation_function(video_dir=RLforFF.overall_folder + 'all_videos', file_name=RLforFF.agent_id + '.mp4', plot_flash_on_ff=True)\n",
    "    #RLforFF.combine_6_plots_for_neural_network()"
   ]
  }
 ],
 "metadata": {
  "accelerator": "GPU",
  "colab": {
   "machine_shape": "hm",
   "provenance": [
    {
     "file_id": "1GN5Y_MBqDlaM8t8KZqZZKeERvOau11W_",
     "timestamp": 1681009447473
    }
   ]
  },
  "gpuClass": "standard",
  "kernelspec": {
   "display_name": "Python 3",
   "name": "python3"
  },
  "language_info": {
   "codemirror_mode": {
    "name": "ipython",
    "version": 3
   },
   "file_extension": ".py",
   "mimetype": "text/x-python",
   "name": "python",
   "nbconvert_exporter": "python",
   "pygments_lexer": "ipython3",
   "version": "3.9.19"
  },
  "toc": {
   "base_numbering": 1,
   "nav_menu": {},
   "number_sections": true,
   "sideBar": true,
   "skip_h1_title": false,
   "title_cell": "Table of Contents",
   "title_sidebar": "Contents",
   "toc_cell": true,
   "toc_position": {},
   "toc_section_display": true,
   "toc_window_display": true
  }
 },
 "nbformat": 4,
 "nbformat_minor": 5
}
