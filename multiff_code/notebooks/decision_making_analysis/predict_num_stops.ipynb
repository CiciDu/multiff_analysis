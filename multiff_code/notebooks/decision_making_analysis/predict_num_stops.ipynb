{
 "cells": [
  {
   "cell_type": "markdown",
   "id": "0",
   "metadata": {},
   "source": [
    "# Predict num stops"
   ]
  },
  {
   "cell_type": "markdown",
   "id": "1",
   "metadata": {},
   "source": [
    "## data from all sessions"
   ]
  },
  {
   "cell_type": "code",
   "execution_count": null,
   "id": "2",
   "metadata": {},
   "outputs": [],
   "source": [
    "gc_kwargs = helper_GUAT_vs_TAFT_class.gc_kwargs.copy()\n",
    "\n",
    "gc_kwargs_temp = {**gc_kwargs,\n",
    "                    'num_old_ff_per_row': 2,\n",
    "                    'num_new_ff_per_row': 3}\n",
    "\n",
    "gas = GUAT_combine_info_class.GUATCombineInfoAcrossSessions(gc_kwargs_temp, monkey_name='monkey_Schro')\n",
    "gas.retrieve_or_make_combined_info(gc_kwargs_temp, combined_info_exists_ok=True, traj_df_exist_in_GUAT_store_ok=True)\n",
    "gas.unpack_and_reload_combined_info_back_to_self(gas.combined_info, gas.all_traj_feature_names)"
   ]
  },
  {
   "cell_type": "markdown",
   "id": "3",
   "metadata": {},
   "source": [
    "## data from one session"
   ]
  },
  {
   "cell_type": "code",
   "execution_count": null,
   "id": "4",
   "metadata": {},
   "outputs": [],
   "source": [
    "gc_kwargs = helper_GUAT_vs_TAFT_class.gc_kwargs.copy()\n",
    "\n",
    "raw_data_folder_path = 'all_monkey_data/raw_monkey_data/monkey_Bruno/data_0330'\n",
    "gcc = GUAT_collect_info_class.GUATCollectInfoForSession(raw_data_folder_path=raw_data_folder_path, \n",
    "                                                        gc_kwargs=gc_kwargs, new_point_index_start=0)\n",
    "_ = gcc.streamline_process_to_collect_info_from_one_session(GUAT_w_ff_df_exists_ok=True,\n",
    "                                                            GUAT_info_exists_ok=False)\n",
    "\n",
    "gas = GUAT_combine_info_class.GUATCombineInfoAcrossSessions(gc_kwargs)\n",
    "gas.unpack_and_reload_combined_info_back_to_self(gcc.important_info, gcc.all_traj_feature_names)"
   ]
  },
  {
   "cell_type": "code",
   "execution_count": null,
   "id": "5",
   "metadata": {},
   "outputs": [],
   "source": [
    "# get the frequency of each element in the numpy array gas.output\n",
    "unique_elements, counts_elements = np.unique(gas.output, return_counts=True)\n",
    "unique_elements, counts_elements "
   ]
  },
  {
   "cell_type": "markdown",
   "id": "6",
   "metadata": {},
   "source": [
    "## ML"
   ]
  },
  {
   "cell_type": "markdown",
   "id": "7",
   "metadata": {},
   "source": [
    "### use current data"
   ]
  },
  {
   "cell_type": "code",
   "execution_count": null,
   "id": "8",
   "metadata": {},
   "outputs": [],
   "source": [
    "gas.process_current_and_alternative_ff_info()\n",
    "more_ff_attributes = ['ff_distance', 'ff_angle', 'curv_diff']\n",
    "ff_last_seen_attributes = ['last_seen_' + attribute for attribute in more_ff_attributes] + ['distance_from_monkey_now_to_monkey_when_ff_last_seen', 'angle_from_monkey_now_to_monkey_when_ff_last_seen']\n",
    "ff_next_seen_attributes = ['next_seen_' + attribute for attribute in more_ff_attributes] + ['distance_from_monkey_now_to_monkey_when_ff_next_seen', 'angle_from_monkey_now_to_monkey_when_ff_next_seen']\n",
    "\n",
    "\n",
    "gas.find_input_and_output(add_arc_info=True, add_current_curv_of_traj=True, \n",
    "                          ff_attributes=['ff_distance', 'ff_angle', 'time_since_last_vis', 'time_till_next_visible', 'duration_of_last_vis_period']\n",
    "                          + ff_last_seen_attributes)\n",
    "\n",
    "gas.prepare_data_for_machine_learning(traj_ff_attributes_to_add=None)\n",
    "gas.split_data_to_train_and_test(scaling_data=True)\n",
    "\n",
    "#bagging = BaggingClassifier(n_estimators=200, max_features=0.9, bootstrap_features=True, bootstrap=True, random_state=42)\n",
    "#gas.use_machine_learning_model(model=bagging) \n",
    "\n",
    "gas.use_machine_learning_model(model=None) #MLPClassifier(hidden_layer_sizes=(100,100,100), max_iter=1000, activation='relu', solver='adam', random_state=1))\n",
    "\n",
    "gas.get_pred_results_df()  \n",
    "gas.add_additional_info_to_plot()\n",
    "gas.plot_prediction_results(max_plot_to_make=5, show_reward_boundary=True, use_more_ff_inputs=True, use_more_traj_points=True,\n",
    "                            predict_num_stops=True,\n",
    "                            )"
   ]
  },
  {
   "cell_type": "code",
   "execution_count": null,
   "id": "9",
   "metadata": {},
   "outputs": [],
   "source": [
    "len(gas.num_stops[gas.num_stops==1])/len(gas.num_stops)"
   ]
  },
  {
   "cell_type": "code",
   "execution_count": null,
   "id": "10",
   "metadata": {},
   "outputs": [],
   "source": [
    "sns.histplot(gas.num_stops)\n",
    "plt.show()"
   ]
  },
  {
   "cell_type": "code",
   "execution_count": null,
   "id": "11",
   "metadata": {},
   "outputs": [],
   "source": [
    "current_i = 0\n",
    "max_plot_to_make = 20"
   ]
  },
  {
   "cell_type": "code",
   "execution_count": null,
   "id": "12",
   "metadata": {},
   "outputs": [],
   "source": [
    "\n",
    "selected_cases = np.arange(current_i, current_i+max_plot_to_make)\n",
    "gas.plot_prediction_results(selected_cases=selected_cases, \n",
    "                            max_plot_to_make=max_plot_to_make, \n",
    "                            show_reward_boundary=True, \n",
    "                            use_more_ff_inputs=True, \n",
    "                            use_more_traj_points=True,\n",
    "                            predict_num_stops=True)\n",
    "current_i += max_plot_to_make"
   ]
  },
  {
   "cell_type": "code",
   "execution_count": null,
   "id": "13",
   "metadata": {},
   "outputs": [],
   "source": [
    "gas.use_machine_learning_model(model = MLPClassifier(hidden_layer_sizes=(100, 100, 100), max_iter=1000))   \n",
    "gas.get_pred_results_df()  "
   ]
  },
  {
   "cell_type": "markdown",
   "id": "14",
   "metadata": {},
   "source": [
    "### loop through num_ff"
   ]
  },
  {
   "cell_type": "code",
   "execution_count": null,
   "id": "15",
   "metadata": {},
   "outputs": [],
   "source": [
    "# loop\n",
    "for num_old_ff_per_row in [1, 2, 3]:\n",
    "    for num_new_ff_per_row in [1, 2, 3]:\n",
    "        print('num_old_ff_per_row:', num_old_ff_per_row)\n",
    "        print('num_new_ff_per_row:', num_new_ff_per_row)\n",
    "\n",
    "        gc_kwargs_temp = {**gc_kwargs,\n",
    "                            'num_old_ff_per_row': num_old_ff_per_row,\n",
    "                            'num_new_ff_per_row': num_new_ff_per_row}\n",
    "\n",
    "        gas = GUAT_combine_info_class.GUATCombineInfoAcrossSessions(gc_kwargs_temp)\n",
    "        gas.retrieve_or_make_combined_info(gc_kwargs_temp, combined_info_exists_ok=True, traj_df_exist_in_GUAT_store_ok=True)\n",
    "        gas.unpack_and_reload_combined_info_back_to_self(gas.combined_info, gas.all_traj_feature_names)\n",
    "\n",
    "\n",
    "        gas.process_current_and_alternative_ff_info()\n",
    "        more_ff_attributes = ['ff_distance', 'ff_angle', 'curv_diff']\n",
    "        ff_last_seen_attributes = ['last_seen_' + attribute for attribute in more_ff_attributes] + ['distance_from_monkey_now_to_monkey_when_ff_last_seen', 'angle_from_monkey_now_to_monkey_when_ff_last_seen']\n",
    "        ff_next_seen_attributes = ['next_seen_' + attribute for attribute in more_ff_attributes] + ['distance_from_monkey_now_to_monkey_when_ff_next_seen', 'angle_from_monkey_now_to_monkey_when_ff_next_seen']\n",
    "\n",
    "\n",
    "        gas.find_input_and_output(add_arc_info=True, add_current_curv_of_traj=True, \n",
    "                                ff_attributes=['ff_distance', 'ff_angle', 'time_since_last_vis', 'time_till_next_visible', 'duration_of_last_vis_period']\n",
    "                                + ff_last_seen_attributes)\n",
    "\n",
    "        gas.prepare_data_for_machine_learning(traj_ff_attributes_to_add=None)\n",
    "        gas.split_data_to_train_and_test(scaling_data=True)\n",
    "        gas.use_machine_learning_model(model=None) #MLPClassifier(hidden_layer_sizes=(100,100,100), max_iter=1000, activation='relu', solver='adam', random_state=1))\n",
    "\n",
    "        gas.get_pred_results_df()  \n"
   ]
  },
  {
   "cell_type": "markdown",
   "id": "16",
   "metadata": {},
   "source": [
    "# Basic data"
   ]
  },
  {
   "cell_type": "markdown",
   "id": "17",
   "metadata": {},
   "source": [
    "## Retrieve monkey data"
   ]
  },
  {
   "cell_type": "code",
   "execution_count": null,
   "id": "18",
   "metadata": {},
   "outputs": [],
   "source": [
    "raw_data_folder_path = \"all_monkey_data/raw_monkey_data/monkey_Bruno/data_0330\"\n",
    "PLAYER = \"monkey\"\n",
    "trial_total_num = 2\n",
    "\n",
    "monkey_name = raw_data_folder_path.split('/')[2]\n",
    "data_name = raw_data_folder_path.split('/')[3]\n",
    "\n",
    "data_item = animation_class.AnimationClass(raw_data_folder_path=raw_data_folder_path)\n",
    "data_item.retrieve_or_make_monkey_data()\n",
    "data_item.make_or_retrieve_ff_dataframe(exists_ok=True)\n",
    "data_item.find_patterns()\n",
    "data_item.make_PlotTrials_args()\n",
    "data_item.make_or_retrieve_target_clust_last_vis_df()\n",
    "\n",
    "monkey_information = data_item.monkey_information\n",
    "ff_dataframe = data_item.ff_dataframe\n",
    "ff_life_sorted = data_item.ff_life_sorted\n",
    "ff_real_position_sorted = data_item.ff_real_position_sorted\n",
    "ff_believed_position_sorted = data_item.ff_believed_position_sorted\n",
    "ff_caught_T_new = data_item.ff_caught_T_new\n",
    "ff_flash_sorted = data_item.ff_flash_sorted\n",
    "PlotTrials_args = data_item.PlotTrials_args\n",
    "\n",
    "target_clust_last_vis_df = data_item.target_clust_last_vis_df\n",
    "target_clust_last_vis_df['ff_index'] = target_clust_last_vis_df['target_index']\n"
   ]
  },
  {
   "cell_type": "markdown",
   "id": "19",
   "metadata": {},
   "source": [
    "## plotting kwargs"
   ]
  },
  {
   "cell_type": "code",
   "execution_count": null,
   "id": "20",
   "metadata": {},
   "outputs": [],
   "source": [
    "classic_plot_kwargs = {'player': PLAYER,\n",
    "                       'show_stops': True,\n",
    "                       'show_believed_target_positions': True,\n",
    "                       'show_reward_boundary': True,\n",
    "                       'show_scale_bar': True,\n",
    "                       'show_eye_positions': True,\n",
    "                       'show_eye_positions_on_the_right': True,\n",
    "                       'show_connect_path_eye_positions': True,\n",
    "                       #=== below is different from animation_plot_kwargs\n",
    "                       'hitting_arena_edge_ok': False,\n",
    "                       'trial_too_short_ok': False}\n",
    "\n",
    "combined_plot_kwargs = {'player': PLAYER,\n",
    "                        'combined_plot': True,\n",
    "                        'show_alive_fireflies': False,\n",
    "                        'show_title': False,\n",
    "                        'show_start': False}\n",
    "\n",
    "pretty_null_arc_plot_kwargs = {'player': 'monkey',\n",
    "        'show_believed_target_positions': True,                       \n",
    "        'show_stops': True,\n",
    "        'show_reward_boundary': True,\n",
    "        'show_scale_bar': True,\n",
    "        'hitting_arena_edge_ok': True,\n",
    "        'trial_too_short_ok': True,\n",
    "        'show_alive_fireflies': False,\n",
    "        'adjust_xy_limits': True,\n",
    "        'zoom_in': True,\n",
    "        'minimal_margin': 60,\n",
    "        }\n",
    "\n",
    "animation_plot_kwargs = {\n",
    "    **classic_plot_kwargs,\n",
    "    'as_part_of_animation': True,\n",
    "    'show_eye_positions_on_the_right': False,\n",
    "    'hitting_arena_edge_ok': True,\n",
    "    'trial_too_short_ok': True,\n",
    "    'images_dir': None\n",
    "}\n",
    "\n",
    "data_item.make_PlotTrials_kargs(classic_plot_kwargs, combined_plot_kwargs, animation_plot_kwargs)"
   ]
  },
  {
   "cell_type": "markdown",
   "id": "21",
   "metadata": {},
   "source": [
    "## best_arc_df"
   ]
  },
  {
   "cell_type": "code",
   "execution_count": null,
   "id": "22",
   "metadata": {},
   "outputs": [],
   "source": [
    "ff_dataframe_sub = ff_dataframe[ff_dataframe['ff_angle'].between(-np.pi/4, np.pi/4, inclusive='neither')].copy()\n",
    "curv = curvature_class.CurvatureOfPath(ff_dataframe_sub, monkey_information, ff_caught_T_new, ff_real_position_sorted,\n",
    "                                       )\n",
    "curv.make_curvature_df([-25, 25], curv_of_traj_mode='distance', include_cntr_arc_curv=True,\n",
    "                       include_opt_arc_curv=True,\n",
    "                       opt_arc_stop_first_vis_bdry=False,\n",
    "                       ignore_error=False,)\n",
    "curvature_df = curv.curvature_df.copy()\n",
    "curv.find_opt_arc_info_from_curvature_df()"
   ]
  },
  {
   "cell_type": "code",
   "execution_count": null,
   "id": "23",
   "metadata": {},
   "outputs": [],
   "source": [
    "curv.make_best_arc_df()\n",
    "curv.get_elements_for_plotting(opt_arc_stop_first_vis_bdry=False, ignore_error=True)\n",
    "#curv.add_column_monkey_passed_by_to_best_arc_df()\n",
    "\n",
    "best_arc_df = curv.best_arc_df.copy()\n",
    "curvature_df = curv.curvature_df.copy()\n",
    "\n",
    "pseudo_manual_anno, pseudo_manual_anno_long = decision_making_utils.make_pseudo_manual_anno(best_arc_df, monkey_information, ff_caught_T_new)"
   ]
  },
  {
   "cell_type": "markdown",
   "id": "24",
   "metadata": {},
   "source": [
    "## combine curvature_df with ff_dataframe"
   ]
  },
  {
   "cell_type": "code",
   "execution_count": null,
   "id": "25",
   "metadata": {},
   "outputs": [],
   "source": [
    "# combine curvature_df with ff_dataframe so that one can add columns like 'abs_curv_diff' to ff_dataframe\n",
    "curvature_df_sub = curv.curvature_df[['ff_index', 'point_index', 'curv_diff']]\n",
    "if 'curv_diff' in ff_dataframe.columns:\n",
    "    ff_dataframe.drop('curv_diff', axis=1, inplace=True)\n",
    "ff_dataframe = pd.merge(ff_dataframe, curvature_df_sub, on=['ff_index', 'point_index'], how='left')\n",
    "# fill na of curv_diff, but randomly make half of them negative\n",
    "na_index = ff_dataframe['curv_diff'].isna()\n",
    "ff_dataframe.loc[na_index, 'curv_diff'] = np.random.choice([-1,1], size= na_index.sum()) * 0.6\n",
    "ff_dataframe['abs_curv_diff']  = ff_dataframe['curv_diff'].abs()"
   ]
  },
  {
   "cell_type": "markdown",
   "id": "26",
   "metadata": {},
   "source": [
    "## null_arc_info_for_plotting"
   ]
  },
  {
   "cell_type": "code",
   "execution_count": null,
   "id": "27",
   "metadata": {},
   "outputs": [],
   "source": [
    "reload(show_null_trajectory)\n",
    "null_arc_info_for_plotting = show_null_trajectory.find_and_package_opt_arc_info_for_plotting(best_arc_df, monkey_information, column_for_color=None, ignore_error=True)\n",
    "#null_arc_info_for_plotting = show_null_trajectory.find_and_package_opt_arc_info_for_plotting(best_arc_df, monkey_information, column_for_color='diff_percentile_in_decimal')\n",
    "\n",
    "# also get null_arc_to_center_info_for_plotting\n",
    "all_point_index = best_arc_df.point_index.values\n",
    "all_ff_index = best_arc_df.ff_index.values\n",
    "remaining_index_of_array, remaining_all_ff_index, remaining_all_point_index = show_null_trajectory.eliminate_invalid_ff_for_null_arc(all_ff_index, all_point_index, ff_real_position_sorted, monkey_information)\n",
    "null_arc_to_center_info_for_plotting = show_null_trajectory.find_and_package_arc_to_center_info_for_plotting(remaining_all_point_index, remaining_all_ff_index, monkey_information, ff_real_position_sorted,\n",
    "                                                                                                             ignore_error=True)"
   ]
  },
  {
   "cell_type": "markdown",
   "id": "28",
   "metadata": {},
   "source": [
    "# Visualization"
   ]
  },
  {
   "cell_type": "markdown",
   "id": "29",
   "metadata": {},
   "source": [
    "## plotly"
   ]
  },
  {
   "cell_type": "code",
   "execution_count": null,
   "id": "30",
   "metadata": {},
   "outputs": [],
   "source": [
    "for i in [1, 3, 7, 8, 14]:\n",
    "    print(i)\n",
    "    current_plotly_polar_plot_kargs, all_ff_dict = plotly_utils_polar.prepare_to_make_one_plotly_polar_plot(i, gas.polar_plots_kwargs, gas.point_index_to_plot, gas.GUAT_joined_ff_info, gas.all_traj_feature_names, \n",
    "                                                                                                            more_ff_df=gas.more_ff_df, trajectory_features=gc_kwargs['trajectory_features'])\n",
    "\n",
    "    fig, customdata_columns = plotly_utils_polar.make_one_plotly_polar_plot(**current_plotly_polar_plot_kargs,\n",
    "                                                        symbol='group', color='time_since_last_vis', \n",
    "                                                        columns_for_annotation=['subgroup', 'curv_diff', 'time_till_next_visible', 'time_since_last_vis'],)\n",
    "                                                        #columns_for_annotation=['subgroup', 'ff_number', 'group', 'curv_diff'],)\n",
    "    print(all_ff_dict['more_monkey_info_for_ff_in_past_or_future'])\n",
    "    fig.show()"
   ]
  },
  {
   "cell_type": "markdown",
   "id": "31",
   "metadata": {},
   "source": [
    "## dash"
   ]
  },
  {
   "cell_type": "code",
   "execution_count": null,
   "id": "32",
   "metadata": {},
   "outputs": [],
   "source": [
    "from dash import Dash, html, dcc, Input, Output, callback\n",
    "from dash.exceptions import PreventUpdate\n",
    "import pandas as pd\n",
    "import plotly.express as px\n",
    "reload(plotly_utils_polar)\n",
    "def use_dash(i, gas):\n",
    "    current_plotly_polar_plot_kargs, all_ff_dict = plotly_utils_polar.prepare_to_make_one_plotly_polar_plot(i, gas.polar_plots_kwargs, gas.point_index_to_plot, gas.GUAT_joined_ff_info, gas.all_traj_feature_names, \n",
    "                                                                                            more_ff_df=gas.more_ff_df, trajectory_features=gas.trajectory_features,)\n",
    "    fig, customdata_columns = plotly_utils_polar.make_one_plotly_polar_plot(**current_plotly_polar_plot_kargs, columns_for_annotation=['subgroup', 'curv_diff', 'time_since_last_vis', 'time_till_next_visible'], \n",
    "                                                                            additional_customdata_columns=['ff_number'], color='group')\n",
    "    initial_hover_data = current_plotly_polar_plot_kargs['ff_df'][customdata_columns].iloc[0].values\n",
    "    ff_number_index = np.where(np.array(customdata_columns) == 'ff_number')[0][0]\n",
    "\n",
    "    external_stylesheets = ['https://codepen.io/chriddyp/pen/bWLwgP.css']\n",
    "    df = all_ff_dict['combined_ff_df'].copy()\n",
    "\n",
    "    app = Dash(__name__, external_stylesheets=external_stylesheets)\n",
    "\n",
    "    app.layout = html.Div([\n",
    "\n",
    "        html.Div([\n",
    "            dcc.Graph(\n",
    "                id='main_graph',\n",
    "                figure = fig,\n",
    "                hoverData={'points': [{'customdata': initial_hover_data}]} #['Original-Present', 0]}]}\n",
    "            )\n",
    "        ], style={'width': '50%', 'display': 'inline-block', 'padding': '0 0'}),\n",
    "        html.Div([\n",
    "            dcc.Graph(id='ff_history'),\n",
    "        ], style={'display': 'inline-block', 'width': '50%'}),\n",
    "    ])\n",
    "\n",
    "\n",
    "\n",
    "    @callback(\n",
    "        Output('ff_history', 'figure'),\n",
    "        Input('main_graph', 'hoverData'))\n",
    "    def update_ff_history(hoverData):\n",
    "        print('hoverData:', hoverData)\n",
    "        print('hoverData[points][0]:', hoverData['points'][0])\n",
    "        current_ff_number = hoverData['points'][0]['customdata'][ff_number_index]\n",
    "        # if current_ff_number is not int\n",
    "        if not isinstance(current_ff_number, int):\n",
    "            raise PreventUpdate(\"No update was made because current_ff_number is not an integer.\")\n",
    "        else:\n",
    "            dff = df[df['ff_number'] == current_ff_number]\n",
    "            current_group = dff['group'].iloc[0]\n",
    "            symbol_maps_for_groups = {'Original': 'circle-dot', 'Alternative': 'star-dot', 'More': 'diamond-dot'}\n",
    "\n",
    "            title = '<b>{}</b>'.format(current_ff_number)\n",
    "            current_plotly_polar_plot_kargs_temp = current_plotly_polar_plot_kargs.copy()\n",
    "            current_plotly_polar_plot_kargs_temp['ff_df'] = dff.copy()\n",
    "            fig, customdata_columns = plotly_utils_polar.make_one_plotly_polar_plot(**current_plotly_polar_plot_kargs_temp,\n",
    "                                                                columns_for_annotation=['subgroup', 'ff_distance', 'ff_angle', 'curv_diff', 'time_since_last_vis', 'time_till_next_visible'],\n",
    "                                                                add_colorbar=True, add_legend=True, add_real_and_predicted_labels=False, size=None,\n",
    "                                                                size_max=15, symbol='time_label', symbol_map={'Present':symbol_maps_for_groups[current_group]})\n",
    "            return fig\n",
    "\n",
    "    app.run(debug=True)\n",
    "    return "
   ]
  },
  {
   "cell_type": "code",
   "execution_count": null,
   "id": "33",
   "metadata": {},
   "outputs": [],
   "source": [
    "use_dash(1, gas)"
   ]
  },
  {
   "cell_type": "code",
   "execution_count": null,
   "id": "34",
   "metadata": {},
   "outputs": [],
   "source": [
    "use_dash(3, gas)"
   ]
  },
  {
   "cell_type": "code",
   "execution_count": null,
   "id": "35",
   "metadata": {},
   "outputs": [],
   "source": [
    "use_dash(7, gas)"
   ]
  },
  {
   "cell_type": "markdown",
   "id": "36",
   "metadata": {},
   "source": [
    "## Other important distributions"
   ]
  },
  {
   "cell_type": "markdown",
   "id": "37",
   "metadata": {},
   "source": [
    "### histplot of durations between stops"
   ]
  },
  {
   "cell_type": "code",
   "execution_count": null,
   "id": "38",
   "metadata": {},
   "outputs": [],
   "source": [
    "# plot the duration of the three stops\n",
    "diff_stop_time = GUAT_cluster_df['last_stop_time'] - GUAT_cluster_df['first_stop_time']\n",
    "sns.histplot(diff_stop_time, bins=20)\n",
    "plt.show()\n",
    "\n",
    "\n",
    "# make a line plot of 3 points on x-axis, with y-axis being time since first stop\n"
   ]
  },
  {
   "cell_type": "markdown",
   "id": "39",
   "metadata": {},
   "source": [
    "### histplot of time_till_next_visible"
   ]
  },
  {
   "cell_type": "code",
   "execution_count": null,
   "id": "40",
   "metadata": {},
   "outputs": [],
   "source": [
    "## histplot of durations between stops"
   ]
  },
  {
   "cell_type": "code",
   "execution_count": null,
   "id": "41",
   "metadata": {},
   "outputs": [],
   "source": [
    "sns.histplot(gcc.GUAT_cur_ff_info['time_till_next_visible'], bins=20, stat='probability')\n",
    "plt.title('time till next visible')\n",
    "plt.show()"
   ]
  },
  {
   "cell_type": "markdown",
   "id": "42",
   "metadata": {},
   "source": [
    "### curvature upper lower bounds"
   ]
  },
  {
   "cell_type": "code",
   "execution_count": null,
   "id": "43",
   "metadata": {},
   "outputs": [],
   "source": [
    "# see clean_curvature_info function"
   ]
  },
  {
   "cell_type": "code",
   "execution_count": null,
   "id": "44",
   "metadata": {},
   "outputs": [],
   "source": [
    "max(curvature_df.curv_diff.values)"
   ]
  },
  {
   "cell_type": "code",
   "execution_count": null,
   "id": "45",
   "metadata": {},
   "outputs": [],
   "source": [
    "curv = curvature_class.CurvatureOfPath(ff_dataframe, monkey_information, ff_caught_T_new, ff_real_position_sorted)\n",
    "curv.make_curvature_df([-1, 1])\n",
    "curv.find_opt_arc_info_from_curvature_df()\n",
    "curv.make_best_arc_df()\n",
    "curv.get_elements_for_plotting()\n",
    "\n",
    "best_arc_df = curv.best_arc_df.copy()\n",
    "curvature_df = curv.curvature_df.copy()"
   ]
  },
  {
   "cell_type": "code",
   "execution_count": null,
   "id": "46",
   "metadata": {},
   "outputs": [],
   "source": [
    "for column in ['curv_of_traj', 'curvature_lower_bound', 'curvature_upper_bound', 'opt_arc_curv']:\n",
    "    sns.boxplot(curvature_df[column].values, orient='h')\n",
    "    plt.title(column)\n",
    "    plt.show()\n",
    "    \n",
    "   \n",
    "    sns.histplot(curvature_df[column].values, bins=50)\n",
    "    plt.title(column)\n",
    "    plt.show()\n",
    "    "
   ]
  }
 ],
 "metadata": {
  "language_info": {
   "name": "python"
  }
 },
 "nbformat": 4,
 "nbformat_minor": 5
}
