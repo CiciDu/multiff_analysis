{
 "cells": [
  {
   "cell_type": "markdown",
   "id": "0",
   "metadata": {},
   "source": [
    "# Import packages"
   ]
  },
  {
   "cell_type": "code",
   "execution_count": null,
   "id": "1",
   "metadata": {},
   "outputs": [],
   "source": [
    "# # if using google drive\n",
    "# %cd /content/drive/MyDrive/ff_repo/Multifirefly-Project"
   ]
  },
  {
   "cell_type": "code",
   "execution_count": null,
   "id": "2",
   "metadata": {},
   "outputs": [],
   "source": [
    "from pathlib import Path\n",
    "import os, sys\n",
    "for p in [Path.cwd()] + list(Path.cwd().parents):\n",
    "    if p.name == 'Multifirefly-Project':\n",
    "        os.chdir(p)\n",
    "        sys.path.insert(0, str(p / 'multiff_analysis/multiff_code/methods'))\n",
    "        break\n",
    "\n",
    "%load_ext autoreload\n",
    "%autoreload 2\n",
    "\n",
    "\n",
    "from data_wrangling import specific_utils, combine_info_utils\n",
    "from pattern_discovery import pattern_by_trials, pattern_by_trials, cluster_analysis, organize_patterns_and_features, category_class\n",
    "from decision_making_analysis.cluster_replacement import cluster_replacement_class, cluster_replacement_utils\n",
    "from decision_making_analysis.decision_making import decision_making_class, decision_making_utils, intended_targets_classes\n",
    "from decision_making_analysis.GUAT import GUAT_collect_info_class, GUAT_combine_info_class, process_GUAT_trials_class\n",
    "from decision_making_analysis.compare_GUAT_and_TAFT import GUAT_vs_TAFT_class, GUAT_vs_TAFT_x_sessions_class, helper_GUAT_vs_TAFT_class\n",
    "from visualization.matplotlib_tools import plot_trials, plot_behaviors_utils\n",
    "from visualization.animation import animation_class\n",
    "from null_behaviors import show_null_trajectory, find_best_arc, curvature_utils, curvature_class, curv_of_traj_utils\n",
    "from machine_learning.ml_methods import regression_utils, classification_utils, prep_ml_data_utils, hyperparam_tuning_class\n",
    "from visualization.plotly_polar_tools import plotly_utils_polar, plotly_for_ff_polar, plotly_for_trajectory_polar\n",
    "from machine_learning.ml_methods import ml_methods_class\n",
    "\n",
    "import os, sys\n",
    "import numpy as np\n",
    "import matplotlib\n",
    "import matplotlib.pyplot as plt\n",
    "from os.path import exists\n",
    "import math\n",
    "import copy\n",
    "import matplotlib.pyplot as plt\n",
    "import pandas as pd\n",
    "import itertools\n",
    "import matplotlib.pyplot as plt\n",
    "import gc\n",
    "from scipy import stats\n",
    "from IPython.display import HTML\n",
    "from matplotlib import rc\n",
    "from sklearn.svm import SVC\n",
    "from sklearn.ensemble import AdaBoostClassifier, BaggingClassifier\n",
    "from sklearn.neural_network import MLPClassifier, MLPRegressor\n",
    "from sklearn.linear_model import LinearRegression\n",
    "from sklearn.neighbors import KNeighborsRegressor\n",
    "from sklearn.naive_bayes import GaussianNB\n",
    "from sklearn.linear_model import LogisticRegression\n",
    "from sklearn.preprocessing import StandardScaler\n",
    "import warnings\n",
    "import os, sys, sys\n",
    "from importlib import reload\n",
    "from sklearn.exceptions import ConvergenceWarning\n",
    "\n",
    "\n",
    "plt.rcParams[\"animation.html\"] = \"html5\"\n",
    "os.environ['KMP_DUPLICATE_LIB_OK']='True'\n",
    "rc('animation', html='jshtml')\n",
    "matplotlib.rcParams.update(matplotlib.rcParamsDefault)\n",
    "matplotlib.rcParams['animation.embed_limit'] = 2**128\n",
    "pd.set_option('display.float_format', lambda x: '%.5f' % x)\n",
    "np.set_printoptions(suppress=True)\n",
    "pd.options.display.max_rows = 50\n",
    "\n"
   ]
  },
  {
   "cell_type": "markdown",
   "id": "3",
   "metadata": {},
   "source": [
    "# Predict curvature"
   ]
  },
  {
   "cell_type": "markdown",
   "id": "4",
   "metadata": {},
   "source": [
    "## explanatory_var"
   ]
  },
  {
   "cell_type": "code",
   "execution_count": null,
   "id": "5",
   "metadata": {},
   "outputs": [],
   "source": [
    "reload(decision_making_utils)\n",
    "reload(pattern_by_trials)\n",
    "reload(decision_making_class)\n",
    "reload(intended_targets_classes)\n",
    "reload(find_best_arc)\n",
    "reload(curvature_class)\n",
    "reload(curvature_utils)\n",
    "\n",
    "\n",
    "curv_temp = curvature_class.CurvatureOfPath(ff_dataframe, monkey_information, ff_caught_T_new, ff_real_position_sorted)\n",
    "curv_temp.make_curvature_df([-1, 1])\n",
    "\n",
    "\n",
    "ff_dataframe_temp = ff_dataframe.copy()\n",
    "# eliminate ff that has abs(ff_angle) greater than 45 degrees\n",
    "ff_dataframe_temp = ff_dataframe_temp[abs(ff_dataframe_temp['ff_angle_boundary']) <= math.pi/4]\n",
    "ff_dataframe_truncated = ff_dataframe_temp[ff_dataframe_temp['time_since_last_vis'] <= 2.5]\n",
    "\n",
    "moit = intended_targets_classes.ModelOfIntendedTargets(ff_dataframe_truncated, ff_caught_T_new, ff_real_position_sorted, monkey_information, ff_flash_sorted, ff_life_sorted,\n",
    "                                                       time_range_of_trajectory=[-0.5, 2.5], num_time_points_for_trajectory=10)\n",
    "\n",
    "# moit.get_and_process_manual_anno_long(n_seconds_after_crossing_boundary=2.5)\n",
    "\n",
    "moit.manual_anno = pseudo_manual_anno\n",
    "moit.manual_anno_long = pseudo_manual_anno_long\n",
    "moit.eliminate_crossing_boundary_cases(n_seconds_after_crossing_boundary=0.5)\n",
    "moit.get_input_data(num_ff_per_row=5, keeping_1_out_of_n_rows=10, \n",
    "                    add_arc_info=True, curvature_df=curv_temp.curvature_df, curv_of_traj_df=curv_of_traj_df.copy()\n",
    "                    )\n",
    "\n",
    "explanatory_var = moit.free_selection_x.copy()"
   ]
  },
  {
   "cell_type": "markdown",
   "id": "6",
   "metadata": {},
   "source": [
    "## dependent_var"
   ]
  },
  {
   "cell_type": "code",
   "execution_count": null,
   "id": "7",
   "metadata": {},
   "outputs": [],
   "source": [
    "# get dependent variables\n",
    "reload(curvature_utils)\n",
    "all_point_index = moit.chosen_rows_of_df.starting_point_index.values\n",
    "curv_of_traj_df, traj_curv_descr = curv_of_traj_utils.find_curv_of_traj_df_based_on_curv_of_traj_mode(window_for_curv_of_traj, monkey_information, ff_caught_T_new, curv_of_traj_mode=curv_of_traj_mode, truncate_curv_of_traj_by_time_of_capture=truncate_curv_of_traj_by_time_of_capture)\n",
    "dependent_var = curv_of_traj_df.curv_of_traj.values"
   ]
  },
  {
   "cell_type": "markdown",
   "id": "8",
   "metadata": {},
   "source": [
    "## correlation in curv"
   ]
  },
  {
   "cell_type": "code",
   "execution_count": null,
   "id": "9",
   "metadata": {},
   "outputs": [],
   "source": [
    "# This is kind of like for sanity check\n",
    "old_curv = moit.free_selection_x_df.curv_of_traj.values.copy()\n",
    "new_curv = curv_of_traj_df.curv_of_traj.values.copy()\n",
    "stats.pearsonr(old_curv, new_curv)"
   ]
  },
  {
   "cell_type": "markdown",
   "id": "10",
   "metadata": {},
   "source": [
    "## train test split"
   ]
  },
  {
   "cell_type": "code",
   "execution_count": null,
   "id": "11",
   "metadata": {},
   "outputs": [],
   "source": [
    "keep_whole_chunk = False\n",
    "test_size = 0.2\n",
    "\n",
    "scaler = StandardScaler()\n",
    "dependent_var_sc = scaler.fit_transform(dependent_var.reshape(-1,1)) #scale data\n",
    "explanatory_var_sc = scaler.fit_transform(explanatory_var)\n",
    "\n",
    "\n",
    "if keep_whole_chunk:\n",
    "    indices = np.arange(len(dependent_var_sc))\n",
    "    num_test_points = int(len(indices)*test_size)\n",
    "    num_train_points = len(indices)-num_test_points\n",
    "    # make sure that the test chunk will be a whole segment in the data, to minimize the splitting up of the train and test chunks\n",
    "    test_indice_start = np.random.randint(0, num_train_points)\n",
    "    indices_test = indices[test_indice_start:test_indice_start+num_test_points]\n",
    "    indices_train = np.setdiff1d(indices, indices_test)\n",
    "    X_train = explanatory_var_sc[indices_train]\n",
    "    X_test = explanatory_var_sc[indices_test]\n",
    "    y_train = dependent_var_sc[indices_train]\n",
    "    y_test = dependent_var_sc[indices_test]\n",
    "else:\n",
    "    X_train, X_test, y_train, y_test = train_test_split(explanatory_var_sc, dependent_var_sc, test_size=test_size, random_state=42)"
   ]
  },
  {
   "cell_type": "markdown",
   "id": "12",
   "metadata": {},
   "source": [
    "## ML"
   ]
  },
  {
   "cell_type": "code",
   "execution_count": null,
   "id": "13",
   "metadata": {},
   "outputs": [],
   "source": [
    "# use MLPRegressor\n",
    "mlp = MLPRegressor(random_state=1, max_iter=500).fit(X_train, y_train)\n",
    "mlp.score(X_test, y_test)"
   ]
  },
  {
   "cell_type": "code",
   "execution_count": null,
   "id": "14",
   "metadata": {},
   "outputs": [],
   "source": [
    "# use KNeighborsRegressor\n",
    "n_neighbors = int(math.sqrt(len(y_train)))\n",
    "neigh = KNeighborsRegressor(n_neighbors=n_neighbors)\n",
    "neigh.fit(X_train, y_train)\n",
    "neigh.score(X_test, y_test)"
   ]
  },
  {
   "cell_type": "code",
   "execution_count": null,
   "id": "15",
   "metadata": {},
   "outputs": [],
   "source": [
    "# use RandomForestRegressor\n",
    "regr = RandomForestRegressor(max_depth=10, random_state=0)\n",
    "regr.fit(X_train, y_train)\n",
    "regr.score(X_test, y_test)"
   ]
  },
  {
   "cell_type": "code",
   "execution_count": null,
   "id": "16",
   "metadata": {},
   "outputs": [],
   "source": [
    "# use linear regression\n",
    "reg = LinearRegression().fit(X_train, y_train)\n",
    "reg.score(X_test, y_test)"
   ]
  },
  {
   "cell_type": "markdown",
   "id": "17",
   "metadata": {},
   "source": [
    "# Hyperparameter tuning"
   ]
  },
  {
   "cell_type": "markdown",
   "id": "18",
   "metadata": {},
   "source": [
    "### moit\n",
    "Here, we tune parameters such as whether to pass in null arc info"
   ]
  },
  {
   "cell_type": "code",
   "execution_count": null,
   "id": "19",
   "metadata": {},
   "outputs": [],
   "source": [
    "# make a dictionary of all the ff attributes combinations\n",
    "ff_attributes=['ff_distance', 'ff_angle', 'time_since_last_vis']\n",
    "ff_attributes_combinations = []\n",
    "for i in range(1, len(ff_attributes)+1):\n",
    "    combo_w_i_elements = list(itertools.combinations(ff_attributes, i))\n",
    "    ff_attributes_combinations.extend([list(combo) for combo in combo_w_i_elements])\n",
    "    \n",
    "grid = {'ff_attributes': ff_attributes_combinations,\n",
    "        'trajectory_data_kind': ['position', 'velocity', None],\n",
    "        'add_arc_info': [True, False],\n",
    "        'add_current_curv_of_traj': [True, False],\n",
    "        'keep_whole_chunks' : [True, False],\n",
    "        'num_ff_per_row': [5, 6, 7],  # Note: here's an inherent limitation to this: data where the target is not within the n_ff_per_row ff are eliminated. So data can be biased.\n",
    "        'time_range_of_trajectory': [[-0.9, 0], [-0.9, 0.9]]\n",
    "        }\n",
    "\n",
    "# sample all the combinations from the grid\n",
    "keys, values = zip(*grid.items())\n",
    "combinations = [dict(zip(keys, v)) for v in itertools.product(*values)]"
   ]
  },
  {
   "cell_type": "code",
   "execution_count": null,
   "id": "20",
   "metadata": {},
   "outputs": [],
   "source": [
    "reload(pattern_by_trials)\n",
    "reload(decision_making_class)\n",
    "reload(decision_making_utils)\n",
    "reload(show_null_trajectory)\n",
    "reload(intended_targets_classes)\n",
    "reload(regression_utils)\n",
    "\n",
    "combo = combinations[0]\n",
    "result_df = pd.DataFrame()\n",
    "for i in range(len(combinations)):\n",
    "    combo = combinations[i].copy()\n",
    "    print(i, 'out of', len(combinations))\n",
    "    print(combo)\n",
    "    combo['n_seconds_after_crossing_boundary'] = abs(combo['time_range_of_trajectory'][0])\n",
    "    combo['n_seconds_before_crossing_boundary'] = abs(combo['time_range_of_trajectory'][1])\n",
    "    # hide all printed material for below\n",
    "    with general_utils.HiddenPrints():\n",
    "        # hide all ConvergenceWarning\n",
    "        with warnings.catch_warnings():\n",
    "            warnings.simplefilter(\"ignore\", category=ConvergenceWarning)\n",
    "            model_comparison_df = regression_utils.test_moit_hyperparameters(ff_dataframe, ff_caught_T_new, ff_real_position_sorted, monkey_information, ff_flash_sorted, ff_life_sorted, pseudo_manual_anno, pseudo_manual_anno_long,\n",
    "                                curvature_df=curvature_df, keeping_1_out_of_n_rows=10, **combo)\n",
    "\n",
    "    combo_for_df = combo.copy()\n",
    "    combo_for_df['ff_attributes'] = [combo_for_df['ff_attributes']]\n",
    "    combo_for_df['time_range_of_trajectory'] = [combo_for_df['time_range_of_trajectory']]\n",
    "    # store the most accurate model\n",
    "    combo_for_df['best_model'] = model_comparison_df.iloc[0]['model']\n",
    "    # store the accuracy of the most accurate model\n",
    "    combo_for_df['best_model_accuracy'] = round(model_comparison_df.iloc[0]['accuracy'], 3)\n",
    "    # store the accuracies of all the other models\n",
    "    for index, row in model_comparison_df.iterrows():\n",
    "        combo_for_df[row['model']] = round(row['accuracy'], 3)\n",
    "    temp_result_df = pd.DataFrame(combo_for_df)\n",
    "    if i == 0:\n",
    "        result_df = temp_result_df\n",
    "    else:\n",
    "        result_df = pd.concat([result_df, temp_result_df], axis=0)\n",
    "    "
   ]
  },
  {
   "cell_type": "code",
   "execution_count": null,
   "id": "21",
   "metadata": {},
   "outputs": [],
   "source": [
    "result_df"
   ]
  },
  {
   "cell_type": "code",
   "execution_count": null,
   "id": "22",
   "metadata": {},
   "outputs": [],
   "source": [
    "stop!"
   ]
  },
  {
   "cell_type": "markdown",
   "id": "23",
   "metadata": {},
   "source": [
    "### dm_replacement"
   ]
  },
  {
   "cell_type": "code",
   "execution_count": null,
   "id": "24",
   "metadata": {},
   "outputs": [],
   "source": [
    "# make a dictionary of all the ff attributes combinations\n",
    "ff_attributes=['ff_distance', 'ff_angle', 'time_since_last_vis']\n",
    "ff_attributes_combinations = []\n",
    "for i in range(1, len(ff_attributes)+1):\n",
    "    combo_w_i_elements = list(itertools.combinations(ff_attributes, i))\n",
    "    ff_attributes_combinations.extend([list(combo) for combo in combo_w_i_elements])\n",
    "    \n",
    "grid = {'ff_attributes': ff_attributes_combinations,\n",
    "        'trajectory_data_kind': ['position', 'velocity', None],\n",
    "        'add_arc_info': [True, False],\n",
    "        'add_current_curv_of_traj': [True, False],\n",
    "        'time_range_of_trajectory': [[-0.9, 0], [-0.9, 0.9]],\n",
    "        'num_time_points_for_trajectory': [5, 10, 15],\n",
    "        'replacement_inputs_format': ['diff_between_old_and_new', 'old_plus_diff_between_old_and_new', 'both_old_and_new'],\n",
    "        }\n",
    "\n",
    "# sample all the combinations from the grid\n",
    "keys, values = zip(*grid.items())\n",
    "combinations = [dict(zip(keys, v)) for v in itertools.product(*values)]"
   ]
  },
  {
   "cell_type": "code",
   "execution_count": null,
   "id": "25",
   "metadata": {},
   "outputs": [],
   "source": [
    "reload(pattern_by_trials)\n",
    "reload(decision_making_class)\n",
    "reload(decision_making_utils)\n",
    "reload(show_null_trajectory)\n",
    "reload(intended_targets_classes)\n",
    "reload(regression_utils)\n",
    "\n",
    "combo = combinations[0]\n",
    "dm_result_df = pd.DataFrame()\n",
    "for i in range(len(combinations)):\n",
    "    combo = combinations[i].copy()\n",
    "    print(i, 'out of', len(combinations))\n",
    "    print(combo)\n",
    "    combo['n_seconds_after_crossing_boundary'] = abs(combo['time_range_of_trajectory'][0])\n",
    "    combo['n_seconds_before_crossing_boundary'] = abs(combo['time_range_of_trajectory'][1])\n",
    "    # hide all printed material for below\n",
    "    with general_utils.HiddenPrints():\n",
    "        # hide all ConvergenceWarning\n",
    "        with warnings.catch_warnings():\n",
    "            warnings.simplefilter(\"ignore\", category=ConvergenceWarning)\n",
    "            model_comparison_df = regression_utils.test_dm_replacement_hyperparameters(ff_dataframe, ff_caught_T_new, ff_real_position_sorted, monkey_information, pseudo_manual_anno, curvature_df=curvature_df, **combo)\n",
    "\n",
    "    combo_for_df = combo.copy()\n",
    "    combo_for_df['ff_attributes'] = [combo_for_df['ff_attributes']]\n",
    "    combo_for_df['time_range_of_trajectory'] = [combo_for_df['time_range_of_trajectory']]\n",
    "    # store the most accurate model\n",
    "    combo_for_df['best_model'] = model_comparison_df.iloc[0]['model']\n",
    "    # store the accuracy of the most accurate model\n",
    "    combo_for_df['best_model_accuracy'] = round(model_comparison_df.iloc[0]['accuracy'], 3)\n",
    "    # store the accuracies of all the other models\n",
    "    for index, row in model_comparison_df.iterrows():\n",
    "        combo_for_df[row['model']] = round(row['accuracy'], 3)\n",
    "    temp_result_df = pd.DataFrame(combo_for_df)\n",
    "    if i == 0:\n",
    "        dm_result_df = temp_result_df\n",
    "    else:\n",
    "        dm_result_df = pd.concat([dm_result_df, temp_result_df], axis=0)\n",
    "    "
   ]
  },
  {
   "cell_type": "code",
   "execution_count": null,
   "id": "26",
   "metadata": {},
   "outputs": [],
   "source": [
    "\n",
    "# def test_dm_replacement_hyperparameters(ff_dataframe, ff_caught_T_new, ff_real_position_sorted, monkey_information, pseudo_manual_anno,\n",
    "#                               add_arc_info=True, add_current_curv_of_traj=True, furnish_with_trajectory_data=True, num_time_points_for_trajectory=20,\n",
    "#                               ff_attributes=['ff_distance', 'ff_angle', 'time_since_last_vis'], trajectory_data_kind=['position'], curvature_df=None,\n",
    "#                               time_range_of_trajectory=[-0.8, 0.8], n_seconds_before_crossing_boundary=0.8, n_seconds_after_crossing_boundary=0.8,\n",
    "#                               replacement_inputs_format = 'diff_between_old_and_new'):\n",
    "\n",
    "#     dm = decision_making_class.DecisionMaking(ff_dataframe, ff_caught_T_new, ff_real_position_sorted, monkey_information,\n",
    "#                                             time_range_of_trajectory=time_range_of_trajectory, num_time_points_for_trajectory=num_time_points_for_trajectory)\n",
    "#     dm.manual_anno = pseudo_manual_anno\n",
    "#     dm.separate_manual_anno()\n",
    "#     dm.eliminate_crossing_boundary_cases(n_seconds_before_crossing_boundary=n_seconds_before_crossing_boundary, n_seconds_after_crossing_boundary=n_seconds_after_crossing_boundary) \n",
    "#     dm.get_replacement_x_df(add_arc_info=add_arc_info, add_current_curv_of_traj=add_current_curv_of_traj, curvature_df=curvature_df, ff_attributes=ff_attributes, replacement_inputs_format=replacement_inputs_format)\n",
    "#     dm.prepare_data_for_machine_learning(kind=\"replacement\", furnish_with_trajectory_data=furnish_with_trajectory_data, trajectory_data_kind=trajectory_data_kind) \n",
    "#     dm.split_data_to_train_and_test(scaling_data=True)\n",
    "#     dm.use_machine_learning_model(model=None)  \n",
    "\n",
    "#     return dm.model_comparison_df"
   ]
  },
  {
   "cell_type": "markdown",
   "id": "27",
   "metadata": {},
   "source": [
    "### Gaussian NB\n",
    "\n",
    "var_smooth: 1e-09"
   ]
  },
  {
   "cell_type": "code",
   "execution_count": null,
   "id": "28",
   "metadata": {},
   "outputs": [],
   "source": [
    "X_train = moit.X_train\n",
    "y_train = moit.y_train"
   ]
  },
  {
   "cell_type": "code",
   "execution_count": null,
   "id": "29",
   "metadata": {},
   "outputs": [],
   "source": [
    "# reload(regression_utils)\n",
    "# reload(hyperparam_tuning_class)\n",
    "# gnb = hyperparam_tuning_class.HyperparameterTuning(X_train=X_train, y_train=y_train)\n",
    "# grid = {'var_smoothing': np.logspace(0,-9, num=100)}\n",
    "# gnb.random_search(grid=grid, model=GaussianNB(), n_iter=50, n_folds=3, n_repeats=1)\n",
    "\n",
    "\n",
    "# grid = {'var_smoothing': np.logspace(-2,-9, num=100)}\n",
    "# gnb.grid_search(grid=grid, model=GaussianNB(), n_folds=3, n_repeats=1)        "
   ]
  },
  {
   "cell_type": "markdown",
   "id": "30",
   "metadata": {},
   "source": [
    "### Adaptive boosting\n",
    "\n",
    "'n_estimators': 500,\n",
    "'learning_rate': 0.05"
   ]
  },
  {
   "cell_type": "code",
   "execution_count": null,
   "id": "31",
   "metadata": {},
   "outputs": [],
   "source": [
    "# reload(hyperparam_tuning_class)\n",
    "# adap_boosting = hyperparam_tuning_class.HyperparameterTuning(X_train=X_train, y_train=y_train)\n",
    "# grid = {'n_estimators': [10, 50, 100, 500],\n",
    "#         'learning_rate': [0.0001, 0.001, 0.01, 0.1, 1.0]}\n",
    "# adap_boosting.random_search(grid=grid, model=AdaBoostClassifier(), n_iter=50, n_folds=3, n_repeats=1)\n",
    "\n",
    "\n",
    "adap_boosting = hyperparam_tuning_class.HyperparameterTuning(X_train=X_train, y_train=y_train)\n",
    "grid = {'n_estimators': [10, 50, 100, 200, 300, 500],\n",
    "        'learning_rate': [0.05, 0.1, 0.2, 0.4, 0.7, 1.0]}\n",
    "adap_boosting.grid_search(grid=grid, model=AdaBoostClassifier(), n_folds=3, n_repeats=1)        "
   ]
  },
  {
   "cell_type": "markdown",
   "id": "32",
   "metadata": {},
   "source": [
    "### Gradient Boosting\n",
    "learning_rate=0.05, max_depth=7, n_estimators=500, subsample=0.5\n"
   ]
  },
  {
   "cell_type": "code",
   "execution_count": null,
   "id": "33",
   "metadata": {},
   "outputs": [],
   "source": [
    "# Might also need to train on: max_features='sqrt', bootstrap=True, min_samples_split=7, min_samples_leaf=2"
   ]
  },
  {
   "cell_type": "code",
   "execution_count": null,
   "id": "34",
   "metadata": {},
   "outputs": [],
   "source": [
    "# reload(hyperparam_tuning_class)\n",
    "# gradient_boosting = hyperparam_tuning_class.HyperparameterTuning(X_train=X_train, y_train=y_train)\n",
    "# grid = {'n_estimators': [10, 50, 100, 200, 300, 400, 500], \n",
    "#         'learning_rate': [0.01, 0.05, 0.1], \n",
    "#         'subsample': [0.5, 0.6, 0.7, 0.8, 0.9, 1.0], \n",
    "#         'max_depth': [3, 5, 7, 9] + [int(x) for x in np.linspace(20, 50, num = 4)]}\n",
    "# gradient_boosting.random_search(grid=grid, model=GradientBoostingClassifier(), n_iter=50, n_folds=3, n_repeats=1)"
   ]
  },
  {
   "cell_type": "code",
   "execution_count": null,
   "id": "35",
   "metadata": {},
   "outputs": [],
   "source": [
    "gradient_boosting = hyperparam_tuning_class.HyperparameterTuning(X_train=X_train, y_train=y_train)\n",
    "grid = {'n_estimators': [10, 50, 100, 200, 300, 500], \n",
    "        'learning_rate': [0.01, 0.025, 0.05, 0.075, 0.1], \n",
    "        'subsample': [0.5, 0.7, 1.0], \n",
    "        'max_depth': [3, 7, 9]}\n",
    "gradient_boosting.grid_search(grid=grid, model=GradientBoostingClassifier(), n_folds=3, n_repeats=1) "
   ]
  },
  {
   "cell_type": "markdown",
   "id": "36",
   "metadata": {},
   "source": [
    "### Bagging\n",
    "\n",
    "n_estimators: 200\n",
    "max_features: 0.9\n",
    "bootstrap_features: True\n",
    "bootstrap: True"
   ]
  },
  {
   "cell_type": "code",
   "execution_count": null,
   "id": "37",
   "metadata": {},
   "outputs": [],
   "source": [
    "# reload(hyperparam_tuning_class)\n",
    "# bagging = hyperparam_tuning_class.HyperparameterTuning(X_train=X_train, y_train=y_train)\n",
    "# grid = {'n_estimators': [10, 20, 50, 100, 200, 300, 500, 800],\n",
    "#         'max_features': [0.90, 0.92, 0.95, 1.0],\n",
    "#         'bootstrap': [True, False],\n",
    "#         'bootstrap_features': [True, False]} \n",
    "# bagging.random_search(grid=grid, model=BaggingClassifier(), n_iter=50, n_folds=3, n_repeats=1)\n",
    "\n",
    "\n",
    "bagging = hyperparam_tuning_class.HyperparameterTuning(X_train=X_train, y_train=y_train)\n",
    "grid = {'n_estimators': [50, 100, 200, 300, 400, 500],\n",
    "        'max_features': [0.6, 0.65, 0.7, 0.75, 0.8, 0.85]}\n",
    "bagging.grid_search(grid=grid, model=BaggingClassifier(bootstrap=True, bootstrap_features=True), n_folds=3, n_repeats=1)        "
   ]
  },
  {
   "cell_type": "markdown",
   "id": "38",
   "metadata": {},
   "source": [
    "### Random forest\n",
    "\n",
    "bootstrap: True"
   ]
  },
  {
   "cell_type": "code",
   "execution_count": null,
   "id": "39",
   "metadata": {},
   "outputs": [],
   "source": [
    "# reload(hyperparam_tuning_class)\n",
    "# rf = hyperparam_tuning_class.HyperparameterTuning(X_train=X_train, y_train=y_train)\n",
    "# grid = {'n_estimators': [int(x) for x in np.linspace(start = 200, stop = 1000, num = 10)],\n",
    "#         'max_features': [None, 'sqrt'],\n",
    "#         'max_depth': [int(x) for x in np.linspace(10, 110, num = 11)] + [None],\n",
    "#         'min_samples_split': [2, 5, 10],\n",
    "#         'min_samples_leaf': [1, 2, 4],\n",
    "#         'bootstrap': [True, False]}\n",
    "\n",
    "# rf.random_search(grid=grid, model=RandomForestRegressor(), n_iter=50, n_folds=3, n_repeats=1)"
   ]
  },
  {
   "cell_type": "code",
   "execution_count": null,
   "id": "40",
   "metadata": {},
   "outputs": [],
   "source": [
    "y_train.dtype"
   ]
  },
  {
   "cell_type": "code",
   "execution_count": null,
   "id": "41",
   "metadata": {},
   "outputs": [],
   "source": [
    "rf = hyperparam_tuning_class.HyperparameterTuning(X_train=X_train, y_train=y_train)\n",
    "grid = {'n_estimators': [int(x) for x in np.linspace(start = 200, stop = 600, num = 5)],\n",
    "        'max_features': [None, 'sqrt'],\n",
    "        'max_depth': [80, 90, 100],\n",
    "        'min_samples_split': [2, 5, 7],\n",
    "        'min_samples_leaf': [1, 2, 3]}\n",
    "rf.grid_search(grid=grid, model=RandomForestRegressor(bootstrap=True), n_folds=3, n_repeats=1)        "
   ]
  },
  {
   "cell_type": "markdown",
   "id": "42",
   "metadata": {},
   "source": [
    "### Logistic regression"
   ]
  },
  {
   "cell_type": "code",
   "execution_count": null,
   "id": "43",
   "metadata": {},
   "outputs": [],
   "source": [
    "reload(hyperparam_tuning_class)\n",
    "lr = hyperparam_tuning_class.HyperparameterTuning(X_train=X_train, y_train=y_train)\n",
    "grid = {'solver': ['newton-cg', 'lbfgs', 'liblinear'],\n",
    "        'penalty': ['l2'],\n",
    "        'C': [100, 10, 1.0, 0.1, 0.01]}\n",
    "\n",
    "lr.random_search(grid=grid, model=LogisticRegression(), n_iter=50, n_folds=3, n_repeats=1)"
   ]
  },
  {
   "cell_type": "code",
   "execution_count": null,
   "id": "44",
   "metadata": {},
   "outputs": [],
   "source": [
    "# grid = {'solvers': ['newton-cg', 'lbfgs', 'liblinear'],\n",
    "#         'penalty': ['l2'],\n",
    "#         'C': [100, 10, 1.0, 0.1, 0.01]}\n",
    "# lr.grid_search(grid=grid, model=LogisticRegression(), n_folds=3, n_repeats=1)        "
   ]
  },
  {
   "cell_type": "markdown",
   "id": "45",
   "metadata": {},
   "source": [
    "### SVM"
   ]
  },
  {
   "cell_type": "code",
   "execution_count": null,
   "id": "46",
   "metadata": {},
   "outputs": [],
   "source": [
    "reload(hyperparam_tuning_class)\n",
    "lr = hyperparam_tuning_class.HyperparameterTuning(X_train=X_train, y_train=y_train)\n",
    "grid = {'kernel': ['poly', 'rbf', 'sigmoid'],\n",
    "        'C': [50, 10, 1.0, 0.1, 0.01],\n",
    "        'gamma': ['scale']}\n",
    "\n",
    "lr.random_search(grid=grid, model=SVC(), n_iter=50, n_folds=3, n_repeats=1)"
   ]
  },
  {
   "cell_type": "code",
   "execution_count": null,
   "id": "47",
   "metadata": {},
   "outputs": [],
   "source": [
    "# grid = {'kernel': ['poly', 'rbf', 'sigmoid'],\n",
    "#         'C': [50, 10, 1.0, 0.1, 0.01],\n",
    "#         'gamma': ['scale']}\n",
    "# lr.grid_search(grid=grid, model=SVC(), n_folds=3, n_repeats=1)        "
   ]
  },
  {
   "cell_type": "markdown",
   "id": "48",
   "metadata": {},
   "source": [
    "### MLP"
   ]
  },
  {
   "cell_type": "code",
   "execution_count": null,
   "id": "49",
   "metadata": {},
   "outputs": [],
   "source": [
    "reload(hyperparam_tuning_class)\n",
    "mlp = hyperparam_tuning_class.HyperparameterTuning(X_train=X_train, y_train=y_train)\n",
    "grid = {\n",
    "    'hidden_layer_sizes': [(10,30,10),(20,), (50,50,50), (50,100,50), (100,)],\n",
    "    'activation': ['tanh', 'relu'],\n",
    "    'max_iter': [50, 100, 150],\n",
    "    'solver': ['sgd', 'adam'],\n",
    "    'alpha': [0.0001, 0.05],\n",
    "    'learning_rate': ['constant','adaptive'],\n",
    "}\n",
    "\n",
    "mlp.random_search(grid=grid, model=MLPClassifier(), n_iter=50, n_folds=3, n_repeats=1)"
   ]
  },
  {
   "cell_type": "code",
   "execution_count": null,
   "id": "50",
   "metadata": {},
   "outputs": [],
   "source": [
    "# grid = {\n",
    "#     'hidden_layer_sizes': [(10,30,10),(20,), (50,50,50), (50,100,50), (100,)],\n",
    "#     'activation': ['tanh', 'relu'],\n",
    "#     'max_iter': [50, 100, 150],\n",
    "#     'solver': ['sgd', 'adam'],\n",
    "#     'alpha': [0.0001, 0.05],\n",
    "#     'learning_rate': ['constant','adaptive'],\n",
    "# }\n",
    "# mlp.grid_search(grid=grid, model=SVC(), n_folds=3, n_repeats=1)        "
   ]
  },
  {
   "cell_type": "markdown",
   "id": "51",
   "metadata": {},
   "source": [
    "# Animation"
   ]
  },
  {
   "cell_type": "markdown",
   "id": "52",
   "metadata": {},
   "source": [
    "## basic"
   ]
  },
  {
   "cell_type": "code",
   "execution_count": null,
   "id": "53",
   "metadata": {},
   "outputs": [],
   "source": [
    "stop!"
   ]
  },
  {
   "cell_type": "code",
   "execution_count": null,
   "id": "54",
   "metadata": {},
   "outputs": [],
   "source": [
    "additional_plotting_kwargs = {'show_eye_positions': False,\n",
    "                     'show_eye_positions_on_the_right': False,\n",
    "                     'show_connect_path_eye_positions': False,\n",
    "                     'show_ff_indices': True,\n",
    "}\n",
    "\n",
    "temp_animation_plot_kwargs = data_item.animation_plot_kwargs.copy()\n",
    "temp_animation_plot_kwargs['images_dir'] = None\n",
    "\n",
    "for key, value in additional_plotting_kwargs.items():\n",
    "    temp_animation_plot_kwargs[key] = value\n",
    "temp_animation_plot_kwargs['show_connect_path_ff'] = False\n",
    "temp_animation_plot_kwargs['show_connect_path_ff_memory'] = False\n",
    "temp_animation_plot_kwargs['show_stops'] = False\n",
    "\n",
    "temp_animation_plot_kwargs['trail_color_var'] = \"grey\"\n",
    "plt.rcParams[\"figure.figsize\"] = (10, 10)"
   ]
  },
  {
   "cell_type": "code",
   "execution_count": null,
   "id": "55",
   "metadata": {},
   "outputs": [],
   "source": [
    "# change the default figure size\n",
    "additional_anim_kwargs = {'plot_eye_position': True}\n",
    "plt.rcParams[\"figure.figsize\"] = (12, 12)\n",
    "\n",
    "for i in range(1150, 1510, 30):\n",
    "    #duration = [i, i+5]\n",
    "    duration = [i, i+35]\n",
    "    print(duration)\n",
    "    video_dir = \"/Users/dusiyi/Documents/Multifirefly-Project/for_manual_annotation2\"\n",
    "    file_name = f\"time_{duration[0]}_to_{duration[1]}.mp4\"\n",
    "    data_item.make_animation(duration=duration, \n",
    "                             save_video=True, video_dir=video_dir, file_name=file_name, \n",
    "                             show_ff_indices=True, \n",
    "                            static_plot_on_the_left=False, \n",
    "                            animation_plot_kwargs=temp_animation_plot_kwargs, \n",
    "                            plot_time_index=True, \n",
    "                            show_speed_through_path_color=True,\n",
    "                            max_num_frames=None, max_duration=None, min_duration=1, set_xy_limits=False,\n",
    "                            **additional_anim_kwargs\n",
    "                            )\n",
    "    HTML(data_item.anim.to_html5_video()) \n"
   ]
  },
  {
   "cell_type": "code",
   "execution_count": null,
   "id": "56",
   "metadata": {},
   "outputs": [],
   "source": [
    "# delete all plt.rcParams['animation.ffmpeg_path'] ="
   ]
  },
  {
   "cell_type": "markdown",
   "id": "57",
   "metadata": {},
   "source": [
    "## convert manual_anno"
   ]
  },
  {
   "cell_type": "markdown",
   "id": "58",
   "metadata": {},
   "source": [
    "convert manual_anno based on the points deleted"
   ]
  },
  {
   "cell_type": "code",
   "execution_count": null,
   "id": "59",
   "metadata": {},
   "outputs": [],
   "source": [
    "# for each row in manual_anno\n",
    "manual_anno['new_point_index'] = np.nan\n",
    "for index, row in manual_anno.iterrows():\n",
    "    points_to_subtract = len(np.where(out_points < row['starting_point_index'])[0])\n",
    "    manual_anno.at[index, 'new_point_index'] = row['starting_point_index'] - points_to_subtract\n",
    "# see how many points are in out_points before this point, then subtract that from the number of points in this row"
   ]
  },
  {
   "cell_type": "code",
   "execution_count": null,
   "id": "60",
   "metadata": {},
   "outputs": [],
   "source": [
    "manual_anno['new_point_index'] = manual_anno['new_point_index'].astype(int)"
   ]
  },
  {
   "cell_type": "code",
   "execution_count": null,
   "id": "61",
   "metadata": {},
   "outputs": [],
   "source": [
    "manual_anno.head(20)"
   ]
  },
  {
   "cell_type": "code",
   "execution_count": null,
   "id": "62",
   "metadata": {},
   "outputs": [],
   "source": [
    "dm = decision_making_class.DecisionMaking(ff_dataframe, ff_caught_T_new, ff_real_position_sorted, monkey_information,\n",
    "                                          time_range_of_trajectory=[-1.5, 1.5], num_time_points_for_trajectory=20)\n",
    "\n",
    "#dm.retrieve_manual_anno()\n",
    "dm.retrieve_manual_anno()\n",
    "manual_anno = dm.manual_anno.copy()"
   ]
  }
 ],
 "metadata": {
  "language_info": {
   "name": "python"
  }
 },
 "nbformat": 4,
 "nbformat_minor": 5
}
