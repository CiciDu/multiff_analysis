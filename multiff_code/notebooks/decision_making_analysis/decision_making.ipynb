{
 "cells": [
  {
   "cell_type": "markdown",
   "metadata": {},
   "source": [
    "# Import packages"
   ]
  },
  {
   "cell_type": "code",
   "execution_count": null,
   "metadata": {},
   "outputs": [],
   "source": [
    "# # if using google drive\n",
    "# %cd /content/drive/MyDrive/ff_repo/Multifirefly-Project"
   ]
  },
  {
   "cell_type": "code",
   "execution_count": null,
   "metadata": {},
   "outputs": [],
   "source": [
    "from pathlib import Path\n",
    "import os, sys\n",
    "for p in [Path.cwd()] + list(Path.cwd().parents):\n",
    "    if p.name == 'Multifirefly-Project':\n",
    "        os.chdir(p)\n",
    "        sys.path.insert(0, str(p / 'multiff_analysis/multiff_code/methods'))\n",
    "        break\n",
    "\n",
    "%load_ext autoreload\n",
    "%autoreload 2\n",
    "\n",
    "\n",
    "\n",
    "\n",
    "from data_wrangling import specific_utils, combine_info_utils\n",
    "from pattern_discovery import pattern_by_trials, pattern_by_trials, cluster_analysis, organize_patterns_and_features, category_class\n",
    "from decision_making_analysis.cluster_replacement import cluster_replacement_class, cluster_replacement_utils\n",
    "from decision_making_analysis.decision_making import decision_making_class, decision_making_utils, intended_targets_classes\n",
    "from decision_making_analysis.GUAT import GUAT_collect_info_class, GUAT_combine_info_class, process_GUAT_trials_class\n",
    "from decision_making_analysis.compare_GUAT_and_TAFT import GUAT_vs_TAFT_class, GUAT_vs_TAFT_x_sessions_class, helper_GUAT_vs_TAFT_class\n",
    "from visualization.matplotlib_tools import plot_trials, plot_behaviors_utils\n",
    "from visualization.animation import animation_class\n",
    "from null_behaviors import show_null_trajectory, find_best_arc, curvature_utils, curvature_class, curv_of_traj_utils\n",
    "from machine_learning.ml_methods import regression_utils, classification_utils, prep_ml_data_utils, hyperparam_tuning_class\n",
    "from visualization.plotly_polar_tools import plotly_utils_polar, plotly_for_ff_polar, plotly_for_trajectory_polar\n",
    "from machine_learning.ml_methods import ml_methods_class\n",
    "\n",
    "import os, sys\n",
    "import numpy as np\n",
    "import matplotlib\n",
    "import matplotlib.pyplot as plt\n",
    "from os.path import exists\n",
    "import math\n",
    "import copy\n",
    "import matplotlib.pyplot as plt\n",
    "import pandas as pd\n",
    "import itertools\n",
    "import matplotlib.pyplot as plt\n",
    "import gc\n",
    "from scipy import stats\n",
    "from IPython.display import HTML\n",
    "from matplotlib import rc\n",
    "from sklearn.svm import SVC\n",
    "from sklearn.ensemble import AdaBoostClassifier, BaggingClassifier\n",
    "from sklearn.neural_network import MLPClassifier, MLPRegressor\n",
    "from sklearn.linear_model import LinearRegression\n",
    "from sklearn.neighbors import KNeighborsRegressor\n",
    "from sklearn.naive_bayes import GaussianNB\n",
    "from sklearn.linear_model import LogisticRegression\n",
    "from sklearn.preprocessing import StandardScaler\n",
    "import warnings\n",
    "import os, sys, sys\n",
    "from importlib import reload\n",
    "from sklearn.exceptions import ConvergenceWarning\n",
    "\n",
    "\n",
    "plt.rcParams[\"animation.html\"] = \"html5\"\n",
    "os.environ['KMP_DUPLICATE_LIB_OK']='True'\n",
    "rc('animation', html='jshtml')\n",
    "matplotlib.rcParams.update(matplotlib.rcParamsDefault)\n",
    "matplotlib.rcParams['animation.embed_limit'] = 2**128\n",
    "pd.set_option('display.float_format', lambda x: '%.5f' % x)\n",
    "np.set_printoptions(suppress=True)\n",
    "pd.options.display.max_rows = 50\n",
    "\n"
   ]
  },
  {
   "cell_type": "markdown",
   "metadata": {},
   "source": [
    "# Run overnight"
   ]
  },
  {
   "cell_type": "code",
   "execution_count": null,
   "metadata": {},
   "outputs": [],
   "source": [
    "# Predict TAFT vs GUAT\n",
    "for monkey_name in ['monkey_Bruno', 'monkey_Schro']:\n",
    "    cgtxs = GUAT_vs_TAFT_x_sessions_class.GUATandTAFTacrossSessionsClass()\n",
    "    combd_GUAT_x_df, combd_TAFT_x_df = cgtxs.streamline_getting_combd_GUAT_or_TAFT_x_df(monkey_name=monkey_name)\n",
    "\n",
    "# Predict num_stops\n",
    "combined_info_exists_ok = True\n",
    "for monkey_name in ['monkey_Bruno', 'monkey_Schro']:\n",
    "    gc_kwargs_temp = helper_GUAT_vs_TAFT_class.gc_kwargs.copy()\n",
    "    gc_kwargs_temp['num_old_ff_per_row'] = 2\n",
    "    gc_kwargs_temp['num_new_ff_per_row'] = 3\n",
    "\n",
    "    gas = GUAT_combine_info_class.GUATCombineInfoAcrossSessions(gc_kwargs_temp, monkey_name=monkey_name)\n",
    "    gas.retrieve_or_make_combined_info(gc_kwargs_temp, combined_info_exists_ok=combined_info_exists_ok, \n",
    "                                    traj_df_exist_in_GUAT_store_ok=True)"
   ]
  },
  {
   "cell_type": "markdown",
   "metadata": {},
   "source": [
    "# predict TAFT vs GUAT"
   ]
  },
  {
   "cell_type": "markdown",
   "metadata": {},
   "source": [
    "## DEBUG"
   ]
  },
  {
   "cell_type": "code",
   "execution_count": null,
   "metadata": {},
   "outputs": [],
   "source": [
    "cgtxs.cgt.GUAT_df"
   ]
  },
  {
   "cell_type": "markdown",
   "metadata": {},
   "source": [
    "## data across sessions"
   ]
  },
  {
   "cell_type": "code",
   "execution_count": null,
   "metadata": {},
   "outputs": [],
   "source": [
    "monkey_name='monkey_Bruno'\n",
    "cgtxs = GUAT_vs_TAFT_x_sessions_class.GUATandTAFTacrossSessionsClass()\n",
    "# now, put the data into a GUATvsTAFTclass instance for downstream analysis\n",
    "cgt = GUAT_vs_TAFT_class.GUATvsTAFTclass()\n",
    "cgt.GUAT_x_df, cgt.TAFT_x_df = cgtxs.streamline_getting_combd_GUAT_or_TAFT_x_df(monkey_name=monkey_name)"
   ]
  },
  {
   "cell_type": "markdown",
   "metadata": {},
   "source": [
    "## data for one session"
   ]
  },
  {
   "cell_type": "code",
   "execution_count": null,
   "metadata": {},
   "outputs": [],
   "source": [
    "exists_ok = False\n",
    "\n",
    "cgt = GUAT_vs_TAFT_class.GUATvsTAFTclass(ref_point_mode='time', \n",
    "                                            raw_data_folder_path='all_monkey_data/raw_monkey_data/monkey_Bruno/data_0330',\n",
    "                                            ref_point_value=-1.5,)\n",
    "cgt.streamline_getting_GUAT_or_TAFT_x_df(GUAT_or_TAFT='TAFT', exists_ok=exists_ok)\n",
    "cgt.streamline_getting_GUAT_or_TAFT_x_df(GUAT_or_TAFT='GUAT', exists_ok=exists_ok)\n"
   ]
  },
  {
   "cell_type": "code",
   "execution_count": null,
   "metadata": {},
   "outputs": [],
   "source": [
    "# test and see what is taking so long in running a function\n",
    "import cProfile\n",
    "\n",
    "cProfile.run(\"cgt.streamline_getting_GUAT_or_TAFT_x_df(GUAT_or_TAFT='GUAT', exists_ok=False, GUAT_w_ff_df_exists_ok=False)\", sort='cumtime')\n",
    "\n",
    "#ncalls  tottime  percall  cumtime  percall"
   ]
  },
  {
   "cell_type": "markdown",
   "metadata": {},
   "source": [
    "## ML"
   ]
  },
  {
   "cell_type": "markdown",
   "metadata": {},
   "source": [
    "### get data & vif"
   ]
  },
  {
   "cell_type": "code",
   "execution_count": null,
   "metadata": {},
   "outputs": [],
   "source": [
    "cgt.get_x_and_y_var_df()\n",
    "ml_inst = ml_methods_class.MlMethods(x_var_df=cgt.x_var_df,\n",
    "                                     y_var_df=cgt.y_var_df)"
   ]
  },
  {
   "cell_type": "code",
   "execution_count": null,
   "metadata": {},
   "outputs": [],
   "source": [
    "# can skip this if only wanting ML results\n",
    "\n",
    "pd.set_option('display.max_rows', 100)\n",
    "ml_inst.use_vif(ml_inst.x_var_df)\n",
    "features_w_big_vif = ml_inst.vif_df[ml_inst.vif_df['vif'] > 100].feature.values\n",
    "#ml_inst.x_var_df = ml_inst.x_var_df.drop(columns=features_w_big_vif)"
   ]
  },
  {
   "cell_type": "code",
   "execution_count": null,
   "metadata": {},
   "outputs": [],
   "source": [
    "ml_inst.vif_df.head(20)"
   ]
  },
  {
   "cell_type": "code",
   "execution_count": null,
   "metadata": {},
   "outputs": [],
   "source": [
    "# specific_columns = ml_inst.vif_df[ml_inst.vif_df[\"VIF\"] > 2000].feature.values\n",
    "# ml_inst.show_correlation_heatmap(specific_columns=specific_columns)\n",
    "ml_inst.show_correlation_heatmap()"
   ]
  },
  {
   "cell_type": "code",
   "execution_count": null,
   "metadata": {},
   "outputs": [],
   "source": [
    "df = ml_inst.x_var_df"
   ]
  },
  {
   "cell_type": "code",
   "execution_count": null,
   "metadata": {},
   "outputs": [],
   "source": [
    "# [col for col in df.columns if 'cluster' not in col]"
   ]
  },
  {
   "cell_type": "markdown",
   "metadata": {},
   "source": [
    "### run ML"
   ]
  },
  {
   "cell_type": "code",
   "execution_count": null,
   "metadata": {},
   "outputs": [],
   "source": [
    "ml_inst.use_ml_model_for_classification(ml_inst.x_var_df, ml_inst.y_var_df, model=None)\n"
   ]
  },
  {
   "cell_type": "code",
   "execution_count": null,
   "metadata": {},
   "outputs": [],
   "source": [
    "763 / (342 + 167 + 83 + 763)"
   ]
  },
  {
   "cell_type": "code",
   "execution_count": null,
   "metadata": {},
   "outputs": [],
   "source": [
    "322/(1460+350)"
   ]
  },
  {
   "cell_type": "code",
   "execution_count": null,
   "metadata": {},
   "outputs": [],
   "source": [
    "(44+1412) / (145+363+44+1412)"
   ]
  },
  {
   "cell_type": "markdown",
   "metadata": {},
   "source": [
    "### grad_boosting (so that we can see feature importance)"
   ]
  },
  {
   "cell_type": "code",
   "execution_count": null,
   "metadata": {},
   "outputs": [],
   "source": [
    "import numpy as np\n",
    "import pandas as pd\n",
    "from sklearn.ensemble import GradientBoostingClassifier\n",
    "from sklearn.model_selection import train_test_split\n",
    "from sklearn.datasets import load_iris\n",
    "import matplotlib.pyplot as plt\n",
    "import seaborn as sns\n",
    "\n",
    "\n",
    "# Split the data into training and testing sets\n",
    "X_train, X_test, y_train, y_test = train_test_split(ml_inst.x_var_df, ml_inst.y_var_df, test_size=0.2, random_state=42)\n",
    "\n",
    "# Define the model\n",
    "model = GradientBoostingClassifier(\n",
    "    learning_rate=0.05, max_depth=7, max_features='sqrt',\n",
    "    min_samples_leaf=2, min_samples_split=7,\n",
    "    n_estimators=500, subsample=0.5\n",
    ")\n",
    "\n",
    "\n",
    "# Fit the model\n",
    "model.fit(X_train, y_train)\n",
    "\n",
    "# Get feature importances\n",
    "feature_importances = model.feature_importances_\n",
    "\n",
    "# Create a DataFrame for feature importances\n",
    "feature_importances_df = pd.DataFrame({\n",
    "    'Feature': ml_inst.x_var_df.columns,\n",
    "    'Importance': feature_importances\n",
    "})\n",
    "\n",
    "# Sort the DataFrame by importance\n",
    "feature_importances_df = feature_importances_df.sort_values(by='Importance', ascending=False)\n",
    "\n",
    "# Plot feature importances\n",
    "plt.figure(figsize=(10, 6))\n",
    "sns.barplot(x='Importance', y='Feature', data=feature_importances_df)\n",
    "plt.title('Feature Importances')\n",
    "plt.show()\n",
    "\n",
    "# Determine significant features (e.g., importance > 0.01)\n",
    "significant_features = feature_importances_df[feature_importances_df['Importance'] > 0.01]\n",
    "print(\"Significant features:\")\n",
    "print(significant_features)"
   ]
  },
  {
   "cell_type": "code",
   "execution_count": null,
   "metadata": {},
   "outputs": [],
   "source": [
    "TAFT = cgt.TAFT_x_df.copy()\n",
    "TAFT['whether_TAFT'] = 1\n",
    "GUAT = cgt.GUAT_x_df.copy()\n",
    "GUAT['whether_TAFT'] = 0\n",
    "both_df = pd.concat([TAFT, GUAT], axis=0)"
   ]
  },
  {
   "cell_type": "code",
   "execution_count": null,
   "metadata": {},
   "outputs": [],
   "source": [
    "\n",
    "# for each feature in significant_features, plot the histogram of the feature for each class\n",
    "for feature in ['cur_ff_distance_at_ref', 'cur_ff_angle_at_ref']:\n",
    "    sns.histplot(x=feature, data=both_df, stat='probability', kde=False, hue='whether_TAFT', common_norm=False)\n",
    "    plt.title(f'{feature} histogram')\n",
    "    plt.show()"
   ]
  },
  {
   "cell_type": "code",
   "execution_count": null,
   "metadata": {},
   "outputs": [],
   "source": [
    "# for each feature in significant_features, plot the histogram of the feature for each class\n",
    "for feature in significant_features['Feature']:\n",
    "    sns.histplot(x=feature, data=both_df, stat='probability', kde=False, hue='whether_TAFT', common_norm=False)\n",
    "    plt.title(f'{feature} histogram')\n",
    "    plt.show()"
   ]
  },
  {
   "cell_type": "markdown",
   "metadata": {},
   "source": [
    "### plot trials"
   ]
  },
  {
   "cell_type": "code",
   "execution_count": null,
   "metadata": {},
   "outputs": [],
   "source": [
    "GUAT_or_TAFT = 'GUAT'\n",
    "list_of_stop_point_index = cgt.GUAT_x_df[cgt.GUAT_x_df['cur_ff_distance_at_ref'] > 150].stop_point_index.values"
   ]
  },
  {
   "cell_type": "code",
   "execution_count": null,
   "metadata": {},
   "outputs": [],
   "source": [
    "GUAT_or_TAFT = 'TAFT'\n",
    "list_of_stop_point_index = cgt.TAFT_x_df[cgt.TAFT_x_df['cur_ff_distance_at_ref'] > 150].stop_point_index.values"
   ]
  },
  {
   "cell_type": "code",
   "execution_count": null,
   "metadata": {},
   "outputs": [],
   "source": [
    "sub = cgt.take_out_subsets_to_plot(list_of_stop_point_index, GUAT_or_TAFT)"
   ]
  },
  {
   "cell_type": "code",
   "execution_count": null,
   "metadata": {},
   "outputs": [],
   "source": [
    "counter = 0\n",
    "for i, row in sub.iterrows():\n",
    "    if GUAT_or_TAFT == 'GUAT':\n",
    "        ff_column = 'latest_visible_ff'\n",
    "    else:\n",
    "        ff_column = 'ff_index'\n",
    "\n",
    "    print('cur_ff_distance_at_ref', row['cur_ff_distance_at_ref'])\n",
    "    additional_kwargs = {'point_indices_to_be_marked': row['stop_point_index'],\n",
    "                         'point_indices_to_be_marked_3rd_kind': row['ref_point_index']\n",
    "                         }\n",
    "    \n",
    "    plotting_kwargs_temp = copy.deepcopy(cgt.plotting_kwargs)\n",
    "    plotting_kwargs_temp['indices_of_ff_to_mark'] = [row[ff_column]]\n",
    "    trial = row['trial']\n",
    "    duration = [cgt.ff_caught_T_new[trial-2], cgt.ff_caught_T_new[trial]+1]\n",
    "    returned_info = plot_trials.PlotTrials(duration, \n",
    "                *cgt.PlotTrials_args,\n",
    "                **plotting_kwargs_temp,   \n",
    "                **additional_kwargs          \n",
    "                )\n",
    "    plt.show()\n",
    "    # process_GUAT_trials_class.ProcessGUATtrials.make_GUAT_plot(cgt, trial, [row[ff_column]], np.arange(row['stop_point_index']-200, row['stop_point_index']+300),\n",
    "    #                                                            additional_kwargs=additional_kwargs)\n",
    "    if counter == 5:\n",
    "        break\n",
    "    counter += 1"
   ]
  },
  {
   "cell_type": "markdown",
   "metadata": {},
   "source": [
    "# Predict num stops"
   ]
  },
  {
   "cell_type": "markdown",
   "metadata": {},
   "source": [
    "## gc_kwargs"
   ]
  },
  {
   "cell_type": "code",
   "execution_count": null,
   "metadata": {},
   "outputs": [],
   "source": [
    "gc_kwargs = helper_GUAT_vs_TAFT_class.gc_kwargs.copy()"
   ]
  },
  {
   "cell_type": "markdown",
   "metadata": {},
   "source": [
    "## data from all sessions"
   ]
  },
  {
   "cell_type": "code",
   "execution_count": null,
   "metadata": {},
   "outputs": [],
   "source": [
    "gc_kwargs_temp = {**gc_kwargs,\n",
    "                    'num_old_ff_per_row': 2,\n",
    "                    'num_new_ff_per_row': 3}\n",
    "\n",
    "gas = GUAT_combine_info_class.GUATCombineInfoAcrossSessions(gc_kwargs_temp, monkey_name='monkey_Schro')\n",
    "gas.retrieve_or_make_combined_info(gc_kwargs_temp, combined_info_exists_ok=True, traj_df_exist_in_GUAT_store_ok=True)\n",
    "gas.unpack_and_reload_combined_info_back_to_self(gas.combined_info, gas.all_traj_feature_names)"
   ]
  },
  {
   "cell_type": "markdown",
   "metadata": {},
   "source": [
    "## data from one session"
   ]
  },
  {
   "cell_type": "code",
   "execution_count": null,
   "metadata": {},
   "outputs": [],
   "source": [
    "raw_data_folder_path = 'all_monkey_data/raw_monkey_data/monkey_Bruno/data_0330'\n",
    "gcc = GUAT_collect_info_class.GUATCollectInfoForSession(raw_data_folder_path=raw_data_folder_path, \n",
    "                                                        gc_kwargs=gc_kwargs, new_point_index_start=0)\n",
    "_ = gcc.streamline_process_to_collect_info_from_one_session(GUAT_w_ff_df_exists_ok=True,\n",
    "                                                            GUAT_info_exists_ok=False)\n",
    "\n",
    "gas = GUAT_combine_info_class.GUATCombineInfoAcrossSessions(gc_kwargs)\n",
    "gas.unpack_and_reload_combined_info_back_to_self(gcc.important_info, gcc.all_traj_feature_names)"
   ]
  },
  {
   "cell_type": "code",
   "execution_count": null,
   "metadata": {},
   "outputs": [],
   "source": [
    "# get the frequency of each element in the numpy array gas.output\n",
    "unique_elements, counts_elements = np.unique(gas.output, return_counts=True)\n",
    "unique_elements, counts_elements"
   ]
  },
  {
   "cell_type": "markdown",
   "metadata": {},
   "source": [
    "## ML"
   ]
  },
  {
   "cell_type": "markdown",
   "metadata": {},
   "source": [
    "### use current data"
   ]
  },
  {
   "cell_type": "code",
   "execution_count": null,
   "metadata": {},
   "outputs": [],
   "source": [
    "gas.process_current_and_alternative_ff_info()\n",
    "more_ff_attributes = ['ff_distance', 'ff_angle', 'curv_diff']\n",
    "ff_last_seen_attributes = ['last_seen_' + attribute for attribute in more_ff_attributes] + ['distance_from_monkey_now_to_monkey_when_ff_last_seen', 'angle_from_monkey_now_to_monkey_when_ff_last_seen']\n",
    "ff_next_seen_attributes = ['next_seen_' + attribute for attribute in more_ff_attributes] + ['distance_from_monkey_now_to_monkey_when_ff_next_seen', 'angle_from_monkey_now_to_monkey_when_ff_next_seen']\n",
    "\n",
    "\n",
    "gas.find_input_and_output(add_arc_info=True, add_current_curv_of_traj=True, \n",
    "                          ff_attributes=['ff_distance', 'ff_angle', 'time_since_last_vis', 'time_till_next_visible', 'duration_of_last_vis_period']\n",
    "                          + ff_last_seen_attributes)\n",
    "\n",
    "gas.prepare_data_for_machine_learning(traj_ff_attributes_to_add=None)\n",
    "gas.split_data_to_train_and_test(scaling_data=True)\n",
    "\n",
    "#bagging = BaggingClassifier(n_estimators=200, max_features=0.9, bootstrap_features=True, bootstrap=True, random_state=42)\n",
    "#gas.use_machine_learning_model(model=bagging) \n",
    "\n",
    "gas.use_machine_learning_model(model=None) #MLPClassifier(hidden_layer_sizes=(100,100,100), max_iter=1000, activation='relu', solver='adam', random_state=1))\n",
    "\n",
    "gas.get_pred_results_df()  \n",
    "gas.add_additional_info_to_plot()\n",
    "gas.plot_prediction_results(max_plot_to_make=5, show_reward_boundary=True, use_more_ff_inputs=True, use_more_traj_points=True,\n",
    "                            predict_num_stops=True,\n",
    "                            )"
   ]
  },
  {
   "cell_type": "code",
   "execution_count": null,
   "metadata": {},
   "outputs": [],
   "source": [
    "len(gas.num_stops[gas.num_stops==1])/len(gas.num_stops)"
   ]
  },
  {
   "cell_type": "code",
   "execution_count": null,
   "metadata": {},
   "outputs": [],
   "source": [
    "sns.histplot(gas.num_stops)\n",
    "plt.show()"
   ]
  },
  {
   "cell_type": "code",
   "execution_count": null,
   "metadata": {},
   "outputs": [],
   "source": [
    "current_i = 0\n",
    "max_plot_to_make = 20"
   ]
  },
  {
   "cell_type": "code",
   "execution_count": null,
   "metadata": {},
   "outputs": [],
   "source": [
    "\n",
    "selected_cases = np.arange(current_i, current_i+max_plot_to_make)\n",
    "gas.plot_prediction_results(selected_cases=selected_cases, \n",
    "                            max_plot_to_make=max_plot_to_make, \n",
    "                            show_reward_boundary=True, \n",
    "                            use_more_ff_inputs=True, \n",
    "                            use_more_traj_points=True,\n",
    "                            predict_num_stops=True)\n",
    "current_i += max_plot_to_make"
   ]
  },
  {
   "cell_type": "code",
   "execution_count": null,
   "metadata": {},
   "outputs": [],
   "source": [
    "gas.use_machine_learning_model(model = MLPClassifier(hidden_layer_sizes=(100, 100, 100), max_iter=1000))   \n",
    "gas.get_pred_results_df()  "
   ]
  },
  {
   "cell_type": "markdown",
   "metadata": {},
   "source": [
    "### loop through num_ff"
   ]
  },
  {
   "cell_type": "code",
   "execution_count": null,
   "metadata": {},
   "outputs": [],
   "source": [
    "# loop\n",
    "for num_old_ff_per_row in [1, 2, 3]:\n",
    "    for num_new_ff_per_row in [1, 2, 3]:\n",
    "        print('num_old_ff_per_row:', num_old_ff_per_row)\n",
    "        print('num_new_ff_per_row:', num_new_ff_per_row)\n",
    "\n",
    "        gc_kwargs_temp = {**gc_kwargs,\n",
    "                            'num_old_ff_per_row': num_old_ff_per_row,\n",
    "                            'num_new_ff_per_row': num_new_ff_per_row}\n",
    "\n",
    "        gas = GUAT_combine_info_class.GUATCombineInfoAcrossSessions(gc_kwargs_temp)\n",
    "        gas.retrieve_or_make_combined_info(gc_kwargs_temp, combined_info_exists_ok=True, traj_df_exist_in_GUAT_store_ok=True)\n",
    "        gas.unpack_and_reload_combined_info_back_to_self(gas.combined_info, gas.all_traj_feature_names)\n",
    "\n",
    "\n",
    "        gas.process_current_and_alternative_ff_info()\n",
    "        more_ff_attributes = ['ff_distance', 'ff_angle', 'curv_diff']\n",
    "        ff_last_seen_attributes = ['last_seen_' + attribute for attribute in more_ff_attributes] + ['distance_from_monkey_now_to_monkey_when_ff_last_seen', 'angle_from_monkey_now_to_monkey_when_ff_last_seen']\n",
    "        ff_next_seen_attributes = ['next_seen_' + attribute for attribute in more_ff_attributes] + ['distance_from_monkey_now_to_monkey_when_ff_next_seen', 'angle_from_monkey_now_to_monkey_when_ff_next_seen']\n",
    "\n",
    "\n",
    "        gas.find_input_and_output(add_arc_info=True, add_current_curv_of_traj=True, \n",
    "                                ff_attributes=['ff_distance', 'ff_angle', 'time_since_last_vis', 'time_till_next_visible', 'duration_of_last_vis_period']\n",
    "                                + ff_last_seen_attributes)\n",
    "\n",
    "        gas.prepare_data_for_machine_learning(traj_ff_attributes_to_add=None)\n",
    "        gas.split_data_to_train_and_test(scaling_data=True)\n",
    "        gas.use_machine_learning_model(model=None) #MLPClassifier(hidden_layer_sizes=(100,100,100), max_iter=1000, activation='relu', solver='adam', random_state=1))\n",
    "\n",
    "        gas.get_pred_results_df()  \n"
   ]
  },
  {
   "cell_type": "markdown",
   "metadata": {},
   "source": [
    "# Basic data"
   ]
  },
  {
   "cell_type": "markdown",
   "metadata": {},
   "source": [
    "## Retrieve monkey data"
   ]
  },
  {
   "cell_type": "code",
   "execution_count": null,
   "metadata": {},
   "outputs": [],
   "source": [
    "raw_data_folder_path = \"all_monkey_data/raw_monkey_data/monkey_Bruno/data_0330\"\n",
    "PLAYER = \"monkey\"\n",
    "trial_total_num = 2\n",
    "\n",
    "monkey_name = raw_data_folder_path.split('/')[2]\n",
    "data_name = raw_data_folder_path.split('/')[3]\n",
    "\n",
    "data_item = animation_class.AnimationClass(raw_data_folder_path=raw_data_folder_path)\n",
    "data_item.retrieve_or_make_monkey_data()\n",
    "data_item.make_or_retrieve_ff_dataframe(exists_ok=True)\n",
    "data_item.find_patterns()\n",
    "data_item.PlotTrials_args()\n",
    "data_item.make_or_retrieve_target_clust_last_vis_df()\n",
    "\n",
    "monkey_information = data_item.monkey_information\n",
    "ff_dataframe = data_item.ff_dataframe\n",
    "ff_life_sorted = data_item.ff_life_sorted\n",
    "ff_real_position_sorted = data_item.ff_real_position_sorted\n",
    "ff_believed_position_sorted = data_item.ff_believed_position_sorted\n",
    "ff_caught_T_new = data_item.ff_caught_T_new\n",
    "ff_flash_sorted = data_item.ff_flash_sorted\n",
    "PlotTrials_args = data_item.PlotTrials_args\n",
    "\n",
    "target_clust_last_vis_df = data_item.target_clust_last_vis_df\n",
    "target_clust_last_vis_df['ff_index'] = target_clust_last_vis_df['target_index']\n"
   ]
  },
  {
   "cell_type": "markdown",
   "metadata": {},
   "source": [
    "## plotting kwargs"
   ]
  },
  {
   "cell_type": "code",
   "execution_count": null,
   "metadata": {},
   "outputs": [],
   "source": [
    "classic_plot_kwargs = {'player': PLAYER,\n",
    "                       'show_stops': True,\n",
    "                       'show_believed_target_positions': True,\n",
    "                       'show_reward_boundary': True,\n",
    "                       'show_scale_bar': True,\n",
    "                       'show_eye_positions': True,\n",
    "                       'show_eye_positions_on_the_right': True,\n",
    "                       'show_connect_path_eye_positions': True,\n",
    "                       #=== below is different from animation_plot_kwargs\n",
    "                       'hitting_arena_edge_ok': False,\n",
    "                       'trial_too_short_ok': False}\n",
    "\n",
    "combined_plot_kwargs = {'player': PLAYER,\n",
    "                        'combined_plot': True,\n",
    "                        'show_alive_fireflies': False,\n",
    "                        'show_title': False,\n",
    "                        'show_start': False}\n",
    "\n",
    "pretty_null_arc_plot_kwargs = {'player': 'monkey',\n",
    "        'show_believed_target_positions': True,                       \n",
    "        'show_stops': True,\n",
    "        'show_reward_boundary': True,\n",
    "        'show_scale_bar': True,\n",
    "        'hitting_arena_edge_ok': True,\n",
    "        'trial_too_short_ok': True,\n",
    "        'show_alive_fireflies': False,\n",
    "        'adjust_xy_limits': True,\n",
    "        'zoom_in': True,\n",
    "        'minimal_margin': 60,\n",
    "        }\n",
    "\n",
    "animation_plot_kwargs = {\n",
    "    **classic_plot_kwargs,\n",
    "    'as_part_of_animation': True,\n",
    "    'show_eye_positions_on_the_right': False,\n",
    "    'hitting_arena_edge_ok': True,\n",
    "    'trial_too_short_ok': True,\n",
    "    'images_dir': None\n",
    "}\n",
    "\n",
    "data_item.make_PlotTrials_kargs(classic_plot_kwargs, combined_plot_kwargs, animation_plot_kwargs)"
   ]
  },
  {
   "cell_type": "markdown",
   "metadata": {},
   "source": [
    "## best_arc_df"
   ]
  },
  {
   "cell_type": "code",
   "execution_count": null,
   "metadata": {},
   "outputs": [],
   "source": [
    "ff_dataframe_sub = ff_dataframe[ff_dataframe['ff_angle'].between(-np.pi/4, np.pi/4, inclusive='neither')].copy()\n",
    "curv = curvature_class.CurvatureOfPath(ff_dataframe_sub, monkey_information, ff_caught_T_new, ff_real_position_sorted,\n",
    "                                       )\n",
    "curv.make_curvature_df([-25, 25], curv_of_traj_mode='distance', include_cntr_arc_curv=True,\n",
    "                       include_opt_arc_curv=True,\n",
    "                       opt_arc_stop_first_vis_bdry=False,\n",
    "                       ignore_error=False,)\n",
    "curvature_df = curv.curvature_df.copy()\n",
    "curv.find_opt_arc_info_from_curvature_df()"
   ]
  },
  {
   "cell_type": "code",
   "execution_count": null,
   "metadata": {},
   "outputs": [],
   "source": [
    "curv.make_best_arc_df()\n",
    "curv.get_elements_for_plotting(opt_arc_stop_first_vis_bdry=False, ignore_error=True)\n",
    "#curv.add_column_monkey_passed_by_to_best_arc_df()\n",
    "\n",
    "best_arc_df = curv.best_arc_df.copy()\n",
    "curvature_df = curv.curvature_df.copy()\n",
    "\n",
    "pseudo_manual_anno, pseudo_manual_anno_long = decision_making_utils.make_pseudo_manual_anno(best_arc_df, monkey_information, ff_caught_T_new)"
   ]
  },
  {
   "cell_type": "markdown",
   "metadata": {},
   "source": [
    "## combine curvature_df with ff_dataframe"
   ]
  },
  {
   "cell_type": "code",
   "execution_count": null,
   "metadata": {},
   "outputs": [],
   "source": [
    "# combine curvature_df with ff_dataframe so that one can add columns like 'abs_curv_diff' to ff_dataframe\n",
    "curvature_df_sub = curv.curvature_df[['ff_index', 'point_index', 'curv_diff']]\n",
    "if 'curv_diff' in ff_dataframe.columns:\n",
    "    ff_dataframe.drop('curv_diff', axis=1, inplace=True)\n",
    "ff_dataframe = pd.merge(ff_dataframe, curvature_df_sub, on=['ff_index', 'point_index'], how='left')\n",
    "# fill na of curv_diff, but randomly make half of them negative\n",
    "na_index = ff_dataframe['curv_diff'].isna()\n",
    "ff_dataframe.loc[na_index, 'curv_diff'] = np.random.choice([-1,1], size= na_index.sum()) * 0.6\n",
    "ff_dataframe['abs_curv_diff']  = ff_dataframe['curv_diff'].abs()"
   ]
  },
  {
   "cell_type": "markdown",
   "metadata": {},
   "source": [
    "## null_arc_info_for_plotting"
   ]
  },
  {
   "cell_type": "code",
   "execution_count": null,
   "metadata": {},
   "outputs": [],
   "source": [
    "reload(show_null_trajectory)\n",
    "null_arc_info_for_plotting = show_null_trajectory.find_and_package_opt_arc_info_for_plotting(best_arc_df, monkey_information, column_for_color=None, ignore_error=True)\n",
    "#null_arc_info_for_plotting = show_null_trajectory.find_and_package_opt_arc_info_for_plotting(best_arc_df, monkey_information, column_for_color='diff_percentile_in_decimal')\n",
    "\n",
    "# also get null_arc_to_center_info_for_plotting\n",
    "all_point_index = best_arc_df.point_index.values\n",
    "all_ff_index = best_arc_df.ff_index.values\n",
    "remaining_index_of_array, remaining_all_ff_index, remaining_all_point_index = show_null_trajectory.eliminate_invalid_ff_for_null_arc(all_ff_index, all_point_index, ff_real_position_sorted, monkey_information)\n",
    "null_arc_to_center_info_for_plotting = show_null_trajectory.find_and_package_arc_to_center_info_for_plotting(remaining_all_point_index, remaining_all_ff_index, monkey_information, ff_real_position_sorted,\n",
    "                                                                                                             ignore_error=True)"
   ]
  },
  {
   "cell_type": "markdown",
   "metadata": {},
   "source": [
    "# Visualization"
   ]
  },
  {
   "cell_type": "markdown",
   "metadata": {},
   "source": [
    "## plotly"
   ]
  },
  {
   "cell_type": "code",
   "execution_count": null,
   "metadata": {},
   "outputs": [],
   "source": [
    "for i in [1, 3, 7, 8, 14]:\n",
    "    print(i)\n",
    "    current_plotly_polar_plot_kargs, all_ff_dict = plotly_utils_polar.prepare_to_make_one_plotly_polar_plot(i, gas.polar_plots_kwargs, gas.point_index_to_plot, gas.GUAT_joined_ff_info, gas.all_traj_feature_names, \n",
    "                                                                                                            more_ff_df=gas.more_ff_df, trajectory_features=gc_kwargs['trajectory_features'])\n",
    "\n",
    "    fig, customdata_columns = plotly_utils_polar.make_one_plotly_polar_plot(**current_plotly_polar_plot_kargs,\n",
    "                                                        symbol='group', color='time_since_last_vis', \n",
    "                                                        columns_for_annotation=['subgroup', 'curv_diff', 'time_till_next_visible', 'time_since_last_vis'],)\n",
    "                                                        #columns_for_annotation=['subgroup', 'ff_number', 'group', 'curv_diff'],)\n",
    "    print(all_ff_dict['more_monkey_info_for_ff_in_past_or_future'])\n",
    "    fig.show()"
   ]
  },
  {
   "cell_type": "markdown",
   "metadata": {},
   "source": [
    "## dash"
   ]
  },
  {
   "cell_type": "code",
   "execution_count": null,
   "metadata": {},
   "outputs": [],
   "source": [
    "from dash import Dash, html, dcc, Input, Output, callback\n",
    "from dash.exceptions import PreventUpdate\n",
    "import pandas as pd\n",
    "import plotly.express as px\n",
    "reload(plotly_utils_polar)\n",
    "def use_dash(i, gas):\n",
    "    current_plotly_polar_plot_kargs, all_ff_dict = plotly_utils_polar.prepare_to_make_one_plotly_polar_plot(i, gas.polar_plots_kwargs, gas.point_index_to_plot, gas.GUAT_joined_ff_info, gas.all_traj_feature_names, \n",
    "                                                                                            more_ff_df=gas.more_ff_df, trajectory_features=gas.trajectory_features,)\n",
    "    fig, customdata_columns = plotly_utils_polar.make_one_plotly_polar_plot(**current_plotly_polar_plot_kargs, columns_for_annotation=['subgroup', 'curv_diff', 'time_since_last_vis', 'time_till_next_visible'], \n",
    "                                                                            additional_customdata_columns=['ff_number'], color='group')\n",
    "    initial_hover_data = current_plotly_polar_plot_kargs['ff_df'][customdata_columns].iloc[0].values\n",
    "    ff_number_index = np.where(np.array(customdata_columns) == 'ff_number')[0][0]\n",
    "\n",
    "    external_stylesheets = ['https://codepen.io/chriddyp/pen/bWLwgP.css']\n",
    "    df = all_ff_dict['combined_ff_df'].copy()\n",
    "\n",
    "    app = Dash(__name__, external_stylesheets=external_stylesheets)\n",
    "\n",
    "    app.layout = html.Div([\n",
    "\n",
    "        html.Div([\n",
    "            dcc.Graph(\n",
    "                id='main_graph',\n",
    "                figure = fig,\n",
    "                hoverData={'points': [{'customdata': initial_hover_data}]} #['Original-Present', 0]}]}\n",
    "            )\n",
    "        ], style={'width': '50%', 'display': 'inline-block', 'padding': '0 0'}),\n",
    "        html.Div([\n",
    "            dcc.Graph(id='ff_history'),\n",
    "        ], style={'display': 'inline-block', 'width': '50%'}),\n",
    "    ])\n",
    "\n",
    "\n",
    "\n",
    "    @callback(\n",
    "        Output('ff_history', 'figure'),\n",
    "        Input('main_graph', 'hoverData'))\n",
    "    def update_ff_history(hoverData):\n",
    "        print('hoverData:', hoverData)\n",
    "        print('hoverData[points][0]:', hoverData['points'][0])\n",
    "        current_ff_number = hoverData['points'][0]['customdata'][ff_number_index]\n",
    "        # if current_ff_number is not int\n",
    "        if not isinstance(current_ff_number, int):\n",
    "            raise PreventUpdate(\"No update was made because current_ff_number is not an integer.\")\n",
    "        else:\n",
    "            dff = df[df['ff_number'] == current_ff_number]\n",
    "            current_group = dff['group'].iloc[0]\n",
    "            symbol_maps_for_groups = {'Original': 'circle-dot', 'Alternative': 'star-dot', 'More': 'diamond-dot'}\n",
    "\n",
    "            title = '<b>{}</b>'.format(current_ff_number)\n",
    "            current_plotly_polar_plot_kargs_temp = current_plotly_polar_plot_kargs.copy()\n",
    "            current_plotly_polar_plot_kargs_temp['ff_df'] = dff.copy()\n",
    "            fig, customdata_columns = plotly_utils_polar.make_one_plotly_polar_plot(**current_plotly_polar_plot_kargs_temp,\n",
    "                                                                columns_for_annotation=['subgroup', 'ff_distance', 'ff_angle', 'curv_diff', 'time_since_last_vis', 'time_till_next_visible'],\n",
    "                                                                add_colorbar=True, add_legend=True, add_real_and_predicted_labels=False, size=None,\n",
    "                                                                size_max=15, symbol='time_label', symbol_map={'Present':symbol_maps_for_groups[current_group]})\n",
    "            return fig\n",
    "\n",
    "    app.run(debug=True)\n",
    "    return "
   ]
  },
  {
   "cell_type": "code",
   "execution_count": null,
   "metadata": {},
   "outputs": [],
   "source": [
    "use_dash(1, gas)"
   ]
  },
  {
   "cell_type": "code",
   "execution_count": null,
   "metadata": {},
   "outputs": [],
   "source": [
    "use_dash(3, gas)"
   ]
  },
  {
   "cell_type": "code",
   "execution_count": null,
   "metadata": {},
   "outputs": [],
   "source": [
    "use_dash(7, gas)"
   ]
  },
  {
   "cell_type": "markdown",
   "metadata": {},
   "source": [
    "## Other important distributions"
   ]
  },
  {
   "cell_type": "markdown",
   "metadata": {},
   "source": [
    "### histplot of durations between stops"
   ]
  },
  {
   "cell_type": "code",
   "execution_count": null,
   "metadata": {},
   "outputs": [],
   "source": [
    "# plot the duration of the three stops\n",
    "diff_stop_time = GUAT_cluster_df['last_stop_time'] - GUAT_cluster_df['first_stop_time']\n",
    "sns.histplot(diff_stop_time, bins=20)\n",
    "plt.show()\n",
    "\n",
    "\n",
    "# make a line plot of 3 points on x-axis, with y-axis being time since first stop\n"
   ]
  },
  {
   "cell_type": "markdown",
   "metadata": {},
   "source": [
    "### histplot of time_till_next_visible"
   ]
  },
  {
   "cell_type": "code",
   "execution_count": null,
   "metadata": {},
   "outputs": [],
   "source": [
    "## histplot of durations between stops"
   ]
  },
  {
   "cell_type": "code",
   "execution_count": null,
   "metadata": {},
   "outputs": [],
   "source": [
    "sns.histplot(gcc.GUAT_cur_ff_info['time_till_next_visible'], bins=20, stat='probability')\n",
    "plt.title('time till next visible')\n",
    "plt.show()"
   ]
  },
  {
   "cell_type": "markdown",
   "metadata": {},
   "source": [
    "### curvature upper lower bounds"
   ]
  },
  {
   "cell_type": "code",
   "execution_count": null,
   "metadata": {},
   "outputs": [],
   "source": [
    "# see clean_curvature_info function"
   ]
  },
  {
   "cell_type": "code",
   "execution_count": null,
   "metadata": {},
   "outputs": [],
   "source": [
    "max(curvature_df.curv_diff.values)"
   ]
  },
  {
   "cell_type": "code",
   "execution_count": null,
   "metadata": {},
   "outputs": [],
   "source": [
    "curv = curvature_class.CurvatureOfPath(ff_dataframe, monkey_information, ff_caught_T_new, ff_real_position_sorted)\n",
    "curv.make_curvature_df([-1, 1])\n",
    "curv.find_opt_arc_info_from_curvature_df()\n",
    "curv.make_best_arc_df()\n",
    "curv.get_elements_for_plotting()\n",
    "\n",
    "best_arc_df = curv.best_arc_df.copy()\n",
    "curvature_df = curv.curvature_df.copy()"
   ]
  },
  {
   "cell_type": "code",
   "execution_count": null,
   "metadata": {},
   "outputs": [],
   "source": [
    "for column in ['curv_of_traj', 'curvature_lower_bound', 'curvature_upper_bound', 'opt_arc_curv']:\n",
    "    sns.boxplot(curvature_df[column].values, orient='h')\n",
    "    plt.title(column)\n",
    "    plt.show()\n",
    "    \n",
    "   \n",
    "    sns.histplot(curvature_df[column].values, bins=50)\n",
    "    plt.title(column)\n",
    "    plt.show()\n",
    "    "
   ]
  },
  {
   "cell_type": "markdown",
   "metadata": {},
   "source": [
    "# Machine learning prediction"
   ]
  },
  {
   "cell_type": "markdown",
   "metadata": {},
   "source": [
    "## dm_free_selection"
   ]
  },
  {
   "cell_type": "code",
   "execution_count": null,
   "metadata": {},
   "outputs": [],
   "source": [
    "## if I want to use manual_anno for GUAT_item\n",
    "# dm = decision_making_class.DecisionMaking(ff_dataframe, ff_caught_T_new, ff_real_position_sorted, monkey_information)\n",
    "# \n",
    "# manual_anno = dm.manual_anno"
   ]
  },
  {
   "cell_type": "code",
   "execution_count": null,
   "metadata": {},
   "outputs": [],
   "source": [
    "\n",
    "# dm = decision_making_class.DecisionMaking(ff_dataframe, ff_caught_T_new, ff_real_position_sorted, monkey_information,\n",
    "#                                           time_range_of_trajectory=[-2.5, 0], num_time_points_for_trajectory=5)\n",
    "dm = decision_making_class.DecisionMaking(ff_dataframe, ff_caught_T_new, ff_real_position_sorted, monkey_information,\n",
    "                                          time_range_of_trajectory=[-1.5, 1.5], num_time_points_for_trajectory=20)\n",
    "\n",
    "#dm.retrieve_manual_anno()\n",
    "dm.retrieve_manual_anno()\n",
    "\n",
    "#dm.manual_anno = pseudo_manual_anno\n",
    "\n",
    "dm.separate_manual_anno()\n",
    "dm.eliminate_crossing_boundary_cases(n_seconds_after_crossing_boundary = 2.5) #???\n",
    "\n",
    "#dm.get_free_selection_x(ff_attributes=['ff_distance'])\n",
    "dm.get_free_selection_x(add_arc_info=True, add_current_curv_of_traj=True, ff_attributes=['ff_distance', 'ff_angle', 'time_since_last_vis'], curvature_df=curv2.curvature_df.copy(), \n",
    "                           curv_of_traj_df=curv_of_traj_df.copy(), ff_caught_T_new=ff_caught_T_new, \n",
    "                          selection_criterion_if_too_many_ff='abs_ff_angle')\n",
    "#dm.get_free_selection_x(num_ff_per_row=7)\n",
    "dm.prepare_data_for_machine_learning(kind=\"free selection\", furnish_with_trajectory_data=True, trajectory_data_kind=\"position\", ) \n",
    "dm.split_data_to_train_and_test(scaling_data=True)\n",
    "\n",
    "dm.use_machine_learning_model(model=None)   \n",
    "dm.get_pred_results_df()  \n",
    "dm.plot_prediction_results(max_plot_to_make=3)"
   ]
  },
  {
   "cell_type": "code",
   "execution_count": null,
   "metadata": {},
   "outputs": [],
   "source": [
    "dm.plot_prediction_results(max_plot_to_make=100)"
   ]
  },
  {
   "cell_type": "markdown",
   "metadata": {},
   "source": [
    "## dm_replacement"
   ]
  },
  {
   "cell_type": "code",
   "execution_count": null,
   "metadata": {},
   "outputs": [],
   "source": [
    "\n",
    "# dm = decision_making_class.DecisionMaking(ff_dataframe, ff_caught_T_new, ff_real_position_sorted, monkey_information,\n",
    "#                                           time_range_of_trajectory=[-2.5, 0], num_time_points_for_trajectory=5)\n",
    "dm = decision_making_class.DecisionMaking(ff_dataframe, ff_caught_T_new, ff_real_position_sorted, monkey_information,\n",
    "                                          time_range_of_trajectory=[-0.8, 0.8], num_time_points_for_trajectory=8)\n",
    "\n",
    "dm.retrieve_manual_anno()\n",
    "\n",
    "dm.manual_anno = pseudo_manual_anno\n",
    "\n",
    "dm.separate_manual_anno()\n",
    "dm.eliminate_crossing_boundary_cases(n_seconds_after_crossing_boundary = 2.5) #???\n",
    "\n",
    "\n",
    "dm.get_replacement_x_df(add_arc_info=True, add_current_curv_of_traj=True, curvature_df=curv2.curvature_df.copy(), ff_attributes = [], replacement_inputs_format='old_plus_diff_between_old_and_new',\n",
    "                        ff_caught_T_new=ff_caught_T_new,\n",
    "                        non_chosen_ff_selection_criterion='abs_curv_diff')\n",
    "# dm.get_replacement_x_df()\n",
    "\n",
    "dm.prepare_data_for_machine_learning(kind=\"replacement\", furnish_with_trajectory_data=False, trajectory_data_kind=\"position\",\n",
    "                                     ) \n",
    "dm.split_data_to_train_and_test(scaling_data=True)\n",
    "dm.use_machine_learning_model(model=None)   \n",
    "dm.get_pred_results_df()  \n",
    "dm.plot_prediction_results(max_plot_to_make=3)\n"
   ]
  },
  {
   "cell_type": "markdown",
   "metadata": {},
   "source": [
    "## plot wrong predictions"
   ]
  },
  {
   "cell_type": "code",
   "execution_count": null,
   "metadata": {},
   "outputs": [],
   "source": [
    "dm.plot_prediction_results(selected_cases=dm.wrong_predictions[:3], PlotTrials_args=PlotTrials_args)"
   ]
  },
  {
   "cell_type": "markdown",
   "metadata": {},
   "source": [
    "## moit"
   ]
  },
  {
   "cell_type": "code",
   "execution_count": null,
   "metadata": {},
   "outputs": [],
   "source": [
    "ff_dataframe_temp = ff_dataframe.copy()\n",
    "# eliminate ff that has abs(ff_angle) greater than 45 degrees\n",
    "ff_dataframe_temp = ff_dataframe_temp[abs(ff_dataframe_temp['ff_angle_boundary']) <= math.pi/4]\n",
    "ff_dataframe_truncated = ff_dataframe_temp[ff_dataframe_temp['time_since_last_vis'] <= 2.5]\n",
    "\n",
    "\n",
    "time_range_of_trajectory=[-0.8, 0]\n",
    "moit = intended_targets_classes.ModelOfIntendedTargets(ff_dataframe_truncated, ff_caught_T_new, ff_real_position_sorted, monkey_information, ff_flash_sorted, ff_life_sorted,\n",
    "                                                       time_range_of_trajectory=time_range_of_trajectory)\n",
    "\n",
    "# moit.get_and_process_manual_anno_long(n_seconds_after_crossing_boundary=0.5)\n",
    "\n",
    "moit.manual_anno = pseudo_manual_anno\n",
    "moit.manual_anno_long = pseudo_manual_anno_long\n",
    "moit.eliminate_crossing_boundary_cases(n_seconds_after_crossing_boundary=0.5)\n",
    "\n",
    "moit.get_input_data(num_ff_per_row=5, keeping_1_out_of_n_rows=10,\n",
    "                   add_arc_info=True, add_current_curv_of_traj=True,\n",
    "                   curvature_df=curv2.curvature_df.copy(),\n",
    "                   curv_of_traj_df=curv2.curv_of_traj_df.copy(),\n",
    "                   #ff_attributes=[])\n",
    "                   ff_attributes=['ff_distance', 'ff_angle', 'time_since_last_vis'],\n",
    "                   ff_caught_T_new=ff_caught_T_new)\n",
    "\n",
    "moit.prepare_data_for_machine_learning(furnish_with_trajectory_data=False, trajectory_data_kind=\"position\")\n",
    "#moit.turn_y_label_into_multi_class(manual_anno_mul = None, allow_multi_label = False)\n",
    "moit.split_data_to_train_and_test(scaling_data=True, keep_whole_chunks=False)\n",
    "moit.use_machine_learning_model(model=None)\n",
    "moit.get_pred_results_df()\n",
    "moit.plot_prediction_results(selected_cases=moit.wrong_predictions[:3], PlotTrials_args=PlotTrials_args)"
   ]
  },
  {
   "cell_type": "markdown",
   "metadata": {},
   "source": [
    "## cr (cluster replacement)"
   ]
  },
  {
   "cell_type": "code",
   "execution_count": null,
   "metadata": {},
   "outputs": [],
   "source": [
    "reload(decision_making_utils)\n",
    "reload(decision_making_class)\n",
    "reload(intended_targets_classes)\n",
    "reload(specific_utils)\n",
    "reload(cluster_replacement_utils)\n",
    "reload(cluster_replacement_class)\n",
    "\n",
    "# dm = decision_making_class.DecisionMaking(ff_dataframe, ff_caught_T_new, ff_real_position_sorted, monkey_information,\n",
    "#                                           time_range_of_trajectory=[-2.5, 0], num_time_points_for_trajectory=5)\n",
    "cr = cluster_replacement_class.ClusterReplacement(ff_dataframe, ff_caught_T_new, ff_real_position_sorted, monkey_information, ff_life_sorted,\n",
    "                                          time_range_of_trajectory=[-0.8, 0.8], num_time_points_for_trajectory=8)\n",
    "cr.retrieve_manual_anno()\n",
    "#cr.manual_anno = pseudo_manual_anno\n",
    "cr.separate_manual_anno()\n",
    "cr.eliminate_crossing_boundary_cases(n_seconds_after_crossing_boundary = 2.5) #???\n",
    "\n",
    "cr.get_replacement_x_df(add_arc_info=True, add_current_curv_of_traj=True, curvature_df=curv2.curvature_df.copy(), ff_attributes = [], replacement_inputs_format='old_plus_diff_between_old_and_new',\n",
    "                        ff_caught_T_new=ff_caught_T_new, \n",
    "                        non_chosen_ff_selection_criterion='abs_curv_diff')\n",
    "# cr.get_replacement_x_df(add_arc_info=True, add_current_curv_of_traj=True, curvature_df=curv2.curvature_df.copy(), ff_attributes = ['ff_distance', 'ff_angle', 'time_since_last_vis'], replacement_inputs_format='diff_between_old_and_new',\n",
    "#                         ff_caught_T_new=ff_caught_T_new, )\n",
    "cr.find_input_and_output_for_cluster_replacement()\n",
    "cr.prepare_data_for_machine_learning(furnish_with_trajectory_data=True, trajectory_data_kind=\"position\")\n",
    "\n",
    "cr.split_data_to_train_and_test(scaling_data=True)\n",
    "cr.use_machine_learning_model(model=None)\n",
    "cr.get_pred_results_df()\n",
    "\n",
    "cr.plot_prediction_results(max_plot_to_make=5, show_direction_of_monkey_on_trajectory=True, show_reward_boundary=True)\n"
   ]
  },
  {
   "cell_type": "code",
   "execution_count": null,
   "metadata": {},
   "outputs": [],
   "source": [
    "cr.plot_prediction_results(selected_cases=range(50,60), show_direction_of_monkey_on_trajectory=True, show_reward_boundary=True)\n"
   ]
  },
  {
   "cell_type": "markdown",
   "metadata": {},
   "source": [
    "## experiment"
   ]
  },
  {
   "cell_type": "markdown",
   "metadata": {},
   "source": [
    "### with arc info"
   ]
  },
  {
   "cell_type": "code",
   "execution_count": null,
   "metadata": {},
   "outputs": [],
   "source": [
    "reload(decision_making_utils)\n",
    "reload(decision_making_class)\n",
    "reload(intended_targets_classes)\n",
    "reload(specific_utils)\n",
    "reload(cluster_replacement_utils)\n",
    "reload(cluster_replacement_class)\n",
    "\n",
    "# dm = decision_making_class.DecisionMaking(ff_dataframe, ff_caught_T_new, ff_real_position_sorted, monkey_information,\n",
    "#                                           time_range_of_trajectory=[-2.5, 0], num_time_points_for_trajectory=5)\n",
    "cr = cluster_replacement_class.ClusterReplacement(ff_dataframe, ff_caught_T_new, ff_real_position_sorted, monkey_information, ff_life_sorted,\n",
    "                                          time_range_of_trajectory=[-0.8, 0.8], num_time_points_for_trajectory=8)\n",
    "cr.retrieve_manual_anno()\n",
    "cr.manual_anno = pseudo_manual_anno\n",
    "cr.separate_manual_anno()\n",
    "cr.eliminate_crossing_boundary_cases(n_seconds_after_crossing_boundary = 2.5) #???\n",
    "\n",
    "cr.get_replacement_x_df(add_arc_info=True, add_current_curv_of_traj=True, curvature_df=curv2.curvature_df.copy(), ff_attributes = [], \n",
    "                        ff_caught_T_new=ff_caught_T_new,  replacement_inputs_format='old_plus_diff_between_old_and_new',\n",
    "                        non_chosen_ff_selection_criterion='abs_curv_diff')\n",
    "# cr.get_replacement_x_df(add_arc_info=True, add_current_curv_of_traj=True, curvature_df=curv2.curvature_df.copy(), ff_attributes = ['ff_distance', 'ff_angle', 'time_since_last_vis'], replacement_inputs_format='diff_between_old_and_new',\n",
    "#                         ff_caught_T_new=ff_caught_T_new, )\n",
    "cr.find_input_and_output_for_cluster_replacement()\n",
    "cr.prepare_data_for_machine_learning(furnish_with_trajectory_data=False, trajectory_data_kind=\"position\")\n",
    "\n",
    "\n",
    "cr.split_data_to_train_and_test(scaling_data=True)\n",
    "cr.use_machine_learning_model(model=None)\n",
    "cr.get_pred_results_df()\n",
    "\n",
    "cr.plot_prediction_results(max_plot_to_make=5)\n"
   ]
  },
  {
   "cell_type": "markdown",
   "metadata": {},
   "source": [
    "### without arc info"
   ]
  },
  {
   "cell_type": "code",
   "execution_count": null,
   "metadata": {},
   "outputs": [],
   "source": [
    "reload(decision_making_utils)\n",
    "reload(decision_making_class)\n",
    "reload(intended_targets_classes)\n",
    "reload(specific_utils)\n",
    "reload(cluster_replacement_utils)\n",
    "reload(cluster_replacement_class)\n",
    "\n",
    "# dm = decision_making_class.DecisionMaking(ff_dataframe, ff_caught_T_new, ff_real_position_sorted, monkey_information,\n",
    "#                                           time_range_of_trajectory=[-2.5, 0], num_time_points_for_trajectory=5)\n",
    "cr = cluster_replacement_class.ClusterReplacement(ff_dataframe, ff_caught_T_new, ff_real_position_sorted, monkey_information, ff_life_sorted,\n",
    "                                          time_range_of_trajectory=[-0.8, 0.8], num_time_points_for_trajectory=8)\n",
    "cr.retrieve_manual_anno()\n",
    "cr.manual_anno = pseudo_manual_anno\n",
    "cr.separate_manual_anno()\n",
    "cr.eliminate_crossing_boundary_cases(n_seconds_after_crossing_boundary = 2.5) #???\n",
    "\n",
    "cr.get_replacement_x_df(add_arc_info=False, add_current_curv_of_traj=False, curvature_df=curv2.curvature_df.copy(), ff_attributes = ['ff_distance', 'ff_angle', 'time_since_last_vis'], \n",
    "                        ff_caught_T_new=ff_caught_T_new,  replacement_inputs_format='old_plus_diff_between_old_and_new',\n",
    "                        non_chosen_ff_selection_criterion='abs_curv_diff')\n",
    "# cr.get_replacement_x_df(add_arc_info=True, add_current_curv_of_traj=True, curvature_df=curv2.curvature_df.copy(), ff_attributes = ['ff_distance', 'ff_angle', 'time_since_last_vis'], replacement_inputs_format='diff_between_old_and_new',\n",
    "#                         ff_caught_T_new=ff_caught_T_new, )\n",
    "cr.find_input_and_output_for_cluster_replacement()\n",
    "cr.prepare_data_for_machine_learning(furnish_with_trajectory_data=False, trajectory_data_kind=\"position\")\n",
    "\n",
    "\n",
    "cr.split_data_to_train_and_test(scaling_data=True)\n",
    "cr.use_machine_learning_model(model=None)\n",
    "cr.get_pred_results_df()\n",
    "\n",
    "cr.plot_prediction_results(max_plot_to_make=5, show_direction_of_monkey_on_trajectory=True)\n"
   ]
  },
  {
   "cell_type": "markdown",
   "metadata": {},
   "source": [
    "### with trajectory info"
   ]
  },
  {
   "cell_type": "code",
   "execution_count": null,
   "metadata": {},
   "outputs": [],
   "source": [
    "reload(decision_making_utils)\n",
    "reload(decision_making_class)\n",
    "reload(intended_targets_classes)\n",
    "reload(specific_utils)\n",
    "reload(cluster_replacement_utils)\n",
    "reload(cluster_replacement_class)\n",
    "\n",
    "# dm = decision_making_class.DecisionMaking(ff_dataframe, ff_caught_T_new, ff_real_position_sorted, monkey_information,\n",
    "#                                           time_range_of_trajectory=[-2.5, 0], num_time_points_for_trajectory=5)\n",
    "cr = cluster_replacement_class.ClusterReplacement(ff_dataframe, ff_caught_T_new, ff_real_position_sorted, monkey_information, ff_life_sorted,\n",
    "                                          time_range_of_trajectory=[-0.8, 0.8], num_time_points_for_trajectory=8)\n",
    "cr.retrieve_manual_anno()\n",
    "cr.manual_anno = pseudo_manual_anno\n",
    "cr.separate_manual_anno()\n",
    "cr.eliminate_crossing_boundary_cases(n_seconds_after_crossing_boundary = 2.5) #???\n",
    "\n",
    "cr.get_replacement_x_df(add_arc_info=False, add_current_curv_of_traj=False, curvature_df=curv2.curvature_df.copy(), ff_attributes = ['ff_distance', 'ff_angle', 'time_since_last_vis'], \n",
    "                        ff_caught_T_new=ff_caught_T_new,  replacement_inputs_format='old_plus_diff_between_old_and_new',\n",
    "                        non_chosen_ff_selection_criterion='abs_curv_diff')\n",
    "# cr.get_replacement_x_df(add_arc_info=True, add_current_curv_of_traj=True, curvature_df=curv2.curvature_df.copy(), ff_attributes = ['ff_distance', 'ff_angle', 'time_since_last_vis'], replacement_inputs_format='diff_between_old_and_new',\n",
    "#                         ff_caught_T_new=ff_caught_T_new, )\n",
    "cr.find_input_and_output_for_cluster_replacement()\n",
    "cr.prepare_data_for_machine_learning(furnish_with_trajectory_data=True, trajectory_data_kind=\"position\")\n",
    "\n",
    "\n",
    "cr.split_data_to_train_and_test(scaling_data=True)\n",
    "cr.use_machine_learning_model(model=None)\n",
    "cr.get_pred_results_df()\n",
    "\n",
    "cr.plot_prediction_results(max_plot_to_make=5, show_direction_of_monkey_on_trajectory=True)\n"
   ]
  },
  {
   "cell_type": "code",
   "execution_count": null,
   "metadata": {},
   "outputs": [],
   "source": [
    "reload(cluster_replacement_utils)\n",
    "i = 40\n",
    "i += 20\n",
    "cr.plot_prediction_results(selected_cases=range(i, i+20), show_direction_of_monkey_on_trajectory=True)"
   ]
  },
  {
   "cell_type": "code",
   "execution_count": null,
   "metadata": {},
   "outputs": [],
   "source": [
    "stop!"
   ]
  },
  {
   "cell_type": "markdown",
   "metadata": {},
   "source": [
    "## use cluster info for cr (unfinished idea)"
   ]
  },
  {
   "cell_type": "code",
   "execution_count": null,
   "metadata": {},
   "outputs": [],
   "source": [
    "reload(cluster_analysis)\n",
    "# using m & n is just one way. Another way is to find the min value in the cluster.\n",
    "# but this is for later...\n",
    "ff_cluster_df = cluster_analysis.find_ff_cluster_last_vis_df(parallel_old_ff_cluster, all_time_2, ff_dataframe, cluster_identifiers=None)"
   ]
  },
  {
   "cell_type": "markdown",
   "metadata": {},
   "source": [
    "# Predict curvature"
   ]
  },
  {
   "cell_type": "markdown",
   "metadata": {},
   "source": [
    "## explanatory_var"
   ]
  },
  {
   "cell_type": "code",
   "execution_count": null,
   "metadata": {},
   "outputs": [],
   "source": [
    "reload(decision_making_utils)\n",
    "reload(pattern_by_trials)\n",
    "reload(decision_making_class)\n",
    "reload(intended_targets_classes)\n",
    "reload(find_best_arc)\n",
    "reload(curvature_class)\n",
    "reload(curvature_utils)\n",
    "\n",
    "\n",
    "curv_temp = curvature_class.CurvatureOfPath(ff_dataframe, monkey_information, ff_caught_T_new, ff_real_position_sorted)\n",
    "curv_temp.make_curvature_df([-1, 1])\n",
    "\n",
    "\n",
    "ff_dataframe_temp = ff_dataframe.copy()\n",
    "# eliminate ff that has abs(ff_angle) greater than 45 degrees\n",
    "ff_dataframe_temp = ff_dataframe_temp[abs(ff_dataframe_temp['ff_angle_boundary']) <= math.pi/4]\n",
    "ff_dataframe_truncated = ff_dataframe_temp[ff_dataframe_temp['time_since_last_vis'] <= 2.5]\n",
    "\n",
    "moit = intended_targets_classes.ModelOfIntendedTargets(ff_dataframe_truncated, ff_caught_T_new, ff_real_position_sorted, monkey_information, ff_flash_sorted, ff_life_sorted,\n",
    "                                                       time_range_of_trajectory=[-0.5, 2.5], num_time_points_for_trajectory=10)\n",
    "\n",
    "# moit.get_and_process_manual_anno_long(n_seconds_after_crossing_boundary=2.5)\n",
    "\n",
    "moit.manual_anno = pseudo_manual_anno\n",
    "moit.manual_anno_long = pseudo_manual_anno_long\n",
    "moit.eliminate_crossing_boundary_cases(n_seconds_after_crossing_boundary=0.5)\n",
    "moit.get_input_data(num_ff_per_row=5, keeping_1_out_of_n_rows=10, \n",
    "                    add_arc_info=True, curvature_df=curv_temp.curvature_df, curv_of_traj_df=curv_of_traj_df.copy()\n",
    "                    )\n",
    "\n",
    "explanatory_var = moit.free_selection_x.copy()"
   ]
  },
  {
   "cell_type": "markdown",
   "metadata": {},
   "source": [
    "## dependent_var"
   ]
  },
  {
   "cell_type": "code",
   "execution_count": null,
   "metadata": {},
   "outputs": [],
   "source": [
    "# get dependent variables\n",
    "reload(curvature_utils)\n",
    "all_point_index = moit.chosen_rows_of_df.starting_point_index.values\n",
    "curv_of_traj_df, traj_curv_descr = curv_of_traj_utils.find_curv_of_traj_df_based_on_curv_of_traj_mode(window_for_curv_of_traj, monkey_information, ff_caught_T_new, curv_of_traj_mode=curv_of_traj_mode, truncate_curv_of_traj_by_time_of_capture=truncate_curv_of_traj_by_time_of_capture)\n",
    "dependent_var = curv_of_traj_df.curv_of_traj.values"
   ]
  },
  {
   "cell_type": "markdown",
   "metadata": {},
   "source": [
    "## correlation in curv"
   ]
  },
  {
   "cell_type": "code",
   "execution_count": null,
   "metadata": {},
   "outputs": [],
   "source": [
    "# This is kind of like for sanity check\n",
    "old_curv = moit.free_selection_x_df.curv_of_traj.values.copy()\n",
    "new_curv = curv_of_traj_df.curv_of_traj.values.copy()\n",
    "stats.pearsonr(old_curv, new_curv)"
   ]
  },
  {
   "cell_type": "markdown",
   "metadata": {},
   "source": [
    "## train test split"
   ]
  },
  {
   "cell_type": "code",
   "execution_count": null,
   "metadata": {},
   "outputs": [],
   "source": [
    "keep_whole_chunk = False\n",
    "test_size = 0.2\n",
    "\n",
    "scaler = StandardScaler()\n",
    "dependent_var_sc = scaler.fit_transform(dependent_var.reshape(-1,1)) #scale data\n",
    "explanatory_var_sc = scaler.fit_transform(explanatory_var)\n",
    "\n",
    "\n",
    "if keep_whole_chunk:\n",
    "    indices = np.arange(len(dependent_var_sc))\n",
    "    num_test_points = int(len(indices)*test_size)\n",
    "    num_train_points = len(indices)-num_test_points\n",
    "    # make sure that the test chunk will be a whole segment in the data, to minimize the splitting up of the train and test chunks\n",
    "    test_indice_start = np.random.randint(0, num_train_points)\n",
    "    indices_test = indices[test_indice_start:test_indice_start+num_test_points]\n",
    "    indices_train = np.setdiff1d(indices, indices_test)\n",
    "    X_train = explanatory_var_sc[indices_train]\n",
    "    X_test = explanatory_var_sc[indices_test]\n",
    "    y_train = dependent_var_sc[indices_train]\n",
    "    y_test = dependent_var_sc[indices_test]\n",
    "else:\n",
    "    X_train, X_test, y_train, y_test = train_test_split(explanatory_var_sc, dependent_var_sc, test_size=test_size, random_state=42)"
   ]
  },
  {
   "cell_type": "markdown",
   "metadata": {},
   "source": [
    "## ML"
   ]
  },
  {
   "cell_type": "code",
   "execution_count": null,
   "metadata": {},
   "outputs": [],
   "source": [
    "# use MLPRegressor\n",
    "mlp = MLPRegressor(random_state=1, max_iter=500).fit(X_train, y_train)\n",
    "mlp.score(X_test, y_test)"
   ]
  },
  {
   "cell_type": "code",
   "execution_count": null,
   "metadata": {},
   "outputs": [],
   "source": [
    "# use KNeighborsRegressor\n",
    "n_neighbors = int(math.sqrt(len(y_train)))\n",
    "neigh = KNeighborsRegressor(n_neighbors=n_neighbors)\n",
    "neigh.fit(X_train, y_train)\n",
    "neigh.score(X_test, y_test)"
   ]
  },
  {
   "cell_type": "code",
   "execution_count": null,
   "metadata": {},
   "outputs": [],
   "source": [
    "# use RandomForestRegressor\n",
    "regr = RandomForestRegressor(max_depth=10, random_state=0)\n",
    "regr.fit(X_train, y_train)\n",
    "regr.score(X_test, y_test)"
   ]
  },
  {
   "cell_type": "code",
   "execution_count": null,
   "metadata": {},
   "outputs": [],
   "source": [
    "# use linear regression\n",
    "reg = LinearRegression().fit(X_train, y_train)\n",
    "reg.score(X_test, y_test)"
   ]
  },
  {
   "cell_type": "markdown",
   "metadata": {},
   "source": [
    "# Hyperparameter tuning"
   ]
  },
  {
   "cell_type": "markdown",
   "metadata": {},
   "source": [
    "### moit\n",
    "Here, we tune parameters such as whether to pass in null arc info"
   ]
  },
  {
   "cell_type": "code",
   "execution_count": null,
   "metadata": {},
   "outputs": [],
   "source": [
    "# make a dictionary of all the ff attributes combinations\n",
    "ff_attributes=['ff_distance', 'ff_angle', 'time_since_last_vis']\n",
    "ff_attributes_combinations = []\n",
    "for i in range(1, len(ff_attributes)+1):\n",
    "    combo_w_i_elements = list(itertools.combinations(ff_attributes, i))\n",
    "    ff_attributes_combinations.extend([list(combo) for combo in combo_w_i_elements])\n",
    "    \n",
    "grid = {'ff_attributes': ff_attributes_combinations,\n",
    "        'trajectory_data_kind': ['position', 'velocity', None],\n",
    "        'add_arc_info': [True, False],\n",
    "        'add_current_curv_of_traj': [True, False],\n",
    "        'keep_whole_chunks' : [True, False],\n",
    "        'num_ff_per_row': [5, 6, 7],  # Note: here's an inherent limitation to this: data where the target is not within the n_ff_per_row ff are eliminated. So data can be biased.\n",
    "        'time_range_of_trajectory': [[-0.9, 0], [-0.9, 0.9]]\n",
    "        }\n",
    "\n",
    "# sample all the combinations from the grid\n",
    "keys, values = zip(*grid.items())\n",
    "combinations = [dict(zip(keys, v)) for v in itertools.product(*values)]"
   ]
  },
  {
   "cell_type": "code",
   "execution_count": null,
   "metadata": {},
   "outputs": [],
   "source": [
    "reload(pattern_by_trials)\n",
    "reload(decision_making_class)\n",
    "reload(decision_making_utils)\n",
    "reload(show_null_trajectory)\n",
    "reload(intended_targets_classes)\n",
    "reload(regression_utils)\n",
    "\n",
    "combo = combinations[0]\n",
    "result_df = pd.DataFrame()\n",
    "for i in range(len(combinations)):\n",
    "    combo = combinations[i].copy()\n",
    "    print(i, 'out of', len(combinations))\n",
    "    print(combo)\n",
    "    combo['n_seconds_after_crossing_boundary'] = abs(combo['time_range_of_trajectory'][0])\n",
    "    combo['n_seconds_before_crossing_boundary'] = abs(combo['time_range_of_trajectory'][1])\n",
    "    # hide all printed material for below\n",
    "    with general_utils.HiddenPrints():\n",
    "        # hide all ConvergenceWarning\n",
    "        with warnings.catch_warnings():\n",
    "            warnings.simplefilter(\"ignore\", category=ConvergenceWarning)\n",
    "            model_comparison_df = regression_utils.test_moit_hyperparameters(ff_dataframe, ff_caught_T_new, ff_real_position_sorted, monkey_information, ff_flash_sorted, ff_life_sorted, pseudo_manual_anno, pseudo_manual_anno_long,\n",
    "                                curvature_df=curvature_df, keeping_1_out_of_n_rows=10, **combo)\n",
    "\n",
    "    combo_for_df = combo.copy()\n",
    "    combo_for_df['ff_attributes'] = [combo_for_df['ff_attributes']]\n",
    "    combo_for_df['time_range_of_trajectory'] = [combo_for_df['time_range_of_trajectory']]\n",
    "    # store the most accurate model\n",
    "    combo_for_df['best_model'] = model_comparison_df.iloc[0]['model']\n",
    "    # store the accuracy of the most accurate model\n",
    "    combo_for_df['best_model_accuracy'] = round(model_comparison_df.iloc[0]['accuracy'], 3)\n",
    "    # store the accuracies of all the other models\n",
    "    for index, row in model_comparison_df.iterrows():\n",
    "        combo_for_df[row['model']] = round(row['accuracy'], 3)\n",
    "    temp_result_df = pd.DataFrame(combo_for_df)\n",
    "    if i == 0:\n",
    "        result_df = temp_result_df\n",
    "    else:\n",
    "        result_df = pd.concat([result_df, temp_result_df], axis=0)\n",
    "    "
   ]
  },
  {
   "cell_type": "code",
   "execution_count": null,
   "metadata": {},
   "outputs": [],
   "source": [
    "result_df"
   ]
  },
  {
   "cell_type": "code",
   "execution_count": null,
   "metadata": {},
   "outputs": [],
   "source": [
    "stop!"
   ]
  },
  {
   "cell_type": "markdown",
   "metadata": {},
   "source": [
    "### dm_replacement"
   ]
  },
  {
   "cell_type": "code",
   "execution_count": null,
   "metadata": {},
   "outputs": [],
   "source": [
    "# make a dictionary of all the ff attributes combinations\n",
    "ff_attributes=['ff_distance', 'ff_angle', 'time_since_last_vis']\n",
    "ff_attributes_combinations = []\n",
    "for i in range(1, len(ff_attributes)+1):\n",
    "    combo_w_i_elements = list(itertools.combinations(ff_attributes, i))\n",
    "    ff_attributes_combinations.extend([list(combo) for combo in combo_w_i_elements])\n",
    "    \n",
    "grid = {'ff_attributes': ff_attributes_combinations,\n",
    "        'trajectory_data_kind': ['position', 'velocity', None],\n",
    "        'add_arc_info': [True, False],\n",
    "        'add_current_curv_of_traj': [True, False],\n",
    "        'time_range_of_trajectory': [[-0.9, 0], [-0.9, 0.9]],\n",
    "        'num_time_points_for_trajectory': [5, 10, 15],\n",
    "        'replacement_inputs_format': ['diff_between_old_and_new', 'old_plus_diff_between_old_and_new', 'both_old_and_new'],\n",
    "        }\n",
    "\n",
    "# sample all the combinations from the grid\n",
    "keys, values = zip(*grid.items())\n",
    "combinations = [dict(zip(keys, v)) for v in itertools.product(*values)]"
   ]
  },
  {
   "cell_type": "code",
   "execution_count": null,
   "metadata": {},
   "outputs": [],
   "source": [
    "reload(pattern_by_trials)\n",
    "reload(decision_making_class)\n",
    "reload(decision_making_utils)\n",
    "reload(show_null_trajectory)\n",
    "reload(intended_targets_classes)\n",
    "reload(regression_utils)\n",
    "\n",
    "combo = combinations[0]\n",
    "dm_result_df = pd.DataFrame()\n",
    "for i in range(len(combinations)):\n",
    "    combo = combinations[i].copy()\n",
    "    print(i, 'out of', len(combinations))\n",
    "    print(combo)\n",
    "    combo['n_seconds_after_crossing_boundary'] = abs(combo['time_range_of_trajectory'][0])\n",
    "    combo['n_seconds_before_crossing_boundary'] = abs(combo['time_range_of_trajectory'][1])\n",
    "    # hide all printed material for below\n",
    "    with general_utils.HiddenPrints():\n",
    "        # hide all ConvergenceWarning\n",
    "        with warnings.catch_warnings():\n",
    "            warnings.simplefilter(\"ignore\", category=ConvergenceWarning)\n",
    "            model_comparison_df = regression_utils.test_dm_replacement_hyperparameters(ff_dataframe, ff_caught_T_new, ff_real_position_sorted, monkey_information, pseudo_manual_anno, curvature_df=curvature_df, **combo)\n",
    "\n",
    "    combo_for_df = combo.copy()\n",
    "    combo_for_df['ff_attributes'] = [combo_for_df['ff_attributes']]\n",
    "    combo_for_df['time_range_of_trajectory'] = [combo_for_df['time_range_of_trajectory']]\n",
    "    # store the most accurate model\n",
    "    combo_for_df['best_model'] = model_comparison_df.iloc[0]['model']\n",
    "    # store the accuracy of the most accurate model\n",
    "    combo_for_df['best_model_accuracy'] = round(model_comparison_df.iloc[0]['accuracy'], 3)\n",
    "    # store the accuracies of all the other models\n",
    "    for index, row in model_comparison_df.iterrows():\n",
    "        combo_for_df[row['model']] = round(row['accuracy'], 3)\n",
    "    temp_result_df = pd.DataFrame(combo_for_df)\n",
    "    if i == 0:\n",
    "        dm_result_df = temp_result_df\n",
    "    else:\n",
    "        dm_result_df = pd.concat([dm_result_df, temp_result_df], axis=0)\n",
    "    "
   ]
  },
  {
   "cell_type": "code",
   "execution_count": null,
   "metadata": {},
   "outputs": [],
   "source": [
    "\n",
    "# def test_dm_replacement_hyperparameters(ff_dataframe, ff_caught_T_new, ff_real_position_sorted, monkey_information, pseudo_manual_anno,\n",
    "#                               add_arc_info=True, add_current_curv_of_traj=True, furnish_with_trajectory_data=True, num_time_points_for_trajectory=20,\n",
    "#                               ff_attributes=['ff_distance', 'ff_angle', 'time_since_last_vis'], trajectory_data_kind=['position'], curvature_df=None,\n",
    "#                               time_range_of_trajectory=[-0.8, 0.8], n_seconds_before_crossing_boundary=0.8, n_seconds_after_crossing_boundary=0.8,\n",
    "#                               replacement_inputs_format = 'diff_between_old_and_new'):\n",
    "\n",
    "#     dm = decision_making_class.DecisionMaking(ff_dataframe, ff_caught_T_new, ff_real_position_sorted, monkey_information,\n",
    "#                                             time_range_of_trajectory=time_range_of_trajectory, num_time_points_for_trajectory=num_time_points_for_trajectory)\n",
    "#     dm.manual_anno = pseudo_manual_anno\n",
    "#     dm.separate_manual_anno()\n",
    "#     dm.eliminate_crossing_boundary_cases(n_seconds_before_crossing_boundary=n_seconds_before_crossing_boundary, n_seconds_after_crossing_boundary=n_seconds_after_crossing_boundary) \n",
    "#     dm.get_replacement_x_df(add_arc_info=add_arc_info, add_current_curv_of_traj=add_current_curv_of_traj, curvature_df=curvature_df, ff_attributes=ff_attributes, replacement_inputs_format=replacement_inputs_format)\n",
    "#     dm.prepare_data_for_machine_learning(kind=\"replacement\", furnish_with_trajectory_data=furnish_with_trajectory_data, trajectory_data_kind=trajectory_data_kind) \n",
    "#     dm.split_data_to_train_and_test(scaling_data=True)\n",
    "#     dm.use_machine_learning_model(model=None)  \n",
    "\n",
    "#     return dm.model_comparison_df"
   ]
  },
  {
   "cell_type": "markdown",
   "metadata": {},
   "source": [
    "### Gaussian NB\n",
    "\n",
    "var_smooth: 1e-09"
   ]
  },
  {
   "cell_type": "code",
   "execution_count": null,
   "metadata": {},
   "outputs": [],
   "source": [
    "X_train = moit.X_train\n",
    "y_train = moit.y_train"
   ]
  },
  {
   "cell_type": "code",
   "execution_count": null,
   "metadata": {},
   "outputs": [],
   "source": [
    "# reload(regression_utils)\n",
    "# reload(hyperparam_tuning_class)\n",
    "# gnb = hyperparam_tuning_class.HyperparameterTuning(X_train=X_train, y_train=y_train)\n",
    "# grid = {'var_smoothing': np.logspace(0,-9, num=100)}\n",
    "# gnb.random_search(grid=grid, model=GaussianNB(), n_iter=50, n_folds=3, n_repeats=1)\n",
    "\n",
    "\n",
    "# grid = {'var_smoothing': np.logspace(-2,-9, num=100)}\n",
    "# gnb.grid_search(grid=grid, model=GaussianNB(), n_folds=3, n_repeats=1)        "
   ]
  },
  {
   "cell_type": "markdown",
   "metadata": {},
   "source": [
    "### Adaptive boosting\n",
    "\n",
    "'n_estimators': 500,\n",
    "'learning_rate': 0.05"
   ]
  },
  {
   "cell_type": "code",
   "execution_count": null,
   "metadata": {},
   "outputs": [],
   "source": [
    "# reload(hyperparam_tuning_class)\n",
    "# adap_boosting = hyperparam_tuning_class.HyperparameterTuning(X_train=X_train, y_train=y_train)\n",
    "# grid = {'n_estimators': [10, 50, 100, 500],\n",
    "#         'learning_rate': [0.0001, 0.001, 0.01, 0.1, 1.0]}\n",
    "# adap_boosting.random_search(grid=grid, model=AdaBoostClassifier(), n_iter=50, n_folds=3, n_repeats=1)\n",
    "\n",
    "\n",
    "adap_boosting = hyperparam_tuning_class.HyperparameterTuning(X_train=X_train, y_train=y_train)\n",
    "grid = {'n_estimators': [10, 50, 100, 200, 300, 500],\n",
    "        'learning_rate': [0.05, 0.1, 0.2, 0.4, 0.7, 1.0]}\n",
    "adap_boosting.grid_search(grid=grid, model=AdaBoostClassifier(), n_folds=3, n_repeats=1)        "
   ]
  },
  {
   "cell_type": "markdown",
   "metadata": {},
   "source": [
    "### Gradient Boosting\n",
    "learning_rate=0.05, max_depth=7, n_estimators=500, subsample=0.5\n"
   ]
  },
  {
   "cell_type": "code",
   "execution_count": null,
   "metadata": {},
   "outputs": [],
   "source": [
    "# Might also need to train on: max_features='sqrt', bootstrap=True, min_samples_split=7, min_samples_leaf=2"
   ]
  },
  {
   "cell_type": "code",
   "execution_count": null,
   "metadata": {},
   "outputs": [],
   "source": [
    "# reload(hyperparam_tuning_class)\n",
    "# gradient_boosting = hyperparam_tuning_class.HyperparameterTuning(X_train=X_train, y_train=y_train)\n",
    "# grid = {'n_estimators': [10, 50, 100, 200, 300, 400, 500], \n",
    "#         'learning_rate': [0.01, 0.05, 0.1], \n",
    "#         'subsample': [0.5, 0.6, 0.7, 0.8, 0.9, 1.0], \n",
    "#         'max_depth': [3, 5, 7, 9] + [int(x) for x in np.linspace(20, 50, num = 4)]}\n",
    "# gradient_boosting.random_search(grid=grid, model=GradientBoostingClassifier(), n_iter=50, n_folds=3, n_repeats=1)"
   ]
  },
  {
   "cell_type": "code",
   "execution_count": null,
   "metadata": {},
   "outputs": [],
   "source": [
    "gradient_boosting = hyperparam_tuning_class.HyperparameterTuning(X_train=X_train, y_train=y_train)\n",
    "grid = {'n_estimators': [10, 50, 100, 200, 300, 500], \n",
    "        'learning_rate': [0.01, 0.025, 0.05, 0.075, 0.1], \n",
    "        'subsample': [0.5, 0.7, 1.0], \n",
    "        'max_depth': [3, 7, 9]}\n",
    "gradient_boosting.grid_search(grid=grid, model=GradientBoostingClassifier(), n_folds=3, n_repeats=1) "
   ]
  },
  {
   "cell_type": "markdown",
   "metadata": {},
   "source": [
    "### Bagging\n",
    "\n",
    "n_estimators: 200\n",
    "max_features: 0.9\n",
    "bootstrap_features: True\n",
    "bootstrap: True"
   ]
  },
  {
   "cell_type": "code",
   "execution_count": null,
   "metadata": {},
   "outputs": [],
   "source": [
    "# reload(hyperparam_tuning_class)\n",
    "# bagging = hyperparam_tuning_class.HyperparameterTuning(X_train=X_train, y_train=y_train)\n",
    "# grid = {'n_estimators': [10, 20, 50, 100, 200, 300, 500, 800],\n",
    "#         'max_features': [0.90, 0.92, 0.95, 1.0],\n",
    "#         'bootstrap': [True, False],\n",
    "#         'bootstrap_features': [True, False]} \n",
    "# bagging.random_search(grid=grid, model=BaggingClassifier(), n_iter=50, n_folds=3, n_repeats=1)\n",
    "\n",
    "\n",
    "bagging = hyperparam_tuning_class.HyperparameterTuning(X_train=X_train, y_train=y_train)\n",
    "grid = {'n_estimators': [50, 100, 200, 300, 400, 500],\n",
    "        'max_features': [0.6, 0.65, 0.7, 0.75, 0.8, 0.85]}\n",
    "bagging.grid_search(grid=grid, model=BaggingClassifier(bootstrap=True, bootstrap_features=True), n_folds=3, n_repeats=1)        "
   ]
  },
  {
   "cell_type": "markdown",
   "metadata": {},
   "source": [
    "### Random forest\n",
    "\n",
    "bootstrap: True"
   ]
  },
  {
   "cell_type": "code",
   "execution_count": null,
   "metadata": {},
   "outputs": [],
   "source": [
    "# reload(hyperparam_tuning_class)\n",
    "# rf = hyperparam_tuning_class.HyperparameterTuning(X_train=X_train, y_train=y_train)\n",
    "# grid = {'n_estimators': [int(x) for x in np.linspace(start = 200, stop = 1000, num = 10)],\n",
    "#         'max_features': [None, 'sqrt'],\n",
    "#         'max_depth': [int(x) for x in np.linspace(10, 110, num = 11)] + [None],\n",
    "#         'min_samples_split': [2, 5, 10],\n",
    "#         'min_samples_leaf': [1, 2, 4],\n",
    "#         'bootstrap': [True, False]}\n",
    "\n",
    "# rf.random_search(grid=grid, model=RandomForestRegressor(), n_iter=50, n_folds=3, n_repeats=1)"
   ]
  },
  {
   "cell_type": "code",
   "execution_count": null,
   "metadata": {},
   "outputs": [],
   "source": [
    "y_train.dtype"
   ]
  },
  {
   "cell_type": "code",
   "execution_count": null,
   "metadata": {},
   "outputs": [],
   "source": [
    "rf = hyperparam_tuning_class.HyperparameterTuning(X_train=X_train, y_train=y_train)\n",
    "grid = {'n_estimators': [int(x) for x in np.linspace(start = 200, stop = 600, num = 5)],\n",
    "        'max_features': [None, 'sqrt'],\n",
    "        'max_depth': [80, 90, 100],\n",
    "        'min_samples_split': [2, 5, 7],\n",
    "        'min_samples_leaf': [1, 2, 3]}\n",
    "rf.grid_search(grid=grid, model=RandomForestRegressor(bootstrap=True), n_folds=3, n_repeats=1)        "
   ]
  },
  {
   "cell_type": "markdown",
   "metadata": {},
   "source": [
    "### Logistic regression"
   ]
  },
  {
   "cell_type": "code",
   "execution_count": null,
   "metadata": {},
   "outputs": [],
   "source": [
    "reload(hyperparam_tuning_class)\n",
    "lr = hyperparam_tuning_class.HyperparameterTuning(X_train=X_train, y_train=y_train)\n",
    "grid = {'solver': ['newton-cg', 'lbfgs', 'liblinear'],\n",
    "        'penalty': ['l2'],\n",
    "        'C': [100, 10, 1.0, 0.1, 0.01]}\n",
    "\n",
    "lr.random_search(grid=grid, model=LogisticRegression(), n_iter=50, n_folds=3, n_repeats=1)"
   ]
  },
  {
   "cell_type": "code",
   "execution_count": null,
   "metadata": {},
   "outputs": [],
   "source": [
    "# grid = {'solvers': ['newton-cg', 'lbfgs', 'liblinear'],\n",
    "#         'penalty': ['l2'],\n",
    "#         'C': [100, 10, 1.0, 0.1, 0.01]}\n",
    "# lr.grid_search(grid=grid, model=LogisticRegression(), n_folds=3, n_repeats=1)        "
   ]
  },
  {
   "cell_type": "markdown",
   "metadata": {},
   "source": [
    "### SVM"
   ]
  },
  {
   "cell_type": "code",
   "execution_count": null,
   "metadata": {},
   "outputs": [],
   "source": [
    "reload(hyperparam_tuning_class)\n",
    "lr = hyperparam_tuning_class.HyperparameterTuning(X_train=X_train, y_train=y_train)\n",
    "grid = {'kernel': ['poly', 'rbf', 'sigmoid'],\n",
    "        'C': [50, 10, 1.0, 0.1, 0.01],\n",
    "        'gamma': ['scale']}\n",
    "\n",
    "lr.random_search(grid=grid, model=SVC(), n_iter=50, n_folds=3, n_repeats=1)"
   ]
  },
  {
   "cell_type": "code",
   "execution_count": null,
   "metadata": {},
   "outputs": [],
   "source": [
    "# grid = {'kernel': ['poly', 'rbf', 'sigmoid'],\n",
    "#         'C': [50, 10, 1.0, 0.1, 0.01],\n",
    "#         'gamma': ['scale']}\n",
    "# lr.grid_search(grid=grid, model=SVC(), n_folds=3, n_repeats=1)        "
   ]
  },
  {
   "cell_type": "markdown",
   "metadata": {},
   "source": [
    "### MLP"
   ]
  },
  {
   "cell_type": "code",
   "execution_count": null,
   "metadata": {},
   "outputs": [],
   "source": [
    "reload(hyperparam_tuning_class)\n",
    "mlp = hyperparam_tuning_class.HyperparameterTuning(X_train=X_train, y_train=y_train)\n",
    "grid = {\n",
    "    'hidden_layer_sizes': [(10,30,10),(20,), (50,50,50), (50,100,50), (100,)],\n",
    "    'activation': ['tanh', 'relu'],\n",
    "    'max_iter': [50, 100, 150],\n",
    "    'solver': ['sgd', 'adam'],\n",
    "    'alpha': [0.0001, 0.05],\n",
    "    'learning_rate': ['constant','adaptive'],\n",
    "}\n",
    "\n",
    "mlp.random_search(grid=grid, model=MLPClassifier(), n_iter=50, n_folds=3, n_repeats=1)"
   ]
  },
  {
   "cell_type": "code",
   "execution_count": null,
   "metadata": {},
   "outputs": [],
   "source": [
    "# grid = {\n",
    "#     'hidden_layer_sizes': [(10,30,10),(20,), (50,50,50), (50,100,50), (100,)],\n",
    "#     'activation': ['tanh', 'relu'],\n",
    "#     'max_iter': [50, 100, 150],\n",
    "#     'solver': ['sgd', 'adam'],\n",
    "#     'alpha': [0.0001, 0.05],\n",
    "#     'learning_rate': ['constant','adaptive'],\n",
    "# }\n",
    "# mlp.grid_search(grid=grid, model=SVC(), n_folds=3, n_repeats=1)        "
   ]
  },
  {
   "cell_type": "markdown",
   "metadata": {},
   "source": [
    "# Try a few times vs. give up after trying"
   ]
  },
  {
   "cell_type": "markdown",
   "metadata": {},
   "source": [
    "## Compared with the rest"
   ]
  },
  {
   "cell_type": "code",
   "execution_count": null,
   "metadata": {},
   "outputs": [],
   "source": [
    "reload(decision_making_class)\n",
    "reload(plot_trials)\n",
    "reload(intended_targets_classes)\n",
    "\n",
    "try_a_few_times_trials = data_item.try_a_few_times_trials\n",
    "target_cluster_TAFT = target_clust_last_vis_df[target_clust_last_vis_df['target_index'].isin(try_a_few_times_trials)]\n",
    "sort_1_df = target_cluster_TAFT\n",
    "sort_1_trials = sort_1_df.target_index.values\n",
    "sort_1_name = \"Try a few times\"\n",
    "\n",
    "\n",
    "target_cluster_no_flash_after_stopn_TAFT = target_clust_last_vis_df[~target_clust_last_vis_df['target_index'].isin(try_a_few_times_trials)]\n",
    "sort_2_df = target_cluster_no_flash_after_stopn_TAFT\n",
    "sort_2_trials = sort_2_df.target_index.values\n",
    "sort_2_name = \"Non-TAFT\"\n",
    "\n",
    "category_item = category_class.ProcessCategoryData(sort_1_trials=sort_1_trials, sort_2_trials=sort_2_trials,\n",
    "                                                              sort_1_name=sort_1_name, sort_2_name=sort_2_name, \n",
    "                                                              sort_1_df=sort_1_df, sort_2_df=sort_2_df,                                                     \n",
    "                                                              PlotTrials_args=PlotTrials_args, ff_flash_sorted=ff_flash_sorted)"
   ]
  },
  {
   "cell_type": "code",
   "execution_count": null,
   "metadata": {},
   "outputs": [],
   "source": [
    "category_item.temp_plotting_kwargs"
   ]
  },
  {
   "cell_type": "code",
   "execution_count": null,
   "metadata": {},
   "outputs": [],
   "source": [
    "reload(show_null_trajectory)\n",
    "reload(decision_making_class)\n",
    "reload(plot_trials)\n",
    "reload(intended_targets_classes)\n",
    "reload(category_class)\n",
    "\n",
    "\n",
    "category_item.clean_out_cross_boundary_trials()\n",
    "category_item.clean_out_trials_where_target_cluster_was_not_seen_for_a_long_time_before_capture()\n",
    "category_item.make_polar_plot_of_target_last_seen_positions()\n",
    "category_item.make_histograms_of_target_last_seen_attributes()\n",
    "category_item.make_histogram_of_distances_from_previous_targets()\n",
    "category_item.make_polar_plot_of_positions_from_previous_targets()\n",
    "\n",
    "\n",
    "category_item.plot_trajectories(trials=category_item.sort_1_trials[17:18], null_arc_info_for_plotting=null_arc_info_for_plotting)\n",
    "category_item.plot_distributions_of_visible_ff_and_in_memory_ff()\n",
    "gnb = GaussianNB()"
   ]
  },
  {
   "cell_type": "code",
   "execution_count": null,
   "metadata": {},
   "outputs": [],
   "source": [
    "\n",
    "category_item.make_and_visualize_free_selection_predictions_using_trained_model(trained_model = gnb, max_plot_to_make = 2)\n",
    "\n",
    "#category_item.inspect_special_cases(weird_trials=[98, 180, 212, 649])"
   ]
  },
  {
   "cell_type": "markdown",
   "metadata": {},
   "source": [
    "## plot_trajectories"
   ]
  },
  {
   "cell_type": "code",
   "execution_count": null,
   "metadata": {},
   "outputs": [],
   "source": [
    "current_i = 30"
   ]
  },
  {
   "cell_type": "code",
   "execution_count": null,
   "metadata": {},
   "outputs": [],
   "source": [
    "reload(specific_utils)\n",
    "reload(plot_trials)\n",
    "category_item.plot_trajectories(trials=category_item.sort_1_trials[current_i:current_i+2], null_arc_info_for_plotting=null_arc_info_for_plotting)\n",
    "current_i = current_i+2"
   ]
  },
  {
   "cell_type": "markdown",
   "metadata": {},
   "source": [
    "## 724"
   ]
  },
  {
   "cell_type": "code",
   "execution_count": null,
   "metadata": {},
   "outputs": [],
   "source": [
    "null_arc_to_center_info_for_plotting[null_arc_to_center_info_for_plotting['arc_point_index']==112997]"
   ]
  },
  {
   "cell_type": "code",
   "execution_count": null,
   "metadata": {},
   "outputs": [],
   "source": [
    "reload(plot_behaviors_utils)\n",
    "reload(plot_trials)\n",
    "reload(show_null_trajectory)\n",
    "# update the figure size of rcParams\n",
    "plt.rcParams['figure.figsize'] = [9, 9]\n",
    "duration_to_plot = [1856.504211, 1862.693883]\n",
    "\n",
    "max_num_plot_to_make = 1\n",
    "ff_indices_to_plot_null_arc = np.array([908, 723, 724])\n",
    "intended_target_ff_index = None #749\n",
    "point_indices_to_plot_null_arc = None #[10147]\n",
    "pretty_null_arc_plot_kwargs_temp = pretty_null_arc_plot_kwargs.copy()\n",
    "pretty_null_arc_plot_kwargs_temp['show_believed_target_positions'] = True\n",
    "#pretty_null_arc_plot_kwargs_temp['show_connect_path_ff_specific_indices'] = np.array([668, 656, 657, 704, 797, 798, 824, 658])\n",
    "pretty_null_arc_plot_kwargs_temp['vary_color_for_connecting_path_ff'] = True\n",
    "pretty_null_arc_plot_kwargs_temp['show_reward_boundary'] = False\n",
    "pretty_null_arc_plot_kwargs_temp['how_to_show_ff_for_visible_segments'] = 'circle'\n",
    "\n",
    "time_to_begin_plotting_null_arc = None\n",
    "time_between_every_two_null_arcs = 0.3\n",
    "\n",
    "\n",
    "\n",
    "show_null_trajectory.make_pretty_plot_for_a_duration(duration_to_plot, best_arc_df, monkey_information, ff_dataframe, null_arc_info_for_plotting, null_arc_to_center_info_for_plotting, PlotTrials_args, pretty_null_arc_plot_kwargs_temp, intended_target_ff_index=intended_target_ff_index,\n",
    "                                        plot_null_arcs= True, ff_max_distance_to_intended_target=230, ff_max_distance_to_path=400, time_between_every_two_null_arcs=time_between_every_two_null_arcs, time_to_begin_plotting_null_arc=time_to_begin_plotting_null_arc, time_to_end_plotting_null_arc=None, max_num_plot_to_make=max_num_plot_to_make,\n",
    "                                        show_intended_target=False, show_ff_indices=True, point_indices_to_plot_null_arc=point_indices_to_plot_null_arc, ff_indices_to_plot_null_arc=ff_indices_to_plot_null_arc, whether_mark_path_where_intended_target_has_best_arc_among_all_ff=False, \n",
    "                                        )\n"
   ]
  },
  {
   "cell_type": "markdown",
   "metadata": {},
   "source": [
    "# Give up after trying"
   ]
  },
  {
   "cell_type": "markdown",
   "metadata": {},
   "source": [
    "## GUAT_cluster_df"
   ]
  },
  {
   "cell_type": "code",
   "execution_count": null,
   "metadata": {},
   "outputs": [],
   "source": [
    "## if I want to use manual_anno for GUAT_item\n",
    "# dm = decision_making_class.DecisionMaking(ff_dataframe, ff_caught_T_new, ff_real_position_sorted, monkey_information)\n",
    "# dm.retrieve_manual_anno()\n",
    "# manual_anno = dm.manual_anno"
   ]
  },
  {
   "cell_type": "code",
   "execution_count": null,
   "metadata": {},
   "outputs": [],
   "source": [
    "reload(process_GUAT_trials_class)\n",
    "pseudo_manual_anno, pseudo_manual_anno_long = decision_making_utils.make_pseudo_manual_anno(best_arc_df, monkey_information, ff_caught_T_new)\n",
    "\n",
    "GUAT_item = process_GUAT_trials_class.ProcessGUATtrials(data_item.give_up_after_trying_info_bundle, \\\n",
    "                                                        PlotTrials_args, max_distance_to_stop_for_GUAT_target=50, max_allowed_time_since_last_vis=2.5)\n",
    "GUAT_item.find_possible_objects_of_pursuit_in_GUAT()\n",
    "GUAT_item.find_GUAT_ff_aimed_at_from_manual_anno(pseudo_manual_anno)\n",
    "GUAT_item.check_GUAT_object_with_manual_anno(verbose=False)\n",
    "#GUAT_item.inspect_clusters_w_o_matching_ff()\n",
    "GUAT_item.make_GUAT_cluster_df()"
   ]
  },
  {
   "cell_type": "code",
   "execution_count": null,
   "metadata": {},
   "outputs": [],
   "source": [
    "GUAT_item.check_GUAT_object_with_manual_anno(verbose=True)"
   ]
  },
  {
   "cell_type": "code",
   "execution_count": null,
   "metadata": {},
   "outputs": [],
   "source": [
    "GUAT_item.inspect_clusters_w_o_matching_ff(max_plots=1)"
   ]
  },
  {
   "cell_type": "markdown",
   "metadata": {},
   "source": [
    "## Compare with TAFT"
   ]
  },
  {
   "cell_type": "code",
   "execution_count": null,
   "metadata": {},
   "outputs": [],
   "source": [
    "try_a_few_times_trials = data_item.try_a_few_times_trials\n",
    "give_up_after_trying_trials = data_item.give_up_after_trying_trials\n",
    "\n",
    "target_cluster_TAFT = target_clust_last_vis_df[target_clust_last_vis_df['target_index'].isin(try_a_few_times_trials)]\n",
    "target_cluster_GUAT = target_clust_last_vis_df[target_clust_last_vis_df['target_index'].isin(give_up_after_trying_trials)]\n",
    "\n",
    "sort_1_df = target_cluster_TAFT\n",
    "sort_1_trials = sort_1_df.target_index.values\n",
    "sort_1_name = \"Try a few times\"\n",
    "\n",
    "sort_2_df = GUAT_cluster_df\n",
    "sort_2_trials = sort_2_df.target_index.values\n",
    "sort_2_name = \"Give up after trying\"\n",
    "sort_2_ff_indices = GUAT_cluster_df.last_vis_ff_index.values\n",
    "\n",
    "category_item = category_class.ProcessCategoryData(sort_1_trials=sort_1_trials, sort_2_trials=sort_2_trials,\n",
    "                                                              sort_1_name=sort_1_name, sort_2_name=sort_2_name, \n",
    "                                                              sort_1_df=sort_1_df, sort_2_df=sort_2_df,\n",
    "                                                              sort_2_ff_indices = sort_2_ff_indices,\n",
    "                                                              sort_2_ff_positions = ff_real_position_sorted[sort_2_ff_indices],                                                             \n",
    "                                                              PlotTrials_args=PlotTrials_args, ff_flash_sorted=ff_flash_sorted)"
   ]
  },
  {
   "cell_type": "code",
   "execution_count": null,
   "metadata": {},
   "outputs": [],
   "source": [
    "\n",
    "category_item.clean_out_cross_boundary_trials()\n",
    "category_item.clean_out_trials_where_target_cluster_was_not_seen_for_a_long_time_before_capture()\n",
    "category_item.make_polar_plot_of_target_last_seen_positions()\n",
    "category_item.make_histograms_of_target_last_seen_attributes()\n",
    "category_item.make_histogram_of_distances_from_previous_targets()\n",
    "category_item.make_polar_plot_of_positions_from_previous_targets()\n",
    "\n",
    "category_item.plot_trajectories(trials=category_item.sort_1_trials[17:18], null_arc_info_for_plotting=null_arc_info_for_plotting)\n",
    "category_item.plot_distributions_of_visible_ff_and_in_memory_ff()\n",
    "## the below function (free selection prediction) shouldn't be used on GUAT. So far, it should only be used on VBLO.\n",
    "# category_item.make_and_visualize_free_selection_predictions_using_trained_model(trained_model = gnb, max_plot_to_make = 99)\n",
    "# category_item.inspect_special_cases(weird_trials=[98, 180, 212, 649])"
   ]
  },
  {
   "cell_type": "markdown",
   "metadata": {},
   "source": [
    "## Compared with the rest"
   ]
  },
  {
   "cell_type": "code",
   "execution_count": null,
   "metadata": {},
   "outputs": [],
   "source": [
    "give_up_after_trying_trials = data_item.give_up_after_trying_trials\n",
    "\n",
    "target_cluster_no_flash_after_stopn_GUAT = target_clust_last_vis_df[~target_clust_last_vis_df['target_index'].isin(give_up_after_trying_trials)]\n",
    "target_cluster_GUAT = target_clust_last_vis_df[target_clust_last_vis_df['target_index'].isin(give_up_after_trying_trials)]\n",
    "\n",
    "sort_1_df = target_cluster_no_flash_after_stopn_GUAT\n",
    "sort_1_trials = sort_1_df.target_index.values\n",
    "sort_1_name = \"Non-GUAT\"\n",
    "\n",
    "sort_2_df = GUAT_cluster_df\n",
    "sort_2_trials = sort_2_df.target_index.values\n",
    "sort_2_name = \"Give up after trying\"\n",
    "sort_2_ff_indices = GUAT_cluster_df.last_vis_ff_index.values\n",
    "sort_2_time_for_predicting_ff = GUAT_cluster_df.latest_visible_time_before_last_stop.values\n",
    "\n",
    "category_item = category_class.ProcessCategoryData(sort_1_trials=sort_1_trials, sort_2_trials=sort_2_trials,\n",
    "                                                              sort_1_name=sort_1_name, sort_2_name=sort_2_name, \n",
    "                                                              sort_1_df=sort_1_df, sort_2_df=sort_2_df,\n",
    "                                                              sort_2_ff_indices = sort_2_ff_indices,\n",
    "                                                              sort_2_ff_positions = ff_real_position_sorted[sort_2_ff_indices],   \n",
    "                                                              sort_2_time_for_predicting_ff = sort_2_time_for_predicting_ff,                                                       \n",
    "                                                              PlotTrials_args=PlotTrials_args, ff_flash_sorted=ff_flash_sorted)"
   ]
  },
  {
   "cell_type": "code",
   "execution_count": null,
   "metadata": {},
   "outputs": [],
   "source": [
    "category_item.clean_out_cross_boundary_trials()\n",
    "category_item.clean_out_trials_where_target_cluster_was_not_seen_for_a_long_time_before_capture()\n",
    "category_item.make_polar_plot_of_target_last_seen_positions()\n",
    "category_item.make_histograms_of_target_last_seen_attributes()\n",
    "category_item.make_histogram_of_distances_from_previous_targets()\n",
    "category_item.make_polar_plot_of_positions_from_previous_targets()\n",
    "category_item.plot_trajectories(trials=category_item.sort_1_trials[17:18], null_arc_info_for_plotting=null_arc_info_for_plotting)\n",
    "category_item.plot_distributions_of_visible_ff_and_in_memory_ff()\n",
    "## The function below (free selection prediction) shouldn't be used on GUAT. So far, it should only be used on VBLO.\n",
    "category_item.make_and_visualize_free_selection_predictions_using_trained_model(trained_model = gnb, use_sort_1=False, use_sort_2=True, max_plot_to_make=3)\n",
    "# category_item.inspect_special_cases(weird_trials=[98, 180, 212, 649])"
   ]
  },
  {
   "cell_type": "markdown",
   "metadata": {},
   "source": [
    "## plot_trajectories"
   ]
  },
  {
   "cell_type": "code",
   "execution_count": null,
   "metadata": {},
   "outputs": [],
   "source": [
    "current_i = 60"
   ]
  },
  {
   "cell_type": "code",
   "execution_count": null,
   "metadata": {},
   "outputs": [],
   "source": [
    "reload(specific_utils)\n",
    "reload(plot_trials)\n",
    "null_arc_info_for_plotting_temp = null_arc_info_for_plotting.copy()\n",
    "null_arc_info_for_plotting_temp['show_connect_path_ff'] = True\n",
    "category_item.plot_trajectories(trials=category_item.sort_2_trials[current_i:current_i+2], null_arc_info_for_plotting=null_arc_info_for_plotting_temp)\n",
    "current_i = current_i+2"
   ]
  },
  {
   "cell_type": "markdown",
   "metadata": {},
   "source": [
    "## 489 (Bruno 0330)"
   ]
  },
  {
   "cell_type": "code",
   "execution_count": null,
   "metadata": {},
   "outputs": [],
   "source": [
    "\n",
    "reload(plot_behaviors_utils)\n",
    "reload(plot_trials)\n",
    "reload(show_null_trajectory)\n",
    "# update the figure size of rcParams\n",
    "plt.rcParams['figure.figsize'] = [9, 9]\n",
    "duration_to_plot = [1254, 1262]\n",
    "max_num_plot_to_make = 1\n",
    "ff_indices_to_plot_null_arc = np.array([1042, 1241, 489, 685, 744])\n",
    "intended_target_ff_index = 1241\n",
    "point_indices_to_plot_null_arc = None #[10147]\n",
    "pretty_null_arc_plot_kwargs_temp = pretty_null_arc_plot_kwargs.copy()\n",
    "pretty_null_arc_plot_kwargs_temp['show_believed_target_positions'] = False\n",
    "pretty_null_arc_plot_kwargs_temp['show_connect_path_ff_specific_indices'] = np.array([1042, 1241, 489, 685, 744])\n",
    "pretty_null_arc_plot_kwargs_temp['vary_color_for_connecting_path_ff'] = True\n",
    "pretty_null_arc_plot_kwargs_temp['show_reward_boundary'] = False\n",
    "pretty_null_arc_plot_kwargs_temp['how_to_show_ff_for_visible_segments'] = 'circle'\n",
    "\n",
    "time_to_begin_plotting_null_arc = duration_to_plot[0] + 3\n",
    "time_between_every_two_null_arcs = 0.3\n",
    "\n",
    "\n",
    "show_null_trajectory.make_pretty_plot_for_a_duration(duration_to_plot, best_arc_df, monkey_information, ff_dataframe, null_arc_info_for_plotting, null_arc_to_center_info_for_plotting, PlotTrials_args, pretty_null_arc_plot_kwargs_temp, intended_target_ff_index=intended_target_ff_index,\n",
    "                                        plot_null_arcs= True, ff_max_distance_to_intended_target=400, ff_max_distance_to_path=400, time_between_every_two_null_arcs=time_between_every_two_null_arcs, time_to_begin_plotting_null_arc=time_to_begin_plotting_null_arc, time_to_end_plotting_null_arc=None, max_num_plot_to_make=max_num_plot_to_make,\n",
    "                                        show_intended_target=False, show_ff_indices=False, point_indices_to_plot_null_arc=point_indices_to_plot_null_arc, ff_indices_to_plot_null_arc=ff_indices_to_plot_null_arc, whether_mark_path_where_intended_target_has_best_arc_among_all_ff=False, \n",
    "                                        )"
   ]
  },
  {
   "cell_type": "markdown",
   "metadata": {},
   "source": [
    "## 567 ??"
   ]
  },
  {
   "cell_type": "code",
   "execution_count": null,
   "metadata": {},
   "outputs": [],
   "source": [
    "reload(plot_behaviors_utils)\n",
    "reload(plot_trials)\n",
    "reload(show_null_trajectory)\n",
    "# update the figure size of rcParams\n",
    "plt.rcParams['figure.figsize'] = [9, 9]\n",
    "duration_to_plot = [1469.670162, 1475.0996949999999]\n",
    "max_num_plot_to_make = 1\n",
    "ff_indices_to_plot_null_arc = np.array([780, 703, 655, 567])\n",
    "intended_target_ff_index = None #1241\n",
    "point_indices_to_plot_null_arc = None #[10147]\n",
    "pretty_null_arc_plot_kwargs_temp = pretty_null_arc_plot_kwargs.copy()\n",
    "pretty_null_arc_plot_kwargs_temp['show_believed_target_positions'] = True\n",
    "pretty_null_arc_plot_kwargs_temp['show_connect_path_ff_specific_indices'] = np.array([1042, 1241, 489, 685, 744])\n",
    "pretty_null_arc_plot_kwargs_temp['vary_color_for_connecting_path_ff'] = True\n",
    "pretty_null_arc_plot_kwargs_temp['show_reward_boundary'] = False\n",
    "pretty_null_arc_plot_kwargs_temp['how_to_show_ff_for_visible_segments'] = 'circle'\n",
    "\n",
    "time_to_begin_plotting_null_arc = duration_to_plot[0] + 3\n",
    "time_between_every_two_null_arcs = 0.3\n",
    "\n",
    "\n",
    "show_null_trajectory.make_pretty_plot_for_a_duration(duration_to_plot, best_arc_df, monkey_information, ff_dataframe, null_arc_info_for_plotting, null_arc_to_center_info_for_plotting, PlotTrials_args, pretty_null_arc_plot_kwargs_temp, intended_target_ff_index=intended_target_ff_index,\n",
    "                                        plot_null_arcs= True, ff_max_distance_to_intended_target=400, ff_max_distance_to_path=400, time_between_every_two_null_arcs=time_between_every_two_null_arcs, time_to_begin_plotting_null_arc=time_to_begin_plotting_null_arc, time_to_end_plotting_null_arc=None, max_num_plot_to_make=max_num_plot_to_make,\n",
    "                                        show_intended_target=False, show_ff_indices=True, point_indices_to_plot_null_arc=point_indices_to_plot_null_arc, ff_indices_to_plot_null_arc=ff_indices_to_plot_null_arc, whether_mark_path_where_intended_target_has_best_arc_among_all_ff=False, \n",
    "                                        )"
   ]
  },
  {
   "cell_type": "markdown",
   "metadata": {},
   "source": [
    "## 575 ?"
   ]
  },
  {
   "cell_type": "code",
   "execution_count": null,
   "metadata": {},
   "outputs": [],
   "source": [
    "reload(plot_behaviors_utils)\n",
    "reload(plot_trials)\n",
    "reload(show_null_trajectory)\n",
    "# update the figure size of rcParams\n",
    "plt.rcParams['figure.figsize'] = [9, 9]\n",
    "duration_to_plot = [1483.929318, 1489.226027]\n",
    "max_num_plot_to_make = 1\n",
    "ff_indices_to_plot_null_arc = np.array([575, 576, 624, 1620, 1170, 1351])\n",
    "intended_target_ff_index = None #1241\n",
    "point_indices_to_plot_null_arc = None #[10147]\n",
    "pretty_null_arc_plot_kwargs_temp = pretty_null_arc_plot_kwargs.copy()\n",
    "pretty_null_arc_plot_kwargs_temp['show_believed_target_positions'] = False\n",
    "pretty_null_arc_plot_kwargs_temp['show_connect_path_ff_specific_indices'] = np.array([1042, 1241, 489, 685, 744])\n",
    "pretty_null_arc_plot_kwargs_temp['vary_color_for_connecting_path_ff'] = True\n",
    "pretty_null_arc_plot_kwargs_temp['show_reward_boundary'] = False\n",
    "pretty_null_arc_plot_kwargs_temp['how_to_show_ff_for_visible_segments'] = 'circle'\n",
    "\n",
    "time_to_begin_plotting_null_arc = duration_to_plot[0] + 3\n",
    "time_between_every_two_null_arcs = 0.3\n",
    "\n",
    "\n",
    "show_null_trajectory.make_pretty_plot_for_a_duration(duration_to_plot, best_arc_df, monkey_information, ff_dataframe, null_arc_info_for_plotting, null_arc_to_center_info_for_plotting, PlotTrials_args, pretty_null_arc_plot_kwargs_temp, intended_target_ff_index=intended_target_ff_index,\n",
    "                                        plot_null_arcs= True, ff_max_distance_to_intended_target=400, ff_max_distance_to_path=400, time_between_every_two_null_arcs=time_between_every_two_null_arcs, time_to_begin_plotting_null_arc=time_to_begin_plotting_null_arc, time_to_end_plotting_null_arc=None, max_num_plot_to_make=max_num_plot_to_make,\n",
    "                                        show_intended_target=False, show_ff_indices=False, point_indices_to_plot_null_arc=point_indices_to_plot_null_arc, ff_indices_to_plot_null_arc=ff_indices_to_plot_null_arc, whether_mark_path_where_intended_target_has_best_arc_among_all_ff=False, \n",
    "                                        )"
   ]
  },
  {
   "cell_type": "markdown",
   "metadata": {},
   "source": [
    "## 586"
   ]
  },
  {
   "cell_type": "code",
   "execution_count": null,
   "metadata": {},
   "outputs": [],
   "source": [
    "reload(plot_behaviors_utils)\n",
    "reload(plot_trials)\n",
    "reload(show_null_trajectory)\n",
    "# update the figure size of rcParams\n",
    "plt.rcParams['figure.figsize'] = [9, 9]\n",
    "duration_to_plot = [1504.795097, 1512.714639]\n",
    "max_num_plot_to_make = 1\n",
    "ff_indices_to_plot_null_arc = np.array([595])\n",
    "intended_target_ff_index = 595\n",
    "point_indices_to_plot_null_arc = None #[10147]\n",
    "pretty_null_arc_plot_kwargs_temp = pretty_null_arc_plot_kwargs.copy()\n",
    "pretty_null_arc_plot_kwargs_temp['show_believed_target_positions'] = False\n",
    "pretty_null_arc_plot_kwargs_temp['show_connect_path_ff_specific_indices'] = np.array([1042, 1241, 489, 685, 744])\n",
    "pretty_null_arc_plot_kwargs_temp['vary_color_for_connecting_path_ff'] = True\n",
    "pretty_null_arc_plot_kwargs_temp['show_reward_boundary'] = False\n",
    "pretty_null_arc_plot_kwargs_temp['how_to_show_ff_for_visible_segments'] = 'circle'\n",
    "\n",
    "time_to_begin_plotting_null_arc = duration_to_plot[0] + 3\n",
    "time_between_every_two_null_arcs = 0.3\n",
    "\n",
    "\n",
    "show_null_trajectory.make_pretty_plot_for_a_duration(duration_to_plot, best_arc_df, monkey_information, ff_dataframe, null_arc_info_for_plotting, null_arc_to_center_info_for_plotting, PlotTrials_args, pretty_null_arc_plot_kwargs_temp, intended_target_ff_index=intended_target_ff_index,\n",
    "                                        plot_null_arcs= True, ff_max_distance_to_intended_target=400, ff_max_distance_to_path=400, time_between_every_two_null_arcs=time_between_every_two_null_arcs, time_to_begin_plotting_null_arc=time_to_begin_plotting_null_arc, time_to_end_plotting_null_arc=None, max_num_plot_to_make=max_num_plot_to_make,\n",
    "                                        show_intended_target=False, show_ff_indices=True, point_indices_to_plot_null_arc=point_indices_to_plot_null_arc, ff_indices_to_plot_null_arc=ff_indices_to_plot_null_arc, whether_mark_path_where_intended_target_has_best_arc_among_all_ff=False, \n",
    "                                        )"
   ]
  },
  {
   "cell_type": "markdown",
   "metadata": {},
   "source": [
    "## 598 ??"
   ]
  },
  {
   "cell_type": "code",
   "execution_count": null,
   "metadata": {},
   "outputs": [],
   "source": [
    "reload(plot_behaviors_utils)\n",
    "reload(plot_trials)\n",
    "reload(show_null_trajectory)\n",
    "# update the figure size of rcParams\n",
    "plt.rcParams['figure.figsize'] = [9, 9]\n",
    "duration_to_plot = [1537.023148, 1542.046287]\n",
    "max_num_plot_to_make = 1\n",
    "ff_indices_to_plot_null_arc = np.array([598, 599, 627])\n",
    "intended_target_ff_index = 717\n",
    "point_indices_to_plot_null_arc = None #[10147]\n",
    "pretty_null_arc_plot_kwargs_temp = pretty_null_arc_plot_kwargs.copy()\n",
    "pretty_null_arc_plot_kwargs_temp['show_believed_target_positions'] = True\n",
    "#pretty_null_arc_plot_kwargs_temp['show_connect_path_ff_specific_indices'] = np.array([1042, 1241, 489, 685, 744])\n",
    "pretty_null_arc_plot_kwargs_temp['vary_color_for_connecting_path_ff'] = True\n",
    "pretty_null_arc_plot_kwargs_temp['show_reward_boundary'] = False\n",
    "pretty_null_arc_plot_kwargs_temp['how_to_show_ff_for_visible_segments'] = 'circle'\n",
    "\n",
    "time_to_begin_plotting_null_arc = duration_to_plot[0] + 3\n",
    "time_between_every_two_null_arcs = 0.3\n",
    "\n",
    "\n",
    "show_null_trajectory.make_pretty_plot_for_a_duration(duration_to_plot, best_arc_df, monkey_information, ff_dataframe, null_arc_info_for_plotting, null_arc_to_center_info_for_plotting, PlotTrials_args, pretty_null_arc_plot_kwargs_temp, intended_target_ff_index=intended_target_ff_index,\n",
    "                                        plot_null_arcs= True, ff_max_distance_to_intended_target=400, ff_max_distance_to_path=400, time_between_every_two_null_arcs=time_between_every_two_null_arcs, time_to_begin_plotting_null_arc=time_to_begin_plotting_null_arc, time_to_end_plotting_null_arc=None, max_num_plot_to_make=max_num_plot_to_make,\n",
    "                                        show_intended_target=False, show_ff_indices=True, point_indices_to_plot_null_arc=point_indices_to_plot_null_arc, ff_indices_to_plot_null_arc=ff_indices_to_plot_null_arc, whether_mark_path_where_intended_target_has_best_arc_among_all_ff=False, \n",
    "                                        )\n",
    "\n"
   ]
  },
  {
   "cell_type": "markdown",
   "metadata": {},
   "source": [
    "## 622"
   ]
  },
  {
   "cell_type": "code",
   "execution_count": null,
   "metadata": {},
   "outputs": [],
   "source": [
    "reload(plot_behaviors_utils)\n",
    "reload(plot_trials)\n",
    "reload(show_null_trajectory)\n",
    "# update the figure size of rcParams\n",
    "plt.rcParams['figure.figsize'] = [9, 9]\n",
    "duration_to_plot = [1594.507002, 1597.611809]\n",
    "max_num_plot_to_make = 1\n",
    "ff_indices_to_plot_null_arc = np.array([1351, 831, 856])\n",
    "intended_target_ff_index = 856\n",
    "point_indices_to_plot_null_arc = None #[10147]\n",
    "pretty_null_arc_plot_kwargs_temp = pretty_null_arc_plot_kwargs.copy()\n",
    "pretty_null_arc_plot_kwargs_temp['show_believed_target_positions'] = True\n",
    "pretty_null_arc_plot_kwargs_temp['show_connect_path_ff_specific_indices'] = np.array([1042, 1241, 489, 685, 744])\n",
    "pretty_null_arc_plot_kwargs_temp['vary_color_for_connecting_path_ff'] = True\n",
    "pretty_null_arc_plot_kwargs_temp['show_reward_boundary'] = False\n",
    "pretty_null_arc_plot_kwargs_temp['how_to_show_ff_for_visible_segments'] = 'circle'\n",
    "\n",
    "time_to_begin_plotting_null_arc = duration_to_plot[0] + 1\n",
    "time_between_every_two_null_arcs = 0.3\n",
    "\n",
    "\n",
    "show_null_trajectory.make_pretty_plot_for_a_duration(duration_to_plot, best_arc_df, monkey_information, ff_dataframe, null_arc_info_for_plotting, null_arc_to_center_info_for_plotting, PlotTrials_args, pretty_null_arc_plot_kwargs_temp, intended_target_ff_index=intended_target_ff_index,\n",
    "                                        plot_null_arcs= True, ff_max_distance_to_intended_target=400, ff_max_distance_to_path=400, time_between_every_two_null_arcs=time_between_every_two_null_arcs, time_to_begin_plotting_null_arc=time_to_begin_plotting_null_arc, time_to_end_plotting_null_arc=None, max_num_plot_to_make=max_num_plot_to_make,\n",
    "                                        show_intended_target=False, show_ff_indices=True, point_indices_to_plot_null_arc=point_indices_to_plot_null_arc, ff_indices_to_plot_null_arc=ff_indices_to_plot_null_arc, whether_mark_path_where_intended_target_has_best_arc_among_all_ff=False, \n",
    "                                        )"
   ]
  },
  {
   "cell_type": "markdown",
   "metadata": {},
   "source": [
    "## 636"
   ]
  },
  {
   "cell_type": "code",
   "execution_count": null,
   "metadata": {},
   "outputs": [],
   "source": [
    "reload(plot_behaviors_utils)\n",
    "reload(plot_trials)\n",
    "reload(show_null_trajectory)\n",
    "# update the figure size of rcParams\n",
    "plt.rcParams['figure.figsize'] = [9, 9]\n",
    "duration_to_plot = [1625.433097, 1629.310465]\n",
    "max_num_plot_to_make = 1\n",
    "ff_indices_to_plot_null_arc = np.array([1464, 878, 636, 974])\n",
    "intended_target_ff_index = 636\n",
    "point_indices_to_plot_null_arc = None #[10147]\n",
    "pretty_null_arc_plot_kwargs_temp = pretty_null_arc_plot_kwargs.copy()\n",
    "pretty_null_arc_plot_kwargs_temp['show_believed_target_positions'] = True\n",
    "pretty_null_arc_plot_kwargs_temp['show_connect_path_ff_specific_indices'] = np.array([1042, 1241, 489, 685, 744])\n",
    "pretty_null_arc_plot_kwargs_temp['vary_color_for_connecting_path_ff'] = True\n",
    "pretty_null_arc_plot_kwargs_temp['show_reward_boundary'] = False\n",
    "pretty_null_arc_plot_kwargs_temp['how_to_show_ff_for_visible_segments'] = 'circle'\n",
    "\n",
    "time_to_begin_plotting_null_arc = None\n",
    "time_between_every_two_null_arcs = 0.3\n",
    "\n",
    "\n",
    "show_null_trajectory.make_pretty_plot_for_a_duration(duration_to_plot, best_arc_df, monkey_information, ff_dataframe, null_arc_info_for_plotting, null_arc_to_center_info_for_plotting, PlotTrials_args, pretty_null_arc_plot_kwargs_temp, intended_target_ff_index=intended_target_ff_index,\n",
    "                                        plot_null_arcs= True, ff_max_distance_to_intended_target=400, ff_max_distance_to_path=400, time_between_every_two_null_arcs=time_between_every_two_null_arcs, time_to_begin_plotting_null_arc=time_to_begin_plotting_null_arc, time_to_end_plotting_null_arc=None, max_num_plot_to_make=max_num_plot_to_make,\n",
    "                                        show_intended_target=False, show_ff_indices=True, point_indices_to_plot_null_arc=point_indices_to_plot_null_arc, ff_indices_to_plot_null_arc=ff_indices_to_plot_null_arc, whether_mark_path_where_intended_target_has_best_arc_among_all_ff=False, \n",
    "                                        )"
   ]
  },
  {
   "cell_type": "markdown",
   "metadata": {},
   "source": [
    "## 641"
   ]
  },
  {
   "cell_type": "code",
   "execution_count": null,
   "metadata": {},
   "outputs": [],
   "source": [
    "reload(plot_behaviors_utils)\n",
    "reload(plot_trials)\n",
    "reload(show_null_trajectory)\n",
    "# update the figure size of rcParams\n",
    "plt.rcParams['figure.figsize'] = [9, 9]\n",
    "duration_to_plot = [1642, 1647]\n",
    "\n",
    "max_num_plot_to_make = 1\n",
    "ff_indices_to_plot_null_arc = np.array([726, 665])\n",
    "intended_target_ff_index = 726\n",
    "point_indices_to_plot_null_arc = None #[10147]\n",
    "pretty_null_arc_plot_kwargs_temp = pretty_null_arc_plot_kwargs.copy()\n",
    "pretty_null_arc_plot_kwargs_temp['show_believed_target_positions'] = False\n",
    "pretty_null_arc_plot_kwargs_temp['show_connect_path_ff_specific_indices'] = np.array([1042, 1241, 489, 685, 744])\n",
    "pretty_null_arc_plot_kwargs_temp['vary_color_for_connecting_path_ff'] = True\n",
    "pretty_null_arc_plot_kwargs_temp['show_reward_boundary'] = False\n",
    "pretty_null_arc_plot_kwargs_temp['how_to_show_ff_for_visible_segments'] = 'circle'\n",
    "\n",
    "time_to_begin_plotting_null_arc = None\n",
    "time_between_every_two_null_arcs = 0.3\n",
    "\n",
    "\n",
    "show_null_trajectory.make_pretty_plot_for_a_duration(duration_to_plot, best_arc_df, monkey_information, ff_dataframe, null_arc_info_for_plotting, null_arc_to_center_info_for_plotting, PlotTrials_args, pretty_null_arc_plot_kwargs_temp, intended_target_ff_index=intended_target_ff_index,\n",
    "                                        plot_null_arcs= True, ff_max_distance_to_intended_target=400, ff_max_distance_to_path=400, time_between_every_two_null_arcs=time_between_every_two_null_arcs, time_to_begin_plotting_null_arc=time_to_begin_plotting_null_arc, time_to_end_plotting_null_arc=None, max_num_plot_to_make=max_num_plot_to_make,\n",
    "                                        show_intended_target=False, show_ff_indices=True, point_indices_to_plot_null_arc=point_indices_to_plot_null_arc, ff_indices_to_plot_null_arc=ff_indices_to_plot_null_arc, whether_mark_path_where_intended_target_has_best_arc_among_all_ff=False, \n",
    "                                        )"
   ]
  },
  {
   "cell_type": "markdown",
   "metadata": {},
   "source": [
    "## 641 (2) x"
   ]
  },
  {
   "cell_type": "code",
   "execution_count": null,
   "metadata": {},
   "outputs": [],
   "source": [
    "reload(plot_behaviors_utils)\n",
    "reload(plot_trials)\n",
    "reload(show_null_trajectory)\n",
    "# update the figure size of rcParams\n",
    "plt.rcParams['figure.figsize'] = [9, 9]\n",
    "duration_to_plot = [1646, 1652]\n",
    "\n",
    "max_num_plot_to_make = 1\n",
    "ff_indices_to_plot_null_arc = np.array([822, 641, 665])\n",
    "intended_target_ff_index = 822\n",
    "point_indices_to_plot_null_arc = None #[10147]\n",
    "pretty_null_arc_plot_kwargs_temp = pretty_null_arc_plot_kwargs.copy()\n",
    "pretty_null_arc_plot_kwargs_temp['show_believed_target_positions'] = True\n",
    "pretty_null_arc_plot_kwargs_temp['show_connect_path_ff_specific_indices'] = np.array([1042, 1241, 489, 685, 744])\n",
    "pretty_null_arc_plot_kwargs_temp['vary_color_for_connecting_path_ff'] = True\n",
    "pretty_null_arc_plot_kwargs_temp['show_reward_boundary'] = False\n",
    "pretty_null_arc_plot_kwargs_temp['how_to_show_ff_for_visible_segments'] = 'circle'\n",
    "\n",
    "time_to_begin_plotting_null_arc = None\n",
    "time_between_every_two_null_arcs = 0.3\n",
    "\n",
    "\n",
    "show_null_trajectory.make_pretty_plot_for_a_duration(duration_to_plot, best_arc_df, monkey_information, ff_dataframe, null_arc_info_for_plotting, null_arc_to_center_info_for_plotting, PlotTrials_args, pretty_null_arc_plot_kwargs_temp, intended_target_ff_index=intended_target_ff_index,\n",
    "                                        plot_null_arcs= True, ff_max_distance_to_intended_target=400, ff_max_distance_to_path=400, time_between_every_two_null_arcs=time_between_every_two_null_arcs, time_to_begin_plotting_null_arc=time_to_begin_plotting_null_arc, time_to_end_plotting_null_arc=None, max_num_plot_to_make=max_num_plot_to_make,\n",
    "                                        show_intended_target=False, show_ff_indices=True, point_indices_to_plot_null_arc=point_indices_to_plot_null_arc, ff_indices_to_plot_null_arc=ff_indices_to_plot_null_arc, whether_mark_path_where_intended_target_has_best_arc_among_all_ff=False, \n",
    "                                        )"
   ]
  },
  {
   "cell_type": "markdown",
   "metadata": {},
   "source": [
    "## 650 ?"
   ]
  },
  {
   "cell_type": "code",
   "execution_count": null,
   "metadata": {},
   "outputs": [],
   "source": [
    "reload(plot_behaviors_utils)\n",
    "reload(plot_trials)\n",
    "reload(show_null_trajectory)\n",
    "# update the figure size of rcParams\n",
    "plt.rcParams['figure.figsize'] = [9, 9]\n",
    "duration_to_plot = [1666.310034, 1671.855963]\n",
    "\n",
    "max_num_plot_to_make = 1\n",
    "ff_indices_to_plot_null_arc = np.array([1089, 694, 650])\n",
    "intended_target_ff_index = None#822\n",
    "point_indices_to_plot_null_arc = None #[10147]\n",
    "pretty_null_arc_plot_kwargs_temp = pretty_null_arc_plot_kwargs.copy()\n",
    "pretty_null_arc_plot_kwargs_temp['show_believed_target_positions'] = True\n",
    "pretty_null_arc_plot_kwargs_temp['show_connect_path_ff_specific_indices'] = np.array([1042, 1241, 489, 685, 744])\n",
    "pretty_null_arc_plot_kwargs_temp['vary_color_for_connecting_path_ff'] = True\n",
    "pretty_null_arc_plot_kwargs_temp['show_reward_boundary'] = False\n",
    "pretty_null_arc_plot_kwargs_temp['how_to_show_ff_for_visible_segments'] = 'circle'\n",
    "\n",
    "time_to_begin_plotting_null_arc = None\n",
    "time_between_every_two_null_arcs = 0.3\n",
    "\n",
    "\n",
    "show_null_trajectory.make_pretty_plot_for_a_duration(duration_to_plot, best_arc_df, monkey_information, ff_dataframe, null_arc_info_for_plotting, null_arc_to_center_info_for_plotting, PlotTrials_args, pretty_null_arc_plot_kwargs_temp, intended_target_ff_index=intended_target_ff_index,\n",
    "                                        plot_null_arcs= True, ff_max_distance_to_intended_target=400, ff_max_distance_to_path=400, time_between_every_two_null_arcs=time_between_every_two_null_arcs, time_to_begin_plotting_null_arc=time_to_begin_plotting_null_arc, time_to_end_plotting_null_arc=None, max_num_plot_to_make=max_num_plot_to_make,\n",
    "                                        show_intended_target=False, show_ff_indices=True, point_indices_to_plot_null_arc=point_indices_to_plot_null_arc, ff_indices_to_plot_null_arc=ff_indices_to_plot_null_arc, whether_mark_path_where_intended_target_has_best_arc_among_all_ff=False, \n",
    "                                        )"
   ]
  },
  {
   "cell_type": "markdown",
   "metadata": {},
   "source": [
    "## 653"
   ]
  },
  {
   "cell_type": "code",
   "execution_count": null,
   "metadata": {},
   "outputs": [],
   "source": [
    "reload(plot_behaviors_utils)\n",
    "reload(plot_trials)\n",
    "reload(show_null_trajectory)\n",
    "# update the figure size of rcParams\n",
    "plt.rcParams['figure.figsize'] = [9, 9]\n",
    "duration_to_plot = [1674.543492, 1681.62897]\n",
    "\n",
    "max_num_plot_to_make = 1\n",
    "ff_indices_to_plot_null_arc = np.array([708, 660, 820])\n",
    "intended_target_ff_index = 820\n",
    "point_indices_to_plot_null_arc = None #[10147]\n",
    "pretty_null_arc_plot_kwargs_temp = pretty_null_arc_plot_kwargs.copy()\n",
    "pretty_null_arc_plot_kwargs_temp['show_believed_target_positions'] = True\n",
    "pretty_null_arc_plot_kwargs_temp['show_connect_path_ff_specific_indices'] = np.array([1042, 1241, 489, 685, 744])\n",
    "pretty_null_arc_plot_kwargs_temp['vary_color_for_connecting_path_ff'] = True\n",
    "pretty_null_arc_plot_kwargs_temp['show_reward_boundary'] = False\n",
    "pretty_null_arc_plot_kwargs_temp['how_to_show_ff_for_visible_segments'] = 'circle'\n",
    "\n",
    "time_to_begin_plotting_null_arc = None\n",
    "time_between_every_two_null_arcs = 0.3\n",
    "\n",
    "\n",
    "show_null_trajectory.make_pretty_plot_for_a_duration(duration_to_plot, best_arc_df, monkey_information, ff_dataframe, null_arc_info_for_plotting, null_arc_to_center_info_for_plotting, PlotTrials_args, pretty_null_arc_plot_kwargs_temp, intended_target_ff_index=intended_target_ff_index,\n",
    "                                        plot_null_arcs= True, ff_max_distance_to_intended_target=400, ff_max_distance_to_path=400, time_between_every_two_null_arcs=time_between_every_two_null_arcs, time_to_begin_plotting_null_arc=time_to_begin_plotting_null_arc, time_to_end_plotting_null_arc=None, max_num_plot_to_make=max_num_plot_to_make,\n",
    "                                        show_intended_target=False, show_ff_indices=True, point_indices_to_plot_null_arc=point_indices_to_plot_null_arc, ff_indices_to_plot_null_arc=ff_indices_to_plot_null_arc, whether_mark_path_where_intended_target_has_best_arc_among_all_ff=False, \n",
    "                                        )"
   ]
  },
  {
   "cell_type": "markdown",
   "metadata": {},
   "source": [
    "## 653 (2)"
   ]
  },
  {
   "cell_type": "code",
   "execution_count": null,
   "metadata": {},
   "outputs": [],
   "source": [
    "reload(plot_behaviors_utils)\n",
    "reload(plot_trials)\n",
    "reload(show_null_trajectory)\n",
    "# update the figure size of rcParams\n",
    "plt.rcParams['figure.figsize'] = [9, 9]\n",
    "duration_to_plot = [1677.543492, 1683.62897]\n",
    "\n",
    "max_num_plot_to_make = 1\n",
    "ff_indices_to_plot_null_arc = np.array([708, 690, 771, 653, 789])\n",
    "intended_target_ff_index = 708\n",
    "point_indices_to_plot_null_arc = None #[10147]\n",
    "pretty_null_arc_plot_kwargs_temp = pretty_null_arc_plot_kwargs.copy()\n",
    "pretty_null_arc_plot_kwargs_temp['show_believed_target_positions'] = True\n",
    "pretty_null_arc_plot_kwargs_temp['show_connect_path_ff_specific_indices'] = np.array([1042, 1241, 489, 685, 744])\n",
    "pretty_null_arc_plot_kwargs_temp['vary_color_for_connecting_path_ff'] = True\n",
    "pretty_null_arc_plot_kwargs_temp['show_reward_boundary'] = False\n",
    "pretty_null_arc_plot_kwargs_temp['how_to_show_ff_for_visible_segments'] = 'circle'\n",
    "\n",
    "time_to_begin_plotting_null_arc = None\n",
    "time_between_every_two_null_arcs = 0.3\n",
    "\n",
    "\n",
    "show_null_trajectory.make_pretty_plot_for_a_duration(duration_to_plot, best_arc_df, monkey_information, ff_dataframe, null_arc_info_for_plotting, null_arc_to_center_info_for_plotting, PlotTrials_args, pretty_null_arc_plot_kwargs_temp, intended_target_ff_index=intended_target_ff_index,\n",
    "                                        plot_null_arcs= True, ff_max_distance_to_intended_target=400, ff_max_distance_to_path=400, time_between_every_two_null_arcs=time_between_every_two_null_arcs, time_to_begin_plotting_null_arc=time_to_begin_plotting_null_arc, time_to_end_plotting_null_arc=None, max_num_plot_to_make=max_num_plot_to_make,\n",
    "                                        show_intended_target=False, show_ff_indices=True, point_indices_to_plot_null_arc=point_indices_to_plot_null_arc, ff_indices_to_plot_null_arc=ff_indices_to_plot_null_arc, whether_mark_path_where_intended_target_has_best_arc_among_all_ff=False, \n",
    "                                        )"
   ]
  },
  {
   "cell_type": "markdown",
   "metadata": {},
   "source": [
    "## 658 (too hard to see)"
   ]
  },
  {
   "cell_type": "code",
   "execution_count": null,
   "metadata": {},
   "outputs": [],
   "source": [
    "reload(plot_behaviors_utils)\n",
    "reload(plot_trials)\n",
    "reload(show_null_trajectory)\n",
    "# update the figure size of rcParams\n",
    "plt.rcParams['figure.figsize'] = [9, 9]\n",
    "duration_to_plot = [1684.973395, 1692.555617]\n",
    "\n",
    "max_num_plot_to_make = 1\n",
    "ff_indices_to_plot_null_arc = np.array([668, 656, 657, 704, 797, 798, 824, 658])\n",
    "intended_target_ff_index = None # 658\n",
    "point_indices_to_plot_null_arc = None #[10147]\n",
    "pretty_null_arc_plot_kwargs_temp = pretty_null_arc_plot_kwargs.copy()\n",
    "pretty_null_arc_plot_kwargs_temp['show_believed_target_positions'] = True\n",
    "pretty_null_arc_plot_kwargs_temp['show_connect_path_ff_specific_indices'] = np.array([668, 656, 657, 704, 797, 798, 824, 658])\n",
    "pretty_null_arc_plot_kwargs_temp['vary_color_for_connecting_path_ff'] = True\n",
    "pretty_null_arc_plot_kwargs_temp['show_reward_boundary'] = False\n",
    "pretty_null_arc_plot_kwargs_temp['how_to_show_ff_for_visible_segments'] = 'circle'\n",
    "\n",
    "time_to_begin_plotting_null_arc = None\n",
    "time_between_every_two_null_arcs = 0.3\n",
    "\n",
    "\n",
    "show_null_trajectory.make_pretty_plot_for_a_duration(duration_to_plot, best_arc_df, monkey_information, ff_dataframe, null_arc_info_for_plotting, null_arc_to_center_info_for_plotting, PlotTrials_args, pretty_null_arc_plot_kwargs_temp, intended_target_ff_index=intended_target_ff_index,\n",
    "                                        plot_null_arcs= True, ff_max_distance_to_intended_target=400, ff_max_distance_to_path=400, time_between_every_two_null_arcs=time_between_every_two_null_arcs, time_to_begin_plotting_null_arc=time_to_begin_plotting_null_arc, time_to_end_plotting_null_arc=None, max_num_plot_to_make=max_num_plot_to_make,\n",
    "                                        show_intended_target=False, show_ff_indices=True, point_indices_to_plot_null_arc=point_indices_to_plot_null_arc, ff_indices_to_plot_null_arc=ff_indices_to_plot_null_arc, whether_mark_path_where_intended_target_has_best_arc_among_all_ff=False, \n",
    "                                        )\n"
   ]
  },
  {
   "cell_type": "markdown",
   "metadata": {},
   "source": [
    "## 660 "
   ]
  },
  {
   "cell_type": "code",
   "execution_count": null,
   "metadata": {},
   "outputs": [],
   "source": [
    "reload(plot_behaviors_utils)\n",
    "reload(plot_trials)\n",
    "reload(show_null_trajectory)\n",
    "# update the figure size of rcParams\n",
    "plt.rcParams['figure.figsize'] = [9, 9]\n",
    "duration_to_plot = [1692.487749, 1697.950517]\n",
    "\n",
    "max_num_plot_to_make = 1\n",
    "ff_indices_to_plot_null_arc = np.array([751, 660, 820, 661])\n",
    "intended_target_ff_index = 751\n",
    "point_indices_to_plot_null_arc = None #[10147]\n",
    "pretty_null_arc_plot_kwargs_temp = pretty_null_arc_plot_kwargs.copy()\n",
    "pretty_null_arc_plot_kwargs_temp['show_believed_target_positions'] = True\n",
    "#pretty_null_arc_plot_kwargs_temp['show_connect_path_ff_specific_indices'] = np.array([668, 656, 657, 704, 797, 798, 824, 658])\n",
    "pretty_null_arc_plot_kwargs_temp['vary_color_for_connecting_path_ff'] = True\n",
    "pretty_null_arc_plot_kwargs_temp['show_reward_boundary'] = False\n",
    "pretty_null_arc_plot_kwargs_temp['how_to_show_ff_for_visible_segments'] = 'circle'\n",
    "\n",
    "time_to_begin_plotting_null_arc = None\n",
    "time_between_every_two_null_arcs = 0.3\n",
    "\n",
    "\n",
    "show_null_trajectory.make_pretty_plot_for_a_duration(duration_to_plot, best_arc_df, monkey_information, ff_dataframe, null_arc_info_for_plotting, null_arc_to_center_info_for_plotting, PlotTrials_args, pretty_null_arc_plot_kwargs_temp, intended_target_ff_index=intended_target_ff_index,\n",
    "                                        plot_null_arcs= True, ff_max_distance_to_intended_target=400, ff_max_distance_to_path=400, time_between_every_two_null_arcs=time_between_every_two_null_arcs, time_to_begin_plotting_null_arc=time_to_begin_plotting_null_arc, time_to_end_plotting_null_arc=None, max_num_plot_to_make=max_num_plot_to_make,\n",
    "                                        show_intended_target=False, show_ff_indices=True, point_indices_to_plot_null_arc=point_indices_to_plot_null_arc, ff_indices_to_plot_null_arc=ff_indices_to_plot_null_arc, whether_mark_path_where_intended_target_has_best_arc_among_all_ff=False, \n",
    "                                        )\n"
   ]
  },
  {
   "cell_type": "markdown",
   "metadata": {},
   "source": [
    "## 679"
   ]
  },
  {
   "cell_type": "code",
   "execution_count": null,
   "metadata": {},
   "outputs": [],
   "source": [
    "reload(plot_behaviors_utils)\n",
    "reload(plot_trials)\n",
    "reload(show_null_trajectory)\n",
    "# update the figure size of rcParams\n",
    "plt.rcParams['figure.figsize'] = [9, 9]\n",
    "duration_to_plot = [1752.16371, 1761.527301]\n",
    "\n",
    "max_num_plot_to_make = 1\n",
    "ff_indices_to_plot_null_arc = None #np.array()\n",
    "intended_target_ff_index = 728\n",
    "point_indices_to_plot_null_arc = None #[10147]\n",
    "pretty_null_arc_plot_kwargs_temp = pretty_null_arc_plot_kwargs.copy()\n",
    "pretty_null_arc_plot_kwargs_temp['show_believed_target_positions'] = True\n",
    "#pretty_null_arc_plot_kwargs_temp['show_connect_path_ff_specific_indices'] = np.array([668, 656, 657, 704, 797, 798, 824, 658])\n",
    "pretty_null_arc_plot_kwargs_temp['vary_color_for_connecting_path_ff'] = True\n",
    "pretty_null_arc_plot_kwargs_temp['show_reward_boundary'] = False\n",
    "pretty_null_arc_plot_kwargs_temp['how_to_show_ff_for_visible_segments'] = 'circle'\n",
    "\n",
    "time_to_begin_plotting_null_arc = None\n",
    "time_between_every_two_null_arcs = 0.3\n",
    "\n",
    "\n",
    "show_null_trajectory.make_pretty_plot_for_a_duration(duration_to_plot, best_arc_df, monkey_information, ff_dataframe, null_arc_info_for_plotting, null_arc_to_center_info_for_plotting, PlotTrials_args, pretty_null_arc_plot_kwargs_temp, intended_target_ff_index=intended_target_ff_index,\n",
    "                                        plot_null_arcs= True, ff_max_distance_to_intended_target=450, ff_max_distance_to_path=400, time_between_every_two_null_arcs=time_between_every_two_null_arcs, time_to_begin_plotting_null_arc=time_to_begin_plotting_null_arc, time_to_end_plotting_null_arc=None, max_num_plot_to_make=max_num_plot_to_make,\n",
    "                                        show_intended_target=False, show_ff_indices=True, point_indices_to_plot_null_arc=point_indices_to_plot_null_arc, ff_indices_to_plot_null_arc=ff_indices_to_plot_null_arc, whether_mark_path_where_intended_target_has_best_arc_among_all_ff=False, \n",
    "                                        )\n"
   ]
  },
  {
   "cell_type": "markdown",
   "metadata": {},
   "source": [
    "## 693"
   ]
  },
  {
   "cell_type": "code",
   "execution_count": null,
   "metadata": {},
   "outputs": [],
   "source": [
    "reload(plot_behaviors_utils)\n",
    "reload(plot_trials)\n",
    "reload(show_null_trajectory)\n",
    "# update the figure size of rcParams\n",
    "plt.rcParams['figure.figsize'] = [9, 9]\n",
    "duration_to_plot = [1791.986039, 1798.079852]\n",
    "\n",
    "max_num_plot_to_make = 1\n",
    "ff_indices_to_plot_null_arc = np.array([692, 693, 724])\n",
    "intended_target_ff_index = 724\n",
    "point_indices_to_plot_null_arc = None #[10147]\n",
    "pretty_null_arc_plot_kwargs_temp = pretty_null_arc_plot_kwargs.copy()\n",
    "pretty_null_arc_plot_kwargs_temp['show_believed_target_positions'] = True\n",
    "#pretty_null_arc_plot_kwargs_temp['show_connect_path_ff_specific_indices'] = np.array([668, 656, 657, 704, 797, 798, 824, 658])\n",
    "pretty_null_arc_plot_kwargs_temp['vary_color_for_connecting_path_ff'] = True\n",
    "pretty_null_arc_plot_kwargs_temp['show_reward_boundary'] = False\n",
    "pretty_null_arc_plot_kwargs_temp['how_to_show_ff_for_visible_segments'] = 'circle'\n",
    "\n",
    "time_to_begin_plotting_null_arc = None\n",
    "time_between_every_two_null_arcs = 0.3\n",
    "\n",
    "\n",
    "show_null_trajectory.make_pretty_plot_for_a_duration(duration_to_plot, best_arc_df, monkey_information, ff_dataframe, null_arc_info_for_plotting, null_arc_to_center_info_for_plotting, PlotTrials_args, pretty_null_arc_plot_kwargs_temp, intended_target_ff_index=intended_target_ff_index,\n",
    "                                        plot_null_arcs= True, ff_max_distance_to_intended_target=450, ff_max_distance_to_path=400, time_between_every_two_null_arcs=time_between_every_two_null_arcs, time_to_begin_plotting_null_arc=time_to_begin_plotting_null_arc, time_to_end_plotting_null_arc=None, max_num_plot_to_make=max_num_plot_to_make,\n",
    "                                        show_intended_target=False, show_ff_indices=True, point_indices_to_plot_null_arc=point_indices_to_plot_null_arc, ff_indices_to_plot_null_arc=ff_indices_to_plot_null_arc, whether_mark_path_where_intended_target_has_best_arc_among_all_ff=False, \n",
    "                                        )\n"
   ]
  },
  {
   "cell_type": "markdown",
   "metadata": {},
   "source": [
    "## 713"
   ]
  },
  {
   "cell_type": "code",
   "execution_count": null,
   "metadata": {},
   "outputs": [],
   "source": [
    "reload(plot_behaviors_utils)\n",
    "reload(plot_trials)\n",
    "reload(show_null_trajectory)\n",
    "# update the figure size of rcParams\n",
    "plt.rcParams['figure.figsize'] = [9, 9]\n",
    "duration_to_plot = [1831, 1836.149079]\n",
    "\n",
    "max_num_plot_to_make = 1\n",
    "ff_indices_to_plot_null_arc = None #np.array([692, 693, 724])\n",
    "intended_target_ff_index = 1492\n",
    "point_indices_to_plot_null_arc = None #[10147]\n",
    "pretty_null_arc_plot_kwargs_temp = pretty_null_arc_plot_kwargs.copy()\n",
    "pretty_null_arc_plot_kwargs_temp['show_believed_target_positions'] = True\n",
    "#pretty_null_arc_plot_kwargs_temp['show_connect_path_ff_specific_indices'] = np.array([668, 656, 657, 704, 797, 798, 824, 658])\n",
    "pretty_null_arc_plot_kwargs_temp['vary_color_for_connecting_path_ff'] = True\n",
    "pretty_null_arc_plot_kwargs_temp['show_reward_boundary'] = False\n",
    "pretty_null_arc_plot_kwargs_temp['how_to_show_ff_for_visible_segments'] = 'circle'\n",
    "\n",
    "time_to_begin_plotting_null_arc = None\n",
    "time_between_every_two_null_arcs = 0.3\n",
    "\n",
    "\n",
    "show_null_trajectory.make_pretty_plot_for_a_duration(duration_to_plot, best_arc_df, monkey_information, ff_dataframe, null_arc_info_for_plotting, null_arc_to_center_info_for_plotting, PlotTrials_args, pretty_null_arc_plot_kwargs_temp, intended_target_ff_index=intended_target_ff_index,\n",
    "                                        plot_null_arcs= True, ff_max_distance_to_intended_target=330, ff_max_distance_to_path=400, time_between_every_two_null_arcs=time_between_every_two_null_arcs, time_to_begin_plotting_null_arc=time_to_begin_plotting_null_arc, time_to_end_plotting_null_arc=None, max_num_plot_to_make=max_num_plot_to_make,\n",
    "                                        show_intended_target=False, show_ff_indices=True, point_indices_to_plot_null_arc=point_indices_to_plot_null_arc, ff_indices_to_plot_null_arc=ff_indices_to_plot_null_arc, whether_mark_path_where_intended_target_has_best_arc_among_all_ff=False, \n",
    "                                        )\n"
   ]
  },
  {
   "cell_type": "markdown",
   "metadata": {},
   "source": [
    "## 718"
   ]
  },
  {
   "cell_type": "code",
   "execution_count": null,
   "metadata": {},
   "outputs": [],
   "source": [
    "reload(plot_behaviors_utils)\n",
    "reload(plot_trials)\n",
    "reload(show_null_trajectory)\n",
    "# update the figure size of rcParams\n",
    "plt.rcParams['figure.figsize'] = [9, 9]\n",
    "duration_to_plot = [1838, 1843.994575]\n",
    "\n",
    "max_num_plot_to_make = 1\n",
    "ff_indices_to_plot_null_arc = np.array([717, 1401, 718, 845, 905])\n",
    "intended_target_ff_index = 1401\n",
    "point_indices_to_plot_null_arc = None #[10147]\n",
    "pretty_null_arc_plot_kwargs_temp = pretty_null_arc_plot_kwargs.copy()\n",
    "pretty_null_arc_plot_kwargs_temp['show_believed_target_positions'] = True\n",
    "#pretty_null_arc_plot_kwargs_temp['show_connect_path_ff_specific_indices'] = np.array([668, 656, 657, 704, 797, 798, 824, 658])\n",
    "pretty_null_arc_plot_kwargs_temp['vary_color_for_connecting_path_ff'] = True\n",
    "pretty_null_arc_plot_kwargs_temp['show_reward_boundary'] = False\n",
    "pretty_null_arc_plot_kwargs_temp['how_to_show_ff_for_visible_segments'] = 'circle'\n",
    "\n",
    "time_to_begin_plotting_null_arc = None\n",
    "time_between_every_two_null_arcs = 0.3\n",
    "\n",
    "\n",
    "show_null_trajectory.make_pretty_plot_for_a_duration(duration_to_plot, best_arc_df, monkey_information, ff_dataframe, null_arc_info_for_plotting, null_arc_to_center_info_for_plotting, PlotTrials_args, pretty_null_arc_plot_kwargs_temp, intended_target_ff_index=intended_target_ff_index,\n",
    "                                        plot_null_arcs= True, ff_max_distance_to_intended_target=230, ff_max_distance_to_path=400, time_between_every_two_null_arcs=time_between_every_two_null_arcs, time_to_begin_plotting_null_arc=time_to_begin_plotting_null_arc, time_to_end_plotting_null_arc=None, max_num_plot_to_make=max_num_plot_to_make,\n",
    "                                        show_intended_target=False, show_ff_indices=True, point_indices_to_plot_null_arc=point_indices_to_plot_null_arc, ff_indices_to_plot_null_arc=ff_indices_to_plot_null_arc, whether_mark_path_where_intended_target_has_best_arc_among_all_ff=False, \n",
    "                                        )\n"
   ]
  },
  {
   "cell_type": "markdown",
   "metadata": {},
   "source": [
    "## 723"
   ]
  },
  {
   "cell_type": "code",
   "execution_count": null,
   "metadata": {},
   "outputs": [],
   "source": [
    "reload(plot_behaviors_utils)\n",
    "reload(plot_trials)\n",
    "reload(show_null_trajectory)\n",
    "# update the figure size of rcParams\n",
    "plt.rcParams['figure.figsize'] = [9, 9]\n",
    "duration_to_plot = [1849.504211, 1854.4]\n",
    "\n",
    "max_num_plot_to_make = 1\n",
    "ff_indices_to_plot_null_arc = np.array([722, 749])\n",
    "intended_target_ff_index = 749\n",
    "point_indices_to_plot_null_arc = None #[10147]\n",
    "pretty_null_arc_plot_kwargs_temp = pretty_null_arc_plot_kwargs.copy()\n",
    "pretty_null_arc_plot_kwargs_temp['show_believed_target_positions'] = True\n",
    "#pretty_null_arc_plot_kwargs_temp['show_connect_path_ff_specific_indices'] = np.array([668, 656, 657, 704, 797, 798, 824, 658])\n",
    "pretty_null_arc_plot_kwargs_temp['vary_color_for_connecting_path_ff'] = True\n",
    "pretty_null_arc_plot_kwargs_temp['show_reward_boundary'] = False\n",
    "pretty_null_arc_plot_kwargs_temp['how_to_show_ff_for_visible_segments'] = 'circle'\n",
    "\n",
    "time_to_begin_plotting_null_arc = None\n",
    "time_between_every_two_null_arcs = 0.3\n",
    "\n",
    "\n",
    "show_null_trajectory.make_pretty_plot_for_a_duration(duration_to_plot, best_arc_df, monkey_information, ff_dataframe, null_arc_info_for_plotting, null_arc_to_center_info_for_plotting, PlotTrials_args, pretty_null_arc_plot_kwargs_temp, intended_target_ff_index=intended_target_ff_index,\n",
    "                                        plot_null_arcs= True, ff_max_distance_to_intended_target=230, ff_max_distance_to_path=400, time_between_every_two_null_arcs=time_between_every_two_null_arcs, time_to_begin_plotting_null_arc=time_to_begin_plotting_null_arc, time_to_end_plotting_null_arc=None, max_num_plot_to_make=max_num_plot_to_make,\n",
    "                                        show_intended_target=False, show_ff_indices=True, point_indices_to_plot_null_arc=point_indices_to_plot_null_arc, ff_indices_to_plot_null_arc=ff_indices_to_plot_null_arc, whether_mark_path_where_intended_target_has_best_arc_among_all_ff=False, \n",
    "                                        )\n"
   ]
  },
  {
   "cell_type": "markdown",
   "metadata": {},
   "source": [
    "## 730"
   ]
  },
  {
   "cell_type": "code",
   "execution_count": null,
   "metadata": {},
   "outputs": [],
   "source": [
    "reload(plot_behaviors_utils)\n",
    "reload(plot_trials)\n",
    "reload(show_null_trajectory)\n",
    "# update the figure size of rcParams\n",
    "plt.rcParams['figure.figsize'] = [9, 9]\n",
    "duration_to_plot = [1873.116986, 1878.281488]\n",
    "\n",
    "max_num_plot_to_make = 1\n",
    "ff_indices_to_plot_null_arc = np.array([1106])\n",
    "intended_target_ff_index = 1106\n",
    "point_indices_to_plot_null_arc = None #[10147]\n",
    "pretty_null_arc_plot_kwargs_temp = pretty_null_arc_plot_kwargs.copy()\n",
    "pretty_null_arc_plot_kwargs_temp['show_believed_target_positions'] = True\n",
    "#pretty_null_arc_plot_kwargs_temp['show_connect_path_ff_specific_indices'] = np.array([668, 656, 657, 704, 797, 798, 824, 658])\n",
    "pretty_null_arc_plot_kwargs_temp['vary_color_for_connecting_path_ff'] = True\n",
    "pretty_null_arc_plot_kwargs_temp['show_reward_boundary'] = False\n",
    "pretty_null_arc_plot_kwargs_temp['how_to_show_ff_for_visible_segments'] = 'circle'\n",
    "\n",
    "time_to_begin_plotting_null_arc = None\n",
    "time_between_every_two_null_arcs = 0.3\n",
    "\n",
    "\n",
    "show_null_trajectory.make_pretty_plot_for_a_duration(duration_to_plot, best_arc_df, monkey_information, ff_dataframe, null_arc_info_for_plotting, null_arc_to_center_info_for_plotting, PlotTrials_args, pretty_null_arc_plot_kwargs_temp, intended_target_ff_index=intended_target_ff_index,\n",
    "                                        plot_null_arcs= True, ff_max_distance_to_intended_target=230, ff_max_distance_to_path=400, time_between_every_two_null_arcs=time_between_every_two_null_arcs, time_to_begin_plotting_null_arc=time_to_begin_plotting_null_arc, time_to_end_plotting_null_arc=None, max_num_plot_to_make=max_num_plot_to_make,\n",
    "                                        show_intended_target=False, show_ff_indices=True, point_indices_to_plot_null_arc=point_indices_to_plot_null_arc, ff_indices_to_plot_null_arc=ff_indices_to_plot_null_arc, whether_mark_path_where_intended_target_has_best_arc_among_all_ff=False, \n",
    "                                        )\n"
   ]
  },
  {
   "cell_type": "markdown",
   "metadata": {},
   "source": [
    "## 751"
   ]
  },
  {
   "cell_type": "code",
   "execution_count": null,
   "metadata": {},
   "outputs": [],
   "source": [
    "reload(plot_behaviors_utils)\n",
    "reload(plot_trials)\n",
    "reload(show_null_trajectory)\n",
    "# update the figure size of rcParams\n",
    "plt.rcParams['figure.figsize'] = [9, 9]\n",
    "duration_to_plot = [1919.422092, 1926.644391]\n",
    "\n",
    "max_num_plot_to_make = 1\n",
    "ff_indices_to_plot_null_arc = np.array([876, 751])\n",
    "intended_target_ff_index = 876\n",
    "point_indices_to_plot_null_arc = None #[10147]\n",
    "pretty_null_arc_plot_kwargs_temp = pretty_null_arc_plot_kwargs.copy()\n",
    "pretty_null_arc_plot_kwargs_temp['show_believed_target_positions'] = True\n",
    "#pretty_null_arc_plot_kwargs_temp['show_connect_path_ff_specific_indices'] = np.array([668, 656, 657, 704, 797, 798, 824, 658])\n",
    "pretty_null_arc_plot_kwargs_temp['vary_color_for_connecting_path_ff'] = True\n",
    "pretty_null_arc_plot_kwargs_temp['show_reward_boundary'] = False\n",
    "pretty_null_arc_plot_kwargs_temp['how_to_show_ff_for_visible_segments'] = 'circle'\n",
    "\n",
    "time_to_begin_plotting_null_arc = None\n",
    "time_between_every_two_null_arcs = 0.3\n",
    "\n",
    "\n",
    "show_null_trajectory.make_pretty_plot_for_a_duration(duration_to_plot, best_arc_df, monkey_information, ff_dataframe, null_arc_info_for_plotting, null_arc_to_center_info_for_plotting, PlotTrials_args, pretty_null_arc_plot_kwargs_temp, intended_target_ff_index=intended_target_ff_index,\n",
    "                                        plot_null_arcs= True, ff_max_distance_to_intended_target=230, ff_max_distance_to_path=400, time_between_every_two_null_arcs=time_between_every_two_null_arcs, time_to_begin_plotting_null_arc=time_to_begin_plotting_null_arc, time_to_end_plotting_null_arc=None, max_num_plot_to_make=max_num_plot_to_make,\n",
    "                                        show_intended_target=False, show_ff_indices=True, point_indices_to_plot_null_arc=point_indices_to_plot_null_arc, ff_indices_to_plot_null_arc=ff_indices_to_plot_null_arc, whether_mark_path_where_intended_target_has_best_arc_among_all_ff=False, \n",
    "                                        )\n"
   ]
  },
  {
   "cell_type": "markdown",
   "metadata": {},
   "source": [
    "## 756"
   ]
  },
  {
   "cell_type": "code",
   "execution_count": null,
   "metadata": {},
   "outputs": [],
   "source": [
    "reload(plot_behaviors_utils)\n",
    "reload(plot_trials)\n",
    "reload(show_null_trajectory)\n",
    "# update the figure size of rcParams\n",
    "plt.rcParams['figure.figsize'] = [9, 9]\n",
    "duration_to_plot = [1934.510997, 1943.393497]\n",
    "\n",
    "max_num_plot_to_make = 1\n",
    "ff_indices_to_plot_null_arc = np.array([756, 1089, 1703])\n",
    "intended_target_ff_index = 1089\n",
    "point_indices_to_plot_null_arc = None #[10147]\n",
    "pretty_null_arc_plot_kwargs_temp = pretty_null_arc_plot_kwargs.copy()\n",
    "pretty_null_arc_plot_kwargs_temp['show_believed_target_positions'] = True\n",
    "#pretty_null_arc_plot_kwargs_temp['show_connect_path_ff_specific_indices'] = np.array([668, 656, 657, 704, 797, 798, 824, 658])\n",
    "pretty_null_arc_plot_kwargs_temp['vary_color_for_connecting_path_ff'] = True\n",
    "pretty_null_arc_plot_kwargs_temp['show_reward_boundary'] = False\n",
    "pretty_null_arc_plot_kwargs_temp['how_to_show_ff_for_visible_segments'] = 'circle'\n",
    "\n",
    "time_to_begin_plotting_null_arc = None\n",
    "time_between_every_two_null_arcs = 0.3\n",
    "\n",
    "\n",
    "show_null_trajectory.make_pretty_plot_for_a_duration(duration_to_plot, best_arc_df, monkey_information, ff_dataframe, null_arc_info_for_plotting, null_arc_to_center_info_for_plotting, PlotTrials_args, pretty_null_arc_plot_kwargs_temp, intended_target_ff_index=intended_target_ff_index,\n",
    "                                        plot_null_arcs= True, ff_max_distance_to_intended_target=230, ff_max_distance_to_path=400, time_between_every_two_null_arcs=time_between_every_two_null_arcs, time_to_begin_plotting_null_arc=time_to_begin_plotting_null_arc, time_to_end_plotting_null_arc=None, max_num_plot_to_make=max_num_plot_to_make,\n",
    "                                        show_intended_target=False, show_ff_indices=True, point_indices_to_plot_null_arc=point_indices_to_plot_null_arc, ff_indices_to_plot_null_arc=ff_indices_to_plot_null_arc, whether_mark_path_where_intended_target_has_best_arc_among_all_ff=False, \n",
    "                                        )\n"
   ]
  },
  {
   "cell_type": "markdown",
   "metadata": {},
   "source": [
    "## 765"
   ]
  },
  {
   "cell_type": "code",
   "execution_count": null,
   "metadata": {},
   "outputs": [],
   "source": [
    "reload(plot_behaviors_utils)\n",
    "reload(plot_trials)\n",
    "reload(show_null_trajectory)\n",
    "# update the figure size of rcParams\n",
    "plt.rcParams['figure.figsize'] = [9, 9]\n",
    "duration_to_plot = [1959.975111, 1968.49221]\n",
    "\n",
    "max_num_plot_to_make = 1\n",
    "ff_indices_to_plot_null_arc = None #np.array([756, 1089, 1703])\n",
    "intended_target_ff_index = None #1089\n",
    "point_indices_to_plot_null_arc = None #[10147]\n",
    "pretty_null_arc_plot_kwargs_temp = pretty_null_arc_plot_kwargs.copy()\n",
    "pretty_null_arc_plot_kwargs_temp['show_believed_target_positions'] = True\n",
    "#pretty_null_arc_plot_kwargs_temp['show_connect_path_ff_specific_indices'] = np.array([668, 656, 657, 704, 797, 798, 824, 658])\n",
    "pretty_null_arc_plot_kwargs_temp['vary_color_for_connecting_path_ff'] = True\n",
    "pretty_null_arc_plot_kwargs_temp['show_reward_boundary'] = False\n",
    "pretty_null_arc_plot_kwargs_temp['how_to_show_ff_for_visible_segments'] = 'circle'\n",
    "\n",
    "time_to_begin_plotting_null_arc = None\n",
    "time_between_every_two_null_arcs = 0.3\n",
    "\n",
    "\n",
    "show_null_trajectory.make_pretty_plot_for_a_duration(duration_to_plot, best_arc_df, monkey_information, ff_dataframe, null_arc_info_for_plotting, null_arc_to_center_info_for_plotting, PlotTrials_args, pretty_null_arc_plot_kwargs_temp, intended_target_ff_index=intended_target_ff_index,\n",
    "                                        plot_null_arcs= True, ff_max_distance_to_intended_target=230, ff_max_distance_to_path=400, time_between_every_two_null_arcs=time_between_every_two_null_arcs, time_to_begin_plotting_null_arc=time_to_begin_plotting_null_arc, time_to_end_plotting_null_arc=None, max_num_plot_to_make=max_num_plot_to_make,\n",
    "                                        show_intended_target=False, show_ff_indices=True, point_indices_to_plot_null_arc=point_indices_to_plot_null_arc, ff_indices_to_plot_null_arc=ff_indices_to_plot_null_arc, whether_mark_path_where_intended_target_has_best_arc_among_all_ff=False, \n",
    "                                        )\n"
   ]
  },
  {
   "cell_type": "code",
   "execution_count": null,
   "metadata": {},
   "outputs": [],
   "source": [
    "category_item.plot_trajectories(trials=[765], null_arc_info_for_plotting=null_arc_info_for_plotting,\n",
    "                                show_connect_path_ff=True, show_ff_indices=True)"
   ]
  },
  {
   "cell_type": "code",
   "execution_count": null,
   "metadata": {},
   "outputs": [],
   "source": [
    "reload(show_null_trajectory)\n",
    "duration_to_plot = [1254.09006, 1260.797728]\n",
    "max_num_plot_to_make = 1\n",
    "ff_indices_to_plot_null_arc = None #np.array([62, 413, 60, 61])\n",
    "intended_target_ff_index = 1241\n",
    "point_indices_to_plot_null_arc = None #[10147]\n",
    "pretty_null_arc_plot_kwargs_temp = pretty_null_arc_plot_kwargs.copy()\n",
    "pretty_null_arc_plot_kwargs_temp['show_believed_target_positions'] = False\n",
    "\n",
    "show_null_trajectory.make_pretty_plot_for_a_duration(duration_to_plot, best_arc_df, monkey_information, ff_dataframe, null_arc_info_for_plotting, null_arc_to_center_info_for_plotting, PlotTrials_args, pretty_null_arc_plot_kwargs_temp, intended_target_ff_index=intended_target_ff_index,\n",
    "                                        plot_null_arcs= True, ff_max_distance_to_intended_target=250, ff_max_distance_to_path=400, time_between_every_two_null_arcs=0.2, time_to_begin_plotting_null_arc=None, time_to_end_plotting_null_arc=None, max_num_plot_to_make=max_num_plot_to_make,\n",
    "                                        show_intended_target=False, show_ff_indices=True, point_indices_to_plot_null_arc=point_indices_to_plot_null_arc, ff_indices_to_plot_null_arc=ff_indices_to_plot_null_arc, whether_mark_path_where_intended_target_has_best_arc_among_all_ff=False, \n",
    "                                        )"
   ]
  },
  {
   "cell_type": "code",
   "execution_count": null,
   "metadata": {},
   "outputs": [],
   "source": [
    "STOP!"
   ]
  },
  {
   "cell_type": "markdown",
   "metadata": {},
   "source": [
    "# Animation"
   ]
  },
  {
   "cell_type": "markdown",
   "metadata": {},
   "source": [
    "## basic"
   ]
  },
  {
   "cell_type": "code",
   "execution_count": null,
   "metadata": {},
   "outputs": [],
   "source": [
    "stop!"
   ]
  },
  {
   "cell_type": "code",
   "execution_count": null,
   "metadata": {},
   "outputs": [],
   "source": [
    "additional_plotting_kwargs = {'show_eye_positions': False,\n",
    "                     'show_eye_positions_on_the_right': False,\n",
    "                     'show_connect_path_eye_positions': False,\n",
    "                     'show_ff_indices': True,\n",
    "}\n",
    "\n",
    "temp_animation_plot_kwargs = data_item.animation_plot_kwargs.copy()\n",
    "temp_animation_plot_kwargs['images_dir'] = None\n",
    "\n",
    "for key, value in additional_plotting_kwargs.items():\n",
    "    temp_animation_plot_kwargs[key] = value\n",
    "temp_animation_plot_kwargs['show_connect_path_ff'] = False\n",
    "temp_animation_plot_kwargs['show_connect_path_ff_memory'] = False\n",
    "temp_animation_plot_kwargs['show_stops'] = False\n",
    "\n",
    "temp_animation_plot_kwargs['trail_color_var'] = \"grey\"\n",
    "plt.rcParams[\"figure.figsize\"] = (10, 10)"
   ]
  },
  {
   "cell_type": "code",
   "execution_count": null,
   "metadata": {},
   "outputs": [],
   "source": [
    "# change the default figure size\n",
    "additional_anim_kwargs = {'plot_eye_position': True}\n",
    "plt.rcParams[\"figure.figsize\"] = (12, 12)\n",
    "\n",
    "for i in range(1150, 1510, 30):\n",
    "    #duration = [i, i+5]\n",
    "    duration = [i, i+35]\n",
    "    print(duration)\n",
    "    video_dir = \"/Users/dusiyi/Documents/Multifirefly-Project/for_manual_annotation2\"\n",
    "    file_name = f\"time_{duration[0]}_to_{duration[1]}.mp4\"\n",
    "    data_item.make_animation(duration=duration, \n",
    "                             save_video=True, video_dir=video_dir, file_name=file_name, \n",
    "                             show_ff_indices=True, \n",
    "                            static_plot_on_the_left=False, \n",
    "                            animation_plot_kwargs=temp_animation_plot_kwargs, \n",
    "                            plot_time_index=True, \n",
    "                            show_speed_through_path_color=True,\n",
    "                            max_num_frames=None, max_duration=None, min_duration=1, set_xy_limits=False,\n",
    "                            **additional_anim_kwargs\n",
    "                            )\n",
    "    HTML(data_item.anim.to_html5_video()) \n"
   ]
  },
  {
   "cell_type": "code",
   "execution_count": null,
   "metadata": {},
   "outputs": [],
   "source": [
    "# delete all plt.rcParams['animation.ffmpeg_path'] ="
   ]
  },
  {
   "cell_type": "markdown",
   "metadata": {},
   "source": [
    "## convert manual_anno"
   ]
  },
  {
   "cell_type": "markdown",
   "metadata": {},
   "source": [
    "convert manual_anno based on the points deleted"
   ]
  },
  {
   "cell_type": "code",
   "execution_count": null,
   "metadata": {},
   "outputs": [],
   "source": [
    "# for each row in manual_anno\n",
    "manual_anno['new_point_index'] = np.nan\n",
    "for index, row in manual_anno.iterrows():\n",
    "    points_to_subtract = len(np.where(out_points < row['starting_point_index'])[0])\n",
    "    manual_anno.at[index, 'new_point_index'] = row['starting_point_index'] - points_to_subtract\n",
    "# see how many points are in out_points before this point, then subtract that from the number of points in this row"
   ]
  },
  {
   "cell_type": "code",
   "execution_count": null,
   "metadata": {},
   "outputs": [],
   "source": [
    "manual_anno['new_point_index'] = manual_anno['new_point_index'].astype(int)"
   ]
  },
  {
   "cell_type": "code",
   "execution_count": null,
   "metadata": {},
   "outputs": [],
   "source": [
    "manual_anno.head(20)"
   ]
  },
  {
   "cell_type": "code",
   "execution_count": null,
   "metadata": {},
   "outputs": [],
   "source": [
    "dm = decision_making_class.DecisionMaking(ff_dataframe, ff_caught_T_new, ff_real_position_sorted, monkey_information,\n",
    "                                          time_range_of_trajectory=[-1.5, 1.5], num_time_points_for_trajectory=20)\n",
    "\n",
    "#dm.retrieve_manual_anno()\n",
    "dm.retrieve_manual_anno()\n",
    "manual_anno = dm.manual_anno.copy()"
   ]
  },
  {
   "cell_type": "markdown",
   "metadata": {},
   "source": [
    "# Appendix"
   ]
  },
  {
   "cell_type": "markdown",
   "metadata": {},
   "source": [
    "## Plot trials"
   ]
  },
  {
   "cell_type": "code",
   "execution_count": null,
   "metadata": {},
   "outputs": [],
   "source": [
    "cgt.ff_believed_position_sorted = cgt.gcc.data_item.ff_believed_position_sorted\n",
    "data_item = cgt.gcc.data_item"
   ]
  },
  {
   "cell_type": "code",
   "execution_count": null,
   "metadata": {},
   "outputs": [],
   "source": [
    "classic_plot_kwargs = {'show_stops': True,\n",
    "                       'show_believed_target_positions': True,\n",
    "                       'show_reward_boundary': True,\n",
    "                       'show_scale_bar': True}\n",
    "data_item.PlotTrials_args = (data_item.monkey_information, data_item.ff_dataframe, data_item.ff_life_sorted, data_item.ff_real_position_sorted, data_item.ff_believed_position_sorted, data_item.cluster_around_target_indices, data_item.ff_caught_T_new)"
   ]
  },
  {
   "cell_type": "code",
   "execution_count": null,
   "metadata": {},
   "outputs": [],
   "source": [
    "\n",
    "num_trials = 2 \n",
    "\n",
    "\n",
    "with general_utils.initiate_plot(10,10,100):\n",
    "  for currentTrial in [96+1, 102+1]: #two_in_a_row[10:20]:\n",
    "      duration = [data_item.ff_caught_T_new[currentTrial-num_trials], data_item.ff_caught_T_new[currentTrial]]\n",
    "      plot_trials.PlotTrials(duration, \n",
    "                  *data_item.PlotTrials_args,\n",
    "                  **classic_plot_kwargs,\n",
    "                  currentTrial = currentTrial,\n",
    "                  num_trials = num_trials,                   \n",
    "                  show_connect_path_ff_except_targets = True,\n",
    "                  show_path_when_target_visible = True,\n",
    "                  show_ff_indices = False,\n",
    "                  hitting_arena_edge_ok = True,\n",
    "                  visible_distance = 400,\n",
    "                  minimal_margin = 300,\n",
    "                  show_monkey_angles = True\n",
    "                  )\n",
    "      plt.show()  \n",
    "\n",
    "      "
   ]
  }
 ],
 "metadata": {
  "kernelspec": {
   "display_name": "ff_venv2",
   "language": "python",
   "name": "python3"
  },
  "language_info": {
   "codemirror_mode": {
    "name": "ipython",
    "version": 3
   },
   "file_extension": ".py",
   "mimetype": "text/x-python",
   "name": "python",
   "nbconvert_exporter": "python",
   "pygments_lexer": "ipython3",
   "version": "3.11.11"
  }
 },
 "nbformat": 4,
 "nbformat_minor": 2
}
