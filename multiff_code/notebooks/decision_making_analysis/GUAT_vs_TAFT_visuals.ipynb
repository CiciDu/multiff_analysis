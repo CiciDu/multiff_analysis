{
 "cells": [
  {
   "cell_type": "markdown",
   "id": "0",
   "metadata": {},
   "source": [
    "# Import packages"
   ]
  },
  {
   "cell_type": "code",
   "execution_count": null,
   "id": "1",
   "metadata": {},
   "outputs": [],
   "source": [
    "from pathlib import Path\n",
    "import os, sys\n",
    "for p in [Path.cwd()] + list(Path.cwd().parents):\n",
    "    if p.name == 'Multifirefly-Project':\n",
    "        os.chdir(p)\n",
    "        sys.path.insert(0, str(p / 'multiff_analysis/multiff_code/methods'))\n",
    "        break\n",
    "\n",
    "%load_ext autoreload\n",
    "%autoreload 2\n",
    "\n",
    "\n",
    "from data_wrangling import specific_utils, combine_info_utils\n",
    "from pattern_discovery import pattern_by_trials, pattern_by_trials, cluster_analysis, organize_patterns_and_features, category_class\n",
    "from decision_making_analysis.cluster_replacement import cluster_replacement_utils\n",
    "from decision_making_analysis.decision_making import decision_making_class, decision_making_utils, intended_targets_classes\n",
    "from decision_making_analysis.GUAT import GUAT_collect_info_class, GUAT_combine_info_class\n",
    "from decision_making_analysis.compare_GUAT_and_TAFT import GUAT_vs_TAFT_class, GUAT_vs_TAFT_x_sessions_class, helper_GUAT_vs_TAFT_class\n",
    "from decision_making_analysis.compare_GUAT_and_TAFT import GUAT_vs_TAFT_utils\n",
    "from visualization.matplotlib_tools import plot_trials, plot_behaviors_utils\n",
    "from visualization.animation import animation_class\n",
    "from null_behaviors import show_null_trajectory, find_best_arc, curvature_utils, curv_of_traj_utils\n",
    "from machine_learning.ml_methods import regression_utils, classification_utils, prep_ml_data_utils, hyperparam_tuning_class\n",
    "from visualization.plotly_polar_tools import plotly_utils_polar, plotly_for_ff_polar, plotly_for_trajectory_polar\n",
    "from machine_learning.ml_methods import ml_methods_class\n",
    "from decision_making_analysis.compare_GUAT_and_TAFT import find_GUAT_or_TAFT_trials\n",
    "\n",
    "import os, sys\n",
    "import numpy as np\n",
    "import matplotlib\n",
    "import matplotlib.pyplot as plt\n",
    "from os.path import exists\n",
    "import math\n",
    "import copy\n",
    "import matplotlib.pyplot as plt\n",
    "import pandas as pd\n",
    "import itertools\n",
    "import matplotlib.pyplot as plt\n",
    "import gc\n",
    "from scipy import stats\n",
    "from IPython.display import HTML\n",
    "from matplotlib import rc\n",
    "from sklearn.svm import SVC\n",
    "from sklearn.ensemble import AdaBoostClassifier, BaggingClassifier\n",
    "from sklearn.neural_network import MLPClassifier, MLPRegressor\n",
    "from sklearn.linear_model import LinearRegression\n",
    "from sklearn.neighbors import KNeighborsRegressor\n",
    "from sklearn.naive_bayes import GaussianNB\n",
    "from sklearn.linear_model import LogisticRegression\n",
    "from sklearn.preprocessing import StandardScaler\n",
    "import warnings\n",
    "import os, sys, sys\n",
    "from importlib import reload\n",
    "from sklearn.exceptions import ConvergenceWarning\n",
    "import seaborn as sns\n",
    "\n",
    "\n",
    "plt.rcParams[\"animation.html\"] = \"html5\"\n",
    "os.environ['KMP_DUPLICATE_LIB_OK']='True'\n",
    "rc('animation', html='jshtml')\n",
    "matplotlib.rcParams.update(matplotlib.rcParamsDefault)\n",
    "matplotlib.rcParams['animation.embed_limit'] = 2**128\n",
    "pd.set_option('display.float_format', lambda x: '%.5f' % x)\n",
    "np.set_printoptions(suppress=True)\n",
    "pd.options.display.max_rows = 50\n",
    "\n"
   ]
  },
  {
   "cell_type": "markdown",
   "id": "2",
   "metadata": {},
   "source": [
    "# Data for one session"
   ]
  },
  {
   "cell_type": "code",
   "execution_count": null,
   "id": "3",
   "metadata": {},
   "outputs": [],
   "source": [
    "exists_ok = True\n",
    "cgt = GUAT_vs_TAFT_class.GUATvsTAFTclass(ref_point_mode='time', \n",
    "                                        # raw_data_folder_path='all_monkey_data/raw_monkey_data/monkey_Bruno/data_0330',\n",
    "                                        # raw_data_folder_path='all_monkey_data/raw_monkey_data/monkey_Bruno/data_0330',\n",
    "                                        #raw_data_folder_path='all_monkey_data/raw_monkey_data/monkey_Bruno/data_0326',\n",
    "                                         raw_data_folder_path='all_monkey_data/raw_monkey_data/monkey_Bruno/data_0322',\n",
    "                                            ref_point_value=-1.5,)\n",
    "cgt.streamline_getting_GUAT_or_TAFT_x_df(GUAT_or_TAFT='TAFT', exists_ok=exists_ok)\n",
    "cgt.streamline_getting_GUAT_or_TAFT_x_df(GUAT_or_TAFT='GUAT', exists_ok=exists_ok)\n"
   ]
  },
  {
   "cell_type": "code",
   "execution_count": null,
   "id": "4",
   "metadata": {},
   "outputs": [],
   "source": [
    "exists_ok = True\n",
    "cgt = GUAT_vs_TAFT_class.GUATvsTAFTclass(ref_point_mode='time', \n",
    "                                        # raw_data_folder_path='all_monkey_data/raw_monkey_data/monkey_Bruno/data_0330',\n",
    "                                        # raw_data_folder_path='all_monkey_data/raw_monkey_data/monkey_Bruno/data_0330',\n",
    "                                        #raw_data_folder_path='all_monkey_data/raw_monkey_data/monkey_Bruno/data_0326',\n",
    "                                         raw_data_folder_path='all_monkey_data/raw_monkey_data/monkey_Bruno/data_0322',\n",
    "                                            ref_point_value=-1.5,)\n",
    "cgt.streamline_getting_GUAT_or_TAFT_x_df(GUAT_or_TAFT='TAFT', exists_ok=exists_ok)\n",
    "cgt.streamline_getting_GUAT_or_TAFT_x_df(GUAT_or_TAFT='GUAT', exists_ok=exists_ok)\n",
    "\n",
    "cgt.get_relevant_monkey_data(already_retrieved_ok=True)\n",
    "cgt.find_patterns()\n",
    "cgt.make_PlotTrials_args()\n",
    "cgt.make_or_retrieve_target_clust_last_vis_df()\n",
    "\n",
    "\n",
    "cgt.make_curvature_df()\n",
    "cgt.find_opt_arc_info_from_curvature_df()\n",
    "cgt.make_best_arc_df()\n",
    "cgt.get_elements_for_plotting()\n",
    "\n",
    "# get null arc info for plotting\n",
    "cgt.null_arc_info_for_plotting = show_null_trajectory.find_and_package_opt_arc_info_for_plotting(cgt.best_arc_df, cgt.monkey_information, column_for_color=None, ignore_error=True)\n",
    "all_point_index = cgt.best_arc_df.point_index.values\n",
    "all_ff_index = cgt.best_arc_df.ff_index.values\n",
    "remaining_index_of_array, remaining_all_ff_index, remaining_all_point_index = show_null_trajectory.eliminate_invalid_ff_for_null_arc(all_ff_index, all_point_index, cgt.ff_real_position_sorted, cgt.monkey_information)\n",
    "cgt.find_and_package_arc_to_center_info_for_plotting(remaining_all_point_index, remaining_all_ff_index)\n",
    "\n",
    "pretty_null_arc_plot_kwargs = {'player': 'monkey',\n",
    "        'show_believed_target_positions': True,                       \n",
    "        'show_stops': True,\n",
    "        'show_reward_boundary': True,\n",
    "        'show_scale_bar': True,\n",
    "        'hitting_arena_edge_ok': True,\n",
    "        'trial_too_short_ok': True,\n",
    "        'show_alive_fireflies': False,\n",
    "        'adjust_xy_limits': True,\n",
    "        'zoom_in': True,\n",
    "        'minimal_margin': 60,\n",
    "        }\n"
   ]
  },
  {
   "cell_type": "markdown",
   "id": "5",
   "metadata": {},
   "source": [
    "## cgt.stop_category_df"
   ]
  },
  {
   "cell_type": "code",
   "execution_count": null,
   "id": "6",
   "metadata": {},
   "outputs": [],
   "source": [
    "from decision_making_analysis import assign_attempts\n",
    "from decision_making_analysis.GUAT import GUAT_utils"
   ]
  },
  {
   "cell_type": "code",
   "execution_count": null,
   "id": "7",
   "metadata": {},
   "outputs": [],
   "source": [
    "cgt.find_patterns()"
   ]
  },
  {
   "cell_type": "code",
   "execution_count": null,
   "id": "8",
   "metadata": {},
   "outputs": [],
   "source": [
    "cgt.make_one_stop_w_ff_df()\n",
    "cgt.make_or_retrieve_closest_stop_to_capture_df()"
   ]
  },
  {
   "cell_type": "code",
   "execution_count": null,
   "id": "9",
   "metadata": {},
   "outputs": [],
   "source": [
    "cgt.make_or_retrieve_stop_category_df()"
   ]
  },
  {
   "cell_type": "markdown",
   "id": "10",
   "metadata": {},
   "source": [
    "# exp"
   ]
  },
  {
   "cell_type": "code",
   "execution_count": null,
   "id": "11",
   "metadata": {},
   "outputs": [],
   "source": [
    "from data_wrangling import further_processing_class, retrieve_raw_data, time_calib_utils\n"
   ]
  },
  {
   "cell_type": "code",
   "execution_count": null,
   "id": "12",
   "metadata": {},
   "outputs": [],
   "source": [
    "reload(further_processing_class)"
   ]
  },
  {
   "cell_type": "code",
   "execution_count": null,
   "id": "13",
   "metadata": {},
   "outputs": [],
   "source": [
    "reload(GUAT_vs_TAFT_class)"
   ]
  },
  {
   "cell_type": "code",
   "execution_count": null,
   "id": "14",
   "metadata": {},
   "outputs": [],
   "source": [
    "cgt.stop_category_df"
   ]
  },
  {
   "cell_type": "markdown",
   "id": "15",
   "metadata": {},
   "source": [
    "# Plot"
   ]
  },
  {
   "cell_type": "code",
   "execution_count": null,
   "id": "16",
   "metadata": {},
   "outputs": [],
   "source": [
    "## shared kwargs\n",
    "shared_kwargs = {'show_path_when_target_visible': False,\n",
    "                            'show_connect_path_ff': False,\n",
    "                            'show_alive_fireflies': False,\n",
    "                            'show_visible_fireflies': False,\n",
    "                            'show_alive_fireflies': False,\n",
    "                            'show_connect_path_ff_memory': False,\n",
    "                            'show_believed_target_positions': True,\n",
    "                            'show_scale_bar': False,\n",
    "                            'show_start': False,\n",
    "                            'show_reward_boundary': False,\n",
    "                            'zoom_in': True,\n",
    "                            'minimal_margin': 10,\n",
    "                            'show_legend': False,\n",
    "                            'dpi': 300\n",
    "                            }"
   ]
  },
  {
   "cell_type": "markdown",
   "id": "17",
   "metadata": {},
   "source": [
    "## plot GUAT"
   ]
  },
  {
   "cell_type": "code",
   "execution_count": null,
   "id": "18",
   "metadata": {},
   "outputs": [],
   "source": [
    "# df_sub = cgt.stop_category_df[cgt.stop_category_df['attempt_type']=='GUAT']\n",
    "df_sub = cgt.stop_category_df[cgt.stop_category_df['attempt_type']=='TAFT']\n",
    "df_sub = df_sub.drop_duplicates(subset=['stop_cluster_id'])"
   ]
  },
  {
   "cell_type": "code",
   "execution_count": null,
   "id": "19",
   "metadata": {},
   "outputs": [],
   "source": [
    "counter = 0\n",
    "\n",
    "#for index, row in cgt.one_stop_w_ff_df.iloc[20:].iterrows():\n",
    "for index, row in df_sub.iloc[20:].iterrows():\n",
    "    \n",
    "    stop_time = row['time']\n",
    "    point_indices_to_be_marked = [row['stop_cluster_start_point'], row['stop_cluster_end_point']]\n",
    "    indices_of_ff_to_mark = [int(row['associated_ff'])]\n",
    "    show_visible_segments_ff_indices = [row['associated_ff'], row['target_index']-1, row['target_index']]\n",
    "    \n",
    "    duration = [stop_time - 2.5, stop_time + 2.5]\n",
    "\n",
    "    plotting_kwargs_temp = copy.deepcopy(cgt.plotting_kwargs)\n",
    "    plotting_kwargs_temp.update(shared_kwargs)\n",
    "    plotting_kwargs_temp.update({'show_visible_segments_on_trajectory_ff_indices': show_visible_segments_ff_indices,\n",
    "                                 'dpi': 100,\n",
    "                                 'point_indices_to_be_marked_2nd_kind': point_indices_to_be_marked,\n",
    "                                 'indices_of_ff_to_mark': [int(row['associated_ff'])],\n",
    "                                 'indices_of_ff_to_mark_2nd_kind': [row['target_index']-1],\n",
    "                                 'truncate_part_before_crossing_arena_edge': True\n",
    "                                })\n",
    "\n",
    "    returned_info = plot_trials.PlotTrials(duration, \n",
    "                *cgt.PlotTrials_args,\n",
    "                **plotting_kwargs_temp,         \n",
    "                )\n",
    "    \n",
    "    \n",
    "    plt.title('')\n",
    "\n",
    "\n",
    "    plt.show()\n",
    "    \n",
    "    \n",
    "    \n",
    "\n",
    "    counter += 1\n",
    "    if counter == 20:\n",
    "        break\n"
   ]
  },
  {
   "cell_type": "markdown",
   "id": "20",
   "metadata": {},
   "source": [
    "## plot one stop"
   ]
  },
  {
   "cell_type": "code",
   "execution_count": null,
   "id": "21",
   "metadata": {},
   "outputs": [],
   "source": [
    "one_stop_sub = cgt.stop_category_df[cgt.stop_category_df['attempt_type']=='miss'].copy()"
   ]
  },
  {
   "cell_type": "code",
   "execution_count": null,
   "id": "22",
   "metadata": {},
   "outputs": [],
   "source": [
    "one_stop_sub"
   ]
  },
  {
   "cell_type": "code",
   "execution_count": null,
   "id": "23",
   "metadata": {},
   "outputs": [],
   "source": [
    "counter = 0\n",
    "\n",
    "#for index, row in cgt.one_stop_w_ff_df.iloc[20:].iterrows():\n",
    "for index, row in one_stop_sub.iloc[50:].iterrows():\n",
    "    \n",
    "    stop_time = row['time']\n",
    "    point_indices_to_be_marked = [row['point_index']]\n",
    "    indices_of_ff_to_mark = [int(row['associated_ff'])]\n",
    "    show_visible_segments_ff_indices = [row['associated_ff'], row['target_index']-1, row['target_index']]\n",
    "    \n",
    "    duration = [stop_time - 2.5, stop_time + 2.5]\n",
    "\n",
    "    plotting_kwargs_temp = copy.deepcopy(cgt.plotting_kwargs)\n",
    "    plotting_kwargs_temp.update(shared_kwargs)\n",
    "    plotting_kwargs_temp.update({'show_visible_segments_on_trajectory_ff_indices': show_visible_segments_ff_indices,\n",
    "                                 'dpi': 100,\n",
    "                                 'point_indices_to_be_marked': point_indices_to_be_marked,\n",
    "                                 'indices_of_ff_to_mark': [row['target_index']-1],\n",
    "                                 'indices_of_ff_to_mark_2nd_kind': indices_of_ff_to_mark\n",
    "                                })\n",
    "\n",
    "    returned_info = plot_trials.PlotTrials(duration, \n",
    "                *cgt.PlotTrials_args,\n",
    "                **plotting_kwargs_temp,         \n",
    "                )\n",
    "    \n",
    "    \n",
    "    plt.title('')\n",
    "\n",
    "\n",
    "    plt.show()\n",
    "    \n",
    "    \n",
    "    \n",
    "\n",
    "    counter += 1\n",
    "    if counter == 20:\n",
    "        break\n"
   ]
  },
  {
   "cell_type": "markdown",
   "id": "24",
   "metadata": {},
   "source": [
    "## plot trials"
   ]
  },
  {
   "cell_type": "markdown",
   "id": "25",
   "metadata": {},
   "source": [
    "### from trials"
   ]
  },
  {
   "cell_type": "code",
   "execution_count": null,
   "id": "26",
   "metadata": {},
   "outputs": [],
   "source": [
    "trial = 53\n",
    "\n",
    "plotting_kwargs_temp = copy.deepcopy(cgt.plotting_kwargs)\n",
    "plotting_kwargs_temp.update({'show_path_when_target_visible': True,\n",
    "                            'show_connect_path_ff': False,\n",
    "                            'show_connect_path_ff_memory': False,\n",
    "                            #'show_ff_indices': True,\n",
    "                            'show_believed_target_positions': True,\n",
    "                            #'show_connect_path_ff_specific_indices': [row['trial']],\n",
    "                            #'show_connect_path_ff_except_targets': True,\n",
    "                            'indices_of_ff_to_mark': [trial],\n",
    "                            })\n",
    "\n",
    "#plotting_kwargs_temp['indices_of_ff_to_mark'] = [row[ff_column]]\n",
    "\n",
    "duration = [cgt.ff_caught_T_new[trial-2], cgt.ff_caught_T_new[trial]+1]\n",
    "returned_info = plot_trials.PlotTrials(duration, \n",
    "            *cgt.PlotTrials_args,\n",
    "            **plotting_kwargs_temp,         \n",
    "            )\n",
    "plt.show()\n"
   ]
  },
  {
   "cell_type": "markdown",
   "id": "27",
   "metadata": {},
   "source": [
    "### from subset"
   ]
  },
  {
   "cell_type": "code",
   "execution_count": null,
   "id": "28",
   "metadata": {},
   "outputs": [],
   "source": [
    "GUAT_or_TAFT = 'GUAT'\n",
    "list_of_stop_point_index = cgt.GUAT_x_df[cgt.GUAT_x_df['cur_ff_distance_at_ref'] > 150].stop_point_index.values"
   ]
  },
  {
   "cell_type": "code",
   "execution_count": null,
   "id": "29",
   "metadata": {},
   "outputs": [],
   "source": [
    "GUAT_or_TAFT = 'TAFT'\n",
    "list_of_stop_point_index = cgt.TAFT_x_df[cgt.TAFT_x_df['cur_ff_distance_at_ref'] > 150].stop_point_index.values"
   ]
  },
  {
   "cell_type": "code",
   "execution_count": null,
   "id": "30",
   "metadata": {},
   "outputs": [],
   "source": [
    "cgt.visible_before_last_one_trials"
   ]
  },
  {
   "cell_type": "code",
   "execution_count": null,
   "id": "31",
   "metadata": {},
   "outputs": [],
   "source": [
    "sub = cgt.take_out_subsets_to_plot(list_of_stop_point_index, GUAT_or_TAFT)\n",
    "\n",
    "counter = 0\n",
    "for i, row in sub.iloc[0:].iterrows():\n",
    "    if GUAT_or_TAFT == 'GUAT':\n",
    "        ff_column = 'latest_visible_ff'\n",
    "    else:\n",
    "        ff_column = 'ff_index'\n",
    "\n",
    "    print('cur_ff_distance_at_ref', row['cur_ff_distance_at_ref'])\n",
    "\n",
    "    \n",
    "    plotting_kwargs_temp = copy.deepcopy(cgt.plotting_kwargs)\n",
    "    plotting_kwargs_temp.update({'show_path_when_target_visible': True,\n",
    "                                 'currentTrial': row['trial'],\n",
    "                                 'show_visible_segments_ff_indices': [row['trial']+1, row['trial']],\n",
    "                                'show_connect_path_ff': False,\n",
    "                                'show_connect_path_ff_memory': False,\n",
    "                                #'show_ff_indices': True,\n",
    "                                'show_believed_target_positions': True,\n",
    "                                #'show_connect_path_ff_specific_indices': [row['trial']],\n",
    "                                #'show_connect_path_ff_except_targets': True,\n",
    "                                })\n",
    "\n",
    "    #plotting_kwargs_temp['indices_of_ff_to_mark'] = [row[ff_column]]\n",
    "    trial = row['trial']\n",
    "    duration = [cgt.ff_caught_T_new[trial-2], cgt.ff_caught_T_new[trial]+1]\n",
    "    returned_info = plot_trials.PlotTrials(duration, \n",
    "                *cgt.PlotTrials_args,\n",
    "                **plotting_kwargs_temp,         \n",
    "                )\n",
    "    plt.show()\n",
    "\n",
    "    if counter == 0:\n",
    "        break\n",
    "    counter += 1"
   ]
  },
  {
   "cell_type": "code",
   "execution_count": null,
   "id": "32",
   "metadata": {},
   "outputs": [],
   "source": [
    "stop!"
   ]
  },
  {
   "cell_type": "markdown",
   "id": "33",
   "metadata": {},
   "source": [
    "# Try a few times vs. give up after trying"
   ]
  },
  {
   "cell_type": "markdown",
   "id": "34",
   "metadata": {},
   "source": [
    "## Compared with the rest"
   ]
  },
  {
   "cell_type": "code",
   "execution_count": null,
   "id": "35",
   "metadata": {},
   "outputs": [],
   "source": [
    "reload(decision_making_class)\n",
    "reload(plot_trials)\n",
    "reload(intended_targets_classes)\n",
    "\n",
    "try_a_few_times_trials = cgt.try_a_few_times_trials\n",
    "target_cluster_TAFT = cgt.target_clust_last_vis_df[cgt.target_clust_last_vis_df['target_index'].isin(try_a_few_times_trials)]\n",
    "sort_1_df = target_cluster_TAFT\n",
    "sort_1_trials = sort_1_df.target_index.values\n",
    "sort_1_name = \"Try a few times\"\n",
    "\n",
    "\n",
    "target_cluster_no_flash_after_stopn_TAFT = cgt.target_clust_last_vis_df[~cgt.target_clust_last_vis_df['target_index'].isin(try_a_few_times_trials)]\n",
    "sort_2_df = target_cluster_no_flash_after_stopn_TAFT\n",
    "sort_2_trials = sort_2_df.target_index.values\n",
    "sort_2_name = \"Non-TAFT\"\n",
    "\n",
    "category_item = category_class.ProcessCategoryData(sort_1_trials=sort_1_trials, sort_2_trials=sort_2_trials,\n",
    "                                                              sort_1_name=sort_1_name, sort_2_name=sort_2_name, \n",
    "                                                              sort_1_df=sort_1_df, sort_2_df=sort_2_df,                                                     \n",
    "                                                              PlotTrials_args=cgt.PlotTrials_args, ff_flash_sorted=cgt.ff_flash_sorted,\n",
    "                                                              null_arc_info_for_plotting=cgt.null_arc_info_for_plotting)"
   ]
  },
  {
   "cell_type": "code",
   "execution_count": null,
   "id": "36",
   "metadata": {},
   "outputs": [],
   "source": [
    "reload(show_null_trajectory)\n",
    "reload(decision_making_class)\n",
    "reload(plot_trials)\n",
    "reload(intended_targets_classes)\n",
    "reload(category_class)\n",
    "\n",
    "\n",
    "category_item.clean_out_cross_boundary_trials()\n",
    "category_item.clean_out_trials_where_target_cluster_was_not_seen_for_a_long_time_before_capture()\n",
    "category_item.make_polar_plot_of_target_last_seen_positions()\n",
    "category_item.make_histograms_of_target_last_seen_attributes()\n",
    "category_item.make_histogram_of_distances_from_previous_targets()\n",
    "category_item.make_polar_plot_of_positions_from_previous_targets()\n",
    "\n",
    "\n",
    "category_item.plot_trajectories(trials=category_item.sort_1_trials[17:18], null_arc_info_for_plotting=cgt.null_arc_info_for_plotting)\n",
    "category_item.plot_distributions_of_visible_ff_and_in_memory_ff()\n"
   ]
  },
  {
   "cell_type": "markdown",
   "id": "37",
   "metadata": {},
   "source": [
    "## visualize predictions"
   ]
  },
  {
   "cell_type": "code",
   "execution_count": null,
   "id": "38",
   "metadata": {},
   "outputs": [],
   "source": [
    "gnb = GaussianNB()\n",
    "# gnb.fit(ml_inst.x_var_df, ml_inst.y_var_df)\n",
    "#(trained_model = gnb, max_plot_to_make = 2)\n",
    "\n",
    "#category_item.inspect_special_cases(weird_trials=[98, 180, 212, 649])"
   ]
  },
  {
   "cell_type": "markdown",
   "id": "39",
   "metadata": {},
   "source": [
    "## plot_trajectories"
   ]
  },
  {
   "cell_type": "code",
   "execution_count": null,
   "id": "40",
   "metadata": {},
   "outputs": [],
   "source": [
    "current_i = 30"
   ]
  },
  {
   "cell_type": "code",
   "execution_count": null,
   "id": "41",
   "metadata": {},
   "outputs": [],
   "source": [
    "reload(specific_utils)\n",
    "reload(plot_trials)\n",
    "category_item.plot_trajectories(trials=category_item.sort_1_trials[current_i:current_i+2], null_arc_info_for_plotting=cgt.null_arc_info_for_plotting)\n",
    "current_i = current_i+2"
   ]
  },
  {
   "cell_type": "markdown",
   "id": "42",
   "metadata": {},
   "source": [
    "## 724"
   ]
  },
  {
   "cell_type": "code",
   "execution_count": null,
   "id": "43",
   "metadata": {},
   "outputs": [],
   "source": [
    "cgt.null_arc_to_center_info_for_plotting[cgt.null_arc_to_center_info_for_plotting['arc_point_index']==112997]"
   ]
  },
  {
   "cell_type": "code",
   "execution_count": null,
   "id": "44",
   "metadata": {},
   "outputs": [],
   "source": [
    "pretty_null_arc_plot_kwargs['show_ff_indices'] = False"
   ]
  },
  {
   "cell_type": "code",
   "execution_count": null,
   "id": "45",
   "metadata": {},
   "outputs": [],
   "source": [
    "reload(plot_behaviors_utils)\n",
    "reload(plot_trials)\n",
    "reload(show_null_trajectory)\n",
    "# update the figure size of rcParams\n",
    "plt.rcParams['figure.figsize'] = [9, 9]\n",
    "duration_to_plot = [1856.504211, 1862.693883]\n",
    "\n",
    "max_num_plot_to_make = 1\n",
    "ff_indices_to_plot_null_arc = np.array([908, 723, 724])\n",
    "intended_target_ff_index = None #749\n",
    "point_indices_to_plot_null_arc = None #[10147]\n",
    "pretty_null_arc_plot_kwargs_temp = pretty_null_arc_plot_kwargs.copy()\n",
    "pretty_null_arc_plot_kwargs_temp['show_believed_target_positions'] = True\n",
    "#pretty_null_arc_plot_kwargs_temp['show_connect_path_ff_specific_indices'] = np.array([668, 656, 657, 704, 797, 798, 824, 658])\n",
    "pretty_null_arc_plot_kwargs_temp['vary_color_for_connecting_path_ff'] = False\n",
    "pretty_null_arc_plot_kwargs_temp['show_reward_boundary'] = False\n",
    "pretty_null_arc_plot_kwargs_temp['how_to_show_ff_for_visible_segments'] = 'circle'\n",
    "\n",
    "time_to_begin_plotting_null_arc = None\n",
    "time_between_every_two_null_arcs = 0.3\n",
    "\n",
    "\n",
    "\n",
    "show_null_trajectory.make_pretty_plot_for_a_duration(duration_to_plot, cgt.best_arc_df, cgt.monkey_information, cgt.ff_dataframe, cgt.null_arc_info_for_plotting, cgt.null_arc_to_center_info_for_plotting, cgt.PlotTrials_args, pretty_null_arc_plot_kwargs_temp, intended_target_ff_index=intended_target_ff_index,\n",
    "                                        plot_null_arcs= False, ff_max_distance_to_intended_target=230, ff_max_distance_to_path=400, time_between_every_two_null_arcs=time_between_every_two_null_arcs, time_to_begin_plotting_null_arc=time_to_begin_plotting_null_arc, time_to_end_plotting_null_arc=None, max_num_plot_to_make=max_num_plot_to_make,\n",
    "                                        show_intended_target=False, point_indices_to_plot_null_arc=point_indices_to_plot_null_arc, ff_indices_to_plot_null_arc=ff_indices_to_plot_null_arc, whether_mark_path_where_intended_target_has_best_arc_among_all_ff=False, \n",
    "                                        )\n"
   ]
  },
  {
   "cell_type": "markdown",
   "id": "46",
   "metadata": {},
   "source": [
    "# Give up after trying"
   ]
  },
  {
   "cell_type": "markdown",
   "id": "47",
   "metadata": {},
   "source": [
    "## Compare with TAFT"
   ]
  },
  {
   "cell_type": "code",
   "execution_count": null,
   "id": "48",
   "metadata": {},
   "outputs": [],
   "source": [
    "cgt.raw_data_folder_path"
   ]
  },
  {
   "cell_type": "code",
   "execution_count": null,
   "id": "49",
   "metadata": {},
   "outputs": [],
   "source": [
    "# might want to change this to not use cluster, but just ff itself\n",
    "\n",
    "try_a_few_times_trials = cgt.try_a_few_times_trials\n",
    "give_up_after_trying_trials = cgt.give_up_after_trying_trials\n",
    "\n",
    "target_cluster_TAFT = cgt.target_clust_last_vis_df[cgt.target_clust_last_vis_df['target_index'].isin(try_a_few_times_trials)]\n",
    "\n",
    "sort_1_df = target_cluster_TAFT\n",
    "sort_1_trials = sort_1_df.target_index.values\n",
    "sort_1_name = \"Retry + Capture\" #\"Try a few times\"\n",
    "\n",
    "cgt.make_GUAT_cluster_df()\n",
    "sort_2_df = cgt.GUAT_cluster_df\n",
    "sort_2_trials = sort_2_df.target_index.values\n",
    "sort_2_name = \"Retry + Fail\" #\"Give up after trying\"\n",
    "sort_2_ff_indices = cgt.GUAT_cluster_df.last_vis_ff_index.values\n",
    "\n",
    "\n",
    "\n",
    "category_item = category_class.ProcessCategoryData(sort_1_trials=sort_1_trials, sort_2_trials=sort_2_trials,\n",
    "                                                              sort_1_name=sort_1_name, sort_2_name=sort_2_name, \n",
    "                                                              sort_1_df=sort_1_df, sort_2_df=sort_2_df,\n",
    "                                                              sort_2_ff_indices = sort_2_ff_indices,\n",
    "                                                              sort_2_ff_positions = cgt.ff_real_position_sorted[sort_2_ff_indices],                                                             \n",
    "                                                              PlotTrials_args=cgt.PlotTrials_args, ff_flash_sorted=cgt.ff_flash_sorted,\n",
    "                                                              null_arc_info_for_plotting=cgt.null_arc_info_for_plotting)"
   ]
  },
  {
   "cell_type": "code",
   "execution_count": null,
   "id": "50",
   "metadata": {},
   "outputs": [],
   "source": [
    "\n",
    "category_item.clean_out_cross_boundary_trials()\n",
    "category_item.clean_out_trials_where_target_cluster_was_not_seen_for_a_long_time_before_capture()\n",
    "category_item.make_polar_plot_of_target_last_seen_positions()\n",
    "category_item.make_histograms_of_target_last_seen_attributes()\n",
    "# category_item.make_histogram_of_distances_from_previous_targets()\n",
    "# category_item.make_polar_plot_of_positions_from_previous_targets()\n",
    "\n",
    "# category_item.plot_trajectories(trials=category_item.sort_1_trials[17:18], null_arc_info_for_plotting=cgt.null_arc_info_for_plotting)\n",
    "# category_item.plot_distributions_of_visible_ff_and_in_memory_ff()\n",
    "\n",
    "\n",
    "## the below function (free selection prediction) shouldn't be used on GUAT. So far, it should only be used on VBLO.\n",
    "# category_item.make_and_visualize_free_selection_predictions_using_trained_model(trained_model = gnb, max_plot_to_make = 99)\n",
    "# category_item.inspect_special_cases(weird_trials=[98, 180, 212, 649])"
   ]
  },
  {
   "cell_type": "code",
   "execution_count": null,
   "id": "51",
   "metadata": {},
   "outputs": [],
   "source": [
    "stop!"
   ]
  },
  {
   "cell_type": "markdown",
   "id": "52",
   "metadata": {},
   "source": [
    "## Compared with the rest"
   ]
  },
  {
   "cell_type": "code",
   "execution_count": null,
   "id": "53",
   "metadata": {},
   "outputs": [],
   "source": [
    "give_up_after_trying_trials = cgt.give_up_after_trying_trials\n",
    "\n",
    "target_cluster_no_flash_after_stopn_GUAT = cgt.target_clust_last_vis_df[~cgt.target_clust_last_vis_df['target_index'].isin(give_up_after_trying_trials)]\n",
    "target_cluster_GUAT = cgt.target_clust_last_vis_df[cgt.target_clust_last_vis_df['target_index'].isin(give_up_after_trying_trials)]\n",
    "\n",
    "sort_1_df = target_cluster_no_flash_after_stopn_GUAT\n",
    "sort_1_trials = sort_1_df.target_index.values\n",
    "sort_1_name = \"Non-GUAT\"\n",
    "\n",
    "sort_2_df = cgt.GUAT_cluster_df\n",
    "sort_2_trials = sort_2_df.target_index.values\n",
    "sort_2_name = \"Give up after trying\"\n",
    "sort_2_ff_indices = cgt.GUAT_cluster_df.last_vis_ff_index.values\n",
    "sort_2_time_for_predicting_ff = cgt.GUAT_cluster_df.latest_visible_time_before_last_stop.values\n",
    "\n",
    "category_item = category_class.ProcessCategoryData(sort_1_trials=sort_1_trials, sort_2_trials=sort_2_trials,\n",
    "                                                              sort_1_name=sort_1_name, sort_2_name=sort_2_name, \n",
    "                                                              sort_1_df=sort_1_df, sort_2_df=sort_2_df,\n",
    "                                                              sort_2_ff_indices = sort_2_ff_indices,\n",
    "                                                              sort_2_ff_positions = cgt.ff_real_position_sorted[sort_2_ff_indices],   \n",
    "                                                              sort_2_time_for_predicting_ff = sort_2_time_for_predicting_ff,                                                       \n",
    "                                                              PlotTrials_args=cgt.PlotTrials_args, ff_flash_sorted=cgt.ff_flash_sorted,\n",
    "                                                              null_arc_info_for_plotting=cgt.null_arc_info_for_plotting)"
   ]
  },
  {
   "cell_type": "code",
   "execution_count": null,
   "id": "54",
   "metadata": {},
   "outputs": [],
   "source": [
    "category_item.clean_out_cross_boundary_trials()\n",
    "category_item.clean_out_trials_where_target_cluster_was_not_seen_for_a_long_time_before_capture()\n",
    "category_item.make_polar_plot_of_target_last_seen_positions()\n",
    "category_item.make_histograms_of_target_last_seen_attributes()\n",
    "category_item.make_histogram_of_distances_from_previous_targets()\n",
    "category_item.make_polar_plot_of_positions_from_previous_targets()\n",
    "category_item.plot_trajectories(trials=category_item.sort_1_trials[17:18], null_arc_info_for_plotting=cgt.null_arc_info_for_plotting)\n",
    "category_item.plot_distributions_of_visible_ff_and_in_memory_ff()\n",
    "## The function below (free selection prediction) shouldn't be used on GUAT. So far, it should only be used on VBLO.\n",
    "#category_item.make_and_visualize_free_selection_predictions_using_trained_model(trained_model = gnb, use_sort_1=False, use_sort_2=True, max_plot_to_make=3)\n",
    "# category_item.inspect_special_cases(weird_trials=[98, 180, 212, 649])"
   ]
  },
  {
   "cell_type": "markdown",
   "id": "55",
   "metadata": {},
   "source": [
    "# For PPT"
   ]
  },
  {
   "cell_type": "markdown",
   "id": "56",
   "metadata": {},
   "source": [
    "## shared kwargs"
   ]
  },
  {
   "cell_type": "code",
   "execution_count": null,
   "id": "57",
   "metadata": {},
   "outputs": [],
   "source": [
    "shared_kwargs = {'show_path_when_target_visible': False,\n",
    "                            'show_connect_path_ff': False,\n",
    "                            'show_alive_fireflies': False,\n",
    "                            'show_visible_fireflies': False,\n",
    "                            'show_alive_fireflies': False,\n",
    "                            'show_connect_path_ff_memory': False,\n",
    "                            'show_believed_target_positions': True,\n",
    "                            'show_scale_bar': False,\n",
    "                            'show_start': False,\n",
    "                            'show_reward_boundary': False,\n",
    "                            'zoom_in': True,\n",
    "                            'minimal_margin': 10,\n",
    "                            'show_legend': False,\n",
    "                            'dpi': 300\n",
    "                            }"
   ]
  },
  {
   "cell_type": "markdown",
   "id": "58",
   "metadata": {},
   "source": [
    "## GUAT: 0330 - 756"
   ]
  },
  {
   "cell_type": "code",
   "execution_count": null,
   "id": "59",
   "metadata": {},
   "outputs": [],
   "source": [
    "df_sub = cgt.GUAT_w_ff_df.loc[cgt.GUAT_w_ff_df['trial']==756]"
   ]
  },
  {
   "cell_type": "code",
   "execution_count": null,
   "id": "60",
   "metadata": {},
   "outputs": [],
   "source": [
    "reload(plot_trials)\n",
    "reload(plot_behaviors_utils)"
   ]
  },
  {
   "cell_type": "code",
   "execution_count": null,
   "id": "61",
   "metadata": {},
   "outputs": [],
   "source": [
    "stop_time = df_sub['last_stop_time'].values[0]\n",
    "\n",
    "#show_visible_segments_ff_indices = [df_sub['ff_index'].values[0]]\n",
    "show_visible_segments_ff_indices = np.array([756, 1089, 1703])\n",
    "\n",
    "duration = [stop_time - 4, stop_time + 2]\n",
    "\n",
    "plotting_kwargs_temp = copy.deepcopy(cgt.plotting_kwargs)\n",
    "plotting_kwargs_temp.update(shared_kwargs)\n",
    "plotting_kwargs_temp.update({'show_visible_segments_on_trajectory_ff_indices': show_visible_segments_ff_indices,\n",
    "                            })\n",
    "\n",
    "returned_info = plot_trials.PlotTrials(duration, \n",
    "            *cgt.PlotTrials_args,\n",
    "            **plotting_kwargs_temp,    \n",
    "            show_legend=True,\n",
    "            dpi=300     \n",
    "            )\n",
    "\n",
    "\n",
    "plt.title('')\n",
    "\n",
    "plt.show()"
   ]
  },
  {
   "cell_type": "code",
   "execution_count": null,
   "id": "62",
   "metadata": {},
   "outputs": [],
   "source": [
    "reload(plot_behaviors_utils)"
   ]
  },
  {
   "cell_type": "markdown",
   "id": "63",
   "metadata": {},
   "source": [
    "## TAFT: 0330 - 242"
   ]
  },
  {
   "cell_type": "code",
   "execution_count": null,
   "id": "64",
   "metadata": {},
   "outputs": [],
   "source": [
    "TAFT_sub = cgt.TAFT_trials_df.loc[cgt.TAFT_trials_df['trial']==242]"
   ]
  },
  {
   "cell_type": "code",
   "execution_count": null,
   "id": "65",
   "metadata": {},
   "outputs": [],
   "source": [
    "TAFT_sub"
   ]
  },
  {
   "cell_type": "code",
   "execution_count": null,
   "id": "66",
   "metadata": {},
   "outputs": [],
   "source": [
    "stop_time = TAFT_sub['last_stop_time'].values[0]\n",
    "\n",
    "show_visible_segments_ff_indices = [TAFT_sub['ff_index'].values[0], TAFT_sub['ff_index'].values[0]+1]\n",
    "\n",
    "duration = [stop_time - 1.8, stop_time + 2]\n",
    "\n",
    "plotting_kwargs_temp = copy.deepcopy(cgt.plotting_kwargs)\n",
    "plotting_kwargs_temp.update(shared_kwargs)\n",
    "plotting_kwargs_temp.update({'show_visible_segments_on_trajectory_ff_indices': show_visible_segments_ff_indices,\n",
    "                            })\n",
    "\n",
    "returned_info = plot_trials.PlotTrials(duration, \n",
    "            *cgt.PlotTrials_args,\n",
    "            **plotting_kwargs_temp,         \n",
    "            )\n",
    "\n",
    "\n",
    "plt.title('')\n",
    "\n",
    "plt.show()"
   ]
  },
  {
   "cell_type": "markdown",
   "id": "67",
   "metadata": {},
   "source": [
    "## one stop: 0330 - 326"
   ]
  },
  {
   "cell_type": "code",
   "execution_count": null,
   "id": "68",
   "metadata": {},
   "outputs": [],
   "source": [
    "cgt.make_one_stop_w_ff_df()\n",
    "cgt.one_stop_w_ff_df"
   ]
  },
  {
   "cell_type": "code",
   "execution_count": null,
   "id": "69",
   "metadata": {},
   "outputs": [],
   "source": [
    "cgt.one_stop_w_ff_df"
   ]
  },
  {
   "cell_type": "code",
   "execution_count": null,
   "id": "70",
   "metadata": {},
   "outputs": [],
   "source": [
    "# Iteration 1\n",
    "## trials = [152, 172, 173, 326, 327]\n",
    "trials = [326]\n",
    "one_stop_sub = cgt.one_stop_w_ff_df[cgt.one_stop_w_ff_df['target_index'].isin(trials)]"
   ]
  },
  {
   "cell_type": "code",
   "execution_count": null,
   "id": "71",
   "metadata": {},
   "outputs": [],
   "source": [
    "cgt.make_one_stop_w_ff_df()"
   ]
  },
  {
   "cell_type": "code",
   "execution_count": null,
   "id": "72",
   "metadata": {},
   "outputs": [],
   "source": [
    "counter = 0\n",
    "\n",
    "for index, row in cgt.one_stop_w_ff_df.iloc[20:].iterrows():\n",
    "#for index, row in one_stop_sub.iterrows():\n",
    "    \n",
    "    stop_time = row['time']\n",
    "    point_indices_to_be_marked = [row['point_index']]\n",
    "    indices_of_ff_to_mark = row['nearby_alive_ff_indices']\n",
    "    point_indices_to_mark = [row['point_index']]\n",
    "    show_visible_segments_ff_indices = row['nearby_alive_ff_indices'] + [row['target_index']]\n",
    "    \n",
    "    duration = [stop_time - 2, stop_time + 2]\n",
    "\n",
    "    plotting_kwargs_temp = copy.deepcopy(cgt.plotting_kwargs)\n",
    "    plotting_kwargs_temp.update(shared_kwargs)\n",
    "    plotting_kwargs_temp.update({'show_visible_segments_on_trajectory_ff_indices': show_visible_segments_ff_indices,\n",
    "                                 'indices_of_ff_to_mark': indices_of_ff_to_mark,\n",
    "                                 'point_indices_to_be_marked_2nd_kind': point_indices_to_mark,\n",
    "                                 'dpi': 100\n",
    "                                })\n",
    "\n",
    "    returned_info = plot_trials.PlotTrials(duration, \n",
    "                *cgt.PlotTrials_args,\n",
    "                **plotting_kwargs_temp,         \n",
    "                )\n",
    "    \n",
    "    \n",
    "    plt.title('')\n",
    "\n",
    "    plt.show()\n",
    "    \n",
    "    \n",
    "    \n",
    "    counter += 1\n",
    "    if counter == 20:\n",
    "        break\n"
   ]
  },
  {
   "cell_type": "markdown",
   "id": "73",
   "metadata": {},
   "source": [
    "## one stop: 0326 - 137"
   ]
  },
  {
   "cell_type": "code",
   "execution_count": null,
   "id": "74",
   "metadata": {},
   "outputs": [],
   "source": [
    "cgt.make_one_stop_w_ff_df()\n",
    "cgt.one_stop_w_ff_df"
   ]
  },
  {
   "cell_type": "code",
   "execution_count": null,
   "id": "75",
   "metadata": {},
   "outputs": [],
   "source": [
    "# Iteration 1\n",
    "## trials = [152, 172, 173, 326, 327]\n",
    "trials = [137]\n",
    "one_stop_sub = cgt.one_stop_w_ff_df[cgt.one_stop_w_ff_df['target_index'].isin(trials)]"
   ]
  },
  {
   "cell_type": "code",
   "execution_count": null,
   "id": "76",
   "metadata": {},
   "outputs": [],
   "source": [
    "counter = 0\n",
    "\n",
    "#for index, row in cgt.one_stop_w_ff_df.iloc[20:].iterrows():\n",
    "for index, row in one_stop_sub.iterrows():\n",
    "    \n",
    "    stop_time = row['time']\n",
    "    point_indices_to_be_marked = [row['point_index']]\n",
    "    indices_of_ff_to_mark = row['nearby_alive_ff_indices']\n",
    "    show_visible_segments_ff_indices = row['nearby_alive_ff_indices'] + [row['target_index']]\n",
    "    \n",
    "    duration = [stop_time - 0.9, stop_time + 2]\n",
    "\n",
    "    plotting_kwargs_temp = copy.deepcopy(cgt.plotting_kwargs)\n",
    "    plotting_kwargs_temp.update(shared_kwargs)\n",
    "    plotting_kwargs_temp.update({'show_visible_segments_on_trajectory_ff_indices': show_visible_segments_ff_indices,\n",
    "                                })\n",
    "\n",
    "    returned_info = plot_trials.PlotTrials(duration, \n",
    "                *cgt.PlotTrials_args,\n",
    "                **plotting_kwargs_temp,         \n",
    "                )\n",
    "    \n",
    "    \n",
    "    plt.title('')\n",
    "\n",
    "    plt.show()\n",
    "    \n",
    "    \n",
    "    \n",
    "    counter += 1\n",
    "    if counter == 20:\n",
    "        break\n"
   ]
  },
  {
   "cell_type": "markdown",
   "id": "77",
   "metadata": {},
   "source": [
    "# debug"
   ]
  },
  {
   "cell_type": "code",
   "execution_count": null,
   "id": "78",
   "metadata": {},
   "outputs": [],
   "source": [
    "cgt.one_stop_w_ff_df[cgt.one_stop_w_ff_df['target_index']==326]"
   ]
  },
  {
   "cell_type": "code",
   "execution_count": null,
   "id": "79",
   "metadata": {},
   "outputs": [],
   "source": [
    "cgt.ff_caught_T_new[326]"
   ]
  },
  {
   "cell_type": "code",
   "execution_count": null,
   "id": "80",
   "metadata": {},
   "outputs": [],
   "source": [
    "cgt.ff_dataframe[cgt.ff_dataframe['ff_index']==326]"
   ]
  },
  {
   "cell_type": "code",
   "execution_count": null,
   "id": "81",
   "metadata": {},
   "outputs": [],
   "source": [
    "cgt.ff_dataframe[cgt.ff_dataframe['ff_index']==327]"
   ]
  },
  {
   "cell_type": "code",
   "execution_count": null,
   "id": "82",
   "metadata": {},
   "outputs": [],
   "source": [
    "cgt.monkey_information.loc[52145, 'whether_new_distinct_stop']\n"
   ]
  },
  {
   "cell_type": "code",
   "execution_count": null,
   "id": "83",
   "metadata": {},
   "outputs": [],
   "source": [
    "cgt.monkey_information.loc[cgt.monkey_information['stop_id']==767, ['point_index', 'time', 'stop_id', 'monkey_x', 'monkey_y', 'stop_cluster_id', 'stop_cluster_size']]\n"
   ]
  },
  {
   "cell_type": "code",
   "execution_count": null,
   "id": "84",
   "metadata": {},
   "outputs": [],
   "source": [
    "cgt.monkey_information.loc[62945, 'stop_id']\n"
   ]
  },
  {
   "cell_type": "code",
   "execution_count": null,
   "id": "85",
   "metadata": {},
   "outputs": [],
   "source": [
    "cgt.closest_stop_to_capture_df[cgt.closest_stop_to_capture_df['cur_ff_index']>392]"
   ]
  },
  {
   "cell_type": "code",
   "execution_count": null,
   "id": "86",
   "metadata": {},
   "outputs": [],
   "source": [
    "cgt.closest_stop_to_capture_df[cgt.closest_stop_to_capture_df['cur_ff_index']==394]"
   ]
  },
  {
   "cell_type": "code",
   "execution_count": null,
   "id": "87",
   "metadata": {},
   "outputs": [],
   "source": []
  },
  {
   "cell_type": "markdown",
   "id": "88",
   "metadata": {},
   "source": [
    "## iterate"
   ]
  },
  {
   "cell_type": "code",
   "execution_count": null,
   "id": "89",
   "metadata": {},
   "outputs": [],
   "source": [
    "# Iteration 1\n",
    "## trials = [152, 172, 173, 326, 327]\n",
    "# trials = [977, 883, 326, 382, 486, 507, 794]\n",
    "\n",
    "\n",
    "trials = [368] # debug\n",
    "one_stop_sub = cgt.one_stop_w_ff_df[cgt.one_stop_w_ff_df['target_index'].isin(trials)]\n",
    "one_stop_sub"
   ]
  },
  {
   "cell_type": "code",
   "execution_count": null,
   "id": "90",
   "metadata": {},
   "outputs": [],
   "source": [
    "counter = 0\n",
    "\n",
    "\n",
    "for index, row in cgt.one_stop_w_ff_df.iloc[40:].iterrows():\n",
    "# for index, row in one_stop_sub.iterrows():\n",
    "    \n",
    "    stop_time = row['time']\n",
    "    point_indices_to_be_marked = [row['point_index']]\n",
    "    indices_of_ff_to_mark = row['nearby_alive_ff_indices']\n",
    "    show_visible_segments_ff_indices = row['nearby_alive_ff_indices'] + [row['target_index']]\n",
    "    \n",
    "    duration = [stop_time - 2.5, stop_time + 2]\n",
    "\n",
    "    plotting_kwargs_temp = copy.deepcopy(cgt.plotting_kwargs)\n",
    "    plotting_kwargs_temp.update({'show_path_when_target_visible': False,\n",
    "                                'show_connect_path_ff': False,\n",
    "                                'show_alive_fireflies': False,\n",
    "                                'show_visible_fireflies': False,\n",
    "                                'show_alive_fireflies': False,\n",
    "                                'show_connect_path_ff_memory': False,\n",
    "                                'show_believed_target_positions': True,\n",
    "                                'point_indices_to_be_marked_3rd_kind': point_indices_to_be_marked,\n",
    "                                #'indices_of_ff_to_mark': indices_of_ff_to_mark,\n",
    "                                'show_visible_segments_ff_indices': show_visible_segments_ff_indices,\n",
    "                                'show_scale_bar': False,\n",
    "                                'show_start': False,\n",
    "                                })\n",
    "\n",
    "    returned_info = plot_trials.PlotTrials(duration, \n",
    "                *cgt.PlotTrials_args,\n",
    "                **plotting_kwargs_temp,         \n",
    "                )\n",
    "    \n",
    "    \n",
    "    plt.title('')\n",
    "\n",
    "    plt.show()\n",
    "    \n",
    "    \n",
    "    \n",
    "    counter += 1\n",
    "    if counter == 20:\n",
    "        break\n"
   ]
  },
  {
   "cell_type": "markdown",
   "id": "91",
   "metadata": {},
   "source": [
    "# For ppt"
   ]
  },
  {
   "cell_type": "markdown",
   "id": "92",
   "metadata": {},
   "source": [
    "## Exp"
   ]
  },
  {
   "cell_type": "code",
   "execution_count": null,
   "id": "93",
   "metadata": {},
   "outputs": [],
   "source": [
    "cgt.one_stop_w_ff_df"
   ]
  },
  {
   "cell_type": "code",
   "execution_count": null,
   "id": "94",
   "metadata": {},
   "outputs": [],
   "source": [
    "sort_1_trials = sort_1_df.target_index.values\n",
    "sort_1_name = \"Try a few times\"\n",
    "\n",
    "sort_2_df = cgt.GUAT_cluster_df\n",
    "sort_2_trials = sort_2_df.target_index.values"
   ]
  },
  {
   "cell_type": "code",
   "execution_count": null,
   "id": "95",
   "metadata": {},
   "outputs": [],
   "source": [
    "reload(plot_behaviors_utils)\n",
    "reload(plot_trials)\n",
    "reload(show_null_trajectory)\n",
    "# update the figure size of rcParams\n",
    "plt.rcParams['figure.figsize'] = [9, 9]\n",
    "\n",
    "for trial in sort_1_trials[60:80]:\n",
    "    duration_to_plot = [cgt.ff_caught_T_new[trial] - 3, cgt.ff_caught_T_new[trial] + 1]\n",
    "\n",
    "    max_num_plot_to_make = 1\n",
    "    ff_indices_to_plot_null_arc = np.array([trial]) #np.array([908, 723, 724])\n",
    "    intended_target_ff_index = None #749\n",
    "    point_indices_to_plot_null_arc = []\n",
    "    pretty_null_arc_plot_kwargs_temp = pretty_null_arc_plot_kwargs.copy()\n",
    "    pretty_null_arc_plot_kwargs_temp['show_believed_target_positions'] = True\n",
    "    #pretty_null_arc_plot_kwargs_temp['show_connect_path_ff_specific_indices'] = np.array([668, 656, 657, 704, 797, 798, 824, 658])\n",
    "    pretty_null_arc_plot_kwargs_temp['vary_color_for_connecting_path_ff'] = False\n",
    "    pretty_null_arc_plot_kwargs_temp['show_reward_boundary'] = False\n",
    "    pretty_null_arc_plot_kwargs_temp['how_to_show_ff_for_visible_segments'] = 'circle'\n",
    "\n",
    "    pretty_null_arc_plot_kwargs_temp.update({'show_start': False})\n",
    "\n",
    "    time_to_begin_plotting_null_arc = None\n",
    "    time_between_every_two_null_arcs = 0.3\n",
    "\n",
    "    updated_args = {'title': ''}\n",
    "\n",
    "\n",
    "    show_null_trajectory.make_pretty_plot_for_a_duration(duration_to_plot, cgt.best_arc_df, cgt.monkey_information, cgt.ff_dataframe, cgt.null_arc_info_for_plotting, cgt.null_arc_to_center_info_for_plotting, cgt.PlotTrials_args, pretty_null_arc_plot_kwargs_temp, intended_target_ff_index=intended_target_ff_index,\n",
    "                                            plot_null_arcs= False, ff_max_distance_to_intended_target=230, ff_max_distance_to_path=400, time_between_every_two_null_arcs=time_between_every_two_null_arcs, time_to_begin_plotting_null_arc=time_to_begin_plotting_null_arc, time_to_end_plotting_null_arc=None, max_num_plot_to_make=max_num_plot_to_make,\n",
    "                                            show_intended_target=False, point_indices_to_plot_null_arc=point_indices_to_plot_null_arc, ff_indices_to_plot_null_arc=ff_indices_to_plot_null_arc, whether_mark_path_where_intended_target_has_best_arc_among_all_ff=False, \n",
    "                                            **updated_args)\n"
   ]
  },
  {
   "cell_type": "markdown",
   "id": "96",
   "metadata": {},
   "source": [
    "## TAFT (retry)"
   ]
  },
  {
   "cell_type": "code",
   "execution_count": null,
   "id": "97",
   "metadata": {},
   "outputs": [],
   "source": [
    "reload(plot_behaviors_utils)\n",
    "reload(plot_trials)\n",
    "reload(show_null_trajectory)\n",
    "# update the figure size of rcParams\n",
    "plt.rcParams['figure.figsize'] = [9, 9]\n",
    "duration_to_plot = [1856.504211, 1862.693883]\n",
    "\n",
    "max_num_plot_to_make = 1\n",
    "ff_indices_to_plot_null_arc = np.array([908, 723, 724])\n",
    "intended_target_ff_index = None #749\n",
    "point_indices_to_plot_null_arc = None #[10147]\n",
    "pretty_null_arc_plot_kwargs_temp = pretty_null_arc_plot_kwargs.copy()\n",
    "pretty_null_arc_plot_kwargs_temp['show_believed_target_positions'] = True\n",
    "#pretty_null_arc_plot_kwargs_temp['show_connect_path_ff_specific_indices'] = np.array([668, 656, 657, 704, 797, 798, 824, 658])\n",
    "pretty_null_arc_plot_kwargs_temp['vary_color_for_connecting_path_ff'] = False\n",
    "pretty_null_arc_plot_kwargs_temp['show_reward_boundary'] = False\n",
    "pretty_null_arc_plot_kwargs_temp['how_to_show_ff_for_visible_segments'] = 'circle'\n",
    "\n",
    "pretty_null_arc_plot_kwargs_temp.update({'show_start': False})\n",
    "\n",
    "time_to_begin_plotting_null_arc = None\n",
    "time_between_every_two_null_arcs = 0.3\n",
    "\n",
    "updated_args = {'title': ''}\n",
    "\n",
    "\n",
    "\n",
    "show_null_trajectory.make_pretty_plot_for_a_duration(duration_to_plot, cgt.best_arc_df, cgt.monkey_information, cgt.ff_dataframe, cgt.null_arc_info_for_plotting, cgt.null_arc_to_center_info_for_plotting, cgt.PlotTrials_args, pretty_null_arc_plot_kwargs_temp, intended_target_ff_index=intended_target_ff_index,\n",
    "                                        plot_null_arcs= False, ff_max_distance_to_intended_target=230, ff_max_distance_to_path=400, time_between_every_two_null_arcs=time_between_every_two_null_arcs, time_to_begin_plotting_null_arc=time_to_begin_plotting_null_arc, time_to_end_plotting_null_arc=None, max_num_plot_to_make=max_num_plot_to_make,\n",
    "                                        show_intended_target=False, point_indices_to_plot_null_arc=point_indices_to_plot_null_arc, ff_indices_to_plot_null_arc=ff_indices_to_plot_null_arc, whether_mark_path_where_intended_target_has_best_arc_among_all_ff=False, \n",
    "                                        **updated_args)\n"
   ]
  },
  {
   "cell_type": "markdown",
   "id": "98",
   "metadata": {},
   "source": [
    "## GUAT (switch)"
   ]
  },
  {
   "cell_type": "code",
   "execution_count": null,
   "id": "99",
   "metadata": {},
   "outputs": [],
   "source": [
    "reload(plot_behaviors_utils)\n",
    "reload(plot_trials)\n",
    "reload(show_null_trajectory)\n",
    "# update the figure size of rcParams\n",
    "plt.rcParams['figure.figsize'] = [9, 9]\n",
    "duration_to_plot = [1537.023148, 1542.046287]\n",
    "max_num_plot_to_make = 1\n",
    "ff_indices_to_plot_null_arc = np.array([598, 599, 627])\n",
    "intended_target_ff_index = 717\n",
    "point_indices_to_plot_null_arc = None #[10147]\n",
    "pretty_null_arc_plot_kwargs_temp = pretty_null_arc_plot_kwargs.copy()\n",
    "pretty_null_arc_plot_kwargs_temp['show_believed_target_positions'] = True\n",
    "#\n",
    "pretty_null_arc_plot_kwargs_temp['vary_color_for_connecting_path_ff'] = False\n",
    "pretty_null_arc_plot_kwargs_temp['show_reward_boundary'] = False\n",
    "pretty_null_arc_plot_kwargs_temp['how_to_show_ff_for_visible_segments'] = 'circle'\n",
    "\n",
    "pretty_null_arc_plot_kwargs_temp.update({'show_start': False})\n",
    "\n",
    "time_to_begin_plotting_null_arc = duration_to_plot[0] + 3\n",
    "time_between_every_two_null_arcs = 0.3\n",
    "\n",
    "updated_args = {'title': ''}\n",
    "\n",
    "show_null_trajectory.make_pretty_plot_for_a_duration(duration_to_plot, cgt.best_arc_df, cgt.monkey_information, cgt.ff_dataframe, cgt.null_arc_info_for_plotting, cgt.null_arc_to_center_info_for_plotting, cgt.PlotTrials_args, pretty_null_arc_plot_kwargs_temp, intended_target_ff_index=intended_target_ff_index,\n",
    "                                        plot_null_arcs= False, ff_max_distance_to_intended_target=400, ff_max_distance_to_path=400, time_between_every_two_null_arcs=time_between_every_two_null_arcs, time_to_begin_plotting_null_arc=time_to_begin_plotting_null_arc, time_to_end_plotting_null_arc=None, max_num_plot_to_make=max_num_plot_to_make,\n",
    "                                        show_intended_target=False, point_indices_to_plot_null_arc=point_indices_to_plot_null_arc, ff_indices_to_plot_null_arc=ff_indices_to_plot_null_arc, whether_mark_path_where_intended_target_has_best_arc_among_all_ff=False, \n",
    "                                        **updated_args)\n",
    "\n"
   ]
  },
  {
   "cell_type": "code",
   "execution_count": null,
   "id": "100",
   "metadata": {},
   "outputs": [],
   "source": [
    "stop_time = 135.22936\n",
    "duration_to_plot = [stop_time - 1, stop_time + 1]\n",
    "\n",
    "max_num_plot_to_make = 1\n",
    "ff_indices_to_plot_null_arc = np.array([trial]) #np.array([908, 723, 724])\n",
    "intended_target_ff_index = None #749\n",
    "point_indices_to_plot_null_arc = []\n",
    "pretty_null_arc_plot_kwargs_temp = pretty_null_arc_plot_kwargs.copy()\n",
    "pretty_null_arc_plot_kwargs_temp['show_believed_target_positions'] = True\n",
    "#pretty_null_arc_plot_kwargs_temp['show_connect_path_ff_specific_indices'] = np.array([668, 656, 657, 704, 797, 798, 824, 658])\n",
    "pretty_null_arc_plot_kwargs_temp['vary_color_for_connecting_path_ff'] = False\n",
    "pretty_null_arc_plot_kwargs_temp['show_reward_boundary'] = False\n",
    "pretty_null_arc_plot_kwargs_temp['how_to_show_ff_for_visible_segments'] = 'circle'\n",
    "\n",
    "pretty_null_arc_plot_kwargs_temp.update({'show_start': False})\n",
    "\n",
    "time_to_begin_plotting_null_arc = None\n",
    "time_between_every_two_null_arcs = 0.3\n",
    "\n",
    "updated_args = {'title': ''}\n",
    "\n",
    "\n",
    "show_null_trajectory.make_pretty_plot_for_a_duration(duration_to_plot, cgt.best_arc_df, cgt.monkey_information, cgt.ff_dataframe, cgt.null_arc_info_for_plotting, cgt.null_arc_to_center_info_for_plotting, cgt.PlotTrials_args, pretty_null_arc_plot_kwargs_temp, intended_target_ff_index=intended_target_ff_index,\n",
    "                                        plot_null_arcs= False, ff_max_distance_to_intended_target=230, ff_max_distance_to_path=400, time_between_every_two_null_arcs=time_between_every_two_null_arcs, time_to_begin_plotting_null_arc=time_to_begin_plotting_null_arc, time_to_end_plotting_null_arc=None, max_num_plot_to_make=max_num_plot_to_make,\n",
    "                                        show_intended_target=False, point_indices_to_plot_null_arc=point_indices_to_plot_null_arc, ff_indices_to_plot_null_arc=ff_indices_to_plot_null_arc, whether_mark_path_where_intended_target_has_best_arc_among_all_ff=False, \n",
    "                                        **updated_args)\n"
   ]
  },
  {
   "cell_type": "markdown",
   "id": "101",
   "metadata": {},
   "source": [
    "# For ppt"
   ]
  },
  {
   "cell_type": "markdown",
   "id": "102",
   "metadata": {},
   "source": [
    "## Exp"
   ]
  },
  {
   "cell_type": "code",
   "execution_count": null,
   "id": "103",
   "metadata": {},
   "outputs": [],
   "source": [
    "cgt.make_one_stop_w_ff_df()"
   ]
  },
  {
   "cell_type": "code",
   "execution_count": null,
   "id": "104",
   "metadata": {},
   "outputs": [],
   "source": [
    "sort_1_trials = sort_1_df.target_index.values\n",
    "sort_1_name = \"Try a few times\"\n",
    "\n",
    "sort_2_df = cgt.GUAT_cluster_df\n",
    "sort_2_trials = sort_2_df.target_index.values"
   ]
  },
  {
   "cell_type": "code",
   "execution_count": null,
   "id": "105",
   "metadata": {},
   "outputs": [],
   "source": [
    "reload(plot_behaviors_utils)\n",
    "reload(plot_trials)\n",
    "reload(show_null_trajectory)\n",
    "# update the figure size of rcParams\n",
    "plt.rcParams['figure.figsize'] = [9, 9]\n",
    "\n",
    "for trial in sort_1_trials[60:80]:\n",
    "    duration_to_plot = [cgt.ff_caught_T_new[trial] - 3, cgt.ff_caught_T_new[trial] + 1]\n",
    "\n",
    "    max_num_plot_to_make = 1\n",
    "    ff_indices_to_plot_null_arc = np.array([trial]) #np.array([908, 723, 724])\n",
    "    intended_target_ff_index = None #749\n",
    "    point_indices_to_plot_null_arc = []\n",
    "    pretty_null_arc_plot_kwargs_temp = pretty_null_arc_plot_kwargs.copy()\n",
    "    pretty_null_arc_plot_kwargs_temp['show_believed_target_positions'] = True\n",
    "    #pretty_null_arc_plot_kwargs_temp['show_connect_path_ff_specific_indices'] = np.array([668, 656, 657, 704, 797, 798, 824, 658])\n",
    "    pretty_null_arc_plot_kwargs_temp['vary_color_for_connecting_path_ff'] = False\n",
    "    pretty_null_arc_plot_kwargs_temp['show_reward_boundary'] = False\n",
    "    pretty_null_arc_plot_kwargs_temp['how_to_show_ff_for_visible_segments'] = 'circle'\n",
    "\n",
    "    pretty_null_arc_plot_kwargs_temp.update({'show_start': False})\n",
    "\n",
    "    time_to_begin_plotting_null_arc = None\n",
    "    time_between_every_two_null_arcs = 0.3\n",
    "\n",
    "    updated_args = {'title': ''}\n",
    "\n",
    "\n",
    "    show_null_trajectory.make_pretty_plot_for_a_duration(duration_to_plot, cgt.best_arc_df, cgt.monkey_information, cgt.ff_dataframe, cgt.null_arc_info_for_plotting, cgt.null_arc_to_center_info_for_plotting, cgt.PlotTrials_args, pretty_null_arc_plot_kwargs_temp, intended_target_ff_index=intended_target_ff_index,\n",
    "                                            plot_null_arcs= False, ff_max_distance_to_intended_target=230, ff_max_distance_to_path=400, time_between_every_two_null_arcs=time_between_every_two_null_arcs, time_to_begin_plotting_null_arc=time_to_begin_plotting_null_arc, time_to_end_plotting_null_arc=None, max_num_plot_to_make=max_num_plot_to_make,\n",
    "                                            show_intended_target=False, point_indices_to_plot_null_arc=point_indices_to_plot_null_arc, ff_indices_to_plot_null_arc=ff_indices_to_plot_null_arc, whether_mark_path_where_intended_target_has_best_arc_among_all_ff=False, \n",
    "                                            **updated_args)\n"
   ]
  },
  {
   "cell_type": "markdown",
   "id": "106",
   "metadata": {},
   "source": [
    "## TAFT (retry)"
   ]
  },
  {
   "cell_type": "code",
   "execution_count": null,
   "id": "107",
   "metadata": {},
   "outputs": [],
   "source": [
    "reload(plot_behaviors_utils)\n",
    "reload(plot_trials)\n",
    "reload(show_null_trajectory)\n",
    "# update the figure size of rcParams\n",
    "plt.rcParams['figure.figsize'] = [9, 9]\n",
    "duration_to_plot = [1856.504211, 1862.693883]\n",
    "\n",
    "max_num_plot_to_make = 1\n",
    "ff_indices_to_plot_null_arc = np.array([908, 723, 724])\n",
    "intended_target_ff_index = None #749\n",
    "point_indices_to_plot_null_arc = None #[10147]\n",
    "pretty_null_arc_plot_kwargs_temp = pretty_null_arc_plot_kwargs.copy()\n",
    "pretty_null_arc_plot_kwargs_temp['show_believed_target_positions'] = True\n",
    "#pretty_null_arc_plot_kwargs_temp['show_connect_path_ff_specific_indices'] = np.array([668, 656, 657, 704, 797, 798, 824, 658])\n",
    "pretty_null_arc_plot_kwargs_temp['vary_color_for_connecting_path_ff'] = False\n",
    "pretty_null_arc_plot_kwargs_temp['show_reward_boundary'] = False\n",
    "pretty_null_arc_plot_kwargs_temp['how_to_show_ff_for_visible_segments'] = 'circle'\n",
    "\n",
    "pretty_null_arc_plot_kwargs_temp.update({'show_start': False})\n",
    "\n",
    "time_to_begin_plotting_null_arc = None\n",
    "time_between_every_two_null_arcs = 0.3\n",
    "\n",
    "updated_args = {'title': ''}\n",
    "\n",
    "\n",
    "\n",
    "show_null_trajectory.make_pretty_plot_for_a_duration(duration_to_plot, cgt.best_arc_df, cgt.monkey_information, cgt.ff_dataframe, cgt.null_arc_info_for_plotting, cgt.null_arc_to_center_info_for_plotting, cgt.PlotTrials_args, pretty_null_arc_plot_kwargs_temp, intended_target_ff_index=intended_target_ff_index,\n",
    "                                        plot_null_arcs= False, ff_max_distance_to_intended_target=230, ff_max_distance_to_path=400, time_between_every_two_null_arcs=time_between_every_two_null_arcs, time_to_begin_plotting_null_arc=time_to_begin_plotting_null_arc, time_to_end_plotting_null_arc=None, max_num_plot_to_make=max_num_plot_to_make,\n",
    "                                        show_intended_target=False, point_indices_to_plot_null_arc=point_indices_to_plot_null_arc, ff_indices_to_plot_null_arc=ff_indices_to_plot_null_arc, whether_mark_path_where_intended_target_has_best_arc_among_all_ff=False, \n",
    "                                        **updated_args)\n"
   ]
  },
  {
   "cell_type": "markdown",
   "id": "108",
   "metadata": {},
   "source": [
    "## GUAT (switch)"
   ]
  },
  {
   "cell_type": "code",
   "execution_count": null,
   "id": "109",
   "metadata": {},
   "outputs": [],
   "source": [
    "reload(plot_behaviors_utils)\n",
    "reload(plot_trials)\n",
    "reload(show_null_trajectory)\n",
    "# update the figure size of rcParams\n",
    "plt.rcParams['figure.figsize'] = [9, 9]\n",
    "duration_to_plot = [1537.023148, 1542.046287]\n",
    "max_num_plot_to_make = 1\n",
    "ff_indices_to_plot_null_arc = np.array([598, 599, 627])\n",
    "intended_target_ff_index = 717\n",
    "point_indices_to_plot_null_arc = None #[10147]\n",
    "pretty_null_arc_plot_kwargs_temp = pretty_null_arc_plot_kwargs.copy()\n",
    "pretty_null_arc_plot_kwargs_temp['show_believed_target_positions'] = True\n",
    "#\n",
    "pretty_null_arc_plot_kwargs_temp['vary_color_for_connecting_path_ff'] = False\n",
    "pretty_null_arc_plot_kwargs_temp['show_reward_boundary'] = False\n",
    "pretty_null_arc_plot_kwargs_temp['how_to_show_ff_for_visible_segments'] = 'circle'\n",
    "\n",
    "pretty_null_arc_plot_kwargs_temp.update({'show_start': False})\n",
    "\n",
    "time_to_begin_plotting_null_arc = duration_to_plot[0] + 3\n",
    "time_between_every_two_null_arcs = 0.3\n",
    "\n",
    "updated_args = {'title': ''}\n",
    "\n",
    "show_null_trajectory.make_pretty_plot_for_a_duration(duration_to_plot, cgt.best_arc_df, cgt.monkey_information, cgt.ff_dataframe, cgt.null_arc_info_for_plotting, cgt.null_arc_to_center_info_for_plotting, cgt.PlotTrials_args, pretty_null_arc_plot_kwargs_temp, intended_target_ff_index=intended_target_ff_index,\n",
    "                                        plot_null_arcs= False, ff_max_distance_to_intended_target=400, ff_max_distance_to_path=400, time_between_every_two_null_arcs=time_between_every_two_null_arcs, time_to_begin_plotting_null_arc=time_to_begin_plotting_null_arc, time_to_end_plotting_null_arc=None, max_num_plot_to_make=max_num_plot_to_make,\n",
    "                                        show_intended_target=False, point_indices_to_plot_null_arc=point_indices_to_plot_null_arc, ff_indices_to_plot_null_arc=ff_indices_to_plot_null_arc, whether_mark_path_where_intended_target_has_best_arc_among_all_ff=False, \n",
    "                                        **updated_args)\n",
    "\n"
   ]
  },
  {
   "cell_type": "markdown",
   "id": "110",
   "metadata": {},
   "source": [
    "# GUAT: plot_trajectories"
   ]
  },
  {
   "cell_type": "code",
   "execution_count": null,
   "id": "111",
   "metadata": {},
   "outputs": [],
   "source": [
    "current_i = 60"
   ]
  },
  {
   "cell_type": "code",
   "execution_count": null,
   "id": "112",
   "metadata": {},
   "outputs": [],
   "source": [
    "reload(specific_utils)\n",
    "reload(plot_trials)\n",
    "cgt.null_arc_info_for_plotting_temp = cgt.null_arc_info_for_plotting.copy()\n",
    "cgt.null_arc_info_for_plotting_temp['show_connect_path_ff'] = True\n",
    "category_item.plot_trajectories(trials=category_item.sort_2_trials[current_i:current_i+2], null_arc_info_for_plotting=cgt.null_arc_info_for_plotting_temp)\n",
    "current_i = current_i+2"
   ]
  },
  {
   "cell_type": "markdown",
   "id": "113",
   "metadata": {},
   "source": [
    "## 489 (Bruno 0330)"
   ]
  },
  {
   "cell_type": "code",
   "execution_count": null,
   "id": "114",
   "metadata": {},
   "outputs": [],
   "source": [
    "\n",
    "reload(plot_behaviors_utils)\n",
    "reload(plot_trials)\n",
    "reload(show_null_trajectory)\n",
    "# update the figure size of rcParams\n",
    "plt.rcParams['figure.figsize'] = [9, 9]\n",
    "duration_to_plot = [1254, 1262]\n",
    "max_num_plot_to_make = 1\n",
    "ff_indices_to_plot_null_arc = np.array([1042, 1241, 489, 685, 744])\n",
    "intended_target_ff_index = 1241\n",
    "point_indices_to_plot_null_arc = None #[10147]\n",
    "pretty_null_arc_plot_kwargs_temp = pretty_null_arc_plot_kwargs.copy()\n",
    "pretty_null_arc_plot_kwargs_temp['show_believed_target_positions'] = False\n",
    "\n",
    "pretty_null_arc_plot_kwargs_temp['vary_color_for_connecting_path_ff'] = False\n",
    "pretty_null_arc_plot_kwargs_temp['show_reward_boundary'] = False\n",
    "pretty_null_arc_plot_kwargs_temp['how_to_show_ff_for_visible_segments'] = 'circle'\n",
    "\n",
    "time_to_begin_plotting_null_arc = duration_to_plot[0] + 3\n",
    "time_between_every_two_null_arcs = 0.3\n",
    "\n",
    "\n",
    "show_null_trajectory.make_pretty_plot_for_a_duration(duration_to_plot, cgt.best_arc_df, cgt.monkey_information, cgt.ff_dataframe, cgt.null_arc_info_for_plotting, cgt.null_arc_to_center_info_for_plotting, cgt.PlotTrials_args, pretty_null_arc_plot_kwargs_temp, intended_target_ff_index=intended_target_ff_index,\n",
    "                                        plot_null_arcs= False, ff_max_distance_to_intended_target=400, ff_max_distance_to_path=400, time_between_every_two_null_arcs=time_between_every_two_null_arcs, time_to_begin_plotting_null_arc=time_to_begin_plotting_null_arc, time_to_end_plotting_null_arc=None, max_num_plot_to_make=max_num_plot_to_make,\n",
    "                                        show_intended_target=False, show_ff_indices=False, point_indices_to_plot_null_arc=point_indices_to_plot_null_arc, ff_indices_to_plot_null_arc=ff_indices_to_plot_null_arc, whether_mark_path_where_intended_target_has_best_arc_among_all_ff=False, \n",
    "                                        )"
   ]
  },
  {
   "cell_type": "markdown",
   "id": "115",
   "metadata": {},
   "source": [
    "## 567 ??"
   ]
  },
  {
   "cell_type": "code",
   "execution_count": null,
   "id": "116",
   "metadata": {},
   "outputs": [],
   "source": [
    "reload(plot_behaviors_utils)\n",
    "reload(plot_trials)\n",
    "reload(show_null_trajectory)\n",
    "# update the figure size of rcParams\n",
    "plt.rcParams['figure.figsize'] = [9, 9]\n",
    "# duration_to_plot = [1469.670162, 1475.0996949999999]\n",
    "duration_to_plot = [1471, 1475.0996949999999]\n",
    "max_num_plot_to_make = 1\n",
    "ff_indices_to_plot_null_arc = np.array([780, 703, 655, 567])\n",
    "intended_target_ff_index = None #1241\n",
    "point_indices_to_plot_null_arc = None #[10147]\n",
    "pretty_null_arc_plot_kwargs_temp = pretty_null_arc_plot_kwargs.copy()\n",
    "pretty_null_arc_plot_kwargs_temp['show_believed_target_positions'] = True\n",
    "\n",
    "pretty_null_arc_plot_kwargs_temp['vary_color_for_connecting_path_ff'] = False\n",
    "pretty_null_arc_plot_kwargs_temp['show_reward_boundary'] = False\n",
    "pretty_null_arc_plot_kwargs_temp['how_to_show_ff_for_visible_segments'] = 'circle'\n",
    "\n",
    "time_to_begin_plotting_null_arc = duration_to_plot[0] + 3\n",
    "time_between_every_two_null_arcs = 0.3\n",
    "\n",
    "\n",
    "show_null_trajectory.make_pretty_plot_for_a_duration(duration_to_plot, cgt.best_arc_df, cgt.monkey_information, cgt.ff_dataframe, cgt.null_arc_info_for_plotting, cgt.null_arc_to_center_info_for_plotting, cgt.PlotTrials_args, pretty_null_arc_plot_kwargs_temp, intended_target_ff_index=intended_target_ff_index,\n",
    "                                        plot_null_arcs= False, ff_max_distance_to_intended_target=400, ff_max_distance_to_path=400, time_between_every_two_null_arcs=time_between_every_two_null_arcs, time_to_begin_plotting_null_arc=time_to_begin_plotting_null_arc, time_to_end_plotting_null_arc=None, max_num_plot_to_make=max_num_plot_to_make,\n",
    "                                        show_intended_target=False, point_indices_to_plot_null_arc=point_indices_to_plot_null_arc, ff_indices_to_plot_null_arc=ff_indices_to_plot_null_arc, whether_mark_path_where_intended_target_has_best_arc_among_all_ff=False, \n",
    "                                        )"
   ]
  },
  {
   "cell_type": "markdown",
   "id": "117",
   "metadata": {},
   "source": [
    "## 575 ?"
   ]
  },
  {
   "cell_type": "code",
   "execution_count": null,
   "id": "118",
   "metadata": {},
   "outputs": [],
   "source": [
    "reload(plot_behaviors_utils)\n",
    "reload(plot_trials)\n",
    "reload(show_null_trajectory)\n",
    "# update the figure size of rcParams\n",
    "plt.rcParams['figure.figsize'] = [9, 9]\n",
    "duration_to_plot = [1483.929318, 1489.226027]\n",
    "max_num_plot_to_make = 1\n",
    "ff_indices_to_plot_null_arc = np.array([575, 576, 624, 1620, 1170, 1351])\n",
    "intended_target_ff_index = None #1241\n",
    "point_indices_to_plot_null_arc = None #[10147]\n",
    "pretty_null_arc_plot_kwargs_temp = pretty_null_arc_plot_kwargs.copy()\n",
    "pretty_null_arc_plot_kwargs_temp['show_believed_target_positions'] = False\n",
    "\n",
    "pretty_null_arc_plot_kwargs_temp['vary_color_for_connecting_path_ff'] = False\n",
    "pretty_null_arc_plot_kwargs_temp['show_reward_boundary'] = False\n",
    "pretty_null_arc_plot_kwargs_temp['how_to_show_ff_for_visible_segments'] = 'circle'\n",
    "\n",
    "time_to_begin_plotting_null_arc = duration_to_plot[0] + 3\n",
    "time_between_every_two_null_arcs = 0.3\n",
    "\n",
    "\n",
    "show_null_trajectory.make_pretty_plot_for_a_duration(duration_to_plot, cgt.best_arc_df, cgt.monkey_information, cgt.ff_dataframe, cgt.null_arc_info_for_plotting, cgt.null_arc_to_center_info_for_plotting, cgt.PlotTrials_args, pretty_null_arc_plot_kwargs_temp, intended_target_ff_index=intended_target_ff_index,\n",
    "                                        plot_null_arcs= False, ff_max_distance_to_intended_target=400, ff_max_distance_to_path=400, time_between_every_two_null_arcs=time_between_every_two_null_arcs, time_to_begin_plotting_null_arc=time_to_begin_plotting_null_arc, time_to_end_plotting_null_arc=None, max_num_plot_to_make=max_num_plot_to_make,\n",
    "                                        show_intended_target=False, show_ff_indices=False, point_indices_to_plot_null_arc=point_indices_to_plot_null_arc, ff_indices_to_plot_null_arc=ff_indices_to_plot_null_arc, whether_mark_path_where_intended_target_has_best_arc_among_all_ff=False, \n",
    "                                        )"
   ]
  },
  {
   "cell_type": "markdown",
   "id": "119",
   "metadata": {},
   "source": [
    "## 586"
   ]
  },
  {
   "cell_type": "code",
   "execution_count": null,
   "id": "120",
   "metadata": {},
   "outputs": [],
   "source": [
    "reload(plot_behaviors_utils)\n",
    "reload(plot_trials)\n",
    "reload(show_null_trajectory)\n",
    "# update the figure size of rcParams\n",
    "plt.rcParams['figure.figsize'] = [9, 9]\n",
    "duration_to_plot = [1504.795097, 1512.714639]\n",
    "max_num_plot_to_make = 1\n",
    "ff_indices_to_plot_null_arc = np.array([595])\n",
    "intended_target_ff_index = 595\n",
    "point_indices_to_plot_null_arc = None #[10147]\n",
    "pretty_null_arc_plot_kwargs_temp = pretty_null_arc_plot_kwargs.copy()\n",
    "pretty_null_arc_plot_kwargs_temp['show_believed_target_positions'] = False\n",
    "\n",
    "pretty_null_arc_plot_kwargs_temp['vary_color_for_connecting_path_ff'] = False\n",
    "pretty_null_arc_plot_kwargs_temp['show_reward_boundary'] = False\n",
    "pretty_null_arc_plot_kwargs_temp['how_to_show_ff_for_visible_segments'] = 'circle'\n",
    "\n",
    "time_to_begin_plotting_null_arc = duration_to_plot[0] + 3\n",
    "time_between_every_two_null_arcs = 0.3\n",
    "\n",
    "\n",
    "show_null_trajectory.make_pretty_plot_for_a_duration(duration_to_plot, cgt.best_arc_df, cgt.monkey_information, cgt.ff_dataframe, cgt.null_arc_info_for_plotting, cgt.null_arc_to_center_info_for_plotting, cgt.PlotTrials_args, pretty_null_arc_plot_kwargs_temp, intended_target_ff_index=intended_target_ff_index,\n",
    "                                        plot_null_arcs= False, ff_max_distance_to_intended_target=400, ff_max_distance_to_path=400, time_between_every_two_null_arcs=time_between_every_two_null_arcs, time_to_begin_plotting_null_arc=time_to_begin_plotting_null_arc, time_to_end_plotting_null_arc=None, max_num_plot_to_make=max_num_plot_to_make,\n",
    "                                        show_intended_target=False, point_indices_to_plot_null_arc=point_indices_to_plot_null_arc, ff_indices_to_plot_null_arc=ff_indices_to_plot_null_arc, whether_mark_path_where_intended_target_has_best_arc_among_all_ff=False, \n",
    "                                        )"
   ]
  },
  {
   "cell_type": "markdown",
   "id": "121",
   "metadata": {},
   "source": [
    "## 599 ??"
   ]
  },
  {
   "cell_type": "code",
   "execution_count": null,
   "id": "122",
   "metadata": {},
   "outputs": [],
   "source": [
    "reload(plot_behaviors_utils)\n",
    "reload(plot_trials)\n",
    "reload(show_null_trajectory)\n",
    "# update the figure size of rcParams\n",
    "plt.rcParams['figure.figsize'] = [9, 9]\n",
    "duration_to_plot = [1537.023148, 1542.046287]\n",
    "max_num_plot_to_make = 1\n",
    "ff_indices_to_plot_null_arc = np.array([598, 599, 627])\n",
    "intended_target_ff_index = 717\n",
    "point_indices_to_plot_null_arc = None #[10147]\n",
    "pretty_null_arc_plot_kwargs_temp = pretty_null_arc_plot_kwargs.copy()\n",
    "pretty_null_arc_plot_kwargs_temp['show_believed_target_positions'] = True\n",
    "#\n",
    "pretty_null_arc_plot_kwargs_temp['vary_color_for_connecting_path_ff'] = False\n",
    "pretty_null_arc_plot_kwargs_temp['show_reward_boundary'] = False\n",
    "pretty_null_arc_plot_kwargs_temp['how_to_show_ff_for_visible_segments'] = 'circle'\n",
    "\n",
    "time_to_begin_plotting_null_arc = duration_to_plot[0] + 3\n",
    "time_between_every_two_null_arcs = 0.3\n",
    "\n",
    "\n",
    "show_null_trajectory.make_pretty_plot_for_a_duration(duration_to_plot, cgt.best_arc_df, cgt.monkey_information, cgt.ff_dataframe, cgt.null_arc_info_for_plotting, cgt.null_arc_to_center_info_for_plotting, cgt.PlotTrials_args, pretty_null_arc_plot_kwargs_temp, intended_target_ff_index=intended_target_ff_index,\n",
    "                                        plot_null_arcs= False, ff_max_distance_to_intended_target=400, ff_max_distance_to_path=400, time_between_every_two_null_arcs=time_between_every_two_null_arcs, time_to_begin_plotting_null_arc=time_to_begin_plotting_null_arc, time_to_end_plotting_null_arc=None, max_num_plot_to_make=max_num_plot_to_make,\n",
    "                                        show_intended_target=False, point_indices_to_plot_null_arc=point_indices_to_plot_null_arc, ff_indices_to_plot_null_arc=ff_indices_to_plot_null_arc, whether_mark_path_where_intended_target_has_best_arc_among_all_ff=False, \n",
    "                                        )\n",
    "\n"
   ]
  },
  {
   "cell_type": "markdown",
   "id": "123",
   "metadata": {},
   "source": [
    "## 622"
   ]
  },
  {
   "cell_type": "code",
   "execution_count": null,
   "id": "124",
   "metadata": {},
   "outputs": [],
   "source": [
    "reload(plot_behaviors_utils)\n",
    "reload(plot_trials)\n",
    "reload(show_null_trajectory)\n",
    "# update the figure size of rcParams\n",
    "plt.rcParams['figure.figsize'] = [9, 9]\n",
    "duration_to_plot = [1594.507002, 1597.611809]\n",
    "max_num_plot_to_make = 1\n",
    "ff_indices_to_plot_null_arc = np.array([1351, 831, 856])\n",
    "intended_target_ff_index = 856\n",
    "point_indices_to_plot_null_arc = None #[10147]\n",
    "pretty_null_arc_plot_kwargs_temp = pretty_null_arc_plot_kwargs.copy()\n",
    "pretty_null_arc_plot_kwargs_temp['show_believed_target_positions'] = True\n",
    "\n",
    "pretty_null_arc_plot_kwargs_temp['vary_color_for_connecting_path_ff'] = False\n",
    "pretty_null_arc_plot_kwargs_temp['show_reward_boundary'] = False\n",
    "pretty_null_arc_plot_kwargs_temp['how_to_show_ff_for_visible_segments'] = 'circle'\n",
    "\n",
    "time_to_begin_plotting_null_arc = duration_to_plot[0] + 1\n",
    "time_between_every_two_null_arcs = 0.3\n",
    "\n",
    "\n",
    "show_null_trajectory.make_pretty_plot_for_a_duration(duration_to_plot, cgt.best_arc_df, cgt.monkey_information, cgt.ff_dataframe, cgt.null_arc_info_for_plotting, cgt.null_arc_to_center_info_for_plotting, cgt.PlotTrials_args, pretty_null_arc_plot_kwargs_temp, intended_target_ff_index=intended_target_ff_index,\n",
    "                                        plot_null_arcs= False, ff_max_distance_to_intended_target=400, ff_max_distance_to_path=400, time_between_every_two_null_arcs=time_between_every_two_null_arcs, time_to_begin_plotting_null_arc=time_to_begin_plotting_null_arc, time_to_end_plotting_null_arc=None, max_num_plot_to_make=max_num_plot_to_make,\n",
    "                                        show_intended_target=False, point_indices_to_plot_null_arc=point_indices_to_plot_null_arc, ff_indices_to_plot_null_arc=ff_indices_to_plot_null_arc, whether_mark_path_where_intended_target_has_best_arc_among_all_ff=False, \n",
    "                                        )"
   ]
  },
  {
   "cell_type": "markdown",
   "id": "125",
   "metadata": {},
   "source": [
    "## 636"
   ]
  },
  {
   "cell_type": "code",
   "execution_count": null,
   "id": "126",
   "metadata": {},
   "outputs": [],
   "source": [
    "reload(plot_behaviors_utils)\n",
    "reload(plot_trials)\n",
    "reload(show_null_trajectory)\n",
    "# update the figure size of rcParams\n",
    "plt.rcParams['figure.figsize'] = [9, 9]\n",
    "# duration_to_plot = [1625.433097, 1629.310465]\n",
    "duration_to_plot = [1621.433097, 1629.310465]\n",
    "max_num_plot_to_make = 1\n",
    "ff_indices_to_plot_null_arc = np.array([1464, 878, 636, 974])\n",
    "intended_target_ff_index = 636\n",
    "point_indices_to_plot_null_arc = None #[10147]\n",
    "pretty_null_arc_plot_kwargs_temp = pretty_null_arc_plot_kwargs.copy()\n",
    "pretty_null_arc_plot_kwargs_temp['show_believed_target_positions'] = True\n",
    "\n",
    "pretty_null_arc_plot_kwargs_temp['vary_color_for_connecting_path_ff'] = False\n",
    "pretty_null_arc_plot_kwargs_temp['show_reward_boundary'] = False\n",
    "pretty_null_arc_plot_kwargs_temp['how_to_show_ff_for_visible_segments'] = 'circle'\n",
    "\n",
    "time_to_begin_plotting_null_arc = None\n",
    "time_between_every_two_null_arcs = 0.3\n",
    "\n",
    "\n",
    "show_null_trajectory.make_pretty_plot_for_a_duration(duration_to_plot, cgt.best_arc_df, cgt.monkey_information, cgt.ff_dataframe, cgt.null_arc_info_for_plotting, cgt.null_arc_to_center_info_for_plotting, cgt.PlotTrials_args, pretty_null_arc_plot_kwargs_temp, intended_target_ff_index=intended_target_ff_index,\n",
    "                                        plot_null_arcs= False, ff_max_distance_to_intended_target=400, ff_max_distance_to_path=400, time_between_every_two_null_arcs=time_between_every_two_null_arcs, time_to_begin_plotting_null_arc=time_to_begin_plotting_null_arc, time_to_end_plotting_null_arc=None, max_num_plot_to_make=max_num_plot_to_make,\n",
    "                                        show_intended_target=False, point_indices_to_plot_null_arc=point_indices_to_plot_null_arc, ff_indices_to_plot_null_arc=ff_indices_to_plot_null_arc, whether_mark_path_where_intended_target_has_best_arc_among_all_ff=False, \n",
    "                                        )"
   ]
  },
  {
   "cell_type": "markdown",
   "id": "127",
   "metadata": {},
   "source": [
    "## 641"
   ]
  },
  {
   "cell_type": "code",
   "execution_count": null,
   "id": "128",
   "metadata": {},
   "outputs": [],
   "source": [
    "reload(plot_behaviors_utils)\n",
    "reload(plot_trials)\n",
    "reload(show_null_trajectory)\n",
    "# update the figure size of rcParams\n",
    "plt.rcParams['figure.figsize'] = [9, 9]\n",
    "duration_to_plot = [1643, 1655]\n",
    "\n",
    "max_num_plot_to_make = 1\n",
    "ff_indices_to_plot_null_arc = np.array([726, 665])\n",
    "intended_target_ff_index = 726\n",
    "point_indices_to_plot_null_arc = None #[10147]\n",
    "pretty_null_arc_plot_kwargs_temp = pretty_null_arc_plot_kwargs.copy()\n",
    "pretty_null_arc_plot_kwargs_temp['show_believed_target_positions'] = False\n",
    "\n",
    "pretty_null_arc_plot_kwargs_temp['vary_color_for_connecting_path_ff'] = False\n",
    "pretty_null_arc_plot_kwargs_temp['show_reward_boundary'] = False\n",
    "pretty_null_arc_plot_kwargs_temp['how_to_show_ff_for_visible_segments'] = 'circle'\n",
    "\n",
    "time_to_begin_plotting_null_arc = None\n",
    "time_between_every_two_null_arcs = 0.3\n",
    "\n",
    "\n",
    "show_null_trajectory.make_pretty_plot_for_a_duration(duration_to_plot, cgt.best_arc_df, cgt.monkey_information, cgt.ff_dataframe, cgt.null_arc_info_for_plotting, cgt.null_arc_to_center_info_for_plotting, cgt.PlotTrials_args, pretty_null_arc_plot_kwargs_temp, intended_target_ff_index=intended_target_ff_index,\n",
    "                                        plot_null_arcs= False, ff_max_distance_to_intended_target=400, ff_max_distance_to_path=400, time_between_every_two_null_arcs=time_between_every_two_null_arcs, time_to_begin_plotting_null_arc=time_to_begin_plotting_null_arc, time_to_end_plotting_null_arc=None, max_num_plot_to_make=max_num_plot_to_make,\n",
    "                                        show_intended_target=False, point_indices_to_plot_null_arc=point_indices_to_plot_null_arc, ff_indices_to_plot_null_arc=ff_indices_to_plot_null_arc, whether_mark_path_where_intended_target_has_best_arc_among_all_ff=False, \n",
    "                                        )"
   ]
  },
  {
   "cell_type": "markdown",
   "id": "129",
   "metadata": {},
   "source": [
    "## 641 (2) x"
   ]
  },
  {
   "cell_type": "code",
   "execution_count": null,
   "id": "130",
   "metadata": {},
   "outputs": [],
   "source": [
    "reload(plot_behaviors_utils)\n",
    "reload(plot_trials)\n",
    "reload(show_null_trajectory)\n",
    "# update the figure size of rcParams\n",
    "plt.rcParams['figure.figsize'] = [9, 9]\n",
    "duration_to_plot = [1646, 1652]\n",
    "\n",
    "max_num_plot_to_make = 1\n",
    "ff_indices_to_plot_null_arc = np.array([822, 641, 665])\n",
    "intended_target_ff_index = 822\n",
    "point_indices_to_plot_null_arc = None #[10147]\n",
    "pretty_null_arc_plot_kwargs_temp = pretty_null_arc_plot_kwargs.copy()\n",
    "pretty_null_arc_plot_kwargs_temp['show_believed_target_positions'] = True\n",
    "\n",
    "pretty_null_arc_plot_kwargs_temp['vary_color_for_connecting_path_ff'] = False\n",
    "pretty_null_arc_plot_kwargs_temp['show_reward_boundary'] = False\n",
    "pretty_null_arc_plot_kwargs_temp['how_to_show_ff_for_visible_segments'] = 'circle'\n",
    "\n",
    "time_to_begin_plotting_null_arc = None\n",
    "time_between_every_two_null_arcs = 0.3\n",
    "\n",
    "\n",
    "show_null_trajectory.make_pretty_plot_for_a_duration(duration_to_plot, cgt.best_arc_df, cgt.monkey_information, cgt.ff_dataframe, cgt.null_arc_info_for_plotting, cgt.null_arc_to_center_info_for_plotting, cgt.PlotTrials_args, pretty_null_arc_plot_kwargs_temp, intended_target_ff_index=intended_target_ff_index,\n",
    "                                        plot_null_arcs= False, ff_max_distance_to_intended_target=400, ff_max_distance_to_path=400, time_between_every_two_null_arcs=time_between_every_two_null_arcs, time_to_begin_plotting_null_arc=time_to_begin_plotting_null_arc, time_to_end_plotting_null_arc=None, max_num_plot_to_make=max_num_plot_to_make,\n",
    "                                        show_intended_target=False, point_indices_to_plot_null_arc=point_indices_to_plot_null_arc, ff_indices_to_plot_null_arc=ff_indices_to_plot_null_arc, whether_mark_path_where_intended_target_has_best_arc_among_all_ff=False, \n",
    "                                        )"
   ]
  },
  {
   "cell_type": "markdown",
   "id": "131",
   "metadata": {},
   "source": [
    "## 650 ?"
   ]
  },
  {
   "cell_type": "code",
   "execution_count": null,
   "id": "132",
   "metadata": {},
   "outputs": [],
   "source": [
    "reload(plot_behaviors_utils)\n",
    "reload(plot_trials)\n",
    "reload(show_null_trajectory)\n",
    "# update the figure size of rcParams\n",
    "plt.rcParams['figure.figsize'] = [9, 9]\n",
    "duration_to_plot = [1666.310034, 1671.855963]\n",
    "\n",
    "max_num_plot_to_make = 1\n",
    "ff_indices_to_plot_null_arc = np.array([1089, 694, 650])\n",
    "intended_target_ff_index = None#822\n",
    "point_indices_to_plot_null_arc = None #[10147]\n",
    "pretty_null_arc_plot_kwargs_temp = pretty_null_arc_plot_kwargs.copy()\n",
    "pretty_null_arc_plot_kwargs_temp['show_believed_target_positions'] = True\n",
    "\n",
    "pretty_null_arc_plot_kwargs_temp['vary_color_for_connecting_path_ff'] = False\n",
    "pretty_null_arc_plot_kwargs_temp['show_reward_boundary'] = False\n",
    "pretty_null_arc_plot_kwargs_temp['how_to_show_ff_for_visible_segments'] = 'circle'\n",
    "\n",
    "time_to_begin_plotting_null_arc = None\n",
    "time_between_every_two_null_arcs = 0.3\n",
    "\n",
    "\n",
    "show_null_trajectory.make_pretty_plot_for_a_duration(duration_to_plot, cgt.best_arc_df, cgt.monkey_information, cgt.ff_dataframe, cgt.null_arc_info_for_plotting, cgt.null_arc_to_center_info_for_plotting, cgt.PlotTrials_args, pretty_null_arc_plot_kwargs_temp, intended_target_ff_index=intended_target_ff_index,\n",
    "                                        plot_null_arcs= False, ff_max_distance_to_intended_target=400, ff_max_distance_to_path=400, time_between_every_two_null_arcs=time_between_every_two_null_arcs, time_to_begin_plotting_null_arc=time_to_begin_plotting_null_arc, time_to_end_plotting_null_arc=None, max_num_plot_to_make=max_num_plot_to_make,\n",
    "                                        show_intended_target=False, point_indices_to_plot_null_arc=point_indices_to_plot_null_arc, ff_indices_to_plot_null_arc=ff_indices_to_plot_null_arc, whether_mark_path_where_intended_target_has_best_arc_among_all_ff=False, \n",
    "                                        )"
   ]
  },
  {
   "cell_type": "markdown",
   "id": "133",
   "metadata": {},
   "source": [
    "## 653"
   ]
  },
  {
   "cell_type": "code",
   "execution_count": null,
   "id": "134",
   "metadata": {},
   "outputs": [],
   "source": [
    "reload(plot_behaviors_utils)\n",
    "reload(plot_trials)\n",
    "reload(show_null_trajectory)\n",
    "# update the figure size of rcParams\n",
    "plt.rcParams['figure.figsize'] = [9, 9]\n",
    "duration_to_plot = [1674.543492, 1681.62897]\n",
    "\n",
    "max_num_plot_to_make = 1\n",
    "ff_indices_to_plot_null_arc = np.array([708, 660, 820])\n",
    "intended_target_ff_index = 820\n",
    "point_indices_to_plot_null_arc = None #[10147]\n",
    "pretty_null_arc_plot_kwargs_temp = pretty_null_arc_plot_kwargs.copy()\n",
    "pretty_null_arc_plot_kwargs_temp['show_believed_target_positions'] = True\n",
    "\n",
    "pretty_null_arc_plot_kwargs_temp['vary_color_for_connecting_path_ff'] = False\n",
    "pretty_null_arc_plot_kwargs_temp['show_reward_boundary'] = False\n",
    "pretty_null_arc_plot_kwargs_temp['how_to_show_ff_for_visible_segments'] = 'circle'\n",
    "\n",
    "time_to_begin_plotting_null_arc = None\n",
    "time_between_every_two_null_arcs = 0.3\n",
    "\n",
    "\n",
    "show_null_trajectory.make_pretty_plot_for_a_duration(duration_to_plot, cgt.best_arc_df, cgt.monkey_information, cgt.ff_dataframe, cgt.null_arc_info_for_plotting, cgt.null_arc_to_center_info_for_plotting, cgt.PlotTrials_args, pretty_null_arc_plot_kwargs_temp, intended_target_ff_index=intended_target_ff_index,\n",
    "                                        plot_null_arcs= False, ff_max_distance_to_intended_target=400, ff_max_distance_to_path=400, time_between_every_two_null_arcs=time_between_every_two_null_arcs, time_to_begin_plotting_null_arc=time_to_begin_plotting_null_arc, time_to_end_plotting_null_arc=None, max_num_plot_to_make=max_num_plot_to_make,\n",
    "                                        show_intended_target=False, point_indices_to_plot_null_arc=point_indices_to_plot_null_arc, ff_indices_to_plot_null_arc=ff_indices_to_plot_null_arc, whether_mark_path_where_intended_target_has_best_arc_among_all_ff=False, \n",
    "                                        )"
   ]
  },
  {
   "cell_type": "markdown",
   "id": "135",
   "metadata": {},
   "source": [
    "## 653 (2)"
   ]
  },
  {
   "cell_type": "code",
   "execution_count": null,
   "id": "136",
   "metadata": {},
   "outputs": [],
   "source": [
    "reload(plot_behaviors_utils)\n",
    "reload(plot_trials)\n",
    "reload(show_null_trajectory)\n",
    "# update the figure size of rcParams\n",
    "plt.rcParams['figure.figsize'] = [9, 9]\n",
    "duration_to_plot = [1677.543492, 1683.62897]\n",
    "\n",
    "max_num_plot_to_make = 1\n",
    "ff_indices_to_plot_null_arc = np.array([708, 690, 771, 653, 789])\n",
    "intended_target_ff_index = 708\n",
    "point_indices_to_plot_null_arc = None #[10147]\n",
    "pretty_null_arc_plot_kwargs_temp = pretty_null_arc_plot_kwargs.copy()\n",
    "pretty_null_arc_plot_kwargs_temp['show_believed_target_positions'] = True\n",
    "\n",
    "pretty_null_arc_plot_kwargs_temp['vary_color_for_connecting_path_ff'] = False\n",
    "pretty_null_arc_plot_kwargs_temp['show_reward_boundary'] = False\n",
    "pretty_null_arc_plot_kwargs_temp['how_to_show_ff_for_visible_segments'] = 'circle'\n",
    "\n",
    "time_to_begin_plotting_null_arc = None\n",
    "time_between_every_two_null_arcs = 0.3\n",
    "\n",
    "\n",
    "show_null_trajectory.make_pretty_plot_for_a_duration(duration_to_plot, cgt.best_arc_df, cgt.monkey_information, cgt.ff_dataframe, cgt.null_arc_info_for_plotting, cgt.null_arc_to_center_info_for_plotting, cgt.PlotTrials_args, pretty_null_arc_plot_kwargs_temp, intended_target_ff_index=intended_target_ff_index,\n",
    "                                        plot_null_arcs= False, ff_max_distance_to_intended_target=400, ff_max_distance_to_path=400, time_between_every_two_null_arcs=time_between_every_two_null_arcs, time_to_begin_plotting_null_arc=time_to_begin_plotting_null_arc, time_to_end_plotting_null_arc=None, max_num_plot_to_make=max_num_plot_to_make,\n",
    "                                        show_intended_target=False, point_indices_to_plot_null_arc=point_indices_to_plot_null_arc, ff_indices_to_plot_null_arc=ff_indices_to_plot_null_arc, whether_mark_path_where_intended_target_has_best_arc_among_all_ff=False, \n",
    "                                        )"
   ]
  },
  {
   "cell_type": "markdown",
   "id": "137",
   "metadata": {},
   "source": [
    "## 658 (too hard to see)"
   ]
  },
  {
   "cell_type": "code",
   "execution_count": null,
   "id": "138",
   "metadata": {},
   "outputs": [],
   "source": [
    "reload(plot_behaviors_utils)\n",
    "reload(plot_trials)\n",
    "reload(show_null_trajectory)\n",
    "# update the figure size of rcParams\n",
    "plt.rcParams['figure.figsize'] = [9, 9]\n",
    "duration_to_plot = [1684.973395, 1692.555617]\n",
    "\n",
    "max_num_plot_to_make = 1\n",
    "ff_indices_to_plot_null_arc = np.array([668, 656, 657, 704, 797, 798, 824, 658])\n",
    "intended_target_ff_index = None # 658\n",
    "point_indices_to_plot_null_arc = None #[10147]\n",
    "pretty_null_arc_plot_kwargs_temp = pretty_null_arc_plot_kwargs.copy()\n",
    "pretty_null_arc_plot_kwargs_temp['show_believed_target_positions'] = True\n",
    "pretty_null_arc_plot_kwargs_temp['vary_color_for_connecting_path_ff'] = False\n",
    "pretty_null_arc_plot_kwargs_temp['show_reward_boundary'] = False\n",
    "pretty_null_arc_plot_kwargs_temp['how_to_show_ff_for_visible_segments'] = 'circle'\n",
    "\n",
    "time_to_begin_plotting_null_arc = None\n",
    "time_between_every_two_null_arcs = 0.3\n",
    "\n",
    "\n",
    "show_null_trajectory.make_pretty_plot_for_a_duration(duration_to_plot, cgt.best_arc_df, cgt.monkey_information, cgt.ff_dataframe, cgt.null_arc_info_for_plotting, cgt.null_arc_to_center_info_for_plotting, cgt.PlotTrials_args, pretty_null_arc_plot_kwargs_temp, intended_target_ff_index=intended_target_ff_index,\n",
    "                                        plot_null_arcs= False, ff_max_distance_to_intended_target=400, ff_max_distance_to_path=400, time_between_every_two_null_arcs=time_between_every_two_null_arcs, time_to_begin_plotting_null_arc=time_to_begin_plotting_null_arc, time_to_end_plotting_null_arc=None, max_num_plot_to_make=max_num_plot_to_make,\n",
    "                                        show_intended_target=False, point_indices_to_plot_null_arc=point_indices_to_plot_null_arc, ff_indices_to_plot_null_arc=ff_indices_to_plot_null_arc, whether_mark_path_where_intended_target_has_best_arc_among_all_ff=False, \n",
    "                                        )\n"
   ]
  },
  {
   "cell_type": "markdown",
   "id": "139",
   "metadata": {},
   "source": [
    "## 660 "
   ]
  },
  {
   "cell_type": "code",
   "execution_count": null,
   "id": "140",
   "metadata": {},
   "outputs": [],
   "source": [
    "reload(plot_behaviors_utils)\n",
    "reload(plot_trials)\n",
    "reload(show_null_trajectory)\n",
    "# update the figure size of rcParams\n",
    "plt.rcParams['figure.figsize'] = [9, 9]\n",
    "duration_to_plot = [1692.487749, 1697.950517]\n",
    "\n",
    "max_num_plot_to_make = 1\n",
    "ff_indices_to_plot_null_arc = np.array([751, 660, 820, 661])\n",
    "intended_target_ff_index = 751\n",
    "point_indices_to_plot_null_arc = None #[10147]\n",
    "pretty_null_arc_plot_kwargs_temp = pretty_null_arc_plot_kwargs.copy()\n",
    "pretty_null_arc_plot_kwargs_temp['show_believed_target_positions'] = True\n",
    "#pretty_null_arc_plot_kwargs_temp['show_connect_path_ff_specific_indices'] = np.array([668, 656, 657, 704, 797, 798, 824, 658])\n",
    "pretty_null_arc_plot_kwargs_temp['vary_color_for_connecting_path_ff'] = False\n",
    "pretty_null_arc_plot_kwargs_temp['show_reward_boundary'] = False\n",
    "pretty_null_arc_plot_kwargs_temp['how_to_show_ff_for_visible_segments'] = 'circle'\n",
    "\n",
    "time_to_begin_plotting_null_arc = None\n",
    "time_between_every_two_null_arcs = 0.3\n",
    "\n",
    "\n",
    "show_null_trajectory.make_pretty_plot_for_a_duration(duration_to_plot, cgt.best_arc_df, cgt.monkey_information, cgt.ff_dataframe, cgt.null_arc_info_for_plotting, cgt.null_arc_to_center_info_for_plotting, cgt.PlotTrials_args, pretty_null_arc_plot_kwargs_temp, intended_target_ff_index=intended_target_ff_index,\n",
    "                                        plot_null_arcs= False, ff_max_distance_to_intended_target=400, ff_max_distance_to_path=400, time_between_every_two_null_arcs=time_between_every_two_null_arcs, time_to_begin_plotting_null_arc=time_to_begin_plotting_null_arc, time_to_end_plotting_null_arc=None, max_num_plot_to_make=max_num_plot_to_make,\n",
    "                                        show_intended_target=False, point_indices_to_plot_null_arc=point_indices_to_plot_null_arc, ff_indices_to_plot_null_arc=ff_indices_to_plot_null_arc, whether_mark_path_where_intended_target_has_best_arc_among_all_ff=False, \n",
    "                                        )\n"
   ]
  },
  {
   "cell_type": "markdown",
   "id": "141",
   "metadata": {},
   "source": [
    "## 679"
   ]
  },
  {
   "cell_type": "code",
   "execution_count": null,
   "id": "142",
   "metadata": {},
   "outputs": [],
   "source": [
    "reload(plot_behaviors_utils)\n",
    "reload(plot_trials)\n",
    "reload(show_null_trajectory)\n",
    "# update the figure size of rcParams\n",
    "plt.rcParams['figure.figsize'] = [9, 9]\n",
    "duration_to_plot = [1752.16371, 1761.527301]\n",
    "\n",
    "max_num_plot_to_make = 1\n",
    "ff_indices_to_plot_null_arc = None #np.array()\n",
    "intended_target_ff_index = 728\n",
    "point_indices_to_plot_null_arc = None #[10147]\n",
    "pretty_null_arc_plot_kwargs_temp = pretty_null_arc_plot_kwargs.copy()\n",
    "pretty_null_arc_plot_kwargs_temp['show_believed_target_positions'] = True\n",
    "#pretty_null_arc_plot_kwargs_temp['show_connect_path_ff_specific_indices'] = np.array([668, 656, 657, 704, 797, 798, 824, 658])\n",
    "pretty_null_arc_plot_kwargs_temp['vary_color_for_connecting_path_ff'] = False\n",
    "pretty_null_arc_plot_kwargs_temp['show_reward_boundary'] = False\n",
    "pretty_null_arc_plot_kwargs_temp['how_to_show_ff_for_visible_segments'] = 'circle'\n",
    "\n",
    "time_to_begin_plotting_null_arc = None\n",
    "time_between_every_two_null_arcs = 0.3\n",
    "\n",
    "\n",
    "show_null_trajectory.make_pretty_plot_for_a_duration(duration_to_plot, cgt.best_arc_df, cgt.monkey_information, cgt.ff_dataframe, cgt.null_arc_info_for_plotting, cgt.null_arc_to_center_info_for_plotting, cgt.PlotTrials_args, pretty_null_arc_plot_kwargs_temp, intended_target_ff_index=intended_target_ff_index,\n",
    "                                        plot_null_arcs= False, ff_max_distance_to_intended_target=450, ff_max_distance_to_path=400, time_between_every_two_null_arcs=time_between_every_two_null_arcs, time_to_begin_plotting_null_arc=time_to_begin_plotting_null_arc, time_to_end_plotting_null_arc=None, max_num_plot_to_make=max_num_plot_to_make,\n",
    "                                        show_intended_target=False, point_indices_to_plot_null_arc=point_indices_to_plot_null_arc, ff_indices_to_plot_null_arc=ff_indices_to_plot_null_arc, whether_mark_path_where_intended_target_has_best_arc_among_all_ff=False, \n",
    "                                        )\n"
   ]
  },
  {
   "cell_type": "markdown",
   "id": "143",
   "metadata": {},
   "source": [
    "## 693"
   ]
  },
  {
   "cell_type": "code",
   "execution_count": null,
   "id": "144",
   "metadata": {},
   "outputs": [],
   "source": [
    " [sns.color_palette(\"tab10\", 3), sns.color_palette(\"tab10\", 14)[4:]]"
   ]
  },
  {
   "cell_type": "code",
   "execution_count": null,
   "id": "145",
   "metadata": {},
   "outputs": [],
   "source": [
    "import seaborn as sns\n",
    "import matplotlib.pyplot as plt\n",
    "\n",
    "# Define palettes\n",
    "\n",
    "palette2 = sns.color_palette(\"tab10\", 16)\n",
    "\n",
    "# Concatenate\n",
    "combined_palette =  palette2\n",
    "\n",
    "# Visualize as swatches\n",
    "sns.palplot(combined_palette)\n",
    "plt.show()\n"
   ]
  },
  {
   "cell_type": "code",
   "execution_count": null,
   "id": "146",
   "metadata": {},
   "outputs": [],
   "source": [
    "# Define blue and pink (as RGB tuples in [0,1])\n",
    "custom_colors = [(0, 0, 1), (1, 0.75, 0.8)]  # blue, pink\n",
    "# Define your existing palettes\n",
    "palette1 = sns.color_palette(\"tab10\", 3)\n",
    "palette2 = sns.color_palette(\"tab10\", 14)[4:]\n",
    "# Combine\n",
    "varying_colors = np.concatenate(\n",
    "    [custom_colors, palette1, palette2], axis=0\n",
    ")\n",
    "print(varying_colors.shape)  # should be (15, 3) since 2 + 3 + 10\n",
    "    "
   ]
  },
  {
   "cell_type": "code",
   "execution_count": null,
   "id": "147",
   "metadata": {},
   "outputs": [],
   "source": [
    "reload(plot_behaviors_utils)\n",
    "reload(plot_trials)\n",
    "reload(show_null_trajectory)\n",
    "# update the figure size of rcParams\n",
    "plt.rcParams['figure.figsize'] = [9, 9]\n",
    "# duration_to_plot = [1791.986039, 1798.079852]\n",
    "duration_to_plot = [1793.5, 1798.079852]\n",
    "\n",
    "max_num_plot_to_make = 1\n",
    "ff_indices_to_plot_null_arc = np.array([692, 693, 724])\n",
    "intended_target_ff_index = 724\n",
    "point_indices_to_plot_null_arc = None #[10147]\n",
    "pretty_null_arc_plot_kwargs_temp = pretty_null_arc_plot_kwargs.copy()\n",
    "pretty_null_arc_plot_kwargs_temp['show_believed_target_positions'] = True\n",
    "#pretty_null_arc_plot_kwargs_temp['show_connect_path_ff_specific_indices'] = np.array([668, 656, 657, 704, 797, 798, 824, 658])\n",
    "pretty_null_arc_plot_kwargs_temp['vary_color_for_connecting_path_ff'] = False\n",
    "pretty_null_arc_plot_kwargs_temp['show_reward_boundary'] = False\n",
    "pretty_null_arc_plot_kwargs_temp['how_to_show_ff_for_visible_segments'] = 'circle'\n",
    "\n",
    "\n",
    "time_to_begin_plotting_null_arc = None\n",
    "time_between_every_two_null_arcs = 0.3\n",
    "\n",
    "\n",
    "show_null_trajectory.make_pretty_plot_for_a_duration(duration_to_plot, cgt.best_arc_df, cgt.monkey_information, cgt.ff_dataframe, cgt.null_arc_info_for_plotting, cgt.null_arc_to_center_info_for_plotting, cgt.PlotTrials_args, pretty_null_arc_plot_kwargs_temp, intended_target_ff_index=intended_target_ff_index,\n",
    "                                        plot_null_arcs= False, ff_max_distance_to_intended_target=450, ff_max_distance_to_path=400, time_between_every_two_null_arcs=time_between_every_two_null_arcs, time_to_begin_plotting_null_arc=time_to_begin_plotting_null_arc, time_to_end_plotting_null_arc=None, max_num_plot_to_make=max_num_plot_to_make,\n",
    "                                        show_intended_target=False, point_indices_to_plot_null_arc=point_indices_to_plot_null_arc, ff_indices_to_plot_null_arc=ff_indices_to_plot_null_arc, whether_mark_path_where_intended_target_has_best_arc_among_all_ff=False, \n",
    "                                        title=''\n",
    "                                        )\n"
   ]
  },
  {
   "cell_type": "markdown",
   "id": "148",
   "metadata": {},
   "source": [
    "## 713"
   ]
  },
  {
   "cell_type": "code",
   "execution_count": null,
   "id": "149",
   "metadata": {},
   "outputs": [],
   "source": [
    "reload(plot_behaviors_utils)\n",
    "reload(plot_trials)\n",
    "reload(show_null_trajectory)\n",
    "# update the figure size of rcParams\n",
    "plt.rcParams['figure.figsize'] = [9, 9]\n",
    "duration_to_plot = [1831, 1836.149079]\n",
    "\n",
    "max_num_plot_to_make = 1\n",
    "ff_indices_to_plot_null_arc = None #np.array([692, 693, 724])\n",
    "intended_target_ff_index = 1492\n",
    "point_indices_to_plot_null_arc = None #[10147]\n",
    "pretty_null_arc_plot_kwargs_temp = pretty_null_arc_plot_kwargs.copy()\n",
    "pretty_null_arc_plot_kwargs_temp['show_believed_target_positions'] = True\n",
    "#pretty_null_arc_plot_kwargs_temp['show_connect_path_ff_specific_indices'] = np.array([668, 656, 657, 704, 797, 798, 824, 658])\n",
    "pretty_null_arc_plot_kwargs_temp['vary_color_for_connecting_path_ff'] = False\n",
    "pretty_null_arc_plot_kwargs_temp['show_reward_boundary'] = False\n",
    "pretty_null_arc_plot_kwargs_temp['how_to_show_ff_for_visible_segments'] = 'circle'\n",
    "\n",
    "time_to_begin_plotting_null_arc = None\n",
    "time_between_every_two_null_arcs = 0.3\n",
    "\n",
    "\n",
    "show_null_trajectory.make_pretty_plot_for_a_duration(duration_to_plot, cgt.best_arc_df, cgt.monkey_information, cgt.ff_dataframe, cgt.null_arc_info_for_plotting, cgt.null_arc_to_center_info_for_plotting, cgt.PlotTrials_args, pretty_null_arc_plot_kwargs_temp, intended_target_ff_index=intended_target_ff_index,\n",
    "                                        plot_null_arcs= False, ff_max_distance_to_intended_target=330, ff_max_distance_to_path=400, time_between_every_two_null_arcs=time_between_every_two_null_arcs, time_to_begin_plotting_null_arc=time_to_begin_plotting_null_arc, time_to_end_plotting_null_arc=None, max_num_plot_to_make=max_num_plot_to_make,\n",
    "                                        show_intended_target=False, point_indices_to_plot_null_arc=point_indices_to_plot_null_arc, ff_indices_to_plot_null_arc=ff_indices_to_plot_null_arc, whether_mark_path_where_intended_target_has_best_arc_among_all_ff=False, \n",
    "                                        )\n"
   ]
  },
  {
   "cell_type": "markdown",
   "id": "150",
   "metadata": {},
   "source": [
    "## 718"
   ]
  },
  {
   "cell_type": "code",
   "execution_count": null,
   "id": "151",
   "metadata": {},
   "outputs": [],
   "source": [
    "reload(plot_behaviors_utils)\n",
    "reload(plot_trials)\n",
    "reload(show_null_trajectory)\n",
    "# update the figure size of rcParams\n",
    "plt.rcParams['figure.figsize'] = [9, 9]\n",
    "duration_to_plot = [1838, 1843.994575]\n",
    "\n",
    "max_num_plot_to_make = 1\n",
    "ff_indices_to_plot_null_arc = np.array([717, 1401, 718, 845, 905])\n",
    "intended_target_ff_index = 1401\n",
    "point_indices_to_plot_null_arc = None #[10147]\n",
    "pretty_null_arc_plot_kwargs_temp = pretty_null_arc_plot_kwargs.copy()\n",
    "pretty_null_arc_plot_kwargs_temp['show_believed_target_positions'] = True\n",
    "#pretty_null_arc_plot_kwargs_temp['show_connect_path_ff_specific_indices'] = np.array([668, 656, 657, 704, 797, 798, 824, 658])\n",
    "pretty_null_arc_plot_kwargs_temp['vary_color_for_connecting_path_ff'] = False\n",
    "pretty_null_arc_plot_kwargs_temp['show_reward_boundary'] = False\n",
    "pretty_null_arc_plot_kwargs_temp['how_to_show_ff_for_visible_segments'] = 'circle'\n",
    "\n",
    "time_to_begin_plotting_null_arc = None\n",
    "time_between_every_two_null_arcs = 0.3\n",
    "\n",
    "\n",
    "show_null_trajectory.make_pretty_plot_for_a_duration(duration_to_plot, cgt.best_arc_df, cgt.monkey_information, cgt.ff_dataframe, cgt.null_arc_info_for_plotting, cgt.null_arc_to_center_info_for_plotting, cgt.PlotTrials_args, pretty_null_arc_plot_kwargs_temp, intended_target_ff_index=intended_target_ff_index,\n",
    "                                        plot_null_arcs= False, ff_max_distance_to_intended_target=230, ff_max_distance_to_path=400, time_between_every_two_null_arcs=time_between_every_two_null_arcs, time_to_begin_plotting_null_arc=time_to_begin_plotting_null_arc, time_to_end_plotting_null_arc=None, max_num_plot_to_make=max_num_plot_to_make,\n",
    "                                        show_intended_target=False, point_indices_to_plot_null_arc=point_indices_to_plot_null_arc, ff_indices_to_plot_null_arc=ff_indices_to_plot_null_arc, whether_mark_path_where_intended_target_has_best_arc_among_all_ff=False, \n",
    "                                        )\n"
   ]
  },
  {
   "cell_type": "markdown",
   "id": "152",
   "metadata": {},
   "source": [
    "## 723"
   ]
  },
  {
   "cell_type": "code",
   "execution_count": null,
   "id": "153",
   "metadata": {},
   "outputs": [],
   "source": [
    "reload(plot_behaviors_utils)\n",
    "reload(plot_trials)\n",
    "reload(show_null_trajectory)\n",
    "# update the figure size of rcParams\n",
    "plt.rcParams['figure.figsize'] = [9, 9]\n",
    "duration_to_plot = [1849.504211, 1854.4]\n",
    "\n",
    "max_num_plot_to_make = 1\n",
    "ff_indices_to_plot_null_arc = np.array([722, 749])\n",
    "intended_target_ff_index = 749\n",
    "point_indices_to_plot_null_arc = None #[10147]\n",
    "pretty_null_arc_plot_kwargs_temp = pretty_null_arc_plot_kwargs.copy()\n",
    "pretty_null_arc_plot_kwargs_temp['show_believed_target_positions'] = True\n",
    "#pretty_null_arc_plot_kwargs_temp['show_connect_path_ff_specific_indices'] = np.array([668, 656, 657, 704, 797, 798, 824, 658])\n",
    "pretty_null_arc_plot_kwargs_temp['vary_color_for_connecting_path_ff'] = False\n",
    "pretty_null_arc_plot_kwargs_temp['show_reward_boundary'] = False\n",
    "pretty_null_arc_plot_kwargs_temp['how_to_show_ff_for_visible_segments'] = 'circle'\n",
    "\n",
    "time_to_begin_plotting_null_arc = None\n",
    "time_between_every_two_null_arcs = 0.3\n",
    "\n",
    "\n",
    "show_null_trajectory.make_pretty_plot_for_a_duration(duration_to_plot, cgt.best_arc_df, cgt.monkey_information, cgt.ff_dataframe, cgt.null_arc_info_for_plotting, cgt.null_arc_to_center_info_for_plotting, cgt.PlotTrials_args, pretty_null_arc_plot_kwargs_temp, intended_target_ff_index=intended_target_ff_index,\n",
    "                                        plot_null_arcs= False, ff_max_distance_to_intended_target=230, ff_max_distance_to_path=400, time_between_every_two_null_arcs=time_between_every_two_null_arcs, time_to_begin_plotting_null_arc=time_to_begin_plotting_null_arc, time_to_end_plotting_null_arc=None, max_num_plot_to_make=max_num_plot_to_make,\n",
    "                                        show_intended_target=False, point_indices_to_plot_null_arc=point_indices_to_plot_null_arc, ff_indices_to_plot_null_arc=ff_indices_to_plot_null_arc, whether_mark_path_where_intended_target_has_best_arc_among_all_ff=False, \n",
    "                                        )\n"
   ]
  },
  {
   "cell_type": "markdown",
   "id": "154",
   "metadata": {},
   "source": [
    "## 730"
   ]
  },
  {
   "cell_type": "code",
   "execution_count": null,
   "id": "155",
   "metadata": {},
   "outputs": [],
   "source": [
    "reload(plot_behaviors_utils)\n",
    "reload(plot_trials)\n",
    "reload(show_null_trajectory)\n",
    "# update the figure size of rcParams\n",
    "plt.rcParams['figure.figsize'] = [9, 9]\n",
    "duration_to_plot = [1873.116986, 1878.281488]\n",
    "\n",
    "max_num_plot_to_make = 1\n",
    "ff_indices_to_plot_null_arc = np.array([1106])\n",
    "intended_target_ff_index = 1106\n",
    "point_indices_to_plot_null_arc = None #[10147]\n",
    "pretty_null_arc_plot_kwargs_temp = pretty_null_arc_plot_kwargs.copy()\n",
    "pretty_null_arc_plot_kwargs_temp['show_believed_target_positions'] = True\n",
    "#pretty_null_arc_plot_kwargs_temp['show_connect_path_ff_specific_indices'] = np.array([668, 656, 657, 704, 797, 798, 824, 658])\n",
    "pretty_null_arc_plot_kwargs_temp['vary_color_for_connecting_path_ff'] = False\n",
    "pretty_null_arc_plot_kwargs_temp['show_reward_boundary'] = False\n",
    "pretty_null_arc_plot_kwargs_temp['how_to_show_ff_for_visible_segments'] = 'circle'\n",
    "\n",
    "time_to_begin_plotting_null_arc = None\n",
    "time_between_every_two_null_arcs = 0.3\n",
    "\n",
    "\n",
    "show_null_trajectory.make_pretty_plot_for_a_duration(duration_to_plot, cgt.best_arc_df, cgt.monkey_information, cgt.ff_dataframe, cgt.null_arc_info_for_plotting, cgt.null_arc_to_center_info_for_plotting, cgt.PlotTrials_args, pretty_null_arc_plot_kwargs_temp, intended_target_ff_index=intended_target_ff_index,\n",
    "                                        plot_null_arcs= False, ff_max_distance_to_intended_target=230, ff_max_distance_to_path=400, time_between_every_two_null_arcs=time_between_every_two_null_arcs, time_to_begin_plotting_null_arc=time_to_begin_plotting_null_arc, time_to_end_plotting_null_arc=None, max_num_plot_to_make=max_num_plot_to_make,\n",
    "                                        show_intended_target=False, point_indices_to_plot_null_arc=point_indices_to_plot_null_arc, ff_indices_to_plot_null_arc=ff_indices_to_plot_null_arc, whether_mark_path_where_intended_target_has_best_arc_among_all_ff=False, \n",
    "                                        )\n"
   ]
  },
  {
   "cell_type": "markdown",
   "id": "156",
   "metadata": {},
   "source": [
    "## 751"
   ]
  },
  {
   "cell_type": "code",
   "execution_count": null,
   "id": "157",
   "metadata": {},
   "outputs": [],
   "source": [
    "reload(plot_behaviors_utils)\n",
    "reload(plot_trials)\n",
    "reload(show_null_trajectory)\n",
    "# update the figure size of rcParams\n",
    "plt.rcParams['figure.figsize'] = [9, 9]\n",
    "duration_to_plot = [1919.422092, 1926.644391]\n",
    "\n",
    "max_num_plot_to_make = 1\n",
    "ff_indices_to_plot_null_arc = np.array([876, 751])\n",
    "intended_target_ff_index = 876\n",
    "point_indices_to_plot_null_arc = None #[10147]\n",
    "pretty_null_arc_plot_kwargs_temp = pretty_null_arc_plot_kwargs.copy()\n",
    "pretty_null_arc_plot_kwargs_temp['show_believed_target_positions'] = True\n",
    "#pretty_null_arc_plot_kwargs_temp['show_connect_path_ff_specific_indices'] = np.array([668, 656, 657, 704, 797, 798, 824, 658])\n",
    "pretty_null_arc_plot_kwargs_temp['vary_color_for_connecting_path_ff'] = False\n",
    "pretty_null_arc_plot_kwargs_temp['show_reward_boundary'] = False\n",
    "pretty_null_arc_plot_kwargs_temp['how_to_show_ff_for_visible_segments'] = 'circle'\n",
    "\n",
    "time_to_begin_plotting_null_arc = None\n",
    "time_between_every_two_null_arcs = 0.3\n",
    "\n",
    "\n",
    "show_null_trajectory.make_pretty_plot_for_a_duration(duration_to_plot, cgt.best_arc_df, cgt.monkey_information, cgt.ff_dataframe, cgt.null_arc_info_for_plotting, cgt.null_arc_to_center_info_for_plotting, cgt.PlotTrials_args, pretty_null_arc_plot_kwargs_temp, intended_target_ff_index=intended_target_ff_index,\n",
    "                                        plot_null_arcs= False, ff_max_distance_to_intended_target=230, ff_max_distance_to_path=400, time_between_every_two_null_arcs=time_between_every_two_null_arcs, time_to_begin_plotting_null_arc=time_to_begin_plotting_null_arc, time_to_end_plotting_null_arc=None, max_num_plot_to_make=max_num_plot_to_make,\n",
    "                                        show_intended_target=False, point_indices_to_plot_null_arc=point_indices_to_plot_null_arc, ff_indices_to_plot_null_arc=ff_indices_to_plot_null_arc, whether_mark_path_where_intended_target_has_best_arc_among_all_ff=False, \n",
    "                                        )\n"
   ]
  },
  {
   "cell_type": "markdown",
   "id": "158",
   "metadata": {},
   "source": [
    "## 756"
   ]
  },
  {
   "cell_type": "code",
   "execution_count": null,
   "id": "159",
   "metadata": {},
   "outputs": [],
   "source": [
    "reload(plot_behaviors_utils)\n",
    "reload(plot_trials)\n",
    "reload(show_null_trajectory)\n",
    "# update the figure size of rcParams\n",
    "plt.rcParams['figure.figsize'] = [9, 9]\n",
    "duration_to_plot = [1934.510997, 1943.393497]\n",
    "\n",
    "max_num_plot_to_make = 1\n",
    "ff_indices_to_plot_null_arc = np.array([756, 1089, 1703])\n",
    "intended_target_ff_index = 1089\n",
    "point_indices_to_plot_null_arc = None #[10147]\n",
    "pretty_null_arc_plot_kwargs_temp = pretty_null_arc_plot_kwargs.copy()\n",
    "pretty_null_arc_plot_kwargs_temp['show_believed_target_positions'] = True\n",
    "#pretty_null_arc_plot_kwargs_temp['show_connect_path_ff_specific_indices'] = np.array([668, 656, 657, 704, 797, 798, 824, 658])\n",
    "pretty_null_arc_plot_kwargs_temp['vary_color_for_connecting_path_ff'] = False\n",
    "pretty_null_arc_plot_kwargs_temp['show_reward_boundary'] = False\n",
    "pretty_null_arc_plot_kwargs_temp['how_to_show_ff_for_visible_segments'] = 'circle'\n",
    "\n",
    "time_to_begin_plotting_null_arc = None\n",
    "time_between_every_two_null_arcs = 0.3\n",
    "\n",
    "updated_args = {'title': ''}\n",
    "\n",
    "show_null_trajectory.make_pretty_plot_for_a_duration(duration_to_plot, cgt.best_arc_df, cgt.monkey_information, cgt.ff_dataframe, cgt.null_arc_info_for_plotting, cgt.null_arc_to_center_info_for_plotting, cgt.PlotTrials_args, pretty_null_arc_plot_kwargs_temp, intended_target_ff_index=intended_target_ff_index,\n",
    "                                        plot_null_arcs= False, ff_max_distance_to_intended_target=230, ff_max_distance_to_path=400, time_between_every_two_null_arcs=time_between_every_two_null_arcs, time_to_begin_plotting_null_arc=time_to_begin_plotting_null_arc, time_to_end_plotting_null_arc=None, max_num_plot_to_make=max_num_plot_to_make,\n",
    "                                        show_intended_target=False, point_indices_to_plot_null_arc=point_indices_to_plot_null_arc, ff_indices_to_plot_null_arc=ff_indices_to_plot_null_arc, whether_mark_path_where_intended_target_has_best_arc_among_all_ff=False, \n",
    "                                        **updated_args)\n"
   ]
  },
  {
   "cell_type": "markdown",
   "id": "160",
   "metadata": {},
   "source": [
    "## 765"
   ]
  },
  {
   "cell_type": "code",
   "execution_count": null,
   "id": "161",
   "metadata": {},
   "outputs": [],
   "source": [
    "reload(plot_behaviors_utils)\n",
    "reload(plot_trials)\n",
    "reload(show_null_trajectory)\n",
    "# update the figure size of rcParams\n",
    "plt.rcParams['figure.figsize'] = [9, 9]\n",
    "duration_to_plot = [1959.975111, 1968.49221]\n",
    "\n",
    "max_num_plot_to_make = 1\n",
    "ff_indices_to_plot_null_arc = None #np.array([756, 1089, 1703])\n",
    "intended_target_ff_index = None #1089\n",
    "point_indices_to_plot_null_arc = None #[10147]\n",
    "pretty_null_arc_plot_kwargs_temp = pretty_null_arc_plot_kwargs.copy()\n",
    "pretty_null_arc_plot_kwargs_temp['show_believed_target_positions'] = True\n",
    "#pretty_null_arc_plot_kwargs_temp['show_connect_path_ff_specific_indices'] = np.array([668, 656, 657, 704, 797, 798, 824, 658])\n",
    "pretty_null_arc_plot_kwargs_temp['vary_color_for_connecting_path_ff'] = False\n",
    "pretty_null_arc_plot_kwargs_temp['show_reward_boundary'] = False\n",
    "pretty_null_arc_plot_kwargs_temp['how_to_show_ff_for_visible_segments'] = 'circle'\n",
    "\n",
    "time_to_begin_plotting_null_arc = None\n",
    "time_between_every_two_null_arcs = 0.3\n",
    "\n",
    "\n",
    "show_null_trajectory.make_pretty_plot_for_a_duration(duration_to_plot, cgt.best_arc_df, cgt.monkey_information, cgt.ff_dataframe, cgt.null_arc_info_for_plotting, cgt.null_arc_to_center_info_for_plotting, cgt.PlotTrials_args, pretty_null_arc_plot_kwargs_temp, intended_target_ff_index=intended_target_ff_index,\n",
    "                                        plot_null_arcs= False, ff_max_distance_to_intended_target=230, ff_max_distance_to_path=400, time_between_every_two_null_arcs=time_between_every_two_null_arcs, time_to_begin_plotting_null_arc=time_to_begin_plotting_null_arc, time_to_end_plotting_null_arc=None, max_num_plot_to_make=max_num_plot_to_make,\n",
    "                                        show_intended_target=False, point_indices_to_plot_null_arc=point_indices_to_plot_null_arc, ff_indices_to_plot_null_arc=ff_indices_to_plot_null_arc, whether_mark_path_where_intended_target_has_best_arc_among_all_ff=False, \n",
    "                                        )\n"
   ]
  },
  {
   "cell_type": "code",
   "execution_count": null,
   "id": "162",
   "metadata": {},
   "outputs": [],
   "source": [
    "category_item.plot_trajectories(trials=[765], null_arc_info_for_plotting=cgt.null_arc_info_for_plotting,\n",
    "                                show_connect_path_ff=True, show_ff_indices=True)"
   ]
  },
  {
   "cell_type": "code",
   "execution_count": null,
   "id": "163",
   "metadata": {},
   "outputs": [],
   "source": [
    "reload(show_null_trajectory)\n",
    "duration_to_plot = [1254.09006, 1260.797728]\n",
    "max_num_plot_to_make = 1\n",
    "ff_indices_to_plot_null_arc = None #np.array([62, 413, 60, 61])\n",
    "intended_target_ff_index = 1241\n",
    "point_indices_to_plot_null_arc = None #[10147]\n",
    "pretty_null_arc_plot_kwargs_temp = pretty_null_arc_plot_kwargs.copy()\n",
    "pretty_null_arc_plot_kwargs_temp['show_believed_target_positions'] = False\n",
    "\n",
    "show_null_trajectory.make_pretty_plot_for_a_duration(duration_to_plot, cgt.best_arc_df, cgt.monkey_information, cgt.ff_dataframe, cgt.null_arc_info_for_plotting, cgt.null_arc_to_center_info_for_plotting, cgt.PlotTrials_args, pretty_null_arc_plot_kwargs_temp, intended_target_ff_index=intended_target_ff_index,\n",
    "                                        plot_null_arcs= False, ff_max_distance_to_intended_target=250, ff_max_distance_to_path=400, time_between_every_two_null_arcs=0.2, time_to_begin_plotting_null_arc=None, time_to_end_plotting_null_arc=None, max_num_plot_to_make=max_num_plot_to_make,\n",
    "                                        show_intended_target=False, point_indices_to_plot_null_arc=point_indices_to_plot_null_arc, ff_indices_to_plot_null_arc=ff_indices_to_plot_null_arc, whether_mark_path_where_intended_target_has_best_arc_among_all_ff=False, \n",
    "                                        )"
   ]
  },
  {
   "cell_type": "code",
   "execution_count": null,
   "id": "164",
   "metadata": {},
   "outputs": [],
   "source": [
    "STOP!"
   ]
  },
  {
   "cell_type": "markdown",
   "id": "165",
   "metadata": {},
   "source": [
    "# Appendix"
   ]
  },
  {
   "cell_type": "markdown",
   "id": "166",
   "metadata": {},
   "source": [
    "## Plot trials"
   ]
  },
  {
   "cell_type": "code",
   "execution_count": null,
   "id": "167",
   "metadata": {},
   "outputs": [],
   "source": []
  },
  {
   "cell_type": "code",
   "execution_count": null,
   "id": "168",
   "metadata": {},
   "outputs": [],
   "source": [
    "classic_plot_kwargs = {'show_stops': True,\n",
    "                       'show_believed_target_positions': True,\n",
    "                       'show_reward_boundary': True,\n",
    "                       'show_scale_bar': True}\n",
    "cgt.PlotTrials_args = (cgt.monkey_information, cgt.ff_dataframe, cgt.ff_life_sorted, cgt.ff_real_position_sorted, cgt.ff_believed_position_sorted, cgt.cluster_around_target_indices, cgt.ff_caught_T_new)"
   ]
  },
  {
   "cell_type": "code",
   "execution_count": null,
   "id": "169",
   "metadata": {},
   "outputs": [],
   "source": [
    "from data_wrangling import general_utils"
   ]
  },
  {
   "cell_type": "code",
   "execution_count": null,
   "id": "170",
   "metadata": {},
   "outputs": [],
   "source": [
    "\n",
    "num_trials = 2 \n",
    "\n",
    "\n",
    "with general_utils.initiate_plot(10,10,100):\n",
    "  for currentTrial in [96+1, 102+1]: #two_in_a_row[10:20]:\n",
    "      duration = [cgt.ff_caught_T_new[currentTrial-num_trials], cgt.ff_caught_T_new[currentTrial]]\n",
    "      plot_trials.PlotTrials(duration, \n",
    "                  *cgt.PlotTrials_args,\n",
    "                  **classic_plot_kwargs,\n",
    "                  currentTrial = currentTrial,\n",
    "                  num_trials = num_trials,                   \n",
    "                  show_connect_path_ff_except_targets = True,\n",
    "                  show_path_when_target_visible = True,\n",
    "                  show_ff_indices = False,\n",
    "                  hitting_arena_edge_ok = True,\n",
    "                  visible_distance = 400,\n",
    "                  minimal_margin = 300,\n",
    "                  show_monkey_angles = True\n",
    "                  )\n",
    "      plt.show()  \n",
    "\n",
    "      "
   ]
  }
 ],
 "metadata": {
  "kernelspec": {
   "display_name": "multiff_clean",
   "language": "python",
   "name": "python3"
  },
  "language_info": {
   "codemirror_mode": {
    "name": "ipython",
    "version": 3
   },
   "file_extension": ".py",
   "mimetype": "text/x-python",
   "name": "python",
   "nbconvert_exporter": "python",
   "pygments_lexer": "ipython3",
   "version": "3.11.11"
  }
 },
 "nbformat": 4,
 "nbformat_minor": 5
}
