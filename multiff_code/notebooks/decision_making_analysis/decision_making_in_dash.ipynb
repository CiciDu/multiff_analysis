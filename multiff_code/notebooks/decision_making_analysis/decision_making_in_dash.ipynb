{
 "cells": [
  {
   "cell_type": "markdown",
   "metadata": {},
   "source": [
    "# Import packages"
   ]
  },
  {
   "cell_type": "code",
   "execution_count": null,
   "metadata": {},
   "outputs": [],
   "source": [
    "from pathlib import Path\n",
    "import os, sys\n",
    "for p in [Path.cwd()] + list(Path.cwd().parents):\n",
    "    if p.name == 'Multifirefly-Project':\n",
    "        os.chdir(p)\n",
    "        sys.path.insert(0, str(p / 'multiff_analysis/multiff_code/methods'))\n",
    "        break\n",
    "\n",
    "%load_ext autoreload\n",
    "%autoreload 2\n",
    "\n",
    "\n",
    "from data_wrangling import specific_utils, combine_info_utils\n",
    "from pattern_discovery import pattern_by_trials, pattern_by_trials, cluster_analysis, organize_patterns_and_features, category_class\n",
    "from decision_making_analysis.cluster_replacement import cluster_replacement_utils\n",
    "from decision_making_analysis.decision_making import decision_making_class, decision_making_utils, intended_targets_classes\n",
    "from decision_making_analysis.GUAT import GUAT_collect_info_class, GUAT_combine_info_class, process_GUAT_trials_class\n",
    "from decision_making_analysis.compare_GUAT_and_TAFT import GUAT_vs_TAFT_class, GUAT_vs_TAFT_x_sessions_class, helper_GUAT_vs_TAFT_class\n",
    "from visualization.matplotlib_tools import plot_trials, plot_behaviors_utils\n",
    "from visualization.animation import animation_class\n",
    "from null_behaviors import show_null_trajectory, find_best_arc, curvature_utils, curv_of_traj_utils\n",
    "from machine_learning.ml_methods import regression_utils, classification_utils, prep_ml_data_utils, hyperparam_tuning_class\n",
    "from visualization.plotly_polar_tools import plotly_utils_polar, plotly_for_ff_polar, plotly_for_trajectory_polar\n",
    "from machine_learning.ml_methods import ml_methods_class\n",
    "from visualization.dash_tools.dash_main_class_methods import dash_applied_to_GUAT_TAFT\n",
    "from visualization.plotly_tools import plotly_preparation, plotly_for_time_series, plotly_for_null_arcs, plotly_for_correlation, plotly_for_monkey, plotly_plot_class\n",
    "\n",
    "import os, sys\n",
    "import numpy as np\n",
    "import matplotlib\n",
    "import matplotlib.pyplot as plt\n",
    "from os.path import exists\n",
    "import math\n",
    "import copy\n",
    "import matplotlib.pyplot as plt\n",
    "import pandas as pd\n",
    "import itertools\n",
    "import matplotlib.pyplot as plt\n",
    "import gc\n",
    "from scipy import stats\n",
    "from IPython.display import HTML\n",
    "from matplotlib import rc\n",
    "from sklearn.svm import SVC\n",
    "from sklearn.ensemble import AdaBoostClassifier, BaggingClassifier\n",
    "from sklearn.neural_network import MLPClassifier, MLPRegressor\n",
    "from sklearn.linear_model import LinearRegression\n",
    "from sklearn.neighbors import KNeighborsRegressor\n",
    "from sklearn.naive_bayes import GaussianNB\n",
    "from sklearn.linear_model import LogisticRegression\n",
    "from sklearn.preprocessing import StandardScaler\n",
    "import warnings\n",
    "import os, sys, sys\n",
    "from importlib import reload\n",
    "from sklearn.exceptions import ConvergenceWarning\n",
    "\n",
    "\n",
    "plt.rcParams[\"animation.html\"] = \"html5\"\n",
    "os.environ['KMP_DUPLICATE_LIB_OK']='True'\n",
    "rc('animation', html='jshtml')\n",
    "matplotlib.rcParams.update(matplotlib.rcParamsDefault)\n",
    "matplotlib.rcParams['animation.embed_limit'] = 2**128\n",
    "pd.set_option('display.float_format', lambda x: '%.5f' % x)\n",
    "np.set_printoptions(suppress=True)\n",
    "pd.options.display.max_rows = 50\n",
    "\n"
   ]
  },
  {
   "cell_type": "markdown",
   "metadata": {},
   "source": [
    "# Data for one session"
   ]
  },
  {
   "cell_type": "code",
   "execution_count": null,
   "metadata": {},
   "outputs": [],
   "source": [
    "exists_ok = False\n",
    "cgt = GUAT_vs_TAFT_class.GUATvsTAFTclass(ref_point_mode='time', \n",
    "                                            raw_data_folder_path='all_monkey_data/raw_monkey_data/monkey_Bruno/data_0330',\n",
    "                                            ref_point_value=-1.5,)\n",
    "#cgt.streamline_getting_GUAT_or_TAFT_x_df(GUAT_or_TAFT='TAFT', exists_ok=exists_ok)\n",
    "cgt.streamline_getting_GUAT_or_TAFT_x_df(GUAT_or_TAFT='GUAT', exists_ok=exists_ok)\n"
   ]
  },
  {
   "cell_type": "markdown",
   "metadata": {},
   "source": [
    "# Dash"
   ]
  },
  {
   "cell_type": "code",
   "execution_count": null,
   "metadata": {},
   "outputs": [],
   "source": [
    "reload(dash_applied_to_GUAT_TAFT)\n",
    "dg = dash_applied_to_GUAT_TAFT.DashForGUATandTAFT(raw_data_folder_path='all_monkey_data/raw_monkey_data/monkey_Bruno/data_0402')\n",
    "\n",
    "opt_arc_type = 'norm_opt_arc'\n",
    "\n",
    "\n",
    "# ref_point_params = {'ref_point_mode': 'distance',\n",
    "#                     'ref_point_value': -150}\n",
    "\n",
    "ref_point_params = {'ref_point_mode': 'distance',\n",
    "                    'ref_point_value': -100}\n",
    "\n",
    "curv_of_traj_params = {'curv_of_traj_mode': 'distance',\n",
    "                        'window_for_curv_of_traj': [-25, 0],\n",
    "                        'truncate_curv_of_traj_by_time_of_capture': False}\n",
    "\n",
    "overall_params = {'eliminate_outliers': True,\n",
    "                  'use_curv_to_ff_center': False,\n",
    "                  'normalize': False,\n",
    "                  'remove_i_o_modify_rows_with_big_ff_angles': True,\n",
    "                  'change_units_to_degrees_per_m': True,\n",
    "                  'heading_instead_of_curv': True}  \n",
    "\n",
    "monkey_plot_params = {\n",
    "    \"show_visible_fireflies\": True,\n",
    "    \"show_in_memory_fireflies\": False,\n",
    "    \"show_monkey_heading\": False,\n",
    "    \"show_visible_segments\": True,\n",
    "    \"show_traj_portion\": True,\n",
    "    \"show_null_arcs_to_ff\": True,\n",
    "    \"show_extended_traj_arc\": False,\n",
    "    \"show_stops\": True,\n",
    "    \"show_cur_and_nxt_stops\": True,\n",
    "    \"show_capture_stops\": True,\n",
    "    \"show_all_eye_positions\": False,\n",
    "    \"show_current_eye_positions\": False,\n",
    "    \"show_eye_positions_for_both_eyes\": True,\n",
    "    \"show_traj_color_as_speed\":False,\n",
    "    \n",
    "}\n",
    "\n",
    "time_series_plot_params = {\n",
    "    \"use_two_y_axes\": False,\n",
    "    \"show_nxt_ff_curv_in_time_series_plot\": True,\n",
    "    \"show_cur_ff_curv_in_time_series_plot\": True,\n",
    "    \"show_d_curv_to_nxt_ff\": True,\n",
    "    \"show_angle_to_nxt_ff\": True\n",
    "}\n",
    "\n",
    "                     \n",
    "\n",
    "dg.prepare_to_make_dash_for_main_plots(monkey_plot_params=monkey_plot_params,\n",
    "                                        time_series_plot_params=time_series_plot_params,\n",
    "                                        ref_point_params=ref_point_params,\n",
    "                                        curv_of_traj_params=curv_of_traj_params,\n",
    "                                        overall_params=overall_params,\n",
    "                                        stop_point_index=46627\n",
    "                                        )\n",
    "\n",
    "#dg.fig.show()\n",
    "#dg.fig_time_series_combd.show()\n"
   ]
  },
  {
   "cell_type": "code",
   "execution_count": null,
   "metadata": {},
   "outputs": [],
   "source": [
    "dg.make_dash_for_main_plots(show_trajectory_time_series=True)"
   ]
  },
  {
   "cell_type": "code",
   "execution_count": null,
   "metadata": {},
   "outputs": [],
   "source": [
    "from visualization.plotly_tools import plotly_plot_class"
   ]
  },
  {
   "cell_type": "code",
   "execution_count": null,
   "metadata": {},
   "outputs": [],
   "source": [
    "        self.fig = self.make_one_monkey_plotly_plot(monkey_plot_params=self.monkey_plot_params)\n"
   ]
  },
  {
   "cell_type": "code",
   "execution_count": null,
   "metadata": {},
   "outputs": [],
   "source": [
    "dg._show_null_arcs_for_cur_and_nxt_ff_in_plotly()"
   ]
  },
  {
   "cell_type": "code",
   "execution_count": null,
   "metadata": {},
   "outputs": [],
   "source": [
    "dg._produce_fig_for_dash()"
   ]
  },
  {
   "cell_type": "code",
   "execution_count": null,
   "metadata": {},
   "outputs": [],
   "source": [
    "dg.fig"
   ]
  },
  {
   "cell_type": "code",
   "execution_count": null,
   "metadata": {},
   "outputs": [],
   "source": [
    "dg._produce_initial_plots()"
   ]
  },
  {
   "cell_type": "code",
   "execution_count": null,
   "metadata": {},
   "outputs": [],
   "source": [
    "dg.monkey_plot_params"
   ]
  },
  {
   "cell_type": "code",
   "execution_count": null,
   "metadata": {},
   "outputs": [],
   "source": [
    "# assuming your figure is in dg.fig\n",
    "trace_names = [trace.name for trace in dg.fig.data]\n",
    "trace_names\n"
   ]
  },
  {
   "cell_type": "code",
   "execution_count": null,
   "metadata": {},
   "outputs": [],
   "source": [
    "dg.fig.data"
   ]
  },
  {
   "cell_type": "code",
   "execution_count": null,
   "metadata": {},
   "outputs": [],
   "source": [
    "dg._show_null_arcs_for_cur_and_nxt_ff_in_plotly()"
   ]
  },
  {
   "cell_type": "code",
   "execution_count": null,
   "metadata": {},
   "outputs": [],
   "source": [
    "dg.fig = plotly_plot_class.PlotlyPlotter.make_one_monkey_plotly_plot(dg,\n",
    "                                                                     monkey_plot_params=dg.monkey_plot_params)\n",
    "dg.fig"
   ]
  },
  {
   "cell_type": "markdown",
   "metadata": {},
   "source": [
    "# Appendix"
   ]
  },
  {
   "cell_type": "markdown",
   "metadata": {},
   "source": [
    "## compare df and trials_df"
   ]
  },
  {
   "cell_type": "code",
   "execution_count": null,
   "metadata": {},
   "outputs": [],
   "source": [
    "set(cgt.TAFT_df.columns) - set(cgt.TAFT_trials_df.columns)"
   ]
  },
  {
   "cell_type": "code",
   "execution_count": null,
   "metadata": {},
   "outputs": [],
   "source": [
    "set(cgt.TAFT_trials_df.columns) - set(cgt.TAFT_df.columns)"
   ]
  },
  {
   "cell_type": "markdown",
   "metadata": {},
   "source": [
    "## see class orders (for inheritance)"
   ]
  },
  {
   "cell_type": "code",
   "execution_count": null,
   "metadata": {},
   "outputs": [],
   "source": [
    "dash_applied_to_GUAT_TAFT.DashForGUATandTAFT.mro()"
   ]
  },
  {
   "cell_type": "code",
   "execution_count": null,
   "metadata": {},
   "outputs": [],
   "source": [
    "reload(plot_behaviors_utils)\n",
    "reload(plot_trials)\n",
    "reload(show_null_trajectory)\n",
    "# update the figure size of rcParams\n",
    "plt.rcParams['figure.figsize'] = [9, 9]\n",
    "duration_to_plot = [1646, 1652]\n",
    "\n",
    "max_num_plot_to_make = 1\n",
    "ff_indices_to_plot_null_arc = np.array([822, 641, 665])\n",
    "intended_target_ff_index = 822\n",
    "point_indices_to_plot_null_arc = None #[10147]\n",
    "pretty_null_arc_plot_kwargs_temp = pretty_null_arc_plot_kwargs.copy()\n",
    "pretty_null_arc_plot_kwargs_temp['show_believed_target_positions'] = True\n",
    "\n",
    "pretty_null_arc_plot_kwargs_temp['vary_color_for_connecting_path_ff'] = False\n",
    "pretty_null_arc_plot_kwargs_temp['show_reward_boundary'] = False\n",
    "pretty_null_arc_plot_kwargs_temp['how_to_show_ff_for_visible_segments'] = 'circle'\n",
    "\n",
    "time_to_begin_plotting_null_arc = None\n",
    "time_between_every_two_null_arcs = 0.3\n",
    "\n",
    "\n",
    "show_null_trajectory.make_pretty_plot_for_a_duration(duration_to_plot, cgt.best_arc_df, cgt.monkey_information, cgt.ff_dataframe, cgt.null_arc_info_for_plotting, cgt.null_arc_to_center_info_for_plotting, cgt.PlotTrials_args, pretty_null_arc_plot_kwargs_temp, intended_target_ff_index=intended_target_ff_index,\n",
    "                                        plot_null_arcs= True, ff_max_distance_to_intended_target=400, ff_max_distance_to_path=400, time_between_every_two_null_arcs=time_between_every_two_null_arcs, time_to_begin_plotting_null_arc=time_to_begin_plotting_null_arc, time_to_end_plotting_null_arc=None, max_num_plot_to_make=max_num_plot_to_make,\n",
    "                                        show_intended_target=False, point_indices_to_plot_null_arc=point_indices_to_plot_null_arc, ff_indices_to_plot_null_arc=ff_indices_to_plot_null_arc, whether_mark_path_where_intended_target_has_best_arc_among_all_ff=False, \n",
    "                                        )"
   ]
  }
 ],
 "metadata": {
  "kernelspec": {
   "display_name": "multiff_clean",
   "language": "python",
   "name": "python3"
  },
  "language_info": {
   "codemirror_mode": {
    "name": "ipython",
    "version": 3
   },
   "file_extension": ".py",
   "mimetype": "text/x-python",
   "name": "python",
   "nbconvert_exporter": "python",
   "pygments_lexer": "ipython3",
   "version": "3.11.11"
  }
 },
 "nbformat": 4,
 "nbformat_minor": 2
}
