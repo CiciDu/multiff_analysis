{
 "cells": [
  {
   "cell_type": "markdown",
   "metadata": {},
   "source": [
    "# Import packages"
   ]
  },
  {
   "cell_type": "code",
   "execution_count": null,
   "metadata": {},
   "outputs": [],
   "source": [
    "# # if using google drive\n",
    "# %cd /content/drive/MyDrive/ff_repo/Multifirefly-Project"
   ]
  },
  {
   "cell_type": "code",
   "execution_count": null,
   "metadata": {},
   "outputs": [],
   "source": [
    "from pathlib import Path\n",
    "import os, sys\n",
    "for p in [Path.cwd()] + list(Path.cwd().parents):\n",
    "    if p.name == 'Multifirefly-Project':\n",
    "        os.chdir(p)\n",
    "        sys.path.insert(0, str(p / 'multiff_analysis/multiff_code/methods'))\n",
    "        break\n",
    "\n",
    "%load_ext autoreload\n",
    "%autoreload 2\n",
    "\n",
    "\n",
    "from data_wrangling import specific_utils, combine_info_utils\n",
    "from pattern_discovery import pattern_by_trials, pattern_by_trials, cluster_analysis, organize_patterns_and_features, category_class\n",
    "from decision_making_analysis.cluster_replacement import cluster_replacement_utils\n",
    "from decision_making_analysis.decision_making import decision_making_class, decision_making_utils, intended_targets_classes\n",
    "from decision_making_analysis.GUAT import GUAT_collect_info_class, GUAT_combine_info_class, process_GUAT_trials_class\n",
    "from decision_making_analysis.compare_GUAT_and_TAFT import GUAT_vs_TAFT_class, GUAT_vs_TAFT_x_sessions_class, helper_GUAT_vs_TAFT_class\n",
    "from visualization.matplotlib_tools import plot_trials, plot_behaviors_utils\n",
    "from visualization.animation import animation_class\n",
    "from null_behaviors import show_null_trajectory, find_best_arc, curvature_utils, curv_of_traj_utils\n",
    "from machine_learning.ml_methods import regression_utils, classification_utils, prep_ml_data_utils, hyperparam_tuning_class\n",
    "from visualization.plotly_polar_tools import plotly_utils_polar, plotly_for_ff_polar, plotly_for_trajectory_polar\n",
    "from machine_learning.ml_methods import ml_methods_class\n",
    "\n",
    "import os, sys\n",
    "import numpy as np\n",
    "import matplotlib\n",
    "import matplotlib.pyplot as plt\n",
    "from os.path import exists\n",
    "import math\n",
    "import copy\n",
    "import matplotlib.pyplot as plt\n",
    "import pandas as pd\n",
    "import itertools\n",
    "import matplotlib.pyplot as plt\n",
    "import gc\n",
    "from scipy import stats\n",
    "from IPython.display import HTML\n",
    "from matplotlib import rc\n",
    "from sklearn.svm import SVC\n",
    "from sklearn.ensemble import AdaBoostClassifier, BaggingClassifier\n",
    "from sklearn.neural_network import MLPClassifier, MLPRegressor\n",
    "from sklearn.linear_model import LinearRegression\n",
    "from sklearn.neighbors import KNeighborsRegressor\n",
    "from sklearn.naive_bayes import GaussianNB\n",
    "from sklearn.linear_model import LogisticRegression\n",
    "from sklearn.preprocessing import StandardScaler\n",
    "import warnings\n",
    "import os, sys, sys\n",
    "from importlib import reload\n",
    "from sklearn.exceptions import ConvergenceWarning\n",
    "\n",
    "\n",
    "plt.rcParams[\"animation.html\"] = \"html5\"\n",
    "os.environ['KMP_DUPLICATE_LIB_OK']='True'\n",
    "rc('animation', html='jshtml')\n",
    "matplotlib.rcParams.update(matplotlib.rcParamsDefault)\n",
    "matplotlib.rcParams['animation.embed_limit'] = 2**128\n",
    "pd.set_option('display.float_format', lambda x: '%.5f' % x)\n",
    "np.set_printoptions(suppress=True)\n",
    "pd.options.display.max_rows = 50\n",
    "\n"
   ]
  },
  {
   "cell_type": "markdown",
   "metadata": {},
   "source": [
    "# Run overnight"
   ]
  },
  {
   "cell_type": "code",
   "execution_count": null,
   "metadata": {},
   "outputs": [],
   "source": [
    "# # Predict TAFT vs GUAT\n",
    "# for monkey_name in ['monkey_Bruno', 'monkey_Schro']:\n",
    "#     cgtxs = GUAT_vs_TAFT_x_sessions_class.GUATandTAFTacrossSessionsClass()\n",
    "#     combd_GUAT_x_df, combd_TAFT_x_df = cgtxs.streamline_getting_combd_GUAT_or_TAFT_x_df(monkey_name=monkey_name)\n",
    "\n",
    "# # Predict num_stops\n",
    "# combined_info_exists_ok = True\n",
    "# for monkey_name in ['monkey_Bruno', 'monkey_Schro']:\n",
    "#     gc_kwargs_temp = helper_GUAT_vs_TAFT_class.gc_kwargs.copy()\n",
    "#     gc_kwargs_temp['num_old_ff_per_row'] = 2\n",
    "#     gc_kwargs_temp['num_new_ff_per_row'] = 3\n",
    "\n",
    "#     gas = GUAT_combine_info_class.GUATCombineInfoAcrossSessions(gc_kwargs_temp, monkey_name=monkey_name)\n",
    "#     gas.retrieve_or_make_combined_info(gc_kwargs_temp, combined_info_exists_ok=combined_info_exists_ok, \n",
    "#                                     traj_df_exist_in_GUAT_store_ok=True)"
   ]
  },
  {
   "cell_type": "markdown",
   "metadata": {},
   "source": [
    "# predict TAFT vs GUAT"
   ]
  },
  {
   "cell_type": "markdown",
   "metadata": {},
   "source": [
    "## data across sessions"
   ]
  },
  {
   "cell_type": "code",
   "execution_count": null,
   "metadata": {},
   "outputs": [],
   "source": [
    "monkey_name='monkey_Bruno'\n",
    "cgtxs = GUAT_vs_TAFT_x_sessions_class.GUATandTAFTacrossSessionsClass()\n",
    "# now, put the data into a GUATvsTAFTclass instance for downstream analysis\n",
    "cgt = GUAT_vs_TAFT_class.GUATvsTAFTclass()\n",
    "cgt.GUAT_x_df, cgt.TAFT_x_df = cgtxs.streamline_getting_combd_GUAT_or_TAFT_x_df(monkey_name=monkey_name)"
   ]
  },
  {
   "cell_type": "markdown",
   "metadata": {},
   "source": [
    "## data for one session"
   ]
  },
  {
   "cell_type": "code",
   "execution_count": null,
   "metadata": {},
   "outputs": [],
   "source": [
    "exists_ok = True\n",
    "cgt = GUAT_vs_TAFT_class.GUATvsTAFTclass(ref_point_mode='time', \n",
    "                                            raw_data_folder_path='all_monkey_data/raw_monkey_data/monkey_Bruno/data_0330',\n",
    "                                            ref_point_value=-1.5,)\n",
    "cgt.streamline_getting_GUAT_or_TAFT_x_df(GUAT_or_TAFT='TAFT', exists_ok=exists_ok)\n",
    "cgt.streamline_getting_GUAT_or_TAFT_x_df(GUAT_or_TAFT='GUAT', exists_ok=exists_ok)\n"
   ]
  },
  {
   "cell_type": "code",
   "execution_count": null,
   "metadata": {},
   "outputs": [],
   "source": [
    "# # test and see what is taking so long in running a function\n",
    "# import cProfile\n",
    "\n",
    "# cProfile.run(\"cgt.streamline_getting_GUAT_or_TAFT_x_df(GUAT_or_TAFT='GUAT', exists_ok=False)\", sort='cumtime')\n",
    "\n",
    "# #ncalls  tottime  percall  cumtime  percall"
   ]
  },
  {
   "cell_type": "markdown",
   "metadata": {},
   "source": [
    "## ML"
   ]
  },
  {
   "cell_type": "markdown",
   "metadata": {},
   "source": [
    "# exp"
   ]
  },
  {
   "cell_type": "markdown",
   "metadata": {},
   "source": [
    "### get data & vif"
   ]
  },
  {
   "cell_type": "code",
   "execution_count": null,
   "metadata": {},
   "outputs": [],
   "source": []
  },
  {
   "cell_type": "markdown",
   "metadata": {},
   "source": []
  },
  {
   "cell_type": "code",
   "execution_count": null,
   "metadata": {},
   "outputs": [],
   "source": [
    "cgt.get_x_and_y_var_df()\n",
    "\n",
    "eye_keywords = (\"eye\", \"gaze\", \"LD\", \"RD\")\n",
    "eye_cols = [col for col in cgt.x_var_df.columns if any(k in col for k in eye_keywords)]\n",
    "cgt.x_var_df = cgt.x_var_df.drop(columns=eye_cols)\n",
    "\n",
    "\n",
    "from neural_data_analysis.neural_analysis_tools.model_neural_data import design_bases\n",
    "x_var_df_reduced = design_bases.reduce_df(cgt.x_var_df)\n",
    "\n",
    "ml_inst = ml_methods_class.MlMethods(x_var_df=x_var_df_reduced,\n",
    "                                     y_var_df=cgt.y_var_df)"
   ]
  },
  {
   "cell_type": "code",
   "execution_count": null,
   "metadata": {},
   "outputs": [],
   "source": [
    "ml_inst.x_var_df.shape"
   ]
  },
  {
   "cell_type": "code",
   "execution_count": null,
   "metadata": {},
   "outputs": [],
   "source": [
    "# can skip this if only wanting ML results\n",
    "pd.set_option('display.max_rows', 100)\n",
    "ml_inst.use_vif(ml_inst.x_var_df)\n",
    "features_w_big_vif = ml_inst.vif_df[ml_inst.vif_df['vif'] > 100].feature.values\n",
    "#ml_inst.x_var_df = ml_inst.x_var_df.drop(columns=features_w_big_vif)"
   ]
  },
  {
   "cell_type": "code",
   "execution_count": null,
   "metadata": {},
   "outputs": [],
   "source": [
    "ml_inst.vif_df.head(20)"
   ]
  },
  {
   "cell_type": "code",
   "execution_count": null,
   "metadata": {},
   "outputs": [],
   "source": [
    "# specific_columns = ml_inst.vif_df[ml_inst.vif_df[\"VIF\"] > 2000].feature.values\n",
    "# ml_inst.show_correlation_heatmap(specific_columns=specific_columns)\n",
    "ml_inst.show_correlation_heatmap()"
   ]
  },
  {
   "cell_type": "code",
   "execution_count": null,
   "metadata": {},
   "outputs": [],
   "source": [
    "df = ml_inst.x_var_df"
   ]
  },
  {
   "cell_type": "code",
   "execution_count": null,
   "metadata": {},
   "outputs": [],
   "source": [
    "# [col for col in df.columns if 'cluster' not in col]"
   ]
  },
  {
   "cell_type": "markdown",
   "metadata": {},
   "source": [
    "### run ML"
   ]
  },
  {
   "cell_type": "code",
   "execution_count": null,
   "metadata": {},
   "outputs": [],
   "source": [
    "ml_inst.x_var_df.columns[3]"
   ]
  },
  {
   "cell_type": "code",
   "execution_count": null,
   "metadata": {},
   "outputs": [],
   "source": [
    "ml_inst.use_ml_model_for_classification(ml_inst.x_var_df, ml_inst.y_var_df)\n"
   ]
  },
  {
   "cell_type": "markdown",
   "metadata": {},
   "source": [
    "# feature selection"
   ]
  },
  {
   "cell_type": "code",
   "execution_count": null,
   "metadata": {},
   "outputs": [],
   "source": [
    "from sklearn.linear_model import LogisticRegression\n",
    "\n",
    "model = LogisticRegression(penalty='l1', solver='liblinear')\n",
    "model.fit(ml_inst.x_var_df, ml_inst.y_var_df)\n",
    "important = model.coef_[0] != 0\n",
    "X_new = ml_inst.x_var_df.loc[:, important]\n",
    "X_new.columns\n"
   ]
  },
  {
   "cell_type": "code",
   "execution_count": null,
   "metadata": {},
   "outputs": [],
   "source": [
    "from sklearn.feature_selection import SequentialFeatureSelector\n",
    "from sklearn.ensemble import RandomForestClassifier\n",
    "\n",
    "model = RandomForestClassifier()\n",
    "sfs = SequentialFeatureSelector(model, n_features_to_select=10, direction=\"forward\")\n",
    "X_new = sfs.fit_transform(ml_inst.x_var_df, ml_inst.y_var_df.values.ravel())\n"
   ]
  },
  {
   "cell_type": "code",
   "execution_count": null,
   "metadata": {},
   "outputs": [],
   "source": [
    "X_new"
   ]
  },
  {
   "cell_type": "code",
   "execution_count": null,
   "metadata": {},
   "outputs": [],
   "source": [
    "\n",
    "# Boolean mask of selected features\n",
    "mask = sfs.get_support()\n",
    "\n",
    "# Names of selected features\n",
    "selected_features = ml_inst.x_var_df.columns[mask]\n",
    "\n",
    "print(\"Selected features:\")\n",
    "print(selected_features)"
   ]
  },
  {
   "cell_type": "markdown",
   "metadata": {},
   "source": [
    "## grad_boosting (so that we can see feature importance)"
   ]
  },
  {
   "cell_type": "code",
   "execution_count": null,
   "metadata": {},
   "outputs": [],
   "source": [
    "import numpy as np\n",
    "import pandas as pd\n",
    "from sklearn.ensemble import GradientBoostingClassifier\n",
    "from sklearn.model_selection import train_test_split\n",
    "from sklearn.datasets import load_iris\n",
    "import matplotlib.pyplot as plt\n",
    "import seaborn as sns\n",
    "\n",
    "\n",
    "# Split the data into training and testing sets\n",
    "X_train, X_test, y_train, y_test = train_test_split(ml_inst.x_var_df, ml_inst.y_var_df, test_size=0.2, random_state=42)\n",
    "\n",
    "# Define the model\n",
    "model = GradientBoostingClassifier(\n",
    "    learning_rate=0.05, max_depth=7, max_features='sqrt',\n",
    "    min_samples_leaf=2, min_samples_split=7,\n",
    "    n_estimators=500, subsample=0.5\n",
    ")\n",
    "\n",
    "\n",
    "# Fit the model\n",
    "model.fit(X_train, y_train)\n",
    "\n",
    "# Get feature importances\n",
    "feature_importances = model.feature_importances_\n",
    "\n",
    "# Create a DataFrame for feature importances\n",
    "feature_importances_df = pd.DataFrame({\n",
    "    'Feature': ml_inst.x_var_df.columns,\n",
    "    'Importance': feature_importances\n",
    "})\n",
    "\n",
    "# Sort the DataFrame by importance\n",
    "feature_importances_df = feature_importances_df.sort_values(by='Importance', ascending=False)\n",
    "\n",
    "# Plot feature importances\n",
    "plt.figure(figsize=(10, 18))\n",
    "sns.barplot(x='Importance', y='Feature', data=feature_importances_df)\n",
    "plt.title('Feature Importances')\n",
    "plt.show()\n",
    "\n",
    "# Determine significant features (e.g., importance > 0.01)\n",
    "significant_features = feature_importances_df[feature_importances_df['Importance'] > 0.01]\n",
    "print(\"Significant features:\")\n",
    "print(significant_features)"
   ]
  },
  {
   "cell_type": "markdown",
   "metadata": {},
   "source": [
    "stop !"
   ]
  },
  {
   "cell_type": "markdown",
   "metadata": {},
   "source": [
    "## Compare distributions"
   ]
  },
  {
   "cell_type": "code",
   "execution_count": null,
   "metadata": {},
   "outputs": [],
   "source": [
    "TAFT = cgt.TAFT_x_df.copy()\n",
    "TAFT['whether_TAFT'] = 1\n",
    "GUAT = cgt.GUAT_x_df.copy()\n",
    "GUAT['whether_TAFT'] = 0\n",
    "both_df = pd.concat([TAFT, GUAT], axis=0)"
   ]
  },
  {
   "cell_type": "code",
   "execution_count": null,
   "metadata": {},
   "outputs": [],
   "source": [
    "\n",
    "# for each feature in significant_features, plot the histogram of the feature for each class\n",
    "for feature in ['cur_ff_distance_at_ref', 'cur_ff_angle_at_ref']:\n",
    "    sns.histplot(x=feature, data=both_df, stat='probability', kde=False, hue='whether_TAFT', common_norm=False)\n",
    "    plt.title(f'{feature} histogram')\n",
    "    plt.show()"
   ]
  },
  {
   "cell_type": "code",
   "execution_count": null,
   "metadata": {},
   "outputs": [],
   "source": [
    "# for each feature in significant_features, plot the histogram of the feature for each class\n",
    "max_features_to_plot = 3\n",
    "count = 0\n",
    "for feature in significant_features['Feature']:\n",
    "    sns.histplot(x=feature, data=both_df, stat='probability', kde=False, hue='whether_TAFT', common_norm=False)\n",
    "    plt.title(f'{feature} histogram')\n",
    "    plt.show()\n",
    "    count += 1\n",
    "    if count >= max_features_to_plot:\n",
    "        break"
   ]
  },
  {
   "cell_type": "markdown",
   "metadata": {},
   "source": [
    "### exp"
   ]
  },
  {
   "cell_type": "code",
   "execution_count": null,
   "metadata": {},
   "outputs": [],
   "source": [
    "cgt.TAFT_trials_df"
   ]
  },
  {
   "cell_type": "code",
   "execution_count": null,
   "metadata": {},
   "outputs": [],
   "source": [
    "cgt.GUAT_w_ff_df"
   ]
  },
  {
   "cell_type": "markdown",
   "metadata": {},
   "source": [
    "### plot trials"
   ]
  },
  {
   "cell_type": "code",
   "execution_count": null,
   "metadata": {},
   "outputs": [],
   "source": [
    "GUAT_or_TAFT = 'GUAT'\n",
    "list_of_stop_point_index = cgt.GUAT_x_df[cgt.GUAT_x_df['cur_ff_distance_at_ref'] > 150].stop_point_index.values"
   ]
  },
  {
   "cell_type": "code",
   "execution_count": null,
   "metadata": {},
   "outputs": [],
   "source": [
    "GUAT_or_TAFT = 'TAFT'\n",
    "list_of_stop_point_index = cgt.TAFT_x_df[cgt.TAFT_x_df['cur_ff_distance_at_ref'] > 150].stop_point_index.values"
   ]
  },
  {
   "cell_type": "code",
   "execution_count": null,
   "metadata": {},
   "outputs": [],
   "source": [
    "sub = cgt.take_out_subsets_to_plot(list_of_stop_point_index, GUAT_or_TAFT)"
   ]
  },
  {
   "cell_type": "code",
   "execution_count": null,
   "metadata": {},
   "outputs": [],
   "source": [
    "counter = 0\n",
    "for i, row in sub.iterrows():\n",
    "    if GUAT_or_TAFT == 'GUAT':\n",
    "        ff_column = 'latest_visible_ff'\n",
    "    else:\n",
    "        ff_column = 'ff_index'\n",
    "\n",
    "    print('cur_ff_distance_at_ref', row['cur_ff_distance_at_ref'])\n",
    "    additional_kwargs = {'point_indices_to_be_marked': row['stop_point_index'],\n",
    "                         'point_indices_to_be_marked_3rd_kind': row['ref_point_index']\n",
    "                         }\n",
    "    \n",
    "    plotting_kwargs_temp = copy.deepcopy(cgt.plotting_kwargs)\n",
    "    plotting_kwargs_temp['indices_of_ff_to_mark'] = [row[ff_column]]\n",
    "    trial = row['trial']\n",
    "    duration = [cgt.ff_caught_T_new[trial-2], cgt.ff_caught_T_new[trial]+1]\n",
    "    returned_info = plot_trials.PlotTrials(duration, \n",
    "                *cgt.PlotTrials_args,\n",
    "                **plotting_kwargs_temp,   \n",
    "                **additional_kwargs          \n",
    "                )\n",
    "    plt.show()\n",
    "    # process_GUAT_trials_class.ProcessGUATtrials.make_GUAT_plot(cgt, trial, [row[ff_column]], np.arange(row['stop_point_index']-200, row['stop_point_index']+300),\n",
    "    #                                                            additional_kwargs=additional_kwargs)\n",
    "    if counter == 3:\n",
    "        break\n",
    "    counter += 1"
   ]
  },
  {
   "cell_type": "markdown",
   "metadata": {},
   "source": [
    "# More plots"
   ]
  },
  {
   "cell_type": "markdown",
   "metadata": {},
   "source": [
    "## get data"
   ]
  },
  {
   "cell_type": "code",
   "execution_count": null,
   "metadata": {},
   "outputs": [],
   "source": [
    "pretty_null_arc_plot_kwargs = {'player': 'monkey',\n",
    "        'show_believed_target_positions': True,                       \n",
    "        'show_stops': True,\n",
    "        'show_reward_boundary': True,\n",
    "        'show_scale_bar': True,\n",
    "        'hitting_arena_edge_ok': True,\n",
    "        'trial_too_short_ok': True,\n",
    "        'show_alive_fireflies': False,\n",
    "        'adjust_xy_limits': True,\n",
    "        'zoom_in': True,\n",
    "        'minimal_margin': 60,\n",
    "        }\n"
   ]
  },
  {
   "cell_type": "code",
   "execution_count": null,
   "metadata": {},
   "outputs": [],
   "source": [
    "cgt.get_relevant_monkey_data(already_retrieved_ok=True)\n",
    "cgt.find_patterns()\n",
    "cgt.make_PlotTrials_args()\n",
    "cgt.make_or_retrieve_target_clust_last_vis_df()\n",
    "\n",
    "cgt.make_curvature_df()\n",
    "cgt.find_opt_arc_info_from_curvature_df()\n",
    "cgt.make_best_arc_df()\n",
    "cgt.get_elements_for_plotting()"
   ]
  },
  {
   "cell_type": "code",
   "execution_count": null,
   "metadata": {},
   "outputs": [],
   "source": [
    "cgt.best_arc_df.columns.tolist()"
   ]
  },
  {
   "cell_type": "code",
   "execution_count": null,
   "metadata": {},
   "outputs": [],
   "source": [
    "reload(show_null_trajectory)\n",
    "cgt.null_arc_info_for_plotting = show_null_trajectory.find_and_package_opt_arc_info_for_plotting(cgt.best_arc_df, cgt.monkey_information, column_for_color=None, ignore_error=True)\n",
    "#cgt.null_arc_info_for_plotting = show_null_trajectory.find_and_package_opt_arc_info_for_plotting(cgt.best_arc_df, cgt.monkey_information, column_for_color='diff_percentile_in_decimal')\n",
    "\n",
    "# also get cgt.null_arc_to_center_info_for_plotting\n",
    "all_point_index = cgt.best_arc_df.point_index.values\n",
    "all_ff_index = cgt.best_arc_df.ff_index.values\n",
    "remaining_index_of_array, remaining_all_ff_index, remaining_all_point_index = show_null_trajectory.eliminate_invalid_ff_for_null_arc(all_ff_index, all_point_index, cgt.ff_real_position_sorted, cgt.monkey_information)\n",
    "cgt.find_and_package_arc_to_center_info_for_plotting(remaining_all_point_index, remaining_all_ff_index)"
   ]
  },
  {
   "cell_type": "markdown",
   "metadata": {},
   "source": [
    "# Try a few times vs. give up after trying"
   ]
  },
  {
   "cell_type": "markdown",
   "metadata": {},
   "source": [
    "## Compared with the rest"
   ]
  },
  {
   "cell_type": "code",
   "execution_count": null,
   "metadata": {},
   "outputs": [],
   "source": [
    "reload(decision_making_class)\n",
    "reload(plot_trials)\n",
    "reload(intended_targets_classes)\n",
    "\n",
    "try_a_few_times_trials = cgt.try_a_few_times_trials\n",
    "target_cluster_TAFT = cgt.target_clust_last_vis_df[cgt.target_clust_last_vis_df['target_index'].isin(try_a_few_times_trials)]\n",
    "sort_1_df = target_cluster_TAFT\n",
    "sort_1_trials = sort_1_df.target_index.values\n",
    "sort_1_name = \"Try a few times\"\n",
    "\n",
    "\n",
    "target_cluster_no_flash_after_stopn_TAFT = cgt.target_clust_last_vis_df[~cgt.target_clust_last_vis_df['target_index'].isin(try_a_few_times_trials)]\n",
    "sort_2_df = target_cluster_no_flash_after_stopn_TAFT\n",
    "sort_2_trials = sort_2_df.target_index.values\n",
    "sort_2_name = \"Non-TAFT\"\n",
    "\n",
    "category_item = category_class.ProcessCategoryData(sort_1_trials=sort_1_trials, sort_2_trials=sort_2_trials,\n",
    "                                                              sort_1_name=sort_1_name, sort_2_name=sort_2_name, \n",
    "                                                              sort_1_df=sort_1_df, sort_2_df=sort_2_df,                                                     \n",
    "                                                              PlotTrials_args=cgt.PlotTrials_args, ff_flash_sorted=cgt.ff_flash_sorted,\n",
    "                                                              null_arc_info_for_plotting=cgt.null_arc_info_for_plotting)"
   ]
  },
  {
   "cell_type": "code",
   "execution_count": null,
   "metadata": {},
   "outputs": [],
   "source": [
    "reload(show_null_trajectory)\n",
    "reload(decision_making_class)\n",
    "reload(plot_trials)\n",
    "reload(intended_targets_classes)\n",
    "reload(category_class)\n",
    "\n",
    "\n",
    "category_item.clean_out_cross_boundary_trials()\n",
    "category_item.clean_out_trials_where_target_cluster_was_not_seen_for_a_long_time_before_capture()\n",
    "category_item.make_polar_plot_of_target_last_seen_positions()\n",
    "category_item.make_histograms_of_target_last_seen_attributes()\n",
    "category_item.make_histogram_of_distances_from_previous_targets()\n",
    "category_item.make_polar_plot_of_positions_from_previous_targets()\n",
    "\n",
    "\n",
    "category_item.plot_trajectories(trials=category_item.sort_1_trials[17:18], null_arc_info_for_plotting=cgt.null_arc_info_for_plotting)\n",
    "category_item.plot_distributions_of_visible_ff_and_in_memory_ff()\n"
   ]
  },
  {
   "cell_type": "markdown",
   "metadata": {},
   "source": [
    "## visualize predictions"
   ]
  },
  {
   "cell_type": "code",
   "execution_count": null,
   "metadata": {},
   "outputs": [],
   "source": [
    "gnb = GaussianNB()\n",
    "# gnb.fit(ml_inst.x_var_df, ml_inst.y_var_df)\n",
    "#(trained_model = gnb, max_plot_to_make = 2)\n",
    "\n",
    "#category_item.inspect_special_cases(weird_trials=[98, 180, 212, 649])"
   ]
  },
  {
   "cell_type": "markdown",
   "metadata": {},
   "source": [
    "## plot_trajectories"
   ]
  },
  {
   "cell_type": "code",
   "execution_count": null,
   "metadata": {},
   "outputs": [],
   "source": [
    "current_i = 30"
   ]
  },
  {
   "cell_type": "code",
   "execution_count": null,
   "metadata": {},
   "outputs": [],
   "source": [
    "reload(specific_utils)\n",
    "reload(plot_trials)\n",
    "category_item.plot_trajectories(trials=category_item.sort_1_trials[current_i:current_i+2], null_arc_info_for_plotting=cgt.null_arc_info_for_plotting)\n",
    "current_i = current_i+2"
   ]
  },
  {
   "cell_type": "markdown",
   "metadata": {},
   "source": [
    "## 724"
   ]
  },
  {
   "cell_type": "code",
   "execution_count": null,
   "metadata": {},
   "outputs": [],
   "source": [
    "cgt.null_arc_to_center_info_for_plotting[cgt.null_arc_to_center_info_for_plotting['arc_point_index']==112997]"
   ]
  },
  {
   "cell_type": "code",
   "execution_count": null,
   "metadata": {},
   "outputs": [],
   "source": [
    "pretty_null_arc_plot_kwargs['show_ff_indices'] = False"
   ]
  },
  {
   "cell_type": "code",
   "execution_count": null,
   "metadata": {},
   "outputs": [],
   "source": [
    "reload(plot_behaviors_utils)\n",
    "reload(plot_trials)\n",
    "reload(show_null_trajectory)\n",
    "# update the figure size of rcParams\n",
    "plt.rcParams['figure.figsize'] = [9, 9]\n",
    "duration_to_plot = [1856.504211, 1862.693883]\n",
    "\n",
    "max_num_plot_to_make = 1\n",
    "ff_indices_to_plot_null_arc = np.array([908, 723, 724])\n",
    "intended_target_ff_index = None #749\n",
    "point_indices_to_plot_null_arc = None #[10147]\n",
    "pretty_null_arc_plot_kwargs_temp = pretty_null_arc_plot_kwargs.copy()\n",
    "pretty_null_arc_plot_kwargs_temp['show_believed_target_positions'] = True\n",
    "#pretty_null_arc_plot_kwargs_temp['show_connect_path_ff_specific_indices'] = np.array([668, 656, 657, 704, 797, 798, 824, 658])\n",
    "pretty_null_arc_plot_kwargs_temp['vary_color_for_connecting_path_ff'] = False\n",
    "pretty_null_arc_plot_kwargs_temp['show_reward_boundary'] = False\n",
    "pretty_null_arc_plot_kwargs_temp['how_to_show_ff_for_visible_segments'] = 'circle'\n",
    "\n",
    "time_to_begin_plotting_null_arc = None\n",
    "time_between_every_two_null_arcs = 0.3\n",
    "\n",
    "\n",
    "\n",
    "show_null_trajectory.make_pretty_plot_for_a_duration(duration_to_plot, cgt.best_arc_df, cgt.monkey_information, cgt.ff_dataframe, cgt.null_arc_info_for_plotting, cgt.null_arc_to_center_info_for_plotting, cgt.PlotTrials_args, pretty_null_arc_plot_kwargs_temp, intended_target_ff_index=intended_target_ff_index,\n",
    "                                        plot_null_arcs= True, ff_max_distance_to_intended_target=230, ff_max_distance_to_path=400, time_between_every_two_null_arcs=time_between_every_two_null_arcs, time_to_begin_plotting_null_arc=time_to_begin_plotting_null_arc, time_to_end_plotting_null_arc=None, max_num_plot_to_make=max_num_plot_to_make,\n",
    "                                        show_intended_target=False, point_indices_to_plot_null_arc=point_indices_to_plot_null_arc, ff_indices_to_plot_null_arc=ff_indices_to_plot_null_arc, whether_mark_path_where_intended_target_has_best_arc_among_all_ff=False, \n",
    "                                        )\n"
   ]
  },
  {
   "cell_type": "markdown",
   "metadata": {},
   "source": [
    "# For ppt"
   ]
  },
  {
   "cell_type": "markdown",
   "metadata": {},
   "source": [
    "## TAFT (retry)"
   ]
  },
  {
   "cell_type": "code",
   "execution_count": null,
   "metadata": {},
   "outputs": [],
   "source": [
    "reload(plot_behaviors_utils)\n",
    "reload(plot_trials)\n",
    "reload(show_null_trajectory)\n",
    "# update the figure size of rcParams\n",
    "plt.rcParams['figure.figsize'] = [9, 9]\n",
    "duration_to_plot = [1856.504211, 1862.693883]\n",
    "\n",
    "max_num_plot_to_make = 1\n",
    "ff_indices_to_plot_null_arc = np.array([908, 723, 724])\n",
    "intended_target_ff_index = None #749\n",
    "point_indices_to_plot_null_arc = None #[10147]\n",
    "pretty_null_arc_plot_kwargs_temp = pretty_null_arc_plot_kwargs.copy()\n",
    "pretty_null_arc_plot_kwargs_temp['show_believed_target_positions'] = True\n",
    "#pretty_null_arc_plot_kwargs_temp['show_connect_path_ff_specific_indices'] = np.array([668, 656, 657, 704, 797, 798, 824, 658])\n",
    "pretty_null_arc_plot_kwargs_temp['vary_color_for_connecting_path_ff'] = False\n",
    "pretty_null_arc_plot_kwargs_temp['show_reward_boundary'] = False\n",
    "pretty_null_arc_plot_kwargs_temp['how_to_show_ff_for_visible_segments'] = 'circle'\n",
    "\n",
    "pretty_null_arc_plot_kwargs_temp.update({'show_start': False})\n",
    "\n",
    "time_to_begin_plotting_null_arc = None\n",
    "time_between_every_two_null_arcs = 0.3\n",
    "\n",
    "updated_args = {'title': ''}\n",
    "\n",
    "\n",
    "\n",
    "show_null_trajectory.make_pretty_plot_for_a_duration(duration_to_plot, cgt.best_arc_df, cgt.monkey_information, cgt.ff_dataframe, cgt.null_arc_info_for_plotting, cgt.null_arc_to_center_info_for_plotting, cgt.PlotTrials_args, pretty_null_arc_plot_kwargs_temp, intended_target_ff_index=intended_target_ff_index,\n",
    "                                        plot_null_arcs= False, ff_max_distance_to_intended_target=230, ff_max_distance_to_path=400, time_between_every_two_null_arcs=time_between_every_two_null_arcs, time_to_begin_plotting_null_arc=time_to_begin_plotting_null_arc, time_to_end_plotting_null_arc=None, max_num_plot_to_make=max_num_plot_to_make,\n",
    "                                        show_intended_target=False, point_indices_to_plot_null_arc=point_indices_to_plot_null_arc, ff_indices_to_plot_null_arc=ff_indices_to_plot_null_arc, whether_mark_path_where_intended_target_has_best_arc_among_all_ff=False, \n",
    "                                        **updated_args)\n"
   ]
  },
  {
   "cell_type": "markdown",
   "metadata": {},
   "source": [
    "## GUAT (switch)"
   ]
  },
  {
   "cell_type": "code",
   "execution_count": null,
   "metadata": {},
   "outputs": [],
   "source": [
    "reload(plot_behaviors_utils)\n",
    "reload(plot_trials)\n",
    "reload(show_null_trajectory)\n",
    "# update the figure size of rcParams\n",
    "plt.rcParams['figure.figsize'] = [9, 9]\n",
    "duration_to_plot = [1537.023148, 1542.046287]\n",
    "max_num_plot_to_make = 1\n",
    "ff_indices_to_plot_null_arc = np.array([598, 599, 627])\n",
    "intended_target_ff_index = 717\n",
    "point_indices_to_plot_null_arc = None #[10147]\n",
    "pretty_null_arc_plot_kwargs_temp = pretty_null_arc_plot_kwargs.copy()\n",
    "pretty_null_arc_plot_kwargs_temp['show_believed_target_positions'] = True\n",
    "#\n",
    "pretty_null_arc_plot_kwargs_temp['vary_color_for_connecting_path_ff'] = False\n",
    "pretty_null_arc_plot_kwargs_temp['show_reward_boundary'] = False\n",
    "pretty_null_arc_plot_kwargs_temp['how_to_show_ff_for_visible_segments'] = 'circle'\n",
    "\n",
    "pretty_null_arc_plot_kwargs_temp.update({'show_start': False})\n",
    "\n",
    "time_to_begin_plotting_null_arc = duration_to_plot[0] + 3\n",
    "time_between_every_two_null_arcs = 0.3\n",
    "\n",
    "updated_args = {'title': ''}\n",
    "\n",
    "show_null_trajectory.make_pretty_plot_for_a_duration(duration_to_plot, cgt.best_arc_df, cgt.monkey_information, cgt.ff_dataframe, cgt.null_arc_info_for_plotting, cgt.null_arc_to_center_info_for_plotting, cgt.PlotTrials_args, pretty_null_arc_plot_kwargs_temp, intended_target_ff_index=intended_target_ff_index,\n",
    "                                        plot_null_arcs= False, ff_max_distance_to_intended_target=400, ff_max_distance_to_path=400, time_between_every_two_null_arcs=time_between_every_two_null_arcs, time_to_begin_plotting_null_arc=time_to_begin_plotting_null_arc, time_to_end_plotting_null_arc=None, max_num_plot_to_make=max_num_plot_to_make,\n",
    "                                        show_intended_target=False, point_indices_to_plot_null_arc=point_indices_to_plot_null_arc, ff_indices_to_plot_null_arc=ff_indices_to_plot_null_arc, whether_mark_path_where_intended_target_has_best_arc_among_all_ff=False, \n",
    "                                        **updated_args)\n",
    "\n"
   ]
  },
  {
   "cell_type": "markdown",
   "metadata": {},
   "source": [
    "# Give up after trying"
   ]
  },
  {
   "cell_type": "markdown",
   "metadata": {},
   "source": [
    "## GUAT_cluster_df"
   ]
  },
  {
   "cell_type": "code",
   "execution_count": null,
   "metadata": {},
   "outputs": [],
   "source": [
    "## if I want to use manual_anno for GUAT_item\n",
    "# dm = decision_making_class.DecisionMaking(raw_data_folder_path=raw_data_folder_path)\n",
    "# dm.retrieve_manual_anno()\n",
    "# manual_anno = dm.manual_anno"
   ]
  },
  {
   "cell_type": "code",
   "execution_count": null,
   "metadata": {},
   "outputs": [],
   "source": [
    "reload(process_GUAT_trials_class)\n",
    "auto_annot, auto_annot_long = decision_making_utils.make_auto_annot(cgt.best_arc_df, cgt.monkey_information, cgt.ff_caught_T_new)\n",
    "\n",
    "GUAT_item = process_GUAT_trials_class.ProcessGUATtrials(cgt.give_up_after_trying_info_bundle, \\\n",
    "                                                        cgt.PlotTrials_args, max_distance_to_stop_for_GUAT_target=50, max_allowed_time_since_last_vis=2.5)\n",
    "GUAT_item.find_possible_objects_of_pursuit_in_GUAT()\n",
    "GUAT_item.find_GUAT_ff_aimed_at_from_manual_anno(auto_annot)\n",
    "#GUAT_item.check_GUAT_object_with_manual_anno(verbose=False)\n",
    "#GUAT_item.inspect_clusters_w_o_matching_ff()\n",
    "GUAT_item.make_GUAT_cluster_df()"
   ]
  },
  {
   "cell_type": "markdown",
   "metadata": {},
   "source": [
    "## Compare with TAFT"
   ]
  },
  {
   "cell_type": "code",
   "execution_count": null,
   "metadata": {},
   "outputs": [],
   "source": [
    "try_a_few_times_trials = cgt.try_a_few_times_trials\n",
    "give_up_after_trying_trials = cgt.give_up_after_trying_trials\n",
    "\n",
    "target_cluster_TAFT = cgt.target_clust_last_vis_df[cgt.target_clust_last_vis_df['target_index'].isin(try_a_few_times_trials)]\n",
    "target_cluster_GUAT = cgt.target_clust_last_vis_df[cgt.target_clust_last_vis_df['target_index'].isin(give_up_after_trying_trials)]\n",
    "\n",
    "sort_1_df = target_cluster_TAFT\n",
    "sort_1_trials = sort_1_df.target_index.values\n",
    "sort_1_name = \"Try a few times\"\n",
    "\n",
    "sort_2_df = GUAT_item.GUAT_cluster_df\n",
    "sort_2_trials = sort_2_df.target_index.values\n",
    "sort_2_name = \"Give up after trying\"\n",
    "sort_2_ff_indices = GUAT_item.GUAT_cluster_df.last_vis_ff_index.values\n",
    "\n",
    "category_item = category_class.ProcessCategoryData(sort_1_trials=sort_1_trials, sort_2_trials=sort_2_trials,\n",
    "                                                              sort_1_name=sort_1_name, sort_2_name=sort_2_name, \n",
    "                                                              sort_1_df=sort_1_df, sort_2_df=sort_2_df,\n",
    "                                                              sort_2_ff_indices = sort_2_ff_indices,\n",
    "                                                              sort_2_ff_positions = cgt.ff_real_position_sorted[sort_2_ff_indices],                                                             \n",
    "                                                              PlotTrials_args=cgt.PlotTrials_args, ff_flash_sorted=cgt.ff_flash_sorted,\n",
    "                                                              null_arc_info_for_plotting=cgt.null_arc_info_for_plotting)"
   ]
  },
  {
   "cell_type": "code",
   "execution_count": null,
   "metadata": {},
   "outputs": [],
   "source": [
    "\n",
    "category_item.clean_out_cross_boundary_trials()\n",
    "category_item.clean_out_trials_where_target_cluster_was_not_seen_for_a_long_time_before_capture()\n",
    "category_item.make_polar_plot_of_target_last_seen_positions()\n",
    "category_item.make_histograms_of_target_last_seen_attributes()\n",
    "category_item.make_histogram_of_distances_from_previous_targets()\n",
    "category_item.make_polar_plot_of_positions_from_previous_targets()\n",
    "\n",
    "category_item.plot_trajectories(trials=category_item.sort_1_trials[17:18], null_arc_info_for_plotting=cgt.null_arc_info_for_plotting)\n",
    "category_item.plot_distributions_of_visible_ff_and_in_memory_ff()\n",
    "## the below function (free selection prediction) shouldn't be used on GUAT. So far, it should only be used on VBLO.\n",
    "# category_item.make_and_visualize_free_selection_predictions_using_trained_model(trained_model = gnb, max_plot_to_make = 99)\n",
    "# category_item.inspect_special_cases(weird_trials=[98, 180, 212, 649])"
   ]
  },
  {
   "cell_type": "markdown",
   "metadata": {},
   "source": [
    "## Compared with the rest"
   ]
  },
  {
   "cell_type": "code",
   "execution_count": null,
   "metadata": {},
   "outputs": [],
   "source": [
    "give_up_after_trying_trials = cgt.give_up_after_trying_trials\n",
    "\n",
    "target_cluster_no_flash_after_stopn_GUAT = cgt.target_clust_last_vis_df[~cgt.target_clust_last_vis_df['target_index'].isin(give_up_after_trying_trials)]\n",
    "target_cluster_GUAT = cgt.target_clust_last_vis_df[cgt.target_clust_last_vis_df['target_index'].isin(give_up_after_trying_trials)]\n",
    "\n",
    "sort_1_df = target_cluster_no_flash_after_stopn_GUAT\n",
    "sort_1_trials = sort_1_df.target_index.values\n",
    "sort_1_name = \"Non-GUAT\"\n",
    "\n",
    "sort_2_df = GUAT_item.GUAT_cluster_df\n",
    "sort_2_trials = sort_2_df.target_index.values\n",
    "sort_2_name = \"Give up after trying\"\n",
    "sort_2_ff_indices = GUAT_item.GUAT_cluster_df.last_vis_ff_index.values\n",
    "sort_2_time_for_predicting_ff = GUAT_item.GUAT_cluster_df.latest_visible_time_before_last_stop.values\n",
    "\n",
    "category_item = category_class.ProcessCategoryData(sort_1_trials=sort_1_trials, sort_2_trials=sort_2_trials,\n",
    "                                                              sort_1_name=sort_1_name, sort_2_name=sort_2_name, \n",
    "                                                              sort_1_df=sort_1_df, sort_2_df=sort_2_df,\n",
    "                                                              sort_2_ff_indices = sort_2_ff_indices,\n",
    "                                                              sort_2_ff_positions = cgt.ff_real_position_sorted[sort_2_ff_indices],   \n",
    "                                                              sort_2_time_for_predicting_ff = sort_2_time_for_predicting_ff,                                                       \n",
    "                                                              PlotTrials_args=cgt.PlotTrials_args, ff_flash_sorted=cgt.ff_flash_sorted,\n",
    "                                                              null_arc_info_for_plotting=cgt.null_arc_info_for_plotting)"
   ]
  },
  {
   "cell_type": "code",
   "execution_count": null,
   "metadata": {},
   "outputs": [],
   "source": [
    "category_item.clean_out_cross_boundary_trials()\n",
    "category_item.clean_out_trials_where_target_cluster_was_not_seen_for_a_long_time_before_capture()\n",
    "category_item.make_polar_plot_of_target_last_seen_positions()\n",
    "category_item.make_histograms_of_target_last_seen_attributes()\n",
    "category_item.make_histogram_of_distances_from_previous_targets()\n",
    "category_item.make_polar_plot_of_positions_from_previous_targets()\n",
    "category_item.plot_trajectories(trials=category_item.sort_1_trials[17:18], null_arc_info_for_plotting=cgt.null_arc_info_for_plotting)\n",
    "category_item.plot_distributions_of_visible_ff_and_in_memory_ff()\n",
    "## The function below (free selection prediction) shouldn't be used on GUAT. So far, it should only be used on VBLO.\n",
    "#category_item.make_and_visualize_free_selection_predictions_using_trained_model(trained_model = gnb, use_sort_1=False, use_sort_2=True, max_plot_to_make=3)\n",
    "# category_item.inspect_special_cases(weird_trials=[98, 180, 212, 649])"
   ]
  },
  {
   "cell_type": "markdown",
   "metadata": {},
   "source": [
    "## plot_trajectories"
   ]
  },
  {
   "cell_type": "code",
   "execution_count": null,
   "metadata": {},
   "outputs": [],
   "source": [
    "current_i = 60"
   ]
  },
  {
   "cell_type": "code",
   "execution_count": null,
   "metadata": {},
   "outputs": [],
   "source": [
    "reload(specific_utils)\n",
    "reload(plot_trials)\n",
    "cgt.null_arc_info_for_plotting_temp = cgt.null_arc_info_for_plotting.copy()\n",
    "cgt.null_arc_info_for_plotting_temp['show_connect_path_ff'] = True\n",
    "category_item.plot_trajectories(trials=category_item.sort_2_trials[current_i:current_i+2], null_arc_info_for_plotting=cgt.null_arc_info_for_plotting_temp)\n",
    "current_i = current_i+2"
   ]
  },
  {
   "cell_type": "markdown",
   "metadata": {},
   "source": [
    "## 489 (Bruno 0330)"
   ]
  },
  {
   "cell_type": "code",
   "execution_count": null,
   "metadata": {},
   "outputs": [],
   "source": [
    "\n",
    "reload(plot_behaviors_utils)\n",
    "reload(plot_trials)\n",
    "reload(show_null_trajectory)\n",
    "# update the figure size of rcParams\n",
    "plt.rcParams['figure.figsize'] = [9, 9]\n",
    "duration_to_plot = [1254, 1262]\n",
    "max_num_plot_to_make = 1\n",
    "ff_indices_to_plot_null_arc = np.array([1042, 1241, 489, 685, 744])\n",
    "intended_target_ff_index = 1241\n",
    "point_indices_to_plot_null_arc = None #[10147]\n",
    "pretty_null_arc_plot_kwargs_temp = pretty_null_arc_plot_kwargs.copy()\n",
    "pretty_null_arc_plot_kwargs_temp['show_believed_target_positions'] = False\n",
    "\n",
    "pretty_null_arc_plot_kwargs_temp['vary_color_for_connecting_path_ff'] = False\n",
    "pretty_null_arc_plot_kwargs_temp['show_reward_boundary'] = False\n",
    "pretty_null_arc_plot_kwargs_temp['how_to_show_ff_for_visible_segments'] = 'circle'\n",
    "\n",
    "time_to_begin_plotting_null_arc = duration_to_plot[0] + 3\n",
    "time_between_every_two_null_arcs = 0.3\n",
    "\n",
    "\n",
    "show_null_trajectory.make_pretty_plot_for_a_duration(duration_to_plot, cgt.best_arc_df, cgt.monkey_information, cgt.ff_dataframe, cgt.null_arc_info_for_plotting, cgt.null_arc_to_center_info_for_plotting, cgt.PlotTrials_args, pretty_null_arc_plot_kwargs_temp, intended_target_ff_index=intended_target_ff_index,\n",
    "                                        plot_null_arcs= True, ff_max_distance_to_intended_target=400, ff_max_distance_to_path=400, time_between_every_two_null_arcs=time_between_every_two_null_arcs, time_to_begin_plotting_null_arc=time_to_begin_plotting_null_arc, time_to_end_plotting_null_arc=None, max_num_plot_to_make=max_num_plot_to_make,\n",
    "                                        show_intended_target=False, show_ff_indices=False, point_indices_to_plot_null_arc=point_indices_to_plot_null_arc, ff_indices_to_plot_null_arc=ff_indices_to_plot_null_arc, whether_mark_path_where_intended_target_has_best_arc_among_all_ff=False, \n",
    "                                        )"
   ]
  },
  {
   "cell_type": "markdown",
   "metadata": {},
   "source": [
    "## 567 ??"
   ]
  },
  {
   "cell_type": "code",
   "execution_count": null,
   "metadata": {},
   "outputs": [],
   "source": [
    "reload(plot_behaviors_utils)\n",
    "reload(plot_trials)\n",
    "reload(show_null_trajectory)\n",
    "# update the figure size of rcParams\n",
    "plt.rcParams['figure.figsize'] = [9, 9]\n",
    "duration_to_plot = [1469.670162, 1475.0996949999999]\n",
    "max_num_plot_to_make = 1\n",
    "ff_indices_to_plot_null_arc = np.array([780, 703, 655, 567])\n",
    "intended_target_ff_index = None #1241\n",
    "point_indices_to_plot_null_arc = None #[10147]\n",
    "pretty_null_arc_plot_kwargs_temp = pretty_null_arc_plot_kwargs.copy()\n",
    "pretty_null_arc_plot_kwargs_temp['show_believed_target_positions'] = True\n",
    "\n",
    "pretty_null_arc_plot_kwargs_temp['vary_color_for_connecting_path_ff'] = False\n",
    "pretty_null_arc_plot_kwargs_temp['show_reward_boundary'] = False\n",
    "pretty_null_arc_plot_kwargs_temp['how_to_show_ff_for_visible_segments'] = 'circle'\n",
    "\n",
    "time_to_begin_plotting_null_arc = duration_to_plot[0] + 3\n",
    "time_between_every_two_null_arcs = 0.3\n",
    "\n",
    "\n",
    "show_null_trajectory.make_pretty_plot_for_a_duration(duration_to_plot, cgt.best_arc_df, cgt.monkey_information, cgt.ff_dataframe, cgt.null_arc_info_for_plotting, cgt.null_arc_to_center_info_for_plotting, cgt.PlotTrials_args, pretty_null_arc_plot_kwargs_temp, intended_target_ff_index=intended_target_ff_index,\n",
    "                                        plot_null_arcs= True, ff_max_distance_to_intended_target=400, ff_max_distance_to_path=400, time_between_every_two_null_arcs=time_between_every_two_null_arcs, time_to_begin_plotting_null_arc=time_to_begin_plotting_null_arc, time_to_end_plotting_null_arc=None, max_num_plot_to_make=max_num_plot_to_make,\n",
    "                                        show_intended_target=False, point_indices_to_plot_null_arc=point_indices_to_plot_null_arc, ff_indices_to_plot_null_arc=ff_indices_to_plot_null_arc, whether_mark_path_where_intended_target_has_best_arc_among_all_ff=False, \n",
    "                                        )"
   ]
  },
  {
   "cell_type": "markdown",
   "metadata": {},
   "source": [
    "## 575 ?"
   ]
  },
  {
   "cell_type": "code",
   "execution_count": null,
   "metadata": {},
   "outputs": [],
   "source": [
    "reload(plot_behaviors_utils)\n",
    "reload(plot_trials)\n",
    "reload(show_null_trajectory)\n",
    "# update the figure size of rcParams\n",
    "plt.rcParams['figure.figsize'] = [9, 9]\n",
    "duration_to_plot = [1483.929318, 1489.226027]\n",
    "max_num_plot_to_make = 1\n",
    "ff_indices_to_plot_null_arc = np.array([575, 576, 624, 1620, 1170, 1351])\n",
    "intended_target_ff_index = None #1241\n",
    "point_indices_to_plot_null_arc = None #[10147]\n",
    "pretty_null_arc_plot_kwargs_temp = pretty_null_arc_plot_kwargs.copy()\n",
    "pretty_null_arc_plot_kwargs_temp['show_believed_target_positions'] = False\n",
    "\n",
    "pretty_null_arc_plot_kwargs_temp['vary_color_for_connecting_path_ff'] = False\n",
    "pretty_null_arc_plot_kwargs_temp['show_reward_boundary'] = False\n",
    "pretty_null_arc_plot_kwargs_temp['how_to_show_ff_for_visible_segments'] = 'circle'\n",
    "\n",
    "time_to_begin_plotting_null_arc = duration_to_plot[0] + 3\n",
    "time_between_every_two_null_arcs = 0.3\n",
    "\n",
    "\n",
    "show_null_trajectory.make_pretty_plot_for_a_duration(duration_to_plot, cgt.best_arc_df, cgt.monkey_information, cgt.ff_dataframe, cgt.null_arc_info_for_plotting, cgt.null_arc_to_center_info_for_plotting, cgt.PlotTrials_args, pretty_null_arc_plot_kwargs_temp, intended_target_ff_index=intended_target_ff_index,\n",
    "                                        plot_null_arcs= True, ff_max_distance_to_intended_target=400, ff_max_distance_to_path=400, time_between_every_two_null_arcs=time_between_every_two_null_arcs, time_to_begin_plotting_null_arc=time_to_begin_plotting_null_arc, time_to_end_plotting_null_arc=None, max_num_plot_to_make=max_num_plot_to_make,\n",
    "                                        show_intended_target=False, show_ff_indices=False, point_indices_to_plot_null_arc=point_indices_to_plot_null_arc, ff_indices_to_plot_null_arc=ff_indices_to_plot_null_arc, whether_mark_path_where_intended_target_has_best_arc_among_all_ff=False, \n",
    "                                        )"
   ]
  },
  {
   "cell_type": "markdown",
   "metadata": {},
   "source": [
    "## 586"
   ]
  },
  {
   "cell_type": "code",
   "execution_count": null,
   "metadata": {},
   "outputs": [],
   "source": [
    "reload(plot_behaviors_utils)\n",
    "reload(plot_trials)\n",
    "reload(show_null_trajectory)\n",
    "# update the figure size of rcParams\n",
    "plt.rcParams['figure.figsize'] = [9, 9]\n",
    "duration_to_plot = [1504.795097, 1512.714639]\n",
    "max_num_plot_to_make = 1\n",
    "ff_indices_to_plot_null_arc = np.array([595])\n",
    "intended_target_ff_index = 595\n",
    "point_indices_to_plot_null_arc = None #[10147]\n",
    "pretty_null_arc_plot_kwargs_temp = pretty_null_arc_plot_kwargs.copy()\n",
    "pretty_null_arc_plot_kwargs_temp['show_believed_target_positions'] = False\n",
    "\n",
    "pretty_null_arc_plot_kwargs_temp['vary_color_for_connecting_path_ff'] = False\n",
    "pretty_null_arc_plot_kwargs_temp['show_reward_boundary'] = False\n",
    "pretty_null_arc_plot_kwargs_temp['how_to_show_ff_for_visible_segments'] = 'circle'\n",
    "\n",
    "time_to_begin_plotting_null_arc = duration_to_plot[0] + 3\n",
    "time_between_every_two_null_arcs = 0.3\n",
    "\n",
    "\n",
    "show_null_trajectory.make_pretty_plot_for_a_duration(duration_to_plot, cgt.best_arc_df, cgt.monkey_information, cgt.ff_dataframe, cgt.null_arc_info_for_plotting, cgt.null_arc_to_center_info_for_plotting, cgt.PlotTrials_args, pretty_null_arc_plot_kwargs_temp, intended_target_ff_index=intended_target_ff_index,\n",
    "                                        plot_null_arcs= True, ff_max_distance_to_intended_target=400, ff_max_distance_to_path=400, time_between_every_two_null_arcs=time_between_every_two_null_arcs, time_to_begin_plotting_null_arc=time_to_begin_plotting_null_arc, time_to_end_plotting_null_arc=None, max_num_plot_to_make=max_num_plot_to_make,\n",
    "                                        show_intended_target=False, point_indices_to_plot_null_arc=point_indices_to_plot_null_arc, ff_indices_to_plot_null_arc=ff_indices_to_plot_null_arc, whether_mark_path_where_intended_target_has_best_arc_among_all_ff=False, \n",
    "                                        )"
   ]
  },
  {
   "cell_type": "markdown",
   "metadata": {},
   "source": [
    "## 599 ??"
   ]
  },
  {
   "cell_type": "code",
   "execution_count": null,
   "metadata": {},
   "outputs": [],
   "source": [
    "reload(plot_behaviors_utils)\n",
    "reload(plot_trials)\n",
    "reload(show_null_trajectory)\n",
    "# update the figure size of rcParams\n",
    "plt.rcParams['figure.figsize'] = [9, 9]\n",
    "duration_to_plot = [1537.023148, 1542.046287]\n",
    "max_num_plot_to_make = 1\n",
    "ff_indices_to_plot_null_arc = np.array([598, 599, 627])\n",
    "intended_target_ff_index = 717\n",
    "point_indices_to_plot_null_arc = None #[10147]\n",
    "pretty_null_arc_plot_kwargs_temp = pretty_null_arc_plot_kwargs.copy()\n",
    "pretty_null_arc_plot_kwargs_temp['show_believed_target_positions'] = True\n",
    "#\n",
    "pretty_null_arc_plot_kwargs_temp['vary_color_for_connecting_path_ff'] = False\n",
    "pretty_null_arc_plot_kwargs_temp['show_reward_boundary'] = False\n",
    "pretty_null_arc_plot_kwargs_temp['how_to_show_ff_for_visible_segments'] = 'circle'\n",
    "\n",
    "time_to_begin_plotting_null_arc = duration_to_plot[0] + 3\n",
    "time_between_every_two_null_arcs = 0.3\n",
    "\n",
    "\n",
    "show_null_trajectory.make_pretty_plot_for_a_duration(duration_to_plot, cgt.best_arc_df, cgt.monkey_information, cgt.ff_dataframe, cgt.null_arc_info_for_plotting, cgt.null_arc_to_center_info_for_plotting, cgt.PlotTrials_args, pretty_null_arc_plot_kwargs_temp, intended_target_ff_index=intended_target_ff_index,\n",
    "                                        plot_null_arcs= True, ff_max_distance_to_intended_target=400, ff_max_distance_to_path=400, time_between_every_two_null_arcs=time_between_every_two_null_arcs, time_to_begin_plotting_null_arc=time_to_begin_plotting_null_arc, time_to_end_plotting_null_arc=None, max_num_plot_to_make=max_num_plot_to_make,\n",
    "                                        show_intended_target=False, point_indices_to_plot_null_arc=point_indices_to_plot_null_arc, ff_indices_to_plot_null_arc=ff_indices_to_plot_null_arc, whether_mark_path_where_intended_target_has_best_arc_among_all_ff=False, \n",
    "                                        )\n",
    "\n"
   ]
  },
  {
   "cell_type": "markdown",
   "metadata": {},
   "source": [
    "## 622"
   ]
  },
  {
   "cell_type": "code",
   "execution_count": null,
   "metadata": {},
   "outputs": [],
   "source": [
    "reload(plot_behaviors_utils)\n",
    "reload(plot_trials)\n",
    "reload(show_null_trajectory)\n",
    "# update the figure size of rcParams\n",
    "plt.rcParams['figure.figsize'] = [9, 9]\n",
    "duration_to_plot = [1594.507002, 1597.611809]\n",
    "max_num_plot_to_make = 1\n",
    "ff_indices_to_plot_null_arc = np.array([1351, 831, 856])\n",
    "intended_target_ff_index = 856\n",
    "point_indices_to_plot_null_arc = None #[10147]\n",
    "pretty_null_arc_plot_kwargs_temp = pretty_null_arc_plot_kwargs.copy()\n",
    "pretty_null_arc_plot_kwargs_temp['show_believed_target_positions'] = True\n",
    "\n",
    "pretty_null_arc_plot_kwargs_temp['vary_color_for_connecting_path_ff'] = False\n",
    "pretty_null_arc_plot_kwargs_temp['show_reward_boundary'] = False\n",
    "pretty_null_arc_plot_kwargs_temp['how_to_show_ff_for_visible_segments'] = 'circle'\n",
    "\n",
    "time_to_begin_plotting_null_arc = duration_to_plot[0] + 1\n",
    "time_between_every_two_null_arcs = 0.3\n",
    "\n",
    "\n",
    "show_null_trajectory.make_pretty_plot_for_a_duration(duration_to_plot, cgt.best_arc_df, cgt.monkey_information, cgt.ff_dataframe, cgt.null_arc_info_for_plotting, cgt.null_arc_to_center_info_for_plotting, cgt.PlotTrials_args, pretty_null_arc_plot_kwargs_temp, intended_target_ff_index=intended_target_ff_index,\n",
    "                                        plot_null_arcs= True, ff_max_distance_to_intended_target=400, ff_max_distance_to_path=400, time_between_every_two_null_arcs=time_between_every_two_null_arcs, time_to_begin_plotting_null_arc=time_to_begin_plotting_null_arc, time_to_end_plotting_null_arc=None, max_num_plot_to_make=max_num_plot_to_make,\n",
    "                                        show_intended_target=False, point_indices_to_plot_null_arc=point_indices_to_plot_null_arc, ff_indices_to_plot_null_arc=ff_indices_to_plot_null_arc, whether_mark_path_where_intended_target_has_best_arc_among_all_ff=False, \n",
    "                                        )"
   ]
  },
  {
   "cell_type": "markdown",
   "metadata": {},
   "source": [
    "## 636"
   ]
  },
  {
   "cell_type": "code",
   "execution_count": null,
   "metadata": {},
   "outputs": [],
   "source": [
    "reload(plot_behaviors_utils)\n",
    "reload(plot_trials)\n",
    "reload(show_null_trajectory)\n",
    "# update the figure size of rcParams\n",
    "plt.rcParams['figure.figsize'] = [9, 9]\n",
    "duration_to_plot = [1625.433097, 1629.310465]\n",
    "max_num_plot_to_make = 1\n",
    "ff_indices_to_plot_null_arc = np.array([1464, 878, 636, 974])\n",
    "intended_target_ff_index = 636\n",
    "point_indices_to_plot_null_arc = None #[10147]\n",
    "pretty_null_arc_plot_kwargs_temp = pretty_null_arc_plot_kwargs.copy()\n",
    "pretty_null_arc_plot_kwargs_temp['show_believed_target_positions'] = True\n",
    "\n",
    "pretty_null_arc_plot_kwargs_temp['vary_color_for_connecting_path_ff'] = False\n",
    "pretty_null_arc_plot_kwargs_temp['show_reward_boundary'] = False\n",
    "pretty_null_arc_plot_kwargs_temp['how_to_show_ff_for_visible_segments'] = 'circle'\n",
    "\n",
    "time_to_begin_plotting_null_arc = None\n",
    "time_between_every_two_null_arcs = 0.3\n",
    "\n",
    "\n",
    "show_null_trajectory.make_pretty_plot_for_a_duration(duration_to_plot, cgt.best_arc_df, cgt.monkey_information, cgt.ff_dataframe, cgt.null_arc_info_for_plotting, cgt.null_arc_to_center_info_for_plotting, cgt.PlotTrials_args, pretty_null_arc_plot_kwargs_temp, intended_target_ff_index=intended_target_ff_index,\n",
    "                                        plot_null_arcs= True, ff_max_distance_to_intended_target=400, ff_max_distance_to_path=400, time_between_every_two_null_arcs=time_between_every_two_null_arcs, time_to_begin_plotting_null_arc=time_to_begin_plotting_null_arc, time_to_end_plotting_null_arc=None, max_num_plot_to_make=max_num_plot_to_make,\n",
    "                                        show_intended_target=False, point_indices_to_plot_null_arc=point_indices_to_plot_null_arc, ff_indices_to_plot_null_arc=ff_indices_to_plot_null_arc, whether_mark_path_where_intended_target_has_best_arc_among_all_ff=False, \n",
    "                                        )"
   ]
  },
  {
   "cell_type": "markdown",
   "metadata": {},
   "source": [
    "## 641"
   ]
  },
  {
   "cell_type": "code",
   "execution_count": null,
   "metadata": {},
   "outputs": [],
   "source": [
    "reload(plot_behaviors_utils)\n",
    "reload(plot_trials)\n",
    "reload(show_null_trajectory)\n",
    "# update the figure size of rcParams\n",
    "plt.rcParams['figure.figsize'] = [9, 9]\n",
    "duration_to_plot = [1642, 1647]\n",
    "\n",
    "max_num_plot_to_make = 1\n",
    "ff_indices_to_plot_null_arc = np.array([726, 665])\n",
    "intended_target_ff_index = 726\n",
    "point_indices_to_plot_null_arc = None #[10147]\n",
    "pretty_null_arc_plot_kwargs_temp = pretty_null_arc_plot_kwargs.copy()\n",
    "pretty_null_arc_plot_kwargs_temp['show_believed_target_positions'] = False\n",
    "\n",
    "pretty_null_arc_plot_kwargs_temp['vary_color_for_connecting_path_ff'] = False\n",
    "pretty_null_arc_plot_kwargs_temp['show_reward_boundary'] = False\n",
    "pretty_null_arc_plot_kwargs_temp['how_to_show_ff_for_visible_segments'] = 'circle'\n",
    "\n",
    "time_to_begin_plotting_null_arc = None\n",
    "time_between_every_two_null_arcs = 0.3\n",
    "\n",
    "\n",
    "show_null_trajectory.make_pretty_plot_for_a_duration(duration_to_plot, cgt.best_arc_df, cgt.monkey_information, cgt.ff_dataframe, cgt.null_arc_info_for_plotting, cgt.null_arc_to_center_info_for_plotting, cgt.PlotTrials_args, pretty_null_arc_plot_kwargs_temp, intended_target_ff_index=intended_target_ff_index,\n",
    "                                        plot_null_arcs= True, ff_max_distance_to_intended_target=400, ff_max_distance_to_path=400, time_between_every_two_null_arcs=time_between_every_two_null_arcs, time_to_begin_plotting_null_arc=time_to_begin_plotting_null_arc, time_to_end_plotting_null_arc=None, max_num_plot_to_make=max_num_plot_to_make,\n",
    "                                        show_intended_target=False, point_indices_to_plot_null_arc=point_indices_to_plot_null_arc, ff_indices_to_plot_null_arc=ff_indices_to_plot_null_arc, whether_mark_path_where_intended_target_has_best_arc_among_all_ff=False, \n",
    "                                        )"
   ]
  },
  {
   "cell_type": "markdown",
   "metadata": {},
   "source": [
    "## 641 (2) x"
   ]
  },
  {
   "cell_type": "code",
   "execution_count": null,
   "metadata": {},
   "outputs": [],
   "source": [
    "reload(plot_behaviors_utils)\n",
    "reload(plot_trials)\n",
    "reload(show_null_trajectory)\n",
    "# update the figure size of rcParams\n",
    "plt.rcParams['figure.figsize'] = [9, 9]\n",
    "duration_to_plot = [1646, 1652]\n",
    "\n",
    "max_num_plot_to_make = 1\n",
    "ff_indices_to_plot_null_arc = np.array([822, 641, 665])\n",
    "intended_target_ff_index = 822\n",
    "point_indices_to_plot_null_arc = None #[10147]\n",
    "pretty_null_arc_plot_kwargs_temp = pretty_null_arc_plot_kwargs.copy()\n",
    "pretty_null_arc_plot_kwargs_temp['show_believed_target_positions'] = True\n",
    "\n",
    "pretty_null_arc_plot_kwargs_temp['vary_color_for_connecting_path_ff'] = False\n",
    "pretty_null_arc_plot_kwargs_temp['show_reward_boundary'] = False\n",
    "pretty_null_arc_plot_kwargs_temp['how_to_show_ff_for_visible_segments'] = 'circle'\n",
    "\n",
    "time_to_begin_plotting_null_arc = None\n",
    "time_between_every_two_null_arcs = 0.3\n",
    "\n",
    "\n",
    "show_null_trajectory.make_pretty_plot_for_a_duration(duration_to_plot, cgt.best_arc_df, cgt.monkey_information, cgt.ff_dataframe, cgt.null_arc_info_for_plotting, cgt.null_arc_to_center_info_for_plotting, cgt.PlotTrials_args, pretty_null_arc_plot_kwargs_temp, intended_target_ff_index=intended_target_ff_index,\n",
    "                                        plot_null_arcs= True, ff_max_distance_to_intended_target=400, ff_max_distance_to_path=400, time_between_every_two_null_arcs=time_between_every_two_null_arcs, time_to_begin_plotting_null_arc=time_to_begin_plotting_null_arc, time_to_end_plotting_null_arc=None, max_num_plot_to_make=max_num_plot_to_make,\n",
    "                                        show_intended_target=False, point_indices_to_plot_null_arc=point_indices_to_plot_null_arc, ff_indices_to_plot_null_arc=ff_indices_to_plot_null_arc, whether_mark_path_where_intended_target_has_best_arc_among_all_ff=False, \n",
    "                                        )"
   ]
  },
  {
   "cell_type": "markdown",
   "metadata": {},
   "source": [
    "## 650 ?"
   ]
  },
  {
   "cell_type": "code",
   "execution_count": null,
   "metadata": {},
   "outputs": [],
   "source": [
    "reload(plot_behaviors_utils)\n",
    "reload(plot_trials)\n",
    "reload(show_null_trajectory)\n",
    "# update the figure size of rcParams\n",
    "plt.rcParams['figure.figsize'] = [9, 9]\n",
    "duration_to_plot = [1666.310034, 1671.855963]\n",
    "\n",
    "max_num_plot_to_make = 1\n",
    "ff_indices_to_plot_null_arc = np.array([1089, 694, 650])\n",
    "intended_target_ff_index = None#822\n",
    "point_indices_to_plot_null_arc = None #[10147]\n",
    "pretty_null_arc_plot_kwargs_temp = pretty_null_arc_plot_kwargs.copy()\n",
    "pretty_null_arc_plot_kwargs_temp['show_believed_target_positions'] = True\n",
    "\n",
    "pretty_null_arc_plot_kwargs_temp['vary_color_for_connecting_path_ff'] = False\n",
    "pretty_null_arc_plot_kwargs_temp['show_reward_boundary'] = False\n",
    "pretty_null_arc_plot_kwargs_temp['how_to_show_ff_for_visible_segments'] = 'circle'\n",
    "\n",
    "time_to_begin_plotting_null_arc = None\n",
    "time_between_every_two_null_arcs = 0.3\n",
    "\n",
    "\n",
    "show_null_trajectory.make_pretty_plot_for_a_duration(duration_to_plot, cgt.best_arc_df, cgt.monkey_information, cgt.ff_dataframe, cgt.null_arc_info_for_plotting, cgt.null_arc_to_center_info_for_plotting, cgt.PlotTrials_args, pretty_null_arc_plot_kwargs_temp, intended_target_ff_index=intended_target_ff_index,\n",
    "                                        plot_null_arcs= True, ff_max_distance_to_intended_target=400, ff_max_distance_to_path=400, time_between_every_two_null_arcs=time_between_every_two_null_arcs, time_to_begin_plotting_null_arc=time_to_begin_plotting_null_arc, time_to_end_plotting_null_arc=None, max_num_plot_to_make=max_num_plot_to_make,\n",
    "                                        show_intended_target=False, point_indices_to_plot_null_arc=point_indices_to_plot_null_arc, ff_indices_to_plot_null_arc=ff_indices_to_plot_null_arc, whether_mark_path_where_intended_target_has_best_arc_among_all_ff=False, \n",
    "                                        )"
   ]
  },
  {
   "cell_type": "markdown",
   "metadata": {},
   "source": [
    "## 653"
   ]
  },
  {
   "cell_type": "code",
   "execution_count": null,
   "metadata": {},
   "outputs": [],
   "source": [
    "reload(plot_behaviors_utils)\n",
    "reload(plot_trials)\n",
    "reload(show_null_trajectory)\n",
    "# update the figure size of rcParams\n",
    "plt.rcParams['figure.figsize'] = [9, 9]\n",
    "duration_to_plot = [1674.543492, 1681.62897]\n",
    "\n",
    "max_num_plot_to_make = 1\n",
    "ff_indices_to_plot_null_arc = np.array([708, 660, 820])\n",
    "intended_target_ff_index = 820\n",
    "point_indices_to_plot_null_arc = None #[10147]\n",
    "pretty_null_arc_plot_kwargs_temp = pretty_null_arc_plot_kwargs.copy()\n",
    "pretty_null_arc_plot_kwargs_temp['show_believed_target_positions'] = True\n",
    "\n",
    "pretty_null_arc_plot_kwargs_temp['vary_color_for_connecting_path_ff'] = False\n",
    "pretty_null_arc_plot_kwargs_temp['show_reward_boundary'] = False\n",
    "pretty_null_arc_plot_kwargs_temp['how_to_show_ff_for_visible_segments'] = 'circle'\n",
    "\n",
    "time_to_begin_plotting_null_arc = None\n",
    "time_between_every_two_null_arcs = 0.3\n",
    "\n",
    "\n",
    "show_null_trajectory.make_pretty_plot_for_a_duration(duration_to_plot, cgt.best_arc_df, cgt.monkey_information, cgt.ff_dataframe, cgt.null_arc_info_for_plotting, cgt.null_arc_to_center_info_for_plotting, cgt.PlotTrials_args, pretty_null_arc_plot_kwargs_temp, intended_target_ff_index=intended_target_ff_index,\n",
    "                                        plot_null_arcs= True, ff_max_distance_to_intended_target=400, ff_max_distance_to_path=400, time_between_every_two_null_arcs=time_between_every_two_null_arcs, time_to_begin_plotting_null_arc=time_to_begin_plotting_null_arc, time_to_end_plotting_null_arc=None, max_num_plot_to_make=max_num_plot_to_make,\n",
    "                                        show_intended_target=False, point_indices_to_plot_null_arc=point_indices_to_plot_null_arc, ff_indices_to_plot_null_arc=ff_indices_to_plot_null_arc, whether_mark_path_where_intended_target_has_best_arc_among_all_ff=False, \n",
    "                                        )"
   ]
  },
  {
   "cell_type": "markdown",
   "metadata": {},
   "source": [
    "## 653 (2)"
   ]
  },
  {
   "cell_type": "code",
   "execution_count": null,
   "metadata": {},
   "outputs": [],
   "source": [
    "reload(plot_behaviors_utils)\n",
    "reload(plot_trials)\n",
    "reload(show_null_trajectory)\n",
    "# update the figure size of rcParams\n",
    "plt.rcParams['figure.figsize'] = [9, 9]\n",
    "duration_to_plot = [1677.543492, 1683.62897]\n",
    "\n",
    "max_num_plot_to_make = 1\n",
    "ff_indices_to_plot_null_arc = np.array([708, 690, 771, 653, 789])\n",
    "intended_target_ff_index = 708\n",
    "point_indices_to_plot_null_arc = None #[10147]\n",
    "pretty_null_arc_plot_kwargs_temp = pretty_null_arc_plot_kwargs.copy()\n",
    "pretty_null_arc_plot_kwargs_temp['show_believed_target_positions'] = True\n",
    "\n",
    "pretty_null_arc_plot_kwargs_temp['vary_color_for_connecting_path_ff'] = False\n",
    "pretty_null_arc_plot_kwargs_temp['show_reward_boundary'] = False\n",
    "pretty_null_arc_plot_kwargs_temp['how_to_show_ff_for_visible_segments'] = 'circle'\n",
    "\n",
    "time_to_begin_plotting_null_arc = None\n",
    "time_between_every_two_null_arcs = 0.3\n",
    "\n",
    "\n",
    "show_null_trajectory.make_pretty_plot_for_a_duration(duration_to_plot, cgt.best_arc_df, cgt.monkey_information, cgt.ff_dataframe, cgt.null_arc_info_for_plotting, cgt.null_arc_to_center_info_for_plotting, cgt.PlotTrials_args, pretty_null_arc_plot_kwargs_temp, intended_target_ff_index=intended_target_ff_index,\n",
    "                                        plot_null_arcs= True, ff_max_distance_to_intended_target=400, ff_max_distance_to_path=400, time_between_every_two_null_arcs=time_between_every_two_null_arcs, time_to_begin_plotting_null_arc=time_to_begin_plotting_null_arc, time_to_end_plotting_null_arc=None, max_num_plot_to_make=max_num_plot_to_make,\n",
    "                                        show_intended_target=False, point_indices_to_plot_null_arc=point_indices_to_plot_null_arc, ff_indices_to_plot_null_arc=ff_indices_to_plot_null_arc, whether_mark_path_where_intended_target_has_best_arc_among_all_ff=False, \n",
    "                                        )"
   ]
  },
  {
   "cell_type": "markdown",
   "metadata": {},
   "source": [
    "## 658 (too hard to see)"
   ]
  },
  {
   "cell_type": "code",
   "execution_count": null,
   "metadata": {},
   "outputs": [],
   "source": [
    "reload(plot_behaviors_utils)\n",
    "reload(plot_trials)\n",
    "reload(show_null_trajectory)\n",
    "# update the figure size of rcParams\n",
    "plt.rcParams['figure.figsize'] = [9, 9]\n",
    "duration_to_plot = [1684.973395, 1692.555617]\n",
    "\n",
    "max_num_plot_to_make = 1\n",
    "ff_indices_to_plot_null_arc = np.array([668, 656, 657, 704, 797, 798, 824, 658])\n",
    "intended_target_ff_index = None # 658\n",
    "point_indices_to_plot_null_arc = None #[10147]\n",
    "pretty_null_arc_plot_kwargs_temp = pretty_null_arc_plot_kwargs.copy()\n",
    "pretty_null_arc_plot_kwargs_temp['show_believed_target_positions'] = True\n",
    "pretty_null_arc_plot_kwargs_temp['vary_color_for_connecting_path_ff'] = False\n",
    "pretty_null_arc_plot_kwargs_temp['show_reward_boundary'] = False\n",
    "pretty_null_arc_plot_kwargs_temp['how_to_show_ff_for_visible_segments'] = 'circle'\n",
    "\n",
    "time_to_begin_plotting_null_arc = None\n",
    "time_between_every_two_null_arcs = 0.3\n",
    "\n",
    "\n",
    "show_null_trajectory.make_pretty_plot_for_a_duration(duration_to_plot, cgt.best_arc_df, cgt.monkey_information, cgt.ff_dataframe, cgt.null_arc_info_for_plotting, cgt.null_arc_to_center_info_for_plotting, cgt.PlotTrials_args, pretty_null_arc_plot_kwargs_temp, intended_target_ff_index=intended_target_ff_index,\n",
    "                                        plot_null_arcs= True, ff_max_distance_to_intended_target=400, ff_max_distance_to_path=400, time_between_every_two_null_arcs=time_between_every_two_null_arcs, time_to_begin_plotting_null_arc=time_to_begin_plotting_null_arc, time_to_end_plotting_null_arc=None, max_num_plot_to_make=max_num_plot_to_make,\n",
    "                                        show_intended_target=False, point_indices_to_plot_null_arc=point_indices_to_plot_null_arc, ff_indices_to_plot_null_arc=ff_indices_to_plot_null_arc, whether_mark_path_where_intended_target_has_best_arc_among_all_ff=False, \n",
    "                                        )\n"
   ]
  },
  {
   "cell_type": "markdown",
   "metadata": {},
   "source": [
    "## 660 "
   ]
  },
  {
   "cell_type": "code",
   "execution_count": null,
   "metadata": {},
   "outputs": [],
   "source": [
    "reload(plot_behaviors_utils)\n",
    "reload(plot_trials)\n",
    "reload(show_null_trajectory)\n",
    "# update the figure size of rcParams\n",
    "plt.rcParams['figure.figsize'] = [9, 9]\n",
    "duration_to_plot = [1692.487749, 1697.950517]\n",
    "\n",
    "max_num_plot_to_make = 1\n",
    "ff_indices_to_plot_null_arc = np.array([751, 660, 820, 661])\n",
    "intended_target_ff_index = 751\n",
    "point_indices_to_plot_null_arc = None #[10147]\n",
    "pretty_null_arc_plot_kwargs_temp = pretty_null_arc_plot_kwargs.copy()\n",
    "pretty_null_arc_plot_kwargs_temp['show_believed_target_positions'] = True\n",
    "#pretty_null_arc_plot_kwargs_temp['show_connect_path_ff_specific_indices'] = np.array([668, 656, 657, 704, 797, 798, 824, 658])\n",
    "pretty_null_arc_plot_kwargs_temp['vary_color_for_connecting_path_ff'] = False\n",
    "pretty_null_arc_plot_kwargs_temp['show_reward_boundary'] = False\n",
    "pretty_null_arc_plot_kwargs_temp['how_to_show_ff_for_visible_segments'] = 'circle'\n",
    "\n",
    "time_to_begin_plotting_null_arc = None\n",
    "time_between_every_two_null_arcs = 0.3\n",
    "\n",
    "\n",
    "show_null_trajectory.make_pretty_plot_for_a_duration(duration_to_plot, cgt.best_arc_df, cgt.monkey_information, cgt.ff_dataframe, cgt.null_arc_info_for_plotting, cgt.null_arc_to_center_info_for_plotting, cgt.PlotTrials_args, pretty_null_arc_plot_kwargs_temp, intended_target_ff_index=intended_target_ff_index,\n",
    "                                        plot_null_arcs= True, ff_max_distance_to_intended_target=400, ff_max_distance_to_path=400, time_between_every_two_null_arcs=time_between_every_two_null_arcs, time_to_begin_plotting_null_arc=time_to_begin_plotting_null_arc, time_to_end_plotting_null_arc=None, max_num_plot_to_make=max_num_plot_to_make,\n",
    "                                        show_intended_target=False, point_indices_to_plot_null_arc=point_indices_to_plot_null_arc, ff_indices_to_plot_null_arc=ff_indices_to_plot_null_arc, whether_mark_path_where_intended_target_has_best_arc_among_all_ff=False, \n",
    "                                        )\n"
   ]
  },
  {
   "cell_type": "markdown",
   "metadata": {},
   "source": [
    "## 679"
   ]
  },
  {
   "cell_type": "code",
   "execution_count": null,
   "metadata": {},
   "outputs": [],
   "source": [
    "reload(plot_behaviors_utils)\n",
    "reload(plot_trials)\n",
    "reload(show_null_trajectory)\n",
    "# update the figure size of rcParams\n",
    "plt.rcParams['figure.figsize'] = [9, 9]\n",
    "duration_to_plot = [1752.16371, 1761.527301]\n",
    "\n",
    "max_num_plot_to_make = 1\n",
    "ff_indices_to_plot_null_arc = None #np.array()\n",
    "intended_target_ff_index = 728\n",
    "point_indices_to_plot_null_arc = None #[10147]\n",
    "pretty_null_arc_plot_kwargs_temp = pretty_null_arc_plot_kwargs.copy()\n",
    "pretty_null_arc_plot_kwargs_temp['show_believed_target_positions'] = True\n",
    "#pretty_null_arc_plot_kwargs_temp['show_connect_path_ff_specific_indices'] = np.array([668, 656, 657, 704, 797, 798, 824, 658])\n",
    "pretty_null_arc_plot_kwargs_temp['vary_color_for_connecting_path_ff'] = False\n",
    "pretty_null_arc_plot_kwargs_temp['show_reward_boundary'] = False\n",
    "pretty_null_arc_plot_kwargs_temp['how_to_show_ff_for_visible_segments'] = 'circle'\n",
    "\n",
    "time_to_begin_plotting_null_arc = None\n",
    "time_between_every_two_null_arcs = 0.3\n",
    "\n",
    "\n",
    "show_null_trajectory.make_pretty_plot_for_a_duration(duration_to_plot, cgt.best_arc_df, cgt.monkey_information, cgt.ff_dataframe, cgt.null_arc_info_for_plotting, cgt.null_arc_to_center_info_for_plotting, cgt.PlotTrials_args, pretty_null_arc_plot_kwargs_temp, intended_target_ff_index=intended_target_ff_index,\n",
    "                                        plot_null_arcs= True, ff_max_distance_to_intended_target=450, ff_max_distance_to_path=400, time_between_every_two_null_arcs=time_between_every_two_null_arcs, time_to_begin_plotting_null_arc=time_to_begin_plotting_null_arc, time_to_end_plotting_null_arc=None, max_num_plot_to_make=max_num_plot_to_make,\n",
    "                                        show_intended_target=False, point_indices_to_plot_null_arc=point_indices_to_plot_null_arc, ff_indices_to_plot_null_arc=ff_indices_to_plot_null_arc, whether_mark_path_where_intended_target_has_best_arc_among_all_ff=False, \n",
    "                                        )\n"
   ]
  },
  {
   "cell_type": "markdown",
   "metadata": {},
   "source": [
    "## 693"
   ]
  },
  {
   "cell_type": "code",
   "execution_count": null,
   "metadata": {},
   "outputs": [],
   "source": [
    "reload(plot_behaviors_utils)\n",
    "reload(plot_trials)\n",
    "reload(show_null_trajectory)\n",
    "# update the figure size of rcParams\n",
    "plt.rcParams['figure.figsize'] = [9, 9]\n",
    "duration_to_plot = [1791.986039, 1798.079852]\n",
    "\n",
    "max_num_plot_to_make = 1\n",
    "ff_indices_to_plot_null_arc = np.array([692, 693, 724])\n",
    "intended_target_ff_index = 724\n",
    "point_indices_to_plot_null_arc = None #[10147]\n",
    "pretty_null_arc_plot_kwargs_temp = pretty_null_arc_plot_kwargs.copy()\n",
    "pretty_null_arc_plot_kwargs_temp['show_believed_target_positions'] = True\n",
    "#pretty_null_arc_plot_kwargs_temp['show_connect_path_ff_specific_indices'] = np.array([668, 656, 657, 704, 797, 798, 824, 658])\n",
    "pretty_null_arc_plot_kwargs_temp['vary_color_for_connecting_path_ff'] = False\n",
    "pretty_null_arc_plot_kwargs_temp['show_reward_boundary'] = False\n",
    "pretty_null_arc_plot_kwargs_temp['how_to_show_ff_for_visible_segments'] = 'circle'\n",
    "\n",
    "time_to_begin_plotting_null_arc = None\n",
    "time_between_every_two_null_arcs = 0.3\n",
    "\n",
    "\n",
    "show_null_trajectory.make_pretty_plot_for_a_duration(duration_to_plot, cgt.best_arc_df, cgt.monkey_information, cgt.ff_dataframe, cgt.null_arc_info_for_plotting, cgt.null_arc_to_center_info_for_plotting, cgt.PlotTrials_args, pretty_null_arc_plot_kwargs_temp, intended_target_ff_index=intended_target_ff_index,\n",
    "                                        plot_null_arcs= True, ff_max_distance_to_intended_target=450, ff_max_distance_to_path=400, time_between_every_two_null_arcs=time_between_every_two_null_arcs, time_to_begin_plotting_null_arc=time_to_begin_plotting_null_arc, time_to_end_plotting_null_arc=None, max_num_plot_to_make=max_num_plot_to_make,\n",
    "                                        show_intended_target=False, point_indices_to_plot_null_arc=point_indices_to_plot_null_arc, ff_indices_to_plot_null_arc=ff_indices_to_plot_null_arc, whether_mark_path_where_intended_target_has_best_arc_among_all_ff=False, \n",
    "                                        )\n"
   ]
  },
  {
   "cell_type": "markdown",
   "metadata": {},
   "source": [
    "## 713"
   ]
  },
  {
   "cell_type": "code",
   "execution_count": null,
   "metadata": {},
   "outputs": [],
   "source": [
    "reload(plot_behaviors_utils)\n",
    "reload(plot_trials)\n",
    "reload(show_null_trajectory)\n",
    "# update the figure size of rcParams\n",
    "plt.rcParams['figure.figsize'] = [9, 9]\n",
    "duration_to_plot = [1831, 1836.149079]\n",
    "\n",
    "max_num_plot_to_make = 1\n",
    "ff_indices_to_plot_null_arc = None #np.array([692, 693, 724])\n",
    "intended_target_ff_index = 1492\n",
    "point_indices_to_plot_null_arc = None #[10147]\n",
    "pretty_null_arc_plot_kwargs_temp = pretty_null_arc_plot_kwargs.copy()\n",
    "pretty_null_arc_plot_kwargs_temp['show_believed_target_positions'] = True\n",
    "#pretty_null_arc_plot_kwargs_temp['show_connect_path_ff_specific_indices'] = np.array([668, 656, 657, 704, 797, 798, 824, 658])\n",
    "pretty_null_arc_plot_kwargs_temp['vary_color_for_connecting_path_ff'] = False\n",
    "pretty_null_arc_plot_kwargs_temp['show_reward_boundary'] = False\n",
    "pretty_null_arc_plot_kwargs_temp['how_to_show_ff_for_visible_segments'] = 'circle'\n",
    "\n",
    "time_to_begin_plotting_null_arc = None\n",
    "time_between_every_two_null_arcs = 0.3\n",
    "\n",
    "\n",
    "show_null_trajectory.make_pretty_plot_for_a_duration(duration_to_plot, cgt.best_arc_df, cgt.monkey_information, cgt.ff_dataframe, cgt.null_arc_info_for_plotting, cgt.null_arc_to_center_info_for_plotting, cgt.PlotTrials_args, pretty_null_arc_plot_kwargs_temp, intended_target_ff_index=intended_target_ff_index,\n",
    "                                        plot_null_arcs= True, ff_max_distance_to_intended_target=330, ff_max_distance_to_path=400, time_between_every_two_null_arcs=time_between_every_two_null_arcs, time_to_begin_plotting_null_arc=time_to_begin_plotting_null_arc, time_to_end_plotting_null_arc=None, max_num_plot_to_make=max_num_plot_to_make,\n",
    "                                        show_intended_target=False, point_indices_to_plot_null_arc=point_indices_to_plot_null_arc, ff_indices_to_plot_null_arc=ff_indices_to_plot_null_arc, whether_mark_path_where_intended_target_has_best_arc_among_all_ff=False, \n",
    "                                        )\n"
   ]
  },
  {
   "cell_type": "markdown",
   "metadata": {},
   "source": [
    "## 718"
   ]
  },
  {
   "cell_type": "code",
   "execution_count": null,
   "metadata": {},
   "outputs": [],
   "source": [
    "reload(plot_behaviors_utils)\n",
    "reload(plot_trials)\n",
    "reload(show_null_trajectory)\n",
    "# update the figure size of rcParams\n",
    "plt.rcParams['figure.figsize'] = [9, 9]\n",
    "duration_to_plot = [1838, 1843.994575]\n",
    "\n",
    "max_num_plot_to_make = 1\n",
    "ff_indices_to_plot_null_arc = np.array([717, 1401, 718, 845, 905])\n",
    "intended_target_ff_index = 1401\n",
    "point_indices_to_plot_null_arc = None #[10147]\n",
    "pretty_null_arc_plot_kwargs_temp = pretty_null_arc_plot_kwargs.copy()\n",
    "pretty_null_arc_plot_kwargs_temp['show_believed_target_positions'] = True\n",
    "#pretty_null_arc_plot_kwargs_temp['show_connect_path_ff_specific_indices'] = np.array([668, 656, 657, 704, 797, 798, 824, 658])\n",
    "pretty_null_arc_plot_kwargs_temp['vary_color_for_connecting_path_ff'] = False\n",
    "pretty_null_arc_plot_kwargs_temp['show_reward_boundary'] = False\n",
    "pretty_null_arc_plot_kwargs_temp['how_to_show_ff_for_visible_segments'] = 'circle'\n",
    "\n",
    "time_to_begin_plotting_null_arc = None\n",
    "time_between_every_two_null_arcs = 0.3\n",
    "\n",
    "\n",
    "show_null_trajectory.make_pretty_plot_for_a_duration(duration_to_plot, cgt.best_arc_df, cgt.monkey_information, cgt.ff_dataframe, cgt.null_arc_info_for_plotting, cgt.null_arc_to_center_info_for_plotting, cgt.PlotTrials_args, pretty_null_arc_plot_kwargs_temp, intended_target_ff_index=intended_target_ff_index,\n",
    "                                        plot_null_arcs= True, ff_max_distance_to_intended_target=230, ff_max_distance_to_path=400, time_between_every_two_null_arcs=time_between_every_two_null_arcs, time_to_begin_plotting_null_arc=time_to_begin_plotting_null_arc, time_to_end_plotting_null_arc=None, max_num_plot_to_make=max_num_plot_to_make,\n",
    "                                        show_intended_target=False, point_indices_to_plot_null_arc=point_indices_to_plot_null_arc, ff_indices_to_plot_null_arc=ff_indices_to_plot_null_arc, whether_mark_path_where_intended_target_has_best_arc_among_all_ff=False, \n",
    "                                        )\n"
   ]
  },
  {
   "cell_type": "markdown",
   "metadata": {},
   "source": [
    "## 723"
   ]
  },
  {
   "cell_type": "code",
   "execution_count": null,
   "metadata": {},
   "outputs": [],
   "source": [
    "reload(plot_behaviors_utils)\n",
    "reload(plot_trials)\n",
    "reload(show_null_trajectory)\n",
    "# update the figure size of rcParams\n",
    "plt.rcParams['figure.figsize'] = [9, 9]\n",
    "duration_to_plot = [1849.504211, 1854.4]\n",
    "\n",
    "max_num_plot_to_make = 1\n",
    "ff_indices_to_plot_null_arc = np.array([722, 749])\n",
    "intended_target_ff_index = 749\n",
    "point_indices_to_plot_null_arc = None #[10147]\n",
    "pretty_null_arc_plot_kwargs_temp = pretty_null_arc_plot_kwargs.copy()\n",
    "pretty_null_arc_plot_kwargs_temp['show_believed_target_positions'] = True\n",
    "#pretty_null_arc_plot_kwargs_temp['show_connect_path_ff_specific_indices'] = np.array([668, 656, 657, 704, 797, 798, 824, 658])\n",
    "pretty_null_arc_plot_kwargs_temp['vary_color_for_connecting_path_ff'] = False\n",
    "pretty_null_arc_plot_kwargs_temp['show_reward_boundary'] = False\n",
    "pretty_null_arc_plot_kwargs_temp['how_to_show_ff_for_visible_segments'] = 'circle'\n",
    "\n",
    "time_to_begin_plotting_null_arc = None\n",
    "time_between_every_two_null_arcs = 0.3\n",
    "\n",
    "\n",
    "show_null_trajectory.make_pretty_plot_for_a_duration(duration_to_plot, cgt.best_arc_df, cgt.monkey_information, cgt.ff_dataframe, cgt.null_arc_info_for_plotting, cgt.null_arc_to_center_info_for_plotting, cgt.PlotTrials_args, pretty_null_arc_plot_kwargs_temp, intended_target_ff_index=intended_target_ff_index,\n",
    "                                        plot_null_arcs= True, ff_max_distance_to_intended_target=230, ff_max_distance_to_path=400, time_between_every_two_null_arcs=time_between_every_two_null_arcs, time_to_begin_plotting_null_arc=time_to_begin_plotting_null_arc, time_to_end_plotting_null_arc=None, max_num_plot_to_make=max_num_plot_to_make,\n",
    "                                        show_intended_target=False, point_indices_to_plot_null_arc=point_indices_to_plot_null_arc, ff_indices_to_plot_null_arc=ff_indices_to_plot_null_arc, whether_mark_path_where_intended_target_has_best_arc_among_all_ff=False, \n",
    "                                        )\n"
   ]
  },
  {
   "cell_type": "markdown",
   "metadata": {},
   "source": [
    "## 730"
   ]
  },
  {
   "cell_type": "code",
   "execution_count": null,
   "metadata": {},
   "outputs": [],
   "source": [
    "reload(plot_behaviors_utils)\n",
    "reload(plot_trials)\n",
    "reload(show_null_trajectory)\n",
    "# update the figure size of rcParams\n",
    "plt.rcParams['figure.figsize'] = [9, 9]\n",
    "duration_to_plot = [1873.116986, 1878.281488]\n",
    "\n",
    "max_num_plot_to_make = 1\n",
    "ff_indices_to_plot_null_arc = np.array([1106])\n",
    "intended_target_ff_index = 1106\n",
    "point_indices_to_plot_null_arc = None #[10147]\n",
    "pretty_null_arc_plot_kwargs_temp = pretty_null_arc_plot_kwargs.copy()\n",
    "pretty_null_arc_plot_kwargs_temp['show_believed_target_positions'] = True\n",
    "#pretty_null_arc_plot_kwargs_temp['show_connect_path_ff_specific_indices'] = np.array([668, 656, 657, 704, 797, 798, 824, 658])\n",
    "pretty_null_arc_plot_kwargs_temp['vary_color_for_connecting_path_ff'] = False\n",
    "pretty_null_arc_plot_kwargs_temp['show_reward_boundary'] = False\n",
    "pretty_null_arc_plot_kwargs_temp['how_to_show_ff_for_visible_segments'] = 'circle'\n",
    "\n",
    "time_to_begin_plotting_null_arc = None\n",
    "time_between_every_two_null_arcs = 0.3\n",
    "\n",
    "\n",
    "show_null_trajectory.make_pretty_plot_for_a_duration(duration_to_plot, cgt.best_arc_df, cgt.monkey_information, cgt.ff_dataframe, cgt.null_arc_info_for_plotting, cgt.null_arc_to_center_info_for_plotting, cgt.PlotTrials_args, pretty_null_arc_plot_kwargs_temp, intended_target_ff_index=intended_target_ff_index,\n",
    "                                        plot_null_arcs= True, ff_max_distance_to_intended_target=230, ff_max_distance_to_path=400, time_between_every_two_null_arcs=time_between_every_two_null_arcs, time_to_begin_plotting_null_arc=time_to_begin_plotting_null_arc, time_to_end_plotting_null_arc=None, max_num_plot_to_make=max_num_plot_to_make,\n",
    "                                        show_intended_target=False, point_indices_to_plot_null_arc=point_indices_to_plot_null_arc, ff_indices_to_plot_null_arc=ff_indices_to_plot_null_arc, whether_mark_path_where_intended_target_has_best_arc_among_all_ff=False, \n",
    "                                        )\n"
   ]
  },
  {
   "cell_type": "markdown",
   "metadata": {},
   "source": [
    "## 751"
   ]
  },
  {
   "cell_type": "code",
   "execution_count": null,
   "metadata": {},
   "outputs": [],
   "source": [
    "reload(plot_behaviors_utils)\n",
    "reload(plot_trials)\n",
    "reload(show_null_trajectory)\n",
    "# update the figure size of rcParams\n",
    "plt.rcParams['figure.figsize'] = [9, 9]\n",
    "duration_to_plot = [1919.422092, 1926.644391]\n",
    "\n",
    "max_num_plot_to_make = 1\n",
    "ff_indices_to_plot_null_arc = np.array([876, 751])\n",
    "intended_target_ff_index = 876\n",
    "point_indices_to_plot_null_arc = None #[10147]\n",
    "pretty_null_arc_plot_kwargs_temp = pretty_null_arc_plot_kwargs.copy()\n",
    "pretty_null_arc_plot_kwargs_temp['show_believed_target_positions'] = True\n",
    "#pretty_null_arc_plot_kwargs_temp['show_connect_path_ff_specific_indices'] = np.array([668, 656, 657, 704, 797, 798, 824, 658])\n",
    "pretty_null_arc_plot_kwargs_temp['vary_color_for_connecting_path_ff'] = False\n",
    "pretty_null_arc_plot_kwargs_temp['show_reward_boundary'] = False\n",
    "pretty_null_arc_plot_kwargs_temp['how_to_show_ff_for_visible_segments'] = 'circle'\n",
    "\n",
    "time_to_begin_plotting_null_arc = None\n",
    "time_between_every_two_null_arcs = 0.3\n",
    "\n",
    "\n",
    "show_null_trajectory.make_pretty_plot_for_a_duration(duration_to_plot, cgt.best_arc_df, cgt.monkey_information, cgt.ff_dataframe, cgt.null_arc_info_for_plotting, cgt.null_arc_to_center_info_for_plotting, cgt.PlotTrials_args, pretty_null_arc_plot_kwargs_temp, intended_target_ff_index=intended_target_ff_index,\n",
    "                                        plot_null_arcs= True, ff_max_distance_to_intended_target=230, ff_max_distance_to_path=400, time_between_every_two_null_arcs=time_between_every_two_null_arcs, time_to_begin_plotting_null_arc=time_to_begin_plotting_null_arc, time_to_end_plotting_null_arc=None, max_num_plot_to_make=max_num_plot_to_make,\n",
    "                                        show_intended_target=False, point_indices_to_plot_null_arc=point_indices_to_plot_null_arc, ff_indices_to_plot_null_arc=ff_indices_to_plot_null_arc, whether_mark_path_where_intended_target_has_best_arc_among_all_ff=False, \n",
    "                                        )\n"
   ]
  },
  {
   "cell_type": "markdown",
   "metadata": {},
   "source": [
    "## 756"
   ]
  },
  {
   "cell_type": "code",
   "execution_count": null,
   "metadata": {},
   "outputs": [],
   "source": [
    "reload(plot_behaviors_utils)\n",
    "reload(plot_trials)\n",
    "reload(show_null_trajectory)\n",
    "# update the figure size of rcParams\n",
    "plt.rcParams['figure.figsize'] = [9, 9]\n",
    "duration_to_plot = [1934.510997, 1943.393497]\n",
    "\n",
    "max_num_plot_to_make = 1\n",
    "ff_indices_to_plot_null_arc = np.array([756, 1089, 1703])\n",
    "intended_target_ff_index = 1089\n",
    "point_indices_to_plot_null_arc = None #[10147]\n",
    "pretty_null_arc_plot_kwargs_temp = pretty_null_arc_plot_kwargs.copy()\n",
    "pretty_null_arc_plot_kwargs_temp['show_believed_target_positions'] = True\n",
    "#pretty_null_arc_plot_kwargs_temp['show_connect_path_ff_specific_indices'] = np.array([668, 656, 657, 704, 797, 798, 824, 658])\n",
    "pretty_null_arc_plot_kwargs_temp['vary_color_for_connecting_path_ff'] = False\n",
    "pretty_null_arc_plot_kwargs_temp['show_reward_boundary'] = False\n",
    "pretty_null_arc_plot_kwargs_temp['how_to_show_ff_for_visible_segments'] = 'circle'\n",
    "\n",
    "time_to_begin_plotting_null_arc = None\n",
    "time_between_every_two_null_arcs = 0.3\n",
    "\n",
    "\n",
    "show_null_trajectory.make_pretty_plot_for_a_duration(duration_to_plot, cgt.best_arc_df, cgt.monkey_information, cgt.ff_dataframe, cgt.null_arc_info_for_plotting, cgt.null_arc_to_center_info_for_plotting, cgt.PlotTrials_args, pretty_null_arc_plot_kwargs_temp, intended_target_ff_index=intended_target_ff_index,\n",
    "                                        plot_null_arcs= True, ff_max_distance_to_intended_target=230, ff_max_distance_to_path=400, time_between_every_two_null_arcs=time_between_every_two_null_arcs, time_to_begin_plotting_null_arc=time_to_begin_plotting_null_arc, time_to_end_plotting_null_arc=None, max_num_plot_to_make=max_num_plot_to_make,\n",
    "                                        show_intended_target=False, point_indices_to_plot_null_arc=point_indices_to_plot_null_arc, ff_indices_to_plot_null_arc=ff_indices_to_plot_null_arc, whether_mark_path_where_intended_target_has_best_arc_among_all_ff=False, \n",
    "                                        )\n"
   ]
  },
  {
   "cell_type": "markdown",
   "metadata": {},
   "source": [
    "## 765"
   ]
  },
  {
   "cell_type": "code",
   "execution_count": null,
   "metadata": {},
   "outputs": [],
   "source": [
    "reload(plot_behaviors_utils)\n",
    "reload(plot_trials)\n",
    "reload(show_null_trajectory)\n",
    "# update the figure size of rcParams\n",
    "plt.rcParams['figure.figsize'] = [9, 9]\n",
    "duration_to_plot = [1959.975111, 1968.49221]\n",
    "\n",
    "max_num_plot_to_make = 1\n",
    "ff_indices_to_plot_null_arc = None #np.array([756, 1089, 1703])\n",
    "intended_target_ff_index = None #1089\n",
    "point_indices_to_plot_null_arc = None #[10147]\n",
    "pretty_null_arc_plot_kwargs_temp = pretty_null_arc_plot_kwargs.copy()\n",
    "pretty_null_arc_plot_kwargs_temp['show_believed_target_positions'] = True\n",
    "#pretty_null_arc_plot_kwargs_temp['show_connect_path_ff_specific_indices'] = np.array([668, 656, 657, 704, 797, 798, 824, 658])\n",
    "pretty_null_arc_plot_kwargs_temp['vary_color_for_connecting_path_ff'] = False\n",
    "pretty_null_arc_plot_kwargs_temp['show_reward_boundary'] = False\n",
    "pretty_null_arc_plot_kwargs_temp['how_to_show_ff_for_visible_segments'] = 'circle'\n",
    "\n",
    "time_to_begin_plotting_null_arc = None\n",
    "time_between_every_two_null_arcs = 0.3\n",
    "\n",
    "\n",
    "show_null_trajectory.make_pretty_plot_for_a_duration(duration_to_plot, cgt.best_arc_df, cgt.monkey_information, cgt.ff_dataframe, cgt.null_arc_info_for_plotting, cgt.null_arc_to_center_info_for_plotting, cgt.PlotTrials_args, pretty_null_arc_plot_kwargs_temp, intended_target_ff_index=intended_target_ff_index,\n",
    "                                        plot_null_arcs= True, ff_max_distance_to_intended_target=230, ff_max_distance_to_path=400, time_between_every_two_null_arcs=time_between_every_two_null_arcs, time_to_begin_plotting_null_arc=time_to_begin_plotting_null_arc, time_to_end_plotting_null_arc=None, max_num_plot_to_make=max_num_plot_to_make,\n",
    "                                        show_intended_target=False, point_indices_to_plot_null_arc=point_indices_to_plot_null_arc, ff_indices_to_plot_null_arc=ff_indices_to_plot_null_arc, whether_mark_path_where_intended_target_has_best_arc_among_all_ff=False, \n",
    "                                        )\n"
   ]
  },
  {
   "cell_type": "code",
   "execution_count": null,
   "metadata": {},
   "outputs": [],
   "source": [
    "category_item.plot_trajectories(trials=[765], null_arc_info_for_plotting=cgt.null_arc_info_for_plotting,\n",
    "                                show_connect_path_ff=True, show_ff_indices=True)"
   ]
  },
  {
   "cell_type": "code",
   "execution_count": null,
   "metadata": {},
   "outputs": [],
   "source": [
    "reload(show_null_trajectory)\n",
    "duration_to_plot = [1254.09006, 1260.797728]\n",
    "max_num_plot_to_make = 1\n",
    "ff_indices_to_plot_null_arc = None #np.array([62, 413, 60, 61])\n",
    "intended_target_ff_index = 1241\n",
    "point_indices_to_plot_null_arc = None #[10147]\n",
    "pretty_null_arc_plot_kwargs_temp = pretty_null_arc_plot_kwargs.copy()\n",
    "pretty_null_arc_plot_kwargs_temp['show_believed_target_positions'] = False\n",
    "\n",
    "show_null_trajectory.make_pretty_plot_for_a_duration(duration_to_plot, cgt.best_arc_df, cgt.monkey_information, cgt.ff_dataframe, cgt.null_arc_info_for_plotting, cgt.null_arc_to_center_info_for_plotting, cgt.PlotTrials_args, pretty_null_arc_plot_kwargs_temp, intended_target_ff_index=intended_target_ff_index,\n",
    "                                        plot_null_arcs= True, ff_max_distance_to_intended_target=250, ff_max_distance_to_path=400, time_between_every_two_null_arcs=0.2, time_to_begin_plotting_null_arc=None, time_to_end_plotting_null_arc=None, max_num_plot_to_make=max_num_plot_to_make,\n",
    "                                        show_intended_target=False, point_indices_to_plot_null_arc=point_indices_to_plot_null_arc, ff_indices_to_plot_null_arc=ff_indices_to_plot_null_arc, whether_mark_path_where_intended_target_has_best_arc_among_all_ff=False, \n",
    "                                        )"
   ]
  },
  {
   "cell_type": "code",
   "execution_count": null,
   "metadata": {},
   "outputs": [],
   "source": [
    "STOP!"
   ]
  },
  {
   "cell_type": "markdown",
   "metadata": {},
   "source": [
    "# Appendix"
   ]
  },
  {
   "cell_type": "markdown",
   "metadata": {},
   "source": [
    "## Plot trials"
   ]
  },
  {
   "cell_type": "code",
   "execution_count": null,
   "metadata": {},
   "outputs": [],
   "source": []
  },
  {
   "cell_type": "code",
   "execution_count": null,
   "metadata": {},
   "outputs": [],
   "source": [
    "classic_plot_kwargs = {'show_stops': True,\n",
    "                       'show_believed_target_positions': True,\n",
    "                       'show_reward_boundary': True,\n",
    "                       'show_scale_bar': True}\n",
    "cgt.PlotTrials_args = (cgt.monkey_information, cgt.ff_dataframe, cgt.ff_life_sorted, cgt.ff_real_position_sorted, cgt.ff_believed_position_sorted, cgt.cluster_around_target_indices, cgt.ff_caught_T_new)"
   ]
  },
  {
   "cell_type": "code",
   "execution_count": null,
   "metadata": {},
   "outputs": [],
   "source": [
    "from data_wrangling import general_utils"
   ]
  },
  {
   "cell_type": "code",
   "execution_count": null,
   "metadata": {},
   "outputs": [],
   "source": [
    "\n",
    "num_trials = 2 \n",
    "\n",
    "\n",
    "with general_utils.initiate_plot(10,10,100):\n",
    "  for currentTrial in [96+1, 102+1]: #two_in_a_row[10:20]:\n",
    "      duration = [cgt.ff_caught_T_new[currentTrial-num_trials], cgt.ff_caught_T_new[currentTrial]]\n",
    "      plot_trials.PlotTrials(duration, \n",
    "                  *cgt.PlotTrials_args,\n",
    "                  **classic_plot_kwargs,\n",
    "                  currentTrial = currentTrial,\n",
    "                  num_trials = num_trials,                   \n",
    "                  show_connect_path_ff_except_targets = True,\n",
    "                  show_path_when_target_visible = True,\n",
    "                  show_ff_indices = False,\n",
    "                  hitting_arena_edge_ok = True,\n",
    "                  visible_distance = 400,\n",
    "                  minimal_margin = 300,\n",
    "                  show_monkey_angles = True\n",
    "                  )\n",
    "      plt.show()  \n",
    "\n",
    "      "
   ]
  }
 ],
 "metadata": {
  "kernelspec": {
   "display_name": "multiff_clean",
   "language": "python",
   "name": "python3"
  },
  "language_info": {
   "codemirror_mode": {
    "name": "ipython",
    "version": 3
   },
   "file_extension": ".py",
   "mimetype": "text/x-python",
   "name": "python",
   "nbconvert_exporter": "python",
   "pygments_lexer": "ipython3",
   "version": "3.11.11"
  }
 },
 "nbformat": 4,
 "nbformat_minor": 2
}
