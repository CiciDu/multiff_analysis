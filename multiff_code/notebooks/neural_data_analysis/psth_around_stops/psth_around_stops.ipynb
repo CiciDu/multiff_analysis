{
 "cells": [
  {
   "cell_type": "markdown",
   "id": "0",
   "metadata": {},
   "source": [
    "# Import packages"
   ]
  },
  {
   "cell_type": "code",
   "execution_count": null,
   "id": "1",
   "metadata": {},
   "outputs": [],
   "source": [
    "%load_ext autoreload\n",
    "%autoreload 2\n",
    "\n",
    "import os, sys, sys\n",
    "from pathlib import Path\n",
    "for p in [Path.cwd()] + list(Path.cwd().parents):\n",
    "    if p.name == 'Multifirefly-Project':\n",
    "        os.chdir(p)\n",
    "        sys.path.insert(0, str(p / 'multiff_analysis/multiff_code/methods'))\n",
    "        break\n",
    "    \n",
    "from data_wrangling import specific_utils, process_monkey_information, general_utils\n",
    "from pattern_discovery import pattern_by_trials, pattern_by_trials, cluster_analysis, organize_patterns_and_features\n",
    "from visualization.matplotlib_tools import plot_behaviors_utils\n",
    "from neural_data_analysis.neural_analysis_tools.get_neural_data import neural_data_processing\n",
    "from neural_data_analysis.neural_analysis_tools.visualize_neural_data import plot_neural_data, plot_modeling_result\n",
    "from neural_data_analysis.neural_analysis_tools.model_neural_data import transform_vars, neural_data_modeling, drop_high_corr_vars, drop_high_vif_vars\n",
    "from neural_data_analysis.topic_based_neural_analysis.neural_vs_behavioral import prep_monkey_data, prep_target_data, neural_vs_behavioral_class\n",
    "from neural_data_analysis.topic_based_neural_analysis.planning_and_neural import planning_and_neural_class, pn_utils, pn_helper_class, pn_aligned_by_seg, pn_aligned_by_event\n",
    "from neural_data_analysis.neural_analysis_tools.cca_methods import cca_class\n",
    "from neural_data_analysis.neural_analysis_tools.cca_methods import cca_class, cca_utils, cca_cv_utils\n",
    "from neural_data_analysis.neural_analysis_tools.cca_methods.cca_plotting import cca_plotting, cca_plot_lag_vs_no_lag, cca_plot_cv\n",
    "from machine_learning.ml_methods import regression_utils, regz_regression_utils, ml_methods_class, classification_utils, ml_plotting_utils, ml_methods_utils\n",
    "from planning_analysis.show_planning import nxt_ff_utils, show_planning_utils\n",
    "from neural_data_analysis.neural_analysis_tools.gpfa_methods import elephant_utils, fit_gpfa_utils, plot_gpfa_utils, gpfa_helper_class\n",
    "from neural_data_analysis.neural_analysis_tools.align_trials import time_resolved_regression, time_resolved_gpfa_regression,plot_time_resolved_regression\n",
    "from neural_data_analysis.neural_analysis_tools.align_trials import align_trial_utils\n",
    "from decision_making_analysis.compare_GUAT_and_TAFT import find_GUAT_or_TAFT_trials\n",
    "\n",
    "from neural_data_analysis.topic_based_neural_analysis.stop_event_analysis import core_stops_psth, get_stops_utils, psth_postprocessing, psth_stats\n",
    "\n",
    "import sys\n",
    "import math\n",
    "import gc\n",
    "import subprocess\n",
    "from pathlib import Path\n",
    "\n",
    "# Third-party imports\n",
    "import numpy as np\n",
    "import pandas as pd\n",
    "import matplotlib\n",
    "import matplotlib.pyplot as plt\n",
    "import seaborn as sns\n",
    "from matplotlib import rc\n",
    "from scipy import linalg, interpolate\n",
    "from scipy.signal import fftconvolve\n",
    "from scipy.io import loadmat\n",
    "from scipy import sparse\n",
    "import torch\n",
    "from numpy import pi\n",
    "import cProfile\n",
    "import pstats\n",
    "\n",
    "# Machine Learning imports\n",
    "from sklearn.metrics import mean_squared_error, r2_score\n",
    "from sklearn.linear_model import LinearRegression, Ridge\n",
    "from sklearn.cross_decomposition import CCA\n",
    "from sklearn.preprocessing import StandardScaler\n",
    "from sklearn.model_selection import train_test_split, GridSearchCV\n",
    "from sklearn.decomposition import PCA\n",
    "from sklearn.model_selection import train_test_split\n",
    "from sklearn.model_selection import KFold\n",
    "from statsmodels.stats.outliers_influence import variance_inflation_factor\n",
    "from statsmodels.multivariate.cancorr import CanCorr\n",
    "\n",
    "# Neuroscience specific imports\n",
    "import neo\n",
    "import rcca\n",
    "\n",
    "# To fit gpfa\n",
    "import numpy as np\n",
    "from importlib import reload\n",
    "from scipy.integrate import odeint\n",
    "import quantities as pq\n",
    "import neo\n",
    "from elephant.spike_train_generation import inhomogeneous_poisson_process\n",
    "from elephant.gpfa import GPFA\n",
    "import matplotlib.pyplot as plt\n",
    "from mpl_toolkits.mplot3d import Axes3D\n",
    "from elephant.gpfa import gpfa_core, gpfa_util\n",
    "\n",
    "plt.rcParams[\"animation.html\"] = \"html5\"\n",
    "os.environ['KMP_DUPLICATE_LIB_OK']='True'\n",
    "rc('animation', html='jshtml')\n",
    "matplotlib.rcParams.update(matplotlib.rcParamsDefault)\n",
    "matplotlib.rcParams['animation.embed_limit'] = 2**128\n",
    "pd.set_option('display.float_format', lambda x: '%.5f' % x)\n",
    "np.set_printoptions(suppress=True)\n",
    "os.environ[\"PYDEVD_DISABLE_FILE_VALIDATION\"] = \"1\"\n",
    "pd.set_option('display.max_rows', 50)\n",
    "pd.set_option('display.max_columns', 50)\n",
    "\n",
    "print(\"done\")\n",
    "\n",
    "\n",
    "%load_ext autoreload\n",
    "%autoreload 2"
   ]
  },
  {
   "cell_type": "markdown",
   "id": "2",
   "metadata": {},
   "source": [
    "# retrieve data"
   ]
  },
  {
   "cell_type": "code",
   "execution_count": null,
   "id": "3",
   "metadata": {},
   "outputs": [],
   "source": [
    "raw_data_folder_path = \"all_monkey_data/raw_monkey_data/monkey_Schro/data_0416\"\n",
    "# raw_data_folder_path = \"all_monkey_data/raw_monkey_data/monkey_Schro/data_0321\"\n",
    "# raw_data_folder_path = \"all_monkey_data/raw_monkey_data/monkey_Schro/data_0329\"\n",
    "# raw_data_folder_path = \"all_monkey_data/raw_monkey_data/monkey_Schro/data_0403\""
   ]
  },
  {
   "cell_type": "code",
   "execution_count": null,
   "id": "4",
   "metadata": {},
   "outputs": [],
   "source": [
    "# raw_data_folder_path = \"all_monkey_data/raw_monkey_data/monkey_Bruno/data_0312\"\n",
    "raw_data_folder_path = \"all_monkey_data/raw_monkey_data/monkey_Bruno/data_0330\"\n",
    "# raw_data_folder_path = \"all_monkey_data/raw_monkey_data/monkey_Bruno/data_0316\"\n",
    "# raw_data_folder_path = \"all_monkey_data/raw_monkey_data/monkey_Bruno/data_0327\"\n",
    "# raw_data_folder_path = \"all_monkey_data/raw_monkey_data/monkey_Bruno/data_0328\""
   ]
  },
  {
   "cell_type": "code",
   "execution_count": null,
   "id": "5",
   "metadata": {},
   "outputs": [],
   "source": [
    "reduce_y_var_lags = False\n",
    "planning_data_by_point_exists_ok = True\n",
    "y_data_exists_ok = True\n",
    "\n",
    "pn = pn_aligned_by_event.PlanningAndNeuralEventAligned(raw_data_folder_path=raw_data_folder_path)\n",
    "pn.prep_data_to_analyze_planning(planning_data_by_point_exists_ok=planning_data_by_point_exists_ok)\n",
    "# pn.planning_data_by_point, cols_to_drop = general_utils.drop_columns_with_many_nans(\n",
    "#     pn.planning_data_by_point)\n",
    "#pn.get_x_and_y_data_for_modeling(exists_ok=y_data_exists_ok, reduce_y_var_lags=reduce_y_var_lags)\n",
    "\n",
    "if not hasattr(pn, 'spikes_df'):\n",
    "    pn.retrieve_or_make_monkey_data()\n",
    "    pn.spikes_df = neural_data_processing.make_spikes_df(pn.raw_data_folder_path, pn.ff_caught_T_sorted,\n",
    "                                                            sampling_rate=pn.sampling_rate)"
   ]
  },
  {
   "cell_type": "markdown",
   "id": "6",
   "metadata": {},
   "source": [
    "# NEXT: try stop end time instead"
   ]
  },
  {
   "cell_type": "markdown",
   "id": "7",
   "metadata": {},
   "source": [
    "# Get captures"
   ]
  },
  {
   "cell_type": "code",
   "execution_count": null,
   "id": "8",
   "metadata": {},
   "outputs": [],
   "source": [
    "reload(get_stops_utils)"
   ]
  },
  {
   "cell_type": "code",
   "execution_count": null,
   "id": "9",
   "metadata": {},
   "outputs": [],
   "source": [
    "# Example wiring (mirrors your original usage)\n",
    "valid_captures_df, filtered_no_capture_stops_df, stops_with_stats = get_stops_utils.prepare_no_capture_and_captures(\n",
    "    monkey_information=pn.monkey_information,\n",
    "    closest_stop_to_capture_df=pn.closest_stop_to_capture_df,\n",
    "    ff_caught_T_new=pn.ff_caught_T_new,\n",
    "    min_stop_duration=0.02,\n",
    "    max_stop_duration=1.0,\n",
    "    capture_match_window=0.3,\n",
    "    distance_thresh=25.0,\n",
    "    distance_col=\"distance_from_ff_to_stop\",\n",
    ")\n"
   ]
  },
  {
   "cell_type": "code",
   "execution_count": null,
   "id": "10",
   "metadata": {},
   "outputs": [],
   "source": [
    "valid_captures_df"
   ]
  },
  {
   "cell_type": "code",
   "execution_count": null,
   "id": "11",
   "metadata": {},
   "outputs": [],
   "source": [
    "valid_captures_df"
   ]
  },
  {
   "cell_type": "code",
   "execution_count": null,
   "id": "12",
   "metadata": {},
   "outputs": [],
   "source": [
    "filtered_no_capture_stops_df"
   ]
  },
  {
   "cell_type": "markdown",
   "id": "13",
   "metadata": {},
   "source": [
    "# Get misses"
   ]
  },
  {
   "cell_type": "markdown",
   "id": "14",
   "metadata": {},
   "source": [
    "##  one"
   ]
  },
  {
   "cell_type": "code",
   "execution_count": null,
   "id": "15",
   "metadata": {},
   "outputs": [],
   "source": [
    "columns_to_add = [\"stop_id\", \"stop_id_duration\", \"stop_id_start_time\", \"stop_id_end_time\"]\n",
    "\n",
    "pn.make_one_stop_w_ff_df()\n",
    "one_stop_miss_df = pn.one_stop_w_ff_df[['first_stop_point_index', 'first_stop_time', 'latest_visible_ff', 'ff_distance', 'min_distance_from_adjacent_stops']].copy()\n",
    "one_stop_miss_df.rename(columns={'first_stop_point_index': 'stop_point_index', 'first_stop_time': 'stop_time'}, inplace=True)\n",
    "one_stop_miss_df[columns_to_add] = pn.monkey_information.loc[one_stop_miss_df['stop_point_index'], columns_to_add].values"
   ]
  },
  {
   "cell_type": "markdown",
   "id": "16",
   "metadata": {},
   "source": [
    "## more"
   ]
  },
  {
   "cell_type": "code",
   "execution_count": null,
   "id": "17",
   "metadata": {},
   "outputs": [],
   "source": [
    "pn.get_try_a_few_times_info()\n",
    "pn.get_give_up_after_trying_info()\n"
   ]
  },
  {
   "cell_type": "code",
   "execution_count": null,
   "id": "18",
   "metadata": {},
   "outputs": [],
   "source": [
    "unique_stops_df"
   ]
  },
  {
   "cell_type": "code",
   "execution_count": null,
   "id": "19",
   "metadata": {},
   "outputs": [],
   "source": [
    "columns_to_add = [\"stop_id\", \"stop_id_duration\", \"stop_id_start_time\", \"stop_id_end_time\"]\n",
    "shared_columns = [\"stop_point_index\", \"stop_time\"] + columns_to_add\n",
    "\n",
    "# --- Build expanded + ordered tables for GUAT / TAFT ---\n",
    "GUAT_expanded = get_stops_utils._expand_trials(pn.GUAT_trials_df, pn.monkey_information)\n",
    "TAFT_expanded = get_stops_utils._expand_trials(pn.TAFT_trials_df, pn.monkey_information)\n",
    "\n",
    "# add stop_id to GUAT_trials_df and TAFT_trials_df\n",
    "GUAT_expanded[columns_to_add] = pn.monkey_information.loc[GUAT_expanded['stop_point_index'], columns_to_add].values\n",
    "TAFT_expanded[columns_to_add] = pn.monkey_information.loc[TAFT_expanded['stop_point_index'], columns_to_add].values\n",
    "\n",
    "\n",
    "GUAT = get_stops_utils._add_cluster_ordering(GUAT_expanded)\n",
    "TAFT = get_stops_utils._add_cluster_ordering(TAFT_expanded)\n",
    "\n",
    "# --- Per-cluster slices (consistent, vectorized) ---\n",
    "# First stop in each cluster\n",
    "GUAT_first = GUAT[GUAT[\"is_first\"]].reset_index(drop=True)\n",
    "TAFT_first = TAFT[TAFT[\"is_first\"]].reset_index(drop=True)\n",
    "\n",
    "# Last stop in each cluster\n",
    "GUAT_last = GUAT[GUAT[\"is_last\"]].reset_index(drop=True)\n",
    "TAFT_last = TAFT[TAFT[\"is_last\"]].reset_index(drop=True)\n",
    "\n",
    "# Middle stops (exclude first and last)\n",
    "GUAT_middle = GUAT[GUAT[\"is_middle\"]].reset_index(drop=True)\n",
    "TAFT_middle = TAFT[TAFT[\"is_middle\"]].reset_index(drop=True)\n",
    "\n",
    "# “First several” = all but the last stop in each cluster\n",
    "GUAT_nonfinal = GUAT[GUAT[\"order_in_cluster\"] < GUAT[\"cluster_size\"] - 1].reset_index(drop=True)\n",
    "TAFT_nonfinal = TAFT[TAFT[\"order_in_cluster\"] < TAFT[\"cluster_size\"] - 1].reset_index(drop=True)\n",
    "\n",
    "# Combine the “first several” from both, keep only columns you care about, then sort by index\n",
    "both_nonfinal = (\n",
    "    pd.concat(\n",
    "        [\n",
    "            GUAT_nonfinal[shared_columns],\n",
    "            TAFT_nonfinal[shared_columns],\n",
    "        ],\n",
    "        ignore_index=True\n",
    "    )\n",
    "    .sort_values(\"stop_point_index\")\n",
    "    .reset_index(drop=True)\n",
    ")\n",
    "\n",
    "both_first = pd.concat([GUAT_first[shared_columns], \n",
    "                         TAFT_first[shared_columns]])\n",
    "\n",
    "both_middle = pd.concat([GUAT_middle[shared_columns], \n",
    "                         TAFT_middle[shared_columns]])\n",
    "\n",
    "# Optional: if you also want “last several” (all but the first), it’s symmetrical:\n",
    "# GUAT_last_several = GUAT[GUAT[\"order_in_cluster\"] > 0].reset_index(drop=True)\n",
    "# TAFT_last_several = TAFT[TAFT[\"order_in_cluster\"] > 0].reset_index(drop=True)\n",
    "\n",
    "GUAT_last_plus_single_miss = pd.concat([GUAT_last[shared_columns], \n",
    "                                         one_stop_miss_df[shared_columns]])\n",
    "\n",
    "all_misses = pd.concat([one_stop_miss_df[shared_columns], \n",
    "                                         GUAT_expanded[shared_columns],\n",
    "                                         TAFT_nonfinal[shared_columns]\n",
    "                                         ])"
   ]
  },
  {
   "cell_type": "markdown",
   "id": "20",
   "metadata": {},
   "source": [
    "# add stop_end_time"
   ]
  },
  {
   "cell_type": "code",
   "execution_count": null,
   "id": "21",
   "metadata": {},
   "outputs": [],
   "source": [
    "all_misses"
   ]
  },
  {
   "cell_type": "markdown",
   "id": "22",
   "metadata": {},
   "source": [
    "# SELECT"
   ]
  },
  {
   "cell_type": "code",
   "execution_count": null,
   "id": "23",
   "metadata": {},
   "outputs": [],
   "source": [
    "# capture vs no capture\n",
    "captures_df=valid_captures_df\n",
    "no_capture_stops_df=filtered_no_capture_stops_df\n",
    "\n",
    "captures_df_name = 'valid_captures_df'\n",
    "no_capture_stops_df_name = 'filtered_no_capture_stops_df'\n",
    "\n"
   ]
  },
  {
   "cell_type": "code",
   "execution_count": null,
   "id": "24",
   "metadata": {},
   "outputs": [],
   "source": [
    "# persist vs give up\n",
    "captures_df=both_nonfinal\n",
    "no_capture_stops_df=GUAT_last\n",
    "\n",
    "captures_df_name = 'both_nonfinal'\n",
    "no_capture_stops_df_name = 'GUAT_last'"
   ]
  },
  {
   "cell_type": "code",
   "execution_count": null,
   "id": "25",
   "metadata": {},
   "outputs": [],
   "source": [
    "# persist (shrunken) vs give up\n",
    "captures_df=both_middle\n",
    "no_capture_stops_df=GUAT_last\n",
    "\n",
    "captures_df_name = 'both_middle'\n",
    "no_capture_stops_df_name = 'GUAT_last'"
   ]
  },
  {
   "cell_type": "code",
   "execution_count": null,
   "id": "26",
   "metadata": {},
   "outputs": [],
   "source": [
    "# persist vs give up (expanded)\n",
    "captures_df=both_nonfinal\n",
    "no_capture_stops_df=GUAT_last_plus_single_miss\n",
    "\n",
    "captures_df_name = 'both_nonfinal'\n",
    "no_capture_stops_df_name = 'GUAT_last_plus_single_miss'\n"
   ]
  },
  {
   "cell_type": "code",
   "execution_count": null,
   "id": "27",
   "metadata": {},
   "outputs": [],
   "source": [
    "# persist (shrunken) vs give up (expanded)\n",
    "captures_df=both_nonfinal\n",
    "no_capture_stops_df=GUAT_last_plus_single_miss\n",
    "\n",
    "captures_df_name = 'both_nonfinal'\n",
    "no_capture_stops_df_name = 'GUAT_last_plus_single_miss'\n"
   ]
  },
  {
   "cell_type": "code",
   "execution_count": null,
   "id": "28",
   "metadata": {},
   "outputs": [],
   "source": [
    "# give up in single miss and give up in GUAT\n",
    "captures_df=one_stop_miss_df\n",
    "no_capture_stops_df=GUAT_last\n",
    "\n",
    "captures_df_name = 'one_stop_miss_df'\n",
    "no_capture_stops_df_name = 'GUAT_last'\n"
   ]
  },
  {
   "cell_type": "code",
   "execution_count": null,
   "id": "29",
   "metadata": {},
   "outputs": [],
   "source": [
    "# give up in single miss and not give up in both_first\n",
    "captures_df=one_stop_miss_df\n",
    "no_capture_stops_df=both_first\n",
    "\n",
    "captures_df_name = 'one_stop_miss_df'\n",
    "no_capture_stops_df_name = 'both_first'\n"
   ]
  },
  {
   "cell_type": "code",
   "execution_count": null,
   "id": "30",
   "metadata": {},
   "outputs": [],
   "source": [
    "# GUAT first several vs TAFT first several\n",
    "captures_df=GUAT_nonfinal\n",
    "no_capture_stops_df=TAFT_nonfinal\n",
    "\n",
    "captures_df_name = 'GUAT_nonfinal'\n",
    "no_capture_stops_df_name = 'TAFT_nonfinal'\n"
   ]
  },
  {
   "cell_type": "code",
   "execution_count": null,
   "id": "31",
   "metadata": {},
   "outputs": [],
   "source": [
    "# GUAT last vs TAFT last\n",
    "captures_df=GUAT_last\n",
    "no_capture_stops_df=TAFT_last\n",
    "\n",
    "captures_df_name = 'GUAT_last'\n",
    "no_capture_stops_df_name = 'TAFT_last'\n"
   ]
  },
  {
   "cell_type": "code",
   "execution_count": null,
   "id": "32",
   "metadata": {},
   "outputs": [],
   "source": [
    "# capture (not in TAFT) vs TAFT last\n",
    "valid_captures_df_subset = valid_captures_df[~valid_captures_df['stop_id'].isin(TAFT_last['stop_id'])].copy()\n",
    "\n",
    "captures_df=valid_captures_df_subset\n",
    "no_capture_stops_df=TAFT_last\n",
    "\n",
    "captures_df_name = 'valid_captures_df_subset'\n",
    "no_capture_stops_df_name = 'TAFT_last'"
   ]
  },
  {
   "cell_type": "code",
   "execution_count": null,
   "id": "33",
   "metadata": {},
   "outputs": [],
   "source": [
    "# all captures vs all misses\n",
    "captures_df=valid_captures_df\n",
    "no_capture_stops_df=all_misses\n",
    "\n",
    "captures_df_name = 'valid_captures_df'\n",
    "no_capture_stops_df_name = 'all_misses'\n"
   ]
  },
  {
   "cell_type": "code",
   "execution_count": null,
   "id": "34",
   "metadata": {},
   "outputs": [],
   "source": [
    "# all misses vs non-capture stops\n",
    "non_capture_sub = filtered_no_capture_stops_df[~filtered_no_capture_stops_df['stop_id'].isin(all_misses['stop_id'])].copy()\n",
    "\n",
    "captures_df=non_capture_sub\n",
    "no_capture_stops_df=all_misses\n",
    "\n",
    "captures_df_name = 'non_capture_sub'\n",
    "no_capture_stops_df_name = 'all_misses'\n",
    "\n"
   ]
  },
  {
   "cell_type": "code",
   "execution_count": null,
   "id": "35",
   "metadata": {},
   "outputs": [],
   "source": [
    "# all first misses vs non-capture stops\n",
    "non_capture_sub = filtered_no_capture_stops_df[~filtered_no_capture_stops_df['stop_id'].isin(all_misses['stop_id'])].copy()\n",
    "\n",
    "all_first_misses = pd.concat([one_stop_miss_df[shared_columns], \n",
    "                                         GUAT_first[shared_columns],\n",
    "                                         TAFT_first[shared_columns]\n",
    "                                         ])\n",
    "\n",
    "\n",
    "captures_df=non_capture_sub\n",
    "no_capture_stops_df=all_first_misses\n",
    "\n",
    "captures_df_name = 'non_capture_sub'\n",
    "no_capture_stops_df_name = 'all_first_misses'\n",
    "\n"
   ]
  },
  {
   "cell_type": "markdown",
   "id": "36",
   "metadata": {},
   "source": [
    "# run class"
   ]
  },
  {
   "cell_type": "code",
   "execution_count": null,
   "id": "37",
   "metadata": {},
   "outputs": [],
   "source": [
    "print(f'{captures_df_name} vs {no_capture_stops_df_name}')\n",
    "print('=====================================================')\n",
    "\n",
    "\n",
    "captures_df['stop_time'] = captures_df['stop_id_end_time']\n",
    "no_capture_stops_df['stop_time'] = no_capture_stops_df['stop_id_end_time']\n",
    "\n",
    "\n",
    "cfg = core_stops_psth.PSTHConfig(\n",
    "    pre_window=0.5,\n",
    "    post_window=0.5,\n",
    "    bin_width=0.05,\n",
    "    smoothing_sigma=0.1,\n",
    "    min_trials=5,\n",
    "    normalize=\"zscore\",            # try: None, \"sub\", or \"div\"\n",
    ")\n",
    "\n",
    "an = core_stops_psth.create_psth_around_stops(pn.spikes_df, pn.monkey_information, pn.ff_caught_T_new, cfg,\n",
    "                                                 captures_df=captures_df,\n",
    "                                                 no_capture_stops_df=no_capture_stops_df\n",
    "                                                 )\n",
    "\n",
    "fig2 = an.plot_comparison(cluster_idx=0)\n",
    "\n",
    "plt.show()\n",
    "\n",
    "# Stats in early post-stop window\n",
    "stats_ = an.statistical_comparison(time_window=(0.0, 0.5))\n",
    "\n",
    "\n",
    "\n",
    "\n",
    "windows = {\n",
    "    \"pre_bump(-0.3–0.0)\": (-0.3, 0.0),\n",
    "    \"early_dip(0.0–0.3)\": (0.0, 0.3),\n",
    "    \"late_rebound(0.3–0.8)\": (0.3, 0.8),\n",
    "}\n",
    "    \n",
    "summary = psth_postprocessing.compare_windows(an, windows, alpha=0.05)\n",
    "summary_sub = summary[summary['sig_FDR']].copy()\n",
    "df = summary_sub.sort_values([\"sig_FDR\", \"window\", \"p\"], ascending=[False, True, True])\n",
    "df\n"
   ]
  },
  {
   "cell_type": "code",
   "execution_count": null,
   "id": "38",
   "metadata": {},
   "outputs": [],
   "source": [
    "\n",
    "\n",
    "windows = {\n",
    "    \"pre_baseline(-0.5–-0.2)\": (-0.5, -0.2),\n",
    "    \"pre_bump(-0.2–-0.1)\": (-0.2, -0.1),\n",
    "    \"pre_bump2(-0.1–0.0)\": (-0.1, 0.0),\n",
    "    # \"pre_bump3(-0.2--0.0)\": (-0.2, -0.0),\n",
    "    \"early_dip(0.0–0.1)\": (0.0, 0.1),\n",
    "    \"early_rebound(0.1–0.2)\": (0.1, 0.2),\n",
    "    \"early_rebound2(0.2–0.3)\": (0.2, 0.3),\n",
    "    \"early_rebound3(0.3–0.4)\": (0.3, 0.4),\n",
    "    \"early_rebound4(0.4–0.5)\": (0.4, 0.5),\n",
    "    \"late_rebound(0.5–0.8)\": (0.5, 0.8),\n",
    "    \"post_tail(0.8–1.2)\": (0.8, 1.2),\n",
    "}\n",
    "\n",
    "summary = psth_postprocessing.compare_windows(an, windows, alpha=0.05)\n",
    "summary_sub = summary[summary['sig_FDR']].copy()\n",
    "df = summary_sub.sort_values([\"sig_FDR\", \"window\", \"p\"], ascending=[False, True, True])\n",
    "df"
   ]
  },
  {
   "cell_type": "code",
   "execution_count": null,
   "id": "39",
   "metadata": {},
   "outputs": [],
   "source": [
    "summary.sort_values([\"sig_FDR\", \"p\"], ascending=[False, True]).head(20)"
   ]
  },
  {
   "cell_type": "markdown",
   "id": "40",
   "metadata": {},
   "source": [
    "# More plots"
   ]
  },
  {
   "cell_type": "markdown",
   "id": "41",
   "metadata": {},
   "source": [
    "## Quickly plot PSTHs for the top significant neurons"
   ]
  },
  {
   "cell_type": "code",
   "execution_count": null,
   "id": "42",
   "metadata": {},
   "outputs": [],
   "source": [
    "import numpy as np\n",
    "\n",
    "def plot_top_psths(analyzer, summary: pd.DataFrame, epoch: str, top_k=6):\n",
    "    # pick significant clusters in the epoch, ranked by |d|\n",
    "    g = summary[(summary[\"window\"] == epoch) & (summary[\"sig_FDR\"])].copy()\n",
    "    if g.empty:\n",
    "        print(f\"No significant clusters for {epoch}.\"); return\n",
    "    g = g.sort_values(\"cohens_d\", key=lambda s: s.abs(), ascending=False).head(top_k)\n",
    "\n",
    "    # map string cluster ids back to analyzer cluster indices\n",
    "    plotted = 0\n",
    "    for cl_str in g[\"cluster\"]:\n",
    "        # analyzer.clusters holds original IDs (numeric or str)\n",
    "        # coerce both sides to string for robust matching\n",
    "        matches = np.where(np.array(list(map(str, analyzer.clusters))) == str(cl_str))[0]\n",
    "        if len(matches) == 0: \n",
    "            continue\n",
    "        ci = int(matches[0])\n",
    "        analyzer.plot_comparison(cluster_idx=ci)  # your existing method\n",
    "        plotted += 1\n",
    "    if plotted == 0:\n",
    "        print(\"Nothing plotted (no matches).\")\n",
    "\n",
    "# usage\n",
    "plot_top_psths(an, summary, \"early_dip(0.0–0.3)\", top_k=7)\n"
   ]
  },
  {
   "cell_type": "markdown",
   "id": "43",
   "metadata": {},
   "source": [
    "## Heatmap of effect sizes"
   ]
  },
  {
   "cell_type": "code",
   "execution_count": null,
   "id": "44",
   "metadata": {},
   "outputs": [],
   "source": [
    "import numpy as np\n",
    "import pandas as pd\n",
    "import matplotlib.pyplot as plt\n",
    "\n",
    "def plot_sig_heatmap(summary: pd.DataFrame, title=\"Significant effects (Cohen's d)\"):\n",
    "    # keep only FDR-significant rows\n",
    "    sig = summary[summary[\"sig_FDR\"]].copy()\n",
    "    if sig.empty:\n",
    "        print(\"No significant results to plot.\")\n",
    "        return\n",
    "\n",
    "    # pivot to clusters × windows, values = d\n",
    "    pivot = sig.pivot_table(index=\"cluster\", columns=\"window\", values=\"cohens_d\", aggfunc=\"mean\")\n",
    "\n",
    "    # optional: sort clusters by strongest absolute effect\n",
    "    order = np.argsort(-pivot.abs().max(axis=1).values)\n",
    "    pivot = pivot.iloc[order]\n",
    "\n",
    "    # plot\n",
    "    fig, ax = plt.subplots(figsize=(8, max(3, 0.35 * len(pivot))))\n",
    "    im = ax.imshow(pivot.values, aspect=\"auto\", cmap=\"coolwarm\", vmin=-np.nanmax(abs(pivot.values)), vmax=np.nanmax(abs(pivot.values)))\n",
    "    ax.set_xticks(range(pivot.shape[1])); ax.set_xticklabels(pivot.columns, rotation=30, ha=\"right\")\n",
    "    ax.set_yticks(range(pivot.shape[0])); ax.set_yticklabels(pivot.index)\n",
    "    ax.set_title(title)\n",
    "    cbar = plt.colorbar(im, ax=ax); cbar.set_label(\"Cohen's d (capture − miss)\")\n",
    "    plt.tight_layout()\n",
    "    plt.show()\n",
    "\n",
    "# usage\n",
    "plot_sig_heatmap(summary)\n"
   ]
  },
  {
   "cell_type": "markdown",
   "id": "45",
   "metadata": {},
   "source": [
    "## Bar chart"
   ]
  },
  {
   "cell_type": "code",
   "execution_count": null,
   "id": "46",
   "metadata": {},
   "outputs": [],
   "source": [
    "# keep only rows where sig_FDR is True\n",
    "sig_rows = summary[summary[\"sig_FDR\"]]\n",
    "\n",
    "# plot effect sizes by epoch\n",
    "import seaborn as sns\n",
    "import matplotlib.pyplot as plt\n",
    "\n",
    "plt.figure(figsize=(15,5))\n",
    "sns.barplot(data=sig_rows, x=\"window\", y=\"cohens_d\", hue=\"cluster\", dodge=True)\n",
    "plt.axhline(0, color=\"k\", lw=1)\n",
    "plt.ylabel(\"Cohen's d (capture − miss)\")\n",
    "# change angle of xticks\n",
    "plt.xticks(rotation=30)\n",
    "plt.title(\"Significant neurons across epochs\")\n",
    "plt.legend(bbox_to_anchor=(1.05, 1), loc=\"upper left\")\n",
    "plt.tight_layout()\n",
    "plt.show()\n"
   ]
  },
  {
   "cell_type": "markdown",
   "id": "47",
   "metadata": {},
   "source": [
    "## Bar chart of significant effects per epoch (one bar per cluster)"
   ]
  },
  {
   "cell_type": "code",
   "execution_count": null,
   "id": "48",
   "metadata": {},
   "outputs": [],
   "source": [
    "def plot_sig_bars(summary: pd.DataFrame, epoch: str):\n",
    "    g = summary[(summary[\"window\"] == epoch) & (summary[\"sig_FDR\"])].copy()\n",
    "    if g.empty:\n",
    "        print(f\"No significant clusters for {epoch}.\"); return\n",
    "    g = g.sort_values(\"cohens_d\", key=lambda s: s.abs(), ascending=False)\n",
    "\n",
    "    fig, ax = plt.subplots(figsize=(10, max(3, 0.35 * len(g))))\n",
    "    ax.barh(g[\"cluster\"], g[\"cohens_d\"])\n",
    "    ax.axvline(0, color=\"k\", lw=1, alpha=0.5)\n",
    "    ax.set_xlabel(\"Cohen's d (capture − miss)\")\n",
    "    ax.set_ylabel(\"Cluster\")\n",
    "    ax.set_title(f\"Significant clusters in {epoch}\")\n",
    "    plt.tight_layout(); plt.show()\n",
    "\n",
    "# usage\n",
    "plot_sig_bars(summary, \"pre_bump(-0.3–0.0)\")\n",
    "plot_sig_bars(summary, \"early_dip(0.0–0.3)\")\n",
    "plot_sig_bars(summary, \"late_rebound(0.3–0.8)\")\n"
   ]
  },
  {
   "cell_type": "markdown",
   "id": "49",
   "metadata": {},
   "source": [
    "# Appendix"
   ]
  },
  {
   "cell_type": "markdown",
   "id": "50",
   "metadata": {},
   "source": [
    "## Other anchors for stops\n",
    "https://docs.google.com/document/d/1nJOQlqsyq7eOVtUlL8TAAacC25vXeQvlGfDI-SbQrKE/edit?tab=t.0"
   ]
  },
  {
   "cell_type": "code",
   "execution_count": null,
   "id": "51",
   "metadata": {},
   "outputs": [],
   "source": [
    "import numpy as np\n",
    "import pandas as pd\n",
    "\n",
    "def _finite_diff(y, t):\n",
    "    dy = np.gradient(y, t)  # robust to uneven dt\n",
    "    return dy\n",
    "\n",
    "def anchor_peak_decel(df, pre_window_s=0.5):\n",
    "    # peak negative acceleration in a window ending at stop onset\n",
    "    # requires per-stop onset; derive from first time of each stop_id\n",
    "    onset = df.groupby(\"stop_id\")[\"time\"].min()\n",
    "    t = df[\"time\"].to_numpy()\n",
    "    a = _finite_diff(df[\"monkey_speed\"].to_numpy(), t)  # acceleration\n",
    "    df2 = df.assign(accel=a)\n",
    "    rows = []\n",
    "    for sid, t0 in onset.items():\n",
    "        m = (df2[\"stop_id\"]==sid) & (df2[\"time\"].between(t0-pre_window_s, t0, inclusive=\"left\"))\n",
    "        if not m.any(): \n",
    "            continue\n",
    "        i = df2.loc[m, \"accel\"].idxmin()\n",
    "        rows.append((sid, df2.at[i, \"time\"]))\n",
    "    out = pd.DataFrame(rows, columns=[\"stop_id\",\"anchor_time\"])\n",
    "    out[\"anchor_kind\"] = \"peak_decel\"\n",
    "    return out\n",
    "\n",
    "\n",
    "\n"
   ]
  },
  {
   "cell_type": "markdown",
   "id": "52",
   "metadata": {},
   "source": [
    "## other processing/windows"
   ]
  },
  {
   "cell_type": "code",
   "execution_count": null,
   "id": "53",
   "metadata": {},
   "outputs": [],
   "source": [
    "\n",
    "# # Per-cluster plots with bands\n",
    "# fig1 = an.plot_psth(cluster_idx=None, show_individual=False)\n",
    "\n",
    "\n",
    "# df = psth_postprocessing.export_psth_to_df(an)              # all clusters\n",
    "# df_c0 = psth_postprocessing.export_psth_to_df(an, [0])      # just the first cluster\n",
    "\n",
    "\n",
    "# windows = {\n",
    "#     \"pre_bump(-0.3–0.0)\": (-0.3, 0.0),\n",
    "#     \"early_dip(0.0–0.3)\": (0.0, 0.3),\n",
    "#     \"late_rebound(0.3–0.8)\": (0.3, 0.8),\n",
    "# }\n",
    "\n",
    "\n",
    "# windows = {\n",
    "#     \"pre_baseline(-0.6–-0.3)\": (-0.6, -0.3),\n",
    "#     \"pre_bump(-0.3–0.0)\": (-0.3, 0.0),\n",
    "#     \"early_dip(0.0–0.1)\": (0.0, 0.1),\n",
    "#     \"early_rebound(0.1–0.3)\": (0.1, 0.3),\n",
    "#     \"late_rebound(0.3–0.8)\": (0.3, 0.8),\n",
    "#     \"post_tail(0.8–1.5)\": (0.8, 1.5),\n",
    "# }"
   ]
  },
  {
   "cell_type": "markdown",
   "id": "54",
   "metadata": {},
   "source": [
    "## Validate near-miss single stops"
   ]
  },
  {
   "cell_type": "code",
   "execution_count": null,
   "id": "55",
   "metadata": {},
   "outputs": [],
   "source": [
    "# Check whether \"near-miss\" stops (one_stop_w_ff_df) are truly not part of a stop cluster.  \n",
    "# A stop cluster is defined as ≥ 2 stops where each consecutive stop is within 50 cm (cumulative distance).\n",
    "\n",
    "# --- Step 1: Create one-stop dataframe and assign cluster IDs\n",
    "pn.make_one_stop_w_ff_df()\n",
    "pn.monkey_information = find_GUAT_or_TAFT_trials.add_stop_cluster_id(pn.monkey_information)\n",
    "\n",
    "# --- Step 2: Build stop-cluster summary\n",
    "stop_cluster_df = (\n",
    "    pn.monkey_information.loc[pn.monkey_information['whether_new_distinct_stop'], ['point_index', 'stop_cluster_id']]\n",
    "    .copy()\n",
    ")\n",
    "stop_cluster_df['num_stops_in_cluster'] = (\n",
    "    stop_cluster_df.groupby('stop_cluster_id')['point_index'].transform('count')\n",
    ")\n",
    "\n",
    "# --- Step 3: Merge cluster info into one-stop dataframe (if not already present)\n",
    "if 'stop_cluster_id' not in pn.one_stop_w_ff_df.columns:\n",
    "    pn.one_stop_w_ff_df = pn.one_stop_w_ff_df.merge(\n",
    "        stop_cluster_df.rename(columns={'point_index': 'first_stop_point_index'}),\n",
    "        on='first_stop_point_index',\n",
    "        how='left'\n",
    "    )\n",
    "\n",
    "# --- Step 4: Inspect any one-stop rows that actually fall in a multi-stop cluster\n",
    "pn.one_stop_w_ff_df[pn.one_stop_w_ff_df['num_stops_in_cluster'] > 1]\n"
   ]
  },
  {
   "cell_type": "markdown",
   "id": "56",
   "metadata": {},
   "source": [
    "## Check dt between stops in clusters"
   ]
  },
  {
   "cell_type": "code",
   "execution_count": null,
   "id": "57",
   "metadata": {},
   "outputs": [],
   "source": [
    "import pandas as pd\n",
    "\n",
    "\n",
    "# Expand so each stop_index gets its own row\n",
    "GUAT_expanded = pn.GUAT_trials_df.explode(\"stop_indices\").reset_index(drop=True)\n",
    "\n",
    "# Optionally rename column\n",
    "GUAT_expanded = GUAT_expanded.rename(columns={\"stop_indices\": \"stop_point_index\"})\n",
    "GUAT_expanded['stop_time'] = pn.monkey_information['time'].loc[GUAT_expanded['stop_point_index']].values\n",
    "\n",
    "TAFT_expanded = pn.TAFT_trials_df.explode(\"stop_indices\").reset_index(drop=True)\n",
    "\n",
    "# Optionally rename column\n",
    "TAFT_expanded = TAFT_expanded.rename(columns={\"stop_indices\": \"stop_point_index\"})\n",
    "TAFT_expanded['stop_time'] = pn.monkey_information['time'].loc[TAFT_expanded['stop_point_index']].values\n",
    "\n",
    "\n",
    "# group TAFT_expanded by stop_cluster_id and drop the last row of each group\n",
    "TAFT_expanded.sort_values('stop_point_index', inplace=True)\n",
    "TAFT_nonfinal = TAFT_expanded.groupby('stop_cluster_id').apply(lambda x: x.iloc[:-1]).reset_index(drop=True)\n"
   ]
  },
  {
   "cell_type": "code",
   "execution_count": null,
   "id": "58",
   "metadata": {},
   "outputs": [],
   "source": [
    "GUAT_expanded['dt'] = GUAT_expanded['stop_time'].diff()\n",
    "TAFT_expanded['dt'] = TAFT_expanded['stop_time'].diff()\n",
    "GUAT_sub = GUAT_expanded[GUAT_expanded['dt'] < 0.5]\n",
    "TAFT_sub = TAFT_expanded[TAFT_expanded['dt'] < 0.5]\n",
    "GUAT_sub\n"
   ]
  },
  {
   "cell_type": "code",
   "execution_count": null,
   "id": "59",
   "metadata": {},
   "outputs": [],
   "source": [
    "sns.histplot(GUAT_sub[['dt']])\n",
    "plt.show()"
   ]
  },
  {
   "cell_type": "code",
   "execution_count": null,
   "id": "60",
   "metadata": {},
   "outputs": [],
   "source": [
    "sns.histplot(TAFT_sub[['dt']])\n",
    "plt.show()"
   ]
  },
  {
   "cell_type": "code",
   "execution_count": null,
   "id": "61",
   "metadata": {},
   "outputs": [],
   "source": [
    "GUAT_sub[['dt']].describe()"
   ]
  },
  {
   "cell_type": "code",
   "execution_count": null,
   "id": "62",
   "metadata": {},
   "outputs": [],
   "source": [
    "TAFT_sub[['dt']].describe()"
   ]
  },
  {
   "cell_type": "markdown",
   "id": "63",
   "metadata": {},
   "source": [
    "## check inter-stop intervals"
   ]
  },
  {
   "cell_type": "code",
   "execution_count": null,
   "id": "64",
   "metadata": {},
   "outputs": [],
   "source": [
    "reload(process_monkey_information)"
   ]
  },
  {
   "cell_type": "code",
   "execution_count": null,
   "id": "65",
   "metadata": {},
   "outputs": [],
   "source": [
    "pn.monkey_information = process_monkey_information.add_whether_new_distinct_stop_and_stop_id(pn.monkey_information)"
   ]
  },
  {
   "cell_type": "code",
   "execution_count": null,
   "id": "66",
   "metadata": {},
   "outputs": [],
   "source": [
    "pn.monkey_information"
   ]
  },
  {
   "cell_type": "code",
   "execution_count": null,
   "id": "67",
   "metadata": {},
   "outputs": [],
   "source": [
    "\n",
    "unique_stops_df = (\n",
    "    pn.monkey_information[['stop_id', 'point_index', 'time', 'stop_id_start_time', 'stop_id_end_time', 'stop_id_duration']].groupby(\"stop_id\", as_index=False, sort=False)\n",
    "    .first()\n",
    "    .reset_index(drop=True)\n",
    ")\n",
    "unique_stops_df"
   ]
  },
  {
   "cell_type": "code",
   "execution_count": null,
   "id": "68",
   "metadata": {},
   "outputs": [],
   "source": [
    "unique_stops_df = get_stops_utils.extract_unique_stops(pn.monkey_information)\n",
    "unique_stops_df"
   ]
  },
  {
   "cell_type": "code",
   "execution_count": null,
   "id": "69",
   "metadata": {},
   "outputs": [],
   "source": [
    "unique_stops_df = get_stops_utils.extract_unique_stops(pn.monkey_information)\n",
    "onsets = unique_stops_df['time'].to_numpy()"
   ]
  },
  {
   "cell_type": "code",
   "execution_count": null,
   "id": "70",
   "metadata": {},
   "outputs": [],
   "source": [
    "returned = get_stops_utils.plot_inter_stop_intervals(onsets)\n",
    "ax1 = returned['ax1']\n",
    "\n",
    "# add an additional vertical line to the linear plot\n",
    "additional_vline = 0.3\n",
    "ax1.axvline(additional_vline, linestyle=\"--\", color=\"b\", alpha=0.8, label=f\"x = {additional_vline}s\")\n",
    "ax1.legend()\n",
    "plt.show()"
   ]
  },
  {
   "cell_type": "markdown",
   "id": "71",
   "metadata": {},
   "source": [
    "## check stop durations"
   ]
  },
  {
   "cell_type": "code",
   "execution_count": null,
   "id": "72",
   "metadata": {},
   "outputs": [],
   "source": [
    "plt.figure()\n",
    "ax = sns.histplot(unique_stops_df['stop_id_duration'], bins=100)\n",
    "ax.set_xlim(0, 1)\n",
    "plt.show()"
   ]
  },
  {
   "cell_type": "markdown",
   "id": "73",
   "metadata": {},
   "source": [
    "## add stop_id"
   ]
  },
  {
   "cell_type": "code",
   "execution_count": null,
   "id": "74",
   "metadata": {},
   "outputs": [],
   "source": [
    "pn.monkey_information = process_monkey_information.add_whether_new_distinct_stop_and_stop_id(pn.monkey_information)\n",
    "pn.monkey_information"
   ]
  },
  {
   "cell_type": "markdown",
   "id": "75",
   "metadata": {},
   "source": [
    "## stop clusters"
   ]
  },
  {
   "cell_type": "code",
   "execution_count": null,
   "id": "76",
   "metadata": {},
   "outputs": [],
   "source": [
    "pn.monkey_information = find_GUAT_or_TAFT_trials.add_stop_cluster_id(pn.monkey_information, max_cluster_distance=50, use_ff_caught_time_new_to_separate_clusters=False,\n",
    "                                                                        col_exists_ok=False)"
   ]
  },
  {
   "cell_type": "code",
   "execution_count": null,
   "id": "77",
   "metadata": {},
   "outputs": [],
   "source": [
    "for max_cluster_distance in [50, 45, 40, 35, 30, 20, 50]:\n",
    "    print(f'max_cluster_distance: {max_cluster_distance}')\n",
    "    pn.monkey_information = find_GUAT_or_TAFT_trials.add_stop_cluster_id(pn.monkey_information, max_cluster_distance=max_cluster_distance, use_ff_caught_time_new_to_separate_clusters=False,\n",
    "                                                                        col_exists_ok=False)\n",
    "\n",
    "    stop_sub = pn.monkey_information[pn.monkey_information['stop_id'].notna()].copy()\n",
    "    stop_sub = stop_sub[['stop_id', 'stop_cluster_id']].drop_duplicates()\n",
    "    # Compute cluster sizes properly\n",
    "    stop_sub['cluster_size'] = stop_sub.groupby('stop_cluster_id')['stop_id'].transform('size')\n",
    "\n",
    "    # Show how many rows belong to clusters of size > 1\n",
    "    print('number of clusters: ', stop_sub['stop_cluster_id'].unique().shape[0])\n",
    "    print('number of stops: ', stop_sub['stop_id'].unique().shape[0])\n",
    "    print('number of clusters with more than 1 stop: ', stop_sub[stop_sub['cluster_size'] > 1].shape[0])\n",
    "    print('--------------------------------')\n"
   ]
  },
  {
   "cell_type": "code",
   "execution_count": null,
   "id": "78",
   "metadata": {},
   "outputs": [],
   "source": [
    "num_stops = pn.monkey_information['stop_id'].unique().shape[0]\n",
    "num_clusters = pn.monkey_information['stop_cluster_id'].unique().shape[0]\n",
    "num_clusters"
   ]
  },
  {
   "cell_type": "markdown",
   "id": "79",
   "metadata": {},
   "source": [
    "## censor_mask_for_event"
   ]
  },
  {
   "cell_type": "markdown",
   "id": "80",
   "metadata": {},
   "source": [
    "censor_mdef censor_mask_for_event(t0, all_stops, time_axis, pad=0.15):\n",
    "    abs_times = t0 + time_axis\n",
    "    dmin = np.min(np.abs(abs_times[:,None] - all_stops[None,:]), axis=1)\n",
    "    keep = (dmin >= pad) | np.isclose(abs_times, t0)\n",
    "    return keep  # bool, shape (len(time_axis),)\n",
    "ask_for_event"
   ]
  }
 ],
 "metadata": {
  "kernelspec": {
   "display_name": "multiff_clean",
   "language": "python",
   "name": "python3"
  },
  "language_info": {
   "codemirror_mode": {
    "name": "ipython",
    "version": 3
   },
   "file_extension": ".py",
   "mimetype": "text/x-python",
   "name": "python",
   "nbconvert_exporter": "python",
   "pygments_lexer": "ipython3",
   "version": "3.11.11"
  }
 },
 "nbformat": 4,
 "nbformat_minor": 5
}
