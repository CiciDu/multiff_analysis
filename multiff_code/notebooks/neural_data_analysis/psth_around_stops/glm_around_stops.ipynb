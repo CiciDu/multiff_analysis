{
 "cells": [
  {
   "cell_type": "markdown",
   "id": "0",
   "metadata": {},
   "source": [
    "# Import packages"
   ]
  },
  {
   "cell_type": "code",
   "execution_count": null,
   "id": "1",
   "metadata": {},
   "outputs": [],
   "source": [
    "%load_ext autoreload\n",
    "%autoreload 2\n",
    "\n",
    "import os, sys, sys\n",
    "from pathlib import Path\n",
    "for p in [Path.cwd()] + list(Path.cwd().parents):\n",
    "    if p.name == 'Multifirefly-Project':\n",
    "        os.chdir(p)\n",
    "        sys.path.insert(0, str(p / 'multiff_analysis/multiff_code/methods'))\n",
    "        break\n",
    "    \n",
    "from data_wrangling import specific_utils, process_monkey_information, general_utils\n",
    "from pattern_discovery import pattern_by_trials, pattern_by_trials, cluster_analysis, organize_patterns_and_features\n",
    "from visualization.matplotlib_tools import plot_behaviors_utils\n",
    "from neural_data_analysis.neural_analysis_tools.get_neural_data import neural_data_processing\n",
    "from neural_data_analysis.neural_analysis_tools.visualize_neural_data import plot_neural_data, plot_modeling_result\n",
    "from neural_data_analysis.neural_analysis_tools.model_neural_data import transform_vars, neural_data_modeling, drop_high_corr_vars, drop_high_vif_vars\n",
    "from neural_data_analysis.topic_based_neural_analysis.neural_vs_behavioral import prep_monkey_data, prep_target_data, neural_vs_behavioral_class\n",
    "from neural_data_analysis.topic_based_neural_analysis.planning_and_neural import planning_and_neural_class, pn_utils, pn_helper_class, pn_aligned_by_seg, pn_aligned_by_event\n",
    "from neural_data_analysis.neural_analysis_tools.cca_methods import cca_class\n",
    "from neural_data_analysis.neural_analysis_tools.cca_methods import cca_class, cca_utils, cca_cv_utils\n",
    "from neural_data_analysis.neural_analysis_tools.cca_methods.cca_plotting import cca_plotting, cca_plot_lag_vs_no_lag, cca_plot_cv\n",
    "from machine_learning.ml_methods import regression_utils, regz_regression_utils, ml_methods_class, classification_utils, ml_plotting_utils, ml_methods_utils\n",
    "from planning_analysis.show_planning import nxt_ff_utils, show_planning_utils\n",
    "from neural_data_analysis.neural_analysis_tools.gpfa_methods import elephant_utils, fit_gpfa_utils, plot_gpfa_utils, gpfa_helper_class\n",
    "from neural_data_analysis.neural_analysis_tools.align_trials import time_resolved_regression, time_resolved_gpfa_regression,plot_time_resolved_regression\n",
    "from neural_data_analysis.neural_analysis_tools.align_trials import align_trial_utils\n",
    "from decision_making_analysis.compare_GUAT_and_TAFT import find_GUAT_or_TAFT_trials\n",
    "\n",
    "from neural_data_analysis.topic_based_neural_analysis.stop_event_analysis.stop_psth import core_stops_psth, get_stops_utils, psth_postprocessing, psth_stats, compare_events, dpca_utils\n",
    "from neural_data_analysis.topic_based_neural_analysis.stop_event_analysis.stop_glm.glm_fit import stop_glm_fit, cv_stop_glm, glm_fit_utils, variance_explained\n",
    "from neural_data_analysis.topic_based_neural_analysis.stop_event_analysis.stop_glm.glm_plotting import plot_spikes, plot_glm_fit, plot_tuning_func\n",
    "from neural_data_analysis.topic_based_neural_analysis.stop_event_analysis.stop_glm.glm_designs import binning_for_glm, lagged_design, stop_design, cluster_design, design_checks, history_design\n",
    "from neural_data_analysis.topic_based_neural_analysis.stop_event_analysis.stop_glm.glm_hyperparams import compare_glm_configs, glm_hyperparams_class\n",
    "\n",
    "\n",
    "import sys\n",
    "import math\n",
    "import gc\n",
    "import subprocess\n",
    "from pathlib import Path\n",
    "\n",
    "# Third-party imports\n",
    "import numpy as np\n",
    "import pandas as pd\n",
    "import matplotlib\n",
    "import matplotlib.pyplot as plt\n",
    "import seaborn as sns\n",
    "from matplotlib import rc\n",
    "from scipy import linalg, interpolate\n",
    "from scipy.signal import fftconvolve\n",
    "from scipy.io import loadmat\n",
    "from scipy import sparse\n",
    "import torch\n",
    "from numpy import pi\n",
    "import cProfile\n",
    "import pstats\n",
    "\n",
    "# Machine Learning imports\n",
    "from sklearn.metrics import mean_squared_error, r2_score\n",
    "from sklearn.linear_model import LinearRegression, Ridge\n",
    "from sklearn.cross_decomposition import CCA\n",
    "from sklearn.preprocessing import StandardScaler\n",
    "from sklearn.model_selection import train_test_split, GridSearchCV\n",
    "from sklearn.decomposition import PCA\n",
    "from sklearn.model_selection import train_test_split\n",
    "from sklearn.model_selection import KFold\n",
    "from statsmodels.stats.outliers_influence import variance_inflation_factor\n",
    "from statsmodels.multivariate.cancorr import CanCorr\n",
    "import statsmodels.api as sm\n",
    "\n",
    "# Neuroscience specific imports\n",
    "import neo\n",
    "import rcca\n",
    "\n",
    "# To fit gpfa\n",
    "import numpy as np\n",
    "from importlib import reload\n",
    "from scipy.integrate import odeint\n",
    "import quantities as pq\n",
    "import neo\n",
    "from elephant.spike_train_generation import inhomogeneous_poisson_process\n",
    "from elephant.gpfa import GPFA\n",
    "import matplotlib.pyplot as plt\n",
    "from mpl_toolkits.mplot3d import Axes3D\n",
    "from elephant.gpfa import gpfa_core, gpfa_util\n",
    "\n",
    "plt.rcParams[\"animation.html\"] = \"html5\"\n",
    "os.environ['KMP_DUPLICATE_LIB_OK']='True'\n",
    "rc('animation', html='jshtml')\n",
    "matplotlib.rcParams.update(matplotlib.rcParamsDefault)\n",
    "matplotlib.rcParams['animation.embed_limit'] = 2**128\n",
    "pd.set_option('display.float_format', lambda x: '%.5f' % x)\n",
    "np.set_printoptions(suppress=True)\n",
    "os.environ[\"PYDEVD_DISABLE_FILE_VALIDATION\"] = \"1\"\n",
    "pd.set_option('display.max_rows', 50)\n",
    "pd.set_option('display.max_columns', 50)\n",
    "\n",
    "print(\"done\")\n",
    "\n",
    "\n",
    "%load_ext autoreload\n",
    "%autoreload 2\n",
    "%matplotlib inline"
   ]
  },
  {
   "cell_type": "markdown",
   "id": "2",
   "metadata": {},
   "source": [
    "# retrieve data"
   ]
  },
  {
   "cell_type": "code",
   "execution_count": null,
   "id": "3",
   "metadata": {},
   "outputs": [],
   "source": [
    "raw_data_folder_path = \"all_monkey_data/raw_monkey_data/monkey_Schro/data_0413\"\n",
    "# raw_data_folder_path = \"all_monkey_data/raw_monkey_data/monkey_Schro/data_0321\"\n",
    "# raw_data_folder_path = \"all_monkey_data/raw_monkey_data/monkey_Schro/data_0329\"\n",
    "# raw_data_folder_path = \"all_monkey_data/raw_monkey_data/monkey_Schro/data_0403\""
   ]
  },
  {
   "cell_type": "code",
   "execution_count": null,
   "id": "4",
   "metadata": {},
   "outputs": [],
   "source": [
    "# raw_data_folder_path = \"all_monkey_data/raw_monkey_data/monkey_Bruno/data_0330\"\n",
    "#raw_data_folder_path = \"all_monkey_data/raw_monkey_data/monkey_Bruno/data_0312\"\n",
    "\n",
    "# raw_data_folder_path = \"all_monkey_data/raw_monkey_data/monkey_Bruno/data_0316\"\n",
    "# raw_data_folder_path = \"all_monkey_data/raw_monkey_data/monkey_Bruno/data_0327\"\n",
    "# raw_data_folder_path = \"all_monkey_data/raw_monkey_data/monkey_Bruno/data_0328\""
   ]
  },
  {
   "cell_type": "code",
   "execution_count": null,
   "id": "5",
   "metadata": {},
   "outputs": [],
   "source": [
    "reduce_y_var_lags = False\n",
    "planning_data_by_point_exists_ok = True\n",
    "y_data_exists_ok = True\n",
    "\n",
    "pn = pn_aligned_by_event.PlanningAndNeuralEventAligned(raw_data_folder_path=raw_data_folder_path)\n",
    "pn.prep_data_to_analyze_planning(planning_data_by_point_exists_ok=planning_data_by_point_exists_ok)\n",
    "# pn.planning_data_by_point, cols_to_drop = general_utils.drop_columns_with_many_nans(\n",
    "#     pn.planning_data_by_point)\n",
    "#pn.get_x_and_y_data_for_modeling(exists_ok=y_data_exists_ok, reduce_y_var_lags=reduce_y_var_lags)\n",
    "\n",
    "if not hasattr(pn, 'spikes_df'):\n",
    "    pn.retrieve_or_make_monkey_data()\n",
    "    pn.spikes_df = neural_data_processing.make_spikes_df(pn.raw_data_folder_path, pn.ff_caught_T_sorted,\n",
    "                                                            sampling_rate=pn.sampling_rate)"
   ]
  },
  {
   "cell_type": "markdown",
   "id": "6",
   "metadata": {},
   "source": [
    "# NEXT: try stop end time instead"
   ]
  },
  {
   "cell_type": "markdown",
   "id": "7",
   "metadata": {},
   "source": [
    "# Get captures"
   ]
  },
  {
   "cell_type": "code",
   "execution_count": null,
   "id": "8",
   "metadata": {},
   "outputs": [],
   "source": [
    "reload(get_stops_utils)"
   ]
  },
  {
   "cell_type": "code",
   "execution_count": null,
   "id": "9",
   "metadata": {},
   "outputs": [],
   "source": [
    "pn.monkey_information.columns"
   ]
  },
  {
   "cell_type": "code",
   "execution_count": null,
   "id": "10",
   "metadata": {},
   "outputs": [],
   "source": [
    "# Example wiring (mirrors your original usage)\n",
    "valid_captures_df, filtered_no_capture_stops_df, stops_with_stats = get_stops_utils.prepare_no_capture_and_captures(\n",
    "    monkey_information=pn.monkey_information,\n",
    "    closest_stop_to_capture_df=pn.closest_stop_to_capture_df,\n",
    "    ff_caught_T_new=pn.ff_caught_T_new,\n",
    "    capture_match_window=0.3,\n",
    "    distance_thresh=25.0,\n",
    "    distance_col=\"distance_from_ff_to_stop\",\n",
    ")\n"
   ]
  },
  {
   "cell_type": "markdown",
   "id": "11",
   "metadata": {},
   "source": [
    "# Get misses"
   ]
  },
  {
   "cell_type": "markdown",
   "id": "12",
   "metadata": {},
   "source": [
    "##  one"
   ]
  },
  {
   "cell_type": "code",
   "execution_count": null,
   "id": "13",
   "metadata": {},
   "outputs": [],
   "source": [
    "columns_to_add = [\"stop_id\", \"stop_id_duration\", \"stop_id_start_time\", \"stop_id_end_time\"]\n",
    "\n",
    "pn.make_one_stop_w_ff_df()\n",
    "one_stop_miss_df = pn.one_stop_w_ff_df[['first_stop_point_index', 'first_stop_time', 'latest_visible_ff', 'ff_distance', 'min_distance_from_adjacent_stops']].copy()\n",
    "one_stop_miss_df.rename(columns={'first_stop_point_index': 'stop_point_index', 'first_stop_time': 'stop_time'}, inplace=True)\n",
    "one_stop_miss_df[columns_to_add] = pn.monkey_information.loc[one_stop_miss_df['stop_point_index'], columns_to_add].values"
   ]
  },
  {
   "cell_type": "markdown",
   "id": "14",
   "metadata": {},
   "source": [
    "## more"
   ]
  },
  {
   "cell_type": "code",
   "execution_count": null,
   "id": "15",
   "metadata": {},
   "outputs": [],
   "source": [
    "pn.make_or_retrieve_ff_dataframe()\n",
    "pn.get_try_a_few_times_info()\n",
    "pn.get_give_up_after_trying_info()\n"
   ]
  },
  {
   "cell_type": "code",
   "execution_count": null,
   "id": "16",
   "metadata": {},
   "outputs": [],
   "source": [
    "columns_to_add = [\"stop_id\", \"stop_id_duration\", \"stop_id_start_time\", \"stop_id_end_time\"]\n",
    "shared_columns = [\"stop_point_index\", \"stop_time\"] + columns_to_add\n",
    "\n",
    "# --- Build expanded + ordered tables for GUAT / TAFT ---\n",
    "GUAT_expanded = get_stops_utils._expand_trials(pn.GUAT_trials_df, pn.monkey_information)\n",
    "TAFT_expanded = get_stops_utils._expand_trials(pn.TAFT_trials_df, pn.monkey_information)\n",
    "\n",
    "# add stop_id to GUAT_trials_df and TAFT_trials_df\n",
    "GUAT_expanded[columns_to_add] = pn.monkey_information.loc[GUAT_expanded['stop_point_index'], columns_to_add].values\n",
    "TAFT_expanded[columns_to_add] = pn.monkey_information.loc[TAFT_expanded['stop_point_index'], columns_to_add].values\n",
    "\n",
    "\n",
    "GUAT = get_stops_utils._add_cluster_ordering(GUAT_expanded)\n",
    "TAFT = get_stops_utils._add_cluster_ordering(TAFT_expanded)\n",
    "\n",
    "# --- Per-cluster slices (consistent, vectorized) ---\n",
    "# First stop in each cluster\n",
    "GUAT_first = GUAT[GUAT[\"is_first\"]].reset_index(drop=True)\n",
    "TAFT_first = TAFT[TAFT[\"is_first\"]].reset_index(drop=True)\n",
    "\n",
    "# Last stop in each cluster\n",
    "giveup_GUAT_last = GUAT[GUAT[\"is_last\"]].reset_index(drop=True)\n",
    "capture_TAFT_last = TAFT[TAFT[\"is_last\"]].reset_index(drop=True)\n",
    "\n",
    "# Middle stops (exclude first and last)\n",
    "GUAT_middle = GUAT[GUAT[\"is_middle\"]].reset_index(drop=True)\n",
    "TAFT_middle = TAFT[TAFT[\"is_middle\"]].reset_index(drop=True)\n",
    "\n",
    "# “First several” = all but the last stop in each cluster\n",
    "persist_GUAT_nonfinal = GUAT[GUAT[\"order_in_cluster\"] < GUAT[\"cluster_size\"] - 1].reset_index(drop=True)\n",
    "persist_TAFT_nonfinal = TAFT[TAFT[\"order_in_cluster\"] < TAFT[\"cluster_size\"] - 1].reset_index(drop=True)\n",
    "\n",
    "# Combine the “first several” from both, keep only columns you care about, then sort by index\n",
    "both_nonfinal = (\n",
    "    pd.concat(\n",
    "        [\n",
    "            persist_GUAT_nonfinal[shared_columns],\n",
    "            persist_TAFT_nonfinal[shared_columns],\n",
    "        ],\n",
    "        ignore_index=True\n",
    "    )\n",
    "    .sort_values(\"stop_point_index\")\n",
    "    .reset_index(drop=True)\n",
    ")\n",
    "\n",
    "persist_both_first = pd.concat([GUAT_first[shared_columns], \n",
    "                         TAFT_first[shared_columns]])\n",
    "\n",
    "both_middle = pd.concat([GUAT_middle[shared_columns], \n",
    "                         TAFT_middle[shared_columns]])\n",
    "\n",
    "# Optional: if you also want “last several” (all but the first), it’s symmetrical:\n",
    "# giveup_GUAT_last_several = GUAT[GUAT[\"order_in_cluster\"] > 0].reset_index(drop=True)\n",
    "# capture_TAFT_last_several = TAFT[TAFT[\"order_in_cluster\"] > 0].reset_index(drop=True)\n",
    "\n",
    "giveup_GUAT_last_plus_single_miss = pd.concat([giveup_GUAT_last[shared_columns], \n",
    "                                         one_stop_miss_df[shared_columns]])\n",
    "\n",
    "all_misses = pd.concat([one_stop_miss_df[shared_columns], \n",
    "                                         GUAT_expanded[shared_columns],\n",
    "                                         persist_TAFT_nonfinal[shared_columns]\n",
    "                                         ])\n",
    "\n",
    "all_first_misses = pd.concat(\n",
    "    [one_stop_miss_df[shared_columns], GUAT_first[shared_columns], TAFT_first[shared_columns]],\n",
    "    ignore_index=True\n",
    ")\n",
    "\n",
    "# captures not in TAFT last (assuming capture_TAFT_last is a subset of captures)\n",
    "captures_minus_TAFT_last = compare_events.diff_by(valid_captures_df, capture_TAFT_last, key='stop_id')\n",
    "\n",
    "# non-captures excluding those flagged as 'all_misses'\n",
    "non_captures_minus_all_misses = compare_events.diff_by(filtered_no_capture_stops_df, all_misses, key='stop_id')\n"
   ]
  },
  {
   "cell_type": "markdown",
   "id": "17",
   "metadata": {},
   "source": [
    "# Prepare for GLM"
   ]
  },
  {
   "cell_type": "markdown",
   "id": "18",
   "metadata": {},
   "source": [
    "## new_seg_info"
   ]
  },
  {
   "cell_type": "code",
   "execution_count": null,
   "id": "19",
   "metadata": {},
   "outputs": [],
   "source": [
    "stops_with_stats['stop_time'] = stops_with_stats['stop_id_start_time']\n",
    "stops_with_stats['prev_time'] = stops_with_stats['stop_id_end_time'].shift(1)\n",
    "stops_with_stats['next_time'] = stops_with_stats['stop_id_start_time'].shift(-1)\n",
    "new_seg_info = binning_for_glm.pick_stop_window(stops_with_stats,\n",
    "                                                pre_s=0.2, post_s=1.0, min_pre_bins=1, min_post_bins=20, bin_dt=0.04)\n",
    "\n",
    "if 'stop_id' not in pn.closest_stop_to_capture_df.columns:\n",
    "    pn.closest_stop_to_capture_df = get_stops_utils.add_stop_id_to_closest_stop_to_capture_df(\n",
    "        pn.closest_stop_to_capture_df,\n",
    "        pn.monkey_information,\n",
    "    )\n",
    "    \n",
    "if 'captured' not in new_seg_info.columns:\n",
    "    pn.closest_stop_to_capture_df['captured'] = 1\n",
    "    new_seg_info = new_seg_info.merge(pn.closest_stop_to_capture_df[['stop_id', 'captured']].drop_duplicates(), on='stop_id', how='left')\n",
    "    new_seg_info['captured'] = new_seg_info['captured'].fillna(0)\n",
    "    "
   ]
  },
  {
   "cell_type": "markdown",
   "id": "20",
   "metadata": {},
   "source": [
    "## binned_feats"
   ]
  },
  {
   "cell_type": "code",
   "execution_count": null,
   "id": "21",
   "metadata": {},
   "outputs": [],
   "source": [
    "# 1) Build bins from your stop windows (gaps allowed)\n",
    "bins_2d, meta = binning_for_glm.stops_windows_to_bins2d(new_seg_info, bin_dt=0.04, only_ok=False)\n",
    "\n",
    "# 2) Get overlap assignments once\n",
    "sample_idx, bin_idx_array, dt_array, n_bins = binning_for_glm.build_bin_assignments(\n",
    "    pn.monkey_information['time'].to_numpy(),\n",
    "    bins_2d,\n",
    ")\n",
    "\n",
    "# 3) Subselect raw samples once\n",
    "monkey_information_sub = pn.monkey_information.iloc[sample_idx].copy()\n",
    "\n",
    "# 3a) One pass to get exposure and used_bins\n",
    "_dummy, exposure, used_bins = binning_for_glm.bin_timeseries_weighted(\n",
    "    monkey_information_sub['time'].to_numpy(),  # any column of same length works\n",
    "    dt_array, bin_idx_array, how='mean'\n",
    ")\n",
    "\n",
    "# 3b) Aggregate features with the SAME assignments\n",
    "def agg_feat(col):\n",
    "    vals = monkey_information_sub[col].to_numpy()\n",
    "    out, _exp, _ub = binning_for_glm.bin_timeseries_weighted(vals, dt_array, bin_idx_array, how='mean')\n",
    "    # Defensive checks: exposure/used_bins should match\n",
    "    assert np.shares_memory(_exp, exposure) or np.allclose(_exp, exposure)\n",
    "    assert np.array_equal(_ub, used_bins)\n",
    "    return out\n",
    "\n",
    "binned_feats = pd.DataFrame({\n",
    "    'accel':     agg_feat('accel'),\n",
    "    'speed':     agg_feat('speed'),\n",
    "    'ang_speed': agg_feat('ang_speed'),\n",
    "})\n",
    "\n",
    "# Clean NaNs (optional: choose your policy)\n",
    "binned_feats = binned_feats.replace([np.inf, -np.inf], np.nan).fillna(0.0)\n",
    "\n",
    "# 3c) Keep bins with exposure > 0\n",
    "mask_used = exposure > 0\n",
    "pos = used_bins[mask_used]\n",
    "binned_feats = binned_feats.iloc[mask_used].reset_index(drop=True)\n",
    "\n",
    "meta_by_bin = meta.set_index('bin').sort_index()\n",
    "meta_used   = meta_by_bin.loc[pos].reset_index()   # rows now match binned_feats\n",
    "\n",
    "\n",
    "# 4) Bin spikes per cluster across ALL bins, then slice by pos\n",
    "spike_counts, cluster_ids = binning_for_glm.bin_spikes_by_cluster(\n",
    "    pn.spikes_df, bins_2d, time_col='time', cluster_col='cluster'\n",
    ")\n",
    "\n",
    "# Sanity checks\n",
    "assert pos.size == binned_feats.shape[0]\n",
    "assert spike_counts.shape[0] >= (pos.max() + 1)\n",
    "\n",
    "binned_spikes = pd.DataFrame(\n",
    "    spike_counts[pos, :],        # slice rows to align with pos\n",
    "    columns=cluster_ids,         # cluster IDs as column labels\n",
    ").reset_index(drop=True)\n",
    "\n",
    "# Build the stop-aware design block (same helper we wrote earlier)\n",
    "X_stop_df = stop_design.build_stop_design_from_meta(\n",
    "    meta=meta,\n",
    "    pos=pos,\n",
    "    new_seg_info=new_seg_info,\n",
    "    speed_used=binned_feats['speed'].values,\n",
    "    include_columns=(\n",
    "        'basis', 'prepost', 'prepost*speed',\n",
    "        'captured', 'basis*captured', #'prepost*captured',\n",
    "        #'time_since_prev_stop_pre', 'time_to_next_stop_post',\n",
    "        'time_since_prev_stop', 'time_to_next_stop',\n",
    "    )\n",
    ")\n",
    "\n",
    "cluster_df = cluster_design.build_cluster_features_workflow(\n",
    "    meta_used[['stop_id', 'rel_center']], stops_with_stats,\n",
    "    rel_time_col='rel_center',\n",
    "    winsor_p=0.5,\n",
    "    use_midbin_progress=True,\n",
    "    zscore_progress=False,   # set True if you want progress in SD units\n",
    "    zscore_rel_time=True\n",
    ")\n",
    "cluster_feats = [\n",
    "        'is_clustered',\n",
    "        'stop_is_first_in_cluster', \n",
    "        #'stop_is_last_in_cluster',\n",
    "        'prev_gap_s_z',\n",
    "        'next_gap_s_z',\n",
    "        'cluster_duration_s_z',\n",
    "        'cluster_progress_c', 'cluster_progress_c2',\n",
    "        #'log_n_stops_in_cluster_z',      # optional\n",
    "        'cluster_rel_time_s_z',          # optional (bin-level)\n",
    "    ]\n",
    "\n",
    "\n",
    "cols_to_add_from_stop_design = [c for c in X_stop_df.columns if c not in binned_feats.columns]\n",
    "binned_feats.loc[:, cols_to_add_from_stop_design] = X_stop_df[cols_to_add_from_stop_design].to_numpy()  # equivalent to .values\n",
    "\n",
    "cols_to_add_from_cluster_design = [c for c in cluster_feats if c not in binned_feats.columns]\n",
    "binned_feats.loc[:, cols_to_add_from_cluster_design] = cluster_df[cols_to_add_from_cluster_design].to_numpy()  # equivalent to .values\n",
    "\n",
    "offset_log = np.log(np.clip(exposure[mask_used], 1e-12, None))\n",
    "\n",
    "# --- usage ---\n",
    "binned_feats_sc, scaled_cols = binning_for_glm.selective_zscore(binned_feats)\n",
    "binned_feats_sc = sm.add_constant(binned_feats_sc, has_constant='add')\n",
    "print('Scaled columns:', scaled_cols)\n",
    "\n",
    "df_X = binned_feats_sc.copy()\n",
    "df_Y = binned_spikes.copy()\n"
   ]
  },
  {
   "cell_type": "code",
   "execution_count": null,
   "id": "22",
   "metadata": {},
   "outputs": [],
   "source": [
    "binned_feats.describe().T"
   ]
  },
  {
   "cell_type": "code",
   "execution_count": null,
   "id": "23",
   "metadata": {},
   "outputs": [],
   "source": [
    "binned_feats_sc.describe()"
   ]
  },
  {
   "cell_type": "code",
   "execution_count": null,
   "id": "24",
   "metadata": {},
   "outputs": [],
   "source": [
    "binned_feats_sc[['cluster_progress_c', 'cluster_progress_c2']].describe()"
   ]
  },
  {
   "cell_type": "markdown",
   "id": "25",
   "metadata": {},
   "source": [
    "## check df"
   ]
  },
  {
   "cell_type": "code",
   "execution_count": null,
   "id": "26",
   "metadata": {},
   "outputs": [],
   "source": [
    "X_pruned = design_checks.check_design(binned_feats_sc)"
   ]
  },
  {
   "cell_type": "markdown",
   "id": "27",
   "metadata": {},
   "source": [
    "# GLM"
   ]
  },
  {
   "cell_type": "markdown",
   "id": "28",
   "metadata": {},
   "source": [
    "## regular"
   ]
  },
  {
   "cell_type": "code",
   "execution_count": null,
   "id": "29",
   "metadata": {},
   "outputs": [],
   "source": [
    "df_Y"
   ]
  },
  {
   "cell_type": "code",
   "execution_count": null,
   "id": "30",
   "metadata": {},
   "outputs": [],
   "source": [
    "reload(glm_fit_utils)\n",
    "reload(stop_glm_fit)\n",
    "\n",
    "report = stop_glm_fit.glm_mini_report(\n",
    "    df_X=df_X, df_Y=df_Y, offset_log=offset_log,\n",
    "    cov_type='HC1',            # or 'nonrobust' for even faster\n",
    "    fast_mle=True,             # << use the ultra-fast path\n",
    "    do_inference=True,        # skip FDR/ratios/pop-tests\n",
    "    make_plots=True,          # skip figure creation\n",
    "    show_plots=True,          # nothing to display\n",
    ")\n"
   ]
  },
  {
   "cell_type": "code",
   "execution_count": null,
   "id": "31",
   "metadata": {},
   "outputs": [],
   "source": [
    "cluster_id = 5\n",
    "cv_stop_glm.plot_pred_vs_obs(report['results'][cluster_id], df_X, binned_spikes[cluster_id], offset_log)"
   ]
  },
  {
   "cell_type": "code",
   "execution_count": null,
   "id": "32",
   "metadata": {},
   "outputs": [],
   "source": [
    "df_X.shape"
   ]
  },
  {
   "cell_type": "code",
   "execution_count": null,
   "id": "33",
   "metadata": {},
   "outputs": [],
   "source": [
    "coefs_df    = report['coefs_df']\n",
    "metrics_df  = report['metrics_df']\n",
    "pop_tests   = report['population_tests_df']\n",
    "metrics_df"
   ]
  },
  {
   "cell_type": "code",
   "execution_count": null,
   "id": "34",
   "metadata": {},
   "outputs": [],
   "source": [
    "coefs_df[(coefs_df['term'] == 'captured') & (coefs_df['sig_FDR'] == True)].sort_values('p', ascending=True)"
   ]
  },
  {
   "cell_type": "markdown",
   "id": "35",
   "metadata": {},
   "source": [
    "## Note large coeff"
   ]
  },
  {
   "cell_type": "code",
   "execution_count": null,
   "id": "36",
   "metadata": {},
   "outputs": [],
   "source": [
    "glm_fit_utils.summarize_large_coeffs(report['coefs_df'], df_X)\n"
   ]
  },
  {
   "cell_type": "markdown",
   "id": "37",
   "metadata": {},
   "source": [
    "## CV"
   ]
  },
  {
   "cell_type": "code",
   "execution_count": null,
   "id": "38",
   "metadata": {},
   "outputs": [],
   "source": [
    "reload(cv_stop_glm)"
   ]
  },
  {
   "cell_type": "code",
   "execution_count": null,
   "id": "39",
   "metadata": {},
   "outputs": [],
   "source": [
    "# groups = meta_used['stop_id']  # or your session/stop-window IDs\n",
    "# scores = cv_stop_glm.cv_score_per_cluster(binned_feats_sc, binned_spikes, offset_log, groups, n_splits=5)\n",
    "# cv_stop_glm.plot_cv_scores(scores)\n",
    "# scores"
   ]
  },
  {
   "cell_type": "markdown",
   "id": "40",
   "metadata": {},
   "source": [
    "# tuning curve"
   ]
  },
  {
   "cell_type": "code",
   "execution_count": null,
   "id": "41",
   "metadata": {},
   "outputs": [],
   "source": [
    "reload(plot_tuning_func)\n",
    "\n",
    "cluster_id = 10\n",
    "model_res = report['results'][cluster_id]\n",
    "var = 'captured'\n",
    "\n",
    "exposure_s = np.exp(offset_log)\n",
    "# make empirical curve\n",
    "tc_emp = plot_tuning_func.empirical_tuning_curve(\n",
    "    binned_spikes=binned_spikes[cluster_id].to_numpy(),\n",
    "    predictor_vals=binned_feats[var].to_numpy(),\n",
    "    exposure_s=exposure_s,\n",
    "    nbins=20\n",
    ")\n",
    "\n",
    "# make GLM curve\n",
    "tc_glm = plot_tuning_func.glm_tuning_curve(\n",
    "    model_res, df_X,\n",
    "    var=var,\n",
    "    offset_log=offset_log,\n",
    "    average='marginal',\n",
    "    weights=exposure_s,                 # time-weighted average rate (recommended)\n",
    "    return_ci=True\n",
    ")\n",
    "\n",
    "# overlay\n",
    "plot_tuning_func.overlay_tuning_curves(tc_emp, tc_glm, xcol=var,\n",
    "                      title=f'Unit {cluster_id}: {var} tuning')\n"
   ]
  },
  {
   "cell_type": "code",
   "execution_count": null,
   "id": "42",
   "metadata": {},
   "outputs": [],
   "source": [
    "plot_tuning_func.plot_tuning_with_ci(tc_glm, xcol='captured', ycol='rate_hz')\n",
    "plt.show()"
   ]
  },
  {
   "cell_type": "markdown",
   "id": "43",
   "metadata": {},
   "source": [
    "# check fr"
   ]
  },
  {
   "cell_type": "code",
   "execution_count": null,
   "id": "44",
   "metadata": {},
   "outputs": [],
   "source": [
    "dt = 0.04\n",
    "rates = binned_spikes.sum(axis=0) / (len(binned_spikes) * dt)\n",
    "# rates is a Series indexed by unit, in Hz\n",
    "rates"
   ]
  },
  {
   "cell_type": "code",
   "execution_count": null,
   "id": "45",
   "metadata": {},
   "outputs": [],
   "source": [
    "import pandas as pd\n",
    "\n",
    "def firing_rates_from_df(spikes_df, time_col='time', cluster_col='cluster'):\n",
    "    start_s = spikes_df[time_col].min()\n",
    "    end_s = spikes_df[time_col].max()\n",
    "    duration = end_s - start_s\n",
    "\n",
    "    counts = spikes_df.groupby(cluster_col).size()\n",
    "    rates_hz = counts / duration\n",
    "    return rates_hz.rename('rate_hz').reset_index()\n",
    "\n",
    "firing_rates_from_df(pn.spikes_df)"
   ]
  },
  {
   "cell_type": "markdown",
   "id": "46",
   "metadata": {},
   "source": [
    "# VE"
   ]
  },
  {
   "cell_type": "code",
   "execution_count": null,
   "id": "47",
   "metadata": {},
   "outputs": [],
   "source": [
    "reload(variance_explained)\n",
    "df_Y_pred = variance_explained.build_df_Y_pred_from_results(\n",
    "    results=report['results'],\n",
    "    df_X=df_X,\n",
    "    offset_log=offset_log,\n",
    "    df_Y=df_Y\n",
    ")\n",
    "\n",
    "# sanity checks\n",
    "assert df_Y_pred.shape == df_Y.shape\n",
    "assert np.isfinite(df_Y_pred.values).all()"
   ]
  },
  {
   "cell_type": "code",
   "execution_count": null,
   "id": "48",
   "metadata": {},
   "outputs": [],
   "source": [
    "# Convert observed/predicted DataFrames to arrays\n",
    "X = df_Y.to_numpy()      # observed counts\n",
    "X_hat = df_Y_pred.to_numpy() # predicted expected counts\n",
    "stop_ids = meta_used['stop_id'].to_numpy()\n",
    "\n",
    "ve_pop, k_eff = variance_explained.population_VE_in_PCspace(X, X_hat, k=10, center='neuron')\n"
   ]
  },
  {
   "cell_type": "code",
   "execution_count": null,
   "id": "49",
   "metadata": {},
   "outputs": [],
   "source": [
    "ve_per_neuron, ve_mean = variance_explained.single_neuron_temporal_VE(X, X_hat, aggregate='mean')\n",
    "ve_median = float(np.median(ve_per_neuron))\n",
    "\n",
    "print(f'Mean single-neuron VE:   {ve_mean:.3f}')\n",
    "print(f'Median single-neuron VE: {ve_median:.3f}')\n",
    "\n",
    "variance_explained.plot_single_neuron_VE_hist(ve_per_neuron)\n",
    "\n",
    "ve_pop, k_eff = variance_explained.population_VE_in_PCspace(X, X_hat, k=10, center='neuron')\n",
    "print(f'Population VE in {k_eff} PCs: {ve_pop:.3f}')\n",
    "\n",
    "variance_explained.plot_population_VE_bar(ve_pop)\n"
   ]
  },
  {
   "cell_type": "code",
   "execution_count": null,
   "id": "50",
   "metadata": {},
   "outputs": [],
   "source": [
    "np.sort(ve_per_neuron)"
   ]
  },
  {
   "cell_type": "code",
   "execution_count": null,
   "id": "51",
   "metadata": {},
   "outputs": [],
   "source": [
    "# Per-stop breakdown (good for figures)\n",
    "per_stop_df = variance_explained.per_stop_breakdown(X, X_hat, stop_ids=meta_used['stop_id'].to_numpy(), k=10)\n",
    "print(per_stop_df.head())\n",
    "\n",
    "summary_metrics = {\n",
    "    'VE_population_PC': ve_pop,\n",
    "    'VE_single_unit_mean': ve_mean,\n",
    "    'VE_single_unit_median': ve_median,\n",
    "    'PCs_used': k_eff\n",
    "}\n",
    "print(pd.Series(summary_metrics))\n"
   ]
  },
  {
   "cell_type": "markdown",
   "id": "52",
   "metadata": {},
   "source": [
    "# Plot spikes"
   ]
  },
  {
   "cell_type": "code",
   "execution_count": null,
   "id": "53",
   "metadata": {},
   "outputs": [],
   "source": [
    "reload(plot_spikes)\n",
    "\n",
    "cluster_idx = 6\n",
    "\n",
    "for stop_id in range(50, 52):\n",
    "    # If your GLM used offset_log = np.log(exposure_s), you can omit exposure_s:\n",
    "    plot_spikes.plot_observed_vs_predicted_stop(\n",
    "        binned_feats_sc=binned_feats_sc,\n",
    "        binned_spikes=binned_spikes,\n",
    "        meta_used=meta_used,\n",
    "        offset_log=offset_log,\n",
    "        model_res=report['results'][cluster_idx],   # GLM for cluster 0\n",
    "        cluster_idx=cluster_idx,\n",
    "        seg_id=stop_id,\n",
    "        time_col='rel_center'\n",
    "    )"
   ]
  },
  {
   "cell_type": "markdown",
   "id": "54",
   "metadata": {},
   "source": [
    "# Inspect data"
   ]
  },
  {
   "cell_type": "code",
   "execution_count": null,
   "id": "55",
   "metadata": {},
   "outputs": [],
   "source": [
    "new_seg_info"
   ]
  },
  {
   "cell_type": "code",
   "execution_count": null,
   "id": "56",
   "metadata": {},
   "outputs": [],
   "source": [
    "seg_sub = new_seg_info[new_seg_info['captured'] > 0]\n",
    "sns.histplot(new_seg_info['n_pre_bins'])\n",
    "sns.histplot(seg_sub['n_pre_bins'])"
   ]
  },
  {
   "cell_type": "code",
   "execution_count": null,
   "id": "57",
   "metadata": {},
   "outputs": [],
   "source": [
    "sns.histplot(new_seg_info['n_post_bins'])\n",
    "sns.histplot(seg_sub['n_post_bins'])"
   ]
  },
  {
   "cell_type": "markdown",
   "id": "58",
   "metadata": {},
   "source": [
    "# Lagged design"
   ]
  },
  {
   "cell_type": "markdown",
   "id": "59",
   "metadata": {},
   "source": [
    "## discrete lags"
   ]
  },
  {
   "cell_type": "code",
   "execution_count": null,
   "id": "60",
   "metadata": {},
   "outputs": [],
   "source": [
    "stop!"
   ]
  },
  {
   "cell_type": "code",
   "execution_count": null,
   "id": "61",
   "metadata": {},
   "outputs": [],
   "source": [
    "# choose window and binning\n",
    "lag_min_s, lag_max_s, bin_dt = -0.30, 0.40, 0.02\n",
    "lags = lagged_design.make_integer_lags(lag_min_s, lag_max_s, bin_dt)\n",
    "\n",
    "df_X_design, df_Y_aligned = lagged_design.build_lagged_design_by_group(\n",
    "    df_X=binned_feats,\n",
    "    df_Y=binned_spikes,\n",
    "    group_col='stop_id',\n",
    "    predictors=['speed', 'accel', 'ang_speed'],\n",
    "    offset_log=offset_log,\n",
    "    order_col='time',             # optional: if you have a time column\n",
    "    lags_bins=lags,\n",
    "    basis_df=None,\n",
    "    keep_cols=['session_id']      # optional passthrough\n",
    ")\n",
    "\n",
    "results, coefs_df, metrics_df, cv_tables_df = stop_glm_fit.fit_poisson_glm_per_cluster(\n",
    "    df_X_design, df_Y_aligned,\n",
    "    offset_log=offset_log,\n",
    "    cov_type='HC1'\n",
    ")\n"
   ]
  },
  {
   "cell_type": "markdown",
   "id": "62",
   "metadata": {},
   "source": [
    "## raised-cosine basis"
   ]
  },
  {
   "cell_type": "code",
   "execution_count": null,
   "id": "63",
   "metadata": {},
   "outputs": [],
   "source": [
    "basis = lagged_design.make_raised_cosine_basis(\n",
    "    n_basis=6,\n",
    "    lag_min_s=-0.30,\n",
    "    lag_max_s=0.40,\n",
    "    bin_dt=0.02\n",
    ")\n",
    "\n",
    "df_X_basis, df_Y_aligned = lagged_design.build_lagged_design_by_group(\n",
    "    df_X=df_X,\n",
    "    df_Y=df_Y,\n",
    "    group_col='stop_id',\n",
    "    predictors=['speed', 'accel'],\n",
    "    offset_log=offset_log,\n",
    "    order_col='time',\n",
    "    lags_bins=None,\n",
    "    basis_df=basis,\n",
    ")\n",
    "\n",
    "results, coefs_df, metrics_df, cv_tables_df = stop_glm_fit.fit_poisson_glm_per_cluster(\n",
    "    df_X_basis, df_Y_aligned,\n",
    "    offset_log=offset_log,\n",
    "    cov_type='HC1'\n",
    ")\n"
   ]
  },
  {
   "cell_type": "markdown",
   "id": "64",
   "metadata": {},
   "source": [
    "# plot_spaghetti_per_stop"
   ]
  },
  {
   "cell_type": "markdown",
   "id": "65",
   "metadata": {},
   "source": [
    "## run func"
   ]
  },
  {
   "cell_type": "code",
   "execution_count": null,
   "id": "66",
   "metadata": {},
   "outputs": [],
   "source": [
    "cols = ['stop_id', 'rel_center', 't_left', 't_right']\n",
    "binned_spikes2 = binned_spikes.copy()\n",
    "binned_spikes2[cols] = meta_used[cols]"
   ]
  },
  {
   "cell_type": "code",
   "execution_count": null,
   "id": "67",
   "metadata": {},
   "outputs": [],
   "source": [
    "binned_spikes"
   ]
  },
  {
   "cell_type": "code",
   "execution_count": null,
   "id": "68",
   "metadata": {},
   "outputs": [],
   "source": [
    "# choose a unit column by name or int (e.g., 3)\n",
    "# unit_col = 3  # or '3' if your columns are strings\n",
    "for unit_col in binned_spikes.columns:\n",
    "    df_rate = plot_spikes.make_rate_df_from_binned(binned_spikes2, unit_col)\n",
    "\n",
    "    # plot (with gentle smoothing and pre-stop baseline subtraction)\n",
    "    fig, ax, n = plot_spikes.plot_spaghetti_per_stop(\n",
    "        df_rate,\n",
    "        smooth_sigma_s=0.08,          # ~80 ms sigma (auto-converted to bins)\n",
    "        # baseline_window=(-0.5, -0.1), # subtract mean pre-stop activity\n",
    "        baseline_window=None,\n",
    "        max_stops=None,               # or an int to limit how many lines\n",
    "        median_label='median (all stops)',\n",
    "        title=f'Unit {unit_col}: rate per stop'\n",
    "    )\n",
    "    plt.show()\n",
    "    print(f'Plotted {n} stops.')\n",
    "    \n"
   ]
  },
  {
   "cell_type": "markdown",
   "id": "69",
   "metadata": {},
   "source": [
    "## run independent"
   ]
  },
  {
   "cell_type": "code",
   "execution_count": null,
   "id": "70",
   "metadata": {},
   "outputs": [],
   "source": [
    "import numpy as np\n",
    "import matplotlib.pyplot as plt\n",
    "\n",
    "# --- params you can tweak ---\n",
    "seg_col = 'stop_id'\n",
    "time_col = 'rel_center'\n",
    "rate_col = 'rate_hz'\n",
    "smooth_sigma_bins = None          # e.g., 1.0 for ~1-bin Gaussian smoothing\n",
    "smooth_sigma_s = 0.08             # or set in seconds and leave _bins=None\n",
    "bin_width_s_hint = None           # set if you know your bin width (e.g., 0.04)\n",
    "baseline_window = (-0.5, -0.1)    # set to None to disable baseline subtract\n",
    "max_stops = None                  # e.g., 200 to limit lines\n",
    "alpha = 0.3\n",
    "lw = 1.2\n",
    "show_median = True\n",
    "median_lw = 2.2\n",
    "median_label = 'median across stops'\n",
    "title = 'Firing rate per stop (one line per stop)'\n",
    "xlabel = 'Time from stop (s)'\n",
    "ylabel = 'Rate (Hz)'\n",
    "\n",
    "# --- helper: gaussian smoothing in bins ---\n",
    "def _gaussian_smooth_1d(y, sigma_bins):\n",
    "    if sigma_bins is None or sigma_bins <= 0:\n",
    "        return y\n",
    "    radius = max(1, int(np.ceil(3 * sigma_bins)))\n",
    "    x = np.arange(-radius, radius + 1)\n",
    "    w = np.exp(-(x**2) / (2 * sigma_bins**2))\n",
    "    w /= w.sum()\n",
    "    return np.convolve(y, w, mode='same')\n",
    "\n",
    "# --- infer bin width if user gave smoothing in seconds ---\n",
    "if smooth_sigma_s is not None and smooth_sigma_bins is None:\n",
    "    if bin_width_s_hint is not None:\n",
    "        bw = bin_width_s_hint\n",
    "    else:\n",
    "        tmp = df_rate.sort_values([seg_col, time_col])\n",
    "        diffs = tmp.groupby(seg_col)[time_col].diff().dropna().to_numpy()\n",
    "        diffs = diffs[np.isfinite(diffs) & (diffs > 0)]\n",
    "        bw = np.median(diffs) if diffs.size else 0.04\n",
    "    smooth_sigma_bins = smooth_sigma_s / max(bw, 1e-9)\n",
    "\n",
    "# --- optionally downselect stops ---\n",
    "stops = df_rate[seg_col].unique().tolist()\n",
    "if max_stops is not None and len(stops) > max_stops:\n",
    "    stops = stops[:max_stops]\n",
    "g = df_rate[df_rate[seg_col].isin(stops)].copy()\n",
    "\n",
    "# --- plot each stop ---\n",
    "fig, ax = plt.subplots(figsize=(8, 5))\n",
    "lines_plotted = 0\n",
    "\n",
    "for sid, df_s in g.groupby(seg_col, sort=True):\n",
    "    y = df_s.sort_values(time_col)\n",
    "    xvals = y[time_col].to_numpy()\n",
    "    yvals = y[rate_col].to_numpy()\n",
    "\n",
    "    # baseline subtract per stop\n",
    "    if baseline_window is not None:\n",
    "        t0, t1 = baseline_window\n",
    "        m = (xvals >= t0) & (xvals < t1)\n",
    "        base = yvals[m].mean() if m.any() else 0.0\n",
    "        yvals = yvals - base\n",
    "\n",
    "    # optional smoothing (in bins)\n",
    "    if smooth_sigma_bins is not None and smooth_sigma_bins > 0:\n",
    "        yvals = _gaussian_smooth_1d(yvals, smooth_sigma_bins)\n",
    "        \n",
    "\n",
    "    # safety: enforce equal length\n",
    "    n = min(len(xvals), len(yvals))\n",
    "    if n == 0:\n",
    "        continue\n",
    "    ax.plot(xvals[:n], yvals[:n], alpha=alpha, lw=lw)\n",
    "    lines_plotted += 1\n",
    "\n",
    "# --- median across stops at each time (pooled by exact time stamps) ---\n",
    "if show_median and not g.empty:\n",
    "    med = g.groupby(time_col)[rate_col].median().reset_index().sort_values(time_col)\n",
    "    xmed = med[time_col].to_numpy()\n",
    "    ymed = med[rate_col].to_numpy()\n",
    "    if baseline_window is not None:\n",
    "        t0, t1 = baseline_window\n",
    "        m = (xmed >= t0) & (xmed < t1)\n",
    "        base = ymed[m].mean() if m.any() else 0.0\n",
    "        ymed = ymed - base\n",
    "    if smooth_sigma_bins is not None and smooth_sigma_bins > 0:\n",
    "        ymed = _gaussian_smooth_1d(ymed, smooth_sigma_bins)\n",
    "    ax.plot(xmed, ymed, lw=median_lw, label=median_label)\n",
    "    ax.legend(frameon=False, loc='best')\n",
    "\n",
    "ax.axvline(0.0, ls='--', lw=1.0)\n",
    "ax.set(title=title, xlabel=xlabel, ylabel=ylabel)\n",
    "ax.grid(True, alpha=0.25)\n",
    "plt.tight_layout()\n",
    "\n",
    "print(f'Plotted {lines_plotted} stops.')\n"
   ]
  },
  {
   "cell_type": "markdown",
   "id": "71",
   "metadata": {},
   "source": [
    "# Hyperparam tuning (try different configs)"
   ]
  },
  {
   "cell_type": "markdown",
   "id": "72",
   "metadata": {},
   "source": [
    "## just elastic net"
   ]
  },
  {
   "cell_type": "code",
   "execution_count": null,
   "id": "73",
   "metadata": {},
   "outputs": [],
   "source": [
    "\n",
    "\n",
    "res = stop_glm_fit.glm_mini_report(\n",
    "    df_X, df_Y, offset_log,\n",
    "    regularization='elasticnet',\n",
    "    # alpha_grid=(0.05, 0.1, 0.2, 0.5, 1.0),\n",
    "    # l1_wt_grid=(0.75, 0.5, 0.25, 0.0),\n",
    "    alpha_grid=(0.1, 0.2),\n",
    "    l1_wt_grid=(0.75, 0.5),\n",
    "    groups=cluster_df['stop_cluster_id'].values\n",
    ")"
   ]
  },
  {
   "cell_type": "code",
   "execution_count": null,
   "id": "74",
   "metadata": {},
   "outputs": [],
   "source": [
    "res.keys()"
   ]
  },
  {
   "cell_type": "code",
   "execution_count": null,
   "id": "75",
   "metadata": {},
   "outputs": [],
   "source": [
    "res['cv_tables_df']"
   ]
  },
  {
   "cell_type": "code",
   "execution_count": null,
   "id": "76",
   "metadata": {},
   "outputs": [],
   "source": [
    "res['metrics_df']"
   ]
  },
  {
   "cell_type": "code",
   "execution_count": null,
   "id": "77",
   "metadata": {},
   "outputs": [],
   "source": [
    "res['figures']['rr_hist']"
   ]
  },
  {
   "cell_type": "code",
   "execution_count": null,
   "id": "78",
   "metadata": {},
   "outputs": [],
   "source": [
    "# all chosen alphas\n",
    "print(res['metrics_df']['alpha'].value_counts())\n",
    "\n",
    "# mean/median chosen alpha across clusters\n",
    "print(res['metrics_df']['alpha'].agg(['mean','median']))\n",
    "\n",
    "# joint distribution of alpha × l1_wt\n",
    "pd.crosstab(res['metrics_df']['alpha'], res['metrics_df']['l1_wt'])\n"
   ]
  },
  {
   "cell_type": "markdown",
   "id": "79",
   "metadata": {},
   "source": [
    "## configs (systematic)"
   ]
  },
  {
   "cell_type": "code",
   "execution_count": null,
   "id": "80",
   "metadata": {},
   "outputs": [],
   "source": [
    "configs = [\n",
    "    # 1) Ridge (ultra-light grid) ─ combos: ~18\n",
    "    dict(name='Poisson_Ridge_ultra',\n",
    "         regularization='elasticnet',\n",
    "         alpha_grid=tuple(np.concatenate([\n",
    "             np.logspace(-6, -4.7, 6),   # 1e-6 … ~2e-5\n",
    "             np.logspace(-4.7, -2.3, 12) # ~2e-5 … 5e-3\n",
    "         ])),\n",
    "         l1_wt_grid=(0.0,),                 # pure L2\n",
    "         cv_metric='loglik', n_splits=5, cov_type='HC1',\n",
    "         refit_on_support=False),\n",
    "\n",
    "    # 2) Lasso (ultra-light grid) + refit ─ combos: ~16\n",
    "    dict(name='Poisson_Lasso_ultra_refit',\n",
    "         regularization='elasticnet',\n",
    "         alpha_grid=tuple(np.concatenate([\n",
    "             np.logspace(-6, -4.7, 6),   # 1e-6 … ~2e-5\n",
    "             np.logspace(-4.7, -3.3, 10) # ~2e-5 … 5e-4\n",
    "         ])),\n",
    "         l1_wt_grid=(1.0,),                 # pure L1\n",
    "         cv_metric='loglik', n_splits=5, cov_type='HC1',\n",
    "         refit_on_support=True),\n",
    "    \n",
    "    \n",
    "    # 0) Plain Poisson MLE, robust SEs (baseline) ─ combos: 1\n",
    "    dict(name='Poisson_MLE_HC3',\n",
    "         regularization='none',\n",
    "         alpha_grid=(0.0,), l1_wt_grid=(0.0,),\n",
    "         cv_metric='loglik', n_splits=5, cov_type='HC3',\n",
    "         refit_on_support=False),\n",
    "\n",
    "]\n"
   ]
  },
  {
   "cell_type": "code",
   "execution_count": null,
   "id": "81",
   "metadata": {},
   "outputs": [],
   "source": [
    "# configs = [\n",
    "#     # 0) Plain Poisson MLE, robust SEs (baseline)  ─ combos: 1\n",
    "#     dict(name='Poisson_MLE_HC3',\n",
    "#          regularization='none',\n",
    "#          alpha_grid=(0.0,), l1_wt_grid=(0.0,),\n",
    "#          cv_metric='loglik', n_splits=5, cov_type='HC3',\n",
    "#          refit_on_support=False),\n",
    "\n",
    "#     # 1) Ridge (fine grid) ─ combos: 20\n",
    "#     dict(name='Poisson_Ridge_fine',\n",
    "#          regularization='elasticnet',\n",
    "#          alpha_grid=tuple(np.logspace(-4, 2, 20)),\n",
    "#          l1_wt_grid=(0.0,),                 # pure L2\n",
    "#          cv_metric='loglik', n_splits=5, cov_type='HC1',\n",
    "#          refit_on_support=False),\n",
    "\n",
    "#     # 2) Lasso (fine) + refit ─ combos: 20\n",
    "#     dict(name='Poisson_Lasso_refit_fine',\n",
    "#          regularization='elasticnet',\n",
    "#          alpha_grid=tuple(np.logspace(-4, 0, 20)),\n",
    "#          l1_wt_grid=(1.0,),                 # pure L1\n",
    "#          cv_metric='loglik', n_splits=5, cov_type='HC1',\n",
    "#          refit_on_support=True),\n",
    "\n",
    "#     # 3) Elastic-Net (mix) ─ combos: 14 × 5 = 70  ← HEAVY\n",
    "#     dict(name='Poisson_EN_fine',\n",
    "#          regularization='elasticnet',\n",
    "#          alpha_grid=tuple(np.logspace(-4, 1, 14)),\n",
    "#          l1_wt_grid=(1.0, 0.75, 0.5, 0.25, 0.0),\n",
    "#          cv_metric='loglik', n_splits=5, cov_type='HC1',\n",
    "#          refit_on_support=True),\n",
    "\n",
    "#     # 4) EN, time-aware CV ─ combos: 12 × 3 = 36\n",
    "#     dict(name='Poisson_EN_timecv',\n",
    "#          regularization='elasticnet',\n",
    "#          alpha_grid=tuple(np.logspace(-4, 0, 12)),\n",
    "#          l1_wt_grid=(1.0, 0.5, 0.0),\n",
    "#          cv_metric='loglik', n_splits=5, cov_type='HC1',\n",
    "#          refit_on_support=True,\n",
    "#          cv_splitter='blocked_time'),\n",
    "\n",
    "#     # 5) Ridge, time-aware CV ─ combos: 16\n",
    "#     dict(name='Poisson_Ridge_timecv',\n",
    "#          regularization='elasticnet',\n",
    "#          alpha_grid=tuple(np.logspace(-4, 1, 16)),\n",
    "#          l1_wt_grid=(0.0,),\n",
    "#          cv_metric='loglik', n_splits=5, cov_type='HC1',\n",
    "#          refit_on_support=False,\n",
    "#          cv_splitter='blocked_time'),\n",
    "\n",
    "#     # 6) Lasso (HC3) + refit ─ combos: 16\n",
    "#     dict(name='Poisson_Lasso_HC3_refit',\n",
    "#          regularization='elasticnet',\n",
    "#          alpha_grid=tuple(np.logspace(-4, 0, 16)),\n",
    "#          l1_wt_grid=(1.0,),\n",
    "#          cv_metric='loglik', n_splits=5, cov_type='HC3',\n",
    "#          refit_on_support=True),\n",
    "\n",
    "#     # 7) EN (deviance CV metric) ─ combos: 10 × 4 = 40\n",
    "#     dict(name='Poisson_EN_devianceCV',\n",
    "#          regularization='elasticnet',\n",
    "#          alpha_grid=tuple(np.logspace(-3, 0.7, 10)),\n",
    "#          l1_wt_grid=(1.0, 0.5, 0.25, 0.0),\n",
    "#          cv_metric='deviance', n_splits=5, cov_type='HC1',\n",
    "#          refit_on_support=True),\n",
    "\n",
    "#     # 8) Quasi-Poisson flavor (same mean; inflated SEs) ─ combos: 1\n",
    "#     dict(name='QuasiPoisson_like',\n",
    "#          regularization='none',\n",
    "#          alpha_grid=(0.0,), l1_wt_grid=(0.0,),\n",
    "#          cv_metric='deviance', n_splits=5, cov_type='HC3',\n",
    "#          refit_on_support=False,\n",
    "#          use_overdispersion_scale=True),\n",
    "# ]\n"
   ]
  },
  {
   "cell_type": "markdown",
   "id": "82",
   "metadata": {},
   "source": [
    "## compare (w class)"
   ]
  },
  {
   "cell_type": "code",
   "execution_count": null,
   "id": "83",
   "metadata": {},
   "outputs": [],
   "source": [
    "# 1) Build your configs (as before)\n",
    "configs = [\n",
    "    dict(name='Poisson_MLE_HC3',\n",
    "         regularization='none',\n",
    "         alpha_grid=(0.0,), l1_wt_grid=(0.0,),\n",
    "         cv_metric='loglik', n_splits=5, cov_type='HC3',\n",
    "         refit_on_support=False),\n",
    "    dict(name='Poisson_Ridge_fine',\n",
    "         regularization='elasticnet',\n",
    "         alpha_grid=tuple(np.logspace(-4, 2, 20)),\n",
    "         l1_wt_grid=(0.0,),\n",
    "         cv_metric='loglik', n_splits=5, cov_type='HC1',\n",
    "         refit_on_support=False),\n",
    "    # ...\n",
    "]\n",
    "\n",
    "# 2) Spin up the runner\n",
    "runner = glm_hyperparams_class.SweepAndCompare(\n",
    "    configs=configs,\n",
    "    df_X=df_X,\n",
    "    df_Y=df_Y,\n",
    "    offset_log=offset_log,\n",
    "    fit_fn=glm_hyperparams_class.fit_fn,                           # <-- the adapter above\n",
    "    feature_names=list(df_X.columns),\n",
    "    cluster_ids=list(df_Y.columns),\n",
    "    groups=cluster_df['stop_cluster_id'].values,\n",
    "    cov_type='HC1',\n",
    "    out_dir='sweep_compare_out',\n",
    "    autosave=True,\n",
    "    autosave_every=1,\n",
    "    extra_fit_kwargs=dict(\n",
    "        cv_splitter=None,                    # or 'blocked_time'\n",
    "        use_overdispersion_scale=False,\n",
    "        add_outer_cv_summary=True,           # optional: outer-CV summary\n",
    "    ),\n",
    ")\n",
    "\n",
    "# 3) Run (and safely interrupt/resume any time)\n",
    "runner.run()\n",
    "summary_df = runner.get_summary()\n",
    "cv_tables_df   = runner.get_cv_tables()\n",
    "results = runner.per_config_results\n"
   ]
  },
  {
   "cell_type": "code",
   "execution_count": null,
   "id": "84",
   "metadata": {},
   "outputs": [],
   "source": [
    "runner.per_config_results  # list of dicts (detailed)\n",
    "\n",
    "# resume later from checkpoint:\n",
    "resumed = glm_hyperparams_class.SweepAndCompare.load_from_checkpoint(\n",
    "    checkpoint_dir=runner._ckpt_dir,\n",
    "    df_X=df_X, df_Y=df_Y, offset_log=offset_log, fit_fn=glm_hyperparams_class.fit_fn,\n",
    "    feature_names=list(df_X.columns), cluster_ids=list(df_Y.columns), groups=cluster_df['stop_cluster_id'].values\n",
    ")\n",
    "resumed.run()   # continues only the unfinished configs\n"
   ]
  },
  {
   "cell_type": "markdown",
   "id": "85",
   "metadata": {},
   "source": [
    "## win"
   ]
  },
  {
   "cell_type": "code",
   "execution_count": null,
   "id": "86",
   "metadata": {},
   "outputs": [],
   "source": [
    "# cv_tables_df = pd.read_csv(\"all_monkey_data/glm_runs/glm_sweep_2025-09-06/cv_tables.csv\")\n",
    "# summary_df = pd.read_csv(\"all_monkey_data/glm_runs/glm_sweep_2025-09-06/summary.csv\")\n"
   ]
  },
  {
   "cell_type": "code",
   "execution_count": null,
   "id": "87",
   "metadata": {},
   "outputs": [],
   "source": [
    "cv_all = cv_tables_df  # shorthand: concatenated CV results across ALL configs\n",
    "                       # expected columns: ['config','cluster','alpha','l1_wt','score','rank','selected',...]\n",
    "\n",
    "# ---------------- Winner frequency by hyper-params ----------------\n",
    "# Filter to the *winning* combo per (config, cluster): rows where `selected == True`.\n",
    "# Then count how many clusters each (alpha, l1_wt) won within each config.\n",
    "wins = (\n",
    "    cv_all[cv_all['selected']]\n",
    "      .groupby(['config', 'alpha', 'l1_wt'])   # tally wins per config and hyper-param combo\n",
    "      .size()                                  # number of clusters where this combo was selected\n",
    "      .rename('wins')                          # name the count column\n",
    "      .reset_index()                           # turn groupby index back into columns\n",
    "      .sort_values(['config', 'wins'],        # show most frequent winners first within each config\n",
    "                   ascending=[True, False])\n",
    ")\n",
    "print(wins.head(12))\n"
   ]
  },
  {
   "cell_type": "code",
   "execution_count": null,
   "id": "88",
   "metadata": {},
   "outputs": [],
   "source": [
    "# ---------------- “Gap to 2nd best” per cluster ----------------\n",
    "# This measures how decisively the winning combo beat the runner-up for each (config, cluster).\n",
    "# Larger gap => more confidence that the chosen hyper-params are truly better for that cluster.\n",
    "\n",
    "def gap_to_second(g):\n",
    "    \"\"\"\n",
    "    Given a group g containing all CV rows for a single (config, cluster),\n",
    "    compute the difference between the best and the second-best CV score.\n",
    "    Return NaN if there aren't at least two candidates.\n",
    "    \"\"\"\n",
    "    s = g.sort_values('score', ascending=False)['score'].to_numpy()\n",
    "    return np.nan if len(s) < 2 else (s[0] - s[1])\n",
    "\n",
    "# Apply the gap function per (config, cluster) and summarize by config.\n",
    "gap = (\n",
    "    cv_all.groupby(['config', 'cluster'])\n",
    "          .apply(gap_to_second)                # gap per cluster within each config\n",
    "          .rename('cv_gap_next')               # name the metric\n",
    "          .reset_index()\n",
    ")\n",
    "\n",
    "# Summary stats (count/mean/std/min/quantiles/max) of gap sizes per config.\n",
    "gap_summary = gap.groupby('config')['cv_gap_next'].describe()\n",
    "print(gap_summary)"
   ]
  },
  {
   "cell_type": "code",
   "execution_count": null,
   "id": "89",
   "metadata": {},
   "outputs": [],
   "source": [
    "# Spot convergence problems quickly\n",
    "fails = cv_all.query(\"fit_attempted == True and (fit_ok == False)\")\n",
    "if not fails.empty:\n",
    "    print(\"Combos that failed to fit:\")\n",
    "    display(fails[['config','cluster','alpha','l1_wt','error']].head(20))\n"
   ]
  },
  {
   "cell_type": "code",
   "execution_count": null,
   "id": "90",
   "metadata": {},
   "outputs": [],
   "source": [
    "best_cfg = summary_df.iloc[0]['config']          # already sorted by your criteria\n",
    "winners, dist = compare_glm_configs.show_hyperparams_for_config(results, best_cfg)\n",
    "print('Chosen config:', best_cfg)\n",
    "print('Per-cluster α/l1_wt:\\n', winners)\n",
    "print('Winning-combo counts:\\n', dist)"
   ]
  },
  {
   "cell_type": "code",
   "execution_count": null,
   "id": "91",
   "metadata": {},
   "outputs": [],
   "source": [
    "# or choose one config\n",
    "winners, dist = compare_glm_configs.show_hyperparams_for_config(results, 'ElasticNet')\n",
    "print(winners)   # α & l1_wt per cluster\n",
    "print(dist)      # how often each combo won\n"
   ]
  },
  {
   "cell_type": "code",
   "execution_count": null,
   "id": "92",
   "metadata": {},
   "outputs": [],
   "source": [
    "# CV-table driven reporting across all configs\n",
    "\n",
    "# winners across all configs (needs the concatenated cv_tables_df returned by sweep_and_compare)\n",
    "winners_all = (cv_tables_df[cv_tables_df['selected']]\n",
    "               .groupby(['config','alpha','l1_wt'])\n",
    "               .size().rename('n_clusters')\n",
    "               .reset_index()\n",
    "               .sort_values(['config','n_clusters'], ascending=[True, False]))\n",
    "\n",
    "# “confidence” in choice per cluster (gap to 2nd best)\n",
    "def gap_to_second(g):\n",
    "    s = g.sort_values('score', ascending=False)['score'].to_numpy()\n",
    "    return np.nan if len(s) < 2 else s[0] - s[1]\n",
    "\n",
    "cv_gaps = (cv_tables_df.groupby(['config','cluster'])\n",
    "           .apply(gap_to_second).rename('cv_gap_next').reset_index())\n",
    "cv_gaps"
   ]
  },
  {
   "cell_type": "code",
   "execution_count": null,
   "id": "93",
   "metadata": {},
   "outputs": [],
   "source": [
    "# best for cluster\n",
    "# grab that config’s result dict\n",
    "best_config = summary_df.iloc[0]['config']\n",
    "print('Best config:', best_config)\n",
    "\n",
    "res_best = next(r for r in results if r['config'] == best_config)\n",
    "\n",
    "# 1) From metrics_df (one row per cluster)\n",
    "if {'cluster','alpha','l1_wt'}.issubset(res_best['metrics_df'].columns):\n",
    "    winners = res_best['metrics_df'][['cluster','alpha','l1_wt']].sort_values('cluster')\n",
    "else:\n",
    "    # 2) Fallback: from CV grid (selected == True)\n",
    "    winners = (res_best['cv_tables_df']\n",
    "               .query('selected')\n",
    "               [['cluster','alpha','l1_wt','score']]\n",
    "               .sort_values(['cluster']))\n",
    "print(winners)\n"
   ]
  },
  {
   "cell_type": "code",
   "execution_count": null,
   "id": "94",
   "metadata": {},
   "outputs": [],
   "source": [
    "# Best hyper-params across all configs (using the concatenated CV grid)\n",
    "# one row per cluster where the winning combo was chosen under each config\n",
    "chosen = (cv_tables_df.query('selected')\n",
    "          [['config','cluster','alpha','l1_wt','score']]\n",
    "          .sort_values(['config','cluster']))\n",
    "print(chosen.head())\n"
   ]
  },
  {
   "cell_type": "markdown",
   "id": "95",
   "metadata": {},
   "source": [
    "# Appendix"
   ]
  },
  {
   "cell_type": "markdown",
   "id": "96",
   "metadata": {},
   "source": [
    "## Debug ff dataframe"
   ]
  },
  {
   "cell_type": "code",
   "execution_count": null,
   "id": "97",
   "metadata": {},
   "outputs": [],
   "source": [
    "pn.make_or_retrieve_ff_dataframe()"
   ]
  },
  {
   "cell_type": "code",
   "execution_count": null,
   "id": "98",
   "metadata": {},
   "outputs": [],
   "source": [
    "pn.ff_dataframe"
   ]
  },
  {
   "cell_type": "code",
   "execution_count": null,
   "id": "99",
   "metadata": {},
   "outputs": [],
   "source": [
    "pn.ff_dataframe.shape"
   ]
  },
  {
   "cell_type": "code",
   "execution_count": null,
   "id": "100",
   "metadata": {},
   "outputs": [],
   "source": [
    "h5_file_pathway = os.path.join(os.path.join(\n",
    "    pn.processed_data_folder_path, 'ff_dataframe.h5'))\n",
    "\n",
    "h5_file_pathway = 'all_monkey_data/processed_data/monkey_Schro/data_0413/ff_dataframe.h5'\n",
    "\n",
    "ff_dataframe = pd.read_hdf(h5_file_pathway, 'ff_dataframe')\n",
    "print(\"Retrieved ff_dataframe from\", h5_file_pathway)\n",
    "ff_dataframe"
   ]
  },
  {
   "cell_type": "markdown",
   "id": "101",
   "metadata": {},
   "source": [
    "## use concat_new_seg_info"
   ]
  },
  {
   "cell_type": "code",
   "execution_count": null,
   "id": "102",
   "metadata": {},
   "outputs": [],
   "source": [
    "new_seg_info['new_segment'] = np.arange(len(new_seg_info))"
   ]
  },
  {
   "cell_type": "code",
   "execution_count": null,
   "id": "103",
   "metadata": {},
   "outputs": [],
   "source": [
    "concat_seg_data = pn_utils.concat_new_seg_info(\n",
    "    pn.monkey_information, new_seg_info, bin_width=0.04)\n",
    "\n",
    "concat_seg_data['time_since_start_time'] = concat_seg_data['time'] - concat_seg_data['new_seg_start_time']\n",
    "concat_seg_data['dt'] = np.minimum(concat_seg_data['time_since_start_time'], concat_seg_data['dt'])\n"
   ]
  }
 ],
 "metadata": {
  "kernelspec": {
   "display_name": "multiff_clean",
   "language": "python",
   "name": "python3"
  },
  "language_info": {
   "codemirror_mode": {
    "name": "ipython",
    "version": 3
   },
   "file_extension": ".py",
   "mimetype": "text/x-python",
   "name": "python",
   "nbconvert_exporter": "python",
   "pygments_lexer": "ipython3",
   "version": "3.11.11"
  }
 },
 "nbformat": 4,
 "nbformat_minor": 5
}
