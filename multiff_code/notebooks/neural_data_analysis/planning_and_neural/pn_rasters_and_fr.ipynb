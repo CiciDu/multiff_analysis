{
 "cells": [
  {
   "cell_type": "markdown",
   "metadata": {},
   "source": [
    "# Import packages"
   ]
  },
  {
   "cell_type": "code",
   "execution_count": null,
   "metadata": {},
   "outputs": [],
   "source": [
    "%load_ext autoreload\n",
    "%autoreload 2\n",
    "\n",
    "import os, sys, sys\n",
    "from pathlib import Path\n",
    "for p in [Path.cwd()] + list(Path.cwd().parents):\n",
    "    if p.name == 'Multifirefly-Project':\n",
    "        os.chdir(p)\n",
    "        sys.path.insert(0, str(p / 'multiff_analysis/multiff_code/methods'))\n",
    "        break\n",
    "    \n",
    "from data_wrangling import specific_utils, process_monkey_information, general_utils\n",
    "from pattern_discovery import pattern_by_trials, pattern_by_trials, cluster_analysis, organize_patterns_and_features\n",
    "from visualization.matplotlib_tools import plot_behaviors_utils\n",
    "from neural_data_analysis.neural_analysis_tools.get_neural_data import neural_data_processing\n",
    "from neural_data_analysis.neural_analysis_tools.visualize_neural_data import plot_neural_data, plot_modeling_result, find_tuning_curves, raster_plot, trial_aligned_tuning_curves\n",
    "from neural_data_analysis.neural_analysis_tools.test_neural_response import compare_firing_rate\n",
    "from neural_data_analysis.neural_analysis_tools.model_neural_data import transform_vars, neural_data_modeling, drop_high_corr_vars, drop_high_vif_vars\n",
    "from neural_data_analysis.topic_based_neural_analysis.neural_vs_behavioral import prep_monkey_data, prep_target_data, neural_vs_behavioral_class\n",
    "from neural_data_analysis.topic_based_neural_analysis.planning_and_neural import planning_and_neural_class, pn_utils, pn_helper_class, pn_aligned_by_seg, pn_aligned_by_event\n",
    "from neural_data_analysis.neural_analysis_tools.cca_methods import cca_class\n",
    "from neural_data_analysis.neural_analysis_tools.cca_methods import cca_class, cca_utils, cca_cv_utils\n",
    "from neural_data_analysis.neural_analysis_tools.cca_methods.cca_plotting import cca_plotting, cca_plot_lag_vs_no_lag, cca_plot_cv\n",
    "from machine_learning.ml_methods import regression_utils, regz_regression_utils, ml_methods_class, classification_utils, ml_plotting_utils, ml_methods_utils\n",
    "from planning_analysis.show_planning import nxt_ff_utils, show_planning_utils\n",
    "from neural_data_analysis.neural_analysis_tools.gpfa_methods import elephant_utils, fit_gpfa_utils, plot_gpfa_utils, gpfa_helper_class\n",
    "from neural_data_analysis.neural_analysis_tools.align_trials import time_resolved_regression, time_resolved_gpfa_regression,plot_time_resolved_regression\n",
    "\n",
    "import sys\n",
    "import math\n",
    "import gc\n",
    "import subprocess\n",
    "from pathlib import Path\n",
    "from importlib import reload\n",
    "\n",
    "# Third-party imports\n",
    "import numpy as np\n",
    "import pandas as pd\n",
    "import matplotlib\n",
    "import matplotlib.pyplot as plt\n",
    "import seaborn as sns\n",
    "from matplotlib import rc\n",
    "from scipy import linalg, interpolate\n",
    "from scipy.signal import fftconvolve\n",
    "from scipy.io import loadmat\n",
    "from scipy import sparse\n",
    "import torch\n",
    "from numpy import pi\n",
    "\n",
    "# Machine Learning imports\n",
    "from sklearn.metrics import mean_squared_error, r2_score\n",
    "from sklearn.linear_model import LinearRegression, Ridge\n",
    "from sklearn.preprocessing import StandardScaler\n",
    "from sklearn.model_selection import train_test_split, GridSearchCV\n",
    "from statsmodels.stats.outliers_influence import variance_inflation_factor\n",
    "from statsmodels.multivariate.cancorr import CanCorr\n",
    "\n",
    "# Neuroscience specific imports\n",
    "import neo\n",
    "import rcca\n",
    "import quantities as pq\n",
    "\n",
    "plt.rcParams[\"animation.html\"] = \"html5\"\n",
    "os.environ['KMP_DUPLICATE_LIB_OK']='True'\n",
    "rc('animation', html='jshtml')\n",
    "matplotlib.rcParams.update(matplotlib.rcParamsDefault)\n",
    "matplotlib.rcParams['animation.embed_limit'] = 2**128\n",
    "pd.set_option('display.float_format', lambda x: '%.5f' % x)\n",
    "np.set_printoptions(suppress=True)\n",
    "print(\"done\")\n",
    "\n",
    "%load_ext autoreload\n",
    "%autoreload 2"
   ]
  },
  {
   "cell_type": "markdown",
   "metadata": {},
   "source": [
    "# retrieve data"
   ]
  },
  {
   "cell_type": "code",
   "execution_count": null,
   "metadata": {},
   "outputs": [],
   "source": [
    "raw_data_folder_path = \"all_monkey_data/raw_monkey_data/monkey_Schro/data_0416\"\n",
    "# raw_data_folder_path = \"all_monkey_data/raw_monkey_data/monkey_Schro/data_0321\"\n",
    "# raw_data_folder_path = \"all_monkey_data/raw_monkey_data/monkey_Schro/data_0329\""
   ]
  },
  {
   "cell_type": "code",
   "execution_count": null,
   "metadata": {},
   "outputs": [],
   "source": [
    "# raw_data_folder_path = \"all_monkey_data/raw_monkey_data/monkey_Bruno/data_0312\"\n",
    "# raw_data_folder_path = \"all_monkey_data/raw_monkey_data/monkey_Bruno/data_0330\"\n",
    "# raw_data_folder_path = \"all_monkey_data/raw_monkey_data/monkey_Bruno/data_0316\"\n",
    "# raw_data_folder_path = \"all_monkey_data/raw_monkey_data/monkey_Bruno/data_0327\"\n",
    "# raw_data_folder_path = \"all_monkey_data/raw_monkey_data/monkey_Bruno/data_0328\""
   ]
  },
  {
   "cell_type": "code",
   "execution_count": null,
   "metadata": {},
   "outputs": [],
   "source": [
    "reduce_y_var_lags = False\n",
    "planning_data_by_point_exists_ok = True\n",
    "y_data_exists_ok = False\n",
    "\n",
    "pn = pn_aligned_by_event.PlanningAndNeuralEventAligned(raw_data_folder_path=raw_data_folder_path)\n",
    "pn.prep_data_to_analyze_planning(planning_data_by_point_exists_ok=planning_data_by_point_exists_ok,\n",
    "                                 add_behav_data=False,\n",
    "                                 put_data_into_bins=False)\n",
    "pn.load_raw_data()\n",
    "pn.spikes_df = neural_data_processing.make_spikes_df(pn.raw_data_folder_path, pn.ff_caught_T_sorted, sampling_rate=pn.sampling_rate)"
   ]
  },
  {
   "cell_type": "code",
   "execution_count": null,
   "metadata": {},
   "outputs": [],
   "source": [
    "#event_df = pn.get_new_ff_first_or_last_time(cur_or_nxt='cur', first_or_last='first', time_limit_to_count_sighting=2)          \n",
    "pn.get_new_seg_info(cur_or_nxt='cur', first_or_last='first', time_limit_to_count_sighting=2, pre_event_window=0.25, post_event_window=0.75, exists_ok=False)"
   ]
  },
  {
   "cell_type": "code",
   "execution_count": null,
   "metadata": {},
   "outputs": [],
   "source": [
    "stop!"
   ]
  },
  {
   "cell_type": "markdown",
   "metadata": {},
   "source": [
    "# raster + fr"
   ]
  },
  {
   "cell_type": "markdown",
   "metadata": {},
   "source": [
    "## both"
   ]
  },
  {
   "cell_type": "code",
   "execution_count": null,
   "metadata": {},
   "outputs": [],
   "source": [
    "# distribute data into new_segments and add rel_spike_time\n",
    "pn.get_new_seg_info(cur_or_nxt='nxt', first_or_last='first', time_limit_to_count_sighting=2, pre_event_window=0.75, post_event_window=0.75, exists_ok=False)\n",
    "\n",
    "new_seg_info2 = pn.new_seg_info.copy()\n",
    "new_seg_info2['new_seg_start_time'] = new_seg_info2['event_time'] - 1\n",
    "new_seg_info2['new_seg_end_time'] = new_seg_info2['stop_time']\n",
    "aligned_spike_trains = raster_plot.prepare_aligned_spike_trains(new_seg_info2, pn.spikes_df)"
   ]
  },
  {
   "cell_type": "code",
   "execution_count": null,
   "metadata": {},
   "outputs": [],
   "source": [
    "aligned_spike_trains"
   ]
  },
  {
   "cell_type": "code",
   "execution_count": null,
   "metadata": {},
   "outputs": [],
   "source": [
    "aligned_spike_trains = raster_plot.add_relative_times(aligned_spike_trains, reference_time_col='event_time')\n",
    "aligned_spike_trains = raster_plot.add_scaling_info(aligned_spike_trains, scale_anchor_col='event_time',\n",
    "                                                    scale_factor_upper_col='stop_time',\n",
    "                                                    scale_factor_lower_col='scale_anchor')\n",
    "\n",
    "raster_plot.plot_rasters_and_fr(\n",
    "    aligned_spike_trains, new_seg_info2, pn.binned_spikes_df, pn.bin_width,\n",
    "    cluster_col='cluster',\n",
    "    bins_per_aggregate=300, plot_mean=True,\n",
    "    max_clusters_to_plot=10, max_segments_to_plot=None,\n",
    "    max_time=None\n",
    ")"
   ]
  },
  {
   "cell_type": "markdown",
   "metadata": {},
   "source": [
    "## plot rastors only"
   ]
  },
  {
   "cell_type": "code",
   "execution_count": null,
   "metadata": {},
   "outputs": [],
   "source": [
    "# distribute data into new_segments and add rel_spike_time\n",
    "pn.get_new_seg_info(cur_or_nxt='nxt', first_or_last='first', time_limit_to_count_sighting=2, pre_event_window=0.75, post_event_window=0.75, exists_ok=False)\n",
    "\n",
    "new_seg_info2 = pn.new_seg_info.copy()\n",
    "new_seg_info2['new_seg_start_time'] = new_seg_info2['event_time'] - 1\n",
    "new_seg_info2['new_seg_end_time'] = new_seg_info2['stop_time']\n",
    "aligned_spike_trains = raster_plot.prepare_aligned_spike_trains(new_seg_info2, pn.spikes_df)\n"
   ]
  },
  {
   "cell_type": "code",
   "execution_count": null,
   "metadata": {},
   "outputs": [],
   "source": [
    "aligned_spike_trains = raster_plot.add_relative_times(aligned_spike_trains, reference_time_col='event_time')\n",
    "aligned_spike_trains = raster_plot.add_scaling_info(aligned_spike_trains, scale_anchor_col='event_time',\n",
    "                                                    scale_factor_upper_col='stop_time',\n",
    "                                                    scale_factor_lower_col='scale_anchor')\n",
    "\n",
    "raster_plot.plot_rasters(aligned_spike_trains, \n",
    "                         max_clusters_to_plot=None,\n",
    "                         scale_spike_times=True,\n",
    "                         col_to_rearrange_segments='rel_stop_time',\n",
    "                         xmin=-0.5,\n",
    "                        events_to_plot=['rel_event_time', 'rel_stop_time', \n",
    "                                        #'rel_prev_ff_caught_time',\n",
    "                                        #'rel_new_seg_start_time', 'rel_new_seg_end_time'\n",
    "                                        ])"
   ]
  },
  {
   "cell_type": "markdown",
   "metadata": {},
   "source": [
    "## plot fr only"
   ]
  },
  {
   "cell_type": "code",
   "execution_count": null,
   "metadata": {},
   "outputs": [],
   "source": [
    "# one neural cluster per plot \n",
    "plot_neural_data.plot_fr_over_time(pn.binned_spikes_df, pn.bin_width, max_time=pn.ff_caught_T_new[-1], bins_per_aggregate=300, plot_mean=False, num_clusters_per_plot=1)"
   ]
  },
  {
   "cell_type": "markdown",
   "metadata": {},
   "source": [
    "## overall fr"
   ]
  },
  {
   "cell_type": "code",
   "execution_count": null,
   "metadata": {},
   "outputs": [],
   "source": [
    "# check num_total_spikes / total_duration\n",
    "time = pn.binned_spikes_df['bin'].max() * pn.bin_width\n",
    "pn.binned_spikes_df.sum(axis=0)/ time"
   ]
  },
  {
   "cell_type": "code",
   "execution_count": null,
   "metadata": {},
   "outputs": [],
   "source": [
    "# histplot of num_total_spikes / total_duration\n",
    "time = pn.binned_spikes_df['bin'].max() * pn.bin_width\n",
    "rates = pn.binned_spikes_df.sum(axis=0)/ time\n",
    "rates = rates.iloc[:-1]\n",
    "sns.histplot(rates.values, bins=50)"
   ]
  },
  {
   "cell_type": "markdown",
   "metadata": {},
   "source": [
    "# compare fr"
   ]
  },
  {
   "cell_type": "code",
   "execution_count": null,
   "metadata": {},
   "outputs": [],
   "source": [
    "# distribute data into new_segments and add rel_spike_time\n",
    "pn.get_new_seg_info(cur_or_nxt='nxt', first_or_last='first', time_limit_to_count_sighting=2, pre_event_window=0.75, post_event_window=0.75, exists_ok=False)"
   ]
  },
  {
   "cell_type": "code",
   "execution_count": null,
   "metadata": {},
   "outputs": [],
   "source": [
    "time_before_event = 0.9\n",
    "time_after_event = 0.9\n",
    "n_bins = 6\n",
    "\n",
    "new_seg_info2 = pn.new_seg_info.copy()\n",
    "new_seg_info2['new_seg_start_time'] = new_seg_info2['event_time'] - time_before_event\n",
    "new_seg_info2['new_seg_end_time'] = new_seg_info2['event_time'] + time_after_event\n",
    "aligned_spike_trains = raster_plot.prepare_aligned_spike_trains(new_seg_info2, pn.spikes_df)\n",
    "\n",
    "aligned_spike_trains = raster_plot.add_relative_times(aligned_spike_trains, reference_time_col='event_time')\n"
   ]
  },
  {
   "cell_type": "code",
   "execution_count": null,
   "metadata": {},
   "outputs": [],
   "source": [
    "result_df = compare_firing_rate.compare_baseline_vs_post_event_from_spikes(\n",
    "    aligned_spike_trains,\n",
    "    pre_window=(-0.3, 0.0),\n",
    "    post_window=(0.0, 0.3),\n",
    "    method='wilcoxon'\n",
    ")\n",
    "result_df.head(10)"
   ]
  },
  {
   "cell_type": "code",
   "execution_count": null,
   "metadata": {},
   "outputs": [],
   "source": [
    "clusters = [11, 17, 19, 21, 50, 54]\n",
    "result_df[result_df['cluster_id'].isin(clusters)]"
   ]
  }
 ],
 "metadata": {
  "kernelspec": {
   "display_name": "ff_venv2",
   "language": "python",
   "name": "python3"
  },
  "language_info": {
   "codemirror_mode": {
    "name": "ipython",
    "version": 3
   },
   "file_extension": ".py",
   "mimetype": "text/x-python",
   "name": "python",
   "nbconvert_exporter": "python",
   "pygments_lexer": "ipython3",
   "version": "3.11.11"
  }
 },
 "nbformat": 4,
 "nbformat_minor": 2
}
