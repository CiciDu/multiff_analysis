{
 "cells": [
  {
   "cell_type": "markdown",
   "metadata": {},
   "source": [
    "# Import packages"
   ]
  },
  {
   "cell_type": "code",
   "execution_count": null,
   "metadata": {},
   "outputs": [],
   "source": [
    "%load_ext autoreload\n",
    "%autoreload 2\n",
    "\n",
    "import os, sys, sys\n",
    "from pathlib import Path\n",
    "for p in [Path.cwd()] + list(Path.cwd().parents):\n",
    "    if p.name == 'Multifirefly-Project':\n",
    "        os.chdir(p)\n",
    "        sys.path.insert(0, str(p / 'multiff_analysis/multiff_code/methods'))\n",
    "        break\n",
    "\n",
    "from data_wrangling import specific_utils, process_monkey_information, general_utils\n",
    "from pattern_discovery import pattern_by_trials, pattern_by_trials, cluster_analysis, organize_patterns_and_features\n",
    "from visualization.matplotlib_tools import plot_behaviors_utils\n",
    "from neural_data_analysis.neural_analysis_tools.get_neural_data import neural_data_processing\n",
    "from neural_data_analysis.neural_analysis_tools.visualize_neural_data import plot_neural_data, plot_modeling_result\n",
    "from neural_data_analysis.neural_analysis_tools.model_neural_data import transform_vars, neural_data_modeling, drop_high_corr_vars, drop_high_vif_vars\n",
    "from neural_data_analysis.topic_based_neural_analysis.neural_vs_behavioral import prep_monkey_data, prep_target_data, neural_vs_behavioral_class\n",
    "from neural_data_analysis.topic_based_neural_analysis.planning_and_neural import planning_and_neural_class, pn_utils, pn_helper_class\n",
    "from neural_data_analysis.neural_analysis_tools.cca_methods import cca_class\n",
    "from neural_data_analysis.neural_analysis_tools.cca_methods import cca_class, cca_utils, cca_cv_utils\n",
    "from neural_data_analysis.neural_analysis_tools.cca_methods.cca_plotting import cca_plotting, cca_plot_lag_vs_no_lag, cca_plot_cv\n",
    "from machine_learning.ml_methods import regression_utils, ml_methods_utils, regz_regression_utils, ml_methods_class, classification_utils, ml_plotting_utils\n",
    "from neural_data_analysis.neural_analysis_tools.glm_tools.prep_predictors import predictor_bases, predictor_utils, other_feats\n",
    "from neural_data_analysis.topic_based_neural_analysis.planning_and_neural import planning_and_neural_class, pn_utils, pn_helper_class, pn_aligned_by_seg, pn_aligned_by_event\n",
    "from neural_data_analysis.neural_analysis_tools.glm_tools.tpg import glm_bases, glm_plotting, glm_plotting2, glm_fit\n",
    "\n",
    "from neural_data_analysis.topic_based_neural_analysis.stop_event_analysis.stop_psth import core_stops_psth, get_stops_utils, psth_postprocessing, psth_stats, compare_events, dpca_utils\n",
    "from neural_data_analysis.topic_based_neural_analysis.stop_event_analysis.stop_glm.glm_fit import stop_glm_fit, cv_stop_glm, glm_fit_utils, variance_explained\n",
    "from neural_data_analysis.topic_based_neural_analysis.stop_event_analysis.stop_glm.glm_plotting import plot_spikes, plot_glm_fit, plot_tuning_func\n",
    "from neural_data_analysis.topic_based_neural_analysis.stop_event_analysis.stop_glm.glm_designs import binning_for_glm, lagged_design, stop_design, cluster_design, design_checks, history_design\n",
    "from neural_data_analysis.topic_based_neural_analysis.stop_event_analysis.stop_glm.glm_hyperparams import compare_glm_configs, glm_hyperparams_class\n",
    "\n",
    "\n",
    "\n",
    "import sys\n",
    "import math\n",
    "import gc\n",
    "import subprocess\n",
    "from pathlib import Path\n",
    "from importlib import reload\n",
    "\n",
    "# Third-party imports\n",
    "import numpy as np\n",
    "import pandas as pd\n",
    "import matplotlib\n",
    "import matplotlib.pyplot as plt\n",
    "import seaborn as sns\n",
    "from matplotlib import rc\n",
    "from scipy import linalg, interpolate\n",
    "from scipy.signal import fftconvolve\n",
    "from scipy.io import loadmat\n",
    "from scipy import sparse\n",
    "from numpy import pi\n",
    "\n",
    "# Machine Learning imports\n",
    "from sklearn.metrics import mean_squared_error, r2_score\n",
    "from sklearn.linear_model import LinearRegression, Ridge\n",
    "from sklearn.preprocessing import StandardScaler\n",
    "from sklearn.model_selection import train_test_split, GridSearchCV\n",
    "from statsmodels.stats.outliers_influence import variance_inflation_factor\n",
    "from statsmodels.multivariate.cancorr import CanCorr\n",
    "\n",
    "# Neuroscience specific imports\n",
    "import neo\n",
    "import rcca\n",
    "\n",
    "plt.rcParams[\"animation.html\"] = \"html5\"\n",
    "os.environ['KMP_DUPLICATE_LIB_OK']='True'\n",
    "rc('animation', html='jshtml')\n",
    "matplotlib.rcParams.update(matplotlib.rcParamsDefault)\n",
    "matplotlib.rcParams['animation.embed_limit'] = 2**128\n",
    "pd.set_option('display.float_format', lambda x: '%.5f' % x)\n",
    "np.set_printoptions(suppress=True)\n",
    "print(\"done\")\n",
    "\n",
    "%load_ext autoreload\n",
    "%autoreload 2"
   ]
  },
  {
   "cell_type": "markdown",
   "metadata": {},
   "source": [
    "# Retrieve data"
   ]
  },
  {
   "cell_type": "markdown",
   "metadata": {},
   "source": [
    "## get data"
   ]
  },
  {
   "cell_type": "code",
   "execution_count": null,
   "metadata": {},
   "outputs": [],
   "source": [
    "raw_data_folder_path = \"all_monkey_data/raw_monkey_data/monkey_Schro/data_0416\""
   ]
  },
  {
   "cell_type": "code",
   "execution_count": null,
   "metadata": {},
   "outputs": [],
   "source": [
    "raw_data_folder_path = \"all_monkey_data/raw_monkey_data/monkey_Bruno/data_0330\""
   ]
  },
  {
   "cell_type": "code",
   "execution_count": null,
   "metadata": {},
   "outputs": [],
   "source": [
    "reload(pn_helper_class)"
   ]
  },
  {
   "cell_type": "code",
   "execution_count": null,
   "metadata": {},
   "outputs": [],
   "source": [
    "reduce_y_var_lags = False\n",
    "planning_data_by_point_exists_ok = True\n",
    "y_data_exists_ok = True\n",
    "\n",
    "pn = pn_aligned_by_event.PlanningAndNeuralEventAligned(raw_data_folder_path=raw_data_folder_path)\n",
    "pn.prep_data_to_analyze_planning(planning_data_by_point_exists_ok=planning_data_by_point_exists_ok)\n",
    "pn.planning_data_by_point, cols_to_drop = general_utils.drop_columns_with_many_nans(\n",
    "    pn.planning_data_by_point)\n",
    "#pn.get_x_and_y_data_for_modeling(exists_ok=y_data_exists_ok, reduce_y_var_lags=reduce_y_var_lags)\n",
    "\n",
    "pn.rebin_data_in_new_segments(cur_or_nxt='cur', first_or_last='first', time_limit_to_count_sighting=2,\n",
    "                                 pre_event_window=0, post_event_window=1.5, rebinned_max_x_lag_number=2)\n",
    "\n",
    "for col in ['cur_vis', 'nxt_vis', 'cur_in_memory', 'nxt_in_memory']:\n",
    "    pn.rebinned_y_var[col] = (pn.rebinned_y_var[col] > 0).astype(int)"
   ]
  },
  {
   "cell_type": "code",
   "execution_count": null,
   "metadata": {},
   "outputs": [],
   "source": [
    "# reduce_y_var_lags = False\n",
    "# planning_data_by_point_exists_ok = False\n",
    "# y_data_exists_ok = True\n",
    "\n",
    "# pn = pn_aligned_by_seg.PlanningAndNeuralSegmentAligned(raw_data_folder_path=raw_data_folder_path)\n",
    "# pn.prep_data_to_analyze_planning(planning_data_by_point_exists_ok=planning_data_by_point_exists_ok)\n",
    "# pn.planning_data_by_point, cols_to_drop = general_utils.drop_columns_with_many_nans(\n",
    "#     pn.planning_data_by_point)\n",
    "# # pn.get_x_and_y_data_for_modeling(exists_ok=y_data_exists_ok, reduce_y_var_lags=reduce_y_var_lags)\n",
    "# pn.rebin_data_in_new_segments(segment_duration=2, rebinned_max_x_lag_number=2)\n",
    "\n",
    "# for col in ['cur_vis', 'nxt_vis', 'cur_in_memory', 'nxt_in_memory']:\n",
    "#     pn.rebinned_y_var[col] = (pn.rebinned_y_var[col] > 0).astype(int)"
   ]
  },
  {
   "cell_type": "code",
   "execution_count": null,
   "metadata": {},
   "outputs": [],
   "source": [
    "pn.rebinned_y_var.columns.tolist()"
   ]
  },
  {
   "cell_type": "markdown",
   "metadata": {},
   "source": [
    "# try stop glm"
   ]
  },
  {
   "cell_type": "code",
   "execution_count": null,
   "metadata": {},
   "outputs": [],
   "source": [
    "pn.rebinned_y_var.groupby('new_segment').size()"
   ]
  },
  {
   "cell_type": "code",
   "execution_count": null,
   "metadata": {},
   "outputs": [],
   "source": [
    "reload(predictor_bases)\n",
    "reload(other_feats)\n",
    "\n",
    "data = pn.rebinned_y_var.copy()\n",
    "trial_ids = data['new_segment']\n",
    "dt = pn.bin_width\n",
    "\n",
    "design_df, meta0, meta = predictor_bases.get_initial_design_df(data, dt, trial_ids)\n",
    "\n",
    "cluster_num = 3\n",
    "y = pn.rebinned_x_var[f'cluster_{cluster_num}']\n",
    "\n",
    "# design_df, meta = predictor_bases.add_spike_history(\n",
    "#     design_df, y, meta0['trial_ids'], dt,\n",
    "#     n_basis=4, t_max=0.20, edge='zero',\n",
    "#     prefix='spk_hist', style='bjk',\n",
    "#     meta=meta\n",
    "# )\n",
    "\n",
    "chk = predictor_utils.check_design_vs_bases(design_df, meta, strict=True)\n",
    "assert chk['ok'], chk['problems']\n",
    "\n",
    "\n",
    "reload(glm_fit_utils)\n",
    "reload(stop_glm_fit)\n",
    "\n"
   ]
  },
  {
   "cell_type": "markdown",
   "metadata": {},
   "source": [
    "## check data"
   ]
  },
  {
   "cell_type": "code",
   "execution_count": null,
   "metadata": {},
   "outputs": [],
   "source": [
    "# Collinearity & rank issues\n",
    "import numpy as np\n",
    "X = design_df.to_numpy(dtype=float)\n",
    "u, s, vT = np.linalg.svd(X, full_matrices=False)\n",
    "cond = s.max()/max(s.min(), 1e-12)\n",
    "print('cond=', cond)\n"
   ]
  },
  {
   "cell_type": "code",
   "execution_count": null,
   "metadata": {},
   "outputs": [],
   "source": [
    "meta['groups']"
   ]
  },
  {
   "cell_type": "code",
   "execution_count": null,
   "metadata": {},
   "outputs": [],
   "source": [
    "# design_df.describe().T"
   ]
  },
  {
   "cell_type": "markdown",
   "metadata": {},
   "source": [
    "## fit"
   ]
  },
  {
   "cell_type": "code",
   "execution_count": null,
   "metadata": {},
   "outputs": [],
   "source": [
    "df_X = design_df\n",
    "print('df_X.shape:', df_X.shape)\n",
    "cluster_cols = [col for col in pn.rebinned_x_var.columns if col.startswith('cluster_')]\n",
    "df_Y = pn.rebinned_x_var[cluster_cols]\n",
    "df_Y.columns = df_Y.columns.str.replace('cluster_', '').astype(int)\n"
   ]
  },
  {
   "cell_type": "code",
   "execution_count": null,
   "metadata": {},
   "outputs": [],
   "source": [
    "exposure = np.full_like(y, fill_value=pn.bin_width, dtype=float)\n",
    "offset_log = np.log(exposure)\n",
    "\n",
    "report = stop_glm_fit.glm_mini_report(\n",
    "    df_X=df_X, df_Y=df_Y, offset_log=offset_log,\n",
    "    cov_type='HC1',            # or 'nonrobust' for even faster\n",
    "    fast_mle=True,             # << use the ultra-fast path\n",
    "    do_inference=True,        # skip FDR/ratios/pop-tests\n",
    "    make_plots=True,          # skip figure creation\n",
    "    show_plots=True,          # nothing to display\n",
    ")\n"
   ]
  },
  {
   "cell_type": "code",
   "execution_count": null,
   "metadata": {},
   "outputs": [],
   "source": [
    "coefs_df    = report['coefs_df']\n",
    "metrics_df  = report['metrics_df']\n",
    "pop_tests   = report['population_tests_df']\n",
    "metrics_df"
   ]
  },
  {
   "cell_type": "markdown",
   "metadata": {},
   "source": [
    "## VE"
   ]
  },
  {
   "cell_type": "code",
   "execution_count": null,
   "metadata": {},
   "outputs": [],
   "source": [
    "reload(variance_explained)\n",
    "df_Y_pred = variance_explained.build_df_Y_pred_from_results(\n",
    "    results=report['results'],\n",
    "    df_X=df_X,\n",
    "    offset_log=offset_log,\n",
    "    df_Y=df_Y\n",
    ")\n",
    "\n",
    "# sanity checks\n",
    "assert df_Y_pred.shape == df_Y.shape\n",
    "assert np.isfinite(df_Y_pred.values).all()"
   ]
  },
  {
   "cell_type": "code",
   "execution_count": null,
   "metadata": {},
   "outputs": [],
   "source": [
    "# Convert observed/predicted DataFrames to arrays\n",
    "X = df_Y.to_numpy()      # observed counts\n",
    "X_hat = df_Y_pred.to_numpy() # predicted expected counts\n",
    "#stop_ids = meta_used['stop_id'].to_numpy()\n",
    "stop_ids = pn.rebinned_x_var['new_segment'].to_numpy()\n",
    "\n",
    "ve_pop, k_eff = variance_explained.population_VE_in_PCspace(X, X_hat, k=10, center='neuron')\n"
   ]
  },
  {
   "cell_type": "code",
   "execution_count": null,
   "metadata": {},
   "outputs": [],
   "source": [
    "ve_per_neuron, ve_mean = variance_explained.single_neuron_temporal_VE(X, X_hat, aggregate='mean')\n",
    "ve_median = float(np.median(ve_per_neuron))\n",
    "\n",
    "print(f'Mean single-neuron VE:   {ve_mean:.3f}')\n",
    "print(f'Median single-neuron VE: {ve_median:.3f}')\n",
    "\n",
    "variance_explained.plot_single_neuron_VE_hist(ve_per_neuron)\n",
    "\n",
    "ve_pop, k_eff = variance_explained.population_VE_in_PCspace(X, X_hat, k=10, center='neuron')\n",
    "print(f'Population VE in {k_eff} PCs: {ve_pop:.3f}')\n",
    "\n",
    "variance_explained.plot_population_VE_bar(ve_pop)\n"
   ]
  },
  {
   "cell_type": "code",
   "execution_count": null,
   "metadata": {},
   "outputs": [],
   "source": [
    "np.sort(ve_per_neuron)"
   ]
  },
  {
   "cell_type": "code",
   "execution_count": null,
   "metadata": {},
   "outputs": [],
   "source": [
    "# Per-stop breakdown (good for figures)\n",
    "per_stop_df = variance_explained.per_stop_breakdown(X, X_hat, stop_ids=stop_ids, k=10)\n",
    "print(per_stop_df.head())\n",
    "\n",
    "summary_metrics = {\n",
    "    'VE_population_PC': ve_pop,\n",
    "    'VE_single_unit_mean': ve_mean,\n",
    "    'VE_single_unit_median': ve_median,\n",
    "    'PCs_used': k_eff\n",
    "}\n",
    "print(pd.Series(summary_metrics))\n"
   ]
  },
  {
   "cell_type": "code",
   "execution_count": null,
   "metadata": {},
   "outputs": [],
   "source": [
    "stop!"
   ]
  },
  {
   "cell_type": "markdown",
   "metadata": {},
   "source": [
    "## Plot spikes"
   ]
  },
  {
   "cell_type": "code",
   "execution_count": null,
   "metadata": {},
   "outputs": [],
   "source": [
    "reload(plot_spikes)"
   ]
  },
  {
   "cell_type": "code",
   "execution_count": null,
   "metadata": {},
   "outputs": [],
   "source": [
    "cluster_idx = 4\n",
    "\n",
    "pn.rebinned_y_var['rel_time'] = pn.rebinned_y_var['time'] - pn.rebinned_y_var['new_seg_start_time']\n",
    "\n",
    "for stop_id in range(40, 52):\n",
    "    # If your GLM used offset_log = np.log(exposure_s), you can omit exposure_s:\n",
    "    plot_spikes.plot_observed_vs_predicted_stop(\n",
    "        binned_feats_sc=df_X,\n",
    "        binned_spikes=df_Y,\n",
    "        meta_used=pn.rebinned_y_var,\n",
    "        offset_log=offset_log,\n",
    "        model_res=report['results'][cluster_idx],   # GLM for cluster 0\n",
    "        cluster_idx=cluster_idx,\n",
    "        seg_id=stop_id,\n",
    "        time_col='rel_time',\n",
    "        seg_col='new_segment'\n",
    "    )\n",
    "plt.show()"
   ]
  },
  {
   "cell_type": "markdown",
   "metadata": {},
   "source": [
    "# fit single neuron (w spike history)"
   ]
  },
  {
   "cell_type": "markdown",
   "metadata": {},
   "source": [
    "## glm data"
   ]
  },
  {
   "cell_type": "code",
   "execution_count": null,
   "metadata": {},
   "outputs": [],
   "source": [
    "data = pn.rebinned_y_var.copy()\n",
    "trial_ids = data['new_segment']\n",
    "dt = pn.bin_width\n",
    "\n",
    "design_df, meta0, meta = predictor_bases.get_initial_design_df(data, dt, trial_ids)\n",
    "\n",
    "cluster_num = 3\n",
    "y = pn.rebinned_x_var[f'cluster_{cluster_num}']\n",
    "\n",
    "design_df, meta = predictor_bases.add_spike_history(\n",
    "    design_df, y, meta0['trial_ids'], dt,\n",
    "    n_basis=4, t_max=0.20, edge='zero',\n",
    "    prefix='spk_hist', style='bjk',\n",
    "    meta=meta\n",
    ")\n",
    "\n",
    "chk = predictor_utils.check_design_vs_bases(design_df, meta, strict=True)\n",
    "assert chk['ok'], chk['problems']\n"
   ]
  },
  {
   "cell_type": "code",
   "execution_count": null,
   "metadata": {},
   "outputs": [],
   "source": [
    "design_df.shape"
   ]
  },
  {
   "cell_type": "markdown",
   "metadata": {},
   "source": [
    "## fit"
   ]
  },
  {
   "cell_type": "code",
   "execution_count": null,
   "metadata": {},
   "outputs": [],
   "source": [
    "res = glm_fit.fit_poisson_glm_trials(\n",
    "    design_df, y,\n",
    "    dt=dt,\n",
    "    trial_ids=meta0['trial_ids'],\n",
    "    add_const=False,            # we already inserted 'const' in design_df\n",
    "    cluster_se=True\n",
    ")\n"
   ]
  },
  {
   "cell_type": "markdown",
   "metadata": {},
   "source": [
    "## check columns"
   ]
  },
  {
   "cell_type": "code",
   "execution_count": null,
   "metadata": {},
   "outputs": [],
   "source": [
    "df2, info = predictor_utils.drop_aliased_columns(design_df)\n",
    "info['dropped']"
   ]
  },
  {
   "cell_type": "code",
   "execution_count": null,
   "metadata": {},
   "outputs": [],
   "source": [
    "# 1) rank of the history block\n",
    "H = design_df.filter(regex=r'^spk_hist:').to_numpy()\n",
    "print(\"hist shape:\", H.shape, \"rank:\", np.linalg.matrix_rank(H))\n",
    "\n",
    "# 2) condition / singular values\n",
    "sv = np.linalg.svd(H, compute_uv=False)\n",
    "print(\"singular values:\", sv)\n",
    "\n",
    "# 3) is that column almost in the span of the others?\n",
    "import numpy as np\n",
    "c = design_df['spk_hist:b0:3'].to_numpy()\n",
    "R = design_df[[c for c in design_df.columns if c.startswith('spk_hist:') and c != 'spk_hist:b0:3']].to_numpy()\n",
    "beta, *_ = np.linalg.lstsq(R, c, rcond=None)\n",
    "resid = c - R @ beta\n",
    "print(\"relative residual:\", np.linalg.norm(resid)/max(np.linalg.norm(c), 1e-12))\n"
   ]
  },
  {
   "cell_type": "markdown",
   "metadata": {},
   "source": [
    "## check fr"
   ]
  },
  {
   "cell_type": "code",
   "execution_count": null,
   "metadata": {},
   "outputs": [],
   "source": [
    "dt = 0.04\n",
    "rates = df_Y.sum(axis=0) / (len(df_Y) * dt)\n",
    "# rates is a Series indexed by unit, in Hz\n",
    "rates"
   ]
  },
  {
   "cell_type": "code",
   "execution_count": null,
   "metadata": {},
   "outputs": [],
   "source": [
    "import pandas as pd\n",
    "\n",
    "def firing_rates_from_df(spikes_df, time_col='time', cluster_col='cluster'):\n",
    "    start_s = spikes_df[time_col].min()\n",
    "    end_s = spikes_df[time_col].max()\n",
    "    duration = end_s - start_s\n",
    "\n",
    "    counts = spikes_df.groupby(cluster_col).size()\n",
    "    rates_hz = counts / duration\n",
    "    return rates_hz.rename('rate_hz').reset_index()\n",
    "\n",
    "firing_rates_from_df(pn.spikes_df)"
   ]
  },
  {
   "cell_type": "markdown",
   "metadata": {},
   "source": [
    "## plot"
   ]
  },
  {
   "cell_type": "code",
   "execution_count": null,
   "metadata": {},
   "outputs": [],
   "source": [
    "theta, f, std, info =glm_plotting.plot_angle_tuning_function(\n",
    "    res, design_df, meta,\n",
    "    base_prefix='cur_ff_angle',\n",
    "    M=None,                 # auto-detect harmonics\n",
    "    polar=False,             # pretty polar plot\n",
    "    z=1.96                  # 95% CI\n",
    ")\n",
    "\n",
    "theta, f, std, info =glm_plotting.plot_angle_tuning_function(\n",
    "    res, design_df, meta,\n",
    "    base_prefix='cur_ff_angle',\n",
    "    M=None,                 # auto-detect harmonics\n",
    "    polar=True,             # pretty polar plot\n",
    "    z=1.96                  # 95% CI\n",
    ")\n"
   ]
  },
  {
   "cell_type": "code",
   "execution_count": null,
   "metadata": {},
   "outputs": [],
   "source": [
    "glm_plotting.plot_fitted_kernels(\n",
    "    res, design_df, meta, dt,\n",
    "    prefixes=['cur_vis_on','cur_vis_off','nxt_vis_on','nxt_vis_off','spk_hist'],\n",
    "    z=1.96  # 95% CI\n",
    ")"
   ]
  },
  {
   "cell_type": "markdown",
   "metadata": {},
   "source": [
    "## across neurons"
   ]
  },
  {
   "cell_type": "code",
   "execution_count": null,
   "metadata": {},
   "outputs": [],
   "source": [
    "cluster_cols = [col for col in pn.rebinned_x_var.columns if col.startswith('cluster_')]\n",
    "cluster_nums = [int(col.split('_')[1]) for col in cluster_cols]"
   ]
  },
  {
   "cell_type": "code",
   "execution_count": null,
   "metadata": {},
   "outputs": [],
   "source": [
    "results = []\n",
    "designs = []\n",
    "B_hist_ref = None\n",
    "\n",
    "for cluster in cluster_nums:\n",
    "    # .....\n",
    "    \n",
    "    \n",
    "    \n",
    "    \n",
    "    # Fit GLM (cluster-robust by trial)\n",
    "    res = fit_poisson_glm_trials(design_df, y_fit, dt, trial_ids, add_const=True, l2=0.0, cluster_se=False)\n",
    "    results.append(res)\n",
    "    designs.append(design_df)\n",
    "\n",
    "meta = {\"B_hist\": B_hist_ref}\n",
    "\n",
    "# Collect population history kernels\n",
    "hist_df = collect_history_kernels_across_neurons(results, designs, meta, dt)\n",
    "\n",
    "# Plot overlays + heatmap\n",
    "plot_history_kernels_population(hist_df, overlay_mean=True, heatmap=True, max_overlays=50)"
   ]
  },
  {
   "cell_type": "code",
   "execution_count": null,
   "metadata": {},
   "outputs": [],
   "source": [
    "# Suppose you looped over N neurons and saved:\n",
    "results = [res_n0, res_n1, ..., res_nN]         # statsmodels results\n",
    "designs = [X_n0_df, X_n1_df, ..., X_nN_df]      # matching design DataFrames\n",
    "meta    = meta_from_any_single_fit              # must contain 'B_hist'\n",
    "dt      = 0.01                                  # your bin size (s)\n",
    "\n",
    "hist_df = collect_history_kernels_across_neurons(\n",
    "    results, designs, meta, dt, neuron_ids=None  # or e.g. list of unit IDs\n",
    ")\n",
    "\n",
    "\n",
    "# Overlay individual kernels (up to max_overlays) + population mean ± 95% CI\n",
    "plot_history_kernels_population(hist_df, overlay_mean=True, heatmap=False, max_overlays=60)\n",
    "\n",
    "# Heatmap only (neuron × lag)\n",
    "plot_history_kernels_population(hist_df, overlay_mean=False, heatmap=True)\n",
    "\n",
    "# Both\n",
    "plot_history_kernels_population(hist_df, overlay_mean=True, heatmap=True)\n",
    "\n",
    "\n"
   ]
  }
 ],
 "metadata": {
  "kernelspec": {
   "display_name": "multiff_clean",
   "language": "python",
   "name": "python3"
  },
  "language_info": {
   "codemirror_mode": {
    "name": "ipython",
    "version": 3
   },
   "file_extension": ".py",
   "mimetype": "text/x-python",
   "name": "python",
   "nbconvert_exporter": "python",
   "pygments_lexer": "ipython3",
   "version": "3.11.11"
  }
 },
 "nbformat": 4,
 "nbformat_minor": 2
}
