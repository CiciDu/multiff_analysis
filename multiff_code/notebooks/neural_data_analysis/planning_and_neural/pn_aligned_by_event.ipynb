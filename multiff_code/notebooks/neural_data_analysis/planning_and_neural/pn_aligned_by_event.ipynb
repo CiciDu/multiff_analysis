{
 "cells": [
  {
   "cell_type": "markdown",
   "metadata": {},
   "source": [
    "# Import packages"
   ]
  },
  {
   "cell_type": "code",
   "execution_count": null,
   "metadata": {},
   "outputs": [],
   "source": [
    "%load_ext autoreload\n",
    "%autoreload 2\n",
    "\n",
    "import os, sys, sys\n",
    "from pathlib import Path\n",
    "for p in [Path.cwd()] + list(Path.cwd().parents):\n",
    "    if p.name == 'Multifirefly-Project':\n",
    "        os.chdir(p)\n",
    "        sys.path.insert(0, str(p / 'multiff_analysis/multiff_code/methods'))\n",
    "        break\n",
    "    \n",
    "from data_wrangling import specific_utils, process_monkey_information, general_utils\n",
    "from pattern_discovery import pattern_by_trials, pattern_by_trials, cluster_analysis, organize_patterns_and_features\n",
    "from visualization.matplotlib_tools import plot_behaviors_utils\n",
    "from neural_data_analysis.neural_analysis_tools.get_neural_data import neural_data_processing\n",
    "from neural_data_analysis.neural_analysis_tools.visualize_neural_data import plot_neural_data, plot_modeling_result\n",
    "from neural_data_analysis.neural_analysis_tools.model_neural_data import transform_vars, neural_data_modeling, drop_high_corr_vars, drop_high_vif_vars\n",
    "from neural_data_analysis.topic_based_neural_analysis.neural_vs_behavioral import prep_monkey_data, prep_target_data, neural_vs_behavioral_class\n",
    "from neural_data_analysis.topic_based_neural_analysis.planning_and_neural import planning_and_neural_class, pn_utils, pn_helper_class, pn_aligned_by_seg, pn_aligned_by_event\n",
    "from neural_data_analysis.neural_analysis_tools.cca_methods import cca_class\n",
    "from neural_data_analysis.neural_analysis_tools.cca_methods import cca_class, cca_utils, cca_cv_utils\n",
    "from neural_data_analysis.neural_analysis_tools.cca_methods.cca_plotting import cca_plotting, cca_plot_lag_vs_no_lag, cca_plot_cv\n",
    "from machine_learning.ml_methods import regression_utils, regz_regression_utils, ml_methods_class, classification_utils, ml_plotting_utils, ml_methods_utils\n",
    "from planning_analysis.show_planning import nxt_ff_utils, show_planning_utils\n",
    "from neural_data_analysis.neural_analysis_tools.gpfa_methods import elephant_utils, fit_gpfa_utils, plot_gpfa_utils, gpfa_helper_class\n",
    "from neural_data_analysis.neural_analysis_tools.align_trials import time_resolved_regression, time_resolved_gpfa_regression,plot_time_resolved_regression\n",
    "from neural_data_analysis.neural_analysis_tools.align_trials import align_trial_utils\n",
    "\n",
    "import sys\n",
    "import math\n",
    "import gc\n",
    "import subprocess\n",
    "from pathlib import Path\n",
    "from importlib import reload\n",
    "\n",
    "# Third-party imports\n",
    "import numpy as np\n",
    "import pandas as pd\n",
    "import matplotlib\n",
    "import matplotlib.pyplot as plt\n",
    "import seaborn as sns\n",
    "from matplotlib import rc\n",
    "from scipy import linalg, interpolate\n",
    "from scipy.signal import fftconvolve\n",
    "from scipy.io import loadmat\n",
    "from scipy import sparse\n",
    "import torch\n",
    "from numpy import pi\n",
    "\n",
    "# Machine Learning imports\n",
    "from sklearn.metrics import mean_squared_error, r2_score\n",
    "from sklearn.linear_model import LinearRegression, Ridge\n",
    "from sklearn.preprocessing import StandardScaler\n",
    "from sklearn.model_selection import train_test_split, GridSearchCV\n",
    "from statsmodels.stats.outliers_influence import variance_inflation_factor\n",
    "from statsmodels.multivariate.cancorr import CanCorr\n",
    "\n",
    "# Neuroscience specific imports\n",
    "import neo\n",
    "import rcca\n",
    "import quantities as pq\n",
    "\n",
    "plt.rcParams[\"animation.html\"] = \"html5\"\n",
    "os.environ['KMP_DUPLICATE_LIB_OK']='True'\n",
    "rc('animation', html='jshtml')\n",
    "matplotlib.rcParams.update(matplotlib.rcParamsDefault)\n",
    "matplotlib.rcParams['animation.embed_limit'] = 2**128\n",
    "pd.set_option('display.float_format', lambda x: '%.5f' % x)\n",
    "np.set_printoptions(suppress=True)\n",
    "print(\"done\")\n",
    "\n",
    "%load_ext autoreload\n",
    "%autoreload 2"
   ]
  },
  {
   "cell_type": "markdown",
   "metadata": {},
   "source": [
    "# retrieve data"
   ]
  },
  {
   "cell_type": "code",
   "execution_count": null,
   "metadata": {},
   "outputs": [],
   "source": [
    "raw_data_folder_path = \"all_monkey_data/raw_monkey_data/monkey_Schro/data_0416\"\n",
    "# raw_data_folder_path = \"all_monkey_data/raw_monkey_data/monkey_Schro/data_0321\"\n",
    "# raw_data_folder_path = \"all_monkey_data/raw_monkey_data/monkey_Schro/data_0329\"\n",
    "# raw_data_folder_path = \"all_monkey_data/raw_monkey_data/monkey_Schro/data_0403\""
   ]
  },
  {
   "cell_type": "code",
   "execution_count": null,
   "metadata": {},
   "outputs": [],
   "source": [
    "# raw_data_folder_path = \"all_monkey_data/raw_monkey_data/monkey_Bruno/data_0312\"\n",
    "# raw_data_folder_path = \"all_monkey_data/raw_monkey_data/monkey_Bruno/data_0330\"\n",
    "raw_data_folder_path = \"all_monkey_data/raw_monkey_data/monkey_Bruno/data_0316\"\n",
    "# raw_data_folder_path = \"all_monkey_data/raw_monkey_data/monkey_Bruno/data_0327\"\n",
    "# raw_data_folder_path = \"all_monkey_data/raw_monkey_data/monkey_Bruno/data_0328\""
   ]
  },
  {
   "cell_type": "code",
   "execution_count": null,
   "metadata": {},
   "outputs": [],
   "source": [
    "reduce_y_var_lags = False\n",
    "planning_data_by_point_exists_ok = True\n",
    "y_data_exists_ok = True\n",
    "bin_width = 0.1\n",
    "\n",
    "pn = pn_aligned_by_event.PlanningAndNeuralEventAligned(raw_data_folder_path=raw_data_folder_path, bin_width=bin_width)\n",
    "pn.prep_data_to_analyze_planning(planning_data_by_point_exists_ok=planning_data_by_point_exists_ok)\n",
    "pn.planning_data_by_point, cols_to_drop = general_utils.drop_columns_with_many_nans(\n",
    "    pn.planning_data_by_point)\n",
    "#pn.get_x_and_y_data_for_modeling(exists_ok=y_data_exists_ok, reduce_y_var_lags=reduce_y_var_lags)"
   ]
  },
  {
   "cell_type": "code",
   "execution_count": null,
   "metadata": {},
   "outputs": [],
   "source": [
    "pn.get_x_and_y_data_for_modeling(exists_ok=y_data_exists_ok, reduce_y_var_lags=False)"
   ]
  },
  {
   "cell_type": "markdown",
   "metadata": {},
   "source": [
    "# get planning_data by segment"
   ]
  },
  {
   "cell_type": "markdown",
   "metadata": {},
   "source": [
    "## get data and fit gpfa"
   ]
  },
  {
   "cell_type": "code",
   "execution_count": null,
   "metadata": {},
   "outputs": [],
   "source": [
    "pn.prepare_seg_aligned_data()\n",
    "pn.get_gpfa_traj(latent_dimensionality=7, exists_ok=True)\n",
    "\n",
    "# for regression later\n",
    "use_raw_spike_data_instead = False\n",
    "use_lagged_rebinned_behav_data = False\n",
    "pn.get_concat_data_for_regression(use_raw_spike_data_instead=use_raw_spike_data_instead,\n",
    "                                  use_lagged_rebinned_behav_data=use_lagged_rebinned_behav_data,\n",
    "                                  apply_pca_on_raw_spike_data=True,\n",
    "                                  use_lagged_raw_spike_data=False,) \n",
    "\n",
    "\n",
    "pn.print_data_dimensions()"
   ]
  },
  {
   "cell_type": "markdown",
   "metadata": {},
   "source": [
    "## gpfa DURING train test split (also point-wise)"
   ]
  },
  {
   "cell_type": "code",
   "execution_count": null,
   "metadata": {},
   "outputs": [],
   "source": [
    "pn.prepare_seg_aligned_data()\n",
    "pn.get_concat_data_for_regression(use_raw_spike_data_instead=True) "
   ]
  },
  {
   "cell_type": "markdown",
   "metadata": {},
   "source": [
    "## * Try only a few features right now"
   ]
  },
  {
   "cell_type": "code",
   "execution_count": null,
   "metadata": {},
   "outputs": [],
   "source": [
    "\n",
    "key_feats = [\n",
    "    'new_bin', 'new_segment', 'whether_test',\n",
    "'cur_opt_arc_dheading',\n",
    "'cur_ff_distance',\n",
    "'cur_ff_rel_x',\n",
    "'cur_ff_rel_y',\n",
    "'nxt_ff_rel_x',\n",
    "'nxt_ff_rel_y',\n",
    "'nxt_ff_distance',\n",
    "'num_ff_visible',\n",
    "'num_ff_in_memory',\n",
    "'cur_ff_distance_at_ref',\n",
    "'cur_ff_angle_boundary_at_ref',\n",
    "'nxt_ff_distance_at_ref',\n",
    "'ang_speed',\n",
    "'speed',\n",
    "'accel',\n",
    "'ang_accel',\n",
    "'monkey_speeddummy',\n",
    "'curv_of_traj',\n",
    "'angle_from_cur_ff_to_nxt_ff',\n",
    "'time_since_last_capture',\n",
    "'bin_mid_time_rel_to_event',\n",
    "'time', \n",
    "'target_index',\n",
    "# categorical modeling for the below:\n",
    "'cur_vis',\n",
    "'nxt_vis',\n",
    "'nxt_in_memory',\n",
    "'any_ff_visible',\n",
    "# 'cur_in_memory', # don't used those two cause they will just be one\n",
    "# 'any_ff_in_memory',\n",
    "\n",
    "]"
   ]
  },
  {
   "cell_type": "code",
   "execution_count": null,
   "metadata": {},
   "outputs": [],
   "source": [
    "has_duplicates = len(key_feats) != len(set(key_feats)) \n",
    "print(has_duplicates)\n",
    "\n",
    "dupes = {x for x in key_feats if key_feats.count(x) > 1}\n",
    "print(dupes)"
   ]
  },
  {
   "cell_type": "code",
   "execution_count": null,
   "metadata": {},
   "outputs": [],
   "source": [
    "pn.get_concat_data_for_regression(use_raw_spike_data_instead=True,\n",
    "                                    apply_pca_on_raw_spike_data=False,\n",
    "                                    use_lagged_raw_spike_data=True) \n"
   ]
  },
  {
   "cell_type": "code",
   "execution_count": null,
   "metadata": {},
   "outputs": [],
   "source": [
    "import numpy as np\n",
    "import pandas as pd\n",
    "\n",
    "def _prep_behav(df, key_feats,\n",
    "                cont_cols=('cur_ff_distance', 'nxt_ff_distance', 'time_since_last_capture'),\n",
    "                cat_vars=('cur_vis', 'nxt_vis', 'nxt_in_memory', 'any_ff_visible')):\n",
    "    # keep only requested features (that exist), copy to avoid side effects\n",
    "    keep = [c for c in key_feats if c in df.columns]\n",
    "    out = df.loc[:, keep].copy()\n",
    "\n",
    "    # add log1p features (clip negatives to 0 to keep log1p valid)\n",
    "    for c in cont_cols:\n",
    "        if c in out.columns:\n",
    "            out[f'log1p_{c}'] = np.log1p(pd.to_numeric(out[c], errors='coerce').clip(lower=0))\n",
    "\n",
    "    # binarize categorical indicators ( > 0 → 1; else 0 )\n",
    "    for v in cat_vars:\n",
    "        if v in out.columns:\n",
    "            x = pd.to_numeric(out[v], errors='coerce')\n",
    "            out[v] = (x.fillna(0) > 0).astype('int8')\n",
    "\n",
    "    return out\n",
    "\n",
    "# Apply to both datasets\n",
    "pn.concat_behav_trials = _prep_behav(pn.concat_behav_trials, key_feats)\n",
    "pn.rebinned_behav_data = _prep_behav(pn.rebinned_behav_data, key_feats)\n",
    "\n",
    "# (Optional) peek at shapes\n",
    "print('concat_behav_trials:', pn.concat_behav_trials.shape)\n",
    "print('rebinned_behav_data:', pn.rebinned_behav_data.shape)\n"
   ]
  },
  {
   "cell_type": "code",
   "execution_count": null,
   "metadata": {},
   "outputs": [],
   "source": [
    "mask = pn.concat_behav_trials['bin_mid_time_rel_to_event'] > 0\n",
    "pn.concat_behav_trials = pn.concat_behav_trials[mask]\n",
    "pn.concat_neural_trials = pn.concat_neural_trials[mask]"
   ]
  },
  {
   "cell_type": "markdown",
   "metadata": {},
   "source": [
    "### ** concat regression"
   ]
  },
  {
   "cell_type": "code",
   "execution_count": null,
   "metadata": {},
   "outputs": [],
   "source": [
    "print(pn.concat_neural_trials.shape)\n",
    "print(pn.concat_behav_trials.shape)\n",
    "\n",
    "pn.separate_test_and_control_data()\n",
    "# columns_of_interest = ['whether_test', 'cur_ff_distance', 'cur_ff_angle', 'nxt_ff_distance', 'nxt_ff_rel_y', 'nxt_opt_arc_dheading', 'nxt_ff_rel_x', 'nxt_ff_angle', 'nxt_ff_angle_at_ref']\n",
    "columns_of_interest = pn.concat_behav_trials.columns\n",
    "all_results = []\n",
    "for test_or_control in ['both']: #['test', 'control', 'both']:\n",
    "    x_var, y_var = pn.get_concat_x_and_y_var_for_lr(test_or_control=test_or_control)\n",
    "    \n",
    "    results_summary = ml_methods_utils.run_segment_split_regression_cv(\n",
    "        x_var, \n",
    "        y_var, \n",
    "        columns_of_interest, \n",
    "        num_folds=5, \n",
    "    )\n",
    "    results_summary['test_or_control'] = test_or_control\n",
    "    all_results.append(results_summary)\n",
    "\n",
    "all_results = pd.concat(all_results)\n",
    "all_results.head()\n",
    "\n",
    "reg_results = all_results[all_results['Model'] == 'Linear Regression']\n",
    "class_results = all_results[all_results['Model'] == 'Logistic Regression']\n",
    "\n",
    "\n",
    "\n",
    "\n",
    "\n",
    "# first only plot key_features cur_ff_distance\n",
    "key_features = ['cur_ff_distance', 'log1p_cur_ff_distance', 'speed', 'accel', 'time_since_last_capture']\n",
    "for metric in ['test_r2']:\n",
    "    ml_methods_utils.make_barplot_to_compare_results(\n",
    "            reg_results, \n",
    "            metric=metric, \n",
    "            features=key_features,\n",
    "        )\n",
    "    print('='*100)\n",
    "    print('='*100)\n",
    "\n",
    "\n",
    "\n",
    "rest_of_features = [c for c in reg_results['Feature'].unique() if c not in key_features]\n",
    "\n",
    "# regression results\n",
    "for metric in ['test_r2']:\n",
    "    ml_methods_utils.make_barplot_to_compare_results(\n",
    "            reg_results, \n",
    "            metric=metric, \n",
    "            features=rest_of_features,\n",
    "        )\n",
    "    print('='*100)\n",
    "    print('='*100)\n",
    "    \n",
    "# classification results\n",
    "for metric in ['test_roc_auc', 'test_f1']:\n",
    "    ml_methods_utils.make_barplot_to_compare_results(\n",
    "        class_results, \n",
    "        metric=metric, \n",
    "    )"
   ]
  },
  {
   "cell_type": "code",
   "execution_count": null,
   "metadata": {},
   "outputs": [],
   "source": [
    "pn.concat_behav_trials[cat_vars].describe()"
   ]
  },
  {
   "cell_type": "markdown",
   "metadata": {},
   "source": [
    "### ** try Catboost"
   ]
  },
  {
   "cell_type": "code",
   "execution_count": null,
   "metadata": {},
   "outputs": [],
   "source": [
    "from catboost import CatBoostRegressor\n",
    "\n",
    "behav_feature = 'log1p_cur_ff_distance'\n",
    "y_true = y_var[behav_feature].to_numpy()\n",
    "\n",
    "model = CatBoostRegressor(iterations=500, depth=6, learning_rate=0.05, loss_function='RMSE', verbose=0)\n",
    "model.fit(x_var, y_var[behav_feature])\n",
    "preds = model.predict(x_var)"
   ]
  },
  {
   "cell_type": "code",
   "execution_count": null,
   "metadata": {},
   "outputs": [],
   "source": [
    "\n",
    "y_pred = preds\n",
    "stats = eval_decoder(y_true, y_pred, title='CatBoost decoding: cur_ff_distance')\n"
   ]
  },
  {
   "cell_type": "code",
   "execution_count": null,
   "metadata": {},
   "outputs": [],
   "source": [
    "import numpy as np\n",
    "import matplotlib.pyplot as plt\n",
    "from sklearn.metrics import r2_score, mean_squared_error\n",
    "\n",
    "def eval_decoder(y_true, y_pred, title='Decoder fit', sample_ts=None, n_show=500):\n",
    "    \"\"\"\n",
    "    Back-compatible evaluation (no need for sklearn>=0.22).\n",
    "    - y_true, y_pred: 1D array-like\n",
    "    - sample_ts: optional 1D times for the overlay plot\n",
    "    - n_show: how many samples to show in the overlay\n",
    "    \"\"\"\n",
    "    y_true = np.asarray(y_true).ravel()\n",
    "    y_pred = np.asarray(y_pred).ravel()\n",
    "    # drop NaNs in a paired way\n",
    "    ok = ~(np.isnan(y_true) | np.isnan(y_pred))\n",
    "    y_true, y_pred = y_true[ok], y_pred[ok]\n",
    "    if sample_ts is not None:\n",
    "        sample_ts = np.asarray(sample_ts).ravel()[ok]\n",
    "\n",
    "    # metrics (old sklearn safe)\n",
    "    r2 = r2_score(y_true, y_pred)\n",
    "    mse = mean_squared_error(y_true, y_pred)\n",
    "    rmse = np.sqrt(mse)\n",
    "    # Pearson R (scale-invariant)\n",
    "    if y_true.std() == 0 or y_pred.std() == 0:\n",
    "        R = np.nan\n",
    "    else:\n",
    "        R = np.corrcoef(y_true, y_pred)[0, 1]\n",
    "\n",
    "    print(f'R = {R:.3f} | R^2 = {r2:.3f} | RMSE = {rmse:.3f}')\n",
    "\n",
    "    # scatter with unity line\n",
    "    plt.figure(figsize=(5, 5))\n",
    "    plt.scatter(y_true, y_pred, s=6, alpha=0.5)\n",
    "    lo = float(min(y_true.min(), y_pred.min()))\n",
    "    hi = float(max(y_true.max(), y_pred.max()))\n",
    "    plt.plot([lo, hi], [lo, hi], 'k--', linewidth=1)\n",
    "    plt.xlabel('True')\n",
    "    plt.ylabel('Predicted')\n",
    "    plt.title(f'{title}  (R={R:.2f}, R^2={r2:.2f}, RMSE={rmse:.2f})')\n",
    "    plt.tight_layout()\n",
    "\n",
    "    # short time overlay\n",
    "    plt.figure(figsize=(9, 3))\n",
    "    idx = slice(0, min(n_show, len(y_true)))\n",
    "    if sample_ts is not None:\n",
    "        plt.plot(sample_ts[idx], y_true[idx], label='True', linewidth=1.2)\n",
    "        plt.plot(sample_ts[idx], y_pred[idx], label='Pred', linewidth=1.2)\n",
    "        plt.xlabel('Time')\n",
    "    else:\n",
    "        plt.plot(y_true[idx], label='True', linewidth=1.2)\n",
    "        plt.plot(y_pred[idx], label='Pred', linewidth=1.2)\n",
    "        plt.xlabel('Samples')\n",
    "    plt.ylabel('Value')\n",
    "    plt.title('First segment: true vs predicted')\n",
    "    plt.legend()\n",
    "    plt.tight_layout()\n",
    "\n",
    "    return {'R': R, 'R2': r2, 'RMSE': rmse}\n"
   ]
  },
  {
   "cell_type": "code",
   "execution_count": null,
   "metadata": {},
   "outputs": [],
   "source": [
    "stop!"
   ]
  },
  {
   "cell_type": "markdown",
   "metadata": {},
   "source": [
    "# CV"
   ]
  },
  {
   "cell_type": "code",
   "execution_count": null,
   "metadata": {},
   "outputs": [],
   "source": [
    "import numpy as np\n",
    "import matplotlib.pyplot as plt\n",
    "from sklearn.model_selection import KFold, cross_val_predict\n",
    "from sklearn.metrics import r2_score, mean_squared_error\n",
    "from sklearn.model_selection import GroupKFold, cross_val_predict\n",
    "\n",
    "model = CatBoostRegressor(iterations=300, depth=6, learning_rate=0.05, loss_function='RMSE', verbose=0)\n",
    "\n",
    "for behav_feature in y_var.columns:\n",
    "    print(behav_feature)\n",
    "    y_true = y_var[behav_feature].to_numpy()\n",
    "\n",
    "\n",
    "    # X, y (1D), no NaNs\n",
    "    X = np.asarray(x_var)\n",
    "    y = np.asarray(y_true).ravel()\n",
    "    ok = np.isfinite(y) & np.all(np.isfinite(X), axis=1)\n",
    "    X, y = X[ok], y[ok]\n",
    "\n",
    "    gcv = GroupKFold(n_splits=5)\n",
    "    y_cv_pred = cross_val_predict(model, X, y, cv=gcv.split(X, y, groups=y_var['new_segment'].values), method='predict')\n",
    "\n",
    "    # Metrics (no squared=False needed)\n",
    "    r2 = r2_score(y, y_cv_pred)\n",
    "    rmse = np.sqrt(mean_squared_error(y, y_cv_pred))\n",
    "    print('CV R^2: {:.3f} | RMSE: {:.3f}'.format(r2, rmse))\n",
    "\n",
    "    # also print R\n",
    "    r = np.corrcoef(y, y_cv_pred)[0, 1]\n",
    "    print('R: {:.3f}'.format(r))\n",
    "\n",
    "    # Scatter with unity line\n",
    "    lo = float(min(y.min(), y_cv_pred.min()))\n",
    "    hi = float(max(y.max(), y_cv_pred.max()))\n",
    "    plt.figure(figsize=(5, 5))\n",
    "    plt.scatter(y, y_cv_pred, s=6, alpha=0.5)\n",
    "    plt.plot([lo, hi], [lo, hi], 'k--', linewidth=1)\n",
    "    plt.xlabel('True')\n",
    "    plt.ylabel('Predicted (CV)')\n",
    "    plt.title('Cross-validated decoding')\n",
    "    plt.tight_layout()\n",
    "    plt.show()\n"
   ]
  },
  {
   "cell_type": "markdown",
   "metadata": {},
   "source": [
    "## point-wise segment regressions"
   ]
  },
  {
   "cell_type": "code",
   "execution_count": null,
   "metadata": {},
   "outputs": [],
   "source": [
    "pn.retrieve_or_make_time_resolved_cv_scores_gpfa(latent_dimensionality=7, exists_ok=False)"
   ]
  },
  {
   "cell_type": "code",
   "execution_count": null,
   "metadata": {},
   "outputs": [],
   "source": [
    "pn.plot_time_resolved_regression(time_resolved_cv_scores = pn.time_resolved_cv_scores_gpfa)"
   ]
  },
  {
   "cell_type": "code",
   "execution_count": null,
   "metadata": {},
   "outputs": [],
   "source": [
    "stop!"
   ]
  },
  {
   "cell_type": "code",
   "execution_count": null,
   "metadata": {},
   "outputs": [],
   "source": [
    "pn.time_resolved_cv_scores_gpfa['trial_count'] = pn.time_resolved_cv_scores_gpfa['train_trial_count'].astype(int)\n",
    "# features_to_plot = None\n",
    "features_to_plot=['time_rel_to_stop', 'cur_ff_distance', 'cur_ff_distance_at_ref', 'time_since_last_capture']\n",
    "pn.plot_time_resolved_regression(time_resolved_cv_scores = pn.time_resolved_cv_scores_gpfa, features_to_plot=features_to_plot)"
   ]
  },
  {
   "cell_type": "code",
   "execution_count": null,
   "metadata": {},
   "outputs": [],
   "source": [
    "plot_time_resolved_regression.plot_trial_counts_by_timepoint(\n",
    "            pn.time_resolved_cv_scores_gpfa, 'trial_count')"
   ]
  },
  {
   "cell_type": "code",
   "execution_count": null,
   "metadata": {},
   "outputs": [],
   "source": [
    "pn.concat_behav_trials[features_to_plot].corr()"
   ]
  },
  {
   "cell_type": "markdown",
   "metadata": {},
   "source": [
    "## point-wise segment regression (for ppt)"
   ]
  },
  {
   "cell_type": "code",
   "execution_count": null,
   "metadata": {},
   "outputs": [],
   "source": [
    "pn.make_time_resolved_cv_scores()"
   ]
  },
  {
   "cell_type": "code",
   "execution_count": null,
   "metadata": {},
   "outputs": [],
   "source": [
    "\n",
    "features_to_plot = [\n",
    "'time', 'time_rel_to_stop',\n",
    "'target_distance',\n",
    "'target_angle',\n",
    "'target_rel_x',\n",
    "'target_rel_y',\n",
    "'speed',\n",
    "'stop']\n",
    "\n",
    "pn.time_resolved_cv_scores.loc[pn.time_resolved_cv_scores['feature'] == 'monkey_speeddummy', 'feature'] = 'stop'\n",
    "pn.plot_time_resolved_regression(features_to_plot=features_to_plot, n_behaviors_per_plot=8)\n",
    "\n",
    "\n"
   ]
  },
  {
   "cell_type": "code",
   "execution_count": null,
   "metadata": {},
   "outputs": [],
   "source": [
    "pn.time_resolved_cv_scores.loc[pn.time_resolved_cv_scores['feature'] == 'monkey_speeddummy', 'feature'] = 'stop'\n",
    "for features in [['target_distance', 'target_rel_y'],\n",
    "                 ['target_rel_x', 'target_angle'],\n",
    "                 ['time', 'time_rel_to_stop'],\n",
    "                 ['speed', 'stop']]:\n",
    "    \n",
    "    pn.plot_time_resolved_regression(features_to_plot=features)\n",
    "\n",
    "\n"
   ]
  },
  {
   "cell_type": "code",
   "execution_count": null,
   "metadata": {},
   "outputs": [],
   "source": [
    "pn.plot_trial_counts_by_timepoint()  # "
   ]
  },
  {
   "cell_type": "markdown",
   "metadata": {},
   "source": [
    "## point-wise segment regression"
   ]
  },
  {
   "cell_type": "code",
   "execution_count": null,
   "metadata": {},
   "outputs": [],
   "source": [
    "pn.prepare_seg_aligned_data()\n",
    "pn.get_gpfa_traj(latent_dimensionality=7, exists_ok=True)\n",
    "\n",
    "use_raw_spike_data_instead = False\n",
    "use_lagged_rebinned_behav_data = False\n",
    "pn.get_concat_data_for_regression(use_raw_spike_data_instead=use_raw_spike_data_instead,\n",
    "                                  use_lagged_rebinned_behav_data=use_lagged_rebinned_behav_data,\n",
    "                                  apply_pca_on_raw_spike_data=True,\n",
    "                                  use_lagged_raw_spike_data=False,) "
   ]
  },
  {
   "cell_type": "code",
   "execution_count": null,
   "metadata": {},
   "outputs": [],
   "source": [
    "pn.retrieve_or_make_time_resolved_cv_scores()"
   ]
  },
  {
   "cell_type": "markdown",
   "metadata": {},
   "source": [
    "### plot some"
   ]
  },
  {
   "cell_type": "code",
   "execution_count": null,
   "metadata": {},
   "outputs": [],
   "source": [
    "pn.plot_time_resolved_regression(features_to_plot=['time_rel_to_stop', 'cur_ff_distance', 'cur_ff_distance_at_ref', 'time_since_last_capture'])"
   ]
  },
  {
   "cell_type": "markdown",
   "metadata": {},
   "source": [
    "### plot all"
   ]
  },
  {
   "cell_type": "code",
   "execution_count": null,
   "metadata": {},
   "outputs": [],
   "source": [
    "pn.plot_time_resolved_regression()"
   ]
  },
  {
   "cell_type": "markdown",
   "metadata": {},
   "source": [
    "## compare cv score: GPFA Inside vs Outside CV Loop\n"
   ]
  },
  {
   "cell_type": "markdown",
   "metadata": {},
   "source": [
    "### one feature"
   ]
  },
  {
   "cell_type": "code",
   "execution_count": null,
   "metadata": {},
   "outputs": [],
   "source": [
    "feature = 'event_time'\n",
    "new_cv_scores = pd.concat([pn.time_resolved_cv_scores[['new_bin', 'bin_mid_time', 'trial_count', feature]], \n",
    "                           pn.time_resolved_cv_scores_gpfa[[feature]].rename(columns={feature: f'{feature}_cv_w_gpfa'})], axis=1)\n",
    "pn.plot_time_resolved_regression(time_resolved_cv_scores=new_cv_scores, score_threshold_to_plot=None,\n",
    "                                 rank_by_max_score=False)"
   ]
  },
  {
   "cell_type": "markdown",
   "metadata": {},
   "source": [
    "### all features"
   ]
  },
  {
   "cell_type": "code",
   "execution_count": null,
   "metadata": {},
   "outputs": [],
   "source": [
    "ranked_features = pn.time_resolved_cv_scores.max().sort_values(ascending=False).index.values\n",
    "features_not_to_plot = ['new_bin', 'new_seg_duration', 'trial_count', 'bin_mid_time']\n",
    "ranked_features = [feature for feature in ranked_features if feature not in features_not_to_plot]\n",
    "for feature in ranked_features:\n",
    "    print(feature)\n",
    "    print('='*100)\n",
    "    new_cv_scores = pd.concat([pn.time_resolved_cv_scores[['new_bin', 'bin_mid_time', 'trial_count', feature]], \n",
    "                            pn.time_resolved_cv_scores_gpfa[[feature]].rename(columns={feature: f'{feature}_cv_w_gpfa'})], axis=1)\n",
    "    pn.plot_time_resolved_regression(time_resolved_cv_scores=new_cv_scores, score_threshold_to_plot=None,\n",
    "                                        rank_by_max_score=False)"
   ]
  },
  {
   "cell_type": "markdown",
   "metadata": {},
   "source": [
    "## trial count per time point"
   ]
  },
  {
   "cell_type": "code",
   "execution_count": null,
   "metadata": {},
   "outputs": [],
   "source": [
    "pn.plot_trial_counts_by_timepoint()"
   ]
  },
  {
   "cell_type": "markdown",
   "metadata": {},
   "source": [
    "## Concat: segment split regress CV"
   ]
  },
  {
   "cell_type": "markdown",
   "metadata": {},
   "source": [
    "### all data"
   ]
  },
  {
   "cell_type": "code",
   "execution_count": null,
   "metadata": {},
   "outputs": [],
   "source": [
    "mask = pn.concat_behav_trials['bin_mid_time_rel_to_event'] > 0\n",
    "pn.concat_behav_trials = pn.concat_behav_trials[mask]\n",
    "pn.concat_neural_trials = pn.concat_neural_trials[mask]\n",
    "\n",
    "print(pn.concat_neural_trials.shape)\n",
    "print(pn.concat_behav_trials.shape)\n"
   ]
  },
  {
   "cell_type": "code",
   "execution_count": null,
   "metadata": {},
   "outputs": [],
   "source": [
    "# columns_of_interest = [    'time', 'time_rel_to_stop',\n",
    "#     'target_distance',\n",
    "# 'target_angle',\n",
    "# 'target_rel_x',\n",
    "# 'target_rel_y',\n",
    "# 'speed',\n",
    "# 'stop']\n",
    "\n",
    "columns_of_interest = pn.concat_behav_trials.columns"
   ]
  },
  {
   "cell_type": "code",
   "execution_count": null,
   "metadata": {},
   "outputs": [],
   "source": [
    "\n",
    "#Just 'both'\n",
    "\n",
    "all_results = []\n",
    "for test_or_control in ['both']:\n",
    "    x_var, y_var = pn.get_concat_x_and_y_var_for_lr(test_or_control=test_or_control)\n",
    "    \n",
    "    #y_var['stop'] = y_var['monkey_speeddummy'].astype(int)\n",
    "    \n",
    "    results_summary = ml_methods_utils.run_segment_split_regression_cv(\n",
    "        x_var, \n",
    "        y_var, \n",
    "        columns_of_interest, \n",
    "        num_folds=5, \n",
    "    )\n",
    "    results_summary['test_or_control'] = test_or_control\n",
    "    all_results.append(results_summary)\n",
    "\n",
    "all_results = pd.concat(all_results)\n",
    "all_results.head()\n",
    "\n",
    "reg_results = all_results[all_results['Model'] == 'Linear Regression']\n",
    "class_results = all_results[all_results['Model'] == 'Logistic Regression']\n",
    "\n",
    "\n",
    "import matplotlib.pyplot as plt\n",
    "\n",
    "df = reg_results.copy()\n",
    "\n",
    "# Filter only test_r2 rows\n",
    "df_test_r2 = df[df[\"Metric\"] == \"test_r2\"]\n",
    "\n",
    "# Plot\n",
    "plt.figure(figsize=(8, 5))\n",
    "plt.bar(df_test_r2[\"Feature\"], df_test_r2[\"mean\"], \n",
    "        yerr=df_test_r2[\"Std\"], capsize=4, color=\"skyblue\", edgecolor=\"k\")\n",
    "\n",
    "plt.axhline(0, color=\"red\", linestyle=\"--\", linewidth=1)\n",
    "plt.xticks(rotation=45, ha=\"right\")\n",
    "plt.ylabel(\"Test R² (Mean ± Std)\")\n",
    "plt.title(\"Schro: Test R² on Data Combined From All Segments\")\n",
    "plt.tight_layout()\n",
    "plt.show()\n"
   ]
  },
  {
   "cell_type": "markdown",
   "metadata": {},
   "source": [
    "### test vs control vs both"
   ]
  },
  {
   "cell_type": "code",
   "execution_count": null,
   "metadata": {},
   "outputs": [],
   "source": [
    "# pn.get_concat_data_for_regression(use_raw_spike_data_instead=False,\n",
    "#                                     apply_pca_on_raw_spike_data=False,\n",
    "#                                     use_lagged_raw_spike_data=False,) \n",
    "\n"
   ]
  },
  {
   "cell_type": "code",
   "execution_count": null,
   "metadata": {},
   "outputs": [],
   "source": [
    "mask = pn.concat_behav_trials['bin_mid_time_rel_to_event'] > 0\n",
    "pn.concat_behav_trials = pn.concat_behav_trials[mask]\n",
    "pn.concat_neural_trials = pn.concat_neural_trials[mask]\n",
    "\n",
    "print(pn.concat_neural_trials.shape)\n",
    "print(pn.concat_behav_trials.shape)\n",
    "\n",
    "pn.separate_test_and_control_data()"
   ]
  },
  {
   "cell_type": "code",
   "execution_count": null,
   "metadata": {},
   "outputs": [],
   "source": [
    "# columns_of_interest = ['whether_test', 'cur_ff_distance', 'cur_ff_angle', 'nxt_ff_distance', 'nxt_ff_rel_y', 'nxt_opt_arc_dheading', 'nxt_ff_rel_x', 'nxt_ff_angle', 'nxt_ff_angle_at_ref']\n",
    "columns_of_interest = pn.concat_behav_trials.columns"
   ]
  },
  {
   "cell_type": "code",
   "execution_count": null,
   "metadata": {},
   "outputs": [],
   "source": [
    "all_results = []\n",
    "for test_or_control in ['test', 'control', 'both']:\n",
    "    x_var, y_var = pn.get_concat_x_and_y_var_for_lr(test_or_control=test_or_control)\n",
    "    \n",
    "    results_summary = ml_methods_utils.run_segment_split_regression_cv(\n",
    "        x_var, \n",
    "        y_var, \n",
    "        columns_of_interest, \n",
    "        num_folds=5, \n",
    "    )\n",
    "    results_summary['test_or_control'] = test_or_control\n",
    "    all_results.append(results_summary)\n",
    "\n",
    "all_results = pd.concat(all_results)\n",
    "all_results.head()\n",
    "\n",
    "reg_results = all_results[all_results['Model'] == 'Linear Regression']\n",
    "class_results = all_results[all_results['Model'] == 'Logistic Regression']"
   ]
  },
  {
   "cell_type": "markdown",
   "metadata": {},
   "source": [
    "### plot all"
   ]
  },
  {
   "cell_type": "code",
   "execution_count": null,
   "metadata": {},
   "outputs": [],
   "source": [
    "# regression results\n",
    "for metric in ['test_r2', 'test_pearson_r']:\n",
    "    ml_methods_utils.make_barplot_to_compare_results(\n",
    "            reg_results, \n",
    "            metric=metric, \n",
    "            #features=['bin_mid_time_rel_to_event'],\n",
    "        )\n",
    "    print('='*100)\n",
    "    print('='*100)"
   ]
  },
  {
   "cell_type": "code",
   "execution_count": null,
   "metadata": {},
   "outputs": [],
   "source": [
    "df = reg_results[(reg_results['Metric'] == 'train_r2') & (reg_results['mean'] > 0) & (reg_results['test_or_control'] == 'both')].sort_values(by='mean', ascending=False).reset_index(drop=True)"
   ]
  },
  {
   "cell_type": "code",
   "execution_count": null,
   "metadata": {},
   "outputs": [],
   "source": [
    "'time', 'event_time'"
   ]
  },
  {
   "cell_type": "code",
   "execution_count": null,
   "metadata": {},
   "outputs": [],
   "source": [
    "'cum_distance', 'target_index'"
   ]
  },
  {
   "cell_type": "code",
   "execution_count": null,
   "metadata": {},
   "outputs": [],
   "source": [
    "# The following columns will be dropped, since ['time', 'event_time', 'cum_distance', 'target_index', 'new_segment'] are enough, and the rest have high correlation with them\n",
    "columns_to_drop = ['point_index', 'last_target_caught_time', \n",
    "                'new_seg_end_time', 'new_seg_start_time', 'stop_point_index',\n",
    "                'current_target_caught_time', 'stop_time', 'seg_end_time',\n",
    "                'seg_start_time', 'cur_ff_index', 'trial',\n",
    "                'nxt_ff_index', 'segment']\n"
   ]
  },
  {
   "cell_type": "code",
   "execution_count": null,
   "metadata": {},
   "outputs": [],
   "source": [
    "features = df[df['mean'] > 0.2].Feature.values\n",
    "df2 = pn.concat_behav_trials[features]\n",
    "df2.corr()\n"
   ]
  },
  {
   "cell_type": "code",
   "execution_count": null,
   "metadata": {},
   "outputs": [],
   "source": [
    "df[df['mean'] > 0.23]"
   ]
  },
  {
   "cell_type": "code",
   "execution_count": null,
   "metadata": {},
   "outputs": [],
   "source": [
    "reg_results[(reg_results['Metric'] == 'test_r2') & (reg_results['mean'] > 0) & (reg_results['test_or_control'] == 'both')]"
   ]
  },
  {
   "cell_type": "code",
   "execution_count": null,
   "metadata": {},
   "outputs": [],
   "source": [
    "# classification results\n",
    "for metric in ['test_accuracy']:\n",
    "    ml_methods_utils.make_barplot_to_compare_results(\n",
    "        class_results, \n",
    "        metric=metric, \n",
    "    )"
   ]
  },
  {
   "cell_type": "markdown",
   "metadata": {},
   "source": [
    "### plot some"
   ]
  },
  {
   "cell_type": "code",
   "execution_count": null,
   "metadata": {},
   "outputs": [],
   "source": [
    "# regression results\n",
    "for metric in ['test_pearson_r', 'test_r2']:\n",
    "# for metric in ['train_r2_Mean', 'train_pearson_r_Mean']:\n",
    "    ml_methods_utils.make_barplot_to_compare_results(\n",
    "            reg_results, \n",
    "            metric=metric, \n",
    "            features=['cur_ff_distance', 'cur_ff_angle', 'cur_ff_rel_x', 'cur_ff_rel_y', 'abs_cur_ff_angle', 'abs_cur_ff_rel_x',\n",
    "                      'nxt_ff_distance', 'nxt_ff_angle', 'nxt_ff_rel_x', 'nxt_ff_rel_y', 'abs_nxt_ff_angle', 'abs_nxt_ff_rel_x',\n",
    "                      'time_rel_to_stop', 'time_since_last_capture'],\n",
    "        )\n",
    "    print('='*100)\n",
    "    print('='*100)"
   ]
  },
  {
   "cell_type": "markdown",
   "metadata": {},
   "source": [
    "## segment split regress train-test\n",
    "Warning: results can be very unstable due to the stochasticity of train-test split"
   ]
  },
  {
   "cell_type": "code",
   "execution_count": null,
   "metadata": {},
   "outputs": [],
   "source": [
    "x_var = pn.concat_neural_trials\n",
    "y_var = pn.concat_behav_trials\n",
    "\n",
    "columns_of_interest = ['nxt_ff_rel_y', 'nxt_opt_arc_dheading', 'nxt_ff_rel_x', 'nxt_ff_angle', 'nxt_ff_angle_at_ref']\n",
    "ml_methods_utils.run_segment_split_regression(x_var, y_var, columns_of_interest)"
   ]
  },
  {
   "cell_type": "markdown",
   "metadata": {},
   "source": [
    "## plot latent dimensions"
   ]
  },
  {
   "cell_type": "code",
   "execution_count": null,
   "metadata": {},
   "outputs": [],
   "source": [
    "raw_data_folder_path"
   ]
  },
  {
   "cell_type": "code",
   "execution_count": null,
   "metadata": {},
   "outputs": [],
   "source": [
    "plot_gpfa_utils.plot_gpfa_traj_3d_timecolored_average(pn.trajectories)\n"
   ]
  },
  {
   "cell_type": "code",
   "execution_count": null,
   "metadata": {},
   "outputs": [],
   "source": [
    "plot_gpfa_utils.plot_gpfa_traj_3d_uniform_color(pn.trajectories)\n"
   ]
  },
  {
   "cell_type": "code",
   "execution_count": null,
   "metadata": {},
   "outputs": [],
   "source": [
    "# First, enable interactive mode in your notebook\n",
    "%matplotlib inline\n",
    "\n",
    "# Import required modules\n",
    "import numpy as np\n",
    "import matplotlib.pyplot as plt\n",
    "from mpl_toolkits.mplot3d import Axes3D\n",
    "from matplotlib import cm\n",
    "\n",
    "# Create the interactive plot\n",
    "fig, ax = plot_gpfa_utils.plot_gpfa_traj_3d(\n",
    "    trajectories=pn.trajectories,\n",
    "    figsize=(15, 5),\n",
    "    linewidth_single_trial=0.75,\n",
    "    alpha_single_trial=0.3,\n",
    "    linewidth_trial_average=2,\n",
    "    title='Latent dynamics extracted by GPFA',\n",
    "    view_azim=-5,\n",
    "    view_elev=60\n",
    ")\n",
    "\n",
    "plt.show()"
   ]
  },
  {
   "cell_type": "code",
   "execution_count": null,
   "metadata": {},
   "outputs": [],
   "source": [
    "# fig = plot_gpfa_utils.plot_gpfa_traj_3d_plotly(trajectories)"
   ]
  },
  {
   "cell_type": "code",
   "execution_count": null,
   "metadata": {},
   "outputs": [],
   "source": [
    "# Find variance explained by each latent dimension\n",
    "traj_stack = np.stack(pn.trajectories, axis=0)  # shape: (n_trials, 3, T)\n",
    "var_by_dim = np.var(traj_stack, axis=(0, 2))    # variance across trials and time\n",
    "var_by_dim /= var_by_dim.sum()               # normalize to get explained variance ratio\n",
    "print(\"Variance explained by each latent dimension:\", var_by_dim)\n"
   ]
  },
  {
   "cell_type": "code",
   "execution_count": null,
   "metadata": {},
   "outputs": [],
   "source": [
    "\n",
    "%matplotlib inline\n",
    "import matplotlib.pyplot as plt\n",
    "import numpy as np\n",
    "\n",
    "fig, ax = plt.subplots(figsize=(15, 5))\n",
    "\n",
    "ax.set_title('Latent dynamics extracted by GPFA')\n",
    "ax.set_xlabel('Time [s]')\n",
    "\n",
    "average_trajectory = np.mean(pn.trajectories, axis=0)\n",
    "time = np.arange(len(average_trajectory[0])) * pn.bin_width  # assuming all trajectories have the same length\n",
    "\n",
    "for i, x in enumerate(average_trajectory):\n",
    "    ax.plot(time, x, label=f'Dim {i+1}')\n",
    "\n",
    "ax.legend()\n",
    "\n",
    "plt.tight_layout()\n",
    "plt.show()\n"
   ]
  },
  {
   "cell_type": "markdown",
   "metadata": {},
   "source": [
    "## check corr between vars"
   ]
  },
  {
   "cell_type": "code",
   "execution_count": null,
   "metadata": {},
   "outputs": [],
   "source": [
    "feature1 = 'new_segment'\n",
    "feature2 = 'target_index'\n",
    "\n",
    "from scipy.stats import pearsonr\n",
    "\n",
    "x = pn.concat_behav_trials[feature1].values\n",
    "y = pn.concat_behav_trials[feature2].values\n",
    "\n",
    "r, p = pearsonr(x, y)\n",
    "print(f\"Pearson r: {r:.16f}\")"
   ]
  },
  {
   "cell_type": "code",
   "execution_count": null,
   "metadata": {},
   "outputs": [],
   "source": [
    "import matplotlib.pyplot as plt\n",
    "from sklearn.linear_model import LinearRegression\n",
    "import numpy as np\n",
    "\n",
    "# Extract the data\n",
    "x = pn.concat_behav_trials[feature1].values.reshape(-1, 1)  # Ensure x is 2D\n",
    "y = pn.concat_behav_trials[feature2].values          # y can remain 1D\n",
    "\n",
    "# Fit the linear regression model\n",
    "model = LinearRegression()\n",
    "model.fit(x, y)\n",
    "\n",
    "# Predict y values for the regression line\n",
    "y_pred = model.predict(x)\n",
    "\n",
    "# Plot scatter and regression line\n",
    "plt.figure(figsize=(8, 6))\n",
    "plt.scatter(x, y, color='blue', label='Data points', alpha=0.6)\n",
    "plt.plot(x, y_pred, color='red', linewidth=2, label='Regression line')\n",
    "plt.xlabel('Behavioral Time')\n",
    "plt.ylabel('Neural Event Time')\n",
    "plt.title('Linear Regression of Neural vs Behavioral Time')\n",
    "plt.legend()\n",
    "plt.grid(True)\n",
    "plt.show()\n"
   ]
  },
  {
   "cell_type": "markdown",
   "metadata": {},
   "source": [
    "## why poor performance?"
   ]
  },
  {
   "cell_type": "code",
   "execution_count": null,
   "metadata": {},
   "outputs": [],
   "source": [
    "stop!"
   ]
  },
  {
   "cell_type": "code",
   "execution_count": null,
   "metadata": {},
   "outputs": [],
   "source": [
    "import neural_data_analysis.neural_analysis_tools.gpfa_methods.time_resolved_regression as time_resolved_regression\n",
    "\n",
    "# 1. Print number of trials per timepoint\n",
    "time_resolved_regression.print_trials_per_timepoint(pn.gpfa_neural_trials)\n",
    "\n",
    "# 2. Check for NaNs\n",
    "time_resolved_regression.check_for_nans_in_trials(pn.gpfa_neural_trials, name='latent')\n",
    "time_resolved_regression.check_for_nans_in_trials(pn.behav_trials, name='behavioral')\n",
    "\n",
    "# 3. Standardize trials\n",
    "latent_trials_std = time_resolved_regression.standardize_trials(pn.gpfa_neural_trials)\n",
    "behav_trials_std = time_resolved_regression.standardize_trials(pn.behav_trials)\n",
    "\n",
    "# 4. Plot latent and behavioral variables for a few trials\n",
    "time_resolved_regression.plot_latents_and_behav_trials(latent_trials_std, behav_trials_std, pn.bin_width, n_trials=5)\n"
   ]
  },
  {
   "cell_type": "markdown",
   "metadata": {},
   "source": [
    "# why time prediction is good"
   ]
  },
  {
   "cell_type": "code",
   "execution_count": null,
   "metadata": {},
   "outputs": [],
   "source": []
  },
  {
   "cell_type": "markdown",
   "metadata": {},
   "source": [
    "# Appendix"
   ]
  },
  {
   "cell_type": "markdown",
   "metadata": {},
   "source": [
    "## see rel_cur_ff_first_seen_time distribution"
   ]
  },
  {
   "cell_type": "code",
   "execution_count": null,
   "metadata": {},
   "outputs": [],
   "source": [
    "rel_seen_time_df = pn.planning_data_by_point[['rel_cur_ff_first_seen_time_bbas', 'rel_cur_ff_last_seen_time_bbas']].drop_duplicates().reset_index(drop=True)\n",
    "sns.histplot(rel_seen_time_df['rel_cur_ff_first_seen_time_bbas'], bins=50, label='cur ff first seen')\n",
    "sns.histplot(rel_seen_time_df['rel_cur_ff_last_seen_time_bbas'], bins=50, label='cur ff last seen')\n",
    "plt.xlabel('Time relative to stop (s)')\n",
    "plt.ylabel('Count')\n",
    "plt.title('Time relative to stop')\n",
    "plt.legend()\n",
    "plt.show()"
   ]
  },
  {
   "cell_type": "markdown",
   "metadata": {},
   "source": [
    "## debug inconsistent number of new_bins"
   ]
  },
  {
   "cell_type": "code",
   "execution_count": null,
   "metadata": {},
   "outputs": [],
   "source": [
    "# example trajectories\n",
    "for traj in pn.trajectories[:]:\n",
    "    print(traj.shape)"
   ]
  },
  {
   "cell_type": "code",
   "execution_count": null,
   "metadata": {},
   "outputs": [],
   "source": [
    "for traj in pn.behav_trials[:]:\n",
    "    print(traj.shape)\n"
   ]
  },
  {
   "cell_type": "code",
   "execution_count": null,
   "metadata": {},
   "outputs": [],
   "source": [
    "segments = pn.rebinned_behav_data.groupby('new_segment').size()[pn.rebinned_behav_data.groupby('new_segment').size() < 10].index"
   ]
  },
  {
   "cell_type": "code",
   "execution_count": null,
   "metadata": {},
   "outputs": [],
   "source": [
    "pn.rebinned_behav_data[pn.rebinned_behav_data['new_segment'].isin(segments)]"
   ]
  },
  {
   "cell_type": "markdown",
   "metadata": {},
   "source": [
    "## exp: to match (new_segment, new_bin) tuples"
   ]
  },
  {
   "cell_type": "code",
   "execution_count": null,
   "metadata": {},
   "outputs": [],
   "source": [
    "reload(pn_aligned_by_event)\n",
    "reload(gpfa_helper_class)"
   ]
  },
  {
   "cell_type": "code",
   "execution_count": null,
   "metadata": {},
   "outputs": [],
   "source": [
    "pn.prepare_seg_aligned_data(cur_or_nxt='cur', first_or_last='last', time_limit_to_count_sighting=2,\n",
    "                              pre_event_window=1, post_event_window=0.75, rebinned_max_x_lag_number=2)"
   ]
  },
  {
   "cell_type": "code",
   "execution_count": null,
   "metadata": {},
   "outputs": [],
   "source": [
    "pn.rebinned_y_var.columns"
   ]
  },
  {
   "cell_type": "code",
   "execution_count": null,
   "metadata": {},
   "outputs": [],
   "source": [
    "pn.rebinned_y_var['bin_mid_time_rel_to_event'].unique()"
   ]
  },
  {
   "cell_type": "code",
   "execution_count": null,
   "metadata": {},
   "outputs": [],
   "source": [
    "pn.rebinned_y_var.groupby('new_segment').min()['new_bin'].max()"
   ]
  },
  {
   "cell_type": "code",
   "execution_count": null,
   "metadata": {},
   "outputs": [],
   "source": [
    "pn.rebinned_x_var.groupby('new_segment').min()['new_bin'].max()"
   ]
  },
  {
   "cell_type": "code",
   "execution_count": null,
   "metadata": {},
   "outputs": [],
   "source": [
    "pn.rebinned_y_var.groupby('new_segment').size()"
   ]
  },
  {
   "cell_type": "code",
   "execution_count": null,
   "metadata": {},
   "outputs": [],
   "source": [
    "pn.rebinned_y_var"
   ]
  },
  {
   "cell_type": "code",
   "execution_count": null,
   "metadata": {},
   "outputs": [],
   "source": [
    "# example trajectories\n",
    "for traj in pn.trajectories[:]:\n",
    "    print(traj.shape)"
   ]
  },
  {
   "cell_type": "code",
   "execution_count": null,
   "metadata": {},
   "outputs": [],
   "source": [
    "pn.gpfa_neural_trials[0].shape"
   ]
  },
  {
   "cell_type": "code",
   "execution_count": null,
   "metadata": {},
   "outputs": [],
   "source": [
    "pn.get_gpfa_traj(latent_dimensionality=7, exists_ok=False)"
   ]
  },
  {
   "cell_type": "code",
   "execution_count": null,
   "metadata": {},
   "outputs": [],
   "source": [
    "# for regression later\n",
    "use_raw_spike_data_instead = False\n",
    "\n",
    "pn.get_concat_data_for_regression(use_raw_spike_data_instead=False,\n",
    "                                    use_lagged_raw_spike_data=False,\n",
    "                                    apply_pca_on_raw_spike_data=False,\n",
    "                                    num_pca_components=7)\n",
    "\n",
    "\n",
    "pn.print_data_dimensions()"
   ]
  },
  {
   "cell_type": "code",
   "execution_count": null,
   "metadata": {},
   "outputs": [],
   "source": [
    "import pandas as pd\n",
    "import numpy as np\n",
    "\n",
    "# Assuming `pn.concat_behav_trials` and `pn.concat_neural_trials` are DataFrames:\n",
    "\n",
    "# Convert the relevant columns to sets of tuples\n",
    "behav_set = set(map(tuple, pn.concat_behav_trials[['new_segment', 'new_bin']].values))\n",
    "neural_set = set(map(tuple, pn.concat_neural_trials[['new_segment', 'new_bin']].values))\n",
    "\n",
    "# Compute the difference\n",
    "diff = behav_set - neural_set\n",
    "diff2 = neural_set - behav_set"
   ]
  },
  {
   "cell_type": "code",
   "execution_count": null,
   "metadata": {},
   "outputs": [],
   "source": [
    "diff2"
   ]
  },
  {
   "cell_type": "code",
   "execution_count": null,
   "metadata": {},
   "outputs": [],
   "source": [
    "df = pn.rebinned_behav_data[['new_segment', 'new_bin']]\n",
    "df"
   ]
  },
  {
   "cell_type": "code",
   "execution_count": null,
   "metadata": {},
   "outputs": [],
   "source": [
    "pn.concat_neural_trials"
   ]
  },
  {
   "cell_type": "code",
   "execution_count": null,
   "metadata": {},
   "outputs": [],
   "source": [
    "pn.concat_behav_trials"
   ]
  },
  {
   "cell_type": "code",
   "execution_count": null,
   "metadata": {},
   "outputs": [],
   "source": [
    "pn.concat_neural_trials[['new_segment', 'new_bin']].drop_duplicates().shape"
   ]
  },
  {
   "cell_type": "code",
   "execution_count": null,
   "metadata": {},
   "outputs": [],
   "source": [
    "# example trajectories\n",
    "for traj in pn.trajectories[:5]:\n",
    "    print(traj.shape)"
   ]
  },
  {
   "cell_type": "code",
   "execution_count": null,
   "metadata": {},
   "outputs": [],
   "source": [
    "for traj in pn.behav_trials[:5]:\n",
    "    print(traj.shape)\n"
   ]
  },
  {
   "cell_type": "code",
   "execution_count": null,
   "metadata": {},
   "outputs": [],
   "source": [
    "df = pn.rebinned_behav_data[pn.rebinned_behav_data['new_segment'].isin([45])]\n",
    "df"
   ]
  },
  {
   "cell_type": "code",
   "execution_count": null,
   "metadata": {},
   "outputs": [],
   "source": [
    "pn.rebinned_behav_data.loc[700:730]"
   ]
  },
  {
   "cell_type": "markdown",
   "metadata": {},
   "source": [
    "## point-wise regression on one var"
   ]
  },
  {
   "cell_type": "code",
   "execution_count": null,
   "metadata": {},
   "outputs": [],
   "source": [
    "from contextlib import contextmanager\n",
    "import joblib\n",
    "from tqdm import tqdm\n",
    "from joblib import Parallel, delayed\n",
    "import sys\n",
    "from data_wrangling import process_monkey_information, specific_utils, further_processing_class, specific_utils, general_utils\n",
    "from neural_data_analysis.neural_analysis_tools.model_neural_data import transform_vars, neural_data_modeling, drop_high_corr_vars, drop_high_vif_vars\n",
    "from pattern_discovery import pattern_by_trials, pattern_by_points, make_ff_dataframe, ff_dataframe_utils, pattern_by_trials, pattern_by_points, cluster_analysis, organize_patterns_and_features, category_class\n",
    "from neural_data_analysis.topic_based_neural_analysis.neural_vs_behavioral import prep_monkey_data, prep_target_data, neural_vs_behavioral_class\n",
    "from neural_data_analysis.neural_analysis_tools.get_neural_data import neural_data_processing\n",
    "from null_behaviors import curvature_utils, curv_of_traj_utils\n",
    "import warnings\n",
    "import os\n",
    "import sys\n",
    "import numpy as np\n",
    "import matplotlib\n",
    "import matplotlib.pyplot as plt\n",
    "import pandas as pd\n",
    "import math\n",
    "import seaborn as sns\n",
    "import logging\n",
    "from matplotlib import rc\n",
    "from os.path import exists\n",
    "from statsmodels.stats.outliers_influence import variance_inflation_factor\n",
    "from elephant.gpfa import GPFA\n",
    "\n",
    "import numpy as np\n",
    "from sklearn.linear_model import RidgeCV\n",
    "from sklearn.model_selection import KFold, cross_val_score\n",
    "from sklearn.preprocessing import StandardScaler\n",
    "\n"
   ]
  },
  {
   "cell_type": "code",
   "execution_count": null,
   "metadata": {},
   "outputs": [],
   "source": [
    "# x_cols = [col for col in pn.concat_neural_trials.columns if col.startswith('dim_')]\n",
    "# x_df = pn.concat_neural_trials[x_cols].copy()"
   ]
  },
  {
   "cell_type": "code",
   "execution_count": null,
   "metadata": {},
   "outputs": [],
   "source": [
    "import statsmodels.api as sm\n",
    "from sklearn.model_selection import train_test_split\n",
    "\n",
    "for new_bin in pn.concat_neural_trials['new_bin'].unique():\n",
    "    x_df2 = pn.concat_neural_trials[pn.concat_neural_trials['new_bin'] == new_bin]\n",
    "    x_df2 = x_df2[[col for col in x_df2.columns if col.startswith('dim_')]]\n",
    "\n",
    "    # Add intercept\n",
    "    x_df2 = sm.add_constant(x_df2)\n",
    "\n",
    "    y_df2 = pn.concat_behav_trials[pn.concat_behav_trials['new_bin'] == new_bin][['segment']].copy()\n",
    "\n",
    "    # Train-test split\n",
    "    x_train, x_test, y_train, y_test = train_test_split(\n",
    "        x_df2, y_df2, test_size=0.2, random_state=42\n",
    "    )\n",
    "\n",
    "    # Fit OLS\n",
    "    model = sm.OLS(y_train, x_train)\n",
    "    results = model.fit()\n",
    "\n",
    "    print(results.summary())\n",
    "\n",
    "    # Evaluate on test set\n",
    "    y_pred = results.predict(x_test)\n",
    "    y_test_flat = y_test.squeeze()\n",
    "    r2_test = 1 - ((y_test_flat - y_pred) ** 2).sum() / ((y_test_flat - y_test_flat.mean()) ** 2).sum()\n",
    "    print(f\"Test R² score: {r2_test:.4f}\")\n",
    "    \n",
    "    # Create a comparison DataFrame\n",
    "    comparison_df = pd.DataFrame({\n",
    "        'y_test': y_test.squeeze().values,  # Ground truth\n",
    "        'y_pred': y_pred                    # Model predictions\n",
    "    })\n",
    "\n",
    "    print(comparison_df.head(10))  # Show the first 10 rows\n",
    "\n",
    "    break\n"
   ]
  },
  {
   "cell_type": "code",
   "execution_count": null,
   "metadata": {},
   "outputs": [],
   "source": [
    "import numpy as np\n",
    "from scipy.stats import pearsonr\n",
    "\n",
    "# Ensure both arrays are 1D\n",
    "y_test_flat = y_test.squeeze().values\n",
    "y_pred_flat = y_pred\n",
    "\n",
    "# Manually compute R² (already done, for reference)\n",
    "r2_test = 1 - ((y_test_flat - y_pred_flat) ** 2).sum() / ((y_test_flat - y_test_flat.mean()) ** 2).sum()\n",
    "\n",
    "# Compute Pearson correlation coefficient (R)\n",
    "if len(np.unique(y_test_flat)) > 1:\n",
    "    r_test = np.corrcoef(y_test_flat, y_pred_flat)[0, 1]\n",
    "    # Or alternatively: r_test, _ = pearsonr(y_test_flat, y_pred_flat)\n",
    "else:\n",
    "    r_test = np.nan  # Correlation is undefined when y is constant\n",
    "\n",
    "print(f\"Test R² score: {r2_test:.4f}\")\n",
    "print(f\"Test R (Pearson correlation): {r_test:.4f}\")\n"
   ]
  },
  {
   "cell_type": "code",
   "execution_count": null,
   "metadata": {},
   "outputs": [],
   "source": [
    "alphas = np.logspace(-6, 6, 13)\n",
    "kf = KFold(n_splits=cv_folds, shuffle=True, random_state=42)\n",
    "\n",
    "\n",
    "from sklearn.linear_model import RidgeCV\n",
    "from sklearn.model_selection import cross_val_score\n",
    "\n",
    "model = RidgeCV(alphas=alphas, fit_intercept=True)\n",
    "try:\n",
    "    score = cross_val_score(\n",
    "        model, x_df2, y_df2.values.ravel(), cv=kf, scoring='r2', n_jobs=1)\n",
    "    print(score.mean())\n",
    "except Exception:\n",
    "    pass\n"
   ]
  },
  {
   "cell_type": "markdown",
   "metadata": {},
   "source": [
    "## LR no CV"
   ]
  },
  {
   "cell_type": "code",
   "execution_count": null,
   "metadata": {},
   "outputs": [],
   "source": [
    "# Multivariate linear regression\n",
    "pn.y_var_lr_df = neural_data_modeling.get_y_var_lr_df(\n",
    "                pn.concat_neural_trials, pn.concat_behav_trials)"
   ]
  },
  {
   "cell_type": "code",
   "execution_count": null,
   "metadata": {},
   "outputs": [],
   "source": [
    "pn.y_var_lr_df.head(5)"
   ]
  },
  {
   "cell_type": "markdown",
   "metadata": {},
   "source": [
    "## LR on ind var"
   ]
  },
  {
   "cell_type": "code",
   "execution_count": null,
   "metadata": {},
   "outputs": [],
   "source": [
    "for test_or_control in ['both']:\n",
    "    x_var, y_var = pn.get_concat_x_and_y_var_for_lr(test_or_control=test_or_control)\n",
    "    y_var = y_var[['time_rel_to_stop', 'time_since_last_capture']].copy()\n",
    "    # train test split\n",
    "    X_train, X_test, y_train, y_test = train_test_split(x_var, y_var, test_size=0.2, random_state=42)\n",
    "    # use linear regression\n",
    "    for y_var_column in y_var.columns:\n",
    "        summary_df, y_pred, results, r2_test = regression_utils.use_linear_regression(\n",
    "            X_train, X_test, y_train[y_var_column], y_test[y_var_column], show_plot=True, y_var_name=y_var_column)\n",
    "        print(summary_df)\n",
    "        print(y_pred)\n",
    "        print(results)\n",
    "        print(r2_test)\n",
    "    "
   ]
  },
  {
   "cell_type": "markdown",
   "metadata": {},
   "source": [
    "## manually save scores_by_time_full_cv"
   ]
  },
  {
   "cell_type": "code",
   "execution_count": null,
   "metadata": {},
   "outputs": [],
   "source": []
  },
  {
   "cell_type": "code",
   "execution_count": null,
   "metadata": {},
   "outputs": [],
   "source": [
    "latent_dimensionality = 7\n",
    "cv_folds = 5\n",
    "bin_width_str = f\"{pn.bin_width:.4f}\".rstrip(\n",
    "    '0').rstrip('.').replace('.', 'p')\n",
    "file_name = f'scores_bin{bin_width_str}_{pn.cur_or_nxt}_{pn.first_or_last}_d{latent_dimensionality}_cv{cv_folds}.csv'\n",
    "\n",
    "\n",
    "time_resolved_cv_scores_gpfa_folder_path = os.path.join(\n",
    "                    pn.gpfa_data_folder_path, \"time_resolved_cv_scores_gpfa\")\n",
    "os.makedirs(time_resolved_cv_scores_gpfa_folder_path, exist_ok=True)\n",
    "time_resolved_cv_scores_path = os.path.join(\n",
    "            time_resolved_cv_scores_gpfa_folder_path, file_name)\n",
    "\n",
    "time_resolved_cv_scores_gpfa.to_csv(time_resolved_cv_scores_path)"
   ]
  },
  {
   "cell_type": "code",
   "execution_count": null,
   "metadata": {},
   "outputs": [],
   "source": [
    "time_resolved_cv_scores_path"
   ]
  },
  {
   "cell_type": "code",
   "execution_count": null,
   "metadata": {},
   "outputs": [],
   "source": [
    "time_resolved_cv_scores_gpfa = time_resolved_cv_scores"
   ]
  },
  {
   "cell_type": "code",
   "execution_count": null,
   "metadata": {},
   "outputs": [],
   "source": [
    "file_name"
   ]
  }
 ],
 "metadata": {
  "kernelspec": {
   "display_name": "multiff_clean",
   "language": "python",
   "name": "python3"
  },
  "language_info": {
   "codemirror_mode": {
    "name": "ipython",
    "version": 3
   },
   "file_extension": ".py",
   "mimetype": "text/x-python",
   "name": "python",
   "nbconvert_exporter": "python",
   "pygments_lexer": "ipython3",
   "version": "3.11.13"
  }
 },
 "nbformat": 4,
 "nbformat_minor": 2
}
