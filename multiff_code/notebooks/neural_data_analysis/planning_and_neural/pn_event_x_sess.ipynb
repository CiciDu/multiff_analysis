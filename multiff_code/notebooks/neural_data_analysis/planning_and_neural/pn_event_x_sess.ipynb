{
 "cells": [
  {
   "cell_type": "markdown",
   "metadata": {},
   "source": [
    "# Import packages"
   ]
  },
  {
   "cell_type": "code",
   "execution_count": null,
   "metadata": {},
   "outputs": [],
   "source": [
    "%load_ext autoreload\n",
    "%autoreload 2\n",
    "\n",
    "import os, sys, sys\n",
    "from pathlib import Path\n",
    "for p in [Path.cwd()] + list(Path.cwd().parents):\n",
    "    if p.name == 'Multifirefly-Project':\n",
    "        os.chdir(p)\n",
    "        sys.path.insert(0, str(p / 'multiff_analysis/multiff_code/methods'))\n",
    "        break\n",
    "    \n",
    "from data_wrangling import specific_utils, process_monkey_information, general_utils\n",
    "from pattern_discovery import pattern_by_trials, pattern_by_trials, cluster_analysis, organize_patterns_and_features\n",
    "from visualization.matplotlib_tools import plot_behaviors_utils\n",
    "from neural_data_analysis.neural_analysis_tools.get_neural_data import neural_data_processing\n",
    "from neural_data_analysis.neural_analysis_tools.visualize_neural_data import plot_neural_data, plot_modeling_result\n",
    "from neural_data_analysis.neural_analysis_tools.model_neural_data import transform_vars, neural_data_modeling, drop_high_corr_vars, drop_high_vif_vars\n",
    "from neural_data_analysis.topic_based_neural_analysis.neural_vs_behavioral import prep_monkey_data, prep_target_data, neural_vs_behavioral_class\n",
    "from neural_data_analysis.topic_based_neural_analysis.planning_and_neural import planning_and_neural_class, pn_utils, pn_helper_class, pn_aligned_by_seg, pn_aligned_by_event\n",
    "from neural_data_analysis.neural_analysis_tools.cca_methods import cca_class\n",
    "from neural_data_analysis.neural_analysis_tools.cca_methods import cca_class, cca_utils, cca_cv_utils\n",
    "from neural_data_analysis.neural_analysis_tools.cca_methods.cca_plotting import cca_plotting, cca_plot_lag_vs_no_lag, cca_plot_cv\n",
    "from machine_learning.ml_methods import regression_utils, regz_regression_utils, ml_methods_class, classification_utils, ml_plotting_utils, ml_methods_utils\n",
    "from planning_analysis.show_planning import nxt_ff_utils, show_planning_utils\n",
    "from neural_data_analysis.neural_analysis_tools.gpfa_methods import elephant_utils, fit_gpfa_utils, plot_gpfa_utils, gpfa_helper_class\n",
    "from neural_data_analysis.neural_analysis_tools.align_trials import align_trial_utils\n",
    "from data_wrangling import combine_info_utils, base_processing_class\n",
    "from neural_data_analysis.neural_analysis_tools.align_trials import time_resolved_regression, time_resolved_gpfa_regression,plot_time_resolved_regression\n",
    "\n",
    "import sys\n",
    "import math\n",
    "import gc\n",
    "import subprocess\n",
    "from pathlib import Path\n",
    "from importlib import reload\n",
    "\n",
    "# Third-party imports\n",
    "import numpy as np\n",
    "import pandas as pd\n",
    "import matplotlib\n",
    "import matplotlib.pyplot as plt\n",
    "import seaborn as sns\n",
    "from matplotlib import rc\n",
    "from scipy import linalg, interpolate\n",
    "from scipy.signal import fftconvolve\n",
    "from scipy.io import loadmat\n",
    "from scipy import sparse\n",
    "import torch\n",
    "from numpy import pi\n",
    "import warnings\n",
    "\n",
    "# Machine Learning imports\n",
    "from sklearn.metrics import mean_squared_error, r2_score\n",
    "from sklearn.linear_model import LinearRegression, Ridge\n",
    "from sklearn.preprocessing import StandardScaler\n",
    "from sklearn.model_selection import train_test_split, GridSearchCV\n",
    "from statsmodels.stats.outliers_influence import variance_inflation_factor\n",
    "from statsmodels.multivariate.cancorr import CanCorr\n",
    "\n",
    "# Neuroscience specific imports\n",
    "import neo\n",
    "import rcca\n",
    "import quantities as pq\n",
    "\n",
    "plt.rcParams[\"animation.html\"] = \"html5\"\n",
    "os.environ['KMP_DUPLICATE_LIB_OK']='True'\n",
    "rc('animation', html='jshtml')\n",
    "matplotlib.rcParams.update(matplotlib.rcParamsDefault)\n",
    "matplotlib.rcParams['animation.embed_limit'] = 2**128\n",
    "pd.set_option('display.float_format', lambda x: '%.5f' % x)\n",
    "np.set_printoptions(suppress=True)\n",
    "print(\"done\")\n",
    "\n",
    "%load_ext autoreload\n",
    "%autoreload 2"
   ]
  },
  {
   "cell_type": "markdown",
   "metadata": {},
   "source": [
    "## exp"
   ]
  },
  {
   "cell_type": "code",
   "execution_count": null,
   "metadata": {},
   "outputs": [],
   "source": [
    "raw_data_folder_path = 'all_monkey_data/raw_monkey_data/monkey_Bruno/data_0226'\n",
    "print('='*100)\n",
    "print(raw_data_folder_path)\n",
    "\n",
    "# try:    \n",
    "# check if the files already exist (hardcoded for now)\n",
    "neural_path = raw_data_folder_path.replace('raw_monkey_data', 'planning_and_neural')\n",
    "df1_path = os.path.join(neural_path, 'event_aligned/time_resolved_cv_scores_gpfa/scores_b0p1_t2_cur_first_p0p25_po0p75_d7_cv5.csv')\n",
    "df2_path = os.path.join(neural_path, 'event_aligned/time_resolved_cv_scores/precomputed_gpfa/scores_b0p1_t2_cur_first_p0p25_po0p75_d7_cv5.csv')\n",
    "if os.path.exists(df1_path) and os.path.exists(df2_path):\n",
    "    print('Files already exist')\n",
    "\n",
    "pn = pn_aligned_by_event.PlanningAndNeuralEventAligned(raw_data_folder_path=raw_data_folder_path)\n",
    "time_resolved_regression.streamline_getting_time_resolved_cv_scores(pn, cv_folds=2)"
   ]
  },
  {
   "cell_type": "markdown",
   "metadata": {},
   "source": [
    "## Iterate over session"
   ]
  },
  {
   "cell_type": "code",
   "execution_count": null,
   "metadata": {},
   "outputs": [],
   "source": [
    "pn.time_resolved_cv_scores_gpfa = pn.all_scores_df\n",
    "pn.time_resolved_cv_scores_gpfa['bin_mid_time'] = pn.time_resolved_cv_scores_gpfa['new_bin'] * \\\n",
    "    pn.bin_width + pn.new_bin_start_time + pn.bin_width/2\n",
    "\n",
    "pn.time_resolved_cv_scores_gpfa['trial_count'] = pn.time_resolved_cv_scores_gpfa['train_trial_count']\n",
    "\n",
    "pn.plot_time_resolved_regression(time_resolved_cv_scores=pn.time_resolved_cv_scores_gpfa, score_threshold_to_plot=0.1)"
   ]
  },
  {
   "cell_type": "code",
   "execution_count": null,
   "metadata": {},
   "outputs": [],
   "source": [
    "raw_data_dir_name = 'all_monkey_data/raw_monkey_data'\n",
    "\n",
    "for monkey_name in ['monkey_Bruno', 'monkey_Schro']:\n",
    "    sessions_df_for_one_monkey = combine_info_utils.make_sessions_df_for_one_monkey(\n",
    "            raw_data_dir_name, monkey_name)\n",
    "\n",
    "    # with warnings.catch_warnings():\n",
    "    #     warnings.simplefilter(\"ignore\")\n",
    "    for index, row in sessions_df_for_one_monkey.iterrows():\n",
    "        if row['finished'] is True:\n",
    "            continue\n",
    "        raw_data_folder_path = os.path.join(\n",
    "            raw_data_dir_name, row['monkey_name'], row['data_name'])\n",
    "        print('='*100)\n",
    "        print(raw_data_folder_path)\n",
    "        \n",
    "        # try:    \n",
    "        # check if the files already exist (hardcoded for now)\n",
    "        neural_path = raw_data_folder_path.replace('raw_monkey_data', 'planning_and_neural')\n",
    "        df1_path = os.path.join(neural_path, 'event_aligned/time_resolved_cv_scores_gpfa/scores_b0p1_t2_cur_first_p0p25_po0p75_d7_cv5.csv')\n",
    "        df2_path = os.path.join(neural_path, 'event_aligned/time_resolved_cv_scores/precomputed_gpfa/scores_b0p1_t2_cur_first_p0p25_po0p75_d7_cv5.csv')\n",
    "        if os.path.exists(df1_path) and os.path.exists(df2_path):\n",
    "            print('Files already exist')\n",
    "            continue\n",
    "        \n",
    "        pn = pn_aligned_by_event.PlanningAndNeuralEventAligned(raw_data_folder_path=raw_data_folder_path)\n",
    "        time_resolved_regression.streamline_getting_time_resolved_cv_scores(pn)\n",
    "        sessions_df_for_one_monkey.loc[index, 'finished'] = True\n",
    "        # except Exception as e:\n",
    "        #     print(e)\n",
    "        #     continue\n",
    "        \n",
    "\n"
   ]
  },
  {
   "cell_type": "markdown",
   "metadata": {},
   "source": [
    "## visualize"
   ]
  },
  {
   "cell_type": "code",
   "execution_count": null,
   "metadata": {},
   "outputs": [],
   "source": [
    "pn.time_resolved_cv_scores"
   ]
  },
  {
   "cell_type": "code",
   "execution_count": null,
   "metadata": {},
   "outputs": [],
   "source": [
    "pn.time_resolved_cv_scores_gpfa"
   ]
  },
  {
   "cell_type": "code",
   "execution_count": null,
   "metadata": {},
   "outputs": [],
   "source": [
    "pn.time_resolved_cv_scores"
   ]
  },
  {
   "cell_type": "code",
   "execution_count": null,
   "metadata": {},
   "outputs": [],
   "source": [
    "raw_data_dir_name = 'all_monkey_data/raw_monkey_data'\n",
    "monkey_name = 'monkey_Bruno'\n",
    "sessions_df_for_one_monkey = combine_info_utils.make_sessions_df_for_one_monkey(\n",
    "        raw_data_dir_name, monkey_name)\n",
    "\n",
    "\n",
    "for feature in ['time_rel_to_stop', 'cur_ff_distance', 'cur_ff_rel_x', 'nxt_ff_distance', 'nxt_ff_rel_x', 'time_since_last_capture']:\n",
    "    print('='*100)\n",
    "    print('='*100)\n",
    "    print(feature)\n",
    "    for index, row in sessions_df_for_one_monkey.iterrows():\n",
    "        if row['finished'] is True:\n",
    "            continue\n",
    "        raw_data_folder_path = os.path.join(\n",
    "            raw_data_dir_name, row['monkey_name'], row['data_name'])\n",
    "        print('='*100)\n",
    "        print(raw_data_folder_path)\n",
    "        \n",
    "        # check if the files already exist (hardcoded for now)\n",
    "        neural_path = raw_data_folder_path.replace('raw_monkey_data', 'planning_and_neural')\n",
    "        df1_path = os.path.join(neural_path, 'event_aligned/time_resolved_cv_scores_gpfa/scores_b0p1_t2_cur_first_p0p25_po0p75_d7_cv5.csv')\n",
    "        df2_path = os.path.join(neural_path, 'event_aligned/time_resolved_cv_scores/precomputed_gpfa/scores_b0p1_t2_cur_first_p0p25_po0p75_d7_cv5.csv')\n",
    "        if not (os.path.exists(df1_path) and os.path.exists(df2_path)):\n",
    "            print('Files don\\'t exist yet.')\n",
    "            continue\n",
    "        \n",
    "        pn.time_resolved_cv_scores_gpfa = pd.read_csv(df1_path)\n",
    "        pn.time_resolved_cv_scores = pd.read_csv(df2_path)\n",
    "        \n",
    "        new_cv_scores = pd.concat([pn.time_resolved_cv_scores[['new_bin', 'bin_mid_time', 'trial_count', feature]], \n",
    "                                pn.time_resolved_cv_scores_gpfa[[feature]].rename(columns={feature: f'{feature}_cv_w_gpfa'})], axis=1)\n",
    "        pn.plot_time_resolved_regression(time_resolved_cv_scores=new_cv_scores, score_threshold_to_plot=None,\n",
    "                                        rank_by_max_score=False)\n",
    "\n",
    "\n",
    "        break"
   ]
  }
 ],
 "metadata": {
  "kernelspec": {
   "display_name": "ff_venv2",
   "language": "python",
   "name": "python3"
  },
  "language_info": {
   "codemirror_mode": {
    "name": "ipython",
    "version": 3
   },
   "file_extension": ".py",
   "mimetype": "text/x-python",
   "name": "python",
   "nbconvert_exporter": "python",
   "pygments_lexer": "ipython3",
   "version": "3.11.11"
  }
 },
 "nbformat": 4,
 "nbformat_minor": 2
}
