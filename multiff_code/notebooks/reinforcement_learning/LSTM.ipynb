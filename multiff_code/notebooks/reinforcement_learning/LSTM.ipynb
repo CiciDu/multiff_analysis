{
 "cells": [
  {
   "cell_type": "markdown",
   "id": "0",
   "metadata": {
    "id": "8446ba7d"
   },
   "source": [
    "Note: all \".to(device)\" are deleted because Apple M1 chip does does support it."
   ]
  },
  {
   "cell_type": "markdown",
   "id": "1",
   "metadata": {
    "id": "b83af57b"
   },
   "source": [
    "Would recommend using Google Colab instead because it will be much faster"
   ]
  },
  {
   "cell_type": "markdown",
   "id": "2",
   "metadata": {
    "id": "KMRCk6qpFsyH"
   },
   "source": [
    "Source of LSTM codes:\n",
    "https://github.com/quantumiracle/Popular-RL-Algorithms/blob/master/sac_v2_lstm.py"
   ]
  },
  {
   "cell_type": "markdown",
   "id": "3",
   "metadata": {
    "id": "9v84SVugD_4N"
   },
   "source": [
    "# Set up"
   ]
  },
  {
   "cell_type": "markdown",
   "id": "4",
   "metadata": {
    "id": "2zXSUqm6EmCJ"
   },
   "source": [
    "## install packages"
   ]
  },
  {
   "cell_type": "code",
   "execution_count": null,
   "id": "5",
   "metadata": {
    "id": "KHTF-1PvqrtN"
   },
   "outputs": [],
   "source": [
    "from google.colab import drive # import drive from google colab\n",
    "drive.mount(\"/content/drive\") \n",
    "!pip install neo\n",
    "!pip install matplotlib_scalebar\n",
    "!pip install ffmpeg\n",
    "!pip install stable_baselines3\n",
    "!pip install optuna"
   ]
  },
  {
   "cell_type": "code",
   "execution_count": null,
   "id": "6",
   "metadata": {},
   "outputs": [],
   "source": [
    "%cd /content/drive/MyDrive/ff_repo/Multifirefly-Project"
   ]
  },
  {
   "cell_type": "markdown",
   "id": "7",
   "metadata": {
    "id": "93C64_FAEoSJ"
   },
   "source": [
    "## import packages"
   ]
  },
  {
   "cell_type": "code",
   "execution_count": null,
   "id": "8",
   "metadata": {
    "id": "06f9c7f3"
   },
   "outputs": [],
   "source": [
    "from pathlib import Path\n",
    "import os, sys\n",
    "for p in [Path.cwd()] + list(Path.cwd().parents):\n",
    "    if p.name == 'Multifirefly-Project':\n",
    "        os.chdir(p)\n",
    "        sys.path.insert(0, str(p / 'multiff_analysis/multiff_code/methods'))\n",
    "        break\n",
    "\n",
    "\n",
    "%load_ext autoreload\n",
    "%autoreload 2\n",
    "\n",
    "import sys\n",
    "from data_wrangling import specific_utils, process_monkey_information, base_processing_class\n",
    "from pattern_discovery import pattern_by_trials, pattern_by_points, make_ff_dataframe, ff_dataframe_utils, pattern_by_trials, pattern_by_points, cluster_analysis, organize_patterns_and_features, category_class\n",
    "from decision_making_analysis.cluster_replacement import cluster_replacement_class, cluster_replacement_utils, plot_cluster_replacement\n",
    "from decision_making_analysis.decision_making import decision_making_utils, plot_decision_making, intended_targets_classes\n",
    "from decision_making_analysis.GUAT import GUAT_helper_class, GUAT_collect_info_class, GUAT_combine_info_class, process_GUAT_trials_class, GUAT_and_TAFT\n",
    "from decision_making_analysis import free_selection, replacement, trajectory_info\n",
    "from visualization.matplotlib_tools import plot_trials, plot_polar, additional_plots, plot_behaviors_utils, plot_statistics\n",
    "from visualization.animation import animation_func, animation_utils, animation_class\n",
    "from null_behaviors import sample_null_distributions, show_null_trajectory\n",
    "from machine_learning.ml_methods import regression_utils, classification_utils, prep_ml_data_utils, hyperparam_tuning_class\n",
    "from machine_learning.RL.env_related import env_for_lstm, env_utils, base_env, collect_agent_data_utils\n",
    "from machine_learning.RL.lstm import GRU_functions, LSTM_functions, LSTM_functions, lstm_for_multiff_class\n",
    "from machine_learning.RL.SB3 import interpret_neural_network, sb3_for_multiff_class, rl_for_multiff_utils, SB3_functions\n",
    "from eye_position_analysis import eye_positions\n",
    "from neural_data_analysis.neural_analysis_tools.model_neural_data import neural_data_modeling\n",
    "from decision_making_analysis.compare_GUAT_and_TAFT import find_GUAT_or_TAFT_trials\n",
    "\n",
    "\n",
    "import os, sys\n",
    "import torch\n",
    "import numpy as np\n",
    "import pickle\n",
    "from gymnasium import spaces, Env\n",
    "import torch\n",
    "import optuna\n",
    "from numpy import pi\n",
    "import matplotlib.pyplot as plt\n",
    "import matplotlib.animation as animation\n",
    "from torch.linalg import vector_norm\n",
    "from IPython.display import HTML\n",
    "from functools import partial\n",
    "from optuna.pruners import MedianPruner\n",
    "from optuna.samplers import TPESampler\n",
    "import gc\n",
    "plt.rcParams[\"animation.html\"] = \"html5\"\n",
    "torch.set_printoptions(sci_mode=False)\n",
    "np.set_printoptions(suppress=True)\n",
    "\n",
    "device_idx = 0\n",
    "# device = torch.device(\"cuda:\" + str(device_idx) if torch.cuda.is_available() else \"cpu\")\n",
    "## if using Jupyter Notebook\n",
    "device = \"mps\" if torch.backends.mps.is_available() else \"cpu\"\n",
    "model_folder_name = \"RL_models/LSTM_stored_models/all_agents/gen_0/LSTM_Aug_1_24\"\n",
    "os.makedirs(model_folder_name, exist_ok=True)\n",
    "PLAYER = \"agent\""
   ]
  },
  {
   "cell_type": "code",
   "execution_count": null,
   "id": "9",
   "metadata": {},
   "outputs": [],
   "source": [
    "stop!"
   ]
  },
  {
   "cell_type": "markdown",
   "id": "10",
   "metadata": {},
   "source": [
    "# streamline everything"
   ]
  },
  {
   "cell_type": "code",
   "execution_count": null,
   "id": "11",
   "metadata": {},
   "outputs": [],
   "source": [
    "# env for curriculum training...\n",
    "\n",
    "env_kwargs = {\n",
    "    \"reward_per_ff\": 80,\n",
    "    \"time_cost\": 0,\n",
    "    \"dv_cost_factor\": 0,\n",
    "    \"dw_cost_factor\": 0,\n",
    "    \"w_cost_factor\": 0,\n",
    "    \"dt\": 0.25,\n",
    "    \"flash_on_interval\": 2.1\n",
    "}"
   ]
  },
  {
   "cell_type": "markdown",
   "id": "12",
   "metadata": {},
   "source": [
    "### env1"
   ]
  },
  {
   "cell_type": "code",
   "execution_count": null,
   "id": "13",
   "metadata": {},
   "outputs": [],
   "source": [
    "# lm = lstm_for_multiff_class.LSTMforMultifirefly()\n",
    "\n",
    "env_kwargs = {'num_obs_ff': 2,\n",
    "              'add_action_to_obs': False,\n",
    "              'angular_terminal_vel': 1,\n",
    "              \"dt\": 0.25,\n",
    "              \"flash_on_interval\": 0.3,\n",
    "              \"time_cost\": 0,\n",
    "              \"dv_cost_factor\": 0,\n",
    "              \"dw_cost_factor\": 0,\n",
    "              \"w_cost_factor\": 0,\n",
    "            }   \n",
    "lm = lstm_for_multiff_class.LSTMforMultifirefly(overall_folder='RL_models/LSTM_stored_models/all_agents/gen_9_determ_eval/',\n",
    "                                                **env_kwargs)\n",
    "\n",
    "                                             \n",
    "\n",
    "lm.streamline_everything(currentTrial_for_animation=None, num_trials_for_animation=None, duration=[10, 40],\n",
    "                         best_model_after_curriculum_exists_ok=True)"
   ]
  },
  {
   "cell_type": "markdown",
   "id": "14",
   "metadata": {},
   "source": [
    "### env1 Jan_2"
   ]
  },
  {
   "cell_type": "code",
   "execution_count": null,
   "id": "15",
   "metadata": {},
   "outputs": [],
   "source": [
    "lm.env.observation_space"
   ]
  },
  {
   "cell_type": "code",
   "execution_count": null,
   "id": "16",
   "metadata": {},
   "outputs": [],
   "source": [
    "lm.agent_params"
   ]
  },
  {
   "cell_type": "code",
   "execution_count": null,
   "id": "17",
   "metadata": {},
   "outputs": [],
   "source": [
    "gc.collect()"
   ]
  },
  {
   "cell_type": "code",
   "execution_count": null,
   "id": "18",
   "metadata": {},
   "outputs": [],
   "source": [
    "lm.agent_params"
   ]
  },
  {
   "cell_type": "code",
   "execution_count": null,
   "id": "19",
   "metadata": {},
   "outputs": [],
   "source": [
    "len(lm.sac_model.replay_buffer)"
   ]
  },
  {
   "cell_type": "code",
   "execution_count": null,
   "id": "20",
   "metadata": {},
   "outputs": [],
   "source": [
    "# retrieve old model\n",
    "env_kwargs = {'num_obs_ff': 2,\n",
    "              'add_action_to_obs': False,\n",
    "              'angular_terminal_vel': 1,\n",
    "              \"reward_per_ff\": 100,\n",
    "              \"time_cost\": 0,\n",
    "              \"dv_cost_factor\": 0,\n",
    "              \"dw_cost_factor\": 0,\n",
    "              \"w_cost_factor\": 0,\n",
    "              'distance2center_cost': 0,\n",
    "              \"dt\": 0.25,\n",
    "              \"flash_on_interval\": 0.3\n",
    "            }\n",
    "\n",
    "\n",
    "lm = lstm_for_multiff_class.LSTMforMultifirefly(overall_folder='RL_models/LSTM_stored_models/all_agents/gen_-1/',\n",
    "                                                # model_folder_name='RL_models/LSTM_stored_models/all_agents/gen_-1/LSTM_Jan_2',\n",
    "                                                add_ff_time_since_start_visible=False,\n",
    "                                                )\n",
    "\n",
    "lm.agent_params = {'auto_entropy': True}\n",
    "lm.env_kwargs.update(env_kwargs)\n",
    "\n",
    "lm.streamline_everything(currentTrial_for_animation=None, num_trials_for_animation=None, duration=[10, 40],\n",
    "                         best_model_after_curriculum_exists_ok=True,\n",
    "                         load_replay_buffer_of_best_model_after_curriculum=False)"
   ]
  },
  {
   "cell_type": "code",
   "execution_count": null,
   "id": "21",
   "metadata": {},
   "outputs": [],
   "source": [
    "lm.streamline_making_animation(currentTrial_for_animation=None, num_trials_for_animation=None, duration=[10, 40], n_steps=1000, video_dir=None)"
   ]
  },
  {
   "cell_type": "markdown",
   "id": "22",
   "metadata": {},
   "source": [
    "## env2"
   ]
  },
  {
   "cell_type": "code",
   "execution_count": null,
   "id": "23",
   "metadata": {},
   "outputs": [],
   "source": [
    "# lm2.streamline_making_animation(currentTrial_for_animation=None, duration=[10, 40],\n",
    "#                                                 num_trials_for_animation=None, n_steps=1000)\n"
   ]
  },
  {
   "cell_type": "code",
   "execution_count": null,
   "id": "24",
   "metadata": {},
   "outputs": [],
   "source": [
    "plt.plot(alphas)"
   ]
  },
  {
   "cell_type": "code",
   "execution_count": null,
   "id": "25",
   "metadata": {},
   "outputs": [],
   "source": [
    "gc.collect()"
   ]
  },
  {
   "cell_type": "code",
   "execution_count": null,
   "id": "26",
   "metadata": {},
   "outputs": [],
   "source": [
    "# lm = lstm_for_multiff_class.LSTMforMultifirefly()\n",
    "\n",
    "env_kwargs = {\n",
    "              'num_obs_ff': 10,\n",
    "              'add_action_to_obs': False,\n",
    "              'angular_terminal_vel': 1,\n",
    "              \"dt\": 0.25,\n",
    "              \"flash_on_interval\": 0.3,\n",
    "              \"time_cost\": 0,\n",
    "              \"dv_cost_factor\": 0,\n",
    "              \"dw_cost_factor\": 0,\n",
    "              \"w_cost_factor\": 0,\n",
    "            }   \n",
    "\n",
    "lm2 = lstm_for_multiff_class.LSTMforMultifirefly(overall_folder='RL_models/LSTM_stored_models/all_agents/gen_10_env2/',\n",
    "                                                use_env2=True,\n",
    "                                                **env_kwargs)\n",
    "\n",
    "\n",
    "lm2.streamline_everything(currentTrial_for_animation=None, num_trials_for_animation=None, duration=[10, 40],\n",
    "                         best_model_after_curriculum_exists_ok=True)"
   ]
  },
  {
   "cell_type": "markdown",
   "id": "27",
   "metadata": {},
   "source": [
    "# class"
   ]
  },
  {
   "cell_type": "code",
   "execution_count": null,
   "id": "28",
   "metadata": {},
   "outputs": [],
   "source": [
    "# # retrieve old model\n",
    "# env_kwargs = {'num_obs_ff': 2,\n",
    "#               'add_action_to_obs': False,\n",
    "#               'angular_terminal_vel': 1,\n",
    "#               \"reward_per_ff\": 100,\n",
    "#               \"time_cost\": 0,\n",
    "#               \"dv_cost_factor\": 0,\n",
    "#               \"dw_cost_factor\": 0,\n",
    "#               \"w_cost_factor\": 0,\n",
    "#               \"dt\": 0.25,\n",
    "#               \"flash_on_interval\": 0.3\n",
    "#             }\n",
    "\n",
    "\n",
    "# lm = lstm_for_multiff_class.LSTMforMultifirefly(overall_folder='RL_models/LSTM_stored_models/all_agents/gen_-1/',\n",
    "#                                                 model_folder_name='RL_models/LSTM_stored_models/all_agents/gen_-1/LSTM_Jan_2',\n",
    "#                                                 )\n"
   ]
  },
  {
   "cell_type": "code",
   "execution_count": null,
   "id": "29",
   "metadata": {},
   "outputs": [],
   "source": [
    "\n",
    "env_kwargs = {'num_obs_ff': 3,\n",
    "              'add_action_to_obs': False,\n",
    "              'angular_terminal_vel': 1,\n",
    "              \"reward_per_ff\": 80,\n",
    "              \"time_cost\": 0,\n",
    "              \"dv_cost_factor\": 0,\n",
    "              \"dw_cost_factor\": 0,\n",
    "              \"w_cost_factor\": 0,\n",
    "              \"dt\": 0.25,\n",
    "              \"flash_on_interval\": 0.3\n",
    "            }   \n",
    "lm = lstm_for_multiff_class.LSTMforMultifirefly(overall_folder='RL_models/LSTM_stored_models/all_agents/gen_1_3ff/',\n",
    "                                                **env_kwargs)\n",
    "\n",
    "                                             "
   ]
  },
  {
   "cell_type": "code",
   "execution_count": null,
   "id": "30",
   "metadata": {},
   "outputs": [],
   "source": [
    "# lm = lstm_for_multiff_class.LSTMforMultifirefly()\n",
    "\n",
    "env_kwargs = {\n",
    "              'num_obs_ff': 10,\n",
    "              'add_action_to_obs': False,\n",
    "              'angular_terminal_vel': 1,\n",
    "              \"dt\": 0.25,\n",
    "              \"flash_on_interval\": 0.3,\n",
    "              \"time_cost\": 0,\n",
    "              \"dv_cost_factor\": 0,\n",
    "              \"dw_cost_factor\": 0,\n",
    "              \"w_cost_factor\": 0,\n",
    "            }   \n",
    "\n",
    "lm = lstm_for_multiff_class.LSTMforMultifirefly(overall_folder='RL_models/LSTM_stored_models/all_agents/gen_8_env2/',\n",
    "                                                use_env2=True,\n",
    "                                                **env_kwargs)\n"
   ]
  },
  {
   "cell_type": "code",
   "execution_count": null,
   "id": "31",
   "metadata": {},
   "outputs": [],
   "source": [
    "lm.make_env(**env_kwargs)"
   ]
  },
  {
   "cell_type": "code",
   "execution_count": null,
   "id": "32",
   "metadata": {},
   "outputs": [],
   "source": [
    "lm.make_agent()"
   ]
  },
  {
   "cell_type": "code",
   "execution_count": null,
   "id": "33",
   "metadata": {},
   "outputs": [],
   "source": [
    "lm.train_agent()"
   ]
  },
  {
   "cell_type": "code",
   "execution_count": null,
   "id": "34",
   "metadata": {},
   "outputs": [],
   "source": [
    "lm.save_agent()"
   ]
  },
  {
   "cell_type": "code",
   "execution_count": null,
   "id": "35",
   "metadata": {},
   "outputs": [],
   "source": [
    "lm.load_agent(load_replay_buffer=False)"
   ]
  },
  {
   "cell_type": "code",
   "execution_count": null,
   "id": "36",
   "metadata": {},
   "outputs": [],
   "source": [
    "lm.test_agent()"
   ]
  },
  {
   "cell_type": "code",
   "execution_count": null,
   "id": "37",
   "metadata": {},
   "outputs": [],
   "source": [
    "lm.monkey_information"
   ]
  },
  {
   "cell_type": "code",
   "execution_count": null,
   "id": "38",
   "metadata": {},
   "outputs": [],
   "source": [
    "lm.ff_dataframe['time']"
   ]
  },
  {
   "cell_type": "markdown",
   "id": "39",
   "metadata": {},
   "source": [
    "## animation"
   ]
  },
  {
   "cell_type": "code",
   "execution_count": null,
   "id": "40",
   "metadata": {},
   "outputs": [],
   "source": [
    "# curriculum_training kwargs\n",
    "env_kwargs = {\n",
    "              \n",
    "              'angular_terminal_vel': 1,\n",
    "              \"reward_per_ff\": 100,\n",
    "              \"time_cost\": 0,\n",
    "              \"dv_cost_factor\": 0,\n",
    "              \"dw_cost_factor\": 0,\n",
    "              \"w_cost_factor\": 0,\n",
    "              \"dt\": 0.25,\n",
    "              \"flash_on_interval\": 2.1\n",
    "            }\n",
    "lm.env_kwargs.update(env_kwargs)"
   ]
  },
  {
   "cell_type": "code",
   "execution_count": null,
   "id": "41",
   "metadata": {},
   "outputs": [],
   "source": [
    "# curriculum_training kwargs\n",
    "env_kwargs = {\n",
    "              \n",
    "              'angular_terminal_vel': 1,\n",
    "              \"reward_per_ff\": 100,\n",
    "              \"time_cost\": 0,\n",
    "              \"dv_cost_factor\": 0,\n",
    "              \"dw_cost_factor\": 0,\n",
    "              \"w_cost_factor\": 0,\n",
    "              \"dt\": 0.25,\n",
    "              \"flash_on_interval\": 2.1\n",
    "            }\n",
    "lm.env_kwargs.update(env_kwargs)\n",
    "\n",
    "lm.streamline_making_animation(currentTrial_for_animation=None, num_trials_for_animation=None, duration=[10, 40], n_steps=1000, video_dir=None)"
   ]
  },
  {
   "cell_type": "markdown",
   "id": "42",
   "metadata": {
    "id": "PkFUlYfELK_e"
   },
   "source": [
    "# Optuna (LSTM)\n",
    "\n",
    "(my own codes)"
   ]
  },
  {
   "cell_type": "markdown",
   "id": "43",
   "metadata": {
    "id": "d0vtL5qnLQ0e"
   },
   "source": [
    "##### sample_sac_params"
   ]
  },
  {
   "cell_type": "code",
   "execution_count": null,
   "id": "44",
   "metadata": {
    "id": "CM9Yhsb7LQ0e"
   },
   "outputs": [],
   "source": [
    "def sample_sac_params(trial):\n",
    "    \"\"\"\n",
    "    Sampler for SAC hyperparams.\n",
    "    :param trial: (optuna.trial)\n",
    "    :return: (dict)\n",
    "    \"\"\"\n",
    "  \n",
    "    gamma = 1.0 - trial.suggest_float(\"1-gamma\", 1e-4, 0.1, log=True)\n",
    "    soft_q_lr = trial.suggest_float(\"soft_q_lr\", 1e-5, 1, log=True)\n",
    "    policy_lr = trial.suggest_float(\"policy_lr\", 1e-5, 1, log=True)\n",
    "    alpha_lr  = trial.suggest_float(\"alpha_lr\", 1e-5, 1, log=True)\n",
    "    batch_size  = trial.suggest_categorical('batch_size', [5, 10, 15, 20, 25, 30])\n",
    "    update_itr = trial.suggest_categorical('update_itr', [1, 2, 3, 5])\n",
    "    hidden_dim = trial.suggest_categorical('hidden_dim', [16, 32, 64, 100, 150, 200, 256])\n",
    "    reward_scale = trial.suggest_categorical('reward_scale', [1, 3, 5, 10, 15, 20]) # I updated after running\n",
    "    target_entropy = trial.suggest_categorical('target_entropy', [-1, -2, -3, -5, -8, -10]) # I updated after running\n",
    "    soft_tau= trial.suggest_float(\"soft_tau\", 1e-6, 1, log=True)\n",
    "    #activation_fn\n",
    "\n",
    "\n",
    "    return {\n",
    "        'gamma': gamma,\n",
    "        'soft_q_lr':soft_q_lr,\n",
    "        'policy_lr':policy_lr,\n",
    "        'alpha_lr':alpha_lr,\n",
    "        'batch_size': batch_size,\n",
    "        'update_itr':update_itr,\n",
    "        'hidden_dim': hidden_dim,\n",
    "        'reward_scale':reward_scale,\n",
    "        'target_entropy':target_entropy,\n",
    "        'soft_tau':soft_tau\n",
    "    }"
   ]
  },
  {
   "cell_type": "markdown",
   "id": "45",
   "metadata": {
    "id": "w8snZtlopA-9"
   },
   "source": [
    "## put_in_fixed_params"
   ]
  },
  {
   "cell_type": "code",
   "execution_count": null,
   "id": "46",
   "metadata": {
    "id": "1RFcdEk5pAmv"
   },
   "outputs": [],
   "source": [
    "def put_in_fixed_params():\n",
    "    return {\n",
    "        'model_folder_name':  None, \n",
    "        'train_freq': 100, \n",
    "        'batch_size': 10, \n",
    "        'update_itr': 1,\n",
    "        'num_train_episodes': 50, \n",
    "        'eval_eps_freq': 10, \n",
    "        'max_steps_per_eps': 1024, \n",
    "        'auto_entropy': True, \n",
    "        'DETERMINISTIC': False, \n",
    "        'num_eval_episodes': 3, \n",
    "        'print_episode_reward':  True}"
   ]
  },
  {
   "cell_type": "markdown",
   "id": "47",
   "metadata": {
    "id": "9TMGTKP3LTVV"
   },
   "source": [
    "## objective"
   ]
  },
  {
   "cell_type": "code",
   "execution_count": null,
   "id": "48",
   "metadata": {
    "id": "NhoGtlzHqxKY"
   },
   "outputs": [],
   "source": [
    "def objective(trial: optuna.Trial) -> float: \n",
    "  try:\n",
    "    # Sample hyperparameters\n",
    "    kwargs = sample_sac_params(trial)\n",
    "    kwargs = put_in_fixed_params()\n",
    "\n",
    "    num_train_episodes = kwargs['num_train_episodes'] \n",
    "    eval_eps_freq = kwargs['eval_eps_freq']\n",
    "    max_steps_per_eps = kwargs['max_steps_per_eps'] \n",
    "    auto_entropy = kwargs['auto_entropy'] \n",
    "    num_eval_episodes = kwargs['num_eval_episodes'] \n",
    "    print_episode_reward = kwargs['print_episode_reward']\n",
    "\n",
    "\n",
    "    env = env_for_lstm.EnvForLSTM()\n",
    "    sac_model = LSTM_functions.SAC_Trainer(**kwargs)\n",
    "\n",
    "    sac_model, best_avg_reward_record, alpha_df = LSTM_functions.train_LSTM_agent(env, sac_model, device,\n",
    "                                                         num_train_episodes=num_train_episodes, eval_eps_freq=eval_eps_freq, max_steps_per_eps=max_steps_per_eps, \n",
    "                                                         num_eval_episodes=num_eval_episodes, print_episode_reward=print_episode_reward, auto_entropy=auto_entropy)\n",
    "\n",
    "  except ValueError as e:\n",
    "    # Sometimes, random hyperparams can generate NaN\n",
    "      print(e)\n",
    "\n",
    "  return best_avg_reward_record"
   ]
  },
  {
   "cell_type": "markdown",
   "id": "49",
   "metadata": {
    "id": "zWLQGb9cW2TQ"
   },
   "source": [
    "## run"
   ]
  },
  {
   "cell_type": "code",
   "execution_count": null,
   "id": "50",
   "metadata": {
    "id": "L4wV8ncwW2TQ"
   },
   "outputs": [],
   "source": [
    "N_TRIALS = 100\n",
    "N_STARTUP_TRIALS = 5\n",
    "\n",
    "# Set pytorch num threads to 1 for faster training\n",
    "torch.set_num_threads(1)\n",
    " \n",
    "sampler = TPESampler(n_startup_trials=N_STARTUP_TRIALS)\n",
    "## Do not prune before 1/3 of the max budget is used\n",
    "# pruner = MedianPruner(n_startup_trials=N_STARTUP_TRIALS, n_warmup_steps=N_EVALUATIONS 2//3 3)\n",
    "\n",
    "study = optuna.create_study(sampler=sampler, direction=\"maximize\")\n",
    "try:\n",
    "    study.optimize(objective, n_trials=N_TRIALS)\n",
    "except KeyboardInterrupt:\n",
    "    pass\n",
    "\n",
    "print(\"Number of finished trials: \", len(study.trials))\n",
    "\n",
    "print(\"Best trial:\")\n",
    "trial = study.best_trial\n",
    "\n",
    "print(\"  Value: \", trial.value)\n",
    "\n",
    "print(\"  Params: \")\n",
    "for key, value in trial.params.items():\n",
    "    print(\"    {}: {}\".format(key, value))\n",
    "\n",
    "print(\"  User attrs:\")\n",
    "for key, value in trial.user_attrs.items():\n",
    "    print(\"    {}: {}\".format(key, value))"
   ]
  },
  {
   "cell_type": "markdown",
   "id": "51",
   "metadata": {
    "id": "QvPXVRFfIbVD"
   },
   "source": [
    "# Animation"
   ]
  },
  {
   "cell_type": "markdown",
   "id": "52",
   "metadata": {
    "id": "Z5vjDrdHrSn2"
   },
   "source": [
    "## collect data"
   ]
  },
  {
   "cell_type": "code",
   "execution_count": null,
   "id": "53",
   "metadata": {
    "id": "yDZgRZMNHnZl"
   },
   "outputs": [],
   "source": [
    "env = env_for_sb3.CollectInformationLSTM()\n",
    "env.flash_on_interval = 0.3\n",
    "env.distance2center_cost = 0\n",
    "sac_model.load_model(model_folder_name)\n",
    "\n",
    "env._run_agent_to_collect_data()\n"
   ]
  },
  {
   "cell_type": "markdown",
   "id": "54",
   "metadata": {
    "id": "JlxfIO9YFFHe"
   },
   "source": [
    "## prepare for animation"
   ]
  },
  {
   "cell_type": "code",
   "execution_count": null,
   "id": "55",
   "metadata": {
    "id": "6DqTSaOz6s38"
   },
   "outputs": [],
   "source": [
    "currentTrial = 2\n",
    "num_trials = 7\n",
    "k = 1\n",
    "fig, ax = plt.subplots()\n",
    "num_frames, anim_monkey_info, flash_on_ff_dict, alive_ff_dict, believed_ff_dict, new_num_trials, ff_dataframe_anim \\\n",
    "            = animation_utils.prepare_for_animation(ff_dataframe, ff_caught_T_new, ff_life_sorted, ff_believed_position_sorted, \n",
    "            ff_real_position_sorted, ff_flash_sorted, monkey_information, k=k, currentTrial=currentTrial, num_trials=num_trials)\n",
    "print(\"Number of frames is:\", num_frames)"
   ]
  },
  {
   "cell_type": "markdown",
   "id": "56",
   "metadata": {
    "id": "AesCxkpsFbVn"
   },
   "source": [
    "## make animation"
   ]
  },
  {
   "cell_type": "code",
   "execution_count": null,
   "id": "57",
   "metadata": {
    "id": "pUcR1X-0-OQo"
   },
   "outputs": [],
   "source": [
    "animate_func = partial(animation_func.animate, ax=ax, anim_monkey_info=anim_monkey_info, ff_dataframe_anim=ff_dataframe_anim, ff_real_position_sorted=ff_real_position_sorted, \\\n",
    "                         flash_on_ff_dict=flash_on_ff_dict, alive_ff_dict=alive_ff_dict, believed_ff_dict=believed_ff_dict, margin = 400)\n",
    "anim = animation.FuncAnimation(fig, animate_func, frames=num_frames, interval=100, repeat=True) \n",
    "HTML(anim.to_html5_video())"
   ]
  },
  {
   "cell_type": "markdown",
   "id": "58",
   "metadata": {
    "id": "-BX7XwsnFc4k"
   },
   "source": [
    "## make animation with annotation"
   ]
  },
  {
   "cell_type": "code",
   "execution_count": null,
   "id": "59",
   "metadata": {
    "id": "aE9lp9YZ-H7c"
   },
   "outputs": [],
   "source": [
    "annotation_info = animation_utils.make_annotation_info(caught_ff_num+1, max_point_index, n_ff_in_a_row, visible_before_last_one_trials, disappear_latest_trials, \\\n",
    "                                        ignore_sudden_flash_indices, give_up_after_trying_indices, try_a_few_times_indices)\n",
    "animate_annotated_func = partial(animation_func.animate_annotated, ax=ax, anim_monkey_info=anim_monkey_info, margin=margin, ff_dataframe=ff_dataframe, \\\n",
    "                                   flash_on_ff_dict=flash_on_ff_dict, alive_ff_dict=alive_ff_dict, believed_ff_dict=believed_ff_dict, ff_caught_T_new=ff_caught_T_new, annotation_info=annotation_info)\n",
    "anim_annotated = animation.FuncAnimation(fig, animate_annotated_func, frames=num_frames, interval=100, repeat=True) \n",
    "HTML(anim_annotated.to_html5_video())"
   ]
  },
  {
   "cell_type": "markdown",
   "id": "60",
   "metadata": {
    "id": "h8mO9eLF5U7Y"
   },
   "source": [
    "# Debug"
   ]
  }
 ],
 "metadata": {
  "accelerator": "GPU",
  "colab": {
   "provenance": [
    {
     "file_id": "1FShUys0iUmi3huyQwtaEdyhGivLG2R_5",
     "timestamp": 1681095282536
    }
   ],
   "toc_visible": true
  },
  "gpuClass": "standard",
  "kernelspec": {
   "display_name": "Python 3",
   "name": "python3"
  },
  "language_info": {
   "codemirror_mode": {
    "name": "ipython",
    "version": 3
   },
   "file_extension": ".py",
   "mimetype": "text/x-python",
   "name": "python",
   "nbconvert_exporter": "python",
   "pygments_lexer": "ipython3",
   "version": "3.9.19"
  },
  "toc": {
   "base_numbering": 1,
   "nav_menu": {},
   "number_sections": true,
   "sideBar": true,
   "skip_h1_title": false,
   "title_cell": "Table of Contents",
   "title_sidebar": "Contents",
   "toc_cell": true,
   "toc_position": {
    "height": "calc(100% - 180px)",
    "left": "10px",
    "top": "150px",
    "width": "288px"
   },
   "toc_section_display": true,
   "toc_window_display": true
  }
 },
 "nbformat": 4,
 "nbformat_minor": 5
}
