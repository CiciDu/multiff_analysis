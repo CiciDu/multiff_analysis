{
 "cells": [
  {
   "attachments": {},
   "cell_type": "markdown",
   "id": "1t_MmbnQxz3f",
   "metadata": {
    "id": "1t_MmbnQxz3f"
   },
   "source": [
    "## install packages"
   ]
  },
  {
   "cell_type": "code",
   "execution_count": null,
   "id": "8b5f2ae5",
   "metadata": {},
   "outputs": [],
   "source": [
    "%cd /content/drive/MyDrive/ff_repo/Multifirefly-Project\n",
    "\n",
    "!pip install neo\n",
    "!pip install matplotlib_scalebar\n",
    "!pip install ffmpeg\n",
    "!pip install wheel==0.38.4\n",
    "!pip3 install setuptools==65.5.0\n",
    "!pip install stable_baselines3\n",
    "!pip install optuna"
   ]
  },
  {
   "attachments": {},
   "cell_type": "markdown",
   "id": "9904b001",
   "metadata": {
    "id": "9904b001"
   },
   "source": [
    "## import packages"
   ]
  },
  {
   "cell_type": "code",
   "execution_count": null,
   "id": "635af52f",
   "metadata": {},
   "outputs": [],
   "source": [
    "%cd /Users/dusiyi/Documents/Multifirefly-Project"
   ]
  },
  {
   "cell_type": "code",
   "execution_count": null,
   "id": "c5fef26e",
   "metadata": {},
   "outputs": [],
   "source": [
    "    # os.chdir(p)\n",
    "    # from add_path import find_path\n",
    "    # current_path = find_path()\n",
    "    # os.chdir(current_path)"
   ]
  },
  {
   "cell_type": "code",
   "execution_count": null,
   "id": "78d7921b",
   "metadata": {
    "colab": {
     "base_uri": "https://localhost:8080/"
    },
    "executionInfo": {
     "elapsed": 32160,
     "status": "ok",
     "timestamp": 1684945803461,
     "user": {
      "displayName": "Cici Du",
      "userId": "17701548280142155870"
     },
     "user_tz": -480
    },
    "id": "78d7921b",
    "outputId": "68f69138-fbc7-40e8-db4e-f3bea17f3a31"
   },
   "outputs": [],
   "source": [
    "%load_ext autoreload\n",
    "%autoreload 2\n",
    "from pathlib import Path\n",
    "import os, sys\n",
    "for p in [Path.cwd()] + list(Path.cwd().parents):\n",
    "    if p.name == 'Multifirefly-Project':\n",
    "        os.chdir(p)\n",
    "        sys.path.insert(0, str(p / 'multiff_analysis/multiff_code/methods'))\n",
    "        break\n",
    "\n",
    " \n",
    "\n",
    "from data_wrangling import specific_utils, process_monkey_information\n",
    "from pattern_discovery import pattern_by_trials, make_ff_dataframe, pattern_by_trials, organize_patterns_and_features\n",
    "from visualization.matplotlib_tools import plot_trials, plot_polar, additional_plots, plot_behaviors_utils, plot_statistics\n",
    "from visualization.animation import animation_func, animation_utils, animation_class\n",
    "from machine_learning.RL.env_related import env_for_lstm, env_utils, base_env, collect_agent_data_utils, env_for_sb3\n",
    "from machine_learning.RL.lstm import GRU_functions, LSTM_functions\n",
    "from machine_learning.RL.SB3 import interpret_neural_network, sb3_for_multiff_class, rl_for_multiff_utils, SB3_functions\n",
    "import os, sys\n",
    "import numpy as np\n",
    "import matplotlib.pyplot as plt\n",
    "import torch\n",
    "import torch.nn as nn\n",
    "import optuna\n",
    "import matplotlib\n",
    "import matplotlib.animation as animation\n",
    "from matplotlib import rc\n",
    "from stable_baselines3 import SAC\n",
    "from stable_baselines3.common.monitor import Monitor\n",
    "from stable_baselines3.common import results_plotter\n",
    "from stable_baselines3.common.results_plotter import plot_results\n",
    "from stable_baselines3.common.callbacks import StopTrainingOnNoModelImprovement\n",
    "from optuna.pruners import MedianPruner\n",
    "from optuna.samplers import TPESampler\n",
    "from IPython.display import HTML\n",
    "from functools import partial\n",
    "from itertools import product\n",
    "import pandas as pd\n",
    "from os.path import exists\n",
    "import random\n",
    "from importlib import reload\n",
    "from stable_baselines3.common.callbacks import EvalCallback, StopTrainingOnNoModelImprovement, StopTrainingOnRewardThreshold\n",
    "import gc\n",
    "\n",
    "plt.rcParams[\"animation.html\"] = \"html5\"\n",
    "os.environ['KMP_DUPLICATE_LIB_OK']='True'\n",
    "rc('animation', html='jshtml')\n",
    "matplotlib.rcParams.update(matplotlib.rcParamsDefault)\n",
    "matplotlib.rcParams['animation.embed_limit'] = 2**128\n",
    "torch.set_printoptions(sci_mode=False)\n",
    "pd.set_option('display.float_format', lambda x: '%.5f' % x)\n",
    "np.set_printoptions(suppress=True)\n"
   ]
  },
  {
   "cell_type": "code",
   "execution_count": null,
   "id": "749d36d9",
   "metadata": {},
   "outputs": [],
   "source": [
    "stop!"
   ]
  },
  {
   "attachments": {},
   "cell_type": "markdown",
   "id": "2b4cb6e9",
   "metadata": {
    "id": "2b4cb6e9"
   },
   "source": [
    "## basic parameters"
   ]
  },
  {
   "cell_type": "code",
   "execution_count": null,
   "id": "d64f61c2",
   "metadata": {
    "id": "d64f61c2"
   },
   "outputs": [],
   "source": [
    "overall_folder = \"RL_models/SB3_stored_models/all_agents/gen_5/\"\n",
    "os.makedirs(overall_folder, exist_ok=True)\n",
    "PLAYER = \"agent\"\n",
    "# NEW_DATASET = True\n",
    "# MONKEY_DATA = False\n",
    "# NO_PLOT_NEEDED = True\n",
    "# raw_data_folder_path = \"all_monkey_data/raw_monkey_data/monkey_Bruno/data_0219\"\n",
    "# data_folder_name = \"all_monkey_data/raw_monkey_data/monkey_Bruno/data_0219/processed_data\"\n",
    "#data_num = 19\n",
    "\n",
    "\n",
    "# # for agent\n",
    "# PLAYER = \"agent\"\n",
    "# NEW_DATASET = True\n",
    "# MONKEY_DATA = False\n",
    "# NO_PLOT_NEEDED = True\n",
    "# data_folder_name = \"env.multiff_analysis/RL/LSTM_July_29\"\n",
    "# data_num = 721\n",
    "# trial_total_num = 30"
   ]
  },
  {
   "attachments": {},
   "cell_type": "markdown",
   "id": "b254917d",
   "metadata": {
    "id": "b254917d"
   },
   "source": [
    "# Streamline"
   ]
  },
  {
   "attachments": {},
   "cell_type": "markdown",
   "id": "bd105957",
   "metadata": {
    "id": "bd105957"
   },
   "source": [
    "## Make files for logging"
   ]
  },
  {
   "attachments": {},
   "cell_type": "markdown",
   "id": "e447c5f9",
   "metadata": {
    "id": "e447c5f9"
   },
   "source": [
    "(Only have to do once)"
   ]
  },
  {
   "cell_type": "code",
   "execution_count": null,
   "id": "nuE-aO1digZv",
   "metadata": {
    "id": "nuE-aO1digZv"
   },
   "outputs": [],
   "source": [
    "filepath = overall_folder + 'family_of_agents_log.csv'\n",
    "if not exists(filepath):\n",
    "    family_of_agents_log = pd.DataFrame(columns=['time_cost', 'dv_cost_factor', 'dw_cost_factor', 'w_cost_factor',\n",
    "                                        'action_noise_std', 'ffxy_noise_std', 'num_obs_ff', 'max_in_memory_time', \n",
    "                                        'finished_training', 'year', 'month', 'date', 'training_time', 'successful_training'])\n",
    "    family_of_agents_log.to_csv(filepath)\n",
    "\n",
    "\n",
    "filepath = overall_folder + 'parameters_record.csv'\n",
    "if not exists(filepath):\n",
    "    parameters_record = pd.DataFrame(columns=['time_cost', 'dv_cost_factor', 'dw_cost_factor', 'w_cost_factor',\n",
    "                                              'action_noise_std', 'ffxy_noise_std', 'num_obs_ff', 'max_in_memory_time', \n",
    "                                            'working'])\n",
    "    parameters_record.to_csv(filepath)\n",
    "\n",
    "\n",
    "\n",
    "filepath = overall_folder + 'pattern_frequencies_record.csv'\n",
    "if not exists(filepath):\n",
    "    columns=['time_cost', 'dv_cost_factor', 'dw_cost_factor', 'w_cost_factor',\n",
    "             'action_noise_std', 'ffxy_noise_std', 'num_obs_ff', 'max_in_memory_time',\n",
    "            'two_in_a_row', 'three_in_a_row', 'four_in_a_row', 'one_in_a_row',\n",
    "            'multiple_in_a_row', 'multiple_in_a_row_all', 'visible_before_last_one',\n",
    "            'disappear_latest', 'ignore_sudden_flash', 'try_a_few_times',\n",
    "            'give_up_after_trying', 'cluster_around_target',\n",
    "            'waste_cluster_around_target', 'ff_capture_rate', 'stop_success_rate']\n",
    "    pattern_frequencies_record = pd.DataFrame(columns=columns)\n",
    "    pattern_frequencies_record.to_csv(filepath)\n",
    "\n",
    "\n",
    "filepath = overall_folder + 'feature_means_record.csv'\n",
    "if not exists(filepath):\n",
    "    columns = ['time_cost', 'dv_cost_factor', 'dw_cost_factor', 'w_cost_factor',\n",
    "               'action_noise_std', 'ffxy_noise_std', 'num_obs_ff', 'max_in_memory_time', 't',\n",
    "                't_last_vis', 'd_last_vis', 'abs_angle_last_vis',\n",
    "                'hitting_arena_edge', 'num_stops', 'num_stops_since_last_vis',\n",
    "                'num_stops_near_target', 'num_alive_ff_around_target', 'n_ff_in_a_row']\n",
    "    feature_means_record = pd.DataFrame(columns=columns)\n",
    "    feature_means_record.to_csv(filepath)\n",
    "\n",
    "\n",
    "filepath = overall_folder + 'feature_medians_record.csv'\n",
    "if not exists(filepath):\n",
    "    columns = ['time_cost', 'dv_cost_factor', 'dw_cost_factor', 'w_cost_factor',\n",
    "               'action_noise_std', 'ffxy_noise_std', 'num_obs_ff', 'max_in_memory_time', 't',\n",
    "                't_last_vis', 'd_last_vis', 'abs_angle_last_vis',\n",
    "                'hitting_arena_edge', 'num_stops', 'num_stops_since_last_vis',\n",
    "                'num_stops_near_target', 'num_alive_ff_around_target', 'n_ff_in_a_row']\n",
    "    feature_medians_record = pd.DataFrame(columns=columns)\n",
    "    feature_medians_record.to_csv(filepath)"
   ]
  },
  {
   "attachments": {},
   "cell_type": "markdown",
   "id": "0f22ab42",
   "metadata": {
    "id": "0f22ab42"
   },
   "source": [
    "Make daily backup"
   ]
  },
  {
   "cell_type": "code",
   "execution_count": null,
   "id": "d245d8ed",
   "metadata": {
    "id": "d245d8ed"
   },
   "outputs": [],
   "source": [
    "# back_up_path = overall_folder + 'family_of_agents_log_' + str(time_package.localtime().tm_mon) + '_' + str(time_package.localtime().tm_mday) + '.csv'\n",
    "# if not exists(back_up_path):\n",
    "#     family_of_agents_log = pd.read_csv(overall_folder + 'family_of_agents_log.csv').drop([\"Unnamed: 0\"], axis=1)\n",
    "#     family_of_agents_log.to_csv(back_up_path)\n",
    "#     print('A back up of family_of_agents_log is stored in', back_up_path)"
   ]
  },
  {
   "attachments": {},
   "cell_type": "markdown",
   "id": "1558f19f",
   "metadata": {
    "id": "1558f19f"
   },
   "source": [
    "## Get monkey data"
   ]
  },
  {
   "cell_type": "code",
   "execution_count": null,
   "id": "c86c2e1f",
   "metadata": {
    "colab": {
     "base_uri": "https://localhost:8080/"
    },
    "executionInfo": {
     "elapsed": 31188,
     "status": "ok",
     "timestamp": 1684945834636,
     "user": {
      "displayName": "Cici Du",
      "userId": "17701548280142155870"
     },
     "user_tz": -480
    },
    "id": "c86c2e1f",
    "outputId": "250ac96e-7813-4618-a219-2dab7c7e9556"
   },
   "outputs": [],
   "source": [
    "raw_data_folder_path = \"all_monkey_data/raw_monkey_data/monkey_Bruno/data_0220\"\n",
    "data_item = further_processing_class.FurtherProcessing(raw_data_folder_path=raw_data_folder_path)\n",
    "data_item.retrieve_or_make_monkey_data()\n",
    "data_item.make_or_retrieve_ff_dataframe(exists_ok=True)\n",
    "data_item.find_patterns()\n",
    "data_item.make_or_retrieve_all_trial_patterns(exists_ok=True)\n",
    "data_item.make_or_retrieve_pattern_frequencies(exists_ok=True)\n",
    "data_item.make_or_retrieve_all_trial_features(exists_ok=True)\n",
    "data_item.make_or_retrieve_feature_statistics(exists_ok=True)\n",
    "data_item.make_info_of_monkey()\n",
    "\n",
    "all_trial_patterns_m = data_item.all_trial_patterns\n",
    "pattern_frequencies_m = data_item.pattern_frequencies\n",
    "all_trial_features_m = data_item.all_trial_features\n",
    "feature_statistics_m = data_item.feature_statistics\n",
    "info_of_monkey = data_item.info_of_monkey"
   ]
  },
  {
   "cell_type": "markdown",
   "id": "f27fc48d",
   "metadata": {},
   "source": [
    "## Run the class"
   ]
  },
  {
   "cell_type": "code",
   "execution_count": null,
   "id": "2b2f4ccf",
   "metadata": {},
   "outputs": [],
   "source": [
    "overall_folder = 'RL_models/SB3_stored_models/all_agents/gen_0/'"
   ]
  },
  {
   "cell_type": "code",
   "execution_count": null,
   "id": "d49318ae",
   "metadata": {},
   "outputs": [],
   "source": [
    "RLforFF = sb3_for_multiff_class.SB3forMultifirefly(overall_folder=overall_folder, add_date_to_model_folder_name=False)\n",
    "#RLforFF.import_monkey_data(info_of_monkey, all_trial_features_m, pattern_frequencies_m, feature_statistics_m)\n",
    "RLforFF.streamline_everything(currentTrial_for_animation = 10, num_trials_for_animation = 5)"
   ]
  },
  {
   "cell_type": "code",
   "execution_count": null,
   "id": "fc2d8944",
   "metadata": {},
   "outputs": [],
   "source": [
    "RLforFF.lstm = False"
   ]
  },
  {
   "cell_type": "code",
   "execution_count": null,
   "id": "4bb7a0fd",
   "metadata": {},
   "outputs": [],
   "source": [
    "# timesteps = 10000000        \n",
    "# stop_train_callback = SB3_functions.StopTrainingOnNoModelImprovement(max_no_improvement_evals=20, min_evals=20, verbose=1, model_folder_name=RLforFF.model_folder_name,                                                   overall_folder=RLforFF.overall_folder, agent_id=RLforFF.agent_id)\n",
    "# callback = EvalCallback(RLforFF.env, eval_freq=12000, callback_after_eval=stop_train_callback, verbose=1, best_model_save_path=RLforFF.model_folder_name, n_eval_episodes=3)\n",
    "# RLforFF.sac_model.learn(total_timesteps=int(timesteps), callback=callback)\n",
    "# RLforFF.successful_training = True"
   ]
  },
  {
   "cell_type": "markdown",
   "id": "c25cf7cf",
   "metadata": {},
   "source": [
    "## load"
   ]
  },
  {
   "cell_type": "code",
   "execution_count": null,
   "id": "e8747d95",
   "metadata": {},
   "outputs": [],
   "source": [
    "env_kwargs = {'overall_folder': overall_folder, \n",
    "            #   'action_noise_std': 0, \n",
    "            #   'ffxy_noise_std': 0, \n",
    "            #   'num_obs_ff': 2, \n",
    "            #   'max_in_memory_time': 2.5, \n",
    "            #   'add_date_to_model_folder_name': False,\n",
    "            #   \n",
    "            #   'dv_cost_factor': 10,\n",
    "            #   'dw_cost_factor': 10,\n",
    "              }\n",
    "\n",
    "# alternatively...\n",
    "RLforFF = sb3_for_multiff_class.SB3forMultifirefly(**env_kwargs)\n",
    "RLforFF.make_env()\n",
    "RLforFF.make_agent()\n",
    "RLforFF.load_agent(load_replay_buffer=False)"
   ]
  },
  {
   "cell_type": "markdown",
   "id": "43c1046e",
   "metadata": {},
   "source": [
    "## call_animation_function"
   ]
  },
  {
   "cell_type": "code",
   "execution_count": null,
   "id": "918921f1",
   "metadata": {},
   "outputs": [],
   "source": [
    "RLforFF.collect_data()\n",
    "RLforFF.set_animation_parameters(currentTrial=10, num_trials=5, k=1)\n",
    "RLforFF.call_animation_function()\n",
    "# RLforFF.combine_6_plots_for_neural_network()\n",
    "# RLforFF.calculate_pattern_frequencies_and_feature_statistics()\n",
    "# RLforFF.plot_side_by_side()\n",
    "# plot_statistics.plot_pattern_frequencies(RLforFF.combd_pattern_frequencies, compare_monkey_and_agent=True, data_folder_name=RLforFF.model_folder_name)\n",
    "# #plot_statistics.plot_feature_statistics_for_monkey_and_agent(RLforFF.combd_feature_statistics, data_folder_name = RLforFF.model_folder_name)\n",
    "# plot_statistics.plot_feature_histograms_for_monkey_and_agent(RLforFF.all_trial_features_valid, RLforFF.all_trial_features_valid, data_folder_name = RLforFF.model_folder_name)"
   ]
  },
  {
   "attachments": {},
   "cell_type": "markdown",
   "id": "da26c42f",
   "metadata": {
    "id": "da26c42f"
   },
   "source": [
    "# Loop (for hyperparameter tuning)"
   ]
  },
  {
   "cell_type": "markdown",
   "id": "cf95e9a6",
   "metadata": {},
   "source": [
    "## test params"
   ]
  },
  {
   "cell_type": "code",
   "execution_count": null,
   "id": "93592d2a",
   "metadata": {},
   "outputs": [],
   "source": [
    "\n",
    "for dw_cost_factor in range(30, 100, 10):\n",
    "    params = {\n",
    "        'dv_cost_factor': 10,\n",
    "        'dw_cost_factor': dw_cost_factor,\n",
    "        'w_cost_factor': 10,\n",
    "    }\n",
    "\n",
    "    num_obs_ff = 3\n",
    "    max_in_memory_time = 3\n",
    "    overall_folder = f'RL_models/SB3_stored_models/all_agents/env1_test_params/ff{num_obs_ff}/'\n",
    "\n",
    "    env_kwargs = {'num_obs_ff': num_obs_ff,\n",
    "                'max_in_memory_time': max_in_memory_time,\n",
    "                'print_ff_capture_incidents': False\n",
    "                #'reward_per_ff': 120,\n",
    "    }\n",
    "\n",
    "    # check if num_obs_ff is consistent with the name in overall_folder. If not, raise an error\n",
    "    if not f'ff{env_kwargs[\"num_obs_ff\"]}' in overall_folder:\n",
    "        raise ValueError('num_obs_ff is not consistent with the name in overall_folder')\n",
    "\n",
    "    gc.collect()\n",
    "    print(\"Current parameters: \", params)\n",
    "\n",
    "    # params = {'time_cost': 0.0, 'dv_cost_factor': 0.0, 'dw_cost_factor': 0.0, 'w_cost_factor': 0.0, 'action_noise_std': 0.0}\n",
    "    RLforFF = sb3_for_multiff_class.SB3forMultifirefly(**params, overall_folder=overall_folder,\n",
    "                                                        **env_kwargs)\n",
    "\n",
    "    #RLforFF.import_monkey_data(info_of_monkey, all_trial_features_m, pattern_frequencies_m, feature_statistics_m)\n",
    "    RLforFF.streamline_everything(currentTrial_for_animation=None, num_trials_for_animation=None, duration=[10, 40],\n",
    "                                    best_model_after_curriculum_exists_ok=True, model_exists_ok=True)"
   ]
  },
  {
   "cell_type": "markdown",
   "id": "8260b092",
   "metadata": {},
   "source": [
    "## env1 loop"
   ]
  },
  {
   "cell_type": "code",
   "execution_count": null,
   "id": "300552bf",
   "metadata": {},
   "outputs": [],
   "source": [
    "# params = {\n",
    "#           'dv_cost_factor': 10,\n",
    "#           'dw_cost_factor': 10,\n",
    "#           'w_cost_factor': 10,\n",
    "# }\n",
    "\n",
    "params = {\n",
    "          'dv_cost_factor': 0,\n",
    "          'dw_cost_factor': 0,\n",
    "          'w_cost_factor': 0,\n",
    "}\n",
    "\n",
    "for max_in_memory_time in [3, 2, 1]:\n",
    "    for num_obs_ff in [2, 1, 3, 4, 5]:\n",
    "        overall_folder = f'RL_models/SB3_stored_models/all_agents/env1_relu/ff{num_obs_ff}/'\n",
    "\n",
    "        env_kwargs = {'num_obs_ff': num_obs_ff,\n",
    "                    'max_in_memory_time': max_in_memory_time,\n",
    "                    'print_ff_capture_incidents': False\n",
    "                    #'reward_per_ff': 120,\n",
    "        }\n",
    "\n",
    "        # check if num_obs_ff is consistent with the name in overall_folder. If not, raise an error\n",
    "        if not f'ff{env_kwargs[\"num_obs_ff\"]}' in overall_folder:\n",
    "            raise ValueError('num_obs_ff is not consistent with the name in overall_folder')\n",
    "\n",
    "        gc.collect()\n",
    "        print(\"Current parameters: \", params)\n",
    "\n",
    "        # params = {'time_cost': 0.0, 'dv_cost_factor': 0.0, 'dw_cost_factor': 0.0, 'w_cost_factor': 0.0, 'action_noise_std': 0.0}\n",
    "        RLforFF = sb3_for_multiff_class.SB3forMultifirefly(**params, overall_folder=overall_folder,\n",
    "                                                            **env_kwargs)\n",
    "\n",
    "        #RLforFF.import_monkey_data(info_of_monkey, all_trial_features_m, pattern_frequencies_m, feature_statistics_m)\n",
    "        RLforFF.streamline_everything(currentTrial_for_animation=None, num_trials_for_animation=None, duration=[10, 40],\n",
    "                                        best_model_after_curriculum_exists_ok=True, model_exists_ok=True)"
   ]
  },
  {
   "cell_type": "markdown",
   "id": "13b893a2",
   "metadata": {},
   "source": [
    "## combos of params"
   ]
  },
  {
   "cell_type": "code",
   "execution_count": null,
   "id": "26965f54",
   "metadata": {},
   "outputs": [],
   "source": [
    "# randomly sample from a range\n",
    "param_combinations = []\n",
    "num_param_combinations = 20\n",
    "for i in range(num_param_combinations):\n",
    "    combo = dict()\n",
    "    combo[\"time_cost\"] = round(random.uniform(20, 50), 2)\n",
    "    combo[\"dv_cost_factor\"] = round(random.uniform(50, 150), 2)\n",
    "    combo[\"dw_cost_factor\"] = round(random.uniform(50, 150), 2)\n",
    "    combo[\"w_cost_factor\"] = round(random.uniform(50, 150), 2)\n",
    "    param_combinations.append(combo)"
   ]
  },
  {
   "cell_type": "code",
   "execution_count": null,
   "id": "224212ef",
   "metadata": {},
   "outputs": [],
   "source": [
    "overall_folder = 'RL_models/SB3_stored_models/all_agents/env1_relu/ff3/'"
   ]
  },
  {
   "cell_type": "code",
   "execution_count": null,
   "id": "d2c7c048",
   "metadata": {},
   "outputs": [],
   "source": [
    "env_kwargs = {'num_obs_ff': 3,\n",
    "              'print_ff_capture_incidents': False\n",
    "              #'reward_per_ff': 120,\n",
    "}\n",
    "\n",
    "for count, params in enumerate(param_combinations):\n",
    "    gc.collect()\n",
    "    print(\"Running\", str(count), \"out of\", len(param_combinations), \"combinations of parameters\")\n",
    "    print(\"Current parameters: \", params)\n",
    "\n",
    "    # params = {'time_cost': 0.0, 'dv_cost_factor': 0.0, 'dw_cost_factor': 0.0, 'w_cost_factor': 0.0, 'action_noise_std': 0.0}\n",
    "\n",
    "    RLforFF = sb3_for_multiff_class.SB3forMultifirefly(**params, overall_folder=overall_folder,\n",
    "                                                     **env_kwargs)\n",
    "\n",
    "    #RLforFF.import_monkey_data(info_of_monkey, all_trial_features_m, pattern_frequencies_m, feature_statistics_m)\n",
    "    RLforFF.streamline_everything(currentTrial_for_animation=None, num_trials_for_animation=None, duration=[10, 40],\n",
    "                                  best_model_after_curriculum_exists_ok=True)"
   ]
  },
  {
   "cell_type": "markdown",
   "id": "e5061dae",
   "metadata": {},
   "source": [
    "### make animation"
   ]
  },
  {
   "cell_type": "code",
   "execution_count": null,
   "id": "81448918",
   "metadata": {},
   "outputs": [],
   "source": [
    "#RLforFF.load_best_model_after_curriculum()\n",
    "RLforFF.streamline_making_animation(duration=[10, 40])\n",
    "#RLforFF.streamline_loading_and_making_animation()"
   ]
  },
  {
   "cell_type": "markdown",
   "id": "b5d25498",
   "metadata": {},
   "source": [
    "## env2"
   ]
  },
  {
   "cell_type": "code",
   "execution_count": null,
   "id": "077effa7",
   "metadata": {},
   "outputs": [],
   "source": [
    "# randomly sample from a range\n",
    "param_combinations = []\n",
    "num_param_combinations = 10\n",
    "for i in range(num_param_combinations):\n",
    "    combo = dict()\n",
    "    combo[\"time_cost\"] = round(random.uniform(20, 50), 2)\n",
    "    combo[\"dv_cost_factor\"] = round(random.uniform(50, 150), 2)\n",
    "    combo[\"dw_cost_factor\"] = round(random.uniform(50, 150), 2)\n",
    "    combo[\"w_cost_factor\"] = round(random.uniform(50, 150), 2)\n",
    "    param_combinations.append(combo)"
   ]
  },
  {
   "cell_type": "code",
   "execution_count": null,
   "id": "4b5d689e",
   "metadata": {},
   "outputs": [],
   "source": [
    "overall_folder = 'RL_models/SB3_stored_models/all_agents/gen_28_env2/'"
   ]
  },
  {
   "cell_type": "code",
   "execution_count": null,
   "id": "935605e1",
   "metadata": {},
   "outputs": [],
   "source": [
    "env_kwargs = {'num_obs_ff': 10,\n",
    "              'make_ff_always_flash_on': False,\n",
    "              'max_in_memory_time': 3,\n",
    "              'linear_terminal_vel': 0.01,\n",
    "              'angular_terminal_vel': 0.01,\n",
    "              'reward_per_ff': 100,\n",
    "              'dt': 0.1,\n",
    "              'add_cost_when_catching_ff_only': False,\n",
    "              #'reward_per_ff': 120,\n",
    "}\n",
    "\n",
    "for count, params in enumerate(param_combinations):\n",
    "    gc.collect()\n",
    "    print(\"Running\", str(count), \"out of\", len(param_combinations), \"combinations of parameters\")\n",
    "    print(\"Current parameters: \", params)\n",
    "\n",
    "    # params = {'time_cost': 0.0, 'dv_cost_factor': 0.0, 'dw_cost_factor': 0.0, 'w_cost_factor': 0.0, 'action_noise_std': 0.0}\n",
    "\n",
    "    RLforFF = sb3_for_multiff_class.SB3forMultifirefly(**params, overall_folder=overall_folder,\n",
    "                                                     **env_kwargs,\n",
    "                                                     use_env2=True)\n",
    "\n",
    "    #RLforFF.import_monkey_data(info_of_monkey, all_trial_features_m, pattern_frequencies_m, feature_statistics_m)\n",
    "    RLforFF.streamline_everything(currentTrial_for_animation=None, num_trials_for_animation=None, duration=[10, 40],\n",
    "                                  best_model_after_curriculum_exists_ok=False)"
   ]
  },
  {
   "cell_type": "markdown",
   "id": "0ffb305a",
   "metadata": {},
   "source": [
    "## remake animation"
   ]
  },
  {
   "cell_type": "code",
   "execution_count": null,
   "id": "b94af079",
   "metadata": {},
   "outputs": [],
   "source": [
    "# # For every folder in slow:\n",
    "# # Extract parameters from the folder name\n",
    "# # Re-make the env\n",
    "# # Load agent\n",
    "# # And then make animation\n",
    "\n",
    "# overall_folder = 'RL_models/SB3_stored_models/all_agents/gen_30_env1_4ff'\n",
    "# folders = os.listdir(overall_folder)\n",
    "# for folder in folders:\n",
    "#     if 'time' not in folder:\n",
    "#         continue\n",
    "#     print(\"Currently working on\", folder)\n",
    "#     folder_path = overall_folder + '/' + folder\n",
    "#     params = rl_for_multiff_utils.extract_cost_params_from_folder_name(folder)\n",
    "#     RLforFF = sb3_for_multiff_class.SB3forMultifirefly(**params, overall_folder=overall_folder,\n",
    "#                                                      make_ff_always_flash_on=True)\n",
    "#     #RLforFF.import_monkey_data(info_of_monkey, all_trial_features_m, pattern_frequencies_m, feature_statistics_m)\n",
    "#     RLforFF.model_folder_name = folder_path\n",
    "#     RLforFF.make_env()\n",
    "#     RLforFF.make_agent()\n",
    "#     RLforFF.load_agent(load_replay_buffer=False)\n",
    "#     RLforFF.collect_data()\n",
    "#     RLforFF.set_animation_parameters(currentTrial=5, num_trials=5, k=1)\n",
    "#     RLforFF.call_animation_function()"
   ]
  },
  {
   "attachments": {},
   "cell_type": "markdown",
   "id": "5409a0bd",
   "metadata": {
    "id": "5409a0bd"
   },
   "source": [
    "# Env"
   ]
  },
  {
   "attachments": {},
   "cell_type": "markdown",
   "id": "9703eb0c",
   "metadata": {
    "id": "9703eb0c"
   },
   "source": [
    "## regular"
   ]
  },
  {
   "cell_type": "code",
   "execution_count": null,
   "id": "30a34ff5",
   "metadata": {
    "id": "30a34ff5"
   },
   "outputs": [],
   "source": [
    "env_kwargs = {}\n",
    "env = env_for_sb3.EnvForSB3(**env_kwargs)\n",
    "model_folder_name = \"RL_models/SB3_stored_models/all_agents/regular\"\n",
    "env = Monitor(env, model_folder_name)"
   ]
  },
  {
   "cell_type": "markdown",
   "id": "fb32d7b0",
   "metadata": {},
   "source": [
    "## make_ff_always_flash_on"
   ]
  },
  {
   "cell_type": "code",
   "execution_count": null,
   "id": "e4a6ab06",
   "metadata": {},
   "outputs": [],
   "source": [
    "env_kwargs = {'make_ff_always_flash_on': True,\n",
    "              'ffxy_noise_std': 0,}\n",
    "env = env_for_sb3.EnvForSB3(**env_kwargs)\n",
    "model_folder_name = \"RL_models/SB3_stored_models/all_agents/regular\"\n",
    "env = Monitor(env, model_folder_name)"
   ]
  },
  {
   "attachments": {},
   "cell_type": "markdown",
   "id": "83d0be92",
   "metadata": {
    "id": "83d0be92"
   },
   "source": [
    "## one-ff"
   ]
  },
  {
   "cell_type": "code",
   "execution_count": null,
   "id": "08c7fb7e",
   "metadata": {
    "id": "08c7fb7e"
   },
   "outputs": [],
   "source": [
    "env_kwargs = {'num_obs_ff': 1}\n",
    "env = env_for_sb3.EnvForSB3(**env_kwargs)\n",
    "env = Monitor(env, model_folder_name)"
   ]
  },
  {
   "attachments": {},
   "cell_type": "markdown",
   "id": "6d8ef0c3",
   "metadata": {
    "id": "6d8ef0c3"
   },
   "source": [
    "## with noise"
   ]
  },
  {
   "cell_type": "code",
   "execution_count": null,
   "id": "70417219",
   "metadata": {
    "id": "70417219"
   },
   "outputs": [],
   "source": [
    "env_kwargs = {\"action_noise_std\": 0.1, \n",
    "              \"ffxy_noise_std\": 4, \n",
    "              \"num_obs_ff\": 2,\n",
    "              \"max_in_memory_time\": 2.5}\n",
    "# model_folder_name =overall_folder + \"/SB3_stored_models/all_agents/A\" + str(action_noise_std) + \"_O_\" + str(ffxy_noise_std) + \\\n",
    "#                        \"_ff_\" + str(num_obs_ff) + \"_M_\" + str(max_in_memory_time)\n",
    "env = env.MultiFF(**env_kwargs)\n",
    "env = Monitor(env, model_folder_name)\n",
    "model_folder_name = \"RL/SB3_stored_models/all_agents/A0.2_O4_ff2_M3\"\n",
    "os.makedirs(model_folder_name, exist_ok=True)"
   ]
  },
  {
   "cell_type": "markdown",
   "id": "813a57ce",
   "metadata": {},
   "source": [
    "# Collect data (experimentation)"
   ]
  },
  {
   "cell_type": "code",
   "execution_count": null,
   "id": "8ad1d02c",
   "metadata": {},
   "outputs": [],
   "source": [
    "RLforFF.collect_data(exists_ok=True, save_data=True)"
   ]
  },
  {
   "attachments": {},
   "cell_type": "markdown",
   "id": "50d88dc9",
   "metadata": {
    "id": "50d88dc9"
   },
   "source": [
    "# Agent"
   ]
  },
  {
   "attachments": {},
   "cell_type": "markdown",
   "id": "ea153406",
   "metadata": {
    "id": "ea153406"
   },
   "source": [
    "## make agent"
   ]
  },
  {
   "cell_type": "code",
   "execution_count": null,
   "id": "4c411166",
   "metadata": {
    "id": "4c411166"
   },
   "outputs": [],
   "source": [
    "# For direct training\n",
    "sac_model = SAC(\"MlpPolicy\", \n",
    "            env,\n",
    "            gamma=0.995,\n",
    "            learning_rate=0.0015,\n",
    "            batch_size=1024,\n",
    "            target_update_interval=50,\n",
    "            buffer_size=1000000,\n",
    "            learning_starts=10000,\n",
    "            train_freq=10,\n",
    "            ent_coef='auto',\n",
    "            policy_kwargs=dict(activation_fn=nn.Tanh, net_arch=[128, 128])\n",
    "            )"
   ]
  },
  {
   "attachments": {},
   "cell_type": "markdown",
   "id": "37268cc4",
   "metadata": {
    "id": "37268cc4"
   },
   "source": [
    "## load agent (optional)"
   ]
  },
  {
   "cell_type": "code",
   "execution_count": null,
   "id": "fd640727",
   "metadata": {
    "id": "fd640727"
   },
   "outputs": [],
   "source": [
    "path = os.path.join(model_folder_name, 'best_model.zip')\n",
    "path2 = os.path.join(model_folder_name, 'buffer.pkl')\n",
    "sac_model = sac_model.load(path,env=env) \n",
    "sac_model.load_replay_buffer(path2)"
   ]
  },
  {
   "attachments": {},
   "cell_type": "markdown",
   "id": "b372808d",
   "metadata": {
    "id": "b372808d"
   },
   "source": [
    "## Train agent"
   ]
  },
  {
   "cell_type": "code",
   "execution_count": null,
   "id": "21a908ec",
   "metadata": {
    "id": "21a908ec"
   },
   "outputs": [],
   "source": [
    "callback = SB3_functions.SaveOnBestTrainingRewardCallback(check_freq=20000, model_folder_name=model_folder_name)\n",
    "#timesteps = 50000000\n",
    "timesteps = 5000000\n",
    "sac_model.learn(total_timesteps=int(timesteps), callback=callback)\n",
    "plot_results([model_folder_name], timesteps, results_plotter.X_TIMESTEPS, \"env.MultiFF\")\n",
    "plt.show()"
   ]
  },
  {
   "cell_type": "code",
   "execution_count": null,
   "id": "1919e84e",
   "metadata": {
    "id": "1919e84e"
   },
   "outputs": [],
   "source": [
    "plot_results([model_folder_name], timesteps, results_plotter.X_TIMESTEPS, \"env.MultiFF\")\n",
    "plt.show()"
   ]
  },
  {
   "cell_type": "code",
   "execution_count": null,
   "id": "9c3d27b8",
   "metadata": {
    "id": "9c3d27b8"
   },
   "outputs": [],
   "source": [
    "sac_model.save(os.path.join(model_folder_name, 'best_model'))\n",
    "sac_model.save_replay_buffer(os.path.join(model_folder_name, 'buffer')) # I added this"
   ]
  },
  {
   "cell_type": "code",
   "execution_count": null,
   "id": "492f1169",
   "metadata": {
    "id": "492f1169"
   },
   "outputs": [],
   "source": [
    "stop_train_callback = SB3_functions.StopTrainingOnNoModelImprovement(max_no_improvement_evals=10, min_evals=20, verbose=1)\n",
    "callback = EvalCallback(env, eval_freq=5000, callback_after_eval=stop_train_callback, verbose=1)\n",
    "# timesteps = 50000000\n",
    "timesteps = 5000000\n",
    "sac_model.learn(total_timesteps=int(timesteps), callback=callback)\n",
    "\n",
    "sac_model.save(os.path.join(model_folder_name, 'best_model'))\n",
    "sac_model.save_replay_buffer(os.path.join(model_folder_name, 'buffer')) # I added this"
   ]
  },
  {
   "attachments": {},
   "cell_type": "markdown",
   "id": "d075400f",
   "metadata": {
    "id": "d075400f"
   },
   "source": [
    "# Animation"
   ]
  },
  {
   "cell_type": "code",
   "execution_count": null,
   "id": "382fcebb",
   "metadata": {},
   "outputs": [],
   "source": [
    "RL_anim = sb3_for_multiff_class.SB3forMultifirefly(overall_folder='RL_models/SB3_stored_models/all_agents/gen_12/', **env_kwargs)"
   ]
  },
  {
   "cell_type": "code",
   "execution_count": null,
   "id": "5bad6a43",
   "metadata": {},
   "outputs": [],
   "source": [
    "RL_anim.sac_model = sac_model"
   ]
  },
  {
   "cell_type": "code",
   "execution_count": null,
   "id": "8974494c",
   "metadata": {},
   "outputs": [],
   "source": [
    "RL_anim.streamline_making_animation()"
   ]
  },
  {
   "attachments": {},
   "cell_type": "markdown",
   "id": "b056b5cc",
   "metadata": {
    "id": "b056b5cc"
   },
   "source": [
    "# Interpret neural network (only works on 1-ff env rn)"
   ]
  },
  {
   "cell_type": "code",
   "execution_count": null,
   "id": "86cb94d9",
   "metadata": {},
   "outputs": [],
   "source": [
    "## use combine_6_plots_for_neural_network from rl_for_multiff_class"
   ]
  },
  {
   "attachments": {},
   "cell_type": "markdown",
   "id": "efeeb570",
   "metadata": {
    "id": "efeeb570"
   },
   "source": [
    "# Plot statistics (pasted from visualization.ipynb)\n",
    "compare monkey and agents"
   ]
  },
  {
   "cell_type": "code",
   "execution_count": null,
   "id": "48a06c6c",
   "metadata": {},
   "outputs": [],
   "source": [
    "# use the function above from rl_for_multiff_class:   \n",
    "    # def save_plots_in_data_folders(self):\n",
    "    #     plot_statistics.plot_pattern_frequencies(self.agent_monkey_pattern_frequencies, compare_monkey_and_agent=True, data_folder_name=self.processed_data_folder_path)\n",
    "    #     plot_statistics.plot_feature_statistics(self.agent_monkey_feature_statistics, compare_monkey_and_agent=True, data_folder_name = self.processed_data_folder_path)\n",
    "\n",
    "    #     plot_statistics.plot_feature_histograms_for_monkey_and_agent(self.all_trial_features_valid_m, self.all_trial_features_valid, data_folder_name = self.model_folder_name)\n",
    "    #     print(\"Made new plots\")"
   ]
  },
  {
   "attachments": {},
   "cell_type": "markdown",
   "id": "TQMCDI-FqP6s",
   "metadata": {
    "id": "TQMCDI-FqP6s"
   },
   "source": [
    "# Plot side_by_side"
   ]
  },
  {
   "cell_type": "code",
   "execution_count": null,
   "id": "f57d26ad",
   "metadata": {},
   "outputs": [],
   "source": [
    "# use the function plot_side_by_side from rl_for_multiff_class:   "
   ]
  },
  {
   "attachments": {},
   "cell_type": "markdown",
   "id": "xIYoWAIyDieu",
   "metadata": {
    "id": "xIYoWAIyDieu"
   },
   "source": [
    "# Polar"
   ]
  },
  {
   "attachments": {},
   "cell_type": "markdown",
   "id": "aoaz1_ng6QMt",
   "metadata": {
    "id": "aoaz1_ng6QMt"
   },
   "source": [
    "## Version 1"
   ]
  },
  {
   "cell_type": "code",
   "execution_count": null,
   "id": "ZrSbMmCJ5uN1",
   "metadata": {
    "id": "ZrSbMmCJ5uN1"
   },
   "outputs": [],
   "source": [
    "num_trials = 1\n",
    "for currentTrial in range(40,43):\n",
    "    print(currentTrial)\n",
    "    #duration = [ff_caught_T_new[currentTrial-num_trials], ff_caught_T_new[currentTrial]]\n",
    "    duration = [ff_caught_T_new[currentTrial]-1.25, ff_caught_T_new[currentTrial]]\n",
    "\n",
    "\n",
    "    plot_polar.PlotPolar(duration,\n",
    "              monkey_information,\n",
    "              ff_dataframe, \n",
    "              ff_life_sorted,\n",
    "              ff_real_position_sorted,\n",
    "              ff_caught_T_new,\n",
    "              ff_flash_sorted,\n",
    "              rmax = 100,\n",
    "              currentTrial = currentTrial,\n",
    "              num_trials = num_trials,\n",
    "              show_visible_ff = True,\n",
    "              show_visible_target = True,\n",
    "              show_ff_in_memory = True,\n",
    "              show_target_in_memory = True,\n",
    "              show_alive_ff = True\n",
    "                )"
   ]
  },
  {
   "attachments": {},
   "cell_type": "markdown",
   "id": "ZLNksPtjduik",
   "metadata": {
    "id": "ZLNksPtjduik"
   },
   "source": [
    "## Animation"
   ]
  },
  {
   "cell_type": "code",
   "execution_count": null,
   "id": "79OZSKw1duBP",
   "metadata": {
    "id": "79OZSKw1duBP"
   },
   "outputs": [],
   "source": [
    "currentTrial = 10\n",
    "num_trials = 2\n",
    "filename = f\"Trials {currentTrial-num_trials+1}-{currentTrial}\"\n",
    "print(filename)\n",
    "k = 4\n",
    "rmax = 100\n",
    "colors_Reds = plt.get_cmap(\"Reds\")(np.linspace(0,1,101))\n",
    "colors_YlGn = plt.get_cmap(\"YlGn\")(np.linspace(0,1,101))\n",
    "cum_pos_index = np.where((monkey_information['time'] > ff_caught_T_new[currentTrial-num_trials]) & \n",
    "                       (monkey_information['time'] <= ff_caught_T_new[currentTrial]))\n",
    "\n",
    "if len(cum_pos_index) > 0:\n",
    "    fig = plt.figure(figsize=(7,7))\n",
    "    ax = fig.add_axes([0.1, 0.1, 0.8, 0.8], polar=True)\n",
    "    ax = plot_behaviors_utils.set_polar_background_for_animation(ax, rmax)\n",
    "\n",
    "    ff_in_time_frame, ff_visible, ff_in_memory = animation_func.subset_ff_dataframe(ff_dataframe, currentTrial, num_trials)\n",
    "    anim_indices = cum_pos_index[0][0:-1:k]\n",
    "    num_frames = anim_indices.size\n",
    "    animate_func = partial(animation_func.animate_polar, ax=ax, anim_indices=anim_indices, rmax=400, ff_in_time_frame=ff_in_time_frame, ff_visible=ff_visible, ff_in_memory=ff_in_memory)\n",
    "    anim = animation.FuncAnimation(fig, animate_func, frames=num_frames, interval=int(250*k), repeat=True) \n",
    "\n",
    "    #gif_dir = '/content/gdrive/My Drive/fireflies_anim/???'\n",
    "    #anim.save(f\"{gif_dir}/{filename}.gif\", writer='pillow', fps=60)\n",
    "else:\n",
    "    print(\"Please try another number for currentTrial, or increase num_trials.\")\n",
    "\n",
    "HTML(anim.to_html5_video())"
   ]
  },
  {
   "attachments": {},
   "cell_type": "markdown",
   "id": "r6j1e2uxq5OG",
   "metadata": {
    "id": "r6j1e2uxq5OG"
   },
   "source": [
    "# Test agent"
   ]
  },
  {
   "cell_type": "code",
   "execution_count": null,
   "id": "k9-tdbAHq5_U",
   "metadata": {
    "id": "k9-tdbAHq5_U"
   },
   "outputs": [],
   "source": [
    "obs, _ = env.reset()\n",
    "cum_rewards = 0\n",
    "for step in range(1000):\n",
    "    action, _ = sac_model.predict(obs, deterministic=True)\n",
    "    obs, reward, done, _, info = env.step(action)\n",
    "    cum_rewards += reward\n",
    "    if done:\n",
    "        obs, _ = env.reset()\n",
    "    # print(step, ffxy_visible[-1])\n",
    "print(cum_rewards)"
   ]
  },
  {
   "attachments": {},
   "cell_type": "markdown",
   "id": "1Inbx37xwycW",
   "metadata": {
    "id": "1Inbx37xwycW"
   },
   "source": [
    "# Hyperparameter tuning"
   ]
  },
  {
   "attachments": {},
   "cell_type": "markdown",
   "id": "hfHYXONdz7qJ",
   "metadata": {
    "id": "hfHYXONdz7qJ"
   },
   "source": [
    "## parameters to sample from"
   ]
  },
  {
   "cell_type": "code",
   "execution_count": null,
   "id": "xhBysB7hz_F8",
   "metadata": {
    "id": "xhBysB7hz_F8"
   },
   "outputs": [],
   "source": [
    "def sample_sac_params(trial):\n",
    "    \"\"\"\n",
    "    Sampler for SAC hyperparams.\n",
    "\n",
    "\n",
    "    Parameters\n",
    "    ----------\n",
    "    trial: (optuna.trial)\n",
    "\n",
    "    Return: (dict)\n",
    "    \"\"\"\n",
    "\n",
    "\n",
    "    gamma = 1.0 - trial.suggest_float(\"gamma\", 0.0001, 0.1, log=True)\n",
    "    learning_rate = trial.suggest_float(\"lr\", 1e-5, 1, log=True)\n",
    "    tau = trial.suggest_float(\"tau\", 1e-6, 1, log=True)\n",
    "    #batch_size = trial.suggest_categorical('batch_size', [16, 32, 64, 128, 256, 512, 1024])\n",
    "    target_update_interval = trial.suggest_categorical('target_update_interval', [5, 10, 20, 40, 60, 100, 200])\n",
    "    #buffer_size = trial.suggest_categorical('buffer_size', [int(1e5), int(1e6)]) # This actually doesn't matter much here because of limited timesteps\n",
    "    learning_starts = trial.suggest_categorical('learning_starts', [5000, 10000, 15000])\n",
    "    train_freq = trial.suggest_categorical('train_freq', [1, 10, 100, 300])\n",
    "    ## gradient_steps takes too much time\n",
    "    # gradient_steps = trial.suggest_categorical('gradient_steps', [1, 100, 300])\n",
    "    gradient_steps = train_freq\n",
    "    ent_coef = trial.suggest_float(\"ent_coef\", 0.00000001, 0.1, log=True)\n",
    "    net_arch = trial.suggest_categorical('net_arch', [\"small\", \"medium\", \"big\"])\n",
    "    activation_fn = trial.suggest_categorical(\"activation_fn\", [\"tanh\"])\n",
    "\n",
    "    net_arch = {\n",
    "        'small': [100, 100],\n",
    "        'medium': [128, 128],\n",
    "        'big': [200, 200],\n",
    "    }[net_arch]\n",
    "\n",
    "    activation_fn = {\"tanh\": nn.Tanh, \"relu\": nn.ReLU}[activation_fn]\n",
    "\n",
    "    target_entropy = 'auto'\n",
    "    if ent_coef == 'auto':\n",
    "        target_entropy = trial.suggest_categorical('target_entropy', ['auto', -1, -10, -20, -50, -100])\n",
    "\n",
    "\n",
    "    ## Display true values\n",
    "    # trial.set_user_attr(\"gamma_\", gamma)\n",
    "    # trial.set_user_attr(\"n_steps\", n_steps)\n",
    "\n",
    "\n",
    "    return {\n",
    "        'gamma': gamma,\n",
    "        'learning_rate': learning_rate,\n",
    "        'tau': tau,\n",
    "        #'batch_size': batch_size,\n",
    "        'target_update_interval': target_update_interval,\n",
    "        #'buffer_size': buffer_size,\n",
    "        'learning_starts': learning_starts,\n",
    "        'train_freq': train_freq,\n",
    "        'gradient_steps': gradient_steps,\n",
    "        'ent_coef': ent_coef,\n",
    "        'target_entropy': target_entropy,\n",
    "        'policy_kwargs': {\n",
    "            \"net_arch\": net_arch,\n",
    "            \"activation_fn\": activation_fn\n",
    "        }\n",
    "    }"
   ]
  },
  {
   "attachments": {},
   "cell_type": "markdown",
   "id": "iV2OVSz10Bve",
   "metadata": {
    "id": "iV2OVSz10Bve"
   },
   "source": [
    "## objective"
   ]
  },
  {
   "cell_type": "code",
   "execution_count": null,
   "id": "-3YZk9SVxCWh",
   "metadata": {
    "id": "-3YZk9SVxCWh"
   },
   "outputs": [],
   "source": [
    "def objective(trial: optuna.Trial) -> float:\n",
    "    kwargs = DEFAULT_HYPERPARAMS.copy()\n",
    "    # Sample hyperparameters\n",
    "    kwargs.update(sample_sac_params(trial))\n",
    "    # Create the RL model\n",
    "    model = SAC(**kwargs)\n",
    "    # Create env used for evaluation\n",
    "    eval_env = env\n",
    "    # Create the callback that will periodically evaluate\n",
    "    # and report the performance\n",
    "    eval_callback = SB3_functions.TrialEvalCallback(\n",
    "      eval_env, trial, n_eval_episodes=N_EVAL_EPISODES, eval_freq=eval_freq, deterministic=True\n",
    "    )\n",
    "\n",
    "    nan_encountered = False\n",
    "    try:\n",
    "      model.learn(N_TIMESTEPS, callback=eval_callback)\n",
    "    except AssertionError as e:\n",
    "      # Sometimes, random hyperparams can generate NaN\n",
    "      print(e)\n",
    "      nan_encountered = True\n",
    "    finally:\n",
    "      # Free memory\n",
    "      model.env.close()\n",
    "      eval_env.close()\n",
    "\n",
    "    # Tell the optimizer that the trial failed\n",
    "    if nan_encountered:\n",
    "      return float(\"nan\")\n",
    "\n",
    "    if eval_callback.is_pruned:\n",
    "      raise optuna.exceptions.TrialPruned()\n",
    "\n",
    "    return eval_callback.last_mean_reward"
   ]
  },
  {
   "attachments": {},
   "cell_type": "markdown",
   "id": "UVyTUNFzHtLP",
   "metadata": {
    "id": "UVyTUNFzHtLP"
   },
   "source": [
    "## run"
   ]
  },
  {
   "cell_type": "code",
   "execution_count": null,
   "id": "Dhl9rpZPH0w6",
   "metadata": {
    "id": "Dhl9rpZPH0w6"
   },
   "outputs": [],
   "source": [
    "env = env_for_sb3.EnvForSB3()\n",
    "env.reset()\n",
    "\n",
    "\n",
    "\n",
    "DEFAULT_HYPERPARAMS = {\n",
    "    \"policy\": \"MlpPolicy\",\n",
    "    \"env\": env,\n",
    "}\n",
    "\n",
    "N_TRIALS = 100\n",
    "N_STARTUP_TRIALS = 5\n",
    "N_EVALUATIONS = 2\n",
    "\n",
    "\n",
    "N_TIMESTEPS = 100000\n",
    "eval_freq = int(N_TIMESTEPS / N_EVALUATIONS)\n",
    "N_EVAL_EPISODES = 1\n",
    "\n",
    "\n",
    "\n",
    "# Set pytorch num threads to 1 for faster training\n",
    "torch.set_num_threads(1)\n",
    "\n",
    "sampler = TPESampler(n_startup_trials=N_STARTUP_TRIALS)\n",
    "# Do not prune before 1/3 of the max budget is used\n",
    "pruner = MedianPruner(n_startup_trials=N_STARTUP_TRIALS, n_warmup_steps=N_EVALUATIONS//3)\n",
    "\n",
    "study = optuna.create_study(sampler=sampler, pruner=pruner, direction=\"maximize\")\n",
    "try:\n",
    "    study.optimize(objective, n_trials=N_TRIALS)\n",
    "except KeyboardInterrupt:\n",
    "    pass\n",
    "\n",
    "print(\"Number of finished trials: \", len(study.trials))\n",
    "\n",
    "print(\"Best trial:\")\n",
    "trial = study.best_trial\n",
    "\n",
    "print(\"  Value: \", trial.value)\n",
    "\n",
    "print(\"  Params: \")\n",
    "for key, value in trial.params.items():\n",
    "    print(\"    {}: {}\".format(key, value))\n",
    "\n",
    "print(\"  User attrs:\")\n",
    "for key, value in trial.user_attrs.items():\n",
    "    print(\"    {}: {}\".format(key, value))\n"
   ]
  },
  {
   "attachments": {},
   "cell_type": "markdown",
   "id": "Pj9Wo6ylF0MI",
   "metadata": {
    "id": "Pj9Wo6ylF0MI"
   },
   "source": [
    "# Debug"
   ]
  },
  {
   "cell_type": "code",
   "execution_count": null,
   "id": "HQmdse_eWe-F",
   "metadata": {
    "id": "HQmdse_eWe-F"
   },
   "outputs": [],
   "source": [
    "!pip install -Uqq ipdb\n",
    "import ipdb"
   ]
  },
  {
   "cell_type": "code",
   "execution_count": null,
   "id": "hkdgF8xfWgS-",
   "metadata": {
    "id": "hkdgF8xfWgS-"
   },
   "outputs": [],
   "source": [
    "%pdb on"
   ]
  },
  {
   "cell_type": "code",
   "execution_count": null,
   "id": "4c3743ef",
   "metadata": {},
   "outputs": [],
   "source": [
    "\n",
    "category_item.clean_out_cross_boundary_trials()\n",
    "category_item.clean_out_trials_where_target_cluster_was_not_seen_for_a_long_time_before_capture()\n",
    "category_item.make_polar_plot_of_target_last_seen_positions()\n",
    "category_item.make_histograms_of_target_last_seen_attributes()\n",
    "category_item.make_histogram_of_distances_from_previous_targets()\n",
    "category_item.make_polar_plot_of_positions_from_previous_targets()\n",
    "category_item.plot_trajectories(trials=category_item.sort_1_trials[17:18])\n",
    "category_item.plot_distributions_of_visible_ff_and_in_memory_ff()\n",
    "category_item.make_and_visualize_free_selection_predictions_using_trained_model(trained_model = gnb)\n",
    "# category_item.inspect_special_cases(weird_trials=[98, 180, 212, 649])"
   ]
  }
 ],
 "metadata": {
  "accelerator": "GPU",
  "colab": {
   "machine_shape": "hm",
   "provenance": [
    {
     "file_id": "1GN5Y_MBqDlaM8t8KZqZZKeERvOau11W_",
     "timestamp": 1681009447473
    }
   ]
  },
  "gpuClass": "standard",
  "kernelspec": {
   "display_name": "Python 3",
   "name": "python3"
  },
  "language_info": {
   "codemirror_mode": {
    "name": "ipython",
    "version": 3
   },
   "file_extension": ".py",
   "mimetype": "text/x-python",
   "name": "python",
   "nbconvert_exporter": "python",
   "pygments_lexer": "ipython3",
   "version": "3.9.19"
  },
  "toc": {
   "base_numbering": 1,
   "nav_menu": {},
   "number_sections": true,
   "sideBar": true,
   "skip_h1_title": false,
   "title_cell": "Table of Contents",
   "title_sidebar": "Contents",
   "toc_cell": true,
   "toc_position": {},
   "toc_section_display": true,
   "toc_window_display": true
  }
 },
 "nbformat": 4,
 "nbformat_minor": 5
}
