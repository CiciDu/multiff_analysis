{
 "cells": [
  {
   "cell_type": "markdown",
   "id": "0",
   "metadata": {},
   "source": [
    "# Import packages"
   ]
  },
  {
   "cell_type": "code",
   "execution_count": null,
   "id": "1",
   "metadata": {},
   "outputs": [],
   "source": [
    "from pathlib import Path\n",
    "import os, sys\n",
    "for p in [Path.cwd()] + list(Path.cwd().parents):\n",
    "    if p.name == 'Multifirefly-Project':\n",
    "        os.chdir(p)\n",
    "        sys.path.insert(0, str(p / 'multiff_analysis/multiff_code/methods'))\n",
    "        break\n",
    "\n",
    "\n",
    "%load_ext autoreload\n",
    "%autoreload 2\n",
    "\n",
    "import sys\n",
    "from data_wrangling import specific_utils, process_monkey_information, base_processing_class\n",
    "from pattern_discovery import pattern_by_trials, pattern_by_points, make_ff_dataframe, ff_dataframe_utils, pattern_by_trials, pattern_by_points, cluster_analysis, organize_patterns_and_features, category_class\n",
    "from decision_making_analysis.cluster_replacement import cluster_replacement_utils, plot_cluster_replacement\n",
    "from decision_making_analysis.decision_making import decision_making_utils, plot_decision_making, intended_targets_classes\n",
    "from decision_making_analysis.GUAT import GUAT_helper_class, GUAT_collect_info_class, GUAT_combine_info_class, add_features_GUAT_and_TAFT\n",
    "from decision_making_analysis import free_selection, replacement, trajectory_info\n",
    "from visualization.matplotlib_tools import plot_trials, plot_polar, additional_plots, plot_behaviors_utils, plot_statistics\n",
    "from visualization.animation import animation_func, animation_utils, animation_class\n",
    "from null_behaviors import sample_null_distributions, show_null_trajectory\n",
    "from machine_learning.ml_methods import regression_utils, classification_utils, prep_ml_data_utils, hyperparam_tuning_class\n",
    "from machine_learning.RL.env_related import env_for_lstm, env_utils, base_env, collect_agent_data_utils\n",
    "from machine_learning.RL.lstm import GRU_functions, LSTM_functions, LSTM_functions, lstm_for_multiff_class\n",
    "from machine_learning.RL.SB3 import interpret_neural_network, sb3_for_multiff_class, rl_for_multiff_utils, SB3_functions\n",
    "from eye_position_analysis import eye_positions\n",
    "from neural_data_analysis.neural_analysis_tools.model_neural_data import neural_data_modeling\n",
    "from decision_making_analysis.compare_GUAT_and_TAFT import find_GUAT_or_TAFT_trials\n",
    "from machine_learning.RL.SB3 import rl_for_multiff_utils, rl_for_multiff_class\n",
    "from machine_learning.RL.ff_attention import attn_sac_ff, attn_sac_rnn, env_attn_multiff\n",
    "\n",
    "import os, sys\n",
    "import torch\n",
    "import numpy as np\n",
    "import pickle\n",
    "from gymnasium import spaces, Env\n",
    "import torch\n",
    "import optuna\n",
    "from numpy import pi\n",
    "import matplotlib.pyplot as plt\n",
    "import matplotlib.animation as animation\n",
    "from torch.linalg import vector_norm\n",
    "from IPython.display import HTML\n",
    "from functools import partial\n",
    "from optuna.pruners import MedianPruner\n",
    "from optuna.samplers import TPESampler\n",
    "import gc\n",
    "from importlib import reload\n",
    "plt.rcParams[\"animation.html\"] = \"html5\"\n",
    "torch.set_printoptions(sci_mode=False)\n",
    "np.set_printoptions(suppress=True)\n",
    "\n",
    "device_idx = 0\n",
    "# device = torch.device(\"cuda:\" + str(device_idx) if torch.cuda.is_available() else \"cpu\")\n",
    "## if using Jupyter Notebook\n",
    "device = \"mps\" if torch.backends.mps.is_available() else \"cpu\"\n",
    "model_folder_name = \"RL_models/LSTM_stored_models/all_agents/gen_0/LSTM_Aug_1_24\"\n",
    "os.makedirs(model_folder_name, exist_ok=True)\n",
    "PLAYER = \"agent\""
   ]
  },
  {
   "cell_type": "code",
   "execution_count": null,
   "id": "2",
   "metadata": {},
   "outputs": [],
   "source": [
    "stop!"
   ]
  },
  {
   "cell_type": "markdown",
   "id": "3",
   "metadata": {},
   "source": [
    "# streamline everything"
   ]
  },
  {
   "cell_type": "code",
   "execution_count": null,
   "id": "4",
   "metadata": {},
   "outputs": [],
   "source": [
    "# env for curriculum training...\n",
    "\n",
    "env_kwargs = {\n",
    "    \"reward_per_ff\": 80,\n",
    "\n",
    "    \"dv_cost_factor\": 0,\n",
    "    \"dw_cost_factor\": 0,\n",
    "    \"w_cost_factor\": 0,\n",
    "    \"dt\": 0.25,\n",
    "    \"flash_on_interval\": 2.1\n",
    "}"
   ]
  },
  {
   "cell_type": "markdown",
   "id": "5",
   "metadata": {},
   "source": [
    "### env1"
   ]
  },
  {
   "cell_type": "code",
   "execution_count": null,
   "id": "6",
   "metadata": {},
   "outputs": [],
   "source": [
    "lm.env_kwargs"
   ]
  },
  {
   "cell_type": "code",
   "execution_count": null,
   "id": "7",
   "metadata": {},
   "outputs": [],
   "source": [
    "reload(env_for_lstm)\n",
    "reload(sb3_for_multiff_class)\n",
    "reload(rl_for_multiff_class)"
   ]
  },
  {
   "cell_type": "code",
   "execution_count": null,
   "id": "8",
   "metadata": {},
   "outputs": [],
   "source": [
    "params_file = os.path.join('RL_models/LSTM_stored_models/all_agents/gen_9_determ_eval/dv0_dw0_w0_mem0', 'env_params.txt')\n",
    "\n",
    "import pandas as pd\n",
    "params_file = pd.read_csv(params_file)\n",
    "params_file\n",
    "# lm = lstm_for_multiff_class.LSTMforMultifirefly()"
   ]
  },
  {
   "cell_type": "code",
   "execution_count": null,
   "id": "9",
   "metadata": {},
   "outputs": [],
   "source": [
    "# lm = lstm_for_multiff_class.LSTMforMultifirefly()\n",
    "\n",
    "env_kwargs = {'num_obs_ff': 2,\n",
    "              'add_action_to_obs': False,\n",
    "              'angular_terminal_vel': 1,\n",
    "              \"dt\": 0.25,\n",
    "              \"flash_on_interval\": 0.3,\n",
    "              \"dv_cost_factor\": 0,\n",
    "              \"dw_cost_factor\": 0,\n",
    "              \"w_cost_factor\": 0,\n",
    "            }   \n",
    "lm = lstm_for_multiff_class.LSTMforMultifirefly(overall_folder='RL_models/LSTM_stored_models/all_agents/gen_9_determ_eval/',\n",
    "                                                **env_kwargs)\n",
    "\n",
    "                                             \n",
    "\n",
    "lm.streamline_everything(currentTrial_for_animation=None, num_trials_for_animation=None, duration=[10, 40],\n",
    "                         best_model_after_curriculum_exists_ok=True)"
   ]
  },
  {
   "cell_type": "code",
   "execution_count": null,
   "id": "10",
   "metadata": {},
   "outputs": [],
   "source": [
    "lm.env.num_elem_per_ff"
   ]
  },
  {
   "cell_type": "code",
   "execution_count": null,
   "id": "11",
   "metadata": {},
   "outputs": [],
   "source": [
    "lm.env.obs_space_length"
   ]
  },
  {
   "cell_type": "code",
   "execution_count": null,
   "id": "12",
   "metadata": {},
   "outputs": [],
   "source": [
    "lm.env_kwargs"
   ]
  },
  {
   "cell_type": "markdown",
   "id": "13",
   "metadata": {},
   "source": [
    "# Feed-forward SAC"
   ]
  },
  {
   "cell_type": "code",
   "execution_count": null,
   "id": "14",
   "metadata": {},
   "outputs": [],
   "source": [
    "!pwd"
   ]
  },
  {
   "cell_type": "code",
   "execution_count": null,
   "id": "15",
   "metadata": {},
   "outputs": [],
   "source": []
  },
  {
   "cell_type": "code",
   "execution_count": null,
   "id": "16",
   "metadata": {},
   "outputs": [],
   "source": [
    "/Users/dusiyi/Documents/Multifirefly-Project/multiff_analysis/multiff_code/test_env_debug.py\n",
    "from test_env_debug import test_env_debug"
   ]
  },
  {
   "cell_type": "code",
   "execution_count": null,
   "id": "17",
   "metadata": {},
   "outputs": [],
   "source": [
    "from multiff_analysis.multiff_code import test_env_debug"
   ]
  },
  {
   "cell_type": "code",
   "execution_count": null,
   "id": "18",
   "metadata": {},
   "outputs": [],
   "source": [
    "test_env_debug.main()"
   ]
  },
  {
   "cell_type": "code",
   "execution_count": null,
   "id": "19",
   "metadata": {},
   "outputs": [],
   "source": [
    "reload(base_env)"
   ]
  },
  {
   "cell_type": "code",
   "execution_count": null,
   "id": "20",
   "metadata": {},
   "outputs": [],
   "source": [
    "\n",
    "# 1) Make env wrapper (inherits your MultiFF)\n",
    "env = env_attn_multiff.EnvForAttentionSAC(\n",
    "    num_obs_ff=5,\n",
    "    slot_fields=['valid','d_log','sin','cos','t_start_seen'],  # choose fields by name\n",
    "    recenter=True,                                             # map to [-1,1]\n",
    "    flash_on_interval=0.3, episode_len=1024\n",
    ")\n",
    "\n",
    "# 2) Build trainer\n",
    "agent = attn_sac_ff.AttnSACforMultifirefly(model_folder='RL_models/ATTN_FF/agent_0/',\n",
    "                               num_obs_ff=5, slot_fields=['valid','d_log','sin','cos','t_start_seen'])\n",
    "\n",
    "agent.make_env()  # pass/override env kwargs here if you want\n",
    "agent.make_agent(\n",
    "    k_top=4, d_slot=64, n_heads=2, include_ctx=True,\n",
    "    attn_temperature=1.0, slot_dropout_p=0.05, gumbel_topk=True,\n",
    "    lr=3e-4, gamma=0.99, tau=0.995, target_entropy=-2.0,\n",
    "    batch_size=128, replay_size=200_000, random_steps=2_000, updates_per_step=1,\n",
    "    amp=False, log_every=1000, eval_every=0, save_every=0\n",
    ")\n",
    "\n",
    "# 3) Train\n",
    "agent.regular_training(total_env_steps=50_000)\n",
    "\n",
    "# 4) Save / Eval\n",
    "agent.save_agent()\n",
    "agent.test_agent(num_eps=3, deterministic=True)\n"
   ]
  },
  {
   "cell_type": "markdown",
   "id": "21",
   "metadata": {},
   "source": [
    "# RNN"
   ]
  },
  {
   "cell_type": "code",
   "execution_count": null,
   "id": "22",
   "metadata": {},
   "outputs": [],
   "source": [
    "rnn_agent = attn_sac_rnn.AttnRNNSACforMultifirefly(model_folder='RL_models/ATTN_RNN/agent_0/',\n",
    "                                      num_obs_ff=5, slot_fields=['valid','d_log','sin','cos','t_start_seen'])\n",
    "rnn_agent.make_env()\n",
    "rnn_agent.make_agent(\n",
    "    k_top=4, d_slot=64, include_ctx=True, rnn='gru', d_hidden=256,\n",
    "    attn_temperature=1.0, slot_dropout_p=0.05, gumbel_topk=True,\n",
    "    lr=3e-4, gamma=0.99, tau=0.995, target_entropy=-2.0,\n",
    "    batch_size=16, seq_len_total=128, burn_in=16, updates_per_step=1,\n",
    "    amp=False, log_every=1000, eval_every=0\n",
    ")\n",
    "rnn_agent.regular_training(total_env_steps=50_000)\n",
    "rnn_agent.save_agent()\n",
    "rnn_agent.test_agent(num_eps=3, deterministic=True)\n"
   ]
  }
 ],
 "metadata": {
  "accelerator": "GPU",
  "colab": {
   "provenance": [
    {
     "file_id": "1FShUys0iUmi3huyQwtaEdyhGivLG2R_5",
     "timestamp": 1681095282536
    }
   ],
   "toc_visible": true
  },
  "gpuClass": "standard",
  "kernelspec": {
   "display_name": "multiff_clean",
   "language": "python",
   "name": "python3"
  },
  "language_info": {
   "codemirror_mode": {
    "name": "ipython",
    "version": 3
   },
   "file_extension": ".py",
   "mimetype": "text/x-python",
   "name": "python",
   "nbconvert_exporter": "python",
   "pygments_lexer": "ipython3",
   "version": "3.11.11"
  },
  "toc": {
   "base_numbering": 1,
   "nav_menu": {},
   "number_sections": true,
   "sideBar": true,
   "skip_h1_title": false,
   "title_cell": "Table of Contents",
   "title_sidebar": "Contents",
   "toc_cell": true,
   "toc_position": {
    "height": "calc(100% - 180px)",
    "left": "10px",
    "top": "150px",
    "width": "288px"
   },
   "toc_section_display": true,
   "toc_window_display": true
  }
 },
 "nbformat": 4,
 "nbformat_minor": 5
}
