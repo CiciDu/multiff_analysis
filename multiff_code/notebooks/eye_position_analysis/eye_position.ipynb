{
 "cells": [
  {
   "cell_type": "markdown",
   "metadata": {
    "id": "Ba0IdmwjQ4rv"
   },
   "source": [
    "# Install packages"
   ]
  },
  {
   "cell_type": "code",
   "execution_count": null,
   "metadata": {
    "colab": {
     "base_uri": "https://localhost:8080/"
    },
    "executionInfo": {
     "elapsed": 28219,
     "status": "ok",
     "timestamp": 1683005124717,
     "user": {
      "displayName": "Cici Du",
      "userId": "17701548280142155870"
     },
     "user_tz": 300
    },
    "id": "37EL1grMQ4rw",
    "outputId": "c2d1cbde-2031-43c0-85a9-1d4fcaba41c8"
   },
   "outputs": [],
   "source": [
    "from google.colab import drive # import drive from google colab\n",
    "drive.mount(\"/content/drive\") \n",
    "!pip install neo\n",
    "!pip install matplotlib_scalebar\n",
    "!pip install ffmpeg\n",
    "!pip install Ipython --upgrade\n",
    "!pip3 install setuptools==65.5.0\n",
    "%load_ext autoreload\n",
    "%autoreload 2"
   ]
  },
  {
   "cell_type": "code",
   "execution_count": null,
   "metadata": {},
   "outputs": [],
   "source": [
    "%cd /content/drive/MyDrive/ff_repo/Multifirefly-Project"
   ]
  },
  {
   "cell_type": "markdown",
   "metadata": {
    "id": "D7ubA2G0ql0K"
   },
   "source": [
    "# Import packages"
   ]
  },
  {
   "cell_type": "code",
   "execution_count": null,
   "metadata": {},
   "outputs": [],
   "source": []
  },
  {
   "cell_type": "code",
   "execution_count": null,
   "metadata": {
    "colab": {
     "base_uri": "https://localhost:8080/"
    },
    "executionInfo": {
     "elapsed": 170,
     "status": "ok",
     "timestamp": 1683005124884,
     "user": {
      "displayName": "Cici Du",
      "userId": "17701548280142155870"
     },
     "user_tz": 300
    },
    "id": "3klBkPC-Q4rw",
    "outputId": "0ab0881c-b243-4dfc-dde5-5ea0efe85403"
   },
   "outputs": [],
   "source": [
    "%load_ext autoreload\n",
    "%autoreload 2\n",
    "\n",
    "from pathlib import Path\n",
    "import os, sys\n",
    "for p in [Path.cwd()] + list(Path.cwd().parents):\n",
    "    if p.name == 'Multifirefly-Project':\n",
    "        os.chdir(p)\n",
    "        sys.path.insert(0, str(p / 'multiff_analysis/multiff_code/methods'))\n",
    "        break\n",
    "\n",
    "import sys\n",
    "\n",
    "\n",
    "from data_wrangling import specific_utils, process_monkey_information, base_processing_class\n",
    "from pattern_discovery import pattern_by_trials, pattern_by_points, make_ff_dataframe, ff_dataframe_utils, pattern_by_trials, pattern_by_points, cluster_analysis, organize_patterns_and_features, category_class\n",
    "from decision_making_analysis.cluster_replacement import cluster_replacement_utils, plot_cluster_replacement\n",
    "from decision_making_analysis.decision_making import decision_making_class, decision_making_utils, plot_decision_making, intended_targets_classes\n",
    "from decision_making_analysis.GUAT import GUAT_helper_class, GUAT_collect_info_class, GUAT_combine_info_class, add_features_GUAT_and_TAFT\n",
    "from decision_making_analysis import free_selection, replacement, trajectory_info, plotly_utils_polar\n",
    "from visualization.matplotlib_tools import plot_trials, plot_polar, additional_plots, plot_behaviors_utils, plot_statistics\n",
    "from visualization.animation import animation_func, animation_utils, animation_class\n",
    "from null_behaviors import sample_null_distributions, show_null_trajectory\n",
    "from machine_learning.ml_methods import hyperparam_tuning_class\n",
    "from machine_learning.RL.env_related import env_for_lstm, env_utils, base_env, collect_agent_data_utils\n",
    "from machine_learning.RL.lstm import GRU_functions, LSTM_functions\n",
    "from machine_learning.RL.SB3 import interpret_neural_network, sb3_for_multiff_class, rl_for_multiff_utils, SB3_functions\n",
    "from eye_position_analysis import eye_positions\n",
    "\n",
    "from importlib import reload\n",
    "import os, sys\n",
    "import numpy as np\n",
    "import matplotlib\n",
    "import matplotlib.pyplot as plt\n",
    "import pandas as pd\n",
    "from math import pi\n",
    "from matplotlib import rc\n",
    "from IPython.display import HTML\n",
    "from matplotlib import animation\n",
    "from functools import partial\n",
    "from numpy import linalg as LA\n",
    "\n",
    "plt.rcParams[\"animation.html\"] = \"html5\"\n",
    "os.environ['KMP_DUPLICATE_LIB_OK']='True'\n",
    "rc('animation', html='jshtml')\n",
    "matplotlib.rcParams.update(matplotlib.rcParamsDefault)\n",
    "matplotlib.rcParams['animation.embed_limit'] = 2**128\n",
    "pd.set_option('display.float_format', lambda x: '%.5f' % x)\n",
    "np.set_printoptions(suppress=True)\n",
    "print(\"done\")"
   ]
  },
  {
   "cell_type": "markdown",
   "metadata": {
    "id": "vpfLmmTI8Xd4"
   },
   "source": [
    "# Retrieve individual monkey data"
   ]
  },
  {
   "cell_type": "code",
   "execution_count": null,
   "metadata": {
    "colab": {
     "base_uri": "https://localhost:8080/"
    },
    "executionInfo": {
     "elapsed": 24930,
     "status": "ok",
     "timestamp": 1683005149811,
     "user": {
      "displayName": "Cici Du",
      "userId": "17701548280142155870"
     },
     "user_tz": 300
    },
    "id": "Kr3-6NlXG7hw",
    "outputId": "b46d2969-f792-4c38-f382-6597dd261512"
   },
   "outputs": [],
   "source": [
    "raw_data_folder_path = 'all_monkey_data/raw_monkey_data/monkey_Bruno/data_0326'\n",
    "data_item = further_processing_class.FurtherProcessing(raw_data_folder_path=raw_data_folder_path)\n",
    "data_item.retrieve_or_make_monkey_data()\n",
    "data_item.make_or_retrieve_ff_dataframe(exists_ok=True)\n",
    "data_item.find_patterns()\n",
    "data_item.make_or_retrieve_all_trial_patterns(exists_ok=True)\n",
    "data_item.make_or_retrieve_pattern_frequencies(exists_ok=True)\n",
    "data_item.make_or_retrieve_all_trial_features(exists_ok=True)\n",
    "data_item.make_or_retrieve_feature_statistics(exists_ok=True)\n",
    "data_item.make_info_of_monkey()\n",
    "# data_item.make_or_retrieve_target_closest()\n",
    "# data_item.make_or_retrieve_target_angle_smallest()\n",
    "\n",
    "\n",
    "# target_closest = data_item.target_closest\n",
    "# target_angle_smallest = data_item.target_angle_smallest\n",
    "\n",
    "\n",
    "\n",
    "\n",
    "\n",
    "monkey_information = data_item.monkey_information\n",
    "ff_dataframe = data_item.ff_dataframe\n",
    "\n",
    "ff_life_sorted = data_item.ff_life_sorted\n",
    "ff_real_position_sorted = data_item.ff_real_position_sorted\n",
    "ff_believed_position_sorted = data_item.ff_believed_position_sorted\n",
    "cluster_around_target_indices = data_item.cluster_around_target_indices\n",
    "ff_caught_T_new = data_item.ff_caught_T_new\n",
    "ff_flash_sorted = data_item.ff_flash_sorted\n",
    "\n",
    "all_trial_patterns = data_item.all_trial_patterns\n",
    "all_trial_features = data_item.all_trial_features\n",
    "pattern_frequencies = data_item.pattern_frequencies\n",
    "feature_statistics = data_item.feature_statistics\n",
    "info_of_monkey = data_item.info_of_monkey\n",
    "\n",
    "\n",
    "\n",
    "\n"
   ]
  },
  {
   "cell_type": "markdown",
   "metadata": {
    "id": "zfKAZ6WessiX"
   },
   "source": [
    "# Calculate the ideal (not needed right now)"
   ]
  },
  {
   "cell_type": "markdown",
   "metadata": {
    "id": "ccQG-kBjdhuX"
   },
   "source": [
    "w/o inter-ocular distance"
   ]
  },
  {
   "cell_type": "markdown",
   "metadata": {
    "id": "Qb4NZeoxvOu1"
   },
   "source": [
    "Re-write in latex"
   ]
  },
  {
   "cell_type": "markdown",
   "metadata": {
    "id": "BwiH5gBivSfd"
   },
   "source": [
    "For left and right eye, I can just directly change body_x"
   ]
  },
  {
   "cell_type": "markdown",
   "metadata": {
    "id": "dK0wSgy7vt0J"
   },
   "source": [
    "Otherwise, just use the mean"
   ]
  },
  {
   "cell_type": "code",
   "execution_count": null,
   "metadata": {
    "colab": {
     "base_uri": "https://localhost:8080/",
     "height": 162
    },
    "executionInfo": {
     "elapsed": 24,
     "status": "ok",
     "timestamp": 1683005149812,
     "user": {
      "displayName": "Cici Du",
      "userId": "17701548280142155870"
     },
     "user_tz": 300
    },
    "id": "2699vvKXsqp0",
    "outputId": "23d72811-cfc7-4515-c8e1-5a4fb5c30e19"
   },
   "outputs": [],
   "source": [
    "# hor_theta, ver_theta are ideal horizontal and vertical eye angles if perfectly tracking the target. \n",
    "# body_theta is the heading, gaze_world_r is the Euclidean distance between target and monkey position\n",
    "'''\n",
    "monkey_height = 10\n",
    "hor_theta = np.arctan((gaze_world_x - body_x) / np.sqrt(monkey_height**2 + (gaze_world_y-body_y)**2)) - body_theta\n",
    "ver_theta = np.arctan(monkey_height / gaze_world_r)\n",
    "\n",
    "\n",
    "gaze_mky_view_x = gaze_world_x - body_x\n",
    "gaze_mky_view_y = gaze_world_y - body_y\n",
    "gaze_mky_view_r = np.sqrt(gaze_mky_view_x**2 + gaze_mky_view_y**2)\n",
    "'''"
   ]
  },
  {
   "cell_type": "markdown",
   "metadata": {
    "id": "VSaLSfsvdkLE"
   },
   "source": [
    "w inter-ocular distance"
   ]
  },
  {
   "cell_type": "code",
   "execution_count": null,
   "metadata": {
    "executionInfo": {
     "elapsed": 144,
     "status": "ok",
     "timestamp": 1683005149938,
     "user": {
      "displayName": "Cici Du",
      "userId": "17701548280142155870"
     },
     "user_tz": 300
    },
    "id": "_02r7lkkdrM5"
   },
   "outputs": [],
   "source": [
    "interoculardist = 4 # Bruno\n",
    "interoculardist = 3 # Schro, Quigley\n",
    "\n"
   ]
  },
  {
   "cell_type": "markdown",
   "metadata": {
    "id": "ptQsSuSFmRh-"
   },
   "source": [
    "To convert the time from monkey_information to signal_df, the ratio is about 1:13. I’ll just use the mid-interval points of each time interval in monkey_information[‘time’]."
   ]
  },
  {
   "cell_type": "markdown",
   "metadata": {
    "id": "_YE1n4_nJfvi"
   },
   "source": [
    "# Testing algorithm"
   ]
  },
  {
   "cell_type": "markdown",
   "metadata": {
    "id": "Fb5rmnUtJinX"
   },
   "source": [
    "I guess to test whether my algorithm of calculating gaze_world_x, gaze_world_y is correct is to have some simulated (gaze_world_x, gaze_world_y) and the calculated hor_theta, ver_theta respectively, and then see if my function can recover all the gaze_world_x, gaze_world_y."
   ]
  },
  {
   "cell_type": "code",
   "execution_count": null,
   "metadata": {
    "executionInfo": {
     "elapsed": 2,
     "status": "ok",
     "timestamp": 1683005149939,
     "user": {
      "displayName": "Cici Du",
      "userId": "17701548280142155870"
     },
     "user_tz": 300
    },
    "id": "B6v7XuPZJh_Q"
   },
   "outputs": [],
   "source": [
    "monkey_height = -10\n",
    "\n",
    "values = np.arange(-999, 999, 80)\n",
    "\n",
    "gaze_world_x = np.repeat(values, len(values))\n",
    "gaze_world_y = np.repeat(values.reshape([1, -1]), len(values), axis=0).reshape(-1)\n",
    "\n",
    "\n",
    "body_theta = np.random.uniform(-pi, pi, len(gaze_world_x))\n",
    "body_x = np.random.uniform(-1000, 1000, len(gaze_world_x))\n",
    "body_y = np.random.uniform(-1000, 1000, len(gaze_world_x))\n",
    "\n",
    "\n",
    "gaze_mky_view_x = gaze_world_x - body_x\n",
    "gaze_mky_view_y = gaze_world_y - body_y\n",
    "gaze_mky_view_xy = np.stack((gaze_mky_view_x, gaze_mky_view_y), axis=1)\n",
    "gaze_mky_view_r = np.linalg.norm(gaze_mky_view_xy, axis=1)\n",
    "\n",
    "theta_to_north = np.arctan((gaze_world_x - body_x) / np.sqrt(monkey_height**2 + (gaze_world_y-body_y)**2))\n",
    "to_adjust = np.where(gaze_mky_view_y < 0)[0]\n",
    "theta_to_north[to_adjust] = np.sign(theta_to_north[to_adjust]) * (pi - np.abs(theta_to_north[to_adjust]))\n",
    "\n",
    "\n",
    "hor_theta = theta_to_north - body_theta\n",
    "ver_theta = np.arctan(monkey_height / gaze_mky_view_r)\n",
    "\n",
    "\n",
    "gaze_mky_view_x_recovered, gaze_mky_view_y_recovered, _, gaze_world_x_recovered, gaze_world_y_recovered = eye_positions.apply_formulas_to_convert_eye_position_to_ff_position(hor_theta, ver_theta, body_theta, monkey_height, body_x, body_y,\n",
    "                                                                                                                                                                                 interocular_dist=0)"
   ]
  },
  {
   "cell_type": "code",
   "execution_count": null,
   "metadata": {
    "colab": {
     "base_uri": "https://localhost:8080/",
     "height": 432
    },
    "executionInfo": {
     "elapsed": 1029,
     "status": "ok",
     "timestamp": 1683005150966,
     "user": {
      "displayName": "Cici Du",
      "userId": "17701548280142155870"
     },
     "user_tz": 300
    },
    "id": "JIPso1sTJNR4",
    "outputId": "f23dc430-6c27-4046-ae36-a8014450a0fb"
   },
   "outputs": [],
   "source": [
    "plt.scatter(gaze_world_x, gaze_world_x_recovered)\n",
    "plt.show()"
   ]
  },
  {
   "cell_type": "code",
   "execution_count": null,
   "metadata": {
    "colab": {
     "base_uri": "https://localhost:8080/",
     "height": 432
    },
    "executionInfo": {
     "elapsed": 232,
     "status": "ok",
     "timestamp": 1683005151194,
     "user": {
      "displayName": "Cici Du",
      "userId": "17701548280142155870"
     },
     "user_tz": 300
    },
    "id": "idKnhgtjj4gH",
    "outputId": "69e85371-475c-4f3b-c3b4-9f1e410fdd47"
   },
   "outputs": [],
   "source": [
    "plt.scatter(gaze_world_y, gaze_world_y_recovered)\n",
    "plt.show()"
   ]
  },
  {
   "cell_type": "markdown",
   "metadata": {
    "id": "RWOT0VoGsOGG"
   },
   "source": [
    "# plot it (overhead)"
   ]
  },
  {
   "cell_type": "code",
   "execution_count": null,
   "metadata": {
    "executionInfo": {
     "elapsed": 2937,
     "status": "ok",
     "timestamp": 1683005154127,
     "user": {
      "displayName": "Cici Du",
      "userId": "17701548280142155870"
     },
     "user_tz": 300
    },
    "id": "J0hou97LglWc"
   },
   "outputs": [],
   "source": [
    "caught_ff_num = len(ff_caught_T_new)\n",
    "\n",
    "cluster_around_target_trials, _, cluster_around_target_indices, cluster_around_target_positions = pattern_by_trials.cluster_around_target_func(ff_dataframe, caught_ff_num, ff_caught_T_new, ff_real_position_sorted)\n",
    "\n",
    "\n",
    "PLAYER = 'monkey'\n",
    "\n",
    "trial_total_num = 10\n",
    "PlotTrials_args = (monkey_information, ff_dataframe, ff_life_sorted, ff_real_position_sorted, ff_believed_position_sorted, cluster_around_target_indices, ff_caught_T_new)\n",
    "PlotTrials_kwargs = {'player': PLAYER,\n",
    "                     'images_dir': None} \n",
    "\n",
    "classic_plot_kwargs = {'show_stops': True,\n",
    "                       'show_believed_target_positions': True,\n",
    "                       'show_reward_boundary': True,\n",
    "                       'show_scale_bar': True}\n",
    "\n",
    "combined_plot_kwargs = {'combined_plot': True,\n",
    "                        'show_alive_fireflies': False,\n",
    "                        'show_title': False,\n",
    "                        'show_start': False}"
   ]
  },
  {
   "cell_type": "code",
   "execution_count": null,
   "metadata": {
    "colab": {
     "base_uri": "https://localhost:8080/",
     "height": 1000
    },
    "executionInfo": {
     "elapsed": 10169,
     "status": "ok",
     "timestamp": 1683005164292,
     "user": {
      "displayName": "Cici Du",
      "userId": "17701548280142155870"
     },
     "user_tz": 300
    },
    "id": "7nyK-0nakWLh",
    "outputId": "8b459e76-8dda-48f0-f7c8-1a3d874fc30e"
   },
   "outputs": [],
   "source": [
    "from importlib import reload\n",
    "reload(plot_trials)\n",
    "category = cluster_around_target_trials\n",
    "trial_total_num = 2\n",
    "\n",
    "num_trials = 2\n",
    "\n",
    "if len(category) > 0:\n",
    "  with general_utils.initiate_plot(10, 10, 100):\n",
    "      for currentTrial in category[:trial_total_num]:\n",
    "          duration = [ff_caught_T_new[currentTrial-num_trials], ff_caught_T_new[currentTrial]]\n",
    "      # for start_time in range(2000, 2050, 3):\n",
    "      #     duration = [start_time, start_time+3]\n",
    "\n",
    "          returned_info = plot_trials.PlotTrials(duration, \n",
    "                      *PlotTrials_args,\n",
    "                      **classic_plot_kwargs,                                  \n",
    "                      show_connect_path_ff_except_targets = True,\n",
    "                      show_path_when_target_visible = False,\n",
    "                      zoom_in = False,\n",
    "                      adjust_xy_limits = True,\n",
    "                      show_eye_positions = True,\n",
    "                      show_eye_positions_on_the_right = True,\n",
    "                      show_colorbar = True,\n",
    "                      show_connect_path_eye_positions = True,\n",
    "                      show_eye_world_speed_vs_monkey_speed = True,\n",
    "                      )\n",
    "\n",
    "          plt.tight_layout()\n",
    "          plt.show()\n",
    "          \n",
    "          "
   ]
  },
  {
   "cell_type": "markdown",
   "metadata": {
    "id": "JluBjBqJcfFM"
   },
   "source": [
    "# Animation"
   ]
  },
  {
   "cell_type": "code",
   "execution_count": null,
   "metadata": {},
   "outputs": [],
   "source": [
    "stop!"
   ]
  },
  {
   "cell_type": "markdown",
   "metadata": {
    "id": "JlxfIO9YFFHe"
   },
   "source": [
    "### prepare for animation"
   ]
  },
  {
   "cell_type": "code",
   "execution_count": null,
   "metadata": {
    "colab": {
     "base_uri": "https://localhost:8080/"
    },
    "executionInfo": {
     "elapsed": 33,
     "status": "ok",
     "timestamp": 1683005164293,
     "user": {
      "displayName": "Cici Du",
      "userId": "17701548280142155870"
     },
     "user_tz": 300
    },
    "id": "0uwEgrqa6x3-",
    "outputId": "fba415d7-003b-4e2c-a350-a4e099de2c00"
   },
   "outputs": [],
   "source": [
    "currentTrial = 250\n",
    "num_trials = 3\n",
    "k = 3\n",
    "fig, ax = plt.subplots()\n",
    "num_frames, anim_monkey_info, flash_on_ff_dict, alive_ff_dict, believed_ff_dict, new_num_trials, ff_dataframe_anim\\\n",
    "            = animation_utils.prepare_for_animation(ff_dataframe, ff_caught_T_new, ff_life_sorted, ff_believed_position_sorted, \\\n",
    "            ff_real_position_sorted, ff_flash_sorted, monkey_information, k=k, currentTrial=currentTrial, num_trials=num_trials)\n",
    "print(\"Number of frames is:\", num_frames)"
   ]
  },
  {
   "cell_type": "markdown",
   "metadata": {
    "id": "AesCxkpsFbVn"
   },
   "source": [
    "### make animation"
   ]
  },
  {
   "cell_type": "code",
   "execution_count": null,
   "metadata": {
    "colab": {
     "base_uri": "https://localhost:8080/",
     "height": 1000
    },
    "executionInfo": {
     "elapsed": 11338,
     "status": "ok",
     "timestamp": 1683005175604,
     "user": {
      "displayName": "Cici Du",
      "userId": "17701548280142155870"
     },
     "user_tz": 300
    },
    "id": "pUcR1X-0-OQo",
    "outputId": "c7b3f467-2781-4284-86cd-8b72331316a4"
   },
   "outputs": [],
   "source": [
    "animate_func = partial(animation_func.animate, ax=ax, anim_monkey_info=anim_monkey_info, ff_dataframe_anim=ff_dataframe_anim, ff_real_position_sorted=ff_real_position_sorted, \\\n",
    "                       flash_on_ff_dict=flash_on_ff_dict, alive_ff_dict=alive_ff_dict, believed_ff_dict=believed_ff_dict, margin = 400,\n",
    "                       plot_eye_position=True, set_xy_limits=True)\n",
    "anim = animation.FuncAnimation(fig, animate_func, frames=num_frames, interval=100, repeat=True) \n",
    "HTML(anim.to_html5_video())\n",
    "\n",
    "# writervideo = animation.FFMpegWriter(c=int(62/k)) #the real life speed, since dt = 0.25\n",
    "# anim.save(f\"agent_animation_{currentTrial-num_trials+1}_{currentTrial}.mp4\", writer=writervideo)\n"
   ]
  },
  {
   "cell_type": "markdown",
   "metadata": {
    "id": "fqATR8MlQdmo"
   },
   "source": [
    "# How far can the monkey see?"
   ]
  },
  {
   "cell_type": "code",
   "execution_count": null,
   "metadata": {
    "colab": {
     "base_uri": "https://localhost:8080/"
    },
    "executionInfo": {
     "elapsed": 10,
     "status": "ok",
     "timestamp": 1683005175604,
     "user": {
      "displayName": "Cici Du",
      "userId": "17701548280142155870"
     },
     "user_tz": 300
    },
    "id": "pQR2eAaZQFJR",
    "outputId": "efec18ac-c3a5-4160-81c6-91c87fa6b6c4"
   },
   "outputs": [],
   "source": [
    "gaze_r = np.linalg.norm(monkey_information[['gaze_mky_view_x', 'gaze_mky_view_y']], axis=1)"
   ]
  },
  {
   "cell_type": "code",
   "execution_count": null,
   "metadata": {
    "colab": {
     "base_uri": "https://localhost:8080/",
     "height": 1000
    },
    "executionInfo": {
     "elapsed": 1343,
     "status": "ok",
     "timestamp": 1683005176941,
     "user": {
      "displayName": "Cici Du",
      "userId": "17701548280142155870"
     },
     "user_tz": 300
    },
    "id": "88syEkBRQenO",
    "outputId": "8cf4fa3a-40ea-4c8c-e7de-07cf12f836a0"
   },
   "outputs": [],
   "source": [
    "fig, axes=plt.subplots(figsize=(10,7))\n",
    "sns.histplot(gaze_r, binrange=(0, 2000))\n",
    "plt.title('How far can the monkey see?')\n",
    "plt.show()"
   ]
  },
  {
   "cell_type": "code",
   "execution_count": null,
   "metadata": {
    "colab": {
     "base_uri": "https://localhost:8080/"
    },
    "executionInfo": {
     "elapsed": 8,
     "status": "ok",
     "timestamp": 1683005176941,
     "user": {
      "displayName": "Cici Du",
      "userId": "17701548280142155870"
     },
     "user_tz": 300
    },
    "id": "8gnQFfaMRPgo",
    "outputId": "ed1e8aca-b778-4f09-9bca-fb34c5f73495"
   },
   "outputs": [],
   "source": [
    "# See what percentage of gaze positions are valid\n",
    "valid_gaze_r = gaze_r[(gaze_r < 2000) & (gaze_r >= 0)]\n",
    "len(valid_gaze_r)/len(gaze_r)"
   ]
  },
  {
   "cell_type": "code",
   "execution_count": null,
   "metadata": {
    "colab": {
     "base_uri": "https://localhost:8080/"
    },
    "executionInfo": {
     "elapsed": 626,
     "status": "ok",
     "timestamp": 1683005177563,
     "user": {
      "displayName": "Cici Du",
      "userId": "17701548280142155870"
     },
     "user_tz": 300
    },
    "id": "fKJe2lpWREH9",
    "outputId": "8e88342a-cc90-4e11-f203-08704c76de10"
   },
   "outputs": [],
   "source": [
    "# Among valid positions, see what percentage falls below 500\n",
    "len(np.where(valid_gaze_r<400)[0])/len(valid_gaze_r)"
   ]
  },
  {
   "cell_type": "markdown",
   "metadata": {},
   "source": [
    "# Compare left and right eye"
   ]
  },
  {
   "cell_type": "markdown",
   "metadata": {},
   "source": [
    "## in smr"
   ]
  },
  {
   "cell_type": "code",
   "execution_count": null,
   "metadata": {},
   "outputs": [],
   "source": [
    "raw_data_folder_path = \"all_monkey_data/raw_monkey_data/monkey_Bruno/data_0330\"\n",
    "channel_signal_output, marker_list, smr_sampling_rate = retrieve_raw_data.extract_smr_data(raw_data_folder_path)\n",
    "# Considering the first smr file, use marker_list[0], channel_signal_output[0]\n",
    "juice_timestamp = marker_list[0]['values'][marker_list[0]['labels'] == 4]\n",
    "channel_signal_smr = channel_signal_output[0]"
   ]
  },
  {
   "cell_type": "code",
   "execution_count": null,
   "metadata": {},
   "outputs": [],
   "source": [
    "def get_subset_of_both_df(start_time, channel_signal_smr, monkey_information):\n",
    "    time = np.arange(start_time, start_time+1, 0.1)\n",
    "    smr_index = np.searchsorted(channel_signal_smr['Time'].values, time)\n",
    "    smr_subset = channel_signal_smr.iloc[smr_index[0]:smr_index[-1]]\n",
    "    info_index = np.searchsorted(monkey_information['time'].values, time)\n",
    "    info_subset = monkey_information.iloc[info_index[0]:info_index[-1]]\n",
    "    return smr_subset, info_subset\n",
    "\n",
    "def compare_left_and_right_in_smr(channel_signal_smr, monkey_information, direction='y', all_start_time = range(1000, 1300, 100)):\n",
    "    for start_time in all_start_time:\n",
    "        plt.figure(figsize=(7, 7))\n",
    "        smr_subset, info_subset = get_subset_of_both_df(start_time, channel_signal_smr, monkey_information)\n",
    "        plt.scatter(smr_subset['Time'], smr_subset['LD'+direction], s=2, alpha=0.5)\n",
    "        plt.scatter(smr_subset['Time'], smr_subset['RD'+direction], s=2, alpha=0.5)\n",
    "        plt.xlabel('Time (s)')\n",
    "        plt.ylabel(direction)\n",
    "        plt.legend(['left', 'right'])\n",
    "        plt.show()    "
   ]
  },
  {
   "cell_type": "code",
   "execution_count": null,
   "metadata": {},
   "outputs": [],
   "source": [
    "compare_left_and_right_in_smr(channel_signal_smr, monkey_information, 'y')"
   ]
  },
  {
   "cell_type": "code",
   "execution_count": null,
   "metadata": {},
   "outputs": [],
   "source": [
    "compare_left_and_right_in_smr(channel_signal_smr, monkey_information, 'z')"
   ]
  },
  {
   "cell_type": "markdown",
   "metadata": {},
   "source": [
    "## in monkey_information"
   ]
  },
  {
   "cell_type": "code",
   "execution_count": null,
   "metadata": {},
   "outputs": [],
   "source": [
    "\n",
    "def get_subset_of_monkey_information(start_time, monkey_information):\n",
    "    time = np.arange(start_time, start_time+1, 0.1)\n",
    "    info_index = np.searchsorted(monkey_information['time'].values, time)\n",
    "    info_subset = monkey_information.iloc[info_index[0]:info_index[-1]]\n",
    "    return info_subset\n",
    "\n",
    "\n",
    "monkey_information['angle_y_l'] = monkey_information['LDy']\n",
    "monkey_information['angle_y_r'] = monkey_information['RDy']\n",
    "monkey_information['angle_z_l'] = monkey_information['LDz']\n",
    "monkey_information['angle_z_r'] = monkey_information['RDz']"
   ]
  },
  {
   "cell_type": "code",
   "execution_count": null,
   "metadata": {},
   "outputs": [],
   "source": [
    "# make 4 subplots\n",
    "\n",
    "units = {'gaze_mky_view_x': 'cm',\n",
    "            'gaze_mky_view_y': 'cm',\n",
    "            'angle_y': u'\\N{DEGREE SIGN}',\n",
    "            'angle_z': u'\\N{DEGREE SIGN}'}\n",
    "\n",
    "names = {'gaze_mky_view_x': 'monkey view in world x coord',\n",
    "            'gaze_mky_view_y': 'monkey view in world y coord',\n",
    "            'angle_y': 'horizontal angle of eyes',\n",
    "            'angle_z': 'vertical angle of eyes'}\n",
    "\n",
    "for start_time in range(970, 1500, 100):\n",
    "    info_subset = get_subset_of_monkey_information(start_time, monkey_information)\n",
    "    fig, axes = plt.subplots(4, 2, figsize=(10, 10))\n",
    "    axes = axes.flatten()\n",
    "    for i, feature in enumerate(['angle_y', 'angle_z', 'gaze_mky_view_x', 'gaze_mky_view_y']):\n",
    "        axes[2*i].scatter(info_subset['time'], info_subset[feature+'_l'], s=2, alpha=0.5)\n",
    "        axes[2*i].scatter(info_subset['time'], info_subset[feature+'_r'], s=2, alpha=0.5)\n",
    "        axes[2*i].set_xlabel('Time (s)')\n",
    "        axes[2*i].set_ylabel(names[feature] + ' (' + units[feature] + ')')\n",
    "        axes[2*i].legend(['left', 'right'])\n",
    "\n",
    "        axes[2*i+1].hist(info_subset[feature+'_l']-info_subset[feature+'_r'], density=True, bins=20)\n",
    "        axes[2*i+1].set_xlabel('Difference between left and right eyes' + ' (' + units[feature] + ')')\n",
    "        axes[2*i+1].set_ylabel('density in the sample')\n",
    "    # make the plots tight\n",
    "    fig.tight_layout()\n"
   ]
  },
  {
   "cell_type": "markdown",
   "metadata": {},
   "source": [
    "# Average first"
   ]
  },
  {
   "cell_type": "code",
   "execution_count": null,
   "metadata": {},
   "outputs": [],
   "source": [
    "reload(eye_positions)\n",
    "monkey_information = eye_positions.average_and_then_convert_eye_positions_in_monkey_information(monkey_information)"
   ]
  },
  {
   "cell_type": "markdown",
   "metadata": {},
   "source": [
    "## average in angle vs in coord"
   ]
  },
  {
   "cell_type": "code",
   "execution_count": null,
   "metadata": {},
   "outputs": [],
   "source": [
    "ff_dataframe['ff_distance'].shift(1)"
   ]
  },
  {
   "cell_type": "code",
   "execution_count": null,
   "metadata": {},
   "outputs": [],
   "source": [
    "\n",
    "units = {'gaze_mky_view_x': 'cm',\n",
    "            'gaze_mky_view_y': 'cm',\n",
    "            'angle_y': u'\\N{DEGREE SIGN}',\n",
    "            'angle_z': u'\\N{DEGREE SIGN}'}\n",
    "\n",
    "names = {'gaze_mky_view_x': 'monkey view in world x coord',\n",
    "            'gaze_mky_view_y': 'monkey view in world y coord',\n",
    "            'angle_y': 'horizontal angle of eyes',\n",
    "            'angle_z': 'vertical angle of eyes'}\n",
    "\n",
    "for start_time in range(970, 1500, 100):\n",
    "    info_subset = get_subset_of_monkey_information(start_time, monkey_information)\n",
    "    fig, axes = plt.subplots(2, 2, figsize=(10, 10))\n",
    "    axes = axes.flatten()\n",
    "    for i, feature in enumerate(['gaze_mky_view_x', 'gaze_mky_view_y']):\n",
    "        axes[2*i].scatter(info_subset['time'], info_subset[feature], s=2, alpha=0.5)\n",
    "        axes[2*i].scatter(info_subset['time'], info_subset[feature+'_avg'], s=2, alpha=0.5)\n",
    "        axes[2*i].set_xlabel('Time (s)')\n",
    "        axes[2*i].set_ylabel(names[feature] + ' (' + units[feature] + ')')\n",
    "        axes[2*i].legend(['Average coord', 'Average angle first'])\n",
    "\n",
    "        axes[2*i+1].hist(info_subset[feature+'_l']-info_subset[feature+'_r'], density=True, bins=20)\n",
    "        axes[2*i+1].set_xlabel('Differences' + ' (' + units[feature] + ')')\n",
    "        axes[2*i+1].set_ylabel('density in the sample')\n",
    "    # make the plots tight\n",
    "    fig.tight_layout()"
   ]
  },
  {
   "cell_type": "markdown",
   "metadata": {},
   "source": [
    "## average first"
   ]
  },
  {
   "cell_type": "code",
   "execution_count": null,
   "metadata": {},
   "outputs": [],
   "source": []
  },
  {
   "cell_type": "markdown",
   "metadata": {
    "id": "SrAuFlWlOdTG"
   },
   "source": [
    "# Debug"
   ]
  },
  {
   "cell_type": "code",
   "execution_count": null,
   "metadata": {
    "colab": {
     "base_uri": "https://localhost:8080/"
    },
    "executionInfo": {
     "elapsed": 4376,
     "status": "ok",
     "timestamp": 1683005181937,
     "user": {
      "displayName": "Cici Du",
      "userId": "17701548280142155870"
     },
     "user_tz": 300
    },
    "id": "qQfGqp3EY1Cn",
    "outputId": "a414f29c-714c-49d1-f8fe-0026a2147eec"
   },
   "outputs": [],
   "source": [
    "!pip install -Uqq ipdb\n",
    "import ipdb\n",
    "%pdb on"
   ]
  }
 ],
 "metadata": {
  "colab": {
   "machine_shape": "hm",
   "provenance": [
    {
     "file_id": "1psmc3cUQqVO0oqJ3z0nmI4LsHhCWLYZR",
     "timestamp": 1682806564169
    },
    {
     "file_id": "162-xByx3iTk35YJ06VcUmsXt23wEm77H",
     "timestamp": 1681009433942
    }
   ],
   "toc_visible": true
  },
  "gpuClass": "standard",
  "kernelspec": {
   "display_name": "Python 3 (ipykernel)",
   "language": "python",
   "name": "python3"
  },
  "language_info": {
   "codemirror_mode": {
    "name": "ipython",
    "version": 3
   },
   "file_extension": ".py",
   "mimetype": "text/x-python",
   "name": "python",
   "nbconvert_exporter": "python",
   "pygments_lexer": "ipython3",
   "version": "3.9.16"
  },
  "toc": {
   "base_numbering": 1,
   "nav_menu": {},
   "number_sections": true,
   "sideBar": true,
   "skip_h1_title": false,
   "title_cell": "Table of Contents",
   "title_sidebar": "Contents",
   "toc_cell": true,
   "toc_position": {},
   "toc_section_display": true,
   "toc_window_display": true
  }
 },
 "nbformat": 4,
 "nbformat_minor": 0
}
