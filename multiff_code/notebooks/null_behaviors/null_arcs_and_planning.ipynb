{
 "cells": [
  {
   "attachments": {},
   "cell_type": "markdown",
   "metadata": {
    "id": "Ba0IDmwjQ4rv"
   },
   "source": [
    "# Install packages"
   ]
  },
  {
   "attachments": {},
   "cell_type": "markdown",
   "metadata": {
    "id": "D7ubA2G0ql0K"
   },
   "source": [
    "# Import packages"
   ]
  },
  {
   "cell_type": "code",
   "execution_count": null,
   "metadata": {
    "colab": {
     "base_uri": "https://localhost:8080/"
    },
    "executionInfo": {
     "elapsed": 22177,
     "status": "ok",
     "timestamp": 1684812418814,
     "user": {
      "displayName": "Cici Du",
      "userId": "17701548280142155870"
     },
     "user_tz": -480
    },
    "id": "3klBkPC-Q4rw",
    "outputId": "74d8e70e-7cde-4252-e902-f172b4023294"
   },
   "outputs": [],
   "source": [
    "%load_ext autoreload\n",
    "%autoreload 2\n",
    "\n",
    "from pathlib import Path\n",
    "import os, sys\n",
    "for p in [Path.cwd()] + list(Path.cwd().parents):\n",
    "    if p.name == 'Multifirefly-Project':\n",
    "        os.chdir(p)\n",
    "        sys.path.insert(0, str(p / 'multiff_analysis/multiff_code/methods'))\n",
    "        break\n",
    "\n",
    "    \n",
    "import sys\n",
    "\n",
    "\n",
    "from data_wrangling import specific_utils, process_monkey_information, base_processing_class\n",
    "from pattern_discovery import pattern_by_trials, pattern_by_points, make_ff_dataframe, ff_dataframe_utils, pattern_by_trials, pattern_by_points, cluster_analysis, organize_patterns_and_features, category_class\n",
    "from decision_making_analysis.decision_making import decision_making_class, decision_making_utils, plot_decision_making, intended_targets_classes\n",
    "from decision_making_analysis.GUAT import GUAT_helper_class, GUAT_collect_info_class, GUAT_combine_info_class, add_features_GUAT_and_TAFT\n",
    "from decision_making_analysis import free_selection, replacement, trajectory_info\n",
    "from machine_learning.RL.env_related import env_for_lstm, env_utils, base_env, collect_agent_data_utils\n",
    "from machine_learning.RL.lstm import GRU_functions, LSTM_functions\n",
    "from machine_learning.RL.SB3 import interpret_neural_network, sb3_for_multiff_class, rl_for_multiff_utils, SB3_functions\n",
    "from null_behaviors import show_null_trajectory, find_best_arc, curvature_utils\n",
    "from machine_learning.ml_methods import regression_utils, classification_utils, prep_ml_data_utils, hyperparam_tuning_class\n",
    "from visualization.matplotlib_tools import plot_trials, plot_polar, additional_plots, plot_behaviors_utils, plot_statistics\n",
    "from visualization.animation import animation_func, animation_utils, animation_class\n",
    "from planning_analysis.show_planning import nxt_ff_utils, show_planning_class, show_planning_utils\n",
    "from planning_analysis.show_planning.cur_vs_nxt_ff import cvn_helper_class, find_cvn_utils, plot_cvn_class, plot_cvn_utils, plot_monkey_heading_helper_class, cvn_from_ref_class\n",
    "from planning_analysis.show_planning.cur_vs_nxt_ff import cvn_helper_class, find_cvn_utils, plot_cvn_class, plot_cvn_utils, plot_monkey_heading_helper_class, cvn_from_ref_class\n",
    "from visualization.plotly_tools import plotly_for_monkey, plotly_for_time_series, plotly_preparation\n",
    "from visualization.dash_tools import dash_prep_class, dash_utils, dash_utils\n",
    "from null_behaviors import find_best_arc, curvature_utils, curv_of_traj_utils, opt_arc_utils\n",
    "\n",
    "\n",
    "from importlib import reload\n",
    "from eye_position_analysis import eye_positions\n",
    "import os, sys\n",
    "import numpy as np\n",
    "import matplotlib\n",
    "import matplotlib.pyplot as plt\n",
    "from matplotlib import cm\n",
    "from os.path import exists\n",
    "import seaborn as sns\n",
    "import math\n",
    "import copy\n",
    "import matplotlib.pyplot as plt\n",
    "import pandas as pd\n",
    "import torch\n",
    "import torch.nn as nn\n",
    "import torch.optim as optim\n",
    "import tqdm\n",
    "import itertools\n",
    "import plotly.express as px\n",
    "from scipy.stats import rankdata\n",
    "from scipy import stats\n",
    "from IPython.display import HTML\n",
    "from matplotlib import rc\n",
    "from sklearn.model_selection import train_test_split\n",
    "from sklearn.preprocessing import OneHotEncoder\n",
    "from sklearn.datasets import make_multilabel_classification\n",
    "from sklearn.model_selection import train_test_split\n",
    "from sklearn.multioutput import MultiOutputClassifier\n",
    "from sklearn.neighbors import KNeighborsClassifier\n",
    "from sklearn.metrics import accuracy_score, hamming_loss, multilabel_confusion_matrix, fbeta_score, precision_score, recall_score\n",
    "from sklearn.svm import SVC\n",
    "from sklearn.tree import DecisionTreeClassifier\n",
    "from sklearn.ensemble import AdaBoostClassifier, RandomForestClassifier, VotingClassifier, BaggingClassifier, GradientBoostingClassifier\n",
    "from sklearn.neural_network import MLPClassifier\n",
    "from sklearn.linear_model import LinearRegression\n",
    "from sklearn.neighbors import KNeighborsRegressor, KNeighborsClassifier\n",
    "from sklearn.naive_bayes import GaussianNB\n",
    "from sklearn.linear_model import LogisticRegression\n",
    "from math import pi\n",
    "from scipy.ndimage import gaussian_filter1d\n",
    "from statsmodels.graphics.tsaplots import plot_acf\n",
    "import warnings\n",
    "import os, sys, sys\n",
    "from sklearn.exceptions import ConvergenceWarning\n",
    "\n",
    "\n",
    "plt.rcParams[\"animation.html\"] = \"html5\"\n",
    "os.environ['KMP_DUPLICATE_LIB_OK']='True'\n",
    "rc('animation', html='jshtml')\n",
    "matplotlib.rcParams.update(matplotlib.rcParamsDefault)\n",
    "matplotlib.rcParams['animation.embed_limit'] = 2**128\n",
    "pd.set_option('display.float_format', lambda x: '%.5f' % x)\n",
    "np.set_printoptions(suppress=True)\n",
    "pd.options.display.max_rows = 101\n",
    "\n"
   ]
  },
  {
   "attachments": {},
   "cell_type": "markdown",
   "metadata": {
    "id": "EC7STQ6VCFKw"
   },
   "source": [
    "# Basic data"
   ]
  },
  {
   "attachments": {},
   "cell_type": "markdown",
   "metadata": {
    "id": "18RHPEyDX0_9"
   },
   "source": [
    "## Retrieve monkey data"
   ]
  },
  {
   "cell_type": "code",
   "execution_count": null,
   "metadata": {
    "colab": {
     "base_uri": "https://localhost:8080/"
    },
    "executionInfo": {
     "elapsed": 66472,
     "status": "ok",
     "timestamp": 1684812485274,
     "user": {
      "displayName": "Cici Du",
      "userId": "17701548280142155870"
     },
     "user_tz": -480
    },
    "id": "RfG8_2JFX253",
    "outputId": "c6b2dab5-0276-46c1-c748-113661c8b0d9"
   },
   "outputs": [],
   "source": [
    "PLAYER = \"monkey\"\n",
    "raw_data_folder_path = \"all_monkey_data/raw_monkey_data/monkey_Bruno/data_0330\"\n",
    "data_item = animation_class.AnimationClass(raw_data_folder_path=raw_data_folder_path)\n",
    "data_item.retrieve_or_make_monkey_data()\n",
    "data_item.make_or_retrieve_ff_dataframe(exists_ok=True)\n",
    "data_item.find_patterns()\n",
    "data_item.make_PlotTrials_args()\n",
    "\n",
    "monkey_information = data_item.monkey_information\n",
    "ff_dataframe = data_item.ff_dataframe\n",
    "\n",
    "ff_life_sorted = data_item.ff_life_sorted\n",
    "ff_real_position_sorted = data_item.ff_real_position_sorted\n",
    "ff_believed_position_sorted = data_item.ff_believed_position_sorted\n",
    "cluster_around_target_indices = data_item.cluster_around_target_indices\n",
    "ff_caught_T_new = data_item.ff_caught_T_new\n",
    "caught_ff_num = len(ff_caught_T_new)\n",
    "ff_flash_sorted = data_item.ff_flash_sorted\n",
    "ff_flash_end_sorted = data_item.ff_flash_end_sorted\n",
    "max_point_index = data_item.max_point_index\n",
    "min_point_index = data_item.min_point_index\n",
    "\n",
    "\n",
    "\n",
    "\n",
    "data_item.make_or_retrieve_target_clust_last_vis_df()\n",
    "target_clust_last_vis_df = data_item.target_clust_last_vis_df\n",
    "target_clust_last_vis_df['ff_index'] = target_clust_last_vis_df['target_index']\n",
    "\n",
    "\n",
    "PlotTrials_args = (monkey_information, ff_dataframe, ff_life_sorted, ff_real_position_sorted, ff_believed_position_sorted, cluster_around_target_indices, ff_caught_T_new)\n",
    "\n",
    "\n",
    "plot_polar_args = (monkey_information,\n",
    "                    ff_dataframe, \n",
    "                    ff_life_sorted,\n",
    "                    ff_real_position_sorted,\n",
    "                    ff_caught_T_new,\n",
    "                    ff_flash_sorted,)\n",
    "\n",
    "\n",
    "trial_total_num = 2\n",
    "PLAYER = \"monkey\"\n",
    "\n",
    "classic_plot_kwargs = {'player': PLAYER,\n",
    "                       'show_stops': True,\n",
    "                       'show_believed_target_positions': True,\n",
    "                       'show_reward_boundary': True,\n",
    "                       'show_scale_bar': True,\n",
    "                       'show_eye_positions': True,\n",
    "                       'show_eye_positions_on_the_right': True,\n",
    "                       'show_connect_path_eye_positions': True,\n",
    "                       #=== below is different from animation_plot_kwargs\n",
    "                       'hitting_arena_edge_ok': False,\n",
    "                       'trial_too_short_ok': False}\n",
    "\n",
    "combined_plot_kwargs = {'player': PLAYER,\n",
    "                        'combined_plot': True,\n",
    "                        'show_alive_fireflies': False,\n",
    "                        'show_title': False,\n",
    "                        'show_start': False}\n",
    "\n",
    "plot_chunks_kwargs = {'player': PLAYER,\n",
    "                      'show_stops': True,\n",
    "                      'show_believed_target_positions': True,\n",
    "                      'show_reward_boundary': True,\n",
    "                      'show_scale_bar': True,\n",
    "                      'hitting_arena_edge_ok': True,\n",
    "                      'trial_too_short_ok': True,\n",
    "                      'show_connect_path_ff': True,\n",
    "                      'trail_color_var': 'abs_ddw',\n",
    "                      'show_colorbar': True}\n",
    "\n",
    "\n",
    "plot_polar_kwargs = {'rmax': 400,\n",
    "                    'show_visible_ff': True,\n",
    "                    'hitting_arena_edge_ok': True,\n",
    "                    'return_axes': True,\n",
    "                    'colors_show_overall_time': True,\n",
    "                    'show_ff_in_memory': True,\n",
    "                    'show_target_at_being_caught': True\n",
    "}\n",
    "\n",
    "print(\"player is\", PLAYER)\n",
    "\n",
    "animation_plot_kwargs = classic_plot_kwargs.copy()\n",
    "animation_plot_kwargs['as_part_of_animation'] = True\n",
    "animation_plot_kwargs['show_eye_positions_on_the_right'] = False   \n",
    "animation_plot_kwargs['hitting_arena_edge_ok'] = True\n",
    "animation_plot_kwargs['trial_too_short_ok'] = True\n",
    "animation_plot_kwargs['images_dir'] = None\n",
    "\n",
    "\n",
    "  \n",
    "\n",
    "data_item.make_PlotTrials_kargs(classic_plot_kwargs, combined_plot_kwargs, animation_plot_kwargs)\n",
    "\n",
    "\n",
    "plotting_kwargs = {'player': 'monkey',\n",
    " 'show_stops': True,\n",
    " 'show_believed_target_positions': True,\n",
    " 'show_reward_boundary': True,\n",
    " 'show_scale_bar': True,\n",
    " 'hitting_arena_edge_ok': True,\n",
    " 'trial_too_short_ok': True,\n",
    " 'show_connect_path_ff': True,\n",
    " 'vary_color_for_connecting_path_ff': True,\n",
    " 'show_points_when_ff_stop_being_visible': False,\n",
    " #'show_connect_path_ff_memory': True,\n",
    " 'show_alive_fireflies': False,\n",
    " 'show_visible_fireflies': True,\n",
    " 'show_in_memory_fireflies': True,\n",
    " 'connect_path_ff_max_distance': 500,\n",
    " #'show_connect_path_ff_except_targets': True,\n",
    " 'adjust_xy_limits': True,\n",
    " 'show_null_agent_trajectory': True,\n",
    " 'show_only_ff_that_monkey_has_passed_by_closely': True,\n",
    " 'show_null_trajectory_reaching_boundary_ok': False,\n",
    " 'vary_color_for_connecting_path_ff': False}"
   ]
  },
  {
   "cell_type": "code",
   "execution_count": null,
   "metadata": {},
   "outputs": [],
   "source": [
    "# PlotTrials_args = (monkey_information, ff_dataframe, ff_life_sorted, ff_real_position_sorted, ff_believed_position_sorted, cluster_around_target_indices, ff_caught_T_new)\n",
    "\n",
    "\n",
    "# plot_polar_args = (monkey_information,\n",
    "#                     ff_dataframe, \n",
    "#                     ff_life_sorted,\n",
    "#                     ff_real_position_sorted,\n",
    "#                     ff_caught_T_new,\n",
    "#                     ff_flash_sorted,)\n",
    "\n",
    "# data_item.make_PlotTrials_args()\n",
    "# data_item.make_PlotTrials_kargs(classic_plot_kwargs, combined_plot_kwargs, animation_plot_kwargs)\n"
   ]
  },
  {
   "attachments": {},
   "cell_type": "markdown",
   "metadata": {},
   "source": [
    "## ff_basic_info"
   ]
  },
  {
   "cell_type": "code",
   "execution_count": null,
   "metadata": {},
   "outputs": [],
   "source": [
    "# make ff_basic_info\n",
    "num_missing_elements = len(ff_real_position_sorted) - len(ff_caught_T_new)\n",
    "ff_caught_T_new_extended = np.concatenate([ff_caught_T_new, np.repeat(np.nan, num_missing_elements)])\n",
    "ff_believed_position_sorted_extended = np.concatenate([ff_believed_position_sorted, np.repeat(np.nan, num_missing_elements*2).reshape(-1,2)])\n",
    "\n",
    "ff_basic_info_bundle = (ff_real_position_sorted, ff_believed_position_sorted_extended, ff_life_sorted, ff_caught_T_new_extended, ff_flash_end_sorted)\n",
    "\n",
    "ff_basic_info = pd.DataFrame({'ff_index': range(len(ff_real_position_sorted)),\n",
    "                            'caught_T': ff_caught_T_new_extended,\n",
    "                            'real_x': ff_real_position_sorted[:,0],\n",
    "                            'real_y': ff_real_position_sorted[:,1],\n",
    "                            'believed_x': ff_believed_position_sorted_extended[:,0],\n",
    "                            'believed_y': ff_believed_position_sorted_extended[:,1],\n",
    "                            'life_start': ff_life_sorted[:,0],\n",
    "                            'life_end': ff_life_sorted[:,1],\n",
    "                            'flash_end': ff_flash_end_sorted,\n",
    "\n",
    "})\n",
    "\n",
    "\n",
    "ff_basic_info.head(3)"
   ]
  },
  {
   "cell_type": "markdown",
   "metadata": {},
   "source": [
    "## plotting kwargs"
   ]
  },
  {
   "cell_type": "code",
   "execution_count": null,
   "metadata": {},
   "outputs": [],
   "source": [
    "null_arcs_plotting_kwargs = {'player': 'monkey',\n",
    "    'show_stops': True,\n",
    "    'show_believed_target_positions': True,\n",
    "    'show_reward_boundary': True,\n",
    "    'show_scale_bar': True,\n",
    "    'hitting_arena_edge_ok': True,\n",
    "    'trial_too_short_ok': True,\n",
    "    'show_connect_path_ff': False,\n",
    "    'vary_color_for_connecting_path_ff': True,\n",
    "    'show_points_when_ff_stop_being_visible': False,\n",
    "    'show_alive_fireflies': False,\n",
    "    'show_visible_fireflies': True,\n",
    "    'show_in_memory_fireflies': True,\n",
    "    'connect_path_ff_max_distance': 500,\n",
    "    'adjust_xy_limits': True,\n",
    "    'show_null_agent_trajectory': False,\n",
    "    'show_only_ff_that_monkey_has_passed_by_closely': False,\n",
    "    'show_null_trajectory_reaching_boundary_ok': False,\n",
    "    'zoom_in': False,\n",
    "    'truncate_part_before_crossing_arena_edge': True}"
   ]
  },
  {
   "cell_type": "markdown",
   "metadata": {},
   "source": [
    "## best_arc_df"
   ]
  },
  {
   "cell_type": "code",
   "execution_count": null,
   "metadata": {},
   "outputs": [],
   "source": [
    "reload(show_null_trajectory)\n",
    "reload(curvature_utils)\n",
    "reload(find_best_arc)\n",
    "\n",
    "data_item.make_curvature_df([-25, 25])\n",
    "data_item.find_opt_arc_info_from_curvature_df()\n",
    "data_item.make_or_retrieve_best_arc_df()\n",
    "data_item.best_arc_df = find_best_arc.add_intended_target_id_to_best_arc_df(data_item.best_arc_df)\n",
    "data_item.add_column_monkey_passed_by_to_best_arc_df()\n",
    "data_item.get_elements_for_plotting()\n",
    "best_arc_df = data_item.best_arc_df.copy()\n"
   ]
  },
  {
   "cell_type": "code",
   "execution_count": null,
   "metadata": {},
   "outputs": [],
   "source": [
    "curvature_df = data_item.curvature_df.copy()"
   ]
  },
  {
   "cell_type": "code",
   "execution_count": null,
   "metadata": {},
   "outputs": [],
   "source": [
    "curvature_df[['point_index', 'ff_index', 'abs_curv_diff', 'ff_distance', 'ff_angle',\n",
    "                        'opt_arc_radius', 'opt_arc_measure', 'opt_arc_length']]"
   ]
  },
  {
   "cell_type": "markdown",
   "metadata": {},
   "source": [
    "## null_arc_info_for_plotting"
   ]
  },
  {
   "cell_type": "code",
   "execution_count": null,
   "metadata": {},
   "outputs": [],
   "source": [
    "reload(show_null_trajectory)\n",
    "null_arc_info_for_plotting = show_null_trajectory.find_and_package_opt_arc_info_for_plotting(best_arc_df, monkey_information, column_for_color=None)\n",
    "#null_arc_info_for_plotting = show_null_trajectory.find_and_package_opt_arc_info_for_plotting(best_arc_df, monkey_information, column_for_color='diff_percentile_in_decimal')\n",
    "\n",
    "# also get null_arc_to_center_info_for_plotting\n",
    "all_point_index = best_arc_df.point_index.values\n",
    "all_ff_index = best_arc_df.ff_index.values\n",
    "remaining_index_of_array, remaining_all_ff_index, remaining_all_point_index = show_null_trajectory.eliminate_invalid_ff_for_null_arc(all_ff_index, all_point_index, ff_real_position_sorted, monkey_information)\n",
    "null_arc_to_center_info_for_plotting = show_null_trajectory.find_and_package_arc_to_center_info_for_plotting(remaining_all_point_index, remaining_all_ff_index, monkey_information, ff_real_position_sorted)"
   ]
  },
  {
   "cell_type": "code",
   "execution_count": null,
   "metadata": {},
   "outputs": [],
   "source": [
    "null_arc_to_center_info_for_plotting = show_null_trajectory.find_and_package_arc_to_center_info_for_plotting(remaining_all_point_index, remaining_all_ff_index, monkey_information, ff_real_position_sorted)\n",
    "null_arc_to_center_info_for_plotting"
   ]
  },
  {
   "cell_type": "markdown",
   "metadata": {},
   "source": [
    "## pretty_null_arc_plot_kwargs"
   ]
  },
  {
   "cell_type": "code",
   "execution_count": null,
   "metadata": {},
   "outputs": [],
   "source": [
    "plt.rcParams['figure.figsize'] = [9, 9]\n",
    "best_arc_df_sub = best_arc_df[best_arc_df['monkey_passed_by'] == True].copy()\n",
    "best_arc_df_sub.sort_values(by=['time'], inplace=True)\n",
    "all_intended_target_id = best_arc_df_sub.intended_target_id.unique()  \n",
    "all_intended_target_id_index_pairs = best_arc_df_sub[['intended_target_id', 'ff_index']].drop_duplicates()\n",
    "PlotTrials_args = data_item.PlotTrials_args\n",
    "\n",
    "pretty_null_arc_plot_kwargs = {'player': 'monkey',\n",
    "        'show_believed_target_positions': True,                       \n",
    "        'show_stops': True,\n",
    "        'show_reward_boundary': True,\n",
    "        'show_scale_bar': True,\n",
    "        'hitting_arena_edge_ok': True,\n",
    "        'trial_too_short_ok': True,\n",
    "        'show_alive_fireflies': False,\n",
    "        'adjust_xy_limits': True,\n",
    "        'zoom_in': True,\n",
    "        'minimal_margin': 60,\n",
    "        }"
   ]
  },
  {
   "cell_type": "markdown",
   "metadata": {},
   "source": [
    "# Visualizations"
   ]
  },
  {
   "cell_type": "markdown",
   "metadata": {},
   "source": [
    "## plot all arcs"
   ]
  },
  {
   "cell_type": "code",
   "execution_count": null,
   "metadata": {},
   "outputs": [],
   "source": [
    "current_i = 0"
   ]
  },
  {
   "cell_type": "code",
   "execution_count": null,
   "metadata": {},
   "outputs": [],
   "source": [
    "# we want to plot the arcs here...with opt_arc_radius and opt_arc_measure\n",
    "reload(plot_behaviors_utils)\n",
    "reload(plot_trials)\n",
    "reload(show_null_trajectory)\n",
    "half_length_of_time_window = 0.1\n",
    "epsilon = 2\n",
    "max_num_plot_to_make = 3\n",
    "duration_for_each_chunk = 2\n",
    "time_samples = range(int(ff_caught_T_new[0]), int(ff_caught_T_new[-1]), duration_for_each_chunk)\n",
    "\n",
    "\n",
    "plt.rcParams['figure.figsize'] = [10, 10]   \n",
    "plotting_kwargs_temp = plotting_kwargs.copy()\n",
    "plotting_kwargs_temp['show_only_ff_that_monkey_has_passed_by_closely'] = False\n",
    "plotting_kwargs_temp['show_null_agent_trajectory'] = False\n",
    "plotting_kwargs_temp['vary_color_for_connecting_path_ff'] = True\n",
    "plotting_kwargs_temp['show_points_when_ff_stop_being_visible'] = False\n",
    "plotting_kwargs_temp['show_alive_fireflies'] = False\n",
    "\n",
    "\n",
    "#=============  below are temporary:\n",
    "plotting_kwargs_temp['show_connect_path_ff'] = False\n",
    "plotting_kwargs_temp['zoom_in'] = True\n",
    "plotting_kwargs_temp['adjust_xy_limits'] = True\n",
    "plotting_kwargs_temp['show_alive_fireflies'] = False\n",
    "plotting_kwargs_temp['truncate_part_before_crossing_arena_edge'] = True\n",
    "plotting_kwargs_temp['rotation_matrix'] = None\n",
    "plot_counter = 0\n",
    "\n",
    "\n",
    "# need to initiate a value for current_i for using this cell for the first time\n",
    "num_trials = 1\n",
    "\n",
    "\n",
    "for i in range(len(time_samples)):\n",
    "\n",
    "    time = time_samples[i]\n",
    "    current_i = i\n",
    "\n",
    "    duration_to_plot = [time, time+duration_for_each_chunk]\n",
    "    relevant_point_index = monkey_information.loc[monkey_information['time'].between(duration_to_plot[0], duration_to_plot[1])].index.values.astype(int)\n",
    "    returned_info = plot_trials.PlotTrials(\n",
    "                duration_to_plot, \n",
    "                *data_item.PlotTrials_args,\n",
    "                **plotting_kwargs_temp,        \n",
    "                )\n",
    "    axes = returned_info['fig'].axes[0]\n",
    "\n",
    "    R = returned_info['rotation_matrix']\n",
    "    axes = returned_info['axes']\n",
    "    whether_plotted = returned_info['whether_plotted']\n",
    "\n",
    "    if whether_plotted == True:\n",
    "        # To plot null arcs\n",
    "        x0, y0 = 0, 0\n",
    "        axes, whether_plotted = show_null_trajectory.plot_null_arcs_from_best_arc_df(axes, relevant_point_index, null_arc_info_for_plotting, x0=0, y0=0, rotation_matrix=R, polar=False)\n",
    "\n",
    "        plt.show()\n",
    "        \n",
    "        plot_counter += 1\n",
    "        if plot_counter == max_num_plot_to_make:\n",
    "            break\n",
    "\n"
   ]
  },
  {
   "cell_type": "markdown",
   "metadata": {},
   "source": [
    "## connect_path_ff_based_on_intended_targets"
   ]
  },
  {
   "cell_type": "code",
   "execution_count": null,
   "metadata": {},
   "outputs": [],
   "source": [
    "current_i = 0\n",
    "show_percentile_by_color = True\n"
   ]
  },
  {
   "cell_type": "code",
   "execution_count": null,
   "metadata": {},
   "outputs": [],
   "source": [
    "reload(show_null_trajectory)"
   ]
  },
  {
   "cell_type": "code",
   "execution_count": null,
   "metadata": {},
   "outputs": [],
   "source": [
    "duration_for_each_chunk = 2\n",
    "time_samples = range(int(ff_caught_T_new[0]), int(ff_caught_T_new[-1]), duration_for_each_chunk)\n",
    "max_num_plot_to_make = 3\n",
    "\n",
    "plt.rcParams['figure.figsize'] = [7, 7]   \n",
    "all_intended_target_id = best_arc_df.intended_target_id.unique()  \n",
    "null_arcs_plotting_kwargs_temp = null_arcs_plotting_kwargs.copy()\n",
    "\n",
    "\n",
    "plot_counter = 0\n",
    "for i in range(len(time_samples))[current_i:]:  \n",
    "    time = time_samples[i]\n",
    "    fig, axes, whether_plotted = show_null_trajectory.make_plots_to_show_monkey_reaction_time(curvature_df,                    \n",
    "                                                                            null_arcs_plotting_kwargs,\n",
    "                                                                            data_item.PlotTrials_args,\n",
    "                                                                            time, \n",
    "                                                                            show_percentile_by_color=False,\n",
    "                                                                            additional_plotting_kwargs={})\n",
    "\n",
    "\n",
    "    if whether_plotted:\n",
    "        plt.show()\n",
    "        plot_counter += 1\n",
    "        current_i = i\n",
    "        \n",
    "    if plot_counter == max_num_plot_to_make:\n",
    "        break"
   ]
  },
  {
   "cell_type": "markdown",
   "metadata": {},
   "source": [
    "## plot best_arc_ff"
   ]
  },
  {
   "cell_type": "code",
   "execution_count": null,
   "metadata": {},
   "outputs": [],
   "source": [
    "current_i = 100"
   ]
  },
  {
   "cell_type": "code",
   "execution_count": null,
   "metadata": {},
   "outputs": [],
   "source": [
    "current_i = current_i-7"
   ]
  },
  {
   "cell_type": "code",
   "execution_count": null,
   "metadata": {},
   "outputs": [],
   "source": [
    "reload(plot_behaviors_utils)\n",
    "reload(plot_trials)\n",
    "reload(find_best_arc)\n",
    "reload(show_null_trajectory)\n",
    "\n",
    "num_intended_targets_to_plot = 3\n",
    "max_num_plot_to_make = 2 # for each intended_target\n",
    "plot_counter = 0\n",
    "pretty_null_arc_plot_kwargs_temp = pretty_null_arc_plot_kwargs.copy()\n",
    "# set global figure size\n",
    "plt.rcParams[\"figure.figsize\"] = (9, 9)\n",
    "\n",
    "# need to initiate a value for current_i for using this cell for the first time\n",
    "for i in range(len(all_intended_target_id_index_pairs))[current_i:current_i+num_intended_targets_to_plot]:\n",
    "    current_i = i\n",
    "    intended_target_id = all_intended_target_id_index_pairs.iloc[i, 0]\n",
    "    intended_target_ff_index = all_intended_target_id_index_pairs.iloc[i, 1]\n",
    "\n",
    "\n",
    "    best_arc_df_for_one_id = best_arc_df[best_arc_df.intended_target_id == intended_target_id]\n",
    "    intended_target_ff_index = best_arc_df_for_one_id.ff_index.iloc[0]\n",
    "\n",
    "    # if ff_index is valid\n",
    "    if intended_target_ff_index >= 0: \n",
    "        relevant_point_indices = best_arc_df_for_one_id.point_index.values\n",
    "        duration_to_plot = [best_arc_df_for_one_id.time.min()-0.5, best_arc_df_for_one_id.time.max()+3.6]\n",
    "        duration_to_plot = show_null_trajectory.eliminate_irrelevant_points_before_or_after_crossing_boundary(duration_to_plot, relevant_point_indices, monkey_information)\n",
    "        \n",
    "\n",
    "    show_null_trajectory.make_pretty_plot_for_a_duration(duration_to_plot, best_arc_df, monkey_information, ff_dataframe, null_arc_info_for_plotting, null_arc_to_center_info_for_plotting, PlotTrials_args, pretty_null_arc_plot_kwargs_temp, intended_target_ff_index=intended_target_ff_index,\n",
    "                                        plot_null_arcs=True, ff_max_distance_to_intended_target=450, ff_max_distance_to_path=400, time_between_every_two_null_arcs=0.2, time_to_begin_plotting_null_arc=None, time_to_end_plotting_null_arc=None, max_num_plot_to_make=max_num_plot_to_make,\n",
    "                                        show_intended_target=False, show_ff_indices=False, point_indices_to_plot_null_arc=None, ff_indices_to_plot_null_arc=None, whether_mark_path_where_intended_target_has_best_arc_among_all_ff=False, \n",
    "                                        )"
   ]
  },
  {
   "cell_type": "markdown",
   "metadata": {},
   "source": [
    "## Planning\n",
    "(the plots below are used to analyze planning)"
   ]
  },
  {
   "cell_type": "markdown",
   "metadata": {},
   "source": [
    "### 138"
   ]
  },
  {
   "cell_type": "code",
   "execution_count": null,
   "metadata": {},
   "outputs": [],
   "source": [
    "additional_plotting_kwargs = {'show_eye_positions': True,\n",
    "                      'show_eye_positions_on_the_right': False,\n",
    "                      'show_connect_path_eye_positions': True,\n",
    "\n",
    "}\n",
    "\n",
    "pretty_plot_args = (best_arc_df, monkey_information, ff_dataframe, null_arc_info_for_plotting, null_arc_to_center_info_for_plotting, PlotTrials_args)\n",
    "\n"
   ]
  },
  {
   "cell_type": "code",
   "execution_count": null,
   "metadata": {},
   "outputs": [],
   "source": [
    "reload(plot_behaviors_utils)\n",
    "reload(plot_trials)\n",
    "reload(show_null_trajectory)\n",
    "duration_to_plot=[165.455423, 171.578282]\n",
    "max_num_plot_to_make = 10\n",
    "ff_indices_to_plot_null_arc = np.array([62, 413, 60, 61])\n",
    "intended_target_ff_index = 61\n",
    "point_indices_to_plot_null_arc = [10147]\n",
    "pretty_null_arc_plot_kwargs_temp = pretty_null_arc_plot_kwargs.copy()\n",
    "pretty_null_arc_plot_kwargs_temp['show_eye_positions'] = False\n",
    "\n",
    "additional_function_kwargs = {'intended_target_ff_index': intended_target_ff_index,\n",
    "                                'plot_null_arcs': True,\n",
    "                                'ff_max_distance_to_intended_target': 450,   \n",
    "                                'ff_max_distance_to_path': 400,\n",
    "                                'time_between_every_two_null_arcs': 0.2,\n",
    "                                'time_to_begin_plotting_null_arc': None,\n",
    "                                'time_to_end_plotting_null_arc': None,\n",
    "                                'max_num_plot_to_make': max_num_plot_to_make,\n",
    "                                'show_intended_target': False,\n",
    "                                'show_ff_indices': False,\n",
    "                                'point_indices_to_plot_null_arc': point_indices_to_plot_null_arc,\n",
    "                                'ff_indices_to_plot_null_arc': ff_indices_to_plot_null_arc,\n",
    "                                'whether_mark_path_where_intended_target_has_best_arc_among_all_ff': False}\n",
    "\n",
    "\n",
    "show_null_trajectory.make_pretty_plot_for_a_duration(duration_to_plot, *pretty_plot_args, pretty_null_arc_plot_kwargs_temp, **additional_function_kwargs)\n",
    "                               "
   ]
  },
  {
   "cell_type": "markdown",
   "metadata": {},
   "source": [
    "### 140"
   ]
  },
  {
   "cell_type": "code",
   "execution_count": null,
   "metadata": {},
   "outputs": [],
   "source": [
    "reload(show_null_trajectory)\n",
    "duration_to_plot=[165.594853, 171.827675]\n",
    "max_num_plot_to_make = 10\n",
    "ff_indices_to_plot_null_arc = np.array([149, 62, 413, 60, 61])\n",
    "intended_target_ff_index = 60\n",
    "point_indices_to_plot_null_arc = [10140, 10195]\n",
    "pretty_null_arc_plot_kwargs_temp = pretty_null_arc_plot_kwargs.copy()\n",
    "pretty_null_arc_plot_kwargs_temp['show_connect_path_ff_after_coloring_segments_ff_indices']=np.array([149, 62])\n",
    "\n",
    "additional_function_kwargs = {'intended_target_ff_index': intended_target_ff_index,\n",
    "                                        'plot_null_arcs': True,\n",
    "                                        'ff_max_distance_to_intended_target': 450,   \n",
    "                                        'ff_max_distance_to_path': 400,\n",
    "                                        'time_between_every_two_null_arcs': 0.2,\n",
    "                                        'time_to_begin_plotting_null_arc': None,\n",
    "                                        'time_to_end_plotting_null_arc': None,\n",
    "                                        'max_num_plot_to_make': max_num_plot_to_make,\n",
    "                                        'show_intended_target': False,\n",
    "                                        'show_ff_indices': False,\n",
    "                                        'point_indices_to_plot_null_arc': point_indices_to_plot_null_arc,\n",
    "                                        'ff_indices_to_plot_null_arc': ff_indices_to_plot_null_arc,\n",
    "                                        'whether_mark_path_where_intended_target_has_best_arc_among_all_ff': False}\n",
    "\n",
    "\n",
    "\n",
    "show_null_trajectory.make_pretty_plot_for_a_duration(duration_to_plot, *pretty_plot_args, pretty_null_arc_plot_kwargs_temp, **additional_function_kwargs)\n",
    "\n",
    "\n",
    "                               \n"
   ]
  },
  {
   "cell_type": "markdown",
   "metadata": {},
   "source": [
    "### 851"
   ]
  },
  {
   "cell_type": "code",
   "execution_count": null,
   "metadata": {},
   "outputs": [],
   "source": [
    "reload(show_null_trajectory)\n",
    "duration_to_plot=[955.054736, 960.2909]\n",
    "max_num_plot_to_make = 10\n",
    "ff_indices_to_plot_null_arc = np.array([366, 480, 688, 365])\n",
    "intended_target_ff_index = 366\n",
    "# point_indices_to_plot_null_arc = [58183]\n",
    "pretty_null_arc_plot_kwargs_temp = pretty_null_arc_plot_kwargs.copy()\n",
    "\n",
    "\n",
    "additional_function_kwargs = {'intended_target_ff_index': intended_target_ff_index,\n",
    "                                        'plot_null_arcs': True,\n",
    "                                        'ff_max_distance_to_intended_target': 450,   \n",
    "                                        'ff_max_distance_to_path': 400,\n",
    "                                        'time_between_every_two_null_arcs': 0.2,\n",
    "                                        'time_to_begin_plotting_null_arc': None,\n",
    "                                        'time_to_end_plotting_null_arc': None,\n",
    "                                        'max_num_plot_to_make': max_num_plot_to_make,\n",
    "                                        'show_intended_target': False,\n",
    "                                        'show_ff_indices': False,\n",
    "                                        'point_indices_to_plot_null_arc': point_indices_to_plot_null_arc,\n",
    "                                        'ff_indices_to_plot_null_arc': ff_indices_to_plot_null_arc,\n",
    "                                        'whether_mark_path_where_intended_target_has_best_arc_among_all_ff': False}\n",
    "\n",
    "\n",
    "\n",
    "show_null_trajectory.make_pretty_plot_for_a_duration(duration_to_plot, *pretty_plot_args, pretty_null_arc_plot_kwargs_temp, **additional_function_kwargs)\n",
    "\n",
    "\n",
    "                                \n"
   ]
  },
  {
   "cell_type": "markdown",
   "metadata": {},
   "source": [
    "### 851 (2)"
   ]
  },
  {
   "cell_type": "code",
   "execution_count": null,
   "metadata": {},
   "outputs": [],
   "source": [
    "reload(show_null_trajectory)\n",
    "duration_to_plot=[956.41388, 960.090867]\n",
    "max_num_plot_to_make = 10\n",
    "ff_indices_to_plot_null_arc = np.array([366, 480, 688, 365])\n",
    "intended_target_ff_index = 366\n",
    "point_indices_to_plot_null_arc = [58270]\n",
    "pretty_null_arc_plot_kwargs_temp = pretty_null_arc_plot_kwargs.copy()\n",
    "\n",
    "additional_function_kwargs = {'intended_target_ff_index': intended_target_ff_index,\n",
    "                                        'plot_null_arcs': True,\n",
    "                                        'ff_max_distance_to_intended_target': 450,   \n",
    "                                        'ff_max_distance_to_path': 400,\n",
    "                                        'time_between_every_two_null_arcs': 0.2,\n",
    "                                        'time_to_begin_plotting_null_arc': None,\n",
    "                                        'time_to_end_plotting_null_arc': None,\n",
    "                                        'max_num_plot_to_make': max_num_plot_to_make,\n",
    "                                        'show_intended_target': False,\n",
    "                                        'show_ff_indices': False,\n",
    "                                        'point_indices_to_plot_null_arc': point_indices_to_plot_null_arc,\n",
    "                                        'ff_indices_to_plot_null_arc': ff_indices_to_plot_null_arc,\n",
    "                                        'whether_mark_path_where_intended_target_has_best_arc_among_all_ff': False}\n",
    "\n",
    "\n",
    "\n",
    "show_null_trajectory.make_pretty_plot_for_a_duration(duration_to_plot, *pretty_plot_args, pretty_null_arc_plot_kwargs_temp, **additional_function_kwargs)\n",
    "\n",
    "\n",
    "                                \n",
    "                                      "
   ]
  },
  {
   "cell_type": "markdown",
   "metadata": {},
   "source": [
    "### 1029"
   ]
  },
  {
   "cell_type": "code",
   "execution_count": null,
   "metadata": {},
   "outputs": [],
   "source": [
    "# new ID: 1002\n",
    "reload(show_null_trajectory)\n",
    "duration_to_plot=[1138.93005, 1144.195605]\n",
    "max_num_plot_to_make = 10\n",
    "ff_indices_to_plot_null_arc = np.array([437, 438, 498])\n",
    "intended_target_ff_index = 438\n",
    "point_indices_to_plot_null_arc = [69382]\n",
    "pretty_null_arc_plot_kwargs_temp = pretty_null_arc_plot_kwargs.copy()\n",
    "\n",
    "additional_function_kwargs = {'intended_target_ff_index': intended_target_ff_index,\n",
    "                                        'plot_null_arcs': True,\n",
    "                                        'ff_max_distance_to_intended_target': 450,   \n",
    "                                        'ff_max_distance_to_path': 400,\n",
    "                                        'time_between_every_two_null_arcs': 0.2,\n",
    "                                        'time_to_begin_plotting_null_arc': None,\n",
    "                                        'time_to_end_plotting_null_arc': None,\n",
    "                                        'max_num_plot_to_make': max_num_plot_to_make,\n",
    "                                        'show_intended_target': False,\n",
    "                                        'show_ff_indices': False,\n",
    "                                        'point_indices_to_plot_null_arc': point_indices_to_plot_null_arc,\n",
    "                                        'ff_indices_to_plot_null_arc': ff_indices_to_plot_null_arc,\n",
    "                                        'whether_mark_path_where_intended_target_has_best_arc_among_all_ff': False}\n",
    "\n",
    "\n",
    "\n",
    "show_null_trajectory.make_pretty_plot_for_a_duration(duration_to_plot, *pretty_plot_args, pretty_null_arc_plot_kwargs_temp, **additional_function_kwargs)\n",
    "\n",
    "\n",
    "          \n",
    "                                      "
   ]
  },
  {
   "cell_type": "markdown",
   "metadata": {},
   "source": [
    "### 1029 (2)"
   ]
  },
  {
   "cell_type": "code",
   "execution_count": null,
   "metadata": {},
   "outputs": [],
   "source": [
    "# new ID: 1002\n",
    "reload(show_null_trajectory)\n",
    "duration_to_plot=[1141.43005, 1145.695605]\n",
    "max_num_plot_to_make = 10\n",
    "ff_indices_to_plot_null_arc = np.array([437, 438, 498])\n",
    "intended_target_ff_index = 438\n",
    "point_indices_to_plot_null_arc = [69557]\n",
    "pretty_null_arc_plot_kwargs_temp = pretty_null_arc_plot_kwargs.copy()\n",
    "\n",
    "\n",
    "\n",
    "additional_function_kwargs = {'intended_target_ff_index': intended_target_ff_index,\n",
    "                                        'plot_null_arcs': True,\n",
    "                                        'ff_max_distance_to_intended_target': 450,   \n",
    "                                        'ff_max_distance_to_path': 400,\n",
    "                                        'time_between_every_two_null_arcs': 0.2,\n",
    "                                        'time_to_begin_plotting_null_arc': None,\n",
    "                                        'time_to_end_plotting_null_arc': None,\n",
    "                                        'max_num_plot_to_make': max_num_plot_to_make,\n",
    "                                        'show_intended_target': False,\n",
    "                                        'show_ff_indices': False,\n",
    "                                        'point_indices_to_plot_null_arc': point_indices_to_plot_null_arc,\n",
    "                                        'ff_indices_to_plot_null_arc': ff_indices_to_plot_null_arc,\n",
    "                                        'whether_mark_path_where_intended_target_has_best_arc_among_all_ff': False}\n",
    "\n",
    "\n",
    "\n",
    "show_null_trajectory.make_pretty_plot_for_a_duration(duration_to_plot, *pretty_plot_args, pretty_null_arc_plot_kwargs_temp, **additional_function_kwargs)\n",
    "\n",
    "\n",
    "          \n",
    "\n"
   ]
  },
  {
   "cell_type": "markdown",
   "metadata": {},
   "source": [
    "### 1038"
   ]
  },
  {
   "cell_type": "code",
   "execution_count": null,
   "metadata": {},
   "outputs": [],
   "source": [
    "# new ID: 1012\n",
    "reload(show_null_trajectory)\n",
    "duration_to_plot=[1152.904394, 1156.843345]\n",
    "max_num_plot_to_make = 10\n",
    "ff_indices_to_plot_null_arc = np.array([474, 475, 529])\n",
    "intended_target_ff_index = 473\n",
    "point_indices_to_plot_null_arc = [70182]\n",
    "pretty_null_arc_plot_kwargs_temp = pretty_null_arc_plot_kwargs.copy()\n",
    "pretty_null_arc_plot_kwargs_temp['show_believed_target_positions'] = False\n",
    "\n",
    "additional_function_kwargs = {'intended_target_ff_index': intended_target_ff_index,\n",
    "                                        'plot_null_arcs': True,\n",
    "                                        'ff_max_distance_to_intended_target': 450,   \n",
    "                                        'ff_max_distance_to_path': 400,\n",
    "                                        'time_between_every_two_null_arcs': 0.2,\n",
    "                                        'time_to_begin_plotting_null_arc': None,\n",
    "                                        'time_to_end_plotting_null_arc': None,\n",
    "                                        'max_num_plot_to_make': max_num_plot_to_make,\n",
    "                                        'show_intended_target': False,\n",
    "                                        'show_ff_indices': False,\n",
    "                                        'point_indices_to_plot_null_arc': point_indices_to_plot_null_arc,\n",
    "                                        'ff_indices_to_plot_null_arc': ff_indices_to_plot_null_arc,\n",
    "                                        'whether_mark_path_where_intended_target_has_best_arc_among_all_ff': False}\n",
    "\n",
    "\n",
    "\n",
    "show_null_trajectory.make_pretty_plot_for_a_duration(duration_to_plot, *pretty_plot_args, pretty_null_arc_plot_kwargs_temp, **additional_function_kwargs)\n",
    "\n",
    "\n",
    "          \n",
    "                                       "
   ]
  },
  {
   "cell_type": "markdown",
   "metadata": {},
   "source": [
    "### 1153"
   ]
  },
  {
   "cell_type": "code",
   "execution_count": null,
   "metadata": {},
   "outputs": [],
   "source": [
    "# new ID: 1121\n",
    "reload(show_null_trajectory)\n",
    "duration_to_plot = [1252.452492, 1256.694845]\n",
    "max_num_plot_to_make = 10\n",
    "ff_indices_to_plot_null_arc = np.array([488, 535, 487])\n",
    "intended_target_ff_index = 535\n",
    "point_indices_to_plot_null_arc = [76299]\n",
    "pretty_null_arc_plot_kwargs_temp = pretty_null_arc_plot_kwargs.copy()\n",
    "\n",
    "\n",
    "additional_function_kwargs = {'intended_target_ff_index': intended_target_ff_index,\n",
    "                                        'plot_null_arcs': True,\n",
    "                                        'ff_max_distance_to_intended_target': 450,   \n",
    "                                        'ff_max_distance_to_path': 400,\n",
    "                                        'time_between_every_two_null_arcs': 0.2,\n",
    "                                        'time_to_begin_plotting_null_arc': None,\n",
    "                                        'time_to_end_plotting_null_arc': None,\n",
    "                                        'max_num_plot_to_make': max_num_plot_to_make,\n",
    "                                        'show_intended_target': False,\n",
    "                                        'show_ff_indices': False,\n",
    "                                        'point_indices_to_plot_null_arc': point_indices_to_plot_null_arc,\n",
    "                                        'ff_indices_to_plot_null_arc': ff_indices_to_plot_null_arc,\n",
    "                                        'whether_mark_path_where_intended_target_has_best_arc_among_all_ff': False}\n",
    "\n",
    "\n",
    "\n",
    "show_null_trajectory.make_pretty_plot_for_a_duration(duration_to_plot, *pretty_plot_args, pretty_null_arc_plot_kwargs_temp, **additional_function_kwargs)\n",
    "\n",
    "\n",
    "          "
   ]
  },
  {
   "cell_type": "markdown",
   "metadata": {},
   "source": [
    "### 1190"
   ]
  },
  {
   "cell_type": "code",
   "execution_count": null,
   "metadata": {},
   "outputs": [],
   "source": [
    "# new ID: 1155\n",
    "reload(show_null_trajectory)\n",
    "duration_to_plot = [1282.594949, 1287.5386760000001]\n",
    "max_num_plot_to_make = 10\n",
    "ff_indices_to_plot_null_arc = np.array([498, 540, 541])\n",
    "intended_target_ff_index = 498\n",
    "point_indices_to_plot_null_arc = [78171]\n",
    "pretty_null_arc_plot_kwargs_temp = pretty_null_arc_plot_kwargs.copy()\n",
    "\n",
    "\n",
    "additional_function_kwargs = {'intended_target_ff_index': intended_target_ff_index,\n",
    "                                        'plot_null_arcs': True,\n",
    "                                        'ff_max_distance_to_intended_target': 450,   \n",
    "                                        'ff_max_distance_to_path': 400,\n",
    "                                        'time_between_every_two_null_arcs': 0.2,\n",
    "                                        'time_to_begin_plotting_null_arc': None,\n",
    "                                        'time_to_end_plotting_null_arc': None,\n",
    "                                        'max_num_plot_to_make': max_num_plot_to_make,\n",
    "                                        'show_intended_target': False,\n",
    "                                        'show_ff_indices': False,\n",
    "                                        'point_indices_to_plot_null_arc': point_indices_to_plot_null_arc,\n",
    "                                        'ff_indices_to_plot_null_arc': ff_indices_to_plot_null_arc,\n",
    "                                        'whether_mark_path_where_intended_target_has_best_arc_among_all_ff': False}\n",
    "\n",
    "\n",
    "\n",
    "show_null_trajectory.make_pretty_plot_for_a_duration(duration_to_plot, *pretty_plot_args, pretty_null_arc_plot_kwargs_temp, **additional_function_kwargs)\n",
    "\n",
    "\n",
    "          "
   ]
  },
  {
   "cell_type": "markdown",
   "metadata": {},
   "source": [
    "### 1203"
   ]
  },
  {
   "cell_type": "code",
   "execution_count": null,
   "metadata": {},
   "outputs": [],
   "source": [
    "# new ID: 1168\n",
    "reload(show_null_trajectory)\n",
    "duration_to_plot = [1295.278694, 1300.635839]\n",
    "max_num_plot_to_make = 10\n",
    "ff_indices_to_plot_null_arc = np.array([503, 667])\n",
    "intended_target_ff_index = 503\n",
    "point_indices_to_plot_null_arc = [78899]\n",
    "pretty_null_arc_plot_kwargs_temp = pretty_null_arc_plot_kwargs.copy()\n",
    "\n",
    "\n",
    "additional_function_kwargs = {'intended_target_ff_index': intended_target_ff_index,\n",
    "                                        'plot_null_arcs': True,\n",
    "                                        'ff_max_distance_to_intended_target': 450,   \n",
    "                                        'ff_max_distance_to_path': 400,\n",
    "                                        'time_between_every_two_null_arcs': 0.2,\n",
    "                                        'time_to_begin_plotting_null_arc': None,\n",
    "                                        'time_to_end_plotting_null_arc': None,\n",
    "                                        'max_num_plot_to_make': max_num_plot_to_make,\n",
    "                                        'show_intended_target': False,\n",
    "                                        'show_ff_indices': False,\n",
    "                                        'point_indices_to_plot_null_arc': point_indices_to_plot_null_arc,\n",
    "                                        'ff_indices_to_plot_null_arc': ff_indices_to_plot_null_arc,\n",
    "                                        'whether_mark_path_where_intended_target_has_best_arc_among_all_ff': False}\n",
    "\n",
    "\n",
    "\n",
    "show_null_trajectory.make_pretty_plot_for_a_duration(duration_to_plot, *pretty_plot_args, pretty_null_arc_plot_kwargs_temp, **additional_function_kwargs)\n",
    "\n",
    "# \n",
    "          \n"
   ]
  },
  {
   "cell_type": "markdown",
   "metadata": {},
   "source": [
    "### 1203 (2)"
   ]
  },
  {
   "cell_type": "code",
   "execution_count": null,
   "metadata": {},
   "outputs": [],
   "source": [
    "# new ID: 1168\n",
    "reload(show_null_trajectory)\n",
    "duration_to_plot = [1295.278694, 1301.635839]\n",
    "max_num_plot_to_make = 10\n",
    "ff_indices_to_plot_null_arc = np.array([505, 797, 798, 503, 667])\n",
    "intended_target_ff_index = 503\n",
    "point_indices_to_plot_null_arc = [78959, 78999]\n",
    "pretty_null_arc_plot_kwargs_temp = pretty_null_arc_plot_kwargs.copy()\n",
    "pretty_null_arc_plot_kwargs_temp['show_connect_path_ff_after_coloring_segments_ff_indices']=np.array([797, 798])\n",
    "\n",
    "\n",
    "\n",
    "additional_function_kwargs = {'intended_target_ff_index': intended_target_ff_index,\n",
    "                                        'plot_null_arcs': True,\n",
    "                                        'ff_max_distance_to_intended_target': 450,   \n",
    "                                        'ff_max_distance_to_path': 400,\n",
    "                                        'time_between_every_two_null_arcs': 0.2,\n",
    "                                        'time_to_begin_plotting_null_arc': None,\n",
    "                                        'time_to_end_plotting_null_arc': None,\n",
    "                                        'max_num_plot_to_make': max_num_plot_to_make,\n",
    "                                        'show_intended_target': False,\n",
    "                                        'show_ff_indices': False,\n",
    "                                        'point_indices_to_plot_null_arc': point_indices_to_plot_null_arc,\n",
    "                                        'ff_indices_to_plot_null_arc': ff_indices_to_plot_null_arc,\n",
    "                                        'whether_mark_path_where_intended_target_has_best_arc_among_all_ff': False}\n",
    "\n",
    "\n",
    "\n",
    "show_null_trajectory.make_pretty_plot_for_a_duration(duration_to_plot, *pretty_plot_args, pretty_null_arc_plot_kwargs_temp, **additional_function_kwargs)\n",
    "\n",
    "\n",
    "          "
   ]
  },
  {
   "cell_type": "markdown",
   "metadata": {},
   "source": [
    "### 1212"
   ]
  },
  {
   "cell_type": "code",
   "execution_count": null,
   "metadata": {},
   "outputs": [],
   "source": [
    "# new ID: 1176\n",
    "\n",
    "reload(show_null_trajectory)\n",
    "duration_to_plot = [1308.543045, 1314.339848]\n",
    "max_num_plot_to_make = 10\n",
    "ff_indices_to_plot_null_arc = np.array([667, 505, 686])\n",
    "intended_target_ff_index = 667\n",
    "point_indices_to_plot_null_arc = [79680]\n",
    "pretty_null_arc_plot_kwargs_temp = pretty_null_arc_plot_kwargs.copy()\n",
    "\n",
    "\n",
    "additional_function_kwargs = {'intended_target_ff_index': intended_target_ff_index,\n",
    "                                        'plot_null_arcs': True,\n",
    "                                        'ff_max_distance_to_intended_target': 450,   \n",
    "                                        'ff_max_distance_to_path': 400,\n",
    "                                        'time_between_every_two_null_arcs': 0.2,\n",
    "                                        'time_to_begin_plotting_null_arc': None,\n",
    "                                        'time_to_end_plotting_null_arc': None,\n",
    "                                        'max_num_plot_to_make': max_num_plot_to_make,\n",
    "                                        'show_intended_target': False,\n",
    "                                        'show_ff_indices': False,\n",
    "                                        'point_indices_to_plot_null_arc': point_indices_to_plot_null_arc,\n",
    "                                        'ff_indices_to_plot_null_arc': ff_indices_to_plot_null_arc,\n",
    "                                        'whether_mark_path_where_intended_target_has_best_arc_among_all_ff': False}\n",
    "\n",
    "\n",
    "\n",
    "show_null_trajectory.make_pretty_plot_for_a_duration(duration_to_plot, *pretty_plot_args, pretty_null_arc_plot_kwargs_temp, **additional_function_kwargs)\n",
    "\n",
    "\n",
    "          \n"
   ]
  },
  {
   "cell_type": "markdown",
   "metadata": {},
   "source": [
    "# Other plots/info"
   ]
  },
  {
   "cell_type": "markdown",
   "metadata": {},
   "source": [
    "## Distribution of change in angle over distance"
   ]
  },
  {
   "cell_type": "code",
   "execution_count": null,
   "metadata": {},
   "outputs": [],
   "source": [
    "reload(curvature_utils)\n",
    "\n",
    "data_item.make_curvature_df([-1, 1], clean= True)\n",
    "data_item.make_or_retrieve_best_arc_df()\n",
    "best_arc_df = data_item.best_arc_df.copy()"
   ]
  },
  {
   "cell_type": "code",
   "execution_count": null,
   "metadata": {},
   "outputs": [],
   "source": [
    "dist_of_diff = curvature_df['curv_diff'].copy().values\n",
    "\n",
    "# use degrees \n",
    "dist_of_diff = dist_of_diff * 180 / math.pi\n",
    "\n",
    "curvature_df['curv_diff'].describe()"
   ]
  },
  {
   "cell_type": "code",
   "execution_count": null,
   "metadata": {},
   "outputs": [],
   "source": [
    "sns.histplot(dist_of_diff, bins=100)\n",
    "plt.xlabel(\"Curvature difference\")\n",
    "plt.ylabel(\"Number of arcs\")\n",
    "plt.title(\"Histogram of Change in Angle in Deg Over 1 cm for each arc\")\n",
    "plt.show()\n"
   ]
  },
  {
   "cell_type": "code",
   "execution_count": null,
   "metadata": {},
   "outputs": [],
   "source": [
    "# See outliers\n",
    "large_outliers = dist_of_diff[dist_of_diff > 5]\n",
    "print('The percentage of large outliers is', round(len(large_outliers)/len(dist_of_diff)*100, 3), '%')"
   ]
  },
  {
   "cell_type": "code",
   "execution_count": null,
   "metadata": {},
   "outputs": [],
   "source": [
    "small_outliers = dist_of_diff[dist_of_diff < -5]\n",
    "print('The percentage of small outliers is', round(len(small_outliers)/len(dist_of_diff)*100, 3), '%')\n"
   ]
  },
  {
   "cell_type": "markdown",
   "metadata": {},
   "source": [
    "## Now, remove outliers to calculate sd"
   ]
  },
  {
   "cell_type": "code",
   "execution_count": null,
   "metadata": {},
   "outputs": [],
   "source": [
    "dist_w_outliers_removed = dist_of_diff[(dist_of_diff < 5) & (dist_of_diff > -5)]\n",
    "new_var_of_diff = np.var(dist_w_outliers_removed)\n",
    "new_var_of_diff"
   ]
  },
  {
   "cell_type": "code",
   "execution_count": null,
   "metadata": {},
   "outputs": [],
   "source": [
    "np.sqrt(new_var_of_diff)"
   ]
  },
  {
   "cell_type": "markdown",
   "metadata": {},
   "source": [
    "## Use percentage of abs_diff for error bar"
   ]
  },
  {
   "cell_type": "code",
   "execution_count": null,
   "metadata": {},
   "outputs": [],
   "source": [
    "# Many entries have zero curvature difference, causing their percentiles to cluster at 0\n",
    "plt.figure(figsize=(10, 5))\n",
    "plt.hist(best_arc_df[\"diff_percentile\"], bins=100, density=True, edgecolor='black')\n",
    "plt.xlabel(\"Curvature Difference Percentile\")\n",
    "plt.ylabel(\"Density\")\n",
    "plt.title(\"Distribution of Curvature Difference Percentiles\")\n",
    "plt.tight_layout()\n",
    "plt.show()\n"
   ]
  },
  {
   "cell_type": "markdown",
   "metadata": {},
   "source": [
    "## did abs_diff change?"
   ]
  },
  {
   "cell_type": "code",
   "execution_count": null,
   "metadata": {},
   "outputs": [],
   "source": [
    "if 'monkey_passed_by' not in data_item.best_arc_df.columns:\n",
    "    data_item.add_column_monkey_passed_by_to_best_arc_df()\n",
    "    data_item._save_best_arc_df()"
   ]
  },
  {
   "cell_type": "code",
   "execution_count": null,
   "metadata": {},
   "outputs": [],
   "source": [
    "best_arc_df_sub = data_item.best_arc_df[data_item.best_arc_df['monkey_passed_by'] == True].copy()\n",
    "best_arc_df_sub.sort_values(by=['intended_target_id', 'time'], inplace=True)\n",
    "\n",
    "chunk_size = 10\n",
    "unique_id = np.unique(best_arc_df_sub.intended_target_id.values)\n",
    "num_chunks = math.ceil(len(unique_id)/chunk_size)\n",
    "print('num_chunks', num_chunks)\n",
    "\n",
    "\n",
    "#for chunk in range(num_chunks):\n",
    "for chunk in range(3,6):\n",
    "    plt.figure(figsize=(8, 5))\n",
    "    for i in range(len(unique_id))[chunk*chunk_size:(chunk+1)*chunk_size]:\n",
    "        id = unique_id[i]\n",
    "        best_arc_df_relevant = best_arc_df_sub[best_arc_df_sub.intended_target_id == id].copy()\n",
    "        best_arc_df_relevant['time'] = best_arc_df_relevant['time'] - best_arc_df_relevant['time'].min()\n",
    "        plt.plot(best_arc_df_relevant['time'], best_arc_df_relevant['curv_diff'] * 180/math.pi, label=id)\n",
    "        if i == 100:\n",
    "            break\n",
    "    # plot a horizontal line at 0 deg/cm\n",
    "    plt.axhline(y=0, color='red', linestyle='--')\n",
    "    plt.xlabel('time')\n",
    "    plt.ylabel('curv_diff (deg/cm)')\n",
    "    plt.title('curv_diff vs. time for each intended target, across some chunks')\n",
    "    # hide legend\n",
    "    plt.legend().set_visible(False)\n",
    "    plt.show()\n",
    "    \n"
   ]
  },
  {
   "cell_type": "markdown",
   "metadata": {},
   "source": [
    "## monkey_passed_by"
   ]
  },
  {
   "cell_type": "code",
   "execution_count": null,
   "metadata": {},
   "outputs": [],
   "source": [
    "monkey_passed_by = data_item.best_arc_df['monkey_passed_by'].values\n",
    "# what percentage of monkey_stopped_by is True?\n",
    "np.sum(monkey_passed_by) / len(monkey_passed_by)"
   ]
  },
  {
   "cell_type": "code",
   "execution_count": null,
   "metadata": {},
   "outputs": [],
   "source": [
    "unique_intended_targets_monkey_passed_by = data_item.best_arc_df[['intended_target_id', 'monkey_passed_by']].drop_duplicates()['monkey_passed_by'].values\n",
    "# what percentage of unique_intended_targets_monkey_passed_by is True?\n",
    "np.sum(unique_intended_targets_monkey_passed_by) / len(unique_intended_targets_monkey_passed_by)"
   ]
  },
  {
   "cell_type": "markdown",
   "metadata": {},
   "source": [
    "## curv auto correlation"
   ]
  },
  {
   "cell_type": "code",
   "execution_count": null,
   "metadata": {},
   "outputs": [],
   "source": [
    "# find autocorrelation in curv_of_traj\n",
    "monkey_information[monkey_information['time'] > ff_caught_T_new[-1]]\n",
    "\n",
    "curv_of_traj_mode='time'\n",
    "for half_window in np.arange(1, 3)*0.1:\n",
    "    window_for_curv_of_traj=[-half_window, half_window]\n",
    "    truncate_curv_of_traj_by_time_of_capture=False\n",
    "    curv_of_traj_df, traj_curv_descr = curv_of_traj_utils.find_curv_of_traj_df_based_on_curv_of_traj_mode(window_for_curv_of_traj, monkey_information, ff_caught_T_new, curv_of_traj_mode=curv_of_traj_mode, truncate_curv_of_traj_by_time_of_capture=truncate_curv_of_traj_by_time_of_capture)\n",
    "    curv_of_traj = curv_of_traj_df.curv_of_traj.values\n",
    "\n",
    "\n",
    "    plot_acf(curv_of_traj, lags=30)\n",
    "    plt.title(f\"window_for_curv_of_traj = [{window_for_curv_of_traj[0]}, {window_for_curv_of_traj[1]}]\")\n",
    "    plt.show()\n",
    "    "
   ]
  },
  {
   "cell_type": "markdown",
   "metadata": {},
   "source": [
    "# Appendex"
   ]
  },
  {
   "cell_type": "markdown",
   "metadata": {},
   "source": [
    "## compare eye positions"
   ]
  },
  {
   "cell_type": "code",
   "execution_count": null,
   "metadata": {},
   "outputs": [],
   "source": [
    "interocular_dist = 4 if data_item.monkey_name == 'monkey_Bruno' else 3 \n",
    "def compare_eye_positions(monkey_information, duration_to_plot, interocular_dist, pretty_plot_args, pretty_null_arc_plot_kwargs_temp, additional_function_kwargs, additional_plotting_kwargs):\n",
    "    print('First Average Angles')\n",
    "    title = 'First Average Angles'\n",
    "    monkey_information = eye_positions.average_and_then_convert_eye_positions_in_monkey_information(monkey_information, add_suffix_to_new_columns=False)\n",
    "    show_null_trajectory.make_pretty_plot_for_a_duration(duration_to_plot, *pretty_plot_args, pretty_null_arc_plot_kwargs_temp, **additional_function_kwargs,\n",
    "                                            additional_plotting_kwargs=additional_plotting_kwargs, title=title)  \n",
    "\n",
    "    print('Average World Coordinates')\n",
    "    title = 'Average World Coordinates'\n",
    "    monkey_information = eye_positions.convert_eye_positions_in_monkey_information(monkey_information, add_left_and_right_eyes_info=True, interocular_dist=interocular_dist)    \n",
    "    show_null_trajectory.make_pretty_plot_for_a_duration(duration_to_plot, *pretty_plot_args, pretty_null_arc_plot_kwargs_temp, **additional_function_kwargs,\n",
    "                                            additional_plotting_kwargs=additional_plotting_kwargs, title=title) \n",
    "\n",
    "    print('Just Left Eye')   \n",
    "    title = 'Just Left Eye' \n",
    "    for column in ['gaze_mky_view_x', 'gaze_mky_view_y', 'gaze_world_x', 'gaze_world_y']:\n",
    "        monkey_information[column] = monkey_information[column + '_l']\n",
    "    show_null_trajectory.make_pretty_plot_for_a_duration(duration_to_plot, *pretty_plot_args, pretty_null_arc_plot_kwargs_temp, **additional_function_kwargs,\n",
    "                                            additional_plotting_kwargs=additional_plotting_kwargs, title=title)\n",
    "\n",
    "    print('Just Right Eye')\n",
    "    title = 'Just Right Eye'\n",
    "    for column in ['gaze_mky_view_x', 'gaze_mky_view_y', 'gaze_world_x', 'gaze_world_y']:\n",
    "        monkey_information[column] = monkey_information[column + '_r']\n",
    "    show_null_trajectory.make_pretty_plot_for_a_duration(duration_to_plot, *pretty_plot_args, pretty_null_arc_plot_kwargs_temp, **additional_function_kwargs,\n",
    "                                            additional_plotting_kwargs=additional_plotting_kwargs, title=title)\n",
    "    return"
   ]
  },
  {
   "cell_type": "code",
   "execution_count": null,
   "metadata": {},
   "outputs": [],
   "source": [
    "reload(plot_behaviors_utils)\n",
    "reload(plot_trials)\n",
    "reload(show_null_trajectory)\n",
    "duration_to_plot=[165.455423, 171.578282]\n",
    "max_num_plot_to_make = 10\n",
    "ff_indices_to_plot_null_arc = np.array([62, 413, 60, 61])\n",
    "intended_target_ff_index = 61\n",
    "point_indices_to_plot_null_arc = [10147]\n",
    "pretty_null_arc_plot_kwargs_temp = pretty_null_arc_plot_kwargs.copy()\n",
    "pretty_null_arc_plot_kwargs_temp['show_eye_positions'] = False\n",
    "\n",
    "additional_function_kwargs = {'intended_target_ff_index': intended_target_ff_index,\n",
    "                                'plot_null_arcs': True,\n",
    "                                'ff_max_distance_to_intended_target': 450,   \n",
    "                                'ff_max_distance_to_path': 400,\n",
    "                                'time_between_every_two_null_arcs': 0.2,\n",
    "                                'time_to_begin_plotting_null_arc': None,\n",
    "                                'time_to_end_plotting_null_arc': None,\n",
    "                                'max_num_plot_to_make': max_num_plot_to_make,\n",
    "                                'show_intended_target': False,\n",
    "                                'show_ff_indices': False,\n",
    "                                'point_indices_to_plot_null_arc': point_indices_to_plot_null_arc,\n",
    "                                'ff_indices_to_plot_null_arc': ff_indices_to_plot_null_arc,\n",
    "                                'whether_mark_path_where_intended_target_has_best_arc_among_all_ff': False}\n",
    "\n",
    "\n",
    "show_null_trajectory.make_pretty_plot_for_a_duration(duration_to_plot, *pretty_plot_args, pretty_null_arc_plot_kwargs_temp, **additional_function_kwargs)\n",
    "print('='*100)\n",
    "print('Compare eye positions')\n",
    "compare_eye_positions(monkey_information, duration_to_plot, interocular_dist, pretty_plot_args, pretty_null_arc_plot_kwargs_temp, additional_function_kwargs, additional_plotting_kwargs)\n",
    "                               "
   ]
  },
  {
   "cell_type": "markdown",
   "metadata": {},
   "source": [
    "## curvature upper lower bounds"
   ]
  },
  {
   "cell_type": "code",
   "execution_count": null,
   "metadata": {},
   "outputs": [],
   "source": [
    "\n",
    "# see clean_curvature_info function\n",
    "max(curvature_df.curv_diff.values)\n",
    "for column in ['curv_of_traj', 'curvature_lower_bound', 'curvature_upper_bound', 'opt_arc_curv']:\n",
    "    sns.boxplot(curvature_df[column].values, orient='h')\n",
    "    plt.title(column)\n",
    "    plt.show()\n",
    "    \n",
    "   \n",
    "    sns.histplot(curvature_df[column].values, bins=50)\n",
    "    plt.title(column)\n",
    "    plt.show()\n",
    "    "
   ]
  },
  {
   "cell_type": "markdown",
   "metadata": {},
   "source": [
    "## monkey's reaction time\n",
    "find out points where monkey has changed linear/angular speed noticeably, and see how soon that was after a ff became visible"
   ]
  },
  {
   "cell_type": "markdown",
   "metadata": {},
   "source": [
    "### visual (need to select valid cases)"
   ]
  },
  {
   "cell_type": "code",
   "execution_count": null,
   "metadata": {},
   "outputs": [],
   "source": [
    "# find points where monkey is moving fast and turning fast\n",
    "monkey_information_sub = monkey_information.loc[monkey_information['speed'] >= 20].copy()\n",
    "monkey_information_sub['abs_ang_accel'] = np.abs(monkey_information_sub['ang_accel'])\n",
    "monkey_information_sub = monkey_information_sub[monkey_information_sub['abs_ang_accel'] > 0.2].copy()\n",
    "\n",
    "# also make sure that there's no stop right before each point within 1s (about 60 points) to the past and 0.5s to the future\n",
    "# if there is, then take out that point\n",
    "useful_index = []\n",
    "for point_index in monkey_information_sub.point_index.values:\n",
    "    info_sub = monkey_information.loc[point_index-60 : point_index+30].copy()\n",
    "    if (info_sub['monkey_speeddummy']==0).sum() == 0:\n",
    "        useful_index.append(point_index)\n",
    "monkey_information_sub2 = monkey_information.loc[np.array(useful_index)]"
   ]
  },
  {
   "cell_type": "code",
   "execution_count": null,
   "metadata": {},
   "outputs": [],
   "source": [
    "current_i = 10"
   ]
  },
  {
   "cell_type": "code",
   "execution_count": null,
   "metadata": {},
   "outputs": [],
   "source": [
    "plt.rcParams['figure.figsize'] = [7, 7] \n",
    "point_samples = monkey_information_sub2.index.values[::2]\n",
    "time_samples = monkey_information_sub2.time.values[::2]\n",
    "max_num_plot_to_make = 10\n",
    "\n",
    "max_num_plot_to_make = 3\n",
    "plot_counter = 0\n",
    "for i in range(len(time_samples))[current_i:]:\n",
    "    point_index = point_samples[i]    \n",
    "    time = time_samples[i]\n",
    "    print('point_index: ', point_index)  \n",
    "    additional_plotting_kwargs = {'point_indices_to_be_marked_2nd_kind': point_index}\n",
    "    \n",
    "    fig, axes, whether_plotted = show_null_trajectory.make_plots_to_show_monkey_reaction_time(curvature_df,                    \n",
    "                                                                            null_arcs_plotting_kwargs,\n",
    "                                                                            data_item.PlotTrials_args,\n",
    "                                                                            time, \n",
    "                                                                            show_percentile_by_color=False,\n",
    "                                                                            additional_plotting_kwargs=additional_plotting_kwargs)\n",
    "\n",
    "      \n",
    "    if whether_plotted:\n",
    "        axes = fig.axes[0]\n",
    "        axes.set_title(point_index)\n",
    "        plt.show()\n",
    "        plot_counter += 1\n",
    "        current_i = i\n",
    "        \n",
    "    if plot_counter == max_num_plot_to_make:\n",
    "        break"
   ]
  },
  {
   "cell_type": "markdown",
   "metadata": {},
   "source": [
    "### use valid cases"
   ]
  },
  {
   "cell_type": "code",
   "execution_count": null,
   "metadata": {},
   "outputs": [],
   "source": [
    "# the points in index_array are found while inspecting the plots from before\n",
    "\n",
    "### see stats of time difference between the high speed/turning points and the earliest time point when a ff has been visible (has a valid null arc) in the past 1s\n",
    "index_array = np.array([39452, 57299, 60314, 61698, 64730, 66697, 70425, 79691, 83832, 88828, 114760, 129392])\n",
    "diff_time_array = []\n",
    "for index in index_array:\n",
    "    time = monkey_information.loc[index, 'time'].item()\n",
    "    curvature_df_sub = curvature_df[curvature_df.time.between(time-1, time)]\n",
    "    min_time = curvature_df_sub.time.min()\n",
    "    diff_time = time-min_time\n",
    "    # if not na\n",
    "    diff_time_array.append(diff_time)\n",
    "diff_time_array = np.array(diff_time_array)\n",
    "monkey_sub = monkey_information.loc[index_array].copy()\n",
    "monkey_sub['diff_time'] = diff_time_array\n",
    "monkey_sub.sort_values(by='diff_time', ascending=True, inplace=True)"
   ]
  },
  {
   "cell_type": "markdown",
   "metadata": {},
   "source": [
    "#### visual (of valid cases)"
   ]
  },
  {
   "cell_type": "code",
   "execution_count": null,
   "metadata": {},
   "outputs": [],
   "source": [
    "current_i = 0"
   ]
  },
  {
   "cell_type": "code",
   "execution_count": null,
   "metadata": {},
   "outputs": [],
   "source": [
    "plt.rcParams['figure.figsize'] = [7, 7] \n",
    "point_samples = monkey_information_sub2.index.values[::]\n",
    "time_samples = monkey_information_sub2.time.values[::]\n",
    "max_num_plot_to_make = 10\n",
    "\n",
    "max_num_plot_to_make = 3\n",
    "plot_counter = 0\n",
    "for i in range(len(time_samples))[current_i:]:\n",
    "    point_index = point_samples[i]    \n",
    "    time = time_samples[i]\n",
    "    print('point_index: ', point_index)  \n",
    "    additional_plotting_kwargs = {'point_indices_to_be_marked_2nd_kind': point_index}\n",
    "\n",
    "    fig, axes, whether_plotted = show_null_trajectory.make_plots_to_show_monkey_reaction_time(curvature_df,                    \n",
    "                                                                            null_arcs_plotting_kwargs,\n",
    "                                                                            data_item.PlotTrials_args,\n",
    "                                                                            time, \n",
    "                                                                            show_percentile_by_color = False,\n",
    "                                                                            additional_plotting_kwargs=additional_plotting_kwargs)\n",
    "\n",
    "\n",
    "    if whether_plotted:\n",
    "        plt.show()\n",
    "    \n",
    "    plot_counter += 1\n",
    "    current_i = i\n",
    "    if plot_counter == max_num_plot_to_make:\n",
    "        break"
   ]
  },
  {
   "cell_type": "markdown",
   "metadata": {},
   "source": [
    "### stats"
   ]
  },
  {
   "cell_type": "code",
   "execution_count": null,
   "metadata": {},
   "outputs": [],
   "source": [
    "clean_array = pd.Series(diff_time_array).replace([np.inf, -np.inf], np.nan).dropna()\n",
    "\n",
    "if len(clean_array) > 0:\n",
    "    data_range = clean_array.max() - clean_array.min()\n",
    "    bw = min(0.01, data_range / 10) if data_range > 0 else 0.01\n",
    "    sns.histplot(clean_array, binwidth=bw)\n",
    "    plt.show()\n",
    "else:\n",
    "    print(\"No valid data to plot.\")\n"
   ]
  },
  {
   "cell_type": "code",
   "execution_count": null,
   "metadata": {},
   "outputs": [],
   "source": [
    "sns.histplot(monkey_information_sub['speed'], bins=40, stat='probability')\n",
    "plt.show()\n",
    "\n",
    "\n",
    "sns.boxplot(monkey_information_sub['speed'].values)\n",
    "plt.show()\n"
   ]
  },
  {
   "cell_type": "code",
   "execution_count": null,
   "metadata": {},
   "outputs": [],
   "source": [
    "# for every big ddw (but also with big monkey_speed, cause otherwise the monkey might have just stopped)\n",
    "sns.histplot(monkey_information_sub['ang_accel'], bins=40, stat='probability')\n",
    "plt.show()\n",
    "\n",
    "sns.boxplot(monkey_information_sub['ang_accel'].values.copy())\n",
    "plt.show()\n",
    "\n",
    "# see if there's an intended target that has just flashed on not long ago..."
   ]
  }
 ],
 "metadata": {
  "colab": {
   "provenance": [
    {
     "file_id": "1G3e4Qx3gpEEDPI9pKYXBK_bxXCmF4ZmN",
     "timestamp": 1681009405002
    }
   ],
   "toc_visible": true
  },
  "gpuClass": "standard",
  "kernelspec": {
   "display_name": "multiff_clean",
   "language": "python",
   "name": "python3"
  },
  "language_info": {
   "codemirror_mode": {
    "name": "ipython",
    "version": 3
   },
   "file_extension": ".py",
   "mimetype": "text/x-python",
   "name": "python",
   "nbconvert_exporter": "python",
   "pygments_lexer": "ipython3",
   "version": "3.11.11"
  },
  "toc": {
   "base_numbering": 1,
   "nav_menu": {},
   "number_sections": true,
   "sideBar": true,
   "skip_h1_title": false,
   "title_cell": "Table of Contents",
   "title_sidebar": "Contents",
   "toc_cell": true,
   "toc_position": {},
   "toc_section_display": true,
   "toc_window_display": true
  }
 },
 "nbformat": 4,
 "nbformat_minor": 0
}
