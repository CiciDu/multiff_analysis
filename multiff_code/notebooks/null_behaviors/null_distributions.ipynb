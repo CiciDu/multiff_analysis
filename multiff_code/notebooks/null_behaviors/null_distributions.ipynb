{
 "cells": [
  {
   "cell_type": "markdown",
   "metadata": {
    "id": "Ba0IdmwjQ4rv"
   },
   "source": [
    "# Install packages"
   ]
  },
  {
   "cell_type": "markdown",
   "metadata": {
    "id": "D7ubA2G0ql0K"
   },
   "source": [
    "# Import packages"
   ]
  },
  {
   "cell_type": "code",
   "execution_count": null,
   "metadata": {
    "colab": {
     "base_uri": "https://localhost:8080/"
    },
    "executionInfo": {
     "elapsed": 5453,
     "status": "ok",
     "timestamp": 1682801299143,
     "user": {
      "displayName": "Cici Du",
      "userId": "17701548280142155870"
     },
     "user_tz": 300
    },
    "id": "3klBkPC-Q4rw",
    "outputId": "8852847c-257a-4f52-c3a2-86f23fe69624"
   },
   "outputs": [],
   "source": [
    "%load_ext autoreload\n",
    "%autoreload 2\n",
    "\n",
    "from pathlib import Path\n",
    "import os, sys\n",
    "for p in [Path.cwd()] + list(Path.cwd().parents):\n",
    "    if p.name == 'Multifirefly-Project':\n",
    "        os.chdir(p)\n",
    "        sys.path.insert(0, str(p / 'multiff_analysis/multiff_code/methods'))\n",
    "        break\n",
    "\n",
    "    \n",
    "import sys\n",
    "from data_wrangling import specific_utils\n",
    "from null_behaviors import sample_null_distributions\n",
    "from null_behaviors import show_null_trajectory\n",
    "from data_wrangling import further_processing_class\n",
    "\n",
    "\n",
    "import os, sys\n",
    "import warnings\n",
    "import numpy as np\n",
    "import matplotlib\n",
    "import matplotlib.pyplot as plt\n",
    "import pandas as pd\n",
    "from math import pi\n",
    "from matplotlib import rc\n",
    "from numpy import random\n",
    "from importlib import reload\n",
    "import seaborn as sns\n",
    "\n",
    "plt.rcParams[\"animation.html\"] = \"html5\"\n",
    "os.environ['KMP_DUPLICATE_LIB_OK']='True'\n",
    "rc('animation', html='jshtml')\n",
    "matplotlib.rcParams.update(matplotlib.rcParamsDefault)\n",
    "matplotlib.rcParams['animation.embed_limit'] = 2**128\n",
    "pd.set_option('display.float_format', lambda x: '%.5f' % x)\n",
    "np.set_printoptions(suppress=True)\n",
    "print(\"done\")"
   ]
  },
  {
   "cell_type": "markdown",
   "metadata": {},
   "source": [
    "## Retrieve monkey data\n",
    "\n",
    "Note: it's better to use data aggregated across trials. See PatternsAndFeatures class. For now, we'll just use one session's data"
   ]
  },
  {
   "cell_type": "code",
   "execution_count": null,
   "metadata": {},
   "outputs": [],
   "source": [
    "PLAYER = \"monkey\"\n",
    "raw_data_folder_path = \"all_monkey_data/raw_monkey_data/monkey_Bruno/data_0330\"\n",
    "data_item = further_processing_class.FurtherProcessing(raw_data_folder_path=raw_data_folder_path)\n",
    "data_item.retrieve_or_make_monkey_data()\n",
    "data_item.make_or_retrieve_ff_dataframe(exists_ok=True)\n",
    "data_item.find_patterns()\n",
    "\n",
    "data_item.make_or_retrieve_all_trial_patterns(exists_ok=True)\n",
    "data_item.make_or_retrieve_pattern_frequencies(exists_ok=True)\n",
    "data_item.make_or_retrieve_all_trial_features(exists_ok=True)\n",
    "data_item.make_or_retrieve_feature_statistics(exists_ok=True)\n",
    "\n",
    "\n",
    "all_trial_patterns = data_item.all_trial_patterns\n",
    "all_trial_features = data_item.all_trial_features\n",
    "pattern_frequencies = data_item.pattern_frequencies\n",
    "feature_statistics = data_item.feature_statistics\n"
   ]
  },
  {
   "cell_type": "markdown",
   "metadata": {
    "id": "UUqta-TWCz1k"
   },
   "source": [
    "# Null Scenario: Sampling Distributions of Features"
   ]
  },
  {
   "cell_type": "markdown",
   "metadata": {
    "id": "phVXuNZi--vH"
   },
   "source": [
    "We can compare the null distribution to the monkey's distribution"
   ]
  },
  {
   "cell_type": "markdown",
   "metadata": {
    "id": "S3F0KNcfZZhc"
   },
   "source": [
    "**Median time**: we can find that an ideal observer can get to fireflies at this speed. Then we can find the median time of the ideal observer, and express the median time of the monkey as a fraction of the median time of the ideal observer"
   ]
  },
  {
   "cell_type": "markdown",
   "metadata": {
    "id": "PTKcLyY7EreW"
   },
   "source": [
    "**Assumptions**: assume fireflies are fully visible (or the ideal observer has perfect memory): calculate the median time of going from one firefly to the nearest firefly (or firefly that takes least amount of time). Also assume quadratic action cost; so constant velocity\n",
    "\n"
   ]
  },
  {
   "cell_type": "markdown",
   "metadata": {
    "id": "mMcVgMnX3Imf"
   },
   "source": [
    "### run function"
   ]
  },
  {
   "cell_type": "code",
   "execution_count": null,
   "metadata": {},
   "outputs": [],
   "source": [
    "reload(sample_null_distributions)"
   ]
  },
  {
   "cell_type": "code",
   "execution_count": null,
   "metadata": {
    "colab": {
     "base_uri": "https://localhost:8080/"
    },
    "executionInfo": {
     "elapsed": 183137,
     "status": "ok",
     "timestamp": 1681763905106,
     "user": {
      "displayName": "Cici Du",
      "userId": "17701548280142155870"
     },
     "user_tz": 300
    },
    "id": "hBGh_qJctJq7",
    "outputId": "0a885ab7-6c1b-4b3e-8ce8-5b65967a7f77"
   },
   "outputs": [],
   "source": [
    "all_median_time, all_median_distance, all_median_abs_angle, all_median_abs_angle_boundary, \\\n",
    "all_mean_time, all_mean_distance, all_mean_abs_angle, all_mean_abs_angle_boundary, all_total_time = sample_null_distributions.sample_null_distributions_func()\n"
   ]
  },
  {
   "cell_type": "code",
   "execution_count": null,
   "metadata": {},
   "outputs": [],
   "source": [
    "print(np.array(feature_statistics['Label for median']))"
   ]
  },
  {
   "cell_type": "code",
   "execution_count": null,
   "metadata": {
    "colab": {
     "base_uri": "https://localhost:8080/"
    },
    "executionInfo": {
     "elapsed": 106,
     "status": "ok",
     "timestamp": 1681764163685,
     "user": {
      "displayName": "Cici Du",
      "userId": "17701548280142155870"
     },
     "user_tz": 300
    },
    "id": "dXZAltAD7gXU",
    "outputId": "69ed7c81-bafc-484b-d2a0-9aa501de1524"
   },
   "outputs": [],
   "source": [
    "all_null_distr = {'all_median_time': all_median_time,\n",
    "                 'all_median_distance': all_median_distance,\n",
    "                 'all_median_abs_angle': all_median_abs_angle, \n",
    "                 'all_median_abs_angle_boundary': all_median_abs_angle_boundary,\n",
    "                 'all_mean_time': all_mean_time,\n",
    "                 'all_mean_distance': all_mean_distance,\n",
    "                 'all_mean_abs_angle':all_mean_abs_angle,\n",
    "                 'all_mean_abs_angle_boundary': all_mean_abs_angle_boundary,\n",
    "                 'all_total_time':all_total_time\n",
    "}"
   ]
  },
  {
   "cell_type": "markdown",
   "metadata": {
    "id": "po0VrPEt6xTl"
   },
   "source": [
    "Adding a line for monkey's statistic...so ugly...I can just print"
   ]
  },
  {
   "cell_type": "code",
   "execution_count": null,
   "metadata": {
    "colab": {
     "base_uri": "https://localhost:8080/"
    },
    "executionInfo": {
     "elapsed": 137,
     "status": "ok",
     "timestamp": 1681764117534,
     "user": {
      "displayName": "Cici Du",
      "userId": "17701548280142155870"
     },
     "user_tz": 300
    },
    "id": "ttoRFkMz8-GS",
    "outputId": "2c1a4b30-eb98-4fd9-d4f2-1c58dd8b0407"
   },
   "outputs": [],
   "source": [
    "feature_statistics.Item"
   ]
  },
  {
   "cell_type": "markdown",
   "metadata": {
    "id": "-coxMNsl92Qj"
   },
   "source": [
    "### Plot"
   ]
  },
  {
   "cell_type": "code",
   "execution_count": null,
   "metadata": {
    "colab": {
     "base_uri": "https://localhost:8080/",
     "height": 475
    },
    "executionInfo": {
     "elapsed": 556,
     "status": "ok",
     "timestamp": 1681764591954,
     "user": {
      "displayName": "Cici Du",
      "userId": "17701548280142155870"
     },
     "user_tz": 300
    },
    "id": "AweyOxm394eu",
    "outputId": "9eb5f7b3-158e-491a-f161-0a4daef50016"
   },
   "outputs": [],
   "source": [
    "import math\n",
    "null_distr = all_median_abs_angle\n",
    "item_name = 'abs_angle_last_vis'\n",
    "median = feature_statistics.loc[feature_statistics['Item']==item_name, 'Median'].item()\n",
    "sns.histplot(null_distr * 180/math.pi, stat='percent')\n",
    "\n",
    "plt.title('Distribution of Median Absolute Angle Last Seen from 1000 Samples (with 1000 trials each sample)')\n",
    "plt.show()\n",
    "print('Monkey:', median)"
   ]
  },
  {
   "cell_type": "code",
   "execution_count": null,
   "metadata": {
    "colab": {
     "base_uri": "https://localhost:8080/",
     "height": 475
    },
    "executionInfo": {
     "elapsed": 631,
     "status": "ok",
     "timestamp": 1681764626343,
     "user": {
      "displayName": "Cici Du",
      "userId": "17701548280142155870"
     },
     "user_tz": 300
    },
    "id": "IbNUwQu69TU3",
    "outputId": "ec7fe743-ba9c-4f5c-ca22-ed673c6594aa"
   },
   "outputs": [],
   "source": [
    "null_distr = all_median_distance\n",
    "item_name = 'd_last_vis'\n",
    "median = feature_statistics.loc[feature_statistics['Item']==item_name, 'Median'].item()\n",
    "sns.histplot(null_distr, stat='percent')\n",
    "plt.title('Distribution of Median Distance Last Seen from 1000 Samples (with 1000 trials each sample)')\n",
    "plt.show()\n",
    "\n",
    "print('Monkey:', median)"
   ]
  },
  {
   "cell_type": "code",
   "execution_count": null,
   "metadata": {
    "colab": {
     "base_uri": "https://localhost:8080/",
     "height": 475
    },
    "executionInfo": {
     "elapsed": 527,
     "status": "ok",
     "timestamp": 1681763643791,
     "user": {
      "displayName": "Cici Du",
      "userId": "17701548280142155870"
     },
     "user_tz": 300
    },
    "id": "EDsziSfK5XSV",
    "outputId": "47b7d172-c024-47e1-eea6-7103fe60abc8"
   },
   "outputs": [],
   "source": [
    "median = feature_statistics.loc[feature_statistics['Item']=='t', 'Median'].item()\n",
    "sns.histplot(all_median_time, stat='percent')\n",
    "#plt.plot([median, median], [0, 1], linewidth=2)\n",
    "plt.title('Distribution of Median Time from 1000 Samples (with 1000 trials each sample)')\n",
    "plt.show()\n",
    "\n",
    "print('Monkey:', median)\n"
   ]
  },
  {
   "cell_type": "markdown",
   "metadata": {},
   "source": [
    "# Null Scenario: Population distribution of features"
   ]
  },
  {
   "cell_type": "markdown",
   "metadata": {
    "id": "IMfi11nV6EdI"
   },
   "source": [
    "## Median abs angle"
   ]
  },
  {
   "cell_type": "code",
   "execution_count": null,
   "metadata": {
    "colab": {
     "base_uri": "https://localhost:8080/",
     "height": 879
    },
    "executionInfo": {
     "elapsed": 1532,
     "status": "ok",
     "timestamp": 1681414882953,
     "user": {
      "displayName": "Cici Du",
      "userId": "17701548280142155870"
     },
     "user_tz": 300
    },
    "id": "E-7qFlWN6F-y",
    "outputId": "efb1ef41-be9b-4a6f-f56d-12b3e524e175"
   },
   "outputs": [],
   "source": [
    "# Plot distribution of median abs angles of sampled ff that are in front of the monkey (have a positive y coordinate)\n",
    "num_alive_ff = 10000\n",
    "arena_radius = 1000\n",
    "fftheta = random.rand(num_alive_ff) * pi - pi/2\n",
    "ffr = np.sqrt(random.rand(num_alive_ff)) * arena_radius\n",
    "ffx = np.cos(fftheta) * ffr\n",
    "ffy = np.sin(fftheta) * ffr\n",
    "ffxy = np.stack((ffx, ffy), axis=1)\n",
    "distances_to_ff = np.linalg.norm(ffxy, axis = 1)\n",
    "angles_to_boundaries = specific_utils.calculate_angles_to_ff_boundaries(fftheta, distances_to_ff)\n",
    "\n",
    "sns.histplot(fftheta, stat='density')\n",
    "plt.title('Distribution of Absolute Angles')\n",
    "plt.show() \n",
    "sns.histplot(angles_to_boundaries, stat='density')\n",
    "plt.title('Distribution of Absolute Angles to Boundaries')\n",
    "plt.show() \n",
    "\n",
    "\n",
    "# Also print the median of the absolute angles and the medians of the absoluate angles to boundary\n",
    "median_abs_angle = np.median(np.abs(fftheta))\n",
    "median_abs_angle_to_boundary = np.median(np.abs(angles_to_boundaries))\n",
    "print(\"median_abs_angle is\", median_abs_angle)\n",
    "print(\"median_abs_angle_to_boundary is\", median_abs_angle_to_boundary)"
   ]
  },
  {
   "cell_type": "markdown",
   "metadata": {
    "id": "J0c5l04K8t1g"
   },
   "source": [
    "## Median distance"
   ]
  },
  {
   "cell_type": "code",
   "execution_count": null,
   "metadata": {
    "colab": {
     "base_uri": "https://localhost:8080/",
     "height": 504
    },
    "executionInfo": {
     "elapsed": 1819,
     "status": "ok",
     "timestamp": 1681414989190,
     "user": {
      "displayName": "Cici Du",
      "userId": "17701548280142155870"
     },
     "user_tz": 300
    },
    "id": "c3VMazev7h9z",
    "outputId": "e27c06a3-c514-4b03-d63a-e9badc0b6de0"
   },
   "outputs": [],
   "source": [
    "num_alive_ff = 10000\n",
    "arena_radius = 1000\n",
    "ffr = np.sqrt(random.rand(num_alive_ff)) * arena_radius\n",
    "sns.histplot(ffr)\n",
    "plt.show()\n",
    "np.median(ffr)"
   ]
  },
  {
   "cell_type": "markdown",
   "metadata": {},
   "source": [
    "# Null Scenario: Pattern Frequency"
   ]
  },
  {
   "cell_type": "markdown",
   "metadata": {
    "id": "D12ivmdRKhA8"
   },
   "source": [
    "(['two_in_a_row', 'visible_before_last_one', 'disappear_latest', 'waste_cluster_around_target',\n",
    "                                                                   'ignore_sudden_flash', 'give_up_after_trying', 'try_a_few_times', 'ff_capture_rate', 'stop_success_rate'])]"
   ]
  },
  {
   "cell_type": "markdown",
   "metadata": {
    "id": "a8Y5_sp7KibU"
   },
   "source": [
    "## two_in_a_row"
   ]
  },
  {
   "cell_type": "markdown",
   "metadata": {
    "id": "qEFRDwcdKl7z"
   },
   "source": [
    "Suppose the agent can pick up all fireflies in a row. Specifically, the agent will capture all the fireflies in a cluster and then move on to the next cluster, and so on (and a cluster can be just a single ff or multiple ff). \n",
    "\n",
    "So I guess this question comes to the percentage of clusters in the arena "
   ]
  },
  {
   "cell_type": "markdown",
   "metadata": {
    "id": "LB6-tS1_K3gh"
   },
   "source": [
    "I can use algorithm from cluster_analysis.make_point_vs_cluster \n",
    "\n",
    "Here we set the max distance to be 50 cm for 2 ff to be considered in the same cluster"
   ]
  },
  {
   "cell_type": "code",
   "execution_count": null,
   "metadata": {},
   "outputs": [],
   "source": [
    "import numpy as np\n",
    "from numpy.random import default_rng\n",
    "from math import pi\n",
    "import matplotlib.pyplot as plt\n",
    "import seaborn as sns\n",
    "from sklearn.cluster import AgglomerativeClustering\n",
    "\n",
    "rng = default_rng(0)  # reproducible\n",
    "\n",
    "max_cluster_distance = 50.0\n",
    "num_samples = 100\n",
    "num_alive_ff = 200\n",
    "arena_radius = 1000.0\n",
    "\n",
    "scenario_rates = []\n",
    "\n",
    "for _ in range(num_samples):\n",
    "    # Sample 200 fireflies uniformly in a disk of radius=arena_radius\n",
    "    theta = rng.random(num_alive_ff) * 2 * pi\n",
    "    r = np.sqrt(rng.random(num_alive_ff)) * arena_radius\n",
    "    x = np.cos(theta) * r\n",
    "    y = np.sin(theta) * r\n",
    "    xy = np.column_stack((x, y))\n",
    "\n",
    "    # Single-linkage clustering with a hard distance threshold\n",
    "    model = AgglomerativeClustering(\n",
    "        n_clusters=None,\n",
    "        distance_threshold=max_cluster_distance,\n",
    "        linkage=\"single\",\n",
    "        metric=\"euclidean\",\n",
    "    ).fit(xy)\n",
    "\n",
    "    labels = model.labels_\n",
    "    counts = np.bincount(labels)\n",
    "\n",
    "     # for each cluster with n > 1 ff, we count n-1 ff to be categorized as 'two in a row'\n",
    "    multi_counts = counts[counts > 1]\n",
    "    two_in_a_row_rate = (multi_counts.sum() - len(multi_counts)) / num_alive_ff\n",
    "    scenario_rates.append(two_in_a_row_rate)\n",
    "\n",
    "scenario_rates = np.asarray(scenario_rates)\n",
    "\n",
    "sns.histplot(scenario_rates, bins=30, stat=\"density\")\n",
    "plt.xlabel(\"Two-in-a-row scenario rate\")\n",
    "plt.ylabel(\"Density\")\n",
    "plt.title(\"Distribution over simulations\")\n",
    "plt.show()\n",
    "\n",
    "print(\"Median rate:\", float(np.median(scenario_rates)))\n"
   ]
  }
 ],
 "metadata": {
  "colab": {
   "provenance": []
  },
  "kernelspec": {
   "display_name": "multiff_clean",
   "language": "python",
   "name": "python3"
  },
  "language_info": {
   "codemirror_mode": {
    "name": "ipython",
    "version": 3
   },
   "file_extension": ".py",
   "mimetype": "text/x-python",
   "name": "python",
   "nbconvert_exporter": "python",
   "pygments_lexer": "ipython3",
   "version": "3.11.11"
  }
 },
 "nbformat": 4,
 "nbformat_minor": 0
}
