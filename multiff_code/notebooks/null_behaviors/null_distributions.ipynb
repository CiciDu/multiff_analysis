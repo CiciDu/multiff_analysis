{
 "cells": [
  {
   "cell_type": "markdown",
   "metadata": {
    "id": "Ba0IdmwjQ4rv"
   },
   "source": [
    "# Install packages"
   ]
  },
  {
   "cell_type": "code",
   "execution_count": null,
   "metadata": {
    "colab": {
     "base_uri": "https://localhost:8080/"
    },
    "executionInfo": {
     "elapsed": 28808,
     "status": "ok",
     "timestamp": 1682801293695,
     "user": {
      "displayName": "Cici Du",
      "userId": "17701548280142155870"
     },
     "user_tz": 300
    },
    "id": "37EL1grMQ4rw",
    "outputId": "0b7878c2-bd6f-461c-b516-4dd5e51b4e82"
   },
   "outputs": [],
   "source": [
    "from google.colab import drive # import drive from google colab\n",
    "drive.mount(\"/content/drive\") \n",
    "!pip install neo\n",
    "!pip install matplotlib_scalebar\n",
    "!pip install ffmpeg\n",
    "!pip install Ipython --upgrade\n",
    "!pip3 install setuptools==65.5.0\n",
    "%load_ext autoreload\n",
    "%autoreload 2"
   ]
  },
  {
   "cell_type": "markdown",
   "metadata": {
    "id": "D7ubA2G0ql0K"
   },
   "source": [
    "# Import packages"
   ]
  },
  {
   "cell_type": "code",
   "execution_count": null,
   "metadata": {
    "colab": {
     "base_uri": "https://localhost:8080/"
    },
    "executionInfo": {
     "elapsed": 5453,
     "status": "ok",
     "timestamp": 1682801299143,
     "user": {
      "displayName": "Cici Du",
      "userId": "17701548280142155870"
     },
     "user_tz": 300
    },
    "id": "3klBkPC-Q4rw",
    "outputId": "8852847c-257a-4f52-c3a2-86f23fe69624"
   },
   "outputs": [],
   "source": [
    "%load_ext autoreload\n",
    "%autoreload 2\n",
    "\n",
    "from pathlib import Path\n",
    "import os, sys\n",
    "for p in [Path.cwd()] + list(Path.cwd().parents):\n",
    "    if p.name == 'Multifirefly-Project':\n",
    "        os.chdir(p)\n",
    "        sys.path.insert(0, str(p / 'multiff_analysis/multiff_code/methods'))\n",
    "        break\n",
    "\n",
    "    \n",
    "import sys\n",
    " \n",
    "\n",
    "from data_wrangling import specific_utils\n",
    "from null_behaviors import sample_null_distributions\n",
    "\n",
    "\n",
    "import os, sys\n",
    "import warnings\n",
    "import numpy as np\n",
    "import matplotlib\n",
    "import matplotlib.pyplot as plt\n",
    "import pandas as pd\n",
    "from math import pi\n",
    "from matplotlib import rc\n",
    "from numpy import random\n",
    "\n",
    "plt.rcParams[\"animation.html\"] = \"html5\"\n",
    "os.environ['KMP_DUPLICATE_LIB_OK']='True'\n",
    "rc('animation', html='jshtml')\n",
    "matplotlib.rcParams.update(matplotlib.rcParamsDefault)\n",
    "matplotlib.rcParams['animation.embed_limit'] = 2**128\n",
    "pd.set_option('display.float_format', lambda x: '%.5f' % x)\n",
    "np.set_printoptions(suppress=True)\n",
    "print(\"done\")"
   ]
  },
  {
   "cell_type": "markdown",
   "metadata": {
    "id": "UUqta-TWCz1k"
   },
   "source": [
    "# Null distributions of features"
   ]
  },
  {
   "cell_type": "markdown",
   "metadata": {
    "id": "phVXuNZi--vH"
   },
   "source": [
    "Then I can compare the null distribution to the monkey's distribution"
   ]
  },
  {
   "cell_type": "markdown",
   "metadata": {
    "id": "AVxdn9G_6DHM"
   },
   "source": [
    "## Median time"
   ]
  },
  {
   "cell_type": "markdown",
   "metadata": {
    "id": "S3F0KNcfZZhc"
   },
   "source": [
    "**Median time**: we can find that an ideal observer can get to fireflies at this speed. Then we can find the median time of the ideal observer, and express the median time of the monkey as a fraction of the median time of the ideal observer"
   ]
  },
  {
   "cell_type": "markdown",
   "metadata": {
    "id": "PTKcLyY7EreW"
   },
   "source": [
    "**Assumptions**: assume fireflies are fully visible (or the ideal observer has perfect memory): calculate the median time of going from one firefly to the nearest firefly (or firefly that takes least amount of time). Also assume quadratic action cost; so constant velocity\n",
    "\n"
   ]
  },
  {
   "cell_type": "code",
   "execution_count": null,
   "metadata": {
    "colab": {
     "base_uri": "https://localhost:8080/"
    },
    "executionInfo": {
     "elapsed": 130,
     "status": "ok",
     "timestamp": 1681763389145,
     "user": {
      "displayName": "Cici Du",
      "userId": "17701548280142155870"
     },
     "user_tz": 300
    },
    "id": "rkiVcPn76GbF",
    "outputId": "a5b1da6a-bdd7-434a-f645-88bae4bcefbe"
   },
   "outputs": [],
   "source": [
    "all_median_time = returned_dist[0]"
   ]
  },
  {
   "cell_type": "code",
   "execution_count": null,
   "metadata": {
    "colab": {
     "base_uri": "https://localhost:8080/"
    },
    "executionInfo": {
     "elapsed": 545,
     "status": "ok",
     "timestamp": 1681763476533,
     "user": {
      "displayName": "Cici Du",
      "userId": "17701548280142155870"
     },
     "user_tz": 300
    },
    "id": "he7XboHn6Vou",
    "outputId": "e3a5fb64-c759-4d46-f849-b0cbb1c59648"
   },
   "outputs": [],
   "source": [
    "median = agg_feature_statistics.loc[agg_feature_statistics['Item']=='t', 'Median'].item()"
   ]
  },
  {
   "cell_type": "markdown",
   "metadata": {
    "id": "mMcVgMnX3Imf"
   },
   "source": [
    "### run function"
   ]
  },
  {
   "cell_type": "code",
   "execution_count": null,
   "metadata": {
    "colab": {
     "base_uri": "https://localhost:8080/"
    },
    "executionInfo": {
     "elapsed": 183137,
     "status": "ok",
     "timestamp": 1681763905106,
     "user": {
      "displayName": "Cici Du",
      "userId": "17701548280142155870"
     },
     "user_tz": 300
    },
    "id": "hBGh_qJctJq7",
    "outputId": "0a885ab7-6c1b-4b3e-8ce8-5b65967a7f77"
   },
   "outputs": [],
   "source": [
    "all_median_time, all_median_distance, all_median_abs_angle, all_median_abs_angle_boundary, \\\n",
    "all_mean_time, all_mean_distance, all_mean_abs_angle, all_mean_abs_angle_boundary, all_total_time = sample_null_distributions.sample_null_distributions_func()\n"
   ]
  },
  {
   "cell_type": "code",
   "execution_count": null,
   "metadata": {
    "colab": {
     "base_uri": "https://localhost:8080/"
    },
    "executionInfo": {
     "elapsed": 187,
     "status": "ok",
     "timestamp": 1681763997296,
     "user": {
      "displayName": "Cici Du",
      "userId": "17701548280142155870"
     },
     "user_tz": 300
    },
    "id": "H8BAqTD68dUF",
    "outputId": "21d0f5db-d390-41a9-8c27-9ef63492e9db"
   },
   "outputs": [],
   "source": [
    "print(np.array(agg_feature_statistics['Label for median']))"
   ]
  },
  {
   "cell_type": "code",
   "execution_count": null,
   "metadata": {
    "colab": {
     "base_uri": "https://localhost:8080/"
    },
    "executionInfo": {
     "elapsed": 106,
     "status": "ok",
     "timestamp": 1681764163685,
     "user": {
      "displayName": "Cici Du",
      "userId": "17701548280142155870"
     },
     "user_tz": 300
    },
    "id": "dXZAltAD7gXU",
    "outputId": "69ed7c81-bafc-484b-d2a0-9aa501de1524"
   },
   "outputs": [],
   "source": [
    "all_null_distr = {'all_median_time': all_median_time,\n",
    "                 'all_median_distance': all_median_distance,\n",
    "                 'all_median_abs_angle': all_median_abs_angle, \n",
    "                 'all_median_abs_angle_boundary': all_median_abs_angle_boundary,\n",
    "                 'all_mean_time': all_mean_time,\n",
    "                 'all_mean_distance': all_mean_distance,\n",
    "                 'all_mean_abs_angle':all_mean_abs_angle,\n",
    "                 'all_mean_abs_angle_boundary': all_mean_abs_angle_boundary,\n",
    "                 'all_total_time':all_total_time\n",
    "}"
   ]
  },
  {
   "cell_type": "code",
   "execution_count": null,
   "metadata": {
    "id": "PUgIHxF784e6"
   },
   "outputs": [],
   "source": []
  },
  {
   "cell_type": "markdown",
   "metadata": {
    "id": "po0VrPEt6xTl"
   },
   "source": [
    "Adding a line for monkey's statistic...so ugly...I can just print"
   ]
  },
  {
   "cell_type": "code",
   "execution_count": null,
   "metadata": {
    "colab": {
     "base_uri": "https://localhost:8080/"
    },
    "executionInfo": {
     "elapsed": 137,
     "status": "ok",
     "timestamp": 1681764117534,
     "user": {
      "displayName": "Cici Du",
      "userId": "17701548280142155870"
     },
     "user_tz": 300
    },
    "id": "ttoRFkMz8-GS",
    "outputId": "2c1a4b30-eb98-4fd9-d4f2-1c58dd8b0407"
   },
   "outputs": [],
   "source": [
    "agg_feature_statistics.Item"
   ]
  },
  {
   "cell_type": "code",
   "execution_count": null,
   "metadata": {
    "colab": {
     "base_uri": "https://localhost:8080/",
     "height": 452
    },
    "executionInfo": {
     "elapsed": 1284,
     "status": "ok",
     "timestamp": 1681764610510,
     "user": {
      "displayName": "Cici Du",
      "userId": "17701548280142155870"
     },
     "user_tz": 300
    },
    "id": "WYn6MPxz9Qhs",
    "outputId": "1948a686-4a7c-4dec-ed21-f03183e1faeb"
   },
   "outputs": [],
   "source": [
    "\n",
    "median = agg_feature_statistics.loc[agg_feature_statistics['Item']==item_name, 'Median'].item()\n",
    "sns.histplot(null_distr, stat='percent')\n",
    "#plt.plot([median, median], [0, 1], linewidth=2)\n",
    "\n",
    "plt.show()\n",
    "\n",
    "plt.title('Distribution of Median Distance from 1000 Samples')\n"
   ]
  },
  {
   "cell_type": "code",
   "execution_count": null,
   "metadata": {
    "id": "94F6Ekyv9s6n"
   },
   "outputs": [],
   "source": [
    "def plot_null_distr_median(null_distr = all_median_distance, item_name = 'd_last_vis'):"
   ]
  },
  {
   "cell_type": "markdown",
   "metadata": {
    "id": "-coxMNsl92Qj"
   },
   "source": [
    "### Plot"
   ]
  },
  {
   "cell_type": "code",
   "execution_count": null,
   "metadata": {
    "id": "T9QYnLZN-DcB"
   },
   "outputs": [],
   "source": [
    "all_median_abs_angle"
   ]
  },
  {
   "cell_type": "code",
   "execution_count": null,
   "metadata": {
    "colab": {
     "base_uri": "https://localhost:8080/",
     "height": 475
    },
    "executionInfo": {
     "elapsed": 556,
     "status": "ok",
     "timestamp": 1681764591954,
     "user": {
      "displayName": "Cici Du",
      "userId": "17701548280142155870"
     },
     "user_tz": 300
    },
    "id": "AweyOxm394eu",
    "outputId": "9eb5f7b3-158e-491a-f161-0a4daef50016"
   },
   "outputs": [],
   "source": [
    "null_distr = all_median_abs_angle\n",
    "item_name = 'abs_angle_last_vis'\n",
    "median = agg_feature_statistics.loc[agg_feature_statistics['Item']==item_name, 'Median'].item()\n",
    "sns.histplot(null_distr, stat='percent')\n",
    "\n",
    "plt.title('Distribution of Median Absolute Angle from 1000 Samples')\n",
    "plt.show()\n",
    "print('Monkey:', median)"
   ]
  },
  {
   "cell_type": "code",
   "execution_count": null,
   "metadata": {
    "colab": {
     "base_uri": "https://localhost:8080/",
     "height": 475
    },
    "executionInfo": {
     "elapsed": 631,
     "status": "ok",
     "timestamp": 1681764626343,
     "user": {
      "displayName": "Cici Du",
      "userId": "17701548280142155870"
     },
     "user_tz": 300
    },
    "id": "IbNUwQu69TU3",
    "outputId": "ec7fe743-ba9c-4f5c-ca22-ed673c6594aa"
   },
   "outputs": [],
   "source": [
    "null_distr = all_median_distance\n",
    "item_name = 'd_last_vis'\n",
    "median = agg_feature_statistics.loc[agg_feature_statistics['Item']==item_name, 'Median'].item()\n",
    "sns.histplot(null_distr, stat='percent')\n",
    "plt.title('Distribution of Median Distance from 1000 Samples')\n",
    "plt.show()\n",
    "\n",
    "print('Monkey:', median)"
   ]
  },
  {
   "cell_type": "code",
   "execution_count": null,
   "metadata": {
    "colab": {
     "base_uri": "https://localhost:8080/",
     "height": 475
    },
    "executionInfo": {
     "elapsed": 527,
     "status": "ok",
     "timestamp": 1681763643791,
     "user": {
      "displayName": "Cici Du",
      "userId": "17701548280142155870"
     },
     "user_tz": 300
    },
    "id": "EDsziSfK5XSV",
    "outputId": "47b7d172-c024-47e1-eea6-7103fe60abc8"
   },
   "outputs": [],
   "source": [
    "median = agg_feature_statistics.loc[agg_feature_statistics['Item']=='t', 'Median'].item()\n",
    "sns.histplot(all_median_time, stat='percent')\n",
    "#plt.plot([median, median], [0, 1], linewidth=2)\n",
    "plt.title('Distribution of Median Time from 1000 Samples')\n",
    "plt.show()\n",
    "\n",
    "print('Monkey:', median)\n",
    "\n",
    "\n",
    "\n",
    "sns.histplot(all_median_time, stat='percent')\n",
    "#plt.plot([median, median], [0, 1], linewidth=2)\n",
    "plt.title('Distribution of Median Time from 1000 Samples')\n",
    "plt.show()\n",
    "\n",
    "print('Monkey:', median)\n",
    "\n",
    "\n",
    "sns.histplot(all_median_time, stat='percent')\n",
    "#plt.plot([median, median], [0, 1], linewidth=2)\n",
    "plt.title('Distribution of Median Time from 1000 Samples')\n",
    "plt.show()\n",
    "\n",
    "print('Monkey:', median)\n",
    "\n",
    "sns.histplot(all_median_time, stat='percent')\n",
    "#plt.plot([median, median], [0, 1], linewidth=2)\n",
    "plt.title('Distribution of Median Time from 1000 Samples')\n",
    "plt.show()\n",
    "\n",
    "print('Monkey:', median)\n",
    "\n"
   ]
  },
  {
   "cell_type": "markdown",
   "metadata": {
    "id": "ItOjDP1WsrUf"
   },
   "source": []
  },
  {
   "cell_type": "markdown",
   "metadata": {
    "id": "uVTZU-l7Ab-c"
   },
   "source": [
    "I can probably save all_median_time since it takes a while"
   ]
  },
  {
   "cell_type": "markdown",
   "metadata": {
    "id": "V0pNCDjVQA5e"
   },
   "source": [
    "## ff_capture_rate"
   ]
  },
  {
   "cell_type": "code",
   "execution_count": null,
   "metadata": {
    "id": "J7uuCYIo_JTY"
   },
   "outputs": [],
   "source": []
  },
  {
   "cell_type": "markdown",
   "metadata": {
    "id": "md80jNC0B30M"
   },
   "source": [
    "### All pooled"
   ]
  },
  {
   "cell_type": "code",
   "execution_count": null,
   "metadata": {
    "colab": {
     "base_uri": "https://localhost:8080/"
    },
    "executionInfo": {
     "elapsed": 371,
     "status": "ok",
     "timestamp": 1681417493889,
     "user": {
      "displayName": "Cici Du",
      "userId": "17701548280142155870"
     },
     "user_tz": 300
    },
    "id": "af2F3nJvSaMA",
    "outputId": "ed5d3f2e-c25d-495b-e87b-9d26a7d740a9"
   },
   "outputs": [],
   "source": [
    "len(all_min_time)/all_min_time.sum()"
   ]
  },
  {
   "cell_type": "markdown",
   "metadata": {
    "id": "-2t8uLN3B6Dc"
   },
   "source": [
    "### By trials"
   ]
  },
  {
   "cell_type": "code",
   "execution_count": null,
   "metadata": {
    "id": "n_F-WrkoB7fl"
   },
   "outputs": [],
   "source": [
    "num_trials_per_sample/all_total_time"
   ]
  },
  {
   "cell_type": "markdown",
   "metadata": {
    "id": "IMfi11nV6EdI"
   },
   "source": [
    "## Median abs angle"
   ]
  },
  {
   "cell_type": "markdown",
   "metadata": {
    "id": "6Le13F1RDWaS"
   },
   "source": [
    "### All pooled"
   ]
  },
  {
   "cell_type": "code",
   "execution_count": null,
   "metadata": {
    "colab": {
     "base_uri": "https://localhost:8080/",
     "height": 879
    },
    "executionInfo": {
     "elapsed": 1532,
     "status": "ok",
     "timestamp": 1681414882953,
     "user": {
      "displayName": "Cici Du",
      "userId": "17701548280142155870"
     },
     "user_tz": 300
    },
    "id": "E-7qFlWN6F-y",
    "outputId": "efb1ef41-be9b-4a6f-f56d-12b3e524e175"
   },
   "outputs": [],
   "source": [
    "# Sample 10000 fireflies that are in front of the monkey (have a positive y coordinate)\n",
    "num_alive_ff = 10000\n",
    "fftheta = random.rand(num_alive_ff) * pi\n",
    "# Find the median of the absolute angles\n",
    "median_abs_angle = np.median(np.abs(fftheta))\n",
    "# And then find the medians of the absoluate angles to boundary\n",
    "arena_radius = 1000\n",
    "ffr = np.sqrt(random.rand(num_alive_ff)) * arena_radius\n",
    "ffx = np.cos(fftheta) * ffr\n",
    "ffy = np.sin(fftheta) * ffr\n",
    "ffxy = np.stack((ffx, ffy), axis=1)\n",
    "distances_to_ff = np.linalg.norm(ffxy, axis = 1)\n",
    "angles_to_boundaries = specific_utils.calculate_angles_to_ff_boundaries(fftheta, distances_to_ff)\n",
    "median_abs_angle_to_boundary = np.median(np.abs(angles_to_boundaries))\n",
    "print(\"median_abs_angle is\", median_abs_angle)\n",
    "print(\"median_abs_angle_to_boundary is\", median_abs_angle_to_boundary)\n",
    "sns.histplot(fftheta)\n",
    "plt.show() \n",
    "sns.histplot(angles_to_boundaries)\n",
    "plt.show() "
   ]
  },
  {
   "cell_type": "markdown",
   "metadata": {
    "id": "L9tyyxFzDbNW"
   },
   "source": [
    "### by trials"
   ]
  },
  {
   "cell_type": "code",
   "execution_count": null,
   "metadata": {
    "id": "biCmvfbEDdfb"
   },
   "outputs": [],
   "source": [
    "# Sample 10000 fireflies that are in front of the monkey (have a positive y coordinate)\n",
    "num_alive_ff = 10000 \n",
    "fftheta = random.rand(num_alive_ff) * pi\n",
    "# Find the median of the absolute angles\n",
    "median_abs_angle = np.median(np.abs(fftheta))\n",
    "# And then find the medians of the absoluate angles to boundary\n",
    "arena_radius = 1000\n",
    "ffr = np.sqrt(random.rand(num_alive_ff)) * arena_radius\n",
    "ffx = np.cos(fftheta) * ffr\n",
    "ffy = np.sin(fftheta) * ffr\n",
    "ffxy = np.stack((ffx, ffy), axis=1)\n",
    "distances_to_ff = np.linalg.norm(ffxy, axis = 1)\n",
    "angles_to_boundaries = specific_utils.calculate_angles_to_ff_boundaries(fftheta, distances_to_ff)\n",
    "median_abs_angle_to_boundary = np.median(np.abs(angles_to_boundaries))\n",
    "print(\"median_abs_angle is\", median_abs_angle)\n",
    "print(\"median_abs_angle_to_boundary is\", median_abs_angle_to_boundary)\n",
    "sns.histplot(fftheta)\n",
    "plt.show()\n",
    "sns.histplot(angles_to_boundaries)\n",
    "plt.show()"
   ]
  },
  {
   "cell_type": "markdown",
   "metadata": {
    "id": "J0c5l04K8t1g"
   },
   "source": [
    "## Median distance"
   ]
  },
  {
   "cell_type": "code",
   "execution_count": null,
   "metadata": {
    "colab": {
     "base_uri": "https://localhost:8080/",
     "height": 504
    },
    "executionInfo": {
     "elapsed": 1819,
     "status": "ok",
     "timestamp": 1681414989190,
     "user": {
      "displayName": "Cici Du",
      "userId": "17701548280142155870"
     },
     "user_tz": 300
    },
    "id": "c3VMazev7h9z",
    "outputId": "e27c06a3-c514-4b03-d63a-e9badc0b6de0"
   },
   "outputs": [],
   "source": [
    "num_alive_ff = 10000\n",
    "arena_radius = 1000\n",
    "ffr = np.sqrt(random.rand(num_alive_ff)) * arena_radius\n",
    "sns.histplot(ffr)\n",
    "plt.show()\n",
    "np.median(ffr)"
   ]
  },
  {
   "cell_type": "markdown",
   "metadata": {
    "id": "D12ivmdRKhA8"
   },
   "source": [
    "(['two_in_a_row', 'visible_before_last_one', 'disappear_latest', 'waste_cluster_around_target',\n",
    "                                                                   'ignore_sudden_flash', 'give_up_after_trying', 'try_a_few_times', 'ff_capture_rate', 'stop_success_rate'])]"
   ]
  },
  {
   "cell_type": "markdown",
   "metadata": {
    "id": "a8Y5_sp7KibU"
   },
   "source": [
    "## two_in_a_row"
   ]
  },
  {
   "cell_type": "markdown",
   "metadata": {
    "id": "qEFRDwcdKl7z"
   },
   "source": [
    "Suppose the agent can pick up all fireflies in a row. So I guess this question comes to the percentage of clusters in the arena "
   ]
  },
  {
   "cell_type": "markdown",
   "metadata": {
    "id": "LB6-tS1_K3gh"
   },
   "source": [
    "I can use algorithm from cluster_analysis.make_point_vs_cluster "
   ]
  },
  {
   "cell_type": "code",
   "execution_count": null,
   "metadata": {
    "id": "Ti9bScgcKOl0"
   },
   "outputs": [],
   "source": [
    "scenario_rates = []\n",
    "with warnings.catch_warnings():\n",
    "    warnings.simplefilter(\"ignore\")\n",
    "    max_cluster_distance = 50\n",
    "    # For each of 10000 samples \n",
    "    all_min_time = []\n",
    "    for sample in range(100):\n",
    "        # Suppose the monkey is at the orgin, sample 200 fireflies following poisson distribution\n",
    "        num_alive_ff = 200\n",
    "        arena_radius = 1000\n",
    "        fftheta = random.rand(num_alive_ff) * 2 * pi\n",
    "        # And then sample a radius for each ff and get the x, y coordinates\n",
    "        ffr = np.sqrt(random.rand(len(fftheta))) * arena_radius\n",
    "        ffx = np.cos(fftheta) * ffr\n",
    "        ffy = np.sin(fftheta) * ffr\n",
    "        ffxy = np.stack((ffx, ffy), axis=1)\n",
    "\n",
    "\n",
    "        # Use the function scipy.cluster.hierarchy.linkage\n",
    "        # method = \"single\" means that we're using the Nearest Point Algorithm\n",
    "        # In the returned array, each row is a procedure of combining two components into one cluster (the closer two components are, the sooner they'll be combined); \n",
    "        # there are n-1 rows in total in the returned variable\n",
    "        linked = linkage(ffxy, method='single')\n",
    "\n",
    "        # In order to find the number of clusters that satisfy our requirements, we'll first find the number of rows from linked\n",
    "        # where the two components of the cluster are greater than max_cluster_distance (100 cm as default). \n",
    "        # If this number is n, then it means that at one point in the procedure, there are n+1 clusters that all satisfy our requirements, \n",
    "        # and then these clusters are condensed into 1 big cluster through combining two clusters into one and repearting the procedure;\n",
    "        # However, these final steps of combining are invalid for our use since all the n+1 clusters are further apart than max_cluster_distance;\n",
    "        # Thus, we know that we can separate the fireflies into at most n+1 clusters that satisfy our requirement\n",
    "        # that each firefly is within 50 cm of its nearest firefly in the cluster.\n",
    "        num_clusters = sum(linked[:, 2] > max_cluster_distance)+1  \n",
    "\n",
    "\n",
    "        # This time, we assign the fireflies into the number of clusters we just found, so that we know which cluster each firefly belongs to.\n",
    "        # The variable \"cluster_labels\" contains the cluster label for each firefly\n",
    "        cluster_labels = AgglomerativeClustering(n_clusters=num_clusters, affinity='euclidean', linkage='single').fit_predict(ffxy)\n",
    "        # Find the clusters that have more than one firefly\n",
    "        unique_cluster_labels, ff_counts = np.unique(cluster_labels, return_counts=True)\n",
    "        clusters_w_more_than_1_ff = ff_counts[ff_counts > 1]\n",
    "        two_in_a_row_scenario_rate = (np.sum(clusters_w_more_than_1_ff) - len(clusters_w_more_than_1_ff))/200\n",
    "        scenario_rates.append(two_in_a_row_scenario_rate)\n",
    "\n",
    "scenario_rates = np.array(scenario_rates)\n",
    "sns.histplot(scenario_rates)\n",
    "plt.show()\n",
    "np.median(scenario_rates)"
   ]
  }
 ],
 "metadata": {
  "colab": {
   "provenance": []
  },
  "kernelspec": {
   "display_name": "Python 3",
   "name": "python3"
  },
  "language_info": {
   "name": "python"
  }
 },
 "nbformat": 4,
 "nbformat_minor": 0
}
