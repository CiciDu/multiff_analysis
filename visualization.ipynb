{
	"cells": [
		{
			"cell_type": "markdown",
			"metadata": {
				"id": "r45VpQGQ4cLd"
			},
			"source": [
				"<h1>Table of Contents<span class=\"tocSkip\"></span></h1>\n",
				"<div class=\"toc\"><ul class=\"toc-item\"><li><span><a href=\"#Install-packages\" data-toc-modified-id=\"Install-packages-1\"><span class=\"toc-item-num\">1&nbsp;&nbsp;</span>Install packages</a></span></li><li><span><a href=\"#Import-packages\" data-toc-modified-id=\"Import-packages-2\"><span class=\"toc-item-num\">2&nbsp;&nbsp;</span>Import packages</a></span></li><li><span><a href=\"#Retrieve-data\" data-toc-modified-id=\"Retrieve-data-3\"><span class=\"toc-item-num\">3&nbsp;&nbsp;</span>Retrieve data</a></span><ul class=\"toc-item\"><li><span><a href=\"#Monkey-data\" data-toc-modified-id=\"Monkey-data-3.1\"><span class=\"toc-item-num\">3.1&nbsp;&nbsp;</span>Monkey data</a></span></li><li><span><a href=\"#SB3-agent-data\" data-toc-modified-id=\"SB3-agent-data-3.2\"><span class=\"toc-item-num\">3.2&nbsp;&nbsp;</span>SB3 agent data</a></span></li><li><span><a href=\"#LSTM-agent-data\" data-toc-modified-id=\"LSTM-agent-data-3.3\"><span class=\"toc-item-num\">3.3&nbsp;&nbsp;</span>LSTM agent data</a></span></li></ul></li><li><span><a href=\"#Additional-data-processing\" data-toc-modified-id=\"Additional-data-processing-4\"><span class=\"toc-item-num\">4&nbsp;&nbsp;</span>Additional data processing</a></span><ul class=\"toc-item\"><li><span><a href=\"#Make-important-dataframes\" data-toc-modified-id=\"Make-important-dataframes-4.1\"><span class=\"toc-item-num\">4.1&nbsp;&nbsp;</span>Make important dataframes</a></span></li><li><span><a href=\"#Find-patterns\" data-toc-modified-id=\"Find-patterns-4.2\"><span class=\"toc-item-num\">4.2&nbsp;&nbsp;</span>Find patterns</a></span></li></ul></li><li><span><a href=\"#Plot-side_by_side\" data-toc-modified-id=\"Plot-side_by_side-5\"><span class=\"toc-item-num\">5&nbsp;&nbsp;</span>Plot side_by_side</a></span></li><li><span><a href=\"#Plot-categories\" data-toc-modified-id=\"Plot-categories-6\"><span class=\"toc-item-num\">6&nbsp;&nbsp;</span>Plot categories</a></span><ul class=\"toc-item\"><li><span><a href=\"#2-in-a-row\" data-toc-modified-id=\"2-in-a-row-6.1\"><span class=\"toc-item-num\">6.1&nbsp;&nbsp;</span>2 in a row</a></span></li><li><span><a href=\"#Visible-before-last-one\" data-toc-modified-id=\"Visible-before-last-one-6.2\"><span class=\"toc-item-num\">6.2&nbsp;&nbsp;</span>Visible before last one</a></span></li><li><span><a href=\"#Disappear-latest\" data-toc-modified-id=\"Disappear-latest-6.3\"><span class=\"toc-item-num\">6.3&nbsp;&nbsp;</span>Disappear latest</a></span></li><li><span><a href=\"#Cluster-of-fireflies\" data-toc-modified-id=\"Cluster-of-fireflies-6.4\"><span class=\"toc-item-num\">6.4&nbsp;&nbsp;</span>Cluster of fireflies</a></span></li><li><span><a href=\"#Waste-cluster\" data-toc-modified-id=\"Waste-cluster-6.5\"><span class=\"toc-item-num\">6.5&nbsp;&nbsp;</span>Waste cluster</a></span></li><li><span><a href=\"#Cluster-around-targets\" data-toc-modified-id=\"Cluster-around-targets-6.6\"><span class=\"toc-item-num\">6.6&nbsp;&nbsp;</span>Cluster around targets</a></span></li><li><span><a href=\"#Waste-cluster-around-last-target\" data-toc-modified-id=\"Waste-cluster-around-last-target-6.7\"><span class=\"toc-item-num\">6.7&nbsp;&nbsp;</span>Waste cluster around last target</a></span></li><li><span><a href=\"#Ignore-sudden-flash\" data-toc-modified-id=\"Ignore-sudden-flash-6.8\"><span class=\"toc-item-num\">6.8&nbsp;&nbsp;</span>Ignore sudden flash</a></span></li><li><span><a href=\"#Try-a-few-times\" data-toc-modified-id=\"Try-a-few-times-6.9\"><span class=\"toc-item-num\">6.9&nbsp;&nbsp;</span>Try a few times</a></span></li><li><span><a href=\"#Give-up-after-trying\" data-toc-modified-id=\"Give-up-after-trying-6.10\"><span class=\"toc-item-num\">6.10&nbsp;&nbsp;</span>Give up after trying</a></span></li></ul></li><li><span><a href=\"#Subplots\" data-toc-modified-id=\"Subplots-7\"><span class=\"toc-item-num\">7&nbsp;&nbsp;</span>Subplots</a></span><ul class=\"toc-item\"><li><span><a href=\"#Visible-before-last-one\" data-toc-modified-id=\"Visible-before-last-one-7.1\"><span class=\"toc-item-num\">7.1&nbsp;&nbsp;</span>Visible before last one</a></span></li><li><span><a href=\"#Polar:-Targets-+-other-ff-with-memory\" data-toc-modified-id=\"Polar:-Targets-+-other-ff-with-memory-7.2\"><span class=\"toc-item-num\">7.2&nbsp;&nbsp;</span>Polar: Targets + other ff with memory</a></span></li></ul></li><li><span><a href=\"#Polar\" data-toc-modified-id=\"Polar-8\"><span class=\"toc-item-num\">8&nbsp;&nbsp;</span>Polar</a></span><ul class=\"toc-item\"><li><ul class=\"toc-item\"><li><span><a href=\"#Static\" data-toc-modified-id=\"Static-8.0.1\"><span class=\"toc-item-num\">8.0.1&nbsp;&nbsp;</span>Static</a></span></li><li><span><a href=\"#Animation\" data-toc-modified-id=\"Animation-8.0.2\"><span class=\"toc-item-num\">8.0.2&nbsp;&nbsp;</span>Animation</a></span></li></ul></li></ul></li><li><span><a href=\"#Plot-statistics\" data-toc-modified-id=\"Plot-statistics-9\"><span class=\"toc-item-num\">9&nbsp;&nbsp;</span>Plot statistics</a></span><ul class=\"toc-item\"><li><span><a href=\"#Calculate-statistics-of-patterns\" data-toc-modified-id=\"Calculate-statistics-of-patterns-9.1\"><span class=\"toc-item-num\">9.1&nbsp;&nbsp;</span>Calculate statistics of patterns</a></span></li><li><span><a href=\"#Import-and-merging-stored-data\" data-toc-modified-id=\"Import-and-merging-stored-data-9.2\"><span class=\"toc-item-num\">9.2&nbsp;&nbsp;</span>Import and merging stored data</a></span></li><li><span><a href=\"#Plotting:-same-plot\" data-toc-modified-id=\"Plotting:-same-plot-9.3\"><span class=\"toc-item-num\">9.3&nbsp;&nbsp;</span>Plotting: same plot</a></span></li><li><span><a href=\"#Plotting:-individual-plots\" data-toc-modified-id=\"Plotting:-individual-plots-9.4\"><span class=\"toc-item-num\">9.4&nbsp;&nbsp;</span>Plotting: individual plots</a></span></li></ul></li><li><span><a href=\"#Plot-trial-characteristics\" data-toc-modified-id=\"Plot-trial-characteristics-10\"><span class=\"toc-item-num\">10&nbsp;&nbsp;</span>Plot trial characteristics</a></span><ul class=\"toc-item\"><li><span><a href=\"#Get-stored-data\" data-toc-modified-id=\"Get-stored-data-10.1\"><span class=\"toc-item-num\">10.1&nbsp;&nbsp;</span>Get stored data</a></span></li><li><span><a href=\"#Plotting:-individual-plots\" data-toc-modified-id=\"Plotting:-individual-plots-10.2\"><span class=\"toc-item-num\">10.2&nbsp;&nbsp;</span>Plotting: individual plots</a></span></li></ul></li><li><span><a href=\"#Appendix\" data-toc-modified-id=\"Appendix-11\"><span class=\"toc-item-num\">11&nbsp;&nbsp;</span>Appendix</a></span><ul class=\"toc-item\"><li><span><a href=\"#Retrieve-more-data\" data-toc-modified-id=\"Retrieve-more-data-11.1\"><span class=\"toc-item-num\">11.1&nbsp;&nbsp;</span>Retrieve more data</a></span></li><li><span><a href=\"#Backup\" data-toc-modified-id=\"Backup-11.2\"><span class=\"toc-item-num\">11.2&nbsp;&nbsp;</span>Backup</a></span></li></ul></li><li><span><a href=\"#Animation\" data-toc-modified-id=\"Animation-12\"><span class=\"toc-item-num\">12&nbsp;&nbsp;</span>Animation</a></span><ul class=\"toc-item\"><li><span><a href=\"#With-annotation\" data-toc-modified-id=\"With-annotation-12.1\"><span class=\"toc-item-num\">12.1&nbsp;&nbsp;</span>With annotation</a></span></li><li><span><a href=\"#Without-annotation\" data-toc-modified-id=\"Without-annotation-12.2\"><span class=\"toc-item-num\">12.2&nbsp;&nbsp;</span>Without annotation</a></span></li></ul></li><li><span><a href=\"#DEBUG\" data-toc-modified-id=\"DEBUG-13\"><span class=\"toc-item-num\">13&nbsp;&nbsp;</span>DEBUG</a></span><ul class=\"toc-item\"><li><span><a href=\"#Debug\" data-toc-modified-id=\"Debug-13.1\"><span class=\"toc-item-num\">13.1&nbsp;&nbsp;</span>Debug</a></span></li></ul></li></ul></div>"
			]
		},
		{
			"cell_type": "markdown",
			"metadata": {
				"id": "d8VydxGWQ4rk"
			},
			"source": [
				"<h1>Table of Contents<span class=\"tocSkip\"></span></h1>\n",
				"<div class=\"toc\"><ul class=\"toc-item\"><li><span><a href=\"#import-packages\" data-toc-modified-id=\"import-packages-1\"><span class=\"toc-item-num\">1&nbsp;&nbsp;</span>import packages</a></span></li><li><span><a href=\"#plots\" data-toc-modified-id=\"plots-2\"><span class=\"toc-item-num\">2&nbsp;&nbsp;</span>plots</a></span><ul class=\"toc-item\"><li><span><a href=\"#2-in-a-row\" data-toc-modified-id=\"2-in-a-row-2.1\"><span class=\"toc-item-num\">2.1&nbsp;&nbsp;</span>2 in a row</a></span></li><li><span><a href=\"#Visible-before-last-one\" data-toc-modified-id=\"Visible-before-last-one-2.2\"><span class=\"toc-item-num\">2.2&nbsp;&nbsp;</span>Visible before last one</a></span></li><li><span><a href=\"#Disappear-latest\" data-toc-modified-id=\"Disappear-latest-2.3\"><span class=\"toc-item-num\">2.3&nbsp;&nbsp;</span>Disappear latest</a></span></li><li><span><a href=\"#Cluster-of-fireflies\" data-toc-modified-id=\"Cluster-of-fireflies-2.4\"><span class=\"toc-item-num\">2.4&nbsp;&nbsp;</span>Cluster of fireflies</a></span></li><li><span><a href=\"#Waste-cluster\" data-toc-modified-id=\"Waste-cluster-2.5\"><span class=\"toc-item-num\">2.5&nbsp;&nbsp;</span>Waste cluster</a></span></li><li><span><a href=\"#Cluster-around-targets\" data-toc-modified-id=\"Cluster-around-targets-2.6\"><span class=\"toc-item-num\">2.6&nbsp;&nbsp;</span>Cluster around targets</a></span></li><li><span><a href=\"#Waste-cluster-around-last-target\" data-toc-modified-id=\"Waste-cluster-around-last-target-2.7\"><span class=\"toc-item-num\">2.7&nbsp;&nbsp;</span>Waste cluster around last target</a></span></li><li><span><a href=\"#Ignore-sudden-flash\" data-toc-modified-id=\"Ignore-sudden-flash-2.8\"><span class=\"toc-item-num\">2.8&nbsp;&nbsp;</span>Ignore sudden flash</a></span></li><li><span><a href=\"#Try-a-few-times\" data-toc-modified-id=\"Try-a-few-times-2.9\"><span class=\"toc-item-num\">2.9&nbsp;&nbsp;</span>Try a few times</a></span></li><li><span><a href=\"#Give-up-after-trying\" data-toc-modified-id=\"Give-up-after-trying-2.10\"><span class=\"toc-item-num\">2.10&nbsp;&nbsp;</span>Give up after trying</a></span></li></ul></li></ul></div>"
			]
		},
		{
			"cell_type": "markdown",
			"metadata": {
				"id": "Ba0IDmwjQ4rv"
			},
			"source": [
				"# Install packages"
			]
		},
		{
			"cell_type": "code",
			"execution_count": 5,
			"metadata": {
				"colab": {
					"base_uri": "https://localhost:8080/",
					"height": 1000
				},
				"executionInfo": {
					"elapsed": 54477,
					"status": "ok",
					"timestamp": 1684812396640,
					"user": {
						"displayName": "Cici Du",
						"userId": "17701548280142155870"
					},
					"user_tz": -480
				},
				"id": "37EL1grMQ4rw",
				"outputId": "dd093c3d-d17a-417e-db67-542165dd6420"
			},
			"outputs": [
				{
					"ename": "ModuleNotFoundError",
					"evalue": "No module named 'google'",
					"output_type": "error",
					"traceback": [
						"\u001b[0;31m---------------------------------------------------------------------------\u001b[0m",
						"\u001b[0;31mModuleNotFoundError\u001b[0m                       Traceback (most recent call last)",
						"\u001b[1;32m/Users/dusiyi/Library/CloudStorage/GoogleDrive-sd80@rice.edu/My Drive/ff_repo/Multifirefly-Project/multiff_analysis/visualization.ipynb Cell 4\u001b[0m in \u001b[0;36m<cell line: 1>\u001b[0;34m()\u001b[0m\n\u001b[0;32m----> <a href='vscode-notebook-cell:/Users/dusiyi/Library/CloudStorage/GoogleDrive-sd80%40rice.edu/My%20Drive/ff_repo/Multifirefly-Project/multiff_analysis/visualization.ipynb#W3sZmlsZQ%3D%3D?line=0'>1</a>\u001b[0m \u001b[39mfrom\u001b[39;00m \u001b[39mgoogle\u001b[39;00m\u001b[39m.\u001b[39;00m\u001b[39mcolab\u001b[39;00m \u001b[39mimport\u001b[39;00m drive \u001b[39m# import drive from google colab\u001b[39;00m\n\u001b[1;32m      <a href='vscode-notebook-cell:/Users/dusiyi/Library/CloudStorage/GoogleDrive-sd80%40rice.edu/My%20Drive/ff_repo/Multifirefly-Project/multiff_analysis/visualization.ipynb#W3sZmlsZQ%3D%3D?line=1'>2</a>\u001b[0m drive\u001b[39m.\u001b[39mmount(\u001b[39m\"\u001b[39m\u001b[39m/content/drive\u001b[39m\u001b[39m\"\u001b[39m) \n\u001b[1;32m      <a href='vscode-notebook-cell:/Users/dusiyi/Library/CloudStorage/GoogleDrive-sd80%40rice.edu/My%20Drive/ff_repo/Multifirefly-Project/multiff_analysis/visualization.ipynb#W3sZmlsZQ%3D%3D?line=2'>3</a>\u001b[0m get_ipython()\u001b[39m.\u001b[39msystem(\u001b[39m'\u001b[39m\u001b[39mpip install neo\u001b[39m\u001b[39m'\u001b[39m)\n",
						"\u001b[0;31mModuleNotFoundError\u001b[0m: No module named 'google'"
					]
				}
			],
			"source": [
				"from google.colab import drive # import drive from google colab\n",
				"drive.mount(\"/content/drive\") \n",
				"!pip install neo\n",
				"!pip install matplotlib_scalebar\n",
				"!pip install ffmpeg\n",
				"!pip install Ipython --upgrade\n",
				"%load_ext autoreload\n",
				"%autoreload 2"
			]
		},
		{
			"cell_type": "markdown",
			"metadata": {
				"id": "D7ubA2G0ql0K"
			},
			"source": [
				"# Import packages"
			]
		},
		{
			"cell_type": "code",
			"execution_count": 4,
			"metadata": {
				"colab": {
					"base_uri": "https://localhost:8080/"
				},
				"executionInfo": {
					"elapsed": 22177,
					"status": "ok",
					"timestamp": 1684812418814,
					"user": {
						"displayName": "Cici Du",
						"userId": "17701548280142155870"
					},
					"user_tz": -480
				},
				"id": "3klBkPC-Q4rw",
				"outputId": "74d8e70e-7cde-4252-e902-f172b4023294",
				"scrolled": true
			},
			"outputs": [
				{
					"name": "stdout",
					"output_type": "stream",
					"text": [
						"[Errno 2] No such file or directory: '/content/drive/MyDrive/ff_repo/Multifirefly-Project'\n",
						"/Users/dusiyi/Library/CloudStorage/GoogleDrive-sd80@rice.edu/My Drive/ff_repo/Multifirefly-Project/env.multiff_analysis\n"
					]
				},
				{
					"ename": "ModuleNotFoundError",
					"evalue": "No module named 'env.multiff_analysis'",
					"output_type": "error",
					"traceback": [
						"\u001b[0;31m---------------------------------------------------------------------------\u001b[0m",
						"\u001b[0;31mModuleNotFoundError\u001b[0m                       Traceback (most recent call last)",
						"\u001b[1;32m/Users/dusiyi/Library/CloudStorage/GoogleDrive-sd80@rice.edu/My Drive/ff_repo/Multifirefly-Project/env.multiff_analysis/visualization.ipynb Cell 6\u001b[0m in \u001b[0;36m<cell line: 3>\u001b[0;34m()\u001b[0m\n\u001b[1;32m      <a href='vscode-notebook-cell:/Users/dusiyi/Library/CloudStorage/GoogleDrive-sd80%40rice.edu/My%20Drive/ff_repo/Multifirefly-Project/env.multiff_analysis/visualization.ipynb#W5sZmlsZQ%3D%3D?line=0'>1</a>\u001b[0m get_ipython()\u001b[39m.\u001b[39mrun_line_magic(\u001b[39m'\u001b[39m\u001b[39mcd\u001b[39m\u001b[39m'\u001b[39m, \u001b[39m'\u001b[39m\u001b[39m/content/drive/MyDrive/ff_repo/Multifirefly-Project\u001b[39m\u001b[39m'\u001b[39m)\n\u001b[0;32m----> <a href='vscode-notebook-cell:/Users/dusiyi/Library/CloudStorage/GoogleDrive-sd80%40rice.edu/My%20Drive/ff_repo/Multifirefly-Project/env.multiff_analysis/visualization.ipynb#W5sZmlsZQ%3D%3D?line=2'>3</a>\u001b[0m \u001b[39mfrom\u001b[39;00m \u001b[39menv.multiff_analysis\u001b[39;00m\u001b[39m.\u001b[39;00m\u001b[39mfunctions\u001b[39;00m\u001b[39m.\u001b[39;00m\u001b[39mdata_wrangling\u001b[39;00m\u001b[39m.\u001b[39;00m\u001b[39mprocess_raw_data\u001b[39;00m \u001b[39mimport\u001b[39;00m \u001b[39m*\u001b[39m\n\u001b[1;32m      <a href='vscode-notebook-cell:/Users/dusiyi/Library/CloudStorage/GoogleDrive-sd80%40rice.edu/My%20Drive/ff_repo/Multifirefly-Project/env.multiff_analysis/visualization.ipynb#W5sZmlsZQ%3D%3D?line=3'>4</a>\u001b[0m \u001b[39mfrom\u001b[39;00m \u001b[39menv.multiff_analysis\u001b[39;00m\u001b[39m.\u001b[39;00m\u001b[39mfunctions\u001b[39;00m\u001b[39m.\u001b[39;00m\u001b[39mdata_wrangling\u001b[39;00m\u001b[39m.\u001b[39;00m\u001b[39mdata_processing_class\u001b[39;00m \u001b[39mimport\u001b[39;00m \u001b[39m*\u001b[39m\n\u001b[1;32m      <a href='vscode-notebook-cell:/Users/dusiyi/Library/CloudStorage/GoogleDrive-sd80%40rice.edu/My%20Drive/ff_repo/Multifirefly-Project/env.multiff_analysis/visualization.ipynb#W5sZmlsZQ%3D%3D?line=4'>5</a>\u001b[0m \u001b[39mfrom\u001b[39;00m \u001b[39menv.multiff_analysis\u001b[39;00m\u001b[39m.\u001b[39;00m\u001b[39mfunctions\u001b[39;00m\u001b[39m.\u001b[39;00m\u001b[39mdata_wrangling\u001b[39;00m\u001b[39m.\u001b[39;00m\u001b[39mmake_ff_dataframe.make_ff_dataframe_func\u001b[39;00m \u001b[39mimport\u001b[39;00m \u001b[39m*\u001b[39m\n",
						"\u001b[0;31mModuleNotFoundError\u001b[0m: No module named 'env.multiff_analysis'"
					]
				}
			],
			"source": [
				"%cd /content/drive/MyDrive/ff_repo/Multifirefly-Project\n",
				"\n",
				"from multiff_analysis.functions.data_wrangling import process_raw_data, data_processing_class, make_ff_dataframe, find_patterns, analyze_patterns_and_features\n",
				"from multiff_analysis.functions.data_visualization import plot_behaviors, plot_statistics, animation_func\n",
				"from multiff_analysis.functions.RL import collect_agent_data, env\n",
				"import os\n",
				"import torch\n",
				"import numpy as np\n",
				"import matplotlib\n",
				"from matplotlib import rc, cm\n",
				"import matplotlib.pyplot as plt\n",
				"import torch.nn as nn\n",
				"from os.path import exists\n",
				"import pandas as pd\n",
				"from IPython.display import HTML\n",
				"import matplotlib.ticker as ticker\n",
				"from matplotlib import animation\n",
				"from functools import partial\n",
				"from math import pi\n",
				"\n",
				"plt.rcParams[\"animation.html\"] = \"html5\"\n",
				"os.environ['KMP_DUPLICATE_LIB_OK']='True'\n",
				"rc('animation', html='jshtml')\n",
				"matplotlib.rcParams.update(matplotlib.rcParamsDefault)\n",
				"matplotlib.rcParams['animation.embed_limit'] = 2**128\n",
				"pd.set_option('display.float_format', lambda x: '%.5f' % x)\n",
				"np.set_printoptions(suppress=True)\n",
				"print(\"done\")"
			]
		},
		{
			"cell_type": "markdown",
			"metadata": {
				"id": "EC7STQ6VCFKw"
			},
			"source": [
				"# Basic data"
			]
		},
		{
			"cell_type": "markdown",
			"metadata": {
				"id": "XVnyzV00Yk1g"
			},
			"source": [
				"## Plotting kwargs"
			]
		},
		{
			"cell_type": "code",
			"execution_count": 3,
			"metadata": {
				"colab": {
					"base_uri": "https://localhost:8080/"
				},
				"executionInfo": {
					"elapsed": 16,
					"status": "ok",
					"timestamp": 1684812418814,
					"user": {
						"displayName": "Cici Du",
						"userId": "17701548280142155870"
					},
					"user_tz": -480
				},
				"id": "5G05yr50cdoy",
				"outputId": "5c875efc-bae4-43c8-bb87-537f80d3a740"
			},
			"outputs": [
				{
					"name": "stdout",
					"output_type": "stream",
					"text": [
						"player is monkey\n"
					]
				}
			],
			"source": [
				"trial_total_num = 10\n",
				"PLAYER = \"monkey\"\n",
				"\n",
				"classic_plot_kwargs = {'player': PLAYER,\n",
				"                       'show_stops': True,\n",
				"                       'show_believed_target_positions': True,\n",
				"                       'show_reward_boundary': True,\n",
				"                       'show_scale_bar': True,\n",
				"                       'show_eye_positions': True,\n",
				"                       'show_eye_positions_on_the_right': True,\n",
				"                       'show_connect_path_eye_positions': True,\n",
				"                       #=== below is different from animation_plot_kwargs\n",
				"                       'hitting_arena_edge_ok': False,\n",
				"                       'trial_too_short_ok': False}\n",
				"\n",
				"combined_plot_kwargs = {'player': PLAYER,\n",
				"                        'combined_plot': True,\n",
				"                        'show_alive_fireflies': False,\n",
				"                        'show_title': False,\n",
				"                        'show_start': False}\n",
				"\n",
				"plot_chunks_kwargs = {'player': PLAYER,\n",
				"                      'show_stops': True,\n",
				"                      'show_believed_target_positions': True,\n",
				"                      'show_reward_boundary': True,\n",
				"                      'show_scale_bar': True,\n",
				"                      'hitting_arena_edge_ok': True,\n",
				"                      'trial_too_short_ok': True,\n",
				"                      'show_connect_path_ff': True,\n",
				"                      'trail_color_var': 'abs_ddw',\n",
				"                      'show_colorbar': True}\n",
				"\n",
				"\n",
				"plot_polar_kwargs = {'rmax': 400,\n",
				"                    'show_visible_ff': True,\n",
				"                    'hitting_arena_edge_ok': True,\n",
				"                    'return_axes': True,\n",
				"                    'colors_show_overall_time': True,\n",
				"                    'show_ff_in_memory': True,\n",
				"                    'show_target_at_being_caught': True\n",
				"}\n",
				"\n",
				"print(\"player is\", PLAYER)\n",
				"\n",
				"animation_plot_kwargs = classic_plot_kwargs\n",
				"animation_plot_kwargs['as_part_of_animation'] = True\n",
				"animation_plot_kwargs['show_eye_positions_on_the_right'] = False   \n",
				"animation_plot_kwargs['hitting_arena_edge_ok'] = True\n",
				"animation_plot_kwargs['trial_too_short_ok'] = True\n",
				"animation_plot_kwargs['images_dir'] = None"
			]
		},
		{
			"cell_type": "markdown",
			"metadata": {
				"id": "607g14Najtrz"
			},
			"source": [
				"## Retrieve individual monkey data"
			]
		},
		{
			"cell_type": "code",
			"execution_count": null,
			"metadata": {
				"executionInfo": {
					"elapsed": 426,
					"status": "ok",
					"timestamp": 1684812419228,
					"user": {
						"displayName": "Cici Du",
						"userId": "17701548280142155870"
					},
					"user_tz": -480
				},
				"id": "Kr3-6NlXG7hw"
			},
			"outputs": [],
			"source": [
				"# PLAYER = \"monkey\"\n",
				"# monkey_data_folder_name = \"all_monkey_data/individual_monkey_data/monkey_Bruno/data_0330\"\n",
				"# data_instance = data_processing_class.ProcessMonkeyData(raw_data_folder_name=monkey_data_folder_name)\n",
				"# data_instance.retrieve_monkey_data()\n",
				"# data_instance.make_or_retrieve_ff_dataframe(exists_ok=True)\n",
				"# data_instance.find_patterns()\n",
				"# data_instance.make_or_retrieve_all_trial_patterns(exists_ok=True)\n",
				"# data_instance.make_or_retrieve_pattern_frequencies(exists_ok=True)\n",
				"# data_instance.make_or_retrieve_all_trial_features(exists_ok=True)\n",
				"# data_instance.make_or_retrieve_feature_statistics(exists_ok=True)\n",
				"# data_instance.make_info_of_monkey()\n",
				"# data_instance.make_or_retrieve_target_closest()\n",
				"# data_instance.make_or_retrieve_target_angle_smallest()\n",
				"# data_instance.make_distance_dataframe()\n",
				"# data_instance.make_angle_dataframe()\n",
				"\n",
				"# monkey_information = data_instance.monkey_information\n",
				"# target_closest = data_instance.target_closest\n",
				"# target_angle_smallest = data_instance.target_angle_smallest\n",
				"# ff_dataframe = data_instance.ff_dataframe\n",
				"\n",
				"# ff_life_sorted = data_instance.ff_life_sorted\n",
				"# ff_real_position_sorted = data_instance.ff_real_position_sorted\n",
				"# ff_believed_position_sorted = data_instance.ff_believed_position_sorted\n",
				"# cluster_around_target_indices = data_instance.cluster_around_target_indices\n",
				"# ff_caught_T_sorted = data_instance.ff_caught_T_sorted\n",
				"# caught_ff_num = len(ff_caught_T_sorted)\n",
				"# ff_flash_sorted = data_instance.ff_flash_sorted\n",
				"# ff_flash_end_sorted = data_instance.ff_flash_end_sorted\n",
				"\n",
				"# all_trial_patterns = data_instance.all_trial_patterns\n",
				"# all_trial_features = data_instance.all_trial_features\n",
				"# pattern_frequencies = data_instance.pattern_frequencies\n",
				"# feature_statistics = data_instance.feature_statistics\n",
				"# distance_dataframe = data_instance.distance_dataframe\n",
				"# angle_dataframe = data_instance.angle_dataframe\n",
				"# trial_vs_distance = data_instance.trial_vs_distance\n",
				"# trial_vs_angle = data_instance.trial_vs_angle\n",
				"# info_of_monkey = data_instance.info_of_monkey\n",
				"# max_point_index = data_instance.max_point_index\n",
				"# min_point_index = data_instance.min_point_index\n",
				"\n",
				"\n",
				"# monkey_name = data_instance.log_dir.split('/')[2]\n",
				"# data_name = data_instance.log_dir.split('/')[3]\n",
				"\n",
				"# data_instance.PlotTrials_args(classic_plot_kwargs, combined_plot_kwargs, animation_plot_kwargs)"
			]
		},
		{
			"cell_type": "markdown",
			"metadata": {
				"id": "18RHPEyDX0_9"
			},
			"source": [
				"## Retrieve monkey data (short)"
			]
		},
		{
			"cell_type": "code",
			"execution_count": null,
			"metadata": {
				"colab": {
					"base_uri": "https://localhost:8080/"
				},
				"executionInfo": {
					"elapsed": 66472,
					"status": "ok",
					"timestamp": 1684812485274,
					"user": {
						"displayName": "Cici Du",
						"userId": "17701548280142155870"
					},
					"user_tz": -480
				},
				"id": "RfG8_2JFX253",
				"outputId": "c6b2dab5-0276-46c1-c748-113661c8b0d9"
			},
			"outputs": [
				{
					"name": "stdout",
					"output_type": "stream",
					"text": [
						"Retrieved monkey_information\n"
					]
				},
				{
					"name": "stderr",
					"output_type": "stream",
					"text": [
						"/content/drive/MyDrive/ff_repo/Multifirefly-Project/env.multiff_analysis/functions/data_visualization/eye_positions.py:88: RuntimeWarning: divide by zero encountered in true_divide\n",
						"  numerator_component = 1/np.tan(ver_theta)**2 - np.tan(inside_tan)**2\n",
						"/content/drive/MyDrive/ff_repo/Multifirefly-Project/env.multiff_analysis/functions/data_visualization/eye_positions.py:90: RuntimeWarning: invalid value encountered in sqrt\n",
						"  gaze_monkey_view_y = np.sqrt(numerator/denominator)\n"
					]
				},
				{
					"name": "stdout",
					"output_type": "stream",
					"text": [
						"retrieved monkey data\n",
						"retrieved  ff_dataframe\n"
					]
				}
			],
			"source": [
				"PLAYER = \"monkey\"\n",
				"monkey_data_folder_name = \"all_monkey_data/individual_monkey_data/monkey_Bruno/data_0330\"\n",
				"data_instance = data_processing_class.ProcessMonkeyData(raw_data_folder_name=monkey_data_folder_name)\n",
				"data_instance.retrieve_monkey_data()\n",
				"data_instance.make_or_retrieve_ff_dataframe(exists_ok=True)\n",
				"data_instance.find_patterns()\n",
				"data_instance.PlotTrials_args(classic_plot_kwargs, combined_plot_kwargs, animation_plot_kwargs)\n",
				"\n",
				"monkey_information = data_instance.monkey_information\n",
				"ff_dataframe = data_instance.ff_dataframe\n",
				"\n",
				"ff_life_sorted = data_instance.ff_life_sorted\n",
				"ff_real_position_sorted = data_instance.ff_real_position_sorted\n",
				"ff_believed_position_sorted = data_instance.ff_believed_position_sorted\n",
				"cluster_around_target_indices = data_instance.cluster_around_target_indices\n",
				"ff_caught_T_sorted = data_instance.ff_caught_T_sorted\n",
				"caught_ff_num = len(ff_caught_T_sorted)\n",
				"ff_flash_sorted = data_instance.ff_flash_sorted\n",
				"ff_flash_end_sorted = data_instance.ff_flash_end_sorted\n",
				"max_point_index = data_instance.max_point_index\n",
				"min_point_index = data_instance.min_point_index\n",
				"\n",
				"\n",
				"# monkey_name = data_instance.log_dir.split('/')[2]\n",
				"# data_name = data_instance.log_dir.split('/')[3]"
			]
		},
		{
			"cell_type": "markdown",
			"metadata": {
				"id": "hIoj2AOqKEGA"
			},
			"source": [
				"## Plotting args"
			]
		},
		{
			"cell_type": "code",
			"execution_count": null,
			"metadata": {
				"colab": {
					"base_uri": "https://localhost:8080/"
				},
				"executionInfo": {
					"elapsed": 64,
					"status": "ok",
					"timestamp": 1684812485274,
					"user": {
						"displayName": "Cici Du",
						"userId": "17701548280142155870"
					},
					"user_tz": -480
				},
				"id": "LKsbti06KDVT",
				"outputId": "9ecc2ec3-d4d7-4f71-d35e-7886fec1af9c"
			},
			"outputs": [
				{
					"name": "stderr",
					"output_type": "stream",
					"text": [
						"/usr/local/lib/python3.10/dist-packages/ipykernel/ipkernel.py:283: DeprecationWarning: `should_run_async` will not call `transform_cell` automatically in the future. Please pass the result to `transformed_cell` argument and any exception that happen during thetransform in `preprocessing_exc_tuple` in IPython 7.17 and above.\n",
						"  and should_run_async(code)\n"
					]
				}
			],
			"source": [
				"plot_behaviors.PlotTrials_args = (monkey_information, ff_dataframe, ff_life_sorted, ff_real_position_sorted, ff_believed_position_sorted, cluster_around_target_indices, ff_caught_T_sorted)\n",
				"\n",
				"\n",
				"plot_polar_args = (monkey_information,\n",
				"                    ff_dataframe, \n",
				"                    ff_life_sorted,\n",
				"                    ff_real_position_sorted,\n",
				"                    ff_caught_T_sorted,\n",
				"                    ff_flash_sorted,)"
			]
		},
		{
			"cell_type": "markdown",
			"metadata": {
				"id": "TDs143cnAtpT"
			},
			"source": [
				"# Chunks and clusters"
			]
		},
		{
			"cell_type": "code",
			"execution_count": null,
			"metadata": {
				"executionInfo": {
					"elapsed": 54,
					"status": "ok",
					"timestamp": 1684812485274,
					"user": {
						"displayName": "Cici Du",
						"userId": "17701548280142155870"
					},
					"user_tz": -480
				},
				"id": "0JHB9WlH_QVE"
			},
			"outputs": [],
			"source": [
				"points_w_more_than_2_ff = find_points_w_more_than_2_ff(ff_dataframe, monkey_information, ff_caught_T_sorted)\n",
				"points_w_more_than_2_ff = find_patterns.decrease_overlaps_between_chunks(points_w_more_than_2_ff, monkey_information, min_interval_between_chunks=5)"
			]
		},
		{
			"cell_type": "markdown",
			"metadata": {
				"id": "JoXyFQvSMHgR"
			},
			"source": [
				"# function"
			]
		},
		{
			"cell_type": "markdown",
			"metadata": {
				"id": "bf5IPCt9F3wy"
			},
			"source": [
				"## Using null"
			]
		},
		{
			"cell_type": "code",
			"execution_count": null,
			"metadata": {
				"colab": {
					"base_uri": "https://localhost:8080/"
				},
				"executionInfo": {
					"elapsed": 55,
					"status": "ok",
					"timestamp": 1684812485275,
					"user": {
						"displayName": "Cici Du",
						"userId": "17701548280142155870"
					},
					"user_tz": -480
				},
				"id": "sATH_HTHL95N",
				"outputId": "f6eb1b12-7ea9-4c3f-cc6b-3cf01d91baba"
			},
			"outputs": [
				{
					"name": "stderr",
					"output_type": "stream",
					"text": [
						"/usr/local/lib/python3.10/dist-packages/ipykernel/ipkernel.py:283: DeprecationWarning: `should_run_async` will not call `transform_cell` automatically in the future. Please pass the result to `transformed_cell` argument and any exception that happen during thetransform in `preprocessing_exc_tuple` in IPython 7.17 and above.\n",
						"  and should_run_async(code)\n"
					]
				},
				{
					"data": {
						"text/plain": [
							"438"
						]
					},
					"execution_count": 8,
					"metadata": {},
					"output_type": "execute_result"
				}
			],
			"source": [
				"plot_chunks_kwargs1 = plot_chunks_kwargs.copy()\n",
				"plot_chunks_kwargs1['trail_color_var'] = None\n",
				"plot_chunks_kwargs1['show_colorbar'] = False\n",
				"plot_chunks_kwargs1['show_alive_fireflies'] = False\n",
				"plot_chunks_kwargs1['show_legend'] = True\n",
				"plot_chunks_kwargs1['vary_color_for_connecting_path_ff'] = True\n",
				"plot_chunks_kwargs1['show_null_agent_trajectory'] = True\n",
				"plot_chunks_kwargs1['show_null_agent_trajectory_2nd_time'] = True\n",
				"\n",
				"\n",
				"plot_chunks_kwargs2 = {'player': 'monkey',\n",
				" 'show_stops': True,\n",
				" 'show_believed_target_positions': True,\n",
				" 'show_alive_fireflies': False,\n",
				" 'show_scale_bar': False,\n",
				" 'hitting_arena_edge_ok': True,\n",
				" 'trial_too_short_ok': True,\n",
				" 'show_connect_path_ff': True,\n",
				" 'trail_color_var': None,\n",
				" 'show_colorbar': False,\n",
				" 'adjust_xy_limits': False,\n",
				" 'vary_color_for_connecting_path_ff': True,\n",
				" 'show_reward_boundary': True}\n",
				"\n",
				"points_w_more_than_2_ff.chunk.max()"
			]
		},
		{
			"cell_type": "code",
			"execution_count": null,
			"metadata": {
				"executionInfo": {
					"elapsed": 47,
					"status": "aborted",
					"timestamp": 1684812485275,
					"user": {
						"displayName": "Cici Du",
						"userId": "17701548280142155870"
					},
					"user_tz": -480
				},
				"id": "fGp1Ph0B2wTE"
			},
			"outputs": [],
			"source": [
				"chunks = np.array([324, 325, 328, 342, 366, 347, 398, 417, 419])-2"
			]
		},
		{
			"cell_type": "markdown",
			"metadata": {
				"id": "lZbmwB_M91wX"
			},
			"source": [
				"**By monkey**"
			]
		},
		{
			"cell_type": "code",
			"execution_count": null,
			"metadata": {
				"executionInfo": {
					"elapsed": 46,
					"status": "aborted",
					"timestamp": 1684812485275,
					"user": {
						"displayName": "Cici Du",
						"userId": "17701548280142155870"
					},
					"user_tz": -480
				},
				"id": "T2LSfLFmLE1_"
			},
			"outputs": [],
			"source": [
				"# plot the chunks\n",
				"for chunk in range(190, 195):\n",
				"  with basic_func.initiate_plot(10, 10, 100):\n",
				"    chunk_df = points_w_more_than_2_ff[points_w_more_than_2_ff['chunk'] == chunk]\n",
				"    duration_points = [chunk_df['point_index'].min(), chunk_df['point_index'].max()]\n",
				"    #duration = [monkey_information['monkey_t'][duration_points[0]], monkey_information['monkey_t'][duration_points[1]]]\n",
				"    duration = [monkey_information['monkey_t'][duration_points[0]], monkey_information['monkey_t'][duration_points[0]]+2]\n",
				"    print(\"duration\", duration)\n",
				"\n",
				"    \n",
				"    for i in range(2):\n",
				"        fig = plt.figure()\n",
				"        whether_plotted, axes, R, cum_mxy_rotate, shown_ff_indices = plot_behaviors.PlotTrials(duration,\n",
				"                  *plot_behaviors.PlotTrials_args,\n",
				"                  **plot_chunks_kwargs1,\n",
				"                  adjust_xy_limits=False,\n",
				"                  fig=fig)\n",
				"        if i == 1:\n",
				"                  duration2 = [duration[1], duration[1]+2]\n",
				"                  whether_plotted, axes, R, cum_mxy_rotate, shown_ff_indices = plot_behaviors.PlotTrials(duration2,\n",
				"                  *plot_behaviors.PlotTrials_args,\n",
				"                  **plot_chunks_kwargs2,\n",
				"                  fig=fig,\n",
				"                  axes=axes,\n",
				"                  rotation_matrix=R)\n",
				"\n",
				"        axes.set_title('Chunk ' + str(chunk), fontsize=17)\n",
				"        plt.show()\n",
				"        plt.close()"
			]
		},
		{
			"cell_type": "code",
			"execution_count": null,
			"metadata": {
				"executionInfo": {
					"elapsed": 47,
					"status": "aborted",
					"timestamp": 1684812485276,
					"user": {
						"displayName": "Cici Du",
						"userId": "17701548280142155870"
					},
					"user_tz": -480
				},
				"id": "cSPVCZVQGNi-"
			},
			"outputs": [],
			"source": [
				"chunk_interval = 10\n",
				"points_w_more_than_2_ff = find_points_w_more_than_2_ff(ff_dataframe, monkey_information, ff_caught_T_sorted)\n",
				"points_w_more_than_2_ff = find_patterns.decrease_overlaps_between_chunks(points_w_more_than_2_ff, monkey_information, min_interval_between_chunks=chunk_interval)"
			]
		},
		{
			"cell_type": "code",
			"execution_count": null,
			"metadata": {
				"executionInfo": {
					"elapsed": 47,
					"status": "aborted",
					"timestamp": 1684812485276,
					"user": {
						"displayName": "Cici Du",
						"userId": "17701548280142155870"
					},
					"user_tz": -480
				},
				"id": "o_Dl5Qc0GNi_"
			},
			"outputs": [],
			"source": [
				"chunk_numbers = range(300, 320)\n",
				"\n",
				"for chunk in chunk_numbers:\n",
				"  chunk_df = points_w_more_than_2_ff[points_w_more_than_2_ff['chunk'] == chunk]\n",
				"  changing_dw_info = find_patterns.find_changing_dw_points(chunk_df, monkey_information, ff_caught_T_sorted, chunk_interval=10,\n",
				"                                             minimum_time_before_capturing = 0.5)\n",
				"  changing_dw_info = find_patterns.increase_durations_between_points(changing_dw_info, min_duration=2)\n",
				"  for index, row in changing_dw_info.iterrows():\n",
				"      point_index = row['point_index']\n",
				"      ddw = row['ddw']\n",
				"      duration = [monkey_information['monkey_t'][point_index]-2, monkey_information['monkey_t'][point_index]]\n",
				"      # if dw > 0:\n",
				"      #     # flip so that the monkey is always going towards its right side\n",
				"      #     ff_dataframe_sub['ff_angle'] = -ff_dataframe_sub['ff_angle']\n",
				"    \n",
				"      # plot_behaviors.PlotTrials(duration,\n",
				"      #     *plot_behaviors.PlotTrials_args,\n",
				"      #     **plot_chunks_kwargs,\n",
				"      #     show_connect_path_ff_memory=True)\n",
				"      \n",
				"      duration2 = [duration[1], min(duration[1]+5, ff_caught_T_sorted[ff_caught_T_sorted > duration[1]][0]+0.5)]\n",
				"      # Make a polar plot from the monkey's perspective in the duration\n",
				"      for i in range(2):\n",
				"          fig, axes = plot_behaviors.PlotPolar(duration,\n",
				"                      *plot_polar_args,\n",
				"                      **plot_polar_kwargs,\n",
				"                      ff_colormap = 'viridis',\n",
				"                      target_colormap = 'viridis',\n",
				"                          )\n",
				"          if i == 1:\n",
				"\n",
				"              fig, axes = plot_behaviors.PlotPolar(duration2,\n",
				"                          *plot_polar_args,\n",
				"                          **plot_polar_kwargs,          \n",
				"                          ff_colormap = 'Reds',\n",
				"                          target_colormap = 'Reds',\n",
				"                          fig = fig,\n",
				"                          ax = axes,\n",
				"                          show_colorbar = False\n",
				"                              )          \n",
				"          \n",
				"          \n",
				"          # Add an annotation at the bottom\n",
				"          if ddw > 0: \n",
				"            annotation = \"Angular Acceleration to the Left\"\n",
				"          else:\n",
				"            annotation = \"Angular Acceleration to the Right\"\n",
				"          axes.annotate(annotation, xy=(0.5, 0.25), xycoords=\"axes fraction\", fontsize=15, ha=\"center\", va=\"center\")\n",
				"          \n",
				"          plt.show()\n",
				"          plt.close()  "
			]
		},
		{
			"cell_type": "code",
			"execution_count": null,
			"metadata": {
				"executionInfo": {
					"elapsed": 47,
					"status": "aborted",
					"timestamp": 1684812485276,
					"user": {
						"displayName": "Cici Du",
						"userId": "17701548280142155870"
					},
					"user_tz": -480
				},
				"id": "hM-pOjfGGD9P"
			},
			"outputs": [],
			"source": []
		},
		{
			"cell_type": "markdown",
			"metadata": {
				"id": "2BoTDagAVj_j"
			},
			"source": [
				"## plot the chunks"
			]
		},
		{
			"cell_type": "markdown",
			"metadata": {
				"id": "CYVYGapMAm-g"
			},
			"source": [
				"### overhead"
			]
		},
		{
			"cell_type": "code",
			"execution_count": null,
			"metadata": {
				"executionInfo": {
					"elapsed": 47,
					"status": "aborted",
					"timestamp": 1684812485276,
					"user": {
						"displayName": "Cici Du",
						"userId": "17701548280142155870"
					},
					"user_tz": -480
				},
				"id": "3w-LRe6l0FTR"
			},
			"outputs": [],
			"source": [
				"# plot the chunks\n",
				"for chunk in range(70,90):\n",
				"  with basic_func.initiate_plot(10, 10, 100):\n",
				"    chunk_df = points_w_more_than_2_ff[points_w_more_than_2_ff['chunk'] == chunk]\n",
				"    duration_points = [chunk_df['point_index'].min(), chunk_df['point_index'].max()]\n",
				"    #duration = [monkey_information['monkey_t'][duration_points[0]], monkey_information['monkey_t'][duration_points[1]]]\n",
				"    duration = [monkey_information['monkey_t'][duration_points[0]], monkeyfind_patterns.find_points_w_more_than_n_ffation_points[0]]+5]\n",
				"    print(\"duration\", duration)\n",
				"\n",
				"    whether_plotted, axes, R, cum_mxy_rotate, shown_ff_indices = plot_behaviors.PlotTrials(duration,\n",
				"               *plot_behaviors.PlotTrials_args,\n",
				"               **plot_chunks_kwargs)\n",
				"    axes.set_title('Chunk ' + str(chunk), fontsize=17)\n",
				"    plt.show()\n",
				"    plt.close()"
			]
		},
		{
			"cell_type": "markdown",
			"metadata": {
				"id": "dt-gKY3rAq6m"
			},
			"source": [
				"### polar"
			]
		},
		{
			"cell_type": "code",
			"execution_count": null,
			"metadata": {
				"executionInfo": {
					"elapsed": 47,
					"status": "aborted",
					"timestamp": 1684812485276,
					"user": {
						"displayName": "Cici Du",
						"userId": "17701548280142155870"
					},
					"user_tz": -480
				},
				"id": "h7DWX5-wEPev"
			},
			"outputs": [],
			"source": [
				"# plot the chunks\n",
				"for chunk in range(70,75):\n",
				"  with basic_func.initiate_plot(10, 10, 100):\n",
				"    chunk_df = points_w_more_than_2_ff[points_w_more_than_2_ff['chunk'] == chunk]\n",
				"    duration_points = [chunk_df['point_index'].min(), chunk_df['point_index'].max()]\n",
				"    #duration = [monkey_information['monkey_t'][duration_points[0]], monkey_information['monkey_t'][duration_points[1]]]\n",
				"    duration = [monkey_information['monkey_t'][duration_points[0]], monkey_information['monkey_t'][duration_points[0]]+2]\n",
				"    print(\"duration\", duration)\n",
				"\n",
				"    fig, axes = plot_behaviors.PlotPolar(duration,\n",
				"                *plot_polar_args,\n",
				"                **plot_polar_kwargs,\n",
				"                ff_colormap = 'viridis',\n",
				"                target_colormap = 'viridis',\n",
				"                    )\n",
				"    axes.set_title('Chunk ' + str(chunk), fontsize=17)\n",
				"    plt.show()\n",
				"    plt.close()\n",
				"\n"
			]
		},
		{
			"cell_type": "markdown",
			"metadata": {
				"id": "59QzWaX6rb2R"
			},
			"source": [
				"## plot sub-chunks with high abs ddw"
			]
		},
		{
			"cell_type": "markdown",
			"metadata": {
				"id": "GECjJUYOFVAZ"
			},
			"source": [
				"### individual"
			]
		},
		{
			"cell_type": "code",
			"execution_count": null,
			"metadata": {
				"executionInfo": {
					"elapsed": 46,
					"status": "aborted",
					"timestamp": 1684812485276,
					"user": {
						"displayName": "Cici Du",
						"userId": "17701548280142155870"
					},
					"user_tz": -480
				},
				"id": "WRZLLWTq54QK"
			},
			"outputs": [],
			"source": [
				"chunk_interval = 10\n",
				"points_w_more_than_2_ff = find_points_w_more_than_2_ff(ff_dataframe, monkey_information, ff_caught_T_sorted)\n",
				"points_w_more_than_2_ff = find_patterns.decrease_overlaps_between_chunks(points_w_more_than_2_ff, monkey_information, min_interval_between_chunks=chunk_interval)"
			]
		},
		{
			"cell_type": "code",
			"execution_count": null,
			"metadata": {
				"executionInfo": {
					"elapsed": 47,
					"status": "aborted",
					"timestamp": 1684812485277,
					"user": {
						"displayName": "Cici Du",
						"userId": "17701548280142155870"
					},
					"user_tz": -480
				},
				"id": "MB9dMXOYNOfr"
			},
			"outputs": [],
			"source": [
				"chunk_numbers = range(320, 340)\n",
				"\n",
				"for chunk in chunk_numbers:\n",
				"  chunk_df = points_w_more_than_2_ff[points_w_more_than_2_ff['chunk'] == chunk]\n",
				"  changing_dw_info = find_patterns.find_changing_dw_points(chunk_df, monkey_information, ff_caught_T_sorted, chunk_interval=10,\n",
				"                                             minimum_time_before_capturing = 0.5)\n",
				"  changing_dw_info = find_patterns.increase_durations_between_points(changing_dw_info, min_duration=2)\n",
				"  for index, row in changing_dw_info.iterrows():\n",
				"      point_index = row['point_index']\n",
				"      ddw = row['ddw']\n",
				"      duration = [monkey_information['monkey_t'][point_index]-2, monkey_information['monkey_t'][point_index]]\n",
				"      # if dw > 0:\n",
				"      #     # flip so that the monkey is always going towards its right side\n",
				"      #     ff_dataframe_sub['ff_angle'] = -ff_dataframe_sub['ff_angle']\n",
				"    \n",
				"      # plot_behaviors.PlotTrials(duration,\n",
				"      #     *plot_behaviors.PlotTrials_args,\n",
				"      #     **plot_chunks_kwargs,\n",
				"      #     show_connect_path_ff_memory=True)\n",
				"      \n",
				"      duration2 = [duration[1], min(duration[1]+5, ff_caught_T_sorted[ff_caught_T_sorted > duration[1]][0]+0.5)]\n",
				"      # Make a polar plot from the monkey's perspective in the duration\n",
				"      for i in range(2):\n",
				"          fig, axes = plot_behaviors.PlotPolar(duration,\n",
				"                      *plot_polar_args,\n",
				"                      **plot_polar_kwargs,\n",
				"                      ff_colormap = 'viridis',\n",
				"                      target_colormap = 'viridis',\n",
				"                          )\n",
				"          if i == 1:\n",
				"              fig, axes = plot_behaviors.PlotPolar(duration2,\n",
				"                          *plot_polar_args,\n",
				"                          **plot_polar_kwargs,          \n",
				"                          ff_colormap = 'Reds',\n",
				"                          target_colormap = 'Reds',\n",
				"                          fig = fig,\n",
				"                          ax = axes,\n",
				"                          show_colorbar = False\n",
				"                              )          \n",
				"          \n",
				"          \n",
				"          # Add an annotation at the bottom\n",
				"          if ddw > 0: \n",
				"            annotation = \"Angular Acceleration to the Left\"\n",
				"          else:\n",
				"            annotation = \"Angular Acceleration to the Right\"\n",
				"          axes.annotate(annotation, xy=(0.5, 0.25), xycoords=\"axes fraction\", fontsize=15, ha=\"center\", va=\"center\")\n",
				"          \n",
				"          plt.show()\n",
				"          plt.close()  "
			]
		},
		{
			"cell_type": "markdown",
			"metadata": {
				"id": "wFyBcHC4Mv-w"
			},
			"source": [
				"### overlap: viridis"
			]
		},
		{
			"cell_type": "code",
			"execution_count": null,
			"metadata": {
				"executionInfo": {
					"elapsed": 47,
					"status": "aborted",
					"timestamp": 1684812485277,
					"user": {
						"displayName": "Cici Du",
						"userId": "17701548280142155870"
					},
					"user_tz": -480
				},
				"id": "3PMAzqBqMxCf"
			},
			"outputs": [],
			"source": [
				"fig = plt.figure(figsize=(7, 7))\n",
				"axes = fig.add_axes([0.1, 0.1, 0.8, 0.8], polar=True)\n",
				"chunk_numbers = range(110, 125)\n",
				"counter = 0\n",
				"max_overlapped_plots = 100\n",
				"plot_polar_kwargs_temp = plot_polar_kwargs.copy()\n",
				"plot_polar_kwargs_temp['show_ff_in_memory'] = False\n",
				"\n",
				"color_visible_area_in_background = True\n",
				"show_colorbar = True\n",
				"for chunk in chunk_numbers:\n",
				"  chunk_df = points_w_more_than_2_ff[pointfind_patterns.find_points_w_more_than_n_ff== chunk]\n",
				"  changing_dw_info = find_patterns.find_changing_dw_points(chunk_df, monkey_information, ff_caught_T_sorted, chunk_interval=10,\n",
				"                                             minimum_time_before_capturing = 0.5)\n",
				"  changing_dw_info = find_patterns.increase_durations_between_points(changing_dw_info, min_duration=2)\n",
				"  \n",
				"  for index, row in changing_dw_info.iterrows():\n",
				"      counter += 1\n",
				"      point_index = row['point_index']\n",
				"      ddw = row['ddw']\n",
				"      duration = [monkey_information['monkey_t'][point_index]-0.2, monkey_information['monkey_t'][point_index]]\n",
				"      ff_dataframe_temp = ff_dataframe.copy()\n",
				"      if ddw > 0:\n",
				"          # flip so that the monkey is always going towards its right side\n",
				"          ff_dataframe_temp['ff_angle'] = -ff_dataframe_temp['ff_angle']\n",
				"    \n",
				"\n",
				"      fig, axes = plot_behaviors.PlotPolar(duration,\n",
				"                  monkey_information,\n",
				"                  ff_dataframe_temp, \n",
				"                  ff_life_sorted,\n",
				"                  ff_real_position_sorted,\n",
				"                  ff_caught_T_sorted,\n",
				"                  ff_flash_sorted,\n",
				"                  **plot_polar_kwargs_temp,\n",
				"                  ff_colormap = 'viridis',\n",
				"                  target_colormap = 'viridis',\n",
				"                  show_legend = False,\n",
				"                  fig = fig,\n",
				"                  ax = axes,\n",
				"                  color_visible_area_in_background = color_visible_area_in_background,\n",
				"                  show_colorbar = show_colorbar,\n",
				"                  size_increase_for_visible_ff= 5,\n",
				"                      )        \n",
				"      \n",
				"      color_visible_area_in_background = False # it only needs to be true when plotting for the first time\n",
				"      show_colorbar = False\n",
				"      # # Add an annotation at the bottom\n",
				"      # if ddw > 0: \n",
				"      #   annotation = \"Angular Acceleration to the Left\"\n",
				"      # else:\n",
				"      #   annotation = \"Angular Acceleration to the Right\"\n",
				"      # axes.annotate(annotation, xy=(0.5, 0.25), xycoords=\"axes fraction\", fontsize=15, ha=\"center\", va=\"center\")\n",
				"\n",
				"      if counter > max_overlapped_plots:\n",
				"          print(\"Reached max_overlapped_plots\")\n",
				"          break\n",
				"\n",
				"\n",
				"plt.show()\n",
				"plt.close()  "
			]
		},
		{
			"cell_type": "markdown",
			"metadata": {
				"id": "jqRYAxjAA8xC"
			},
			"source": [
				"### overlap: different colors"
			]
		},
		{
			"cell_type": "code",
			"execution_count": null,
			"metadata": {
				"executionInfo": {
					"elapsed": 48,
					"status": "aborted",
					"timestamp": 1684812485278,
					"user": {
						"displayName": "Cici Du",
						"userId": "17701548280142155870"
					},
					"user_tz": -480
				},
				"id": "nBzttyO12HqN"
			},
			"outputs": [],
			"source": [
				"sequential_colormaps = ['Greys', 'Purples', 'Blues', 'Greens', 'Oranges', 'Reds',\n",
				"                      'YlOrBr', 'YlOrRd', 'OrRd', 'PuRd', 'RdPu', 'BuPu',\n",
				"                      'GnBu', 'PuBu', 'YlGnBu', 'PuBuGn', 'BuGn', 'YlGn']\n",
				"sequential_colormaps = [map + '_r' for map in sequential_colormaps]                      \n",
				"sequential_colormaps"
			]
		},
		{
			"cell_type": "code",
			"execution_count": null,
			"metadata": {
				"executionInfo": {
					"elapsed": 48,
					"status": "aborted",
					"timestamp": 1684812485278,
					"user": {
						"displayName": "Cici Du",
						"userId": "17701548280142155870"
					},
					"user_tz": -480
				},
				"id": "sjSoTDqePN8_"
			},
			"outputs": [],
			"source": [
				"fig = plt.figure(figsize=(7, 7))\n",
				"axes = fig.add_axes([0.1, 0.1, 0.8, 0.8], polar=True)\n",
				"chunk_numbers = range(110, 145)\n",
				"counter = 0\n",
				"max_overlapped_plots = len(sequential_colormaps)*2-1\n",
				"plot_polar_kwargs_temp = plot_polar_kwargs.copy()\n",
				"plot_polar_kwargs_temp['show_ff_in_memory'] = False\n",
				"stop = False\n",
				"\n",
				"color_visible_area_in_background = True\n",
				"show_colorbar = True\n",
				"for chunk in chunk_numbers:\n",
				"  if stop:\n",
				"      break\n",
				"  chunk_df = points_w_more_than_2_ff[points_w_more_than_2_ff['chunk'] == chunk]\n",
				"  changing_dw_info = find_patterns.find_changing_dw_points(chunk_df, monkey_information, ff_caught_T_sorted, chunk_interval=10,\n",
				"                                             minimum_time_before_capturing = 0.5)\n",
				"  changing_dw_info = find_patterns.increase_durations_between_points(changing_dw_info, min_duration=2)\n",
				"  for index, row in changing_dw_info.iterrows():\n",
				"      counter += 1\n",
				"      point_index = row['point_index']\n",
				"      ddw = row['ddw']\n",
				"      duration = [monkey_information['monkey_t'][point_index]-0.2, monkey_information['monkey_t'][point_index]]\n",
				"      ff_dataframe_temp = ff_dataframe.copy()\n",
				"      if ddw > 0:\n",
				"          # flip so that the monkey is always accelerating towards the right\n",
				"          ff_dataframe_temp['ff_angle'] = -ff_dataframe_temp['ff_angle']\n",
				"    \n",
				"\n",
				"      fig, axes = plot_behaviors.PlotPolar(duration,\n",
				"                  monkey_information,\n",
				"                  ff_dataframe_temp, \n",
				"                  ff_life_sorted,\n",
				"                  ff_real_position_sorted,\n",
				"                  ff_caught_T_sorted,\n",
				"                  ff_flash_sorted,\n",
				"                  **plot_polar_kwargs_temp,\n",
				"                  ff_colormap = sequential_colormaps[counter%len(sequential_colormaps)],\n",
				"                  target_colormap = sequential_colormaps[counter%len(sequential_colormaps)],\n",
				"                  show_legend = False,\n",
				"                  fig = fig,\n",
				"                  ax = axes,\n",
				"                  color_visible_area_in_background=color_visible_area_in_background,\n",
				"                  show_colorbar = show_colorbar,\n",
				"                  size_increase_for_visible_ff= 8\n",
				"                      )        \n",
				"      \n",
				"      color_visible_area_in_background = False\n",
				"      show_colorbar = False\n",
				"      # # Add an annotation at the bottom\n",
				"      # if ddw > 0: \n",
				"      #   annotation = \"Angular Acceleration to the Left\"\n",
				"      # else:\n",
				"      #   annotation = \"Angular Acceleration to the Right\"\n",
				"      # axes.annotate(annotation, xy=(0.5, 0.25), xycoords=\"axes fraction\", fontsize=15, ha=\"center\", va=\"center\")\n",
				"\n",
				"      if counter == max_overlapped_plots:\n",
				"          print(\"Reached max_overlapped_plots\")\n",
				"          stop = True\n",
				"          break\n",
				"\n",
				"\n",
				"plt.show()\n",
				"plt.close()  "
			]
		},
		{
			"cell_type": "markdown",
			"metadata": {
				"id": "HVd_XtuuwBnn"
			},
			"source": [
				"# Plot parameter vs outcome"
			]
		},
		{
			"cell_type": "markdown",
			"metadata": {
				"id": "PCerVHM_wusA"
			},
			"source": [
				"Should I use marginal or conditional?"
			]
		},
		{
			"cell_type": "markdown",
			"metadata": {
				"id": "UEGDNO2Jwwtx"
			},
			"source": [
				"Should I have 2 variables or 3 variables?"
			]
		},
		{
			"cell_type": "markdown",
			"metadata": {
				"id": "PMsZ2hiaw3xy"
			},
			"source": [
				"Or should I just try all of the above?"
			]
		},
		{
			"cell_type": "markdown",
			"metadata": {
				"id": "xG4hqu6VxWs9"
			},
			"source": [
				"Or, can I make an interactive plot?"
			]
		},
		{
			"cell_type": "code",
			"execution_count": null,
			"metadata": {
				"executionInfo": {
					"elapsed": 382,
					"status": "ok",
					"timestamp": 1684812781737,
					"user": {
						"displayName": "Cici Du",
						"userId": "17701548280142155870"
					},
					"user_tz": -480
				},
				"id": "Lj9s892hX68Y"
			},
			"outputs": [],
			"source": [
				"overall_folder = 'RL_models/gen_5/'"
			]
		},
		{
			"cell_type": "code",
			"execution_count": null,
			"metadata": {
				"executionInfo": {
					"elapsed": 2364,
					"status": "ok",
					"timestamp": 1684812786329,
					"user": {
						"displayName": "Cici Du",
						"userId": "17701548280142155870"
					},
					"user_tz": -480
				},
				"id": "soEB_GUtwJqx"
			},
			"outputs": [],
			"source": [
				"feature_medians_record = pd.read_csv(overall_folder + 'feature_medians_record.csv').drop([\"Unnamed: 0\"], axis=1)\n",
				"feature_means_record = pd.read_csv(overall_folder + 'feature_means_record.csv').drop([\"Unnamed: 0\"], axis=1)\n",
				"pattern_frequencies_record = pd.read_csv(overall_folder +'pattern_frequencies_record.csv').drop([\"Unnamed: 0\"], axis=1)"
			]
		},
		{
			"cell_type": "code",
			"execution_count": null,
			"metadata": {
				"colab": {
					"base_uri": "https://localhost:8080/"
				},
				"executionInfo": {
					"elapsed": 1,
					"status": "ok",
					"timestamp": 1684812789201,
					"user": {
						"displayName": "Cici Du",
						"userId": "17701548280142155870"
					},
					"user_tz": -480
				},
				"id": "7C7Ib7_E5i6W",
				"outputId": "6c763cf9-befb-4386-ef9d-405fe64885b8"
			},
			"outputs": [
				{
					"data": {
						"text/plain": [
							"array(['cluster_around_target', 'disappear_latest', 'ff_capture_rate',\n",
							"       'four_in_a_row', 'give_up_after_trying', 'ignore_sudden_flash',\n",
							"       'multiple_in_a_row', 'multiple_in_a_row_all', 'one_in_a_row',\n",
							"       'stop_success_rate', 'three_in_a_row', 'try_a_few_times',\n",
							"       'two_in_a_row', 'visible_before_last_one',\n",
							"       'waste_cluster_around_target'], dtype=object)"
						]
					},
					"execution_count": 13,
					"metadata": {},
					"output_type": "execute_result"
				}
			],
			"source": [
				"df_of_interest = pattern_frequencies_record\n",
				"\n",
				"parameter_columns = ['action_noise_std', 'ffxy_noise_std', 'num_obs_ff', 'full_memory']\n",
				"outcome_columns = np.setdiff1d(df_of_interest.columns, parameter_columns)\n",
				"#plot_statistics.plot_correlations_in_record(df=df_of_interest, parameter_columns=parameter_columns, outcome_columns=outcome_columns)\n",
				"outcome_columns"
			]
		},
		{
			"cell_type": "markdown",
			"metadata": {
				"id": "3-Wmw8ieheDC"
			},
			"source": [
				"## Marking what works"
			]
		},
		{
			"cell_type": "code",
			"execution_count": null,
			"metadata": {
				"executionInfo": {
					"elapsed": 351,
					"status": "ok",
					"timestamp": 1684812792680,
					"user": {
						"displayName": "Cici Du",
						"userId": "17701548280142155870"
					},
					"user_tz": -480
				},
				"id": "egy18BcnhgDL"
			},
			"outputs": [],
			"source": [
				"# parameters_record = feature_medians_record[['action_noise_std', 'ffxy_noise_std', 'num_obs_ff', 'full_memory']].copy()\n",
				"# parameters_record['working'] = 9 # I will change this manually; 2 meanings working well; 1 means somewhat working; 0 meanings not working\n",
				"# parameters_record = parameters_record.sort_values(by=['action_noise_std', 'ffxy_noise_std', 'num_obs_ff', 'full_memory']).reset_index(drop=True)\n",
				"# parameters_record.to_csv(overall_folder + 'parameters_record.csv')"
			]
		},
		{
			"cell_type": "code",
			"execution_count": null,
			"metadata": {
				"executionInfo": {
					"elapsed": 48,
					"status": "aborted",
					"timestamp": 1684812485279,
					"user": {
						"displayName": "Cici Du",
						"userId": "17701548280142155870"
					},
					"user_tz": -480
				},
				"id": "hC089Qjnj5vt"
			},
			"outputs": [],
			"source": [
				"parameters_record = pd.read_csv(overall_folder + 'parameters_record.csv').drop([\"Unnamed: 0\"], axis=1)\n",
				"parameters_record"
			]
		},
		{
			"cell_type": "code",
			"execution_count": null,
			"metadata": {
				"executionInfo": {
					"elapsed": 47,
					"status": "aborted",
					"timestamp": 1684812485279,
					"user": {
						"displayName": "Cici Du",
						"userId": "17701548280142155870"
					},
					"user_tz": -480
				},
				"id": "J0ADPTCMpaRU"
			},
			"outputs": [],
			"source": [
				"parameter_columns = ['action_noise_std', 'ffxy_noise_std', 'num_obs_ff', 'full_memory']\n",
				"outcome_columns = parameter_columns.copy()\n",
				"plot_statistics.plot_correlations_in_record(parameters_record, parameter_columns=parameter_columns, outcome_columns=outcome_columns,\\\n",
				"                            color_column='working')"
			]
		},
		{
			"cell_type": "markdown",
			"metadata": {
				"id": "QKEQ8KnFZu_6"
			},
			"source": [
				"## interactions BETWEEN the parameter columns"
			]
		},
		{
			"cell_type": "code",
			"execution_count": null,
			"metadata": {
				"executionInfo": {
					"elapsed": 47,
					"status": "aborted",
					"timestamp": 1684812485279,
					"user": {
						"displayName": "Cici Du",
						"userId": "17701548280142155870"
					},
					"user_tz": -480
				},
				"id": "p46gQX1aZ6M1"
			},
			"outputs": [],
			"source": [
				"parameter_columns = ['action_noise_std', 'ffxy_noise_std', 'num_obs_ff', 'full_memory']\n",
				"outcome_columns = parameter_columns.copy()\n",
				"plot_statistics.plot_correlations_in_record(feature_medians_record, parameter_columns=parameter_columns, outcome_columns=outcome_columns)"
			]
		},
		{
			"cell_type": "markdown",
			"metadata": {
				"id": "sFCIAvuL-OOC"
			},
			"source": [
				"## medians"
			]
		},
		{
			"cell_type": "code",
			"execution_count": null,
			"metadata": {
				"executionInfo": {
					"elapsed": 47,
					"status": "aborted",
					"timestamp": 1684812485279,
					"user": {
						"displayName": "Cici Du",
						"userId": "17701548280142155870"
					},
					"user_tz": -480
				},
				"id": "6CFXJkW3-Mr3"
			},
			"outputs": [],
			"source": [
				"feature_outcome_columns = ['abs_angle_last_visible', 'd_last_visible', 'n_ff_in_a_row', 'num_stops',\n",
				"'num_stops_near_target', 'num_stops_since_last_visible', 't', 't_last_visible']\n",
				"plot_statistics.plot_correlations_in_record(feature_medians_record, outcome_columns=feature_outcome_columns)"
			]
		},
		{
			"cell_type": "markdown",
			"metadata": {
				"id": "8m3hvy_V-QUp"
			},
			"source": [
				"## means"
			]
		},
		{
			"cell_type": "code",
			"execution_count": null,
			"metadata": {
				"executionInfo": {
					"elapsed": 47,
					"status": "aborted",
					"timestamp": 1684812485279,
					"user": {
						"displayName": "Cici Du",
						"userId": "17701548280142155870"
					},
					"user_tz": -480
				},
				"id": "FPrr-_ox6Os5"
			},
			"outputs": [],
			"source": [
				"feature_outcome_columns = ['abs_angle_last_visible', 'd_last_visible', 'n_ff_in_a_row', 'num_stops',\n",
				"'num_stops_near_target', 'num_stops_since_last_visible', 't', 't_last_visible']\n",
				"plot_statistics.plot_correlations_in_record(feature_means_record, outcome_columns=feature_outcome_columns)"
			]
		},
		{
			"cell_type": "markdown",
			"metadata": {
				"id": "nIBu25pm-RRV"
			},
			"source": [
				"## frequencies"
			]
		},
		{
			"cell_type": "code",
			"execution_count": null,
			"metadata": {
				"executionInfo": {
					"elapsed": 47,
					"status": "aborted",
					"timestamp": 1684812485279,
					"user": {
						"displayName": "Cici Du",
						"userId": "17701548280142155870"
					},
					"user_tz": -480
				},
				"id": "-LHAj3_y77xi"
			},
			"outputs": [],
			"source": [
				"pattern_outcome_columns = ['ff_capture_rate', 'stop_success_rate', 'two_in_a_row', 'waste_cluster_around_target', \n",
				" 'disappear_latest', 'visible_before_last_one', 'try_a_few_times', 'give_up_after_trying', 'ignore_sudden_flash']\n",
				" \n",
				"plot_statistics.plot_correlations_in_record(pattern_frequencies_record, outcome_columns=pattern_outcome_columns)"
			]
		},
		{
			"cell_type": "markdown",
			"metadata": {
				"id": "iaB2gA_X5hSM"
			},
			"source": [
				"**Try using a dummy dataframe**"
			]
		},
		{
			"cell_type": "code",
			"execution_count": null,
			"metadata": {
				"executionInfo": {
					"elapsed": 47,
					"status": "aborted",
					"timestamp": 1684812485280,
					"user": {
						"displayName": "Cici Du",
						"userId": "17701548280142155870"
					},
					"user_tz": -480
				},
				"id": "17F6knae68y1"
			},
			"outputs": [],
			"source": [
				"dummy_dict = {}\n",
				"for column in feature_medians_record.columns:\n",
				"    dummy_dict[column] = np.random.rand(10)\n",
				"dummy_dict\n",
				"dummy_df = pd.DataFrame(dummy_dict)\n",
				"\n",
				"\n",
				"plot_statistics.plot_correlations_in_record(df=dummy_df, parameter_columns=parameter_columns, outcome_columns=feature_outcome_columns)"
			]
		},
		{
			"cell_type": "markdown",
			"metadata": {
				"id": "Q5JV5tsdB557"
			},
			"source": [
				"# Saving plots or animations"
			]
		},
		{
			"cell_type": "markdown",
			"metadata": {
				"id": "TipDsFoYBoSC"
			},
			"source": [
				"## Iterate through all the folders"
			]
		},
		{
			"cell_type": "code",
			"execution_count": null,
			"metadata": {
				"executionInfo": {
					"elapsed": 47,
					"status": "aborted",
					"timestamp": 1684812485280,
					"user": {
						"displayName": "Cici Du",
						"userId": "17701548280142155870"
					},
					"user_tz": -480
				},
				"id": "rvJ9IvJGcbnh"
			},
			"outputs": [],
			"source": [
				"chunk_numbers = range(20, 30)\n",
				"additional_kwargs = {'show_connect_path_ff_memory': True,\n",
				"                     'show_connect_path_ff_except_targets': True,\n",
				"                     'show_path_when_target_visible': True,\n",
				"                     'show_connect_path_eye_positions': False}"
			]
		},
		{
			"cell_type": "code",
			"execution_count": null,
			"metadata": {
				"executionInfo": {
					"elapsed": 47,
					"status": "aborted",
					"timestamp": 1684812485280,
					"user": {
						"displayName": "Cici Du",
						"userId": "17701548280142155870"
					},
					"user_tz": -480
				},
				"id": "KihB1qc-Bn6n"
			},
			"outputs": [],
			"source": [
				"# # Make a function to iterate through all the folders\n",
				"# dir_name = 'all_monkey_data/individual_monkey_data'\n",
				"# num_trials = 3\n",
				"# #for monkey_name in os.listdir(dir_name):\n",
				"# for monkey_name in ['monkey_Bruno', 'monkey_Schro', 'monkey_Quigley']:\n",
				"#     monkey_path = os.path.join(dir_name, monkey_name)\n",
				"#     for data_name in os.listdir(monkey_path):\n",
				"#         monkey_data_folder_name = os.path.join(monkey_path, data_name)\n",
				"#         print('monkey_name:', monkey_name)\n",
				"#         print('data_name:', data_name)\n",
				"\n",
				"#         data_instance = data_processing_class.ProcessMonkeyData(raw_data_folder_name=monkey_data_folder_name)\n",
				"#         data_instance.save_important_files(exists_ok=Truef)\n",
				"#         # data_instance.retrieve_monkey_data()\n",
				"#         # data_instance.make_or_retrieve_ff_dataframe(exists_ok=True)\n",
				"#         # data_instance.find_patterns()\n",
				"#         # data_instance.make_plot_behaviors.PlotTrials_afind_patterns.find_points_w_more_than_n_ffbined_plot_kwargs, animation_plot_kwargs)\n",
				"        \n",
				"#         ## To save animation from a category across all folders\n",
				"#         # data_instance.save_animation_with_plots_from_a_category(\"give_up_after_trying\", max_trial_to_plot=5, \n",
				"#         #                                                         num_trials=2, sampling_frame_ratio = 5, exists_ok=True)\n",
				"\n",
				"#         # # To save animation from chunks with more than 2 ff across all folders\n",
				"#         # points_w_more_than_2_ff = find_points_w_more_than_2_ff(data_instance.ff_dataframe, data_instance.monkey_information, data_instance.ff_caught_T_sorted)\n",
				"#         # points_w_more_than_2_ff = find_patterns.decrease_overlaps_between_chunks(points_w_more_than_2_ff, data_instance.monkey_information, min_interval_between_chunks=5)\n",
				"#         # data_instance.save_animation_of_chunks(points_w_more_than_2_ff, data_instance.monkey_information, chunk_numbers = chunk_numbers, \\\n",
				"#         #                                        sampling_frame_ratio = 3, additional_kwargs=additional_kwargs, exists_ok=True) \n",
				"\n",
				"#         # To plot the distribution of ff over time\n",
				"#         #plot_behaviors.plot_ff_distribution_in_arena(data_instance.ff_real_position_sorted, data_instance.ff_life_sorted, data_instance.ff_caught_T_sorted, images_dir=None)     "
			]
		},
		{
			"cell_type": "markdown",
			"metadata": {
				"id": "jtKblJvrTa_u"
			},
			"source": [
				"## Save plots"
			]
		},
		{
			"cell_type": "code",
			"execution_count": null,
			"metadata": {
				"executionInfo": {
					"elapsed": 45,
					"status": "aborted",
					"timestamp": 1684812485280,
					"user": {
						"displayName": "Cici Du",
						"userId": "17701548280142155870"
					},
					"user_tz": -480
				},
				"id": "iosmpU8yTcRf"
			},
			"outputs": [],
			"source": [
				"data_instance.plot_trials_from_a_category('two_in_a_row', max_trial_to_plot=2, images_dir=None) # if want to save the plot, pass in an argument for images_dir"
			]
		},
		{
			"cell_type": "markdown",
			"metadata": {
				"id": "rIWvc5m-TQ8k"
			},
			"source": [
				"## Save animation"
			]
		},
		{
			"cell_type": "code",
			"execution_count": null,
			"metadata": {
				"executionInfo": {
					"elapsed": 45,
					"status": "aborted",
					"timestamp": 1684812485280,
					"user": {
						"displayName": "Cici Du",
						"userId": "17701548280142155870"
					},
					"user_tz": -480
				},
				"id": "SULmJEgGTSPV"
			},
			"outputs": [],
			"source": [
				"data_instance.save_animation_with_plots_from_a_category(\"ignore_sudden_flash\", max_trial_to_plot=5, num_trials=2, sampling_frame_ratio = 5)"
			]
		},
		{
			"cell_type": "markdown",
			"metadata": {
				"id": "ZuSjJ2x0FKL6"
			},
			"source": [
				"## Save animation of chunks"
			]
		},
		{
			"cell_type": "code",
			"execution_count": null,
			"metadata": {
				"executionInfo": {
					"elapsed": 45,
					"status": "aborted",
					"timestamp": 1684812485280,
					"user": {
						"displayName": "Cici Du",
						"userId": "17701548280142155870"
					},
					"user_tz": -480
				},
				"id": "ax-3qkEWE_ZD"
			},
			"outputs": [],
			"source": [
				"# chunk_numbers = range(20, 30)\n",
				"# additional_kwargs = {'show_connect_path_ff_memory': True,\n",
				"#                      'show_connect_path_ff_except_targets': True,\n",
				"#                      'show_path_when_target_visible': True,\n",
				"#                      'show_connect_path_eye_positions': False}\n",
				"# data_instance.save_animation_of_chunks(points_w_more_than_2_ff, monkey_information, chunk_numbers = chunk_numbers, sampling_frame_ratio = 3, additional_kwargs=additional_kwargs, exists_ok=True)"
			]
		},
		{
			"cell_type": "markdown",
			"metadata": {
				"id": "M0XrFBWUrnWm"
			},
			"source": [
				"# Retrieve data"
			]
		},
		{
			"cell_type": "markdown",
			"metadata": {
				"id": "kIqwLZnR_c0F"
			},
			"source": [
				"## Basic parameters"
			]
		},
		{
			"cell_type": "code",
			"execution_count": null,
			"metadata": {
				"executionInfo": {
					"elapsed": 45,
					"status": "aborted",
					"timestamp": 1684812485280,
					"user": {
						"displayName": "Cici Du",
						"userId": "17701548280142155870"
					},
					"user_tz": -480
				},
				"id": "WcWaoaz0_feq"
			},
			"outputs": [],
			"source": [
				"NEW_DATASET = False\n",
				"MONKEY_DATA = True\n",
				"NO_PLOT_NEEDED = True\n",
				"raw_data_folder_name = \"all_monkey_data/individual_monkey_data/monkey_Bruno/data_0330\"\n",
				"data_folder_name = \"all_monkey_data/individual_monkey_data/monkey_Bruno/data_0330/monkey_patterns\"\n",
				"\n",
				"\n",
				"\n",
				"#data_num = 19\n",
				"\n",
				"\n",
				"# # for agent\n",
				"# PLAYER = \"agent\"\n",
				"# NEW_DATASET = True\n",
				"# MONKEY_DATA = False\n",
				"# NO_PLOT_NEEDED = True\n",
				"# data_folder_name = \"RL/LSTM_July_29\"\n",
				"# data_num = 721\n",
				"# trial_total_num = 30"
			]
		},
		{
			"cell_type": "markdown",
			"metadata": {
				"id": "f3cSpitZaKhw"
			},
			"source": [
				"## Which players to use?"
			]
		},
		{
			"cell_type": "code",
			"execution_count": null,
			"metadata": {
				"executionInfo": {
					"elapsed": 44,
					"status": "aborted",
					"timestamp": 1684812485280,
					"user": {
						"displayName": "Cici Du",
						"userId": "17701548280142155870"
					},
					"user_tz": -480
				},
				"id": "tF1J3JfIaMvr"
			},
			"outputs": [],
			"source": [
				"use_LSTM = False\n",
				"use_SB3 = False\n",
				"use_monkey = True"
			]
		},
		{
			"cell_type": "markdown",
			"metadata": {
				"id": "tQNzmLJhZj_e"
			},
			"source": [
				"## SB3 agent data"
			]
		},
		{
			"cell_type": "code",
			"execution_count": null,
			"metadata": {
				"executionInfo": {
					"elapsed": 44,
					"status": "aborted",
					"timestamp": 1684812485280,
					"user": {
						"displayName": "Cici Du",
						"userId": "17701548280142155870"
					},
					"user_tz": -480
				},
				"id": "N7rH8e33_vkz"
			},
			"outputs": [],
			"source": [
				"log_dir = \"RL/SB3_stored_models/Aug_10_3\"\n",
				"retrieve_dir = \"RL/SB3_stored_models/Aug_10_3/\""
			]
		},
		{
			"cell_type": "code",
			"execution_count": null,
			"metadata": {
				"executionInfo": {
					"elapsed": 45,
					"status": "aborted",
					"timestamp": 1684812485281,
					"user": {
						"displayName": "Cici Du",
						"userId": "17701548280142155870"
					},
					"user_tz": -480
				},
				"id": "i17gp6ZifXZ6"
			},
			"outputs": [],
			"source": [
				"!pip install wheel==0.38.4\n",
				"!pip3 install setuptools==65.5.0\n",
				"!pip install stable_baselines3\n",
				"from stable_baselines3 import SAC\n",
				"\n",
				"env_kwargs = {\"action_noise_std\": 0.2, \n",
				"              \"ffxy_noise_std\": 4, \n",
				"              \"num_obs_ff\": 2,\n",
				"              \"full_memory\": 3}\n",
				"\n",
				"if use_SB3:\n",
				"\n",
				"    PLAYER = \"agent\"\n",
				"\n",
				"    log_dir = \"RL/SB3_stored_models/A0.2_O4_ff2_memory3/\"\n",
				"    data_folder_name = log_dir\n",
				"    os.makedirs(log_dir, exist_ok=True)\n",
				"\n",
				"\n",
				"    env = env.CollectInformation(**env_kwargs)\n",
				"    env.reset()\n",
				"\n",
				"    # For direct training\n",
				"    sac_model = SAC(\"MlpPolicy\", \n",
				"                env,\n",
				"                gamma=0.995,\n",
				"                learning_rate=0.0015,\n",
				"                batch_size=1024,\n",
				"                target_update_interval=50,\n",
				"                buffer_size=1000000,\n",
				"                learning_starts=10000,\n",
				"                train_freq=10,\n",
				"                ent_coef=0.00083,\n",
				"                policy_kwargs=dict(activation_fn=nn.Tanh, net_arch=[128, 128])\n",
				"                    )\n",
				"\n",
				"\n",
				"    path = os.path.join(log_dir, 'best_model.zip')\n",
				"    sac_model = sac_model.load(path, env=env)\n",
				"    \n",
				"    monkey_information, ff_flash_sorted, ff_caught_T_sorted, ff_believed_position_sorted, ff_real_position_sorted, \\\n",
				"        ff_life_sorted, ff_flash_end_sorted, caught_ff_num, total_ff_num, obs_ff_indices_in_ff_dataframe, sorted_indices_all, ff_noisy_xy_in_obs \\\n",
				"        =collect_agent_data.collect_agent_data_func(env, sac_model, n_steps = 15000)\n",
				"\n",
				"    ff_dataframe_args = (monkey_information, ff_caught_T_sorted, ff_flash_sorted,  ff_real_position_sorted, ff_life_sorted)\n",
				"    ff_dataframe_kargs = {\"max_distance\": 400, \"data_folder_name\": data_folder_name, \"num_missed_index\": 0}\n",
				"    ff_dataframe = make_ff_dataframe.make_ff_dataframe_func(*ff_dataframe_args, **ff_dataframe_kargs, player = \"agent\", \n",
				"                                     obs_ff_indices_in_ff_dataframe = obs_ff_indices_in_ff_dataframe, ff_noisy_xy_in_obs = ff_noisy_xy_in_obs)\n",
				"    min_point_index, max_point_index = np.min(np.array(ff_dataframe['point_index'])), np.max(np.array(ff_dataframe['point_index']))\n",
				"\n",
				"    filepath = data_folder_name + '/all_trial_features.csv'\n",
				"    if (PLAYER == \"monkey\") & (exists(filepath)):\n",
				"        all_trial_features = pd.read_csv(filepath)\n",
				"    else:\n",
				"        all_trial_features = analyze_patterns_and_features.make_all_trial_features(ff_dataframe, monkey_information, ff_caught_T_sorted, cluster_around_target_indices, ff_believed_position_sorted,  data_folder_name = data_folder_name)\n",
				"\n"
			]
		},
		{
			"cell_type": "markdown",
			"metadata": {
				"id": "XC2iRPacpKsV"
			},
			"source": [
				"## LSTM agent data"
			]
		},
		{
			"cell_type": "code",
			"execution_count": null,
			"metadata": {
				"executionInfo": {
					"elapsed": 45,
					"status": "aborted",
					"timestamp": 1684812485281,
					"user": {
						"displayName": "Cici Du",
						"userId": "17701548280142155870"
					},
					"user_tz": -480
				},
				"id": "bN4bep6epSFc"
			},
			"outputs": [],
			"source": [
				"if use_LSTM:\n",
				"      \n",
				"    from RL.LSTM_agent_params import *\n",
				"    PLAYER = \"agent\"\n",
				"\n",
				"    log_dir = \"RL_models/LSTM_stored_models/LSTM_Jan_11\"\n",
				"    data_folder_name = log_dir\n",
				"    os.makedirs(log_dir, exist_ok=True)\n",
				"\n",
				"\n",
				"    replay_buffer_size=100\n",
				"    replay_buffer = LSTM_functions.ReplayBufferLSTM2(replay_buffer_size)\n",
				"    sac_model=LSTM_functions.SAC_Trainer(replay_buffer, state_space, action_space, hidden_dim=hidden_dim, action_range=action_range,\\\n",
				"                          gamma = gamma, soft_q_lr = soft_q_lr, policy_lr = policy_lr, alpha_lr = alpha_lr, \\\n",
				"                          batch_size = batch_size, update_itr = update_itr, reward_scale = reward_scale, \\\n",
				"                          target_entropy = target_entropy, soft_tau = soft_tau, train_freq = train_freq, device = device)\n",
				"\n",
				"\n",
				"    # Load agent\n",
				"    sac_model.load_model(log_dir)\n",
				"\n",
				"    env = env.CollectInformationLSTM()\n",
				"    env.flash_on_interval = 0.3\n",
				"    env.distance2center_cost = 0\n",
				"    sac_model.load_model(log_dir)\n",
				"\n",
				"\n",
				"\n",
				"    monkey_information, ff_flash_sorted, ff_caught_T_sorted, ff_believed_position_sorted, \\\n",
				"              ff_real_position_sorted, ff_life_sorted, ff_flash_end_sorted, caught_ff_num, total_ff_num, \\\n",
				"              obs_ff_indices_in_ff_dataframe, sorted_indices_all \\\n",
				"              = collect_agent_data.collect_agent_data_func(env, sac_model, n_steps = 5000, LSTM = True, hidden_dim= hidden_dim, device = device, deterministic = False)\n",
				"\n",
				"    ff_dataframe_args = (monkey_information, ff_caught_T_sorted, ff_flash_sorted,  ff_real_position_sorted, ff_life_sorted)\n",
				"    ff_dataframe_kargs = {\"max_distance\": 400, \"data_folder_name\": data_folder_name, \"num_missed_index\": 0}\n",
				"    ff_dataframe = make_ff_dataframe.make_ff_dataframe_func(*ff_dataframe_args, **ff_dataframe_kargs, player = \"agent\",  \\\n",
				"                                      obs_ff_indices_in_ff_dataframe = obs_ff_indices_in_ff_dataframe, ff_noisy_xy_in_obs = ff_noisy_xy_in_obs)\n",
				"    min_point_index, max_point_index = np.min(np.array(ff_dataframe['point_index'])), np.max(np.array(ff_dataframe['point_index']))\n",
				"\n",
				"    filepath = data_folder_name + '/all_trial_features.csv'\n",
				"    if (PLAYER == \"monkey\") & (exists(filepath)):\n",
				"        all_trial_features = pd.read_csv(filepath)\n",
				"    else:\n",
				"        all_trial_features = analyze_patterns_and_features.make_all_trial_features(ff_dataframe, monkey_information, ff_caught_T_sorted, cluster_around_target_indices, ff_believed_position_sorted,  data_folder_name = data_folder_name)\n",
				"\n"
			]
		},
		{
			"cell_type": "markdown",
			"metadata": {
				"id": "vpfLmmTI8Xd4"
			},
			"source": [
				"## Monkey data"
			]
		},
		{
			"cell_type": "markdown",
			"metadata": {
				"id": "VmpWwrcJ8Xd5"
			},
			"source": [
				"Might need to remake some of the dataframes after changing the approach to calculate monkey's angle"
			]
		},
		{
			"cell_type": "code",
			"execution_count": null,
			"metadata": {
				"executionInfo": {
					"elapsed": 45,
					"status": "aborted",
					"timestamp": 1684812485281,
					"user": {
						"displayName": "Cici Du",
						"userId": "17701548280142155870"
					},
					"user_tz": -480
				},
				"id": "VMQkPcVb8Xd6"
			},
			"outputs": [],
			"source": [
				"if use_monkey:\n",
				"\n",
				"    PLAYER = \"monkey\"\n",
				"    raw_data_folder_name = \"all_monkey_data/individual_monkey_data/monkey_Bruno/data_0330\"\n",
				"    data_folder_name = os.path.join(raw_data_folder_name, 'monkey_patterns')\n",
				"    \n",
				"    monkey_information, ff_caught_T_sorted, ff_index_sorted, ff_real_position_sorted, ff_believed_position_sorted, ff_life_sorted, ff_flash_sorted, ff_flash_end_sorted \\\n",
				"                = process_raw_data.log_extractor(raw_data_folder_name = raw_data_folder_name).extract_data(monkey_information_exists_OK = True)\n",
				"\n",
				"    filepath = data_folder_name + '/ff_dataframe.csv'\n",
				"    if exists(filepath):\n",
				"        ff_dataframe = pd.read_csv(filepath).drop([\"Unnamed: 0\"], axis=1)\n",
				"        ff_dataframe.memory = ff_dataframe.memory.astype('int')\n",
				"    else:\n",
				"        ff_dataframe_args = (monkey_information, ff_caught_T_sorted, ff_flash_sorted,  ff_real_position_sorted, ff_life_sorted)\n",
				"        ff_dataframe_kargs = {\"max_distance\": 400, \"data_folder_name\": data_folder_name, \"num_missed_index\": 0}\n",
				"        ff_dataframe = make_ff_dataframe.make_ff_dataframe_func(*ff_dataframe_args, **ff_dataframe_kargs, player = \"monkey\")\n",
				"    min_point_index, max_point_index = np.min(np.array(ff_dataframe['point_index'])), np.max(np.array(ff_dataframe['point_index']))\n",
				"\n",
				"\n",
				"    caught_ff_num = len(ff_caught_T_sorted)\n",
				"    cluster_around_target_trials, cluster_around_target_indices, cluster_around_target_positions = find_patterns.cluster_around_target_func(ff_dataframe, caught_ff_num, ff_caught_T_sorted, ff_real_position_sorted, max_time_apart = 1.25)\n",
				"\n",
				"\n",
				"    info_of_monkey = {\n",
				"            \"monkey_information\": monkey_information,\n",
				"            \"ff_dataframe\": ff_dataframe,\n",
				"            \"ff_caught_T_sorted\": ff_caught_T_sorted,\n",
				"            \"ff_real_position_sorted\": ff_real_position_sorted,\n",
				"            \"ff_believed_position_sorted\": ff_believed_position_sorted,\n",
				"            \"ff_life_sorted\": ff_life_sorted,\n",
				"            \"ff_flash_sorted\": ff_flash_sorted,\n",
				"            \"ff_flash_end_sorted\": ff_flash_end_sorted,\n",
				"            \"cluster_around_target_indices\": cluster_around_target_indices\n",
				"    }\n",
				"\n",
				"\n",
				"    filepath = data_folder_name + '/all_trial_features.csv'\n",
				"    if (PLAYER == \"monkey\") & (exists(filepath)):\n",
				"        all_trial_features = pd.read_csv(filepath)\n",
				"    else:\n",
				"        all_trial_features = analyze_patterns_and_features.make_all_trial_features(ff_dataframe, monkey_information, ff_caught_T_sorted, cluster_around_target_indices, ff_believed_position_sorted,  data_folder_name = data_folder_name)"
			]
		},
		{
			"cell_type": "markdown",
			"metadata": {
				"id": "PJPJmkCUaapn"
			},
			"source": [
				"# Find patterns"
			]
		},
		{
			"cell_type": "code",
			"execution_count": null,
			"metadata": {
				"executionInfo": {
					"elapsed": 45,
					"status": "aborted",
					"timestamp": 1684812485281,
					"user": {
						"displayName": "Cici Du",
						"userId": "17701548280142155870"
					},
					"user_tz": -480
				},
				"id": "iRD79ZHyaapn"
			},
			"outputs": [],
			"source": [
				"n_ff_in_a_row = find_patterns.n_ff_in_a_row_func(ff_believed_position_sorted, distance_between_ff = 50)\n",
				"two_in_a_row = np.where(n_ff_in_a_row==2)[0]\n",
				"two_in_a_row_simul, two_in_a_row_non_simul = find_patterns.whether_current_and_last_targets_are_captured_simultaneously(two_in_a_row, ff_caught_T_sorted)\n",
				"\n",
				"on_before_last_one_trials = find_patterns.on_before_last_one_func(ff_flash_end_sorted, ff_caught_T_sorted, caught_ff_num)\n",
				"on_before_last_one_simul, on_before_last_one_non_simul = find_patterns.whether_current_and_last_targets_are_captured_simultaneously(on_before_last_one_trials, ff_caught_T_sorted)\n",
				"\n",
				"visible_before_last_one_trials = find_patterns.visible_before_last_one_func(ff_dataframe)\n",
				"\n",
				"disappear_latest_trials = find_patterns.disappear_latest_func(ff_dataframe)\n",
				"\n",
				"# cluster_exist_trials, cluster_dataframe_point, cluster_dataframe_trial = find_patterns.clusters_of_ffs_func(point_vs_cluster, monkey_information, ff_caught_T_sorted)\n",
				"\n",
				"# waste_cluster_trials = np.intersect1d(cluster_exist_trials+1, np.where(n_ff_in_a_row == 1)[0])\n",
				"\n",
				"cluster_around_target_trials, cluster_around_target_indices, cluster_around_target_positions = find_patterns.cluster_around_target_func(ff_dataframe, caught_ff_num, ff_caught_T_sorted, ff_real_position_sorted, max_time_apart = 1.25)\n",
				"\n",
				"waste_cluster_around_target_trials = np.intersect1d(cluster_around_target_trials+1, np.where(n_ff_in_a_row == 1)[0])\n",
				"\n",
				"ignore_sudden_flash_trials, ignore_sudden_flash_indices, ignore_sudden_flash_indices_for_anim, ignored_ff_target_pairs = find_patterns.ignore_sudden_flash_func(ff_dataframe, ff_real_position_sorted, max_point_index, max_ff_distance_from_monkey = 50)\n",
				"ignore_sudden_flash_time = monkey_information['monkey_t'][ignore_sudden_flash_indices]\n",
				"\n",
				"try_a_few_times_trials, try_a_few_times_indices, try_a_few_times_indices_for_anim = find_patterns.try_a_few_times_func(ff_caught_T_sorted, monkey_information, ff_believed_position_sorted, PLAYER, max_point_index)\n",
				"\n",
				"give_up_after_trying_trials, give_up_after_trying_indices, give_up_after_trying_indices_for_anim = find_patterns.give_up_after_trying_func(ff_caught_T_sorted, monkey_information, ff_believed_position_sorted, PLAYER, max_point_index)\n"
			]
		},
		{
			"cell_type": "markdown",
			"metadata": {
				"id": "4GYdpLo5Q4rw"
			},
			"source": [
				"# Classic plots"
			]
		},
		{
			"cell_type": "markdown",
			"metadata": {
				"id": "t_z7U_MZQ4rx"
			},
			"source": [
				"## Visible before last one"
			]
		},
		{
			"cell_type": "code",
			"execution_count": null,
			"metadata": {
				"executionInfo": {
					"elapsed": 45,
					"status": "aborted",
					"timestamp": 1684812485281,
					"user": {
						"displayName": "Cici Du",
						"userId": "17701548280142155870"
					},
					"user_tz": -480
				},
				"id": "Mz5mUSA1KLBc"
			},
			"outputs": [],
			"source": [
				"trial_total_num = 30"
			]
		},
		{
			"cell_type": "code",
			"execution_count": null,
			"metadata": {
				"executionInfo": {
					"elapsed": 44,
					"status": "aborted",
					"timestamp": 1684812485281,
					"user": {
						"displayName": "Cici Du",
						"userId": "17701548280142155870"
					},
					"user_tz": -480
				},
				"id": "g1SZEab7Q4rx"
			},
			"outputs": [],
			"source": [
				"category = visible_before_last_one_trials\n",
				"category = category[category > num_trials]\n",
				"category_name = 'visible_before_last_one'\n",
				"num_trials = 2\n",
				"\n",
				"if len(category) > 0:\n",
				"  with basic_func.initiate_plot(10, 10, 100):\n",
				"      #for currentTrial in category[:trial_total_num]:\n",
				"      for currentTrial in [137, 349]:\n",
				"\n",
				"      #for currentTrial in category[40:60]:\n",
				"        duration = [ff_caught_T_sorted[currentTrial-num_trials], ff_caught_T_sorted[currentTrial]]\n",
				"        \n",
				"        plot_behaviors.PlotTrials(duration, \n",
				"                   *plot_behaviors.PlotTrials_args,\n",
				"                   **classic_plot_kwargs,\n",
				"                   currentTrial = currentTrial,\n",
				"                   num_trials = num_trials,                                  \n",
				"                   show_connect_path_ff_except_targets = True,\n",
				"                   show_path_when_target_visible = True,\n",
				"                   )\n",
				"\n",
				"        temp_animation_plot_kwargs = animation_plot_kwargs.copy()\n",
				"        #temp_animation_plot_kwargs['show_connect_path_ff_except_targets'] = True\n",
				"        temp_animation_plot_kwargs['show_path_when_target_visible'] = True\n",
				"        make_animation_with_plots(data_instance, currentTrial, num_trials, monkey_name, data_name, category_name, temp_animation_plot_kwargs)\n",
				"        \n",
				"\n",
				"        plt.show()  \n",
				"        plt.close()"
			]
		},
		{
			"cell_type": "markdown",
			"metadata": {
				"id": "WKTpRS_oQ4rx"
			},
			"source": [
				"## Disappear latest"
			]
		},
		{
			"cell_type": "code",
			"execution_count": null,
			"metadata": {
				"executionInfo": {
					"elapsed": 44,
					"status": "aborted",
					"timestamp": 1684812485281,
					"user": {
						"displayName": "Cici Du",
						"userId": "17701548280142155870"
					},
					"user_tz": -480
				},
				"id": "O-raB3Q1Q4rx"
			},
			"outputs": [],
			"source": [
				"category = disappear_latest_trials\n",
				"category = category[category > num_trials]\n",
				"category_name = 'disappear_latest'\n",
				"num_trials = 1\n",
				"\n",
				"if len(category) > 0:\n",
				"  with basic_func.initiate_plot(10,10,100):\n",
				"    for currentTrial in category[:trial_total_num]:\n",
				"        duration = [ff_caught_T_sorted[currentTrial-num_trials], ff_caught_T_sorted[currentTrial]]\n",
				"\n",
				"        plot_behaviors.PlotTrials(duration, \n",
				"                   *plot_behaviors.PlotTrials_args,\n",
				"                   **classic_plot_kwargs,\n",
				"                   currentTrial = currentTrial,\n",
				"                   num_trials = num_trials,\n",
				"                   show_connect_path_ff = True,\n",
				"        )\n",
				"\n",
				"        temp_animation_plot_kwargs = animation_plot_kwargs.copy()\n",
				"        make_animation_with_plots(data_instance, currentTrial, num_trials, monkey_name, data_name, category_name, temp_animation_plot_kwargs)\n",
				"        \n",
				"\n",
				"        plt.show()  \n",
				"        plt.close()"
			]
		},
		{
			"cell_type": "markdown",
			"metadata": {
				"id": "i8_SvEy8Q4rw"
			},
			"source": [
				"## 2 in a row"
			]
		},
		{
			"cell_type": "code",
			"execution_count": null,
			"metadata": {
				"executionInfo": {
					"elapsed": 44,
					"status": "aborted",
					"timestamp": 1684812485281,
					"user": {
						"displayName": "Cici Du",
						"userId": "17701548280142155870"
					},
					"user_tz": -480
				},
				"id": "3eak30-AQ4rw",
				"scrolled": true
			},
			"outputs": [],
			"source": [
				"category = two_in_a_row\n",
				"category = category[category > num_trials]\n",
				"#category = two_in_a_row_simuly\n",
				"#category = two_in_a_row_non_simul\n",
				"#category = used_cluster  --> two_in_a_row_non_simul ^ on_before_last_one\n",
				"category_name = 'two_in_a_row'\n",
				"\n",
				"num_trials = 2 \n",
				"\n",
				"if len(category) > 0:\n",
				"  with basic_func.initiate_plot(10,10,100):\n",
				"    for currentTrial in category[:trial_total_num]:\n",
				"    #for currentTrial in [17, 45]:\n",
				"        duration = [ff_caught_T_sorted[currentTrial-num_trials], ff_caught_T_sorted[currentTrial]]\n",
				"        plot_behaviors.PlotTrials(duration, \n",
				"                   *plot_behaviors.PlotTrials_args,\n",
				"                   **classic_plot_kwargs,\n",
				"                   currentTrial = currentTrial,\n",
				"                   num_trials = num_trials,                   \n",
				"                   show_connect_path_ff_except_targets = True,\n",
				"                   show_path_when_target_visible = True,\n",
				"                   )\n",
				"        \n",
				"        temp_animation_plot_kwargs = animation_plot_kwargs.copy()   \n",
				"        #temp_animation_plot_kwargs['show_connect_path_ff_except_targets'] = True\n",
				"        temp_animation_plot_kwargs['show_path_when_target_visible'] = True     \n",
				"        make_animation_with_plots(data_instance, currentTrial, num_trials, monkey_name, data_name, category_name, temp_animation_plot_kwargs)\n",
				"        \n",
				"        plt.show()  \n",
				"        plt.close()"
			]
		},
		{
			"cell_type": "markdown",
			"metadata": {
				"id": "xB7Acvz5Q4rz"
			},
			"source": [
				"## Waste cluster around last target"
			]
		},
		{
			"cell_type": "code",
			"execution_count": null,
			"metadata": {
				"executionInfo": {
					"elapsed": 45,
					"status": "aborted",
					"timestamp": 1684812485282,
					"user": {
						"displayName": "Cici Du",
						"userId": "17701548280142155870"
					},
					"user_tz": -480
				},
				"id": "UGSK0EG-Q4rz"
			},
			"outputs": [],
			"source": [
				"category = waste_cluster_around_target_trials\n",
				"category = category[category > num_trials]\n",
				"category_name = 'waste_cluster_around_target'\n",
				"\n",
				"num_trials = 2\n",
				"\n",
				"if len(category) > 0:\n",
				"  with basic_func.initiate_plot(10,10,100):\n",
				"    for currentTrial in category[:trial_total_num]:\n",
				"        duration = [ff_caught_T_sorted[currentTrial-num_trials], ff_caught_T_sorted[currentTrial]]\n",
				"        \n",
				"        plot_behaviors.PlotTrials(duration, \n",
				"                   *plot_behaviors.PlotTrials_args,\n",
				"                   **classic_plot_kwargs,\n",
				"                   currentTrial = currentTrial,\n",
				"                   num_trials = num_trials,\n",
				"                   show_connect_path_ff = True,\n",
				"                   trial_to_show_cluster_around_target = \"previous\",\n",
				"                   )\n",
				"\n",
				"        temp_animation_plot_kwargs = animation_plot_kwargs.copy()\n",
				"        temp_animation_plot_kwargs['trial_to_show_cluster_around_target'] = \"previous\"\n",
				"        make_animation_with_plots(data_instance, currentTrial, num_trials, monkey_name, data_name, category_name, temp_animation_plot_kwargs)\n",
				"        \n",
				"\n",
				"        plt.show()  \n",
				"        plt.close()"
			]
		},
		{
			"cell_type": "markdown",
			"metadata": {
				"id": "EG2-3zcpQ4rz"
			},
			"source": [
				"## Try a few times"
			]
		},
		{
			"cell_type": "code",
			"execution_count": null,
			"metadata": {
				"executionInfo": {
					"elapsed": 45,
					"status": "aborted",
					"timestamp": 1684812485282,
					"user": {
						"displayName": "Cici Du",
						"userId": "17701548280142155870"
					},
					"user_tz": -480
				},
				"id": "TVmQR07yQ4rz"
			},
			"outputs": [],
			"source": [
				"category = try_a_few_times_trials\n",
				"category = category[category > num_trials]\n",
				"category_name = 'try_a_few_times'\n",
				"num_trials = 2\n",
				"\n",
				"\n",
				"if len(category) > 0:\n",
				"  with basic_func.initiate_plot(10,10,100):\n",
				"    for currentTrial in category[:trial_total_num+5]:\n",
				"        duration = [ff_caught_T_sorted[currentTrial-num_trials], ff_caught_T_sorted[currentTrial]]\n",
				"        plot_behaviors.PlotTrials(duration, \n",
				"                   *plot_behaviors.PlotTrials_args,\n",
				"                   **classic_plot_kwargs,\n",
				"                   currentTrial = currentTrial,\n",
				"                   num_trials = num_trials,\n",
				"                   show_connect_path_ff = True,                \n",
				"                   )\n",
				"\n",
				"        plt.show()  \n",
				"        plt.close()\n",
				"        \n",
				"        temp_animation_plot_kwargs = animation_plot_kwargs.copy()\n",
				"        make_animation_with_plots(data_instance, currentTrial, num_trials, monkey_name, data_name, category_name, temp_animation_plot_kwargs)\n",
				"        \n"
			]
		},
		{
			"cell_type": "markdown",
			"metadata": {
				"id": "FztXyZjiQ4rz"
			},
			"source": [
				"## Give up after trying"
			]
		},
		{
			"cell_type": "code",
			"execution_count": null,
			"metadata": {
				"executionInfo": {
					"elapsed": 45,
					"status": "aborted",
					"timestamp": 1684812485282,
					"user": {
						"displayName": "Cici Du",
						"userId": "17701548280142155870"
					},
					"user_tz": -480
				},
				"id": "euPibkB_Q4rz"
			},
			"outputs": [],
			"source": [
				"category = give_up_after_trying_trials\n",
				"category = category[category > num_trials]\n",
				"category_name = 'give_up_after_trying'\n",
				"\n",
				"\n",
				"num_trials = 2\n",
				"\n",
				"\n",
				"if len(category) > 0:\n",
				"  with basic_func.initiate_plot(10,10,100):\n",
				"    for currentTrial in category[:trial_total_num]:\n",
				"        duration = [ff_caught_T_sorted[currentTrial-num_trials], ff_caught_T_sorted[currentTrial]]\n",
				"        plot_behaviors.PlotTrials(duration, \n",
				"                   *plot_behaviors.PlotTrials_args,\n",
				"                   **classic_plot_kwargs,\n",
				"                   currentTrial = currentTrial,\n",
				"                   num_trials = num_trials,\n",
				"                   show_connect_path_ff = True,\n",
				"                   )\n",
				"        \n",
				"\n",
				"        plt.show()  \n",
				"        plt.close()\n",
				"\n",
				"        temp_animation_plot_kwargs = animation_plot_kwargs.copy()\n",
				"        make_animation_with_plots(data_instance, currentTrial, num_trials, monkey_name, data_name, category_name, temp_animation_plot_kwargs)\n",
				"        "
			]
		},
		{
			"cell_type": "markdown",
			"metadata": {
				"id": "QZ3YrvXaQ4rz"
			},
			"source": [
				"## Ignore sudden flash"
			]
		},
		{
			"cell_type": "code",
			"execution_count": null,
			"metadata": {
				"executionInfo": {
					"elapsed": 45,
					"status": "aborted",
					"timestamp": 1684812485282,
					"user": {
						"displayName": "Cici Du",
						"userId": "17701548280142155870"
					},
					"user_tz": -480
				},
				"id": "pUKzPNbfeyZh"
			},
			"outputs": [],
			"source": [
				"neeeeeed this:\n",
				"indices_of_ff_to_mark = ignored_ff_indices, "
			]
		},
		{
			"cell_type": "code",
			"execution_count": null,
			"metadata": {
				"executionInfo": {
					"elapsed": 44,
					"status": "aborted",
					"timestamp": 1684812485282,
					"user": {
						"displayName": "Cici Du",
						"userId": "17701548280142155870"
					},
					"user_tz": -480
				},
				"id": "LLp7zNYJQ4rz"
			},
			"outputs": [],
			"source": [
				"category = ignore_sudden_flash_trials\n",
				"category = category[category > num_trials]\n",
				"category_name = 'ignore_sudden_flash'\n",
				"\n",
				"num_trials = 1\n",
				"\n",
				"ignored_ff_target_pairs_index_only = ignored_ff_target_pairs[['ff_index']]\n",
				"\n",
				"if len(category) > 0:\n",
				"  with basic_func.initiate_plot(10,10,100):\n",
				"    for currentTrial in category[:trial_total_num]:\n",
				"        duration = [ff_caught_T_sorted[currentTrial-num_trials], ff_caught_T_sorted[currentTrial]]\n",
				"\n",
				"        ignored_ff_indices = np.array(ignored_ff_target_pairs_index_only.loc[currentTrial]).reshape(-1).tolist()\n",
				"\n",
				"        plot_behaviors.PlotTrials(duration, \n",
				"                   *plot_behaviors.PlotTrials_args,\n",
				"                   **classic_plot_kwargs,\n",
				"                   currentTrial = currentTrial,\n",
				"                   num_trials = num_trials,                   \n",
				"                   show_connect_path_ff = True,\n",
				"                   indices_of_ff_to_mark = ignored_ff_indices,             \n",
				"                   )\n",
				"        \n",
				"\n",
				"        plt.show()  \n",
				"        plt.close()\n",
				"\n",
				"\n",
				"        temp_animation_plot_kwargs = animation_plot_kwargs.copy()\n",
				"        temp_animation_plot_kwargs['indices_of_ff_to_mark'] = ignored_ff_indices\n",
				"        make_animation_with_plots(data_instance, currentTrial, num_trials, monkey_name, data_name, category_name, temp_animation_plot_kwargs)\n",
				"        "
			]
		},
		{
			"cell_type": "markdown",
			"metadata": {
				"id": "UqDJzms0vBY-"
			},
			"source": [
				"### Relative locations of all the ignored ff"
			]
		},
		{
			"cell_type": "code",
			"execution_count": null,
			"metadata": {
				"executionInfo": {
					"elapsed": 44,
					"status": "aborted",
					"timestamp": 1684812485282,
					"user": {
						"displayName": "Cici Du",
						"userId": "17701548280142155870"
					},
					"user_tz": -480
				},
				"id": "McA7vhRkWTku"
			},
			"outputs": [],
			"source": [
				"rmax = 55\n",
				"print(\"Using ff_angle\")\n",
				"\n",
				"fig = plt.figure(figsize=(7, 7))\n",
				"ax = fig.add_axes([0.1, 0.1, 0.8, 0.8], polar=True)\n",
				"ax.set_theta_zero_location(\"N\")\n",
				"ax.set_rlabel_position(292.5)\n",
				"ax.set_ylim(0, rmax)\n",
				"# Draw the boundary of the monkey's vision (use width = np.pi*4/9 for 40 degrees of vision)\n",
				"ax.bar(0, rmax, width=np.pi/2, bottom=0.0, color=\"grey\", alpha=0.1)\n",
				"plt.setp(ax, rorigin=0, rmin=0, rmax=rmax)   # rmax can be changed\n",
				"\n",
				"# Change the labels for the angles \n",
				"labels = list(ax.get_xticks())\n",
				"labels[5], labels[6], labels[7] = -labels[3], -labels[2], -labels[1]\n",
				"labels_degrees = [str(int(math.degrees(label))) + chr(176) for label in labels]\n",
				"ax.set_xticks(ax.get_xticks().tolist())\n",
				"ax.set_xticklabels(labels_degrees)\n",
				"\n",
				"# Plot the locations of the FFs\n",
				"ax.scatter(ignored_ff_target_pairs['ff_angle'], ignored_ff_target_pairs['ff_distance'], marker='.', s=20, alpha=1)\n",
				"plt.show()"
			]
		},
		{
			"cell_type": "code",
			"execution_count": null,
			"metadata": {
				"executionInfo": {
					"elapsed": 44,
					"status": "aborted",
					"timestamp": 1684812485282,
					"user": {
						"displayName": "Cici Du",
						"userId": "17701548280142155870"
					},
					"user_tz": -480
				},
				"id": "HPUTDk2LXHXj"
			},
			"outputs": [],
			"source": [
				"rmax = 55\n",
				"print(\"Using ff_angle_boundary\")\n",
				"\n",
				"fig = plt.figure(figsize=(7, 7))\n",
				"ax = fig.add_axes([0.1, 0.1, 0.8, 0.8], polar=True)\n",
				"ax.set_theta_zero_location(\"N\")\n",
				"ax.set_rlabel_position(292.5)\n",
				"ax.set_ylim(0, rmax)\n",
				"# Draw the boundary of the monkey's vision (use width = np.pi*4/9 for 40 degrees of vision)\n",
				"ax.bar(0, rmax, width=np.pi/2, bottom=0.0, color=\"grey\", alpha=0.1)\n",
				"plt.setp(ax, rorigin=0, rmin=0, rmax=rmax)   # rmax can be changed\n",
				"\n",
				"# Change the labels for the angles \n",
				"labels = list(ax.get_xticks())\n",
				"labels[5], labels[6], labels[7] = -labels[3], -labels[2], -labels[1]\n",
				"labels_degrees = [str(int(math.degrees(label))) + chr(176) for label in labels]\n",
				"ax.set_xticks(ax.get_xticks().tolist())\n",
				"ax.set_xticklabels(labels_degrees)\n",
				"\n",
				"# Plot the locations of the FFs\n",
				"ax.scatter(ignored_ff_target_pairs['ff_angle_boundary'], ignored_ff_target_pairs['ff_distance'], marker='.', s=20, alpha=1)\n",
				"\n",
				"plt.show()"
			]
		},
		{
			"cell_type": "markdown",
			"metadata": {
				"id": "U2fRfR9_8zI4"
			},
			"source": [
				"# Subplots"
			]
		},
		{
			"cell_type": "markdown",
			"metadata": {
				"id": "gvTgRN7-85fa"
			},
			"source": [
				"## Visible before last one"
			]
		},
		{
			"cell_type": "code",
			"execution_count": null,
			"metadata": {
				"executionInfo": {
					"elapsed": 44,
					"status": "aborted",
					"timestamp": 1684812485282,
					"user": {
						"displayName": "Cici Du",
						"userId": "17701548280142155870"
					},
					"user_tz": -480
				},
				"id": "aNK2KNJH9Gir"
			},
			"outputs": [],
			"source": [
				"trial_total_num = 10\n",
				"plot_behaviors.PlotTrials_args = (monkey_information, ff_dataframe, ff_life_sorted, ff_real_position_sorted, ff_believed_position_sorted, cluster_around_target_indices, ff_caught_T_sorted)"
			]
		},
		{
			"cell_type": "code",
			"execution_count": null,
			"metadata": {
				"executionInfo": {
					"elapsed": 44,
					"status": "aborted",
					"timestamp": 1684812485282,
					"user": {
						"displayName": "Cici Du",
						"userId": "17701548280142155870"
					},
					"user_tz": -480
				},
				"id": "NVLunpSo85fb"
			},
			"outputs": [],
			"source": [
				"category = visible_before_last_one_trials\n",
				"\n",
				"num_trials = 2\n",
				"k = 1\n",
				"if len(category) > 0:\n",
				"  with basic_func.initiate_plot(10, 10, 100):\n",
				"      fig = plt.figure()\n",
				"      for currentTrial in category[:100]:\n",
				"        axes = fig.add_subplot(2,2,k)\n",
				"\n",
				"        duration = [ff_caught_T_sorted[currentTrial-num_trials], ff_caught_T_sorted[currentTrial]]\n",
				"        \n",
				"        whether_plotted = plot_behaviors.PlotTrials(duration, \n",
				"                   *plot_behaviors.PlotTrials_args,\n",
				"                   **classic_plot_kwargs,\n",
				"                   currentTrial = currentTrial,\n",
				"                   num_trials = num_trials,\n",
				"                   fig = fig,\n",
				"                   axes = axes,\n",
				"                   subplots = True,\n",
				"                   show_connect_path_ff_except_targets = True,\n",
				"                   show_path_when_target_visible = True,\n",
				"                   )\n",
				"        if whether_plotted is True:\n",
				"            k += 1\n",
				"        if k == 5:\n",
				"            plt.show()  \n",
				"            plt.close()\n",
				"            break\n",
				"        \n",
				"\n",
				"        "
			]
		},
		{
			"cell_type": "markdown",
			"metadata": {
				"id": "H4vXPEL8Vu3D"
			},
			"source": [
				"# Combined plots"
			]
		},
		{
			"cell_type": "markdown",
			"metadata": {
				"id": "J49kpc5CvYaz"
			},
			"source": [
				"## Visible before last one"
			]
		},
		{
			"cell_type": "code",
			"execution_count": null,
			"metadata": {
				"executionInfo": {
					"elapsed": 45,
					"status": "aborted",
					"timestamp": 1684812485283,
					"user": {
						"displayName": "Cici Du",
						"userId": "17701548280142155870"
					},
					"user_tz": -480
				},
				"id": "BEKOM_oJvYaz"
			},
			"outputs": [],
			"source": [
				"category = visible_before_last_one_trials\n",
				"num_trials = 2\n",
				"xmin, xmax, ymin, ymax = 0, 0, 0, 0\n",
				"               \n",
				"if len(category) > 0:\n",
				"  with basic_func.initiate_plot(10, 10, 100):\n",
				"      fig = plt.figure()\n",
				"      axes = fig.add_subplot(111)\n",
				"      for currentTrial in category[:50]:\n",
				"          duration = [ff_caught_T_sorted[currentTrial-num_trials], ff_caught_T_sorted[currentTrial]]\n",
				"          whether_plotted, axes, R, cum_mxy_rotate, shown_ff_indices = plot_behaviors.PlotTrials(duration, \n",
				"                                                          *plot_behaviors.PlotTrials_args,                                                          \n",
				"                                                          **combined_plot_kwargs,\n",
				"                                                          currentTrial = currentTrial,\n",
				"                                                          num_trials = num_trials,\n",
				"                                                          fig = fig,\n",
				"                                                          axes = axes,\n",
				"                                                          show_path_when_target_visible = True,\n",
				"                                                          )\n",
				"          \n",
				"          if whether_plotted is True:\n",
				"              x0, y0 = cum_mxy_rotate[0][0], cum_mxy_rotate[1][0]\n",
				"              ff_believed_position_rotate = np.matmul(R, np.stack((ff_believed_position_sorted[currentTrial-num_trials+1:currentTrial+1].T[0], ff_believed_position_sorted[currentTrial-num_trials+1:currentTrial+1].T[1])))\n",
				"              axes.scatter(ff_believed_position_rotate[0]-x0, ff_believed_position_rotate[1]-y0, s=40, alpha=0.85, zorder=5)\n",
				"              xmin, ymin, xmax, ymax = plot_behaviors.update_plot_limits(xmin, ymin, xmax, ymax, cum_mxy_rotate)\n",
				"\n",
				"      axes.set_xlim((xmin-75, xmax+75))\n",
				"      axes.set_ylim((ymin-25, ymax+75))\n",
				"      axes.xaxis.set_major_locator(ticker.NullLocator())\n",
				"      plt.show()  \n",
				"      plt.close()"
			]
		},
		{
			"cell_type": "markdown",
			"metadata": {
				"id": "YGcNu6j6vYaz"
			},
			"source": [
				"## Disappear latest"
			]
		},
		{
			"cell_type": "code",
			"execution_count": null,
			"metadata": {
				"executionInfo": {
					"elapsed": 45,
					"status": "aborted",
					"timestamp": 1684812485283,
					"user": {
						"displayName": "Cici Du",
						"userId": "17701548280142155870"
					},
					"user_tz": -480
				},
				"id": "krQSTi32xpBQ"
			},
			"outputs": [],
			"source": [
				"category = disappear_latest_trials\n",
				"num_trials = 1\n",
				"xmin, xmax, ymin, ymax = 0, 0, 0, 0\n",
				"               \n",
				"if len(category) > 0:\n",
				"  with basic_func.initiate_plot(10, 10, 100):\n",
				"      fig = plt.figure()\n",
				"      axes = fig.add_subplot(111)\n",
				"      for currentTrial in category[:50]:\n",
				"          duration = [ff_caught_T_sorted[currentTrial-num_trials], ff_caught_T_sorted[currentTrial]]\n",
				"          whether_plotted, axes, R, cum_mxy_rotate, shown_ff_indices = plot_behaviors.PlotTrials(duration, \n",
				"                                                          *plot_behaviors.PlotTrials_args,   \n",
				"                                                          **combined_plot_kwargs,\n",
				"                                                          currentTrial = currentTrial,\n",
				"                                                          num_trials = num_trials,\n",
				"                                                          fig = fig,\n",
				"                                                          axes = axes,\n",
				"                                                          show_path_when_target_visible = True,\n",
				"                                                          show_believed_target_positions = True,\n",
				"                                                          )\n",
				"          \n",
				"          if whether_plotted is True:\n",
				"              xmin, ymin, xmax, ymax = plot_behaviors.update_plot_limits(xmin, ymin, xmax, ymax, cum_mxy_rotate)\n",
				"\n",
				"      axes.set_xlim((xmin-75, xmax+75))\n",
				"      axes.set_ylim((ymin-25, ymax+75))\n",
				"      axes.xaxis.set_major_locator(ticker.NullLocator())\n",
				"      plt.show()  \n",
				"      plt.close()"
			]
		},
		{
			"cell_type": "markdown",
			"metadata": {
				"id": "SiOK87t1vYay"
			},
			"source": [
				"## 2 in a row"
			]
		},
		{
			"cell_type": "code",
			"execution_count": null,
			"metadata": {
				"executionInfo": {
					"elapsed": 44,
					"status": "aborted",
					"timestamp": 1684812485283,
					"user": {
						"displayName": "Cici Du",
						"userId": "17701548280142155870"
					},
					"user_tz": -480
				},
				"id": "qblE0ZZIvYay",
				"scrolled": true
			},
			"outputs": [],
			"source": [
				"category = two_in_a_row\n",
				"num_trials = 2\n",
				"xmin, xmax, ymin, ymax = 0, 0, 0, 0\n",
				"               \n",
				"if len(category) > 0:\n",
				"  with basic_func.initiate_plot(10, 10, 100):\n",
				"      fig = plt.figure()\n",
				"      axes = fig.add_subplot(111)\n",
				"      for currentTrial in category[:50]:\n",
				"          duration = [ff_caught_T_sorted[currentTrial-num_trials], ff_caught_T_sorted[currentTrial]]\n",
				"          whether_plotted, axes, R, cum_mxy_rotate, shown_ff_indices = plot_behaviors.PlotTrials(duration, \n",
				"                                                          *plot_behaviors.PlotTrials_args,                                                          \n",
				"                                                          **combined_plot_kwargs,\n",
				"                                                          currentTrial = currentTrial,\n",
				"                                                          num_trials = num_trials,\n",
				"                                                          fig = fig,\n",
				"                                                          axes = axes,\n",
				"                                                          )\n",
				"          \n",
				"          if whether_plotted is True:\n",
				"              x0, y0 = cum_mxy_rotate[0][0], cum_mxy_rotate[1][0]\n",
				"              ff_believed_position_rotate = np.matmul(R, np.stack((ff_believed_position_sorted[currentTrial-num_trials+1:currentTrial+1].T[0], ff_believed_position_sorted[currentTrial-num_trials+1:currentTrial+1].T[1])))\n",
				"              axes.scatter(ff_believed_position_rotate[0]-x0, ff_believed_position_rotate[1]-y0, s=40, alpha=0.85, zorder=5)\n",
				"              xmin, ymin, xmax, ymax = plot_behaviors.update_plot_limits(xmin, ymin, xmax, ymax, cum_mxy_rotate)\n",
				"\n",
				"      axes.set_xlim((xmin-75, xmax+75))\n",
				"      axes.set_ylim((ymin-25, ymax+75))\n",
				"      axes.xaxis.set_major_locator(ticker.NullLocator())\n",
				"      plt.show()  \n",
				"      plt.close()"
			]
		},
		{
			"cell_type": "markdown",
			"metadata": {
				"id": "RJ90fQV6vYa0"
			},
			"source": [
				"## Cluster around targets"
			]
		},
		{
			"cell_type": "code",
			"execution_count": null,
			"metadata": {
				"executionInfo": {
					"elapsed": 44,
					"status": "aborted",
					"timestamp": 1684812485283,
					"user": {
						"displayName": "Cici Du",
						"userId": "17701548280142155870"
					},
					"user_tz": -480
				},
				"id": "pgwKEUGbzfId"
			},
			"outputs": [],
			"source": [
				"category = cluster_around_target_trials\n",
				"num_trials = 1\n",
				"xmin, xmax, ymin, ymax = 0, 0, 0, 0\n",
				"               \n",
				"if len(category) > 0:\n",
				"  with basic_func.initiate_plot(10, 10, 100):\n",
				"      fig = plt.figure()\n",
				"      axes = fig.add_subplot(111)\n",
				"      for currentTrial in category[:50]:\n",
				"          duration = [ff_caught_T_sorted[currentTrial-num_trials], ff_caught_T_sorted[currentTrial]]\n",
				"          whether_plotted, axes, R, cum_mxy_rotate, shown_ff_indices = plot_behaviors.PlotTrials(duration, \n",
				"                                                          *plot_behaviors.PlotTrials_args,     \n",
				"                                                          **combined_plot_kwargs,\n",
				"                                                          currentTrial = currentTrial,\n",
				"                                                          num_trials = num_trials,\n",
				"                                                          fig = fig,\n",
				"                                                          axes = axes,\n",
				"                                                          show_trajectory = False\n",
				"                                                          )\n",
				"          \n",
				"          if whether_plotted is True:\n",
				"              x0, y0 = cum_mxy_rotate[0][0], cum_mxy_rotate[1][0]\n",
				"              cluster_around_target_rotate = np.matmul(R, np.stack((cluster_around_target_positions[currentTrial].T[0], cluster_around_target_positions[currentTrial].T[1])))\n",
				"              ff_believed_position_rotate = np.matmul(R, np.stack((ff_believed_position_sorted[currentTrial].T[0], ff_believed_position_sorted[currentTrial].T[1])))\n",
				"              current_color = '#%06X' % random.randint(0, 0xFFFFFF)\n",
				"              axes.scatter(cum_mxy_rotate[0]-x0, cum_mxy_rotate[1]-y0,marker = 'o',s = 2, alpha= 0.7, color = current_color)\n",
				"              axes.scatter(cluster_around_target_rotate[0]-x0, cluster_around_target_rotate[1]-y0, marker='o', s=30, color = current_color) \n",
				"              axes.scatter(ff_believed_position_rotate[0]-x0, ff_believed_position_rotate[1]-y0, marker='o', s=30, color = current_color) \n",
				"              xmin, ymin, xmax, ymax = plot_behaviors.update_plot_limits(xmin, ymin, xmax, ymax, cum_mxy_rotate)\n",
				"\n",
				"      axes.set_xlim((xmin-75, xmax+75))\n",
				"      axes.set_ylim((ymin-25, ymax+75))\n",
				"      axes.xaxis.set_major_locator(ticker.NullLocator())\n",
				"      plt.show()  \n",
				"      plt.close()"
			]
		},
		{
			"cell_type": "markdown",
			"metadata": {
				"id": "7yACTNshvYa0"
			},
			"source": [
				"## Waste cluster around last target"
			]
		},
		{
			"cell_type": "code",
			"execution_count": null,
			"metadata": {
				"executionInfo": {
					"elapsed": 44,
					"status": "aborted",
					"timestamp": 1684812485283,
					"user": {
						"displayName": "Cici Du",
						"userId": "17701548280142155870"
					},
					"user_tz": -480
				},
				"id": "7ufK1mi8zfoO"
			},
			"outputs": [],
			"source": [
				"category = waste_cluster_around_target_trials\n",
				"num_trials = 2\n",
				"xmin, xmax, ymin, ymax = 0, 0, 0, 0\n",
				"               \n",
				"if len(category) > 0:\n",
				"  with basic_func.initiate_plot(10, 10, 100):\n",
				"      fig = plt.figure()\n",
				"      axes = fig.add_subplot(111)\n",
				"      for currentTrial in category[:50]:\n",
				"          duration = [ff_caught_T_sorted[currentTrial-num_trials], ff_caught_T_sorted[currentTrial]]\n",
				"          whether_plotted, axes, R, cum_mxy_rotate, shown_ff_indices = plot_behaviors.PlotTrials(duration, \n",
				"                                                          *plot_behaviors.PlotTrials_args,\n",
				"                                                          \n",
				"                                                          **combined_plot_kwargs,\n",
				"                                                          currentTrial = currentTrial,\n",
				"                                                          num_trials = num_trials,\n",
				"                                                          fig = fig,\n",
				"                                                          axes = axes,\n",
				"                                                          show_trajectory = False\n",
				"                                                          )\n",
				"          \n",
				"          if whether_plotted is True:\n",
				"              x0, y0 = cum_mxy_rotate[0][0], cum_mxy_rotate[1][0]\n",
				"              cluster_around_target_rotate = np.matmul(R, np.stack((cluster_around_target_positions[currentTrial-1].T[0], cluster_around_target_positions[currentTrial-1].T[1])))\n",
				"              ff_believed_position_rotate = np.matmul(R, np.stack((ff_believed_position_sorted[currentTrial-1].T[0], ff_believed_position_sorted[currentTrial-1].T[1])))\n",
				"              current_color = '#%06X' % random.randint(0, 0xFFFFFF)\n",
				"              axes.scatter(cum_mxy_rotate[0]-x0, cum_mxy_rotate[1]-y0,marker = 'o',s = 2, alpha= 0.7, color = current_color)\n",
				"              axes.scatter(cluster_around_target_rotate[0]-x0, cluster_around_target_rotate[1]-y0, marker='o', s=30, color = current_color) \n",
				"              axes.scatter(ff_believed_position_rotate[0]-x0, ff_believed_position_rotate[1]-y0, marker='o', s=30, color = current_color) \n",
				"              xmin, ymin, xmax, ymax = plot_behaviors.update_plot_limits(xmin, ymin, xmax, ymax, cum_mxy_rotate)\n",
				"\n",
				"      axes.set_xlim((xmin-75, xmax+75))\n",
				"      axes.set_ylim((ymin-25, ymax+75))\n",
				"      axes.xaxis.set_major_locator(ticker.NullLocator())\n",
				"      plt.show()  \n",
				"      plt.close()"
			]
		},
		{
			"cell_type": "markdown",
			"metadata": {
				"id": "nDP09W44vYa0"
			},
			"source": [
				"## Try a few times"
			]
		},
		{
			"cell_type": "code",
			"execution_count": null,
			"metadata": {
				"executionInfo": {
					"elapsed": 45,
					"status": "aborted",
					"timestamp": 1684812485284,
					"user": {
						"displayName": "Cici Du",
						"userId": "17701548280142155870"
					},
					"user_tz": -480
				},
				"id": "wf-uUToVe7ic"
			},
			"outputs": [],
			"source": [
				"category = try_a_few_times_trials\n",
				"num_trials = 1\n",
				"xmin, xmax, ymin, ymax = 0, 0, 0, 0\n",
				"               \n",
				"if len(category) > 0:\n",
				"  with basic_func.initiate_plot(10, 10, 100):\n",
				"      fig = plt.figure()\n",
				"      axes = fig.add_subplot(111)\n",
				"      for currentTrial in category[20:30]:\n",
				"          duration = [ff_caught_T_sorted[currentTrial-num_trials], ff_caught_T_sorted[currentTrial]]\n",
				"          whether_plotted, axes, R, cum_mxy_rotate, shown_ff_indices = plot_behaviors.PlotTrials(duration, \n",
				"                                                          *plot_behaviors.PlotTrials_args,\n",
				"                                                          \n",
				"                                                          **combined_plot_kwargs,\n",
				"                                                          currentTrial = currentTrial,\n",
				"                                                          num_trials = num_trials,\n",
				"                                                          fig = fig,\n",
				"                                                          axes = axes,\n",
				"                                                          show_targets = True,\n",
				"                                                          show_path_when_target_visible = True,\n",
				"                                                          )\n",
				"          \n",
				"          if whether_plotted is True:\n",
				"              x0, y0 = cum_mxy_rotate[0][0], cum_mxy_rotate[1][0]\n",
				"              current_color = '#%06X' % random.randint(0, 0xFFFFFF)\n",
				"              # Plot believed target positions\n",
				"              ff_believed_position_rotate = np.matmul(R, np.stack((ff_believed_position_sorted[currentTrial-num_trials+1:currentTrial+1].T[0], ff_believed_position_sorted[currentTrial-num_trials+1:currentTrial+1].T[1])))\n",
				"              axes.scatter(ff_believed_position_rotate[0]-x0, ff_believed_position_rotate[1]-y0, s=45, alpha=0.75, color=current_color, zorder=3) \n",
				"              # Plot stops\n",
				"              cum_indices = np.where((monkey_information['monkey_t'] > duration[0]) & (monkey_information['monkey_t'] <= duration[1]))[0]\n",
				"              zerospeed_index = np.where(monkey_information['monkey_speeddummy'].iloc[cum_indices]==0)[0]\n",
				"              axes.scatter(cum_mxy_rotate[0][zerospeed_index]-x0, cum_mxy_rotate[1][zerospeed_index]-y0,marker = '*',s = 80, color = current_color, alpha=0.8, zorder=3)\n",
				"              # Update the limits \n",
				"              xmin, ymin, xmax, ymax = plot_behaviors.update_plot_limits(xmin, ymin, xmax, ymax, cum_mxy_rotate)\n",
				"\n",
				"\n",
				"      axes.set_xlim((xmin-75, xmax+75))\n",
				"      axes.set_ylim((ymin-25, ymax+75))\n",
				"      axes.xaxis.set_major_locator(ticker.NullLocator())\n",
				"      plt.show()  \n",
				"      plt.close()"
			]
		},
		{
			"cell_type": "markdown",
			"metadata": {
				"id": "cP0faT9KvYa0"
			},
			"source": [
				"## Give up after trying"
			]
		},
		{
			"cell_type": "code",
			"execution_count": null,
			"metadata": {
				"executionInfo": {
					"elapsed": 45,
					"status": "aborted",
					"timestamp": 1684812485284,
					"user": {
						"displayName": "Cici Du",
						"userId": "17701548280142155870"
					},
					"user_tz": -480
				},
				"id": "JM7oTktXzhMw"
			},
			"outputs": [],
			"source": [
				"category = give_up_after_trying_trials\n",
				"num_trials = 1\n",
				"xmin, xmax, ymin, ymax = 0, 0, 0, 0\n",
				"               \n",
				"if len(category) > 0:\n",
				"  with basic_func.initiate_plot(10, 10, 100):\n",
				"      fig = plt.figure()\n",
				"      axes = fig.add_subplot(111)\n",
				"      for currentTrial in category[:50]:\n",
				"          duration = [ff_caught_T_sorted[currentTrial-num_trials], ff_caught_T_sorted[currentTrial]]\n",
				"          whether_plotted, axes, R, cum_mxy_rotate, shown_ff_indices = plot_behaviors.PlotTrials(duration, \n",
				"                                                          *plot_behaviors.PlotTrials_args,\n",
				"                                                          \n",
				"                                                          **combined_plot_kwargs,\n",
				"                                                          currentTrial = currentTrial,\n",
				"                                                          num_trials = num_trials,\n",
				"                                                          fig = fig,\n",
				"                                                          axes = axes,\n",
				"                                                          show_path_when_target_visible = True,\n",
				"                                                          show_believed_target_positions = True,\n",
				"                                                          show_stops = True\n",
				"                                                          )\n",
				"          \n",
				"          if whether_plotted is True:\n",
				"              xmin, ymin, xmax, ymax = plot_behaviors.update_plot_limits(xmin, ymin, xmax, ymax, cum_mxy_rotate)\n",
				"\n",
				"      axes.set_xlim((xmin-75, xmax+75))\n",
				"      axes.set_ylim((ymin-25, ymax+75))\n",
				"      axes.xaxis.set_major_locator(ticker.NullLocator())\n",
				"      plt.show()  \n",
				"      plt.close()"
			]
		},
		{
			"cell_type": "markdown",
			"metadata": {
				"id": "1PbBEehWvYa0"
			},
			"source": [
				"## Ignore sudden flash"
			]
		},
		{
			"cell_type": "code",
			"execution_count": null,
			"metadata": {
				"executionInfo": {
					"elapsed": 44,
					"status": "aborted",
					"timestamp": 1684812485284,
					"user": {
						"displayName": "Cici Du",
						"userId": "17701548280142155870"
					},
					"user_tz": -480
				},
				"id": "6PBbqtvGzgHf"
			},
			"outputs": [],
			"source": [
				"category = ignore_sudden_flash_trials\n",
				"num_trials = 1\n",
				"xmin, xmax, ymin, ymax = 0, 0, 0, 0\n",
				"               \n",
				"if len(category) > 0:\n",
				"  with basic_func.initiate_plot(10, 10, 100):\n",
				"      fig = plt.figure()\n",
				"      axes = fig.add_subplot(111)\n",
				"      for currentTrial in category[:30]:\n",
				"          duration = [ff_caught_T_sorted[currentTrial-num_trials], ff_caught_T_sorted[currentTrial]]\n",
				"          ignored_ff_indices = np.array(ignored_ff_target_pairs_index_only.loc[currentTrial]).reshape(-1).tolist()\n",
				"          whether_plotted, axes, R, cum_mxy_rotate, shown_ff_indices = plot_behaviors.PlotTrials(duration, \n",
				"                                                          *plot_behaviors.PlotTrials_args,\n",
				"                                                          \n",
				"                                                          **combined_plot_kwargs,\n",
				"                                                          currentTrial = currentTrial,\n",
				"                                                          num_trials = num_trials,\n",
				"                                                          fig = fig,\n",
				"                                                          axes = axes,\n",
				"                                                          show_path_when_target_visible = True,\n",
				"                                                          show_connect_path_ff_except_targets = True,\n",
				"                                                          connect_path_ff_max_distance = 50,\n",
				"                                                          show_believed_target_positions = True,\n",
				"                                                          indices_of_ff_to_mark = ignored_ff_indices,   \n",
				"                                                          )\n",
				"          \n",
				"          if whether_plotted is True:\n",
				"              x0, y0 = cum_mxy_rotate[0][0], cum_mxy_rotate[1][0]\n",
				"              ff_believed_position_rotate = np.matmul(R, np.stack((ff_believed_position_sorted[currentTrial-num_trials+1:currentTrial+1].T[0], ff_believed_position_sorted[currentTrial-num_trials+1:currentTrial+1].T[1])))\n",
				"              #axes.scatter(ff_believed_position_rotate[0]-x0, ff_believed_position_rotate[1]-y0, s=40, alpha=0.85, zorder=5)\n",
				"              xmin, ymin, xmax, ymax = plot_behaviors.update_plot_limits(xmin, ymin, xmax, ymax, cum_mxy_rotate)\n",
				"\n",
				"      axes.set_xlim((xmin-75, xmax+75))\n",
				"      axes.set_ylim((ymin-25, ymax+75))\n",
				"      axes.xaxis.set_major_locator(ticker.NullLocator())\n",
				"      plt.show()  \n",
				"      plt.close()"
			]
		},
		{
			"cell_type": "code",
			"execution_count": null,
			"metadata": {
				"executionInfo": {
					"elapsed": 44,
					"status": "aborted",
					"timestamp": 1684812485284,
					"user": {
						"displayName": "Cici Du",
						"userId": "17701548280142155870"
					},
					"user_tz": -480
				},
				"id": "e6py3el2vYa0"
			},
			"outputs": [],
			"source": [
				"category = give_up_after_trying_trials\n",
				"\n",
				"num_trials = 1\n",
				"\n",
				"\n",
				"if len(category) > 0:\n",
				"  with basic_func.initiate_plot(10,10,100):\n",
				"    for currentTrial in category[:trial_total_num]:\n",
				"        duration = [ff_caught_T_sorted[currentTrial-num_trials], ff_caught_T_sorted[currentTrial]]\n",
				"        plot_behaviors.PlotTrials(duration, \n",
				"                   *plot_behaviors.PlotTrials_args,\n",
				"                   **classic_plot_kwargs,\n",
				"                   currentTrial = currentTrial,\n",
				"                   num_trials = num_trials,\n",
				"                   show_connect_path_ff = True,\n",
				"                   )\n",
				"\n",
				"        plt.show()  \n",
				"        plt.close()\n"
			]
		},
		{
			"cell_type": "code",
			"execution_count": null,
			"metadata": {
				"executionInfo": {
					"elapsed": 45,
					"status": "aborted",
					"timestamp": 1684812485285,
					"user": {
						"displayName": "Cici Du",
						"userId": "17701548280142155870"
					},
					"user_tz": -480
				},
				"id": "joRhh89FRJbw"
			},
			"outputs": [],
			"source": [
				"category = visible_before_last_one_trials\n",
				"\n",
				"num_trials = 2\n",
				"\n",
				"xmin, xmax, ymin, ymax = 0, 0, 0, 0\n",
				"\n",
				"if len(category) > 0:\n",
				"  with basic_func.initiate_plot(10, 10, 100):\n",
				"      fig = plt.figure()\n",
				"      axes = fig.add_subplot(111)\n",
				"      for currentTrial in category[:50]:\n",
				"          duration = [ff_caught_T_sorted[currentTrial-num_trials], ff_caught_T_sorted[currentTrial]]\n",
				"          whether_plotted, axes, R, cum_mxy_rotate, shown_ff_indices = plot_behaviors.PlotTrials(duration, \n",
				"                      *plot_behaviors.PlotTrials_args,\n",
				"                      currentTrial = currentTrial,\n",
				"                      num_trials = num_trials,\n",
				"                      combined_plot = True,\n",
				"                      fig = fig,\n",
				"                      axes = axes, \n",
				"                      \n",
				"                      show_alive_fireflies = False,\n",
				"                      show_title = False,\n",
				"                      show_start = False,\n",
				"                      show_path_when_target_visible = True,\n",
				"                      \n",
				"                      )\n",
				"          \n",
				"          if whether_plotted is True:\n",
				"              x0, y0 = cum_mxy_rotate[0][0], cum_mxy_rotate[1][0]\n",
				"              ff_believed_position_rotate = np.matmul(R, np.stack((ff_believed_position_sorted[currentTrial-num_trials+1:currentTrial+1].T[0], ff_believed_position_sorted[currentTrial-num_trials+1:currentTrial+1].T[1])))\n",
				"              axes.scatter(ff_believed_position_rotate[0]-x0, ff_believed_position_rotate[1]-y0, s=40, alpha=0.85, zorder=5)\n",
				"\n",
				"              temp_xmin, temp_xmax = np.min(cum_mxy_rotate[0])-x0, np.max(cum_mxy_rotate[0])-x0\n",
				"              temp_ymin, temp_ymax = np.min(cum_mxy_rotate[1])-y0, np.max(cum_mxy_rotate[1])-y0\n",
				"              xmin, xmax = min(xmin, temp_xmin), max(xmax, temp_xmax)\n",
				"              ymin, ymax = min(ymin, temp_ymin), max(ymax, temp_ymax)\n",
				"\n",
				"      axes.set_xlim((xmin-75, xmax+75))\n",
				"      axes.set_ylim((ymin-25, ymax+75))\n",
				"      axes.xaxis.set_major_locator(ticker.NullLocator())\n",
				"      plt.show()  \n",
				"      plt.close()"
			]
		},
		{
			"cell_type": "markdown",
			"metadata": {
				"id": "xIYoWAIyDieu"
			},
			"source": [
				"# Polar"
			]
		},
		{
			"cell_type": "code",
			"execution_count": null,
			"metadata": {
				"executionInfo": {
					"elapsed": 45,
					"status": "aborted",
					"timestamp": 1684812485285,
					"user": {
						"displayName": "Cici Du",
						"userId": "17701548280142155870"
					},
					"user_tz": -480
				},
				"id": "ZrSbMmCJ5uN1"
			},
			"outputs": [],
			"source": [
				"num_trials = 1\n",
				"for currentTrial in range(100, 105):\n",
				"    print(currentTrial)\n",
				"    #duration = [ff_caught_T_sorted[currentTrial-num_trials], ff_caught_T_sorted[currentTrial]]\n",
				"    duration = [ff_caught_T_sorted[currentTrial]-1.25, ff_caught_T_sorted[currentTrial]]\n",
				"\n",
				"\n",
				"    plot_behaviors.PlotPolar(duration,\n",
				"              monkey_information,\n",
				"              ff_dataframe, \n",
				"              ff_life_sorted,\n",
				"              ff_real_position_sorted,\n",
				"              ff_caught_T_sorted,\n",
				"              ff_flash_sorted,\n",
				"              rmax = 100,\n",
				"              currentTrial = currentTrial,\n",
				"              num_trials = num_trials,\n",
				"              show_visible_ff = True,\n",
				"              show_visible_target = True,\n",
				"              # show_ff_in_memory = True,\n",
				"              # show_target_in_memory = True,\n",
				"              ff_colormap = 'viridis',\n",
				"              target_colormap = 'viridis',\n",
				"              show_alive_ff = True,\n",
				"              colors_show_overall_time = True,\n",
				"              show_all_positions_of_all_fireflies = True,\n",
				"              show_colorbar = True,\n",
				"                )"
			]
		},
		{
			"cell_type": "markdown",
			"metadata": {
				"id": "TQMCDI-FqP6s"
			},
			"source": [
				"# Plot side_by_side"
			]
		},
		{
			"cell_type": "code",
			"execution_count": null,
			"metadata": {
				"executionInfo": {
					"elapsed": 45,
					"status": "aborted",
					"timestamp": 1684812485285,
					"user": {
						"displayName": "Cici Du",
						"userId": "17701548280142155870"
					},
					"user_tz": -480
				},
				"id": "4hQeeWANqVax"
			},
			"outputs": [],
			"source": [
				"log_dir = \"RL/SB3_stored_models/A0.2_O4_ff2_memory3/\"\n",
				"env_kwargs = {\"num_obs_ff\": 5}\n",
				"env = env.CollectInformation(**env_kwargs)\n",
				"env.reset()\n",
				"\n",
				"\n",
				"# For direct training\n",
				"sac_model = SAC(\"MlpPolicy\", \n",
				"            env,\n",
				"            gamma=0.995,\n",
				"            learning_rate=0.0015,\n",
				"            batch_size=1024,\n",
				"            target_update_interval=50,\n",
				"            buffer_size=1000000,\n",
				"            learning_starts=10000,\n",
				"            train_freq=10,\n",
				"            ent_coef=0.00083,\n",
				"            policy_kwargs=dict(activation_fn=nn.Tanh, net_arch=[128, 128])\n",
				"                )\n",
				"path = os.path.join(log_dir, 'best_model.zip')\n",
				"sac_model = sac_model.load(path,env=env) \n",
				"\n",
				"\n",
				"with basic_func.HiddenPrints():\n",
				"  # Note: must use env(Simulated)\n",
				"\n",
				"  agent_dt = 0.25\n",
				"  num_trials = 2\n",
				"\n",
				"  plotting_params = {\"show_stops\": True,\n",
				"                    \"show_believed_target_positions\": True,\n",
				"                    \"show_reward_boundary\": True,\n",
				"                    \"show_connect_path_ff\": True,\n",
				"                    \"show_scale_bar\": True,\n",
				"                    \"hitting_arena_edge_ok\": True,\n",
				"                    \"trial_too_short_ok\": True}\n",
				"\n",
				"  for currentTrial in [12, 69, 138, 221, 235, 259, 263, 265, 299, 393, 496, 523, 556, 601, 666, 698, 760, 805, 808, 930, 946, 955, 1002, 1003]:\n",
				"      info_of_agent, plot_whole_duration, rotation_matrix, num_imitation_steps_monkey, num_imitation_steps_agent = collect_agent_data.find_corresponding_info_of_agent(info_of_monkey, currentTrial, num_trials, sac_model, agent_dt, LSTM=False, env_kwargs=env_kwargs)\n",
				"\n",
				"      with basic_func.initiate_plot(20,20,400):\n",
				"          plot_behaviors.PlotSidebySide(plot_whole_duration = plot_whole_duration,\n",
				"                          info_of_monkey = info_of_monkey,\n",
				"                          info_of_agent = info_of_agent,  \n",
				"                          num_imitation_steps_monkey = num_imitation_steps_monkey,\n",
				"                          num_imitation_steps_agent = num_imitation_steps_agent,                \n",
				"                          currentTrial = currentTrial,\n",
				"                          num_trials = num_trials, \n",
				"                          rotation_matrix = rotation_matrix,              \n",
				"                          plotting_params = plotting_params,\n",
				"                          )"
			]
		},
		{
			"cell_type": "markdown",
			"metadata": {
				"id": "RPyyErA3WQXL"
			},
			"source": [
				"# A new way to define an episode\n",
				"\n",
				"A new chunk happens when the monkey/agent changes its speed from below half of the full speed to above half of the full speed"
			]
		},
		{
			"cell_type": "code",
			"execution_count": null,
			"metadata": {
				"executionInfo": {
					"elapsed": 45,
					"status": "aborted",
					"timestamp": 1684812485285,
					"user": {
						"displayName": "Cici Du",
						"userId": "17701548280142155870"
					},
					"user_tz": -480
				},
				"id": "IRlarJueWUR8"
			},
			"outputs": [],
			"source": [
				"prev_speed = 0\n",
				"chunk_counter = 0\n",
				"chunk_numbers = [] # Each time point has a number corresponding to the index of the chunk it belongs to\n",
				"new_chunk_indices = [0] # w[i] shows the index of the time point at which the i-th chunk starts\n",
				"new_chunk = False\n",
				"# for each time point\n",
				"for i in range(len(monkey_information['monkey_speed'])):\n",
				"    speed = monkey_information['monkey_speed'].values[i]\n",
				"    # if the speed is above half of the full speed (100 cm/s) and if the previous speed is below half of the full speed\n",
				"    if (speed > 100) & (prev_speed <= 100):\n",
				"        # start a new chunk\n",
				"        chunk_counter += 1\n",
				"        new_chunk_indices.append(i)\n",
				"    chunk_numbers.append(chunk_counter)\n",
				"    prev_speed = speed\n",
				"\n",
				"chunk_numbers = np.array(chunk_numbers)\n",
				"new_chunk_indices = np.array(new_chunk_indices)"
			]
		},
		{
			"cell_type": "code",
			"execution_count": null,
			"metadata": {
				"executionInfo": {
					"elapsed": 45,
					"status": "aborted",
					"timestamp": 1684812485285,
					"user": {
						"displayName": "Cici Du",
						"userId": "17701548280142155870"
					},
					"user_tz": -480
				},
				"id": "APE34wpKYQ2m"
			},
			"outputs": [],
			"source": [
				"plot_behaviors.PlotTrials_args = (monkey_information, ff_dataframe, ff_life_sorted, ff_real_position_sorted, \\\n",
				"                   ff_believed_position_sorted, cluster_around_target_indices, ff_caught_T_sorted)"
			]
		},
		{
			"cell_type": "code",
			"execution_count": null,
			"metadata": {
				"executionInfo": {
					"elapsed": 45,
					"status": "aborted",
					"timestamp": 1684812485285,
					"user": {
						"displayName": "Cici Du",
						"userId": "17701548280142155870"
					},
					"user_tz": -480
				},
				"id": "2LCIjmD1ZHkz"
			},
			"outputs": [],
			"source": [
				"# Plot a chunk\n",
				"starting_chunk = 150\n",
				"num_of_chunks = 6\n",
				"\n",
				"cum_indices = np.where((chunk_numbers >= starting_chunk) & (chunk_numbers < starting_chunk+num_of_chunks))[0]\n",
				"duration = [monkey_information['monkey_t'][cum_indices[0]], monkey_information['monkey_t'][cum_indices[-1]]]\n",
				"\n",
				"\n",
				"with basic_func.initiate_plot(10,10,100):\n",
				"    plot_behaviors.PlotTrials(duration, \n",
				"                *plot_behaviors.PlotTrials_args,\n",
				"                trail_color_var = \"speed\",\n",
				"                show_stops = True,\n",
				"                show_believed_target_positions = True,\n",
				"                show_reward_boundary = True,\n",
				"                show_connect_path_ff = True,\n",
				"                show_scale_bar = True,\n",
				"                hitting_arena_edge_ok = True,\n",
				"                trial_too_short_ok = True,\n",
				"                show_title = False,\n",
				"                steps_to_be_marked = new_chunk_indices[starting_chunk+1:starting_chunk+num_of_chunks]-cum_indices[0],\n",
				"                )\n",
				"    \n",
				"\n",
				"\n",
				"\n",
				"    plt.show()  \n",
				"    plt.close()"
			]
		},
		{
			"cell_type": "markdown",
			"metadata": {
				"id": "vRHSO9MpSr63"
			},
			"source": [
				"# Animation"
			]
		},
		{
			"cell_type": "markdown",
			"metadata": {
				"id": "XypHpRbwyIBF"
			},
			"source": [
				"## Overhead view"
			]
		},
		{
			"cell_type": "markdown",
			"metadata": {
				"id": "JlxfIO9YFFHe"
			},
			"source": [
				"### prepare for animation"
			]
		},
		{
			"cell_type": "code",
			"execution_count": null,
			"metadata": {
				"executionInfo": {
					"elapsed": 45,
					"status": "aborted",
					"timestamp": 1684812485285,
					"user": {
						"displayName": "Cici Du",
						"userId": "17701548280142155870"
					},
					"user_tz": -480
				},
				"id": "x-QWa4ViyNjY"
			},
			"outputs": [],
			"source": [
				"trial_total_num = 30\n",
				"plot_behaviors.PlotTrials_args = (monkey_information, ff_dataframe, ff_life_sorted, ff_real_position_sorted, ff_believed_position_sorted, cluster_around_target_indices, ff_caught_T_sorted)\n",
				"\n",
				"animation_plot_kwargs = classic_plot_kwargs\n",
				"animation_plot_kwargs['show_eye_positions_on_the_right'] = False              \n",
				"\n"
			]
		},
		{
			"cell_type": "code",
			"execution_count": null,
			"metadata": {
				"executionInfo": {
					"elapsed": 45,
					"status": "aborted",
					"timestamp": 1684812485285,
					"user": {
						"displayName": "Cici Du",
						"userId": "17701548280142155870"
					},
					"user_tz": -480
				},
				"id": "0uwEgrqa6x3-"
			},
			"outputs": [],
			"source": [
				"currentTrial = 100\n",
				"num_trials = 3\n",
				"k = 3\n",
				"fig, ax = plt.subplots()\n",
				"num_frames, anim_monkey_info, flash_on_ff_dict, alive_ff_dict, believed_ff_dict, new_num_trials, ff_dataframe_anim\\\n",
				"            = animation_func.prepare_for_animation(ff_dataframe, ff_caught_T_sorted, ff_life_sorted, ff_believed_position_sorted, \n",
				"                                    ff_real_position_sorted, ff_flash_sorted, monkey_information, k=k, currentTrial=currentTrial, num_trials=num_trials)\n",
				"print(\"Number of frames is:\", num_frames)"
			]
		},
		{
			"cell_type": "code",
			"execution_count": null,
			"metadata": {
				"executionInfo": {
					"elapsed": 45,
					"status": "aborted",
					"timestamp": 1684812485285,
					"user": {
						"displayName": "Cici Du",
						"userId": "17701548280142155870"
					},
					"user_tz": -480
				},
				"id": "FPZK8njVrz59"
			},
			"outputs": [],
			"source": [
				"currentTrial = 100\n",
				"num_trials = 3\n",
				"k = 3\n",
				"fig = plt.figure(figsize=(14.5, 7))\n",
				"# axes = fig.add_subplot(1, 2, 1)\n",
				"# axes.remove()\n",
				"_, axes, _, _ = plot_behaviors.PlotTrials(duration, \n",
				"                        fig=fig,\n",
				"                        *plot_behaviors.PlotTrials_args,\n",
				"                        **animation_plot_kwargs,\n",
				"                        currentTrial = currentTrial,\n",
				"                        num_trials = num_trials,\n",
				"                        show_connect_path_ff = True,   \n",
				"                        hitting_arena_edge_ok = True,\n",
				"                        trial_too_short_ok = True,              \n",
				"                        )\n",
				"fig.add_axes(axes)\n",
				"ax = fig.add_subplot(1, 2, 2)\n",
				"fig.tight_layout()\n",
				"num_frames, anim_monkey_info, flash_on_ff_dict, alive_ff_dict, believed_ff_dict, new_num_trials, ff_dataframe_anim\\\n",
				"            = animation_func.prepare_for_animation(ff_dataframe, ff_caught_T_sorted, ff_life_sorted, ff_believed_position_sorted, \n",
				"                                    ff_real_position_sorted, ff_flash_sorted, monkey_information, k=k, currentTrial=currentTrial, num_trials=num_trials)\n",
				"print(\"Number of frames is:\", num_frames)"
			]
		},
		{
			"cell_type": "markdown",
			"metadata": {
				"id": "AesCxkpsFbVn"
			},
			"source": [
				"### make animation"
			]
		},
		{
			"cell_type": "code",
			"execution_count": null,
			"metadata": {
				"executionInfo": {
					"elapsed": 46,
					"status": "aborted",
					"timestamp": 1684812485286,
					"user": {
						"displayName": "Cici Du",
						"userId": "17701548280142155870"
					},
					"user_tz": -480
				},
				"id": "pUcR1X-0-OQo"
			},
			"outputs": [],
			"source": [
				"animate_func = partial(animation_func.animate, ax=ax, anim_monkey_info=anim_monkey_info, ff_dataframe_anim=ff_dataframe_anim, ff_real_position_sorted=ff_real_position_sorted, \\\n",
				"                       flash_on_ff_dict=flash_on_ff_dict, alive_ff_dict=alive_ff_dict, believed_ff_dict=believed_ff_dict, margin = 400,\n",
				"                       plot_eye_position=True, set_xy_limits=True)\n",
				"anim = animation.FuncAnimation(fig, animate_func, frames=num_frames, interval=100, repeat=True) \n",
				"HTML(anim.to_html5_video())"
			]
		},
		{
			"cell_type": "markdown",
			"metadata": {
				"id": "-BX7XwsnFc4k"
			},
			"source": [
				"### make animation with annotation"
			]
		},
		{
			"cell_type": "code",
			"execution_count": null,
			"metadata": {
				"executionInfo": {
					"elapsed": 45,
					"status": "aborted",
					"timestamp": 1684812485286,
					"user": {
						"displayName": "Cici Du",
						"userId": "17701548280142155870"
					},
					"user_tz": -480
				},
				"id": "aE9lp9YZ-H7c"
			},
			"outputs": [],
			"source": [
				"annotation_info = animation_func.make_annotation_info(caught_ff_num+1, max_point_index, n_ff_in_a_row, visible_before_last_one_trials, disappear_latest_trials, \\\n",
				"                                        ignore_sudden_flash_indices, give_up_after_trying_indices, try_a_few_times_indices)\n",
				"animate_annotated_func = partial(animation_func.animate_annotated, ax=ax, anim_monkey_info=anim_monkey_info, margin=400, ff_dataframe_anim=ff_dataframe_anim, ff_real_position_sorted=ff_real_position_sorted, \\\n",
				"                                   flash_on_ff_dict=flash_on_ff_dict, alive_ff_dict=alive_ff_dict, believed_ff_dict=believed_ff_dict, ff_caught_T_sorted=ff_caught_T_sorted, annotation_info=annotation_info)\n",
				"anim_annotated = animation.FuncAnimation(fig, animate_annotated_func, frames=num_frames, interval=100, repeat=True) \n",
				"HTML(anim_annotated.to_html5_video())"
			]
		},
		{
			"cell_type": "markdown",
			"metadata": {
				"id": "0ilPTCBQJa7R"
			},
			"source": [
				"## Polar"
			]
		},
		{
			"cell_type": "code",
			"execution_count": null,
			"metadata": {
				"executionInfo": {
					"elapsed": 45,
					"status": "aborted",
					"timestamp": 1684812485286,
					"user": {
						"displayName": "Cici Du",
						"userId": "17701548280142155870"
					},
					"user_tz": -480
				},
				"id": "vMxempT-1ta1"
			},
			"outputs": [],
			"source": [
				"currentTrial = 101\n",
				"num_trials = 1\n",
				"filename = f\"Trials {currentTrial-num_trials+1}-{currentTrial}\"\n",
				"print(filename)\n",
				"k = 3\n",
				"rmax = 100\n",
				"colors_Reds = plt.get_cmap(\"Reds\")(np.linspace(0,1,101))\n",
				"colors_YlGn = plt.get_cmap(\"YlGn\")(np.linspace(0,1,101))\n",
				"cum_indices = np.where((monkey_information['monkey_t'] > ff_caught_T_sorted[currentTrial-num_trials]) & \n",
				"                       (monkey_information['monkey_t'] <= ff_caught_T_sorted[currentTrial]))\n",
				"\n",
				"if len(cum_indices) > 0:\n",
				"    fig = plt.figure(figsize=(7,7))\n",
				"    ax = fig.add_axes([0.1, 0.1, 0.8, 0.8], polar=True)\n",
				"    ax = plot_behaviors.set_polar_background_for_animation(ax, rmax)\n",
				"\n",
				"    ff_in_time_frame, ff_visible, ff_in_memory = animation_func.subset_ff_dataframe(ff_dataframe, currentTrial, num_trials)\n",
				"    anim_indices = cum_indices[0][0:-1:k]\n",
				"    num_frames = anim_indices.size\n",
				"    animate_func = partial(animation_func.animate_polar, ax=ax, anim_indices=anim_indices, rmax=400, ff_in_time_frame=ff_in_time_frame, ff_visible=ff_visible, ff_in_memory=ff_in_memory)\n",
				"    anim = animation.FuncAnimation(fig, animate_func, frames=num_frames, interval=int(16.5*k), repeat=True) \n",
				"\n",
				"    #gif_dir = '/content/gdrive/My Drive/fireflies_anim/???'\n",
				"    #anim.save(f\"{gif_dir}/{filename}.gif\", writer='pillow', fps=60)\n",
				"else:\n",
				"    print(\"Please try another number for currentTrial, or increase num_trials.\")\n",
				"\n"
			]
		},
		{
			"cell_type": "code",
			"execution_count": null,
			"metadata": {
				"executionInfo": {
					"elapsed": 45,
					"status": "aborted",
					"timestamp": 1684812485286,
					"user": {
						"displayName": "Cici Du",
						"userId": "17701548280142155870"
					},
					"user_tz": -480
				},
				"id": "kABZKesgI3CT"
			},
			"outputs": [],
			"source": [
				"# For some reason, I need to run the following in a separate cell; I can't combine it with the previous cell.\n",
				"print(\"Number of frames is\", num_frames)\n",
				"HTML(anim.to_html5_video())"
			]
		},
		{
			"cell_type": "markdown",
			"metadata": {
				"id": "l0RQsUQJXNnK"
			},
			"source": [
				"# Plot statistics \n",
				"Compare monkey and agents"
			]
		},
		{
			"cell_type": "markdown",
			"metadata": {
				"id": "pF78TwVjaapn"
			},
			"source": [
				"## Calculate statistics of patterns"
			]
		},
		{
			"cell_type": "code",
			"execution_count": null,
			"metadata": {
				"executionInfo": {
					"elapsed": 45,
					"status": "aborted",
					"timestamp": 1684812485286,
					"user": {
						"displayName": "Cici Du",
						"userId": "17701548280142155870"
					},
					"user_tz": -480
				},
				"id": "gw3LlqgEaapn"
			},
			"outputs": [],
			"source": [
				"all_trial_features = analyze_patterns_and_features.make_all_trial_features(ff_dataframe, monkey_information, ff_caught_T_sorted, cluster_around_target_indices, ff_believed_position_sorted,  data_folder_name = data_folder_name)\n",
				"feature_statistics = analyze_patterns_and_features.make_feature_statistics(all_trial_features, data_folder_name = data_folder_name)\n",
				"\n",
				"caught_ff_num = len(ff_caught_T_sorted) \n",
				"all_trial_patterns = analyze_patterns_and_features.make_all_trial_patterns(caught_ff_num, n_ff_in_a_row, visible_before_last_one_trials, \n",
				"                                              disappear_latest_trials, ignore_sudden_flash_trials,\n",
				"                                              try_a_few_times_trials, give_up_after_trying_trials, \n",
				"                                              cluster_around_target_trials, cluster_around_target_indices, \n",
				"                                              waste_cluster_around_target_trials, data_folder_name = data_folder_name)\n",
				"pattern_frequencies = analyze_patterns_and_features.make_pattern_frequencies(all_trial_patterns, ff_caught_T_sorted, monkey_information, data_folder_name = data_folder_name)"
			]
		},
		{
			"cell_type": "markdown",
			"metadata": {
				"id": "SPvIaG6c5ZU8"
			},
			"source": [
				"## Import and merging stored data"
			]
		},
		{
			"cell_type": "code",
			"execution_count": null,
			"metadata": {
				"executionInfo": {
					"elapsed": 45,
					"status": "aborted",
					"timestamp": 1684812485286,
					"user": {
						"displayName": "Cici Du",
						"userId": "17701548280142155870"
					},
					"user_tz": -480
				},
				"id": "U4WDoo2F4JoP"
			},
			"outputs": [],
			"source": [
				"# from all_monkey_data/individual_monkey_data.monkey_Bruno.data_0219.monkey_patterns.pattern_data import pattern_frequencies_a2, feature_statistics_a2, pattern_frequencies_a3,\\\n",
				"#                                                 feature_statistics_a3, pattern_frequencies_m, feature_statistics_m \n",
				"# The above code needs to be updated\n",
				"agent_monkey_pattern_frequencies = analyze_patterns_and_features.combine_df_of_agent_and_monkey(pattern_frequencies_m, pattern_frequencies_a, agent_names = [\"Agent\", \"Agent2\", \"Agent3\"])\n",
				"agent_monkey_feature_statistics = analyze_patterns_and_features.combine_df_of_agent_and_monkey(feature_statistics_m, feature_statistics_a, agent_names = [\"Agent\", \"Agent2\", \"Agent3\"]) \n"
			]
		},
		{
			"cell_type": "markdown",
			"metadata": {
				"id": "grQ709935beb"
			},
			"source": [
				"## Plotting: same plot"
			]
		},
		{
			"cell_type": "code",
			"execution_count": null,
			"metadata": {
				"executionInfo": {
					"elapsed": 45,
					"status": "aborted",
					"timestamp": 1684812485286,
					"user": {
						"displayName": "Cici Du",
						"userId": "17701548280142155870"
					},
					"user_tz": -480
				},
				"id": "YPBpRnoBXRmF"
			},
			"outputs": [],
			"source": [
				"plot_statistics.plot_merged_df_in_one_plot(merged_pattern_frequencies)\n",
				"plot_statistics.plot_merged_df_in_one_plot(merged_feature_statistics)"
			]
		},
		{
			"cell_type": "markdown",
			"metadata": {
				"id": "qCxJ_qG45oaB"
			},
			"source": [
				"## Plotting: individual plots"
			]
		},
		{
			"cell_type": "code",
			"execution_count": null,
			"metadata": {
				"executionInfo": {
					"elapsed": 45,
					"status": "aborted",
					"timestamp": 1684812485286,
					"user": {
						"displayName": "Cici Du",
						"userId": "17701548280142155870"
					},
					"user_tz": -480
				},
				"id": "PrUa9H0yXSUt"
			},
			"outputs": [],
			"source": [
				"#plot_statistics.plot_merged_df_by_category_individually(merged_pattern_frequencies)\n",
				"plot_statistics.plot_merged_df_by_category_individually(merged_feature_statistics, percentage=False)"
			]
		},
		{
			"cell_type": "markdown",
			"metadata": {
				"id": "-v5debNEmiwD"
			},
			"source": [
				"## Plotting histograms"
			]
		},
		{
			"cell_type": "markdown",
			"metadata": {
				"id": "rGiI_gDQmla4"
			},
			"source": [
				"**Get stored data**"
			]
		},
		{
			"cell_type": "code",
			"execution_count": null,
			"metadata": {
				"executionInfo": {
					"elapsed": 45,
					"status": "aborted",
					"timestamp": 1684812485286,
					"user": {
						"displayName": "Cici Du",
						"userId": "17701548280142155870"
					},
					"user_tz": -480
				},
				"id": "LXtlFoT01T4P"
			},
			"outputs": [],
			"source": [
				"all_trial_features_m = pd.read_csv('all_monkey_data/individual_monkey_data/monkey_Bruno/data_0219/monkey_patterns/all_trial_features.csv')\n",
				"# all_trial_features_m = pd.read_csv(data_folder_name + '/all_trial_features.csv')\n",
				"all_trial_features_valid_m = all_trial_features_m[(all_trial_features_m['t_last_visible']<50) & (all_trial_features_m['hitting_arena_edge']==False)].reset_index()\n",
				"median_values_m = all_trial_features_valid_m.median(axis=0)\n",
				"all_trial_features_valid_m = all_trial_features_m[(all_trial_features_m['t_last_visible'] < 50) & (all_trial_features_m['hitting_arena_edge']==False)].reset_index()\n"
			]
		},
		{
			"cell_type": "code",
			"execution_count": null,
			"metadata": {
				"executionInfo": {
					"elapsed": 46,
					"status": "aborted",
					"timestamp": 1684812485287,
					"user": {
						"displayName": "Cici Du",
						"userId": "17701548280142155870"
					},
					"user_tz": -480
				},
				"id": "kfn80FbVXvIe"
			},
			"outputs": [],
			"source": [
				"all_trial_features_valid = all_trial_features[(all_trial_features['t_last_visible'] < 50) & (all_trial_features['hitting_arena_edge']==False)].reset_index()\n",
				"plot_statistics.plot_feature_histograms_for_monkey_and_agent(all_trial_features_valid_m, all_trial_features_valid)"
			]
		},
		{
			"cell_type": "markdown",
			"metadata": {
				"id": "McLE8_MfBMxV"
			},
			"source": [
				"# Other distributions"
			]
		},
		{
			"cell_type": "markdown",
			"metadata": {
				"id": "ovc1r5vSuLTi"
			},
			"source": [
				"## Stop speeds"
			]
		},
		{
			"cell_type": "code",
			"execution_count": null,
			"metadata": {
				"executionInfo": {
					"elapsed": 46,
					"status": "aborted",
					"timestamp": 1684812485287,
					"user": {
						"displayName": "Cici Du",
						"userId": "17701548280142155870"
					},
					"user_tz": -480
				},
				"id": "JC3Hb56iuO8n"
			},
			"outputs": [],
			"source": [
				"all_min_speed = []\n",
				"all_min_dw = []\n",
				"all_corr_dw = []\n",
				"for time in ff_caught_T_sorted:\n",
				"  duration = [time-0.5, time+0.5]\n",
				"  cum_indices = np.where((monkey_information['monkey_t'] >= duration[0]) & (monkey_information['monkey_t'] <= duration[1]))[0]\n",
				"  cum_t, cum_angles = np.array(monkey_information['monkey_t'].iloc[cum_indices]), np.array(monkey_information['monkey_angles'].iloc[cum_indices])\n",
				"  cum_mx, cum_my = np.array(monkey_information['monkey_x'].iloc[cum_indices]), np.array(monkey_information['monkey_y'].iloc[cum_indices])\n",
				"  cum_speed, cum_speeddummy = np.array(monkey_information['monkey_speed'].iloc[cum_indices]), np.array(monkey_information['monkey_speeddummy'].iloc[cum_indices])\n",
				"  cum_dw = np.array(monkey_information['monkey_dw'].iloc[cum_indices])\n",
				"  min_speed = min(cum_speed)\n",
				"  corresponding_dw = cum_dw[cum_speed==min_speed]\n",
				"  all_min_speed.append(min_speed)\n",
				"  all_min_dw.append(min(np.abs(cum_dw)))\n",
				"  all_corr_dw.append(round(abs(corresponding_dw).item(), 4))"
			]
		},
		{
			"cell_type": "code",
			"execution_count": null,
			"metadata": {
				"executionInfo": {
					"elapsed": 46,
					"status": "aborted",
					"timestamp": 1684812485287,
					"user": {
						"displayName": "Cici Du",
						"userId": "17701548280142155870"
					},
					"user_tz": -480
				},
				"id": "pdZ3fMxvudDd"
			},
			"outputs": [],
			"source": [
				"fig = plt.subplots()\n",
				"sns.histplot(all_min_speed)\n",
				"plt.title(\"Distribution of min speed around catching targets\")\n",
				"plt.show()\n",
				"plt.close()\n"
			]
		},
		{
			"cell_type": "code",
			"execution_count": null,
			"metadata": {
				"executionInfo": {
					"elapsed": 46,
					"status": "aborted",
					"timestamp": 1684812485287,
					"user": {
						"displayName": "Cici Du",
						"userId": "17701548280142155870"
					},
					"user_tz": -480
				},
				"id": "mBv6LXuzvdm7"
			},
			"outputs": [],
			"source": [
				"fig = plt.subplots()\n",
				"sns.histplot(all_min_dw)\n",
				"plt.title(\"Distribution of min abs dw around catching targets\")\n",
				"plt.show()\n",
				"plt.close()"
			]
		},
		{
			"cell_type": "code",
			"execution_count": null,
			"metadata": {
				"executionInfo": {
					"elapsed": 46,
					"status": "aborted",
					"timestamp": 1684812485287,
					"user": {
						"displayName": "Cici Du",
						"userId": "17701548280142155870"
					},
					"user_tz": -480
				},
				"id": "CBREQlpev8Sw"
			},
			"outputs": [],
			"source": [
				"fig = plt.subplots()\n",
				"sns.histplot(all_corr_dw)\n",
				"plt.title(\"Distribution of abs dw corresponding to min speed around catching targets\")\n",
				"plt.xlim(0, 0.004)\n",
				"plt.show()\n",
				"plt.close()"
			]
		},
		{
			"cell_type": "markdown",
			"metadata": {
				"id": "HJZ1afE1IuSX"
			},
			"source": [
				"## All ff in a session"
			]
		},
		{
			"cell_type": "code",
			"execution_count": null,
			"metadata": {
				"executionInfo": {
					"elapsed": 44,
					"status": "aborted",
					"timestamp": 1684812485287,
					"user": {
						"displayName": "Cici Du",
						"userId": "17701548280142155870"
					},
					"user_tz": -480
				},
				"id": "LlrXgZVqIv-f"
			},
			"outputs": [],
			"source": [
				"with basic_func.initiate_plot(10, 10, 100):\n",
				"    plt.scatter(ff_real_position_sorted[:,0], ff_real_position_sorted[:,1], s=10)\n",
				"    plt.show()\n",
				"    plt.close()"
			]
		},
		{
			"cell_type": "markdown",
			"metadata": {
				"id": "v0H7NQ9rVmiD"
			},
			"source": [
				"## ff distribution over time"
			]
		},
		{
			"cell_type": "code",
			"execution_count": null,
			"metadata": {
				"executionInfo": {
					"elapsed": 44,
					"status": "aborted",
					"timestamp": 1684812485287,
					"user": {
						"displayName": "Cici Du",
						"userId": "17701548280142155870"
					},
					"user_tz": -480
				},
				"id": "6QldUuNWV7A-"
			},
			"outputs": [],
			"source": [
				"plot_behaviors.plot_ff_distribution_in_arena(ff_real_position_sorted, ff_life_sorted, ff_caught_T_sorted, images_dir=None)"
			]
		},
		{
			"cell_type": "markdown",
			"metadata": {
				"id": "Vh6wNxjFpbSe"
			},
			"source": [
				"## Target cluster attributes when last visible"
			]
		},
		{
			"cell_type": "code",
			"execution_count": null,
			"metadata": {
				"executionInfo": {
					"elapsed": 44,
					"status": "aborted",
					"timestamp": 1684812485287,
					"user": {
						"displayName": "Cici Du",
						"userId": "17701548280142155870"
					},
					"user_tz": -480
				},
				"id": "elB9-U4i097P"
			},
			"outputs": [],
			"source": [
				"target_cluster_df = find_patterns.find_cluster_surrounding_targets(ff_real_position_sorted, ff_caught_T_sorted, ff_life_sorted, ff_dataframe, max_distance=50)"
			]
		},
		{
			"cell_type": "code",
			"execution_count": null,
			"metadata": {
				"executionInfo": {
					"elapsed": 44,
					"status": "aborted",
					"timestamp": 1684812485287,
					"user": {
						"displayName": "Cici Du",
						"userId": "17701548280142155870"
					},
					"user_tz": -480
				},
				"id": "6no9UoO2FvMs"
			},
			"outputs": [],
			"source": [
				"plot_statistics.plot_distribution(target_cluster_df['last_visible_time'], xlim=(0, 10), x_of_vline=2, scale_factor=1)"
			]
		},
		{
			"cell_type": "code",
			"execution_count": null,
			"metadata": {
				"executionInfo": {
					"elapsed": 45,
					"status": "aborted",
					"timestamp": 1684812485288,
					"user": {
						"displayName": "Cici Du",
						"userId": "17701548280142155870"
					},
					"user_tz": -480
				},
				"id": "kNH2ysPRGHOo"
			},
			"outputs": [],
			"source": [
				"plot_statistics.plot_distribution(target_cluster_df['last_visible_distances'], xlim=None, scale_factor=1, x_of_vline=300)"
			]
		},
		{
			"cell_type": "code",
			"execution_count": null,
			"metadata": {
				"executionInfo": {
					"elapsed": 45,
					"status": "aborted",
					"timestamp": 1684812485288,
					"user": {
						"displayName": "Cici Du",
						"userId": "17701548280142155870"
					},
					"user_tz": -480
				},
				"id": "6eqme27FGtSU"
			},
			"outputs": [],
			"source": [
				"for column in ['last_visible_angles', 'last_visible_angles_to_boundary']:\n",
				"    plot_statistics.plot_distribution(target_cluster_df[column], xlim=None, scale_factor=180/pi, x_of_vline=None, plot_cdf=False)"
			]
		},
		{
			"cell_type": "code",
			"execution_count": null,
			"metadata": {
				"executionInfo": {
					"elapsed": 45,
					"status": "aborted",
					"timestamp": 1684812485288,
					"user": {
						"displayName": "Cici Du",
						"userId": "17701548280142155870"
					},
					"user_tz": -480
				},
				"id": "KNTnG7_GHvDU"
			},
			"outputs": [],
			"source": [
				"for column in ['abs_last_visible_angles', 'abs_last_visible_angles_to_boundary']:\n",
				"    plot_statistics.plot_distribution(target_cluster_df[column], xlim=None, scale_factor=180/pi, x_of_vline=None, plot_cdf=True)"
			]
		},
		{
			"cell_type": "markdown",
			"metadata": {
				"id": "YCKw5nDiI1EL"
			},
			"source": [
				"## Positions of target clusters when last visible"
			]
		},
		{
			"cell_type": "code",
			"execution_count": null,
			"metadata": {
				"executionInfo": {
					"elapsed": 44,
					"status": "aborted",
					"timestamp": 1684812485288,
					"user": {
						"displayName": "Cici Du",
						"userId": "17701548280142155870"
					},
					"user_tz": -480
				},
				"id": "czZKXlA5CpOJ"
			},
			"outputs": [],
			"source": [
				"fig = plt.figure(figsize=(7, 7))\n",
				"ax = fig.add_axes([0.1, 0.1, 0.8, 0.8], polar=True)\n",
				"ax = plot_behaviors.set_polar_background_for_plotting(ax, 400)\n",
				"ax.scatter(target_cluster_df['last_visible_angles'], target_cluster_df['last_visible_distances'], s=2, alpha=0.5, zorder=2)\n",
				"\n",
				"plt.show()\n",
				"plt.close()"
			]
		},
		{
			"cell_type": "markdown",
			"metadata": {
				"id": "JUvBbX9eOYDQ"
			},
			"source": [
				"# Appendix"
			]
		},
		{
			"cell_type": "markdown",
			"metadata": {
				"id": "9c1qrT8MYVpn"
			},
			"source": [
				"## Retrieve more data"
			]
		},
		{
			"cell_type": "code",
			"execution_count": null,
			"metadata": {
				"executionInfo": {
					"elapsed": 44,
					"status": "aborted",
					"timestamp": 1684812485288,
					"user": {
						"displayName": "Cici Du",
						"userId": "17701548280142155870"
					},
					"user_tz": -480
				},
				"id": "qb6INKvNOYkl"
			},
			"outputs": [],
			"source": [
				"all_trial_features_lstm = pd.read_csv('RL_models/LSTM_stored_models/LSTM_Jan_11/all_trial_features.csv')\n",
				"all_trial_features_valid_lstm = all_trial_features_lstm[(all_trial_features_lstm['t_last_visible']<50) & (all_trial_features_lstm['hitting_arena_edge']==False)].reset_index()\n",
				"median_values_lstm = all_trial_features_valid_lstm.median(axis=0)"
			]
		},
		{
			"cell_type": "markdown",
			"metadata": {
				"id": "7qwFoBkAbVp3"
			},
			"source": [
				"## Backup"
			]
		},
		{
			"cell_type": "code",
			"execution_count": null,
			"metadata": {
				"executionInfo": {
					"elapsed": 44,
					"status": "aborted",
					"timestamp": 1684812485288,
					"user": {
						"displayName": "Cici Du",
						"userId": "17701548280142155870"
					},
					"user_tz": -480
				},
				"id": "pT3-ekzgbWi6"
			},
			"outputs": [],
			"source": [
				"print(\"player: \", PLAYER)\n",
				"print(\"data_folder_name: \", data_folder_name)\n",
				"\n",
				"\n",
				"ff_dataframe_args = (monkey_information, ff_caught_T_sorted, ff_flash_sorted,  ff_real_position_sorted, ff_life_sorted)\n",
				"ff_dataframe_kargs = {\"monkey\": {\n",
				"    \n",
				"}\n",
				"    \n",
				"\n",
				"\n",
				"}\n",
				"\n",
				"\n",
				"filepath = data_folder_name + '/ff_dataframe.csv'\n",
				"if exists(filepath):\n",
				"    ff_dataframe = pd.read_csv(filepath).drop([\"Unnamed: 0\"], axis=1)\n",
				"    ff_dataframe.memory = ff_dataframe.memory.astype('int')\n",
				"    min_point_index, max_point_index = np.min(np.array(ff_dataframe['point_index'])), np.max(np.array(ff_dataframe['point_index']))\n",
				"else:\n",
				"    ff_dataframe = make_ff_dataframe.make_ff_dataframe_func(monkey_information, ff_caught_T_sorted, ff_flash_sorted,  ff_real_position_sorted, ff_life_sorted, \\\n",
				"\t\t max_distance = 400, data_folder_name = data_folder_name, num_missed_index = 0)\n",
				"    min_point_index, max_point_index = np.min(np.array(ff_dataframe['point_index'])), np.max(np.array(ff_dataframe['point_index']))\n",
				"\n",
				"ff_dataframe = make_ff_dataframe.make_ff_dataframe_func(monkey_information, ff_caught_T_sorted, ff_flash_sorted,  ff_real_position_sorted, ff_life_sorted, \\\n",
				"                                 player = \"agent\", max_distance = 400, data_folder_name = data_folder_name, num_missed_index = 0, \\\n",
				"                                 obs_ff_indices_in_ff_dataframe = obs_ff_indices_in_ff_dataframe)\n",
				"\n",
				"\n",
				"filepath = data_folder_name + '/point_vs_cluster.csv'\n",
				"if exists(filepath):\n",
				"    filepath = data_folder_name + '/point_vs_cluster.csv'\n",
				"    point_vs_cluster = np.array(np.loadtxt(open(filepath), delimiter=\",\")).astype('int')\n",
				"    point_vs_cluster = point_vs_cluster\n",
				"else:\n",
				"    point_vs_cluster = find_patterns.make_point_vs_cluster(ff_dataframe, max_ff_distance_from_monkey = 250, max_cluster_distance = 100, \n",
				"                                             max_time_past = 1, print_progress = True, data_folder_name = data_folder_name)\n",
				"\n",
				"\n",
				"filepath = data_folder_name + '/all_trial_features.csv'\n",
				"if exists(filepath):\n",
				"    all_trial_features = pd.read_csv(filepath)\n",
				"else:\n",
				"    all_trial_features = analyze_patterns_and_features.make_all_trial_features(ff_dataframe, monkey_information, ff_caught_T_sorted, cluster_around_target_indices, ff_believed_position_sorted,  data_folder_name = data_folder_name)\n"
			]
		},
		{
			"cell_type": "markdown",
			"metadata": {
				"id": "G1L88NI-C1Td"
			},
			"source": [
				"# Appendix of categories"
			]
		},
		{
			"cell_type": "markdown",
			"metadata": {
				"id": "FTIpPMTzQ4ry"
			},
			"source": [
				"## Cluster around targets"
			]
		},
		{
			"cell_type": "code",
			"execution_count": null,
			"metadata": {
				"executionInfo": {
					"elapsed": 44,
					"status": "aborted",
					"timestamp": 1684812485288,
					"user": {
						"displayName": "Cici Du",
						"userId": "17701548280142155870"
					},
					"user_tz": -480
				},
				"id": "dq8yqi9tQ4ry"
			},
			"outputs": [],
			"source": [
				"# category = cluster_around_target_trials\n",
				"# category = category[category > num_trials]\n",
				"# category_name = 'cluster_around_target'\n",
				"# num_trials = 1\n",
				"\n",
				"\n",
				"# if len(category) > 0:\n",
				"#   with basic_func.initiate_plot(10,10,100):\n",
				"#     for currentTrial in category[:trial_total_num]:\n",
				"#         duration = [ff_caught_T_sorted[currentTrial-num_trials], ff_caught_T_sorted[currentTrial]]\n",
				"#         plot_behaviors.PlotTrials(duration, \n",
				"#                    *plot_behaviors.PlotTrials_args,\n",
				"#                    **classic_plot_kwargs,\n",
				"#                    currentTrial = currentTrial,\n",
				"#                    num_trials = num_trials,                   \n",
				"#                    trail_color_var = \"speed\",\n",
				"#                    show_path_when_target_visible = True,\n",
				"#                    show_connect_path_ff = True,\n",
				"#                    trial_to_show_cluster_around_target = \"current\",                 \n",
				"#                    )\n",
				"\n",
				"#         temp_animation_plot_kwargs = animation_plot_kwargs.copy()\n",
				"#         temp_animation_plot_kwargs['trial_to_show_cluster_around_target'] = 'current'\n",
				"#         make_animation_with_plots(data_instance, currentTrial, num_trials, monkey_name, data_name, category_name, temp_animation_plot_kwargs)\n",
				"        \n",
				"\n",
				"#         plt.show()  \n",
				"#         plt.close()\n"
			]
		},
		{
			"cell_type": "markdown",
			"metadata": {
				"id": "ZQKqdGcMQ4rx"
			},
			"source": [
				"## Cluster of fireflies"
			]
		},
		{
			"cell_type": "code",
			"execution_count": null,
			"metadata": {
				"executionInfo": {
					"elapsed": 44,
					"status": "aborted",
					"timestamp": 1684812485288,
					"user": {
						"displayName": "Cici Du",
						"userId": "17701548280142155870"
					},
					"user_tz": -480
				},
				"id": "b7Yy6891Q4rx"
			},
			"outputs": [],
			"source": [
				"# category = cluster_exist_trials\n",
				"# category = category[category > num_trials]\n",
				"# category_name = 'cluster_exist_trials'\n",
				"# num_trials = 1\n",
				"\n",
				"# if len(category) > 0:\n",
				"#   with basic_func.initiate_plot(10,10,100):\n",
				"#     for currentTrial in category[:trial_total_num]:\n",
				"#         duration = [ff_caught_T_sorted[currentTrial-num_trials], ff_caught_T_sorted[currentTrial]]\n",
				"        \n",
				"#         plot_behaviors.PlotTrials(duration, \n",
				"                  #  *plot_behaviors.PlotTrials_args,\n",
				"                  #  **classic_plot_kwargs,\n",
				"                  #  currentTrial = currentTrial,\n",
				"                  #  num_trials = num_trials,                   \n",
				"#                    trail_color_var = \"speed\",                 \n",
				"#                    show_path_when_target_visible = True,\n",
				"#                    show_connect_path_ff_except_targets = True,\n",
				"#                    trial_to_show_cluster = \"current\", \n",
				"#                    cluster_dataframe_point = cluster_dataframe_point,\n",
				"#                    \n",
				"#                    )\n",
				"\n",
				"#         plt.show()  \n",
				"#         plt.close()\n"
			]
		},
		{
			"cell_type": "markdown",
			"metadata": {
				"id": "gfUkMLmTQ4ry"
			},
			"source": [
				"## Waste cluster"
			]
		},
		{
			"cell_type": "code",
			"execution_count": null,
			"metadata": {
				"executionInfo": {
					"elapsed": 44,
					"status": "aborted",
					"timestamp": 1684812485288,
					"user": {
						"displayName": "Cici Du",
						"userId": "17701548280142155870"
					},
					"user_tz": -480
				},
				"id": "bRqL7pxKQ4ry"
			},
			"outputs": [],
			"source": [
				"# category = waste_cluster_trials\n",
				"# category = category[category > num_trials]\n",
				"# category_name = 'waste_cluster_trials'\n",
				"# num_trials = 2\n",
				"\n",
				"# if len(category) > 0:\n",
				"#   with basic_func.initiate_plot(10,10,100):\n",
				"#     for currentTrial in category[:trial_total_num]:\n",
				"#         duration = [ff_caught_T_sorted[currentTrial-num_trials], ff_caught_T_sorted[currentTrial]]\n",
				"        \n",
				"#         plot_behaviors.PlotTrials(duration, \n",
				"                  #  *plot_behaviors.PlotTrials_args,\n",
				"                  #  **classic_plot_kwargs,\n",
				"                  #  currentTrial = currentTrial,\n",
				"                  #  num_trials = num_trials,\n",
				"#                    show_connect_path_ff = True,\n",
				"#                    trial_to_show_cluster = \"previous\", \n",
				"#                    cluster_dataframe_point = cluster_dataframe_point\n",
				"#                    \n",
				"#                    )\n",
				"\n",
				"#         plt.show()  \n",
				"#         plt.close()\n"
			]
		},
		{
			"cell_type": "markdown",
			"metadata": {
				"id": "kkfeWWkVyDFt"
			},
			"source": [
				"# Debug"
			]
		},
		{
			"cell_type": "code",
			"execution_count": null,
			"metadata": {
				"executionInfo": {
					"elapsed": 44,
					"status": "aborted",
					"timestamp": 1684812485288,
					"user": {
						"displayName": "Cici Du",
						"userId": "17701548280142155870"
					},
					"user_tz": -480
				},
				"id": "qQfGqp3EY1Cn"
			},
			"outputs": [],
			"source": [
				"!pip install -Uqq ipdb\n",
				"import ipdb\n",
				"%pdb on"
			]
		},
		{
			"cell_type": "code",
			"execution_count": null,
			"metadata": {
				"executionInfo": {
					"elapsed": 45,
					"status": "aborted",
					"timestamp": 1684812485289,
					"user": {
						"displayName": "Cici Du",
						"userId": "17701548280142155870"
					},
					"user_tz": -480
				},
				"id": "QAu5A6RFY2XA"
			},
			"outputs": [],
			"source": [
				"%pdb off"
			]
		},
		{
			"cell_type": "markdown",
			"metadata": {
				"id": "wbixtVPdFxsU"
			},
			"source": [
				"## plot_behaviors.PlotPolar func (up to date)"
			]
		},
		{
			"cell_type": "markdown",
			"metadata": {
				"id": "jzE-fNs6HblV"
			},
			"source": [
				"## run"
			]
		},
		{
			"cell_type": "code",
			"execution_count": null,
			"metadata": {
				"executionInfo": {
					"elapsed": 45,
					"status": "aborted",
					"timestamp": 1684812485289,
					"user": {
						"displayName": "Cici Du",
						"userId": "17701548280142155870"
					},
					"user_tz": -480
				},
				"id": "8dEX9P0XHdG_"
			},
			"outputs": [],
			"source": [
				"ff_dataframe_v2 = make_ff_dataframe_v2_func(duration, monkey_information, ff_caught_T_sorted, ff_flash_sorted,  \n",
				"                                ff_real_position_sorted, ff_life_sorted, max_distance = 400, ff_radius=10, \n",
				"                                data_folder_name = None, print_progress = True) "
			]
		},
		{
			"cell_type": "markdown",
			"metadata": {
				"id": "Rfxa7GpFNOQ8"
			},
			"source": [
				"## open"
			]
		},
		{
			"cell_type": "code",
			"execution_count": null,
			"metadata": {
				"executionInfo": {
					"elapsed": 45,
					"status": "aborted",
					"timestamp": 1684812485289,
					"user": {
						"displayName": "Cici Du",
						"userId": "17701548280142155870"
					},
					"user_tz": -480
				},
				"id": "juPFdFhNGBq-"
			},
			"outputs": [],
			"source": [
				"currentTrial = 7\n",
				"duration = [ff_caught_T_sorted[currentTrial]-1.25, ff_caught_T_sorted[currentTrial]]"
			]
		},
		{
			"cell_type": "code",
			"execution_count": null,
			"metadata": {
				"executionInfo": {
					"elapsed": 46,
					"status": "aborted",
					"timestamp": 1684812485290,
					"user": {
						"displayName": "Cici Du",
						"userId": "17701548280142155870"
					},
					"user_tz": -480
				},
				"id": "mvVSypt0G4Dr"
			},
			"outputs": [],
			"source": [
				"duration"
			]
		},
		{
			"cell_type": "code",
			"execution_count": null,
			"metadata": {
				"executionInfo": {
					"elapsed": 46,
					"status": "aborted",
					"timestamp": 1684812485290,
					"user": {
						"displayName": "Cici Du",
						"userId": "17701548280142155870"
					},
					"user_tz": -480
				},
				"id": "efE6acF1GsVa"
			},
			"outputs": [],
			"source": [
				"show_alive_ff"
			]
		},
		{
			"cell_type": "code",
			"execution_count": null,
			"metadata": {
				"executionInfo": {
					"elapsed": 46,
					"status": "aborted",
					"timestamp": 1684812485290,
					"user": {
						"displayName": "Cici Du",
						"userId": "17701548280142155870"
					},
					"user_tz": -480
				},
				"id": "d7iRMEujOxHU"
			},
			"outputs": [],
			"source": [
				"ff_dataframe_v2"
			]
		},
		{
			"cell_type": "code",
			"execution_count": null,
			"metadata": {
				"executionInfo": {
					"elapsed": 46,
					"status": "aborted",
					"timestamp": 1684812485290,
					"user": {
						"displayName": "Cici Du",
						"userId": "17701548280142155870"
					},
					"user_tz": -480
				},
				"id": "bgCedaBmOf2T"
			},
			"outputs": [],
			"source": [
				"np.zeros(len([valid_distance_indices]))"
			]
		},
		{
			"cell_type": "code",
			"execution_count": null,
			"metadata": {
				"executionInfo": {
					"elapsed": 46,
					"status": "aborted",
					"timestamp": 1684812485290,
					"user": {
						"displayName": "Cici Du",
						"userId": "17701548280142155870"
					},
					"user_tz": -480
				},
				"id": "3-pQH80DOSOG"
			},
			"outputs": [],
			"source": [
				"np.where((np.absolute(angles_to_boundaries) <= 2*pi/9) & (distances_to_ff < max_distance))[0]"
			]
		},
		{
			"cell_type": "code",
			"execution_count": null,
			"metadata": {
				"executionInfo": {
					"elapsed": 45,
					"status": "aborted",
					"timestamp": 1684812485290,
					"user": {
						"displayName": "Cici Du",
						"userId": "17701548280142155870"
					},
					"user_tz": -480
				},
				"id": "UdV6aieDOTC9"
			},
			"outputs": [],
			"source": [
				"np.where(np.absolute(angles_to_boundaries) <= 2*pi/9)"
			]
		},
		{
			"cell_type": "code",
			"execution_count": null,
			"metadata": {
				"executionInfo": {
					"elapsed": 45,
					"status": "aborted",
					"timestamp": 1684812485290,
					"user": {
						"displayName": "Cici Du",
						"userId": "17701548280142155870"
					},
					"user_tz": -480
				},
				"id": "bwNbHwL6OHF5"
			},
			"outputs": [],
			"source": [
				"ff_within_range_indices"
			]
		},
		{
			"cell_type": "code",
			"execution_count": null,
			"metadata": {
				"executionInfo": {
					"elapsed": 45,
					"status": "aborted",
					"timestamp": 1684812485290,
					"user": {
						"displayName": "Cici Du",
						"userId": "17701548280142155870"
					},
					"user_tz": -480
				},
				"id": "8xl53RafNVrr"
			},
			"outputs": [],
			"source": [
				"ff_flash[:,0]"
			]
		},
		{
			"cell_type": "code",
			"execution_count": null,
			"metadata": {
				"executionInfo": {
					"elapsed": 45,
					"status": "aborted",
					"timestamp": 1684812485290,
					"user": {
						"displayName": "Cici Du",
						"userId": "17701548280142155870"
					},
					"user_tz": -480
				},
				"id": "lmYo5G_9NW_g"
			},
			"outputs": [],
			"source": [
				"ff_flash[:,1]"
			]
		},
		{
			"cell_type": "code",
			"execution_count": null,
			"metadata": {
				"executionInfo": {
					"elapsed": 45,
					"status": "aborted",
					"timestamp": 1684812485290,
					"user": {
						"displayName": "Cici Du",
						"userId": "17701548280142155870"
					},
					"user_tz": -480
				},
				"id": "mCjRwId1NfuH"
			},
			"outputs": [],
			"source": [
				"ff_within_range_indices"
			]
		},
		{
			"cell_type": "code",
			"execution_count": null,
			"metadata": {
				"executionInfo": {
					"elapsed": 45,
					"status": "aborted",
					"timestamp": 1684812485290,
					"user": {
						"displayName": "Cici Du",
						"userId": "17701548280142155870"
					},
					"user_tz": -480
				},
				"id": "PQZlrQb9Ncna"
			},
			"outputs": [],
			"source": [
				"np.logical_and(ff_flash[:,0] <= cum_t[index], ff_flash[:,1] >= cum_t[index])"
			]
		}
	],
	"metadata": {
		"colab": {
			"provenance": [
				{
					"file_id": "1G3e4Qx3gpEEDPI9pKYXBK_bxXCmF4ZmN",
					"timestamp": 1681009405002
				}
			],
			"toc_visible": true
		},
		"gpuClass": "standard",
		"kernelspec": {
			"display_name": "Python 3 (ipykernel)",
			"language": "python",
			"name": "python3"
		},
		"language_info": {
			"codemirror_mode": {
				"name": "ipython",
				"version": 3
			},
			"file_extension": ".py",
			"mimetype": "text/x-python",
			"name": "python",
			"nbconvert_exporter": "python",
			"pygments_lexer": "ipython3",
			"version": "3.9.12"
		},
		"toc": {
			"base_numbering": 1,
			"nav_menu": {},
			"number_sections": true,
			"sideBar": true,
			"skip_h1_title": false,
			"title_cell": "Table of Contents",
			"title_sidebar": "Contents",
			"toc_cell": true,
			"toc_position": {},
			"toc_section_display": true,
			"toc_window_display": true
		}
	},
	"nbformat": 4,
	"nbformat_minor": 0
}
