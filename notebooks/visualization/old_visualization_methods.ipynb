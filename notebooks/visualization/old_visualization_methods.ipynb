{
	"cells": [
		{
			"attachments": {},
			"cell_type": "markdown",
			"metadata": {
				"id": "Ba0IdmwjQ4rv"
			},
			"source": [
				"# Install packages"
			]
		},
		{
			"cell_type": "code",
			"execution_count": null,
			"metadata": {},
			"outputs": [],
			"source": [
				"reload(basic_func)\n",
				"reload(plot_trials)\n",
				"null_arc_info_for_plotting_temp = null_arc_info_for_plotting.copy()\n",
				"null_arc_info_for_plotting_temp['show_connect_path_ff'] = True\n",
				"category_item.plot_trajectories(trials=category_item.sort_2_trials[current_i:current_i+5], null_arc_info_for_plotting=null_arc_info_for_plotting_temp)\n",
				"current_i = current_i+5"
			]
		},
		{
			"cell_type": "code",
			"execution_count": null,
			"metadata": {
				"colab": {
					"base_uri": "https://localhost:8080/",
					"height": 1000
				},
				"executionInfo": {
					"elapsed": 54477,
					"status": "ok",
					"timestamp": 1684812396640,
					"user": {
						"displayName": "Cici Du",
						"userId": "17701548280142155870"
					},
					"user_tz": -480
				},
				"id": "37EL1grMQ4rw",
				"outputId": "dd093c3d-d17a-417e-db67-542165dd6420"
			},
			"outputs": [],
			"source": [
				"from google.colab import drive # import drive from google colab\n",
				"drive.mount(\"/content/drive\") \n",
				"!pip install neo\n",
				"!pip install matplotlib_scalebar\n",
				"!pip install ffmpeg\n",
				"!pip install Ipython --upgrade\n",
				"%load_ext autoreload\n",
				"%autoreload 2"
			]
		},
		{
			"attachments": {},
			"cell_type": "markdown",
			"metadata": {
				"id": "D7ubA2G0ql0K"
			},
			"source": [
				"# Import packages"
			]
		},
		{
			"cell_type": "code",
			"execution_count": null,
			"metadata": {},
			"outputs": [],
			"source": [
				"# if using google drive\n",
				"%cd /content/drive/MyDrive/ff_repo/Multifirefly-Project"
			]
		},
		{
			"cell_type": "code",
			"execution_count": null,
			"metadata": {},
			"outputs": [],
			"source": [
				"%cd /Users/dusiyi/Documents/Multifirefly-Project"
			]
		},
		{
			"cell_type": "code",
			"execution_count": 2,
			"metadata": {},
			"outputs": [],
			"source": [
				"from importlib import reload\n",
				"# reload(plot_trials)\n",
				"# reload(intended_targets_classes)"
			]
		},
		{
			"cell_type": "code",
			"execution_count": null,
			"metadata": {
				"colab": {
					"base_uri": "https://localhost:8080/"
				},
				"executionInfo": {
					"elapsed": 22177,
					"status": "ok",
					"timestamp": 1684812418814,
					"user": {
						"displayName": "Cici Du",
						"userId": "17701548280142155870"
					},
					"user_tz": -480
				},
				"id": "3klBkPC-Q4rw",
				"outputId": "74d8e70e-7cde-4252-e902-f172b4023294",
				"scrolled": true
			},
			"outputs": [],
			"source": [
				"%load_ext autoreload\n",
				"%autoreload 2\n",
				"\n",
				"\n",
				"import sys\n",
				" sys.path.append('/Users/dusiyi/Documents/Multifirefly-Project/multiff_analysis/methods')\n",
				"from data_wrangling import basic_func, process_raw_data, base_processing_class, monkey_data_classes\n",
				"from pattern_discovery import pattern_by_trials, pattern_by_points, make_ff_dataframe, ff_dataframe_utils, pattern_by_trials, pattern_by_points, cluster_analysis, organize_patterns_and_features, category_class\n",
				"from decision_making_analysis import decision_making_class, decision_making_utils, cluster_replacement_utils, intended_targets_classes, cluster_replacement_class, process_GUAT_trials_class, GUAT_helper_class\n",
				"from visualization import animation_func, animation_utils, plot_trials, plot_polar, additional_plots, plot_behaviors_utils, plot_statistics\n",
				"from machine_learning import machine_learning_utils, hyperparameter_tuning_class\n",
				"from machine_learning.RL.env_related import env_for_lstm, env_utils, base_env, collect_agent_data_utils\n",
				"from machine_learning.RL.lstm import GRU_functions, LSTM_functions\n",
				"from machine_learning.RL.SB3 import interpret_neural_network, sb3_for_multiff_class, rl_for_multiff_utils, SB3_functions\n",
				"from non_behavioral_analysis import neural_analysis, eye_positions\n",
				"from decision_making_analysis.compare_GUAT_and_TAFT import find_GUAT_or_TAFT_trials\n",
				"\n",
				"\n",
				"import os\n",
				"import torch\n",
				"import numpy as np\n",
				"import matplotlib\n",
				"from matplotlib import rc, cm\n",
				"import matplotlib.pyplot as plt\n",
				"import torch.nn as nn\n",
				"from os.path import exists\n",
				"import pandas as pd\n",
				"from IPython.display import HTML\n",
				"import matplotlib.ticker as ticker\n",
				"from matplotlib import animation\n",
				"from functools import partial\n",
				"from math import pi\n",
				"\n",
				"plt.rcParams[\"animation.html\"] = \"html5\"\n",
				"os.environ['KMP_DUPLICATE_LIB_OK']='True'\n",
				"rc('animation', html='jshtml')\n",
				"matplotlib.rcParams.update(matplotlib.rcParamsDefault)\n",
				"matplotlib.rcParams['animation.embed_limit'] = 2**128\n",
				"pd.set_option('display.float_format', lambda x: '%.5f' % x)\n",
				"np.set_printoptions(suppress=True)\n",
				"print(\"done\")"
			]
		},
		{
			"attachments": {},
			"cell_type": "markdown",
			"metadata": {
				"id": "EC7STQ6VCFKw"
			},
			"source": [
				"# Basic data"
			]
		},
		{
			"attachments": {},
			"cell_type": "markdown",
			"metadata": {
				"id": "XVnyzV00Yk1g"
			},
			"source": [
				"## Plotting kwargs"
			]
		},
		{
			"cell_type": "code",
			"execution_count": null,
			"metadata": {
				"colab": {
					"base_uri": "https://localhost:8080/"
				},
				"executionInfo": {
					"elapsed": 16,
					"status": "ok",
					"timestamp": 1684812418814,
					"user": {
						"displayName": "Cici Du",
						"userId": "17701548280142155870"
					},
					"user_tz": -480
				},
				"id": "5G05yr50cdoy",
				"outputId": "5c875efc-bae4-43c8-bb87-537f80d3a740"
			},
			"outputs": [],
			"source": [
				"trial_total_num = 2\n",
				"PLAYER = \"monkey\"\n",
				"\n",
				"classic_plot_kwargs = {'player': PLAYER,\n",
				"                       'show_stops': True,\n",
				"                       'show_believed_target_positions': True,\n",
				"                       'show_reward_boundary': True,\n",
				"                       'show_scale_bar': True,\n",
				"                       'show_eye_positions': True,\n",
				"                       'show_eye_positions_on_the_right': True,\n",
				"                       'show_connect_path_eye_positions': True,\n",
				"                       #=== below is different from animation_plot_kwargs\n",
				"                       'hitting_arena_edge_ok': False,\n",
				"                       'trial_too_short_ok': False}\n",
				"\n",
				"combined_plot_kwargs = {'player': PLAYER,\n",
				"                        'combined_plot': True,\n",
				"                        'show_alive_fireflies': False,\n",
				"                        'show_title': False,\n",
				"                        'show_start': False}\n",
				"\n",
				"plot_chunks_kwargs = {'player': PLAYER,\n",
				"                      'show_stops': True,\n",
				"                      'show_believed_target_positions': True,\n",
				"                      'show_reward_boundary': True,\n",
				"                      'show_scale_bar': True,\n",
				"                      'hitting_arena_edge_ok': True,\n",
				"                      'trial_too_short_ok': True,\n",
				"                      'show_connect_path_ff': True,\n",
				"                      'trail_color_var': 'abs_ddw',\n",
				"                      'show_colorbar': True}\n",
				"\n",
				"\n",
				"plot_polar_kwargs = {'rmax': 400,\n",
				"                    'show_visible_ff': True,\n",
				"                    'hitting_arena_edge_ok': True,\n",
				"                    'return_axes': True,\n",
				"                    'colors_show_overall_time': True,\n",
				"                    'show_ff_in_memory': True,\n",
				"                    'show_target_at_being_caught': True\n",
				"}\n",
				"\n",
				"print(\"player is\", PLAYER)\n",
				"\n",
				"animation_plot_kwargs = classic_plot_kwargs.copy()\n",
				"animation_plot_kwargs['as_part_of_animation'] = True\n",
				"animation_plot_kwargs['show_eye_positions_on_the_right'] = False   \n",
				"animation_plot_kwargs['hitting_arena_edge_ok'] = True\n",
				"animation_plot_kwargs['trial_too_short_ok'] = True\n",
				"animation_plot_kwargs['images_dir'] = None"
			]
		},
		{
			"attachments": {},
			"cell_type": "markdown",
			"metadata": {
				"id": "18RHPEyDX0_9"
			},
			"source": [
				"## Retrieve monkey data"
			]
		},
		{
			"cell_type": "code",
			"execution_count": null,
			"metadata": {
				"colab": {
					"base_uri": "https://localhost:8080/"
				},
				"executionInfo": {
					"elapsed": 66472,
					"status": "ok",
					"timestamp": 1684812485274,
					"user": {
						"displayName": "Cici Du",
						"userId": "17701548280142155870"
					},
					"user_tz": -480
				},
				"id": "RfG8_2JFX253",
				"outputId": "c6b2dab5-0276-46c1-c748-113661c8b0d9"
			},
			"outputs": [],
			"source": [
				"PLAYER = \"monkey\"\n",
				"monkey_data_folder_path = \"all_monkey_data/raw_monkey_data/individual_monkey_data/monkey_Bruno/data_0330\"\n",
				"data_item = monkey_data_classes.ProcessMonkeyData(raw_data_folder_path=monkey_data_folder_path)\n",
				"data_item.retrieve_or_make_monkey_data()\n",
				"data_item.make_or_retrieve_ff_dataframe(exists_ok=True)\n",
				"data_item.find_patterns()\n",
				"data_item.make_PlotTrials_args()\n",
				"data_item.make_PlotTrials_kargs(classic_plot_kwargs, combined_plot_kwargs, animation_plot_kwargs)\n",
				"\n",
				"monkey_information = data_item.monkey_information\n",
				"ff_dataframe = data_item.ff_dataframe\n",
				"\n",
				"ff_life_sorted = data_item.ff_life_sorted\n",
				"ff_real_position_sorted = data_item.ff_real_position_sorted\n",
				"ff_believed_position_sorted = data_item.ff_believed_position_sorted\n",
				"cluster_around_target_indices = data_item.cluster_around_target_indices\n",
				"ff_caught_T_sorted = data_item.ff_caught_T_sorted\n",
				"caught_ff_num = len(ff_caught_T_sorted)\n",
				"ff_flash_sorted = data_item.ff_flash_sorted\n",
				"ff_flash_end_sorted = data_item.ff_flash_end_sorted\n",
				"max_point_index = data_item.max_point_index\n",
				"min_point_index = data_item.min_point_index\n",
				"\n",
				"monkey_name = data_item.model_folder_name.split('/')[2]\n",
				"data_name = data_item.model_folder_name.split('/')[3]\n",
				"\n",
				"\n",
				"\n",
				"# data_item.make_or_retrieve_all_trial_patterns(exists_ok=True)\n",
				"# data_item.make_or_retrieve_pattern_frequencies(exists_ok=True)\n",
				"# data_item.make_or_retrieve_all_trial_features(exists_ok=True)\n",
				"# data_item.make_or_retrieve_feature_statistics(exists_ok=True)\n",
				"# data_item.make_info_of_monkey()\n",
				"# data_item.make_or_retrieve_target_closest()\n",
				"# data_item.make_or_retrieve_target_angle_smallest()\n",
				"# data_item.make_distance_dataframe()\n",
				"# data_item.make_angle_dataframe()\n",
				"\n",
				"# target_closest = data_item.target_closest\n",
				"# target_angle_smallest = data_item.target_angle_smallest\n",
				"# all_trial_patterns = data_item.all_trial_patterns\n",
				"# all_trial_features = data_item.all_trial_features\n",
				"# pattern_frequencies = data_item.pattern_frequencies\n",
				"# feature_statistics = data_item.feature_statistics\n",
				"# distance_dataframe = data_item.distance_dataframe\n",
				"# angle_dataframe = data_item.angle_dataframe\n",
				"# trial_vs_distance = data_item.trial_vs_distance\n",
				"# trial_vs_angle = data_item.trial_vs_angle\n",
				"# info_of_monkey = data_item.info_of_monkey\n",
				"# max_point_index = data_item.max_point_index\n",
				"# min_point_index = data_item.min_point_index\n",
				"\n",
				"# data_item.make_PlotTrials_args()\n",
				"# data_item.make_PlotTrials_kargs(classic_plot_kwargs, combined_plot_kwargs, animation_plot_kwargs)\n",
				"\n"
			]
		},
		{
			"cell_type": "code",
			"execution_count": null,
			"metadata": {},
			"outputs": [],
			"source": []
		},
		{
			"attachments": {},
			"cell_type": "markdown",
			"metadata": {
				"id": "hIoj2AOqKEGA"
			},
			"source": [
				"## Plotting args"
			]
		},
		{
			"cell_type": "code",
			"execution_count": 17,
			"metadata": {
				"colab": {
					"base_uri": "https://localhost:8080/"
				},
				"executionInfo": {
					"elapsed": 64,
					"status": "ok",
					"timestamp": 1684812485274,
					"user": {
						"displayName": "Cici Du",
						"userId": "17701548280142155870"
					},
					"user_tz": -480
				},
				"id": "LKsbti06KDVT",
				"outputId": "9ecc2ec3-d4d7-4f71-d35e-7886fec1af9c"
			},
			"outputs": [],
			"source": [
				"PlotTrials_args = (monkey_information, ff_dataframe, ff_life_sorted, ff_real_position_sorted, ff_believed_position_sorted, cluster_around_target_indices, ff_caught_T_sorted)\n",
				"\n",
				"\n",
				"plot_polar_args = (monkey_information,\n",
				"                    ff_dataframe, \n",
				"                    ff_life_sorted,\n",
				"                    ff_real_position_sorted,\n",
				"                    ff_caught_T_sorted,\n",
				"                    ff_flash_sorted,)"
			]
		},
		{
			"cell_type": "code",
			"execution_count": null,
			"metadata": {
				"executionInfo": {
					"elapsed": 45,
					"status": "aborted",
					"timestamp": 1684812485280,
					"user": {
						"displayName": "Cici Du",
						"userId": "17701548280142155870"
					},
					"user_tz": -480
				},
				"id": "ax-3qkEWE_ZD"
			},
			"outputs": [],
			"source": [
				"# chunk_numbers = range(20, 30)\n",
				"# additional_kwargs = {'show_connect_path_ff_memory': True,\n",
				"#                      'show_connect_path_ff_except_targets': True,\n",
				"#                      'show_path_when_target_visible': True,\n",
				"#                      'show_connect_path_eye_positions': False}\n",
				"# data_item.make_animation_of_chunks(points_w_more_than_2_ff, monkey_information, chunk_numbers = chunk_numbers, sampling_frame_ratio = 3, additional_kwargs=additional_kwargs, exists_ok=True)"
			]
		},
		{
			"attachments": {},
			"cell_type": "markdown",
			"metadata": {
				"id": "M0XrFBWUrnWm"
			},
			"source": [
				"# Retrieve data"
			]
		},
		{
			"attachments": {},
			"cell_type": "markdown",
			"metadata": {
				"id": "kIqwLZnR_c0F"
			},
			"source": [
				"## Basic parameters"
			]
		},
		{
			"cell_type": "code",
			"execution_count": null,
			"metadata": {
				"executionInfo": {
					"elapsed": 45,
					"status": "aborted",
					"timestamp": 1684812485280,
					"user": {
						"displayName": "Cici Du",
						"userId": "17701548280142155870"
					},
					"user_tz": -480
				},
				"id": "WcWaoaz0_feq"
			},
			"outputs": [],
			"source": [
				"NEW_DATASET = False\n",
				"MONKEY_DATA = True\n",
				"NO_PLOT_NEEDED = True\n",
				"raw_data_folder_path = \"all_monkey_data/raw_monkey_data/individual_monkey_data/monkey_Bruno/data_0330\"\n",
				"data_folder_name = \"all_monkey_data/raw_monkey_data/individual_monkey_data/monkey_Bruno/data_0330/processed_data\"\n",
				"\n",
				"\n",
				"\n",
				"#data_num = 19\n",
				"\n",
				"\n",
				"# # for agent\n",
				"# PLAYER = \"agent\"\n",
				"# NEW_DATASET = True\n",
				"# MONKEY_DATA = False\n",
				"# NO_PLOT_NEEDED = True\n",
				"# data_folder_name = \"RL/LSTM_July_29\"\n",
				"# data_num = 721\n",
				"# trial_total_num = 2"
			]
		},
		{
			"attachments": {},
			"cell_type": "markdown",
			"metadata": {
				"id": "f3cSpitZaKhw"
			},
			"source": [
				"## Which players to use?"
			]
		},
		{
			"cell_type": "code",
			"execution_count": null,
			"metadata": {
				"executionInfo": {
					"elapsed": 44,
					"status": "aborted",
					"timestamp": 1684812485280,
					"user": {
						"displayName": "Cici Du",
						"userId": "17701548280142155870"
					},
					"user_tz": -480
				},
				"id": "tF1J3JfIaMvr"
			},
			"outputs": [],
			"source": [
				"use_LSTM = False\n",
				"use_SB3 = False\n",
				"use_monkey = True"
			]
		},
		{
			"attachments": {},
			"cell_type": "markdown",
			"metadata": {
				"id": "tQNzmLJhZj_e"
			},
			"source": [
				"## SB3 agent data"
			]
		},
		{
			"cell_type": "code",
			"execution_count": null,
			"metadata": {
				"executionInfo": {
					"elapsed": 44,
					"status": "aborted",
					"timestamp": 1684812485280,
					"user": {
						"displayName": "Cici Du",
						"userId": "17701548280142155870"
					},
					"user_tz": -480
				},
				"id": "N7rH8e33_vkz"
			},
			"outputs": [],
			"source": [
				"model_folder_name = \"RL/SB3_stored_models/all_agents/Aug_10_3\"\n",
				"retrieve_dir = \"RL/SB3_stored_models/all_agents/Aug_10_3\""
			]
		},
		{
			"cell_type": "code",
			"execution_count": null,
			"metadata": {
				"executionInfo": {
					"elapsed": 45,
					"status": "aborted",
					"timestamp": 1684812485281,
					"user": {
						"displayName": "Cici Du",
						"userId": "17701548280142155870"
					},
					"user_tz": -480
				},
				"id": "i17gp6ZifXZ6"
			},
			"outputs": [],
			"source": [
				"!pip install wheel==0.38.4\n",
				"!pip3 install setuptools==65.5.0\n",
				"!pip install stable_baselines3\n",
				"from stable_baselines3 import SAC\n",
				"\n",
				"env_kwargs = {\"action_noise_std\": 0.2, \n",
				"              \"ffxy_noise_std\": 4, \n",
				"              \"num_obs_ff\": 2,\n",
				"              \"full_memory\": 3}\n",
				"\n",
				"if use_SB3:\n",
				"\n",
				"    PLAYER = \"agent\"\n",
				"\n",
				"    model_folder_name = \"RL/SB3_stored_models/all_agents/A0.2_O4_ff2_memory3/\"\n",
				"    data_folder_name = model_folder_name\n",
				"    os.makedirs(model_folder_name, exist_ok=True)\n",
				"\n",
				"\n",
				"    env = env.CollectInformation(**env_kwargs)\n",
				"    env.reset()\n",
				"\n",
				"    # For direct training\n",
				"    sac_model = SAC(\"MlpPolicy\", \n",
				"                env,\n",
				"                gamma=0.995,\n",
				"                learning_rate=0.0015,\n",
				"                batch_size=1024,\n",
				"                target_update_interval=50,\n",
				"                buffer_size=1000000,\n",
				"                learning_starts=10000,\n",
				"                train_freq=10,\n",
				"                ent_coef='auto',\n",
				"                policy_kwargs=dict(activation_fn=nn.Tanh, net_arch=[128, 128])\n",
				"                    )\n",
				"\n",
				"\n",
				"    path = os.path.join(model_folder_name, 'best_model.zip')\n",
				"    sac_model = sac_model.load(path, env=env)\n",
				"    \n",
				"    monkey_information, ff_flash_sorted, ff_caught_T_sorted, ff_believed_position_sorted, ff_real_position_sorted, \\\n",
				"        ff_life_sorted, ff_flash_end_sorted, caught_ff_num, total_ff_num, obs_ff_indices_in_ff_dataframe, sorted_indices_all, ff_in_obs_df \\\n",
				"        =collect_agent_data_utils.collect_agent_data_func(env, sac_model, n_steps = 15000)\n",
				"\n",
				"    ff_dataframe_args = (monkey_information, ff_caught_T_sorted, ff_flash_sorted,  ff_real_position_sorted, ff_life_sorted)\n",
				"    ff_dataframe_kargs = {\"max_distance\": 400, \"data_folder_name\": data_folder_name, \"num_missed_index\": 0}\n",
				"    ff_dataframe = make_ff_dataframe.make_ff_dataframe_func(*ff_dataframe_args, **ff_dataframe_kargs, player = \"agent\", \n",
				"                                     obs_ff_indices_in_ff_dataframe = obs_ff_indices_in_ff_dataframe, ff_in_obs_df = ff_in_obs_df)\n",
				"    min_point_index, max_point_index = np.min(np.array(ff_dataframe['point_index'])), np.max(np.array(ff_dataframe['point_index']))\n",
				"\n",
				"    filepath = data_folder_name + '/patterns_and_features/all_trial_features.csv'\n",
				"    if (PLAYER == \"monkey\") & (exists(filepath)):\n",
				"        all_trial_features = pd.read_csv(filepath)\n",
				"    else:\n",
				"        all_trial_features = organize_patterns_and_features.make_all_trial_features(ff_dataframe, monkey_information, ff_caught_T_sorted, cluster_around_target_indices, ff_real_position_sorted, ff_believed_position_sorted,  data_folder_name = data_folder_name)\n",
				"\n"
			]
		},
		{
			"attachments": {},
			"cell_type": "markdown",
			"metadata": {
				"id": "XC2iRPacpKsV"
			},
			"source": [
				"## LSTM agent data"
			]
		},
		{
			"cell_type": "code",
			"execution_count": null,
			"metadata": {
				"executionInfo": {
					"elapsed": 45,
					"status": "aborted",
					"timestamp": 1684812485281,
					"user": {
						"displayName": "Cici Du",
						"userId": "17701548280142155870"
					},
					"user_tz": -480
				},
				"id": "bN4bep6epSFc"
			},
			"outputs": [],
			"source": [
				"if use_LSTM:\n",
				"      \n",
				"    from LSTM_agent_params import *\n",
				"    PLAYER = \"agent\"\n",
				"\n",
				"    model_folder_name = \"RL_models/LSTM_stored_models/all_agents/LSTM_Aug_1_24\"\n",
				"    data_folder_name = model_folder_name\n",
				"    os.makedirs(model_folder_name, exist_ok=True)\n",
				"\n",
				"\n",
				"    replay_buffer_size=100\n",
				"    replay_buffer = LSTM_functions.ReplayBufferLSTM2(replay_buffer_size)\n",
				"    sac_model=LSTM_functions.SAC_Trainer(replay_buffer, state_space, action_space, hidden_dim=hidden_dim, action_range=action_range,\\\n",
				"                          gamma = gamma, soft_q_lr = soft_q_lr, policy_lr = policy_lr, alpha_lr = alpha_lr, \\\n",
				"                          batch_size = batch_size, update_itr = update_itr, reward_scale = reward_scale, \\\n",
				"                          target_entropy = target_entropy, soft_tau = soft_tau, train_freq = train_freq, device = device)\n",
				"\n",
				"\n",
				"    # Load agent\n",
				"    sac_model.load_model(model_folder_name)\n",
				"\n",
				"    env = env.CollectInformationLSTM()\n",
				"    env.flash_on_interval = 0.3\n",
				"    env.distance2center_cost = 0\n",
				"    sac_model.load_model(model_folder_name)\n",
				"\n",
				"\n",
				"\n",
				"    monkey_information, ff_flash_sorted, ff_caught_T_sorted, ff_believed_position_sorted, \\\n",
				"              ff_real_position_sorted, ff_life_sorted, ff_flash_end_sorted, caught_ff_num, total_ff_num, \\\n",
				"              obs_ff_indices_in_ff_dataframe, sorted_indices_all \\\n",
				"              = collect_agent_data_utils.collect_agent_data_func(env, sac_model, n_steps = 5000, LSTM = True, hidden_dim= hidden_dim, device = device, deterministic = False)\n",
				"\n",
				"    ff_dataframe_args = (monkey_information, ff_caught_T_sorted, ff_flash_sorted,  ff_real_position_sorted, ff_life_sorted)\n",
				"    ff_dataframe_kargs = {\"max_distance\": 400, \"data_folder_name\": data_folder_name, \"num_missed_index\": 0}\n",
				"    ff_dataframe = make_ff_dataframe.make_ff_dataframe_func(*ff_dataframe_args, **ff_dataframe_kargs, player = \"agent\",  \\\n",
				"                                      obs_ff_indices_in_ff_dataframe = obs_ff_indices_in_ff_dataframe, ff_in_obs_df = ff_in_obs_df)\n",
				"    min_point_index, max_point_index = np.min(np.array(ff_dataframe['point_index'])), np.max(np.array(ff_dataframe['point_index']))\n",
				"\n",
				"    filepath = data_folder_name + '/patterns_and_features/all_trial_features.csv'\n",
				"    if (PLAYER == \"monkey\") & (exists(filepath)):\n",
				"        all_trial_features = pd.read_csv(filepath)\n",
				"    else:\n",
				"        all_trial_features = organize_patterns_and_features.make_all_trial_features(ff_dataframe, monkey_information, ff_caught_T_sorted, cluster_around_target_indices, ff_real_position_sorted, ff_believed_position_sorted,  data_folder_name = data_folder_name)\n",
				"\n"
			]
		},
		{
			"attachments": {},
			"cell_type": "markdown",
			"metadata": {
				"id": "vpfLmmTI8Xd4"
			},
			"source": [
				"## Monkey data"
			]
		},
		{
			"cell_type": "code",
			"execution_count": null,
			"metadata": {
				"executionInfo": {
					"elapsed": 45,
					"status": "aborted",
					"timestamp": 1684812485281,
					"user": {
						"displayName": "Cici Du",
						"userId": "17701548280142155870"
					},
					"user_tz": -480
				},
				"id": "VMQkPcVb8Xd6"
			},
			"outputs": [],
			"source": [
				"if use_monkey:\n",
				"\n",
				"    PLAYER = \"monkey\"\n",
				"    raw_data_folder_path = \"all_monkey_data/raw_monkey_data/individual_monkey_data/monkey_Bruno/data_0330\"\n",
				"    data_item = monkey_data_classes.ProcessMonkeyData(raw_data_folder_path=raw_data_folder_path)\n",
				"    data_item.retrieve_or_make_monkey_data(exists_ok=True)\n",
				"    data_item.make_or_retrieve_ff_dataframe(num_missed_index=0, exists_ok=True)\n",
				"    monkey_information = data_item.monkey_information\n",
				"    ff_dataframe = data_item.ff_dataframe\n",
				"    min_point_index, max_point_index = np.min(np.array(ff_dataframe['point_index'])), np.max(np.array(ff_dataframe['point_index']))\n",
				"\n",
				"    caught_ff_num = len(ff_caught_T_sorted)\n",
				"    cluster_around_target_trials, cluster_around_target_indices, cluster_around_target_positions = pattern_by_trials.cluster_around_target_func(ff_dataframe, caught_ff_num, ff_caught_T_sorted, ff_real_position_sorted, max_time_apart = 1.25)\n",
				"\n",
				"\n",
				"    info_of_monkey = {\n",
				"            \"monkey_information\": monkey_information,\n",
				"            \"ff_dataframe\": ff_dataframe,\n",
				"            \"ff_caught_T_sorted\": ff_caught_T_sorted,\n",
				"            \"ff_real_position_sorted\": ff_real_position_sorted,\n",
				"            \"ff_believed_position_sorted\": ff_believed_position_sorted,\n",
				"            \"ff_life_sorted\": ff_life_sorted,\n",
				"            \"ff_flash_sorted\": ff_flash_sorted,\n",
				"            \"ff_flash_end_sorted\": ff_flash_end_sorted,\n",
				"            \"cluster_around_target_indices\": cluster_around_target_indices\n",
				"    }\n",
				"\n",
				"\n",
				"    filepath = data_folder_name + '/patterns_and_features/all_trial_features.csv'\n",
				"    if (PLAYER == \"monkey\") & (exists(filepath)):\n",
				"        all_trial_features = pd.read_csv(filepath)\n",
				"    else:\n",
				"        all_trial_features = organize_patterns_and_features.make_all_trial_features(ff_dataframe, monkey_information, ff_caught_T_sorted, cluster_around_target_indices, ff_real_position_sorted, ff_believed_position_sorted)"
			]
		},
		{
			"attachments": {},
			"cell_type": "markdown",
			"metadata": {
				"id": "PJPJmkCUaapn"
			},
			"source": [
				"## Find patterns"
			]
		},
		{
			"cell_type": "code",
			"execution_count": 12,
			"metadata": {
				"executionInfo": {
					"elapsed": 45,
					"status": "aborted",
					"timestamp": 1684812485281,
					"user": {
						"displayName": "Cici Du",
						"userId": "17701548280142155870"
					},
					"user_tz": -480
				},
				"id": "iRD79ZHyaapn"
			},
			"outputs": [],
			"source": [
				"n_ff_in_a_row = pattern_by_trials.n_ff_in_a_row_func(ff_believed_position_sorted, distance_between_ff = 50)\n",
				"two_in_a_row = np.where(n_ff_in_a_row==2)[0]\n",
				"two_in_a_row_simul, two_in_a_row_non_simul = pattern_by_trials.whether_current_and_last_targets_are_captured_simultaneously(two_in_a_row, ff_caught_T_sorted)\n",
				"\n",
				"on_before_last_one_trials = pattern_by_trials.on_before_last_one_func(ff_flash_end_sorted, ff_caught_T_sorted, caught_ff_num)\n",
				"on_before_last_one_simul, on_before_last_one_non_simul = pattern_by_trials.whether_current_and_last_targets_are_captured_simultaneously(on_before_last_one_trials, ff_caught_T_sorted)\n",
				"\n",
				"visible_before_last_one_trials = pattern_by_trials.visible_before_last_one_func(ff_dataframe)\n",
				"\n",
				"disappear_latest_trials = pattern_by_trials.disappear_latest_func(ff_dataframe)\n",
				"\n",
				"# cluster_exist_trials, cluster_dataframe_point, cluster_dataframe_trial = cluster_analysis.clusters_of_ffs_func(point_vs_cluster, monkey_information, ff_caught_T_sorted)\n",
				"\n",
				"# waste_cluster_trials = np.intersect1d(cluster_exist_trials+1, np.where(n_ff_in_a_row == 1)[0])\n",
				"\n",
				"cluster_around_target_trials, cluster_around_target_indices, cluster_around_target_positions = pattern_by_trials.cluster_around_target_func(ff_dataframe, caught_ff_num, ff_caught_T_sorted, ff_real_position_sorted, max_time_apart = 1.25)\n",
				"\n",
				"waste_cluster_around_target_trials = np.intersect1d(cluster_around_target_trials+1, np.where(n_ff_in_a_row == 1)[0])\n",
				"\n",
				"ignore_sudden_flash_trials, ignore_sudden_flash_indices, ignore_sudden_flash_indices_for_anim, ignored_ff_target_pairs = pattern_by_trials.ignore_sudden_flash_func(ff_dataframe, ff_real_position_sorted, max_point_index, max_ff_distance_from_monkey = 50)\n",
				"ignore_sudden_flash_time = monkey_information['monkey_t'][ignore_sudden_flash_indices]\n",
				"\n",
				"try_a_few_times_trials, TAFT_indices_df, TAFT_trials_df, try_a_few_times_indices_for_anim = find_GUAT_or_TAFT_trials.try_a_few_times_func(monkey_information, ff_caught_T_sorted, ff_real_position_sorted, max_point_index=max_point_index)\n",
				"\n",
				"give_up_after_trying_trials, GUAT_indices_df, GUAT_trials_df, GUAT_point_indices_for_anim = find_GUAT_or_TAFT_trials.give_up_after_trying_func\\\n",
				"    (monkey_information, ff_caught_T_sorted, ff_real_position_sorted, max_point_index=max_point_index)\n"
			]
		},
		{
			"cell_type": "code",
			"execution_count": null,
			"metadata": {},
			"outputs": [],
			"source": []
		},
		{
			"attachments": {},
			"cell_type": "markdown",
			"metadata": {
				"id": "4GYdpLo5Q4rw"
			},
			"source": [
				"# Classic plots\n",
				"\n",
				"In VScode, for animation to work successfully, HTML(data_instance.anim.to_html5_video())\n",
				"has to be the last line of the code, and it can’t be within a for loop or if/else statement\n"
			]
		},
		{
			"attachments": {},
			"cell_type": "markdown",
			"metadata": {
				"id": "t_z7U_MZQ4rx"
			},
			"source": [
				"## Visible before last one"
			]
		},
		{
			"cell_type": "code",
			"execution_count": 14,
			"metadata": {},
			"outputs": [],
			"source": [
				"trial_total_num = 2"
			]
		},
		{
			"cell_type": "code",
			"execution_count": null,
			"metadata": {
				"executionInfo": {
					"elapsed": 44,
					"status": "aborted",
					"timestamp": 1684812485281,
					"user": {
						"displayName": "Cici Du",
						"userId": "17701548280142155870"
					},
					"user_tz": -480
				},
				"id": "g1SZEab7Q4rx"
			},
			"outputs": [],
			"source": [
				"\n",
				"num_trials = 1\n",
				"category = visible_before_last_one_trials\n",
				"category = category[category > num_trials]\n",
				"category_name = 'visible_before_last_one'\n",
				"\n",
				"\n",
				"\n",
				"\n",
				"if len(category) > 0:\n",
				"    for currentTrial in category[:trial_total_num]:\n",
				"        with basic_func.initiate_plot(7, 7, 100):\n",
				"            duration = [ff_caught_T_sorted[currentTrial-num_trials], ff_caught_T_sorted[currentTrial]]\n",
				"\n",
				"            plot_trials.PlotTrials(duration, \n",
				"                        *PlotTrials_args,\n",
				"                        **classic_plot_kwargs,\n",
				"                        currentTrial = currentTrial,\n",
				"                        num_trials = num_trials,                                  \n",
				"                        show_connect_path_ff_except_targets = True,\n",
				"                        show_path_when_target_visible = True,\n",
				"                        )\n",
				"\n",
				"            plt.show()  \n",
				"            \n",
				"\n",
				"\n",
				"temp_animation_plot_kwargs = animation_plot_kwargs.copy()\n",
				"#temp_animation_plot_kwargs['show_connect_path_ff_except_targets'] = True\n",
				"temp_animation_plot_kwargs['show_path_when_target_visible'] = True\n",
				"data_item.make_animation(currentTrial=currentTrial, num_trials=num_trials, animation_plot_kwargs=temp_animation_plot_kwargs, save_video=False, video_dir=None, file_name=None, dt=0.016)\n",
				"HTML(data_item.anim.to_html5_video())\n",
				"\n",
				"\n"
			]
		},
		{
			"attachments": {},
			"cell_type": "markdown",
			"metadata": {
				"id": "WKTpRS_oQ4rx"
			},
			"source": [
				"## Disappear latest"
			]
		},
		{
			"cell_type": "code",
			"execution_count": null,
			"metadata": {
				"executionInfo": {
					"elapsed": 44,
					"status": "aborted",
					"timestamp": 1684812485281,
					"user": {
						"displayName": "Cici Du",
						"userId": "17701548280142155870"
					},
					"user_tz": -480
				},
				"id": "O-raB3Q1Q4rx"
			},
			"outputs": [],
			"source": [
				"num_trials = 1\n",
				"category = disappear_latest_trials\n",
				"category = category[category > num_trials]\n",
				"category_name = 'disappear_latest'\n",
				"\n",
				"\n",
				"if len(category) > 0:\n",
				"  with basic_func.initiate_plot(7, 7, 100):\n",
				"    for currentTrial in category[:trial_total_num]:\n",
				"        duration = [ff_caught_T_sorted[currentTrial-num_trials], ff_caught_T_sorted[currentTrial]]\n",
				"\n",
				"        plot_trials.PlotTrials(duration, \n",
				"                   *PlotTrials_args,\n",
				"                   **classic_plot_kwargs,\n",
				"                   currentTrial = currentTrial,\n",
				"                   num_trials = num_trials,\n",
				"                   show_connect_path_ff = True,\n",
				"        )\n",
				"\n",
				"        # temp_animation_plot_kwargs = animation_plot_kwargs.copy()\n",
				"        # data_item.make_animation(currentTrial=currentTrial, num_trials=num_trials, animation_plot_kwargs=temp_animation_plot_kwargs, save_video=False, video_dir=None, file_name=None)\n",
				"        \n",
				"\n",
				"        plt.show()  \n",
				"        "
			]
		},
		{
			"attachments": {},
			"cell_type": "markdown",
			"metadata": {
				"id": "i8_SvEy8Q4rw"
			},
			"source": [
				"## 2 in a row"
			]
		},
		{
			"cell_type": "code",
			"execution_count": null,
			"metadata": {
				"executionInfo": {
					"elapsed": 44,
					"status": "aborted",
					"timestamp": 1684812485281,
					"user": {
						"displayName": "Cici Du",
						"userId": "17701548280142155870"
					},
					"user_tz": -480
				},
				"id": "3eak30-AQ4rw",
				"scrolled": true
			},
			"outputs": [],
			"source": [
				"num_trials = 2 \n",
				"category = two_in_a_row\n",
				"category = category[category > num_trials]\n",
				"#category = two_in_a_row_simuly\n",
				"#category = two_in_a_row_non_simul\n",
				"#category = used_cluster  --> two_in_a_row_non_simul ^ on_before_last_one\n",
				"category_name = 'two_in_a_row'\n",
				"\n",
				"\n",
				"\n",
				"if len(category) > 0:\n",
				"  with basic_func.initiate_plot(7, 7, 100):\n",
				"    for currentTrial in category[:trial_total_num]:\n",
				"    #for currentTrial in [17, 45]:\n",
				"        duration = [ff_caught_T_sorted[currentTrial-num_trials], ff_caught_T_sorted[currentTrial]]\n",
				"        plot_trials.PlotTrials(duration, \n",
				"                   *PlotTrials_args,\n",
				"                   **classic_plot_kwargs,\n",
				"                   currentTrial = currentTrial,\n",
				"                   num_trials = num_trials,                   \n",
				"                   show_connect_path_ff_except_targets = True,\n",
				"                   show_path_when_target_visible = True,\n",
				"                   )\n",
				"        \n",
				"        temp_animation_plot_kwargs = animation_plot_kwargs.copy()   \n",
				"        #temp_animation_plot_kwargs['show_connect_path_ff_except_targets'] = True\n",
				"        temp_animation_plot_kwargs['show_path_when_target_visible'] = True     \n",
				"        data_item.make_animation(currentTrial=currentTrial, num_trials=num_trials, animation_plot_kwargs=temp_animation_plot_kwargs, save_video=False, video_dir=None, file_name=None)\n",
				"        #HTML(.to_html5_video())\n",
				"        plt.show()  \n",
				"        \n",
				"        data_item.anim"
			]
		},
		{
			"attachments": {},
			"cell_type": "markdown",
			"metadata": {
				"id": "xB7Acvz5Q4rz"
			},
			"source": [
				"## Waste cluster around last target"
			]
		},
		{
			"cell_type": "code",
			"execution_count": null,
			"metadata": {
				"executionInfo": {
					"elapsed": 45,
					"status": "aborted",
					"timestamp": 1684812485282,
					"user": {
						"displayName": "Cici Du",
						"userId": "17701548280142155870"
					},
					"user_tz": -480
				},
				"id": "UGSK0EG-Q4rz"
			},
			"outputs": [],
			"source": [
				"num_trials = 2\n",
				"category = waste_cluster_around_target_trials\n",
				"category = category[category > num_trials]\n",
				"category_name = 'waste_cluster_around_target'\n",
				"\n",
				"\n",
				"\n",
				"if len(category) > 0:\n",
				"  with basic_func.initiate_plot(7, 7, 100):\n",
				"    for currentTrial in category[:trial_total_num]:\n",
				"        duration = [ff_caught_T_sorted[currentTrial-num_trials], ff_caught_T_sorted[currentTrial]]\n",
				"        \n",
				"        plot_trials.PlotTrials(duration, \n",
				"                   *PlotTrials_args,\n",
				"                   **classic_plot_kwargs,\n",
				"                   currentTrial = currentTrial,\n",
				"                   num_trials = num_trials,\n",
				"                   show_connect_path_ff = True,\n",
				"                   trial_to_show_cluster_around_target = \"previous\",\n",
				"                   )\n",
				"\n",
				"        temp_animation_plot_kwargs = animation_plot_kwargs.copy()\n",
				"        temp_animation_plot_kwargs['trial_to_show_cluster_around_target'] = \"previous\"\n",
				"        data_item.make_animation(currentTrial=currentTrial, num_trials=num_trials, animation_plot_kwargs=temp_animation_plot_kwargs, save_video=False, video_dir=None, file_name=None)\n",
				"        \n",
				"\n",
				"        plt.show()  \n",
				"        "
			]
		},
		{
			"attachments": {},
			"cell_type": "markdown",
			"metadata": {
				"id": "EG2-3zcpQ4rz"
			},
			"source": [
				"## Try a few times"
			]
		},
		{
			"cell_type": "code",
			"execution_count": null,
			"metadata": {
				"executionInfo": {
					"elapsed": 45,
					"status": "aborted",
					"timestamp": 1684812485282,
					"user": {
						"displayName": "Cici Du",
						"userId": "17701548280142155870"
					},
					"user_tz": -480
				},
				"id": "TVmQR07yQ4rz"
			},
			"outputs": [],
			"source": [
				"category = try_a_few_times_trials\n",
				"category = category[category > num_trials]\n",
				"category_name = 'try_a_few_times'\n",
				"num_trials = 2\n",
				"\n",
				"\n",
				"if len(category) > 0:\n",
				"  with basic_func.initiate_plot(7, 7, 100):\n",
				"    for currentTrial in category[:trial_total_num+5]:\n",
				"        duration = [ff_caught_T_sorted[currentTrial-num_trials], ff_caught_T_sorted[currentTrial]]\n",
				"        plot_trials.PlotTrials(duration, \n",
				"                   *PlotTrials_args,\n",
				"                   **classic_plot_kwargs,\n",
				"                   currentTrial = currentTrial,\n",
				"                   num_trials = num_trials,\n",
				"                   show_connect_path_ff = True,                \n",
				"                   )\n",
				"\n",
				"        plt.show()  \n",
				"        \n",
				"        \n",
				"        temp_animation_plot_kwargs = animation_plot_kwargs.copy()\n",
				"        data_item.make_animation(currentTrial=currentTrial, num_trials=num_trials, animation_plot_kwargs=temp_animation_plot_kwargs, save_video=False, video_dir=None, file_name=None)\n",
				"        \n"
			]
		},
		{
			"attachments": {},
			"cell_type": "markdown",
			"metadata": {
				"id": "FztXyZjiQ4rz"
			},
			"source": [
				"## Give up after trying"
			]
		},
		{
			"cell_type": "code",
			"execution_count": null,
			"metadata": {
				"executionInfo": {
					"elapsed": 45,
					"status": "aborted",
					"timestamp": 1684812485282,
					"user": {
						"displayName": "Cici Du",
						"userId": "17701548280142155870"
					},
					"user_tz": -480
				},
				"id": "euPibkB_Q4rz"
			},
			"outputs": [],
			"source": [
				"category = give_up_after_trying_trials\n",
				"category = category[category > num_trials]\n",
				"category_name = 'give_up_after_trying'\n",
				"\n",
				"\n",
				"num_trials = 2\n",
				"\n",
				"\n",
				"if len(category) > 0:\n",
				"  with basic_func.initiate_plot(7, 7, 100):\n",
				"    for currentTrial in category[:trial_total_num]:\n",
				"        duration = [ff_caught_T_sorted[currentTrial-num_trials], ff_caught_T_sorted[currentTrial]]\n",
				"        plot_trials.PlotTrials(duration, \n",
				"                   *PlotTrials_args,\n",
				"                   **classic_plot_kwargs,\n",
				"                   currentTrial = currentTrial,\n",
				"                   num_trials = num_trials,\n",
				"                   show_connect_path_ff = True,\n",
				"                   )\n",
				"        \n",
				"\n",
				"        plt.show()  \n",
				"        \n",
				"\n",
				"        temp_animation_plot_kwargs = animation_plot_kwargs.copy()\n",
				"        data_item.make_animation(currentTrial=currentTrial, num_trials=num_trials, animation_plot_kwargs=temp_animation_plot_kwargs, save_video=False, video_dir=None, file_name=None)\n",
				"        "
			]
		},
		{
			"attachments": {},
			"cell_type": "markdown",
			"metadata": {
				"id": "QZ3YrvXaQ4rz"
			},
			"source": [
				"## Ignore sudden flash"
			]
		},
		{
			"cell_type": "code",
			"execution_count": null,
			"metadata": {
				"executionInfo": {
					"elapsed": 44,
					"status": "aborted",
					"timestamp": 1684812485282,
					"user": {
						"displayName": "Cici Du",
						"userId": "17701548280142155870"
					},
					"user_tz": -480
				},
				"id": "LLp7zNYJQ4rz"
			},
			"outputs": [],
			"source": [
				"category = ignore_sudden_flash_trials\n",
				"category = category[category > num_trials]\n",
				"category_name = 'ignore_sudden_flash'\n",
				"\n",
				"num_trials = 1\n",
				"\n",
				"ignored_ff_target_pairs_index_only = ignored_ff_target_pairs[['ff_index']]\n",
				"\n",
				"if len(category) > 0:\n",
				"  with basic_func.initiate_plot(7, 7, 100):\n",
				"    for currentTrial in category[:trial_total_num]:\n",
				"        duration = [ff_caught_T_sorted[currentTrial-num_trials], ff_caught_T_sorted[currentTrial]]\n",
				"\n",
				"        ignored_ff_indices = np.array(ignored_ff_target_pairs_index_only.loc[currentTrial]).reshape(-1).tolist()\n",
				"\n",
				"        plot_trials.PlotTrials(duration, \n",
				"                   *PlotTrials_args,\n",
				"                   **classic_plot_kwargs,\n",
				"                   currentTrial = currentTrial,\n",
				"                   num_trials = num_trials,                   \n",
				"                   show_connect_path_ff = True,\n",
				"                   indices_of_ff_to_mark = ignored_ff_indices,             \n",
				"                   )\n",
				"        \n",
				"\n",
				"        plt.show()  \n",
				"        \n",
				"\n",
				"\n",
				"        temp_animation_plot_kwargs = animation_plot_kwargs.copy()\n",
				"        temp_animation_plot_kwargs['indices_of_ff_to_mark'] = ignored_ff_indices\n",
				"        data_item.make_animation(currentTrial=currentTrial, num_trials=num_trials, animation_plot_kwargs=temp_animation_plot_kwargs, save_video=False, video_dir=None, file_name=None)\n",
				"        "
			]
		},
		{
			"attachments": {},
			"cell_type": "markdown",
			"metadata": {
				"id": "UqDJzms0vBY-"
			},
			"source": [
				"### Relative locations of all the ignored ff"
			]
		},
		{
			"cell_type": "code",
			"execution_count": null,
			"metadata": {
				"executionInfo": {
					"elapsed": 44,
					"status": "aborted",
					"timestamp": 1684812485282,
					"user": {
						"displayName": "Cici Du",
						"userId": "17701548280142155870"
					},
					"user_tz": -480
				},
				"id": "McA7vhRkWTku"
			},
			"outputs": [],
			"source": [
				"import math\n",
				"rmax = 55\n",
				"print(\"Using ff_angle\")\n",
				"\n",
				"fig = plt.figure(figsize=(7, 7))\n",
				"ax = fig.add_axes([0.1, 0.1, 0.8, 0.8], polar=True)\n",
				"ax.set_theta_zero_location(\"N\")\n",
				"ax.set_rlabel_position(292.5)\n",
				"ax.set_ylim(0, rmax)\n",
				"# Draw the boundary of the monkey's vision (use width = np.pi*4/9 for 40 degrees of vision)\n",
				"ax.bar(0, rmax, width=np.pi/2, bottom=0.0, color=\"grey\", alpha=0.1)\n",
				"plt.setp(ax, rorigin=0, rmin=0, rmax=rmax)   # rmax can be changed\n",
				"\n",
				"# Change the labels for the angles \n",
				"labels = list(ax.get_xticks())\n",
				"labels[5], labels[6], labels[7] = -labels[3], -labels[2], -labels[1]\n",
				"labels_degrees = [str(int(math.degrees(label))) + chr(176) for label in labels]\n",
				"ax.set_xticks(ax.get_xticks().tolist())\n",
				"ax.set_xticklabels(labels_degrees)\n",
				"\n",
				"# Plot the locations of the FFs\n",
				"ax.scatter(ignored_ff_target_pairs['ff_angle'], ignored_ff_target_pairs['ff_distance'], marker='.', s=20, alpha=1)\n",
				"plt.show()"
			]
		},
		{
			"cell_type": "code",
			"execution_count": null,
			"metadata": {
				"executionInfo": {
					"elapsed": 44,
					"status": "aborted",
					"timestamp": 1684812485282,
					"user": {
						"displayName": "Cici Du",
						"userId": "17701548280142155870"
					},
					"user_tz": -480
				},
				"id": "HPUTDk2LXHXj"
			},
			"outputs": [],
			"source": [
				"rmax = 55\n",
				"print(\"Using ff_angle_boundary\")\n",
				"\n",
				"fig = plt.figure(figsize=(7, 7))\n",
				"ax = fig.add_axes([0.1, 0.1, 0.8, 0.8], polar=True)\n",
				"ax.set_theta_zero_location(\"N\")\n",
				"ax.set_rlabel_position(292.5)\n",
				"ax.set_ylim(0, rmax)\n",
				"# Draw the boundary of the monkey's vision (use width = np.pi*4/9 for 40 degrees of vision)\n",
				"ax.bar(0, rmax, width=np.pi/2, bottom=0.0, color=\"grey\", alpha=0.1)\n",
				"plt.setp(ax, rorigin=0, rmin=0, rmax=rmax)   # rmax can be changed\n",
				"\n",
				"# Change the labels for the angles \n",
				"labels = list(ax.get_xticks())\n",
				"labels[5], labels[6], labels[7] = -labels[3], -labels[2], -labels[1]\n",
				"labels_degrees = [str(int(math.degrees(label))) + chr(176) for label in labels]\n",
				"ax.set_xticks(ax.get_xticks().tolist())\n",
				"ax.set_xticklabels(labels_degrees)\n",
				"\n",
				"# Plot the locations of the FFs\n",
				"ax.scatter(ignored_ff_target_pairs['ff_angle_boundary'], ignored_ff_target_pairs['ff_distance'], marker='.', s=20, alpha=1)\n",
				"\n",
				"plt.show()"
			]
		},
		{
			"attachments": {},
			"cell_type": "markdown",
			"metadata": {
				"id": "U2fRfR9_8zI4"
			},
			"source": [
				"# Subplots"
			]
		},
		{
			"attachments": {},
			"cell_type": "markdown",
			"metadata": {
				"id": "gvTgRN7-85fa"
			},
			"source": [
				"## Visible before last one"
			]
		},
		{
			"cell_type": "code",
			"execution_count": null,
			"metadata": {
				"executionInfo": {
					"elapsed": 44,
					"status": "aborted",
					"timestamp": 1684812485282,
					"user": {
						"displayName": "Cici Du",
						"userId": "17701548280142155870"
					},
					"user_tz": -480
				},
				"id": "NVLunpSo85fb"
			},
			"outputs": [],
			"source": [
				"trial_total_num = 10\n",
				"PlotTrials_args = (monkey_information, ff_dataframe, ff_life_sorted, ff_real_position_sorted, ff_believed_position_sorted, cluster_around_target_indices, ff_caught_T_sorted)\n",
				"\n",
				"category = visible_before_last_one_trials\n",
				"subplots_kwargs = classic_plot_kwargs.copy()\n",
				"subplots_kwargs['show_eye_positions'] = False\n",
				"subplots_kwargs['show_eye_positions_on_the_right'] = False\n",
				"\n",
				"num_trials = 2\n",
				"k = 1\n",
				"returned_info['whether_plotted'] = True\n",
				"if len(category) > 0:\n",
				"  with basic_func.initiate_plot(10, 10, 100):\n",
				"      fig = plt.figure()\n",
				"      for currentTrial in category[:trial_total_num]:\n",
				"        if returned_info['whether_plotted'] is True:\n",
				"            axes = fig.add_subplot(2,2,k)\n",
				"\n",
				"        duration = [ff_caught_T_sorted[currentTrial-num_trials], ff_caught_T_sorted[currentTrial]]\n",
				"        \n",
				"        returned_info = plot_trials.PlotTrials(duration, \n",
				"                   *PlotTrials_args,\n",
				"                   **subplots_kwargs,\n",
				"                   currentTrial = currentTrial,\n",
				"                   num_trials = num_trials,\n",
				"                   fig = fig,\n",
				"                   axes = axes,\n",
				"                   subplots = True,\n",
				"                   show_connect_path_ff_except_targets = True,\n",
				"                   show_path_when_target_visible = True,\n",
				"                   )\n",
				"        if returned_info['returned_info['whether_plotted']'] is True:\n",
				"            k += 1\n",
				"        if k == 5:\n",
				"            plt.show()  \n",
				"            \n",
				"            break\n",
				"        \n",
				"\n",
				"        "
			]
		},
		{
			"attachments": {},
			"cell_type": "markdown",
			"metadata": {
				"id": "H4vXPEL8Vu3D"
			},
			"source": [
				"# Combined plots"
			]
		},
		{
			"attachments": {},
			"cell_type": "markdown",
			"metadata": {
				"id": "J49kpc5CvYaz"
			},
			"source": [
				"## Visible before last one"
			]
		},
		{
			"cell_type": "code",
			"execution_count": null,
			"metadata": {
				"executionInfo": {
					"elapsed": 45,
					"status": "aborted",
					"timestamp": 1684812485283,
					"user": {
						"displayName": "Cici Du",
						"userId": "17701548280142155870"
					},
					"user_tz": -480
				},
				"id": "BEKOM_oJvYaz"
			},
			"outputs": [],
			"source": [
				"category = visible_before_last_one_trials\n",
				"num_trials = 2\n",
				"xmin, xmax, ymin, ymax = 0, 0, 0, 0             \n",
				"if len(category) > 0:\n",
				"  with basic_func.initiate_plot(7, 7, 100):\n",
				"      fig = plt.figure()\n",
				"      axes = fig.add_subplot(111)      \n",
				"      for currentTrial in category[:50]:\n",
				"          duration = [ff_caught_T_sorted[currentTrial-num_trials], ff_caught_T_sorted[currentTrial]]\n",
				"          returned_info = plot_trials.PlotTrials(duration, \n",
				"                                                          *PlotTrials_args,                                                          \n",
				"                                                          **combined_plot_kwargs,\n",
				"                                                          currentTrial = currentTrial,\n",
				"                                                          num_trials = num_trials,\n",
				"                                                          fig = fig,\n",
				"                                                          axes = axes,\n",
				"                                                          show_path_when_target_visible = True,\n",
				"                                                          )\n",
				"          axes = returned_info['axes']\n",
				"          if returned_info['returned_info['whether_plotted']'] is True:\n",
				"              x0, y0 = cum_mxy_rotated[0][0], cum_mxy_rotated[1][0]\n",
				"              ff_believed_position_rotated = np.matmul(R, np.stack((ff_believed_position_sorted[currentTrial-num_trials+1:currentTrial+1].T[0], ff_believed_position_sorted[currentTrial-num_trials+1:currentTrial+1].T[1])))\n",
				"              axes.scatter(ff_believed_position_rotated[0]-x0, ff_believed_position_rotated[1]-y0, s=40, alpha=0.85, zorder=5)\n",
				"              xmin, ymin, xmax, ymax = plot_behaviors_utils.update_plot_limits(xmin, ymin, xmax, ymax, cum_mxy_rotated)\n",
				"\n",
				"      axes.set_xlim((xmin-75, xmax+75))\n",
				"      axes.set_ylim((ymin-25, ymax+75))\n",
				"      axes.xaxis.set_major_locator(ticker.NullLocator())\n",
				"      plt.show()  \n",
				"      "
			]
		},
		{
			"attachments": {},
			"cell_type": "markdown",
			"metadata": {
				"id": "YGcNu6j6vYaz"
			},
			"source": [
				"## Disappear latest"
			]
		},
		{
			"cell_type": "code",
			"execution_count": null,
			"metadata": {
				"executionInfo": {
					"elapsed": 45,
					"status": "aborted",
					"timestamp": 1684812485283,
					"user": {
						"displayName": "Cici Du",
						"userId": "17701548280142155870"
					},
					"user_tz": -480
				},
				"id": "krQSTi32xpBQ"
			},
			"outputs": [],
			"source": [
				"category = disappear_latest_trials\n",
				"num_trials = 1\n",
				"xmin, xmax, ymin, ymax = 0, 0, 0, 0\n",
				"               \n",
				"if len(category) > 0:\n",
				"  with basic_func.initiate_plot(10, 10, 100):\n",
				"      fig = plt.figure()\n",
				"      axes = fig.add_subplot(111)\n",
				"      print(\"axes\", axes)\n",
				"      for currentTrial in category[:50]:\n",
				"          duration = [ff_caught_T_sorted[currentTrial-num_trials], ff_caught_T_sorted[currentTrial]]\n",
				"          returned_info = plot_trials.PlotTrials(duration, \n",
				"                                                          *PlotTrials_args,   \n",
				"                                                          **combined_plot_kwargs,\n",
				"                                                          currentTrial = currentTrial,\n",
				"                                                          num_trials = num_trials,\n",
				"                                                          fig = fig,\n",
				"                                                          axes = axes,\n",
				"                                                          show_path_when_target_visible = True,\n",
				"                                                          show_believed_target_positions = True,\n",
				"                                                          )\n",
				"          axes = returned_info['axes']\n",
				"          if returned_info['whether_plotted'] is True:\n",
				"              xmin, ymin, xmax, ymax = plot_behaviors_utils.update_plot_limits(xmin, ymin, xmax, ymax, cum_mxy_rotated)\n",
				"\n",
				"      axes.set_xlim((xmin-75, xmax+75))\n",
				"      axes.set_ylim((ymin-25, ymax+75))\n",
				"      axes.xaxis.set_major_locator(ticker.NullLocator())\n",
				"      plt.show()  \n",
				"      \n"
			]
		},
		{
			"attachments": {},
			"cell_type": "markdown",
			"metadata": {
				"id": "SiOK87t1vYay"
			},
			"source": [
				"## 2 in a row"
			]
		},
		{
			"cell_type": "code",
			"execution_count": null,
			"metadata": {
				"executionInfo": {
					"elapsed": 44,
					"status": "aborted",
					"timestamp": 1684812485283,
					"user": {
						"displayName": "Cici Du",
						"userId": "17701548280142155870"
					},
					"user_tz": -480
				},
				"id": "qblE0ZZIvYay",
				"scrolled": true
			},
			"outputs": [],
			"source": [
				"category = two_in_a_row\n",
				"num_trials = 2\n",
				"xmin, xmax, ymin, ymax = 0, 0, 0, 0\n",
				"               \n",
				"if len(category) > 0:\n",
				"  with basic_func.initiate_plot(7, 7, 100):\n",
				"      fig = plt.figure()\n",
				"      axes = fig.add_subplot(111)\n",
				"      for currentTrial in category[:50]:\n",
				"          duration = [ff_caught_T_sorted[currentTrial-num_trials], ff_caught_T_sorted[currentTrial]]\n",
				"          returned_info = plot_trials.PlotTrials(duration, \n",
				"                                                          *PlotTrials_args,                                                          \n",
				"                                                          **combined_plot_kwargs,\n",
				"                                                          currentTrial = currentTrial,\n",
				"                                                          num_trials = num_trials,\n",
				"                                                          fig = fig,\n",
				"                                                          axes = axes,\n",
				"                                                          )\n",
				"          axes = returned_info['axes']\n",
				"          if returned_info['whether_plotted'] is True:\n",
				"              x0, y0 = cum_mxy_rotated[0][0], cum_mxy_rotated[1][0]\n",
				"              ff_believed_position_rotated = np.matmul(R, np.stack((ff_believed_position_sorted[currentTrial-num_trials+1:currentTrial+1].T[0], ff_believed_position_sorted[currentTrial-num_trials+1:currentTrial+1].T[1])))\n",
				"              axes.scatter(ff_believed_position_rotated[0]-x0, ff_believed_position_rotated[1]-y0, s=40, alpha=0.85, zorder=5)\n",
				"              xmin, ymin, xmax, ymax = plot_behaviors_utils.update_plot_limits(xmin, ymin, xmax, ymax, cum_mxy_rotated)\n",
				"\n",
				"      axes.set_xlim((xmin-75, xmax+75))\n",
				"      axes.set_ylim((ymin-25, ymax+75))\n",
				"      axes.xaxis.set_major_locator(ticker.NullLocator())\n",
				"      plt.show()  \n",
				"      "
			]
		},
		{
			"attachments": {},
			"cell_type": "markdown",
			"metadata": {
				"id": "RJ90fQV6vYa0"
			},
			"source": [
				"## Cluster around targets"
			]
		},
		{
			"cell_type": "code",
			"execution_count": null,
			"metadata": {
				"executionInfo": {
					"elapsed": 44,
					"status": "aborted",
					"timestamp": 1684812485283,
					"user": {
						"displayName": "Cici Du",
						"userId": "17701548280142155870"
					},
					"user_tz": -480
				},
				"id": "pgwKEUGbzfId"
			},
			"outputs": [],
			"source": [
				"import random\n",
				"category = cluster_around_target_trials\n",
				"num_trials = 1\n",
				"xmin, xmax, ymin, ymax = 0, 0, 0, 0\n",
				"               \n",
				"if len(category) > 0:\n",
				"  with basic_func.initiate_plot(7, 7, 100):\n",
				"      fig = plt.figure()\n",
				"      axes = fig.add_subplot(111)\n",
				"      for currentTrial in category[:50]:\n",
				"          duration = [ff_caught_T_sorted[currentTrial-num_trials], ff_caught_T_sorted[currentTrial]]\n",
				"          returned_info = plot_trials.PlotTrials(duration, \n",
				"                                                          *PlotTrials_args,     \n",
				"                                                          **combined_plot_kwargs,\n",
				"                                                          currentTrial = currentTrial,\n",
				"                                                          num_trials = num_trials,\n",
				"                                                          fig = fig,\n",
				"                                                          axes = axes,\n",
				"                                                          show_trajectory = False\n",
				"                                                          )\n",
				"          axes = returned_info['axes']\n",
				"          if returned_info['whether_plotted'] is True:\n",
				"              x0, y0 = cum_mxy_rotated[0][0], cum_mxy_rotated[1][0]\n",
				"              cluster_around_target_rotated = np.matmul(R, np.stack((cluster_around_target_positions[currentTrial].T[0], cluster_around_target_positions[currentTrial].T[1])))\n",
				"              ff_believed_position_rotated = np.matmul(R, np.stack((ff_believed_position_sorted[currentTrial].T[0], ff_believed_position_sorted[currentTrial].T[1])))\n",
				"              current_color = '#%06X' % random.randint(0, 0xFFFFFF)\n",
				"              axes.scatter(cum_mxy_rotated[0]-x0, cum_mxy_rotated[1]-y0,marker = 'o',s = 2, alpha= 0.7, color = current_color)\n",
				"              axes.scatter(cluster_around_target_rotated[0]-x0, cluster_around_target_rotated[1]-y0, marker='o', s=30, color = current_color) \n",
				"              axes.scatter(ff_believed_position_rotated[0]-x0, ff_believed_position_rotated[1]-y0, marker='o', s=30, color = current_color) \n",
				"              xmin, ymin, xmax, ymax = plot_behaviors_utils.update_plot_limits(xmin, ymin, xmax, ymax, cum_mxy_rotated)\n",
				"\n",
				"      axes.set_xlim((xmin-75, xmax+75))\n",
				"      axes.set_ylim((ymin-25, ymax+75))\n",
				"      axes.xaxis.set_major_locator(ticker.NullLocator())\n",
				"      plt.show()  \n",
				"      "
			]
		},
		{
			"attachments": {},
			"cell_type": "markdown",
			"metadata": {
				"id": "7yACTNshvYa0"
			},
			"source": [
				"## Waste cluster around last target"
			]
		},
		{
			"cell_type": "code",
			"execution_count": null,
			"metadata": {
				"executionInfo": {
					"elapsed": 44,
					"status": "aborted",
					"timestamp": 1684812485283,
					"user": {
						"displayName": "Cici Du",
						"userId": "17701548280142155870"
					},
					"user_tz": -480
				},
				"id": "7ufK1mi8zfoO"
			},
			"outputs": [],
			"source": [
				"category = waste_cluster_around_target_trials\n",
				"num_trials = 2\n",
				"xmin, xmax, ymin, ymax = 0, 0, 0, 0\n",
				"               \n",
				"if len(category) > 0:\n",
				"  with basic_func.initiate_plot(7, 7, 100):\n",
				"      fig = plt.figure()\n",
				"      axes = fig.add_subplot(111)\n",
				"      for currentTrial in category[:50]:\n",
				"          duration = [ff_caught_T_sorted[currentTrial-num_trials], ff_caught_T_sorted[currentTrial]]\n",
				"          returned_info = plot_trials.PlotTrials(duration, \n",
				"                                                          *PlotTrials_args,\n",
				"                                                          \n",
				"                                                          **combined_plot_kwargs,\n",
				"                                                          currentTrial = currentTrial,\n",
				"                                                          num_trials = num_trials,\n",
				"                                                          fig = fig,\n",
				"                                                          axes = axes,\n",
				"                                                          show_trajectory = False\n",
				"                                                          )\n",
				"          axes = returned_info['axes']\n",
				"          if returned_info['whether_plotted'] is True:\n",
				"              x0, y0 = cum_mxy_rotated[0][0], cum_mxy_rotated[1][0]\n",
				"              cluster_around_target_rotated = np.matmul(R, np.stack((cluster_around_target_positions[currentTrial-1].T[0], cluster_around_target_positions[currentTrial-1].T[1])))\n",
				"              ff_believed_position_rotated = np.matmul(R, np.stack((ff_believed_position_sorted[currentTrial-1].T[0], ff_believed_position_sorted[currentTrial-1].T[1])))\n",
				"              current_color = '#%06X' % random.randint(0, 0xFFFFFF)\n",
				"              axes.scatter(cum_mxy_rotated[0]-x0, cum_mxy_rotated[1]-y0,marker = 'o',s = 2, alpha= 0.7, color = current_color)\n",
				"              axes.scatter(cluster_around_target_rotated[0]-x0, cluster_around_target_rotated[1]-y0, marker='o', s=30, color = current_color) \n",
				"              axes.scatter(ff_believed_position_rotated[0]-x0, ff_believed_position_rotated[1]-y0, marker='o', s=30, color = current_color) \n",
				"              xmin, ymin, xmax, ymax = plot_behaviors_utils.update_plot_limits(xmin, ymin, xmax, ymax, cum_mxy_rotated)\n",
				"\n",
				"      axes.set_xlim((xmin-75, xmax+75))\n",
				"      axes.set_ylim((ymin-25, ymax+75))\n",
				"      axes.xaxis.set_major_locator(ticker.NullLocator())\n",
				"      plt.show()  \n",
				"      "
			]
		},
		{
			"attachments": {},
			"cell_type": "markdown",
			"metadata": {
				"id": "nDP09W44vYa0"
			},
			"source": [
				"## Try a few times"
			]
		},
		{
			"cell_type": "code",
			"execution_count": null,
			"metadata": {
				"executionInfo": {
					"elapsed": 45,
					"status": "aborted",
					"timestamp": 1684812485284,
					"user": {
						"displayName": "Cici Du",
						"userId": "17701548280142155870"
					},
					"user_tz": -480
				},
				"id": "wf-uUToVe7ic"
			},
			"outputs": [],
			"source": [
				"category = try_a_few_times_trials\n",
				"num_trials = 1\n",
				"xmin, xmax, ymin, ymax = 0, 0, 0, 0\n",
				"               \n",
				"if len(category) > 0:\n",
				"  with basic_func.initiate_plot(7, 7, 100):\n",
				"      fig = plt.figure()\n",
				"      axes = fig.add_subplot(111)\n",
				"      for currentTrial in category[20:30]:\n",
				"          duration = [ff_caught_T_sorted[currentTrial-num_trials], ff_caught_T_sorted[currentTrial]]\n",
				"          returned_info = plot_trials.PlotTrials(duration, \n",
				"                                                          *PlotTrials_args,\n",
				"                                                          \n",
				"                                                          **combined_plot_kwargs,\n",
				"                                                          currentTrial = currentTrial,\n",
				"                                                          num_trials = num_trials,\n",
				"                                                          fig = fig,\n",
				"                                                          axes = axes,\n",
				"                                                          show_believed_target_positions = True,\n",
				"                                                          show_path_when_target_visible = True,\n",
				"                                                          )\n",
				"          axes = returned_info['axes']\n",
				"          if returned_info['whether_plotted'] is True:\n",
				"              x0, y0 = cum_mxy_rotated[0][0], cum_mxy_rotated[1][0]\n",
				"              current_color = '#%06X' % random.randint(0, 0xFFFFFF)\n",
				"              # Plot believed target positions\n",
				"              ff_believed_position_rotated = np.matmul(R, np.stack((ff_believed_position_sorted[currentTrial-num_trials+1:currentTrial+1].T[0], ff_believed_position_sorted[currentTrial-num_trials+1:currentTrial+1].T[1])))\n",
				"              axes.scatter(ff_believed_position_rotated[0]-x0, ff_believed_position_rotated[1]-y0, s=45, alpha=0.75, color=current_color, zorder=3) \n",
				"              # Plot stops\n",
				"              cum_iloc_indices = np.where((monkey_information['monkey_t'] > duration[0]) & (monkey_information['monkey_t'] <= duration[1]))[0]\n",
				"              zerospeed_index = np.where(monkey_information['monkey_speeddummy'].iloc[cum_iloc_indices]==0)[0]\n",
				"              axes.scatter(cum_mxy_rotated[0][zerospeed_index]-x0, cum_mxy_rotated[1][zerospeed_index]-y0,marker = '*',s = 80, color = current_color, alpha=0.8, zorder=3)\n",
				"              # Update the limits \n",
				"              xmin, ymin, xmax, ymax = plot_behaviors_utils.update_plot_limits(xmin, ymin, xmax, ymax, cum_mxy_rotated)\n",
				"\n",
				"\n",
				"      axes.set_xlim((xmin-75, xmax+75))\n",
				"      axes.set_ylim((ymin-25, ymax+75))\n",
				"      axes.xaxis.set_major_locator(ticker.NullLocator())\n",
				"      plt.show()  \n",
				"      "
			]
		},
		{
			"attachments": {},
			"cell_type": "markdown",
			"metadata": {
				"id": "cP0faT9KvYa0"
			},
			"source": [
				"## Give up after trying"
			]
		},
		{
			"cell_type": "code",
			"execution_count": null,
			"metadata": {
				"executionInfo": {
					"elapsed": 45,
					"status": "aborted",
					"timestamp": 1684812485284,
					"user": {
						"displayName": "Cici Du",
						"userId": "17701548280142155870"
					},
					"user_tz": -480
				},
				"id": "JM7oTktXzhMw"
			},
			"outputs": [],
			"source": [
				"category = give_up_after_trying_trials\n",
				"num_trials = 1\n",
				"xmin, xmax, ymin, ymax = 0, 0, 0, 0\n",
				"               \n",
				"if len(category) > 0:\n",
				"  with basic_func.initiate_plot(7, 7, 100):\n",
				"      fig = plt.figure()\n",
				"      axes = fig.add_subplot(111)\n",
				"      for currentTrial in category[:50]:\n",
				"          duration = [ff_caught_T_sorted[currentTrial-num_trials], ff_caught_T_sorted[currentTrial]]\n",
				"          returned_info = plot_trials.PlotTrials(duration, \n",
				"                                                          *PlotTrials_args,\n",
				"                                                          \n",
				"                                                          **combined_plot_kwargs,\n",
				"                                                          currentTrial = currentTrial,\n",
				"                                                          num_trials = num_trials,\n",
				"                                                          fig = fig,\n",
				"                                                          axes = axes,\n",
				"                                                          show_path_when_target_visible = True,\n",
				"                                                          show_believed_target_positions = True,\n",
				"                                                          show_stops = True\n",
				"                                                          )\n",
				"          axes = returned_info['axes']\n",
				"          if returned_info['whether_plotted'] is True:\n",
				"              xmin, ymin, xmax, ymax = plot_behaviors_utils.update_plot_limits(xmin, ymin, xmax, ymax, cum_mxy_rotated)\n",
				"\n",
				"      axes.set_xlim((xmin-75, xmax+75))\n",
				"      axes.set_ylim((ymin-25, ymax+75))\n",
				"      axes.xaxis.set_major_locator(ticker.NullLocator())\n",
				"      plt.show()  \n",
				"      "
			]
		},
		{
			"attachments": {},
			"cell_type": "markdown",
			"metadata": {
				"id": "1PbBEehWvYa0"
			},
			"source": [
				"## Ignore sudden flash"
			]
		},
		{
			"cell_type": "code",
			"execution_count": null,
			"metadata": {
				"executionInfo": {
					"elapsed": 44,
					"status": "aborted",
					"timestamp": 1684812485284,
					"user": {
						"displayName": "Cici Du",
						"userId": "17701548280142155870"
					},
					"user_tz": -480
				},
				"id": "6PBbqtvGzgHf"
			},
			"outputs": [],
			"source": [
				"category = ignore_sudden_flash_trials\n",
				"num_trials = 1\n",
				"xmin, xmax, ymin, ymax = 0, 0, 0, 0\n",
				"               \n",
				"if len(category) > 0:\n",
				"  with basic_func.initiate_plot(7, 7, 100):\n",
				"      fig = plt.figure()\n",
				"      axes = fig.add_subplot(111)\n",
				"      for currentTrial in category[:30]:\n",
				"          duration = [ff_caught_T_sorted[currentTrial-num_trials], ff_caught_T_sorted[currentTrial]]\n",
				"          ignored_ff_indices = np.array(ignored_ff_target_pairs_index_only.loc[currentTrial]).reshape(-1).tolist()\n",
				"          returned_info = plot_trials.PlotTrials(duration, \n",
				"                                                          *PlotTrials_args,\n",
				"                                                          \n",
				"                                                          **combined_plot_kwargs,\n",
				"                                                          currentTrial = currentTrial,\n",
				"                                                          num_trials = num_trials,\n",
				"                                                          fig = fig,\n",
				"                                                          axes = axes,\n",
				"                                                          show_path_when_target_visible = True,\n",
				"                                                          show_connect_path_ff_except_targets = True,\n",
				"                                                          connect_path_ff_max_distance = 50,\n",
				"                                                          show_believed_target_positions = True,\n",
				"                                                          indices_of_ff_to_mark = ignored_ff_indices,   \n",
				"                                                          )\n",
				"          axes = returned_info['axes']\n",
				"          if returned_info['whether_plotted'] is True:\n",
				"              x0, y0 = cum_mxy_rotated[0][0], cum_mxy_rotated[1][0]\n",
				"              ff_believed_position_rotated = np.matmul(R, np.stack((ff_believed_position_sorted[currentTrial-num_trials+1:currentTrial+1].T[0], ff_believed_position_sorted[currentTrial-num_trials+1:currentTrial+1].T[1])))\n",
				"              #axes.scatter(ff_believed_position_rotated[0]-x0, ff_believed_position_rotated[1]-y0, s=40, alpha=0.85, zorder=5)\n",
				"              xmin, ymin, xmax, ymax = plot_behaviors_utils.update_plot_limits(xmin, ymin, xmax, ymax, cum_mxy_rotated)\n",
				"\n",
				"      axes.set_xlim((xmin-75, xmax+75))\n",
				"      axes.set_ylim((ymin-25, ymax+75))\n",
				"      axes.xaxis.set_major_locator(ticker.NullLocator())\n",
				"      plt.show()  \n",
				"      "
			]
		},
		{
			"attachments": {},
			"cell_type": "markdown",
			"metadata": {
				"id": "xIYoWAIyDieu"
			},
			"source": [
				"# Polar plots"
			]
		},
		{
			"cell_type": "code",
			"execution_count": null,
			"metadata": {
				"executionInfo": {
					"elapsed": 45,
					"status": "aborted",
					"timestamp": 1684812485285,
					"user": {
						"displayName": "Cici Du",
						"userId": "17701548280142155870"
					},
					"user_tz": -480
				},
				"id": "ZrSbMmCJ5uN1"
			},
			"outputs": [],
			"source": [
				"num_trials = 1\n",
				"for currentTrial in range(100, 105):\n",
				"    print(currentTrial)\n",
				"    #duration = [ff_caught_T_sorted[currentTrial-num_trials], ff_caught_T_sorted[currentTrial]]\n",
				"    duration = [ff_caught_T_sorted[currentTrial]-1.25, ff_caught_T_sorted[currentTrial]]\n",
				"\n",
				"\n",
				"    plot_polar.PlotPolar(duration,\n",
				"              monkey_information,\n",
				"              ff_dataframe, \n",
				"              ff_life_sorted,\n",
				"              ff_real_position_sorted,\n",
				"              ff_caught_T_sorted,\n",
				"              ff_flash_sorted,\n",
				"              rmax = 100,\n",
				"              currentTrial = currentTrial,\n",
				"              num_trials = num_trials,\n",
				"              show_visible_ff = True,\n",
				"              show_visible_target = True,\n",
				"              # show_ff_in_memory = True,\n",
				"              # show_target_in_memory = True,\n",
				"              ff_colormap = 'viridis',\n",
				"              target_colormap = 'viridis',\n",
				"              show_alive_ff = True,\n",
				"              colors_show_overall_time = True,\n",
				"              show_all_positions_of_all_fireflies = True,\n",
				"              show_colorbar = True,\n",
				"                )"
			]
		},
		{
			"attachments": {},
			"cell_type": "markdown",
			"metadata": {
				"id": "vRHSO9MpSr63"
			},
			"source": [
				"# Animation"
			]
		},
		{
			"attachments": {},
			"cell_type": "markdown",
			"metadata": {
				"id": "XypHpRbwyIBF"
			},
			"source": [
				"## Overhead view"
			]
		},
		{
			"attachments": {},
			"cell_type": "markdown",
			"metadata": {
				"id": "JlxfIO9YFFHe"
			},
			"source": [
				"### prepare for animation"
			]
		},
		{
			"cell_type": "code",
			"execution_count": 74,
			"metadata": {
				"executionInfo": {
					"elapsed": 45,
					"status": "aborted",
					"timestamp": 1684812485285,
					"user": {
						"displayName": "Cici Du",
						"userId": "17701548280142155870"
					},
					"user_tz": -480
				},
				"id": "x-QWa4ViyNjY"
			},
			"outputs": [],
			"source": [
				"PlotTrials_args = (monkey_information, ff_dataframe, ff_life_sorted, ff_real_position_sorted, ff_believed_position_sorted, cluster_around_target_indices, ff_caught_T_sorted)\n",
				"\n",
				"animation_plot_kwargs = classic_plot_kwargs.copy()\n",
				"animation_plot_kwargs['show_eye_positions_on_the_right'] = False              "
			]
		},
		{
			"cell_type": "code",
			"execution_count": null,
			"metadata": {
				"executionInfo": {
					"elapsed": 45,
					"status": "aborted",
					"timestamp": 1684812485285,
					"user": {
						"displayName": "Cici Du",
						"userId": "17701548280142155870"
					},
					"user_tz": -480
				},
				"id": "0uwEgrqa6x3-"
			},
			"outputs": [],
			"source": [
				"currentTrial = 109\n",
				"num_trials = 1\n",
				"duration = None\n",
				"currentTrial, num_trials, duration = basic_func.find_currentTrial_or_num_trials_or_duration(ff_caught_T_sorted, currentTrial, num_trials, duration)\n",
				"\n",
				"k = 3\n",
				"fig, ax = plt.subplots()\n",
				"num_frames, anim_monkey_info, flash_on_ff_dict, alive_ff_dict, believed_ff_dict, new_num_trials, ff_dataframe_anim\\\n",
				"            = animation_utils.prepare_for_animation(ff_dataframe, ff_caught_T_sorted, ff_life_sorted, ff_believed_position_sorted, \n",
				"                                    ff_real_position_sorted, ff_flash_sorted, monkey_information, k=k, currentTrial=currentTrial, num_trials=num_trials)\n",
				"print(\"Number of frames is:\", num_frames)"
			]
		},
		{
			"cell_type": "code",
			"execution_count": null,
			"metadata": {
				"executionInfo": {
					"elapsed": 45,
					"status": "aborted",
					"timestamp": 1684812485285,
					"user": {
						"displayName": "Cici Du",
						"userId": "17701548280142155870"
					},
					"user_tz": -480
				},
				"id": "FPZK8njVrz59"
			},
			"outputs": [],
			"source": [
				"fig = plt.figure(figsize=(14.5, 7))\n",
				"animation_plot_kwargs['hitting_arena_edge_ok'] = True\n",
				"animation_plot_kwargs['show_connect_path_ff'] = True\n",
				"animation_plot_kwargs['trial_too_short_ok'] = True\n",
				"axes = fig.add_subplot(1, 2, 1)\n",
				"# axes.remove()\n",
				"returned_info = plot_trials.PlotTrials(duration, \n",
				"                        fig=fig,\n",
				"                        axes=axes,\n",
				"                        *PlotTrials_args,\n",
				"                        **animation_plot_kwargs,\n",
				"                        currentTrial = currentTrial,\n",
				"                        num_trials = num_trials,           \n",
				"                        )\n",
				"axes = returned_info['axes']\n",
				"fig.add_axes(axes)\n",
				"ax = fig.add_subplot(1, 2, 2)\n",
				"fig.tight_layout()\n",
				"num_frames, anim_monkey_info, flash_on_ff_dict, alive_ff_dict, believed_ff_dict, new_num_trials, ff_dataframe_anim\\\n",
				"            = animation_utils.prepare_for_animation(ff_dataframe, ff_caught_T_sorted, ff_life_sorted, ff_believed_position_sorted, \n",
				"                                    ff_real_position_sorted, ff_flash_sorted, monkey_information, k=k, currentTrial=currentTrial, num_trials=num_trials)\n",
				"print(\"Number of frames is:\", num_frames)"
			]
		},
		{
			"attachments": {},
			"cell_type": "markdown",
			"metadata": {
				"id": "AesCxkpsFbVn"
			},
			"source": [
				"### make animation"
			]
		},
		{
			"cell_type": "code",
			"execution_count": null,
			"metadata": {
				"executionInfo": {
					"elapsed": 46,
					"status": "aborted",
					"timestamp": 1684812485286,
					"user": {
						"displayName": "Cici Du",
						"userId": "17701548280142155870"
					},
					"user_tz": -480
				},
				"id": "pUcR1X-0-OQo"
			},
			"outputs": [],
			"source": [
				"#plt.rcParams['animation.ffmpeg_path'] = '/Users/dusiyi/.conda/envs/Multifirefly-Project/bin/ffmpeg'\n",
				"animate_func = partial(animation_func.animate, ax=ax, anim_monkey_info=anim_monkey_info, ff_dataframe_anim=ff_dataframe_anim, \\\n",
				"                       flash_on_ff_dict=flash_on_ff_dict, alive_ff_dict=alive_ff_dict, believed_ff_dict=believed_ff_dict, margin = 400,\n",
				"                       plot_eye_position=True, set_xy_limits=True)\n",
				"anim = animation.FuncAnimation(fig, animate_func, frames=num_frames, interval=100, repeat=True) \n",
				"HTML(anim.to_html5_video())"
			]
		},
		{
			"cell_type": "code",
			"execution_count": null,
			"metadata": {},
			"outputs": [],
			"source": [
				"\n",
				"num_trials = 1\n",
				"category = visible_before_last_one_trials\n",
				"category = category[category > num_trials]\n",
				"category_name = 'visible_before_last_one'\n",
				"\n",
				"\n",
				"\n",
				"\n",
				"if len(category) > 0:\n",
				"    for currentTrial in category[:trial_total_num]:\n",
				"        with basic_func.initiate_plot(7, 7, 100):\n",
				"            duration = [ff_caught_T_sorted[currentTrial-num_trials], ff_caught_T_sorted[currentTrial]]\n",
				"\n",
				"            plot_trials.PlotTrials(duration, \n",
				"                        *PlotTrials_args,\n",
				"                        **classic_plot_kwargs,\n",
				"                        currentTrial = currentTrial,\n",
				"                        num_trials = num_trials,                                  \n",
				"                        show_connect_path_ff_except_targets = True,\n",
				"                        show_path_when_target_visible = True,\n",
				"                        )\n",
				"\n",
				"            plt.show()  \n",
				"            \n",
				"\n",
				"\n",
				"temp_animation_plot_kwargs = animation_plot_kwargs.copy()\n",
				"#temp_animation_plot_kwargs['show_connect_path_ff_except_targets'] = True\n",
				"temp_animation_plot_kwargs['show_path_when_target_visible'] = True\n",
				"data_item.make_animation(currentTrial=currentTrial, num_trials=num_trials, animation_plot_kwargs=temp_animation_plot_kwargs, save_video=False, video_dir=None, file_name=None, dt=0.016)\n",
				"HTML(data_item.anim.to_html5_video())\n",
				"\n",
				"\n"
			]
		},
		{
			"attachments": {},
			"cell_type": "markdown",
			"metadata": {
				"id": "-BX7XwsnFc4k"
			},
			"source": [
				"### make animation with annotation\n",
				"\n",
				"Make sure that prepare_for_animation has been run first"
			]
		},
		{
			"cell_type": "code",
			"execution_count": null,
			"metadata": {},
			"outputs": [],
			"source": [
				"reload(animation_func)"
			]
		},
		{
			"cell_type": "code",
			"execution_count": null,
			"metadata": {
				"executionInfo": {
					"elapsed": 45,
					"status": "aborted",
					"timestamp": 1684812485286,
					"user": {
						"displayName": "Cici Du",
						"userId": "17701548280142155870"
					},
					"user_tz": -480
				},
				"id": "aE9lp9YZ-H7c"
			},
			"outputs": [],
			"source": [
				"\n",
				"annotation_info = animation_utils.make_annotation_info(caught_ff_num+1, max_point_index, n_ff_in_a_row, visible_before_last_one_trials, disappear_latest_trials, \\\n",
				"                                        ignore_sudden_flash_indices, give_up_after_trying_indices, try_a_few_times_indices)\n",
				"animate_annotated_func = partial(animation_func.animate_annotated, ax=ax, anim_monkey_info=anim_monkey_info, margin=100, ff_dataframe_anim=ff_dataframe_anim, \\\n",
				"                                   flash_on_ff_dict=flash_on_ff_dict, alive_ff_dict=alive_ff_dict, believed_ff_dict=believed_ff_dict, ff_caught_T_sorted=ff_caught_T_sorted, annotation_info=annotation_info)\n",
				"anim_annotated = animation.FuncAnimation(fig, animate_annotated_func, frames=num_frames, interval=100, repeat=True) \n",
				"HTML(anim_annotated.to_html5_video())"
			]
		},
		{
			"attachments": {},
			"cell_type": "markdown",
			"metadata": {
				"id": "0ilPTCBQJa7R"
			},
			"source": [
				"## Polar"
			]
		},
		{
			"cell_type": "code",
			"execution_count": null,
			"metadata": {
				"executionInfo": {
					"elapsed": 45,
					"status": "aborted",
					"timestamp": 1684812485286,
					"user": {
						"displayName": "Cici Du",
						"userId": "17701548280142155870"
					},
					"user_tz": -480
				},
				"id": "vMxempT-1ta1"
			},
			"outputs": [],
			"source": [
				"currentTrial = 101\n",
				"num_trials = 1\n",
				"filename = f\"Trials {currentTrial-num_trials+1}-{currentTrial}\"\n",
				"print(filename)\n",
				"k = 3\n",
				"rmax = 100\n",
				"colors_Reds = plt.get_cmap(\"Reds\")(np.linspace(0,1,101))\n",
				"colors_YlGn = plt.get_cmap(\"YlGn\")(np.linspace(0,1,101))\n",
				"cum_iloc_indices = np.where((monkey_information['monkey_t'] > ff_caught_T_sorted[currentTrial-num_trials]) & \n",
				"                       (monkey_information['monkey_t'] <= ff_caught_T_sorted[currentTrial]))\n",
				"\n",
				"if len(cum_iloc_indices) > 0:\n",
				"    fig = plt.figure(figsize=(7,7))\n",
				"    ax = fig.add_axes([0.1, 0.1, 0.8, 0.8], polar=True)\n",
				"    ax = plot_behaviors_utils.set_polar_background_for_animation(ax, rmax)\n",
				"\n",
				"    ff_in_time_frame, ff_visible, ff_in_memory = animation_func.subset_ff_dataframe(ff_dataframe, currentTrial, num_trials)\n",
				"    anim_indices = cum_iloc_indices[0][0:-1:k]\n",
				"    num_frames = anim_indices.size\n",
				"    animate_func = partial(animation_func.animate_polar, ax=ax, anim_indices=anim_indices, rmax=400, ff_in_time_frame=ff_in_time_frame, ff_visible=ff_visible, ff_in_memory=ff_in_memory)\n",
				"    anim = animation.FuncAnimation(fig, animate_func, frames=num_frames, interval=int(16.5*k), repeat=True) \n",
				"\n",
				"    #gif_dir = '/content/gdrive/My Drive/fireflies_anim/???'\n",
				"    #anim.save(f\"{gif_dir}/{filename}.gif\", writer='pillow', fps=60)\n",
				"else:\n",
				"    print(\"Please try another number for currentTrial, or increase num_trials.\")\n",
				"\n"
			]
		},
		{
			"cell_type": "code",
			"execution_count": null,
			"metadata": {
				"executionInfo": {
					"elapsed": 45,
					"status": "aborted",
					"timestamp": 1684812485286,
					"user": {
						"displayName": "Cici Du",
						"userId": "17701548280142155870"
					},
					"user_tz": -480
				},
				"id": "kABZKesgI3CT"
			},
			"outputs": [],
			"source": [
				"# For some reason, I need to run the following in a separate cell; I can't combine it with the previous cell.\n",
				"print(\"Number of frames is\", num_frames)\n",
				"HTML(anim.to_html5_video())"
			]
		},
		{
			"attachments": {},
			"cell_type": "markdown",
			"metadata": {
				"id": "McLE8_MfBMxV"
			},
			"source": [
				"# Other distributions"
			]
		},
		{
			"attachments": {},
			"cell_type": "markdown",
			"metadata": {
				"id": "ovc1r5vSuLTi"
			},
			"source": [
				"## Stop speeds"
			]
		},
		{
			"cell_type": "code",
			"execution_count": null,
			"metadata": {
				"executionInfo": {
					"elapsed": 46,
					"status": "aborted",
					"timestamp": 1684812485287,
					"user": {
						"displayName": "Cici Du",
						"userId": "17701548280142155870"
					},
					"user_tz": -480
				},
				"id": "JC3Hb56iuO8n"
			},
			"outputs": [],
			"source": [
				"all_min_speed = []\n",
				"all_min_dw = []\n",
				"all_corr_dw = []\n",
				"for time in ff_caught_T_sorted:\n",
				"  duration = [time-0.5, time+0.5]\n",
				"  cum_iloc_indices = np.where((monkey_information['monkey_t'] >= duration[0]) & (monkey_information['monkey_t'] <= duration[1]))[0]\n",
				"  cum_t, cum_angles = np.array(monkey_information['monkey_t'].iloc[cum_iloc_indices]), np.array(monkey_information['monkey_angles'].iloc[cum_iloc_indices])\n",
				"  cum_mx, cum_my = np.array(monkey_information['monkey_x'].iloc[cum_iloc_indices]), np.array(monkey_information['monkey_y'].iloc[cum_iloc_indices])\n",
				"  cum_speed, cum_speeddummy = np.array(monkey_information['monkey_speed'].iloc[cum_iloc_indices]), np.array(monkey_information['monkey_speeddummy'].iloc[cum_iloc_indices])\n",
				"  cum_dw = np.array(monkey_information['monkey_dw'].iloc[cum_iloc_indices])\n",
				"  min_speed = min(cum_speed)\n",
				"  corresponding_dw = cum_dw[cum_speed==min_speed]\n",
				"  all_min_speed.append(min_speed)\n",
				"  all_min_dw.append(min(np.abs(cum_dw)))\n",
				"  all_corr_dw.append(round(abs(corresponding_dw).item(), 4))"
			]
		},
		{
			"cell_type": "code",
			"execution_count": null,
			"metadata": {
				"executionInfo": {
					"elapsed": 46,
					"status": "aborted",
					"timestamp": 1684812485287,
					"user": {
						"displayName": "Cici Du",
						"userId": "17701548280142155870"
					},
					"user_tz": -480
				},
				"id": "pdZ3fMxvudDd"
			},
			"outputs": [],
			"source": [
				"import seaborn as sns\n",
				"fig = plt.subplots()\n",
				"sns.histplot(all_min_speed)\n",
				"plt.title(\"Distribution of min speed around catching targets\")\n",
				"plt.show()\n",
				"\n"
			]
		},
		{
			"cell_type": "code",
			"execution_count": null,
			"metadata": {
				"executionInfo": {
					"elapsed": 46,
					"status": "aborted",
					"timestamp": 1684812485287,
					"user": {
						"displayName": "Cici Du",
						"userId": "17701548280142155870"
					},
					"user_tz": -480
				},
				"id": "mBv6LXuzvdm7"
			},
			"outputs": [],
			"source": [
				"fig = plt.subplots()\n",
				"sns.histplot(all_min_dw)\n",
				"plt.title(\"Distribution of min abs dw around catching targets\")\n",
				"plt.show()\n"
			]
		},
		{
			"cell_type": "code",
			"execution_count": null,
			"metadata": {
				"executionInfo": {
					"elapsed": 46,
					"status": "aborted",
					"timestamp": 1684812485287,
					"user": {
						"displayName": "Cici Du",
						"userId": "17701548280142155870"
					},
					"user_tz": -480
				},
				"id": "CBREQlpev8Sw"
			},
			"outputs": [],
			"source": [
				"fig = plt.subplots()\n",
				"sns.histplot(all_corr_dw, binwidth=0.0002)\n",
				"plt.title(\"Distribution of abs dw corresponding to min speed around catching targets\")\n",
				"plt.xlim(0, 0.004)\n",
				"plt.show()\n"
			]
		},
		{
			"attachments": {},
			"cell_type": "markdown",
			"metadata": {
				"id": "HJZ1afE1IuSX"
			},
			"source": [
				"## All ff in a session"
			]
		},
		{
			"cell_type": "code",
			"execution_count": null,
			"metadata": {
				"executionInfo": {
					"elapsed": 44,
					"status": "aborted",
					"timestamp": 1684812485287,
					"user": {
						"displayName": "Cici Du",
						"userId": "17701548280142155870"
					},
					"user_tz": -480
				},
				"id": "LlrXgZVqIv-f"
			},
			"outputs": [],
			"source": [
				"with basic_func.initiate_plot(7, 7, 100):\n",
				"    plt.scatter(ff_real_position_sorted[:,0], ff_real_position_sorted[:,1], s=10)\n",
				"    plt.show()\n",
				"    "
			]
		},
		{
			"attachments": {},
			"cell_type": "markdown",
			"metadata": {
				"id": "v0H7NQ9rVmiD"
			},
			"source": [
				"## ff distribution over time"
			]
		},
		{
			"cell_type": "code",
			"execution_count": null,
			"metadata": {
				"executionInfo": {
					"elapsed": 44,
					"status": "aborted",
					"timestamp": 1684812485287,
					"user": {
						"displayName": "Cici Du",
						"userId": "17701548280142155870"
					},
					"user_tz": -480
				},
				"id": "6QldUuNWV7A-"
			},
			"outputs": [],
			"source": [
				"plot_behaviors_utils.plot_ff_distribution_in_arena(ff_real_position_sorted, ff_life_sorted, ff_caught_T_sorted, images_dir=None)"
			]
		},
		{
			"attachments": {},
			"cell_type": "markdown",
			"metadata": {
				"id": "JUvBbX9eOYDQ"
			},
			"source": [
				"# Appendix"
			]
		},
		{
			"attachments": {},
			"cell_type": "markdown",
			"metadata": {
				"id": "9c1qrT8MYVpn"
			},
			"source": [
				"## Retrieve more data"
			]
		},
		{
			"cell_type": "code",
			"execution_count": null,
			"metadata": {
				"executionInfo": {
					"elapsed": 44,
					"status": "aborted",
					"timestamp": 1684812485288,
					"user": {
						"displayName": "Cici Du",
						"userId": "17701548280142155870"
					},
					"user_tz": -480
				},
				"id": "qb6INKvNOYkl"
			},
			"outputs": [],
			"source": [
				"all_trial_features_lstm = pd.read_csv('RL_models/LSTM_stored_models/all_agents/LSTM_Aug_1_24/patterns_and_features/all_trial_features.csv')\n",
				"all_trial_features_valid_lstm = all_trial_features_lstm[(all_trial_features_lstm['t_last_visible']<50) & (all_trial_features_lstm['hitting_arena_edge']==False)].reset_index()\n",
				"median_values_lstm = all_trial_features_valid_lstm.median(axis=0)"
			]
		},
		{
			"attachments": {},
			"cell_type": "markdown",
			"metadata": {
				"id": "G1L88NI-C1Td"
			},
			"source": [
				"# Appendix of categories"
			]
		},
		{
			"attachments": {},
			"cell_type": "markdown",
			"metadata": {
				"id": "FTIpPMTzQ4ry"
			},
			"source": [
				"## Cluster around targets"
			]
		},
		{
			"cell_type": "code",
			"execution_count": null,
			"metadata": {
				"executionInfo": {
					"elapsed": 44,
					"status": "aborted",
					"timestamp": 1684812485288,
					"user": {
						"displayName": "Cici Du",
						"userId": "17701548280142155870"
					},
					"user_tz": -480
				},
				"id": "dq8yqi9tQ4ry"
			},
			"outputs": [],
			"source": [
				"# category = cluster_around_target_trials\n",
				"# category = category[category > num_trials]\n",
				"# category_name = 'cluster_around_target'\n",
				"# num_trials = 1\n",
				"\n",
				"\n",
				"# if len(category) > 0:\n",
				"#   with basic_func.initiate_plot(7, 7, 100):\n",
				"#     for currentTrial in category[:trial_total_num]:\n",
				"#         duration = [ff_caught_T_sorted[currentTrial-num_trials], ff_caught_T_sorted[currentTrial]]\n",
				"#         plot_trials.PlotTrials(duration, \n",
				"#                    *PlotTrials_args,\n",
				"#                    **classic_plot_kwargs,\n",
				"#                    currentTrial = currentTrial,\n",
				"#                    num_trials = num_trials,                   \n",
				"#                    trail_color_var = \"speed\",\n",
				"#                    show_path_when_target_visible = True,\n",
				"#                    show_connect_path_ff = True,\n",
				"#                    trial_to_show_cluster_around_target = \"current\",                 \n",
				"#                    )\n",
				"\n",
				"#         temp_animation_plot_kwargs = animation_plot_kwargs.copy()\n",
				"#         temp_animation_plot_kwargs['trial_to_show_cluster_around_target'] = 'current'\n",
				"#         data_item.make_animation(currentTrial=currentTrial, num_trials=num_trials, animation_plot_kwargs=temp_animation_plot_kwargs, save_video=False, video_dir=None, file_name=None)\n",
				"        \n",
				"\n",
				"#         plt.show()  \n",
				"#         \n"
			]
		},
		{
			"attachments": {},
			"cell_type": "markdown",
			"metadata": {
				"id": "ZQKqdGcMQ4rx"
			},
			"source": [
				"## Cluster of fireflies"
			]
		},
		{
			"cell_type": "code",
			"execution_count": null,
			"metadata": {
				"executionInfo": {
					"elapsed": 44,
					"status": "aborted",
					"timestamp": 1684812485288,
					"user": {
						"displayName": "Cici Du",
						"userId": "17701548280142155870"
					},
					"user_tz": -480
				},
				"id": "b7Yy6891Q4rx"
			},
			"outputs": [],
			"source": [
				"# category = cluster_exist_trials\n",
				"# category = category[category > num_trials]\n",
				"# category_name = 'cluster_exist_trials'\n",
				"# num_trials = 1\n",
				"\n",
				"# if len(category) > 0:\n",
				"#   with basic_func.initiate_plot(7, 7, 100):\n",
				"#     for currentTrial in category[:trial_total_num]:\n",
				"#         duration = [ff_caught_T_sorted[currentTrial-num_trials], ff_caught_T_sorted[currentTrial]]\n",
				"        \n",
				"#         plot_trials.PlotTrials(duration, \n",
				"                  #  *PlotTrials_args,\n",
				"                  #  **classic_plot_kwargs,\n",
				"                  #  currentTrial = currentTrial,\n",
				"                  #  num_trials = num_trials,                   \n",
				"#                    trail_color_var = \"speed\",                 \n",
				"#                    show_path_when_target_visible = True,\n",
				"#                    show_connect_path_ff_except_targets = True,\n",
				"#                    trial_to_show_cluster = \"current\", \n",
				"#                    cluster_dataframe_point = cluster_dataframe_point,\n",
				"#                    \n",
				"#                    )\n",
				"\n",
				"#         plt.show()  \n",
				"#         \n"
			]
		},
		{
			"attachments": {},
			"cell_type": "markdown",
			"metadata": {
				"id": "gfUkMLmTQ4ry"
			},
			"source": [
				"## Waste cluster"
			]
		},
		{
			"cell_type": "code",
			"execution_count": null,
			"metadata": {
				"executionInfo": {
					"elapsed": 44,
					"status": "aborted",
					"timestamp": 1684812485288,
					"user": {
						"displayName": "Cici Du",
						"userId": "17701548280142155870"
					},
					"user_tz": -480
				},
				"id": "bRqL7pxKQ4ry"
			},
			"outputs": [],
			"source": [
				"# category = waste_cluster_trials\n",
				"# category = category[category > num_trials]\n",
				"# category_name = 'waste_cluster_trials'\n",
				"# num_trials = 2\n",
				"\n",
				"# if len(category) > 0:\n",
				"#   with basic_func.initiate_plot(7, 7, 100):\n",
				"#     for currentTrial in category[:trial_total_num]:\n",
				"#         duration = [ff_caught_T_sorted[currentTrial-num_trials], ff_caught_T_sorted[currentTrial]]\n",
				"        \n",
				"#         plot_trials.PlotTrials(duration, \n",
				"                  #  *PlotTrials_args,\n",
				"                  #  **classic_plot_kwargs,\n",
				"                  #  currentTrial = currentTrial,\n",
				"                  #  num_trials = num_trials,\n",
				"#                    show_connect_path_ff = True,\n",
				"#                    trial_to_show_cluster = \"previous\", \n",
				"#                    cluster_dataframe_point = cluster_dataframe_point\n",
				"#                    \n",
				"#                    )\n",
				"\n",
				"#         plt.show()  \n",
				"#         \n"
			]
		},
		{
			"attachments": {},
			"cell_type": "markdown",
			"metadata": {
				"id": "kkfeWWkVyDFt"
			},
			"source": [
				"# Debug"
			]
		},
		{
			"cell_type": "code",
			"execution_count": null,
			"metadata": {
				"executionInfo": {
					"elapsed": 44,
					"status": "aborted",
					"timestamp": 1684812485288,
					"user": {
						"displayName": "Cici Du",
						"userId": "17701548280142155870"
					},
					"user_tz": -480
				},
				"id": "qQfGqp3EY1Cn"
			},
			"outputs": [],
			"source": [
				"!pip install -Uqq ipdb\n",
				"import ipdb\n",
				"%pdb on"
			]
		},
		{
			"cell_type": "code",
			"execution_count": null,
			"metadata": {
				"executionInfo": {
					"elapsed": 45,
					"status": "aborted",
					"timestamp": 1684812485289,
					"user": {
						"displayName": "Cici Du",
						"userId": "17701548280142155870"
					},
					"user_tz": -480
				},
				"id": "QAu5A6RFY2XA"
			},
			"outputs": [],
			"source": [
				"%pdb off"
			]
		}
	],
	"metadata": {
		"colab": {
			"provenance": [
				{
					"file_id": "1G3e4Qx3gpEEDPI9pKYXBK_bxXCmF4ZmN",
					"timestamp": 1681009405002
				}
			],
			"toc_visible": true
		},
		"gpuClass": "standard",
		"kernelspec": {
			"display_name": "ff_venv",
			"language": "python",
			"name": "ff_venv2"
		},
		"language_info": {
			"codemirror_mode": {
				"name": "ipython",
				"version": 3
			},
			"file_extension": ".py",
			"mimetype": "text/x-python",
			"name": "python",
			"nbconvert_exporter": "python",
			"pygments_lexer": "ipython3",
			"version": "3.9.16"
		},
		"toc": {
			"base_numbering": 1,
			"nav_menu": {},
			"number_sections": true,
			"sideBar": true,
			"skip_h1_title": false,
			"title_cell": "Table of Contents",
			"title_sidebar": "Contents",
			"toc_cell": true,
			"toc_position": {},
			"toc_section_display": true,
			"toc_window_display": true
		}
	},
	"nbformat": 4,
	"nbformat_minor": 0
}
