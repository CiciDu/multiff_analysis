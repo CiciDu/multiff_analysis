{
 "cells": [
  {
   "cell_type": "markdown",
   "metadata": {},
   "source": [
    "# Import packages"
   ]
  },
  {
   "cell_type": "code",
   "execution_count": null,
   "metadata": {},
   "outputs": [
    {
     "name": "stdout",
     "output_type": "stream",
     "text": [
      "/Users/dusiyi/Documents/Multifirefly-Project\n"
     ]
    }
   ],
   "source": [
    "\n",
    "%load_ext autoreload\n",
    "%autoreload 2\n",
    "\n",
    "from pathlib import Path\n",
    "if Path.cwd().parts[-1] != 'Multifirefly-Project':\n",
    "    %cd ..\n",
    "    from add_path import find_path\n",
    "    current_path = find_path()\n",
    "    %cd $current_path\n",
    "\n",
    "import sys\n",
    "import csv\n",
    "\n",
    "\n",
    "from data_wrangling import basic_func, process_raw_data, base_processing_class, monkey_data_classes, combine_info_utils\n",
    "from pattern_discovery import pattern_by_trials, pattern_by_points, make_ff_dataframe, ff_dataframe_utils, pattern_by_trials, pattern_by_points, cluster_analysis, organize_patterns_and_features, category_class, cluster_analysis\n",
    "from decision_making_analysis.decision_making import decision_making_class, decision_making_utils, plot_decision_making, intended_targets_classes\n",
    "from decision_making_analysis.GUAT import GUAT_helper_class, GUAT_collect_info_class, GUAT_combine_info_class, process_GUAT_trials_class, GUAT_and_TAFT\n",
    "from decision_making_analysis import free_selection, replacement, trajectory_info\n",
    "from null_behaviors import show_null_trajectory, find_best_arc, curvature_utils, curvature_class, curv_of_traj_utils\n",
    "from machine_learning import machine_learning_utils, hyperparameter_tuning_class\n",
    "from machine_learning.RL.env_related import env_for_lstm, env_utils, base_env, collect_agent_data_utils\n",
    "from machine_learning.RL.lstm import GRU_functions, LSTM_functions\n",
    "from machine_learning.RL.SB3 import interpret_neural_network, sb3_for_multiff_class, rl_for_multiff_utils, SB3_functions\n",
    "from visualization import plot_trials, animation_func, plot_behaviors_utils, monkey_heading_functions\n",
    "from planning_analysis.test_params_for_planning import params_test_combos_class, params_utils\n",
    "from visualization.plotly_tools import plotly_for_monkey, plotly_for_scatterplot, plotly_preparation, plotly_for_correlation\n",
    "from visualization.dash_tools import dash_prep_class, dash_utils, dash_utils, dash_comparison_class, dash_params_class\n",
    "from visualization.dash_tools.dash_main_class_methods import dash_main_class\n",
    "from non_behavioral_analysis import neural_data_processing\n",
    "from non_behavioral_analysis.planning_neural import planning_neural_class\n",
    "from planning_analysis.only_stop_ff import only_stop_ff_utils, only_stop_ff_class, only_stop_ff_utils\n",
    "from planning_analysis.plan_factors import plan_factors_utils, plan_factors_class, monkey_plan_factors_x_sess_class\n",
    "from planning_analysis.agent_analysis import compare_monkey_and_agent_utils, agent_plan_factors_class\n",
    "from planning_analysis.plan_factors import monkey_plan_factors_x_sess_class, test_vs_control_utils, monkey_plan_factors_x_sess_class, monkey_plan_factors_x_sess_class\n",
    "from planning_analysis.variations_of_factors_vs_results import make_variations_utils, plot_variations_utils, process_variations_utils\n",
    "from planning_analysis.show_planning import alt_ff_utils, show_planning_class, show_planning_utils\n",
    "from planning_analysis.show_planning.get_stops_near_ff import find_stops_near_ff_class, find_stops_near_ff_utils, plot_stops_near_ff_class, plot_stops_near_ff_utils, plot_monkey_heading_helper_class, stops_near_ff_based_on_ref_class\n",
    "from planning_analysis.agent_analysis import agent_plan_factors_x_sess_class, agent_plan_factors_x_agents_class\n",
    "from planning_analysis import ml_methods_class, ml_methods_utils\n",
    "\n",
    "from importlib import reload\n",
    "from non_behavioral_analysis import eye_positions\n",
    "import os\n",
    "import numpy as np\n",
    "import matplotlib\n",
    "import matplotlib.pyplot as plt\n",
    "from sklearn.ensemble import BaggingRegressor, AdaBoostRegressor, RandomForestRegressor\n",
    "from sklearn.preprocessing import PolynomialFeatures\n",
    "from sklearn.linear_model import LinearRegression\n",
    "from matplotlib import cm\n",
    "from os.path import exists\n",
    "import seaborn as sns\n",
    "import math\n",
    "import copy\n",
    "import matplotlib.pyplot as plt\n",
    "import pandas as pd\n",
    "import torch\n",
    "import torch.nn as nn\n",
    "import torch.optim as optim\n",
    "import tqdm\n",
    "import itertools\n",
    "import plotly.express as px\n",
    "from scipy.stats import rankdata\n",
    "from scipy import stats\n",
    "from IPython.display import HTML\n",
    "from matplotlib import rc\n",
    "from sklearn.model_selection import train_test_split\n",
    "from sklearn.preprocessing import OneHotEncoder\n",
    "from sklearn.datasets import make_multilabel_classification\n",
    "from sklearn.model_selection import train_test_split\n",
    "from sklearn.multioutput import MultiOutputClassifier\n",
    "from sklearn.neighbors import KNeighborsClassifier\n",
    "from sklearn.metrics import accuracy_score, hamming_loss, multilabel_confusion_matrix, fbeta_score, precision_score, recall_score\n",
    "from sklearn.svm import SVC\n",
    "from sklearn.tree import DecisionTreeClassifier\n",
    "from sklearn.ensemble import AdaBoostClassifier, RandomForestClassifier, VotingClassifier, BaggingClassifier, GradientBoostingClassifier\n",
    "from sklearn.neural_network import MLPClassifier\n",
    "from sklearn.linear_model import LinearRegression\n",
    "from sklearn.neighbors import KNeighborsRegressor, KNeighborsClassifier\n",
    "from sklearn.naive_bayes import GaussianNB\n",
    "from sklearn.linear_model import LogisticRegression\n",
    "from math import pi\n",
    "from scipy.ndimage import gaussian_filter1d\n",
    "from statsmodels.graphics.tsaplots import plot_acf\n",
    "import warnings\n",
    "import os, sys\n",
    "from sklearn.exceptions import ConvergenceWarning\n",
    "import plotly.graph_objects as go\n",
    "import gc\n",
    "from sklearn.linear_model import LogisticRegression\n",
    "from sklearn.linear_model import LassoCV\n",
    "from sklearn.model_selection import train_test_split\n",
    "from sklearn.preprocessing import StandardScaler\n",
    "from non_behavioral_analysis import neural_analysis\n",
    "\n",
    "\n",
    "plt.rcParams[\"animation.html\"] = \"html5\"\n",
    "os.environ['KMP_DUPLICATE_LIB_OK']='True'\n",
    "rc('animation', html='jshtml')\n",
    "matplotlib.rcParams.update(matplotlib.rcParamsDefault)\n",
    "matplotlib.rcParams['animation.embed_limit'] = 2**128\n",
    "pd.set_option('display.float_format', lambda x: '%.5f' % x)\n",
    "np.set_printoptions(suppress=True)\n",
    "pd.options.display.max_rows = 101"
   ]
  },
  {
   "cell_type": "code",
   "execution_count": 2,
   "metadata": {},
   "outputs": [],
   "source": [
    "data_item = None\n",
    "raw_data_folder_path = \"all_monkey_data/raw_monkey_data/individual_monkey_data/monkey_Bruno/data_0328\""
   ]
  },
  {
   "cell_type": "code",
   "execution_count": null,
   "metadata": {},
   "outputs": [],
   "source": [
    "stop!"
   ]
  },
  {
   "cell_type": "markdown",
   "metadata": {},
   "source": [
    "# Use class"
   ]
  },
  {
   "cell_type": "markdown",
   "metadata": {},
   "source": [
    "## get data"
   ]
  },
  {
   "cell_type": "code",
   "execution_count": 2,
   "metadata": {},
   "outputs": [],
   "source": [
    "pfas = agent_plan_factors_x_sess_class.PlanFactorsAcrossAgentSessions(num_steps_per_dataset=1000)"
   ]
  },
  {
   "cell_type": "code",
   "execution_count": 17,
   "metadata": {},
   "outputs": [
    {
     "data": {
      "text/plain": [
       "0"
      ]
     },
     "execution_count": 17,
     "metadata": {},
     "output_type": "execute_result"
    }
   ],
   "source": [
    "gc.collect()"
   ]
  },
  {
   "cell_type": "code",
   "execution_count": 11,
   "metadata": {},
   "outputs": [
    {
     "name": "stdout",
     "output_type": "stream",
     "text": [
      " \n",
      "model_folder_name: RL_models/SB3_stored_models/all_agents/env1_relu/ff3/dv10_dw10_w10_mem3\n",
      "data_name: data_0\n",
      "Getting agent data ......\n",
      "model_folder_name: RL_models/SB3_stored_models/all_agents/env1_relu/ff3/dv10_dw10_w10_mem3\n",
      "Made agent with the following params: {'learning_rate': 0.0003, 'batch_size': 1024, 'target_update_interval': 50, 'buffer_size': 1000000, 'learning_starts': 10000, 'train_freq': TrainFreq(frequency=100, unit=<TrainFrequencyUnit.STEP: 'step'>), 'gradient_steps': 10, 'ent_coef': 'auto', 'policy_kwargs': {'activation_fn': <class 'torch.nn.modules.activation.ReLU'>, 'net_arch': [256, 128], 'use_sde': False}, 'gamma': 0.998}\n",
      "Loaded existing agent: RL_models/SB3_stored_models/all_agents/env1_relu/ff3/dv10_dw10_w10_mem3/best_model.zip\n",
      "Params from agent after loading:\n",
      "{'learning_rate': 0.0003, 'batch_size': 1024, 'target_update_interval': 50, 'buffer_size': 1000000, 'learning_starts': 10000, 'train_freq': TrainFreq(frequency=100, unit=<TrainFrequencyUnit.STEP: 'step'>), 'gradient_steps': 10, 'ent_coef': 'auto', 'policy_kwargs': {'activation_fn': <class 'torch.nn.modules.activation.ReLU'>, 'net_arch': [256, 128], 'use_sde': False}, 'gamma': 0.998}\n",
      "Collecting new agent data......\n",
      "Removed all files in the folder: RL_models/SB3_stored_models/all_collected_data/processed_data/env1_relu/ff3/dv10_dw10_w10_mem3/individual_data_sessions/data_0\n",
      "TIME before resetting: 0\n",
      "current linear_terminal_vel:  0.01\n",
      "current angular_terminal_vel:  0.01\n",
      "current dt:  0.1\n",
      "current full_memory:  30\n",
      "current dv_cost_factor:  10\n",
      "current dw_cost_factor:  10\n",
      "current w_cost_factor:  10\n",
      "current distance2center_cost:  0\n",
      "current flash_on_interval:  0.3\n",
      "current num_obs_ff:  3\n",
      "current max_in_memory_time:  3\n",
      "Firefly capture rate:  1.0700000000000152\n",
      "saved monkey_information and ff info at RL_models/SB3_stored_models/all_collected_data/processed_data/env1_relu/ff3/dv10_dw10_w10_mem3/individual_data_sessions/data_0\n",
      "Warnings: currently, only ff in obs at each step are used in ff_dataframe. All ff are labeled 'visible' regardless of their actual time since last visible.\n",
      "made ff_dataframe\n",
      "saved ff_dataframe at RL_models/SB3_stored_models/all_collected_data/processed_data/env1_relu/ff3/dv10_dw10_w10_mem3/individual_data_sessions/data_0/ff_dataframe.csv\n",
      " \n",
      "model_folder_name: RL_models/SB3_stored_models/all_agents/env1_relu/ff3/dv10_dw10_w10_mem3\n",
      "data_name: data_1\n",
      "Getting agent data ......\n",
      "model_folder_name: RL_models/SB3_stored_models/all_agents/env1_relu/ff3/dv10_dw10_w10_mem3\n",
      "Made agent with the following params: {'learning_rate': 0.0003, 'batch_size': 1024, 'target_update_interval': 50, 'buffer_size': 1000000, 'learning_starts': 10000, 'train_freq': TrainFreq(frequency=100, unit=<TrainFrequencyUnit.STEP: 'step'>), 'gradient_steps': 10, 'ent_coef': 'auto', 'policy_kwargs': {'activation_fn': <class 'torch.nn.modules.activation.ReLU'>, 'net_arch': [256, 128], 'use_sde': False}, 'gamma': 0.998}\n",
      "Loaded existing agent: RL_models/SB3_stored_models/all_agents/env1_relu/ff3/dv10_dw10_w10_mem3/best_model.zip\n",
      "Params from agent after loading:\n",
      "{'learning_rate': 0.0003, 'batch_size': 1024, 'target_update_interval': 50, 'buffer_size': 1000000, 'learning_starts': 10000, 'train_freq': TrainFreq(frequency=100, unit=<TrainFrequencyUnit.STEP: 'step'>), 'gradient_steps': 10, 'ent_coef': 'auto', 'policy_kwargs': {'activation_fn': <class 'torch.nn.modules.activation.ReLU'>, 'net_arch': [256, 128], 'use_sde': False}, 'gamma': 0.998}\n",
      "Collecting new agent data......\n",
      "Removed all files in the folder: RL_models/SB3_stored_models/all_collected_data/processed_data/env1_relu/ff3/dv10_dw10_w10_mem3/individual_data_sessions/data_1\n",
      "TIME before resetting: 0\n",
      "current linear_terminal_vel:  0.01\n",
      "current angular_terminal_vel:  0.01\n",
      "current dt:  0.1\n",
      "current full_memory:  30\n",
      "current dv_cost_factor:  10\n",
      "current dw_cost_factor:  10\n",
      "current w_cost_factor:  10\n",
      "current distance2center_cost:  0\n",
      "current flash_on_interval:  0.3\n",
      "current num_obs_ff:  3\n",
      "current max_in_memory_time:  3\n",
      "Firefly capture rate:  1.060000000000015\n",
      "saved monkey_information and ff info at RL_models/SB3_stored_models/all_collected_data/processed_data/env1_relu/ff3/dv10_dw10_w10_mem3/individual_data_sessions/data_1\n",
      "Warnings: currently, only ff in obs at each step are used in ff_dataframe. All ff are labeled 'visible' regardless of their actual time since last visible.\n",
      "made ff_dataframe\n",
      "saved ff_dataframe at RL_models/SB3_stored_models/all_collected_data/processed_data/env1_relu/ff3/dv10_dw10_w10_mem3/individual_data_sessions/data_1/ff_dataframe.csv\n",
      " \n",
      "Making overall all median info ......\n",
      "ref_point_mode     time after stop ff visible\n",
      "ref_point_value                       0.10000\n",
      "monkey_name                              None\n",
      "stored                                  False\n",
      "Name: 0, dtype: object\n",
      "Will make new combd_heading_df_x_sessions for the agent because .\n",
      " \n",
      "model_folder_name: RL_models/SB3_stored_models/all_agents/env1_relu/ff3/dv10_dw10_w10_mem3\n",
      "data_name: data_0\n",
      " \n",
      "Getting test heading info control heading info ......\n",
      "Retrieving stop_0_1_window_-50cm_0cm from RL_models/SB3_stored_models/all_collected_data/planning/env1_relu/ff3/dv10_dw10_w10_mem3/individual_data_sessions/data_0/diff_in_curv_df/norm_opt_arc/test/stop_0_1_window_-50cm_0cm succeeded\n",
      "Retrieving agent_stop_0_1 from RL_models/SB3_stored_models/all_collected_data/planning/env1_relu/ff3/dv10_dw10_w10_mem3/individual_data_sessions/data_0/heading_info_df/norm_opt_arc/test/agent_stop_0_1 succeeded\n",
      "Retrieving stop_0_1_window_-50cm_0cm from RL_models/SB3_stored_models/all_collected_data/planning/env1_relu/ff3/dv10_dw10_w10_mem3/individual_data_sessions/data_0/diff_in_curv_df/norm_opt_arc/control/stop_0_1_window_-50cm_0cm succeeded\n",
      "Retrieving agent_stop_0_1 from RL_models/SB3_stored_models/all_collected_data/planning/env1_relu/ff3/dv10_dw10_w10_mem3/individual_data_sessions/data_0/heading_info_df/norm_opt_arc/control/agent_stop_0_1 succeeded\n",
      "Stored new combd_heading_df_x_sessions for test data in RL_models/SB3_stored_models/all_collected_data/planning/env1_relu/ff3/dv10_dw10_w10_mem3/combined_data/stop_and_alt/data/combd_heading_info/norm_opt_arc/test/agent_stop_0_1\n",
      "Stored new combd_heading_df_x_sessions for control data in RL_models/SB3_stored_models/all_collected_data/planning/env1_relu/ff3/dv10_dw10_w10_mem3/combined_data/stop_and_alt/data/combd_heading_info/norm_opt_arc/control/agent_stop_0_1\n",
      "Stored new all_median_info in  RL_models/SB3_stored_models/all_collected_data/planning/env1_relu/ff3/dv10_dw10_w10_mem3/combined_data/stop_and_alt/data_comparison/norm_opt_arc/all_median_info\n",
      "Variations saved at: RL_models/SB3_stored_models/all_collected_data/planning/env1_relu/ff3/dv10_dw10_w10_mem3/combined_data/stop_and_alt/data_comparison/norm_opt_arc/overall_all_median_info/window_-50cm_0cm\n",
      "ref_point_mode     time after stop ff visible\n",
      "ref_point_value                       0.00000\n",
      "monkey_name                              None\n",
      "stored                                  False\n",
      "Name: 1, dtype: object\n",
      "Will make new combd_heading_df_x_sessions for the agent because .\n",
      " \n",
      "model_folder_name: RL_models/SB3_stored_models/all_agents/env1_relu/ff3/dv10_dw10_w10_mem3\n",
      "data_name: data_0\n",
      " \n",
      "Getting test heading info control heading info ......\n",
      "Retrieving stop_0_0_window_-50cm_0cm from RL_models/SB3_stored_models/all_collected_data/planning/env1_relu/ff3/dv10_dw10_w10_mem3/individual_data_sessions/data_0/diff_in_curv_df/norm_opt_arc/test/stop_0_0_window_-50cm_0cm succeeded\n",
      "Retrieving agent_stop_0_0 from RL_models/SB3_stored_models/all_collected_data/planning/env1_relu/ff3/dv10_dw10_w10_mem3/individual_data_sessions/data_0/heading_info_df/norm_opt_arc/test/agent_stop_0_0 succeeded\n",
      "Retrieving stop_0_0_window_-50cm_0cm from RL_models/SB3_stored_models/all_collected_data/planning/env1_relu/ff3/dv10_dw10_w10_mem3/individual_data_sessions/data_0/diff_in_curv_df/norm_opt_arc/control/stop_0_0_window_-50cm_0cm succeeded\n",
      "Retrieving agent_stop_0_0 from RL_models/SB3_stored_models/all_collected_data/planning/env1_relu/ff3/dv10_dw10_w10_mem3/individual_data_sessions/data_0/heading_info_df/norm_opt_arc/control/agent_stop_0_0 succeeded\n",
      "Stored new combd_heading_df_x_sessions for test data in RL_models/SB3_stored_models/all_collected_data/planning/env1_relu/ff3/dv10_dw10_w10_mem3/combined_data/stop_and_alt/data/combd_heading_info/norm_opt_arc/test/agent_stop_0_0\n",
      "Stored new combd_heading_df_x_sessions for control data in RL_models/SB3_stored_models/all_collected_data/planning/env1_relu/ff3/dv10_dw10_w10_mem3/combined_data/stop_and_alt/data/combd_heading_info/norm_opt_arc/control/agent_stop_0_0\n",
      "Stored new all_median_info in  RL_models/SB3_stored_models/all_collected_data/planning/env1_relu/ff3/dv10_dw10_w10_mem3/combined_data/stop_and_alt/data_comparison/norm_opt_arc/all_median_info\n",
      "Variations saved at: RL_models/SB3_stored_models/all_collected_data/planning/env1_relu/ff3/dv10_dw10_w10_mem3/combined_data/stop_and_alt/data_comparison/norm_opt_arc/overall_all_median_info/window_-50cm_0cm\n",
      "ref_point_mode      distance\n",
      "ref_point_value   -150.00000\n",
      "monkey_name             None\n",
      "stored                 False\n",
      "Name: 2, dtype: object\n",
      "Will make new combd_heading_df_x_sessions for the agent because .\n",
      " \n",
      "model_folder_name: RL_models/SB3_stored_models/all_agents/env1_relu/ff3/dv10_dw10_w10_mem3\n",
      "data_name: data_0\n",
      " \n",
      "Getting test heading info control heading info ......\n",
      "Retrieving dist_150_window_-50cm_0cm from RL_models/SB3_stored_models/all_collected_data/planning/env1_relu/ff3/dv10_dw10_w10_mem3/individual_data_sessions/data_0/diff_in_curv_df/norm_opt_arc/test/dist_150_window_-50cm_0cm succeeded\n",
      "Retrieving agent_dist_150 from RL_models/SB3_stored_models/all_collected_data/planning/env1_relu/ff3/dv10_dw10_w10_mem3/individual_data_sessions/data_0/heading_info_df/norm_opt_arc/test/agent_dist_150 succeeded\n",
      "Retrieving dist_150_window_-50cm_0cm from RL_models/SB3_stored_models/all_collected_data/planning/env1_relu/ff3/dv10_dw10_w10_mem3/individual_data_sessions/data_0/diff_in_curv_df/norm_opt_arc/control/dist_150_window_-50cm_0cm succeeded\n",
      "Retrieving agent_dist_150 from RL_models/SB3_stored_models/all_collected_data/planning/env1_relu/ff3/dv10_dw10_w10_mem3/individual_data_sessions/data_0/heading_info_df/norm_opt_arc/control/agent_dist_150 succeeded\n",
      "Stored new combd_heading_df_x_sessions for test data in RL_models/SB3_stored_models/all_collected_data/planning/env1_relu/ff3/dv10_dw10_w10_mem3/combined_data/stop_and_alt/data/combd_heading_info/norm_opt_arc/test/agent_dist_150\n",
      "Stored new combd_heading_df_x_sessions for control data in RL_models/SB3_stored_models/all_collected_data/planning/env1_relu/ff3/dv10_dw10_w10_mem3/combined_data/stop_and_alt/data/combd_heading_info/norm_opt_arc/control/agent_dist_150\n",
      "No data in df_1 or df_2. The function make_the_distributions_of_angle_more_similar_in_df is not used.\n",
      "No data in df_1 or df_2. The function make_the_distributions_of_angle_more_similar_in_df is not used.\n",
      "Stored new all_median_info in  RL_models/SB3_stored_models/all_collected_data/planning/env1_relu/ff3/dv10_dw10_w10_mem3/combined_data/stop_and_alt/data_comparison/norm_opt_arc/all_median_info\n",
      "Variations saved at: RL_models/SB3_stored_models/all_collected_data/planning/env1_relu/ff3/dv10_dw10_w10_mem3/combined_data/stop_and_alt/data_comparison/norm_opt_arc/overall_all_median_info/window_-50cm_0cm\n",
      "ref_point_mode      distance\n",
      "ref_point_value   -100.00000\n",
      "monkey_name             None\n",
      "stored                 False\n",
      "Name: 3, dtype: object\n",
      "Will make new combd_heading_df_x_sessions for the agent because .\n",
      " \n",
      "model_folder_name: RL_models/SB3_stored_models/all_agents/env1_relu/ff3/dv10_dw10_w10_mem3\n",
      "data_name: data_0\n",
      " \n",
      "Getting test heading info control heading info ......\n",
      "Retrieving dist_100_window_-50cm_0cm from RL_models/SB3_stored_models/all_collected_data/planning/env1_relu/ff3/dv10_dw10_w10_mem3/individual_data_sessions/data_0/diff_in_curv_df/norm_opt_arc/test/dist_100_window_-50cm_0cm succeeded\n",
      "Retrieving agent_dist_100 from RL_models/SB3_stored_models/all_collected_data/planning/env1_relu/ff3/dv10_dw10_w10_mem3/individual_data_sessions/data_0/heading_info_df/norm_opt_arc/test/agent_dist_100 succeeded\n",
      "Retrieving dist_100_window_-50cm_0cm from RL_models/SB3_stored_models/all_collected_data/planning/env1_relu/ff3/dv10_dw10_w10_mem3/individual_data_sessions/data_0/diff_in_curv_df/norm_opt_arc/control/dist_100_window_-50cm_0cm succeeded\n",
      "Retrieving agent_dist_100 from RL_models/SB3_stored_models/all_collected_data/planning/env1_relu/ff3/dv10_dw10_w10_mem3/individual_data_sessions/data_0/heading_info_df/norm_opt_arc/control/agent_dist_100 succeeded\n",
      "Stored new combd_heading_df_x_sessions for test data in RL_models/SB3_stored_models/all_collected_data/planning/env1_relu/ff3/dv10_dw10_w10_mem3/combined_data/stop_and_alt/data/combd_heading_info/norm_opt_arc/test/agent_dist_100\n",
      "Stored new combd_heading_df_x_sessions for control data in RL_models/SB3_stored_models/all_collected_data/planning/env1_relu/ff3/dv10_dw10_w10_mem3/combined_data/stop_and_alt/data/combd_heading_info/norm_opt_arc/control/agent_dist_100\n",
      "Stored new all_median_info in  RL_models/SB3_stored_models/all_collected_data/planning/env1_relu/ff3/dv10_dw10_w10_mem3/combined_data/stop_and_alt/data_comparison/norm_opt_arc/all_median_info\n",
      "Variations saved at: RL_models/SB3_stored_models/all_collected_data/planning/env1_relu/ff3/dv10_dw10_w10_mem3/combined_data/stop_and_alt/data_comparison/norm_opt_arc/overall_all_median_info/window_-50cm_0cm\n",
      "ref_point_mode     distance\n",
      "ref_point_value   -50.00000\n",
      "monkey_name            None\n",
      "stored                False\n",
      "Name: 4, dtype: object\n",
      "Will make new combd_heading_df_x_sessions for the agent because .\n",
      " \n",
      "model_folder_name: RL_models/SB3_stored_models/all_agents/env1_relu/ff3/dv10_dw10_w10_mem3\n",
      "data_name: data_0\n",
      " \n",
      "Getting test heading info control heading info ......\n",
      "Retrieving dist_50_window_-50cm_0cm from RL_models/SB3_stored_models/all_collected_data/planning/env1_relu/ff3/dv10_dw10_w10_mem3/individual_data_sessions/data_0/diff_in_curv_df/norm_opt_arc/test/dist_50_window_-50cm_0cm succeeded\n",
      "Retrieving agent_dist_50 from RL_models/SB3_stored_models/all_collected_data/planning/env1_relu/ff3/dv10_dw10_w10_mem3/individual_data_sessions/data_0/heading_info_df/norm_opt_arc/test/agent_dist_50 succeeded\n",
      "Retrieving dist_50_window_-50cm_0cm from RL_models/SB3_stored_models/all_collected_data/planning/env1_relu/ff3/dv10_dw10_w10_mem3/individual_data_sessions/data_0/diff_in_curv_df/norm_opt_arc/control/dist_50_window_-50cm_0cm succeeded\n",
      "Retrieving agent_dist_50 from RL_models/SB3_stored_models/all_collected_data/planning/env1_relu/ff3/dv10_dw10_w10_mem3/individual_data_sessions/data_0/heading_info_df/norm_opt_arc/control/agent_dist_50 succeeded\n",
      "Stored new combd_heading_df_x_sessions for test data in RL_models/SB3_stored_models/all_collected_data/planning/env1_relu/ff3/dv10_dw10_w10_mem3/combined_data/stop_and_alt/data/combd_heading_info/norm_opt_arc/test/agent_dist_50\n",
      "Stored new combd_heading_df_x_sessions for control data in RL_models/SB3_stored_models/all_collected_data/planning/env1_relu/ff3/dv10_dw10_w10_mem3/combined_data/stop_and_alt/data/combd_heading_info/norm_opt_arc/control/agent_dist_50\n",
      "Stored new all_median_info in  RL_models/SB3_stored_models/all_collected_data/planning/env1_relu/ff3/dv10_dw10_w10_mem3/combined_data/stop_and_alt/data_comparison/norm_opt_arc/all_median_info\n",
      "Variations saved at: RL_models/SB3_stored_models/all_collected_data/planning/env1_relu/ff3/dv10_dw10_w10_mem3/combined_data/stop_and_alt/data_comparison/norm_opt_arc/overall_all_median_info/window_-50cm_0cm\n",
      " \n",
      "Making all perc info ......\n"
     ]
    }
   ],
   "source": [
    "pfas.streamline_getting_y_values(num_datasets_to_collect=2,\n",
    "                                 intermediate_products_exist_ok=False,\n",
    "                                 agent_data_exists_ok=False)"
   ]
  },
  {
   "cell_type": "markdown",
   "metadata": {},
   "source": [
    "## plot trajectories"
   ]
  },
  {
   "cell_type": "markdown",
   "metadata": {},
   "source": [
    "### monkey"
   ]
  },
  {
   "cell_type": "code",
   "execution_count": null,
   "metadata": {},
   "outputs": [],
   "source": [
    "\n",
    "normalize = False\n",
    "eliminate_outliers = False\n",
    "use_curvature_to_ff_center = False\n",
    "curv_of_traj_mode = 'distance'\n",
    "window_for_curv_of_traj=[-25, 25]\n",
    "raw_data_folder_path = \"all_monkey_data/raw_monkey_data/individual_monkey_data/monkey_Bruno/data_0328\"\n",
    "\n",
    "#data_item_info = find_stops_near_ff_utils.extract_key_info_from_data_item_for_stops_near_ff_based_on_ref_class(data_item)\n",
    "\n",
    "snf = stops_near_ff_based_on_ref_class.StopsNearFFBasedOnRef(raw_data_folder_path=raw_data_folder_path)\n",
    "snf.get_more_monkey_data()\n",
    "snf.traj_curv_descr = 'Traj Curv: From Current Point to Right Before Stop'\n",
    "\n",
    "\n",
    "\n",
    "snf.streamline_organizing_info(ref_point_mode='distance', ref_point_value=-150, \n",
    "                              #ref_point_mode='time after stop ff visible', ref_point_value=0.1, \n",
    "                               curv_of_traj_mode=curv_of_traj_mode, window_for_curv_of_traj=window_for_curv_of_traj, truncate_curv_of_traj_by_time_of_capture=True,\n",
    "                               use_curvature_to_ff_center=use_curvature_to_ff_center,  eliminate_outliers=eliminate_outliers,\n",
    "                               stops_near_ff_df_exists_ok=True)\n",
    "\n",
    "\n",
    "snf.ax_for_corr = snf.find_relationships_from_info(normalize=normalize, show_plot=True)\n",
    "\n",
    "snf.prepare_to_make_plots()"
   ]
  },
  {
   "cell_type": "code",
   "execution_count": null,
   "metadata": {},
   "outputs": [],
   "source": [
    "current_i = 10\n",
    "current_i = snf.make_individual_plots_in_matplotlib(current_i, max_num_plot_to_make = 3)"
   ]
  },
  {
   "cell_type": "markdown",
   "metadata": {},
   "source": [
    "### agent"
   ]
  },
  {
   "cell_type": "code",
   "execution_count": 16,
   "metadata": {},
   "outputs": [],
   "source": [
    "exists_ok = False\n",
    "stops_near_ff_df_exists_ok=exists_ok, heading_info_df_exists_ok=exists_ok"
   ]
  },
  {
   "cell_type": "code",
   "execution_count": null,
   "metadata": {},
   "outputs": [],
   "source": [
    "pfa = agent_plan_factors_class.PlanFactorsOfAgent()\n",
    "# pfa = agent_plan_factors_class.PlanFactorsOfAgent(model_folder_name='RL_models/SB3_stored_models/all_agents/env1_relu/ff3/dv10_dw10_w10_mem3')\n",
    "# pfa = agent_plan_factors_class.PlanFactorsOfAgent(model_folder_name='RL_models/SB3_stored_models/all_agents/env1_test_params/ff3/dv10_dw70_w10_mem3')\n",
    "\n",
    "pfa._initialize_pf()\n",
    "pfa.get_agent_data(exists_ok=False, save_data=False, n_steps=8000)\n",
    "pfa._load_agent_data_onto_pf()"
   ]
  },
  {
   "cell_type": "code",
   "execution_count": null,
   "metadata": {},
   "outputs": [],
   "source": [
    "\n",
    "pfa.pf.streamline_organizing_info()\n",
    "pfa.pf.ax_for_corr = pfa.pf.find_relationships_from_info(normalize=False, show_plot=True)\n",
    "pfa.pf.prepare_to_make_plots()\n",
    "\n"
   ]
  },
  {
   "cell_type": "code",
   "execution_count": null,
   "metadata": {},
   "outputs": [],
   "source": [
    "current_i = 10\n",
    "current_i = pfa.pf.make_individual_plots_in_matplotlib(current_i, max_num_plot_to_make=3)"
   ]
  },
  {
   "cell_type": "markdown",
   "metadata": {},
   "source": [
    "### plotly"
   ]
  },
  {
   "cell_type": "code",
   "execution_count": 216,
   "metadata": {},
   "outputs": [],
   "source": [
    "monkey_plot_params = {\n",
    "    \"show_visible_fireflies\": True,\n",
    "    \"show_in_memory_fireflies\": False,\n",
    "    \"show_monkey_heading\": True,\n",
    "    \"show_visible_segments\": True,\n",
    "    \"show_traj_portion\": False,\n",
    "    \"show_null_arcs_to_ff\": True,\n",
    "    \"show_stops\": True,\n",
    "    \"show_all_eye_positions\": False,\n",
    "    \"show_current_eye_positions\": False,\n",
    "    \"show_eye_positions_for_both_eyes\": False,\n",
    "    \"show_traj_color_as_speed\": False,\n",
    "}"
   ]
  },
  {
   "cell_type": "code",
   "execution_count": null,
   "metadata": {},
   "outputs": [],
   "source": [
    "\n",
    "current_i = 10\n",
    "current_i = pfa.pf.make_individual_plotly_plots(current_i, max_num_plot_to_make=10,\n",
    "                                                **monkey_plot_params \n",
    "                                                )"
   ]
  },
  {
   "cell_type": "markdown",
   "metadata": {},
   "source": [
    "### compare num ff"
   ]
  },
  {
   "cell_type": "code",
   "execution_count": null,
   "metadata": {},
   "outputs": [],
   "source": [
    "dict_of_class_instances = {}\n",
    "for num_ff in range(1, 6):\n",
    "    print(f'ff{num_ff}')\n",
    "    model_folder_name = f'RL_models/SB3_stored_models/all_agents/env1_relu/ff{num_ff}/dv10_dw10_w10_mem3'\n",
    "    pfa = agent_plan_factors_class.PlanFactorsOfAgent(model_folder_name=model_folder_name)\n",
    "    pfa._initialize_pf()\n",
    "    pfa.get_agent_data(exists_ok=True, save_data=False)\n",
    "    pfa._load_agent_data_onto_pf()\n",
    "\n",
    "    pfa.pf.streamline_organizing_info()\n",
    "    pfa.pf.ax_for_corr = pfa.pf.find_relationships_from_info(normalize=False, show_plot=True)\n",
    "    pfa.pf.prepare_to_make_plots()\n",
    "\n",
    "    monkey_plot_params = {\n",
    "        \"show_visible_fireflies\": True,\n",
    "        \"show_in_memory_fireflies\": False,\n",
    "        \"show_monkey_heading\": True,\n",
    "        \"show_visible_segments\": True,\n",
    "        \"show_traj_portion\": False,\n",
    "        \"show_null_arcs_to_ff\": True,\n",
    "        \"show_stops\": True,\n",
    "        \"show_all_eye_positions\": False,\n",
    "        \"show_current_eye_positions\": False,\n",
    "        \"show_eye_positions_for_both_eyes\": False,\n",
    "        \"show_traj_color_as_speed\": False,\n",
    "    }\n",
    "    current_i = pfa.pf.make_individual_plotly_plots(current_i, max_num_plot_to_make=10,\n",
    "                                                    **monkey_plot_params \n",
    "                                                    )\n",
    "    dict_of_class_instances[num_ff] = copy.deepcopy(pfa)"
   ]
  },
  {
   "cell_type": "markdown",
   "metadata": {},
   "source": [
    "### new null arc"
   ]
  },
  {
   "cell_type": "code",
   "execution_count": null,
   "metadata": {},
   "outputs": [],
   "source": [
    "pfa.pf.stop_curv_df.columns"
   ]
  },
  {
   "cell_type": "code",
   "execution_count": null,
   "metadata": {},
   "outputs": [],
   "source": [
    "'curvature_lower_bound',\n",
    "'curvature_upper_bound', 'optimal_curvature',\n",
    "'optimal_arc_end_direction', 'optimal_arc_radius',\n",
    "'curv_diff', 'abs_curv_diff\n",
    "# the above is not changed\n",
    "\n",
    "\n",
    "# but only the below is changed\n",
    "'optimal_arc_measure', 'optimal_arc_length', \n",
    "'optimal_arc_end_x', 'optimal_arc_end_y',\n",
    "'optimal_arc_d_heading'\n"
   ]
  },
  {
   "cell_type": "code",
   "execution_count": 218,
   "metadata": {},
   "outputs": [],
   "source": [
    "heading_info_df = plan_factors_utils.process_heading_info_df(pfa.pf.heading_info_df)"
   ]
  },
  {
   "cell_type": "code",
   "execution_count": null,
   "metadata": {},
   "outputs": [],
   "source": [
    "heading_info_df['diff_in_abs'].median()"
   ]
  },
  {
   "cell_type": "markdown",
   "metadata": {},
   "source": [
    "## plot overall_all_median_info"
   ]
  },
  {
   "cell_type": "markdown",
   "metadata": {},
   "source": [
    "### monkey"
   ]
  },
  {
   "cell_type": "code",
   "execution_count": null,
   "metadata": {},
   "outputs": [],
   "source": [
    "ps = monkey_plan_factors_x_sess_class.PlanAcrossSessions(monkey_name='monkey_Schro')\n",
    "overall_all_median_info = ps.make_or_retrieve_overall_all_median_info()\n",
    "monkey_median_df = overall_all_median_info.copy()"
   ]
  },
  {
   "cell_type": "markdown",
   "metadata": {},
   "source": [
    "### agent"
   ]
  },
  {
   "cell_type": "code",
   "execution_count": 14,
   "metadata": {},
   "outputs": [],
   "source": [
    "overall_all_median_info = pfas.overall_all_median_info.copy()\n",
    "agent_overall_all_median_info = overall_all_median_info"
   ]
  },
  {
   "cell_type": "markdown",
   "metadata": {},
   "source": [
    "### plot"
   ]
  },
  {
   "cell_type": "code",
   "execution_count": 15,
   "metadata": {},
   "outputs": [
    {
     "name": "stdout",
     "output_type": "stream",
     "text": [
      "Columns (among selected ones for examination) that have variations:\n",
      "===================================================\n",
      " \n",
      "test_or_control ['test' 'control']\n",
      "===================================================\n",
      " \n",
      "key_for_split ['ff_seen' 'cluster_seen']\n",
      "===================================================\n",
      " \n",
      "whether_even_out_dist [ True False]\n",
      "===================================================\n",
      " \n",
      "ref_point_value [   0.1    0.  -150.  -100.   -50. ]\n",
      "===================================================\n",
      " \n",
      "if_test_alt_ff_group_appear_after_stop ['ff_must_seen_after_stop' 'flexible' 'ff_no_seen_after_stop'\n",
      " 'cluster_must_seen_after_stop']\n"
     ]
    }
   ],
   "source": [
    "new_overall_all_median_info = process_variations_utils.make_new_df_for_plotly_comparison(overall_all_median_info)"
   ]
  },
  {
   "cell_type": "code",
   "execution_count": 20,
   "metadata": {},
   "outputs": [
    {
     "data": {
      "text/plain": [
       "0.2222222222222222"
      ]
     },
     "execution_count": 20,
     "metadata": {},
     "output_type": "execute_result"
    }
   ],
   "source": [
    "10/45"
   ]
  },
  {
   "cell_type": "code",
   "execution_count": 18,
   "metadata": {},
   "outputs": [
    {
     "name": "stdout",
     "output_type": "stream",
     "text": [
      " \n",
      "=========================================================\n",
      "Current combination of changeable variables: {}\n"
     ]
    },
    {
     "data": {
      "application/vnd.plotly.v1+json": {
       "config": {
        "plotlyServerURL": "https://plot.ly"
       },
       "data": [
        {
         "customdata": [
          [
           "control",
           1124,
           "cluster_seen",
           "cluster_must_seen_after_stop"
          ],
          [
           "control",
           1124,
           "cluster_seen",
           "flexible"
          ],
          [
           "control",
           1371,
           "ff_seen",
           "ff_must_seen_after_stop"
          ],
          [
           "control",
           1369,
           "ff_seen",
           "flexible"
          ]
         ],
         "hovertemplate": "%{customdata[0]} <br>diff_in_abs_50%: %{y}<br>sample_size: %{customdata[1]:.2f}<br>key_for_split: %{customdata[2]:.2f}<br>if_test_alt_ff_group_appear_after_stop: %{customdata[3]:.2f}<br><extra></extra>",
         "line": {
          "color": "orange",
          "width": 1.5
         },
         "marker": {
          "color": "black",
          "line": {
           "width": 1.5
          },
          "opacity": 0.5,
          "size": [
           12.4722592099423,
           12.4722592099423,
           15.213049267643143,
           15.190856635596983
          ],
          "symbol": "line-ew"
         },
         "mode": "markers",
         "name": "control",
         "showlegend": false,
         "type": "scatter",
         "x": [
          -0.1,
          -0.1,
          -0.1,
          -0.1
         ],
         "y": [
          5.070250454227686,
          5.070250454227686,
          5.498087690808901,
          5.597683857100277
         ]
        },
        {
         "customdata": [
          [
           "test",
           4506,
           "cluster_seen",
           "cluster_must_seen_after_stop"
          ],
          [
           "test",
           4506,
           "cluster_seen",
           "flexible"
          ],
          [
           "test",
           4362,
           "ff_seen",
           "ff_must_seen_after_stop"
          ],
          [
           "test",
           4373,
           "ff_seen",
           "flexible"
          ]
         ],
         "hovertemplate": "%{customdata[0]} <br>diff_in_abs_50%: %{y}<br>sample_size: %{customdata[1]:.2f}<br>key_for_split: %{customdata[2]:.2f}<br>if_test_alt_ff_group_appear_after_stop: %{customdata[3]:.2f}<br><extra></extra>",
         "line": {
          "color": "blue",
          "width": 1.5
         },
         "marker": {
          "color": "black",
          "line": {
           "width": 1.5
          },
          "opacity": 0.5,
          "size": [
           50.00000000000001,
           50.00000000000001,
           48.402130492676434,
           48.524189968930315
          ],
          "symbol": "line-ew"
         },
         "mode": "markers",
         "name": "test",
         "showlegend": false,
         "type": "scatter",
         "x": [
          0.1,
          0.1,
          0.1,
          0.1
         ],
         "y": [
          10.93838208570325,
          10.93838208570325,
          11.320549937696136,
          11.222243822212683
         ]
        },
        {
         "customdata": [
          [
           "control",
           1124,
           "cluster_seen",
           "cluster_must_seen_after_stop"
          ],
          [
           "test",
           4506,
           "cluster_seen",
           "cluster_must_seen_after_stop"
          ]
         ],
         "hovertemplate": "%{customdata[0]} <br>diff_in_abs_50%: %{y}<br>sample_size: %{customdata[1]:.2f}<br>key_for_split: %{customdata[2]:.2f}<br>if_test_alt_ff_group_appear_after_stop: %{customdata[3]:.2f}<br><extra></extra>",
         "legendgroup": "green",
         "line": {
          "color": "green",
          "dash": "solid",
          "width": 1
         },
         "marker": {
          "color": "green",
          "opacity": 0.5,
          "size": 10,
          "symbol": "line-ew"
         },
         "mode": "markers+lines",
         "name": "cluster_seen",
         "showlegend": false,
         "type": "scatter",
         "x": [
          -0.1,
          0.1
         ],
         "y": [
          5.070250454227686,
          10.93838208570325
         ]
        },
        {
         "customdata": [
          [
           "control",
           1124,
           "cluster_seen",
           "flexible"
          ],
          [
           "test",
           4506,
           "cluster_seen",
           "flexible"
          ]
         ],
         "hovertemplate": "%{customdata[0]} <br>diff_in_abs_50%: %{y}<br>sample_size: %{customdata[1]:.2f}<br>key_for_split: %{customdata[2]:.2f}<br>if_test_alt_ff_group_appear_after_stop: %{customdata[3]:.2f}<br><extra></extra>",
         "legendgroup": "green",
         "line": {
          "color": "green",
          "dash": "solid",
          "width": 1
         },
         "marker": {
          "color": "green",
          "opacity": 0.5,
          "size": 10,
          "symbol": "line-ew"
         },
         "mode": "markers+lines",
         "name": "cluster_seen",
         "showlegend": false,
         "type": "scatter",
         "x": [
          -0.1,
          0.1
         ],
         "y": [
          5.070250454227686,
          10.93838208570325
         ]
        },
        {
         "customdata": [
          [
           "control",
           1371,
           "ff_seen",
           "ff_must_seen_after_stop"
          ],
          [
           "test",
           4362,
           "ff_seen",
           "ff_must_seen_after_stop"
          ]
         ],
         "hovertemplate": "%{customdata[0]} <br>diff_in_abs_50%: %{y}<br>sample_size: %{customdata[1]:.2f}<br>key_for_split: %{customdata[2]:.2f}<br>if_test_alt_ff_group_appear_after_stop: %{customdata[3]:.2f}<br><extra></extra>",
         "legendgroup": "red",
         "line": {
          "color": "red",
          "dash": "solid",
          "width": 1
         },
         "marker": {
          "color": "red",
          "opacity": 0.5,
          "size": 10,
          "symbol": "line-ew"
         },
         "mode": "markers+lines",
         "name": "ff_seen",
         "showlegend": false,
         "type": "scatter",
         "x": [
          -0.1,
          0.1
         ],
         "y": [
          5.498087690808901,
          11.320549937696136
         ]
        },
        {
         "customdata": [
          [
           "test",
           4373,
           "ff_seen",
           "flexible"
          ],
          [
           "control",
           1369,
           "ff_seen",
           "flexible"
          ]
         ],
         "hovertemplate": "%{customdata[0]} <br>diff_in_abs_50%: %{y}<br>sample_size: %{customdata[1]:.2f}<br>key_for_split: %{customdata[2]:.2f}<br>if_test_alt_ff_group_appear_after_stop: %{customdata[3]:.2f}<br><extra></extra>",
         "legendgroup": "red",
         "line": {
          "color": "red",
          "dash": "solid",
          "width": 1
         },
         "marker": {
          "color": "red",
          "opacity": 0.5,
          "size": 10,
          "symbol": "line-ew"
         },
         "mode": "markers+lines",
         "name": "ff_seen",
         "showlegend": false,
         "type": "scatter",
         "x": [
          0.1,
          -0.1
         ],
         "y": [
          11.222243822212683,
          5.597683857100277
         ]
        },
        {
         "legendgroup": "green",
         "line": {
          "color": "green",
          "dash": "solid",
          "width": 1
         },
         "mode": "lines",
         "name": "cluster_seen",
         "showlegend": false,
         "type": "scatter",
         "visible": true,
         "x": [
          0,
          0
         ],
         "y": [
          0,
          0
         ]
        },
        {
         "legendgroup": "red",
         "line": {
          "color": "red",
          "dash": "solid",
          "width": 1
         },
         "mode": "lines",
         "name": "ff_seen",
         "showlegend": false,
         "type": "scatter",
         "visible": true,
         "x": [
          0,
          0
         ],
         "y": [
          0,
          0
         ]
        },
        {
         "mode": "text",
         "showlegend": false,
         "text": [
          "sample size: 1124.0"
         ],
         "textposition": "bottom center",
         "type": "scatter",
         "x": [
          -0.1
         ],
         "y": [
          5.01954794968541
         ]
        }
       ],
       "layout": {
        "height": 500,
        "template": {
         "data": {
          "bar": [
           {
            "error_x": {
             "color": "#2a3f5f"
            },
            "error_y": {
             "color": "#2a3f5f"
            },
            "marker": {
             "line": {
              "color": "#E5ECF6",
              "width": 0.5
             },
             "pattern": {
              "fillmode": "overlay",
              "size": 10,
              "solidity": 0.2
             }
            },
            "type": "bar"
           }
          ],
          "barpolar": [
           {
            "marker": {
             "line": {
              "color": "#E5ECF6",
              "width": 0.5
             },
             "pattern": {
              "fillmode": "overlay",
              "size": 10,
              "solidity": 0.2
             }
            },
            "type": "barpolar"
           }
          ],
          "carpet": [
           {
            "aaxis": {
             "endlinecolor": "#2a3f5f",
             "gridcolor": "white",
             "linecolor": "white",
             "minorgridcolor": "white",
             "startlinecolor": "#2a3f5f"
            },
            "baxis": {
             "endlinecolor": "#2a3f5f",
             "gridcolor": "white",
             "linecolor": "white",
             "minorgridcolor": "white",
             "startlinecolor": "#2a3f5f"
            },
            "type": "carpet"
           }
          ],
          "choropleth": [
           {
            "colorbar": {
             "outlinewidth": 0,
             "ticks": ""
            },
            "type": "choropleth"
           }
          ],
          "contour": [
           {
            "colorbar": {
             "outlinewidth": 0,
             "ticks": ""
            },
            "colorscale": [
             [
              0,
              "#0d0887"
             ],
             [
              0.1111111111111111,
              "#46039f"
             ],
             [
              0.2222222222222222,
              "#7201a8"
             ],
             [
              0.3333333333333333,
              "#9c179e"
             ],
             [
              0.4444444444444444,
              "#bd3786"
             ],
             [
              0.5555555555555556,
              "#d8576b"
             ],
             [
              0.6666666666666666,
              "#ed7953"
             ],
             [
              0.7777777777777778,
              "#fb9f3a"
             ],
             [
              0.8888888888888888,
              "#fdca26"
             ],
             [
              1,
              "#f0f921"
             ]
            ],
            "type": "contour"
           }
          ],
          "contourcarpet": [
           {
            "colorbar": {
             "outlinewidth": 0,
             "ticks": ""
            },
            "type": "contourcarpet"
           }
          ],
          "heatmap": [
           {
            "colorbar": {
             "outlinewidth": 0,
             "ticks": ""
            },
            "colorscale": [
             [
              0,
              "#0d0887"
             ],
             [
              0.1111111111111111,
              "#46039f"
             ],
             [
              0.2222222222222222,
              "#7201a8"
             ],
             [
              0.3333333333333333,
              "#9c179e"
             ],
             [
              0.4444444444444444,
              "#bd3786"
             ],
             [
              0.5555555555555556,
              "#d8576b"
             ],
             [
              0.6666666666666666,
              "#ed7953"
             ],
             [
              0.7777777777777778,
              "#fb9f3a"
             ],
             [
              0.8888888888888888,
              "#fdca26"
             ],
             [
              1,
              "#f0f921"
             ]
            ],
            "type": "heatmap"
           }
          ],
          "heatmapgl": [
           {
            "colorbar": {
             "outlinewidth": 0,
             "ticks": ""
            },
            "colorscale": [
             [
              0,
              "#0d0887"
             ],
             [
              0.1111111111111111,
              "#46039f"
             ],
             [
              0.2222222222222222,
              "#7201a8"
             ],
             [
              0.3333333333333333,
              "#9c179e"
             ],
             [
              0.4444444444444444,
              "#bd3786"
             ],
             [
              0.5555555555555556,
              "#d8576b"
             ],
             [
              0.6666666666666666,
              "#ed7953"
             ],
             [
              0.7777777777777778,
              "#fb9f3a"
             ],
             [
              0.8888888888888888,
              "#fdca26"
             ],
             [
              1,
              "#f0f921"
             ]
            ],
            "type": "heatmapgl"
           }
          ],
          "histogram": [
           {
            "marker": {
             "pattern": {
              "fillmode": "overlay",
              "size": 10,
              "solidity": 0.2
             }
            },
            "type": "histogram"
           }
          ],
          "histogram2d": [
           {
            "colorbar": {
             "outlinewidth": 0,
             "ticks": ""
            },
            "colorscale": [
             [
              0,
              "#0d0887"
             ],
             [
              0.1111111111111111,
              "#46039f"
             ],
             [
              0.2222222222222222,
              "#7201a8"
             ],
             [
              0.3333333333333333,
              "#9c179e"
             ],
             [
              0.4444444444444444,
              "#bd3786"
             ],
             [
              0.5555555555555556,
              "#d8576b"
             ],
             [
              0.6666666666666666,
              "#ed7953"
             ],
             [
              0.7777777777777778,
              "#fb9f3a"
             ],
             [
              0.8888888888888888,
              "#fdca26"
             ],
             [
              1,
              "#f0f921"
             ]
            ],
            "type": "histogram2d"
           }
          ],
          "histogram2dcontour": [
           {
            "colorbar": {
             "outlinewidth": 0,
             "ticks": ""
            },
            "colorscale": [
             [
              0,
              "#0d0887"
             ],
             [
              0.1111111111111111,
              "#46039f"
             ],
             [
              0.2222222222222222,
              "#7201a8"
             ],
             [
              0.3333333333333333,
              "#9c179e"
             ],
             [
              0.4444444444444444,
              "#bd3786"
             ],
             [
              0.5555555555555556,
              "#d8576b"
             ],
             [
              0.6666666666666666,
              "#ed7953"
             ],
             [
              0.7777777777777778,
              "#fb9f3a"
             ],
             [
              0.8888888888888888,
              "#fdca26"
             ],
             [
              1,
              "#f0f921"
             ]
            ],
            "type": "histogram2dcontour"
           }
          ],
          "mesh3d": [
           {
            "colorbar": {
             "outlinewidth": 0,
             "ticks": ""
            },
            "type": "mesh3d"
           }
          ],
          "parcoords": [
           {
            "line": {
             "colorbar": {
              "outlinewidth": 0,
              "ticks": ""
             }
            },
            "type": "parcoords"
           }
          ],
          "pie": [
           {
            "automargin": true,
            "type": "pie"
           }
          ],
          "scatter": [
           {
            "fillpattern": {
             "fillmode": "overlay",
             "size": 10,
             "solidity": 0.2
            },
            "type": "scatter"
           }
          ],
          "scatter3d": [
           {
            "line": {
             "colorbar": {
              "outlinewidth": 0,
              "ticks": ""
             }
            },
            "marker": {
             "colorbar": {
              "outlinewidth": 0,
              "ticks": ""
             }
            },
            "type": "scatter3d"
           }
          ],
          "scattercarpet": [
           {
            "marker": {
             "colorbar": {
              "outlinewidth": 0,
              "ticks": ""
             }
            },
            "type": "scattercarpet"
           }
          ],
          "scattergeo": [
           {
            "marker": {
             "colorbar": {
              "outlinewidth": 0,
              "ticks": ""
             }
            },
            "type": "scattergeo"
           }
          ],
          "scattergl": [
           {
            "marker": {
             "colorbar": {
              "outlinewidth": 0,
              "ticks": ""
             }
            },
            "type": "scattergl"
           }
          ],
          "scattermapbox": [
           {
            "marker": {
             "colorbar": {
              "outlinewidth": 0,
              "ticks": ""
             }
            },
            "type": "scattermapbox"
           }
          ],
          "scatterpolar": [
           {
            "marker": {
             "colorbar": {
              "outlinewidth": 0,
              "ticks": ""
             }
            },
            "type": "scatterpolar"
           }
          ],
          "scatterpolargl": [
           {
            "marker": {
             "colorbar": {
              "outlinewidth": 0,
              "ticks": ""
             }
            },
            "type": "scatterpolargl"
           }
          ],
          "scatterternary": [
           {
            "marker": {
             "colorbar": {
              "outlinewidth": 0,
              "ticks": ""
             }
            },
            "type": "scatterternary"
           }
          ],
          "surface": [
           {
            "colorbar": {
             "outlinewidth": 0,
             "ticks": ""
            },
            "colorscale": [
             [
              0,
              "#0d0887"
             ],
             [
              0.1111111111111111,
              "#46039f"
             ],
             [
              0.2222222222222222,
              "#7201a8"
             ],
             [
              0.3333333333333333,
              "#9c179e"
             ],
             [
              0.4444444444444444,
              "#bd3786"
             ],
             [
              0.5555555555555556,
              "#d8576b"
             ],
             [
              0.6666666666666666,
              "#ed7953"
             ],
             [
              0.7777777777777778,
              "#fb9f3a"
             ],
             [
              0.8888888888888888,
              "#fdca26"
             ],
             [
              1,
              "#f0f921"
             ]
            ],
            "type": "surface"
           }
          ],
          "table": [
           {
            "cells": {
             "fill": {
              "color": "#EBF0F8"
             },
             "line": {
              "color": "white"
             }
            },
            "header": {
             "fill": {
              "color": "#C8D4E3"
             },
             "line": {
              "color": "white"
             }
            },
            "type": "table"
           }
          ]
         },
         "layout": {
          "annotationdefaults": {
           "arrowcolor": "#2a3f5f",
           "arrowhead": 0,
           "arrowwidth": 1
          },
          "autotypenumbers": "strict",
          "coloraxis": {
           "colorbar": {
            "outlinewidth": 0,
            "ticks": ""
           }
          },
          "colorscale": {
           "diverging": [
            [
             0,
             "#8e0152"
            ],
            [
             0.1,
             "#c51b7d"
            ],
            [
             0.2,
             "#de77ae"
            ],
            [
             0.3,
             "#f1b6da"
            ],
            [
             0.4,
             "#fde0ef"
            ],
            [
             0.5,
             "#f7f7f7"
            ],
            [
             0.6,
             "#e6f5d0"
            ],
            [
             0.7,
             "#b8e186"
            ],
            [
             0.8,
             "#7fbc41"
            ],
            [
             0.9,
             "#4d9221"
            ],
            [
             1,
             "#276419"
            ]
           ],
           "sequential": [
            [
             0,
             "#0d0887"
            ],
            [
             0.1111111111111111,
             "#46039f"
            ],
            [
             0.2222222222222222,
             "#7201a8"
            ],
            [
             0.3333333333333333,
             "#9c179e"
            ],
            [
             0.4444444444444444,
             "#bd3786"
            ],
            [
             0.5555555555555556,
             "#d8576b"
            ],
            [
             0.6666666666666666,
             "#ed7953"
            ],
            [
             0.7777777777777778,
             "#fb9f3a"
            ],
            [
             0.8888888888888888,
             "#fdca26"
            ],
            [
             1,
             "#f0f921"
            ]
           ],
           "sequentialminus": [
            [
             0,
             "#0d0887"
            ],
            [
             0.1111111111111111,
             "#46039f"
            ],
            [
             0.2222222222222222,
             "#7201a8"
            ],
            [
             0.3333333333333333,
             "#9c179e"
            ],
            [
             0.4444444444444444,
             "#bd3786"
            ],
            [
             0.5555555555555556,
             "#d8576b"
            ],
            [
             0.6666666666666666,
             "#ed7953"
            ],
            [
             0.7777777777777778,
             "#fb9f3a"
            ],
            [
             0.8888888888888888,
             "#fdca26"
            ],
            [
             1,
             "#f0f921"
            ]
           ]
          },
          "colorway": [
           "#636efa",
           "#EF553B",
           "#00cc96",
           "#ab63fa",
           "#FFA15A",
           "#19d3f3",
           "#FF6692",
           "#B6E880",
           "#FF97FF",
           "#FECB52"
          ],
          "font": {
           "color": "#2a3f5f"
          },
          "geo": {
           "bgcolor": "white",
           "lakecolor": "white",
           "landcolor": "#E5ECF6",
           "showlakes": true,
           "showland": true,
           "subunitcolor": "white"
          },
          "hoverlabel": {
           "align": "left"
          },
          "hovermode": "closest",
          "mapbox": {
           "style": "light"
          },
          "paper_bgcolor": "white",
          "plot_bgcolor": "#E5ECF6",
          "polar": {
           "angularaxis": {
            "gridcolor": "white",
            "linecolor": "white",
            "ticks": ""
           },
           "bgcolor": "#E5ECF6",
           "radialaxis": {
            "gridcolor": "white",
            "linecolor": "white",
            "ticks": ""
           }
          },
          "scene": {
           "xaxis": {
            "backgroundcolor": "#E5ECF6",
            "gridcolor": "white",
            "gridwidth": 2,
            "linecolor": "white",
            "showbackground": true,
            "ticks": "",
            "zerolinecolor": "white"
           },
           "yaxis": {
            "backgroundcolor": "#E5ECF6",
            "gridcolor": "white",
            "gridwidth": 2,
            "linecolor": "white",
            "showbackground": true,
            "ticks": "",
            "zerolinecolor": "white"
           },
           "zaxis": {
            "backgroundcolor": "#E5ECF6",
            "gridcolor": "white",
            "gridwidth": 2,
            "linecolor": "white",
            "showbackground": true,
            "ticks": "",
            "zerolinecolor": "white"
           }
          },
          "shapedefaults": {
           "line": {
            "color": "#2a3f5f"
           }
          },
          "ternary": {
           "aaxis": {
            "gridcolor": "white",
            "linecolor": "white",
            "ticks": ""
           },
           "baxis": {
            "gridcolor": "white",
            "linecolor": "white",
            "ticks": ""
           },
           "bgcolor": "#E5ECF6",
           "caxis": {
            "gridcolor": "white",
            "linecolor": "white",
            "ticks": ""
           }
          },
          "title": {
           "x": 0.05
          },
          "xaxis": {
           "automargin": true,
           "gridcolor": "white",
           "linecolor": "white",
           "ticks": "",
           "title": {
            "standoff": 15
           },
           "zerolinecolor": "white",
           "zerolinewidth": 2
          },
          "yaxis": {
           "automargin": true,
           "gridcolor": "white",
           "linecolor": "white",
           "ticks": "",
           "title": {
            "standoff": 15
           },
           "zerolinecolor": "white",
           "zerolinewidth": 2
          }
         }
        },
        "title": {
         "text": "REF_POINT_VALUE vs DIFF_IN_ABS_50%"
        },
        "width": 800,
        "xaxis": {
         "ticktext": [
          "0.1"
         ],
         "tickvals": [
          0
         ],
         "title": {
          "text": "ref_point_value"
         }
        },
        "yaxis": {
         "range": [
          4.504222957342879,
          11.886577434580943
         ],
         "title": {
          "text": "diff_in_abs_50%"
         }
        }
       }
      }
     },
     "metadata": {},
     "output_type": "display_data"
    }
   ],
   "source": [
    "x_var_column_list = ['ref_point_value']\n",
    "\n",
    "fixed_variable_values_to_use = {'whether_even_out_dist': True\n",
    "                                # 'max_curv_range': 200,\n",
    "                                # 'whether_filter_info': True,\n",
    "}\n",
    "\n",
    "changeable_variables = []\n",
    "\n",
    "\n",
    "columns_to_find_unique_combinations_for_color = ['key_for_split']\n",
    "columns_to_find_unique_combinations_for_line = []\n",
    "\n",
    "plot_variations_utils.streamline_making_plotly_plot_to_compare_two_sets_of_data(new_overall_all_median_info, \n",
    "                                                            fixed_variable_values_to_use,\n",
    "                                                            changeable_variables,\n",
    "                                                            x_var_column_list,\n",
    "                                                            y_var_column='diff_in_abs_50%',\n",
    "                                                            # var_to_determine_x_offset_direction=None,\n",
    "                                                            var_to_determine_x_offset_direction='test_or_control',\n",
    "                                                            columns_to_find_unique_combinations_for_color=columns_to_find_unique_combinations_for_color,\n",
    "                                                            columns_to_find_unique_combinations_for_line=columns_to_find_unique_combinations_for_line)"
   ]
  },
  {
   "cell_type": "markdown",
   "metadata": {},
   "source": [
    "### compare (monkey and agent)"
   ]
  },
  {
   "cell_type": "code",
   "execution_count": null,
   "metadata": {},
   "outputs": [],
   "source": [
    "both_players_df = compare_monkey_and_agent_utils.make_both_players_df(monkey_median_df, agent_overall_all_median_info)\n",
    "median_new_df = process_variations_utils.make_new_df_for_plotly_comparison(both_players_df, \n",
    "                                                                 match_rows_based_on_ref_columns_only=False)"
   ]
  },
  {
   "cell_type": "code",
   "execution_count": null,
   "metadata": {},
   "outputs": [],
   "source": [
    "x_var_column_list = ['ref_point_value']\n",
    "\n",
    "fixed_variable_values_to_use = {'whether_even_out_dist': True}\n",
    "\n",
    "changeable_variables = []\n",
    "\n",
    "columns_to_find_unique_combinations_for_color = ['monkey_or_agent']\n",
    "columns_to_find_unique_combinations_for_line = []\n",
    "\n",
    "plot_variations_utils.streamline_making_plotly_plot_to_compare_two_sets_of_data(median_new_df, \n",
    "                                                            fixed_variable_values_to_use,\n",
    "                                                            changeable_variables,\n",
    "                                                            x_var_column_list,\n",
    "                                                            y_var_column='diff_in_abs_50%',\n",
    "                                                            var_to_determine_x_offset_direction='test_or_control',\n",
    "                                                            columns_to_find_unique_combinations_for_color=columns_to_find_unique_combinations_for_color,\n",
    "                                                            columns_to_find_unique_combinations_for_line=columns_to_find_unique_combinations_for_line)\n"
   ]
  },
  {
   "cell_type": "markdown",
   "metadata": {},
   "source": [
    "## all_perc_info"
   ]
  },
  {
   "cell_type": "markdown",
   "metadata": {},
   "source": [
    "### monkey"
   ]
  },
  {
   "cell_type": "code",
   "execution_count": null,
   "metadata": {},
   "outputs": [],
   "source": [
    "ps = monkey_plan_factors_x_sess_class.PlanAcrossSessions(monkey_name='monkey_Schro')\n",
    "all_perc_info = ps.make_or_retrieve_all_perc_info()\n",
    "monkey_perc_df = all_perc_info.copy()"
   ]
  },
  {
   "cell_type": "markdown",
   "metadata": {},
   "source": [
    "### agent"
   ]
  },
  {
   "cell_type": "code",
   "execution_count": null,
   "metadata": {},
   "outputs": [],
   "source": [
    "agent_all_perc_info = all_perc_info.copy()\n"
   ]
  },
  {
   "cell_type": "markdown",
   "metadata": {},
   "source": [
    "### plot"
   ]
  },
  {
   "cell_type": "code",
   "execution_count": null,
   "metadata": {},
   "outputs": [],
   "source": [
    "new_perc_df = process_variations_utils.make_new_df_for_plotly_comparison(all_perc_info, \n",
    "                                                                 match_rows_based_on_ref_columns_only=False)"
   ]
  },
  {
   "cell_type": "code",
   "execution_count": null,
   "metadata": {},
   "outputs": [],
   "source": [
    "x_var_column_list = ['key_for_split']\n",
    "\n",
    "fixed_variable_values_to_use = {'if_test_alt_ff_group_appear_after_stop': 'flexible',\n",
    "}\n",
    "\n",
    "changeable_variables = []\n",
    "\n",
    "columns_to_find_unique_combinations_for_color = ['whether_even_out_dist']\n",
    "\n",
    "plot_variations_utils.streamline_making_plotly_plot_to_compare_two_sets_of_data(new_perc_df, \n",
    "                                                            fixed_variable_values_to_use,\n",
    "                                                            changeable_variables,\n",
    "                                                            x_var_column_list,\n",
    "                                                            y_var_column='perc',\n",
    "                                                            var_to_determine_x_offset_direction='test_or_control',\n",
    "                                                            columns_to_find_unique_combinations_for_color=columns_to_find_unique_combinations_for_color)"
   ]
  },
  {
   "cell_type": "markdown",
   "metadata": {},
   "source": [
    "### compare (monkey and agent)"
   ]
  },
  {
   "cell_type": "code",
   "execution_count": null,
   "metadata": {},
   "outputs": [],
   "source": [
    "both_players_df = compare_monkey_and_agent_utils.make_both_players_df(monkey_perc_df, agent_all_perc_info)\n",
    "perc_new_df = process_variations_utils.make_new_df_for_plotly_comparison(both_players_df, \n",
    "                                                                 match_rows_based_on_ref_columns_only=False)"
   ]
  },
  {
   "cell_type": "code",
   "execution_count": null,
   "metadata": {},
   "outputs": [],
   "source": [
    "x_var_column_list = ['key_for_split']\n",
    "\n",
    "fixed_variable_values_to_use = {'whether_even_out_dist': True}\n",
    "\n",
    "changeable_variables = [] #'ref_point_value'\n",
    "\n",
    "columns_to_find_unique_combinations_for_color = ['monkey_or_agent']\n",
    "columns_to_find_unique_combinations_for_line = []\n",
    "\n",
    "plot_variations_utils.streamline_making_plotly_plot_to_compare_two_sets_of_data(perc_new_df, \n",
    "                                                            fixed_variable_values_to_use,\n",
    "                                                            changeable_variables,\n",
    "                                                            x_var_column_list,\n",
    "                                                            y_var_column='perc',\n",
    "                                                            var_to_determine_x_offset_direction='test_or_control',\n",
    "                                                            columns_to_find_unique_combinations_for_color=columns_to_find_unique_combinations_for_color,\n",
    "                                                            columns_to_find_unique_combinations_for_line=columns_to_find_unique_combinations_for_line)\n"
   ]
  },
  {
   "cell_type": "markdown",
   "metadata": {},
   "source": [
    "# Across agents"
   ]
  },
  {
   "cell_type": "markdown",
   "metadata": {},
   "source": [
    "## get agent data"
   ]
  },
  {
   "cell_type": "code",
   "execution_count": 2,
   "metadata": {},
   "outputs": [],
   "source": [
    "overall_folder_name = 'RL_models/SB3_stored_models/all_agents/env1_relu'"
   ]
  },
  {
   "cell_type": "code",
   "execution_count": 2,
   "metadata": {},
   "outputs": [],
   "source": [
    "overall_folder_name = 'RL_models/SB3_stored_models/all_agents/env1_test_params'"
   ]
  },
  {
   "cell_type": "code",
   "execution_count": null,
   "metadata": {},
   "outputs": [],
   "source": [
    "gc.collect()"
   ]
  },
  {
   "cell_type": "code",
   "execution_count": 3,
   "metadata": {},
   "outputs": [],
   "source": [
    "monkey_plot_params = {\n",
    "    \"show_visible_fireflies\": True,\n",
    "    \"show_in_memory_fireflies\": False,\n",
    "    \"show_monkey_heading\": True,\n",
    "    \"show_visible_segments\": True,\n",
    "    \"show_traj_portion\": False,\n",
    "    \"show_null_arcs_to_ff\": True,\n",
    "    \"show_stops\": True,\n",
    "    \"show_all_eye_positions\": False,\n",
    "    \"show_current_eye_positions\": False,\n",
    "    \"show_eye_positions_for_both_eyes\": False,\n",
    "    \"show_traj_color_as_speed\": False,\n",
    "}"
   ]
  },
  {
   "cell_type": "code",
   "execution_count": null,
   "metadata": {},
   "outputs": [],
   "source": [
    "pfaa =agent_plan_factors_x_agents_class.PlanFactorsAcrossAgents(overall_folder_name=overall_folder_name)\n",
    "pfaa.make_overall_all_median_info_across_agents_AND_all_perc_info_across_agents(exists_ok=True,\n",
    "                                                                                intermediate_products_exist_ok=True,\n",
    "                                                                                agent_data_exists_ok=True,\n",
    "                                                                                )\n",
    "overall_all_median_info_across_agents = pfaa.overall_all_median_info_across_agents.copy()\n",
    "all_perc_info_across_agents = pfaa.all_perc_info_across_agents.copy()\n"
   ]
  },
  {
   "cell_type": "markdown",
   "metadata": {},
   "source": [
    "## get monkey data"
   ]
  },
  {
   "cell_type": "code",
   "execution_count": null,
   "metadata": {},
   "outputs": [],
   "source": [
    "ps = monkey_plan_factors_x_sess_class.PlanAcrossSessions(monkey_name='monkey_Bruno')\n",
    "overall_all_median_info = ps.make_or_retrieve_overall_all_median_info()\n",
    "monkey_median_df = overall_all_median_info.copy()\n",
    "\n",
    "all_perc_info = ps.make_or_retrieve_all_perc_info()\n",
    "\n",
    "monkey_perc_df = all_perc_info.copy()"
   ]
  },
  {
   "cell_type": "markdown",
   "metadata": {},
   "source": [
    "# compare agent and monkey"
   ]
  },
  {
   "cell_type": "markdown",
   "metadata": {},
   "source": [
    "## plot overall_all_median_info_across_agents"
   ]
  },
  {
   "cell_type": "code",
   "execution_count": null,
   "metadata": {},
   "outputs": [],
   "source": [
    "monkey_median_df['id'] = 'monkey'\n",
    "temp_overall_all_median_info_across_agents = pd.concat([overall_all_median_info_across_agents, monkey_median_df], axis=0)\n",
    "# drop columns with na in temp_overall_all_median_info_across_agents\n",
    "temp_overall_all_median_info_across_agents = temp_overall_all_median_info_across_agents.dropna(axis=1, how='any')\n",
    "\n",
    "temp_overall_all_median_info_across_agents = temp_overall_all_median_info_across_agents[temp_overall_all_median_info_across_agents['id'].isin(['monkey', 'ff3_mem3_costT'])]\n",
    "temp_overall_all_median_info_across_agents.loc[temp_overall_all_median_info_across_agents['id']=='ff3_mem3_costT', 'id'] = 'agent'\n",
    "\n",
    "new_overall_all_median_info_across_agents = process_variations_utils.make_new_df_for_plotly_comparison(temp_overall_all_median_info_across_agents)"
   ]
  },
  {
   "cell_type": "code",
   "execution_count": null,
   "metadata": {},
   "outputs": [],
   "source": [
    "x_var_column_list = ['ref_point_value']\n",
    "\n",
    "fixed_variable_values_to_use = {\n",
    "                                #'whether_even_out_dist': True,\n",
    "                                'key_for_split': 'cluster_seen',\n",
    "                                'if_test_alt_ff_group_appear_after_stop': 'flexible',\n",
    "                                # 'max_curv_range': 200,\n",
    "                                # 'whether_filter_info': True,\n",
    "}\n",
    "\n",
    "changeable_variables = ['whether_even_out_dist']\n",
    "\n",
    "columns_to_find_unique_combinations_for_color = ['id']\n",
    "columns_to_find_unique_combinations_for_line = []\n",
    "\n",
    "\n",
    "plot_variations_utils.streamline_making_plotly_plot_to_compare_two_sets_of_data(new_overall_all_median_info_across_agents, \n",
    "                                                            fixed_variable_values_to_use,\n",
    "                                                            changeable_variables,\n",
    "                                                            x_var_column_list,\n",
    "                                                            y_var_column='diff_in_abs_50%',\n",
    "                                                            #var_to_determine_x_offset_direction=None,\n",
    "                                                            var_to_determine_x_offset_direction='test_or_control',\n",
    "                                                            columns_to_find_unique_combinations_for_color=columns_to_find_unique_combinations_for_color,\n",
    "                                                            columns_to_find_unique_combinations_for_line=columns_to_find_unique_combinations_for_line)"
   ]
  },
  {
   "cell_type": "markdown",
   "metadata": {},
   "source": [
    "## plot all_agent_perc_df"
   ]
  },
  {
   "cell_type": "code",
   "execution_count": null,
   "metadata": {},
   "outputs": [],
   "source": [
    "monkey_perc_df['id'] = 'monkey'\n",
    "temp_all_perc_info_across_agents = pd.concat([all_perc_info_across_agents, monkey_perc_df], axis=0)\n",
    "\n",
    "temp_all_perc_info_across_agents = temp_all_perc_info_across_agents.dropna(axis=1, how='any')\n",
    "\n",
    "temp_all_perc_info_across_agents = temp_all_perc_info_across_agents[temp_all_perc_info_across_agents['id'].isin(['monkey', 'ff3_mem3_costT'])]\n",
    "temp_all_perc_info_across_agents.loc[temp_all_perc_info_across_agents['id']=='ff3_mem3_costT', 'id'] = 'agent'\n",
    "\n",
    "new_all_perc_info_across_agents = process_variations_utils.make_new_df_for_plotly_comparison(temp_all_perc_info_across_agents, \n",
    "                                                                 match_rows_based_on_ref_columns_only=False)"
   ]
  },
  {
   "cell_type": "code",
   "execution_count": null,
   "metadata": {},
   "outputs": [],
   "source": [
    "x_var_column_list = ['whether_even_out_dist']\n",
    "\n",
    "fixed_variable_values_to_use = {'if_test_alt_ff_group_appear_after_stop': 'flexible',\n",
    "                                'key_for_split': 'ff_seen',\n",
    "                                #'whether_even_out_dist': True,\n",
    "}\n",
    "\n",
    "changeable_variables = []\n",
    "\n",
    "columns_to_find_unique_combinations_for_color = ['id']\n",
    "\n",
    "plot_variations_utils.streamline_making_plotly_plot_to_compare_two_sets_of_data(new_all_perc_info_across_agents, \n",
    "                                                            fixed_variable_values_to_use,\n",
    "                                                            changeable_variables,\n",
    "                                                            x_var_column_list,\n",
    "                                                            y_var_column='perc',\n",
    "                                                            var_to_determine_x_offset_direction='test_or_control',\n",
    "                                                            columns_to_find_unique_combinations_for_color=columns_to_find_unique_combinations_for_color)"
   ]
  },
  {
   "cell_type": "markdown",
   "metadata": {},
   "source": [
    "# compare agents"
   ]
  },
  {
   "cell_type": "markdown",
   "metadata": {},
   "source": [
    "## plot all_agent_median_df"
   ]
  },
  {
   "cell_type": "markdown",
   "metadata": {},
   "source": [
    "### env1_relu"
   ]
  },
  {
   "cell_type": "code",
   "execution_count": null,
   "metadata": {},
   "outputs": [],
   "source": [
    "only_agent_overall_all_median_info = process_variations_utils.make_new_df_for_plotly_comparison(overall_all_median_info_across_agents)"
   ]
  },
  {
   "cell_type": "code",
   "execution_count": null,
   "metadata": {},
   "outputs": [],
   "source": [
    "\n",
    "x_var_column_list = ['num_obs_ff']\n",
    "\n",
    "fixed_variable_values_to_use = {\n",
    "                                #'whether_even_out_dist': True,\n",
    "                                'key_for_split': 'cluster_seen',\n",
    "                                'if_test_alt_ff_group_appear_after_stop': 'flexible',\n",
    "                                #'max_in_memory_time': 3,\n",
    "                                #'whether_with_cost': 'no_cost',\n",
    "                                # 'max_curv_range': 200,\n",
    "                                # 'whether_filter_info': True,\n",
    "}\n",
    "\n",
    "changeable_variables = ['ref_point_value', 'whether_even_out_dist', 'whether_with_cost']\n",
    "\n",
    "columns_to_find_unique_combinations_for_color = ['max_in_memory_time']\n",
    "columns_to_find_unique_combinations_for_line = []\n",
    "\n",
    "\n",
    "plot_variations_utils.streamline_making_plotly_plot_to_compare_two_sets_of_data(only_agent_overall_all_median_info, \n",
    "                                                            fixed_variable_values_to_use,\n",
    "                                                            changeable_variables,\n",
    "                                                            x_var_column_list,\n",
    "                                                            y_var_column='diff_in_abs_50%',\n",
    "                                                            #var_to_determine_x_offset_direction=None,\n",
    "                                                            var_to_determine_x_offset_direction='test_or_control',\n",
    "                                                            columns_to_find_unique_combinations_for_color=columns_to_find_unique_combinations_for_color,\n",
    "                                                            columns_to_find_unique_combinations_for_line=columns_to_find_unique_combinations_for_line)"
   ]
  },
  {
   "cell_type": "markdown",
   "metadata": {},
   "source": [
    "### env1_test_params"
   ]
  },
  {
   "cell_type": "code",
   "execution_count": 4,
   "metadata": {},
   "outputs": [],
   "source": [
    "overall_folder_name = 'RL_models/SB3_stored_models/all_agents/env1_test_params'"
   ]
  },
  {
   "cell_type": "code",
   "execution_count": 5,
   "metadata": {},
   "outputs": [],
   "source": [
    "monkey_plot_params = {\n",
    "    \"show_visible_fireflies\": True,\n",
    "    \"show_in_memory_fireflies\": False,\n",
    "    \"show_monkey_heading\": True,\n",
    "    \"show_visible_segments\": True,\n",
    "    \"show_traj_portion\": False,\n",
    "    \"show_null_arcs_to_ff\": True,\n",
    "    \"show_stops\": True,\n",
    "    \"show_all_eye_positions\": False,\n",
    "    \"show_current_eye_positions\": False,\n",
    "    \"show_eye_positions_for_both_eyes\": False,\n",
    "    \"show_traj_color_as_speed\": False,\n",
    "}"
   ]
  },
  {
   "cell_type": "code",
   "execution_count": 7,
   "metadata": {},
   "outputs": [],
   "source": [
    "pfaa =agent_plan_factors_x_agents_class.PlanFactorsAcrossAgents(overall_folder_name=overall_folder_name)\n",
    "pfaa.make_overall_all_median_info_across_agents_AND_all_perc_info_across_agents(exists_ok=True,\n",
    "                                                                                intermediate_products_exist_ok=True,\n",
    "                                                                                agent_data_exists_ok=True,\n",
    "                                                                                )\n",
    "overall_all_median_info_across_agents = pfaa.overall_all_median_info_across_agents.copy()\n",
    "all_perc_info_across_agents = pfaa.all_perc_info_across_agents.copy()\n"
   ]
  },
  {
   "cell_type": "code",
   "execution_count": null,
   "metadata": {},
   "outputs": [],
   "source": [
    "only_agent_overall_all_median_info = process_variations_utils.make_new_df_for_plotly_comparison(overall_all_median_info_across_agents)"
   ]
  },
  {
   "cell_type": "code",
   "execution_count": null,
   "metadata": {},
   "outputs": [],
   "source": [
    "\n",
    "x_var_column_list = ['dw_cost_factor']\n",
    "\n",
    "fixed_variable_values_to_use = {\n",
    "                                #'whether_even_out_dist': True,\n",
    "                                'key_for_split': 'cluster_seen',\n",
    "                                'if_test_alt_ff_group_appear_after_stop': 'flexible',\n",
    "                                #'max_in_memory_time': 3,\n",
    "                                #'whether_with_cost': 'no_cost',\n",
    "                                # 'max_curv_range': 200,\n",
    "                                # 'whether_filter_info': True,\n",
    "}\n",
    "\n",
    "changeable_variables = ['ref_point_value', 'whether_even_out_dist']\n",
    "\n",
    "columns_to_find_unique_combinations_for_color = ['num_obs_ff']\n",
    "columns_to_find_unique_combinations_for_line = []\n",
    "\n",
    "\n",
    "plot_variations_utils.streamline_making_plotly_plot_to_compare_two_sets_of_data(only_agent_overall_all_median_info, \n",
    "                                                            fixed_variable_values_to_use,\n",
    "                                                            changeable_variables,\n",
    "                                                            x_var_column_list,\n",
    "                                                            y_var_column='diff_in_abs_50%',\n",
    "                                                            #var_to_determine_x_offset_direction=None,\n",
    "                                                            var_to_determine_x_offset_direction='test_or_control',\n",
    "                                                            columns_to_find_unique_combinations_for_color=columns_to_find_unique_combinations_for_color,\n",
    "                                                            columns_to_find_unique_combinations_for_line=columns_to_find_unique_combinations_for_line)"
   ]
  },
  {
   "cell_type": "markdown",
   "metadata": {},
   "source": [
    "## plot all_perc_info_across_agents"
   ]
  },
  {
   "cell_type": "code",
   "execution_count": null,
   "metadata": {},
   "outputs": [],
   "source": [
    "only_agent_all_perc_info = process_variations_utils.make_new_df_for_plotly_comparison(all_perc_info_across_agents, \n",
    "                                                                 match_rows_based_on_ref_columns_only=False)"
   ]
  },
  {
   "cell_type": "code",
   "execution_count": null,
   "metadata": {},
   "outputs": [],
   "source": [
    "x_var_column_list = ['dw_cost_factor']\n",
    "\n",
    "fixed_variable_values_to_use = {'if_test_alt_ff_group_appear_after_stop': 'flexible',\n",
    "                                'key_for_split': 'ff_seen',\n",
    "                                'whether_even_out_dist': True,\n",
    "}\n",
    "\n",
    "changeable_variables = []\n",
    "\n",
    "columns_to_find_unique_combinations_for_color = ['max_in_memory_time']\n",
    "columns_to_find_unique_combinations_for_line = []\n",
    "\n",
    "\n",
    "plot_variations_utils.streamline_making_plotly_plot_to_compare_two_sets_of_data(only_agent_all_perc_info, \n",
    "                                                            fixed_variable_values_to_use,\n",
    "                                                            changeable_variables,\n",
    "                                                            x_var_column_list,\n",
    "                                                            y_var_column='perc',\n",
    "                                                            var_to_determine_x_offset_direction='test_or_control',\n",
    "                                                            columns_to_find_unique_combinations_for_color=columns_to_find_unique_combinations_for_color)"
   ]
  },
  {
   "cell_type": "code",
   "execution_count": null,
   "metadata": {},
   "outputs": [],
   "source": [
    "only_agent_all_perc_info['id'].unique()"
   ]
  },
  {
   "cell_type": "code",
   "execution_count": null,
   "metadata": {},
   "outputs": [],
   "source": [
    "x_var_column_list = ['num_obs_ff']\n",
    "\n",
    "fixed_variable_values_to_use = {'if_test_alt_ff_group_appear_after_stop': 'flexible',\n",
    "                                'key_for_split': 'ff_seen',\n",
    "                                'whether_even_out_dist': True,\n",
    "}\n",
    "\n",
    "changeable_variables = ['whether_with_cost']\n",
    "\n",
    "columns_to_find_unique_combinations_for_color = ['max_in_memory_time']\n",
    "columns_to_find_unique_combinations_for_line = []\n",
    "\n",
    "\n",
    "plot_variations_utils.streamline_making_plotly_plot_to_compare_two_sets_of_data(only_agent_all_perc_info, \n",
    "                                                            fixed_variable_values_to_use,\n",
    "                                                            changeable_variables,\n",
    "                                                            x_var_column_list,\n",
    "                                                            y_var_column='perc',\n",
    "                                                            var_to_determine_x_offset_direction='test_or_control',\n",
    "                                                            columns_to_find_unique_combinations_for_color=columns_to_find_unique_combinations_for_color)"
   ]
  },
  {
   "cell_type": "markdown",
   "metadata": {},
   "source": [
    "# For debugging"
   ]
  },
  {
   "cell_type": "code",
   "execution_count": null,
   "metadata": {},
   "outputs": [],
   "source": [
    "ref_point_value = 0.1\n",
    "ff_info = la.stop_ff_df\n",
    "point_index_stop_ff_first_seen = la.stop_ff_df['point_index_ff_first_seen'].values        \n",
    "all_time = la.monkey_information.loc[point_index_stop_ff_first_seen, 'time'].values + ref_point_value\n",
    "new_point_index = np.searchsorted(la.monkey_information['monkey_t'].values, all_time, side='right') - 1\n",
    "ff_info2 = find_stops_near_ff_utils.find_ff_info(ff_info.ff_index.values, new_point_index, la.monkey_information, la.ff_real_position_sorted)\n",
    "ff_info2['stop_point_index'] = ff_info['stop_point_index'].values"
   ]
  },
  {
   "cell_type": "code",
   "execution_count": null,
   "metadata": {},
   "outputs": [],
   "source": [
    "values = la.monkey_information.loc[point_index_stop_ff_first_seen, 'time'].values + ref_point_value"
   ]
  },
  {
   "cell_type": "code",
   "execution_count": null,
   "metadata": {},
   "outputs": [],
   "source": [
    "\n",
    "# pfaa.pfas.pfa.pf.streamline_organizing_info()\n",
    "pfaa.pfas.pfa.pf._add_curvature_info()\n",
    "pfaa.pfas.pfa.pf._add_d_heading_info()\n",
    "\n",
    "\n",
    "pfaa.pfas.pfa.pf._take_out_info_counted()\n",
    "pfaa.pfas.pfa.pf._find_curv_of_traj_counted()\n",
    "pfaa.pfas.pfa.pf.find_relative_curvature()\n",
    "\n",
    "pfaa.pfas.pfa.pf.alt_and_stop_ff_df = pfaa.pfas.pfa.pf._make_alt_and_stop_ff_df()\n",
    "pfaa.pfas.pfa.pf.heading_info_df, _ = pfaa.pfas.pfa.pf._make_heading_info_df()\n",
    "\n",
    "# pfaa.pfas.pfa.pf._find_relative_heading_info()\n",
    "# below is more for plotting\n",
    "pfaa.pfas.pfa.pf._find_mheading_before_stop()\n",
    "pfaa.pfas.pfa.pf.ax_for_corr = pfaa.pfas.pfa.pf.find_relationships_from_info(normalize=False, show_plot=True)\n",
    "pfaa.pfas.pfa.pf.prepare_to_make_plots()\n",
    "\n",
    "current_i = 10\n",
    "current_i = pfaa.pfas.pfa.pf.make_individual_plotly_plots(current_i, max_num_plot_to_make=10,\n",
    "                                        **monkey_plot_params \n",
    "                                        )"
   ]
  },
  {
   "cell_type": "code",
   "execution_count": null,
   "metadata": {},
   "outputs": [],
   "source": [
    "current_i = 1476\n",
    "current_i = pfaa.pfas.pfa.pf.make_individual_plotly_plots(current_i, max_num_plot_to_make=1,\n",
    "                                        **monkey_plot_params \n",
    "                                        )"
   ]
  }
 ],
 "metadata": {
  "kernelspec": {
   "display_name": "Python 3",
   "language": "python",
   "name": "python3"
  },
  "language_info": {
   "codemirror_mode": {
    "name": "ipython",
    "version": 3
   },
   "file_extension": ".py",
   "mimetype": "text/x-python",
   "name": "python",
   "nbconvert_exporter": "python",
   "pygments_lexer": "ipython3",
   "version": "3.9.19"
  }
 },
 "nbformat": 4,
 "nbformat_minor": 2
}
