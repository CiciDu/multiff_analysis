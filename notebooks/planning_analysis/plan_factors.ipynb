{
 "cells": [
  {
   "cell_type": "markdown",
   "metadata": {},
   "source": [
    "# Install packages"
   ]
  },
  {
   "cell_type": "code",
   "execution_count": null,
   "metadata": {},
   "outputs": [],
   "source": [
    "from google.colab import drive # import drive from google colab\n",
    "drive.mount(\"/content/drive\") \n",
    "!pip install neo\n",
    "!pip install matplotlib_scalebar\n",
    "!pip install ffmpeg\n",
    "!pip install Ipython --upgrade\n",
    "%load_ext autoreload\n",
    "%autoreload 2"
   ]
  },
  {
   "cell_type": "markdown",
   "metadata": {},
   "source": [
    "# Import packages"
   ]
  },
  {
   "cell_type": "code",
   "execution_count": null,
   "metadata": {},
   "outputs": [],
   "source": [
    "# # if using google drive\n",
    "# %cd /content/drive/MyDrive/ff_repo/Multifirefly-Project"
   ]
  },
  {
   "cell_type": "code",
   "execution_count": 1,
   "metadata": {},
   "outputs": [
    {
     "name": "stdout",
     "output_type": "stream",
     "text": [
      "/Users/dusiyi/Documents/Multifirefly-Project\n"
     ]
    }
   ],
   "source": [
    "%cd /Users/dusiyi/Documents/Multifirefly-Project\n",
    "%load_ext autoreload\n",
    "%autoreload 2\n",
    "\n",
    "import sys\n",
    "\n",
    "\n",
    "from data_wrangling import basic_func, process_raw_data, base_processing_class, monkey_data_classes, combine_info_utils\n",
    "from pattern_discovery import pattern_by_trials, pattern_by_points, make_ff_dataframe, ff_dataframe_utils, pattern_by_trials, pattern_by_points, cluster_analysis, organize_patterns_and_features, category_class, cluster_analysis\n",
    "from decision_making_analysis.decision_making import decision_making_class, decision_making_utils, plot_decision_making, intended_targets_classes\n",
    "from decision_making_analysis.GUAT import GUAT_helper_class, GUAT_collect_info_class, GUAT_combine_info_class, process_GUAT_trials_class, GUAT_and_TAFT\n",
    "from decision_making_analysis import free_selection, replacement, trajectory_info\n",
    "from null_behaviors import show_null_trajectory, find_best_arc, curvature_utils, curvature_class, curv_of_traj_utils\n",
    "from machine_learning import machine_learning_utils, hyperparameter_tuning_class\n",
    "from machine_learning.RL.env_related import env_for_lstm, env_utils, base_env, collect_agent_data_utils\n",
    "from machine_learning.RL.lstm import GRU_functions, LSTM_functions\n",
    "from machine_learning.RL.SB3 import interpret_neural_network, sb3_for_multiff_class, rl_for_multiff_utils, SB3_functions\n",
    "from visualization import plot_trials, animation_func, plot_behaviors_utils, monkey_heading_functions\n",
    "from planning_analysis.test_params_for_planning import params_test_combos_class, params_utils\n",
    "from visualization.plotly_tools import plotly_for_monkey, plotly_for_scatterplot, plotly_preparation, plotly_for_correlation\n",
    "from visualization.dash_tools import dash_prep_class, dash_utils, dash_utils, dash_comparison_class, dash_params_class\n",
    "from visualization.dash_tools.dash_main_class_methods import dash_main_class\n",
    "from non_behavioral_analysis import neural_data_processing\n",
    "from non_behavioral_analysis.planning_neural import planning_neural_class\n",
    "from planning_analysis.only_stop_ff import only_stop_ff_utils, only_stop_ff_class, only_stop_ff_utils\n",
    "from planning_analysis.plan_factors import plan_factors_utils, plan_factors_class, monkey_plan_factors_x_sess_class\n",
    "from planning_analysis.agent_analysis import compare_monkey_and_agent_utils, agent_plan_factors_class, agent_plan_factors_x_sess_class\n",
    "from planning_analysis.plan_factors import test_vs_control_utils\n",
    "from planning_analysis.variations_of_factors_vs_results import make_variations_utils, plot_variations_utils, process_variations_utils\n",
    "from planning_analysis.show_planning import alt_ff_utils, show_planning_class, show_planning_utils, examine_null_arcs\n",
    "from planning_analysis.show_planning.get_stops_near_ff import find_stops_near_ff_class, find_stops_near_ff_utils, plot_stops_near_ff_class, plot_stops_near_ff_utils, plot_monkey_heading_helper_class, stops_near_ff_based_on_ref_class\n",
    "from planning_analysis import ml_methods_class, ml_methods_utils\n",
    "\n",
    "from importlib import reload\n",
    "from non_behavioral_analysis import eye_positions\n",
    "import os\n",
    "import numpy as np\n",
    "import matplotlib\n",
    "import matplotlib.pyplot as plt\n",
    "from sklearn.ensemble import BaggingRegressor, AdaBoostRegressor, RandomForestRegressor\n",
    "from sklearn.preprocessing import PolynomialFeatures\n",
    "from sklearn.linear_model import LinearRegression\n",
    "from matplotlib import cm\n",
    "from os.path import exists\n",
    "import seaborn as sns\n",
    "import math\n",
    "import copy\n",
    "import matplotlib.pyplot as plt\n",
    "import pandas as pd\n",
    "import torch\n",
    "import torch.nn as nn\n",
    "import torch.optim as optim\n",
    "import tqdm\n",
    "import itertools\n",
    "import plotly.express as px\n",
    "from scipy.stats import rankdata\n",
    "from scipy import stats\n",
    "from IPython.display import HTML\n",
    "from matplotlib import rc\n",
    "from sklearn.model_selection import train_test_split\n",
    "from sklearn.preprocessing import OneHotEncoder\n",
    "from sklearn.datasets import make_multilabel_classification\n",
    "from sklearn.model_selection import train_test_split\n",
    "from sklearn.multioutput import MultiOutputClassifier\n",
    "from sklearn.neighbors import KNeighborsClassifier\n",
    "from sklearn.metrics import accuracy_score, hamming_loss, multilabel_confusion_matrix, fbeta_score, precision_score, recall_score\n",
    "from sklearn.svm import SVC\n",
    "from sklearn.tree import DecisionTreeClassifier\n",
    "from sklearn.ensemble import AdaBoostClassifier, RandomForestClassifier, VotingClassifier, BaggingClassifier, GradientBoostingClassifier\n",
    "from sklearn.neural_network import MLPClassifier\n",
    "from sklearn.linear_model import LinearRegression\n",
    "from sklearn.neighbors import KNeighborsRegressor, KNeighborsClassifier\n",
    "from sklearn.naive_bayes import GaussianNB\n",
    "from sklearn.linear_model import LogisticRegression\n",
    "from math import pi\n",
    "from scipy.ndimage import gaussian_filter1d\n",
    "from statsmodels.graphics.tsaplots import plot_acf\n",
    "import warnings\n",
    "import os, sys\n",
    "from sklearn.exceptions import ConvergenceWarning\n",
    "import plotly.graph_objects as go\n",
    "import gc\n",
    "from sklearn.linear_model import LogisticRegression\n",
    "from sklearn.linear_model import LassoCV\n",
    "from sklearn.model_selection import train_test_split\n",
    "from sklearn.preprocessing import StandardScaler\n",
    "from non_behavioral_analysis import neural_analysis\n",
    "\n",
    "\n",
    "plt.rcParams[\"animation.html\"] = \"html5\"\n",
    "os.environ['KMP_DUPLICATE_LIB_OK']='True'\n",
    "rc('animation', html='jshtml')\n",
    "matplotlib.rcParams.update(matplotlib.rcParamsDefault)\n",
    "matplotlib.rcParams['animation.embed_limit'] = 2**128\n",
    "pd.set_option('display.float_format', lambda x: '%.5f' % x)\n",
    "np.set_printoptions(suppress=True)\n",
    "pd.options.display.max_rows = 101"
   ]
  },
  {
   "cell_type": "code",
   "execution_count": 2,
   "metadata": {},
   "outputs": [],
   "source": [
    "data_item = None\n",
    "raw_data_folder_path = \"all_monkey_data/raw_monkey_data/individual_monkey_data/monkey_Bruno/data_0328\""
   ]
  },
  {
   "cell_type": "code",
   "execution_count": null,
   "metadata": {},
   "outputs": [],
   "source": [
    "stop!"
   ]
  },
  {
   "cell_type": "markdown",
   "metadata": {},
   "source": [
    "### debug"
   ]
  },
  {
   "cell_type": "code",
   "execution_count": null,
   "metadata": {},
   "outputs": [],
   "source": [
    "curv_of_traj_mode = 'distance'\n",
    "window_for_curv_of_traj=[-25, 25]\n",
    "raw_data_folder_path = \"all_monkey_data/raw_monkey_data/individual_monkey_data/monkey_Schro/data_0419\"\n",
    "pf = plan_factors_class.PlanFactors(raw_data_folder_path=raw_data_folder_path,\n",
    "                                    curv_traj_window_before_stop=[-50, 0],\n",
    "                                    optimal_arc_type = 'opt_arc_stop_first_vis_bdry')"
   ]
  },
  {
   "cell_type": "code",
   "execution_count": null,
   "metadata": {},
   "outputs": [],
   "source": [
    "pf.optimal_arc_type"
   ]
  },
  {
   "cell_type": "code",
   "execution_count": null,
   "metadata": {},
   "outputs": [],
   "source": [
    "exists_ok = True\n",
    "pf.make_plan_x_and_y_for_both_test_and_ctrl(plan_x_exists_ok=exists_ok, \n",
    "                                            plan_y_exists_ok=exists_ok,\n",
    "                                            already_made_ok=exists_ok, \n",
    "                                            heading_info_df_exists_ok=exists_ok,\n",
    "                                            ref_point_mode='time after stop ff visible', \n",
    "                                            ref_point_value=0.1,\n",
    "                                            # ref_point_mode='distance', \n",
    "                                            # ref_point_value=-150,                                           \n",
    "                                            )"
   ]
  },
  {
   "cell_type": "code",
   "execution_count": 35,
   "metadata": {},
   "outputs": [],
   "source": [
    "normal = pf.heading_info_df.copy()"
   ]
  },
  {
   "cell_type": "code",
   "execution_count": null,
   "metadata": {},
   "outputs": [],
   "source": [
    "first = pf.heading_info_df.copy()"
   ]
  },
  {
   "cell_type": "code",
   "execution_count": null,
   "metadata": {},
   "outputs": [],
   "source": [
    "normal"
   ]
  },
  {
   "cell_type": "code",
   "execution_count": 8,
   "metadata": {},
   "outputs": [
    {
     "data": {
      "text/plain": [
       "2"
      ]
     },
     "execution_count": 8,
     "metadata": {},
     "output_type": "execute_result"
    }
   ],
   "source": [
    "pf.stops_near_ff_df.loc[pf.stops_near_ff_df['stop_ff_index'].idxmin(), 'stop_ff_index']"
   ]
  },
  {
   "cell_type": "code",
   "execution_count": null,
   "metadata": {},
   "outputs": [],
   "source": [
    "opt_arc_stop_closest"
   ]
  },
  {
   "cell_type": "markdown",
   "metadata": {},
   "source": [
    "# get info from one session"
   ]
  },
  {
   "cell_type": "code",
   "execution_count": 3,
   "metadata": {},
   "outputs": [
    {
     "name": "stdout",
     "output_type": "stream",
     "text": [
      "Retrieved monkey data from  all_monkey_data/processed_data/individual_monkey_data/monkey_Bruno/data_0328/monkey_information.csv  and ff data from  all_monkey_data/processed_data/individual_monkey_data/monkey_Bruno/data_0328/ff_basic_info.npz\n"
     ]
    }
   ],
   "source": [
    "curv_of_traj_mode = 'distance'\n",
    "window_for_curv_of_traj=[-25, 25]\n",
    "raw_data_folder_path = \"all_monkey_data/raw_monkey_data/individual_monkey_data/monkey_Bruno/data_0328\"\n",
    "pf = plan_factors_class.PlanFactors(raw_data_folder_path=raw_data_folder_path,\n",
    "                                    curv_traj_window_before_stop=[-50, 0],\n",
    "                                    optimal_arc_type='opt_arc_stop_closest')\n",
    "                                    #optimal_arc_type = 'norm_opt_arc')"
   ]
  },
  {
   "cell_type": "code",
   "execution_count": 4,
   "metadata": {},
   "outputs": [
    {
     "name": "stdout",
     "output_type": "stream",
     "text": [
      "Making new: plan_y_test (Bruno_stop_0_1)\n",
      "Failed to retrieve shared_stops_near_ff_df; will make new shared_stops_near_ff_df\n",
      "Retrieved ff_dataframe from  all_monkey_data/processed_data/individual_monkey_data/monkey_Bruno/data_0328/basic_info.h5\n",
      "Making shared_stops_near_ff_df...\n",
      "75 rows out of 1213 rows were removed from all_closest_point_to_capture_df because the distance between stop and ff center is larger than 25cm\n",
      "finding captured_ff_info...\n",
      "Warning: There are 130 rows out of 1138 rows in ff_info that have null values because they were not visible in the stop period. They will be dropped\n",
      "There is a problem with the closest point to capture time in that the difference between the time and the caught time is greater than 0.2 seconds.The maximum difference is 0.4149750000001404 seconds. Additionally, there are 14 rows that exceed this limit. Furthermore, the percentage of rows where the difference is positive is 92.44288224956063 %\n",
      "14 rows out of 1008 rows in captured_ff_info have been removed because the diff_from_caught_time is greater than 0.2 seconds. The maximum diff_from_caught_time is 0.4149750000001404 seconds.\n",
      "80 rows out of 994 rows in captured_ff_info were dropped because they are within n seconds before or after crossing boundary.\n",
      "45 rows out of 914 rows were removed from all_alt_ff_df because the time between stop and next stop is less than 0.1 seconds\n",
      "9 rows out of 869 rows were not used from all_alt_ff_df because the distance between stop and alt ff is smaller than 25cm\n",
      "199 rows out of 869 rows were not used from all_alt_ff_df because the distance between stop and alt ff is larger than 500cm\n",
      "45 rows out of 914 rows in shared_stops_near_ff_df have been removed because the alt_ff was not found from ff_dataframe.\n",
      "140 rows out of 869 rows in shared_stops_near_ff_df have been removed because the monkey has crossed boundary between two stops.\n",
      "Percentage of control rows that have alt ff cluster flashed on between stop_time - 2 and stop:             74.9 % of 729 rows.\n",
      "Percentage of control rows that have alt ff cluster flashed on between stop time and next stop:             90.26 % of 729 rows.\n",
      "5 rows out of 729 rows in shared_stops_near_ff_df have been removed because the time between stop_time and STOP_time_ff_first_seen_bbas is less than 0.2 seconds.\n",
      "Removed 20 rows out of 724 rows where stop_ff was not visible bbas or alt_ff was not visible both bbas and bsans\n",
      "shared_stops_near_ff_df has 704 rows\n",
      "Stored shared_stops_near_ff_df (704 rows) in all_monkey_data/planning/individual_monkey_data/monkey_Bruno/data_0328/shared_stops_near_ff_df.csv\n",
      "Failed to retrieve heading_info_df because of stop_0_1_window_-50cm_0cm is not in the folder: all_monkey_data/planning/individual_monkey_data/monkey_Bruno/data_0328/diff_in_curv_df/opt_arc_stop_closest/test; will make new heading_info_df\n",
      "Stored new heading_info_df (Bruno_stop_0_1) (362 rows) in all_monkey_data/planning/individual_monkey_data/monkey_Bruno/data_0328/heading_info_df/opt_arc_stop_closest/test/Bruno_stop_0_1\n",
      "Percentage of rows outside of [-45, 45]: 4.14%\n",
      "Warning: 1 arc out of 333 arcs where ff is to the left of the monkey has an angle larger than 90 degrees. The max is 92.3308685922731. We will adjust them by making them a little less than 90.\n",
      "Stored stop_0_1_window_-50cm_0cm in all_monkey_data/planning/individual_monkey_data/monkey_Bruno/data_0328/diff_in_curv_df/opt_arc_stop_closest/test/stop_0_1_window_-50cm_0cm\n",
      "Made plan_y_test and saved to all_monkey_data/planning/individual_monkey_data/monkey_Bruno/data_0328/plan_y_df/opt_arc_stop_closest/test/Bruno_stop_0_1\n",
      "Making new: plan_x_test (Bruno_stop_0_1)\n",
      "Made plan_x_test and saved to all_monkey_data/planning/individual_monkey_data/monkey_Bruno/data_0328/plan_x_df/opt_arc_stop_closest/test/Bruno_stop_0_1\n",
      "Making new: plan_y_ctrl (Bruno_stop_0_1)\n",
      "Failed to retrieve heading_info_df because of stop_0_1_window_-50cm_0cm is not in the folder: all_monkey_data/planning/individual_monkey_data/monkey_Bruno/data_0328/diff_in_curv_df/opt_arc_stop_closest/control; will make new heading_info_df\n",
      "Stored new heading_info_df (Bruno_stop_0_1) (190 rows) in all_monkey_data/planning/individual_monkey_data/monkey_Bruno/data_0328/heading_info_df/opt_arc_stop_closest/control/Bruno_stop_0_1\n",
      "Percentage of rows outside of [-45, 45]: 9.47%\n",
      "Warning: 2 arc out of 159 arcs where ff is to the left of the monkey has an angle larger than 90 degrees. The max is 91.84875897823107. We will adjust them by making them a little less than 90.\n",
      "Stored stop_0_1_window_-50cm_0cm in all_monkey_data/planning/individual_monkey_data/monkey_Bruno/data_0328/diff_in_curv_df/opt_arc_stop_closest/control/stop_0_1_window_-50cm_0cm\n",
      "Made plan_y_ctrl and saved to all_monkey_data/planning/individual_monkey_data/monkey_Bruno/data_0328/plan_y_df/opt_arc_stop_closest/control/Bruno_stop_0_1\n",
      "Making new: plan_x_ctrl (Bruno_stop_0_1)\n",
      "Made plan_x_ctrl and saved to all_monkey_data/planning/individual_monkey_data/monkey_Bruno/data_0328/plan_x_df/opt_arc_stop_closest/control/Bruno_stop_0_1\n"
     ]
    }
   ],
   "source": [
    "exists_ok = True\n",
    "pf.make_plan_x_and_y_for_both_test_and_ctrl(plan_x_exists_ok=False, \n",
    "                                            plan_y_exists_ok=exists_ok,\n",
    "                                            already_made_ok=exists_ok, \n",
    "                                            heading_info_df_exists_ok=exists_ok,\n",
    "                                            ref_point_mode='time after stop ff visible', \n",
    "                                            ref_point_value=0.1,\n",
    "                                            stops_near_ff_df_exists_ok=True,\n",
    "                                            # ref_point_mode='distance', \n",
    "                                            # ref_point_value=-150,                                           \n",
    "                                            )"
   ]
  },
  {
   "cell_type": "code",
   "execution_count": 10,
   "metadata": {},
   "outputs": [],
   "source": [
    "# test_heading_info_df = pf.test_heading_info_df.copy()\n",
    "# ctrl_heading_info_df = pf.ctrl_heading_info_df.copy()\n",
    "# test_heading_info_df = plan_factors_utils.process_heading_info_df(test_heading_info_df)\n",
    "# ctrl_heading_info_df = plan_factors_utils.process_heading_info_df(ctrl_heading_info_df)\n",
    "# df = make_variations_utils.make_temp_median_info_func(test_heading_info_df, ctrl_heading_info_df)"
   ]
  },
  {
   "cell_type": "markdown",
   "metadata": {},
   "source": [
    "# CDF"
   ]
  },
  {
   "cell_type": "code",
   "execution_count": null,
   "metadata": {},
   "outputs": [],
   "source": [
    "ps = monkey_plan_factors_x_sess_class.PlanAcrossSessions(monkey_name='monkey_Schro')\n",
    "ps.initialize_monkey_sessions_df_for_one_monkey()\n",
    "ps.get_combd_heading_df_x_sessions_across_sessions(\n",
    "                        ref_point_mode='time after stop ff visible', ref_point_value=0.1,\n",
    "                        save_data=False)\n"
   ]
  },
  {
   "cell_type": "code",
   "execution_count": null,
   "metadata": {},
   "outputs": [],
   "source": [
    "ps = monkey_plan_factors_x_sess_class.PlanAcrossSessions(monkey_name='monkey_Bruno')\n",
    "ps.initialize_monkey_sessions_df_for_one_monkey()\n",
    "ps.get_combd_heading_df_x_sessions_across_sessions(\n",
    "                        ref_point_mode='time after stop ff visible', ref_point_value=0.1,\n",
    "                        save_data=False)\n"
   ]
  },
  {
   "cell_type": "code",
   "execution_count": 9,
   "metadata": {},
   "outputs": [],
   "source": [
    "test_heading_info_df = ps.combd_heading_df_x_sessions_test.copy()\n",
    "ctrl_heading_info_df = ps.combd_heading_df_x_sessions_ctrl.copy()\n",
    "test_heading_info_df = plan_factors_utils.process_heading_info_df(test_heading_info_df)\n",
    "ctrl_heading_info_df = plan_factors_utils.process_heading_info_df(ctrl_heading_info_df)"
   ]
  },
  {
   "cell_type": "code",
   "execution_count": null,
   "metadata": {},
   "outputs": [],
   "source": [
    "# plot a cumulative density distribution of test_heading_info_df['diff_in_abs']\n",
    "def plot_cdf(test_heading_info_df, ctrl_heading_info_df, column='diff_in_abs', xlim=None):\n",
    "    fig, ax = plt.subplots(1, 1, figsize=(5, 5))\n",
    "    sns.ecdfplot(data=test_heading_info_df[column], ax=ax, label='test')\n",
    "    sns.ecdfplot(data=ctrl_heading_info_df[column], ax=ax, label='ctrl')\n",
    "    ax.axhline(y=0.5, color='black', linestyle='--')\n",
    "    if xlim is not None:\n",
    "        ax.set_xlim(xlim)\n",
    "    ax.legend()\n",
    "    plt.show()\n",
    "\n",
    "\n",
    "plot_cdf(test_heading_info_df, ctrl_heading_info_df, column='diff_in_abs', xlim=[-20, 20])"
   ]
  },
  {
   "cell_type": "code",
   "execution_count": null,
   "metadata": {},
   "outputs": [],
   "source": [
    "ctrl_heading_info_df.columns"
   ]
  },
  {
   "cell_type": "code",
   "execution_count": null,
   "metadata": {},
   "outputs": [],
   "source": [
    "plot_cdf(test_heading_info_df, ctrl_heading_info_df, column='diff_in_abs_d_curv', xlim=[-20, 20])"
   ]
  },
  {
   "cell_type": "code",
   "execution_count": null,
   "metadata": {},
   "outputs": [],
   "source": []
  },
  {
   "cell_type": "markdown",
   "metadata": {},
   "source": [
    "# Plan factors class"
   ]
  },
  {
   "cell_type": "markdown",
   "metadata": {},
   "source": [
    "## get data"
   ]
  },
  {
   "cell_type": "markdown",
   "metadata": {},
   "source": [
    "### monkey across sessions"
   ]
  },
  {
   "cell_type": "code",
   "execution_count": 26,
   "metadata": {},
   "outputs": [],
   "source": [
    "ps = monkey_plan_factors_x_sess_class.PlanAcrossSessions(monkey_name='monkey_Bruno')\n",
    "ps.initialize_monkey_sessions_df_for_one_monkey()\n",
    "# ps.get_plan_x_and_plan_y_across_sessions(exists_ok=True, plan_x_exists_ok=True, plan_y_exists_ok=True,\n",
    "#                                          ref_point_mode='time after stop ff visible', ref_point_value=0.1)\n",
    "ps.get_plan_x_and_plan_y_across_sessions(exists_ok=True, plan_x_exists_ok=True, plan_y_exists_ok=True,\n",
    "                                        heading_info_df_exists_ok=True,\n",
    "                                        stops_near_ff_df_exists_ok=True, \n",
    "                                        ref_point_mode='time after stop ff visible', ref_point_value=0.1)\n",
    "\n",
    "combd_plan_y_both = ps.combd_plan_y_both.copy().reset_index(drop=True)\n",
    "combd_plan_x_both = ps.combd_plan_x_both.copy().reset_index(drop=True)\n",
    "# pf.plan_x_both = combd_plan_x_both.copy()\n",
    "# pf.plan_y_both = combd_plan_y_both.copy()"
   ]
  },
  {
   "cell_type": "markdown",
   "metadata": {},
   "source": [
    "### re-calculate planning data"
   ]
  },
  {
   "cell_type": "code",
   "execution_count": 4,
   "metadata": {},
   "outputs": [
    {
     "name": "stdout",
     "output_type": "stream",
     "text": [
      "ref_point_mode     time after stop ff visible\n",
      "ref_point_value                       0.10000\n",
      "monkey_name                      monkey_Schro\n",
      "stored                                  False\n",
      "Name: 0, dtype: object\n",
      "all_monkey_data/raw_monkey_data/individual_monkey_data/monkey_Schro/data_0410\n",
      "Successfully retrieved plan_x and plan_y data for session:  all_monkey_data/raw_monkey_data/individual_monkey_data/monkey_Schro/data_0410\n",
      "all_monkey_data/raw_monkey_data/individual_monkey_data/monkey_Schro/data_0417\n",
      "Successfully retrieved plan_x and plan_y data for session:  all_monkey_data/raw_monkey_data/individual_monkey_data/monkey_Schro/data_0417\n",
      "all_monkey_data/raw_monkey_data/individual_monkey_data/monkey_Schro/data_0419\n",
      "Successfully retrieved plan_x and plan_y data for session:  all_monkey_data/raw_monkey_data/individual_monkey_data/monkey_Schro/data_0419\n",
      "all_monkey_data/raw_monkey_data/individual_monkey_data/monkey_Schro/data_0420\n",
      "Successfully retrieved plan_x and plan_y data for session:  all_monkey_data/raw_monkey_data/individual_monkey_data/monkey_Schro/data_0420\n",
      "all_monkey_data/raw_monkey_data/individual_monkey_data/monkey_Schro/data_0416\n",
      "Successfully retrieved plan_x and plan_y data for session:  all_monkey_data/raw_monkey_data/individual_monkey_data/monkey_Schro/data_0416\n",
      "all_monkey_data/raw_monkey_data/individual_monkey_data/monkey_Schro/data_0411\n",
      "Successfully retrieved plan_x and plan_y data for session:  all_monkey_data/raw_monkey_data/individual_monkey_data/monkey_Schro/data_0411\n",
      "all_monkey_data/raw_monkey_data/individual_monkey_data/monkey_Schro/data_0402\n",
      "Successfully retrieved plan_x and plan_y data for session:  all_monkey_data/raw_monkey_data/individual_monkey_data/monkey_Schro/data_0402\n",
      "all_monkey_data/raw_monkey_data/individual_monkey_data/monkey_Schro/data_0404\n",
      "Successfully retrieved plan_x and plan_y data for session:  all_monkey_data/raw_monkey_data/individual_monkey_data/monkey_Schro/data_0404\n",
      "all_monkey_data/raw_monkey_data/individual_monkey_data/monkey_Schro/data_0403\n",
      "Successfully retrieved plan_x and plan_y data for session:  all_monkey_data/raw_monkey_data/individual_monkey_data/monkey_Schro/data_0403\n",
      "all_monkey_data/raw_monkey_data/individual_monkey_data/monkey_Schro/data_0329\n",
      "Successfully retrieved plan_x and plan_y data for session:  all_monkey_data/raw_monkey_data/individual_monkey_data/monkey_Schro/data_0329\n",
      "all_monkey_data/raw_monkey_data/individual_monkey_data/monkey_Schro/data_0316\n",
      "Successfully retrieved plan_x and plan_y data for session:  all_monkey_data/raw_monkey_data/individual_monkey_data/monkey_Schro/data_0316\n",
      "all_monkey_data/raw_monkey_data/individual_monkey_data/monkey_Schro/data_0327\n",
      "Successfully retrieved plan_x and plan_y data for session:  all_monkey_data/raw_monkey_data/individual_monkey_data/monkey_Schro/data_0327\n",
      "all_monkey_data/raw_monkey_data/individual_monkey_data/monkey_Schro/data_0321\n",
      "Successfully retrieved plan_x and plan_y data for session:  all_monkey_data/raw_monkey_data/individual_monkey_data/monkey_Schro/data_0321\n",
      "all_monkey_data/raw_monkey_data/individual_monkey_data/monkey_Schro/data_0326\n",
      "Successfully retrieved plan_x and plan_y data for session:  all_monkey_data/raw_monkey_data/individual_monkey_data/monkey_Schro/data_0326\n",
      "all_monkey_data/raw_monkey_data/individual_monkey_data/monkey_Schro/data_0328\n",
      "Successfully retrieved plan_x and plan_y data for session:  all_monkey_data/raw_monkey_data/individual_monkey_data/monkey_Schro/data_0328\n",
      "all_monkey_data/raw_monkey_data/individual_monkey_data/monkey_Schro/data_0413\n",
      "Successfully retrieved plan_x and plan_y data for session:  all_monkey_data/raw_monkey_data/individual_monkey_data/monkey_Schro/data_0413\n",
      "all_monkey_data/raw_monkey_data/individual_monkey_data/monkey_Schro/data_0423\n",
      "Successfully retrieved plan_x and plan_y data for session:  all_monkey_data/raw_monkey_data/individual_monkey_data/monkey_Schro/data_0423\n",
      "all_monkey_data/raw_monkey_data/individual_monkey_data/monkey_Schro/data_0424\n",
      "Successfully retrieved plan_x and plan_y data for session:  all_monkey_data/raw_monkey_data/individual_monkey_data/monkey_Schro/data_0424\n",
      "all_monkey_data/raw_monkey_data/individual_monkey_data/monkey_Schro/data_0412\n",
      "Successfully retrieved plan_x and plan_y data for session:  all_monkey_data/raw_monkey_data/individual_monkey_data/monkey_Schro/data_0412\n",
      "all_monkey_data/raw_monkey_data/individual_monkey_data/monkey_Schro/data_0406\n",
      "Successfully retrieved plan_x and plan_y data for session:  all_monkey_data/raw_monkey_data/individual_monkey_data/monkey_Schro/data_0406\n",
      "all_monkey_data/raw_monkey_data/individual_monkey_data/monkey_Schro/data_0409\n",
      "Successfully retrieved plan_x and plan_y data for session:  all_monkey_data/raw_monkey_data/individual_monkey_data/monkey_Schro/data_0409\n",
      "all_monkey_data/raw_monkey_data/individual_monkey_data/monkey_Schro/data_0322\n",
      "Successfully retrieved plan_x and plan_y data for session:  all_monkey_data/raw_monkey_data/individual_monkey_data/monkey_Schro/data_0322\n",
      "ref_point_mode     time after stop ff visible\n",
      "ref_point_value                       0.00000\n",
      "monkey_name                      monkey_Schro\n",
      "stored                                  False\n",
      "Name: 1, dtype: object\n",
      "all_monkey_data/raw_monkey_data/individual_monkey_data/monkey_Schro/data_0410\n",
      "Successfully retrieved plan_x and plan_y data for session:  all_monkey_data/raw_monkey_data/individual_monkey_data/monkey_Schro/data_0410\n",
      "all_monkey_data/raw_monkey_data/individual_monkey_data/monkey_Schro/data_0417\n",
      "Successfully retrieved plan_x and plan_y data for session:  all_monkey_data/raw_monkey_data/individual_monkey_data/monkey_Schro/data_0417\n",
      "all_monkey_data/raw_monkey_data/individual_monkey_data/monkey_Schro/data_0419\n",
      "Successfully retrieved plan_x and plan_y data for session:  all_monkey_data/raw_monkey_data/individual_monkey_data/monkey_Schro/data_0419\n",
      "all_monkey_data/raw_monkey_data/individual_monkey_data/monkey_Schro/data_0420\n",
      "Successfully retrieved plan_x and plan_y data for session:  all_monkey_data/raw_monkey_data/individual_monkey_data/monkey_Schro/data_0420\n",
      "all_monkey_data/raw_monkey_data/individual_monkey_data/monkey_Schro/data_0416\n",
      "Successfully retrieved plan_x and plan_y data for session:  all_monkey_data/raw_monkey_data/individual_monkey_data/monkey_Schro/data_0416\n",
      "all_monkey_data/raw_monkey_data/individual_monkey_data/monkey_Schro/data_0411\n",
      "Successfully retrieved plan_x and plan_y data for session:  all_monkey_data/raw_monkey_data/individual_monkey_data/monkey_Schro/data_0411\n",
      "all_monkey_data/raw_monkey_data/individual_monkey_data/monkey_Schro/data_0402\n",
      "Successfully retrieved plan_x and plan_y data for session:  all_monkey_data/raw_monkey_data/individual_monkey_data/monkey_Schro/data_0402\n",
      "all_monkey_data/raw_monkey_data/individual_monkey_data/monkey_Schro/data_0404\n",
      "Successfully retrieved plan_x and plan_y data for session:  all_monkey_data/raw_monkey_data/individual_monkey_data/monkey_Schro/data_0404\n",
      "all_monkey_data/raw_monkey_data/individual_monkey_data/monkey_Schro/data_0403\n",
      "Successfully retrieved plan_x and plan_y data for session:  all_monkey_data/raw_monkey_data/individual_monkey_data/monkey_Schro/data_0403\n",
      "all_monkey_data/raw_monkey_data/individual_monkey_data/monkey_Schro/data_0329\n",
      "Successfully retrieved plan_x and plan_y data for session:  all_monkey_data/raw_monkey_data/individual_monkey_data/monkey_Schro/data_0329\n",
      "all_monkey_data/raw_monkey_data/individual_monkey_data/monkey_Schro/data_0316\n",
      "Successfully retrieved plan_x and plan_y data for session:  all_monkey_data/raw_monkey_data/individual_monkey_data/monkey_Schro/data_0316\n",
      "all_monkey_data/raw_monkey_data/individual_monkey_data/monkey_Schro/data_0327\n",
      "Successfully retrieved plan_x and plan_y data for session:  all_monkey_data/raw_monkey_data/individual_monkey_data/monkey_Schro/data_0327\n",
      "all_monkey_data/raw_monkey_data/individual_monkey_data/monkey_Schro/data_0321\n",
      "Successfully retrieved plan_x and plan_y data for session:  all_monkey_data/raw_monkey_data/individual_monkey_data/monkey_Schro/data_0321\n",
      "all_monkey_data/raw_monkey_data/individual_monkey_data/monkey_Schro/data_0326\n",
      "Successfully retrieved plan_x and plan_y data for session:  all_monkey_data/raw_monkey_data/individual_monkey_data/monkey_Schro/data_0326\n",
      "all_monkey_data/raw_monkey_data/individual_monkey_data/monkey_Schro/data_0328\n",
      "Successfully retrieved plan_x and plan_y data for session:  all_monkey_data/raw_monkey_data/individual_monkey_data/monkey_Schro/data_0328\n",
      "all_monkey_data/raw_monkey_data/individual_monkey_data/monkey_Schro/data_0413\n",
      "Successfully retrieved plan_x and plan_y data for session:  all_monkey_data/raw_monkey_data/individual_monkey_data/monkey_Schro/data_0413\n",
      "all_monkey_data/raw_monkey_data/individual_monkey_data/monkey_Schro/data_0423\n",
      "Successfully retrieved plan_x and plan_y data for session:  all_monkey_data/raw_monkey_data/individual_monkey_data/monkey_Schro/data_0423\n",
      "all_monkey_data/raw_monkey_data/individual_monkey_data/monkey_Schro/data_0424\n",
      "Successfully retrieved plan_x and plan_y data for session:  all_monkey_data/raw_monkey_data/individual_monkey_data/monkey_Schro/data_0424\n",
      "all_monkey_data/raw_monkey_data/individual_monkey_data/monkey_Schro/data_0412\n",
      "Successfully retrieved plan_x and plan_y data for session:  all_monkey_data/raw_monkey_data/individual_monkey_data/monkey_Schro/data_0412\n",
      "all_monkey_data/raw_monkey_data/individual_monkey_data/monkey_Schro/data_0406\n",
      "Successfully retrieved plan_x and plan_y data for session:  all_monkey_data/raw_monkey_data/individual_monkey_data/monkey_Schro/data_0406\n",
      "all_monkey_data/raw_monkey_data/individual_monkey_data/monkey_Schro/data_0409\n",
      "Successfully retrieved plan_x and plan_y data for session:  all_monkey_data/raw_monkey_data/individual_monkey_data/monkey_Schro/data_0409\n",
      "all_monkey_data/raw_monkey_data/individual_monkey_data/monkey_Schro/data_0322\n",
      "Successfully retrieved plan_x and plan_y data for session:  all_monkey_data/raw_monkey_data/individual_monkey_data/monkey_Schro/data_0322\n",
      "ref_point_mode         distance\n",
      "ref_point_value      -150.00000\n",
      "monkey_name        monkey_Schro\n",
      "stored                    False\n",
      "Name: 2, dtype: object\n",
      "all_monkey_data/raw_monkey_data/individual_monkey_data/monkey_Schro/data_0410\n",
      "Successfully retrieved plan_x and plan_y data for session:  all_monkey_data/raw_monkey_data/individual_monkey_data/monkey_Schro/data_0410\n",
      "all_monkey_data/raw_monkey_data/individual_monkey_data/monkey_Schro/data_0417\n",
      "Successfully retrieved plan_x and plan_y data for session:  all_monkey_data/raw_monkey_data/individual_monkey_data/monkey_Schro/data_0417\n",
      "all_monkey_data/raw_monkey_data/individual_monkey_data/monkey_Schro/data_0419\n",
      "Successfully retrieved plan_x and plan_y data for session:  all_monkey_data/raw_monkey_data/individual_monkey_data/monkey_Schro/data_0419\n",
      "all_monkey_data/raw_monkey_data/individual_monkey_data/monkey_Schro/data_0420\n",
      "Successfully retrieved plan_x and plan_y data for session:  all_monkey_data/raw_monkey_data/individual_monkey_data/monkey_Schro/data_0420\n",
      "all_monkey_data/raw_monkey_data/individual_monkey_data/monkey_Schro/data_0416\n",
      "Successfully retrieved plan_x and plan_y data for session:  all_monkey_data/raw_monkey_data/individual_monkey_data/monkey_Schro/data_0416\n",
      "all_monkey_data/raw_monkey_data/individual_monkey_data/monkey_Schro/data_0411\n",
      "Successfully retrieved plan_x and plan_y data for session:  all_monkey_data/raw_monkey_data/individual_monkey_data/monkey_Schro/data_0411\n",
      "all_monkey_data/raw_monkey_data/individual_monkey_data/monkey_Schro/data_0402\n",
      "Successfully retrieved plan_x and plan_y data for session:  all_monkey_data/raw_monkey_data/individual_monkey_data/monkey_Schro/data_0402\n",
      "all_monkey_data/raw_monkey_data/individual_monkey_data/monkey_Schro/data_0404\n",
      "Successfully retrieved plan_x and plan_y data for session:  all_monkey_data/raw_monkey_data/individual_monkey_data/monkey_Schro/data_0404\n",
      "all_monkey_data/raw_monkey_data/individual_monkey_data/monkey_Schro/data_0403\n",
      "Successfully retrieved plan_x and plan_y data for session:  all_monkey_data/raw_monkey_data/individual_monkey_data/monkey_Schro/data_0403\n",
      "all_monkey_data/raw_monkey_data/individual_monkey_data/monkey_Schro/data_0329\n",
      "Successfully retrieved plan_x and plan_y data for session:  all_monkey_data/raw_monkey_data/individual_monkey_data/monkey_Schro/data_0329\n",
      "all_monkey_data/raw_monkey_data/individual_monkey_data/monkey_Schro/data_0316\n",
      "Successfully retrieved plan_x and plan_y data for session:  all_monkey_data/raw_monkey_data/individual_monkey_data/monkey_Schro/data_0316\n",
      "all_monkey_data/raw_monkey_data/individual_monkey_data/monkey_Schro/data_0327\n",
      "Successfully retrieved plan_x and plan_y data for session:  all_monkey_data/raw_monkey_data/individual_monkey_data/monkey_Schro/data_0327\n",
      "all_monkey_data/raw_monkey_data/individual_monkey_data/monkey_Schro/data_0321\n",
      "Successfully retrieved plan_x and plan_y data for session:  all_monkey_data/raw_monkey_data/individual_monkey_data/monkey_Schro/data_0321\n",
      "all_monkey_data/raw_monkey_data/individual_monkey_data/monkey_Schro/data_0326\n",
      "Successfully retrieved plan_x and plan_y data for session:  all_monkey_data/raw_monkey_data/individual_monkey_data/monkey_Schro/data_0326\n",
      "all_monkey_data/raw_monkey_data/individual_monkey_data/monkey_Schro/data_0328\n",
      "Successfully retrieved plan_x and plan_y data for session:  all_monkey_data/raw_monkey_data/individual_monkey_data/monkey_Schro/data_0328\n",
      "all_monkey_data/raw_monkey_data/individual_monkey_data/monkey_Schro/data_0413\n",
      "Successfully retrieved plan_x and plan_y data for session:  all_monkey_data/raw_monkey_data/individual_monkey_data/monkey_Schro/data_0413\n",
      "all_monkey_data/raw_monkey_data/individual_monkey_data/monkey_Schro/data_0423\n",
      "Successfully retrieved plan_x and plan_y data for session:  all_monkey_data/raw_monkey_data/individual_monkey_data/monkey_Schro/data_0423\n",
      "all_monkey_data/raw_monkey_data/individual_monkey_data/monkey_Schro/data_0424\n",
      "Successfully retrieved plan_x and plan_y data for session:  all_monkey_data/raw_monkey_data/individual_monkey_data/monkey_Schro/data_0424\n",
      "all_monkey_data/raw_monkey_data/individual_monkey_data/monkey_Schro/data_0412\n",
      "Successfully retrieved plan_x and plan_y data for session:  all_monkey_data/raw_monkey_data/individual_monkey_data/monkey_Schro/data_0412\n",
      "all_monkey_data/raw_monkey_data/individual_monkey_data/monkey_Schro/data_0406\n",
      "Successfully retrieved plan_x and plan_y data for session:  all_monkey_data/raw_monkey_data/individual_monkey_data/monkey_Schro/data_0406\n",
      "all_monkey_data/raw_monkey_data/individual_monkey_data/monkey_Schro/data_0409\n",
      "Successfully retrieved plan_x and plan_y data for session:  all_monkey_data/raw_monkey_data/individual_monkey_data/monkey_Schro/data_0409\n",
      "all_monkey_data/raw_monkey_data/individual_monkey_data/monkey_Schro/data_0322\n",
      "Successfully retrieved plan_x and plan_y data for session:  all_monkey_data/raw_monkey_data/individual_monkey_data/monkey_Schro/data_0322\n",
      "ref_point_mode         distance\n",
      "ref_point_value      -100.00000\n",
      "monkey_name        monkey_Schro\n",
      "stored                    False\n",
      "Name: 3, dtype: object\n",
      "all_monkey_data/raw_monkey_data/individual_monkey_data/monkey_Schro/data_0410\n",
      "Successfully retrieved plan_x and plan_y data for session:  all_monkey_data/raw_monkey_data/individual_monkey_data/monkey_Schro/data_0410\n",
      "all_monkey_data/raw_monkey_data/individual_monkey_data/monkey_Schro/data_0417\n",
      "Successfully retrieved plan_x and plan_y data for session:  all_monkey_data/raw_monkey_data/individual_monkey_data/monkey_Schro/data_0417\n",
      "all_monkey_data/raw_monkey_data/individual_monkey_data/monkey_Schro/data_0419\n",
      "Successfully retrieved plan_x and plan_y data for session:  all_monkey_data/raw_monkey_data/individual_monkey_data/monkey_Schro/data_0419\n",
      "all_monkey_data/raw_monkey_data/individual_monkey_data/monkey_Schro/data_0420\n",
      "Successfully retrieved plan_x and plan_y data for session:  all_monkey_data/raw_monkey_data/individual_monkey_data/monkey_Schro/data_0420\n",
      "all_monkey_data/raw_monkey_data/individual_monkey_data/monkey_Schro/data_0416\n",
      "Successfully retrieved plan_x and plan_y data for session:  all_monkey_data/raw_monkey_data/individual_monkey_data/monkey_Schro/data_0416\n",
      "all_monkey_data/raw_monkey_data/individual_monkey_data/monkey_Schro/data_0411\n",
      "Successfully retrieved plan_x and plan_y data for session:  all_monkey_data/raw_monkey_data/individual_monkey_data/monkey_Schro/data_0411\n",
      "all_monkey_data/raw_monkey_data/individual_monkey_data/monkey_Schro/data_0402\n",
      "Successfully retrieved plan_x and plan_y data for session:  all_monkey_data/raw_monkey_data/individual_monkey_data/monkey_Schro/data_0402\n",
      "all_monkey_data/raw_monkey_data/individual_monkey_data/monkey_Schro/data_0404\n",
      "Successfully retrieved plan_x and plan_y data for session:  all_monkey_data/raw_monkey_data/individual_monkey_data/monkey_Schro/data_0404\n",
      "all_monkey_data/raw_monkey_data/individual_monkey_data/monkey_Schro/data_0403\n",
      "Successfully retrieved plan_x and plan_y data for session:  all_monkey_data/raw_monkey_data/individual_monkey_data/monkey_Schro/data_0403\n",
      "all_monkey_data/raw_monkey_data/individual_monkey_data/monkey_Schro/data_0329\n",
      "Successfully retrieved plan_x and plan_y data for session:  all_monkey_data/raw_monkey_data/individual_monkey_data/monkey_Schro/data_0329\n",
      "all_monkey_data/raw_monkey_data/individual_monkey_data/monkey_Schro/data_0316\n",
      "Successfully retrieved plan_x and plan_y data for session:  all_monkey_data/raw_monkey_data/individual_monkey_data/monkey_Schro/data_0316\n",
      "all_monkey_data/raw_monkey_data/individual_monkey_data/monkey_Schro/data_0327\n",
      "Successfully retrieved plan_x and plan_y data for session:  all_monkey_data/raw_monkey_data/individual_monkey_data/monkey_Schro/data_0327\n",
      "all_monkey_data/raw_monkey_data/individual_monkey_data/monkey_Schro/data_0321\n",
      "Successfully retrieved plan_x and plan_y data for session:  all_monkey_data/raw_monkey_data/individual_monkey_data/monkey_Schro/data_0321\n",
      "all_monkey_data/raw_monkey_data/individual_monkey_data/monkey_Schro/data_0326\n",
      "Successfully retrieved plan_x and plan_y data for session:  all_monkey_data/raw_monkey_data/individual_monkey_data/monkey_Schro/data_0326\n",
      "all_monkey_data/raw_monkey_data/individual_monkey_data/monkey_Schro/data_0328\n",
      "Successfully retrieved plan_x and plan_y data for session:  all_monkey_data/raw_monkey_data/individual_monkey_data/monkey_Schro/data_0328\n",
      "all_monkey_data/raw_monkey_data/individual_monkey_data/monkey_Schro/data_0413\n",
      "Successfully retrieved plan_x and plan_y data for session:  all_monkey_data/raw_monkey_data/individual_monkey_data/monkey_Schro/data_0413\n",
      "all_monkey_data/raw_monkey_data/individual_monkey_data/monkey_Schro/data_0423\n",
      "Successfully retrieved plan_x and plan_y data for session:  all_monkey_data/raw_monkey_data/individual_monkey_data/monkey_Schro/data_0423\n",
      "all_monkey_data/raw_monkey_data/individual_monkey_data/monkey_Schro/data_0424\n",
      "Successfully retrieved plan_x and plan_y data for session:  all_monkey_data/raw_monkey_data/individual_monkey_data/monkey_Schro/data_0424\n",
      "all_monkey_data/raw_monkey_data/individual_monkey_data/monkey_Schro/data_0412\n",
      "Successfully retrieved plan_x and plan_y data for session:  all_monkey_data/raw_monkey_data/individual_monkey_data/monkey_Schro/data_0412\n",
      "all_monkey_data/raw_monkey_data/individual_monkey_data/monkey_Schro/data_0406\n",
      "Successfully retrieved plan_x and plan_y data for session:  all_monkey_data/raw_monkey_data/individual_monkey_data/monkey_Schro/data_0406\n",
      "all_monkey_data/raw_monkey_data/individual_monkey_data/monkey_Schro/data_0409\n",
      "Successfully retrieved plan_x and plan_y data for session:  all_monkey_data/raw_monkey_data/individual_monkey_data/monkey_Schro/data_0409\n",
      "all_monkey_data/raw_monkey_data/individual_monkey_data/monkey_Schro/data_0322\n",
      "Successfully retrieved plan_x and plan_y data for session:  all_monkey_data/raw_monkey_data/individual_monkey_data/monkey_Schro/data_0322\n",
      "ref_point_mode         distance\n",
      "ref_point_value       -50.00000\n",
      "monkey_name        monkey_Schro\n",
      "stored                    False\n",
      "Name: 4, dtype: object\n",
      "all_monkey_data/raw_monkey_data/individual_monkey_data/monkey_Schro/data_0410\n",
      "Successfully retrieved plan_x and plan_y data for session:  all_monkey_data/raw_monkey_data/individual_monkey_data/monkey_Schro/data_0410\n",
      "all_monkey_data/raw_monkey_data/individual_monkey_data/monkey_Schro/data_0417\n",
      "Successfully retrieved plan_x and plan_y data for session:  all_monkey_data/raw_monkey_data/individual_monkey_data/monkey_Schro/data_0417\n",
      "all_monkey_data/raw_monkey_data/individual_monkey_data/monkey_Schro/data_0419\n",
      "Successfully retrieved plan_x and plan_y data for session:  all_monkey_data/raw_monkey_data/individual_monkey_data/monkey_Schro/data_0419\n",
      "all_monkey_data/raw_monkey_data/individual_monkey_data/monkey_Schro/data_0420\n",
      "Successfully retrieved plan_x and plan_y data for session:  all_monkey_data/raw_monkey_data/individual_monkey_data/monkey_Schro/data_0420\n",
      "all_monkey_data/raw_monkey_data/individual_monkey_data/monkey_Schro/data_0416\n",
      "Successfully retrieved plan_x and plan_y data for session:  all_monkey_data/raw_monkey_data/individual_monkey_data/monkey_Schro/data_0416\n",
      "all_monkey_data/raw_monkey_data/individual_monkey_data/monkey_Schro/data_0411\n",
      "Successfully retrieved plan_x and plan_y data for session:  all_monkey_data/raw_monkey_data/individual_monkey_data/monkey_Schro/data_0411\n",
      "all_monkey_data/raw_monkey_data/individual_monkey_data/monkey_Schro/data_0402\n",
      "Successfully retrieved plan_x and plan_y data for session:  all_monkey_data/raw_monkey_data/individual_monkey_data/monkey_Schro/data_0402\n",
      "all_monkey_data/raw_monkey_data/individual_monkey_data/monkey_Schro/data_0404\n",
      "Successfully retrieved plan_x and plan_y data for session:  all_monkey_data/raw_monkey_data/individual_monkey_data/monkey_Schro/data_0404\n",
      "all_monkey_data/raw_monkey_data/individual_monkey_data/monkey_Schro/data_0403\n",
      "Successfully retrieved plan_x and plan_y data for session:  all_monkey_data/raw_monkey_data/individual_monkey_data/monkey_Schro/data_0403\n",
      "all_monkey_data/raw_monkey_data/individual_monkey_data/monkey_Schro/data_0329\n",
      "Successfully retrieved plan_x and plan_y data for session:  all_monkey_data/raw_monkey_data/individual_monkey_data/monkey_Schro/data_0329\n",
      "all_monkey_data/raw_monkey_data/individual_monkey_data/monkey_Schro/data_0316\n",
      "Successfully retrieved plan_x and plan_y data for session:  all_monkey_data/raw_monkey_data/individual_monkey_data/monkey_Schro/data_0316\n",
      "all_monkey_data/raw_monkey_data/individual_monkey_data/monkey_Schro/data_0327\n",
      "Successfully retrieved plan_x and plan_y data for session:  all_monkey_data/raw_monkey_data/individual_monkey_data/monkey_Schro/data_0327\n",
      "all_monkey_data/raw_monkey_data/individual_monkey_data/monkey_Schro/data_0321\n",
      "Successfully retrieved plan_x and plan_y data for session:  all_monkey_data/raw_monkey_data/individual_monkey_data/monkey_Schro/data_0321\n",
      "all_monkey_data/raw_monkey_data/individual_monkey_data/monkey_Schro/data_0326\n",
      "Successfully retrieved plan_x and plan_y data for session:  all_monkey_data/raw_monkey_data/individual_monkey_data/monkey_Schro/data_0326\n",
      "all_monkey_data/raw_monkey_data/individual_monkey_data/monkey_Schro/data_0328\n",
      "Successfully retrieved plan_x and plan_y data for session:  all_monkey_data/raw_monkey_data/individual_monkey_data/monkey_Schro/data_0328\n",
      "all_monkey_data/raw_monkey_data/individual_monkey_data/monkey_Schro/data_0413\n",
      "Successfully retrieved plan_x and plan_y data for session:  all_monkey_data/raw_monkey_data/individual_monkey_data/monkey_Schro/data_0413\n",
      "all_monkey_data/raw_monkey_data/individual_monkey_data/monkey_Schro/data_0423\n",
      "Successfully retrieved plan_x and plan_y data for session:  all_monkey_data/raw_monkey_data/individual_monkey_data/monkey_Schro/data_0423\n",
      "all_monkey_data/raw_monkey_data/individual_monkey_data/monkey_Schro/data_0424\n",
      "Successfully retrieved plan_x and plan_y data for session:  all_monkey_data/raw_monkey_data/individual_monkey_data/monkey_Schro/data_0424\n",
      "all_monkey_data/raw_monkey_data/individual_monkey_data/monkey_Schro/data_0412\n",
      "Successfully retrieved plan_x and plan_y data for session:  all_monkey_data/raw_monkey_data/individual_monkey_data/monkey_Schro/data_0412\n",
      "all_monkey_data/raw_monkey_data/individual_monkey_data/monkey_Schro/data_0406\n",
      "Successfully retrieved plan_x and plan_y data for session:  all_monkey_data/raw_monkey_data/individual_monkey_data/monkey_Schro/data_0406\n",
      "all_monkey_data/raw_monkey_data/individual_monkey_data/monkey_Schro/data_0409\n",
      "Successfully retrieved plan_x and plan_y data for session:  all_monkey_data/raw_monkey_data/individual_monkey_data/monkey_Schro/data_0409\n",
      "all_monkey_data/raw_monkey_data/individual_monkey_data/monkey_Schro/data_0322\n",
      "Successfully retrieved plan_x and plan_y data for session:  all_monkey_data/raw_monkey_data/individual_monkey_data/monkey_Schro/data_0322\n",
      "ref_point_mode     time after stop ff visible\n",
      "ref_point_value                       0.10000\n",
      "monkey_name                      monkey_Bruno\n",
      "stored                                  False\n",
      "Name: 0, dtype: object\n",
      "all_monkey_data/raw_monkey_data/individual_monkey_data/monkey_Bruno/data_0222\n",
      "Successfully retrieved plan_x and plan_y data for session:  all_monkey_data/raw_monkey_data/individual_monkey_data/monkey_Bruno/data_0222\n",
      "all_monkey_data/raw_monkey_data/individual_monkey_data/monkey_Bruno/data_0402\n",
      "Successfully retrieved plan_x and plan_y data for session:  all_monkey_data/raw_monkey_data/individual_monkey_data/monkey_Bruno/data_0402\n",
      "all_monkey_data/raw_monkey_data/individual_monkey_data/monkey_Bruno/data_0329\n",
      "Successfully retrieved plan_x and plan_y data for session:  all_monkey_data/raw_monkey_data/individual_monkey_data/monkey_Bruno/data_0329\n",
      "all_monkey_data/raw_monkey_data/individual_monkey_data/monkey_Bruno/data_0316\n",
      "Successfully retrieved plan_x and plan_y data for session:  all_monkey_data/raw_monkey_data/individual_monkey_data/monkey_Bruno/data_0316\n",
      "all_monkey_data/raw_monkey_data/individual_monkey_data/monkey_Bruno/data_0327\n",
      "Successfully retrieved plan_x and plan_y data for session:  all_monkey_data/raw_monkey_data/individual_monkey_data/monkey_Bruno/data_0327\n",
      "all_monkey_data/raw_monkey_data/individual_monkey_data/monkey_Bruno/data_0321\n",
      "Successfully retrieved plan_x and plan_y data for session:  all_monkey_data/raw_monkey_data/individual_monkey_data/monkey_Bruno/data_0321\n",
      "all_monkey_data/raw_monkey_data/individual_monkey_data/monkey_Bruno/data_0326\n",
      "Successfully retrieved plan_x and plan_y data for session:  all_monkey_data/raw_monkey_data/individual_monkey_data/monkey_Bruno/data_0326\n",
      "all_monkey_data/raw_monkey_data/individual_monkey_data/monkey_Bruno/data_0328\n",
      "Successfully retrieved plan_x and plan_y data for session:  all_monkey_data/raw_monkey_data/individual_monkey_data/monkey_Bruno/data_0328\n",
      "all_monkey_data/raw_monkey_data/individual_monkey_data/monkey_Bruno/data_0309\n",
      "Successfully retrieved plan_x and plan_y data for session:  all_monkey_data/raw_monkey_data/individual_monkey_data/monkey_Bruno/data_0309\n",
      "all_monkey_data/raw_monkey_data/individual_monkey_data/monkey_Bruno/data_0307\n",
      "Successfully retrieved plan_x and plan_y data for session:  all_monkey_data/raw_monkey_data/individual_monkey_data/monkey_Bruno/data_0307\n",
      "all_monkey_data/raw_monkey_data/individual_monkey_data/monkey_Bruno/data_0306\n",
      "Successfully retrieved plan_x and plan_y data for session:  all_monkey_data/raw_monkey_data/individual_monkey_data/monkey_Bruno/data_0306\n",
      "all_monkey_data/raw_monkey_data/individual_monkey_data/monkey_Bruno/data_0301\n",
      "Successfully retrieved plan_x and plan_y data for session:  all_monkey_data/raw_monkey_data/individual_monkey_data/monkey_Bruno/data_0301\n",
      "all_monkey_data/raw_monkey_data/individual_monkey_data/monkey_Bruno/data_0308\n",
      "Successfully retrieved plan_x and plan_y data for session:  all_monkey_data/raw_monkey_data/individual_monkey_data/monkey_Bruno/data_0308\n",
      "all_monkey_data/raw_monkey_data/individual_monkey_data/monkey_Bruno/data_0330\n",
      "Successfully retrieved plan_x and plan_y data for session:  all_monkey_data/raw_monkey_data/individual_monkey_data/monkey_Bruno/data_0330\n",
      "all_monkey_data/raw_monkey_data/individual_monkey_data/monkey_Bruno/data_0220\n",
      "Successfully retrieved plan_x and plan_y data for session:  all_monkey_data/raw_monkey_data/individual_monkey_data/monkey_Bruno/data_0220\n",
      "all_monkey_data/raw_monkey_data/individual_monkey_data/monkey_Bruno/data_0227\n",
      "Successfully retrieved plan_x and plan_y data for session:  all_monkey_data/raw_monkey_data/individual_monkey_data/monkey_Bruno/data_0227\n",
      "all_monkey_data/raw_monkey_data/individual_monkey_data/monkey_Bruno/data_0228\n",
      "Successfully retrieved plan_x and plan_y data for session:  all_monkey_data/raw_monkey_data/individual_monkey_data/monkey_Bruno/data_0228\n",
      "all_monkey_data/raw_monkey_data/individual_monkey_data/monkey_Bruno/data_0226\n",
      "Successfully retrieved plan_x and plan_y data for session:  all_monkey_data/raw_monkey_data/individual_monkey_data/monkey_Bruno/data_0226\n",
      "all_monkey_data/raw_monkey_data/individual_monkey_data/monkey_Bruno/data_0219\n",
      "Successfully retrieved plan_x and plan_y data for session:  all_monkey_data/raw_monkey_data/individual_monkey_data/monkey_Bruno/data_0219\n",
      "all_monkey_data/raw_monkey_data/individual_monkey_data/monkey_Bruno/data_0221\n",
      "Successfully retrieved plan_x and plan_y data for session:  all_monkey_data/raw_monkey_data/individual_monkey_data/monkey_Bruno/data_0221\n",
      "all_monkey_data/raw_monkey_data/individual_monkey_data/monkey_Bruno/data_0312\n",
      "Successfully retrieved plan_x and plan_y data for session:  all_monkey_data/raw_monkey_data/individual_monkey_data/monkey_Bruno/data_0312\n",
      "all_monkey_data/raw_monkey_data/individual_monkey_data/monkey_Bruno/data_0315\n",
      "Successfully retrieved plan_x and plan_y data for session:  all_monkey_data/raw_monkey_data/individual_monkey_data/monkey_Bruno/data_0315\n",
      "all_monkey_data/raw_monkey_data/individual_monkey_data/monkey_Bruno/data_0323\n",
      "Successfully retrieved plan_x and plan_y data for session:  all_monkey_data/raw_monkey_data/individual_monkey_data/monkey_Bruno/data_0323\n",
      "all_monkey_data/raw_monkey_data/individual_monkey_data/monkey_Bruno/data_0322\n",
      "Successfully retrieved plan_x and plan_y data for session:  all_monkey_data/raw_monkey_data/individual_monkey_data/monkey_Bruno/data_0322\n",
      "all_monkey_data/raw_monkey_data/individual_monkey_data/monkey_Bruno/data_0314\n",
      "Successfully retrieved plan_x and plan_y data for session:  all_monkey_data/raw_monkey_data/individual_monkey_data/monkey_Bruno/data_0314\n",
      "ref_point_mode     time after stop ff visible\n",
      "ref_point_value                       0.00000\n",
      "monkey_name                      monkey_Bruno\n",
      "stored                                  False\n",
      "Name: 1, dtype: object\n",
      "all_monkey_data/raw_monkey_data/individual_monkey_data/monkey_Bruno/data_0222\n",
      "Successfully retrieved plan_x and plan_y data for session:  all_monkey_data/raw_monkey_data/individual_monkey_data/monkey_Bruno/data_0222\n",
      "all_monkey_data/raw_monkey_data/individual_monkey_data/monkey_Bruno/data_0402\n",
      "Successfully retrieved plan_x and plan_y data for session:  all_monkey_data/raw_monkey_data/individual_monkey_data/monkey_Bruno/data_0402\n",
      "all_monkey_data/raw_monkey_data/individual_monkey_data/monkey_Bruno/data_0329\n",
      "Successfully retrieved plan_x and plan_y data for session:  all_monkey_data/raw_monkey_data/individual_monkey_data/monkey_Bruno/data_0329\n",
      "all_monkey_data/raw_monkey_data/individual_monkey_data/monkey_Bruno/data_0316\n",
      "Successfully retrieved plan_x and plan_y data for session:  all_monkey_data/raw_monkey_data/individual_monkey_data/monkey_Bruno/data_0316\n",
      "all_monkey_data/raw_monkey_data/individual_monkey_data/monkey_Bruno/data_0327\n",
      "Successfully retrieved plan_x and plan_y data for session:  all_monkey_data/raw_monkey_data/individual_monkey_data/monkey_Bruno/data_0327\n",
      "all_monkey_data/raw_monkey_data/individual_monkey_data/monkey_Bruno/data_0321\n",
      "Successfully retrieved plan_x and plan_y data for session:  all_monkey_data/raw_monkey_data/individual_monkey_data/monkey_Bruno/data_0321\n",
      "all_monkey_data/raw_monkey_data/individual_monkey_data/monkey_Bruno/data_0326\n",
      "Successfully retrieved plan_x and plan_y data for session:  all_monkey_data/raw_monkey_data/individual_monkey_data/monkey_Bruno/data_0326\n",
      "all_monkey_data/raw_monkey_data/individual_monkey_data/monkey_Bruno/data_0328\n",
      "Successfully retrieved plan_x and plan_y data for session:  all_monkey_data/raw_monkey_data/individual_monkey_data/monkey_Bruno/data_0328\n",
      "all_monkey_data/raw_monkey_data/individual_monkey_data/monkey_Bruno/data_0309\n",
      "Successfully retrieved plan_x and plan_y data for session:  all_monkey_data/raw_monkey_data/individual_monkey_data/monkey_Bruno/data_0309\n",
      "all_monkey_data/raw_monkey_data/individual_monkey_data/monkey_Bruno/data_0307\n",
      "Successfully retrieved plan_x and plan_y data for session:  all_monkey_data/raw_monkey_data/individual_monkey_data/monkey_Bruno/data_0307\n",
      "all_monkey_data/raw_monkey_data/individual_monkey_data/monkey_Bruno/data_0306\n",
      "Successfully retrieved plan_x and plan_y data for session:  all_monkey_data/raw_monkey_data/individual_monkey_data/monkey_Bruno/data_0306\n",
      "all_monkey_data/raw_monkey_data/individual_monkey_data/monkey_Bruno/data_0301\n",
      "Successfully retrieved plan_x and plan_y data for session:  all_monkey_data/raw_monkey_data/individual_monkey_data/monkey_Bruno/data_0301\n",
      "all_monkey_data/raw_monkey_data/individual_monkey_data/monkey_Bruno/data_0308\n",
      "Successfully retrieved plan_x and plan_y data for session:  all_monkey_data/raw_monkey_data/individual_monkey_data/monkey_Bruno/data_0308\n",
      "all_monkey_data/raw_monkey_data/individual_monkey_data/monkey_Bruno/data_0330\n",
      "Successfully retrieved plan_x and plan_y data for session:  all_monkey_data/raw_monkey_data/individual_monkey_data/monkey_Bruno/data_0330\n",
      "all_monkey_data/raw_monkey_data/individual_monkey_data/monkey_Bruno/data_0220\n",
      "Successfully retrieved plan_x and plan_y data for session:  all_monkey_data/raw_monkey_data/individual_monkey_data/monkey_Bruno/data_0220\n",
      "all_monkey_data/raw_monkey_data/individual_monkey_data/monkey_Bruno/data_0227\n",
      "Successfully retrieved plan_x and plan_y data for session:  all_monkey_data/raw_monkey_data/individual_monkey_data/monkey_Bruno/data_0227\n",
      "all_monkey_data/raw_monkey_data/individual_monkey_data/monkey_Bruno/data_0228\n",
      "Successfully retrieved plan_x and plan_y data for session:  all_monkey_data/raw_monkey_data/individual_monkey_data/monkey_Bruno/data_0228\n",
      "all_monkey_data/raw_monkey_data/individual_monkey_data/monkey_Bruno/data_0226\n",
      "Successfully retrieved plan_x and plan_y data for session:  all_monkey_data/raw_monkey_data/individual_monkey_data/monkey_Bruno/data_0226\n",
      "all_monkey_data/raw_monkey_data/individual_monkey_data/monkey_Bruno/data_0219\n",
      "Successfully retrieved plan_x and plan_y data for session:  all_monkey_data/raw_monkey_data/individual_monkey_data/monkey_Bruno/data_0219\n",
      "all_monkey_data/raw_monkey_data/individual_monkey_data/monkey_Bruno/data_0221\n",
      "Successfully retrieved plan_x and plan_y data for session:  all_monkey_data/raw_monkey_data/individual_monkey_data/monkey_Bruno/data_0221\n",
      "all_monkey_data/raw_monkey_data/individual_monkey_data/monkey_Bruno/data_0312\n",
      "Successfully retrieved plan_x and plan_y data for session:  all_monkey_data/raw_monkey_data/individual_monkey_data/monkey_Bruno/data_0312\n",
      "all_monkey_data/raw_monkey_data/individual_monkey_data/monkey_Bruno/data_0315\n",
      "Successfully retrieved plan_x and plan_y data for session:  all_monkey_data/raw_monkey_data/individual_monkey_data/monkey_Bruno/data_0315\n",
      "all_monkey_data/raw_monkey_data/individual_monkey_data/monkey_Bruno/data_0323\n",
      "Successfully retrieved plan_x and plan_y data for session:  all_monkey_data/raw_monkey_data/individual_monkey_data/monkey_Bruno/data_0323\n",
      "all_monkey_data/raw_monkey_data/individual_monkey_data/monkey_Bruno/data_0322\n",
      "Successfully retrieved plan_x and plan_y data for session:  all_monkey_data/raw_monkey_data/individual_monkey_data/monkey_Bruno/data_0322\n",
      "all_monkey_data/raw_monkey_data/individual_monkey_data/monkey_Bruno/data_0314\n",
      "Successfully retrieved plan_x and plan_y data for session:  all_monkey_data/raw_monkey_data/individual_monkey_data/monkey_Bruno/data_0314\n",
      "ref_point_mode         distance\n",
      "ref_point_value      -150.00000\n",
      "monkey_name        monkey_Bruno\n",
      "stored                    False\n",
      "Name: 2, dtype: object\n",
      "all_monkey_data/raw_monkey_data/individual_monkey_data/monkey_Bruno/data_0222\n",
      "Successfully retrieved plan_x and plan_y data for session:  all_monkey_data/raw_monkey_data/individual_monkey_data/monkey_Bruno/data_0222\n",
      "all_monkey_data/raw_monkey_data/individual_monkey_data/monkey_Bruno/data_0402\n",
      "Successfully retrieved plan_x and plan_y data for session:  all_monkey_data/raw_monkey_data/individual_monkey_data/monkey_Bruno/data_0402\n",
      "all_monkey_data/raw_monkey_data/individual_monkey_data/monkey_Bruno/data_0329\n",
      "Successfully retrieved plan_x and plan_y data for session:  all_monkey_data/raw_monkey_data/individual_monkey_data/monkey_Bruno/data_0329\n",
      "all_monkey_data/raw_monkey_data/individual_monkey_data/monkey_Bruno/data_0316\n",
      "Successfully retrieved plan_x and plan_y data for session:  all_monkey_data/raw_monkey_data/individual_monkey_data/monkey_Bruno/data_0316\n",
      "all_monkey_data/raw_monkey_data/individual_monkey_data/monkey_Bruno/data_0327\n",
      "Successfully retrieved plan_x and plan_y data for session:  all_monkey_data/raw_monkey_data/individual_monkey_data/monkey_Bruno/data_0327\n",
      "all_monkey_data/raw_monkey_data/individual_monkey_data/monkey_Bruno/data_0321\n",
      "Successfully retrieved plan_x and plan_y data for session:  all_monkey_data/raw_monkey_data/individual_monkey_data/monkey_Bruno/data_0321\n",
      "all_monkey_data/raw_monkey_data/individual_monkey_data/monkey_Bruno/data_0326\n",
      "Successfully retrieved plan_x and plan_y data for session:  all_monkey_data/raw_monkey_data/individual_monkey_data/monkey_Bruno/data_0326\n",
      "all_monkey_data/raw_monkey_data/individual_monkey_data/monkey_Bruno/data_0328\n",
      "Successfully retrieved plan_x and plan_y data for session:  all_monkey_data/raw_monkey_data/individual_monkey_data/monkey_Bruno/data_0328\n",
      "all_monkey_data/raw_monkey_data/individual_monkey_data/monkey_Bruno/data_0309\n",
      "Successfully retrieved plan_x and plan_y data for session:  all_monkey_data/raw_monkey_data/individual_monkey_data/monkey_Bruno/data_0309\n",
      "all_monkey_data/raw_monkey_data/individual_monkey_data/monkey_Bruno/data_0307\n",
      "Successfully retrieved plan_x and plan_y data for session:  all_monkey_data/raw_monkey_data/individual_monkey_data/monkey_Bruno/data_0307\n",
      "all_monkey_data/raw_monkey_data/individual_monkey_data/monkey_Bruno/data_0306\n",
      "Successfully retrieved plan_x and plan_y data for session:  all_monkey_data/raw_monkey_data/individual_monkey_data/monkey_Bruno/data_0306\n",
      "all_monkey_data/raw_monkey_data/individual_monkey_data/monkey_Bruno/data_0301\n",
      "Successfully retrieved plan_x and plan_y data for session:  all_monkey_data/raw_monkey_data/individual_monkey_data/monkey_Bruno/data_0301\n",
      "all_monkey_data/raw_monkey_data/individual_monkey_data/monkey_Bruno/data_0308\n",
      "Successfully retrieved plan_x and plan_y data for session:  all_monkey_data/raw_monkey_data/individual_monkey_data/monkey_Bruno/data_0308\n",
      "all_monkey_data/raw_monkey_data/individual_monkey_data/monkey_Bruno/data_0330\n",
      "Successfully retrieved plan_x and plan_y data for session:  all_monkey_data/raw_monkey_data/individual_monkey_data/monkey_Bruno/data_0330\n",
      "all_monkey_data/raw_monkey_data/individual_monkey_data/monkey_Bruno/data_0220\n",
      "Successfully retrieved plan_x and plan_y data for session:  all_monkey_data/raw_monkey_data/individual_monkey_data/monkey_Bruno/data_0220\n",
      "all_monkey_data/raw_monkey_data/individual_monkey_data/monkey_Bruno/data_0227\n",
      "Successfully retrieved plan_x and plan_y data for session:  all_monkey_data/raw_monkey_data/individual_monkey_data/monkey_Bruno/data_0227\n",
      "all_monkey_data/raw_monkey_data/individual_monkey_data/monkey_Bruno/data_0228\n",
      "Successfully retrieved plan_x and plan_y data for session:  all_monkey_data/raw_monkey_data/individual_monkey_data/monkey_Bruno/data_0228\n",
      "all_monkey_data/raw_monkey_data/individual_monkey_data/monkey_Bruno/data_0226\n",
      "Successfully retrieved plan_x and plan_y data for session:  all_monkey_data/raw_monkey_data/individual_monkey_data/monkey_Bruno/data_0226\n",
      "all_monkey_data/raw_monkey_data/individual_monkey_data/monkey_Bruno/data_0219\n",
      "Successfully retrieved plan_x and plan_y data for session:  all_monkey_data/raw_monkey_data/individual_monkey_data/monkey_Bruno/data_0219\n",
      "all_monkey_data/raw_monkey_data/individual_monkey_data/monkey_Bruno/data_0221\n",
      "Successfully retrieved plan_x and plan_y data for session:  all_monkey_data/raw_monkey_data/individual_monkey_data/monkey_Bruno/data_0221\n",
      "all_monkey_data/raw_monkey_data/individual_monkey_data/monkey_Bruno/data_0312\n",
      "Successfully retrieved plan_x and plan_y data for session:  all_monkey_data/raw_monkey_data/individual_monkey_data/monkey_Bruno/data_0312\n",
      "all_monkey_data/raw_monkey_data/individual_monkey_data/monkey_Bruno/data_0315\n",
      "Successfully retrieved plan_x and plan_y data for session:  all_monkey_data/raw_monkey_data/individual_monkey_data/monkey_Bruno/data_0315\n",
      "all_monkey_data/raw_monkey_data/individual_monkey_data/monkey_Bruno/data_0323\n",
      "Successfully retrieved plan_x and plan_y data for session:  all_monkey_data/raw_monkey_data/individual_monkey_data/monkey_Bruno/data_0323\n",
      "all_monkey_data/raw_monkey_data/individual_monkey_data/monkey_Bruno/data_0322\n",
      "Successfully retrieved plan_x and plan_y data for session:  all_monkey_data/raw_monkey_data/individual_monkey_data/monkey_Bruno/data_0322\n",
      "all_monkey_data/raw_monkey_data/individual_monkey_data/monkey_Bruno/data_0314\n",
      "Successfully retrieved plan_x and plan_y data for session:  all_monkey_data/raw_monkey_data/individual_monkey_data/monkey_Bruno/data_0314\n",
      "ref_point_mode         distance\n",
      "ref_point_value      -100.00000\n",
      "monkey_name        monkey_Bruno\n",
      "stored                    False\n",
      "Name: 3, dtype: object\n",
      "all_monkey_data/raw_monkey_data/individual_monkey_data/monkey_Bruno/data_0222\n",
      "Successfully retrieved plan_x and plan_y data for session:  all_monkey_data/raw_monkey_data/individual_monkey_data/monkey_Bruno/data_0222\n",
      "all_monkey_data/raw_monkey_data/individual_monkey_data/monkey_Bruno/data_0402\n",
      "Successfully retrieved plan_x and plan_y data for session:  all_monkey_data/raw_monkey_data/individual_monkey_data/monkey_Bruno/data_0402\n",
      "all_monkey_data/raw_monkey_data/individual_monkey_data/monkey_Bruno/data_0329\n",
      "Successfully retrieved plan_x and plan_y data for session:  all_monkey_data/raw_monkey_data/individual_monkey_data/monkey_Bruno/data_0329\n",
      "all_monkey_data/raw_monkey_data/individual_monkey_data/monkey_Bruno/data_0316\n",
      "Successfully retrieved plan_x and plan_y data for session:  all_monkey_data/raw_monkey_data/individual_monkey_data/monkey_Bruno/data_0316\n",
      "all_monkey_data/raw_monkey_data/individual_monkey_data/monkey_Bruno/data_0327\n",
      "Successfully retrieved plan_x and plan_y data for session:  all_monkey_data/raw_monkey_data/individual_monkey_data/monkey_Bruno/data_0327\n",
      "all_monkey_data/raw_monkey_data/individual_monkey_data/monkey_Bruno/data_0321\n",
      "Successfully retrieved plan_x and plan_y data for session:  all_monkey_data/raw_monkey_data/individual_monkey_data/monkey_Bruno/data_0321\n",
      "all_monkey_data/raw_monkey_data/individual_monkey_data/monkey_Bruno/data_0326\n",
      "Successfully retrieved plan_x and plan_y data for session:  all_monkey_data/raw_monkey_data/individual_monkey_data/monkey_Bruno/data_0326\n",
      "all_monkey_data/raw_monkey_data/individual_monkey_data/monkey_Bruno/data_0328\n",
      "Successfully retrieved plan_x and plan_y data for session:  all_monkey_data/raw_monkey_data/individual_monkey_data/monkey_Bruno/data_0328\n",
      "all_monkey_data/raw_monkey_data/individual_monkey_data/monkey_Bruno/data_0309\n",
      "Successfully retrieved plan_x and plan_y data for session:  all_monkey_data/raw_monkey_data/individual_monkey_data/monkey_Bruno/data_0309\n",
      "all_monkey_data/raw_monkey_data/individual_monkey_data/monkey_Bruno/data_0307\n",
      "Successfully retrieved plan_x and plan_y data for session:  all_monkey_data/raw_monkey_data/individual_monkey_data/monkey_Bruno/data_0307\n",
      "all_monkey_data/raw_monkey_data/individual_monkey_data/monkey_Bruno/data_0306\n",
      "Successfully retrieved plan_x and plan_y data for session:  all_monkey_data/raw_monkey_data/individual_monkey_data/monkey_Bruno/data_0306\n",
      "all_monkey_data/raw_monkey_data/individual_monkey_data/monkey_Bruno/data_0301\n",
      "Successfully retrieved plan_x and plan_y data for session:  all_monkey_data/raw_monkey_data/individual_monkey_data/monkey_Bruno/data_0301\n",
      "all_monkey_data/raw_monkey_data/individual_monkey_data/monkey_Bruno/data_0308\n",
      "Successfully retrieved plan_x and plan_y data for session:  all_monkey_data/raw_monkey_data/individual_monkey_data/monkey_Bruno/data_0308\n",
      "all_monkey_data/raw_monkey_data/individual_monkey_data/monkey_Bruno/data_0330\n",
      "Successfully retrieved plan_x and plan_y data for session:  all_monkey_data/raw_monkey_data/individual_monkey_data/monkey_Bruno/data_0330\n",
      "all_monkey_data/raw_monkey_data/individual_monkey_data/monkey_Bruno/data_0220\n",
      "Successfully retrieved plan_x and plan_y data for session:  all_monkey_data/raw_monkey_data/individual_monkey_data/monkey_Bruno/data_0220\n",
      "all_monkey_data/raw_monkey_data/individual_monkey_data/monkey_Bruno/data_0227\n",
      "Successfully retrieved plan_x and plan_y data for session:  all_monkey_data/raw_monkey_data/individual_monkey_data/monkey_Bruno/data_0227\n",
      "all_monkey_data/raw_monkey_data/individual_monkey_data/monkey_Bruno/data_0228\n",
      "Successfully retrieved plan_x and plan_y data for session:  all_monkey_data/raw_monkey_data/individual_monkey_data/monkey_Bruno/data_0228\n",
      "all_monkey_data/raw_monkey_data/individual_monkey_data/monkey_Bruno/data_0226\n",
      "Successfully retrieved plan_x and plan_y data for session:  all_monkey_data/raw_monkey_data/individual_monkey_data/monkey_Bruno/data_0226\n",
      "all_monkey_data/raw_monkey_data/individual_monkey_data/monkey_Bruno/data_0219\n",
      "Successfully retrieved plan_x and plan_y data for session:  all_monkey_data/raw_monkey_data/individual_monkey_data/monkey_Bruno/data_0219\n",
      "all_monkey_data/raw_monkey_data/individual_monkey_data/monkey_Bruno/data_0221\n",
      "Successfully retrieved plan_x and plan_y data for session:  all_monkey_data/raw_monkey_data/individual_monkey_data/monkey_Bruno/data_0221\n",
      "all_monkey_data/raw_monkey_data/individual_monkey_data/monkey_Bruno/data_0312\n",
      "Successfully retrieved plan_x and plan_y data for session:  all_monkey_data/raw_monkey_data/individual_monkey_data/monkey_Bruno/data_0312\n",
      "all_monkey_data/raw_monkey_data/individual_monkey_data/monkey_Bruno/data_0315\n",
      "Successfully retrieved plan_x and plan_y data for session:  all_monkey_data/raw_monkey_data/individual_monkey_data/monkey_Bruno/data_0315\n",
      "all_monkey_data/raw_monkey_data/individual_monkey_data/monkey_Bruno/data_0323\n",
      "Successfully retrieved plan_x and plan_y data for session:  all_monkey_data/raw_monkey_data/individual_monkey_data/monkey_Bruno/data_0323\n",
      "all_monkey_data/raw_monkey_data/individual_monkey_data/monkey_Bruno/data_0322\n",
      "Successfully retrieved plan_x and plan_y data for session:  all_monkey_data/raw_monkey_data/individual_monkey_data/monkey_Bruno/data_0322\n",
      "all_monkey_data/raw_monkey_data/individual_monkey_data/monkey_Bruno/data_0314\n",
      "Successfully retrieved plan_x and plan_y data for session:  all_monkey_data/raw_monkey_data/individual_monkey_data/monkey_Bruno/data_0314\n",
      "ref_point_mode         distance\n",
      "ref_point_value       -50.00000\n",
      "monkey_name        monkey_Bruno\n",
      "stored                    False\n",
      "Name: 4, dtype: object\n",
      "all_monkey_data/raw_monkey_data/individual_monkey_data/monkey_Bruno/data_0222\n",
      "Successfully retrieved plan_x and plan_y data for session:  all_monkey_data/raw_monkey_data/individual_monkey_data/monkey_Bruno/data_0222\n",
      "all_monkey_data/raw_monkey_data/individual_monkey_data/monkey_Bruno/data_0402\n",
      "Successfully retrieved plan_x and plan_y data for session:  all_monkey_data/raw_monkey_data/individual_monkey_data/monkey_Bruno/data_0402\n",
      "all_monkey_data/raw_monkey_data/individual_monkey_data/monkey_Bruno/data_0329\n",
      "Successfully retrieved plan_x and plan_y data for session:  all_monkey_data/raw_monkey_data/individual_monkey_data/monkey_Bruno/data_0329\n",
      "all_monkey_data/raw_monkey_data/individual_monkey_data/monkey_Bruno/data_0316\n",
      "Successfully retrieved plan_x and plan_y data for session:  all_monkey_data/raw_monkey_data/individual_monkey_data/monkey_Bruno/data_0316\n",
      "all_monkey_data/raw_monkey_data/individual_monkey_data/monkey_Bruno/data_0327\n",
      "Successfully retrieved plan_x and plan_y data for session:  all_monkey_data/raw_monkey_data/individual_monkey_data/monkey_Bruno/data_0327\n",
      "all_monkey_data/raw_monkey_data/individual_monkey_data/monkey_Bruno/data_0321\n",
      "Successfully retrieved plan_x and plan_y data for session:  all_monkey_data/raw_monkey_data/individual_monkey_data/monkey_Bruno/data_0321\n",
      "all_monkey_data/raw_monkey_data/individual_monkey_data/monkey_Bruno/data_0326\n",
      "Successfully retrieved plan_x and plan_y data for session:  all_monkey_data/raw_monkey_data/individual_monkey_data/monkey_Bruno/data_0326\n",
      "all_monkey_data/raw_monkey_data/individual_monkey_data/monkey_Bruno/data_0328\n",
      "Successfully retrieved plan_x and plan_y data for session:  all_monkey_data/raw_monkey_data/individual_monkey_data/monkey_Bruno/data_0328\n",
      "all_monkey_data/raw_monkey_data/individual_monkey_data/monkey_Bruno/data_0309\n",
      "Successfully retrieved plan_x and plan_y data for session:  all_monkey_data/raw_monkey_data/individual_monkey_data/monkey_Bruno/data_0309\n",
      "all_monkey_data/raw_monkey_data/individual_monkey_data/monkey_Bruno/data_0307\n",
      "Successfully retrieved plan_x and plan_y data for session:  all_monkey_data/raw_monkey_data/individual_monkey_data/monkey_Bruno/data_0307\n",
      "all_monkey_data/raw_monkey_data/individual_monkey_data/monkey_Bruno/data_0306\n",
      "Successfully retrieved plan_x and plan_y data for session:  all_monkey_data/raw_monkey_data/individual_monkey_data/monkey_Bruno/data_0306\n",
      "all_monkey_data/raw_monkey_data/individual_monkey_data/monkey_Bruno/data_0301\n",
      "Successfully retrieved plan_x and plan_y data for session:  all_monkey_data/raw_monkey_data/individual_monkey_data/monkey_Bruno/data_0301\n",
      "all_monkey_data/raw_monkey_data/individual_monkey_data/monkey_Bruno/data_0308\n",
      "Successfully retrieved plan_x and plan_y data for session:  all_monkey_data/raw_monkey_data/individual_monkey_data/monkey_Bruno/data_0308\n",
      "all_monkey_data/raw_monkey_data/individual_monkey_data/monkey_Bruno/data_0330\n",
      "Successfully retrieved plan_x and plan_y data for session:  all_monkey_data/raw_monkey_data/individual_monkey_data/monkey_Bruno/data_0330\n",
      "all_monkey_data/raw_monkey_data/individual_monkey_data/monkey_Bruno/data_0220\n",
      "Successfully retrieved plan_x and plan_y data for session:  all_monkey_data/raw_monkey_data/individual_monkey_data/monkey_Bruno/data_0220\n",
      "all_monkey_data/raw_monkey_data/individual_monkey_data/monkey_Bruno/data_0227\n",
      "Successfully retrieved plan_x and plan_y data for session:  all_monkey_data/raw_monkey_data/individual_monkey_data/monkey_Bruno/data_0227\n",
      "all_monkey_data/raw_monkey_data/individual_monkey_data/monkey_Bruno/data_0228\n",
      "Successfully retrieved plan_x and plan_y data for session:  all_monkey_data/raw_monkey_data/individual_monkey_data/monkey_Bruno/data_0228\n",
      "all_monkey_data/raw_monkey_data/individual_monkey_data/monkey_Bruno/data_0226\n",
      "Successfully retrieved plan_x and plan_y data for session:  all_monkey_data/raw_monkey_data/individual_monkey_data/monkey_Bruno/data_0226\n",
      "all_monkey_data/raw_monkey_data/individual_monkey_data/monkey_Bruno/data_0219\n",
      "Successfully retrieved plan_x and plan_y data for session:  all_monkey_data/raw_monkey_data/individual_monkey_data/monkey_Bruno/data_0219\n",
      "all_monkey_data/raw_monkey_data/individual_monkey_data/monkey_Bruno/data_0221\n",
      "Successfully retrieved plan_x and plan_y data for session:  all_monkey_data/raw_monkey_data/individual_monkey_data/monkey_Bruno/data_0221\n",
      "all_monkey_data/raw_monkey_data/individual_monkey_data/monkey_Bruno/data_0312\n",
      "Successfully retrieved plan_x and plan_y data for session:  all_monkey_data/raw_monkey_data/individual_monkey_data/monkey_Bruno/data_0312\n",
      "all_monkey_data/raw_monkey_data/individual_monkey_data/monkey_Bruno/data_0315\n",
      "Successfully retrieved plan_x and plan_y data for session:  all_monkey_data/raw_monkey_data/individual_monkey_data/monkey_Bruno/data_0315\n",
      "all_monkey_data/raw_monkey_data/individual_monkey_data/monkey_Bruno/data_0323\n",
      "Successfully retrieved plan_x and plan_y data for session:  all_monkey_data/raw_monkey_data/individual_monkey_data/monkey_Bruno/data_0323\n",
      "all_monkey_data/raw_monkey_data/individual_monkey_data/monkey_Bruno/data_0322\n",
      "Successfully retrieved plan_x and plan_y data for session:  all_monkey_data/raw_monkey_data/individual_monkey_data/monkey_Bruno/data_0322\n",
      "all_monkey_data/raw_monkey_data/individual_monkey_data/monkey_Bruno/data_0314\n",
      "Successfully retrieved plan_x and plan_y data for session:  all_monkey_data/raw_monkey_data/individual_monkey_data/monkey_Bruno/data_0314\n",
      "ref_point_mode     time after stop ff visible\n",
      "ref_point_value                       0.10000\n",
      "monkey_name                      monkey_Schro\n",
      "stored                                  False\n",
      "Name: 0, dtype: object\n",
      "all_monkey_data/raw_monkey_data/individual_monkey_data/monkey_Schro/data_0410\n",
      "Successfully retrieved plan_x and plan_y data for session:  all_monkey_data/raw_monkey_data/individual_monkey_data/monkey_Schro/data_0410\n",
      "all_monkey_data/raw_monkey_data/individual_monkey_data/monkey_Schro/data_0417\n",
      "Successfully retrieved plan_x and plan_y data for session:  all_monkey_data/raw_monkey_data/individual_monkey_data/monkey_Schro/data_0417\n",
      "all_monkey_data/raw_monkey_data/individual_monkey_data/monkey_Schro/data_0419\n",
      "Successfully retrieved plan_x and plan_y data for session:  all_monkey_data/raw_monkey_data/individual_monkey_data/monkey_Schro/data_0419\n",
      "all_monkey_data/raw_monkey_data/individual_monkey_data/monkey_Schro/data_0420\n",
      "Successfully retrieved plan_x and plan_y data for session:  all_monkey_data/raw_monkey_data/individual_monkey_data/monkey_Schro/data_0420\n",
      "all_monkey_data/raw_monkey_data/individual_monkey_data/monkey_Schro/data_0416\n",
      "Successfully retrieved plan_x and plan_y data for session:  all_monkey_data/raw_monkey_data/individual_monkey_data/monkey_Schro/data_0416\n",
      "all_monkey_data/raw_monkey_data/individual_monkey_data/monkey_Schro/data_0411\n",
      "Successfully retrieved plan_x and plan_y data for session:  all_monkey_data/raw_monkey_data/individual_monkey_data/monkey_Schro/data_0411\n",
      "all_monkey_data/raw_monkey_data/individual_monkey_data/monkey_Schro/data_0402\n",
      "Successfully retrieved plan_x and plan_y data for session:  all_monkey_data/raw_monkey_data/individual_monkey_data/monkey_Schro/data_0402\n",
      "all_monkey_data/raw_monkey_data/individual_monkey_data/monkey_Schro/data_0404\n",
      "Successfully retrieved plan_x and plan_y data for session:  all_monkey_data/raw_monkey_data/individual_monkey_data/monkey_Schro/data_0404\n",
      "all_monkey_data/raw_monkey_data/individual_monkey_data/monkey_Schro/data_0403\n",
      "Successfully retrieved plan_x and plan_y data for session:  all_monkey_data/raw_monkey_data/individual_monkey_data/monkey_Schro/data_0403\n",
      "all_monkey_data/raw_monkey_data/individual_monkey_data/monkey_Schro/data_0329\n",
      "Successfully retrieved plan_x and plan_y data for session:  all_monkey_data/raw_monkey_data/individual_monkey_data/monkey_Schro/data_0329\n",
      "all_monkey_data/raw_monkey_data/individual_monkey_data/monkey_Schro/data_0316\n",
      "Successfully retrieved plan_x and plan_y data for session:  all_monkey_data/raw_monkey_data/individual_monkey_data/monkey_Schro/data_0316\n",
      "all_monkey_data/raw_monkey_data/individual_monkey_data/monkey_Schro/data_0327\n",
      "Successfully retrieved plan_x and plan_y data for session:  all_monkey_data/raw_monkey_data/individual_monkey_data/monkey_Schro/data_0327\n",
      "all_monkey_data/raw_monkey_data/individual_monkey_data/monkey_Schro/data_0321\n",
      "Successfully retrieved plan_x and plan_y data for session:  all_monkey_data/raw_monkey_data/individual_monkey_data/monkey_Schro/data_0321\n",
      "all_monkey_data/raw_monkey_data/individual_monkey_data/monkey_Schro/data_0326\n",
      "Successfully retrieved plan_x and plan_y data for session:  all_monkey_data/raw_monkey_data/individual_monkey_data/monkey_Schro/data_0326\n",
      "all_monkey_data/raw_monkey_data/individual_monkey_data/monkey_Schro/data_0328\n",
      "Successfully retrieved plan_x and plan_y data for session:  all_monkey_data/raw_monkey_data/individual_monkey_data/monkey_Schro/data_0328\n",
      "all_monkey_data/raw_monkey_data/individual_monkey_data/monkey_Schro/data_0413\n",
      "Successfully retrieved plan_x and plan_y data for session:  all_monkey_data/raw_monkey_data/individual_monkey_data/monkey_Schro/data_0413\n",
      "all_monkey_data/raw_monkey_data/individual_monkey_data/monkey_Schro/data_0423\n",
      "Successfully retrieved plan_x and plan_y data for session:  all_monkey_data/raw_monkey_data/individual_monkey_data/monkey_Schro/data_0423\n",
      "all_monkey_data/raw_monkey_data/individual_monkey_data/monkey_Schro/data_0424\n",
      "Successfully retrieved plan_x and plan_y data for session:  all_monkey_data/raw_monkey_data/individual_monkey_data/monkey_Schro/data_0424\n",
      "all_monkey_data/raw_monkey_data/individual_monkey_data/monkey_Schro/data_0412\n",
      "Successfully retrieved plan_x and plan_y data for session:  all_monkey_data/raw_monkey_data/individual_monkey_data/monkey_Schro/data_0412\n",
      "all_monkey_data/raw_monkey_data/individual_monkey_data/monkey_Schro/data_0406\n",
      "Successfully retrieved plan_x and plan_y data for session:  all_monkey_data/raw_monkey_data/individual_monkey_data/monkey_Schro/data_0406\n",
      "all_monkey_data/raw_monkey_data/individual_monkey_data/monkey_Schro/data_0409\n",
      "Successfully retrieved plan_x and plan_y data for session:  all_monkey_data/raw_monkey_data/individual_monkey_data/monkey_Schro/data_0409\n",
      "all_monkey_data/raw_monkey_data/individual_monkey_data/monkey_Schro/data_0322\n",
      "Successfully retrieved plan_x and plan_y data for session:  all_monkey_data/raw_monkey_data/individual_monkey_data/monkey_Schro/data_0322\n",
      "ref_point_mode     time after stop ff visible\n",
      "ref_point_value                       0.00000\n",
      "monkey_name                      monkey_Schro\n",
      "stored                                  False\n",
      "Name: 1, dtype: object\n",
      "all_monkey_data/raw_monkey_data/individual_monkey_data/monkey_Schro/data_0410\n",
      "Successfully retrieved plan_x and plan_y data for session:  all_monkey_data/raw_monkey_data/individual_monkey_data/monkey_Schro/data_0410\n",
      "all_monkey_data/raw_monkey_data/individual_monkey_data/monkey_Schro/data_0417\n",
      "Successfully retrieved plan_x and plan_y data for session:  all_monkey_data/raw_monkey_data/individual_monkey_data/monkey_Schro/data_0417\n",
      "all_monkey_data/raw_monkey_data/individual_monkey_data/monkey_Schro/data_0419\n",
      "Successfully retrieved plan_x and plan_y data for session:  all_monkey_data/raw_monkey_data/individual_monkey_data/monkey_Schro/data_0419\n",
      "all_monkey_data/raw_monkey_data/individual_monkey_data/monkey_Schro/data_0420\n",
      "Successfully retrieved plan_x and plan_y data for session:  all_monkey_data/raw_monkey_data/individual_monkey_data/monkey_Schro/data_0420\n",
      "all_monkey_data/raw_monkey_data/individual_monkey_data/monkey_Schro/data_0416\n",
      "Successfully retrieved plan_x and plan_y data for session:  all_monkey_data/raw_monkey_data/individual_monkey_data/monkey_Schro/data_0416\n",
      "all_monkey_data/raw_monkey_data/individual_monkey_data/monkey_Schro/data_0411\n",
      "Successfully retrieved plan_x and plan_y data for session:  all_monkey_data/raw_monkey_data/individual_monkey_data/monkey_Schro/data_0411\n",
      "all_monkey_data/raw_monkey_data/individual_monkey_data/monkey_Schro/data_0402\n",
      "Successfully retrieved plan_x and plan_y data for session:  all_monkey_data/raw_monkey_data/individual_monkey_data/monkey_Schro/data_0402\n",
      "all_monkey_data/raw_monkey_data/individual_monkey_data/monkey_Schro/data_0404\n",
      "Successfully retrieved plan_x and plan_y data for session:  all_monkey_data/raw_monkey_data/individual_monkey_data/monkey_Schro/data_0404\n",
      "all_monkey_data/raw_monkey_data/individual_monkey_data/monkey_Schro/data_0403\n",
      "Successfully retrieved plan_x and plan_y data for session:  all_monkey_data/raw_monkey_data/individual_monkey_data/monkey_Schro/data_0403\n",
      "all_monkey_data/raw_monkey_data/individual_monkey_data/monkey_Schro/data_0329\n",
      "Successfully retrieved plan_x and plan_y data for session:  all_monkey_data/raw_monkey_data/individual_monkey_data/monkey_Schro/data_0329\n",
      "all_monkey_data/raw_monkey_data/individual_monkey_data/monkey_Schro/data_0316\n",
      "Successfully retrieved plan_x and plan_y data for session:  all_monkey_data/raw_monkey_data/individual_monkey_data/monkey_Schro/data_0316\n",
      "all_monkey_data/raw_monkey_data/individual_monkey_data/monkey_Schro/data_0327\n",
      "Successfully retrieved plan_x and plan_y data for session:  all_monkey_data/raw_monkey_data/individual_monkey_data/monkey_Schro/data_0327\n",
      "all_monkey_data/raw_monkey_data/individual_monkey_data/monkey_Schro/data_0321\n",
      "Successfully retrieved plan_x and plan_y data for session:  all_monkey_data/raw_monkey_data/individual_monkey_data/monkey_Schro/data_0321\n",
      "all_monkey_data/raw_monkey_data/individual_monkey_data/monkey_Schro/data_0326\n",
      "Successfully retrieved plan_x and plan_y data for session:  all_monkey_data/raw_monkey_data/individual_monkey_data/monkey_Schro/data_0326\n",
      "all_monkey_data/raw_monkey_data/individual_monkey_data/monkey_Schro/data_0328\n",
      "Successfully retrieved plan_x and plan_y data for session:  all_monkey_data/raw_monkey_data/individual_monkey_data/monkey_Schro/data_0328\n",
      "all_monkey_data/raw_monkey_data/individual_monkey_data/monkey_Schro/data_0413\n",
      "Successfully retrieved plan_x and plan_y data for session:  all_monkey_data/raw_monkey_data/individual_monkey_data/monkey_Schro/data_0413\n",
      "all_monkey_data/raw_monkey_data/individual_monkey_data/monkey_Schro/data_0423\n",
      "Successfully retrieved plan_x and plan_y data for session:  all_monkey_data/raw_monkey_data/individual_monkey_data/monkey_Schro/data_0423\n",
      "all_monkey_data/raw_monkey_data/individual_monkey_data/monkey_Schro/data_0424\n",
      "Successfully retrieved plan_x and plan_y data for session:  all_monkey_data/raw_monkey_data/individual_monkey_data/monkey_Schro/data_0424\n",
      "all_monkey_data/raw_monkey_data/individual_monkey_data/monkey_Schro/data_0412\n",
      "Successfully retrieved plan_x and plan_y data for session:  all_monkey_data/raw_monkey_data/individual_monkey_data/monkey_Schro/data_0412\n",
      "all_monkey_data/raw_monkey_data/individual_monkey_data/monkey_Schro/data_0406\n",
      "Successfully retrieved plan_x and plan_y data for session:  all_monkey_data/raw_monkey_data/individual_monkey_data/monkey_Schro/data_0406\n",
      "all_monkey_data/raw_monkey_data/individual_monkey_data/monkey_Schro/data_0409\n",
      "Successfully retrieved plan_x and plan_y data for session:  all_monkey_data/raw_monkey_data/individual_monkey_data/monkey_Schro/data_0409\n",
      "all_monkey_data/raw_monkey_data/individual_monkey_data/monkey_Schro/data_0322\n",
      "Successfully retrieved plan_x and plan_y data for session:  all_monkey_data/raw_monkey_data/individual_monkey_data/monkey_Schro/data_0322\n",
      "ref_point_mode         distance\n",
      "ref_point_value      -150.00000\n",
      "monkey_name        monkey_Schro\n",
      "stored                    False\n",
      "Name: 2, dtype: object\n",
      "all_monkey_data/raw_monkey_data/individual_monkey_data/monkey_Schro/data_0410\n",
      "Successfully retrieved plan_x and plan_y data for session:  all_monkey_data/raw_monkey_data/individual_monkey_data/monkey_Schro/data_0410\n",
      "all_monkey_data/raw_monkey_data/individual_monkey_data/monkey_Schro/data_0417\n",
      "Successfully retrieved plan_x and plan_y data for session:  all_monkey_data/raw_monkey_data/individual_monkey_data/monkey_Schro/data_0417\n",
      "all_monkey_data/raw_monkey_data/individual_monkey_data/monkey_Schro/data_0419\n",
      "Successfully retrieved plan_x and plan_y data for session:  all_monkey_data/raw_monkey_data/individual_monkey_data/monkey_Schro/data_0419\n",
      "all_monkey_data/raw_monkey_data/individual_monkey_data/monkey_Schro/data_0420\n",
      "Successfully retrieved plan_x and plan_y data for session:  all_monkey_data/raw_monkey_data/individual_monkey_data/monkey_Schro/data_0420\n",
      "all_monkey_data/raw_monkey_data/individual_monkey_data/monkey_Schro/data_0416\n",
      "Successfully retrieved plan_x and plan_y data for session:  all_monkey_data/raw_monkey_data/individual_monkey_data/monkey_Schro/data_0416\n",
      "all_monkey_data/raw_monkey_data/individual_monkey_data/monkey_Schro/data_0411\n",
      "Successfully retrieved plan_x and plan_y data for session:  all_monkey_data/raw_monkey_data/individual_monkey_data/monkey_Schro/data_0411\n",
      "all_monkey_data/raw_monkey_data/individual_monkey_data/monkey_Schro/data_0402\n",
      "Successfully retrieved plan_x and plan_y data for session:  all_monkey_data/raw_monkey_data/individual_monkey_data/monkey_Schro/data_0402\n",
      "all_monkey_data/raw_monkey_data/individual_monkey_data/monkey_Schro/data_0404\n",
      "Successfully retrieved plan_x and plan_y data for session:  all_monkey_data/raw_monkey_data/individual_monkey_data/monkey_Schro/data_0404\n",
      "all_monkey_data/raw_monkey_data/individual_monkey_data/monkey_Schro/data_0403\n",
      "Successfully retrieved plan_x and plan_y data for session:  all_monkey_data/raw_monkey_data/individual_monkey_data/monkey_Schro/data_0403\n",
      "all_monkey_data/raw_monkey_data/individual_monkey_data/monkey_Schro/data_0329\n",
      "Successfully retrieved plan_x and plan_y data for session:  all_monkey_data/raw_monkey_data/individual_monkey_data/monkey_Schro/data_0329\n",
      "all_monkey_data/raw_monkey_data/individual_monkey_data/monkey_Schro/data_0316\n",
      "Successfully retrieved plan_x and plan_y data for session:  all_monkey_data/raw_monkey_data/individual_monkey_data/monkey_Schro/data_0316\n",
      "all_monkey_data/raw_monkey_data/individual_monkey_data/monkey_Schro/data_0327\n",
      "Successfully retrieved plan_x and plan_y data for session:  all_monkey_data/raw_monkey_data/individual_monkey_data/monkey_Schro/data_0327\n",
      "all_monkey_data/raw_monkey_data/individual_monkey_data/monkey_Schro/data_0321\n",
      "Successfully retrieved plan_x and plan_y data for session:  all_monkey_data/raw_monkey_data/individual_monkey_data/monkey_Schro/data_0321\n",
      "all_monkey_data/raw_monkey_data/individual_monkey_data/monkey_Schro/data_0326\n",
      "Successfully retrieved plan_x and plan_y data for session:  all_monkey_data/raw_monkey_data/individual_monkey_data/monkey_Schro/data_0326\n",
      "all_monkey_data/raw_monkey_data/individual_monkey_data/monkey_Schro/data_0328\n",
      "Successfully retrieved plan_x and plan_y data for session:  all_monkey_data/raw_monkey_data/individual_monkey_data/monkey_Schro/data_0328\n",
      "all_monkey_data/raw_monkey_data/individual_monkey_data/monkey_Schro/data_0413\n",
      "Successfully retrieved plan_x and plan_y data for session:  all_monkey_data/raw_monkey_data/individual_monkey_data/monkey_Schro/data_0413\n",
      "all_monkey_data/raw_monkey_data/individual_monkey_data/monkey_Schro/data_0423\n",
      "Successfully retrieved plan_x and plan_y data for session:  all_monkey_data/raw_monkey_data/individual_monkey_data/monkey_Schro/data_0423\n",
      "all_monkey_data/raw_monkey_data/individual_monkey_data/monkey_Schro/data_0424\n",
      "Successfully retrieved plan_x and plan_y data for session:  all_monkey_data/raw_monkey_data/individual_monkey_data/monkey_Schro/data_0424\n",
      "all_monkey_data/raw_monkey_data/individual_monkey_data/monkey_Schro/data_0412\n",
      "Successfully retrieved plan_x and plan_y data for session:  all_monkey_data/raw_monkey_data/individual_monkey_data/monkey_Schro/data_0412\n",
      "all_monkey_data/raw_monkey_data/individual_monkey_data/monkey_Schro/data_0406\n",
      "Successfully retrieved plan_x and plan_y data for session:  all_monkey_data/raw_monkey_data/individual_monkey_data/monkey_Schro/data_0406\n",
      "all_monkey_data/raw_monkey_data/individual_monkey_data/monkey_Schro/data_0409\n",
      "Successfully retrieved plan_x and plan_y data for session:  all_monkey_data/raw_monkey_data/individual_monkey_data/monkey_Schro/data_0409\n",
      "all_monkey_data/raw_monkey_data/individual_monkey_data/monkey_Schro/data_0322\n",
      "Successfully retrieved plan_x and plan_y data for session:  all_monkey_data/raw_monkey_data/individual_monkey_data/monkey_Schro/data_0322\n",
      "ref_point_mode         distance\n",
      "ref_point_value      -100.00000\n",
      "monkey_name        monkey_Schro\n",
      "stored                    False\n",
      "Name: 3, dtype: object\n",
      "all_monkey_data/raw_monkey_data/individual_monkey_data/monkey_Schro/data_0410\n",
      "Successfully retrieved plan_x and plan_y data for session:  all_monkey_data/raw_monkey_data/individual_monkey_data/monkey_Schro/data_0410\n",
      "all_monkey_data/raw_monkey_data/individual_monkey_data/monkey_Schro/data_0417\n",
      "Successfully retrieved plan_x and plan_y data for session:  all_monkey_data/raw_monkey_data/individual_monkey_data/monkey_Schro/data_0417\n",
      "all_monkey_data/raw_monkey_data/individual_monkey_data/monkey_Schro/data_0419\n",
      "Successfully retrieved plan_x and plan_y data for session:  all_monkey_data/raw_monkey_data/individual_monkey_data/monkey_Schro/data_0419\n",
      "all_monkey_data/raw_monkey_data/individual_monkey_data/monkey_Schro/data_0420\n",
      "Successfully retrieved plan_x and plan_y data for session:  all_monkey_data/raw_monkey_data/individual_monkey_data/monkey_Schro/data_0420\n",
      "all_monkey_data/raw_monkey_data/individual_monkey_data/monkey_Schro/data_0416\n",
      "Successfully retrieved plan_x and plan_y data for session:  all_monkey_data/raw_monkey_data/individual_monkey_data/monkey_Schro/data_0416\n",
      "all_monkey_data/raw_monkey_data/individual_monkey_data/monkey_Schro/data_0411\n",
      "Successfully retrieved plan_x and plan_y data for session:  all_monkey_data/raw_monkey_data/individual_monkey_data/monkey_Schro/data_0411\n",
      "all_monkey_data/raw_monkey_data/individual_monkey_data/monkey_Schro/data_0402\n",
      "Successfully retrieved plan_x and plan_y data for session:  all_monkey_data/raw_monkey_data/individual_monkey_data/monkey_Schro/data_0402\n",
      "all_monkey_data/raw_monkey_data/individual_monkey_data/monkey_Schro/data_0404\n",
      "Successfully retrieved plan_x and plan_y data for session:  all_monkey_data/raw_monkey_data/individual_monkey_data/monkey_Schro/data_0404\n",
      "all_monkey_data/raw_monkey_data/individual_monkey_data/monkey_Schro/data_0403\n",
      "Successfully retrieved plan_x and plan_y data for session:  all_monkey_data/raw_monkey_data/individual_monkey_data/monkey_Schro/data_0403\n",
      "all_monkey_data/raw_monkey_data/individual_monkey_data/monkey_Schro/data_0329\n",
      "Successfully retrieved plan_x and plan_y data for session:  all_monkey_data/raw_monkey_data/individual_monkey_data/monkey_Schro/data_0329\n",
      "all_monkey_data/raw_monkey_data/individual_monkey_data/monkey_Schro/data_0316\n",
      "Successfully retrieved plan_x and plan_y data for session:  all_monkey_data/raw_monkey_data/individual_monkey_data/monkey_Schro/data_0316\n",
      "all_monkey_data/raw_monkey_data/individual_monkey_data/monkey_Schro/data_0327\n",
      "Successfully retrieved plan_x and plan_y data for session:  all_monkey_data/raw_monkey_data/individual_monkey_data/monkey_Schro/data_0327\n",
      "all_monkey_data/raw_monkey_data/individual_monkey_data/monkey_Schro/data_0321\n",
      "Successfully retrieved plan_x and plan_y data for session:  all_monkey_data/raw_monkey_data/individual_monkey_data/monkey_Schro/data_0321\n",
      "all_monkey_data/raw_monkey_data/individual_monkey_data/monkey_Schro/data_0326\n",
      "Successfully retrieved plan_x and plan_y data for session:  all_monkey_data/raw_monkey_data/individual_monkey_data/monkey_Schro/data_0326\n",
      "all_monkey_data/raw_monkey_data/individual_monkey_data/monkey_Schro/data_0328\n",
      "Successfully retrieved plan_x and plan_y data for session:  all_monkey_data/raw_monkey_data/individual_monkey_data/monkey_Schro/data_0328\n",
      "all_monkey_data/raw_monkey_data/individual_monkey_data/monkey_Schro/data_0413\n",
      "Successfully retrieved plan_x and plan_y data for session:  all_monkey_data/raw_monkey_data/individual_monkey_data/monkey_Schro/data_0413\n",
      "all_monkey_data/raw_monkey_data/individual_monkey_data/monkey_Schro/data_0423\n",
      "Successfully retrieved plan_x and plan_y data for session:  all_monkey_data/raw_monkey_data/individual_monkey_data/monkey_Schro/data_0423\n",
      "all_monkey_data/raw_monkey_data/individual_monkey_data/monkey_Schro/data_0424\n",
      "Successfully retrieved plan_x and plan_y data for session:  all_monkey_data/raw_monkey_data/individual_monkey_data/monkey_Schro/data_0424\n",
      "all_monkey_data/raw_monkey_data/individual_monkey_data/monkey_Schro/data_0412\n",
      "Successfully retrieved plan_x and plan_y data for session:  all_monkey_data/raw_monkey_data/individual_monkey_data/monkey_Schro/data_0412\n",
      "all_monkey_data/raw_monkey_data/individual_monkey_data/monkey_Schro/data_0406\n",
      "Successfully retrieved plan_x and plan_y data for session:  all_monkey_data/raw_monkey_data/individual_monkey_data/monkey_Schro/data_0406\n",
      "all_monkey_data/raw_monkey_data/individual_monkey_data/monkey_Schro/data_0409\n",
      "Successfully retrieved plan_x and plan_y data for session:  all_monkey_data/raw_monkey_data/individual_monkey_data/monkey_Schro/data_0409\n",
      "all_monkey_data/raw_monkey_data/individual_monkey_data/monkey_Schro/data_0322\n",
      "Successfully retrieved plan_x and plan_y data for session:  all_monkey_data/raw_monkey_data/individual_monkey_data/monkey_Schro/data_0322\n",
      "ref_point_mode         distance\n",
      "ref_point_value       -50.00000\n",
      "monkey_name        monkey_Schro\n",
      "stored                    False\n",
      "Name: 4, dtype: object\n",
      "all_monkey_data/raw_monkey_data/individual_monkey_data/monkey_Schro/data_0410\n",
      "Successfully retrieved plan_x and plan_y data for session:  all_monkey_data/raw_monkey_data/individual_monkey_data/monkey_Schro/data_0410\n",
      "all_monkey_data/raw_monkey_data/individual_monkey_data/monkey_Schro/data_0417\n",
      "Successfully retrieved plan_x and plan_y data for session:  all_monkey_data/raw_monkey_data/individual_monkey_data/monkey_Schro/data_0417\n",
      "all_monkey_data/raw_monkey_data/individual_monkey_data/monkey_Schro/data_0419\n",
      "Successfully retrieved plan_x and plan_y data for session:  all_monkey_data/raw_monkey_data/individual_monkey_data/monkey_Schro/data_0419\n",
      "all_monkey_data/raw_monkey_data/individual_monkey_data/monkey_Schro/data_0420\n",
      "Successfully retrieved plan_x and plan_y data for session:  all_monkey_data/raw_monkey_data/individual_monkey_data/monkey_Schro/data_0420\n",
      "all_monkey_data/raw_monkey_data/individual_monkey_data/monkey_Schro/data_0416\n",
      "Successfully retrieved plan_x and plan_y data for session:  all_monkey_data/raw_monkey_data/individual_monkey_data/monkey_Schro/data_0416\n",
      "all_monkey_data/raw_monkey_data/individual_monkey_data/monkey_Schro/data_0411\n",
      "Successfully retrieved plan_x and plan_y data for session:  all_monkey_data/raw_monkey_data/individual_monkey_data/monkey_Schro/data_0411\n",
      "all_monkey_data/raw_monkey_data/individual_monkey_data/monkey_Schro/data_0402\n",
      "Successfully retrieved plan_x and plan_y data for session:  all_monkey_data/raw_monkey_data/individual_monkey_data/monkey_Schro/data_0402\n",
      "all_monkey_data/raw_monkey_data/individual_monkey_data/monkey_Schro/data_0404\n",
      "Successfully retrieved plan_x and plan_y data for session:  all_monkey_data/raw_monkey_data/individual_monkey_data/monkey_Schro/data_0404\n",
      "all_monkey_data/raw_monkey_data/individual_monkey_data/monkey_Schro/data_0403\n",
      "Successfully retrieved plan_x and plan_y data for session:  all_monkey_data/raw_monkey_data/individual_monkey_data/monkey_Schro/data_0403\n",
      "all_monkey_data/raw_monkey_data/individual_monkey_data/monkey_Schro/data_0329\n",
      "Successfully retrieved plan_x and plan_y data for session:  all_monkey_data/raw_monkey_data/individual_monkey_data/monkey_Schro/data_0329\n",
      "all_monkey_data/raw_monkey_data/individual_monkey_data/monkey_Schro/data_0316\n",
      "Successfully retrieved plan_x and plan_y data for session:  all_monkey_data/raw_monkey_data/individual_monkey_data/monkey_Schro/data_0316\n",
      "all_monkey_data/raw_monkey_data/individual_monkey_data/monkey_Schro/data_0327\n",
      "Successfully retrieved plan_x and plan_y data for session:  all_monkey_data/raw_monkey_data/individual_monkey_data/monkey_Schro/data_0327\n",
      "all_monkey_data/raw_monkey_data/individual_monkey_data/monkey_Schro/data_0321\n",
      "Successfully retrieved plan_x and plan_y data for session:  all_monkey_data/raw_monkey_data/individual_monkey_data/monkey_Schro/data_0321\n",
      "all_monkey_data/raw_monkey_data/individual_monkey_data/monkey_Schro/data_0326\n",
      "Successfully retrieved plan_x and plan_y data for session:  all_monkey_data/raw_monkey_data/individual_monkey_data/monkey_Schro/data_0326\n",
      "all_monkey_data/raw_monkey_data/individual_monkey_data/monkey_Schro/data_0328\n",
      "Successfully retrieved plan_x and plan_y data for session:  all_monkey_data/raw_monkey_data/individual_monkey_data/monkey_Schro/data_0328\n",
      "all_monkey_data/raw_monkey_data/individual_monkey_data/monkey_Schro/data_0413\n",
      "Successfully retrieved plan_x and plan_y data for session:  all_monkey_data/raw_monkey_data/individual_monkey_data/monkey_Schro/data_0413\n",
      "all_monkey_data/raw_monkey_data/individual_monkey_data/monkey_Schro/data_0423\n",
      "Successfully retrieved plan_x and plan_y data for session:  all_monkey_data/raw_monkey_data/individual_monkey_data/monkey_Schro/data_0423\n",
      "all_monkey_data/raw_monkey_data/individual_monkey_data/monkey_Schro/data_0424\n",
      "Successfully retrieved plan_x and plan_y data for session:  all_monkey_data/raw_monkey_data/individual_monkey_data/monkey_Schro/data_0424\n",
      "all_monkey_data/raw_monkey_data/individual_monkey_data/monkey_Schro/data_0412\n",
      "Successfully retrieved plan_x and plan_y data for session:  all_monkey_data/raw_monkey_data/individual_monkey_data/monkey_Schro/data_0412\n",
      "all_monkey_data/raw_monkey_data/individual_monkey_data/monkey_Schro/data_0406\n",
      "Successfully retrieved plan_x and plan_y data for session:  all_monkey_data/raw_monkey_data/individual_monkey_data/monkey_Schro/data_0406\n",
      "all_monkey_data/raw_monkey_data/individual_monkey_data/monkey_Schro/data_0409\n",
      "Successfully retrieved plan_x and plan_y data for session:  all_monkey_data/raw_monkey_data/individual_monkey_data/monkey_Schro/data_0409\n",
      "all_monkey_data/raw_monkey_data/individual_monkey_data/monkey_Schro/data_0322\n",
      "Successfully retrieved plan_x and plan_y data for session:  all_monkey_data/raw_monkey_data/individual_monkey_data/monkey_Schro/data_0322\n",
      "ref_point_mode     time after stop ff visible\n",
      "ref_point_value                       0.10000\n",
      "monkey_name                      monkey_Bruno\n",
      "stored                                  False\n",
      "Name: 0, dtype: object\n",
      "all_monkey_data/raw_monkey_data/individual_monkey_data/monkey_Bruno/data_0222\n",
      "Successfully retrieved plan_x and plan_y data for session:  all_monkey_data/raw_monkey_data/individual_monkey_data/monkey_Bruno/data_0222\n",
      "all_monkey_data/raw_monkey_data/individual_monkey_data/monkey_Bruno/data_0402\n",
      "Successfully retrieved plan_x and plan_y data for session:  all_monkey_data/raw_monkey_data/individual_monkey_data/monkey_Bruno/data_0402\n",
      "all_monkey_data/raw_monkey_data/individual_monkey_data/monkey_Bruno/data_0329\n",
      "Successfully retrieved plan_x and plan_y data for session:  all_monkey_data/raw_monkey_data/individual_monkey_data/monkey_Bruno/data_0329\n",
      "all_monkey_data/raw_monkey_data/individual_monkey_data/monkey_Bruno/data_0316\n",
      "Successfully retrieved plan_x and plan_y data for session:  all_monkey_data/raw_monkey_data/individual_monkey_data/monkey_Bruno/data_0316\n",
      "all_monkey_data/raw_monkey_data/individual_monkey_data/monkey_Bruno/data_0327\n",
      "Successfully retrieved plan_x and plan_y data for session:  all_monkey_data/raw_monkey_data/individual_monkey_data/monkey_Bruno/data_0327\n",
      "all_monkey_data/raw_monkey_data/individual_monkey_data/monkey_Bruno/data_0321\n",
      "Successfully retrieved plan_x and plan_y data for session:  all_monkey_data/raw_monkey_data/individual_monkey_data/monkey_Bruno/data_0321\n",
      "all_monkey_data/raw_monkey_data/individual_monkey_data/monkey_Bruno/data_0326\n",
      "Successfully retrieved plan_x and plan_y data for session:  all_monkey_data/raw_monkey_data/individual_monkey_data/monkey_Bruno/data_0326\n",
      "all_monkey_data/raw_monkey_data/individual_monkey_data/monkey_Bruno/data_0328\n",
      "Successfully retrieved plan_x and plan_y data for session:  all_monkey_data/raw_monkey_data/individual_monkey_data/monkey_Bruno/data_0328\n",
      "all_monkey_data/raw_monkey_data/individual_monkey_data/monkey_Bruno/data_0309\n",
      "Successfully retrieved plan_x and plan_y data for session:  all_monkey_data/raw_monkey_data/individual_monkey_data/monkey_Bruno/data_0309\n",
      "all_monkey_data/raw_monkey_data/individual_monkey_data/monkey_Bruno/data_0307\n",
      "Successfully retrieved plan_x and plan_y data for session:  all_monkey_data/raw_monkey_data/individual_monkey_data/monkey_Bruno/data_0307\n",
      "all_monkey_data/raw_monkey_data/individual_monkey_data/monkey_Bruno/data_0306\n",
      "Successfully retrieved plan_x and plan_y data for session:  all_monkey_data/raw_monkey_data/individual_monkey_data/monkey_Bruno/data_0306\n",
      "all_monkey_data/raw_monkey_data/individual_monkey_data/monkey_Bruno/data_0301\n",
      "Successfully retrieved plan_x and plan_y data for session:  all_monkey_data/raw_monkey_data/individual_monkey_data/monkey_Bruno/data_0301\n",
      "all_monkey_data/raw_monkey_data/individual_monkey_data/monkey_Bruno/data_0308\n",
      "Successfully retrieved plan_x and plan_y data for session:  all_monkey_data/raw_monkey_data/individual_monkey_data/monkey_Bruno/data_0308\n",
      "all_monkey_data/raw_monkey_data/individual_monkey_data/monkey_Bruno/data_0330\n",
      "Successfully retrieved plan_x and plan_y data for session:  all_monkey_data/raw_monkey_data/individual_monkey_data/monkey_Bruno/data_0330\n",
      "all_monkey_data/raw_monkey_data/individual_monkey_data/monkey_Bruno/data_0220\n",
      "Successfully retrieved plan_x and plan_y data for session:  all_monkey_data/raw_monkey_data/individual_monkey_data/monkey_Bruno/data_0220\n",
      "all_monkey_data/raw_monkey_data/individual_monkey_data/monkey_Bruno/data_0227\n",
      "Successfully retrieved plan_x and plan_y data for session:  all_monkey_data/raw_monkey_data/individual_monkey_data/monkey_Bruno/data_0227\n",
      "all_monkey_data/raw_monkey_data/individual_monkey_data/monkey_Bruno/data_0228\n",
      "Successfully retrieved plan_x and plan_y data for session:  all_monkey_data/raw_monkey_data/individual_monkey_data/monkey_Bruno/data_0228\n",
      "all_monkey_data/raw_monkey_data/individual_monkey_data/monkey_Bruno/data_0226\n",
      "Successfully retrieved plan_x and plan_y data for session:  all_monkey_data/raw_monkey_data/individual_monkey_data/monkey_Bruno/data_0226\n",
      "all_monkey_data/raw_monkey_data/individual_monkey_data/monkey_Bruno/data_0219\n",
      "Successfully retrieved plan_x and plan_y data for session:  all_monkey_data/raw_monkey_data/individual_monkey_data/monkey_Bruno/data_0219\n",
      "all_monkey_data/raw_monkey_data/individual_monkey_data/monkey_Bruno/data_0221\n",
      "Successfully retrieved plan_x and plan_y data for session:  all_monkey_data/raw_monkey_data/individual_monkey_data/monkey_Bruno/data_0221\n",
      "all_monkey_data/raw_monkey_data/individual_monkey_data/monkey_Bruno/data_0312\n",
      "Successfully retrieved plan_x and plan_y data for session:  all_monkey_data/raw_monkey_data/individual_monkey_data/monkey_Bruno/data_0312\n",
      "all_monkey_data/raw_monkey_data/individual_monkey_data/monkey_Bruno/data_0315\n",
      "Successfully retrieved plan_x and plan_y data for session:  all_monkey_data/raw_monkey_data/individual_monkey_data/monkey_Bruno/data_0315\n",
      "all_monkey_data/raw_monkey_data/individual_monkey_data/monkey_Bruno/data_0323\n",
      "Successfully retrieved plan_x and plan_y data for session:  all_monkey_data/raw_monkey_data/individual_monkey_data/monkey_Bruno/data_0323\n",
      "all_monkey_data/raw_monkey_data/individual_monkey_data/monkey_Bruno/data_0322\n",
      "Successfully retrieved plan_x and plan_y data for session:  all_monkey_data/raw_monkey_data/individual_monkey_data/monkey_Bruno/data_0322\n",
      "all_monkey_data/raw_monkey_data/individual_monkey_data/monkey_Bruno/data_0314\n",
      "Successfully retrieved plan_x and plan_y data for session:  all_monkey_data/raw_monkey_data/individual_monkey_data/monkey_Bruno/data_0314\n",
      "ref_point_mode     time after stop ff visible\n",
      "ref_point_value                       0.00000\n",
      "monkey_name                      monkey_Bruno\n",
      "stored                                  False\n",
      "Name: 1, dtype: object\n",
      "all_monkey_data/raw_monkey_data/individual_monkey_data/monkey_Bruno/data_0222\n",
      "Successfully retrieved plan_x and plan_y data for session:  all_monkey_data/raw_monkey_data/individual_monkey_data/monkey_Bruno/data_0222\n",
      "all_monkey_data/raw_monkey_data/individual_monkey_data/monkey_Bruno/data_0402\n",
      "Successfully retrieved plan_x and plan_y data for session:  all_monkey_data/raw_monkey_data/individual_monkey_data/monkey_Bruno/data_0402\n",
      "all_monkey_data/raw_monkey_data/individual_monkey_data/monkey_Bruno/data_0329\n",
      "Successfully retrieved plan_x and plan_y data for session:  all_monkey_data/raw_monkey_data/individual_monkey_data/monkey_Bruno/data_0329\n",
      "all_monkey_data/raw_monkey_data/individual_monkey_data/monkey_Bruno/data_0316\n",
      "Successfully retrieved plan_x and plan_y data for session:  all_monkey_data/raw_monkey_data/individual_monkey_data/monkey_Bruno/data_0316\n",
      "all_monkey_data/raw_monkey_data/individual_monkey_data/monkey_Bruno/data_0327\n",
      "Successfully retrieved plan_x and plan_y data for session:  all_monkey_data/raw_monkey_data/individual_monkey_data/monkey_Bruno/data_0327\n",
      "all_monkey_data/raw_monkey_data/individual_monkey_data/monkey_Bruno/data_0321\n",
      "Successfully retrieved plan_x and plan_y data for session:  all_monkey_data/raw_monkey_data/individual_monkey_data/monkey_Bruno/data_0321\n",
      "all_monkey_data/raw_monkey_data/individual_monkey_data/monkey_Bruno/data_0326\n",
      "Successfully retrieved plan_x and plan_y data for session:  all_monkey_data/raw_monkey_data/individual_monkey_data/monkey_Bruno/data_0326\n",
      "all_monkey_data/raw_monkey_data/individual_monkey_data/monkey_Bruno/data_0328\n",
      "Successfully retrieved plan_x and plan_y data for session:  all_monkey_data/raw_monkey_data/individual_monkey_data/monkey_Bruno/data_0328\n",
      "all_monkey_data/raw_monkey_data/individual_monkey_data/monkey_Bruno/data_0309\n",
      "Successfully retrieved plan_x and plan_y data for session:  all_monkey_data/raw_monkey_data/individual_monkey_data/monkey_Bruno/data_0309\n",
      "all_monkey_data/raw_monkey_data/individual_monkey_data/monkey_Bruno/data_0307\n",
      "Successfully retrieved plan_x and plan_y data for session:  all_monkey_data/raw_monkey_data/individual_monkey_data/monkey_Bruno/data_0307\n",
      "all_monkey_data/raw_monkey_data/individual_monkey_data/monkey_Bruno/data_0306\n",
      "Successfully retrieved plan_x and plan_y data for session:  all_monkey_data/raw_monkey_data/individual_monkey_data/monkey_Bruno/data_0306\n",
      "all_monkey_data/raw_monkey_data/individual_monkey_data/monkey_Bruno/data_0301\n",
      "Successfully retrieved plan_x and plan_y data for session:  all_monkey_data/raw_monkey_data/individual_monkey_data/monkey_Bruno/data_0301\n",
      "all_monkey_data/raw_monkey_data/individual_monkey_data/monkey_Bruno/data_0308\n",
      "Successfully retrieved plan_x and plan_y data for session:  all_monkey_data/raw_monkey_data/individual_monkey_data/monkey_Bruno/data_0308\n",
      "all_monkey_data/raw_monkey_data/individual_monkey_data/monkey_Bruno/data_0330\n",
      "Successfully retrieved plan_x and plan_y data for session:  all_monkey_data/raw_monkey_data/individual_monkey_data/monkey_Bruno/data_0330\n",
      "all_monkey_data/raw_monkey_data/individual_monkey_data/monkey_Bruno/data_0220\n",
      "Successfully retrieved plan_x and plan_y data for session:  all_monkey_data/raw_monkey_data/individual_monkey_data/monkey_Bruno/data_0220\n",
      "all_monkey_data/raw_monkey_data/individual_monkey_data/monkey_Bruno/data_0227\n",
      "Successfully retrieved plan_x and plan_y data for session:  all_monkey_data/raw_monkey_data/individual_monkey_data/monkey_Bruno/data_0227\n",
      "all_monkey_data/raw_monkey_data/individual_monkey_data/monkey_Bruno/data_0228\n",
      "Successfully retrieved plan_x and plan_y data for session:  all_monkey_data/raw_monkey_data/individual_monkey_data/monkey_Bruno/data_0228\n",
      "all_monkey_data/raw_monkey_data/individual_monkey_data/monkey_Bruno/data_0226\n",
      "Successfully retrieved plan_x and plan_y data for session:  all_monkey_data/raw_monkey_data/individual_monkey_data/monkey_Bruno/data_0226\n",
      "all_monkey_data/raw_monkey_data/individual_monkey_data/monkey_Bruno/data_0219\n",
      "Successfully retrieved plan_x and plan_y data for session:  all_monkey_data/raw_monkey_data/individual_monkey_data/monkey_Bruno/data_0219\n",
      "all_monkey_data/raw_monkey_data/individual_monkey_data/monkey_Bruno/data_0221\n",
      "Successfully retrieved plan_x and plan_y data for session:  all_monkey_data/raw_monkey_data/individual_monkey_data/monkey_Bruno/data_0221\n",
      "all_monkey_data/raw_monkey_data/individual_monkey_data/monkey_Bruno/data_0312\n",
      "Successfully retrieved plan_x and plan_y data for session:  all_monkey_data/raw_monkey_data/individual_monkey_data/monkey_Bruno/data_0312\n",
      "all_monkey_data/raw_monkey_data/individual_monkey_data/monkey_Bruno/data_0315\n",
      "Successfully retrieved plan_x and plan_y data for session:  all_monkey_data/raw_monkey_data/individual_monkey_data/monkey_Bruno/data_0315\n",
      "all_monkey_data/raw_monkey_data/individual_monkey_data/monkey_Bruno/data_0323\n",
      "Successfully retrieved plan_x and plan_y data for session:  all_monkey_data/raw_monkey_data/individual_monkey_data/monkey_Bruno/data_0323\n",
      "all_monkey_data/raw_monkey_data/individual_monkey_data/monkey_Bruno/data_0322\n",
      "Successfully retrieved plan_x and plan_y data for session:  all_monkey_data/raw_monkey_data/individual_monkey_data/monkey_Bruno/data_0322\n",
      "all_monkey_data/raw_monkey_data/individual_monkey_data/monkey_Bruno/data_0314\n",
      "Successfully retrieved plan_x and plan_y data for session:  all_monkey_data/raw_monkey_data/individual_monkey_data/monkey_Bruno/data_0314\n",
      "ref_point_mode         distance\n",
      "ref_point_value      -150.00000\n",
      "monkey_name        monkey_Bruno\n",
      "stored                    False\n",
      "Name: 2, dtype: object\n",
      "all_monkey_data/raw_monkey_data/individual_monkey_data/monkey_Bruno/data_0222\n",
      "Successfully retrieved plan_x and plan_y data for session:  all_monkey_data/raw_monkey_data/individual_monkey_data/monkey_Bruno/data_0222\n",
      "all_monkey_data/raw_monkey_data/individual_monkey_data/monkey_Bruno/data_0402\n",
      "Successfully retrieved plan_x and plan_y data for session:  all_monkey_data/raw_monkey_data/individual_monkey_data/monkey_Bruno/data_0402\n",
      "all_monkey_data/raw_monkey_data/individual_monkey_data/monkey_Bruno/data_0329\n",
      "Successfully retrieved plan_x and plan_y data for session:  all_monkey_data/raw_monkey_data/individual_monkey_data/monkey_Bruno/data_0329\n",
      "all_monkey_data/raw_monkey_data/individual_monkey_data/monkey_Bruno/data_0316\n",
      "Successfully retrieved plan_x and plan_y data for session:  all_monkey_data/raw_monkey_data/individual_monkey_data/monkey_Bruno/data_0316\n",
      "all_monkey_data/raw_monkey_data/individual_monkey_data/monkey_Bruno/data_0327\n",
      "Successfully retrieved plan_x and plan_y data for session:  all_monkey_data/raw_monkey_data/individual_monkey_data/monkey_Bruno/data_0327\n",
      "all_monkey_data/raw_monkey_data/individual_monkey_data/monkey_Bruno/data_0321\n",
      "Successfully retrieved plan_x and plan_y data for session:  all_monkey_data/raw_monkey_data/individual_monkey_data/monkey_Bruno/data_0321\n",
      "all_monkey_data/raw_monkey_data/individual_monkey_data/monkey_Bruno/data_0326\n",
      "Successfully retrieved plan_x and plan_y data for session:  all_monkey_data/raw_monkey_data/individual_monkey_data/monkey_Bruno/data_0326\n",
      "all_monkey_data/raw_monkey_data/individual_monkey_data/monkey_Bruno/data_0328\n",
      "Successfully retrieved plan_x and plan_y data for session:  all_monkey_data/raw_monkey_data/individual_monkey_data/monkey_Bruno/data_0328\n",
      "all_monkey_data/raw_monkey_data/individual_monkey_data/monkey_Bruno/data_0309\n",
      "Successfully retrieved plan_x and plan_y data for session:  all_monkey_data/raw_monkey_data/individual_monkey_data/monkey_Bruno/data_0309\n",
      "all_monkey_data/raw_monkey_data/individual_monkey_data/monkey_Bruno/data_0307\n",
      "Successfully retrieved plan_x and plan_y data for session:  all_monkey_data/raw_monkey_data/individual_monkey_data/monkey_Bruno/data_0307\n",
      "all_monkey_data/raw_monkey_data/individual_monkey_data/monkey_Bruno/data_0306\n",
      "Successfully retrieved plan_x and plan_y data for session:  all_monkey_data/raw_monkey_data/individual_monkey_data/monkey_Bruno/data_0306\n",
      "all_monkey_data/raw_monkey_data/individual_monkey_data/monkey_Bruno/data_0301\n",
      "Successfully retrieved plan_x and plan_y data for session:  all_monkey_data/raw_monkey_data/individual_monkey_data/monkey_Bruno/data_0301\n",
      "all_monkey_data/raw_monkey_data/individual_monkey_data/monkey_Bruno/data_0308\n",
      "Successfully retrieved plan_x and plan_y data for session:  all_monkey_data/raw_monkey_data/individual_monkey_data/monkey_Bruno/data_0308\n",
      "all_monkey_data/raw_monkey_data/individual_monkey_data/monkey_Bruno/data_0330\n",
      "Successfully retrieved plan_x and plan_y data for session:  all_monkey_data/raw_monkey_data/individual_monkey_data/monkey_Bruno/data_0330\n",
      "all_monkey_data/raw_monkey_data/individual_monkey_data/monkey_Bruno/data_0220\n",
      "Successfully retrieved plan_x and plan_y data for session:  all_monkey_data/raw_monkey_data/individual_monkey_data/monkey_Bruno/data_0220\n",
      "all_monkey_data/raw_monkey_data/individual_monkey_data/monkey_Bruno/data_0227\n",
      "Successfully retrieved plan_x and plan_y data for session:  all_monkey_data/raw_monkey_data/individual_monkey_data/monkey_Bruno/data_0227\n",
      "all_monkey_data/raw_monkey_data/individual_monkey_data/monkey_Bruno/data_0228\n",
      "Successfully retrieved plan_x and plan_y data for session:  all_monkey_data/raw_monkey_data/individual_monkey_data/monkey_Bruno/data_0228\n",
      "all_monkey_data/raw_monkey_data/individual_monkey_data/monkey_Bruno/data_0226\n",
      "Successfully retrieved plan_x and plan_y data for session:  all_monkey_data/raw_monkey_data/individual_monkey_data/monkey_Bruno/data_0226\n",
      "all_monkey_data/raw_monkey_data/individual_monkey_data/monkey_Bruno/data_0219\n",
      "Successfully retrieved plan_x and plan_y data for session:  all_monkey_data/raw_monkey_data/individual_monkey_data/monkey_Bruno/data_0219\n",
      "all_monkey_data/raw_monkey_data/individual_monkey_data/monkey_Bruno/data_0221\n",
      "Successfully retrieved plan_x and plan_y data for session:  all_monkey_data/raw_monkey_data/individual_monkey_data/monkey_Bruno/data_0221\n",
      "all_monkey_data/raw_monkey_data/individual_monkey_data/monkey_Bruno/data_0312\n",
      "Successfully retrieved plan_x and plan_y data for session:  all_monkey_data/raw_monkey_data/individual_monkey_data/monkey_Bruno/data_0312\n",
      "all_monkey_data/raw_monkey_data/individual_monkey_data/monkey_Bruno/data_0315\n",
      "Successfully retrieved plan_x and plan_y data for session:  all_monkey_data/raw_monkey_data/individual_monkey_data/monkey_Bruno/data_0315\n",
      "all_monkey_data/raw_monkey_data/individual_monkey_data/monkey_Bruno/data_0323\n",
      "Successfully retrieved plan_x and plan_y data for session:  all_monkey_data/raw_monkey_data/individual_monkey_data/monkey_Bruno/data_0323\n",
      "all_monkey_data/raw_monkey_data/individual_monkey_data/monkey_Bruno/data_0322\n",
      "Successfully retrieved plan_x and plan_y data for session:  all_monkey_data/raw_monkey_data/individual_monkey_data/monkey_Bruno/data_0322\n",
      "all_monkey_data/raw_monkey_data/individual_monkey_data/monkey_Bruno/data_0314\n",
      "Successfully retrieved plan_x and plan_y data for session:  all_monkey_data/raw_monkey_data/individual_monkey_data/monkey_Bruno/data_0314\n",
      "ref_point_mode         distance\n",
      "ref_point_value      -100.00000\n",
      "monkey_name        monkey_Bruno\n",
      "stored                    False\n",
      "Name: 3, dtype: object\n",
      "all_monkey_data/raw_monkey_data/individual_monkey_data/monkey_Bruno/data_0222\n",
      "Successfully retrieved plan_x and plan_y data for session:  all_monkey_data/raw_monkey_data/individual_monkey_data/monkey_Bruno/data_0222\n",
      "all_monkey_data/raw_monkey_data/individual_monkey_data/monkey_Bruno/data_0402\n",
      "Successfully retrieved plan_x and plan_y data for session:  all_monkey_data/raw_monkey_data/individual_monkey_data/monkey_Bruno/data_0402\n",
      "all_monkey_data/raw_monkey_data/individual_monkey_data/monkey_Bruno/data_0329\n",
      "Successfully retrieved plan_x and plan_y data for session:  all_monkey_data/raw_monkey_data/individual_monkey_data/monkey_Bruno/data_0329\n",
      "all_monkey_data/raw_monkey_data/individual_monkey_data/monkey_Bruno/data_0316\n",
      "Successfully retrieved plan_x and plan_y data for session:  all_monkey_data/raw_monkey_data/individual_monkey_data/monkey_Bruno/data_0316\n",
      "all_monkey_data/raw_monkey_data/individual_monkey_data/monkey_Bruno/data_0327\n",
      "Successfully retrieved plan_x and plan_y data for session:  all_monkey_data/raw_monkey_data/individual_monkey_data/monkey_Bruno/data_0327\n",
      "all_monkey_data/raw_monkey_data/individual_monkey_data/monkey_Bruno/data_0321\n",
      "Successfully retrieved plan_x and plan_y data for session:  all_monkey_data/raw_monkey_data/individual_monkey_data/monkey_Bruno/data_0321\n",
      "all_monkey_data/raw_monkey_data/individual_monkey_data/monkey_Bruno/data_0326\n",
      "Successfully retrieved plan_x and plan_y data for session:  all_monkey_data/raw_monkey_data/individual_monkey_data/monkey_Bruno/data_0326\n",
      "all_monkey_data/raw_monkey_data/individual_monkey_data/monkey_Bruno/data_0328\n",
      "Successfully retrieved plan_x and plan_y data for session:  all_monkey_data/raw_monkey_data/individual_monkey_data/monkey_Bruno/data_0328\n",
      "all_monkey_data/raw_monkey_data/individual_monkey_data/monkey_Bruno/data_0309\n",
      "Successfully retrieved plan_x and plan_y data for session:  all_monkey_data/raw_monkey_data/individual_monkey_data/monkey_Bruno/data_0309\n",
      "all_monkey_data/raw_monkey_data/individual_monkey_data/monkey_Bruno/data_0307\n",
      "Successfully retrieved plan_x and plan_y data for session:  all_monkey_data/raw_monkey_data/individual_monkey_data/monkey_Bruno/data_0307\n",
      "all_monkey_data/raw_monkey_data/individual_monkey_data/monkey_Bruno/data_0306\n",
      "Successfully retrieved plan_x and plan_y data for session:  all_monkey_data/raw_monkey_data/individual_monkey_data/monkey_Bruno/data_0306\n",
      "all_monkey_data/raw_monkey_data/individual_monkey_data/monkey_Bruno/data_0301\n",
      "Successfully retrieved plan_x and plan_y data for session:  all_monkey_data/raw_monkey_data/individual_monkey_data/monkey_Bruno/data_0301\n",
      "all_monkey_data/raw_monkey_data/individual_monkey_data/monkey_Bruno/data_0308\n",
      "Successfully retrieved plan_x and plan_y data for session:  all_monkey_data/raw_monkey_data/individual_monkey_data/monkey_Bruno/data_0308\n",
      "all_monkey_data/raw_monkey_data/individual_monkey_data/monkey_Bruno/data_0330\n",
      "Successfully retrieved plan_x and plan_y data for session:  all_monkey_data/raw_monkey_data/individual_monkey_data/monkey_Bruno/data_0330\n",
      "all_monkey_data/raw_monkey_data/individual_monkey_data/monkey_Bruno/data_0220\n",
      "Successfully retrieved plan_x and plan_y data for session:  all_monkey_data/raw_monkey_data/individual_monkey_data/monkey_Bruno/data_0220\n",
      "all_monkey_data/raw_monkey_data/individual_monkey_data/monkey_Bruno/data_0227\n",
      "Successfully retrieved plan_x and plan_y data for session:  all_monkey_data/raw_monkey_data/individual_monkey_data/monkey_Bruno/data_0227\n",
      "all_monkey_data/raw_monkey_data/individual_monkey_data/monkey_Bruno/data_0228\n",
      "Successfully retrieved plan_x and plan_y data for session:  all_monkey_data/raw_monkey_data/individual_monkey_data/monkey_Bruno/data_0228\n",
      "all_monkey_data/raw_monkey_data/individual_monkey_data/monkey_Bruno/data_0226\n",
      "Successfully retrieved plan_x and plan_y data for session:  all_monkey_data/raw_monkey_data/individual_monkey_data/monkey_Bruno/data_0226\n",
      "all_monkey_data/raw_monkey_data/individual_monkey_data/monkey_Bruno/data_0219\n",
      "Successfully retrieved plan_x and plan_y data for session:  all_monkey_data/raw_monkey_data/individual_monkey_data/monkey_Bruno/data_0219\n",
      "all_monkey_data/raw_monkey_data/individual_monkey_data/monkey_Bruno/data_0221\n",
      "Successfully retrieved plan_x and plan_y data for session:  all_monkey_data/raw_monkey_data/individual_monkey_data/monkey_Bruno/data_0221\n",
      "all_monkey_data/raw_monkey_data/individual_monkey_data/monkey_Bruno/data_0312\n",
      "Successfully retrieved plan_x and plan_y data for session:  all_monkey_data/raw_monkey_data/individual_monkey_data/monkey_Bruno/data_0312\n",
      "all_monkey_data/raw_monkey_data/individual_monkey_data/monkey_Bruno/data_0315\n",
      "Successfully retrieved plan_x and plan_y data for session:  all_monkey_data/raw_monkey_data/individual_monkey_data/monkey_Bruno/data_0315\n",
      "all_monkey_data/raw_monkey_data/individual_monkey_data/monkey_Bruno/data_0323\n",
      "Successfully retrieved plan_x and plan_y data for session:  all_monkey_data/raw_monkey_data/individual_monkey_data/monkey_Bruno/data_0323\n",
      "all_monkey_data/raw_monkey_data/individual_monkey_data/monkey_Bruno/data_0322\n",
      "Successfully retrieved plan_x and plan_y data for session:  all_monkey_data/raw_monkey_data/individual_monkey_data/monkey_Bruno/data_0322\n",
      "all_monkey_data/raw_monkey_data/individual_monkey_data/monkey_Bruno/data_0314\n",
      "Successfully retrieved plan_x and plan_y data for session:  all_monkey_data/raw_monkey_data/individual_monkey_data/monkey_Bruno/data_0314\n",
      "ref_point_mode         distance\n",
      "ref_point_value       -50.00000\n",
      "monkey_name        monkey_Bruno\n",
      "stored                    False\n",
      "Name: 4, dtype: object\n",
      "all_monkey_data/raw_monkey_data/individual_monkey_data/monkey_Bruno/data_0222\n",
      "Successfully retrieved plan_x and plan_y data for session:  all_monkey_data/raw_monkey_data/individual_monkey_data/monkey_Bruno/data_0222\n",
      "all_monkey_data/raw_monkey_data/individual_monkey_data/monkey_Bruno/data_0402\n",
      "Successfully retrieved plan_x and plan_y data for session:  all_monkey_data/raw_monkey_data/individual_monkey_data/monkey_Bruno/data_0402\n",
      "all_monkey_data/raw_monkey_data/individual_monkey_data/monkey_Bruno/data_0329\n",
      "Successfully retrieved plan_x and plan_y data for session:  all_monkey_data/raw_monkey_data/individual_monkey_data/monkey_Bruno/data_0329\n",
      "all_monkey_data/raw_monkey_data/individual_monkey_data/monkey_Bruno/data_0316\n",
      "Successfully retrieved plan_x and plan_y data for session:  all_monkey_data/raw_monkey_data/individual_monkey_data/monkey_Bruno/data_0316\n",
      "all_monkey_data/raw_monkey_data/individual_monkey_data/monkey_Bruno/data_0327\n",
      "Successfully retrieved plan_x and plan_y data for session:  all_monkey_data/raw_monkey_data/individual_monkey_data/monkey_Bruno/data_0327\n",
      "all_monkey_data/raw_monkey_data/individual_monkey_data/monkey_Bruno/data_0321\n",
      "Successfully retrieved plan_x and plan_y data for session:  all_monkey_data/raw_monkey_data/individual_monkey_data/monkey_Bruno/data_0321\n",
      "all_monkey_data/raw_monkey_data/individual_monkey_data/monkey_Bruno/data_0326\n",
      "Successfully retrieved plan_x and plan_y data for session:  all_monkey_data/raw_monkey_data/individual_monkey_data/monkey_Bruno/data_0326\n",
      "all_monkey_data/raw_monkey_data/individual_monkey_data/monkey_Bruno/data_0328\n",
      "Successfully retrieved plan_x and plan_y data for session:  all_monkey_data/raw_monkey_data/individual_monkey_data/monkey_Bruno/data_0328\n",
      "all_monkey_data/raw_monkey_data/individual_monkey_data/monkey_Bruno/data_0309\n",
      "Successfully retrieved plan_x and plan_y data for session:  all_monkey_data/raw_monkey_data/individual_monkey_data/monkey_Bruno/data_0309\n",
      "all_monkey_data/raw_monkey_data/individual_monkey_data/monkey_Bruno/data_0307\n",
      "Successfully retrieved plan_x and plan_y data for session:  all_monkey_data/raw_monkey_data/individual_monkey_data/monkey_Bruno/data_0307\n",
      "all_monkey_data/raw_monkey_data/individual_monkey_data/monkey_Bruno/data_0306\n",
      "Successfully retrieved plan_x and plan_y data for session:  all_monkey_data/raw_monkey_data/individual_monkey_data/monkey_Bruno/data_0306\n",
      "all_monkey_data/raw_monkey_data/individual_monkey_data/monkey_Bruno/data_0301\n",
      "Successfully retrieved plan_x and plan_y data for session:  all_monkey_data/raw_monkey_data/individual_monkey_data/monkey_Bruno/data_0301\n",
      "all_monkey_data/raw_monkey_data/individual_monkey_data/monkey_Bruno/data_0308\n",
      "Successfully retrieved plan_x and plan_y data for session:  all_monkey_data/raw_monkey_data/individual_monkey_data/monkey_Bruno/data_0308\n",
      "all_monkey_data/raw_monkey_data/individual_monkey_data/monkey_Bruno/data_0330\n",
      "Successfully retrieved plan_x and plan_y data for session:  all_monkey_data/raw_monkey_data/individual_monkey_data/monkey_Bruno/data_0330\n",
      "all_monkey_data/raw_monkey_data/individual_monkey_data/monkey_Bruno/data_0220\n",
      "Successfully retrieved plan_x and plan_y data for session:  all_monkey_data/raw_monkey_data/individual_monkey_data/monkey_Bruno/data_0220\n",
      "all_monkey_data/raw_monkey_data/individual_monkey_data/monkey_Bruno/data_0227\n",
      "Successfully retrieved plan_x and plan_y data for session:  all_monkey_data/raw_monkey_data/individual_monkey_data/monkey_Bruno/data_0227\n",
      "all_monkey_data/raw_monkey_data/individual_monkey_data/monkey_Bruno/data_0228\n",
      "Successfully retrieved plan_x and plan_y data for session:  all_monkey_data/raw_monkey_data/individual_monkey_data/monkey_Bruno/data_0228\n",
      "all_monkey_data/raw_monkey_data/individual_monkey_data/monkey_Bruno/data_0226\n",
      "Successfully retrieved plan_x and plan_y data for session:  all_monkey_data/raw_monkey_data/individual_monkey_data/monkey_Bruno/data_0226\n",
      "all_monkey_data/raw_monkey_data/individual_monkey_data/monkey_Bruno/data_0219\n",
      "Successfully retrieved plan_x and plan_y data for session:  all_monkey_data/raw_monkey_data/individual_monkey_data/monkey_Bruno/data_0219\n",
      "all_monkey_data/raw_monkey_data/individual_monkey_data/monkey_Bruno/data_0221\n",
      "Successfully retrieved plan_x and plan_y data for session:  all_monkey_data/raw_monkey_data/individual_monkey_data/monkey_Bruno/data_0221\n",
      "all_monkey_data/raw_monkey_data/individual_monkey_data/monkey_Bruno/data_0312\n",
      "Successfully retrieved plan_x and plan_y data for session:  all_monkey_data/raw_monkey_data/individual_monkey_data/monkey_Bruno/data_0312\n",
      "all_monkey_data/raw_monkey_data/individual_monkey_data/monkey_Bruno/data_0315\n",
      "Successfully retrieved plan_x and plan_y data for session:  all_monkey_data/raw_monkey_data/individual_monkey_data/monkey_Bruno/data_0315\n",
      "all_monkey_data/raw_monkey_data/individual_monkey_data/monkey_Bruno/data_0323\n",
      "Successfully retrieved plan_x and plan_y data for session:  all_monkey_data/raw_monkey_data/individual_monkey_data/monkey_Bruno/data_0323\n",
      "all_monkey_data/raw_monkey_data/individual_monkey_data/monkey_Bruno/data_0322\n",
      "Successfully retrieved plan_x and plan_y data for session:  all_monkey_data/raw_monkey_data/individual_monkey_data/monkey_Bruno/data_0322\n",
      "all_monkey_data/raw_monkey_data/individual_monkey_data/monkey_Bruno/data_0314\n",
      "Successfully retrieved plan_x and plan_y data for session:  all_monkey_data/raw_monkey_data/individual_monkey_data/monkey_Bruno/data_0314\n",
      "ref_point_mode     time after stop ff visible\n",
      "ref_point_value                       0.10000\n",
      "monkey_name                      monkey_Schro\n",
      "stored                                  False\n",
      "Name: 0, dtype: object\n",
      "all_monkey_data/raw_monkey_data/individual_monkey_data/monkey_Schro/data_0410\n",
      "Successfully retrieved plan_x and plan_y data for session:  all_monkey_data/raw_monkey_data/individual_monkey_data/monkey_Schro/data_0410\n",
      "all_monkey_data/raw_monkey_data/individual_monkey_data/monkey_Schro/data_0417\n",
      "Successfully retrieved plan_x and plan_y data for session:  all_monkey_data/raw_monkey_data/individual_monkey_data/monkey_Schro/data_0417\n",
      "all_monkey_data/raw_monkey_data/individual_monkey_data/monkey_Schro/data_0419\n",
      "Successfully retrieved plan_x and plan_y data for session:  all_monkey_data/raw_monkey_data/individual_monkey_data/monkey_Schro/data_0419\n",
      "all_monkey_data/raw_monkey_data/individual_monkey_data/monkey_Schro/data_0420\n",
      "Successfully retrieved plan_x and plan_y data for session:  all_monkey_data/raw_monkey_data/individual_monkey_data/monkey_Schro/data_0420\n",
      "all_monkey_data/raw_monkey_data/individual_monkey_data/monkey_Schro/data_0416\n",
      "Successfully retrieved plan_x and plan_y data for session:  all_monkey_data/raw_monkey_data/individual_monkey_data/monkey_Schro/data_0416\n",
      "all_monkey_data/raw_monkey_data/individual_monkey_data/monkey_Schro/data_0411\n",
      "Successfully retrieved plan_x and plan_y data for session:  all_monkey_data/raw_monkey_data/individual_monkey_data/monkey_Schro/data_0411\n",
      "all_monkey_data/raw_monkey_data/individual_monkey_data/monkey_Schro/data_0402\n",
      "Successfully retrieved plan_x and plan_y data for session:  all_monkey_data/raw_monkey_data/individual_monkey_data/monkey_Schro/data_0402\n",
      "all_monkey_data/raw_monkey_data/individual_monkey_data/monkey_Schro/data_0404\n",
      "Successfully retrieved plan_x and plan_y data for session:  all_monkey_data/raw_monkey_data/individual_monkey_data/monkey_Schro/data_0404\n",
      "all_monkey_data/raw_monkey_data/individual_monkey_data/monkey_Schro/data_0403\n",
      "Successfully retrieved plan_x and plan_y data for session:  all_monkey_data/raw_monkey_data/individual_monkey_data/monkey_Schro/data_0403\n",
      "all_monkey_data/raw_monkey_data/individual_monkey_data/monkey_Schro/data_0329\n",
      "Successfully retrieved plan_x and plan_y data for session:  all_monkey_data/raw_monkey_data/individual_monkey_data/monkey_Schro/data_0329\n",
      "all_monkey_data/raw_monkey_data/individual_monkey_data/monkey_Schro/data_0316\n",
      "Successfully retrieved plan_x and plan_y data for session:  all_monkey_data/raw_monkey_data/individual_monkey_data/monkey_Schro/data_0316\n",
      "all_monkey_data/raw_monkey_data/individual_monkey_data/monkey_Schro/data_0327\n",
      "Successfully retrieved plan_x and plan_y data for session:  all_monkey_data/raw_monkey_data/individual_monkey_data/monkey_Schro/data_0327\n",
      "all_monkey_data/raw_monkey_data/individual_monkey_data/monkey_Schro/data_0321\n",
      "Successfully retrieved plan_x and plan_y data for session:  all_monkey_data/raw_monkey_data/individual_monkey_data/monkey_Schro/data_0321\n",
      "all_monkey_data/raw_monkey_data/individual_monkey_data/monkey_Schro/data_0326\n",
      "Successfully retrieved plan_x and plan_y data for session:  all_monkey_data/raw_monkey_data/individual_monkey_data/monkey_Schro/data_0326\n",
      "all_monkey_data/raw_monkey_data/individual_monkey_data/monkey_Schro/data_0328\n",
      "Successfully retrieved plan_x and plan_y data for session:  all_monkey_data/raw_monkey_data/individual_monkey_data/monkey_Schro/data_0328\n",
      "all_monkey_data/raw_monkey_data/individual_monkey_data/monkey_Schro/data_0413\n",
      "Successfully retrieved plan_x and plan_y data for session:  all_monkey_data/raw_monkey_data/individual_monkey_data/monkey_Schro/data_0413\n",
      "all_monkey_data/raw_monkey_data/individual_monkey_data/monkey_Schro/data_0423\n",
      "Successfully retrieved plan_x and plan_y data for session:  all_monkey_data/raw_monkey_data/individual_monkey_data/monkey_Schro/data_0423\n",
      "all_monkey_data/raw_monkey_data/individual_monkey_data/monkey_Schro/data_0424\n",
      "Successfully retrieved plan_x and plan_y data for session:  all_monkey_data/raw_monkey_data/individual_monkey_data/monkey_Schro/data_0424\n",
      "all_monkey_data/raw_monkey_data/individual_monkey_data/monkey_Schro/data_0412\n",
      "Successfully retrieved plan_x and plan_y data for session:  all_monkey_data/raw_monkey_data/individual_monkey_data/monkey_Schro/data_0412\n",
      "all_monkey_data/raw_monkey_data/individual_monkey_data/monkey_Schro/data_0406\n",
      "Successfully retrieved plan_x and plan_y data for session:  all_monkey_data/raw_monkey_data/individual_monkey_data/monkey_Schro/data_0406\n",
      "all_monkey_data/raw_monkey_data/individual_monkey_data/monkey_Schro/data_0409\n",
      "Successfully retrieved plan_x and plan_y data for session:  all_monkey_data/raw_monkey_data/individual_monkey_data/monkey_Schro/data_0409\n",
      "all_monkey_data/raw_monkey_data/individual_monkey_data/monkey_Schro/data_0322\n",
      "Successfully retrieved plan_x and plan_y data for session:  all_monkey_data/raw_monkey_data/individual_monkey_data/monkey_Schro/data_0322\n",
      "ref_point_mode     time after stop ff visible\n",
      "ref_point_value                       0.00000\n",
      "monkey_name                      monkey_Schro\n",
      "stored                                  False\n",
      "Name: 1, dtype: object\n",
      "all_monkey_data/raw_monkey_data/individual_monkey_data/monkey_Schro/data_0410\n",
      "Successfully retrieved plan_x and plan_y data for session:  all_monkey_data/raw_monkey_data/individual_monkey_data/monkey_Schro/data_0410\n",
      "all_monkey_data/raw_monkey_data/individual_monkey_data/monkey_Schro/data_0417\n",
      "Successfully retrieved plan_x and plan_y data for session:  all_monkey_data/raw_monkey_data/individual_monkey_data/monkey_Schro/data_0417\n",
      "all_monkey_data/raw_monkey_data/individual_monkey_data/monkey_Schro/data_0419\n",
      "Successfully retrieved plan_x and plan_y data for session:  all_monkey_data/raw_monkey_data/individual_monkey_data/monkey_Schro/data_0419\n",
      "all_monkey_data/raw_monkey_data/individual_monkey_data/monkey_Schro/data_0420\n",
      "Successfully retrieved plan_x and plan_y data for session:  all_monkey_data/raw_monkey_data/individual_monkey_data/monkey_Schro/data_0420\n",
      "all_monkey_data/raw_monkey_data/individual_monkey_data/monkey_Schro/data_0416\n",
      "Successfully retrieved plan_x and plan_y data for session:  all_monkey_data/raw_monkey_data/individual_monkey_data/monkey_Schro/data_0416\n",
      "all_monkey_data/raw_monkey_data/individual_monkey_data/monkey_Schro/data_0411\n",
      "Successfully retrieved plan_x and plan_y data for session:  all_monkey_data/raw_monkey_data/individual_monkey_data/monkey_Schro/data_0411\n",
      "all_monkey_data/raw_monkey_data/individual_monkey_data/monkey_Schro/data_0402\n",
      "Successfully retrieved plan_x and plan_y data for session:  all_monkey_data/raw_monkey_data/individual_monkey_data/monkey_Schro/data_0402\n",
      "all_monkey_data/raw_monkey_data/individual_monkey_data/monkey_Schro/data_0404\n",
      "Successfully retrieved plan_x and plan_y data for session:  all_monkey_data/raw_monkey_data/individual_monkey_data/monkey_Schro/data_0404\n",
      "all_monkey_data/raw_monkey_data/individual_monkey_data/monkey_Schro/data_0403\n",
      "Successfully retrieved plan_x and plan_y data for session:  all_monkey_data/raw_monkey_data/individual_monkey_data/monkey_Schro/data_0403\n",
      "all_monkey_data/raw_monkey_data/individual_monkey_data/monkey_Schro/data_0329\n",
      "Successfully retrieved plan_x and plan_y data for session:  all_monkey_data/raw_monkey_data/individual_monkey_data/monkey_Schro/data_0329\n",
      "all_monkey_data/raw_monkey_data/individual_monkey_data/monkey_Schro/data_0316\n",
      "Successfully retrieved plan_x and plan_y data for session:  all_monkey_data/raw_monkey_data/individual_monkey_data/monkey_Schro/data_0316\n",
      "all_monkey_data/raw_monkey_data/individual_monkey_data/monkey_Schro/data_0327\n",
      "Successfully retrieved plan_x and plan_y data for session:  all_monkey_data/raw_monkey_data/individual_monkey_data/monkey_Schro/data_0327\n",
      "all_monkey_data/raw_monkey_data/individual_monkey_data/monkey_Schro/data_0321\n",
      "Successfully retrieved plan_x and plan_y data for session:  all_monkey_data/raw_monkey_data/individual_monkey_data/monkey_Schro/data_0321\n",
      "all_monkey_data/raw_monkey_data/individual_monkey_data/monkey_Schro/data_0326\n",
      "Successfully retrieved plan_x and plan_y data for session:  all_monkey_data/raw_monkey_data/individual_monkey_data/monkey_Schro/data_0326\n",
      "all_monkey_data/raw_monkey_data/individual_monkey_data/monkey_Schro/data_0328\n",
      "Successfully retrieved plan_x and plan_y data for session:  all_monkey_data/raw_monkey_data/individual_monkey_data/monkey_Schro/data_0328\n",
      "all_monkey_data/raw_monkey_data/individual_monkey_data/monkey_Schro/data_0413\n",
      "Successfully retrieved plan_x and plan_y data for session:  all_monkey_data/raw_monkey_data/individual_monkey_data/monkey_Schro/data_0413\n",
      "all_monkey_data/raw_monkey_data/individual_monkey_data/monkey_Schro/data_0423\n",
      "Successfully retrieved plan_x and plan_y data for session:  all_monkey_data/raw_monkey_data/individual_monkey_data/monkey_Schro/data_0423\n",
      "all_monkey_data/raw_monkey_data/individual_monkey_data/monkey_Schro/data_0424\n",
      "Successfully retrieved plan_x and plan_y data for session:  all_monkey_data/raw_monkey_data/individual_monkey_data/monkey_Schro/data_0424\n",
      "all_monkey_data/raw_monkey_data/individual_monkey_data/monkey_Schro/data_0412\n",
      "Successfully retrieved plan_x and plan_y data for session:  all_monkey_data/raw_monkey_data/individual_monkey_data/monkey_Schro/data_0412\n",
      "all_monkey_data/raw_monkey_data/individual_monkey_data/monkey_Schro/data_0406\n",
      "Successfully retrieved plan_x and plan_y data for session:  all_monkey_data/raw_monkey_data/individual_monkey_data/monkey_Schro/data_0406\n",
      "all_monkey_data/raw_monkey_data/individual_monkey_data/monkey_Schro/data_0409\n",
      "Successfully retrieved plan_x and plan_y data for session:  all_monkey_data/raw_monkey_data/individual_monkey_data/monkey_Schro/data_0409\n",
      "all_monkey_data/raw_monkey_data/individual_monkey_data/monkey_Schro/data_0322\n",
      "Successfully retrieved plan_x and plan_y data for session:  all_monkey_data/raw_monkey_data/individual_monkey_data/monkey_Schro/data_0322\n",
      "ref_point_mode         distance\n",
      "ref_point_value      -150.00000\n",
      "monkey_name        monkey_Schro\n",
      "stored                    False\n",
      "Name: 2, dtype: object\n",
      "all_monkey_data/raw_monkey_data/individual_monkey_data/monkey_Schro/data_0410\n",
      "Successfully retrieved plan_x and plan_y data for session:  all_monkey_data/raw_monkey_data/individual_monkey_data/monkey_Schro/data_0410\n",
      "all_monkey_data/raw_monkey_data/individual_monkey_data/monkey_Schro/data_0417\n",
      "Successfully retrieved plan_x and plan_y data for session:  all_monkey_data/raw_monkey_data/individual_monkey_data/monkey_Schro/data_0417\n",
      "all_monkey_data/raw_monkey_data/individual_monkey_data/monkey_Schro/data_0419\n",
      "Successfully retrieved plan_x and plan_y data for session:  all_monkey_data/raw_monkey_data/individual_monkey_data/monkey_Schro/data_0419\n",
      "all_monkey_data/raw_monkey_data/individual_monkey_data/monkey_Schro/data_0420\n",
      "Successfully retrieved plan_x and plan_y data for session:  all_monkey_data/raw_monkey_data/individual_monkey_data/monkey_Schro/data_0420\n",
      "all_monkey_data/raw_monkey_data/individual_monkey_data/monkey_Schro/data_0416\n",
      "Successfully retrieved plan_x and plan_y data for session:  all_monkey_data/raw_monkey_data/individual_monkey_data/monkey_Schro/data_0416\n",
      "all_monkey_data/raw_monkey_data/individual_monkey_data/monkey_Schro/data_0411\n",
      "Successfully retrieved plan_x and plan_y data for session:  all_monkey_data/raw_monkey_data/individual_monkey_data/monkey_Schro/data_0411\n",
      "all_monkey_data/raw_monkey_data/individual_monkey_data/monkey_Schro/data_0402\n",
      "Successfully retrieved plan_x and plan_y data for session:  all_monkey_data/raw_monkey_data/individual_monkey_data/monkey_Schro/data_0402\n",
      "all_monkey_data/raw_monkey_data/individual_monkey_data/monkey_Schro/data_0404\n",
      "Successfully retrieved plan_x and plan_y data for session:  all_monkey_data/raw_monkey_data/individual_monkey_data/monkey_Schro/data_0404\n",
      "all_monkey_data/raw_monkey_data/individual_monkey_data/monkey_Schro/data_0403\n",
      "Successfully retrieved plan_x and plan_y data for session:  all_monkey_data/raw_monkey_data/individual_monkey_data/monkey_Schro/data_0403\n",
      "all_monkey_data/raw_monkey_data/individual_monkey_data/monkey_Schro/data_0329\n",
      "Successfully retrieved plan_x and plan_y data for session:  all_monkey_data/raw_monkey_data/individual_monkey_data/monkey_Schro/data_0329\n",
      "all_monkey_data/raw_monkey_data/individual_monkey_data/monkey_Schro/data_0316\n",
      "Successfully retrieved plan_x and plan_y data for session:  all_monkey_data/raw_monkey_data/individual_monkey_data/monkey_Schro/data_0316\n",
      "all_monkey_data/raw_monkey_data/individual_monkey_data/monkey_Schro/data_0327\n",
      "Successfully retrieved plan_x and plan_y data for session:  all_monkey_data/raw_monkey_data/individual_monkey_data/monkey_Schro/data_0327\n",
      "all_monkey_data/raw_monkey_data/individual_monkey_data/monkey_Schro/data_0321\n",
      "Successfully retrieved plan_x and plan_y data for session:  all_monkey_data/raw_monkey_data/individual_monkey_data/monkey_Schro/data_0321\n",
      "all_monkey_data/raw_monkey_data/individual_monkey_data/monkey_Schro/data_0326\n",
      "Successfully retrieved plan_x and plan_y data for session:  all_monkey_data/raw_monkey_data/individual_monkey_data/monkey_Schro/data_0326\n",
      "all_monkey_data/raw_monkey_data/individual_monkey_data/monkey_Schro/data_0328\n",
      "Successfully retrieved plan_x and plan_y data for session:  all_monkey_data/raw_monkey_data/individual_monkey_data/monkey_Schro/data_0328\n",
      "all_monkey_data/raw_monkey_data/individual_monkey_data/monkey_Schro/data_0413\n",
      "Successfully retrieved plan_x and plan_y data for session:  all_monkey_data/raw_monkey_data/individual_monkey_data/monkey_Schro/data_0413\n",
      "all_monkey_data/raw_monkey_data/individual_monkey_data/monkey_Schro/data_0423\n",
      "Successfully retrieved plan_x and plan_y data for session:  all_monkey_data/raw_monkey_data/individual_monkey_data/monkey_Schro/data_0423\n",
      "all_monkey_data/raw_monkey_data/individual_monkey_data/monkey_Schro/data_0424\n",
      "Successfully retrieved plan_x and plan_y data for session:  all_monkey_data/raw_monkey_data/individual_monkey_data/monkey_Schro/data_0424\n",
      "all_monkey_data/raw_monkey_data/individual_monkey_data/monkey_Schro/data_0412\n",
      "Successfully retrieved plan_x and plan_y data for session:  all_monkey_data/raw_monkey_data/individual_monkey_data/monkey_Schro/data_0412\n",
      "all_monkey_data/raw_monkey_data/individual_monkey_data/monkey_Schro/data_0406\n",
      "Successfully retrieved plan_x and plan_y data for session:  all_monkey_data/raw_monkey_data/individual_monkey_data/monkey_Schro/data_0406\n",
      "all_monkey_data/raw_monkey_data/individual_monkey_data/monkey_Schro/data_0409\n",
      "Successfully retrieved plan_x and plan_y data for session:  all_monkey_data/raw_monkey_data/individual_monkey_data/monkey_Schro/data_0409\n",
      "all_monkey_data/raw_monkey_data/individual_monkey_data/monkey_Schro/data_0322\n",
      "Successfully retrieved plan_x and plan_y data for session:  all_monkey_data/raw_monkey_data/individual_monkey_data/monkey_Schro/data_0322\n",
      "ref_point_mode         distance\n",
      "ref_point_value      -100.00000\n",
      "monkey_name        monkey_Schro\n",
      "stored                    False\n",
      "Name: 3, dtype: object\n",
      "all_monkey_data/raw_monkey_data/individual_monkey_data/monkey_Schro/data_0410\n",
      "Successfully retrieved plan_x and plan_y data for session:  all_monkey_data/raw_monkey_data/individual_monkey_data/monkey_Schro/data_0410\n",
      "all_monkey_data/raw_monkey_data/individual_monkey_data/monkey_Schro/data_0417\n",
      "Successfully retrieved plan_x and plan_y data for session:  all_monkey_data/raw_monkey_data/individual_monkey_data/monkey_Schro/data_0417\n",
      "all_monkey_data/raw_monkey_data/individual_monkey_data/monkey_Schro/data_0419\n",
      "Successfully retrieved plan_x and plan_y data for session:  all_monkey_data/raw_monkey_data/individual_monkey_data/monkey_Schro/data_0419\n",
      "all_monkey_data/raw_monkey_data/individual_monkey_data/monkey_Schro/data_0420\n",
      "Successfully retrieved plan_x and plan_y data for session:  all_monkey_data/raw_monkey_data/individual_monkey_data/monkey_Schro/data_0420\n",
      "all_monkey_data/raw_monkey_data/individual_monkey_data/monkey_Schro/data_0416\n",
      "Successfully retrieved plan_x and plan_y data for session:  all_monkey_data/raw_monkey_data/individual_monkey_data/monkey_Schro/data_0416\n",
      "all_monkey_data/raw_monkey_data/individual_monkey_data/monkey_Schro/data_0411\n",
      "Successfully retrieved plan_x and plan_y data for session:  all_monkey_data/raw_monkey_data/individual_monkey_data/monkey_Schro/data_0411\n",
      "all_monkey_data/raw_monkey_data/individual_monkey_data/monkey_Schro/data_0402\n",
      "Successfully retrieved plan_x and plan_y data for session:  all_monkey_data/raw_monkey_data/individual_monkey_data/monkey_Schro/data_0402\n",
      "all_monkey_data/raw_monkey_data/individual_monkey_data/monkey_Schro/data_0404\n",
      "Successfully retrieved plan_x and plan_y data for session:  all_monkey_data/raw_monkey_data/individual_monkey_data/monkey_Schro/data_0404\n",
      "all_monkey_data/raw_monkey_data/individual_monkey_data/monkey_Schro/data_0403\n",
      "Successfully retrieved plan_x and plan_y data for session:  all_monkey_data/raw_monkey_data/individual_monkey_data/monkey_Schro/data_0403\n",
      "all_monkey_data/raw_monkey_data/individual_monkey_data/monkey_Schro/data_0329\n",
      "Successfully retrieved plan_x and plan_y data for session:  all_monkey_data/raw_monkey_data/individual_monkey_data/monkey_Schro/data_0329\n",
      "all_monkey_data/raw_monkey_data/individual_monkey_data/monkey_Schro/data_0316\n",
      "Successfully retrieved plan_x and plan_y data for session:  all_monkey_data/raw_monkey_data/individual_monkey_data/monkey_Schro/data_0316\n",
      "all_monkey_data/raw_monkey_data/individual_monkey_data/monkey_Schro/data_0327\n",
      "Successfully retrieved plan_x and plan_y data for session:  all_monkey_data/raw_monkey_data/individual_monkey_data/monkey_Schro/data_0327\n",
      "all_monkey_data/raw_monkey_data/individual_monkey_data/monkey_Schro/data_0321\n",
      "Successfully retrieved plan_x and plan_y data for session:  all_monkey_data/raw_monkey_data/individual_monkey_data/monkey_Schro/data_0321\n",
      "all_monkey_data/raw_monkey_data/individual_monkey_data/monkey_Schro/data_0326\n",
      "Successfully retrieved plan_x and plan_y data for session:  all_monkey_data/raw_monkey_data/individual_monkey_data/monkey_Schro/data_0326\n",
      "all_monkey_data/raw_monkey_data/individual_monkey_data/monkey_Schro/data_0328\n",
      "Successfully retrieved plan_x and plan_y data for session:  all_monkey_data/raw_monkey_data/individual_monkey_data/monkey_Schro/data_0328\n",
      "all_monkey_data/raw_monkey_data/individual_monkey_data/monkey_Schro/data_0413\n",
      "Successfully retrieved plan_x and plan_y data for session:  all_monkey_data/raw_monkey_data/individual_monkey_data/monkey_Schro/data_0413\n",
      "all_monkey_data/raw_monkey_data/individual_monkey_data/monkey_Schro/data_0423\n",
      "Successfully retrieved plan_x and plan_y data for session:  all_monkey_data/raw_monkey_data/individual_monkey_data/monkey_Schro/data_0423\n",
      "all_monkey_data/raw_monkey_data/individual_monkey_data/monkey_Schro/data_0424\n",
      "Successfully retrieved plan_x and plan_y data for session:  all_monkey_data/raw_monkey_data/individual_monkey_data/monkey_Schro/data_0424\n",
      "all_monkey_data/raw_monkey_data/individual_monkey_data/monkey_Schro/data_0412\n",
      "Successfully retrieved plan_x and plan_y data for session:  all_monkey_data/raw_monkey_data/individual_monkey_data/monkey_Schro/data_0412\n",
      "all_monkey_data/raw_monkey_data/individual_monkey_data/monkey_Schro/data_0406\n",
      "Successfully retrieved plan_x and plan_y data for session:  all_monkey_data/raw_monkey_data/individual_monkey_data/monkey_Schro/data_0406\n",
      "all_monkey_data/raw_monkey_data/individual_monkey_data/monkey_Schro/data_0409\n",
      "Successfully retrieved plan_x and plan_y data for session:  all_monkey_data/raw_monkey_data/individual_monkey_data/monkey_Schro/data_0409\n",
      "all_monkey_data/raw_monkey_data/individual_monkey_data/monkey_Schro/data_0322\n",
      "Successfully retrieved plan_x and plan_y data for session:  all_monkey_data/raw_monkey_data/individual_monkey_data/monkey_Schro/data_0322\n",
      "ref_point_mode         distance\n",
      "ref_point_value       -50.00000\n",
      "monkey_name        monkey_Schro\n",
      "stored                    False\n",
      "Name: 4, dtype: object\n",
      "all_monkey_data/raw_monkey_data/individual_monkey_data/monkey_Schro/data_0410\n",
      "Successfully retrieved plan_x and plan_y data for session:  all_monkey_data/raw_monkey_data/individual_monkey_data/monkey_Schro/data_0410\n",
      "all_monkey_data/raw_monkey_data/individual_monkey_data/monkey_Schro/data_0417\n",
      "Successfully retrieved plan_x and plan_y data for session:  all_monkey_data/raw_monkey_data/individual_monkey_data/monkey_Schro/data_0417\n",
      "all_monkey_data/raw_monkey_data/individual_monkey_data/monkey_Schro/data_0419\n",
      "Successfully retrieved plan_x and plan_y data for session:  all_monkey_data/raw_monkey_data/individual_monkey_data/monkey_Schro/data_0419\n",
      "all_monkey_data/raw_monkey_data/individual_monkey_data/monkey_Schro/data_0420\n",
      "Successfully retrieved plan_x and plan_y data for session:  all_monkey_data/raw_monkey_data/individual_monkey_data/monkey_Schro/data_0420\n",
      "all_monkey_data/raw_monkey_data/individual_monkey_data/monkey_Schro/data_0416\n",
      "Successfully retrieved plan_x and plan_y data for session:  all_monkey_data/raw_monkey_data/individual_monkey_data/monkey_Schro/data_0416\n",
      "all_monkey_data/raw_monkey_data/individual_monkey_data/monkey_Schro/data_0411\n",
      "Successfully retrieved plan_x and plan_y data for session:  all_monkey_data/raw_monkey_data/individual_monkey_data/monkey_Schro/data_0411\n",
      "all_monkey_data/raw_monkey_data/individual_monkey_data/monkey_Schro/data_0402\n",
      "Successfully retrieved plan_x and plan_y data for session:  all_monkey_data/raw_monkey_data/individual_monkey_data/monkey_Schro/data_0402\n",
      "all_monkey_data/raw_monkey_data/individual_monkey_data/monkey_Schro/data_0404\n",
      "Successfully retrieved plan_x and plan_y data for session:  all_monkey_data/raw_monkey_data/individual_monkey_data/monkey_Schro/data_0404\n",
      "all_monkey_data/raw_monkey_data/individual_monkey_data/monkey_Schro/data_0403\n",
      "Successfully retrieved plan_x and plan_y data for session:  all_monkey_data/raw_monkey_data/individual_monkey_data/monkey_Schro/data_0403\n",
      "all_monkey_data/raw_monkey_data/individual_monkey_data/monkey_Schro/data_0329\n",
      "Successfully retrieved plan_x and plan_y data for session:  all_monkey_data/raw_monkey_data/individual_monkey_data/monkey_Schro/data_0329\n",
      "all_monkey_data/raw_monkey_data/individual_monkey_data/monkey_Schro/data_0316\n",
      "Successfully retrieved plan_x and plan_y data for session:  all_monkey_data/raw_monkey_data/individual_monkey_data/monkey_Schro/data_0316\n",
      "all_monkey_data/raw_monkey_data/individual_monkey_data/monkey_Schro/data_0327\n",
      "Successfully retrieved plan_x and plan_y data for session:  all_monkey_data/raw_monkey_data/individual_monkey_data/monkey_Schro/data_0327\n",
      "all_monkey_data/raw_monkey_data/individual_monkey_data/monkey_Schro/data_0321\n",
      "Successfully retrieved plan_x and plan_y data for session:  all_monkey_data/raw_monkey_data/individual_monkey_data/monkey_Schro/data_0321\n",
      "all_monkey_data/raw_monkey_data/individual_monkey_data/monkey_Schro/data_0326\n",
      "Successfully retrieved plan_x and plan_y data for session:  all_monkey_data/raw_monkey_data/individual_monkey_data/monkey_Schro/data_0326\n",
      "all_monkey_data/raw_monkey_data/individual_monkey_data/monkey_Schro/data_0328\n",
      "Successfully retrieved plan_x and plan_y data for session:  all_monkey_data/raw_monkey_data/individual_monkey_data/monkey_Schro/data_0328\n",
      "all_monkey_data/raw_monkey_data/individual_monkey_data/monkey_Schro/data_0413\n",
      "Successfully retrieved plan_x and plan_y data for session:  all_monkey_data/raw_monkey_data/individual_monkey_data/monkey_Schro/data_0413\n",
      "all_monkey_data/raw_monkey_data/individual_monkey_data/monkey_Schro/data_0423\n",
      "Successfully retrieved plan_x and plan_y data for session:  all_monkey_data/raw_monkey_data/individual_monkey_data/monkey_Schro/data_0423\n",
      "all_monkey_data/raw_monkey_data/individual_monkey_data/monkey_Schro/data_0424\n",
      "Successfully retrieved plan_x and plan_y data for session:  all_monkey_data/raw_monkey_data/individual_monkey_data/monkey_Schro/data_0424\n",
      "all_monkey_data/raw_monkey_data/individual_monkey_data/monkey_Schro/data_0412\n",
      "Successfully retrieved plan_x and plan_y data for session:  all_monkey_data/raw_monkey_data/individual_monkey_data/monkey_Schro/data_0412\n",
      "all_monkey_data/raw_monkey_data/individual_monkey_data/monkey_Schro/data_0406\n",
      "Successfully retrieved plan_x and plan_y data for session:  all_monkey_data/raw_monkey_data/individual_monkey_data/monkey_Schro/data_0406\n",
      "all_monkey_data/raw_monkey_data/individual_monkey_data/monkey_Schro/data_0409\n",
      "Successfully retrieved plan_x and plan_y data for session:  all_monkey_data/raw_monkey_data/individual_monkey_data/monkey_Schro/data_0409\n",
      "all_monkey_data/raw_monkey_data/individual_monkey_data/monkey_Schro/data_0322\n",
      "Successfully retrieved plan_x and plan_y data for session:  all_monkey_data/raw_monkey_data/individual_monkey_data/monkey_Schro/data_0322\n",
      "ref_point_mode     time after stop ff visible\n",
      "ref_point_value                       0.10000\n",
      "monkey_name                      monkey_Bruno\n",
      "stored                                  False\n",
      "Name: 0, dtype: object\n",
      "all_monkey_data/raw_monkey_data/individual_monkey_data/monkey_Bruno/data_0222\n",
      "Successfully retrieved plan_x and plan_y data for session:  all_monkey_data/raw_monkey_data/individual_monkey_data/monkey_Bruno/data_0222\n",
      "all_monkey_data/raw_monkey_data/individual_monkey_data/monkey_Bruno/data_0402\n",
      "Successfully retrieved plan_x and plan_y data for session:  all_monkey_data/raw_monkey_data/individual_monkey_data/monkey_Bruno/data_0402\n",
      "all_monkey_data/raw_monkey_data/individual_monkey_data/monkey_Bruno/data_0329\n",
      "Successfully retrieved plan_x and plan_y data for session:  all_monkey_data/raw_monkey_data/individual_monkey_data/monkey_Bruno/data_0329\n",
      "all_monkey_data/raw_monkey_data/individual_monkey_data/monkey_Bruno/data_0316\n",
      "Successfully retrieved plan_x and plan_y data for session:  all_monkey_data/raw_monkey_data/individual_monkey_data/monkey_Bruno/data_0316\n",
      "all_monkey_data/raw_monkey_data/individual_monkey_data/monkey_Bruno/data_0327\n",
      "Successfully retrieved plan_x and plan_y data for session:  all_monkey_data/raw_monkey_data/individual_monkey_data/monkey_Bruno/data_0327\n",
      "all_monkey_data/raw_monkey_data/individual_monkey_data/monkey_Bruno/data_0321\n",
      "Successfully retrieved plan_x and plan_y data for session:  all_monkey_data/raw_monkey_data/individual_monkey_data/monkey_Bruno/data_0321\n",
      "all_monkey_data/raw_monkey_data/individual_monkey_data/monkey_Bruno/data_0326\n",
      "Successfully retrieved plan_x and plan_y data for session:  all_monkey_data/raw_monkey_data/individual_monkey_data/monkey_Bruno/data_0326\n",
      "all_monkey_data/raw_monkey_data/individual_monkey_data/monkey_Bruno/data_0328\n",
      "Successfully retrieved plan_x and plan_y data for session:  all_monkey_data/raw_monkey_data/individual_monkey_data/monkey_Bruno/data_0328\n",
      "all_monkey_data/raw_monkey_data/individual_monkey_data/monkey_Bruno/data_0309\n",
      "Successfully retrieved plan_x and plan_y data for session:  all_monkey_data/raw_monkey_data/individual_monkey_data/monkey_Bruno/data_0309\n",
      "all_monkey_data/raw_monkey_data/individual_monkey_data/monkey_Bruno/data_0307\n",
      "Successfully retrieved plan_x and plan_y data for session:  all_monkey_data/raw_monkey_data/individual_monkey_data/monkey_Bruno/data_0307\n",
      "all_monkey_data/raw_monkey_data/individual_monkey_data/monkey_Bruno/data_0306\n",
      "Successfully retrieved plan_x and plan_y data for session:  all_monkey_data/raw_monkey_data/individual_monkey_data/monkey_Bruno/data_0306\n",
      "all_monkey_data/raw_monkey_data/individual_monkey_data/monkey_Bruno/data_0301\n",
      "Successfully retrieved plan_x and plan_y data for session:  all_monkey_data/raw_monkey_data/individual_monkey_data/monkey_Bruno/data_0301\n",
      "all_monkey_data/raw_monkey_data/individual_monkey_data/monkey_Bruno/data_0308\n",
      "Successfully retrieved plan_x and plan_y data for session:  all_monkey_data/raw_monkey_data/individual_monkey_data/monkey_Bruno/data_0308\n",
      "all_monkey_data/raw_monkey_data/individual_monkey_data/monkey_Bruno/data_0330\n",
      "Successfully retrieved plan_x and plan_y data for session:  all_monkey_data/raw_monkey_data/individual_monkey_data/monkey_Bruno/data_0330\n",
      "all_monkey_data/raw_monkey_data/individual_monkey_data/monkey_Bruno/data_0220\n",
      "Successfully retrieved plan_x and plan_y data for session:  all_monkey_data/raw_monkey_data/individual_monkey_data/monkey_Bruno/data_0220\n",
      "all_monkey_data/raw_monkey_data/individual_monkey_data/monkey_Bruno/data_0227\n",
      "Successfully retrieved plan_x and plan_y data for session:  all_monkey_data/raw_monkey_data/individual_monkey_data/monkey_Bruno/data_0227\n",
      "all_monkey_data/raw_monkey_data/individual_monkey_data/monkey_Bruno/data_0228\n",
      "Successfully retrieved plan_x and plan_y data for session:  all_monkey_data/raw_monkey_data/individual_monkey_data/monkey_Bruno/data_0228\n",
      "all_monkey_data/raw_monkey_data/individual_monkey_data/monkey_Bruno/data_0226\n",
      "Successfully retrieved plan_x and plan_y data for session:  all_monkey_data/raw_monkey_data/individual_monkey_data/monkey_Bruno/data_0226\n",
      "all_monkey_data/raw_monkey_data/individual_monkey_data/monkey_Bruno/data_0219\n",
      "Successfully retrieved plan_x and plan_y data for session:  all_monkey_data/raw_monkey_data/individual_monkey_data/monkey_Bruno/data_0219\n",
      "all_monkey_data/raw_monkey_data/individual_monkey_data/monkey_Bruno/data_0221\n",
      "Successfully retrieved plan_x and plan_y data for session:  all_monkey_data/raw_monkey_data/individual_monkey_data/monkey_Bruno/data_0221\n",
      "all_monkey_data/raw_monkey_data/individual_monkey_data/monkey_Bruno/data_0312\n",
      "Successfully retrieved plan_x and plan_y data for session:  all_monkey_data/raw_monkey_data/individual_monkey_data/monkey_Bruno/data_0312\n",
      "all_monkey_data/raw_monkey_data/individual_monkey_data/monkey_Bruno/data_0315\n",
      "Successfully retrieved plan_x and plan_y data for session:  all_monkey_data/raw_monkey_data/individual_monkey_data/monkey_Bruno/data_0315\n",
      "all_monkey_data/raw_monkey_data/individual_monkey_data/monkey_Bruno/data_0323\n",
      "Successfully retrieved plan_x and plan_y data for session:  all_monkey_data/raw_monkey_data/individual_monkey_data/monkey_Bruno/data_0323\n",
      "all_monkey_data/raw_monkey_data/individual_monkey_data/monkey_Bruno/data_0322\n",
      "Successfully retrieved plan_x and plan_y data for session:  all_monkey_data/raw_monkey_data/individual_monkey_data/monkey_Bruno/data_0322\n",
      "all_monkey_data/raw_monkey_data/individual_monkey_data/monkey_Bruno/data_0314\n",
      "Successfully retrieved plan_x and plan_y data for session:  all_monkey_data/raw_monkey_data/individual_monkey_data/monkey_Bruno/data_0314\n",
      "ref_point_mode     time after stop ff visible\n",
      "ref_point_value                       0.00000\n",
      "monkey_name                      monkey_Bruno\n",
      "stored                                  False\n",
      "Name: 1, dtype: object\n",
      "all_monkey_data/raw_monkey_data/individual_monkey_data/monkey_Bruno/data_0222\n",
      "Successfully retrieved plan_x and plan_y data for session:  all_monkey_data/raw_monkey_data/individual_monkey_data/monkey_Bruno/data_0222\n",
      "all_monkey_data/raw_monkey_data/individual_monkey_data/monkey_Bruno/data_0402\n",
      "Successfully retrieved plan_x and plan_y data for session:  all_monkey_data/raw_monkey_data/individual_monkey_data/monkey_Bruno/data_0402\n",
      "all_monkey_data/raw_monkey_data/individual_monkey_data/monkey_Bruno/data_0329\n",
      "Successfully retrieved plan_x and plan_y data for session:  all_monkey_data/raw_monkey_data/individual_monkey_data/monkey_Bruno/data_0329\n",
      "all_monkey_data/raw_monkey_data/individual_monkey_data/monkey_Bruno/data_0316\n",
      "Successfully retrieved plan_x and plan_y data for session:  all_monkey_data/raw_monkey_data/individual_monkey_data/monkey_Bruno/data_0316\n",
      "all_monkey_data/raw_monkey_data/individual_monkey_data/monkey_Bruno/data_0327\n",
      "Successfully retrieved plan_x and plan_y data for session:  all_monkey_data/raw_monkey_data/individual_monkey_data/monkey_Bruno/data_0327\n",
      "all_monkey_data/raw_monkey_data/individual_monkey_data/monkey_Bruno/data_0321\n",
      "Successfully retrieved plan_x and plan_y data for session:  all_monkey_data/raw_monkey_data/individual_monkey_data/monkey_Bruno/data_0321\n",
      "all_monkey_data/raw_monkey_data/individual_monkey_data/monkey_Bruno/data_0326\n",
      "Successfully retrieved plan_x and plan_y data for session:  all_monkey_data/raw_monkey_data/individual_monkey_data/monkey_Bruno/data_0326\n",
      "all_monkey_data/raw_monkey_data/individual_monkey_data/monkey_Bruno/data_0328\n",
      "Successfully retrieved plan_x and plan_y data for session:  all_monkey_data/raw_monkey_data/individual_monkey_data/monkey_Bruno/data_0328\n",
      "all_monkey_data/raw_monkey_data/individual_monkey_data/monkey_Bruno/data_0309\n",
      "Successfully retrieved plan_x and plan_y data for session:  all_monkey_data/raw_monkey_data/individual_monkey_data/monkey_Bruno/data_0309\n",
      "all_monkey_data/raw_monkey_data/individual_monkey_data/monkey_Bruno/data_0307\n",
      "Successfully retrieved plan_x and plan_y data for session:  all_monkey_data/raw_monkey_data/individual_monkey_data/monkey_Bruno/data_0307\n",
      "all_monkey_data/raw_monkey_data/individual_monkey_data/monkey_Bruno/data_0306\n",
      "Successfully retrieved plan_x and plan_y data for session:  all_monkey_data/raw_monkey_data/individual_monkey_data/monkey_Bruno/data_0306\n",
      "all_monkey_data/raw_monkey_data/individual_monkey_data/monkey_Bruno/data_0301\n",
      "Successfully retrieved plan_x and plan_y data for session:  all_monkey_data/raw_monkey_data/individual_monkey_data/monkey_Bruno/data_0301\n",
      "all_monkey_data/raw_monkey_data/individual_monkey_data/monkey_Bruno/data_0308\n",
      "Successfully retrieved plan_x and plan_y data for session:  all_monkey_data/raw_monkey_data/individual_monkey_data/monkey_Bruno/data_0308\n",
      "all_monkey_data/raw_monkey_data/individual_monkey_data/monkey_Bruno/data_0330\n",
      "Successfully retrieved plan_x and plan_y data for session:  all_monkey_data/raw_monkey_data/individual_monkey_data/monkey_Bruno/data_0330\n",
      "all_monkey_data/raw_monkey_data/individual_monkey_data/monkey_Bruno/data_0220\n",
      "Successfully retrieved plan_x and plan_y data for session:  all_monkey_data/raw_monkey_data/individual_monkey_data/monkey_Bruno/data_0220\n",
      "all_monkey_data/raw_monkey_data/individual_monkey_data/monkey_Bruno/data_0227\n",
      "Successfully retrieved plan_x and plan_y data for session:  all_monkey_data/raw_monkey_data/individual_monkey_data/monkey_Bruno/data_0227\n",
      "all_monkey_data/raw_monkey_data/individual_monkey_data/monkey_Bruno/data_0228\n",
      "Successfully retrieved plan_x and plan_y data for session:  all_monkey_data/raw_monkey_data/individual_monkey_data/monkey_Bruno/data_0228\n",
      "all_monkey_data/raw_monkey_data/individual_monkey_data/monkey_Bruno/data_0226\n",
      "Successfully retrieved plan_x and plan_y data for session:  all_monkey_data/raw_monkey_data/individual_monkey_data/monkey_Bruno/data_0226\n",
      "all_monkey_data/raw_monkey_data/individual_monkey_data/monkey_Bruno/data_0219\n",
      "Successfully retrieved plan_x and plan_y data for session:  all_monkey_data/raw_monkey_data/individual_monkey_data/monkey_Bruno/data_0219\n",
      "all_monkey_data/raw_monkey_data/individual_monkey_data/monkey_Bruno/data_0221\n",
      "Successfully retrieved plan_x and plan_y data for session:  all_monkey_data/raw_monkey_data/individual_monkey_data/monkey_Bruno/data_0221\n",
      "all_monkey_data/raw_monkey_data/individual_monkey_data/monkey_Bruno/data_0312\n",
      "Successfully retrieved plan_x and plan_y data for session:  all_monkey_data/raw_monkey_data/individual_monkey_data/monkey_Bruno/data_0312\n",
      "all_monkey_data/raw_monkey_data/individual_monkey_data/monkey_Bruno/data_0315\n",
      "Successfully retrieved plan_x and plan_y data for session:  all_monkey_data/raw_monkey_data/individual_monkey_data/monkey_Bruno/data_0315\n",
      "all_monkey_data/raw_monkey_data/individual_monkey_data/monkey_Bruno/data_0323\n",
      "Successfully retrieved plan_x and plan_y data for session:  all_monkey_data/raw_monkey_data/individual_monkey_data/monkey_Bruno/data_0323\n",
      "all_monkey_data/raw_monkey_data/individual_monkey_data/monkey_Bruno/data_0322\n",
      "Successfully retrieved plan_x and plan_y data for session:  all_monkey_data/raw_monkey_data/individual_monkey_data/monkey_Bruno/data_0322\n",
      "all_monkey_data/raw_monkey_data/individual_monkey_data/monkey_Bruno/data_0314\n",
      "Successfully retrieved plan_x and plan_y data for session:  all_monkey_data/raw_monkey_data/individual_monkey_data/monkey_Bruno/data_0314\n",
      "ref_point_mode         distance\n",
      "ref_point_value      -150.00000\n",
      "monkey_name        monkey_Bruno\n",
      "stored                    False\n",
      "Name: 2, dtype: object\n",
      "all_monkey_data/raw_monkey_data/individual_monkey_data/monkey_Bruno/data_0222\n",
      "Successfully retrieved plan_x and plan_y data for session:  all_monkey_data/raw_monkey_data/individual_monkey_data/monkey_Bruno/data_0222\n",
      "all_monkey_data/raw_monkey_data/individual_monkey_data/monkey_Bruno/data_0402\n",
      "Successfully retrieved plan_x and plan_y data for session:  all_monkey_data/raw_monkey_data/individual_monkey_data/monkey_Bruno/data_0402\n",
      "all_monkey_data/raw_monkey_data/individual_monkey_data/monkey_Bruno/data_0329\n",
      "Successfully retrieved plan_x and plan_y data for session:  all_monkey_data/raw_monkey_data/individual_monkey_data/monkey_Bruno/data_0329\n",
      "all_monkey_data/raw_monkey_data/individual_monkey_data/monkey_Bruno/data_0316\n",
      "Successfully retrieved plan_x and plan_y data for session:  all_monkey_data/raw_monkey_data/individual_monkey_data/monkey_Bruno/data_0316\n",
      "all_monkey_data/raw_monkey_data/individual_monkey_data/monkey_Bruno/data_0327\n",
      "Successfully retrieved plan_x and plan_y data for session:  all_monkey_data/raw_monkey_data/individual_monkey_data/monkey_Bruno/data_0327\n",
      "all_monkey_data/raw_monkey_data/individual_monkey_data/monkey_Bruno/data_0321\n",
      "Successfully retrieved plan_x and plan_y data for session:  all_monkey_data/raw_monkey_data/individual_monkey_data/monkey_Bruno/data_0321\n",
      "all_monkey_data/raw_monkey_data/individual_monkey_data/monkey_Bruno/data_0326\n",
      "Successfully retrieved plan_x and plan_y data for session:  all_monkey_data/raw_monkey_data/individual_monkey_data/monkey_Bruno/data_0326\n",
      "all_monkey_data/raw_monkey_data/individual_monkey_data/monkey_Bruno/data_0328\n",
      "Successfully retrieved plan_x and plan_y data for session:  all_monkey_data/raw_monkey_data/individual_monkey_data/monkey_Bruno/data_0328\n",
      "all_monkey_data/raw_monkey_data/individual_monkey_data/monkey_Bruno/data_0309\n",
      "Successfully retrieved plan_x and plan_y data for session:  all_monkey_data/raw_monkey_data/individual_monkey_data/monkey_Bruno/data_0309\n",
      "all_monkey_data/raw_monkey_data/individual_monkey_data/monkey_Bruno/data_0307\n",
      "Successfully retrieved plan_x and plan_y data for session:  all_monkey_data/raw_monkey_data/individual_monkey_data/monkey_Bruno/data_0307\n",
      "all_monkey_data/raw_monkey_data/individual_monkey_data/monkey_Bruno/data_0306\n",
      "Successfully retrieved plan_x and plan_y data for session:  all_monkey_data/raw_monkey_data/individual_monkey_data/monkey_Bruno/data_0306\n",
      "all_monkey_data/raw_monkey_data/individual_monkey_data/monkey_Bruno/data_0301\n",
      "Successfully retrieved plan_x and plan_y data for session:  all_monkey_data/raw_monkey_data/individual_monkey_data/monkey_Bruno/data_0301\n",
      "all_monkey_data/raw_monkey_data/individual_monkey_data/monkey_Bruno/data_0308\n",
      "Successfully retrieved plan_x and plan_y data for session:  all_monkey_data/raw_monkey_data/individual_monkey_data/monkey_Bruno/data_0308\n",
      "all_monkey_data/raw_monkey_data/individual_monkey_data/monkey_Bruno/data_0330\n",
      "Successfully retrieved plan_x and plan_y data for session:  all_monkey_data/raw_monkey_data/individual_monkey_data/monkey_Bruno/data_0330\n",
      "all_monkey_data/raw_monkey_data/individual_monkey_data/monkey_Bruno/data_0220\n",
      "Successfully retrieved plan_x and plan_y data for session:  all_monkey_data/raw_monkey_data/individual_monkey_data/monkey_Bruno/data_0220\n",
      "all_monkey_data/raw_monkey_data/individual_monkey_data/monkey_Bruno/data_0227\n",
      "Successfully retrieved plan_x and plan_y data for session:  all_monkey_data/raw_monkey_data/individual_monkey_data/monkey_Bruno/data_0227\n",
      "all_monkey_data/raw_monkey_data/individual_monkey_data/monkey_Bruno/data_0228\n",
      "Successfully retrieved plan_x and plan_y data for session:  all_monkey_data/raw_monkey_data/individual_monkey_data/monkey_Bruno/data_0228\n",
      "all_monkey_data/raw_monkey_data/individual_monkey_data/monkey_Bruno/data_0226\n",
      "Successfully retrieved plan_x and plan_y data for session:  all_monkey_data/raw_monkey_data/individual_monkey_data/monkey_Bruno/data_0226\n",
      "all_monkey_data/raw_monkey_data/individual_monkey_data/monkey_Bruno/data_0219\n",
      "Successfully retrieved plan_x and plan_y data for session:  all_monkey_data/raw_monkey_data/individual_monkey_data/monkey_Bruno/data_0219\n",
      "all_monkey_data/raw_monkey_data/individual_monkey_data/monkey_Bruno/data_0221\n",
      "Successfully retrieved plan_x and plan_y data for session:  all_monkey_data/raw_monkey_data/individual_monkey_data/monkey_Bruno/data_0221\n",
      "all_monkey_data/raw_monkey_data/individual_monkey_data/monkey_Bruno/data_0312\n",
      "Successfully retrieved plan_x and plan_y data for session:  all_monkey_data/raw_monkey_data/individual_monkey_data/monkey_Bruno/data_0312\n",
      "all_monkey_data/raw_monkey_data/individual_monkey_data/monkey_Bruno/data_0315\n",
      "Successfully retrieved plan_x and plan_y data for session:  all_monkey_data/raw_monkey_data/individual_monkey_data/monkey_Bruno/data_0315\n",
      "all_monkey_data/raw_monkey_data/individual_monkey_data/monkey_Bruno/data_0323\n",
      "Successfully retrieved plan_x and plan_y data for session:  all_monkey_data/raw_monkey_data/individual_monkey_data/monkey_Bruno/data_0323\n",
      "all_monkey_data/raw_monkey_data/individual_monkey_data/monkey_Bruno/data_0322\n",
      "Successfully retrieved plan_x and plan_y data for session:  all_monkey_data/raw_monkey_data/individual_monkey_data/monkey_Bruno/data_0322\n",
      "all_monkey_data/raw_monkey_data/individual_monkey_data/monkey_Bruno/data_0314\n",
      "Successfully retrieved plan_x and plan_y data for session:  all_monkey_data/raw_monkey_data/individual_monkey_data/monkey_Bruno/data_0314\n",
      "ref_point_mode         distance\n",
      "ref_point_value      -100.00000\n",
      "monkey_name        monkey_Bruno\n",
      "stored                    False\n",
      "Name: 3, dtype: object\n",
      "all_monkey_data/raw_monkey_data/individual_monkey_data/monkey_Bruno/data_0222\n",
      "Successfully retrieved plan_x and plan_y data for session:  all_monkey_data/raw_monkey_data/individual_monkey_data/monkey_Bruno/data_0222\n",
      "all_monkey_data/raw_monkey_data/individual_monkey_data/monkey_Bruno/data_0402\n",
      "Successfully retrieved plan_x and plan_y data for session:  all_monkey_data/raw_monkey_data/individual_monkey_data/monkey_Bruno/data_0402\n",
      "all_monkey_data/raw_monkey_data/individual_monkey_data/monkey_Bruno/data_0329\n",
      "Successfully retrieved plan_x and plan_y data for session:  all_monkey_data/raw_monkey_data/individual_monkey_data/monkey_Bruno/data_0329\n",
      "all_monkey_data/raw_monkey_data/individual_monkey_data/monkey_Bruno/data_0316\n",
      "Successfully retrieved plan_x and plan_y data for session:  all_monkey_data/raw_monkey_data/individual_monkey_data/monkey_Bruno/data_0316\n",
      "all_monkey_data/raw_monkey_data/individual_monkey_data/monkey_Bruno/data_0327\n",
      "Successfully retrieved plan_x and plan_y data for session:  all_monkey_data/raw_monkey_data/individual_monkey_data/monkey_Bruno/data_0327\n",
      "all_monkey_data/raw_monkey_data/individual_monkey_data/monkey_Bruno/data_0321\n",
      "Successfully retrieved plan_x and plan_y data for session:  all_monkey_data/raw_monkey_data/individual_monkey_data/monkey_Bruno/data_0321\n",
      "all_monkey_data/raw_monkey_data/individual_monkey_data/monkey_Bruno/data_0326\n",
      "Successfully retrieved plan_x and plan_y data for session:  all_monkey_data/raw_monkey_data/individual_monkey_data/monkey_Bruno/data_0326\n",
      "all_monkey_data/raw_monkey_data/individual_monkey_data/monkey_Bruno/data_0328\n",
      "Successfully retrieved plan_x and plan_y data for session:  all_monkey_data/raw_monkey_data/individual_monkey_data/monkey_Bruno/data_0328\n",
      "all_monkey_data/raw_monkey_data/individual_monkey_data/monkey_Bruno/data_0309\n",
      "Successfully retrieved plan_x and plan_y data for session:  all_monkey_data/raw_monkey_data/individual_monkey_data/monkey_Bruno/data_0309\n",
      "all_monkey_data/raw_monkey_data/individual_monkey_data/monkey_Bruno/data_0307\n",
      "Successfully retrieved plan_x and plan_y data for session:  all_monkey_data/raw_monkey_data/individual_monkey_data/monkey_Bruno/data_0307\n",
      "all_monkey_data/raw_monkey_data/individual_monkey_data/monkey_Bruno/data_0306\n",
      "Successfully retrieved plan_x and plan_y data for session:  all_monkey_data/raw_monkey_data/individual_monkey_data/monkey_Bruno/data_0306\n",
      "all_monkey_data/raw_monkey_data/individual_monkey_data/monkey_Bruno/data_0301\n",
      "Successfully retrieved plan_x and plan_y data for session:  all_monkey_data/raw_monkey_data/individual_monkey_data/monkey_Bruno/data_0301\n",
      "all_monkey_data/raw_monkey_data/individual_monkey_data/monkey_Bruno/data_0308\n",
      "Successfully retrieved plan_x and plan_y data for session:  all_monkey_data/raw_monkey_data/individual_monkey_data/monkey_Bruno/data_0308\n",
      "all_monkey_data/raw_monkey_data/individual_monkey_data/monkey_Bruno/data_0330\n",
      "Successfully retrieved plan_x and plan_y data for session:  all_monkey_data/raw_monkey_data/individual_monkey_data/monkey_Bruno/data_0330\n",
      "all_monkey_data/raw_monkey_data/individual_monkey_data/monkey_Bruno/data_0220\n",
      "Successfully retrieved plan_x and plan_y data for session:  all_monkey_data/raw_monkey_data/individual_monkey_data/monkey_Bruno/data_0220\n",
      "all_monkey_data/raw_monkey_data/individual_monkey_data/monkey_Bruno/data_0227\n",
      "Successfully retrieved plan_x and plan_y data for session:  all_monkey_data/raw_monkey_data/individual_monkey_data/monkey_Bruno/data_0227\n",
      "all_monkey_data/raw_monkey_data/individual_monkey_data/monkey_Bruno/data_0228\n",
      "Successfully retrieved plan_x and plan_y data for session:  all_monkey_data/raw_monkey_data/individual_monkey_data/monkey_Bruno/data_0228\n",
      "all_monkey_data/raw_monkey_data/individual_monkey_data/monkey_Bruno/data_0226\n",
      "Successfully retrieved plan_x and plan_y data for session:  all_monkey_data/raw_monkey_data/individual_monkey_data/monkey_Bruno/data_0226\n",
      "all_monkey_data/raw_monkey_data/individual_monkey_data/monkey_Bruno/data_0219\n",
      "Successfully retrieved plan_x and plan_y data for session:  all_monkey_data/raw_monkey_data/individual_monkey_data/monkey_Bruno/data_0219\n",
      "all_monkey_data/raw_monkey_data/individual_monkey_data/monkey_Bruno/data_0221\n",
      "Successfully retrieved plan_x and plan_y data for session:  all_monkey_data/raw_monkey_data/individual_monkey_data/monkey_Bruno/data_0221\n",
      "all_monkey_data/raw_monkey_data/individual_monkey_data/monkey_Bruno/data_0312\n",
      "Successfully retrieved plan_x and plan_y data for session:  all_monkey_data/raw_monkey_data/individual_monkey_data/monkey_Bruno/data_0312\n",
      "all_monkey_data/raw_monkey_data/individual_monkey_data/monkey_Bruno/data_0315\n",
      "Successfully retrieved plan_x and plan_y data for session:  all_monkey_data/raw_monkey_data/individual_monkey_data/monkey_Bruno/data_0315\n",
      "all_monkey_data/raw_monkey_data/individual_monkey_data/monkey_Bruno/data_0323\n",
      "Successfully retrieved plan_x and plan_y data for session:  all_monkey_data/raw_monkey_data/individual_monkey_data/monkey_Bruno/data_0323\n",
      "all_monkey_data/raw_monkey_data/individual_monkey_data/monkey_Bruno/data_0322\n",
      "Successfully retrieved plan_x and plan_y data for session:  all_monkey_data/raw_monkey_data/individual_monkey_data/monkey_Bruno/data_0322\n",
      "all_monkey_data/raw_monkey_data/individual_monkey_data/monkey_Bruno/data_0314\n",
      "Successfully retrieved plan_x and plan_y data for session:  all_monkey_data/raw_monkey_data/individual_monkey_data/monkey_Bruno/data_0314\n",
      "ref_point_mode         distance\n",
      "ref_point_value       -50.00000\n",
      "monkey_name        monkey_Bruno\n",
      "stored                    False\n",
      "Name: 4, dtype: object\n",
      "all_monkey_data/raw_monkey_data/individual_monkey_data/monkey_Bruno/data_0222\n",
      "Successfully retrieved plan_x and plan_y data for session:  all_monkey_data/raw_monkey_data/individual_monkey_data/monkey_Bruno/data_0222\n",
      "all_monkey_data/raw_monkey_data/individual_monkey_data/monkey_Bruno/data_0402\n",
      "Successfully retrieved plan_x and plan_y data for session:  all_monkey_data/raw_monkey_data/individual_monkey_data/monkey_Bruno/data_0402\n",
      "all_monkey_data/raw_monkey_data/individual_monkey_data/monkey_Bruno/data_0329\n",
      "Successfully retrieved plan_x and plan_y data for session:  all_monkey_data/raw_monkey_data/individual_monkey_data/monkey_Bruno/data_0329\n",
      "all_monkey_data/raw_monkey_data/individual_monkey_data/monkey_Bruno/data_0316\n",
      "Successfully retrieved plan_x and plan_y data for session:  all_monkey_data/raw_monkey_data/individual_monkey_data/monkey_Bruno/data_0316\n",
      "all_monkey_data/raw_monkey_data/individual_monkey_data/monkey_Bruno/data_0327\n",
      "Successfully retrieved plan_x and plan_y data for session:  all_monkey_data/raw_monkey_data/individual_monkey_data/monkey_Bruno/data_0327\n",
      "all_monkey_data/raw_monkey_data/individual_monkey_data/monkey_Bruno/data_0321\n",
      "Successfully retrieved plan_x and plan_y data for session:  all_monkey_data/raw_monkey_data/individual_monkey_data/monkey_Bruno/data_0321\n",
      "all_monkey_data/raw_monkey_data/individual_monkey_data/monkey_Bruno/data_0326\n",
      "Successfully retrieved plan_x and plan_y data for session:  all_monkey_data/raw_monkey_data/individual_monkey_data/monkey_Bruno/data_0326\n",
      "all_monkey_data/raw_monkey_data/individual_monkey_data/monkey_Bruno/data_0328\n",
      "Successfully retrieved plan_x and plan_y data for session:  all_monkey_data/raw_monkey_data/individual_monkey_data/monkey_Bruno/data_0328\n",
      "all_monkey_data/raw_monkey_data/individual_monkey_data/monkey_Bruno/data_0309\n",
      "Successfully retrieved plan_x and plan_y data for session:  all_monkey_data/raw_monkey_data/individual_monkey_data/monkey_Bruno/data_0309\n",
      "all_monkey_data/raw_monkey_data/individual_monkey_data/monkey_Bruno/data_0307\n",
      "Successfully retrieved plan_x and plan_y data for session:  all_monkey_data/raw_monkey_data/individual_monkey_data/monkey_Bruno/data_0307\n",
      "all_monkey_data/raw_monkey_data/individual_monkey_data/monkey_Bruno/data_0306\n",
      "Successfully retrieved plan_x and plan_y data for session:  all_monkey_data/raw_monkey_data/individual_monkey_data/monkey_Bruno/data_0306\n",
      "all_monkey_data/raw_monkey_data/individual_monkey_data/monkey_Bruno/data_0301\n",
      "Successfully retrieved plan_x and plan_y data for session:  all_monkey_data/raw_monkey_data/individual_monkey_data/monkey_Bruno/data_0301\n",
      "all_monkey_data/raw_monkey_data/individual_monkey_data/monkey_Bruno/data_0308\n",
      "Successfully retrieved plan_x and plan_y data for session:  all_monkey_data/raw_monkey_data/individual_monkey_data/monkey_Bruno/data_0308\n",
      "all_monkey_data/raw_monkey_data/individual_monkey_data/monkey_Bruno/data_0330\n",
      "Successfully retrieved plan_x and plan_y data for session:  all_monkey_data/raw_monkey_data/individual_monkey_data/monkey_Bruno/data_0330\n",
      "all_monkey_data/raw_monkey_data/individual_monkey_data/monkey_Bruno/data_0220\n",
      "Successfully retrieved plan_x and plan_y data for session:  all_monkey_data/raw_monkey_data/individual_monkey_data/monkey_Bruno/data_0220\n",
      "all_monkey_data/raw_monkey_data/individual_monkey_data/monkey_Bruno/data_0227\n",
      "Successfully retrieved plan_x and plan_y data for session:  all_monkey_data/raw_monkey_data/individual_monkey_data/monkey_Bruno/data_0227\n",
      "all_monkey_data/raw_monkey_data/individual_monkey_data/monkey_Bruno/data_0228\n",
      "Successfully retrieved plan_x and plan_y data for session:  all_monkey_data/raw_monkey_data/individual_monkey_data/monkey_Bruno/data_0228\n",
      "all_monkey_data/raw_monkey_data/individual_monkey_data/monkey_Bruno/data_0226\n",
      "Successfully retrieved plan_x and plan_y data for session:  all_monkey_data/raw_monkey_data/individual_monkey_data/monkey_Bruno/data_0226\n",
      "all_monkey_data/raw_monkey_data/individual_monkey_data/monkey_Bruno/data_0219\n",
      "Successfully retrieved plan_x and plan_y data for session:  all_monkey_data/raw_monkey_data/individual_monkey_data/monkey_Bruno/data_0219\n",
      "all_monkey_data/raw_monkey_data/individual_monkey_data/monkey_Bruno/data_0221\n",
      "Successfully retrieved plan_x and plan_y data for session:  all_monkey_data/raw_monkey_data/individual_monkey_data/monkey_Bruno/data_0221\n",
      "all_monkey_data/raw_monkey_data/individual_monkey_data/monkey_Bruno/data_0312\n",
      "Successfully retrieved plan_x and plan_y data for session:  all_monkey_data/raw_monkey_data/individual_monkey_data/monkey_Bruno/data_0312\n",
      "all_monkey_data/raw_monkey_data/individual_monkey_data/monkey_Bruno/data_0315\n",
      "Successfully retrieved plan_x and plan_y data for session:  all_monkey_data/raw_monkey_data/individual_monkey_data/monkey_Bruno/data_0315\n",
      "all_monkey_data/raw_monkey_data/individual_monkey_data/monkey_Bruno/data_0323\n",
      "Successfully retrieved plan_x and plan_y data for session:  all_monkey_data/raw_monkey_data/individual_monkey_data/monkey_Bruno/data_0323\n",
      "all_monkey_data/raw_monkey_data/individual_monkey_data/monkey_Bruno/data_0322\n",
      "Successfully retrieved plan_x and plan_y data for session:  all_monkey_data/raw_monkey_data/individual_monkey_data/monkey_Bruno/data_0322\n",
      "all_monkey_data/raw_monkey_data/individual_monkey_data/monkey_Bruno/data_0314\n",
      "Successfully retrieved plan_x and plan_y data for session:  all_monkey_data/raw_monkey_data/individual_monkey_data/monkey_Bruno/data_0314\n"
     ]
    }
   ],
   "source": [
    "# to re-calculate planning data for a monkey\n",
    "exists_ok = True\n",
    "for optimal_arc_type in ['norm_opt_arc', 'opt_arc_stop_first_vis_bdry', 'opt_arc_stop_closest']:\n",
    "    #optimal_arc_type='norm_opt_arc' # options are: norm_opt_arc, opt_arc_stop_first_vis_bdry, opt_arc_stop_closest,\n",
    "    curv_traj_window_before_stop=[-50, 0]\n",
    "\n",
    "\n",
    "    ref_point_params_based_on_mode = monkey_plan_factors_x_sess_class.PlanAcrossSessions.default_ref_point_params_based_on_mode\n",
    "\n",
    "    variations_list = basic_func.init_variations_list_func(ref_point_params_based_on_mode,\n",
    "                                                                monkey_name='monkey_Schro')\n",
    "\n",
    "    for index, row in variations_list.iterrows():\n",
    "        ps = monkey_plan_factors_x_sess_class.PlanAcrossSessions(monkey_name='monkey_Schro', \n",
    "                                                                optimal_arc_type=optimal_arc_type,\n",
    "                                                                curv_traj_window_before_stop=curv_traj_window_before_stop)\n",
    "        ps.initialize_monkey_sessions_df_for_one_monkey()\n",
    "        # ps.get_plan_x_and_plan_y_across_sessions(exists_ok=True, plan_x_exists_ok=True, plan_y_exists_ok=True,\n",
    "        #                                          ref_point_mode='time after stop ff visible', ref_point_value=0.1)\n",
    "        print(row)\n",
    "        ps.get_plan_x_and_plan_y_across_sessions(exists_ok=False, plan_x_exists_ok=exists_ok, plan_y_exists_ok=exists_ok,\n",
    "                                                heading_info_df_exists_ok=exists_ok,\n",
    "                                                stops_near_ff_df_exists_ok=exists_ok, \n",
    "                                                ref_point_mode=row['ref_point_mode'], ref_point_value=row['ref_point_value'])\n",
    "\n",
    "\n",
    "\n",
    "\n",
    "    # to re-calculate planning data for a monkey\n",
    "    ref_point_params_based_on_mode = monkey_plan_factors_x_sess_class.PlanAcrossSessions.default_ref_point_params_based_on_mode\n",
    "\n",
    "    variations_list = basic_func.init_variations_list_func(ref_point_params_based_on_mode,\n",
    "                                                                monkey_name='monkey_Bruno')\n",
    "\n",
    "    for index, row in variations_list.iterrows():\n",
    "        ps = monkey_plan_factors_x_sess_class.PlanAcrossSessions(monkey_name='monkey_Bruno', \n",
    "                                                                optimal_arc_type=optimal_arc_type,\n",
    "                                                                curv_traj_window_before_stop=curv_traj_window_before_stop)\n",
    "        ps.initialize_monkey_sessions_df_for_one_monkey()\n",
    "        # ps.get_plan_x_and_plan_y_across_sessions(exists_ok=True, plan_x_exists_ok=True, plan_y_exists_ok=True,\n",
    "        #                                          ref_point_mode='time after stop ff visible', ref_point_value=0.1)\n",
    "        print(row)\n",
    "        ps.get_plan_x_and_plan_y_across_sessions(exists_ok=False, plan_x_exists_ok=exists_ok, plan_y_exists_ok=exists_ok,\n",
    "                                                heading_info_df_exists_ok=exists_ok,\n",
    "                                                stops_near_ff_df_exists_ok=exists_ok, \n",
    "                                                ref_point_mode=row['ref_point_mode'], ref_point_value=row['ref_point_value'])\n",
    "\n"
   ]
  },
  {
   "cell_type": "markdown",
   "metadata": {},
   "source": [
    "### re-calculate heading_info"
   ]
  },
  {
   "cell_type": "code",
   "execution_count": null,
   "metadata": {},
   "outputs": [],
   "source": [
    "# # to re-calculate planning data for a monkey\n",
    "# exists_ok = True\n",
    "# optimal_arc_type='norm_opt_arc' # options are: norm_opt_arc, opt_arc_stop_first_vis_bdry, opt_arc_stop_closest,\n",
    "# curv_traj_window_before_stop=[-50, 0]\n",
    "\n",
    "\n",
    "# ref_point_params_based_on_mode = monkey_plan_factors_x_sess_class.PlanAcrossSessions.default_ref_point_params_based_on_mode\n",
    "\n",
    "# variations_list = basic_func.init_variations_list_func(ref_point_params_based_on_mode,\n",
    "#                                                             monkey_name='monkey_Schro')\n",
    "\n",
    "# for index, row in variations_list.iterrows():\n",
    "#     ps = monkey_plan_factors_x_sess_class.PlanAcrossSessions(monkey_name='monkey_Schro',\n",
    "#                                                              optimal_arc_type=optimal_arc_type,\n",
    "#                                                              curv_traj_window_before_stop=curv_traj_window_before_stop)\n",
    "#     ps.initialize_monkey_sessions_df_for_one_monkey()\n",
    "#     # ps.get_plan_x_and_plan_y_across_sessions(exists_ok=True, plan_x_exists_ok=True, plan_y_exists_ok=True,\n",
    "#     #                                          ref_point_mode='time after stop ff visible', ref_point_value=0.1)\n",
    "#     print(row)\n",
    "\n",
    "#     ps.get_combd_heading_df_x_sessions_across_sessions(exists_ok=False,\n",
    "#                                             heading_info_df_exists_ok=exists_ok,\n",
    "#                                             stops_near_ff_df_exists_ok=exists_ok, \n",
    "#                                             ref_point_mode=row['ref_point_mode'], ref_point_value=row['ref_point_value'])\n",
    "\n",
    "# # to re-calculate planning data for a monkey\n",
    "# ref_point_params_based_on_mode = monkey_plan_factors_x_sess_class.PlanAcrossSessions.default_ref_point_params_based_on_mode\n",
    "\n",
    "# variations_list = basic_func.init_variations_list_func(ref_point_params_based_on_mode,\n",
    "#                                                             monkey_name='monkey_Bruno')\n",
    "\n",
    "# for index, row in variations_list.iterrows():\n",
    "#     ps = monkey_plan_factors_x_sess_class.PlanAcrossSessions(monkey_name='monkey_Bruno',\n",
    "#                                                              optimal_arc_type=optimal_arc_type,\n",
    "#                                                              curv_traj_window_before_stop=curv_traj_window_before_stop)                                                             \n",
    "#     ps.initialize_monkey_sessions_df_for_one_monkey()\n",
    "#     # ps.get_plan_x_and_plan_y_across_sessions(exists_ok=True, plan_x_exists_ok=True, plan_y_exists_ok=True,\n",
    "#     #                                          ref_point_mode='time after stop ff visible', ref_point_value=0.1)\n",
    "#     print(row)\n",
    "\n",
    "#     ps.get_combd_heading_df_x_sessions_across_sessions(exists_ok=False,\n",
    "#                                             heading_info_df_exists_ok=exists_ok,\n",
    "#                                             stops_near_ff_df_exists_ok=exists_ok, \n",
    "#                                             ref_point_mode=row['ref_point_mode'], ref_point_value=row['ref_point_value'])\n"
   ]
  },
  {
   "cell_type": "code",
   "execution_count": null,
   "metadata": {},
   "outputs": [],
   "source": [
    "for curv_traj_window_before_stop in [[-100, 0], [-50, -5]]:\n",
    "    # [-75, -0], [-50, 0], [-25, 0], \n",
    "    for optimal_arc_type in ['norm_opt_arc', 'opt_arc_stop_closest', 'opt_arc_stop_first_vis_bdry']:\n",
    "        # to re-calculate planning data for a monkey\n",
    "        exists_ok = True\n",
    "        # optimal_arc_type='norm_opt_arc' # options are: norm_opt_arc, opt_arc_stop_first_vis_bdry, opt_arc_stop_closest,\n",
    "        \n",
    "\n",
    "\n",
    "        ref_point_params_based_on_mode = monkey_plan_factors_x_sess_class.PlanAcrossSessions.default_ref_point_params_based_on_mode\n",
    "\n",
    "        variations_list = basic_func.init_variations_list_func(ref_point_params_based_on_mode,\n",
    "                                                                    monkey_name='monkey_Schro')\n",
    "\n",
    "        for index, row in variations_list.iterrows():\n",
    "            ps = monkey_plan_factors_x_sess_class.PlanAcrossSessions(monkey_name='monkey_Schro',\n",
    "                                                                    optimal_arc_type=optimal_arc_type,\n",
    "                                                                    curv_traj_window_before_stop=curv_traj_window_before_stop)\n",
    "            ps.initialize_monkey_sessions_df_for_one_monkey()\n",
    "            # ps.get_plan_x_and_plan_y_across_sessions(exists_ok=True, plan_x_exists_ok=True, plan_y_exists_ok=True,\n",
    "            #                                          ref_point_mode='time after stop ff visible', ref_point_value=0.1)\n",
    "            print(row)\n",
    "\n",
    "            ps.get_combd_heading_df_x_sessions_across_sessions(exists_ok=exists_ok,\n",
    "                                                    heading_info_df_exists_ok=exists_ok,\n",
    "                                                    stops_near_ff_df_exists_ok=exists_ok, \n",
    "                                                    ref_point_mode=row['ref_point_mode'], ref_point_value=row['ref_point_value'])\n",
    "\n",
    "        # to re-calculate planning data for a monkey\n",
    "        ref_point_params_based_on_mode = monkey_plan_factors_x_sess_class.PlanAcrossSessions.default_ref_point_params_based_on_mode\n",
    "\n",
    "        variations_list = basic_func.init_variations_list_func(ref_point_params_based_on_mode,\n",
    "                                                                    monkey_name='monkey_Bruno')\n",
    "\n",
    "        for index, row in variations_list.iterrows():\n",
    "            ps = monkey_plan_factors_x_sess_class.PlanAcrossSessions(monkey_name='monkey_Bruno',\n",
    "                                                                    optimal_arc_type=optimal_arc_type,\n",
    "                                                                    curv_traj_window_before_stop=curv_traj_window_before_stop)                                                             \n",
    "            ps.initialize_monkey_sessions_df_for_one_monkey()\n",
    "            # ps.get_plan_x_and_plan_y_across_sessions(exists_ok=True, plan_x_exists_ok=True, plan_y_exists_ok=True,\n",
    "            #                                          ref_point_mode='time after stop ff visible', ref_point_value=0.1)\n",
    "            print(row)\n",
    "\n",
    "            ps.get_combd_heading_df_x_sessions_across_sessions(exists_ok=exists_ok,\n",
    "                                                    heading_info_df_exists_ok=exists_ok,\n",
    "                                                    stops_near_ff_df_exists_ok=exists_ok, \n",
    "                                                    ref_point_mode=row['ref_point_mode'], ref_point_value=row['ref_point_value'])\n"
   ]
  },
  {
   "cell_type": "markdown",
   "metadata": {},
   "source": [
    "### agent"
   ]
  },
  {
   "cell_type": "code",
   "execution_count": 12,
   "metadata": {},
   "outputs": [],
   "source": [
    "env_kwargs = {}"
   ]
  },
  {
   "cell_type": "code",
   "execution_count": null,
   "metadata": {},
   "outputs": [],
   "source": [
    "# for 5 ff\n",
    "ref_point_mode='time after stop ff visible'\n",
    "ref_point_value=0.1\n",
    "save_data = True\n",
    "exists_ok = True\n",
    "num_obs_ff = 5\n",
    "model_folder_name='RL_models/SB3_stored_models/all_agents/gen_27_5_ff_0.3_flash/all_agents/time27.17_dv92.21_dw124.84_w91.59'"
   ]
  },
  {
   "cell_type": "code",
   "execution_count": null,
   "metadata": {},
   "outputs": [],
   "source": [
    "# for 1 ff\n",
    "ref_point_mode='time after stop ff visible'\n",
    "ref_point_value=0.1\n",
    "save_data = True\n",
    "exists_ok = True\n",
    "num_obs_ff = 1\n",
    "model_folder_name='RL_models/SB3_stored_models/all_agents/gen_26_1_ff_0.3_flash/all_agents/time34.84_dv118.27_dw144.17_w101.32'"
   ]
  },
  {
   "cell_type": "code",
   "execution_count": 11,
   "metadata": {},
   "outputs": [],
   "source": [
    "# for 4 ff\n",
    "ref_point_mode='time after stop ff visible'\n",
    "ref_point_value=0.1\n",
    "save_data = True\n",
    "exists_ok = True\n",
    "num_obs_ff = 4\n",
    "model_folder_name='RL_models/SB3_stored_models/all_agents/gen_3_env1_4ff_relu/all_agents/time23.73_dv126.41_dw141.9_w87.49'"
   ]
  },
  {
   "cell_type": "code",
   "execution_count": null,
   "metadata": {},
   "outputs": [],
   "source": [
    "#for i in range(1, 10):\n",
    "for i in range(1):\n",
    "    data_name = f'data_{i}'\n",
    "    print('data_name:', data_name)\n",
    "    pf = agent_plan_factors_class.PlanFactorsOfAgent(model_folder_name=model_folder_name,\n",
    "                                                        data_name=data_name\n",
    "                                                        )\n",
    "    pf.get_agent_data(**env_kwargs, exists_ok=exists_ok, save_data=save_data, n_steps=100000,\n",
    "                    num_obs_ff=num_obs_ff)\n",
    "    \n",
    "    pf.get_plan_x_and_plan_y(ref_point_mode=ref_point_mode, \n",
    "                             ref_point_value=ref_point_value,\n",
    "                            plan_x_exists_ok=exists_ok, \n",
    "                            plan_y_exists_ok=exists_ok, \n",
    "                            heading_info_df_exists_ok=exists_ok,\n",
    "                            stops_near_ff_df_exists_ok=exists_ok, \n",
    "                            save_data=save_data)"
   ]
  },
  {
   "cell_type": "code",
   "execution_count": null,
   "metadata": {},
   "outputs": [],
   "source": [
    "pf.get_plan_x_and_plan_y_across_sessions(\n",
    "                        ref_point_mode=ref_point_mode, \n",
    "                        ref_point_value=ref_point_value,\n",
    "                        save_data=save_data)"
   ]
  },
  {
   "cell_type": "code",
   "execution_count": null,
   "metadata": {},
   "outputs": [],
   "source": [
    "pf.get_combd_heading_df_x_sessions_across_sessions(\n",
    "                        ref_point_mode=ref_point_mode, \n",
    "                        ref_point_value=ref_point_value,\n",
    "                        save_data=save_data)"
   ]
  },
  {
   "cell_type": "code",
   "execution_count": null,
   "metadata": {},
   "outputs": [],
   "source": [
    "stop!"
   ]
  },
  {
   "cell_type": "markdown",
   "metadata": {},
   "source": [
    "## vif"
   ]
  },
  {
   "cell_type": "code",
   "execution_count": null,
   "metadata": {},
   "outputs": [],
   "source": [
    "pd.set_option('display.max_colwidth', None)"
   ]
  },
  {
   "cell_type": "code",
   "execution_count": null,
   "metadata": {},
   "outputs": [],
   "source": [
    "ml_inst.use_vif()"
   ]
  },
  {
   "cell_type": "code",
   "execution_count": null,
   "metadata": {},
   "outputs": [],
   "source": [
    "pf.vif[pf.vif['features']=='dummy']"
   ]
  },
  {
   "cell_type": "code",
   "execution_count": null,
   "metadata": {},
   "outputs": [],
   "source": [
    "pf.vif.iloc[:30]"
   ]
  },
  {
   "cell_type": "markdown",
   "metadata": {},
   "source": [
    "## heatmap"
   ]
  },
  {
   "cell_type": "code",
   "execution_count": null,
   "metadata": {},
   "outputs": [],
   "source": [
    "specific_columns = [column for column in pf.vif['features'].values if 'ff_angle' in column]"
   ]
  },
  {
   "cell_type": "code",
   "execution_count": null,
   "metadata": {},
   "outputs": [],
   "source": [
    "specific_columns = [column for column in pf.vif['features'].values if 'better_angle_than_alt_ff' in column]"
   ]
  },
  {
   "cell_type": "code",
   "execution_count": null,
   "metadata": {},
   "outputs": [],
   "source": [
    "specific_columns = [column for column in pf.vif['features'].values if 'stop_ff_cluster_100' in column]\n"
   ]
  },
  {
   "cell_type": "code",
   "execution_count": null,
   "metadata": {},
   "outputs": [],
   "source": [
    "ml_inst.show_correlation_heatmap(specific_columns=None)"
   ]
  },
  {
   "cell_type": "markdown",
   "metadata": {},
   "source": [
    "# ML"
   ]
  },
  {
   "cell_type": "code",
   "execution_count": null,
   "metadata": {},
   "outputs": [],
   "source": [
    "curv_of_traj_mode = 'distance'\n",
    "window_for_curv_of_traj=[-25, 25]\n",
    "raw_data_folder_path = \"all_monkey_data/raw_monkey_data/individual_monkey_data/monkey_Bruno/data_0330\"\n",
    "pf = plan_factors_class.PlanFactors()\n",
    "pf.load_raw_data(raw_data_folder_path=raw_data_folder_path)"
   ]
  },
  {
   "cell_type": "code",
   "execution_count": null,
   "metadata": {},
   "outputs": [],
   "source": [
    "exists_ok = True\n",
    "exists_ok2 = False\n",
    "pf.make_plan_x_and_y_for_both_test_and_ctrl(plan_x_exists_ok=exists_ok2, \n",
    "                                            plan_y_exists_ok=exists_ok2,\n",
    "                                            already_made_ok=False, \n",
    "                                            heading_info_df_exists_ok=exists_ok,\n",
    "                                            stops_near_ff_df_exists_ok=exists_ok,\n",
    "                                            ref_point_mode='time after stop ff visible', \n",
    "                                            ref_point_value=0.1,\n",
    "                                            # ref_point_mode='distance', \n",
    "                                            # ref_point_value=-150,                                           \n",
    "                                            )\n",
    "\n",
    "\n",
    "# ps = monkey_plan_factors_x_sess_class.PlanAcrossSessions(monkey_name='monkey_Schro')\n",
    "# ps.initialize_monkey_sessions_df_for_one_monkey()\n",
    "# ps.get_plan_x_and_plan_y_across_sessions(exists_ok=True, plan_x_exists_ok=True, plan_y_exists_ok=True,\n",
    "#                                          ref_point_mode='time after stop ff visible', ref_point_value=0.1)\n",
    "# combd_plan_y_both = ps.combd_plan_y_both.copy().reset_index(drop=True)\n",
    "# combd_plan_x_both = ps.combd_plan_x_both.copy().reset_index(drop=True)\n",
    "# pf.plan_x_both = combd_plan_x_both.copy()\n",
    "# pf.plan_y_both = combd_plan_y_both.copy()"
   ]
  },
  {
   "cell_type": "code",
   "execution_count": 77,
   "metadata": {},
   "outputs": [],
   "source": [
    "ref_columns = [column for column in pf.plan_x_both.columns if ('ref' in column) & ('stop_ff' in column)]"
   ]
  },
  {
   "cell_type": "code",
   "execution_count": 78,
   "metadata": {},
   "outputs": [],
   "source": [
    "x_columns = ['time_when_stop_ff_last_seen_rel_to_stop',\n",
    "            'left_eye_stop_ff_time_perc',\n",
    "            'right_eye_stop_ff_time_perc',\n",
    "            'left_eye_stop_ff_time_perc_10',\n",
    "            'right_eye_stop_ff_time_perc_10',\n",
    "            'LDy_25%',\n",
    "            'LDy_50%',\n",
    "            'LDy_75%',\n",
    "            'LDz_25%',\n",
    "            'LDz_50%',\n",
    "            'LDz_75%',\n",
    "            'RDy_25%',\n",
    "            'RDy_50%',\n",
    "            'RDy_75%',\n",
    "            'RDz_25%',\n",
    "            'monkey_speed_25%',\n",
    "            'monkey_speed_50%',\n",
    "            'monkey_speed_75%',\n",
    "            'monkey_dw_25%',\n",
    "            'monkey_dw_50%',\n",
    "            'monkey_dw_75%',\n",
    "            # 'stop_ff_angle_when_stop_ff_last_seen',\n",
    "            # 'stop_ff_distance_when_stop_ff_last_seen',\n",
    "            # 'traj_curv_when_stop_ff_last_seen',\n",
    "                ]"
   ]
  },
  {
   "cell_type": "code",
   "execution_count": 79,
   "metadata": {},
   "outputs": [],
   "source": [
    "stop_ff_cluster_columns = ['stop_ff_cluster_100_size',\n",
    "                            'stop_ff_cluster_100_EARLIEST_APPEAR_ff_angle',\n",
    "                            'stop_ff_cluster_100_EARLIEST_APPEAR_latest_vis_time',\n",
    "                            'stop_ff_cluster_100_EARLIEST_APPEAR_visible_duration_after_stop',\n",
    "                            'stop_ff_cluster_100_EARLIEST_APPEAR_visible_duration_before_stop',\n",
    "                            'stop_ff_cluster_100_LAST_DISP_earliest_vis_time',\n",
    "                            'stop_ff_cluster_100_LAST_DISP_ff_angle',\n",
    "                            'stop_ff_cluster_100_LAST_DISP_visible_duration_after_stop',\n",
    "                            'stop_ff_cluster_100_LAST_DISP_visible_duration_before_stop',\n",
    "                            'stop_ff_cluster_100_LONGEST_VIS_earliest_vis_time',\n",
    "                            'stop_ff_cluster_100_LONGEST_VIS_ff_angle',\n",
    "                            'stop_ff_cluster_100_LONGEST_VIS_latest_vis_time',\n",
    "                            'stop_ff_cluster_100_LONGEST_VIS_visible_duration_after_stop',\n",
    "                            'stop_ff_cluster_100_LONGEST_VIS_visible_duration_before_stop',\n",
    "                            'stop_ff_cluster_100_combd_min_ff_angle',\n",
    "                            'stop_ff_cluster_100_combd_max_ff_angle',\n",
    "                            'stop_ff_cluster_100_combd_median_ff_angle',\n",
    "                            'stop_ff_cluster_100_combd_median_ff_distance',\n",
    "                            'stop_ff_cluster_100_combd_earliest_vis_time',\n",
    "                            'stop_ff_cluster_100_combd_latest_vis_time',\n",
    "                            'stop_ff_cluster_100_combd_visible_duration',\n",
    "                            'stop_ff_cluster_100_combd_earliest_vis_time_after_stop',\n",
    "                            'stop_ff_cluster_100_combd_latest_vis_time_before_stop',\n",
    "                            #'stop_ff_cluster_100_EARLIEST_APPEAR_earliest_vis_time',\n",
    "                            #'stop_ff_cluster_100_LAST_DISP_latest_vis_time',                            \n",
    "                            ]"
   ]
  },
  {
   "cell_type": "code",
   "execution_count": 80,
   "metadata": {},
   "outputs": [],
   "source": [
    "curv_columns = ['ref_curv_of_traj',\n",
    "                'curv_mean',\n",
    "                'curv_std',\n",
    "                'curv_min',\n",
    "                'curv_25%',\n",
    "                'curv_50%',\n",
    "                'curv_75%',\n",
    "                'curv_max']\n",
    "\n",
    "pf.plan_x_both['ref_d_heading_of_traj'] = pf.plan_y_both['ref_d_heading_of_traj'].values\n",
    "pf.plan_x_both[curv_columns] = pf.plan_y_both[curv_columns].values"
   ]
  },
  {
   "cell_type": "code",
   "execution_count": null,
   "metadata": {},
   "outputs": [],
   "source": [
    "pf.plan_y_test"
   ]
  },
  {
   "cell_type": "code",
   "execution_count": null,
   "metadata": {},
   "outputs": [],
   "source": [
    "pf.plan_x_test"
   ]
  },
  {
   "cell_type": "markdown",
   "metadata": {},
   "source": [
    "### Linear regression"
   ]
  },
  {
   "cell_type": "markdown",
   "metadata": {},
   "source": [
    "#### predict monkey vars"
   ]
  },
  {
   "cell_type": "code",
   "execution_count": null,
   "metadata": {},
   "outputs": [],
   "source": [
    "plan_x_both = pf.plan_x_both.copy()\n",
    "ml_inst = ml_methods_class.MlMethods()\n",
    "for y_var_column in ['curvature_of_traj_before_stop',\n",
    "                    'ref_d_heading_of_traj',\n",
    "                    'dev_d_angle_from_null',\n",
    "                    'diff_in_abs',   \n",
    "                    'dir_from_stop_ff_to_stop']:\n",
    "    #pf.make_x_and_y_var_df()\n",
    "    print('y_var_column:', y_var_column)\n",
    "    pf.x_var_df, pf.y_var_df = ml_methods_utils.make_x_and_y_var_df(plan_x_both, pf.plan_y_both, drop_na=True, scale_x_var=True)\n",
    "    ml_inst.use_train_test_split(pf.x_var_df, pf.y_var_df, y_var_column=y_var_column)\n",
    "    ml_inst.use_linear_regression()\n"
   ]
  },
  {
   "cell_type": "markdown",
   "metadata": {},
   "source": [
    "#### predict ff vars"
   ]
  },
  {
   "cell_type": "code",
   "execution_count": null,
   "metadata": {},
   "outputs": [],
   "source": [
    "pf.plan_y_test.columns"
   ]
  },
  {
   "cell_type": "code",
   "execution_count": null,
   "metadata": {},
   "outputs": [],
   "source": [
    "plan_x_both = pf.plan_x_both[ref_columns + ['ref_d_heading_of_traj'] + curv_columns].copy()\n",
    "ml_inst = ml_methods_class.MlMethods()\n",
    "for y_var_column in ['alt_ff_distance_at_ref',\n",
    "                        'alt_ff_angle_at_ref',\n",
    "                        'alt_ff_angle_at_stop']:\n",
    "    print('y_var_column:', y_var_column)\n",
    "    pf.x_var_df, pf.y_var_df = ml_methods_utils.make_x_and_y_var_df(plan_x_both, pf.plan_y_both, drop_na=True, scale_x_var=True)\n",
    "    ml_inst.use_train_test_split(pf.x_var_df, pf.y_var_df, y_var_column=y_var_column)\n",
    "    ml_inst.use_linear_regression()\n"
   ]
  },
  {
   "cell_type": "code",
   "execution_count": null,
   "metadata": {},
   "outputs": [],
   "source": [
    "stop!"
   ]
  },
  {
   "cell_type": "markdown",
   "metadata": {},
   "source": [
    "#### specific columns"
   ]
  },
  {
   "cell_type": "code",
   "execution_count": null,
   "metadata": {},
   "outputs": [],
   "source": [
    "specific_columns = [\n",
    "'closer_to_stop_ff_than_alt_ff_last_disp_earliest_vis_time',\n",
    "'closer_to_stop_ff_than_alt_ff_rightmost_latest_vis_time',\n",
    "'within_n_cm_to_stop_longest_vis_ff_angle',\n",
    "'alt_ff_angle_when_alt_ff_first_seen',\n",
    "# 'alt_ff_distance_when_alt_ff_first_seen',\n",
    "'stop_ff_angle_when_stop_ff_first_seen',\n",
    "'stop_ff_distance_when_stop_ff_first_seen',\n",
    "'traj_curv_when_stop_ff_first_seen',\n",
    "# 'alt_ff_angle_when_alt_ff_last_seen',\n",
    "# 'traj_curv_when_alt_ff_last_seen',\n",
    "'traj_curv_when_stop_ff_last_seen'\n",
    "]"
   ]
  },
  {
   "cell_type": "code",
   "execution_count": null,
   "metadata": {},
   "outputs": [],
   "source": [
    "test_or_control = 'control'"
   ]
  },
  {
   "cell_type": "code",
   "execution_count": null,
   "metadata": {},
   "outputs": [],
   "source": [
    "#pf.use_lr_on_all(test_or_control=test_or_control, y_var_column=y_var_column)\n",
    "pf.use_lr_on_specific_columns(test_or_control=test_or_control, y_var_column=y_var_column,\n",
    "                              specific_columns=['stop_ff_angle_at_ref', 'alt_ff_angle_at_ref'])\n",
    "pf.summary_df"
   ]
  },
  {
   "cell_type": "code",
   "execution_count": null,
   "metadata": {},
   "outputs": [],
   "source": [
    "#pf.use_lr_on_all(test_or_control=test_or_control, y_var_column=y_var_column)\n",
    "pf.use_lr_on_specific_columns(test_or_control=test_or_control, y_var_column=y_var_column,\n",
    "                              specific_columns=['stop_ff_angle_at_ref'])\n",
    "pf.summary_df"
   ]
  },
  {
   "cell_type": "code",
   "execution_count": null,
   "metadata": {},
   "outputs": [],
   "source": [
    "pf.summary_df.shape"
   ]
  },
  {
   "cell_type": "markdown",
   "metadata": {},
   "source": [
    "#### one var"
   ]
  },
  {
   "cell_type": "code",
   "execution_count": null,
   "metadata": {},
   "outputs": [],
   "source": [
    "pf.use_lr_on_one_column(test_or_control=test_or_control, y_var_column=y_var_column)\n",
    "pf.summary_df.head(10)"
   ]
  },
  {
   "cell_type": "markdown",
   "metadata": {},
   "source": [
    "#### Use loop for dummy"
   ]
  },
  {
   "cell_type": "code",
   "execution_count": null,
   "metadata": {},
   "outputs": [],
   "source": [
    "for value in np.arange(-1, -0.6, 0.05):\n",
    "    \n",
    "    pf.plan_x_both['dummy'] = 0\n",
    "    pf.plan_x_both.loc[pf.plan_x_both['alt_ff_cluster_100_combd_latest_vis_time_before_stop'].between(value, 0), 'dummy'] = 1\n",
    "    \n",
    "    pf.use_lr_on_all(test_or_control=None, y_var_column=y_var_column)\n",
    "    print('===================================')\n",
    "    print('===================================')\n",
    "    print('value:', value)\n",
    "    print(pf.summary_df.loc['dummy'])\n",
    "    print('===================================')\n",
    "    print('===================================')"
   ]
  },
  {
   "cell_type": "code",
   "execution_count": null,
   "metadata": {},
   "outputs": [],
   "source": [
    "pf.plan_x_both['dummy'] = 0\n",
    "pf.plan_x_both.loc[pf.plan_x_both['alt_ff_cluster_100_combd_latest_vis_time_before_stop'].between(-1, 0), 'dummy'] = 1\n",
    "pf.plan_x_both['dummy'] = 0\n",
    "pf.plan_x_both.loc[pf.plan_x_both['alt_ff_cluster_100_combd_latest_vis_time_before_stop']<0, 'dummy'] = 1"
   ]
  },
  {
   "cell_type": "markdown",
   "metadata": {},
   "source": [
    "## do left and right have the same same-side ratio for test and control?"
   ]
  },
  {
   "cell_type": "code",
   "execution_count": null,
   "metadata": {},
   "outputs": [],
   "source": [
    "len(ps.plan_xy_ctrl[ps.plan_xy_ctrl['dir_from_stop_ff_to_stop'] == 1])/len(ps.plan_xy_ctrl)"
   ]
  },
  {
   "cell_type": "code",
   "execution_count": null,
   "metadata": {},
   "outputs": [],
   "source": [
    "len(ps.plan_xy_test[ps.plan_xy_test['dir_from_stop_ff_to_stop'] == 1])/len(ps.plan_xy_test)"
   ]
  },
  {
   "cell_type": "code",
   "execution_count": null,
   "metadata": {},
   "outputs": [],
   "source": [
    "len(ps.plan_xy_ctrl[ps.plan_xy_ctrl['dir_from_stop_ff_same_side'] == 1])/len(ps.plan_xy_ctrl)"
   ]
  },
  {
   "cell_type": "code",
   "execution_count": null,
   "metadata": {},
   "outputs": [],
   "source": [
    "len(ps.plan_xy_test[ps.plan_xy_test['dir_from_stop_ff_same_side'] == 1])/len(ps.plan_xy_test)"
   ]
  },
  {
   "cell_type": "markdown",
   "metadata": {},
   "source": [
    "### CCA"
   ]
  },
  {
   "cell_type": "code",
   "execution_count": null,
   "metadata": {},
   "outputs": [],
   "source": [
    "# Define data and scaler\n",
    "from sklearn.cross_decomposition import CCA\n",
    "\n",
    "scaler = StandardScaler()\n",
    "X1 = pf.plan_x_both[x_columns + stop_ff_cluster_columns]\n",
    "X2 = pf.plan_y_both[['alt_ff_distance_at_ref',\n",
    "                        'alt_ff_angle_at_ref', \n",
    "                        'alt_ff_angle_at_stop']].copy()\n",
    "\n",
    "#X2 = osf.only_stop_ff_df[['ref_d_heading_of_traj']].copy()\n",
    "\n",
    "for column in ['data_name', 'stop_point_index']:\n",
    "    if column in X1.columns:\n",
    "        X1.drop(columns=[column], inplace=True)\n",
    "\n",
    "\n",
    "avg_x_loadings, avg_y_loadings, avg_canon_corrs = ml_methods_utils.run_cca(X1, X2, n_comp=2, n_splits=5, show_plots=False)\n",
    "\n",
    "ml_methods_utils.plot_x_loadings(avg_x_loadings, avg_canon_corrs, X1)\n",
    "\n"
   ]
  },
  {
   "cell_type": "markdown",
   "metadata": {},
   "source": [
    "### PCA"
   ]
  },
  {
   "cell_type": "code",
   "execution_count": null,
   "metadata": {},
   "outputs": [],
   "source": [
    "pf.use_lr_on_all(test_or_control=None, y_var_column=y_var_column, use_pca=True)\n",
    "pf.summary_df.head(10)"
   ]
  },
  {
   "cell_type": "code",
   "execution_count": null,
   "metadata": {},
   "outputs": [],
   "source": [
    "# Create a DataFrame of loadings\n",
    "loadings = pf.pca.components_\n",
    "feature_names = pf.original_x_var_df.columns\n",
    "column_names = [f'x{i}' for i in range(loadings.shape[0])]\n",
    "pca_loadings_df = pd.DataFrame(loadings.T, columns=column_names, index=feature_names)"
   ]
  },
  {
   "cell_type": "code",
   "execution_count": null,
   "metadata": {},
   "outputs": [],
   "source": [
    "# show explained variance\n",
    "\n",
    "sorted_result = pf.summary_df[pf.summary_df['p_value'] <= 0.05].sort_values(by='Coefficient', ascending=False).copy()\n",
    "for i in range(10):\n",
    "    print('i:', i)\n",
    "    sorted_result_row = sorted_result.iloc[i]\n",
    "    pca_x = sorted_result_row.name\n",
    "    if pca_x == 'const':\n",
    "        continue\n",
    "    #column = pca_loadings_df.columns[i]\n",
    "    print('pca_x:', pca_x)\n",
    "    print('sorted_result_row:', sorted_result_row)\n",
    "    print(pca_loadings_df[pca_x].sort_values(ascending=False).head(50))\n",
    "    #print(df_loadings[column].sort_values(ascending=False).tail(5))"
   ]
  },
  {
   "cell_type": "code",
   "execution_count": null,
   "metadata": {},
   "outputs": [],
   "source": [
    "pf.summary_df[pf.summary_df['p_value'] <= 0.05].sort_values(by='Coefficient', ascending=False)"
   ]
  },
  {
   "cell_type": "code",
   "execution_count": null,
   "metadata": {},
   "outputs": [],
   "source": [
    "specific_columns = [column for column in pf.summary_df.index if 'alt_ff_cluster_100' in column]"
   ]
  },
  {
   "cell_type": "code",
   "execution_count": null,
   "metadata": {},
   "outputs": [],
   "source": [
    "pf.summary_df.loc('stop_ff_cluster_100_combd_latest_vis_time_before_stop')"
   ]
  },
  {
   "cell_type": "code",
   "execution_count": null,
   "metadata": {},
   "outputs": [],
   "source": [
    "pf.summary_df.head(50)"
   ]
  },
  {
   "cell_type": "code",
   "execution_count": null,
   "metadata": {},
   "outputs": [],
   "source": [
    "pf.plan_x_both['whether_test']"
   ]
  },
  {
   "cell_type": "code",
   "execution_count": null,
   "metadata": {},
   "outputs": [],
   "source": [
    "pf.summary_df.loc['dummy'] # both"
   ]
  },
  {
   "cell_type": "code",
   "execution_count": null,
   "metadata": {},
   "outputs": [],
   "source": [
    "features = [column for column in pf.summary_df.index if 'latest_vis_time_before_stop' in column]"
   ]
  },
  {
   "cell_type": "code",
   "execution_count": null,
   "metadata": {},
   "outputs": [],
   "source": [
    "pf.summary_df.loc[features] # control"
   ]
  },
  {
   "cell_type": "code",
   "execution_count": null,
   "metadata": {},
   "outputs": [],
   "source": [
    "pf.plan_x_both[pf.plan_x_both['alt_ff_cluster_100_combd_latest_vis_time_before_stop'].between(-1, 0)]"
   ]
  },
  {
   "cell_type": "code",
   "execution_count": null,
   "metadata": {},
   "outputs": [],
   "source": [
    "sns.histplot(pf.plan_x_both['alt_ff_cluster_100_combd_latest_vis_time_before_stop'], binrange=(-5, 5))\n",
    "plt.show()"
   ]
  },
  {
   "cell_type": "code",
   "execution_count": null,
   "metadata": {},
   "outputs": [],
   "source": [
    "pf.summary_df.loc['alt_ff_cluster_100_combd_latest_vis_time_before_stop'] # test"
   ]
  },
  {
   "cell_type": "markdown",
   "metadata": {},
   "source": [
    "## non-linearity"
   ]
  },
  {
   "cell_type": "code",
   "execution_count": null,
   "metadata": {},
   "outputs": [],
   "source": [
    "import numpy as np\n",
    "import pandas as pd\n",
    "import statsmodels.api as sm\n",
    "from sklearn.preprocessing import PolynomialFeatures\n",
    "\n",
    "# Assuming X_train and y_train are your features and target variable\n",
    "poly = PolynomialFeatures(degree=2, include_bias=False)\n",
    "X_poly = poly.fit_transform(pf.x_var_df)\n",
    "\n",
    "# Convert to DataFrame for better handling\n",
    "X_poly_df = pd.DataFrame(X_poly, columns=poly.get_feature_names_out())\n"
   ]
  },
  {
   "cell_type": "code",
   "execution_count": null,
   "metadata": {},
   "outputs": [],
   "source": [
    "pf.x_var_df = X_poly_df.copy()"
   ]
  },
  {
   "cell_type": "code",
   "execution_count": null,
   "metadata": {},
   "outputs": [],
   "source": [
    "pf.y_var_df.reset_index(drop=True, inplace=True)"
   ]
  },
  {
   "cell_type": "code",
   "execution_count": null,
   "metadata": {},
   "outputs": [],
   "source": [
    "ml_inst = ml_methods_class.MlMethods()\n",
    "ml_inst.use_train_test_split(pf.x_var_df, pf.y_var_df, y_var_column=y_var_column)\n",
    "ml_inst.use_linear_regression()"
   ]
  },
  {
   "cell_type": "code",
   "execution_count": null,
   "metadata": {},
   "outputs": [],
   "source": [
    "ml_inst.summary_df"
   ]
  },
  {
   "cell_type": "code",
   "execution_count": null,
   "metadata": {},
   "outputs": [],
   "source": [
    "ml_inst.summary_df_all"
   ]
  },
  {
   "cell_type": "markdown",
   "metadata": {},
   "source": [
    "## neural network"
   ]
  },
  {
   "cell_type": "code",
   "execution_count": null,
   "metadata": {},
   "outputs": [],
   "source": [
    "ml_inst.use_neural_network()"
   ]
  },
  {
   "cell_type": "markdown",
   "metadata": {},
   "source": [
    "# Data summary"
   ]
  },
  {
   "cell_type": "code",
   "execution_count": null,
   "metadata": {},
   "outputs": [],
   "source": [
    "heading_info_df = ps.test_heading_info_df.copy()"
   ]
  },
  {
   "cell_type": "code",
   "execution_count": null,
   "metadata": {},
   "outputs": [],
   "source": [
    "heading_info_df = ps.ctrl_heading_info_df.copy()"
   ]
  },
  {
   "cell_type": "code",
   "execution_count": null,
   "metadata": {},
   "outputs": [],
   "source": [
    "heading_info_df[['stop_ff_angle_at_ref', 'alt_ff_angle_at_ref', 'ref_d_heading_of_traj', 'stop_d_heading_of_arc']] = heading_info_df[['stop_ff_angle_at_ref', 'alt_ff_angle_at_ref', 'ref_d_heading_of_traj', 'stop_d_heading_of_arc']]*180/math.pi"
   ]
  },
  {
   "cell_type": "code",
   "execution_count": null,
   "metadata": {},
   "outputs": [],
   "source": [
    "(pf.plan_x_both[['stop_ff_angle_at_ref', 'alt_ff_angle_at_ref']]*180/math.pi).describe()"
   ]
  },
  {
   "cell_type": "markdown",
   "metadata": {},
   "source": [
    "### Diff vs diff in abs"
   ]
  },
  {
   "cell_type": "code",
   "execution_count": null,
   "metadata": {},
   "outputs": [],
   "source": [
    "sns.histplot(pf.plan_y_both['diff'], color='blue', alpha=0.4, binrange=(-75, 75))\n",
    "sns.histplot(pf.plan_y_both['diff_in_abs'], color='orange', alpha=0.4, binrange=(-75, 75))\n",
    "plt.show()"
   ]
  },
  {
   "cell_type": "markdown",
   "metadata": {},
   "source": [
    "### take out alt ff angle to the right at ref"
   ]
  },
  {
   "cell_type": "code",
   "execution_count": null,
   "metadata": {},
   "outputs": [],
   "source": [
    "plan_x_both = pf.plan_x_both.copy()\n",
    "plan_y_both = pf.plan_y_both.copy()\n",
    "plan_x_both['unique_id'] = np.arange(len(plan_x_both))\n",
    "plan_y_both['unique_id'] = np.arange(len(plan_x_both))"
   ]
  },
  {
   "cell_type": "code",
   "execution_count": null,
   "metadata": {},
   "outputs": [],
   "source": [
    "plan_x_sub = plan_x_both[plan_x_both['alt_ff_angle_at_ref'] < 0].copy().sort_values(by='unique_id')\n",
    "plan_y_sub = plan_y_both[plan_y_both['unique_id'].isin(plan_x_sub['unique_id'])].sort_values(by='unique_id')"
   ]
  },
  {
   "cell_type": "code",
   "execution_count": null,
   "metadata": {},
   "outputs": [],
   "source": [
    "pf.plan_x_both.shape"
   ]
  },
  {
   "cell_type": "code",
   "execution_count": null,
   "metadata": {},
   "outputs": [],
   "source": [
    "plan_x_sub.shape"
   ]
  },
  {
   "cell_type": "code",
   "execution_count": null,
   "metadata": {},
   "outputs": [],
   "source": [
    "(plan_y_sub[['diff', 'diff_in_abs']]).describe()"
   ]
  },
  {
   "cell_type": "code",
   "execution_count": null,
   "metadata": {},
   "outputs": [],
   "source": [
    "heading_sub = heading_info_df[heading_info_df['alt_ff_angle_at_ref'] < 0].copy()"
   ]
  },
  {
   "cell_type": "code",
   "execution_count": null,
   "metadata": {},
   "outputs": [],
   "source": [
    "# control\n",
    "heading_sub[['diff', 'diff_in_abs', 'stop_ff_angle_at_ref', 'alt_ff_angle_at_ref', 'angle_from_m_before_stop_to_alt_ff', 'angle_from_stop_ff_landing_to_alt_ff']].describe()"
   ]
  },
  {
   "cell_type": "code",
   "execution_count": null,
   "metadata": {},
   "outputs": [],
   "source": [
    "# test\n",
    "heading_sub[['diff', 'diff_in_abs', 'stop_ff_angle_at_ref', 'alt_ff_angle_at_ref', 'angle_from_m_before_stop_to_alt_ff', 'angle_from_stop_ff_landing_to_alt_ff']].describe()"
   ]
  },
  {
   "cell_type": "code",
   "execution_count": null,
   "metadata": {},
   "outputs": [],
   "source": [
    "# control\n",
    "heading_info_df[['diff', 'diff_in_abs', 'stop_ff_angle_at_ref', 'alt_ff_angle_at_ref', 'angle_from_m_before_stop_to_alt_ff', 'angle_from_stop_ff_landing_to_alt_ff']].describe()"
   ]
  },
  {
   "cell_type": "code",
   "execution_count": null,
   "metadata": {},
   "outputs": [],
   "source": [
    "# test\n",
    "heading_info_df[['diff', 'diff_in_abs', 'stop_ff_angle_at_ref', 'alt_ff_angle_at_ref', 'angle_from_m_before_stop_to_alt_ff', 'angle_from_stop_ff_landing_to_alt_ff']].describe()"
   ]
  },
  {
   "cell_type": "code",
   "execution_count": null,
   "metadata": {},
   "outputs": [],
   "source": [
    "heading_sub2 = heading_info_df[heading_info_df['alt_ff_angle_at_ref'] > 0].copy()"
   ]
  },
  {
   "cell_type": "code",
   "execution_count": null,
   "metadata": {},
   "outputs": [],
   "source": [
    "# control\n",
    "heading_sub2[['diff', 'diff_in_abs', 'stop_ff_angle_at_ref', 'alt_ff_angle_at_ref', 'angle_from_m_before_stop_to_alt_ff', 'angle_from_stop_ff_landing_to_alt_ff']].describe()"
   ]
  },
  {
   "cell_type": "code",
   "execution_count": null,
   "metadata": {},
   "outputs": [],
   "source": [
    "# test\n",
    "heading_sub2[['diff', 'diff_in_abs', 'stop_ff_angle_at_ref', 'alt_ff_angle_at_ref', 'angle_from_m_before_stop_to_alt_ff', 'angle_from_stop_ff_landing_to_alt_ff']].describe()"
   ]
  },
  {
   "cell_type": "markdown",
   "metadata": {},
   "source": [
    "## histplot of ratios/diff"
   ]
  },
  {
   "cell_type": "code",
   "execution_count": null,
   "metadata": {},
   "outputs": [],
   "source": [
    "# pf.make_plan_y_both(already_made_ok=True)"
   ]
  },
  {
   "cell_type": "code",
   "execution_count": null,
   "metadata": {},
   "outputs": [],
   "source": [
    "sns.histplot(pf.plan_y_test['ratio'], bins=100, binrange=(-20, 20), stat='probability')\n",
    "sns.histplot(pf.plan_y_ctrl['ratio'], bins=100, binrange=(-20, 20), stat='probability')\n",
    "plt.show()"
   ]
  },
  {
   "cell_type": "code",
   "execution_count": null,
   "metadata": {},
   "outputs": [],
   "source": [
    "binrange = (-80, 80)\n",
    "sns.histplot(pf.plan_y_test['diff_in_abs'], bins=100, stat='probability', binrange=binrange, alpha=0.5, color='blue')\n",
    "sns.histplot(pf.plan_y_ctrl['diff_in_abs'], bins=100, stat='probability', binrange=binrange, alpha=0.5, color='orange')\n",
    "plt.show()"
   ]
  },
  {
   "cell_type": "code",
   "execution_count": null,
   "metadata": {},
   "outputs": [],
   "source": [
    "sns.histplot(pf.plan_y_test['ratio'], bins=100, binrange=(-20, 20), stat='probability')\n",
    "sns.histplot(pf.plan_y_ctrl['ratio'], bins=100, binrange=(-20, 20), stat='probability')\n",
    "plt.show()"
   ]
  },
  {
   "cell_type": "code",
   "execution_count": null,
   "metadata": {},
   "outputs": [],
   "source": [
    "binrange = (-80, 80)\n",
    "sns.histplot(pf.plan_y_test['diff_in_abs'], bins=100, stat='probability', binrange=binrange, alpha=0.5)\n",
    "sns.histplot(pf.plan_y_ctrl['diff_in_abs'], bins=100, stat='probability', binrange=binrange, alpha=0.5)\n",
    "plt.show()"
   ]
  },
  {
   "cell_type": "markdown",
   "metadata": {},
   "source": [
    "## histplot of clusters"
   ]
  },
  {
   "cell_type": "code",
   "execution_count": null,
   "metadata": {},
   "outputs": [],
   "source": [
    "for var in ['num_closer_than_alt_ff_to_stop', 'num_ff_visible_later_than_alt_ff_before_stop',\n",
    "            'num_ff_within_n_cm_to_stop', 'alt_ff_cluster_size',\n",
    "            'stop_ff_cluster_size']:\n",
    "    sns.histplot(pf.plan_x_test[var], binwidth=1, binrange=(-0.5, math.ceil(max(pf.plan_x_test[var])+0.5 )))\n",
    "    plt.title(var)\n",
    "    plt.show()\n",
    "    "
   ]
  },
  {
   "cell_type": "markdown",
   "metadata": {},
   "source": [
    "## barplots of ratios/diff"
   ]
  },
  {
   "cell_type": "code",
   "execution_count": null,
   "metadata": {},
   "outputs": [],
   "source": [
    "sns.boxplot(pf.plan_y_both, x='whether_test', y='diff_in_abs')\n",
    "plt.ylim(-80, 80)\n",
    "plt.show()"
   ]
  },
  {
   "cell_type": "code",
   "execution_count": null,
   "metadata": {},
   "outputs": [],
   "source": [
    "sns.boxplot(pf.plan_y_both, x='whether_test', y='ratio')\n",
    "#sns.boxplot(pf.plan_y_ctrl['ratio'])\n",
    "plt.ylim(-5, 5)\n",
    "plt.show()"
   ]
  },
  {
   "cell_type": "code",
   "execution_count": null,
   "metadata": {},
   "outputs": [],
   "source": [
    "\n",
    "ratio_stat = pd.concat([pf.plan_y_test['ratio'].describe(), pf.plan_y_ctrl['ratio'].describe()], axis=1)\n",
    "ratio_stat.columns = ['test_ratio', 'ctrl_ratio']\n",
    "diff_stat = pd.concat([pf.plan_y_test['diff_in_abs'].describe(), pf.plan_y_ctrl['diff_in_abs'].describe()], axis=1)\n",
    "diff_stat.columns = ['test_diff_in_abs', 'ctrl_diff_in_abs']\n",
    "all_stat = pd.concat([ratio_stat, diff_stat], axis=1)\n",
    "all_stat"
   ]
  },
  {
   "cell_type": "code",
   "execution_count": null,
   "metadata": {},
   "outputs": [],
   "source": [
    "all_stat.iloc[3:, :2]"
   ]
  },
  {
   "cell_type": "markdown",
   "metadata": {},
   "source": [
    "## polar plot"
   ]
  },
  {
   "cell_type": "code",
   "execution_count": null,
   "metadata": {},
   "outputs": [],
   "source": [
    "gc.collect()"
   ]
  },
  {
   "cell_type": "code",
   "execution_count": null,
   "metadata": {},
   "outputs": [],
   "source": [
    "pf.compare_test_and_control_in_plotly_polar_plots(max_instances_each=50, start='stop_point_index', end='next_stop_point_index')"
   ]
  },
  {
   "cell_type": "markdown",
   "metadata": {},
   "source": [
    "## histplot of ff angle at ref"
   ]
  },
  {
   "cell_type": "code",
   "execution_count": null,
   "metadata": {},
   "outputs": [],
   "source": [
    "pf.get_stops_near_ff_df(test_or_control='ctrl')\n",
    "both_ff_at_ref_df_ctrl = pf.get_both_ff_at_ref_df()\n",
    "alt_ff_at_stop_df_ctrl = pf.get_alt_ff_at_stop_df()"
   ]
  },
  {
   "cell_type": "code",
   "execution_count": null,
   "metadata": {},
   "outputs": [],
   "source": [
    "pf.get_stops_near_ff_df(test_or_control='test')\n",
    "pf._find_alt_ff_df_2_and_stop_ff_df_2_based_on_specific_point_index(all_point_index=pf.stop_ff_df['point_index_ff_first_seen'].values)\n",
    "both_ff_at_ref_df_test = pf.get_both_ff_at_ref_df().copy()\n",
    "alt_ff_at_stop_df_test = pf.get_alt_ff_at_stop_df().copy()\n",
    "test_df = pd.concat([both_ff_at_ref_df_test, alt_ff_at_stop_df_test], axis=1)"
   ]
  },
  {
   "cell_type": "code",
   "execution_count": null,
   "metadata": {},
   "outputs": [],
   "source": [
    "\n",
    "pf.get_stops_near_ff_df(test_or_control='control')\n",
    "pf._find_alt_ff_df_2_and_stop_ff_df_2_based_on_specific_point_index(all_point_index=pf.stop_ff_df['point_index_ff_first_seen'].values)\n",
    "both_ff_at_ref_df_ctrl = pf.get_both_ff_at_ref_df().copy()\n",
    "alt_ff_at_stop_df_ctrl = pf.get_alt_ff_at_stop_df().copy()\n",
    "ctrl_df = pd.concat([both_ff_at_ref_df_ctrl, alt_ff_at_stop_df_ctrl], axis=1)"
   ]
  },
  {
   "cell_type": "code",
   "execution_count": null,
   "metadata": {},
   "outputs": [],
   "source": [
    "sns.histplot(pf.plan_x_test['alt_ff_angle_at_ref'], stat='probability', binwidth=0.2, alpha=0.5)\n",
    "sns.histplot(pf.plan_x_ctrl['alt_ff_angle_at_ref'], stat='probability', binwidth=0.2, alpha=0.5)\n",
    "plt.show()"
   ]
  },
  {
   "cell_type": "code",
   "execution_count": null,
   "metadata": {},
   "outputs": [],
   "source": [
    "sns.histplot(test_df['alt_ff_angle_at_ref'], stat='probability', binwidth=0.25, alpha=0.5)\n",
    "sns.histplot(ctrl_df['alt_ff_angle_at_ref'], stat='probability', binwidth=0.27, alpha=0.5)\n",
    "plt.show()"
   ]
  },
  {
   "cell_type": "code",
   "execution_count": null,
   "metadata": {},
   "outputs": [],
   "source": [
    "sns.histplot(test_df['stop_ff_angle_at_ref'], stat='probability', binwidth=0.25, alpha=0.5)\n",
    "sns.histplot(ctrl_df['stop_ff_angle_at_ref'], stat='probability', binwidth=0.27, alpha=0.5)\n",
    "plt.show()"
   ]
  },
  {
   "cell_type": "code",
   "execution_count": null,
   "metadata": {},
   "outputs": [],
   "source": [
    "sns.histplot(test_df['stop_ff_distance_at_ref'], stat='probability', binwidth=20, alpha=0.5)\n",
    "sns.histplot(ctrl_df['stop_ff_distance_at_ref'], stat='probability', binwidth=21, alpha=0.5)\n",
    "plt.show()"
   ]
  },
  {
   "cell_type": "code",
   "execution_count": null,
   "metadata": {},
   "outputs": [],
   "source": [
    "sns.histplot(test_df['alt_ff_distance_at_stop'], stat='probability', binwidth=20, alpha=0.5)\n",
    "sns.histplot(ctrl_df['alt_ff_distance_at_stop'], stat='probability', binwidth=21, alpha=0.5)\n",
    "plt.show()"
   ]
  },
  {
   "cell_type": "code",
   "execution_count": null,
   "metadata": {},
   "outputs": [],
   "source": [
    "sns.histplot(test_df['alt_ff_distance_at_ref'], stat='probability', binwidth=20)\n",
    "sns.histplot(ctrl_df['alt_ff_distance_at_ref'], stat='probability', binwidth=20)\n",
    "plt.show()"
   ]
  },
  {
   "cell_type": "code",
   "execution_count": null,
   "metadata": {},
   "outputs": [],
   "source": [
    "sns.histplot(test_df['alt_ff_angle_at_stop'], stat='probability', binwidth=0.25, alpha=0.5)\n",
    "sns.histplot(ctrl_df['alt_ff_angle_at_stop'], stat='probability', binwidth=0.27, alpha=0.5)\n",
    "plt.show()"
   ]
  },
  {
   "cell_type": "code",
   "execution_count": null,
   "metadata": {},
   "outputs": [],
   "source": [
    "stop!"
   ]
  },
  {
   "cell_type": "markdown",
   "metadata": {},
   "source": [
    "# Pipeline to try ref point"
   ]
  },
  {
   "cell_type": "markdown",
   "metadata": {},
   "source": [
    "## Test"
   ]
  },
  {
   "cell_type": "code",
   "execution_count": null,
   "metadata": {},
   "outputs": [],
   "source": [
    "dsp.sessions_df_for_one_monkey"
   ]
  },
  {
   "cell_type": "code",
   "execution_count": null,
   "metadata": {},
   "outputs": [],
   "source": [
    "\n",
    "dsp = show_planning_class.ShowPlanning()\n",
    "\n",
    "dsp.init_variations_list(dsp.dict_of_combd_rel_angle_slope_folder_path[dsp.test_or_control])\n",
    "dsp.init_variations_list(dsp.dict_of_combd_heading_info_folder_path[dsp.test_or_control])\n",
    "\n",
    "for index, row in dsp.variations_list.iterrows():\n",
    "    dsp.retrieve_or_make_rel_angle_slope_df_and_combd_heading_df_x_sessions(row['ref_point_mode'], row['ref_point_value'],\n",
    "                                                              rel_angle_slope_df_exists_ok=False, stops_near_ff_df_exists_ok=True,\n",
    "                                                              show_printed_output=True, test_or_control='test')\n",
    "    dsp.make_boxplots()\n",
    "    dsp.plot_linear_regression_on_combd_heading_df_x_sessions()"
   ]
  },
  {
   "cell_type": "code",
   "execution_count": null,
   "metadata": {},
   "outputs": [],
   "source": [
    "pf.plan_y_test"
   ]
  },
  {
   "cell_type": "code",
   "execution_count": null,
   "metadata": {},
   "outputs": [],
   "source": []
  },
  {
   "cell_type": "code",
   "execution_count": null,
   "metadata": {},
   "outputs": [],
   "source": [
    "heading_info_df"
   ]
  },
  {
   "cell_type": "markdown",
   "metadata": {},
   "source": [
    "## Control"
   ]
  },
  {
   "cell_type": "code",
   "execution_count": null,
   "metadata": {},
   "outputs": [],
   "source": [
    "from xml.etree.ElementTree import TreeBuilder\n",
    "\n",
    "\n",
    "dsp = show_planning_class.ShowPlanning(test_or_control='control')\n",
    "\n",
    "dsp.init_variations_list(dsp.dict_of_combd_rel_angle_slope_folder_path[dsp.test_or_control])\n",
    "dsp.init_variations_list(dsp.dict_of_combd_heading_info_folder_path[dsp.test_or_control])\n",
    "print(dsp.dict_of_combd_rel_angle_slope_folder_path[dsp.test_or_control])\n",
    "print(dsp.dict_of_combd_heading_info_folder_path[dsp.test_or_control])\n",
    "\n",
    "for index, row in dsp.variations_list.iterrows():\n",
    "    dsp.retrieve_or_make_rel_angle_slope_df_and_combd_heading_df_x_sessions(row['ref_point_mode'], row['ref_point_value'],\n",
    "                                                                rel_angle_slope_df_exists_ok=True, stops_near_ff_df_exists_ok=True,\n",
    "                                                                show_printed_output=False, test_or_control='control')\n",
    "    dsp.make_boxplots()\n",
    "    dsp.plot_linear_regression_on_combd_heading_df_x_sessions()\n"
   ]
  },
  {
   "cell_type": "markdown",
   "metadata": {},
   "source": [
    "## plot boxplots side by side"
   ]
  },
  {
   "cell_type": "code",
   "execution_count": null,
   "metadata": {},
   "outputs": [],
   "source": [
    "import gc\n",
    "gc.collect()"
   ]
  },
  {
   "cell_type": "code",
   "execution_count": null,
   "metadata": {},
   "outputs": [],
   "source": [
    "heading_info_df, _ = ps._make_heading_info_df_for_a_data_session('monkey_Bruno', 'data_0314', ref_point_mode=row['ref_point_mode'], \n",
    "                                                             ref_point_value=row['ref_point_value'], test_or_control='control', \n",
    "                                                           stops_near_ff_df_exists_ok=True\n",
    "                                                            )"
   ]
  },
  {
   "cell_type": "code",
   "execution_count": null,
   "metadata": {},
   "outputs": [],
   "source": [
    "gc.collect()"
   ]
  },
  {
   "cell_type": "code",
   "execution_count": null,
   "metadata": {},
   "outputs": [],
   "source": [
    "ps = monkey_plan_factors_x_sess_class.PlanAcrossSessions(monkey_name='monkey_Bruno')\n",
    "ps.init_variations_list(ps.dict_of_combd_rel_angle_slope_folder_path['test'])\n",
    "ps.variations_list"
   ]
  },
  {
   "cell_type": "markdown",
   "metadata": {},
   "source": [
    "## barplots of ratios/diff"
   ]
  },
  {
   "cell_type": "code",
   "execution_count": null,
   "metadata": {},
   "outputs": [],
   "source": [
    "sns.boxplot(heading_info_df, y='diff_in_abs')\n",
    "plt.ylim(-80, 80)\n",
    "plt.show()"
   ]
  },
  {
   "cell_type": "code",
   "execution_count": null,
   "metadata": {},
   "outputs": [],
   "source": [
    "sns.boxplot(heading_info_df, y='ratio')\n",
    "#sns.boxplot(pf.plan_y_ctrl['ratio'])\n",
    "plt.ylim(-5, 5)\n",
    "plt.show()"
   ]
  },
  {
   "cell_type": "markdown",
   "metadata": {},
   "source": [
    "# Remake heading_info_df"
   ]
  },
  {
   "cell_type": "code",
   "execution_count": null,
   "metadata": {},
   "outputs": [],
   "source": [
    "ref_point_mode = 'time after stop ff visible'\n",
    "ref_point_value = 0.1"
   ]
  },
  {
   "cell_type": "code",
   "execution_count": 9,
   "metadata": {},
   "outputs": [],
   "source": [
    "ref_point_mode = 'distance'\n",
    "ref_point_value = -100"
   ]
  },
  {
   "cell_type": "code",
   "execution_count": null,
   "metadata": {},
   "outputs": [],
   "source": [
    "gc.collect()"
   ]
  },
  {
   "cell_type": "code",
   "execution_count": null,
   "metadata": {},
   "outputs": [],
   "source": [
    "# ref_point_mode = 'distance'\n",
    "# ref_point_value = -150\n",
    "\n",
    "ref_point_mode = 'time after stop ff visible'\n",
    "ref_point_value = 0.1\n",
    "monkey_name='monkey_Schro'\n",
    "\n",
    "ps = monkey_plan_factors_x_sess_class.PlanAcrossSessions(monkey_name=monkey_name)\n",
    "sp = show_planning_class.ShowPlanning(monkey_name=monkey_name)\n",
    "ps.test_heading_info_df, ps.ctrl_heading_info_df = sp.make_or_retrieve_combd_heading_df_x_sessions_from_both_test_and_control(ref_point_mode, ref_point_value, combd_heading_df_x_sessions_exists_ok=True,\n",
    "                                                                show_printed_output=True, heading_info_df_exists_ok=True,\n",
    "                                                                stops_near_ff_df_exists_ok=False)\n",
    "\n",
    "ps.process_both_heading_info_df()     \n",
    "\n",
    "\n",
    "#column_for_split = 'alt_ff_last_flash_time_bbas'\n",
    "#column_for_split = 'alt_ff_cluster_last_flash_time_bbas'\n",
    "#column_for_split = 'ALT_time_ff_last_seen_bbas'\n",
    "column_for_split = 'alt_ff_cluster_last_seen_time_bbas'\n",
    "test_and_ctrl_heading_info_df = pd.concat([ps.test_heading_info_df, ps.ctrl_heading_info_df[ps.test_heading_info_df.columns]], axis=0)\n",
    "ps.ctrl_heading_info_df = test_and_ctrl_heading_info_df[test_and_ctrl_heading_info_df[column_for_split].isnull()].copy()\n",
    "ps.test_heading_info_df = test_and_ctrl_heading_info_df[~test_and_ctrl_heading_info_df[column_for_split].isnull()].copy()\n",
    "\n",
    "\n",
    "\n",
    "ps.filter_both_heading_info_df(max_curv_range=150)\n",
    "test_df = ps.test_heading_info_df.copy()\n",
    "ctrl_df = ps.ctrl_heading_info_df.copy()\n",
    "diff_and_ratio_stat_df = show_planning_utils.make_diff_and_ratio_stat_df(test_df, ctrl_df)\n",
    "print(diff_and_ratio_stat_df)"
   ]
  },
  {
   "cell_type": "code",
   "execution_count": null,
   "metadata": {},
   "outputs": [],
   "source": [
    "# or, do it for different combinations of ref_point_mode and ref_point_value\n",
    "ps = monkey_plan_factors_x_sess_class.PlanAcrossSessions(monkey_name='monkey_Bruno')\n",
    "ps.init_variations_list(ps.dict_of_combd_rel_angle_slope_folder_path['test'])\n",
    "for index, row in ps.variations_list.iterrows():\n",
    "    print(row)\n",
    "    sp = show_planning_class.ShowPlanning(monkey_name=monkey_name)\n",
    "    ps.test_heading_info_df, ps.ctrl_heading_info_df = sp.make_or_retrieve_combd_heading_df_x_sessions_from_both_test_and_control(row['ref_point_mode'], row['ref_point_value'], combd_heading_df_x_sessions_exists_ok=True,\n",
    "                                                                    show_printed_output=True, heading_info_df_exists_ok=True,\n",
    "                                                                    stops_near_ff_df_exists_ok=False)\n",
    "\n",
    "    ps.process_both_heading_info_df()\n",
    "    ps.filter_both_heading_info_df()\n",
    "    print('ref_point_mode:', row['ref_point_mode'], 'ref_point_value:', row['ref_point_value'])\n",
    "\n",
    "    test_df = ps.test_heading_info_df.copy()\n",
    "    ctrl_df = ps.ctrl_heading_info_df.copy()\n",
    "    diff_and_ratio_stat_df = show_planning_utils.make_diff_and_ratio_stat_df(test_df, ctrl_df)\n",
    "    print(diff_and_ratio_stat_df)\n",
    "    "
   ]
  },
  {
   "cell_type": "markdown",
   "metadata": {},
   "source": [
    "## compare distributions"
   ]
  },
  {
   "cell_type": "code",
   "execution_count": null,
   "metadata": {},
   "outputs": [],
   "source": [
    "sns.histplot(test_df['alt_ff_distance_at_ref'], stat='probability', binwidth=10, alpha=0.5, color='blue')\n",
    "sns.histplot(ctrl_df['alt_ff_distance_at_ref'], stat='probability', binwidth=10, alpha=0.5, color='green')\n",
    "plt.show()"
   ]
  },
  {
   "cell_type": "code",
   "execution_count": null,
   "metadata": {},
   "outputs": [],
   "source": [
    "sns.histplot(test_df['alt_ff_angle_at_ref'], stat='probability', binwidth=0.2, alpha=0.5, color='blue')\n",
    "sns.histplot(ctrl_df['alt_ff_angle_at_ref'], stat='probability', binwidth=0.2, alpha=0.5, color='green')\n",
    "plt.show()"
   ]
  },
  {
   "cell_type": "code",
   "execution_count": null,
   "metadata": {},
   "outputs": [],
   "source": [
    "sns.histplot(test_df['next_stop_time']-test_df['stop_time'], stat='probability', binwidth=0.1, alpha=0.5, color='blue')\n",
    "sns.histplot(ctrl_df['next_stop_time']-ctrl_df['stop_time'], stat='probability', binwidth=0.1, alpha=0.5, color='green')\n",
    "plt.xlim([0, 10])\n",
    "plt.show()"
   ]
  },
  {
   "cell_type": "code",
   "execution_count": null,
   "metadata": {},
   "outputs": [],
   "source": [
    "sns.histplot(test_df['next_stop_point_index']-test_df['stop_point_index'], stat='probability', binwidth=10, alpha=0.5, color='blue')\n",
    "sns.histplot(ctrl_df['next_stop_point_index']-ctrl_df['stop_point_index'], stat='probability', binwidth=10, alpha=0.5, color='green')\n",
    "plt.xlim([0, 1000])\n",
    "plt.show()"
   ]
  },
  {
   "cell_type": "code",
   "execution_count": null,
   "metadata": {},
   "outputs": [],
   "source": [
    "sns.histplot(test_df['cum_distance_between_two_stops'], stat='probability', alpha=0.5, color='blue', binwidth=25)\n",
    "sns.histplot(ctrl_df['cum_distance_between_two_stops'], stat='probability', alpha=0.5, color='green', binwidth=24)\n",
    "plt.xlim([0, 700])\n",
    "plt.show()"
   ]
  },
  {
   "cell_type": "code",
   "execution_count": null,
   "metadata": {},
   "outputs": [],
   "source": [
    "len(test_df[~test_df['alt_ff_cluster_last_flash_time_bbas'].isnull()])/len(test_df)"
   ]
  },
  {
   "cell_type": "code",
   "execution_count": null,
   "metadata": {},
   "outputs": [],
   "source": [
    "len(ctrl_df[~ctrl_df['alt_ff_cluster_last_flash_time_bbas'].isnull()])/len(ctrl_df)"
   ]
  },
  {
   "cell_type": "code",
   "execution_count": null,
   "metadata": {},
   "outputs": [],
   "source": [
    "len(test_df[~test_df['alt_ff_cluster_last_flash_time_bsans'].isnull()])/len(test_df)"
   ]
  },
  {
   "cell_type": "code",
   "execution_count": null,
   "metadata": {},
   "outputs": [],
   "source": [
    "len(ctrl_df[~ctrl_df['alt_ff_cluster_last_flash_time_bsans'].isnull()])/len(ctrl_df)"
   ]
  },
  {
   "cell_type": "markdown",
   "metadata": {},
   "source": [
    "# Others"
   ]
  },
  {
   "cell_type": "markdown",
   "metadata": {},
   "source": [
    "## check ff vs ff cluster"
   ]
  },
  {
   "cell_type": "code",
   "execution_count": null,
   "metadata": {},
   "outputs": [],
   "source": [
    "ff_column = 'alt_ff_last_seen_rel_time_bbas'\n",
    "cluster_column = 'alt_ff_cluster_last_seen_rel_time_bbas'\n",
    "df = snf.shared_stops_near_ff_df\n",
    "\n",
    "find_stops_near_ff_utils.check_ff_vs_cluster(df, ff_column, cluster_column)"
   ]
  },
  {
   "cell_type": "code",
   "execution_count": null,
   "metadata": {},
   "outputs": [],
   "source": [
    "ff_column = 'ALT_time_ff_last_seen_bbas'\n",
    "cluster_column = 'alt_ff_last_flash_time_bbas'\n",
    "df = snf.shared_stops_near_ff_df\n",
    "\n",
    "find_stops_near_ff_utils.check_ff_vs_cluster(df, ff_column, cluster_column)"
   ]
  },
  {
   "cell_type": "code",
   "execution_count": null,
   "metadata": {},
   "outputs": [],
   "source": [
    "ff_column = 'alt_ff_cluster_last_seen_time_bbas'\n",
    "cluster_column = 'alt_ff_cluster_last_flash_time_bbas'\n",
    "df = snf.shared_stops_near_ff_df\n",
    "\n",
    "find_stops_near_ff_utils.check_ff_vs_cluster(df, ff_column, cluster_column)"
   ]
  },
  {
   "cell_type": "code",
   "execution_count": null,
   "metadata": {},
   "outputs": [],
   "source": [
    "len_subset = len(df[(df[ff_column].isnull()) & (~df[cluster_column].isnull())])\n",
    "print(f'There are {len_subset} rows where {ff_column} is null but {cluster_column} is not null out of {len(df)} rows')"
   ]
  },
  {
   "cell_type": "code",
   "execution_count": null,
   "metadata": {},
   "outputs": [],
   "source": [
    "df = test_and_ctrl_heading_info_df\n",
    "df[(df[ff_column].isnull()) & (~df[cluster_column].isnull())][['alt_ff_distance_at_ref', 'alt_ff_angle_at_ref']].describe()"
   ]
  },
  {
   "cell_type": "code",
   "execution_count": null,
   "metadata": {},
   "outputs": [],
   "source": [
    "df[['alt_ff_distance_at_ref', 'alt_ff_angle_at_ref']].describe()"
   ]
  },
  {
   "cell_type": "code",
   "execution_count": null,
   "metadata": {},
   "outputs": [],
   "source": [
    "512/11235"
   ]
  },
  {
   "cell_type": "markdown",
   "metadata": {},
   "source": [
    "## see traj_curv"
   ]
  },
  {
   "cell_type": "code",
   "execution_count": null,
   "metadata": {},
   "outputs": [],
   "source": [
    "gc.collect()"
   ]
  },
  {
   "cell_type": "code",
   "execution_count": null,
   "metadata": {},
   "outputs": [],
   "source": [
    "current_index = 2"
   ]
  },
  {
   "cell_type": "code",
   "execution_count": null,
   "metadata": {},
   "outputs": [],
   "source": [
    "for index, row in dc.stops_near_ff_df_counted.iterrows():\n",
    "    if index > current_index:\n",
    "        current_index += 1\n",
    "    else:\n",
    "        continue\n",
    "    dc.stops_near_ff_row = row\n",
    "    dc.stop_point_index = row.stop_point_index\n",
    "    dc._prepare_to_make_plotly_fig_for_dash_given_stop_point_index(dc.stop_point_index)\n",
    "    dc._further_prepare_plotting_info_for_the_duration()\n",
    "    dc.fig = dc._produce_fig_for_dash()\n",
    "    dc.fig.show()\n",
    "\n",
    "    duration = [row['stop_time'], row['next_stop_time']]\n",
    "    curv_sub = dc.curv_of_traj_df[dc.curv_of_traj_df['time'].between(*duration)].copy()\n",
    "    plt.scatter(curv_sub['time'], curv_sub['curvature_of_traj'] * 180/math.pi)\n",
    "    plt.show()\n",
    "\n",
    "    if index == current_index + 10:\n",
    "        break"
   ]
  },
  {
   "cell_type": "markdown",
   "metadata": {},
   "source": [
    "## Experiment on evening out angles"
   ]
  },
  {
   "cell_type": "code",
   "execution_count": null,
   "metadata": {},
   "outputs": [],
   "source": [
    "ref_point_mode = 'distance'\n",
    "ref_point_value = -150\n",
    "monkey_name = 'monkey_Bruno'\n",
    "\n",
    "ps = monkey_plan_factors_x_sess_class.PlanAcrossSessions(monkey_name=monkey_name)\n",
    "sp = show_planning_class.ShowPlanning(monkey_name=monkey_name)\n",
    "ps.test_heading_info_df, ps.ctrl_heading_info_df = sp.make_or_retrieve_combd_heading_df_x_sessions_from_both_test_and_control(ref_point_mode, ref_point_value, combd_heading_df_x_sessions_exists_ok=True,\n",
    "                                                                show_printed_output=True, heading_info_df_exists_ok=False,\n",
    "                                                                stops_near_ff_df_exists_ok=False)\n",
    "ps.process_both_heading_info_df()\n",
    "\n",
    "#column_for_split = 'alt_ff_last_flash_time_bbas'\n",
    "#column_for_split = 'alt_ff_cluster_last_flash_time_bbas'\n",
    "#column_for_split = 'ALT_time_ff_last_seen_bbas'\n",
    "column_for_split = 'alt_ff_cluster_last_seen_time_bbas'\n",
    "test_and_ctrl_heading_info_df = pd.concat([ps.test_heading_info_df, ps.ctrl_heading_info_df[ps.test_heading_info_df.columns]], axis=0)\n",
    "ps.ctrl_heading_info_df = test_and_ctrl_heading_info_df[test_and_ctrl_heading_info_df[column_for_split].isnull()].copy()\n",
    "ps.test_heading_info_df = test_and_ctrl_heading_info_df[~test_and_ctrl_heading_info_df[column_for_split].isnull()].copy()\n",
    "\n",
    "\n",
    "\n",
    "ps.filter_both_heading_info_df(max_curv_range=150)\n",
    "test_df = ps.test_heading_info_df.copy()\n",
    "ctrl_df = ps.ctrl_heading_info_df.copy()\n",
    "diff_and_ratio_stat_df = show_planning_utils.make_diff_and_ratio_stat_df(test_df, ctrl_df)\n",
    "print(diff_and_ratio_stat_df)"
   ]
  },
  {
   "cell_type": "code",
   "execution_count": null,
   "metadata": {},
   "outputs": [],
   "source": [
    "ps.ctrl_heading_info_df.shape"
   ]
  },
  {
   "cell_type": "code",
   "execution_count": null,
   "metadata": {},
   "outputs": [],
   "source": [
    "ps.ctrl_heading_info_df"
   ]
  },
  {
   "cell_type": "code",
   "execution_count": null,
   "metadata": {},
   "outputs": [],
   "source": [
    "\n",
    "\n",
    "diff_and_ratio_stat_df = show_planning_utils.make_diff_and_ratio_stat_df(ps.test_heading_info_df, ps.ctrl_heading_info_df)\n",
    "print(diff_and_ratio_stat_df)"
   ]
  },
  {
   "cell_type": "code",
   "execution_count": null,
   "metadata": {},
   "outputs": [],
   "source": [
    "sns.histplot(ps.test_heading_info_df['stop_ff_angle_at_ref'], stat='probability', binwidth=0.1, alpha=0.5, color='blue')\n",
    "sns.histplot(ps.ctrl_heading_info_df['stop_ff_angle_at_ref'], stat='probability', binwidth=0.1, alpha=0.5, color='orange')\n",
    "plt.show()"
   ]
  },
  {
   "cell_type": "code",
   "execution_count": null,
   "metadata": {},
   "outputs": [],
   "source": [
    "sns.histplot(ps.test_heading_info_df['alt_ff_distance_at_ref'], stat='probability', binwidth=10, alpha=0.5, color='blue')\n",
    "sns.histplot(ps.ctrl_heading_info_df['alt_ff_distance_at_ref'], stat='probability', binwidth=10, alpha=0.5, color='orange')\n",
    "plt.show()"
   ]
  },
  {
   "cell_type": "code",
   "execution_count": null,
   "metadata": {},
   "outputs": [],
   "source": [
    "sns.histplot(ps.test_heading_info_df['alt_ff_angle_at_ref'], stat='probability', binwidth=0.2, alpha=0.5, color='blue')\n",
    "sns.histplot(ps.ctrl_heading_info_df['alt_ff_angle_at_ref'], stat='probability', binwidth=0.2, alpha=0.5, color='orange')\n",
    "plt.show()"
   ]
  },
  {
   "cell_type": "code",
   "execution_count": null,
   "metadata": {},
   "outputs": [],
   "source": [
    "y1 = 'test_diff_in_abs'\n",
    "y2 = 'ctrl_diff_in_abs'"
   ]
  },
  {
   "cell_type": "code",
   "execution_count": null,
   "metadata": {},
   "outputs": [],
   "source": []
  }
 ],
 "metadata": {
  "kernelspec": {
   "display_name": "Python 3",
   "language": "python",
   "name": "python3"
  },
  "language_info": {
   "codemirror_mode": {
    "name": "ipython",
    "version": 3
   },
   "file_extension": ".py",
   "mimetype": "text/x-python",
   "name": "python",
   "nbconvert_exporter": "python",
   "pygments_lexer": "ipython3",
   "version": "3.9.19"
  }
 },
 "nbformat": 4,
 "nbformat_minor": 2
}
