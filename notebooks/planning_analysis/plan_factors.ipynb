{
 "cells": [
  {
   "cell_type": "markdown",
   "metadata": {},
   "source": [
    "# Install packages"
   ]
  },
  {
   "cell_type": "code",
   "execution_count": 1,
   "metadata": {},
   "outputs": [
    {
     "ename": "ModuleNotFoundError",
     "evalue": "No module named 'google'",
     "output_type": "error",
     "traceback": [
      "\u001b[0;31m---------------------------------------------------------------------------\u001b[0m",
      "\u001b[0;31mModuleNotFoundError\u001b[0m                       Traceback (most recent call last)",
      "Cell \u001b[0;32mIn[1], line 1\u001b[0m\n\u001b[0;32m----> 1\u001b[0m \u001b[38;5;28;01mfrom\u001b[39;00m \u001b[38;5;21;01mgoogle\u001b[39;00m\u001b[38;5;21;01m.\u001b[39;00m\u001b[38;5;21;01mcolab\u001b[39;00m \u001b[38;5;28;01mimport\u001b[39;00m drive \u001b[38;5;66;03m# import drive from google colab\u001b[39;00m\n\u001b[1;32m      2\u001b[0m drive\u001b[38;5;241m.\u001b[39mmount(\u001b[38;5;124m\"\u001b[39m\u001b[38;5;124m/content/drive\u001b[39m\u001b[38;5;124m\"\u001b[39m) \n\u001b[1;32m      3\u001b[0m get_ipython()\u001b[38;5;241m.\u001b[39msystem(\u001b[38;5;124m'\u001b[39m\u001b[38;5;124mpip install neo\u001b[39m\u001b[38;5;124m'\u001b[39m)\n",
      "\u001b[0;31mModuleNotFoundError\u001b[0m: No module named 'google'"
     ]
    }
   ],
   "source": [
    "# !pip install neo\n",
    "# !pip install matplotlib_scalebar\n",
    "# !pip install ffmpeg\n",
    "# !pip install Ipython --upgrade\n",
    "# %load_ext autoreload\n",
    "# %autoreload 2"
   ]
  },
  {
   "cell_type": "code",
   "execution_count": null,
   "metadata": {},
   "outputs": [],
   "source": [
    "## if using google drive\n",
    "\n",
    "# from google.colab import drive # import drive from google colab\n",
    "# drive.mount(\"/content/drive\") \n",
    "# %cd /content/drive/MyDrive/ff_repo/Multifirefly-Project"
   ]
  },
  {
   "cell_type": "markdown",
   "metadata": {},
   "source": [
    "# Import packages"
   ]
  },
  {
   "cell_type": "code",
   "execution_count": 1,
   "metadata": {},
   "outputs": [
    {
     "name": "stdout",
     "output_type": "stream",
     "text": [
      "Changed the directory to 'Multifirefly-Project'.\n",
      "Added /Users/dusiyi/Documents/Multifirefly-Project/multiff_analysis/methods to the path.\n"
     ]
    }
   ],
   "source": [
    "\n",
    "%load_ext autoreload\n",
    "%autoreload 2\n",
    "\n",
    "from pathlib import Path\n",
    "import os\n",
    "if Path.cwd().parts[-1] != 'Multifirefly-Project':\n",
    "    if Path.cwd().parts[-1] != 'notebooks':\n",
    "        os.chdir('..')\n",
    "    from add_path import find_path\n",
    "    current_path = find_path()\n",
    "    os.chdir(current_path)\n",
    "\n",
    "import sys\n",
    "\n",
    "\n",
    "from data_wrangling import specific_utils, process_monkey_information, base_processing_class, combine_info_utils\n",
    "from pattern_discovery import pattern_by_trials, pattern_by_points, make_ff_dataframe, ff_dataframe_utils, pattern_by_trials, pattern_by_points, cluster_analysis, organize_patterns_and_features, category_class, cluster_analysis\n",
    "from decision_making_analysis.decision_making import decision_making_class, decision_making_utils, plot_decision_making, intended_targets_classes\n",
    "from decision_making_analysis.GUAT import GUAT_helper_class, GUAT_collect_info_class, GUAT_combine_info_class, process_GUAT_trials_class, GUAT_and_TAFT\n",
    "from decision_making_analysis import free_selection, replacement, trajectory_info\n",
    "from null_behaviors import show_null_trajectory, find_best_arc, curvature_utils, curvature_class, curv_of_traj_utils\n",
    "from machine_learning.ml_methods import regression_utils, classification_utils, prep_ml_data_utils, hyperparam_tuning_class\n",
    "from machine_learning.RL.env_related import env_for_lstm, env_utils, base_env, collect_agent_data_utils\n",
    "from machine_learning.RL.lstm import GRU_functions, LSTM_functions\n",
    "from machine_learning.RL.SB3 import interpret_neural_network, sb3_for_multiff_class, rl_for_multiff_utils, SB3_functions\n",
    "from visualization.matplotlib_tools import plot_trials, plot_polar, additional_plots, plot_behaviors_utils, plot_statistics, monkey_heading_functions\n",
    "from visualization.animation import animation_func, animation_utils, animation_class\n",
    "from planning_analysis.test_params_for_planning import params_test_combos_class, params_utils\n",
    "from visualization.plotly_tools import plotly_for_monkey, plotly_for_scatterplot, plotly_preparation, plotly_for_correlation\n",
    "from visualization.dash_tools import dash_prep_class, dash_utils, dash_utils, dash_comparison_class, dash_params_class\n",
    "from visualization.dash_tools.dash_main_class_methods import dash_main_class\n",
    "from neural_data_analysis.neural_analysis_tools.get_neural_data import neural_data_processing\n",
    "from neural_data_analysis.neural_analysis_tools.visualize_neural_data import plot_neural_data, plot_modeling_result\n",
    "from neural_data_analysis.neural_analysis_tools.model_neural_data import transform_vars, neural_data_modeling, drop_high_corr_vars, drop_high_vif_vars\n",
    "from neural_data_analysis.neural_analysis_by_topic.neural_vs_behavioral import prep_monkey_data, prep_target_data, neural_vs_behavioral_class\n",
    "from neural_data_analysis.neural_analysis_by_topic.planning_and_neural import planning_neural_class, planning_neural_utils\n",
    "from planning_analysis.only_cur_ff import only_cur_ff_utils, only_cur_ff_class, only_cur_ff_utils\n",
    "from planning_analysis.plan_factors import plan_factors_utils, plan_factors_class, monkey_plan_factors_x_sess_class\n",
    "from planning_analysis.agent_analysis import compare_monkey_and_agent_utils, agent_plan_factors_class, agent_plan_factors_x_sess_class\n",
    "from planning_analysis.plan_factors import test_vs_control_utils\n",
    "from planning_analysis.variations_of_factors_vs_results import make_variations_utils, plot_variations_utils, process_variations_utils\n",
    "from planning_analysis.show_planning import nxt_ff_utils, show_planning_class, show_planning_utils, examine_null_arcs\n",
    "from planning_analysis.show_planning.get_stops_near_ff import find_stops_near_ff_class, find_stops_near_ff_utils, plot_stops_near_ff_class, plot_stops_near_ff_utils, plot_monkey_heading_helper_class, stops_near_ff_based_on_ref_class\n",
    "from machine_learning.ml_methods import ml_methods_class, prep_ml_data_utils\n",
    "from eye_position_analysis import eye_positions\n",
    "\n",
    "from importlib import reload\n",
    "import os\n",
    "import numpy as np\n",
    "import matplotlib\n",
    "import matplotlib.pyplot as plt\n",
    "from sklearn.ensemble import BaggingRegressor, AdaBoostRegressor, RandomForestRegressor\n",
    "from sklearn.preprocessing import PolynomialFeatures\n",
    "from sklearn.linear_model import LinearRegression\n",
    "from matplotlib import cm\n",
    "from os.path import exists\n",
    "import seaborn as sns\n",
    "import math\n",
    "import copy\n",
    "import matplotlib.pyplot as plt\n",
    "import pandas as pd\n",
    "import torch\n",
    "import torch.nn as nn\n",
    "import torch.optim as optim\n",
    "import tqdm\n",
    "import itertools\n",
    "import plotly.express as px\n",
    "from scipy.stats import rankdata\n",
    "from scipy import stats\n",
    "from IPython.display import HTML\n",
    "from matplotlib import rc\n",
    "from sklearn.model_selection import train_test_split\n",
    "from sklearn.preprocessing import OneHotEncoder\n",
    "from sklearn.datasets import make_multilabel_classification\n",
    "from sklearn.model_selection import train_test_split\n",
    "from sklearn.multioutput import MultiOutputClassifier\n",
    "from sklearn.neighbors import KNeighborsClassifier\n",
    "from sklearn.metrics import accuracy_score, hamming_loss, multilabel_confusion_matrix, fbeta_score, precision_score, recall_score\n",
    "from sklearn.svm import SVC\n",
    "from sklearn.tree import DecisionTreeClassifier\n",
    "from sklearn.ensemble import AdaBoostClassifier, RandomForestClassifier, VotingClassifier, BaggingClassifier, GradientBoostingClassifier\n",
    "from sklearn.neural_network import MLPClassifier\n",
    "from sklearn.linear_model import LinearRegression\n",
    "from sklearn.neighbors import KNeighborsRegressor, KNeighborsClassifier\n",
    "from sklearn.naive_bayes import GaussianNB\n",
    "from sklearn.linear_model import LogisticRegression\n",
    "from math import pi\n",
    "from scipy.ndimage import gaussian_filter1d\n",
    "from statsmodels.graphics.tsaplots import plot_acf\n",
    "import warnings\n",
    "import os, sys\n",
    "from sklearn.exceptions import ConvergenceWarning\n",
    "import plotly.graph_objects as go\n",
    "import gc\n",
    "from sklearn.linear_model import LogisticRegression\n",
    "from sklearn.linear_model import LassoCV\n",
    "from sklearn.model_selection import train_test_split\n",
    "from sklearn.preprocessing import StandardScaler\n",
    "\n",
    "\n",
    "plt.rcParams[\"animation.html\"] = \"html5\"\n",
    "os.environ['KMP_DUPLICATE_LIB_OK']='True'\n",
    "rc('animation', html='jshtml')\n",
    "matplotlib.rcParams.update(matplotlib.rcParamsDefault)\n",
    "matplotlib.rcParams['animation.embed_limit'] = 2**128\n",
    "pd.set_option('display.float_format', lambda x: '%.5f' % x)\n",
    "np.set_printoptions(suppress=True)\n",
    "pd.options.display.max_rows = 101\n",
    "\n"
   ]
  },
  {
   "cell_type": "code",
   "execution_count": 2,
   "metadata": {},
   "outputs": [],
   "source": [
    "data_item = None\n",
    "raw_data_folder_path = \"all_monkey_data/raw_monkey_data/monkey_Bruno/data_0328\""
   ]
  },
  {
   "cell_type": "markdown",
   "metadata": {},
   "source": [
    "# get info from one session"
   ]
  },
  {
   "cell_type": "code",
   "execution_count": 59,
   "metadata": {},
   "outputs": [
    {
     "name": "stdout",
     "output_type": "stream",
     "text": [
      "Retrieved monkey_information\n",
      "The number of points that were removed due to delta_position exceeding the ceiling is 0\n",
      "Warning: ff_closest_stop_time_sorted has 1 points out of 1213 points that are significantly larger than ff_caught_T_sorted, which is 0.08% of the points. Max value of closest_time - capture time is 0.332014000000072. They are replaced with the original ff_caught_T in ff_caught_T_new.\n",
      "Warning: ff_closest_stop_time_sorted has 56 points where monkey is outside of 1213 points that are outside of the reward boundary, which is 4.62% of the points. They are replaced with the original ff_caught_T in ff_caught_T_new.\n",
      "Warning: ff_caught_T_new is not monotonically increasing. Will make it monotonically increasing.\n",
      "Note: ff_caught_T_sorted is replaced with ff_caught_T_new\n"
     ]
    }
   ],
   "source": [
    "curv_of_traj_mode = 'distance'\n",
    "window_for_curv_of_traj=[-25, 25]\n",
    "raw_data_folder_path = \"all_monkey_data/raw_monkey_data/monkey_Bruno/data_0328\"\n",
    "pf = plan_factors_class.PlanFactors(raw_data_folder_path=raw_data_folder_path,\n",
    "                                    optimal_arc_type='opt_arc_stop_closest')\n",
    "                                    #optimal_arc_type = 'norm_opt_arc')"
   ]
  },
  {
   "cell_type": "code",
   "execution_count": 56,
   "metadata": {},
   "outputs": [
    {
     "data": {
      "text/plain": [
       "16255"
      ]
     },
     "execution_count": 56,
     "metadata": {},
     "output_type": "execute_result"
    }
   ],
   "source": [
    "gc.collect()"
   ]
  },
  {
   "cell_type": "code",
   "execution_count": null,
   "metadata": {},
   "outputs": [
    {
     "name": "stdout",
     "output_type": "stream",
     "text": [
      "Successfully retrieved plan_y_test (stop_0_1_window_-50cm_0cm)\n",
      "Making new: plan_x_test (stop_0_1_window_-50cm_0cm)\n",
      "Made plan_x_test and saved to all_monkey_data/planning/monkey_Bruno/data_0328/plan_x_df/opt_arc_stop_closest/test/stop_0_1_window_-50cm_0cm\n",
      "Successfully retrieved plan_y_ctrl (stop_0_1_window_-50cm_0cm)\n",
      "Making new: plan_x_ctrl (stop_0_1_window_-50cm_0cm)\n"
     ]
    }
   ],
   "source": [
    "exists_ok = True\n",
    "pf.make_plan_x_and_y_for_both_test_and_ctrl(plan_x_exists_ok=False, \n",
    "                                            plan_y_exists_ok=exists_ok,\n",
    "                                            already_made_ok=exists_ok, \n",
    "                                            heading_info_df_exists_ok=exists_ok,\n",
    "                                            ref_point_mode='time after cur ff visible', \n",
    "                                            ref_point_value=0.1,\n",
    "                                            stops_near_ff_df_exists_ok=True,\n",
    "                                            # ref_point_mode='distance', \n",
    "                                            # ref_point_value=-150,                                           \n",
    "                                            )\n"
   ]
  },
  {
   "cell_type": "code",
   "execution_count": 52,
   "metadata": {},
   "outputs": [
    {
     "data": {
      "text/plain": [
       "(0, 331)"
      ]
     },
     "execution_count": 52,
     "metadata": {},
     "output_type": "execute_result"
    }
   ],
   "source": [
    "pf.plan_x_ctrl.shape"
   ]
  },
  {
   "cell_type": "code",
   "execution_count": 6,
   "metadata": {},
   "outputs": [],
   "source": [
    "# test_heading_info_df = pf.test_heading_info_df.copy()\n",
    "# ctrl_heading_info_df = pf.ctrl_heading_info_df.copy()\n",
    "# test_heading_info_df = plan_factors_utils.process_heading_info_df(test_heading_info_df)\n",
    "# ctrl_heading_info_df = plan_factors_utils.process_heading_info_df(ctrl_heading_info_df)\n",
    "# df = make_variations_utils.make_temp_median_info_func(test_heading_info_df, ctrl_heading_info_df)"
   ]
  },
  {
   "cell_type": "markdown",
   "metadata": {},
   "source": [
    "# CDF\n",
    "\n",
    "Looking back at this after some time, I believe the purpose of this section is to show that, in test cases, the parameter of interest (such as diff_in_abs_d_heading) tends to be more skewed to the right compared to control cases. This is important because higher values of this parameter provide stronger evidence of planning behavior."
   ]
  },
  {
   "cell_type": "code",
   "execution_count": 7,
   "metadata": {},
   "outputs": [
    {
     "name": "stdout",
     "output_type": "stream",
     "text": [
      "Successfully retrieved combd_heading_df_x_sessions from:  all_monkey_data/planning/monkey_Schro/combined_data/cur_and_nxt/data/combd_heading_info/norm_opt_arc/control/Schro_stop_0_1\n",
      "Successfully retrieved combd_diff_in_curv_df from:  all_monkey_data/planning/monkey_Schro/combined_data/cur_and_nxt/data/combd_diff_in_curv/norm_opt_arc/control/stop_0_1_window_-50cm_0cm\n",
      "Successfully retrieved combd_heading_df_x_sessions from:  all_monkey_data/planning/monkey_Schro/combined_data/cur_and_nxt/data/combd_heading_info/norm_opt_arc/test/Schro_stop_0_1\n",
      "Successfully retrieved combd_diff_in_curv_df from:  all_monkey_data/planning/monkey_Schro/combined_data/cur_and_nxt/data/combd_diff_in_curv/norm_opt_arc/test/stop_0_1_window_-50cm_0cm\n"
     ]
    }
   ],
   "source": [
    "ps = monkey_plan_factors_x_sess_class.PlanAcrossSessions(monkey_name='monkey_Schro')\n",
    "ps.initialize_monkey_sessions_df_for_one_monkey()\n",
    "ps.get_combd_heading_df_x_sessions_across_sessions(\n",
    "                        ref_point_mode='time after cur ff visible', ref_point_value=0.1,\n",
    "                        save_data=False)\n"
   ]
  },
  {
   "cell_type": "code",
   "execution_count": 8,
   "metadata": {},
   "outputs": [
    {
     "name": "stdout",
     "output_type": "stream",
     "text": [
      "Successfully retrieved combd_heading_df_x_sessions from:  all_monkey_data/planning/monkey_Bruno/combined_data/cur_and_nxt/data/combd_heading_info/norm_opt_arc/control/Bruno_stop_0_1\n",
      "Successfully retrieved combd_diff_in_curv_df from:  all_monkey_data/planning/monkey_Bruno/combined_data/cur_and_nxt/data/combd_diff_in_curv/norm_opt_arc/control/stop_0_1_window_-50cm_0cm\n",
      "Successfully retrieved combd_heading_df_x_sessions from:  all_monkey_data/planning/monkey_Bruno/combined_data/cur_and_nxt/data/combd_heading_info/norm_opt_arc/test/Bruno_stop_0_1\n",
      "Successfully retrieved combd_diff_in_curv_df from:  all_monkey_data/planning/monkey_Bruno/combined_data/cur_and_nxt/data/combd_diff_in_curv/norm_opt_arc/test/stop_0_1_window_-50cm_0cm\n"
     ]
    }
   ],
   "source": [
    "ps = monkey_plan_factors_x_sess_class.PlanAcrossSessions(monkey_name='monkey_Bruno')\n",
    "ps.initialize_monkey_sessions_df_for_one_monkey()\n",
    "ps.get_combd_heading_df_x_sessions_across_sessions(\n",
    "                        ref_point_mode='time after cur ff visible', ref_point_value=0.1,\n",
    "                        save_data=False)\n"
   ]
  },
  {
   "cell_type": "code",
   "execution_count": 9,
   "metadata": {},
   "outputs": [],
   "source": [
    "test_heading_info_df = ps.combd_heading_df_x_sessions_test.copy()\n",
    "ctrl_heading_info_df = ps.combd_heading_df_x_sessions_ctrl.copy()\n",
    "test_heading_info_df = plan_factors_utils.process_heading_info_df(test_heading_info_df)\n",
    "ctrl_heading_info_df = plan_factors_utils.process_heading_info_df(ctrl_heading_info_df)"
   ]
  },
  {
   "cell_type": "code",
   "execution_count": 10,
   "metadata": {},
   "outputs": [
    {
     "data": {
      "image/png": "[encoded data removed]",
      "text/plain": [
       "<Figure size 640x480 with 1 Axes>"
      ]
     },
     "metadata": {},
     "output_type": "display_data"
    }
   ],
   "source": [
    "# make histplot first\n",
    "column = 'diff_in_abs_d_heading'\n",
    "sns.histplot(data=test_heading_info_df[column], bins=100, label='test', color='blue', kde=True)\n",
    "sns.histplot(data=ctrl_heading_info_df[column], bins=100, label='ctrl', color='red', kde=True)\n",
    "plt.legend()\n",
    "plt.show()"
   ]
  },
  {
   "cell_type": "code",
   "execution_count": 11,
   "metadata": {},
   "outputs": [
    {
     "data": {
      "image/png": "[encoded data removed]",
      "text/plain": [
       "<Figure size 500x500 with 1 Axes>"
      ]
     },
     "metadata": {},
     "output_type": "display_data"
    }
   ],
   "source": [
    "# plot a cumulative density distribution of test_heading_info_df['diff_in_abs_d_heading']\n",
    "def plot_cdf(test_heading_info_df, ctrl_heading_info_df, column='diff_in_abs_d_heading', xlim=None):\n",
    "    fig, ax = plt.subplots(1, 1, figsize=(5, 5))\n",
    "    sns.ecdfplot(data=test_heading_info_df[column], ax=ax, label='test')\n",
    "    sns.ecdfplot(data=ctrl_heading_info_df[column], ax=ax, label='ctrl')\n",
    "    ax.axhline(y=0.5, color='black', linestyle='--')\n",
    "    if xlim is not None:\n",
    "        ax.set_xlim(xlim)\n",
    "    ax.legend()\n",
    "    plt.show()\n",
    "\n",
    "\n",
    "plot_cdf(test_heading_info_df, ctrl_heading_info_df, column='diff_in_abs_d_heading', xlim=[-20, 20])"
   ]
  },
  {
   "cell_type": "code",
   "execution_count": 12,
   "metadata": {},
   "outputs": [
    {
     "data": {
      "text/plain": [
       "Index(['Unnamed: 0.1_x', 'Unnamed: 0_x', 'stop_point_index', 'stop_x',\n",
       "       'stop_y', 'stop_time', 'cur_ff_index', 'cur_ff_x', 'cur_ff_y',\n",
       "       'cur_ff_cluster_50_size', 'point_index_before_stop',\n",
       "       'monkey_angle_before_stop', 'next_stop_point_index', 'next_stop_time',\n",
       "       'cum_distance_between_two_stops', 'curv_range', 'curv_iqr',\n",
       "       'nxt_ff_index', 'nxt_ff_x', 'nxt_ff_y', 'NXT_time_ff_last_seen_bbas',\n",
       "       'NXT_time_ff_last_seen_bsans', 'nxt_ff_last_flash_time_bbas',\n",
       "       'nxt_ff_last_flash_time_bsans', 'nxt_ff_cluster_last_seen_time_bbas',\n",
       "       'nxt_ff_cluster_last_seen_time_bsans',\n",
       "       'nxt_ff_cluster_last_flash_time_bbas',\n",
       "       'nxt_ff_cluster_last_flash_time_bsans', 'mx_before_stop',\n",
       "       'my_before_stop', 'cur_arc_end_heading', 'nxt_arc_end_heading',\n",
       "       'cur_arc_end_x', 'cur_arc_end_y', 'd_heading_of_traj',\n",
       "       'cur_d_heading_of_arc', 'ref_monkey_angle', 'ref_curv_of_traj',\n",
       "       'nxt_d_heading_of_arc', 'angle_from_m_before_stop_to_cur_ff',\n",
       "       'angle_from_m_before_stop_to_nxt_ff',\n",
       "       'angle_from_cur_ff_landing_to_nxt_ff', 'angle_from_cur_ff_to_stop',\n",
       "       'angle_from_cur_ff_to_nxt_ff', 'rank_by_angle_to_nxt_ff',\n",
       "       'nxt_ff_distance_at_ref', 'nxt_ff_angle_at_ref',\n",
       "       'cur_ff_distance_at_ref', 'cur_ff_angle_at_ref',\n",
       "       'cur_ff_angle_boundary_at_ref', 'data_name', 'Unnamed: 0.1_y',\n",
       "       'Unnamed: 0_y', 'monkey_curv_to_nxt_ff', 'monkey_curv_to_cur_ff',\n",
       "       'null_arc_curv_to_nxt_ff', 'null_arc_curv_to_cur_ff', 'd_curv_null_arc',\n",
       "       'd_curv_monkey', 'abs_d_curv_null_arc', 'abs_d_curv_monkey',\n",
       "       'diff_in_curv_to_stop', 'diff_in_curv_to_alt', 'diff_in_d_curv',\n",
       "       'diff_in_abs_d_curv', 'diff_in_d_heading_of_traj_from_null',\n",
       "       'diff_in_d_heading', 'diff_in_abs_d_heading', 'ratio'],\n",
       "      dtype='object')"
      ]
     },
     "execution_count": 12,
     "metadata": {},
     "output_type": "execute_result"
    }
   ],
   "source": [
    "ctrl_heading_info_df.columns"
   ]
  },
  {
   "cell_type": "code",
   "execution_count": 13,
   "metadata": {},
   "outputs": [
    {
     "data": {
      "image/png": "[encoded data removed]",
      "text/plain": [
       "<Figure size 500x500 with 1 Axes>"
      ]
     },
     "metadata": {},
     "output_type": "display_data"
    }
   ],
   "source": [
    "plot_cdf(test_heading_info_df, ctrl_heading_info_df, column='diff_in_abs_d_curv', xlim=[-20, 20])"
   ]
  },
  {
   "cell_type": "markdown",
   "metadata": {},
   "source": [
    "# Plan factors class"
   ]
  },
  {
   "cell_type": "markdown",
   "metadata": {},
   "source": [
    "## get data"
   ]
  },
  {
   "cell_type": "markdown",
   "metadata": {},
   "source": [
    "### monkey across sessions"
   ]
  },
  {
   "cell_type": "code",
   "execution_count": 14,
   "metadata": {},
   "outputs": [],
   "source": [
    "ps = monkey_plan_factors_x_sess_class.PlanAcrossSessions(monkey_name='monkey_Bruno')\n",
    "ps.initialize_monkey_sessions_df_for_one_monkey()\n",
    "# ps.get_plan_x_and_plan_y_across_sessions(exists_ok=True, plan_x_exists_ok=True, plan_y_exists_ok=True,\n",
    "#                                          ref_point_mode='time after cur ff visible', ref_point_value=0.1)\n",
    "ps.get_plan_x_and_plan_y_across_sessions(exists_ok=True, plan_x_exists_ok=True, plan_y_exists_ok=True,\n",
    "                                        heading_info_df_exists_ok=True,\n",
    "                                        stops_near_ff_df_exists_ok=True, \n",
    "                                        ref_point_mode='time after cur ff visible', ref_point_value=0.1)\n",
    "\n",
    "combd_plan_y_tc = ps.combd_plan_y_tc.copy().reset_index(drop=True)\n",
    "combd_plan_x_tc = ps.combd_plan_x_tc.copy().reset_index(drop=True)\n",
    "# pf.plan_x_tc = combd_plan_x_tc.copy()\n",
    "# pf.plan_y_tc = combd_plan_y_tc.copy()"
   ]
  },
  {
   "cell_type": "markdown",
   "metadata": {},
   "source": [
    "### re-calculate planning data for both monkeys"
   ]
  },
  {
   "cell_type": "code",
   "execution_count": 15,
   "metadata": {},
   "outputs": [],
   "source": [
    "# # to re-calculate planning data\n",
    "# exists_ok = True\n",
    "# curv_traj_window_before_stop=[-50, 0]\n",
    "\n",
    "# for optimal_arc_type in ['norm_opt_arc', 'opt_arc_stop_first_vis_bdry', 'opt_arc_stop_closest']:\n",
    "#     #optimal_arc_type='norm_opt_arc' # options are: norm_opt_arc, opt_arc_stop_first_vis_bdry, opt_arc_stop_closest,\n",
    "    \n",
    "\n",
    "\n",
    "#     ref_point_params_based_on_mode = monkey_plan_factors_x_sess_class.PlanAcrossSessions.default_ref_point_params_based_on_mode\n",
    "\n",
    "#     variations_list = specific_utils.init_variations_list_func(ref_point_params_based_on_mode,\n",
    "#                                                                 monkey_name='monkey_Schro')\n",
    "\n",
    "#     for index, row in variations_list.iterrows():\n",
    "#         ps = monkey_plan_factors_x_sess_class.PlanAcrossSessions(monkey_name='monkey_Schro', \n",
    "#                                                                 optimal_arc_type=optimal_arc_type)\n",
    "#         ps.initialize_monkey_sessions_df_for_one_monkey()\n",
    "#         # ps.get_plan_x_and_plan_y_across_sessions(exists_ok=True, plan_x_exists_ok=True, plan_y_exists_ok=True,\n",
    "#         #                                          ref_point_mode='time after cur ff visible', ref_point_value=0.1)\n",
    "#         print(row)\n",
    "#         ps.get_plan_x_and_plan_y_across_sessions(exists_ok=False, plan_x_exists_ok=exists_ok, plan_y_exists_ok=exists_ok,\n",
    "#                                                 heading_info_df_exists_ok=exists_ok,\n",
    "#                                                 stops_near_ff_df_exists_ok=exists_ok, \n",
    "#                                                 ref_point_mode=row['ref_point_mode'], ref_point_value=row['ref_point_value'])\n",
    "\n",
    "\n",
    "\n",
    "\n",
    "#     # to re-calculate planning data for a monkey\n",
    "#     ref_point_params_based_on_mode = monkey_plan_factors_x_sess_class.PlanAcrossSessions.default_ref_point_params_based_on_mode\n",
    "\n",
    "#     variations_list = specific_utils.init_variations_list_func(ref_point_params_based_on_mode,\n",
    "#                                                                 monkey_name='monkey_Bruno')\n",
    "\n",
    "#     for index, row in variations_list.iterrows():\n",
    "#         ps = monkey_plan_factors_x_sess_class.PlanAcrossSessions(monkey_name='monkey_Bruno', \n",
    "#                                                                 optimal_arc_type=optimal_arc_type)\n",
    "#         ps.initialize_monkey_sessions_df_for_one_monkey()\n",
    "#         # ps.get_plan_x_and_plan_y_across_sessions(exists_ok=True, plan_x_exists_ok=True, plan_y_exists_ok=True,\n",
    "#         #                                          ref_point_mode='time after cur ff visible', ref_point_value=0.1)\n",
    "#         print(row)\n",
    "#         ps.get_plan_x_and_plan_y_across_sessions(exists_ok=False, plan_x_exists_ok=exists_ok, plan_y_exists_ok=exists_ok,\n",
    "#                                                 heading_info_df_exists_ok=exists_ok,\n",
    "#                                                 stops_near_ff_df_exists_ok=exists_ok, \n",
    "#                                                 ref_point_mode=row['ref_point_mode'], ref_point_value=row['ref_point_value'])\n",
    "\n"
   ]
  },
  {
   "cell_type": "markdown",
   "metadata": {},
   "source": [
    "### re-calculate heading_info"
   ]
  },
  {
   "cell_type": "code",
   "execution_count": 16,
   "metadata": {},
   "outputs": [],
   "source": [
    "# for curv_traj_window_before_stop in [[-100, 0], [-50, -5]]:\n",
    "#     # [-75, -0], [-50, 0], [-25, 0], \n",
    "#     for optimal_arc_type in ['norm_opt_arc', 'opt_arc_stop_closest', 'opt_arc_stop_first_vis_bdry']:\n",
    "#         # to re-calculate planning data for a monkey\n",
    "#         exists_ok = True\n",
    "#         # optimal_arc_type='norm_opt_arc' # options are: norm_opt_arc, opt_arc_stop_first_vis_bdry, opt_arc_stop_closest,\n",
    "        \n",
    "\n",
    "\n",
    "#         ref_point_params_based_on_mode = monkey_plan_factors_x_sess_class.PlanAcrossSessions.default_ref_point_params_based_on_mode\n",
    "\n",
    "#         variations_list = specific_utils.init_variations_list_func(ref_point_params_based_on_mode,\n",
    "#                                                                     monkey_name='monkey_Schro')\n",
    "\n",
    "#         for index, row in variations_list.iterrows():\n",
    "#             ps = monkey_plan_factors_x_sess_class.PlanAcrossSessions(monkey_name='monkey_Schro',\n",
    "#                                                                     optimal_arc_type=optimal_arc_type)\n",
    "#             ps.initialize_monkey_sessions_df_for_one_monkey()\n",
    "#             # ps.get_plan_x_and_plan_y_across_sessions(exists_ok=True, plan_x_exists_ok=True, plan_y_exists_ok=True,\n",
    "#             #                                          ref_point_mode='time after cur ff visible', ref_point_value=0.1)\n",
    "#             print(row)\n",
    "\n",
    "#             ps.get_combd_heading_df_x_sessions_across_sessions(exists_ok=exists_ok,\n",
    "#                                                     heading_info_df_exists_ok=exists_ok,\n",
    "#                                                     stops_near_ff_df_exists_ok=exists_ok, \n",
    "#                                                     curv_traj_window_before_stop=curv_traj_window_before_stop,\n",
    "#                                                     ref_point_mode=row['ref_point_mode'], ref_point_value=row['ref_point_value'])\n",
    "\n",
    "#         # to re-calculate planning data for a monkey\n",
    "#         ref_point_params_based_on_mode = monkey_plan_factors_x_sess_class.PlanAcrossSessions.default_ref_point_params_based_on_mode\n",
    "\n",
    "#         variations_list = specific_utils.init_variations_list_func(ref_point_params_based_on_mode,\n",
    "#                                                                     monkey_name='monkey_Bruno')\n",
    "\n",
    "#         for index, row in variations_list.iterrows():\n",
    "#             ps = monkey_plan_factors_x_sess_class.PlanAcrossSessions(monkey_name='monkey_Bruno',\n",
    "#                                                                     optimal_arc_type=optimal_arc_type)                                                             \n",
    "#             ps.initialize_monkey_sessions_df_for_one_monkey()\n",
    "#             # ps.get_plan_x_and_plan_y_across_sessions(exists_ok=True, plan_x_exists_ok=True, plan_y_exists_ok=True,\n",
    "#             #                                          ref_point_mode='time after cur ff visible', ref_point_value=0.1)\n",
    "#             print(row)\n",
    "\n",
    "#             ps.get_combd_heading_df_x_sessions_across_sessions(exists_ok=exists_ok,\n",
    "#                                                     heading_info_df_exists_ok=exists_ok,\n",
    "#                                                     stops_near_ff_df_exists_ok=exists_ok, \n",
    "#                                                     curv_traj_window_before_stop=curv_traj_window_before_stop,\n",
    "#                                                     ref_point_mode=row['ref_point_mode'], ref_point_value=row['ref_point_value'])\n"
   ]
  },
  {
   "cell_type": "markdown",
   "metadata": {},
   "source": [
    "### agent"
   ]
  },
  {
   "cell_type": "code",
   "execution_count": 17,
   "metadata": {},
   "outputs": [],
   "source": [
    "env_kwargs = {}"
   ]
  },
  {
   "cell_type": "code",
   "execution_count": 18,
   "metadata": {},
   "outputs": [],
   "source": [
    "# for 5 ff\n",
    "ref_point_mode='time after cur ff visible'\n",
    "ref_point_value=0.1\n",
    "save_data = True\n",
    "exists_ok = True\n",
    "num_obs_ff = 5\n",
    "model_folder_name='RL_models/SB3_stored_models/all_agents/gen_27_5_ff_0.3_flash/all_agents/time27.17_dv92.21_dw124.84_w91.59'"
   ]
  },
  {
   "cell_type": "code",
   "execution_count": 19,
   "metadata": {},
   "outputs": [],
   "source": [
    "# for 1 ff\n",
    "ref_point_mode='time after cur ff visible'\n",
    "ref_point_value=0.1\n",
    "save_data = True\n",
    "exists_ok = True\n",
    "num_obs_ff = 1\n",
    "model_folder_name='RL_models/SB3_stored_models/all_agents/gen_26_1_ff_0.3_flash/all_agents/time34.84_dv118.27_dw144.17_w101.32'"
   ]
  },
  {
   "cell_type": "code",
   "execution_count": 20,
   "metadata": {},
   "outputs": [],
   "source": [
    "# for 4 ff\n",
    "ref_point_mode='time after cur ff visible'\n",
    "ref_point_value=0.1\n",
    "save_data = True\n",
    "exists_ok = True\n",
    "num_obs_ff = 4\n",
    "model_folder_name='RL_models/SB3_stored_models/all_agents/gen_3_env1_4ff_relu/all_agents/time23.73_dv126.41_dw141.9_w87.49'"
   ]
  },
  {
   "cell_type": "code",
   "execution_count": 21,
   "metadata": {},
   "outputs": [
    {
     "name": "stdout",
     "output_type": "stream",
     "text": [
      "data_name: data_0\n",
      "model_folder_name: RL_models/SB3_stored_models/all_agents/gen_3_env1_4ff_relu/all_agents/time23.73_dv126.41_dw141.9_w87.49\n",
      "Failed to retrieve monkey data. Will make new monkey data. Error:  [Errno 2] No such file or directory: 'RL_models/SB3_stored_models/all_collected_data/processed_data/gen_3_env1_4ff_relu/all_collected_data/processed_data/time23.73_dv126.41_dw141.9_w87.49/individual_data_sessions/data_0/ff_basic_info.npz'\n"
     ]
    },
    {
     "ename": "FileNotFoundError",
     "evalue": "[Errno 2] No such file or directory: 'RL_models/SB3_stored_models/all_agents/gen_3_env1_4ff_relu/all_agents/time23.73_dv126.41_dw141.9_w87.49/env_params.txt'",
     "output_type": "error",
     "traceback": [
      "\u001b[0;31m---------------------------------------------------------------------------\u001b[0m",
      "\u001b[0;31mFileNotFoundError\u001b[0m                         Traceback (most recent call last)",
      "Cell \u001b[0;32mIn[21], line 8\u001b[0m\n\u001b[1;32m      4\u001b[0m \u001b[38;5;28mprint\u001b[39m(\u001b[38;5;124m'\u001b[39m\u001b[38;5;124mdata_name:\u001b[39m\u001b[38;5;124m'\u001b[39m, data_name)\n\u001b[1;32m      5\u001b[0m pf \u001b[38;5;241m=\u001b[39m agent_plan_factors_class\u001b[38;5;241m.\u001b[39mPlanFactorsOfAgent(model_folder_name\u001b[38;5;241m=\u001b[39mmodel_folder_name,\n\u001b[1;32m      6\u001b[0m                                                     data_name\u001b[38;5;241m=\u001b[39mdata_name\n\u001b[1;32m      7\u001b[0m                                                     )\n\u001b[0;32m----> 8\u001b[0m \u001b[43mpf\u001b[49m\u001b[38;5;241;43m.\u001b[39;49m\u001b[43mget_agent_data\u001b[49m\u001b[43m(\u001b[49m\u001b[38;5;241;43m*\u001b[39;49m\u001b[38;5;241;43m*\u001b[39;49m\u001b[43menv_kwargs\u001b[49m\u001b[43m,\u001b[49m\u001b[43m \u001b[49m\u001b[43mexists_ok\u001b[49m\u001b[38;5;241;43m=\u001b[39;49m\u001b[43mexists_ok\u001b[49m\u001b[43m,\u001b[49m\u001b[43m \u001b[49m\u001b[43msave_data\u001b[49m\u001b[38;5;241;43m=\u001b[39;49m\u001b[43msave_data\u001b[49m\u001b[43m,\u001b[49m\u001b[43m \u001b[49m\u001b[43mn_steps\u001b[49m\u001b[38;5;241;43m=\u001b[39;49m\u001b[38;5;241;43m100000\u001b[39;49m\u001b[43m,\u001b[49m\n\u001b[1;32m      9\u001b[0m \u001b[43m                \u001b[49m\u001b[43mnum_obs_ff\u001b[49m\u001b[38;5;241;43m=\u001b[39;49m\u001b[43mnum_obs_ff\u001b[49m\u001b[43m)\u001b[49m\n\u001b[1;32m     11\u001b[0m pf\u001b[38;5;241m.\u001b[39mget_plan_x_and_plan_y(ref_point_mode\u001b[38;5;241m=\u001b[39mref_point_mode, \n\u001b[1;32m     12\u001b[0m                          ref_point_value\u001b[38;5;241m=\u001b[39mref_point_value,\n\u001b[1;32m     13\u001b[0m                         plan_x_exists_ok\u001b[38;5;241m=\u001b[39mexists_ok, \n\u001b[0;32m   (...)\u001b[0m\n\u001b[1;32m     16\u001b[0m                         stops_near_ff_df_exists_ok\u001b[38;5;241m=\u001b[39mexists_ok, \n\u001b[1;32m     17\u001b[0m                         save_data\u001b[38;5;241m=\u001b[39msave_data)\n",
      "File \u001b[0;32m~/Documents/Multifirefly-Project/multiff_analysis/methods/planning_analysis/agent_analysis/agent_plan_factors_class.py:33\u001b[0m, in \u001b[0;36mPlanFactorsOfAgent.get_agent_data\u001b[0;34m(self, n_steps, exists_ok, save_data, **env_kwargs)\u001b[0m\n\u001b[1;32m     27\u001b[0m env_kwargs[\u001b[38;5;124m'\u001b[39m\u001b[38;5;124mepisode_len\u001b[39m\u001b[38;5;124m'\u001b[39m] \u001b[38;5;241m=\u001b[39m episode_len\n\u001b[1;32m     29\u001b[0m \u001b[38;5;28mself\u001b[39m\u001b[38;5;241m.\u001b[39mrl_ff \u001b[38;5;241m=\u001b[39m sb3_for_multiff_class\u001b[38;5;241m.\u001b[39mSB3forMultifirefly(model_folder_name\u001b[38;5;241m=\u001b[39m\u001b[38;5;28mself\u001b[39m\u001b[38;5;241m.\u001b[39mmodel_folder_name, \n\u001b[1;32m     30\u001b[0m                                                     data_name\u001b[38;5;241m=\u001b[39m\u001b[38;5;28mself\u001b[39m\u001b[38;5;241m.\u001b[39mdata_name,\n\u001b[1;32m     31\u001b[0m                                                     overall_folder\u001b[38;5;241m=\u001b[39m\u001b[38;5;124m'\u001b[39m\u001b[38;5;124m'\u001b[39m,\n\u001b[1;32m     32\u001b[0m                                                     \u001b[38;5;241m*\u001b[39m\u001b[38;5;241m*\u001b[39menv_kwargs)\n\u001b[0;32m---> 33\u001b[0m \u001b[38;5;28;43mself\u001b[39;49m\u001b[38;5;241;43m.\u001b[39;49m\u001b[43mrl_ff\u001b[49m\u001b[38;5;241;43m.\u001b[39;49m\u001b[43mstreamline_getting_data_from_agent\u001b[49m\u001b[43m(\u001b[49m\u001b[43mn_steps\u001b[49m\u001b[38;5;241;43m=\u001b[39;49m\u001b[43mn_steps\u001b[49m\u001b[43m,\u001b[49m\u001b[43m \u001b[49m\u001b[43mexists_ok\u001b[49m\u001b[38;5;241;43m=\u001b[39;49m\u001b[43mexists_ok\u001b[49m\u001b[43m,\u001b[49m\u001b[43m \u001b[49m\u001b[43msave_data\u001b[49m\u001b[38;5;241;43m=\u001b[39;49m\u001b[43msave_data\u001b[49m\u001b[43m)\u001b[49m\n",
      "File \u001b[0;32m~/Documents/Multifirefly-Project/multiff_analysis/methods/machine_learning/RL/SB3/rl_for_multiff_class.py:330\u001b[0m, in \u001b[0;36m_RLforMultifirefly.streamline_getting_data_from_agent\u001b[0;34m(self, n_steps, exists_ok, save_data, load_replay_buffer, **env_kwargs)\u001b[0m\n\u001b[1;32m    326\u001b[0m     \u001b[38;5;28;01mexcept\u001b[39;00m \u001b[38;5;167;01mException\u001b[39;00m \u001b[38;5;28;01mas\u001b[39;00m e:\n\u001b[1;32m    327\u001b[0m         \u001b[38;5;28mprint\u001b[39m(\n\u001b[1;32m    328\u001b[0m             \u001b[38;5;124m\"\u001b[39m\u001b[38;5;124mFailed to retrieve monkey data. Will make new monkey data. Error: \u001b[39m\u001b[38;5;124m\"\u001b[39m, e)\n\u001b[0;32m--> 330\u001b[0m \u001b[38;5;28mself\u001b[39m\u001b[38;5;241m.\u001b[39menv_kwargs \u001b[38;5;241m=\u001b[39m \u001b[38;5;28;43mself\u001b[39;49m\u001b[38;5;241;43m.\u001b[39;49m\u001b[43mretrieve_env_params\u001b[49m\u001b[43m(\u001b[49m\u001b[43m)\u001b[49m\n\u001b[1;32m    331\u001b[0m \u001b[38;5;28mself\u001b[39m\u001b[38;5;241m.\u001b[39menv_kwargs\u001b[38;5;241m.\u001b[39mupdate(env_kwargs)\n\u001b[1;32m    332\u001b[0m \u001b[38;5;28mself\u001b[39m\u001b[38;5;241m.\u001b[39mmake_env(\u001b[38;5;241m*\u001b[39m\u001b[38;5;241m*\u001b[39m\u001b[38;5;28mself\u001b[39m\u001b[38;5;241m.\u001b[39menv_kwargs)\n",
      "File \u001b[0;32m~/Documents/Multifirefly-Project/multiff_analysis/methods/machine_learning/RL/SB3/rl_for_multiff_class.py:123\u001b[0m, in \u001b[0;36m_RLforMultifirefly.retrieve_env_params\u001b[0;34m(self, model_folder_name)\u001b[0m\n\u001b[1;32m    120\u001b[0m \u001b[38;5;28;01mif\u001b[39;00m model_folder_name \u001b[38;5;129;01mis\u001b[39;00m \u001b[38;5;28;01mNone\u001b[39;00m:\n\u001b[1;32m    121\u001b[0m     model_folder_name \u001b[38;5;241m=\u001b[39m \u001b[38;5;28mself\u001b[39m\u001b[38;5;241m.\u001b[39mmodel_folder_name\n\u001b[0;32m--> 123\u001b[0m \u001b[38;5;28mself\u001b[39m\u001b[38;5;241m.\u001b[39menv_kwargs \u001b[38;5;241m=\u001b[39m \u001b[43mrl_for_multiff_utils\u001b[49m\u001b[38;5;241;43m.\u001b[39;49m\u001b[43mretrieve_params\u001b[49m\u001b[43m(\u001b[49m\n\u001b[1;32m    124\u001b[0m \u001b[43m    \u001b[49m\u001b[43mmodel_folder_name\u001b[49m\u001b[43m)\u001b[49m\n\u001b[1;32m    125\u001b[0m \u001b[38;5;28;01mreturn\u001b[39;00m \u001b[38;5;28mself\u001b[39m\u001b[38;5;241m.\u001b[39menv_kwargs\n",
      "File \u001b[0;32m~/Documents/Multifirefly-Project/multiff_analysis/methods/machine_learning/RL/SB3/rl_for_multiff_utils.py:129\u001b[0m, in \u001b[0;36mretrieve_params\u001b[0;34m(model_folder_name)\u001b[0m\n\u001b[1;32m    126\u001b[0m params_file \u001b[38;5;241m=\u001b[39m os\u001b[38;5;241m.\u001b[39mpath\u001b[38;5;241m.\u001b[39mjoin(model_folder_name, \u001b[38;5;124m'\u001b[39m\u001b[38;5;124menv_params.txt\u001b[39m\u001b[38;5;124m'\u001b[39m)\n\u001b[1;32m    128\u001b[0m \u001b[38;5;66;03m# Open the file for reading\u001b[39;00m\n\u001b[0;32m--> 129\u001b[0m \u001b[38;5;28;01mwith\u001b[39;00m \u001b[38;5;28;43mopen\u001b[39;49m\u001b[43m(\u001b[49m\u001b[43mparams_file\u001b[49m\u001b[43m,\u001b[49m\u001b[43m \u001b[49m\u001b[38;5;124;43m\"\u001b[39;49m\u001b[38;5;124;43mr\u001b[39;49m\u001b[38;5;124;43m\"\u001b[39;49m\u001b[43m)\u001b[49m \u001b[38;5;28;01mas\u001b[39;00m fp:\n\u001b[1;32m    130\u001b[0m     \u001b[38;5;66;03m# Load the dictionary from the file\u001b[39;00m\n\u001b[1;32m    131\u001b[0m     params \u001b[38;5;241m=\u001b[39m json\u001b[38;5;241m.\u001b[39mload(fp)\n\u001b[1;32m    133\u001b[0m \u001b[38;5;28;01mreturn\u001b[39;00m params\n",
      "\u001b[0;31mFileNotFoundError\u001b[0m: [Errno 2] No such file or directory: 'RL_models/SB3_stored_models/all_agents/gen_3_env1_4ff_relu/all_agents/time23.73_dv126.41_dw141.9_w87.49/env_params.txt'"
     ]
    }
   ],
   "source": [
    "# #for i in range(1, 10):\n",
    "# for i in range(1):\n",
    "#     data_name = f'data_{i}'\n",
    "#     print('data_name:', data_name)\n",
    "#     pf = agent_plan_factors_class.PlanFactorsOfAgent(model_folder_name=model_folder_name,\n",
    "#                                                         data_name=data_name\n",
    "#                                                         )\n",
    "#     pf.get_agent_data(**env_kwargs, exists_ok=exists_ok, save_data=save_data, n_steps=100000,\n",
    "#                     num_obs_ff=num_obs_ff)\n",
    "    \n",
    "#     pf.get_plan_x_and_plan_y(ref_point_mode=ref_point_mode, \n",
    "#                              ref_point_value=ref_point_value,\n",
    "#                             plan_x_exists_ok=exists_ok, \n",
    "#                             plan_y_exists_ok=exists_ok, \n",
    "#                             heading_info_df_exists_ok=exists_ok,\n",
    "#                             stops_near_ff_df_exists_ok=exists_ok, \n",
    "#                             save_data=save_data)"
   ]
  },
  {
   "cell_type": "code",
   "execution_count": null,
   "metadata": {},
   "outputs": [],
   "source": [
    "pf.get_plan_x_and_plan_y_across_sessions(\n",
    "                        ref_point_mode=ref_point_mode, \n",
    "                        ref_point_value=ref_point_value,\n",
    "                        save_data=save_data)"
   ]
  },
  {
   "cell_type": "code",
   "execution_count": null,
   "metadata": {},
   "outputs": [],
   "source": [
    "pf.get_combd_heading_df_x_sessions_across_sessions(\n",
    "                        ref_point_mode=ref_point_mode, \n",
    "                        ref_point_value=ref_point_value,\n",
    "                        save_data=save_data)"
   ]
  },
  {
   "cell_type": "code",
   "execution_count": null,
   "metadata": {},
   "outputs": [],
   "source": [
    "stop!"
   ]
  },
  {
   "cell_type": "markdown",
   "metadata": {},
   "source": [
    "# ML"
   ]
  },
  {
   "cell_type": "code",
   "execution_count": 41,
   "metadata": {},
   "outputs": [
    {
     "name": "stdout",
     "output_type": "stream",
     "text": [
      "Retrieved monkey_information\n",
      "The number of points that were removed due to delta_position exceeding the ceiling is 0\n",
      "Warning: ff_closest_stop_time_sorted has 84 points where monkey is outside of 1338 points that are outside of the reward boundary, which is 6.28% of the points. They are replaced with the original ff_caught_T in ff_caught_T_new.\n",
      "Warning: ff_caught_T_new is not monotonically increasing. Will make it monotonically increasing.\n",
      "Note: ff_caught_T_sorted is replaced with ff_caught_T_new\n"
     ]
    }
   ],
   "source": [
    "curv_of_traj_mode = 'distance'\n",
    "window_for_curv_of_traj=[-25, 25]\n",
    "raw_data_folder_path = \"all_monkey_data/raw_monkey_data/monkey_Bruno/data_0330\"\n",
    "pf = plan_factors_class.PlanFactors()\n",
    "pf.load_raw_data(raw_data_folder_path=raw_data_folder_path)"
   ]
  },
  {
   "cell_type": "code",
   "execution_count": null,
   "metadata": {},
   "outputs": [
    {
     "name": "stdout",
     "output_type": "stream",
     "text": [
      "Making new: plan_y_test (stop_0_1_window_-50cm_0cm)\n",
      "Removed 0 rows out of 768 rows where cur_ff was not visible bbas or nxt_ff was not visible both bbas and bsans\n",
      "shared_stops_near_ff_df has 768 rows\n",
      "Retrieving shared_stops_near_ff_df succeeded\n",
      "Retrieving stop_0_1_window_-50cm_0cm from all_monkey_data/planning/monkey_Bruno/data_0330/diff_in_curv_df/norm_opt_arc/test/stop_0_1_window_-50cm_0cm succeeded\n",
      "Retrieving Bruno_stop_0_1 from all_monkey_data/planning/monkey_Bruno/data_0330/heading_info_df/norm_opt_arc/test/Bruno_stop_0_1 succeeded\n",
      "Made plan_y_test and saved to all_monkey_data/planning/monkey_Bruno/data_0330/plan_y_df/norm_opt_arc/test/stop_0_1_window_-50cm_0cm\n",
      "Making new: plan_x_test (stop_0_1_window_-50cm_0cm)\n",
      "Retrieved ff_dataframe from all_monkey_data/processed_data/monkey_Bruno/data_0330/ff_dataframe.h5\n",
      "Made plan_x_test and saved to all_monkey_data/planning/monkey_Bruno/data_0330/plan_x_df/norm_opt_arc/test/stop_0_1_window_-50cm_0cm\n",
      "Making new: plan_y_ctrl (stop_0_1_window_-50cm_0cm)\n",
      "Retrieving stop_0_1_window_-50cm_0cm from all_monkey_data/planning/monkey_Bruno/data_0330/diff_in_curv_df/norm_opt_arc/control/stop_0_1_window_-50cm_0cm succeeded\n",
      "Retrieving Bruno_stop_0_1 from all_monkey_data/planning/monkey_Bruno/data_0330/heading_info_df/norm_opt_arc/control/Bruno_stop_0_1 succeeded\n",
      "Made plan_y_ctrl and saved to all_monkey_data/planning/monkey_Bruno/data_0330/plan_y_df/norm_opt_arc/control/stop_0_1_window_-50cm_0cm\n",
      "Making new: plan_x_ctrl (stop_0_1_window_-50cm_0cm)\n",
      "Made plan_x_ctrl and saved to all_monkey_data/planning/monkey_Bruno/data_0330/plan_x_df/norm_opt_arc/control/stop_0_1_window_-50cm_0cm\n"
     ]
    }
   ],
   "source": [
    "exists_ok = True\n",
    "exists_ok2 = True\n",
    "pf.make_plan_x_and_y_for_both_test_and_ctrl(plan_x_exists_ok=exists_ok2, \n",
    "                                            plan_y_exists_ok=exists_ok2,\n",
    "                                            already_made_ok=False, \n",
    "                                            heading_info_df_exists_ok=exists_ok,\n",
    "                                            stops_near_ff_df_exists_ok=exists_ok,\n",
    "                                            ref_point_mode='time after cur ff visible', \n",
    "                                            ref_point_value=0.1,\n",
    "                                            # ref_point_mode='distance', \n",
    "                                            # ref_point_value=-150,                                           \n",
    "                                            )\n",
    "\n",
    "## If using data across sessions\n",
    "# ps = monkey_plan_factors_x_sess_class.PlanAcrossSessions(monkey_name='monkey_Schro')\n",
    "# ps.initialize_monkey_sessions_df_for_one_monkey()\n",
    "# ps.get_plan_x_and_plan_y_across_sessions(exists_ok=True, plan_x_exists_ok=True, plan_y_exists_ok=True,\n",
    "#                                          ref_point_mode='time after cur ff visible', ref_point_value=0.1)\n",
    "# combd_plan_y_tc = ps.combd_plan_y_tc.copy().reset_index(drop=True)\n",
    "# combd_plan_x_tc = ps.combd_plan_x_tc.copy().reset_index(drop=True)\n",
    "# pf.plan_x_tc = combd_plan_x_tc.copy()\n",
    "# pf.plan_y_tc = combd_plan_y_tc.copy()"
   ]
  },
  {
   "cell_type": "code",
   "execution_count": 27,
   "metadata": {},
   "outputs": [],
   "source": [
    "ref_columns = [column for column in pf.plan_x_tc.columns if ('ref' in column) & ('cur_ff' in column)]"
   ]
  },
  {
   "cell_type": "code",
   "execution_count": 28,
   "metadata": {},
   "outputs": [],
   "source": [
    "x_columns = ['time_when_cur_ff_last_seen_rel_to_stop',\n",
    "            'left_eye_cur_ff_time_perc',\n",
    "            'right_eye_cur_ff_time_perc',\n",
    "            'left_eye_cur_ff_time_perc_10',\n",
    "            'right_eye_cur_ff_time_perc_10',\n",
    "            'LDy_Q1',\n",
    "            'LDy_median',\n",
    "            'LDy_Q3',\n",
    "            'LDz_Q1',\n",
    "            'LDz_median',\n",
    "            'LDz_Q3',\n",
    "            'RDy_Q1',\n",
    "            'RDy_median',\n",
    "            'RDy_Q3',\n",
    "            'RDz_Q1',\n",
    "            'monkey_speed_Q1',\n",
    "            'monkey_speed_median',\n",
    "            'monkey_speed_Q3',\n",
    "            'monkey_dw_Q1',\n",
    "            'monkey_dw_median',\n",
    "            'monkey_dw_Q3',\n",
    "            # 'cur_ff_angle_when_cur_ff_last_seen',\n",
    "            # 'cur_ff_distance_when_cur_ff_last_seen',\n",
    "            # 'traj_curv_when_cur_ff_last_seen',\n",
    "                ]"
   ]
  },
  {
   "cell_type": "code",
   "execution_count": 29,
   "metadata": {},
   "outputs": [],
   "source": [
    "cur_ff_cluster_columns = ['cur_ff_cluster_100_size',\n",
    "                            'cur_ff_cluster_100_EARLIEST_APPEAR_ff_angle',\n",
    "                            'cur_ff_cluster_100_EARLIEST_APPEAR_latest_vis_time',\n",
    "                            'cur_ff_cluster_100_EARLIEST_APPEAR_visible_duration_after_stop',\n",
    "                            'cur_ff_cluster_100_EARLIEST_APPEAR_visible_duration_before_stop',\n",
    "                            'cur_ff_cluster_100_LAST_DISP_earliest_vis_time',\n",
    "                            'cur_ff_cluster_100_LAST_DISP_ff_angle',\n",
    "                            'cur_ff_cluster_100_LAST_DISP_visible_duration_after_stop',\n",
    "                            'cur_ff_cluster_100_LAST_DISP_visible_duration_before_stop',\n",
    "                            'cur_ff_cluster_100_LONGEST_VIS_earliest_vis_time',\n",
    "                            'cur_ff_cluster_100_LONGEST_VIS_ff_angle',\n",
    "                            'cur_ff_cluster_100_LONGEST_VIS_latest_vis_time',\n",
    "                            'cur_ff_cluster_100_LONGEST_VIS_visible_duration_after_stop',\n",
    "                            'cur_ff_cluster_100_LONGEST_VIS_visible_duration_before_stop',\n",
    "                            'cur_ff_cluster_100_combd_min_ff_angle',\n",
    "                            'cur_ff_cluster_100_combd_max_ff_angle',\n",
    "                            'cur_ff_cluster_100_combd_median_ff_angle',\n",
    "                            'cur_ff_cluster_100_combd_median_ff_distance',\n",
    "                            'cur_ff_cluster_100_combd_earliest_vis_time',\n",
    "                            'cur_ff_cluster_100_combd_latest_vis_time',\n",
    "                            'cur_ff_cluster_100_combd_visible_duration',\n",
    "                            'cur_ff_cluster_100_combd_earliest_vis_time_after_stop',\n",
    "                            'cur_ff_cluster_100_combd_latest_vis_time_before_stop',\n",
    "                            #'cur_ff_cluster_100_EARLIEST_APPEAR_earliest_vis_time',\n",
    "                            #'cur_ff_cluster_100_LAST_DISP_latest_vis_time',                            \n",
    "                            ]"
   ]
  },
  {
   "cell_type": "code",
   "execution_count": 30,
   "metadata": {},
   "outputs": [],
   "source": [
    "curv_columns = ['ref_curv_of_traj',\n",
    "                'curv_mean',\n",
    "                'curv_std',\n",
    "                'curv_min',\n",
    "                'curv_Q1',\n",
    "                'curv_median',\n",
    "                'curv_Q3',\n",
    "                'curv_max']\n",
    "\n",
    "pf.plan_x_tc['d_heading_of_traj'] = pf.plan_y_tc['d_heading_of_traj'].values\n",
    "pf.plan_x_tc[curv_columns] = pf.plan_y_tc[curv_columns].values"
   ]
  },
  {
   "cell_type": "code",
   "execution_count": 31,
   "metadata": {},
   "outputs": [
    {
     "data": {
      "text/html": [
       "<div>\n",
       "<style scoped>\n",
       "    .dataframe tbody tr th:only-of-type {\n",
       "        vertical-align: middle;\n",
       "    }\n",
       "\n",
       "    .dataframe tbody tr th {\n",
       "        vertical-align: top;\n",
       "    }\n",
       "\n",
       "    .dataframe thead th {\n",
       "        text-align: right;\n",
       "    }\n",
       "</style>\n",
       "<table border=\"1\" class=\"dataframe\">\n",
       "  <thead>\n",
       "    <tr style=\"text-align: right;\">\n",
       "      <th></th>\n",
       "      <th>Unnamed: 0_x</th>\n",
       "      <th>stop_point_index</th>\n",
       "      <th>stop_x</th>\n",
       "      <th>stop_y</th>\n",
       "      <th>stop_time</th>\n",
       "      <th>cur_ff_index</th>\n",
       "      <th>cur_ff_x</th>\n",
       "      <th>cur_ff_y</th>\n",
       "      <th>cur_ff_cluster_50_size</th>\n",
       "      <th>point_index_before_stop</th>\n",
       "      <th>...</th>\n",
       "      <th>curv_range</th>\n",
       "      <th>curv_of_traj_before_stop</th>\n",
       "      <th>dir_from_cur_ff_to_stop</th>\n",
       "      <th>dir_from_cur_ff_to_nxt_ff</th>\n",
       "      <th>dir_from_cur_ff_same_side</th>\n",
       "      <th>stop_monkey_angle</th>\n",
       "      <th>ff_index</th>\n",
       "      <th>monkey_angle_when_cur_ff_first_seen</th>\n",
       "      <th>d_monkey_angle_since_cur_ff_first_seen</th>\n",
       "      <th>d_monkey_angle2</th>\n",
       "    </tr>\n",
       "  </thead>\n",
       "  <tbody>\n",
       "    <tr>\n",
       "      <th>0</th>\n",
       "      <td>0</td>\n",
       "      <td>2503</td>\n",
       "      <td>-433.06229</td>\n",
       "      <td>602.12744</td>\n",
       "      <td>41.50749</td>\n",
       "      <td>4</td>\n",
       "      <td>-446.88085</td>\n",
       "      <td>592.35172</td>\n",
       "      <td>1</td>\n",
       "      <td>2500</td>\n",
       "      <td>...</td>\n",
       "      <td>33.59132</td>\n",
       "      <td>-2.92831</td>\n",
       "      <td>1.00000</td>\n",
       "      <td>1.00000</td>\n",
       "      <td>True</td>\n",
       "      <td>-112.50531</td>\n",
       "      <td>4</td>\n",
       "      <td>-111.03153</td>\n",
       "      <td>-1.47377</td>\n",
       "      <td>-1.47377</td>\n",
       "    </tr>\n",
       "    <tr>\n",
       "      <th>1</th>\n",
       "      <td>1</td>\n",
       "      <td>2999</td>\n",
       "      <td>-763.47937</td>\n",
       "      <td>-13.85253</td>\n",
       "      <td>49.67387</td>\n",
       "      <td>6</td>\n",
       "      <td>-753.11867</td>\n",
       "      <td>2.52438</td>\n",
       "      <td>3</td>\n",
       "      <td>2996</td>\n",
       "      <td>...</td>\n",
       "      <td>31.20417</td>\n",
       "      <td>2.64658</td>\n",
       "      <td>1.00000</td>\n",
       "      <td>1.00000</td>\n",
       "      <td>True</td>\n",
       "      <td>-171.81963</td>\n",
       "      <td>6</td>\n",
       "      <td>-109.06994</td>\n",
       "      <td>-62.74969</td>\n",
       "      <td>-62.74969</td>\n",
       "    </tr>\n",
       "    <tr>\n",
       "      <th>2</th>\n",
       "      <td>2</td>\n",
       "      <td>3951</td>\n",
       "      <td>104.95657</td>\n",
       "      <td>-307.42874</td>\n",
       "      <td>65.36082</td>\n",
       "      <td>11</td>\n",
       "      <td>113.22026</td>\n",
       "      <td>-310.18456</td>\n",
       "      <td>1</td>\n",
       "      <td>3941</td>\n",
       "      <td>...</td>\n",
       "      <td>70.19715</td>\n",
       "      <td>7.31268</td>\n",
       "      <td>1.00000</td>\n",
       "      <td>1.00000</td>\n",
       "      <td>True</td>\n",
       "      <td>9.90621</td>\n",
       "      <td>11</td>\n",
       "      <td>-17.14412</td>\n",
       "      <td>27.05033</td>\n",
       "      <td>27.05033</td>\n",
       "    </tr>\n",
       "    <tr>\n",
       "      <th>3</th>\n",
       "      <td>3</td>\n",
       "      <td>5055</td>\n",
       "      <td>127.16178</td>\n",
       "      <td>-542.22852</td>\n",
       "      <td>83.50472</td>\n",
       "      <td>18</td>\n",
       "      <td>131.63195</td>\n",
       "      <td>-530.31068</td>\n",
       "      <td>3</td>\n",
       "      <td>5044</td>\n",
       "      <td>...</td>\n",
       "      <td>54.55641</td>\n",
       "      <td>-9.98011</td>\n",
       "      <td>1.00000</td>\n",
       "      <td>-1.00000</td>\n",
       "      <td>False</td>\n",
       "      <td>129.95833</td>\n",
       "      <td>18</td>\n",
       "      <td>140.19407</td>\n",
       "      <td>-10.23574</td>\n",
       "      <td>-10.23574</td>\n",
       "    </tr>\n",
       "    <tr>\n",
       "      <th>4</th>\n",
       "      <td>4</td>\n",
       "      <td>5735</td>\n",
       "      <td>-361.20291</td>\n",
       "      <td>278.34418</td>\n",
       "      <td>94.69295</td>\n",
       "      <td>21</td>\n",
       "      <td>-359.71076</td>\n",
       "      <td>296.68735</td>\n",
       "      <td>2</td>\n",
       "      <td>5726</td>\n",
       "      <td>...</td>\n",
       "      <td>30.88747</td>\n",
       "      <td>9.46679</td>\n",
       "      <td>1.00000</td>\n",
       "      <td>1.00000</td>\n",
       "      <td>True</td>\n",
       "      <td>141.65235</td>\n",
       "      <td>21</td>\n",
       "      <td>129.36027</td>\n",
       "      <td>12.29209</td>\n",
       "      <td>12.29209</td>\n",
       "    </tr>\n",
       "    <tr>\n",
       "      <th>...</th>\n",
       "      <td>...</td>\n",
       "      <td>...</td>\n",
       "      <td>...</td>\n",
       "      <td>...</td>\n",
       "      <td>...</td>\n",
       "      <td>...</td>\n",
       "      <td>...</td>\n",
       "      <td>...</td>\n",
       "      <td>...</td>\n",
       "      <td>...</td>\n",
       "      <td>...</td>\n",
       "      <td>...</td>\n",
       "      <td>...</td>\n",
       "      <td>...</td>\n",
       "      <td>...</td>\n",
       "      <td>...</td>\n",
       "      <td>...</td>\n",
       "      <td>...</td>\n",
       "      <td>...</td>\n",
       "      <td>...</td>\n",
       "      <td>...</td>\n",
       "    </tr>\n",
       "    <tr>\n",
       "      <th>354</th>\n",
       "      <td>354</td>\n",
       "      <td>216726</td>\n",
       "      <td>-310.44589</td>\n",
       "      <td>183.44917</td>\n",
       "      <td>3560.22607</td>\n",
       "      <td>1325</td>\n",
       "      <td>-328.62235</td>\n",
       "      <td>184.86476</td>\n",
       "      <td>1</td>\n",
       "      <td>216724</td>\n",
       "      <td>...</td>\n",
       "      <td>35.33994</td>\n",
       "      <td>-6.92619</td>\n",
       "      <td>1.00000</td>\n",
       "      <td>-1.00000</td>\n",
       "      <td>False</td>\n",
       "      <td>-7.53996</td>\n",
       "      <td>1325</td>\n",
       "      <td>39.85569</td>\n",
       "      <td>-47.39565</td>\n",
       "      <td>-47.39565</td>\n",
       "    </tr>\n",
       "    <tr>\n",
       "      <th>355</th>\n",
       "      <td>355</td>\n",
       "      <td>217179</td>\n",
       "      <td>-371.60754</td>\n",
       "      <td>-154.74327</td>\n",
       "      <td>3567.67960</td>\n",
       "      <td>1327</td>\n",
       "      <td>-369.87269</td>\n",
       "      <td>-146.21914</td>\n",
       "      <td>2</td>\n",
       "      <td>217177</td>\n",
       "      <td>...</td>\n",
       "      <td>26.38063</td>\n",
       "      <td>23.90106</td>\n",
       "      <td>1.00000</td>\n",
       "      <td>-1.00000</td>\n",
       "      <td>False</td>\n",
       "      <td>-126.49325</td>\n",
       "      <td>1327</td>\n",
       "      <td>-178.06028</td>\n",
       "      <td>51.56703</td>\n",
       "      <td>51.77356</td>\n",
       "    </tr>\n",
       "    <tr>\n",
       "      <th>356</th>\n",
       "      <td>356</td>\n",
       "      <td>217302</td>\n",
       "      <td>-505.50034</td>\n",
       "      <td>-314.12781</td>\n",
       "      <td>3569.68789</td>\n",
       "      <td>1328</td>\n",
       "      <td>-506.24008</td>\n",
       "      <td>-327.66915</td>\n",
       "      <td>1</td>\n",
       "      <td>217299</td>\n",
       "      <td>...</td>\n",
       "      <td>17.25755</td>\n",
       "      <td>16.61073</td>\n",
       "      <td>-1.00000</td>\n",
       "      <td>1.00000</td>\n",
       "      <td>False</td>\n",
       "      <td>-126.46142</td>\n",
       "      <td>1328</td>\n",
       "      <td>-126.49315</td>\n",
       "      <td>0.03172</td>\n",
       "      <td>0.03172</td>\n",
       "    </tr>\n",
       "    <tr>\n",
       "      <th>357</th>\n",
       "      <td>357</td>\n",
       "      <td>217454</td>\n",
       "      <td>-573.21747</td>\n",
       "      <td>-621.61487</td>\n",
       "      <td>3572.17792</td>\n",
       "      <td>1329</td>\n",
       "      <td>-582.29505</td>\n",
       "      <td>-610.76114</td>\n",
       "      <td>1</td>\n",
       "      <td>217452</td>\n",
       "      <td>...</td>\n",
       "      <td>15.48519</td>\n",
       "      <td>15.50771</td>\n",
       "      <td>1.00000</td>\n",
       "      <td>1.00000</td>\n",
       "      <td>True</td>\n",
       "      <td>-85.60319</td>\n",
       "      <td>1329</td>\n",
       "      <td>-125.60703</td>\n",
       "      <td>40.00384</td>\n",
       "      <td>40.00384</td>\n",
       "    </tr>\n",
       "    <tr>\n",
       "      <th>358</th>\n",
       "      <td>358</td>\n",
       "      <td>218083</td>\n",
       "      <td>-41.97063</td>\n",
       "      <td>276.15713</td>\n",
       "      <td>3582.53608</td>\n",
       "      <td>1332</td>\n",
       "      <td>-32.34992</td>\n",
       "      <td>276.49401</td>\n",
       "      <td>2</td>\n",
       "      <td>218082</td>\n",
       "      <td>...</td>\n",
       "      <td>53.75593</td>\n",
       "      <td>18.77157</td>\n",
       "      <td>1.00000</td>\n",
       "      <td>-1.00000</td>\n",
       "      <td>False</td>\n",
       "      <td>31.80799</td>\n",
       "      <td>1332</td>\n",
       "      <td>10.48414</td>\n",
       "      <td>21.32385</td>\n",
       "      <td>21.32385</td>\n",
       "    </tr>\n",
       "  </tbody>\n",
       "</table>\n",
       "<p>359 rows × 82 columns</p>\n",
       "</div>"
      ],
      "text/plain": [
       "     Unnamed: 0_x  stop_point_index     stop_x     stop_y  stop_time  \\\n",
       "0               0              2503 -433.06229  602.12744   41.50749   \n",
       "1               1              2999 -763.47937  -13.85253   49.67387   \n",
       "2               2              3951  104.95657 -307.42874   65.36082   \n",
       "3               3              5055  127.16178 -542.22852   83.50472   \n",
       "4               4              5735 -361.20291  278.34418   94.69295   \n",
       "..            ...               ...        ...        ...        ...   \n",
       "354           354            216726 -310.44589  183.44917 3560.22607   \n",
       "355           355            217179 -371.60754 -154.74327 3567.67960   \n",
       "356           356            217302 -505.50034 -314.12781 3569.68789   \n",
       "357           357            217454 -573.21747 -621.61487 3572.17792   \n",
       "358           358            218083  -41.97063  276.15713 3582.53608   \n",
       "\n",
       "     cur_ff_index   cur_ff_x   cur_ff_y  cur_ff_cluster_50_size  \\\n",
       "0               4 -446.88085  592.35172                       1   \n",
       "1               6 -753.11867    2.52438                       3   \n",
       "2              11  113.22026 -310.18456                       1   \n",
       "3              18  131.63195 -530.31068                       3   \n",
       "4              21 -359.71076  296.68735                       2   \n",
       "..            ...        ...        ...                     ...   \n",
       "354          1325 -328.62235  184.86476                       1   \n",
       "355          1327 -369.87269 -146.21914                       2   \n",
       "356          1328 -506.24008 -327.66915                       1   \n",
       "357          1329 -582.29505 -610.76114                       1   \n",
       "358          1332  -32.34992  276.49401                       2   \n",
       "\n",
       "     point_index_before_stop  ...  curv_range  curv_of_traj_before_stop  \\\n",
       "0                       2500  ...    33.59132                  -2.92831   \n",
       "1                       2996  ...    31.20417                   2.64658   \n",
       "2                       3941  ...    70.19715                   7.31268   \n",
       "3                       5044  ...    54.55641                  -9.98011   \n",
       "4                       5726  ...    30.88747                   9.46679   \n",
       "..                       ...  ...         ...                       ...   \n",
       "354                   216724  ...    35.33994                  -6.92619   \n",
       "355                   217177  ...    26.38063                  23.90106   \n",
       "356                   217299  ...    17.25755                  16.61073   \n",
       "357                   217452  ...    15.48519                  15.50771   \n",
       "358                   218082  ...    53.75593                  18.77157   \n",
       "\n",
       "     dir_from_cur_ff_to_stop  dir_from_cur_ff_to_nxt_ff  \\\n",
       "0                    1.00000                    1.00000   \n",
       "1                    1.00000                    1.00000   \n",
       "2                    1.00000                    1.00000   \n",
       "3                    1.00000                   -1.00000   \n",
       "4                    1.00000                    1.00000   \n",
       "..                       ...                        ...   \n",
       "354                  1.00000                   -1.00000   \n",
       "355                  1.00000                   -1.00000   \n",
       "356                 -1.00000                    1.00000   \n",
       "357                  1.00000                    1.00000   \n",
       "358                  1.00000                   -1.00000   \n",
       "\n",
       "     dir_from_cur_ff_same_side  stop_monkey_angle  ff_index  \\\n",
       "0                         True         -112.50531         4   \n",
       "1                         True         -171.81963         6   \n",
       "2                         True            9.90621        11   \n",
       "3                        False          129.95833        18   \n",
       "4                         True          141.65235        21   \n",
       "..                         ...                ...       ...   \n",
       "354                      False           -7.53996      1325   \n",
       "355                      False         -126.49325      1327   \n",
       "356                      False         -126.46142      1328   \n",
       "357                       True          -85.60319      1329   \n",
       "358                      False           31.80799      1332   \n",
       "\n",
       "     monkey_angle_when_cur_ff_first_seen  \\\n",
       "0                             -111.03153   \n",
       "1                             -109.06994   \n",
       "2                              -17.14412   \n",
       "3                              140.19407   \n",
       "4                              129.36027   \n",
       "..                                   ...   \n",
       "354                             39.85569   \n",
       "355                           -178.06028   \n",
       "356                           -126.49315   \n",
       "357                           -125.60703   \n",
       "358                             10.48414   \n",
       "\n",
       "     d_monkey_angle_since_cur_ff_first_seen  d_monkey_angle2  \n",
       "0                                  -1.47377         -1.47377  \n",
       "1                                 -62.74969        -62.74969  \n",
       "2                                  27.05033         27.05033  \n",
       "3                                 -10.23574        -10.23574  \n",
       "4                                  12.29209         12.29209  \n",
       "..                                      ...              ...  \n",
       "354                               -47.39565        -47.39565  \n",
       "355                                51.56703         51.77356  \n",
       "356                                 0.03172          0.03172  \n",
       "357                                40.00384         40.00384  \n",
       "358                                21.32385         21.32385  \n",
       "\n",
       "[359 rows x 82 columns]"
      ]
     },
     "execution_count": 31,
     "metadata": {},
     "output_type": "execute_result"
    }
   ],
   "source": [
    "pf.plan_y_test"
   ]
  },
  {
   "cell_type": "code",
   "execution_count": 32,
   "metadata": {},
   "outputs": [
    {
     "data": {
      "text/html": [
       "<div>\n",
       "<style scoped>\n",
       "    .dataframe tbody tr th:only-of-type {\n",
       "        vertical-align: middle;\n",
       "    }\n",
       "\n",
       "    .dataframe tbody tr th {\n",
       "        vertical-align: top;\n",
       "    }\n",
       "\n",
       "    .dataframe thead th {\n",
       "        text-align: right;\n",
       "    }\n",
       "</style>\n",
       "<table border=\"1\" class=\"dataframe\">\n",
       "  <thead>\n",
       "    <tr style=\"text-align: right;\">\n",
       "      <th></th>\n",
       "      <th>cur_ff_cluster_100_EARLIEST_VIS_ff_distance</th>\n",
       "      <th>cur_ff_cluster_100_EARLIEST_VIS_ff_angle</th>\n",
       "      <th>cur_ff_cluster_100_EARLIEST_VIS_ff_angle_boundary</th>\n",
       "      <th>cur_ff_cluster_100_EARLIEST_VIS_angle_diff_boundary</th>\n",
       "      <th>cur_ff_cluster_100_EARLIEST_VIS_earliest_vis_rel_time</th>\n",
       "      <th>cur_ff_cluster_100_EARLIEST_VIS_latest_vis_rel_time</th>\n",
       "      <th>cur_ff_cluster_100_EARLIEST_VIS_vis_duration</th>\n",
       "      <th>cur_ff_cluster_100_LATEST_VIS_ff_distance</th>\n",
       "      <th>cur_ff_cluster_100_LATEST_VIS_ff_angle</th>\n",
       "      <th>cur_ff_cluster_100_LATEST_VIS_ff_angle_boundary</th>\n",
       "      <th>...</th>\n",
       "      <th>RDz_iqr</th>\n",
       "      <th>left_eye_cur_ff_time_perc_5</th>\n",
       "      <th>left_eye_cur_ff_time_perc_10</th>\n",
       "      <th>left_eye_nxt_ff_time_perc_5</th>\n",
       "      <th>left_eye_nxt_ff_time_perc_10</th>\n",
       "      <th>right_eye_cur_ff_time_perc_5</th>\n",
       "      <th>right_eye_cur_ff_time_perc_10</th>\n",
       "      <th>right_eye_nxt_ff_time_perc_5</th>\n",
       "      <th>right_eye_nxt_ff_time_perc_10</th>\n",
       "      <th>dt</th>\n",
       "    </tr>\n",
       "  </thead>\n",
       "  <tbody>\n",
       "    <tr>\n",
       "      <th>0</th>\n",
       "      <td>146.27166</td>\n",
       "      <td>-0.02763</td>\n",
       "      <td>-0.00000</td>\n",
       "      <td>-0.02763</td>\n",
       "      <td>1.53527</td>\n",
       "      <td>3.31148</td>\n",
       "      <td>0.59753</td>\n",
       "      <td>146.27166</td>\n",
       "      <td>-0.02763</td>\n",
       "      <td>-0.00000</td>\n",
       "      <td>...</td>\n",
       "      <td>11.28174</td>\n",
       "      <td>0.40495</td>\n",
       "      <td>0.60338</td>\n",
       "      <td>0.34705</td>\n",
       "      <td>0.80993</td>\n",
       "      <td>0.50419</td>\n",
       "      <td>0.60277</td>\n",
       "      <td>0.27213</td>\n",
       "      <td>0.84306</td>\n",
       "      <td>2.00838</td>\n",
       "    </tr>\n",
       "    <tr>\n",
       "      <th>1</th>\n",
       "      <td>224.61137</td>\n",
       "      <td>-0.59803</td>\n",
       "      <td>-0.55349</td>\n",
       "      <td>-0.04454</td>\n",
       "      <td>2.51542</td>\n",
       "      <td>2.74770</td>\n",
       "      <td>0.24895</td>\n",
       "      <td>224.61137</td>\n",
       "      <td>-0.59803</td>\n",
       "      <td>-0.55349</td>\n",
       "      <td>...</td>\n",
       "      <td>3.49487</td>\n",
       "      <td>0.00000</td>\n",
       "      <td>0.00000</td>\n",
       "      <td>0.04130</td>\n",
       "      <td>0.08265</td>\n",
       "      <td>0.00000</td>\n",
       "      <td>0.00000</td>\n",
       "      <td>0.04959</td>\n",
       "      <td>0.09089</td>\n",
       "      <td>2.00807</td>\n",
       "    </tr>\n",
       "    <tr>\n",
       "      <th>2</th>\n",
       "      <td>131.56637</td>\n",
       "      <td>0.25878</td>\n",
       "      <td>0.18270</td>\n",
       "      <td>0.07608</td>\n",
       "      <td>0.17437</td>\n",
       "      <td>0.45655</td>\n",
       "      <td>0.29879</td>\n",
       "      <td>131.56637</td>\n",
       "      <td>0.25878</td>\n",
       "      <td>0.18270</td>\n",
       "      <td>...</td>\n",
       "      <td>2.77588</td>\n",
       "      <td>0.24809</td>\n",
       "      <td>0.32232</td>\n",
       "      <td>0.00000</td>\n",
       "      <td>0.00000</td>\n",
       "      <td>0.26455</td>\n",
       "      <td>0.33887</td>\n",
       "      <td>0.00000</td>\n",
       "      <td>0.00000</td>\n",
       "      <td>2.00806</td>\n",
       "    </tr>\n",
       "    <tr>\n",
       "      <th>3</th>\n",
       "      <td>58.20166</td>\n",
       "      <td>-0.37709</td>\n",
       "      <td>-0.20442</td>\n",
       "      <td>-0.17267</td>\n",
       "      <td>1.50204</td>\n",
       "      <td>1.78427</td>\n",
       "      <td>0.29880</td>\n",
       "      <td>58.20166</td>\n",
       "      <td>-0.37709</td>\n",
       "      <td>-0.20442</td>\n",
       "      <td>...</td>\n",
       "      <td>6.07971</td>\n",
       "      <td>0.00000</td>\n",
       "      <td>0.00000</td>\n",
       "      <td>0.00829</td>\n",
       "      <td>0.00829</td>\n",
       "      <td>0.00000</td>\n",
       "      <td>0.11571</td>\n",
       "      <td>0.01653</td>\n",
       "      <td>0.01653</td>\n",
       "      <td>2.00884</td>\n",
       "    </tr>\n",
       "    <tr>\n",
       "      <th>4</th>\n",
       "      <td>179.67625</td>\n",
       "      <td>0.22588</td>\n",
       "      <td>0.17020</td>\n",
       "      <td>0.05568</td>\n",
       "      <td>2.35739</td>\n",
       "      <td>2.36521</td>\n",
       "      <td>0.02440</td>\n",
       "      <td>179.67625</td>\n",
       "      <td>0.22588</td>\n",
       "      <td>0.17020</td>\n",
       "      <td>...</td>\n",
       "      <td>3.01758</td>\n",
       "      <td>0.07419</td>\n",
       "      <td>0.19016</td>\n",
       "      <td>0.05779</td>\n",
       "      <td>0.14044</td>\n",
       "      <td>0.02479</td>\n",
       "      <td>0.16524</td>\n",
       "      <td>0.04957</td>\n",
       "      <td>0.11564</td>\n",
       "      <td>2.00867</td>\n",
       "    </tr>\n",
       "    <tr>\n",
       "      <th>...</th>\n",
       "      <td>...</td>\n",
       "      <td>...</td>\n",
       "      <td>...</td>\n",
       "      <td>...</td>\n",
       "      <td>...</td>\n",
       "      <td>...</td>\n",
       "      <td>...</td>\n",
       "      <td>...</td>\n",
       "      <td>...</td>\n",
       "      <td>...</td>\n",
       "      <td>...</td>\n",
       "      <td>...</td>\n",
       "      <td>...</td>\n",
       "      <td>...</td>\n",
       "      <td>...</td>\n",
       "      <td>...</td>\n",
       "      <td>...</td>\n",
       "      <td>...</td>\n",
       "      <td>...</td>\n",
       "      <td>...</td>\n",
       "      <td>...</td>\n",
       "    </tr>\n",
       "    <tr>\n",
       "      <th>354</th>\n",
       "      <td>111.12312</td>\n",
       "      <td>-0.48615</td>\n",
       "      <td>-0.39604</td>\n",
       "      <td>-0.09011</td>\n",
       "      <td>0.45622</td>\n",
       "      <td>0.73844</td>\n",
       "      <td>0.29887</td>\n",
       "      <td>111.12312</td>\n",
       "      <td>-0.48615</td>\n",
       "      <td>-0.39604</td>\n",
       "      <td>...</td>\n",
       "      <td>0.83740</td>\n",
       "      <td>0.04133</td>\n",
       "      <td>0.09090</td>\n",
       "      <td>0.11570</td>\n",
       "      <td>0.15704</td>\n",
       "      <td>0.05786</td>\n",
       "      <td>0.22313</td>\n",
       "      <td>0.13224</td>\n",
       "      <td>0.16531</td>\n",
       "      <td>2.00859</td>\n",
       "    </tr>\n",
       "    <tr>\n",
       "      <th>355</th>\n",
       "      <td>163.81830</td>\n",
       "      <td>0.32685</td>\n",
       "      <td>0.26577</td>\n",
       "      <td>0.06108</td>\n",
       "      <td>0.05755</td>\n",
       "      <td>1.75076</td>\n",
       "      <td>0.59766</td>\n",
       "      <td>163.81830</td>\n",
       "      <td>0.32685</td>\n",
       "      <td>0.26577</td>\n",
       "      <td>...</td>\n",
       "      <td>7.76489</td>\n",
       "      <td>0.35533</td>\n",
       "      <td>0.51235</td>\n",
       "      <td>0.00000</td>\n",
       "      <td>0.03306</td>\n",
       "      <td>0.06609</td>\n",
       "      <td>0.45455</td>\n",
       "      <td>0.00000</td>\n",
       "      <td>0.00811</td>\n",
       "      <td>2.00851</td>\n",
       "    </tr>\n",
       "    <tr>\n",
       "      <th>356</th>\n",
       "      <td>220.68526</td>\n",
       "      <td>-0.02427</td>\n",
       "      <td>-0.00000</td>\n",
       "      <td>-0.02427</td>\n",
       "      <td>0.00800</td>\n",
       "      <td>1.41903</td>\n",
       "      <td>0.34864</td>\n",
       "      <td>220.68526</td>\n",
       "      <td>-0.02427</td>\n",
       "      <td>-0.00000</td>\n",
       "      <td>...</td>\n",
       "      <td>5.23987</td>\n",
       "      <td>0.14048</td>\n",
       "      <td>0.20675</td>\n",
       "      <td>0.39670</td>\n",
       "      <td>0.42136</td>\n",
       "      <td>0.19821</td>\n",
       "      <td>0.54536</td>\n",
       "      <td>0.14223</td>\n",
       "      <td>0.35555</td>\n",
       "      <td>2.00860</td>\n",
       "    </tr>\n",
       "    <tr>\n",
       "      <th>357</th>\n",
       "      <td>302.39590</td>\n",
       "      <td>0.36922</td>\n",
       "      <td>0.33614</td>\n",
       "      <td>0.03308</td>\n",
       "      <td>0.00797</td>\n",
       "      <td>0.83797</td>\n",
       "      <td>0.39835</td>\n",
       "      <td>302.39590</td>\n",
       "      <td>0.36922</td>\n",
       "      <td>0.33614</td>\n",
       "      <td>...</td>\n",
       "      <td>2.10449</td>\n",
       "      <td>0.23141</td>\n",
       "      <td>0.33884</td>\n",
       "      <td>0.00000</td>\n",
       "      <td>0.09090</td>\n",
       "      <td>0.21486</td>\n",
       "      <td>0.32235</td>\n",
       "      <td>0.00000</td>\n",
       "      <td>0.00000</td>\n",
       "      <td>2.00855</td>\n",
       "    </tr>\n",
       "    <tr>\n",
       "      <th>358</th>\n",
       "      <td>127.58439</td>\n",
       "      <td>0.14684</td>\n",
       "      <td>0.06838</td>\n",
       "      <td>0.07846</td>\n",
       "      <td>0.86371</td>\n",
       "      <td>1.15344</td>\n",
       "      <td>0.30629</td>\n",
       "      <td>127.58439</td>\n",
       "      <td>0.14684</td>\n",
       "      <td>0.06838</td>\n",
       "      <td>...</td>\n",
       "      <td>4.54163</td>\n",
       "      <td>0.08266</td>\n",
       "      <td>0.21475</td>\n",
       "      <td>0.06604</td>\n",
       "      <td>0.29733</td>\n",
       "      <td>0.05782</td>\n",
       "      <td>0.14043</td>\n",
       "      <td>0.09907</td>\n",
       "      <td>0.28099</td>\n",
       "      <td>2.00888</td>\n",
       "    </tr>\n",
       "  </tbody>\n",
       "</table>\n",
       "<p>359 rows × 331 columns</p>\n",
       "</div>"
      ],
      "text/plain": [
       "     cur_ff_cluster_100_EARLIEST_VIS_ff_distance  \\\n",
       "0                                      146.27166   \n",
       "1                                      224.61137   \n",
       "2                                      131.56637   \n",
       "3                                       58.20166   \n",
       "4                                      179.67625   \n",
       "..                                           ...   \n",
       "354                                    111.12312   \n",
       "355                                    163.81830   \n",
       "356                                    220.68526   \n",
       "357                                    302.39590   \n",
       "358                                    127.58439   \n",
       "\n",
       "     cur_ff_cluster_100_EARLIEST_VIS_ff_angle  \\\n",
       "0                                    -0.02763   \n",
       "1                                    -0.59803   \n",
       "2                                     0.25878   \n",
       "3                                    -0.37709   \n",
       "4                                     0.22588   \n",
       "..                                        ...   \n",
       "354                                  -0.48615   \n",
       "355                                   0.32685   \n",
       "356                                  -0.02427   \n",
       "357                                   0.36922   \n",
       "358                                   0.14684   \n",
       "\n",
       "     cur_ff_cluster_100_EARLIEST_VIS_ff_angle_boundary  \\\n",
       "0                                             -0.00000   \n",
       "1                                             -0.55349   \n",
       "2                                              0.18270   \n",
       "3                                             -0.20442   \n",
       "4                                              0.17020   \n",
       "..                                                 ...   \n",
       "354                                           -0.39604   \n",
       "355                                            0.26577   \n",
       "356                                           -0.00000   \n",
       "357                                            0.33614   \n",
       "358                                            0.06838   \n",
       "\n",
       "     cur_ff_cluster_100_EARLIEST_VIS_angle_diff_boundary  \\\n",
       "0                                             -0.02763     \n",
       "1                                             -0.04454     \n",
       "2                                              0.07608     \n",
       "3                                             -0.17267     \n",
       "4                                              0.05568     \n",
       "..                                                 ...     \n",
       "354                                           -0.09011     \n",
       "355                                            0.06108     \n",
       "356                                           -0.02427     \n",
       "357                                            0.03308     \n",
       "358                                            0.07846     \n",
       "\n",
       "     cur_ff_cluster_100_EARLIEST_VIS_earliest_vis_rel_time  \\\n",
       "0                                              1.53527       \n",
       "1                                              2.51542       \n",
       "2                                              0.17437       \n",
       "3                                              1.50204       \n",
       "4                                              2.35739       \n",
       "..                                                 ...       \n",
       "354                                            0.45622       \n",
       "355                                            0.05755       \n",
       "356                                            0.00800       \n",
       "357                                            0.00797       \n",
       "358                                            0.86371       \n",
       "\n",
       "     cur_ff_cluster_100_EARLIEST_VIS_latest_vis_rel_time  \\\n",
       "0                                              3.31148     \n",
       "1                                              2.74770     \n",
       "2                                              0.45655     \n",
       "3                                              1.78427     \n",
       "4                                              2.36521     \n",
       "..                                                 ...     \n",
       "354                                            0.73844     \n",
       "355                                            1.75076     \n",
       "356                                            1.41903     \n",
       "357                                            0.83797     \n",
       "358                                            1.15344     \n",
       "\n",
       "     cur_ff_cluster_100_EARLIEST_VIS_vis_duration  \\\n",
       "0                                         0.59753   \n",
       "1                                         0.24895   \n",
       "2                                         0.29879   \n",
       "3                                         0.29880   \n",
       "4                                         0.02440   \n",
       "..                                            ...   \n",
       "354                                       0.29887   \n",
       "355                                       0.59766   \n",
       "356                                       0.34864   \n",
       "357                                       0.39835   \n",
       "358                                       0.30629   \n",
       "\n",
       "     cur_ff_cluster_100_LATEST_VIS_ff_distance  \\\n",
       "0                                    146.27166   \n",
       "1                                    224.61137   \n",
       "2                                    131.56637   \n",
       "3                                     58.20166   \n",
       "4                                    179.67625   \n",
       "..                                         ...   \n",
       "354                                  111.12312   \n",
       "355                                  163.81830   \n",
       "356                                  220.68526   \n",
       "357                                  302.39590   \n",
       "358                                  127.58439   \n",
       "\n",
       "     cur_ff_cluster_100_LATEST_VIS_ff_angle  \\\n",
       "0                                  -0.02763   \n",
       "1                                  -0.59803   \n",
       "2                                   0.25878   \n",
       "3                                  -0.37709   \n",
       "4                                   0.22588   \n",
       "..                                      ...   \n",
       "354                                -0.48615   \n",
       "355                                 0.32685   \n",
       "356                                -0.02427   \n",
       "357                                 0.36922   \n",
       "358                                 0.14684   \n",
       "\n",
       "     cur_ff_cluster_100_LATEST_VIS_ff_angle_boundary  ...  RDz_iqr  \\\n",
       "0                                           -0.00000  ... 11.28174   \n",
       "1                                           -0.55349  ...  3.49487   \n",
       "2                                            0.18270  ...  2.77588   \n",
       "3                                           -0.20442  ...  6.07971   \n",
       "4                                            0.17020  ...  3.01758   \n",
       "..                                               ...  ...      ...   \n",
       "354                                         -0.39604  ...  0.83740   \n",
       "355                                          0.26577  ...  7.76489   \n",
       "356                                         -0.00000  ...  5.23987   \n",
       "357                                          0.33614  ...  2.10449   \n",
       "358                                          0.06838  ...  4.54163   \n",
       "\n",
       "     left_eye_cur_ff_time_perc_5  left_eye_cur_ff_time_perc_10  \\\n",
       "0                        0.40495                       0.60338   \n",
       "1                        0.00000                       0.00000   \n",
       "2                        0.24809                       0.32232   \n",
       "3                        0.00000                       0.00000   \n",
       "4                        0.07419                       0.19016   \n",
       "..                           ...                           ...   \n",
       "354                      0.04133                       0.09090   \n",
       "355                      0.35533                       0.51235   \n",
       "356                      0.14048                       0.20675   \n",
       "357                      0.23141                       0.33884   \n",
       "358                      0.08266                       0.21475   \n",
       "\n",
       "     left_eye_nxt_ff_time_perc_5  left_eye_nxt_ff_time_perc_10  \\\n",
       "0                        0.34705                       0.80993   \n",
       "1                        0.04130                       0.08265   \n",
       "2                        0.00000                       0.00000   \n",
       "3                        0.00829                       0.00829   \n",
       "4                        0.05779                       0.14044   \n",
       "..                           ...                           ...   \n",
       "354                      0.11570                       0.15704   \n",
       "355                      0.00000                       0.03306   \n",
       "356                      0.39670                       0.42136   \n",
       "357                      0.00000                       0.09090   \n",
       "358                      0.06604                       0.29733   \n",
       "\n",
       "     right_eye_cur_ff_time_perc_5  right_eye_cur_ff_time_perc_10  \\\n",
       "0                         0.50419                        0.60277   \n",
       "1                         0.00000                        0.00000   \n",
       "2                         0.26455                        0.33887   \n",
       "3                         0.00000                        0.11571   \n",
       "4                         0.02479                        0.16524   \n",
       "..                            ...                            ...   \n",
       "354                       0.05786                        0.22313   \n",
       "355                       0.06609                        0.45455   \n",
       "356                       0.19821                        0.54536   \n",
       "357                       0.21486                        0.32235   \n",
       "358                       0.05782                        0.14043   \n",
       "\n",
       "     right_eye_nxt_ff_time_perc_5  right_eye_nxt_ff_time_perc_10      dt  \n",
       "0                         0.27213                        0.84306 2.00838  \n",
       "1                         0.04959                        0.09089 2.00807  \n",
       "2                         0.00000                        0.00000 2.00806  \n",
       "3                         0.01653                        0.01653 2.00884  \n",
       "4                         0.04957                        0.11564 2.00867  \n",
       "..                            ...                            ...     ...  \n",
       "354                       0.13224                        0.16531 2.00859  \n",
       "355                       0.00000                        0.00811 2.00851  \n",
       "356                       0.14223                        0.35555 2.00860  \n",
       "357                       0.00000                        0.00000 2.00855  \n",
       "358                       0.09907                        0.28099 2.00888  \n",
       "\n",
       "[359 rows x 331 columns]"
      ]
     },
     "execution_count": 32,
     "metadata": {},
     "output_type": "execute_result"
    }
   ],
   "source": [
    "pf.plan_x_test"
   ]
  },
  {
   "cell_type": "markdown",
   "metadata": {},
   "source": [
    "### Linear regression"
   ]
  },
  {
   "cell_type": "markdown",
   "metadata": {},
   "source": [
    "#### predict monkey vars"
   ]
  },
  {
   "cell_type": "code",
   "execution_count": 34,
   "metadata": {},
   "outputs": [],
   "source": [
    "pf._get_plan_x_and_y_combd()"
   ]
  },
  {
   "cell_type": "code",
   "execution_count": 40,
   "metadata": {},
   "outputs": [
    {
     "data": {
      "text/plain": [
       "(0, 331)"
      ]
     },
     "execution_count": 40,
     "metadata": {},
     "output_type": "execute_result"
    }
   ],
   "source": [
    "pf.plan_x_ctrl.shape"
   ]
  },
  {
   "cell_type": "code",
   "execution_count": null,
   "metadata": {},
   "outputs": [],
   "source": [
    "        plan_test = getattr(self, f'plan_{x_or_y}_test').reset_index(\n",
    "            drop=True).copy()\n",
    "        plan_ctrl = getattr(self, f'plan_{x_or_y}_ctrl').reset_index(\n",
    "            drop=True).copy()\n",
    "        plan_test['whether_test'] = 1\n",
    "        plan_ctrl['whether_test'] = 0"
   ]
  },
  {
   "cell_type": "code",
   "execution_count": 35,
   "metadata": {},
   "outputs": [
    {
     "data": {
      "text/plain": [
       "(369, 332)"
      ]
     },
     "execution_count": 35,
     "metadata": {},
     "output_type": "execute_result"
    }
   ],
   "source": [
    "pf.plan_x_tc.shape"
   ]
  },
  {
   "cell_type": "code",
   "execution_count": 36,
   "metadata": {},
   "outputs": [
    {
     "data": {
      "text/plain": [
       "(580, 81)"
      ]
     },
     "execution_count": 36,
     "metadata": {},
     "output_type": "execute_result"
    }
   ],
   "source": [
    "pf.plan_y_tc.shape"
   ]
  },
  {
   "cell_type": "code",
   "execution_count": null,
   "metadata": {},
   "outputs": [],
   "source": [
    "pf.plan_y_tc"
   ]
  },
  {
   "cell_type": "code",
   "execution_count": 30,
   "metadata": {},
   "outputs": [
    {
     "name": "stdout",
     "output_type": "stream",
     "text": [
      "y_var_column: curv_of_traj_before_stop\n"
     ]
    },
    {
     "ename": "ValueError",
     "evalue": "Found input variables with inconsistent numbers of samples: [369, 580]",
     "output_type": "error",
     "traceback": [
      "\u001b[0;31m---------------------------------------------------------------------------\u001b[0m",
      "\u001b[0;31mValueError\u001b[0m                                Traceback (most recent call last)",
      "Cell \u001b[0;32mIn[30], line 11\u001b[0m\n\u001b[1;32m      9\u001b[0m \u001b[38;5;28mprint\u001b[39m(\u001b[38;5;124m'\u001b[39m\u001b[38;5;124my_var_column:\u001b[39m\u001b[38;5;124m'\u001b[39m, y_var_column)\n\u001b[1;32m     10\u001b[0m pf\u001b[38;5;241m.\u001b[39mx_var_df, pf\u001b[38;5;241m.\u001b[39my_var_df \u001b[38;5;241m=\u001b[39m prep_ml_data_utils\u001b[38;5;241m.\u001b[39mmake_x_and_y_var_df(plan_x_tc, pf\u001b[38;5;241m.\u001b[39mplan_y_tc, drop_na\u001b[38;5;241m=\u001b[39m\u001b[38;5;28;01mTrue\u001b[39;00m, scale_x_var\u001b[38;5;241m=\u001b[39m\u001b[38;5;28;01mTrue\u001b[39;00m)\n\u001b[0;32m---> 11\u001b[0m \u001b[43mml_inst\u001b[49m\u001b[38;5;241;43m.\u001b[39;49m\u001b[43msplit_and_use_linear_regression\u001b[49m\u001b[43m(\u001b[49m\u001b[43mpf\u001b[49m\u001b[38;5;241;43m.\u001b[39;49m\u001b[43mx_var_df\u001b[49m\u001b[43m,\u001b[49m\u001b[43m \u001b[49m\u001b[43mpf\u001b[49m\u001b[38;5;241;43m.\u001b[39;49m\u001b[43my_var_df\u001b[49m\u001b[43m,\u001b[49m\u001b[43m \u001b[49m\u001b[43my_var_column\u001b[49m\u001b[38;5;241;43m=\u001b[39;49m\u001b[43my_var_column\u001b[49m\u001b[43m)\u001b[49m\n",
      "File \u001b[0;32m~/Documents/Multifirefly-Project/multiff_analysis/methods/machine_learning/ml_methods/ml_methods_class.py:89\u001b[0m, in \u001b[0;36mMlMethods.split_and_use_linear_regression\u001b[0;34m(self, x_var_df, y_var_df, y_var_column, test_size)\u001b[0m\n\u001b[1;32m     88\u001b[0m \u001b[38;5;28;01mdef\u001b[39;00m \u001b[38;5;21msplit_and_use_linear_regression\u001b[39m(\u001b[38;5;28mself\u001b[39m, x_var_df, y_var_df, y_var_column, test_size\u001b[38;5;241m=\u001b[39m\u001b[38;5;241m0.2\u001b[39m):\n\u001b[0;32m---> 89\u001b[0m     \u001b[38;5;28mself\u001b[39m\u001b[38;5;241m.\u001b[39mX_train, \u001b[38;5;28mself\u001b[39m\u001b[38;5;241m.\u001b[39mX_test, \u001b[38;5;28mself\u001b[39m\u001b[38;5;241m.\u001b[39my_train, \u001b[38;5;28mself\u001b[39m\u001b[38;5;241m.\u001b[39my_test \u001b[38;5;241m=\u001b[39m \u001b[43mtrain_test_split\u001b[49m\u001b[43m(\u001b[49m\n\u001b[1;32m     90\u001b[0m \u001b[43m        \u001b[49m\u001b[43mx_var_df\u001b[49m\u001b[43m,\u001b[49m\u001b[43m \u001b[49m\u001b[43my_var_df\u001b[49m\u001b[43m,\u001b[49m\u001b[43m \u001b[49m\u001b[43mtest_size\u001b[49m\u001b[38;5;241;43m=\u001b[39;49m\u001b[43mtest_size\u001b[49m\u001b[43m)\u001b[49m\n\u001b[1;32m     91\u001b[0m     \u001b[38;5;28mself\u001b[39m\u001b[38;5;241m.\u001b[39muse_linear_regression(show_plot\u001b[38;5;241m=\u001b[39m\u001b[38;5;28;01mTrue\u001b[39;00m, y_var_name\u001b[38;5;241m=\u001b[39my_var_column)\n",
      "File \u001b[0;32m/opt/anaconda3/envs/ff_venv/lib/python3.9/site-packages/sklearn/utils/_param_validation.py:213\u001b[0m, in \u001b[0;36mvalidate_params.<locals>.decorator.<locals>.wrapper\u001b[0;34m(*args, **kwargs)\u001b[0m\n\u001b[1;32m    207\u001b[0m \u001b[38;5;28;01mtry\u001b[39;00m:\n\u001b[1;32m    208\u001b[0m     \u001b[38;5;28;01mwith\u001b[39;00m config_context(\n\u001b[1;32m    209\u001b[0m         skip_parameter_validation\u001b[38;5;241m=\u001b[39m(\n\u001b[1;32m    210\u001b[0m             prefer_skip_nested_validation \u001b[38;5;129;01mor\u001b[39;00m global_skip_validation\n\u001b[1;32m    211\u001b[0m         )\n\u001b[1;32m    212\u001b[0m     ):\n\u001b[0;32m--> 213\u001b[0m         \u001b[38;5;28;01mreturn\u001b[39;00m \u001b[43mfunc\u001b[49m\u001b[43m(\u001b[49m\u001b[38;5;241;43m*\u001b[39;49m\u001b[43margs\u001b[49m\u001b[43m,\u001b[49m\u001b[43m \u001b[49m\u001b[38;5;241;43m*\u001b[39;49m\u001b[38;5;241;43m*\u001b[39;49m\u001b[43mkwargs\u001b[49m\u001b[43m)\u001b[49m\n\u001b[1;32m    214\u001b[0m \u001b[38;5;28;01mexcept\u001b[39;00m InvalidParameterError \u001b[38;5;28;01mas\u001b[39;00m e:\n\u001b[1;32m    215\u001b[0m     \u001b[38;5;66;03m# When the function is just a wrapper around an estimator, we allow\u001b[39;00m\n\u001b[1;32m    216\u001b[0m     \u001b[38;5;66;03m# the function to delegate validation to the estimator, but we replace\u001b[39;00m\n\u001b[1;32m    217\u001b[0m     \u001b[38;5;66;03m# the name of the estimator by the name of the function in the error\u001b[39;00m\n\u001b[1;32m    218\u001b[0m     \u001b[38;5;66;03m# message to avoid confusion.\u001b[39;00m\n\u001b[1;32m    219\u001b[0m     msg \u001b[38;5;241m=\u001b[39m re\u001b[38;5;241m.\u001b[39msub(\n\u001b[1;32m    220\u001b[0m         \u001b[38;5;124mr\u001b[39m\u001b[38;5;124m\"\u001b[39m\u001b[38;5;124mparameter of \u001b[39m\u001b[38;5;124m\\\u001b[39m\u001b[38;5;124mw+ must be\u001b[39m\u001b[38;5;124m\"\u001b[39m,\n\u001b[1;32m    221\u001b[0m         \u001b[38;5;124mf\u001b[39m\u001b[38;5;124m\"\u001b[39m\u001b[38;5;124mparameter of \u001b[39m\u001b[38;5;132;01m{\u001b[39;00mfunc\u001b[38;5;241m.\u001b[39m\u001b[38;5;18m__qualname__\u001b[39m\u001b[38;5;132;01m}\u001b[39;00m\u001b[38;5;124m must be\u001b[39m\u001b[38;5;124m\"\u001b[39m,\n\u001b[1;32m    222\u001b[0m         \u001b[38;5;28mstr\u001b[39m(e),\n\u001b[1;32m    223\u001b[0m     )\n",
      "File \u001b[0;32m/opt/anaconda3/envs/ff_venv/lib/python3.9/site-packages/sklearn/model_selection/_split.py:2657\u001b[0m, in \u001b[0;36mtrain_test_split\u001b[0;34m(test_size, train_size, random_state, shuffle, stratify, *arrays)\u001b[0m\n\u001b[1;32m   2654\u001b[0m \u001b[38;5;28;01mif\u001b[39;00m n_arrays \u001b[38;5;241m==\u001b[39m \u001b[38;5;241m0\u001b[39m:\n\u001b[1;32m   2655\u001b[0m     \u001b[38;5;28;01mraise\u001b[39;00m \u001b[38;5;167;01mValueError\u001b[39;00m(\u001b[38;5;124m\"\u001b[39m\u001b[38;5;124mAt least one array required as input\u001b[39m\u001b[38;5;124m\"\u001b[39m)\n\u001b[0;32m-> 2657\u001b[0m arrays \u001b[38;5;241m=\u001b[39m \u001b[43mindexable\u001b[49m\u001b[43m(\u001b[49m\u001b[38;5;241;43m*\u001b[39;49m\u001b[43marrays\u001b[49m\u001b[43m)\u001b[49m\n\u001b[1;32m   2659\u001b[0m n_samples \u001b[38;5;241m=\u001b[39m _num_samples(arrays[\u001b[38;5;241m0\u001b[39m])\n\u001b[1;32m   2660\u001b[0m n_train, n_test \u001b[38;5;241m=\u001b[39m _validate_shuffle_split(\n\u001b[1;32m   2661\u001b[0m     n_samples, test_size, train_size, default_test_size\u001b[38;5;241m=\u001b[39m\u001b[38;5;241m0.25\u001b[39m\n\u001b[1;32m   2662\u001b[0m )\n",
      "File \u001b[0;32m/opt/anaconda3/envs/ff_venv/lib/python3.9/site-packages/sklearn/utils/validation.py:514\u001b[0m, in \u001b[0;36mindexable\u001b[0;34m(*iterables)\u001b[0m\n\u001b[1;32m    484\u001b[0m \u001b[38;5;250m\u001b[39m\u001b[38;5;124;03m\"\"\"Make arrays indexable for cross-validation.\u001b[39;00m\n\u001b[1;32m    485\u001b[0m \n\u001b[1;32m    486\u001b[0m \u001b[38;5;124;03mChecks consistent length, passes through None, and ensures that everything\u001b[39;00m\n\u001b[0;32m   (...)\u001b[0m\n\u001b[1;32m    510\u001b[0m \u001b[38;5;124;03m[[1, 2, 3], array([2, 3, 4]), None, <3x1 sparse matrix ...>]\u001b[39;00m\n\u001b[1;32m    511\u001b[0m \u001b[38;5;124;03m\"\"\"\u001b[39;00m\n\u001b[1;32m    513\u001b[0m result \u001b[38;5;241m=\u001b[39m [_make_indexable(X) \u001b[38;5;28;01mfor\u001b[39;00m X \u001b[38;5;129;01min\u001b[39;00m iterables]\n\u001b[0;32m--> 514\u001b[0m \u001b[43mcheck_consistent_length\u001b[49m\u001b[43m(\u001b[49m\u001b[38;5;241;43m*\u001b[39;49m\u001b[43mresult\u001b[49m\u001b[43m)\u001b[49m\n\u001b[1;32m    515\u001b[0m \u001b[38;5;28;01mreturn\u001b[39;00m result\n",
      "File \u001b[0;32m/opt/anaconda3/envs/ff_venv/lib/python3.9/site-packages/sklearn/utils/validation.py:457\u001b[0m, in \u001b[0;36mcheck_consistent_length\u001b[0;34m(*arrays)\u001b[0m\n\u001b[1;32m    455\u001b[0m uniques \u001b[38;5;241m=\u001b[39m np\u001b[38;5;241m.\u001b[39munique(lengths)\n\u001b[1;32m    456\u001b[0m \u001b[38;5;28;01mif\u001b[39;00m \u001b[38;5;28mlen\u001b[39m(uniques) \u001b[38;5;241m>\u001b[39m \u001b[38;5;241m1\u001b[39m:\n\u001b[0;32m--> 457\u001b[0m     \u001b[38;5;28;01mraise\u001b[39;00m \u001b[38;5;167;01mValueError\u001b[39;00m(\n\u001b[1;32m    458\u001b[0m         \u001b[38;5;124m\"\u001b[39m\u001b[38;5;124mFound input variables with inconsistent numbers of samples: \u001b[39m\u001b[38;5;132;01m%r\u001b[39;00m\u001b[38;5;124m\"\u001b[39m\n\u001b[1;32m    459\u001b[0m         \u001b[38;5;241m%\u001b[39m [\u001b[38;5;28mint\u001b[39m(l) \u001b[38;5;28;01mfor\u001b[39;00m l \u001b[38;5;129;01min\u001b[39;00m lengths]\n\u001b[1;32m    460\u001b[0m     )\n",
      "\u001b[0;31mValueError\u001b[0m: Found input variables with inconsistent numbers of samples: [369, 580]"
     ]
    }
   ],
   "source": [
    "plan_x_tc = pf.plan_x_tc.copy()\n",
    "ml_inst = ml_methods_class.MlMethods()\n",
    "for y_var_column in ['curv_of_traj_before_stop',\n",
    "                    'd_heading_of_traj',\n",
    "                    'diff_in_d_heading_of_traj_from_null',\n",
    "                    'diff_in_abs_d_heading',   \n",
    "                    'dir_from_cur_ff_to_stop']:\n",
    "    #pf.make_x_and_y_var_df()\n",
    "    print('y_var_column:', y_var_column)\n",
    "    pf.x_var_df, pf.y_var_df = prep_ml_data_utils.make_x_and_y_var_df(plan_x_tc, pf.plan_y_tc, drop_na=True, scale_x_var=True)\n",
    "    ml_inst.split_and_use_linear_regression(pf.x_var_df, pf.y_var_df, y_var_column=y_var_column)\n"
   ]
  },
  {
   "cell_type": "markdown",
   "metadata": {},
   "source": [
    "#### predict ff vars"
   ]
  },
  {
   "cell_type": "code",
   "execution_count": null,
   "metadata": {},
   "outputs": [
    {
     "name": "stdout",
     "output_type": "stream",
     "text": [
      "y_var_column: nxt_ff_distance_at_ref\n",
      "Number of outliers dropped before train_test_split: 1 out of 582 samples.\n",
      "R-squared:  0.4736\n",
      "Adjusted R-squared:  0.4596\n",
      "R-squared on test set: 0.3438\n"
     ]
    },
    {
     "data": {
      "image/png": "[encoded data removed]",
      "text/plain": [
       "<Figure size 640x480 with 1 Axes>"
      ]
     },
     "metadata": {},
     "output_type": "display_data"
    },
    {
     "name": "stdout",
     "output_type": "stream",
     "text": [
      "y_var_column: nxt_ff_angle_at_ref\n",
      "Number of outliers dropped before train_test_split: 0 out of 582 samples.\n",
      "R-squared:  0.8143\n",
      "Adjusted R-squared:  0.8094\n",
      "R-squared on test set: 0.7559\n"
     ]
    },
    {
     "data": {
      "image/png": "[encoded data removed]",
      "text/plain": [
       "<Figure size 640x480 with 1 Axes>"
      ]
     },
     "metadata": {},
     "output_type": "display_data"
    },
    {
     "name": "stdout",
     "output_type": "stream",
     "text": [
      "y_var_column: angle_from_m_before_stop_to_nxt_ff\n",
      "Number of outliers dropped before train_test_split: 3 out of 582 samples.\n",
      "R-squared:  0.6816\n",
      "Adjusted R-squared:  0.6731\n",
      "R-squared on test set: 0.7172\n"
     ]
    },
    {
     "data": {
      "image/png": "[encoded data removed]",
      "text/plain": [
       "<Figure size 640x480 with 1 Axes>"
      ]
     },
     "metadata": {},
     "output_type": "display_data"
    }
   ],
   "source": [
    "plan_x_tc = pf.plan_x_tc[ref_columns + ['d_heading_of_traj'] + curv_columns].copy()\n",
    "ml_inst = ml_methods_class.MlMethods()\n",
    "pf.x_var_df, pf.y_var_df = prep_ml_data_utils.make_x_and_y_var_df(plan_x_tc, pf.plan_y_tc, drop_na=True, scale_x_var=True)\n",
    "for y_var_column in ['nxt_ff_distance_at_ref',\n",
    "                        'nxt_ff_angle_at_ref',\n",
    "                        'angle_from_m_before_stop_to_nxt_ff']:\n",
    "    if y_var_column not in pf.y_var_df.columns:\n",
    "        continue\n",
    "    print('y_var_column:', y_var_column)\n",
    "    ml_inst.split_and_use_linear_regression(pf.x_var_df, pf.y_var_df, y_var_column=y_var_column)\n"
   ]
  },
  {
   "cell_type": "code",
   "execution_count": null,
   "metadata": {},
   "outputs": [],
   "source": [
    "stop!"
   ]
  },
  {
   "cell_type": "markdown",
   "metadata": {},
   "source": [
    "#### specific columns"
   ]
  },
  {
   "cell_type": "code",
   "execution_count": 43,
   "metadata": {},
   "outputs": [],
   "source": [
    "specific_columns = [\n",
    "'closer_to_cur_ff_than_nxt_ff_last_disp_earliest_vis_time',\n",
    "'closer_to_cur_ff_than_nxt_ff_rightmost_latest_vis_time',\n",
    "'within_n_cm_to_stop_longest_vis_ff_angle',\n",
    "'nxt_ff_angle_when_nxt_ff_first_seen',\n",
    "# 'nxt_ff_distance_when_nxt_ff_first_seen',\n",
    "'cur_ff_angle_when_cur_ff_first_seen',\n",
    "'cur_ff_distance_when_cur_ff_first_seen',\n",
    "'traj_curv_when_cur_ff_first_seen',\n",
    "# 'nxt_ff_angle_when_nxt_ff_last_seen',\n",
    "# 'traj_curv_when_nxt_ff_last_seen',\n",
    "'traj_curv_when_cur_ff_last_seen'\n",
    "]"
   ]
  },
  {
   "cell_type": "code",
   "execution_count": 44,
   "metadata": {},
   "outputs": [],
   "source": [
    "test_or_control = 'control'"
   ]
  },
  {
   "cell_type": "code",
   "execution_count": 48,
   "metadata": {},
   "outputs": [
    {
     "data": {
      "text/plain": [
       "Index(['Unnamed: 0_x', 'stop_point_index', 'stop_x', 'stop_y', 'stop_time',\n",
       "       'cur_ff_index', 'cur_ff_x', 'cur_ff_y', 'cur_ff_cluster_50_size',\n",
       "       'point_index_before_stop', 'monkey_angle_before_stop',\n",
       "       'next_stop_point_index', 'next_stop_time',\n",
       "       'cum_distance_between_two_stops', 'nxt_ff_index', 'nxt_ff_x',\n",
       "       'nxt_ff_y', 'NXT_time_ff_last_seen_bbas', 'NXT_time_ff_last_seen_bsans',\n",
       "       'nxt_ff_last_flash_time_bbas', 'nxt_ff_last_flash_time_bsans',\n",
       "       'nxt_ff_cluster_last_seen_time_bbas',\n",
       "       'nxt_ff_cluster_last_seen_time_bsans',\n",
       "       'nxt_ff_cluster_last_flash_time_bbas',\n",
       "       'nxt_ff_cluster_last_flash_time_bsans', 'mx_before_stop',\n",
       "       'my_before_stop', 'cur_arc_end_heading', 'nxt_arc_end_heading',\n",
       "       'cur_arc_end_x', 'cur_arc_end_y', 'd_heading_of_traj',\n",
       "       'cur_d_heading_of_arc', 'ref_monkey_angle', 'ref_curv_of_traj',\n",
       "       'nxt_d_heading_of_arc', 'angle_from_m_before_stop_to_cur_ff',\n",
       "       'angle_from_m_before_stop_to_nxt_ff',\n",
       "       'angle_from_cur_ff_landing_to_nxt_ff', 'angle_from_cur_ff_to_stop',\n",
       "       'angle_from_cur_ff_to_nxt_ff', 'rank_by_angle_to_nxt_ff',\n",
       "       'nxt_ff_distance_at_ref', 'nxt_ff_angle_at_ref',\n",
       "       'cur_ff_distance_at_ref', 'cur_ff_angle_at_ref',\n",
       "       'cur_ff_angle_boundary_at_ref', 'Unnamed: 0_y', 'monkey_curv_to_nxt_ff',\n",
       "       'monkey_curv_to_cur_ff', 'null_arc_curv_to_nxt_ff',\n",
       "       'null_arc_curv_to_cur_ff', 'd_curv_null_arc', 'd_curv_monkey',\n",
       "       'abs_d_curv_null_arc', 'abs_d_curv_monkey', 'diff_in_curv_to_stop',\n",
       "       'diff_in_curv_to_alt', 'diff_in_d_curv', 'diff_in_abs_d_curv',\n",
       "       'diff_in_d_heading_of_traj_from_null', 'diff_in_d_heading',\n",
       "       'diff_in_abs_d_heading', 'ratio', 'curv_mean', 'curv_std', 'curv_min',\n",
       "       'curv_Q1', 'curv_median', 'curv_Q3', 'curv_max', 'curv_iqr',\n",
       "       'curv_range', 'curv_of_traj_before_stop', 'dir_from_cur_ff_to_stop',\n",
       "       'dir_from_cur_ff_to_nxt_ff', 'dir_from_cur_ff_same_side',\n",
       "       'stop_monkey_angle', 'ff_index', 'monkey_angle_when_cur_ff_first_seen',\n",
       "       'd_monkey_angle_since_cur_ff_first_seen', 'd_monkey_angle2'],\n",
       "      dtype='object')"
      ]
     },
     "execution_count": 48,
     "metadata": {},
     "output_type": "execute_result"
    }
   ],
   "source": [
    "pf.plan_y_test.columns"
   ]
  },
  {
   "cell_type": "code",
   "execution_count": 50,
   "metadata": {},
   "outputs": [
    {
     "data": {
      "text/plain": [
       "'nxt_ff_angle_at_stop'"
      ]
     },
     "execution_count": 50,
     "metadata": {},
     "output_type": "execute_result"
    }
   ],
   "source": [
    "y_var_column = ''"
   ]
  },
  {
   "cell_type": "code",
   "execution_count": null,
   "metadata": {},
   "outputs": [
    {
     "name": "stdout",
     "output_type": "stream",
     "text": [
      "Number of outliers dropped before train_test_split: 1 out of 223 samples.\n",
      "R-squared:  0.2871\n",
      "Adjusted R-squared:  0.283\n",
      "R-squared on test set: 0.1717\n"
     ]
    },
    {
     "data": {
      "image/png": "[encoded data removed]",
      "text/plain": [
       "<Figure size 640x480 with 1 Axes>"
      ]
     },
     "metadata": {},
     "output_type": "display_data"
    },
    {
     "data": {
      "text/html": [
       "<div>\n",
       "<style scoped>\n",
       "    .dataframe tbody tr th:only-of-type {\n",
       "        vertical-align: middle;\n",
       "    }\n",
       "\n",
       "    .dataframe tbody tr th {\n",
       "        vertical-align: top;\n",
       "    }\n",
       "\n",
       "    .dataframe thead th {\n",
       "        text-align: right;\n",
       "    }\n",
       "</style>\n",
       "<table border=\"1\" class=\"dataframe\">\n",
       "  <thead>\n",
       "    <tr style=\"text-align: right;\">\n",
       "      <th></th>\n",
       "      <th>index</th>\n",
       "      <th>p_value</th>\n",
       "      <th>Coefficient</th>\n",
       "      <th>Std Err</th>\n",
       "      <th>t</th>\n",
       "      <th>abs_coeff</th>\n",
       "      <th>rank_by_abs_coeff</th>\n",
       "    </tr>\n",
       "  </thead>\n",
       "  <tbody>\n",
       "    <tr>\n",
       "      <th>0</th>\n",
       "      <td>nxt_ff_angle_at_ref</td>\n",
       "      <td>0.00000</td>\n",
       "      <td>13.21503</td>\n",
       "      <td>1.57410</td>\n",
       "      <td>8.39531</td>\n",
       "      <td>13.21503</td>\n",
       "      <td>1</td>\n",
       "    </tr>\n",
       "  </tbody>\n",
       "</table>\n",
       "</div>"
      ],
      "text/plain": [
       "                 index  p_value  Coefficient  Std Err       t  abs_coeff  \\\n",
       "0  nxt_ff_angle_at_ref  0.00000     13.21503  1.57410 8.39531   13.21503   \n",
       "\n",
       "   rank_by_abs_coeff  \n",
       "0                  1  "
      ]
     },
     "execution_count": 54,
     "metadata": {},
     "output_type": "execute_result"
    }
   ],
   "source": [
    "y_var_column = 'angle_from_m_before_stop_to_nxt_ff'\n",
    "\n",
    "#pf.use_lr_on_all(test_or_control=test_or_control, y_var_column=y_var_column)\n",
    "pf.use_lr_on_specific_x_columns(test_or_control=test_or_control, y_var_column=y_var_column,\n",
    "                              specific_x_columns=['nxt_ff_angle_at_ref'])\n",
    "pf.summary_df"
   ]
  },
  {
   "cell_type": "code",
   "execution_count": 55,
   "metadata": {},
   "outputs": [
    {
     "name": "stdout",
     "output_type": "stream",
     "text": [
      "Number of outliers dropped before train_test_split: 1 out of 223 samples.\n",
      "R-squared:  0.8085\n",
      "Adjusted R-squared:  0.8063\n",
      "R-squared on test set: 0.879\n"
     ]
    },
    {
     "data": {
      "image/png": "[encoded data removed]",
      "text/plain": [
       "<Figure size 640x480 with 1 Axes>"
      ]
     },
     "metadata": {},
     "output_type": "display_data"
    },
    {
     "data": {
      "text/html": [
       "<div>\n",
       "<style scoped>\n",
       "    .dataframe tbody tr th:only-of-type {\n",
       "        vertical-align: middle;\n",
       "    }\n",
       "\n",
       "    .dataframe tbody tr th {\n",
       "        vertical-align: top;\n",
       "    }\n",
       "\n",
       "    .dataframe thead th {\n",
       "        text-align: right;\n",
       "    }\n",
       "</style>\n",
       "<table border=\"1\" class=\"dataframe\">\n",
       "  <thead>\n",
       "    <tr style=\"text-align: right;\">\n",
       "      <th></th>\n",
       "      <th>index</th>\n",
       "      <th>p_value</th>\n",
       "      <th>Coefficient</th>\n",
       "      <th>Std Err</th>\n",
       "      <th>t</th>\n",
       "      <th>abs_coeff</th>\n",
       "      <th>rank_by_abs_coeff</th>\n",
       "    </tr>\n",
       "  </thead>\n",
       "  <tbody>\n",
       "    <tr>\n",
       "      <th>0</th>\n",
       "      <td>nxt_ff_angle_at_ref</td>\n",
       "      <td>0.00000</td>\n",
       "      <td>30.18144</td>\n",
       "      <td>1.14195</td>\n",
       "      <td>26.42966</td>\n",
       "      <td>30.18144</td>\n",
       "      <td>1</td>\n",
       "    </tr>\n",
       "    <tr>\n",
       "      <th>1</th>\n",
       "      <td>cur_ff_angle_at_ref</td>\n",
       "      <td>0.00000</td>\n",
       "      <td>-25.93332</td>\n",
       "      <td>1.16554</td>\n",
       "      <td>-22.25004</td>\n",
       "      <td>25.93332</td>\n",
       "      <td>2</td>\n",
       "    </tr>\n",
       "  </tbody>\n",
       "</table>\n",
       "</div>"
      ],
      "text/plain": [
       "                 index  p_value  Coefficient  Std Err         t  abs_coeff  \\\n",
       "0  nxt_ff_angle_at_ref  0.00000     30.18144  1.14195  26.42966   30.18144   \n",
       "1  cur_ff_angle_at_ref  0.00000    -25.93332  1.16554 -22.25004   25.93332   \n",
       "\n",
       "   rank_by_abs_coeff  \n",
       "0                  1  \n",
       "1                  2  "
      ]
     },
     "execution_count": 55,
     "metadata": {},
     "output_type": "execute_result"
    }
   ],
   "source": [
    "y_var_column = 'angle_from_m_before_stop_to_nxt_ff'\n",
    "\n",
    "#pf.use_lr_on_all(test_or_control=test_or_control, y_var_column=y_var_column)\n",
    "pf.use_lr_on_specific_x_columns(test_or_control=test_or_control, y_var_column=y_var_column,\n",
    "                              specific_x_columns=['cur_ff_angle_at_ref', 'nxt_ff_angle_at_ref'])\n",
    "pf.summary_df"
   ]
  },
  {
   "cell_type": "code",
   "execution_count": null,
   "metadata": {},
   "outputs": [],
   "source": [
    "pf.summary_df.shape"
   ]
  },
  {
   "cell_type": "markdown",
   "metadata": {},
   "source": [
    "#### convert continous var to dummy"
   ]
  },
  {
   "cell_type": "code",
   "execution_count": null,
   "metadata": {},
   "outputs": [],
   "source": [
    "_run_lr(y_var_column)"
   ]
  },
  {
   "cell_type": "code",
   "execution_count": null,
   "metadata": {},
   "outputs": [
    {
     "name": "stdout",
     "output_type": "stream",
     "text": [
      "Number of outliers dropped before train_test_split: 3 out of 582 samples.\n",
      "R-squared:  0.9807\n",
      "Adjusted R-squared:  0.9496\n",
      "R-squared on test set: 0.8358\n"
     ]
    },
    {
     "data": {
      "image/png": "[encoded data removed]",
      "text/plain": [
       "<Figure size 640x480 with 1 Axes>"
      ]
     },
     "metadata": {},
     "output_type": "display_data"
    },
    {
     "name": "stdout",
     "output_type": "stream",
     "text": [
      "===================================\n",
      "===================================\n",
      "value: -1.0\n"
     ]
    },
    {
     "ename": "KeyError",
     "evalue": "'dummy'",
     "output_type": "error",
     "traceback": [
      "\u001b[0;31m---------------------------------------------------------------------------\u001b[0m",
      "\u001b[0;31mKeyError\u001b[0m                                  Traceback (most recent call last)",
      "Cell \u001b[0;32mIn[69], line 9\u001b[0m\n\u001b[1;32m      7\u001b[0m \u001b[38;5;28mprint\u001b[39m(\u001b[38;5;124m'\u001b[39m\u001b[38;5;124m===================================\u001b[39m\u001b[38;5;124m'\u001b[39m)\n\u001b[1;32m      8\u001b[0m \u001b[38;5;28mprint\u001b[39m(\u001b[38;5;124m'\u001b[39m\u001b[38;5;124mvalue:\u001b[39m\u001b[38;5;124m'\u001b[39m, value)\n\u001b[0;32m----> 9\u001b[0m \u001b[38;5;28mprint\u001b[39m(\u001b[43mpf\u001b[49m\u001b[38;5;241;43m.\u001b[39;49m\u001b[43msummary_df\u001b[49m\u001b[38;5;241;43m.\u001b[39;49m\u001b[43mloc\u001b[49m\u001b[43m[\u001b[49m\u001b[38;5;124;43m'\u001b[39;49m\u001b[38;5;124;43mdummy\u001b[39;49m\u001b[38;5;124;43m'\u001b[39;49m\u001b[43m]\u001b[49m)\n\u001b[1;32m     10\u001b[0m \u001b[38;5;28mprint\u001b[39m(\u001b[38;5;124m'\u001b[39m\u001b[38;5;124m===================================\u001b[39m\u001b[38;5;124m'\u001b[39m)\n\u001b[1;32m     11\u001b[0m \u001b[38;5;28mprint\u001b[39m(\u001b[38;5;124m'\u001b[39m\u001b[38;5;124m===================================\u001b[39m\u001b[38;5;124m'\u001b[39m)\n",
      "File \u001b[0;32m/opt/anaconda3/envs/ff_venv/lib/python3.9/site-packages/pandas/core/indexing.py:1073\u001b[0m, in \u001b[0;36m_LocationIndexer.__getitem__\u001b[0;34m(self, key)\u001b[0m\n\u001b[1;32m   1070\u001b[0m axis \u001b[38;5;241m=\u001b[39m \u001b[38;5;28mself\u001b[39m\u001b[38;5;241m.\u001b[39maxis \u001b[38;5;129;01mor\u001b[39;00m \u001b[38;5;241m0\u001b[39m\n\u001b[1;32m   1072\u001b[0m maybe_callable \u001b[38;5;241m=\u001b[39m com\u001b[38;5;241m.\u001b[39mapply_if_callable(key, \u001b[38;5;28mself\u001b[39m\u001b[38;5;241m.\u001b[39mobj)\n\u001b[0;32m-> 1073\u001b[0m \u001b[38;5;28;01mreturn\u001b[39;00m \u001b[38;5;28;43mself\u001b[39;49m\u001b[38;5;241;43m.\u001b[39;49m\u001b[43m_getitem_axis\u001b[49m\u001b[43m(\u001b[49m\u001b[43mmaybe_callable\u001b[49m\u001b[43m,\u001b[49m\u001b[43m \u001b[49m\u001b[43maxis\u001b[49m\u001b[38;5;241;43m=\u001b[39;49m\u001b[43maxis\u001b[49m\u001b[43m)\u001b[49m\n",
      "File \u001b[0;32m/opt/anaconda3/envs/ff_venv/lib/python3.9/site-packages/pandas/core/indexing.py:1312\u001b[0m, in \u001b[0;36m_LocIndexer._getitem_axis\u001b[0;34m(self, key, axis)\u001b[0m\n\u001b[1;32m   1310\u001b[0m \u001b[38;5;66;03m# fall thru to straight lookup\u001b[39;00m\n\u001b[1;32m   1311\u001b[0m \u001b[38;5;28mself\u001b[39m\u001b[38;5;241m.\u001b[39m_validate_key(key, axis)\n\u001b[0;32m-> 1312\u001b[0m \u001b[38;5;28;01mreturn\u001b[39;00m \u001b[38;5;28;43mself\u001b[39;49m\u001b[38;5;241;43m.\u001b[39;49m\u001b[43m_get_label\u001b[49m\u001b[43m(\u001b[49m\u001b[43mkey\u001b[49m\u001b[43m,\u001b[49m\u001b[43m \u001b[49m\u001b[43maxis\u001b[49m\u001b[38;5;241;43m=\u001b[39;49m\u001b[43maxis\u001b[49m\u001b[43m)\u001b[49m\n",
      "File \u001b[0;32m/opt/anaconda3/envs/ff_venv/lib/python3.9/site-packages/pandas/core/indexing.py:1260\u001b[0m, in \u001b[0;36m_LocIndexer._get_label\u001b[0;34m(self, label, axis)\u001b[0m\n\u001b[1;32m   1258\u001b[0m \u001b[38;5;28;01mdef\u001b[39;00m \u001b[38;5;21m_get_label\u001b[39m(\u001b[38;5;28mself\u001b[39m, label, axis: \u001b[38;5;28mint\u001b[39m):\n\u001b[1;32m   1259\u001b[0m     \u001b[38;5;66;03m# GH#5567 this will fail if the label is not present in the axis.\u001b[39;00m\n\u001b[0;32m-> 1260\u001b[0m     \u001b[38;5;28;01mreturn\u001b[39;00m \u001b[38;5;28;43mself\u001b[39;49m\u001b[38;5;241;43m.\u001b[39;49m\u001b[43mobj\u001b[49m\u001b[38;5;241;43m.\u001b[39;49m\u001b[43mxs\u001b[49m\u001b[43m(\u001b[49m\u001b[43mlabel\u001b[49m\u001b[43m,\u001b[49m\u001b[43m \u001b[49m\u001b[43maxis\u001b[49m\u001b[38;5;241;43m=\u001b[39;49m\u001b[43maxis\u001b[49m\u001b[43m)\u001b[49m\n",
      "File \u001b[0;32m/opt/anaconda3/envs/ff_venv/lib/python3.9/site-packages/pandas/core/generic.py:4056\u001b[0m, in \u001b[0;36mNDFrame.xs\u001b[0;34m(self, key, axis, level, drop_level)\u001b[0m\n\u001b[1;32m   4054\u001b[0m             new_index \u001b[38;5;241m=\u001b[39m index[loc]\n\u001b[1;32m   4055\u001b[0m \u001b[38;5;28;01melse\u001b[39;00m:\n\u001b[0;32m-> 4056\u001b[0m     loc \u001b[38;5;241m=\u001b[39m \u001b[43mindex\u001b[49m\u001b[38;5;241;43m.\u001b[39;49m\u001b[43mget_loc\u001b[49m\u001b[43m(\u001b[49m\u001b[43mkey\u001b[49m\u001b[43m)\u001b[49m\n\u001b[1;32m   4058\u001b[0m     \u001b[38;5;28;01mif\u001b[39;00m \u001b[38;5;28misinstance\u001b[39m(loc, np\u001b[38;5;241m.\u001b[39mndarray):\n\u001b[1;32m   4059\u001b[0m         \u001b[38;5;28;01mif\u001b[39;00m loc\u001b[38;5;241m.\u001b[39mdtype \u001b[38;5;241m==\u001b[39m np\u001b[38;5;241m.\u001b[39mbool_:\n",
      "File \u001b[0;32m/opt/anaconda3/envs/ff_venv/lib/python3.9/site-packages/pandas/core/indexes/range.py:395\u001b[0m, in \u001b[0;36mRangeIndex.get_loc\u001b[0;34m(self, key, method, tolerance)\u001b[0m\n\u001b[1;32m    393\u001b[0m             \u001b[38;5;28;01mraise\u001b[39;00m \u001b[38;5;167;01mKeyError\u001b[39;00m(key) \u001b[38;5;28;01mfrom\u001b[39;00m \u001b[38;5;21;01merr\u001b[39;00m\n\u001b[1;32m    394\u001b[0m     \u001b[38;5;28mself\u001b[39m\u001b[38;5;241m.\u001b[39m_check_indexing_error(key)\n\u001b[0;32m--> 395\u001b[0m     \u001b[38;5;28;01mraise\u001b[39;00m \u001b[38;5;167;01mKeyError\u001b[39;00m(key)\n\u001b[1;32m    396\u001b[0m \u001b[38;5;28;01mreturn\u001b[39;00m \u001b[38;5;28msuper\u001b[39m()\u001b[38;5;241m.\u001b[39mget_loc(key, method\u001b[38;5;241m=\u001b[39mmethod, tolerance\u001b[38;5;241m=\u001b[39mtolerance)\n",
      "\u001b[0;31mKeyError\u001b[0m: 'dummy'"
     ]
    }
   ],
   "source": [
    "for value in np.arange(-1, -0.6, 0.05):\n",
    "    pf.plan_x_tc['dummy'] = 0\n",
    "    pf.plan_x_tc.loc[pf.plan_x_tc['nxt_ff_cluster_100_combd_latest_vis_rel_time'].between(value, 0), 'dummy'] = 1\n",
    "    \n",
    "    pf._run_lr(y_var_column, x_var_df=pf.plan_x_tc, y_var_df=pf.plan_y_tc)\n",
    "    print('===================================')\n",
    "    print('===================================')\n",
    "    print('value:', value)\n",
    "    print(pf.summary_df.loc['dummy'])\n",
    "    print('===================================')\n",
    "    print('===================================')"
   ]
  },
  {
   "cell_type": "code",
   "execution_count": 70,
   "metadata": {},
   "outputs": [
    {
     "data": {
      "text/html": [
       "<div>\n",
       "<style scoped>\n",
       "    .dataframe tbody tr th:only-of-type {\n",
       "        vertical-align: middle;\n",
       "    }\n",
       "\n",
       "    .dataframe tbody tr th {\n",
       "        vertical-align: top;\n",
       "    }\n",
       "\n",
       "    .dataframe thead th {\n",
       "        text-align: right;\n",
       "    }\n",
       "</style>\n",
       "<table border=\"1\" class=\"dataframe\">\n",
       "  <thead>\n",
       "    <tr style=\"text-align: right;\">\n",
       "      <th></th>\n",
       "      <th>index</th>\n",
       "      <th>p_value</th>\n",
       "      <th>Coefficient</th>\n",
       "      <th>Std Err</th>\n",
       "      <th>t</th>\n",
       "      <th>abs_coeff</th>\n",
       "      <th>rank_by_abs_coeff</th>\n",
       "    </tr>\n",
       "  </thead>\n",
       "  <tbody>\n",
       "    <tr>\n",
       "      <th>0</th>\n",
       "      <td>nxt_ff_cluster_100_combd_max_angle_diff_boundary</td>\n",
       "      <td>0.04214</td>\n",
       "      <td>176.18578</td>\n",
       "      <td>86.07039</td>\n",
       "      <td>2.04700</td>\n",
       "      <td>176.18578</td>\n",
       "      <td>1</td>\n",
       "    </tr>\n",
       "    <tr>\n",
       "      <th>1</th>\n",
       "      <td>nxt_ff_cluster_100_LEFTMOST_angle_diff_boundary</td>\n",
       "      <td>0.01389</td>\n",
       "      <td>-112.75913</td>\n",
       "      <td>45.38014</td>\n",
       "      <td>-2.48477</td>\n",
       "      <td>112.75913</td>\n",
       "      <td>2</td>\n",
       "    </tr>\n",
       "    <tr>\n",
       "      <th>2</th>\n",
       "      <td>nxt_ff_cluster_100_LEFTMOST_ff_angle_boundary</td>\n",
       "      <td>0.01294</td>\n",
       "      <td>76.75473</td>\n",
       "      <td>30.57081</td>\n",
       "      <td>2.51072</td>\n",
       "      <td>76.75473</td>\n",
       "      <td>3</td>\n",
       "    </tr>\n",
       "    <tr>\n",
       "      <th>3</th>\n",
       "      <td>nxt_ff_angle_at_ref</td>\n",
       "      <td>0.00000</td>\n",
       "      <td>75.53443</td>\n",
       "      <td>9.22564</td>\n",
       "      <td>8.18745</td>\n",
       "      <td>75.53443</td>\n",
       "      <td>4</td>\n",
       "    </tr>\n",
       "    <tr>\n",
       "      <th>4</th>\n",
       "      <td>d_heading_of_traj</td>\n",
       "      <td>0.00000</td>\n",
       "      <td>-40.45582</td>\n",
       "      <td>2.96783</td>\n",
       "      <td>-13.63146</td>\n",
       "      <td>40.45582</td>\n",
       "      <td>5</td>\n",
       "    </tr>\n",
       "    <tr>\n",
       "      <th>5</th>\n",
       "      <td>nxt_ff_cluster_100_LEFTMOST_ff_angle</td>\n",
       "      <td>0.01860</td>\n",
       "      <td>-36.00440</td>\n",
       "      <td>15.15785</td>\n",
       "      <td>-2.37530</td>\n",
       "      <td>36.00440</td>\n",
       "      <td>6</td>\n",
       "    </tr>\n",
       "    <tr>\n",
       "      <th>6</th>\n",
       "      <td>nxt_ff_cluster_100_combd_max_ff_angle</td>\n",
       "      <td>0.01860</td>\n",
       "      <td>-36.00440</td>\n",
       "      <td>15.15785</td>\n",
       "      <td>-2.37530</td>\n",
       "      <td>36.00440</td>\n",
       "      <td>7</td>\n",
       "    </tr>\n",
       "    <tr>\n",
       "      <th>7</th>\n",
       "      <td>nxt_ff_cluster_100_LATEST_VIS_ff_angle</td>\n",
       "      <td>0.03372</td>\n",
       "      <td>30.83152</td>\n",
       "      <td>14.40721</td>\n",
       "      <td>2.14001</td>\n",
       "      <td>30.83152</td>\n",
       "      <td>8</td>\n",
       "    </tr>\n",
       "    <tr>\n",
       "      <th>8</th>\n",
       "      <td>cur_ff_cluster_100_LEFTMOST_ff_angle_boundary</td>\n",
       "      <td>0.03869</td>\n",
       "      <td>20.72484</td>\n",
       "      <td>9.94967</td>\n",
       "      <td>2.08297</td>\n",
       "      <td>20.72484</td>\n",
       "      <td>9</td>\n",
       "    </tr>\n",
       "    <tr>\n",
       "      <th>9</th>\n",
       "      <td>cur_ff_cluster_100_LEFTMOST_vis_duration</td>\n",
       "      <td>0.02208</td>\n",
       "      <td>-15.88813</td>\n",
       "      <td>6.87987</td>\n",
       "      <td>-2.30937</td>\n",
       "      <td>15.88813</td>\n",
       "      <td>10</td>\n",
       "    </tr>\n",
       "    <tr>\n",
       "      <th>10</th>\n",
       "      <td>nxt_ff_cluster_100_LEFTMOST_vis_duration</td>\n",
       "      <td>0.00510</td>\n",
       "      <td>-11.49231</td>\n",
       "      <td>4.05197</td>\n",
       "      <td>-2.83623</td>\n",
       "      <td>11.49231</td>\n",
       "      <td>11</td>\n",
       "    </tr>\n",
       "    <tr>\n",
       "      <th>11</th>\n",
       "      <td>cur_ff_cluster_100_LEFTMOST_earliest_vis_rel_time</td>\n",
       "      <td>0.00385</td>\n",
       "      <td>-7.12368</td>\n",
       "      <td>2.43194</td>\n",
       "      <td>-2.92922</td>\n",
       "      <td>7.12368</td>\n",
       "      <td>12</td>\n",
       "    </tr>\n",
       "    <tr>\n",
       "      <th>12</th>\n",
       "      <td>cur_ff_cluster_100_RIGHTMOST_earliest_vis_rel_...</td>\n",
       "      <td>0.00806</td>\n",
       "      <td>-6.49661</td>\n",
       "      <td>2.42424</td>\n",
       "      <td>-2.67985</td>\n",
       "      <td>6.49661</td>\n",
       "      <td>13</td>\n",
       "    </tr>\n",
       "    <tr>\n",
       "      <th>13</th>\n",
       "      <td>cur_ff_cluster_100_num_ff_in_cluster</td>\n",
       "      <td>0.01348</td>\n",
       "      <td>-4.93467</td>\n",
       "      <td>1.97707</td>\n",
       "      <td>-2.49595</td>\n",
       "      <td>4.93467</td>\n",
       "      <td>14</td>\n",
       "    </tr>\n",
       "    <tr>\n",
       "      <th>14</th>\n",
       "      <td>cur_ff_cluster_100_LEFTMOST_latest_vis_rel_time</td>\n",
       "      <td>0.03659</td>\n",
       "      <td>4.83981</td>\n",
       "      <td>2.29781</td>\n",
       "      <td>2.10628</td>\n",
       "      <td>4.83981</td>\n",
       "      <td>15</td>\n",
       "    </tr>\n",
       "    <tr>\n",
       "      <th>15</th>\n",
       "      <td>curv_mean</td>\n",
       "      <td>0.00037</td>\n",
       "      <td>1.79831</td>\n",
       "      <td>0.49498</td>\n",
       "      <td>3.63311</td>\n",
       "      <td>1.79831</td>\n",
       "      <td>16</td>\n",
       "    </tr>\n",
       "    <tr>\n",
       "      <th>16</th>\n",
       "      <td>curv_Q1</td>\n",
       "      <td>0.00272</td>\n",
       "      <td>-0.41389</td>\n",
       "      <td>0.13614</td>\n",
       "      <td>-3.04007</td>\n",
       "      <td>0.41389</td>\n",
       "      <td>17</td>\n",
       "    </tr>\n",
       "    <tr>\n",
       "      <th>17</th>\n",
       "      <td>curv_max</td>\n",
       "      <td>0.00552</td>\n",
       "      <td>-0.33982</td>\n",
       "      <td>0.12096</td>\n",
       "      <td>-2.80940</td>\n",
       "      <td>0.33982</td>\n",
       "      <td>18</td>\n",
       "    </tr>\n",
       "    <tr>\n",
       "      <th>18</th>\n",
       "      <td>curv_Q3</td>\n",
       "      <td>0.04088</td>\n",
       "      <td>-0.31928</td>\n",
       "      <td>0.15501</td>\n",
       "      <td>-2.05977</td>\n",
       "      <td>0.31928</td>\n",
       "      <td>19</td>\n",
       "    </tr>\n",
       "    <tr>\n",
       "      <th>19</th>\n",
       "      <td>cur_ff_cluster_100_combd_median_ff_distance</td>\n",
       "      <td>0.04116</td>\n",
       "      <td>0.13312</td>\n",
       "      <td>0.06472</td>\n",
       "      <td>2.05690</td>\n",
       "      <td>0.13312</td>\n",
       "      <td>20</td>\n",
       "    </tr>\n",
       "    <tr>\n",
       "      <th>20</th>\n",
       "      <td>nxt_ff_cluster_100_combd_median_ff_distance</td>\n",
       "      <td>0.03876</td>\n",
       "      <td>-0.07800</td>\n",
       "      <td>0.03746</td>\n",
       "      <td>-2.08219</td>\n",
       "      <td>0.07800</td>\n",
       "      <td>21</td>\n",
       "    </tr>\n",
       "    <tr>\n",
       "      <th>21</th>\n",
       "      <td>cur_ff_distance_at_ref</td>\n",
       "      <td>0.02226</td>\n",
       "      <td>0.07617</td>\n",
       "      <td>0.03303</td>\n",
       "      <td>2.30619</td>\n",
       "      <td>0.07617</td>\n",
       "      <td>22</td>\n",
       "    </tr>\n",
       "    <tr>\n",
       "      <th>22</th>\n",
       "      <td>nxt_ff_cluster_100_LONGEST_VIS_ff_distance</td>\n",
       "      <td>0.04079</td>\n",
       "      <td>0.03871</td>\n",
       "      <td>0.01879</td>\n",
       "      <td>2.06072</td>\n",
       "      <td>0.03871</td>\n",
       "      <td>23</td>\n",
       "    </tr>\n",
       "    <tr>\n",
       "      <th>23</th>\n",
       "      <td>cum_distance_between_two_stops</td>\n",
       "      <td>0.02941</td>\n",
       "      <td>0.03032</td>\n",
       "      <td>0.01381</td>\n",
       "      <td>2.19570</td>\n",
       "      <td>0.03032</td>\n",
       "      <td>24</td>\n",
       "    </tr>\n",
       "  </tbody>\n",
       "</table>\n",
       "</div>"
      ],
      "text/plain": [
       "                                                index  p_value  Coefficient  \\\n",
       "0    nxt_ff_cluster_100_combd_max_angle_diff_boundary  0.04214    176.18578   \n",
       "1     nxt_ff_cluster_100_LEFTMOST_angle_diff_boundary  0.01389   -112.75913   \n",
       "2       nxt_ff_cluster_100_LEFTMOST_ff_angle_boundary  0.01294     76.75473   \n",
       "3                                 nxt_ff_angle_at_ref  0.00000     75.53443   \n",
       "4                                   d_heading_of_traj  0.00000    -40.45582   \n",
       "5                nxt_ff_cluster_100_LEFTMOST_ff_angle  0.01860    -36.00440   \n",
       "6               nxt_ff_cluster_100_combd_max_ff_angle  0.01860    -36.00440   \n",
       "7              nxt_ff_cluster_100_LATEST_VIS_ff_angle  0.03372     30.83152   \n",
       "8       cur_ff_cluster_100_LEFTMOST_ff_angle_boundary  0.03869     20.72484   \n",
       "9            cur_ff_cluster_100_LEFTMOST_vis_duration  0.02208    -15.88813   \n",
       "10           nxt_ff_cluster_100_LEFTMOST_vis_duration  0.00510    -11.49231   \n",
       "11  cur_ff_cluster_100_LEFTMOST_earliest_vis_rel_time  0.00385     -7.12368   \n",
       "12  cur_ff_cluster_100_RIGHTMOST_earliest_vis_rel_...  0.00806     -6.49661   \n",
       "13               cur_ff_cluster_100_num_ff_in_cluster  0.01348     -4.93467   \n",
       "14    cur_ff_cluster_100_LEFTMOST_latest_vis_rel_time  0.03659      4.83981   \n",
       "15                                          curv_mean  0.00037      1.79831   \n",
       "16                                            curv_Q1  0.00272     -0.41389   \n",
       "17                                           curv_max  0.00552     -0.33982   \n",
       "18                                            curv_Q3  0.04088     -0.31928   \n",
       "19        cur_ff_cluster_100_combd_median_ff_distance  0.04116      0.13312   \n",
       "20        nxt_ff_cluster_100_combd_median_ff_distance  0.03876     -0.07800   \n",
       "21                             cur_ff_distance_at_ref  0.02226      0.07617   \n",
       "22         nxt_ff_cluster_100_LONGEST_VIS_ff_distance  0.04079      0.03871   \n",
       "23                     cum_distance_between_two_stops  0.02941      0.03032   \n",
       "\n",
       "    Std Err         t  abs_coeff  rank_by_abs_coeff  \n",
       "0  86.07039   2.04700  176.18578                  1  \n",
       "1  45.38014  -2.48477  112.75913                  2  \n",
       "2  30.57081   2.51072   76.75473                  3  \n",
       "3   9.22564   8.18745   75.53443                  4  \n",
       "4   2.96783 -13.63146   40.45582                  5  \n",
       "5  15.15785  -2.37530   36.00440                  6  \n",
       "6  15.15785  -2.37530   36.00440                  7  \n",
       "7  14.40721   2.14001   30.83152                  8  \n",
       "8   9.94967   2.08297   20.72484                  9  \n",
       "9   6.87987  -2.30937   15.88813                 10  \n",
       "10  4.05197  -2.83623   11.49231                 11  \n",
       "11  2.43194  -2.92922    7.12368                 12  \n",
       "12  2.42424  -2.67985    6.49661                 13  \n",
       "13  1.97707  -2.49595    4.93467                 14  \n",
       "14  2.29781   2.10628    4.83981                 15  \n",
       "15  0.49498   3.63311    1.79831                 16  \n",
       "16  0.13614  -3.04007    0.41389                 17  \n",
       "17  0.12096  -2.80940    0.33982                 18  \n",
       "18  0.15501  -2.05977    0.31928                 19  \n",
       "19  0.06472   2.05690    0.13312                 20  \n",
       "20  0.03746  -2.08219    0.07800                 21  \n",
       "21  0.03303   2.30619    0.07617                 22  \n",
       "22  0.01879   2.06072    0.03871                 23  \n",
       "23  0.01381   2.19570    0.03032                 24  "
      ]
     },
     "execution_count": 70,
     "metadata": {},
     "output_type": "execute_result"
    }
   ],
   "source": [
    "pf.summary_df"
   ]
  },
  {
   "cell_type": "code",
   "execution_count": 61,
   "metadata": {},
   "outputs": [
    {
     "data": {
      "text/plain": [
       "array(['cur_ff_cluster_100_EARLIEST_VIS_ff_distance',\n",
       "       'cur_ff_cluster_100_EARLIEST_VIS_ff_angle',\n",
       "       'cur_ff_cluster_100_EARLIEST_VIS_ff_angle_boundary',\n",
       "       'cur_ff_cluster_100_EARLIEST_VIS_angle_diff_boundary',\n",
       "       'cur_ff_cluster_100_EARLIEST_VIS_earliest_vis_rel_time',\n",
       "       'cur_ff_cluster_100_EARLIEST_VIS_latest_vis_rel_time',\n",
       "       'cur_ff_cluster_100_EARLIEST_VIS_vis_duration',\n",
       "       'cur_ff_cluster_100_LATEST_VIS_ff_distance',\n",
       "       'cur_ff_cluster_100_LATEST_VIS_ff_angle',\n",
       "       'cur_ff_cluster_100_LATEST_VIS_ff_angle_boundary',\n",
       "       'cur_ff_cluster_100_LATEST_VIS_angle_diff_boundary',\n",
       "       'cur_ff_cluster_100_LATEST_VIS_earliest_vis_rel_time',\n",
       "       'cur_ff_cluster_100_LATEST_VIS_latest_vis_rel_time',\n",
       "       'cur_ff_cluster_100_LATEST_VIS_vis_duration',\n",
       "       'cur_ff_cluster_100_LEFTMOST_ff_distance',\n",
       "       'cur_ff_cluster_100_LEFTMOST_ff_angle',\n",
       "       'cur_ff_cluster_100_LEFTMOST_ff_angle_boundary',\n",
       "       'cur_ff_cluster_100_LEFTMOST_angle_diff_boundary',\n",
       "       'cur_ff_cluster_100_LEFTMOST_earliest_vis_rel_time',\n",
       "       'cur_ff_cluster_100_LEFTMOST_latest_vis_rel_time',\n",
       "       'cur_ff_cluster_100_LEFTMOST_vis_duration',\n",
       "       'cur_ff_cluster_100_LONGEST_VIS_ff_distance',\n",
       "       'cur_ff_cluster_100_LONGEST_VIS_ff_angle',\n",
       "       'cur_ff_cluster_100_LONGEST_VIS_ff_angle_boundary',\n",
       "       'cur_ff_cluster_100_LONGEST_VIS_angle_diff_boundary',\n",
       "       'cur_ff_cluster_100_LONGEST_VIS_earliest_vis_rel_time',\n",
       "       'cur_ff_cluster_100_LONGEST_VIS_latest_vis_rel_time',\n",
       "       'cur_ff_cluster_100_LONGEST_VIS_vis_duration',\n",
       "       'cur_ff_cluster_100_RIGHTMOST_ff_distance',\n",
       "       'cur_ff_cluster_100_RIGHTMOST_ff_angle',\n",
       "       'cur_ff_cluster_100_RIGHTMOST_ff_angle_boundary',\n",
       "       'cur_ff_cluster_100_RIGHTMOST_angle_diff_boundary',\n",
       "       'cur_ff_cluster_100_RIGHTMOST_earliest_vis_rel_time',\n",
       "       'cur_ff_cluster_100_RIGHTMOST_latest_vis_rel_time',\n",
       "       'cur_ff_cluster_100_RIGHTMOST_vis_duration',\n",
       "       'cur_ff_cluster_200_EARLIEST_VIS_ff_distance',\n",
       "       'cur_ff_cluster_200_EARLIEST_VIS_ff_angle',\n",
       "       'cur_ff_cluster_200_EARLIEST_VIS_ff_angle_boundary',\n",
       "       'cur_ff_cluster_200_EARLIEST_VIS_angle_diff_boundary',\n",
       "       'cur_ff_cluster_200_EARLIEST_VIS_earliest_vis_rel_time',\n",
       "       'cur_ff_cluster_200_EARLIEST_VIS_latest_vis_rel_time',\n",
       "       'cur_ff_cluster_200_EARLIEST_VIS_vis_duration',\n",
       "       'cur_ff_cluster_200_LATEST_VIS_ff_distance',\n",
       "       'cur_ff_cluster_200_LATEST_VIS_ff_angle',\n",
       "       'cur_ff_cluster_200_LATEST_VIS_ff_angle_boundary',\n",
       "       'cur_ff_cluster_200_LATEST_VIS_angle_diff_boundary',\n",
       "       'cur_ff_cluster_200_LATEST_VIS_earliest_vis_rel_time',\n",
       "       'cur_ff_cluster_200_LATEST_VIS_latest_vis_rel_time',\n",
       "       'cur_ff_cluster_200_LATEST_VIS_vis_duration',\n",
       "       'cur_ff_cluster_200_LEFTMOST_ff_distance',\n",
       "       'cur_ff_cluster_200_LEFTMOST_ff_angle',\n",
       "       'cur_ff_cluster_200_LEFTMOST_ff_angle_boundary',\n",
       "       'cur_ff_cluster_200_LEFTMOST_angle_diff_boundary',\n",
       "       'cur_ff_cluster_200_LEFTMOST_earliest_vis_rel_time',\n",
       "       'cur_ff_cluster_200_LEFTMOST_latest_vis_rel_time',\n",
       "       'cur_ff_cluster_200_LEFTMOST_vis_duration',\n",
       "       'cur_ff_cluster_200_LONGEST_VIS_ff_distance',\n",
       "       'cur_ff_cluster_200_LONGEST_VIS_ff_angle',\n",
       "       'cur_ff_cluster_200_LONGEST_VIS_ff_angle_boundary',\n",
       "       'cur_ff_cluster_200_LONGEST_VIS_angle_diff_boundary',\n",
       "       'cur_ff_cluster_200_LONGEST_VIS_earliest_vis_rel_time',\n",
       "       'cur_ff_cluster_200_LONGEST_VIS_latest_vis_rel_time',\n",
       "       'cur_ff_cluster_200_LONGEST_VIS_vis_duration',\n",
       "       'cur_ff_cluster_200_RIGHTMOST_ff_distance',\n",
       "       'cur_ff_cluster_200_RIGHTMOST_ff_angle',\n",
       "       'cur_ff_cluster_200_RIGHTMOST_ff_angle_boundary',\n",
       "       'cur_ff_cluster_200_RIGHTMOST_angle_diff_boundary',\n",
       "       'cur_ff_cluster_200_RIGHTMOST_earliest_vis_rel_time',\n",
       "       'cur_ff_cluster_200_RIGHTMOST_latest_vis_rel_time',\n",
       "       'cur_ff_cluster_200_RIGHTMOST_vis_duration',\n",
       "       'cur_ff_cluster_300_EARLIEST_VIS_ff_distance',\n",
       "       'cur_ff_cluster_300_EARLIEST_VIS_ff_angle',\n",
       "       'cur_ff_cluster_300_EARLIEST_VIS_ff_angle_boundary',\n",
       "       'cur_ff_cluster_300_EARLIEST_VIS_angle_diff_boundary',\n",
       "       'cur_ff_cluster_300_EARLIEST_VIS_earliest_vis_rel_time',\n",
       "       'cur_ff_cluster_300_EARLIEST_VIS_latest_vis_rel_time',\n",
       "       'cur_ff_cluster_300_EARLIEST_VIS_vis_duration',\n",
       "       'cur_ff_cluster_300_LATEST_VIS_ff_distance',\n",
       "       'cur_ff_cluster_300_LATEST_VIS_ff_angle',\n",
       "       'cur_ff_cluster_300_LATEST_VIS_ff_angle_boundary',\n",
       "       'cur_ff_cluster_300_LATEST_VIS_angle_diff_boundary',\n",
       "       'cur_ff_cluster_300_LATEST_VIS_earliest_vis_rel_time',\n",
       "       'cur_ff_cluster_300_LATEST_VIS_latest_vis_rel_time',\n",
       "       'cur_ff_cluster_300_LATEST_VIS_vis_duration',\n",
       "       'cur_ff_cluster_300_LEFTMOST_ff_distance',\n",
       "       'cur_ff_cluster_300_LEFTMOST_ff_angle',\n",
       "       'cur_ff_cluster_300_LEFTMOST_ff_angle_boundary',\n",
       "       'cur_ff_cluster_300_LEFTMOST_angle_diff_boundary',\n",
       "       'cur_ff_cluster_300_LEFTMOST_earliest_vis_rel_time',\n",
       "       'cur_ff_cluster_300_LEFTMOST_latest_vis_rel_time',\n",
       "       'cur_ff_cluster_300_LEFTMOST_vis_duration',\n",
       "       'cur_ff_cluster_300_LONGEST_VIS_ff_distance',\n",
       "       'cur_ff_cluster_300_LONGEST_VIS_ff_angle',\n",
       "       'cur_ff_cluster_300_LONGEST_VIS_ff_angle_boundary',\n",
       "       'cur_ff_cluster_300_LONGEST_VIS_angle_diff_boundary',\n",
       "       'cur_ff_cluster_300_LONGEST_VIS_earliest_vis_rel_time',\n",
       "       'cur_ff_cluster_300_LONGEST_VIS_latest_vis_rel_time',\n",
       "       'cur_ff_cluster_300_LONGEST_VIS_vis_duration',\n",
       "       'cur_ff_cluster_300_RIGHTMOST_ff_distance',\n",
       "       'cur_ff_cluster_300_RIGHTMOST_ff_angle',\n",
       "       'cur_ff_cluster_300_RIGHTMOST_ff_angle_boundary',\n",
       "       'cur_ff_cluster_300_RIGHTMOST_angle_diff_boundary',\n",
       "       'cur_ff_cluster_300_RIGHTMOST_earliest_vis_rel_time',\n",
       "       'cur_ff_cluster_300_RIGHTMOST_latest_vis_rel_time',\n",
       "       'cur_ff_cluster_300_RIGHTMOST_vis_duration',\n",
       "       'nxt_ff_cluster_100_EARLIEST_VIS_ff_distance',\n",
       "       'nxt_ff_cluster_100_EARLIEST_VIS_ff_angle',\n",
       "       'nxt_ff_cluster_100_EARLIEST_VIS_ff_angle_boundary',\n",
       "       'nxt_ff_cluster_100_EARLIEST_VIS_angle_diff_boundary',\n",
       "       'nxt_ff_cluster_100_EARLIEST_VIS_earliest_vis_rel_time',\n",
       "       'nxt_ff_cluster_100_EARLIEST_VIS_latest_vis_rel_time',\n",
       "       'nxt_ff_cluster_100_EARLIEST_VIS_vis_duration',\n",
       "       'nxt_ff_cluster_100_LATEST_VIS_ff_distance',\n",
       "       'nxt_ff_cluster_100_LATEST_VIS_ff_angle',\n",
       "       'nxt_ff_cluster_100_LATEST_VIS_ff_angle_boundary',\n",
       "       'nxt_ff_cluster_100_LATEST_VIS_angle_diff_boundary',\n",
       "       'nxt_ff_cluster_100_LATEST_VIS_earliest_vis_rel_time',\n",
       "       'nxt_ff_cluster_100_LATEST_VIS_latest_vis_rel_time',\n",
       "       'nxt_ff_cluster_100_LATEST_VIS_vis_duration',\n",
       "       'nxt_ff_cluster_100_LEFTMOST_ff_distance',\n",
       "       'nxt_ff_cluster_100_LEFTMOST_ff_angle',\n",
       "       'nxt_ff_cluster_100_LEFTMOST_ff_angle_boundary',\n",
       "       'nxt_ff_cluster_100_LEFTMOST_angle_diff_boundary',\n",
       "       'nxt_ff_cluster_100_LEFTMOST_earliest_vis_rel_time',\n",
       "       'nxt_ff_cluster_100_LEFTMOST_latest_vis_rel_time',\n",
       "       'nxt_ff_cluster_100_LEFTMOST_vis_duration',\n",
       "       'nxt_ff_cluster_100_LONGEST_VIS_ff_distance',\n",
       "       'nxt_ff_cluster_100_LONGEST_VIS_ff_angle',\n",
       "       'nxt_ff_cluster_100_LONGEST_VIS_ff_angle_boundary',\n",
       "       'nxt_ff_cluster_100_LONGEST_VIS_angle_diff_boundary',\n",
       "       'nxt_ff_cluster_100_LONGEST_VIS_earliest_vis_rel_time',\n",
       "       'nxt_ff_cluster_100_LONGEST_VIS_latest_vis_rel_time',\n",
       "       'nxt_ff_cluster_100_LONGEST_VIS_vis_duration',\n",
       "       'nxt_ff_cluster_100_RIGHTMOST_ff_distance',\n",
       "       'nxt_ff_cluster_100_RIGHTMOST_ff_angle',\n",
       "       'nxt_ff_cluster_100_RIGHTMOST_ff_angle_boundary',\n",
       "       'nxt_ff_cluster_100_RIGHTMOST_angle_diff_boundary',\n",
       "       'nxt_ff_cluster_100_RIGHTMOST_earliest_vis_rel_time',\n",
       "       'nxt_ff_cluster_100_RIGHTMOST_latest_vis_rel_time',\n",
       "       'nxt_ff_cluster_100_RIGHTMOST_vis_duration',\n",
       "       'nxt_ff_cluster_200_EARLIEST_VIS_ff_distance',\n",
       "       'nxt_ff_cluster_200_EARLIEST_VIS_ff_angle',\n",
       "       'nxt_ff_cluster_200_EARLIEST_VIS_ff_angle_boundary',\n",
       "       'nxt_ff_cluster_200_EARLIEST_VIS_angle_diff_boundary',\n",
       "       'nxt_ff_cluster_200_EARLIEST_VIS_earliest_vis_rel_time',\n",
       "       'nxt_ff_cluster_200_EARLIEST_VIS_latest_vis_rel_time',\n",
       "       'nxt_ff_cluster_200_EARLIEST_VIS_vis_duration',\n",
       "       'nxt_ff_cluster_200_LATEST_VIS_ff_distance',\n",
       "       'nxt_ff_cluster_200_LATEST_VIS_ff_angle',\n",
       "       'nxt_ff_cluster_200_LATEST_VIS_ff_angle_boundary',\n",
       "       'nxt_ff_cluster_200_LATEST_VIS_angle_diff_boundary',\n",
       "       'nxt_ff_cluster_200_LATEST_VIS_earliest_vis_rel_time',\n",
       "       'nxt_ff_cluster_200_LATEST_VIS_latest_vis_rel_time',\n",
       "       'nxt_ff_cluster_200_LATEST_VIS_vis_duration',\n",
       "       'nxt_ff_cluster_200_LEFTMOST_ff_distance',\n",
       "       'nxt_ff_cluster_200_LEFTMOST_ff_angle',\n",
       "       'nxt_ff_cluster_200_LEFTMOST_ff_angle_boundary',\n",
       "       'nxt_ff_cluster_200_LEFTMOST_angle_diff_boundary',\n",
       "       'nxt_ff_cluster_200_LEFTMOST_earliest_vis_rel_time',\n",
       "       'nxt_ff_cluster_200_LEFTMOST_latest_vis_rel_time',\n",
       "       'nxt_ff_cluster_200_LEFTMOST_vis_duration',\n",
       "       'nxt_ff_cluster_200_LONGEST_VIS_ff_distance',\n",
       "       'nxt_ff_cluster_200_LONGEST_VIS_ff_angle',\n",
       "       'nxt_ff_cluster_200_LONGEST_VIS_ff_angle_boundary',\n",
       "       'nxt_ff_cluster_200_LONGEST_VIS_angle_diff_boundary',\n",
       "       'nxt_ff_cluster_200_LONGEST_VIS_earliest_vis_rel_time',\n",
       "       'nxt_ff_cluster_200_LONGEST_VIS_latest_vis_rel_time',\n",
       "       'nxt_ff_cluster_200_LONGEST_VIS_vis_duration',\n",
       "       'nxt_ff_cluster_200_RIGHTMOST_ff_distance',\n",
       "       'nxt_ff_cluster_200_RIGHTMOST_ff_angle',\n",
       "       'nxt_ff_cluster_200_RIGHTMOST_ff_angle_boundary',\n",
       "       'nxt_ff_cluster_200_RIGHTMOST_angle_diff_boundary',\n",
       "       'nxt_ff_cluster_200_RIGHTMOST_earliest_vis_rel_time',\n",
       "       'nxt_ff_cluster_200_RIGHTMOST_latest_vis_rel_time',\n",
       "       'nxt_ff_cluster_200_RIGHTMOST_vis_duration',\n",
       "       'nxt_ff_cluster_300_EARLIEST_VIS_ff_distance',\n",
       "       'nxt_ff_cluster_300_EARLIEST_VIS_ff_angle',\n",
       "       'nxt_ff_cluster_300_EARLIEST_VIS_ff_angle_boundary',\n",
       "       'nxt_ff_cluster_300_EARLIEST_VIS_angle_diff_boundary',\n",
       "       'nxt_ff_cluster_300_EARLIEST_VIS_earliest_vis_rel_time',\n",
       "       'nxt_ff_cluster_300_EARLIEST_VIS_latest_vis_rel_time',\n",
       "       'nxt_ff_cluster_300_EARLIEST_VIS_vis_duration',\n",
       "       'nxt_ff_cluster_300_LATEST_VIS_ff_distance',\n",
       "       'nxt_ff_cluster_300_LATEST_VIS_ff_angle',\n",
       "       'nxt_ff_cluster_300_LATEST_VIS_ff_angle_boundary',\n",
       "       'nxt_ff_cluster_300_LATEST_VIS_angle_diff_boundary',\n",
       "       'nxt_ff_cluster_300_LATEST_VIS_earliest_vis_rel_time',\n",
       "       'nxt_ff_cluster_300_LATEST_VIS_latest_vis_rel_time',\n",
       "       'nxt_ff_cluster_300_LATEST_VIS_vis_duration',\n",
       "       'nxt_ff_cluster_300_LEFTMOST_ff_distance',\n",
       "       'nxt_ff_cluster_300_LEFTMOST_ff_angle',\n",
       "       'nxt_ff_cluster_300_LEFTMOST_ff_angle_boundary',\n",
       "       'nxt_ff_cluster_300_LEFTMOST_angle_diff_boundary',\n",
       "       'nxt_ff_cluster_300_LEFTMOST_earliest_vis_rel_time',\n",
       "       'nxt_ff_cluster_300_LEFTMOST_latest_vis_rel_time',\n",
       "       'nxt_ff_cluster_300_LEFTMOST_vis_duration',\n",
       "       'nxt_ff_cluster_300_LONGEST_VIS_ff_distance',\n",
       "       'nxt_ff_cluster_300_LONGEST_VIS_ff_angle',\n",
       "       'nxt_ff_cluster_300_LONGEST_VIS_ff_angle_boundary',\n",
       "       'nxt_ff_cluster_300_LONGEST_VIS_angle_diff_boundary',\n",
       "       'nxt_ff_cluster_300_LONGEST_VIS_earliest_vis_rel_time',\n",
       "       'nxt_ff_cluster_300_LONGEST_VIS_latest_vis_rel_time',\n",
       "       'nxt_ff_cluster_300_LONGEST_VIS_vis_duration',\n",
       "       'nxt_ff_cluster_300_RIGHTMOST_ff_distance',\n",
       "       'nxt_ff_cluster_300_RIGHTMOST_ff_angle',\n",
       "       'nxt_ff_cluster_300_RIGHTMOST_ff_angle_boundary',\n",
       "       'nxt_ff_cluster_300_RIGHTMOST_angle_diff_boundary',\n",
       "       'nxt_ff_cluster_300_RIGHTMOST_earliest_vis_rel_time',\n",
       "       'nxt_ff_cluster_300_RIGHTMOST_latest_vis_rel_time',\n",
       "       'nxt_ff_cluster_300_RIGHTMOST_vis_duration', 'stop_point_index',\n",
       "       'cur_ff_cluster_100_combd_min_ff_angle',\n",
       "       'cur_ff_cluster_100_combd_max_ff_angle',\n",
       "       'cur_ff_cluster_100_combd_median_ff_angle',\n",
       "       'cur_ff_cluster_100_combd_min_ff_distance',\n",
       "       'cur_ff_cluster_100_combd_max_ff_distance',\n",
       "       'cur_ff_cluster_100_combd_median_ff_distance',\n",
       "       'cur_ff_cluster_100_combd_min_angle_diff_boundary',\n",
       "       'cur_ff_cluster_100_combd_max_angle_diff_boundary',\n",
       "       'cur_ff_cluster_100_combd_median_angle_diff_boundary',\n",
       "       'cur_ff_cluster_100_num_ff_in_cluster',\n",
       "       'cur_ff_cluster_100_combd_earliest_vis_rel_time',\n",
       "       'cur_ff_cluster_100_combd_latest_vis_rel_time',\n",
       "       'cur_ff_cluster_100_combd_total_vis_duration',\n",
       "       'cur_ff_cluster_100_combd_longest_vis_duration',\n",
       "       'cur_ff_cluster_200_combd_min_ff_angle',\n",
       "       'cur_ff_cluster_200_combd_max_ff_angle',\n",
       "       'cur_ff_cluster_200_combd_median_ff_angle',\n",
       "       'cur_ff_cluster_200_combd_min_ff_distance',\n",
       "       'cur_ff_cluster_200_combd_max_ff_distance',\n",
       "       'cur_ff_cluster_200_combd_median_ff_distance',\n",
       "       'cur_ff_cluster_200_combd_min_angle_diff_boundary',\n",
       "       'cur_ff_cluster_200_combd_max_angle_diff_boundary',\n",
       "       'cur_ff_cluster_200_combd_median_angle_diff_boundary',\n",
       "       'cur_ff_cluster_200_num_ff_in_cluster',\n",
       "       'cur_ff_cluster_200_combd_earliest_vis_rel_time',\n",
       "       'cur_ff_cluster_200_combd_latest_vis_rel_time',\n",
       "       'cur_ff_cluster_200_combd_total_vis_duration',\n",
       "       'cur_ff_cluster_200_combd_longest_vis_duration',\n",
       "       'cur_ff_cluster_300_combd_min_ff_angle',\n",
       "       'cur_ff_cluster_300_combd_max_ff_angle',\n",
       "       'cur_ff_cluster_300_combd_median_ff_angle',\n",
       "       'cur_ff_cluster_300_combd_min_ff_distance',\n",
       "       'cur_ff_cluster_300_combd_max_ff_distance',\n",
       "       'cur_ff_cluster_300_combd_median_ff_distance',\n",
       "       'cur_ff_cluster_300_combd_min_angle_diff_boundary',\n",
       "       'cur_ff_cluster_300_combd_max_angle_diff_boundary',\n",
       "       'cur_ff_cluster_300_combd_median_angle_diff_boundary',\n",
       "       'cur_ff_cluster_300_num_ff_in_cluster',\n",
       "       'cur_ff_cluster_300_combd_earliest_vis_rel_time',\n",
       "       'cur_ff_cluster_300_combd_latest_vis_rel_time',\n",
       "       'cur_ff_cluster_300_combd_total_vis_duration',\n",
       "       'cur_ff_cluster_300_combd_longest_vis_duration',\n",
       "       'nxt_ff_cluster_100_combd_min_ff_angle',\n",
       "       'nxt_ff_cluster_100_combd_max_ff_angle',\n",
       "       'nxt_ff_cluster_100_combd_median_ff_angle',\n",
       "       'nxt_ff_cluster_100_combd_min_ff_distance',\n",
       "       'nxt_ff_cluster_100_combd_max_ff_distance',\n",
       "       'nxt_ff_cluster_100_combd_median_ff_distance',\n",
       "       'nxt_ff_cluster_100_combd_min_angle_diff_boundary',\n",
       "       'nxt_ff_cluster_100_combd_max_angle_diff_boundary',\n",
       "       'nxt_ff_cluster_100_combd_median_angle_diff_boundary',\n",
       "       'nxt_ff_cluster_100_num_ff_in_cluster',\n",
       "       'nxt_ff_cluster_100_combd_earliest_vis_rel_time',\n",
       "       'nxt_ff_cluster_100_combd_latest_vis_rel_time',\n",
       "       'nxt_ff_cluster_100_combd_total_vis_duration',\n",
       "       'nxt_ff_cluster_100_combd_longest_vis_duration',\n",
       "       'nxt_ff_cluster_200_combd_min_ff_angle',\n",
       "       'nxt_ff_cluster_200_combd_max_ff_angle',\n",
       "       'nxt_ff_cluster_200_combd_median_ff_angle',\n",
       "       'nxt_ff_cluster_200_combd_min_ff_distance',\n",
       "       'nxt_ff_cluster_200_combd_max_ff_distance',\n",
       "       'nxt_ff_cluster_200_combd_median_ff_distance',\n",
       "       'nxt_ff_cluster_200_combd_min_angle_diff_boundary',\n",
       "       'nxt_ff_cluster_200_combd_max_angle_diff_boundary',\n",
       "       'nxt_ff_cluster_200_combd_median_angle_diff_boundary',\n",
       "       'nxt_ff_cluster_200_num_ff_in_cluster',\n",
       "       'nxt_ff_cluster_200_combd_earliest_vis_rel_time',\n",
       "       'nxt_ff_cluster_200_combd_latest_vis_rel_time',\n",
       "       'nxt_ff_cluster_200_combd_total_vis_duration',\n",
       "       'nxt_ff_cluster_200_combd_longest_vis_duration',\n",
       "       'nxt_ff_cluster_300_combd_min_ff_angle',\n",
       "       'nxt_ff_cluster_300_combd_max_ff_angle',\n",
       "       'nxt_ff_cluster_300_combd_median_ff_angle',\n",
       "       'nxt_ff_cluster_300_combd_min_ff_distance',\n",
       "       'nxt_ff_cluster_300_combd_max_ff_distance',\n",
       "       'nxt_ff_cluster_300_combd_median_ff_distance',\n",
       "       'nxt_ff_cluster_300_combd_min_angle_diff_boundary',\n",
       "       'nxt_ff_cluster_300_combd_max_angle_diff_boundary',\n",
       "       'nxt_ff_cluster_300_combd_median_angle_diff_boundary',\n",
       "       'nxt_ff_cluster_300_num_ff_in_cluster',\n",
       "       'nxt_ff_cluster_300_combd_earliest_vis_rel_time',\n",
       "       'nxt_ff_cluster_300_combd_latest_vis_rel_time',\n",
       "       'nxt_ff_cluster_300_combd_total_vis_duration',\n",
       "       'nxt_ff_cluster_300_combd_longest_vis_duration',\n",
       "       'd_from_cur_ff_to_nxt_ff', 'distance_between_stop_and_arena_edge',\n",
       "       'cum_distance_between_two_stops', 'time_between_two_stops',\n",
       "       'nxt_ff_distance_at_ref', 'nxt_ff_angle_at_ref',\n",
       "       'cur_ff_distance_at_ref', 'cur_ff_angle_at_ref',\n",
       "       'cur_ff_angle_boundary_at_ref', 'monkey_speed_std',\n",
       "       'monkey_dw_std', 'monkey_speed_range', 'monkey_speed_iqr',\n",
       "       'monkey_dw_range', 'monkey_dw_iqr', 'LDy_std', 'LDz_std',\n",
       "       'RDy_std', 'RDz_std', 'LDy_range', 'LDy_iqr', 'LDz_range',\n",
       "       'LDz_iqr', 'RDy_range', 'RDy_iqr', 'RDz_range', 'RDz_iqr',\n",
       "       'left_eye_cur_ff_time_perc_5', 'left_eye_cur_ff_time_perc_10',\n",
       "       'left_eye_nxt_ff_time_perc_5', 'left_eye_nxt_ff_time_perc_10',\n",
       "       'right_eye_cur_ff_time_perc_5', 'right_eye_cur_ff_time_perc_10',\n",
       "       'right_eye_nxt_ff_time_perc_5', 'right_eye_nxt_ff_time_perc_10',\n",
       "       'dt', 'whether_test', 'd_heading_of_traj', 'ref_curv_of_traj',\n",
       "       'curv_mean', 'curv_std', 'curv_min', 'curv_Q1', 'curv_median',\n",
       "       'curv_Q3', 'curv_max', 'dummy'], dtype=object)"
      ]
     },
     "execution_count": 61,
     "metadata": {},
     "output_type": "execute_result"
    }
   ],
   "source": [
    "pf.plan_x_tc.columns.values"
   ]
  },
  {
   "cell_type": "code",
   "execution_count": null,
   "metadata": {},
   "outputs": [],
   "source": [
    "pf.plan_x_tc['dummy'] = 0\n",
    "pf.plan_x_tc.loc[pf.plan_x_tc['nxt_ff_cluster_100_combd_latest_vis_rel_time'].between(-1, 0), 'dummy'] = 1\n",
    "pf.plan_x_tc['dummy'] = 0\n",
    "pf.plan_x_tc.loc[pf.plan_x_tc['nxt_ff_cluster_100_combd_latest_vis_rel_time']<0, 'dummy'] = 1"
   ]
  },
  {
   "cell_type": "markdown",
   "metadata": {},
   "source": [
    "## do left and right have the same same-side ratio for test and control?"
   ]
  },
  {
   "cell_type": "code",
   "execution_count": null,
   "metadata": {},
   "outputs": [],
   "source": [
    "len(ps.plan_xy_ctrl[ps.plan_xy_ctrl['dir_from_cur_ff_to_stop'] == 1])/len(ps.plan_xy_ctrl)"
   ]
  },
  {
   "cell_type": "code",
   "execution_count": null,
   "metadata": {},
   "outputs": [],
   "source": [
    "len(ps.plan_xy_test[ps.plan_xy_test['dir_from_cur_ff_to_stop'] == 1])/len(ps.plan_xy_test)"
   ]
  },
  {
   "cell_type": "code",
   "execution_count": null,
   "metadata": {},
   "outputs": [],
   "source": [
    "len(ps.plan_xy_ctrl[ps.plan_xy_ctrl['dir_from_cur_ff_same_side'] == 1])/len(ps.plan_xy_ctrl)"
   ]
  },
  {
   "cell_type": "code",
   "execution_count": null,
   "metadata": {},
   "outputs": [],
   "source": [
    "len(ps.plan_xy_test[ps.plan_xy_test['dir_from_cur_ff_same_side'] == 1])/len(ps.plan_xy_test)"
   ]
  },
  {
   "cell_type": "markdown",
   "metadata": {},
   "source": [
    "### CCA"
   ]
  },
  {
   "cell_type": "code",
   "execution_count": null,
   "metadata": {},
   "outputs": [],
   "source": [
    "# Define data and scaler\n",
    "from sklearn.cross_decomposition import CCA\n",
    "\n",
    "scaler = StandardScaler()\n",
    "X1 = pf.plan_x_tc[x_columns + cur_ff_cluster_columns]\n",
    "X2 = pf.plan_y_tc[['nxt_ff_distance_at_ref',\n",
    "                        'nxt_ff_angle_at_ref', \n",
    "                        'nxt_ff_angle_at_stop']].copy()\n",
    "\n",
    "#X2 = osf.only_cur_ff_df[['d_heading_of_traj']].copy()\n",
    "\n",
    "for column in ['data_name', 'stop_point_index']:\n",
    "    if column in X1.columns:\n",
    "        X1.drop(columns=[column], inplace=True)\n",
    "\n",
    "\n",
    "avg_x_loadings, avg_y_loadings, avg_canon_corrs = cca_utils.run_cca(X1, X2, n_comp=2, n_splits=5, show_plots=False)\n",
    "\n",
    "cca_plotting.plot_x_loadings(avg_x_loadings, avg_canon_corrs, X1)\n",
    "\n"
   ]
  },
  {
   "cell_type": "markdown",
   "metadata": {},
   "source": [
    "### PCA"
   ]
  },
  {
   "cell_type": "code",
   "execution_count": null,
   "metadata": {},
   "outputs": [],
   "source": [
    "pf.use_lr_on_all(test_or_control=None, y_var_column=y_var_column, use_pca=True)\n",
    "pf.summary_df.head(10)"
   ]
  },
  {
   "cell_type": "code",
   "execution_count": null,
   "metadata": {},
   "outputs": [],
   "source": [
    "# Create a DataFrame of loadings\n",
    "loadings = pf.pca.components_\n",
    "feature_names = pf.original_x_var_df.columns\n",
    "column_names = [f'x{i}' for i in range(loadings.shape[0])]\n",
    "pca_loadings_df = pd.DataFrame(loadings.T, columns=column_names, index=feature_names)"
   ]
  },
  {
   "cell_type": "code",
   "execution_count": null,
   "metadata": {},
   "outputs": [],
   "source": [
    "# show explained variance\n",
    "\n",
    "sorted_result = pf.summary_df[pf.summary_df['p_value'] <= 0.05].sort_values(by='Coefficient', ascending=False).copy()\n",
    "for i in range(10):\n",
    "    print('i:', i)\n",
    "    sorted_result_row = sorted_result.iloc[i]\n",
    "    pca_x = sorted_result_row.name\n",
    "    if pca_x == 'const':\n",
    "        continue\n",
    "    #column = pca_loadings_df.columns[i]\n",
    "    print('pca_x:', pca_x)\n",
    "    print('sorted_result_row:', sorted_result_row)\n",
    "    print(pca_loadings_df[pca_x].sort_values(ascending=False).head(50))\n",
    "    #print(df_loadings[column].sort_values(ascending=False).tail(5))"
   ]
  },
  {
   "cell_type": "code",
   "execution_count": null,
   "metadata": {},
   "outputs": [],
   "source": [
    "pf.summary_df[pf.summary_df['p_value'] <= 0.05].sort_values(by='Coefficient', ascending=False)"
   ]
  },
  {
   "cell_type": "code",
   "execution_count": null,
   "metadata": {},
   "outputs": [],
   "source": [
    "specific_columns = [column for column in pf.summary_df.index if 'nxt_ff_cluster_100' in column]"
   ]
  },
  {
   "cell_type": "code",
   "execution_count": null,
   "metadata": {},
   "outputs": [],
   "source": [
    "pf.summary_df.loc('cur_ff_cluster_100_combd_latest_vis_time_before_stop')"
   ]
  },
  {
   "cell_type": "code",
   "execution_count": null,
   "metadata": {},
   "outputs": [],
   "source": [
    "pf.summary_df.head(50)"
   ]
  },
  {
   "cell_type": "code",
   "execution_count": null,
   "metadata": {},
   "outputs": [],
   "source": [
    "pf.plan_x_tc['whether_test']"
   ]
  },
  {
   "cell_type": "code",
   "execution_count": null,
   "metadata": {},
   "outputs": [],
   "source": [
    "pf.summary_df.loc['dummy'] # both"
   ]
  },
  {
   "cell_type": "code",
   "execution_count": null,
   "metadata": {},
   "outputs": [],
   "source": [
    "features = [column for column in pf.summary_df.index if 'latest_vis_time_before_stop' in column]"
   ]
  },
  {
   "cell_type": "code",
   "execution_count": null,
   "metadata": {},
   "outputs": [],
   "source": [
    "pf.summary_df.loc[features] # control"
   ]
  },
  {
   "cell_type": "code",
   "execution_count": null,
   "metadata": {},
   "outputs": [],
   "source": [
    "pf.plan_x_tc[pf.plan_x_tc['nxt_ff_cluster_100_combd_latest_vis_rel_time'].between(-1, 0)]"
   ]
  },
  {
   "cell_type": "code",
   "execution_count": null,
   "metadata": {},
   "outputs": [],
   "source": [
    "sns.histplot(pf.plan_x_tc['nxt_ff_cluster_100_combd_latest_vis_rel_time'], binrange=(-5, 5))\n",
    "plt.show()"
   ]
  },
  {
   "cell_type": "code",
   "execution_count": null,
   "metadata": {},
   "outputs": [],
   "source": [
    "pf.summary_df.loc['nxt_ff_cluster_100_combd_latest_vis_rel_time'] # test"
   ]
  },
  {
   "cell_type": "markdown",
   "metadata": {},
   "source": [
    "## non-linearity"
   ]
  },
  {
   "cell_type": "code",
   "execution_count": null,
   "metadata": {},
   "outputs": [],
   "source": [
    "import numpy as np\n",
    "import pandas as pd\n",
    "import statsmodels.api as sm\n",
    "from sklearn.preprocessing import PolynomialFeatures\n",
    "\n",
    "# Assuming X_train and y_train are your features and target variable\n",
    "poly = PolynomialFeatures(degree=2, include_bias=False)\n",
    "X_poly = poly.fit_transform(pf.x_var_df)\n",
    "\n",
    "# Convert to DataFrame for better handling\n",
    "X_poly_df = pd.DataFrame(X_poly, columns=poly.get_feature_names_out())\n"
   ]
  },
  {
   "cell_type": "code",
   "execution_count": null,
   "metadata": {},
   "outputs": [],
   "source": [
    "pf.x_var_df = X_poly_df.copy()"
   ]
  },
  {
   "cell_type": "code",
   "execution_count": null,
   "metadata": {},
   "outputs": [],
   "source": [
    "pf.y_var_df.reset_index(drop=True, inplace=True)"
   ]
  },
  {
   "cell_type": "code",
   "execution_count": null,
   "metadata": {},
   "outputs": [],
   "source": [
    "ml_inst = ml_methods_class.MlMethods()\n",
    "ml_inst.split_and_use_linear_regression(y_var_name=y_var_column)"
   ]
  },
  {
   "cell_type": "code",
   "execution_count": null,
   "metadata": {},
   "outputs": [],
   "source": [
    "ml_inst.summary_df"
   ]
  },
  {
   "cell_type": "code",
   "execution_count": null,
   "metadata": {},
   "outputs": [],
   "source": [
    "ml_inst.summary_df_all"
   ]
  },
  {
   "cell_type": "markdown",
   "metadata": {},
   "source": [
    "## vif"
   ]
  },
  {
   "cell_type": "code",
   "execution_count": null,
   "metadata": {},
   "outputs": [],
   "source": [
    "pd.set_option('display.max_colwidth', None)"
   ]
  },
  {
   "cell_type": "code",
   "execution_count": null,
   "metadata": {},
   "outputs": [
    {
     "ename": "NameError",
     "evalue": "name 'ml_inst' is not defined",
     "output_type": "error",
     "traceback": [
      "\u001b[0;31m---------------------------------------------------------------------------\u001b[0m\n",
      "\u001b[0;31mNameError\u001b[0m                                 Traceback (most recent call last)\n",
      "Cell \u001b[0;32mIn[19], line 1\u001b[0m\n",
      "\u001b[0;32m----> 1\u001b[0m \u001b[43mml_inst\u001b[49m\u001b[38;5;241m.\u001b[39muse_vif(ml_inst\u001b[38;5;241m.\u001b[39mx_var_df)\n",
      "\n",
      "\u001b[0;31mNameError\u001b[0m: name 'ml_inst' is not defined"
     ]
    }
   ],
   "source": []
  },
  {
   "cell_type": "code",
   "execution_count": null,
   "metadata": {},
   "outputs": [],
   "source": [
    "pf.vif_df[pf.vif_df['feature']=='dummy']"
   ]
  },
  {
   "cell_type": "code",
   "execution_count": null,
   "metadata": {},
   "outputs": [],
   "source": [
    "pf.vif_df.iloc[:30]"
   ]
  },
  {
   "cell_type": "markdown",
   "metadata": {},
   "source": [
    "## heatmap"
   ]
  },
  {
   "cell_type": "code",
   "execution_count": null,
   "metadata": {},
   "outputs": [],
   "source": [
    "specific_columns = [column for column in pf.vif_df['feature'].values if 'ff_angle' in column]"
   ]
  },
  {
   "cell_type": "code",
   "execution_count": null,
   "metadata": {},
   "outputs": [],
   "source": [
    "specific_columns = [column for column in pf.vif_df['feature'].values if 'better_angle_than_nxt_ff' in column]"
   ]
  },
  {
   "cell_type": "code",
   "execution_count": null,
   "metadata": {},
   "outputs": [],
   "source": [
    "specific_columns = [column for column in pf.vif_df['feature'].values if 'cur_ff_cluster_100' in column]\n"
   ]
  },
  {
   "cell_type": "code",
   "execution_count": null,
   "metadata": {},
   "outputs": [],
   "source": [
    "ml_inst.show_correlation_heatmap(specific_columns=None)"
   ]
  },
  {
   "cell_type": "markdown",
   "metadata": {},
   "source": [
    "## neural network"
   ]
  },
  {
   "cell_type": "code",
   "execution_count": null,
   "metadata": {},
   "outputs": [],
   "source": [
    "ml_inst.use_neural_network()"
   ]
  },
  {
   "cell_type": "markdown",
   "metadata": {},
   "source": [
    "# Data summary"
   ]
  },
  {
   "cell_type": "code",
   "execution_count": null,
   "metadata": {},
   "outputs": [],
   "source": [
    "heading_info_df = ps.test_heading_info_df.copy()"
   ]
  },
  {
   "cell_type": "code",
   "execution_count": null,
   "metadata": {},
   "outputs": [],
   "source": [
    "heading_info_df = ps.ctrl_heading_info_df.copy()"
   ]
  },
  {
   "cell_type": "code",
   "execution_count": null,
   "metadata": {},
   "outputs": [],
   "source": [
    "heading_info_df[['cur_ff_angle_at_ref', 'nxt_ff_angle_at_ref', 'd_heading_of_traj', 'cur_d_heading_of_arc']] = heading_info_df[['cur_ff_angle_at_ref', 'nxt_ff_angle_at_ref', 'd_heading_of_traj', 'cur_d_heading_of_arc']]*180/math.pi"
   ]
  },
  {
   "cell_type": "code",
   "execution_count": null,
   "metadata": {},
   "outputs": [],
   "source": [
    "(pf.plan_x_tc[['cur_ff_angle_at_ref', 'nxt_ff_angle_at_ref']]*180/math.pi).describe()"
   ]
  },
  {
   "cell_type": "markdown",
   "metadata": {},
   "source": [
    "### Diff vs diff in abs"
   ]
  },
  {
   "cell_type": "code",
   "execution_count": null,
   "metadata": {},
   "outputs": [],
   "source": [
    "sns.histplot(pf.plan_y_tc['diff_in_d_heading'], color='blue', alpha=0.4, binrange=(-75, 75))\n",
    "sns.histplot(pf.plan_y_tc['diff_in_abs_d_heading'], color='orange', alpha=0.4, binrange=(-75, 75))\n",
    "plt.show()"
   ]
  },
  {
   "cell_type": "markdown",
   "metadata": {},
   "source": [
    "### take out nxt ff angle to the right at ref"
   ]
  },
  {
   "cell_type": "code",
   "execution_count": null,
   "metadata": {},
   "outputs": [],
   "source": [
    "plan_x_tc = pf.plan_x_tc.copy()\n",
    "plan_y_tc = pf.plan_y_tc.copy()\n",
    "plan_x_tc['unique_id'] = np.arange(len(plan_x_tc))\n",
    "plan_y_tc['unique_id'] = np.arange(len(plan_x_tc))"
   ]
  },
  {
   "cell_type": "code",
   "execution_count": null,
   "metadata": {},
   "outputs": [],
   "source": [
    "plan_x_sub = plan_x_tc[plan_x_tc['nxt_ff_angle_at_ref'] < 0].copy().sort_values(by='unique_id')\n",
    "plan_y_sub = plan_y_tc[plan_y_tc['unique_id'].isin(plan_x_sub['unique_id'])].sort_values(by='unique_id')"
   ]
  },
  {
   "cell_type": "code",
   "execution_count": null,
   "metadata": {},
   "outputs": [],
   "source": [
    "pf.plan_x_tc.shape"
   ]
  },
  {
   "cell_type": "code",
   "execution_count": null,
   "metadata": {},
   "outputs": [],
   "source": [
    "plan_x_sub.shape"
   ]
  },
  {
   "cell_type": "code",
   "execution_count": null,
   "metadata": {},
   "outputs": [],
   "source": [
    "(plan_y_sub[['diff_in_d_heading', 'diff_in_abs_d_heading']]).describe()"
   ]
  },
  {
   "cell_type": "code",
   "execution_count": null,
   "metadata": {},
   "outputs": [],
   "source": [
    "heading_sub = heading_info_df[heading_info_df['nxt_ff_angle_at_ref'] < 0].copy()"
   ]
  },
  {
   "cell_type": "code",
   "execution_count": null,
   "metadata": {},
   "outputs": [],
   "source": [
    "# control\n",
    "heading_sub[['diff_in_d_heading', 'diff_in_abs_d_heading', 'cur_ff_angle_at_ref', 'nxt_ff_angle_at_ref', 'angle_from_m_before_stop_to_nxt_ff', 'angle_from_cur_ff_landing_to_nxt_ff']].describe()"
   ]
  },
  {
   "cell_type": "code",
   "execution_count": null,
   "metadata": {},
   "outputs": [],
   "source": [
    "# test\n",
    "heading_sub[['diff_in_d_heading', 'diff_in_abs_d_heading', 'cur_ff_angle_at_ref', 'nxt_ff_angle_at_ref', 'angle_from_m_before_stop_to_nxt_ff', 'angle_from_cur_ff_landing_to_nxt_ff']].describe()"
   ]
  },
  {
   "cell_type": "code",
   "execution_count": null,
   "metadata": {},
   "outputs": [],
   "source": [
    "# control\n",
    "heading_info_df[['diff_in_d_heading', 'diff_in_abs_d_heading', 'cur_ff_angle_at_ref', 'nxt_ff_angle_at_ref', 'angle_from_m_before_stop_to_nxt_ff', 'angle_from_cur_ff_landing_to_nxt_ff']].describe()"
   ]
  },
  {
   "cell_type": "code",
   "execution_count": null,
   "metadata": {},
   "outputs": [],
   "source": [
    "# test\n",
    "heading_info_df[['diff_in_d_heading', 'diff_in_abs_d_heading', 'cur_ff_angle_at_ref', 'nxt_ff_angle_at_ref', 'angle_from_m_before_stop_to_nxt_ff', 'angle_from_cur_ff_landing_to_nxt_ff']].describe()"
   ]
  },
  {
   "cell_type": "code",
   "execution_count": null,
   "metadata": {},
   "outputs": [],
   "source": [
    "heading_sub2 = heading_info_df[heading_info_df['nxt_ff_angle_at_ref'] > 0].copy()"
   ]
  },
  {
   "cell_type": "code",
   "execution_count": null,
   "metadata": {},
   "outputs": [],
   "source": [
    "# control\n",
    "heading_sub2[['diff_in_d_heading', 'diff_in_abs_d_heading', 'cur_ff_angle_at_ref', 'nxt_ff_angle_at_ref', 'angle_from_m_before_stop_to_nxt_ff', 'angle_from_cur_ff_landing_to_nxt_ff']].describe()"
   ]
  },
  {
   "cell_type": "code",
   "execution_count": null,
   "metadata": {},
   "outputs": [],
   "source": [
    "# test\n",
    "heading_sub2[['diff_in_d_heading', 'diff_in_abs_d_heading', 'cur_ff_angle_at_ref', 'nxt_ff_angle_at_ref', 'angle_from_m_before_stop_to_nxt_ff', 'angle_from_cur_ff_landing_to_nxt_ff']].describe()"
   ]
  },
  {
   "cell_type": "markdown",
   "metadata": {},
   "source": [
    "## histplot of ratios/diff"
   ]
  },
  {
   "cell_type": "code",
   "execution_count": null,
   "metadata": {},
   "outputs": [],
   "source": [
    "# pf.make_plan_y_tc(already_made_ok=True)"
   ]
  },
  {
   "cell_type": "code",
   "execution_count": null,
   "metadata": {},
   "outputs": [],
   "source": [
    "sns.histplot(pf.plan_y_test['ratio'], bins=100, binrange=(-20, 20), stat='probability')\n",
    "sns.histplot(pf.plan_y_ctrl['ratio'], bins=100, binrange=(-20, 20), stat='probability')\n",
    "plt.show()"
   ]
  },
  {
   "cell_type": "code",
   "execution_count": null,
   "metadata": {},
   "outputs": [],
   "source": [
    "binrange = (-80, 80)\n",
    "sns.histplot(pf.plan_y_test['diff_in_abs_d_heading'], bins=100, stat='probability', binrange=binrange, alpha=0.5, color='blue')\n",
    "sns.histplot(pf.plan_y_ctrl['diff_in_abs_d_heading'], bins=100, stat='probability', binrange=binrange, alpha=0.5, color='orange')\n",
    "plt.show()"
   ]
  },
  {
   "cell_type": "code",
   "execution_count": null,
   "metadata": {},
   "outputs": [],
   "source": [
    "sns.histplot(pf.plan_y_test['ratio'], bins=100, binrange=(-20, 20), stat='probability')\n",
    "sns.histplot(pf.plan_y_ctrl['ratio'], bins=100, binrange=(-20, 20), stat='probability')\n",
    "plt.show()"
   ]
  },
  {
   "cell_type": "code",
   "execution_count": null,
   "metadata": {},
   "outputs": [],
   "source": [
    "binrange = (-80, 80)\n",
    "sns.histplot(pf.plan_y_test['diff_in_abs_d_heading'], bins=100, stat='probability', binrange=binrange, alpha=0.5)\n",
    "sns.histplot(pf.plan_y_ctrl['diff_in_abs_d_heading'], bins=100, stat='probability', binrange=binrange, alpha=0.5)\n",
    "plt.show()"
   ]
  },
  {
   "cell_type": "markdown",
   "metadata": {},
   "source": [
    "## histplot of clusters"
   ]
  },
  {
   "cell_type": "code",
   "execution_count": null,
   "metadata": {},
   "outputs": [],
   "source": [
    "for var in ['num_closer_than_nxt_ff_to_stop', 'num_ff_visible_later_than_nxt_ff_before_stop',\n",
    "            'num_ff_within_n_cm_to_stop', 'nxt_ff_cluster_size',\n",
    "            'cur_ff_cluster_size']:\n",
    "    sns.histplot(pf.plan_x_test[var], binwidth=1, binrange=(-0.5, math.ceil(max(pf.plan_x_test[var])+0.5 )))\n",
    "    plt.title(var)\n",
    "    plt.show()\n",
    "    "
   ]
  },
  {
   "cell_type": "markdown",
   "metadata": {},
   "source": [
    "## barplots of ratios/diff"
   ]
  },
  {
   "cell_type": "code",
   "execution_count": null,
   "metadata": {},
   "outputs": [],
   "source": [
    "sns.boxplot(pf.plan_y_tc, x='whether_test', y='diff_in_abs_d_heading')\n",
    "plt.ylim(-80, 80)\n",
    "plt.show()"
   ]
  },
  {
   "cell_type": "code",
   "execution_count": null,
   "metadata": {},
   "outputs": [],
   "source": [
    "sns.boxplot(pf.plan_y_tc, x='whether_test', y='ratio')\n",
    "#sns.boxplot(pf.plan_y_ctrl['ratio'])\n",
    "plt.ylim(-5, 5)\n",
    "plt.show()"
   ]
  },
  {
   "cell_type": "code",
   "execution_count": null,
   "metadata": {},
   "outputs": [],
   "source": [
    "\n",
    "ratio_stat = pd.concat([pf.plan_y_test['ratio'].describe(), pf.plan_y_ctrl['ratio'].describe()], axis=1)\n",
    "ratio_stat.columns = ['test_ratio', 'ctrl_ratio']\n",
    "diff_stat = pd.concat([pf.plan_y_test['diff_in_abs_d_heading'].describe(), pf.plan_y_ctrl['diff_in_abs_d_heading'].describe()], axis=1)\n",
    "diff_stat.columns = ['test_diff_in_abs_d_heading', 'ctrl_diff_in_abs_d_heading']\n",
    "all_stat = pd.concat([ratio_stat, diff_stat], axis=1)\n",
    "all_stat"
   ]
  },
  {
   "cell_type": "code",
   "execution_count": null,
   "metadata": {},
   "outputs": [],
   "source": [
    "all_stat.iloc[3:, :2]"
   ]
  },
  {
   "cell_type": "markdown",
   "metadata": {},
   "source": [
    "## polar plot"
   ]
  },
  {
   "cell_type": "code",
   "execution_count": null,
   "metadata": {},
   "outputs": [],
   "source": [
    "gc.collect()"
   ]
  },
  {
   "cell_type": "code",
   "execution_count": null,
   "metadata": {},
   "outputs": [],
   "source": [
    "pf.compare_test_and_control_in_plotly_polar_plots(max_instances_each=50, start='stop_point_index', end='next_stop_point_index')"
   ]
  },
  {
   "cell_type": "markdown",
   "metadata": {},
   "source": [
    "## histplot of ff angle at ref"
   ]
  },
  {
   "cell_type": "code",
   "execution_count": null,
   "metadata": {},
   "outputs": [],
   "source": [
    "pf.get_stops_near_ff_df(test_or_control='ctrl')\n",
    "both_ff_at_ref_df_ctrl = pf.get_both_ff_at_ref_df()\n",
    "nxt_ff_at_stop_df_ctrl = pf.get_nxt_ff_at_stop_df()"
   ]
  },
  {
   "cell_type": "code",
   "execution_count": null,
   "metadata": {},
   "outputs": [],
   "source": [
    "pf.get_stops_near_ff_df(test_or_control='test')\n",
    "pf._find_nxt_ff_df_2_and_cur_ff_df_2_based_on_specific_point_index(all_point_index=pf.cur_ff_df['point_index_ff_first_seen'].values)\n",
    "both_ff_at_ref_df_test = pf.get_both_ff_at_ref_df().copy()\n",
    "nxt_ff_at_stop_df_test = pf.get_nxt_ff_at_stop_df().copy()\n",
    "test_df = pd.concat([both_ff_at_ref_df_test, nxt_ff_at_stop_df_test], axis=1)"
   ]
  },
  {
   "cell_type": "code",
   "execution_count": null,
   "metadata": {},
   "outputs": [],
   "source": [
    "\n",
    "pf.get_stops_near_ff_df(test_or_control='control')\n",
    "pf._find_nxt_ff_df_2_and_cur_ff_df_2_based_on_specific_point_index(all_point_index=pf.cur_ff_df['point_index_ff_first_seen'].values)\n",
    "both_ff_at_ref_df_ctrl = pf.get_both_ff_at_ref_df().copy()\n",
    "nxt_ff_at_stop_df_ctrl = pf.get_nxt_ff_at_stop_df().copy()\n",
    "ctrl_df = pd.concat([both_ff_at_ref_df_ctrl, nxt_ff_at_stop_df_ctrl], axis=1)"
   ]
  },
  {
   "cell_type": "code",
   "execution_count": null,
   "metadata": {},
   "outputs": [],
   "source": [
    "sns.histplot(pf.plan_x_test['nxt_ff_angle_at_ref'], stat='probability', binwidth=0.2, alpha=0.5)\n",
    "sns.histplot(pf.plan_x_ctrl['nxt_ff_angle_at_ref'], stat='probability', binwidth=0.2, alpha=0.5)\n",
    "plt.show()"
   ]
  },
  {
   "cell_type": "code",
   "execution_count": null,
   "metadata": {},
   "outputs": [],
   "source": [
    "sns.histplot(test_df['nxt_ff_angle_at_ref'], stat='probability', binwidth=0.25, alpha=0.5)\n",
    "sns.histplot(ctrl_df['nxt_ff_angle_at_ref'], stat='probability', binwidth=0.27, alpha=0.5)\n",
    "plt.show()"
   ]
  },
  {
   "cell_type": "code",
   "execution_count": null,
   "metadata": {},
   "outputs": [],
   "source": [
    "sns.histplot(test_df['cur_ff_angle_at_ref'], stat='probability', binwidth=0.25, alpha=0.5)\n",
    "sns.histplot(ctrl_df['cur_ff_angle_at_ref'], stat='probability', binwidth=0.27, alpha=0.5)\n",
    "plt.show()"
   ]
  },
  {
   "cell_type": "code",
   "execution_count": null,
   "metadata": {},
   "outputs": [],
   "source": [
    "sns.histplot(test_df['cur_ff_distance_at_ref'], stat='probability', binwidth=20, alpha=0.5)\n",
    "sns.histplot(ctrl_df['cur_ff_distance_at_ref'], stat='probability', binwidth=21, alpha=0.5)\n",
    "plt.show()"
   ]
  },
  {
   "cell_type": "code",
   "execution_count": null,
   "metadata": {},
   "outputs": [],
   "source": [
    "sns.histplot(test_df['nxt_ff_distance_at_stop'], stat='probability', binwidth=20, alpha=0.5)\n",
    "sns.histplot(ctrl_df['nxt_ff_distance_at_stop'], stat='probability', binwidth=21, alpha=0.5)\n",
    "plt.show()"
   ]
  },
  {
   "cell_type": "code",
   "execution_count": null,
   "metadata": {},
   "outputs": [],
   "source": [
    "sns.histplot(test_df['nxt_ff_distance_at_ref'], stat='probability', binwidth=20)\n",
    "sns.histplot(ctrl_df['nxt_ff_distance_at_ref'], stat='probability', binwidth=20)\n",
    "plt.show()"
   ]
  },
  {
   "cell_type": "code",
   "execution_count": null,
   "metadata": {},
   "outputs": [],
   "source": [
    "sns.histplot(test_df['nxt_ff_angle_at_stop'], stat='probability', binwidth=0.25, alpha=0.5)\n",
    "sns.histplot(ctrl_df['nxt_ff_angle_at_stop'], stat='probability', binwidth=0.27, alpha=0.5)\n",
    "plt.show()"
   ]
  },
  {
   "cell_type": "code",
   "execution_count": null,
   "metadata": {},
   "outputs": [],
   "source": [
    "stop!"
   ]
  },
  {
   "cell_type": "markdown",
   "metadata": {},
   "source": [
    "# Remake heading_info_df"
   ]
  },
  {
   "cell_type": "code",
   "execution_count": null,
   "metadata": {},
   "outputs": [],
   "source": [
    "ref_point_mode = 'time after cur ff visible'\n",
    "ref_point_value = 0.1"
   ]
  },
  {
   "cell_type": "code",
   "execution_count": 9,
   "metadata": {},
   "outputs": [],
   "source": [
    "ref_point_mode = 'distance'\n",
    "ref_point_value = -100"
   ]
  },
  {
   "cell_type": "code",
   "execution_count": null,
   "metadata": {},
   "outputs": [],
   "source": [
    "gc.collect()"
   ]
  },
  {
   "cell_type": "code",
   "execution_count": null,
   "metadata": {},
   "outputs": [],
   "source": [
    "# ref_point_mode = 'distance'\n",
    "# ref_point_value = -150\n",
    "\n",
    "ref_point_mode = 'time after cur ff visible'\n",
    "ref_point_value = 0.1\n",
    "monkey_name='monkey_Schro'\n",
    "\n",
    "ps = monkey_plan_factors_x_sess_class.PlanAcrossSessions(monkey_name=monkey_name)\n",
    "sp = show_planning_class.ShowPlanning(monkey_name=monkey_name)\n",
    "ps.test_heading_info_df, ps.ctrl_heading_info_df = sp.make_or_retrieve_combd_heading_df_x_sessions_from_both_test_and_control(ref_point_mode, ref_point_value, combd_heading_df_x_sessions_exists_ok=True,\n",
    "                                                                show_printed_output=True, heading_info_df_exists_ok=True,\n",
    "                                                                stops_near_ff_df_exists_ok=False)\n",
    "\n",
    "ps.process_both_heading_info_df()     \n",
    "\n",
    "\n",
    "#column_for_split = 'nxt_ff_last_flash_time_bbas'\n",
    "#column_for_split = 'nxt_ff_cluster_last_flash_time_bbas'\n",
    "#column_for_split = 'NXT_time_ff_last_seen_bbas'\n",
    "column_for_split = 'nxt_ff_cluster_last_seen_time_bbas'\n",
    "test_and_ctrl_heading_info_df = pd.concat([ps.test_heading_info_df, ps.ctrl_heading_info_df[ps.test_heading_info_df.columns]], axis=0)\n",
    "ps.ctrl_heading_info_df = test_and_ctrl_heading_info_df[test_and_ctrl_heading_info_df[column_for_split].isnull()].copy()\n",
    "ps.test_heading_info_df = test_and_ctrl_heading_info_df[~test_and_ctrl_heading_info_df[column_for_split].isnull()].copy()\n",
    "\n",
    "\n",
    "\n",
    "ps.filter_both_heading_info_df(max_curv_range=150)\n",
    "test_df = ps.test_heading_info_df.copy()\n",
    "ctrl_df = ps.ctrl_heading_info_df.copy()\n",
    "diff_and_ratio_stat_df = show_planning_utils.make_diff_and_ratio_stat_df(test_df, ctrl_df)\n",
    "print(diff_and_ratio_stat_df)"
   ]
  },
  {
   "cell_type": "markdown",
   "metadata": {},
   "source": [
    "## compare distributions"
   ]
  },
  {
   "cell_type": "code",
   "execution_count": null,
   "metadata": {},
   "outputs": [],
   "source": [
    "sns.histplot(test_df['nxt_ff_distance_at_ref'], stat='probability', binwidth=10, alpha=0.5, color='blue')\n",
    "sns.histplot(ctrl_df['nxt_ff_distance_at_ref'], stat='probability', binwidth=10, alpha=0.5, color='green')\n",
    "plt.show()"
   ]
  },
  {
   "cell_type": "code",
   "execution_count": null,
   "metadata": {},
   "outputs": [],
   "source": [
    "sns.histplot(test_df['nxt_ff_angle_at_ref'], stat='probability', binwidth=0.2, alpha=0.5, color='blue')\n",
    "sns.histplot(ctrl_df['nxt_ff_angle_at_ref'], stat='probability', binwidth=0.2, alpha=0.5, color='green')\n",
    "plt.show()"
   ]
  },
  {
   "cell_type": "code",
   "execution_count": null,
   "metadata": {},
   "outputs": [],
   "source": [
    "sns.histplot(test_df['next_stop_time']-test_df['stop_time'], stat='probability', binwidth=0.1, alpha=0.5, color='blue')\n",
    "sns.histplot(ctrl_df['next_stop_time']-ctrl_df['stop_time'], stat='probability', binwidth=0.1, alpha=0.5, color='green')\n",
    "plt.xlim([0, 10])\n",
    "plt.show()"
   ]
  },
  {
   "cell_type": "code",
   "execution_count": null,
   "metadata": {},
   "outputs": [],
   "source": [
    "sns.histplot(test_df['next_stop_point_index']-test_df['stop_point_index'], stat='probability', binwidth=10, alpha=0.5, color='blue')\n",
    "sns.histplot(ctrl_df['next_stop_point_index']-ctrl_df['stop_point_index'], stat='probability', binwidth=10, alpha=0.5, color='green')\n",
    "plt.xlim([0, 1000])\n",
    "plt.show()"
   ]
  },
  {
   "cell_type": "code",
   "execution_count": null,
   "metadata": {},
   "outputs": [],
   "source": [
    "sns.histplot(test_df['cum_distance_between_two_stops'], stat='probability', alpha=0.5, color='blue', binwidth=25)\n",
    "sns.histplot(ctrl_df['cum_distance_between_two_stops'], stat='probability', alpha=0.5, color='green', binwidth=24)\n",
    "plt.xlim([0, 700])\n",
    "plt.show()"
   ]
  },
  {
   "cell_type": "code",
   "execution_count": null,
   "metadata": {},
   "outputs": [],
   "source": [
    "len(test_df[~test_df['nxt_ff_cluster_last_flash_time_bbas'].isnull()])/len(test_df)"
   ]
  },
  {
   "cell_type": "code",
   "execution_count": null,
   "metadata": {},
   "outputs": [],
   "source": [
    "len(ctrl_df[~ctrl_df['nxt_ff_cluster_last_flash_time_bbas'].isnull()])/len(ctrl_df)"
   ]
  },
  {
   "cell_type": "code",
   "execution_count": null,
   "metadata": {},
   "outputs": [],
   "source": [
    "len(test_df[~test_df['nxt_ff_cluster_last_flash_time_bsans'].isnull()])/len(test_df)"
   ]
  },
  {
   "cell_type": "code",
   "execution_count": null,
   "metadata": {},
   "outputs": [],
   "source": [
    "len(ctrl_df[~ctrl_df['nxt_ff_cluster_last_flash_time_bsans'].isnull()])/len(ctrl_df)"
   ]
  },
  {
   "cell_type": "markdown",
   "metadata": {},
   "source": [
    "# Others"
   ]
  },
  {
   "cell_type": "markdown",
   "metadata": {},
   "source": [
    "## check ff vs ff cluster"
   ]
  },
  {
   "cell_type": "code",
   "execution_count": null,
   "metadata": {},
   "outputs": [],
   "source": [
    "ff_column = 'nxt_ff_last_seen_rel_time_bbas'\n",
    "cluster_column = 'nxt_ff_cluster_last_seen_rel_time_bbas'\n",
    "df = snf.shared_stops_near_ff_df\n",
    "\n",
    "find_stops_near_ff_utils.check_ff_vs_cluster(df, ff_column, cluster_column)"
   ]
  },
  {
   "cell_type": "code",
   "execution_count": null,
   "metadata": {},
   "outputs": [],
   "source": [
    "ff_column = 'NXT_time_ff_last_seen_bbas'\n",
    "cluster_column = 'nxt_ff_last_flash_time_bbas'\n",
    "df = snf.shared_stops_near_ff_df\n",
    "\n",
    "find_stops_near_ff_utils.check_ff_vs_cluster(df, ff_column, cluster_column)"
   ]
  },
  {
   "cell_type": "code",
   "execution_count": null,
   "metadata": {},
   "outputs": [],
   "source": [
    "ff_column = 'nxt_ff_cluster_last_seen_time_bbas'\n",
    "cluster_column = 'nxt_ff_cluster_last_flash_time_bbas'\n",
    "df = snf.shared_stops_near_ff_df\n",
    "\n",
    "find_stops_near_ff_utils.check_ff_vs_cluster(df, ff_column, cluster_column)"
   ]
  },
  {
   "cell_type": "code",
   "execution_count": null,
   "metadata": {},
   "outputs": [],
   "source": [
    "len_subset = len(df[(df[ff_column].isnull()) & (~df[cluster_column].isnull())])\n",
    "print(f'There are {len_subset} rows where {ff_column} is null but {cluster_column} is not null out of {len(df)} rows')"
   ]
  },
  {
   "cell_type": "code",
   "execution_count": null,
   "metadata": {},
   "outputs": [],
   "source": [
    "df = test_and_ctrl_heading_info_df\n",
    "df[(df[ff_column].isnull()) & (~df[cluster_column].isnull())][['nxt_ff_distance_at_ref', 'nxt_ff_angle_at_ref']].describe()"
   ]
  },
  {
   "cell_type": "code",
   "execution_count": null,
   "metadata": {},
   "outputs": [],
   "source": [
    "df[['nxt_ff_distance_at_ref', 'nxt_ff_angle_at_ref']].describe()"
   ]
  },
  {
   "cell_type": "code",
   "execution_count": null,
   "metadata": {},
   "outputs": [],
   "source": [
    "512/11235"
   ]
  },
  {
   "cell_type": "markdown",
   "metadata": {},
   "source": [
    "## see traj_curv"
   ]
  },
  {
   "cell_type": "code",
   "execution_count": null,
   "metadata": {},
   "outputs": [],
   "source": [
    "gc.collect()"
   ]
  },
  {
   "cell_type": "code",
   "execution_count": null,
   "metadata": {},
   "outputs": [],
   "source": [
    "current_index = 2"
   ]
  },
  {
   "cell_type": "code",
   "execution_count": null,
   "metadata": {},
   "outputs": [],
   "source": [
    "for index, row in dc.stops_near_ff_df_counted.iterrows():\n",
    "    if index > current_index:\n",
    "        current_index += 1\n",
    "    else:\n",
    "        continue\n",
    "    dc.stops_near_ff_row = row\n",
    "    dc.stop_point_index = row.stop_point_index\n",
    "    dc._prepare_to_make_plotly_fig_for_dash_given_stop_point_index(dc.stop_point_index)\n",
    "    dc._further_prepare_plotting_info_for_the_duration()\n",
    "    dc.fig = dc._produce_fig_for_dash()\n",
    "    dc.fig.show()\n",
    "\n",
    "    duration = [row['stop_time'], row['next_stop_time']]\n",
    "    curv_sub = dc.curv_of_traj_df[dc.curv_of_traj_df['time'].between(*duration)].copy()\n",
    "    plt.scatter(curv_sub['time'], curv_sub['curv_of_traj'] * 180/math.pi)\n",
    "    plt.show()\n",
    "\n",
    "    if index == current_index + 10:\n",
    "        break"
   ]
  },
  {
   "cell_type": "markdown",
   "metadata": {},
   "source": [
    "## Experiment on evening out angles"
   ]
  },
  {
   "cell_type": "code",
   "execution_count": null,
   "metadata": {},
   "outputs": [],
   "source": [
    "ref_point_mode = 'distance'\n",
    "ref_point_value = -150\n",
    "monkey_name = 'monkey_Bruno'\n",
    "\n",
    "ps = monkey_plan_factors_x_sess_class.PlanAcrossSessions(monkey_name=monkey_name)\n",
    "sp = show_planning_class.ShowPlanning(monkey_name=monkey_name)\n",
    "ps.test_heading_info_df, ps.ctrl_heading_info_df = sp.make_or_retrieve_combd_heading_df_x_sessions_from_both_test_and_control(ref_point_mode, ref_point_value, combd_heading_df_x_sessions_exists_ok=True,\n",
    "                                                                show_printed_output=True, heading_info_df_exists_ok=False,\n",
    "                                                                stops_near_ff_df_exists_ok=False)\n",
    "ps.process_both_heading_info_df()\n",
    "\n",
    "#column_for_split = 'nxt_ff_last_flash_time_bbas'\n",
    "#column_for_split = 'nxt_ff_cluster_last_flash_time_bbas'\n",
    "#column_for_split = 'NXT_time_ff_last_seen_bbas'\n",
    "column_for_split = 'nxt_ff_cluster_last_seen_time_bbas'\n",
    "test_and_ctrl_heading_info_df = pd.concat([ps.test_heading_info_df, ps.ctrl_heading_info_df[ps.test_heading_info_df.columns]], axis=0)\n",
    "ps.ctrl_heading_info_df = test_and_ctrl_heading_info_df[test_and_ctrl_heading_info_df[column_for_split].isnull()].copy()\n",
    "ps.test_heading_info_df = test_and_ctrl_heading_info_df[~test_and_ctrl_heading_info_df[column_for_split].isnull()].copy()\n",
    "\n",
    "\n",
    "\n",
    "ps.filter_both_heading_info_df(max_curv_range=150)\n",
    "test_df = ps.test_heading_info_df.copy()\n",
    "ctrl_df = ps.ctrl_heading_info_df.copy()\n",
    "diff_and_ratio_stat_df = show_planning_utils.make_diff_and_ratio_stat_df(test_df, ctrl_df)\n",
    "print(diff_and_ratio_stat_df)"
   ]
  },
  {
   "cell_type": "code",
   "execution_count": null,
   "metadata": {},
   "outputs": [],
   "source": [
    "ps.ctrl_heading_info_df.shape"
   ]
  },
  {
   "cell_type": "code",
   "execution_count": null,
   "metadata": {},
   "outputs": [],
   "source": [
    "ps.ctrl_heading_info_df"
   ]
  },
  {
   "cell_type": "code",
   "execution_count": null,
   "metadata": {},
   "outputs": [],
   "source": [
    "\n",
    "\n",
    "diff_and_ratio_stat_df = show_planning_utils.make_diff_and_ratio_stat_df(ps.test_heading_info_df, ps.ctrl_heading_info_df)\n",
    "print(diff_and_ratio_stat_df)"
   ]
  },
  {
   "cell_type": "code",
   "execution_count": null,
   "metadata": {},
   "outputs": [],
   "source": [
    "sns.histplot(ps.test_heading_info_df['cur_ff_angle_at_ref'], stat='probability', binwidth=0.1, alpha=0.5, color='blue')\n",
    "sns.histplot(ps.ctrl_heading_info_df['cur_ff_angle_at_ref'], stat='probability', binwidth=0.1, alpha=0.5, color='orange')\n",
    "plt.show()"
   ]
  },
  {
   "cell_type": "code",
   "execution_count": null,
   "metadata": {},
   "outputs": [],
   "source": [
    "sns.histplot(ps.test_heading_info_df['nxt_ff_distance_at_ref'], stat='probability', binwidth=10, alpha=0.5, color='blue')\n",
    "sns.histplot(ps.ctrl_heading_info_df['nxt_ff_distance_at_ref'], stat='probability', binwidth=10, alpha=0.5, color='orange')\n",
    "plt.show()"
   ]
  },
  {
   "cell_type": "code",
   "execution_count": null,
   "metadata": {},
   "outputs": [],
   "source": [
    "sns.histplot(ps.test_heading_info_df['nxt_ff_angle_at_ref'], stat='probability', binwidth=0.2, alpha=0.5, color='blue')\n",
    "sns.histplot(ps.ctrl_heading_info_df['nxt_ff_angle_at_ref'], stat='probability', binwidth=0.2, alpha=0.5, color='orange')\n",
    "plt.show()"
   ]
  },
  {
   "cell_type": "code",
   "execution_count": null,
   "metadata": {},
   "outputs": [],
   "source": [
    "y1 = 'test_diff_in_abs_d_heading'\n",
    "y2 = 'ctrl_diff_in_abs_d_heading'"
   ]
  },
  {
   "cell_type": "code",
   "execution_count": null,
   "metadata": {},
   "outputs": [],
   "source": []
  },
  {
   "cell_type": "markdown",
   "metadata": {},
   "source": [
    "# debug"
   ]
  },
  {
   "cell_type": "code",
   "execution_count": null,
   "metadata": {},
   "outputs": [
    {
     "name": "stdout",
     "output_type": "stream",
     "text": [
      "Retrieved monkey_information\n",
      "The number of points that were removed due to delta_position exceeding the ceiling is 0\n",
      "Warning: ff_closest_stop_time_sorted has 35 points where monkey is outside of 589 points that are outside of the reward boundary, which is 5.94% of the points. They are replaced with the original ff_caught_T in ff_caught_T_new.\n",
      "Warning: ff_caught_T_new is not monotonically increasing. Will make it monotonically increasing.\n",
      "Note: ff_caught_T_sorted is replaced with ff_caught_T_new\n"
     ]
    },
    {
     "ename": "KeyboardInterrupt",
     "evalue": "",
     "output_type": "error",
     "traceback": [
      "\u001b[0;31m---------------------------------------------------------------------------\u001b[0m\n",
      "\u001b[0;31mKeyboardInterrupt\u001b[0m                         Traceback (most recent call last)\n",
      "Cell \u001b[0;32mIn[3], line 4\u001b[0m\n",
      "\u001b[1;32m      2\u001b[0m window_for_curv_of_traj\u001b[38;5;241m=\u001b[39m[\u001b[38;5;241m-\u001b[39m\u001b[38;5;241m25\u001b[39m, \u001b[38;5;241m25\u001b[39m]\n",
      "\u001b[1;32m      3\u001b[0m raw_data_folder_path \u001b[38;5;241m=\u001b[39m \u001b[38;5;124m\"\u001b[39m\u001b[38;5;124mall_monkey_data/raw_monkey_data/monkey_Schro/data_0419\u001b[39m\u001b[38;5;124m\"\u001b[39m\n",
      "\u001b[0;32m----> 4\u001b[0m pf \u001b[38;5;241m=\u001b[39m \u001b[43mplan_factors_class\u001b[49m\u001b[38;5;241;43m.\u001b[39;49m\u001b[43mPlanFactors\u001b[49m\u001b[43m(\u001b[49m\u001b[43mraw_data_folder_path\u001b[49m\u001b[38;5;241;43m=\u001b[39;49m\u001b[43mraw_data_folder_path\u001b[49m\u001b[43m,\u001b[49m\n",
      "\u001b[1;32m      5\u001b[0m \u001b[43m                                    \u001b[49m\u001b[43moptimal_arc_type\u001b[49m\u001b[43m \u001b[49m\u001b[38;5;241;43m=\u001b[39;49m\u001b[43m \u001b[49m\u001b[38;5;124;43m'\u001b[39;49m\u001b[38;5;124;43mopt_arc_stop_first_vis_bdry\u001b[39;49m\u001b[38;5;124;43m'\u001b[39;49m\u001b[43m)\u001b[49m\n",
      "\n",
      "File \u001b[0;32m~/Documents/Multifirefly-Project/multiff_analysis/methods/planning_analysis/plan_factors/plan_factors_class.py:42\u001b[0m, in \u001b[0;36mPlanFactors.__init__\u001b[0;34m(self, raw_data_folder_path, curv_of_traj_mode, window_for_curv_of_traj, optimal_arc_type)\u001b[0m\n",
      "\u001b[1;32m     38\u001b[0m \u001b[38;5;28mself\u001b[39m\u001b[38;5;241m.\u001b[39mcurv_of_traj_params \u001b[38;5;241m=\u001b[39m {\n",
      "\u001b[1;32m     39\u001b[0m     \u001b[38;5;124m'\u001b[39m\u001b[38;5;124mcurv_of_traj_mode\u001b[39m\u001b[38;5;124m'\u001b[39m: curv_of_traj_mode, \u001b[38;5;124m'\u001b[39m\u001b[38;5;124mwindow_for_curv_of_traj\u001b[39m\u001b[38;5;124m'\u001b[39m: window_for_curv_of_traj}\n",
      "\u001b[1;32m     41\u001b[0m \u001b[38;5;28;01mif\u001b[39;00m raw_data_folder_path \u001b[38;5;129;01mis\u001b[39;00m \u001b[38;5;129;01mnot\u001b[39;00m \u001b[38;5;28;01mNone\u001b[39;00m:\n",
      "\u001b[0;32m---> 42\u001b[0m     \u001b[38;5;28;43mself\u001b[39;49m\u001b[38;5;241;43m.\u001b[39;49m\u001b[43mload_raw_data\u001b[49m\u001b[43m(\u001b[49m\u001b[43mraw_data_folder_path\u001b[49m\u001b[43m,\u001b[49m\u001b[43m \u001b[49m\u001b[43mmonkey_data_exists_ok\u001b[49m\u001b[38;5;241;43m=\u001b[39;49m\u001b[38;5;28;43;01mTrue\u001b[39;49;00m\u001b[43m,\u001b[49m\u001b[43m \u001b[49m\u001b[43mcurv_of_traj_mode\u001b[49m\u001b[38;5;241;43m=\u001b[39;49m\u001b[43mcurv_of_traj_mode\u001b[49m\u001b[43m,\u001b[49m\n",
      "\u001b[1;32m     43\u001b[0m \u001b[43m                       \u001b[49m\u001b[43mwindow_for_curv_of_traj\u001b[49m\u001b[38;5;241;43m=\u001b[39;49m\u001b[43mwindow_for_curv_of_traj\u001b[49m\u001b[43m)\u001b[49m\n",
      "\u001b[1;32m     44\u001b[0m     base_processing_class\u001b[38;5;241m.\u001b[39mBaseProcessing\u001b[38;5;241m.\u001b[39mget_related_folder_names_from_raw_data_folder_path(\n",
      "\u001b[1;32m     45\u001b[0m         \u001b[38;5;28mself\u001b[39m, raw_data_folder_path)\n",
      "\u001b[1;32m     47\u001b[0m \u001b[38;5;28mself\u001b[39m\u001b[38;5;241m.\u001b[39moverall_params[\u001b[38;5;124m'\u001b[39m\u001b[38;5;124muse_curvature_to_ff_center\u001b[39m\u001b[38;5;124m'\u001b[39m] \u001b[38;5;241m=\u001b[39m \u001b[38;5;28;01mFalse\u001b[39;00m\n",
      "\n",
      "File \u001b[0;32m~/Documents/Multifirefly-Project/multiff_analysis/methods/data_wrangling/base_processing_class.py:43\u001b[0m, in \u001b[0;36mBaseProcessing.load_raw_data\u001b[0;34m(self, raw_data_folder_path, monkey_data_exists_ok, window_for_curv_of_traj, curv_of_traj_mode, truncate_curv_of_traj_by_time_of_capture)\u001b[0m\n",
      "\u001b[1;32m     41\u001b[0m \u001b[38;5;28mself\u001b[39m\u001b[38;5;241m.\u001b[39mretrieve_or_make_monkey_data(exists_ok\u001b[38;5;241m=\u001b[39mmonkey_data_exists_ok)\n",
      "\u001b[1;32m     42\u001b[0m \u001b[38;5;28;01mif\u001b[39;00m curv_of_traj_mode \u001b[38;5;129;01mis\u001b[39;00m \u001b[38;5;129;01mnot\u001b[39;00m \u001b[38;5;28;01mNone\u001b[39;00m:\n",
      "\u001b[0;32m---> 43\u001b[0m     \u001b[38;5;28mself\u001b[39m\u001b[38;5;241m.\u001b[39mcurv_of_traj_df \u001b[38;5;241m=\u001b[39m \u001b[38;5;28;43mself\u001b[39;49m\u001b[38;5;241;43m.\u001b[39;49m\u001b[43mget_curv_of_traj_df\u001b[49m\u001b[43m(\u001b[49m\u001b[43mwindow_for_curv_of_traj\u001b[49m\u001b[38;5;241;43m=\u001b[39;49m\u001b[43mwindow_for_curv_of_traj\u001b[49m\u001b[43m,\u001b[49m\u001b[43m \u001b[49m\u001b[43mcurv_of_traj_mode\u001b[49m\u001b[38;5;241;43m=\u001b[39;49m\u001b[43mcurv_of_traj_mode\u001b[49m\u001b[43m,\u001b[49m\n",
      "\u001b[1;32m     44\u001b[0m \u001b[43m                                                    \u001b[49m\u001b[43mtruncate_curv_of_traj_by_time_of_capture\u001b[49m\u001b[38;5;241;43m=\u001b[39;49m\u001b[43mtruncate_curv_of_traj_by_time_of_capture\u001b[49m\u001b[43m)\u001b[49m\n",
      "\n",
      "File \u001b[0;32m~/Documents/Multifirefly-Project/multiff_analysis/methods/data_wrangling/base_processing_class.py:281\u001b[0m, in \u001b[0;36mBaseProcessing.get_curv_of_traj_df\u001b[0;34m(self, window_for_curv_of_traj, curv_of_traj_mode, truncate_curv_of_traj_by_time_of_capture)\u001b[0m\n",
      "\u001b[1;32m    279\u001b[0m \u001b[38;5;28mself\u001b[39m\u001b[38;5;241m.\u001b[39mcurv_of_traj_params[\u001b[38;5;124m'\u001b[39m\u001b[38;5;124mwindow_for_curv_of_traj\u001b[39m\u001b[38;5;124m'\u001b[39m] \u001b[38;5;241m=\u001b[39m window_for_curv_of_traj\n",
      "\u001b[1;32m    280\u001b[0m \u001b[38;5;28mself\u001b[39m\u001b[38;5;241m.\u001b[39mcurv_of_traj_params[\u001b[38;5;124m'\u001b[39m\u001b[38;5;124mtruncate_curv_of_traj_by_time_of_capture\u001b[39m\u001b[38;5;124m'\u001b[39m] \u001b[38;5;241m=\u001b[39m truncate_curv_of_traj_by_time_of_capture\n",
      "\u001b[0;32m--> 281\u001b[0m \u001b[38;5;28mself\u001b[39m\u001b[38;5;241m.\u001b[39mcurv_of_traj_df, \u001b[38;5;28mself\u001b[39m\u001b[38;5;241m.\u001b[39mtraj_curv_descr \u001b[38;5;241m=\u001b[39m \u001b[43mcurv_of_traj_utils\u001b[49m\u001b[38;5;241;43m.\u001b[39;49m\u001b[43mfind_curv_of_traj_df_based_on_curv_of_traj_mode\u001b[49m\u001b[43m(\u001b[49m\u001b[43mwindow_for_curv_of_traj\u001b[49m\u001b[43m,\u001b[49m\u001b[43m \u001b[49m\u001b[38;5;28;43mself\u001b[39;49m\u001b[38;5;241;43m.\u001b[39;49m\u001b[43mmonkey_information\u001b[49m\u001b[43m,\u001b[49m\u001b[43m \u001b[49m\u001b[38;5;28;43mself\u001b[39;49m\u001b[38;5;241;43m.\u001b[39;49m\u001b[43mff_caught_T_new\u001b[49m\u001b[43m,\u001b[49m\n",
      "\u001b[1;32m    282\u001b[0m \u001b[43m                                                                                                                \u001b[49m\u001b[43mcurv_of_traj_mode\u001b[49m\u001b[38;5;241;43m=\u001b[39;49m\u001b[43mcurv_of_traj_mode\u001b[49m\u001b[43m,\u001b[49m\u001b[43m \u001b[49m\u001b[43mtruncate_curv_of_traj_by_time_of_capture\u001b[49m\u001b[38;5;241;43m=\u001b[39;49m\u001b[43mtruncate_curv_of_traj_by_time_of_capture\u001b[49m\u001b[43m)\u001b[49m\n",
      "\u001b[1;32m    283\u001b[0m \u001b[38;5;28mself\u001b[39m\u001b[38;5;241m.\u001b[39mcurv_of_traj_trace_name \u001b[38;5;241m=\u001b[39m curv_of_traj_utils\u001b[38;5;241m.\u001b[39mget_curv_of_traj_trace_name(\n",
      "\u001b[1;32m    284\u001b[0m     curv_of_traj_mode, window_for_curv_of_traj)\n",
      "\u001b[1;32m    286\u001b[0m \u001b[38;5;28;01mreturn\u001b[39;00m \u001b[38;5;28mself\u001b[39m\u001b[38;5;241m.\u001b[39mcurv_of_traj_df\n",
      "\n",
      "File \u001b[0;32m~/Documents/Multifirefly-Project/multiff_analysis/methods/null_behaviors/curv_of_traj_utils.py:371\u001b[0m, in \u001b[0;36mfind_curv_of_traj_df_based_on_curv_of_traj_mode\u001b[0;34m(window_for_curv_of_traj, monkey_information, ff_caught_T_new, stops_near_ff_df, curv_of_traj_mode, truncate_curv_of_traj_by_time_of_capture)\u001b[0m\n",
      "\u001b[1;32m    367\u001b[0m     \u001b[38;5;28;01melse\u001b[39;00m:\n",
      "\u001b[1;32m    368\u001b[0m         \u001b[38;5;28;01mraise\u001b[39;00m \u001b[38;5;167;01mValueError\u001b[39;00m(\n",
      "\u001b[1;32m    369\u001b[0m             \u001b[38;5;124m'\u001b[39m\u001b[38;5;124mlower_end of the window_for_curv_of_traj_df cannot be smaller than the upper_end\u001b[39m\u001b[38;5;124m'\u001b[39m)\n",
      "\u001b[0;32m--> 371\u001b[0m \u001b[43mmonkey_heading_functions\u001b[49m\u001b[38;5;241;43m.\u001b[39;49m\u001b[43madd_monkey_heading_info_to_curv_of_traj_df\u001b[49m\u001b[43m(\u001b[49m\n",
      "\u001b[1;32m    372\u001b[0m \u001b[43m    \u001b[49m\u001b[43mcurv_of_traj_df\u001b[49m\u001b[43m,\u001b[49m\u001b[43m \u001b[49m\u001b[43mmonkey_information\u001b[49m\u001b[43m)\u001b[49m\n",
      "\u001b[1;32m    373\u001b[0m calculate_difference_in_curv_of_traj(curv_of_traj_df)\n",
      "\u001b[1;32m    375\u001b[0m \u001b[38;5;28;01mreturn\u001b[39;00m curv_of_traj_df, traj_curv_descr\n",
      "\n",
      "File \u001b[0;32m~/Documents/Multifirefly-Project/multiff_analysis/methods/visualization/matplotlib_tools/monkey_heading_functions.py:102\u001b[0m, in \u001b[0;36madd_monkey_heading_info_to_curv_of_traj_df\u001b[0;34m(curv_of_traj_df, monkey_information)\u001b[0m\n",
      "\u001b[1;32m    100\u001b[0m mheading_in_xy \u001b[38;5;241m=\u001b[39m find_mheading_in_xy(traj_point_index_2d, monkey_information)\n",
      "\u001b[1;32m    101\u001b[0m \u001b[38;5;28;01mfor\u001b[39;00m key \u001b[38;5;129;01min\u001b[39;00m mheading_in_xy\u001b[38;5;241m.\u001b[39mkeys():\n",
      "\u001b[0;32m--> 102\u001b[0m     \u001b[43mcurv_of_traj_df\u001b[49m\u001b[43m[\u001b[49m\u001b[43m[\u001b[49m\u001b[43mkey\u001b[49m\u001b[43m \u001b[49m\u001b[38;5;241;43m+\u001b[39;49m\u001b[43m \u001b[49m\u001b[38;5;124;43m'\u001b[39;49m\u001b[38;5;124;43m_0\u001b[39;49m\u001b[38;5;124;43m'\u001b[39;49m\u001b[43m,\u001b[49m\u001b[43m \u001b[49m\u001b[43mkey\u001b[49m\u001b[43m \u001b[49m\u001b[38;5;241;43m+\u001b[39;49m\u001b[43m \u001b[49m\u001b[38;5;124;43m'\u001b[39;49m\u001b[38;5;124;43m_1\u001b[39;49m\u001b[38;5;124;43m'\u001b[39;49m\u001b[43m]\u001b[49m\u001b[43m]\u001b[49m \u001b[38;5;241m=\u001b[39m mheading_in_xy[key]\n",
      "\n",
      "File \u001b[0;32m/opt/anaconda3/envs/ff_venv/lib/python3.9/site-packages/pandas/core/frame.py:3968\u001b[0m, in \u001b[0;36mDataFrame.__setitem__\u001b[0;34m(self, key, value)\u001b[0m\n",
      "\u001b[1;32m   3966\u001b[0m     \u001b[38;5;28mself\u001b[39m\u001b[38;5;241m.\u001b[39m_setitem_frame(key, value)\n",
      "\u001b[1;32m   3967\u001b[0m \u001b[38;5;28;01melif\u001b[39;00m \u001b[38;5;28misinstance\u001b[39m(key, (Series, np\u001b[38;5;241m.\u001b[39mndarray, \u001b[38;5;28mlist\u001b[39m, Index)):\n",
      "\u001b[0;32m-> 3968\u001b[0m     \u001b[38;5;28;43mself\u001b[39;49m\u001b[38;5;241;43m.\u001b[39;49m\u001b[43m_setitem_array\u001b[49m\u001b[43m(\u001b[49m\u001b[43mkey\u001b[49m\u001b[43m,\u001b[49m\u001b[43m \u001b[49m\u001b[43mvalue\u001b[49m\u001b[43m)\u001b[49m\n",
      "\u001b[1;32m   3969\u001b[0m \u001b[38;5;28;01melif\u001b[39;00m \u001b[38;5;28misinstance\u001b[39m(value, DataFrame):\n",
      "\u001b[1;32m   3970\u001b[0m     \u001b[38;5;28mself\u001b[39m\u001b[38;5;241m.\u001b[39m_set_item_frame_value(key, value)\n",
      "\n",
      "File \u001b[0;32m/opt/anaconda3/envs/ff_venv/lib/python3.9/site-packages/pandas/core/frame.py:4019\u001b[0m, in \u001b[0;36mDataFrame._setitem_array\u001b[0;34m(self, key, value)\u001b[0m\n",
      "\u001b[1;32m   4016\u001b[0m         \u001b[38;5;28mself\u001b[39m[col] \u001b[38;5;241m=\u001b[39m value\n",
      "\u001b[1;32m   4018\u001b[0m \u001b[38;5;28;01melif\u001b[39;00m \u001b[38;5;28misinstance\u001b[39m(value, np\u001b[38;5;241m.\u001b[39mndarray) \u001b[38;5;129;01mand\u001b[39;00m value\u001b[38;5;241m.\u001b[39mndim \u001b[38;5;241m==\u001b[39m \u001b[38;5;241m2\u001b[39m:\n",
      "\u001b[0;32m-> 4019\u001b[0m     \u001b[38;5;28;43mself\u001b[39;49m\u001b[38;5;241;43m.\u001b[39;49m\u001b[43m_iset_not_inplace\u001b[49m\u001b[43m(\u001b[49m\u001b[43mkey\u001b[49m\u001b[43m,\u001b[49m\u001b[43m \u001b[49m\u001b[43mvalue\u001b[49m\u001b[43m)\u001b[49m\n",
      "\u001b[1;32m   4021\u001b[0m \u001b[38;5;28;01melif\u001b[39;00m np\u001b[38;5;241m.\u001b[39mndim(value) \u001b[38;5;241m>\u001b[39m \u001b[38;5;241m1\u001b[39m:\n",
      "\u001b[1;32m   4022\u001b[0m     \u001b[38;5;66;03m# list of lists\u001b[39;00m\n",
      "\u001b[1;32m   4023\u001b[0m     value \u001b[38;5;241m=\u001b[39m DataFrame(value)\u001b[38;5;241m.\u001b[39mvalues\n",
      "\n",
      "File \u001b[0;32m/opt/anaconda3/envs/ff_venv/lib/python3.9/site-packages/pandas/core/frame.py:4049\u001b[0m, in \u001b[0;36mDataFrame._iset_not_inplace\u001b[0;34m(self, key, value)\u001b[0m\n",
      "\u001b[1;32m   4046\u001b[0m         \u001b[38;5;28;01mraise\u001b[39;00m \u001b[38;5;167;01mValueError\u001b[39;00m(\u001b[38;5;124m\"\u001b[39m\u001b[38;5;124mColumns must be same length as key\u001b[39m\u001b[38;5;124m\"\u001b[39m)\n",
      "\u001b[1;32m   4048\u001b[0m     \u001b[38;5;28;01mfor\u001b[39;00m i, col \u001b[38;5;129;01min\u001b[39;00m \u001b[38;5;28menumerate\u001b[39m(key):\n",
      "\u001b[0;32m-> 4049\u001b[0m         \u001b[38;5;28;43mself\u001b[39;49m\u001b[43m[\u001b[49m\u001b[43mcol\u001b[49m\u001b[43m]\u001b[49m \u001b[38;5;241m=\u001b[39m igetitem(value, i)\n",
      "\u001b[1;32m   4051\u001b[0m \u001b[38;5;28;01melse\u001b[39;00m:\n",
      "\u001b[1;32m   4053\u001b[0m     ilocs \u001b[38;5;241m=\u001b[39m \u001b[38;5;28mself\u001b[39m\u001b[38;5;241m.\u001b[39mcolumns\u001b[38;5;241m.\u001b[39mget_indexer_non_unique(key)[\u001b[38;5;241m0\u001b[39m]\n",
      "\n",
      "File \u001b[0;32m/opt/anaconda3/envs/ff_venv/lib/python3.9/site-packages/pandas/core/frame.py:3980\u001b[0m, in \u001b[0;36mDataFrame.__setitem__\u001b[0;34m(self, key, value)\u001b[0m\n",
      "\u001b[1;32m   3977\u001b[0m     \u001b[38;5;28mself\u001b[39m\u001b[38;5;241m.\u001b[39m_setitem_array([key], value)\n",
      "\u001b[1;32m   3978\u001b[0m \u001b[38;5;28;01melse\u001b[39;00m:\n",
      "\u001b[1;32m   3979\u001b[0m     \u001b[38;5;66;03m# set column\u001b[39;00m\n",
      "\u001b[0;32m-> 3980\u001b[0m     \u001b[38;5;28;43mself\u001b[39;49m\u001b[38;5;241;43m.\u001b[39;49m\u001b[43m_set_item\u001b[49m\u001b[43m(\u001b[49m\u001b[43mkey\u001b[49m\u001b[43m,\u001b[49m\u001b[43m \u001b[49m\u001b[43mvalue\u001b[49m\u001b[43m)\u001b[49m\n",
      "\n",
      "File \u001b[0;32m/opt/anaconda3/envs/ff_venv/lib/python3.9/site-packages/pandas/core/frame.py:4174\u001b[0m, in \u001b[0;36mDataFrame._set_item\u001b[0;34m(self, key, value)\u001b[0m\n",
      "\u001b[1;32m   4164\u001b[0m \u001b[38;5;28;01mdef\u001b[39;00m \u001b[38;5;21m_set_item\u001b[39m(\u001b[38;5;28mself\u001b[39m, key, value) \u001b[38;5;241m-\u001b[39m\u001b[38;5;241m>\u001b[39m \u001b[38;5;28;01mNone\u001b[39;00m:\n",
      "\u001b[1;32m   4165\u001b[0m \u001b[38;5;250m    \u001b[39m\u001b[38;5;124;03m\"\"\"\u001b[39;00m\n",
      "\u001b[1;32m   4166\u001b[0m \u001b[38;5;124;03m    Add series to DataFrame in specified column.\u001b[39;00m\n",
      "\u001b[1;32m   4167\u001b[0m \n",
      "\u001b[0;32m   (...)\u001b[0m\n",
      "\u001b[1;32m   4172\u001b[0m \u001b[38;5;124;03m    ensure homogeneity.\u001b[39;00m\n",
      "\u001b[1;32m   4173\u001b[0m \u001b[38;5;124;03m    \"\"\"\u001b[39;00m\n",
      "\u001b[0;32m-> 4174\u001b[0m     value \u001b[38;5;241m=\u001b[39m \u001b[38;5;28;43mself\u001b[39;49m\u001b[38;5;241;43m.\u001b[39;49m\u001b[43m_sanitize_column\u001b[49m\u001b[43m(\u001b[49m\u001b[43mvalue\u001b[49m\u001b[43m)\u001b[49m\n",
      "\u001b[1;32m   4176\u001b[0m     \u001b[38;5;28;01mif\u001b[39;00m (\n",
      "\u001b[1;32m   4177\u001b[0m         key \u001b[38;5;129;01min\u001b[39;00m \u001b[38;5;28mself\u001b[39m\u001b[38;5;241m.\u001b[39mcolumns\n",
      "\u001b[1;32m   4178\u001b[0m         \u001b[38;5;129;01mand\u001b[39;00m value\u001b[38;5;241m.\u001b[39mndim \u001b[38;5;241m==\u001b[39m \u001b[38;5;241m1\u001b[39m\n",
      "\u001b[1;32m   4179\u001b[0m         \u001b[38;5;129;01mand\u001b[39;00m \u001b[38;5;129;01mnot\u001b[39;00m is_extension_array_dtype(value)\n",
      "\u001b[1;32m   4180\u001b[0m     ):\n",
      "\u001b[1;32m   4181\u001b[0m         \u001b[38;5;66;03m# broadcast across multiple columns if necessary\u001b[39;00m\n",
      "\u001b[1;32m   4182\u001b[0m         \u001b[38;5;28;01mif\u001b[39;00m \u001b[38;5;129;01mnot\u001b[39;00m \u001b[38;5;28mself\u001b[39m\u001b[38;5;241m.\u001b[39mcolumns\u001b[38;5;241m.\u001b[39mis_unique \u001b[38;5;129;01mor\u001b[39;00m \u001b[38;5;28misinstance\u001b[39m(\u001b[38;5;28mself\u001b[39m\u001b[38;5;241m.\u001b[39mcolumns, MultiIndex):\n",
      "\n",
      "File \u001b[0;32m/opt/anaconda3/envs/ff_venv/lib/python3.9/site-packages/pandas/core/frame.py:4916\u001b[0m, in \u001b[0;36mDataFrame._sanitize_column\u001b[0;34m(self, value)\u001b[0m\n",
      "\u001b[1;32m   4914\u001b[0m \u001b[38;5;28;01mif\u001b[39;00m is_list_like(value):\n",
      "\u001b[1;32m   4915\u001b[0m     com\u001b[38;5;241m.\u001b[39mrequire_length_match(value, \u001b[38;5;28mself\u001b[39m\u001b[38;5;241m.\u001b[39mindex)\n",
      "\u001b[0;32m-> 4916\u001b[0m \u001b[38;5;28;01mreturn\u001b[39;00m \u001b[43msanitize_array\u001b[49m\u001b[43m(\u001b[49m\u001b[43mvalue\u001b[49m\u001b[43m,\u001b[49m\u001b[43m \u001b[49m\u001b[38;5;28;43mself\u001b[39;49m\u001b[38;5;241;43m.\u001b[39;49m\u001b[43mindex\u001b[49m\u001b[43m,\u001b[49m\u001b[43m \u001b[49m\u001b[43mcopy\u001b[49m\u001b[38;5;241;43m=\u001b[39;49m\u001b[38;5;28;43;01mTrue\u001b[39;49;00m\u001b[43m,\u001b[49m\u001b[43m \u001b[49m\u001b[43mallow_2d\u001b[49m\u001b[38;5;241;43m=\u001b[39;49m\u001b[38;5;28;43;01mTrue\u001b[39;49;00m\u001b[43m)\u001b[49m\n",
      "\n",
      "File \u001b[0;32m/opt/anaconda3/envs/ff_venv/lib/python3.9/site-packages/pandas/core/construction.py:597\u001b[0m, in \u001b[0;36msanitize_array\u001b[0;34m(data, index, dtype, copy, raise_cast_failure, allow_2d)\u001b[0m\n",
      "\u001b[1;32m    594\u001b[0m             subarr \u001b[38;5;241m=\u001b[39m np\u001b[38;5;241m.\u001b[39marray(data, copy\u001b[38;5;241m=\u001b[39mcopy)\n",
      "\u001b[1;32m    595\u001b[0m     \u001b[38;5;28;01melse\u001b[39;00m:\n",
      "\u001b[1;32m    596\u001b[0m         \u001b[38;5;66;03m# we will try to copy by-definition here\u001b[39;00m\n",
      "\u001b[0;32m--> 597\u001b[0m         subarr \u001b[38;5;241m=\u001b[39m \u001b[43m_try_cast\u001b[49m\u001b[43m(\u001b[49m\u001b[43mdata\u001b[49m\u001b[43m,\u001b[49m\u001b[43m \u001b[49m\u001b[43mdtype\u001b[49m\u001b[43m,\u001b[49m\u001b[43m \u001b[49m\u001b[43mcopy\u001b[49m\u001b[43m,\u001b[49m\u001b[43m \u001b[49m\u001b[43mraise_cast_failure\u001b[49m\u001b[43m)\u001b[49m\n",
      "\u001b[1;32m    599\u001b[0m \u001b[38;5;28;01melif\u001b[39;00m \u001b[38;5;28misinstance\u001b[39m(data, ABCExtensionArray):\n",
      "\u001b[1;32m    600\u001b[0m     \u001b[38;5;66;03m# it is already ensured above this is not a PandasArray\u001b[39;00m\n",
      "\u001b[1;32m    601\u001b[0m     subarr \u001b[38;5;241m=\u001b[39m data\n",
      "\n",
      "File \u001b[0;32m/opt/anaconda3/envs/ff_venv/lib/python3.9/site-packages/pandas/core/construction.py:775\u001b[0m, in \u001b[0;36m_try_cast\u001b[0;34m(arr, dtype, copy, raise_cast_failure)\u001b[0m\n",
      "\u001b[1;32m    773\u001b[0m arr \u001b[38;5;241m=\u001b[39m cast(np\u001b[38;5;241m.\u001b[39mndarray, arr)\n",
      "\u001b[1;32m    774\u001b[0m \u001b[38;5;28;01mif\u001b[39;00m arr\u001b[38;5;241m.\u001b[39mdtype \u001b[38;5;241m!=\u001b[39m \u001b[38;5;28mobject\u001b[39m:\n",
      "\u001b[0;32m--> 775\u001b[0m     \u001b[38;5;28;01mreturn\u001b[39;00m \u001b[43msanitize_to_nanoseconds\u001b[49m\u001b[43m(\u001b[49m\u001b[43marr\u001b[49m\u001b[43m,\u001b[49m\u001b[43m \u001b[49m\u001b[43mcopy\u001b[49m\u001b[38;5;241;43m=\u001b[39;49m\u001b[43mcopy\u001b[49m\u001b[43m)\u001b[49m\n",
      "\u001b[1;32m    777\u001b[0m out \u001b[38;5;241m=\u001b[39m maybe_infer_to_datetimelike(arr)\n",
      "\u001b[1;32m    778\u001b[0m \u001b[38;5;28;01mif\u001b[39;00m out \u001b[38;5;129;01mis\u001b[39;00m arr \u001b[38;5;129;01mand\u001b[39;00m copy:\n",
      "\n",
      "File \u001b[0;32m/opt/anaconda3/envs/ff_venv/lib/python3.9/site-packages/pandas/core/dtypes/cast.py:1434\u001b[0m, in \u001b[0;36msanitize_to_nanoseconds\u001b[0;34m(values, copy)\u001b[0m\n",
      "\u001b[1;32m   1431\u001b[0m     values \u001b[38;5;241m=\u001b[39m astype_overflowsafe(values, dtype\u001b[38;5;241m=\u001b[39mTD64NS_DTYPE)\n",
      "\u001b[1;32m   1433\u001b[0m \u001b[38;5;28;01melif\u001b[39;00m copy:\n",
      "\u001b[0;32m-> 1434\u001b[0m     values \u001b[38;5;241m=\u001b[39m \u001b[43mvalues\u001b[49m\u001b[38;5;241;43m.\u001b[39;49m\u001b[43mcopy\u001b[49m\u001b[43m(\u001b[49m\u001b[43m)\u001b[49m\n",
      "\u001b[1;32m   1436\u001b[0m \u001b[38;5;28;01mreturn\u001b[39;00m values\n",
      "\n",
      "\u001b[0;31mKeyboardInterrupt\u001b[0m: "
     ]
    }
   ],
   "source": [
    "curv_of_traj_mode = 'distance'\n",
    "window_for_curv_of_traj=[-25, 25]\n",
    "raw_data_folder_path = \"all_monkey_data/raw_monkey_data/monkey_Schro/data_0419\"\n",
    "pf = plan_factors_class.PlanFactors(raw_data_folder_path=raw_data_folder_path,\n",
    "                                    optimal_arc_type = 'opt_arc_stop_first_vis_bdry')"
   ]
  },
  {
   "cell_type": "code",
   "execution_count": null,
   "metadata": {},
   "outputs": [],
   "source": [
    "pf.optimal_arc_type"
   ]
  },
  {
   "cell_type": "code",
   "execution_count": null,
   "metadata": {},
   "outputs": [],
   "source": [
    "exists_ok = True\n",
    "pf.make_plan_x_and_y_for_both_test_and_ctrl(plan_x_exists_ok=exists_ok, \n",
    "                                            plan_y_exists_ok=exists_ok,\n",
    "                                            already_made_ok=exists_ok, \n",
    "                                            heading_info_df_exists_ok=exists_ok,\n",
    "                                            ref_point_mode='time after cur ff visible', \n",
    "                                            ref_point_value=0.1,\n",
    "                                            # ref_point_mode='distance', \n",
    "                                            # ref_point_value=-150,                                           \n",
    "                                            )"
   ]
  },
  {
   "cell_type": "code",
   "execution_count": null,
   "metadata": {},
   "outputs": [],
   "source": [
    "normal = pf.heading_info_df.copy()"
   ]
  },
  {
   "cell_type": "code",
   "execution_count": null,
   "metadata": {},
   "outputs": [],
   "source": [
    "first = pf.heading_info_df.copy()"
   ]
  },
  {
   "cell_type": "code",
   "execution_count": null,
   "metadata": {},
   "outputs": [],
   "source": [
    "normal"
   ]
  },
  {
   "cell_type": "code",
   "execution_count": null,
   "metadata": {},
   "outputs": [
    {
     "data": {
      "text/plain": [
       "2"
      ]
     },
     "metadata": {},
     "output_type": "display_data"
    }
   ],
   "source": [
    "pf.stops_near_ff_df.loc[pf.stops_near_ff_df['cur_ff_index'].idxmin(), 'cur_ff_index']"
   ]
  },
  {
   "cell_type": "code",
   "execution_count": null,
   "metadata": {},
   "outputs": [],
   "source": [
    "opt_arc_stop_closest"
   ]
  }
 ],
 "metadata": {
  "kernelspec": {
   "display_name": "Python 3",
   "language": "python",
   "name": "python3"
  },
  "language_info": {
   "codemirror_mode": {
    "name": "ipython",
    "version": 3
   },
   "file_extension": ".py",
   "mimetype": "text/x-python",
   "name": "python",
   "nbconvert_exporter": "python",
   "pygments_lexer": "ipython3",
   "version": "3.9.19"
  }
 },
 "nbformat": 4,
 "nbformat_minor": 2
}
