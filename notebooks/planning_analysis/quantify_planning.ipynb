{
 "cells": [
  {
   "cell_type": "markdown",
   "metadata": {},
   "source": [
    "# Install packages"
   ]
  },
  {
   "cell_type": "code",
   "execution_count": null,
   "metadata": {},
   "outputs": [],
   "source": [
    "from google.colab import drive # import drive from google colab\n",
    "drive.mount(\"/content/drive\") \n",
    "!pip install neo\n",
    "!pip install matplotlib_scalebar\n",
    "!pip install ffmpeg\n",
    "!pip install Ipython --upgrade\n",
    "%load_ext autoreload\n",
    "%autoreload 2"
   ]
  },
  {
   "cell_type": "markdown",
   "metadata": {},
   "source": [
    "# Import packages"
   ]
  },
  {
   "cell_type": "code",
   "execution_count": 8,
   "metadata": {},
   "outputs": [
    {
     "name": "stdout",
     "output_type": "stream",
     "text": [
      "The autoreload extension is already loaded. To reload it, use:\n",
      "  %reload_ext autoreload\n"
     ]
    }
   ],
   "source": [
    "%load_ext autoreload\n",
    "%autoreload 2\n",
    "\n",
    "from pathlib import Path\n",
    "import os\n",
    "if Path.cwd().parts[-1] != 'Multifirefly-Project':\n",
    "    if Path.cwd().parts[-1] != 'notebooks':\n",
    "        os.chdir('..')\n",
    "    from add_path import find_path\n",
    "    current_path = find_path()\n",
    "    os.chdir(current_path)\n",
    "import sys\n",
    "\n",
    "\n",
    "from data_wrangling import specific_utils, process_monkey_information, base_processing_class, combine_info_utils\n",
    "from pattern_discovery import pattern_by_trials, pattern_by_points, make_ff_dataframe, ff_dataframe_utils, pattern_by_trials, pattern_by_points, cluster_analysis, organize_patterns_and_features, category_class, cluster_analysis\n",
    "from decision_making_analysis.decision_making import decision_making_class, decision_making_utils, plot_decision_making, intended_targets_classes\n",
    "from decision_making_analysis.GUAT import GUAT_helper_class, GUAT_collect_info_class, GUAT_combine_info_class, process_GUAT_trials_class, GUAT_and_TAFT\n",
    "from decision_making_analysis import free_selection, replacement, trajectory_info\n",
    "from null_behaviors import show_null_trajectory, find_best_arc, curvature_utils, curvature_class, curv_of_traj_utils\n",
    "from machine_learning import machine_learning_utils, hyperparameter_tuning_class\n",
    "from machine_learning.RL.env_related import env_for_lstm, env_utils, base_env, collect_agent_data_utils\n",
    "from machine_learning.RL.lstm import GRU_functions, LSTM_functions\n",
    "from machine_learning.RL.SB3 import interpret_neural_network, sb3_for_multiff_class, rl_for_multiff_utils, SB3_functions\n",
    "from visualization import plot_trials, plot_polar, additional_plots, plot_behaviors_utils, plot_statistics, monkey_heading_functions\n",
    "from visualization.animation import animation_func, animation_utils, animation_class\n",
    "from planning_analysis.test_params_for_planning import params_test_combos_class, params_utils\n",
    "from visualization.plotly_tools import plotly_for_monkey, plotly_for_scatterplot, plotly_preparation, plotly_for_correlation\n",
    "from visualization.dash_tools import dash_prep_class, dash_utils, dash_utils, dash_comparison_class, dash_params_class\n",
    "from visualization.dash_tools.dash_main_class_methods import dash_main_class\n",
    "from non_behavioral_analysis.neural_data_analysis.get_neural_data import neural_data_processing\n",
    "from non_behavioral_analysis.neural_data_analysis.visualize_neural_data import plot_neural_data, plot_modeling_result\n",
    "from non_behavioral_analysis.neural_data_analysis.model_neural_data import cca_class, pgam_class, neural_data_modeling, reduce_multicollinearity\n",
    "from non_behavioral_analysis.neural_data_analysis.neural_vs_behavioral import prep_monkey_data, prep_target_data, neural_vs_behavioral_class\n",
    "from non_behavioral_analysis.neural_data_analysis.planning_neural import planning_neural_class, planning_neural_utils\n",
    "from planning_analysis.plan_factors import plan_factors_utils, plan_factors_class, monkey_plan_factors_x_sess_class\n",
    "from planning_analysis.show_planning import nxt_ff_utils, show_planning_class, show_planning_utils\n",
    "from planning_analysis.show_planning.get_stops_near_ff import find_stops_near_ff_class, find_stops_near_ff_utils, plot_stops_near_ff_class, plot_stops_near_ff_utils, plot_monkey_heading_helper_class, stops_near_ff_based_on_ref_class\n",
    "\n",
    "from importlib import reload\n",
    "from non_behavioral_analysis import eye_positions\n",
    "import os\n",
    "import numpy as np\n",
    "import matplotlib\n",
    "import matplotlib.pyplot as plt\n",
    "from matplotlib import cm\n",
    "from os.path import exists\n",
    "import seaborn as sns\n",
    "import math\n",
    "import copy\n",
    "import matplotlib.pyplot as plt\n",
    "import pandas as pd\n",
    "import torch\n",
    "import torch.nn as nn\n",
    "import torch.optim as optim\n",
    "import tqdm\n",
    "import itertools\n",
    "import plotly.express as px\n",
    "import gc\n",
    "from scipy.stats import rankdata\n",
    "from scipy import stats\n",
    "from IPython.display import HTML\n",
    "from matplotlib import rc\n",
    "from sklearn.model_selection import train_test_split\n",
    "from sklearn.preprocessing import OneHotEncoder\n",
    "from sklearn.datasets import make_multilabel_classification\n",
    "from sklearn.model_selection import train_test_split\n",
    "from sklearn.multioutput import MultiOutputClassifier\n",
    "from sklearn.neighbors import KNeighborsClassifier\n",
    "from sklearn.metrics import accuracy_score, hamming_loss, multilabel_confusion_matrix, fbeta_score, precision_score, recall_score\n",
    "from sklearn.svm import SVC\n",
    "from sklearn.tree import DecisionTreeClassifier\n",
    "from sklearn.ensemble import AdaBoostClassifier, RandomForestClassifier, VotingClassifier, BaggingClassifier, GradientBoostingClassifier\n",
    "from sklearn.neural_network import MLPClassifier\n",
    "from sklearn.linear_model import LinearRegression\n",
    "from sklearn.neighbors import KNeighborsRegressor, KNeighborsClassifier\n",
    "from sklearn.naive_bayes import GaussianNB\n",
    "from sklearn.linear_model import LogisticRegression\n",
    "from math import pi\n",
    "from scipy.ndimage import gaussian_filter1d\n",
    "from statsmodels.graphics.tsaplots import plot_acf\n",
    "import warnings\n",
    "import os, sys\n",
    "from sklearn.exceptions import ConvergenceWarning\n",
    "import plotly.graph_objects as go\n",
    "\n",
    "plt.rcParams[\"animation.html\"] = \"html5\"\n",
    "os.environ['KMP_DUPLICATE_LIB_OK']='True'\n",
    "rc('animation', html='jshtml')\n",
    "matplotlib.rcParams.update(matplotlib.rcParamsDefault)\n",
    "matplotlib.rcParams['animation.embed_limit'] = 2**128\n",
    "pd.set_option('display.float_format', lambda x: '%.5f' % x)\n",
    "np.set_printoptions(suppress=True)\n",
    "pd.options.display.max_rows = 101"
   ]
  },
  {
   "cell_type": "code",
   "execution_count": 3,
   "metadata": {},
   "outputs": [],
   "source": [
    "data_item = None\n",
    "raw_data_folder_path = \"all_monkey_data/raw_monkey_data/monkey_Bruno/data_0328\""
   ]
  },
  {
   "cell_type": "code",
   "execution_count": null,
   "metadata": {},
   "outputs": [],
   "source": [
    "stop!"
   ]
  },
  {
   "cell_type": "markdown",
   "metadata": {},
   "source": [
    "# SNF (stops near ff) class"
   ]
  },
  {
   "cell_type": "code",
   "execution_count": null,
   "metadata": {},
   "outputs": [],
   "source": [
    "import cProfile\n",
    "cProfile.run('snf.streamline_organizing_info()', sort='cumtime')"
   ]
  },
  {
   "cell_type": "markdown",
   "metadata": {},
   "source": [
    "## run class"
   ]
  },
  {
   "cell_type": "code",
   "execution_count": 11,
   "metadata": {},
   "outputs": [
    {
     "data": {
      "text/plain": [
       "Index(['monkey_x', 'monkey_y', 'time', 'point_index', 'monkey_angle',\n",
       "       'monkey_speed', 'monkey_dw', 'LDz', 'RDz', 'RDy', 'monkey_y_smr',\n",
       "       'monkey_dw_smr', 'monkey_x_smr', 'LDy', 'monkey_speed_smr',\n",
       "       'gaze_monkey_view_x', 'gaze_monkey_view_y', 'gaze_monkey_view_angle',\n",
       "       'gaze_world_x', 'gaze_world_y', 'gaze_monkey_view_x_l',\n",
       "       'gaze_monkey_view_y_l', 'gaze_monkey_view_angle_l', 'gaze_world_x_l',\n",
       "       'gaze_world_y_l', 'gaze_monkey_view_x_r', 'gaze_monkey_view_y_r',\n",
       "       'gaze_monkey_view_angle_r', 'gaze_world_x_r', 'gaze_world_y_r',\n",
       "       'monkey_ddw', 'monkey_ddv', 'monkey_speeddummy', 'crossing_boundary',\n",
       "       'delta_distance', 'cum_distance', 'whether_new_distinct_stop',\n",
       "       'stop_id', 'dt', 'trial'],\n",
       "      dtype='object')"
      ]
     },
     "execution_count": 11,
     "metadata": {},
     "output_type": "execute_result"
    }
   ],
   "source": [
    "snf.monkey_information.columns"
   ]
  },
  {
   "cell_type": "code",
   "execution_count": 17,
   "metadata": {},
   "outputs": [
    {
     "name": "stdout",
     "output_type": "stream",
     "text": [
      "Retrieved txt_smr_t_linreg.csv from all_monkey_data/time_calibration/monkey_Bruno/data_0328/txt_smr_t_linreg.csv\n",
      "There are 18083 points with speed greater than 200 cm/s\n",
      "The proportion of such points is 0.08263227881939526\n",
      "The highest speed is 200.31152522706347\n",
      "Saved monkey_information\n",
      "The number of points that were removed due to delta_position exceeding the ceiling is 0\n",
      "Warning: ff_closest_stop_time_sorted has 1 points out of 1213 points that are significantly larger than ff_caught_T_sorted, which is 0.08% of the points. Max value of closest_time - capture time is 0.332014000000072. They are replaced with the original ff_caught_T in ff_caught_T_new.\n",
      "Warning: ff_closest_stop_time_sorted has 56 points out of 1213 points that are outside of the reward boundary, which is 4.62% of the points. They are replaced with the original ff_caught_T in ff_caught_T_new.\n",
      "Warning: ff_caught_T_new is not monotonically increasing. Will make it monotonically increasing.\n",
      "Note: ff_caught_T_sorted is replaced with ff_caught_T_new\n",
      "Retrieved ff_dataframe from all_monkey_data/processed_data/monkey_Bruno/data_0328/ff_dataframe.h5\n",
      "Removed 0 rows out of 728 rows where cur_ff was not visible bbas or nxt_ff was not visible both bbas and bsans\n",
      "shared_stops_near_ff_df has 728 rows\n",
      "Retrieving shared_stops_near_ff_df succeeded\n",
      "Retrieving dist_-150_window_-50cm_0cm from all_monkey_data/planning/monkey_Bruno/data_0328/diff_in_curv_df/norm_opt_arc/test/dist_-150_window_-50cm_0cm succeeded\n",
      "Retrieving Bruno_dist_150 from all_monkey_data/planning/monkey_Bruno/data_0328/heading_info_df/norm_opt_arc/test/Bruno_dist_150 succeeded\n"
     ]
    },
    {
     "data": {
      "image/png": "[encoded data removed]",
      "text/plain": [
       "<Figure size 500x500 with 1 Axes>"
      ]
     },
     "metadata": {},
     "output_type": "display_data"
    }
   ],
   "source": [
    "normalize = False\n",
    "eliminate_outliers = False\n",
    "use_curvature_to_ff_center = False\n",
    "curv_of_traj_mode = 'distance'\n",
    "window_for_curv_of_traj=[-25, 25]\n",
    "raw_data_folder_path = \"all_monkey_data/raw_monkey_data/monkey_Bruno/data_0328\"\n",
    "\n",
    "#data_item_info = find_stops_near_ff_utils.extract_key_info_from_data_item_for_stops_near_ff_class(data_item)\n",
    "\n",
    "snf = stops_near_ff_based_on_ref_class.StopsNearFFBasedOnRef(raw_data_folder_path=raw_data_folder_path)\n",
    "snf.get_more_monkey_data()\n",
    "snf.traj_curv_descr = 'Traj Curv: From Current Point to Right Before Stop'\n",
    "\n",
    "\n",
    "\n",
    "snf.streamline_organizing_info(ref_point_mode='distance', ref_point_value=-150, \n",
    "                              #ref_point_mode='time after cur ff visible', ref_point_value=0.1, \n",
    "                               curv_of_traj_mode=curv_of_traj_mode, window_for_curv_of_traj=window_for_curv_of_traj, truncate_curv_of_traj_by_time_of_capture=True,\n",
    "                               use_curvature_to_ff_center=use_curvature_to_ff_center,  eliminate_outliers=eliminate_outliers,\n",
    "                               stops_near_ff_df_exists_ok=True)\n",
    "\n",
    "snf.ax_for_corr = snf.find_relationships_from_info(normalize=normalize, show_plot=True)\n",
    "snf.prepare_to_make_plots()"
   ]
  },
  {
   "cell_type": "markdown",
   "metadata": {},
   "source": [
    "## visualize"
   ]
  },
  {
   "cell_type": "markdown",
   "metadata": {},
   "source": [
    "### matplotlib"
   ]
  },
  {
   "cell_type": "code",
   "execution_count": 18,
   "metadata": {},
   "outputs": [],
   "source": [
    "current_i = 0"
   ]
  },
  {
   "cell_type": "code",
   "execution_count": 19,
   "metadata": {},
   "outputs": [
    {
     "name": "stdout",
     "output_type": "stream",
     "text": [
      "diff_in_abs: 30.21957792483941\n",
      "nxt_ff_index: 4\n",
      "cur_ff_index: 3\n",
      "duration after eliminating unnecessary parts:  [27.412363, 33.201428]\n",
      "duration_to_plot: [27.412363, 33.201428]\n",
      "currentTrial: 4 num_trials: 3\n",
      "shown_ff_indices:  []\n"
     ]
    },
    {
     "data": {
      "image/png": "[encoded data removed]",
      "text/plain": [
       "<Figure size 700x700 with 1 Axes>"
      ]
     },
     "metadata": {},
     "output_type": "display_data"
    },
    {
     "data": {
      "image/png": "[encoded data removed]",
      "text/plain": [
       "<Figure size 500x500 with 1 Axes>"
      ]
     },
     "metadata": {},
     "output_type": "display_data"
    }
   ],
   "source": [
    "current_i = snf.make_individual_plots_in_matplotlib(current_i, max_num_plot_to_make = 1)"
   ]
  },
  {
   "cell_type": "markdown",
   "metadata": {},
   "source": [
    "### show eye positions"
   ]
  },
  {
   "cell_type": "code",
   "execution_count": 31,
   "metadata": {},
   "outputs": [
    {
     "name": "stdout",
     "output_type": "stream",
     "text": [
      "diff_in_abs: 9.505224394564543\n",
      "nxt_ff_index: 14\n",
      "cur_ff_index: 13\n",
      "duration after eliminating unnecessary parts:  [46.718098, 51.876038]\n",
      "duration_to_plot: [46.718098, 51.876038]\n",
      "currentTrial: 14 num_trials: 4\n",
      "shown_ff_indices:  []\n"
     ]
    },
    {
     "data": {
      "image/png": "[encoded data removed]",
      "text/plain": [
       "<Figure size 700x700 with 1 Axes>"
      ]
     },
     "metadata": {},
     "output_type": "display_data"
    },
    {
     "name": "stdout",
     "output_type": "stream",
     "text": [
      "diff_in_abs: 36.223094916102\n",
      "nxt_ff_index: 19\n",
      "cur_ff_index: 18\n",
      "duration after eliminating unnecessary parts:  [61.027024, 66.05219]\n",
      "duration_to_plot: [61.027024, 66.05219]\n",
      "currentTrial: 19 num_trials: 3\n",
      "shown_ff_indices:  []\n"
     ]
    },
    {
     "data": {
      "image/png": "[encoded data removed]",
      "text/plain": [
       "<Figure size 700x700 with 1 Axes>"
      ]
     },
     "metadata": {},
     "output_type": "display_data"
    },
    {
     "name": "stdout",
     "output_type": "stream",
     "text": [
      "diff_in_abs: -12.494362881482852\n",
      "nxt_ff_index: 20\n",
      "cur_ff_index: 19\n",
      "duration after eliminating unnecessary parts:  [63.052189999999996, 67.878184]\n",
      "duration_to_plot: [63.052189999999996, 67.878184]\n",
      "currentTrial: 20 num_trials: 3\n",
      "shown_ff_indices:  []\n"
     ]
    },
    {
     "data": {
      "image/png": "[encoded data removed]",
      "text/plain": [
       "<Figure size 700x700 with 1 Axes>"
      ]
     },
     "metadata": {},
     "output_type": "display_data"
    }
   ],
   "source": [
    "additional_plotting_kwargs={'show_connect_path_ff_specific_indices': None, 'show_ff_indices': True,\n",
    "                            'show_eye_positions':True,\n",
    "                            'show_eye_positions_for_both_eyes':True,\n",
    "                            'show_connect_path_eye_positions': True}\n",
    "current_i = snf.make_individual_plots_in_matplotlib(current_i, max_num_plot_to_make=3, \n",
    "                                      additional_plotting_kwargs=additional_plotting_kwargs,\n",
    "                                      show_position_in_scatter_plot=False)"
   ]
  },
  {
   "cell_type": "code",
   "execution_count": null,
   "metadata": {},
   "outputs": [],
   "source": [
    "stop here!"
   ]
  },
  {
   "cell_type": "markdown",
   "metadata": {},
   "source": [
    "### experiment"
   ]
  },
  {
   "cell_type": "code",
   "execution_count": 55,
   "metadata": {},
   "outputs": [],
   "source": [
    "\n",
    "additional_plotting_kwargs = {\n",
    "    \"show_visible_segments\": False,\n",
    "    \"show_current_eye_positions\": False,\n",
    "    \"show_stops\": False,\n",
    "    \"show_alive_fireflies\": False,\n",
    "    \"show_visible_fireflies\": False,\n",
    "    # \"show_points_on_trajectory\"\n",
    "        }\n"
   ]
  },
  {
   "cell_type": "code",
   "execution_count": 56,
   "metadata": {},
   "outputs": [
    {
     "name": "stdout",
     "output_type": "stream",
     "text": [
      "diff_in_abs: -8.385919677041073\n",
      "duration_to_plot: [87.148926, 95.603656]\n"
     ]
    },
    {
     "data": {
      "application/vnd.plotly.v1+json": {
       "config": {
        "plotlyServerURL": "https://plot.ly"
       },
       "data": [
        {
         "customdata": [],
         "hovertemplate": "ff %{customdata[0]}",
         "legendgroup": "",
         "marker": {
          "color": "red",
          "symbol": "circle"
         },
         "mode": "markers",
         "name": "plot_ff",
         "orientation": "v",
         "showlegend": false,
         "type": "scatter",
         "x": [],
         "xaxis": "x",
         "y": [],
         "yaxis": "y"
        },
        {
         "customdata": [
          [
           -3.98,
           0
          ],
          [
           -3.97,
           0
          ],
          [
           -3.95,
           0
          ],
          [
           -3.93,
           0
          ],
          [
           -3.92,
           0
          ],
          [
           -3.9,
           0
          ],
          [
           -3.87,
           0
          ],
          [
           -3.87,
           0
          ],
          [
           -3.86,
           0
          ],
          [
           -3.85,
           0
          ],
          [
           -3.85,
           0
          ],
          [
           -3.83,
           0
          ],
          [
           -3.82,
           0
          ],
          [
           -3.8,
           0
          ],
          [
           -3.78,
           6.309406035419947
          ],
          [
           -3.77,
           7.949659404498988
          ],
          [
           -3.75,
           15.760597226465464
          ],
          [
           -3.73,
           20.60660134880935
          ],
          [
           -3.72,
           33.19699121405842
          ],
          [
           -3.7,
           46.00647444181774
          ],
          [
           -3.69,
           53.77174853690742
          ],
          [
           -3.67,
           68.05731505162571
          ],
          [
           -3.65,
           75.82960513277271
          ],
          [
           -3.64,
           76.06765436013201
          ],
          [
           -3.62,
           76.03663191895244
          ],
          [
           -3.6,
           77.37125374254452
          ],
          [
           -3.59,
           77.45759350259667
          ],
          [
           -3.57,
           77.6827319273566
          ],
          [
           -3.55,
           75.87037446045936
          ],
          [
           -3.54,
           61.62513263027892
          ],
          [
           -3.52,
           53.948217017825854
          ],
          [
           -3.5,
           44.218212886929095
          ],
          [
           -3.49,
           22.15830885838716
          ],
          [
           -3.47,
           12.680498148161508
          ],
          [
           -3.45,
           6.317269522220263
          ],
          [
           -3.44,
           0
          ],
          [
           -3.42,
           0
          ],
          [
           -3.4,
           0
          ],
          [
           -3.39,
           0
          ],
          [
           -3.37,
           0
          ],
          [
           -3.35,
           0
          ],
          [
           -3.34,
           0
          ],
          [
           -3.32,
           0
          ],
          [
           -3.3,
           0
          ],
          [
           -3.29,
           0
          ],
          [
           -3.27,
           0
          ],
          [
           -3.25,
           0
          ],
          [
           -3.24,
           0
          ],
          [
           -3.22,
           0
          ],
          [
           -3.2,
           0
          ],
          [
           -3.19,
           0
          ],
          [
           -3.17,
           0
          ],
          [
           -3.15,
           0
          ],
          [
           -3.14,
           0
          ],
          [
           -3.12,
           0
          ],
          [
           -3.1,
           0
          ],
          [
           -3.09,
           0
          ],
          [
           -3.07,
           0
          ],
          [
           -3.05,
           0
          ],
          [
           -3.04,
           0
          ],
          [
           -3.02,
           0
          ],
          [
           -3,
           6.327092260143956
          ],
          [
           -2.99,
           7.908210145823252
          ],
          [
           -2.97,
           11.116593483271645
          ],
          [
           -2.95,
           15.771053795679455
          ],
          [
           -2.94,
           28.502467393139636
          ],
          [
           -2.92,
           36.44950644780859
          ],
          [
           -2.9,
           42.66776962936999
          ],
          [
           -2.89,
           50.5775205968262
          ],
          [
           -2.87,
           63.44187990628431
          ],
          [
           -2.86,
           74.16589381020607
          ],
          [
           -2.84,
           74.57275156250581
          ],
          [
           -2.82,
           75.85982620495169
          ],
          [
           -2.81,
           76.1569954241038
          ],
          [
           -2.79,
           75.66283619611774
          ],
          [
           -2.77,
           64.95631431096324
          ],
          [
           -2.76,
           49.09719154014277
          ],
          [
           -2.74,
           41.0470305461548
          ],
          [
           -2.72,
           30.07974049461211
          ],
          [
           -2.71,
           20.544136733493673
          ],
          [
           -2.69,
           7.92437879025565
          ],
          [
           -2.67,
           0.0018084272716576827
          ],
          [
           -2.66,
           0
          ],
          [
           -2.64,
           0
          ],
          [
           -2.61,
           0
          ],
          [
           -2.61,
           0
          ],
          [
           -2.6,
           0
          ],
          [
           -2.59,
           0
          ],
          [
           -2.59,
           0
          ],
          [
           -2.57,
           0
          ],
          [
           -2.56,
           0
          ],
          [
           -2.54,
           0
          ],
          [
           -2.52,
           0
          ],
          [
           -2.51,
           0
          ],
          [
           -2.49,
           0
          ],
          [
           -2.47,
           0
          ],
          [
           -2.46,
           0
          ],
          [
           -2.44,
           0
          ],
          [
           -2.42,
           0
          ],
          [
           -2.41,
           0
          ],
          [
           -2.39,
           0
          ],
          [
           -2.37,
           0
          ],
          [
           -2.36,
           0
          ],
          [
           -2.34,
           0
          ],
          [
           -2.32,
           9.496702767882155
          ],
          [
           -2.31,
           14.28706829709209
          ],
          [
           -2.29,
           17.32703596133137
          ],
          [
           -2.27,
           26.94622242308825
          ],
          [
           -2.26,
           26.81943369323924
          ],
          [
           -2.24,
           38.08461404097035
          ],
          [
           -2.22,
           47.24001022215121
          ],
          [
           -2.21,
           54.047811541944334
          ],
          [
           -2.19,
           64.85710693998745
          ],
          [
           -2.17,
           64.89565127256733
          ],
          [
           -2.16,
           77.61878729186483
          ],
          [
           -2.14,
           87.01370569248988
          ],
          [
           -2.12,
           87.07829378762432
          ],
          [
           -2.11,
           96.41970722054751
          ],
          [
           -2.09,
           106.28346046801973
          ],
          [
           -2.07,
           112.03912023246421
          ],
          [
           -2.06,
           117.09328486104533
          ],
          [
           -2.04,
           123.47648502371376
          ],
          [
           -2.03,
           123.66945366511999
          ],
          [
           -2.01,
           151.73242035381494
          ],
          [
           -1.99,
           151.5583351965909
          ],
          [
           -1.98,
           152.26876828051817
          ],
          [
           -1.96,
           151.40819104149494
          ],
          [
           -1.94,
           152.27518721728367
          ],
          [
           -1.93,
           151.85157583797263
          ],
          [
           -1.91,
           152.17193712279138
          ],
          [
           -1.89,
           151.262155846916
          ],
          [
           -1.88,
           156.73281098491
          ],
          [
           -1.86,
           159.47414227199243
          ],
          [
           -1.84,
           162.01479800044498
          ],
          [
           -1.83,
           165.79899972929292
          ],
          [
           -1.81,
           168.42365947783657
          ],
          [
           -1.79,
           170.492135678468
          ],
          [
           -1.78,
           170.36290227051296
          ],
          [
           -1.76,
           171.5236829046929
          ],
          [
           -1.74,
           171.16297243860458
          ],
          [
           -1.73,
           163.87492205476119
          ],
          [
           -1.71,
           159.89525438996753
          ],
          [
           -1.69,
           151.46724666735977
          ],
          [
           -1.68,
           152.446289219358
          ],
          [
           -1.66,
           152.09799656691882
          ],
          [
           -1.64,
           87.72732247538491
          ],
          [
           -1.63,
           98.42244398196506
          ],
          [
           -1.61,
           16.715429223906217
          ],
          [
           -1.59,
           85.24403366958309
          ],
          [
           -1.58,
           15.769995086054834
          ],
          [
           -1.56,
           6.342407503001772
          ],
          [
           -1.54,
           0
          ],
          [
           -1.53,
           0
          ],
          [
           -1.51,
           0
          ],
          [
           -1.49,
           0
          ],
          [
           -1.47,
           0
          ],
          [
           -1.46,
           0
          ],
          [
           -1.45,
           0
          ],
          [
           -1.45,
           0
          ],
          [
           -1.44,
           0
          ],
          [
           -1.43,
           0
          ],
          [
           -1.41,
           0
          ],
          [
           -1.39,
           0
          ],
          [
           -1.38,
           0
          ],
          [
           -1.36,
           0
          ],
          [
           -1.34,
           0
          ],
          [
           -1.33,
           0
          ],
          [
           -1.31,
           0
          ],
          [
           -1.29,
           0
          ],
          [
           -1.28,
           0
          ],
          [
           -1.26,
           0
          ],
          [
           -1.24,
           0
          ],
          [
           -1.23,
           0
          ],
          [
           -1.21,
           7.929363799703679
          ],
          [
           -1.2,
           11.01934603447266
          ],
          [
           -1.18,
           17.40942424494969
          ],
          [
           -1.16,
           31.796943981742768
          ],
          [
           -1.15,
           39.34773772010603
          ],
          [
           -1.13,
           47.6610948581133
          ],
          [
           -1.11,
           66.48020122944425
          ],
          [
           -1.1,
           77.46657571924585
          ],
          [
           -1.08,
           83.9039457038598
          ],
          [
           -1.06,
           93.10105624002536
          ],
          [
           -1.05,
           112.50617737448397
          ],
          [
           -1.03,
           127.44842309693054
          ],
          [
           -0.99,
           152.06466591658915
          ],
          [
           -0.99,
           155.63479439087516
          ],
          [
           -0.98,
           151.7969184781821
          ],
          [
           -0.96,
           152.8344531431434
          ],
          [
           -0.95,
           160.11052889237428
          ],
          [
           -0.93,
           160.22505625618732
          ],
          [
           -0.91,
           159.46280136540076
          ],
          [
           -0.9,
           159.15062018164951
          ],
          [
           -0.88,
           158.83273001172594
          ],
          [
           -0.86,
           158.2981989729728
          ],
          [
           -0.85,
           153.2885586866395
          ],
          [
           -0.83,
           153.2726911670248
          ],
          [
           -0.81,
           152.19327035656212
          ],
          [
           -0.8,
           121.88911819856116
          ],
          [
           -0.78,
           106.11627978366147
          ],
          [
           -0.76,
           94.76878371623751
          ],
          [
           -0.75,
           71.21906814502016
          ],
          [
           -0.73,
           52.36590953193238
          ],
          [
           -0.71,
           36.26516369751449
          ],
          [
           -0.7,
           20.64848470052692
          ],
          [
           -0.68,
           9.486619434972262
          ],
          [
           -0.66,
           0
          ],
          [
           -0.65,
           0
          ],
          [
           -0.63,
           0
          ],
          [
           -0.61,
           0
          ],
          [
           -0.6,
           0
          ],
          [
           -0.58,
           0
          ],
          [
           -0.56,
           0
          ],
          [
           -0.55,
           0
          ],
          [
           -0.53,
           0
          ],
          [
           -0.51,
           0
          ],
          [
           -0.5,
           0
          ],
          [
           -0.48,
           0
          ],
          [
           -0.46,
           0
          ],
          [
           -0.45,
           0
          ],
          [
           -0.43,
           12.648953232883736
          ],
          [
           -0.41,
           20.530258198986818
          ],
          [
           -0.4,
           30.17356627522871
          ],
          [
           -0.38,
           52.238232687679066
          ],
          [
           -0.37,
           66.2334953695241
          ],
          [
           -0.35,
           77.50664870480828
          ],
          [
           -0.33,
           99.90965141552314
          ],
          [
           -0.32,
           112.34415135634451
          ],
          [
           -0.3,
           139.20598151449036
          ],
          [
           -0.28,
           151.9169739120697
          ],
          [
           -0.27,
           153.384383094537
          ],
          [
           -0.25,
           153.57526286139918
          ],
          [
           -0.23,
           154.91021077734257
          ],
          [
           -0.22,
           155.0586353825463
          ],
          [
           -0.2,
           152.4432542716098
          ],
          [
           -0.18,
           151.82849476290622
          ],
          [
           -0.17,
           151.2550323473539
          ],
          [
           -0.15,
           136.46673143866855
          ],
          [
           -0.13,
           99.76782525003716
          ],
          [
           -0.12,
           85.3398324500773
          ],
          [
           -0.1,
           74.52782794232851
          ],
          [
           -0.08,
           59.98748182703926
          ],
          [
           -0.07,
           33.30636452485262
          ],
          [
           -0.05,
           22.06820061331197
          ],
          [
           -0.03,
           12.689289323888366
          ],
          [
           -0.02,
           6.322851067922726
          ],
          [
           0,
           0
          ],
          [
           0.02,
           0
          ],
          [
           0.03,
           0
          ],
          [
           0.05,
           0
          ],
          [
           0.08,
           0
          ],
          [
           0.08,
           0
          ],
          [
           0.09,
           0
          ],
          [
           0.1,
           0
          ],
          [
           0.1,
           0
          ],
          [
           0.12,
           0
          ],
          [
           0.13,
           0
          ],
          [
           0.15,
           0
          ],
          [
           0.17,
           0
          ],
          [
           0.18,
           0
          ],
          [
           0.2,
           6.325568747525537
          ],
          [
           0.22,
           9.496053921795976
          ],
          [
           0.23,
           12.682123126936496
          ],
          [
           0.25,
           17.387084988223943
          ],
          [
           0.27,
           25.379932786399323
          ],
          [
           0.28,
           29.904173134829612
          ],
          [
           0.3,
           34.89641465772672
          ],
          [
           0.32,
           6.428397191667823
          ],
          [
           0.33,
           91.52311258457117
          ],
          [
           0.35,
           55.572376880037545
          ],
          [
           0.37,
           66.5122687602471
          ],
          [
           0.38,
           75.76199909432215
          ],
          [
           0.4,
           75.87758732212154
          ],
          [
           0.41,
           77.83367403320747
          ],
          [
           0.43,
           79.18915931726389
          ],
          [
           0.45,
           82.47258881395638
          ],
          [
           0.46,
           85.21018163426498
          ],
          [
           0.48,
           83.75436679064467
          ],
          [
           0.5,
           85.43272331828894
          ],
          [
           0.51,
           88.53308309169337
          ],
          [
           0.53,
           90.2269203035718
          ],
          [
           0.55,
           93.46132858991693
          ],
          [
           0.56,
           98.13843529355076
          ],
          [
           0.58,
           99.79677215352982
          ],
          [
           0.6,
           102.93522065822164
          ],
          [
           0.61,
           107.34871691546388
          ],
          [
           0.63,
           113.80028940495403
          ],
          [
           0.65,
           115.56085478391894
          ],
          [
           0.66,
           143.84187470107537
          ],
          [
           0.68,
           154.32209099930213
          ],
          [
           0.7,
           151.66932854372433
          ],
          [
           0.71,
           155.29726018030783
          ],
          [
           0.73,
           159.60981008643563
          ],
          [
           0.75,
           161.7179182051061
          ],
          [
           0.76,
           161.58496309810747
          ],
          [
           0.78,
           162.67934712934476
          ],
          [
           0.8,
           163.37692607117063
          ],
          [
           0.81,
           162.97584332558745
          ],
          [
           0.83,
           162.28332694062652
          ],
          [
           0.85,
           162.96007358637058
          ],
          [
           0.86,
           163.50205355024073
          ],
          [
           0.88,
           161.69891070034387
          ],
          [
           0.9,
           167.65634589607023
          ],
          [
           0.91,
           172.061163452171
          ],
          [
           0.93,
           173.80894551687012
          ],
          [
           0.95,
           175.9781435027066
          ],
          [
           0.96,
           178.44635981687256
          ],
          [
           0.98,
           179.14421515991864
          ],
          [
           1,
           183.59075719201368
          ],
          [
           1.01,
           183.3542032132322
          ],
          [
           1.03,
           184.01928474835213
          ],
          [
           1.05,
           186.15271042721528
          ],
          [
           1.06,
           186.87863962561124
          ],
          [
           1.08,
           188.0233666925473
          ],
          [
           1.1,
           187.66444954284552
          ],
          [
           1.11,
           192.76116730530717
          ],
          [
           1.13,
           189.09476778436917
          ],
          [
           1.15,
           191.88453699059878
          ],
          [
           1.16,
           191.83219684507668
          ],
          [
           1.18,
           190.8651209308523
          ],
          [
           1.2,
           191.55201841047983
          ],
          [
           1.21,
           193.7766105368294
          ],
          [
           1.23,
           192.2190752976033
          ],
          [
           1.24,
           193.55895039368153
          ],
          [
           1.26,
           192.96767554018078
          ],
          [
           1.28,
           194.67664120432585
          ],
          [
           1.29,
           196.5015174740695
          ],
          [
           1.31,
           196.96430841112573
          ],
          [
           1.33,
           198.34592801950464
          ],
          [
           1.34,
           197.43393810027496
          ],
          [
           1.36,
           193.32029956997508
          ],
          [
           1.38,
           188.0117247090726
          ],
          [
           1.39,
           179.57150654869943
          ],
          [
           1.41,
           165.94327321292928
          ],
          [
           1.43,
           151.93369994743102
          ],
          [
           1.44,
           133.66853758383374
          ],
          [
           1.46,
           101.99419936300714
          ],
          [
           1.48,
           71.05207619588882
          ],
          [
           1.49,
           50.627289376030696
          ],
          [
           1.51,
           36.28820461602883
          ],
          [
           1.53,
           14.292208628189913
          ],
          [
           1.54,
           6.322523220322062
          ],
          [
           1.56,
           0
          ],
          [
           1.58,
           0
          ],
          [
           1.59,
           0
          ],
          [
           1.61,
           0
          ],
          [
           1.63,
           0
          ],
          [
           1.64,
           0
          ],
          [
           1.66,
           0
          ],
          [
           1.68,
           0
          ],
          [
           1.69,
           0
          ],
          [
           1.71,
           0
          ],
          [
           1.73,
           0
          ],
          [
           1.74,
           0
          ],
          [
           1.76,
           0
          ],
          [
           1.78,
           0
          ],
          [
           1.79,
           0
          ],
          [
           1.81,
           0
          ],
          [
           1.83,
           0
          ],
          [
           1.84,
           7.907718442616325
          ],
          [
           1.86,
           12.653980801568904
          ],
          [
           1.88,
           17.414648836941378
          ],
          [
           1.89,
           28.421349345025178
          ],
          [
           1.91,
           28.508149473147824
          ],
          [
           1.93,
           39.63895723615526
          ],
          [
           1.94,
           44.313131192297014
          ],
          [
           1.96,
           50.6099179814209
          ],
          [
           1.98,
           55.98135127413572
          ],
          [
           1.99,
           73.67012354940167
          ],
          [
           2.01,
           76.12268725712465
          ],
          [
           2.03,
           75.96213549428354
          ],
          [
           2.04,
           75.89982227836218
          ],
          [
           2.06,
           68.22832453018795
          ],
          [
           2.07,
           48.99005176765887
          ],
          [
           2.09,
           38.00945535027977
          ],
          [
           2.11,
           25.25815422341678
          ],
          [
           2.12,
           6.338206112544746
          ],
          [
           2.14,
           0
          ],
          [
           2.16,
           0
          ],
          [
           2.17,
           0
          ],
          [
           2.19,
           0
          ],
          [
           2.21,
           0
          ],
          [
           2.22,
           0
          ],
          [
           2.24,
           0
          ],
          [
           2.26,
           0
          ],
          [
           2.27,
           0
          ],
          [
           2.29,
           0
          ],
          [
           2.31,
           0
          ],
          [
           2.32,
           0
          ],
          [
           2.34,
           0
          ],
          [
           2.36,
           0
          ],
          [
           2.37,
           0
          ],
          [
           2.39,
           0
          ],
          [
           2.41,
           0
          ],
          [
           2.42,
           0
          ],
          [
           2.44,
           0
          ],
          [
           2.46,
           0
          ],
          [
           2.47,
           0
          ],
          [
           2.49,
           0
          ],
          [
           2.51,
           0
          ],
          [
           2.52,
           0
          ],
          [
           2.54,
           0
          ],
          [
           2.56,
           0
          ],
          [
           2.57,
           0
          ],
          [
           2.59,
           0
          ],
          [
           2.61,
           0
          ],
          [
           2.62,
           9.521659410792278
          ],
          [
           2.64,
           12.421712399828285
          ],
          [
           2.66,
           17.43335490340366
          ],
          [
           2.67,
           23.648288644209202
          ],
          [
           2.69,
           48.16439460612037
          ],
          [
           2.71,
           58.5402302863967
          ],
          [
           2.72,
           79.60482255191454
          ],
          [
           2.74,
           86.92749330035903
          ],
          [
           2.76,
           96.23058776624002
          ],
          [
           2.77,
           103.11357995859714
          ],
          [
           2.79,
           107.41391493920027
          ],
          [
           2.81,
           114.02726463808017
          ],
          [
           2.82,
           112.42904118314526
          ],
          [
           2.84,
           106.13985042832978
          ],
          [
           2.86,
           99.56846153402071
          ],
          [
           2.87,
           79.23379481978068
          ],
          [
           2.89,
           71.2761968899435
          ],
          [
           2.91,
           24.146284058948048
          ],
          [
           2.92,
           14.258913266757686
          ],
          [
           2.94,
           7.896286428878989
          ],
          [
           2.95,
           0
          ],
          [
           2.97,
           0
          ],
          [
           2.99,
           0
          ],
          [
           3,
           0
          ],
          [
           3.03,
           0
          ],
          [
           3.03,
           0
          ],
          [
           3.05,
           0
          ],
          [
           3.05,
           0
          ],
          [
           3.06,
           0
          ],
          [
           3.07,
           0
          ],
          [
           3.09,
           0
          ],
          [
           3.1,
           0
          ],
          [
           3.12,
           0
          ],
          [
           3.14,
           0
          ],
          [
           3.15,
           0
          ],
          [
           3.17,
           0
          ],
          [
           3.19,
           0
          ],
          [
           3.2,
           0
          ],
          [
           3.22,
           0
          ],
          [
           3.24,
           0
          ],
          [
           3.25,
           0
          ],
          [
           3.27,
           0
          ],
          [
           3.29,
           0
          ],
          [
           3.3,
           0
          ],
          [
           3.32,
           6.336948367852992
          ],
          [
           3.34,
           7.916274617778194
          ],
          [
           3.35,
           12.63355377251908
          ],
          [
           3.37,
           18.922509929496147
          ],
          [
           3.39,
           22.301214092217457
          ],
          [
           3.4,
           22.002183775940278
          ],
          [
           3.42,
           30.208794211476455
          ],
          [
           3.44,
           36.384004048891335
          ],
          [
           3.45,
           39.69139001443375
          ],
          [
           3.47,
           52.000096887121344
          ],
          [
           3.49,
           58.51399230013645
          ],
          [
           3.5,
           75.95177382244641
          ],
          [
           3.52,
           80.62688320926762
          ],
          [
           3.54,
           95.00473225250295
          ],
          [
           3.55,
           103.20430715248736
          ],
          [
           3.57,
           109.25735592926303
          ],
          [
           3.59,
           144.03865458691027
          ],
          [
           3.6,
           151.57019018852827
          ],
          [
           3.62,
           152.17415724859603
          ],
          [
           3.64,
           151.73498209850786
          ],
          [
           3.65,
           152.06174902199933
          ],
          [
           3.67,
           151.10283875167846
          ],
          [
           3.69,
           152.46288817163577
          ],
          [
           3.7,
           151.8666517727239
          ],
          [
           3.72,
           152.06024726420412
          ],
          [
           3.73,
           151.88264120265936
          ],
          [
           3.75,
           151.98675470981087
          ],
          [
           3.77,
           140.82049477571928
          ],
          [
           3.78,
           121.78467359827583
          ],
          [
           3.8,
           117.12937056532516
          ],
          [
           3.82,
           117.11397001412561
          ],
          [
           3.83,
           114.9794051840314
          ],
          [
           3.85,
           114.50093032692666
          ],
          [
           3.87,
           113.93990093123737
          ],
          [
           3.88,
           107.50043855915388
          ],
          [
           3.9,
           101.04776255568622
          ],
          [
           3.92,
           98.39210671341219
          ],
          [
           3.93,
           98.04329413799128
          ],
          [
           3.95,
           93.41975939055777
          ],
          [
           3.97,
           89.34260320995588
          ],
          [
           4,
           90.5134610702282
          ],
          [
           4.01,
           91.08671139734261
          ],
          [
           4.02,
           93.14993338052327
          ],
          [
           4.03,
           93.31114912818863
          ],
          [
           4.05,
           93.30151473946479
          ],
          [
           4.07,
           99.92509034761197
          ],
          [
           4.08,
           104.22213381347997
          ],
          [
           4.1,
           110.84184807963538
          ],
          [
           4.12,
           151.967944471033
          ],
          [
           4.13,
           152.05630631309467
          ],
          [
           4.15,
           151.4753800463179
          ],
          [
           4.17,
           155.35267590020243
          ],
          [
           4.18,
           172.1084594987942
          ],
          [
           4.2,
           177.7524010017718
          ],
          [
           4.22,
           187.12190782199085
          ],
          [
           4.23,
           199.45201169727875
          ],
          [
           4.25,
           198.02556212549055
          ],
          [
           4.27,
           199.19314366240351
          ],
          [
           4.28,
           199.6505329718897
          ],
          [
           4.3,
           199.00374773745003
          ],
          [
           4.32,
           199.11153780919733
          ],
          [
           4.33,
           198.83980796914778
          ],
          [
           4.35,
           196.32549007659702
          ],
          [
           4.37,
           187.102150915091
          ],
          [
           4.38,
           186.8148405170575
          ],
          [
           4.4,
           179.00143346999795
          ],
          [
           4.42,
           156.97283200010511
          ],
          [
           4.43,
           152.22881052558498
          ],
          [
           4.45,
           102.67831134549746
          ]
         ],
         "hovertemplate": "rel_time: %{customdata[0]:.2f} <br>monkey_speed: %{customdata[1]:.2f}",
         "legendgroup": "",
         "marker": {
          "cmax": 200,
          "cmin": 0,
          "color": [
           0,
           0,
           0,
           0,
           0,
           0,
           0,
           0,
           0,
           0,
           0,
           0,
           0,
           0,
           6.309406035419947,
           7.949659404498988,
           15.760597226465464,
           20.60660134880935,
           33.19699121405842,
           46.00647444181774,
           53.77174853690742,
           68.05731505162571,
           75.82960513277271,
           76.06765436013201,
           76.03663191895244,
           77.37125374254452,
           77.45759350259667,
           77.6827319273566,
           75.87037446045936,
           61.62513263027892,
           53.948217017825854,
           44.218212886929095,
           22.15830885838716,
           12.680498148161508,
           6.317269522220263,
           0,
           0,
           0,
           0,
           0,
           0,
           0,
           0,
           0,
           0,
           0,
           0,
           0,
           0,
           0,
           0,
           0,
           0,
           0,
           0,
           0,
           0,
           0,
           0,
           0,
           0,
           6.327092260143956,
           7.908210145823252,
           11.116593483271645,
           15.771053795679455,
           28.502467393139636,
           36.44950644780859,
           42.66776962936999,
           50.5775205968262,
           63.44187990628431,
           74.16589381020607,
           74.57275156250581,
           75.85982620495169,
           76.1569954241038,
           75.66283619611774,
           64.95631431096324,
           49.09719154014277,
           41.0470305461548,
           30.07974049461211,
           20.544136733493673,
           7.92437879025565,
           0.0018084272716576827,
           0,
           0,
           0,
           0,
           0,
           0,
           0,
           0,
           0,
           0,
           0,
           0,
           0,
           0,
           0,
           0,
           0,
           0,
           0,
           0,
           0,
           0,
           9.496702767882155,
           14.28706829709209,
           17.32703596133137,
           26.94622242308825,
           26.81943369323924,
           38.08461404097035,
           47.24001022215121,
           54.047811541944334,
           64.85710693998745,
           64.89565127256733,
           77.61878729186483,
           87.01370569248988,
           87.07829378762432,
           96.41970722054751,
           106.28346046801973,
           112.03912023246421,
           117.09328486104533,
           123.47648502371376,
           123.66945366511999,
           151.73242035381494,
           151.5583351965909,
           152.26876828051817,
           151.40819104149494,
           152.27518721728367,
           151.85157583797263,
           152.17193712279138,
           151.262155846916,
           156.73281098491,
           159.47414227199243,
           162.01479800044498,
           165.79899972929292,
           168.42365947783657,
           170.492135678468,
           170.36290227051296,
           171.5236829046929,
           171.16297243860458,
           163.87492205476119,
           159.89525438996753,
           151.46724666735977,
           152.446289219358,
           152.09799656691882,
           87.72732247538491,
           98.42244398196506,
           16.715429223906217,
           85.24403366958309,
           15.769995086054834,
           6.342407503001772,
           0,
           0,
           0,
           0,
           0,
           0,
           0,
           0,
           0,
           0,
           0,
           0,
           0,
           0,
           0,
           0,
           0,
           0,
           0,
           0,
           0,
           0,
           7.929363799703679,
           11.01934603447266,
           17.40942424494969,
           31.796943981742768,
           39.34773772010603,
           47.6610948581133,
           66.48020122944425,
           77.46657571924585,
           83.9039457038598,
           93.10105624002536,
           112.50617737448397,
           127.44842309693054,
           152.06466591658915,
           155.63479439087516,
           151.7969184781821,
           152.8344531431434,
           160.11052889237428,
           160.22505625618732,
           159.46280136540076,
           159.15062018164951,
           158.83273001172594,
           158.2981989729728,
           153.2885586866395,
           153.2726911670248,
           152.19327035656212,
           121.88911819856116,
           106.11627978366147,
           94.76878371623751,
           71.21906814502016,
           52.36590953193238,
           36.26516369751449,
           20.64848470052692,
           9.486619434972262,
           0,
           0,
           0,
           0,
           0,
           0,
           0,
           0,
           0,
           0,
           0,
           0,
           0,
           0,
           12.648953232883736,
           20.530258198986818,
           30.17356627522871,
           52.238232687679066,
           66.2334953695241,
           77.50664870480828,
           99.90965141552314,
           112.34415135634451,
           139.20598151449036,
           151.9169739120697,
           153.384383094537,
           153.57526286139918,
           154.91021077734257,
           155.0586353825463,
           152.4432542716098,
           151.82849476290622,
           151.2550323473539,
           136.46673143866855,
           99.76782525003716,
           85.3398324500773,
           74.52782794232851,
           59.98748182703926,
           33.30636452485262,
           22.06820061331197,
           12.689289323888366,
           6.322851067922726,
           0,
           0,
           0,
           0,
           0,
           0,
           0,
           0,
           0,
           0,
           0,
           0,
           0,
           0,
           6.325568747525537,
           9.496053921795976,
           12.682123126936496,
           17.387084988223943,
           25.379932786399323,
           29.904173134829612,
           34.89641465772672,
           6.428397191667823,
           91.52311258457117,
           55.572376880037545,
           66.5122687602471,
           75.76199909432215,
           75.87758732212154,
           77.83367403320747,
           79.18915931726389,
           82.47258881395638,
           85.21018163426498,
           83.75436679064467,
           85.43272331828894,
           88.53308309169337,
           90.2269203035718,
           93.46132858991693,
           98.13843529355076,
           99.79677215352982,
           102.93522065822164,
           107.34871691546388,
           113.80028940495403,
           115.56085478391894,
           143.84187470107537,
           154.32209099930213,
           151.66932854372433,
           155.29726018030783,
           159.60981008643563,
           161.7179182051061,
           161.58496309810747,
           162.67934712934476,
           163.37692607117063,
           162.97584332558745,
           162.28332694062652,
           162.96007358637058,
           163.50205355024073,
           161.69891070034387,
           167.65634589607023,
           172.061163452171,
           173.80894551687012,
           175.9781435027066,
           178.44635981687256,
           179.14421515991864,
           183.59075719201368,
           183.3542032132322,
           184.01928474835213,
           186.15271042721528,
           186.87863962561124,
           188.0233666925473,
           187.66444954284552,
           192.76116730530717,
           189.09476778436917,
           191.88453699059878,
           191.83219684507668,
           190.8651209308523,
           191.55201841047983,
           193.7766105368294,
           192.2190752976033,
           193.55895039368153,
           192.96767554018078,
           194.67664120432585,
           196.5015174740695,
           196.96430841112573,
           198.34592801950464,
           197.43393810027496,
           193.32029956997508,
           188.0117247090726,
           179.57150654869943,
           165.94327321292928,
           151.93369994743102,
           133.66853758383374,
           101.99419936300714,
           71.05207619588882,
           50.627289376030696,
           36.28820461602883,
           14.292208628189913,
           6.322523220322062,
           0,
           0,
           0,
           0,
           0,
           0,
           0,
           0,
           0,
           0,
           0,
           0,
           0,
           0,
           0,
           0,
           0,
           7.907718442616325,
           12.653980801568904,
           17.414648836941378,
           28.421349345025178,
           28.508149473147824,
           39.63895723615526,
           44.313131192297014,
           50.6099179814209,
           55.98135127413572,
           73.67012354940167,
           76.12268725712465,
           75.96213549428354,
           75.89982227836218,
           68.22832453018795,
           48.99005176765887,
           38.00945535027977,
           25.25815422341678,
           6.338206112544746,
           0,
           0,
           0,
           0,
           0,
           0,
           0,
           0,
           0,
           0,
           0,
           0,
           0,
           0,
           0,
           0,
           0,
           0,
           0,
           0,
           0,
           0,
           0,
           0,
           0,
           0,
           0,
           0,
           0,
           9.521659410792278,
           12.421712399828285,
           17.43335490340366,
           23.648288644209202,
           48.16439460612037,
           58.5402302863967,
           79.60482255191454,
           86.92749330035903,
           96.23058776624002,
           103.11357995859714,
           107.41391493920027,
           114.02726463808017,
           112.42904118314526,
           106.13985042832978,
           99.56846153402071,
           79.23379481978068,
           71.2761968899435,
           24.146284058948048,
           14.258913266757686,
           7.896286428878989,
           0,
           0,
           0,
           0,
           0,
           0,
           0,
           0,
           0,
           0,
           0,
           0,
           0,
           0,
           0,
           0,
           0,
           0,
           0,
           0,
           0,
           0,
           0,
           0,
           6.336948367852992,
           7.916274617778194,
           12.63355377251908,
           18.922509929496147,
           22.301214092217457,
           22.002183775940278,
           30.208794211476455,
           36.384004048891335,
           39.69139001443375,
           52.000096887121344,
           58.51399230013645,
           75.95177382244641,
           80.62688320926762,
           95.00473225250295,
           103.20430715248736,
           109.25735592926303,
           144.03865458691027,
           151.57019018852827,
           152.17415724859603,
           151.73498209850786,
           152.06174902199933,
           151.10283875167846,
           152.46288817163577,
           151.8666517727239,
           152.06024726420412,
           151.88264120265936,
           151.98675470981087,
           140.82049477571928,
           121.78467359827583,
           117.12937056532516,
           117.11397001412561,
           114.9794051840314,
           114.50093032692666,
           113.93990093123737,
           107.50043855915388,
           101.04776255568622,
           98.39210671341219,
           98.04329413799128,
           93.41975939055777,
           89.34260320995588,
           90.5134610702282,
           91.08671139734261,
           93.14993338052327,
           93.31114912818863,
           93.30151473946479,
           99.92509034761197,
           104.22213381347997,
           110.84184807963538,
           151.967944471033,
           152.05630631309467,
           151.4753800463179,
           155.35267590020243,
           172.1084594987942,
           177.7524010017718,
           187.12190782199085,
           199.45201169727875,
           198.02556212549055,
           199.19314366240351,
           199.6505329718897,
           199.00374773745003,
           199.11153780919733,
           198.83980796914778,
           196.32549007659702,
           187.102150915091,
           186.8148405170575,
           179.00143346999795,
           156.97283200010511,
           152.22881052558498,
           102.67831134549746
          ],
          "colorscale": [
           [
            0,
            "#440154"
           ],
           [
            0.1111111111111111,
            "#482878"
           ],
           [
            0.2222222222222222,
            "#3e4989"
           ],
           [
            0.3333333333333333,
            "#31688e"
           ],
           [
            0.4444444444444444,
            "#26828e"
           ],
           [
            0.5555555555555556,
            "#1f9e89"
           ],
           [
            0.6666666666666666,
            "#35b779"
           ],
           [
            0.7777777777777778,
            "#6ece58"
           ],
           [
            0.8888888888888888,
            "#b5de2b"
           ],
           [
            1,
            "#fde725"
           ]
          ],
          "opacity": 0.8,
          "symbol": "circle"
         },
         "mode": "markers",
         "name": "trajectory_data",
         "orientation": "v",
         "showlegend": false,
         "type": "scatter",
         "x": [
          -463.5995445631647,
          -463.5995445631647,
          -463.5995445631647,
          -463.5995445631647,
          -463.5995445631647,
          -463.5995445631647,
          -463.5995445631647,
          -463.5995445631647,
          -463.5995445631647,
          -463.5995445631647,
          -463.5995445631647,
          -463.5995445631647,
          -463.5995445631647,
          -463.5995445631647,
          -463.6145295563495,
          -463.6331996583972,
          -463.67059414213355,
          -463.7192731403142,
          -463.7983208518083,
          -463.9086944584172,
          -464.0395540477886,
          -464.207298821171,
          -464.39711920861004,
          -464.58935327271837,
          -464.7843058669182,
          -464.9862808156447,
          -465.1910309326249,
          -465.3986932843044,
          -465.6051030898412,
          -465.77490001400093,
          -465.9246172716241,
          -466.04909157112405,
          -466.1117979658994,
          -466.14759486685927,
          -466.1654982846169,
          -466.1654982846169,
          -466.1654982846169,
          -466.1654982846169,
          -466.1654982846169,
          -466.1654982846169,
          -466.1654982846169,
          -466.1654982846169,
          -466.1654982846169,
          -466.1654982846169,
          -466.1654982846169,
          -466.1654982846169,
          -466.1654982846169,
          -466.1654982846169,
          -466.1654982846169,
          -466.1654982846169,
          -466.1654982846169,
          -466.1654982846169,
          -466.1654982846169,
          -466.1654982846169,
          -466.1654982846169,
          -466.1654982846169,
          -466.1654982846169,
          -466.1654982846169,
          -466.1654982846169,
          -466.1654982846169,
          -466.1654982846169,
          -466.1833396998094,
          -466.2057243530793,
          -466.23707770569445,
          -466.28178997694675,
          -466.3628487217042,
          -466.46749130345665,
          -466.5920350939924,
          -466.74197163386566,
          -466.9329143771706,
          -467.16202477201017,
          -467.39502248731065,
          -467.63777572856685,
          -467.88533061134325,
          -468.1369871470899,
          -468.354724252689,
          -468.52182544715913,
          -468.6632244397176,
          -468.76720471651623,
          -468.83834787839294,
          -468.8657357967513,
          -468.8657264831056,
          -468.8657264831056,
          -468.8657264831056,
          -468.8657264831056,
          -468.8657264831056,
          -468.8657264831056,
          -468.8657264831056,
          -468.8657264831056,
          -468.8657264831056,
          -468.8657264831056,
          -468.8657264831056,
          -468.8657264831056,
          -468.8657264831056,
          -468.8657264831056,
          -468.8657264831056,
          -468.8657264831056,
          -468.8657264831056,
          -468.8657264831056,
          -468.8657264831056,
          -468.8657264831056,
          -468.8657264831056,
          -468.8657264831056,
          -468.8657264831056,
          -468.89856485907063,
          -468.94793163158346,
          -469.00805759604106,
          -469.10107526551633,
          -469.1941402462597,
          -469.32550875187167,
          -469.4897050587601,
          -469.6758503516772,
          -469.90386363920896,
          -470.12475881770916,
          -470.3928469072618,
          -470.6938307185219,
          -470.9948565633174,
          -471.32882649159535,
          -471.69543508669443,
          -472.08407048734927,
          -472.4892379907865,
          -472.91617817735283,
          -473.343122070154,
          -473.8685331394487,
          -474.3939501266093,
          -474.91916274780317,
          -475.44477818306467,
          -475.9702895822255,
          -476.49530344486345,
          -477.0207157752012,
          -477.54877626229637,
          -478.09605409788514,
          -478.65921104887855,
          -479.233577453374,
          -479.83257339171024,
          -480.446629931436,
          -481.08299754742353,
          -481.73244422416445,
          -482.3946894813048,
          -483.07063212111746,
          -483.73755276919354,
          -484.4014868637742,
          -485.0486065426908,
          -485.71097684317255,
          -486.3873800408734,
          -486.84703368971856,
          -487.23473776961816,
          -487.3114161515,
          -487.71271884036065,
          -487.7873688582168,
          -487.81716402120617,
          -487.81716402120617,
          -487.81716402120617,
          -487.81716402120617,
          -487.81716402120617,
          -487.81716402120617,
          -487.81716402120617,
          -487.81716402120617,
          -487.81716402120617,
          -487.81716402120617,
          -487.81716402120617,
          -487.81716402120617,
          -487.81716402120617,
          -487.81716402120617,
          -487.81716402120617,
          -487.81716402120617,
          -487.81716402120617,
          -487.81716402120617,
          -487.81716402120617,
          -487.81716402120617,
          -487.81716402120617,
          -487.81716402120617,
          -487.81716402120617,
          -487.85449135854554,
          -487.90660378981505,
          -487.9887373097914,
          -488.1379343936331,
          -488.3252540792817,
          -488.55138136678363,
          -488.8707770831385,
          -489.24719371871333,
          -489.6590923347802,
          -490.12443436989753,
          -490.69256210217367,
          -491.3548524222336,
          -493.10823187608196,
          -493.2996694918198,
          -493.8200881083852,
          -494.6827741975141,
          -495.60291358311827,
          -496.5442837009608,
          -497.5078954205743,
          -498.4949409235876,
          -499.4950666967781,
          -500.5184047094784,
          -501.5324298373539,
          -502.5692881393575,
          -503.6172799042921,
          -504.4743506101627,
          -505.2344588580155,
          -505.92532568422234,
          -506.45000767445504,
          -506.8384482661026,
          -507.1108251815223,
          -507.26535913522514,
          -507.33679902172065,
          -507.33679902172065,
          -507.33679902172065,
          -507.33679902172065,
          -507.33679902172065,
          -507.33679902172065,
          -507.33679902172065,
          -507.33679902172065,
          -507.33679902172065,
          -507.33679902172065,
          -507.33679902172065,
          -507.33679902172065,
          -507.33679902172065,
          -507.33679902172065,
          -507.33679902172065,
          -507.4320534122279,
          -507.5865483178016,
          -507.81247317531523,
          -508.20479103199,
          -508.70560781200624,
          -509.29190134509616,
          -510.04978857250205,
          -510.90894043269697,
          -511.9816017886574,
          -513.161042826703,
          -514.3636658364284,
          -515.5759963558404,
          -516.8107103412866,
          -518.0553918767121,
          -519.3038496164121,
          -520.5200407023087,
          -521.7642469172818,
          -522.8843817011868,
          -523.7096971176237,
          -524.4205048515288,
          -525.0407428120941,
          -525.5439197424956,
          -525.8225914139114,
          -526.0083472627815,
          -526.1146912882948,
          -526.167742450429,
          -526.167742450429,
          -526.167742450429,
          -526.167742450429,
          -526.167742450429,
          -526.167742450429,
          -526.167742450429,
          -526.167742450429,
          -526.167742450429,
          -526.167742450429,
          -526.167742450429,
          -526.167742450429,
          -526.167742450429,
          -526.167742450429,
          -526.167742450429,
          -526.2207830378745,
          -526.3004564508109,
          -526.4067921132665,
          -526.5525638573002,
          -526.7652779028521,
          -527.0183475293397,
          -527.3122026428346,
          -527.3663314432551,
          -528.1488042642565,
          -528.6220570716656,
          -529.1928079771582,
          -529.8478183772778,
          -530.5041688901407,
          -531.1757497912129,
          -531.8741272321284,
          -532.5870861768769,
          -533.3095444019298,
          -534.0240864400896,
          -534.74449104261,
          -535.4815396166625,
          -536.2181784603783,
          -536.9673387704851,
          -537.7385162419305,
          -538.5060231040624,
          -539.2784591355279,
          -540.066524814215,
          -540.8775827049511,
          -541.6828939970763,
          -542.6336860285834,
          -543.5907967164601,
          -544.5017551779916,
          -545.3835553352667,
          -546.2412532828033,
          -547.052098394177,
          -547.8078552857852,
          -548.5141614606723,
          -549.1640867351973,
          -549.7564737183828,
          -550.2914363663851,
          -550.7686226943148,
          -551.1878716440317,
          -551.5528107228849,
          -551.866046107936,
          -552.1237542087163,
          -552.3313560451971,
          -552.4829750072652,
          -552.578868654688,
          -552.616318802754,
          -552.5947431314557,
          -552.5130874363234,
          -552.3714259869869,
          -552.1664276799675,
          -551.9143041976728,
          -551.6131853247055,
          -551.2634315410752,
          -550.869513601781,
          -550.4337536604522,
          -549.9527401514774,
          -549.4331778002904,
          -548.8745325873399,
          -548.2797482288678,
          -547.6484500392256,
          -546.984605947645,
          -546.2956674994629,
          -545.5885217382178,
          -544.8611818101314,
          -544.118823676876,
          -543.3709454272542,
          -542.6305590559326,
          -541.8983983108299,
          -541.2070310061622,
          -540.5592524735132,
          -539.9711908401213,
          -539.4546455089616,
          -539.0095086983584,
          -538.6384585565262,
          -538.3741610255726,
          -538.1973561062568,
          -538.077162613893,
          -537.9924710382805,
          -537.9597108955519,
          -537.9452015268376,
          -537.9452015268376,
          -537.9452015268376,
          -537.9452015268376,
          -537.9452015268376,
          -537.9452015268376,
          -537.9452015268376,
          -537.9452015268376,
          -537.9452015268376,
          -537.9452015268376,
          -537.9452015268376,
          -537.9452015268376,
          -537.9452015268376,
          -537.9452015268376,
          -537.9452015268376,
          -537.9452015268376,
          -537.9452015268376,
          -537.9452015268376,
          -537.9269991145983,
          -537.8979310648068,
          -537.8579135046924,
          -537.7923967371448,
          -537.7274563104434,
          -537.6379701343882,
          -537.5389182784692,
          -537.4279486740857,
          -537.3055882817893,
          -537.1534925890636,
          -536.9992280981667,
          -536.8496997957619,
          -536.7045752334042,
          -536.5783184037975,
          -536.489531564029,
          -536.4224190131436,
          -536.3780960227554,
          -536.3669957176832,
          -536.3669957176832,
          -536.3669957176832,
          -536.3669957176832,
          -536.3669957176832,
          -536.3669957176832,
          -536.3669957176832,
          -536.3669957176832,
          -536.3669957176832,
          -536.3669957176832,
          -536.3669957176832,
          -536.3669957176832,
          -536.3669957176832,
          -536.3669957176832,
          -536.3669957176832,
          -536.3669957176832,
          -536.3669957176832,
          -536.3669957176832,
          -536.3669957176832,
          -536.3669957176832,
          -536.3669957176832,
          -536.3669957176832,
          -536.3669957176832,
          -536.3669957176832,
          -536.3669957176832,
          -536.3669957176832,
          -536.3669957176832,
          -536.3669957176832,
          -536.3669957176832,
          -536.3669957176832,
          -536.3503752262186,
          -536.3282220272611,
          -536.2979872413177,
          -536.2572019641196,
          -536.1776757834775,
          -536.083084903978,
          -535.9608954776644,
          -535.833186989063,
          -535.699897399306,
          -535.5671422413093,
          -535.4379290597723,
          -535.310770949392,
          -535.1937720911266,
          -535.0901518430363,
          -534.9985966873379,
          -534.9282964991748,
          -534.8693092933632,
          -534.8494842975975,
          -534.8377267807765,
          -534.8311610739926,
          -534.8311610739926,
          -534.8311610739926,
          -534.8311610739926,
          -534.8311610739926,
          -534.8311610739926,
          -534.8311610739926,
          -534.8311610739926,
          -534.8311610739926,
          -534.8311610739926,
          -534.8311610739926,
          -534.8311610739926,
          -534.8311610739926,
          -534.8311610739926,
          -534.8311610739926,
          -534.8311610739926,
          -534.8311610739926,
          -534.8311610739926,
          -534.8311610739926,
          -534.8311610739926,
          -534.8311610739926,
          -534.8311610739926,
          -534.8311610739926,
          -534.8311610739926,
          -534.8311610739926,
          -534.8259405475069,
          -534.8193748407231,
          -534.8088661777754,
          -534.7931104420898,
          -534.7747485674809,
          -534.756338331097,
          -534.7314194232167,
          -534.7012123788745,
          -534.6683570074719,
          -534.625112065657,
          -534.5765527708066,
          -534.5135221243632,
          -534.4465744086517,
          -534.3679374262287,
          -534.2825801142665,
          -534.1890541137747,
          -534.0584766387709,
          -533.9089095281507,
          -533.7358811122475,
          -533.5292214122356,
          -533.2889656478795,
          -532.9991733064177,
          -532.6554546122964,
          -532.258215198109,
          -531.802337464709,
          -531.2854960062613,
          -530.70842244746,
          -530.1171709085448,
          -529.5567602334816,
          -528.9717899570048,
          -528.3408839809126,
          -527.6735588658044,
          -526.9703371054699,
          -526.2238748919816,
          -525.4767244888649,
          -524.735492124574,
          -523.979349613906,
          -523.186467923837,
          -522.3969069429193,
          -521.5989192563361,
          -519.7853100630231,
          -519.5861133111139,
          -518.9665182107631,
          -518.0114481847548,
          -517.0243815849678,
          -515.9379263682155,
          -514.7655521366373,
          -513.4893139578095,
          -511.69204756195677,
          -509.8490497129048,
          -507.96567205605203,
          -506.00112389816184,
          -503.7752230994322,
          -501.40672177147053,
          -498.9180263250473,
          -496.2612362189384,
          -493.5662514255775,
          -490.82183100685563,
          -488.06336097840665,
          -485.29055280553763,
          -482.5122341626902,
          -479.7311042573637,
          -476.9913861196496,
          -474.391146835826,
          -471.79576398248616,
          -469.31662579719375,
          -467.108989039533,
          -465.01552839614624,
          -463.5995445631648
         ],
         "xaxis": "x",
         "y": [
          278.8262593203544,
          278.8262593203544,
          278.8262593203544,
          278.8262593203544,
          278.8262593203544,
          278.8262593203544,
          278.8262593203544,
          278.8262593203544,
          278.8262593203544,
          278.8262593203544,
          278.8262593203544,
          278.8262593203544,
          278.8262593203544,
          278.8262593203544,
          278.9301856807316,
          279.0601801765363,
          279.32020267516884,
          279.6585202108009,
          280.2040590546246,
          280.95821430269376,
          281.8411266536513,
          282.9584930010016,
          284.2048642018188,
          285.4503289507974,
          286.6959283331362,
          287.9676011782658,
          289.2378533917882,
          290.5076439094623,
          291.75237009229255,
          292.7625944532594,
          293.6430140892091,
          294.3677513688746,
          294.730554665303,
          294.9374700652172,
          295.04091255576435,
          295.04091255576435,
          295.04091255576435,
          295.04091255576435,
          295.04091255576435,
          295.04091255576435,
          295.04091255576435,
          295.04091255576435,
          295.04091255576435,
          295.04091255576435,
          295.04091255576435,
          295.04091255576435,
          295.04091255576435,
          295.04091255576435,
          295.04091255576435,
          295.04091255576435,
          295.04091255576435,
          295.04091255576435,
          295.04091255576435,
          295.04091255576435,
          295.04091255576435,
          295.04091255576435,
          295.04091255576435,
          295.04091255576435,
          295.04091255576435,
          295.04091255576435,
          295.04091255576435,
          295.14435162843,
          295.2737856296159,
          295.455186802536,
          295.71403617761626,
          296.1796900922593,
          296.77504236276155,
          297.4730283865127,
          298.2998896815966,
          299.33324795485,
          300.5481794336826,
          301.7588744168368,
          302.99553295855543,
          304.23223536042207,
          305.4681744223186,
          306.5221141013855,
          307.31981329260896,
          307.9876198727805,
          308.475689490332,
          308.80951308043194,
          308.93798061462246,
          308.9380091322662,
          308.9380091322662,
          308.9380091322662,
          308.9380091322662,
          308.9380091322662,
          308.9380091322662,
          308.9380091322662,
          308.9380091322662,
          308.9380091322662,
          308.9380091322662,
          308.9380091322662,
          308.9380091322662,
          308.9380091322662,
          308.9380091322662,
          308.9380091322662,
          308.9380091322662,
          308.9380091322662,
          308.9380091322662,
          308.9380091322662,
          308.9380091322662,
          308.9380091322662,
          308.9380091322662,
          308.9380091322662,
          309.09225451958446,
          309.32387444920556,
          309.6061054081453,
          310.0426149509716,
          310.4795723092106,
          311.09610851036445,
          311.86691925661364,
          312.7403908366034,
          313.8106407242796,
          314.84744094986763,
          316.10580955318903,
          317.51844122053205,
          318.931536863286,
          320.4989439760397,
          322.2196328614285,
          324.04392321870364,
          325.94557354900473,
          327.9494421090614,
          329.95329609984145,
          332.4194371761206,
          334.88556335344475,
          337.3507401749074,
          339.81783060704794,
          342.2844536458963,
          344.7486671631305,
          347.2148075992764,
          349.68089873239717,
          352.22124612585253,
          354.8146141149285,
          357.43106573901247,
          360.1221126127628,
          362.83880112483433,
          365.60139761841265,
          368.3634664996215,
          371.12350230415666,
          373.8777705413603,
          376.52656836646133,
          379.09446870493133,
          381.5325871600282,
          383.9654937149079,
          386.3945558930314,
          388.01161450092206,
          389.35118479754084,
          389.6151762885495,
          390.9762193489242,
          391.2281354571489,
          391.32878478222585,
          391.32878478222585,
          391.32878478222585,
          391.32878478222585,
          391.32878478222585,
          391.32878478222585,
          391.32878478222585,
          391.32878478222585,
          391.32878478222585,
          391.32878478222585,
          391.32878478222585,
          391.32878478222585,
          391.32878478222585,
          391.32878478222585,
          391.32878478222585,
          391.32878478222585,
          391.32878478222585,
          391.32878478222585,
          391.32878478222585,
          391.32878478222585,
          391.32878478222585,
          391.32878478222585,
          391.32878478222585,
          391.45473570692724,
          391.63076626447963,
          391.9079365169388,
          392.4116877709751,
          393.04111947896297,
          393.79550962640326,
          394.8513643404999,
          396.08276661003765,
          397.41195524033355,
          398.8906899942343,
          400.6667115665943,
          402.6950666436456,
          407.8029278164806,
          408.3572328036443,
          409.84092111434717,
          412.23670855379095,
          414.7259188466921,
          417.2045811264335,
          419.67569125345733,
          422.13914205051276,
          424.56824341087565,
          426.9881992251673,
          429.3240195150103,
          431.6518549268812,
          433.94579704518,
          435.77664862067115,
          437.3643323505676,
          438.78105104141105,
          439.8404016133892,
          440.6152485215287,
          441.1543018967111,
          441.4586806380154,
          441.59931973969947,
          441.59931973969947,
          441.59931973969947,
          441.59931973969947,
          441.59931973969947,
          441.59931973969947,
          441.59931973969947,
          441.59931973969947,
          441.59931973969947,
          441.59931973969947,
          441.59931973969947,
          441.59931973969947,
          441.59931973969947,
          441.59931973969947,
          441.59931973969947,
          441.7869679795555,
          442.09126979723794,
          442.5362411354243,
          443.30904690272877,
          444.29244757733824,
          445.43779712272163,
          446.9094068939616,
          448.5650081256395,
          450.6125678205238,
          452.8402068439129,
          455.0869098081076,
          457.32728063295747,
          459.5856203923419,
          461.83899635555736,
          464.07688016326495,
          466.23937554813915,
          468.4336538179015,
          470.39404890216787,
          471.8288660917644,
          473.056937098259,
          474.12351458062903,
          474.9854659367054,
          475.4615964108743,
          475.778900822844,
          475.96050736199294,
          476.05109442997843,
          476.05109442997843,
          476.05109442997843,
          476.05109442997843,
          476.05109442997843,
          476.05109442997843,
          476.05109442997843,
          476.05109442997843,
          476.05109442997843,
          476.05109442997843,
          476.05109442997843,
          476.05109442997843,
          476.05109442997843,
          476.05109442997843,
          476.05109442997843,
          476.1417106557409,
          476.277783256319,
          476.4594186235665,
          476.7084471356417,
          477.07099438416793,
          477.5010730740555,
          477.9983428543538,
          478.08995619020084,
          479.4005674393744,
          480.188409843757,
          481.1328497843914,
          482.21071951049055,
          483.2866504836824,
          484.38514890482463,
          485.5274235050764,
          486.69346644214346,
          487.88389648981644,
          489.0769421617126,
          490.2994159959049,
          491.5737474123453,
          492.8758750915031,
          494.23265562058134,
          495.66632574343913,
          497.13285809203205,
          498.6544850533714,
          500.25801005020446,
          501.9668961823299,
          503.73544847177584,
          505.92889582580005,
          508.2616502616639,
          510.6128478241443,
          513.0303208441176,
          515.5422368196129,
          518.0957715660714,
          520.66621120978,
          523.2763933916286,
          525.9037021030241,
          528.5436155983821,
          531.1957881740806,
          533.8593327209733,
          536.53178865574,
          539.238228011873,
          542.0056646975888,
          544.8039257583595,
          547.6846381614838,
          550.5971801697973,
          553.5633719177623,
          556.5313761559836,
          559.576703207096,
          562.6229558585984,
          565.6679418438506,
          568.7607842705066,
          571.8500823234127,
          574.9620002075701,
          578.0919038578993,
          581.2200002305784,
          584.3421360272168,
          587.4846789903243,
          590.6186444474368,
          593.7484183265201,
          596.8704984704262,
          600.010799022623,
          603.1473397620558,
          606.2769693432825,
          609.4010060198051,
          612.5495239855621,
          615.7216142269307,
          618.917486853636,
          622.1171549096365,
          625.3171992438694,
          628.4458104552356,
          631.5024918241586,
          634.412890491838,
          637.1224015071666,
          639.603827537571,
          641.8057156407624,
          643.465464493075,
          644.634763820521,
          645.4659748640655,
          646.065014631805,
          646.2990113007758,
          646.4030084931634,
          646.4030084931634,
          646.4030084931634,
          646.4030084931634,
          646.4030084931634,
          646.4030084931634,
          646.4030084931634,
          646.4030084931634,
          646.4030084931634,
          646.4030084931634,
          646.4030084931634,
          646.4030084931634,
          646.4030084931634,
          646.4030084931634,
          646.4030084931634,
          646.4030084931634,
          646.4030084931634,
          646.4030084931634,
          646.5330563757246,
          646.7410020440669,
          647.0273020169284,
          647.495874040989,
          647.9640567563937,
          648.6141496477554,
          649.3432718119769,
          650.1757290322855,
          651.114037222149,
          652.3124670412717,
          653.5637375016896,
          654.8160413988826,
          656.0674397119559,
          657.190292951044,
          657.9998493456243,
          658.6266534972871,
          659.0446817708859,
          659.1490538473686,
          659.1490538473686,
          659.1490538473686,
          659.1490538473686,
          659.1490538473686,
          659.1490538473686,
          659.1490538473686,
          659.1490538473686,
          659.1490538473686,
          659.1490538473686,
          659.1490538473686,
          659.1490538473686,
          659.1490538473686,
          659.1490538473686,
          659.1490538473686,
          659.1490538473686,
          659.1490538473686,
          659.1490538473686,
          659.1490538473686,
          659.1490538473686,
          659.1490538473686,
          659.1490538473686,
          659.1490538473686,
          659.1490538473686,
          659.1490538473686,
          659.1490538473686,
          659.1490538473686,
          659.1490538473686,
          659.1490538473686,
          659.1490538473686,
          659.305911569386,
          659.5147038178745,
          659.8021105895049,
          660.1939743244037,
          660.9775331467793,
          661.9450392399754,
          663.2528229875563,
          664.6909424475169,
          666.2888833024872,
          667.990758673845,
          669.7718340918996,
          671.659267883562,
          673.5193280838915,
          675.276498775058,
          676.929290575971,
          678.266733084638,
          679.447447536291,
          679.8439412692754,
          680.0785053419703,
          680.2096879659737,
          680.2096879659737,
          680.2096879659737,
          680.2096879659737,
          680.2096879659737,
          680.2096879659737,
          680.2096879659737,
          680.2096879659737,
          680.2096879659737,
          680.2096879659737,
          680.2096879659737,
          680.2096879659737,
          680.2096879659737,
          680.2096879659737,
          680.2096879659737,
          680.2096879659737,
          680.2096879659737,
          680.2096879659737,
          680.2096879659737,
          680.2096879659737,
          680.2096879659737,
          680.2096879659737,
          680.2096879659737,
          680.2096879659737,
          680.2096879659737,
          680.314535964482,
          680.4457185884855,
          680.6554251159878,
          680.9704506752207,
          681.3376943405559,
          681.704889599913,
          682.2032861105649,
          682.8065411502108,
          683.4629294162576,
          684.3280668791596,
          685.2985361159089,
          686.5586716042012,
          687.8968555395079,
          689.469594278067,
          691.1749747337739,
          692.9845927540756,
          695.3716335045513,
          697.8891709152109,
          700.4052106465266,
          702.9182596024922,
          705.4278169711988,
          707.9325616656344,
          710.4313787684976,
          712.920871362333,
          715.4007808877185,
          717.869575731223,
          720.3236435359557,
          722.5854013189087,
          724.5291935220156,
          726.3828440060996,
          728.2208494797701,
          730.0180039290553,
          731.7744758924961,
          733.5109831538085,
          735.1343892211177,
          736.6421629621442,
          738.084904408086,
          739.5072365345407,
          740.8407614609115,
          742.1120142946435,
          744.6784046738172,
          744.956667566079,
          745.7913967944979,
          747.0106407990393,
          748.2053741967455,
          749.4529804631344,
          750.7310826127919,
          752.0529554891945,
          753.8214447794473,
          755.5443711695151,
          757.2195017725826,
          758.8836604561579,
          760.682375631465,
          762.5156767353532,
          764.3641075801586,
          766.257162584734,
          768.1220763517618,
          769.9736062675431,
          771.803082710253,
          773.610796471451,
          775.4074657519631,
          777.1987859543983,
          778.9633726905372,
          780.6496551533866,
          782.3442658314082,
          783.9774479299696,
          785.4467703516029,
          786.8539244490323,
          787.813356738858
         ],
         "yaxis": "y"
        },
        {
         "hoverinfo": "name",
         "line": {
          "color": "green",
          "width": 4
         },
         "mode": "lines",
         "name": "nxt null arc",
         "opacity": 0.8,
         "showlegend": true,
         "type": "scatter",
         "x": [
          -474.3939493516557,
          -475.14435087900426,
          -475.89473972231485,
          -476.64511588130955,
          -477.3954793564334,
          -478.1458301473904,
          -478.896168254235,
          -479.6464936769851,
          -480.3968064156045,
          -481.1471064700527,
          -481.897393840316,
          -482.647668526539,
          -483.39793052846437,
          -484.148179846293,
          -484.8984164799346,
          -485.648640429292,
          -486.3988516945008,
          -487.14905027555636,
          -487.8992361722577,
          -488.6494093848241,
          -489.3995699130723,
          -490.14971775697995,
          -490.8998529168293,
          -491.64997539234025,
          -492.4000851835309,
          -493.15018229047587,
          -493.900266713026,
          -494.65033845114294,
          -495.40039750519935,
          -496.15044387480447,
          -496.9004775600713,
          -497.6504985610336,
          -498.4005068775086,
          -499.1505025096949,
          -499.90048545750665,
          -500.6504557208289,
          -501.4004132999392,
          -502.15035819454187,
          -502.900290404542,
          -503.65020993029407,
          -504.40011677157463,
          -505.1500109283837,
          -505.89989240077534,
          -506.6497611886954,
          -507.39961729201076,
          -508.1494607110397,
          -508.89929144544806,
          -509.64910949536454,
          -510.39891486075294,
          -511.1487075416292,
          -511.89848753793694,
          -512.6482548496442,
          -513.3980094769502,
          -514.1477514195044,
          -514.8974806776932,
          -515.6471972512232,
          -516.3969011400715,
          -517.1465923442993,
          -517.8962708641053,
          -518.6459366989744,
          -519.3955898495325,
          -520.1452303152261,
          -520.8948580961817,
          -521.6444731926251,
          -522.3940756044615,
          -523.1436653315621,
          -523.8932423739993,
          -524.6428067315134,
          -525.3923584044769,
          -526.1418973927769,
          -526.8914236961921,
          -527.6409373151088,
          -528.3904382490841,
          -529.1399264982088,
          -529.8894020627444,
          -530.6388649423567,
          -531.3883151374141,
          -532.1377526474738,
          -532.8871774727572,
          -533.6365896130587,
          -534.3859890687329,
          -535.1353758395743,
          -535.884749925601,
          -536.6341113265554,
          -537.38346004286,
          -538.1327960741443,
          -538.8821194205235,
          -539.6314300820316,
          -540.3807280586684,
          -541.1300133504883,
          -541.8792859572337,
          -542.6285458790493,
          -543.3777931159394,
          -544.127027667902,
          -544.8762495349911,
          -545.6254587168386,
          -546.3746552139595,
          -547.1238390258546,
          -547.8730101529329,
          -548.6221685949345
         ],
         "y": [
          334.8855597157725,
          338.40772391768655,
          341.9298908218725,
          345.45206042805586,
          348.9742327367494,
          352.49640774773394,
          356.0185854608435,
          359.5407658760228,
          363.06294899338246,
          366.58513481229693,
          370.10732333355776,
          373.6295145567223,
          377.15170848182896,
          380.6739051086372,
          384.1961044374236,
          387.71830646736066,
          391.24051119953333,
          394.76271863320545,
          398.2849287686176,
          401.80714160547376,
          405.32935714395927,
          408.8515753833932,
          412.3737963247861,
          415.89601996749553,
          419.4182463114662,
          422.94047535684473,
          426.46270710333766,
          429.98494155068755,
          433.5071786996283,
          437.02941854948125,
          440.5516611006508,
          444.07390635265796,
          447.59615430568806,
          451.1184049591324,
          454.64065831400393,
          458.1629143695302,
          461.6851731259856,
          465.20743458315116,
          468.7296987405672,
          472.2519655990231,
          475.7742351580784,
          479.2965074177331,
          482.81878237782126,
          486.3410600385089,
          489.8633403990788,
          493.38562346043113,
          496.9079092220893,
          500.43019768403406,
          503.9524888463761,
          507.47478270869203,
          510.99707927077964,
          514.5193785334859,
          518.041680496202,
          521.5639851588751,
          525.0862925214475,
          528.6086025840682,
          532.1309153460564,
          535.6532308083504,
          539.1755489703415,
          542.6978698321066,
          546.220193393605,
          549.742519654656,
          553.2648486148722,
          556.7871802750624,
          560.3095146347667,
          563.8318516940045,
          567.3541914525543,
          570.8765339100866,
          574.3988790673351,
          577.9212269238957,
          581.4435774796962,
          584.9659307346789,
          588.4882866886992,
          592.0106453414807,
          595.5330066937208,
          599.0553707449435,
          602.5777374951462,
          606.1001069441844,
          609.6224790921306,
          613.1448539384886,
          616.6672314840482,
          620.1896117283135,
          623.711994671229,
          627.2343803128334,
          630.7567686529583,
          634.2791596912376,
          637.8015534284441,
          641.3239498640987,
          644.8463489982016,
          648.3687508305867,
          651.8911553612924,
          655.413562589876,
          658.9359725170739,
          662.4583851425178,
          665.9808004660418,
          669.5032184876482,
          673.02563920726,
          676.5480626245308,
          680.0704887400838,
          683.5929175535891
         ]
        },
        {
         "hoverinfo": "name",
         "line": {
          "color": "brown",
          "width": 3
         },
         "mode": "lines",
         "name": "cur null arc",
         "opacity": 0.8,
         "showlegend": true,
         "type": "scatter",
         "x": [
          -474.39394941658793,
          -474.7288598256291,
          -475.06683031506367,
          -475.40785959127595,
          -475.75194634894206,
          -476.0990892710357,
          -476.44928702883254,
          -476.8025382819157,
          -477.1588416781808,
          -477.5181958538409,
          -477.88059943343166,
          -478.2460510298176,
          -478.6145492441958,
          -478.9860926661027,
          -479.36067987341875,
          -479.738309432374,
          -480.1189798975533,
          -480.50268981190254,
          -480.88943770673364,
          -481.2792221017304,
          -481.67204150495394,
          -482.067894412849,
          -482.4667793102487,
          -482.86869467038133,
          -483.2736389548757,
          -483.6816106137669,
          -484.09260808550283,
          -484.5066297969494,
          -484.9236741633972,
          -485.34373958856736,
          -485.76682446461723,
          -486.19292717214717,
          -486.62204608020653,
          -487.05417954629985,
          -487.48932591639283,
          -487.9274835249195,
          -488.3686506947877,
          -488.8128257373861,
          -489.26000695259006,
          -489.7101926287688,
          -490.1633810427919,
          -490.6195704600351,
          -491.07875913438795,
          -491.54094530825984,
          -492.00612721258693,
          -492.4743030668391,
          -492.9454710790264,
          -493.419629445706,
          -493.89677635198956,
          -494.3769099715494,
          -494.8600284666263,
          -495.34612998803584,
          -495.8352126751756,
          -496.3272746560329,
          -496.8223140471914,
          -497.32032895383804,
          -497.8213174697714,
          -498.3252776774074,
          -498.83220764778827,
          -499.3421054405887,
          -499.8549691041239,
          -500.370796675357,
          -500.8895861799065,
          -501.4113356320533,
          -501.9360430347496,
          -502.4637063796251,
          -502.9943236469959,
          -503.5278928058708,
          -504.0644118139612,
          -504.60387861768646,
          -505.1462911521835,
          -505.6916473413143,
          -506.2399450976733,
          -506.79118232259617,
          -507.34535690616735,
          -507.90246672722793,
          -508.46250965338464,
          -509.02548354101714,
          -509.5913862352865,
          -510.1602155701437,
          -510.7319693683377,
          -511.306645441423,
          -511.88424158977017,
          -512.4647556025722,
          -513.048185257853,
          -513.6345283224778,
          -514.22378255216,
          -514.8159456914697,
          -515.4110154738433,
          -516.008989621592,
          -516.6098658459097,
          -517.2136418468829,
          -517.8203153134981,
          -518.4298839236525,
          -519.0423453441607,
          -519.6576972307657,
          -520.2759372281469,
          -520.8970629699284,
          -521.5210720786895,
          -522.147962165973
         ],
         "y": [
          334.88556002084164,
          336.45000656305103,
          338.01379488433565,
          339.5769189991394,
          341.1393729244485,
          342.70115067981425,
          344.2622462873761,
          345.8226537718846,
          347.382367160724,
          348.94138048393546,
          350.4996877742395,
          352.05728306705913,
          353.6141604005427,
          355.17031381558655,
          356.7257373558579,
          358.28042506781765,
          359.8343710007429,
          361.38756920675047,
          362.94001374081876,
          364.4916986608112,
          366.0426180274985,
          367.59276590458194,
          369.1421363587153,
          370.6907234595282,
          372.2385212796489,
          373.7855238947264,
          375.3317253834534,
          376.87711982758924,
          378.421701311982,
          379.9654639245917,
          381.5084017565126,
          383.0505089019959,
          384.5917794584723,
          386.13220752657446,
          387.6717872101601,
          389.2105126163341,
          390.74837785547095,
          392.2853770412378,
          393.82150429061636,
          395.35675372392626,
          396.89111946484667,
          398.4245956404394,
          399.9571763811708,
          401.4888558209351,
          403.019628097076,
          404.5494873504095,
          406.0784277252465,
          407.6064433694146,
          409.13352843428135,
          410.65967707477586,
          412.1848834494117,
          413.7091417203088,
          415.2324460532164,
          416.75479061753475,
          418.27616958633786,
          419.7965771363956,
          421.31600744819605,
          422.8344547059677,
          424.35191309770187,
          425.86837681517505,
          427.38384005397035,
          428.89829701350095,
          430.41174189703145,
          431.92416891169995,
          433.43557226854125,
          434.9459461825074,
          436.4552848724916,
          437.96358256134874,
          439.4708334759191,
          440.9770318470487,
          442.48217190961276,
          443.98624790253723,
          445.48925406882086,
          446.9911846555572,
          448.49203391395685,
          449.99179609936914,
          451.4904654713044,
          452.98803629345565,
          454.48450283372097,
          455.979859364225,
          457.47410016134097,
          458.967219505713,
          460.4592116822774,
          461.95007098028503,
          463.4397916933227,
          464.92836811933563,
          466.4157945606485,
          467.90206532398815,
          469.3871747205043,
          470.87111706579253,
          472.35388667991475,
          473.8354778874224,
          475.31588501737684,
          476.79510240337186,
          478.2731243835546,
          479.7499453006488,
          481.22555950197415,
          482.69996133947,
          484.173145169716,
          485.64510535395357
         ]
        }
       ],
       "layout": {
        "autosize": false,
        "coloraxis": {
         "showscale": false
        },
        "height": 700,
        "legend": {
         "tracegroupgap": 0
        },
        "margin": {
         "b": 0,
         "l": 10,
         "r": 10,
         "t": 20
        },
        "shapes": [
         {
          "line": {
           "color": "grey"
          },
          "opacity": 0.45,
          "type": "circle",
          "x0": -1000,
          "x1": 1000,
          "xref": "x",
          "y0": -1000,
          "y1": 1000,
          "yref": "y"
         }
        ],
        "template": {
         "data": {
          "bar": [
           {
            "error_x": {
             "color": "#2a3f5f"
            },
            "error_y": {
             "color": "#2a3f5f"
            },
            "marker": {
             "line": {
              "color": "#E5ECF6",
              "width": 0.5
             },
             "pattern": {
              "fillmode": "overlay",
              "size": 10,
              "solidity": 0.2
             }
            },
            "type": "bar"
           }
          ],
          "barpolar": [
           {
            "marker": {
             "line": {
              "color": "#E5ECF6",
              "width": 0.5
             },
             "pattern": {
              "fillmode": "overlay",
              "size": 10,
              "solidity": 0.2
             }
            },
            "type": "barpolar"
           }
          ],
          "carpet": [
           {
            "aaxis": {
             "endlinecolor": "#2a3f5f",
             "gridcolor": "white",
             "linecolor": "white",
             "minorgridcolor": "white",
             "startlinecolor": "#2a3f5f"
            },
            "baxis": {
             "endlinecolor": "#2a3f5f",
             "gridcolor": "white",
             "linecolor": "white",
             "minorgridcolor": "white",
             "startlinecolor": "#2a3f5f"
            },
            "type": "carpet"
           }
          ],
          "choropleth": [
           {
            "colorbar": {
             "outlinewidth": 0,
             "ticks": ""
            },
            "type": "choropleth"
           }
          ],
          "contour": [
           {
            "colorbar": {
             "outlinewidth": 0,
             "ticks": ""
            },
            "colorscale": [
             [
              0,
              "#0d0887"
             ],
             [
              0.1111111111111111,
              "#46039f"
             ],
             [
              0.2222222222222222,
              "#7201a8"
             ],
             [
              0.3333333333333333,
              "#9c179e"
             ],
             [
              0.4444444444444444,
              "#bd3786"
             ],
             [
              0.5555555555555556,
              "#d8576b"
             ],
             [
              0.6666666666666666,
              "#ed7953"
             ],
             [
              0.7777777777777778,
              "#fb9f3a"
             ],
             [
              0.8888888888888888,
              "#fdca26"
             ],
             [
              1,
              "#f0f921"
             ]
            ],
            "type": "contour"
           }
          ],
          "contourcarpet": [
           {
            "colorbar": {
             "outlinewidth": 0,
             "ticks": ""
            },
            "type": "contourcarpet"
           }
          ],
          "heatmap": [
           {
            "colorbar": {
             "outlinewidth": 0,
             "ticks": ""
            },
            "colorscale": [
             [
              0,
              "#0d0887"
             ],
             [
              0.1111111111111111,
              "#46039f"
             ],
             [
              0.2222222222222222,
              "#7201a8"
             ],
             [
              0.3333333333333333,
              "#9c179e"
             ],
             [
              0.4444444444444444,
              "#bd3786"
             ],
             [
              0.5555555555555556,
              "#d8576b"
             ],
             [
              0.6666666666666666,
              "#ed7953"
             ],
             [
              0.7777777777777778,
              "#fb9f3a"
             ],
             [
              0.8888888888888888,
              "#fdca26"
             ],
             [
              1,
              "#f0f921"
             ]
            ],
            "type": "heatmap"
           }
          ],
          "heatmapgl": [
           {
            "colorbar": {
             "outlinewidth": 0,
             "ticks": ""
            },
            "colorscale": [
             [
              0,
              "#0d0887"
             ],
             [
              0.1111111111111111,
              "#46039f"
             ],
             [
              0.2222222222222222,
              "#7201a8"
             ],
             [
              0.3333333333333333,
              "#9c179e"
             ],
             [
              0.4444444444444444,
              "#bd3786"
             ],
             [
              0.5555555555555556,
              "#d8576b"
             ],
             [
              0.6666666666666666,
              "#ed7953"
             ],
             [
              0.7777777777777778,
              "#fb9f3a"
             ],
             [
              0.8888888888888888,
              "#fdca26"
             ],
             [
              1,
              "#f0f921"
             ]
            ],
            "type": "heatmapgl"
           }
          ],
          "histogram": [
           {
            "marker": {
             "pattern": {
              "fillmode": "overlay",
              "size": 10,
              "solidity": 0.2
             }
            },
            "type": "histogram"
           }
          ],
          "histogram2d": [
           {
            "colorbar": {
             "outlinewidth": 0,
             "ticks": ""
            },
            "colorscale": [
             [
              0,
              "#0d0887"
             ],
             [
              0.1111111111111111,
              "#46039f"
             ],
             [
              0.2222222222222222,
              "#7201a8"
             ],
             [
              0.3333333333333333,
              "#9c179e"
             ],
             [
              0.4444444444444444,
              "#bd3786"
             ],
             [
              0.5555555555555556,
              "#d8576b"
             ],
             [
              0.6666666666666666,
              "#ed7953"
             ],
             [
              0.7777777777777778,
              "#fb9f3a"
             ],
             [
              0.8888888888888888,
              "#fdca26"
             ],
             [
              1,
              "#f0f921"
             ]
            ],
            "type": "histogram2d"
           }
          ],
          "histogram2dcontour": [
           {
            "colorbar": {
             "outlinewidth": 0,
             "ticks": ""
            },
            "colorscale": [
             [
              0,
              "#0d0887"
             ],
             [
              0.1111111111111111,
              "#46039f"
             ],
             [
              0.2222222222222222,
              "#7201a8"
             ],
             [
              0.3333333333333333,
              "#9c179e"
             ],
             [
              0.4444444444444444,
              "#bd3786"
             ],
             [
              0.5555555555555556,
              "#d8576b"
             ],
             [
              0.6666666666666666,
              "#ed7953"
             ],
             [
              0.7777777777777778,
              "#fb9f3a"
             ],
             [
              0.8888888888888888,
              "#fdca26"
             ],
             [
              1,
              "#f0f921"
             ]
            ],
            "type": "histogram2dcontour"
           }
          ],
          "mesh3d": [
           {
            "colorbar": {
             "outlinewidth": 0,
             "ticks": ""
            },
            "type": "mesh3d"
           }
          ],
          "parcoords": [
           {
            "line": {
             "colorbar": {
              "outlinewidth": 0,
              "ticks": ""
             }
            },
            "type": "parcoords"
           }
          ],
          "pie": [
           {
            "automargin": true,
            "type": "pie"
           }
          ],
          "scatter": [
           {
            "fillpattern": {
             "fillmode": "overlay",
             "size": 10,
             "solidity": 0.2
            },
            "type": "scatter"
           }
          ],
          "scatter3d": [
           {
            "line": {
             "colorbar": {
              "outlinewidth": 0,
              "ticks": ""
             }
            },
            "marker": {
             "colorbar": {
              "outlinewidth": 0,
              "ticks": ""
             }
            },
            "type": "scatter3d"
           }
          ],
          "scattercarpet": [
           {
            "marker": {
             "colorbar": {
              "outlinewidth": 0,
              "ticks": ""
             }
            },
            "type": "scattercarpet"
           }
          ],
          "scattergeo": [
           {
            "marker": {
             "colorbar": {
              "outlinewidth": 0,
              "ticks": ""
             }
            },
            "type": "scattergeo"
           }
          ],
          "scattergl": [
           {
            "marker": {
             "colorbar": {
              "outlinewidth": 0,
              "ticks": ""
             }
            },
            "type": "scattergl"
           }
          ],
          "scattermapbox": [
           {
            "marker": {
             "colorbar": {
              "outlinewidth": 0,
              "ticks": ""
             }
            },
            "type": "scattermapbox"
           }
          ],
          "scatterpolar": [
           {
            "marker": {
             "colorbar": {
              "outlinewidth": 0,
              "ticks": ""
             }
            },
            "type": "scatterpolar"
           }
          ],
          "scatterpolargl": [
           {
            "marker": {
             "colorbar": {
              "outlinewidth": 0,
              "ticks": ""
             }
            },
            "type": "scatterpolargl"
           }
          ],
          "scatterternary": [
           {
            "marker": {
             "colorbar": {
              "outlinewidth": 0,
              "ticks": ""
             }
            },
            "type": "scatterternary"
           }
          ],
          "surface": [
           {
            "colorbar": {
             "outlinewidth": 0,
             "ticks": ""
            },
            "colorscale": [
             [
              0,
              "#0d0887"
             ],
             [
              0.1111111111111111,
              "#46039f"
             ],
             [
              0.2222222222222222,
              "#7201a8"
             ],
             [
              0.3333333333333333,
              "#9c179e"
             ],
             [
              0.4444444444444444,
              "#bd3786"
             ],
             [
              0.5555555555555556,
              "#d8576b"
             ],
             [
              0.6666666666666666,
              "#ed7953"
             ],
             [
              0.7777777777777778,
              "#fb9f3a"
             ],
             [
              0.8888888888888888,
              "#fdca26"
             ],
             [
              1,
              "#f0f921"
             ]
            ],
            "type": "surface"
           }
          ],
          "table": [
           {
            "cells": {
             "fill": {
              "color": "#EBF0F8"
             },
             "line": {
              "color": "white"
             }
            },
            "header": {
             "fill": {
              "color": "#C8D4E3"
             },
             "line": {
              "color": "white"
             }
            },
            "type": "table"
           }
          ]
         },
         "layout": {
          "annotationdefaults": {
           "arrowcolor": "#2a3f5f",
           "arrowhead": 0,
           "arrowwidth": 1
          },
          "autotypenumbers": "strict",
          "coloraxis": {
           "colorbar": {
            "outlinewidth": 0,
            "ticks": ""
           }
          },
          "colorscale": {
           "diverging": [
            [
             0,
             "#8e0152"
            ],
            [
             0.1,
             "#c51b7d"
            ],
            [
             0.2,
             "#de77ae"
            ],
            [
             0.3,
             "#f1b6da"
            ],
            [
             0.4,
             "#fde0ef"
            ],
            [
             0.5,
             "#f7f7f7"
            ],
            [
             0.6,
             "#e6f5d0"
            ],
            [
             0.7,
             "#b8e186"
            ],
            [
             0.8,
             "#7fbc41"
            ],
            [
             0.9,
             "#4d9221"
            ],
            [
             1,
             "#276419"
            ]
           ],
           "sequential": [
            [
             0,
             "#0d0887"
            ],
            [
             0.1111111111111111,
             "#46039f"
            ],
            [
             0.2222222222222222,
             "#7201a8"
            ],
            [
             0.3333333333333333,
             "#9c179e"
            ],
            [
             0.4444444444444444,
             "#bd3786"
            ],
            [
             0.5555555555555556,
             "#d8576b"
            ],
            [
             0.6666666666666666,
             "#ed7953"
            ],
            [
             0.7777777777777778,
             "#fb9f3a"
            ],
            [
             0.8888888888888888,
             "#fdca26"
            ],
            [
             1,
             "#f0f921"
            ]
           ],
           "sequentialminus": [
            [
             0,
             "#0d0887"
            ],
            [
             0.1111111111111111,
             "#46039f"
            ],
            [
             0.2222222222222222,
             "#7201a8"
            ],
            [
             0.3333333333333333,
             "#9c179e"
            ],
            [
             0.4444444444444444,
             "#bd3786"
            ],
            [
             0.5555555555555556,
             "#d8576b"
            ],
            [
             0.6666666666666666,
             "#ed7953"
            ],
            [
             0.7777777777777778,
             "#fb9f3a"
            ],
            [
             0.8888888888888888,
             "#fdca26"
            ],
            [
             1,
             "#f0f921"
            ]
           ]
          },
          "colorway": [
           "#636efa",
           "#EF553B",
           "#00cc96",
           "#ab63fa",
           "#FFA15A",
           "#19d3f3",
           "#FF6692",
           "#B6E880",
           "#FF97FF",
           "#FECB52"
          ],
          "font": {
           "color": "#2a3f5f"
          },
          "geo": {
           "bgcolor": "white",
           "lakecolor": "white",
           "landcolor": "#E5ECF6",
           "showlakes": true,
           "showland": true,
           "subunitcolor": "white"
          },
          "hoverlabel": {
           "align": "left"
          },
          "hovermode": "closest",
          "mapbox": {
           "style": "light"
          },
          "paper_bgcolor": "white",
          "plot_bgcolor": "#E5ECF6",
          "polar": {
           "angularaxis": {
            "gridcolor": "white",
            "linecolor": "white",
            "ticks": ""
           },
           "bgcolor": "#E5ECF6",
           "radialaxis": {
            "gridcolor": "white",
            "linecolor": "white",
            "ticks": ""
           }
          },
          "scene": {
           "xaxis": {
            "backgroundcolor": "#E5ECF6",
            "gridcolor": "white",
            "gridwidth": 2,
            "linecolor": "white",
            "showbackground": true,
            "ticks": "",
            "zerolinecolor": "white"
           },
           "yaxis": {
            "backgroundcolor": "#E5ECF6",
            "gridcolor": "white",
            "gridwidth": 2,
            "linecolor": "white",
            "showbackground": true,
            "ticks": "",
            "zerolinecolor": "white"
           },
           "zaxis": {
            "backgroundcolor": "#E5ECF6",
            "gridcolor": "white",
            "gridwidth": 2,
            "linecolor": "white",
            "showbackground": true,
            "ticks": "",
            "zerolinecolor": "white"
           }
          },
          "shapedefaults": {
           "line": {
            "color": "#2a3f5f"
           }
          },
          "ternary": {
           "aaxis": {
            "gridcolor": "white",
            "linecolor": "white",
            "ticks": ""
           },
           "baxis": {
            "gridcolor": "white",
            "linecolor": "white",
            "ticks": ""
           },
           "bgcolor": "#E5ECF6",
           "caxis": {
            "gridcolor": "white",
            "linecolor": "white",
            "ticks": ""
           }
          },
          "title": {
           "x": 0.05
          },
          "xaxis": {
           "automargin": true,
           "gridcolor": "white",
           "linecolor": "white",
           "ticks": "",
           "title": {
            "standoff": 15
           },
           "zerolinecolor": "white",
           "zerolinewidth": 2
          },
          "yaxis": {
           "automargin": true,
           "gridcolor": "white",
           "linecolor": "white",
           "ticks": "",
           "title": {
            "standoff": 15
           },
           "zerolinecolor": "white",
           "zerolinewidth": 2
          }
         }
        },
        "width": 900,
        "xaxis": {
         "anchor": "y",
         "domain": [
          0,
          1
         ],
         "range": [
          -652.616318802754,
          -363.5995445631647
         ],
         "title": {
          "text": "monkey x after rotation (cm)"
         }
        },
        "yaxis": {
         "anchor": "x",
         "domain": [
          0,
          1
         ],
         "range": [
          228.82625932035438,
          1037.8133567388581
         ],
         "scaleanchor": "x",
         "scaleratio": 1,
         "title": {
          "text": "monkey y after rotation (cm)"
         }
        }
       }
      }
     },
     "metadata": {},
     "output_type": "display_data"
    }
   ],
   "source": [
    "current_i = snf.make_individual_plotly_plots(current_i, max_num_plot_to_make=1, \n",
    "                                             **additional_plotting_kwargs)"
   ]
  },
  {
   "cell_type": "markdown",
   "metadata": {},
   "source": [
    "### plotly"
   ]
  },
  {
   "cell_type": "code",
   "execution_count": 32,
   "metadata": {},
   "outputs": [],
   "source": [
    "current_i = 2\n",
    "snf.make_PlotTrials_args()"
   ]
  },
  {
   "cell_type": "code",
   "execution_count": 38,
   "metadata": {},
   "outputs": [
    {
     "name": "stdout",
     "output_type": "stream",
     "text": [
      "diff_in_abs: 14.930604975441064\n",
      "duration_to_plot: [37.366437, 44.825224]\n"
     ]
    },
    {
     "data": {
      "application/vnd.plotly.v1+json": {
       "config": {
        "plotlyServerURL": "https://plot.ly"
       },
       "data": [
        {
         "customdata": [],
         "hovertemplate": "ff %{customdata[0]}",
         "legendgroup": "",
         "marker": {
          "color": "red",
          "symbol": "circle"
         },
         "mode": "markers",
         "name": "plot_ff",
         "orientation": "v",
         "showlegend": false,
         "type": "scatter",
         "x": [],
         "xaxis": "x",
         "y": [],
         "yaxis": "y"
        },
        {
         "customdata": [
          [
           1
          ]
         ],
         "hovertemplate": "ff %{customdata[0]}",
         "legendgroup": "ff 1",
         "marker": {
          "color": "#33BBFF",
          "size": 15,
          "symbol": "square"
         },
         "mode": "markers",
         "name": "ff 1",
         "type": "scatter",
         "visible": true,
         "x": [
          -145.7838787075052
         ],
         "y": [
          26.34440061797862
         ]
        },
        {
         "customdata": [
          [
           1
          ]
         ],
         "hovertemplate": "ff %{customdata[0]}",
         "legendgroup": "ff 1",
         "line": {
          "color": "#33BBFF",
          "width": 2.5
         },
         "mode": "lines",
         "name": "ff 1 starts visible",
         "opacity": 0.7,
         "showlegend": true,
         "type": "scatter",
         "visible": true,
         "x": [
          -286.2382724207946,
          -186.48331779159523
         ],
         "y": [
          -259.2356395476789,
          -266.23199766647036
         ]
        },
        {
         "customdata": [
          [
           1
          ]
         ],
         "hovertemplate": "ff %{customdata[0]}",
         "legendgroup": "ff 1",
         "line": {
          "color": "#33BBFF",
          "dash": "dot",
          "width": 3.5
         },
         "mode": "lines",
         "name": "ff 1 stops visible",
         "opacity": 0.7,
         "showlegend": true,
         "type": "scatter",
         "visible": true,
         "x": [
          -277.13684198199326,
          -179.76533884120073
         ],
         "y": [
          -199.02243069455477,
          -221.79940099577402
         ]
        },
        {
         "customdata": [
          [
           1
          ]
         ],
         "hovertemplate": "ff %{customdata[0]}",
         "legendgroup": "ff 1",
         "line": {
          "color": "#33BBFF",
          "width": 2.5
         },
         "mode": "lines",
         "name": "ff 1 starts visible",
         "opacity": 0.7,
         "showlegend": false,
         "type": "scatter",
         "visible": true,
         "x": [
          -237.83754265966834,
          -145.36606291037285
         ],
         "y": [
          -45.36350137660362,
          -83.42956806303226
         ]
        },
        {
         "customdata": [
          [
           1
          ]
         ],
         "hovertemplate": "ff %{customdata[0]}",
         "legendgroup": "ff 1",
         "line": {
          "color": "#33BBFF",
          "dash": "dot",
          "width": 3.5
         },
         "mode": "lines",
         "name": "ff 1 stops visible",
         "opacity": 0.7,
         "showlegend": false,
         "type": "scatter",
         "visible": true,
         "x": [
          -212.02760492916528,
          -123.40394289153647
         ],
         "y": [
          7.523179372683061,
          -38.800103402182444
         ]
        },
        {
         "customdata": [
          [
           2
          ]
         ],
         "hovertemplate": "ff %{customdata[0]}",
         "legendgroup": "ff 2",
         "marker": {
          "color": "#FF337D",
          "size": 15,
          "symbol": "square"
         },
         "mode": "markers",
         "name": "ff 2",
         "type": "scatter",
         "visible": true,
         "x": [
          -202.11761914531212
         ],
         "y": [
          198.29540107976703
         ]
        },
        {
         "customdata": [
          [
           2
          ]
         ],
         "hovertemplate": "ff %{customdata[0]}",
         "legendgroup": "ff 2",
         "line": {
          "color": "#FF337D",
          "width": 2.5
         },
         "mode": "lines",
         "name": "ff 2 starts visible",
         "opacity": 0.7,
         "showlegend": true,
         "type": "scatter",
         "visible": true,
         "x": [
          -258.34017378799973,
          -159.94606311688517
         ],
         "y": [
          -117.16567435936322,
          -135.01501567047202
         ]
        },
        {
         "customdata": [
          [
           2
          ]
         ],
         "hovertemplate": "ff %{customdata[0]}",
         "legendgroup": "ff 2",
         "line": {
          "color": "#FF337D",
          "dash": "dot",
          "width": 3.5
         },
         "mode": "lines",
         "name": "ff 2 stops visible",
         "opacity": 0.7,
         "showlegend": true,
         "type": "scatter",
         "visible": true,
         "x": [
          -249.68552490210607,
          -153.63427570389993
         ],
         "y": [
          -79.17650487450243,
          -107.00019132083986
         ]
        },
        {
         "customdata": [
          [
           2
          ]
         ],
         "hovertemplate": "ff %{customdata[0]}",
         "legendgroup": "ff 2",
         "line": {
          "color": "#FF337D",
          "width": 2.5
         },
         "mode": "lines",
         "name": "ff 2 starts visible",
         "opacity": 0.7,
         "showlegend": false,
         "type": "scatter",
         "visible": true,
         "x": [
          -190.36909664187561,
          -91.54890220281348
         ],
         "y": [
          65.75660226003455,
          81.07225343868029
         ]
        },
        {
         "customdata": [
          [
           2
          ]
         ],
         "hovertemplate": "ff %{customdata[0]}",
         "legendgroup": "ff 2",
         "line": {
          "color": "#FF337D",
          "dash": "dot",
          "width": 3.5
         },
         "mode": "lines",
         "name": "ff 2 stops visible",
         "opacity": 0.7,
         "showlegend": false,
         "type": "scatter",
         "visible": true,
         "x": [
          -193.59010893248688,
          -100.85086419563945
         ],
         "y": [
          76.91526966329765,
          114.32425903268741
         ]
        },
        {
         "customdata": [
          [
           2
          ]
         ],
         "hovertemplate": "ff %{customdata[0]}",
         "legendgroup": "ff 2",
         "line": {
          "color": "#FF337D",
          "width": 2.5
         },
         "mode": "lines",
         "name": "ff 2 starts visible",
         "opacity": 0.7,
         "showlegend": false,
         "type": "scatter",
         "visible": true,
         "x": [
          -193.04953137533522,
          -101.75635654128615
         ],
         "y": [
          75.62169895284819,
          116.43292570137591
         ]
        },
        {
         "customdata": [
          [
           2
          ]
         ],
         "hovertemplate": "ff %{customdata[0]}",
         "legendgroup": "ff 2",
         "line": {
          "color": "#FF337D",
          "dash": "dot",
          "width": 3.5
         },
         "mode": "lines",
         "name": "ff 2 stops visible",
         "opacity": 0.7,
         "showlegend": false,
         "type": "scatter",
         "visible": true,
         "x": [
          -205.6997183741013,
          -114.16632118388692
         ],
         "y": [
          104.35558849546635,
          144.62514522034792
         ]
        },
        {
         "customdata": [
          [
           3
          ]
         ],
         "hovertemplate": "ff %{customdata[0]}",
         "legendgroup": "ff 3",
         "marker": {
          "color": "#FF33D7",
          "size": 15,
          "symbol": "square"
         },
         "mode": "markers",
         "name": "ff 3",
         "type": "scatter",
         "visible": "legendonly",
         "x": [
          0.8754688805816417
         ],
         "y": [
          570.5686620239155
         ]
        },
        {
         "customdata": [
          [
           3
          ]
         ],
         "hovertemplate": "ff %{customdata[0]}",
         "legendgroup": "ff 3",
         "line": {
          "color": "#FF33D7",
          "width": 2.5
         },
         "mode": "lines",
         "name": "ff 3 starts visible",
         "opacity": 0.7,
         "showlegend": true,
         "type": "scatter",
         "visible": "legendonly",
         "x": [
          -192.7778939632595,
          -99.52705584602688
         ],
         "y": [
          75.0199043040726,
          111.13473768917461
         ]
        },
        {
         "customdata": [
          [
           3
          ]
         ],
         "hovertemplate": "ff %{customdata[0]}",
         "legendgroup": "ff 3",
         "line": {
          "color": "#FF33D7",
          "dash": "dot",
          "width": 3.5
         },
         "mode": "lines",
         "name": "ff 3 stops visible",
         "opacity": 0.7,
         "showlegend": true,
         "type": "scatter",
         "visible": "legendonly",
         "x": [
          -193.6650480753899,
          -100.92580333854248
         ],
         "y": [
          77.08314712824445,
          114.49213649763419
         ]
        },
        {
         "customdata": [
          [
           4
          ]
         ],
         "hovertemplate": "ff %{customdata[0]}",
         "legendgroup": "ff 4",
         "marker": {
          "color": "#8D33FF",
          "size": 15,
          "symbol": "square"
         },
         "mode": "markers",
         "name": "ff 4",
         "type": "scatter",
         "visible": "legendonly",
         "x": [
          -501.076343885517
         ],
         "y": [
          725.348514899446
         ]
        },
        {
         "customdata": [
          [
           4
          ]
         ],
         "hovertemplate": "ff %{customdata[0]}",
         "legendgroup": "ff 4",
         "line": {
          "color": "#8D33FF",
          "width": 2.5
         },
         "mode": "lines",
         "name": "ff 4 starts visible",
         "opacity": 0.7,
         "showlegend": true,
         "type": "scatter",
         "visible": "legendonly",
         "x": [
          -282.61665476630355,
          -184.1005338794692
         ],
         "y": [
          295.14542656688093,
          312.3085826114621
         ]
        },
        {
         "customdata": [
          [
           4
          ]
         ],
         "hovertemplate": "ff %{customdata[0]}",
         "legendgroup": "ff 4",
         "line": {
          "color": "#8D33FF",
          "dash": "dot",
          "width": 3.5
         },
         "mode": "lines",
         "name": "ff 4 stops visible",
         "opacity": 0.7,
         "showlegend": true,
         "type": "scatter",
         "visible": "legendonly",
         "x": [
          -282.61665476630355,
          -184.1005338794692
         ],
         "y": [
          295.14542656688093,
          312.3085826114621
         ]
        },
        {
         "customdata": [
          [
           5
          ]
         ],
         "hovertemplate": "ff %{customdata[0]}",
         "legendgroup": "ff 5",
         "marker": {
          "color": "#33FF64",
          "size": 15,
          "symbol": "square"
         },
         "mode": "markers",
         "name": "ff 5",
         "type": "scatter",
         "visible": "legendonly",
         "x": [
          -54.68559098606503
         ],
         "y": [
          306.02669514604656
         ]
        },
        {
         "customdata": [
          [
           5
          ]
         ],
         "hovertemplate": "ff %{customdata[0]}",
         "legendgroup": "ff 5",
         "line": {
          "color": "#33FF64",
          "width": 2.5
         },
         "mode": "lines",
         "name": "ff 5 starts visible",
         "opacity": 0.7,
         "showlegend": true,
         "type": "scatter",
         "visible": "legendonly",
         "x": [
          -265.69500725006515,
          -168.5058757579456
         ],
         "y": [
          -153.7703014214401,
          -177.3132986776835
         ]
        },
        {
         "customdata": [
          [
           5
          ]
         ],
         "hovertemplate": "ff %{customdata[0]}",
         "legendgroup": "ff 5",
         "line": {
          "color": "#33FF64",
          "dash": "dot",
          "width": 3.5
         },
         "mode": "lines",
         "name": "ff 5 stops visible",
         "opacity": 0.7,
         "showlegend": true,
         "type": "scatter",
         "visible": "legendonly",
         "x": [
          -263.4995773965377,
          -165.63573188537794
         ],
         "y": [
          -144.12202210959916,
          -164.68090684997009
         ]
        },
        {
         "customdata": [
          [
           5
          ]
         ],
         "hovertemplate": "ff %{customdata[0]}",
         "legendgroup": "ff 5",
         "line": {
          "color": "#33FF64",
          "width": 2.5
         },
         "mode": "lines",
         "name": "ff 5 starts visible",
         "opacity": 0.7,
         "showlegend": false,
         "type": "scatter",
         "visible": "legendonly",
         "x": [
          -258.84561071576246,
          -160.43400691055731
         ],
         "y": [
          -119.98008329579811,
          -137.73272356386326
         ]
        },
        {
         "customdata": [
          [
           5
          ]
         ],
         "hovertemplate": "ff %{customdata[0]}",
         "legendgroup": "ff 5",
         "line": {
          "color": "#33FF64",
          "dash": "dot",
          "width": 3.5
         },
         "mode": "lines",
         "name": "ff 5 stops visible",
         "opacity": 0.7,
         "showlegend": false,
         "type": "scatter",
         "visible": "legendonly",
         "x": [
          -255.57811042635603,
          -157.83361989429673
         ],
         "y": [
          -102.86632321897585,
          -123.98538026772154
         ]
        },
        {
         "customdata": [
          [
           6
          ]
         ],
         "hovertemplate": "ff %{customdata[0]}",
         "legendgroup": "ff 6",
         "marker": {
          "color": "#FF5733",
          "size": 15,
          "symbol": "square"
         },
         "mode": "markers",
         "name": "ff 6",
         "type": "scatter",
         "visible": "legendonly",
         "x": [
          -475.4151184829736
         ],
         "y": [
          524.8979969250317
         ]
        },
        {
         "customdata": [
          [
           6
          ]
         ],
         "hovertemplate": "ff %{customdata[0]}",
         "legendgroup": "ff 6",
         "line": {
          "color": "#FF5733",
          "width": 2.5
         },
         "mode": "lines",
         "name": "ff 6 starts visible",
         "opacity": 0.7,
         "showlegend": true,
         "type": "scatter",
         "visible": "legendonly",
         "x": [
          -210.92019955373095,
          -119.69689438249883
         ],
         "y": [
          116.10505516352642,
          157.07221998654356
         ]
        },
        {
         "customdata": [
          [
           6
          ]
         ],
         "hovertemplate": "ff %{customdata[0]}",
         "legendgroup": "ff 6",
         "line": {
          "color": "#FF5733",
          "dash": "dot",
          "width": 3.5
         },
         "mode": "lines",
         "name": "ff 6 stops visible",
         "opacity": 0.7,
         "showlegend": true,
         "type": "scatter",
         "visible": "legendonly",
         "x": [
          -216.2175363871115,
          -125.34844126916147
         ],
         "y": [
          127.77033636275114,
          169.51728298696494
         ]
        },
        {
         "customdata": [
          [
           6
          ]
         ],
         "hovertemplate": "ff %{customdata[0]}",
         "legendgroup": "ff 6",
         "line": {
          "color": "#FF5733",
          "width": 2.5
         },
         "mode": "lines",
         "name": "ff 6 starts visible",
         "opacity": 0.7,
         "showlegend": false,
         "type": "scatter",
         "visible": "legendonly",
         "x": [
          -288.5407444616779,
          -190.26641394179742
         ],
         "y": [
          329.16286139349353,
          347.6603196207555
         ]
        },
        {
         "customdata": [
          [
           6
          ]
         ],
         "hovertemplate": "ff %{customdata[0]}",
         "legendgroup": "ff 6",
         "line": {
          "color": "#FF5733",
          "dash": "dot",
          "width": 3.5
         },
         "mode": "lines",
         "name": "ff 6 stops visible",
         "opacity": 0.7,
         "showlegend": false,
         "type": "scatter",
         "visible": "legendonly",
         "x": [
          -288.5373593654344,
          -190.26979903804093
         ],
         "y": [
          329.1448949350492,
          347.6782860791999
         ]
        },
        {
         "customdata": [
          [
           7
          ]
         ],
         "hovertemplate": "ff %{customdata[0]}",
         "legendgroup": "ff 7",
         "marker": {
          "color": "#FFB533",
          "size": 15,
          "symbol": "square"
         },
         "mode": "markers",
         "name": "ff 7",
         "type": "scatter",
         "visible": "legendonly",
         "x": [
          -182.38517536545208
         ],
         "y": [
          830.1504588497603
         ]
        },
        {
         "customdata": [
          [
           7
          ]
         ],
         "hovertemplate": "ff %{customdata[0]}",
         "legendgroup": "ff 7",
         "line": {
          "color": "#FFB533",
          "width": 2.5
         },
         "mode": "lines",
         "name": "ff 7 starts visible",
         "opacity": 0.7,
         "showlegend": true,
         "type": "scatter",
         "visible": "legendonly",
         "x": [
          -288.5373593654344,
          -190.26979903804093
         ],
         "y": [
          329.1448949350492,
          347.6782860791999
         ]
        },
        {
         "customdata": [
          [
           7
          ]
         ],
         "hovertemplate": "ff %{customdata[0]}",
         "legendgroup": "ff 7",
         "line": {
          "color": "#FFB533",
          "dash": "dot",
          "width": 3.5
         },
         "mode": "lines",
         "name": "ff 7 stops visible",
         "opacity": 0.7,
         "showlegend": true,
         "type": "scatter",
         "visible": "legendonly",
         "x": [
          -288.5373593654344,
          -190.26979903804093
         ],
         "y": [
          329.1448949350492,
          347.6782860791999
         ]
        },
        {
         "customdata": [
          [
           8
          ]
         ],
         "hovertemplate": "ff %{customdata[0]}",
         "legendgroup": "ff 8",
         "marker": {
          "color": "#33FFBE",
          "size": 15,
          "symbol": "square"
         },
         "mode": "markers",
         "name": "ff 8",
         "type": "scatter",
         "visible": "legendonly",
         "x": [
          -537.2286035823303
         ],
         "y": [
          363.98231199382593
         ]
        },
        {
         "customdata": [
          [
           8
          ]
         ],
         "hovertemplate": "ff %{customdata[0]}",
         "legendgroup": "ff 8",
         "line": {
          "color": "#33FFBE",
          "width": 2.5
         },
         "mode": "lines",
         "name": "ff 8 starts visible",
         "opacity": 0.7,
         "showlegend": true,
         "type": "scatter",
         "visible": "legendonly",
         "x": [
          -193.51572003019336,
          -100.77647529334594
         ],
         "y": [
          76.74713810137793,
          114.15612747076769
         ]
        },
        {
         "customdata": [
          [
           8
          ]
         ],
         "hovertemplate": "ff %{customdata[0]}",
         "legendgroup": "ff 8",
         "line": {
          "color": "#33FFBE",
          "dash": "dot",
          "width": 3.5
         },
         "mode": "lines",
         "name": "ff 8 stops visible",
         "opacity": 0.7,
         "showlegend": true,
         "type": "scatter",
         "visible": "legendonly",
         "x": [
          -193.97770862537743,
          -102.67742228049832
         ],
         "y": [
          77.69052865944877,
          118.48584350494399
         ]
        },
        {
         "customdata": [
          [
           9
          ]
         ],
         "hovertemplate": "ff %{customdata[0]}",
         "legendgroup": "ff 9",
         "marker": {
          "color": "#3933FF",
          "size": 15,
          "symbol": "square"
         },
         "mode": "markers",
         "name": "ff 9",
         "type": "scatter",
         "visible": "legendonly",
         "x": [
          -10.19766364370795
         ],
         "y": [
          422.2982402951946
         ]
        },
        {
         "customdata": [
          [
           9
          ]
         ],
         "hovertemplate": "ff %{customdata[0]}",
         "legendgroup": "ff 9",
         "line": {
          "color": "#3933FF",
          "width": 2.5
         },
         "mode": "lines",
         "name": "ff 9 starts visible",
         "opacity": 0.7,
         "showlegend": true,
         "type": "scatter",
         "visible": "legendonly",
         "x": [
          -212.02760492916528,
          -123.40394289153647
         ],
         "y": [
          7.523179372683061,
          -38.800103402182444
         ]
        },
        {
         "customdata": [
          [
           9
          ]
         ],
         "hovertemplate": "ff %{customdata[0]}",
         "legendgroup": "ff 9",
         "line": {
          "color": "#3933FF",
          "dash": "dot",
          "width": 3.5
         },
         "mode": "lines",
         "name": "ff 9 stops visible",
         "opacity": 0.7,
         "showlegend": true,
         "type": "scatter",
         "visible": "legendonly",
         "x": [
          -192.61516840061537,
          -99.47990296656593
         ],
         "y": [
          49.324107312582534,
          12.912264012233859
         ]
        },
        {
         "customdata": [
          [
           10
          ]
         ],
         "hovertemplate": "ff %{customdata[0]}",
         "legendgroup": "ff 10",
         "marker": {
          "color": "#FF3346",
          "size": 15,
          "symbol": "square"
         },
         "mode": "markers",
         "name": "ff 10",
         "type": "scatter",
         "visible": "legendonly",
         "x": [
          -541.550626757395
         ],
         "y": [
          501.80716884644045
         ]
        },
        {
         "customdata": [
          [
           10
          ]
         ],
         "hovertemplate": "ff %{customdata[0]}",
         "legendgroup": "ff 10",
         "line": {
          "color": "#FF3346",
          "width": 2.5
         },
         "mode": "lines",
         "name": "ff 10 starts visible",
         "opacity": 0.7,
         "showlegend": true,
         "type": "scatter",
         "visible": "legendonly",
         "x": [
          -237.14811927240777,
          -150.6677595551106
         ],
         "y": [
          169.2431216049917,
          219.45415010637657
         ]
        },
        {
         "customdata": [
          [
           10
          ]
         ],
         "hovertemplate": "ff %{customdata[0]}",
         "legendgroup": "ff 10",
         "line": {
          "color": "#FF3346",
          "dash": "dot",
          "width": 3.5
         },
         "mode": "lines",
         "name": "ff 10 stops visible",
         "opacity": 0.7,
         "showlegend": true,
         "type": "scatter",
         "visible": "legendonly",
         "x": [
          -237.13397586441843,
          -151.3014870936627
         ],
         "y": [
          169.21205547544653,
          220.5227158825987
         ]
        },
        {
         "customdata": [
          [
           10
          ]
         ],
         "hovertemplate": "ff %{customdata[0]}",
         "legendgroup": "ff 10",
         "line": {
          "color": "#FF3346",
          "width": 2.5
         },
         "mode": "lines",
         "name": "ff 10 starts visible",
         "opacity": 0.7,
         "showlegend": false,
         "type": "scatter",
         "visible": "legendonly",
         "x": [
          -242.3242435893762,
          -155.85156183576845
         ],
         "y": [
          177.9530616355062,
          228.17731185727936
         ]
        },
        {
         "customdata": [
          [
           10
          ]
         ],
         "hovertemplate": "ff %{customdata[0]}",
         "legendgroup": "ff 10",
         "line": {
          "color": "#FF3346",
          "dash": "dot",
          "width": 3.5
         },
         "mode": "lines",
         "name": "ff 10 stops visible",
         "opacity": 0.7,
         "showlegend": false,
         "type": "scatter",
         "visible": "legendonly",
         "x": [
          -263.6295783875094,
          -170.30042554473746
         ],
         "y": [
          222.33879669742547,
          258.25076169031496
         ]
        },
        {
         "customdata": [
          [
           11
          ]
         ],
         "hovertemplate": "ff %{customdata[0]}",
         "legendgroup": "ff 11",
         "marker": {
          "color": "#FC33FF",
          "size": 15,
          "symbol": "square"
         },
         "mode": "markers",
         "name": "ff 11",
         "type": "scatter",
         "visible": "legendonly",
         "x": [
          -302.6405375027992
         ],
         "y": [
          310.4412988256936
         ]
        },
        {
         "customdata": [
          [
           11
          ]
         ],
         "hovertemplate": "ff %{customdata[0]}",
         "legendgroup": "ff 11",
         "line": {
          "color": "#FC33FF",
          "width": 2.5
         },
         "mode": "lines",
         "name": "ff 11 starts visible",
         "opacity": 0.7,
         "showlegend": true,
         "type": "scatter",
         "visible": "legendonly",
         "x": [
          -258.72953173783395,
          -160.31792793262878
         ],
         "y": [
          -119.33367937945702,
          -137.08631964752217
         ]
        },
        {
         "customdata": [
          [
           11
          ]
         ],
         "hovertemplate": "ff %{customdata[0]}",
         "legendgroup": "ff 11",
         "line": {
          "color": "#FC33FF",
          "dash": "dot",
          "width": 3.5
         },
         "mode": "lines",
         "name": "ff 11 stops visible",
         "opacity": 0.7,
         "showlegend": true,
         "type": "scatter",
         "visible": "legendonly",
         "x": [
          -253.025816399353,
          -155.91322130220678
         ],
         "y": [
          -91.6640449878552,
          -115.52078142639026
         ]
        },
        {
         "customdata": [
          [
           11
          ]
         ],
         "hovertemplate": "ff %{customdata[0]}",
         "legendgroup": "ff 11",
         "line": {
          "color": "#FC33FF",
          "width": 2.5
         },
         "mode": "lines",
         "name": "ff 11 starts visible",
         "opacity": 0.7,
         "showlegend": false,
         "type": "scatter",
         "visible": "legendonly",
         "x": [
          -191.57567496806013,
          -96.10202384843154
         ],
         "y": [
          71.55758039865626,
          101.3028647625255
         ]
        },
        {
         "customdata": [
          [
           11
          ]
         ],
         "hovertemplate": "ff %{customdata[0]}",
         "legendgroup": "ff 11",
         "line": {
          "color": "#FC33FF",
          "dash": "dot",
          "width": 3.5
         },
         "mode": "lines",
         "name": "ff 11 stops visible",
         "opacity": 0.7,
         "showlegend": false,
         "type": "scatter",
         "visible": "legendonly",
         "x": [
          -192.97661913833687,
          -101.61420399494558
         ],
         "y": [
          75.45964081311817,
          116.11562560215788
         ]
        },
        {
         "customdata": [
          [
           11
          ]
         ],
         "hovertemplate": "ff %{customdata[0]}",
         "legendgroup": "ff 11",
         "line": {
          "color": "#FC33FF",
          "width": 2.5
         },
         "mode": "lines",
         "name": "ff 11 starts visible",
         "opacity": 0.7,
         "showlegend": false,
         "type": "scatter",
         "visible": "legendonly",
         "x": [
          -194.8979266678161,
          -103.53581121411663
         ],
         "y": [
          79.75066124270494,
          120.40731948984686
         ]
        },
        {
         "customdata": [
          [
           11
          ]
         ],
         "hovertemplate": "ff %{customdata[0]}",
         "legendgroup": "ff 11",
         "line": {
          "color": "#FC33FF",
          "dash": "dot",
          "width": 3.5
         },
         "mode": "lines",
         "name": "ff 11 stops visible",
         "opacity": 0.7,
         "showlegend": false,
         "type": "scatter",
         "visible": "legendonly",
         "x": [
          -214.88613616725956,
          -123.92252696260714
         ],
         "y": [
          124.86366334566655,
          166.40426758372837
         ]
        },
        {
         "customdata": [
          [
           11
          ]
         ],
         "hovertemplate": "ff %{customdata[0]}",
         "legendgroup": "ff 11",
         "line": {
          "color": "#FC33FF",
          "width": 2.5
         },
         "mode": "lines",
         "name": "ff 11 starts visible",
         "opacity": 0.7,
         "showlegend": false,
         "type": "scatter",
         "visible": "legendonly",
         "x": [
          -253.33475001872105,
          -163.35235150690661
         ],
         "y": [
          198.60590411814704,
          242.23121738992785
         ]
        },
        {
         "customdata": [
          [
           11
          ]
         ],
         "hovertemplate": "ff %{customdata[0]}",
         "legendgroup": "ff 11",
         "line": {
          "color": "#FC33FF",
          "dash": "dot",
          "width": 3.5
         },
         "mode": "lines",
         "name": "ff 11 stops visible",
         "opacity": 0.7,
         "showlegend": false,
         "type": "scatter",
         "visible": "legendonly",
         "x": [
          -273.60927148331217,
          -177.05175670079612
         ],
         "y": [
          253.0602231787611,
          279.0726498057444
         ]
        },
        {
         "customdata": [
          [
           12
          ]
         ],
         "hovertemplate": "ff %{customdata[0]}",
         "legendgroup": "ff 12",
         "marker": {
          "color": "#FFEC33",
          "size": 15,
          "symbol": "square"
         },
         "mode": "markers",
         "name": "ff 12",
         "type": "scatter",
         "visible": "legendonly",
         "x": [
          -339.9771341770444
         ],
         "y": [
          146.98658447855883
         ]
        },
        {
         "customdata": [
          [
           12
          ]
         ],
         "hovertemplate": "ff %{customdata[0]}",
         "legendgroup": "ff 12",
         "line": {
          "color": "#FFEC33",
          "width": 2.5
         },
         "mode": "lines",
         "name": "ff 12 starts visible",
         "opacity": 0.7,
         "showlegend": true,
         "type": "scatter",
         "visible": "legendonly",
         "x": [
          -286.90886034960806,
          -186.98250009055602
         ],
         "y": [
          -273.1197201886881,
          -276.9567145043138
         ]
        },
        {
         "customdata": [
          [
           12
          ]
         ],
         "hovertemplate": "ff %{customdata[0]}",
         "legendgroup": "ff 12",
         "line": {
          "color": "#FFEC33",
          "dash": "dot",
          "width": 3.5
         },
         "mode": "lines",
         "name": "ff 12 stops visible",
         "opacity": 0.7,
         "showlegend": true,
         "type": "scatter",
         "visible": "legendonly",
         "x": [
          -286.4991090048695,
          -186.66272970014631
         ],
         "y": [
          -263.54534712469194,
          -269.26350830845007
         ]
        },
        {
         "customdata": [
          [
           13
          ]
         ],
         "hovertemplate": "ff %{customdata[0]}",
         "legendgroup": "ff 13",
         "marker": {
          "color": "#FF5E33",
          "size": 15,
          "symbol": "square"
         },
         "mode": "markers",
         "name": "ff 13",
         "type": "scatter",
         "visible": "legendonly",
         "x": [
          36.12679434265486
         ],
         "y": [
          463.0497068678451
         ]
        },
        {
         "customdata": [
          [
           13
          ]
         ],
         "hovertemplate": "ff %{customdata[0]}",
         "legendgroup": "ff 13",
         "line": {
          "color": "#FF5E33",
          "width": 2.5
         },
         "mode": "lines",
         "name": "ff 13 starts visible",
         "opacity": 0.7,
         "showlegend": true,
         "type": "scatter",
         "visible": "legendonly",
         "x": [
          -190.12463791669165,
          -90.52540741437163
         ],
         "y": [
          63.25173855485596,
          72.19563498458525
         ]
        },
        {
         "customdata": [
          [
           13
          ]
         ],
         "hovertemplate": "ff %{customdata[0]}",
         "legendgroup": "ff 13",
         "line": {
          "color": "#FF5E33",
          "dash": "dot",
          "width": 3.5
         },
         "mode": "lines",
         "name": "ff 13 stops visible",
         "opacity": 0.7,
         "showlegend": true,
         "type": "scatter",
         "visible": "legendonly",
         "x": [
          -191.14143826617897,
          -94.52174971417442
         ],
         "y": [
          69.92265625233759,
          95.70318735845801
         ]
        },
        {
         "customdata": [
          [
           14
          ]
         ],
         "hovertemplate": "ff %{customdata[0]}",
         "legendgroup": "ff 14",
         "marker": {
          "color": "#B06B58",
          "size": 15,
          "symbol": "square"
         },
         "mode": "markers",
         "name": "ff 14",
         "type": "scatter",
         "visible": "legendonly",
         "x": [
          68.68805247394816
         ],
         "y": [
          200.29670592976683
         ]
        },
        {
         "customdata": [
          [
           14
          ]
         ],
         "hovertemplate": "ff %{customdata[0]}",
         "legendgroup": "ff 14",
         "line": {
          "color": "#B06B58",
          "width": 2.5
         },
         "mode": "lines",
         "name": "ff 14 starts visible",
         "opacity": 0.7,
         "showlegend": true,
         "type": "scatter",
         "visible": "legendonly",
         "x": [
          -254.38484973600583,
          -156.86914367531637
         ],
         "y": [
          -97.42497229776724,
          -119.57642984541435
         ]
        },
        {
         "customdata": [
          [
           14
          ]
         ],
         "hovertemplate": "ff %{customdata[0]}",
         "legendgroup": "ff 14",
         "line": {
          "color": "#B06B58",
          "dash": "dot",
          "width": 3.5
         },
         "mode": "lines",
         "name": "ff 14 stops visible",
         "opacity": 0.7,
         "showlegend": true,
         "type": "scatter",
         "visible": "legendonly",
         "x": [
          -236.4245817482844,
          -144.3483145319883
         ],
         "y": [
          -41.98173707982602,
          -80.99405584599576
         ]
        },
        {
         "customdata": [
          [
           14
          ]
         ],
         "hovertemplate": "ff %{customdata[0]}",
         "legendgroup": "ff 14",
         "line": {
          "color": "#B06B58",
          "width": 2.5
         },
         "mode": "lines",
         "name": "ff 14 starts visible",
         "opacity": 0.7,
         "showlegend": false,
         "type": "scatter",
         "visible": "legendonly",
         "x": [
          -216.41756163951675,
          -127.97603677248539
         ],
         "y": [
          -0.8079017239082901,
          -47.47798506639083
         ]
        },
        {
         "customdata": [
          [
           14
          ]
         ],
         "hovertemplate": "ff %{customdata[0]}",
         "legendgroup": "ff 14",
         "line": {
          "color": "#B06B58",
          "dash": "dot",
          "width": 3.5
         },
         "mode": "lines",
         "name": "ff 14 stops visible",
         "opacity": 0.7,
         "showlegend": false,
         "type": "scatter",
         "visible": "legendonly",
         "x": [
          -194.75380624239062,
          -102.26672469518158
         ],
         "y": [
          43.96133651831883,
          5.933192376382325
         ]
        },
        {
         "customdata": [
          [
           15
          ]
         ],
         "hovertemplate": "ff %{customdata[0]}",
         "legendgroup": "ff 15",
         "marker": {
          "color": "#33BBFF",
          "size": 15,
          "symbol": "square"
         },
         "mode": "markers",
         "name": "ff 15",
         "type": "scatter",
         "visible": "legendonly",
         "x": [
          87.6295988822961
         ],
         "y": [
          413.89833826684134
         ]
        },
        {
         "customdata": [
          [
           15
          ]
         ],
         "hovertemplate": "ff %{customdata[0]}",
         "legendgroup": "ff 15",
         "line": {
          "color": "#33BBFF",
          "width": 2.5
         },
         "mode": "lines",
         "name": "ff 15 starts visible",
         "opacity": 0.7,
         "showlegend": true,
         "type": "scatter",
         "visible": "legendonly",
         "x": [
          -190.26897986700652,
          -91.1429079152268
         ],
         "y": [
          64.91710194925575,
          78.10883646032698
         ]
        },
        {
         "customdata": [
          [
           15
          ]
         ],
         "hovertemplate": "ff %{customdata[0]}",
         "legendgroup": "ff 15",
         "line": {
          "color": "#33BBFF",
          "dash": "dot",
          "width": 3.5
         },
         "mode": "lines",
         "name": "ff 15 stops visible",
         "opacity": 0.7,
         "showlegend": true,
         "type": "scatter",
         "visible": "legendonly",
         "x": [
          -190.26897986700652,
          -91.1429079152268
         ],
         "y": [
          64.91710194925575,
          78.10883646032698
         ]
        },
        {
         "customdata": [
          [
           16
          ]
         ],
         "hovertemplate": "ff %{customdata[0]}",
         "legendgroup": "ff 16",
         "marker": {
          "color": "#FF337D",
          "size": 15,
          "symbol": "square"
         },
         "mode": "markers",
         "name": "ff 16",
         "type": "scatter",
         "visible": "legendonly",
         "x": [
          -440.8083951306424
         ],
         "y": [
          347.32330522556686
         ]
        },
        {
         "customdata": [
          [
           16
          ]
         ],
         "hovertemplate": "ff %{customdata[0]}",
         "legendgroup": "ff 16",
         "line": {
          "color": "#FF337D",
          "width": 2.5
         },
         "mode": "lines",
         "name": "ff 16 starts visible",
         "opacity": 0.7,
         "showlegend": true,
         "type": "scatter",
         "visible": "legendonly",
         "x": [
          -190.18640334263,
          -90.80123935407883
         ],
         "y": [
          64.07101068524148,
          75.14301045803757
         ]
        },
        {
         "customdata": [
          [
           16
          ]
         ],
         "hovertemplate": "ff %{customdata[0]}",
         "legendgroup": "ff 16",
         "line": {
          "color": "#FF337D",
          "dash": "dot",
          "width": 3.5
         },
         "mode": "lines",
         "name": "ff 16 stops visible",
         "opacity": 0.7,
         "showlegend": true,
         "type": "scatter",
         "visible": "legendonly",
         "x": [
          -192.21050763436227,
          -97.55352005168409
         ],
         "y": [
          73.52971991516135,
          105.77959901218598
         ]
        },
        {
         "customdata": [
          [
           17
          ]
         ],
         "hovertemplate": "ff %{customdata[0]}",
         "legendgroup": "ff 17",
         "marker": {
          "color": "#FF33D7",
          "size": 15,
          "symbol": "square"
         },
         "mode": "markers",
         "name": "ff 17",
         "type": "scatter",
         "visible": "legendonly",
         "x": [
          10.268205057895434
         ],
         "y": [
          5.710369028379568
         ]
        },
        {
         "customdata": [
          [
           17
          ]
         ],
         "hovertemplate": "ff %{customdata[0]}",
         "legendgroup": "ff 17",
         "line": {
          "color": "#FF33D7",
          "width": 2.5
         },
         "mode": "lines",
         "name": "ff 17 starts visible",
         "opacity": 0.7,
         "showlegend": true,
         "type": "scatter",
         "visible": "legendonly",
         "x": [
          -286.37960952848005,
          -186.58262541308372
         ],
         "y": [
          -261.46262143198317,
          -267.831448755073
         ]
        },
        {
         "customdata": [
          [
           17
          ]
         ],
         "hovertemplate": "ff %{customdata[0]}",
         "legendgroup": "ff 17",
         "line": {
          "color": "#FF33D7",
          "dash": "dot",
          "width": 3.5
         },
         "mode": "lines",
         "name": "ff 17 stops visible",
         "opacity": 0.7,
         "showlegend": true,
         "type": "scatter",
         "visible": "legendonly",
         "x": [
          -278.7531384942528,
          -180.9727784000422
         ],
         "y": [
          -206.29380990566435,
          -227.2461649009029
         ]
        },
        {
         "customdata": [
          [
           17
          ]
         ],
         "hovertemplate": "ff %{customdata[0]}",
         "legendgroup": "ff 17",
         "line": {
          "color": "#FF33D7",
          "width": 2.5
         },
         "mode": "lines",
         "name": "ff 17 starts visible",
         "opacity": 0.7,
         "showlegend": false,
         "type": "scatter",
         "visible": "legendonly",
         "x": [
          -273.817974194928,
          -176.8575462449813
         ],
         "y": [
          -185.36298960234754,
          -209.83083404690768
         ]
        },
        {
         "customdata": [
          [
           17
          ]
         ],
         "hovertemplate": "ff %{customdata[0]}",
         "legendgroup": "ff 17",
         "line": {
          "color": "#FF33D7",
          "dash": "dot",
          "width": 3.5
         },
         "mode": "lines",
         "name": "ff 17 stops visible",
         "opacity": 0.7,
         "showlegend": false,
         "type": "scatter",
         "visible": "legendonly",
         "x": [
          -263.93112093894536,
          -166.24097261313372
         ],
         "y": [
          -146.13165608357872,
          -167.500673844836
         ]
        },
        {
         "customdata": [
          [
           18
          ]
         ],
         "hovertemplate": "ff %{customdata[0]}",
         "legendgroup": "ff 18",
         "marker": {
          "color": "#8D33FF",
          "size": 15,
          "symbol": "square"
         },
         "mode": "markers",
         "name": "ff 18",
         "type": "scatter",
         "visible": "legendonly",
         "x": [
          -167.69215773676547
         ],
         "y": [
          391.29212636983357
         ]
        },
        {
         "customdata": [
          [
           18
          ]
         ],
         "hovertemplate": "ff %{customdata[0]}",
         "legendgroup": "ff 18",
         "line": {
          "color": "#8D33FF",
          "width": 2.5
         },
         "mode": "lines",
         "name": "ff 18 starts visible",
         "opacity": 0.7,
         "showlegend": true,
         "type": "scatter",
         "visible": "legendonly",
         "x": [
          -191.89581436206856,
          -98.73180291828972
         ],
         "y": [
          51.20077096899388,
          14.86254080153188
         ]
        },
        {
         "customdata": [
          [
           18
          ]
         ],
         "hovertemplate": "ff %{customdata[0]}",
         "legendgroup": "ff 18",
         "line": {
          "color": "#8D33FF",
          "dash": "dot",
          "width": 3.5
         },
         "mode": "lines",
         "name": "ff 18 stops visible",
         "opacity": 0.7,
         "showlegend": true,
         "type": "scatter",
         "visible": "legendonly",
         "x": [
          -192.38164483816928,
          -97.81843707809904
         ],
         "y": [
          49.858775621387146,
          17.334942235302563
         ]
        },
        {
         "customdata": [
          [
           18
          ]
         ],
         "hovertemplate": "ff %{customdata[0]}",
         "legendgroup": "ff 18",
         "line": {
          "color": "#8D33FF",
          "width": 2.5
         },
         "mode": "lines",
         "name": "ff 18 starts visible",
         "opacity": 0.7,
         "showlegend": false,
         "type": "scatter",
         "visible": "legendonly",
         "x": [
          -193.23240978057638,
          -101.93923494652728
         ],
         "y": [
          76.02932464775279,
          116.8405513962805
         ]
        },
        {
         "customdata": [
          [
           18
          ]
         ],
         "hovertemplate": "ff %{customdata[0]}",
         "legendgroup": "ff 18",
         "line": {
          "color": "#8D33FF",
          "dash": "dot",
          "width": 3.5
         },
         "mode": "lines",
         "name": "ff 18 stops visible",
         "opacity": 0.7,
         "showlegend": false,
         "type": "scatter",
         "visible": "legendonly",
         "x": [
          -208.3034682464035,
          -116.91597651326119
         ],
         "y": [
          110.24595973128899,
          150.84554537849536
         ]
        },
        {
         "customdata": [
          [
           19
          ]
         ],
         "hovertemplate": "ff %{customdata[0]}",
         "legendgroup": "ff 19",
         "marker": {
          "color": "#33FF64",
          "size": 15,
          "symbol": "square"
         },
         "mode": "markers",
         "name": "ff 19",
         "type": "scatter",
         "visible": "legendonly",
         "x": [
          -61.60070894561459
         ],
         "y": [
          595.0732981777825
         ]
        },
        {
         "customdata": [
          [
           19
          ]
         ],
         "hovertemplate": "ff %{customdata[0]}",
         "legendgroup": "ff 19",
         "line": {
          "color": "#33FF64",
          "width": 2.5
         },
         "mode": "lines",
         "name": "ff 19 starts visible",
         "opacity": 0.7,
         "showlegend": true,
         "type": "scatter",
         "visible": "legendonly",
         "x": [
          -278.69702137533096,
          -180.81107279845102
         ],
         "y": [
          274.4667066549249,
          294.9200944233222
         ]
        },
        {
         "customdata": [
          [
           19
          ]
         ],
         "hovertemplate": "ff %{customdata[0]}",
         "legendgroup": "ff 19",
         "line": {
          "color": "#33FF64",
          "dash": "dot",
          "width": 3.5
         },
         "mode": "lines",
         "name": "ff 19 stops visible",
         "opacity": 0.7,
         "showlegend": true,
         "type": "scatter",
         "visible": "legendonly",
         "x": [
          -284.8076820609029,
          -186.195463417451
         ],
         "y": [
          308.0483880114511,
          324.65050637676944
         ]
        },
        {
         "customdata": [
          [
           20
          ]
         ],
         "hovertemplate": "ff %{customdata[0]}",
         "legendgroup": "ff 20",
         "marker": {
          "color": "#FF5733",
          "size": 15,
          "symbol": "square"
         },
         "mode": "markers",
         "name": "ff 20",
         "type": "scatter",
         "visible": "legendonly",
         "x": [
          -168.4560054616792
         ],
         "y": [
          533.2206078133078
         ]
        },
        {
         "customdata": [
          [
           20
          ]
         ],
         "hovertemplate": "ff %{customdata[0]}",
         "legendgroup": "ff 20",
         "line": {
          "color": "#FF5733",
          "width": 2.5
         },
         "mode": "lines",
         "name": "ff 20 starts visible",
         "opacity": 0.7,
         "showlegend": true,
         "type": "scatter",
         "visible": "legendonly",
         "x": [
          -237.45791133768918,
          -150.97755162039198
         ],
         "y": [
          169.76187142833018,
          219.97289992971503
         ]
        },
        {
         "customdata": [
          [
           20
          ]
         ],
         "hovertemplate": "ff %{customdata[0]}",
         "legendgroup": "ff 20",
         "line": {
          "color": "#FF5733",
          "dash": "dot",
          "width": 3.5
         },
         "mode": "lines",
         "name": "ff 20 stops visible",
         "opacity": 0.7,
         "showlegend": true,
         "type": "scatter",
         "visible": "legendonly",
         "x": [
          -237.36319656948885,
          -151.53070779873315
         ],
         "y": [
          169.59526585117376,
          220.90592625832593
         ]
        },
        {
         "customdata": [
          [
           21
          ]
         ],
         "hovertemplate": "ff %{customdata[0]}",
         "legendgroup": "ff 21",
         "marker": {
          "color": "#FFB533",
          "size": 15,
          "symbol": "square"
         },
         "mode": "markers",
         "name": "ff 21",
         "type": "scatter",
         "visible": "legendonly",
         "x": [
          -245.4776559945404
         ],
         "y": [
          359.04280585823784
         ]
        },
        {
         "customdata": [
          [
           21
          ]
         ],
         "hovertemplate": "ff %{customdata[0]}",
         "legendgroup": "ff 21",
         "line": {
          "color": "#FFB533",
          "width": 2.5
         },
         "mode": "lines",
         "name": "ff 21 starts visible",
         "opacity": 0.7,
         "showlegend": true,
         "type": "scatter",
         "visible": "legendonly",
         "x": [
          -191.62326352105077,
          -96.4853424477156
         ],
         "y": [
          51.91538334068557,
          21.11317605218356
         ]
        },
        {
         "customdata": [
          [
           21
          ]
         ],
         "hovertemplate": "ff %{customdata[0]}",
         "legendgroup": "ff 21",
         "line": {
          "color": "#FFB533",
          "dash": "dot",
          "width": 3.5
         },
         "mode": "lines",
         "name": "ff 21 stops visible",
         "opacity": 0.7,
         "showlegend": true,
         "type": "scatter",
         "visible": "legendonly",
         "x": [
          -190.05070163079762,
          -90.0840288046317
         ],
         "y": [
          61.00233674636584,
          63.58387196136962
         ]
        },
        {
         "customdata": [
          [
           21
          ]
         ],
         "hovertemplate": "ff %{customdata[0]}",
         "legendgroup": "ff 21",
         "line": {
          "color": "#FFB533",
          "width": 2.5
         },
         "mode": "lines",
         "name": "ff 21 starts visible",
         "opacity": 0.7,
         "showlegend": false,
         "type": "scatter",
         "visible": "legendonly",
         "x": [
          -191.35022822203666,
          -95.28909788432594
         ],
         "y": [
          70.7451946629955,
          98.53474734455837
         ]
        },
        {
         "customdata": [
          [
           21
          ]
         ],
         "hovertemplate": "ff %{customdata[0]}",
         "legendgroup": "ff 21",
         "line": {
          "color": "#FFB533",
          "dash": "dot",
          "width": 3.5
         },
         "mode": "lines",
         "name": "ff 21 stops visible",
         "opacity": 0.7,
         "showlegend": false,
         "type": "scatter",
         "visible": "legendonly",
         "x": [
          -193.0387922007402,
          -101.55203093254228
         ],
         "y": [
          75.59993576181868,
          115.97533065345738
         ]
        },
        {
         "customdata": [
          [
           21
          ]
         ],
         "hovertemplate": "ff %{customdata[0]}",
         "legendgroup": "ff 21",
         "line": {
          "color": "#FFB533",
          "width": 2.5
         },
         "mode": "lines",
         "name": "ff 21 starts visible",
         "opacity": 0.7,
         "showlegend": false,
         "type": "scatter",
         "visible": "legendonly",
         "x": [
          -218.88041613921314,
          -128.2408923470351
         ],
         "y": [
          133.5290940346558,
          175.77216123777438
         ]
        },
        {
         "customdata": [
          [
           21
          ]
         ],
         "hovertemplate": "ff %{customdata[0]}",
         "legendgroup": "ff 21",
         "line": {
          "color": "#FFB533",
          "dash": "dot",
          "width": 3.5
         },
         "mode": "lines",
         "name": "ff 21 stops visible",
         "opacity": 0.7,
         "showlegend": false,
         "type": "scatter",
         "visible": "legendonly",
         "x": [
          -237.36342371663375,
          -150.88306399933654
         ],
         "y": [
          169.603900627904,
          219.81492912928886
         ]
        },
        {
         "customdata": [
          [
           22
          ]
         ],
         "hovertemplate": "ff %{customdata[0]}",
         "legendgroup": "ff 22",
         "marker": {
          "color": "#33FFBE",
          "size": 15,
          "symbol": "square"
         },
         "mode": "markers",
         "name": "ff 22",
         "type": "scatter",
         "visible": "legendonly",
         "x": [
          -135.85291420941743
         ],
         "y": [
          38.226889947819
         ]
        },
        {
         "customdata": [
          [
           22
          ]
         ],
         "hovertemplate": "ff %{customdata[0]}",
         "legendgroup": "ff 22",
         "line": {
          "color": "#33FFBE",
          "width": 2.5
         },
         "mode": "lines",
         "name": "ff 22 starts visible",
         "opacity": 0.7,
         "showlegend": true,
         "type": "scatter",
         "visible": "legendonly",
         "x": [
          -286.89746588217673,
          -186.99389455798737
         ],
         "y": [
          -272.8429703972602,
          -277.2334642957417
         ]
        },
        {
         "customdata": [
          [
           22
          ]
         ],
         "hovertemplate": "ff %{customdata[0]}",
         "legendgroup": "ff 22",
         "line": {
          "color": "#33FFBE",
          "dash": "dot",
          "width": 3.5
         },
         "mode": "lines",
         "name": "ff 22 stops visible",
         "opacity": 0.7,
         "showlegend": true,
         "type": "scatter",
         "visible": "legendonly",
         "x": [
          -286.81515070004724,
          -186.89816000727762
         ],
         "y": [
          -270.50759569704957,
          -274.58128823588794
         ]
        },
        {
         "customdata": [
          [
           22
          ]
         ],
         "hovertemplate": "ff %{customdata[0]}",
         "legendgroup": "ff 22",
         "line": {
          "color": "#33FFBE",
          "width": 2.5
         },
         "mode": "lines",
         "name": "ff 22 starts visible",
         "opacity": 0.7,
         "showlegend": false,
         "type": "scatter",
         "visible": "legendonly",
         "x": [
          -258.8264119229398,
          -160.45320570337995
         ],
         "y": [
          -119.87430598430126,
          -137.8385008753601
         ]
        },
        {
         "customdata": [
          [
           22
          ]
         ],
         "hovertemplate": "ff %{customdata[0]}",
         "legendgroup": "ff 22",
         "line": {
          "color": "#33FFBE",
          "dash": "dot",
          "width": 3.5
         },
         "mode": "lines",
         "name": "ff 22 stops visible",
         "opacity": 0.7,
         "showlegend": false,
         "type": "scatter",
         "visible": "legendonly",
         "x": [
          -258.84561071576246,
          -160.43400691055731
         ],
         "y": [
          -119.98008329579811,
          -137.73272356386326
         ]
        },
        {
         "customdata": [
          [
           23
          ]
         ],
         "hovertemplate": "ff %{customdata[0]}",
         "legendgroup": "ff 23",
         "marker": {
          "color": "#3933FF",
          "size": 15,
          "symbol": "square"
         },
         "mode": "markers",
         "name": "ff 23",
         "type": "scatter",
         "visible": "legendonly",
         "x": [
          -424.26284211226755
         ],
         "y": [
          -17.013957457650235
         ]
        },
        {
         "customdata": [
          [
           23
          ]
         ],
         "hovertemplate": "ff %{customdata[0]}",
         "legendgroup": "ff 23",
         "line": {
          "color": "#3933FF",
          "width": 2.5
         },
         "mode": "lines",
         "name": "ff 23 starts visible",
         "opacity": 0.7,
         "showlegend": true,
         "type": "scatter",
         "visible": "legendonly",
         "x": [
          -286.90885960931155,
          -186.98250083085253
         ],
         "y": [
          -273.11970090933625,
          -276.95673378366575
         ]
        },
        {
         "customdata": [
          [
           23
          ]
         ],
         "hovertemplate": "ff %{customdata[0]}",
         "legendgroup": "ff 23",
         "line": {
          "color": "#3933FF",
          "dash": "dot",
          "width": 3.5
         },
         "mode": "lines",
         "name": "ff 23 stops visible",
         "opacity": 0.7,
         "showlegend": true,
         "type": "scatter",
         "visible": "legendonly",
         "x": [
          -286.2382724207946,
          -186.48331779159523
         ],
         "y": [
          -259.2356395476789,
          -266.23199766647036
         ]
        },
        {
         "customdata": [
          [
           24
          ]
         ],
         "hovertemplate": "ff %{customdata[0]}",
         "legendgroup": "ff 24",
         "marker": {
          "color": "#FF3346",
          "size": 15,
          "symbol": "square"
         },
         "mode": "markers",
         "name": "ff 24",
         "type": "scatter",
         "visible": "legendonly",
         "x": [
          -159.40497474671974
         ],
         "y": [
          69.94185776144519
         ]
        },
        {
         "customdata": [
          [
           24
          ]
         ],
         "hovertemplate": "ff %{customdata[0]}",
         "legendgroup": "ff 24",
         "line": {
          "color": "#FF3346",
          "width": 2.5
         },
         "mode": "lines",
         "name": "ff 24 starts visible",
         "opacity": 0.7,
         "showlegend": true,
         "type": "scatter",
         "visible": "legendonly",
         "x": [
          -283.33527560873966,
          -184.38686178943078
         ],
         "y": [
          -231.5524274012538,
          -246.01656936138426
         ]
        },
        {
         "customdata": [
          [
           24
          ]
         ],
         "hovertemplate": "ff %{customdata[0]}",
         "legendgroup": "ff 24",
         "line": {
          "color": "#FF3346",
          "dash": "dot",
          "width": 3.5
         },
         "mode": "lines",
         "name": "ff 24 stops visible",
         "opacity": 0.7,
         "showlegend": true,
         "type": "scatter",
         "visible": "legendonly",
         "x": [
          -270.4016271684604,
          -173.65622296505458
         ],
         "y": [
          -172.12653607889376,
          -197.43121480674245
         ]
        },
        {
         "customdata": [
          [
           24
          ]
         ],
         "hovertemplate": "ff %{customdata[0]}",
         "legendgroup": "ff 24",
         "line": {
          "color": "#FF3346",
          "width": 2.5
         },
         "mode": "lines",
         "name": "ff 24 starts visible",
         "opacity": 0.7,
         "showlegend": false,
         "type": "scatter",
         "visible": "legendonly",
         "x": [
          -262.897506184573,
          -164.8000498051351
         ],
         "y": [
          -141.16830499371278,
          -160.5819355630904
         ]
        },
        {
         "customdata": [
          [
           24
          ]
         ],
         "hovertemplate": "ff %{customdata[0]}",
         "legendgroup": "ff 24",
         "line": {
          "color": "#FF3346",
          "dash": "dot",
          "width": 3.5
         },
         "mode": "lines",
         "name": "ff 24 stops visible",
         "opacity": 0.7,
         "showlegend": false,
         "type": "scatter",
         "visible": "legendonly",
         "x": [
          -259.5991839748928,
          -161.26630825779154
         ],
         "y": [
          -124.13290667229488,
          -142.3165683828831
         ]
        },
        {
         "customdata": [
          [
           24
          ]
         ],
         "hovertemplate": "ff %{customdata[0]}",
         "legendgroup": "ff 24",
         "line": {
          "color": "#FF3346",
          "width": 2.5
         },
         "mode": "lines",
         "name": "ff 24 starts visible",
         "opacity": 0.7,
         "showlegend": false,
         "type": "scatter",
         "visible": "legendonly",
         "x": [
          -221.10049157731257,
          -132.263936696221
         ],
         "y": [
          -9.749457109359248,
          -55.663142616610834
         ]
        },
        {
         "customdata": [
          [
           24
          ]
         ],
         "hovertemplate": "ff %{customdata[0]}",
         "legendgroup": "ff 24",
         "line": {
          "color": "#FF3346",
          "dash": "dot",
          "width": 3.5
         },
         "mode": "lines",
         "name": "ff 24 stops visible",
         "opacity": 0.7,
         "showlegend": false,
         "type": "scatter",
         "visible": "legendonly",
         "x": [
          -197.78645893202366,
          -106.26815148869436
         ],
         "y": [
          36.83176888314917,
          -3.472069677318698
         ]
        },
        {
         "customdata": [
          [
           25
          ]
         ],
         "hovertemplate": "ff %{customdata[0]}",
         "legendgroup": "ff 25",
         "marker": {
          "color": "#FC33FF",
          "size": 15,
          "symbol": "square"
         },
         "mode": "markers",
         "name": "ff 25",
         "type": "scatter",
         "visible": "legendonly",
         "x": [
          -312.21595696461867
         ],
         "y": [
          6.699644679674458
         ]
        },
        {
         "customdata": [
          [
           25
          ]
         ],
         "hovertemplate": "ff %{customdata[0]}",
         "legendgroup": "ff 25",
         "line": {
          "color": "#FC33FF",
          "width": 2.5
         },
         "mode": "lines",
         "name": "ff 25 starts visible",
         "opacity": 0.7,
         "showlegend": true,
         "type": "scatter",
         "visible": "legendonly",
         "x": [
          -288.5944700799516,
          -190.21268832352348
         ],
         "y": [
          -289.8631411899988,
          -307.7803122398761
         ]
        },
        {
         "customdata": [
          [
           25
          ]
         ],
         "hovertemplate": "ff %{customdata[0]}",
         "legendgroup": "ff 25",
         "line": {
          "color": "#FC33FF",
          "dash": "dot",
          "width": 3.5
         },
         "mode": "lines",
         "name": "ff 25 stops visible",
         "opacity": 0.7,
         "showlegend": true,
         "type": "scatter",
         "visible": "legendonly",
         "x": [
          -288.69239102269273,
          -189.94251770961273
         ],
         "y": [
          -290.44860321504603,
          -306.21129716787823
         ]
        },
        {
         "customdata": [
          [
           26
          ]
         ],
         "hovertemplate": "ff %{customdata[0]}",
         "legendgroup": "ff 26",
         "marker": {
          "color": "#FFEC33",
          "size": 15,
          "symbol": "square"
         },
         "mode": "markers",
         "name": "ff 26",
         "type": "scatter",
         "visible": "legendonly",
         "x": [
          -243.04014596263923
         ],
         "y": [
          -6.384184628619549
         ]
        },
        {
         "customdata": [
          [
           26
          ]
         ],
         "hovertemplate": "ff %{customdata[0]}",
         "legendgroup": "ff 26",
         "line": {
          "color": "#FFEC33",
          "width": 2.5
         },
         "mode": "lines",
         "name": "ff 26 starts visible",
         "opacity": 0.7,
         "showlegend": true,
         "type": "scatter",
         "visible": "legendonly",
         "x": [
          -286.88183268657576,
          -187.00952775358834
         ],
         "y": [
          -272.5122171796177,
          -277.5642175133843
         ]
        },
        {
         "customdata": [
          [
           26
          ]
         ],
         "hovertemplate": "ff %{customdata[0]}",
         "legendgroup": "ff 26",
         "line": {
          "color": "#FFEC33",
          "dash": "dot",
          "width": 3.5
         },
         "mode": "lines",
         "name": "ff 26 stops visible",
         "opacity": 0.7,
         "showlegend": true,
         "type": "scatter",
         "visible": "legendonly",
         "x": [
          -286.86320870095017,
          -186.9370664240104
         ],
         "y": [
          -271.83059489881254,
          -275.6732618956771
         ]
        },
        {
         "customdata": [
          [
           27
          ]
         ],
         "hovertemplate": "ff %{customdata[0]}",
         "legendgroup": "ff 27",
         "marker": {
          "color": "#FF5E33",
          "size": 15,
          "symbol": "square"
         },
         "mode": "markers",
         "name": "ff 27",
         "type": "scatter",
         "visible": "legendonly",
         "x": [
          -247.28649908820665
         ],
         "y": [
          65.02898383829805
         ]
        },
        {
         "customdata": [
          [
           27
          ]
         ],
         "hovertemplate": "ff %{customdata[0]}",
         "legendgroup": "ff 27",
         "line": {
          "color": "#FF5E33",
          "width": 2.5
         },
         "mode": "lines",
         "name": "ff 27 starts visible",
         "opacity": 0.7,
         "showlegend": true,
         "type": "scatter",
         "visible": "legendonly",
         "x": [
          -262.26779477594755,
          -164.1651261263773
         ],
         "y": [
          -137.98636625284914,
          -157.37364052832748
         ]
        },
        {
         "customdata": [
          [
           27
          ]
         ],
         "hovertemplate": "ff %{customdata[0]}",
         "legendgroup": "ff 27",
         "line": {
          "color": "#FF5E33",
          "dash": "dot",
          "width": 3.5
         },
         "mode": "lines",
         "name": "ff 27 stops visible",
         "opacity": 0.7,
         "showlegend": true,
         "type": "scatter",
         "visible": "legendonly",
         "x": [
          -258.8264119229398,
          -160.45320570337995
         ],
         "y": [
          -119.87430598430126,
          -137.8385008753601
         ]
        },
        {
         "customdata": [
          [
           28
          ]
         ],
         "hovertemplate": "ff %{customdata[0]}",
         "legendgroup": "ff 28",
         "marker": {
          "color": "#B06B58",
          "size": 15,
          "symbol": "square"
         },
         "mode": "markers",
         "name": "ff 28",
         "type": "scatter",
         "visible": "legendonly",
         "x": [
          -194.14603890569637
         ],
         "y": [
          480.5492361313207
         ]
        },
        {
         "customdata": [
          [
           28
          ]
         ],
         "hovertemplate": "ff %{customdata[0]}",
         "legendgroup": "ff 28",
         "line": {
          "color": "#B06B58",
          "width": 2.5
         },
         "mode": "lines",
         "name": "ff 28 starts visible",
         "opacity": 0.7,
         "showlegend": true,
         "type": "scatter",
         "visible": "legendonly",
         "x": [
          -274.5439707451997,
          -177.72480071333806
         ],
         "y": [
          256.60235843082677,
          281.62331593331805
         ]
        },
        {
         "customdata": [
          [
           28
          ]
         ],
         "hovertemplate": "ff %{customdata[0]}",
         "legendgroup": "ff 28",
         "line": {
          "color": "#B06B58",
          "dash": "dot",
          "width": 3.5
         },
         "mode": "lines",
         "name": "ff 28 stops visible",
         "opacity": 0.7,
         "showlegend": true,
         "type": "scatter",
         "visible": "legendonly",
         "x": [
          -285.79518206184457,
          -187.22229471900118
         ],
         "y": [
          313.88927060767077,
          330.7233396610847
         ]
        },
        {
         "customdata": [
          [
           29
          ]
         ],
         "hovertemplate": "ff %{customdata[0]}",
         "legendgroup": "ff 29",
         "marker": {
          "color": "#33BBFF",
          "size": 15,
          "symbol": "square"
         },
         "mode": "markers",
         "name": "ff 29",
         "type": "scatter",
         "visible": "legendonly",
         "x": [
          -69.21342348260039
         ],
         "y": [
          24.81576357675595
         ]
        },
        {
         "customdata": [
          [
           29
          ]
         ],
         "hovertemplate": "ff %{customdata[0]}",
         "legendgroup": "ff 29",
         "line": {
          "color": "#33BBFF",
          "width": 2.5
         },
         "mode": "lines",
         "name": "ff 29 starts visible",
         "opacity": 0.7,
         "showlegend": true,
         "type": "scatter",
         "visible": "legendonly",
         "x": [
          -258.85075384680374,
          -160.42886377951604
         ],
         "y": [
          -120.00864162835306,
          -137.7041652313083
         ]
        },
        {
         "customdata": [
          [
           29
          ]
         ],
         "hovertemplate": "ff %{customdata[0]}",
         "legendgroup": "ff 29",
         "line": {
          "color": "#33BBFF",
          "dash": "dot",
          "width": 3.5
         },
         "mode": "lines",
         "name": "ff 29 stops visible",
         "opacity": 0.7,
         "showlegend": true,
         "type": "scatter",
         "visible": "legendonly",
         "x": [
          -257.98159718745944,
          -159.62459950539028
         ],
         "y": [
          -115.17716247872443,
          -133.22989099741207
         ]
        },
        {
         "customdata": [
          [
           30
          ]
         ],
         "hovertemplate": "ff %{customdata[0]}",
         "legendgroup": "ff 30",
         "marker": {
          "color": "#FF337D",
          "size": 15,
          "symbol": "square"
         },
         "mode": "markers",
         "name": "ff 30",
         "type": "scatter",
         "visible": "legendonly",
         "x": [
          -154.8387708197969
         ],
         "y": [
          251.70347776060808
         ]
        },
        {
         "customdata": [
          [
           30
          ]
         ],
         "hovertemplate": "ff %{customdata[0]}",
         "legendgroup": "ff 30",
         "line": {
          "color": "#FF337D",
          "width": 2.5
         },
         "mode": "lines",
         "name": "ff 30 starts visible",
         "opacity": 0.7,
         "showlegend": true,
         "type": "scatter",
         "visible": "legendonly",
         "x": [
          -190.12463791669165,
          -90.52540741437163
         ],
         "y": [
          63.25173855485596,
          72.19563498458525
         ]
        },
        {
         "customdata": [
          [
           30
          ]
         ],
         "hovertemplate": "ff %{customdata[0]}",
         "legendgroup": "ff 30",
         "line": {
          "color": "#FF337D",
          "dash": "dot",
          "width": 3.5
         },
         "mode": "lines",
         "name": "ff 30 stops visible",
         "opacity": 0.7,
         "showlegend": true,
         "type": "scatter",
         "visible": "legendonly",
         "x": [
          -193.1302625079387,
          -100.39108789113432
         ],
         "y": [
          75.85483290406417,
          113.26399610499479
         ]
        },
        {
         "customdata": [
          [
           31
          ]
         ],
         "hovertemplate": "ff %{customdata[0]}",
         "legendgroup": "ff 31",
         "marker": {
          "color": "#FF33D7",
          "size": 15,
          "symbol": "square"
         },
         "mode": "markers",
         "name": "ff 31",
         "type": "scatter",
         "visible": "legendonly",
         "x": [
          -202.92911233037688
         ],
         "y": [
          -122.63649828935846
         ]
        },
        {
         "customdata": [
          [
           31
          ]
         ],
         "hovertemplate": "ff %{customdata[0]}",
         "legendgroup": "ff 31",
         "line": {
          "color": "#FF33D7",
          "width": 2.5
         },
         "mode": "lines",
         "name": "ff 31 starts visible",
         "opacity": 0.7,
         "showlegend": true,
         "type": "scatter",
         "visible": "legendonly",
         "x": [
          -288.63446224056133,
          -189.8845889274814
         ],
         "y": [
          -290.11223291269346,
          -305.87492686552565
         ]
        },
        {
         "customdata": [
          [
           31
          ]
         ],
         "hovertemplate": "ff %{customdata[0]}",
         "legendgroup": "ff 31",
         "line": {
          "color": "#FF33D7",
          "dash": "dot",
          "width": 3.5
         },
         "mode": "lines",
         "name": "ff 31 stops visible",
         "opacity": 0.7,
         "showlegend": true,
         "type": "scatter",
         "visible": "legendonly",
         "x": [
          -286.91871774521803,
          -187.04785716621882
         ],
         "y": [
          -273.49533801877413,
          -278.5758111473421
         ]
        },
        {
         "customdata": [
          [
           31
          ]
         ],
         "hovertemplate": "ff %{customdata[0]}",
         "legendgroup": "ff 31",
         "line": {
          "color": "#FF33D7",
          "width": 2.5
         },
         "mode": "lines",
         "name": "ff 31 starts visible",
         "opacity": 0.7,
         "showlegend": false,
         "type": "scatter",
         "visible": "legendonly",
         "x": [
          -286.87817168078897,
          -186.95181290232992
         ],
         "y": [
          -272.2532970479898,
          -276.0903299223193
         ]
        },
        {
         "customdata": [
          [
           31
          ]
         ],
         "hovertemplate": "ff %{customdata[0]}",
         "legendgroup": "ff 31",
         "line": {
          "color": "#FF33D7",
          "dash": "dot",
          "width": 3.5
         },
         "mode": "lines",
         "name": "ff 31 stops visible",
         "opacity": 0.7,
         "showlegend": false,
         "type": "scatter",
         "visible": "legendonly",
         "x": [
          -284.2732498550845,
          -185.0551306429806
         ],
         "y": [
          -238.45175998367537,
          -250.9323376951733
         ]
        },
        {
         "customdata": [
          [
           32
          ]
         ],
         "hovertemplate": "ff %{customdata[0]}",
         "legendgroup": "ff 32",
         "marker": {
          "color": "#8D33FF",
          "size": 15,
          "symbol": "square"
         },
         "mode": "markers",
         "name": "ff 32",
         "type": "scatter",
         "visible": "legendonly",
         "x": [
          -189.9462249512177
         ],
         "y": [
          111.41998424153823
         ]
        },
        {
         "customdata": [
          [
           32
          ]
         ],
         "hovertemplate": "ff %{customdata[0]}",
         "legendgroup": "ff 32",
         "line": {
          "color": "#8D33FF",
          "width": 2.5
         },
         "mode": "lines",
         "name": "ff 32 starts visible",
         "opacity": 0.7,
         "showlegend": true,
         "type": "scatter",
         "visible": "legendonly",
         "x": [
          -230.49100867145748,
          -139.96763895095873
         ],
         "y": [
          -28.70944525156595,
          -71.20085067014318
         ]
        },
        {
         "customdata": [
          [
           32
          ]
         ],
         "hovertemplate": "ff %{customdata[0]}",
         "legendgroup": "ff 32",
         "line": {
          "color": "#8D33FF",
          "dash": "dot",
          "width": 3.5
         },
         "mode": "lines",
         "name": "ff 32 stops visible",
         "opacity": 0.7,
         "showlegend": true,
         "type": "scatter",
         "visible": "legendonly",
         "x": [
          -205.2697227162784,
          -115.51718565064374
         ],
         "y": [
          20.83661907837796,
          -23.25966296763898
         ]
        },
        {
         "customdata": [
          [
           -3.98
          ],
          [
           -3.97
          ],
          [
           -3.95
          ],
          [
           -3.93
          ],
          [
           -3.92
          ],
          [
           -3.9
          ],
          [
           -3.88
          ],
          [
           -3.83
          ],
          [
           -3.82
          ],
          [
           -3.78
          ],
          [
           -3.77
          ],
          [
           -3.75
          ],
          [
           -3.73
          ],
          [
           -3.34
          ],
          [
           -3.32
          ],
          [
           -3.3
          ],
          [
           -3.29
          ],
          [
           -3.27
          ],
          [
           -3.25
          ],
          [
           -3.22
          ],
          [
           -3.14
          ],
          [
           -3.1
          ],
          [
           -3.09
          ],
          [
           -3.07
          ],
          [
           -3.05
          ],
          [
           -3.04
          ],
          [
           -2.12
          ],
          [
           -2.11
          ],
          [
           -2.09
          ],
          [
           -2.07
          ],
          [
           -2.06
          ],
          [
           -2.04
          ],
          [
           -2.03
          ],
          [
           -2.01
          ],
          [
           -1.99
          ],
          [
           -1.98
          ],
          [
           -1.96
          ],
          [
           -1.94
          ],
          [
           -1.93
          ],
          [
           -1.91
          ],
          [
           -1.89
          ],
          [
           -1.88
          ],
          [
           -1.86
          ],
          [
           -1.54
          ],
          [
           -1.53
          ],
          [
           -1.51
          ],
          [
           -1.49
          ],
          [
           -1.47
          ],
          [
           -1.46
          ],
          [
           -1.45
          ],
          [
           -1.45
          ],
          [
           -1.44
          ],
          [
           -1.43
          ],
          [
           -1.39
          ],
          [
           -1.38
          ],
          [
           -1.36
          ],
          [
           -1.31
          ],
          [
           -1.29
          ],
          [
           -1.28
          ],
          [
           -1.26
          ],
          [
           -1.24
          ],
          [
           -1.23
          ],
          [
           -1.21
          ],
          [
           0
          ],
          [
           0.02
          ],
          [
           0.03
          ],
          [
           0.05
          ],
          [
           0.07
          ],
          [
           0.09
          ],
          [
           0.11
          ],
          [
           0.11
          ],
          [
           0.12
          ],
          [
           0.15
          ],
          [
           0.17
          ],
          [
           0.18
          ],
          [
           0.2
          ],
          [
           0.22
          ],
          [
           1.06
          ],
          [
           1.08
          ],
          [
           1.1
          ],
          [
           1.11
          ],
          [
           1.13
          ],
          [
           1.15
          ],
          [
           1.16
          ],
          [
           1.96
          ],
          [
           1.98
          ],
          [
           1.99
          ],
          [
           2.02
          ],
          [
           2.02
          ],
          [
           2.04
          ],
          [
           2.08
          ],
          [
           2.09
          ],
          [
           2.11
          ],
          [
           2.12
          ],
          [
           2.14
          ],
          [
           2.16
          ],
          [
           2.17
          ],
          [
           2.19
          ],
          [
           2.21
          ],
          [
           2.22
          ],
          [
           3.34
          ],
          [
           3.35
          ],
          [
           3.37
          ],
          [
           3.39
          ],
          [
           3.4
          ],
          [
           3.42
          ],
          [
           3.44
          ],
          [
           3.45
          ]
         ],
         "hovertemplate": "rel_time: %{customdata[0]:.2f}",
         "legendgroup": "",
         "marker": {
          "color": "black",
          "opacity": 1,
          "size": 13,
          "symbol": "star"
         },
         "mode": "markers",
         "name": "stops",
         "orientation": "v",
         "showlegend": false,
         "type": "scatter",
         "x": [
          -239.4035792017375,
          -239.4035792017375,
          -239.4035792017375,
          -239.4035792017375,
          -239.4035792017375,
          -239.4035792017375,
          -239.4035792017375,
          -239.4035792017375,
          -239.4035792017375,
          -239.4035792017375,
          -239.4035792017375,
          -239.4035792017375,
          -239.4035792017375,
          -236.94568022008204,
          -236.94568022008204,
          -236.94568022008204,
          -236.94568022008204,
          -236.94568022008204,
          -236.94568022008204,
          -236.94568022008204,
          -236.94568022008204,
          -236.94568022008204,
          -236.94568022008204,
          -236.94568022008204,
          -236.94568022008204,
          -236.94568022008204,
          -213.84877799485406,
          -213.84877799485406,
          -213.84877799485406,
          -213.84877799485406,
          -213.84877799485406,
          -213.84877799485406,
          -213.84877799485406,
          -213.84877799485406,
          -213.84877799485406,
          -213.84877799485406,
          -213.84877799485406,
          -213.84877799485406,
          -213.84877799485406,
          -213.84877799485406,
          -213.84877799485406,
          -213.84877799485406,
          -213.84877799485406,
          -209.6398088131599,
          -209.6398088131599,
          -209.6398088131599,
          -209.6398088131599,
          -209.6398088131599,
          -209.6398088131599,
          -209.6398088131599,
          -209.6398088131599,
          -209.6398088131599,
          -209.6398088131599,
          -209.6398088131599,
          -209.6398088131599,
          -209.6398088131599,
          -209.6398088131599,
          -209.6398088131599,
          -209.6398088131599,
          -209.6398088131599,
          -209.6398088131599,
          -209.6398088131599,
          -209.6398088131599,
          -145.14651918607225,
          -145.14651896638432,
          -145.1465038374637,
          -145.1465036177758,
          -145.14650339808787,
          -145.14650317839997,
          -145.14650273902413,
          -145.1465025193362,
          -145.1465022996483,
          -145.14650197011642,
          -145.14650175042848,
          -145.14650153074058,
          -145.14650131105265,
          -145.1465010913647,
          -147.2954115666412,
          -147.2954115666412,
          -147.2954115666412,
          -147.2954115666412,
          -147.2954115666412,
          -147.2954115666412,
          -147.2954115666412,
          -194.21773147904057,
          -194.21773147904057,
          -194.21773147904057,
          -194.21773147904057,
          -194.21773147904057,
          -194.21773147904057,
          -194.21773147904057,
          -194.21773147904057,
          -194.21773147904057,
          -194.21773147904057,
          -194.21773147904057,
          -194.21773147904057,
          -194.21773147904057,
          -194.21773147904057,
          -194.21773147904057,
          -194.21773147904057,
          -239.40357920173764,
          -239.40357920173764,
          -239.40357920173764,
          -239.40357920173764,
          -239.40357920173764,
          -239.40357920173764,
          -239.40357920173764,
          -239.40357920173764
         ],
         "xaxis": "x",
         "y": [
          -298.8217267149375,
          -298.8217267149375,
          -298.8217267149375,
          -298.8217267149375,
          -298.8217267149375,
          -298.8217267149375,
          -298.8217267149375,
          -298.8217267149375,
          -298.8217267149375,
          -298.8217267149375,
          -298.8217267149375,
          -298.8217267149375,
          -298.8217267149375,
          -275.03821734650097,
          -275.03821734650097,
          -275.03821734650097,
          -275.03821734650097,
          -275.03821734650097,
          -275.03821734650097,
          -275.03821734650097,
          -275.03821734650097,
          -275.03821734650097,
          -275.03821734650097,
          -275.03821734650097,
          -275.03821734650097,
          -275.03821734650097,
          -150.87512027840162,
          -150.87512027840162,
          -150.87512027840162,
          -150.87512027840162,
          -150.87512027840162,
          -150.87512027840162,
          -150.87512027840162,
          -150.87512027840162,
          -150.87512027840162,
          -150.87512027840162,
          -150.87512027840162,
          -150.87512027840162,
          -150.87512027840162,
          -150.87512027840162,
          -150.87512027840162,
          -150.87512027840162,
          -150.87512027840162,
          -128.8564034298307,
          -128.8564034298307,
          -128.8564034298307,
          -128.8564034298307,
          -128.8564034298307,
          -128.8564034298307,
          -128.8564034298307,
          -128.8564034298307,
          -128.8564034298307,
          -128.8564034298307,
          -128.8564034298307,
          -128.8564034298307,
          -128.8564034298307,
          -128.8564034298307,
          -128.8564034298307,
          -128.8564034298307,
          -128.8564034298307,
          -128.8564034298307,
          -128.8564034298307,
          -128.8564034298307,
          33.473975695339945,
          33.473977683237635,
          33.47397802347592,
          33.47398001137361,
          33.473981999271295,
          33.473983987168985,
          33.47398796296436,
          33.47398995086205,
          33.47399193875974,
          33.473994920606266,
          33.473996908503956,
          33.473998896401646,
          33.474000884299336,
          33.47400287219702,
          95.78763320763802,
          95.78763320763802,
          95.78763320763802,
          95.78763320763802,
          95.78763320763802,
          95.78763320763802,
          95.78763320763802,
          194.86738567902262,
          194.86738567902262,
          194.86738567902262,
          194.86738567902262,
          194.86738567902262,
          194.86738567902262,
          194.86738567902262,
          194.86738567902262,
          194.86738567902262,
          194.86738567902262,
          194.86738567902262,
          194.86738567902262,
          194.86738567902262,
          194.86738567902262,
          194.86738567902262,
          194.86738567902262,
          338.4115905071245,
          338.4115905071245,
          338.4115905071245,
          338.4115905071245,
          338.4115905071245,
          338.4115905071245,
          338.4115905071245,
          338.4115905071245
         ],
         "yaxis": "y"
        },
        {
         "customdata": [
          [
           -3.98,
           0
          ],
          [
           -3.97,
           0
          ],
          [
           -3.95,
           0
          ],
          [
           -3.93,
           0
          ],
          [
           -3.92,
           0
          ],
          [
           -3.9,
           0
          ],
          [
           -3.88,
           0
          ],
          [
           -3.87,
           0
          ],
          [
           -3.85,
           0
          ],
          [
           -3.83,
           0
          ],
          [
           -3.82,
           0
          ],
          [
           -3.8,
           0
          ],
          [
           -3.78,
           0
          ],
          [
           -3.77,
           0
          ],
          [
           -3.75,
           0
          ],
          [
           -3.73,
           0
          ],
          [
           -3.72,
           6.321743153292406
          ],
          [
           -3.7,
           7.901716704134055
          ],
          [
           -3.69,
           15.829673907125823
          ],
          [
           -3.67,
           20.616213098180616
          ],
          [
           -3.65,
           26.891514015582015
          ],
          [
           -3.64,
           41.128992532220096
          ],
          [
           -3.62,
           50.67144134518682
          ],
          [
           -3.6,
           58.438748969885836
          ],
          [
           -3.59,
           77.3116298018401
          ],
          [
           -3.57,
           84.17243090576277
          ],
          [
           -3.55,
           91.50439455004431
          ],
          [
           -3.54,
           98.51400443901136
          ],
          [
           -3.52,
           105.90205539302112
          ],
          [
           -3.5,
           109.2508252874981
          ],
          [
           -3.49,
           109.24469049774089
          ],
          [
           -3.47,
           105.89892640731593
          ],
          [
           -3.45,
           96.62814097347712
          ],
          [
           -3.44,
           88.64235407848446
          ],
          [
           -3.42,
           80.7688888913349
          ],
          [
           -3.4,
           58.42253081798044
          ],
          [
           -3.39,
           47.5324502812549
          ],
          [
           -3.37,
           36.397532773929335
          ],
          [
           -3.35,
           23.696133325267176
          ],
          [
           -3.34,
           0.0018085362901557164
          ],
          [
           -3.32,
           0
          ],
          [
           -3.3,
           0
          ],
          [
           -3.29,
           0
          ],
          [
           -3.27,
           0
          ],
          [
           -3.25,
           0
          ],
          [
           -3.24,
           0
          ],
          [
           -3.22,
           0
          ],
          [
           -3.2,
           0
          ],
          [
           -3.19,
           0
          ],
          [
           -3.17,
           0
          ],
          [
           -3.15,
           0
          ],
          [
           -3.14,
           0
          ],
          [
           -3.12,
           0
          ],
          [
           -3.1,
           0
          ],
          [
           -3.09,
           0
          ],
          [
           -3.07,
           0
          ],
          [
           -3.05,
           0
          ],
          [
           -3.04,
           0
          ],
          [
           -3.02,
           6.335766297390214
          ],
          [
           -3,
           12.634891352470625
          ],
          [
           -2.99,
           12.646489275427696
          ],
          [
           -2.97,
           20.601898104748336
          ],
          [
           -2.95,
           25.284213254684772
          ],
          [
           -2.94,
           30.07689288916165
          ],
          [
           -2.92,
           42.70595537719797
          ],
          [
           -2.9,
           49.09535278217739
          ],
          [
           -2.89,
           56.972093355480666
          ],
          [
           -2.87,
           79.15500930735448
          ],
          [
           -2.86,
           85.43194663490297
          ],
          [
           -2.84,
           99.32323443766055
          ],
          [
           -2.82,
           106.28089624754678
          ],
          [
           -2.81,
           115.53042217246691
          ],
          [
           -2.79,
           151.86181165857752
          ],
          [
           -2.77,
           151.67924326159255
          ],
          [
           -2.76,
           152.31079338296223
          ],
          [
           -2.74,
           152.09210424070469
          ],
          [
           -2.72,
           153.3644346222933
          ],
          [
           -2.71,
           158.89304562527482
          ],
          [
           -2.69,
           170.86695380231984
          ],
          [
           -2.67,
           176.56050626722856
          ],
          [
           -2.66,
           183.01498174388738
          ],
          [
           -2.64,
           189.81520990134365
          ],
          [
           -2.62,
           192.08770128064154
          ],
          [
           -2.61,
           192.6527241393512
          ],
          [
           -2.59,
           193.3728412757876
          ],
          [
           -2.57,
           193.09784281642052
          ],
          [
           -2.56,
           193.0914383278411
          ],
          [
           -2.54,
           194.2665701034828
          ],
          [
           -2.52,
           196.60973526717223
          ],
          [
           -2.51,
           195.97583679752964
          ],
          [
           -2.49,
           37.23834571607204
          ],
          [
           -2.47,
           200
          ],
          [
           -2.46,
           199.33488461379744
          ],
          [
           -2.44,
           200
          ],
          [
           -2.42,
           199.42119335627407
          ],
          [
           -2.41,
           198.53679381448796
          ],
          [
           -2.39,
           199.86625374432387
          ],
          [
           -2.37,
           199.71505218655147
          ],
          [
           -2.36,
           198.98723479026785
          ],
          [
           -2.34,
           199.6463125665015
          ],
          [
           -2.32,
           199.35538045958023
          ],
          [
           -2.31,
           199.30181009414864
          ],
          [
           -2.29,
           199.46000720442777
          ],
          [
           -2.27,
           199.7840271488792
          ],
          [
           -2.26,
           187.94770201984508
          ],
          [
           -2.24,
           188.64407820258452
          ],
          [
           -2.22,
           162.58981777113394
          ],
          [
           -2.21,
           148.60812152554624
          ],
          [
           -2.19,
           95.13190480694821
          ],
          [
           -2.17,
           61.79101540475433
          ],
          [
           -2.16,
           39.3663463840489
          ],
          [
           -2.14,
           20.633694223373837
          ],
          [
           -2.12,
           0
          ],
          [
           -2.11,
           0
          ],
          [
           -2.09,
           0
          ],
          [
           -2.07,
           0
          ],
          [
           -2.06,
           0
          ],
          [
           -2.04,
           0
          ],
          [
           -2.03,
           0
          ],
          [
           -2.01,
           0
          ],
          [
           -1.99,
           0
          ],
          [
           -1.98,
           0
          ],
          [
           -1.96,
           0
          ],
          [
           -1.94,
           0
          ],
          [
           -1.93,
           0
          ],
          [
           -1.91,
           0
          ],
          [
           -1.89,
           0
          ],
          [
           -1.88,
           0
          ],
          [
           -1.86,
           0
          ],
          [
           -1.84,
           15.881430163883708
          ],
          [
           -1.83,
           31.566562497535333
          ],
          [
           -1.81,
           41.09402124274377
          ],
          [
           -1.79,
           49.00454130917665
          ],
          [
           -1.78,
           58.79723177188715
          ],
          [
           -1.76,
           77.0352760990046
          ],
          [
           -1.74,
           85.8950567625265
          ],
          [
           -1.73,
           93.38109760037496
          ],
          [
           -1.71,
           103.76731280020002
          ],
          [
           -1.69,
           108.13306026445319
          ],
          [
           -1.68,
           19.818515029132104
          ],
          [
           -1.66,
           200
          ],
          [
           -1.64,
           101.1549737627825
          ],
          [
           -1.63,
           93.77972365031961
          ],
          [
           -1.61,
           87.51267557832269
          ],
          [
           -1.59,
           79.50463942287841
          ],
          [
           -1.58,
           58.61542140311728
          ],
          [
           -1.56,
           41.02757713711862
          ],
          [
           -1.54,
           0
          ],
          [
           -1.53,
           0
          ],
          [
           -1.51,
           0
          ],
          [
           -1.49,
           0
          ],
          [
           -1.47,
           0
          ],
          [
           -1.46,
           0
          ],
          [
           -1.45,
           0
          ],
          [
           -1.45,
           0
          ],
          [
           -1.44,
           0
          ],
          [
           -1.43,
           0
          ],
          [
           -1.41,
           0
          ],
          [
           -1.39,
           0
          ],
          [
           -1.38,
           0
          ],
          [
           -1.36,
           0
          ],
          [
           -1.34,
           0
          ],
          [
           -1.33,
           0
          ],
          [
           -1.31,
           0
          ],
          [
           -1.29,
           0
          ],
          [
           -1.28,
           0
          ],
          [
           -1.26,
           0
          ],
          [
           -1.24,
           0
          ],
          [
           -1.23,
           0
          ],
          [
           -1.21,
           0
          ],
          [
           -1.2,
           11.065066110971298
          ],
          [
           -1.18,
           14.175639763728006
          ],
          [
           -1.16,
           14.30683453555645
          ],
          [
           -1.15,
           22.11851654057744
          ],
          [
           -1.13,
           26.943169605163707
          ],
          [
           -1.11,
           33.18008776720426
          ],
          [
           -1.1,
           47.38892088350034
          ],
          [
           -1.08,
           55.34434700326
          ],
          [
           -1.06,
           60.189347969935376
          ],
          [
           -1.05,
           76.08785798656241
          ],
          [
           -1.03,
           79.1146612595033
          ],
          [
           -1.01,
           85.39329749230235
          ],
          [
           -1,
           91.87622592483982
          ],
          [
           -0.98,
           102.72948579483004
          ],
          [
           -0.96,
           110.96071309466103
          ],
          [
           -0.95,
           114.94333249777964
          ],
          [
           -0.93,
           152.22601046224312
          ],
          [
           -0.91,
           152.3419010746433
          ],
          [
           -0.9,
           152.05244681167918
          ],
          [
           -0.88,
           151.15853475461518
          ],
          [
           -0.86,
           155.6531545129659
          ],
          [
           -0.85,
           162.6229580977833
          ],
          [
           -0.83,
           168.37434440340763
          ],
          [
           -0.81,
           168.64346470637554
          ],
          [
           -0.8,
           175.17906125587064
          ],
          [
           -0.78,
           178.19739235623274
          ],
          [
           -0.76,
           180.10403029268647
          ],
          [
           -0.75,
           180.64400944545878
          ],
          [
           -0.73,
           183.00306357597646
          ],
          [
           -0.71,
           183.72246382698833
          ],
          [
           -0.7,
           186.47773205741132
          ],
          [
           -0.68,
           187.4566905208303
          ],
          [
           -0.66,
           188.1875137798961
          ],
          [
           -0.65,
           189.86906295055408
          ],
          [
           -0.63,
           189.5006029069392
          ],
          [
           -0.61,
           190.5313626627291
          ],
          [
           -0.6,
           189.948770738827
          ],
          [
           -0.58,
           189.3719464328191
          ],
          [
           -0.56,
           191.47845236105127
          ],
          [
           -0.55,
           192.99004496351813
          ],
          [
           -0.53,
           193.06970096907608
          ],
          [
           -0.51,
           192.72683612496914
          ],
          [
           -0.5,
           192.82278488964567
          ],
          [
           -0.48,
           193.61070701423935
          ],
          [
           -0.46,
           194.4388960474709
          ],
          [
           -0.45,
           194.5071639130019
          ],
          [
           -0.43,
           194.33717280728288
          ],
          [
           -0.42,
           194.15874836645725
          ],
          [
           -0.4,
           192.5488617068508
          ],
          [
           -0.38,
           193.0499878726073
          ],
          [
           -0.37,
           192.88198901666294
          ],
          [
           -0.35,
           193.51045131866587
          ],
          [
           -0.33,
           194.53632543974584
          ],
          [
           -0.32,
           194.7650759988366
          ],
          [
           -0.3,
           194.72092734648584
          ],
          [
           -0.28,
           197.28537235168218
          ],
          [
           -0.27,
           197.45794156401098
          ],
          [
           -0.25,
           195.2313432337113
          ],
          [
           -0.23,
           198.93731023296579
          ],
          [
           -0.22,
           200
          ],
          [
           -0.2,
           200
          ],
          [
           -0.18,
           195.70277999392366
          ],
          [
           -0.17,
           183.45820155393722
          ],
          [
           -0.15,
           183.9456848210775
          ],
          [
           -0.13,
           174.0418221062833
          ],
          [
           -0.12,
           152.27465677927137
          ],
          [
           -0.1,
           143.97024311713074
          ],
          [
           -0.08,
           104.01012416510103
          ],
          [
           -0.07,
           83.80388568335931
          ],
          [
           -0.05,
           39.65759145598367
          ],
          [
           -0.03,
           20.543263072288603
          ],
          [
           -0.02,
           7.9204486767856705
          ],
          [
           0,
           0.00006028090888392744
          ],
          [
           0.02,
           0.000120416641703631
          ],
          [
           0.03,
           0.0009091466487853514
          ],
          [
           0.05,
           0.0001208751361087438
          ],
          [
           0.07,
           0.00012039489516637404
          ],
          [
           0.09,
           0.00007667241704056173
          ],
          [
           0.1,
           0.0005398110666812302
          ],
          [
           0.11,
           0.00015519515779493462
          ],
          [
           0.11,
           0.0005502063279390168
          ],
          [
           0.12,
           0.0005351886535998581
          ],
          [
           0.13,
           0.00012212994638836002
          ],
          [
           0.15,
           0.00006016847156889596
          ],
          [
           0.17,
           0.0001206636501994808
          ],
          [
           0.18,
           0.00012082401972470124
          ],
          [
           0.2,
           0.00011994003010830544
          ],
          [
           0.22,
           0.00011861692654666718
          ],
          [
           0.23,
           8.033483620582727
          ],
          [
           0.25,
           11.109240236070423
          ],
          [
           0.27,
           17.341832501673395
          ],
          [
           0.28,
           23.813518718035944
          ],
          [
           0.3,
           37.790705493123625
          ],
          [
           0.32,
           44.5118175836719
          ],
          [
           0.33,
           52.11535048492674
          ],
          [
           0.35,
           60.294013604741956
          ],
          [
           0.37,
           69.57600200820822
          ],
          [
           0.38,
           75.95473687305402
          ],
          [
           0.4,
           80.50932122841172
          ],
          [
           0.42,
           84.03749178479164
          ],
          [
           0.43,
           85.44443973736621
          ],
          [
           0.45,
           87.07415900178299
          ],
          [
           0.46,
           88.62480600514365
          ],
          [
           0.48,
           88.8294154418774
          ],
          [
           0.5,
           88.19064939145413
          ],
          [
           0.51,
           88.48732347815722
          ],
          [
           0.53,
           90.64190171766325
          ],
          [
           0.55,
           93.40109768860964
          ],
          [
           0.56,
           94.7292423038933
          ],
          [
           0.58,
           96.75163577083659
          ],
          [
           0.6,
           99.35439575715125
          ],
          [
           0.61,
           101.52436402920361
          ],
          [
           0.63,
           106.12751613862987
          ],
          [
           0.65,
           105.85686905646904
          ],
          [
           0.66,
           107.46357356138148
          ],
          [
           0.68,
           114.04170572636787
          ],
          [
           0.7,
           113.79834021906515
          ],
          [
           0.71,
           115.67201471722127
          ],
          [
           0.73,
           115.66015544230075
          ],
          [
           0.75,
           115.33764553708845
          ],
          [
           0.76,
           115.40020259928976
          ],
          [
           0.78,
           115.76748992737163
          ],
          [
           0.8,
           115.30775676978998
          ],
          [
           0.81,
           115.3189930699515
          ],
          [
           0.83,
           114.22542408315275
          ],
          [
           0.85,
           110.38824317658758
          ],
          [
           0.86,
           104.45016430385564
          ],
          [
           0.88,
           99.8052383790518
          ],
          [
           0.9,
           80.6119523860268
          ],
          [
           0.91,
           75.76769892245642
          ],
          [
           0.93,
           64.85742591250396
          ],
          [
           0.95,
           55.35003338603562
          ],
          [
           0.96,
           41.19829400150251
          ],
          [
           0.98,
           33.16644989876293
          ],
          [
           1,
           25.306024001899615
          ],
          [
           1.01,
           11.108272272598326
          ],
          [
           1.03,
           11.074289351108602
          ],
          [
           1.05,
           0.0009949477293365334
          ],
          [
           1.06,
           0
          ],
          [
           1.08,
           0
          ],
          [
           1.1,
           0
          ],
          [
           1.11,
           0
          ],
          [
           1.13,
           0
          ],
          [
           1.15,
           0
          ],
          [
           1.16,
           0
          ],
          [
           1.18,
           6.31669347286634
          ],
          [
           1.2,
           9.515736488089047
          ],
          [
           1.21,
           9.478311644280195
          ],
          [
           1.23,
           17.408495192117027
          ],
          [
           1.25,
           28.497271761946717
          ],
          [
           1.26,
           36.4037883737839
          ],
          [
           1.28,
           44.15984250865846
          ],
          [
           1.29,
           53.72635894537096
          ],
          [
           1.31,
           77.88212729560873
          ],
          [
           1.33,
           88.76746147031432
          ],
          [
           1.34,
           118.472231866413
          ],
          [
           1.36,
           151.80074018140107
          ],
          [
           1.38,
           152.16770915408048
          ],
          [
           1.39,
           153.0256771326833
          ],
          [
           1.41,
           172.95413948998552
          ],
          [
           1.43,
           181.66595779126524
          ],
          [
           1.44,
           190.18999699152
          ],
          [
           1.46,
           197.83824868003956
          ],
          [
           1.48,
           199.09800200706064
          ],
          [
           1.49,
           199.44655045282906
          ],
          [
           1.51,
           199.38536669700426
          ],
          [
           1.53,
           199.15730964937023
          ],
          [
           1.54,
           199.16763393866364
          ],
          [
           1.56,
           199.7852857851034
          ],
          [
           1.58,
           199.2996230597679
          ],
          [
           1.59,
           198.4902985158118
          ],
          [
           1.61,
           200
          ],
          [
           1.63,
           199.5329201529897
          ],
          [
           1.64,
           198.91220475422477
          ],
          [
           1.66,
           198.9318382096904
          ],
          [
           1.68,
           199.83284423883853
          ],
          [
           1.69,
           199.10978279717375
          ],
          [
           1.71,
           199.82272308081858
          ],
          [
           1.73,
           196.69189155211654
          ],
          [
           1.74,
           200
          ],
          [
           1.76,
           199.15496767080657
          ],
          [
           1.78,
           200
          ],
          [
           1.79,
           196.96036438723954
          ],
          [
           1.81,
           192.19152003429588
          ],
          [
           1.83,
           169.24098754384076
          ],
          [
           1.84,
           151.71676261057289
          ],
          [
           1.86,
           152.10473125497532
          ],
          [
           1.88,
           100.87768841446615
          ],
          [
           1.89,
           64.83586360569332
          ],
          [
           1.91,
           65.09412815789373
          ],
          [
           1.93,
           25.250307475733347
          ],
          [
           1.94,
           11.081361595135242
          ],
          [
           1.96,
           0
          ],
          [
           1.98,
           0
          ],
          [
           1.99,
           0
          ],
          [
           2.02,
           0
          ],
          [
           2.02,
           0
          ],
          [
           2.04,
           0
          ],
          [
           2.04,
           0
          ],
          [
           2.04,
           0
          ],
          [
           2.06,
           0
          ],
          [
           2.08,
           0
          ],
          [
           2.09,
           0
          ],
          [
           2.11,
           0
          ],
          [
           2.12,
           0
          ],
          [
           2.14,
           0
          ],
          [
           2.16,
           0
          ],
          [
           2.17,
           0
          ],
          [
           2.19,
           0
          ],
          [
           2.21,
           0
          ],
          [
           2.22,
           0
          ],
          [
           2.24,
           6.3236627443805755
          ],
          [
           2.26,
           6.352689744591966
          ],
          [
           2.27,
           14.234474469800452
          ],
          [
           2.29,
           18.925719447950893
          ],
          [
           2.31,
           28.565200137046794
          ],
          [
           2.32,
           39.52632579560838
          ],
          [
           2.34,
           39.588999667006476
          ],
          [
           2.36,
           49.03631463664153
          ],
          [
           2.37,
           55.4081494808084
          ],
          [
           2.39,
           71.13804418783548
          ],
          [
           2.41,
           75.82150532040755
          ],
          [
           2.42,
           79.2065787852771
          ],
          [
           2.44,
           90.10669428487896
          ],
          [
           2.46,
           96.73743892372013
          ],
          [
           2.47,
           101.37036531491776
          ],
          [
           2.49,
           112.40543130326375
          ],
          [
           2.51,
           115.38830185939257
          ],
          [
           2.52,
           151.6915443192224
          ],
          [
           2.54,
           151.8796826887427
          ],
          [
           2.56,
           152.0624081341804
          ],
          [
           2.57,
           152.11938072869202
          ],
          [
           2.59,
           151.81715360657472
          ],
          [
           2.61,
           152.15306361386612
          ],
          [
           2.62,
           153.31437055776306
          ],
          [
           2.64,
           159.6621801885275
          ],
          [
           2.66,
           159.59062830830328
          ],
          [
           2.67,
           166.8304090654128
          ],
          [
           2.69,
           167.48458147305
          ],
          [
           2.71,
           172.2353191139274
          ],
          [
           2.72,
           173.7230156773365
          ],
          [
           2.74,
           175.7551250492693
          ],
          [
           2.76,
           178.91514729718122
          ],
          [
           2.77,
           179.4287363859923
          ],
          [
           2.79,
           180.37469749888845
          ],
          [
           2.81,
           179.8628521763021
          ],
          [
           2.82,
           181.58005937170134
          ],
          [
           2.84,
           184.10494832979526
          ],
          [
           2.86,
           185.57972599451898
          ],
          [
           2.87,
           187.61281772486646
          ],
          [
           2.89,
           190.14346364591125
          ],
          [
           2.9,
           191.82372385256002
          ],
          [
           2.92,
           192.80050790948263
          ],
          [
           2.94,
           192.99369629886237
          ],
          [
           2.95,
           192.99882400940655
          ],
          [
           2.97,
           193.18202376512588
          ],
          [
           2.99,
           194.07676567547975
          ],
          [
           3,
           194.99266605131524
          ],
          [
           3.02,
           192.89705235091753
          ],
          [
           3.04,
           194.88792778092676
          ],
          [
           3.05,
           194.21454909740953
          ],
          [
           3.07,
           189.58705258582938
          ],
          [
           3.09,
           200
          ],
          [
           3.1,
           193.17691488882605
          ],
          [
           3.12,
           192.97716795525977
          ],
          [
           3.14,
           191.70717632426707
          ],
          [
           3.15,
           186.60234602372586
          ],
          [
           3.17,
           176.81100327051965
          ],
          [
           3.19,
           170.08438646479314
          ],
          [
           3.2,
           169.1012106952282
          ],
          [
           3.22,
           151.87703125378792
          ],
          [
           3.24,
           151.7937290367154
          ],
          [
           3.25,
           129.59501875104831
          ],
          [
           3.27,
           83.86395460439887
          ],
          [
           3.29,
           67.93675066580477
          ],
          [
           3.3,
           46.023527451026595
          ],
          [
           3.32,
           15.765107642864164
          ],
          [
           3.34,
           0.0026116545121227437
          ],
          [
           3.35,
           0
          ],
          [
           3.37,
           0
          ],
          [
           3.39,
           0
          ],
          [
           3.4,
           0
          ],
          [
           3.42,
           0
          ],
          [
           3.44,
           0
          ],
          [
           3.45,
           0
          ]
         ],
         "hovertemplate": "rel_time: %{customdata[0]:.2f} <br>monkey_speed: %{customdata[1]:.2f}",
         "legendgroup": "",
         "marker": {
          "cmax": 200,
          "cmin": 0,
          "color": [
           0,
           0,
           0,
           0,
           0,
           0,
           0,
           0,
           0,
           0,
           0,
           0,
           0,
           0,
           0,
           0,
           6.321743153292406,
           7.901716704134055,
           15.829673907125823,
           20.616213098180616,
           26.891514015582015,
           41.128992532220096,
           50.67144134518682,
           58.438748969885836,
           77.3116298018401,
           84.17243090576277,
           91.50439455004431,
           98.51400443901136,
           105.90205539302112,
           109.2508252874981,
           109.24469049774089,
           105.89892640731593,
           96.62814097347712,
           88.64235407848446,
           80.7688888913349,
           58.42253081798044,
           47.5324502812549,
           36.397532773929335,
           23.696133325267176,
           0.0018085362901557164,
           0,
           0,
           0,
           0,
           0,
           0,
           0,
           0,
           0,
           0,
           0,
           0,
           0,
           0,
           0,
           0,
           0,
           0,
           6.335766297390214,
           12.634891352470625,
           12.646489275427696,
           20.601898104748336,
           25.284213254684772,
           30.07689288916165,
           42.70595537719797,
           49.09535278217739,
           56.972093355480666,
           79.15500930735448,
           85.43194663490297,
           99.32323443766055,
           106.28089624754678,
           115.53042217246691,
           151.86181165857752,
           151.67924326159255,
           152.31079338296223,
           152.09210424070469,
           153.3644346222933,
           158.89304562527482,
           170.86695380231984,
           176.56050626722856,
           183.01498174388738,
           189.81520990134365,
           192.08770128064154,
           192.6527241393512,
           193.3728412757876,
           193.09784281642052,
           193.0914383278411,
           194.2665701034828,
           196.60973526717223,
           195.97583679752964,
           37.23834571607204,
           200,
           199.33488461379744,
           200,
           199.42119335627407,
           198.53679381448796,
           199.86625374432387,
           199.71505218655147,
           198.98723479026785,
           199.6463125665015,
           199.35538045958023,
           199.30181009414864,
           199.46000720442777,
           199.7840271488792,
           187.94770201984508,
           188.64407820258452,
           162.58981777113394,
           148.60812152554624,
           95.13190480694821,
           61.79101540475433,
           39.3663463840489,
           20.633694223373837,
           0,
           0,
           0,
           0,
           0,
           0,
           0,
           0,
           0,
           0,
           0,
           0,
           0,
           0,
           0,
           0,
           0,
           15.881430163883708,
           31.566562497535333,
           41.09402124274377,
           49.00454130917665,
           58.79723177188715,
           77.0352760990046,
           85.8950567625265,
           93.38109760037496,
           103.76731280020002,
           108.13306026445319,
           19.818515029132104,
           200,
           101.1549737627825,
           93.77972365031961,
           87.51267557832269,
           79.50463942287841,
           58.61542140311728,
           41.02757713711862,
           0,
           0,
           0,
           0,
           0,
           0,
           0,
           0,
           0,
           0,
           0,
           0,
           0,
           0,
           0,
           0,
           0,
           0,
           0,
           0,
           0,
           0,
           0,
           11.065066110971298,
           14.175639763728006,
           14.30683453555645,
           22.11851654057744,
           26.943169605163707,
           33.18008776720426,
           47.38892088350034,
           55.34434700326,
           60.189347969935376,
           76.08785798656241,
           79.1146612595033,
           85.39329749230235,
           91.87622592483982,
           102.72948579483004,
           110.96071309466103,
           114.94333249777964,
           152.22601046224312,
           152.3419010746433,
           152.05244681167918,
           151.15853475461518,
           155.6531545129659,
           162.6229580977833,
           168.37434440340763,
           168.64346470637554,
           175.17906125587064,
           178.19739235623274,
           180.10403029268647,
           180.64400944545878,
           183.00306357597646,
           183.72246382698833,
           186.47773205741132,
           187.4566905208303,
           188.1875137798961,
           189.86906295055408,
           189.5006029069392,
           190.5313626627291,
           189.948770738827,
           189.3719464328191,
           191.47845236105127,
           192.99004496351813,
           193.06970096907608,
           192.72683612496914,
           192.82278488964567,
           193.61070701423935,
           194.4388960474709,
           194.5071639130019,
           194.33717280728288,
           194.15874836645725,
           192.5488617068508,
           193.0499878726073,
           192.88198901666294,
           193.51045131866587,
           194.53632543974584,
           194.7650759988366,
           194.72092734648584,
           197.28537235168218,
           197.45794156401098,
           195.2313432337113,
           198.93731023296579,
           200,
           200,
           195.70277999392366,
           183.45820155393722,
           183.9456848210775,
           174.0418221062833,
           152.27465677927137,
           143.97024311713074,
           104.01012416510103,
           83.80388568335931,
           39.65759145598367,
           20.543263072288603,
           7.9204486767856705,
           0.00006028090888392744,
           0.000120416641703631,
           0.0009091466487853514,
           0.0001208751361087438,
           0.00012039489516637404,
           0.00007667241704056173,
           0.0005398110666812302,
           0.00015519515779493462,
           0.0005502063279390168,
           0.0005351886535998581,
           0.00012212994638836002,
           0.00006016847156889596,
           0.0001206636501994808,
           0.00012082401972470124,
           0.00011994003010830544,
           0.00011861692654666718,
           8.033483620582727,
           11.109240236070423,
           17.341832501673395,
           23.813518718035944,
           37.790705493123625,
           44.5118175836719,
           52.11535048492674,
           60.294013604741956,
           69.57600200820822,
           75.95473687305402,
           80.50932122841172,
           84.03749178479164,
           85.44443973736621,
           87.07415900178299,
           88.62480600514365,
           88.8294154418774,
           88.19064939145413,
           88.48732347815722,
           90.64190171766325,
           93.40109768860964,
           94.7292423038933,
           96.75163577083659,
           99.35439575715125,
           101.52436402920361,
           106.12751613862987,
           105.85686905646904,
           107.46357356138148,
           114.04170572636787,
           113.79834021906515,
           115.67201471722127,
           115.66015544230075,
           115.33764553708845,
           115.40020259928976,
           115.76748992737163,
           115.30775676978998,
           115.3189930699515,
           114.22542408315275,
           110.38824317658758,
           104.45016430385564,
           99.8052383790518,
           80.6119523860268,
           75.76769892245642,
           64.85742591250396,
           55.35003338603562,
           41.19829400150251,
           33.16644989876293,
           25.306024001899615,
           11.108272272598326,
           11.074289351108602,
           0.0009949477293365334,
           0,
           0,
           0,
           0,
           0,
           0,
           0,
           6.31669347286634,
           9.515736488089047,
           9.478311644280195,
           17.408495192117027,
           28.497271761946717,
           36.4037883737839,
           44.15984250865846,
           53.72635894537096,
           77.88212729560873,
           88.76746147031432,
           118.472231866413,
           151.80074018140107,
           152.16770915408048,
           153.0256771326833,
           172.95413948998552,
           181.66595779126524,
           190.18999699152,
           197.83824868003956,
           199.09800200706064,
           199.44655045282906,
           199.38536669700426,
           199.15730964937023,
           199.16763393866364,
           199.7852857851034,
           199.2996230597679,
           198.4902985158118,
           200,
           199.5329201529897,
           198.91220475422477,
           198.9318382096904,
           199.83284423883853,
           199.10978279717375,
           199.82272308081858,
           196.69189155211654,
           200,
           199.15496767080657,
           200,
           196.96036438723954,
           192.19152003429588,
           169.24098754384076,
           151.71676261057289,
           152.10473125497532,
           100.87768841446615,
           64.83586360569332,
           65.09412815789373,
           25.250307475733347,
           11.081361595135242,
           0,
           0,
           0,
           0,
           0,
           0,
           0,
           0,
           0,
           0,
           0,
           0,
           0,
           0,
           0,
           0,
           0,
           0,
           0,
           6.3236627443805755,
           6.352689744591966,
           14.234474469800452,
           18.925719447950893,
           28.565200137046794,
           39.52632579560838,
           39.588999667006476,
           49.03631463664153,
           55.4081494808084,
           71.13804418783548,
           75.82150532040755,
           79.2065787852771,
           90.10669428487896,
           96.73743892372013,
           101.37036531491776,
           112.40543130326375,
           115.38830185939257,
           151.6915443192224,
           151.8796826887427,
           152.0624081341804,
           152.11938072869202,
           151.81715360657472,
           152.15306361386612,
           153.31437055776306,
           159.6621801885275,
           159.59062830830328,
           166.8304090654128,
           167.48458147305,
           172.2353191139274,
           173.7230156773365,
           175.7551250492693,
           178.91514729718122,
           179.4287363859923,
           180.37469749888845,
           179.8628521763021,
           181.58005937170134,
           184.10494832979526,
           185.57972599451898,
           187.61281772486646,
           190.14346364591125,
           191.82372385256002,
           192.80050790948263,
           192.99369629886237,
           192.99882400940655,
           193.18202376512588,
           194.07676567547975,
           194.99266605131524,
           192.89705235091753,
           194.88792778092676,
           194.21454909740953,
           189.58705258582938,
           200,
           193.17691488882605,
           192.97716795525977,
           191.70717632426707,
           186.60234602372586,
           176.81100327051965,
           170.08438646479314,
           169.1012106952282,
           151.87703125378792,
           151.7937290367154,
           129.59501875104831,
           83.86395460439887,
           67.93675066580477,
           46.023527451026595,
           15.765107642864164,
           0.0026116545121227437,
           0,
           0,
           0,
           0,
           0,
           0,
           0
          ],
          "colorscale": [
           [
            0,
            "#440154"
           ],
           [
            0.1111111111111111,
            "#482878"
           ],
           [
            0.2222222222222222,
            "#3e4989"
           ],
           [
            0.3333333333333333,
            "#31688e"
           ],
           [
            0.4444444444444444,
            "#26828e"
           ],
           [
            0.5555555555555556,
            "#1f9e89"
           ],
           [
            0.6666666666666666,
            "#35b779"
           ],
           [
            0.7777777777777778,
            "#6ece58"
           ],
           [
            0.8888888888888888,
            "#b5de2b"
           ],
           [
            1,
            "#fde725"
           ]
          ],
          "opacity": 0.8,
          "symbol": "circle"
         },
         "mode": "markers",
         "name": "trajectory_data",
         "orientation": "v",
         "showlegend": false,
         "type": "scatter",
         "x": [
          -239.4035792017375,
          -239.4035792017375,
          -239.4035792017375,
          -239.4035792017375,
          -239.4035792017375,
          -239.4035792017375,
          -239.4035792017375,
          -239.4035792017375,
          -239.4035792017375,
          -239.4035792017375,
          -239.4035792017375,
          -239.4035792017375,
          -239.4035792017375,
          -239.4035792017375,
          -239.4035792017375,
          -239.4035792017375,
          -239.38537100511672,
          -239.36261729981786,
          -239.3174543661527,
          -239.25952558402136,
          -239.18507655287408,
          -239.07362182805903,
          -238.94006264878308,
          -238.79171071804964,
          -238.60451486608932,
          -238.413190325351,
          -238.2176768406608,
          -238.02403901538835,
          -237.83151761700714,
          -237.6502828559231,
          -237.48611373271518,
          -237.34335311047937,
          -237.22858554913802,
          -237.13654579411372,
          -237.06296530744282,
          -237.0163691741581,
          -236.98328745571843,
          -236.9600262900548,
          -236.94567692476323,
          -236.94568022008204,
          -236.94568022008204,
          -236.94568022008204,
          -236.94568022008204,
          -236.94568022008204,
          -236.94568022008204,
          -236.94568022008204,
          -236.94568022008204,
          -236.94568022008204,
          -236.94568022008204,
          -236.94568022008204,
          -236.94568022008204,
          -236.94568022008204,
          -236.94568022008204,
          -236.94568022008204,
          -236.94568022008204,
          -236.94568022008204,
          -236.94568022008204,
          -236.94568022008204,
          -236.9419510424274,
          -236.93452797657523,
          -236.92707810879676,
          -236.91499229155943,
          -236.90013756248027,
          -236.88247640866342,
          -236.85665535366243,
          -236.82587537074582,
          -236.78836840554357,
          -236.73201150798235,
          -236.66569797625468,
          -236.5809193525079,
          -236.4811174707819,
          -236.3607951061949,
          -236.1860122616013,
          -235.99414406754985,
          -235.78320445570264,
          -235.55192863743437,
          -235.29563776183917,
          -235.00384377188382,
          -234.66419024903254,
          -234.2859729500832,
          -233.86106869908522,
          -233.38949451478638,
          -232.88282072018103,
          -232.34050391988433,
          -231.76683021561885,
          -231.1617294654796,
          -230.5273407685488,
          -229.86295844714752,
          -229.16814718729543,
          -228.45109041159702,
          -228.31496068109473,
          -226.9307448658955,
          -226.14192302069694,
          -225.33776021995467,
          -224.5224230156852,
          -223.69858197949662,
          -222.86628036036328,
          -222.02892506675747,
          -221.19145619213026,
          -220.35405654575732,
          -219.52078268580553,
          -218.6997927608368,
          -217.8912280379037,
          -217.1004415040054,
          -216.37578296413648,
          -215.67340024243316,
          -215.08604677603955,
          -214.5676546409578,
          -214.24725858498638,
          -214.04365332165,
          -213.91507938387755,
          -213.84877799485406,
          -213.84877799485406,
          -213.84877799485406,
          -213.84877799485406,
          -213.84877799485406,
          -213.84877799485406,
          -213.84877799485406,
          -213.84877799485406,
          -213.84877799485406,
          -213.84877799485406,
          -213.84877799485406,
          -213.84877799485406,
          -213.84877799485406,
          -213.84877799485406,
          -213.84877799485406,
          -213.84877799485406,
          -213.84877799485406,
          -213.84877799485406,
          -213.79773519213967,
          -213.69573565063698,
          -213.5632124557224,
          -213.40514048828172,
          -213.21646045116245,
          -212.9665924107994,
          -212.69125913007204,
          -212.39202476007551,
          -212.05928509906516,
          -211.7200855685237,
          -211.6578243157669,
          -211.02619710199875,
          -210.7156415940033,
          -210.4327461163422,
          -210.1527236240823,
          -209.93220300704294,
          -209.76053564180484,
          -209.6398088131599,
          -209.6398088131599,
          -209.6398088131599,
          -209.6398088131599,
          -209.6398088131599,
          -209.6398088131599,
          -209.6398088131599,
          -209.6398088131599,
          -209.6398088131599,
          -209.6398088131599,
          -209.6398088131599,
          -209.6398088131599,
          -209.6398088131599,
          -209.6398088131599,
          -209.6398088131599,
          -209.6398088131599,
          -209.6398088131599,
          -209.6398088131599,
          -209.6398088131599,
          -209.6398088131599,
          -209.6398088131599,
          -209.6398088131599,
          -209.6398088131599,
          -209.6398088131599,
          -209.607314736364,
          -209.56550970866425,
          -209.52372983523136,
          -209.45875923248056,
          -209.37988079035358,
          -209.2823612479187,
          -209.14311845244245,
          -208.980527224254,
          -208.80309834642483,
          -208.57664961902591,
          -208.33830288542384,
          -208.07596294984154,
          -207.7891009076559,
          -207.46060246666664,
          -207.09674389310783,
          -206.70586516032637,
          -206.17583475316204,
          -205.6269967056611,
          -205.05870100039317,
          -204.46951885077988,
          -203.84315833775855,
          -203.15909997307924,
          -202.42696818078295,
          -201.659900303003,
          -200.83385463011373,
          -199.9700197863162,
          -199.05875253062658,
          -198.11718447915194,
          -197.12679679077732,
          -196.10482768130422,
          -195.0336639345627,
          -193.93044597145823,
          -192.78645292473323,
          -191.60180278502062,
          -190.38644814013637,
          -189.14289878390278,
          -187.87018963357858,
          -186.56866698567808,
          -185.2293238112081,
          -183.85591445961347,
          -182.45991737451567,
          -181.04202277920368,
          -179.60893025538243,
          -178.1584647270304,
          -176.68221413676682,
          -175.19235635934874,
          -173.6923846695273,
          -172.1967992060011,
          -170.70121462657974,
          -169.20597708303444,
          -167.7157739103509,
          -166.2377168921861,
          -164.76033538795375,
          -163.29641060287054,
          -161.84827612282706,
          -160.39345418346107,
          -158.95285386519265,
          -157.53108686058192,
          -156.11607118863168,
          -154.72185936165664,
          -153.352221360922,
          -152.027305210359,
          -150.81121241932146,
          -149.61907608494286,
          -148.51026546878612,
          -147.56142953279303,
          -146.6775998017328,
          -146.04753568359067,
          -145.54722091308398,
          -145.31380864017913,
          -145.1929800935637,
          -145.1465192959162,
          -145.14651918607225,
          -145.14651896638432,
          -145.1465038374637,
          -145.1465036177758,
          -145.14650339808787,
          -145.14650317839997,
          -145.14650295871203,
          -145.14650273902413,
          -145.1465025193362,
          -145.1465022996483,
          -145.14650207996036,
          -145.14650197011642,
          -145.14650175042848,
          -145.14650153074058,
          -145.14650131105265,
          -145.1465010913647,
          -145.10004095813417,
          -145.03501372770958,
          -144.93357590022873,
          -144.7965972556684,
          -144.58067614783533,
          -144.33574334975523,
          -144.05430298438316,
          -143.74206222846314,
          -143.39557241238649,
          -143.0357017296183,
          -142.674360689381,
          -142.3229824410794,
          -141.9908288911199,
          -141.67983324323797,
          -141.3914838734953,
          -141.1313365815583,
          -140.8995946909636,
          -140.69639657256855,
          -140.5189946964154,
          -140.36586146129625,
          -140.2419419762698,
          -140.1488713268171,
          -140.0868852454435,
          -140.05926598455227,
          -140.06736521771464,
          -140.11252622518498,
          -140.1962006607167,
          -140.32502266553163,
          -140.49382134835443,
          -140.70594389111665,
          -140.95899942234456,
          -141.25268312773426,
          -141.58698434706852,
          -141.96158230912343,
          -142.37633345680257,
          -142.83159399017669,
          -143.31966305318127,
          -143.83884940824584,
          -144.3567390189738,
          -144.88201384302317,
          -145.32070568316126,
          -145.76164808228597,
          -146.15247490464316,
          -146.49717985692192,
          -146.7606751995365,
          -146.97797929686357,
          -147.14609766176963,
          -147.22048656406318,
          -147.2954257069662,
          -147.2954115666412,
          -147.2954115666412,
          -147.2954115666412,
          -147.2954115666412,
          -147.2954115666412,
          -147.2954115666412,
          -147.2954115666412,
          -147.2954115666412,
          -147.3384850555243,
          -147.4029439583107,
          -147.46749874354808,
          -147.5858223635518,
          -147.77940574604565,
          -148.0265447923179,
          -148.32756545293788,
          -148.69259575877362,
          -149.21686894096635,
          -149.81462715297624,
          -150.6126217402675,
          -151.6317884798098,
          -152.64718661500487,
          -153.6697805625931,
          -154.8167682112426,
          -156.02578375477435,
          -157.28817184623037,
          -158.60355824693772,
          -159.93301977899412,
          -161.26836731314168,
          -162.60972237983236,
          -163.95581284932192,
          -165.3085469681149,
          -166.6680876765968,
          -168.03234448313944,
          -169.40433156493336,
          -170.7829888281365,
          -172.1677363832294,
          -173.56065424312413,
          -174.96377220444276,
          -176.37678451441835,
          -177.80105855841344,
          -179.2388035813227,
          -180.6891491742711,
          -182.15604403885547,
          -183.63875718412584,
          -185.14176016830885,
          -186.6574000093879,
          -188.15144793877457,
          -189.49578004455842,
          -190.72303553444092,
          -191.969985019783,
          -192.8128484174807,
          -193.35798572792115,
          -193.90793941375915,
          -194.12324385798513,
          -194.21773147904057,
          -194.21773147904057,
          -194.21773147904057,
          -194.21773147904057,
          -194.21773147904057,
          -194.21773147904057,
          -194.21773147904057,
          -194.21773147904057,
          -194.21773147904057,
          -194.21773147904057,
          -194.21773147904057,
          -194.21773147904057,
          -194.21773147904057,
          -194.21773147904057,
          -194.21773147904057,
          -194.21773147904057,
          -194.21773147904057,
          -194.21773147904057,
          -194.21773147904057,
          -194.21773147904057,
          -194.2716217768789,
          -194.32562825410815,
          -194.446952184111,
          -194.6088705760348,
          -194.85137419568767,
          -195.18851033045934,
          -195.52551273499927,
          -195.9437233717253,
          -196.41544780629255,
          -197.0212668630927,
          -197.66471889326718,
          -198.33185770704264,
          -199.08790271257232,
          -199.89071384379005,
          -200.72534840508868,
          -201.63865909886243,
          -202.5652592852394,
          -203.76437028742964,
          -204.94284047568203,
          -206.0986015757745,
          -207.2325634860494,
          -208.34355076281386,
          -209.4329648134002,
          -210.50976840938537,
          -211.60646336097568,
          -212.67831214276745,
          -213.766185167611,
          -214.83806178053928,
          -215.91109523447568,
          -216.96500196612342,
          -217.9964236064131,
          -219.01331324629345,
          -219.99741900198885,
          -220.95691083759823,
          -221.8812426854984,
          -222.7809156841465,
          -223.65423998936285,
          -224.501690311525,
          -225.3305140920542,
          -226.13438572926887,
          -226.9141672029854,
          -227.66923664569143,
          -228.3936062461507,
          -229.08618337612242,
          -229.754047086891,
          -230.40276626697363,
          -231.02988071513798,
          -231.63241852324737,
          -232.22192433744712,
          -232.79647584620554,
          -233.35859432288635,
          -233.90547475776154,
          -234.4419519557869,
          -234.97369624819697,
          -235.50157273917696,
          -236.016069427745,
          -236.50873839042288,
          -236.98426796959683,
          -237.46511002333298,
          -237.90282887470897,
          -238.34932869194836,
          -238.7382061980866,
          -238.9950894482559,
          -239.20762113429797,
          -239.35291256051755,
          -239.4036133094706,
          -239.40357920173764,
          -239.40357920173764,
          -239.40357920173764,
          -239.40357920173764,
          -239.40357920173764,
          -239.40357920173764,
          -239.40357920173764,
          -239.40357920173764
         ],
         "xaxis": "x",
         "y": [
          -298.8217267149375,
          -298.8217267149375,
          -298.8217267149375,
          -298.8217267149375,
          -298.8217267149375,
          -298.8217267149375,
          -298.8217267149375,
          -298.8217267149375,
          -298.8217267149375,
          -298.8217267149375,
          -298.8217267149375,
          -298.8217267149375,
          -298.8217267149375,
          -298.8217267149375,
          -298.8217267149375,
          -298.8217267149375,
          -298.71808864522944,
          -298.5887322465737,
          -298.32995019146216,
          -297.9935798891096,
          -297.5535690915225,
          -296.8798197575188,
          -296.0499608207644,
          -295.0891594251614,
          -293.81576122766865,
          -292.4373531102922,
          -290.92603285100023,
          -289.3084555841194,
          -287.5599896567824,
          -285.7568219515171,
          -283.9512451109542,
          -282.1970043183023,
          -280.59951015530083,
          -279.1312836991136,
          -277.79423940753674,
          -276.8232058356955,
          -276.0355745830581,
          -275.4319691710877,
          -275.0381875280357,
          -275.03821734650097,
          -275.03821734650097,
          -275.03821734650097,
          -275.03821734650097,
          -275.03821734650097,
          -275.03821734650097,
          -275.03821734650097,
          -275.03821734650097,
          -275.03821734650097,
          -275.03821734650097,
          -275.03821734650097,
          -275.03821734650097,
          -275.03821734650097,
          -275.03821734650097,
          -275.03821734650097,
          -275.03821734650097,
          -275.03821734650097,
          -275.03821734650097,
          -275.03821734650097,
          -274.933071721561,
          -274.7232363539622,
          -274.51315846284535,
          -274.1718134851546,
          -273.7519283972448,
          -273.2534459733993,
          -272.54444196646875,
          -271.73082664845316,
          -270.78577691867895,
          -269.4737259584162,
          -268.05727795146123,
          -266.40442771657104,
          -264.647035093528,
          -262.7338186070746,
          -260.21639110025626,
          -257.7037070190887,
          -255.1902762999517,
          -252.67967551463013,
          -250.1455259851397,
          -247.5068256048123,
          -244.69204883942436,
          -241.79989485026186,
          -238.78449838131905,
          -235.6671343007356,
          -232.52930284908672,
          -229.37093932354628,
          -226.21832797181193,
          -223.07112542074378,
          -219.9301979451921,
          -216.76998740328364,
          -213.58711919137667,
          -210.41091584516442,
          -209.8114473967258,
          -204.02222867765687,
          -200.8070263016535,
          -197.5969118246276,
          -194.38932105971134,
          -191.18368421283103,
          -187.98025607512903,
          -184.7788754428181,
          -181.57703148302954,
          -178.37539517547143,
          -175.17066193517152,
          -171.96429549606808,
          -168.7570006053639,
          -165.5418000495618,
          -162.50100911284548,
          -159.45646761683045,
          -156.81616496420736,
          -154.4014644797846,
          -152.85793591919952,
          -151.854191916034,
          -151.21015179928222,
          -150.87512027840162,
          -150.87512027840162,
          -150.87512027840162,
          -150.87512027840162,
          -150.87512027840162,
          -150.87512027840162,
          -150.87512027840162,
          -150.87512027840162,
          -150.87512027840162,
          -150.87512027840162,
          -150.87512027840162,
          -150.87512027840162,
          -150.87512027840162,
          -150.87512027840162,
          -150.87512027840162,
          -150.87512027840162,
          -150.87512027840162,
          -150.87512027840162,
          -150.61717314362386,
          -150.10177542517408,
          -149.43215029153686,
          -148.63343136959287,
          -147.6800033905883,
          -146.41738458221616,
          -145.02615473120306,
          -143.50575564730246,
          -141.80233743997732,
          -140.05046158551949,
          -139.7285094253246,
          -136.40072391037737,
          -134.74774009420565,
          -133.224737527589,
          -131.6996829639246,
          -130.48466656798354,
          -129.52875985049633,
          -128.8564034298307,
          -128.8564034298307,
          -128.8564034298307,
          -128.8564034298307,
          -128.8564034298307,
          -128.8564034298307,
          -128.8564034298307,
          -128.8564034298307,
          -128.8564034298307,
          -128.8564034298307,
          -128.8564034298307,
          -128.8564034298307,
          -128.8564034298307,
          -128.8564034298307,
          -128.8564034298307,
          -128.8564034298307,
          -128.8564034298307,
          -128.8564034298307,
          -128.8564034298307,
          -128.8564034298307,
          -128.8564034298307,
          -128.8564034298307,
          -128.8564034298307,
          -128.8564034298307,
          -128.67545174100138,
          -128.44261182010285,
          -128.2099995134896,
          -127.84810928756025,
          -127.4088485728843,
          -126.86578333310801,
          -126.09034501491763,
          -125.18489365181678,
          -124.20352673806825,
          -122.96278987065864,
          -121.67161773569359,
          -120.27614295747951,
          -118.7801827314397,
          -117.10555587265424,
          -115.30307343681145,
          -113.4258517433487,
          -110.96071747009414,
          -108.50070107159081,
          -106.04284303988291,
          -103.59241320712275,
          -101.0947855918797,
          -98.47763649400673,
          -95.79068357799926,
          -93.08834809767114,
          -90.29103323685945,
          -87.47960287311449,
          -84.62570871829865,
          -81.78476528974781,
          -78.90282532701471,
          -76.03169782049663,
          -73.12382771253243,
          -70.22720764236176,
          -67.31807575790451,
          -64.39653471981795,
          -61.487896462910896,
          -58.593067788688536,
          -55.70984336082671,
          -52.83899883435458,
          -49.95514796085457,
          -47.05977130685557,
          -44.17739444270831,
          -41.30218224229492,
          -38.43725769472501,
          -35.57835188710411,
          -32.70629986298505,
          -29.839347364210806,
          -26.97713147961732,
          -24.14294339514956,
          -21.30875420688899,
          -18.475210806597296,
          -15.638462014749702,
          -12.796466291188713,
          -9.922520028807126,
          -7.041147690763319,
          -4.152626625017875,
          -1.2115219446305103,
          1.7406478516784523,
          4.698959539281735,
          7.690504922275491,
          10.693967595365978,
          13.704420855978526,
          16.679849602915226,
          19.474313894448137,
          22.27828719856647,
          24.947264447350577,
          27.282626189018256,
          29.50387294205944,
          31.11818566240819,
          32.41831438853988,
          33.03165588526288,
          33.35112173693376,
          33.4739747013911,
          33.473975695339945,
          33.473977683237635,
          33.47397802347592,
          33.47398001137361,
          33.473981999271295,
          33.473983987168985,
          33.473985975066675,
          33.47398796296436,
          33.47398995086205,
          33.47399193875974,
          33.47399392665743,
          33.473994920606266,
          33.473996908503956,
          33.473998896401646,
          33.474000884299336,
          33.47400287219702,
          33.59685892834485,
          33.76880958006885,
          34.03922054635159,
          34.40868797465131,
          35.00170679452227,
          35.6942953675616,
          36.51427969643456,
          37.461972572786124,
          38.56482931752007,
          39.77362631587172,
          41.062814262506826,
          42.41007999943087,
          43.78910563746712,
          45.20005954619997,
          46.641973354988146,
          48.08998287779897,
          49.54281273094923,
          50.999902723841124,
          52.48666985915261,
          54.0288903147918,
          55.59945121689041,
          57.19953432069797,
          58.852424419925974,
          60.53384716228311,
          62.29310435386773,
          64.05303060609685,
          65.83646859898796,
          67.7236867697206,
          69.60701057163952,
          71.51296920479137,
          73.41442784935742,
          75.30929235127452,
          77.19765006819699,
          79.07768779334623,
          80.94903853713102,
          82.81292180539779,
          84.63997100377694,
          86.43022258059088,
          88.08494460741984,
          89.65465946367365,
          90.89221274056733,
          92.07385087653077,
          93.07732099662361,
          93.92943804682535,
          94.55941450452947,
          95.0665779723718,
          95.4516327860728,
          95.61976434799253,
          95.78764181293933,
          95.78763320763802,
          95.78763320763802,
          95.78763320763802,
          95.78763320763802,
          95.78763320763802,
          95.78763320763802,
          95.78763320763802,
          95.78763320763802,
          95.88364354375054,
          96.02731232711206,
          96.17121505823609,
          96.43493802201665,
          96.86641391528562,
          97.41727197485781,
          98.08818608219637,
          98.90403931168404,
          100.0789903662759,
          101.42302344927637,
          103.22307875025987,
          105.5309926076453,
          107.83925058895316,
          110.17157662635208,
          112.79619023818802,
          115.56284575736991,
          118.45165107606482,
          121.46169557612245,
          124.49036685790713,
          127.51885255848919,
          130.54575255489215,
          133.56814845168122,
          136.58863757503497,
          139.60768463500366,
          142.62058151415536,
          145.63396546469744,
          148.64380967485803,
          151.64897052706766,
          154.6506276362151,
          157.64833023553928,
          160.64138554784267,
          163.6279626932082,
          166.60947388939374,
          169.58407235206144,
          172.55213309147717,
          175.51208631363178,
          178.4606956081642,
          181.3714931804694,
          184.17692542968172,
          186.64457733841675,
          188.84833824239777,
          191.03933718822825,
          192.4936720487028,
          193.42272996401366,
          194.34863585568414,
          194.70941487859645,
          194.86738567902262,
          194.86738567902262,
          194.86738567902262,
          194.86738567902262,
          194.86738567902262,
          194.86738567902262,
          194.86738567902262,
          194.86738567902262,
          194.86738567902262,
          194.86738567902262,
          194.86738567902262,
          194.86738567902262,
          194.86738567902262,
          194.86738567902262,
          194.86738567902262,
          194.86738567902262,
          194.86738567902262,
          194.86738567902262,
          194.86738567902262,
          194.86738567902262,
          194.95748440418504,
          195.0477790766596,
          195.25059605474985,
          195.52130189539022,
          195.9267207057583,
          196.49031044328837,
          197.0537173852356,
          197.75287299737226,
          198.5415011895187,
          199.5571405459572,
          200.64133851608506,
          201.77278122158773,
          203.06518674639278,
          204.45103267006863,
          205.91092124898375,
          207.53586168035667,
          209.2154334650659,
          211.43243297594276,
          213.6629781852137,
          215.9031431489485,
          218.15581931055954,
          220.41856075403743,
          222.6944088191345,
          225.0037876015629,
          227.4196174814595,
          229.84579678565603,
          232.3789525876435,
          234.94934862688635,
          237.60261821892433,
          240.29477919387023,
          243.02203568578938,
          245.80966022168963,
          248.60930639070477,
          251.44734317688088,
          254.2931931294628,
          257.1783955845263,
          260.09768506064535,
          263.05231025796706,
          266.06643649225276,
          269.1128371820724,
          272.1944185969931,
          275.3083321916321,
          278.43124102562444,
          281.557883240028,
          284.6934005391235,
          287.85879371072207,
          291.0265902763244,
          294.1742302759342,
          297.35144072513043,
          300.53089813088275,
          303.7270045891715,
          306.89652637259053,
          310.05571791336735,
          313.21411073990464,
          316.34944719411027,
          319.40553340223164,
          322.30630513437774,
          325.0748772482524,
          327.84372859505237,
          330.3276781332441,
          332.81050944091146,
          334.9279281168988,
          336.29633463166823,
          337.4070591208626,
          338.15382530516064,
          338.41156409382194,
          338.4115905071245,
          338.4115905071245,
          338.4115905071245,
          338.4115905071245,
          338.4115905071245,
          338.4115905071245,
          338.4115905071245,
          338.4115905071245
         ],
         "yaxis": "y"
        },
        {
         "hoverinfo": "name",
         "line": {
          "color": "green",
          "width": 4
         },
         "mode": "lines",
         "name": "nxt null arc",
         "opacity": 0.8,
         "showlegend": true,
         "type": "scatter",
         "x": [
          -205.0587015932203,
          -204.34967843948917,
          -203.65131842310453,
          -202.96363018331695,
          -202.2866222273598,
          -201.62030293034275,
          -200.96468053514826,
          -200.31976315233018,
          -199.68555876001304,
          -199.06207520379368,
          -198.4493201966435,
          -197.8473013188138,
          -197.25602601774153,
          -196.67550160795733,
          -196.1057352709953,
          -195.54673405530355,
          -194.9985048761575,
          -194.46105451557415,
          -193.93438962222822,
          -193.4185167113701,
          -192.91344216474485,
          -192.41917223051325,
          -191.93571302317517,
          -191.46307052349297,
          -191.00125057841856,
          -190.55025890102004,
          -190.11010107041176,
          -189.6807825316847,
          -189.26230859584015,
          -188.85468443972258,
          -188.4579151059567,
          -188.0720055028847,
          -187.69696040450535,
          -187.3327844504154,
          -186.97948214575175,
          -186.6370578611359,
          -186.3055158326199,
          -185.98486016163386,
          -185.67509481493536,
          -185.3762236245602,
          -185.08825028777525,
          -184.81117836703208,
          -184.5450112899238,
          -184.28975234914228,
          -184.04540470243697,
          -183.81197137257627,
          -183.5894552473104,
          -183.37785907933514,
          -183.1771854862578,
          -182.98743695056547,
          -182.80861581959334,
          -182.64072430549683,
          -182.48376448522282,
          -182.3377383004856,
          -182.20264755774105,
          -182.07849392816604,
          -181.96527894763634,
          -181.86300401670846,
          -181.77167040060195,
          -181.69127922918406,
          -181.6218314969555,
          -181.56332806303814,
          -181.51576965116467,
          -181.47915684966895,
          -181.4534901114796,
          -181.43876975411422,
          -181.43499595967464,
          -181.44216877484578,
          -181.46028811089414,
          -181.48935374366985,
          -181.52936531360868,
          -181.58032232573663,
          -181.64222414967608,
          -181.71507001965398,
          -181.79885903451074,
          -181.8935901577118,
          -181.99926221736027,
          -182.11587390621128,
          -182.24342378168845,
          -182.3819102659019,
          -182.53133164566697,
          -182.6916860725261,
          -182.86297156277172,
          -183.04518599747027,
          -183.23832712248907,
          -183.44239254852369,
          -183.65737975112756,
          -183.88328607074368,
          -184.1201087127368,
          -184.36784474742856,
          -184.6264911101334,
          -184.89604460119668,
          -185.17650188603432,
          -185.46785949517368,
          -185.77011382429686,
          -186.08326113428507,
          -186.40729755126503,
          -186.74221906665673,
          -187.08802153722317,
          -187.44470068512166
         ],
         "y": [
          -106.04284555376809,
          -103.01238486349594,
          -99.9794491379444,
          -96.94407589686318,
          -93.90630269015693,
          -90.86616709741865,
          -87.82370672746625,
          -84.77895921787686,
          -81.73196223452102,
          -78.68275347109801,
          -75.6313706486675,
          -72.57785151518426,
          -69.5222338450309,
          -66.46455543855014,
          -63.40485412157878,
          -60.34316774497735,
          -57.27953418416358,
          -54.213991338643325,
          -51.14657713154136,
          -48.07732950913383,
          -45.00628644037642,
          -41.93348591643637,
          -38.85896595022189,
          -35.782764575911635,
          -32.70491984848581,
          -29.625469843252915,
          -26.54445265538042,
          -23.461906399423036,
          -20.37786920885079,
          -17.292379235578967,
          -14.205474649493643,
          -11.11719363798119,
          -8.027574405455407,
          -4.93665517288451,
          -1.8444741773199047,
          1.248930328579205,
          4.343520077017448,
          7.439256785537486,
          10.536102157492037,
          13.634017882519965,
          16.732965637018665,
          19.83290708461848,
          22.933803876657464,
          26.03561765265412,
          29.13831004078433,
          32.241842658354464,
          35.34617711227662,
          38.45127499954398,
          41.55709790770424,
          44.66360741533723,
          47.77076509252863,
          50.87853250134575,
          53.986871196313466,
          57.095742724888204,
          60.205108627936,
          63.31493044020676,
          66.42516969081036,
          69.53578790369309,
          72.64674659811197,
          75.75800728911324,
          78.86953148800673,
          81.98128070284258,
          85.0932164388876,
          88.20530019910008,
          91.31749348460825,
          94.42975779518515,
          97.54205462972504,
          100.65434548672036,
          103.7665918647362,
          106.87875526288913,
          109.9907971813219,
          113.10267912167994,
          116.21436258758823,
          119.32580908512577,
          122.4369801233043,
          125.54783721454277,
          128.6583418751439,
          131.7684556257706,
          134.87813999192053,
          137.9873565044043,
          141.0960666998199,
          144.20423212102872,
          147.31181431763193,
          150.41877484644448,
          153.52507527197287,
          156.63067716688937,
          159.73554211250746,
          162.83963169925775,
          165.94290752716137,
          169.04533120630754,
          172.14686435732673,
          175.24746861186603,
          178.34710561306397,
          181.44573701602374,
          184.5433244882895,
          187.63982971031945,
          190.73521437595994,
          193.82944019291995,
          196.922468883243,
          200.0142621837833
         ]
        },
        {
         "hoverinfo": "name",
         "line": {
          "color": "brown",
          "width": 3
         },
         "mode": "lines",
         "name": "cur null arc",
         "opacity": 0.8,
         "showlegend": true,
         "type": "scatter",
         "x": [
          -205.05870167172114,
          -204.71881881136653,
          -204.37268260548942,
          -204.0202997055818,
          -203.66167688317455,
          -203.29682102970762,
          -202.92573915639713,
          -202.54843839410103,
          -202.1649259931819,
          -201.77520932336773,
          -201.37929587361006,
          -200.97719325194046,
          -200.5689091853239,
          -200.1544515195104,
          -199.73382821888475,
          -199.30704736631264,
          -198.87411716298598,
          -198.43504592826483,
          -197.98984209951806,
          -197.53851423196068,
          -197.08107099848988,
          -196.617521189518,
          -196.14787371280383,
          -195.6721375932815,
          -195.19032197288675,
          -194.70243611038163,
          -194.2084893811763,
          -193.70849127714888,
          -193.20245140646333,
          -192.69037949338448,
          -192.1722853780913,
          -191.6481790164879,
          -191.11807048001197,
          -190.5819699554416,
          -190.03988774469917,
          -189.49183426465356,
          -188.93782004692005,
          -188.3778557376577,
          -187.811952097365,
          -187.24012000067307,
          -186.66237043613634,
          -186.07871450602207,
          -185.48916342609635,
          -184.89372852540882,
          -184.29242124607515,
          -183.68525314305688,
          -183.0722358839394,
          -182.45338124870798,
          -181.8287011295212,
          -181.19820753048245,
          -180.56191256740925,
          -179.9198284676005,
          -179.27196756960151,
          -178.61834232296684,
          -177.95896528802095,
          -177.29384913561708,
          -176.62300664689374,
          -175.94645071302887,
          -175.26419433499225,
          -174.57625062329575,
          -173.8826327977414,
          -173.1833541871671,
          -172.4784282291907,
          -171.76786846995182,
          -171.05168856385154,
          -170.32990227328972,
          -169.6025234684007,
          -168.86956612678722,
          -168.13104433325105,
          -167.38697227952275,
          -166.637364263989,
          -165.88223469141775,
          -165.1215980726813,
          -164.35546902447766,
          -163.58386226904943,
          -162.80679263390115,
          -162.0242750515142,
          -161.23632455905982,
          -160.44295629811046,
          -159.64418551434832,
          -158.84002755727275,
          -158.03049787990523,
          -157.21561203849228,
          -156.39538569220664,
          -155.56983460284636,
          -154.73897463453184,
          -153.9028217534011,
          -153.06139202730273,
          -152.21470162548755,
          -151.36276681829742,
          -150.5056039768528,
          -149.6432295727383,
          -148.77566017768584,
          -147.90291246325646,
          -147.0250032005199,
          -146.14194925973217,
          -145.2537676100115,
          -144.3604753190123,
          -143.46208955259698,
          -142.55862757450632
         ],
         "y": [
          -106.0428458866512,
          -104.61558229196848,
          -103.18982233515581,
          -101.76559341418765,
          -100.34292289761744,
          -98.92183812405173,
          -97.50236640162474,
          -96.08453500747372,
          -94.66837118721466,
          -93.25390215441881,
          -91.84115509008974,
          -90.43015714214091,
          -89.02093542487408,
          -87.6135170184583,
          -86.20792896840942,
          -84.80419828507044,
          -83.4023519430925,
          -82.00241688091643,
          -80.60442000025515,
          -79.20838816557674,
          -77.81434820358811,
          -76.42232690271966,
          -75.03235101261022,
          -73.64444724359335,
          -72.25864226618378,
          -70.87496271056511,
          -69.49343516607792,
          -68.11408618070894,
          -66.73694226058075,
          -65.36202986944262,
          -63.98937542816179,
          -62.61900531421582,
          -61.25094586118576,
          -59.88522335825014,
          -58.52186404967955,
          -57.16089413433264,
          -55.80233976515245,
          -54.44622704866397,
          -53.09258204447235,
          -51.741430764762235,
          -50.39279917379783,
          -49.04671318742406,
          -47.7031986725684,
          -46.36228144674394,
          -45.02398727755328,
          -43.68834188219318,
          -42.35537092696064,
          -41.025100026759446,
          -39.697554744608134,
          -38.372760591148605,
          -37.05074302415594,
          -35.73152744804934,
          -34.41513921340373,
          -33.10160361646274,
          -31.79094589865254,
          -30.48319124609687,
          -29.17836478913301,
          -27.876491601828796,
          -26.577596701500887,
          -25.281705048233995,
          -23.9888415444013,
          -22.69903103418566,
          -21.41229830310255,
          -20.12866807752359,
          -18.848165024201357,
          -17.570813749795466,
          -16.296638800399652,
          -15.025664661070197,
          -13.75791575535523,
          -12.493416444825518,
          -11.232191028606415,
          -9.974263742910718,
          -8.719658760572985,
          -7.4684001905851645,
          -6.220512077633108,
          -4.976018401634769,
          -3.734943077278995,
          -2.49730995356648,
          -1.2631428133509992,
          -0.032465372882756825,
          1.19469871864759,
          2.418325879563311,
          3.6383925961547128,
          4.854875423131067,
          6.067750984071043,
          7.276995971872054,
          8.48258714919798,
          9.684501348925911,
          10.882715474591034,
          12.07720650083083,
          13.26795147382715,
          14.454927511747737,
          15.638111805185469,
          16.81748161759709,
          17.993014285739786,
          19.164687220107,
          20.332477905362246,
          21.496363900771915,
          22.656322840636562,
          23.812332434720467
         ]
        }
       ],
       "layout": {
        "autosize": false,
        "coloraxis": {
         "showscale": false
        },
        "height": 700,
        "legend": {
         "tracegroupgap": 0
        },
        "margin": {
         "b": 0,
         "l": 10,
         "r": 10,
         "t": 20
        },
        "shapes": [
         {
          "line": {
           "color": "grey"
          },
          "opacity": 0.45,
          "type": "circle",
          "x0": -1000,
          "x1": 1000,
          "xref": "x",
          "y0": -1000,
          "y1": 1000,
          "yref": "y"
         }
        ],
        "template": {
         "data": {
          "bar": [
           {
            "error_x": {
             "color": "#2a3f5f"
            },
            "error_y": {
             "color": "#2a3f5f"
            },
            "marker": {
             "line": {
              "color": "#E5ECF6",
              "width": 0.5
             },
             "pattern": {
              "fillmode": "overlay",
              "size": 10,
              "solidity": 0.2
             }
            },
            "type": "bar"
           }
          ],
          "barpolar": [
           {
            "marker": {
             "line": {
              "color": "#E5ECF6",
              "width": 0.5
             },
             "pattern": {
              "fillmode": "overlay",
              "size": 10,
              "solidity": 0.2
             }
            },
            "type": "barpolar"
           }
          ],
          "carpet": [
           {
            "aaxis": {
             "endlinecolor": "#2a3f5f",
             "gridcolor": "white",
             "linecolor": "white",
             "minorgridcolor": "white",
             "startlinecolor": "#2a3f5f"
            },
            "baxis": {
             "endlinecolor": "#2a3f5f",
             "gridcolor": "white",
             "linecolor": "white",
             "minorgridcolor": "white",
             "startlinecolor": "#2a3f5f"
            },
            "type": "carpet"
           }
          ],
          "choropleth": [
           {
            "colorbar": {
             "outlinewidth": 0,
             "ticks": ""
            },
            "type": "choropleth"
           }
          ],
          "contour": [
           {
            "colorbar": {
             "outlinewidth": 0,
             "ticks": ""
            },
            "colorscale": [
             [
              0,
              "#0d0887"
             ],
             [
              0.1111111111111111,
              "#46039f"
             ],
             [
              0.2222222222222222,
              "#7201a8"
             ],
             [
              0.3333333333333333,
              "#9c179e"
             ],
             [
              0.4444444444444444,
              "#bd3786"
             ],
             [
              0.5555555555555556,
              "#d8576b"
             ],
             [
              0.6666666666666666,
              "#ed7953"
             ],
             [
              0.7777777777777778,
              "#fb9f3a"
             ],
             [
              0.8888888888888888,
              "#fdca26"
             ],
             [
              1,
              "#f0f921"
             ]
            ],
            "type": "contour"
           }
          ],
          "contourcarpet": [
           {
            "colorbar": {
             "outlinewidth": 0,
             "ticks": ""
            },
            "type": "contourcarpet"
           }
          ],
          "heatmap": [
           {
            "colorbar": {
             "outlinewidth": 0,
             "ticks": ""
            },
            "colorscale": [
             [
              0,
              "#0d0887"
             ],
             [
              0.1111111111111111,
              "#46039f"
             ],
             [
              0.2222222222222222,
              "#7201a8"
             ],
             [
              0.3333333333333333,
              "#9c179e"
             ],
             [
              0.4444444444444444,
              "#bd3786"
             ],
             [
              0.5555555555555556,
              "#d8576b"
             ],
             [
              0.6666666666666666,
              "#ed7953"
             ],
             [
              0.7777777777777778,
              "#fb9f3a"
             ],
             [
              0.8888888888888888,
              "#fdca26"
             ],
             [
              1,
              "#f0f921"
             ]
            ],
            "type": "heatmap"
           }
          ],
          "heatmapgl": [
           {
            "colorbar": {
             "outlinewidth": 0,
             "ticks": ""
            },
            "colorscale": [
             [
              0,
              "#0d0887"
             ],
             [
              0.1111111111111111,
              "#46039f"
             ],
             [
              0.2222222222222222,
              "#7201a8"
             ],
             [
              0.3333333333333333,
              "#9c179e"
             ],
             [
              0.4444444444444444,
              "#bd3786"
             ],
             [
              0.5555555555555556,
              "#d8576b"
             ],
             [
              0.6666666666666666,
              "#ed7953"
             ],
             [
              0.7777777777777778,
              "#fb9f3a"
             ],
             [
              0.8888888888888888,
              "#fdca26"
             ],
             [
              1,
              "#f0f921"
             ]
            ],
            "type": "heatmapgl"
           }
          ],
          "histogram": [
           {
            "marker": {
             "pattern": {
              "fillmode": "overlay",
              "size": 10,
              "solidity": 0.2
             }
            },
            "type": "histogram"
           }
          ],
          "histogram2d": [
           {
            "colorbar": {
             "outlinewidth": 0,
             "ticks": ""
            },
            "colorscale": [
             [
              0,
              "#0d0887"
             ],
             [
              0.1111111111111111,
              "#46039f"
             ],
             [
              0.2222222222222222,
              "#7201a8"
             ],
             [
              0.3333333333333333,
              "#9c179e"
             ],
             [
              0.4444444444444444,
              "#bd3786"
             ],
             [
              0.5555555555555556,
              "#d8576b"
             ],
             [
              0.6666666666666666,
              "#ed7953"
             ],
             [
              0.7777777777777778,
              "#fb9f3a"
             ],
             [
              0.8888888888888888,
              "#fdca26"
             ],
             [
              1,
              "#f0f921"
             ]
            ],
            "type": "histogram2d"
           }
          ],
          "histogram2dcontour": [
           {
            "colorbar": {
             "outlinewidth": 0,
             "ticks": ""
            },
            "colorscale": [
             [
              0,
              "#0d0887"
             ],
             [
              0.1111111111111111,
              "#46039f"
             ],
             [
              0.2222222222222222,
              "#7201a8"
             ],
             [
              0.3333333333333333,
              "#9c179e"
             ],
             [
              0.4444444444444444,
              "#bd3786"
             ],
             [
              0.5555555555555556,
              "#d8576b"
             ],
             [
              0.6666666666666666,
              "#ed7953"
             ],
             [
              0.7777777777777778,
              "#fb9f3a"
             ],
             [
              0.8888888888888888,
              "#fdca26"
             ],
             [
              1,
              "#f0f921"
             ]
            ],
            "type": "histogram2dcontour"
           }
          ],
          "mesh3d": [
           {
            "colorbar": {
             "outlinewidth": 0,
             "ticks": ""
            },
            "type": "mesh3d"
           }
          ],
          "parcoords": [
           {
            "line": {
             "colorbar": {
              "outlinewidth": 0,
              "ticks": ""
             }
            },
            "type": "parcoords"
           }
          ],
          "pie": [
           {
            "automargin": true,
            "type": "pie"
           }
          ],
          "scatter": [
           {
            "fillpattern": {
             "fillmode": "overlay",
             "size": 10,
             "solidity": 0.2
            },
            "type": "scatter"
           }
          ],
          "scatter3d": [
           {
            "line": {
             "colorbar": {
              "outlinewidth": 0,
              "ticks": ""
             }
            },
            "marker": {
             "colorbar": {
              "outlinewidth": 0,
              "ticks": ""
             }
            },
            "type": "scatter3d"
           }
          ],
          "scattercarpet": [
           {
            "marker": {
             "colorbar": {
              "outlinewidth": 0,
              "ticks": ""
             }
            },
            "type": "scattercarpet"
           }
          ],
          "scattergeo": [
           {
            "marker": {
             "colorbar": {
              "outlinewidth": 0,
              "ticks": ""
             }
            },
            "type": "scattergeo"
           }
          ],
          "scattergl": [
           {
            "marker": {
             "colorbar": {
              "outlinewidth": 0,
              "ticks": ""
             }
            },
            "type": "scattergl"
           }
          ],
          "scattermapbox": [
           {
            "marker": {
             "colorbar": {
              "outlinewidth": 0,
              "ticks": ""
             }
            },
            "type": "scattermapbox"
           }
          ],
          "scatterpolar": [
           {
            "marker": {
             "colorbar": {
              "outlinewidth": 0,
              "ticks": ""
             }
            },
            "type": "scatterpolar"
           }
          ],
          "scatterpolargl": [
           {
            "marker": {
             "colorbar": {
              "outlinewidth": 0,
              "ticks": ""
             }
            },
            "type": "scatterpolargl"
           }
          ],
          "scatterternary": [
           {
            "marker": {
             "colorbar": {
              "outlinewidth": 0,
              "ticks": ""
             }
            },
            "type": "scatterternary"
           }
          ],
          "surface": [
           {
            "colorbar": {
             "outlinewidth": 0,
             "ticks": ""
            },
            "colorscale": [
             [
              0,
              "#0d0887"
             ],
             [
              0.1111111111111111,
              "#46039f"
             ],
             [
              0.2222222222222222,
              "#7201a8"
             ],
             [
              0.3333333333333333,
              "#9c179e"
             ],
             [
              0.4444444444444444,
              "#bd3786"
             ],
             [
              0.5555555555555556,
              "#d8576b"
             ],
             [
              0.6666666666666666,
              "#ed7953"
             ],
             [
              0.7777777777777778,
              "#fb9f3a"
             ],
             [
              0.8888888888888888,
              "#fdca26"
             ],
             [
              1,
              "#f0f921"
             ]
            ],
            "type": "surface"
           }
          ],
          "table": [
           {
            "cells": {
             "fill": {
              "color": "#EBF0F8"
             },
             "line": {
              "color": "white"
             }
            },
            "header": {
             "fill": {
              "color": "#C8D4E3"
             },
             "line": {
              "color": "white"
             }
            },
            "type": "table"
           }
          ]
         },
         "layout": {
          "annotationdefaults": {
           "arrowcolor": "#2a3f5f",
           "arrowhead": 0,
           "arrowwidth": 1
          },
          "autotypenumbers": "strict",
          "coloraxis": {
           "colorbar": {
            "outlinewidth": 0,
            "ticks": ""
           }
          },
          "colorscale": {
           "diverging": [
            [
             0,
             "#8e0152"
            ],
            [
             0.1,
             "#c51b7d"
            ],
            [
             0.2,
             "#de77ae"
            ],
            [
             0.3,
             "#f1b6da"
            ],
            [
             0.4,
             "#fde0ef"
            ],
            [
             0.5,
             "#f7f7f7"
            ],
            [
             0.6,
             "#e6f5d0"
            ],
            [
             0.7,
             "#b8e186"
            ],
            [
             0.8,
             "#7fbc41"
            ],
            [
             0.9,
             "#4d9221"
            ],
            [
             1,
             "#276419"
            ]
           ],
           "sequential": [
            [
             0,
             "#0d0887"
            ],
            [
             0.1111111111111111,
             "#46039f"
            ],
            [
             0.2222222222222222,
             "#7201a8"
            ],
            [
             0.3333333333333333,
             "#9c179e"
            ],
            [
             0.4444444444444444,
             "#bd3786"
            ],
            [
             0.5555555555555556,
             "#d8576b"
            ],
            [
             0.6666666666666666,
             "#ed7953"
            ],
            [
             0.7777777777777778,
             "#fb9f3a"
            ],
            [
             0.8888888888888888,
             "#fdca26"
            ],
            [
             1,
             "#f0f921"
            ]
           ],
           "sequentialminus": [
            [
             0,
             "#0d0887"
            ],
            [
             0.1111111111111111,
             "#46039f"
            ],
            [
             0.2222222222222222,
             "#7201a8"
            ],
            [
             0.3333333333333333,
             "#9c179e"
            ],
            [
             0.4444444444444444,
             "#bd3786"
            ],
            [
             0.5555555555555556,
             "#d8576b"
            ],
            [
             0.6666666666666666,
             "#ed7953"
            ],
            [
             0.7777777777777778,
             "#fb9f3a"
            ],
            [
             0.8888888888888888,
             "#fdca26"
            ],
            [
             1,
             "#f0f921"
            ]
           ]
          },
          "colorway": [
           "#636efa",
           "#EF553B",
           "#00cc96",
           "#ab63fa",
           "#FFA15A",
           "#19d3f3",
           "#FF6692",
           "#B6E880",
           "#FF97FF",
           "#FECB52"
          ],
          "font": {
           "color": "#2a3f5f"
          },
          "geo": {
           "bgcolor": "white",
           "lakecolor": "white",
           "landcolor": "#E5ECF6",
           "showlakes": true,
           "showland": true,
           "subunitcolor": "white"
          },
          "hoverlabel": {
           "align": "left"
          },
          "hovermode": "closest",
          "mapbox": {
           "style": "light"
          },
          "paper_bgcolor": "white",
          "plot_bgcolor": "#E5ECF6",
          "polar": {
           "angularaxis": {
            "gridcolor": "white",
            "linecolor": "white",
            "ticks": ""
           },
           "bgcolor": "#E5ECF6",
           "radialaxis": {
            "gridcolor": "white",
            "linecolor": "white",
            "ticks": ""
           }
          },
          "scene": {
           "xaxis": {
            "backgroundcolor": "#E5ECF6",
            "gridcolor": "white",
            "gridwidth": 2,
            "linecolor": "white",
            "showbackground": true,
            "ticks": "",
            "zerolinecolor": "white"
           },
           "yaxis": {
            "backgroundcolor": "#E5ECF6",
            "gridcolor": "white",
            "gridwidth": 2,
            "linecolor": "white",
            "showbackground": true,
            "ticks": "",
            "zerolinecolor": "white"
           },
           "zaxis": {
            "backgroundcolor": "#E5ECF6",
            "gridcolor": "white",
            "gridwidth": 2,
            "linecolor": "white",
            "showbackground": true,
            "ticks": "",
            "zerolinecolor": "white"
           }
          },
          "shapedefaults": {
           "line": {
            "color": "#2a3f5f"
           }
          },
          "ternary": {
           "aaxis": {
            "gridcolor": "white",
            "linecolor": "white",
            "ticks": ""
           },
           "baxis": {
            "gridcolor": "white",
            "linecolor": "white",
            "ticks": ""
           },
           "bgcolor": "#E5ECF6",
           "caxis": {
            "gridcolor": "white",
            "linecolor": "white",
            "ticks": ""
           }
          },
          "title": {
           "x": 0.05
          },
          "xaxis": {
           "automargin": true,
           "gridcolor": "white",
           "linecolor": "white",
           "ticks": "",
           "title": {
            "standoff": 15
           },
           "zerolinecolor": "white",
           "zerolinewidth": 2
          },
          "yaxis": {
           "automargin": true,
           "gridcolor": "white",
           "linecolor": "white",
           "ticks": "",
           "title": {
            "standoff": 15
           },
           "zerolinecolor": "white",
           "zerolinewidth": 2
          }
         }
        },
        "width": 900,
        "xaxis": {
         "anchor": "y",
         "domain": [
          0,
          1
         ],
         "range": [
          -339.4036133094706,
          -40.05926598455227
         ],
         "title": {
          "text": "monkey x after rotation (cm)"
         }
        },
        "yaxis": {
         "anchor": "x",
         "domain": [
          0,
          1
         ],
         "range": [
          -348.8217267149375,
          788.4115905071245
         ],
         "scaleanchor": "x",
         "scaleratio": 1,
         "title": {
          "text": "monkey y after rotation (cm)"
         }
        }
       }
      }
     },
     "metadata": {},
     "output_type": "display_data"
    }
   ],
   "source": [
    "current_i = snf.make_individual_plotly_plots(current_i, max_num_plot_to_make=1, \n",
    "                                             show_eye_positions_for_both_eyes=True)"
   ]
  },
  {
   "cell_type": "markdown",
   "metadata": {},
   "source": [
    "# Dash"
   ]
  },
  {
   "cell_type": "markdown",
   "metadata": {},
   "source": [
    "## main"
   ]
  },
  {
   "cell_type": "code",
   "execution_count": 29,
   "metadata": {},
   "outputs": [],
   "source": [
    "raw_data_folder_path = 'all_monkey_data/raw_monkey_data/monkey_Bruno/data_0326'"
   ]
  },
  {
   "cell_type": "code",
   "execution_count": null,
   "metadata": {},
   "outputs": [],
   "source": [
    "gc.collect()"
   ]
  },
  {
   "cell_type": "code",
   "execution_count": null,
   "metadata": {},
   "outputs": [],
   "source": [
    "test_or_control='test'\n",
    "\n",
    "\n",
    "ref_point_params = {'ref_point_mode': 'time after cur ff visible',\n",
    "                    'ref_point_value': 0}\n",
    "\n",
    "\n",
    "curv_of_traj_params = {'curv_of_traj_mode': 'distance',\n",
    "                        'window_for_curv_of_traj': [-25, 25],\n",
    "                        'truncate_curv_of_traj_by_time_of_capture': False}\n",
    "\n",
    "\n",
    "overall_params = {'eliminate_outliers': True,\n",
    "                  'use_curvature_to_ff_center': False,\n",
    "                  'normalize': False,\n",
    "                  'remove_i_o_modify_rows_with_big_ff_angles': True,\n",
    "                  'change_units_to_degrees_per_m': True,\n",
    "                  'heading_instead_of_curv': True}  \n",
    "\n",
    "\n",
    "scatter_plot_params = {\n",
    "    \"use_two_y_axes\": False,\n",
    "    \"show_nxt_ff_curv_in_scatterplot\": True,\n",
    "    \"show_cur_ff_curv_in_scatterplot\": True,\n",
    "}\n",
    "\n",
    "monkey_plot_params = {\n",
    "    \"show_visible_fireflies\": True,\n",
    "    \"show_in_memory_fireflies\": False,\n",
    "    \"show_monkey_heading\": False,\n",
    "    \"show_visible_segments\": True,\n",
    "    \"show_traj_portion\": True,\n",
    "    \"show_null_arcs_to_ff\": True,\n",
    "    \"show_stops\": True,\n",
    "    \"show_all_eye_positions\": False,\n",
    "    \"show_current_eye_positions\": True,\n",
    "    \"show_eye_positions_for_both_eyes\": True,\n",
    "}\n",
    "     \n",
    "#data_item_info = find_stops_near_ff_utils.extract_key_info_from_data_item_for_stops_near_ff_class(data_item)                       \n",
    "dc = dash_main_class.DashMainPlots(raw_data_folder_path=raw_data_folder_path)\n",
    "\n",
    "\n",
    "dc.prepare_to_make_dash_for_main_plots(monkey_plot_params=monkey_plot_params,\n",
    "                                        scatter_plot_params=scatter_plot_params,\n",
    "                                        ref_point_params=ref_point_params,\n",
    "                                        curv_of_traj_params=curv_of_traj_params,\n",
    "                                        overall_params=overall_params,\n",
    "                                        stops_near_ff_df_exists_ok=True,\n",
    "                                        test_or_control=test_or_control)\n",
    "\n",
    "\n"
   ]
  },
  {
   "cell_type": "code",
   "execution_count": null,
   "metadata": {},
   "outputs": [],
   "source": [
    "dc.fig.show()\n",
    "dc.fig_scatter_combd.show()"
   ]
  },
  {
   "cell_type": "code",
   "execution_count": null,
   "metadata": {},
   "outputs": [],
   "source": [
    "gc.collect()"
   ]
  },
  {
   "cell_type": "code",
   "execution_count": null,
   "metadata": {},
   "outputs": [],
   "source": [
    "dc.get_more_monkey_data()"
   ]
  },
  {
   "cell_type": "markdown",
   "metadata": {},
   "source": [
    "### dash"
   ]
  },
  {
   "cell_type": "code",
   "execution_count": null,
   "metadata": {},
   "outputs": [],
   "source": [
    "dc.make_dash_for_main_plots(show_trajectory_scatter_plot=True, show_shuffled_correlation_plot=False) "
   ]
  },
  {
   "cell_type": "markdown",
   "metadata": {},
   "source": [
    "### clean up"
   ]
  },
  {
   "cell_type": "code",
   "execution_count": null,
   "metadata": {},
   "outputs": [],
   "source": [
    "# dc.app.server.shutdown()"
   ]
  },
  {
   "cell_type": "code",
   "execution_count": null,
   "metadata": {},
   "outputs": [],
   "source": [
    "import gc\n",
    "\n",
    "# Now we're done with the data, so we can delete it and run the garbage collector.\n",
    "del dc.app\n",
    "gc.collect()"
   ]
  },
  {
   "cell_type": "markdown",
   "metadata": {},
   "source": [
    "### more fig"
   ]
  },
  {
   "cell_type": "code",
   "execution_count": null,
   "metadata": {},
   "outputs": [],
   "source": [
    "for index, row in dc.stops_near_ff_df_counted.iterrows():\n",
    "    dc.stops_near_ff_row = row\n",
    "    dc.stop_point_index = row.stop_point_index\n",
    "    dc._prepare_to_make_plotly_fig_for_dash_given_stop_point_index(dc.stop_point_index)\n",
    "    dc.fig = dc._produce_fig_for_dash()\n",
    "    dc.fig.show()\n",
    "\n",
    "    if index == 2:\n",
    "        break\n"
   ]
  },
  {
   "cell_type": "markdown",
   "metadata": {},
   "source": [
    "## for eye positions"
   ]
  },
  {
   "cell_type": "code",
   "execution_count": null,
   "metadata": {},
   "outputs": [],
   "source": [
    "from numpy import linalg as LA\n",
    "\n",
    "monkey_height = -10\n",
    "\n",
    "values = np.arange(-99, 99, 1)\n",
    "\n",
    "gaze_world_x = np.repeat(values, len(values))\n",
    "gaze_world_y = np.repeat(values.reshape([1, -1]), len(values), axis=0).reshape(-1)\n",
    "\n",
    "\n",
    "body_theta = np.random.uniform(-pi, pi, len(gaze_world_x))\n",
    "body_x = np.random.uniform(-100, 100, len(gaze_world_x))\n",
    "body_y = np.random.uniform(-100, 100, len(gaze_world_x))\n",
    "\n",
    "\n",
    "gaze_mky_view_x = gaze_world_x - body_x\n",
    "gaze_mky_view_y = gaze_world_y - body_y\n",
    "gaze_mky_view_xy = np.stack((gaze_mky_view_x, gaze_mky_view_y), axis=1)\n",
    "gaze_mky_view_r = LA.norm(gaze_mky_view_xy, axis=1)\n",
    "\n",
    "theta_to_north = np.arctan((gaze_world_x - body_x) / np.sqrt(monkey_height**2 + (gaze_world_y-body_y)**2))\n",
    "to_adjust = np.where(gaze_mky_view_y < 0)[0]\n",
    "# \n",
    "theta_to_north[to_adjust] = np.sign(theta_to_north[to_adjust]) * (pi - np.abs(theta_to_north[to_adjust]))\n",
    "\n",
    "\n",
    "hor_theta = theta_to_north\n",
    "ver_theta = np.arctan(monkey_height / gaze_mky_view_r)\n",
    "\n",
    "gaze_mky_view_x_recovered, gaze_mky_view_y_recovered, _, gaze_world_x_recovered, gaze_world_y_recovered \\\n",
    "    = eye_positions.apply_formulas_to_convert_eye_position_to_ff_position(hor_theta, ver_theta, body_theta, monkey_height, body_x, body_y,\n",
    "                        interocular_dist=0, rotate_world_xy_based_on_m_angle_to_get_abs_coord=False)\n",
    "\n",
    "plt.scatter(gaze_world_x, gaze_world_x_recovered)\n",
    "plt.show()"
   ]
  },
  {
   "cell_type": "code",
   "execution_count": null,
   "metadata": {},
   "outputs": [],
   "source": [
    "gaze_mky_view_y = dc.monkey_information['gaze_mky_view_y'].values\n",
    "gaze_mky_view_y[gaze_mky_view_y < 0] = 0\n",
    "gaze_mky_view_y[gaze_mky_view_y > 1500] = 1500\n",
    "sns.histplot(gaze_mky_view_y, binwidth=20)\n",
    "plt.show()\n"
   ]
  },
  {
   "cell_type": "code",
   "execution_count": null,
   "metadata": {},
   "outputs": [],
   "source": [
    "sns.histplot(theta_to_north[np.where(np.abs(ver_theta + 0.29414615) < 0.01 )], bins=50)\n",
    "plt.show()"
   ]
  },
  {
   "cell_type": "code",
   "execution_count": null,
   "metadata": {},
   "outputs": [],
   "source": [
    "ab = theta_to_north[np.where(np.abs(ver_theta + 0.29414615) < 0.01 )]\n",
    "max(ab[ab < 1.57])"
   ]
  },
  {
   "cell_type": "code",
   "execution_count": null,
   "metadata": {},
   "outputs": [],
   "source": [
    "ab = theta_to_north[np.where(np.abs(ver_theta + 0.29414615) < 0.01 )]\n",
    "min(ab[ab > 1.57])"
   ]
  },
  {
   "cell_type": "markdown",
   "metadata": {},
   "source": [
    "# Diff in distance"
   ]
  },
  {
   "cell_type": "code",
   "execution_count": null,
   "metadata": {},
   "outputs": [],
   "source": [
    "dc.stops_near_ff_df['d_from_cur_ff_to_nxt_ff'].max()"
   ]
  },
  {
   "cell_type": "code",
   "execution_count": 42,
   "metadata": {},
   "outputs": [],
   "source": [
    "dc.make_stops_near_ff_df_test(exists_ok=True)\n",
    "dc.make_stops_near_ff_df_ctrl(exists_ok=True)"
   ]
  },
  {
   "cell_type": "code",
   "execution_count": null,
   "metadata": {},
   "outputs": [],
   "source": [
    "sns.histplot(dc.stops_near_ff_df_test['d_from_cur_ff_to_nxt_ff'], binwidth=20, stat='density', alpha=0.5, color='orange')\n",
    "sns.histplot(dc.stops_near_ff_df_ctrl['d_from_cur_ff_to_nxt_ff'], binwidth=20, stat='density', alpha=0.5, color='blue')\n",
    "plt.show()\n"
   ]
  },
  {
   "cell_type": "markdown",
   "metadata": {},
   "source": [
    "# Scatterplot for heading_info_df"
   ]
  },
  {
   "cell_type": "code",
   "execution_count": null,
   "metadata": {},
   "outputs": [],
   "source": [
    "normalize = False\n",
    "eliminate_outliers = False\n",
    "use_curvature_to_ff_center = False\n",
    "\n",
    "# oh...curv_of_traj doesn't matter if we're only looking at heading. \n",
    "# but we can def play around with the hyperparameters for ref_point\n",
    "curv_of_traj_mode = 'specific index'\n",
    "curv_of_traj_mode = 'distance'\n",
    "window_for_curv_of_traj = [-25, 25]\n",
    "\n",
    "# data_item_info = find_stops_near_ff_utils.extract_key_info_from_data_item_for_stops_near_ff_class(data_item)\n",
    "\n",
    "snf = stops_near_ff_based_on_ref_class.StopsNearFFBasedOnRef(raw_data_folder_path=raw_data_folder_path)\n",
    "snf.get_more_monkey_data()\n",
    "snf.traj_curv_descr = 'Traj Curv: From Current Point to Right Before Stop'\n",
    "\n",
    "snf.streamline_organizing_info(ref_point_mode='distance', ref_point_value=-150, \n",
    "                               curv_of_traj_mode=curv_of_traj_mode, window_for_curv_of_traj=window_for_curv_of_traj,\n",
    "                               truncate_curv_of_traj_by_time_of_capture=False,\n",
    "                               use_curvature_to_ff_center=use_curvature_to_ff_center,  eliminate_outliers=eliminate_outliers)\n",
    "snf.ax_for_corr = snf.find_relationships_from_info(normalize=normalize, show_plot=True)\n",
    "snf.get_null_arc_info_for_counted_points(use_fixed_arc_length=False)"
   ]
  },
  {
   "cell_type": "markdown",
   "metadata": {},
   "source": [
    "## normal"
   ]
  },
  {
   "cell_type": "code",
   "execution_count": null,
   "metadata": {},
   "outputs": [],
   "source": [
    "snf._make_cur_and_nxt_ff_df()\n",
    "snf._make_heading_info_df()"
   ]
  },
  {
   "cell_type": "code",
   "execution_count": null,
   "metadata": {},
   "outputs": [],
   "source": [
    "ang_traj_nxt, ang_cur_nxt, heading_info_df_no_na = show_planning_utils.get_ang_traj_nxt_and_ang_cur_nxt(snf.heading_info_df.copy())"
   ]
  },
  {
   "cell_type": "code",
   "execution_count": 54,
   "metadata": {},
   "outputs": [],
   "source": [
    "# ang_traj_nxt, ang_cur_nxt, heading_info_df_no_na = show_planning_utils.get_ang_traj_nxt_and_ang_cur_nxt(dsp.combd_heading_df_x_sessions.copy())"
   ]
  },
  {
   "cell_type": "code",
   "execution_count": null,
   "metadata": {},
   "outputs": [],
   "source": [
    "slope, intercept, r_value, p_value, results = show_planning_utils.conduct_linear_regression_to_show_planning(ang_traj_nxt, ang_cur_nxt, fit_intercept=True)\n",
    "slope, intercept, r_value, p_value, results = show_planning_utils.conduct_linear_regression_to_show_planning(ang_traj_nxt, ang_cur_nxt, fit_intercept=True, omit_outliers=True)\n",
    "slope, intercept, r_value, p_value, results = show_planning_utils.conduct_linear_regression_to_show_planning(ang_traj_nxt, ang_cur_nxt, fit_intercept=False)\n",
    "slope, intercept, r_value, p_value, results = show_planning_utils.conduct_linear_regression_to_show_planning(ang_traj_nxt, ang_cur_nxt, fit_intercept=False, omit_outliers=True)"
   ]
  },
  {
   "cell_type": "markdown",
   "metadata": {},
   "source": [
    "## Q13 only"
   ]
  },
  {
   "cell_type": "code",
   "execution_count": null,
   "metadata": {},
   "outputs": [],
   "source": [
    "slope, intercept, r_value, p_value, results = show_planning_utils.conduct_linear_regression_to_show_planning(ang_traj_nxt, ang_cur_nxt, q13_only=True, fit_intercept=True)\n",
    "slope, intercept, r_value, p_value, results = show_planning_utils.conduct_linear_regression_to_show_planning(ang_traj_nxt, ang_cur_nxt, q13_only=True, fit_intercept=True, omit_outliers=True)\n",
    "slope, intercept, r_value, p_value, results = show_planning_utils.conduct_linear_regression_to_show_planning(ang_traj_nxt, ang_cur_nxt, q13_only=True, fit_intercept=False)\n",
    "slope, intercept, r_value, p_value, results = show_planning_utils.conduct_linear_regression_to_show_planning(ang_traj_nxt, ang_cur_nxt, q13_only=True, fit_intercept=False, omit_outliers=True)"
   ]
  },
  {
   "cell_type": "markdown",
   "metadata": {},
   "source": [
    "## Abs value"
   ]
  },
  {
   "cell_type": "code",
   "execution_count": null,
   "metadata": {},
   "outputs": [],
   "source": [
    "slope, intercept, r_value, p_value, results = show_planning_utils.conduct_linear_regression_to_show_planning(ang_traj_nxt, ang_cur_nxt, use_abs_values=True, fit_intercept=True)\n",
    "slope, intercept, r_value, p_value, results = show_planning_utils.conduct_linear_regression_to_show_planning(ang_traj_nxt, ang_cur_nxt, use_abs_values=True, fit_intercept=True, omit_outliers=True)\n",
    "slope, intercept, r_value, p_value, results = show_planning_utils.conduct_linear_regression_to_show_planning(ang_traj_nxt, ang_cur_nxt, use_abs_values=True, fit_intercept=False)\n",
    "slope, intercept, r_value, p_value, results = show_planning_utils.conduct_linear_regression_to_show_planning(ang_traj_nxt, ang_cur_nxt, use_abs_values=True, fit_intercept=False, omit_outliers=True)"
   ]
  },
  {
   "cell_type": "markdown",
   "metadata": {},
   "source": [
    "# Under-turn?"
   ]
  },
  {
   "cell_type": "code",
   "execution_count": 69,
   "metadata": {},
   "outputs": [],
   "source": [
    "# for 4 ff\n",
    "ref_point_mode = 'distance'\n",
    "ref_point_value = -150\n",
    "\n",
    "ps = monkey_plan_factors_x_sess_class.PlanAcrossSessions()\n",
    "ps.initialize_monkey_sessions_df_for_one_monkey()\n",
    "ps.get_combd_heading_df_x_sessions_across_sessions(\n",
    "                        ref_point_mode=ref_point_mode, \n",
    "                        ref_point_value=ref_point_value,\n",
    "                        save_data=True)\n"
   ]
  },
  {
   "cell_type": "code",
   "execution_count": null,
   "metadata": {},
   "outputs": [],
   "source": [
    "# control\n",
    "(180/math.pi * (np.abs(ps.combd_heading_df_x_sessions_ctrl['cur_d_heading_of_arc']) - np.abs(ps.combd_heading_df_x_sessions_ctrl['d_heading_of_traj']))).describe()"
   ]
  },
  {
   "cell_type": "code",
   "execution_count": null,
   "metadata": {},
   "outputs": [],
   "source": [
    "# test\n",
    "(180/math.pi * (np.abs(ps.combd_heading_df_x_sessions_test['cur_d_heading_of_arc']) - np.abs(ps.combd_heading_df_x_sessions_test['d_heading_of_traj']))).describe()"
   ]
  },
  {
   "cell_type": "code",
   "execution_count": null,
   "metadata": {},
   "outputs": [],
   "source": [
    "(180/math.pi * ps.combd_heading_df_x_sessions_test[['cur_d_heading_of_arc', 'd_heading_of_traj']]).describe()"
   ]
  },
  {
   "cell_type": "code",
   "execution_count": null,
   "metadata": {},
   "outputs": [],
   "source": [
    "(180/math.pi * np.abs(ps.combd_heading_df_x_sessions_test[['cur_d_heading_of_arc', 'd_heading_of_traj']])).describe()"
   ]
  },
  {
   "cell_type": "code",
   "execution_count": null,
   "metadata": {},
   "outputs": [],
   "source": [
    "(180/math.pi * (np.abs(ps.combd_heading_df_x_sessions_test['cur_d_heading_of_arc']) - np.abs(ps.combd_heading_df_x_sessions_test['d_heading_of_traj']))).describe()"
   ]
  },
  {
   "cell_type": "code",
   "execution_count": 75,
   "metadata": {},
   "outputs": [],
   "source": [
    "num_rows_mismatched_signs = np.abs((np.sign(ps.combd_heading_df_x_sessions_test['cur_d_heading_of_arc']) - np.sign(ps.combd_heading_df_x_sessions_test['d_heading_of_traj']))).sum()/2"
   ]
  },
  {
   "cell_type": "code",
   "execution_count": null,
   "metadata": {},
   "outputs": [],
   "source": [
    "num_rows_mismatched_signs"
   ]
  },
  {
   "cell_type": "code",
   "execution_count": null,
   "metadata": {},
   "outputs": [],
   "source": [
    "num_rows_mismatched_signs/len(ps.combd_heading_df_x_sessions_test)"
   ]
  },
  {
   "cell_type": "markdown",
   "metadata": {},
   "source": [
    "## Monkey Bruno prefers to turn left"
   ]
  },
  {
   "cell_type": "code",
   "execution_count": 78,
   "metadata": {},
   "outputs": [],
   "source": [
    "monkey_dw = dc.monkey_information['monkey_dw'].values"
   ]
  },
  {
   "cell_type": "code",
   "execution_count": 79,
   "metadata": {},
   "outputs": [],
   "source": [
    "monkey_dw = monkey_dw*180/math.pi"
   ]
  },
  {
   "cell_type": "code",
   "execution_count": null,
   "metadata": {},
   "outputs": [],
   "source": [
    "(180/math.pi * dc.monkey_information['monkey_dw']).describe()"
   ]
  },
  {
   "cell_type": "code",
   "execution_count": 81,
   "metadata": {},
   "outputs": [],
   "source": [
    "monkey_dw_sub = monkey_dw[np.abs(monkey_dw) < 20]"
   ]
  },
  {
   "cell_type": "code",
   "execution_count": null,
   "metadata": {},
   "outputs": [],
   "source": [
    "len(monkey_dw_sub)/len(monkey_dw)"
   ]
  },
  {
   "cell_type": "code",
   "execution_count": null,
   "metadata": {},
   "outputs": [],
   "source": [
    "np.sum(monkey_dw)/360"
   ]
  },
  {
   "cell_type": "code",
   "execution_count": null,
   "metadata": {},
   "outputs": [],
   "source": [
    "# how many 360 circles did the monkey make?\n",
    "np.sum(monkey_dw_sub)/360"
   ]
  }
 ],
 "metadata": {
  "kernelspec": {
   "display_name": "ff_venv",
   "language": "python",
   "name": "python3"
  },
  "language_info": {
   "codemirror_mode": {
    "name": "ipython",
    "version": 3
   },
   "file_extension": ".py",
   "mimetype": "text/x-python",
   "name": "python",
   "nbconvert_exporter": "python",
   "pygments_lexer": "ipython3",
   "version": "3.9.19"
  }
 },
 "nbformat": 4,
 "nbformat_minor": 2
}
