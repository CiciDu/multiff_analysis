{
 "cells": [
  {
   "cell_type": "markdown",
   "metadata": {},
   "source": [
    "# Install packages"
   ]
  },
  {
   "cell_type": "markdown",
   "metadata": {},
   "source": [
    "## for HW1 (Byron's class)"
   ]
  },
  {
   "cell_type": "code",
   "execution_count": 2,
   "metadata": {},
   "outputs": [
    {
     "data": {
      "text/plain": [
       "0.0404276819945128"
      ]
     },
     "execution_count": 2,
     "metadata": {},
     "output_type": "execute_result"
    }
   ],
   "source": [
    "import math\n",
    "6 * math.exp(-5)"
   ]
  },
  {
   "cell_type": "code",
   "execution_count": 11,
   "metadata": {},
   "outputs": [
    {
     "data": {
      "text/plain": [
       "0.7768698398515702"
      ]
     },
     "execution_count": 11,
     "metadata": {},
     "output_type": "execute_result"
    }
   ],
   "source": [
    "1 - math.exp(-3/2)"
   ]
  },
  {
   "cell_type": "code",
   "execution_count": 9,
   "metadata": {},
   "outputs": [
    {
     "name": "stdout",
     "output_type": "stream",
     "text": [
      "Ea = 10000.0, Eb = 10000.0, New Eb = 15000.000000000002\n",
      "Ea = 10000.0, Eb = 10.0, New Eb = 19.990009990009987\n",
      "Ea = 10000.0, Eb = 2.0, New Eb = 3.9996000799840035\n",
      "Ea = 10000.0, Eb = 1.25, New Eb = 2.4998437695288085\n",
      "Ea = 10000.0, Eb = 1.0, New Eb = 1.9999000099990003\n",
      "Ea = 10000.0, Eb = 0.5, New Eb = 0.9999750012499373\n",
      "Ea = 10000.0, Eb = 0.2, New Eb = 0.3999960000799984\n",
      "Ea = 10000.0, Eb = 0.1, New Eb = 0.1999990000099999\n",
      "Ea = 10000.0, Eb = 0.05, New Eb = 0.09999975000125\n",
      "Ea = 10.0, Eb = 10000.0, New Eb = 10009.99000999001\n",
      "Ea = 10.0, Eb = 10.0, New Eb = 15.0\n",
      "Ea = 10.0, Eb = 2.0, New Eb = 3.666666666666667\n",
      "Ea = 10.0, Eb = 1.25, New Eb = 2.361111111111111\n",
      "Ea = 10.0, Eb = 1.0, New Eb = 1.909090909090909\n",
      "Ea = 10.0, Eb = 0.5, New Eb = 0.976190476190476\n",
      "Ea = 10.0, Eb = 0.2, New Eb = 0.396078431372549\n",
      "Ea = 10.0, Eb = 0.1, New Eb = 0.19900990099009902\n",
      "Ea = 10.0, Eb = 0.05, New Eb = 0.09975124378109453\n",
      "Ea = 2.0, Eb = 10000.0, New Eb = 10001.999600079982\n",
      "Ea = 2.0, Eb = 10.0, New Eb = 11.666666666666666\n",
      "Ea = 2.0, Eb = 2.0, New Eb = 3.0\n",
      "Ea = 2.0, Eb = 1.25, New Eb = 2.019230769230769\n",
      "Ea = 2.0, Eb = 1.0, New Eb = 1.6666666666666667\n",
      "Ea = 2.0, Eb = 0.5, New Eb = 0.9\n",
      "Ea = 2.0, Eb = 0.2, New Eb = 0.38181818181818183\n",
      "Ea = 2.0, Eb = 0.1, New Eb = 0.19523809523809524\n",
      "Ea = 2.0, Eb = 0.05, New Eb = 0.09878048780487805\n",
      "Ea = 1.25, Eb = 10000.0, New Eb = 10001.249843769529\n",
      "Ea = 1.25, Eb = 10.0, New Eb = 11.111111111111109\n",
      "Ea = 1.25, Eb = 2.0, New Eb = 2.769230769230769\n",
      "Ea = 1.25, Eb = 1.25, New Eb = 1.875\n",
      "Ea = 1.25, Eb = 1.0, New Eb = 1.5555555555555554\n",
      "Ea = 1.25, Eb = 0.5, New Eb = 0.8571428571428572\n",
      "Ea = 1.25, Eb = 0.2, New Eb = 0.3724137931034483\n",
      "Ea = 1.25, Eb = 0.1, New Eb = 0.1925925925925926\n",
      "Ea = 1.25, Eb = 0.05, New Eb = 0.09807692307692308\n",
      "Ea = 1.0, Eb = 10000.0, New Eb = 10000.99990001\n",
      "Ea = 1.0, Eb = 10.0, New Eb = 10.909090909090907\n",
      "Ea = 1.0, Eb = 2.0, New Eb = 2.6666666666666665\n",
      "Ea = 1.0, Eb = 1.25, New Eb = 1.8055555555555554\n",
      "Ea = 1.0, Eb = 1.0, New Eb = 1.5\n",
      "Ea = 1.0, Eb = 0.5, New Eb = 0.8333333333333334\n",
      "Ea = 1.0, Eb = 0.2, New Eb = 0.36666666666666664\n",
      "Ea = 1.0, Eb = 0.1, New Eb = 0.19090909090909092\n",
      "Ea = 1.0, Eb = 0.05, New Eb = 0.09761904761904762\n",
      "Ea = 0.5, Eb = 10000.0, New Eb = 10000.499975001248\n",
      "Ea = 0.5, Eb = 10.0, New Eb = 10.476190476190476\n",
      "Ea = 0.5, Eb = 2.0, New Eb = 2.4\n",
      "Ea = 0.5, Eb = 1.25, New Eb = 1.6071428571428574\n",
      "Ea = 0.5, Eb = 1.0, New Eb = 1.3333333333333333\n",
      "Ea = 0.5, Eb = 0.5, New Eb = 0.75\n",
      "Ea = 0.5, Eb = 0.2, New Eb = 0.34285714285714286\n",
      "Ea = 0.5, Eb = 0.1, New Eb = 0.18333333333333332\n",
      "Ea = 0.5, Eb = 0.05, New Eb = 0.09545454545454546\n",
      "Ea = 0.2, Eb = 10000.0, New Eb = 10000.199996000081\n",
      "Ea = 0.2, Eb = 10.0, New Eb = 10.196078431372548\n",
      "Ea = 0.2, Eb = 2.0, New Eb = 2.1818181818181817\n",
      "Ea = 0.2, Eb = 1.25, New Eb = 1.4224137931034484\n",
      "Ea = 0.2, Eb = 1.0, New Eb = 1.1666666666666667\n",
      "Ea = 0.2, Eb = 0.5, New Eb = 0.6428571428571429\n",
      "Ea = 0.2, Eb = 0.2, New Eb = 0.3\n",
      "Ea = 0.2, Eb = 0.1, New Eb = 0.16666666666666666\n",
      "Ea = 0.2, Eb = 0.05, New Eb = 0.09\n",
      "Ea = 0.1, Eb = 10000.0, New Eb = 10000.09999900001\n",
      "Ea = 0.1, Eb = 10.0, New Eb = 10.099009900990099\n",
      "Ea = 0.1, Eb = 2.0, New Eb = 2.0952380952380953\n",
      "Ea = 0.1, Eb = 1.25, New Eb = 1.3425925925925926\n",
      "Ea = 0.1, Eb = 1.0, New Eb = 1.0909090909090908\n",
      "Ea = 0.1, Eb = 0.5, New Eb = 0.5833333333333334\n",
      "Ea = 0.1, Eb = 0.2, New Eb = 0.26666666666666666\n",
      "Ea = 0.1, Eb = 0.1, New Eb = 0.15\n",
      "Ea = 0.1, Eb = 0.05, New Eb = 0.08333333333333333\n",
      "Ea = 0.05, Eb = 10000.0, New Eb = 10000.049999750001\n",
      "Ea = 0.05, Eb = 10.0, New Eb = 10.049751243781094\n",
      "Ea = 0.05, Eb = 2.0, New Eb = 2.048780487804878\n",
      "Ea = 0.05, Eb = 1.25, New Eb = 1.2980769230769231\n",
      "Ea = 0.05, Eb = 1.0, New Eb = 1.0476190476190477\n",
      "Ea = 0.05, Eb = 0.5, New Eb = 0.5454545454545454\n",
      "Ea = 0.05, Eb = 0.2, New Eb = 0.24\n",
      "Ea = 0.05, Eb = 0.1, New Eb = 0.13333333333333333\n",
      "Ea = 0.05, Eb = 0.05, New Eb = 0.075\n"
     ]
    }
   ],
   "source": [
    "for la in [0.0001, 0.1, 0.5, 0.8, 1, 2, 5, 10, 20]:\n",
    "    for lb in [0.0001, 0.1, 0.5, 0.8, 1, 2, 5, 10, 20]:\n",
    "        eb = (la + 2 * lb) /(lb * (la + lb))\n",
    "        print(f'Ea = {1/la}, Eb = {1/lb}, New Eb = {eb}')"
   ]
  },
  {
   "cell_type": "code",
   "execution_count": 6,
   "metadata": {},
   "outputs": [
    {
     "name": "stdout",
     "output_type": "stream",
     "text": [
      "Ea = 0.2, Eb = 10000.0, New Eb = 10000.199996000081\n",
      "Ea = 0.2, Eb = 10.0, New Eb = 10.196078431372548\n",
      "Ea = 0.2, Eb = 2.0, New Eb = 2.1818181818181817\n",
      "Ea = 0.2, Eb = 1.25, New Eb = 1.4224137931034484\n",
      "Ea = 0.2, Eb = 1.0, New Eb = 1.1666666666666667\n",
      "Ea = 0.2, Eb = 0.5, New Eb = 0.6428571428571429\n",
      "Ea = 0.2, Eb = 0.2, New Eb = 0.3\n",
      "Ea = 0.2, Eb = 0.1, New Eb = 0.16666666666666666\n",
      "Ea = 0.2, Eb = 0.05, New Eb = 0.09\n"
     ]
    }
   ],
   "source": [
    "la = 5\n",
    "\n",
    "for lb in [0.0001, 0.1, 0.5, 0.8, 1, 2, 5, 10, 20]:\n",
    "    eb = (la + 2 * lb) /(lb * (la + lb))\n",
    "    print(f'Ea = {1/la}, Eb = {1/lb}, New Eb = {eb}')"
   ]
  },
  {
   "cell_type": "markdown",
   "metadata": {},
   "source": [
    "# Import packages"
   ]
  },
  {
   "cell_type": "code",
   "execution_count": 2,
   "metadata": {},
   "outputs": [
    {
     "name": "stdout",
     "output_type": "stream",
     "text": [
      "Changed the directory to 'Multifirefly-Project'.\n",
      "Added /Users/dusiyi/Documents/Multifirefly-Project/multiff_analysis/methods to the path.\n"
     ]
    }
   ],
   "source": [
    "%load_ext autoreload\n",
    "%autoreload 2\n",
    "\n",
    "from pathlib import Path\n",
    "import os\n",
    "if Path.cwd().parts[-1] != 'Multifirefly-Project':\n",
    "    if Path.cwd().parts[-1] != 'notebooks':\n",
    "        os.chdir('..')\n",
    "    from add_path import find_path\n",
    "    current_path = find_path()\n",
    "    os.chdir(current_path)\n",
    "import sys\n",
    "\n",
    "\n",
    "from data_wrangling import specific_utils, process_monkey_information, base_processing_class, combine_info_utils\n",
    "from pattern_discovery import pattern_by_trials, pattern_by_points, make_ff_dataframe, ff_dataframe_utils, pattern_by_trials, pattern_by_points, cluster_analysis, organize_patterns_and_features, category_class, cluster_analysis\n",
    "from decision_making_analysis.decision_making import decision_making_class, decision_making_utils, plot_decision_making, intended_targets_classes\n",
    "from decision_making_analysis.GUAT import GUAT_helper_class, GUAT_collect_info_class, GUAT_combine_info_class, process_GUAT_trials_class, GUAT_and_TAFT\n",
    "from decision_making_analysis import free_selection, replacement, trajectory_info\n",
    "from null_behaviors import show_null_trajectory, find_best_arc, curvature_utils, curvature_class, curv_of_traj_utils\n",
    "from machine_learning.ml_methods import regression_utils, classification_utils, prep_ml_data_utils, hyperparam_tuning_class\n",
    "from machine_learning.RL.env_related import env_for_lstm, env_utils, base_env, collect_agent_data_utils\n",
    "from machine_learning.RL.lstm import GRU_functions, LSTM_functions\n",
    "from machine_learning.RL.SB3 import interpret_neural_network, sb3_for_multiff_class, rl_for_multiff_utils, SB3_functions\n",
    "from visualization.matplotlib_tools import plot_trials, plot_polar, additional_plots, plot_behaviors_utils, plot_statistics, monkey_heading_functions\n",
    "from visualization.animation import animation_func, animation_utils, animation_class\n",
    "from planning_analysis.test_params_for_planning import params_test_combos_class, params_utils\n",
    "from visualization.plotly_tools import plotly_for_monkey, plotly_for_scatterplot, plotly_preparation, plotly_for_correlation\n",
    "from visualization.dash_tools import dash_prep_class, dash_utils, dash_utils, dash_comparison_class, dash_params_class\n",
    "from visualization.dash_tools.dash_main_class_methods import dash_main_class\n",
    "from neural_data_analysis.neural_analysis_tools.get_neural_data import neural_data_processing\n",
    "from neural_data_analysis.neural_analysis_tools.visualize_neural_data import plot_neural_data, plot_modeling_result\n",
    "from neural_data_analysis.neural_analysis_tools.model_neural_data import transform_vars, neural_data_modeling, drop_high_corr_vars, drop_high_vif_vars\n",
    "from neural_data_analysis.neural_analysis_by_topic.neural_vs_behavioral import prep_monkey_data, prep_target_data, neural_vs_behavioral_class\n",
    "from neural_data_analysis.neural_analysis_by_topic.planning_and_neural import planning_neural_class, planning_neural_utils\n",
    "from planning_analysis.plan_factors import plan_factors_utils, plan_factors_class, monkey_plan_factors_x_sess_class\n",
    "from planning_analysis.show_planning import nxt_ff_utils, show_planning_class, show_planning_utils\n",
    "from planning_analysis.show_planning.get_stops_near_ff import find_stops_near_ff_class, find_stops_near_ff_utils, plot_stops_near_ff_class, plot_stops_near_ff_utils, plot_monkey_heading_helper_class, stops_near_ff_based_on_ref_class\n",
    "\n",
    "from importlib import reload\n",
    "from eye_position_analysis import eye_positions\n",
    "import os\n",
    "import numpy as np\n",
    "import matplotlib\n",
    "import matplotlib.pyplot as plt\n",
    "from matplotlib import cm\n",
    "from os.path import exists\n",
    "import seaborn as sns\n",
    "import math\n",
    "import copy\n",
    "import matplotlib.pyplot as plt\n",
    "import pandas as pd\n",
    "import torch\n",
    "import torch.nn as nn\n",
    "import torch.optim as optim\n",
    "import tqdm\n",
    "import itertools\n",
    "import plotly.express as px\n",
    "import gc\n",
    "from scipy.stats import rankdata\n",
    "from scipy import stats\n",
    "from IPython.display import HTML\n",
    "from matplotlib import rc\n",
    "from sklearn.model_selection import train_test_split\n",
    "from sklearn.preprocessing import OneHotEncoder\n",
    "from sklearn.datasets import make_multilabel_classification\n",
    "from sklearn.model_selection import train_test_split\n",
    "from sklearn.multioutput import MultiOutputClassifier\n",
    "from sklearn.neighbors import KNeighborsClassifier\n",
    "from sklearn.metrics import accuracy_score, hamming_loss, multilabel_confusion_matrix, fbeta_score, precision_score, recall_score\n",
    "from sklearn.svm import SVC\n",
    "from sklearn.tree import DecisionTreeClassifier\n",
    "from sklearn.ensemble import AdaBoostClassifier, RandomForestClassifier, VotingClassifier, BaggingClassifier, GradientBoostingClassifier\n",
    "from sklearn.neural_network import MLPClassifier\n",
    "from sklearn.linear_model import LinearRegression\n",
    "from sklearn.neighbors import KNeighborsRegressor, KNeighborsClassifier\n",
    "from sklearn.naive_bayes import GaussianNB\n",
    "from sklearn.linear_model import LogisticRegression\n",
    "from math import pi\n",
    "from scipy.ndimage import gaussian_filter1d\n",
    "from statsmodels.graphics.tsaplots import plot_acf\n",
    "import warnings\n",
    "import os, sys\n",
    "from sklearn.exceptions import ConvergenceWarning\n",
    "import plotly.graph_objects as go\n",
    "\n",
    "plt.rcParams[\"animation.html\"] = \"html5\"\n",
    "os.environ['KMP_DUPLICATE_LIB_OK']='True'\n",
    "rc('animation', html='jshtml')\n",
    "matplotlib.rcParams.update(matplotlib.rcParamsDefault)\n",
    "matplotlib.rcParams['animation.embed_limit'] = 2**128\n",
    "pd.set_option('display.float_format', lambda x: '%.5f' % x)\n",
    "np.set_printoptions(suppress=True)\n",
    "pd.options.display.max_rows = 101"
   ]
  },
  {
   "cell_type": "code",
   "execution_count": 3,
   "metadata": {},
   "outputs": [],
   "source": [
    "data_item = None\n",
    "raw_data_folder_path = \"all_monkey_data/raw_monkey_data/monkey_Bruno/data_0328\""
   ]
  },
  {
   "cell_type": "code",
   "execution_count": null,
   "metadata": {},
   "outputs": [],
   "source": [
    "stop!"
   ]
  },
  {
   "cell_type": "markdown",
   "metadata": {},
   "source": [
    "# SNF (stops near ff) class"
   ]
  },
  {
   "cell_type": "code",
   "execution_count": null,
   "metadata": {},
   "outputs": [],
   "source": [
    "import cProfile\n",
    "cProfile.run('snf.streamline_organizing_info()', sort='cumtime')"
   ]
  },
  {
   "cell_type": "markdown",
   "metadata": {},
   "source": [
    "## run class"
   ]
  },
  {
   "cell_type": "code",
   "execution_count": 3,
   "metadata": {},
   "outputs": [
    {
     "name": "stdout",
     "output_type": "stream",
     "text": [
      "Retrieved monkey_information\n",
      "The number of points that were removed due to delta_position exceeding the ceiling is 0\n",
      "Warning: ff_closest_stop_time_sorted has 1 points out of 1213 points that are significantly larger than ff_caught_T_sorted, which is 0.08% of the points. Max value of closest_time - capture time is 0.332014000000072. They are replaced with the original ff_caught_T in ff_caught_T_new.\n",
      "Warning: ff_closest_stop_time_sorted has 56 points out of 1213 points that are outside of the reward boundary, which is 4.62% of the points. They are replaced with the original ff_caught_T in ff_caught_T_new.\n",
      "Warning: ff_caught_T_new is not monotonically increasing. Will make it monotonically increasing.\n",
      "Note: ff_caught_T_sorted is replaced with ff_caught_T_new\n",
      "Retrieved ff_dataframe from all_monkey_data/processed_data/monkey_Bruno/data_0328/ff_dataframe.h5\n",
      "Removed 0 rows out of 728 rows where cur_ff was not visible bbas or nxt_ff was not visible both bbas and bsans\n",
      "shared_stops_near_ff_df has 728 rows\n",
      "Retrieving shared_stops_near_ff_df succeeded\n",
      "Failed to retrieve heading_info_df because of dist_-150_window_-50cm_0cm is not in the folder: all_monkey_data/planning/monkey_Bruno/data_0328/diff_in_curv_df/norm_opt_arc/test; will make new heading_info_df\n",
      "Stored new heading_info_df (Bruno_dist_150) (379 rows) in all_monkey_data/planning/monkey_Bruno/data_0328/heading_info_df/norm_opt_arc/test/Bruno_dist_150\n",
      "Percentage of rows outside of [-45, 45]: 3.56%\n",
      "Warning: 2 arc out of 352 arcs where ff is to the left of the monkey has an angle larger than 90 degrees. The max is 93.68640991207438. We will adjust them by making them a little less than 90.\n",
      "Stored dist_-150_window_-50cm_0cm in all_monkey_data/planning/monkey_Bruno/data_0328/diff_in_curv_df/norm_opt_arc/test/dist_-150_window_-50cm_0cm\n"
     ]
    },
    {
     "data": {
      "image/png": "[encoded data removed]",
      "text/plain": [
       "<Figure size 500x500 with 1 Axes>"
      ]
     },
     "metadata": {},
     "output_type": "display_data"
    }
   ],
   "source": [
    "normalize = False\n",
    "eliminate_outliers = False\n",
    "use_curvature_to_ff_center = False\n",
    "curv_of_traj_mode = 'distance'\n",
    "window_for_curv_of_traj=[-25, 25]\n",
    "raw_data_folder_path = \"all_monkey_data/raw_monkey_data/monkey_Bruno/data_0328\"\n",
    "\n",
    "#data_item_info = find_stops_near_ff_utils.extract_key_info_from_data_item_for_stops_near_ff_class(data_item)\n",
    "\n",
    "snf = stops_near_ff_based_on_ref_class.StopsNearFFBasedOnRef(raw_data_folder_path=raw_data_folder_path)\n",
    "snf.get_more_monkey_data()\n",
    "snf.traj_curv_descr = 'Traj Curv: From Current Point to Right Before Stop'\n",
    "\n",
    "\n",
    "\n",
    "snf.streamline_organizing_info(ref_point_mode='distance', ref_point_value=-150, \n",
    "                              #ref_point_mode='time after cur ff visible', ref_point_value=0.1, \n",
    "                               curv_of_traj_mode=curv_of_traj_mode, window_for_curv_of_traj=window_for_curv_of_traj, truncate_curv_of_traj_by_time_of_capture=True,\n",
    "                               use_curvature_to_ff_center=use_curvature_to_ff_center,  eliminate_outliers=eliminate_outliers,\n",
    "                               stops_near_ff_df_exists_ok=True)\n",
    "\n",
    "snf.ax_for_corr = snf.find_relationships_from_info(normalize=normalize, show_plot=True)\n",
    "snf.prepare_to_plot_stops_near_ff()"
   ]
  },
  {
   "cell_type": "code",
   "execution_count": 81,
   "metadata": {},
   "outputs": [],
   "source": [
    "# debug\n",
    "snf.prepare_to_plot_stops_near_ff()"
   ]
  },
  {
   "cell_type": "markdown",
   "metadata": {},
   "source": [
    "## visualize"
   ]
  },
  {
   "cell_type": "markdown",
   "metadata": {},
   "source": [
    "### matplotlib"
   ]
  },
  {
   "cell_type": "code",
   "execution_count": 18,
   "metadata": {},
   "outputs": [],
   "source": [
    "current_i = 0"
   ]
  },
  {
   "cell_type": "code",
   "execution_count": 64,
   "metadata": {},
   "outputs": [
    {
     "name": "stdout",
     "output_type": "stream",
     "text": [
      "diff_in_abs: -21.402644122529694\n",
      "nxt_ff_index: 34\n",
      "cur_ff_index: 33\n",
      "duration after eliminating unnecessary parts:  [91.603656, 97.49202]\n",
      "duration_to_plot: [91.603656, 97.49202]\n",
      "currentTrial: 34 num_trials: 2\n",
      "shown_ff_indices:  []\n"
     ]
    },
    {
     "data": {
      "image/png": "[encoded data removed]",
      "text/plain": [
       "<Figure size 700x700 with 1 Axes>"
      ]
     },
     "metadata": {},
     "output_type": "display_data"
    },
    {
     "data": {
      "image/png": "[encoded data removed]",
      "text/plain": [
       "<Figure size 700x700 with 1 Axes>"
      ]
     },
     "metadata": {},
     "output_type": "display_data"
    },
    {
     "data": {
      "image/png": "[encoded data removed]",
      "text/plain": [
       "<Figure size 500x500 with 1 Axes>"
      ]
     },
     "metadata": {},
     "output_type": "display_data"
    }
   ],
   "source": [
    "current_i = snf.make_individual_plots_for_stops_near_ff_in_mpl(current_i, max_num_plot_to_make = 1)"
   ]
  },
  {
   "cell_type": "markdown",
   "metadata": {},
   "source": [
    "### show eye positions"
   ]
  },
  {
   "cell_type": "code",
   "execution_count": 71,
   "metadata": {},
   "outputs": [],
   "source": [
    "current_i = 10"
   ]
  },
  {
   "cell_type": "code",
   "execution_count": 68,
   "metadata": {},
   "outputs": [
    {
     "name": "stdout",
     "output_type": "stream",
     "text": [
      "diff_in_abs: 19.206659470357373\n",
      "nxt_ff_index: 28\n",
      "cur_ff_index: 27\n",
      "duration after eliminating unnecessary parts:  [83.021626, 87.731384]\n",
      "duration_to_plot: [83.021626, 87.731384]\n",
      "currentTrial: 28 num_trials: 2\n",
      "shown_ff_indices:  []\n"
     ]
    },
    {
     "data": {
      "image/png": "[encoded data removed]",
      "text/plain": [
       "<Figure size 700x700 with 1 Axes>"
      ]
     },
     "metadata": {},
     "output_type": "display_data"
    },
    {
     "name": "stdout",
     "output_type": "stream",
     "text": [
      "diff_in_abs: 4.881090016922679\n",
      "nxt_ff_index: 32\n",
      "cur_ff_index: 31\n",
      "duration after eliminating unnecessary parts:  [87.155051, 91.648926]\n",
      "duration_to_plot: [87.155051, 91.648926]\n",
      "currentTrial: 32 num_trials: 5\n",
      "shown_ff_indices:  []\n"
     ]
    },
    {
     "data": {
      "image/png": "[encoded data removed]",
      "text/plain": [
       "<Figure size 700x700 with 1 Axes>"
      ]
     },
     "metadata": {},
     "output_type": "display_data"
    },
    {
     "name": "stdout",
     "output_type": "stream",
     "text": [
      "diff_in_abs: -8.385919677041073\n",
      "nxt_ff_index: 33\n",
      "cur_ff_index: 32\n",
      "duration after eliminating unnecessary parts:  [88.648926, 94.603656]\n",
      "duration_to_plot: [88.648926, 94.603656]\n",
      "currentTrial: 33 num_trials: 4\n",
      "shown_ff_indices:  []\n"
     ]
    },
    {
     "data": {
      "image/png": "[encoded data removed]",
      "text/plain": [
       "<Figure size 700x700 with 1 Axes>"
      ]
     },
     "metadata": {},
     "output_type": "display_data"
    }
   ],
   "source": [
    "additional_plotting_kwargs={'show_connect_path_ff_specific_indices': None, 'show_ff_indices': True,\n",
    "                            'show_eye_positions':True,\n",
    "                            'show_eye_positions_for_both_eyes':True,\n",
    "                            'show_connect_path_eye_positions': True}\n",
    "current_i = snf.make_individual_plots_for_stops_near_ff_in_mpl(current_i, max_num_plot_to_make=3, \n",
    "                                      additional_plotting_kwargs=additional_plotting_kwargs,\n",
    "                                      show_position_in_scatter_plot=False)"
   ]
  },
  {
   "cell_type": "code",
   "execution_count": null,
   "metadata": {},
   "outputs": [],
   "source": [
    "stop here!"
   ]
  },
  {
   "cell_type": "markdown",
   "metadata": {},
   "source": [
    "### plotly"
   ]
  },
  {
   "cell_type": "code",
   "execution_count": 4,
   "metadata": {},
   "outputs": [],
   "source": [
    "snf.prepare_to_plot_stops_near_ff()"
   ]
  },
  {
   "cell_type": "code",
   "execution_count": 86,
   "metadata": {},
   "outputs": [],
   "source": [
    "current_i = 2\n",
    "snf.make_PlotTrials_args()"
   ]
  },
  {
   "cell_type": "code",
   "execution_count": null,
   "metadata": {},
   "outputs": [
    {
     "name": "stdout",
     "output_type": "stream",
     "text": [
      "diff_in_abs: 9.505224394564543\n",
      "duration_to_plot: [45.218098, 52.876038]\n"
     ]
    },
    {
     "data": {
      "application/vnd.plotly.v1+json": {
       "config": {
        "plotlyServerURL": "https://plot.ly"
       },
       "data": [
        {
         "customdata": [],
         "hovertemplate": "ff %{customdata[0]}",
         "legendgroup": "",
         "marker": {
          "color": "red",
          "symbol": "circle"
         },
         "mode": "markers",
         "name": "plot_ff",
         "orientation": "v",
         "showlegend": false,
         "type": "scatter",
         "x": [],
         "xaxis": "x",
         "y": [],
         "yaxis": "y"
        },
        {
         "customdata": [
          [
           -3.98,
           152.79032781095057
          ],
          [
           -3.97,
           151.11864691460295
          ],
          [
           -3.95,
           152.67098338133312
          ],
          [
           -3.93,
           151.3197884411015
          ],
          [
           -3.92,
           152.44682251927057
          ],
          [
           -3.9,
           110.32021529698906
          ],
          [
           -3.88,
           18.56823137770606
          ],
          [
           -3.87,
           158.60085585095928
          ],
          [
           -3.85,
           80.68834347039791
          ],
          [
           -3.83,
           80.60648897180023
          ],
          [
           -3.82,
           80.80595687169345
          ],
          [
           -3.8,
           80.59412576748339
          ],
          [
           -3.78,
           80.65522805825603
          ],
          [
           -3.77,
           85.61504015041015
          ],
          [
           -3.75,
           93.13303967946716
          ],
          [
           -3.73,
           93.43855282982344
          ],
          [
           -3.72,
           99.70407233597476
          ],
          [
           -3.7,
           104.21519871915704
          ],
          [
           -3.69,
           107.96676371378211
          ],
          [
           -3.67,
           112.1062449481361
          ],
          [
           -3.65,
           114.2463163205497
          ],
          [
           -3.64,
           148.46000884112038
          ],
          [
           -3.62,
           152.20083198568827
          ],
          [
           -3.6,
           151.45558864851296
          ],
          [
           -3.59,
           152.10248623899105
          ],
          [
           -3.57,
           159.92219845578228
          ],
          [
           -3.55,
           164.0345315891377
          ],
          [
           -3.54,
           168.14333236491362
          ],
          [
           -3.52,
           174.24893309342565
          ],
          [
           -3.5,
           178.8048211356688
          ],
          [
           -3.49,
           181.63461321019
          ],
          [
           -3.47,
           185.48916391899184
          ],
          [
           -3.45,
           191.38448296563715
          ],
          [
           -3.44,
           192.66254696792055
          ],
          [
           -3.42,
           198.38048469521337
          ],
          [
           -3.4,
           35.46433929210713
          ],
          [
           -3.39,
           200
          ],
          [
           -3.37,
           198.4309168918632
          ],
          [
           -3.35,
           200
          ],
          [
           -3.34,
           199.55642060306224
          ],
          [
           -3.32,
           199.56197687346543
          ],
          [
           -3.3,
           199.12104448486747
          ],
          [
           -3.29,
           199.3603897643628
          ],
          [
           -3.27,
           199.66690690344123
          ],
          [
           -3.25,
           197.14148183021567
          ],
          [
           -3.24,
           191.6020141479675
          ],
          [
           -3.22,
           172.71035596858064
          ],
          [
           -3.2,
           158.14344351440545
          ],
          [
           -3.19,
           29.00647389917051
          ],
          [
           -3.17,
           150.72356026904157
          ],
          [
           -3.15,
           108.4753955946056
          ],
          [
           -3.14,
           87.14228483610245
          ],
          [
           -3.12,
           67.80119699002073
          ],
          [
           -3.1,
           28.333136691002945
          ],
          [
           -3.09,
           14.36574824962513
          ],
          [
           -3.07,
           0
          ],
          [
           -3.05,
           0
          ],
          [
           -3.04,
           0
          ],
          [
           -3.02,
           0
          ],
          [
           -2.99,
           0
          ],
          [
           -2.99,
           0
          ],
          [
           -2.98,
           0
          ],
          [
           -2.97,
           0
          ],
          [
           -2.97,
           0
          ],
          [
           -2.95,
           0
          ],
          [
           -2.94,
           0
          ],
          [
           -2.92,
           0
          ],
          [
           -2.9,
           0
          ],
          [
           -2.89,
           0
          ],
          [
           -2.87,
           0
          ],
          [
           -2.86,
           0
          ],
          [
           -2.84,
           0
          ],
          [
           -2.82,
           0
          ],
          [
           -2.81,
           0
          ],
          [
           -2.79,
           0
          ],
          [
           -2.77,
           0
          ],
          [
           -2.76,
           14.476396287949528
          ],
          [
           -2.74,
           23.70759286679082
          ],
          [
           -2.72,
           30.00555466204261
          ],
          [
           -2.71,
           38.03941332045998
          ],
          [
           -2.69,
           50.67900711709706
          ],
          [
           -2.67,
           66.31437280937512
          ],
          [
           -2.66,
           75.81309214431946
          ],
          [
           -2.64,
           85.69869133468003
          ],
          [
           -2.62,
           89.7031238512582
          ],
          [
           -2.61,
           96.94122473859424
          ],
          [
           -2.59,
           103.02584270463434
          ],
          [
           -2.57,
           107.29355404438483
          ],
          [
           -2.56,
           114.62596253666092
          ],
          [
           -2.54,
           155.25503249662282
          ],
          [
           -2.52,
           151.9262246320305
          ],
          [
           -2.51,
           154.00065011963076
          ],
          [
           -2.49,
           155.80961509574325
          ],
          [
           -2.47,
           163.66476401041373
          ],
          [
           -2.46,
           172.4548971720969
          ],
          [
           -2.44,
           178.97346585998068
          ],
          [
           -2.42,
           181.808243960222
          ],
          [
           -2.41,
           185.1516753408388
          ],
          [
           -2.39,
           185.2631558892411
          ],
          [
           -2.37,
           183.6782419809321
          ],
          [
           -2.36,
           180.05425920872233
          ],
          [
           -2.34,
           175.56193640300344
          ],
          [
           -2.32,
           157.6459447340854
          ],
          [
           -2.31,
           154.11682054535692
          ],
          [
           -2.29,
           152.2834465859552
          ],
          [
           -2.27,
           105.71498794987782
          ],
          [
           -2.26,
           88.53352440257855
          ],
          [
           -2.24,
           76.17088479878633
          ],
          [
           -2.22,
           42.65578622719958
          ],
          [
           -2.21,
           28.576232744680787
          ],
          [
           -2.19,
           15.794271287609584
          ],
          [
           -2.17,
           0
          ],
          [
           -2.16,
           0
          ],
          [
           -2.14,
           0
          ],
          [
           -2.12,
           0
          ],
          [
           -2.1,
           0
          ],
          [
           -2.08,
           0
          ],
          [
           -2.07,
           0
          ],
          [
           -2.07,
           0
          ],
          [
           -2.06,
           0
          ],
          [
           -2.05,
           0
          ],
          [
           -2.04,
           0
          ],
          [
           -2.03,
           0
          ],
          [
           -2.01,
           0
          ],
          [
           -1.99,
           0
          ],
          [
           -1.98,
           0
          ],
          [
           -1.96,
           0
          ],
          [
           -1.94,
           0
          ],
          [
           -1.93,
           0
          ],
          [
           -1.91,
           0
          ],
          [
           -1.89,
           0
          ],
          [
           -1.88,
           0
          ],
          [
           -1.86,
           0
          ],
          [
           -1.84,
           0
          ],
          [
           -1.83,
           0
          ],
          [
           -1.81,
           0
          ],
          [
           -1.79,
           0
          ],
          [
           -1.78,
           0
          ],
          [
           -1.76,
           6.315031914745894
          ],
          [
           -1.74,
           6.354566956403254
          ],
          [
           -1.73,
           7.924660967276503
          ],
          [
           -1.71,
           11.068457399018016
          ],
          [
           -1.69,
           12.457466468585949
          ],
          [
           -1.68,
           16.063118393419177
          ],
          [
           -1.66,
           20.54640406452821
          ],
          [
           -1.64,
           23.75277811350326
          ],
          [
           -1.63,
           31.5507633831503
          ],
          [
           -1.61,
           38.10828461027582
          ],
          [
           -1.59,
           41.19498323883111
          ],
          [
           -1.58,
           52.11642319127948
          ],
          [
           -1.56,
           58.40189989292798
          ],
          [
           -1.54,
           63.525192727827225
          ],
          [
           -1.53,
           76.05921510383693
          ],
          [
           -1.51,
           83.53776140785646
          ],
          [
           -1.49,
           92.09164719755071
          ],
          [
           -1.48,
           98.08796576480316
          ],
          [
           -1.46,
           111.85642141069746
          ],
          [
           -1.44,
           141.37559370041194
          ],
          [
           -1.43,
           151.83987348453067
          ],
          [
           -1.41,
           151.9072535314696
          ],
          [
           -1.39,
           151.6477910502573
          ],
          [
           -1.38,
           151.9952981008334
          ],
          [
           -1.36,
           155.4518856161802
          ],
          [
           -1.34,
           154.94279599819242
          ],
          [
           -1.33,
           162.25545917612743
          ],
          [
           -1.31,
           173.29088535764447
          ],
          [
           -1.29,
           172.47217612369997
          ],
          [
           -1.28,
           180.01955499111435
          ],
          [
           -1.26,
           185.57577564902928
          ],
          [
           -1.24,
           186.26047865542
          ],
          [
           -1.23,
           192.18742623751805
          ],
          [
           -1.21,
           192.5738074676917
          ],
          [
           -1.2,
           198.09156569337185
          ],
          [
           -1.18,
           198.012722645098
          ],
          [
           -1.16,
           196.8094018053392
          ],
          [
           -1.15,
           200
          ],
          [
           -1.13,
           199.3985256830172
          ],
          [
           -1.11,
           199.16992740221576
          ],
          [
           -1.1,
           198.75487668493983
          ],
          [
           -1.08,
           200
          ],
          [
           -1.06,
           199.42144514312997
          ],
          [
           -1.05,
           199.0434961009507
          ],
          [
           -1.03,
           199.69014464179688
          ],
          [
           -1.01,
           198.7297166777911
          ],
          [
           -1,
           199.63578469105065
          ],
          [
           -0.98,
           199.5326054767411
          ],
          [
           -0.96,
           199.93988525309317
          ],
          [
           -0.95,
           199.0014531681209
          ],
          [
           -0.93,
           198.83013945821315
          ],
          [
           -0.91,
           199.89102255986197
          ],
          [
           -0.9,
           199.35170994330275
          ],
          [
           -0.88,
           36.55347858125096
          ],
          [
           -0.86,
           200
          ],
          [
           -0.85,
           199.43176478636272
          ],
          [
           -0.83,
           199.7819088932136
          ],
          [
           -0.81,
           199.05291878139468
          ],
          [
           -0.8,
           199.0424191166175
          ],
          [
           -0.78,
           197.0353509280156
          ],
          [
           -0.76,
           178.57646785136285
          ],
          [
           -0.75,
           161.00258812587725
          ],
          [
           -0.73,
           152.05428591714508
          ],
          [
           -0.71,
           151.80949278178852
          ],
          [
           -0.7,
           91.61500231808915
          ],
          [
           -0.68,
           53.92492701480058
          ],
          [
           -0.66,
           53.89019323515758
          ],
          [
           -0.65,
           34.731357248605114
          ],
          [
           -0.63,
           11.054060113398572
          ],
          [
           -0.61,
           0.0037832567489858
          ],
          [
           -0.6,
           0
          ],
          [
           -0.58,
           0
          ],
          [
           -0.56,
           0
          ],
          [
           -0.55,
           0
          ],
          [
           -0.53,
           0
          ],
          [
           -0.51,
           0
          ],
          [
           -0.5,
           0
          ],
          [
           -0.48,
           0
          ],
          [
           -0.46,
           0
          ],
          [
           -0.45,
           0
          ],
          [
           -0.43,
           0
          ],
          [
           -0.41,
           7.945845979714239
          ],
          [
           -0.4,
           11.052281791605177
          ],
          [
           -0.38,
           23.732652817956176
          ],
          [
           -0.36,
           23.42932193164329
          ],
          [
           -0.35,
           30.478215126505805
          ],
          [
           -0.33,
           41.060781718608105
          ],
          [
           -0.32,
           57.097590672510805
          ],
          [
           -0.3,
           64.757374604199
          ],
          [
           -0.28,
           76.17464964517242
          ],
          [
           -0.27,
           77.6394264833862
          ],
          [
           -0.25,
           93.28780049363424
          ],
          [
           -0.23,
           99.1396936309184
          ],
          [
           -0.22,
           106.33572834928444
          ],
          [
           -0.2,
           113.95732375054644
          ],
          [
           -0.18,
           113.65504263341408
          ],
          [
           -0.17,
           114.32875181872228
          ],
          [
           -0.15,
           114.10586527723596
          ],
          [
           -0.13,
           104.23505535764087
          ],
          [
           -0.12,
           98.13075334979922
          ],
          [
           -0.1,
           88.58852134678402
          ],
          [
           -0.08,
           69.67334517013721
          ],
          [
           -0.07,
           53.92304071189093
          ],
          [
           -0.05,
           40.9931140587443
          ],
          [
           -0.03,
           25.2945310596852
          ],
          [
           -0.02,
           6.347157074340548
          ],
          [
           0,
           0
          ],
          [
           0.02,
           0
          ],
          [
           0.03,
           0
          ],
          [
           0.06,
           0
          ],
          [
           0.06,
           0
          ],
          [
           0.08,
           0
          ],
          [
           0.08,
           0
          ],
          [
           0.08,
           0
          ],
          [
           0.1,
           0
          ],
          [
           0.12,
           0
          ],
          [
           0.13,
           0
          ],
          [
           0.15,
           0
          ],
          [
           0.17,
           0
          ],
          [
           0.18,
           0
          ],
          [
           0.2,
           0
          ],
          [
           0.22,
           0
          ],
          [
           0.23,
           0
          ],
          [
           0.25,
           0
          ],
          [
           0.27,
           0
          ],
          [
           0.28,
           0
          ],
          [
           0.3,
           0
          ],
          [
           0.32,
           0
          ],
          [
           0.33,
           0
          ],
          [
           0.35,
           0
          ],
          [
           0.37,
           0
          ],
          [
           0.38,
           7.883841610551977
          ],
          [
           0.4,
           7.93810554228825
          ],
          [
           0.41,
           12.678582666420096
          ],
          [
           0.43,
           12.61942966455095
          ],
          [
           0.45,
           20.59906723366452
          ],
          [
           0.46,
           26.92859015364367
          ],
          [
           0.48,
           26.912842839129844
          ],
          [
           0.5,
           39.47600210589237
          ],
          [
           0.51,
           42.86011509721827
          ],
          [
           0.53,
           53.62115735120635
          ],
          [
           0.55,
           58.544561274370814
          ],
          [
           0.56,
           76.03925243297603
          ],
          [
           0.58,
           77.49261861358735
          ],
          [
           0.6,
           84.01670479785297
          ],
          [
           0.61,
           83.91913018570237
          ],
          [
           0.63,
           93.24188550452368
          ],
          [
           0.65,
           101.52104299229568
          ],
          [
           0.66,
           100.55175443056817
          ],
          [
           0.68,
           109.54098476676188
          ],
          [
           0.7,
           115.6418491136582
          ],
          [
           0.71,
           123.58010908010628
          ],
          [
           0.73,
           145.00751784201404
          ],
          [
           0.75,
           152.37427544764466
          ],
          [
           0.76,
           151.6381351068156
          ],
          [
           0.78,
           151.73457490049194
          ],
          [
           0.8,
           152.28834914027743
          ],
          [
           0.81,
           152.3162180830867
          ],
          [
           0.83,
           151.53693499439206
          ],
          [
           0.85,
           151.86932074857515
          ],
          [
           0.86,
           150.96316727394938
          ],
          [
           0.88,
           152.4291188474258
          ],
          [
           0.9,
           152.4980363547552
          ],
          [
           0.91,
           153.33475544440026
          ],
          [
           0.93,
           153.62410756150422
          ],
          [
           0.95,
           153.78598119364472
          ],
          [
           0.96,
           152.7546624984488
          ],
          [
           0.98,
           153.56384281606742
          ],
          [
           1,
           153.9618494875264
          ],
          [
           1.01,
           153.50819311309408
          ],
          [
           1.03,
           154.3073966994064
          ],
          [
           1.05,
           155.77801128182435
          ],
          [
           1.06,
           157.90675517984835
          ],
          [
           1.08,
           161.05242817643622
          ],
          [
           1.1,
           163.86223732994125
          ],
          [
           1.11,
           167.82914367359032
          ],
          [
           1.13,
           170.44471181461847
          ],
          [
           1.15,
           173.7859614887793
          ],
          [
           1.16,
           177.7785760869641
          ],
          [
           1.18,
           177.16276097277282
          ],
          [
           1.2,
           183.72280621904824
          ],
          [
           1.21,
           193.1788373892612
          ],
          [
           1.23,
           35.22021036574542
          ],
          [
           1.25,
           200
          ],
          [
           1.26,
           194.99480768181127
          ],
          [
           1.28,
           194.5389602051043
          ],
          [
           1.29,
           195.0417442336395
          ],
          [
           1.31,
           195.75022892590655
          ],
          [
           1.33,
           194.32340179892924
          ],
          [
           1.34,
           193.20087708789455
          ],
          [
           1.36,
           191.72702784747707
          ],
          [
           1.38,
           186.72469998873663
          ],
          [
           1.39,
           180.4353354809436
          ],
          [
           1.41,
           29.922032227715547
          ],
          [
           1.43,
           149.18173039866704
          ],
          [
           1.44,
           200
          ],
          [
           1.46,
           92.30120031443522
          ],
          [
           1.48,
           77.51521646353604
          ],
          [
           1.49,
           39.45977597541992
          ],
          [
           1.51,
           23.78791178604476
          ],
          [
           1.53,
           12.666385092887817
          ],
          [
           1.54,
           0
          ],
          [
           1.56,
           0
          ],
          [
           1.58,
           0
          ],
          [
           1.59,
           0
          ],
          [
           1.61,
           0
          ],
          [
           1.63,
           0
          ],
          [
           1.64,
           0
          ],
          [
           1.66,
           0
          ],
          [
           1.68,
           0
          ],
          [
           1.69,
           0
          ],
          [
           1.71,
           0
          ],
          [
           1.73,
           0
          ],
          [
           1.74,
           0
          ],
          [
           1.76,
           0
          ],
          [
           1.78,
           0
          ],
          [
           1.79,
           0
          ],
          [
           1.81,
           11.113574260754897
          ],
          [
           1.83,
           17.39756300415696
          ],
          [
           1.84,
           25.36336016936338
          ],
          [
           1.86,
           42.745053947283765
          ],
          [
           1.88,
           55.307870918250224
          ],
          [
           1.89,
           71.36004316171837
          ],
          [
           1.91,
           82.04833115887553
          ],
          [
           1.93,
           109.31884081708708
          ],
          [
           1.94,
           135.98535801155995
          ],
          [
           1.96,
           151.80479113906117
          ],
          [
           1.98,
           151.91188914376934
          ],
          [
           1.99,
           152.2183976603357
          ],
          [
           2.01,
           151.83874169207473
          ],
          [
           2.03,
           151.94010563228625
          ],
          [
           2.04,
           152.18064330708626
          ],
          [
           2.06,
           120.02269521548416
          ],
          [
           2.08,
           102.4628675694186
          ],
          [
           2.09,
           74.63074758093022
          ],
          [
           2.11,
           57.09447007002752
          ],
          [
           2.12,
           39.44051343604841
          ],
          [
           2.14,
           23.779985029277213
          ],
          [
           2.16,
           0
          ],
          [
           2.17,
           0
          ],
          [
           2.19,
           0
          ],
          [
           2.21,
           0
          ],
          [
           2.22,
           0
          ],
          [
           2.25,
           0
          ],
          [
           2.25,
           0
          ],
          [
           2.27,
           0
          ],
          [
           2.27,
           0
          ],
          [
           2.28,
           0
          ],
          [
           2.29,
           0
          ],
          [
           2.31,
           0
          ],
          [
           2.32,
           0
          ],
          [
           2.34,
           0
          ],
          [
           2.36,
           0
          ],
          [
           2.37,
           0
          ],
          [
           2.39,
           0
          ],
          [
           2.41,
           0
          ],
          [
           2.42,
           0
          ],
          [
           2.44,
           0
          ],
          [
           2.46,
           0
          ],
          [
           2.47,
           0
          ],
          [
           2.49,
           0
          ],
          [
           2.51,
           0
          ],
          [
           2.52,
           0
          ],
          [
           2.54,
           0
          ],
          [
           2.56,
           7.9244540101634735
          ],
          [
           2.57,
           9.512484641564589
          ],
          [
           2.59,
           12.643602790116516
          ],
          [
           2.61,
           17.42232136916617
          ],
          [
           2.62,
           17.37179006990874
          ],
          [
           2.64,
           22.23113495854303
          ],
          [
           2.66,
           28.4203770941283
          ],
          [
           2.67,
           33.258369910548346
          ],
          [
           2.69,
           39.4491260756922
          ],
          [
           2.71,
           47.54159812346906
          ],
          [
           2.72,
           52.15634504268888
          ],
          [
           2.74,
           66.6414299718781
          ],
          [
           2.76,
           77.52840047778474
          ],
          [
           2.77,
           91.67102950866658
          ],
          [
           2.79,
           91.6153437307428
          ],
          [
           2.81,
           104.87140418847332
          ],
          [
           2.82,
           104.27391762632786
          ],
          [
           2.84,
           115.44910237524148
          ],
          [
           2.86,
           151.8850436611796
          ],
          [
           2.87,
           151.74417238953407
          ],
          [
           2.89,
           152.36316511466194
          ],
          [
           2.9,
           151.71388588012516
          ],
          [
           2.92,
           151.56879859258774
          ],
          [
           2.94,
           152.49943238818912
          ],
          [
           2.95,
           153.90423672651383
          ],
          [
           2.97,
           155.7039861491854
          ],
          [
           2.99,
           161.2521070421
          ],
          [
           3,
           166.6658457200655
          ],
          [
           3.02,
           167.18881654519794
          ],
          [
           3.04,
           168.3309471484466
          ],
          [
           3.05,
           170.59362550816158
          ],
          [
           3.07,
           172.54728119242222
          ],
          [
           3.09,
           172.44734184171773
          ],
          [
           3.1,
           175.4861480382887
          ],
          [
           3.12,
           179.38939740446207
          ],
          [
           3.14,
           178.30296626635558
          ],
          [
           3.15,
           180.6014929083664
          ],
          [
           3.17,
           176.85338634233636
          ],
          [
           3.19,
           184.0009395944336
          ],
          [
           3.2,
           188.6390022776661
          ],
          [
           3.22,
           184.04642102509771
          ],
          [
           3.24,
           187.92180255275773
          ],
          [
           3.25,
           185.52840565723235
          ],
          [
           3.27,
           187.37305378430955
          ],
          [
           3.29,
           188.9078254403862
          ],
          [
           3.3,
           187.6945179661853
          ],
          [
           3.32,
           186.68370997549536
          ],
          [
           3.34,
           185.31616169302225
          ],
          [
           3.35,
           181.7159384104061
          ],
          [
           3.37,
           171.05190263701977
          ],
          [
           3.39,
           163.08381042176308
          ],
          [
           3.4,
           151.77195053048757
          ],
          [
           3.42,
           152.01788809251178
          ],
          [
           3.44,
           105.43253876518531
          ],
          [
           3.45,
           85.66902289907385
          ],
          [
           3.47,
           42.74699138127524
          ],
          [
           3.49,
           23.70845411864547
          ],
          [
           3.5,
           11.136225848414831
          ],
          [
           3.52,
           0
          ],
          [
           3.54,
           0
          ],
          [
           3.55,
           0
          ],
          [
           3.57,
           0
          ],
          [
           3.59,
           0
          ],
          [
           3.6,
           0
          ],
          [
           3.62,
           0
          ],
          [
           3.64,
           0
          ],
          [
           3.65,
           0
          ]
         ],
         "hovertemplate": "rel_time: %{customdata[0]:.2f} <br>monkey_speed: %{customdata[1]:.2f}",
         "legendgroup": "",
         "marker": {
          "cmax": 200,
          "cmin": 0,
          "color": [
           152.79032781095057,
           151.11864691460295,
           152.67098338133312,
           151.3197884411015,
           152.44682251927057,
           110.32021529698906,
           18.56823137770606,
           158.60085585095928,
           80.68834347039791,
           80.60648897180023,
           80.80595687169345,
           80.59412576748339,
           80.65522805825603,
           85.61504015041015,
           93.13303967946716,
           93.43855282982344,
           99.70407233597476,
           104.21519871915704,
           107.96676371378211,
           112.1062449481361,
           114.2463163205497,
           148.46000884112038,
           152.20083198568827,
           151.45558864851296,
           152.10248623899105,
           159.92219845578228,
           164.0345315891377,
           168.14333236491362,
           174.24893309342565,
           178.8048211356688,
           181.63461321019,
           185.48916391899184,
           191.38448296563715,
           192.66254696792055,
           198.38048469521337,
           35.46433929210713,
           200,
           198.4309168918632,
           200,
           199.55642060306224,
           199.56197687346543,
           199.12104448486747,
           199.3603897643628,
           199.66690690344123,
           197.14148183021567,
           191.6020141479675,
           172.71035596858064,
           158.14344351440545,
           29.00647389917051,
           150.72356026904157,
           108.4753955946056,
           87.14228483610245,
           67.80119699002073,
           28.333136691002945,
           14.36574824962513,
           0,
           0,
           0,
           0,
           0,
           0,
           0,
           0,
           0,
           0,
           0,
           0,
           0,
           0,
           0,
           0,
           0,
           0,
           0,
           0,
           0,
           14.476396287949528,
           23.70759286679082,
           30.00555466204261,
           38.03941332045998,
           50.67900711709706,
           66.31437280937512,
           75.81309214431946,
           85.69869133468003,
           89.7031238512582,
           96.94122473859424,
           103.02584270463434,
           107.29355404438483,
           114.62596253666092,
           155.25503249662282,
           151.9262246320305,
           154.00065011963076,
           155.80961509574325,
           163.66476401041373,
           172.4548971720969,
           178.97346585998068,
           181.808243960222,
           185.1516753408388,
           185.2631558892411,
           183.6782419809321,
           180.05425920872233,
           175.56193640300344,
           157.6459447340854,
           154.11682054535692,
           152.2834465859552,
           105.71498794987782,
           88.53352440257855,
           76.17088479878633,
           42.65578622719958,
           28.576232744680787,
           15.794271287609584,
           0,
           0,
           0,
           0,
           0,
           0,
           0,
           0,
           0,
           0,
           0,
           0,
           0,
           0,
           0,
           0,
           0,
           0,
           0,
           0,
           0,
           0,
           0,
           0,
           0,
           0,
           0,
           6.315031914745894,
           6.354566956403254,
           7.924660967276503,
           11.068457399018016,
           12.457466468585949,
           16.063118393419177,
           20.54640406452821,
           23.75277811350326,
           31.5507633831503,
           38.10828461027582,
           41.19498323883111,
           52.11642319127948,
           58.40189989292798,
           63.525192727827225,
           76.05921510383693,
           83.53776140785646,
           92.09164719755071,
           98.08796576480316,
           111.85642141069746,
           141.37559370041194,
           151.83987348453067,
           151.9072535314696,
           151.6477910502573,
           151.9952981008334,
           155.4518856161802,
           154.94279599819242,
           162.25545917612743,
           173.29088535764447,
           172.47217612369997,
           180.01955499111435,
           185.57577564902928,
           186.26047865542,
           192.18742623751805,
           192.5738074676917,
           198.09156569337185,
           198.012722645098,
           196.8094018053392,
           200,
           199.3985256830172,
           199.16992740221576,
           198.75487668493983,
           200,
           199.42144514312997,
           199.0434961009507,
           199.69014464179688,
           198.7297166777911,
           199.63578469105065,
           199.5326054767411,
           199.93988525309317,
           199.0014531681209,
           198.83013945821315,
           199.89102255986197,
           199.35170994330275,
           36.55347858125096,
           200,
           199.43176478636272,
           199.7819088932136,
           199.05291878139468,
           199.0424191166175,
           197.0353509280156,
           178.57646785136285,
           161.00258812587725,
           152.05428591714508,
           151.80949278178852,
           91.61500231808915,
           53.92492701480058,
           53.89019323515758,
           34.731357248605114,
           11.054060113398572,
           0.0037832567489858,
           0,
           0,
           0,
           0,
           0,
           0,
           0,
           0,
           0,
           0,
           0,
           7.945845979714239,
           11.052281791605177,
           23.732652817956176,
           23.42932193164329,
           30.478215126505805,
           41.060781718608105,
           57.097590672510805,
           64.757374604199,
           76.17464964517242,
           77.6394264833862,
           93.28780049363424,
           99.1396936309184,
           106.33572834928444,
           113.95732375054644,
           113.65504263341408,
           114.32875181872228,
           114.10586527723596,
           104.23505535764087,
           98.13075334979922,
           88.58852134678402,
           69.67334517013721,
           53.92304071189093,
           40.9931140587443,
           25.2945310596852,
           6.347157074340548,
           0,
           0,
           0,
           0,
           0,
           0,
           0,
           0,
           0,
           0,
           0,
           0,
           0,
           0,
           0,
           0,
           0,
           0,
           0,
           0,
           0,
           0,
           0,
           0,
           0,
           7.883841610551977,
           7.93810554228825,
           12.678582666420096,
           12.61942966455095,
           20.59906723366452,
           26.92859015364367,
           26.912842839129844,
           39.47600210589237,
           42.86011509721827,
           53.62115735120635,
           58.544561274370814,
           76.03925243297603,
           77.49261861358735,
           84.01670479785297,
           83.91913018570237,
           93.24188550452368,
           101.52104299229568,
           100.55175443056817,
           109.54098476676188,
           115.6418491136582,
           123.58010908010628,
           145.00751784201404,
           152.37427544764466,
           151.6381351068156,
           151.73457490049194,
           152.28834914027743,
           152.3162180830867,
           151.53693499439206,
           151.86932074857515,
           150.96316727394938,
           152.4291188474258,
           152.4980363547552,
           153.33475544440026,
           153.62410756150422,
           153.78598119364472,
           152.7546624984488,
           153.56384281606742,
           153.9618494875264,
           153.50819311309408,
           154.3073966994064,
           155.77801128182435,
           157.90675517984835,
           161.05242817643622,
           163.86223732994125,
           167.82914367359032,
           170.44471181461847,
           173.7859614887793,
           177.7785760869641,
           177.16276097277282,
           183.72280621904824,
           193.1788373892612,
           35.22021036574542,
           200,
           194.99480768181127,
           194.5389602051043,
           195.0417442336395,
           195.75022892590655,
           194.32340179892924,
           193.20087708789455,
           191.72702784747707,
           186.72469998873663,
           180.4353354809436,
           29.922032227715547,
           149.18173039866704,
           200,
           92.30120031443522,
           77.51521646353604,
           39.45977597541992,
           23.78791178604476,
           12.666385092887817,
           0,
           0,
           0,
           0,
           0,
           0,
           0,
           0,
           0,
           0,
           0,
           0,
           0,
           0,
           0,
           0,
           11.113574260754897,
           17.39756300415696,
           25.36336016936338,
           42.745053947283765,
           55.307870918250224,
           71.36004316171837,
           82.04833115887553,
           109.31884081708708,
           135.98535801155995,
           151.80479113906117,
           151.91188914376934,
           152.2183976603357,
           151.83874169207473,
           151.94010563228625,
           152.18064330708626,
           120.02269521548416,
           102.4628675694186,
           74.63074758093022,
           57.09447007002752,
           39.44051343604841,
           23.779985029277213,
           0,
           0,
           0,
           0,
           0,
           0,
           0,
           0,
           0,
           0,
           0,
           0,
           0,
           0,
           0,
           0,
           0,
           0,
           0,
           0,
           0,
           0,
           0,
           0,
           0,
           0,
           7.9244540101634735,
           9.512484641564589,
           12.643602790116516,
           17.42232136916617,
           17.37179006990874,
           22.23113495854303,
           28.4203770941283,
           33.258369910548346,
           39.4491260756922,
           47.54159812346906,
           52.15634504268888,
           66.6414299718781,
           77.52840047778474,
           91.67102950866658,
           91.6153437307428,
           104.87140418847332,
           104.27391762632786,
           115.44910237524148,
           151.8850436611796,
           151.74417238953407,
           152.36316511466194,
           151.71388588012516,
           151.56879859258774,
           152.49943238818912,
           153.90423672651383,
           155.7039861491854,
           161.2521070421,
           166.6658457200655,
           167.18881654519794,
           168.3309471484466,
           170.59362550816158,
           172.54728119242222,
           172.44734184171773,
           175.4861480382887,
           179.38939740446207,
           178.30296626635558,
           180.6014929083664,
           176.85338634233636,
           184.0009395944336,
           188.6390022776661,
           184.04642102509771,
           187.92180255275773,
           185.52840565723235,
           187.37305378430955,
           188.9078254403862,
           187.6945179661853,
           186.68370997549536,
           185.31616169302225,
           181.7159384104061,
           171.05190263701977,
           163.08381042176308,
           151.77195053048757,
           152.01788809251178,
           105.43253876518531,
           85.66902289907385,
           42.74699138127524,
           23.70845411864547,
           11.136225848414831,
           0,
           0,
           0,
           0,
           0,
           0,
           0,
           0,
           0
          ],
          "colorscale": [
           [
            0,
            "#440154"
           ],
           [
            0.1111111111111111,
            "#482878"
           ],
           [
            0.2222222222222222,
            "#3e4989"
           ],
           [
            0.3333333333333333,
            "#31688e"
           ],
           [
            0.4444444444444444,
            "#26828e"
           ],
           [
            0.5555555555555556,
            "#1f9e89"
           ],
           [
            0.6666666666666666,
            "#35b779"
           ],
           [
            0.7777777777777778,
            "#6ece58"
           ],
           [
            0.8888888888888888,
            "#b5de2b"
           ],
           [
            1,
            "#fde725"
           ]
          ],
          "opacity": 0.8,
          "symbol": "circle"
         },
         "mode": "markers",
         "name": "trajectory_data",
         "orientation": "v",
         "showlegend": false,
         "type": "scatter",
         "x": [
          -418.2543425969876,
          -420.23193479153457,
          -422.17946972617676,
          -424.09463270610905,
          -425.9722851549597,
          -427.3096920824867,
          -427.5347374412062,
          -429.3578500164997,
          -430.24658307029745,
          -431.12112417554994,
          -431.9683657544894,
          -432.7890858927586,
          -433.581904084676,
          -434.391566239258,
          -435.2424173757782,
          -436.059383835285,
          -436.8952784832831,
          -437.7312704709838,
          -438.5520369440225,
          -439.36587021194043,
          -440.1474403568071,
          -441.1096939026032,
          -442.03352008478925,
          -442.8966181406106,
          -443.70144746865986,
          -444.4861924226522,
          -445.2318439235681,
          -445.9280107403441,
          -446.58676013707833,
          -447.1982361177992,
          -447.7569324630673,
          -448.26367417900775,
          -448.7252716908187,
          -449.1281552784127,
          -449.48703265234883,
          -449.5494379787791,
          -450.03835999492657,
          -450.2674302199732,
          -450.4582366021802,
          -450.6174392972299,
          -450.7571400397421,
          -450.8774785726582,
          -450.9903252108648,
          -451.10323272945425,
          -451.2233685265892,
          -451.35282321449284,
          -451.48459811343315,
          -451.62280175113995,
          -451.64858368723543,
          -451.80029535034805,
          -451.92104443129125,
          -452.0253431728677,
          -452.11057207229686,
          -452.1474796267934,
          -452.16646150680594,
          -452.16646150680594,
          -452.16646150680594,
          -452.16646150680594,
          -452.16646150680594,
          -452.16646150680594,
          -452.16646150680594,
          -452.16646150680594,
          -452.16646150680594,
          -452.16646150680594,
          -452.16646150680594,
          -452.16646150680594,
          -452.16646150680594,
          -452.16646150680594,
          -452.16646150680594,
          -452.16646150680594,
          -452.16646150680594,
          -452.16646150680594,
          -452.16646150680594,
          -452.16646150680594,
          -452.16646150680594,
          -452.16646150680594,
          -452.1852677660436,
          -452.2166226982121,
          -452.25633914192514,
          -452.3065177751979,
          -452.3733511103637,
          -452.4611414306176,
          -452.5615106140426,
          -452.672286260408,
          -452.7862988979199,
          -452.9032075823625,
          -453.02249239350255,
          -453.1435237689843,
          -453.2675199495388,
          -453.4384327545076,
          -453.6103510810639,
          -453.7963251253286,
          -454.00497092475433,
          -454.24584415805435,
          -454.5297090606954,
          -454.86123174093575,
          -455.2390596387224,
          -455.66708508800076,
          -456.1409439846311,
          -456.65639130445203,
          -457.2089200028471,
          -457.79013893967016,
          -458.3523660241574,
          -458.9312752722123,
          -459.5358571204803,
          -459.977474376825,
          -460.3593060637875,
          -460.6960295903889,
          -460.88976991082137,
          -461.0202842561879,
          -461.09320059960504,
          -461.09320059960504,
          -461.09320059960504,
          -461.09320059960504,
          -461.09320059960504,
          -461.09320059960504,
          -461.09320059960504,
          -461.09320059960504,
          -461.09320059960504,
          -461.09320059960504,
          -461.09320059960504,
          -461.09320059960504,
          -461.09320059960504,
          -461.09320059960504,
          -461.09320059960504,
          -461.09320059960504,
          -461.09320059960504,
          -461.09320059960504,
          -461.09320059960504,
          -461.09320059960504,
          -461.09320059960504,
          -461.09320059960504,
          -461.09320059960504,
          -461.09320059960504,
          -461.09320059960504,
          -461.09320059960504,
          -461.09320059960504,
          -461.09320059960504,
          -461.1223332598354,
          -461.15153800070783,
          -461.18800533691234,
          -461.2388100941845,
          -461.2967246721874,
          -461.36856632057095,
          -461.46113320073823,
          -461.5669246109346,
          -461.70620012958915,
          -461.87091117903014,
          -462.04570342660156,
          -462.26259381756705,
          -462.4992494994794,
          -462.7464784312629,
          -463.03088236672824,
          -463.3313046933057,
          -463.64250341307786,
          -463.95476469454957,
          -464.2872043624684,
          -464.6690730996758,
          -465.0330517105709,
          -465.3485163247684,
          -465.61472923641657,
          -465.83156925108517,
          -466.00234950989704,
          -466.12243089727497,
          -466.1954219928097,
          -466.2162886614291,
          -466.1807252943735,
          -466.08455434826095,
          -465.93906962402286,
          -465.7477998831539,
          -465.51050491287975,
          -465.233483430156,
          -464.92230333399283,
          -464.590956122583,
          -464.23886182680434,
          -463.8650663747203,
          -463.47683707527864,
          -463.0763171692631,
          -462.6638523365433,
          -462.2413661207461,
          -461.81111856790926,
          -461.3727542383686,
          -460.9288089148274,
          -460.48530480052824,
          -460.0416452076174,
          -459.5976996637465,
          -459.160047698591,
          -458.7283924759149,
          -458.3071402365187,
          -457.8998571374935,
          -457.50718594707325,
          -457.43607024740965,
          -456.7981826893703,
          -456.4758649159789,
          -456.18206168283035,
          -455.92357934839293,
          -455.7040076934155,
          -455.5233542888096,
          -455.398685404392,
          -455.3149563490176,
          -455.25989653023066,
          -455.2287994872171,
          -455.2200750525883,
          -455.2182693540975,
          -455.21978893373955,
          -455.22206825175715,
          -455.22281410692835,
          -455.22279269180086,
          -455.22279269180086,
          -455.22279269180086,
          -455.22279269180086,
          -455.22279269180086,
          -455.22279269180086,
          -455.22279269180086,
          -455.22279269180086,
          -455.22279269180086,
          -455.22279269180086,
          -455.22279269180086,
          -455.22279269180086,
          -455.22334505717697,
          -455.22405646927433,
          -455.22559943036885,
          -455.22716212699424,
          -455.22912914971363,
          -455.2318406405766,
          -455.23558696685507,
          -455.2409147073071,
          -455.24930488976287,
          -455.2602533704138,
          -455.27692770712036,
          -455.29952614833496,
          -455.32859667033307,
          -455.3657265233842,
          -455.40877309175113,
          -455.4575561601405,
          -455.51219965440305,
          -455.5670081755628,
          -455.62250188156395,
          -455.6759138399253,
          -455.7200166045192,
          -455.7550548269457,
          -455.7818417917635,
          -455.7983148362642,
          -455.80243127240277,
          -455.80243127240277,
          -455.80243127240277,
          -455.80243127240277,
          -455.80243127240277,
          -455.80243127240277,
          -455.80243127240277,
          -455.80243127240277,
          -455.80243127240277,
          -455.80243127240277,
          -455.80243127240277,
          -455.80243127240277,
          -455.80243127240277,
          -455.80243127240277,
          -455.80243127240277,
          -455.80243127240277,
          -455.80243127240277,
          -455.80243127240277,
          -455.80243127240277,
          -455.80243127240277,
          -455.80243127240277,
          -455.80243127240277,
          -455.80243127240277,
          -455.80243127240277,
          -455.80243127240277,
          -455.80243127240277,
          -455.80758889825955,
          -455.81274596858293,
          -455.8209845334492,
          -455.82923148549656,
          -455.8426146482733,
          -455.8601331512252,
          -455.8776460540476,
          -455.9033783973698,
          -455.93044743673283,
          -455.9635405631167,
          -455.99789763239727,
          -456.0401623429573,
          -456.0806792528289,
          -456.12116877861126,
          -456.1582696954139,
          -456.19510248584595,
          -456.230016742908,
          -456.2597771628514,
          -456.2859874931249,
          -456.30704541191807,
          -456.32164170681574,
          -456.3291268536444,
          -456.3261225746019,
          -456.31031632448105,
          -456.2790458132175,
          -456.23410120942896,
          -456.17061483002965,
          -456.08613752893615,
          -455.98078955282665,
          -455.8500536639203,
          -455.6946409214689,
          -455.5143501919155,
          -455.3066148520937,
          -455.07358767219483,
          -454.81534639442805,
          -454.53193074920733,
          -454.22343696952896,
          -453.8895694949228,
          -453.5306604549952,
          -453.1429018810313,
          -452.7294352033848,
          -452.2819559916387,
          -451.7995846788365,
          -451.288338116305,
          -450.73928485696297,
          -450.15633787392073,
          -449.54022230096746,
          -448.891028704537,
          -448.20856563862793,
          -447.4940699743766,
          -446.7356044846332,
          -446.5950115589962,
          -445.13322832495874,
          -444.30715831586366,
          -443.47191515764325,
          -442.627158500403,
          -441.7714392203741,
          -440.92189409797055,
          -440.08004930006837,
          -439.24460264671234,
          -438.4352392442882,
          -437.66227405408665,
          -437.535157793877,
          -436.8933926685405,
          -436.05507201781666,
          -435.68956326642285,
          -435.3798649834742,
          -435.22336620670916,
          -435.12953040208805,
          -435.0794554482744,
          -435.0794554482744,
          -435.0794554482744,
          -435.0794554482744,
          -435.0794554482744,
          -435.0794554482744,
          -435.0794554482744,
          -435.0794554482744,
          -435.0794554482744,
          -435.0794554482744,
          -435.0794554482744,
          -435.0794554482744,
          -435.0794554482744,
          -435.0794554482744,
          -435.0794554482744,
          -435.0794554482744,
          -435.0794554482744,
          -435.0356177091666,
          -434.9667866475967,
          -434.86674398611166,
          -434.69832306977224,
          -434.48161207663566,
          -434.20597803993,
          -433.8930032237051,
          -433.4859136608591,
          -432.9907476519733,
          -432.4537321981859,
          -431.93283915854124,
          -431.4278757960817,
          -430.9391209373219,
          -430.4673076683789,
          -430.00960495444605,
          -429.6584829296155,
          -429.36572866403196,
          -429.1590059084164,
          -429.0034216712368,
          -428.8968827876634,
          -428.83297644601373,
          -428.83297644601373,
          -428.83297644601373,
          -428.83297644601373,
          -428.83297644601373,
          -428.83297644601373,
          -428.83297644601373,
          -428.83297644601373,
          -428.83297644601373,
          -428.83297644601373,
          -428.83297644601373,
          -428.83297644601373,
          -428.83297644601373,
          -428.83297644601373,
          -428.83297644601373,
          -428.83297644601373,
          -428.83297644601373,
          -428.83297644601373,
          -428.83297644601373,
          -428.83297644601373,
          -428.83297644601373,
          -428.83297644601373,
          -428.83297644601373,
          -428.83297644601373,
          -428.83297644601373,
          -428.83297644601373,
          -428.83297644601373,
          -428.81167378454114,
          -428.7860752117426,
          -428.7519925457289,
          -428.70509131145786,
          -428.65822588706794,
          -428.5985418944207,
          -428.52235290743164,
          -428.43403360904506,
          -428.3298084660095,
          -428.20622292785794,
          -428.07205206094716,
          -427.90371910051056,
          -427.7110884591417,
          -427.4846777602127,
          -427.2699862728305,
          -427.02830486962216,
          -426.79296287695905,
          -426.5399997873014,
          -426.2172788778175,
          -425.9043059711294,
          -425.6011211436572,
          -425.30780311358234,
          -425.02449965935085,
          -424.75064596584934,
          -424.4813354967489,
          -424.22206437200646,
          -423.96210524934463,
          -423.70401228589685,
          -423.45282664943215,
          -423.21057856247415,
          -422.97324670921694,
          -422.74186845330047,
          -422.51873092734905,
          -422.2980841723517,
          -422.0778765295273,
          -421.8617872708105,
          -421.643837376746,
          -421.42598804365366,
          -421.2041610072533,
          -420.98052025099184,
          -420.75689503376753,
          -420.53128159916,
          -420.3057671998248,
          -420.08006911750863,
          -419.85259530471177,
          -419.6297513179989,
          -419.414324865295,
          -419.20965432934054,
          -419.0177231934839,
          -418.8474373985788,
          -418.6951316578074,
          -418.5630197118759,
          -418.44078377482697,
          -418.3623455283534,
          -418.30391058253207,
          -418.2766657439301,
          -418.261454812565,
          -418.2543425969875,
          -418.2543425969875,
          -418.2543425969875,
          -418.2543425969875,
          -418.2543425969875,
          -418.2543425969875,
          -418.2543425969875,
          -418.2543425969875,
          -418.2543425969875,
          -418.2543425969875
         ],
         "xaxis": "x",
         "y": [
          118.3225621457251,
          119.88528068914962,
          121.48760722215972,
          123.12767389091766,
          124.81174009099095,
          126.07195060208653,
          126.28600955529532,
          128.19288756353274,
          129.1715763770155,
          130.1863196842749,
          131.22271533762168,
          132.28171192744838,
          133.36151499392983,
          134.5265184336426,
          135.82134375800854,
          137.13807431233684,
          138.5667993451382,
          140.0849392234239,
          141.67164396160348,
          143.3497078797255,
          145.07226668959908,
          147.34575577981545,
          149.69406281407583,
          152.06140005396415,
          154.45122359316613,
          156.98578721953038,
          159.61576188028036,
          162.30900504947314,
          165.1223051349241,
          168.02734484367622,
          170.99396147438353,
          174.02564354390753,
          177.17065426500534,
          180.35056065837125,
          183.6130868997248,
          184.1957316849157,
          190.15662176084686,
          193.45871197433635,
          196.7632445915889,
          200.06925635963344,
          203.37464393441974,
          206.6832418203369,
          209.9908992283643,
          213.2992507830469,
          216.57906269093306,
          219.75663701674273,
          222.61489347123018,
          225.2367509445526,
          225.71434330397238,
          228.21295859336564,
          230.0097057797214,
          231.45442490659366,
          232.5740412630279,
          233.0433188882852,
          233.2806157125711,
          233.2806157125711,
          233.2806157125711,
          233.2806157125711,
          233.2806157125711,
          233.2806157125711,
          233.2806157125711,
          233.2806157125711,
          233.2806157125711,
          233.2806157125711,
          233.2806157125711,
          233.2806157125711,
          233.2806157125711,
          233.2806157125711,
          233.2806157125711,
          233.2806157125711,
          233.2806157125711,
          233.2806157125711,
          233.2806157125711,
          233.2806157125711,
          233.2806157125711,
          233.2806157125711,
          233.5161934186693,
          233.9089878485874,
          234.40666803921064,
          235.0352858900643,
          235.872474958944,
          236.9722487775275,
          238.2294753147389,
          239.64285431012846,
          241.13628166175545,
          242.73182536015005,
          244.43541068192627,
          246.24290740333214,
          248.1583098114783,
          250.70777467259458,
          253.18870556011865,
          255.7287692464747,
          258.321473206452,
          261.015121446658,
          263.8648040780002,
          266.81594804423554,
          269.81132070536455,
          272.8550756421865,
          275.8918431422942,
          278.89403582460733,
          281.83801770201245,
          284.69397925656574,
          287.2606069906039,
          289.7415101330787,
          292.19025070794305,
          293.8939954359738,
          295.3140086367281,
          296.5292291760859,
          297.2114922375539,
          297.66579597193277,
          297.9181471426427,
          297.9181471426427,
          297.9181471426427,
          297.9181471426427,
          297.9181471426427,
          297.9181471426427,
          297.9181471426427,
          297.9181471426427,
          297.9181471426427,
          297.9181471426427,
          297.9181471426427,
          297.9181471426427,
          297.9181471426427,
          297.9181471426427,
          297.9181471426427,
          297.9181471426427,
          297.9181471426427,
          297.9181471426427,
          297.9181471426427,
          297.9181471426427,
          297.9181471426427,
          297.9181471426427,
          297.9181471426427,
          297.9181471426427,
          297.9181471426427,
          297.9181471426427,
          297.9181471426427,
          297.9181471426427,
          298.01899190356215,
          298.12008315663365,
          298.246270658868,
          298.4229240375154,
          298.6249958219974,
          298.8776609203817,
          299.20614307349973,
          299.5857600772728,
          300.09234664863106,
          300.70111157900243,
          301.36116677423234,
          302.20060875894166,
          303.14352196544144,
          304.16433614443935,
          305.3920501960478,
          306.7515766514549,
          308.2431140750984,
          309.8415514776971,
          311.67564203784195,
          313.9823161750449,
          316.47843428600686,
          318.9793655969881,
          321.4862632372426,
          323.99913481663685,
          326.56883750264905,
          329.1390139368273,
          331.84363897389585,
          334.70684823698866,
          337.5691480196181,
          340.5622286767701,
          343.63303261082143,
          346.72649949113105,
          349.89409744187145,
          353.08691554048204,
          356.3570958781237,
          359.6215918790733,
          362.88563411775607,
          366.17526008081603,
          369.4610237017815,
          372.74750992917365,
          376.0317746212792,
          379.31532158557127,
          382.59502448491077,
          385.8751593066276,
          389.1565261620151,
          392.4345158362698,
          395.7140044669617,
          398.9951513838318,
          402.2756918100148,
          405.55721553708463,
          408.8394233276606,
          412.1250715214533,
          415.40932415051446,
          416.00839646597757,
          421.99208334313215,
          425.28511934525676,
          428.58163970022514,
          431.88238144290796,
          435.1851662739285,
          438.487861639728,
          441.40903506916686,
          444.08036617039085,
          446.60173745071097,
          449.1231013666447,
          450.6462674093549,
          451.5392623750976,
          452.4323832548579,
          453.0102390814603,
          453.19413291295575,
          453.19407385880845,
          453.19407385880845,
          453.19407385880845,
          453.19407385880845,
          453.19407385880845,
          453.19407385880845,
          453.19407385880845,
          453.19407385880845,
          453.19407385880845,
          453.19407385880845,
          453.19407385880845,
          453.19407385880845,
          453.3254652068702,
          453.5093074857258,
          453.903337699476,
          454.29713464190615,
          454.7963639305417,
          455.479486774712,
          456.42455867021226,
          457.5016549055374,
          458.7630792009239,
          460.04944026679794,
          461.59960725942955,
          463.25349952496396,
          465.01354111022454,
          466.9040704046113,
          468.7957098291129,
          470.6863067717236,
          472.57636533102817,
          474.3094490377158,
          475.93717946096757,
          477.406867265158,
          478.5615577614037,
          479.45415942263287,
          480.13653814728804,
          480.5566356980614,
          480.66156870067994,
          480.66156870067994,
          480.66156870067994,
          480.66156870067994,
          480.66156870067994,
          480.66156870067994,
          480.66156870067994,
          480.66156870067994,
          480.66156870067994,
          480.66156870067994,
          480.66156870067994,
          480.66156870067994,
          480.66156870067994,
          480.66156870067994,
          480.66156870067994,
          480.66156870067994,
          480.66156870067994,
          480.66156870067994,
          480.66156870067994,
          480.66156870067994,
          480.66156870067994,
          480.66156870067994,
          480.66156870067994,
          480.66156870067994,
          480.66156870067994,
          480.66156870067994,
          480.79282008837356,
          480.9240706445731,
          481.13408197563155,
          481.34415986234484,
          481.6854300826045,
          482.1314005896959,
          482.57759492403886,
          483.2338133667095,
          483.94250291639815,
          484.8347889601617,
          485.8063140872765,
          487.0658797606681,
          488.352084179108,
          489.74356800155044,
          491.136215374672,
          492.68480485140975,
          494.36563074152417,
          496.0457881109169,
          497.85883058624836,
          499.7761724516832,
          501.8237192535745,
          504.2409829870109,
          506.7636897024323,
          509.28386594092103,
          511.84358895519887,
          514.3270052616481,
          516.8468867375362,
          519.3676523556229,
          521.8872410058343,
          524.4097711495133,
          526.9249324113154,
          529.436823119838,
          531.9761504589885,
          534.5140989107166,
          537.0493681792296,
          539.581196898325,
          542.1093006876054,
          544.6357122656957,
          547.158081033965,
          549.701927861036,
          552.2441579738351,
          554.8323813127888,
          557.466231824665,
          560.1238529981658,
          562.8520962942506,
          565.6294825641133,
          568.4531063922952,
          571.3217334795129,
          574.2380581977577,
          577.1992012445463,
          580.2576927872204,
          580.8219986816418,
          586.4583356940884,
          589.5834285099579,
          592.7043012015253,
          595.8225738351316,
          598.9640253482319,
          602.0825615465925,
          605.1728308152547,
          608.2395191815726,
          611.2349032393124,
          614.126619195285,
          614.6033781900815,
          617.0433519344948,
          620.3264490307641,
          621.7799845468099,
          623.029311081053,
          623.667445792368,
          624.049887343747,
          624.2540082068123,
          624.2540082068123,
          624.2540082068123,
          624.2540082068123,
          624.2540082068123,
          624.2540082068123,
          624.2540082068123,
          624.2540082068123,
          624.2540082068123,
          624.2540082068123,
          624.2540082068123,
          624.2540082068123,
          624.2540082068123,
          624.2540082068123,
          624.2540082068123,
          624.2540082068123,
          624.2540082068123,
          624.4328204367713,
          624.7133334694474,
          625.121210095229,
          625.8103242935949,
          626.7036873668852,
          627.8539887616489,
          629.1825788970132,
          630.9487774894909,
          633.1532466267629,
          635.6173408690023,
          638.0831410277724,
          640.5537139577266,
          643.0288721681322,
          645.5042352870024,
          647.985219749689,
          649.9506803004467,
          651.633148804713,
          652.8493514157061,
          653.7821784358235,
          654.4302429919652,
          654.818819501717,
          654.818819501717,
          654.818819501717,
          654.818819501717,
          654.818819501717,
          654.818819501717,
          654.818819501717,
          654.818819501717,
          654.818819501717,
          654.818819501717,
          654.818819501717,
          654.818819501717,
          654.818819501717,
          654.818819501717,
          654.818819501717,
          654.818819501717,
          654.818819501717,
          654.818819501717,
          654.818819501717,
          654.818819501717,
          654.818819501717,
          654.818819501717,
          654.818819501717,
          654.818819501717,
          654.818819501717,
          654.818819501717,
          654.818819501717,
          654.9484443893513,
          655.1040604657209,
          655.311222539717,
          655.5964635037209,
          655.8814592542413,
          656.2445338947697,
          656.7112714080237,
          657.2554078910732,
          657.9038340128699,
          658.6824214133901,
          659.5385493486973,
          660.6294199772154,
          661.9020503537151,
          663.4328039430634,
          664.9168230940313,
          666.6329939584642,
          668.3502883970766,
          670.2514892424529,
          672.751735526775,
          675.253617010012,
          677.7575482906209,
          680.2623727392539,
          682.7663800663069,
          685.2744239120514,
          687.834190412494,
          690.3948851315872,
          693.0614473442744,
          695.8081680077623,
          698.580002194678,
          701.3548200372061,
          704.1813338124873,
          707.034699943209,
          709.8898267583558,
          712.7971683621743,
          715.7566258544866,
          718.7180317667596,
          721.7044620813851,
          724.6899448668603,
          727.7294686158943,
          730.7940599869193,
          733.8589356263706,
          736.9510496055775,
          740.0409699225462,
          743.1335818302273,
          746.2515306289225,
          749.3675599635178,
          752.4601355103758,
          755.525853056566,
          758.5407775084013,
          761.3730720481161,
          764.0738521133449,
          766.5923839677567,
          769.110483524181,
          770.8701976469237,
          772.2863008269317,
          772.9951637703633,
          773.3886435865725,
          773.5723539184528,
          773.5723539184528,
          773.5723539184528,
          773.5723539184528,
          773.5723539184528,
          773.5723539184528,
          773.5723539184528,
          773.5723539184528,
          773.5723539184528,
          773.5723539184528
         ],
         "yaxis": "y"
        },
        {
         "hoverinfo": "name",
         "line": {
          "color": "green",
          "width": 4
         },
         "mode": "lines",
         "name": "nxt null arc",
         "opacity": 0.8,
         "showlegend": true,
         "type": "scatter",
         "x": [
          -466.12243083399306,
          -466.2402717001119,
          -466.34590669974733,
          -466.43933446069434,
          -466.52055376932066,
          -466.5895635705823,
          -466.64636296803764,
          -466.6909512238592,
          -466.7233277588428,
          -466.7434921524152,
          -466.7514441426396,
          -466.74718362621917,
          -466.7307106584985,
          -466.7020254534623,
          -466.66112838373317,
          -466.60801998056644,
          -466.54270093384366,
          -466.4651720920633,
          -466.37543446232974,
          -466.27348921034013,
          -466.1593376603697,
          -466.0329812952543,
          -465.8944217563704,
          -465.7436608436154,
          -465.58070051538255,
          -465.40554288853673,
          -465.21819023838594,
          -465.0186449986529,
          -464.8069097614424,
          -464.58298727720836,
          -464.34688045471745,
          -464.0985923610117,
          -463.83812622136907,
          -463.5654854192602,
          -463.2806734963063,
          -462.98369415223164,
          -462.6745512448161,
          -462.35324878984494,
          -462.0197909610569,
          -461.67418209008963,
          -461.31642666642375,
          -460.9465293373241,
          -460.5644949077794,
          -460.17032834044096,
          -459.7640347555563,
          -459.34561943090415,
          -458.9150878017252,
          -458.47244546065195,
          -458.01769815763544,
          -457.55085179987105,
          -457.07191245172197,
          -456.5808863346393,
          -456.077779827083,
          -455.56259946443686,
          -455.0353519389261,
          -454.4960440995281,
          -453.9446829518849,
          -453.38127565821156,
          -452.80582953720375,
          -452.21835206394184,
          -451.618850869794,
          -451.0073337423179,
          -450.38380862515857,
          -449.7482836179454,
          -449.1007669761874,
          -448.4412671111656,
          -447.7697925898239,
          -447.08635213465715,
          -446.3909546235992,
          -445.68360908990627,
          -444.9643247220405,
          -444.23311086354994,
          -443.4899770129473,
          -442.73493282358726,
          -441.9679881035403,
          -441.1891528154651,
          -440.3984370764801,
          -439.5958511580314,
          -438.7814054857593,
          -437.9551106393631,
          -437.11697735246366,
          -436.267016512464,
          -435.40523916040746,
          -434.531656490835,
          -433.64627985163895,
          -432.74912074391625,
          -431.84019082181914,
          -430.9195018924029,
          -429.9870659154733,
          -429.0428950034311,
          -428.0870014211142,
          -427.1193975856393,
          -426.1400960662395,
          -425.1491095841016,
          -424.14645101220117,
          -423.1321333751345,
          -422.10616984895006,
          -421.0685737609768,
          -420.01935858965226,
          -418.95853796434545
         ],
         "y": [
          329.13901220794634,
          332.5253983940725,
          335.91218730366904,
          339.29933494213986,
          342.68679731022905,
          346.0745304045923,
          349.4624902183684,
          352.85063274175144,
          356.23891396256187,
          359.6272898668184,
          363.01571643930976,
          366.4041496641664,
          369.79254552543296,
          373.18086000763884,
          376.5690490963708,
          379.9570687788441,
          383.34487504447515,
          386.7324238854523,
          390.1196712973082,
          393.50657327949045,
          396.8930858359344,
          400.2791649756341,
          403.6647667132131,
          407.0498470694969,
          410.434362072084,
          413.8182677559162,
          417.2015201638507,
          420.58407534723125,
          423.96588936645765,
          427.34691829155855,
          430.7271182027602,
          434.1064451910579,
          437.4848553587868,
          440.8623048201908,
          444.2387497019944,
          447.61414614397086,
          450.98845029951286,
          454.36161833620224,
          457.73360643637903,
          461.1043707977106,
          464.4738676337608,
          467.8420531745585,
          471.20888366716645,
          474.5743153762504,
          477.9383045846448,
          481.30080759392405,
          484.6617807249666,
          488.02118031852535,
          491.37896273579327,
          494.7350843589702,
          498.0895015918303,
          501.44217086028726,
          504.79304861296174,
          508.1420913217455,
          511.48925548236815,
          514.8344976149616,
          518.1777742646248,
          521.5190420019886,
          524.8582574237803,
          528.195377153386,
          531.5303578414155,
          534.8631561662646,
          538.1937288346785,
          541.5220325823133,
          544.8480241742991,
          548.1716604058008,
          551.4928981025791,
          554.8116941215527,
          558.1280053513574,
          561.4417887129064,
          564.7530011599501,
          568.061599679636,
          571.367541293065,
          574.670783055853,
          577.9712820586867,
          581.2689954278809,
          584.5638803259366,
          587.8558939520965,
          591.1449935429011,
          594.4311363727447,
          597.7142797544303,
          600.9943810397233,
          604.2713976199066,
          607.5452869263335,
          610.8160064309806,
          614.0835136470008,
          617.3477661292745,
          620.6087214749616,
          623.8663373240514,
          627.1205713599138,
          630.3713813098494,
          633.6187249456367,
          636.8625600840825,
          640.1028445875687,
          643.339536364601,
          646.5725933703542,
          649.8019736072191,
          653.0276351253478,
          656.2495360231993,
          659.4676344480829
         ]
        },
        {
         "hoverinfo": "name",
         "line": {
          "color": "brown",
          "width": 3
         },
         "mode": "lines",
         "name": "cur null arc",
         "opacity": 0.8,
         "showlegend": true,
         "type": "scatter",
         "x": [
          -466.12243091707165,
          -466.17429022126686,
          -466.2199574694978,
          -466.25943188522285,
          -466.29271279720524,
          -466.31979963952483,
          -466.3406919515875,
          -466.3553893781331,
          -466.36389166924147,
          -466.3661986803367,
          -466.3623103721897,
          -466.35222681091847,
          -466.33594816798734,
          -466.3134747202042,
          -466.2848068497152,
          -466.2499450439989,
          -466.20888989585757,
          -466.161642103407,
          -466.1082024700654,
          -466.0485719045387,
          -465.98275142080576,
          -465.91074213810106,
          -465.8325452808955,
          -465.74816217887536,
          -465.6575942669205,
          -465.56084308507917,
          -465.45791027854204,
          -465.3487975976144,
          -465.2335068976862,
          -465.11204013920053,
          -464.9843993876205,
          -464.85058681339365,
          -464.7106046919157,
          -464.56445540349114,
          -464.41214143329347,
          -464.2536653713223,
          -464.08902991235965,
          -463.91823785592425,
          -463.7412921062235,
          -463.5581956721045,
          -463.3689516670026,
          -463.17356330888873,
          -462.97203392021447,
          -462.7643669278556,
          -462.5505658630539,
          -462.33063436135694,
          -462.1045761625565,
          -461.8723951106248,
          -461.6340951536491,
          -461.38968034376484,
          -461.1391548370863,
          -460.88252289363646,
          -460.619788877274,
          -460.3509572556195,
          -460.0760325999794,
          -459.795019585268,
          -459.5079229899284,
          -459.2147476958509,
          -458.9154986882902,
          -458.61018105578046,
          -458.29879999004885,
          -457.9813607859272,
          -457.6578688412622,
          -457.32832965682337,
          -456.9927488362095,
          -456.6511320857536,
          -456.3034852144256,
          -455.9498141337339,
          -455.59012485762446,
          -455.2244235023788,
          -454.85271628651,
          -454.47500953065656,
          -454.09130965747573,
          -453.7016231915335,
          -453.305956759194,
          -452.9043170885068,
          -452.4967110090925,
          -452.0831454520267,
          -451.6636274497219,
          -451.23816413580806,
          -450.8067627450112,
          -450.36943061303066,
          -449.9261751764141,
          -449.4770039724312,
          -449.02192463894494,
          -448.5609449142828,
          -448.09407263710426,
          -447.6213157462678,
          -447.1426822806961,
          -446.6581803792388,
          -446.16781828053485,
          -445.6716043228719,
          -445.1695469440445,
          -444.661654681211,
          -444.1479361707481,
          -443.6284001481037,
          -443.1030554476492,
          -442.5719110025284,
          -442.0349758445063,
          -441.4922591038149
         ],
         "y": [
          329.13901447767955,
          330.64051290547053,
          332.1422124155354,
          333.64408747245375,
          335.14611253781976,
          336.64826207067705,
          338.1505105279527,
          339.6528323648915,
          341.15520203549056,
          342.65759399293376,
          344.15998269002586,
          345.66234257962697,
          347.1646481150871,
          348.6668737506809,
          350.168993942041,
          351.6709831465935,
          353.17281582399187,
          354.6744664365508,
          356.1759094496814,
          357.6771193323244,
          359.1780705573852,
          360.67873760216713,
          362.179094948806,
          363.67911708470393,
          365.1787785029628,
          366.6780537028186,
          368.17691719007433,
          369.6753434775343,
          371.1733070854367,
          372.6707825418879,
          374.16774438329406,
          375.66416715479585,
          377.1600254107,
          378.65529371491266,
          380.1499466413718,
          381.6439587744793,
          383.1373047095333,
          384.62995905316035,
          386.12189642374705,
          387.6130914518715,
          389.10351878073493,
          390.59315306659306,
          392.08196897918623,
          393.5699412021712,
          395.05704443355097,
          396.5432533861048,
          398.0285427878193,
          399.5128873823169,
          400.9962619292859,
          402.4786412049099,
          403.9600000022961,
          405.4403131319046,
          406.9195554219762,
          408.3977017189606,
          409.8747268879444,
          411.3506058130778,
          412.82531339800244,
          414.29882456627803,
          415.7711142618081,
          417.2421574492669,
          418.7119291145245,
          420.1804042650725,
          421.6475579304488,
          423.1133651626623,
          424.5778010366173,
          426.040840650537,
          427.5024591263869,
          428.9626316102986,
          430.42133327299103,
          431.87853931019436,
          433.33422494307024,
          434.78836541863404,
          436.2409360101755,
          437.69191201767944,
          439.14126876824486,
          440.5889816165061,
          442.0350259450501,
          443.4793771648368,
          444.9220107156155,
          446.3629020663439,
          447.8020267156042,
          449.2393601920206,
          450.6748780546751,
          452.1085558935228,
          453.54036932980694,
          454.97029401647427,
          456.3983056385881,
          457.8243799137424,
          459.2484925924743,
          460.6706194586767,
          462.09073633000975,
          463.5088190583126,
          464.9248435300132,
          466.33878566653925,
          467.7506214247272,
          469.16032679723065,
          470.5678778129294,
          471.9732505373366,
          473.37642107300564,
          474.7773655599371
         ]
        }
       ],
       "layout": {
        "autosize": false,
        "coloraxis": {
         "showscale": false
        },
        "height": 700,
        "legend": {
         "tracegroupgap": 0
        },
        "margin": {
         "b": 0,
         "l": 10,
         "r": 10,
         "t": 20
        },
        "shapes": [
         {
          "line": {
           "color": "grey"
          },
          "opacity": 0.45,
          "type": "circle",
          "x0": -1000,
          "x1": 1000,
          "xref": "x",
          "y0": -1000,
          "y1": 1000,
          "yref": "y"
         }
        ],
        "template": {
         "data": {
          "bar": [
           {
            "error_x": {
             "color": "#2a3f5f"
            },
            "error_y": {
             "color": "#2a3f5f"
            },
            "marker": {
             "line": {
              "color": "#E5ECF6",
              "width": 0.5
             },
             "pattern": {
              "fillmode": "overlay",
              "size": 10,
              "solidity": 0.2
             }
            },
            "type": "bar"
           }
          ],
          "barpolar": [
           {
            "marker": {
             "line": {
              "color": "#E5ECF6",
              "width": 0.5
             },
             "pattern": {
              "fillmode": "overlay",
              "size": 10,
              "solidity": 0.2
             }
            },
            "type": "barpolar"
           }
          ],
          "carpet": [
           {
            "aaxis": {
             "endlinecolor": "#2a3f5f",
             "gridcolor": "white",
             "linecolor": "white",
             "minorgridcolor": "white",
             "startlinecolor": "#2a3f5f"
            },
            "baxis": {
             "endlinecolor": "#2a3f5f",
             "gridcolor": "white",
             "linecolor": "white",
             "minorgridcolor": "white",
             "startlinecolor": "#2a3f5f"
            },
            "type": "carpet"
           }
          ],
          "choropleth": [
           {
            "colorbar": {
             "outlinewidth": 0,
             "ticks": ""
            },
            "type": "choropleth"
           }
          ],
          "contour": [
           {
            "colorbar": {
             "outlinewidth": 0,
             "ticks": ""
            },
            "colorscale": [
             [
              0,
              "#0d0887"
             ],
             [
              0.1111111111111111,
              "#46039f"
             ],
             [
              0.2222222222222222,
              "#7201a8"
             ],
             [
              0.3333333333333333,
              "#9c179e"
             ],
             [
              0.4444444444444444,
              "#bd3786"
             ],
             [
              0.5555555555555556,
              "#d8576b"
             ],
             [
              0.6666666666666666,
              "#ed7953"
             ],
             [
              0.7777777777777778,
              "#fb9f3a"
             ],
             [
              0.8888888888888888,
              "#fdca26"
             ],
             [
              1,
              "#f0f921"
             ]
            ],
            "type": "contour"
           }
          ],
          "contourcarpet": [
           {
            "colorbar": {
             "outlinewidth": 0,
             "ticks": ""
            },
            "type": "contourcarpet"
           }
          ],
          "heatmap": [
           {
            "colorbar": {
             "outlinewidth": 0,
             "ticks": ""
            },
            "colorscale": [
             [
              0,
              "#0d0887"
             ],
             [
              0.1111111111111111,
              "#46039f"
             ],
             [
              0.2222222222222222,
              "#7201a8"
             ],
             [
              0.3333333333333333,
              "#9c179e"
             ],
             [
              0.4444444444444444,
              "#bd3786"
             ],
             [
              0.5555555555555556,
              "#d8576b"
             ],
             [
              0.6666666666666666,
              "#ed7953"
             ],
             [
              0.7777777777777778,
              "#fb9f3a"
             ],
             [
              0.8888888888888888,
              "#fdca26"
             ],
             [
              1,
              "#f0f921"
             ]
            ],
            "type": "heatmap"
           }
          ],
          "heatmapgl": [
           {
            "colorbar": {
             "outlinewidth": 0,
             "ticks": ""
            },
            "colorscale": [
             [
              0,
              "#0d0887"
             ],
             [
              0.1111111111111111,
              "#46039f"
             ],
             [
              0.2222222222222222,
              "#7201a8"
             ],
             [
              0.3333333333333333,
              "#9c179e"
             ],
             [
              0.4444444444444444,
              "#bd3786"
             ],
             [
              0.5555555555555556,
              "#d8576b"
             ],
             [
              0.6666666666666666,
              "#ed7953"
             ],
             [
              0.7777777777777778,
              "#fb9f3a"
             ],
             [
              0.8888888888888888,
              "#fdca26"
             ],
             [
              1,
              "#f0f921"
             ]
            ],
            "type": "heatmapgl"
           }
          ],
          "histogram": [
           {
            "marker": {
             "pattern": {
              "fillmode": "overlay",
              "size": 10,
              "solidity": 0.2
             }
            },
            "type": "histogram"
           }
          ],
          "histogram2d": [
           {
            "colorbar": {
             "outlinewidth": 0,
             "ticks": ""
            },
            "colorscale": [
             [
              0,
              "#0d0887"
             ],
             [
              0.1111111111111111,
              "#46039f"
             ],
             [
              0.2222222222222222,
              "#7201a8"
             ],
             [
              0.3333333333333333,
              "#9c179e"
             ],
             [
              0.4444444444444444,
              "#bd3786"
             ],
             [
              0.5555555555555556,
              "#d8576b"
             ],
             [
              0.6666666666666666,
              "#ed7953"
             ],
             [
              0.7777777777777778,
              "#fb9f3a"
             ],
             [
              0.8888888888888888,
              "#fdca26"
             ],
             [
              1,
              "#f0f921"
             ]
            ],
            "type": "histogram2d"
           }
          ],
          "histogram2dcontour": [
           {
            "colorbar": {
             "outlinewidth": 0,
             "ticks": ""
            },
            "colorscale": [
             [
              0,
              "#0d0887"
             ],
             [
              0.1111111111111111,
              "#46039f"
             ],
             [
              0.2222222222222222,
              "#7201a8"
             ],
             [
              0.3333333333333333,
              "#9c179e"
             ],
             [
              0.4444444444444444,
              "#bd3786"
             ],
             [
              0.5555555555555556,
              "#d8576b"
             ],
             [
              0.6666666666666666,
              "#ed7953"
             ],
             [
              0.7777777777777778,
              "#fb9f3a"
             ],
             [
              0.8888888888888888,
              "#fdca26"
             ],
             [
              1,
              "#f0f921"
             ]
            ],
            "type": "histogram2dcontour"
           }
          ],
          "mesh3d": [
           {
            "colorbar": {
             "outlinewidth": 0,
             "ticks": ""
            },
            "type": "mesh3d"
           }
          ],
          "parcoords": [
           {
            "line": {
             "colorbar": {
              "outlinewidth": 0,
              "ticks": ""
             }
            },
            "type": "parcoords"
           }
          ],
          "pie": [
           {
            "automargin": true,
            "type": "pie"
           }
          ],
          "scatter": [
           {
            "fillpattern": {
             "fillmode": "overlay",
             "size": 10,
             "solidity": 0.2
            },
            "type": "scatter"
           }
          ],
          "scatter3d": [
           {
            "line": {
             "colorbar": {
              "outlinewidth": 0,
              "ticks": ""
             }
            },
            "marker": {
             "colorbar": {
              "outlinewidth": 0,
              "ticks": ""
             }
            },
            "type": "scatter3d"
           }
          ],
          "scattercarpet": [
           {
            "marker": {
             "colorbar": {
              "outlinewidth": 0,
              "ticks": ""
             }
            },
            "type": "scattercarpet"
           }
          ],
          "scattergeo": [
           {
            "marker": {
             "colorbar": {
              "outlinewidth": 0,
              "ticks": ""
             }
            },
            "type": "scattergeo"
           }
          ],
          "scattergl": [
           {
            "marker": {
             "colorbar": {
              "outlinewidth": 0,
              "ticks": ""
             }
            },
            "type": "scattergl"
           }
          ],
          "scattermapbox": [
           {
            "marker": {
             "colorbar": {
              "outlinewidth": 0,
              "ticks": ""
             }
            },
            "type": "scattermapbox"
           }
          ],
          "scatterpolar": [
           {
            "marker": {
             "colorbar": {
              "outlinewidth": 0,
              "ticks": ""
             }
            },
            "type": "scatterpolar"
           }
          ],
          "scatterpolargl": [
           {
            "marker": {
             "colorbar": {
              "outlinewidth": 0,
              "ticks": ""
             }
            },
            "type": "scatterpolargl"
           }
          ],
          "scatterternary": [
           {
            "marker": {
             "colorbar": {
              "outlinewidth": 0,
              "ticks": ""
             }
            },
            "type": "scatterternary"
           }
          ],
          "surface": [
           {
            "colorbar": {
             "outlinewidth": 0,
             "ticks": ""
            },
            "colorscale": [
             [
              0,
              "#0d0887"
             ],
             [
              0.1111111111111111,
              "#46039f"
             ],
             [
              0.2222222222222222,
              "#7201a8"
             ],
             [
              0.3333333333333333,
              "#9c179e"
             ],
             [
              0.4444444444444444,
              "#bd3786"
             ],
             [
              0.5555555555555556,
              "#d8576b"
             ],
             [
              0.6666666666666666,
              "#ed7953"
             ],
             [
              0.7777777777777778,
              "#fb9f3a"
             ],
             [
              0.8888888888888888,
              "#fdca26"
             ],
             [
              1,
              "#f0f921"
             ]
            ],
            "type": "surface"
           }
          ],
          "table": [
           {
            "cells": {
             "fill": {
              "color": "#EBF0F8"
             },
             "line": {
              "color": "white"
             }
            },
            "header": {
             "fill": {
              "color": "#C8D4E3"
             },
             "line": {
              "color": "white"
             }
            },
            "type": "table"
           }
          ]
         },
         "layout": {
          "annotationdefaults": {
           "arrowcolor": "#2a3f5f",
           "arrowhead": 0,
           "arrowwidth": 1
          },
          "autotypenumbers": "strict",
          "coloraxis": {
           "colorbar": {
            "outlinewidth": 0,
            "ticks": ""
           }
          },
          "colorscale": {
           "diverging": [
            [
             0,
             "#8e0152"
            ],
            [
             0.1,
             "#c51b7d"
            ],
            [
             0.2,
             "#de77ae"
            ],
            [
             0.3,
             "#f1b6da"
            ],
            [
             0.4,
             "#fde0ef"
            ],
            [
             0.5,
             "#f7f7f7"
            ],
            [
             0.6,
             "#e6f5d0"
            ],
            [
             0.7,
             "#b8e186"
            ],
            [
             0.8,
             "#7fbc41"
            ],
            [
             0.9,
             "#4d9221"
            ],
            [
             1,
             "#276419"
            ]
           ],
           "sequential": [
            [
             0,
             "#0d0887"
            ],
            [
             0.1111111111111111,
             "#46039f"
            ],
            [
             0.2222222222222222,
             "#7201a8"
            ],
            [
             0.3333333333333333,
             "#9c179e"
            ],
            [
             0.4444444444444444,
             "#bd3786"
            ],
            [
             0.5555555555555556,
             "#d8576b"
            ],
            [
             0.6666666666666666,
             "#ed7953"
            ],
            [
             0.7777777777777778,
             "#fb9f3a"
            ],
            [
             0.8888888888888888,
             "#fdca26"
            ],
            [
             1,
             "#f0f921"
            ]
           ],
           "sequentialminus": [
            [
             0,
             "#0d0887"
            ],
            [
             0.1111111111111111,
             "#46039f"
            ],
            [
             0.2222222222222222,
             "#7201a8"
            ],
            [
             0.3333333333333333,
             "#9c179e"
            ],
            [
             0.4444444444444444,
             "#bd3786"
            ],
            [
             0.5555555555555556,
             "#d8576b"
            ],
            [
             0.6666666666666666,
             "#ed7953"
            ],
            [
             0.7777777777777778,
             "#fb9f3a"
            ],
            [
             0.8888888888888888,
             "#fdca26"
            ],
            [
             1,
             "#f0f921"
            ]
           ]
          },
          "colorway": [
           "#636efa",
           "#EF553B",
           "#00cc96",
           "#ab63fa",
           "#FFA15A",
           "#19d3f3",
           "#FF6692",
           "#B6E880",
           "#FF97FF",
           "#FECB52"
          ],
          "font": {
           "color": "#2a3f5f"
          },
          "geo": {
           "bgcolor": "white",
           "lakecolor": "white",
           "landcolor": "#E5ECF6",
           "showlakes": true,
           "showland": true,
           "subunitcolor": "white"
          },
          "hoverlabel": {
           "align": "left"
          },
          "hovermode": "closest",
          "mapbox": {
           "style": "light"
          },
          "paper_bgcolor": "white",
          "plot_bgcolor": "#E5ECF6",
          "polar": {
           "angularaxis": {
            "gridcolor": "white",
            "linecolor": "white",
            "ticks": ""
           },
           "bgcolor": "#E5ECF6",
           "radialaxis": {
            "gridcolor": "white",
            "linecolor": "white",
            "ticks": ""
           }
          },
          "scene": {
           "xaxis": {
            "backgroundcolor": "#E5ECF6",
            "gridcolor": "white",
            "gridwidth": 2,
            "linecolor": "white",
            "showbackground": true,
            "ticks": "",
            "zerolinecolor": "white"
           },
           "yaxis": {
            "backgroundcolor": "#E5ECF6",
            "gridcolor": "white",
            "gridwidth": 2,
            "linecolor": "white",
            "showbackground": true,
            "ticks": "",
            "zerolinecolor": "white"
           },
           "zaxis": {
            "backgroundcolor": "#E5ECF6",
            "gridcolor": "white",
            "gridwidth": 2,
            "linecolor": "white",
            "showbackground": true,
            "ticks": "",
            "zerolinecolor": "white"
           }
          },
          "shapedefaults": {
           "line": {
            "color": "#2a3f5f"
           }
          },
          "ternary": {
           "aaxis": {
            "gridcolor": "white",
            "linecolor": "white",
            "ticks": ""
           },
           "baxis": {
            "gridcolor": "white",
            "linecolor": "white",
            "ticks": ""
           },
           "bgcolor": "#E5ECF6",
           "caxis": {
            "gridcolor": "white",
            "linecolor": "white",
            "ticks": ""
           }
          },
          "title": {
           "x": 0.05
          },
          "xaxis": {
           "automargin": true,
           "gridcolor": "white",
           "linecolor": "white",
           "ticks": "",
           "title": {
            "standoff": 15
           },
           "zerolinecolor": "white",
           "zerolinewidth": 2
          },
          "yaxis": {
           "automargin": true,
           "gridcolor": "white",
           "linecolor": "white",
           "ticks": "",
           "title": {
            "standoff": 15
           },
           "zerolinecolor": "white",
           "zerolinewidth": 2
          }
         }
        },
        "width": 900,
        "xaxis": {
         "anchor": "y",
         "domain": [
          0,
          1
         ],
         "range": [
          -566.2162886614291,
          -318.2543425969875
         ],
         "title": {
          "text": "monkey x after rotation (cm)"
         }
        },
        "yaxis": {
         "anchor": "x",
         "domain": [
          0,
          1
         ],
         "range": [
          68.3225621457251,
          1023.5723539184528
         ],
         "scaleanchor": "x",
         "scaleratio": 1,
         "title": {
          "text": "monkey y after rotation (cm)"
         }
        }
       }
      }
     },
     "metadata": {},
     "output_type": "display_data"
    }
   ],
   "source": [
    "current_i = snf.make_individual_plots_for_stops_near_ff_in_plotly(current_i, max_num_plot_to_make=1, \n",
    "                                             show_eye_positions_for_both_eyes=True)"
   ]
  },
  {
   "cell_type": "markdown",
   "metadata": {},
   "source": [
    "# Dash"
   ]
  },
  {
   "cell_type": "markdown",
   "metadata": {},
   "source": [
    "## main"
   ]
  },
  {
   "cell_type": "code",
   "execution_count": 29,
   "metadata": {},
   "outputs": [],
   "source": [
    "raw_data_folder_path = 'all_monkey_data/raw_monkey_data/monkey_Bruno/data_0326'"
   ]
  },
  {
   "cell_type": "code",
   "execution_count": null,
   "metadata": {},
   "outputs": [],
   "source": [
    "gc.collect()"
   ]
  },
  {
   "cell_type": "code",
   "execution_count": null,
   "metadata": {},
   "outputs": [],
   "source": [
    "test_or_control='test'\n",
    "\n",
    "\n",
    "ref_point_params = {'ref_point_mode': 'time after cur ff visible',\n",
    "                    'ref_point_value': 0}\n",
    "\n",
    "\n",
    "curv_of_traj_params = {'curv_of_traj_mode': 'distance',\n",
    "                        'window_for_curv_of_traj': [-25, 25],\n",
    "                        'truncate_curv_of_traj_by_time_of_capture': False}\n",
    "\n",
    "\n",
    "overall_params = {'eliminate_outliers': True,\n",
    "                  'use_curvature_to_ff_center': False,\n",
    "                  'normalize': False,\n",
    "                  'remove_i_o_modify_rows_with_big_ff_angles': True,\n",
    "                  'change_units_to_degrees_per_m': True,\n",
    "                  'heading_instead_of_curv': True}  \n",
    "\n",
    "\n",
    "scatter_plot_params = {\n",
    "    \"use_two_y_axes\": False,\n",
    "    \"show_nxt_ff_curv_in_scatterplot\": True,\n",
    "    \"show_cur_ff_curv_in_scatterplot\": True,\n",
    "}\n",
    "\n",
    "monkey_plot_params = {\n",
    "    \"show_visible_fireflies\": True,\n",
    "    \"show_in_memory_fireflies\": False,\n",
    "    \"show_monkey_heading\": False,\n",
    "    \"show_visible_segments\": True,\n",
    "    \"show_traj_portion\": True,\n",
    "    \"show_null_arcs_to_ff\": True,\n",
    "    \"show_stops\": True,\n",
    "    \"show_all_eye_positions\": False,\n",
    "    \"show_current_eye_positions\": True,\n",
    "    \"show_eye_positions_for_both_eyes\": True,\n",
    "}\n",
    "     \n",
    "#data_item_info = find_stops_near_ff_utils.extract_key_info_from_data_item_for_stops_near_ff_class(data_item)                       \n",
    "dc = dash_main_class.DashMainPlots(raw_data_folder_path=raw_data_folder_path)\n",
    "\n",
    "\n",
    "dc.prepare_to_make_dash_for_main_plots(monkey_plot_params=monkey_plot_params,\n",
    "                                        scatter_plot_params=scatter_plot_params,\n",
    "                                        ref_point_params=ref_point_params,\n",
    "                                        curv_of_traj_params=curv_of_traj_params,\n",
    "                                        overall_params=overall_params,\n",
    "                                        stops_near_ff_df_exists_ok=True,\n",
    "                                        test_or_control=test_or_control)\n",
    "\n",
    "\n"
   ]
  },
  {
   "cell_type": "code",
   "execution_count": null,
   "metadata": {},
   "outputs": [],
   "source": [
    "dc.fig.show()\n",
    "dc.fig_scatter_combd.show()"
   ]
  },
  {
   "cell_type": "code",
   "execution_count": null,
   "metadata": {},
   "outputs": [],
   "source": [
    "gc.collect()"
   ]
  },
  {
   "cell_type": "code",
   "execution_count": null,
   "metadata": {},
   "outputs": [],
   "source": [
    "dc.get_more_monkey_data()"
   ]
  },
  {
   "cell_type": "markdown",
   "metadata": {},
   "source": [
    "### dash"
   ]
  },
  {
   "cell_type": "code",
   "execution_count": null,
   "metadata": {},
   "outputs": [],
   "source": [
    "dc.make_dash_for_main_plots(show_trajectory_scatter_plot=True, show_shuffled_correlation_plot=False) "
   ]
  },
  {
   "cell_type": "markdown",
   "metadata": {},
   "source": [
    "### clean up"
   ]
  },
  {
   "cell_type": "code",
   "execution_count": null,
   "metadata": {},
   "outputs": [],
   "source": [
    "# dc.app.server.shutdown()"
   ]
  },
  {
   "cell_type": "code",
   "execution_count": null,
   "metadata": {},
   "outputs": [],
   "source": [
    "import gc\n",
    "\n",
    "# Now we're done with the data, so we can delete it and run the garbage collector.\n",
    "del dc.app\n",
    "gc.collect()"
   ]
  },
  {
   "cell_type": "markdown",
   "metadata": {},
   "source": [
    "### more fig"
   ]
  },
  {
   "cell_type": "code",
   "execution_count": null,
   "metadata": {},
   "outputs": [],
   "source": [
    "for index, row in dc.stops_near_ff_df_counted.iterrows():\n",
    "    dc.stops_near_ff_row = row\n",
    "    dc.stop_point_index = row.stop_point_index\n",
    "    dc._prepare_to_make_plotly_fig_for_dash_given_stop_point_index(dc.stop_point_index)\n",
    "    dc.fig = dc._produce_fig_for_dash()\n",
    "    dc.fig.show()\n",
    "\n",
    "    if index == 2:\n",
    "        break\n"
   ]
  },
  {
   "cell_type": "markdown",
   "metadata": {},
   "source": [
    "## for eye positions"
   ]
  },
  {
   "cell_type": "code",
   "execution_count": null,
   "metadata": {},
   "outputs": [],
   "source": [
    "from numpy import linalg as LA\n",
    "\n",
    "monkey_height = -10\n",
    "\n",
    "values = np.arange(-99, 99, 1)\n",
    "\n",
    "gaze_world_x = np.repeat(values, len(values))\n",
    "gaze_world_y = np.repeat(values.reshape([1, -1]), len(values), axis=0).reshape(-1)\n",
    "\n",
    "\n",
    "body_theta = np.random.uniform(-pi, pi, len(gaze_world_x))\n",
    "body_x = np.random.uniform(-100, 100, len(gaze_world_x))\n",
    "body_y = np.random.uniform(-100, 100, len(gaze_world_x))\n",
    "\n",
    "\n",
    "gaze_mky_view_x = gaze_world_x - body_x\n",
    "gaze_mky_view_y = gaze_world_y - body_y\n",
    "gaze_mky_view_xy = np.stack((gaze_mky_view_x, gaze_mky_view_y), axis=1)\n",
    "gaze_mky_view_r = LA.norm(gaze_mky_view_xy, axis=1)\n",
    "\n",
    "theta_to_north = np.arctan((gaze_world_x - body_x) / np.sqrt(monkey_height**2 + (gaze_world_y-body_y)**2))\n",
    "to_adjust = np.where(gaze_mky_view_y < 0)[0]\n",
    "# \n",
    "theta_to_north[to_adjust] = np.sign(theta_to_north[to_adjust]) * (pi - np.abs(theta_to_north[to_adjust]))\n",
    "\n",
    "\n",
    "hor_theta = theta_to_north\n",
    "ver_theta = np.arctan(monkey_height / gaze_mky_view_r)\n",
    "\n",
    "gaze_mky_view_x_recovered, gaze_mky_view_y_recovered, _, gaze_world_x_recovered, gaze_world_y_recovered \\\n",
    "    = eye_positions.apply_formulas_to_convert_eye_position_to_ff_position(hor_theta, ver_theta, body_theta, monkey_height, body_x, body_y,\n",
    "                        interocular_dist=0, rotate_world_xy_based_on_m_angle_to_get_abs_coord=False)\n",
    "\n",
    "plt.scatter(gaze_world_x, gaze_world_x_recovered)\n",
    "plt.show()"
   ]
  },
  {
   "cell_type": "code",
   "execution_count": null,
   "metadata": {},
   "outputs": [],
   "source": [
    "gaze_mky_view_y = dc.monkey_information['gaze_mky_view_y'].values\n",
    "gaze_mky_view_y[gaze_mky_view_y < 0] = 0\n",
    "gaze_mky_view_y[gaze_mky_view_y > 1500] = 1500\n",
    "sns.histplot(gaze_mky_view_y, binwidth=20)\n",
    "plt.show()\n"
   ]
  },
  {
   "cell_type": "code",
   "execution_count": null,
   "metadata": {},
   "outputs": [],
   "source": [
    "sns.histplot(theta_to_north[np.where(np.abs(ver_theta + 0.29414615) < 0.01 )], bins=50)\n",
    "plt.show()"
   ]
  },
  {
   "cell_type": "code",
   "execution_count": null,
   "metadata": {},
   "outputs": [],
   "source": [
    "ab = theta_to_north[np.where(np.abs(ver_theta + 0.29414615) < 0.01 )]\n",
    "max(ab[ab < 1.57])"
   ]
  },
  {
   "cell_type": "code",
   "execution_count": null,
   "metadata": {},
   "outputs": [],
   "source": [
    "ab = theta_to_north[np.where(np.abs(ver_theta + 0.29414615) < 0.01 )]\n",
    "min(ab[ab > 1.57])"
   ]
  },
  {
   "cell_type": "markdown",
   "metadata": {},
   "source": [
    "# Diff in distance"
   ]
  },
  {
   "cell_type": "code",
   "execution_count": null,
   "metadata": {},
   "outputs": [],
   "source": [
    "dc.stops_near_ff_df['d_from_cur_ff_to_nxt_ff'].max()"
   ]
  },
  {
   "cell_type": "code",
   "execution_count": 42,
   "metadata": {},
   "outputs": [],
   "source": [
    "dc.make_stops_near_ff_df_test(exists_ok=True)\n",
    "dc.make_stops_near_ff_df_ctrl(exists_ok=True)"
   ]
  },
  {
   "cell_type": "code",
   "execution_count": null,
   "metadata": {},
   "outputs": [],
   "source": [
    "sns.histplot(dc.stops_near_ff_df_test['d_from_cur_ff_to_nxt_ff'], binwidth=20, stat='density', alpha=0.5, color='orange')\n",
    "sns.histplot(dc.stops_near_ff_df_ctrl['d_from_cur_ff_to_nxt_ff'], binwidth=20, stat='density', alpha=0.5, color='blue')\n",
    "plt.show()\n"
   ]
  },
  {
   "cell_type": "markdown",
   "metadata": {},
   "source": [
    "# Scatterplot for heading_info_df"
   ]
  },
  {
   "cell_type": "code",
   "execution_count": null,
   "metadata": {},
   "outputs": [],
   "source": [
    "normalize = False\n",
    "eliminate_outliers = False\n",
    "use_curvature_to_ff_center = False\n",
    "\n",
    "# oh...curv_of_traj doesn't matter if we're only looking at heading. \n",
    "# but we can def play around with the hyperparameters for ref_point\n",
    "curv_of_traj_mode = 'specific index'\n",
    "curv_of_traj_mode = 'distance'\n",
    "window_for_curv_of_traj = [-25, 25]\n",
    "\n",
    "# data_item_info = find_stops_near_ff_utils.extract_key_info_from_data_item_for_stops_near_ff_class(data_item)\n",
    "\n",
    "snf = stops_near_ff_based_on_ref_class.StopsNearFFBasedOnRef(raw_data_folder_path=raw_data_folder_path)\n",
    "snf.get_more_monkey_data()\n",
    "snf.traj_curv_descr = 'Traj Curv: From Current Point to Right Before Stop'\n",
    "\n",
    "snf.streamline_organizing_info(ref_point_mode='distance', ref_point_value=-150, \n",
    "                               curv_of_traj_mode=curv_of_traj_mode, window_for_curv_of_traj=window_for_curv_of_traj,\n",
    "                               truncate_curv_of_traj_by_time_of_capture=False,\n",
    "                               use_curvature_to_ff_center=use_curvature_to_ff_center,  eliminate_outliers=eliminate_outliers)\n",
    "snf.ax_for_corr = snf.find_relationships_from_info(normalize=normalize, show_plot=True)\n",
    "#snf.get_null_arc_info_for_counted_points(use_fixed_arc_length=False)"
   ]
  },
  {
   "cell_type": "markdown",
   "metadata": {},
   "source": [
    "## normal"
   ]
  },
  {
   "cell_type": "code",
   "execution_count": null,
   "metadata": {},
   "outputs": [],
   "source": [
    "snf._make_cur_and_nxt_ff_df()\n",
    "snf._make_heading_info_df()"
   ]
  },
  {
   "cell_type": "code",
   "execution_count": null,
   "metadata": {},
   "outputs": [],
   "source": [
    "ang_traj_nxt, ang_cur_nxt, heading_info_df_no_na = show_planning_utils.get_ang_traj_nxt_and_ang_cur_nxt(snf.heading_info_df.copy())"
   ]
  },
  {
   "cell_type": "code",
   "execution_count": 54,
   "metadata": {},
   "outputs": [],
   "source": [
    "# ang_traj_nxt, ang_cur_nxt, heading_info_df_no_na = show_planning_utils.get_ang_traj_nxt_and_ang_cur_nxt(dsp.combd_heading_df_x_sessions.copy())"
   ]
  },
  {
   "cell_type": "code",
   "execution_count": null,
   "metadata": {},
   "outputs": [],
   "source": [
    "slope, intercept, r_value, p_value, results = show_planning_utils.conduct_linear_regression_to_show_planning(ang_traj_nxt, ang_cur_nxt, fit_intercept=True)\n",
    "slope, intercept, r_value, p_value, results = show_planning_utils.conduct_linear_regression_to_show_planning(ang_traj_nxt, ang_cur_nxt, fit_intercept=True, omit_outliers=True)\n",
    "slope, intercept, r_value, p_value, results = show_planning_utils.conduct_linear_regression_to_show_planning(ang_traj_nxt, ang_cur_nxt, fit_intercept=False)\n",
    "slope, intercept, r_value, p_value, results = show_planning_utils.conduct_linear_regression_to_show_planning(ang_traj_nxt, ang_cur_nxt, fit_intercept=False, omit_outliers=True)"
   ]
  },
  {
   "cell_type": "markdown",
   "metadata": {},
   "source": [
    "## Q13 only"
   ]
  },
  {
   "cell_type": "code",
   "execution_count": null,
   "metadata": {},
   "outputs": [],
   "source": [
    "slope, intercept, r_value, p_value, results = show_planning_utils.conduct_linear_regression_to_show_planning(ang_traj_nxt, ang_cur_nxt, q13_only=True, fit_intercept=True)\n",
    "slope, intercept, r_value, p_value, results = show_planning_utils.conduct_linear_regression_to_show_planning(ang_traj_nxt, ang_cur_nxt, q13_only=True, fit_intercept=True, omit_outliers=True)\n",
    "slope, intercept, r_value, p_value, results = show_planning_utils.conduct_linear_regression_to_show_planning(ang_traj_nxt, ang_cur_nxt, q13_only=True, fit_intercept=False)\n",
    "slope, intercept, r_value, p_value, results = show_planning_utils.conduct_linear_regression_to_show_planning(ang_traj_nxt, ang_cur_nxt, q13_only=True, fit_intercept=False, omit_outliers=True)"
   ]
  },
  {
   "cell_type": "markdown",
   "metadata": {},
   "source": [
    "## Abs value"
   ]
  },
  {
   "cell_type": "code",
   "execution_count": null,
   "metadata": {},
   "outputs": [],
   "source": [
    "slope, intercept, r_value, p_value, results = show_planning_utils.conduct_linear_regression_to_show_planning(ang_traj_nxt, ang_cur_nxt, use_abs_values=True, fit_intercept=True)\n",
    "slope, intercept, r_value, p_value, results = show_planning_utils.conduct_linear_regression_to_show_planning(ang_traj_nxt, ang_cur_nxt, use_abs_values=True, fit_intercept=True, omit_outliers=True)\n",
    "slope, intercept, r_value, p_value, results = show_planning_utils.conduct_linear_regression_to_show_planning(ang_traj_nxt, ang_cur_nxt, use_abs_values=True, fit_intercept=False)\n",
    "slope, intercept, r_value, p_value, results = show_planning_utils.conduct_linear_regression_to_show_planning(ang_traj_nxt, ang_cur_nxt, use_abs_values=True, fit_intercept=False, omit_outliers=True)"
   ]
  },
  {
   "cell_type": "markdown",
   "metadata": {},
   "source": [
    "# Under-turn?"
   ]
  },
  {
   "cell_type": "code",
   "execution_count": 69,
   "metadata": {},
   "outputs": [],
   "source": [
    "# for 4 ff\n",
    "ref_point_mode = 'distance'\n",
    "ref_point_value = -150\n",
    "\n",
    "ps = monkey_plan_factors_x_sess_class.PlanAcrossSessions()\n",
    "ps.initialize_monkey_sessions_df_for_one_monkey()\n",
    "ps.get_combd_heading_df_x_sessions_across_sessions(\n",
    "                        ref_point_mode=ref_point_mode, \n",
    "                        ref_point_value=ref_point_value,\n",
    "                        save_data=True)\n"
   ]
  },
  {
   "cell_type": "code",
   "execution_count": null,
   "metadata": {},
   "outputs": [],
   "source": [
    "# control\n",
    "(180/math.pi * (np.abs(ps.combd_heading_df_x_sessions_ctrl['cur_d_heading_of_arc']) - np.abs(ps.combd_heading_df_x_sessions_ctrl['d_heading_of_traj']))).describe()"
   ]
  },
  {
   "cell_type": "code",
   "execution_count": null,
   "metadata": {},
   "outputs": [],
   "source": [
    "# test\n",
    "(180/math.pi * (np.abs(ps.combd_heading_df_x_sessions_test['cur_d_heading_of_arc']) - np.abs(ps.combd_heading_df_x_sessions_test['d_heading_of_traj']))).describe()"
   ]
  },
  {
   "cell_type": "code",
   "execution_count": null,
   "metadata": {},
   "outputs": [],
   "source": [
    "(180/math.pi * ps.combd_heading_df_x_sessions_test[['cur_d_heading_of_arc', 'd_heading_of_traj']]).describe()"
   ]
  },
  {
   "cell_type": "code",
   "execution_count": null,
   "metadata": {},
   "outputs": [],
   "source": [
    "(180/math.pi * np.abs(ps.combd_heading_df_x_sessions_test[['cur_d_heading_of_arc', 'd_heading_of_traj']])).describe()"
   ]
  },
  {
   "cell_type": "code",
   "execution_count": null,
   "metadata": {},
   "outputs": [],
   "source": [
    "(180/math.pi * (np.abs(ps.combd_heading_df_x_sessions_test['cur_d_heading_of_arc']) - np.abs(ps.combd_heading_df_x_sessions_test['d_heading_of_traj']))).describe()"
   ]
  },
  {
   "cell_type": "code",
   "execution_count": 75,
   "metadata": {},
   "outputs": [],
   "source": [
    "num_rows_mismatched_signs = np.abs((np.sign(ps.combd_heading_df_x_sessions_test['cur_d_heading_of_arc']) - np.sign(ps.combd_heading_df_x_sessions_test['d_heading_of_traj']))).sum()/2"
   ]
  },
  {
   "cell_type": "code",
   "execution_count": null,
   "metadata": {},
   "outputs": [],
   "source": [
    "num_rows_mismatched_signs"
   ]
  },
  {
   "cell_type": "code",
   "execution_count": null,
   "metadata": {},
   "outputs": [],
   "source": [
    "num_rows_mismatched_signs/len(ps.combd_heading_df_x_sessions_test)"
   ]
  },
  {
   "cell_type": "markdown",
   "metadata": {},
   "source": [
    "## Monkey Bruno prefers to turn left"
   ]
  },
  {
   "cell_type": "code",
   "execution_count": 78,
   "metadata": {},
   "outputs": [],
   "source": [
    "monkey_dw = dc.monkey_information['monkey_dw'].values"
   ]
  },
  {
   "cell_type": "code",
   "execution_count": 79,
   "metadata": {},
   "outputs": [],
   "source": [
    "monkey_dw = monkey_dw*180/math.pi"
   ]
  },
  {
   "cell_type": "code",
   "execution_count": null,
   "metadata": {},
   "outputs": [],
   "source": [
    "(180/math.pi * dc.monkey_information['monkey_dw']).describe()"
   ]
  },
  {
   "cell_type": "code",
   "execution_count": 81,
   "metadata": {},
   "outputs": [],
   "source": [
    "monkey_dw_sub = monkey_dw[np.abs(monkey_dw) < 20]"
   ]
  },
  {
   "cell_type": "code",
   "execution_count": null,
   "metadata": {},
   "outputs": [],
   "source": [
    "len(monkey_dw_sub)/len(monkey_dw)"
   ]
  },
  {
   "cell_type": "code",
   "execution_count": null,
   "metadata": {},
   "outputs": [],
   "source": [
    "np.sum(monkey_dw)/360"
   ]
  },
  {
   "cell_type": "code",
   "execution_count": null,
   "metadata": {},
   "outputs": [],
   "source": [
    "# how many 360 circles did the monkey make?\n",
    "np.sum(monkey_dw_sub)/360"
   ]
  }
 ],
 "metadata": {
  "kernelspec": {
   "display_name": "ff_venv",
   "language": "python",
   "name": "python3"
  },
  "language_info": {
   "codemirror_mode": {
    "name": "ipython",
    "version": 3
   },
   "file_extension": ".py",
   "mimetype": "text/x-python",
   "name": "python",
   "nbconvert_exporter": "python",
   "pygments_lexer": "ipython3",
   "version": "3.9.19"
  }
 },
 "nbformat": 4,
 "nbformat_minor": 2
}
