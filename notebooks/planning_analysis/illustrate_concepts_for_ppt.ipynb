{
 "cells": [
  {
   "cell_type": "markdown",
   "metadata": {},
   "source": [
    "# Import packages"
   ]
  },
  {
   "cell_type": "code",
   "execution_count": 6,
   "metadata": {},
   "outputs": [
    {
     "name": "stdout",
     "output_type": "stream",
     "text": [
      "Changed the directory to 'Multifirefly-Project'.\n",
      "Added /Users/dusiyi/Documents/Multifirefly-Project/multiff_analysis/methods to the path.\n"
     ]
    }
   ],
   "source": [
    "%load_ext autoreload\n",
    "%autoreload 2\n",
    "\n",
    "from pathlib import Path\n",
    "import os\n",
    "if Path.cwd().parts[-1] != 'Multifirefly-Project':\n",
    "    if Path.cwd().parts[-1] != 'notebooks':\n",
    "        os.chdir('..')\n",
    "    from add_path import find_path\n",
    "    current_path = find_path()\n",
    "    os.chdir(current_path)\n",
    "import sys\n",
    "\n",
    "\n",
    "from data_wrangling import specific_utils, process_monkey_information, base_processing_class, combine_info_utils\n",
    "from pattern_discovery import pattern_by_trials, pattern_by_points, make_ff_dataframe, ff_dataframe_utils, pattern_by_trials, pattern_by_points, cluster_analysis, organize_patterns_and_features, category_class, cluster_analysis\n",
    "from decision_making_analysis.decision_making import decision_making_class, decision_making_utils, plot_decision_making, intended_targets_classes\n",
    "from decision_making_analysis.GUAT import GUAT_helper_class, GUAT_collect_info_class, GUAT_combine_info_class, process_GUAT_trials_class, GUAT_and_TAFT\n",
    "from decision_making_analysis import free_selection, replacement, trajectory_info\n",
    "from null_behaviors import show_null_trajectory, find_best_arc, curvature_utils, curvature_class, curv_of_traj_utils\n",
    "from machine_learning.ml_methods import regression_utils, classification_utils, prep_ml_data_utils, hyperparam_tuning_class\n",
    "from machine_learning.RL.env_related import env_for_lstm, env_utils, base_env, collect_agent_data_utils\n",
    "from machine_learning.RL.lstm import GRU_functions, LSTM_functions\n",
    "from machine_learning.RL.SB3 import interpret_neural_network, sb3_for_multiff_class, rl_for_multiff_utils, SB3_functions\n",
    "from visualization.matplotlib_tools import plot_trials, plot_polar, additional_plots, plot_behaviors_utils, plot_statistics, monkey_heading_functions\n",
    "from visualization.animation import animation_func, animation_utils, animation_class\n",
    "from planning_analysis.test_params_for_planning import params_test_combos_class, params_utils\n",
    "from visualization.plotly_tools import plotly_for_monkey, plotly_for_scatterplot, plotly_preparation, plotly_for_correlation\n",
    "from visualization.dash_tools import dash_prep_class, dash_utils, dash_utils, dash_comparison_class, dash_params_class\n",
    "from visualization.dash_tools.dash_main_class_methods import dash_main_class\n",
    "from neural_data_analysis.neural_analysis_tools.get_neural_data import neural_data_processing\n",
    "from neural_data_analysis.neural_analysis_tools.visualize_neural_data import plot_neural_data, plot_modeling_result\n",
    "from neural_data_analysis.neural_analysis_tools.model_neural_data import transform_vars, neural_data_modeling, drop_high_corr_vars, drop_high_vif_vars\n",
    "from neural_data_analysis.neural_analysis_by_topic.neural_vs_behavioral import prep_monkey_data, prep_target_data, neural_vs_behavioral_class\n",
    "from neural_data_analysis.neural_analysis_by_topic.planning_and_neural import planning_neural_class, pn_utils\n",
    "from planning_analysis.plan_factors import plan_factors_utils, build_factor_comp, plan_factors_class, monkey_plan_factors_x_sess_class\n",
    "from planning_analysis.show_planning import nxt_ff_utils, show_planning_class, show_planning_utils\n",
    "from planning_analysis.show_planning.get_cur_vs_nxt_ff_data import find_cvn_class, find_cvn_utils, plot_cvn_class, plot_cvn_utils, plot_monkey_heading_helper_class, cur_vs_nxt_ff_from_ref_class\n",
    "from planning_analysis.show_planning import illustrate_concepts\n",
    "\n",
    "from importlib import reload\n",
    "from eye_position_analysis import eye_positions\n",
    "import os\n",
    "import numpy as np\n",
    "import matplotlib\n",
    "import matplotlib.pyplot as plt\n",
    "from matplotlib import cm\n",
    "from os.path import exists\n",
    "import seaborn as sns\n",
    "import math\n",
    "import copy\n",
    "import matplotlib.pyplot as plt\n",
    "import pandas as pd\n",
    "import torch\n",
    "import torch.nn as nn\n",
    "import torch.optim as optim\n",
    "import tqdm\n",
    "import itertools\n",
    "import plotly.express as px\n",
    "import gc\n",
    "from scipy.stats import rankdata\n",
    "from scipy import stats\n",
    "from IPython.display import HTML\n",
    "from matplotlib import rc\n",
    "from sklearn.model_selection import train_test_split\n",
    "from sklearn.preprocessing import OneHotEncoder\n",
    "from sklearn.datasets import make_multilabel_classification\n",
    "from sklearn.model_selection import train_test_split\n",
    "from sklearn.multioutput import MultiOutputClassifier\n",
    "from sklearn.neighbors import KNeighborsClassifier\n",
    "from sklearn.metrics import accuracy_score, hamming_loss, multilabel_confusion_matrix, fbeta_score, precision_score, recall_score\n",
    "from sklearn.svm import SVC\n",
    "from sklearn.tree import DecisionTreeClassifier\n",
    "from sklearn.ensemble import AdaBoostClassifier, RandomForestClassifier, VotingClassifier, BaggingClassifier, GradientBoostingClassifier\n",
    "from sklearn.neural_network import MLPClassifier\n",
    "from sklearn.linear_model import LinearRegression\n",
    "from sklearn.neighbors import KNeighborsRegressor, KNeighborsClassifier\n",
    "from sklearn.naive_bayes import GaussianNB\n",
    "from sklearn.linear_model import LogisticRegression\n",
    "from math import pi\n",
    "from scipy.ndimage import gaussian_filter1d\n",
    "from statsmodels.graphics.tsaplots import plot_acf\n",
    "import warnings\n",
    "import os, sys\n",
    "from sklearn.exceptions import ConvergenceWarning\n",
    "import plotly.graph_objects as go\n",
    "\n",
    "plt.rcParams[\"animation.html\"] = \"html5\"\n",
    "os.environ['KMP_DUPLICATE_LIB_OK']='True'\n",
    "rc('animation', html='jshtml')\n",
    "matplotlib.rcParams.update(matplotlib.rcParamsDefault)\n",
    "matplotlib.rcParams['animation.embed_limit'] = 2**128\n",
    "pd.set_option('display.float_format', lambda x: '%.5f' % x)\n",
    "np.set_printoptions(suppress=True)\n",
    "pd.options.display.max_rows = 101"
   ]
  },
  {
   "cell_type": "markdown",
   "metadata": {},
   "source": [
    "# Use CurVsNxtFfFromRefClasee class"
   ]
  },
  {
   "cell_type": "code",
   "execution_count": null,
   "metadata": {},
   "outputs": [],
   "source": [
    "normalize = False\n",
    "eliminate_outliers = False\n",
    "use_curv_to_ff_center = False\n",
    "curv_of_traj_mode = 'distance'\n",
    "window_for_curv_of_traj=[-25, 25]\n",
    "raw_data_folder_path = \"all_monkey_data/raw_monkey_data/monkey_Bruno/data_0328\"\n",
    "\n",
    "#data_item_info = find_cvn_utils.extract_key_info_from_data_item_for_stops_near_ff_class(data_item)\n",
    "\n",
    "snf = cur_vs_nxt_ff_from_ref_class.CurVsNxtFfFromRefClasee(raw_data_folder_path=raw_data_folder_path)\n",
    "snf.get_more_monkey_data()\n",
    "snf.traj_curv_descr = 'Traj Curv: From Current Point to Right Before Stop'\n",
    "\n",
    "\n",
    "\n",
    "snf.streamline_organizing_info(ref_point_mode='distance', ref_point_value=-150, \n",
    "                              #ref_point_mode='time after cur ff visible', ref_point_value=0.1, \n",
    "                               curv_of_traj_mode=curv_of_traj_mode, window_for_curv_of_traj=window_for_curv_of_traj, truncate_curv_of_traj_by_time_of_capture=True,\n",
    "                               use_curv_to_ff_center=use_curv_to_ff_center,  eliminate_outliers=eliminate_outliers,\n",
    "                               stops_near_ff_df_exists_ok=True)\n",
    "\n",
    "snf.ax_for_corr = snf.find_relationships_from_info(normalize=normalize, show_plot=True)\n",
    "snf.prepare_to_plot_stops_near_ff()"
   ]
  },
  {
   "cell_type": "markdown",
   "metadata": {},
   "source": [
    "# Plot some trials"
   ]
  },
  {
   "cell_type": "code",
   "execution_count": 8,
   "metadata": {},
   "outputs": [],
   "source": [
    "current_i = 2\n",
    "snf.make_PlotTrials_args()"
   ]
  },
  {
   "cell_type": "code",
   "execution_count": 10,
   "metadata": {},
   "outputs": [
    {
     "name": "stdout",
     "output_type": "stream",
     "text": [
      "diff_in_abs: 14.930604975441064\n",
      "duration_to_plot: [37.366437, 44.825224]\n"
     ]
    },
    {
     "data": {
      "application/vnd.plotly.v1+json": {
       "config": {
        "plotlyServerURL": "https://plot.ly"
       },
       "data": [
        {
         "customdata": [],
         "hovertemplate": "ff %{customdata[0]}",
         "legendgroup": "",
         "marker": {
          "color": "red",
          "symbol": "circle"
         },
         "mode": "markers",
         "name": "plot_ff",
         "orientation": "v",
         "showlegend": false,
         "type": "scatter",
         "x": [],
         "xaxis": "x",
         "y": [],
         "yaxis": "y"
        },
        {
         "customdata": [
          [
           1
          ]
         ],
         "hovertemplate": "ff %{customdata[0]}",
         "legendgroup": "ff 1",
         "marker": {
          "color": "#33BBFF",
          "size": 15,
          "symbol": "square"
         },
         "mode": "markers",
         "name": "ff 1",
         "type": "scatter",
         "visible": true,
         "x": [
          -145.7838787075052
         ],
         "y": [
          26.34440061797862
         ]
        },
        {
         "customdata": [
          [
           1
          ]
         ],
         "hovertemplate": "ff %{customdata[0]}",
         "legendgroup": "ff 1",
         "line": {
          "color": "#33BBFF",
          "width": 2.5
         },
         "mode": "lines",
         "name": "ff 1 starts visible",
         "opacity": 0.7,
         "showlegend": true,
         "type": "scatter",
         "visible": true,
         "x": [
          -286.2382724207946,
          -186.48331779159523
         ],
         "y": [
          -259.2356395476789,
          -266.23199766647036
         ]
        },
        {
         "customdata": [
          [
           1
          ]
         ],
         "hovertemplate": "ff %{customdata[0]}",
         "legendgroup": "ff 1",
         "line": {
          "color": "#33BBFF",
          "dash": "dot",
          "width": 3.5
         },
         "mode": "lines",
         "name": "ff 1 stops visible",
         "opacity": 0.7,
         "showlegend": true,
         "type": "scatter",
         "visible": true,
         "x": [
          -277.13684198199326,
          -179.76533884120073
         ],
         "y": [
          -199.02243069455477,
          -221.79940099577402
         ]
        },
        {
         "customdata": [
          [
           1
          ]
         ],
         "hovertemplate": "ff %{customdata[0]}",
         "legendgroup": "ff 1",
         "line": {
          "color": "#33BBFF",
          "width": 2.5
         },
         "mode": "lines",
         "name": "ff 1 starts visible",
         "opacity": 0.7,
         "showlegend": false,
         "type": "scatter",
         "visible": true,
         "x": [
          -237.83754265966834,
          -145.36606291037285
         ],
         "y": [
          -45.36350137660361,
          -83.42956806303226
         ]
        },
        {
         "customdata": [
          [
           1
          ]
         ],
         "hovertemplate": "ff %{customdata[0]}",
         "legendgroup": "ff 1",
         "line": {
          "color": "#33BBFF",
          "dash": "dot",
          "width": 3.5
         },
         "mode": "lines",
         "name": "ff 1 stops visible",
         "opacity": 0.7,
         "showlegend": false,
         "type": "scatter",
         "visible": true,
         "x": [
          -212.02760492916528,
          -123.40394289153647
         ],
         "y": [
          7.523179372683043,
          -38.800103402182444
         ]
        },
        {
         "customdata": [
          [
           2
          ]
         ],
         "hovertemplate": "ff %{customdata[0]}",
         "legendgroup": "ff 2",
         "marker": {
          "color": "#FF337D",
          "size": 15,
          "symbol": "square"
         },
         "mode": "markers",
         "name": "ff 2",
         "type": "scatter",
         "visible": true,
         "x": [
          -202.11761914531212
         ],
         "y": [
          198.29540107976703
         ]
        },
        {
         "customdata": [
          [
           2
          ]
         ],
         "hovertemplate": "ff %{customdata[0]}",
         "legendgroup": "ff 2",
         "line": {
          "color": "#FF337D",
          "width": 2.5
         },
         "mode": "lines",
         "name": "ff 2 starts visible",
         "opacity": 0.7,
         "showlegend": true,
         "type": "scatter",
         "visible": true,
         "x": [
          -258.34017378799973,
          -159.94606311688517
         ],
         "y": [
          -117.16567435936322,
          -135.015015670472
         ]
        },
        {
         "customdata": [
          [
           2
          ]
         ],
         "hovertemplate": "ff %{customdata[0]}",
         "legendgroup": "ff 2",
         "line": {
          "color": "#FF337D",
          "dash": "dot",
          "width": 3.5
         },
         "mode": "lines",
         "name": "ff 2 stops visible",
         "opacity": 0.7,
         "showlegend": true,
         "type": "scatter",
         "visible": true,
         "x": [
          -249.68552490210607,
          -153.63427570389993
         ],
         "y": [
          -79.17650487450243,
          -107.00019132083986
         ]
        },
        {
         "customdata": [
          [
           2
          ]
         ],
         "hovertemplate": "ff %{customdata[0]}",
         "legendgroup": "ff 2",
         "line": {
          "color": "#FF337D",
          "width": 2.5
         },
         "mode": "lines",
         "name": "ff 2 starts visible",
         "opacity": 0.7,
         "showlegend": false,
         "type": "scatter",
         "visible": true,
         "x": [
          -190.36909664187561,
          -91.54890220281348
         ],
         "y": [
          65.75660226003455,
          81.07225343868029
         ]
        },
        {
         "customdata": [
          [
           2
          ]
         ],
         "hovertemplate": "ff %{customdata[0]}",
         "legendgroup": "ff 2",
         "line": {
          "color": "#FF337D",
          "dash": "dot",
          "width": 3.5
         },
         "mode": "lines",
         "name": "ff 2 stops visible",
         "opacity": 0.7,
         "showlegend": false,
         "type": "scatter",
         "visible": true,
         "x": [
          -193.59010893248688,
          -100.85086419563945
         ],
         "y": [
          76.91526966329765,
          114.32425903268742
         ]
        },
        {
         "customdata": [
          [
           2
          ]
         ],
         "hovertemplate": "ff %{customdata[0]}",
         "legendgroup": "ff 2",
         "line": {
          "color": "#FF337D",
          "width": 2.5
         },
         "mode": "lines",
         "name": "ff 2 starts visible",
         "opacity": 0.7,
         "showlegend": false,
         "type": "scatter",
         "visible": true,
         "x": [
          -193.04953137533522,
          -101.75635654128615
         ],
         "y": [
          75.62169895284819,
          116.43292570137591
         ]
        },
        {
         "customdata": [
          [
           2
          ]
         ],
         "hovertemplate": "ff %{customdata[0]}",
         "legendgroup": "ff 2",
         "line": {
          "color": "#FF337D",
          "dash": "dot",
          "width": 3.5
         },
         "mode": "lines",
         "name": "ff 2 stops visible",
         "opacity": 0.7,
         "showlegend": false,
         "type": "scatter",
         "visible": true,
         "x": [
          -205.6997183741013,
          -114.16632118388692
         ],
         "y": [
          104.35558849546635,
          144.62514522034792
         ]
        },
        {
         "customdata": [
          [
           3
          ]
         ],
         "hovertemplate": "ff %{customdata[0]}",
         "legendgroup": "ff 3",
         "marker": {
          "color": "#FF33D7",
          "size": 15,
          "symbol": "square"
         },
         "mode": "markers",
         "name": "ff 3",
         "type": "scatter",
         "visible": "legendonly",
         "x": [
          0.8754688805816417
         ],
         "y": [
          570.5686620239155
         ]
        },
        {
         "customdata": [
          [
           3
          ]
         ],
         "hovertemplate": "ff %{customdata[0]}",
         "legendgroup": "ff 3",
         "line": {
          "color": "#FF33D7",
          "width": 2.5
         },
         "mode": "lines",
         "name": "ff 3 starts visible",
         "opacity": 0.7,
         "showlegend": true,
         "type": "scatter",
         "visible": "legendonly",
         "x": [
          -192.7778939632595,
          -99.52705584602688
         ],
         "y": [
          75.0199043040726,
          111.13473768917461
         ]
        },
        {
         "customdata": [
          [
           3
          ]
         ],
         "hovertemplate": "ff %{customdata[0]}",
         "legendgroup": "ff 3",
         "line": {
          "color": "#FF33D7",
          "dash": "dot",
          "width": 3.5
         },
         "mode": "lines",
         "name": "ff 3 stops visible",
         "opacity": 0.7,
         "showlegend": true,
         "type": "scatter",
         "visible": "legendonly",
         "x": [
          -193.6650480753899,
          -100.92580333854248
         ],
         "y": [
          77.08314712824445,
          114.49213649763422
         ]
        },
        {
         "customdata": [
          [
           4
          ]
         ],
         "hovertemplate": "ff %{customdata[0]}",
         "legendgroup": "ff 4",
         "marker": {
          "color": "#8D33FF",
          "size": 15,
          "symbol": "square"
         },
         "mode": "markers",
         "name": "ff 4",
         "type": "scatter",
         "visible": "legendonly",
         "x": [
          -501.076343885517
         ],
         "y": [
          725.348514899446
         ]
        },
        {
         "customdata": [
          [
           4
          ]
         ],
         "hovertemplate": "ff %{customdata[0]}",
         "legendgroup": "ff 4",
         "line": {
          "color": "#8D33FF",
          "width": 2.5
         },
         "mode": "lines",
         "name": "ff 4 starts visible",
         "opacity": 0.7,
         "showlegend": true,
         "type": "scatter",
         "visible": "legendonly",
         "x": [
          -282.61665476630355,
          -184.1005338794692
         ],
         "y": [
          295.14542656688093,
          312.3085826114621
         ]
        },
        {
         "customdata": [
          [
           4
          ]
         ],
         "hovertemplate": "ff %{customdata[0]}",
         "legendgroup": "ff 4",
         "line": {
          "color": "#8D33FF",
          "dash": "dot",
          "width": 3.5
         },
         "mode": "lines",
         "name": "ff 4 stops visible",
         "opacity": 0.7,
         "showlegend": true,
         "type": "scatter",
         "visible": "legendonly",
         "x": [
          -282.61665476630355,
          -184.1005338794692
         ],
         "y": [
          295.14542656688093,
          312.3085826114621
         ]
        },
        {
         "customdata": [
          [
           5
          ]
         ],
         "hovertemplate": "ff %{customdata[0]}",
         "legendgroup": "ff 5",
         "marker": {
          "color": "#33FF64",
          "size": 15,
          "symbol": "square"
         },
         "mode": "markers",
         "name": "ff 5",
         "type": "scatter",
         "visible": "legendonly",
         "x": [
          -54.68559098606503
         ],
         "y": [
          306.02669514604656
         ]
        },
        {
         "customdata": [
          [
           5
          ]
         ],
         "hovertemplate": "ff %{customdata[0]}",
         "legendgroup": "ff 5",
         "line": {
          "color": "#33FF64",
          "width": 2.5
         },
         "mode": "lines",
         "name": "ff 5 starts visible",
         "opacity": 0.7,
         "showlegend": true,
         "type": "scatter",
         "visible": "legendonly",
         "x": [
          -265.69500725006515,
          -168.5058757579456
         ],
         "y": [
          -153.7703014214401,
          -177.3132986776835
         ]
        },
        {
         "customdata": [
          [
           5
          ]
         ],
         "hovertemplate": "ff %{customdata[0]}",
         "legendgroup": "ff 5",
         "line": {
          "color": "#33FF64",
          "dash": "dot",
          "width": 3.5
         },
         "mode": "lines",
         "name": "ff 5 stops visible",
         "opacity": 0.7,
         "showlegend": true,
         "type": "scatter",
         "visible": "legendonly",
         "x": [
          -263.4995773965377,
          -165.63573188537794
         ],
         "y": [
          -144.12202210959916,
          -164.68090684997009
         ]
        },
        {
         "customdata": [
          [
           5
          ]
         ],
         "hovertemplate": "ff %{customdata[0]}",
         "legendgroup": "ff 5",
         "line": {
          "color": "#33FF64",
          "width": 2.5
         },
         "mode": "lines",
         "name": "ff 5 starts visible",
         "opacity": 0.7,
         "showlegend": false,
         "type": "scatter",
         "visible": "legendonly",
         "x": [
          -258.84561071576246,
          -160.43400691055731
         ],
         "y": [
          -119.98008329579811,
          -137.73272356386326
         ]
        },
        {
         "customdata": [
          [
           5
          ]
         ],
         "hovertemplate": "ff %{customdata[0]}",
         "legendgroup": "ff 5",
         "line": {
          "color": "#33FF64",
          "dash": "dot",
          "width": 3.5
         },
         "mode": "lines",
         "name": "ff 5 stops visible",
         "opacity": 0.7,
         "showlegend": false,
         "type": "scatter",
         "visible": "legendonly",
         "x": [
          -255.57811042635603,
          -157.83361989429673
         ],
         "y": [
          -102.86632321897585,
          -123.98538026772154
         ]
        },
        {
         "customdata": [
          [
           6
          ]
         ],
         "hovertemplate": "ff %{customdata[0]}",
         "legendgroup": "ff 6",
         "marker": {
          "color": "#FF5733",
          "size": 15,
          "symbol": "square"
         },
         "mode": "markers",
         "name": "ff 6",
         "type": "scatter",
         "visible": "legendonly",
         "x": [
          -475.4151184829736
         ],
         "y": [
          524.8979969250317
         ]
        },
        {
         "customdata": [
          [
           6
          ]
         ],
         "hovertemplate": "ff %{customdata[0]}",
         "legendgroup": "ff 6",
         "line": {
          "color": "#FF5733",
          "width": 2.5
         },
         "mode": "lines",
         "name": "ff 6 starts visible",
         "opacity": 0.7,
         "showlegend": true,
         "type": "scatter",
         "visible": "legendonly",
         "x": [
          -210.92019955373095,
          -119.69689438249883
         ],
         "y": [
          116.10505516352642,
          157.07221998654356
         ]
        },
        {
         "customdata": [
          [
           6
          ]
         ],
         "hovertemplate": "ff %{customdata[0]}",
         "legendgroup": "ff 6",
         "line": {
          "color": "#FF5733",
          "dash": "dot",
          "width": 3.5
         },
         "mode": "lines",
         "name": "ff 6 stops visible",
         "opacity": 0.7,
         "showlegend": true,
         "type": "scatter",
         "visible": "legendonly",
         "x": [
          -216.2175363871115,
          -125.34844126916147
         ],
         "y": [
          127.77033636275114,
          169.51728298696494
         ]
        },
        {
         "customdata": [
          [
           6
          ]
         ],
         "hovertemplate": "ff %{customdata[0]}",
         "legendgroup": "ff 6",
         "line": {
          "color": "#FF5733",
          "width": 2.5
         },
         "mode": "lines",
         "name": "ff 6 starts visible",
         "opacity": 0.7,
         "showlegend": false,
         "type": "scatter",
         "visible": "legendonly",
         "x": [
          -288.5407444616779,
          -190.26641394179742
         ],
         "y": [
          329.16286139349353,
          347.6603196207555
         ]
        },
        {
         "customdata": [
          [
           6
          ]
         ],
         "hovertemplate": "ff %{customdata[0]}",
         "legendgroup": "ff 6",
         "line": {
          "color": "#FF5733",
          "dash": "dot",
          "width": 3.5
         },
         "mode": "lines",
         "name": "ff 6 stops visible",
         "opacity": 0.7,
         "showlegend": false,
         "type": "scatter",
         "visible": "legendonly",
         "x": [
          -288.5373593654344,
          -190.26979903804093
         ],
         "y": [
          329.1448949350492,
          347.6782860791999
         ]
        },
        {
         "customdata": [
          [
           7
          ]
         ],
         "hovertemplate": "ff %{customdata[0]}",
         "legendgroup": "ff 7",
         "marker": {
          "color": "#FFB533",
          "size": 15,
          "symbol": "square"
         },
         "mode": "markers",
         "name": "ff 7",
         "type": "scatter",
         "visible": "legendonly",
         "x": [
          -182.38517536545208
         ],
         "y": [
          830.1504588497603
         ]
        },
        {
         "customdata": [
          [
           7
          ]
         ],
         "hovertemplate": "ff %{customdata[0]}",
         "legendgroup": "ff 7",
         "line": {
          "color": "#FFB533",
          "width": 2.5
         },
         "mode": "lines",
         "name": "ff 7 starts visible",
         "opacity": 0.7,
         "showlegend": true,
         "type": "scatter",
         "visible": "legendonly",
         "x": [
          -288.5373593654344,
          -190.26979903804093
         ],
         "y": [
          329.1448949350492,
          347.6782860791999
         ]
        },
        {
         "customdata": [
          [
           7
          ]
         ],
         "hovertemplate": "ff %{customdata[0]}",
         "legendgroup": "ff 7",
         "line": {
          "color": "#FFB533",
          "dash": "dot",
          "width": 3.5
         },
         "mode": "lines",
         "name": "ff 7 stops visible",
         "opacity": 0.7,
         "showlegend": true,
         "type": "scatter",
         "visible": "legendonly",
         "x": [
          -288.5373593654344,
          -190.26979903804093
         ],
         "y": [
          329.1448949350492,
          347.6782860791999
         ]
        },
        {
         "customdata": [
          [
           8
          ]
         ],
         "hovertemplate": "ff %{customdata[0]}",
         "legendgroup": "ff 8",
         "marker": {
          "color": "#33FFBE",
          "size": 15,
          "symbol": "square"
         },
         "mode": "markers",
         "name": "ff 8",
         "type": "scatter",
         "visible": "legendonly",
         "x": [
          -537.2286035823303
         ],
         "y": [
          363.98231199382593
         ]
        },
        {
         "customdata": [
          [
           8
          ]
         ],
         "hovertemplate": "ff %{customdata[0]}",
         "legendgroup": "ff 8",
         "line": {
          "color": "#33FFBE",
          "width": 2.5
         },
         "mode": "lines",
         "name": "ff 8 starts visible",
         "opacity": 0.7,
         "showlegend": true,
         "type": "scatter",
         "visible": "legendonly",
         "x": [
          -193.51572003019336,
          -100.77647529334594
         ],
         "y": [
          76.74713810137793,
          114.1561274707677
         ]
        },
        {
         "customdata": [
          [
           8
          ]
         ],
         "hovertemplate": "ff %{customdata[0]}",
         "legendgroup": "ff 8",
         "line": {
          "color": "#33FFBE",
          "dash": "dot",
          "width": 3.5
         },
         "mode": "lines",
         "name": "ff 8 stops visible",
         "opacity": 0.7,
         "showlegend": true,
         "type": "scatter",
         "visible": "legendonly",
         "x": [
          -193.97770862537743,
          -102.67742228049832
         ],
         "y": [
          77.69052865944876,
          118.48584350494399
         ]
        },
        {
         "customdata": [
          [
           9
          ]
         ],
         "hovertemplate": "ff %{customdata[0]}",
         "legendgroup": "ff 9",
         "marker": {
          "color": "#3933FF",
          "size": 15,
          "symbol": "square"
         },
         "mode": "markers",
         "name": "ff 9",
         "type": "scatter",
         "visible": "legendonly",
         "x": [
          -10.19766364370795
         ],
         "y": [
          422.2982402951946
         ]
        },
        {
         "customdata": [
          [
           9
          ]
         ],
         "hovertemplate": "ff %{customdata[0]}",
         "legendgroup": "ff 9",
         "line": {
          "color": "#3933FF",
          "width": 2.5
         },
         "mode": "lines",
         "name": "ff 9 starts visible",
         "opacity": 0.7,
         "showlegend": true,
         "type": "scatter",
         "visible": "legendonly",
         "x": [
          -212.02760492916528,
          -123.40394289153647
         ],
         "y": [
          7.523179372683043,
          -38.800103402182444
         ]
        },
        {
         "customdata": [
          [
           9
          ]
         ],
         "hovertemplate": "ff %{customdata[0]}",
         "legendgroup": "ff 9",
         "line": {
          "color": "#3933FF",
          "dash": "dot",
          "width": 3.5
         },
         "mode": "lines",
         "name": "ff 9 stops visible",
         "opacity": 0.7,
         "showlegend": true,
         "type": "scatter",
         "visible": "legendonly",
         "x": [
          -192.61516840061537,
          -99.47990296656592
         ],
         "y": [
          49.32410731258253,
          12.912264012233877
         ]
        },
        {
         "customdata": [
          [
           10
          ]
         ],
         "hovertemplate": "ff %{customdata[0]}",
         "legendgroup": "ff 10",
         "marker": {
          "color": "#FF3346",
          "size": 15,
          "symbol": "square"
         },
         "mode": "markers",
         "name": "ff 10",
         "type": "scatter",
         "visible": "legendonly",
         "x": [
          -541.550626757395
         ],
         "y": [
          501.80716884644045
         ]
        },
        {
         "customdata": [
          [
           10
          ]
         ],
         "hovertemplate": "ff %{customdata[0]}",
         "legendgroup": "ff 10",
         "line": {
          "color": "#FF3346",
          "width": 2.5
         },
         "mode": "lines",
         "name": "ff 10 starts visible",
         "opacity": 0.7,
         "showlegend": true,
         "type": "scatter",
         "visible": "legendonly",
         "x": [
          -237.14811927240777,
          -150.6677595551106
         ],
         "y": [
          169.2431216049917,
          219.45415010637657
         ]
        },
        {
         "customdata": [
          [
           10
          ]
         ],
         "hovertemplate": "ff %{customdata[0]}",
         "legendgroup": "ff 10",
         "line": {
          "color": "#FF3346",
          "dash": "dot",
          "width": 3.5
         },
         "mode": "lines",
         "name": "ff 10 stops visible",
         "opacity": 0.7,
         "showlegend": true,
         "type": "scatter",
         "visible": "legendonly",
         "x": [
          -237.13397586441843,
          -151.3014870936627
         ],
         "y": [
          169.21205547544653,
          220.5227158825987
         ]
        },
        {
         "customdata": [
          [
           10
          ]
         ],
         "hovertemplate": "ff %{customdata[0]}",
         "legendgroup": "ff 10",
         "line": {
          "color": "#FF3346",
          "width": 2.5
         },
         "mode": "lines",
         "name": "ff 10 starts visible",
         "opacity": 0.7,
         "showlegend": false,
         "type": "scatter",
         "visible": "legendonly",
         "x": [
          -242.3242435893762,
          -155.85156183576845
         ],
         "y": [
          177.95306163550623,
          228.17731185727936
         ]
        },
        {
         "customdata": [
          [
           10
          ]
         ],
         "hovertemplate": "ff %{customdata[0]}",
         "legendgroup": "ff 10",
         "line": {
          "color": "#FF3346",
          "dash": "dot",
          "width": 3.5
         },
         "mode": "lines",
         "name": "ff 10 stops visible",
         "opacity": 0.7,
         "showlegend": false,
         "type": "scatter",
         "visible": "legendonly",
         "x": [
          -263.6295783875094,
          -170.30042554473746
         ],
         "y": [
          222.33879669742547,
          258.25076169031496
         ]
        },
        {
         "customdata": [
          [
           11
          ]
         ],
         "hovertemplate": "ff %{customdata[0]}",
         "legendgroup": "ff 11",
         "marker": {
          "color": "#FC33FF",
          "size": 15,
          "symbol": "square"
         },
         "mode": "markers",
         "name": "ff 11",
         "type": "scatter",
         "visible": "legendonly",
         "x": [
          -302.6405375027992
         ],
         "y": [
          310.4412988256936
         ]
        },
        {
         "customdata": [
          [
           11
          ]
         ],
         "hovertemplate": "ff %{customdata[0]}",
         "legendgroup": "ff 11",
         "line": {
          "color": "#FC33FF",
          "width": 2.5
         },
         "mode": "lines",
         "name": "ff 11 starts visible",
         "opacity": 0.7,
         "showlegend": true,
         "type": "scatter",
         "visible": "legendonly",
         "x": [
          -258.72953173783395,
          -160.31792793262878
         ],
         "y": [
          -119.33367937945702,
          -137.08631964752217
         ]
        },
        {
         "customdata": [
          [
           11
          ]
         ],
         "hovertemplate": "ff %{customdata[0]}",
         "legendgroup": "ff 11",
         "line": {
          "color": "#FC33FF",
          "dash": "dot",
          "width": 3.5
         },
         "mode": "lines",
         "name": "ff 11 stops visible",
         "opacity": 0.7,
         "showlegend": true,
         "type": "scatter",
         "visible": "legendonly",
         "x": [
          -253.025816399353,
          -155.91322130220678
         ],
         "y": [
          -91.6640449878552,
          -115.52078142639026
         ]
        },
        {
         "customdata": [
          [
           11
          ]
         ],
         "hovertemplate": "ff %{customdata[0]}",
         "legendgroup": "ff 11",
         "line": {
          "color": "#FC33FF",
          "width": 2.5
         },
         "mode": "lines",
         "name": "ff 11 starts visible",
         "opacity": 0.7,
         "showlegend": false,
         "type": "scatter",
         "visible": "legendonly",
         "x": [
          -191.57567496806013,
          -96.10202384843154
         ],
         "y": [
          71.55758039865626,
          101.3028647625255
         ]
        },
        {
         "customdata": [
          [
           11
          ]
         ],
         "hovertemplate": "ff %{customdata[0]}",
         "legendgroup": "ff 11",
         "line": {
          "color": "#FC33FF",
          "dash": "dot",
          "width": 3.5
         },
         "mode": "lines",
         "name": "ff 11 stops visible",
         "opacity": 0.7,
         "showlegend": false,
         "type": "scatter",
         "visible": "legendonly",
         "x": [
          -192.97661913833687,
          -101.61420399494558
         ],
         "y": [
          75.45964081311816,
          116.11562560215788
         ]
        },
        {
         "customdata": [
          [
           11
          ]
         ],
         "hovertemplate": "ff %{customdata[0]}",
         "legendgroup": "ff 11",
         "line": {
          "color": "#FC33FF",
          "width": 2.5
         },
         "mode": "lines",
         "name": "ff 11 starts visible",
         "opacity": 0.7,
         "showlegend": false,
         "type": "scatter",
         "visible": "legendonly",
         "x": [
          -194.8979266678161,
          -103.53581121411663
         ],
         "y": [
          79.75066124270494,
          120.40731948984686
         ]
        },
        {
         "customdata": [
          [
           11
          ]
         ],
         "hovertemplate": "ff %{customdata[0]}",
         "legendgroup": "ff 11",
         "line": {
          "color": "#FC33FF",
          "dash": "dot",
          "width": 3.5
         },
         "mode": "lines",
         "name": "ff 11 stops visible",
         "opacity": 0.7,
         "showlegend": false,
         "type": "scatter",
         "visible": "legendonly",
         "x": [
          -214.88613616725956,
          -123.92252696260714
         ],
         "y": [
          124.86366334566655,
          166.40426758372837
         ]
        },
        {
         "customdata": [
          [
           11
          ]
         ],
         "hovertemplate": "ff %{customdata[0]}",
         "legendgroup": "ff 11",
         "line": {
          "color": "#FC33FF",
          "width": 2.5
         },
         "mode": "lines",
         "name": "ff 11 starts visible",
         "opacity": 0.7,
         "showlegend": false,
         "type": "scatter",
         "visible": "legendonly",
         "x": [
          -253.33475001872105,
          -163.35235150690661
         ],
         "y": [
          198.60590411814704,
          242.23121738992785
         ]
        },
        {
         "customdata": [
          [
           11
          ]
         ],
         "hovertemplate": "ff %{customdata[0]}",
         "legendgroup": "ff 11",
         "line": {
          "color": "#FC33FF",
          "dash": "dot",
          "width": 3.5
         },
         "mode": "lines",
         "name": "ff 11 stops visible",
         "opacity": 0.7,
         "showlegend": false,
         "type": "scatter",
         "visible": "legendonly",
         "x": [
          -273.60927148331217,
          -177.05175670079612
         ],
         "y": [
          253.0602231787611,
          279.0726498057444
         ]
        },
        {
         "customdata": [
          [
           12
          ]
         ],
         "hovertemplate": "ff %{customdata[0]}",
         "legendgroup": "ff 12",
         "marker": {
          "color": "#FFEC33",
          "size": 15,
          "symbol": "square"
         },
         "mode": "markers",
         "name": "ff 12",
         "type": "scatter",
         "visible": "legendonly",
         "x": [
          -339.9771341770444
         ],
         "y": [
          146.98658447855883
         ]
        },
        {
         "customdata": [
          [
           12
          ]
         ],
         "hovertemplate": "ff %{customdata[0]}",
         "legendgroup": "ff 12",
         "line": {
          "color": "#FFEC33",
          "width": 2.5
         },
         "mode": "lines",
         "name": "ff 12 starts visible",
         "opacity": 0.7,
         "showlegend": true,
         "type": "scatter",
         "visible": "legendonly",
         "x": [
          -286.90886034960806,
          -186.98250009055602
         ],
         "y": [
          -273.1197201886881,
          -276.9567145043138
         ]
        },
        {
         "customdata": [
          [
           12
          ]
         ],
         "hovertemplate": "ff %{customdata[0]}",
         "legendgroup": "ff 12",
         "line": {
          "color": "#FFEC33",
          "dash": "dot",
          "width": 3.5
         },
         "mode": "lines",
         "name": "ff 12 stops visible",
         "opacity": 0.7,
         "showlegend": true,
         "type": "scatter",
         "visible": "legendonly",
         "x": [
          -286.4991090048695,
          -186.66272970014631
         ],
         "y": [
          -263.54534712469194,
          -269.26350830845007
         ]
        },
        {
         "customdata": [
          [
           13
          ]
         ],
         "hovertemplate": "ff %{customdata[0]}",
         "legendgroup": "ff 13",
         "marker": {
          "color": "#FF5E33",
          "size": 15,
          "symbol": "square"
         },
         "mode": "markers",
         "name": "ff 13",
         "type": "scatter",
         "visible": "legendonly",
         "x": [
          36.12679434265486
         ],
         "y": [
          463.0497068678451
         ]
        },
        {
         "customdata": [
          [
           13
          ]
         ],
         "hovertemplate": "ff %{customdata[0]}",
         "legendgroup": "ff 13",
         "line": {
          "color": "#FF5E33",
          "width": 2.5
         },
         "mode": "lines",
         "name": "ff 13 starts visible",
         "opacity": 0.7,
         "showlegend": true,
         "type": "scatter",
         "visible": "legendonly",
         "x": [
          -190.12463791669165,
          -90.52540741437163
         ],
         "y": [
          63.25173855485596,
          72.19563498458525
         ]
        },
        {
         "customdata": [
          [
           13
          ]
         ],
         "hovertemplate": "ff %{customdata[0]}",
         "legendgroup": "ff 13",
         "line": {
          "color": "#FF5E33",
          "dash": "dot",
          "width": 3.5
         },
         "mode": "lines",
         "name": "ff 13 stops visible",
         "opacity": 0.7,
         "showlegend": true,
         "type": "scatter",
         "visible": "legendonly",
         "x": [
          -191.14143826617897,
          -94.52174971417442
         ],
         "y": [
          69.92265625233759,
          95.70318735845801
         ]
        },
        {
         "customdata": [
          [
           14
          ]
         ],
         "hovertemplate": "ff %{customdata[0]}",
         "legendgroup": "ff 14",
         "marker": {
          "color": "#B06B58",
          "size": 15,
          "symbol": "square"
         },
         "mode": "markers",
         "name": "ff 14",
         "type": "scatter",
         "visible": "legendonly",
         "x": [
          68.68805247394816
         ],
         "y": [
          200.29670592976683
         ]
        },
        {
         "customdata": [
          [
           14
          ]
         ],
         "hovertemplate": "ff %{customdata[0]}",
         "legendgroup": "ff 14",
         "line": {
          "color": "#B06B58",
          "width": 2.5
         },
         "mode": "lines",
         "name": "ff 14 starts visible",
         "opacity": 0.7,
         "showlegend": true,
         "type": "scatter",
         "visible": "legendonly",
         "x": [
          -254.38484973600583,
          -156.86914367531637
         ],
         "y": [
          -97.42497229776724,
          -119.57642984541435
         ]
        },
        {
         "customdata": [
          [
           14
          ]
         ],
         "hovertemplate": "ff %{customdata[0]}",
         "legendgroup": "ff 14",
         "line": {
          "color": "#B06B58",
          "dash": "dot",
          "width": 3.5
         },
         "mode": "lines",
         "name": "ff 14 stops visible",
         "opacity": 0.7,
         "showlegend": true,
         "type": "scatter",
         "visible": "legendonly",
         "x": [
          -236.4245817482844,
          -144.3483145319883
         ],
         "y": [
          -41.98173707982603,
          -80.99405584599575
         ]
        },
        {
         "customdata": [
          [
           14
          ]
         ],
         "hovertemplate": "ff %{customdata[0]}",
         "legendgroup": "ff 14",
         "line": {
          "color": "#B06B58",
          "width": 2.5
         },
         "mode": "lines",
         "name": "ff 14 starts visible",
         "opacity": 0.7,
         "showlegend": false,
         "type": "scatter",
         "visible": "legendonly",
         "x": [
          -216.41756163951675,
          -127.97603677248537
         ],
         "y": [
          -0.8079017239083006,
          -47.477985066390815
         ]
        },
        {
         "customdata": [
          [
           14
          ]
         ],
         "hovertemplate": "ff %{customdata[0]}",
         "legendgroup": "ff 14",
         "line": {
          "color": "#B06B58",
          "dash": "dot",
          "width": 3.5
         },
         "mode": "lines",
         "name": "ff 14 stops visible",
         "opacity": 0.7,
         "showlegend": false,
         "type": "scatter",
         "visible": "legendonly",
         "x": [
          -194.75380624239062,
          -102.26672469518158
         ],
         "y": [
          43.96133651831883,
          5.933192376382325
         ]
        },
        {
         "customdata": [
          [
           15
          ]
         ],
         "hovertemplate": "ff %{customdata[0]}",
         "legendgroup": "ff 15",
         "marker": {
          "color": "#33BBFF",
          "size": 15,
          "symbol": "square"
         },
         "mode": "markers",
         "name": "ff 15",
         "type": "scatter",
         "visible": "legendonly",
         "x": [
          87.6295988822961
         ],
         "y": [
          413.89833826684134
         ]
        },
        {
         "customdata": [
          [
           15
          ]
         ],
         "hovertemplate": "ff %{customdata[0]}",
         "legendgroup": "ff 15",
         "line": {
          "color": "#33BBFF",
          "width": 2.5
         },
         "mode": "lines",
         "name": "ff 15 starts visible",
         "opacity": 0.7,
         "showlegend": true,
         "type": "scatter",
         "visible": "legendonly",
         "x": [
          -190.26897986700652,
          -91.1429079152268
         ],
         "y": [
          64.91710194925575,
          78.10883646032698
         ]
        },
        {
         "customdata": [
          [
           15
          ]
         ],
         "hovertemplate": "ff %{customdata[0]}",
         "legendgroup": "ff 15",
         "line": {
          "color": "#33BBFF",
          "dash": "dot",
          "width": 3.5
         },
         "mode": "lines",
         "name": "ff 15 stops visible",
         "opacity": 0.7,
         "showlegend": true,
         "type": "scatter",
         "visible": "legendonly",
         "x": [
          -190.26897986700652,
          -91.1429079152268
         ],
         "y": [
          64.91710194925575,
          78.10883646032698
         ]
        },
        {
         "customdata": [
          [
           16
          ]
         ],
         "hovertemplate": "ff %{customdata[0]}",
         "legendgroup": "ff 16",
         "marker": {
          "color": "#FF337D",
          "size": 15,
          "symbol": "square"
         },
         "mode": "markers",
         "name": "ff 16",
         "type": "scatter",
         "visible": "legendonly",
         "x": [
          -440.8083951306424
         ],
         "y": [
          347.32330522556686
         ]
        },
        {
         "customdata": [
          [
           16
          ]
         ],
         "hovertemplate": "ff %{customdata[0]}",
         "legendgroup": "ff 16",
         "line": {
          "color": "#FF337D",
          "width": 2.5
         },
         "mode": "lines",
         "name": "ff 16 starts visible",
         "opacity": 0.7,
         "showlegend": true,
         "type": "scatter",
         "visible": "legendonly",
         "x": [
          -190.18640334263,
          -90.80123935407883
         ],
         "y": [
          64.07101068524148,
          75.14301045803757
         ]
        },
        {
         "customdata": [
          [
           16
          ]
         ],
         "hovertemplate": "ff %{customdata[0]}",
         "legendgroup": "ff 16",
         "line": {
          "color": "#FF337D",
          "dash": "dot",
          "width": 3.5
         },
         "mode": "lines",
         "name": "ff 16 stops visible",
         "opacity": 0.7,
         "showlegend": true,
         "type": "scatter",
         "visible": "legendonly",
         "x": [
          -192.21050763436227,
          -97.55352005168409
         ],
         "y": [
          73.52971991516135,
          105.77959901218598
         ]
        },
        {
         "customdata": [
          [
           17
          ]
         ],
         "hovertemplate": "ff %{customdata[0]}",
         "legendgroup": "ff 17",
         "marker": {
          "color": "#FF33D7",
          "size": 15,
          "symbol": "square"
         },
         "mode": "markers",
         "name": "ff 17",
         "type": "scatter",
         "visible": "legendonly",
         "x": [
          10.268205057895434
         ],
         "y": [
          5.710369028379568
         ]
        },
        {
         "customdata": [
          [
           17
          ]
         ],
         "hovertemplate": "ff %{customdata[0]}",
         "legendgroup": "ff 17",
         "line": {
          "color": "#FF33D7",
          "width": 2.5
         },
         "mode": "lines",
         "name": "ff 17 starts visible",
         "opacity": 0.7,
         "showlegend": true,
         "type": "scatter",
         "visible": "legendonly",
         "x": [
          -286.37960952848005,
          -186.58262541308372
         ],
         "y": [
          -261.46262143198317,
          -267.831448755073
         ]
        },
        {
         "customdata": [
          [
           17
          ]
         ],
         "hovertemplate": "ff %{customdata[0]}",
         "legendgroup": "ff 17",
         "line": {
          "color": "#FF33D7",
          "dash": "dot",
          "width": 3.5
         },
         "mode": "lines",
         "name": "ff 17 stops visible",
         "opacity": 0.7,
         "showlegend": true,
         "type": "scatter",
         "visible": "legendonly",
         "x": [
          -278.7531384942528,
          -180.9727784000422
         ],
         "y": [
          -206.29380990566435,
          -227.2461649009029
         ]
        },
        {
         "customdata": [
          [
           17
          ]
         ],
         "hovertemplate": "ff %{customdata[0]}",
         "legendgroup": "ff 17",
         "line": {
          "color": "#FF33D7",
          "width": 2.5
         },
         "mode": "lines",
         "name": "ff 17 starts visible",
         "opacity": 0.7,
         "showlegend": false,
         "type": "scatter",
         "visible": "legendonly",
         "x": [
          -273.817974194928,
          -176.8575462449813
         ],
         "y": [
          -185.36298960234754,
          -209.83083404690768
         ]
        },
        {
         "customdata": [
          [
           17
          ]
         ],
         "hovertemplate": "ff %{customdata[0]}",
         "legendgroup": "ff 17",
         "line": {
          "color": "#FF33D7",
          "dash": "dot",
          "width": 3.5
         },
         "mode": "lines",
         "name": "ff 17 stops visible",
         "opacity": 0.7,
         "showlegend": false,
         "type": "scatter",
         "visible": "legendonly",
         "x": [
          -263.93112093894536,
          -166.24097261313372
         ],
         "y": [
          -146.13165608357872,
          -167.500673844836
         ]
        },
        {
         "customdata": [
          [
           18
          ]
         ],
         "hovertemplate": "ff %{customdata[0]}",
         "legendgroup": "ff 18",
         "marker": {
          "color": "#8D33FF",
          "size": 15,
          "symbol": "square"
         },
         "mode": "markers",
         "name": "ff 18",
         "type": "scatter",
         "visible": "legendonly",
         "x": [
          -167.69215773676547
         ],
         "y": [
          391.29212636983357
         ]
        },
        {
         "customdata": [
          [
           18
          ]
         ],
         "hovertemplate": "ff %{customdata[0]}",
         "legendgroup": "ff 18",
         "line": {
          "color": "#8D33FF",
          "width": 2.5
         },
         "mode": "lines",
         "name": "ff 18 starts visible",
         "opacity": 0.7,
         "showlegend": true,
         "type": "scatter",
         "visible": "legendonly",
         "x": [
          -191.89581436206856,
          -98.73180291828972
         ],
         "y": [
          51.20077096899388,
          14.86254080153188
         ]
        },
        {
         "customdata": [
          [
           18
          ]
         ],
         "hovertemplate": "ff %{customdata[0]}",
         "legendgroup": "ff 18",
         "line": {
          "color": "#8D33FF",
          "dash": "dot",
          "width": 3.5
         },
         "mode": "lines",
         "name": "ff 18 stops visible",
         "opacity": 0.7,
         "showlegend": true,
         "type": "scatter",
         "visible": "legendonly",
         "x": [
          -192.38164483816928,
          -97.81843707809904
         ],
         "y": [
          49.858775621387146,
          17.334942235302563
         ]
        },
        {
         "customdata": [
          [
           18
          ]
         ],
         "hovertemplate": "ff %{customdata[0]}",
         "legendgroup": "ff 18",
         "line": {
          "color": "#8D33FF",
          "width": 2.5
         },
         "mode": "lines",
         "name": "ff 18 starts visible",
         "opacity": 0.7,
         "showlegend": false,
         "type": "scatter",
         "visible": "legendonly",
         "x": [
          -193.23240978057638,
          -101.93923494652728
         ],
         "y": [
          76.02932464775279,
          116.8405513962805
         ]
        },
        {
         "customdata": [
          [
           18
          ]
         ],
         "hovertemplate": "ff %{customdata[0]}",
         "legendgroup": "ff 18",
         "line": {
          "color": "#8D33FF",
          "dash": "dot",
          "width": 3.5
         },
         "mode": "lines",
         "name": "ff 18 stops visible",
         "opacity": 0.7,
         "showlegend": false,
         "type": "scatter",
         "visible": "legendonly",
         "x": [
          -208.3034682464035,
          -116.91597651326119
         ],
         "y": [
          110.24595973128899,
          150.84554537849536
         ]
        },
        {
         "customdata": [
          [
           19
          ]
         ],
         "hovertemplate": "ff %{customdata[0]}",
         "legendgroup": "ff 19",
         "marker": {
          "color": "#33FF64",
          "size": 15,
          "symbol": "square"
         },
         "mode": "markers",
         "name": "ff 19",
         "type": "scatter",
         "visible": "legendonly",
         "x": [
          -61.60070894561459
         ],
         "y": [
          595.0732981777825
         ]
        },
        {
         "customdata": [
          [
           19
          ]
         ],
         "hovertemplate": "ff %{customdata[0]}",
         "legendgroup": "ff 19",
         "line": {
          "color": "#33FF64",
          "width": 2.5
         },
         "mode": "lines",
         "name": "ff 19 starts visible",
         "opacity": 0.7,
         "showlegend": true,
         "type": "scatter",
         "visible": "legendonly",
         "x": [
          -278.69702137533096,
          -180.81107279845102
         ],
         "y": [
          274.4667066549249,
          294.9200944233222
         ]
        },
        {
         "customdata": [
          [
           19
          ]
         ],
         "hovertemplate": "ff %{customdata[0]}",
         "legendgroup": "ff 19",
         "line": {
          "color": "#33FF64",
          "dash": "dot",
          "width": 3.5
         },
         "mode": "lines",
         "name": "ff 19 stops visible",
         "opacity": 0.7,
         "showlegend": true,
         "type": "scatter",
         "visible": "legendonly",
         "x": [
          -284.8076820609029,
          -186.195463417451
         ],
         "y": [
          308.0483880114511,
          324.65050637676944
         ]
        },
        {
         "customdata": [
          [
           20
          ]
         ],
         "hovertemplate": "ff %{customdata[0]}",
         "legendgroup": "ff 20",
         "marker": {
          "color": "#FF5733",
          "size": 15,
          "symbol": "square"
         },
         "mode": "markers",
         "name": "ff 20",
         "type": "scatter",
         "visible": "legendonly",
         "x": [
          -168.4560054616792
         ],
         "y": [
          533.2206078133078
         ]
        },
        {
         "customdata": [
          [
           20
          ]
         ],
         "hovertemplate": "ff %{customdata[0]}",
         "legendgroup": "ff 20",
         "line": {
          "color": "#FF5733",
          "width": 2.5
         },
         "mode": "lines",
         "name": "ff 20 starts visible",
         "opacity": 0.7,
         "showlegend": true,
         "type": "scatter",
         "visible": "legendonly",
         "x": [
          -237.45791133768918,
          -150.97755162039198
         ],
         "y": [
          169.76187142833018,
          219.97289992971503
         ]
        },
        {
         "customdata": [
          [
           20
          ]
         ],
         "hovertemplate": "ff %{customdata[0]}",
         "legendgroup": "ff 20",
         "line": {
          "color": "#FF5733",
          "dash": "dot",
          "width": 3.5
         },
         "mode": "lines",
         "name": "ff 20 stops visible",
         "opacity": 0.7,
         "showlegend": true,
         "type": "scatter",
         "visible": "legendonly",
         "x": [
          -237.36319656948885,
          -151.53070779873315
         ],
         "y": [
          169.59526585117376,
          220.90592625832593
         ]
        },
        {
         "customdata": [
          [
           21
          ]
         ],
         "hovertemplate": "ff %{customdata[0]}",
         "legendgroup": "ff 21",
         "marker": {
          "color": "#FFB533",
          "size": 15,
          "symbol": "square"
         },
         "mode": "markers",
         "name": "ff 21",
         "type": "scatter",
         "visible": "legendonly",
         "x": [
          -245.4776559945404
         ],
         "y": [
          359.04280585823784
         ]
        },
        {
         "customdata": [
          [
           21
          ]
         ],
         "hovertemplate": "ff %{customdata[0]}",
         "legendgroup": "ff 21",
         "line": {
          "color": "#FFB533",
          "width": 2.5
         },
         "mode": "lines",
         "name": "ff 21 starts visible",
         "opacity": 0.7,
         "showlegend": true,
         "type": "scatter",
         "visible": "legendonly",
         "x": [
          -191.62326352105077,
          -96.4853424477156
         ],
         "y": [
          51.91538334068557,
          21.11317605218356
         ]
        },
        {
         "customdata": [
          [
           21
          ]
         ],
         "hovertemplate": "ff %{customdata[0]}",
         "legendgroup": "ff 21",
         "line": {
          "color": "#FFB533",
          "dash": "dot",
          "width": 3.5
         },
         "mode": "lines",
         "name": "ff 21 stops visible",
         "opacity": 0.7,
         "showlegend": true,
         "type": "scatter",
         "visible": "legendonly",
         "x": [
          -190.05070163079762,
          -90.0840288046317
         ],
         "y": [
          61.00233674636584,
          63.58387196136962
         ]
        },
        {
         "customdata": [
          [
           21
          ]
         ],
         "hovertemplate": "ff %{customdata[0]}",
         "legendgroup": "ff 21",
         "line": {
          "color": "#FFB533",
          "width": 2.5
         },
         "mode": "lines",
         "name": "ff 21 starts visible",
         "opacity": 0.7,
         "showlegend": false,
         "type": "scatter",
         "visible": "legendonly",
         "x": [
          -191.35022822203666,
          -95.28909788432594
         ],
         "y": [
          70.7451946629955,
          98.53474734455837
         ]
        },
        {
         "customdata": [
          [
           21
          ]
         ],
         "hovertemplate": "ff %{customdata[0]}",
         "legendgroup": "ff 21",
         "line": {
          "color": "#FFB533",
          "dash": "dot",
          "width": 3.5
         },
         "mode": "lines",
         "name": "ff 21 stops visible",
         "opacity": 0.7,
         "showlegend": false,
         "type": "scatter",
         "visible": "legendonly",
         "x": [
          -193.0387922007402,
          -101.55203093254228
         ],
         "y": [
          75.59993576181868,
          115.97533065345738
         ]
        },
        {
         "customdata": [
          [
           21
          ]
         ],
         "hovertemplate": "ff %{customdata[0]}",
         "legendgroup": "ff 21",
         "line": {
          "color": "#FFB533",
          "width": 2.5
         },
         "mode": "lines",
         "name": "ff 21 starts visible",
         "opacity": 0.7,
         "showlegend": false,
         "type": "scatter",
         "visible": "legendonly",
         "x": [
          -218.88041613921314,
          -128.2408923470351
         ],
         "y": [
          133.5290940346558,
          175.77216123777438
         ]
        },
        {
         "customdata": [
          [
           21
          ]
         ],
         "hovertemplate": "ff %{customdata[0]}",
         "legendgroup": "ff 21",
         "line": {
          "color": "#FFB533",
          "dash": "dot",
          "width": 3.5
         },
         "mode": "lines",
         "name": "ff 21 stops visible",
         "opacity": 0.7,
         "showlegend": false,
         "type": "scatter",
         "visible": "legendonly",
         "x": [
          -237.36342371663375,
          -150.88306399933654
         ],
         "y": [
          169.603900627904,
          219.81492912928886
         ]
        },
        {
         "customdata": [
          [
           22
          ]
         ],
         "hovertemplate": "ff %{customdata[0]}",
         "legendgroup": "ff 22",
         "marker": {
          "color": "#33FFBE",
          "size": 15,
          "symbol": "square"
         },
         "mode": "markers",
         "name": "ff 22",
         "type": "scatter",
         "visible": "legendonly",
         "x": [
          -135.85291420941743
         ],
         "y": [
          38.226889947819
         ]
        },
        {
         "customdata": [
          [
           22
          ]
         ],
         "hovertemplate": "ff %{customdata[0]}",
         "legendgroup": "ff 22",
         "line": {
          "color": "#33FFBE",
          "width": 2.5
         },
         "mode": "lines",
         "name": "ff 22 starts visible",
         "opacity": 0.7,
         "showlegend": true,
         "type": "scatter",
         "visible": "legendonly",
         "x": [
          -286.89746588217673,
          -186.99389455798737
         ],
         "y": [
          -272.8429703972602,
          -277.2334642957417
         ]
        },
        {
         "customdata": [
          [
           22
          ]
         ],
         "hovertemplate": "ff %{customdata[0]}",
         "legendgroup": "ff 22",
         "line": {
          "color": "#33FFBE",
          "dash": "dot",
          "width": 3.5
         },
         "mode": "lines",
         "name": "ff 22 stops visible",
         "opacity": 0.7,
         "showlegend": true,
         "type": "scatter",
         "visible": "legendonly",
         "x": [
          -286.81515070004724,
          -186.89816000727762
         ],
         "y": [
          -270.50759569704957,
          -274.58128823588794
         ]
        },
        {
         "customdata": [
          [
           22
          ]
         ],
         "hovertemplate": "ff %{customdata[0]}",
         "legendgroup": "ff 22",
         "line": {
          "color": "#33FFBE",
          "width": 2.5
         },
         "mode": "lines",
         "name": "ff 22 starts visible",
         "opacity": 0.7,
         "showlegend": false,
         "type": "scatter",
         "visible": "legendonly",
         "x": [
          -258.8264119229398,
          -160.45320570337995
         ],
         "y": [
          -119.87430598430126,
          -137.8385008753601
         ]
        },
        {
         "customdata": [
          [
           22
          ]
         ],
         "hovertemplate": "ff %{customdata[0]}",
         "legendgroup": "ff 22",
         "line": {
          "color": "#33FFBE",
          "dash": "dot",
          "width": 3.5
         },
         "mode": "lines",
         "name": "ff 22 stops visible",
         "opacity": 0.7,
         "showlegend": false,
         "type": "scatter",
         "visible": "legendonly",
         "x": [
          -258.84561071576246,
          -160.43400691055731
         ],
         "y": [
          -119.98008329579811,
          -137.73272356386326
         ]
        },
        {
         "customdata": [
          [
           23
          ]
         ],
         "hovertemplate": "ff %{customdata[0]}",
         "legendgroup": "ff 23",
         "marker": {
          "color": "#3933FF",
          "size": 15,
          "symbol": "square"
         },
         "mode": "markers",
         "name": "ff 23",
         "type": "scatter",
         "visible": "legendonly",
         "x": [
          -424.26284211226755
         ],
         "y": [
          -17.013957457650235
         ]
        },
        {
         "customdata": [
          [
           23
          ]
         ],
         "hovertemplate": "ff %{customdata[0]}",
         "legendgroup": "ff 23",
         "line": {
          "color": "#3933FF",
          "width": 2.5
         },
         "mode": "lines",
         "name": "ff 23 starts visible",
         "opacity": 0.7,
         "showlegend": true,
         "type": "scatter",
         "visible": "legendonly",
         "x": [
          -286.90885960931155,
          -186.98250083085253
         ],
         "y": [
          -273.11970090933625,
          -276.95673378366575
         ]
        },
        {
         "customdata": [
          [
           23
          ]
         ],
         "hovertemplate": "ff %{customdata[0]}",
         "legendgroup": "ff 23",
         "line": {
          "color": "#3933FF",
          "dash": "dot",
          "width": 3.5
         },
         "mode": "lines",
         "name": "ff 23 stops visible",
         "opacity": 0.7,
         "showlegend": true,
         "type": "scatter",
         "visible": "legendonly",
         "x": [
          -286.2382724207946,
          -186.48331779159523
         ],
         "y": [
          -259.2356395476789,
          -266.23199766647036
         ]
        },
        {
         "customdata": [
          [
           24
          ]
         ],
         "hovertemplate": "ff %{customdata[0]}",
         "legendgroup": "ff 24",
         "marker": {
          "color": "#FF3346",
          "size": 15,
          "symbol": "square"
         },
         "mode": "markers",
         "name": "ff 24",
         "type": "scatter",
         "visible": "legendonly",
         "x": [
          -159.40497474671974
         ],
         "y": [
          69.94185776144519
         ]
        },
        {
         "customdata": [
          [
           24
          ]
         ],
         "hovertemplate": "ff %{customdata[0]}",
         "legendgroup": "ff 24",
         "line": {
          "color": "#FF3346",
          "width": 2.5
         },
         "mode": "lines",
         "name": "ff 24 starts visible",
         "opacity": 0.7,
         "showlegend": true,
         "type": "scatter",
         "visible": "legendonly",
         "x": [
          -283.33527560873966,
          -184.38686178943078
         ],
         "y": [
          -231.5524274012538,
          -246.0165693613843
         ]
        },
        {
         "customdata": [
          [
           24
          ]
         ],
         "hovertemplate": "ff %{customdata[0]}",
         "legendgroup": "ff 24",
         "line": {
          "color": "#FF3346",
          "dash": "dot",
          "width": 3.5
         },
         "mode": "lines",
         "name": "ff 24 stops visible",
         "opacity": 0.7,
         "showlegend": true,
         "type": "scatter",
         "visible": "legendonly",
         "x": [
          -270.4016271684604,
          -173.65622296505458
         ],
         "y": [
          -172.12653607889376,
          -197.43121480674245
         ]
        },
        {
         "customdata": [
          [
           24
          ]
         ],
         "hovertemplate": "ff %{customdata[0]}",
         "legendgroup": "ff 24",
         "line": {
          "color": "#FF3346",
          "width": 2.5
         },
         "mode": "lines",
         "name": "ff 24 starts visible",
         "opacity": 0.7,
         "showlegend": false,
         "type": "scatter",
         "visible": "legendonly",
         "x": [
          -262.897506184573,
          -164.8000498051351
         ],
         "y": [
          -141.16830499371278,
          -160.5819355630904
         ]
        },
        {
         "customdata": [
          [
           24
          ]
         ],
         "hovertemplate": "ff %{customdata[0]}",
         "legendgroup": "ff 24",
         "line": {
          "color": "#FF3346",
          "dash": "dot",
          "width": 3.5
         },
         "mode": "lines",
         "name": "ff 24 stops visible",
         "opacity": 0.7,
         "showlegend": false,
         "type": "scatter",
         "visible": "legendonly",
         "x": [
          -259.5991839748928,
          -161.26630825779154
         ],
         "y": [
          -124.13290667229488,
          -142.3165683828831
         ]
        },
        {
         "customdata": [
          [
           24
          ]
         ],
         "hovertemplate": "ff %{customdata[0]}",
         "legendgroup": "ff 24",
         "line": {
          "color": "#FF3346",
          "width": 2.5
         },
         "mode": "lines",
         "name": "ff 24 starts visible",
         "opacity": 0.7,
         "showlegend": false,
         "type": "scatter",
         "visible": "legendonly",
         "x": [
          -221.10049157731257,
          -132.26393669622104
         ],
         "y": [
          -9.749457109359227,
          -55.66314261661086
         ]
        },
        {
         "customdata": [
          [
           24
          ]
         ],
         "hovertemplate": "ff %{customdata[0]}",
         "legendgroup": "ff 24",
         "line": {
          "color": "#FF3346",
          "dash": "dot",
          "width": 3.5
         },
         "mode": "lines",
         "name": "ff 24 stops visible",
         "opacity": 0.7,
         "showlegend": false,
         "type": "scatter",
         "visible": "legendonly",
         "x": [
          -197.78645893202363,
          -106.26815148869437
         ],
         "y": [
          36.83176888314918,
          -3.4720696773187156
         ]
        },
        {
         "customdata": [
          [
           25
          ]
         ],
         "hovertemplate": "ff %{customdata[0]}",
         "legendgroup": "ff 25",
         "marker": {
          "color": "#FC33FF",
          "size": 15,
          "symbol": "square"
         },
         "mode": "markers",
         "name": "ff 25",
         "type": "scatter",
         "visible": "legendonly",
         "x": [
          -312.21595696461867
         ],
         "y": [
          6.699644679674458
         ]
        },
        {
         "customdata": [
          [
           25
          ]
         ],
         "hovertemplate": "ff %{customdata[0]}",
         "legendgroup": "ff 25",
         "line": {
          "color": "#FC33FF",
          "width": 2.5
         },
         "mode": "lines",
         "name": "ff 25 starts visible",
         "opacity": 0.7,
         "showlegend": true,
         "type": "scatter",
         "visible": "legendonly",
         "x": [
          -288.5944700799516,
          -190.21268832352348
         ],
         "y": [
          -289.8631411899989,
          -307.7803122398761
         ]
        },
        {
         "customdata": [
          [
           25
          ]
         ],
         "hovertemplate": "ff %{customdata[0]}",
         "legendgroup": "ff 25",
         "line": {
          "color": "#FC33FF",
          "dash": "dot",
          "width": 3.5
         },
         "mode": "lines",
         "name": "ff 25 stops visible",
         "opacity": 0.7,
         "showlegend": true,
         "type": "scatter",
         "visible": "legendonly",
         "x": [
          -288.69239102269273,
          -189.94251770961273
         ],
         "y": [
          -290.44860321504603,
          -306.21129716787823
         ]
        },
        {
         "customdata": [
          [
           26
          ]
         ],
         "hovertemplate": "ff %{customdata[0]}",
         "legendgroup": "ff 26",
         "marker": {
          "color": "#FFEC33",
          "size": 15,
          "symbol": "square"
         },
         "mode": "markers",
         "name": "ff 26",
         "type": "scatter",
         "visible": "legendonly",
         "x": [
          -243.04014596263923
         ],
         "y": [
          -6.384184628619549
         ]
        },
        {
         "customdata": [
          [
           26
          ]
         ],
         "hovertemplate": "ff %{customdata[0]}",
         "legendgroup": "ff 26",
         "line": {
          "color": "#FFEC33",
          "width": 2.5
         },
         "mode": "lines",
         "name": "ff 26 starts visible",
         "opacity": 0.7,
         "showlegend": true,
         "type": "scatter",
         "visible": "legendonly",
         "x": [
          -286.88183268657576,
          -187.00952775358834
         ],
         "y": [
          -272.5122171796177,
          -277.5642175133843
         ]
        },
        {
         "customdata": [
          [
           26
          ]
         ],
         "hovertemplate": "ff %{customdata[0]}",
         "legendgroup": "ff 26",
         "line": {
          "color": "#FFEC33",
          "dash": "dot",
          "width": 3.5
         },
         "mode": "lines",
         "name": "ff 26 stops visible",
         "opacity": 0.7,
         "showlegend": true,
         "type": "scatter",
         "visible": "legendonly",
         "x": [
          -286.86320870095017,
          -186.9370664240104
         ],
         "y": [
          -271.83059489881254,
          -275.6732618956771
         ]
        },
        {
         "customdata": [
          [
           27
          ]
         ],
         "hovertemplate": "ff %{customdata[0]}",
         "legendgroup": "ff 27",
         "marker": {
          "color": "#FF5E33",
          "size": 15,
          "symbol": "square"
         },
         "mode": "markers",
         "name": "ff 27",
         "type": "scatter",
         "visible": "legendonly",
         "x": [
          -247.28649908820665
         ],
         "y": [
          65.02898383829805
         ]
        },
        {
         "customdata": [
          [
           27
          ]
         ],
         "hovertemplate": "ff %{customdata[0]}",
         "legendgroup": "ff 27",
         "line": {
          "color": "#FF5E33",
          "width": 2.5
         },
         "mode": "lines",
         "name": "ff 27 starts visible",
         "opacity": 0.7,
         "showlegend": true,
         "type": "scatter",
         "visible": "legendonly",
         "x": [
          -262.26779477594755,
          -164.1651261263773
         ],
         "y": [
          -137.98636625284914,
          -157.37364052832748
         ]
        },
        {
         "customdata": [
          [
           27
          ]
         ],
         "hovertemplate": "ff %{customdata[0]}",
         "legendgroup": "ff 27",
         "line": {
          "color": "#FF5E33",
          "dash": "dot",
          "width": 3.5
         },
         "mode": "lines",
         "name": "ff 27 stops visible",
         "opacity": 0.7,
         "showlegend": true,
         "type": "scatter",
         "visible": "legendonly",
         "x": [
          -258.8264119229398,
          -160.45320570337995
         ],
         "y": [
          -119.87430598430126,
          -137.8385008753601
         ]
        },
        {
         "customdata": [
          [
           28
          ]
         ],
         "hovertemplate": "ff %{customdata[0]}",
         "legendgroup": "ff 28",
         "marker": {
          "color": "#B06B58",
          "size": 15,
          "symbol": "square"
         },
         "mode": "markers",
         "name": "ff 28",
         "type": "scatter",
         "visible": "legendonly",
         "x": [
          -194.14603890569637
         ],
         "y": [
          480.5492361313207
         ]
        },
        {
         "customdata": [
          [
           28
          ]
         ],
         "hovertemplate": "ff %{customdata[0]}",
         "legendgroup": "ff 28",
         "line": {
          "color": "#B06B58",
          "width": 2.5
         },
         "mode": "lines",
         "name": "ff 28 starts visible",
         "opacity": 0.7,
         "showlegend": true,
         "type": "scatter",
         "visible": "legendonly",
         "x": [
          -274.5439707451997,
          -177.72480071333806
         ],
         "y": [
          256.60235843082677,
          281.62331593331805
         ]
        },
        {
         "customdata": [
          [
           28
          ]
         ],
         "hovertemplate": "ff %{customdata[0]}",
         "legendgroup": "ff 28",
         "line": {
          "color": "#B06B58",
          "dash": "dot",
          "width": 3.5
         },
         "mode": "lines",
         "name": "ff 28 stops visible",
         "opacity": 0.7,
         "showlegend": true,
         "type": "scatter",
         "visible": "legendonly",
         "x": [
          -285.79518206184457,
          -187.22229471900118
         ],
         "y": [
          313.88927060767077,
          330.7233396610847
         ]
        },
        {
         "customdata": [
          [
           29
          ]
         ],
         "hovertemplate": "ff %{customdata[0]}",
         "legendgroup": "ff 29",
         "marker": {
          "color": "#33BBFF",
          "size": 15,
          "symbol": "square"
         },
         "mode": "markers",
         "name": "ff 29",
         "type": "scatter",
         "visible": "legendonly",
         "x": [
          -69.21342348260039
         ],
         "y": [
          24.81576357675595
         ]
        },
        {
         "customdata": [
          [
           29
          ]
         ],
         "hovertemplate": "ff %{customdata[0]}",
         "legendgroup": "ff 29",
         "line": {
          "color": "#33BBFF",
          "width": 2.5
         },
         "mode": "lines",
         "name": "ff 29 starts visible",
         "opacity": 0.7,
         "showlegend": true,
         "type": "scatter",
         "visible": "legendonly",
         "x": [
          -258.85075384680374,
          -160.42886377951604
         ],
         "y": [
          -120.00864162835306,
          -137.7041652313083
         ]
        },
        {
         "customdata": [
          [
           29
          ]
         ],
         "hovertemplate": "ff %{customdata[0]}",
         "legendgroup": "ff 29",
         "line": {
          "color": "#33BBFF",
          "dash": "dot",
          "width": 3.5
         },
         "mode": "lines",
         "name": "ff 29 stops visible",
         "opacity": 0.7,
         "showlegend": true,
         "type": "scatter",
         "visible": "legendonly",
         "x": [
          -257.98159718745944,
          -159.62459950539028
         ],
         "y": [
          -115.17716247872443,
          -133.22989099741207
         ]
        },
        {
         "customdata": [
          [
           30
          ]
         ],
         "hovertemplate": "ff %{customdata[0]}",
         "legendgroup": "ff 30",
         "marker": {
          "color": "#FF337D",
          "size": 15,
          "symbol": "square"
         },
         "mode": "markers",
         "name": "ff 30",
         "type": "scatter",
         "visible": "legendonly",
         "x": [
          -154.8387708197969
         ],
         "y": [
          251.70347776060808
         ]
        },
        {
         "customdata": [
          [
           30
          ]
         ],
         "hovertemplate": "ff %{customdata[0]}",
         "legendgroup": "ff 30",
         "line": {
          "color": "#FF337D",
          "width": 2.5
         },
         "mode": "lines",
         "name": "ff 30 starts visible",
         "opacity": 0.7,
         "showlegend": true,
         "type": "scatter",
         "visible": "legendonly",
         "x": [
          -190.12463791669165,
          -90.52540741437163
         ],
         "y": [
          63.25173855485596,
          72.19563498458525
         ]
        },
        {
         "customdata": [
          [
           30
          ]
         ],
         "hovertemplate": "ff %{customdata[0]}",
         "legendgroup": "ff 30",
         "line": {
          "color": "#FF337D",
          "dash": "dot",
          "width": 3.5
         },
         "mode": "lines",
         "name": "ff 30 stops visible",
         "opacity": 0.7,
         "showlegend": true,
         "type": "scatter",
         "visible": "legendonly",
         "x": [
          -193.1302625079387,
          -100.39108789113432
         ],
         "y": [
          75.85483290406417,
          113.26399610499479
         ]
        },
        {
         "customdata": [
          [
           31
          ]
         ],
         "hovertemplate": "ff %{customdata[0]}",
         "legendgroup": "ff 31",
         "marker": {
          "color": "#FF33D7",
          "size": 15,
          "symbol": "square"
         },
         "mode": "markers",
         "name": "ff 31",
         "type": "scatter",
         "visible": "legendonly",
         "x": [
          -202.92911233037688
         ],
         "y": [
          -122.63649828935846
         ]
        },
        {
         "customdata": [
          [
           31
          ]
         ],
         "hovertemplate": "ff %{customdata[0]}",
         "legendgroup": "ff 31",
         "line": {
          "color": "#FF33D7",
          "width": 2.5
         },
         "mode": "lines",
         "name": "ff 31 starts visible",
         "opacity": 0.7,
         "showlegend": true,
         "type": "scatter",
         "visible": "legendonly",
         "x": [
          -288.63446224056133,
          -189.8845889274814
         ],
         "y": [
          -290.11223291269346,
          -305.87492686552565
         ]
        },
        {
         "customdata": [
          [
           31
          ]
         ],
         "hovertemplate": "ff %{customdata[0]}",
         "legendgroup": "ff 31",
         "line": {
          "color": "#FF33D7",
          "dash": "dot",
          "width": 3.5
         },
         "mode": "lines",
         "name": "ff 31 stops visible",
         "opacity": 0.7,
         "showlegend": true,
         "type": "scatter",
         "visible": "legendonly",
         "x": [
          -286.91871774521803,
          -187.04785716621882
         ],
         "y": [
          -273.49533801877413,
          -278.5758111473421
         ]
        },
        {
         "customdata": [
          [
           31
          ]
         ],
         "hovertemplate": "ff %{customdata[0]}",
         "legendgroup": "ff 31",
         "line": {
          "color": "#FF33D7",
          "width": 2.5
         },
         "mode": "lines",
         "name": "ff 31 starts visible",
         "opacity": 0.7,
         "showlegend": false,
         "type": "scatter",
         "visible": "legendonly",
         "x": [
          -286.87817168078897,
          -186.95181290232992
         ],
         "y": [
          -272.2532970479898,
          -276.0903299223193
         ]
        },
        {
         "customdata": [
          [
           31
          ]
         ],
         "hovertemplate": "ff %{customdata[0]}",
         "legendgroup": "ff 31",
         "line": {
          "color": "#FF33D7",
          "dash": "dot",
          "width": 3.5
         },
         "mode": "lines",
         "name": "ff 31 stops visible",
         "opacity": 0.7,
         "showlegend": false,
         "type": "scatter",
         "visible": "legendonly",
         "x": [
          -284.2732498550845,
          -185.0551306429806
         ],
         "y": [
          -238.45175998367537,
          -250.9323376951733
         ]
        },
        {
         "customdata": [
          [
           32
          ]
         ],
         "hovertemplate": "ff %{customdata[0]}",
         "legendgroup": "ff 32",
         "marker": {
          "color": "#8D33FF",
          "size": 15,
          "symbol": "square"
         },
         "mode": "markers",
         "name": "ff 32",
         "type": "scatter",
         "visible": "legendonly",
         "x": [
          -189.9462249512177
         ],
         "y": [
          111.41998424153823
         ]
        },
        {
         "customdata": [
          [
           32
          ]
         ],
         "hovertemplate": "ff %{customdata[0]}",
         "legendgroup": "ff 32",
         "line": {
          "color": "#8D33FF",
          "width": 2.5
         },
         "mode": "lines",
         "name": "ff 32 starts visible",
         "opacity": 0.7,
         "showlegend": true,
         "type": "scatter",
         "visible": "legendonly",
         "x": [
          -230.4910086714575,
          -139.96763895095873
         ],
         "y": [
          -28.709445251565963,
          -71.20085067014318
         ]
        },
        {
         "customdata": [
          [
           32
          ]
         ],
         "hovertemplate": "ff %{customdata[0]}",
         "legendgroup": "ff 32",
         "line": {
          "color": "#8D33FF",
          "dash": "dot",
          "width": 3.5
         },
         "mode": "lines",
         "name": "ff 32 stops visible",
         "opacity": 0.7,
         "showlegend": true,
         "type": "scatter",
         "visible": "legendonly",
         "x": [
          -205.2697227162784,
          -115.51718565064374
         ],
         "y": [
          20.83661907837796,
          -23.25966296763898
         ]
        },
        {
         "customdata": [
          [
           -3.98
          ],
          [
           -3.97
          ],
          [
           -3.95
          ],
          [
           -3.93
          ],
          [
           -3.92
          ],
          [
           -3.9
          ],
          [
           -3.88
          ],
          [
           -3.83
          ],
          [
           -3.82
          ],
          [
           -3.78
          ],
          [
           -3.77
          ],
          [
           -3.75
          ],
          [
           -3.73
          ],
          [
           -3.34
          ],
          [
           -3.32
          ],
          [
           -3.3
          ],
          [
           -3.29
          ],
          [
           -3.27
          ],
          [
           -3.25
          ],
          [
           -3.22
          ],
          [
           -3.14
          ],
          [
           -3.1
          ],
          [
           -3.09
          ],
          [
           -3.07
          ],
          [
           -3.05
          ],
          [
           -3.04
          ],
          [
           -2.12
          ],
          [
           -2.11
          ],
          [
           -2.09
          ],
          [
           -2.07
          ],
          [
           -2.06
          ],
          [
           -2.04
          ],
          [
           -2.03
          ],
          [
           -2.01
          ],
          [
           -1.99
          ],
          [
           -1.98
          ],
          [
           -1.96
          ],
          [
           -1.94
          ],
          [
           -1.93
          ],
          [
           -1.91
          ],
          [
           -1.89
          ],
          [
           -1.88
          ],
          [
           -1.86
          ],
          [
           -1.54
          ],
          [
           -1.53
          ],
          [
           -1.51
          ],
          [
           -1.49
          ],
          [
           -1.47
          ],
          [
           -1.46
          ],
          [
           -1.45
          ],
          [
           -1.45
          ],
          [
           -1.44
          ],
          [
           -1.43
          ],
          [
           -1.39
          ],
          [
           -1.38
          ],
          [
           -1.36
          ],
          [
           -1.31
          ],
          [
           -1.29
          ],
          [
           -1.28
          ],
          [
           -1.26
          ],
          [
           -1.24
          ],
          [
           -1.23
          ],
          [
           -1.21
          ],
          [
           0
          ],
          [
           0.02
          ],
          [
           0.03
          ],
          [
           0.05
          ],
          [
           0.07
          ],
          [
           0.09
          ],
          [
           0.11
          ],
          [
           0.11
          ],
          [
           0.12
          ],
          [
           0.15
          ],
          [
           0.17
          ],
          [
           0.18
          ],
          [
           0.2
          ],
          [
           0.22
          ],
          [
           1.06
          ],
          [
           1.08
          ],
          [
           1.1
          ],
          [
           1.11
          ],
          [
           1.13
          ],
          [
           1.15
          ],
          [
           1.16
          ],
          [
           1.96
          ],
          [
           1.98
          ],
          [
           1.99
          ],
          [
           2.02
          ],
          [
           2.02
          ],
          [
           2.04
          ],
          [
           2.08
          ],
          [
           2.09
          ],
          [
           2.11
          ],
          [
           2.12
          ],
          [
           2.14
          ],
          [
           2.16
          ],
          [
           2.17
          ],
          [
           2.19
          ],
          [
           2.21
          ],
          [
           2.22
          ],
          [
           3.34
          ],
          [
           3.35
          ],
          [
           3.37
          ],
          [
           3.39
          ],
          [
           3.4
          ],
          [
           3.42
          ],
          [
           3.44
          ],
          [
           3.45
          ]
         ],
         "hovertemplate": "rel_time: %{customdata[0]:.2f}",
         "legendgroup": "",
         "marker": {
          "color": "black",
          "opacity": 1,
          "size": 13,
          "symbol": "star"
         },
         "mode": "markers",
         "name": "stops",
         "orientation": "v",
         "showlegend": false,
         "type": "scatter",
         "x": [
          -239.4035792017375,
          -239.4035792017375,
          -239.4035792017375,
          -239.4035792017375,
          -239.4035792017375,
          -239.4035792017375,
          -239.4035792017375,
          -239.4035792017375,
          -239.4035792017375,
          -239.4035792017375,
          -239.4035792017375,
          -239.4035792017375,
          -239.4035792017375,
          -236.94568022008204,
          -236.94568022008204,
          -236.94568022008204,
          -236.94568022008204,
          -236.94568022008204,
          -236.94568022008204,
          -236.94568022008204,
          -236.94568022008204,
          -236.94568022008204,
          -236.94568022008204,
          -236.94568022008204,
          -236.94568022008204,
          -236.94568022008204,
          -213.84877799485406,
          -213.84877799485406,
          -213.84877799485406,
          -213.84877799485406,
          -213.84877799485406,
          -213.84877799485406,
          -213.84877799485406,
          -213.84877799485406,
          -213.84877799485406,
          -213.84877799485406,
          -213.84877799485406,
          -213.84877799485406,
          -213.84877799485406,
          -213.84877799485406,
          -213.84877799485406,
          -213.84877799485406,
          -213.84877799485406,
          -209.6398088131599,
          -209.6398088131599,
          -209.6398088131599,
          -209.6398088131599,
          -209.6398088131599,
          -209.6398088131599,
          -209.6398088131599,
          -209.6398088131599,
          -209.6398088131599,
          -209.6398088131599,
          -209.6398088131599,
          -209.6398088131599,
          -209.6398088131599,
          -209.6398088131599,
          -209.6398088131599,
          -209.6398088131599,
          -209.6398088131599,
          -209.6398088131599,
          -209.6398088131599,
          -209.6398088131599,
          -145.14651918607225,
          -145.14651896638432,
          -145.1465038374637,
          -145.1465036177758,
          -145.14650339808787,
          -145.14650317839997,
          -145.14650273902413,
          -145.1465025193362,
          -145.1465022996483,
          -145.14650197011642,
          -145.14650175042848,
          -145.14650153074058,
          -145.14650131105265,
          -145.1465010913647,
          -147.2954115666412,
          -147.2954115666412,
          -147.2954115666412,
          -147.2954115666412,
          -147.2954115666412,
          -147.2954115666412,
          -147.2954115666412,
          -194.21773147904057,
          -194.21773147904057,
          -194.21773147904057,
          -194.21773147904057,
          -194.21773147904057,
          -194.21773147904057,
          -194.21773147904057,
          -194.21773147904057,
          -194.21773147904057,
          -194.21773147904057,
          -194.21773147904057,
          -194.21773147904057,
          -194.21773147904057,
          -194.21773147904057,
          -194.21773147904057,
          -194.21773147904057,
          -239.40357920173764,
          -239.40357920173764,
          -239.40357920173764,
          -239.40357920173764,
          -239.40357920173764,
          -239.40357920173764,
          -239.40357920173764,
          -239.40357920173764
         ],
         "xaxis": "x",
         "y": [
          -298.8217267149375,
          -298.8217267149375,
          -298.8217267149375,
          -298.8217267149375,
          -298.8217267149375,
          -298.8217267149375,
          -298.8217267149375,
          -298.8217267149375,
          -298.8217267149375,
          -298.8217267149375,
          -298.8217267149375,
          -298.8217267149375,
          -298.8217267149375,
          -275.03821734650097,
          -275.03821734650097,
          -275.03821734650097,
          -275.03821734650097,
          -275.03821734650097,
          -275.03821734650097,
          -275.03821734650097,
          -275.03821734650097,
          -275.03821734650097,
          -275.03821734650097,
          -275.03821734650097,
          -275.03821734650097,
          -275.03821734650097,
          -150.87512027840162,
          -150.87512027840162,
          -150.87512027840162,
          -150.87512027840162,
          -150.87512027840162,
          -150.87512027840162,
          -150.87512027840162,
          -150.87512027840162,
          -150.87512027840162,
          -150.87512027840162,
          -150.87512027840162,
          -150.87512027840162,
          -150.87512027840162,
          -150.87512027840162,
          -150.87512027840162,
          -150.87512027840162,
          -150.87512027840162,
          -128.8564034298307,
          -128.8564034298307,
          -128.8564034298307,
          -128.8564034298307,
          -128.8564034298307,
          -128.8564034298307,
          -128.8564034298307,
          -128.8564034298307,
          -128.8564034298307,
          -128.8564034298307,
          -128.8564034298307,
          -128.8564034298307,
          -128.8564034298307,
          -128.8564034298307,
          -128.8564034298307,
          -128.8564034298307,
          -128.8564034298307,
          -128.8564034298307,
          -128.8564034298307,
          -128.8564034298307,
          33.473975695339945,
          33.473977683237635,
          33.47397802347592,
          33.47398001137361,
          33.473981999271295,
          33.473983987168985,
          33.47398796296436,
          33.47398995086205,
          33.47399193875974,
          33.473994920606266,
          33.473996908503956,
          33.473998896401646,
          33.474000884299336,
          33.47400287219702,
          95.78763320763802,
          95.78763320763802,
          95.78763320763802,
          95.78763320763802,
          95.78763320763802,
          95.78763320763802,
          95.78763320763802,
          194.86738567902262,
          194.86738567902262,
          194.86738567902262,
          194.86738567902262,
          194.86738567902262,
          194.86738567902262,
          194.86738567902262,
          194.86738567902262,
          194.86738567902262,
          194.86738567902262,
          194.86738567902262,
          194.86738567902262,
          194.86738567902262,
          194.86738567902262,
          194.86738567902262,
          194.86738567902262,
          338.4115905071245,
          338.4115905071245,
          338.4115905071245,
          338.4115905071245,
          338.4115905071245,
          338.4115905071245,
          338.4115905071245,
          338.4115905071245
         ],
         "yaxis": "y"
        },
        {
         "customdata": [
          [
           -3.98,
           0
          ],
          [
           -3.97,
           0
          ],
          [
           -3.95,
           0
          ],
          [
           -3.93,
           0
          ],
          [
           -3.92,
           0
          ],
          [
           -3.9,
           0
          ],
          [
           -3.88,
           0
          ],
          [
           -3.87,
           0
          ],
          [
           -3.85,
           0
          ],
          [
           -3.83,
           0
          ],
          [
           -3.82,
           0
          ],
          [
           -3.8,
           0
          ],
          [
           -3.78,
           0
          ],
          [
           -3.77,
           0
          ],
          [
           -3.75,
           0
          ],
          [
           -3.73,
           0
          ],
          [
           -3.72,
           6.321743153292406
          ],
          [
           -3.7,
           7.901716704134055
          ],
          [
           -3.69,
           15.829673907125825
          ],
          [
           -3.67,
           20.616213098180616
          ],
          [
           -3.65,
           26.89151401558201
          ],
          [
           -3.64,
           41.128992532220096
          ],
          [
           -3.62,
           50.67144134518682
          ],
          [
           -3.6,
           58.43874896988584
          ],
          [
           -3.59,
           77.3116298018401
          ],
          [
           -3.57,
           84.17243090576277
          ],
          [
           -3.55,
           91.50439455004432
          ],
          [
           -3.54,
           98.51400443901136
          ],
          [
           -3.52,
           105.90205539302112
          ],
          [
           -3.5,
           109.2508252874981
          ],
          [
           -3.49,
           109.24469049774088
          ],
          [
           -3.47,
           105.89892640731593
          ],
          [
           -3.45,
           96.62814097347712
          ],
          [
           -3.44,
           88.64235407848446
          ],
          [
           -3.42,
           80.7688888913349
          ],
          [
           -3.4,
           58.42253081798044
          ],
          [
           -3.39,
           47.5324502812549
          ],
          [
           -3.37,
           36.397532773929335
          ],
          [
           -3.35,
           23.696133325267176
          ],
          [
           -3.34,
           0.0018085362901557
          ],
          [
           -3.32,
           0
          ],
          [
           -3.3,
           0
          ],
          [
           -3.29,
           0
          ],
          [
           -3.27,
           0
          ],
          [
           -3.25,
           0
          ],
          [
           -3.24,
           0
          ],
          [
           -3.22,
           0
          ],
          [
           -3.2,
           0
          ],
          [
           -3.19,
           0
          ],
          [
           -3.17,
           0
          ],
          [
           -3.15,
           0
          ],
          [
           -3.14,
           0
          ],
          [
           -3.12,
           0
          ],
          [
           -3.1,
           0
          ],
          [
           -3.09,
           0
          ],
          [
           -3.07,
           0
          ],
          [
           -3.05,
           0
          ],
          [
           -3.04,
           0
          ],
          [
           -3.02,
           6.335766297390214
          ],
          [
           -3,
           12.634891352470625
          ],
          [
           -2.99,
           12.646489275427696
          ],
          [
           -2.97,
           20.601898104748336
          ],
          [
           -2.95,
           25.28421325468477
          ],
          [
           -2.94,
           30.07689288916165
          ],
          [
           -2.92,
           42.70595537719797
          ],
          [
           -2.9,
           49.09535278217739
          ],
          [
           -2.89,
           56.972093355480666
          ],
          [
           -2.87,
           79.15500930735448
          ],
          [
           -2.86,
           85.43194663490297
          ],
          [
           -2.84,
           99.32323443766056
          ],
          [
           -2.82,
           106.28089624754678
          ],
          [
           -2.81,
           115.53042217246691
          ],
          [
           -2.79,
           151.86181165857752
          ],
          [
           -2.77,
           151.67924326159255
          ],
          [
           -2.76,
           152.31079338296223
          ],
          [
           -2.74,
           152.09210424070469
          ],
          [
           -2.72,
           153.3644346222933
          ],
          [
           -2.71,
           158.89304562527482
          ],
          [
           -2.69,
           170.86695380231984
          ],
          [
           -2.67,
           176.56050626722856
          ],
          [
           -2.66,
           183.01498174388735
          ],
          [
           -2.64,
           189.81520990134365
          ],
          [
           -2.62,
           192.08770128064157
          ],
          [
           -2.61,
           192.6527241393512
          ],
          [
           -2.59,
           193.3728412757876
          ],
          [
           -2.57,
           193.09784281642047
          ],
          [
           -2.56,
           193.0914383278411
          ],
          [
           -2.54,
           194.2665701034828
          ],
          [
           -2.52,
           196.60973526717223
          ],
          [
           -2.51,
           195.97583679752964
          ],
          [
           -2.49,
           37.23834571607204
          ],
          [
           -2.47,
           200
          ],
          [
           -2.46,
           199.33488461379744
          ],
          [
           -2.44,
           200
          ],
          [
           -2.42,
           199.42119335627407
          ],
          [
           -2.41,
           198.536793814488
          ],
          [
           -2.39,
           199.86625374432387
          ],
          [
           -2.37,
           199.71505218655147
          ],
          [
           -2.36,
           198.98723479026785
          ],
          [
           -2.34,
           199.6463125665015
          ],
          [
           -2.32,
           199.35538045958023
          ],
          [
           -2.31,
           199.30181009414864
          ],
          [
           -2.29,
           199.46000720442777
          ],
          [
           -2.27,
           199.7840271488792
          ],
          [
           -2.26,
           187.94770201984508
          ],
          [
           -2.24,
           188.64407820258447
          ],
          [
           -2.22,
           162.58981777113394
          ],
          [
           -2.21,
           148.60812152554624
          ],
          [
           -2.19,
           95.1319048069482
          ],
          [
           -2.17,
           61.79101540475433
          ],
          [
           -2.16,
           39.3663463840489
          ],
          [
           -2.14,
           20.63369422337384
          ],
          [
           -2.12,
           0
          ],
          [
           -2.11,
           0
          ],
          [
           -2.09,
           0
          ],
          [
           -2.07,
           0
          ],
          [
           -2.06,
           0
          ],
          [
           -2.04,
           0
          ],
          [
           -2.03,
           0
          ],
          [
           -2.01,
           0
          ],
          [
           -1.99,
           0
          ],
          [
           -1.98,
           0
          ],
          [
           -1.96,
           0
          ],
          [
           -1.94,
           0
          ],
          [
           -1.93,
           0
          ],
          [
           -1.91,
           0
          ],
          [
           -1.89,
           0
          ],
          [
           -1.88,
           0
          ],
          [
           -1.86,
           0
          ],
          [
           -1.84,
           15.881430163883708
          ],
          [
           -1.83,
           31.566562497535333
          ],
          [
           -1.81,
           41.09402124274377
          ],
          [
           -1.79,
           49.00454130917665
          ],
          [
           -1.78,
           58.79723177188715
          ],
          [
           -1.76,
           77.0352760990046
          ],
          [
           -1.74,
           85.8950567625265
          ],
          [
           -1.73,
           93.38109760037496
          ],
          [
           -1.71,
           103.76731280020002
          ],
          [
           -1.69,
           108.1330602644532
          ],
          [
           -1.68,
           19.818515029132104
          ],
          [
           -1.66,
           200
          ],
          [
           -1.64,
           101.1549737627825
          ],
          [
           -1.63,
           93.7797236503196
          ],
          [
           -1.61,
           87.51267557832269
          ],
          [
           -1.59,
           79.50463942287841
          ],
          [
           -1.58,
           58.61542140311728
          ],
          [
           -1.56,
           41.02757713711862
          ],
          [
           -1.54,
           0
          ],
          [
           -1.53,
           0
          ],
          [
           -1.51,
           0
          ],
          [
           -1.49,
           0
          ],
          [
           -1.47,
           0
          ],
          [
           -1.46,
           0
          ],
          [
           -1.45,
           0
          ],
          [
           -1.45,
           0
          ],
          [
           -1.44,
           0
          ],
          [
           -1.43,
           0
          ],
          [
           -1.41,
           0
          ],
          [
           -1.39,
           0
          ],
          [
           -1.38,
           0
          ],
          [
           -1.36,
           0
          ],
          [
           -1.34,
           0
          ],
          [
           -1.33,
           0
          ],
          [
           -1.31,
           0
          ],
          [
           -1.29,
           0
          ],
          [
           -1.28,
           0
          ],
          [
           -1.26,
           0
          ],
          [
           -1.24,
           0
          ],
          [
           -1.23,
           0
          ],
          [
           -1.21,
           0
          ],
          [
           -1.2,
           11.065066110971298
          ],
          [
           -1.18,
           14.175639763728006
          ],
          [
           -1.16,
           14.30683453555645
          ],
          [
           -1.15,
           22.11851654057744
          ],
          [
           -1.13,
           26.943169605163707
          ],
          [
           -1.11,
           33.18008776720426
          ],
          [
           -1.1,
           47.38892088350034
          ],
          [
           -1.08,
           55.34434700326
          ],
          [
           -1.06,
           60.189347969935376
          ],
          [
           -1.05,
           76.08785798656241
          ],
          [
           -1.03,
           79.1146612595033
          ],
          [
           -1.01,
           85.39329749230235
          ],
          [
           -1,
           91.87622592483982
          ],
          [
           -0.98,
           102.72948579483004
          ],
          [
           -0.96,
           110.96071309466105
          ],
          [
           -0.95,
           114.94333249777964
          ],
          [
           -0.93,
           152.22601046224312
          ],
          [
           -0.91,
           152.3419010746433
          ],
          [
           -0.9,
           152.05244681167918
          ],
          [
           -0.88,
           151.15853475461518
          ],
          [
           -0.86,
           155.6531545129659
          ],
          [
           -0.85,
           162.6229580977833
          ],
          [
           -0.83,
           168.37434440340763
          ],
          [
           -0.81,
           168.64346470637554
          ],
          [
           -0.8,
           175.17906125587064
          ],
          [
           -0.78,
           178.19739235623274
          ],
          [
           -0.76,
           180.10403029268647
          ],
          [
           -0.75,
           180.6440094454588
          ],
          [
           -0.73,
           183.00306357597648
          ],
          [
           -0.71,
           183.72246382698836
          ],
          [
           -0.7,
           186.4777320574113
          ],
          [
           -0.68,
           187.4566905208303
          ],
          [
           -0.66,
           188.1875137798961
          ],
          [
           -0.65,
           189.86906295055408
          ],
          [
           -0.63,
           189.5006029069392
          ],
          [
           -0.61,
           190.5313626627291
          ],
          [
           -0.6,
           189.948770738827
          ],
          [
           -0.58,
           189.3719464328191
          ],
          [
           -0.56,
           191.47845236105127
          ],
          [
           -0.55,
           192.99004496351813
          ],
          [
           -0.53,
           193.06970096907608
          ],
          [
           -0.51,
           192.72683612496917
          ],
          [
           -0.5,
           192.82278488964567
          ],
          [
           -0.48,
           193.61070701423932
          ],
          [
           -0.46,
           194.4388960474709
          ],
          [
           -0.45,
           194.5071639130019
          ],
          [
           -0.43,
           194.33717280728288
          ],
          [
           -0.42,
           194.15874836645725
          ],
          [
           -0.4,
           192.5488617068508
          ],
          [
           -0.38,
           193.0499878726073
          ],
          [
           -0.37,
           192.8819890166629
          ],
          [
           -0.35,
           193.51045131866587
          ],
          [
           -0.33,
           194.53632543974584
          ],
          [
           -0.32,
           194.7650759988366
          ],
          [
           -0.3,
           194.72092734648584
          ],
          [
           -0.28,
           197.28537235168216
          ],
          [
           -0.27,
           197.45794156401095
          ],
          [
           -0.25,
           195.2313432337113
          ],
          [
           -0.23,
           198.93731023296576
          ],
          [
           -0.22,
           200
          ],
          [
           -0.2,
           200
          ],
          [
           -0.18,
           195.70277999392368
          ],
          [
           -0.17,
           183.4582015539372
          ],
          [
           -0.15,
           183.9456848210775
          ],
          [
           -0.13,
           174.0418221062833
          ],
          [
           -0.12,
           152.27465677927137
          ],
          [
           -0.1,
           143.97024311713074
          ],
          [
           -0.08,
           104.01012416510105
          ],
          [
           -0.07,
           83.80388568335931
          ],
          [
           -0.05,
           39.65759145598367
          ],
          [
           -0.03,
           20.543263072288603
          ],
          [
           -0.02,
           7.9204486767856705
          ],
          [
           0,
           0.00006028090888392744
          ],
          [
           0.02,
           0.0001204166417036
          ],
          [
           0.03,
           0.0009091466487853
          ],
          [
           0.05,
           0.0001208751361087
          ],
          [
           0.07,
           0.0001203948951663
          ],
          [
           0.09,
           0.00007667241704056173
          ],
          [
           0.1,
           0.0005398110666812
          ],
          [
           0.11,
           0.0001551951577949
          ],
          [
           0.11,
           0.000550206327939
          ],
          [
           0.12,
           0.0005351886535998
          ],
          [
           0.13,
           0.0001221299463883
          ],
          [
           0.15,
           0.00006016847156889596
          ],
          [
           0.17,
           0.0001206636501994
          ],
          [
           0.18,
           0.0001208240197247
          ],
          [
           0.2,
           0.0001199400301083
          ],
          [
           0.22,
           0.0001186169265466
          ],
          [
           0.23,
           8.033483620582727
          ],
          [
           0.25,
           11.109240236070423
          ],
          [
           0.27,
           17.341832501673395
          ],
          [
           0.28,
           23.813518718035944
          ],
          [
           0.3,
           37.790705493123625
          ],
          [
           0.32,
           44.5118175836719
          ],
          [
           0.33,
           52.11535048492674
          ],
          [
           0.35,
           60.29401360474196
          ],
          [
           0.37,
           69.57600200820822
          ],
          [
           0.38,
           75.95473687305402
          ],
          [
           0.4,
           80.50932122841172
          ],
          [
           0.42,
           84.03749178479164
          ],
          [
           0.43,
           85.44443973736621
          ],
          [
           0.45,
           87.07415900178299
          ],
          [
           0.46,
           88.62480600514365
          ],
          [
           0.48,
           88.8294154418774
          ],
          [
           0.5,
           88.19064939145413
          ],
          [
           0.51,
           88.48732347815722
          ],
          [
           0.53,
           90.64190171766325
          ],
          [
           0.55,
           93.40109768860964
          ],
          [
           0.56,
           94.7292423038933
          ],
          [
           0.58,
           96.7516357708366
          ],
          [
           0.6,
           99.35439575715124
          ],
          [
           0.61,
           101.5243640292036
          ],
          [
           0.63,
           106.12751613862989
          ],
          [
           0.65,
           105.85686905646904
          ],
          [
           0.66,
           107.46357356138148
          ],
          [
           0.68,
           114.04170572636788
          ],
          [
           0.7,
           113.79834021906515
          ],
          [
           0.71,
           115.67201471722127
          ],
          [
           0.73,
           115.66015544230076
          ],
          [
           0.75,
           115.33764553708843
          ],
          [
           0.76,
           115.40020259928976
          ],
          [
           0.78,
           115.76748992737164
          ],
          [
           0.8,
           115.30775676978998
          ],
          [
           0.81,
           115.3189930699515
          ],
          [
           0.83,
           114.22542408315276
          ],
          [
           0.85,
           110.38824317658758
          ],
          [
           0.86,
           104.45016430385564
          ],
          [
           0.88,
           99.8052383790518
          ],
          [
           0.9,
           80.6119523860268
          ],
          [
           0.91,
           75.76769892245642
          ],
          [
           0.93,
           64.85742591250396
          ],
          [
           0.95,
           55.35003338603562
          ],
          [
           0.96,
           41.19829400150251
          ],
          [
           0.98,
           33.16644989876293
          ],
          [
           1,
           25.306024001899612
          ],
          [
           1.01,
           11.108272272598326
          ],
          [
           1.03,
           11.074289351108602
          ],
          [
           1.05,
           0.0009949477293365
          ],
          [
           1.06,
           0
          ],
          [
           1.08,
           0
          ],
          [
           1.1,
           0
          ],
          [
           1.11,
           0
          ],
          [
           1.13,
           0
          ],
          [
           1.15,
           0
          ],
          [
           1.16,
           0
          ],
          [
           1.18,
           6.31669347286634
          ],
          [
           1.2,
           9.515736488089049
          ],
          [
           1.21,
           9.478311644280195
          ],
          [
           1.23,
           17.408495192117027
          ],
          [
           1.25,
           28.49727176194672
          ],
          [
           1.26,
           36.4037883737839
          ],
          [
           1.28,
           44.15984250865846
          ],
          [
           1.29,
           53.72635894537096
          ],
          [
           1.31,
           77.88212729560873
          ],
          [
           1.33,
           88.76746147031432
          ],
          [
           1.34,
           118.472231866413
          ],
          [
           1.36,
           151.80074018140107
          ],
          [
           1.38,
           152.16770915408048
          ],
          [
           1.39,
           153.0256771326833
          ],
          [
           1.41,
           172.95413948998552
          ],
          [
           1.43,
           181.66595779126524
          ],
          [
           1.44,
           190.18999699152
          ],
          [
           1.46,
           197.8382486800396
          ],
          [
           1.48,
           199.09800200706064
          ],
          [
           1.49,
           199.44655045282903
          ],
          [
           1.51,
           199.38536669700423
          ],
          [
           1.53,
           199.15730964937023
          ],
          [
           1.54,
           199.16763393866364
          ],
          [
           1.56,
           199.7852857851034
          ],
          [
           1.58,
           199.2996230597679
          ],
          [
           1.59,
           198.4902985158118
          ],
          [
           1.61,
           200
          ],
          [
           1.63,
           199.5329201529897
          ],
          [
           1.64,
           198.9122047542248
          ],
          [
           1.66,
           198.9318382096904
          ],
          [
           1.68,
           199.83284423883853
          ],
          [
           1.69,
           199.10978279717372
          ],
          [
           1.71,
           199.82272308081855
          ],
          [
           1.73,
           196.69189155211652
          ],
          [
           1.74,
           200
          ],
          [
           1.76,
           199.15496767080657
          ],
          [
           1.78,
           200
          ],
          [
           1.79,
           196.96036438723957
          ],
          [
           1.81,
           192.19152003429588
          ],
          [
           1.83,
           169.24098754384076
          ],
          [
           1.84,
           151.71676261057289
          ],
          [
           1.86,
           152.10473125497532
          ],
          [
           1.88,
           100.87768841446616
          ],
          [
           1.89,
           64.83586360569332
          ],
          [
           1.91,
           65.09412815789373
          ],
          [
           1.93,
           25.250307475733347
          ],
          [
           1.94,
           11.081361595135242
          ],
          [
           1.96,
           0
          ],
          [
           1.98,
           0
          ],
          [
           1.99,
           0
          ],
          [
           2.02,
           0
          ],
          [
           2.02,
           0
          ],
          [
           2.04,
           0
          ],
          [
           2.04,
           0
          ],
          [
           2.04,
           0
          ],
          [
           2.06,
           0
          ],
          [
           2.08,
           0
          ],
          [
           2.09,
           0
          ],
          [
           2.11,
           0
          ],
          [
           2.12,
           0
          ],
          [
           2.14,
           0
          ],
          [
           2.16,
           0
          ],
          [
           2.17,
           0
          ],
          [
           2.19,
           0
          ],
          [
           2.21,
           0
          ],
          [
           2.22,
           0
          ],
          [
           2.24,
           6.323662744380576
          ],
          [
           2.26,
           6.352689744591966
          ],
          [
           2.27,
           14.234474469800452
          ],
          [
           2.29,
           18.925719447950893
          ],
          [
           2.31,
           28.565200137046794
          ],
          [
           2.32,
           39.52632579560838
          ],
          [
           2.34,
           39.58899966700648
          ],
          [
           2.36,
           49.03631463664153
          ],
          [
           2.37,
           55.4081494808084
          ],
          [
           2.39,
           71.13804418783548
          ],
          [
           2.41,
           75.82150532040755
          ],
          [
           2.42,
           79.2065787852771
          ],
          [
           2.44,
           90.10669428487896
          ],
          [
           2.46,
           96.73743892372012
          ],
          [
           2.47,
           101.37036531491776
          ],
          [
           2.49,
           112.40543130326375
          ],
          [
           2.51,
           115.38830185939256
          ],
          [
           2.52,
           151.6915443192224
          ],
          [
           2.54,
           151.8796826887427
          ],
          [
           2.56,
           152.0624081341804
          ],
          [
           2.57,
           152.11938072869202
          ],
          [
           2.59,
           151.81715360657472
          ],
          [
           2.61,
           152.15306361386612
          ],
          [
           2.62,
           153.31437055776306
          ],
          [
           2.64,
           159.6621801885275
          ],
          [
           2.66,
           159.59062830830328
          ],
          [
           2.67,
           166.8304090654128
          ],
          [
           2.69,
           167.48458147305
          ],
          [
           2.71,
           172.2353191139274
          ],
          [
           2.72,
           173.7230156773365
          ],
          [
           2.74,
           175.7551250492693
          ],
          [
           2.76,
           178.91514729718122
          ],
          [
           2.77,
           179.4287363859923
          ],
          [
           2.79,
           180.37469749888845
          ],
          [
           2.81,
           179.8628521763021
          ],
          [
           2.82,
           181.5800593717013
          ],
          [
           2.84,
           184.1049483297953
          ],
          [
           2.86,
           185.57972599451895
          ],
          [
           2.87,
           187.6128177248665
          ],
          [
           2.89,
           190.14346364591125
          ],
          [
           2.9,
           191.82372385256
          ],
          [
           2.92,
           192.80050790948263
          ],
          [
           2.94,
           192.9936962988624
          ],
          [
           2.95,
           192.99882400940652
          ],
          [
           2.97,
           193.18202376512588
          ],
          [
           2.99,
           194.07676567547972
          ],
          [
           3,
           194.99266605131524
          ],
          [
           3.02,
           192.89705235091756
          ],
          [
           3.04,
           194.8879277809268
          ],
          [
           3.05,
           194.21454909740956
          ],
          [
           3.07,
           189.58705258582935
          ],
          [
           3.09,
           200
          ],
          [
           3.1,
           193.17691488882605
          ],
          [
           3.12,
           192.97716795525977
          ],
          [
           3.14,
           191.70717632426707
          ],
          [
           3.15,
           186.60234602372583
          ],
          [
           3.17,
           176.81100327051965
          ],
          [
           3.19,
           170.08438646479314
          ],
          [
           3.2,
           169.1012106952282
          ],
          [
           3.22,
           151.87703125378792
          ],
          [
           3.24,
           151.7937290367154
          ],
          [
           3.25,
           129.59501875104831
          ],
          [
           3.27,
           83.86395460439887
          ],
          [
           3.29,
           67.93675066580477
          ],
          [
           3.3,
           46.0235274510266
          ],
          [
           3.32,
           15.765107642864164
          ],
          [
           3.34,
           0.0026116545121227
          ],
          [
           3.35,
           0
          ],
          [
           3.37,
           0
          ],
          [
           3.39,
           0
          ],
          [
           3.4,
           0
          ],
          [
           3.42,
           0
          ],
          [
           3.44,
           0
          ],
          [
           3.45,
           0
          ]
         ],
         "hovertemplate": "rel_time: %{customdata[0]:.2f} <br>monkey_speed: %{customdata[1]:.2f}",
         "legendgroup": "",
         "marker": {
          "cmax": 200,
          "cmin": 0,
          "color": [
           0,
           0,
           0,
           0,
           0,
           0,
           0,
           0,
           0,
           0,
           0,
           0,
           0,
           0,
           0,
           0,
           6.321743153292406,
           7.901716704134055,
           15.829673907125825,
           20.616213098180616,
           26.89151401558201,
           41.128992532220096,
           50.67144134518682,
           58.43874896988584,
           77.3116298018401,
           84.17243090576277,
           91.50439455004432,
           98.51400443901136,
           105.90205539302112,
           109.2508252874981,
           109.24469049774088,
           105.89892640731593,
           96.62814097347712,
           88.64235407848446,
           80.7688888913349,
           58.42253081798044,
           47.5324502812549,
           36.397532773929335,
           23.696133325267176,
           0.0018085362901557,
           0,
           0,
           0,
           0,
           0,
           0,
           0,
           0,
           0,
           0,
           0,
           0,
           0,
           0,
           0,
           0,
           0,
           0,
           6.335766297390214,
           12.634891352470625,
           12.646489275427696,
           20.601898104748336,
           25.28421325468477,
           30.07689288916165,
           42.70595537719797,
           49.09535278217739,
           56.972093355480666,
           79.15500930735448,
           85.43194663490297,
           99.32323443766056,
           106.28089624754678,
           115.53042217246691,
           151.86181165857752,
           151.67924326159255,
           152.31079338296223,
           152.09210424070469,
           153.3644346222933,
           158.89304562527482,
           170.86695380231984,
           176.56050626722856,
           183.01498174388735,
           189.81520990134365,
           192.08770128064157,
           192.6527241393512,
           193.3728412757876,
           193.09784281642047,
           193.0914383278411,
           194.2665701034828,
           196.60973526717223,
           195.97583679752964,
           37.23834571607204,
           200,
           199.33488461379744,
           200,
           199.42119335627407,
           198.536793814488,
           199.86625374432387,
           199.71505218655147,
           198.98723479026785,
           199.6463125665015,
           199.35538045958023,
           199.30181009414864,
           199.46000720442777,
           199.7840271488792,
           187.94770201984508,
           188.64407820258447,
           162.58981777113394,
           148.60812152554624,
           95.1319048069482,
           61.79101540475433,
           39.3663463840489,
           20.63369422337384,
           0,
           0,
           0,
           0,
           0,
           0,
           0,
           0,
           0,
           0,
           0,
           0,
           0,
           0,
           0,
           0,
           0,
           15.881430163883708,
           31.566562497535333,
           41.09402124274377,
           49.00454130917665,
           58.79723177188715,
           77.0352760990046,
           85.8950567625265,
           93.38109760037496,
           103.76731280020002,
           108.1330602644532,
           19.818515029132104,
           200,
           101.1549737627825,
           93.7797236503196,
           87.51267557832269,
           79.50463942287841,
           58.61542140311728,
           41.02757713711862,
           0,
           0,
           0,
           0,
           0,
           0,
           0,
           0,
           0,
           0,
           0,
           0,
           0,
           0,
           0,
           0,
           0,
           0,
           0,
           0,
           0,
           0,
           0,
           11.065066110971298,
           14.175639763728006,
           14.30683453555645,
           22.11851654057744,
           26.943169605163707,
           33.18008776720426,
           47.38892088350034,
           55.34434700326,
           60.189347969935376,
           76.08785798656241,
           79.1146612595033,
           85.39329749230235,
           91.87622592483982,
           102.72948579483004,
           110.96071309466105,
           114.94333249777964,
           152.22601046224312,
           152.3419010746433,
           152.05244681167918,
           151.15853475461518,
           155.6531545129659,
           162.6229580977833,
           168.37434440340763,
           168.64346470637554,
           175.17906125587064,
           178.19739235623274,
           180.10403029268647,
           180.6440094454588,
           183.00306357597648,
           183.72246382698836,
           186.4777320574113,
           187.4566905208303,
           188.1875137798961,
           189.86906295055408,
           189.5006029069392,
           190.5313626627291,
           189.948770738827,
           189.3719464328191,
           191.47845236105127,
           192.99004496351813,
           193.06970096907608,
           192.72683612496917,
           192.82278488964567,
           193.61070701423932,
           194.4388960474709,
           194.5071639130019,
           194.33717280728288,
           194.15874836645725,
           192.5488617068508,
           193.0499878726073,
           192.8819890166629,
           193.51045131866587,
           194.53632543974584,
           194.7650759988366,
           194.72092734648584,
           197.28537235168216,
           197.45794156401095,
           195.2313432337113,
           198.93731023296576,
           200,
           200,
           195.70277999392368,
           183.4582015539372,
           183.9456848210775,
           174.0418221062833,
           152.27465677927137,
           143.97024311713074,
           104.01012416510105,
           83.80388568335931,
           39.65759145598367,
           20.543263072288603,
           7.9204486767856705,
           0.00006028090888392744,
           0.0001204166417036,
           0.0009091466487853,
           0.0001208751361087,
           0.0001203948951663,
           0.00007667241704056173,
           0.0005398110666812,
           0.0001551951577949,
           0.000550206327939,
           0.0005351886535998,
           0.0001221299463883,
           0.00006016847156889596,
           0.0001206636501994,
           0.0001208240197247,
           0.0001199400301083,
           0.0001186169265466,
           8.033483620582727,
           11.109240236070423,
           17.341832501673395,
           23.813518718035944,
           37.790705493123625,
           44.5118175836719,
           52.11535048492674,
           60.29401360474196,
           69.57600200820822,
           75.95473687305402,
           80.50932122841172,
           84.03749178479164,
           85.44443973736621,
           87.07415900178299,
           88.62480600514365,
           88.8294154418774,
           88.19064939145413,
           88.48732347815722,
           90.64190171766325,
           93.40109768860964,
           94.7292423038933,
           96.7516357708366,
           99.35439575715124,
           101.5243640292036,
           106.12751613862989,
           105.85686905646904,
           107.46357356138148,
           114.04170572636788,
           113.79834021906515,
           115.67201471722127,
           115.66015544230076,
           115.33764553708843,
           115.40020259928976,
           115.76748992737164,
           115.30775676978998,
           115.3189930699515,
           114.22542408315276,
           110.38824317658758,
           104.45016430385564,
           99.8052383790518,
           80.6119523860268,
           75.76769892245642,
           64.85742591250396,
           55.35003338603562,
           41.19829400150251,
           33.16644989876293,
           25.306024001899612,
           11.108272272598326,
           11.074289351108602,
           0.0009949477293365,
           0,
           0,
           0,
           0,
           0,
           0,
           0,
           6.31669347286634,
           9.515736488089049,
           9.478311644280195,
           17.408495192117027,
           28.49727176194672,
           36.4037883737839,
           44.15984250865846,
           53.72635894537096,
           77.88212729560873,
           88.76746147031432,
           118.472231866413,
           151.80074018140107,
           152.16770915408048,
           153.0256771326833,
           172.95413948998552,
           181.66595779126524,
           190.18999699152,
           197.8382486800396,
           199.09800200706064,
           199.44655045282903,
           199.38536669700423,
           199.15730964937023,
           199.16763393866364,
           199.7852857851034,
           199.2996230597679,
           198.4902985158118,
           200,
           199.5329201529897,
           198.9122047542248,
           198.9318382096904,
           199.83284423883853,
           199.10978279717372,
           199.82272308081855,
           196.69189155211652,
           200,
           199.15496767080657,
           200,
           196.96036438723957,
           192.19152003429588,
           169.24098754384076,
           151.71676261057289,
           152.10473125497532,
           100.87768841446616,
           64.83586360569332,
           65.09412815789373,
           25.250307475733347,
           11.081361595135242,
           0,
           0,
           0,
           0,
           0,
           0,
           0,
           0,
           0,
           0,
           0,
           0,
           0,
           0,
           0,
           0,
           0,
           0,
           0,
           6.323662744380576,
           6.352689744591966,
           14.234474469800452,
           18.925719447950893,
           28.565200137046794,
           39.52632579560838,
           39.58899966700648,
           49.03631463664153,
           55.4081494808084,
           71.13804418783548,
           75.82150532040755,
           79.2065787852771,
           90.10669428487896,
           96.73743892372012,
           101.37036531491776,
           112.40543130326375,
           115.38830185939256,
           151.6915443192224,
           151.8796826887427,
           152.0624081341804,
           152.11938072869202,
           151.81715360657472,
           152.15306361386612,
           153.31437055776306,
           159.6621801885275,
           159.59062830830328,
           166.8304090654128,
           167.48458147305,
           172.2353191139274,
           173.7230156773365,
           175.7551250492693,
           178.91514729718122,
           179.4287363859923,
           180.37469749888845,
           179.8628521763021,
           181.5800593717013,
           184.1049483297953,
           185.57972599451895,
           187.6128177248665,
           190.14346364591125,
           191.82372385256,
           192.80050790948263,
           192.9936962988624,
           192.99882400940652,
           193.18202376512588,
           194.07676567547972,
           194.99266605131524,
           192.89705235091756,
           194.8879277809268,
           194.21454909740956,
           189.58705258582935,
           200,
           193.17691488882605,
           192.97716795525977,
           191.70717632426707,
           186.60234602372583,
           176.81100327051965,
           170.08438646479314,
           169.1012106952282,
           151.87703125378792,
           151.7937290367154,
           129.59501875104831,
           83.86395460439887,
           67.93675066580477,
           46.0235274510266,
           15.765107642864164,
           0.0026116545121227,
           0,
           0,
           0,
           0,
           0,
           0,
           0
          ],
          "colorscale": [
           [
            0,
            "#440154"
           ],
           [
            0.1111111111111111,
            "#482878"
           ],
           [
            0.2222222222222222,
            "#3e4989"
           ],
           [
            0.3333333333333333,
            "#31688e"
           ],
           [
            0.4444444444444444,
            "#26828e"
           ],
           [
            0.5555555555555556,
            "#1f9e89"
           ],
           [
            0.6666666666666666,
            "#35b779"
           ],
           [
            0.7777777777777778,
            "#6ece58"
           ],
           [
            0.8888888888888888,
            "#b5de2b"
           ],
           [
            1,
            "#fde725"
           ]
          ],
          "opacity": 0.8,
          "symbol": "circle"
         },
         "mode": "markers",
         "name": "trajectory_data",
         "orientation": "v",
         "showlegend": false,
         "type": "scatter",
         "x": [
          -239.4035792017375,
          -239.4035792017375,
          -239.4035792017375,
          -239.4035792017375,
          -239.4035792017375,
          -239.4035792017375,
          -239.4035792017375,
          -239.4035792017375,
          -239.4035792017375,
          -239.4035792017375,
          -239.4035792017375,
          -239.4035792017375,
          -239.4035792017375,
          -239.4035792017375,
          -239.4035792017375,
          -239.4035792017375,
          -239.38537100511672,
          -239.36261729981786,
          -239.3174543661527,
          -239.25952558402136,
          -239.18507655287408,
          -239.07362182805903,
          -238.94006264878308,
          -238.79171071804964,
          -238.60451486608932,
          -238.413190325351,
          -238.2176768406608,
          -238.02403901538835,
          -237.83151761700714,
          -237.6502828559231,
          -237.48611373271518,
          -237.34335311047937,
          -237.22858554913802,
          -237.13654579411372,
          -237.06296530744282,
          -237.0163691741581,
          -236.98328745571843,
          -236.9600262900548,
          -236.94567692476323,
          -236.94568022008204,
          -236.94568022008204,
          -236.94568022008204,
          -236.94568022008204,
          -236.94568022008204,
          -236.94568022008204,
          -236.94568022008204,
          -236.94568022008204,
          -236.94568022008204,
          -236.94568022008204,
          -236.94568022008204,
          -236.94568022008204,
          -236.94568022008204,
          -236.94568022008204,
          -236.94568022008204,
          -236.94568022008204,
          -236.94568022008204,
          -236.94568022008204,
          -236.94568022008204,
          -236.9419510424274,
          -236.93452797657523,
          -236.92707810879676,
          -236.91499229155943,
          -236.90013756248027,
          -236.88247640866342,
          -236.85665535366243,
          -236.82587537074582,
          -236.78836840554357,
          -236.73201150798235,
          -236.66569797625468,
          -236.5809193525079,
          -236.4811174707819,
          -236.3607951061949,
          -236.1860122616013,
          -235.99414406754985,
          -235.78320445570264,
          -235.55192863743437,
          -235.29563776183917,
          -235.00384377188382,
          -234.66419024903254,
          -234.2859729500832,
          -233.86106869908522,
          -233.38949451478638,
          -232.88282072018103,
          -232.34050391988433,
          -231.76683021561885,
          -231.1617294654796,
          -230.5273407685488,
          -229.86295844714752,
          -229.16814718729543,
          -228.45109041159702,
          -228.31496068109473,
          -226.9307448658955,
          -226.14192302069694,
          -225.33776021995467,
          -224.5224230156852,
          -223.69858197949662,
          -222.86628036036328,
          -222.02892506675747,
          -221.19145619213026,
          -220.35405654575732,
          -219.52078268580553,
          -218.6997927608368,
          -217.8912280379037,
          -217.1004415040054,
          -216.37578296413648,
          -215.67340024243316,
          -215.08604677603955,
          -214.5676546409578,
          -214.24725858498638,
          -214.04365332165,
          -213.91507938387755,
          -213.84877799485406,
          -213.84877799485406,
          -213.84877799485406,
          -213.84877799485406,
          -213.84877799485406,
          -213.84877799485406,
          -213.84877799485406,
          -213.84877799485406,
          -213.84877799485406,
          -213.84877799485406,
          -213.84877799485406,
          -213.84877799485406,
          -213.84877799485406,
          -213.84877799485406,
          -213.84877799485406,
          -213.84877799485406,
          -213.84877799485406,
          -213.84877799485406,
          -213.79773519213967,
          -213.69573565063698,
          -213.5632124557224,
          -213.40514048828172,
          -213.21646045116245,
          -212.9665924107994,
          -212.69125913007204,
          -212.39202476007551,
          -212.05928509906516,
          -211.7200855685237,
          -211.6578243157669,
          -211.02619710199875,
          -210.7156415940033,
          -210.4327461163422,
          -210.1527236240823,
          -209.93220300704294,
          -209.76053564180484,
          -209.6398088131599,
          -209.6398088131599,
          -209.6398088131599,
          -209.6398088131599,
          -209.6398088131599,
          -209.6398088131599,
          -209.6398088131599,
          -209.6398088131599,
          -209.6398088131599,
          -209.6398088131599,
          -209.6398088131599,
          -209.6398088131599,
          -209.6398088131599,
          -209.6398088131599,
          -209.6398088131599,
          -209.6398088131599,
          -209.6398088131599,
          -209.6398088131599,
          -209.6398088131599,
          -209.6398088131599,
          -209.6398088131599,
          -209.6398088131599,
          -209.6398088131599,
          -209.6398088131599,
          -209.607314736364,
          -209.56550970866425,
          -209.52372983523136,
          -209.45875923248056,
          -209.37988079035358,
          -209.2823612479187,
          -209.14311845244245,
          -208.980527224254,
          -208.80309834642483,
          -208.57664961902591,
          -208.33830288542384,
          -208.07596294984154,
          -207.7891009076559,
          -207.46060246666664,
          -207.09674389310783,
          -206.70586516032637,
          -206.17583475316204,
          -205.6269967056611,
          -205.05870100039317,
          -204.46951885077988,
          -203.84315833775855,
          -203.15909997307924,
          -202.42696818078295,
          -201.659900303003,
          -200.83385463011373,
          -199.9700197863162,
          -199.05875253062658,
          -198.11718447915194,
          -197.12679679077732,
          -196.10482768130422,
          -195.0336639345627,
          -193.93044597145823,
          -192.78645292473323,
          -191.60180278502062,
          -190.38644814013637,
          -189.14289878390278,
          -187.87018963357858,
          -186.56866698567808,
          -185.2293238112081,
          -183.85591445961347,
          -182.45991737451567,
          -181.04202277920368,
          -179.60893025538243,
          -178.1584647270304,
          -176.68221413676682,
          -175.19235635934874,
          -173.6923846695273,
          -172.1967992060011,
          -170.70121462657974,
          -169.20597708303444,
          -167.7157739103509,
          -166.2377168921861,
          -164.76033538795375,
          -163.29641060287054,
          -161.84827612282706,
          -160.39345418346107,
          -158.95285386519265,
          -157.53108686058192,
          -156.11607118863168,
          -154.72185936165664,
          -153.352221360922,
          -152.027305210359,
          -150.81121241932146,
          -149.61907608494286,
          -148.51026546878612,
          -147.56142953279303,
          -146.6775998017328,
          -146.04753568359067,
          -145.54722091308398,
          -145.31380864017913,
          -145.1929800935637,
          -145.1465192959162,
          -145.14651918607225,
          -145.14651896638432,
          -145.1465038374637,
          -145.1465036177758,
          -145.14650339808787,
          -145.14650317839997,
          -145.14650295871203,
          -145.14650273902413,
          -145.1465025193362,
          -145.1465022996483,
          -145.14650207996036,
          -145.14650197011642,
          -145.14650175042848,
          -145.14650153074058,
          -145.14650131105265,
          -145.1465010913647,
          -145.10004095813417,
          -145.03501372770958,
          -144.93357590022873,
          -144.7965972556684,
          -144.58067614783533,
          -144.33574334975523,
          -144.05430298438316,
          -143.74206222846314,
          -143.39557241238649,
          -143.0357017296183,
          -142.674360689381,
          -142.3229824410794,
          -141.9908288911199,
          -141.67983324323797,
          -141.3914838734953,
          -141.1313365815583,
          -140.8995946909636,
          -140.69639657256855,
          -140.5189946964154,
          -140.36586146129625,
          -140.2419419762698,
          -140.1488713268171,
          -140.0868852454435,
          -140.05926598455227,
          -140.06736521771464,
          -140.11252622518498,
          -140.1962006607167,
          -140.32502266553163,
          -140.49382134835443,
          -140.70594389111665,
          -140.95899942234456,
          -141.25268312773426,
          -141.58698434706852,
          -141.96158230912343,
          -142.37633345680257,
          -142.83159399017669,
          -143.31966305318127,
          -143.83884940824584,
          -144.3567390189738,
          -144.88201384302317,
          -145.32070568316126,
          -145.76164808228597,
          -146.15247490464316,
          -146.49717985692192,
          -146.7606751995365,
          -146.97797929686357,
          -147.14609766176963,
          -147.22048656406318,
          -147.2954257069662,
          -147.2954115666412,
          -147.2954115666412,
          -147.2954115666412,
          -147.2954115666412,
          -147.2954115666412,
          -147.2954115666412,
          -147.2954115666412,
          -147.2954115666412,
          -147.3384850555243,
          -147.4029439583107,
          -147.46749874354808,
          -147.5858223635518,
          -147.77940574604565,
          -148.0265447923179,
          -148.32756545293788,
          -148.69259575877362,
          -149.21686894096635,
          -149.81462715297624,
          -150.6126217402675,
          -151.6317884798098,
          -152.64718661500487,
          -153.6697805625931,
          -154.8167682112426,
          -156.02578375477435,
          -157.28817184623037,
          -158.60355824693772,
          -159.93301977899412,
          -161.26836731314168,
          -162.60972237983236,
          -163.95581284932192,
          -165.3085469681149,
          -166.6680876765968,
          -168.03234448313944,
          -169.40433156493336,
          -170.7829888281365,
          -172.1677363832294,
          -173.56065424312413,
          -174.96377220444276,
          -176.37678451441835,
          -177.80105855841344,
          -179.2388035813227,
          -180.6891491742711,
          -182.15604403885547,
          -183.63875718412584,
          -185.14176016830885,
          -186.6574000093879,
          -188.15144793877457,
          -189.49578004455842,
          -190.72303553444092,
          -191.969985019783,
          -192.8128484174807,
          -193.35798572792115,
          -193.90793941375915,
          -194.12324385798513,
          -194.21773147904057,
          -194.21773147904057,
          -194.21773147904057,
          -194.21773147904057,
          -194.21773147904057,
          -194.21773147904057,
          -194.21773147904057,
          -194.21773147904057,
          -194.21773147904057,
          -194.21773147904057,
          -194.21773147904057,
          -194.21773147904057,
          -194.21773147904057,
          -194.21773147904057,
          -194.21773147904057,
          -194.21773147904057,
          -194.21773147904057,
          -194.21773147904057,
          -194.21773147904057,
          -194.21773147904057,
          -194.2716217768789,
          -194.32562825410815,
          -194.446952184111,
          -194.6088705760348,
          -194.85137419568767,
          -195.18851033045934,
          -195.52551273499927,
          -195.9437233717253,
          -196.41544780629255,
          -197.0212668630927,
          -197.66471889326718,
          -198.33185770704264,
          -199.08790271257232,
          -199.89071384379005,
          -200.72534840508868,
          -201.63865909886243,
          -202.5652592852394,
          -203.76437028742964,
          -204.94284047568203,
          -206.0986015757745,
          -207.2325634860494,
          -208.34355076281386,
          -209.4329648134002,
          -210.50976840938537,
          -211.60646336097568,
          -212.67831214276745,
          -213.766185167611,
          -214.83806178053928,
          -215.91109523447568,
          -216.96500196612342,
          -217.9964236064131,
          -219.01331324629345,
          -219.99741900198885,
          -220.95691083759823,
          -221.8812426854984,
          -222.7809156841465,
          -223.65423998936285,
          -224.501690311525,
          -225.3305140920542,
          -226.13438572926887,
          -226.9141672029854,
          -227.66923664569143,
          -228.3936062461507,
          -229.08618337612242,
          -229.754047086891,
          -230.40276626697363,
          -231.02988071513798,
          -231.63241852324737,
          -232.22192433744712,
          -232.79647584620554,
          -233.35859432288635,
          -233.90547475776154,
          -234.4419519557869,
          -234.97369624819697,
          -235.50157273917696,
          -236.016069427745,
          -236.50873839042288,
          -236.98426796959683,
          -237.46511002333298,
          -237.90282887470897,
          -238.34932869194836,
          -238.7382061980866,
          -238.9950894482559,
          -239.20762113429797,
          -239.35291256051755,
          -239.4036133094706,
          -239.40357920173764,
          -239.40357920173764,
          -239.40357920173764,
          -239.40357920173764,
          -239.40357920173764,
          -239.40357920173764,
          -239.40357920173764,
          -239.40357920173764
         ],
         "xaxis": "x",
         "y": [
          -298.8217267149375,
          -298.8217267149375,
          -298.8217267149375,
          -298.8217267149375,
          -298.8217267149375,
          -298.8217267149375,
          -298.8217267149375,
          -298.8217267149375,
          -298.8217267149375,
          -298.8217267149375,
          -298.8217267149375,
          -298.8217267149375,
          -298.8217267149375,
          -298.8217267149375,
          -298.8217267149375,
          -298.8217267149375,
          -298.71808864522944,
          -298.5887322465737,
          -298.32995019146216,
          -297.9935798891096,
          -297.5535690915225,
          -296.8798197575188,
          -296.0499608207644,
          -295.0891594251614,
          -293.81576122766865,
          -292.4373531102922,
          -290.92603285100023,
          -289.3084555841194,
          -287.5599896567824,
          -285.7568219515171,
          -283.9512451109542,
          -282.1970043183023,
          -280.59951015530083,
          -279.1312836991136,
          -277.79423940753674,
          -276.8232058356955,
          -276.0355745830581,
          -275.4319691710877,
          -275.0381875280357,
          -275.03821734650097,
          -275.03821734650097,
          -275.03821734650097,
          -275.03821734650097,
          -275.03821734650097,
          -275.03821734650097,
          -275.03821734650097,
          -275.03821734650097,
          -275.03821734650097,
          -275.03821734650097,
          -275.03821734650097,
          -275.03821734650097,
          -275.03821734650097,
          -275.03821734650097,
          -275.03821734650097,
          -275.03821734650097,
          -275.03821734650097,
          -275.03821734650097,
          -275.03821734650097,
          -274.933071721561,
          -274.7232363539622,
          -274.51315846284535,
          -274.1718134851546,
          -273.7519283972448,
          -273.2534459733993,
          -272.54444196646875,
          -271.73082664845316,
          -270.78577691867895,
          -269.4737259584162,
          -268.05727795146123,
          -266.40442771657104,
          -264.647035093528,
          -262.7338186070746,
          -260.21639110025626,
          -257.7037070190887,
          -255.1902762999517,
          -252.67967551463013,
          -250.1455259851397,
          -247.5068256048123,
          -244.69204883942436,
          -241.79989485026186,
          -238.78449838131905,
          -235.6671343007356,
          -232.52930284908672,
          -229.37093932354628,
          -226.21832797181193,
          -223.07112542074378,
          -219.9301979451921,
          -216.76998740328364,
          -213.58711919137667,
          -210.41091584516442,
          -209.8114473967258,
          -204.02222867765687,
          -200.8070263016535,
          -197.5969118246276,
          -194.38932105971134,
          -191.18368421283103,
          -187.98025607512903,
          -184.7788754428181,
          -181.57703148302954,
          -178.37539517547143,
          -175.17066193517152,
          -171.96429549606808,
          -168.7570006053639,
          -165.5418000495618,
          -162.50100911284548,
          -159.45646761683045,
          -156.81616496420736,
          -154.4014644797846,
          -152.85793591919952,
          -151.854191916034,
          -151.21015179928222,
          -150.87512027840162,
          -150.87512027840162,
          -150.87512027840162,
          -150.87512027840162,
          -150.87512027840162,
          -150.87512027840162,
          -150.87512027840162,
          -150.87512027840162,
          -150.87512027840162,
          -150.87512027840162,
          -150.87512027840162,
          -150.87512027840162,
          -150.87512027840162,
          -150.87512027840162,
          -150.87512027840162,
          -150.87512027840162,
          -150.87512027840162,
          -150.87512027840162,
          -150.61717314362386,
          -150.10177542517408,
          -149.43215029153686,
          -148.63343136959287,
          -147.6800033905883,
          -146.41738458221616,
          -145.02615473120306,
          -143.50575564730246,
          -141.80233743997732,
          -140.05046158551949,
          -139.7285094253246,
          -136.40072391037737,
          -134.74774009420565,
          -133.224737527589,
          -131.6996829639246,
          -130.48466656798354,
          -129.52875985049633,
          -128.8564034298307,
          -128.8564034298307,
          -128.8564034298307,
          -128.8564034298307,
          -128.8564034298307,
          -128.8564034298307,
          -128.8564034298307,
          -128.8564034298307,
          -128.8564034298307,
          -128.8564034298307,
          -128.8564034298307,
          -128.8564034298307,
          -128.8564034298307,
          -128.8564034298307,
          -128.8564034298307,
          -128.8564034298307,
          -128.8564034298307,
          -128.8564034298307,
          -128.8564034298307,
          -128.8564034298307,
          -128.8564034298307,
          -128.8564034298307,
          -128.8564034298307,
          -128.8564034298307,
          -128.67545174100138,
          -128.44261182010285,
          -128.2099995134896,
          -127.84810928756025,
          -127.4088485728843,
          -126.86578333310801,
          -126.09034501491763,
          -125.18489365181678,
          -124.20352673806825,
          -122.96278987065864,
          -121.67161773569359,
          -120.27614295747951,
          -118.7801827314397,
          -117.10555587265424,
          -115.30307343681145,
          -113.4258517433487,
          -110.96071747009414,
          -108.50070107159081,
          -106.04284303988291,
          -103.59241320712275,
          -101.0947855918797,
          -98.47763649400673,
          -95.79068357799926,
          -93.08834809767114,
          -90.29103323685945,
          -87.47960287311449,
          -84.62570871829865,
          -81.78476528974781,
          -78.90282532701471,
          -76.03169782049663,
          -73.12382771253243,
          -70.22720764236176,
          -67.31807575790451,
          -64.39653471981795,
          -61.487896462910896,
          -58.593067788688536,
          -55.70984336082671,
          -52.83899883435458,
          -49.95514796085457,
          -47.05977130685557,
          -44.17739444270831,
          -41.30218224229492,
          -38.43725769472501,
          -35.57835188710411,
          -32.70629986298505,
          -29.839347364210806,
          -26.97713147961732,
          -24.14294339514956,
          -21.30875420688899,
          -18.475210806597296,
          -15.638462014749702,
          -12.796466291188713,
          -9.922520028807126,
          -7.041147690763319,
          -4.152626625017875,
          -1.2115219446305103,
          1.7406478516784523,
          4.698959539281735,
          7.690504922275491,
          10.693967595365978,
          13.704420855978526,
          16.679849602915226,
          19.474313894448137,
          22.27828719856647,
          24.947264447350577,
          27.282626189018256,
          29.50387294205944,
          31.11818566240819,
          32.41831438853988,
          33.03165588526288,
          33.35112173693376,
          33.4739747013911,
          33.473975695339945,
          33.473977683237635,
          33.47397802347592,
          33.47398001137361,
          33.473981999271295,
          33.473983987168985,
          33.473985975066675,
          33.47398796296436,
          33.47398995086205,
          33.47399193875974,
          33.47399392665743,
          33.473994920606266,
          33.473996908503956,
          33.473998896401646,
          33.474000884299336,
          33.47400287219702,
          33.59685892834485,
          33.76880958006885,
          34.03922054635159,
          34.40868797465131,
          35.00170679452227,
          35.6942953675616,
          36.51427969643456,
          37.461972572786124,
          38.56482931752007,
          39.77362631587172,
          41.062814262506826,
          42.41007999943087,
          43.78910563746712,
          45.20005954619997,
          46.641973354988146,
          48.08998287779897,
          49.54281273094923,
          50.999902723841124,
          52.48666985915261,
          54.0288903147918,
          55.59945121689041,
          57.19953432069797,
          58.852424419925974,
          60.53384716228311,
          62.29310435386773,
          64.05303060609685,
          65.83646859898796,
          67.7236867697206,
          69.60701057163952,
          71.51296920479137,
          73.41442784935742,
          75.30929235127452,
          77.19765006819699,
          79.07768779334623,
          80.94903853713102,
          82.81292180539779,
          84.63997100377694,
          86.43022258059088,
          88.08494460741984,
          89.65465946367365,
          90.89221274056733,
          92.07385087653077,
          93.07732099662361,
          93.92943804682535,
          94.55941450452947,
          95.0665779723718,
          95.4516327860728,
          95.61976434799253,
          95.78764181293933,
          95.78763320763802,
          95.78763320763802,
          95.78763320763802,
          95.78763320763802,
          95.78763320763802,
          95.78763320763802,
          95.78763320763802,
          95.78763320763802,
          95.88364354375054,
          96.02731232711206,
          96.17121505823609,
          96.43493802201665,
          96.86641391528562,
          97.41727197485781,
          98.08818608219637,
          98.90403931168404,
          100.0789903662759,
          101.42302344927637,
          103.22307875025987,
          105.5309926076453,
          107.83925058895316,
          110.17157662635208,
          112.79619023818802,
          115.56284575736991,
          118.45165107606482,
          121.46169557612245,
          124.49036685790713,
          127.51885255848919,
          130.54575255489215,
          133.56814845168122,
          136.58863757503497,
          139.60768463500366,
          142.62058151415536,
          145.63396546469744,
          148.64380967485803,
          151.64897052706766,
          154.6506276362151,
          157.64833023553928,
          160.64138554784267,
          163.6279626932082,
          166.60947388939374,
          169.58407235206144,
          172.55213309147717,
          175.51208631363178,
          178.4606956081642,
          181.3714931804694,
          184.17692542968172,
          186.64457733841675,
          188.84833824239777,
          191.03933718822825,
          192.4936720487028,
          193.42272996401366,
          194.34863585568414,
          194.70941487859645,
          194.86738567902262,
          194.86738567902262,
          194.86738567902262,
          194.86738567902262,
          194.86738567902262,
          194.86738567902262,
          194.86738567902262,
          194.86738567902262,
          194.86738567902262,
          194.86738567902262,
          194.86738567902262,
          194.86738567902262,
          194.86738567902262,
          194.86738567902262,
          194.86738567902262,
          194.86738567902262,
          194.86738567902262,
          194.86738567902262,
          194.86738567902262,
          194.86738567902262,
          194.95748440418504,
          195.0477790766596,
          195.25059605474985,
          195.52130189539022,
          195.9267207057583,
          196.49031044328837,
          197.0537173852356,
          197.75287299737226,
          198.5415011895187,
          199.5571405459572,
          200.64133851608506,
          201.77278122158773,
          203.06518674639278,
          204.45103267006863,
          205.91092124898375,
          207.53586168035667,
          209.2154334650659,
          211.43243297594276,
          213.6629781852137,
          215.9031431489485,
          218.15581931055954,
          220.41856075403743,
          222.6944088191345,
          225.0037876015629,
          227.4196174814595,
          229.84579678565603,
          232.3789525876435,
          234.94934862688635,
          237.60261821892433,
          240.29477919387023,
          243.02203568578938,
          245.80966022168963,
          248.60930639070477,
          251.44734317688088,
          254.2931931294628,
          257.1783955845263,
          260.09768506064535,
          263.05231025796706,
          266.06643649225276,
          269.1128371820724,
          272.1944185969931,
          275.3083321916321,
          278.43124102562444,
          281.557883240028,
          284.6934005391235,
          287.85879371072207,
          291.0265902763244,
          294.1742302759342,
          297.35144072513043,
          300.53089813088275,
          303.7270045891715,
          306.89652637259053,
          310.05571791336735,
          313.21411073990464,
          316.34944719411027,
          319.40553340223164,
          322.30630513437774,
          325.0748772482524,
          327.84372859505237,
          330.3276781332441,
          332.81050944091146,
          334.9279281168988,
          336.29633463166823,
          337.4070591208626,
          338.15382530516064,
          338.41156409382194,
          338.4115905071245,
          338.4115905071245,
          338.4115905071245,
          338.4115905071245,
          338.4115905071245,
          338.4115905071245,
          338.4115905071245,
          338.4115905071245
         ],
         "yaxis": "y"
        },
        {
         "hoverinfo": "name",
         "line": {
          "color": "green",
          "width": 4
         },
         "mode": "lines",
         "name": "nxt null arc",
         "opacity": 0.8,
         "showlegend": true,
         "type": "scatter",
         "x": [
          -205.0587015932203,
          -204.34967843948917,
          -203.65131842310453,
          -202.96363018331695,
          -202.2866222273598,
          -201.62030293034275,
          -200.96468053514826,
          -200.31976315233018,
          -199.68555876001304,
          -199.06207520379368,
          -198.4493201966435,
          -197.8473013188138,
          -197.25602601774153,
          -196.67550160795733,
          -196.1057352709953,
          -195.54673405530355,
          -194.9985048761575,
          -194.46105451557415,
          -193.93438962222822,
          -193.4185167113701,
          -192.91344216474485,
          -192.41917223051325,
          -191.93571302317517,
          -191.46307052349297,
          -191.00125057841856,
          -190.55025890102004,
          -190.11010107041176,
          -189.6807825316847,
          -189.26230859584015,
          -188.85468443972258,
          -188.4579151059567,
          -188.0720055028847,
          -187.69696040450535,
          -187.3327844504154,
          -186.97948214575175,
          -186.6370578611359,
          -186.3055158326199,
          -185.98486016163386,
          -185.67509481493536,
          -185.3762236245602,
          -185.08825028777525,
          -184.81117836703208,
          -184.5450112899238,
          -184.28975234914228,
          -184.04540470243697,
          -183.81197137257627,
          -183.5894552473104,
          -183.37785907933514,
          -183.1771854862578,
          -182.98743695056547,
          -182.80861581959334,
          -182.64072430549683,
          -182.48376448522282,
          -182.3377383004856,
          -182.20264755774105,
          -182.07849392816604,
          -181.96527894763634,
          -181.86300401670846,
          -181.77167040060195,
          -181.69127922918406,
          -181.6218314969555,
          -181.56332806303814,
          -181.51576965116467,
          -181.47915684966895,
          -181.4534901114796,
          -181.43876975411422,
          -181.43499595967464,
          -181.44216877484578,
          -181.46028811089414,
          -181.48935374366985,
          -181.52936531360868,
          -181.58032232573663,
          -181.64222414967608,
          -181.71507001965398,
          -181.79885903451074,
          -181.8935901577118,
          -181.99926221736027,
          -182.11587390621128,
          -182.24342378168845,
          -182.3819102659019,
          -182.53133164566697,
          -182.6916860725261,
          -182.86297156277172,
          -183.04518599747027,
          -183.23832712248907,
          -183.44239254852369,
          -183.65737975112756,
          -183.88328607074368,
          -184.1201087127368,
          -184.36784474742856,
          -184.6264911101334,
          -184.89604460119668,
          -185.17650188603432,
          -185.46785949517368,
          -185.77011382429686,
          -186.08326113428507,
          -186.40729755126503,
          -186.74221906665673,
          -187.08802153722317,
          -187.44470068512166
         ],
         "y": [
          -106.04284555376809,
          -103.01238486349594,
          -99.9794491379444,
          -96.94407589686318,
          -93.90630269015693,
          -90.86616709741865,
          -87.82370672746625,
          -84.77895921787686,
          -81.73196223452102,
          -78.68275347109801,
          -75.6313706486675,
          -72.57785151518426,
          -69.5222338450309,
          -66.46455543855014,
          -63.40485412157878,
          -60.34316774497735,
          -57.27953418416358,
          -54.213991338643325,
          -51.14657713154136,
          -48.07732950913383,
          -45.00628644037642,
          -41.93348591643637,
          -38.85896595022189,
          -35.782764575911635,
          -32.70491984848581,
          -29.625469843252915,
          -26.54445265538042,
          -23.461906399423036,
          -20.37786920885079,
          -17.292379235578967,
          -14.205474649493643,
          -11.11719363798119,
          -8.027574405455407,
          -4.93665517288451,
          -1.8444741773199047,
          1.248930328579205,
          4.343520077017448,
          7.439256785537486,
          10.536102157492037,
          13.634017882519965,
          16.732965637018665,
          19.83290708461848,
          22.933803876657464,
          26.03561765265412,
          29.13831004078433,
          32.241842658354464,
          35.34617711227662,
          38.45127499954398,
          41.55709790770424,
          44.66360741533723,
          47.77076509252863,
          50.87853250134575,
          53.986871196313466,
          57.095742724888204,
          60.205108627936,
          63.31493044020676,
          66.42516969081036,
          69.53578790369309,
          72.64674659811197,
          75.75800728911324,
          78.86953148800673,
          81.98128070284258,
          85.0932164388876,
          88.20530019910008,
          91.31749348460825,
          94.42975779518515,
          97.54205462972504,
          100.65434548672036,
          103.7665918647362,
          106.87875526288913,
          109.9907971813219,
          113.10267912167994,
          116.21436258758823,
          119.32580908512577,
          122.4369801233043,
          125.54783721454277,
          128.6583418751439,
          131.7684556257706,
          134.87813999192053,
          137.9873565044043,
          141.0960666998199,
          144.20423212102872,
          147.31181431763193,
          150.41877484644448,
          153.52507527197287,
          156.63067716688937,
          159.73554211250746,
          162.83963169925775,
          165.94290752716137,
          169.04533120630754,
          172.14686435732673,
          175.24746861186603,
          178.34710561306397,
          181.44573701602374,
          184.5433244882895,
          187.63982971031945,
          190.73521437595994,
          193.82944019291995,
          196.922468883243,
          200.0142621837833
         ]
        },
        {
         "hoverinfo": "name",
         "line": {
          "color": "brown",
          "width": 3
         },
         "mode": "lines",
         "name": "cur null arc",
         "opacity": 0.8,
         "showlegend": true,
         "type": "scatter",
         "x": [
          -205.05869997710352,
          -204.718206868126,
          -204.37179974356712,
          -204.01948452909483,
          -203.6612672514416,
          -203.29715403830085,
          -202.9271511182225,
          -202.55126482050628,
          -202.16950157509322,
          -201.78186791245622,
          -201.38837046348777,
          -200.98901595938688,
          -200.5838112315437,
          -200.17276321142293,
          -199.75587893044496,
          -199.33316551986584,
          -198.90463021065506,
          -198.47028033337202,
          -198.03012331804072,
          -197.5841666940223,
          -197.13241808988664,
          -196.67488523328169,
          -196.21157595080115,
          -195.74249816785084,
          -195.26765990851305,
          -194.78706929540908,
          -194.30073454956067,
          -193.80866399024896,
          -193.31086603487248,
          -192.80734919880308,
          -192.2981220952401,
          -191.78319343506337,
          -191.26257202668396,
          -190.7362667758933,
          -190.20428668571142,
          -189.66664085623245,
          -189.12333848446912,
          -188.57438886419544,
          -188.01980138578776,
          -187.45958553606388,
          -186.89375089812125,
          -186.32230715117262,
          -185.7452640703805,
          -185.16263152669035,
          -184.57441948666118,
          -183.9806380122953,
          -183.38129726086652,
          -182.77640748474568,
          -182.16597903122587,
          -181.55002234234544,
          -180.92854795470873,
          -180.3015664993067,
          -179.66908870133446,
          -179.03112538000792,
          -178.387687448379,
          -177.7387859131486,
          -177.08443187447847,
          -176.4246365258014,
          -175.7594111536296,
          -175.08876713736174,
          -174.41271594908812,
          -173.73126915339486,
          -173.0444384071654,
          -172.35223545938172,
          -171.65467215092298,
          -170.95176041436326,
          -170.24351227376715,
          -169.52993984448418,
          -168.8110553329416,
          -168.08687103643575,
          -167.35739934292127,
          -166.6226527307996,
          -165.88264376870518,
          -165.1373851152909,
          -164.386889519011,
          -163.63116981790347,
          -162.8702389393703,
          -162.10410989995617,
          -161.33279580512587,
          -160.55630984904042,
          -159.7746653143308,
          -158.98787557187126,
          -158.19595408055028,
          -157.39891438704058,
          -156.59677012556713,
          -155.7895350176741,
          -154.97722287199005,
          -154.15984758399185,
          -153.33742313576673,
          -152.50996359577346,
          -151.6774831186013,
          -150.8399959447282,
          -149.997516400277,
          -149.1500588967705,
          -148.29763793088478,
          -147.44026808420136,
          -146.5779640229576,
          -145.71074049779622,
          -144.8386123435124,
          -143.96159447880027
         ],
         "y": [
          -106.04283870062042,
          -104.61222642401086,
          -103.18303464286248,
          -101.75528780504476,
          -100.32901033370972,
          -98.90422662687438,
          -97.4809610570032,
          -96.0592379705914,
          -94.63908168774822,
          -93.22051650178116,
          -91.80356667878017,
          -90.38825645720276,
          -88.97461004745924,
          -87.56265163149865,
          -86.15240536239503,
          -84.74389536393434,
          -83.33714573020175,
          -81.93218052516944,
          -80.52902378228511,
          -79.12769950406066,
          -77.72823166166174,
          -76.33064419449768,
          -74.93496100981194,
          -73.54120598227317,
          -72.14940295356678,
          -70.75957573198723,
          -69.37174809203054,
          -67.98594377398784,
          -66.60218648353903,
          -65.22049989134752,
          -63.84090763265508,
          -62.46343330687774,
          -61.088100477201905,
          -59.71493267018142,
          -58.343953375335104,
          -56.975186044744895,
          -55.608654092654696,
          -54.24438089506978,
          -52.88238978935704,
          -51.52270407384579,
          -50.16534700742904,
          -48.81034180916578,
          -47.45771165788378,
          -46.10747969178301,
          -44.75966900803998,
          -43.414302662412446,
          -42.07140366884523,
          -40.7309949990763,
          -39.39309958224408,
          -38.05774030449501,
          -36.72494000859213,
          -35.394721493524344,
          -34.06710751411642,
          -32.74212078063974,
          -31.419783958423753,
          -30.10011966746834,
          -28.783150482056904,
          -27.468898930370056,
          -26.15738749410041,
          -24.84863860806792,
          -23.542674659836162,
          -22.239517989329325,
          -20.939190888450057,
          -19.641715600698216,
          -18.347114320790233,
          -17.055409194279637,
          -15.766622317178038,
          -14.480775735577295,
          -13.197891445272225,
          -11.91799139138462,
          -10.64109746798758,
          -9.36723151773112,
          -8.096415331468455,
          -6.828670647883385,
          -5.564019153118214,
          -4.302482480403083,
          -3.0440822096855733,
          -1.788839867261813,
          -0.5367769254080982,
          0.7120851979862758,
          1.9577251397855704,
          3.200121591972913,
          4.439253302014733,
          5.675099073224545,
          6.907637765125299,
          8.136848293811116,
          9.36270963230801,
          10.585200810933443,
          11.804300917655095,
          13.019989098448734,
          14.23224455765458,
          15.441046558333467,
          16.6463744226212,
          17.8482075320826,
          19.046525328063968,
          20.241307312044828,
          21.432533045988595,
          22.620182152692156,
          23.804234316134515,
          24.98466928182433
         ]
        }
       ],
       "layout": {
        "autosize": false,
        "coloraxis": {
         "showscale": false
        },
        "height": 700,
        "legend": {
         "tracegroupgap": 0
        },
        "margin": {
         "b": 0,
         "l": 10,
         "r": 10,
         "t": 20
        },
        "shapes": [
         {
          "line": {
           "color": "grey"
          },
          "opacity": 0.45,
          "type": "circle",
          "x0": -1000,
          "x1": 1000,
          "xref": "x",
          "y0": -1000,
          "y1": 1000,
          "yref": "y"
         }
        ],
        "template": {
         "data": {
          "bar": [
           {
            "error_x": {
             "color": "#2a3f5f"
            },
            "error_y": {
             "color": "#2a3f5f"
            },
            "marker": {
             "line": {
              "color": "#E5ECF6",
              "width": 0.5
             },
             "pattern": {
              "fillmode": "overlay",
              "size": 10,
              "solidity": 0.2
             }
            },
            "type": "bar"
           }
          ],
          "barpolar": [
           {
            "marker": {
             "line": {
              "color": "#E5ECF6",
              "width": 0.5
             },
             "pattern": {
              "fillmode": "overlay",
              "size": 10,
              "solidity": 0.2
             }
            },
            "type": "barpolar"
           }
          ],
          "carpet": [
           {
            "aaxis": {
             "endlinecolor": "#2a3f5f",
             "gridcolor": "white",
             "linecolor": "white",
             "minorgridcolor": "white",
             "startlinecolor": "#2a3f5f"
            },
            "baxis": {
             "endlinecolor": "#2a3f5f",
             "gridcolor": "white",
             "linecolor": "white",
             "minorgridcolor": "white",
             "startlinecolor": "#2a3f5f"
            },
            "type": "carpet"
           }
          ],
          "choropleth": [
           {
            "colorbar": {
             "outlinewidth": 0,
             "ticks": ""
            },
            "type": "choropleth"
           }
          ],
          "contour": [
           {
            "colorbar": {
             "outlinewidth": 0,
             "ticks": ""
            },
            "colorscale": [
             [
              0,
              "#0d0887"
             ],
             [
              0.1111111111111111,
              "#46039f"
             ],
             [
              0.2222222222222222,
              "#7201a8"
             ],
             [
              0.3333333333333333,
              "#9c179e"
             ],
             [
              0.4444444444444444,
              "#bd3786"
             ],
             [
              0.5555555555555556,
              "#d8576b"
             ],
             [
              0.6666666666666666,
              "#ed7953"
             ],
             [
              0.7777777777777778,
              "#fb9f3a"
             ],
             [
              0.8888888888888888,
              "#fdca26"
             ],
             [
              1,
              "#f0f921"
             ]
            ],
            "type": "contour"
           }
          ],
          "contourcarpet": [
           {
            "colorbar": {
             "outlinewidth": 0,
             "ticks": ""
            },
            "type": "contourcarpet"
           }
          ],
          "heatmap": [
           {
            "colorbar": {
             "outlinewidth": 0,
             "ticks": ""
            },
            "colorscale": [
             [
              0,
              "#0d0887"
             ],
             [
              0.1111111111111111,
              "#46039f"
             ],
             [
              0.2222222222222222,
              "#7201a8"
             ],
             [
              0.3333333333333333,
              "#9c179e"
             ],
             [
              0.4444444444444444,
              "#bd3786"
             ],
             [
              0.5555555555555556,
              "#d8576b"
             ],
             [
              0.6666666666666666,
              "#ed7953"
             ],
             [
              0.7777777777777778,
              "#fb9f3a"
             ],
             [
              0.8888888888888888,
              "#fdca26"
             ],
             [
              1,
              "#f0f921"
             ]
            ],
            "type": "heatmap"
           }
          ],
          "heatmapgl": [
           {
            "colorbar": {
             "outlinewidth": 0,
             "ticks": ""
            },
            "colorscale": [
             [
              0,
              "#0d0887"
             ],
             [
              0.1111111111111111,
              "#46039f"
             ],
             [
              0.2222222222222222,
              "#7201a8"
             ],
             [
              0.3333333333333333,
              "#9c179e"
             ],
             [
              0.4444444444444444,
              "#bd3786"
             ],
             [
              0.5555555555555556,
              "#d8576b"
             ],
             [
              0.6666666666666666,
              "#ed7953"
             ],
             [
              0.7777777777777778,
              "#fb9f3a"
             ],
             [
              0.8888888888888888,
              "#fdca26"
             ],
             [
              1,
              "#f0f921"
             ]
            ],
            "type": "heatmapgl"
           }
          ],
          "histogram": [
           {
            "marker": {
             "pattern": {
              "fillmode": "overlay",
              "size": 10,
              "solidity": 0.2
             }
            },
            "type": "histogram"
           }
          ],
          "histogram2d": [
           {
            "colorbar": {
             "outlinewidth": 0,
             "ticks": ""
            },
            "colorscale": [
             [
              0,
              "#0d0887"
             ],
             [
              0.1111111111111111,
              "#46039f"
             ],
             [
              0.2222222222222222,
              "#7201a8"
             ],
             [
              0.3333333333333333,
              "#9c179e"
             ],
             [
              0.4444444444444444,
              "#bd3786"
             ],
             [
              0.5555555555555556,
              "#d8576b"
             ],
             [
              0.6666666666666666,
              "#ed7953"
             ],
             [
              0.7777777777777778,
              "#fb9f3a"
             ],
             [
              0.8888888888888888,
              "#fdca26"
             ],
             [
              1,
              "#f0f921"
             ]
            ],
            "type": "histogram2d"
           }
          ],
          "histogram2dcontour": [
           {
            "colorbar": {
             "outlinewidth": 0,
             "ticks": ""
            },
            "colorscale": [
             [
              0,
              "#0d0887"
             ],
             [
              0.1111111111111111,
              "#46039f"
             ],
             [
              0.2222222222222222,
              "#7201a8"
             ],
             [
              0.3333333333333333,
              "#9c179e"
             ],
             [
              0.4444444444444444,
              "#bd3786"
             ],
             [
              0.5555555555555556,
              "#d8576b"
             ],
             [
              0.6666666666666666,
              "#ed7953"
             ],
             [
              0.7777777777777778,
              "#fb9f3a"
             ],
             [
              0.8888888888888888,
              "#fdca26"
             ],
             [
              1,
              "#f0f921"
             ]
            ],
            "type": "histogram2dcontour"
           }
          ],
          "mesh3d": [
           {
            "colorbar": {
             "outlinewidth": 0,
             "ticks": ""
            },
            "type": "mesh3d"
           }
          ],
          "parcoords": [
           {
            "line": {
             "colorbar": {
              "outlinewidth": 0,
              "ticks": ""
             }
            },
            "type": "parcoords"
           }
          ],
          "pie": [
           {
            "automargin": true,
            "type": "pie"
           }
          ],
          "scatter": [
           {
            "fillpattern": {
             "fillmode": "overlay",
             "size": 10,
             "solidity": 0.2
            },
            "type": "scatter"
           }
          ],
          "scatter3d": [
           {
            "line": {
             "colorbar": {
              "outlinewidth": 0,
              "ticks": ""
             }
            },
            "marker": {
             "colorbar": {
              "outlinewidth": 0,
              "ticks": ""
             }
            },
            "type": "scatter3d"
           }
          ],
          "scattercarpet": [
           {
            "marker": {
             "colorbar": {
              "outlinewidth": 0,
              "ticks": ""
             }
            },
            "type": "scattercarpet"
           }
          ],
          "scattergeo": [
           {
            "marker": {
             "colorbar": {
              "outlinewidth": 0,
              "ticks": ""
             }
            },
            "type": "scattergeo"
           }
          ],
          "scattergl": [
           {
            "marker": {
             "colorbar": {
              "outlinewidth": 0,
              "ticks": ""
             }
            },
            "type": "scattergl"
           }
          ],
          "scattermapbox": [
           {
            "marker": {
             "colorbar": {
              "outlinewidth": 0,
              "ticks": ""
             }
            },
            "type": "scattermapbox"
           }
          ],
          "scatterpolar": [
           {
            "marker": {
             "colorbar": {
              "outlinewidth": 0,
              "ticks": ""
             }
            },
            "type": "scatterpolar"
           }
          ],
          "scatterpolargl": [
           {
            "marker": {
             "colorbar": {
              "outlinewidth": 0,
              "ticks": ""
             }
            },
            "type": "scatterpolargl"
           }
          ],
          "scatterternary": [
           {
            "marker": {
             "colorbar": {
              "outlinewidth": 0,
              "ticks": ""
             }
            },
            "type": "scatterternary"
           }
          ],
          "surface": [
           {
            "colorbar": {
             "outlinewidth": 0,
             "ticks": ""
            },
            "colorscale": [
             [
              0,
              "#0d0887"
             ],
             [
              0.1111111111111111,
              "#46039f"
             ],
             [
              0.2222222222222222,
              "#7201a8"
             ],
             [
              0.3333333333333333,
              "#9c179e"
             ],
             [
              0.4444444444444444,
              "#bd3786"
             ],
             [
              0.5555555555555556,
              "#d8576b"
             ],
             [
              0.6666666666666666,
              "#ed7953"
             ],
             [
              0.7777777777777778,
              "#fb9f3a"
             ],
             [
              0.8888888888888888,
              "#fdca26"
             ],
             [
              1,
              "#f0f921"
             ]
            ],
            "type": "surface"
           }
          ],
          "table": [
           {
            "cells": {
             "fill": {
              "color": "#EBF0F8"
             },
             "line": {
              "color": "white"
             }
            },
            "header": {
             "fill": {
              "color": "#C8D4E3"
             },
             "line": {
              "color": "white"
             }
            },
            "type": "table"
           }
          ]
         },
         "layout": {
          "annotationdefaults": {
           "arrowcolor": "#2a3f5f",
           "arrowhead": 0,
           "arrowwidth": 1
          },
          "autotypenumbers": "strict",
          "coloraxis": {
           "colorbar": {
            "outlinewidth": 0,
            "ticks": ""
           }
          },
          "colorscale": {
           "diverging": [
            [
             0,
             "#8e0152"
            ],
            [
             0.1,
             "#c51b7d"
            ],
            [
             0.2,
             "#de77ae"
            ],
            [
             0.3,
             "#f1b6da"
            ],
            [
             0.4,
             "#fde0ef"
            ],
            [
             0.5,
             "#f7f7f7"
            ],
            [
             0.6,
             "#e6f5d0"
            ],
            [
             0.7,
             "#b8e186"
            ],
            [
             0.8,
             "#7fbc41"
            ],
            [
             0.9,
             "#4d9221"
            ],
            [
             1,
             "#276419"
            ]
           ],
           "sequential": [
            [
             0,
             "#0d0887"
            ],
            [
             0.1111111111111111,
             "#46039f"
            ],
            [
             0.2222222222222222,
             "#7201a8"
            ],
            [
             0.3333333333333333,
             "#9c179e"
            ],
            [
             0.4444444444444444,
             "#bd3786"
            ],
            [
             0.5555555555555556,
             "#d8576b"
            ],
            [
             0.6666666666666666,
             "#ed7953"
            ],
            [
             0.7777777777777778,
             "#fb9f3a"
            ],
            [
             0.8888888888888888,
             "#fdca26"
            ],
            [
             1,
             "#f0f921"
            ]
           ],
           "sequentialminus": [
            [
             0,
             "#0d0887"
            ],
            [
             0.1111111111111111,
             "#46039f"
            ],
            [
             0.2222222222222222,
             "#7201a8"
            ],
            [
             0.3333333333333333,
             "#9c179e"
            ],
            [
             0.4444444444444444,
             "#bd3786"
            ],
            [
             0.5555555555555556,
             "#d8576b"
            ],
            [
             0.6666666666666666,
             "#ed7953"
            ],
            [
             0.7777777777777778,
             "#fb9f3a"
            ],
            [
             0.8888888888888888,
             "#fdca26"
            ],
            [
             1,
             "#f0f921"
            ]
           ]
          },
          "colorway": [
           "#636efa",
           "#EF553B",
           "#00cc96",
           "#ab63fa",
           "#FFA15A",
           "#19d3f3",
           "#FF6692",
           "#B6E880",
           "#FF97FF",
           "#FECB52"
          ],
          "font": {
           "color": "#2a3f5f"
          },
          "geo": {
           "bgcolor": "white",
           "lakecolor": "white",
           "landcolor": "#E5ECF6",
           "showlakes": true,
           "showland": true,
           "subunitcolor": "white"
          },
          "hoverlabel": {
           "align": "left"
          },
          "hovermode": "closest",
          "mapbox": {
           "style": "light"
          },
          "paper_bgcolor": "white",
          "plot_bgcolor": "#E5ECF6",
          "polar": {
           "angularaxis": {
            "gridcolor": "white",
            "linecolor": "white",
            "ticks": ""
           },
           "bgcolor": "#E5ECF6",
           "radialaxis": {
            "gridcolor": "white",
            "linecolor": "white",
            "ticks": ""
           }
          },
          "scene": {
           "xaxis": {
            "backgroundcolor": "#E5ECF6",
            "gridcolor": "white",
            "gridwidth": 2,
            "linecolor": "white",
            "showbackground": true,
            "ticks": "",
            "zerolinecolor": "white"
           },
           "yaxis": {
            "backgroundcolor": "#E5ECF6",
            "gridcolor": "white",
            "gridwidth": 2,
            "linecolor": "white",
            "showbackground": true,
            "ticks": "",
            "zerolinecolor": "white"
           },
           "zaxis": {
            "backgroundcolor": "#E5ECF6",
            "gridcolor": "white",
            "gridwidth": 2,
            "linecolor": "white",
            "showbackground": true,
            "ticks": "",
            "zerolinecolor": "white"
           }
          },
          "shapedefaults": {
           "line": {
            "color": "#2a3f5f"
           }
          },
          "ternary": {
           "aaxis": {
            "gridcolor": "white",
            "linecolor": "white",
            "ticks": ""
           },
           "baxis": {
            "gridcolor": "white",
            "linecolor": "white",
            "ticks": ""
           },
           "bgcolor": "#E5ECF6",
           "caxis": {
            "gridcolor": "white",
            "linecolor": "white",
            "ticks": ""
           }
          },
          "title": {
           "x": 0.05
          },
          "xaxis": {
           "automargin": true,
           "gridcolor": "white",
           "linecolor": "white",
           "ticks": "",
           "title": {
            "standoff": 15
           },
           "zerolinecolor": "white",
           "zerolinewidth": 2
          },
          "yaxis": {
           "automargin": true,
           "gridcolor": "white",
           "linecolor": "white",
           "ticks": "",
           "title": {
            "standoff": 15
           },
           "zerolinecolor": "white",
           "zerolinewidth": 2
          }
         }
        },
        "width": 900,
        "xaxis": {
         "anchor": "y",
         "domain": [
          0,
          1
         ],
         "range": [
          -339.4036133094706,
          -40.05926598455227
         ],
         "title": {
          "text": "monkey x after rotation (cm)"
         }
        },
        "yaxis": {
         "anchor": "x",
         "domain": [
          0,
          1
         ],
         "range": [
          -348.8217267149375,
          788.4115905071245
         ],
         "scaleanchor": "x",
         "scaleratio": 1,
         "title": {
          "text": "monkey y after rotation (cm)"
         }
        }
       }
      }
     },
     "metadata": {},
     "output_type": "display_data"
    }
   ],
   "source": [
    "current_i = snf.make_individual_plots_for_stops_near_ff_in_plotly(current_i, max_num_plot_to_make=1, \n",
    "                                             show_eye_positions_for_both_eyes=True)"
   ]
  },
  {
   "cell_type": "markdown",
   "metadata": {},
   "source": [
    "# Variables of interest"
   ]
  },
  {
   "cell_type": "markdown",
   "metadata": {},
   "source": [
    "## diff_in_abs_angle_to_nxt_ff"
   ]
  },
  {
   "cell_type": "code",
   "execution_count": null,
   "metadata": {},
   "outputs": [],
   "source": [
    "snf.prepare_to_plot_stops_near_ff()"
   ]
  },
  {
   "cell_type": "code",
   "execution_count": null,
   "metadata": {},
   "outputs": [
    {
     "name": "stdout",
     "output_type": "stream",
     "text": [
      "diff_in_abs: 23.129644454407348\n",
      "duration_to_plot: [92.99202, 99.537932]\n"
     ]
    }
   ],
   "source": [
    "fixed_current_i = 14\n",
    "\n",
    "kwargs = {\"show_visible_segments\": False,\n",
    "          \"show_reward_boundary\": True,\n",
    "        \"show_current_eye_positions\": False,\n",
    "        \"show_alive_fireflies\": False,\n",
    "        \"show_visible_fireflies\": False,\n",
    "        'show_cur_ff': True,\n",
    "        'show_nxt_ff': True,\n",
    "        'show_traj_color_as_speed': False,\n",
    "        \"show_stops\": True,\n",
    "        'show_stop_point_indices': snf.stops_near_ff_df_counted.iloc[fixed_current_i]['stop_point_index'],\n",
    "        'show_monkey_heading': False,\n",
    "        'plot_arena_edge': False,\n",
    "}\n",
    "\n",
    "_ = snf.make_individual_plots_for_stops_near_ff_in_plotly(fixed_current_i, max_num_plot_to_make=1, **kwargs, show_fig=False)"
   ]
  },
  {
   "cell_type": "markdown",
   "metadata": {},
   "source": [
    "### show angle from null arc end to next ff\n",
    "(Note: I might want to click on the null arcs to hide them)"
   ]
  },
  {
   "cell_type": "code",
   "execution_count": null,
   "metadata": {},
   "outputs": [
    {
     "name": "stdout",
     "output_type": "stream",
     "text": [
      "diff_in_abs: 23.129644454407348\n",
      "duration_to_plot: [92.99202, 99.537932]\n"
     ]
    },
    {
     "data": {
      "application/vnd.plotly.v1+json": {
       "config": {
        "plotlyServerURL": "https://plot.ly"
       },
       "data": [
        {
         "customdata": [
          [
           1
          ],
          [
           2
          ]
         ],
         "hovertemplate": "ff %{customdata[0]}",
         "legendgroup": "",
         "marker": {
          "color": "red",
          "symbol": "circle"
         },
         "mode": "markers",
         "name": "plot_ff",
         "orientation": "v",
         "showlegend": false,
         "type": "scatter",
         "x": [
          -835.4057061711231,
          -824.3809822841179
         ],
         "xaxis": "x",
         "y": [
          377.9051423698223,
          466.7908622879888
         ],
         "yaxis": "y"
        },
        {
         "customdata": [
          [
           -3.98,
           12.653980801568904
          ],
          [
           -3.97,
           17.414648836941378
          ],
          [
           -3.95,
           28.421349345025178
          ],
          [
           -3.93,
           28.508149473147824
          ],
          [
           -3.92,
           39.63895723615526
          ],
          [
           -3.9,
           44.31313119229701
          ],
          [
           -3.88,
           50.6099179814209
          ],
          [
           -3.87,
           55.98135127413572
          ],
          [
           -3.85,
           73.67012354940167
          ],
          [
           -3.83,
           76.12268725712465
          ],
          [
           -3.82,
           75.96213549428354
          ],
          [
           -3.8,
           75.89982227836218
          ],
          [
           -3.78,
           68.22832453018795
          ],
          [
           -3.77,
           48.99005176765887
          ],
          [
           -3.75,
           38.00945535027977
          ],
          [
           -3.73,
           25.25815422341678
          ],
          [
           -3.72,
           6.338206112544746
          ],
          [
           -3.7,
           0
          ],
          [
           -3.69,
           0
          ],
          [
           -3.67,
           0
          ],
          [
           -3.65,
           0
          ],
          [
           -3.64,
           0
          ],
          [
           -3.62,
           0
          ],
          [
           -3.6,
           0
          ],
          [
           -3.59,
           0
          ],
          [
           -3.57,
           0
          ],
          [
           -3.55,
           0
          ],
          [
           -3.54,
           0
          ],
          [
           -3.52,
           0
          ],
          [
           -3.5,
           0
          ],
          [
           -3.49,
           0
          ],
          [
           -3.47,
           0
          ],
          [
           -3.45,
           0
          ],
          [
           -3.44,
           0
          ],
          [
           -3.42,
           0
          ],
          [
           -3.4,
           0
          ],
          [
           -3.39,
           0
          ],
          [
           -3.37,
           0
          ],
          [
           -3.35,
           0
          ],
          [
           -3.34,
           0
          ],
          [
           -3.32,
           0
          ],
          [
           -3.3,
           0
          ],
          [
           -3.29,
           0
          ],
          [
           -3.27,
           0
          ],
          [
           -3.25,
           0
          ],
          [
           -3.24,
           0
          ],
          [
           -3.22,
           9.521659410792278
          ],
          [
           -3.2,
           12.421712399828284
          ],
          [
           -3.19,
           17.43335490340366
          ],
          [
           -3.17,
           23.6482886442092
          ],
          [
           -3.15,
           48.16439460612037
          ],
          [
           -3.14,
           58.5402302863967
          ],
          [
           -3.12,
           79.60482255191454
          ],
          [
           -3.1,
           86.92749330035903
          ],
          [
           -3.09,
           96.23058776624002
          ],
          [
           -3.07,
           103.11357995859714
          ],
          [
           -3.05,
           107.41391493920028
          ],
          [
           -3.04,
           114.02726463808015
          ],
          [
           -3.02,
           112.42904118314526
          ],
          [
           -3,
           106.13985042832978
          ],
          [
           -2.99,
           99.56846153402071
          ],
          [
           -2.97,
           79.23379481978068
          ],
          [
           -2.95,
           71.2761968899435
          ],
          [
           -2.94,
           24.146284058948048
          ],
          [
           -2.92,
           14.258913266757686
          ],
          [
           -2.9,
           7.896286428878989
          ],
          [
           -2.89,
           0
          ],
          [
           -2.87,
           0
          ],
          [
           -2.86,
           0
          ],
          [
           -2.84,
           0
          ],
          [
           -2.81,
           0
          ],
          [
           -2.81,
           0
          ],
          [
           -2.79,
           0
          ],
          [
           -2.79,
           0
          ],
          [
           -2.79,
           0
          ],
          [
           -2.77,
           0
          ],
          [
           -2.76,
           0
          ],
          [
           -2.74,
           0
          ],
          [
           -2.72,
           0
          ],
          [
           -2.71,
           0
          ],
          [
           -2.69,
           0
          ],
          [
           -2.67,
           0
          ],
          [
           -2.66,
           0
          ],
          [
           -2.64,
           0
          ],
          [
           -2.62,
           0
          ],
          [
           -2.61,
           0
          ],
          [
           -2.59,
           0
          ],
          [
           -2.57,
           0
          ],
          [
           -2.56,
           0
          ],
          [
           -2.54,
           0
          ],
          [
           -2.52,
           6.336948367852992
          ],
          [
           -2.51,
           7.916274617778194
          ],
          [
           -2.49,
           12.63355377251908
          ],
          [
           -2.47,
           18.922509929496147
          ],
          [
           -2.46,
           22.301214092217457
          ],
          [
           -2.44,
           22.00218377594028
          ],
          [
           -2.42,
           30.20879421147645
          ],
          [
           -2.41,
           36.384004048891335
          ],
          [
           -2.39,
           39.69139001443375
          ],
          [
           -2.37,
           52.000096887121344
          ],
          [
           -2.36,
           58.51399230013645
          ],
          [
           -2.34,
           75.95177382244641
          ],
          [
           -2.32,
           80.62688320926762
          ],
          [
           -2.31,
           95.00473225250296
          ],
          [
           -2.29,
           103.20430715248736
          ],
          [
           -2.27,
           109.25735592926304
          ],
          [
           -2.26,
           144.03865458691027
          ],
          [
           -2.24,
           151.57019018852827
          ],
          [
           -2.22,
           152.17415724859603
          ],
          [
           -2.21,
           151.73498209850786
          ],
          [
           -2.19,
           152.06174902199933
          ],
          [
           -2.17,
           151.10283875167846
          ],
          [
           -2.16,
           152.46288817163577
          ],
          [
           -2.14,
           151.8666517727239
          ],
          [
           -2.12,
           152.06024726420412
          ],
          [
           -2.11,
           151.88264120265936
          ],
          [
           -2.09,
           151.98675470981087
          ],
          [
           -2.07,
           140.82049477571928
          ],
          [
           -2.06,
           121.78467359827584
          ],
          [
           -2.04,
           117.12937056532516
          ],
          [
           -2.03,
           117.1139700141256
          ],
          [
           -2.01,
           114.9794051840314
          ],
          [
           -1.99,
           114.50093032692666
          ],
          [
           -1.98,
           113.93990093123736
          ],
          [
           -1.96,
           107.50043855915388
          ],
          [
           -1.94,
           101.04776255568622
          ],
          [
           -1.93,
           98.3921067134122
          ],
          [
           -1.91,
           98.04329413799128
          ],
          [
           -1.89,
           93.41975939055776
          ],
          [
           -1.88,
           89.34260320995588
          ],
          [
           -1.84,
           90.5134610702282
          ],
          [
           -1.84,
           91.0867113973426
          ],
          [
           -1.83,
           93.14993338052328
          ],
          [
           -1.81,
           93.31114912818865
          ],
          [
           -1.79,
           93.3015147394648
          ],
          [
           -1.78,
           99.92509034761196
          ],
          [
           -1.76,
           104.22213381347996
          ],
          [
           -1.74,
           110.84184807963538
          ],
          [
           -1.73,
           151.967944471033
          ],
          [
           -1.71,
           152.05630631309467
          ],
          [
           -1.69,
           151.4753800463179
          ],
          [
           -1.68,
           155.35267590020243
          ],
          [
           -1.66,
           172.1084594987942
          ],
          [
           -1.64,
           177.7524010017718
          ],
          [
           -1.63,
           187.12190782199085
          ],
          [
           -1.61,
           199.45201169727875
          ],
          [
           -1.59,
           198.02556212549052
          ],
          [
           -1.58,
           199.19314366240351
          ],
          [
           -1.56,
           199.6505329718897
          ],
          [
           -1.54,
           199.00374773745003
          ],
          [
           -1.53,
           199.11153780919733
          ],
          [
           -1.51,
           198.83980796914776
          ],
          [
           -1.49,
           196.32549007659705
          ],
          [
           -1.48,
           187.102150915091
          ],
          [
           -1.46,
           186.8148405170575
          ],
          [
           -1.44,
           179.00143346999795
          ],
          [
           -1.43,
           156.97283200010511
          ],
          [
           -1.41,
           152.22881052558498
          ],
          [
           -1.39,
           102.67831134549746
          ],
          [
           -1.38,
           82.44571378629124
          ],
          [
           -1.36,
           64.73250090474987
          ],
          [
           -1.34,
           25.37246800938325
          ],
          [
           -1.33,
           12.620458319685902
          ],
          [
           -1.31,
           6.327224800039095
          ],
          [
           -1.29,
           0
          ],
          [
           -1.28,
           0
          ],
          [
           -1.26,
           0
          ],
          [
           -1.24,
           0
          ],
          [
           -1.23,
           0
          ],
          [
           -1.21,
           0
          ],
          [
           -1.2,
           0
          ],
          [
           -1.18,
           0
          ],
          [
           -1.16,
           0
          ],
          [
           -1.15,
           0
          ],
          [
           -1.13,
           0
          ],
          [
           -1.11,
           0
          ],
          [
           -1.1,
           0
          ],
          [
           -1.08,
           0
          ],
          [
           -1.06,
           0
          ],
          [
           -1.05,
           12.66424739281621
          ],
          [
           -1.03,
           25.240942382387665
          ],
          [
           -1.01,
           25.369975144527547
          ],
          [
           -1,
           39.49253645311096
          ],
          [
           -0.98,
           47.61151150975611
          ],
          [
           -0.96,
           55.47270859748985
          ],
          [
           -0.95,
           75.70013878214979
          ],
          [
           -0.93,
           87.19873343286386
          ],
          [
           -0.91,
           91.70838678957632
          ],
          [
           -0.9,
           96.4732400247952
          ],
          [
           -0.88,
           96.69455035895858
          ],
          [
           -0.86,
           99.39252064867809
          ],
          [
           -0.85,
           93.42117381897312
          ],
          [
           -0.83,
           87.28546200097833
          ],
          [
           -0.81,
           79.01008851169634
          ],
          [
           -0.8,
           71.31952633102784
          ],
          [
           -0.78,
           44.32115028670475
          ],
          [
           -0.76,
           44.21062999814172
          ],
          [
           -0.75,
           18.983489653738147
          ],
          [
           -0.73,
           11.047235028497369
          ],
          [
           -0.71,
           0
          ],
          [
           -0.7,
           0
          ],
          [
           -0.68,
           0
          ],
          [
           -0.66,
           0
          ],
          [
           -0.65,
           0
          ],
          [
           -0.63,
           0
          ],
          [
           -0.61,
           0
          ],
          [
           -0.6,
           0
          ],
          [
           -0.58,
           0
          ],
          [
           -0.56,
           0
          ],
          [
           -0.55,
           0
          ],
          [
           -0.53,
           0
          ],
          [
           -0.51,
           0
          ],
          [
           -0.5,
           0
          ],
          [
           -0.48,
           0
          ],
          [
           -0.46,
           0
          ],
          [
           -0.45,
           0
          ],
          [
           -0.43,
           0
          ],
          [
           -0.41,
           0
          ],
          [
           -0.4,
           0
          ],
          [
           -0.38,
           0
          ],
          [
           -0.37,
           0
          ],
          [
           -0.35,
           6.316382553530114
          ],
          [
           -0.33,
           7.900456896055404
          ],
          [
           -0.32,
           11.12097870909396
          ],
          [
           -0.3,
           18.95516890844514
          ],
          [
           -0.28,
           30.02362425941304
          ],
          [
           -0.27,
           30.19012886018612
          ],
          [
           -0.25,
           45.72035365228064
          ],
          [
           -0.23,
           54.00568978096952
          ],
          [
           -0.22,
           61.39596286811536
          ],
          [
           -0.2,
           74.7440617862546
          ],
          [
           -0.18,
           83.57165076042546
          ],
          [
           -0.17,
           90.1915500993083
          ],
          [
           -0.15,
           95.26403776979744
          ],
          [
           -0.13,
           97.67539794376064
          ],
          [
           -0.12,
           98.30917241079798
          ],
          [
           -0.1,
           98.12760896145456
          ],
          [
           -0.08,
           95.0066858712662
          ],
          [
           -0.07,
           80.73255600388018
          ],
          [
           -0.05,
           56.83322487524023
          ],
          [
           -0.03,
           22.22649972032617
          ],
          [
           -0.02,
           22.110956475026168
          ],
          [
           0,
           0
          ],
          [
           0.02,
           0
          ],
          [
           0.03,
           0
          ],
          [
           0.05,
           0
          ],
          [
           0.08,
           0
          ],
          [
           0.08,
           0
          ],
          [
           0.09,
           0
          ],
          [
           0.1,
           0
          ],
          [
           0.1,
           0
          ],
          [
           0.12,
           0
          ],
          [
           0.13,
           0
          ],
          [
           0.15,
           0
          ],
          [
           0.17,
           0
          ],
          [
           0.18,
           0
          ],
          [
           0.2,
           0
          ],
          [
           0.22,
           0
          ],
          [
           0.23,
           0
          ],
          [
           0.25,
           0
          ],
          [
           0.27,
           0
          ],
          [
           0.28,
           0
          ],
          [
           0.3,
           0
          ],
          [
           0.32,
           0
          ],
          [
           0.33,
           6.326773611298756
          ],
          [
           0.35,
           11.044851200468928
          ],
          [
           0.37,
           15.811452135810883
          ],
          [
           0.38,
           20.567930483768453
          ],
          [
           0.4,
           34.88899610142453
          ],
          [
           0.41,
           49.0361401839406
          ],
          [
           0.43,
           48.97003554259008
          ],
          [
           0.45,
           58.64931589338706
          ],
          [
           0.46,
           77.46964911929754
          ],
          [
           0.48,
           85.53191371850929
          ],
          [
           0.5,
           104.6212605730221
          ],
          [
           0.51,
           113.24605158656328
          ],
          [
           0.53,
           22.113167076445407
          ],
          [
           0.55,
           200
          ],
          [
           0.56,
           149.5832990031746
          ],
          [
           0.58,
           155.2163606341246
          ],
          [
           0.6,
           153.32417043206598
          ],
          [
           0.61,
           157.7286121832206
          ],
          [
           0.63,
           158.78717097946753
          ],
          [
           0.65,
           160.96370268549012
          ],
          [
           0.66,
           166.04779735180384
          ],
          [
           0.68,
           167.92310557469722
          ],
          [
           0.7,
           169.49415488711475
          ],
          [
           0.71,
           173.5312534413969
          ],
          [
           0.73,
           177.45167806271652
          ],
          [
           0.75,
           179.2307071138398
          ],
          [
           0.76,
           183.0924778844902
          ],
          [
           0.78,
           180.2793938426704
          ],
          [
           0.8,
           188.93419028947807
          ],
          [
           0.81,
           184.6593551212728
          ],
          [
           0.83,
           185.9242198626918
          ],
          [
           0.85,
           184.3897784753668
          ],
          [
           0.86,
           178.49099780375204
          ],
          [
           0.88,
           174.90894937054742
          ],
          [
           0.9,
           165.95246829791958
          ],
          [
           0.91,
           156.43071520920583
          ],
          [
           0.93,
           152.00815875298056
          ],
          [
           0.95,
           102.6582905058452
          ],
          [
           0.96,
           103.18818572911816
          ],
          [
           0.98,
           74.47933200624817
          ],
          [
           1,
           53.72505017530353
          ],
          [
           1.01,
           23.702107286736517
          ],
          [
           1.03,
           23.368521342887103
          ],
          [
           1.05,
           0
          ],
          [
           1.06,
           0
          ],
          [
           1.08,
           0
          ],
          [
           1.1,
           0
          ],
          [
           1.12,
           0
          ],
          [
           1.13,
           0
          ],
          [
           1.14,
           0
          ],
          [
           1.14,
           0
          ],
          [
           1.15,
           0
          ],
          [
           1.16,
           0
          ],
          [
           1.18,
           0
          ],
          [
           1.2,
           0
          ],
          [
           1.21,
           0
          ],
          [
           1.23,
           0
          ],
          [
           1.25,
           0
          ],
          [
           1.26,
           0
          ],
          [
           1.28,
           0
          ],
          [
           1.29,
           0
          ],
          [
           1.31,
           0
          ],
          [
           1.33,
           0
          ],
          [
           1.34,
           0
          ],
          [
           1.36,
           0
          ],
          [
           1.38,
           0
          ],
          [
           1.39,
           0
          ],
          [
           1.41,
           0
          ],
          [
           1.43,
           0
          ],
          [
           1.44,
           0
          ],
          [
           1.46,
           0
          ],
          [
           1.48,
           0
          ],
          [
           1.49,
           0
          ],
          [
           1.51,
           0
          ],
          [
           1.53,
           0
          ],
          [
           1.54,
           0
          ],
          [
           1.56,
           0
          ],
          [
           1.58,
           0
          ],
          [
           1.59,
           0
          ],
          [
           1.61,
           6.310346648790692
          ],
          [
           1.63,
           7.911834571733487
          ],
          [
           1.64,
           11.06878522400689
          ],
          [
           1.66,
           15.700838325922932
          ],
          [
           1.68,
           20.62890671924408
          ],
          [
           1.69,
           23.8531011715794
          ],
          [
           1.71,
           26.939833022047036
          ],
          [
           1.73,
           31.7130529644351
          ],
          [
           1.74,
           37.83558328292797
          ],
          [
           1.76,
           41.0591031088826
          ],
          [
           1.78,
           46.10744514766106
          ],
          [
           1.79,
           45.9122226662171
          ],
          [
           1.81,
           52.0603978096085
          ],
          [
           1.83,
           56.91453814289642
          ],
          [
           1.84,
           64.95323258589598
          ],
          [
           1.86,
           72.76438810150269
          ],
          [
           1.88,
           77.51932682215099
          ],
          [
           1.89,
           77.55244455570795
          ],
          [
           1.91,
           82.1648111816541
          ],
          [
           1.93,
           86.89385171439103
          ],
          [
           1.94,
           90.61206443134364
          ],
          [
           1.96,
           90.0935570869621
          ],
          [
           1.98,
           93.05327509244616
          ],
          [
           1.99,
           93.35599484800412
          ],
          [
           2.01,
           93.21500408833056
          ],
          [
           2.03,
           96.8018218656246
          ],
          [
           2.04,
           98.10726213871384
          ],
          [
           2.06,
           97.62258030960236
          ],
          [
           2.07,
           101.37225958376484
          ],
          [
           2.09,
           103.01905478342113
          ],
          [
           2.11,
           105.64534914987765
          ],
          [
           2.13,
           104.41986276606364
          ],
          [
           2.14,
           113.01593904708592
          ],
          [
           2.16,
           114.65660142502642
          ],
          [
           2.17,
           141.3702469935946
          ],
          [
           2.19,
           140.7743085720266
          ],
          [
           2.21,
           152.11822525127832
          ],
          [
           2.22,
           151.67759601458295
          ],
          [
           2.24,
           152.11840966886248
          ],
          [
           2.26,
           151.874542309181
          ],
          [
           2.27,
           156.41879711905236
          ],
          [
           2.29,
           161.17223129914544
          ],
          [
           2.31,
           169.2696341229881
          ],
          [
           2.32,
           169.5649883325732
          ],
          [
           2.34,
           173.5411733347833
          ],
          [
           2.36,
           179.22500520725168
          ],
          [
           2.37,
           178.47821482954703
          ],
          [
           2.39,
           178.9839020064383
          ],
          [
           2.41,
           178.44677964436613
          ],
          [
           2.42,
           178.69618221149366
          ],
          [
           2.44,
           179.20458505847697
          ],
          [
           2.46,
           178.39833224390756
          ],
          [
           2.47,
           179.0574580182654
          ],
          [
           2.49,
           178.31253319792856
          ],
          [
           2.51,
           179.63059807780934
          ],
          [
           2.52,
           178.30181665635496
          ],
          [
           2.54,
           179.35586671906006
          ]
         ],
         "hovertemplate": "rel_time: %{customdata[0]:.2f}",
         "legendgroup": "",
         "marker": {
          "color": "gold",
          "symbol": "circle"
         },
         "mode": "markers",
         "name": "trajectory_data",
         "orientation": "v",
         "showlegend": false,
         "type": "scatter",
         "x": [
          -822.040882386711,
          -822.1856091909747,
          -822.4224584480377,
          -822.6595221929247,
          -822.9892369429151,
          -823.3600683525849,
          -823.7851268711179,
          -824.2663766815946,
          -824.8843391306486,
          -825.5331240111807,
          -826.1862773298295,
          -826.8423433479429,
          -827.4341383520916,
          -827.8625783252086,
          -828.1955861109861,
          -828.4180190422757,
          -828.4735287553269,
          -828.4735287553269,
          -828.4735287553269,
          -828.4735287553269,
          -828.4735287553269,
          -828.4735287553269,
          -828.4735287553269,
          -828.4735287553269,
          -828.4735287553269,
          -828.4735287553269,
          -828.4735287553269,
          -828.4735287553269,
          -828.4735287553269,
          -828.4735287553269,
          -828.4735287553269,
          -828.4735287553269,
          -828.4735287553269,
          -828.4735287553269,
          -828.4735287553269,
          -828.4735287553269,
          -828.4735287553269,
          -828.4735287553269,
          -828.4735287553269,
          -828.4735287553269,
          -828.4735287553269,
          -828.4735287553269,
          -828.4735287553269,
          -828.4735287553269,
          -828.4735287553269,
          -828.4735287553269,
          -828.5570013927875,
          -828.6680877898787,
          -828.8212049962123,
          -829.0303174393515,
          -829.4500494999359,
          -829.9711579434089,
          -830.6800110969954,
          -831.4647566634337,
          -832.3434986946633,
          -833.286649431546,
          -834.2813510296428,
          -835.343151878238,
          -836.39610577154,
          -837.39625804291,
          -838.3416566757213,
          -839.1096589592291,
          -839.7900860231747,
          -840.0185660081905,
          -840.1537108787487,
          -840.2292999207084,
          -840.2292999207084,
          -840.2292999207084,
          -840.2292999207084,
          -840.2292999207084,
          -840.2292999207084,
          -840.2292999207084,
          -840.2292999207084,
          -840.2292999207084,
          -840.2292999207084,
          -840.2292999207084,
          -840.2292999207084,
          -840.2292999207084,
          -840.2292999207084,
          -840.2292999207084,
          -840.2292999207084,
          -840.2292999207084,
          -840.2292999207084,
          -840.2292999207084,
          -840.2292999207084,
          -840.2292999207084,
          -840.2292999207084,
          -840.2292999207084,
          -840.2292999207084,
          -840.2292999207084,
          -840.2897360055707,
          -840.3653250475305,
          -840.4861504225241,
          -840.6676809563334,
          -840.8793060239386,
          -841.0908631803426,
          -841.3780657914599,
          -841.7256576927085,
          -842.103874279026,
          -842.6024207041711,
          -843.1616271147898,
          -843.8877636506642,
          -844.6588642028414,
          -845.5651577011084,
          -846.5478166904903,
          -847.5882127458145,
          -848.9549034401338,
          -850.3869705860939,
          -851.7996277597517,
          -853.1839416100156,
          -854.5396315644842,
          -855.8533228874359,
          -857.1208699565489,
          -858.3405010961048,
          -859.508024364993,
          -860.620664360517,
          -861.676773658612,
          -862.6033142774035,
          -863.3584016776255,
          -864.0386396878625,
          -864.6730476646753,
          -865.253606675352,
          -865.7808322154111,
          -866.2616921939533,
          -866.672378813252,
          -867.016539599361,
          -867.308913620344,
          -867.5597714682206,
          -867.7585717023062,
          -867.9123935628417,
          -868.0632426854144,
          -868.0775854312733,
          -868.1032368639756,
          -868.1012556976694,
          -868.0589706464955,
          -867.9709169372784,
          -867.8339324027257,
          -867.6420488128856,
          -867.3145464006234,
          -866.9229558755644,
          -866.4701197458271,
          -865.9465649392138,
          -865.2998997114416,
          -864.5621556735266,
          -863.7390112178352,
          -862.8108781919283,
          -861.8353218509707,
          -860.8125695621372,
          -859.7651686533638,
          -858.6930707808325,
          -857.6098309966726,
          -856.5210827138628,
          -855.4485091033952,
          -854.4376390516173,
          -853.4357232406664,
          -852.4875916067388,
          -851.6525272321766,
          -850.8691615519754,
          -850.3440184040553,
          -849.9348448768266,
          -849.6074530442803,
          -849.4797561108213,
          -849.4159505746491,
          -849.3840287073264,
          -849.3840287073264,
          -849.3840287073264,
          -849.3840287073264,
          -849.3840287073264,
          -849.3840287073264,
          -849.3840287073264,
          -849.3840287073264,
          -849.3840287073264,
          -849.3840287073264,
          -849.3840287073264,
          -849.3840287073264,
          -849.3840287073264,
          -849.3840287073264,
          -849.3840287073264,
          -849.3840287073264,
          -849.3200812378742,
          -849.1924679445164,
          -849.0647344339733,
          -848.8651917581151,
          -848.6258689539148,
          -848.3464800007694,
          -847.963437203622,
          -847.5244086738129,
          -847.0616035800682,
          -846.5745468239355,
          -846.087735817442,
          -845.5849215871302,
          -845.1139932466815,
          -844.6748029479227,
          -844.277405301985,
          -843.9208403770888,
          -843.6995733262823,
          -843.4790819896537,
          -843.3847147195708,
          -843.3295481332761,
          -843.3295481332761,
          -843.3295481332761,
          -843.3295481332761,
          -843.3295481332761,
          -843.3295481332761,
          -843.3295481332761,
          -843.3295481332761,
          -843.3295481332761,
          -843.3295481332761,
          -843.3295481332761,
          -843.3295481332761,
          -843.3295481332761,
          -843.3295481332761,
          -843.3295481332761,
          -843.3295481332761,
          -843.3295481332761,
          -843.3295481332761,
          -843.3295481332761,
          -843.3295481332761,
          -843.3295481332761,
          -843.3295481332761,
          -843.3295481332761,
          -843.2980538278669,
          -843.2586755739271,
          -843.2033316134657,
          -843.1082661584292,
          -842.9556400797085,
          -842.8051887195568,
          -842.572478149272,
          -842.2982035938026,
          -841.9817963759846,
          -841.5973060895549,
          -841.1603787338682,
          -840.6861562980388,
          -840.1822341483926,
          -839.6573949224098,
          -839.1283924701997,
          -838.5945668644132,
          -838.0741320664481,
          -837.6286201655009,
          -837.313389260684,
          -837.190711836668,
          -837.067873583915,
          -837.067873583915,
          -837.067873583915,
          -837.067873583915,
          -837.067873583915,
          -837.067873583915,
          -837.067873583915,
          -837.067873583915,
          -837.067873583915,
          -837.067873583915,
          -837.067873583915,
          -837.067873583915,
          -837.067873583915,
          -837.067873583915,
          -837.067873583915,
          -837.067873583915,
          -837.067873583915,
          -837.067873583915,
          -837.067873583915,
          -837.067873583915,
          -837.067873583915,
          -837.067873583915,
          -837.067873583915,
          -837.0328346315986,
          -836.9715959033018,
          -836.8839577721907,
          -836.7700612313323,
          -836.5780993615394,
          -836.3096777683268,
          -836.04346140144,
          -835.7284603300973,
          -835.3166001934994,
          -834.8697305078654,
          -834.3329439468458,
          -833.7595556887499,
          -833.6495389321681,
          -832.3392275092639,
          -831.6354829341616,
          -830.9529187066175,
          -830.286523574889,
          -829.6231701516708,
          -828.9843459375663,
          -828.358545980582,
          -827.7399802698435,
          -827.1459163028044,
          -826.5760816913518,
          -826.0220614041892,
          -825.492656637585,
          -824.9946558517543,
          -824.5215792921123,
          -824.0862415320648,
          -823.686547830985,
          -823.326620451821,
          -823.0065338295415,
          -822.7278916193537,
          -822.4997589944184,
          -822.3168594367711,
          -822.1779581096097,
          -822.0787350966506,
          -822.007352102713,
          -821.9725384572753,
          -821.9510426490339,
          -821.9418974184132,
          -821.9385789660422,
          -821.9376053729932,
          -821.9370738622588,
          -821.9370738622588,
          -821.9370738622588,
          -821.9370738622588,
          -821.9370738622588,
          -821.9370738622588,
          -821.9370738622588,
          -821.9370738622588,
          -821.9370738622588,
          -821.9370738622588,
          -821.9370738622588,
          -821.9370738622588,
          -821.9370738622588,
          -821.9370738622588,
          -821.9370738622588,
          -821.9370738622588,
          -821.9370738622588,
          -821.9370738622588,
          -821.9370738622588,
          -821.9370738622588,
          -821.9370738622588,
          -821.9370738622588,
          -821.9370738622588,
          -821.9370738622588,
          -821.9370738622588,
          -821.9370738622588,
          -821.9370738622588,
          -821.9370738622588,
          -821.9370738622588,
          -821.9370738622588,
          -821.9370738622588,
          -821.9370738622588,
          -821.9370738622588,
          -821.9370738622588,
          -821.9370738622588,
          -821.9370738622588,
          -821.9370738622588,
          -821.9369445886222,
          -821.93676215131,
          -821.9365158155723,
          -821.9362253759168,
          -821.9357632748612,
          -821.9353111737755,
          -821.9347310292445,
          -821.9341317871302,
          -821.9333319345849,
          -821.9324775964016,
          -821.9315468076688,
          -821.930595243054,
          -821.9295147453909,
          -821.9283321096673,
          -821.9270036137156,
          -821.925525759641,
          -821.9239694416586,
          -821.9223110616394,
          -821.9206792333204,
          -821.9188733305222,
          -821.9170473089068,
          -821.9151354193459,
          -821.9132268706347,
          -821.9113179813354,
          -821.9094280612945,
          -821.9074456647973,
          -821.905413261931,
          -821.9034029157477,
          -821.9013485068084,
          -821.8992409341935,
          -821.8970536619513,
          -821.8948930174325,
          -821.8925767203702,
          -821.8902102598939,
          -821.8873280487232,
          -821.8844220372974,
          -821.883972805073,
          -821.8861063367489,
          -821.8908731932374,
          -821.8982359202931,
          -821.9056982310336,
          -821.913385780096,
          -821.9215139723249,
          -821.9296480163954,
          -821.937964003451,
          -821.9465822845309,
          -821.9551165849211,
          -821.9637164440658,
          -821.9722589502443,
          -821.9808758175899,
          -821.9894376859162,
          -821.9980099771246,
          -822.0065961192277,
          -822.0151693506489,
          -822.0237496409105,
          -822.0323228723314,
          -822.0408823867109
         ],
         "xaxis": "x",
         "y": [
          178.4850012007763,
          178.7352475428188,
          179.14482612867343,
          179.55374310665817,
          180.12112016536136,
          180.75666282020237,
          181.48097251402365,
          182.29570740629484,
          183.333729343764,
          184.41472586413715,
          185.4936209037416,
          186.56909115272055,
          187.5316496478873,
          188.22425620889976,
          188.75950694793661,
          189.11620816195614,
          189.2052891300636,
          189.2052891300636,
          189.2052891300636,
          189.2052891300636,
          189.2052891300636,
          189.2052891300636,
          189.2052891300636,
          189.2052891300636,
          189.2052891300636,
          189.2052891300636,
          189.2052891300636,
          189.2052891300636,
          189.2052891300636,
          189.2052891300636,
          189.2052891300636,
          189.2052891300636,
          189.2052891300636,
          189.2052891300636,
          189.2052891300636,
          189.2052891300636,
          189.2052891300636,
          189.2052891300636,
          189.2052891300636,
          189.2052891300636,
          189.2052891300636,
          189.2052891300636,
          189.2052891300636,
          189.2052891300636,
          189.2052891300636,
          189.2052891300636,
          189.33912822931487,
          189.51729887682524,
          189.76239460462273,
          190.0962996984583,
          190.76271836479935,
          191.5833653443204,
          192.68914823123376,
          193.90103578176533,
          195.24230142781443,
          196.66514027994296,
          198.14820953720127,
          199.71382585701517,
          201.25161673365125,
          202.700092286701,
          204.05888752836847,
          205.15609629290324,
          206.12283571872715,
          206.44748507911487,
          206.63956424863315,
          206.74698066302878,
          206.74698066302878,
          206.74698066302878,
          206.74698066302878,
          206.74698066302878,
          206.74698066302878,
          206.74698066302878,
          206.74698066302878,
          206.74698066302878,
          206.74698066302878,
          206.74698066302878,
          206.74698066302878,
          206.74698066302878,
          206.74698066302878,
          206.74698066302878,
          206.74698066302878,
          206.74698066302878,
          206.74698066302878,
          206.74698066302878,
          206.74698066302878,
          206.74698066302878,
          206.74698066302878,
          206.74698066302878,
          206.74698066302878,
          206.74698066302878,
          206.83281676460913,
          206.9402331790047,
          207.11195530463687,
          207.36990105760046,
          207.67060007477386,
          207.97129072124008,
          208.37937734680804,
          208.8733499964278,
          209.41082301441878,
          210.1191904449829,
          210.91383296518674,
          211.94564692250339,
          213.0413759856317,
          214.32913489543114,
          215.72555520465005,
          217.20914562664484,
          219.17056617499009,
          221.24651141128905,
          223.33572046544845,
          225.4432779262681,
          227.568767461996,
          229.72096185225786,
          231.90168509967674,
          234.10801064464286,
          236.34288540142748,
          238.60653407400125,
          240.8956596347713,
          243.0419702210442,
          244.91873106665298,
          246.7395788337479,
          248.57637849371855,
          250.40340836730084,
          252.2204795911307,
          254.04843937892508,
          255.78769711858936,
          257.4321910910036,
          259.03461794054505,
          260.64358046110004,
          262.1805169395426,
          263.67356983560205,
          266.81248404701404,
          267.15439612463376,
          268.1936328527935,
          269.74241003888875,
          271.29157121141316,
          272.9435860050014,
          274.6725283641103,
          276.49990694514275,
          278.9999995509002,
          281.4923424803315,
          283.9718814244237,
          286.4927471394631,
          289.28054819600493,
          292.18339597234365,
          295.17216408281,
          298.2995847459903,
          301.4283442798174,
          304.5769922784695,
          307.7169114316617,
          310.8485085254251,
          313.9747949094184,
          317.0985968869184,
          320.1758371559916,
          323.10550174704497,
          326.03873924394867,
          328.85200359583274,
          331.3689930520734,
          333.766699942084,
          335.394503741139,
          336.67239848532574,
          337.6986555754445,
          338.0991618960515,
          338.29917242862103,
          338.3992159894116,
          338.3992159894116,
          338.3992159894116,
          338.3992159894116,
          338.3992159894116,
          338.3992159894116,
          338.3992159894116,
          338.3992159894116,
          338.3992159894116,
          338.3992159894116,
          338.3992159894116,
          338.3992159894116,
          338.3992159894116,
          338.3992159894116,
          338.3992159894116,
          338.3992159894116,
          338.5997331529553,
          338.99975395905847,
          339.4003384085137,
          340.0259691568247,
          340.77636705740804,
          341.6523515156664,
          342.8534627512436,
          344.22993973793336,
          345.6809201091665,
          347.2081341257501,
          348.7344146306226,
          350.31095984343636,
          351.78753834350715,
          353.1644642676167,
          354.41537285178003,
          355.5419125971275,
          356.2437687326998,
          356.9457990851324,
          357.2462049655045,
          357.4218589582333,
          357.4218589582333,
          357.4218589582333,
          357.4218589582333,
          357.4218589582333,
          357.4218589582333,
          357.4218589582333,
          357.4218589582333,
          357.4218589582333,
          357.4218589582333,
          357.4218589582333,
          357.4218589582333,
          357.4218589582333,
          357.4218589582333,
          357.4218589582333,
          357.4218589582333,
          357.4218589582333,
          357.4218589582333,
          357.4218589582333,
          357.4218589582333,
          357.4218589582333,
          357.4218589582333,
          357.4218589582333,
          357.52200821580817,
          357.6473445226856,
          357.82286706806775,
          358.12313658946425,
          358.60284795020465,
          359.0740466789109,
          359.7993289300372,
          360.6498298915887,
          361.6236156229555,
          362.79707778925757,
          364.11878350676085,
          365.53878004634396,
          367.03269856485883,
          368.5742479191793,
          370.11379979524446,
          371.65276213371146,
          373.140522484845,
          374.4041219748019,
          375.29477795259197,
          375.64140221712324,
          375.9884750784861,
          375.9884750784861,
          375.9884750784861,
          375.9884750784861,
          375.9884750784861,
          375.9884750784861,
          375.9884750784861,
          375.9884750784861,
          375.9884750784861,
          375.9884750784861,
          375.9884750784861,
          375.9884750784861,
          375.9884750784861,
          375.9884750784861,
          375.9884750784861,
          375.9884750784861,
          375.9884750784861,
          375.9884750784861,
          375.9884750784861,
          375.9884750784861,
          375.9884750784861,
          375.9884750784861,
          375.9884750784861,
          376.0874419066537,
          376.2604912757037,
          376.5081496522799,
          376.82991074599624,
          377.3752203662998,
          378.1442094938465,
          378.91337297118713,
          379.83315823591624,
          381.0525630440533,
          382.398254019304,
          384.0469590595516,
          385.84855730022394,
          386.195723916233,
          390.56302321404405,
          392.9823273359102,
          395.4106424232248,
          397.8692591651724,
          400.4120739207448,
          402.95969997138764,
          405.563175192288,
          408.2547178401195,
          410.97321927955363,
          413.7238408670709,
          416.5598759352585,
          419.45418319184375,
          422.38034832294346,
          425.38875666715467,
          428.40439806619565,
          431.4530235523896,
          434.505160009288,
          437.5606517788186,
          440.6217736805297,
          443.57968810075516,
          446.46409057976877,
          449.21888696248254,
          451.81655827236557,
          454.3385796857061,
          456.04563741647786,
          457.75254422540246,
          458.986930797289,
          459.87988869017914,
          460.2739587232464,
          460.6679983716593,
          460.6679983716593,
          460.6679983716593,
          460.6679983716593,
          460.6679983716593,
          460.6679983716593,
          460.6679983716593,
          460.6679983716593,
          460.6679983716593,
          460.6679983716593,
          460.6679983716593,
          460.6679983716593,
          460.6679983716593,
          460.6679983716593,
          460.6679983716593,
          460.6679983716593,
          460.6679983716593,
          460.6679983716593,
          460.6679983716593,
          460.6679983716593,
          460.6679983716593,
          460.6679983716593,
          460.6679983716593,
          460.6679983716593,
          460.6679983716593,
          460.6679983716593,
          460.6679983716593,
          460.6679983716593,
          460.6679983716593,
          460.6679983716593,
          460.6679983716593,
          460.6679983716593,
          460.6679983716593,
          460.6679983716593,
          460.6679983716593,
          460.6679983716593,
          460.6679983716593,
          460.7730150810217,
          460.90440679109753,
          461.08794922237615,
          461.3505769844556,
          461.6919438200776,
          462.0860206451988,
          462.5327904593686,
          463.05818026609296,
          463.6880287131323,
          464.37112847730396,
          465.13286900991216,
          465.8945521895543,
          466.7612530187716,
          467.70705807424645,
          468.7841767109487,
          469.9917008271416,
          471.279295905096,
          472.5658898914758,
          473.93212539727864,
          475.3769083410924,
          476.87110016779405,
          478.3686340532468,
          479.9179699080139,
          481.46730482256834,
          483.01364737047305,
          484.61474827688215,
          486.243131345529,
          487.8715723667662,
          489.5522218027608,
          491.25924623946867,
          493.01855687919374,
          494.77740372050977,
          496.6162846059151,
          498.53334152113536,
          500.8711795189974,
          503.2066234902206,
          505.72859150665226,
          508.2496239272125,
          510.7702214679826,
          513.2911762439664,
          515.8892817474655,
          518.5665026443319,
          521.3775517068384,
          524.1880796179697,
          527.0752721424878,
          530.0430464901941,
          533.0113054121916,
          535.9775931538195,
          538.9439016713294,
          541.9131049315597,
          544.8808997145599,
          547.8476515951852,
          550.8164118328883,
          553.7831633729253,
          556.752444762004,
          559.7191963020409,
          562.6884203381534
         ],
         "yaxis": "y"
        },
        {
         "marker": {
          "color": "pink",
          "size": 20,
          "symbol": "circle"
         },
         "mode": "markers",
         "name": "cur_ff",
         "type": "scatter",
         "x": [
          -835.4057061711231
         ],
         "y": [
          377.9051423698223
         ]
        },
        {
         "marker": {
          "color": "lightblue",
          "size": 20,
          "symbol": "circle"
         },
         "mode": "markers",
         "name": "nxt_ff",
         "type": "scatter",
         "x": [
          -824.3809822841179
         ],
         "y": [
          466.7908622879888
         ]
        },
        {
         "customdata": [
          [
           0
          ]
         ],
         "hovertemplate": "rel_time: %{customdata[0]:.2f}",
         "legendgroup": "",
         "marker": {
          "color": "black",
          "opacity": 1,
          "size": 13,
          "symbol": "star"
         },
         "mode": "markers",
         "name": "stops",
         "orientation": "v",
         "showlegend": false,
         "type": "scatter",
         "x": [
          -837.067873583915
         ],
         "xaxis": "x",
         "y": [
          375.9884750784861
         ],
         "yaxis": "y"
        },
        {
         "hoverinfo": "name",
         "line": {
          "color": "green",
          "width": 4
         },
         "mode": "lines",
         "name": "nxt null arc",
         "opacity": 0.8,
         "showlegend": true,
         "type": "scatter",
         "x": [
          -857.1208704626986,
          -858.346052559326,
          -859.5404165482811,
          -860.7037291631118,
          -861.8357632018852,
          -862.9362975715624,
          -864.0051173311784,
          -865.0420137338222,
          -866.0467842674053,
          -867.0192326942152,
          -867.9591690892398,
          -868.8664098772624,
          -869.7407778687142,
          -870.582102294281,
          -871.390218838255,
          -872.1649696706272,
          -872.9062034779122,
          -873.6137754927003,
          -874.2875475219322,
          -874.9273879738887,
          -875.5331718838908,
          -876.1047809387062,
          -876.642103499658,
          -877.145034624426,
          -877.6134760875445,
          -878.0473363995854,
          -878.4465308250269,
          -878.8109813988029,
          -879.14061694153,
          -879.4353730734088,
          -879.6951922267987,
          -879.9200236574602,
          -880.1098234544662,
          -880.2645545487776,
          -880.3841867204834,
          -880.4686966047027,
          -880.5180676961483,
          -880.5322903523498,
          -880.5113617955369,
          -880.4552861131825,
          -880.3640742572036,
          -880.2377440418232,
          -880.07632014009,
          -879.8798340790605,
          -879.6483242336412,
          -879.3818358190939,
          -879.0804208822044,
          -878.7441382911184,
          -878.3730537238433,
          -877.9672396554213,
          -877.5267753437747,
          -877.0517468142257,
          -876.5422468426964,
          -875.9983749375874,
          -875.4202373203451,
          -874.807946904714,
          -874.1616232746859,
          -873.4813926611431,
          -872.7673879172055,
          -872.0197484922828,
          -871.2386204048403,
          -870.4241562138793,
          -869.5765149891428,
          -868.6958622800471,
          -867.7823700833494,
          -866.8362168095562,
          -865.8575872480781,
          -864.8466725311393,
          -863.8036700964491,
          -862.7287836486399,
          -861.6222231194838,
          -860.4842046268903,
          -859.3149504326988,
          -858.1146888992677,
          -856.8836544448751,
          -855.6220874979357,
          -854.3302344500422,
          -853.0083476078453,
          -851.6566851437756,
          -850.2755110456212,
          -848.8650950649698,
          -847.4257126645235,
          -845.9576449643005,
          -844.4611786867301,
          -842.9366061006538,
          -841.3842249642443,
          -839.8043384668503,
          -838.1972551697828,
          -836.5632889460517,
          -834.9027589190626,
          -833.2159894002917,
          -831.5033098259455,
          -829.76505469262,
          -828.0015634919703,
          -826.2131806444081,
          -824.4002554318324,
          -822.5631419294132,
          -820.7021989364392,
          -818.8177899062409,
          -816.9102828752073
         ],
         "y": [
          231.90168599245726,
          234.09837952102183,
          236.31198027323984,
          238.5420559196046,
          240.78817091296352,
          243.04988657358325,
          245.3267611748268,
          247.61835002942485,
          249.92420557632641,
          252.24387746810945,
          254.57691265893732,
          256.92285549304086,
          259.2812477937105,
          261.65162895278144,
          264.03353602059263,
          266.42650379640406,
          268.8300649192531,
          271.2437499592329,
          273.6670875091747,
          276.0996042767168,
          278.5408251767413,
          280.9902734241607,
          283.44747062703755,
          285.91193688001664,
          288.3831908580539,
          290.86074991042153,
          293.34413015497336,
          295.8328465726488,
          298.3264131022013,
          300.824342735128,
          303.3261476107859,
          305.83133911167357,
          308.33942795886185,
          310.849924307552,
          313.36233784274606,
          315.876177875008,
          318.3909534362982,
          320.9061733758631,
          323.4213464561585,
          325.93598144879303,
          328.4495872304665,
          330.96167287889,
          333.47174776866575,
          335.97932166710916,
          338.4839048299942,
          340.98500809720355,
          343.48214298826434,
          345.9748217977515,
          348.46255769053903,
          350.9448647968827,
          353.42125830731254,
          355.8912545673194,
          358.3543711718156,
          360.8101270593514,
          363.25804260606924,
          365.69763971937704,
          368.12844193132287,
          370.5499744916517,
          372.96176446052704,
          375.3633408008991,
          377.7542344705009,
          380.13397851345496,
          382.5021081514732,
          384.85816087463024,
          387.2016765316948,
          389.53219741999925,
          391.8492683748331,
          394.15243685833804,
          396.44125304789173,
          398.71526992396144,
          400.97404335740873,
          403.2171321962309,
          405.4440983517211,
          407.6545068840288,
          409.847926087107,
          412.0239275730264,
          414.1820863556422,
          416.3219809335969,
          418.44319337264176,
          420.54530938726157,
          422.62791842158754,
          424.6906137295813,
          426.7329924544742,
          428.7546557074488,
          430.7552086455433,
          432.7342605487668,
          434.69142489641,
          436.6263194425341,
          438.53856629062636,
          440.42779196740526,
          442.29362749576234,
          444.1357084668249,
          445.9536751111284,
          447.7471723688807,
          449.5158499593077,
          451.25936244906535,
          452.9773693197043,
          454.66953503417614,
          456.3355291023652,
          457.97502614563484
         ]
        },
        {
         "hoverinfo": "name",
         "line": {
          "color": "brown",
          "width": 3
         },
         "mode": "lines",
         "name": "cur null arc",
         "opacity": 0.8,
         "showlegend": true,
         "type": "scatter",
         "x": [
          -857.1208697732776,
          -857.9131754859104,
          -858.6870631884921,
          -859.4424034051267,
          -860.1790697630206,
          -860.8969390136243,
          -861.5958910532534,
          -862.2758089431828,
          -862.9365789292104,
          -863.57809046069,
          -864.2002362090258,
          -864.8029120856298,
          -865.386017259337,
          -865.9494541732734,
          -866.4931285611794,
          -867.0169494631803,
          -867.5208292410048,
          -868.004683592647,
          -868.4684315664706,
          -868.9119955747533,
          -869.3353014066669,
          -869.7382782406935,
          -870.1208586564741,
          -870.4829786460889,
          -870.824577624766,
          -871.145598441017,
          -871.4459873862002,
          -871.7256942035043,
          -871.9846720963585,
          -872.2228777362616,
          -872.4402712700294,
          -872.6368163264647,
          -872.8124800224408,
          -872.9672329684038,
          -873.1010492732893,
          -873.2139065488543,
          -873.3057859134228,
          -873.376671995045,
          -873.4265529340684,
          -873.4554203851234,
          -873.4632695185178,
          -873.4500990210465,
          -873.4159110962097,
          -873.3607114638455,
          -873.284509359172,
          -873.187317531243,
          -873.069152240814,
          -872.9300332576229,
          -872.7699838570815,
          -872.5890308163814,
          -872.3872044100151,
          -872.1645384047092,
          -871.9210700537762,
          -871.656840090882,
          -871.3718927232302,
          -871.0662756241658,
          -870.7400399251999,
          -870.393240207455,
          -870.0259344925329,
          -869.6381842328078,
          -869.2300543011439,
          -868.8016129800436,
          -868.3529319502214,
          -867.8840862786135,
          -867.3951544058164,
          -866.8862181329647,
          -866.3573626080456,
          -865.8086763116518,
          -865.2402510421794,
          -864.6521819004689,
          -864.0445672738944,
          -863.4175088199031,
          -862.7711114490068,
          -862.1054833072302,
          -861.4207357580177,
          -860.716983363601,
          -859.9943438658324,
          -859.2529381664864,
          -858.4928903070316,
          -857.7143274478776,
          -856.9173798471014,
          -856.1021808386532,
          -855.2688668100495,
          -854.4175771795551,
          -853.5484543728564,
          -852.6616437992343,
          -851.7572938272347,
          -850.8355557598472,
          -849.8965838091902,
          -848.9405350707104,
          -847.9675694969004,
          -846.9778498705369,
          -845.9715417774473,
          -844.948813578805,
          -843.9098363829626,
          -842.8547840168235,
          -841.7838329967609,
          -840.6971624990844,
          -839.5949543300635,
          -838.4773928955099
         ],
         "y": [
          231.90168477641075,
          233.3205156724204,
          234.749475880941,
          236.18832632865127,
          237.63682628753617,
          239.09473341516122,
          240.5618037952182,
          242.03779197833364,
          243.52245102313387,
          245.01553253755986,
          246.516786720425,
          248.02596240320742,
          249.54280709207254,
          251.06706701011663,
          252.59848713982544,
          254.1368112657393,
          255.68178201732073,
          257.23314091201246,
          258.79062839848444,
          260.3539839000573,
          261.9229458582991,
          263.4972517767851,
          265.0766382650151,
          266.6608410824799,
          268.2495951828709,
          269.8426347584231,
          271.439693284387,
          273.0405035636193,
          274.6447977712866,
          276.2523074996742,
          277.862763803092,
          279.47589724287093,
          281.0914379324414,
          282.70911558248736,
          284.32865954616636,
          285.949798864391,
          287.5722623111623,
          289.1957784389462,
          290.8200756240895,
          292.44488211226326,
          294.06992606392953,
          295.6949355998211,
          297.31963884642886,
          298.94376398148745,
          300.56703927945307,
          302.1891931569647,
          303.80995421828123,
          305.429051300688,
          307.04621351986344,
          308.66117031519997,
          310.2736514950701,
          311.88338728203115,
          313.4901083579608,
          315.0935459091149,
          316.6934316711024,
          318.2894979737671,
          319.88147778597016,
          321.4691047602669,
          323.05211327746684,
          324.6302384910748,
          326.2032163716003,
          327.7707837507313,
          329.33267836536453,
          330.88863890148247,
          332.43840503787374,
          333.98171748968593,
          335.51831805180495,
          337.04794964205536,
          338.57035634421055,
          340.0852834508101,
          341.5924775057729,
          343.0916863468021,
          344.58265914757357,
          346.06514645970054,
          347.53890025446736,
          349.0036739643266,
          350.45922252415113,
          351.90530241223456,
          353.34167169103443,
          354.7680900476494,
          356.1843188340251,
          357.5901211068811,
          358.98526166735337,
          360.36950710034364,
          361.7426258135723,
          363.1043880763238,
          364.45456605788286,
          365.79293386565126,
          367.1192675829417,
          368.4333453064396,
          369.73494718332927,
          371.0238554480763,
          372.29985445886143,
          373.562730733658,
          374.8122729859494,
          376.0482721600779,
          377.2705214662216,
          378.478816414991,
          379.6729548516413,
          380.8527369898944
         ]
        },
        {
         "line": {
          "color": "blue",
          "dash": "dash",
          "width": 2
         },
         "mode": "lines",
         "name": "Stop Heading",
         "type": "scatter",
         "x": [
          -901.9582415949667,
          -774.9965441960533
         ],
         "y": [
          314.6997885885268,
          447.005685391262
         ]
        },
        {
         "line": {
          "color": "LightSeaGreen",
          "width": 5
         },
         "mode": "lines",
         "name": "Arc between stop heading and next ff",
         "type": "scatter",
         "x": [
          -831.0570690182109,
          -831.0024804177106,
          -830.9479027038983,
          -830.8933359562626,
          -830.8387802542761,
          -830.7842356773955,
          -830.7297023050611,
          -830.675180216697,
          -830.6206694917106,
          -830.5661702094932,
          -830.511682449419,
          -830.4572062908459,
          -830.4027418131144,
          -830.3482890955482,
          -830.293848217454,
          -830.2394192581211,
          -830.1850022968214,
          -830.1305974128095,
          -830.0762046853222,
          -830.0218241935788,
          -829.9674560167807,
          -829.9131002341113,
          -829.8587569247361,
          -829.8044261678021,
          -829.7501080424386,
          -829.6958026277558,
          -829.6415100028461,
          -829.5872302467826,
          -829.5329634386201,
          -829.4787096573945,
          -829.4244689821224,
          -829.3702414918018,
          -829.3160272654112,
          -829.2618263819098,
          -829.2076389202374,
          -829.1534649593142,
          -829.0993045780409,
          -829.0451578552983,
          -828.9910248699472,
          -828.9369057008286,
          -828.8828004267633,
          -828.8287091265518,
          -828.7746318789743,
          -828.7205687627908,
          -828.66651985674,
          -828.6124852395407,
          -828.5584649898904,
          -828.5044591864657,
          -828.4504679079225,
          -828.3964912328954,
          -828.3425292399974,
          -828.2885820078205,
          -828.234649614935,
          -828.1807321398899,
          -828.1268296612119,
          -828.0729422574065,
          -828.0190700069566,
          -827.9652129883236,
          -827.9113712799466,
          -827.8575449602421,
          -827.8037341076043,
          -827.7499388004052,
          -827.6961591169937,
          -827.6423951356963,
          -827.5886469348163,
          -827.5349145926344,
          -827.4811981874079,
          -827.4274977973711,
          -827.3738135007346,
          -827.3201453756861,
          -827.2664935003894,
          -827.2128579529846,
          -827.1592388115882,
          -827.1056361542929,
          -827.052050059167,
          -826.998480604255,
          -826.944927867577,
          -826.8913919271289,
          -826.837872860882,
          -826.7843707467832,
          -826.7308856627545,
          -826.6774176866932,
          -826.6239668964716,
          -826.5705333699372,
          -826.5171171849121,
          -826.4637184191931,
          -826.4103371505521,
          -826.356973456735,
          -826.3036274154622,
          -826.2502991044287,
          -826.1969886013034,
          -826.1436959837291,
          -826.0904213293231,
          -826.037164715676,
          -825.9839262203525,
          -825.9307059208905,
          -825.877503894802,
          -825.8243202195717,
          -825.7711549726581,
          -825.7180082314926,
          -825.6648800734797,
          -825.611770575997,
          -825.5586798163946,
          -825.5056078719955,
          -825.4525548200954,
          -825.3995207379622,
          -825.3465057028366,
          -825.2935097919309,
          -825.2405330824303,
          -825.1875756514916,
          -825.1346375762433,
          -825.0817189337865,
          -825.0288198011931,
          -824.9759402555072,
          -824.9230803737443,
          -824.8702402328906,
          -824.8174199099046,
          -824.7646194817153,
          -824.7118390252227,
          -824.6590786172978,
          -824.6063383347828,
          -824.5536182544898,
          -824.5009184532022,
          -824.4482390076735,
          -824.3955799946275,
          -824.3429414907587,
          -824.290323572731,
          -824.2377263171791,
          -824.185149800707,
          -824.1325940998888,
          -824.0800592912682,
          -824.0275454513584,
          -823.9750526566422,
          -823.9225809835718,
          -823.8701305085684,
          -823.8177013080225,
          -823.7652934582935,
          -823.7129070357098,
          -823.6605421165686,
          -823.6081987771358,
          -823.5558770936458,
          -823.5035771423013,
          -823.4512989992737,
          -823.3990427407025,
          -823.3468084426952,
          -823.2945961813273,
          -823.2424060326425,
          -823.190238072652,
          -823.1380923773349,
          -823.0859690226378,
          -823.0338680844744,
          -822.9817896387264,
          -822.9297337612423,
          -822.8777005278379,
          -822.8256900142959,
          -822.773702296366,
          -822.7217374497648,
          -822.6697955501752,
          -822.6178766732472,
          -822.5659808945969,
          -822.514108289807,
          -822.4622589344262,
          -822.4104329039695,
          -822.3586302739179,
          -822.3068511197183,
          -822.2550955167834,
          -822.2033635404918,
          -822.1516552661872,
          -822.0999707691792,
          -822.0483101247428,
          -821.9966734081181,
          -821.9450606945102,
          -821.8934720590896,
          -821.8419075769914,
          -821.7903673233158,
          -821.7388513731274,
          -821.6873598014557,
          -821.6358926832946,
          -821.5844500936024,
          -821.5330321073016,
          -821.4816387992788,
          -821.4302702443848,
          -821.3789265174344,
          -821.3276076932061,
          -821.2763138464422,
          -821.2250450518486,
          -821.1738013840948,
          -821.1225829178134,
          -821.0713897276007,
          -821.020221888016,
          -820.9690794735816,
          -820.9179625587828,
          -820.8668712180681,
          -820.8158055258482,
          -820.7647655564969,
          -820.7137513843501,
          -820.6627630837066,
          -820.6118007288272,
          -820.5608643939352,
          -820.5099541532154,
          -820.4590700808154,
          -820.4082122508441,
          -820.3573807373726,
          -820.3065756144332,
          -820.25579695602,
          -820.2050448360889,
          -820.1543193285564,
          -820.1036205073009,
          -820.0529484461616,
          -820.002303218939,
          -819.9516848993941,
          -819.901093561249,
          -819.8505292781866,
          -819.7999921238501,
          -819.7494821718433,
          -819.6989994957306,
          -819.6485441690363,
          -819.5981162652452,
          -819.5477158578019,
          -819.4973430201112,
          -819.4469978255376,
          -819.3966803474053,
          -819.3463906589982,
          -819.2961288335597,
          -819.2458949442927,
          -819.1956890643593,
          -819.1455112668808,
          -819.0953616249378,
          -819.0452402115698,
          -818.9951470997748,
          -818.9450823625103,
          -818.8950460726919,
          -818.8450383031941,
          -818.7950591268494,
          -818.7451086164494,
          -818.6951868447433,
          -818.6452938844386,
          -818.5954298082011,
          -818.5455946886542,
          -818.4957885983794,
          -818.4460116099157,
          -818.3962637957599,
          -818.346545228366,
          -818.2968559801459,
          -818.2471961234683,
          -818.1975657306594,
          -818.1479648740025,
          -818.0983936257376,
          -818.0488520580619,
          -817.9993402431292,
          -817.9498582530499,
          -817.9004061598912,
          -817.8509840356766,
          -817.8015919523858,
          -817.7522299819552,
          -817.7028981962768,
          -817.6535966671992,
          -817.6043254665262,
          -817.5550846660183,
          -817.5058743373911,
          -817.456694552316,
          -817.4075453824198,
          -817.3584268992851,
          -817.3093391744494,
          -817.2602822794055,
          -817.2112562856014,
          -817.1622612644401,
          -817.1132972872792,
          -817.0643644254316,
          -817.0154627501644,
          -816.9665923326995,
          -816.9177532442134,
          -816.8689455558366,
          -816.8201693386542,
          -816.7714246637054,
          -816.7227116019833,
          -816.6740302244352,
          -816.6253806019621,
          -816.5767628054186,
          -816.5281769056133,
          -816.4796229733083,
          -816.4311010792187,
          -816.3826112940135,
          -816.3341536883145,
          -816.2857283326969,
          -816.2373352976888,
          -816.1889746537714,
          -816.1406464713785,
          -816.0923508208969,
          -816.0440877726654,
          -815.9958573969762,
          -815.9476597640734,
          -815.8994949441533,
          -815.8513630073647,
          -815.8032640238084,
          -815.7551980635374,
          -815.707165196556,
          -815.6591654928211,
          -815.6111990222407,
          -815.5632658546747,
          -815.5153660599343,
          -815.4674997077824,
          -815.4196668679328,
          -815.3718676100509,
          -815.3241020037528,
          -815.276370118606,
          -815.2286720241283,
          -815.1810077897889,
          -815.1333774850074,
          -815.0857811791539,
          -815.0382189415492,
          -814.9906908414644,
          -814.9431969481208,
          -814.8957373306898,
          -814.8483120582933,
          -814.8009212000028,
          -814.7535648248396,
          -814.7062430017752,
          -814.6589557997304,
          -814.6117032875757,
          -814.5644855341311,
          -814.517302608166,
          -814.470154578399,
          -814.423041513498,
          -814.3759634820798,
          -814.3289205527102,
          -814.281912793904,
          -814.2349402741247,
          -814.1880030617847,
          -814.1411012252445,
          -814.0942348328134,
          -814.047403952749,
          -814.0006086532575,
          -813.9538490024927,
          -813.9071250685568,
          -813.8604369194999,
          -813.8137846233202,
          -813.7671682479634,
          -813.720587861323,
          -813.6740435312402,
          -813.6275353255033,
          -813.5810633118485,
          -813.534627557959,
          -813.488228131465,
          -813.4418650999444,
          -813.3955385309215,
          -813.3492484918677,
          -813.3029950502013,
          -813.2567782732871,
          -813.2105982284367,
          -813.1644549829081,
          -813.1183486039056,
          -813.07227915858,
          -813.0262467140283,
          -812.9802513372936,
          -812.9342930953646,
          -812.8883720551767,
          -812.8424882836104,
          -812.7966418474923,
          -812.7508328135946,
          -812.7050612486348,
          -812.6593272192762,
          -812.613630792127,
          -812.567972033741,
          -812.5223510106168,
          -812.4767677891986,
          -812.4312224358748,
          -812.3857150169794,
          -812.3402455987904,
          -812.2948142475309,
          -812.2494210293687,
          -812.2040660104158,
          -812.1587492567285,
          -812.1134708343075,
          -812.0682308090977,
          -812.0230292469881,
          -811.9778662138115,
          -811.9327417753448,
          -811.8876559973086,
          -811.842608945367,
          -811.7976006851281,
          -811.7526312821433,
          -811.7077008019072,
          -811.662809309858,
          -811.617956871377,
          -811.5731435517888,
          -811.5283694163608,
          -811.4836345303032,
          -811.4389389587694,
          -811.3942827668554,
          -811.3496660195999,
          -811.3050887819838,
          -811.2605511189311,
          -811.2160530953074,
          -811.1715947759212,
          -811.127176225523,
          -811.0827975088051,
          -811.0384586904022,
          -810.9941598348906,
          -810.9499010067885,
          -810.9056822705558,
          -810.861503690594,
          -810.817365331246,
          -810.7732672567964,
          -810.7292095314709,
          -810.6851922194365,
          -810.6412153848014,
          -810.5972790916147,
          -810.5533834038666,
          -810.5095283854881,
          -810.465714100351,
          -810.4219406122677,
          -810.3782079849911,
          -810.334516282215,
          -810.2908655675731,
          -810.2472559046397,
          -810.2036873569291,
          -810.1601599878961,
          -810.1166738609351,
          -810.0732290393805,
          -810.029825586507,
          -809.9864635655283,
          -809.9431430395983,
          -809.8998640718105,
          -809.8566267251975,
          -809.8134310627316,
          -809.7702771473241,
          -809.7271650418259,
          -809.6840948090264,
          -809.6410665116547,
          -809.5980802123785,
          -809.5551359738042,
          -809.5122338584771,
          -809.4693739288813,
          -809.4265562474391,
          -809.3837808765115,
          -809.341047878398,
          -809.298357315336,
          -809.2557092495015,
          -809.2131037430083,
          -809.1705408579085,
          -809.1280206561918,
          -809.085543199786,
          -809.0431085505566,
          -809.0007167703064,
          -808.9583679207765,
          -808.9160620636449,
          -808.8737992605269,
          -808.8315795729756,
          -808.7894030624808,
          -808.7472697904698,
          -808.7051798183068,
          -808.6631332072926,
          -808.6211300186657,
          -808.5791703136002,
          -808.537254153208,
          -808.4953815985367,
          -808.4535527105709,
          -808.4117675502315,
          -808.3700261783755,
          -808.3283286557964,
          -808.2866750432238,
          -808.2450654013232,
          -808.2034997906961,
          -808.16197827188,
          -808.1205009053481,
          -808.0790677515091,
          -808.0376788707076,
          -807.9963343232238,
          -807.9550341692728,
          -807.9137784690057,
          -807.8725672825085,
          -807.8314006698022,
          -807.7902786908433,
          -807.7492014055229,
          -807.7081688736674,
          -807.6671811550377,
          -807.6262383093297,
          -807.5853403961736,
          -807.5444874751345,
          -807.5036796057116,
          -807.462916847339,
          -807.4221992593847,
          -807.3815269011509,
          -807.3408998318743,
          -807.3003181107251,
          -807.2597817968079,
          -807.2192909491612,
          -807.1788456267567,
          -807.1384458885004,
          -807.0980917932317,
          -807.0577833997235,
          -807.0175207666821,
          -806.9773039527473,
          -806.9371330164921,
          -806.8970080164227,
          -806.8569290109781,
          -806.8168960585308,
          -806.7769092173859,
          -806.7369685457816
         ],
         "y": [
          426.09040356328563,
          426.0814155788005,
          426.0723617219038,
          426.0632420057819,
          426.05405644371695,
          426.04480504908713,
          426.03548783536644,
          426.02610481612476,
          426.01665600502776,
          426.00714141583705,
          425.9975610624099,
          425.98791495869943,
          425.97820311875455,
          425.9684255567198,
          425.9585822868356,
          425.948673323438,
          425.9386986809587,
          425.928658373925,
          425.9185524169599,
          425.90838082478217,
          425.89814361220584,
          425.8878407941408,
          425.87747238559234,
          425.8670384016614,
          425.85653885754425,
          425.8459737685328,
          425.8353431500144,
          425.8246470174717,
          425.8138853864829,
          425.80305827272167,
          425.7921656919568,
          425.7812076600527,
          425.7701841929688,
          425.75909530676023,
          425.74794101757703,
          425.73672134166475,
          425.7254362953639,
          425.71408589511054,
          425.70267015743565,
          425.6911890989654,
          425.6796427364213,
          425.6680310866197,
          425.65635416647217,
          425.64461199298535,
          425.6328045832609,
          425.62093195449546,
          425.6089941239808,
          425.5969911091033,
          425.58492292734473,
          425.5727895962815,
          425.5605911335849,
          425.5483275570212,
          425.53599888445143,
          425.52360513383144,
          425.51114632321185,
          425.498622470738,
          425.4860335946501,
          425.4733797132829,
          425.46066084506595,
          425.44787700852334,
          425.4350282222739,
          425.4221145050309,
          425.4091358756024,
          425.39609235289066,
          425.3829839558929,
          425.36981070370035,
          425.35657261549915,
          425.3432697105695,
          425.3299020082862,
          425.3164695281184,
          425.30297228962957,
          425.2894103124774,
          425.27578361641406,
          425.2620922212859,
          425.2483361470334,
          425.2345154136914,
          425.22063004138874,
          425.20668005034855,
          425.192665460888,
          425.17858629341845,
          425.16444256844505,
          425.1502343065673,
          425.1359615284785,
          425.1216242549659,
          425.10722250691083,
          425.09275630528833,
          425.0782256711675,
          425.06363062571114,
          425.0489711901759,
          425.0342473859123,
          425.0194592343645,
          425.00460675707035,
          424.98968997566146,
          424.97470891186316,
          424.9596635874943,
          424.94455402446727,
          424.92938024478815,
          424.9141422705565,
          424.8988401239654,
          424.88347382730126,
          424.868043402944,
          424.8525488733671,
          424.83699026113715,
          424.8213675889142,
          424.80568087945164,
          424.789930155596,
          424.7741154402871,
          424.758236756558,
          424.74229412753493,
          424.72628757643713,
          424.7102171265771,
          424.6940828013603,
          424.67788462428524,
          424.66162261894345,
          424.6452968090194,
          424.62890721829046,
          424.61245387062695,
          424.59593678999204,
          424.5793560004417,
          424.56271152612464,
          424.54600339128245,
          424.5292316202493,
          424.51239623745215,
          424.4954972674105,
          424.47853473473657,
          424.4615086641351,
          424.4444190804034,
          424.42726600843116,
          424.41004947320073,
          424.3927694997867,
          424.37542611335624,
          424.3580193391688,
          424.34054920257597,
          424.3230157290219,
          424.30541894404286,
          424.2877588732673,
          424.27003554241594,
          424.2522489773016,
          424.234399203829,
          424.21648624799525,
          424.1985101358893,
          424.1804708936921,
          424.1623685476764,
          424.1442031242072,
          424.1259746497411,
          424.1076831508266,
          424.08932865410395,
          424.0709111863052,
          424.05243077425416,
          424.03388744486625,
          424.0152812251485,
          423.9966121421996,
          423.9778802232097,
          423.9590854954606,
          423.9402279863255,
          423.921307723269,
          423.90232473384725,
          423.8832790457075,
          423.86417068658864,
          423.84499968432044,
          423.8257660668243,
          423.8064698621126,
          423.7871110982889,
          423.76768980354785,
          423.7482060061753,
          423.72865973454793,
          423.7090510171336,
          423.68937988249104,
          423.6696463592698,
          423.6498504762105,
          423.62999226214436,
          423.61007174599354,
          423.59008895677084,
          423.5700439235798,
          423.5499366756147,
          423.52976724216023,
          423.5095356525918,
          423.48924193637527,
          423.46888612306714,
          423.44846824231405,
          423.4279883238534,
          423.4074463975127,
          423.3868424932097,
          423.3661766409527,
          423.3454488708401,
          423.3246592130603,
          423.303807697892,
          423.2828943557041,
          423.26191921695545,
          423.2408823121947,
          423.21978367206066,
          423.1986233272822,
          423.17740130867764,
          423.1561176471556,
          423.1347723737141,
          423.11336551944106,
          423.09189711551414,
          423.07036719320047,
          423.04877578385697,
          423.02712291892993,
          423.0054086299553,
          422.9836329485584,
          422.96179590645403,
          422.9398975354463,
          422.9179378674286,
          422.8959169343837,
          422.8738347683835,
          422.8516914015893,
          422.82948686625116,
          422.8072211947085,
          422.7848944193898,
          422.76250657281236,
          422.7400576875825,
          422.71754779639554,
          422.6949769320355,
          422.6723451273753,
          422.6496524153766,
          422.62689882908967,
          422.60408440165355,
          422.5812091662959,
          422.5582731563329,
          422.5352764051692,
          422.512218946298,
          422.48910081330087,
          422.4659220398477,
          422.4426826596969,
          422.4193827066949,
          422.39602221477645,
          422.3726012179645,
          422.34911975037005,
          422.32557784619223,
          422.3019755397183,
          422.2783128653232,
          422.2545898574701,
          422.23080655070976,
          422.20696297968107,
          422.1830591791104,
          422.159095183812,
          422.1350710286878,
          422.1109867487272,
          422.08684237900746,
          422.06263795469295,
          422.03837351103584,
          422.01404908337565,
          421.98966470713907,
          421.9652204178403,
          421.9407162510808,
          421.9161522425491,
          421.891528428021,
          421.8668448433594,
          421.8421015245141,
          421.81729850752214,
          421.79243582850734,
          421.7675135236804,
          421.742531629339,
          421.71749018186745,
          421.69238921773695,
          421.66722877350526,
          421.6420088858168,
          421.6167295914026,
          421.5913909270801,
          421.5659929297534,
          421.5405356364129,
          421.51501908413536,
          421.48944331008386,
          421.4638083515076,
          421.4381142457423,
          421.4123610302096,
          421.3865487424171,
          421.36067741995873,
          421.3347471005143,
          421.3087578218494,
          421.2827096218156,
          421.25660253835036,
          421.23043660947684,
          421.2042118733038,
          421.1779283680258,
          421.15158613192284,
          421.1251852033607,
          421.09872562079033,
          421.0722074227484,
          421.0456306478567,
          421.01899533482253,
          420.9923015224383,
          420.9655492495817,
          420.93873855521565,
          420.91186947838787,
          420.88494205823145,
          420.8579563339642,
          420.830912344889,
          420.80381013039346,
          420.7766497299501,
          420.74943118311626,
          420.72215452953367,
          420.69481980892897,
          420.66742706111324,
          420.63997632598216,
          420.61246764351574,
          420.5849010537785,
          420.55727659691917,
          420.52959431317095,
          420.5018542428511,
          420.4740564263611,
          420.4462009041865,
          420.418287716897,
          420.39031690514616,
          420.3622885096715,
          420.33420257129444,
          420.3060591309202,
          420.2778582295377,
          420.2495999082196,
          420.22128420812214,
          420.1929111704852,
          420.16448083663215,
          420.1359932479698,
          420.1074484459882,
          420.07884647226103,
          420.05018736844494,
          420.02147117628,
          419.99269793758924,
          419.963867694279,
          419.93498048833834,
          419.90603636183965,
          419.87703535693794,
          419.84797751587115,
          419.81886288095995,
          419.7896914946079,
          419.76046339930093,
          419.73117863760785,
          419.70183725217976,
          419.67243928575044,
          419.64298478113597,
          419.61347378123463,
          419.58390632902734,
          419.55428246757685,
          419.5246022400284,
          419.494865689609,
          419.46507285962804,
          419.4352237934766,
          419.4053185346277,
          419.3753571266364,
          419.3453396131393,
          419.3152660378548,
          419.2851364445831,
          419.25495087720566,
          419.22470937968575,
          419.194411996068,
          419.16405877047845,
          419.1336497471244,
          419.1031849702945,
          419.07266448435854,
          419.04208833376754,
          419.01145656305346,
          418.98076921682934,
          418.95002633978925,
          418.91922797670793,
          418.88837417244105,
          418.8574649719251,
          418.8265004201771,
          418.79548056229487,
          418.7644054434565,
          418.73327510892085,
          418.70208960402704,
          418.67084897419454,
          418.6395532649232,
          418.6082025217931,
          418.57679679046424,
          418.545336116677,
          418.5138205462516,
          418.4822501250883,
          418.4506248991672,
          418.4189449145482,
          418.3872102173711,
          418.3554208538551,
          418.32357687029935,
          418.29167831308223,
          418.2597252286619,
          418.22771766357573,
          418.1956556644405,
          418.1635392779523,
          418.13136855088635,
          418.09914353009714,
          418.06686426251815,
          418.0345307951618,
          418.0021431751196,
          417.9697014495619,
          417.9372056657377,
          417.90465587097486,
          417.87205211267997,
          417.83939443833805,
          417.8066828955127,
          417.77391753184605,
          417.7410983950586,
          417.70822553294903,
          417.67529899339445,
          417.64231882435,
          417.60928507384904,
          417.57619779000294,
          417.54305702100095,
          417.5098628151103,
          417.4766152206761,
          417.4433142861211,
          417.4099600599458,
          417.37655259072824,
          417.34309192712414,
          417.3095781178666,
          417.2760112117661,
          417.24239125771055,
          417.20871830466507,
          417.17499240167194,
          417.14121359785054,
          417.1073819423974,
          417.07349748458597,
          417.0395602737666,
          417.00557035936635,
          416.9715277908893,
          416.937432617916,
          416.90328489010375,
          416.86908465718625,
          416.8348319689738,
          416.800526875353,
          416.7661694262869,
          416.73175967181464,
          416.6972976620517,
          416.6627834471896,
          416.6282170774958,
          416.5935986033138,
          416.55892807506314,
          416.52420554323885,
          416.4894310584119,
          416.45460467122905,
          416.4197264324123,
          416.3847963927595,
          416.3498146031437,
          416.3147811145136,
          416.2796959778929,
          416.2445592443807,
          416.20937096515115,
          416.1741311914536,
          416.13883997461227,
          416.1034973660263,
          416.0681034171698,
          416.03265817959164,
          415.99716170491524,
          415.9616140448387,
          415.92601525113486,
          415.89036537565073,
          415.8546644703079,
          415.8189125871023,
          415.783109778104,
          415.7472560954573,
          415.7113515913806,
          415.6753963181663,
          415.6393903281807,
          415.60333367386403,
          415.56722640773035,
          415.5310685823673,
          415.4948602504363,
          415.45860146467214,
          415.42229227788334,
          415.3859327429516,
          415.3495229128321,
          415.31306284055313,
          415.27655257921634,
          415.23999218199634,
          415.2033817021408,
          415.16672119297033,
          415.13001070787834,
          415.0932503003312,
          415.05644002386776,
          415.01957993209965,
          414.98267007871107,
          414.9457105174586,
          414.9087013021713,
          414.8716424867505,
          414.83453412516974,
          414.7973762714747,
          414.7601689797834,
          414.72291230428544,
          414.6856062992427,
          414.6482510189887,
          414.61084651792885,
          414.57339285054013,
          414.5358900713713,
          414.4983382350424,
          414.4607373962451,
          414.42308760974254,
          414.38538893036883,
          414.3476414130295,
          414.3098451127012,
          414.2720000844316,
          414.23410638333934,
          414.196164064614,
          414.15817318351577,
          414.12013379537586,
          414.0820459555959,
          414.0439097196482,
          414.00572514307555,
          413.96749228149105,
          413.92921119057826
         ]
        },
        {
         "mode": "text",
         "name": "Text",
         "text": [
          "Angle from null arc end to next ff"
         ],
         "textfont": {
          "color": "LightSeaGreen",
          "family": "sans serif",
          "size": 18
         },
         "textposition": "bottom center",
         "type": "scatter",
         "x": [
          -621.0297747179607
         ],
         "y": [
          426.0859095710431
         ]
        },
        {
         "line": {
          "color": "blue",
          "dash": "dash",
          "width": 2
         },
         "mode": "lines",
         "name": "Next FF",
         "type": "scatter",
         "x": [
          -838.4773928955099,
          -824.3809822841179
         ],
         "y": [
          380.8527369898944,
          466.7908622879888
         ]
        }
       ],
       "layout": {
        "autosize": false,
        "coloraxis": {
         "showscale": false
        },
        "height": 700,
        "legend": {
         "tracegroupgap": 0
        },
        "margin": {
         "b": 0,
         "l": 10,
         "r": 10,
         "t": 20
        },
        "plot_bgcolor": "white",
        "shapes": [
         {
          "fillcolor": "rgba(128, 128, 128, 0.25)",
          "line": {
           "color": "rgba(255, 165, 0, 0.45)"
          },
          "type": "circle",
          "x0": -860.4057061711231,
          "x1": -810.4057061711231,
          "xref": "x",
          "y0": 352.9051423698223,
          "y1": 402.9051423698223,
          "yref": "y"
         },
         {
          "fillcolor": "rgba(128, 128, 128, 0.25)",
          "line": {
           "color": "rgba(255, 165, 0, 0.45)"
          },
          "type": "circle",
          "x0": -849.3809822841179,
          "x1": -799.3809822841179,
          "xref": "x",
          "y0": 441.7908622879888,
          "y1": 491.7908622879888,
          "yref": "y"
         }
        ],
        "template": {
         "data": {
          "bar": [
           {
            "error_x": {
             "color": "#2a3f5f"
            },
            "error_y": {
             "color": "#2a3f5f"
            },
            "marker": {
             "line": {
              "color": "#E5ECF6",
              "width": 0.5
             },
             "pattern": {
              "fillmode": "overlay",
              "size": 10,
              "solidity": 0.2
             }
            },
            "type": "bar"
           }
          ],
          "barpolar": [
           {
            "marker": {
             "line": {
              "color": "#E5ECF6",
              "width": 0.5
             },
             "pattern": {
              "fillmode": "overlay",
              "size": 10,
              "solidity": 0.2
             }
            },
            "type": "barpolar"
           }
          ],
          "carpet": [
           {
            "aaxis": {
             "endlinecolor": "#2a3f5f",
             "gridcolor": "white",
             "linecolor": "white",
             "minorgridcolor": "white",
             "startlinecolor": "#2a3f5f"
            },
            "baxis": {
             "endlinecolor": "#2a3f5f",
             "gridcolor": "white",
             "linecolor": "white",
             "minorgridcolor": "white",
             "startlinecolor": "#2a3f5f"
            },
            "type": "carpet"
           }
          ],
          "choropleth": [
           {
            "colorbar": {
             "outlinewidth": 0,
             "ticks": ""
            },
            "type": "choropleth"
           }
          ],
          "contour": [
           {
            "colorbar": {
             "outlinewidth": 0,
             "ticks": ""
            },
            "colorscale": [
             [
              0,
              "#0d0887"
             ],
             [
              0.1111111111111111,
              "#46039f"
             ],
             [
              0.2222222222222222,
              "#7201a8"
             ],
             [
              0.3333333333333333,
              "#9c179e"
             ],
             [
              0.4444444444444444,
              "#bd3786"
             ],
             [
              0.5555555555555556,
              "#d8576b"
             ],
             [
              0.6666666666666666,
              "#ed7953"
             ],
             [
              0.7777777777777778,
              "#fb9f3a"
             ],
             [
              0.8888888888888888,
              "#fdca26"
             ],
             [
              1,
              "#f0f921"
             ]
            ],
            "type": "contour"
           }
          ],
          "contourcarpet": [
           {
            "colorbar": {
             "outlinewidth": 0,
             "ticks": ""
            },
            "type": "contourcarpet"
           }
          ],
          "heatmap": [
           {
            "colorbar": {
             "outlinewidth": 0,
             "ticks": ""
            },
            "colorscale": [
             [
              0,
              "#0d0887"
             ],
             [
              0.1111111111111111,
              "#46039f"
             ],
             [
              0.2222222222222222,
              "#7201a8"
             ],
             [
              0.3333333333333333,
              "#9c179e"
             ],
             [
              0.4444444444444444,
              "#bd3786"
             ],
             [
              0.5555555555555556,
              "#d8576b"
             ],
             [
              0.6666666666666666,
              "#ed7953"
             ],
             [
              0.7777777777777778,
              "#fb9f3a"
             ],
             [
              0.8888888888888888,
              "#fdca26"
             ],
             [
              1,
              "#f0f921"
             ]
            ],
            "type": "heatmap"
           }
          ],
          "heatmapgl": [
           {
            "colorbar": {
             "outlinewidth": 0,
             "ticks": ""
            },
            "colorscale": [
             [
              0,
              "#0d0887"
             ],
             [
              0.1111111111111111,
              "#46039f"
             ],
             [
              0.2222222222222222,
              "#7201a8"
             ],
             [
              0.3333333333333333,
              "#9c179e"
             ],
             [
              0.4444444444444444,
              "#bd3786"
             ],
             [
              0.5555555555555556,
              "#d8576b"
             ],
             [
              0.6666666666666666,
              "#ed7953"
             ],
             [
              0.7777777777777778,
              "#fb9f3a"
             ],
             [
              0.8888888888888888,
              "#fdca26"
             ],
             [
              1,
              "#f0f921"
             ]
            ],
            "type": "heatmapgl"
           }
          ],
          "histogram": [
           {
            "marker": {
             "pattern": {
              "fillmode": "overlay",
              "size": 10,
              "solidity": 0.2
             }
            },
            "type": "histogram"
           }
          ],
          "histogram2d": [
           {
            "colorbar": {
             "outlinewidth": 0,
             "ticks": ""
            },
            "colorscale": [
             [
              0,
              "#0d0887"
             ],
             [
              0.1111111111111111,
              "#46039f"
             ],
             [
              0.2222222222222222,
              "#7201a8"
             ],
             [
              0.3333333333333333,
              "#9c179e"
             ],
             [
              0.4444444444444444,
              "#bd3786"
             ],
             [
              0.5555555555555556,
              "#d8576b"
             ],
             [
              0.6666666666666666,
              "#ed7953"
             ],
             [
              0.7777777777777778,
              "#fb9f3a"
             ],
             [
              0.8888888888888888,
              "#fdca26"
             ],
             [
              1,
              "#f0f921"
             ]
            ],
            "type": "histogram2d"
           }
          ],
          "histogram2dcontour": [
           {
            "colorbar": {
             "outlinewidth": 0,
             "ticks": ""
            },
            "colorscale": [
             [
              0,
              "#0d0887"
             ],
             [
              0.1111111111111111,
              "#46039f"
             ],
             [
              0.2222222222222222,
              "#7201a8"
             ],
             [
              0.3333333333333333,
              "#9c179e"
             ],
             [
              0.4444444444444444,
              "#bd3786"
             ],
             [
              0.5555555555555556,
              "#d8576b"
             ],
             [
              0.6666666666666666,
              "#ed7953"
             ],
             [
              0.7777777777777778,
              "#fb9f3a"
             ],
             [
              0.8888888888888888,
              "#fdca26"
             ],
             [
              1,
              "#f0f921"
             ]
            ],
            "type": "histogram2dcontour"
           }
          ],
          "mesh3d": [
           {
            "colorbar": {
             "outlinewidth": 0,
             "ticks": ""
            },
            "type": "mesh3d"
           }
          ],
          "parcoords": [
           {
            "line": {
             "colorbar": {
              "outlinewidth": 0,
              "ticks": ""
             }
            },
            "type": "parcoords"
           }
          ],
          "pie": [
           {
            "automargin": true,
            "type": "pie"
           }
          ],
          "scatter": [
           {
            "fillpattern": {
             "fillmode": "overlay",
             "size": 10,
             "solidity": 0.2
            },
            "type": "scatter"
           }
          ],
          "scatter3d": [
           {
            "line": {
             "colorbar": {
              "outlinewidth": 0,
              "ticks": ""
             }
            },
            "marker": {
             "colorbar": {
              "outlinewidth": 0,
              "ticks": ""
             }
            },
            "type": "scatter3d"
           }
          ],
          "scattercarpet": [
           {
            "marker": {
             "colorbar": {
              "outlinewidth": 0,
              "ticks": ""
             }
            },
            "type": "scattercarpet"
           }
          ],
          "scattergeo": [
           {
            "marker": {
             "colorbar": {
              "outlinewidth": 0,
              "ticks": ""
             }
            },
            "type": "scattergeo"
           }
          ],
          "scattergl": [
           {
            "marker": {
             "colorbar": {
              "outlinewidth": 0,
              "ticks": ""
             }
            },
            "type": "scattergl"
           }
          ],
          "scattermapbox": [
           {
            "marker": {
             "colorbar": {
              "outlinewidth": 0,
              "ticks": ""
             }
            },
            "type": "scattermapbox"
           }
          ],
          "scatterpolar": [
           {
            "marker": {
             "colorbar": {
              "outlinewidth": 0,
              "ticks": ""
             }
            },
            "type": "scatterpolar"
           }
          ],
          "scatterpolargl": [
           {
            "marker": {
             "colorbar": {
              "outlinewidth": 0,
              "ticks": ""
             }
            },
            "type": "scatterpolargl"
           }
          ],
          "scatterternary": [
           {
            "marker": {
             "colorbar": {
              "outlinewidth": 0,
              "ticks": ""
             }
            },
            "type": "scatterternary"
           }
          ],
          "surface": [
           {
            "colorbar": {
             "outlinewidth": 0,
             "ticks": ""
            },
            "colorscale": [
             [
              0,
              "#0d0887"
             ],
             [
              0.1111111111111111,
              "#46039f"
             ],
             [
              0.2222222222222222,
              "#7201a8"
             ],
             [
              0.3333333333333333,
              "#9c179e"
             ],
             [
              0.4444444444444444,
              "#bd3786"
             ],
             [
              0.5555555555555556,
              "#d8576b"
             ],
             [
              0.6666666666666666,
              "#ed7953"
             ],
             [
              0.7777777777777778,
              "#fb9f3a"
             ],
             [
              0.8888888888888888,
              "#fdca26"
             ],
             [
              1,
              "#f0f921"
             ]
            ],
            "type": "surface"
           }
          ],
          "table": [
           {
            "cells": {
             "fill": {
              "color": "#EBF0F8"
             },
             "line": {
              "color": "white"
             }
            },
            "header": {
             "fill": {
              "color": "#C8D4E3"
             },
             "line": {
              "color": "white"
             }
            },
            "type": "table"
           }
          ]
         },
         "layout": {
          "annotationdefaults": {
           "arrowcolor": "#2a3f5f",
           "arrowhead": 0,
           "arrowwidth": 1
          },
          "autotypenumbers": "strict",
          "coloraxis": {
           "colorbar": {
            "outlinewidth": 0,
            "ticks": ""
           }
          },
          "colorscale": {
           "diverging": [
            [
             0,
             "#8e0152"
            ],
            [
             0.1,
             "#c51b7d"
            ],
            [
             0.2,
             "#de77ae"
            ],
            [
             0.3,
             "#f1b6da"
            ],
            [
             0.4,
             "#fde0ef"
            ],
            [
             0.5,
             "#f7f7f7"
            ],
            [
             0.6,
             "#e6f5d0"
            ],
            [
             0.7,
             "#b8e186"
            ],
            [
             0.8,
             "#7fbc41"
            ],
            [
             0.9,
             "#4d9221"
            ],
            [
             1,
             "#276419"
            ]
           ],
           "sequential": [
            [
             0,
             "#0d0887"
            ],
            [
             0.1111111111111111,
             "#46039f"
            ],
            [
             0.2222222222222222,
             "#7201a8"
            ],
            [
             0.3333333333333333,
             "#9c179e"
            ],
            [
             0.4444444444444444,
             "#bd3786"
            ],
            [
             0.5555555555555556,
             "#d8576b"
            ],
            [
             0.6666666666666666,
             "#ed7953"
            ],
            [
             0.7777777777777778,
             "#fb9f3a"
            ],
            [
             0.8888888888888888,
             "#fdca26"
            ],
            [
             1,
             "#f0f921"
            ]
           ],
           "sequentialminus": [
            [
             0,
             "#0d0887"
            ],
            [
             0.1111111111111111,
             "#46039f"
            ],
            [
             0.2222222222222222,
             "#7201a8"
            ],
            [
             0.3333333333333333,
             "#9c179e"
            ],
            [
             0.4444444444444444,
             "#bd3786"
            ],
            [
             0.5555555555555556,
             "#d8576b"
            ],
            [
             0.6666666666666666,
             "#ed7953"
            ],
            [
             0.7777777777777778,
             "#fb9f3a"
            ],
            [
             0.8888888888888888,
             "#fdca26"
            ],
            [
             1,
             "#f0f921"
            ]
           ]
          },
          "colorway": [
           "#636efa",
           "#EF553B",
           "#00cc96",
           "#ab63fa",
           "#FFA15A",
           "#19d3f3",
           "#FF6692",
           "#B6E880",
           "#FF97FF",
           "#FECB52"
          ],
          "font": {
           "color": "#2a3f5f"
          },
          "geo": {
           "bgcolor": "white",
           "lakecolor": "white",
           "landcolor": "#E5ECF6",
           "showlakes": true,
           "showland": true,
           "subunitcolor": "white"
          },
          "hoverlabel": {
           "align": "left"
          },
          "hovermode": "closest",
          "mapbox": {
           "style": "light"
          },
          "paper_bgcolor": "white",
          "plot_bgcolor": "#E5ECF6",
          "polar": {
           "angularaxis": {
            "gridcolor": "white",
            "linecolor": "white",
            "ticks": ""
           },
           "bgcolor": "#E5ECF6",
           "radialaxis": {
            "gridcolor": "white",
            "linecolor": "white",
            "ticks": ""
           }
          },
          "scene": {
           "xaxis": {
            "backgroundcolor": "#E5ECF6",
            "gridcolor": "white",
            "gridwidth": 2,
            "linecolor": "white",
            "showbackground": true,
            "ticks": "",
            "zerolinecolor": "white"
           },
           "yaxis": {
            "backgroundcolor": "#E5ECF6",
            "gridcolor": "white",
            "gridwidth": 2,
            "linecolor": "white",
            "showbackground": true,
            "ticks": "",
            "zerolinecolor": "white"
           },
           "zaxis": {
            "backgroundcolor": "#E5ECF6",
            "gridcolor": "white",
            "gridwidth": 2,
            "linecolor": "white",
            "showbackground": true,
            "ticks": "",
            "zerolinecolor": "white"
           }
          },
          "shapedefaults": {
           "line": {
            "color": "#2a3f5f"
           }
          },
          "ternary": {
           "aaxis": {
            "gridcolor": "white",
            "linecolor": "white",
            "ticks": ""
           },
           "baxis": {
            "gridcolor": "white",
            "linecolor": "white",
            "ticks": ""
           },
           "bgcolor": "#E5ECF6",
           "caxis": {
            "gridcolor": "white",
            "linecolor": "white",
            "ticks": ""
           }
          },
          "title": {
           "x": 0.05
          },
          "xaxis": {
           "automargin": true,
           "gridcolor": "white",
           "linecolor": "white",
           "ticks": "",
           "title": {
            "standoff": 15
           },
           "zerolinecolor": "white",
           "zerolinewidth": 2
          },
          "yaxis": {
           "automargin": true,
           "gridcolor": "white",
           "linecolor": "white",
           "ticks": "",
           "title": {
            "standoff": 15
           },
           "zerolinecolor": "white",
           "zerolinewidth": 2
          }
         }
        },
        "width": 1050,
        "xaxis": {
         "anchor": "y",
         "domain": [
          0,
          1
         ],
         "range": [
          -968.1032368639756,
          -721.883972805073
         ],
         "showgrid": false,
         "title": {
          "text": "monkey x after rotation (cm)"
         },
         "zeroline": false
        },
        "yaxis": {
         "anchor": "x",
         "domain": [
          0,
          1
         ],
         "range": [
          128.4850012007763,
          812.6884203381534
         ],
         "scaleanchor": "x",
         "scaleratio": 1,
         "showgrid": false,
         "title": {
          "text": "monkey y after rotation (cm)"
         },
         "zeroline": false
        }
       }
      }
     },
     "metadata": {},
     "output_type": "display_data"
    }
   ],
   "source": [
    "index = fixed_current_i    \n",
    "\n",
    "null_arc_info = snf.plotly_inst.cur_null_arc_info_for_the_point    \n",
    "null_arc_xy_rotated = show_null_trajectory.find_arc_xy_rotated(null_arc_info.loc[index, 'center_x'], null_arc_info.loc[index, 'center_y'], null_arc_info.loc[index, 'all_arc_radius'],\n",
    "                                                                  null_arc_info.loc[index, 'arc_starting_angle'], null_arc_info.loc[index, 'arc_ending_angle'], rotation_matrix=None)\n",
    "\n",
    "null_arc_end_x = null_arc_xy_rotated[0, -1]\n",
    "null_arc_end_y = null_arc_xy_rotated[1, -1]\n",
    "null_arc_end_angle = snf.plotly_inst.mheading_for_cur_ff_for_all_counted_points['monkey_angle'][fixed_current_i, 1]\n",
    "\n",
    "line_of_cur_null_heading = illustrate_concepts.find_line_of_heading(null_arc_end_x, null_arc_end_y, null_arc_end_angle, line_length=line_length, rotation_matrix=snf.plotly_inst.current_plotly_key_comp['rotation_matrix'])\n",
    "\n",
    "line_cur_and_nxt_ff = illustrate_concepts._calculate_rotated_line(null_arc_end_x, null_arc_end_y, \n",
    "                                            snf.stops_near_ff_df_counted.iloc[fixed_current_i]['nxt_ff_x'], \n",
    "                                            snf.stops_near_ff_df_counted.iloc[fixed_current_i]['nxt_ff_y'], \n",
    "                                            snf.plotly_inst.current_plotly_key_comp['rotation_matrix'])\n",
    "\n",
    "arc_radius = line_length / 2\n",
    "arc_center = line_cur_and_nxt_ff[:, 0]\n",
    "arc_end_1 = line_cur_and_nxt_ff[:, 1]\n",
    "arc_end_2 = line_of_cur_null_heading[:, 1]\n",
    "arc_xy = illustrate_concepts.calculate_arc_to_show_angle(\n",
    "    arc_center, arc_end_1, arc_end_2, arc_radius, None\n",
    ")\n",
    "\n",
    "\n",
    "# Make individual plots for stops near ff in Plotly\n",
    "current_i = snf.make_individual_plots_for_stops_near_ff_in_plotly(\n",
    "    fixed_current_i, max_num_plot_to_make=1, show_fig=False, **kwargs\n",
    ")\n",
    "illustrate_concepts.plot_with_additional_elements(snf,\n",
    "                                  line_of_cur_null_heading, line_cur_and_nxt_ff,\n",
    "                                  arc_xy,\n",
    "                                  arc_label='Angle from null arc end to next ff'\n",
    "                                  )\n",
    "snf.plotly_inst.fig.show()"
   ]
  },
  {
   "cell_type": "markdown",
   "metadata": {},
   "source": [
    "### show angle from monkey stop to next ff"
   ]
  },
  {
   "cell_type": "code",
   "execution_count": null,
   "metadata": {},
   "outputs": [
    {
     "name": "stdout",
     "output_type": "stream",
     "text": [
      "diff_in_abs: 23.129644454407348\n",
      "duration_to_plot: [92.99202, 99.537932]\n"
     ]
    },
    {
     "data": {
      "application/vnd.plotly.v1+json": {
       "config": {
        "plotlyServerURL": "https://plot.ly"
       },
       "data": [
        {
         "customdata": [
          [
           1
          ],
          [
           2
          ]
         ],
         "hovertemplate": "ff %{customdata[0]}",
         "legendgroup": "",
         "marker": {
          "color": "red",
          "symbol": "circle"
         },
         "mode": "markers",
         "name": "plot_ff",
         "orientation": "v",
         "showlegend": false,
         "type": "scatter",
         "x": [
          -835.4057061711231,
          -824.3809822841179
         ],
         "xaxis": "x",
         "y": [
          377.9051423698223,
          466.7908622879888
         ],
         "yaxis": "y"
        },
        {
         "customdata": [
          [
           -3.98,
           12.653980801568904
          ],
          [
           -3.97,
           17.414648836941378
          ],
          [
           -3.95,
           28.421349345025178
          ],
          [
           -3.93,
           28.508149473147824
          ],
          [
           -3.92,
           39.63895723615526
          ],
          [
           -3.9,
           44.31313119229701
          ],
          [
           -3.88,
           50.6099179814209
          ],
          [
           -3.87,
           55.98135127413572
          ],
          [
           -3.85,
           73.67012354940167
          ],
          [
           -3.83,
           76.12268725712465
          ],
          [
           -3.82,
           75.96213549428354
          ],
          [
           -3.8,
           75.89982227836218
          ],
          [
           -3.78,
           68.22832453018795
          ],
          [
           -3.77,
           48.99005176765887
          ],
          [
           -3.75,
           38.00945535027977
          ],
          [
           -3.73,
           25.25815422341678
          ],
          [
           -3.72,
           6.338206112544746
          ],
          [
           -3.7,
           0
          ],
          [
           -3.69,
           0
          ],
          [
           -3.67,
           0
          ],
          [
           -3.65,
           0
          ],
          [
           -3.64,
           0
          ],
          [
           -3.62,
           0
          ],
          [
           -3.6,
           0
          ],
          [
           -3.59,
           0
          ],
          [
           -3.57,
           0
          ],
          [
           -3.55,
           0
          ],
          [
           -3.54,
           0
          ],
          [
           -3.52,
           0
          ],
          [
           -3.5,
           0
          ],
          [
           -3.49,
           0
          ],
          [
           -3.47,
           0
          ],
          [
           -3.45,
           0
          ],
          [
           -3.44,
           0
          ],
          [
           -3.42,
           0
          ],
          [
           -3.4,
           0
          ],
          [
           -3.39,
           0
          ],
          [
           -3.37,
           0
          ],
          [
           -3.35,
           0
          ],
          [
           -3.34,
           0
          ],
          [
           -3.32,
           0
          ],
          [
           -3.3,
           0
          ],
          [
           -3.29,
           0
          ],
          [
           -3.27,
           0
          ],
          [
           -3.25,
           0
          ],
          [
           -3.24,
           0
          ],
          [
           -3.22,
           9.521659410792278
          ],
          [
           -3.2,
           12.421712399828284
          ],
          [
           -3.19,
           17.43335490340366
          ],
          [
           -3.17,
           23.6482886442092
          ],
          [
           -3.15,
           48.16439460612037
          ],
          [
           -3.14,
           58.5402302863967
          ],
          [
           -3.12,
           79.60482255191454
          ],
          [
           -3.1,
           86.92749330035903
          ],
          [
           -3.09,
           96.23058776624002
          ],
          [
           -3.07,
           103.11357995859714
          ],
          [
           -3.05,
           107.41391493920028
          ],
          [
           -3.04,
           114.02726463808015
          ],
          [
           -3.02,
           112.42904118314526
          ],
          [
           -3,
           106.13985042832978
          ],
          [
           -2.99,
           99.56846153402071
          ],
          [
           -2.97,
           79.23379481978068
          ],
          [
           -2.95,
           71.2761968899435
          ],
          [
           -2.94,
           24.146284058948048
          ],
          [
           -2.92,
           14.258913266757686
          ],
          [
           -2.9,
           7.896286428878989
          ],
          [
           -2.89,
           0
          ],
          [
           -2.87,
           0
          ],
          [
           -2.86,
           0
          ],
          [
           -2.84,
           0
          ],
          [
           -2.81,
           0
          ],
          [
           -2.81,
           0
          ],
          [
           -2.79,
           0
          ],
          [
           -2.79,
           0
          ],
          [
           -2.79,
           0
          ],
          [
           -2.77,
           0
          ],
          [
           -2.76,
           0
          ],
          [
           -2.74,
           0
          ],
          [
           -2.72,
           0
          ],
          [
           -2.71,
           0
          ],
          [
           -2.69,
           0
          ],
          [
           -2.67,
           0
          ],
          [
           -2.66,
           0
          ],
          [
           -2.64,
           0
          ],
          [
           -2.62,
           0
          ],
          [
           -2.61,
           0
          ],
          [
           -2.59,
           0
          ],
          [
           -2.57,
           0
          ],
          [
           -2.56,
           0
          ],
          [
           -2.54,
           0
          ],
          [
           -2.52,
           6.336948367852992
          ],
          [
           -2.51,
           7.916274617778194
          ],
          [
           -2.49,
           12.63355377251908
          ],
          [
           -2.47,
           18.922509929496147
          ],
          [
           -2.46,
           22.301214092217457
          ],
          [
           -2.44,
           22.00218377594028
          ],
          [
           -2.42,
           30.20879421147645
          ],
          [
           -2.41,
           36.384004048891335
          ],
          [
           -2.39,
           39.69139001443375
          ],
          [
           -2.37,
           52.000096887121344
          ],
          [
           -2.36,
           58.51399230013645
          ],
          [
           -2.34,
           75.95177382244641
          ],
          [
           -2.32,
           80.62688320926762
          ],
          [
           -2.31,
           95.00473225250296
          ],
          [
           -2.29,
           103.20430715248736
          ],
          [
           -2.27,
           109.25735592926304
          ],
          [
           -2.26,
           144.03865458691027
          ],
          [
           -2.24,
           151.57019018852827
          ],
          [
           -2.22,
           152.17415724859603
          ],
          [
           -2.21,
           151.73498209850786
          ],
          [
           -2.19,
           152.06174902199933
          ],
          [
           -2.17,
           151.10283875167846
          ],
          [
           -2.16,
           152.46288817163577
          ],
          [
           -2.14,
           151.8666517727239
          ],
          [
           -2.12,
           152.06024726420412
          ],
          [
           -2.11,
           151.88264120265936
          ],
          [
           -2.09,
           151.98675470981087
          ],
          [
           -2.07,
           140.82049477571928
          ],
          [
           -2.06,
           121.78467359827584
          ],
          [
           -2.04,
           117.12937056532516
          ],
          [
           -2.03,
           117.1139700141256
          ],
          [
           -2.01,
           114.9794051840314
          ],
          [
           -1.99,
           114.50093032692666
          ],
          [
           -1.98,
           113.93990093123736
          ],
          [
           -1.96,
           107.50043855915388
          ],
          [
           -1.94,
           101.04776255568622
          ],
          [
           -1.93,
           98.3921067134122
          ],
          [
           -1.91,
           98.04329413799128
          ],
          [
           -1.89,
           93.41975939055776
          ],
          [
           -1.88,
           89.34260320995588
          ],
          [
           -1.84,
           90.5134610702282
          ],
          [
           -1.84,
           91.0867113973426
          ],
          [
           -1.83,
           93.14993338052328
          ],
          [
           -1.81,
           93.31114912818865
          ],
          [
           -1.79,
           93.3015147394648
          ],
          [
           -1.78,
           99.92509034761196
          ],
          [
           -1.76,
           104.22213381347996
          ],
          [
           -1.74,
           110.84184807963538
          ],
          [
           -1.73,
           151.967944471033
          ],
          [
           -1.71,
           152.05630631309467
          ],
          [
           -1.69,
           151.4753800463179
          ],
          [
           -1.68,
           155.35267590020243
          ],
          [
           -1.66,
           172.1084594987942
          ],
          [
           -1.64,
           177.7524010017718
          ],
          [
           -1.63,
           187.12190782199085
          ],
          [
           -1.61,
           199.45201169727875
          ],
          [
           -1.59,
           198.02556212549052
          ],
          [
           -1.58,
           199.19314366240351
          ],
          [
           -1.56,
           199.6505329718897
          ],
          [
           -1.54,
           199.00374773745003
          ],
          [
           -1.53,
           199.11153780919733
          ],
          [
           -1.51,
           198.83980796914776
          ],
          [
           -1.49,
           196.32549007659705
          ],
          [
           -1.48,
           187.102150915091
          ],
          [
           -1.46,
           186.8148405170575
          ],
          [
           -1.44,
           179.00143346999795
          ],
          [
           -1.43,
           156.97283200010511
          ],
          [
           -1.41,
           152.22881052558498
          ],
          [
           -1.39,
           102.67831134549746
          ],
          [
           -1.38,
           82.44571378629124
          ],
          [
           -1.36,
           64.73250090474987
          ],
          [
           -1.34,
           25.37246800938325
          ],
          [
           -1.33,
           12.620458319685902
          ],
          [
           -1.31,
           6.327224800039095
          ],
          [
           -1.29,
           0
          ],
          [
           -1.28,
           0
          ],
          [
           -1.26,
           0
          ],
          [
           -1.24,
           0
          ],
          [
           -1.23,
           0
          ],
          [
           -1.21,
           0
          ],
          [
           -1.2,
           0
          ],
          [
           -1.18,
           0
          ],
          [
           -1.16,
           0
          ],
          [
           -1.15,
           0
          ],
          [
           -1.13,
           0
          ],
          [
           -1.11,
           0
          ],
          [
           -1.1,
           0
          ],
          [
           -1.08,
           0
          ],
          [
           -1.06,
           0
          ],
          [
           -1.05,
           12.66424739281621
          ],
          [
           -1.03,
           25.240942382387665
          ],
          [
           -1.01,
           25.369975144527547
          ],
          [
           -1,
           39.49253645311096
          ],
          [
           -0.98,
           47.61151150975611
          ],
          [
           -0.96,
           55.47270859748985
          ],
          [
           -0.95,
           75.70013878214979
          ],
          [
           -0.93,
           87.19873343286386
          ],
          [
           -0.91,
           91.70838678957632
          ],
          [
           -0.9,
           96.4732400247952
          ],
          [
           -0.88,
           96.69455035895858
          ],
          [
           -0.86,
           99.39252064867809
          ],
          [
           -0.85,
           93.42117381897312
          ],
          [
           -0.83,
           87.28546200097833
          ],
          [
           -0.81,
           79.01008851169634
          ],
          [
           -0.8,
           71.31952633102784
          ],
          [
           -0.78,
           44.32115028670475
          ],
          [
           -0.76,
           44.21062999814172
          ],
          [
           -0.75,
           18.983489653738147
          ],
          [
           -0.73,
           11.047235028497369
          ],
          [
           -0.71,
           0
          ],
          [
           -0.7,
           0
          ],
          [
           -0.68,
           0
          ],
          [
           -0.66,
           0
          ],
          [
           -0.65,
           0
          ],
          [
           -0.63,
           0
          ],
          [
           -0.61,
           0
          ],
          [
           -0.6,
           0
          ],
          [
           -0.58,
           0
          ],
          [
           -0.56,
           0
          ],
          [
           -0.55,
           0
          ],
          [
           -0.53,
           0
          ],
          [
           -0.51,
           0
          ],
          [
           -0.5,
           0
          ],
          [
           -0.48,
           0
          ],
          [
           -0.46,
           0
          ],
          [
           -0.45,
           0
          ],
          [
           -0.43,
           0
          ],
          [
           -0.41,
           0
          ],
          [
           -0.4,
           0
          ],
          [
           -0.38,
           0
          ],
          [
           -0.37,
           0
          ],
          [
           -0.35,
           6.316382553530114
          ],
          [
           -0.33,
           7.900456896055404
          ],
          [
           -0.32,
           11.12097870909396
          ],
          [
           -0.3,
           18.95516890844514
          ],
          [
           -0.28,
           30.02362425941304
          ],
          [
           -0.27,
           30.19012886018612
          ],
          [
           -0.25,
           45.72035365228064
          ],
          [
           -0.23,
           54.00568978096952
          ],
          [
           -0.22,
           61.39596286811536
          ],
          [
           -0.2,
           74.7440617862546
          ],
          [
           -0.18,
           83.57165076042546
          ],
          [
           -0.17,
           90.1915500993083
          ],
          [
           -0.15,
           95.26403776979744
          ],
          [
           -0.13,
           97.67539794376064
          ],
          [
           -0.12,
           98.30917241079798
          ],
          [
           -0.1,
           98.12760896145456
          ],
          [
           -0.08,
           95.0066858712662
          ],
          [
           -0.07,
           80.73255600388018
          ],
          [
           -0.05,
           56.83322487524023
          ],
          [
           -0.03,
           22.22649972032617
          ],
          [
           -0.02,
           22.110956475026168
          ],
          [
           0,
           0
          ],
          [
           0.02,
           0
          ],
          [
           0.03,
           0
          ],
          [
           0.05,
           0
          ],
          [
           0.08,
           0
          ],
          [
           0.08,
           0
          ],
          [
           0.09,
           0
          ],
          [
           0.1,
           0
          ],
          [
           0.1,
           0
          ],
          [
           0.12,
           0
          ],
          [
           0.13,
           0
          ],
          [
           0.15,
           0
          ],
          [
           0.17,
           0
          ],
          [
           0.18,
           0
          ],
          [
           0.2,
           0
          ],
          [
           0.22,
           0
          ],
          [
           0.23,
           0
          ],
          [
           0.25,
           0
          ],
          [
           0.27,
           0
          ],
          [
           0.28,
           0
          ],
          [
           0.3,
           0
          ],
          [
           0.32,
           0
          ],
          [
           0.33,
           6.326773611298756
          ],
          [
           0.35,
           11.044851200468928
          ],
          [
           0.37,
           15.811452135810883
          ],
          [
           0.38,
           20.567930483768453
          ],
          [
           0.4,
           34.88899610142453
          ],
          [
           0.41,
           49.0361401839406
          ],
          [
           0.43,
           48.97003554259008
          ],
          [
           0.45,
           58.64931589338706
          ],
          [
           0.46,
           77.46964911929754
          ],
          [
           0.48,
           85.53191371850929
          ],
          [
           0.5,
           104.6212605730221
          ],
          [
           0.51,
           113.24605158656328
          ],
          [
           0.53,
           22.113167076445407
          ],
          [
           0.55,
           200
          ],
          [
           0.56,
           149.5832990031746
          ],
          [
           0.58,
           155.2163606341246
          ],
          [
           0.6,
           153.32417043206598
          ],
          [
           0.61,
           157.7286121832206
          ],
          [
           0.63,
           158.78717097946753
          ],
          [
           0.65,
           160.96370268549012
          ],
          [
           0.66,
           166.04779735180384
          ],
          [
           0.68,
           167.92310557469722
          ],
          [
           0.7,
           169.49415488711475
          ],
          [
           0.71,
           173.5312534413969
          ],
          [
           0.73,
           177.45167806271652
          ],
          [
           0.75,
           179.2307071138398
          ],
          [
           0.76,
           183.0924778844902
          ],
          [
           0.78,
           180.2793938426704
          ],
          [
           0.8,
           188.93419028947807
          ],
          [
           0.81,
           184.6593551212728
          ],
          [
           0.83,
           185.9242198626918
          ],
          [
           0.85,
           184.3897784753668
          ],
          [
           0.86,
           178.49099780375204
          ],
          [
           0.88,
           174.90894937054742
          ],
          [
           0.9,
           165.95246829791958
          ],
          [
           0.91,
           156.43071520920583
          ],
          [
           0.93,
           152.00815875298056
          ],
          [
           0.95,
           102.6582905058452
          ],
          [
           0.96,
           103.18818572911816
          ],
          [
           0.98,
           74.47933200624817
          ],
          [
           1,
           53.72505017530353
          ],
          [
           1.01,
           23.702107286736517
          ],
          [
           1.03,
           23.368521342887103
          ],
          [
           1.05,
           0
          ],
          [
           1.06,
           0
          ],
          [
           1.08,
           0
          ],
          [
           1.1,
           0
          ],
          [
           1.12,
           0
          ],
          [
           1.13,
           0
          ],
          [
           1.14,
           0
          ],
          [
           1.14,
           0
          ],
          [
           1.15,
           0
          ],
          [
           1.16,
           0
          ],
          [
           1.18,
           0
          ],
          [
           1.2,
           0
          ],
          [
           1.21,
           0
          ],
          [
           1.23,
           0
          ],
          [
           1.25,
           0
          ],
          [
           1.26,
           0
          ],
          [
           1.28,
           0
          ],
          [
           1.29,
           0
          ],
          [
           1.31,
           0
          ],
          [
           1.33,
           0
          ],
          [
           1.34,
           0
          ],
          [
           1.36,
           0
          ],
          [
           1.38,
           0
          ],
          [
           1.39,
           0
          ],
          [
           1.41,
           0
          ],
          [
           1.43,
           0
          ],
          [
           1.44,
           0
          ],
          [
           1.46,
           0
          ],
          [
           1.48,
           0
          ],
          [
           1.49,
           0
          ],
          [
           1.51,
           0
          ],
          [
           1.53,
           0
          ],
          [
           1.54,
           0
          ],
          [
           1.56,
           0
          ],
          [
           1.58,
           0
          ],
          [
           1.59,
           0
          ],
          [
           1.61,
           6.310346648790692
          ],
          [
           1.63,
           7.911834571733487
          ],
          [
           1.64,
           11.06878522400689
          ],
          [
           1.66,
           15.700838325922932
          ],
          [
           1.68,
           20.62890671924408
          ],
          [
           1.69,
           23.8531011715794
          ],
          [
           1.71,
           26.939833022047036
          ],
          [
           1.73,
           31.7130529644351
          ],
          [
           1.74,
           37.83558328292797
          ],
          [
           1.76,
           41.0591031088826
          ],
          [
           1.78,
           46.10744514766106
          ],
          [
           1.79,
           45.9122226662171
          ],
          [
           1.81,
           52.0603978096085
          ],
          [
           1.83,
           56.91453814289642
          ],
          [
           1.84,
           64.95323258589598
          ],
          [
           1.86,
           72.76438810150269
          ],
          [
           1.88,
           77.51932682215099
          ],
          [
           1.89,
           77.55244455570795
          ],
          [
           1.91,
           82.1648111816541
          ],
          [
           1.93,
           86.89385171439103
          ],
          [
           1.94,
           90.61206443134364
          ],
          [
           1.96,
           90.0935570869621
          ],
          [
           1.98,
           93.05327509244616
          ],
          [
           1.99,
           93.35599484800412
          ],
          [
           2.01,
           93.21500408833056
          ],
          [
           2.03,
           96.8018218656246
          ],
          [
           2.04,
           98.10726213871384
          ],
          [
           2.06,
           97.62258030960236
          ],
          [
           2.07,
           101.37225958376484
          ],
          [
           2.09,
           103.01905478342113
          ],
          [
           2.11,
           105.64534914987765
          ],
          [
           2.13,
           104.41986276606364
          ],
          [
           2.14,
           113.01593904708592
          ],
          [
           2.16,
           114.65660142502642
          ],
          [
           2.17,
           141.3702469935946
          ],
          [
           2.19,
           140.7743085720266
          ],
          [
           2.21,
           152.11822525127832
          ],
          [
           2.22,
           151.67759601458295
          ],
          [
           2.24,
           152.11840966886248
          ],
          [
           2.26,
           151.874542309181
          ],
          [
           2.27,
           156.41879711905236
          ],
          [
           2.29,
           161.17223129914544
          ],
          [
           2.31,
           169.2696341229881
          ],
          [
           2.32,
           169.5649883325732
          ],
          [
           2.34,
           173.5411733347833
          ],
          [
           2.36,
           179.22500520725168
          ],
          [
           2.37,
           178.47821482954703
          ],
          [
           2.39,
           178.9839020064383
          ],
          [
           2.41,
           178.44677964436613
          ],
          [
           2.42,
           178.69618221149366
          ],
          [
           2.44,
           179.20458505847697
          ],
          [
           2.46,
           178.39833224390756
          ],
          [
           2.47,
           179.0574580182654
          ],
          [
           2.49,
           178.31253319792856
          ],
          [
           2.51,
           179.63059807780934
          ],
          [
           2.52,
           178.30181665635496
          ],
          [
           2.54,
           179.35586671906006
          ]
         ],
         "hovertemplate": "rel_time: %{customdata[0]:.2f}",
         "legendgroup": "",
         "marker": {
          "color": "gold",
          "symbol": "circle"
         },
         "mode": "markers",
         "name": "trajectory_data",
         "orientation": "v",
         "showlegend": false,
         "type": "scatter",
         "x": [
          -822.040882386711,
          -822.1856091909747,
          -822.4224584480377,
          -822.6595221929247,
          -822.9892369429151,
          -823.3600683525849,
          -823.7851268711179,
          -824.2663766815946,
          -824.8843391306486,
          -825.5331240111807,
          -826.1862773298295,
          -826.8423433479429,
          -827.4341383520916,
          -827.8625783252086,
          -828.1955861109861,
          -828.4180190422757,
          -828.4735287553269,
          -828.4735287553269,
          -828.4735287553269,
          -828.4735287553269,
          -828.4735287553269,
          -828.4735287553269,
          -828.4735287553269,
          -828.4735287553269,
          -828.4735287553269,
          -828.4735287553269,
          -828.4735287553269,
          -828.4735287553269,
          -828.4735287553269,
          -828.4735287553269,
          -828.4735287553269,
          -828.4735287553269,
          -828.4735287553269,
          -828.4735287553269,
          -828.4735287553269,
          -828.4735287553269,
          -828.4735287553269,
          -828.4735287553269,
          -828.4735287553269,
          -828.4735287553269,
          -828.4735287553269,
          -828.4735287553269,
          -828.4735287553269,
          -828.4735287553269,
          -828.4735287553269,
          -828.4735287553269,
          -828.5570013927875,
          -828.6680877898787,
          -828.8212049962123,
          -829.0303174393515,
          -829.4500494999359,
          -829.9711579434089,
          -830.6800110969954,
          -831.4647566634337,
          -832.3434986946633,
          -833.286649431546,
          -834.2813510296428,
          -835.343151878238,
          -836.39610577154,
          -837.39625804291,
          -838.3416566757213,
          -839.1096589592291,
          -839.7900860231747,
          -840.0185660081905,
          -840.1537108787487,
          -840.2292999207084,
          -840.2292999207084,
          -840.2292999207084,
          -840.2292999207084,
          -840.2292999207084,
          -840.2292999207084,
          -840.2292999207084,
          -840.2292999207084,
          -840.2292999207084,
          -840.2292999207084,
          -840.2292999207084,
          -840.2292999207084,
          -840.2292999207084,
          -840.2292999207084,
          -840.2292999207084,
          -840.2292999207084,
          -840.2292999207084,
          -840.2292999207084,
          -840.2292999207084,
          -840.2292999207084,
          -840.2292999207084,
          -840.2292999207084,
          -840.2292999207084,
          -840.2292999207084,
          -840.2292999207084,
          -840.2897360055707,
          -840.3653250475305,
          -840.4861504225241,
          -840.6676809563334,
          -840.8793060239386,
          -841.0908631803426,
          -841.3780657914599,
          -841.7256576927085,
          -842.103874279026,
          -842.6024207041711,
          -843.1616271147898,
          -843.8877636506642,
          -844.6588642028414,
          -845.5651577011084,
          -846.5478166904903,
          -847.5882127458145,
          -848.9549034401338,
          -850.3869705860939,
          -851.7996277597517,
          -853.1839416100156,
          -854.5396315644842,
          -855.8533228874359,
          -857.1208699565489,
          -858.3405010961048,
          -859.508024364993,
          -860.620664360517,
          -861.676773658612,
          -862.6033142774035,
          -863.3584016776255,
          -864.0386396878625,
          -864.6730476646753,
          -865.253606675352,
          -865.7808322154111,
          -866.2616921939533,
          -866.672378813252,
          -867.016539599361,
          -867.308913620344,
          -867.5597714682206,
          -867.7585717023062,
          -867.9123935628417,
          -868.0632426854144,
          -868.0775854312733,
          -868.1032368639756,
          -868.1012556976694,
          -868.0589706464955,
          -867.9709169372784,
          -867.8339324027257,
          -867.6420488128856,
          -867.3145464006234,
          -866.9229558755644,
          -866.4701197458271,
          -865.9465649392138,
          -865.2998997114416,
          -864.5621556735266,
          -863.7390112178352,
          -862.8108781919283,
          -861.8353218509707,
          -860.8125695621372,
          -859.7651686533638,
          -858.6930707808325,
          -857.6098309966726,
          -856.5210827138628,
          -855.4485091033952,
          -854.4376390516173,
          -853.4357232406664,
          -852.4875916067388,
          -851.6525272321766,
          -850.8691615519754,
          -850.3440184040553,
          -849.9348448768266,
          -849.6074530442803,
          -849.4797561108213,
          -849.4159505746491,
          -849.3840287073264,
          -849.3840287073264,
          -849.3840287073264,
          -849.3840287073264,
          -849.3840287073264,
          -849.3840287073264,
          -849.3840287073264,
          -849.3840287073264,
          -849.3840287073264,
          -849.3840287073264,
          -849.3840287073264,
          -849.3840287073264,
          -849.3840287073264,
          -849.3840287073264,
          -849.3840287073264,
          -849.3840287073264,
          -849.3200812378742,
          -849.1924679445164,
          -849.0647344339733,
          -848.8651917581151,
          -848.6258689539148,
          -848.3464800007694,
          -847.963437203622,
          -847.5244086738129,
          -847.0616035800682,
          -846.5745468239355,
          -846.087735817442,
          -845.5849215871302,
          -845.1139932466815,
          -844.6748029479227,
          -844.277405301985,
          -843.9208403770888,
          -843.6995733262823,
          -843.4790819896537,
          -843.3847147195708,
          -843.3295481332761,
          -843.3295481332761,
          -843.3295481332761,
          -843.3295481332761,
          -843.3295481332761,
          -843.3295481332761,
          -843.3295481332761,
          -843.3295481332761,
          -843.3295481332761,
          -843.3295481332761,
          -843.3295481332761,
          -843.3295481332761,
          -843.3295481332761,
          -843.3295481332761,
          -843.3295481332761,
          -843.3295481332761,
          -843.3295481332761,
          -843.3295481332761,
          -843.3295481332761,
          -843.3295481332761,
          -843.3295481332761,
          -843.3295481332761,
          -843.3295481332761,
          -843.2980538278669,
          -843.2586755739271,
          -843.2033316134657,
          -843.1082661584292,
          -842.9556400797085,
          -842.8051887195568,
          -842.572478149272,
          -842.2982035938026,
          -841.9817963759846,
          -841.5973060895549,
          -841.1603787338682,
          -840.6861562980388,
          -840.1822341483926,
          -839.6573949224098,
          -839.1283924701997,
          -838.5945668644132,
          -838.0741320664481,
          -837.6286201655009,
          -837.313389260684,
          -837.190711836668,
          -837.067873583915,
          -837.067873583915,
          -837.067873583915,
          -837.067873583915,
          -837.067873583915,
          -837.067873583915,
          -837.067873583915,
          -837.067873583915,
          -837.067873583915,
          -837.067873583915,
          -837.067873583915,
          -837.067873583915,
          -837.067873583915,
          -837.067873583915,
          -837.067873583915,
          -837.067873583915,
          -837.067873583915,
          -837.067873583915,
          -837.067873583915,
          -837.067873583915,
          -837.067873583915,
          -837.067873583915,
          -837.067873583915,
          -837.0328346315986,
          -836.9715959033018,
          -836.8839577721907,
          -836.7700612313323,
          -836.5780993615394,
          -836.3096777683268,
          -836.04346140144,
          -835.7284603300973,
          -835.3166001934994,
          -834.8697305078654,
          -834.3329439468458,
          -833.7595556887499,
          -833.6495389321681,
          -832.3392275092639,
          -831.6354829341616,
          -830.9529187066175,
          -830.286523574889,
          -829.6231701516708,
          -828.9843459375663,
          -828.358545980582,
          -827.7399802698435,
          -827.1459163028044,
          -826.5760816913518,
          -826.0220614041892,
          -825.492656637585,
          -824.9946558517543,
          -824.5215792921123,
          -824.0862415320648,
          -823.686547830985,
          -823.326620451821,
          -823.0065338295415,
          -822.7278916193537,
          -822.4997589944184,
          -822.3168594367711,
          -822.1779581096097,
          -822.0787350966506,
          -822.007352102713,
          -821.9725384572753,
          -821.9510426490339,
          -821.9418974184132,
          -821.9385789660422,
          -821.9376053729932,
          -821.9370738622588,
          -821.9370738622588,
          -821.9370738622588,
          -821.9370738622588,
          -821.9370738622588,
          -821.9370738622588,
          -821.9370738622588,
          -821.9370738622588,
          -821.9370738622588,
          -821.9370738622588,
          -821.9370738622588,
          -821.9370738622588,
          -821.9370738622588,
          -821.9370738622588,
          -821.9370738622588,
          -821.9370738622588,
          -821.9370738622588,
          -821.9370738622588,
          -821.9370738622588,
          -821.9370738622588,
          -821.9370738622588,
          -821.9370738622588,
          -821.9370738622588,
          -821.9370738622588,
          -821.9370738622588,
          -821.9370738622588,
          -821.9370738622588,
          -821.9370738622588,
          -821.9370738622588,
          -821.9370738622588,
          -821.9370738622588,
          -821.9370738622588,
          -821.9370738622588,
          -821.9370738622588,
          -821.9370738622588,
          -821.9370738622588,
          -821.9370738622588,
          -821.9369445886222,
          -821.93676215131,
          -821.9365158155723,
          -821.9362253759168,
          -821.9357632748612,
          -821.9353111737755,
          -821.9347310292445,
          -821.9341317871302,
          -821.9333319345849,
          -821.9324775964016,
          -821.9315468076688,
          -821.930595243054,
          -821.9295147453909,
          -821.9283321096673,
          -821.9270036137156,
          -821.925525759641,
          -821.9239694416586,
          -821.9223110616394,
          -821.9206792333204,
          -821.9188733305222,
          -821.9170473089068,
          -821.9151354193459,
          -821.9132268706347,
          -821.9113179813354,
          -821.9094280612945,
          -821.9074456647973,
          -821.905413261931,
          -821.9034029157477,
          -821.9013485068084,
          -821.8992409341935,
          -821.8970536619513,
          -821.8948930174325,
          -821.8925767203702,
          -821.8902102598939,
          -821.8873280487232,
          -821.8844220372974,
          -821.883972805073,
          -821.8861063367489,
          -821.8908731932374,
          -821.8982359202931,
          -821.9056982310336,
          -821.913385780096,
          -821.9215139723249,
          -821.9296480163954,
          -821.937964003451,
          -821.9465822845309,
          -821.9551165849211,
          -821.9637164440658,
          -821.9722589502443,
          -821.9808758175899,
          -821.9894376859162,
          -821.9980099771246,
          -822.0065961192277,
          -822.0151693506489,
          -822.0237496409105,
          -822.0323228723314,
          -822.0408823867109
         ],
         "xaxis": "x",
         "y": [
          178.4850012007763,
          178.7352475428188,
          179.14482612867343,
          179.55374310665817,
          180.12112016536136,
          180.75666282020237,
          181.48097251402365,
          182.29570740629484,
          183.333729343764,
          184.41472586413715,
          185.4936209037416,
          186.56909115272055,
          187.5316496478873,
          188.22425620889976,
          188.75950694793661,
          189.11620816195614,
          189.2052891300636,
          189.2052891300636,
          189.2052891300636,
          189.2052891300636,
          189.2052891300636,
          189.2052891300636,
          189.2052891300636,
          189.2052891300636,
          189.2052891300636,
          189.2052891300636,
          189.2052891300636,
          189.2052891300636,
          189.2052891300636,
          189.2052891300636,
          189.2052891300636,
          189.2052891300636,
          189.2052891300636,
          189.2052891300636,
          189.2052891300636,
          189.2052891300636,
          189.2052891300636,
          189.2052891300636,
          189.2052891300636,
          189.2052891300636,
          189.2052891300636,
          189.2052891300636,
          189.2052891300636,
          189.2052891300636,
          189.2052891300636,
          189.2052891300636,
          189.33912822931487,
          189.51729887682524,
          189.76239460462273,
          190.0962996984583,
          190.76271836479935,
          191.5833653443204,
          192.68914823123376,
          193.90103578176533,
          195.24230142781443,
          196.66514027994296,
          198.14820953720127,
          199.71382585701517,
          201.25161673365125,
          202.700092286701,
          204.05888752836847,
          205.15609629290324,
          206.12283571872715,
          206.44748507911487,
          206.63956424863315,
          206.74698066302878,
          206.74698066302878,
          206.74698066302878,
          206.74698066302878,
          206.74698066302878,
          206.74698066302878,
          206.74698066302878,
          206.74698066302878,
          206.74698066302878,
          206.74698066302878,
          206.74698066302878,
          206.74698066302878,
          206.74698066302878,
          206.74698066302878,
          206.74698066302878,
          206.74698066302878,
          206.74698066302878,
          206.74698066302878,
          206.74698066302878,
          206.74698066302878,
          206.74698066302878,
          206.74698066302878,
          206.74698066302878,
          206.74698066302878,
          206.74698066302878,
          206.83281676460913,
          206.9402331790047,
          207.11195530463687,
          207.36990105760046,
          207.67060007477386,
          207.97129072124008,
          208.37937734680804,
          208.8733499964278,
          209.41082301441878,
          210.1191904449829,
          210.91383296518674,
          211.94564692250339,
          213.0413759856317,
          214.32913489543114,
          215.72555520465005,
          217.20914562664484,
          219.17056617499009,
          221.24651141128905,
          223.33572046544845,
          225.4432779262681,
          227.568767461996,
          229.72096185225786,
          231.90168509967674,
          234.10801064464286,
          236.34288540142748,
          238.60653407400125,
          240.8956596347713,
          243.0419702210442,
          244.91873106665298,
          246.7395788337479,
          248.57637849371855,
          250.40340836730084,
          252.2204795911307,
          254.04843937892508,
          255.78769711858936,
          257.4321910910036,
          259.03461794054505,
          260.64358046110004,
          262.1805169395426,
          263.67356983560205,
          266.81248404701404,
          267.15439612463376,
          268.1936328527935,
          269.74241003888875,
          271.29157121141316,
          272.9435860050014,
          274.6725283641103,
          276.49990694514275,
          278.9999995509002,
          281.4923424803315,
          283.9718814244237,
          286.4927471394631,
          289.28054819600493,
          292.18339597234365,
          295.17216408281,
          298.2995847459903,
          301.4283442798174,
          304.5769922784695,
          307.7169114316617,
          310.8485085254251,
          313.9747949094184,
          317.0985968869184,
          320.1758371559916,
          323.10550174704497,
          326.03873924394867,
          328.85200359583274,
          331.3689930520734,
          333.766699942084,
          335.394503741139,
          336.67239848532574,
          337.6986555754445,
          338.0991618960515,
          338.29917242862103,
          338.3992159894116,
          338.3992159894116,
          338.3992159894116,
          338.3992159894116,
          338.3992159894116,
          338.3992159894116,
          338.3992159894116,
          338.3992159894116,
          338.3992159894116,
          338.3992159894116,
          338.3992159894116,
          338.3992159894116,
          338.3992159894116,
          338.3992159894116,
          338.3992159894116,
          338.3992159894116,
          338.5997331529553,
          338.99975395905847,
          339.4003384085137,
          340.0259691568247,
          340.77636705740804,
          341.6523515156664,
          342.8534627512436,
          344.22993973793336,
          345.6809201091665,
          347.2081341257501,
          348.7344146306226,
          350.31095984343636,
          351.78753834350715,
          353.1644642676167,
          354.41537285178003,
          355.5419125971275,
          356.2437687326998,
          356.9457990851324,
          357.2462049655045,
          357.4218589582333,
          357.4218589582333,
          357.4218589582333,
          357.4218589582333,
          357.4218589582333,
          357.4218589582333,
          357.4218589582333,
          357.4218589582333,
          357.4218589582333,
          357.4218589582333,
          357.4218589582333,
          357.4218589582333,
          357.4218589582333,
          357.4218589582333,
          357.4218589582333,
          357.4218589582333,
          357.4218589582333,
          357.4218589582333,
          357.4218589582333,
          357.4218589582333,
          357.4218589582333,
          357.4218589582333,
          357.4218589582333,
          357.52200821580817,
          357.6473445226856,
          357.82286706806775,
          358.12313658946425,
          358.60284795020465,
          359.0740466789109,
          359.7993289300372,
          360.6498298915887,
          361.6236156229555,
          362.79707778925757,
          364.11878350676085,
          365.53878004634396,
          367.03269856485883,
          368.5742479191793,
          370.11379979524446,
          371.65276213371146,
          373.140522484845,
          374.4041219748019,
          375.29477795259197,
          375.64140221712324,
          375.9884750784861,
          375.9884750784861,
          375.9884750784861,
          375.9884750784861,
          375.9884750784861,
          375.9884750784861,
          375.9884750784861,
          375.9884750784861,
          375.9884750784861,
          375.9884750784861,
          375.9884750784861,
          375.9884750784861,
          375.9884750784861,
          375.9884750784861,
          375.9884750784861,
          375.9884750784861,
          375.9884750784861,
          375.9884750784861,
          375.9884750784861,
          375.9884750784861,
          375.9884750784861,
          375.9884750784861,
          375.9884750784861,
          376.0874419066537,
          376.2604912757037,
          376.5081496522799,
          376.82991074599624,
          377.3752203662998,
          378.1442094938465,
          378.91337297118713,
          379.83315823591624,
          381.0525630440533,
          382.398254019304,
          384.0469590595516,
          385.84855730022394,
          386.195723916233,
          390.56302321404405,
          392.9823273359102,
          395.4106424232248,
          397.8692591651724,
          400.4120739207448,
          402.95969997138764,
          405.563175192288,
          408.2547178401195,
          410.97321927955363,
          413.7238408670709,
          416.5598759352585,
          419.45418319184375,
          422.38034832294346,
          425.38875666715467,
          428.40439806619565,
          431.4530235523896,
          434.505160009288,
          437.5606517788186,
          440.6217736805297,
          443.57968810075516,
          446.46409057976877,
          449.21888696248254,
          451.81655827236557,
          454.3385796857061,
          456.04563741647786,
          457.75254422540246,
          458.986930797289,
          459.87988869017914,
          460.2739587232464,
          460.6679983716593,
          460.6679983716593,
          460.6679983716593,
          460.6679983716593,
          460.6679983716593,
          460.6679983716593,
          460.6679983716593,
          460.6679983716593,
          460.6679983716593,
          460.6679983716593,
          460.6679983716593,
          460.6679983716593,
          460.6679983716593,
          460.6679983716593,
          460.6679983716593,
          460.6679983716593,
          460.6679983716593,
          460.6679983716593,
          460.6679983716593,
          460.6679983716593,
          460.6679983716593,
          460.6679983716593,
          460.6679983716593,
          460.6679983716593,
          460.6679983716593,
          460.6679983716593,
          460.6679983716593,
          460.6679983716593,
          460.6679983716593,
          460.6679983716593,
          460.6679983716593,
          460.6679983716593,
          460.6679983716593,
          460.6679983716593,
          460.6679983716593,
          460.6679983716593,
          460.6679983716593,
          460.7730150810217,
          460.90440679109753,
          461.08794922237615,
          461.3505769844556,
          461.6919438200776,
          462.0860206451988,
          462.5327904593686,
          463.05818026609296,
          463.6880287131323,
          464.37112847730396,
          465.13286900991216,
          465.8945521895543,
          466.7612530187716,
          467.70705807424645,
          468.7841767109487,
          469.9917008271416,
          471.279295905096,
          472.5658898914758,
          473.93212539727864,
          475.3769083410924,
          476.87110016779405,
          478.3686340532468,
          479.9179699080139,
          481.46730482256834,
          483.01364737047305,
          484.61474827688215,
          486.243131345529,
          487.8715723667662,
          489.5522218027608,
          491.25924623946867,
          493.01855687919374,
          494.77740372050977,
          496.6162846059151,
          498.53334152113536,
          500.8711795189974,
          503.2066234902206,
          505.72859150665226,
          508.2496239272125,
          510.7702214679826,
          513.2911762439664,
          515.8892817474655,
          518.5665026443319,
          521.3775517068384,
          524.1880796179697,
          527.0752721424878,
          530.0430464901941,
          533.0113054121916,
          535.9775931538195,
          538.9439016713294,
          541.9131049315597,
          544.8808997145599,
          547.8476515951852,
          550.8164118328883,
          553.7831633729253,
          556.752444762004,
          559.7191963020409,
          562.6884203381534
         ],
         "yaxis": "y"
        },
        {
         "marker": {
          "color": "pink",
          "size": 20,
          "symbol": "circle"
         },
         "mode": "markers",
         "name": "cur_ff",
         "type": "scatter",
         "x": [
          -835.4057061711231
         ],
         "y": [
          377.9051423698223
         ]
        },
        {
         "marker": {
          "color": "lightblue",
          "size": 20,
          "symbol": "circle"
         },
         "mode": "markers",
         "name": "nxt_ff",
         "type": "scatter",
         "x": [
          -824.3809822841179
         ],
         "y": [
          466.7908622879888
         ]
        },
        {
         "customdata": [
          [
           0
          ]
         ],
         "hovertemplate": "rel_time: %{customdata[0]:.2f}",
         "legendgroup": "",
         "marker": {
          "color": "black",
          "opacity": 1,
          "size": 13,
          "symbol": "star"
         },
         "mode": "markers",
         "name": "stops",
         "orientation": "v",
         "showlegend": false,
         "type": "scatter",
         "x": [
          -837.067873583915
         ],
         "xaxis": "x",
         "y": [
          375.9884750784861
         ],
         "yaxis": "y"
        },
        {
         "hoverinfo": "name",
         "line": {
          "color": "green",
          "width": 4
         },
         "mode": "lines",
         "name": "nxt null arc",
         "opacity": 0.8,
         "showlegend": true,
         "type": "scatter",
         "x": [
          -857.1208704626986,
          -858.346052559326,
          -859.5404165482811,
          -860.7037291631118,
          -861.8357632018852,
          -862.9362975715624,
          -864.0051173311784,
          -865.0420137338222,
          -866.0467842674053,
          -867.0192326942152,
          -867.9591690892398,
          -868.8664098772624,
          -869.7407778687142,
          -870.582102294281,
          -871.390218838255,
          -872.1649696706272,
          -872.9062034779122,
          -873.6137754927003,
          -874.2875475219322,
          -874.9273879738887,
          -875.5331718838908,
          -876.1047809387062,
          -876.642103499658,
          -877.145034624426,
          -877.6134760875445,
          -878.0473363995854,
          -878.4465308250269,
          -878.8109813988029,
          -879.14061694153,
          -879.4353730734088,
          -879.6951922267987,
          -879.9200236574602,
          -880.1098234544662,
          -880.2645545487776,
          -880.3841867204834,
          -880.4686966047027,
          -880.5180676961483,
          -880.5322903523498,
          -880.5113617955369,
          -880.4552861131825,
          -880.3640742572036,
          -880.2377440418232,
          -880.07632014009,
          -879.8798340790605,
          -879.6483242336412,
          -879.3818358190939,
          -879.0804208822044,
          -878.7441382911184,
          -878.3730537238433,
          -877.9672396554213,
          -877.5267753437747,
          -877.0517468142257,
          -876.5422468426964,
          -875.9983749375874,
          -875.4202373203451,
          -874.807946904714,
          -874.1616232746859,
          -873.4813926611431,
          -872.7673879172055,
          -872.0197484922828,
          -871.2386204048403,
          -870.4241562138793,
          -869.5765149891428,
          -868.6958622800471,
          -867.7823700833494,
          -866.8362168095562,
          -865.8575872480781,
          -864.8466725311393,
          -863.8036700964491,
          -862.7287836486399,
          -861.6222231194838,
          -860.4842046268903,
          -859.3149504326988,
          -858.1146888992677,
          -856.8836544448751,
          -855.6220874979357,
          -854.3302344500422,
          -853.0083476078453,
          -851.6566851437756,
          -850.2755110456212,
          -848.8650950649698,
          -847.4257126645235,
          -845.9576449643005,
          -844.4611786867301,
          -842.9366061006538,
          -841.3842249642443,
          -839.8043384668503,
          -838.1972551697828,
          -836.5632889460517,
          -834.9027589190626,
          -833.2159894002917,
          -831.5033098259455,
          -829.76505469262,
          -828.0015634919703,
          -826.2131806444081,
          -824.4002554318324,
          -822.5631419294132,
          -820.7021989364392,
          -818.8177899062409,
          -816.9102828752073
         ],
         "y": [
          231.90168599245726,
          234.09837952102183,
          236.31198027323984,
          238.5420559196046,
          240.78817091296352,
          243.04988657358325,
          245.3267611748268,
          247.61835002942485,
          249.92420557632641,
          252.24387746810945,
          254.57691265893732,
          256.92285549304086,
          259.2812477937105,
          261.65162895278144,
          264.03353602059263,
          266.42650379640406,
          268.8300649192531,
          271.2437499592329,
          273.6670875091747,
          276.0996042767168,
          278.5408251767413,
          280.9902734241607,
          283.44747062703755,
          285.91193688001664,
          288.3831908580539,
          290.86074991042153,
          293.34413015497336,
          295.8328465726488,
          298.3264131022013,
          300.824342735128,
          303.3261476107859,
          305.83133911167357,
          308.33942795886185,
          310.849924307552,
          313.36233784274606,
          315.876177875008,
          318.3909534362982,
          320.9061733758631,
          323.4213464561585,
          325.93598144879303,
          328.4495872304665,
          330.96167287889,
          333.47174776866575,
          335.97932166710916,
          338.4839048299942,
          340.98500809720355,
          343.48214298826434,
          345.9748217977515,
          348.46255769053903,
          350.9448647968827,
          353.42125830731254,
          355.8912545673194,
          358.3543711718156,
          360.8101270593514,
          363.25804260606924,
          365.69763971937704,
          368.12844193132287,
          370.5499744916517,
          372.96176446052704,
          375.3633408008991,
          377.7542344705009,
          380.13397851345496,
          382.5021081514732,
          384.85816087463024,
          387.2016765316948,
          389.53219741999925,
          391.8492683748331,
          394.15243685833804,
          396.44125304789173,
          398.71526992396144,
          400.97404335740873,
          403.2171321962309,
          405.4440983517211,
          407.6545068840288,
          409.847926087107,
          412.0239275730264,
          414.1820863556422,
          416.3219809335969,
          418.44319337264176,
          420.54530938726157,
          422.62791842158754,
          424.6906137295813,
          426.7329924544742,
          428.7546557074488,
          430.7552086455433,
          432.7342605487668,
          434.69142489641,
          436.6263194425341,
          438.53856629062636,
          440.42779196740526,
          442.29362749576234,
          444.1357084668249,
          445.9536751111284,
          447.7471723688807,
          449.5158499593077,
          451.25936244906535,
          452.9773693197043,
          454.66953503417614,
          456.3355291023652,
          457.97502614563484
         ]
        },
        {
         "hoverinfo": "name",
         "line": {
          "color": "brown",
          "width": 3
         },
         "mode": "lines",
         "name": "cur null arc",
         "opacity": 0.8,
         "showlegend": true,
         "type": "scatter",
         "x": [
          -857.1208697732776,
          -857.9131754859104,
          -858.6870631884921,
          -859.4424034051267,
          -860.1790697630206,
          -860.8969390136243,
          -861.5958910532534,
          -862.2758089431828,
          -862.9365789292104,
          -863.57809046069,
          -864.2002362090258,
          -864.8029120856298,
          -865.386017259337,
          -865.9494541732734,
          -866.4931285611794,
          -867.0169494631803,
          -867.5208292410048,
          -868.004683592647,
          -868.4684315664706,
          -868.9119955747533,
          -869.3353014066669,
          -869.7382782406935,
          -870.1208586564741,
          -870.4829786460889,
          -870.824577624766,
          -871.145598441017,
          -871.4459873862002,
          -871.7256942035043,
          -871.9846720963585,
          -872.2228777362616,
          -872.4402712700294,
          -872.6368163264647,
          -872.8124800224408,
          -872.9672329684038,
          -873.1010492732893,
          -873.2139065488543,
          -873.3057859134228,
          -873.376671995045,
          -873.4265529340684,
          -873.4554203851234,
          -873.4632695185178,
          -873.4500990210465,
          -873.4159110962097,
          -873.3607114638455,
          -873.284509359172,
          -873.187317531243,
          -873.069152240814,
          -872.9300332576229,
          -872.7699838570815,
          -872.5890308163814,
          -872.3872044100151,
          -872.1645384047092,
          -871.9210700537762,
          -871.656840090882,
          -871.3718927232302,
          -871.0662756241658,
          -870.7400399251999,
          -870.393240207455,
          -870.0259344925329,
          -869.6381842328078,
          -869.2300543011439,
          -868.8016129800436,
          -868.3529319502214,
          -867.8840862786135,
          -867.3951544058164,
          -866.8862181329647,
          -866.3573626080456,
          -865.8086763116518,
          -865.2402510421794,
          -864.6521819004689,
          -864.0445672738944,
          -863.4175088199031,
          -862.7711114490068,
          -862.1054833072302,
          -861.4207357580177,
          -860.716983363601,
          -859.9943438658324,
          -859.2529381664864,
          -858.4928903070316,
          -857.7143274478776,
          -856.9173798471014,
          -856.1021808386532,
          -855.2688668100495,
          -854.4175771795551,
          -853.5484543728564,
          -852.6616437992343,
          -851.7572938272347,
          -850.8355557598472,
          -849.8965838091902,
          -848.9405350707104,
          -847.9675694969004,
          -846.9778498705369,
          -845.9715417774473,
          -844.948813578805,
          -843.9098363829626,
          -842.8547840168235,
          -841.7838329967609,
          -840.6971624990844,
          -839.5949543300635,
          -838.4773928955099
         ],
         "y": [
          231.90168477641075,
          233.3205156724204,
          234.749475880941,
          236.18832632865127,
          237.63682628753617,
          239.09473341516122,
          240.5618037952182,
          242.03779197833364,
          243.52245102313387,
          245.01553253755986,
          246.516786720425,
          248.02596240320742,
          249.54280709207254,
          251.06706701011663,
          252.59848713982544,
          254.1368112657393,
          255.68178201732073,
          257.23314091201246,
          258.79062839848444,
          260.3539839000573,
          261.9229458582991,
          263.4972517767851,
          265.0766382650151,
          266.6608410824799,
          268.2495951828709,
          269.8426347584231,
          271.439693284387,
          273.0405035636193,
          274.6447977712866,
          276.2523074996742,
          277.862763803092,
          279.47589724287093,
          281.0914379324414,
          282.70911558248736,
          284.32865954616636,
          285.949798864391,
          287.5722623111623,
          289.1957784389462,
          290.8200756240895,
          292.44488211226326,
          294.06992606392953,
          295.6949355998211,
          297.31963884642886,
          298.94376398148745,
          300.56703927945307,
          302.1891931569647,
          303.80995421828123,
          305.429051300688,
          307.04621351986344,
          308.66117031519997,
          310.2736514950701,
          311.88338728203115,
          313.4901083579608,
          315.0935459091149,
          316.6934316711024,
          318.2894979737671,
          319.88147778597016,
          321.4691047602669,
          323.05211327746684,
          324.6302384910748,
          326.2032163716003,
          327.7707837507313,
          329.33267836536453,
          330.88863890148247,
          332.43840503787374,
          333.98171748968593,
          335.51831805180495,
          337.04794964205536,
          338.57035634421055,
          340.0852834508101,
          341.5924775057729,
          343.0916863468021,
          344.58265914757357,
          346.06514645970054,
          347.53890025446736,
          349.0036739643266,
          350.45922252415113,
          351.90530241223456,
          353.34167169103443,
          354.7680900476494,
          356.1843188340251,
          357.5901211068811,
          358.98526166735337,
          360.36950710034364,
          361.7426258135723,
          363.1043880763238,
          364.45456605788286,
          365.79293386565126,
          367.1192675829417,
          368.4333453064396,
          369.73494718332927,
          371.0238554480763,
          372.29985445886143,
          373.562730733658,
          374.8122729859494,
          376.0482721600779,
          377.2705214662216,
          378.478816414991,
          379.6729548516413,
          380.8527369898944
         ]
        },
        {
         "line": {
          "color": "blue",
          "dash": "dash",
          "width": 2
         },
         "mode": "lines",
         "name": "Stop Heading",
         "type": "scatter",
         "x": [
          -867.4133486472573,
          -806.7223985205727
         ],
         "y": [
          289.4715236933535,
          462.5054264636186
         ]
        },
        {
         "line": {
          "color": "LightSeaGreen",
          "width": 5
         },
         "mode": "lines",
         "name": "Arc between stop heading and next ff",
         "type": "scatter",
         "x": [
          -830.7244279340164,
          -830.7063663913052,
          -830.6883058554314,
          -830.6702463292535,
          -830.6521878156295,
          -830.6341303174178,
          -830.6160738374763,
          -830.5980183786628,
          -830.5799639438349,
          -830.5619105358502,
          -830.5438581575658,
          -830.5258068118391,
          -830.5077565015268,
          -830.489707229486,
          -830.4716589985734,
          -830.4536118116451,
          -830.4355656715579,
          -830.4175205811678,
          -830.3994765433306,
          -830.3814335609023,
          -830.3633916367387,
          -830.345350773695,
          -830.3273109746268,
          -830.3092722423892,
          -830.2912345798371,
          -830.2731979898253,
          -830.2551624752087,
          -830.2371280388415,
          -830.2190946835783,
          -830.2010624122729,
          -830.1830312277796,
          -830.1650011329519,
          -830.1469721306437,
          -830.1289442237082,
          -830.110917414999,
          -830.092891707369,
          -830.074867103671,
          -830.056843606758,
          -830.0388212194825,
          -830.0207999446969,
          -830.0027797852534,
          -829.9847607440042,
          -829.966742823801,
          -829.9487260274957,
          -829.9307103579396,
          -829.9126958179841,
          -829.8946824104804,
          -829.8766701382796,
          -829.8586590042323,
          -829.8406490111893,
          -829.8226401620009,
          -829.8046324595175,
          -829.7866259065892,
          -829.7686205060656,
          -829.7506162607968,
          -829.7326131736322,
          -829.7146112474211,
          -829.6966104850127,
          -829.6786108892559,
          -829.6606124629997,
          -829.6426152090926,
          -829.6246191303829,
          -829.6066242297192,
          -829.5886305099492,
          -829.570637973921,
          -829.552646624482,
          -829.53465646448,
          -829.5166674967622,
          -829.4986797241758,
          -829.4806931495675,
          -829.4627077757842,
          -829.4447236056725,
          -829.4267406420786,
          -829.4087588878488,
          -829.3907783458291,
          -829.3727990188651,
          -829.3548209098026,
          -829.3368440214869,
          -829.3188683567631,
          -829.3008939184765,
          -829.2829207094716,
          -829.2649487325933,
          -829.2469779906859,
          -829.2290084865936,
          -829.2110402231604,
          -829.1930732032303,
          -829.1751074296468,
          -829.1571429052535,
          -829.1391796328935,
          -829.1212176154099,
          -829.1032568556457,
          -829.0852973564432,
          -829.0673391206452,
          -829.0493821510938,
          -829.0314264506311,
          -829.0134720220989,
          -828.995518868339,
          -828.9775669921926,
          -828.9596163965011,
          -828.9416670841056,
          -828.9237190578468,
          -828.9057723205655,
          -828.887826875102,
          -828.8698827242965,
          -828.8519398709892,
          -828.8339983180198,
          -828.816058068228,
          -828.798119124453,
          -828.7801814895342,
          -828.7622451663107,
          -828.7443101576209,
          -828.7263764663037,
          -828.7084440951974,
          -828.69051304714,
          -828.6725833249698,
          -828.6546549315242,
          -828.6367278696408,
          -828.618802142157,
          -828.60087775191,
          -828.5829547017365,
          -828.5650329944733,
          -828.5471126329569,
          -828.5291936200234,
          -828.511275958509,
          -828.4933596512495,
          -828.4754447010805,
          -828.4575311108374,
          -828.4396188833554,
          -828.4217080214695,
          -828.4037985280144,
          -828.3858904058246,
          -828.3679836577346,
          -828.3500782865783,
          -828.3321742951897,
          -828.3142716864025,
          -828.2963704630502,
          -828.2784706279657,
          -828.2605721839824,
          -828.2426751339328,
          -828.2247794806498,
          -828.2068852269654,
          -828.1889923757119,
          -828.1711009297213,
          -828.1532108918251,
          -828.1353222648548,
          -828.1174350516418,
          -828.0995492550169,
          -828.0816648778109,
          -828.0637819228546,
          -828.0459003929781,
          -828.0280202910116,
          -828.0101416197849,
          -827.9922643821278,
          -827.9743885808697,
          -827.9565142188399,
          -827.9386412988671,
          -827.9207698237802,
          -827.9028997964078,
          -827.8850312195782,
          -827.8671640961194,
          -827.8492984288591,
          -827.8314342206252,
          -827.8135714742448,
          -827.7957101925452,
          -827.7778503783533,
          -827.7599920344957,
          -827.7421351637988,
          -827.724279769089,
          -827.7064258531921,
          -827.688573418934,
          -827.6707224691401,
          -827.6528730066357,
          -827.6350250342458,
          -827.6171785547953,
          -827.5993335711086,
          -827.5814900860103,
          -827.5636481023241,
          -827.5458076228743,
          -827.5279686504842,
          -827.5101311879773,
          -827.4922952381768,
          -827.4744608039055,
          -827.4566278879861,
          -827.438796493241,
          -827.4209666224923,
          -827.403138278562,
          -827.3853114642719,
          -827.3674861824434,
          -827.3496624358976,
          -827.3318402274556,
          -827.3140195599381,
          -827.2962004361656,
          -827.2783828589581,
          -827.260566831136,
          -827.2427523555187,
          -827.224939434926,
          -827.2071280721768,
          -827.1893182700904,
          -827.1715100314856,
          -827.1537033591806,
          -827.1358982559939,
          -827.1180947247435,
          -827.1002927682471,
          -827.0824923893222,
          -827.0646935907862,
          -827.046896375456,
          -827.0291007461484,
          -827.01130670568,
          -826.993514256867,
          -826.9757234025254,
          -826.957934145471,
          -826.9401464885192,
          -826.9223604344854,
          -826.9045759861846,
          -826.8867931464314,
          -826.8690119180405,
          -826.851232303826,
          -826.8334543066019,
          -826.8156779291819,
          -826.7979031743796,
          -826.7801300450081,
          -826.7623585438804,
          -826.7445886738092,
          -826.7268204376069,
          -826.7090538380857,
          -826.6912888780575,
          -826.6735255603342,
          -826.6557638877268,
          -826.6380038630467,
          -826.6202454891048,
          -826.6024887687116,
          -826.5847337046777,
          -826.5669802998128,
          -826.549228556927,
          -826.5314784788299,
          -826.5137300683307,
          -826.4959833282385,
          -826.478238261362,
          -826.4604948705098,
          -826.4427531584902,
          -826.425013128111,
          -826.4072747821801,
          -826.389538123505,
          -826.3718031548925,
          -826.3540698791501,
          -826.3363382990839,
          -826.3186084175006,
          -826.3008802372063,
          -826.2831537610067,
          -826.2654289917075,
          -826.247705932114,
          -826.229984585031,
          -826.2122649532637,
          -826.1945470396162,
          -826.1768308468929,
          -826.1591163778977,
          -826.1414036354342,
          -826.1236926223061,
          -826.1059833413161,
          -826.0882757952674,
          -826.0705699869624,
          -826.0528659192033,
          -826.0351635947924,
          -826.0174630165313,
          -825.9997641872216,
          -825.9820671096643,
          -825.9643717866603,
          -825.9466782210105,
          -825.928986415515,
          -825.9112963729742,
          -825.8936080961876,
          -825.8759215879548,
          -825.8582368510752,
          -825.8405538883476,
          -825.8228727025707,
          -825.805193296543,
          -825.7875156730627,
          -825.7698398349274,
          -825.7521657849348,
          -825.7344935258822,
          -825.7168230605664,
          -825.6991543917844,
          -825.6814875223324,
          -825.6638224550067,
          -825.646159192603,
          -825.628497737917,
          -825.610838093744,
          -825.5931802628787,
          -825.5755242481163,
          -825.5578700522508,
          -825.5402176780765,
          -825.5225671283872,
          -825.5049184059766,
          -825.4872715136378,
          -825.4696264541639,
          -825.4519832303474,
          -825.434341844981,
          -825.4167023008565,
          -825.3990646007659,
          -825.3814287475005,
          -825.3637947438519,
          -825.3461625926109,
          -825.3285322965679,
          -825.3109038585135,
          -825.2932772812377,
          -825.2756525675303,
          -825.2580297201807,
          -825.2404087419781,
          -825.2227896357114,
          -825.205172404169,
          -825.1875570501395,
          -825.1699435764107,
          -825.1523319857703,
          -825.1347222810056,
          -825.1171144649039,
          -825.0995085402519,
          -825.081904509836,
          -825.0643023764426,
          -825.0467021428574,
          -825.0291038118661,
          -825.0115073862539,
          -824.9939128688059,
          -824.9763202623067,
          -824.9587295695408,
          -824.9411407932921,
          -824.9235539363445,
          -824.9059690014815,
          -824.8883859914863,
          -824.8708049091416,
          -824.8532257572301,
          -824.8356485385341,
          -824.8180732558353,
          -824.8004999119157,
          -824.7829285095564,
          -824.7653590515384,
          -824.7477915406427,
          -824.7302259796493,
          -824.7126623713386,
          -824.6951007184904,
          -824.677541023884,
          -824.6599832902988,
          -824.6424275205136,
          -824.6248737173067,
          -824.6073218834567,
          -824.5897720217414,
          -824.5722241349384,
          -824.554678225825,
          -824.5371342971782,
          -824.5195923517748,
          -824.502052392391,
          -824.4845144218029,
          -824.4669784427863,
          -824.4494444581165,
          -824.4319124705688,
          -824.4143824829179,
          -824.3968544979381,
          -824.3793285184038,
          -824.3618045470888,
          -824.3442825867666,
          -824.3267626402103,
          -824.309244710193,
          -824.2917287994869,
          -824.2742149108648,
          -824.2567030470981,
          -824.2391932109587,
          -824.2216854052177,
          -824.2041796326464,
          -824.186675896015,
          -824.1691741980942,
          -824.1516745416537,
          -824.1341769294635,
          -824.1166813642926,
          -824.0991878489102,
          -824.081696386085,
          -824.0642069785855,
          -824.0467196291795,
          -824.0292343406348,
          -824.011751115719,
          -823.994269957199,
          -823.9767908678416,
          -823.9593138504131,
          -823.9418389076798,
          -823.9243660424072,
          -823.9068952573609,
          -823.8894265553062,
          -823.8719599390074,
          -823.8544954112294,
          -823.8370329747361,
          -823.8195726322913,
          -823.8021143866584,
          -823.7846582406006,
          -823.7672041968808,
          -823.7497522582612,
          -823.7323024275041,
          -823.7148547073713,
          -823.6974091006241,
          -823.6799656100237,
          -823.662524238331,
          -823.6450849883064,
          -823.6276478627099,
          -823.6102128643013,
          -823.5927799958401,
          -823.5753492600854,
          -823.5579206597961,
          -823.5404941977304,
          -823.5230698766463,
          -823.505647699302,
          -823.4882276684546,
          -823.4708097868611,
          -823.4533940572784,
          -823.4359804824628,
          -823.4185690651705,
          -823.401159808157,
          -823.3837527141778,
          -823.366347785988,
          -823.348945026342,
          -823.3315444379945,
          -823.3141460236992,
          -823.2967497862098,
          -823.2793557282798,
          -823.261963852662,
          -823.2445741621091,
          -823.2271866593732,
          -823.2098013472064,
          -823.1924182283602,
          -823.1750373055859,
          -823.1576585816343,
          -823.140282059256,
          -823.1229077412012,
          -823.1055356302196,
          -823.0881657290608,
          -823.070798040474,
          -823.0534325672079,
          -823.0360693120109,
          -823.0187082776312,
          -823.0013494668164,
          -822.9839928823139,
          -822.9666385268708,
          -822.9492864032339,
          -822.9319365141494,
          -822.9145888623631,
          -822.8972434506209,
          -822.8799002816679,
          -822.862559358249,
          -822.8452206831089,
          -822.8278842589916,
          -822.8105500886411,
          -822.7932181748008,
          -822.7758885202138,
          -822.758561127623,
          -822.7412359997707,
          -822.723913139399,
          -822.7065925492495,
          -822.6892742320637,
          -822.6719581905824,
          -822.6546444275464,
          -822.6373329456957,
          -822.6200237477705,
          -822.60271683651,
          -822.5854122146537,
          -822.5681098849402,
          -822.550809850108,
          -822.5335121128951,
          -822.5162166760393,
          -822.498923542278,
          -822.4816327143482,
          -822.4643441949864,
          -822.4470579869289,
          -822.4297740929117,
          -822.4124925156701,
          -822.3952132579394,
          -822.3779363224545,
          -822.3606617119495,
          -822.343389429159,
          -822.3261194768161,
          -822.3088518576544,
          -822.2915865744069,
          -822.2743236298061,
          -822.2570630265842,
          -822.2398047674731,
          -822.2225488552042,
          -822.2052952925086,
          -822.188044082117,
          -822.17079522676,
          -822.1535487291673,
          -822.1363045920684,
          -822.119062818193,
          -822.1018234102695,
          -822.0845863710267,
          -822.0673517031925,
          -822.0501194094948,
          -822.0328894926608,
          -822.0156619554176,
          -821.9984368004917,
          -821.9812140306095,
          -821.9639936484967,
          -821.9467756568788,
          -821.929560058481,
          -821.9123468560279,
          -821.8951360522439
         ],
         "y": [
          421.38966868323746,
          421.3871414651511,
          421.38460706180626,
          421.38206547360403,
          421.3795167009467,
          421.37696074423764,
          421.3743976038814,
          421.37182728028364,
          421.36924977385115,
          421.36666508499195,
          421.36407321411497,
          421.36147416163055,
          421.35886792795003,
          421.35625451348585,
          421.3536339186517,
          421.35100614386226,
          421.3483711895335,
          421.34572905608246,
          421.3430797439272,
          421.3404232534872,
          421.33775958518277,
          421.3350887394355,
          421.33241071666816,
          421.32972551730455,
          421.32703314176973,
          421.32433359048974,
          421.3216268638919,
          421.31891296240457,
          421.31619188645726,
          421.3134636364807,
          421.31072821290667,
          421.307985616168,
          421.30523584669896,
          421.3024789049346,
          421.2997147913113,
          421.2969435062666,
          421.29416505023903,
          421.2913794236684,
          421.28858662699554,
          421.28578666066244,
          421.28297952511235,
          421.28016522078946,
          421.2773437481393,
          421.2745151076083,
          421.27167929964423,
          421.2688363246959,
          421.2659861832133,
          421.2631288756474,
          421.26026440245056,
          421.2573927640761,
          421.25451396097844,
          421.25162799361334,
          421.24873486243746,
          421.2458345679088,
          421.2429271104863,
          421.2400124906301,
          421.2370907088016,
          421.2341617654631,
          421.2312256610783,
          421.22828239611187,
          421.2253319710296,
          421.22237438629844,
          421.2194096423865,
          421.2164377397631,
          421.21345867889846,
          421.21047246026416,
          421.2074790843328,
          421.2044785515782,
          421.20147086247516,
          421.19845601749984,
          421.1954340171293,
          421.1924048618418,
          421.18936855211683,
          421.18632508843496,
          421.18327447127785,
          421.1802167011283,
          421.1771517784703,
          421.17407970378895,
          421.17100047757043,
          421.16791410030214,
          421.16482057247254,
          421.16171989457115,
          421.1586120670888,
          421.15549709051743,
          421.15237496534996,
          421.14924569208057,
          421.14610927120447,
          421.1429657032181,
          421.13981498861904,
          421.1366571279059,
          421.13349212157846,
          421.1303199701377,
          421.12714067408564,
          421.1239542339255,
          421.1207606501615,
          421.11755992329927,
          421.1143520538452,
          421.1111370423072,
          421.10791488919386,
          421.1046855950154,
          421.1014491602827,
          421.0982055855082,
          421.0949548712051,
          421.09169701788795,
          421.08843202607244,
          421.0851598962752,
          421.08188062901417,
          421.0785942248084,
          421.07530068417793,
          421.07200000764414,
          421.06869219572934,
          421.0653772489571,
          421.06205516785207,
          421.05872595294005,
          421.0553896047479,
          421.05204612380373,
          421.0486955106367,
          421.04533776577716,
          421.04197288975644,
          421.0386008831071,
          421.03522174636294,
          421.0318354800587,
          421.02844208473033,
          421.0250415609149,
          421.0216339091506,
          421.0182191299768,
          421.01479722393395,
          421.01136819156363,
          421.0079320334085,
          421.00448875001246,
          421.00103834192055,
          420.9975808096787,
          420.9941161538342,
          420.9906443749355,
          420.987165473532,
          420.9836794501743,
          420.9801863054141,
          420.97668603980435,
          420.97317865389897,
          420.9696641482531,
          420.96614252342295,
          420.962613779966,
          420.9590779184406,
          420.9555349394064,
          420.9519848434242,
          420.9484276310559,
          420.94486330286446,
          420.941291859414,
          420.9377133012697,
          420.9341276289981,
          420.9305348431666,
          420.9269349443438,
          420.9233279330996,
          420.91971381000474,
          420.9160925756313,
          420.91246423055236,
          420.9088287753423,
          420.9051862105763,
          420.90153653683103,
          420.89787975468414,
          420.8942158647143,
          420.8905448675014,
          420.8868667636265,
          420.8831815536717,
          420.8794892382203,
          420.8757898178566,
          420.8720832931662,
          420.86836966473567,
          420.8646489331528,
          420.8609210990065,
          420.8571861628867,
          420.8534441253846,
          420.8496949870924,
          420.8459387486035,
          420.84217541051237,
          420.8384049734147,
          420.8346274379072,
          420.83084280458775,
          420.8270510740553,
          420.82325224691,
          420.81944632375314,
          420.815633305187,
          420.8118131918152,
          420.8079859842421,
          420.80415168307377,
          420.80031028891676,
          420.7964618023792,
          420.7926062240702,
          420.78874355459993,
          420.78487379457977,
          420.7809969446222,
          420.77711300534077,
          420.77322197735015,
          420.7693238612663,
          420.76541865770605,
          420.76150636728755,
          420.75758699063005,
          420.75366052835375,
          420.74972698108013,
          420.7457863494318,
          420.7418386340324,
          420.73788383550675,
          420.73392195448076,
          420.7299529915815,
          420.7259769474371,
          420.72199382267695,
          420.7180036179314,
          420.71400633383195,
          420.71000197101125,
          420.7059905301031,
          420.70197201174244,
          420.6979464165652,
          420.69391374520853,
          420.6898739983107,
          420.6858271765111,
          420.68177328045016,
          420.67771231076955,
          420.673644268112,
          420.6695691531213,
          420.6654869664425,
          420.6613977087216,
          420.65730138060593,
          420.6531979827437,
          420.64908751578434,
          420.64496998037856,
          420.6408453771779,
          420.6367137068353,
          420.6325749700045,
          420.6284291673407,
          420.62427629949997,
          420.62011636713964,
          420.61594937091803,
          420.61177531149474,
          420.60759418953035,
          420.60340600568657,
          420.5992107606263,
          420.5950084550136,
          420.59079908951344,
          420.58658266479216,
          420.58235918151695,
          420.5781286403564,
          420.57389104198,
          420.56964638705847,
          420.5653946762636,
          420.5611359102683,
          420.55687008974667,
          420.5525972153738,
          420.5483172878259,
          420.5440303077805,
          420.5397362759159,
          420.53543519291196,
          420.53112705944926,
          420.5268118762097,
          420.5224896438762,
          420.5181603631329,
          420.51382403466494,
          420.50948065915867,
          420.5051302373015,
          420.500772769782,
          420.4964082572898,
          420.49203670051565,
          420.4876581001515,
          420.4832724568903,
          420.4788797714262,
          420.4744800444544,
          420.47007327667126,
          420.4656594687743,
          420.4612386214619,
          420.45681073543403,
          420.4523758113913,
          420.44793385003567,
          420.4434848520701,
          420.43902881819895,
          420.4345657491273,
          420.4300956455615,
          420.4256185082091,
          420.4211343377787,
          420.41664313498,
          420.41214490052386,
          420.40763963512217,
          420.403127339488,
          420.3986080143354,
          420.39408166037987,
          420.38954827833766,
          420.38500786892627,
          420.3804604328643,
          420.3759059708715,
          420.37134448366874,
          420.3667759719779,
          420.3622004365221,
          420.35761787802545,
          420.3530282972133,
          420.348431694812,
          420.34382807154907,
          420.3392174281531,
          420.3345997653539,
          420.32997508388223,
          420.32534338447005,
          420.3207046678504,
          420.3160589347575,
          420.3114061859266,
          420.30674642209414,
          420.30207964399756,
          420.2974058523755,
          420.2927250479677,
          420.2880372315149,
          420.2833424037592,
          420.27864056544354,
          420.2739317173121,
          420.26921586011014,
          420.2644929945841,
          420.2597631214814,
          420.25502624155064,
          420.2502823555416,
          420.245531464205,
          420.24077356829287,
          420.23600866855816,
          420.231236765755,
          420.22645786063873,
          420.2216719539656,
          420.2168790464932,
          420.21207913898,
          420.2072722321857,
          420.2024583268711,
          420.1976374237982,
          420.19280952372986,
          420.18797462743026,
          420.18313273566457,
          420.1782838491992,
          420.17342796880155,
          420.16856509524007,
          420.16369522928454,
          420.1588183717057,
          420.1539345232753,
          420.14904368476647,
          420.1441458569531,
          420.13924104061056,
          420.134329236515,
          420.12941044544385,
          420.1244846681756,
          420.11955190548997,
          420.11461215816746,
          420.10966542699003,
          420.1047117127406,
          420.09975101620313,
          420.09478333816276,
          420.0898086794058,
          420.08482704071946,
          420.0798384228923,
          420.07484282671385,
          420.06984025297476,
          420.06483070246674,
          420.0598141759827,
          420.05479067431656,
          420.04976019826347,
          420.04472274861956,
          420.03967832618207,
          420.0346269317495,
          420.02956856612116,
          420.0245032300978,
          420.019430924481,
          420.01435165007365,
          420.0092654076796,
          420.00417219810384,
          419.99907202215246,
          419.9939648806327,
          419.9888507743529,
          419.98372970412237,
          419.97860167075174,
          419.9734666750525,
          419.9683247178375,
          419.96317579992046,
          419.95801992211636,
          419.9528570852412,
          419.94768729011207,
          419.94251053754726,
          419.93732682836605,
          419.93213616338886,
          419.92693854343725,
          419.92173396933384,
          419.9165224419024,
          419.91130396196763,
          419.90607853035556,
          419.9008461478932,
          419.89560681540877,
          419.8903605337313,
          419.8851073036913,
          419.8798471261201,
          419.87458000185035,
          419.86930593171553,
          419.8640249165504,
          419.8587369571909,
          419.8534420544738,
          419.8481402092373,
          419.8428314223204,
          419.8375156945633,
          419.8321930268074,
          419.82686341989506,
          419.82152687466987,
          419.8161833919764,
          419.81083297266036,
          419.80547561756856,
          419.80011132754896,
          419.7947401034505,
          419.78936194612334,
          419.78397685641863,
          419.7785848351887,
          419.773185883287,
          419.7677800015679,
          419.7623671908871,
          419.7569474521012,
          419.7515207860681,
          419.74608719364653,
          419.7406466756966,
          419.7351992330793,
          419.72974486665686,
          419.72428357729245,
          419.71881536585056,
          419.7133402331965,
          419.7078581801969,
          419.70236920771947,
          419.69687331663283,
          419.6913705078069,
          419.6858607821125,
          419.6803441404218,
          419.67482058360787,
          419.6692901125449,
          419.6637527281082,
          419.65820843117416,
          419.6526572226203,
          419.6470991033252,
          419.6415340741686,
          419.6359621360312,
          419.6303832897949,
          419.6247975363427,
          419.6192048765586,
          419.6136053113278,
          419.6079988415365,
          419.6023854680721,
          419.59676519182295,
          419.5911380136787,
          419.5855039345298,
          419.579862955268,
          419.57421507678623,
          419.5685602999783,
          419.5628986257391,
          419.55723005496486,
          419.5515545885526,
          419.5458722274007,
          419.54018297240845,
          419.5344868244763,
          419.5287837845057,
          419.52307385339947,
          419.5173570320611,
          419.5116333213956,
          419.5059027223087,
          419.5001652357074,
          419.4944208624999,
          419.4886696035952,
          419.48291145990373,
          419.47714643233667,
          419.4713745218065,
          419.4655957292268,
          419.4598100555121,
          419.45401750157816,
          419.44821806834176,
          419.4424117567208,
          419.4365985676342,
          419.43077850200194,
          419.42495156074534,
          419.4191177447865,
          419.4132770550488,
          419.40742949245663,
          419.4015750579355,
          419.39571375241195,
          419.3898455768137,
          419.38397053206944,
          419.3780886191091,
          419.3721998388636,
          419.36630419226486,
          419.3604016802461,
          419.3544923037415,
          419.3485760636862,
          419.34265296101677,
          419.3367229966706,
          419.33078617158606,
          419.324842486703,
          419.318891942962,
          419.31293454130486,
          419.3069702826745,
          419.3009991680149,
          419.29502119827106,
          419.2890363743891,
          419.28304469731637,
          419.277046168001,
          419.2710407873925,
          419.2650285564413,
          419.25900947609887,
          419.252983547318,
          419.2469507710524
         ]
        },
        {
         "mode": "text",
         "name": "Text",
         "text": [
          "Angle from monkey stop to next ff"
         ],
         "textfont": {
          "color": "LightSeaGreen",
          "family": "sans serif",
          "size": 18
         },
         "textposition": "bottom center",
         "type": "scatter",
         "x": [
          -620.7153971626608
         ],
         "y": [
          421.3884050741943
         ]
        },
        {
         "line": {
          "color": "blue",
          "dash": "dash",
          "width": 2
         },
         "mode": "lines",
         "name": "Next FF",
         "type": "scatter",
         "x": [
          -837.067873583915,
          -824.3809822841179
         ],
         "y": [
          375.9884750784861,
          466.7908622879888
         ]
        }
       ],
       "layout": {
        "autosize": false,
        "coloraxis": {
         "showscale": false
        },
        "height": 700,
        "legend": {
         "tracegroupgap": 0
        },
        "margin": {
         "b": 0,
         "l": 10,
         "r": 10,
         "t": 20
        },
        "plot_bgcolor": "white",
        "shapes": [
         {
          "fillcolor": "rgba(128, 128, 128, 0.25)",
          "line": {
           "color": "rgba(255, 165, 0, 0.45)"
          },
          "type": "circle",
          "x0": -860.4057061711231,
          "x1": -810.4057061711231,
          "xref": "x",
          "y0": 352.9051423698223,
          "y1": 402.9051423698223,
          "yref": "y"
         },
         {
          "fillcolor": "rgba(128, 128, 128, 0.25)",
          "line": {
           "color": "rgba(255, 165, 0, 0.45)"
          },
          "type": "circle",
          "x0": -849.3809822841179,
          "x1": -799.3809822841179,
          "xref": "x",
          "y0": 441.7908622879888,
          "y1": 491.7908622879888,
          "yref": "y"
         }
        ],
        "template": {
         "data": {
          "bar": [
           {
            "error_x": {
             "color": "#2a3f5f"
            },
            "error_y": {
             "color": "#2a3f5f"
            },
            "marker": {
             "line": {
              "color": "#E5ECF6",
              "width": 0.5
             },
             "pattern": {
              "fillmode": "overlay",
              "size": 10,
              "solidity": 0.2
             }
            },
            "type": "bar"
           }
          ],
          "barpolar": [
           {
            "marker": {
             "line": {
              "color": "#E5ECF6",
              "width": 0.5
             },
             "pattern": {
              "fillmode": "overlay",
              "size": 10,
              "solidity": 0.2
             }
            },
            "type": "barpolar"
           }
          ],
          "carpet": [
           {
            "aaxis": {
             "endlinecolor": "#2a3f5f",
             "gridcolor": "white",
             "linecolor": "white",
             "minorgridcolor": "white",
             "startlinecolor": "#2a3f5f"
            },
            "baxis": {
             "endlinecolor": "#2a3f5f",
             "gridcolor": "white",
             "linecolor": "white",
             "minorgridcolor": "white",
             "startlinecolor": "#2a3f5f"
            },
            "type": "carpet"
           }
          ],
          "choropleth": [
           {
            "colorbar": {
             "outlinewidth": 0,
             "ticks": ""
            },
            "type": "choropleth"
           }
          ],
          "contour": [
           {
            "colorbar": {
             "outlinewidth": 0,
             "ticks": ""
            },
            "colorscale": [
             [
              0,
              "#0d0887"
             ],
             [
              0.1111111111111111,
              "#46039f"
             ],
             [
              0.2222222222222222,
              "#7201a8"
             ],
             [
              0.3333333333333333,
              "#9c179e"
             ],
             [
              0.4444444444444444,
              "#bd3786"
             ],
             [
              0.5555555555555556,
              "#d8576b"
             ],
             [
              0.6666666666666666,
              "#ed7953"
             ],
             [
              0.7777777777777778,
              "#fb9f3a"
             ],
             [
              0.8888888888888888,
              "#fdca26"
             ],
             [
              1,
              "#f0f921"
             ]
            ],
            "type": "contour"
           }
          ],
          "contourcarpet": [
           {
            "colorbar": {
             "outlinewidth": 0,
             "ticks": ""
            },
            "type": "contourcarpet"
           }
          ],
          "heatmap": [
           {
            "colorbar": {
             "outlinewidth": 0,
             "ticks": ""
            },
            "colorscale": [
             [
              0,
              "#0d0887"
             ],
             [
              0.1111111111111111,
              "#46039f"
             ],
             [
              0.2222222222222222,
              "#7201a8"
             ],
             [
              0.3333333333333333,
              "#9c179e"
             ],
             [
              0.4444444444444444,
              "#bd3786"
             ],
             [
              0.5555555555555556,
              "#d8576b"
             ],
             [
              0.6666666666666666,
              "#ed7953"
             ],
             [
              0.7777777777777778,
              "#fb9f3a"
             ],
             [
              0.8888888888888888,
              "#fdca26"
             ],
             [
              1,
              "#f0f921"
             ]
            ],
            "type": "heatmap"
           }
          ],
          "heatmapgl": [
           {
            "colorbar": {
             "outlinewidth": 0,
             "ticks": ""
            },
            "colorscale": [
             [
              0,
              "#0d0887"
             ],
             [
              0.1111111111111111,
              "#46039f"
             ],
             [
              0.2222222222222222,
              "#7201a8"
             ],
             [
              0.3333333333333333,
              "#9c179e"
             ],
             [
              0.4444444444444444,
              "#bd3786"
             ],
             [
              0.5555555555555556,
              "#d8576b"
             ],
             [
              0.6666666666666666,
              "#ed7953"
             ],
             [
              0.7777777777777778,
              "#fb9f3a"
             ],
             [
              0.8888888888888888,
              "#fdca26"
             ],
             [
              1,
              "#f0f921"
             ]
            ],
            "type": "heatmapgl"
           }
          ],
          "histogram": [
           {
            "marker": {
             "pattern": {
              "fillmode": "overlay",
              "size": 10,
              "solidity": 0.2
             }
            },
            "type": "histogram"
           }
          ],
          "histogram2d": [
           {
            "colorbar": {
             "outlinewidth": 0,
             "ticks": ""
            },
            "colorscale": [
             [
              0,
              "#0d0887"
             ],
             [
              0.1111111111111111,
              "#46039f"
             ],
             [
              0.2222222222222222,
              "#7201a8"
             ],
             [
              0.3333333333333333,
              "#9c179e"
             ],
             [
              0.4444444444444444,
              "#bd3786"
             ],
             [
              0.5555555555555556,
              "#d8576b"
             ],
             [
              0.6666666666666666,
              "#ed7953"
             ],
             [
              0.7777777777777778,
              "#fb9f3a"
             ],
             [
              0.8888888888888888,
              "#fdca26"
             ],
             [
              1,
              "#f0f921"
             ]
            ],
            "type": "histogram2d"
           }
          ],
          "histogram2dcontour": [
           {
            "colorbar": {
             "outlinewidth": 0,
             "ticks": ""
            },
            "colorscale": [
             [
              0,
              "#0d0887"
             ],
             [
              0.1111111111111111,
              "#46039f"
             ],
             [
              0.2222222222222222,
              "#7201a8"
             ],
             [
              0.3333333333333333,
              "#9c179e"
             ],
             [
              0.4444444444444444,
              "#bd3786"
             ],
             [
              0.5555555555555556,
              "#d8576b"
             ],
             [
              0.6666666666666666,
              "#ed7953"
             ],
             [
              0.7777777777777778,
              "#fb9f3a"
             ],
             [
              0.8888888888888888,
              "#fdca26"
             ],
             [
              1,
              "#f0f921"
             ]
            ],
            "type": "histogram2dcontour"
           }
          ],
          "mesh3d": [
           {
            "colorbar": {
             "outlinewidth": 0,
             "ticks": ""
            },
            "type": "mesh3d"
           }
          ],
          "parcoords": [
           {
            "line": {
             "colorbar": {
              "outlinewidth": 0,
              "ticks": ""
             }
            },
            "type": "parcoords"
           }
          ],
          "pie": [
           {
            "automargin": true,
            "type": "pie"
           }
          ],
          "scatter": [
           {
            "fillpattern": {
             "fillmode": "overlay",
             "size": 10,
             "solidity": 0.2
            },
            "type": "scatter"
           }
          ],
          "scatter3d": [
           {
            "line": {
             "colorbar": {
              "outlinewidth": 0,
              "ticks": ""
             }
            },
            "marker": {
             "colorbar": {
              "outlinewidth": 0,
              "ticks": ""
             }
            },
            "type": "scatter3d"
           }
          ],
          "scattercarpet": [
           {
            "marker": {
             "colorbar": {
              "outlinewidth": 0,
              "ticks": ""
             }
            },
            "type": "scattercarpet"
           }
          ],
          "scattergeo": [
           {
            "marker": {
             "colorbar": {
              "outlinewidth": 0,
              "ticks": ""
             }
            },
            "type": "scattergeo"
           }
          ],
          "scattergl": [
           {
            "marker": {
             "colorbar": {
              "outlinewidth": 0,
              "ticks": ""
             }
            },
            "type": "scattergl"
           }
          ],
          "scattermapbox": [
           {
            "marker": {
             "colorbar": {
              "outlinewidth": 0,
              "ticks": ""
             }
            },
            "type": "scattermapbox"
           }
          ],
          "scatterpolar": [
           {
            "marker": {
             "colorbar": {
              "outlinewidth": 0,
              "ticks": ""
             }
            },
            "type": "scatterpolar"
           }
          ],
          "scatterpolargl": [
           {
            "marker": {
             "colorbar": {
              "outlinewidth": 0,
              "ticks": ""
             }
            },
            "type": "scatterpolargl"
           }
          ],
          "scatterternary": [
           {
            "marker": {
             "colorbar": {
              "outlinewidth": 0,
              "ticks": ""
             }
            },
            "type": "scatterternary"
           }
          ],
          "surface": [
           {
            "colorbar": {
             "outlinewidth": 0,
             "ticks": ""
            },
            "colorscale": [
             [
              0,
              "#0d0887"
             ],
             [
              0.1111111111111111,
              "#46039f"
             ],
             [
              0.2222222222222222,
              "#7201a8"
             ],
             [
              0.3333333333333333,
              "#9c179e"
             ],
             [
              0.4444444444444444,
              "#bd3786"
             ],
             [
              0.5555555555555556,
              "#d8576b"
             ],
             [
              0.6666666666666666,
              "#ed7953"
             ],
             [
              0.7777777777777778,
              "#fb9f3a"
             ],
             [
              0.8888888888888888,
              "#fdca26"
             ],
             [
              1,
              "#f0f921"
             ]
            ],
            "type": "surface"
           }
          ],
          "table": [
           {
            "cells": {
             "fill": {
              "color": "#EBF0F8"
             },
             "line": {
              "color": "white"
             }
            },
            "header": {
             "fill": {
              "color": "#C8D4E3"
             },
             "line": {
              "color": "white"
             }
            },
            "type": "table"
           }
          ]
         },
         "layout": {
          "annotationdefaults": {
           "arrowcolor": "#2a3f5f",
           "arrowhead": 0,
           "arrowwidth": 1
          },
          "autotypenumbers": "strict",
          "coloraxis": {
           "colorbar": {
            "outlinewidth": 0,
            "ticks": ""
           }
          },
          "colorscale": {
           "diverging": [
            [
             0,
             "#8e0152"
            ],
            [
             0.1,
             "#c51b7d"
            ],
            [
             0.2,
             "#de77ae"
            ],
            [
             0.3,
             "#f1b6da"
            ],
            [
             0.4,
             "#fde0ef"
            ],
            [
             0.5,
             "#f7f7f7"
            ],
            [
             0.6,
             "#e6f5d0"
            ],
            [
             0.7,
             "#b8e186"
            ],
            [
             0.8,
             "#7fbc41"
            ],
            [
             0.9,
             "#4d9221"
            ],
            [
             1,
             "#276419"
            ]
           ],
           "sequential": [
            [
             0,
             "#0d0887"
            ],
            [
             0.1111111111111111,
             "#46039f"
            ],
            [
             0.2222222222222222,
             "#7201a8"
            ],
            [
             0.3333333333333333,
             "#9c179e"
            ],
            [
             0.4444444444444444,
             "#bd3786"
            ],
            [
             0.5555555555555556,
             "#d8576b"
            ],
            [
             0.6666666666666666,
             "#ed7953"
            ],
            [
             0.7777777777777778,
             "#fb9f3a"
            ],
            [
             0.8888888888888888,
             "#fdca26"
            ],
            [
             1,
             "#f0f921"
            ]
           ],
           "sequentialminus": [
            [
             0,
             "#0d0887"
            ],
            [
             0.1111111111111111,
             "#46039f"
            ],
            [
             0.2222222222222222,
             "#7201a8"
            ],
            [
             0.3333333333333333,
             "#9c179e"
            ],
            [
             0.4444444444444444,
             "#bd3786"
            ],
            [
             0.5555555555555556,
             "#d8576b"
            ],
            [
             0.6666666666666666,
             "#ed7953"
            ],
            [
             0.7777777777777778,
             "#fb9f3a"
            ],
            [
             0.8888888888888888,
             "#fdca26"
            ],
            [
             1,
             "#f0f921"
            ]
           ]
          },
          "colorway": [
           "#636efa",
           "#EF553B",
           "#00cc96",
           "#ab63fa",
           "#FFA15A",
           "#19d3f3",
           "#FF6692",
           "#B6E880",
           "#FF97FF",
           "#FECB52"
          ],
          "font": {
           "color": "#2a3f5f"
          },
          "geo": {
           "bgcolor": "white",
           "lakecolor": "white",
           "landcolor": "#E5ECF6",
           "showlakes": true,
           "showland": true,
           "subunitcolor": "white"
          },
          "hoverlabel": {
           "align": "left"
          },
          "hovermode": "closest",
          "mapbox": {
           "style": "light"
          },
          "paper_bgcolor": "white",
          "plot_bgcolor": "#E5ECF6",
          "polar": {
           "angularaxis": {
            "gridcolor": "white",
            "linecolor": "white",
            "ticks": ""
           },
           "bgcolor": "#E5ECF6",
           "radialaxis": {
            "gridcolor": "white",
            "linecolor": "white",
            "ticks": ""
           }
          },
          "scene": {
           "xaxis": {
            "backgroundcolor": "#E5ECF6",
            "gridcolor": "white",
            "gridwidth": 2,
            "linecolor": "white",
            "showbackground": true,
            "ticks": "",
            "zerolinecolor": "white"
           },
           "yaxis": {
            "backgroundcolor": "#E5ECF6",
            "gridcolor": "white",
            "gridwidth": 2,
            "linecolor": "white",
            "showbackground": true,
            "ticks": "",
            "zerolinecolor": "white"
           },
           "zaxis": {
            "backgroundcolor": "#E5ECF6",
            "gridcolor": "white",
            "gridwidth": 2,
            "linecolor": "white",
            "showbackground": true,
            "ticks": "",
            "zerolinecolor": "white"
           }
          },
          "shapedefaults": {
           "line": {
            "color": "#2a3f5f"
           }
          },
          "ternary": {
           "aaxis": {
            "gridcolor": "white",
            "linecolor": "white",
            "ticks": ""
           },
           "baxis": {
            "gridcolor": "white",
            "linecolor": "white",
            "ticks": ""
           },
           "bgcolor": "#E5ECF6",
           "caxis": {
            "gridcolor": "white",
            "linecolor": "white",
            "ticks": ""
           }
          },
          "title": {
           "x": 0.05
          },
          "xaxis": {
           "automargin": true,
           "gridcolor": "white",
           "linecolor": "white",
           "ticks": "",
           "title": {
            "standoff": 15
           },
           "zerolinecolor": "white",
           "zerolinewidth": 2
          },
          "yaxis": {
           "automargin": true,
           "gridcolor": "white",
           "linecolor": "white",
           "ticks": "",
           "title": {
            "standoff": 15
           },
           "zerolinecolor": "white",
           "zerolinewidth": 2
          }
         }
        },
        "width": 1050,
        "xaxis": {
         "anchor": "y",
         "domain": [
          0,
          1
         ],
         "range": [
          -968.1032368639756,
          -721.883972805073
         ],
         "showgrid": false,
         "title": {
          "text": "monkey x after rotation (cm)"
         },
         "zeroline": false
        },
        "yaxis": {
         "anchor": "x",
         "domain": [
          0,
          1
         ],
         "range": [
          128.4850012007763,
          812.6884203381534
         ],
         "scaleanchor": "x",
         "scaleratio": 1,
         "showgrid": false,
         "title": {
          "text": "monkey y after rotation (cm)"
         },
         "zeroline": false
        }
       }
      }
     },
     "metadata": {},
     "output_type": "display_data"
    }
   ],
   "source": [
    "\n",
    "# Calculate the line between the stop point and the next firefly\n",
    "line_stop_nxt_ff = illustrate_concepts.find_line_between_stop_and_nxt_ff(snf, fixed_current_i)\n",
    "\n",
    "# Calculate the length of the line\n",
    "line_length = np.linalg.norm(line_stop_nxt_ff[:, 0] - line_stop_nxt_ff[:, 1])\n",
    "\n",
    "# Calculate the line representing the monkey's heading direction at the stop point\n",
    "# Extract stop coordinates and monkey's heading angle\n",
    "stop_x = snf.stops_near_ff_df_counted.iloc[fixed_current_i]['stop_x']\n",
    "stop_y = snf.stops_near_ff_df_counted.iloc[fixed_current_i]['stop_y']\n",
    "monkey_angle = snf.stops_near_ff_df_counted.iloc[fixed_current_i]['stop_monkey_angle']\n",
    "\n",
    "line_of_stop_heading = illustrate_concepts.find_line_of_heading(stop_x, stop_y, monkey_angle, \n",
    "    line_length=line_length, rotation_matrix=snf.plotly_inst.current_plotly_key_comp['rotation_matrix']\n",
    ")\n",
    "\n",
    "arc_radius = line_length / 2\n",
    "arc_center = line_stop_nxt_ff[:, 0]\n",
    "arc_end_1 = line_stop_nxt_ff[:, 1]\n",
    "arc_end_2 = line_of_stop_heading[:, 1]\n",
    "arc_xy = illustrate_concepts.calculate_arc_to_show_angle(\n",
    "    arc_center, arc_end_1, arc_end_2, arc_radius, None\n",
    ")\n",
    "\n",
    "# Make individual plots for stops near ff in Plotly\n",
    "current_i = snf.make_individual_plots_for_stops_near_ff_in_plotly(\n",
    "    fixed_current_i, max_num_plot_to_make=1, show_fig=False, **kwargs\n",
    ")\n",
    "illustrate_concepts.plot_with_additional_elements(snf,\n",
    "                                  line_of_stop_heading, line_stop_nxt_ff,\n",
    "                                  arc_xy)\n",
    "snf.plotly_inst.fig.show()"
   ]
  },
  {
   "cell_type": "code",
   "execution_count": null,
   "metadata": {},
   "outputs": [
    {
     "ename": "SyntaxError",
     "evalue": "invalid syntax (3319058519.py, line 1)",
     "output_type": "error",
     "traceback": [
      "\u001b[0;36m  Cell \u001b[0;32mIn[220], line 1\u001b[0;36m\u001b[0m\n",
      "\u001b[0;31m    stop!\u001b[0m\n",
      "\u001b[0m        ^\u001b[0m\n",
      "\u001b[0;31mSyntaxError\u001b[0m\u001b[0;31m:\u001b[0m invalid syntax\n"
     ]
    }
   ],
   "source": [
    "stop!"
   ]
  }
 ],
 "metadata": {
  "kernelspec": {
   "display_name": "Python 3",
   "language": "python",
   "name": "python3"
  },
  "language_info": {
   "codemirror_mode": {
    "name": "ipython",
    "version": 3
   },
   "file_extension": ".py",
   "mimetype": "text/x-python",
   "name": "python",
   "nbconvert_exporter": "python",
   "pygments_lexer": "ipython3",
   "version": "3.9.19"
  }
 },
 "nbformat": 4,
 "nbformat_minor": 2
}
