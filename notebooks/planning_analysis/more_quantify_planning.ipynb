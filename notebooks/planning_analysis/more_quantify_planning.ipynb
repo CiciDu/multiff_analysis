{
 "cells": [
  {
   "cell_type": "markdown",
   "metadata": {},
   "source": [
    "# Install packages"
   ]
  },
  {
   "cell_type": "code",
   "execution_count": null,
   "metadata": {},
   "outputs": [],
   "source": [
    "from google.colab import drive # import drive from google colab\n",
    "drive.mount(\"/content/drive\") \n",
    "!pip install neo\n",
    "!pip install matplotlib_scalebar\n",
    "!pip install ffmpeg\n",
    "!pip install Ipython --upgrade\n",
    "%load_ext autoreload\n",
    "%autoreload 2"
   ]
  },
  {
   "cell_type": "markdown",
   "metadata": {},
   "source": [
    "# Import packages"
   ]
  },
  {
   "cell_type": "code",
   "execution_count": null,
   "metadata": {},
   "outputs": [],
   "source": [
    "# if using google drive\n",
    "%cd /content/drive/MyDrive/ff_repo/Multifirefly-Project"
   ]
  },
  {
   "cell_type": "code",
   "execution_count": null,
   "metadata": {},
   "outputs": [],
   "source": [
    "%cd /Users/dusiyi/Documents/Multifirefly-Project"
   ]
  },
  {
   "cell_type": "code",
   "execution_count": 2,
   "metadata": {},
   "outputs": [],
   "source": [
    "%load_ext autoreload\n",
    "%autoreload 2\n",
    "\n",
    "import sys\n",
    "if not '/Users/dusiyi/Documents/Multifirefly-Project/multiff_analysis/methods' in sys.path:\n",
    "    sys.path.append('/Users/dusiyi/Documents/Multifirefly-Project/multiff_analysis/methods')\n",
    "from data_wrangling import basic_func, process_raw_data, base_processing_class, monkey_data_classes, combine_info_utils\n",
    "from pattern_discovery import pattern_by_trials, pattern_by_points, make_ff_dataframe, ff_dataframe_utils, pattern_by_trials, pattern_by_points, cluster_analysis, organize_patterns_and_features, category_class\n",
    "from decision_making_analysis.decision_making import decision_making_class, decision_making_utils, plot_decision_making, intended_targets_classes\n",
    "from decision_making_analysis.GUAT import GUAT_helper_class, GUAT_collect_info_class, GUAT_combine_info_class, process_GUAT_trials_class, GUAT_and_TAFT\n",
    "from decision_making_analysis import free_selection, replacement, trajectory_info\n",
    "from null_behaviors import show_null_trajectory, find_best_arc, curvature_utils, curvature_class, curv_of_traj_utils\n",
    "from machine_learning import machine_learning_utils, hyperparameter_tuning_class\n",
    "from machine_learning.RL.env_related import env_for_lstm, env_utils, base_env, collect_agent_data_utils\n",
    "from machine_learning.RL.lstm import GRU_functions, LSTM_functions\n",
    "from machine_learning.RL.SB3 import interpret_neural_network, sb3_for_multiff_class, rl_for_multiff_utils, SB3_functions\n",
    "from visualization import plot_trials, animation_func, plot_behaviors_utils, monkey_heading_functions\n",
    "from planning_analysis.show_planning import alt_ff_utils, show_planning_class, show_planning_utils\n",
    "from planning_analysis.show_planning.get_stops_near_ff import find_stops_near_ff_class, find_stops_near_ff_utils, plot_stops_near_ff_class, plot_stops_near_ff_utils, plot_monkey_heading_helper_class, stops_near_ff_based_on_ref_class\n",
    "from planning_analysis.test_params_for_planning import params_test_combos_class, params_utils\n",
    "from visualization.plotly_tools import plotly_for_monkey, plotly_for_scatterplot, plotly_preparation, plotly_for_correlation\n",
    "from visualization.dash_tools import dash_prep_class, dash_utils, dash_utils, dash_comparison_class, dash_params_class\n",
    "from visualization.dash_tools.dash_main_class_methods import dash_main_class\n",
    "from importlib import reload\n",
    "from non_behavioral_analysis import eye_positions\n",
    "import os\n",
    "import numpy as np\n",
    "import matplotlib\n",
    "import matplotlib.pyplot as plt\n",
    "from matplotlib import cm\n",
    "from os.path import exists\n",
    "import seaborn as sns\n",
    "import math\n",
    "import copy\n",
    "import matplotlib.pyplot as plt\n",
    "import pandas as pd\n",
    "import torch\n",
    "import torch.nn as nn\n",
    "import torch.optim as optim\n",
    "import tqdm\n",
    "import itertools\n",
    "import plotly.express as px\n",
    "from scipy.stats import rankdata\n",
    "from scipy import stats\n",
    "from IPython.display import HTML\n",
    "from matplotlib import rc\n",
    "from sklearn.model_selection import train_test_split\n",
    "from sklearn.preprocessing import OneHotEncoder\n",
    "from sklearn.datasets import make_multilabel_classification\n",
    "from sklearn.model_selection import train_test_split\n",
    "from sklearn.multioutput import MultiOutputClassifier\n",
    "from sklearn.neighbors import KNeighborsClassifier\n",
    "from sklearn.metrics import accuracy_score, hamming_loss, multilabel_confusion_matrix, fbeta_score, precision_score, recall_score\n",
    "from sklearn.svm import SVC\n",
    "from sklearn.tree import DecisionTreeClassifier\n",
    "from sklearn.ensemble import AdaBoostClassifier, RandomForestClassifier, VotingClassifier, BaggingClassifier, GradientBoostingClassifier\n",
    "from sklearn.neural_network import MLPClassifier\n",
    "from sklearn.linear_model import LinearRegression\n",
    "from sklearn.neighbors import KNeighborsRegressor, KNeighborsClassifier\n",
    "from sklearn.naive_bayes import GaussianNB\n",
    "from sklearn.linear_model import LogisticRegression\n",
    "from math import pi\n",
    "from scipy.ndimage import gaussian_filter1d\n",
    "from statsmodels.graphics.tsaplots import plot_acf\n",
    "import warnings\n",
    "import os, sys\n",
    "from sklearn.exceptions import ConvergenceWarning\n",
    "import plotly.graph_objects as go\n",
    "\n",
    "plt.rcParams[\"animation.html\"] = \"html5\"\n",
    "os.environ['KMP_DUPLICATE_LIB_OK']='True'\n",
    "rc('animation', html='jshtml')\n",
    "matplotlib.rcParams.update(matplotlib.rcParamsDefault)\n",
    "matplotlib.rcParams['animation.embed_limit'] = 2**128\n",
    "pd.set_option('display.float_format', lambda x: '%.5f' % x)\n",
    "np.set_printoptions(suppress=True)\n",
    "pd.options.display.max_rows = 101"
   ]
  },
  {
   "cell_type": "markdown",
   "metadata": {},
   "source": [
    "# Basic data"
   ]
  },
  {
   "cell_type": "markdown",
   "metadata": {},
   "source": [
    "## Retrieve monkey data"
   ]
  },
  {
   "cell_type": "code",
   "execution_count": null,
   "metadata": {},
   "outputs": [],
   "source": [
    "PLAYER = \"monkey\"\n",
    "monkey_data_folder_path = \"all_monkey_data/raw_monkey_data/individual_monkey_data/monkey_Bruno/data_0322\"\n",
    "data_item = monkey_data_classes.ProcessMonkeyData(raw_data_folder_path=monkey_data_folder_path)\n",
    "data_item.retrieve_or_make_monkey_data(exists_ok=True)\n",
    "data_item.make_or_retrieve_ff_dataframe(num_missed_index=0, exists_ok=True)\n",
    "\n",
    "data_item.find_patterns()\n",
    "data_item.make_PlotTrials_args()\n",
    "\n",
    "monkey_information = data_item.monkey_information\n",
    "ff_dataframe = data_item.ff_dataframe\n",
    "\n",
    "ff_life_sorted = data_item.ff_life_sorted\n",
    "ff_real_position_sorted = data_item.ff_real_position_sorted\n",
    "ff_believed_position_sorted = data_item.ff_believed_position_sorted\n",
    "cluster_around_target_indices = data_item.cluster_around_target_indices\n",
    "ff_caught_T_sorted = data_item.ff_caught_T_sorted\n",
    "caught_ff_num = len(ff_caught_T_sorted)\n",
    "ff_flash_sorted = data_item.ff_flash_sorted\n",
    "ff_flash_end_sorted = data_item.ff_flash_end_sorted\n",
    "max_point_index = data_item.max_point_index\n",
    "min_point_index = data_item.min_point_index\n",
    "\n",
    "monkey_name = data_item.model_folder_name.split('/')[2]\n",
    "data_name = data_item.model_folder_name.split('/')[3]\n",
    "\n",
    "\n",
    "PlotTrials_args = (monkey_information, ff_dataframe, ff_life_sorted, ff_real_position_sorted, ff_believed_position_sorted, cluster_around_target_indices, ff_caught_T_sorted)\n",
    "\n",
    "\n",
    "plot_polar_args = (monkey_information,\n",
    "                    ff_dataframe, \n",
    "                    ff_life_sorted,\n",
    "                    ff_real_position_sorted,\n",
    "                    ff_caught_T_sorted,\n",
    "                    ff_flash_sorted,)\n",
    "\n",
    "\n",
    "trial_total_num = 2\n",
    "PLAYER = \"monkey\"\n",
    "\n",
    "classic_plot_kwargs = {'player': PLAYER,\n",
    "                       'show_stops': True,\n",
    "                       'show_believed_target_positions': True,\n",
    "                       'show_reward_boundary': True,\n",
    "                       'show_scale_bar': True,\n",
    "                       'show_eye_positions': True,\n",
    "                       'show_eye_positions_on_the_right': True,\n",
    "                       'show_connect_path_eye_positions': True,\n",
    "                       #=== below is different from animation_plot_kwargs\n",
    "                       'hitting_arena_edge_ok': False,\n",
    "                       'trial_too_short_ok': False}\n",
    "\n",
    "combined_plot_kwargs = {'player': PLAYER,\n",
    "                        'combined_plot': True,\n",
    "                        'show_alive_fireflies': False,\n",
    "                        'show_title': False,\n",
    "                        'show_start': False}\n",
    "\n",
    "plot_chunks_kwargs = {'player': PLAYER,\n",
    "                      'show_stops': True,\n",
    "                      'show_believed_target_positions': True,\n",
    "                      'show_reward_boundary': True,\n",
    "                      'show_scale_bar': True,\n",
    "                      'hitting_arena_edge_ok': True,\n",
    "                      'trial_too_short_ok': True,\n",
    "                      'show_connect_path_ff': True,\n",
    "                      'trail_color_var': 'abs_ddw',\n",
    "                      'show_colorbar': True}\n",
    "\n",
    "\n",
    "plot_polar_kwargs = {'rmax': 400,\n",
    "                    'show_visible_ff': True,\n",
    "                    'hitting_arena_edge_ok': True,\n",
    "                    'return_axes': True,\n",
    "                    'colors_show_overall_time': True,\n",
    "                    'show_ff_in_memory': True,\n",
    "                    'show_target_at_being_caught': True\n",
    "}\n",
    "\n",
    "print(\"player is\", PLAYER)\n",
    "\n",
    "animation_plot_kwargs = classic_plot_kwargs.copy()\n",
    "animation_plot_kwargs['as_part_of_animation'] = True\n",
    "animation_plot_kwargs['show_eye_positions_on_the_right'] = False   \n",
    "animation_plot_kwargs['hitting_arena_edge_ok'] = True\n",
    "animation_plot_kwargs['trial_too_short_ok'] = True\n",
    "animation_plot_kwargs['images_dir'] = None\n",
    "\n",
    "\n",
    "  \n",
    "\n",
    "data_item.make_PlotTrials_kargs(classic_plot_kwargs, combined_plot_kwargs, animation_plot_kwargs)\n",
    "\n",
    "\n",
    "plotting_kwargs = {'player': 'monkey',\n",
    " 'show_stops': True,\n",
    " 'show_believed_target_positions': True,\n",
    " 'show_reward_boundary': True,\n",
    " 'show_scale_bar': True,\n",
    " 'hitting_arena_edge_ok': True,\n",
    " 'trial_too_short_ok': True,\n",
    " 'show_connect_path_ff': True,\n",
    " 'vary_color_for_connecting_path_ff': True,\n",
    " 'show_points_when_ff_stop_being_visible': False,\n",
    " #'show_connect_path_ff_memory': True,\n",
    " 'show_alive_fireflies': False,\n",
    " 'show_visible_fireflies': True,\n",
    " 'show_in_memory_fireflies': True,\n",
    " 'connect_path_ff_max_distance': 500,\n",
    " #'show_connect_path_ff_except_targets': True,\n",
    " 'adjust_xy_limits': True,\n",
    " 'show_null_agent_trajectory': True,\n",
    " 'show_only_ff_that_monkey_has_passed_by_closely': True,\n",
    " 'show_null_trajectory_reaching_boundary_ok': False,\n",
    " 'vary_color_for_connecting_path_ff': False}"
   ]
  },
  {
   "cell_type": "code",
   "execution_count": null,
   "metadata": {},
   "outputs": [],
   "source": [
    "# PlotTrials_args = (monkey_information, ff_dataframe, ff_life_sorted, ff_real_position_sorted, ff_believed_position_sorted, cluster_around_target_indices, ff_caught_T_sorted)\n",
    "\n",
    "\n",
    "# plot_polar_args = (monkey_information,\n",
    "#                     ff_dataframe, \n",
    "#                     ff_life_sorted,\n",
    "#                     ff_real_position_sorted,\n",
    "#                     ff_caught_T_sorted,\n",
    "#                     ff_flash_sorted,)\n",
    "\n",
    "# data_item.make_PlotTrials_args()\n",
    "# data_item.make_PlotTrials_kargs(classic_plot_kwargs, combined_plot_kwargs, animation_plot_kwargs)\n"
   ]
  },
  {
   "cell_type": "markdown",
   "metadata": {},
   "source": [
    "## ff_basic_info"
   ]
  },
  {
   "cell_type": "code",
   "execution_count": null,
   "metadata": {},
   "outputs": [],
   "source": [
    "# make ff_basic_info\n",
    "num_missing_elements = len(ff_real_position_sorted) - len(ff_caught_T_sorted)\n",
    "ff_caught_T_sorted_extended = np.concatenate([ff_caught_T_sorted, np.repeat(np.nan, num_missing_elements)])\n",
    "ff_believed_position_sorted_extended = np.concatenate([ff_believed_position_sorted, np.repeat(np.nan, num_missing_elements*2).reshape(-1,2)])\n",
    "\n",
    "ff_basic_info_bundle = (ff_real_position_sorted, ff_believed_position_sorted_extended, ff_life_sorted, ff_caught_T_sorted_extended, ff_flash_end_sorted)\n",
    "\n",
    "ff_basic_info = pd.DataFrame({'ff_index': range(len(ff_real_position_sorted)),\n",
    "                            'caught_T': ff_caught_T_sorted_extended,\n",
    "                            'real_x': ff_real_position_sorted[:,0],\n",
    "                            'real_y': ff_real_position_sorted[:,1],\n",
    "                            'believed_x': ff_believed_position_sorted_extended[:,0],\n",
    "                            'believed_y': ff_believed_position_sorted_extended[:,1],\n",
    "                            'life_start': ff_life_sorted[:,0],\n",
    "                            'life_end': ff_life_sorted[:,1],\n",
    "                            'flash_end': ff_flash_end_sorted,\n",
    "\n",
    "})\n",
    "\n",
    "\n",
    "ff_basic_info.head(3)"
   ]
  },
  {
   "cell_type": "markdown",
   "metadata": {},
   "source": [
    "## plotting kwargs"
   ]
  },
  {
   "cell_type": "code",
   "execution_count": null,
   "metadata": {},
   "outputs": [],
   "source": [
    "null_arcs_plotting_kwargs = {'player': 'monkey',\n",
    "    'show_stops': True,\n",
    "    'show_believed_target_positions': True,\n",
    "    'show_reward_boundary': True,\n",
    "    'show_scale_bar': True,\n",
    "    'hitting_arena_edge_ok': True,\n",
    "    'trial_too_short_ok': True,\n",
    "    'show_connect_path_ff': False,\n",
    "    'vary_color_for_connecting_path_ff': True,\n",
    "    'show_points_when_ff_stop_being_visible': False,\n",
    "    'show_alive_fireflies': False,\n",
    "    'show_visible_fireflies': True,\n",
    "    'show_in_memory_fireflies': True,\n",
    "    'connect_path_ff_max_distance': 500,\n",
    "    'adjust_xy_limits': True,\n",
    "    'show_null_agent_trajectory': False,\n",
    "    'show_only_ff_that_monkey_has_passed_by_closely': False,\n",
    "    'show_null_trajectory_reaching_boundary_ok': False,\n",
    "    'zoom_in': False,\n",
    "    'truncate_part_before_crossing_arena_edge': True}"
   ]
  },
  {
   "cell_type": "code",
   "execution_count": null,
   "metadata": {},
   "outputs": [],
   "source": [
    "stop!"
   ]
  },
  {
   "cell_type": "markdown",
   "metadata": {},
   "source": [
    "# SNF (stops near ff) class"
   ]
  },
  {
   "cell_type": "code",
   "execution_count": null,
   "metadata": {},
   "outputs": [],
   "source": [
    "import cProfile\n",
    "cProfile.run('snf.streamline_organizing_info()', sort='cumtime')"
   ]
  },
  {
   "cell_type": "markdown",
   "metadata": {},
   "source": [
    "## run class"
   ]
  },
  {
   "cell_type": "code",
   "execution_count": 5,
   "metadata": {},
   "outputs": [],
   "source": [
    "raw_data_folder_path = \"all_monkey_data/raw_monkey_data/individual_monkey_data/monkey_Bruno/data_0322\""
   ]
  },
  {
   "cell_type": "code",
   "execution_count": null,
   "metadata": {},
   "outputs": [],
   "source": [
    "\n",
    "normalize = False\n",
    "eliminate_outliers = False\n",
    "use_curvature_to_ff_center = False\n",
    "curv_of_traj_mode = 'distance'\n",
    "window_for_curv_of_traj=[-25, 25]\n",
    "\n",
    "#data_item_info = find_stops_near_ff_utils.extract_key_info_from_data_item_for_stops_near_ff_class(data_item)\n",
    "snf = stops_near_ff_based_on_ref_class.StopsNearFFBasedOnRef(raw_data_folder_path=raw_data_folder_path)\n",
    "snf.get_more_monkey_data()\n",
    "snf.traj_curv_descr = 'Traj Curv: From Current Point to Right Before Stop'\n",
    "\n",
    "snf.streamline_organizing_info(ref_point_mode='distance', ref_point_value=-120, \n",
    "                              #ref_point_mode='time after stop ff visible', ref_point_value=0.1, \n",
    "                               curv_of_traj_mode=curv_of_traj_mode, window_for_curv_of_traj=window_for_curv_of_traj, truncate_curv_of_traj_by_time_of_capture=True,\n",
    "                               use_curvature_to_ff_center=use_curvature_to_ff_center,  eliminate_outliers=eliminate_outliers,\n",
    "                               stops_near_ff_df_exists_ok=True)\n",
    "snf.ax_for_corr = snf.find_relationships_from_info(normalize=normalize, show_plot=True)\n",
    "snf.prepare_to_make_plots()"
   ]
  },
  {
   "cell_type": "markdown",
   "metadata": {},
   "source": [
    "## Other plots"
   ]
  },
  {
   "cell_type": "markdown",
   "metadata": {},
   "source": [
    "### see a distribution of how long before the stop did both become visible"
   ]
  },
  {
   "cell_type": "code",
   "execution_count": null,
   "metadata": {},
   "outputs": [],
   "source": [
    "earliest_time_point_both_visible = snf.monkey_information.loc[snf.stops_near_ff_df['earlest_point_index_when_alt_ff_and_stop_ff_have_both_been_seen_bbas'], 'monkey_t'].values\n",
    "duration_till_stop = snf.stops_near_ff_df['stop_time'].values - earliest_time_point_both_visible\n",
    "sns.histplot(duration_till_stop, bins=100)\n",
    "plt.show()\n"
   ]
  },
  {
   "cell_type": "markdown",
   "metadata": {},
   "source": [
    "### percentage"
   ]
  },
  {
   "cell_type": "code",
   "execution_count": 12,
   "metadata": {},
   "outputs": [],
   "source": [
    "snf._make_info_based_on_monkey_angle()"
   ]
  },
  {
   "cell_type": "code",
   "execution_count": null,
   "metadata": {},
   "outputs": [],
   "source": [
    "(snf.info_based_on_monkey_angle_before_stop['dir_from_stop_ff_to_stop']==snf.info_based_on_monkey_angle_before_stop['dir_from_stop_ff_to_alt_ff']).sum()/len(snf.stops_near_ff_df)"
   ]
  },
  {
   "cell_type": "code",
   "execution_count": null,
   "metadata": {},
   "outputs": [],
   "source": [
    "(snf.info_based_on_monkey_angle_when_alt_ff_last_seen['dir_from_stop_ff_to_stop']==snf.info_based_on_monkey_angle_when_alt_ff_last_seen['dir_from_stop_ff_to_alt_ff']).sum()/len(snf.stops_near_ff_df)"
   ]
  },
  {
   "cell_type": "markdown",
   "metadata": {},
   "source": [
    "# hyperparameter tuning"
   ]
  },
  {
   "cell_type": "markdown",
   "metadata": {},
   "source": [
    "The current calculation of curv_r/heading_r needs to be updated.\n",
    "\n",
    "Also, the operation is currently only based on one monkey session."
   ]
  },
  {
   "cell_type": "code",
   "execution_count": 16,
   "metadata": {},
   "outputs": [],
   "source": [
    "# Potential hyperparameters:\n",
    "\n",
    "# below can be changed to:\n",
    "ref_point_mode = 'time' # or 'distance'\n",
    "ref_point_value = -100 \n",
    "\n",
    "#window_for_curv_of_traj=[-25, 25]\n",
    "curv_of_traj_mode = 'distance'\n",
    "curv_of_traj_lower_end = -25\n",
    "curv_of_traj_upper_end = 25\n",
    "truncate_curv_of_traj_by_time_of_capture=False,\n",
    "eliminate_outliers=True\n",
    "use_curvature_to_ff_center=False"
   ]
  },
  {
   "cell_type": "markdown",
   "metadata": {},
   "source": [
    "## get tested_combo_df"
   ]
  },
  {
   "cell_type": "code",
   "execution_count": null,
   "metadata": {},
   "outputs": [],
   "source": [
    "ptc.all_combo_short"
   ]
  },
  {
   "cell_type": "code",
   "execution_count": null,
   "metadata": {},
   "outputs": [],
   "source": [
    "ptc._deal_with_rows_with_big_ff_angles(remove_i_o_modify_rows_with_big_ff_angles=True)"
   ]
  },
  {
   "cell_type": "code",
   "execution_count": null,
   "metadata": {},
   "outputs": [],
   "source": [
    "ptc.find_relative_curvature()"
   ]
  },
  {
   "cell_type": "code",
   "execution_count": null,
   "metadata": {},
   "outputs": [],
   "source": [
    "raw_data_folder_path = \"all_monkey_data/raw_monkey_data/individual_monkey_data/monkey_Bruno/data_0322\"\n",
    "ptc = params_test_combos_class.ParamsTestCombos(raw_data_folder_path=raw_data_folder_path)\n",
    "ptc.generate_all_combo_df() \n",
    "# save ptc.tested_combo_df into a csv file\n",
    "tested_combo_df = ptc.test_all_set_of_hyperparameters(sample_size=1000)\n",
    "tested_combo_df.to_csv(os.path.join(raw_data_folder_path, 'planning_hyperparameters_df.csv'))"
   ]
  },
  {
   "cell_type": "code",
   "execution_count": 37,
   "metadata": {},
   "outputs": [],
   "source": [
    "raw_data_folder_path = 'all_monkey_data/raw_monkey_data/individual_monkey_data/monkey_Bruno/data_0312'"
   ]
  },
  {
   "cell_type": "code",
   "execution_count": 38,
   "metadata": {},
   "outputs": [],
   "source": [
    "tested_combo_df = pd.read_csv(os.path.join(raw_data_folder_path, 'planning_hyperparameters_df.csv'))"
   ]
  },
  {
   "cell_type": "markdown",
   "metadata": {},
   "source": [
    "## inspection"
   ]
  },
  {
   "cell_type": "code",
   "execution_count": 39,
   "metadata": {},
   "outputs": [],
   "source": [
    "tested_combo_df['ref_point_mode_short'] = tested_combo_df['ref_point_mode'].apply(lambda x: x.split(' ')[0])\n",
    "tested_combo_df['curv_of_traj_mode_short'] = tested_combo_df['curv_of_traj_mode'].apply(lambda x: x.split(' ')[0])\n",
    "tested_combo_df['same_mode'] = tested_combo_df['ref_point_mode_short'] == tested_combo_df['curv_of_traj_mode_short']"
   ]
  },
  {
   "cell_type": "code",
   "execution_count": null,
   "metadata": {},
   "outputs": [],
   "source": [
    "# # take out the subset where the r value is above 2 std of shuffled r values and see what's going on in each\n",
    "tested_combo_df['shuffled_curv_r_mean_plus_2_std'] = tested_combo_df['shuffled_curv_r_mean'] + tested_combo_df['shuffled_curv_r_std']*2\n",
    "sub_df = tested_combo_df[tested_combo_df['curv_r'] > tested_combo_df['shuffled_curv_r_mean_plus_2_std']]\n",
    "sub_df"
   ]
  },
  {
   "cell_type": "code",
   "execution_count": null,
   "metadata": {},
   "outputs": [],
   "source": [
    "# take out the subset where the r value is above 2 std of shuffled r value and see what's going on in each\n",
    "tested_combo_df['shuffled_heading_r_mean_plus_2_std'] = tested_combo_df['shuffled_heading_r_mean'] + tested_combo_df['shuffled_heading_r_std']*2\n",
    "sub_df = tested_combo_df[tested_combo_df['heading_r'] > tested_combo_df['shuffled_heading_r_mean_plus_2_std']].copy()\n",
    "sub_df"
   ]
  },
  {
   "cell_type": "markdown",
   "metadata": {},
   "source": [
    "# Dash"
   ]
  },
  {
   "cell_type": "markdown",
   "metadata": {},
   "source": [
    "## main"
   ]
  },
  {
   "cell_type": "code",
   "execution_count": null,
   "metadata": {},
   "outputs": [],
   "source": [
    "\n",
    "ref_point_params = {'ref_point_mode': 'distance',\n",
    "                    'ref_point_value': -150}\n",
    "\n",
    "\n",
    "curv_of_traj_params = {'curv_of_traj_mode': 'distance',\n",
    "                        'window_for_curv_of_traj': [-25, 25],\n",
    "                        'truncate_curv_of_traj_by_time_of_capture': False}\n",
    "\n",
    "overall_params = {'eliminate_outliers': True,\n",
    "                  'use_curvature_to_ff_center': False,\n",
    "                  'normalize': False,\n",
    "                  'remove_i_o_modify_rows_with_big_ff_angles': True,\n",
    "                  'change_units_to_degrees_per_m': True,\n",
    "                  'heading_instead_of_curv': True}  \n",
    "\n",
    "monkey_plot_params = {\n",
    "    \"show_visible_fireflies\": True,\n",
    "    \"show_in_memory_fireflies\": False,\n",
    "    \"show_monkey_heading\": False,\n",
    "    \"show_visible_segments\": True,\n",
    "    \"show_traj_portion\": False,\n",
    "    \"show_null_arcs_to_ff\": False,\n",
    "    \"show_stops\": True,\n",
    "    \"show_all_eye_positions\": True,\n",
    "    \"show_current_eye_positions\": True,\n",
    "    \"show_eye_positions_for_both_eyes\": True,\n",
    "}\n",
    "\n",
    "scatter_plot_params = {\n",
    "    \"use_two_y_axes\": False,\n",
    "    \"show_alt_ff_curv_in_scatterplot\": True,\n",
    "    \"show_stop_ff_curv_in_scatterplot\": True,\n",
    "}\n",
    "\n",
    "                     \n",
    "dc = dash_main_class.DashMainPlots(raw_data_folder_path=raw_data_folder_path)\n",
    "\n",
    "dc.prepare_to_make_dash_for_main_plots(monkey_plot_params=monkey_plot_params,\n",
    "                                        scatter_plot_params=scatter_plot_params,\n",
    "                                        ref_point_params=ref_point_params,\n",
    "                                        curv_of_traj_params=curv_of_traj_params,\n",
    "                                        overall_params=overall_params)\n",
    "\n",
    "#dc.fig.show()\n",
    "#dc.fig_scatter_combd.show()\n"
   ]
  },
  {
   "cell_type": "code",
   "execution_count": null,
   "metadata": {},
   "outputs": [],
   "source": [
    "dc.make_dash_for_main_plots(show_trajectory_scatter_plot=False)"
   ]
  },
  {
   "cell_type": "markdown",
   "metadata": {},
   "source": [
    "## comparison\n",
    "\n",
    "shuffle alt_ff"
   ]
  },
  {
   "cell_type": "code",
   "execution_count": null,
   "metadata": {},
   "outputs": [],
   "source": [
    "dcom = dash_comparison_class.DashComparison(raw_data_folder_path=raw_data_folder_path)\n",
    "\n",
    "            \n",
    "ref_point_params = {'ref_point_mode': 'distance',\n",
    "                    'ref_point_value': -150}\n",
    "\n",
    "\n",
    "curv_of_traj_params = {'curv_of_traj_mode': 'distance',\n",
    "                        'window_for_curv_of_traj': [-75, 75],\n",
    "                        'truncate_curv_of_traj_by_time_of_capture': False}\n",
    "\n",
    "overall_params = {'eliminate_outliers': True,\n",
    "                  'use_curvature_to_ff_center': False,\n",
    "                  'normalize': False,\n",
    "                  'remove_i_o_modify_rows_with_big_ff_angles': True,\n",
    "                  'change_units_to_degrees_per_m': True,\n",
    "                  'heading_instead_of_curv': True}  \n",
    "\n",
    "        \n",
    "dcom.prepare_to_make_dash_for_comparison(ref_point_params,\n",
    "                                         curv_of_traj_params,\n",
    "                                         overall_params,)\n",
    "\n",
    "#dcom.make_dash_for_comparison()\n",
    "\n",
    "\n",
    "\n",
    "              "
   ]
  },
  {
   "cell_type": "code",
   "execution_count": null,
   "metadata": {},
   "outputs": [],
   "source": [
    "dcom.make_dash_for_comparison()"
   ]
  },
  {
   "cell_type": "markdown",
   "metadata": {},
   "source": [
    "## compare parameters"
   ]
  },
  {
   "cell_type": "markdown",
   "metadata": {},
   "source": [
    "The visualization looks good, but the code certainly needs to be updated."
   ]
  },
  {
   "cell_type": "code",
   "execution_count": null,
   "metadata": {},
   "outputs": [],
   "source": [
    "try:\n",
    "    tested_combo_df\n",
    "except:\n",
    "    raise ValueError(\"tested_combo_df not defined\")\n",
    "\n",
    "pad = dash_params_class.ParamsDash(raw_data_folder_path=raw_data_folder_path)\n",
    "                                             \n",
    "pad.ref_point_mode = 'time'\n",
    "pad.curv_of_traj_mode = 'time'\n",
    "tested_combo_df_sub = tested_combo_df[tested_combo_df['curv_r'] != 0].copy()\n",
    "pad.prepare_for_dash(tested_combo_df_sub)\n",
    "pad.make_dash_for_params()"
   ]
  },
  {
   "cell_type": "markdown",
   "metadata": {},
   "source": [
    "# Experiment on curv"
   ]
  },
  {
   "cell_type": "markdown",
   "metadata": {},
   "source": [
    "I wanted to see why the r value of the shuffled data is still so high...\n",
    "\n",
    "I realized that traj and stop already have a very high correlation; in fact, traj - alt and stop - alt has a lower correlation but not by much. Therefore, no matter how alt gets shuffled, there's still gonna be correlation that remains. \n",
    "\n",
    "I guess this is the difficulty associated with looking for correlation between difference of vars."
   ]
  },
  {
   "cell_type": "markdown",
   "metadata": {},
   "source": [
    "### corr of diff between vars "
   ]
  },
  {
   "cell_type": "code",
   "execution_count": 46,
   "metadata": {},
   "outputs": [],
   "source": [
    "stop_ff_counted_df = dc.stop_ff_counted_df.copy()\n",
    "alt_ff_counted_df = dc.alt_ff_counted_df.copy()\n",
    "# also make a copy of alt_ff_counted_df and shuffle it\n",
    "alt_ff_counted_df2 = dc.alt_ff_counted_df.copy()\n",
    "alt_ff_counted_df2[['curv_to_ff_center', 'optimal_curvature']] = alt_ff_counted_df2[['curv_to_ff_center', 'optimal_curvature']].sample(frac=1).values\n",
    "\n",
    "alt = alt_ff_counted_df['curv_to_ff_center'].values\n",
    "alt2 = alt_ff_counted_df2['curv_to_ff_center'].values\n",
    "traj = alt_ff_counted_df['curvature_of_traj'].values\n",
    "stop = stop_ff_counted_df['curv_to_ff_center'].values"
   ]
  },
  {
   "cell_type": "code",
   "execution_count": 47,
   "metadata": {},
   "outputs": [],
   "source": [
    "def show_relationships(x, y):\n",
    "    sns.scatterplot(x=x, y=y)\n",
    "    slope, intercept, r_value, p_value, std_err = stats.linregress(x, y)\n",
    "    print('slope:', slope)\n",
    "    print('r_value:', r_value)\n",
    "    return "
   ]
  },
  {
   "cell_type": "code",
   "execution_count": null,
   "metadata": {},
   "outputs": [],
   "source": [
    "x = traj-alt\n",
    "y = stop-alt\n",
    "show_relationships(x, y)"
   ]
  },
  {
   "cell_type": "code",
   "execution_count": null,
   "metadata": {},
   "outputs": [],
   "source": [
    "x = traj\n",
    "y = stop-alt\n",
    "show_relationships(x, y)"
   ]
  },
  {
   "cell_type": "code",
   "execution_count": null,
   "metadata": {},
   "outputs": [],
   "source": [
    "x = traj-alt2\n",
    "y = stop-alt\n",
    "show_relationships(x, y)"
   ]
  },
  {
   "cell_type": "code",
   "execution_count": null,
   "metadata": {},
   "outputs": [],
   "source": [
    "x = traj\n",
    "y = stop\n",
    "show_relationships(x, y)"
   ]
  },
  {
   "cell_type": "code",
   "execution_count": null,
   "metadata": {},
   "outputs": [],
   "source": [
    "x = stop\n",
    "y = alt\n",
    "show_relationships(x, y)"
   ]
  },
  {
   "cell_type": "markdown",
   "metadata": {},
   "source": [
    "### corr of vars"
   ]
  },
  {
   "cell_type": "code",
   "execution_count": null,
   "metadata": {},
   "outputs": [],
   "source": [
    "dc.fig_scatter_combd"
   ]
  },
  {
   "cell_type": "code",
   "execution_count": null,
   "metadata": {},
   "outputs": [],
   "source": [
    "sns.histplot(stop - traj)\n",
    "sns.histplot(alt - traj)"
   ]
  },
  {
   "cell_type": "code",
   "execution_count": null,
   "metadata": {},
   "outputs": [],
   "source": [
    "sns.scatterplot(x=traj, y=stop)\n",
    "slope, intercept, r_value, p_value, std_err = stats.linregress(traj, stop)\n",
    "print('slope:', slope)\n",
    "print('r_value:', r_value)"
   ]
  },
  {
   "cell_type": "code",
   "execution_count": null,
   "metadata": {},
   "outputs": [],
   "source": [
    "sns.scatterplot(x=traj, y=alt)\n",
    "slope, intercept, r_value, p_value, std_err = stats.linregress(traj, alt)\n",
    "print('slope:', slope)\n",
    "print('r_value:', r_value)\n"
   ]
  },
  {
   "cell_type": "code",
   "execution_count": null,
   "metadata": {},
   "outputs": [],
   "source": [
    "sns.scatterplot(x=traj, y=alt2)\n",
    "slope, intercept, r_value, p_value, std_err = stats.linregress(traj, alt2)\n",
    "print('slope:', slope)\n",
    "print('r_value:', r_value)"
   ]
  },
  {
   "cell_type": "code",
   "execution_count": null,
   "metadata": {},
   "outputs": [],
   "source": [
    "sns.scatterplot(x=traj, y=alt)\n",
    "sns.scatterplot(x=stop, y=alt)\n",
    "plt.show()"
   ]
  },
  {
   "cell_type": "markdown",
   "metadata": {},
   "source": [
    "# Other plots"
   ]
  },
  {
   "cell_type": "markdown",
   "metadata": {},
   "source": [
    "## compare 3 heading"
   ]
  },
  {
   "cell_type": "code",
   "execution_count": null,
   "metadata": {},
   "outputs": [],
   "source": [
    "dcom._find_relative_heading_info()\n",
    "sns.histplot(dcom.d_heading_alt, bins=20, color='r', alpha=0.5, stat='density', label='alt', kde=True)\n",
    "sns.histplot(dcom.d_heading_stop, bins=20, color='g', alpha=0.5, stat='density', label='stop', kde=True)\n",
    "sns.histplot(dcom.d_heading_of_traj, bins=20, color='b', alpha=0.5, stat='density', label='traj', kde=True)\n",
    "plt.legend()\n",
    "plt.show()\n"
   ]
  },
  {
   "cell_type": "code",
   "execution_count": null,
   "metadata": {},
   "outputs": [],
   "source": [
    "import plotly.graph_objects as go\n",
    "\n",
    "dc._find_relative_heading_info()\n",
    "x_array = np.arange(len(dc.d_heading_alt))\n",
    "\n",
    "# make a plotly figure for each of the three y_array above, with x_array being the same:\n",
    "fig = go.Figure()\n",
    "fig.add_trace(go.Scatter(x=x_array, y=dcom.d_heading_alt, mode='lines', name='alt'))\n",
    "fig.add_trace(go.Scatter(x=x_array, y=dcom.d_heading_stop, mode='lines', name='stop'))\n",
    "fig.add_trace(go.Scatter(x=x_array, y=dcom.d_heading_of_traj, mode='lines', name='traj'))\n",
    "\n",
    "fig.show()"
   ]
  },
  {
   "cell_type": "markdown",
   "metadata": {},
   "source": [
    "## what's wrong with monkey angle?"
   ]
  },
  {
   "cell_type": "code",
   "execution_count": null,
   "metadata": {},
   "outputs": [],
   "source": [
    "duration_to_plot = [27, 31.944755]\n",
    "trajectory_df, R = plotly_preparation.make_trajectory_df(dc.PlotTrials_args, duration_to_plot=duration_to_plot)\n",
    "show_stop_point_indices = trajectory_df.loc[trajectory_df['monkey_speeddummy']==0, 'point_index'].values\n",
    "mheading = monkey_heading_functions.find_mheading_in_xy(trajectory_df[['point_index']].values, dc.monkey_information)\n",
    "triangle_df = monkey_heading_functions.turn_mheading_into_triangle_df(mheading, R, point_index=None)\n",
    "\n",
    "\n",
    "fig = go.Figure()\n",
    "#fig = plot_trajectory_data(fig, trajectory_df, hoverdata_multi_columns=[])\n",
    "fig = plotly_for_monkey.plot_trajectory_data(fig, trajectory_df, hoverdata_multi_columns=[])\n",
    "fig = plotly_for_monkey.plot_stops_in_plotly(fig, trajectory_df, show_stop_point_indices, hoverdata_multi_columns=[])\n",
    "fig = monkey_heading_functions.plot_triangles_to_show_monkey_heading_in_xy_in_plotly(fig, triangle_df, trace_name_prefix=None, \n",
    "                                                                                      color='red', linewidth=0.5)\n",
    "# make x and y axis have the same scale\n",
    "fig.update_yaxes(scaleanchor=\"x\", scaleratio=1) \n",
    "fig"
   ]
  },
  {
   "cell_type": "markdown",
   "metadata": {},
   "source": [
    "## same mode or different: which is better"
   ]
  },
  {
   "cell_type": "code",
   "execution_count": 87,
   "metadata": {},
   "outputs": [],
   "source": [
    "tested_combo_df_p = params_utils.process_tested_combo_df(tested_combo_df)"
   ]
  },
  {
   "cell_type": "code",
   "execution_count": null,
   "metadata": {},
   "outputs": [],
   "source": [
    "tested_combo_df_p.columns"
   ]
  },
  {
   "cell_type": "code",
   "execution_count": null,
   "metadata": {},
   "outputs": [],
   "source": [
    "tested_combo_df.sort_values(by='curv_r_z_score', ascending=False)[['same_mode', 'curv_r_z_score', 'use_curvature_to_ff_center']].head(20)"
   ]
  },
  {
   "cell_type": "code",
   "execution_count": null,
   "metadata": {},
   "outputs": [],
   "source": [
    "tested_combo_df.sort_values(by='heading_r_z_score', ascending=False)[['same_mode', 'heading_r_z_score', 'use_curvature_to_ff_center']].head(20)"
   ]
  }
 ],
 "metadata": {
  "kernelspec": {
   "display_name": "Python 3",
   "language": "python",
   "name": "python3"
  },
  "language_info": {
   "codemirror_mode": {
    "name": "ipython",
    "version": 3
   },
   "file_extension": ".py",
   "mimetype": "text/x-python",
   "name": "python",
   "nbconvert_exporter": "python",
   "pygments_lexer": "ipython3",
   "version": "3.9.19"
  }
 },
 "nbformat": 4,
 "nbformat_minor": 2
}
