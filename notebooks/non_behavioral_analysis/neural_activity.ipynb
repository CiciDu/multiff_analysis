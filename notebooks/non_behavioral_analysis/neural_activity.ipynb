{
 "cells": [
  {
   "attachments": {},
   "cell_type": "markdown",
   "metadata": {
    "id": "Ba0IdmwjQ4rv"
   },
   "source": [
    "# Install packages"
   ]
  },
  {
   "cell_type": "code",
   "execution_count": null,
   "metadata": {
    "colab": {
     "base_uri": "https://localhost:8080/",
     "height": 1000
    },
    "executionInfo": {
     "elapsed": 56890,
     "status": "ok",
     "timestamp": 1685702276687,
     "user": {
      "displayName": "Cici Du",
      "userId": "17701548280142155870"
     },
     "user_tz": -480
    },
    "id": "37EL1grMQ4rw",
    "outputId": "0444b4d7-5fde-4180-ba12-8aa3855d06b1"
   },
   "outputs": [],
   "source": [
    "from google.colab import drive # import drive from google colab\n",
    "drive.mount(\"/content/drive\") \n",
    "!pip install neo\n",
    "!pip install matplotlib_scalebar\n",
    "!pip install ffmpeg\n",
    "!pip install Ipython --upgrade\n",
    "!pip3 install setuptools==65.5.0\n",
    "%cd /content/drive/MyDrive/ff_repo/Multifirefly-Project"
   ]
  },
  {
   "attachments": {},
   "cell_type": "markdown",
   "metadata": {},
   "source": [
    "# Import packages"
   ]
  },
  {
   "cell_type": "code",
   "execution_count": null,
   "metadata": {},
   "outputs": [],
   "source": [
    "# # For local use of the notebook\n",
    "# %cd /Users/dusiyi/Library/CloudStorage/GoogleDrive-sd80@rice.edu/My Drive/ff_repo/Multifirefly-Project"
   ]
  },
  {
   "cell_type": "code",
   "execution_count": null,
   "metadata": {},
   "outputs": [],
   "source": [
    "\n",
    "%load_ext autoreload\n",
    "%autoreload 2\n",
    "\n",
    "from pathlib import Path\n",
    "import os\n",
    "if Path.cwd().parts[-1] != 'notebooks':\n",
    "    os.chdir('..')\n",
    "    from add_path import find_path\n",
    "    current_path = find_path()\n",
    "    os.chdir(current_path)\n",
    "\n",
    "import sys\n",
    " \n",
    "\n",
    "from data_wrangling import basic_func, process_raw_data, monkey_data_classes\n",
    "from pattern_discovery import pattern_by_trials, pattern_by_trials, cluster_analysis, organize_patterns_and_features\n",
    "from visualization import plot_behaviors_utils\n",
    "from non_behavioral_analysis import neural_analysis, neural_data_processing, visualize_neural_data\n",
    "from non_behavioral_analysis.prep_other_data_for_neural_analysis import prep_ff_data, prep_final_behavioral_data, prep_monkey_data, prep_target_df\n",
    "from non_behavioral_analysis.planning_neural import planning_neural_class\n",
    "\n",
    "import os\n",
    "import numpy as np\n",
    "import matplotlib\n",
    "import matplotlib.pyplot as plt\n",
    "import pandas as pd\n",
    "import math\n",
    "import seaborn as sns\n",
    "from matplotlib import rc\n",
    "from os.path import exists\n",
    "from numpy import random\n",
    "from sklearn.metrics import mean_squared_error\n",
    "from sklearn.linear_model import LinearRegression\n",
    "from sklearn.cross_decomposition import CCA\n",
    "from sklearn.preprocessing import StandardScaler\n",
    "from sklearn.metrics import r2_score\n",
    "from statsmodels.stats.outliers_influence import variance_inflation_factor\n",
    "from sklearn.model_selection import train_test_split\n",
    "from importlib import reload\n",
    "import neo\n",
    "import gc\n",
    "\n",
    "import sys\n",
    "import os\n",
    "import numpy as np\n",
    "import torch\n",
    "from numpy import pi\n",
    "from matplotlib import pyplot as plt\n",
    "\n",
    "import numpy as np\n",
    "import scipy.linalg as linalg\n",
    "import scipy.interpolate as interpolate\n",
    "from scipy.signal import fftconvolve\n",
    "\n",
    "\n",
    "from scipy.io import loadmat\n",
    "from sklearn.linear_model import Ridge\n",
    "from sklearn.model_selection import GridSearchCV\n",
    "import sys\n",
    "\n",
    "import scipy.sparse as sparse\n",
    "import matplotlib.pylab as plt\n",
    "\n",
    "plt.rcParams[\"animation.html\"] = \"html5\"\n",
    "os.environ['KMP_DUPLICATE_LIB_OK']='True'\n",
    "rc('animation', html='jshtml')\n",
    "matplotlib.rcParams.update(matplotlib.rcParamsDefault)\n",
    "matplotlib.rcParams['animation.embed_limit'] = 2**128\n",
    "pd.set_option('display.float_format', lambda x: '%.5f' % x)\n",
    "np.set_printoptions(suppress=True)\n",
    "print(\"done\")\n",
    "\n",
    "%load_ext autoreload\n",
    "%autoreload 2"
   ]
  },
  {
   "cell_type": "markdown",
   "metadata": {},
   "source": [
    "# Data path"
   ]
  },
  {
   "cell_type": "code",
   "execution_count": 3,
   "metadata": {},
   "outputs": [],
   "source": [
    "raw_data_folder_path = \"all_monkey_data/raw_monkey_data/individual_monkey_data/monkey_Bruno/data_0330\""
   ]
  },
  {
   "attachments": {},
   "cell_type": "markdown",
   "metadata": {},
   "source": [
    "# Retrieve data"
   ]
  },
  {
   "attachments": {},
   "cell_type": "markdown",
   "metadata": {},
   "source": [
    "## Retrieve monkey data"
   ]
  },
  {
   "cell_type": "code",
   "execution_count": null,
   "metadata": {},
   "outputs": [],
   "source": [
    "\n",
    "data_item = monkey_data_classes.ProcessMonkeyData(raw_data_folder_path=raw_data_folder_path)\n",
    "data_item.save_important_files(exists_ok=True)\n",
    "data_item.make_PlotTrials_args()\n",
    "\n",
    "monkey_information = data_item.monkey_information.copy()\n",
    "ff_dataframe = data_item.ff_dataframe.copy()\n",
    "ff_life_sorted = data_item.ff_life_sorted\n",
    "ff_real_position_sorted = data_item.ff_real_position_sorted\n",
    "ff_believed_position_sorted = data_item.ff_believed_position_sorted\n",
    "cluster_around_target_indices = data_item.cluster_around_target_indices\n",
    "ff_caught_T_new = data_item.ff_caught_T_new\n",
    "ff_flash_sorted = data_item.ff_flash_sorted\n",
    "\n",
    "all_trial_patterns = data_item.all_trial_patterns\n",
    "pattern_frequencies = data_item.pattern_frequencies\n",
    "feature_statistics = data_item.feature_statistics"
   ]
  },
  {
   "cell_type": "markdown",
   "metadata": {},
   "source": [
    "## Neural data (in bins)"
   ]
  },
  {
   "cell_type": "code",
   "execution_count": 71,
   "metadata": {},
   "outputs": [],
   "source": [
    "spike_df, spike_times_in_s, spike_clusters = neural_data_processing.make_spike_df(raw_data_folder_path=raw_data_folder_path,\n",
    "                                                                                  sampling_rate=20000)\n",
    "bin_width=0.25\n",
    "time_bins, neural_stacked_bins = neural_data_processing.bin_spikes(spike_df, bin_width=bin_width)\n",
    "# neural_bins_df = pd.DataFrame(neural_stacked_bins, columns=np.arange(neural_stacked_bins.shape[1]))\n",
    "# neural_bins_df['bin'] = np.arange(neural_bins_df.shape[0])\n",
    "\n",
    "num_bins = neural_stacked_bins.shape[0]\n",
    "unique_clusters = np.sort(spike_df.cluster.unique())"
   ]
  },
  {
   "cell_type": "code",
   "execution_count": null,
   "metadata": {},
   "outputs": [],
   "source": [
    "time_bins"
   ]
  },
  {
   "cell_type": "code",
   "execution_count": null,
   "metadata": {},
   "outputs": [],
   "source": [
    "315603/7.890075"
   ]
  },
  {
   "cell_type": "code",
   "execution_count": null,
   "metadata": {},
   "outputs": [],
   "source": [
    "unique_clusters"
   ]
  },
  {
   "attachments": {},
   "cell_type": "markdown",
   "metadata": {},
   "source": [
    "# Monkey and ff data"
   ]
  },
  {
   "attachments": {},
   "cell_type": "markdown",
   "metadata": {},
   "source": [
    "## Get convolution pattern"
   ]
  },
  {
   "cell_type": "code",
   "execution_count": null,
   "metadata": {},
   "outputs": [],
   "source": [
    "window_width, num_bins_in_window, convolve_pattern = neural_data_processing.calculate_window_parameters(window_width=1, bin_width=0.25)\n",
    "print(\"True window width: \", window_width)\n"
   ]
  },
  {
   "attachments": {},
   "cell_type": "markdown",
   "metadata": {},
   "source": [
    "## Plotting kwargs"
   ]
  },
  {
   "cell_type": "code",
   "execution_count": null,
   "metadata": {},
   "outputs": [],
   "source": [
    "trial_total_num = 10\n",
    "PLAYER = \"monkey\"\n",
    "\n",
    "classic_plot_kwargs = {'player': PLAYER,\n",
    "                       'show_stops': True,\n",
    "                       'show_believed_target_positions': True,\n",
    "                       'show_reward_boundary': True,\n",
    "                       'show_scale_bar': True,\n",
    "                       'show_eye_positions': True,\n",
    "                       'show_eye_positions_on_the_right': True,\n",
    "                       'show_connect_path_eye_positions': True,\n",
    "                       #=== below is different from animation_plot_kwargs\n",
    "                       'hitting_arena_edge_ok': False,\n",
    "                       'trial_too_short_ok': False}\n",
    "\n",
    "\n",
    "combined_plot_kwargs = {'player': PLAYER,\n",
    "                        'combined_plot': True,\n",
    "                        'show_alive_fireflies': False,\n",
    "                        'show_title': False,\n",
    "                        'show_start': False}\n",
    "\n",
    "\n",
    "plot_chunks_kwargs = {'player': PLAYER,\n",
    "                      'show_stops': True,\n",
    "                      'show_believed_target_positions': True,\n",
    "                      'show_reward_boundary': True,\n",
    "                      'show_scale_bar': True,\n",
    "                      'hitting_arena_edge_ok': True,\n",
    "                      'trial_too_short_ok': True,\n",
    "                      'show_connect_path_ff': True,\n",
    "                      'trail_color_var': 'abs_ddw',\n",
    "                      'show_colorbar': True}\n",
    "\n",
    "\n",
    "plot_polar_kwargs = {'rmax': 400,\n",
    "                    'show_visible_ff': True,\n",
    "                    'hitting_arena_edge_ok': True,\n",
    "                    'return_axes': True,\n",
    "                    'colors_show_overall_time': True,\n",
    "                    'show_ff_in_memory': True,\n",
    "                    'show_target_at_being_caught': True\n",
    "}\n",
    "\n",
    "print(\"player is\", PLAYER)\n",
    "\n",
    "animation_plot_kwargs = classic_plot_kwargs\n",
    "animation_plot_kwargs['as_part_of_animation'] = True\n",
    "animation_plot_kwargs['show_eye_positions_on_the_right'] = False   \n",
    "animation_plot_kwargs['hitting_arena_edge_ok'] = True\n",
    "animation_plot_kwargs['trial_too_short_ok'] = True\n",
    "animation_plot_kwargs['images_dir'] = None"
   ]
  },
  {
   "attachments": {},
   "cell_type": "markdown",
   "metadata": {},
   "source": [
    "## Monkey data processing"
   ]
  },
  {
   "cell_type": "code",
   "execution_count": 11,
   "metadata": {},
   "outputs": [],
   "source": [
    "rebinned_monkey_info_essential, data_item.monkey_information = prep_monkey_data.make_rebinned_monkey_info_essential(data_item.monkey_information, time_bins, data_item.ff_caught_T_new, convolve_pattern, window_width)"
   ]
  },
  {
   "attachments": {},
   "cell_type": "markdown",
   "metadata": {},
   "source": [
    "## ff data processing"
   ]
  },
  {
   "cell_type": "code",
   "execution_count": null,
   "metadata": {},
   "outputs": [],
   "source": [
    "data_item.monkey_information"
   ]
  },
  {
   "cell_type": "code",
   "execution_count": 13,
   "metadata": {},
   "outputs": [],
   "source": [
    "ff_dataframe_unique_ff, ff_dataframe_unique_visible_ff, min_ff_info, min_visible_ff_info = prep_ff_data.prepare_ff_data(data_item, time_bins)"
   ]
  },
  {
   "cell_type": "code",
   "execution_count": null,
   "metadata": {},
   "outputs": [],
   "source": [
    "min_ff_info.columns"
   ]
  },
  {
   "attachments": {},
   "cell_type": "markdown",
   "metadata": {},
   "source": [
    "## target_df"
   ]
  },
  {
   "cell_type": "code",
   "execution_count": 15,
   "metadata": {},
   "outputs": [],
   "source": [
    "target_df, target_average_info, target_min_info, target_max_info = prep_target_df.retrieve_or_make_and_target_df_into_h5(data_item,\n",
    "        exists_ok=True)"
   ]
  },
  {
   "cell_type": "code",
   "execution_count": null,
   "metadata": {},
   "outputs": [],
   "source": [
    "target_df.columns"
   ]
  },
  {
   "attachments": {},
   "cell_type": "markdown",
   "metadata": {},
   "source": [
    "## category_info"
   ]
  },
  {
   "cell_type": "code",
   "execution_count": 17,
   "metadata": {},
   "outputs": [],
   "source": [
    "pattern_df, pattern_df_condensed = prep_monkey_data.prepare_pattern_df(data_item, time_bins)"
   ]
  },
  {
   "cell_type": "code",
   "execution_count": null,
   "metadata": {},
   "outputs": [],
   "source": [
    "pattern_df.columns"
   ]
  },
  {
   "cell_type": "markdown",
   "metadata": {},
   "source": [
    "## binned_features"
   ]
  },
  {
   "cell_type": "code",
   "execution_count": 19,
   "metadata": {},
   "outputs": [],
   "source": [
    "feature_dataframes_to_merge = (ff_dataframe_unique_visible_ff, min_ff_info, min_visible_ff_info, target_average_info, target_min_info, target_max_info, pattern_df_condensed)\n",
    "binned_features = prep_final_behavioral_data.make_binned_features(ff_dataframe_unique_ff, num_bins, ff_caught_T_new, time_bins, feature_dataframes_to_merge)"
   ]
  },
  {
   "attachments": {},
   "cell_type": "markdown",
   "metadata": {},
   "source": [
    "## Final_behavioral_data"
   ]
  },
  {
   "cell_type": "code",
   "execution_count": 70,
   "metadata": {},
   "outputs": [],
   "source": [
    "final_behavioral_data = prep_final_behavioral_data.make_final_behavioral_data(rebinned_monkey_info_essential, binned_features)\n"
   ]
  },
  {
   "cell_type": "code",
   "execution_count": null,
   "metadata": {},
   "outputs": [],
   "source": [
    "final_behavioral_data.columns"
   ]
  },
  {
   "attachments": {},
   "cell_type": "markdown",
   "metadata": {},
   "source": [
    "# Neural data"
   ]
  },
  {
   "attachments": {},
   "cell_type": "markdown",
   "metadata": {},
   "source": [
    "## prepare x_var"
   ]
  },
  {
   "cell_type": "code",
   "execution_count": 72,
   "metadata": {},
   "outputs": [],
   "source": [
    "max_bin = final_behavioral_data['bin'].max()\n",
    "x_var, spikes_in_bins_df = neural_data_processing.prepare_x_var_and_spikes_in_bins_df(max_bin, neural_stacked_bins)"
   ]
  },
  {
   "attachments": {},
   "cell_type": "markdown",
   "metadata": {},
   "source": [
    "## Convolve"
   ]
  },
  {
   "cell_type": "code",
   "execution_count": 23,
   "metadata": {},
   "outputs": [],
   "source": [
    "x_var_convolved = neural_data_processing.convolve_neural_data(x_var, kernel_len=7)"
   ]
  },
  {
   "attachments": {},
   "cell_type": "markdown",
   "metadata": {},
   "source": [
    "## Lag"
   ]
  },
  {
   "cell_type": "code",
   "execution_count": null,
   "metadata": {},
   "outputs": [],
   "source": [
    "lag_numbers = range(-3, 4)\n",
    "x_var_lags = neural_data_processing.add_lags_to_each_feature(spikes_in_bins_df, lag_numbers)\n",
    "y_var_lags = neural_data_processing.add_lags_to_each_feature(final_behavioral_data, lag_numbers)\n",
    "y_var_lags"
   ]
  },
  {
   "cell_type": "code",
   "execution_count": null,
   "metadata": {},
   "outputs": [],
   "source": [
    "synthetic_data = np.concatenate([np.arange(20).reshape(-1,1), np.arange(1, 21).reshape(-1,1)], axis=1)\n",
    "synthetic_data_lags = neural_data_processing.add_lags_to_each_feature(synthetic_data, lag_numbers)\n",
    "synthetic_data_lags"
   ]
  },
  {
   "attachments": {},
   "cell_type": "markdown",
   "metadata": {},
   "source": [
    "## firing rate"
   ]
  },
  {
   "cell_type": "code",
   "execution_count": null,
   "metadata": {},
   "outputs": [],
   "source": [
    "# get convolved windows\n",
    "all_windows = np.repeat(bin_width, len(x_var_convolved))\n",
    "convolved_windows = np.convolve(all_windows, convolve_pattern, 'same')\n",
    "\n",
    "# apply convolution to every column in spikes_in_bins_df\n",
    "firing_rate_df = spikes_in_bins_df.apply(lambda x: np.convolve(x, convolve_pattern, 'same')/convolved_windows, axis=0)\n",
    "firing_rate_df"
   ]
  },
  {
   "attachments": {},
   "cell_type": "markdown",
   "metadata": {
    "id": "CDYYJFqxzU_A"
   },
   "source": [
    "## Plot interspike intervals"
   ]
  },
  {
   "cell_type": "code",
   "execution_count": null,
   "metadata": {
    "executionInfo": {
     "elapsed": 20,
     "status": "aborted",
     "timestamp": 1685702046406,
     "user": {
      "displayName": "Cici Du",
      "userId": "17701548280142155870"
     },
     "user_tz": -480
    },
    "id": "oRCRtPKLzZn6"
   },
   "outputs": [],
   "source": [
    "num_spikes = 1000\n",
    "plt.plot(range(num_spikes), np.diff(spike_times_in_s[:num_spikes+1]))\n",
    "plt.title(\"Interspike intervals\")\n",
    "plt.show()\n"
   ]
  },
  {
   "cell_type": "code",
   "execution_count": null,
   "metadata": {
    "executionInfo": {
     "elapsed": 20,
     "status": "aborted",
     "timestamp": 1685702046406,
     "user": {
      "displayName": "Cici Du",
      "userId": "17701548280142155870"
     },
     "user_tz": -480
    },
    "id": "LBsQ9yWozbS6"
   },
   "outputs": [],
   "source": [
    "num_spikes = 100\n",
    "plt.figure(figsize=(10, 7))\n",
    "plt.scatter(spike_times_in_s[:num_spikes], np.ones(num_spikes), s=5)\n",
    "plt.title(\"Spikes\")\n",
    "plt.show()\n"
   ]
  },
  {
   "attachments": {},
   "cell_type": "markdown",
   "metadata": {
    "id": "bRYWkXndz0wy"
   },
   "source": [
    "### Differentiate them based on clusters"
   ]
  },
  {
   "cell_type": "code",
   "execution_count": null,
   "metadata": {
    "executionInfo": {
     "elapsed": 20,
     "status": "aborted",
     "timestamp": 1685702046406,
     "user": {
      "displayName": "Cici Du",
      "userId": "17701548280142155870"
     },
     "user_tz": -480
    },
    "id": "DQw-RdKJ-3n2"
   },
   "outputs": [],
   "source": [
    "spikes_to_plot = range(10000, 10500)\n",
    "plt.figure(figsize=(10, 10))\n",
    "plt.scatter(spike_df.time[spikes_to_plot], spike_df.cluster[spikes_to_plot], s=2)\n",
    "# fix the yticks to be the cluster names\n",
    "plt.yticks(spike_df.cluster[spikes_to_plot].unique(), spike_df.cluster[spikes_to_plot].unique())\n",
    "plt.title(\"Spikes\")\n",
    "plt.show()\n"
   ]
  },
  {
   "attachments": {},
   "cell_type": "markdown",
   "metadata": {},
   "source": [
    "### Correlation between spike clusters"
   ]
  },
  {
   "cell_type": "code",
   "execution_count": null,
   "metadata": {},
   "outputs": [],
   "source": [
    "corr_coeff = pd.DataFrame(neural_stacked_bins).corr()\n",
    "plt.figure(figsize = (15, 15))\n",
    "sns.heatmap(corr_coeff, cmap='coolwarm', annot=True, linewidths=1, vmin=-1)\n",
    "plt.show()"
   ]
  },
  {
   "attachments": {},
   "cell_type": "markdown",
   "metadata": {},
   "source": [
    "# Relating neural data to other variables"
   ]
  },
  {
   "attachments": {},
   "cell_type": "markdown",
   "metadata": {
    "id": "83ZmaxlcdFKQ"
   },
   "source": [
    "### Catching a target"
   ]
  },
  {
   "cell_type": "code",
   "execution_count": null,
   "metadata": {},
   "outputs": [],
   "source": [
    "time_to_sample_from = range(len(ff_caught_T_new))\n",
    "visualize_neural_data.make_individual_spike_plots(time_to_sample_from, spike_df, unique_clusters, max_plots=2)"
   ]
  },
  {
   "cell_type": "code",
   "execution_count": null,
   "metadata": {},
   "outputs": [],
   "source": [
    "time_to_sample_from = range(len(ff_caught_T_new))\n",
    "visualize_neural_data.make_overlaid_spike_plot(time_to_sample_from, spike_df, unique_clusters, max_rows_to_plot=4)"
   ]
  },
  {
   "attachments": {},
   "cell_type": "markdown",
   "metadata": {
    "id": "5X1qMHv38AQX"
   },
   "source": [
    "### Stop (whether or not resulting in a capture?)"
   ]
  },
  {
   "cell_type": "code",
   "execution_count": null,
   "metadata": {},
   "outputs": [],
   "source": [
    "time_to_sample_from = monkey_information[monkey_information['monkey_speeddummy'] == 0].monkey_t.values\n",
    "visualize_neural_data.make_overlaid_spike_plot(time_to_sample_from, spike_df, unique_clusters, max_rows_to_plot=4)"
   ]
  },
  {
   "attachments": {},
   "cell_type": "markdown",
   "metadata": {},
   "source": [
    "### High speed"
   ]
  },
  {
   "cell_type": "code",
   "execution_count": null,
   "metadata": {},
   "outputs": [],
   "source": [
    "time_to_sample_from = monkey_information[monkey_information['monkey_speed'] > 100].monkey_t.values\n",
    "visualize_neural_data.make_overlaid_spike_plot(time_to_sample_from, spike_df, unique_clusters, max_rows_to_plot=4)"
   ]
  },
  {
   "attachments": {},
   "cell_type": "markdown",
   "metadata": {},
   "source": [
    "### Visible_before_last_one instances"
   ]
  },
  {
   "cell_type": "code",
   "execution_count": null,
   "metadata": {},
   "outputs": [],
   "source": [
    "filepath = os.path.join(data_item.data_folder_name, 'target_cluster_df.csv')\n",
    "current_i = 1\n",
    "max_plots = 3\n",
    "\n",
    "if exists(filepath):\n",
    "    target_cluster_df = pd.read_csv(filepath).drop([\"Unnamed: 0\"], axis=1)\n",
    "    target_cluster_VBLO = pattern_by_trials.find_target_cluster_visible_before_last_one(target_cluster_df, ff_caught_T_new)\n",
    "    visualize_neural_data.make_individual_spike_plot_from_target_cluster_VBLO(target_cluster_VBLO, spike_df, unique_clusters, starting_row=current_i, max_plots=max_plots)\n",
    "    current_i += max_plots\n",
    "else:\n",
    "    print(\"No target_cluster_df.csv file found\")\n"
   ]
  },
  {
   "attachments": {},
   "cell_type": "markdown",
   "metadata": {
    "id": "8lytlMUj9kkB"
   },
   "source": [
    "### Just try it randomly"
   ]
  },
  {
   "cell_type": "code",
   "execution_count": null,
   "metadata": {},
   "outputs": [],
   "source": [
    "time_to_sample_from = random.uniform(100, 1000, 100)\n",
    "visualize_neural_data.make_overlaid_spike_plot(time_to_sample_from, spike_df, unique_clusters, max_rows_to_plot=5)"
   ]
  },
  {
   "attachments": {},
   "cell_type": "markdown",
   "metadata": {
    "id": "1FNm-I1ySfzl"
   },
   "source": [
    "# Linear regression\n",
    "\n",
    "Regressing the behavioral variables individually (as y_var) against all neural activity"
   ]
  },
  {
   "cell_type": "code",
   "execution_count": null,
   "metadata": {},
   "outputs": [],
   "source": [
    "final_behavioral_data"
   ]
  },
  {
   "cell_type": "code",
   "execution_count": null,
   "metadata": {},
   "outputs": [],
   "source": [
    "# conduct linear regression on X and y\n",
    "plt.rcParams[\"figure.figsize\"] = (20, 10)\n",
    "bins_to_plot = range(final_behavioral_data.bin.max())\n",
    "for i, column in enumerate(final_behavioral_data.columns):\n",
    "    visualize_neural_data.plot_regression(final_behavioral_data, column, x_var, min_R_squared_to_plot=0.2)\n",
    "\n",
    "    # if i == 3:\n",
    "    #     break"
   ]
  },
  {
   "cell_type": "code",
   "execution_count": null,
   "metadata": {},
   "outputs": [],
   "source": [
    "# plot one neural cluster against one behavioral variable\n",
    "\n",
    "cluster_num, behavioral_column = 6, 'monkey_speed'\n",
    "bins_to_plot = range(1000, 1200)\n",
    "x_values, y_values = x_var[bins_to_plot, cluster_num], final_behavioral_data[behavioral_column][bins_to_plot]\n",
    "reg = LinearRegression().fit(x_values.reshape(-1, 1), y_values)\n",
    "\n",
    "plt.scatter(x_values, y_values, color='blue', s=1)\n",
    "plt.plot(x_values, reg.predict(x_values.reshape(-1, 1)), color='red', linewidth=1)\n",
    "plt.show()"
   ]
  },
  {
   "cell_type": "markdown",
   "metadata": {},
   "source": [
    "# Multicollinearity"
   ]
  },
  {
   "cell_type": "markdown",
   "metadata": {},
   "source": [
    "## VIF"
   ]
  },
  {
   "cell_type": "code",
   "execution_count": null,
   "metadata": {},
   "outputs": [],
   "source": [
    "gc.collect()"
   ]
  },
  {
   "cell_type": "code",
   "execution_count": 41,
   "metadata": {},
   "outputs": [],
   "source": [
    "# vif = pd.DataFrame({\n",
    "#     \"VIF Factor\": [variance_inflation_factor(y_var_lags, i) for i in range(y_var_lags.shape[1])],\n",
    "#     \"features\": y_var_lags.columns\n",
    "# }).sort_values(by='VIF Factor', ascending=False).round(1)\n",
    "\n",
    "# vif"
   ]
  },
  {
   "cell_type": "code",
   "execution_count": null,
   "metadata": {},
   "outputs": [],
   "source": [
    "# vif = pd.DataFrame({\n",
    "#     \"VIF Factor\": [variance_inflation_factor(x_var_lags, i) for i in range(x_var_lags.shape[1])],\n",
    "#     \"features\": x_var_lags.columns\n",
    "# }).sort_values(by='VIF Factor', ascending=False).round(1)\n",
    "\n",
    "# vif"
   ]
  },
  {
   "cell_type": "code",
   "execution_count": 43,
   "metadata": {},
   "outputs": [
    {
     "data": {
      "text/html": [
       "<div>\n",
       "<style scoped>\n",
       "    .dataframe tbody tr th:only-of-type {\n",
       "        vertical-align: middle;\n",
       "    }\n",
       "\n",
       "    .dataframe tbody tr th {\n",
       "        vertical-align: top;\n",
       "    }\n",
       "\n",
       "    .dataframe thead th {\n",
       "        text-align: right;\n",
       "    }\n",
       "</style>\n",
       "<table border=\"1\" class=\"dataframe\">\n",
       "  <thead>\n",
       "    <tr style=\"text-align: right;\">\n",
       "      <th></th>\n",
       "      <th>VIF Factor</th>\n",
       "      <th>features</th>\n",
       "    </tr>\n",
       "  </thead>\n",
       "  <tbody>\n",
       "    <tr>\n",
       "      <th>28</th>\n",
       "      <td>3550.30000</td>\n",
       "      <td>avg_target_angle</td>\n",
       "    </tr>\n",
       "    <tr>\n",
       "      <th>29</th>\n",
       "      <td>3295.10000</td>\n",
       "      <td>avg_target_angle_to_boundary</td>\n",
       "    </tr>\n",
       "    <tr>\n",
       "      <th>32</th>\n",
       "      <td>3032.10000</td>\n",
       "      <td>avg_target_last_seen_angle</td>\n",
       "    </tr>\n",
       "    <tr>\n",
       "      <th>33</th>\n",
       "      <td>2788.80000</td>\n",
       "      <td>avg_target_last_seen_angle_to_boundary</td>\n",
       "    </tr>\n",
       "    <tr>\n",
       "      <th>12</th>\n",
       "      <td>1083.10000</td>\n",
       "      <td>monkey_speeddummy</td>\n",
       "    </tr>\n",
       "    <tr>\n",
       "      <th>22</th>\n",
       "      <td>1068.90000</td>\n",
       "      <td>min_abs_ff_angle</td>\n",
       "    </tr>\n",
       "    <tr>\n",
       "      <th>15</th>\n",
       "      <td>1057.10000</td>\n",
       "      <td>num_stops</td>\n",
       "    </tr>\n",
       "    <tr>\n",
       "      <th>23</th>\n",
       "      <td>1042.40000</td>\n",
       "      <td>min_abs_ff_angle_boundary</td>\n",
       "    </tr>\n",
       "    <tr>\n",
       "      <th>26</th>\n",
       "      <td>235.80000</td>\n",
       "      <td>min_abs_visible_ff_angle_boundary</td>\n",
       "    </tr>\n",
       "    <tr>\n",
       "      <th>25</th>\n",
       "      <td>235.40000</td>\n",
       "      <td>min_abs_visible_ff_angle</td>\n",
       "    </tr>\n",
       "    <tr>\n",
       "      <th>40</th>\n",
       "      <td>152.30000</td>\n",
       "      <td>avg_target_cluster_last_seen_angle_to_boundary</td>\n",
       "    </tr>\n",
       "    <tr>\n",
       "      <th>39</th>\n",
       "      <td>132.90000</td>\n",
       "      <td>avg_target_cluster_last_seen_angle</td>\n",
       "    </tr>\n",
       "    <tr>\n",
       "      <th>42</th>\n",
       "      <td>58.30000</td>\n",
       "      <td>avg_target_cluster_last_seen_angle_frozen</td>\n",
       "    </tr>\n",
       "    <tr>\n",
       "      <th>35</th>\n",
       "      <td>55.00000</td>\n",
       "      <td>avg_target_last_seen_angle_frozen</td>\n",
       "    </tr>\n",
       "    <tr>\n",
       "      <th>3</th>\n",
       "      <td>53.30000</td>\n",
       "      <td>RDy</td>\n",
       "    </tr>\n",
       "    <tr>\n",
       "      <th>4</th>\n",
       "      <td>53.20000</td>\n",
       "      <td>RDz</td>\n",
       "    </tr>\n",
       "    <tr>\n",
       "      <th>17</th>\n",
       "      <td>52.30000</td>\n",
       "      <td>stop_rate</td>\n",
       "    </tr>\n",
       "    <tr>\n",
       "      <th>43</th>\n",
       "      <td>51.70000</td>\n",
       "      <td>avg_target_cluster_last_seen_angle_to_boundary...</td>\n",
       "    </tr>\n",
       "    <tr>\n",
       "      <th>1</th>\n",
       "      <td>49.90000</td>\n",
       "      <td>LDy</td>\n",
       "    </tr>\n",
       "    <tr>\n",
       "      <th>38</th>\n",
       "      <td>49.70000</td>\n",
       "      <td>avg_target_cluster_last_seen_distance</td>\n",
       "    </tr>\n",
       "    <tr>\n",
       "      <th>36</th>\n",
       "      <td>49.30000</td>\n",
       "      <td>avg_target_last_seen_angle_to_boundary_frozen</td>\n",
       "    </tr>\n",
       "    <tr>\n",
       "      <th>2</th>\n",
       "      <td>44.10000</td>\n",
       "      <td>LDz</td>\n",
       "    </tr>\n",
       "    <tr>\n",
       "      <th>31</th>\n",
       "      <td>30.70000</td>\n",
       "      <td>avg_target_last_seen_distance</td>\n",
       "    </tr>\n",
       "    <tr>\n",
       "      <th>34</th>\n",
       "      <td>27.70000</td>\n",
       "      <td>avg_target_last_seen_distance_frozen</td>\n",
       "    </tr>\n",
       "    <tr>\n",
       "      <th>41</th>\n",
       "      <td>27.20000</td>\n",
       "      <td>avg_target_cluster_last_seen_distance_frozen</td>\n",
       "    </tr>\n",
       "    <tr>\n",
       "      <th>27</th>\n",
       "      <td>23.20000</td>\n",
       "      <td>avg_target_distance</td>\n",
       "    </tr>\n",
       "    <tr>\n",
       "      <th>59</th>\n",
       "      <td>16.50000</td>\n",
       "      <td>catching_ff</td>\n",
       "    </tr>\n",
       "    <tr>\n",
       "      <th>16</th>\n",
       "      <td>16.10000</td>\n",
       "      <td>num_caught_ff</td>\n",
       "    </tr>\n",
       "    <tr>\n",
       "      <th>9</th>\n",
       "      <td>13.20000</td>\n",
       "      <td>monkey_speed</td>\n",
       "    </tr>\n",
       "    <tr>\n",
       "      <th>19</th>\n",
       "      <td>9.10000</td>\n",
       "      <td>num_alive_ff</td>\n",
       "    </tr>\n",
       "    <tr>\n",
       "      <th>47</th>\n",
       "      <td>7.80000</td>\n",
       "      <td>max_target_cluster_visible_dummy</td>\n",
       "    </tr>\n",
       "    <tr>\n",
       "      <th>46</th>\n",
       "      <td>7.50000</td>\n",
       "      <td>max_target_visible_dummy</td>\n",
       "    </tr>\n",
       "    <tr>\n",
       "      <th>24</th>\n",
       "      <td>6.40000</td>\n",
       "      <td>min_visible_ff_distance</td>\n",
       "    </tr>\n",
       "    <tr>\n",
       "      <th>20</th>\n",
       "      <td>5.70000</td>\n",
       "      <td>num_visible_ff</td>\n",
       "    </tr>\n",
       "    <tr>\n",
       "      <th>30</th>\n",
       "      <td>5.10000</td>\n",
       "      <td>avg_target_last_seen_time</td>\n",
       "    </tr>\n",
       "    <tr>\n",
       "      <th>0</th>\n",
       "      <td>5.10000</td>\n",
       "      <td>bin</td>\n",
       "    </tr>\n",
       "    <tr>\n",
       "      <th>37</th>\n",
       "      <td>5.10000</td>\n",
       "      <td>avg_target_cluster_last_seen_time</td>\n",
       "    </tr>\n",
       "    <tr>\n",
       "      <th>44</th>\n",
       "      <td>4.70000</td>\n",
       "      <td>min_target_has_disappeared_for_last_time_dummy</td>\n",
       "    </tr>\n",
       "    <tr>\n",
       "      <th>21</th>\n",
       "      <td>3.60000</td>\n",
       "      <td>min_ff_distance</td>\n",
       "    </tr>\n",
       "    <tr>\n",
       "      <th>45</th>\n",
       "      <td>2.90000</td>\n",
       "      <td>min_target_cluster_has_disappeared_for_last_ti...</td>\n",
       "    </tr>\n",
       "    <tr>\n",
       "      <th>6</th>\n",
       "      <td>2.80000</td>\n",
       "      <td>gaze_monkey_view_y</td>\n",
       "    </tr>\n",
       "    <tr>\n",
       "      <th>11</th>\n",
       "      <td>2.70000</td>\n",
       "      <td>monkey_dw</td>\n",
       "    </tr>\n",
       "    <tr>\n",
       "      <th>18</th>\n",
       "      <td>2.70000</td>\n",
       "      <td>stop_success_rate</td>\n",
       "    </tr>\n",
       "    <tr>\n",
       "      <th>56</th>\n",
       "      <td>2.30000</td>\n",
       "      <td>give_up_after_trying</td>\n",
       "    </tr>\n",
       "    <tr>\n",
       "      <th>49</th>\n",
       "      <td>1.90000</td>\n",
       "      <td>give_up_after_trying_indice_dummy</td>\n",
       "    </tr>\n",
       "    <tr>\n",
       "      <th>55</th>\n",
       "      <td>1.80000</td>\n",
       "      <td>try_a_few_times</td>\n",
       "    </tr>\n",
       "    <tr>\n",
       "      <th>48</th>\n",
       "      <td>1.80000</td>\n",
       "      <td>try_a_few_times_indice_dummy</td>\n",
       "    </tr>\n",
       "    <tr>\n",
       "      <th>52</th>\n",
       "      <td>1.70000</td>\n",
       "      <td>visible_before_last_one</td>\n",
       "    </tr>\n",
       "    <tr>\n",
       "      <th>54</th>\n",
       "      <td>1.70000</td>\n",
       "      <td>ignore_sudden_flash</td>\n",
       "    </tr>\n",
       "    <tr>\n",
       "      <th>5</th>\n",
       "      <td>1.60000</td>\n",
       "      <td>gaze_monkey_view_x</td>\n",
       "    </tr>\n",
       "    <tr>\n",
       "      <th>14</th>\n",
       "      <td>1.60000</td>\n",
       "      <td>monkey_ddv</td>\n",
       "    </tr>\n",
       "    <tr>\n",
       "      <th>50</th>\n",
       "      <td>1.50000</td>\n",
       "      <td>ignore_sudden_flas_indice_dummy</td>\n",
       "    </tr>\n",
       "    <tr>\n",
       "      <th>57</th>\n",
       "      <td>1.40000</td>\n",
       "      <td>cluster_around_target</td>\n",
       "    </tr>\n",
       "    <tr>\n",
       "      <th>13</th>\n",
       "      <td>1.30000</td>\n",
       "      <td>monkey_ddw</td>\n",
       "    </tr>\n",
       "    <tr>\n",
       "      <th>53</th>\n",
       "      <td>1.30000</td>\n",
       "      <td>disappear_latest</td>\n",
       "    </tr>\n",
       "    <tr>\n",
       "      <th>58</th>\n",
       "      <td>1.20000</td>\n",
       "      <td>waste_cluster_around_target</td>\n",
       "    </tr>\n",
       "    <tr>\n",
       "      <th>51</th>\n",
       "      <td>1.10000</td>\n",
       "      <td>two_in_a_row</td>\n",
       "    </tr>\n",
       "    <tr>\n",
       "      <th>8</th>\n",
       "      <td>1.10000</td>\n",
       "      <td>gaze_world_y</td>\n",
       "    </tr>\n",
       "    <tr>\n",
       "      <th>10</th>\n",
       "      <td>1.10000</td>\n",
       "      <td>monkey_angles</td>\n",
       "    </tr>\n",
       "    <tr>\n",
       "      <th>7</th>\n",
       "      <td>1.00000</td>\n",
       "      <td>gaze_world_x</td>\n",
       "    </tr>\n",
       "  </tbody>\n",
       "</table>\n",
       "</div>"
      ],
      "text/plain": [
       "    VIF Factor                                           features\n",
       "28  3550.30000                                   avg_target_angle\n",
       "29  3295.10000                       avg_target_angle_to_boundary\n",
       "32  3032.10000                         avg_target_last_seen_angle\n",
       "33  2788.80000             avg_target_last_seen_angle_to_boundary\n",
       "12  1083.10000                                  monkey_speeddummy\n",
       "22  1068.90000                                   min_abs_ff_angle\n",
       "15  1057.10000                                          num_stops\n",
       "23  1042.40000                          min_abs_ff_angle_boundary\n",
       "26   235.80000                  min_abs_visible_ff_angle_boundary\n",
       "25   235.40000                           min_abs_visible_ff_angle\n",
       "40   152.30000     avg_target_cluster_last_seen_angle_to_boundary\n",
       "39   132.90000                 avg_target_cluster_last_seen_angle\n",
       "42    58.30000          avg_target_cluster_last_seen_angle_frozen\n",
       "35    55.00000                  avg_target_last_seen_angle_frozen\n",
       "3     53.30000                                                RDy\n",
       "4     53.20000                                                RDz\n",
       "17    52.30000                                          stop_rate\n",
       "43    51.70000  avg_target_cluster_last_seen_angle_to_boundary...\n",
       "1     49.90000                                                LDy\n",
       "38    49.70000              avg_target_cluster_last_seen_distance\n",
       "36    49.30000      avg_target_last_seen_angle_to_boundary_frozen\n",
       "2     44.10000                                                LDz\n",
       "31    30.70000                      avg_target_last_seen_distance\n",
       "34    27.70000               avg_target_last_seen_distance_frozen\n",
       "41    27.20000       avg_target_cluster_last_seen_distance_frozen\n",
       "27    23.20000                                avg_target_distance\n",
       "59    16.50000                                        catching_ff\n",
       "16    16.10000                                      num_caught_ff\n",
       "9     13.20000                                       monkey_speed\n",
       "19     9.10000                                       num_alive_ff\n",
       "47     7.80000                   max_target_cluster_visible_dummy\n",
       "46     7.50000                           max_target_visible_dummy\n",
       "24     6.40000                            min_visible_ff_distance\n",
       "20     5.70000                                     num_visible_ff\n",
       "30     5.10000                          avg_target_last_seen_time\n",
       "0      5.10000                                                bin\n",
       "37     5.10000                  avg_target_cluster_last_seen_time\n",
       "44     4.70000     min_target_has_disappeared_for_last_time_dummy\n",
       "21     3.60000                                    min_ff_distance\n",
       "45     2.90000  min_target_cluster_has_disappeared_for_last_ti...\n",
       "6      2.80000                                 gaze_monkey_view_y\n",
       "11     2.70000                                          monkey_dw\n",
       "18     2.70000                                  stop_success_rate\n",
       "56     2.30000                               give_up_after_trying\n",
       "49     1.90000                  give_up_after_trying_indice_dummy\n",
       "55     1.80000                                    try_a_few_times\n",
       "48     1.80000                       try_a_few_times_indice_dummy\n",
       "52     1.70000                            visible_before_last_one\n",
       "54     1.70000                                ignore_sudden_flash\n",
       "5      1.60000                                 gaze_monkey_view_x\n",
       "14     1.60000                                         monkey_ddv\n",
       "50     1.50000                    ignore_sudden_flas_indice_dummy\n",
       "57     1.40000                              cluster_around_target\n",
       "13     1.30000                                         monkey_ddw\n",
       "53     1.30000                                   disappear_latest\n",
       "58     1.20000                        waste_cluster_around_target\n",
       "51     1.10000                                       two_in_a_row\n",
       "8      1.10000                                       gaze_world_y\n",
       "10     1.10000                                      monkey_angles\n",
       "7      1.00000                                       gaze_world_x"
      ]
     },
     "execution_count": 43,
     "metadata": {},
     "output_type": "execute_result"
    }
   ],
   "source": [
    "vif = pd.DataFrame({\n",
    "    \"VIF Factor\": [variance_inflation_factor(final_behavioral_data.values, i) for i in range(final_behavioral_data.shape[1])],\n",
    "    \"features\": final_behavioral_data.columns\n",
    "}).sort_values(by='VIF Factor', ascending=False).round(1)\n",
    "\n",
    "vif"
   ]
  },
  {
   "cell_type": "markdown",
   "metadata": {},
   "source": [
    "## Correlations between features"
   ]
  },
  {
   "cell_type": "code",
   "execution_count": 44,
   "metadata": {},
   "outputs": [
    {
     "data": {
      "text/plain": [
       "array(['avg_target_angle', 'avg_target_angle_to_boundary',\n",
       "       'avg_target_last_seen_angle',\n",
       "       'avg_target_last_seen_angle_to_boundary', 'monkey_speeddummy',\n",
       "       'min_abs_ff_angle', 'num_stops', 'min_abs_ff_angle_boundary',\n",
       "       'min_abs_visible_ff_angle_boundary', 'min_abs_visible_ff_angle',\n",
       "       'avg_target_cluster_last_seen_angle_to_boundary',\n",
       "       'avg_target_cluster_last_seen_angle',\n",
       "       'avg_target_cluster_last_seen_angle_frozen',\n",
       "       'avg_target_last_seen_angle_frozen', 'RDy', 'RDz', 'stop_rate',\n",
       "       'avg_target_cluster_last_seen_angle_to_boundary_frozen', 'LDy',\n",
       "       'avg_target_cluster_last_seen_distance',\n",
       "       'avg_target_last_seen_angle_to_boundary_frozen', 'LDz',\n",
       "       'avg_target_last_seen_distance',\n",
       "       'avg_target_last_seen_distance_frozen',\n",
       "       'avg_target_cluster_last_seen_distance_frozen',\n",
       "       'avg_target_distance', 'catching_ff', 'num_caught_ff',\n",
       "       'monkey_speed', 'num_alive_ff', 'max_target_cluster_visible_dummy',\n",
       "       'max_target_visible_dummy', 'min_visible_ff_distance',\n",
       "       'num_visible_ff', 'avg_target_last_seen_time', 'bin',\n",
       "       'avg_target_cluster_last_seen_time'], dtype=object)"
      ]
     },
     "execution_count": 44,
     "metadata": {},
     "output_type": "execute_result"
    }
   ],
   "source": [
    "specific_columns = vif[vif[\"VIF Factor\"] > 5].features.values\n",
    "specific_columns"
   ]
  },
  {
   "cell_type": "code",
   "execution_count": 45,
   "metadata": {},
   "outputs": [],
   "source": [
    "# specific_columns = ['traj_curv_when_alt_ff_first_seen',\n",
    "#        'stop_ff_distance_when_alt_ff_first_seen',\n",
    "#        'stop_arc_curv_when_alt_ff_first_seen',\n",
    "#        'stop_arc_dheading_when_alt_ff_first_seen',\n",
    "#        'stop_opt_arc_curv_when_alt_ff_first_seen',\n",
    "#        'stop_ff_angle_when_alt_ff_first_seen',\n",
    "#        'alt_ff_angle_when_stop_ff_first_seen',\n",
    "#        'alt_ff_distance_when_stop_ff_first_seen',\n",
    "#        'traj_curv_when_alt_ff_last_seen',\n",
    "#        'stop_opt_arc_curv_when_stop_ff_last_seen',\n",
    "#        'stop_opt_arc_curv_when_stop_ff_first_seen',\n",
    "#        'traj_curv_when_stop_ff_last_seen',\n",
    "#        'angle_from_m_before_stop_to_alt_ff', 'stop_point_index', 'bin',\n",
    "#        'point_index', 'time_rel_to_stop', 'alt_ff_distance',\n",
    "#        'stop_ff_distance', 'alt_arc_curv', 'alt_opt_arc_curv',\n",
    "#        'stop_opt_arc_curv', 'traj_curv']"
   ]
  },
  {
   "cell_type": "code",
   "execution_count": 46,
   "metadata": {},
   "outputs": [],
   "source": [
    "specific_columns = np.append(specific_columns, 'stop_success_rate')"
   ]
  },
  {
   "cell_type": "code",
   "execution_count": 47,
   "metadata": {},
   "outputs": [],
   "source": [
    "# drop these items from specific_columns: 'avg_target_angle', 'avg_target_angle_to_boundary', 'avg_target_last_seen_angle', 'avg_target_last_seen_angle_to_boundary', 'num_stops', 'min_abs_ff_angle_boundary', 'min_abs_visible_ff_angle_boundary', 'avg_target_cluster_last_seen_angle_to_boundary', 'RDy', 'RDz', 'avg_target_cluster_last_seen_angle_to_boundary_frozen', 'avg_target_last_seen_angle_to_boundary_frozen', 'avg_target_last_seen_distance', 'avg_target_last_seen_distance_frozen', 'avg_target_distance', 'num_caught_ff', 'max_target_visible_dummy', 'avg_target_last_seen_time', 'bin'\n",
    "specific_columns = specific_columns[~np.isin(specific_columns, ['avg_target_angle', 'avg_target_angle_to_boundary', 'avg_target_last_seen_angle', 'avg_target_last_seen_angle_to_boundary', 'num_stops', 'min_abs_ff_angle_boundary', 'min_abs_visible_ff_angle_boundary', 'avg_target_cluster_last_seen_angle_to_boundary', 'RDy', 'RDz', 'avg_target_cluster_last_seen_angle_to_boundary_frozen', 'avg_target_last_seen_angle_to_boundary_frozen', 'avg_target_last_seen_distance', 'avg_target_last_seen_distance_frozen', 'avg_target_distance', 'num_caught_ff', 'max_target_visible_dummy', 'avg_target_last_seen_time', 'bin'])]"
   ]
  },
  {
   "cell_type": "code",
   "execution_count": 48,
   "metadata": {},
   "outputs": [
    {
     "data": {
      "image/png": "[encoded data removed]",
      "text/plain": [
       "<Figure size 1500x1500 with 2 Axes>"
      ]
     },
     "metadata": {},
     "output_type": "display_data"
    }
   ],
   "source": [
    "# calculate the correlation coefficient among the columns with VIF > 5\n",
    "# specific_columns = vif[vif[\"VIF Factor\"] > 5].features.values\n",
    "corr_coeff = final_behavioral_data[specific_columns].corr()\n",
    "plt.figure(figsize = (15, 15))\n",
    "sns.heatmap(corr_coeff, cmap='coolwarm', annot=True, linewidths=1, vmin=-1)\n",
    "plt.show()"
   ]
  },
  {
   "cell_type": "code",
   "execution_count": 49,
   "metadata": {},
   "outputs": [
    {
     "data": {
      "image/png": "[encoded data removed]",
      "text/plain": [
       "<Figure size 500x500 with 2 Axes>"
      ]
     },
     "metadata": {},
     "output_type": "display_data"
    }
   ],
   "source": [
    "# See the correlation between the lags of the variable \"bin\"\n",
    "y_var_lags = neural_data_processing.add_lags_to_each_feature(final_behavioral_data, lag_numbers= range(-1, 1))\n",
    "corr_coeff = y_var_lags[['bin_-1', 'bin_0']].corr()\n",
    "plt.figure(figsize = (5, 5))\n",
    "sns.heatmap(corr_coeff, cmap='coolwarm', annot=True, linewidths=1, vmin=-1)\n",
    "plt.show()"
   ]
  },
  {
   "cell_type": "markdown",
   "metadata": {},
   "source": [
    "## Categorize variables"
   ]
  },
  {
   "cell_type": "code",
   "execution_count": 50,
   "metadata": {},
   "outputs": [
    {
     "data": {
      "text/plain": [
       "['bin',\n",
       " 'LDy',\n",
       " 'LDz',\n",
       " 'RDy',\n",
       " 'RDz',\n",
       " 'gaze_monkey_view_x',\n",
       " 'gaze_monkey_view_y',\n",
       " 'gaze_world_x',\n",
       " 'gaze_world_y',\n",
       " 'monkey_speed',\n",
       " 'monkey_angles',\n",
       " 'monkey_dw',\n",
       " 'monkey_ddw',\n",
       " 'monkey_ddv',\n",
       " 'num_stops',\n",
       " 'num_caught_ff',\n",
       " 'stop_rate',\n",
       " 'stop_success_rate',\n",
       " 'num_alive_ff',\n",
       " 'num_visible_ff',\n",
       " 'min_ff_distance',\n",
       " 'min_abs_ff_angle',\n",
       " 'min_abs_ff_angle_boundary',\n",
       " 'min_visible_ff_distance',\n",
       " 'min_abs_visible_ff_angle',\n",
       " 'min_abs_visible_ff_angle_boundary',\n",
       " 'avg_target_distance',\n",
       " 'avg_target_angle',\n",
       " 'avg_target_angle_to_boundary',\n",
       " 'avg_target_last_seen_time',\n",
       " 'avg_target_last_seen_distance',\n",
       " 'avg_target_last_seen_angle',\n",
       " 'avg_target_last_seen_angle_to_boundary',\n",
       " 'avg_target_last_seen_distance_frozen',\n",
       " 'avg_target_last_seen_angle_frozen',\n",
       " 'avg_target_last_seen_angle_to_boundary_frozen',\n",
       " 'avg_target_cluster_last_seen_time',\n",
       " 'avg_target_cluster_last_seen_distance',\n",
       " 'avg_target_cluster_last_seen_angle',\n",
       " 'avg_target_cluster_last_seen_angle_to_boundary',\n",
       " 'avg_target_cluster_last_seen_distance_frozen',\n",
       " 'avg_target_cluster_last_seen_angle_frozen',\n",
       " 'avg_target_cluster_last_seen_angle_to_boundary_frozen']"
      ]
     },
     "execution_count": 50,
     "metadata": {},
     "output_type": "execute_result"
    }
   ],
   "source": [
    "temporal_vars = ['monkey_speeddummy',\n",
    "                'try_a_few_times_indice_dummy',\n",
    "                'give_up_after_trying_indice_dummy',\n",
    "                'ignore_sudden_flas_indice_dummy',\n",
    "                'two_in_a_row',\n",
    "                'visible_before_last_one',\n",
    "                'disappear_latest',\n",
    "                'ignore_sudden_flash',\n",
    "                'try_a_few_times',\n",
    "                'give_up_after_trying',\n",
    "                'cluster_around_target',\n",
    "                'waste_cluster_around_target',\n",
    "                'catching_ff',\n",
    "                'min_target_has_disappeared_for_last_time_dummy',\n",
    "                'min_target_cluster_has_disappeared_for_last_time_dummy',\n",
    "                'max_target_visible_dummy', \n",
    "                'max_target_cluster_visible_dummy']\n",
    "\n",
    "spatial_vars = [x for x in final_behavioral_data.columns if x not in temporal_vars]\n",
    "spatial_vars"
   ]
  },
  {
   "cell_type": "markdown",
   "metadata": {},
   "source": [
    "## Dropping some columns"
   ]
  },
  {
   "cell_type": "code",
   "execution_count": 51,
   "metadata": {},
   "outputs": [],
   "source": [
    "# drop all columns with _boundary at the end - that eliminated 7\n",
    "final_behavioral_data = final_behavioral_data.drop(columns = [col for col in final_behavioral_data.columns if '_boundary' in col])\n",
    "temporal_vars = [col for col in temporal_vars if '_boundary' not in col]\n",
    "spatial_vars = [col for col in spatial_vars if '_boundary' not in col]"
   ]
  },
  {
   "cell_type": "code",
   "execution_count": 52,
   "metadata": {},
   "outputs": [],
   "source": [
    "columns_to_drop = ['RDy', 'RDz', 'num_caught_ff', 'num_stops', 'avg_target_last_seen_time', 'avg_target_last_seen_distance', \n",
    "                   'avg_target_last_seen_angle', 'avg_target_distance', 'avg_target_angle', 'avg_target_last_seen_distance_frozen', 'max_target_visible_dummy']\n",
    "\n",
    "temporal_vars = list(set(temporal_vars) - set(columns_to_drop))\n",
    "spatial_vars = list(set(spatial_vars) - set(columns_to_drop))\n",
    "final_behavioral_data.drop(columns=[col for col in columns_to_drop if col in final_behavioral_data.columns], inplace=True)"
   ]
  },
  {
   "cell_type": "markdown",
   "metadata": {},
   "source": [
    "## Use reduced_var_list from PGAM"
   ]
  },
  {
   "cell_type": "code",
   "execution_count": 53,
   "metadata": {},
   "outputs": [],
   "source": [
    "# # Use reduced_var_list from PGAM\n",
    "# temporal_vars = [col for col in temporal_vars if col in reduced_var_list]\n",
    "# spatial_vars = [col for col in spatial_vars if col in reduced_var_list]\n",
    "# final_behavioral_data = final_behavioral_data.loc[:, reduced_var_list]"
   ]
  },
  {
   "cell_type": "markdown",
   "metadata": {},
   "source": [
    "## see autocorrelation for each variable"
   ]
  },
  {
   "cell_type": "code",
   "execution_count": 54,
   "metadata": {},
   "outputs": [
    {
     "data": {
      "text/plain": [
       "Index(['bin', 'LDy', 'LDz', 'gaze_monkey_view_x', 'gaze_monkey_view_y',\n",
       "       'gaze_world_x', 'gaze_world_y', 'monkey_speed', 'monkey_angles',\n",
       "       'monkey_dw', 'monkey_speeddummy', 'monkey_ddw', 'monkey_ddv',\n",
       "       'stop_rate', 'stop_success_rate', 'num_alive_ff', 'num_visible_ff',\n",
       "       'min_ff_distance', 'min_abs_ff_angle', 'min_visible_ff_distance',\n",
       "       'min_abs_visible_ff_angle', 'avg_target_last_seen_angle_frozen',\n",
       "       'avg_target_cluster_last_seen_time',\n",
       "       'avg_target_cluster_last_seen_distance',\n",
       "       'avg_target_cluster_last_seen_angle',\n",
       "       'avg_target_cluster_last_seen_distance_frozen',\n",
       "       'avg_target_cluster_last_seen_angle_frozen',\n",
       "       'min_target_has_disappeared_for_last_time_dummy',\n",
       "       'min_target_cluster_has_disappeared_for_last_time_dummy',\n",
       "       'max_target_cluster_visible_dummy', 'try_a_few_times_indice_dummy',\n",
       "       'give_up_after_trying_indice_dummy', 'ignore_sudden_flas_indice_dummy',\n",
       "       'two_in_a_row', 'visible_before_last_one', 'disappear_latest',\n",
       "       'ignore_sudden_flash', 'try_a_few_times', 'give_up_after_trying',\n",
       "       'cluster_around_target', 'waste_cluster_around_target', 'catching_ff'],\n",
       "      dtype='object')"
      ]
     },
     "execution_count": 54,
     "metadata": {},
     "output_type": "execute_result"
    }
   ],
   "source": [
    "final_behavioral_data.columns"
   ]
  },
  {
   "cell_type": "code",
   "execution_count": 55,
   "metadata": {},
   "outputs": [
    {
     "name": "stdout",
     "output_type": "stream",
     "text": [
      "bin\n",
      "lag 1 , autocorr: 1.0\n",
      "lag 2 , autocorr: 1.0\n",
      "lag 3 , autocorr: 1.0\n",
      "lag 4 , autocorr: 0.9999999999999998\n",
      "lag 5 , autocorr: 1.0\n",
      "lag 6 , autocorr: 1.0\n",
      "lag 7 , autocorr: 0.9999999999999998\n",
      "\n",
      "\n",
      "LDy\n",
      "lag 1 , autocorr: 0.5214220173695971\n",
      "lag 2 , autocorr: 0.27519415605284225\n",
      "lag 3 , autocorr: 0.15413238110375366\n",
      "lag 4 , autocorr: 0.08768008783378739\n",
      "lag 5 , autocorr: 0.05777417880591406\n",
      "lag 6 , autocorr: 0.028173699310294478\n",
      "lag 7 , autocorr: 0.01762066240864916\n",
      "\n",
      "\n",
      "LDz\n",
      "lag 1 , autocorr: 0.18761478374573068\n",
      "lag 2 , autocorr: 0.08534519751912398\n",
      "lag 3 , autocorr: 0.05972106810981571\n",
      "lag 4 , autocorr: 0.013606282440196642\n",
      "lag 5 , autocorr: -0.0018137901519733257\n",
      "lag 6 , autocorr: -0.024947473212928114\n",
      "lag 7 , autocorr: -0.016151990175544213\n",
      "\n",
      "\n",
      "gaze_monkey_view_x\n",
      "lag 1 , autocorr: 0.4406599237932124\n",
      "lag 2 , autocorr: 0.23088214016252204\n",
      "lag 3 , autocorr: 0.14644178759455767\n",
      "lag 4 , autocorr: 0.08698137885403752\n",
      "lag 5 , autocorr: 0.07029702421163225\n",
      "lag 6 , autocorr: 0.03433449969963484\n",
      "lag 7 , autocorr: 0.027450874559321152\n",
      "\n",
      "\n",
      "gaze_monkey_view_y\n",
      "lag 1 , autocorr: 0.6432925826113955\n",
      "lag 2 , autocorr: 0.3973386328851681\n",
      "lag 3 , autocorr: 0.2404033563478108\n",
      "lag 4 , autocorr: 0.15105700881482573\n",
      "lag 5 , autocorr: 0.10311656399143866\n",
      "lag 6 , autocorr: 0.07392654242556662\n",
      "lag 7 , autocorr: 0.051322737555518784\n",
      "\n",
      "\n",
      "gaze_world_x\n",
      "lag 1 , autocorr: 0.9530335249144212\n",
      "lag 2 , autocorr: 0.9094081001192097\n",
      "lag 3 , autocorr: 0.8709176017007287\n",
      "lag 4 , autocorr: 0.8359943739764569\n",
      "lag 5 , autocorr: 0.8029801787366578\n",
      "lag 6 , autocorr: 0.7710755199025925\n",
      "lag 7 , autocorr: 0.7393500141232249\n",
      "\n",
      "\n",
      "gaze_world_y\n",
      "lag 1 , autocorr: 0.9557148655143514\n",
      "lag 2 , autocorr: 0.914408260456585\n",
      "lag 3 , autocorr: 0.8771221732778487\n",
      "lag 4 , autocorr: 0.8426811980584866\n",
      "lag 5 , autocorr: 0.811551140723704\n",
      "lag 6 , autocorr: 0.7802955211229028\n",
      "lag 7 , autocorr: 0.7501555491817232\n",
      "\n",
      "\n",
      "monkey_speed\n",
      "lag 1 , autocorr: 0.5036098561102776\n",
      "lag 2 , autocorr: 0.100754597751753\n",
      "lag 3 , autocorr: 0.024307728802132906\n",
      "lag 4 , autocorr: -0.10405334356932018\n",
      "lag 5 , autocorr: -0.12314027145749956\n",
      "lag 6 , autocorr: -0.08062947444848811\n",
      "lag 7 , autocorr: -0.05589337603857345\n",
      "\n",
      "\n",
      "monkey_angles\n",
      "lag 1 , autocorr: 0.9484577745480165\n",
      "lag 2 , autocorr: 0.8781475187574648\n",
      "lag 3 , autocorr: 0.814567586579935\n",
      "lag 4 , autocorr: 0.7571916856999843\n",
      "lag 5 , autocorr: 0.7039474276228441\n",
      "lag 6 , autocorr: 0.6546521631792495\n",
      "lag 7 , autocorr: 0.6090354050450058\n",
      "\n",
      "\n",
      "monkey_dw\n",
      "lag 1 , autocorr: 0.6776799909835451\n",
      "lag 2 , autocorr: 0.31113455339195323\n",
      "lag 3 , autocorr: 0.13330060110648792\n",
      "lag 4 , autocorr: 0.04467723558930219\n",
      "lag 5 , autocorr: 0.012561215752208862\n",
      "lag 6 , autocorr: 0.0003871835459898416\n",
      "lag 7 , autocorr: -0.010996980139881415\n",
      "\n",
      "\n",
      "monkey_speeddummy\n",
      "lag 1 , autocorr: 0.20210250282824063\n",
      "lag 2 , autocorr: -0.006690741109325117\n",
      "lag 3 , autocorr: 0.13751515189704533\n",
      "lag 4 , autocorr: -0.014036998704339394\n",
      "lag 5 , autocorr: 0.007118715611607481\n",
      "lag 6 , autocorr: 0.03287184164376372\n",
      "lag 7 , autocorr: 0.027590635252656075\n",
      "\n",
      "\n",
      "monkey_ddw\n",
      "lag 1 , autocorr: -0.07733583191060375\n",
      "lag 2 , autocorr: -0.23108640699558258\n",
      "lag 3 , autocorr: -0.09229118578850343\n",
      "lag 4 , autocorr: -0.06891326458099767\n",
      "lag 5 , autocorr: -0.009927491603612292\n",
      "lag 6 , autocorr: -0.0065519584376634915\n",
      "lag 7 , autocorr: -0.009470474042255496\n",
      "\n",
      "\n",
      "monkey_ddv\n",
      "lag 1 , autocorr: -0.21786473185308242\n",
      "lag 2 , autocorr: -0.2656342543963625\n",
      "lag 3 , autocorr: 0.10213855655360976\n",
      "lag 4 , autocorr: -0.11104418911690793\n",
      "lag 5 , autocorr: -0.03618020326659972\n",
      "lag 6 , autocorr: 0.015005663775850428\n",
      "lag 7 , autocorr: -0.01827764360603981\n",
      "\n",
      "\n",
      "stop_rate\n",
      "lag 1 , autocorr: 0.8609597559353657\n",
      "lag 2 , autocorr: 0.673559205325589\n",
      "lag 3 , autocorr: 0.5135592216398053\n",
      "lag 4 , autocorr: 0.31855304211445307\n",
      "lag 5 , autocorr: 0.16172234007458267\n",
      "lag 6 , autocorr: 0.1531254662828155\n",
      "lag 7 , autocorr: 0.17206855785546724\n",
      "\n",
      "\n",
      "stop_success_rate\n",
      "lag 1 , autocorr: 0.74363677419176\n",
      "lag 2 , autocorr: 0.4955065694897814\n",
      "lag 3 , autocorr: 0.26376332056570345\n",
      "lag 4 , autocorr: 0.04737446421434027\n",
      "lag 5 , autocorr: -0.14008751331825428\n",
      "lag 6 , autocorr: -0.07903931736717833\n",
      "lag 7 , autocorr: -0.03037214346392661\n",
      "\n",
      "\n",
      "num_alive_ff\n",
      "lag 1 , autocorr: 0.954594521273699\n",
      "lag 2 , autocorr: 0.901427029173708\n",
      "lag 3 , autocorr: 0.8404256321352703\n",
      "lag 4 , autocorr: 0.7742101878087101\n",
      "lag 5 , autocorr: 0.7036687279989624\n",
      "lag 6 , autocorr: 0.6284602976054\n",
      "lag 7 , autocorr: 0.550967227419169\n",
      "\n",
      "\n",
      "num_visible_ff\n",
      "lag 1 , autocorr: 0.5751517414240774\n",
      "lag 2 , autocorr: 0.262118616006244\n",
      "lag 3 , autocorr: 0.18433879928973326\n",
      "lag 4 , autocorr: 0.15247106565460683\n",
      "lag 5 , autocorr: 0.13841519025826984\n",
      "lag 6 , autocorr: 0.11783634185481996\n",
      "lag 7 , autocorr: 0.09401393072188015\n",
      "\n",
      "\n",
      "min_ff_distance\n",
      "lag 1 , autocorr: 0.7638722952598507\n",
      "lag 2 , autocorr: 0.516308235215403\n",
      "lag 3 , autocorr: 0.33343250600346724\n",
      "lag 4 , autocorr: 0.20066154819872298\n",
      "lag 5 , autocorr: 0.12356723412177423\n",
      "lag 6 , autocorr: 0.07783065031256495\n",
      "lag 7 , autocorr: 0.04371700989210415\n",
      "\n",
      "\n",
      "min_abs_ff_angle\n",
      "lag 1 , autocorr: 0.32554998395410256\n",
      "lag 2 , autocorr: 0.13457940399466414\n",
      "lag 3 , autocorr: 0.16204107297384543\n",
      "lag 4 , autocorr: 0.10196546589440558\n",
      "lag 5 , autocorr: 0.07829169654178408\n",
      "lag 6 , autocorr: 0.06394065089816202\n",
      "lag 7 , autocorr: 0.059566905528882386\n",
      "\n",
      "\n",
      "min_visible_ff_distance\n",
      "lag 1 , autocorr: 0.6162729204044238\n",
      "lag 2 , autocorr: 0.3375917860598296\n",
      "lag 3 , autocorr: 0.2411927244689279\n",
      "lag 4 , autocorr: 0.1790333974342824\n",
      "lag 5 , autocorr: 0.12906891103591137\n",
      "lag 6 , autocorr: 0.09058917368449573\n",
      "lag 7 , autocorr: 0.06871564316148958\n",
      "\n",
      "\n",
      "min_abs_visible_ff_angle\n",
      "lag 1 , autocorr: 0.423815719442821\n",
      "lag 2 , autocorr: 0.22900595549437536\n",
      "lag 3 , autocorr: 0.16501177821269436\n",
      "lag 4 , autocorr: 0.09680561860796096\n",
      "lag 5 , autocorr: 0.06127735426790386\n",
      "lag 6 , autocorr: 0.034152425865243134\n",
      "lag 7 , autocorr: 0.020295876282088628\n",
      "\n",
      "\n",
      "avg_target_last_seen_angle_frozen\n",
      "lag 1 , autocorr: 0.8861968349952006\n",
      "lag 2 , autocorr: 0.7459315475569568\n",
      "lag 3 , autocorr: 0.6255687246893196\n",
      "lag 4 , autocorr: 0.5246135174773168\n",
      "lag 5 , autocorr: 0.43971665129733256\n",
      "lag 6 , autocorr: 0.3708984387383353\n",
      "lag 7 , autocorr: 0.3140357748273606\n",
      "\n",
      "\n",
      "avg_target_cluster_last_seen_time\n",
      "lag 1 , autocorr: 0.909558857554981\n",
      "lag 2 , autocorr: 0.7833800749686171\n",
      "lag 3 , autocorr: 0.6682393046863141\n",
      "lag 4 , autocorr: 0.5651128612419967\n",
      "lag 5 , autocorr: 0.4760682480622447\n",
      "lag 6 , autocorr: 0.4000960976113559\n",
      "lag 7 , autocorr: 0.34096587247788646\n",
      "\n",
      "\n",
      "avg_target_cluster_last_seen_distance\n",
      "lag 1 , autocorr: 0.8928176034630005\n",
      "lag 2 , autocorr: 0.7396801316764671\n",
      "lag 3 , autocorr: 0.5989018318545696\n",
      "lag 4 , autocorr: 0.4775646841756633\n",
      "lag 5 , autocorr: 0.3794792839149636\n",
      "lag 6 , autocorr: 0.308107789251508\n",
      "lag 7 , autocorr: 0.2566213035987221\n",
      "\n",
      "\n",
      "avg_target_cluster_last_seen_angle\n",
      "lag 1 , autocorr: 0.8166832564251202\n",
      "lag 2 , autocorr: 0.6353260420715071\n",
      "lag 3 , autocorr: 0.4938002218138687\n",
      "lag 4 , autocorr: 0.38243556135808277\n",
      "lag 5 , autocorr: 0.3062001441961418\n",
      "lag 6 , autocorr: 0.2548123641750881\n",
      "lag 7 , autocorr: 0.2124464801581499\n",
      "\n",
      "\n",
      "avg_target_cluster_last_seen_distance_frozen\n",
      "lag 1 , autocorr: 0.8511669877701254\n",
      "lag 2 , autocorr: 0.6504943281824421\n",
      "lag 3 , autocorr: 0.4846058904045922\n",
      "lag 4 , autocorr: 0.3567805987757318\n",
      "lag 5 , autocorr: 0.26362180905204846\n",
      "lag 6 , autocorr: 0.19873205291402904\n",
      "lag 7 , autocorr: 0.15499560873300386\n",
      "\n",
      "\n",
      "avg_target_cluster_last_seen_angle_frozen\n",
      "lag 1 , autocorr: 0.8762373267882789\n",
      "lag 2 , autocorr: 0.7244977495379855\n",
      "lag 3 , autocorr: 0.597294611057328\n",
      "lag 4 , autocorr: 0.4928054416200455\n",
      "lag 5 , autocorr: 0.40860152028997543\n",
      "lag 6 , autocorr: 0.3424085627271816\n",
      "lag 7 , autocorr: 0.2915319788375788\n",
      "\n",
      "\n",
      "min_target_has_disappeared_for_last_time_dummy\n",
      "lag 1 , autocorr: 0.7152823195251631\n",
      "lag 2 , autocorr: 0.48595968674725226\n",
      "lag 3 , autocorr: 0.32357665304886996\n",
      "lag 4 , autocorr: 0.20290845651377182\n",
      "lag 5 , autocorr: 0.13195561487124327\n",
      "lag 6 , autocorr: 0.096465814081502\n",
      "lag 7 , autocorr: 0.08009889275243094\n",
      "\n",
      "\n",
      "min_target_cluster_has_disappeared_for_last_time_dummy\n",
      "lag 1 , autocorr: 0.7018893256979912\n",
      "lag 2 , autocorr: 0.46091013767462585\n",
      "lag 3 , autocorr: 0.2848503303184024\n",
      "lag 4 , autocorr: 0.1591598392464179\n",
      "lag 5 , autocorr: 0.0884202352461425\n",
      "lag 6 , autocorr: 0.057368462855072896\n",
      "lag 7 , autocorr: 0.0456521413361039\n",
      "\n",
      "\n",
      "max_target_cluster_visible_dummy\n",
      "lag 1 , autocorr: 0.45216009742082264\n",
      "lag 2 , autocorr: 0.03174901966002304\n",
      "lag 3 , autocorr: 0.027596339296180106\n",
      "lag 4 , autocorr: 0.02485144903566665\n",
      "lag 5 , autocorr: 0.013556722478330554\n",
      "lag 6 , autocorr: 0.021983741850180923\n",
      "lag 7 , autocorr: 0.024873387738755835\n",
      "\n",
      "\n",
      "try_a_few_times_indice_dummy\n",
      "lag 1 , autocorr: 0.8466437831665333\n",
      "lag 2 , autocorr: 0.6932863474067372\n",
      "lag 3 , autocorr: 0.5412848379020149\n",
      "lag 4 , autocorr: 0.38928211972384485\n",
      "lag 5 , autocorr: 0.24134966132860075\n",
      "lag 6 , autocorr: 0.10563048084507472\n",
      "lag 7 , autocorr: 0.056768910670209415\n",
      "\n",
      "\n",
      "give_up_after_trying_indice_dummy\n",
      "lag 1 , autocorr: 0.8498637649731837\n",
      "lag 2 , autocorr: 0.7027429828459151\n",
      "lag 3 , autocorr: 0.5563743286979536\n",
      "lag 4 , autocorr: 0.4130212342320034\n",
      "lag 5 , autocorr: 0.27268377084583306\n",
      "lag 6 , autocorr: 0.14064339384264773\n",
      "lag 7 , autocorr: 0.06292415451964067\n",
      "\n",
      "\n",
      "ignore_sudden_flas_indice_dummy\n",
      "lag 1 , autocorr: 0.8809794549837202\n",
      "lag 2 , autocorr: 0.7629577457155629\n",
      "lag 3 , autocorr: 0.6469350727481982\n",
      "lag 4 , autocorr: 0.5309110904922427\n",
      "lag 5 , autocorr: 0.41488579865261394\n",
      "lag 6 , autocorr: 0.3008595986547223\n",
      "lag 7 , autocorr: 0.18783231756883229\n",
      "\n",
      "\n",
      "two_in_a_row\n",
      "lag 1 , autocorr: 0.623762664692415\n",
      "lag 2 , autocorr: 0.2721960474470877\n",
      "lag 3 , autocorr: 0.05015340315033504\n",
      "lag 4 , autocorr: 0.0008099227102327629\n",
      "lag 5 , autocorr: -0.011526567332021407\n",
      "lag 6 , autocorr: -0.011527377521613856\n",
      "lag 7 , autocorr: -0.011528187825108968\n",
      "\n",
      "\n",
      "visible_before_last_one\n",
      "lag 1 , autocorr: 0.8751053838831822\n",
      "lag 2 , autocorr: 0.7508928421708723\n",
      "lag 3 , autocorr: 0.639518318050827\n",
      "lag 4 , autocorr: 0.5447934656536233\n",
      "lag 5 , autocorr: 0.4614125031263353\n",
      "lag 6 , autocorr: 0.3931880843067652\n",
      "lag 7 , autocorr: 0.33785237512275584\n",
      "\n",
      "\n",
      "disappear_latest\n",
      "lag 1 , autocorr: 0.9043866309623629\n",
      "lag 2 , autocorr: 0.8087710761564373\n",
      "lag 3 , autocorr: 0.7142984315185541\n",
      "lag 4 , autocorr: 0.6261217288139017\n",
      "lag 5 , autocorr: 0.5442411835819717\n",
      "lag 6 , autocorr: 0.4703747150588576\n",
      "lag 7 , autocorr: 0.4045225978692432\n",
      "\n",
      "\n",
      "ignore_sudden_flash\n",
      "lag 1 , autocorr: 0.94076269348117\n",
      "lag 2 , autocorr: 0.8815239860217451\n",
      "lag 3 , autocorr: 0.8222838772800342\n",
      "lag 4 , autocorr: 0.7636012292564138\n",
      "lag 5 , autocorr: 0.7065937993505126\n",
      "lag 6 , autocorr: 0.6529382734345024\n",
      "lag 7 , autocorr: 0.5998403593251221\n",
      "\n",
      "\n",
      "try_a_few_times\n",
      "lag 1 , autocorr: 0.9288271147532753\n",
      "lag 2 , autocorr: 0.8576530121344507\n",
      "lag 3 , autocorr: 0.7864776918585621\n",
      "lag 4 , autocorr: 0.718859889220044\n",
      "lag 5 , autocorr: 0.6547996952794236\n",
      "lag 6 , autocorr: 0.5921619232368259\n",
      "lag 7 , autocorr: 0.5330819055487823\n",
      "\n",
      "\n",
      "give_up_after_trying\n",
      "lag 1 , autocorr: 0.9490305295791233\n",
      "lag 2 , autocorr: 0.8980510171113391\n",
      "lag 3 , autocorr: 0.8477344542251916\n",
      "lag 4 , autocorr: 0.7977445026748355\n",
      "lag 5 , autocorr: 0.7484178217887457\n",
      "lag 6 , autocorr: 0.7004278026630406\n",
      "lag 7 , autocorr: 0.6524283118589821\n",
      "\n",
      "\n",
      "cluster_around_target\n",
      "lag 1 , autocorr: 0.9243548128296691\n",
      "lag 2 , autocorr: 0.8486753189871322\n",
      "lag 3 , autocorr: 0.7735550431124114\n",
      "lag 4 , autocorr: 0.7013691528602738\n",
      "lag 5 , autocorr: 0.6309319631263346\n",
      "lag 6 , autocorr: 0.5658084808207795\n",
      "lag 7 , autocorr: 0.5065964306725627\n",
      "\n",
      "\n",
      "waste_cluster_around_target\n",
      "lag 1 , autocorr: 0.9098919522220387\n",
      "lag 2 , autocorr: 0.8197824946874552\n",
      "lag 3 , autocorr: 0.731198906012449\n",
      "lag 4 , autocorr: 0.6464321580632013\n",
      "lag 5 , autocorr: 0.5685369458559366\n",
      "lag 6 , autocorr: 0.4967497730678292\n",
      "lag 7 , autocorr: 0.4333617730278872\n",
      "\n",
      "\n",
      "catching_ff\n",
      "lag 1 , autocorr: -0.08697304721014379\n",
      "lag 2 , autocorr: -0.07106665179085299\n",
      "lag 3 , autocorr: -0.03571009285659618\n",
      "lag 4 , autocorr: -0.04455780854320609\n",
      "lag 5 , autocorr: -0.007432415144681196\n",
      "lag 6 , autocorr: 0.0005179556660928078\n",
      "lag 7 , autocorr: -0.00037269101581221333\n",
      "\n",
      "\n"
     ]
    }
   ],
   "source": [
    "# see autocorrelation for each variable\n",
    "for column in final_behavioral_data.columns:\n",
    "    print(column)\n",
    "    for lag in range(1, 8):\n",
    "        print('lag' , lag, ', autocorr:', final_behavioral_data[column].autocorr(lag))\n",
    "    print('\\n')\n",
    "\n"
   ]
  },
  {
   "cell_type": "markdown",
   "metadata": {},
   "source": [
    "# USE PLANNING INFO ALONE"
   ]
  },
  {
   "cell_type": "markdown",
   "metadata": {},
   "source": [
    "Neural data (changed bin_width here)"
   ]
  },
  {
   "cell_type": "markdown",
   "metadata": {},
   "source": [
    "## get data"
   ]
  },
  {
   "cell_type": "code",
   "execution_count": 56,
   "metadata": {},
   "outputs": [],
   "source": [
    "spike_df, spike_times_in_s, spike_clusters = neural_data_processing.make_spike_df(raw_data_folder_path=\"all_monkey_data/raw_monkey_data/individual_monkey_data/monkey_Bruno/data_0330\")\n",
    "bin_width=0.1\n",
    "time_bins, neural_stacked_bins = neural_data_processing.bin_spikes(spike_df, bin_width=bin_width)\n",
    "neural_bins_df = pd.DataFrame(neural_stacked_bins, columns=np.arange(neural_stacked_bins.shape[1]))\n",
    "neural_bins_df['bin'] = np.arange(neural_bins_df.shape[0])\n",
    "\n",
    "num_bins = neural_stacked_bins.shape[0]\n",
    "unique_clusters = np.sort(spike_df.cluster.unique())"
   ]
  },
  {
   "cell_type": "code",
   "execution_count": 57,
   "metadata": {},
   "outputs": [
    {
     "name": "stderr",
     "output_type": "stream",
     "text": [
      "/Users/dusiyi/Documents/Multifirefly-Project/multiff_analysis/methods/non_behavioral_analysis/eye_positions.py:119: RuntimeWarning: divide by zero encountered in divide\n",
      "  numerator_component = 1/np.tan(ver_theta)**2 - np.tan(inside_tan)**2\n"
     ]
    },
    {
     "name": "stdout",
     "output_type": "stream",
     "text": [
      "Retrieved monkey data from  all_monkey_data/raw_monkey_data/individual_monkey_data/monkey_Bruno/data_0330/processed_data/basic_info/monkey_information.csv  and ff data from  all_monkey_data/raw_monkey_data/individual_monkey_data/monkey_Bruno/data_0330/processed_data/basic_info/ff_basic_info.npz\n"
     ]
    },
    {
     "name": "stderr",
     "output_type": "stream",
     "text": [
      "/Users/dusiyi/Documents/Multifirefly-Project/multiff_analysis/methods/non_behavioral_analysis/eye_positions.py:119: RuntimeWarning: divide by zero encountered in divide\n",
      "  numerator_component = 1/np.tan(ver_theta)**2 - np.tan(inside_tan)**2\n"
     ]
    },
    {
     "name": "stdout",
     "output_type": "stream",
     "text": [
      "shared_stops_near_ff_df has 528 rows\n",
      "Retrieving shared_stops_near_ff_df succeeded\n",
      "Number of new ff xy within 1 cm of monkey: 1 out of 299. Setting them to monkey position.\n",
      "Note: 1 fireflies are too close to the monkey/agent. Their angles are set to 0.\n",
      "Retrieving Bruno_stop_0_1 from all_monkey_data/raw_monkey_data/individual_monkey_data/monkey_Bruno/data_0330/processed_data/updated_planning_info/heading_info/test/Bruno_stop_0_1 succeeded\n"
     ]
    }
   ],
   "source": [
    "ref_point_mode='distance'\n",
    "ref_point_value=-150\n",
    "\n",
    "normalize = False\n",
    "eliminate_outliers = False\n",
    "use_curvature_to_ff_center = False\n",
    "curv_of_traj_mode = 'time'\n",
    "window_for_curv_of_traj=[-1, 1]\n",
    "\n",
    "pn = planning_neural_class.PlanningAndNeural(raw_data_folder_path=raw_data_folder_path)\n",
    "pn.streamline_organizing_info(ref_point_mode='time after stop ff visible', ref_point_value=0.1, \n",
    "                               curv_of_traj_mode=curv_of_traj_mode, window_for_curv_of_traj=window_for_curv_of_traj, truncate_curv_of_traj_by_time_of_capture=True,\n",
    "                               use_curvature_to_ff_center=use_curvature_to_ff_center,  eliminate_outliers=eliminate_outliers)\n"
   ]
  },
  {
   "cell_type": "code",
   "execution_count": 58,
   "metadata": {},
   "outputs": [],
   "source": [
    "columns_to_drop = ['alt_opt_arc_dheading',\n",
    " 'alt_arc_curv',\n",
    "  'angle_from_stop_ff_landing_to_alt_ff',\n",
    "  \n",
    " # preserve \"alt + alt\" or 'stop + stop' but not 'alt + stop' or 'stop + alt'. Otherwise the correlation shall be too great\n",
    "#  'alt_ff_distance_when_stop_ff_first_seen',\n",
    "#  'alt_ff_distance_when_stop_ff_last_seen',\n",
    "#  'stop_ff_distance_when_alt_ff_first_seen',\n",
    "#  'stop_ff_distance_when_alt_ff_last_seen',\n",
    "#  'stop_ff_angle_when_alt_ff_first_seen',\n",
    "#  'alt_ff_angle_when_stop_ff_first_seen',\n",
    "#  'stop_ff_angle_when_alt_ff_last_seen',\n",
    "#  'alt_ff_angle_when_stop_ff_last_seen',\n",
    "]\n"
   ]
  },
  {
   "cell_type": "code",
   "execution_count": 81,
   "metadata": {},
   "outputs": [
    {
     "data": {
      "text/plain": [
       "0"
      ]
     },
     "execution_count": 81,
     "metadata": {},
     "output_type": "execute_result"
    }
   ],
   "source": [
    "gc.collect()"
   ]
  },
  {
   "cell_type": "code",
   "execution_count": 92,
   "metadata": {},
   "outputs": [
    {
     "data": {
      "text/html": [
       "<div>\n",
       "<style scoped>\n",
       "    .dataframe tbody tr th:only-of-type {\n",
       "        vertical-align: middle;\n",
       "    }\n",
       "\n",
       "    .dataframe tbody tr th {\n",
       "        vertical-align: top;\n",
       "    }\n",
       "\n",
       "    .dataframe thead th {\n",
       "        text-align: right;\n",
       "    }\n",
       "</style>\n",
       "<table border=\"1\" class=\"dataframe\">\n",
       "  <thead>\n",
       "    <tr style=\"text-align: right;\">\n",
       "      <th></th>\n",
       "      <th>alt_ff_angle</th>\n",
       "      <th>alt_ff_distance</th>\n",
       "      <th>alt_arc_curv</th>\n",
       "      <th>alt_opt_arc_curv</th>\n",
       "      <th>alt_opt_arc_dheading</th>\n",
       "      <th>time_rel_to_stop</th>\n",
       "      <th>traj_curv</th>\n",
       "      <th>stop_ff_angle</th>\n",
       "      <th>stop_ff_distance</th>\n",
       "      <th>stop_arc_curv</th>\n",
       "      <th>stop_opt_arc_curv</th>\n",
       "      <th>stop_opt_arc_dheading</th>\n",
       "      <th>stop_point_index</th>\n",
       "      <th>bin</th>\n",
       "    </tr>\n",
       "    <tr>\n",
       "      <th>point_index</th>\n",
       "      <th></th>\n",
       "      <th></th>\n",
       "      <th></th>\n",
       "      <th></th>\n",
       "      <th></th>\n",
       "      <th></th>\n",
       "      <th></th>\n",
       "      <th></th>\n",
       "      <th></th>\n",
       "      <th></th>\n",
       "      <th></th>\n",
       "      <th></th>\n",
       "      <th></th>\n",
       "      <th></th>\n",
       "    </tr>\n",
       "  </thead>\n",
       "  <tbody>\n",
       "    <tr>\n",
       "      <th>1833</th>\n",
       "      <td>-0.54674</td>\n",
       "      <td>398.54102</td>\n",
       "      <td>-0.00261</td>\n",
       "      <td>-0.00250</td>\n",
       "      <td>-1.04335</td>\n",
       "      <td>-1.82635</td>\n",
       "      <td>-0.00120</td>\n",
       "      <td>-0.48219</td>\n",
       "      <td>239.04897</td>\n",
       "      <td>-0.00388</td>\n",
       "      <td>-0.00357</td>\n",
       "      <td>-0.88072</td>\n",
       "      <td>1945</td>\n",
       "      <td>122</td>\n",
       "    </tr>\n",
       "    <tr>\n",
       "      <th>1848</th>\n",
       "      <td>-0.26897</td>\n",
       "      <td>359.67684</td>\n",
       "      <td>-0.00148</td>\n",
       "      <td>-0.00163</td>\n",
       "      <td>-0.58415</td>\n",
       "      <td>-1.57759</td>\n",
       "      <td>-0.00644</td>\n",
       "      <td>-0.22692</td>\n",
       "      <td>199.34043</td>\n",
       "      <td>-0.00226</td>\n",
       "      <td>-0.00275</td>\n",
       "      <td>-0.53951</td>\n",
       "      <td>1945</td>\n",
       "      <td>123</td>\n",
       "    </tr>\n",
       "    <tr>\n",
       "      <th>1864</th>\n",
       "      <td>-0.03726</td>\n",
       "      <td>308.13876</td>\n",
       "      <td>-0.00024</td>\n",
       "      <td>-0.00045</td>\n",
       "      <td>-0.13877</td>\n",
       "      <td>-1.31197</td>\n",
       "      <td>-0.00315</td>\n",
       "      <td>-0.00303</td>\n",
       "      <td>147.57340</td>\n",
       "      <td>-0.00004</td>\n",
       "      <td>-0.00096</td>\n",
       "      <td>-0.14025</td>\n",
       "      <td>1945</td>\n",
       "      <td>124</td>\n",
       "    </tr>\n",
       "    <tr>\n",
       "      <th>1879</th>\n",
       "      <td>0.01101</td>\n",
       "      <td>267.40960</td>\n",
       "      <td>0.00008</td>\n",
       "      <td>0.00036</td>\n",
       "      <td>0.09646</td>\n",
       "      <td>-1.06297</td>\n",
       "      <td>0.00117</td>\n",
       "      <td>0.06069</td>\n",
       "      <td>106.89807</td>\n",
       "      <td>0.00113</td>\n",
       "      <td>0.00117</td>\n",
       "      <td>0.11313</td>\n",
       "      <td>1945</td>\n",
       "      <td>125</td>\n",
       "    </tr>\n",
       "    <tr>\n",
       "      <th>1894</th>\n",
       "      <td>-0.00557</td>\n",
       "      <td>267.22771</td>\n",
       "      <td>-0.00004</td>\n",
       "      <td>-0.00000</td>\n",
       "      <td>-0.00026</td>\n",
       "      <td>-0.81405</td>\n",
       "      <td>0.00117</td>\n",
       "      <td>0.04452</td>\n",
       "      <td>106.71935</td>\n",
       "      <td>0.00083</td>\n",
       "      <td>0.00117</td>\n",
       "      <td>0.11299</td>\n",
       "      <td>1945</td>\n",
       "      <td>126</td>\n",
       "    </tr>\n",
       "    <tr>\n",
       "      <th>...</th>\n",
       "      <td>...</td>\n",
       "      <td>...</td>\n",
       "      <td>...</td>\n",
       "      <td>...</td>\n",
       "      <td>...</td>\n",
       "      <td>...</td>\n",
       "      <td>...</td>\n",
       "      <td>...</td>\n",
       "      <td>...</td>\n",
       "      <td>...</td>\n",
       "      <td>...</td>\n",
       "      <td>...</td>\n",
       "      <td>...</td>\n",
       "      <td>...</td>\n",
       "    </tr>\n",
       "    <tr>\n",
       "      <th>19425</th>\n",
       "      <td>0.02174</td>\n",
       "      <td>110.11885</td>\n",
       "      <td>0.00039</td>\n",
       "      <td>0.00100</td>\n",
       "      <td>0.10074</td>\n",
       "      <td>1.57990</td>\n",
       "      <td>0.00100</td>\n",
       "      <td>NaN</td>\n",
       "      <td>NaN</td>\n",
       "      <td>NaN</td>\n",
       "      <td>NaN</td>\n",
       "      <td>NaN</td>\n",
       "      <td>19328</td>\n",
       "      <td>1278</td>\n",
       "    </tr>\n",
       "    <tr>\n",
       "      <th>19440</th>\n",
       "      <td>0.03977</td>\n",
       "      <td>60.23512</td>\n",
       "      <td>0.00132</td>\n",
       "      <td>0.00067</td>\n",
       "      <td>0.03392</td>\n",
       "      <td>1.82890</td>\n",
       "      <td>0.00067</td>\n",
       "      <td>NaN</td>\n",
       "      <td>NaN</td>\n",
       "      <td>NaN</td>\n",
       "      <td>NaN</td>\n",
       "      <td>NaN</td>\n",
       "      <td>19328</td>\n",
       "      <td>1279</td>\n",
       "    </tr>\n",
       "    <tr>\n",
       "      <th>19455</th>\n",
       "      <td>0.03747</td>\n",
       "      <td>24.60177</td>\n",
       "      <td>0.00234</td>\n",
       "      <td>0.00234</td>\n",
       "      <td>0.03417</td>\n",
       "      <td>2.07790</td>\n",
       "      <td>0.00234</td>\n",
       "      <td>NaN</td>\n",
       "      <td>NaN</td>\n",
       "      <td>NaN</td>\n",
       "      <td>NaN</td>\n",
       "      <td>NaN</td>\n",
       "      <td>19328</td>\n",
       "      <td>1280</td>\n",
       "    </tr>\n",
       "    <tr>\n",
       "      <th>19471</th>\n",
       "      <td>-0.04601</td>\n",
       "      <td>24.11589</td>\n",
       "      <td>0.00136</td>\n",
       "      <td>-0.00000</td>\n",
       "      <td>-0.00001</td>\n",
       "      <td>2.34346</td>\n",
       "      <td>0.00136</td>\n",
       "      <td>NaN</td>\n",
       "      <td>NaN</td>\n",
       "      <td>NaN</td>\n",
       "      <td>NaN</td>\n",
       "      <td>NaN</td>\n",
       "      <td>19328</td>\n",
       "      <td>1281</td>\n",
       "    </tr>\n",
       "    <tr>\n",
       "      <th>19487</th>\n",
       "      <td>NaN</td>\n",
       "      <td>NaN</td>\n",
       "      <td>NaN</td>\n",
       "      <td>NaN</td>\n",
       "      <td>NaN</td>\n",
       "      <td>NaN</td>\n",
       "      <td>NaN</td>\n",
       "      <td>NaN</td>\n",
       "      <td>NaN</td>\n",
       "      <td>NaN</td>\n",
       "      <td>NaN</td>\n",
       "      <td>NaN</td>\n",
       "      <td>19328</td>\n",
       "      <td>1282</td>\n",
       "    </tr>\n",
       "  </tbody>\n",
       "</table>\n",
       "<p>542 rows × 14 columns</p>\n",
       "</div>"
      ],
      "text/plain": [
       "             alt_ff_angle  alt_ff_distance  alt_arc_curv  alt_opt_arc_curv  \\\n",
       "point_index                                                                  \n",
       "1833             -0.54674        398.54102      -0.00261          -0.00250   \n",
       "1848             -0.26897        359.67684      -0.00148          -0.00163   \n",
       "1864             -0.03726        308.13876      -0.00024          -0.00045   \n",
       "1879              0.01101        267.40960       0.00008           0.00036   \n",
       "1894             -0.00557        267.22771      -0.00004          -0.00000   \n",
       "...                   ...              ...           ...               ...   \n",
       "19425             0.02174        110.11885       0.00039           0.00100   \n",
       "19440             0.03977         60.23512       0.00132           0.00067   \n",
       "19455             0.03747         24.60177       0.00234           0.00234   \n",
       "19471            -0.04601         24.11589       0.00136          -0.00000   \n",
       "19487                 NaN              NaN           NaN               NaN   \n",
       "\n",
       "             alt_opt_arc_dheading  time_rel_to_stop  traj_curv  stop_ff_angle  \\\n",
       "point_index                                                                     \n",
       "1833                     -1.04335          -1.82635   -0.00120       -0.48219   \n",
       "1848                     -0.58415          -1.57759   -0.00644       -0.22692   \n",
       "1864                     -0.13877          -1.31197   -0.00315       -0.00303   \n",
       "1879                      0.09646          -1.06297    0.00117        0.06069   \n",
       "1894                     -0.00026          -0.81405    0.00117        0.04452   \n",
       "...                           ...               ...        ...            ...   \n",
       "19425                     0.10074           1.57990    0.00100            NaN   \n",
       "19440                     0.03392           1.82890    0.00067            NaN   \n",
       "19455                     0.03417           2.07790    0.00234            NaN   \n",
       "19471                    -0.00001           2.34346    0.00136            NaN   \n",
       "19487                         NaN               NaN        NaN            NaN   \n",
       "\n",
       "             stop_ff_distance  stop_arc_curv  stop_opt_arc_curv  \\\n",
       "point_index                                                       \n",
       "1833                239.04897       -0.00388           -0.00357   \n",
       "1848                199.34043       -0.00226           -0.00275   \n",
       "1864                147.57340       -0.00004           -0.00096   \n",
       "1879                106.89807        0.00113            0.00117   \n",
       "1894                106.71935        0.00083            0.00117   \n",
       "...                       ...            ...                ...   \n",
       "19425                     NaN            NaN                NaN   \n",
       "19440                     NaN            NaN                NaN   \n",
       "19455                     NaN            NaN                NaN   \n",
       "19471                     NaN            NaN                NaN   \n",
       "19487                     NaN            NaN                NaN   \n",
       "\n",
       "             stop_opt_arc_dheading  stop_point_index   bin  \n",
       "point_index                                                 \n",
       "1833                      -0.88072              1945   122  \n",
       "1848                      -0.53951              1945   123  \n",
       "1864                      -0.14025              1945   124  \n",
       "1879                       0.11313              1945   125  \n",
       "1894                       0.11299              1945   126  \n",
       "...                            ...               ...   ...  \n",
       "19425                          NaN             19328  1278  \n",
       "19440                          NaN             19328  1279  \n",
       "19455                          NaN             19328  1280  \n",
       "19471                          NaN             19328  1281  \n",
       "19487                          NaN             19328  1282  \n",
       "\n",
       "[542 rows x 14 columns]"
      ]
     },
     "execution_count": 92,
     "metadata": {},
     "output_type": "execute_result"
    }
   ],
   "source": [
    "df = pn.both_ff_across_time_df\n",
    "df"
   ]
  },
  {
   "cell_type": "code",
   "execution_count": 94,
   "metadata": {},
   "outputs": [
    {
     "name": "stdout",
     "output_type": "stream",
     "text": [
      "Having processed 0 rows out of 299 of the stops_near_ff_df for both_ff_across_time_df.\n",
      "Having processed 10 rows out of 299 of the stops_near_ff_df for both_ff_across_time_df.\n",
      "Having processed 20 rows out of 299 of the stops_near_ff_df for both_ff_across_time_df.\n",
      "Having processed 30 rows out of 299 of the stops_near_ff_df for both_ff_across_time_df.\n",
      "Having processed 40 rows out of 299 of the stops_near_ff_df for both_ff_across_time_df.\n",
      "Having processed 50 rows out of 299 of the stops_near_ff_df for both_ff_across_time_df.\n",
      "Having processed 60 rows out of 299 of the stops_near_ff_df for both_ff_across_time_df.\n",
      "Having processed 70 rows out of 299 of the stops_near_ff_df for both_ff_across_time_df.\n",
      "Having processed 80 rows out of 299 of the stops_near_ff_df for both_ff_across_time_df.\n",
      "Having processed 90 rows out of 299 of the stops_near_ff_df for both_ff_across_time_df.\n",
      "Having processed 100 rows out of 299 of the stops_near_ff_df for both_ff_across_time_df.\n",
      "Having processed 110 rows out of 299 of the stops_near_ff_df for both_ff_across_time_df.\n",
      "Having processed 120 rows out of 299 of the stops_near_ff_df for both_ff_across_time_df.\n",
      "Having processed 130 rows out of 299 of the stops_near_ff_df for both_ff_across_time_df.\n",
      "Having processed 140 rows out of 299 of the stops_near_ff_df for both_ff_across_time_df.\n",
      "Having processed 150 rows out of 299 of the stops_near_ff_df for both_ff_across_time_df.\n",
      "Having processed 160 rows out of 299 of the stops_near_ff_df for both_ff_across_time_df.\n",
      "Having processed 170 rows out of 299 of the stops_near_ff_df for both_ff_across_time_df.\n",
      "Having processed 180 rows out of 299 of the stops_near_ff_df for both_ff_across_time_df.\n",
      "Having processed 190 rows out of 299 of the stops_near_ff_df for both_ff_across_time_df.\n",
      "Having processed 200 rows out of 299 of the stops_near_ff_df for both_ff_across_time_df.\n",
      "Having processed 210 rows out of 299 of the stops_near_ff_df for both_ff_across_time_df.\n",
      "Having processed 220 rows out of 299 of the stops_near_ff_df for both_ff_across_time_df.\n",
      "Having processed 230 rows out of 299 of the stops_near_ff_df for both_ff_across_time_df.\n",
      "Having processed 240 rows out of 299 of the stops_near_ff_df for both_ff_across_time_df.\n",
      "Having processed 250 rows out of 299 of the stops_near_ff_df for both_ff_across_time_df.\n",
      "Having processed 260 rows out of 299 of the stops_near_ff_df for both_ff_across_time_df.\n",
      "Having processed 270 rows out of 299 of the stops_near_ff_df for both_ff_across_time_df.\n",
      "Having processed 280 rows out of 299 of the stops_near_ff_df for both_ff_across_time_df.\n",
      "Having processed 290 rows out of 299 of the stops_near_ff_df for both_ff_across_time_df.\n",
      "Percentage of rows dropped:  0.44518785383427684\n"
     ]
    }
   ],
   "source": [
    "all_planning_info = pn.get_all_planning_info(time_bins, both_ff_across_time_df_exists_ok=False)\n",
    "\n",
    "# drop rows with NA in all_planning_info and print the percentage of rows dropped\n",
    "all_planning_info2 = all_planning_info.drop(columns=columns_to_drop).copy()\n",
    "all_planning_info2 = all_planning_info2.dropna().copy()\n",
    "all_planning_info2.drop(columns={'stop_point_index', 'point_index'}, inplace=True)\n",
    "print(\"Percentage of rows dropped: \", 1 - all_planning_info2.shape[0] / len(all_planning_info))\n",
    "final_behavioral_data = all_planning_info2.copy()\n",
    "\n",
    "neural_bins_sub2 = neural_bins_df[neural_bins_df['bin'].isin(all_planning_info2['bin'].values)]\n",
    "x_var = neural_bins_sub2.drop(columns=['bin']).values"
   ]
  },
  {
   "cell_type": "code",
   "execution_count": 95,
   "metadata": {},
   "outputs": [],
   "source": [
    "max_bin = final_behavioral_data['bin'].max()\n",
    "x_var, spikes_in_bins_df = neural_data_processing.prepare_x_var_and_spikes_in_bins_df(max_bin, x_var)"
   ]
  },
  {
   "cell_type": "code",
   "execution_count": 100,
   "metadata": {},
   "outputs": [
    {
     "data": {
      "text/html": [
       "<div>\n",
       "<style scoped>\n",
       "    .dataframe tbody tr th:only-of-type {\n",
       "        vertical-align: middle;\n",
       "    }\n",
       "\n",
       "    .dataframe tbody tr th {\n",
       "        vertical-align: top;\n",
       "    }\n",
       "\n",
       "    .dataframe thead th {\n",
       "        text-align: right;\n",
       "    }\n",
       "</style>\n",
       "<table border=\"1\" class=\"dataframe\">\n",
       "  <thead>\n",
       "    <tr style=\"text-align: right;\">\n",
       "      <th></th>\n",
       "      <th>0</th>\n",
       "    </tr>\n",
       "  </thead>\n",
       "  <tbody>\n",
       "    <tr>\n",
       "      <th>point_index</th>\n",
       "      <td>0</td>\n",
       "    </tr>\n",
       "    <tr>\n",
       "      <th>alt_ff_angle</th>\n",
       "      <td>156</td>\n",
       "    </tr>\n",
       "    <tr>\n",
       "      <th>alt_ff_distance</th>\n",
       "      <td>156</td>\n",
       "    </tr>\n",
       "    <tr>\n",
       "      <th>alt_arc_curv</th>\n",
       "      <td>156</td>\n",
       "    </tr>\n",
       "    <tr>\n",
       "      <th>alt_opt_arc_curv</th>\n",
       "      <td>156</td>\n",
       "    </tr>\n",
       "    <tr>\n",
       "      <th>alt_opt_arc_dheading</th>\n",
       "      <td>156</td>\n",
       "    </tr>\n",
       "    <tr>\n",
       "      <th>time_rel_to_stop</th>\n",
       "      <td>156</td>\n",
       "    </tr>\n",
       "    <tr>\n",
       "      <th>traj_curv</th>\n",
       "      <td>156</td>\n",
       "    </tr>\n",
       "    <tr>\n",
       "      <th>stop_ff_angle</th>\n",
       "      <td>1713</td>\n",
       "    </tr>\n",
       "    <tr>\n",
       "      <th>stop_ff_distance</th>\n",
       "      <td>1713</td>\n",
       "    </tr>\n",
       "    <tr>\n",
       "      <th>stop_arc_curv</th>\n",
       "      <td>1713</td>\n",
       "    </tr>\n",
       "    <tr>\n",
       "      <th>stop_opt_arc_curv</th>\n",
       "      <td>1713</td>\n",
       "    </tr>\n",
       "    <tr>\n",
       "      <th>stop_opt_arc_dheading</th>\n",
       "      <td>1713</td>\n",
       "    </tr>\n",
       "    <tr>\n",
       "      <th>stop_point_index</th>\n",
       "      <td>0</td>\n",
       "    </tr>\n",
       "    <tr>\n",
       "      <th>bin</th>\n",
       "      <td>0</td>\n",
       "    </tr>\n",
       "    <tr>\n",
       "      <th>angle_from_m_before_stop_to_stop_ff</th>\n",
       "      <td>0</td>\n",
       "    </tr>\n",
       "    <tr>\n",
       "      <th>angle_from_m_before_stop_to_alt_ff</th>\n",
       "      <td>0</td>\n",
       "    </tr>\n",
       "    <tr>\n",
       "      <th>angle_from_stop_ff_landing_to_alt_ff</th>\n",
       "      <td>0</td>\n",
       "    </tr>\n",
       "  </tbody>\n",
       "</table>\n",
       "</div>"
      ],
      "text/plain": [
       "                                         0\n",
       "point_index                              0\n",
       "alt_ff_angle                           156\n",
       "alt_ff_distance                        156\n",
       "alt_arc_curv                           156\n",
       "alt_opt_arc_curv                       156\n",
       "alt_opt_arc_dheading                   156\n",
       "time_rel_to_stop                       156\n",
       "traj_curv                              156\n",
       "stop_ff_angle                         1713\n",
       "stop_ff_distance                      1713\n",
       "stop_arc_curv                         1713\n",
       "stop_opt_arc_curv                     1713\n",
       "stop_opt_arc_dheading                 1713\n",
       "stop_point_index                         0\n",
       "bin                                      0\n",
       "angle_from_m_before_stop_to_stop_ff      0\n",
       "angle_from_m_before_stop_to_alt_ff       0\n",
       "angle_from_stop_ff_landing_to_alt_ff     0"
      ]
     },
     "execution_count": 100,
     "metadata": {},
     "output_type": "execute_result"
    }
   ],
   "source": [
    "pd.options.display.max_columns = 100\n",
    "pd.options.display.max_rows = 100\n",
    "pd.DataFrame(all_planning_info.isnull().sum())"
   ]
  },
  {
   "cell_type": "code",
   "execution_count": 96,
   "metadata": {},
   "outputs": [
    {
     "name": "stdout",
     "output_type": "stream",
     "text": [
      "x_var.shape: (2156, 16)\n",
      "spikes_in_bins_df.shape: (2156, 17)\n",
      "final_behavioral_data.shape: (2156, 13)\n"
     ]
    }
   ],
   "source": [
    "print('x_var.shape:', x_var.shape)\n",
    "print('spikes_in_bins_df.shape:', spikes_in_bins_df.shape)\n",
    "print('final_behavioral_data.shape:', final_behavioral_data.shape)"
   ]
  },
  {
   "cell_type": "code",
   "execution_count": 64,
   "metadata": {},
   "outputs": [],
   "source": [
    "# neural_bins_sub = neural_bins_df[neural_bins_df['bin'].isin(all_planning_info['bin'].values)]"
   ]
  },
  {
   "cell_type": "code",
   "execution_count": 65,
   "metadata": {},
   "outputs": [],
   "source": [
    "# x_var = neural_bins_sub.drop(columns=['bin']).values"
   ]
  },
  {
   "cell_type": "code",
   "execution_count": 98,
   "metadata": {},
   "outputs": [
    {
     "name": "stdout",
     "output_type": "stream",
     "text": [
      "R: 0.08, R^2: 0.006 -- alt_ff_angle\n",
      "R: 0.1, R^2: 0.011 -- alt_ff_distance\n",
      "R: 0.07, R^2: 0.005 -- alt_opt_arc_curv\n",
      "R: 0.1, R^2: 0.01 -- time_rel_to_stop\n",
      "R: 0.09, R^2: 0.009 -- traj_curv\n",
      "R: 0.08, R^2: 0.007 -- stop_ff_angle\n",
      "R: 0.1, R^2: 0.011 -- stop_ff_distance\n",
      "R: 0.08, R^2: 0.007 -- stop_arc_curv\n",
      "R: 0.09, R^2: 0.009 -- stop_opt_arc_curv\n",
      "R: 0.09, R^2: 0.008 -- stop_opt_arc_dheading\n",
      "R: 0.37, R^2: 0.135 -- bin\n",
      "R: 0.1, R^2: 0.009 -- angle_from_m_before_stop_to_stop_ff\n",
      "R: 0.05, R^2: 0.003 -- angle_from_m_before_stop_to_alt_ff\n"
     ]
    }
   ],
   "source": [
    "# conduct linear regression on X and y\n",
    "plt.rcParams[\"figure.figsize\"] = (20, 10)\n",
    "bins_to_plot = range(all_planning_info.bin.max())\n",
    "for i, column in enumerate(final_behavioral_data.columns):\n",
    "    visualize_neural_data.plot_regression(final_behavioral_data, column, x_var, bins_to_plot=None, min_R_squared_to_plot=0.3)\n",
    "    # if i == 3:\n",
    "    #     break"
   ]
  },
  {
   "cell_type": "markdown",
   "metadata": {},
   "source": [
    "### VIF"
   ]
  },
  {
   "cell_type": "code",
   "execution_count": null,
   "metadata": {},
   "outputs": [],
   "source": [
    "vif = pd.DataFrame({\n",
    "    \"VIF Factor\": [variance_inflation_factor(final_behavioral_data.values, i) for i in range(final_behavioral_data.shape[1])],\n",
    "    \"features\": final_behavioral_data.columns\n",
    "}).sort_values(by='VIF Factor', ascending=False).round(1)\n",
    "vif.reset_index(drop=False, inplace=True)\n",
    "\n",
    "vif"
   ]
  },
  {
   "cell_type": "code",
   "execution_count": null,
   "metadata": {},
   "outputs": [],
   "source": [
    "specific_columns = vif.iloc[:15].features.values\n",
    "specific_columns"
   ]
  },
  {
   "cell_type": "code",
   "execution_count": null,
   "metadata": {},
   "outputs": [],
   "source": [
    "fff = [feature for feature in vif.features.tolist() if ('alt' in feature) and ('stop' in feature)]\n",
    "fff"
   ]
  },
  {
   "cell_type": "code",
   "execution_count": null,
   "metadata": {},
   "outputs": [],
   "source": [
    "fff = [feature for feature in vif.features.tolist() if ('alt_arc_' in feature) or ('alt_opt' in feature)]\n",
    "fff"
   ]
  },
  {
   "cell_type": "code",
   "execution_count": null,
   "metadata": {},
   "outputs": [],
   "source": [
    " specific_columns = ['stop_ff_distance',\n",
    " 'stop_ff_angle',\n",
    " 'stop_opt_arc_dheading',\n",
    " 'stop_arc_curv']\n",
    "\n",
    " specific_columns = ['stop_ff_angle',\n",
    " 'stop_ff_distance',\n",
    " 'stop_opt_arc_dheading',\n",
    " 'stop_opt_arc_curv',\n",
    " 'stop_arc_curv']"
   ]
  },
  {
   "cell_type": "code",
   "execution_count": null,
   "metadata": {},
   "outputs": [],
   "source": [
    " specific_columns = ['alt_ff_angle',\n",
    " 'alt_ff_distance',\n",
    " 'alt_opt_arc_dheading',\n",
    " 'alt_opt_arc_curv',\n",
    " 'alt_arc_curv']"
   ]
  },
  {
   "cell_type": "code",
   "execution_count": null,
   "metadata": {},
   "outputs": [],
   "source": [
    "fff = [feature for feature in vif.features.tolist() if ('alt' in feature) & ('first_seen' not in feature) & ('last_seen' in feature)]\n",
    "fff"
   ]
  },
  {
   "cell_type": "markdown",
   "metadata": {},
   "source": [
    "### Correlations between features"
   ]
  },
  {
   "cell_type": "code",
   "execution_count": null,
   "metadata": {},
   "outputs": [],
   "source": [
    "# calculate the correlation coefficient among the columns with VIF > 5\n",
    "# specific_columns = vif[vif[\"VIF Factor\"] > 5].features.values\n",
    "corr_coeff = final_behavioral_data[specific_columns].corr()\n",
    "#plt.figure(figsize = (6, 6))\n",
    "plt.figure(figsize = (12, 12))\n",
    "sns.heatmap(corr_coeff, cmap='coolwarm', annot=True, linewidths=1, vmin=-1)\n",
    "plt.show()"
   ]
  },
  {
   "cell_type": "markdown",
   "metadata": {},
   "source": [
    "## Categorize variables"
   ]
  },
  {
   "cell_type": "code",
   "execution_count": null,
   "metadata": {},
   "outputs": [],
   "source": [
    "final_behavioral_data.columns"
   ]
  },
  {
   "cell_type": "code",
   "execution_count": null,
   "metadata": {},
   "outputs": [],
   "source": [
    "temporal_vars = ['time_rel_to_stop',\n",
    " 'time_when_alt_ff_first_seen_rel_to_stop',\n",
    " 'time_when_stop_ff_first_seen_rel_to_stop',\n",
    " 'time_when_alt_ff_last_seen_rel_to_stop',\n",
    " 'time_when_stop_ff_last_seen_rel_to_stop',\n",
    " ]\n",
    "\n",
    "spatial_vars = [x for x in final_behavioral_data.columns if x not in temporal_vars]\n",
    "spatial_vars"
   ]
  },
  {
   "cell_type": "markdown",
   "metadata": {},
   "source": [
    "# Experiment"
   ]
  },
  {
   "cell_type": "code",
   "execution_count": null,
   "metadata": {},
   "outputs": [],
   "source": [
    "from sklearn.cross_decomposition import CCA\n",
    "from sklearn.linear_model import RidgeCV\n",
    "\n",
    "# Assuming X and Y are your two datasets\n",
    "ridge = RidgeCV(alphas=[0.1, 1.0, 10.0])  # Set your alpha values for tuning\n",
    "ridge.fit(x_var_lags, y_var_lags)\n",
    "\n",
    "# Now you can use the fitted ridge model with CCA\n",
    "cca = CCA(n_components=2)\n",
    "cca.fit(ridge.predict(x_var_lags), y_var_lags)"
   ]
  },
  {
   "cell_type": "code",
   "execution_count": null,
   "metadata": {},
   "outputs": [],
   "source": [
    "\n",
    "# Transform the datasets to get the canonical covariates\n",
    "X_c, Y_c = cca.transform(ridge.predict(x_var_lags), y_var_lags)\n",
    "\n",
    "# Print the canonical covariates\n",
    "print(\"Canonical covariates for X (X_c):\")\n",
    "print(X_c)\n",
    "print(\"Canonical covariates for Y (Y_c):\")\n",
    "print(Y_c)"
   ]
  },
  {
   "cell_type": "code",
   "execution_count": null,
   "metadata": {},
   "outputs": [],
   "source": [
    "# Transform the datasets to get the canonical covariates\n",
    "X_c, Y_c = cca.transform(ridge.predict(x_var_lags), y_var_lags)\n",
    "\n",
    "# Calculate the canonical correlation coefficients\n",
    "canonical_correlations = [np.corrcoef(X_c[:, i], Y_c[:, i])[0, 1] for i in range(X_c.shape[1])]\n",
    "\n",
    "# Print the canonical correlation coefficients\n",
    "print(\"Canonical correlation coefficients:\")\n",
    "print(canonical_correlations)"
   ]
  },
  {
   "cell_type": "code",
   "execution_count": null,
   "metadata": {},
   "outputs": [],
   "source": [
    "cca.score(ridge.predict(x_var_lags), y_var_lags)"
   ]
  },
  {
   "cell_type": "code",
   "execution_count": 103,
   "metadata": {},
   "outputs": [
    {
     "name": "stderr",
     "output_type": "stream",
     "text": [
      "/opt/anaconda3/envs/ff_venv/lib/python3.9/site-packages/sklearn/linear_model/_coordinate_descent.py:656: ConvergenceWarning: Objective did not converge. You might want to increase the number of iterations. Duality gap: 10575040795.063955, tolerance: 51601885.34356141\n",
      "  model = cd_fast.enet_coordinate_descent_multi_task(\n",
      "/opt/anaconda3/envs/ff_venv/lib/python3.9/site-packages/sklearn/linear_model/_coordinate_descent.py:656: ConvergenceWarning: Objective did not converge. You might want to increase the number of iterations. Duality gap: 10774113295.724577, tolerance: 45675213.43475038\n",
      "  model = cd_fast.enet_coordinate_descent_multi_task(\n",
      "/opt/anaconda3/envs/ff_venv/lib/python3.9/site-packages/sklearn/linear_model/_coordinate_descent.py:656: ConvergenceWarning: Objective did not converge. You might want to increase the number of iterations. Duality gap: 10557425972.419086, tolerance: 45649737.527170904\n",
      "  model = cd_fast.enet_coordinate_descent_multi_task(\n",
      "/opt/anaconda3/envs/ff_venv/lib/python3.9/site-packages/sklearn/linear_model/_coordinate_descent.py:656: ConvergenceWarning: Objective did not converge. You might want to increase the number of iterations. Duality gap: 10507026331.998997, tolerance: 27726259.156538684\n",
      "  model = cd_fast.enet_coordinate_descent_multi_task(\n",
      "/opt/anaconda3/envs/ff_venv/lib/python3.9/site-packages/sklearn/linear_model/_coordinate_descent.py:656: ConvergenceWarning: Objective did not converge. You might want to increase the number of iterations. Duality gap: 85389584.06790543, tolerance: 27677381.716160525\n",
      "  model = cd_fast.enet_coordinate_descent_multi_task(\n",
      "/opt/anaconda3/envs/ff_venv/lib/python3.9/site-packages/sklearn/linear_model/_coordinate_descent.py:2525: ConvergenceWarning: Objective did not converge. You might want to increase the number of iterations. Duality gap: 13227141661.1438, tolerance: 52567027.964054115\n",
      "  ) = cd_fast.enet_coordinate_descent_multi_task(\n"
     ]
    },
    {
     "name": "stdout",
     "output_type": "stream",
     "text": [
      "Canonical correlation coefficients:\n",
      "[1.0, 0.8936378372582943, 0.993807315511504, 0.837302409899281, 0.7710510107064716, 0.6816635247913017, 0.5601638179427474, 0.4726332783178297, 0.42859715307621127, 0.40003076456039477]\n",
      "Sat Sep 21 14:36:01 2024    profile_output\n",
      "\n",
      "         1362152 function calls (1361537 primitive calls) in 4456.274 seconds\n",
      "\n",
      "   Ordered by: cumulative time\n",
      "   List reduced from 817 to 10 due to restriction <10>\n",
      "\n",
      "   ncalls  tottime  percall  cumtime  percall filename:lineno(function)\n",
      "      5/1    0.002    0.000 4456.274 4456.274 {built-in method builtins.exec}\n",
      "        1    0.001    0.001 4456.273 4456.273 <string>:1(<module>)\n",
      "        1    0.041    0.041 4456.273 4456.273 /var/folders/d_/db37ytbs7n7dtdqnpjf4lffh0000gn/T/ipykernel_38144/2016135571.py:8(main)\n",
      "      3/2    0.011    0.004 4456.023 2228.011 /opt/anaconda3/envs/ff_venv/lib/python3.9/site-packages/sklearn/base.py:1457(wrapper)\n",
      "        1    0.000    0.000 4442.277 4442.277 /opt/anaconda3/envs/ff_venv/lib/python3.9/site-packages/sklearn/linear_model/_coordinate_descent.py:3155(fit)\n",
      "        1    0.018    0.018 4442.240 4442.240 /opt/anaconda3/envs/ff_venv/lib/python3.9/site-packages/sklearn/linear_model/_coordinate_descent.py:1524(fit)\n",
      "        1    0.000    0.000 4061.720 4061.720 /opt/anaconda3/envs/ff_venv/lib/python3.9/site-packages/sklearn/utils/parallel.py:44(__call__)\n",
      "        1    0.001    0.001 4061.720 4061.720 /opt/anaconda3/envs/ff_venv/lib/python3.9/site-packages/joblib/parallel.py:1902(__call__)\n",
      "        7    0.001    0.000 4061.717  580.245 /opt/anaconda3/envs/ff_venv/lib/python3.9/site-packages/joblib/parallel.py:1638(_get_outputs)\n",
      "        5   25.485    5.097 4061.404  812.281 /opt/anaconda3/envs/ff_venv/lib/python3.9/site-packages/joblib/parallel.py:1746(_retrieve)\n",
      "\n",
      "\n"
     ]
    },
    {
     "data": {
      "text/plain": [
       "<pstats.Stats at 0x33873c190>"
      ]
     },
     "execution_count": 103,
     "metadata": {},
     "output_type": "execute_result"
    }
   ],
   "source": [
    "from sklearn.cross_decomposition import CCA\n",
    "from sklearn.linear_model import LassoCV, MultiTaskLassoCV\n",
    "import numpy as np\n",
    "\n",
    "import cProfile\n",
    "import pstats\n",
    "\n",
    "def main():\n",
    "    # Assuming x_var_lags and y_var_lags are your two datasets\n",
    "    # lasso = MultiTaskLassoCV(alphas=[0.1, 1.0, 10.0])  # Set your alpha values for tuning\n",
    "    lasso = MultiTaskLassoCV(alphas=[1.0], n_jobs=-1)  # Set your alpha values for tuning\n",
    "    lasso.fit(x_var_lags, y_var_lags)\n",
    "\n",
    "    # Use the fitted lasso model with CCA\n",
    "    cca = CCA(n_components=10)\n",
    "    cca.fit(lasso.predict(x_var_lags), y_var_lags)\n",
    "\n",
    "    # Transform the datasets to get the canonical covariates\n",
    "    X_c, Y_c = cca.transform(lasso.predict(x_var_lags), y_var_lags)\n",
    "\n",
    "    # Calculate the canonical correlation coefficients\n",
    "    canonical_correlations = [np.corrcoef(X_c[:, i], Y_c[:, i])[0, 1] for i in range(X_c.shape[1])]\n",
    "\n",
    "    # Print the canonical correlation coefficients\n",
    "    print(\"Canonical correlation coefficients:\")\n",
    "    print(canonical_correlations)\n",
    "    return canonical_correlations\n",
    "\n",
    "\n",
    "# Profile the main function\n",
    "cProfile.run('main()', 'profile_output')\n",
    "\n",
    "# Print profiling results\n",
    "p = pstats.Stats('profile_output')\n",
    "p.sort_stats('cumulative').print_stats(10)"
   ]
  },
  {
   "cell_type": "code",
   "execution_count": 102,
   "metadata": {},
   "outputs": [
    {
     "data": {
      "text/plain": [
       "(14397, 120)"
      ]
     },
     "execution_count": 102,
     "metadata": {},
     "output_type": "execute_result"
    }
   ],
   "source": [
    "y_var_lags.shape"
   ]
  },
  {
   "cell_type": "code",
   "execution_count": null,
   "metadata": {},
   "outputs": [],
   "source": [
    "final_behavioral_data.columns"
   ]
  },
  {
   "cell_type": "code",
   "execution_count": 382,
   "metadata": {},
   "outputs": [],
   "source": [
    "column = 'stop_success_rate'\n",
    "y_var = final_behavioral_data[column]\n",
    "x_var = y_var_lags\n",
    "\n",
    "# # drop rows where either x_var or y_var is nan, and print the number of dropped rows\n",
    "# n_rows = len(x_var)\n",
    "# dropped_rows = x_var[np.isnan(x_var) | np.isnan(y_var)]\n",
    "# x_var = x_var[~np.isnan(x_var) & ~np.isnan(y_var)]\n",
    "# y_var = y_var[~np.isnan(x_var) & ~np.isnan(y_var)]\n",
    "# print(f\"Dropped {len(dropped_rows)} rows out of {n_rows} rows for {column} due to nan values.\")\n",
    "\n",
    "\n",
    "reg = LinearRegression().fit(x_var, y_var)"
   ]
  },
  {
   "cell_type": "code",
   "execution_count": null,
   "metadata": {},
   "outputs": [],
   "source": [
    "reg.coef_"
   ]
  },
  {
   "cell_type": "code",
   "execution_count": null,
   "metadata": {},
   "outputs": [],
   "source": [
    "for column in ['stop_success_rate',\n",
    "                # 'avg_target_cluster_last_seen_distance_frozen',\n",
    "                # 'avg_target_cluster_last_seen_distance'\n",
    "                ]:\n",
    "    visualize_neural_data.plot_regression(final_behavioral_data, column, y_var_lags, min_R_squared_to_plot=0.3)"
   ]
  },
  {
   "cell_type": "code",
   "execution_count": null,
   "metadata": {},
   "outputs": [],
   "source": [
    "final_behavioral_data['stop_success_rate']"
   ]
  },
  {
   "cell_type": "code",
   "execution_count": null,
   "metadata": {},
   "outputs": [],
   "source": [
    "y_var_lags.shape"
   ]
  },
  {
   "attachments": {},
   "cell_type": "markdown",
   "metadata": {},
   "source": [
    "# CCA\n",
    "\n",
    "https://medium.com/@pozdrawiamzuzanna/canonical-correlation-analysis-simple-explanation-and-python-example-a5b8e97648d2"
   ]
  },
  {
   "cell_type": "markdown",
   "metadata": {},
   "source": [
    "## No lagging"
   ]
  },
  {
   "cell_type": "code",
   "execution_count": null,
   "metadata": {},
   "outputs": [],
   "source": [
    "# Define data and scaler\n",
    "scaler = StandardScaler()\n",
    "X1, X2 = spikes_in_bins_df.drop(columns=['bin'], errors='ignore'), final_behavioral_data.drop(columns=['bin'], errors='ignore')\n",
    "\n",
    "# Scale data\n",
    "X1_sc, X2_sc = scaler.fit_transform(X1), scaler.fit_transform(X2)\n",
    "\n",
    "# Define and fit CCA\n",
    "n_comp = 10\n",
    "cca = CCA(scale=False, n_components=n_comp).fit(X1_sc, X2_sc)\n",
    "\n",
    "# Transform datasets to obtain canonical variates\n",
    "X1_c, X2_c = cca.transform(X1_sc, X2_sc)\n",
    "\n",
    "# Calculate canonical correlations\n",
    "canon_corr = [np.corrcoef(X1_c[:, i], X2_c[:, i])[1][0] for i in range(n_comp)]\n",
    "\n",
    "# Plot canonical correlations\n",
    "bar_names = [f'CC {i+1}' for i in range(n_comp)]\n",
    "plt.bar(bar_names, canon_corr, color='lightgrey', width=0.8, edgecolor='k')\n",
    "\n",
    "# Label y value on each bar\n",
    "for i, val in enumerate(canon_corr):\n",
    "    plt.text(i, val, f'{val:.2f}', ha='center', va='bottom')\n",
    "\n",
    "plt.show()\n",
    "\n",
    "lagging_included = False"
   ]
  },
  {
   "attachments": {},
   "cell_type": "markdown",
   "metadata": {},
   "source": [
    "## Loop over lags"
   ]
  },
  {
   "cell_type": "code",
   "execution_count": null,
   "metadata": {},
   "outputs": [],
   "source": [
    "gc.collect()"
   ]
  },
  {
   "cell_type": "code",
   "execution_count": 122,
   "metadata": {},
   "outputs": [],
   "source": [
    "# rename columns in final_behavioral_data\n",
    "column_names = {\n",
    "    'catching_ff': 'whether catching ff at current time bin',\n",
    "    'min_target_cluster_has_disappeared_for_last_time_dummy': 'whether target cluster has disappeared for last time',           \n",
    "    'max_target_cluster_visible_dummy': 'whether target cluster is visible',\n",
    "    'bin': 'bin',\n",
    "    'gaze_world_y': 'gaze y-coordinate',\n",
    "    'monkey_speed': 'monkey linear speed',\n",
    "    'monkey_dw': 'monkey linear acceleration',\n",
    "    'monkey_ddw': 'change in monkey linear acceleration',\n",
    "    'monkey_ddv': 'change in monkey angular acceleration',\n",
    "    'avg_target_cluster_last_seen_distance': 'distance of target cluster last seen',\n",
    "    'avg_target_cluster_last_seen_angle': 'angle of target cluster last seen'\n",
    "}\n",
    "\n",
    "final_behavioral_data_renamed = final_behavioral_data.rename(columns=column_names)\n",
    "\n",
    "final_behavioral_data_renamed.drop(columns=['bin'], inplace=True, errors='ignore')"
   ]
  },
  {
   "cell_type": "code",
   "execution_count": 103,
   "metadata": {},
   "outputs": [],
   "source": [
    "final_behavioral_data_renamed.drop(columns=['stop_success_rate',\n",
    "                                            'avg_target_cluster_last_seen_distance_frozen',\n",
    "                                            'distance of target cluster last seen',\n",
    "                                            'whether catching ff at current time bin'], inplace=True, errors='ignore')"
   ]
  },
  {
   "cell_type": "code",
   "execution_count": null,
   "metadata": {},
   "outputs": [],
   "source": [
    "'distance_of_target_cluster_last_seen'"
   ]
  },
  {
   "cell_type": "code",
   "execution_count": null,
   "metadata": {},
   "outputs": [],
   "source": [
    "# iterate across different lags\n",
    "for n_lags in range(3, 4):\n",
    "    \n",
    "    #print(\"n_lags\", n_lags, \"include_negative_lags:\", include_negative_lags)\n",
    "\n",
    "    #lag_numbers = range(-n_lags,0+1)\n",
    "    lag_numbers = range(-n_lags, n_lags+1)\n",
    "    #lag_numbers = range(0, n_lags+1)\n",
    "    print(\"lag_numbers:\", lag_numbers)\n",
    "\n",
    "    x_var_lags = neural_data_processing.add_lags_to_each_feature(spikes_in_bins_df.drop(columns=['bin'], errors='ignore'), lag_numbers = lag_numbers)\n",
    "    y_var_lags = neural_data_processing.add_lags_to_each_feature(final_behavioral_data_renamed, lag_numbers= range(-3, 4))\n",
    "\n",
    "    #X1 = pd.DataFrame(neural_stacked_bins_sub) \n",
    "    #X1 = pd.DataFrame(modelX.copy())\n",
    "\n",
    "    X1 = x_var_lags\n",
    "    X2 = y_var_lags\n",
    "\n",
    "    scaler = StandardScaler()\n",
    "    X1_sc = scaler.fit_transform(X1) #scale data\n",
    "    X2_sc = scaler.fit_transform(X2) \n",
    "    n_comp=12 #choose number of canonical variates pairs \n",
    "    cca = CCA(scale=False, n_components=n_comp) #define CCA\n",
    "    cca.fit(X1_sc, X2_sc) #fit our scaled data\n",
    "    X1_c, X2_c = cca.transform(X1_sc, X2_sc) #transform our datasests to obtain canonical variates\n",
    "\n",
    "    canon_corr = [np.corrcoef(X1_c[:, i], X2_c[:, i])[1][0] for i in range(n_comp)]\n",
    "    print(np.around(np.array(canon_corr), 2))\n",
    "    # bar_names = ['CC {}'.format(i+1) for i in range(n_comp)]\n",
    "    # plt.bar(bar_names, canon_corr, color='lightgrey', width = 0.8, edgecolor='k')\n",
    "    # plt.show() \n",
    "    # \n",
    "\n",
    "coef_df = pd.DataFrame(np.round(cca.coef_, 2), columns = [X1.columns])\n",
    "coef_df.index = X2.columns\n",
    "\n",
    "lagging_included = True\n",
    "    "
   ]
  },
  {
   "cell_type": "markdown",
   "metadata": {},
   "source": [
    "## loadings squared"
   ]
  },
  {
   "cell_type": "code",
   "execution_count": 125,
   "metadata": {},
   "outputs": [],
   "source": [
    "x_loadings = neural_analysis.calculate_cca_loadings(X1_sc, X1_c)\n",
    "y_loadings = neural_analysis.calculate_cca_loadings(X2_sc, X2_c)"
   ]
  },
  {
   "cell_type": "markdown",
   "metadata": {},
   "source": [
    "### neurons"
   ]
  },
  {
   "cell_type": "code",
   "execution_count": null,
   "metadata": {},
   "outputs": [],
   "source": [
    "x_loadings = neural_analysis.calculate_cca_loadings(X1_sc, X1_c)\n",
    "y_loadings = neural_analysis.calculate_cca_loadings(X2_sc, X2_c)\n",
    "\n",
    "loading_squared = pd.DataFrame(np.round(x_loadings**2, 3))\n",
    "loading_squared['feature'] = X1.columns \n",
    "if lagging_included:\n",
    "    loading_squared['feature_category'] = loading_squared['feature'].apply(lambda x: '_'.join(x.split('_')[:-1]))\n",
    "else:\n",
    "    loading_squared['feature_category'] = loading_squared['feature']\n",
    "num_variates = cca.x_loadings_.shape[1]\n",
    "\n",
    "\n",
    "num_variates = x_loadings.shape[1]\n",
    "neural_analysis.make_a_series_of_barplots_of_ranked_loadings(loading_squared, canon_corr, num_variates, keep_one_value_for_each_feature = True, max_features_to_show_per_plot = 5)\n"
   ]
  },
  {
   "cell_type": "markdown",
   "metadata": {},
   "source": [
    "### behavior"
   ]
  },
  {
   "cell_type": "code",
   "execution_count": null,
   "metadata": {},
   "outputs": [],
   "source": [
    "x_loadings = neural_analysis.calculate_cca_loadings(X1_sc, X1_c)\n",
    "y_loadings = neural_analysis.calculate_cca_loadings(X2_sc, X2_c)\n",
    "\n",
    "loading_squared = pd.DataFrame(np.round(y_loadings**2, 3))\n",
    "loading_squared['feature'] = X2.columns \n",
    "if lagging_included:\n",
    "    loading_squared['feature_category'] = loading_squared['feature'].apply(lambda x: '_'.join(x.split('_')[:-1]))\n",
    "else:\n",
    "    loading_squared['feature_category'] = loading_squared['feature']\n",
    "\n",
    "num_variates = cca.x_loadings_.shape[1]\n",
    "\n",
    "\n",
    "num_variates = y_loadings.shape[1]\n",
    "neural_analysis.make_a_series_of_barplots_of_ranked_loadings(loading_squared, canon_corr, num_variates, keep_one_value_for_each_feature = True, max_features_to_show_per_plot = 8)\n"
   ]
  },
  {
   "attachments": {},
   "cell_type": "markdown",
   "metadata": {},
   "source": [
    "## cca's \"loadings\" squared ranked"
   ]
  },
  {
   "cell_type": "markdown",
   "metadata": {},
   "source": [
    "### neurons"
   ]
  },
  {
   "cell_type": "code",
   "execution_count": null,
   "metadata": {},
   "outputs": [],
   "source": [
    "loading_squared"
   ]
  },
  {
   "cell_type": "code",
   "execution_count": null,
   "metadata": {},
   "outputs": [],
   "source": [
    "loading_squared = pd.DataFrame(np.round(cca.x_loadings_**2, 3))\n",
    "loading_squared['feature'] = X1.columns \n",
    "loading_squared['feature_category'] = loading_squared['feature'].apply(lambda x: '_'.join(x.split('_')[:-1]))\n",
    "\n",
    "num_variates = cca.x_loadings_.shape[1]\n",
    "neural_analysis.make_a_series_of_barplots_of_ranked_loadings(loading_squared, canon_corr, num_variates, keep_one_value_for_each_feature = True, max_features_to_show_per_plot = 10)\n"
   ]
  },
  {
   "cell_type": "markdown",
   "metadata": {},
   "source": [
    "### behavior"
   ]
  },
  {
   "cell_type": "code",
   "execution_count": null,
   "metadata": {},
   "outputs": [],
   "source": [
    "cca.y_loadings_[cca.y_loadings_>1]"
   ]
  },
  {
   "cell_type": "code",
   "execution_count": null,
   "metadata": {},
   "outputs": [],
   "source": [
    "loading_squared = pd.DataFrame(np.round(cca.y_loadings_**2, 3))\n",
    "loading_squared['feature'] = X2.columns\n",
    "loading_squared['feature_category'] = loading_squared['feature'].apply(lambda x: '_'.join(x.split('_')[:-1]))\n",
    "# fill empty strings in feature_category with the same value as feature\n",
    "loading_squared.loc[loading_squared['feature_category']=='', 'feature_category'] = loading_squared.loc[loading_squared['feature_category']=='', 'feature']\n",
    "\n",
    "num_variates = cca.y_loadings_.shape[1]\n",
    "neural_analysis.make_a_series_of_barplots_of_ranked_loadings(loading_squared, canon_corr, num_variates, keep_one_value_for_each_feature = True, max_features_to_show_per_plot = 7)\n"
   ]
  },
  {
   "cell_type": "markdown",
   "metadata": {},
   "source": [
    "## abs weights ranked"
   ]
  },
  {
   "cell_type": "markdown",
   "metadata": {},
   "source": [
    "### neurons"
   ]
  },
  {
   "cell_type": "code",
   "execution_count": null,
   "metadata": {},
   "outputs": [],
   "source": [
    "loading_squared = pd.DataFrame(np.round(np.abs(cca.x_weights_), 3))\n",
    "loading_squared['feature'] = X1.columns \n",
    "loading_squared['feature_category'] = loading_squared['feature'].apply(lambda x: '_'.join(x.split('_')[:-1]))\n",
    "\n",
    "num_variates = cca.x_weights_.shape[1]\n",
    "neural_analysis.make_a_series_of_barplots_of_ranked_loadings(loading_squared, canon_corr, num_variates, keep_one_value_for_each_feature = True, max_features_to_show_per_plot = 10)\n"
   ]
  },
  {
   "cell_type": "markdown",
   "metadata": {},
   "source": [
    "### behavior"
   ]
  },
  {
   "cell_type": "code",
   "execution_count": null,
   "metadata": {},
   "outputs": [],
   "source": [
    "cca.y_loadings_[cca.y_loadings_>1]"
   ]
  },
  {
   "cell_type": "code",
   "execution_count": null,
   "metadata": {},
   "outputs": [],
   "source": [
    "loading_squared = pd.DataFrame(np.round(np.abs(cca.y_weights_), 3))\n",
    "loading_squared['feature'] = X2.columns\n",
    "loading_squared['feature_category'] = loading_squared['feature'].apply(lambda x: '_'.join(x.split('_')[:-1]))\n",
    "# fill empty strings in feature_category with the same value as feature\n",
    "loading_squared.loc[loading_squared['feature_category']=='', 'feature_category'] = loading_squared.loc[loading_squared['feature_category']=='', 'feature']\n",
    "\n",
    "num_variates = cca.y_weights_.shape[1]\n",
    "neural_analysis.make_a_series_of_barplots_of_ranked_loadings(loading_squared, canon_corr, num_variates, keep_one_value_for_each_feature = True, max_features_to_show_per_plot = 10)\n"
   ]
  },
  {
   "cell_type": "markdown",
   "metadata": {},
   "source": [
    "## plot real weights"
   ]
  },
  {
   "cell_type": "markdown",
   "metadata": {},
   "source": [
    "### neurons"
   ]
  },
  {
   "cell_type": "code",
   "execution_count": null,
   "metadata": {},
   "outputs": [],
   "source": [
    "reload(neural_analysis)"
   ]
  },
  {
   "cell_type": "code",
   "execution_count": null,
   "metadata": {},
   "outputs": [],
   "source": [
    "loading_squared = pd.DataFrame(np.round(cca.x_weights_, 3))\n",
    "loading_squared['feature'] = X1.columns \n",
    "loading_squared['feature_category'] = loading_squared['feature'].apply(lambda x: '_'.join(x.split('_')[:-1]))\n",
    "\n",
    "num_variates = cca.x_weights_.shape[1]\n",
    "neural_analysis.make_a_series_of_barplots_of_ranked_loadings(loading_squared, canon_corr, num_variates, keep_one_value_for_each_feature = True, max_features_to_show_per_plot = 10)\n"
   ]
  },
  {
   "cell_type": "markdown",
   "metadata": {},
   "source": [
    "### behavior"
   ]
  },
  {
   "cell_type": "code",
   "execution_count": null,
   "metadata": {},
   "outputs": [],
   "source": [
    "cca.y_loadings_[cca.y_loadings_>1]"
   ]
  },
  {
   "cell_type": "code",
   "execution_count": null,
   "metadata": {},
   "outputs": [],
   "source": [
    "loading_squared = pd.DataFrame(np.round(cca.y_weights_, 3))\n",
    "loading_squared['feature'] = X2.columns\n",
    "loading_squared['feature_category'] = loading_squared['feature'].apply(lambda x: '_'.join(x.split('_')[:-1]))\n",
    "# fill empty strings in feature_category with the same value as feature\n",
    "loading_squared.loc[loading_squared['feature_category']=='', 'feature_category'] = loading_squared.loc[loading_squared['feature_category']=='', 'feature']\n",
    "\n",
    "num_variates = cca.y_weights_.shape[1]\n",
    "neural_analysis.make_a_series_of_barplots_of_ranked_loadings(loading_squared, canon_corr, num_variates, keep_one_value_for_each_feature = True, max_features_to_show_per_plot = 10)\n"
   ]
  },
  {
   "cell_type": "code",
   "execution_count": null,
   "metadata": {},
   "outputs": [],
   "source": [
    "stop here"
   ]
  },
  {
   "attachments": {},
   "cell_type": "markdown",
   "metadata": {},
   "source": [
    "## Distribution of each feature"
   ]
  },
  {
   "cell_type": "code",
   "execution_count": null,
   "metadata": {},
   "outputs": [],
   "source": [
    "X2_sc_df = pd.DataFrame(X2_sc, columns = X2.columns)\n",
    "X2_sc_df.describe()"
   ]
  },
  {
   "cell_type": "code",
   "execution_count": null,
   "metadata": {},
   "outputs": [],
   "source": [
    "#for column in X2_sc_df.columns[:60]:\n",
    "for column in X2_sc_df.columns[:6]:\n",
    "    sns.boxplot(X2_sc_df[column])\n",
    "    plt.show()\n",
    "    "
   ]
  },
  {
   "attachments": {},
   "cell_type": "markdown",
   "metadata": {},
   "source": [
    "## heatmap\n",
    "raw canonical coefficients are interpreted in a manner analogous to interpreting regression coefficients. For example: a one unit increase in reading leads to a .0446 decrease in the first canonical variate of set 2 when all of the other variables are held constant (in some other data)"
   ]
  },
  {
   "cell_type": "code",
   "execution_count": null,
   "metadata": {},
   "outputs": [],
   "source": [
    "plt.subplots(figsize=(15, 25))\n",
    "sns.heatmap(coef_df.iloc[:10, :10], cmap='coolwarm', annot=True, linewidths=1, vmin=-1)\n",
    "plt.show()"
   ]
  },
  {
   "cell_type": "code",
   "execution_count": null,
   "metadata": {},
   "outputs": [],
   "source": [
    "cca.x_weights_"
   ]
  },
  {
   "attachments": {},
   "cell_type": "markdown",
   "metadata": {},
   "source": [
    "# Pyrcca"
   ]
  },
  {
   "attachments": {},
   "cell_type": "markdown",
   "metadata": {},
   "source": [
    "## data scaling and splitting"
   ]
  },
  {
   "cell_type": "code",
   "execution_count": 143,
   "metadata": {},
   "outputs": [],
   "source": [
    "import rcca"
   ]
  },
  {
   "cell_type": "code",
   "execution_count": 144,
   "metadata": {},
   "outputs": [],
   "source": [
    "X1 = spikes_in_bins_df\n",
    "X2 = final_behavioral_data"
   ]
  },
  {
   "cell_type": "code",
   "execution_count": 145,
   "metadata": {},
   "outputs": [],
   "source": [
    "# X1, X2 = pd.DataFrame(x_var2), all_planning_info2\n",
    "\n"
   ]
  },
  {
   "cell_type": "code",
   "execution_count": 146,
   "metadata": {},
   "outputs": [],
   "source": [
    "scaler = StandardScaler()\n",
    "X1_sc = scaler.fit_transform(X1) #scale data\n",
    "X2_sc = scaler.fit_transform(X2) "
   ]
  },
  {
   "cell_type": "code",
   "execution_count": null,
   "metadata": {},
   "outputs": [],
   "source": [
    "final_behavioral_data.shape"
   ]
  },
  {
   "attachments": {},
   "cell_type": "markdown",
   "metadata": {},
   "source": [
    "## train and validate"
   ]
  },
  {
   "cell_type": "code",
   "execution_count": null,
   "metadata": {},
   "outputs": [],
   "source": [
    "# use all data\n",
    "\n",
    "nComponents = 10 # min(p,q) components\n",
    "cca2 = rcca.CCA(kernelcca = False, reg = 0., numCC = nComponents,)\n",
    "cca2.train([X1_sc, X2_sc])\n",
    "print('Canonical Correlation Per Component Pair:',cca2.cancorrs)\n",
    "print('% Shared Variance:',cca2.cancorrs**2)"
   ]
  },
  {
   "cell_type": "code",
   "execution_count": null,
   "metadata": {},
   "outputs": [],
   "source": [
    "train1, test1, train2, test2 = train_test_split(X1_sc, X2_sc, test_size=0.3, random_state=42)\n",
    "# use training and testing set\n",
    "nComponents = 4\n",
    "cca2 = rcca.CCA(kernelcca = False, reg = 0., numCC = nComponents)\n",
    "cca2.train([train1, train2])\n",
    "testcorrs = cca2.validate([test1, test2])\n",
    "testcorrs"
   ]
  },
  {
   "attachments": {},
   "cell_type": "markdown",
   "metadata": {},
   "source": [
    "## compute_ev"
   ]
  },
  {
   "cell_type": "code",
   "execution_count": null,
   "metadata": {},
   "outputs": [],
   "source": [
    "cca2.compute_ev([test1, test2])"
   ]
  },
  {
   "attachments": {},
   "cell_type": "markdown",
   "metadata": {},
   "source": [
    "## canonical components"
   ]
  },
  {
   "cell_type": "code",
   "execution_count": null,
   "metadata": {},
   "outputs": [],
   "source": [
    "# canonical components\n",
    "cca2.comps"
   ]
  },
  {
   "attachments": {},
   "cell_type": "markdown",
   "metadata": {},
   "source": [
    "## canonical weights"
   ]
  },
  {
   "cell_type": "code",
   "execution_count": null,
   "metadata": {},
   "outputs": [],
   "source": [
    "cca2.ws[0]"
   ]
  },
  {
   "attachments": {},
   "cell_type": "markdown",
   "metadata": {},
   "source": [
    "## predicted values"
   ]
  },
  {
   "cell_type": "code",
   "execution_count": null,
   "metadata": {},
   "outputs": [],
   "source": [
    "cca2.preds[0].shape"
   ]
  },
  {
   "cell_type": "code",
   "execution_count": null,
   "metadata": {},
   "outputs": [],
   "source": [
    "cca2.preds[1].shape"
   ]
  },
  {
   "cell_type": "code",
   "execution_count": null,
   "metadata": {},
   "outputs": [],
   "source": [
    "cca2.corrs[1].shape"
   ]
  },
  {
   "attachments": {},
   "cell_type": "markdown",
   "metadata": {},
   "source": [
    "## canonical components"
   ]
  },
  {
   "cell_type": "code",
   "execution_count": null,
   "metadata": {},
   "outputs": [],
   "source": [
    "# CVX \n",
    "cca2.comps[0]\n",
    "# First CV for X \n",
    "cca2.comps[0][:,0]\n",
    "# Second CV for X\n",
    "cca2.comps[0][:,1]\n",
    "# CVY\n",
    "cca2.comps[1]\n",
    "# First CV for Y\n",
    "cca2.comps[1][:,0]\n",
    "# Second CV for Y \n",
    "cca2.comps[1][:,1]"
   ]
  },
  {
   "attachments": {},
   "cell_type": "markdown",
   "metadata": {},
   "source": [
    "## plot canonical correlations"
   ]
  },
  {
   "cell_type": "code",
   "execution_count": null,
   "metadata": {},
   "outputs": [],
   "source": [
    "# https://github.com/gallantlab/pyrcca/blob/main/examples/Pyrcca_usage_example.ipynb\n",
    "\n",
    "# Imports\n",
    "import matplotlib.pyplot as plt\n",
    "# from brewer2mpl import qualitative\n",
    "from palettable.colorbrewer import qualitative\n",
    "%matplotlib inline\n",
    "\n",
    "\n",
    "# Plot canonical correlations (cca2.cancorrs)\n",
    "plt.plot(np.arange(nComponents)+1, cca2.cancorrs, 'ko')\n",
    "plt.xlim(0.5, 0.5+nComponents)\n",
    "plt.xticks(np.arange(nComponents)+1)\n",
    "plt.xlabel('Canonical component')\n",
    "plt.ylabel('Canonical correlation')\n",
    "plt.title('Canonical correlations')\n",
    "print('''The canonical correlations are:\\n\n",
    "Component 1: %.02f\\n\n",
    "Component 2: %.02f\\n\n",
    "Component 3: %.02f\\n\n",
    "Component 4: %.02f\\n\n",
    "''' % tuple(cca2.cancorrs[:4]))"
   ]
  },
  {
   "cell_type": "code",
   "execution_count": 158,
   "metadata": {},
   "outputs": [],
   "source": [
    "# # to check if any column causes invalid eigenvalues\n",
    "# import rcca\n",
    "# nComponents = 2 # min(p,q) components\n",
    "# cca2 = rcca.CCA(kernelcca = False, reg = 0., numCC = nComponents,)\n",
    "# # train on data\n",
    "# for num_columns in range(2, 64):\n",
    "#     print('num_columns', num_columns)\n",
    "#     cca2.train([X1.iloc[:,:num_columns], X2.iloc[:,:num_columns]])\n",
    "#     print('Canonical Correlation Per Component Pair:',cca2.cancorrs)\n",
    "#     print('% Shared Variance:',cca2.cancorrs**2)"
   ]
  },
  {
   "cell_type": "code",
   "execution_count": null,
   "metadata": {},
   "outputs": [],
   "source": [
    "stop here"
   ]
  },
  {
   "attachments": {},
   "cell_type": "markdown",
   "metadata": {},
   "source": [
    "# mvlearn.embed.cca"
   ]
  },
  {
   "cell_type": "code",
   "execution_count": 353,
   "metadata": {},
   "outputs": [],
   "source": [
    "import mvlearn # so that the import doesn't conflict with others\n",
    "#from mvlearn.embed import CCA, MCCA, KMCCA\n",
    "from mvlearn.plotting import crossviews_plot"
   ]
  },
  {
   "cell_type": "code",
   "execution_count": null,
   "metadata": {},
   "outputs": [],
   "source": [
    "# the default is no regularization meaning this is SUMCORR-AVGVAR MCCA\n",
    "cca = mvlearn.embed.CCA(n_components=7)\n",
    "cca_scores = cca.fit_transform([X1_sc, X2_sc])\n",
    "\n",
    "# # the fit-transform method outputs the scores for each view\n",
    "# crossviews_plot(cca_scores,\n",
    "#                 title='CCA scores (first two views fitted)',\n",
    "#                 equal_axes=True,\n",
    "#                 scatter_kwargs={'alpha': 0.4, 's': 2.0})\n",
    "\n",
    "# In the 2 view setting, a variety of interpretable statistics can be\n",
    "# calculated. We assess the canonical correlations achieved and\n",
    "# their significance using the p-values from a Wilk's Lambda test\n",
    "\n",
    "stats = cca.stats(cca_scores)\n",
    "print(f'Canonical Correlations: {stats[\"r\"]}')\n",
    "print(f'Wilk\\'s Lambda Test pvalues: {stats[\"pF\"]}')"
   ]
  },
  {
   "attachments": {},
   "cell_type": "markdown",
   "metadata": {},
   "source": [
    "# sparsecca"
   ]
  },
  {
   "cell_type": "code",
   "execution_count": null,
   "metadata": {},
   "outputs": [],
   "source": [
    "import pandas as pd\n",
    "import numpy as np\n",
    "from numpy.linalg import svd\n",
    "from statsmodels.multivariate.cancorr import CanCorr\n",
    "\n",
    "from sparsecca import cca_ipls\n",
    "from sparsecca import cca_pmd\n",
    "from sparsecca import multicca_pmd\n",
    "from sparsecca import pmd"
   ]
  },
  {
   "cell_type": "code",
   "execution_count": null,
   "metadata": {},
   "outputs": [],
   "source": [
    "def print_weights(name, weights):\n",
    "    first = weights[:, 0] / np.max(np.abs(weights[:, 0]))\n",
    "    print(name + ': ' + ', '.join(['{:.3f}'.format(item) for item in first]))\n"
   ]
  },
  {
   "cell_type": "code",
   "execution_count": null,
   "metadata": {},
   "outputs": [],
   "source": [
    "X1_sc.shape"
   ]
  },
  {
   "cell_type": "markdown",
   "metadata": {},
   "source": [
    "Canonical Correlations: [0.71324562 0.6767706  0.47372339 0.31371873 0.21360348 0.18737692\n",
    " 0.17000209 0.14722853 0.13814004 0.10762202 0.09883986 0.08222663\n",
    " 0.06290811 0.05768485 0.05385522 0.04545233]\n",
    "Wilk's Lambda Test pvalues: [0.         0.         0.         0.         0.         0.\n",
    " 0.         0.         0.         0.         0.00001263 0.10131203\n",
    " 0.78706826 0.90795917 0.94518834 0.96179924]"
   ]
  },
  {
   "cell_type": "code",
   "execution_count": null,
   "metadata": {},
   "outputs": [],
   "source": [
    "stats_cca = CanCorr(X1_sc, X2_sc)\n",
    "\n",
    "print(stats_cca.corr_test().summary())\n",
    "print_weights('X', stats_cca.x_cancoef)\n",
    "print_weights('Z', stats_cca.y_cancoef)"
   ]
  },
  {
   "attachments": {},
   "cell_type": "markdown",
   "metadata": {},
   "source": [
    "# PGAM\n",
    "\n",
    "I might need to run this on google colab ...? Or, look into clusters"
   ]
  },
  {
   "cell_type": "code",
   "execution_count": null,
   "metadata": {},
   "outputs": [],
   "source": [
    "if not '/Users/dusiyi/Documents/Multifirefly-Project/PGAM/src/PGAM' in sys.path: \n",
    "    sys.path.append('/Users/dusiyi/Documents/Multifirefly-Project/PGAM/src/PGAM')\n",
    "from GAM_library import *\n",
    "import gam_data_handlers as gdh\n",
    "from post_processing import postprocess_results\n",
    "from scipy.io import savemat"
   ]
  },
  {
   "attachments": {},
   "cell_type": "markdown",
   "metadata": {},
   "source": [
    "## temporal kernel\n",
    "\n",
    "modified from PGAM_Tutorial.ipynb"
   ]
  },
  {
   "cell_type": "code",
   "execution_count": null,
   "metadata": {},
   "outputs": [],
   "source": [
    "temporal_columns = final_behavioral_data[temporal_vars]\n",
    "spatial_columns = final_behavioral_data[spatial_vars]\n",
    "\n",
    "scaler = StandardScaler()\n",
    "spatial_columns_scaled = scaler.fit_transform(spatial_columns) \n",
    "spatial_columns = pd.DataFrame(spatial_columns_scaled, columns = spatial_columns.columns)\n",
    "\n",
    "#temporal_columns_scaled = scaler.fit_transform(temporal_columns) #scale data\n",
    "#temporal_columns = pd.DataFrame(temporal_columns_scaled, columns = temporal_columns.columns)"
   ]
  },
  {
   "cell_type": "code",
   "execution_count": null,
   "metadata": {},
   "outputs": [],
   "source": [
    "num_trials = 10\n",
    "column_length = len(final_behavioral_data.iloc[:,1])\n",
    "num_repeats = math.ceil(column_length/num_trials)\n",
    "trial_ids = np.repeat(np.arange(num_trials), num_repeats)\n",
    "trial_ids = trial_ids[:column_length]"
   ]
  },
  {
   "cell_type": "code",
   "execution_count": null,
   "metadata": {},
   "outputs": [],
   "source": [
    "# set some trial ids\n",
    "## trial_ids = np.zeros(len(final_behavioral_data.iloc[:,1]))\n",
    "\n",
    "# define the b-spline params\n",
    "kernel_h_legnth = int(10/bin_width) # duration of the kernel h(t) in time points \n",
    "if kernel_h_legnth%2 == 0:\n",
    "    kernel_h_legnth += 1 \n",
    "\n",
    "\n",
    "#num_int_knots = 12 # number of internal knots used to represent h\n",
    "num_int_knots = 8\n",
    "order = 4\n",
    "\n",
    "\n",
    "# define the \"smooths_handler\" container\n",
    "sm_handler = gdh.smooths_handler()\n",
    "\n",
    "\n",
    "\n",
    "for column in temporal_columns.columns:\n",
    "    # add the covariate & evaluate the convolution\n",
    "    sm_handler.add_smooth(column, \n",
    "                            [temporal_columns[column].values], \n",
    "                            is_temporal_kernel=True, \n",
    "                            ord=order, \n",
    "                            knots_num=num_int_knots,\n",
    "                            trial_idx=trial_ids,\n",
    "                            kernel_length=kernel_h_legnth,\n",
    "                            kernel_direction=0,\n",
    "                            time_bin=bin_width)\n",
    "\n",
    "\n",
    "   \n",
    "   \n",
    "   \n",
    "    # # sm_handler['varname'] process and stores the B-spline for the variable\n",
    "    # # below we retrive the B-spline convolved with the \"event\" variable\n",
    "    # convolved_ev = sm_handler[column].X.toarray()\n",
    "\n",
    "    # # retrive the B-spline used for the convolution\n",
    "    # basis = sm_handler[column].basis_kernel.toarray()\n",
    "\n",
    "    # # plot the basis & the convolved events\n",
    "    # plt.figure(figsize=(8,3))\n",
    "    # plt.suptitle('%s Filter'%dict_kernel[kernel_direction])\n",
    "\n",
    "    # # basis for the kenel h\n",
    "    # plt.subplot(121)\n",
    "    # plt.title('kernel basis')\n",
    "    # tps = np.repeat(np.arange(kernel_h_legnth)-kernel_h_legnth//2, basis.shape[1]).reshape(basis.shape)\n",
    "    # plt.plot(tps, basis)\n",
    "    # plt.xlabel('time points')\n",
    "\n",
    "    # plt.subplot(122)\n",
    "    # plt.title('convolved events')\n",
    "\n",
    "    # # select a time point interval containing an event\n",
    "    # idx0, idx1 = np.where(event == 1)[0][2] - 100, np.where(event == 1)[0][2] + 400\n",
    "\n",
    "    # # extract the events convolved with each of the B-spline elements\n",
    "    # conv = convolved_ev[idx0:idx1,:]\n",
    "\n",
    "    # tps = np.arange(0,idx1-idx0) - 100\n",
    "    # tps = np.repeat(tps,conv.shape[1]).reshape(conv.shape)\n",
    "    # plt.plot(tps, conv)\n",
    "    # plt.vlines(tps[0,0] + np.where(event[idx0:idx1])[0],0,1.5,'k',ls='--',label='event')\n",
    "    # plt.xlabel('time points')\n",
    "    # plt.legend()\n"
   ]
  },
  {
   "attachments": {},
   "cell_type": "markdown",
   "metadata": {},
   "source": [
    "## spatial variable"
   ]
  },
  {
   "cell_type": "code",
   "execution_count": null,
   "metadata": {},
   "outputs": [],
   "source": [
    "# add the 1d spatial variable\n",
    "\n",
    "order = 4\n",
    "\n",
    "for column in spatial_columns.columns:\n",
    "    column_values = spatial_columns[column].values\n",
    "    # add the variable\n",
    "    if column in sm_handler.smooths_var:\n",
    "        sm_handler.smooths_var.remove(column)\n",
    "        sm_handler.smooths_dict.pop(column)\n",
    "        \n",
    "    #int_knots = np.linspace(min(column_values),max(column_values),10)\n",
    "    int_knots = np.linspace(min(column_values),max(column_values),6)\n",
    "    knots = np.hstack(([int_knots[0]]*(order-1), int_knots, [int_knots[-1]]*(order-1)))\n",
    "    print(knots)\n",
    "    sm_handler.add_smooth(column, [column_values], \n",
    "                        knots=[knots], \n",
    "                        ord=order, \n",
    "                        is_temporal_kernel=False,\n",
    "                        trial_idx=trial_ids, \n",
    "                        is_cyclic=[False])\n",
    "\n",
    "\n",
    "    # # retrive the b-spline evaluated at x.\n",
    "    # X_1D = sm_handler[column].X.toarray()\n",
    "\n",
    "\n",
    "    # # sort for plotting\n",
    "    # plt.figure()\n",
    "    # plt.title(column)\n",
    "    # idx_srt = np.argsort(column_values)\n",
    "    # X_srt = X_1D[idx_srt]\n",
    "    # p = plt.plot(X_srt)\n",
    "\n",
    "    # # plt.figure()\n",
    "    # # plt.title('Unordered')\n",
    "    # # p = plt.plot(X_1D)\n",
    "\n",
    "    # # plt.figure()\n",
    "    # # plt.title('Scatter plot')\n",
    "    # # plt.scatter(range(len(column_values)), column_values)\n",
    "\n",
    "    # #plt.plot(range(len(column_values[idx_srt])), column_values[idx_srt])\n",
    "\n",
    "\n",
    "    # # the size of basis set grows as n^m where n is the basis in the 1D case, and m is the number of dimensions\n",
    "    # print('Size of X_1D', X_1D.shape)\n"
   ]
  },
  {
   "attachments": {},
   "cell_type": "markdown",
   "metadata": {},
   "source": [
    "## Run"
   ]
  },
  {
   "cell_type": "code",
   "execution_count": null,
   "metadata": {},
   "outputs": [],
   "source": [
    "link = sm.genmod.families.links.log()\n",
    "poissFam = sm.genmod.families.family.Poisson(link=link)\n",
    "\n",
    "spk_counts = spikes_in_bins_df.iloc[:len(column_values), 1].values\n",
    "\n",
    "# create the pgam model\n",
    "pgam = general_additive_model(sm_handler,\n",
    "                              sm_handler.smooths_var, # list of covariate we want to include in the model\n",
    "                              spk_counts, # vector of spike counts\n",
    "                              poissFam # poisson family with exponential link from statsmodels.api\n",
    "                             )\n",
    "\n",
    "# with with all covariate, remove according to stat testing, and then refit\n",
    "full, reduced = pgam.fit_full_and_reduced(sm_handler.smooths_var, \n",
    "                                          th_pval=0.001,# pval for significance of covariate icluseioon\n",
    "                                          max_iter=10 ** 2, # max number of iteration\n",
    "                                          use_dgcv=True, # learn the smoothing penalties by dgcv\n",
    "                                          trial_num_vec=trial_ids)\n",
    "        \n",
    "print('Minimal subset of variables driving the activity:')\n",
    "print(reduced.var_list)"
   ]
  },
  {
   "cell_type": "code",
   "execution_count": null,
   "metadata": {},
   "outputs": [],
   "source": [
    "print(full.var_list)"
   ]
  },
  {
   "cell_type": "code",
   "execution_count": null,
   "metadata": {},
   "outputs": [],
   "source": [
    "reduced.var_list"
   ]
  },
  {
   "attachments": {},
   "cell_type": "markdown",
   "metadata": {},
   "source": [
    "## Post-processing"
   ]
  },
  {
   "cell_type": "code",
   "execution_count": null,
   "metadata": {},
   "outputs": [],
   "source": [
    "train_trials = trial_ids % 3 != 1\n",
    "train_trials"
   ]
  },
  {
   "cell_type": "code",
   "execution_count": null,
   "metadata": {},
   "outputs": [],
   "source": [
    "# string with the neuron identifier\n",
    "neuron_id = 'neuron_000_session_1_monkey_001'\n",
    "# dictionary containing some information about the neuron, keys must be strings and values can be anything\n",
    "# since are stored with type object.\n",
    "info_save = {'x':100,\n",
    "             'y':801.2,\n",
    "             'brain_region': 'V1',\n",
    "             'subject':'monkey_001'\n",
    "            }\n",
    "\n",
    "\n",
    "# assume that we used 90% of the trials for training, 10% for evaluation\n",
    "res = postprocess_results(neuron_id, spk_counts, full, reduced, train_trials, sm_handler, poissFam, trial_ids, \n",
    "                          var_zscore_par=None, info_save=info_save, bins=kernel_h_legnth)\n",
    "                           \n"
   ]
  },
  {
   "cell_type": "code",
   "execution_count": null,
   "metadata": {},
   "outputs": [],
   "source": [
    "# find which variables in res['variable'] are in reduced.var_list\n",
    "# and then plot the corresponding x_rate_Hz\n",
    "indices_of_vars_to_plot = np.where(np.isin(res['variable'], reduced.var_list))[0]\n",
    "reduced_var_list = reduced.var_list"
   ]
  },
  {
   "cell_type": "code",
   "execution_count": null,
   "metadata": {},
   "outputs": [],
   "source": [
    "res['variable']"
   ]
  },
  {
   "cell_type": "code",
   "execution_count": null,
   "metadata": {},
   "outputs": [],
   "source": [
    "var_labels = res['variable']"
   ]
  },
  {
   "cell_type": "code",
   "execution_count": null,
   "metadata": {},
   "outputs": [],
   "source": [
    "# rename each variable to the corresponding label\n",
    "var_labels[var_labels=='catching_ff'] = 'whether catching ff at current time bin'\n",
    "var_labels[var_labels=='min_target_cluster_has_disappeared_for_last_time_dummy'] = 'whether target cluster has disappeared for last time'\n",
    "var_labels[var_labels=='max_target_cluster_visible_dummy'] = 'whether target cluster is visible'\n",
    "var_labels[var_labels=='bin'] = 'bin'\n",
    "var_labels[var_labels=='gaze_world_y'] = 'gaze y-coordinate'\n",
    "var_labels[var_labels=='monkey_speed'] = 'monkey linear speed'\n",
    "var_labels[var_labels=='monkey_dw'] = 'monkey linear acceleration'\n",
    "var_labels[var_labels=='monkey_ddw'] = 'change in monkey linear acceleration'\n",
    "var_labels[var_labels=='monkey_ddv'] = 'change in monkey angular acceleration'\n",
    "var_labels[var_labels=='avg_target_cluster_last_seen_distance'] = 'distance of target cluster last seen'\n",
    "var_labels[var_labels=='avg_target_cluster_last_seen_angle'] = 'angle of target cluster last seen'\n",
    "\n",
    "res['variable'] = var_labels\n",
    "    "
   ]
  },
  {
   "cell_type": "code",
   "execution_count": null,
   "metadata": {},
   "outputs": [],
   "source": [
    "neural_analysis.plot_pgam_tuning_functions(res, indices_of_vars_to_plot=indices_of_vars_to_plot)"
   ]
  },
  {
   "cell_type": "code",
   "execution_count": null,
   "metadata": {},
   "outputs": [],
   "source": [
    "stop!"
   ]
  },
  {
   "attachments": {},
   "cell_type": "markdown",
   "metadata": {},
   "source": [
    "# try original code"
   ]
  },
  {
   "cell_type": "code",
   "execution_count": null,
   "metadata": {},
   "outputs": [],
   "source": [
    "## inputs parameters  \n",
    "num_events = 6000\n",
    "time_points = 3 * 10 ** 5  # 30 mins at 0.006 ms resolution\n",
    "rate = 5. * 0.006  # Hz rate of the final kernel\n",
    "variance = 5.  # spatial input and nuisance variance\n",
    "int_knots_num = 20  # num of internal knots for the spline basis\n",
    "order = 4  # spline order\n",
    "\n",
    "## assume 200 trials\n",
    "trial_ids = np.repeat(np.arange(200),time_points//200)\n",
    "\n",
    "## create temporal input\n",
    "idx = np.random.choice(np.arange(time_points), num_events, replace=False)\n",
    "events = np.zeros(time_points)\n",
    "events[idx] = 1\n",
    "\n",
    "rv = sts.multivariate_normal(mean=[0, 0], cov= variance * np.eye(2))\n",
    "samp = rv.rvs(time_points)\n",
    "spatial_var = samp[:, 0]\n",
    "nuisance_var = samp[:, 1]\n",
    "\n",
    "# truncate X to avoid jumps in the resp function\n",
    "sele_idx = np.abs(spatial_var) < 5\n",
    "spatial_var = spatial_var[sele_idx]\n",
    "nuisance_var = nuisance_var[sele_idx]\n",
    "while spatial_var.shape[0] < time_points:\n",
    "    tmpX = rv.rvs(10 ** 4)\n",
    "    sele_idx = np.abs(tmpX[:, 0]) < 5\n",
    "    tmpX = tmpX[sele_idx, :]\n",
    "\n",
    "    spatial_var = np.hstack((spatial_var, tmpX[:, 0]))\n",
    "    nuisance_var = np.hstack((nuisance_var, tmpX[:, 1]))\n",
    "spatial_var = spatial_var[:time_points]\n",
    "nuisance_var = nuisance_var[:time_points]\n",
    "\n",
    "# create a resp function\n",
    "knots = np.hstack(([-5]*3, np.linspace(-5,5,8),[5]*3))\n",
    "beta = np.arange(10)\n",
    "beta = beta / np.linalg.norm(beta)\n",
    "beta = np.hstack((beta[5:], beta[:5][::-1]))\n",
    "resp_func = lambda x : np.dot(gdh.splineDesign(knots, x, order, der=0),beta)\n",
    "\n",
    "filter_used_conv = sts.gamma.pdf(np.linspace(0,20,100),a=2) - sts.gamma.pdf(np.linspace(0,20,100),a=5)\n",
    "filter_used_conv = np.hstack((np.zeros(101),filter_used_conv))*2\n",
    "# mean of the spike counts depending on spatial_var and events\n",
    "log_mu0 = resp_func(spatial_var)\n",
    "for tr in np.unique(trial_ids):\n",
    "    log_mu0[trial_ids == tr] = log_mu0[trial_ids == tr] + np.convolve(events[trial_ids == tr], filter_used_conv, mode='same')\n",
    "\n",
    "# adjust mean rate\n",
    "const = np.log(np.mean(np.exp(log_mu0)) / rate)\n",
    "log_mu0 = log_mu0 - const\n",
    "\n",
    "# generate spikes\n",
    "spk_counts = np.random.poisson(np.exp(log_mu0))"
   ]
  },
  {
   "cell_type": "code",
   "execution_count": null,
   "metadata": {},
   "outputs": [],
   "source": [
    "# plot the firing rate and the spike counts generated\n",
    "plt.figure(figsize=(8,3))\n",
    "plt.subplot(121)\n",
    "plt.plot(np.arange(1000) * 0.006, np.exp(log_mu0)[:1000]/0.006)\n",
    "plt.title('firing rate [Hz]', fontsize=16)\n",
    "plt.xlabel('time[sec]', fontsize=12)\n",
    "\n",
    "plt.subplot(122)\n",
    "plt.plot(np.arange(1000) * 0.006, spk_counts[:1000])\n",
    "plt.title('6ms binned spike counts', fontsize=16)\n",
    "plt.xlabel('time[sec]', fontsize=12)"
   ]
  },
  {
   "attachments": {},
   "cell_type": "markdown",
   "metadata": {},
   "source": [
    "### 2.2.2 Create the *smooths_handler* object and fit the model\n",
    "Below we create the smooths_handler object and run a fit. We include a \"nuisance\" spatial variable, that is not driving the neuron, the fit will learn to discard the variable;"
   ]
  },
  {
   "cell_type": "code",
   "execution_count": null,
   "metadata": {},
   "outputs": [],
   "source": [
    "import statsmodels.api as sm\n",
    "\n",
    "# Creating the class\n",
    "sm_handler = smooths_handler()\n",
    "# Creating the knots (notice the over-representation of edge knots)\n",
    "knots = np.hstack(([-5]*3, np.linspace(-5,5,15),[5]*3))\n",
    "# Using smooths_handler class to add variables \n",
    "sm_handler.add_smooth('spatial', [spatial_var], knots=[knots], ord=4, is_temporal_kernel=False,\n",
    "                     trial_idx=trial_ids, is_cyclic=[False],penalty_type='der', der=2)\n",
    "\n",
    "sm_handler.add_smooth('nuisance', [nuisance_var], knots=[knots], ord=4, is_temporal_kernel=False,\n",
    "                     trial_idx=trial_ids, is_cyclic=[False],penalty_type='der', der=2)\n",
    "\n",
    "sm_handler.add_smooth('temporal', [events], knots=None, ord=4, is_temporal_kernel=True,\n",
    "                     trial_idx=trial_ids, is_cyclic=[False],penalty_type='der', der=2,\n",
    "                     knots_num=10, kernel_length=500, kernel_direction=1)\n",
    "\n",
    "\n",
    "# split trial in train and eval\n",
    "train_trials = trial_ids % 10 != 0\n",
    "eval_trials = ~train_trials\n",
    "\n",
    "\n",
    "link = sm.genmod.families.links.log()\n",
    "poissFam = sm.genmod.families.family.Poisson(link=link)\n",
    "\n",
    "# create the pgam model\n",
    "pgam = general_additive_model(sm_handler,\n",
    "                              sm_handler.smooths_var, # list of covariate we want to include in the model\n",
    "                              spk_counts, # vector of spike counts\n",
    "                              poissFam # poisson family with exponential link from statsmodels.api\n",
    "                             )\n",
    "\n",
    "# with with all covariate, remove according to stat testing, and then refit\n",
    "full, reduced = pgam.fit_full_and_reduced(sm_handler.smooths_var, \n",
    "                                          th_pval=0.001,# pval for significance of covariate icluseioon\n",
    "                                          max_iter=10 ** 2, # max number of iteration\n",
    "                                          use_dgcv=True, # learn the smoothing penalties by dgcv\n",
    "                                          trial_num_vec=trial_ids,\n",
    "                                          filter_trials=train_trials)\n",
    "\n",
    "print('Minimal subset of variables driving the activity:')\n",
    "print(reduced.var_list)"
   ]
  },
  {
   "attachments": {},
   "cell_type": "markdown",
   "metadata": {},
   "source": [
    "## 2.3 Post processing<a name=\"post-proc\">\n",
    "After a fit, it is possible to post-process the model fit output to obtain an easy to parse result in the form of a numpy.structarray. \n",
    "\n",
    "Each row will represent results for a specific input variable, additional information about the neuron (e.g. channel ID, electrode ID, or anything else) can be provided in the form of a dictionary, each dictionary value will be stored in the structured array with type \"object\".\n",
    "\n",
    "The output structure can be saved either as a \".npy\" via *numpy.save(\\<filename\\>)* or as a .mat (for MATLAB) via *scipy.io.savemat(\\<filename*\\>)*.\n",
    "\n",
    "Below is an example of the post-processing applied to the fit just obtained."
   ]
  },
  {
   "cell_type": "code",
   "execution_count": null,
   "metadata": {},
   "outputs": [],
   "source": [
    "# string with the neuron identifier\n",
    "neuron_id = 'neuron_000_session_1_monkey_001'\n",
    "# dictionary containing some information about the neuron, keys must be strings and values can be anything\n",
    "# since are stored with type object.\n",
    "info_save = {'x':100,\n",
    "             'y':801.2,\n",
    "             'z':301,\n",
    "             'brain_region': 'V1',\n",
    "             'subject':'monkey_001'\n",
    "            }\n",
    "\n",
    "# assume that we used 90% of the trials for training, 10% for evaluation\n",
    "res = postprocess_results(neuron_id, spk_counts, full, reduced, train_trials,\n",
    "                        sm_handler, poissFam, trial_ids, var_zscore_par=None,info_save=info_save,bins=100)\n",
    "\n",
    "# each row of res contains the info about a variable\n",
    "# some info are shared for all the variables (p-rsquared for example is a goodness of fit measure for the model\n",
    "# it is shared, not a property of the variable), while other, like the parameters of the b-splines, \n",
    "# are variable specific\n",
    "print('\\n\\n')\n",
    "print('Result structarray types\\n========================\\n')\n",
    "for name in res.dtype.names:\n",
    "    print('%s: \\t %s'%(name, type(res[name][0])))\n",
    "\n",
    "\n",
    "# plot tuning functions\n",
    "plt.figure(figsize=(8,4))\n",
    "\n",
    "# for k in range(3):\n",
    "#     plt.subplot(2,3,k+1)\n",
    "#     plt.title('log-space %s'%res['variable'][k])\n",
    "#     x_kernel = res['x_kernel'][k]\n",
    "#     y_kernel = res['y_kernel'][k]\n",
    "#     ypCI_kernel = res['y_kernel_pCI'][k]\n",
    "#     ymCI_kernel = res['y_kernel_mCI'][k]\n",
    "    \n",
    "#     plt.plot(x_kernel, y_kernel, color='r')\n",
    "#     plt.fill_between(x_kernel, ymCI_kernel, ypCI_kernel, color='r', alpha=0.3)\n",
    "    \n",
    "    \n",
    "    \n",
    "#     x_firing = res['x_rate_Hz'][k]\n",
    "#     y_firing_model = res['model_rate_Hz'][k]\n",
    "#     y_firing_raw = res['raw_rate_Hz'][k]\n",
    "    \n",
    "#     plt.subplot(2,3,k+4)\n",
    "#     plt.title('rate-space %s'%res['variable'][k])\n",
    "    \n",
    "#     plt.plot(x_firing, y_firing_raw, color='k',label='raw')\n",
    "#     plt.plot(x_firing, y_firing_model, color='r',label='model')\n",
    "    \n",
    "#     plt.legend()\n",
    "#     plt.tight_layout()\n",
    "    \n",
    "    \n",
    "    "
   ]
  },
  {
   "cell_type": "code",
   "execution_count": null,
   "metadata": {},
   "outputs": [],
   "source": [
    "stop here"
   ]
  },
  {
   "attachments": {},
   "cell_type": "markdown",
   "metadata": {
    "id": "SrAuFlWlOdTG"
   },
   "source": [
    "# Debug"
   ]
  },
  {
   "cell_type": "code",
   "execution_count": null,
   "metadata": {
    "executionInfo": {
     "elapsed": 23,
     "status": "aborted",
     "timestamp": 1685702046411,
     "user": {
      "displayName": "Cici Du",
      "userId": "17701548280142155870"
     },
     "user_tz": -480
    },
    "id": "qQfGqp3EY1Cn"
   },
   "outputs": [],
   "source": [
    "!pip install -Uqq ipdb\n",
    "import ipdb\n",
    "%pdb on"
   ]
  },
  {
   "cell_type": "code",
   "execution_count": null,
   "metadata": {},
   "outputs": [],
   "source": [
    "import ipdb\n",
    "%pdb on"
   ]
  },
  {
   "cell_type": "code",
   "execution_count": null,
   "metadata": {
    "executionInfo": {
     "elapsed": 23,
     "status": "aborted",
     "timestamp": 1685702046411,
     "user": {
      "displayName": "Cici Du",
      "userId": "17701548280142155870"
     },
     "user_tz": -480
    },
    "id": "CICscr84OzRO"
   },
   "outputs": [],
   "source": [
    "%pdb off"
   ]
  },
  {
   "attachments": {},
   "cell_type": "markdown",
   "metadata": {},
   "source": [
    "# Appendix"
   ]
  },
  {
   "attachments": {},
   "cell_type": "markdown",
   "metadata": {},
   "source": [
    "## add_target_last_seen_info_to_ff_dataframe"
   ]
  },
  {
   "cell_type": "code",
   "execution_count": null,
   "metadata": {},
   "outputs": [],
   "source": [
    "# maybe instead of doing it time point by time point, one can do it trial by trial\n",
    "\n",
    "def add_target_last_seen_info_to_ff_dataframe(ff_dataframe, nearby_alive_ff_indices=None, use_target_cluster=False,\n",
    "                                              include_frozen_info=False):\n",
    "    ff_dataframe['target_last_seen_time'] = 100\n",
    "    ff_dataframe['target_last_seen_distance'] = 400\n",
    "    ff_dataframe['target_last_seen_angle'] = 0\n",
    "    ff_dataframe['target_last_seen_angle_to_boundary'] = 0\n",
    "\n",
    "    if include_frozen_info:\n",
    "        ff_dataframe['target_last_seen_distance_frozen'] = 400\n",
    "        ff_dataframe['target_last_seen_angle_frozen'] = 0\n",
    "        ff_dataframe['target_last_seen_angle_to_boundary_frozen'] = 0\n",
    "\n",
    "    if use_target_cluster:\n",
    "        print(\"Adding target-cluster-last-seen info to ff_dataframe...\")\n",
    "        if nearby_alive_ff_indices is None:\n",
    "            raise ValueError(\"nearby_alive_ff_indices is None, but use_target_cluster is True\")\n",
    "\n",
    "\n",
    "    for target_index in np.sort(ff_dataframe['target_index'].unique()):\n",
    "    #for target_index in [100,101]:\n",
    "        print('target_index = %d' % target_index, end='\\r')\n",
    "        ff_dataframe_idx = np.array((ff_dataframe['target_index'] == target_index)).nonzero()[0]\n",
    "        ff_dataframe_sub = ff_dataframe.iloc[ff_dataframe_idx].copy()\n",
    "        if use_target_cluster:\n",
    "            target_cluster_indices = nearby_alive_ff_indices[target_index] \n",
    "            target_info = ff_dataframe[(ff_dataframe['ff_index'].isin(target_cluster_indices)) & (ff_dataframe['visible'] == 1)].copy()\n",
    "        else:  \n",
    "            target_info = ff_dataframe[(ff_dataframe['ff_index'] == target_index) & (ff_dataframe['visible'] == 1)].copy()\n",
    "\n",
    "        if len(ff_dataframe_sub) > 0:\n",
    "            unique_points = ff_dataframe_sub[['point_index', 'time', 'monkey_x', 'monkey_y', 'monkey_angle']].drop_duplicates().sort_values(by='point_index')\n",
    "            min_point = unique_points.point_index.min()\n",
    "            target_info = target_info.sort_values(by='point_index')\n",
    "            if len(target_info) > 0:\n",
    "                target_info_before = target_info[target_info['point_index'] <= min_point]\n",
    "                # if there's information about target before unique_points, then attach the last row to the beginning of unique_points\n",
    "                if len(target_info_before) > 0:\n",
    "                    target_info = target_info[target_info['point_index'] >= target_info_before.iloc[-1].point_index] \n",
    "                    starting_info = target_info_before.iloc[[-1]][['point_index', 'time', 'monkey_x', 'monkey_y', 'monkey_angle']]\n",
    "                    unique_points = pd.concat([starting_info, unique_points])\n",
    "                    # but also make sure there's no duplicate\n",
    "                    unique_points = unique_points.drop_duplicates(subset=['point_index'], keep='first')\n",
    "                else: # we eliminate the part in unique_points that don't have any target info preceding it or at the same time\n",
    "                    # those will stay in the original dataframe as default values\n",
    "                    valid_points = np.where(np.array(unique_points['point_index']) >= target_info.point_index.min())[0]\n",
    "                    unique_points = unique_points.iloc[valid_points]\n",
    "                    ff_dataframe_idx = ff_dataframe_idx[valid_points]\n",
    "                    ff_dataframe_sub = ff_dataframe_sub.iloc[valid_points]\n",
    "                    #print(\"unique_points truncated: \", unique_points)\n",
    "                # we need to make sure that for every point_index, there's no duplicate value\n",
    "                target_info = target_info.sort_values(by=['point_index', 'ff_index']).drop_duplicates(subset=['point_index'], keep='first')\n",
    "            else:\n",
    "                # need to find a placeholder\n",
    "                if min_point >= 1:\n",
    "                    target_info = ff_dataframe.iloc[[min_point-1]]\n",
    "                else:\n",
    "                    target_info = ff_dataframe.iloc[[max_point+1]]\n",
    "            \n",
    "            target_info = target_info[['point_index', 'time', 'ff_x', 'ff_y', 'monkey_x', 'monkey_y', 'monkey_angle']]\n",
    "            target_info = target_info.rename(columns={'time':'target_time', 'ff_x':'target_x', 'ff_y':'target_y',\n",
    "                                                    'monkey_x': 'frozen_monkey_x', 'monkey_y': 'frozen_monkey_y', 'monkey_angle': 'frozen_monkey_angle'})\n",
    "\n",
    "            # merge the target \n",
    "            unique_points = unique_points.merge(target_info, how='left', on='point_index')\n",
    "            unique_points.fillna(method='ffill', inplace=True)\n",
    "            # calculate the desired values\n",
    "            target_x, target_y = unique_points.target_x, unique_points.target_y\n",
    "            monkey_x, monkey_y, monkey_angle = unique_points.monkey_x, unique_points.monkey_y, unique_points.monkey_angle\n",
    "            target_angle = basic_func.calculate_angles_to_ff_centers(ff_x=target_x, ff_y=target_y, mx=monkey_x, my=monkey_y, m_angle=monkey_angle)\n",
    "            target_distance = np.sqrt((target_x - monkey_x)**2 + (target_y - monkey_y)**2)\n",
    "            unique_points['target_last_seen_time'] = unique_points.time - unique_points.target_time\n",
    "            unique_points['target_last_seen_distance'] = target_distance\n",
    "            unique_points['target_last_seen_angle'] = target_angle\n",
    "            unique_points['target_last_seen_angle_to_boundary'] = basic_func.calculate_angles_to_ff_boundaries(angles_to_ff=target_angle, distances_to_ff=target_distance)         \n",
    "            if include_frozen_info:\n",
    "                monkey_x, monkey_y, monkey_angle = unique_points.frozen_monkey_x, unique_points.frozen_monkey_y, unique_points.frozen_monkey_angle\n",
    "                target_angle = basic_func.calculate_angles_to_ff_centers(ff_x=target_x, ff_y=target_y, mx=monkey_x, my=monkey_y, m_angle=monkey_angle)\n",
    "                target_distance = np.sqrt((target_x - monkey_x)**2 + (target_y - monkey_y)**2)\n",
    "                unique_points['target_last_seen_distance_frozen'] = target_distance\n",
    "                unique_points['target_last_seen_angle_frozen'] = target_angle\n",
    "                unique_points['target_last_seen_angle_to_boundary_frozen'] = basic_func.calculate_angles_to_ff_boundaries(angles_to_ff=target_angle, distances_to_ff=target_distance)  \n",
    "                essential_columns = ['point_index', 'target_last_seen_time', 'target_last_seen_distance', 'target_last_seen_angle', 'target_last_seen_angle_to_boundary', \\\n",
    "                                    'target_last_seen_distance_frozen', 'target_last_seen_angle_frozen', 'target_last_seen_angle_to_boundary_frozen']\n",
    "            else:\n",
    "                essential_columns = ['point_index', 'target_last_seen_time', 'target_last_seen_distance', 'target_last_seen_angle', 'target_last_seen_angle_to_boundary']\n",
    "            unique_points = unique_points[essential_columns]\n",
    "\n",
    "            ff_dataframe_sub_new = ff_dataframe_sub[['point_index']].merge(unique_points, on='point_index', how='left')\n",
    "            ff_dataframe.iloc[ff_dataframe_idx, ff_dataframe.columns.get_indexer(ff_dataframe_sub_new.columns)]  = ff_dataframe_sub_new.values\n",
    "\n",
    "\n",
    "    return ff_dataframe"
   ]
  },
  {
   "cell_type": "code",
   "execution_count": null,
   "metadata": {},
   "outputs": [],
   "source": [
    "# find some target info at each moment\n",
    "target_x = ff_dataframe.loc[:, 'target_x'].values\n",
    "target_y = ff_dataframe.loc[:, 'target_y'].values\n",
    "monkey_x = ff_dataframe.loc[:, 'monkey_x'].values\n",
    "monkey_y = ff_dataframe.loc[:, 'monkey_y'].values\n",
    "monkey_angle = ff_dataframe.loc[:, 'monkey_angle'].values\n",
    "\n",
    "# calculate target_distance, target_angle, and target_angle_to_boundary based on target_x, target_y in ff_dataframe\n",
    "target_distance = np.sqrt((target_x - monkey_x)**2 + (target_y - monkey_y)**2)\n",
    "ff_dataframe.loc[:, 'target_distance'] = target_distance\n",
    "target_angle = basic_func.calculate_angles_to_ff_centers(ff_x=target_x, ff_y=target_y, mx=monkey_x, my=monkey_y, m_angle=monkey_angle)\n",
    "ff_dataframe.loc[:, 'target_angle'] = target_angle\n",
    "ff_dataframe.loc[:, 'target_angle_to_boundary'] = basic_func.calculate_angles_to_ff_boundaries(angles_to_ff=target_angle, distances_to_ff=target_distance)\n",
    "\n",
    "\n",
    "\n",
    "\n",
    "\n",
    "# add some target-last-seen info into ff_dataframe\n",
    "# find nearby_alive_ff_indices\n",
    "nearby_alive_ff_indices = cluster_analysis.find_alive_target_clusters(ff_real_position_sorted, ff_caught_T_new, ff_life_sorted, max_distance=50)\n",
    "# add target-cluster-last-seen info to ff_dataframe\n",
    "ff_dataframe = add_target_last_seen_info_to_ff_dataframe(ff_dataframe, nearby_alive_ff_indices, use_target_cluster=True, include_frozen_info=True)\n",
    "ff_dataframe = ff_dataframe.rename(columns={'target_last_seen_time': 'target_cluster_last_seen_time', \n",
    "                                            'target_last_seen_distance': 'target_cluster_last_seen_distance', \n",
    "                                            'target_last_seen_angle': 'target_cluster_last_seen_angle', \n",
    "                                            'target_last_seen_angle_to_boundary': 'target_cluster_last_seen_angle_to_boundary',\n",
    "                                            'target_last_seen_distance_frozen': 'target_cluster_last_seen_distance_frozen', \n",
    "                                            'target_last_seen_angle_frozen': 'target_cluster_last_seen_angle_frozen', \n",
    "                                            'target_last_seen_angle_to_boundary_frozen': 'target_cluster_last_seen_angle_to_boundary_frozen'})\n",
    "\n",
    "\n",
    "# add target-last-seen info to ff_dataframe\n",
    "ff_dataframe = add_target_last_seen_info_to_ff_dataframe(ff_dataframe, nearby_alive_ff_indices, use_target_cluster=False, include_frozen_info=True)\n",
    "ff_dataframe['point_index'] = ff_dataframe['point_index'].astype(int)\n",
    "ff_dataframe\n",
    "\n",
    "\n",
    "\n",
    "# add target_has_disappeared_for_last_time_dummy to ff_dataframe\n",
    "ff_dataframe['target_has_disappeared_for_last_time_dummy'] = 0\n",
    "# for each target\n",
    "for target in ff_caught_T_new:\n",
    "# fine the time it disappears for the last time\n",
    "    target_info = ff_dataframe[(ff_dataframe['ff_index']==target) & (ff_dataframe['visible']==1)]\n",
    "    target_last_vis_time = target_info['time'].max()\n",
    "    # then mark the period between that time and the capture time as 1\n",
    "    ff_dataframe.loc[(ff_dataframe['target_index']==target) & (ff_dataframe['time'] > target_last_vis_time), 'target_has_disappeared_for_last_time_dummy'] = 1\n",
    "\n",
    "\n",
    "ff_dataframe['target_cluster_has_disappeared_for_last_time_dummy'] = 0\n",
    "# for each target\n",
    "for target in ff_caught_T_new:\n",
    "    target_cluster_indices = nearby_alive_ff_indices[target_index] \n",
    "    target_info = ff_dataframe[(ff_dataframe['ff_index'].isin(target_cluster_indices)) & (ff_dataframe['visible']==1)]\n",
    "    target_last_vis_time = target_info['time'].max()\n",
    "    # then mark the period between that time and the capture time as 1\n",
    "    ff_dataframe.loc[(ff_dataframe['target_index']==target) & (ff_dataframe['time'] > target_last_vis_time), 'target_cluster_has_disappeared_for_last_time_dummy'] = 1"
   ]
  },
  {
   "cell_type": "code",
   "execution_count": null,
   "metadata": {},
   "outputs": [],
   "source": [
    "window_width = 0.8\n",
    "pattern_df['num_stops'] = 0\n",
    "pattern_df['num_caught_ff'] = 0\n",
    "for index, row in pattern_df.iterrows():\n",
    "    duration = [row.time - window_width/2, row.time + window_width/2]\n",
    "    pattern_subset = pattern_df[(pattern_df['time'] > duration[0]) & (pattern_df['time'] <= duration[1])]\n",
    "    row['num_stops'] = pattern_subset['monkey_speeddummy'].sum()\n",
    "    row['num_caught_ff'] = len(np.where((ff_caught_T_new > duration[0]) & (ff_caught_T_new <= duration[1]))[0])\n",
    "pattern_df['stop_rate'] = pattern_df['num_stops']/window_width\n",
    "pattern_df['stop_success_rate'] = pattern_df['num_caught_ff']/pattern_df['num_stops']\n",
    "\n"
   ]
  },
  {
   "cell_type": "markdown",
   "metadata": {},
   "source": [
    "## both_ff_across_time_df"
   ]
  },
  {
   "cell_type": "code",
   "execution_count": null,
   "metadata": {},
   "outputs": [],
   "source": [
    "#The code below is not meant to be run, but serves as a record\n",
    "\n",
    "both_ff_across_time_df['time_rel_to_stop'] = both_ff_across_time_df['monkey_t'] - both_ff_across_time_df['stop_time']\n",
    "both_ff_across_time_df['time_when_stop_ff_first_seen_rel_to_stop'] = both_ff_across_time_df['time_stop_ff_first_seen'] - both_ff_across_time_df['time_rel_to_stop']\n",
    "both_ff_across_time_df['time_when_stop_ff_last_seen_rel_to_stop']\n",
    "both_ff_across_time_df['time_when_alt_ff_first_seen_rel_to_stop']\n",
    "both_ff_across_time_df['time_when_alt_ff_last_seen_rel_to_stop']\n",
    "\n",
    "both_ff_across_time_df['stop_ff_angle']\n",
    "both_ff_across_time_df['alt_ff_angle']\n",
    "both_ff_across_time_df['ff_angle_when_stop_ff_first_seen']\n",
    "both_ff_across_time_df['ff_angle_when_stop_ff_last_seen']\n",
    "both_ff_across_time_df['ff_angle_when_alt_ff_first_seen']\n",
    "both_ff_across_time_df['ff_angle_when_alt_ff_last_seen']\n",
    "\n",
    "both_ff_across_time_df['stop_ff_distance']\n",
    "both_ff_across_time_df['alt_ff_distance']\n",
    "both_ff_across_time_df['ff_distance_when_stop_ff_first_seen']\n",
    "both_ff_across_time_df['ff_distance_when_stop_ff_last_seen']\n",
    "both_ff_across_time_df['ff_distance_when_alt_ff_first_seen']\n",
    "both_ff_across_time_df['ff_distance_when_alt_ff_last_seen']\n",
    "\n",
    "both_ff_across_time_df['stop_arc_curv']\n",
    "both_ff_across_time_df['alt_arc_curv']\n",
    "both_ff_across_time_df['arc_curv_when_stop_ff_first_seen']\n",
    "both_ff_across_time_df['arc_curv_when_stop_ff_last_seen']\n",
    "both_ff_across_time_df['arc_curv_when_alt_ff_first_seen']\n",
    "both_ff_across_time_df['arc_curv_when_alt_ff_last_seen']\n",
    "\n",
    "both_ff_across_time_df['stop_arc_dheading']\n",
    "both_ff_across_time_df['alt_arc_dheading']\n",
    "both_ff_across_time_df['arc_dheading_when_stop_ff_first_seen']\n",
    "both_ff_across_time_df['arc_dheading_when_stop_ff_last_seen']\n",
    "both_ff_across_time_df['arc_dheading_when_alt_ff_first_seen']\n",
    "both_ff_across_time_df['arc_dheading_when_alt_ff_last_seen']\n",
    "\n",
    "both_ff_across_time_df['stop_opt_arc_curv']\n",
    "both_ff_across_time_df['alt_opt_arc_curv']\n",
    "both_ff_across_time_df['opt_arc_curv_when_stop_ff_first_seen']\n",
    "both_ff_across_time_df['opt_arc_curv_when_stop_ff_last_seen']\n",
    "both_ff_across_time_df['opt_arc_curv_when_alt_ff_first_seen']\n",
    "both_ff_across_time_df['opt_arc_curv_when_alt_ff_last_seen']\n",
    "\n",
    "both_ff_across_time_df['stop_opt_arc_dheading']\n",
    "both_ff_across_time_df['alt_opt_arc_dheading']\n",
    "both_ff_across_time_df['opt_arc_dheading_when_stop_ff_first_seen']\n",
    "both_ff_across_time_df['opt_arc_dheading_when_stop_ff_last_seen']\n",
    "both_ff_across_time_df['opt_arc_dheading_when_alt_ff_first_seen']\n",
    "both_ff_across_time_df['opt_arc_dheading_when_alt_ff_last_seen']\n",
    "\n",
    "both_ff_across_time_df['traj_curv']\n",
    "both_ff_across_time_df['traj_curv_when_stop_ff_first_seen']\n",
    "both_ff_across_time_df['traj_curv_when_stop_ff_last_seen']\n",
    "both_ff_across_time_df['traj_curv_when_alt_ff_first_seen']\n",
    "both_ff_across_time_df['traj_curv_when_alt_ff_last_seen']\n",
    "\n"
   ]
  },
  {
   "cell_type": "code",
   "execution_count": null,
   "metadata": {},
   "outputs": [],
   "source": [
    "monkey_information = both_ff_across_time_df.copy()\n",
    "monkey_information['whether_point_index_before_stop'] = False\n",
    "monkey_information.loc[dc.stops_near_ff_df['point_index_before_stop'], 'whether_point_index_before_stop'] = True\n",
    "monkey_information['whether_stop_point_index'] = False\n",
    "monkey_information.loc[dc.stops_near_ff_df['stop_point_index'], 'whether_stop_point_index'] = True\n",
    "monkey_information['whether_next_stop_point_index'] = False\n",
    "monkey_information.loc[dc.stops_near_ff_df['next_stop_point_index'], 'whether_next_stop_point_index'] = True\n",
    "monkey_information['whether_next_stop_point_index'] = False\n",
    "\n",
    "# monkey_information['during_instances'] = False # whether the point is during an instance used for analyzing planning\n",
    "# for index, row in dc.stops_near_ff_df.iterrows():\n",
    "#     monkey_information.loc[row['point_index_before_stop']:row['next_stop_point_index'], 'during_instances'] = True\n"
   ]
  },
  {
   "attachments": {},
   "cell_type": "markdown",
   "metadata": {},
   "source": [
    "# Retrieve single ff neural data"
   ]
  },
  {
   "cell_type": "code",
   "execution_count": null,
   "metadata": {},
   "outputs": [],
   "source": [
    "import scipy.io # since this is an earlier version mat file, h5py can't be used here\n",
    "filepath = \"all_monkey_data/raw_monkey_data/single_ff_neural_data/m53s31.mat\"\n",
    "single_ff = scipy.io.loadmat(filepath)"
   ]
  },
  {
   "cell_type": "code",
   "execution_count": null,
   "metadata": {},
   "outputs": [],
   "source": [
    "single_ff.keys()"
   ]
  },
  {
   "cell_type": "code",
   "execution_count": null,
   "metadata": {},
   "outputs": [],
   "source": [
    "np.where(single_ff['units'].flatten()[6])"
   ]
  },
  {
   "cell_type": "code",
   "execution_count": null,
   "metadata": {},
   "outputs": [],
   "source": [
    "unit = 10\n",
    "trial = 200\n",
    "single_ff['units'].flatten()[unit][-2][:,trial]"
   ]
  },
  {
   "cell_type": "code",
   "execution_count": null,
   "metadata": {},
   "outputs": [],
   "source": [
    "# define a b-spline\n",
    "kernel_len = 15 #  about +- 325ms \n",
    "knots = np.hstack(([-1.001]*3, np.linspace(-1.001,1.001,5), [1.001]*3))\n",
    "tp = np.linspace(-1.,1.,kernel_len)\n",
    "bX = neural_data_processing.splineDesign(knots, tp, ord=4, der=0, outer_ok=False)"
   ]
  },
  {
   "cell_type": "code",
   "execution_count": null,
   "metadata": {},
   "outputs": [],
   "source": [
    "bX.shape\n"
   ]
  },
  {
   "cell_type": "code",
   "execution_count": null,
   "metadata": {},
   "outputs": [],
   "source": [
    "bX[:,1]"
   ]
  },
  {
   "cell_type": "code",
   "execution_count": null,
   "metadata": {},
   "outputs": [],
   "source": [
    "for i in range(bX.shape[1]):\n",
    "  plt.subplots(figsize=(7,7))\n",
    "  y = bX[:,i]\n",
    "  print(y)\n",
    "  plt.scatter(tp, y)\n",
    "  plt.show()\n",
    "  "
   ]
  },
  {
   "cell_type": "markdown",
   "metadata": {},
   "source": [
    "# See other neural data"
   ]
  },
  {
   "cell_type": "code",
   "execution_count": 119,
   "metadata": {},
   "outputs": [],
   "source": [
    "neural_data_folder_path = os.path.join(raw_data_folder_path, 'neural_data/Sorted')"
   ]
  },
  {
   "cell_type": "code",
   "execution_count": null,
   "metadata": {},
   "outputs": [],
   "source": [
    "96520682/20000"
   ]
  },
  {
   "cell_type": "code",
   "execution_count": null,
   "metadata": {},
   "outputs": [],
   "source": [
    "filepath = os.path.join(neural_data_folder_path, \"spike_times.npy\")\n",
    "template_feature_ind = np.load(filepath)\n",
    "print(template_feature_ind.shape)\n",
    "template_feature_ind"
   ]
  },
  {
   "cell_type": "code",
   "execution_count": null,
   "metadata": {},
   "outputs": [],
   "source": [
    "# See other data\n",
    "filepath = os.path.join(neural_data_folder_path, 'cluster_KSLabel.tsv')\n",
    "cluster_KSLabel=pd.read_csv(filepath,sep='\\t')\n",
    "cluster_KSLabel"
   ]
  },
  {
   "cell_type": "code",
   "execution_count": null,
   "metadata": {},
   "outputs": [],
   "source": [
    "filepath = os.path.join(neural_data_folder_path, 'cluster_ContamPct.tsv')\n",
    "cluster_ContamPct=pd.read_csv(filepath,sep='\\t')\n",
    "cluster_ContamPct"
   ]
  },
  {
   "cell_type": "code",
   "execution_count": null,
   "metadata": {},
   "outputs": [],
   "source": [
    "filepath = os.path.join(neural_data_folder_path, 'cluster_Amplitude.tsv')\n",
    "cluster_Amplitude=pd.read_csv(filepath,sep='\\t')\n",
    "cluster_Amplitude"
   ]
  },
  {
   "cell_type": "code",
   "execution_count": null,
   "metadata": {},
   "outputs": [],
   "source": [
    "filepath = os.path.join(neural_data_folder_path, \"pc_features.npy\")\n",
    "pc_feature_ind = np.load(filepath)\n",
    "print(\"shape:\", pc_feature_ind.shape)\n",
    "pc_feature_ind"
   ]
  },
  {
   "cell_type": "code",
   "execution_count": null,
   "metadata": {},
   "outputs": [],
   "source": [
    "filepath = os.path.join(neural_data_folder_path, \"pc_feature_ind.npy\")\n",
    "pc_feature_ind = np.load(filepath)\n",
    "print(pc_feature_ind.shape)\n",
    "pc_feature_ind"
   ]
  },
  {
   "cell_type": "code",
   "execution_count": null,
   "metadata": {},
   "outputs": [],
   "source": [
    "pc_feature_ind.sum(axis=1)"
   ]
  },
  {
   "cell_type": "code",
   "execution_count": null,
   "metadata": {},
   "outputs": [],
   "source": [
    "filepath = os.path.join(neural_data_folder_path, \"channel_map.npy\")\n",
    "channel_map = np.load(filepath)\n",
    "print(channel_map.shape)\n",
    "channel_map"
   ]
  },
  {
   "cell_type": "code",
   "execution_count": null,
   "metadata": {},
   "outputs": [],
   "source": [
    "channel_map+1"
   ]
  },
  {
   "cell_type": "code",
   "execution_count": null,
   "metadata": {},
   "outputs": [],
   "source": [
    "filepath = os.path.join(neural_data_folder_path, \"channel_positions.npy\")\n",
    "channel_positions = np.load(filepath)\n",
    "print(channel_positions.shape)\n",
    "channel_positions"
   ]
  },
  {
   "cell_type": "code",
   "execution_count": null,
   "metadata": {},
   "outputs": [],
   "source": [
    "filepath = os.path.join(neural_data_folder_path, \"amplitudes.npy\")\n",
    "amplitudes = np.load(filepath)\n",
    "print(amplitudes.shape)\n",
    "amplitudes"
   ]
  },
  {
   "cell_type": "code",
   "execution_count": null,
   "metadata": {},
   "outputs": [],
   "source": [
    "filepath = os.path.join(neural_data_folder_path, \"whitening_mat.npy\")\n",
    "whitening_mat = np.load(filepath)\n",
    "print(whitening_mat.shape)\n",
    "whitening_mat"
   ]
  },
  {
   "cell_type": "code",
   "execution_count": null,
   "metadata": {},
   "outputs": [],
   "source": [
    "filepath = os.path.join(neural_data_folder_path, \"whitening_mat_inv.npy\")\n",
    "whitening_mat_inv = np.load(filepath)\n",
    "print(whitening_mat_inv.shape)\n",
    "whitening_mat_inv"
   ]
  },
  {
   "cell_type": "code",
   "execution_count": null,
   "metadata": {},
   "outputs": [],
   "source": [
    "filepath = os.path.join(neural_data_folder_path, \"templates.npy\")\n",
    "templates = np.load(filepath)\n",
    "print(templates.shape)\n",
    "templates"
   ]
  },
  {
   "cell_type": "code",
   "execution_count": null,
   "metadata": {},
   "outputs": [],
   "source": [
    "for k in range(templates.shape[1]):\n",
    "    print(k, templates[:,k,:].sum())"
   ]
  },
  {
   "cell_type": "code",
   "execution_count": null,
   "metadata": {},
   "outputs": [],
   "source": [
    "filepath = os.path.join(neural_data_folder_path, \"templates_ind.npy\")\n",
    "templates_ind = np.load(filepath)\n",
    "print(templates_ind.shape)\n",
    "templates_ind"
   ]
  },
  {
   "cell_type": "code",
   "execution_count": null,
   "metadata": {},
   "outputs": [],
   "source": [
    "filepath = os.path.join(neural_data_folder_path, \"template_features.npy\")\n",
    "template_features = np.load(filepath)\n",
    "print(template_features.shape)\n",
    "template_features"
   ]
  },
  {
   "cell_type": "code",
   "execution_count": null,
   "metadata": {},
   "outputs": [],
   "source": [
    "filepath = os.path.join(neural_data_folder_path, \"template_feature_ind.npy\")\n",
    "template_feature_ind = np.load(filepath)\n",
    "print(template_feature_ind.shape)\n",
    "template_feature_ind"
   ]
  },
  {
   "cell_type": "code",
   "execution_count": null,
   "metadata": {},
   "outputs": [],
   "source": [
    "template_feature_ind.sum(axis=1)"
   ]
  },
  {
   "cell_type": "code",
   "execution_count": null,
   "metadata": {},
   "outputs": [],
   "source": [
    "filepath = os.path.join(neural_data_folder_path, \"similar_templates.npy\")\n",
    "similar_templates = np.load(filepath)\n",
    "print(similar_templates.shape)"
   ]
  },
  {
   "cell_type": "code",
   "execution_count": null,
   "metadata": {},
   "outputs": [],
   "source": [
    "similar_templates.T"
   ]
  },
  {
   "cell_type": "code",
   "execution_count": null,
   "metadata": {},
   "outputs": [],
   "source": [
    "filepath = os.path.join(neural_data_folder_path, \"spike_times.npy\")\n",
    "spike_times = np.load(filepath)\n",
    "print(spike_times.shape)\n",
    "spike_times"
   ]
  },
  {
   "cell_type": "code",
   "execution_count": null,
   "metadata": {},
   "outputs": [],
   "source": [
    "filepath = os.path.join(neural_data_folder_path, \"spike_templates.npy\")\n",
    "spike_templates = np.load(filepath)\n",
    "print(spike_templates.shape)\n",
    "spike_templates"
   ]
  },
  {
   "cell_type": "code",
   "execution_count": null,
   "metadata": {},
   "outputs": [],
   "source": [
    "filepath = os.path.join(neural_data_folder_path, \"spike_clusters.npy\")\n",
    "spike_clusters = np.load(filepath)\n",
    "print(spike_clusters.shape)\n",
    "spike_clusters"
   ]
  },
  {
   "cell_type": "code",
   "execution_count": null,
   "metadata": {},
   "outputs": [],
   "source": [
    "len(np.where((spike_templates == spike_clusters))[0])/len(spike_templates.reshape(-1))\n",
    "# So the two arrays are exactly the same"
   ]
  },
  {
   "cell_type": "code",
   "execution_count": null,
   "metadata": {},
   "outputs": [],
   "source": [
    "print(spike_clusters.reshape(-1).min(), spike_clusters.reshape(-1).max())"
   ]
  },
  {
   "cell_type": "code",
   "execution_count": null,
   "metadata": {},
   "outputs": [],
   "source": []
  },
  {
   "cell_type": "code",
   "execution_count": null,
   "metadata": {},
   "outputs": [],
   "source": [
    "import h5py\n",
    "\n",
    "filepath = os.path.join(neural_data_folder_path, \"QualityMetr.mat\")\n",
    "QualityMetr = {}\n",
    "f = h5py.File(filepath)\n",
    "for k, v in f.items():\n",
    "    QualityMetr[k] = np.array(v)\n",
    "QualityMetr\n",
    "\n"
   ]
  },
  {
   "cell_type": "code",
   "execution_count": null,
   "metadata": {},
   "outputs": [],
   "source": [
    "filepath = os.path.join(neural_data_folder_path, \"rez.mat\")\n",
    "arrays = {}\n",
    "f = h5py.File(filepath)\n",
    "for k, v in f.items():\n",
    "    arrays[k] = np.array(v)\n",
    "arrays"
   ]
  },
  {
   "cell_type": "markdown",
   "metadata": {},
   "source": [
    "# neo"
   ]
  },
  {
   "cell_type": "markdown",
   "metadata": {},
   "source": [
    "## plx"
   ]
  },
  {
   "cell_type": "code",
   "execution_count": null,
   "metadata": {},
   "outputs": [],
   "source": [
    "import os\n",
    "import pandas as pd\n",
    "import neo\n",
    "\n",
    "# Define file paths and file name\n",
    "original_file_path = '/Volumes/Elements/multiff/Bruno/U-probe/7a/Mar 30 2018/neural data'\n",
    "new_file_path = '/Users/dusiyi/Downloads/neural_data_temp_folder/'\n",
    "file_name = 'm51s022_ead'\n",
    "fname = os.path.join(original_file_path, file_name + '.plx')\n",
    "\n",
    "# Function to read event timestamps from a .plx file\n",
    "def plx_event_ts_modified(filename, ch):\n",
    "    reader = neo.io.PlexonIO(filename)\n",
    "    block = reader.read_block()\n",
    "    event_channel = block.segments[0].eventarrays[ch-1]  # ch is 1-based, neo is 0-based\n",
    "    ts = event_channel.times.rescale('s').magnitude  # Convert to seconds\n",
    "    sv = event_channel.labels\n",
    "    freq = reader.header['signal_channels'][0][2]  # Assuming the frequency is stored here\n",
    "    return len(ts), ts, sv, freq\n",
    "\n",
    "# Read the event timestamps\n",
    "n, ts, sv, freq = plx_event_ts_modified(fname, 257)\n",
    "ts_s = ts / freq\n",
    "\n",
    "# Create a DataFrame for aligning data\n",
    "for_aligning_data = pd.DataFrame({'sv': sv, 'ts': ts, 'ts_s': ts_s})\n",
    "\n",
    "# Write the DataFrame to a text file\n",
    "output_file = os.path.join(new_file_path, file_name + '.txt')\n",
    "for_aligning_data.to_csv(output_file, index=False, sep='\\t')\n",
    "\n",
    "# Display the contents of the text file\n",
    "with open(output_file, 'r') as file:\n",
    "    print(file.read())"
   ]
  },
  {
   "cell_type": "code",
   "execution_count": null,
   "metadata": {},
   "outputs": [],
   "source": [
    "import os\n",
    "import pandas as pd\n",
    "import neo\n",
    "\n",
    "# Define file paths and file name\n",
    "original_file_path = '/Volumes/Elements/multiff/Bruno/U-probe/7a/Mar 30 2018/neural data'\n",
    "new_file_path = '/Users/dusiyi/Downloads/neural_data_temp_folder/'\n",
    "file_name = 'm51s022_ead'\n",
    "fname = os.path.join(original_file_path, file_name + '.plx')\n",
    "\n",
    "# Function to read event timestamps from a .plx file\n",
    "filename = fname\n",
    "ch = 257\n",
    "\n",
    "reader = neo.io.PlexonIO(filename)"
   ]
  },
  {
   "cell_type": "code",
   "execution_count": null,
   "metadata": {},
   "outputs": [],
   "source": [
    "reader = neo.rawio.PlexonRawIO(filename=filename)\n",
    "reader.parse_header()"
   ]
  },
  {
   "cell_type": "code",
   "execution_count": null,
   "metadata": {},
   "outputs": [],
   "source": [
    "\n",
    "block = reader.read_block()\n",
    "event_channel = block.segments[0].eventarrays[ch-1]  # ch is 1-based, neo is 0-based\n",
    "ts = event_channel.times.rescale('s').magnitude  # Convert to seconds\n",
    "sv = event_channel.labels\n",
    "freq = reader.header['signal_channels'][0][2]  # Assuming the frequency is stored here\n",
    "\n",
    "ts_s = ts / freq\n",
    "\n",
    "# Create a DataFrame for aligning data\n",
    "for_aligning_data = pd.DataFrame({'sv': sv, 'ts': ts, 'ts_s': ts_s})\n",
    "\n",
    "# Write the DataFrame to a text file\n",
    "output_file = os.path.join(new_file_path, file_name + '.txt')\n",
    "for_aligning_data.to_csv(output_file, index=False, sep='\\t')\n",
    "\n",
    "# Display the contents of the text file\n",
    "with open(output_file, 'r') as file:\n",
    "    print(file.read())"
   ]
  },
  {
   "cell_type": "markdown",
   "metadata": {},
   "source": [
    "## ns6"
   ]
  },
  {
   "cell_type": "code",
   "execution_count": 2,
   "metadata": {},
   "outputs": [],
   "source": [
    "import neo"
   ]
  },
  {
   "cell_type": "code",
   "execution_count": null,
   "metadata": {},
   "outputs": [],
   "source": [
    "m53s412.ns6"
   ]
  },
  {
   "cell_type": "code",
   "execution_count": null,
   "metadata": {},
   "outputs": [],
   "source": [
    "ns6_path = '/Volumes/Elements/multiff/Bruna/Utah Array/MultiFirefly/Apr 02 2018/neural data/m53s412.ns6'"
   ]
  },
  {
   "cell_type": "code",
   "execution_count": 3,
   "metadata": {},
   "outputs": [],
   "source": [
    "ns6_path = '/Volumes/Elements/multiff/Schro/Utah Array/MultiFirefly/Apr 02 2018/neural data/m53s412.ns6'"
   ]
  },
  {
   "cell_type": "code",
   "execution_count": 15,
   "metadata": {},
   "outputs": [],
   "source": [
    "ns6_path = '/Volumes/Elements/multiff/Quigley/MultiFirefly/Dec 21 2017/neural data/m44s728.ns6'"
   ]
  },
  {
   "cell_type": "code",
   "execution_count": 73,
   "metadata": {},
   "outputs": [],
   "source": [
    "ns6_path = '/Volumes/Elements/multiff/Quigley/MultiFirefly/Dec 27 2017/neural data/m44s739.ns6'"
   ]
  },
  {
   "cell_type": "code",
   "execution_count": 79,
   "metadata": {},
   "outputs": [],
   "source": [
    "ns6_path = '/Volumes/Elements/multiff/Schro/Utah Array/MultiFirefly/Mar 16 2018/neural data/Sorted/m53s365.nev'"
   ]
  },
  {
   "cell_type": "code",
   "execution_count": 96,
   "metadata": {},
   "outputs": [],
   "source": [
    "ns6_path = '/Volumes/Elements/multiff/Schro/Utah Array/MultiFirefly/Apr 16 2018/neural data/Sorted/m53s453.ns1'"
   ]
  },
  {
   "cell_type": "code",
   "execution_count": null,
   "metadata": {},
   "outputs": [],
   "source": [
    "reader = neo.rawio.BlackrockRawIO(filename=ns6_path)\n",
    "reader.parse_header()"
   ]
  },
  {
   "cell_type": "code",
   "execution_count": null,
   "metadata": {},
   "outputs": [],
   "source": [
    "exists(ns6_path)"
   ]
  },
  {
   "cell_type": "code",
   "execution_count": null,
   "metadata": {},
   "outputs": [],
   "source": [
    "import gc\n",
    "gc.collect()"
   ]
  },
  {
   "cell_type": "code",
   "execution_count": null,
   "metadata": {},
   "outputs": [],
   "source": [
    "dir(reader)"
   ]
  },
  {
   "cell_type": "code",
   "execution_count": null,
   "metadata": {},
   "outputs": [],
   "source": [
    "1009296/40000"
   ]
  },
  {
   "cell_type": "code",
   "execution_count": null,
   "metadata": {},
   "outputs": [],
   "source": [
    "30000/500"
   ]
  },
  {
   "cell_type": "code",
   "execution_count": null,
   "metadata": {},
   "outputs": [],
   "source": [
    "reader.header"
   ]
  },
  {
   "cell_type": "code",
   "execution_count": null,
   "metadata": {},
   "outputs": [],
   "source": [
    "reader.get_signal_t_start(0, 0)"
   ]
  },
  {
   "cell_type": "code",
   "execution_count": null,
   "metadata": {},
   "outputs": [],
   "source": [
    "raw_sigs1 = reader.get_analogsignal_chunk(channel_indexes=[0, 2, 4])"
   ]
  },
  {
   "cell_type": "code",
   "execution_count": null,
   "metadata": {},
   "outputs": [],
   "source": [
    "reader.event_channels_count()"
   ]
  },
  {
   "cell_type": "code",
   "execution_count": null,
   "metadata": {},
   "outputs": [],
   "source": [
    "reader.event_count()"
   ]
  },
  {
   "cell_type": "code",
   "execution_count": null,
   "metadata": {},
   "outputs": [],
   "source": [
    "reader.get_event_timestamps()[:10]"
   ]
  },
  {
   "cell_type": "code",
   "execution_count": null,
   "metadata": {},
   "outputs": [],
   "source": [
    "138559/30000"
   ]
  },
  {
   "cell_type": "code",
   "execution_count": null,
   "metadata": {},
   "outputs": [],
   "source": [
    "reader.nsx_to_load"
   ]
  },
  {
   "cell_type": "code",
   "execution_count": null,
   "metadata": {},
   "outputs": [],
   "source": [
    "reader.get_signal_t_start(1000, 0)"
   ]
  },
  {
   "cell_type": "code",
   "execution_count": null,
   "metadata": {},
   "outputs": [],
   "source": [
    "reader.get_analogsignal_chunk()[:100, 95]"
   ]
  },
  {
   "cell_type": "code",
   "execution_count": null,
   "metadata": {},
   "outputs": [],
   "source": [
    "reader.get_signal_size(10, 0)"
   ]
  },
  {
   "cell_type": "code",
   "execution_count": null,
   "metadata": {},
   "outputs": [],
   "source": [
    "reader.header[\"event_channels\"]"
   ]
  },
  {
   "cell_type": "code",
   "execution_count": null,
   "metadata": {},
   "outputs": [],
   "source": [
    "reader.segment_count(0)"
   ]
  },
  {
   "cell_type": "code",
   "execution_count": null,
   "metadata": {},
   "outputs": [],
   "source": [
    "reader.segment_t_start(0, 0)"
   ]
  },
  {
   "cell_type": "code",
   "execution_count": null,
   "metadata": {},
   "outputs": [],
   "source": [
    "reader.segment_t_stop(0, 0)"
   ]
  },
  {
   "cell_type": "code",
   "execution_count": null,
   "metadata": {},
   "outputs": [],
   "source": [
    "reader.segment_t_stop(0, 0)"
   ]
  },
  {
   "cell_type": "markdown",
   "metadata": {},
   "source": [
    "## ccf"
   ]
  },
  {
   "cell_type": "code",
   "execution_count": 15,
   "metadata": {},
   "outputs": [],
   "source": [
    "ccf_path = '/Volumes/Elements/multiff/Schro/Utah Array/MultiFirefly/Apr 02 2018/neural data/m53s412.ccf'"
   ]
  },
  {
   "cell_type": "code",
   "execution_count": null,
   "metadata": {},
   "outputs": [],
   "source": [
    "ccf_path"
   ]
  },
  {
   "cell_type": "code",
   "execution_count": null,
   "metadata": {},
   "outputs": [],
   "source": [
    "file_path = 'path/to/your/file.ccf'"
   ]
  },
  {
   "cell_type": "code",
   "execution_count": null,
   "metadata": {},
   "outputs": [],
   "source": [
    "try:\n",
    "    with open(ccf_path, 'r') as file:\n",
    "        for line in file:\n",
    "            print(line.strip())  # Process each line as needed\n",
    "except FileNotFoundError:\n",
    "    print(f\"The file at {ccf_path} was not found.\")\n",
    "except Exception as e:\n",
    "    print(f\"An error occurred: {e}\")"
   ]
  },
  {
   "cell_type": "markdown",
   "metadata": {},
   "source": [
    "# Get data table (to get event timestamps from nev files)"
   ]
  },
  {
   "cell_type": "code",
   "execution_count": null,
   "metadata": {},
   "outputs": [],
   "source": [
    "# list all the dirs in path\n",
    "local_dir = '/Users/dusiyi/Documents/Multifirefly-Project/all_monkey_data/raw_monkey_data/individual_monkey_data/monkey_Bruno'\n",
    "hdrive_dir = '/Volumes/Elements/multiff/Bruno/U-probe/7a'\n",
    "month_dict = {1: 'Jan', 2: 'Feb', 3: 'Mar', 4: 'Apr', 5: 'May', 6: 'Jun', 7: 'Jul', 8: 'Aug', 9: 'Sep', 10: 'Oct', 11: 'Nov', 12: 'Dec'}\n",
    "dirs = os.listdir(local_dir)\n",
    "dirs = [f for f in dirs if 'data_' in f]\n",
    "\n",
    "all_local_data_paths = []\n",
    "all_hdrive_data_paths = []\n",
    "for data_dir in dirs:\n",
    "    data_number = data_dir.split('_')[-1]\n",
    "    hdrive_data_dir = month_dict[int(data_number[1])] + ' ' + data_number[-2:] + ' 2018'\n",
    "    hdrive_data_path = os.path.join(hdrive_dir, hdrive_data_dir, 'neural data')\n",
    "    local_data_path = os.path.join(local_dir, data_dir)\n",
    "    all_local_data_paths.append(local_data_path)\n",
    "    all_hdrive_data_paths.append(hdrive_data_path)\n",
    "\n",
    "data_table = pd.DataFrame({'local_path': all_local_data_paths, 'hdrive_path': all_hdrive_data_paths})\n",
    "\n",
    "data_table.to_csv('/Users/dusiyi/Documents/Multifirefly-Project/multiff_analysis/methods/neural_data_analysis/MATLAB_processing/data_table.csv',\n",
    "                    index=False)"
   ]
  }
 ],
 "metadata": {
  "colab": {
   "machine_shape": "hm",
   "provenance": [
    {
     "file_id": "1psmc3cUQqVO0oqJ3z0nmI4LsHhCWLYZR",
     "timestamp": 1682806564169
    },
    {
     "file_id": "162-xByx3iTk35YJ06VcUmsXt23wEm77H",
     "timestamp": 1681009433942
    }
   ],
   "toc_visible": true
  },
  "gpuClass": "standard",
  "kernelspec": {
   "display_name": "Python 3",
   "language": "python",
   "name": "python3"
  },
  "language_info": {
   "codemirror_mode": {
    "name": "ipython",
    "version": 3
   },
   "file_extension": ".py",
   "mimetype": "text/x-python",
   "name": "python",
   "nbconvert_exporter": "python",
   "pygments_lexer": "ipython3",
   "version": "3.9.19"
  },
  "toc": {
   "base_numbering": 1,
   "nav_menu": {},
   "number_sections": true,
   "sideBar": true,
   "skip_h1_title": false,
   "title_cell": "Table of Contents",
   "title_sidebar": "Contents",
   "toc_cell": true,
   "toc_position": {},
   "toc_section_display": true,
   "toc_window_display": true
  }
 },
 "nbformat": 4,
 "nbformat_minor": 0
}
