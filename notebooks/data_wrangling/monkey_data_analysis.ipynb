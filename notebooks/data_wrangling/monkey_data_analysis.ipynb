{
 "cells": [
  {
   "attachments": {},
   "cell_type": "markdown",
   "metadata": {
    "id": "Ba0IdmwjQ4rv"
   },
   "source": [
    "# Install packages"
   ]
  },
  {
   "cell_type": "code",
   "execution_count": null,
   "metadata": {
    "colab": {
     "base_uri": "https://localhost:8080/"
    },
    "executionInfo": {
     "elapsed": 71683,
     "status": "ok",
     "timestamp": 1683238583154,
     "user": {
      "displayName": "Cici Du",
      "userId": "17701548280142155870"
     },
     "user_tz": 300
    },
    "id": "37EL1grMQ4rw",
    "outputId": "b7432e0c-d157-4d95-ac6f-ccd1f3699625"
   },
   "outputs": [],
   "source": [
    "from google.colab import drive # import drive from google colab\n",
    "drive.mount(\"/content/drive\") \n",
    "!pip install neo\n",
    "!pip install matplotlib_scalebar\n",
    "!pip install ffmpeg\n",
    "!pip install Ipython --upgrade\n",
    "!pip3 install setuptools==65.5.0\n",
    "%load_ext autoreload\n",
    "%autoreload 2"
   ]
  },
  {
   "attachments": {},
   "cell_type": "markdown",
   "metadata": {
    "id": "D7ubA2G0ql0K"
   },
   "source": [
    "# Import packages"
   ]
  },
  {
   "cell_type": "code",
   "execution_count": 6,
   "metadata": {
    "colab": {
     "base_uri": "https://localhost:8080/"
    },
    "executionInfo": {
     "elapsed": 29094,
     "status": "ok",
     "timestamp": 1683238612245,
     "user": {
      "displayName": "Cici Du",
      "userId": "17701548280142155870"
     },
     "user_tz": 300
    },
    "id": "3klBkPC-Q4rw",
    "outputId": "9b955f29-f614-4ccb-c49f-3b041dbcb6a9",
    "scrolled": true
   },
   "outputs": [
    {
     "name": "stdout",
     "output_type": "stream",
     "text": [
      "The autoreload extension is already loaded. To reload it, use:\n",
      "  %reload_ext autoreload\n"
     ]
    }
   ],
   "source": [
    "%load_ext autoreload\n",
    "%autoreload 2\n",
    "\n",
    "from pathlib import Path\n",
    "if Path.cwd().parts[-1] != 'Multifirefly-Project':\n",
    "    %cd ..\n",
    "    from add_path import find_path\n",
    "    current_path = find_path()\n",
    "    %cd $current_path\n",
    "    \n",
    "import sys\n",
    "from data_wrangling import basic_func, process_raw_data, base_processing_class, monkey_data_classes, combine_info_utils\n",
    "from pattern_discovery import pattern_by_trials, pattern_by_points, make_ff_dataframe, ff_dataframe_utils, pattern_by_trials, pattern_by_points, cluster_analysis, organize_patterns_and_features, category_class, cluster_analysis, patterns_and_features_class, compare_two_monkeys_class\n",
    "from decision_making_analysis.decision_making import decision_making_class, decision_making_utils, plot_decision_making, intended_targets_classes\n",
    "from decision_making_analysis.compare_GUAT_and_TAFT import find_GUAT_or_TAFT_trials\n",
    "from decision_making_analysis.GUAT import GUAT_helper_class, GUAT_collect_info_class, GUAT_combine_info_class, process_GUAT_trials_class, GUAT_and_TAFT\n",
    "from decision_making_analysis import free_selection, replacement, trajectory_info\n",
    "from null_behaviors import show_null_trajectory, find_best_arc, curvature_utils, curvature_class, curv_of_traj_utils\n",
    "from machine_learning import machine_learning_utils, hyperparameter_tuning_class\n",
    "from machine_learning.RL.env_related import env_for_lstm, env_utils, base_env, collect_agent_data_utils\n",
    "from machine_learning.RL.lstm import GRU_functions, LSTM_functions\n",
    "from machine_learning.RL.SB3 import interpret_neural_network, sb3_for_multiff_class, rl_for_multiff_utils, SB3_functions\n",
    "from visualization import plot_trials, animation_func, plot_behaviors_utils, monkey_heading_functions, plot_statistics, plot_change_over_time\n",
    "from planning_analysis.test_params_for_planning import params_test_combos_class, params_utils\n",
    "from visualization.plotly_tools import plotly_for_monkey, plotly_for_scatterplot, plotly_preparation, plotly_for_correlation\n",
    "from visualization.dash_tools import dash_prep_class, dash_utils, dash_utils, dash_comparison_class, dash_params_class\n",
    "from visualization.dash_tools.dash_main_class_methods import dash_main_class\n",
    "from non_behavioral_analysis import neural_data_processing\n",
    "from non_behavioral_analysis.planning_neural import planning_neural_class\n",
    "from planning_analysis.only_stop_ff import only_stop_ff_utils, only_stop_ff_class, only_stop_ff_utils\n",
    "from planning_analysis.plan_factors import plan_factors_utils, plan_factors_class, monkey_plan_factors_x_sess_class\n",
    "from planning_analysis.agent_analysis import compare_monkey_and_agent_utils, agent_plan_factors_class, agent_plan_factors_x_sess_class\n",
    "from planning_analysis.plan_factors import test_vs_control_utils\n",
    "from planning_analysis.variations_of_factors_vs_results import make_variations_utils, plot_variations_utils, process_variations_utils\n",
    "from planning_analysis.show_planning import alt_ff_utils, show_planning_class, show_planning_utils, examine_null_arcs\n",
    "from planning_analysis.show_planning.get_stops_near_ff import find_stops_near_ff_class, find_stops_near_ff_utils, plot_stops_near_ff_class, plot_stops_near_ff_utils, plot_monkey_heading_helper_class, stops_near_ff_based_on_ref_class\n",
    "from planning_analysis import ml_methods_class, ml_methods_utils\n",
    "\n",
    "from importlib import reload\n",
    "from non_behavioral_analysis import eye_positions\n",
    "import os\n",
    "import numpy as np\n",
    "import matplotlib\n",
    "import matplotlib.pyplot as plt\n",
    "from sklearn.ensemble import BaggingRegressor, AdaBoostRegressor, RandomForestRegressor\n",
    "from sklearn.preprocessing import PolynomialFeatures\n",
    "from sklearn.linear_model import LinearRegression\n",
    "from matplotlib import cm\n",
    "from os.path import exists\n",
    "import seaborn as sns\n",
    "import math\n",
    "import copy\n",
    "import matplotlib.pyplot as plt\n",
    "import pandas as pd\n",
    "import torch\n",
    "import torch.nn as nn\n",
    "import torch.optim as optim\n",
    "import tqdm\n",
    "import itertools\n",
    "import plotly.express as px\n",
    "from scipy.stats import rankdata\n",
    "from scipy import stats\n",
    "from IPython.display import HTML\n",
    "from matplotlib import rc\n",
    "from sklearn.model_selection import train_test_split\n",
    "from sklearn.preprocessing import OneHotEncoder\n",
    "from sklearn.datasets import make_multilabel_classification\n",
    "from sklearn.model_selection import train_test_split\n",
    "from sklearn.multioutput import MultiOutputClassifier\n",
    "from sklearn.neighbors import KNeighborsClassifier\n",
    "from sklearn.metrics import accuracy_score, hamming_loss, multilabel_confusion_matrix, fbeta_score, precision_score, recall_score\n",
    "from sklearn.svm import SVC\n",
    "from sklearn.tree import DecisionTreeClassifier\n",
    "from sklearn.ensemble import AdaBoostClassifier, RandomForestClassifier, VotingClassifier, BaggingClassifier, GradientBoostingClassifier\n",
    "from sklearn.neural_network import MLPClassifier\n",
    "from sklearn.linear_model import LinearRegression\n",
    "from sklearn.neighbors import KNeighborsRegressor, KNeighborsClassifier\n",
    "from sklearn.naive_bayes import GaussianNB\n",
    "from sklearn.linear_model import LogisticRegression\n",
    "from math import pi\n",
    "from scipy.ndimage import gaussian_filter1d\n",
    "from statsmodels.graphics.tsaplots import plot_acf\n",
    "import warnings\n",
    "import os, sys\n",
    "from sklearn.exceptions import ConvergenceWarning\n",
    "import plotly.graph_objects as go\n",
    "import gc\n",
    "from sklearn.linear_model import LogisticRegression\n",
    "from sklearn.linear_model import LassoCV\n",
    "from sklearn.model_selection import train_test_split\n",
    "from sklearn.preprocessing import StandardScaler\n",
    "from non_behavioral_analysis import neural_analysis\n",
    "\n",
    "\n",
    "plt.rcParams[\"animation.html\"] = \"html5\"\n",
    "os.environ['KMP_DUPLICATE_LIB_OK']='True'\n",
    "rc('animation', html='jshtml')\n",
    "matplotlib.rcParams.update(matplotlib.rcParamsDefault)\n",
    "matplotlib.rcParams['animation.embed_limit'] = 2**128\n",
    "pd.set_option('display.float_format', lambda x: '%.5f' % x)\n",
    "np.set_printoptions(suppress=True)\n",
    "pd.options.display.max_rows = 101"
   ]
  },
  {
   "attachments": {},
   "cell_type": "markdown",
   "metadata": {
    "id": "vpfLmmTI8Xd4"
   },
   "source": [
    "# Retrieve individual monkey data"
   ]
  },
  {
   "cell_type": "code",
   "execution_count": null,
   "metadata": {
    "id": "Kr3-6NlXG7hw"
   },
   "outputs": [],
   "source": [
    "monkey_data_folder_path = \"all_monkey_data/raw_monkey_data/individual_monkey_data/monkey_Bruno/data_0220\"\n",
    "data_item = monkey_data_classes.ProcessMonkeyData(raw_data_folder_path=monkey_data_folder_path)\n",
    "data_item.retrieve_or_make_monkey_data()\n",
    "data_item.make_or_retrieve_ff_dataframe(exists_ok=True)\n",
    "# data_item.find_patterns()\n",
    "# data_item.make_or_retrieve_all_trial_patterns(exists_ok=True)\n",
    "# data_item.make_or_retrieve_pattern_frequencies(exists_ok=True)\n",
    "# data_item.make_or_retrieve_all_trial_features(exists_ok=True)\n",
    "# data_item.make_or_retrieve_feature_statistics(exists_ok=True)\n",
    "# data_item.make_info_of_monkey()\n",
    "# data_item.make_or_retrieve_target_closest()\n",
    "# data_item.make_or_retrieve_target_angle_smallest()\n",
    "# data_item.make_distance_dataframe()\n",
    "# data_item.make_angle_dataframe()\n",
    "\n",
    "# monkey_information = data_item.monkey_information\n",
    "# target_closest = data_item.target_closest\n",
    "# target_angle_smallest = data_item.target_angle_smallest\n",
    "# ff_dataframe = data_item.ff_dataframe\n",
    "\n",
    "# ff_life_sorted = data_item.ff_life_sorted\n",
    "# ff_real_position_sorted = data_item.ff_real_position_sorted\n",
    "# ff_believed_position_sorted = data_item.ff_believed_position_sorted\n",
    "# cluster_around_target_indices = data_item.cluster_around_target_indices\n",
    "# ff_caught_T_sorted = data_item.ff_caught_T_sorted\n",
    "# ff_flash_sorted = data_item.ff_flash_sorted\n",
    "\n",
    "# all_trial_patterns = data_item.all_trial_patterns\n",
    "# all_trial_features = data_item.all_trial_features\n",
    "# pattern_frequencies = data_item.pattern_frequencies\n",
    "# feature_statistics = data_item.feature_statistics\n",
    "# info_of_monkey = data_item.info_of_monkey\n",
    "# distance_dataframe = data_item.distance_dataframe\n",
    "# angle_dataframe = data_item.angle_dataframe\n",
    "# trial_vs_distance = data_item.trial_vs_distance\n",
    "# trial_vs_angle = data_item.trial_vs_angle"
   ]
  },
  {
   "cell_type": "markdown",
   "metadata": {},
   "source": [
    "# Success Rate Comparison"
   ]
  },
  {
   "cell_type": "markdown",
   "metadata": {},
   "source": [
    "## get data"
   ]
  },
  {
   "cell_type": "code",
   "execution_count": 3,
   "metadata": {},
   "outputs": [],
   "source": [
    "bruno = patterns_and_features_class.PatternsAndFeatures(monkey_name='monkey_Bruno')\n",
    "bruno.combine_patterns_and_features(verbose=False)"
   ]
  },
  {
   "cell_type": "code",
   "execution_count": 186,
   "metadata": {},
   "outputs": [],
   "source": [
    "schro = patterns_and_features_class.PatternsAndFeatures(monkey_name='monkey_Schro')\n",
    "schro.combine_patterns_and_features(verbose=False)"
   ]
  },
  {
   "cell_type": "code",
   "execution_count": 46,
   "metadata": {},
   "outputs": [],
   "source": [
    "# Bruno\n",
    "sub1 = bruno.agg_pattern_frequencies[bruno.agg_pattern_frequencies['Item'].isin(['ff_capture_rate', 'stop_success_rate'])].copy()\n",
    "sub1 = sub1[['Frequency', 'Label', 'Rate']].reset_index(drop=True).rename(columns={'Frequency': 'Total Captured FF'})"
   ]
  },
  {
   "cell_type": "code",
   "execution_count": 47,
   "metadata": {},
   "outputs": [],
   "source": [
    "# Schro\n",
    "sub2 = schro.agg_pattern_frequencies[schro.agg_pattern_frequencies['Item'].isin(['ff_capture_rate', 'stop_success_rate'])].copy()\n",
    "sub2 = sub2[['Frequency', 'Label', 'Rate']].reset_index(drop=True).rename(columns={'Frequency': 'Total Captured FF'})"
   ]
  },
  {
   "cell_type": "code",
   "execution_count": 48,
   "metadata": {},
   "outputs": [],
   "source": [
    "## Combine them\n",
    "sub1['Monkey'] = 'Bruno'\n",
    "sub2['Monkey'] = 'Schro'\n",
    "\n",
    "both_sub = pd.concat([sub1, sub2], axis=0).reset_index(drop=True)\n"
   ]
  },
  {
   "cell_type": "code",
   "execution_count": 55,
   "metadata": {},
   "outputs": [],
   "source": [
    "both_sub = both_sub.melt(id_vars=['Monkey', 'Label'], value_vars=['Rate']).sort_values(by=['Label', 'Monkey']).drop(columns=['variable']).reset_index(drop=True)"
   ]
  },
  {
   "cell_type": "code",
   "execution_count": 82,
   "metadata": {},
   "outputs": [],
   "source": [
    "both_sub = both_sub.rename(columns={'Label': 'statistic'})"
   ]
  },
  {
   "cell_type": "markdown",
   "metadata": {},
   "source": [
    "## plot comparison"
   ]
  },
  {
   "cell_type": "code",
   "execution_count": null,
   "metadata": {},
   "outputs": [],
   "source": [
    "import plotly.express as px\n",
    "\n",
    "# make a barplot out of both_sub\n",
    "# change the width of the fig\n",
    "fig = px.bar(both_sub, x='statistic', y='value', color='Monkey', barmode='group', text='value', title='FF Capture Rate and Stop Success Rate', width=500)  # Adjust the width as needed\n",
    "\n",
    "# make the text only 3 decimal\n",
    "fig.update_traces(texttemplate='%{text:.3f}', textposition='outside')\n",
    "\n",
    "# increase y lim a little bit to make sure no text is blocked\n",
    "fig.update_yaxes(range=[0, max(both_sub['value']) + 0.1])\n",
    "\n",
    "# Show the figure\n",
    "fig.show()"
   ]
  },
  {
   "cell_type": "markdown",
   "metadata": {},
   "source": [
    "## compare single-ff success rate"
   ]
  },
  {
   "cell_type": "code",
   "execution_count": 79,
   "metadata": {},
   "outputs": [],
   "source": [
    "single_ff = pd.DataFrame({'Bruno': [0.514, 0.570], 'Schro': [0.454, 0.475]}, index=['Mean', 'Median']).reset_index(drop=False).rename(columns={'index': 'statistic'})\n",
    "single_ff = single_ff.melt(id_vars=['statistic'], value_vars=['Bruno', 'Schro'])\n",
    "single_ff = single_ff.sort_values(by=['statistic']).reset_index(drop=True).rename(columns={'variable': 'monkey'})"
   ]
  },
  {
   "cell_type": "code",
   "execution_count": null,
   "metadata": {},
   "outputs": [],
   "source": [
    "single_ff"
   ]
  },
  {
   "cell_type": "code",
   "execution_count": null,
   "metadata": {},
   "outputs": [],
   "source": [
    "import plotly.express as px\n",
    "\n",
    "# make a barplot out of both_sub\n",
    "# change the width of the fig\n",
    "fig = px.bar(single_ff, x='statistic', y='value', color='monkey', barmode='group', text='value', title='Mean and Median Success Ratee', width=500)  # Adjust the width as needed\n",
    "\n",
    "# make the text only 3 decimal\n",
    "fig.update_traces(texttemplate='%{text:.3f}', textposition='outside')\n",
    "\n",
    "# increase y lim a little bit to make sure no text is blocked\n",
    "fig.update_yaxes(range=[0, max(both_sub['value']) + 0.1])\n",
    "\n",
    "# Show the figure\n",
    "fig.show()"
   ]
  },
  {
   "attachments": {},
   "cell_type": "markdown",
   "metadata": {
    "id": "7CKlu77jK9mL"
   },
   "source": [
    "# Individual monkey patterns and statistics data"
   ]
  },
  {
   "attachments": {},
   "cell_type": "markdown",
   "metadata": {
    "id": "KjctDk7r_lK0"
   },
   "source": [
    "## get data"
   ]
  },
  {
   "cell_type": "code",
   "execution_count": 77,
   "metadata": {},
   "outputs": [],
   "source": [
    "monkey_name = 'Bruno'\n",
    "bruno = patterns_and_features_class.PatternsAndFeatures(monkey_name='monkey_Bruno')\n",
    "bruno.combine_patterns_and_features(verbose=False)\n",
    "\n",
    "agg_pattern_frequencies = bruno.agg_pattern_frequencies.copy()\n",
    "agg_feature_statistics = bruno.agg_feature_statistics.copy()\n",
    "concat_pattern_frequencies = bruno.concat_pattern_frequencies.copy()\n",
    "concat_feature_statistics = bruno.concat_feature_statistics.copy()\n",
    "concat_all_trial_features = bruno.concat_all_trial_features.copy()"
   ]
  },
  {
   "cell_type": "code",
   "execution_count": 82,
   "metadata": {},
   "outputs": [],
   "source": [
    "monkey_name = 'Schro'\n",
    "schro = patterns_and_features_class.PatternsAndFeatures(monkey_name='monkey_Schro')\n",
    "schro.combine_patterns_and_features(verbose=False)\n",
    "\n",
    "agg_pattern_frequencies = schro.agg_pattern_frequencies.copy()\n",
    "agg_feature_statistics = schro.agg_feature_statistics.copy()\n",
    "concat_pattern_frequencies = schro.concat_pattern_frequencies.copy()\n",
    "concat_feature_statistics = schro.concat_feature_statistics.copy()\n",
    "concat_all_trial_features = schro.concat_all_trial_features.copy()"
   ]
  },
  {
   "attachments": {},
   "cell_type": "markdown",
   "metadata": {
    "id": "IiHVwOfM72GK"
   },
   "source": [
    "## plot pattern_frequencies"
   ]
  },
  {
   "cell_type": "code",
   "execution_count": null,
   "metadata": {},
   "outputs": [],
   "source": [
    "bruno.plot_pattern_frequencies()"
   ]
  },
  {
   "cell_type": "code",
   "execution_count": null,
   "metadata": {},
   "outputs": [],
   "source": [
    "schro.plot_pattern_frequencies()"
   ]
  },
  {
   "attachments": {},
   "cell_type": "markdown",
   "metadata": {
    "id": "vcI3yQ6YFp49"
   },
   "source": [
    "## plot_statistics.plot_feature_statistics"
   ]
  },
  {
   "cell_type": "code",
   "execution_count": null,
   "metadata": {},
   "outputs": [],
   "source": [
    "bruno.plot_feature_statistics()"
   ]
  },
  {
   "cell_type": "code",
   "execution_count": null,
   "metadata": {},
   "outputs": [],
   "source": [
    "schro.plot_feature_statistics()"
   ]
  },
  {
   "attachments": {},
   "cell_type": "markdown",
   "metadata": {
    "id": "Hjlhxi4WQ6bD"
   },
   "source": [
    "## changes over time\n"
   ]
  },
  {
   "cell_type": "markdown",
   "metadata": {},
   "source": [
    "### patterns"
   ]
  },
  {
   "cell_type": "code",
   "execution_count": null,
   "metadata": {},
   "outputs": [],
   "source": [
    "bruno.plot_the_changes_in_pattern_frequencies_over_time()"
   ]
  },
  {
   "attachments": {},
   "cell_type": "markdown",
   "metadata": {
    "id": "3jTzAF8TF9Mx"
   },
   "source": [
    "### features"
   ]
  },
  {
   "cell_type": "code",
   "execution_count": null,
   "metadata": {},
   "outputs": [],
   "source": [
    "bruno.plot_the_changes_in_feature_statistics_over_time()"
   ]
  },
  {
   "cell_type": "markdown",
   "metadata": {},
   "source": [
    "# Bruno vs Schro"
   ]
  },
  {
   "cell_type": "code",
   "execution_count": null,
   "metadata": {},
   "outputs": [],
   "source": [
    "tm = compare_two_monkeys_class.CompareTwoMonkeys()"
   ]
  },
  {
   "cell_type": "markdown",
   "metadata": {},
   "source": [
    "### plot patterns"
   ]
  },
  {
   "cell_type": "code",
   "execution_count": null,
   "metadata": {},
   "outputs": [],
   "source": [
    "tm.plot_pattern_frequencies()"
   ]
  },
  {
   "cell_type": "markdown",
   "metadata": {},
   "source": [
    "### plot features"
   ]
  },
  {
   "cell_type": "code",
   "execution_count": null,
   "metadata": {},
   "outputs": [],
   "source": [
    "tm.plot_feature_statistics()"
   ]
  },
  {
   "cell_type": "markdown",
   "metadata": {},
   "source": [
    "### changes over time"
   ]
  },
  {
   "cell_type": "markdown",
   "metadata": {},
   "source": [
    "#### patterns"
   ]
  },
  {
   "cell_type": "code",
   "execution_count": null,
   "metadata": {},
   "outputs": [],
   "source": [
    "tm.plot_the_changes_in_pattern_frequencies_over_time()"
   ]
  },
  {
   "cell_type": "markdown",
   "metadata": {},
   "source": [
    "#### features"
   ]
  },
  {
   "cell_type": "code",
   "execution_count": null,
   "metadata": {},
   "outputs": [],
   "source": [
    "tm.plot_the_changes_in_feature_statistics_over_time()"
   ]
  },
  {
   "attachments": {},
   "cell_type": "markdown",
   "metadata": {
    "id": "PTU3cvinmuFw"
   },
   "source": [
    "# Plots of statistics"
   ]
  },
  {
   "attachments": {},
   "cell_type": "markdown",
   "metadata": {
    "id": "v8G_GwcWsEss"
   },
   "source": [
    "## Plot all_trial_features in box plots"
   ]
  },
  {
   "cell_type": "code",
   "execution_count": 202,
   "metadata": {},
   "outputs": [],
   "source": [
    "all_trial_features = concat_all_trial_features"
   ]
  },
  {
   "cell_type": "code",
   "execution_count": null,
   "metadata": {
    "id": "vOKZjOjasN5u"
   },
   "outputs": [],
   "source": [
    "columns_of_interest = ['t', 't_last_visible', 'd_last_visible','abs_angle_last_visible', 'num_stops', 'num_stops_near_target']\n",
    "titles_of_columns = {'t': 'Trial Duration',\n",
    "                     't_last_visible': 'Trial Duration Since Target Last Visible',\n",
    "                     'd_last_visible':'Distance of Target Since Target Last Visible',\n",
    "                     'abs_angle_last_visible': 'Abs Angle of Target Boundary Since Target Last Visible',\n",
    "                     'num_stops': 'Number of Stops during a Trial',\n",
    "                     'num_stops_near_target': 'Number of Stops near a Target',\n",
    "}\n",
    "x_lables_of_columns = {'t': 'Duration in s',\n",
    "                      't_last_visible': 'Duration in s',\n",
    "                      'd_last_visible':'Distance',\n",
    "                      'abs_angle_last_visible': 'Angle in radians',\n",
    "                      'num_stops': 'Number of Stops',\n",
    "                      'num_stops_near_target': 'Number of Stops'}\n",
    "\n",
    "for column in columns_of_interest:\n",
    "    feature_data = all_trial_features[column]\n",
    "    title = titles_of_columns[column]\n",
    "    x_label = x_lables_of_columns[column]\n",
    "    feature_data = feature_data[feature_data!=9999]\n",
    "    sns.boxplot(x=feature_data)\n",
    "    plt.title(title, fontsize=15)\n",
    "    plt.xlabel(x_label)\n",
    "    plt.show()"
   ]
  },
  {
   "cell_type": "code",
   "execution_count": null,
   "metadata": {
    "id": "2qLpdXSl9swu"
   },
   "outputs": [],
   "source": [
    "plot_statistics.plot_num_stops_in_histogram(all_trial_features, 'num_stops')\n",
    "plt.title('Number of Stops During a Trial')\n",
    "plt.show()\n"
   ]
  },
  {
   "cell_type": "code",
   "execution_count": null,
   "metadata": {
    "id": "tFS7arf9966d"
   },
   "outputs": [],
   "source": [
    "plot_statistics.plot_num_stops_in_histogram(all_trial_features, 'num_stops_since_last_visible')\n",
    "plt.title('Number of Stops Since Target Last Visible')\n",
    "plt.show()\n"
   ]
  },
  {
   "attachments": {},
   "cell_type": "markdown",
   "metadata": {
    "id": "d0WjoQkdT3Pv"
   },
   "source": [
    "## Num stops & non stops since target last visible"
   ]
  },
  {
   "cell_type": "code",
   "execution_count": 206,
   "metadata": {},
   "outputs": [],
   "source": [
    "concat_pattern_frequencies['Percentage'] = concat_pattern_frequencies['Rate']*100"
   ]
  },
  {
   "cell_type": "code",
   "execution_count": null,
   "metadata": {
    "id": "Yd2gRYTQHGuB"
   },
   "outputs": [],
   "source": [
    "#plot_statistics.plot_num_ff_caught_in_a_row_in_barplot(pattern_frequencies, show_one_in_a_row = False)\n",
    "plot_statistics.plot_num_ff_caught_in_a_row_in_barplot(concat_pattern_frequencies, show_one_in_a_row = False)"
   ]
  },
  {
   "cell_type": "code",
   "execution_count": null,
   "metadata": {
    "id": "dkLghnJx6WGr"
   },
   "outputs": [],
   "source": [
    "#plot_statistics.plot_num_ff_caught_in_a_row_in_pie_chart(pattern_frequencies)\n",
    "plot_statistics.plot_num_ff_caught_in_a_row_in_pie_chart(agg_pattern_frequencies)"
   ]
  },
  {
   "attachments": {},
   "cell_type": "markdown",
   "metadata": {
    "id": "XDD4I5uTBB3B"
   },
   "source": [
    "## Num ffs around target"
   ]
  },
  {
   "cell_type": "code",
   "execution_count": null,
   "metadata": {
    "id": "T07kqRJ-bFvj"
   },
   "outputs": [],
   "source": [
    "#plot_statistics.plot_num_ff_around_target_in_barplot(all_trial_features)\n",
    "plot_statistics.plot_num_ff_around_target_in_barplot(concat_all_trial_features)"
   ]
  },
  {
   "attachments": {},
   "cell_type": "markdown",
   "metadata": {
    "id": "1qYj0ho35Xpb"
   },
   "source": [
    "## Num stops near target"
   ]
  },
  {
   "cell_type": "code",
   "execution_count": null,
   "metadata": {
    "id": "R1bkRdOr5a0z"
   },
   "outputs": [],
   "source": [
    "plot_statistics.plot_num_stops_near_target_in_barplot(all_trial_features)"
   ]
  },
  {
   "attachments": {},
   "cell_type": "markdown",
   "metadata": {
    "id": "DqesUkHOGUKz"
   },
   "source": [
    "## Target closest & target_angle_smallest"
   ]
  },
  {
   "cell_type": "code",
   "execution_count": null,
   "metadata": {
    "id": "FdvIvguUgo91"
   },
   "outputs": [],
   "source": [
    "# plot_statistics.plot_proportion_of_target_closest(target_closest)"
   ]
  },
  {
   "cell_type": "code",
   "execution_count": null,
   "metadata": {
    "id": "9QIornSVguRR"
   },
   "outputs": [],
   "source": [
    "# plot_statistics.plot_proportion_of_target_closest(target_closest)\n",
    "# plot_statistics.plot_proportion_of_target_angle_smallest(target_angle_smallest)"
   ]
  },
  {
   "attachments": {},
   "cell_type": "markdown",
   "metadata": {
    "id": "ZF3BXWM6KjEL"
   },
   "source": [
    "## Number of ffs"
   ]
  },
  {
   "attachments": {},
   "cell_type": "markdown",
   "metadata": {
    "id": "H8sO3TiQLFxL"
   },
   "source": [
    "Number of visible ffs at any point"
   ]
  },
  {
   "cell_type": "code",
   "execution_count": null,
   "metadata": {
    "id": "0mxJXjpsK9Xx"
   },
   "outputs": [],
   "source": [
    "plot_statistics.plot_number_of_visible_ff_per_point_in_histogram(data_item.ff_dataframe)"
   ]
  },
  {
   "attachments": {},
   "cell_type": "markdown",
   "metadata": {
    "id": "HRj1XQuSZF10"
   },
   "source": [
    "Number of ffs in memory at any point"
   ]
  },
  {
   "cell_type": "code",
   "execution_count": null,
   "metadata": {
    "id": "VlkcFs_Ojn55"
   },
   "outputs": [],
   "source": [
    "plot_statistics.plot_number_of_ff_in_memory_per_point_in_histogram(data_item.ff_dataframe)"
   ]
  },
  {
   "attachments": {},
   "cell_type": "markdown",
   "metadata": {
    "id": "LQVD-E9rYeAG"
   },
   "source": [
    "# Numbers of stops vs. Distance/Displacement/Time "
   ]
  },
  {
   "attachments": {},
   "cell_type": "markdown",
   "metadata": {
    "id": "ZWnK6Ts_KMlr"
   },
   "source": [
    "Distance: Integrate the speed of the monkey during the trial. \n",
    "\n",
    "Displacement: Find the absolute distance between two targets. Discard the trials where the monkey has gone to a border"
   ]
  },
  {
   "cell_type": "code",
   "execution_count": 4,
   "metadata": {
    "id": "KjjsPMcVYc1P"
   },
   "outputs": [],
   "source": [
    "distance_array = []\n",
    "displacement_array = []\n",
    "for i in range(len(data_item.ff_caught_T_sorted)-1):\n",
    "  distance_array.append(basic_func.distance_traveled(i, data_item.ff_caught_T_sorted, data_item.monkey_information))\n",
    "  displacement_array.append(basic_func.abs_displacement(i, data_item.ff_caught_T_sorted, data_item.monkey_information, data_item.ff_believed_position_sorted))\n",
    "distance_array = np.array(distance_array)\n",
    "displacement_array = np.array(displacement_array)"
   ]
  },
  {
   "cell_type": "code",
   "execution_count": 19,
   "metadata": {},
   "outputs": [],
   "source": [
    "num_stops_array = organize_patterns_and_features._get_num_stops_array(data_item.monkey_information, data_item.ff_caught_T_sorted)"
   ]
  },
  {
   "attachments": {},
   "cell_type": "markdown",
   "metadata": {
    "id": "mgest4dTBAB4"
   },
   "source": [
    "## Distance"
   ]
  },
  {
   "cell_type": "code",
   "execution_count": null,
   "metadata": {},
   "outputs": [],
   "source": [
    "distance_array.max()"
   ]
  },
  {
   "cell_type": "code",
   "execution_count": null,
   "metadata": {
    "id": "XLAmip37uu9i"
   },
   "outputs": [],
   "source": [
    "plot_statistics.fit_and_plot_linear_regression(distance_array, num_stops_array, show_regression = True)\n",
    "plt.title('Numbers of Stops vs. Distance Traveled')\n",
    "plt.xlabel('Distance Traveled', labelpad=15)\n",
    "plt.ylabel('Numbers of Stops')\n",
    "plt.show()\n"
   ]
  },
  {
   "attachments": {},
   "cell_type": "markdown",
   "metadata": {
    "id": "ZjM3hZ-TBCCq"
   },
   "source": [
    "## Displacement"
   ]
  },
  {
   "cell_type": "code",
   "execution_count": null,
   "metadata": {
    "id": "qOTeu2byIoZt"
   },
   "outputs": [],
   "source": [
    "invalid_indices = np.where(displacement_array==9999)\n",
    "displacement_valid = np.delete(displacement_array, invalid_indices, axis=None)\n",
    "num_stops_valid = np.delete(num_stops_array, invalid_indices, axis=None)\n",
    "plot_statistics.fit_and_plot_linear_regression(displacement_valid, num_stops_valid, show_regression = True)\n",
    "plt.title('Numbers of Stops vs. Absolute Displacement')\n",
    "plt.xlabel('Absolute Displacement', labelpad=15)\n",
    "plt.ylabel('Numbers of Stops')\n",
    "plt.show()\n"
   ]
  },
  {
   "cell_type": "markdown",
   "metadata": {},
   "source": [
    "## Distance to target since last visible vs num stops / num stops near target"
   ]
  },
  {
   "cell_type": "markdown",
   "metadata": {},
   "source": [
    "## Distance to target since target cluster last visible vs num stops / num stops near target"
   ]
  },
  {
   "cell_type": "markdown",
   "metadata": {},
   "source": [
    "## Displacement to target since last visible vs num stops / num stops near target"
   ]
  },
  {
   "cell_type": "markdown",
   "metadata": {},
   "source": [
    "## Displacement to target since target cluster last visible vs num stops / num stops near target"
   ]
  },
  {
   "cell_type": "markdown",
   "metadata": {},
   "source": [
    "## Time since target cluster last visible vs num stops / num stops near target"
   ]
  },
  {
   "attachments": {},
   "cell_type": "markdown",
   "metadata": {
    "id": "JwQP0QC6lZb9"
   },
   "source": [
    "# Compare target with non_target"
   ]
  },
  {
   "cell_type": "code",
   "execution_count": null,
   "metadata": {
    "id": "N7Ag4yknmH9l"
   },
   "outputs": [],
   "source": [
    "# Both target and non-target are either visible or in memory\n",
    "plot_statistics.compare_target_with_non_targets(data_item.ff_dataframe, var_of_interest='ff_angle')\n",
    "plot_statistics.compare_target_with_non_targets(data_item.ff_dataframe, var_of_interest='ff_angle_boundary')\n",
    "plot_statistics.compare_target_with_non_targets(data_item.ff_dataframe, var_of_interest='ff_distance')"
   ]
  },
  {
   "cell_type": "code",
   "execution_count": null,
   "metadata": {
    "id": "ywMclUhRmK_W"
   },
   "outputs": [],
   "source": [
    "# Both target and non-target are visible\n",
    "ff_dataframe_subset = data_item.ff_dataframe[data_item.ff_dataframe['visible']==1]\n",
    "plot_statistics.compare_target_with_non_targets(ff_dataframe_subset, var_of_interest='ff_angle')\n",
    "plot_statistics.compare_target_with_non_targets(ff_dataframe_subset, var_of_interest='ff_angle_boundary')\n",
    "plot_statistics.compare_target_with_non_targets(ff_dataframe_subset, var_of_interest='ff_distance')"
   ]
  },
  {
   "attachments": {},
   "cell_type": "markdown",
   "metadata": {
    "id": "KhO7935VOeXi"
   },
   "source": [
    "# Are angles to fireflies decreasing?"
   ]
  },
  {
   "attachments": {},
   "cell_type": "markdown",
   "metadata": {
    "id": "Iw6c0kVB36Hi"
   },
   "source": [
    "## plot trials"
   ]
  },
  {
   "cell_type": "code",
   "execution_count": 165,
   "metadata": {
    "id": "Ipq6FvoI8G48"
   },
   "outputs": [],
   "source": [
    "trial_total_num = 10\n",
    "data_item.cluster_around_target_trials, data_item.cluster_around_target_indices, data_item.cluster_around_target_positions = pattern_by_trials.cluster_around_target_func(data_item.ff_dataframe, \n",
    "        data_item.caught_ff_num, data_item.ff_caught_T_sorted, data_item.ff_real_position_sorted, max_time_apart=1.25)\n",
    "\n",
    "classic_plot_kwargs = {'show_stops': True,\n",
    "                       'show_believed_target_positions': True,\n",
    "                       'show_reward_boundary': True,\n",
    "                       'show_scale_bar': True}\n",
    "data_item.PlotTrials_args = (data_item.monkey_information, data_item.ff_dataframe, data_item.ff_life_sorted, data_item.ff_real_position_sorted, data_item.ff_believed_position_sorted, data_item.cluster_around_target_indices, data_item.ff_caught_T_sorted)"
   ]
  },
  {
   "cell_type": "code",
   "execution_count": null,
   "metadata": {
    "id": "WHm7FXKI7-Kj"
   },
   "outputs": [],
   "source": [
    "\n",
    "num_trials = 2 \n",
    "\n",
    "\n",
    "with basic_func.initiate_plot(10,10,100):\n",
    "  for currentTrial in [102]: #two_in_a_row[10:20]:\n",
    "      duration = [data_item.ff_caught_T_sorted[currentTrial-num_trials], data_item.ff_caught_T_sorted[currentTrial]]\n",
    "      plot_trials.PlotTrials(duration, \n",
    "                  *data_item.PlotTrials_args,\n",
    "                  **classic_plot_kwargs,\n",
    "                  currentTrial = currentTrial,\n",
    "                  num_trials = num_trials,                   \n",
    "                  show_connect_path_ff_except_targets = True,\n",
    "                  show_path_when_target_visible = True,\n",
    "                  show_ff_indices = False,\n",
    "                  hitting_arena_edge_ok = True,\n",
    "                  visible_distance = 400,\n",
    "                  minimal_margin = 300,\n",
    "                  show_monkey_angles = True\n",
    "                  )\n",
    "      plt.show()  \n",
    "\n",
    "      "
   ]
  },
  {
   "attachments": {},
   "cell_type": "markdown",
   "metadata": {
    "id": "bAbucg32nNj8"
   },
   "source": [
    "## Plot: abs_ffangle_decreasing (angle or angle to boundary?)"
   ]
  },
  {
   "cell_type": "code",
   "execution_count": null,
   "metadata": {
    "id": "Gle5M5GsMtnF"
   },
   "outputs": [],
   "source": [
    "trial_numbers = range(100, 105)\n",
    "plot_behaviors_utils.plot_change_in_ff_angle(data_item.ff_dataframe, trial_numbers, var_of_interest = \"abs_ffangle_decreasing\")\n",
    "plot_behaviors_utils.plot_change_in_ff_angle(data_item.ff_dataframe, trial_numbers, var_of_interest = \"abs_ffangle_boundary_decreasing\")\n",
    "plot_behaviors_utils.plot_change_in_ff_angle(data_item.ff_dataframe, trial_numbers, var_of_interest = \"dw_same_sign_as_ffangle\")\n",
    "plot_behaviors_utils.plot_change_in_ff_angle(data_item.ff_dataframe, trial_numbers, var_of_interest = \"dw_same_sign_as_ffangle_boundary\")"
   ]
  },
  {
   "cell_type": "markdown",
   "metadata": {},
   "source": [
    "# ^Appendix^"
   ]
  },
  {
   "attachments": {},
   "cell_type": "markdown",
   "metadata": {
    "id": "U45UYTRXbxcX"
   },
   "source": [
    "# New two in a row"
   ]
  },
  {
   "attachments": {},
   "cell_type": "markdown",
   "metadata": {
    "id": "Kes0UQ0XjLq8"
   },
   "source": [
    "## New two-in-a-row (no speed up in the middle)\n",
    "\n",
    "**If two fireflies were caught in the same chunk**"
   ]
  },
  {
   "cell_type": "code",
   "execution_count": 170,
   "metadata": {},
   "outputs": [],
   "source": [
    "from data_wrangling import more_data_wrangling_func\n",
    "chunk_numbers, new_chunk_indices = more_data_wrangling_func.reorganize_data_into_chunks(data_item.monkey_information)"
   ]
  },
  {
   "cell_type": "code",
   "execution_count": 172,
   "metadata": {
    "id": "kfVLW38pjQno"
   },
   "outputs": [],
   "source": [
    "new_chunk_start_times = data_item.monkey_information['monkey_t'][new_chunk_indices].values\n",
    "ff_caught_T_chunk_numbers = np.digitize(data_item.ff_caught_T_sorted, new_chunk_start_times)\n",
    "# find the trials where at least two fireflies were caught during the same chunk\n",
    "two_in_a_row_trials_by_chunk = np.where(np.diff(ff_caught_T_chunk_numbers)==0)[0]+1"
   ]
  },
  {
   "cell_type": "code",
   "execution_count": null,
   "metadata": {
    "id": "3eak30-AQ4rw",
    "scrolled": true
   },
   "outputs": [],
   "source": [
    "category = two_in_a_row_trials_by_chunk\n",
    "trial_total_num = 5\n",
    "PlotTrials_args = (data_item.monkey_information, data_item.ff_dataframe, data_item.ff_life_sorted, data_item.ff_real_position_sorted, \n",
    "                   data_item.ff_believed_position_sorted, data_item.cluster_around_target_indices, data_item.ff_caught_T_sorted)\n",
    "PlotTrials_kwargs = {'player': 'monkey',\n",
    "                     'images_dir': None} \n",
    "\n",
    "classic_plot_kwargs = {'show_stops': True,\n",
    "                       'show_believed_target_positions': True,\n",
    "                       'show_reward_boundary': True,\n",
    "                       'show_scale_bar': True}\n",
    "\n",
    "#category = two_in_a_row_simuly\n",
    "#category = two_in_a_row_non_simul\n",
    "#category = used_cluster  --> two_in_a_row_non_simul ^ on_before_last_one\n",
    "\n",
    "num_trials = 2 \n",
    "\n",
    "if len(category) > 0:\n",
    "  with basic_func.initiate_plot(7,7,100):\n",
    "    for currentTrial in category[:trial_total_num]:\n",
    "        duration = [data_item.ff_caught_T_sorted[currentTrial-num_trials], \n",
    "                    data_item.ff_caught_T_sorted[currentTrial]]\n",
    "        print(duration)\n",
    "        plot_trials.PlotTrials(duration, \n",
    "                   *PlotTrials_args,\n",
    "                   **classic_plot_kwargs,\n",
    "                   currentTrial = currentTrial,\n",
    "                   num_trials = num_trials,                   \n",
    "                   show_connect_path_ff_except_targets = True,\n",
    "                   show_path_when_target_visible = True,\n",
    "                   )\n",
    "        plt.show()  \n",
    "        "
   ]
  },
  {
   "attachments": {},
   "cell_type": "markdown",
   "metadata": {
    "id": "B-edvZR1rwSX"
   },
   "source": [
    "## New two-in-a-row (no stop in the middle)\n"
   ]
  },
  {
   "cell_type": "code",
   "execution_count": 177,
   "metadata": {},
   "outputs": [],
   "source": [
    "# import LA\n",
    "from numpy import linalg as LA\n"
   ]
  },
  {
   "cell_type": "code",
   "execution_count": 178,
   "metadata": {
    "id": "KpimljWnN-q6"
   },
   "outputs": [],
   "source": [
    "monkey_information = data_item.monkey_information.copy()\n",
    "monkey_information['trials'] = np.digitize(monkey_information['monkey_t'], data_item.ff_caught_T_sorted)\n",
    "all_trials = monkey_information.trials.unique()\n",
    "# take out all the rows where the monkey stops\n",
    "speed_threshold = 5\n",
    "monkey_info_subset = monkey_information[monkey_information['monkey_speed'] < speed_threshold].copy()\n",
    "\n",
    "# if a stop is within 25 cm of the previous or the current target, then it doesn't count\n",
    "monkey_info_subset['target_x'] = data_item.ff_real_position_sorted[monkey_info_subset['trials']][:,0]\n",
    "monkey_info_subset['target_y'] = data_item.ff_real_position_sorted[monkey_info_subset['trials']][:,1]\n",
    "monkey_info_subset['prev_target_x'] = data_item.ff_real_position_sorted[monkey_info_subset['trials']-1][:,0]\n",
    "monkey_info_subset['prev_target_y'] = data_item.ff_real_position_sorted[monkey_info_subset['trials']-1][:,1]\n",
    "monkey_info_subset['distance_to_target'] = LA.norm(monkey_info_subset[['monkey_x', 'monkey_y']].values - monkey_info_subset[['target_x', 'target_y']].values, axis=1)\n",
    "monkey_info_subset['distance_to_prev_target'] = LA.norm(monkey_info_subset[['monkey_x', 'monkey_y']].values - monkey_info_subset[['prev_target_x', 'prev_target_y']].values, axis=1)\n",
    "monkey_info_subset2 = monkey_info_subset[(monkey_info_subset['distance_to_target'] > 25) &\n",
    "                                         (monkey_info_subset['distance_to_prev_target'] > 25)]\n",
    "trials_containing_stops_in_middle = monkey_info_subset2.trials.unique()\n",
    "two_in_a_row_trials_by_stops = np.setdiff1d(all_trials, trials_containing_stops_in_middle)                                         "
   ]
  },
  {
   "cell_type": "code",
   "execution_count": null,
   "metadata": {
    "id": "O9EwpGK1OZNm"
   },
   "outputs": [],
   "source": [
    "category = two_in_a_row_trials_by_stops\n",
    "trial_total_num = 10\n",
    "PlotTrials_kwargs = {'player': 'monkey',\n",
    "                     'images_dir': None} \n",
    "\n",
    "classic_plot_kwargs = {'show_stops': True,\n",
    "                       'show_believed_target_positions': True,\n",
    "                       'show_reward_boundary': True,\n",
    "                       'show_scale_bar': True}\n",
    "\n",
    "#category = two_in_a_row_simuly\n",
    "#category = two_in_a_row_non_simul\n",
    "#category = used_cluster  --> two_in_a_row_non_simul ^ on_before_last_one\n",
    "\n",
    "num_trials = 2 \n",
    "\n",
    "if len(category) > 0:\n",
    "  with basic_func.initiate_plot(7,7,100):\n",
    "    for currentTrial in category[:trial_total_num]:\n",
    "        duration = [data_item.ff_caught_T_sorted[currentTrial-num_trials], data_item.ff_caught_T_sorted[currentTrial]]\n",
    "        print(duration)\n",
    "        plot_trials.PlotTrials(duration, \n",
    "                   *PlotTrials_args,\n",
    "                   **classic_plot_kwargs,\n",
    "                   currentTrial = currentTrial,\n",
    "                   num_trials = num_trials, \n",
    "                   trail_color_var = 'speed',                  \n",
    "                   show_connect_path_ff_except_targets = True,\n",
    "                   show_path_when_target_visible = False,\n",
    "                   )\n",
    "        plt.show()  \n",
    "        "
   ]
  },
  {
   "cell_type": "markdown",
   "metadata": {},
   "source": [
    "# monkey_information vs. signal_df"
   ]
  },
  {
   "cell_type": "code",
   "execution_count": null,
   "metadata": {},
   "outputs": [],
   "source": [
    "# raw_data_folder_path = \"all_monkey_data/raw_monkey_data/individual_monkey_data/monkey_Bruno/data_0221\"\n",
    "# interocular_dist = 4 # 4 for Bruno and 3 for others\n",
    "# monkey_information, ff_caught_T_sorted, ff_index_sorted, ff_real_position_sorted, ff_believed_position_sorted, ff_life_sorted, ff_flash_sorted, ff_flash_end_sorted \\\n",
    "#                 = process_raw_data.log_extractor(raw_data_folder_path = raw_data_folder_path).extract_data(monkey_information_exists_OK = True, interocular_dist=interocular_dist)\n",
    "\n",
    "# accurate_start_time, accurate_end_time, signal_df = process_raw_data.find_start_and_accurate_end_time(raw_data_folder_path, exists_ok=True, return_signal_df=True)\n",
    "# signal_t = np.array(signal_df.Time)\n",
    "# monkey_t = monkey_information['monkey_t'].values\n",
    "# time_bins = process_raw_data.find_time_bins_for_an_array(monkey_t)\n",
    "\n",
    "# # add time_box to monkey_information\n",
    "# monkey_information.loc[:, 'time_box'] = np.arange(1, len(monkey_information)+1)\n",
    "# # group signal_df.time based on intervals in monkey_information['monkey_t'], thus adding the column time_box to signal_df\n",
    "# signal_df.loc[:, 'time_box'] = np.digitize(signal_t, time_bins)"
   ]
  },
  {
   "cell_type": "markdown",
   "metadata": {},
   "source": [
    "## Compare linear speed and angular from monkey_information and signal_df respectively"
   ]
  },
  {
   "cell_type": "code",
   "execution_count": null,
   "metadata": {},
   "outputs": [],
   "source": [
    "# variables_to_add = ['LateralV', 'ForwardV', 'AngularV']\n",
    "# monkey_information = process_raw_data.add_smr_file_info_to_monkey_information(monkey_information, raw_data_folder_path, variables = variables_to_add)\n",
    "# monkey_information['monkey_linear_v'] = LA.norm(monkey_information[['LateralV', 'ForwardV']].values, axis=1)"
   ]
  },
  {
   "cell_type": "code",
   "execution_count": null,
   "metadata": {},
   "outputs": [],
   "source": [
    "# fig, axes = plt.subplots(figsize=(15, 7))\n",
    "# start = 20000\n",
    "# num_points = 30\n",
    "# #shared_x = monkey_information['monkey_t'].values[start:start+num_points]\n",
    "# shared_x = np.arange(num_points)\n",
    "# axes.plot(shared_x, monkey_information['monkey_linear_v'].values[start:start+num_points], color='slateblue', alpha=0.6)\n",
    "# axes.plot(shared_x, monkey_information['monkey_speed'].values[start:start+num_points], color='orange', alpha=0.6)\n",
    "# plt.show()"
   ]
  },
  {
   "cell_type": "code",
   "execution_count": null,
   "metadata": {},
   "outputs": [],
   "source": [
    "# fig, axes = plt.subplots(figsize=(15, 7))\n",
    "# start = 30000\n",
    "# num_points = 100\n",
    "# #shared_x = monkey_information['monkey_t'].values[start:start+num_points]\n",
    "# shared_x = np.arange(num_points)\n",
    "# axes.plot(shared_x, monkey_information['AngularV'].values[start:start+num_points], color='slateblue', alpha=0.6)\n",
    "# axes.plot(shared_x, monkey_information['monkey_dw'].values[start:start+num_points]*180/pi, color='orange', alpha=0.6)\n",
    "# plt.show()"
   ]
  },
  {
   "cell_type": "markdown",
   "metadata": {},
   "source": [
    "## Compare time_boxes"
   ]
  },
  {
   "cell_type": "code",
   "execution_count": null,
   "metadata": {},
   "outputs": [],
   "source": [
    "# monkey_subset = monkey_information[['monkey_t', 'time_box']]\n",
    "# signal_subset = signal_df[['Time', 'time_box']]\n",
    "# signal_subset[signal_subset['time_box']==1]"
   ]
  },
  {
   "cell_type": "code",
   "execution_count": null,
   "metadata": {},
   "outputs": [],
   "source": [
    "# monkey_subset[monkey_subset['time_box']==1]"
   ]
  },
  {
   "cell_type": "markdown",
   "metadata": {},
   "source": [
    "## Compare monkey_x and monkey_y from monkey_information and signal_df respectively"
   ]
  },
  {
   "cell_type": "code",
   "execution_count": null,
   "metadata": {},
   "outputs": [],
   "source": [
    "# variables_to_add = ['MonkeyX', 'MonkeyY']\n",
    "# monkey_information = process_raw_data.add_smr_file_info_to_monkey_information(monkey_information, raw_data_folder_path, variables = variables_to_add)"
   ]
  },
  {
   "cell_type": "code",
   "execution_count": null,
   "metadata": {},
   "outputs": [],
   "source": [
    "# fig, axes = plt.subplots(figsize=(15, 7))\n",
    "# start = 30000\n",
    "# num_points = 50\n",
    "# #shared_x = monkey_information['monkey_t'].values[start:start+num_points]\n",
    "# shared_x = np.arange(num_points)\n",
    "# axes.plot(shared_x, monkey_information['MonkeyX'].values[start:start+num_points], color='slateblue', alpha=0.6)\n",
    "# axes.plot(shared_x, monkey_information['monkey_x'].values[start:start+num_points], color='orange', alpha=0.6)\n",
    "# plt.show()"
   ]
  }
 ],
 "metadata": {
  "colab": {
   "provenance": [],
   "toc_visible": true
  },
  "kernelspec": {
   "display_name": "Python 3",
   "name": "python3"
  },
  "language_info": {
   "codemirror_mode": {
    "name": "ipython",
    "version": 3
   },
   "file_extension": ".py",
   "mimetype": "text/x-python",
   "name": "python",
   "nbconvert_exporter": "python",
   "pygments_lexer": "ipython3",
   "version": "3.9.19"
  }
 },
 "nbformat": 4,
 "nbformat_minor": 0
}
