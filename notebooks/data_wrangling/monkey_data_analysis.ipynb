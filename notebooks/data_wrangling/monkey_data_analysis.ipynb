{
import sys   "cell_type": "code",
   "execution_count": null,
   "metadata": {},
   "outputs": [],
   "source": [
    "gas = GUAT_combine_info_class.GUATProcessCombinedInfo()\n",
    "# gas.retrieve_or_make_combined_info(gc_kwargs)\n",
    "# gas.reload_combined_info_back_to_self(gas.combined_info, gas.all_traj_feature_names)\n",
    "gas.retrieve_or_make_combined_info(gc_kwargs_temp)\n",
    "gas.reload_combined_info_back_to_self(gcc.important_info, gcc.all_traj_feature_names)\n",
    "gas.process_current_and_alternative_ff_info()\n",
    "gas.find_input_and_output(add_arc_info=True, add_current_curvature_of_traj=True, \n",
    "                          ff_attributes=['ff_distance', 'ff_angle', 'time_since_last_visible', 'time_till_next_visible'])\n",
    "gas.prepare_data_for_machine_learning()\n",
    "gas.split_data_to_train_and_test(scaling_data=True)\n",
    "gas.use_machine_learning_model(model=GaussianNB())   \n",
    "gas.get_pred_results_df()  \n",
    "gas.add_additional_info_to_plot()\n",
    "gas.plot_prediction_results(max_plot_to_make=1, show_reward_boundary=True, use_more_ff_inputs=True, use_more_traj_points=True)"
   ]
  },
  {
   "cell_type": "code",
   "execution_count": null,
   "metadata": {
    "id": "83X8YVJh1za8"
   },
   "outputs": [],
   "source": []
  },
  {
   "cell_type": "code",
   "execution_count": null,
   "metadata": {
    "id": "0FSxZcR5OAx4"
   },
   "outputs": [],
   "source": []
  },
  {
   "attachments": {},
   "cell_type": "markdown",
   "metadata": {
    "id": "Ba0IdmwjQ4rv"
   },
   "source": [
    "# Install packages"
   ]
  },
  {
   "cell_type": "code",
   "execution_count": null,
   "metadata": {
    "colab": {
     "base_uri": "https://localhost:8080/"
    },
    "executionInfo": {
     "elapsed": 71683,
     "status": "ok",
     "timestamp": 1683238583154,
     "user": {
      "displayName": "Cici Du",
      "userId": "17701548280142155870"
     },
     "user_tz": 300
    },
    "id": "37EL1grMQ4rw",
    "outputId": "b7432e0c-d157-4d95-ac6f-ccd1f3699625"
   },
   "outputs": [],
   "source": [
    "from google.colab import drive # import drive from google colab\n",
    "drive.mount(\"/content/drive\") \n",
    "!pip install neo\n",
    "!pip install matplotlib_scalebar\n",
    "!pip install ffmpeg\n",
    "!pip install Ipython --upgrade\n",
    "!pip3 install setuptools==65.5.0\n",
    "%load_ext autoreload\n",
    "%autoreload 2"
   ]
  },
  {
   "attachments": {},
   "cell_type": "markdown",
   "metadata": {
    "id": "D7ubA2G0ql0K"
   },
   "source": [
    "# Import packages"
   ]
  },
  {
   "cell_type": "code",
   "execution_count": 1,
   "metadata": {},
   "outputs": [
    {
     "name": "stdout",
     "output_type": "stream",
     "text": [
      "/Users/dusiyi/Documents/Multifirefly-Project\n",
      "Changed the directory to 'Multifirefly-Project'.\n",
      "Added /Users/dusiyi/Documents/Multifirefly-Project/multiff_analysis/methods to the path.\n"
     ]
    }
   ],
   "source": [
    "from pathlib import Path\n",
    "import sys\n",
    "\n",
    "# Get the current working directory\n",
    "current_path = Path.cwd()\n",
    "# Navigate to the parent directory until reaching 'Multifirefly-Project'\n",
    "if 'Multifirefly-Project' in current_path.parts:\n",
    "    while current_path.name != 'Multifirefly-Project':\n",
    "        current_path = current_path.parent\n",
    "    %cd $current_path\n",
    "    print(\"Changed the directory to 'Multifirefly-Project'.\")\n",
    "else:\n",
    "    print(\"Multifirefly-Project directory not found in the current path.\")\n",
    "\n",
    "# add methods to the path\n",
    "path = current_path / 'multiff_analysis' / 'methods'\n",
    "if not (str(path) in sys.path):\n",
    "    sys.path.append(str(path))\n",
    "    print(f\"Added {str(path)} to the path.\")"
   ]
  },
  {
   "cell_type": "code",
   "execution_count": null,
   "metadata": {
    "colab": {
     "base_uri": "https://localhost:8080/"
    },
    "executionInfo": {
     "elapsed": 29094,
     "status": "ok",
     "timestamp": 1683238612245,
     "user": {
      "displayName": "Cici Du",
      "userId": "17701548280142155870"
     },
     "user_tz": 300
    },
    "id": "3klBkPC-Q4rw",
    "outputId": "9b955f29-f614-4ccb-c49f-3b041dbcb6a9",
    "scrolled": true
   },
   "outputs": [
    {
     "name": "stdout",
     "output_type": "stream",
     "text": [
      "/Users/dusiyi/Documents/Multifirefly-Project\n"
     ]
    },
    {
     "ename": "KeyboardInterrupt",
     "evalue": "",
     "output_type": "error",
     "traceback": [
      "\u001b[0;31m---------------------------------------------------------------------------\u001b[0m",
      "\u001b[0;31mKeyboardInterrupt\u001b[0m                         Traceback (most recent call last)",
      "Cell \u001b[0;32mIn[1], line 8\u001b[0m\n\u001b[1;32m      6\u001b[0m \u001b[38;5;28;01mif\u001b[39;00m \u001b[38;5;129;01mnot\u001b[39;00m \u001b[38;5;124m'\u001b[39m\u001b[38;5;124m/Users/dusiyi/Documents/Multifirefly-Project/multiff_analysis/methods\u001b[39m\u001b[38;5;124m'\u001b[39m \u001b[38;5;129;01min\u001b[39;00m sys\u001b[38;5;241m.\u001b[39mpath:\n\u001b[1;32m      7\u001b[0m     sys\u001b[38;5;241m.\u001b[39mpath\u001b[38;5;241m.\u001b[39mappend(\u001b[38;5;124m'\u001b[39m\u001b[38;5;124m/Users/dusiyi/Documents/Multifirefly-Project/multiff_analysis/methods\u001b[39m\u001b[38;5;124m'\u001b[39m)\n\u001b[0;32m----> 8\u001b[0m \u001b[38;5;28;01mfrom\u001b[39;00m \u001b[38;5;21;01mdata_wrangling\u001b[39;00m \u001b[38;5;28;01mimport\u001b[39;00m basic_func, process_raw_data, base_processing_class, monkey_data_classes, combine_info_utils\n\u001b[1;32m      9\u001b[0m \u001b[38;5;28;01mfrom\u001b[39;00m \u001b[38;5;21;01mpattern_discovery\u001b[39;00m \u001b[38;5;28;01mimport\u001b[39;00m pattern_by_trials, pattern_by_points, make_ff_dataframe, ff_dataframe_utils, pattern_by_trials, pattern_by_points, cluster_analysis, organize_patterns_and_features, category_class, cluster_analysis, patterns_and_features_class, compare_two_monkeys_class\n\u001b[1;32m     10\u001b[0m \u001b[38;5;28;01mfrom\u001b[39;00m \u001b[38;5;21;01mdecision_making_analysis\u001b[39;00m\u001b[38;5;21;01m.\u001b[39;00m\u001b[38;5;21;01mdecision_making\u001b[39;00m \u001b[38;5;28;01mimport\u001b[39;00m decision_making_class, decision_making_utils, plot_decision_making, intended_targets_classes\n",
      "File \u001b[0;32m~/Documents/Multifirefly-Project/multiff_analysis/methods/data_wrangling/process_raw_data.py:4\u001b[0m\n\u001b[1;32m      2\u001b[0m \u001b[38;5;28;01mif\u001b[39;00m \u001b[38;5;129;01mnot\u001b[39;00m \u001b[38;5;124m'\u001b[39m\u001b[38;5;124m/Users/dusiyi/Documents/Multifirefly-Project/multiff_analysis/methods\u001b[39m\u001b[38;5;124m'\u001b[39m \u001b[38;5;129;01min\u001b[39;00m sys\u001b[38;5;241m.\u001b[39mpath:\n\u001b[1;32m      3\u001b[0m     sys\u001b[38;5;241m.\u001b[39mpath\u001b[38;5;241m.\u001b[39mappend(\u001b[38;5;124m'\u001b[39m\u001b[38;5;124m/Users/dusiyi/Documents/Multifirefly-Project/multiff_analysis/methods\u001b[39m\u001b[38;5;124m'\u001b[39m)\n\u001b[0;32m----> 4\u001b[0m \u001b[38;5;28;01mfrom\u001b[39;00m \u001b[38;5;21;01mpattern_discovery\u001b[39;00m \u001b[38;5;28;01mimport\u001b[39;00m pattern_by_trials, pattern_by_trials\n\u001b[1;32m      5\u001b[0m \u001b[38;5;28;01mfrom\u001b[39;00m \u001b[38;5;21;01mnon_behavioral_analysis\u001b[39;00m \u001b[38;5;28;01mimport\u001b[39;00m eye_positions\n\u001b[1;32m      7\u001b[0m \u001b[38;5;28;01mimport\u001b[39;00m \u001b[38;5;21;01mos\u001b[39;00m\n",
      "File \u001b[0;32m~/Documents/Multifirefly-Project/multiff_analysis/methods/pattern_discovery/pattern_by_trials.py:5\u001b[0m\n\u001b[1;32m      3\u001b[0m     sys\u001b[38;5;241m.\u001b[39mpath\u001b[38;5;241m.\u001b[39mappend(\u001b[38;5;124m'\u001b[39m\u001b[38;5;124m/Users/dusiyi/Documents/Multifirefly-Project/multiff_analysis/methods\u001b[39m\u001b[38;5;124m'\u001b[39m)\n\u001b[1;32m      4\u001b[0m \u001b[38;5;28;01mfrom\u001b[39;00m \u001b[38;5;21;01mdata_wrangling\u001b[39;00m \u001b[38;5;28;01mimport\u001b[39;00m basic_func\n\u001b[0;32m----> 5\u001b[0m \u001b[38;5;28;01mfrom\u001b[39;00m \u001b[38;5;21;01mdecision_making_analysis\u001b[39;00m\u001b[38;5;21;01m.\u001b[39;00m\u001b[38;5;21;01mcompare_GUAT_and_TAFT\u001b[39;00m \u001b[38;5;28;01mimport\u001b[39;00m find_GUAT_or_TAFT_trials\n\u001b[1;32m      7\u001b[0m \u001b[38;5;28;01mimport\u001b[39;00m \u001b[38;5;21;01mos\u001b[39;00m\n\u001b[1;32m      8\u001b[0m \u001b[38;5;28;01mimport\u001b[39;00m \u001b[38;5;21;01mnumpy\u001b[39;00m \u001b[38;5;28;01mas\u001b[39;00m \u001b[38;5;21;01mnp\u001b[39;00m\n",
      "File \u001b[0;32m~/Documents/Multifirefly-Project/multiff_analysis/methods/decision_making_analysis/compare_GUAT_and_TAFT/find_GUAT_or_TAFT_trials.py:5\u001b[0m\n\u001b[1;32m      3\u001b[0m     sys\u001b[38;5;241m.\u001b[39mpath\u001b[38;5;241m.\u001b[39mappend(\u001b[38;5;124m'\u001b[39m\u001b[38;5;124m/Users/dusiyi/Documents/Multifirefly-Project/multiff_analysis/methods\u001b[39m\u001b[38;5;124m'\u001b[39m)\n\u001b[1;32m      4\u001b[0m \u001b[38;5;28;01mfrom\u001b[39;00m \u001b[38;5;21;01mdata_wrangling\u001b[39;00m \u001b[38;5;28;01mimport\u001b[39;00m basic_func\n\u001b[0;32m----> 5\u001b[0m \u001b[38;5;28;01mfrom\u001b[39;00m \u001b[38;5;21;01mplanning_analysis\u001b[39;00m\u001b[38;5;21;01m.\u001b[39;00m\u001b[38;5;21;01mshow_planning\u001b[39;00m \u001b[38;5;28;01mimport\u001b[39;00m alt_ff_utils\n\u001b[1;32m      7\u001b[0m \u001b[38;5;28;01mimport\u001b[39;00m \u001b[38;5;21;01mos\u001b[39;00m\n\u001b[1;32m      8\u001b[0m \u001b[38;5;28;01mimport\u001b[39;00m \u001b[38;5;21;01mnumpy\u001b[39;00m \u001b[38;5;28;01mas\u001b[39;00m \u001b[38;5;21;01mnp\u001b[39;00m\n",
      "File \u001b[0;32m~/Documents/Multifirefly-Project/multiff_analysis/methods/planning_analysis/show_planning/alt_ff_utils.py:3\u001b[0m\n\u001b[1;32m      2\u001b[0m \u001b[38;5;28;01mfrom\u001b[39;00m \u001b[38;5;21;01mdata_wrangling\u001b[39;00m \u001b[38;5;28;01mimport\u001b[39;00m basic_func\n\u001b[0;32m----> 3\u001b[0m \u001b[38;5;28;01mfrom\u001b[39;00m \u001b[38;5;21;01mpattern_discovery\u001b[39;00m \u001b[38;5;28;01mimport\u001b[39;00m cluster_analysis\n\u001b[1;32m      6\u001b[0m \u001b[38;5;28;01mimport\u001b[39;00m \u001b[38;5;21;01mpandas\u001b[39;00m \u001b[38;5;28;01mas\u001b[39;00m \u001b[38;5;21;01mpd\u001b[39;00m\n\u001b[1;32m      7\u001b[0m \u001b[38;5;28;01mimport\u001b[39;00m \u001b[38;5;21;01mnumpy\u001b[39;00m \u001b[38;5;28;01mas\u001b[39;00m \u001b[38;5;21;01mnp\u001b[39;00m\n",
      "File \u001b[0;32m~/Documents/Multifirefly-Project/multiff_analysis/methods/pattern_discovery/cluster_analysis.py:4\u001b[0m\n\u001b[1;32m      2\u001b[0m \u001b[38;5;28;01mif\u001b[39;00m \u001b[38;5;129;01mnot\u001b[39;00m \u001b[38;5;124m'\u001b[39m\u001b[38;5;124m/Users/dusiyi/Documents/Multifirefly-Project/multiff_analysis/methods\u001b[39m\u001b[38;5;124m'\u001b[39m \u001b[38;5;129;01min\u001b[39;00m sys\u001b[38;5;241m.\u001b[39mpath:\n\u001b[1;32m      3\u001b[0m     sys\u001b[38;5;241m.\u001b[39mpath\u001b[38;5;241m.\u001b[39mappend(\u001b[38;5;124m'\u001b[39m\u001b[38;5;124m/Users/dusiyi/Documents/Multifirefly-Project/multiff_analysis/methods\u001b[39m\u001b[38;5;124m'\u001b[39m)\n\u001b[0;32m----> 4\u001b[0m \u001b[38;5;28;01mfrom\u001b[39;00m \u001b[38;5;21;01mvisualization\u001b[39;00m \u001b[38;5;28;01mimport\u001b[39;00m plot_behaviors_utils\n\u001b[1;32m      5\u001b[0m \u001b[38;5;28;01mfrom\u001b[39;00m \u001b[38;5;21;01mpattern_discovery\u001b[39;00m \u001b[38;5;28;01mimport\u001b[39;00m ff_dataframe_utils\n\u001b[1;32m      6\u001b[0m \u001b[38;5;28;01mfrom\u001b[39;00m \u001b[38;5;21;01mdata_wrangling\u001b[39;00m \u001b[38;5;28;01mimport\u001b[39;00m basic_func\n",
      "File \u001b[0;32m~/Documents/Multifirefly-Project/multiff_analysis/methods/visualization/plot_behaviors_utils.py:5\u001b[0m\n\u001b[1;32m      3\u001b[0m     sys\u001b[38;5;241m.\u001b[39mpath\u001b[38;5;241m.\u001b[39mappend(\u001b[38;5;124m'\u001b[39m\u001b[38;5;124m/Users/dusiyi/Documents/Multifirefly-Project/multiff_analysis/methods\u001b[39m\u001b[38;5;124m'\u001b[39m)\n\u001b[1;32m      4\u001b[0m \u001b[38;5;28;01mfrom\u001b[39;00m \u001b[38;5;21;01mdata_wrangling\u001b[39;00m \u001b[38;5;28;01mimport\u001b[39;00m basic_func\n\u001b[0;32m----> 5\u001b[0m \u001b[38;5;28;01mfrom\u001b[39;00m \u001b[38;5;21;01mvisualization\u001b[39;00m \u001b[38;5;28;01mimport\u001b[39;00m plot_polar, plot_trials\n\u001b[1;32m      7\u001b[0m \u001b[38;5;28;01mimport\u001b[39;00m \u001b[38;5;21;01mos\u001b[39;00m\n\u001b[1;32m      8\u001b[0m \u001b[38;5;28;01mimport\u001b[39;00m \u001b[38;5;21;01mmath\u001b[39;00m\n",
      "File \u001b[0;32m~/Documents/Multifirefly-Project/multiff_analysis/methods/visualization/plot_polar.py:9\u001b[0m\n\u001b[1;32m      6\u001b[0m \u001b[38;5;28;01mfrom\u001b[39;00m \u001b[38;5;21;01mvisualization\u001b[39;00m \u001b[38;5;28;01mimport\u001b[39;00m plot_behaviors_utils\n\u001b[1;32m      8\u001b[0m \u001b[38;5;28;01mimport\u001b[39;00m \u001b[38;5;21;01mos\u001b[39;00m\n\u001b[0;32m----> 9\u001b[0m \u001b[38;5;28;01mimport\u001b[39;00m \u001b[38;5;21;01mseaborn\u001b[39;00m \u001b[38;5;28;01mas\u001b[39;00m \u001b[38;5;21;01msns\u001b[39;00m\n\u001b[1;32m     10\u001b[0m \u001b[38;5;28;01mimport\u001b[39;00m \u001b[38;5;21;01mnumpy\u001b[39;00m \u001b[38;5;28;01mas\u001b[39;00m \u001b[38;5;21;01mnp\u001b[39;00m\n\u001b[1;32m     11\u001b[0m \u001b[38;5;28;01mimport\u001b[39;00m \u001b[38;5;21;01mmatplotlib\u001b[39;00m\u001b[38;5;21;01m.\u001b[39;00m\u001b[38;5;21;01mpyplot\u001b[39;00m \u001b[38;5;28;01mas\u001b[39;00m \u001b[38;5;21;01mplt\u001b[39;00m\n",
      "File \u001b[0;32m/opt/anaconda3/envs/ff_venv/lib/python3.9/site-packages/seaborn/__init__.py:5\u001b[0m\n\u001b[1;32m      3\u001b[0m \u001b[38;5;28;01mfrom\u001b[39;00m \u001b[38;5;21;01m.\u001b[39;00m\u001b[38;5;21;01mutils\u001b[39;00m \u001b[38;5;28;01mimport\u001b[39;00m \u001b[38;5;241m*\u001b[39m  \u001b[38;5;66;03m# noqa: F401,F403\u001b[39;00m\n\u001b[1;32m      4\u001b[0m \u001b[38;5;28;01mfrom\u001b[39;00m \u001b[38;5;21;01m.\u001b[39;00m\u001b[38;5;21;01mpalettes\u001b[39;00m \u001b[38;5;28;01mimport\u001b[39;00m \u001b[38;5;241m*\u001b[39m  \u001b[38;5;66;03m# noqa: F401,F403\u001b[39;00m\n\u001b[0;32m----> 5\u001b[0m \u001b[38;5;28;01mfrom\u001b[39;00m \u001b[38;5;21;01m.\u001b[39;00m\u001b[38;5;21;01mrelational\u001b[39;00m \u001b[38;5;28;01mimport\u001b[39;00m \u001b[38;5;241m*\u001b[39m  \u001b[38;5;66;03m# noqa: F401,F403\u001b[39;00m\n\u001b[1;32m      6\u001b[0m \u001b[38;5;28;01mfrom\u001b[39;00m \u001b[38;5;21;01m.\u001b[39;00m\u001b[38;5;21;01mregression\u001b[39;00m \u001b[38;5;28;01mimport\u001b[39;00m \u001b[38;5;241m*\u001b[39m  \u001b[38;5;66;03m# noqa: F401,F403\u001b[39;00m\n\u001b[1;32m      7\u001b[0m \u001b[38;5;28;01mfrom\u001b[39;00m \u001b[38;5;21;01m.\u001b[39;00m\u001b[38;5;21;01mcategorical\u001b[39;00m \u001b[38;5;28;01mimport\u001b[39;00m \u001b[38;5;241m*\u001b[39m  \u001b[38;5;66;03m# noqa: F401,F403\u001b[39;00m\n",
      "File \u001b[0;32m/opt/anaconda3/envs/ff_venv/lib/python3.9/site-packages/seaborn/relational.py:21\u001b[0m\n\u001b[1;32m     13\u001b[0m \u001b[38;5;28;01mfrom\u001b[39;00m \u001b[38;5;21;01m.\u001b[39;00m\u001b[38;5;21;01mutils\u001b[39;00m \u001b[38;5;28;01mimport\u001b[39;00m (\n\u001b[1;32m     14\u001b[0m     adjust_legend_subtitles,\n\u001b[1;32m     15\u001b[0m     _default_color,\n\u001b[0;32m   (...)\u001b[0m\n\u001b[1;32m     18\u001b[0m     _scatter_legend_artist,\n\u001b[1;32m     19\u001b[0m )\n\u001b[1;32m     20\u001b[0m \u001b[38;5;28;01mfrom\u001b[39;00m \u001b[38;5;21;01m.\u001b[39;00m\u001b[38;5;21;01m_compat\u001b[39;00m \u001b[38;5;28;01mimport\u001b[39;00m groupby_apply_include_groups\n\u001b[0;32m---> 21\u001b[0m \u001b[38;5;28;01mfrom\u001b[39;00m \u001b[38;5;21;01m.\u001b[39;00m\u001b[38;5;21;01m_statistics\u001b[39;00m \u001b[38;5;28;01mimport\u001b[39;00m EstimateAggregator, WeightedAggregator\n\u001b[1;32m     22\u001b[0m \u001b[38;5;28;01mfrom\u001b[39;00m \u001b[38;5;21;01m.\u001b[39;00m\u001b[38;5;21;01maxisgrid\u001b[39;00m \u001b[38;5;28;01mimport\u001b[39;00m FacetGrid, _facet_docs\n\u001b[1;32m     23\u001b[0m \u001b[38;5;28;01mfrom\u001b[39;00m \u001b[38;5;21;01m.\u001b[39;00m\u001b[38;5;21;01m_docstrings\u001b[39;00m \u001b[38;5;28;01mimport\u001b[39;00m DocstringComponents, _core_docs\n",
      "File \u001b[0;32m/opt/anaconda3/envs/ff_venv/lib/python3.9/site-packages/seaborn/_statistics.py:32\u001b[0m\n\u001b[1;32m     30\u001b[0m \u001b[38;5;28;01mimport\u001b[39;00m \u001b[38;5;21;01mpandas\u001b[39;00m \u001b[38;5;28;01mas\u001b[39;00m \u001b[38;5;21;01mpd\u001b[39;00m\n\u001b[1;32m     31\u001b[0m \u001b[38;5;28;01mtry\u001b[39;00m:\n\u001b[0;32m---> 32\u001b[0m     \u001b[38;5;28;01mfrom\u001b[39;00m \u001b[38;5;21;01mscipy\u001b[39;00m\u001b[38;5;21;01m.\u001b[39;00m\u001b[38;5;21;01mstats\u001b[39;00m \u001b[38;5;28;01mimport\u001b[39;00m gaussian_kde\n\u001b[1;32m     33\u001b[0m     _no_scipy \u001b[38;5;241m=\u001b[39m \u001b[38;5;28;01mFalse\u001b[39;00m\n\u001b[1;32m     34\u001b[0m \u001b[38;5;28;01mexcept\u001b[39;00m \u001b[38;5;167;01mImportError\u001b[39;00m:\n",
      "File \u001b[0;32m/opt/anaconda3/envs/ff_venv/lib/python3.9/site-packages/scipy/stats/__init__.py:606\u001b[0m\n\u001b[1;32m      1\u001b[0m \u001b[38;5;124;03m\"\"\"\u001b[39;00m\n\u001b[1;32m      2\u001b[0m \u001b[38;5;124;03m.. _statsrefmanual:\u001b[39;00m\n\u001b[1;32m      3\u001b[0m \n\u001b[0;32m   (...)\u001b[0m\n\u001b[1;32m    601\u001b[0m \n\u001b[1;32m    602\u001b[0m \u001b[38;5;124;03m\"\"\"\u001b[39;00m  \u001b[38;5;66;03m# noqa: E501\u001b[39;00m\n\u001b[1;32m    604\u001b[0m \u001b[38;5;28;01mfrom\u001b[39;00m \u001b[38;5;21;01m.\u001b[39;00m\u001b[38;5;21;01m_warnings_errors\u001b[39;00m \u001b[38;5;28;01mimport\u001b[39;00m (ConstantInputWarning, NearConstantInputWarning,\n\u001b[1;32m    605\u001b[0m                                DegenerateDataWarning, FitError)\n\u001b[0;32m--> 606\u001b[0m \u001b[38;5;28;01mfrom\u001b[39;00m \u001b[38;5;21;01m.\u001b[39;00m\u001b[38;5;21;01m_stats_py\u001b[39;00m \u001b[38;5;28;01mimport\u001b[39;00m \u001b[38;5;241m*\u001b[39m\n\u001b[1;32m    607\u001b[0m \u001b[38;5;28;01mfrom\u001b[39;00m \u001b[38;5;21;01m.\u001b[39;00m\u001b[38;5;21;01m_variation\u001b[39;00m \u001b[38;5;28;01mimport\u001b[39;00m variation\n\u001b[1;32m    608\u001b[0m \u001b[38;5;28;01mfrom\u001b[39;00m \u001b[38;5;21;01m.\u001b[39;00m\u001b[38;5;21;01mdistributions\u001b[39;00m \u001b[38;5;28;01mimport\u001b[39;00m \u001b[38;5;241m*\u001b[39m\n",
      "File \u001b[0;32m/opt/anaconda3/envs/ff_venv/lib/python3.9/site-packages/scipy/stats/_stats_py.py:49\u001b[0m\n\u001b[1;32m     47\u001b[0m \u001b[38;5;28;01mimport\u001b[39;00m \u001b[38;5;21;01mscipy\u001b[39;00m\u001b[38;5;21;01m.\u001b[39;00m\u001b[38;5;21;01mspecial\u001b[39;00m \u001b[38;5;28;01mas\u001b[39;00m \u001b[38;5;21;01mspecial\u001b[39;00m\n\u001b[1;32m     48\u001b[0m \u001b[38;5;28;01mfrom\u001b[39;00m \u001b[38;5;21;01mscipy\u001b[39;00m \u001b[38;5;28;01mimport\u001b[39;00m linalg\n\u001b[0;32m---> 49\u001b[0m \u001b[38;5;28;01mfrom\u001b[39;00m \u001b[38;5;21;01m.\u001b[39;00m \u001b[38;5;28;01mimport\u001b[39;00m distributions\n\u001b[1;32m     50\u001b[0m \u001b[38;5;28;01mfrom\u001b[39;00m \u001b[38;5;21;01m.\u001b[39;00m \u001b[38;5;28;01mimport\u001b[39;00m _mstats_basic \u001b[38;5;28;01mas\u001b[39;00m mstats_basic\n\u001b[1;32m     51\u001b[0m \u001b[38;5;28;01mfrom\u001b[39;00m \u001b[38;5;21;01m.\u001b[39;00m\u001b[38;5;21;01m_stats_mstats_common\u001b[39;00m \u001b[38;5;28;01mimport\u001b[39;00m (_find_repeats, linregress, theilslopes,\n\u001b[1;32m     52\u001b[0m                                    siegelslopes)\n",
      "File \u001b[0;32m/opt/anaconda3/envs/ff_venv/lib/python3.9/site-packages/scipy/stats/distributions.py:10\u001b[0m\n\u001b[1;32m      1\u001b[0m \u001b[38;5;66;03m#\u001b[39;00m\n\u001b[1;32m      2\u001b[0m \u001b[38;5;66;03m# Author:  Travis Oliphant  2002-2011 with contributions from\u001b[39;00m\n\u001b[1;32m      3\u001b[0m \u001b[38;5;66;03m#          SciPy Developers 2004-2011\u001b[39;00m\n\u001b[0;32m   (...)\u001b[0m\n\u001b[1;32m      6\u001b[0m \u001b[38;5;66;03m#       instead of `git blame -Lxxx,+x`.\u001b[39;00m\n\u001b[1;32m      7\u001b[0m \u001b[38;5;66;03m#\u001b[39;00m\n\u001b[1;32m      8\u001b[0m \u001b[38;5;28;01mfrom\u001b[39;00m \u001b[38;5;21;01m.\u001b[39;00m\u001b[38;5;21;01m_distn_infrastructure\u001b[39;00m \u001b[38;5;28;01mimport\u001b[39;00m (rv_discrete, rv_continuous, rv_frozen)  \u001b[38;5;66;03m# noqa: F401\u001b[39;00m\n\u001b[0;32m---> 10\u001b[0m \u001b[38;5;28;01mfrom\u001b[39;00m \u001b[38;5;21;01m.\u001b[39;00m \u001b[38;5;28;01mimport\u001b[39;00m _continuous_distns\n\u001b[1;32m     11\u001b[0m \u001b[38;5;28;01mfrom\u001b[39;00m \u001b[38;5;21;01m.\u001b[39;00m \u001b[38;5;28;01mimport\u001b[39;00m _discrete_distns\n\u001b[1;32m     13\u001b[0m \u001b[38;5;28;01mfrom\u001b[39;00m \u001b[38;5;21;01m.\u001b[39;00m\u001b[38;5;21;01m_continuous_distns\u001b[39;00m \u001b[38;5;28;01mimport\u001b[39;00m \u001b[38;5;241m*\u001b[39m  \u001b[38;5;66;03m# noqa: F403\u001b[39;00m\n",
      "File \u001b[0;32m/opt/anaconda3/envs/ff_venv/lib/python3.9/site-packages/scipy/stats/_continuous_distns.py:1798\u001b[0m\n\u001b[1;32m   1794\u001b[0m         h \u001b[38;5;241m=\u001b[39m stats\u001b[38;5;241m.\u001b[39mweibull_min\u001b[38;5;241m.\u001b[39m_entropy(c) \u001b[38;5;241m-\u001b[39m np\u001b[38;5;241m.\u001b[39mlog(\u001b[38;5;241m0.5\u001b[39m)\n\u001b[1;32m   1795\u001b[0m         \u001b[38;5;28;01mreturn\u001b[39;00m h\n\u001b[0;32m-> 1798\u001b[0m dweibull \u001b[38;5;241m=\u001b[39m \u001b[43mdweibull_gen\u001b[49m\u001b[43m(\u001b[49m\u001b[43mname\u001b[49m\u001b[38;5;241;43m=\u001b[39;49m\u001b[38;5;124;43m'\u001b[39;49m\u001b[38;5;124;43mdweibull\u001b[39;49m\u001b[38;5;124;43m'\u001b[39;49m\u001b[43m)\u001b[49m\n\u001b[1;32m   1801\u001b[0m \u001b[38;5;28;01mclass\u001b[39;00m \u001b[38;5;21;01mexpon_gen\u001b[39;00m(rv_continuous):\n\u001b[1;32m   1802\u001b[0m \u001b[38;5;250m    \u001b[39m\u001b[38;5;124mr\u001b[39m\u001b[38;5;124;03m\"\"\"An exponential continuous random variable.\u001b[39;00m\n\u001b[1;32m   1803\u001b[0m \n\u001b[1;32m   1804\u001b[0m \u001b[38;5;124;03m    %(before_notes)s\u001b[39;00m\n\u001b[0;32m   (...)\u001b[0m\n\u001b[1;32m   1826\u001b[0m \n\u001b[1;32m   1827\u001b[0m \u001b[38;5;124;03m    \"\"\"\u001b[39;00m\n",
      "File \u001b[0;32m/opt/anaconda3/envs/ff_venv/lib/python3.9/site-packages/scipy/stats/_distn_infrastructure.py:1850\u001b[0m, in \u001b[0;36mrv_continuous.__init__\u001b[0;34m(self, momtype, a, b, xtol, badvalue, name, longname, shapes, seed)\u001b[0m\n\u001b[1;32m   1848\u001b[0m \u001b[38;5;28;01melse\u001b[39;00m:\n\u001b[1;32m   1849\u001b[0m     dct \u001b[38;5;241m=\u001b[39m \u001b[38;5;28mdict\u001b[39m(distcont)\n\u001b[0;32m-> 1850\u001b[0m     \u001b[38;5;28;43mself\u001b[39;49m\u001b[38;5;241;43m.\u001b[39;49m\u001b[43m_construct_doc\u001b[49m\u001b[43m(\u001b[49m\u001b[43mdocdict\u001b[49m\u001b[43m,\u001b[49m\u001b[43m \u001b[49m\u001b[43mdct\u001b[49m\u001b[38;5;241;43m.\u001b[39;49m\u001b[43mget\u001b[49m\u001b[43m(\u001b[49m\u001b[38;5;28;43mself\u001b[39;49m\u001b[38;5;241;43m.\u001b[39;49m\u001b[43mname\u001b[49m\u001b[43m)\u001b[49m\u001b[43m)\u001b[49m\n",
      "File \u001b[0;32m/opt/anaconda3/envs/ff_venv/lib/python3.9/site-packages/scipy/stats/_distn_infrastructure.py:812\u001b[0m, in \u001b[0;36mrv_generic._construct_doc\u001b[0;34m(self, docdict, shapes_vals)\u001b[0m\n\u001b[1;32m    810\u001b[0m     \u001b[38;5;28mself\u001b[39m\u001b[38;5;241m.\u001b[39m\u001b[38;5;18m__doc__\u001b[39m \u001b[38;5;241m=\u001b[39m \u001b[38;5;28mself\u001b[39m\u001b[38;5;241m.\u001b[39m\u001b[38;5;18m__doc__\u001b[39m\u001b[38;5;241m.\u001b[39mreplace(\u001b[38;5;124m\"\u001b[39m\u001b[38;5;132;01m%(shapes)s\u001b[39;00m\u001b[38;5;124m, \u001b[39m\u001b[38;5;124m\"\u001b[39m, \u001b[38;5;124m\"\u001b[39m\u001b[38;5;124m\"\u001b[39m)\n\u001b[1;32m    811\u001b[0m \u001b[38;5;28;01mtry\u001b[39;00m:\n\u001b[0;32m--> 812\u001b[0m     \u001b[38;5;28mself\u001b[39m\u001b[38;5;241m.\u001b[39m\u001b[38;5;18m__doc__\u001b[39m \u001b[38;5;241m=\u001b[39m \u001b[43mdoccer\u001b[49m\u001b[38;5;241;43m.\u001b[39;49m\u001b[43mdocformat\u001b[49m\u001b[43m(\u001b[49m\u001b[38;5;28;43mself\u001b[39;49m\u001b[38;5;241;43m.\u001b[39;49m\u001b[38;5;18;43m__doc__\u001b[39;49m\u001b[43m,\u001b[49m\u001b[43m \u001b[49m\u001b[43mtempdict\u001b[49m\u001b[43m)\u001b[49m\n\u001b[1;32m    813\u001b[0m \u001b[38;5;28;01mexcept\u001b[39;00m \u001b[38;5;167;01mTypeError\u001b[39;00m \u001b[38;5;28;01mas\u001b[39;00m e:\n\u001b[1;32m    814\u001b[0m     \u001b[38;5;28;01mraise\u001b[39;00m \u001b[38;5;167;01mException\u001b[39;00m(\u001b[38;5;124m\"\u001b[39m\u001b[38;5;124mUnable to construct docstring for \u001b[39m\u001b[38;5;124m\"\u001b[39m\n\u001b[1;32m    815\u001b[0m                     \u001b[38;5;124mf\u001b[39m\u001b[38;5;124m\"\u001b[39m\u001b[38;5;124mdistribution \u001b[39m\u001b[38;5;130;01m\\\"\u001b[39;00m\u001b[38;5;132;01m{\u001b[39;00m\u001b[38;5;28mself\u001b[39m\u001b[38;5;241m.\u001b[39mname\u001b[38;5;132;01m}\u001b[39;00m\u001b[38;5;130;01m\\\"\u001b[39;00m\u001b[38;5;124m: \u001b[39m\u001b[38;5;132;01m{\u001b[39;00m\u001b[38;5;28mrepr\u001b[39m(e)\u001b[38;5;132;01m}\u001b[39;00m\u001b[38;5;124m\"\u001b[39m) \u001b[38;5;28;01mfrom\u001b[39;00m \u001b[38;5;21;01me\u001b[39;00m\n",
      "File \u001b[0;32m/opt/anaconda3/envs/ff_venv/lib/python3.9/site-packages/scipy/_lib/doccer.py:64\u001b[0m, in \u001b[0;36mdocformat\u001b[0;34m(docstring, docdict)\u001b[0m\n\u001b[1;32m     62\u001b[0m \u001b[38;5;28;01mtry\u001b[39;00m:\n\u001b[1;32m     63\u001b[0m     newlines \u001b[38;5;241m=\u001b[39m [lines[\u001b[38;5;241m0\u001b[39m]]\n\u001b[0;32m---> 64\u001b[0m     \u001b[38;5;28;01mfor\u001b[39;00m line \u001b[38;5;129;01min\u001b[39;00m \u001b[43mlines\u001b[49m\u001b[43m[\u001b[49m\u001b[38;5;241;43m1\u001b[39;49m\u001b[43m:\u001b[49m\u001b[43m]\u001b[49m:\n\u001b[1;32m     65\u001b[0m         newlines\u001b[38;5;241m.\u001b[39mappend(indent\u001b[38;5;241m+\u001b[39mline)\n\u001b[1;32m     66\u001b[0m     indented[name] \u001b[38;5;241m=\u001b[39m \u001b[38;5;124m'\u001b[39m\u001b[38;5;130;01m\\n\u001b[39;00m\u001b[38;5;124m'\u001b[39m\u001b[38;5;241m.\u001b[39mjoin(newlines)\n",
      "\u001b[0;31mKeyboardInterrupt\u001b[0m: "
     ]
    }
   ],
   "source": [
    "%cd /Users/dusiyi/Documents/Multifirefly-Project\n",
    "%load_ext autoreload\n",
    "%autoreload 2\n",
    "\n",
    "import sys\n",
    "from data_wrangling import basic_func, process_raw_data, base_processing_class, monkey_data_classes, combine_info_utils\n",
    "from pattern_discovery import pattern_by_trials, pattern_by_points, make_ff_dataframe, ff_dataframe_utils, pattern_by_trials, pattern_by_points, cluster_analysis, organize_patterns_and_features, category_class, cluster_analysis, patterns_and_features_class, compare_two_monkeys_class\n",
    "from decision_making_analysis.decision_making import decision_making_class, decision_making_utils, plot_decision_making, intended_targets_classes\n",
    "from decision_making_analysis.compare_GUAT_and_TAFT import find_GUAT_or_TAFT_trials\n",
    "from decision_making_analysis.GUAT import GUAT_helper_class, GUAT_collect_info_class, GUAT_combine_info_class, process_GUAT_trials_class, GUAT_and_TAFT\n",
    "from decision_making_analysis import free_selection, replacement, trajectory_info\n",
    "from null_behaviors import show_null_trajectory, find_best_arc, curvature_utils, curvature_class, curv_of_traj_utils\n",
    "from machine_learning import machine_learning_utils, hyperparameter_tuning_class\n",
    "from machine_learning.RL.env_related import env_for_lstm, env_utils, base_env, collect_agent_data_utils\n",
    "from machine_learning.RL.lstm import GRU_functions, LSTM_functions\n",
    "from machine_learning.RL.SB3 import interpret_neural_network, sb3_for_multiff_class, rl_for_multiff_utils, SB3_functions\n",
    "from visualization import plot_trials, animation_func, plot_behaviors_utils, monkey_heading_functions, plot_statistics, plot_change_over_time\n",
    "from planning_analysis.test_params_for_planning import params_test_combos_class, params_utils\n",
    "from visualization.plotly_tools import plotly_for_monkey, plotly_for_scatterplot, plotly_preparation, plotly_for_correlation\n",
    "from visualization.dash_tools import dash_prep_class, dash_utils, dash_utils, dash_comparison_class, dash_params_class\n",
    "from visualization.dash_tools.dash_main_class_methods import dash_main_class\n",
    "from non_behavioral_analysis import neural_data_processing\n",
    "from non_behavioral_analysis.planning_neural import planning_neural_class\n",
    "from planning_analysis.only_stop_ff import only_stop_ff_utils, only_stop_ff_class, only_stop_ff_utils\n",
    "from planning_analysis.plan_factors import plan_factors_utils, plan_factors_class, monkey_plan_factors_x_sess_class\n",
    "from planning_analysis.agent_analysis import compare_monkey_and_agent_utils, agent_plan_factors_class, agent_plan_factors_x_sess_class\n",
    "from planning_analysis.plan_factors import test_vs_control_utils\n",
    "from planning_analysis.variations_of_factors_vs_results import make_variations_utils, plot_variations_utils, process_variations_utils\n",
    "from planning_analysis.show_planning import alt_ff_utils, show_planning_class, show_planning_utils, examine_null_arcs\n",
    "from planning_analysis.show_planning.get_stops_near_ff import find_stops_near_ff_class, find_stops_near_ff_utils, plot_stops_near_ff_class, plot_stops_near_ff_utils, plot_monkey_heading_helper_class, stops_near_ff_based_on_ref_class\n",
    "from planning_analysis import ml_methods_class, ml_methods_utils\n",
    "\n",
    "from importlib import reload\n",
    "from non_behavioral_analysis import eye_positions\n",
    "import os\n",
    "import numpy as np\n",
    "import matplotlib\n",
    "import matplotlib.pyplot as plt\n",
    "from sklearn.ensemble import BaggingRegressor, AdaBoostRegressor, RandomForestRegressor\n",
    "from sklearn.preprocessing import PolynomialFeatures\n",
    "from sklearn.linear_model import LinearRegression\n",
    "from matplotlib import cm\n",
    "from os.path import exists\n",
    "import seaborn as sns\n",
    "import math\n",
    "import copy\n",
    "import matplotlib.pyplot as plt\n",
    "import pandas as pd\n",
    "import torch\n",
    "import torch.nn as nn\n",
    "import torch.optim as optim\n",
    "import tqdm\n",
    "import itertools\n",
    "import plotly.express as px\n",
    "from scipy.stats import rankdata\n",
    "from scipy import stats\n",
    "from IPython.display import HTML\n",
    "from matplotlib import rc\n",
    "from sklearn.model_selection import train_test_split\n",
    "from sklearn.preprocessing import OneHotEncoder\n",
    "from sklearn.datasets import make_multilabel_classification\n",
    "from sklearn.model_selection import train_test_split\n",
    "from sklearn.multioutput import MultiOutputClassifier\n",
    "from sklearn.neighbors import KNeighborsClassifier\n",
    "from sklearn.metrics import accuracy_score, hamming_loss, multilabel_confusion_matrix, fbeta_score, precision_score, recall_score\n",
    "from sklearn.svm import SVC\n",
    "from sklearn.tree import DecisionTreeClassifier\n",
    "from sklearn.ensemble import AdaBoostClassifier, RandomForestClassifier, VotingClassifier, BaggingClassifier, GradientBoostingClassifier\n",
    "from sklearn.neural_network import MLPClassifier\n",
    "from sklearn.linear_model import LinearRegression\n",
    "from sklearn.neighbors import KNeighborsRegressor, KNeighborsClassifier\n",
    "from sklearn.naive_bayes import GaussianNB\n",
    "from sklearn.linear_model import LogisticRegression\n",
    "from math import pi\n",
    "from scipy.ndimage import gaussian_filter1d\n",
    "from statsmodels.graphics.tsaplots import plot_acf\n",
    "import warnings\n",
    "import os, sys\n",
    "from sklearn.exceptions import ConvergenceWarning\n",
    "import plotly.graph_objects as go\n",
    "import gc\n",
    "from sklearn.linear_model import LogisticRegression\n",
    "from sklearn.linear_model import LassoCV\n",
    "from sklearn.model_selection import train_test_split\n",
    "from sklearn.preprocessing import StandardScaler\n",
    "from non_behavioral_analysis import neural_analysis\n",
    "\n",
    "\n",
    "plt.rcParams[\"animation.html\"] = \"html5\"\n",
    "os.environ['KMP_DUPLICATE_LIB_OK']='True'\n",
    "rc('animation', html='jshtml')\n",
    "matplotlib.rcParams.update(matplotlib.rcParamsDefault)\n",
    "matplotlib.rcParams['animation.embed_limit'] = 2**128\n",
    "pd.set_option('display.float_format', lambda x: '%.5f' % x)\n",
    "np.set_printoptions(suppress=True)\n",
    "pd.options.display.max_rows = 101"
   ]
  },
  {
   "attachments": {},
   "cell_type": "markdown",
   "metadata": {
    "id": "vpfLmmTI8Xd4"
   },
   "source": [
    "# Retrieve individual monkey data"
   ]
  },
  {
   "cell_type": "code",
   "execution_count": null,
   "metadata": {
    "id": "Kr3-6NlXG7hw"
   },
   "outputs": [],
   "source": [
    "monkey_data_folder_path = \"all_monkey_data/raw_monkey_data/individual_monkey_data/monkey_Bruno/data_0220\"\n",
    "data_item = monkey_data_classes.ProcessMonkeyData(raw_data_folder_path=monkey_data_folder_path)\n",
    "data_item.retrieve_or_make_monkey_data()\n",
    "data_item.make_or_retrieve_ff_dataframe(exists_ok=True)\n",
    "# data_item.find_patterns()\n",
    "# data_item.make_or_retrieve_all_trial_patterns(exists_ok=True)\n",
    "# data_item.make_or_retrieve_pattern_frequencies(exists_ok=True)\n",
    "# data_item.make_or_retrieve_all_trial_features(exists_ok=True)\n",
    "# data_item.make_or_retrieve_feature_statistics(exists_ok=True)\n",
    "# data_item.make_info_of_monkey()\n",
    "# data_item.make_or_retrieve_target_closest()\n",
    "# data_item.make_or_retrieve_target_angle_smallest()\n",
    "# data_item.make_distance_dataframe()\n",
    "# data_item.make_angle_dataframe()\n",
    "\n",
    "# monkey_information = data_item.monkey_information\n",
    "# target_closest = data_item.target_closest\n",
    "# target_angle_smallest = data_item.target_angle_smallest\n",
    "# ff_dataframe = data_item.ff_dataframe\n",
    "\n",
    "# ff_life_sorted = data_item.ff_life_sorted\n",
    "# ff_real_position_sorted = data_item.ff_real_position_sorted\n",
    "# ff_believed_position_sorted = data_item.ff_believed_position_sorted\n",
    "# cluster_around_target_indices = data_item.cluster_around_target_indices\n",
    "# ff_caught_T_sorted = data_item.ff_caught_T_sorted\n",
    "# ff_flash_sorted = data_item.ff_flash_sorted\n",
    "\n",
    "# all_trial_patterns = data_item.all_trial_patterns\n",
    "# all_trial_features = data_item.all_trial_features\n",
    "# pattern_frequencies = data_item.pattern_frequencies\n",
    "# feature_statistics = data_item.feature_statistics\n",
    "# info_of_monkey = data_item.info_of_monkey\n",
    "# distance_dataframe = data_item.distance_dataframe\n",
    "# angle_dataframe = data_item.angle_dataframe\n",
    "# trial_vs_distance = data_item.trial_vs_distance\n",
    "# trial_vs_angle = data_item.trial_vs_angle"
   ]
  },
  {
   "cell_type": "markdown",
   "metadata": {},
   "source": [
    "# Success Rate Comparison"
   ]
  },
  {
   "cell_type": "markdown",
   "metadata": {},
   "source": [
    "## get data"
   ]
  },
  {
   "cell_type": "code",
   "execution_count": 3,
   "metadata": {},
   "outputs": [],
   "source": [
    "bruno = patterns_and_features_class.PatternsAndFeatures(monkey_name='monkey_Bruno')\n",
    "bruno.combine_patterns_and_features(verbose=False)"
   ]
  },
  {
   "cell_type": "code",
   "execution_count": 186,
   "metadata": {},
   "outputs": [],
   "source": [
    "schro = patterns_and_features_class.PatternsAndFeatures(monkey_name='monkey_Schro')\n",
    "schro.combine_patterns_and_features(verbose=False)"
   ]
  },
  {
   "cell_type": "code",
   "execution_count": 46,
   "metadata": {},
   "outputs": [],
   "source": [
    "# Bruno\n",
    "sub1 = bruno.agg_pattern_frequencies[bruno.agg_pattern_frequencies['Item'].isin(['ff_capture_rate', 'stop_success_rate'])].copy()\n",
    "sub1 = sub1[['Frequency', 'Label', 'Rate']].reset_index(drop=True).rename(columns={'Frequency': 'Total Captured FF'})"
   ]
  },
  {
   "cell_type": "code",
   "execution_count": 47,
   "metadata": {},
   "outputs": [],
   "source": [
    "# Schro\n",
    "sub2 = schro.agg_pattern_frequencies[schro.agg_pattern_frequencies['Item'].isin(['ff_capture_rate', 'stop_success_rate'])].copy()\n",
    "sub2 = sub2[['Frequency', 'Label', 'Rate']].reset_index(drop=True).rename(columns={'Frequency': 'Total Captured FF'})"
   ]
  },
  {
   "cell_type": "code",
   "execution_count": 48,
   "metadata": {},
   "outputs": [],
   "source": [
    "## Combine them\n",
    "sub1['Monkey'] = 'Bruno'\n",
    "sub2['Monkey'] = 'Schro'\n",
    "\n",
    "both_sub = pd.concat([sub1, sub2], axis=0).reset_index(drop=True)\n"
   ]
  },
  {
   "cell_type": "code",
   "execution_count": 55,
   "metadata": {},
   "outputs": [],
   "source": [
    "both_sub = both_sub.melt(id_vars=['Monkey', 'Label'], value_vars=['Rate']).sort_values(by=['Label', 'Monkey']).drop(columns=['variable']).reset_index(drop=True)"
   ]
  },
  {
   "cell_type": "code",
   "execution_count": 82,
   "metadata": {},
   "outputs": [],
   "source": [
    "both_sub = both_sub.rename(columns={'Label': 'statistic'})"
   ]
  },
  {
   "cell_type": "markdown",
   "metadata": {},
   "source": [
    "## plot comparison"
   ]
  },
  {
   "cell_type": "code",
   "execution_count": null,
   "metadata": {},
   "outputs": [],
   "source": [
    "import plotly.express as px\n",
    "\n",
    "# make a barplot out of both_sub\n",
    "# change the width of the fig\n",
    "fig = px.bar(both_sub, x='statistic', y='value', color='Monkey', barmode='group', text='value', title='FF Capture Rate and Stop Success Rate', width=500)  # Adjust the width as needed\n",
    "\n",
    "# make the text only 3 decimal\n",
    "fig.update_traces(texttemplate='%{text:.3f}', textposition='outside')\n",
    "\n",
    "# increase y lim a little bit to make sure no text is blocked\n",
    "fig.update_yaxes(range=[0, max(both_sub['value']) + 0.1])\n",
    "\n",
    "# Show the figure\n",
    "fig.show()"
   ]
  },
  {
   "cell_type": "markdown",
   "metadata": {},
   "source": [
    "## compare single-ff success rate"
   ]
  },
  {
   "cell_type": "code",
   "execution_count": 79,
   "metadata": {},
   "outputs": [],
   "source": [
    "single_ff = pd.DataFrame({'Bruno': [0.514, 0.570], 'Schro': [0.454, 0.475]}, index=['Mean', 'Median']).reset_index(drop=False).rename(columns={'index': 'statistic'})\n",
    "single_ff = single_ff.melt(id_vars=['statistic'], value_vars=['Bruno', 'Schro'])\n",
    "single_ff = single_ff.sort_values(by=['statistic']).reset_index(drop=True).rename(columns={'variable': 'monkey'})"
   ]
  },
  {
   "cell_type": "code",
   "execution_count": null,
   "metadata": {},
   "outputs": [],
   "source": [
    "single_ff"
   ]
  },
  {
   "cell_type": "code",
   "execution_count": null,
   "metadata": {},
   "outputs": [],
   "source": [
    "import plotly.express as px\n",
    "\n",
    "# make a barplot out of both_sub\n",
    "# change the width of the fig\n",
    "fig = px.bar(single_ff, x='statistic', y='value', color='monkey', barmode='group', text='value', title='Mean and Median Success Ratee', width=500)  # Adjust the width as needed\n",
    "\n",
    "# make the text only 3 decimal\n",
    "fig.update_traces(texttemplate='%{text:.3f}', textposition='outside')\n",
    "\n",
    "# increase y lim a little bit to make sure no text is blocked\n",
    "fig.update_yaxes(range=[0, max(both_sub['value']) + 0.1])\n",
    "\n",
    "# Show the figure\n",
    "fig.show()"
   ]
  },
  {
   "attachments": {},
   "cell_type": "markdown",
   "metadata": {
    "id": "7CKlu77jK9mL"
   },
   "source": [
    "# Individual monkey patterns and statistics data"
   ]
  },
  {
   "attachments": {},
   "cell_type": "markdown",
   "metadata": {
    "id": "KjctDk7r_lK0"
   },
   "source": [
    "## get data"
   ]
  },
  {
   "cell_type": "code",
   "execution_count": 77,
   "metadata": {},
   "outputs": [],
   "source": [
    "monkey_name = 'Bruno'\n",
    "bruno = patterns_and_features_class.PatternsAndFeatures(monkey_name='monkey_Bruno')\n",
    "bruno.combine_patterns_and_features(verbose=False)\n",
    "\n",
    "agg_pattern_frequencies = bruno.agg_pattern_frequencies.copy()\n",
    "agg_feature_statistics = bruno.agg_feature_statistics.copy()\n",
    "concat_pattern_frequencies = bruno.concat_pattern_frequencies.copy()\n",
    "concat_feature_statistics = bruno.concat_feature_statistics.copy()\n",
    "concat_all_trial_features = bruno.concat_all_trial_features.copy()"
   ]
  },
  {
   "cell_type": "code",
   "execution_count": 82,
   "metadata": {},
   "outputs": [],
   "source": [
    "monkey_name = 'Schro'\n",
    "schro = patterns_and_features_class.PatternsAndFeatures(monkey_name='monkey_Schro')\n",
    "schro.combine_patterns_and_features(verbose=False)\n",
    "\n",
    "agg_pattern_frequencies = schro.agg_pattern_frequencies.copy()\n",
    "agg_feature_statistics = schro.agg_feature_statistics.copy()\n",
    "concat_pattern_frequencies = schro.concat_pattern_frequencies.copy()\n",
    "concat_feature_statistics = schro.concat_feature_statistics.copy()\n",
    "concat_all_trial_features = schro.concat_all_trial_features.copy()"
   ]
  },
  {
   "attachments": {},
   "cell_type": "markdown",
   "metadata": {
    "id": "IiHVwOfM72GK"
   },
   "source": [
    "## plot pattern_frequencies"
   ]
  },
  {
   "cell_type": "code",
   "execution_count": null,
   "metadata": {},
   "outputs": [],
   "source": [
    "bruno.plot_pattern_frequencies()"
   ]
  },
  {
   "cell_type": "code",
   "execution_count": null,
   "metadata": {},
   "outputs": [],
   "source": [
    "schro.plot_pattern_frequencies()"
   ]
  },
  {
   "attachments": {},
   "cell_type": "markdown",
   "metadata": {
    "id": "vcI3yQ6YFp49"
   },
   "source": [
    "## plot_statistics.plot_feature_statistics"
   ]
  },
  {
   "cell_type": "code",
   "execution_count": null,
   "metadata": {},
   "outputs": [],
   "source": [
    "bruno.plot_feature_statistics()"
   ]
  },
  {
   "cell_type": "code",
   "execution_count": null,
   "metadata": {},
   "outputs": [],
   "source": [
    "schro.plot_feature_statistics()"
   ]
  },
  {
   "attachments": {},
   "cell_type": "markdown",
   "metadata": {
    "id": "Hjlhxi4WQ6bD"
   },
   "source": [
    "## changes over time\n"
   ]
  },
  {
   "cell_type": "markdown",
   "metadata": {},
   "source": [
    "### patterns"
   ]
  },
  {
   "cell_type": "code",
   "execution_count": null,
   "metadata": {},
   "outputs": [],
   "source": [
    "bruno.plot_the_changes_in_pattern_frequencies_over_time()"
   ]
  },
  {
   "attachments": {},
   "cell_type": "markdown",
   "metadata": {
    "id": "3jTzAF8TF9Mx"
   },
   "source": [
    "### features"
   ]
  },
  {
   "cell_type": "code",
   "execution_count": null,
   "metadata": {},
   "outputs": [],
   "source": [
    "bruno.plot_the_changes_in_feature_statistics_over_time()"
   ]
  },
  {
   "cell_type": "markdown",
   "metadata": {},
   "source": [
    "# Bruno vs Schro"
   ]
  },
  {
   "cell_type": "code",
   "execution_count": null,
   "metadata": {},
   "outputs": [],
   "source": [
    "tm = compare_two_monkeys_class.CompareTwoMonkeys()"
   ]
  },
  {
   "cell_type": "markdown",
   "metadata": {},
   "source": [
    "### plot patterns"
   ]
  },
  {
   "cell_type": "code",
   "execution_count": null,
   "metadata": {},
   "outputs": [],
   "source": [
    "tm.plot_pattern_frequencies()"
   ]
  },
  {
   "cell_type": "markdown",
   "metadata": {},
   "source": [
    "### plot features"
   ]
  },
  {
   "cell_type": "code",
   "execution_count": null,
   "metadata": {},
   "outputs": [],
   "source": [
    "tm.plot_feature_statistics()"
   ]
  },
  {
   "cell_type": "markdown",
   "metadata": {},
   "source": [
    "### changes over time"
   ]
  },
  {
   "cell_type": "markdown",
   "metadata": {},
   "source": [
    "#### patterns"
   ]
  },
  {
   "cell_type": "code",
   "execution_count": null,
   "metadata": {},
   "outputs": [],
   "source": [
    "tm.plot_the_changes_in_pattern_frequencies_over_time()"
   ]
  },
  {
   "cell_type": "markdown",
   "metadata": {},
   "source": [
    "#### features"
   ]
  },
  {
   "cell_type": "code",
   "execution_count": null,
   "metadata": {},
   "outputs": [],
   "source": [
    "tm.plot_the_changes_in_feature_statistics_over_time()"
   ]
  },
  {
   "attachments": {},
   "cell_type": "markdown",
   "metadata": {
    "id": "PTU3cvinmuFw"
   },
   "source": [
    "# Plots of statistics"
   ]
  },
  {
   "attachments": {},
   "cell_type": "markdown",
   "metadata": {
    "id": "v8G_GwcWsEss"
   },
   "source": [
    "## Plot all_trial_features in box plots"
   ]
  },
  {
   "cell_type": "code",
   "execution_count": 202,
   "metadata": {},
   "outputs": [],
   "source": [
    "all_trial_features = concat_all_trial_features"
   ]
  },
  {
   "cell_type": "code",
   "execution_count": null,
   "metadata": {
    "id": "vOKZjOjasN5u"
   },
   "outputs": [],
   "source": [
    "columns_of_interest = ['t', 't_last_visible', 'd_last_visible','abs_angle_last_visible', 'num_stops', 'num_stops_near_target']\n",
    "titles_of_columns = {'t': 'Trial Duration',\n",
    "                     't_last_visible': 'Trial Duration Since Target Last Visible',\n",
    "                     'd_last_visible':'Distance of Target Since Target Last Visible',\n",
    "                     'abs_angle_last_visible': 'Abs Angle of Target Boundary Since Target Last Visible',\n",
    "                     'num_stops': 'Number of Stops during a Trial',\n",
    "                     'num_stops_near_target': 'Number of Stops near a Target',\n",
    "}\n",
    "x_lables_of_columns = {'t': 'Duration in s',\n",
    "                      't_last_visible': 'Duration in s',\n",
    "                      'd_last_visible':'Distance',\n",
    "                      'abs_angle_last_visible': 'Angle in radians',\n",
    "                      'num_stops': 'Number of Stops',\n",
    "                      'num_stops_near_target': 'Number of Stops'}\n",
    "\n",
    "for column in columns_of_interest:\n",
    "    feature_data = all_trial_features[column]\n",
    "    title = titles_of_columns[column]\n",
    "    x_label = x_lables_of_columns[column]\n",
    "    feature_data = feature_data[feature_data!=9999]\n",
    "    sns.boxplot(x=feature_data)\n",
    "    plt.title(title, fontsize=15)\n",
    "    plt.xlabel(x_label)\n",
    "    plt.show()"
   ]
  },
  {
   "cell_type": "code",
   "execution_count": null,
   "metadata": {
    "id": "2qLpdXSl9swu"
   },
   "outputs": [],
   "source": [
    "plot_statistics.plot_num_stops_in_histogram(all_trial_features, 'num_stops')\n",
    "plt.title('Number of Stops During a Trial')\n",
    "plt.show()\n"
   ]
  },
  {
   "cell_type": "code",
   "execution_count": null,
   "metadata": {
    "id": "tFS7arf9966d"
   },
   "outputs": [],
   "source": [
    "plot_statistics.plot_num_stops_in_histogram(all_trial_features, 'num_stops_since_last_visible')\n",
    "plt.title('Number of Stops Since Target Last Visible')\n",
    "plt.show()\n"
   ]
  },
  {
   "attachments": {},
   "cell_type": "markdown",
   "metadata": {
    "id": "d0WjoQkdT3Pv"
   },
   "source": [
    "## Num stops & non stops since target last visible"
   ]
  },
  {
   "cell_type": "code",
   "execution_count": 206,
   "metadata": {},
   "outputs": [],
   "source": [
    "concat_pattern_frequencies['Percentage'] = concat_pattern_frequencies['Rate']*100"
   ]
  },
  {
   "cell_type": "code",
   "execution_count": null,
   "metadata": {
    "id": "Yd2gRYTQHGuB"
   },
   "outputs": [],
   "source": [
    "#plot_statistics.plot_num_ff_caught_in_a_row_in_barplot(pattern_frequencies, show_one_in_a_row = False)\n",
    "plot_statistics.plot_num_ff_caught_in_a_row_in_barplot(concat_pattern_frequencies, show_one_in_a_row = False)"
   ]
  },
  {
   "cell_type": "code",
   "execution_count": null,
   "metadata": {
    "id": "dkLghnJx6WGr"
   },
   "outputs": [],
   "source": [
    "#plot_statistics.plot_num_ff_caught_in_a_row_in_pie_chart(pattern_frequencies)\n",
    "plot_statistics.plot_num_ff_caught_in_a_row_in_pie_chart(agg_pattern_frequencies)"
   ]
  },
  {
   "attachments": {},
   "cell_type": "markdown",
   "metadata": {
    "id": "XDD4I5uTBB3B"
   },
   "source": [
    "## Num ffs around target"
   ]
  },
  {
   "cell_type": "code",
   "execution_count": null,
   "metadata": {
    "id": "T07kqRJ-bFvj"
   },
   "outputs": [],
   "source": [
    "#plot_statistics.plot_num_ff_around_target_in_barplot(all_trial_features)\n",
    "plot_statistics.plot_num_ff_around_target_in_barplot(concat_all_trial_features)"
   ]
  },
  {
   "attachments": {},
   "cell_type": "markdown",
   "metadata": {
    "id": "1qYj0ho35Xpb"
   },
   "source": [
    "## Num stops near target"
   ]
  },
  {
   "cell_type": "code",
   "execution_count": null,
   "metadata": {
    "id": "R1bkRdOr5a0z"
   },
   "outputs": [],
   "source": [
    "plot_statistics.plot_num_stops_near_target_in_barplot(all_trial_features)"
   ]
  },
  {
   "attachments": {},
   "cell_type": "markdown",
   "metadata": {
    "id": "DqesUkHOGUKz"
   },
   "source": [
    "## Target closest & target_angle_smallest"
   ]
  },
  {
   "cell_type": "code",
   "execution_count": null,
   "metadata": {
    "id": "FdvIvguUgo91"
   },
   "outputs": [],
   "source": [
    "# plot_statistics.plot_proportion_of_target_closest(target_closest)"
   ]
  },
  {
   "cell_type": "code",
   "execution_count": null,
   "metadata": {
    "id": "9QIornSVguRR"
   },
   "outputs": [],
   "source": [
    "# plot_statistics.plot_proportion_of_target_closest(target_closest)\n",
    "# plot_statistics.plot_proportion_of_target_angle_smallest(target_angle_smallest)"
   ]
  },
  {
   "attachments": {},
   "cell_type": "markdown",
   "metadata": {
    "id": "ZF3BXWM6KjEL"
   },
   "source": [
    "## Number of ffs"
   ]
  },
  {
   "attachments": {},
   "cell_type": "markdown",
   "metadata": {
    "id": "H8sO3TiQLFxL"
   },
   "source": [
    "Number of visible ffs at any point"
   ]
  },
  {
   "cell_type": "code",
   "execution_count": null,
   "metadata": {
    "id": "0mxJXjpsK9Xx"
   },
   "outputs": [],
   "source": [
    "plot_statistics.plot_number_of_visible_ff_per_point_in_histogram(data_item.ff_dataframe)"
   ]
  },
  {
   "attachments": {},
   "cell_type": "markdown",
   "metadata": {
    "id": "HRj1XQuSZF10"
   },
   "source": [
    "Number of ffs in memory at any point"
   ]
  },
  {
   "cell_type": "code",
   "execution_count": null,
   "metadata": {
    "id": "VlkcFs_Ojn55"
   },
   "outputs": [],
   "source": [
    "plot_statistics.plot_number_of_ff_in_memory_per_point_in_histogram(data_item.ff_dataframe)"
   ]
  },
  {
   "attachments": {},
   "cell_type": "markdown",
   "metadata": {
    "id": "LQVD-E9rYeAG"
   },
   "source": [
    "# Numbers of stops vs. Distance/Displacement/Time "
   ]
  },
  {
   "attachments": {},
   "cell_type": "markdown",
   "metadata": {
    "id": "ZWnK6Ts_KMlr"
   },
   "source": [
    "Distance: Integrate the speed of the monkey during the trial. \n",
    "\n",
    "Displacement: Find the absolute distance between two targets. Discard the trials where the monkey has gone to a border"
   ]
  },
  {
   "cell_type": "code",
   "execution_count": 4,
   "metadata": {
    "id": "KjjsPMcVYc1P"
   },
   "outputs": [],
   "source": [
    "distance_array = []\n",
    "displacement_array = []\n",
    "for i in range(len(data_item.ff_caught_T_sorted)-1):\n",
    "  distance_array.append(basic_func.distance_traveled(i, data_item.ff_caught_T_sorted, data_item.monkey_information))\n",
    "  displacement_array.append(basic_func.abs_displacement(i, data_item.ff_caught_T_sorted, data_item.monkey_information, data_item.ff_believed_position_sorted))\n",
    "distance_array = np.array(distance_array)\n",
    "displacement_array = np.array(displacement_array)"
   ]
  },
  {
   "cell_type": "code",
   "execution_count": 19,
   "metadata": {},
   "outputs": [],
   "source": [
    "num_stops_array = organize_patterns_and_features._get_num_stops_array(data_item.monkey_information, data_item.ff_caught_T_sorted)"
   ]
  },
  {
   "attachments": {},
   "cell_type": "markdown",
   "metadata": {
    "id": "mgest4dTBAB4"
   },
   "source": [
    "## Distance"
   ]
  },
  {
   "cell_type": "code",
   "execution_count": null,
   "metadata": {},
   "outputs": [],
   "source": [
    "distance_array.max()"
   ]
  },
  {
   "cell_type": "code",
   "execution_count": null,
   "metadata": {
    "id": "XLAmip37uu9i"
   },
   "outputs": [],
   "source": [
    "plot_statistics.fit_and_plot_linear_regression(distance_array, num_stops_array, show_regression = True)\n",
    "plt.title('Numbers of Stops vs. Distance Traveled')\n",
    "plt.xlabel('Distance Traveled', labelpad=15)\n",
    "plt.ylabel('Numbers of Stops')\n",
    "plt.show()\n"
   ]
  },
  {
   "attachments": {},
   "cell_type": "markdown",
   "metadata": {
    "id": "ZjM3hZ-TBCCq"
   },
   "source": [
    "## Displacement"
   ]
  },
  {
   "cell_type": "code",
   "execution_count": null,
   "metadata": {
    "id": "qOTeu2byIoZt"
   },
   "outputs": [],
   "source": [
    "invalid_indices = np.where(displacement_array==9999)\n",
    "displacement_valid = np.delete(displacement_array, invalid_indices, axis=None)\n",
    "num_stops_valid = np.delete(num_stops_array, invalid_indices, axis=None)\n",
    "plot_statistics.fit_and_plot_linear_regression(displacement_valid, num_stops_valid, show_regression = True)\n",
    "plt.title('Numbers of Stops vs. Absolute Displacement')\n",
    "plt.xlabel('Absolute Displacement', labelpad=15)\n",
    "plt.ylabel('Numbers of Stops')\n",
    "plt.show()\n"
   ]
  },
  {
   "cell_type": "markdown",
   "metadata": {},
   "source": [
    "## Distance to target since last visible vs num stops / num stops near target"
   ]
  },
  {
   "cell_type": "markdown",
   "metadata": {},
   "source": [
    "## Distance to target since target cluster last visible vs num stops / num stops near target"
   ]
  },
  {
   "cell_type": "markdown",
   "metadata": {},
   "source": [
    "## Displacement to target since last visible vs num stops / num stops near target"
   ]
  },
  {
   "cell_type": "markdown",
   "metadata": {},
   "source": [
    "## Displacement to target since target cluster last visible vs num stops / num stops near target"
   ]
  },
  {
   "cell_type": "markdown",
   "metadata": {},
   "source": [
    "## Time since target cluster last visible vs num stops / num stops near target"
   ]
  },
  {
   "attachments": {},
   "cell_type": "markdown",
   "metadata": {
    "id": "JwQP0QC6lZb9"
   },
   "source": [
    "# Compare target with non_target"
   ]
  },
  {
   "cell_type": "code",
   "execution_count": null,
   "metadata": {
    "id": "N7Ag4yknmH9l"
   },
   "outputs": [],
   "source": [
    "# Both target and non-target are either visible or in memory\n",
    "plot_statistics.compare_target_with_non_targets(data_item.ff_dataframe, var_of_interest='ff_angle')\n",
    "plot_statistics.compare_target_with_non_targets(data_item.ff_dataframe, var_of_interest='ff_angle_boundary')\n",
    "plot_statistics.compare_target_with_non_targets(data_item.ff_dataframe, var_of_interest='ff_distance')"
   ]
  },
  {
   "cell_type": "code",
   "execution_count": null,
   "metadata": {
    "id": "ywMclUhRmK_W"
   },
   "outputs": [],
   "source": [
    "# Both target and non-target are visible\n",
    "ff_dataframe_subset = data_item.ff_dataframe[data_item.ff_dataframe['visible']==1]\n",
    "plot_statistics.compare_target_with_non_targets(ff_dataframe_subset, var_of_interest='ff_angle')\n",
    "plot_statistics.compare_target_with_non_targets(ff_dataframe_subset, var_of_interest='ff_angle_boundary')\n",
    "plot_statistics.compare_target_with_non_targets(ff_dataframe_subset, var_of_interest='ff_distance')"
   ]
  },
  {
   "attachments": {},
   "cell_type": "markdown",
   "metadata": {
    "id": "KhO7935VOeXi"
   },
   "source": [
    "# Are angles to fireflies decreasing?"
   ]
  },
  {
   "attachments": {},
   "cell_type": "markdown",
   "metadata": {
    "id": "Iw6c0kVB36Hi"
   },
   "source": [
    "## plot trials"
   ]
  },
  {
   "cell_type": "code",
   "execution_count": 165,
   "metadata": {
    "id": "Ipq6FvoI8G48"
   },
   "outputs": [],
   "source": [
    "trial_total_num = 10\n",
    "data_item.cluster_around_target_trials, data_item.cluster_around_target_indices, data_item.cluster_around_target_positions = pattern_by_trials.cluster_around_target_func(data_item.ff_dataframe, \n",
    "        data_item.caught_ff_num, data_item.ff_caught_T_sorted, data_item.ff_real_position_sorted, max_time_apart=1.25)\n",
    "\n",
    "classic_plot_kwargs = {'show_stops': True,\n",
    "                       'show_believed_target_positions': True,\n",
    "                       'show_reward_boundary': True,\n",
    "                       'show_scale_bar': True}\n",
    "data_item.PlotTrials_args = (data_item.monkey_information, data_item.ff_dataframe, data_item.ff_life_sorted, data_item.ff_real_position_sorted, data_item.ff_believed_position_sorted, data_item.cluster_around_target_indices, data_item.ff_caught_T_sorted)"
   ]
  },
  {
   "cell_type": "code",
   "execution_count": null,
   "metadata": {
    "id": "WHm7FXKI7-Kj"
   },
   "outputs": [],
   "source": [
    "\n",
    "num_trials = 2 \n",
    "\n",
    "\n",
    "with basic_func.initiate_plot(10,10,100):\n",
    "  for currentTrial in [102]: #two_in_a_row[10:20]:\n",
    "      duration = [data_item.ff_caught_T_sorted[currentTrial-num_trials], data_item.ff_caught_T_sorted[currentTrial]]\n",
    "      plot_trials.PlotTrials(duration, \n",
    "                  *data_item.PlotTrials_args,\n",
    "                  **classic_plot_kwargs,\n",
    "                  currentTrial = currentTrial,\n",
    "                  num_trials = num_trials,                   \n",
    "                  show_connect_path_ff_except_targets = True,\n",
    "                  show_path_when_target_visible = True,\n",
    "                  show_ff_indices = False,\n",
    "                  hitting_arena_edge_ok = True,\n",
    "                  visible_distance = 400,\n",
    "                  minimal_margin = 300,\n",
    "                  show_monkey_angles = True\n",
    "                  )\n",
    "      plt.show()  \n",
    "\n",
    "      "
   ]
  },
  {
   "attachments": {},
   "cell_type": "markdown",
   "metadata": {
    "id": "bAbucg32nNj8"
   },
   "source": [
    "## Plot: abs_ffangle_decreasing (angle or angle to boundary?)"
   ]
  },
  {
   "cell_type": "code",
   "execution_count": null,
   "metadata": {
    "id": "Gle5M5GsMtnF"
   },
   "outputs": [],
   "source": [
    "trial_numbers = range(100, 105)\n",
    "plot_behaviors_utils.plot_change_in_ff_angle(data_item.ff_dataframe, trial_numbers, var_of_interest = \"abs_ffangle_decreasing\")\n",
    "plot_behaviors_utils.plot_change_in_ff_angle(data_item.ff_dataframe, trial_numbers, var_of_interest = \"abs_ffangle_boundary_decreasing\")\n",
    "plot_behaviors_utils.plot_change_in_ff_angle(data_item.ff_dataframe, trial_numbers, var_of_interest = \"dw_same_sign_as_ffangle\")\n",
    "plot_behaviors_utils.plot_change_in_ff_angle(data_item.ff_dataframe, trial_numbers, var_of_interest = \"dw_same_sign_as_ffangle_boundary\")"
   ]
  },
  {
   "cell_type": "markdown",
   "metadata": {},
   "source": [
    "# ^Appendix^"
   ]
  },
  {
   "attachments": {},
   "cell_type": "markdown",
   "metadata": {
    "id": "U45UYTRXbxcX"
   },
   "source": [
    "# New two in a row"
   ]
  },
  {
   "attachments": {},
   "cell_type": "markdown",
   "metadata": {
    "id": "Kes0UQ0XjLq8"
   },
   "source": [
    "## New two-in-a-row (no speed up in the middle)\n",
    "\n",
    "**If two fireflies were caught in the same chunk**"
   ]
  },
  {
   "cell_type": "code",
   "execution_count": 170,
   "metadata": {},
   "outputs": [],
   "source": [
    "from data_wrangling import more_data_wrangling_func\n",
    "chunk_numbers, new_chunk_indices = more_data_wrangling_func.reorganize_data_into_chunks(data_item.monkey_information)"
   ]
  },
  {
   "cell_type": "code",
   "execution_count": 172,
   "metadata": {
    "id": "kfVLW38pjQno"
   },
   "outputs": [],
   "source": [
    "new_chunk_start_times = data_item.monkey_information['monkey_t'][new_chunk_indices].values\n",
    "ff_caught_T_chunk_numbers = np.digitize(data_item.ff_caught_T_sorted, new_chunk_start_times)\n",
    "# find the trials where at least two fireflies were caught during the same chunk\n",
    "two_in_a_row_trials_by_chunk = np.where(np.diff(ff_caught_T_chunk_numbers)==0)[0]+1"
   ]
  },
  {
   "cell_type": "code",
   "execution_count": null,
   "metadata": {
    "id": "3eak30-AQ4rw",
    "scrolled": true
   },
   "outputs": [],
   "source": [
    "category = two_in_a_row_trials_by_chunk\n",
    "trial_total_num = 5\n",
    "PlotTrials_args = (data_item.monkey_information, data_item.ff_dataframe, data_item.ff_life_sorted, data_item.ff_real_position_sorted, \n",
    "                   data_item.ff_believed_position_sorted, data_item.cluster_around_target_indices, data_item.ff_caught_T_sorted)\n",
    "PlotTrials_kwargs = {'player': 'monkey',\n",
    "                     'images_dir': None} \n",
    "\n",
    "classic_plot_kwargs = {'show_stops': True,\n",
    "                       'show_believed_target_positions': True,\n",
    "                       'show_reward_boundary': True,\n",
    "                       'show_scale_bar': True}\n",
    "\n",
    "#category = two_in_a_row_simuly\n",
    "#category = two_in_a_row_non_simul\n",
    "#category = used_cluster  --> two_in_a_row_non_simul ^ on_before_last_one\n",
    "\n",
    "num_trials = 2 \n",
    "\n",
    "if len(category) > 0:\n",
    "  with basic_func.initiate_plot(7,7,100):\n",
    "    for currentTrial in category[:trial_total_num]:\n",
    "        duration = [data_item.ff_caught_T_sorted[currentTrial-num_trials], \n",
    "                    data_item.ff_caught_T_sorted[currentTrial]]\n",
    "        print(duration)\n",
    "        plot_trials.PlotTrials(duration, \n",
    "                   *PlotTrials_args,\n",
    "                   **classic_plot_kwargs,\n",
    "                   currentTrial = currentTrial,\n",
    "                   num_trials = num_trials,                   \n",
    "                   show_connect_path_ff_except_targets = True,\n",
    "                   show_path_when_target_visible = True,\n",
    "                   )\n",
    "        plt.show()  \n",
    "        "
   ]
  },
  {
   "attachments": {},
   "cell_type": "markdown",
   "metadata": {
    "id": "B-edvZR1rwSX"
   },
   "source": [
    "## New two-in-a-row (no stop in the middle)\n"
   ]
  },
  {
   "cell_type": "code",
   "execution_count": 177,
   "metadata": {},
   "outputs": [],
   "source": [
    "# import LA\n",
    "from numpy import linalg as LA\n"
   ]
  },
  {
   "cell_type": "code",
   "execution_count": 178,
   "metadata": {
    "id": "KpimljWnN-q6"
   },
   "outputs": [],
   "source": [
    "monkey_information = data_item.monkey_information.copy()\n",
    "monkey_information['trials'] = np.digitize(monkey_information['monkey_t'], data_item.ff_caught_T_sorted)\n",
    "all_trials = monkey_information.trials.unique()\n",
    "# take out all the rows where the monkey stops\n",
    "speed_threshold = 5\n",
    "monkey_info_subset = monkey_information[monkey_information['monkey_speed'] < speed_threshold].copy()\n",
    "\n",
    "# if a stop is within 25 cm of the previous or the current target, then it doesn't count\n",
    "monkey_info_subset['target_x'] = data_item.ff_real_position_sorted[monkey_info_subset['trials']][:,0]\n",
    "monkey_info_subset['target_y'] = data_item.ff_real_position_sorted[monkey_info_subset['trials']][:,1]\n",
    "monkey_info_subset['prev_target_x'] = data_item.ff_real_position_sorted[monkey_info_subset['trials']-1][:,0]\n",
    "monkey_info_subset['prev_target_y'] = data_item.ff_real_position_sorted[monkey_info_subset['trials']-1][:,1]\n",
    "monkey_info_subset['distance_to_target'] = LA.norm(monkey_info_subset[['monkey_x', 'monkey_y']].values - monkey_info_subset[['target_x', 'target_y']].values, axis=1)\n",
    "monkey_info_subset['distance_to_prev_target'] = LA.norm(monkey_info_subset[['monkey_x', 'monkey_y']].values - monkey_info_subset[['prev_target_x', 'prev_target_y']].values, axis=1)\n",
    "monkey_info_subset2 = monkey_info_subset[(monkey_info_subset['distance_to_target'] > 25) &\n",
    "                                         (monkey_info_subset['distance_to_prev_target'] > 25)]\n",
    "trials_containing_stops_in_middle = monkey_info_subset2.trials.unique()\n",
    "two_in_a_row_trials_by_stops = np.setdiff1d(all_trials, trials_containing_stops_in_middle)                                         "
   ]
  },
  {
   "cell_type": "code",
   "execution_count": null,
   "metadata": {
    "id": "O9EwpGK1OZNm"
   },
   "outputs": [],
   "source": [
    "category = two_in_a_row_trials_by_stops\n",
    "trial_total_num = 10\n",
    "PlotTrials_kwargs = {'player': 'monkey',\n",
    "                     'images_dir': None} \n",
    "\n",
    "classic_plot_kwargs = {'show_stops': True,\n",
    "                       'show_believed_target_positions': True,\n",
    "                       'show_reward_boundary': True,\n",
    "                       'show_scale_bar': True}\n",
    "\n",
    "#category = two_in_a_row_simuly\n",
    "#category = two_in_a_row_non_simul\n",
    "#category = used_cluster  --> two_in_a_row_non_simul ^ on_before_last_one\n",
    "\n",
    "num_trials = 2 \n",
    "\n",
    "if len(category) > 0:\n",
    "  with basic_func.initiate_plot(7,7,100):\n",
    "    for currentTrial in category[:trial_total_num]:\n",
    "        duration = [data_item.ff_caught_T_sorted[currentTrial-num_trials], data_item.ff_caught_T_sorted[currentTrial]]\n",
    "        print(duration)\n",
    "        plot_trials.PlotTrials(duration, \n",
    "                   *PlotTrials_args,\n",
    "                   **classic_plot_kwargs,\n",
    "                   currentTrial = currentTrial,\n",
    "                   num_trials = num_trials, \n",
    "                   trail_color_var = 'speed',                  \n",
    "                   show_connect_path_ff_except_targets = True,\n",
    "                   show_path_when_target_visible = False,\n",
    "                   )\n",
    "        plt.show()  \n",
    "        "
   ]
  },
  {
   "cell_type": "markdown",
   "metadata": {},
   "source": [
    "# monkey_information vs. signal_df"
   ]
  },
  {
   "cell_type": "code",
   "execution_count": null,
   "metadata": {},
   "outputs": [],
   "source": [
    "# raw_data_folder_path = \"all_monkey_data/raw_monkey_data/individual_monkey_data/monkey_Bruno/data_0221\"\n",
    "# interocular_dist = 4 # 4 for Bruno and 3 for others\n",
    "# monkey_information, ff_caught_T_sorted, ff_index_sorted, ff_real_position_sorted, ff_believed_position_sorted, ff_life_sorted, ff_flash_sorted, ff_flash_end_sorted \\\n",
    "#                 = process_raw_data.log_extractor(raw_data_folder_path = raw_data_folder_path).extract_data(monkey_information_exists_OK = True, interocular_dist=interocular_dist)\n",
    "\n",
    "# accurate_start_time, accurate_end_time, signal_df = process_raw_data.find_start_and_accurate_end_time(raw_data_folder_path, exists_ok=True, return_signal_df=True)\n",
    "# signal_t = np.array(signal_df.Time)\n",
    "# monkey_t = monkey_information['monkey_t'].values\n",
    "# time_bins = process_raw_data.find_time_bins_for_an_array(monkey_t)\n",
    "\n",
    "# # add time_box to monkey_information\n",
    "# monkey_information.loc[:, 'time_box'] = np.arange(1, len(monkey_information)+1)\n",
    "# # group signal_df.time based on intervals in monkey_information['monkey_t'], thus adding the column time_box to signal_df\n",
    "# signal_df.loc[:, 'time_box'] = np.digitize(signal_t, time_bins)"
   ]
  },
  {
   "cell_type": "markdown",
   "metadata": {},
   "source": [
    "## Compare linear speed and angular from monkey_information and signal_df respectively"
   ]
  },
  {
   "cell_type": "code",
   "execution_count": null,
   "metadata": {},
   "outputs": [],
   "source": [
    "# variables_to_add = ['LateralV', 'ForwardV', 'AngularV']\n",
    "# monkey_information = process_raw_data.add_smr_file_info_to_monkey_information(monkey_information, raw_data_folder_path, variables = variables_to_add)\n",
    "# monkey_information['monkey_linear_v'] = LA.norm(monkey_information[['LateralV', 'ForwardV']].values, axis=1)"
   ]
  },
  {
   "cell_type": "code",
   "execution_count": null,
   "metadata": {},
   "outputs": [],
   "source": [
    "# fig, axes = plt.subplots(figsize=(15, 7))\n",
    "# start = 20000\n",
    "# num_points = 30\n",
    "# #shared_x = monkey_information['monkey_t'].values[start:start+num_points]\n",
    "# shared_x = np.arange(num_points)\n",
    "# axes.plot(shared_x, monkey_information['monkey_linear_v'].values[start:start+num_points], color='slateblue', alpha=0.6)\n",
    "# axes.plot(shared_x, monkey_information['monkey_speed'].values[start:start+num_points], color='orange', alpha=0.6)\n",
    "# plt.show()"
   ]
  },
  {
   "cell_type": "code",
   "execution_count": null,
   "metadata": {},
   "outputs": [],
   "source": [
    "# fig, axes = plt.subplots(figsize=(15, 7))\n",
    "# start = 30000\n",
    "# num_points = 100\n",
    "# #shared_x = monkey_information['monkey_t'].values[start:start+num_points]\n",
    "# shared_x = np.arange(num_points)\n",
    "# axes.plot(shared_x, monkey_information['AngularV'].values[start:start+num_points], color='slateblue', alpha=0.6)\n",
    "# axes.plot(shared_x, monkey_information['monkey_dw'].values[start:start+num_points]*180/pi, color='orange', alpha=0.6)\n",
    "# plt.show()"
   ]
  },
  {
   "cell_type": "markdown",
   "metadata": {},
   "source": [
    "## Compare time_boxes"
   ]
  },
  {
   "cell_type": "code",
   "execution_count": null,
   "metadata": {},
   "outputs": [],
   "source": [
    "# monkey_subset = monkey_information[['monkey_t', 'time_box']]\n",
    "# signal_subset = signal_df[['Time', 'time_box']]\n",
    "# signal_subset[signal_subset['time_box']==1]"
   ]
  },
  {
   "cell_type": "code",
   "execution_count": null,
   "metadata": {},
   "outputs": [],
   "source": [
    "# monkey_subset[monkey_subset['time_box']==1]"
   ]
  },
  {
   "cell_type": "markdown",
   "metadata": {},
   "source": [
    "## Compare monkey_x and monkey_y from monkey_information and signal_df respectively"
   ]
  },
  {
   "cell_type": "code",
   "execution_count": null,
   "metadata": {},
   "outputs": [],
   "source": [
    "# variables_to_add = ['MonkeyX', 'MonkeyY']\n",
    "# monkey_information = process_raw_data.add_smr_file_info_to_monkey_information(monkey_information, raw_data_folder_path, variables = variables_to_add)"
   ]
  },
  {
   "cell_type": "code",
   "execution_count": null,
   "metadata": {},
   "outputs": [],
   "source": [
    "# fig, axes = plt.subplots(figsize=(15, 7))\n",
    "# start = 30000\n",
    "# num_points = 50\n",
    "# #shared_x = monkey_information['monkey_t'].values[start:start+num_points]\n",
    "# shared_x = np.arange(num_points)\n",
    "# axes.plot(shared_x, monkey_information['MonkeyX'].values[start:start+num_points], color='slateblue', alpha=0.6)\n",
    "# axes.plot(shared_x, monkey_information['monkey_x'].values[start:start+num_points], color='orange', alpha=0.6)\n",
    "# plt.show()"
   ]
  }
 ],
 "metadata": {
  "colab": {
   "provenance": [],
   "toc_visible": true
  },
  "kernelspec": {
   "display_name": "Python 3",
   "name": "python3"
  },
  "language_info": {
   "codemirror_mode": {
    "name": "ipython",
    "version": 3
   },
   "file_extension": ".py",
   "mimetype": "text/x-python",
   "name": "python",
   "nbconvert_exporter": "python",
   "pygments_lexer": "ipython3",
   "version": "3.9.19"
  }
 },
 "nbformat": 4,
 "nbformat_minor": 0
}
