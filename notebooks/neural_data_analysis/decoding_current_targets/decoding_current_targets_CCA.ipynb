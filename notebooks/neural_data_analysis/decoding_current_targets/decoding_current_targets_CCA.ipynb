{
 "cells": [
  {
   "cell_type": "markdown",
   "metadata": {},
   "source": [
    "# Import packages"
   ]
  },
  {
   "cell_type": "code",
   "execution_count": null,
   "metadata": {},
   "outputs": [],
   "source": [
    "# !pip install -r multiff_analysis/requirements.txt"
   ]
  },
  {
   "cell_type": "code",
   "execution_count": null,
   "metadata": {},
   "outputs": [],
   "source": [
    "%load_ext autoreload\n",
    "%autoreload 2\n",
    "\n",
    "import os\n",
    "import sys\n",
    "\n",
    "project_folder = '/Users/dusiyi/Documents/Multifirefly-Project'\n",
    "os.chdir(project_folder)\n",
    "sys.path.append(os.path.join(project_folder, 'multiff_analysis', 'methods'))\n",
    "\n",
    "from non_behavioral_analysis.neural_data_analysis.model_neural_data import transform_vars, neural_data_modeling\n",
    "from non_behavioral_analysis.neural_data_analysis.model_neural_data.cca_methods import cca_class, cca_utils, cca_lag_vs_no_lag_plotting, cca_cv_utils, cca_cv_plotting, cca_plotting\n",
    "from non_behavioral_analysis.neural_data_analysis.decode_targets import decode_target_class, prep_decode_target\n",
    "from data_wrangling import specific_utils, base_processing_class, general_utils\n",
    "\n",
    "import sys\n",
    "\n",
    "# Third-party imports\n",
    "import numpy as np\n",
    "import pandas as pd\n",
    "import matplotlib\n",
    "import matplotlib.pyplot as plt\n",
    "import seaborn as sns\n",
    "from matplotlib import rc\n",
    "\n",
    "# Machine Learning imports\n",
    "from sklearn.model_selection import train_test_split\n",
    "from sklearn.model_selection import train_test_split\n",
    "from statsmodels.multivariate.cancorr import CanCorr\n",
    "\n",
    "# Neuroscience specific imports\n",
    "import rcca\n",
    "\n",
    "# To fit gpfa\n",
    "import numpy as np\n",
    "import neo\n",
    "import matplotlib.pyplot as plt\n",
    "from importlib import reload\n",
    "\n",
    "plt.rcParams[\"animation.html\"] = \"html5\"\n",
    "os.environ['KMP_DUPLICATE_LIB_OK']='True'\n",
    "rc('animation', html='jshtml')\n",
    "matplotlib.rcParams.update(matplotlib.rcParamsDefault)\n",
    "matplotlib.rcParams['animation.embed_limit'] = 2**128\n",
    "pd.set_option('display.float_format', lambda x: '%.5f' % x)\n",
    "np.set_printoptions(suppress=True)\n",
    "print(\"done\")\n",
    "\n",
    "\n",
    "pd.set_option('display.max_rows', 50)\n",
    "pd.set_option('display.max_columns', 50)\n",
    "\n",
    "\n",
    "%load_ext autoreload\n",
    "%autoreload 2"
   ]
  },
  {
   "cell_type": "markdown",
   "metadata": {},
   "source": [
    "# Get data"
   ]
  },
  {
   "cell_type": "code",
   "execution_count": null,
   "metadata": {},
   "outputs": [],
   "source": [
    "reload(decode_target_class)"
   ]
  },
  {
   "cell_type": "code",
   "execution_count": null,
   "metadata": {},
   "outputs": [],
   "source": [
    "#raw_data_folder_path = \"all_monkey_data/raw_monkey_data/monkey_Schro/data_0416\"\n",
    "raw_data_folder_path = \"all_monkey_data/raw_monkey_data/monkey_Bruno/data_0328\"\n",
    "dec = decode_target_class.DecodeTargetClass(raw_data_folder_path=raw_data_folder_path,\n",
    "                                                               bin_width=0.02, window_width=0.05)\n",
    "dec.get_x_and_y_data_for_modeling(exists_ok=True)"
   ]
  },
  {
   "cell_type": "code",
   "execution_count": null,
   "metadata": {},
   "outputs": [],
   "source": [
    "cca_no_lag = cca_class.CCAclass(X1=dec.x_var_reduced, X2=dec.y_var_reduced, lagging_included=False)\n",
    "cca_no_lag.conduct_cca()\n",
    "\n",
    "cca_lags = cca_class.CCAclass(X1=dec.x_var_lags_reduced.drop(columns='bin'), X2=dec.y_var_lags_reduced, lagging_included=True)\n",
    "# for all columns that end with _0, rename them to the column name without the _0\n",
    "cca_lags.X2.columns = cca_lags.X2.columns.str.replace('_0', '')\n",
    "cca_lags.conduct_cca()\n",
    "\n",
    "\n",
    "print(f'dec.x_var_lags.shape: {dec.x_var_lags.shape}')\n",
    "print(f'dec.y_var_lags_reduced.shape: {dec.y_var_lags_reduced.shape}')\n",
    "\n",
    "cca_inst = cca_lags"
   ]
  },
  {
   "cell_type": "markdown",
   "metadata": {},
   "source": [
    "# CCA\n",
    "\n",
    "https://medium.com/@pozdrawiamzuzanna/canonical-correlation-analysis-simple-explanation-and-python-example-a5b8e97648d2"
   ]
  },
  {
   "cell_type": "markdown",
   "metadata": {},
   "source": [
    "## compare lag vs no lag"
   ]
  },
  {
   "cell_type": "code",
   "execution_count": 17,
   "metadata": {},
   "outputs": [],
   "source": [
    "canon_df = pd.DataFrame(cca_no_lag.canon_corr, columns = ['no_lag'])\n",
    "canon_df[f'with_lags'] = cca_lags.canon_corr\n",
    "canon_df['component'] = [f'CC {i+1}' for i in range(cca_lags.n_components)]\n",
    "# convert canon_df to long format\n",
    "canon_df_long = pd.melt(canon_df, id_vars=['component'], var_name='lag', value_name='canon_coeff')"
   ]
  },
  {
   "cell_type": "code",
   "execution_count": null,
   "metadata": {},
   "outputs": [],
   "source": [
    "# make a sns bar plot on canon_df_long\n",
    "plt.figure(figsize=(8, 6))\n",
    "sns.barplot(x='component', y='canon_coeff', data=canon_df_long, hue='lag')\n",
    "plt.show()"
   ]
  },
  {
   "cell_type": "markdown",
   "metadata": {},
   "source": [
    "## cca_inst (choose one between lags and no lag)"
   ]
  },
  {
   "cell_type": "code",
   "execution_count": 19,
   "metadata": {},
   "outputs": [],
   "source": [
    "# choose no lag\n",
    "cca_inst = cca_inst"
   ]
  },
  {
   "cell_type": "code",
   "execution_count": 20,
   "metadata": {},
   "outputs": [],
   "source": [
    "# choose lags\n",
    "cca_inst = cca_lags"
   ]
  },
  {
   "cell_type": "markdown",
   "metadata": {},
   "source": [
    "# Barplots of loadings/weights"
   ]
  },
  {
   "cell_type": "markdown",
   "metadata": {},
   "source": [
    "## loadings"
   ]
  },
  {
   "cell_type": "markdown",
   "metadata": {},
   "source": [
    "### neurons"
   ]
  },
  {
   "cell_type": "code",
   "execution_count": null,
   "metadata": {},
   "outputs": [],
   "source": [
    "cca_inst.plot_ranked_loadings(X1_or_X2='X1', squared=False)"
   ]
  },
  {
   "cell_type": "markdown",
   "metadata": {},
   "source": [
    "### behavior"
   ]
  },
  {
   "cell_type": "code",
   "execution_count": null,
   "metadata": {},
   "outputs": [],
   "source": [
    "cca_inst.plot_ranked_loadings(X1_or_X2='X2', squared=False)"
   ]
  },
  {
   "cell_type": "markdown",
   "metadata": {},
   "source": [
    "## squared loadings"
   ]
  },
  {
   "cell_type": "markdown",
   "metadata": {},
   "source": [
    "### neurons"
   ]
  },
  {
   "cell_type": "code",
   "execution_count": null,
   "metadata": {},
   "outputs": [],
   "source": [
    "cca_inst.plot_ranked_loadings(X1_or_X2='X1')"
   ]
  },
  {
   "cell_type": "markdown",
   "metadata": {},
   "source": [
    "### behavior"
   ]
  },
  {
   "cell_type": "code",
   "execution_count": null,
   "metadata": {},
   "outputs": [],
   "source": [
    "cca_inst.plot_ranked_loadings(X1_or_X2='X2')"
   ]
  },
  {
   "cell_type": "markdown",
   "metadata": {},
   "source": [
    "## weights (ranked)"
   ]
  },
  {
   "cell_type": "markdown",
   "metadata": {},
   "source": [
    "### neurons"
   ]
  },
  {
   "cell_type": "code",
   "execution_count": null,
   "metadata": {},
   "outputs": [],
   "source": [
    "cca_inst.plot_ranked_weights(abs_value=False)"
   ]
  },
  {
   "cell_type": "markdown",
   "metadata": {},
   "source": [
    "### behavior"
   ]
  },
  {
   "cell_type": "code",
   "execution_count": null,
   "metadata": {},
   "outputs": [],
   "source": [
    "cca_inst.plot_ranked_weights(X1_or_X2='X2', abs_value=False)"
   ]
  },
  {
   "cell_type": "markdown",
   "metadata": {},
   "source": [
    "## abs weights ranked"
   ]
  },
  {
   "cell_type": "markdown",
   "metadata": {},
   "source": [
    "### neurons"
   ]
  },
  {
   "cell_type": "code",
   "execution_count": null,
   "metadata": {},
   "outputs": [],
   "source": [
    "cca_inst.plot_ranked_weights()"
   ]
  },
  {
   "cell_type": "markdown",
   "metadata": {},
   "source": [
    "### behavior"
   ]
  },
  {
   "cell_type": "code",
   "execution_count": null,
   "metadata": {},
   "outputs": [],
   "source": [
    "cca_inst.plot_ranked_weights(X1_or_X2='X2')"
   ]
  },
  {
   "cell_type": "code",
   "execution_count": null,
   "metadata": {},
   "outputs": [],
   "source": [
    "stop here!"
   ]
  },
  {
   "cell_type": "markdown",
   "metadata": {},
   "source": [
    "## distribution of each feature"
   ]
  },
  {
   "cell_type": "code",
   "execution_count": null,
   "metadata": {},
   "outputs": [],
   "source": [
    "cca_inst.X2_sc.shape"
   ]
  },
  {
   "cell_type": "code",
   "execution_count": null,
   "metadata": {},
   "outputs": [],
   "source": [
    "X2_sc_df = pd.DataFrame(cca_inst.X2_sc, columns = cca_inst.X2.columns)\n",
    "X2_sc_df.describe()"
   ]
  },
  {
   "cell_type": "code",
   "execution_count": null,
   "metadata": {},
   "outputs": [],
   "source": [
    "max_plot_to_make = 3\n",
    "\n",
    "counter = 0\n",
    "for column in X2_sc_df.columns:\n",
    "    counter += 1\n",
    "    if counter > max_plot_to_make:\n",
    "        break\n",
    "    \n",
    "    plt.figure(figsize=(8, 2))\n",
    "    sns.boxplot(X2_sc_df[column], orient='h')\n",
    "    plt.show()\n",
    "    "
   ]
  },
  {
   "cell_type": "markdown",
   "metadata": {},
   "source": [
    "## heatmap of weights\n",
    "Note: raw canonical coefficients are interpreted in a manner analogous to interpreting regression coefficients. For example: a one unit increase in reading leads to a .0446 decrease in the first canonical variate of set 2 when all of the other variables are held constant (in some other data)"
   ]
  },
  {
   "cell_type": "code",
   "execution_count": 56,
   "metadata": {},
   "outputs": [],
   "source": [
    "weight_df = cca_inst.X2_weight_df.copy()\n",
    "weight_df = weight_df.set_index('feature').drop(columns='feature_category')"
   ]
  },
  {
   "cell_type": "code",
   "execution_count": null,
   "metadata": {},
   "outputs": [],
   "source": [
    "plt.subplots(figsize=(15, 25))\n",
    "sns.heatmap(weight_df.iloc[:20, :10], cmap='coolwarm', annot=True, linewidths=1)\n",
    "plt.show()"
   ]
  },
  {
   "cell_type": "markdown",
   "metadata": {},
   "source": [
    "# Test for p values"
   ]
  },
  {
   "cell_type": "code",
   "execution_count": null,
   "metadata": {},
   "outputs": [],
   "source": [
    "stats_cca = CanCorr(cca_inst.X1_sc, cca_inst.X2_sc)\n",
    "print(stats_cca.corr_test().summary())\n",
    "neural_data_modeling.print_weights('X', stats_cca.x_cancoef)\n",
    "neural_data_modeling.print_weights('Z', stats_cca.y_cancoef)"
   ]
  },
  {
   "cell_type": "markdown",
   "metadata": {},
   "source": [
    "## compute explained variance"
   ]
  },
  {
   "cell_type": "code",
   "execution_count": null,
   "metadata": {},
   "outputs": [],
   "source": [
    "cca2.compute_ev([test1, test2])"
   ]
  },
  {
   "cell_type": "code",
   "execution_count": null,
   "metadata": {},
   "outputs": [],
   "source": [
    "stop pls"
   ]
  },
  {
   "cell_type": "markdown",
   "metadata": {},
   "source": [
    "# Train test split"
   ]
  },
  {
   "cell_type": "markdown",
   "metadata": {},
   "source": [
    "## no lag: train vs test"
   ]
  },
  {
   "cell_type": "code",
   "execution_count": null,
   "metadata": {},
   "outputs": [],
   "source": [
    "n_splits = 5\n",
    "reg = 0.1\n",
    "n_components = 10\n",
    "\n",
    "cca_inst = cca_lags\n",
    "\n",
    "X1_df = cca_inst.X1_sc_df\n",
    "X2_df = cca_inst.X2_sc_df\n",
    "\n",
    "# Canonical correlations\n",
    "canon_corr_stats, cross_view_corr_stats = cca_cv_utils.crossvalidated_cca_analysis(X1_df, X2_df, n_components=n_components, reg=reg, n_splits=n_splits)\n"
   ]
  },
  {
   "cell_type": "code",
   "execution_count": null,
   "metadata": {},
   "outputs": [],
   "source": [
    "cca_no_lag.traincorrs = cca2.validate([train1, train2])\n",
    "cca_no_lag.testcorrs = cca2.validate([test1, test2])\n"
   ]
  },
  {
   "cell_type": "code",
   "execution_count": null,
   "metadata": {},
   "outputs": [],
   "source": [
    "train1, test1, train2, test2 = train_test_split(cca_inst.X1_sc, cca_inst.X2_sc, test_size=0.3, random_state=42)\n",
    "# use training and testing set\n",
    "nComponents = 10\n",
    "cca2 = rcca.CCA(kernelcca = False, reg = 0.1, numCC = nComponents)\n",
    "cca2.train([train1, train2])\n",
    "\n",
    "cca_inst.traincorrs = cca2.validate([train1, train2])\n",
    "cca_inst.testcorrs = cca2.validate([test1, test2])\n",
    "\n",
    "cca_plotting.plot_cca_prediction_accuracy_train_test_bars(cca_inst.traincorrs, cca_inst.testcorrs)\n",
    "cca_plotting.plot_cca_prediction_accuracy_train_test_stacked_bars(cca_inst.traincorrs, cca_inst.testcorrs)\n",
    "cca_plotting.plot_cca_prediction_accuracy_test_w_bars(cca_inst.traincorrs)\n",
    "cca_plotting.plot_cca_prediction_accuracy_w_scatter(cca_inst.testcorrs)"
   ]
  },
  {
   "cell_type": "markdown",
   "metadata": {},
   "source": [
    "## with lags: train vs test"
   ]
  },
  {
   "cell_type": "code",
   "execution_count": 107,
   "metadata": {},
   "outputs": [],
   "source": [
    "# # check for problems in the data\n",
    "# cca_lags.x_var_reduced = prep_decode_target.remove_zero_var_cols(\n",
    "#             cca_lags.X2_sc_df)\n",
    "# _ = prep_decode_target.remove_zero_var_cols(\n",
    "#             test1)"
   ]
  },
  {
   "cell_type": "code",
   "execution_count": null,
   "metadata": {},
   "outputs": [],
   "source": [
    "\n",
    "train1, test1, train2, test2 = train_test_split(cca_no_lag.X1_sc, cca_no_lag.X2_sc, test_size=0.3, random_state=42)\n",
    "# use training and testing set\n",
    "nComponents = 10\n",
    "cca2 = rcca.CCA(kernelcca = False, reg=1e-4, numCC = nComponents)\n",
    "cca2.train([train1, train2])\n",
    "\n",
    "cca_no_lag.traincorrs = cca2.validate([train1, train2])\n",
    "cca_no_lag.testcorrs = cca2.validate([test1, test2])\n",
    "\n",
    "\n",
    "\n",
    "train1, test1, train2, test2 = train_test_split(cca_lags.X1_sc, cca_lags.X2_sc, test_size=0.3, random_state=42)\n",
    "# use training and testing set\n",
    "nComponents = 10\n",
    "cca2 = rcca.CCA(kernelcca = False, reg = 0., numCC = nComponents)\n",
    "cca2.train([train1, train2])\n",
    "\n",
    "cca_lags.traincorrs = cca2.validate([train1, train2])\n",
    "cca_lags.testcorrs = cca2.validate([test1, test2])\n",
    "\n",
    "\n",
    "cca_plotting.plot_cca_prediction_accuracy_train_test_bars(cca_lags.traincorrs, cca_lags.testcorrs)\n",
    "cca_plotting.plot_cca_prediction_accuracy_train_test_stacked_bars(cca_lags.traincorrs, cca_lags.testcorrs)\n",
    "cca_plotting.plot_cca_prediction_accuracy_test_w_bars(cca_lags.traincorrs)\n",
    "cca_plotting.plot_cca_prediction_accuracy_w_scatter(cca_lags.testcorrs)"
   ]
  },
  {
   "cell_type": "markdown",
   "metadata": {},
   "source": [
    "## compare lags vs no lag"
   ]
  },
  {
   "cell_type": "code",
   "execution_count": null,
   "metadata": {},
   "outputs": [],
   "source": [
    "cca_lag_vs_no_lag_plotting.plot_cca_prediction_accuracy_train_test_bars_for_lags_and_no_lags(cca_lags.traincorrs, cca_lags.testcorrs, cca_no_lag.traincorrs, cca_no_lag.testcorrs)"
   ]
  },
  {
   "cell_type": "markdown",
   "metadata": {},
   "source": [
    "# exp"
   ]
  },
  {
   "cell_type": "code",
   "execution_count": null,
   "metadata": {},
   "outputs": [],
   "source": [
    "n_splits = 5\n",
    "reg = 0.1\n",
    "n_components = 10\n",
    "\n",
    "cca_inst = cca_lags\n",
    "\n",
    "X1_df = cca_inst.X1_sc_df\n",
    "X2_df = cca_inst.X2_sc_df\n",
    "\n",
    "# Canonical correlations\n",
    "canon_corr_stats, cross_view_corr_stats = cca_cv_utils.crossvalidated_cca_analysis(X1_df, X2_df, n_components=n_components, reg=reg, n_splits=n_splits)\n"
   ]
  },
  {
   "cell_type": "code",
   "execution_count": null,
   "metadata": {},
   "outputs": [],
   "source": [
    "cca_lag_vs_no_lag_plotting.plot_cca_lag_vs_nolag_and_train_vs_test(combined_X2_df, 'DatasetName', mode='train_offset')\n"
   ]
  },
  {
   "cell_type": "markdown",
   "metadata": {},
   "source": [
    "## compare lags vs no lag & train vs test"
   ]
  },
  {
   "cell_type": "code",
   "execution_count": 64,
   "metadata": {},
   "outputs": [],
   "source": [
    "combined_X1_df, combined_X2_df = cca_lag_vs_no_lag_plotting.combine_data_to_compare_train_and_test(cca_no_lag, cca_lags)"
   ]
  },
  {
   "cell_type": "code",
   "execution_count": null,
   "metadata": {},
   "outputs": [],
   "source": [
    "# can make this into a df based on combined_X2_df\n",
    "\n",
    "cross_view_corr_stats.keys()"
   ]
  },
  {
   "cell_type": "code",
   "execution_count": null,
   "metadata": {},
   "outputs": [],
   "source": [
    "combined_X2_df"
   ]
  },
  {
   "cell_type": "code",
   "execution_count": null,
   "metadata": {},
   "outputs": [],
   "source": [
    "cca_lag_vs_no_lag_plotting.plot_cca_lag_vs_nolag_and_train_vs_test(combined_X2_df, 'DatasetName', mode='lag_offset')\n"
   ]
  },
  {
   "cell_type": "code",
   "execution_count": null,
   "metadata": {},
   "outputs": [],
   "source": [
    "cca_lag_vs_no_lag_plotting.plot_cca_lag_vs_nolag_and_train_vs_test(combined_X2_df, 'DatasetName', mode='train_offset')\n"
   ]
  },
  {
   "cell_type": "markdown",
   "metadata": {},
   "source": [
    "# Transform vars\n",
    "e.g. use basis functions"
   ]
  },
  {
   "cell_type": "code",
   "execution_count": null,
   "metadata": {},
   "outputs": [],
   "source": [
    "cca_no_lag.X2_tf_df = transform_vars.transform_behav_data(cca_no_lag.X2)\n",
    "\n",
    "cca_lags.X2_tf_df = transform_vars.transform_behav_data(cca_lags.X2)\n",
    "\n"
   ]
  },
  {
   "cell_type": "code",
   "execution_count": 85,
   "metadata": {},
   "outputs": [],
   "source": [
    "cca_inst = cca_lags\n",
    "\n",
    "X1_df = cca_inst.X1_sc_df\n",
    "X2_df = cca_inst.X2_tf_df\n"
   ]
  },
  {
   "cell_type": "markdown",
   "metadata": {},
   "source": [
    "## run k-fold CV"
   ]
  },
  {
   "cell_type": "code",
   "execution_count": null,
   "metadata": {},
   "outputs": [],
   "source": [
    "n_splits = 5\n",
    "reg = 0.1\n",
    "n_components = 10\n",
    "\n",
    "# Canonical correlations\n",
    "canon_corr_stats, cross_view_corr_stats = cca_cv_utils.crossvalidated_cca_analysis(X1_df, X2_df, n_components=n_components, reg=reg, n_splits=n_splits)\n"
   ]
  },
  {
   "cell_type": "markdown",
   "metadata": {},
   "source": [
    "## plot"
   ]
  },
  {
   "cell_type": "markdown",
   "metadata": {},
   "source": [
    "### cross view"
   ]
  },
  {
   "cell_type": "code",
   "execution_count": null,
   "metadata": {},
   "outputs": [],
   "source": [
    "use_cross_view_corr = True\n",
    "filter_significant = True\n",
    "sort_by_significance = True\n",
    "significance_threshold = 4\n",
    "\n",
    "# Full plot\n",
    "cca_cv_plotting.plot_cca_cv_results(cross_view_corr_stats, data_type='X1', component=0, use_cross_view_corr=use_cross_view_corr,\n",
    "                                    filter_significant=filter_significant, sort_by_significance=sort_by_significance, significance_threshold=significance_threshold)\n",
    "# Canonical correlation view\n",
    "cca_cv_plotting.plot_cca_cv_results(cross_view_corr_stats, data_type='X2', component=0, use_cross_view_corr=use_cross_view_corr,\n",
    "                                    filter_significant=filter_significant, sort_by_significance=sort_by_significance, significance_threshold=significance_threshold)\n"
   ]
  },
  {
   "cell_type": "markdown",
   "metadata": {},
   "source": [
    "### canon corr"
   ]
  },
  {
   "cell_type": "code",
   "execution_count": null,
   "metadata": {},
   "outputs": [],
   "source": [
    "use_cross_view_corr = False\n",
    "filter_significant = True\n",
    "sort_by_significance = True\n",
    "significance_threshold = 4\n",
    "\n",
    "# Full plot\n",
    "cca_cv_plotting.plot_cca_cv_results(canon_corr_stats, data_type='X1', component=0, use_cross_view_corr=use_cross_view_corr,\n",
    "                                    filter_significant=filter_significant, sort_by_significance=sort_by_significance, significance_threshold=significance_threshold)\n",
    "# Canonical correlation view\n",
    "cca_cv_plotting.plot_cca_cv_results(canon_corr_stats, data_type='X2', component=0, use_cross_view_corr=use_cross_view_corr,\n",
    "                                    filter_significant=filter_significant, sort_by_significance=sort_by_significance, significance_threshold=significance_threshold)\n"
   ]
  },
  {
   "cell_type": "markdown",
   "metadata": {},
   "source": [
    "# Appendix"
   ]
  },
  {
   "cell_type": "markdown",
   "metadata": {},
   "source": [
    "## thoughts: could you use neural data to decode target position?\n",
    "\n",
    "what about 2nd target's position?\n",
    "(can either use 1st target's decoder, or train and separate decoder for 2nd target)\n",
    "\n",
    "also...try GPFA at some point "
   ]
  },
  {
   "cell_type": "markdown",
   "metadata": {},
   "source": [
    "## other potential transformers to use"
   ]
  },
  {
   "cell_type": "code",
   "execution_count": null,
   "metadata": {},
   "outputs": [],
   "source": [
    "transformers = [\n",
    "    ('identity', lambda x: x),\n",
    "    ('log_signed', lambda x: np.log1p(np.abs(x)) * np.sign(x)),\n",
    "    ('poly', lambda x: np.hstack([x**p for p in [1, 2, 3]])),\n",
    "    ('sqrt_signed', lambda x: np.sqrt(np.abs(x)) * np.sign(x)),\n",
    "    ('rank_gauss', rank_gauss_transform)  # optional custom\n",
    "]\n"
   ]
  },
  {
   "cell_type": "markdown",
   "metadata": {},
   "source": [
    "## check NA"
   ]
  },
  {
   "cell_type": "code",
   "execution_count": null,
   "metadata": {},
   "outputs": [],
   "source": [
    "general_utils.find_rows_with_na(cca_inst.X2_sc_df)"
   ]
  },
  {
   "cell_type": "code",
   "execution_count": null,
   "metadata": {},
   "outputs": [],
   "source": [
    "general_utils.check_array_integrity(X_t, name=\"Array\", top_n=10, verbose=True)"
   ]
  },
  {
   "cell_type": "markdown",
   "metadata": {},
   "source": [
    "## permutation test (later)"
   ]
  },
  {
   "cell_type": "code",
   "execution_count": null,
   "metadata": {},
   "outputs": [],
   "source": [
    "import numpy as np\n",
    "from tqdm import tqdm\n",
    "\n",
    "n_permutations = 1000\n",
    "component = 0  # which canonical component\n",
    "n_features = X1.shape[1]\n",
    "\n",
    "# Store observed loadings\n",
    "observed_loadings = mean_X1_test[:, component]  # or use your preferred estimate\n",
    "\n",
    "# Store null distributions\n",
    "null_loadings = np.zeros((n_features, n_permutations))\n",
    "\n",
    "for perm in tqdm(range(n_permutations)):\n",
    "    # Shuffle rows of X1\n",
    "    X1_perm = np.random.permutation(X1)\n",
    "    # Fit CCA on permuted X1 and original X2\n",
    "    cca2 = rcca.CCA(kernelcca=False, reg=0.1, numCC=nComponents)\n",
    "    cca2.train([X1_perm, X2])\n",
    "    U_perm = np.dot(X1_perm, cca2.ws[0])\n",
    "    # Compute loadings for permuted data\n",
    "    load_X1_perm = np.corrcoef(X1_perm.T, U_perm.T)[:n_features, n_features:]\n",
    "    null_loadings[:, perm] = load_X1_perm[:, component]\n",
    "\n",
    "# Compute two-sided p-values\n",
    "p_values = np.mean(np.abs(null_loadings) >= np.abs(observed_loadings[:, None]), axis=1)"
   ]
  },
  {
   "cell_type": "code",
   "execution_count": null,
   "metadata": {},
   "outputs": [],
   "source": [
    "import matplotlib.pyplot as plt\n",
    "\n",
    "alpha = 0.05  # significance level\n",
    "significant_mask = p_values < alpha\n",
    "\n",
    "sig_means = observed_loadings[significant_mask]\n",
    "sig_stds = std_X1_test[significant_mask, component]  # or use std from CV\n",
    "sig_labels = np.array(x1_labels)[significant_mask]\n",
    "\n",
    "plt.figure(figsize=(12, 5))\n",
    "plt.bar(sig_labels, sig_means, yerr=sig_stds, capsize=5, color='skyblue')\n",
    "plt.xticks(rotation=90)\n",
    "plt.ylabel('Mean Canonical Loading')\n",
    "plt.title(f'Significant Canonical Loadings (p < {alpha})')\n",
    "plt.tight_layout()\n",
    "plt.show()"
   ]
  }
 ],
 "metadata": {
  "kernelspec": {
   "display_name": "ff_venv2",
   "language": "python",
   "name": "python3"
  },
  "language_info": {
   "codemirror_mode": {
    "name": "ipython",
    "version": 3
   },
   "file_extension": ".py",
   "mimetype": "text/x-python",
   "name": "python",
   "nbconvert_exporter": "python",
   "pygments_lexer": "ipython3",
   "version": "3.11.11"
  }
 },
 "nbformat": 4,
 "nbformat_minor": 2
}
