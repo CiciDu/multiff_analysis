{
 "cells": [
  {
   "cell_type": "markdown",
   "metadata": {},
   "source": [
    "# Import packages"
   ]
  },
  {
   "cell_type": "code",
   "execution_count": 66,
   "metadata": {},
   "outputs": [],
   "source": [
    "# !pip install -r multiff_analysis/requirements.txt"
   ]
  },
  {
   "cell_type": "code",
   "execution_count": 1,
   "metadata": {},
   "outputs": [
    {
     "name": "stdout",
     "output_type": "stream",
     "text": [
      "done\n",
      "The autoreload extension is already loaded. To reload it, use:\n",
      "  %reload_ext autoreload\n"
     ]
    }
   ],
   "source": [
    "%load_ext autoreload\n",
    "%autoreload 2\n",
    "\n",
    "import os\n",
    "import sys\n",
    "\n",
    "project_folder = '/Users/dusiyi/Documents/Multifirefly-Project'\n",
    "os.chdir(project_folder)\n",
    "sys.path.append(os.path.join(project_folder, 'multiff_analysis', 'methods'))\n",
    "\n",
    "from data_wrangling import general_utils, specific_utils, process_monkey_information\n",
    "from pattern_discovery import pattern_by_trials, pattern_by_trials, cluster_analysis, organize_patterns_and_features\n",
    "from visualization.matplotlib_tools import plot_behaviors_utils\n",
    "from non_behavioral_analysis.neural_data_analysis.get_neural_data import neural_data_processing\n",
    "from non_behavioral_analysis.neural_data_analysis.visualize_neural_data import plot_neural_data, plot_modeling_result\n",
    "from non_behavioral_analysis.neural_data_analysis.model_neural_data import cca_class, neural_data_modeling, drop_high_corr_vars, drop_high_vif_vars\n",
    "from non_behavioral_analysis.neural_data_analysis.neural_vs_behavioral import prep_monkey_data, prep_target_data, neural_vs_behavioral_class\n",
    "from non_behavioral_analysis.neural_data_analysis.planning_neural import planning_neural_class, planning_neural_utils\n",
    "from non_behavioral_analysis.neural_data_analysis.decode_targets import behav_features_to_keep, decode_target_class, plot_gpfa_utils, decode_target_utils, fit_gpfa_utils, gpfa_regression_utils\n",
    "\n",
    "import sys\n",
    "import math\n",
    "import gc\n",
    "import subprocess\n",
    "from pathlib import Path\n",
    "from importlib import reload\n",
    "\n",
    "# Third-party imports\n",
    "import numpy as np\n",
    "from numpy import var\n",
    "import pandas as pd\n",
    "import matplotlib\n",
    "import matplotlib.pyplot as plt\n",
    "import seaborn as sns\n",
    "from matplotlib import rc\n",
    "from scipy import linalg, interpolate\n",
    "from scipy.signal import fftconvolve\n",
    "from scipy.io import loadmat\n",
    "from scipy import sparse\n",
    "import torch\n",
    "from numpy import pi\n",
    "\n",
    "# Machine Learning imports\n",
    "from sklearn.metrics import mean_squared_error, r2_score\n",
    "from sklearn.linear_model import LinearRegression, Ridge\n",
    "from sklearn.cross_decomposition import CCA\n",
    "from sklearn.preprocessing import StandardScaler\n",
    "from sklearn.model_selection import train_test_split, GridSearchCV\n",
    "from statsmodels.stats.outliers_influence import variance_inflation_factor\n",
    "from statsmodels.multivariate.cancorr import CanCorr\n",
    "\n",
    "# Neuroscience specific imports\n",
    "import neo\n",
    "import rcca\n",
    "\n",
    "# To fit gpfa\n",
    "import numpy as np\n",
    "from scipy.integrate import odeint\n",
    "import quantities as pq\n",
    "import neo\n",
    "from elephant.spike_train_generation import inhomogeneous_poisson_process\n",
    "from elephant.gpfa import GPFA\n",
    "import matplotlib.pyplot as plt\n",
    "from mpl_toolkits.mplot3d import Axes3D\n",
    "from elephant.gpfa import gpfa_core, gpfa_util\n",
    "\n",
    "plt.rcParams[\"animation.html\"] = \"html5\"\n",
    "os.environ['KMP_DUPLICATE_LIB_OK']='True'\n",
    "rc('animation', html='jshtml')\n",
    "matplotlib.rcParams.update(matplotlib.rcParamsDefault)\n",
    "matplotlib.rcParams['animation.embed_limit'] = 2**128\n",
    "pd.set_option('display.float_format', lambda x: '%.5f' % x)\n",
    "np.set_printoptions(suppress=True)\n",
    "print(\"done\")\n",
    "\n",
    "\n",
    "pd.set_option('display.max_rows', 10)\n",
    "pd.set_option('display.max_columns', 10)\n",
    "\n",
    "\n",
    "%load_ext autoreload\n",
    "%autoreload 2"
   ]
  },
  {
   "cell_type": "code",
   "execution_count": 5,
   "metadata": {},
   "outputs": [
    {
     "ename": "NameError",
     "evalue": "name 'stop' is not defined",
     "output_type": "error",
     "traceback": [
      "\u001b[31m---------------------------------------------------------------------------\u001b[39m",
      "\u001b[31mNameError\u001b[39m                                 Traceback (most recent call last)",
      "\u001b[36mCell\u001b[39m\u001b[36m \u001b[39m\u001b[32mIn[5]\u001b[39m\u001b[32m, line 2\u001b[39m\n\u001b[32m      1\u001b[39m free_up_memory = \u001b[38;5;28;01mFalse\u001b[39;00m\n\u001b[32m----> \u001b[39m\u001b[32m2\u001b[39m \u001b[43mdec\u001b[49m\u001b[43m.\u001b[49m\u001b[43mstreamline_making_behav_and_neural_data\u001b[49m\u001b[43m(\u001b[49m\u001b[43mfree_up_memory\u001b[49m\u001b[43m=\u001b[49m\u001b[43mfree_up_memory\u001b[49m\u001b[43m)\u001b[49m\n\u001b[32m      3\u001b[39m dec.get_x_and_y_var()\n\u001b[32m      4\u001b[39m dec.pursuit_data.head(\u001b[32m3\u001b[39m)\n",
      "\u001b[36mFile \u001b[39m\u001b[32m<string>:3\u001b[39m, in \u001b[36mstreamline_making_behav_and_neural_data\u001b[39m\u001b[34m(self, free_up_memory)\u001b[39m\n",
      "\u001b[31mNameError\u001b[39m: name 'stop' is not defined"
     ]
    }
   ],
   "source": [
    "free_up_memory = False\n",
    "dec.streamline_making_behav_and_neural_data(free_up_memory=free_up_memory)\n",
    "dec.get_x_and_y_var()\n",
    "dec.pursuit_data.head(3)"
   ]
  },
  {
   "cell_type": "code",
   "execution_count": null,
   "metadata": {},
   "outputs": [],
   "source": [
    "stop!!"
   ]
  },
  {
   "cell_type": "markdown",
   "metadata": {},
   "source": [
    "# Get data"
   ]
  },
  {
   "cell_type": "code",
   "execution_count": 2,
   "metadata": {},
   "outputs": [],
   "source": [
    "raw_data_folder_path = \"all_monkey_data/raw_monkey_data/monkey_Schro/data_0416\"\n",
    "dec = decode_target_class.DecodeTargetClass(raw_data_folder_path=raw_data_folder_path,\n",
    "                                                               bin_width=0.02, window_width=0.05)"
   ]
  },
  {
   "cell_type": "code",
   "execution_count": 3,
   "metadata": {},
   "outputs": [
    {
     "name": "stdout",
     "output_type": "stream",
     "text": [
      "Retrieved monkey_information\n",
      "The number of points that were removed due to delta_position exceeding the ceiling is 0\n",
      "Warning: ff_closest_stop_time_sorted has 1 points out of 470 points that are significantly larger than ff_caught_T_sorted, which is 0.21% of the points. Max value of closest_time - capture time is 0.4813680000000886. They are replaced with the original ff_caught_T in ff_caught_T_new.\n",
      "Warning: ff_closest_stop_time_sorted has 37 points out of 470 points that are outside of the reward boundary, which is 7.87% of the points. They are replaced with the original ff_caught_T in ff_caught_T_new.\n",
      "Note: ff_caught_T_sorted is replaced with ff_caught_T_new\n",
      "Retrieved ff_dataframe from all_monkey_data/processed_data/monkey_Schro/data_0416/ff_dataframe.h5\n"
     ]
    },
    {
     "name": "stderr",
     "output_type": "stream",
     "text": [
      "/Users/dusiyi/Documents/Multifirefly-Project/multiff_analysis/methods/non_behavioral_analysis/neural_data_analysis/neural_vs_behavioral/prep_monkey_data.py:52: FutureWarning: Downcasting object dtype arrays on .fillna, .ffill, .bfill is deprecated and will change in a future version. Call result.infer_objects(copy=False) instead. To opt-in to the future behavior, set `pd.set_option('future.no_silent_downcasting', True)`\n",
      "  monkey_info_in_bins = monkey_info_in_bins.bfill(\n"
     ]
    },
    {
     "name": "stdout",
     "output_type": "stream",
     "text": [
      "Retrieved target_df\n",
      "Warnings: At least one ff has a lower bound of ff_angle_boundary equal to its upper bound after clipping, meaning that the ff's angle to boundary is greater than 90 degrees. Please check the input.\n",
      "Warning: max_big_angle is 179.999741856538 when ff is to the left. There is a problem here. We will adjust them by making them a little less than 90.\n",
      "Warning: 8415 arc out of 180875 arcs where ff is to the left of the monkey has an angle larger than 90 degrees. The max is 179.999741856538. We will adjust them by making them a little less than 90.\n",
      "Warning: At least one arc end is outside the reward boundary. This is invalid. We will adjust them by making them a little less than pi.\n",
      "\n",
      "================================================================================\n",
      "NA Values Analysis for behav_data_all (179,947 rows)\n",
      "================================================================================\n",
      "\n",
      "Columns with NA values:\n",
      "------------------------------------------------------------\n",
      "time_since_target_last_seen               123,681 (  68.7%)\n",
      "target_last_seen_distance                 123,681 (  68.7%)\n",
      "time_target_last_seen                     123,681 (  68.7%)\n",
      "target_last_seen_angle                    123,681 (  68.7%)\n",
      "target_last_seen_angle_to_boundary        123,681 (  68.7%)\n",
      "monkey_x_target_last_seen                 123,681 (  68.7%)\n",
      "monkey_y_target_last_seen                 123,681 (  68.7%)\n",
      "monkey_angle_target_last_seen             123,681 (  68.7%)\n",
      "cum_distance_when_target_last_seen        123,681 (  68.7%)\n",
      "distance_from_monkey_pos_target_last_seen  123,681 (  68.7%)\n",
      "cum_distance_since_target_last_seen       123,681 (  68.7%)\n",
      "d_heading_since_target_last_seen          123,681 (  68.7%)\n",
      "------------------------------------------------------------\n",
      "Retrieved target_clust_last_vis_df\n",
      "Percentage of targets not in a visible cluster out of all targets 61.48936170212767\n",
      "10752 rows of 179947 rows (6.0%) of behav_data_all are preserved after taking out chunks between target last-seen time and capture time\n",
      "0 segments (0.0%) out of 289 segments have 0 duration. They are dropped from pursuit data\n",
      "\n",
      "No NA values found in pursuit_data\n"
     ]
    },
    {
     "ename": "NameError",
     "evalue": "name 'stop' is not defined",
     "output_type": "error",
     "traceback": [
      "\u001b[31m---------------------------------------------------------------------------\u001b[39m",
      "\u001b[31mNameError\u001b[39m                                 Traceback (most recent call last)",
      "\u001b[36mCell\u001b[39m\u001b[36m \u001b[39m\u001b[32mIn[3]\u001b[39m\u001b[32m, line 2\u001b[39m\n\u001b[32m      1\u001b[39m free_up_memory = \u001b[38;5;28;01mFalse\u001b[39;00m\n\u001b[32m----> \u001b[39m\u001b[32m2\u001b[39m \u001b[43mdec\u001b[49m\u001b[43m.\u001b[49m\u001b[43mstreamline_making_behav_and_neural_data\u001b[49m\u001b[43m(\u001b[49m\u001b[43mfree_up_memory\u001b[49m\u001b[43m=\u001b[49m\u001b[43mfree_up_memory\u001b[49m\u001b[43m)\u001b[49m\n\u001b[32m      3\u001b[39m dec.get_x_and_y_var()\n\u001b[32m      4\u001b[39m dec.pursuit_data.head(\u001b[32m3\u001b[39m)\n",
      "\u001b[36mFile \u001b[39m\u001b[32m<string>:5\u001b[39m, in \u001b[36mstreamline_making_behav_and_neural_data\u001b[39m\u001b[34m(self, free_up_memory)\u001b[39m\n",
      "\u001b[31mNameError\u001b[39m: name 'stop' is not defined"
     ]
    }
   ],
   "source": [
    "free_up_memory = False\n",
    "dec.streamline_making_behav_and_neural_data(free_up_memory=free_up_memory)\n",
    "dec.get_x_and_y_var()\n",
    "dec.pursuit_data.head(3)"
   ]
  },
  {
   "cell_type": "markdown",
   "metadata": {},
   "source": [
    "# Target columns lags"
   ]
  },
  {
   "cell_type": "code",
   "execution_count": 4,
   "metadata": {},
   "outputs": [],
   "source": [
    "# dec._make_or_retrieve_target_df(exists_ok=True, fill_na=False)\n",
    "# dec.get_basic_data()"
   ]
  },
  {
   "cell_type": "code",
   "execution_count": 5,
   "metadata": {},
   "outputs": [],
   "source": [
    "# lag_number = - dec.max_y_lag_number\n",
    "# y_var_lags2 = dec.y_var_lags.merge(dec.y_var[['bin', 'target_index']], on='bin', how='left')\n",
    "# temp_target_df = decode_target_utils.process_target_columns_in_lags(y_var_lags2, lag_number, \n",
    "#                                                                     dec.monkey_information, dec.ff_real_position_sorted, dec.ff_dataframe, dec.ff_caught_T_new, dec.curv_of_traj_df)"
   ]
  },
  {
   "cell_type": "code",
   "execution_count": 10,
   "metadata": {},
   "outputs": [
    {
     "data": {
      "text/plain": [
       "Index(['bin', 'point_index', 'monkey_speed', 'monkey_angle', 'monkey_dw',\n",
       "       'monkey_ddw', 'monkey_ddv', 'monkey_speeddummy',\n",
       "       'whether_new_distinct_stop', 'delta_distance', 'LDy', 'LDz', 'RDy',\n",
       "       'RDz', 'gaze_mky_view_x_l', 'gaze_mky_view_y_l',\n",
       "       'gaze_mky_view_angle_l', 'gaze_mky_view_x_r', 'gaze_mky_view_y_r',\n",
       "       'gaze_mky_view_angle_r', 'eye_world_speed', 'valid_view_point_l',\n",
       "       'valid_view_point_r', 'num_alive_ff', 'num_visible_ff',\n",
       "       'min_ff_distance', 'min_abs_ff_angle', 'min_abs_ff_angle_boundary',\n",
       "       'min_visible_ff_distance', 'min_abs_visible_ff_angle',\n",
       "       'min_abs_visible_ff_angle_boundary', 'catching_ff', 'any_ff_visible',\n",
       "       'target_distance', 'target_angle', 'target_angle_to_boundary',\n",
       "       'target_rel_x', 'target_rel_y', 'time_since_target_last_seen',\n",
       "       'target_last_seen_distance', 'target_last_seen_angle',\n",
       "       'target_last_seen_angle_to_boundary', 'target_visible_dummy',\n",
       "       'time_since_last_capture', 'traj_curv', 'target_opt_arc_dheading',\n",
       "       'time_target_last_seen', 'distance_from_monkey_pos_target_last_seen',\n",
       "       'cum_distance_since_target_last_seen',\n",
       "       'd_heading_since_target_last_seen', 'time', 'monkey_x', 'monkey_y',\n",
       "       'cum_distance', 'gaze_world_x_l', 'gaze_world_y_l', 'gaze_world_x_r',\n",
       "       'gaze_world_y_r', 'target_index', 'target_x', 'target_y'],\n",
       "      dtype='object')"
      ]
     },
     "execution_count": 10,
     "metadata": {},
     "output_type": "execute_result"
    }
   ],
   "source": [
    "dec.y_var.columns"
   ]
  },
  {
   "cell_type": "code",
   "execution_count": 8,
   "metadata": {},
   "outputs": [
    {
     "data": {
      "application/vnd.microsoft.datawrangler.viewer.v0+json": {
       "columns": [
        {
         "name": "index",
         "rawType": "int64",
         "type": "integer"
        },
        {
         "name": "target_index",
         "rawType": "int64",
         "type": "integer"
        }
       ],
       "ref": "421abd62-b432-455b-8aa8-0835dfb3023e",
       "rows": [
        [
         "0",
         "1"
        ],
        [
         "1",
         "1"
        ],
        [
         "2",
         "1"
        ],
        [
         "3",
         "1"
        ],
        [
         "4",
         "1"
        ],
        [
         "5",
         "1"
        ],
        [
         "6",
         "1"
        ],
        [
         "7",
         "1"
        ],
        [
         "8",
         "1"
        ],
        [
         "9",
         "1"
        ],
        [
         "10",
         "1"
        ],
        [
         "11",
         "1"
        ],
        [
         "12",
         "1"
        ],
        [
         "13",
         "1"
        ],
        [
         "14",
         "1"
        ],
        [
         "15",
         "1"
        ],
        [
         "16",
         "1"
        ],
        [
         "17",
         "1"
        ],
        [
         "18",
         "1"
        ],
        [
         "19",
         "1"
        ],
        [
         "20",
         "1"
        ],
        [
         "21",
         "1"
        ],
        [
         "22",
         "1"
        ],
        [
         "23",
         "1"
        ],
        [
         "24",
         "1"
        ],
        [
         "25",
         "1"
        ],
        [
         "26",
         "1"
        ],
        [
         "27",
         "1"
        ],
        [
         "28",
         "1"
        ],
        [
         "29",
         "1"
        ],
        [
         "30",
         "1"
        ],
        [
         "31",
         "1"
        ],
        [
         "32",
         "1"
        ],
        [
         "33",
         "1"
        ],
        [
         "34",
         "1"
        ],
        [
         "35",
         "1"
        ],
        [
         "36",
         "1"
        ],
        [
         "37",
         "1"
        ],
        [
         "38",
         "1"
        ],
        [
         "39",
         "1"
        ],
        [
         "40",
         "1"
        ],
        [
         "41",
         "1"
        ],
        [
         "42",
         "1"
        ],
        [
         "43",
         "1"
        ],
        [
         "44",
         "1"
        ],
        [
         "45",
         "1"
        ],
        [
         "46",
         "1"
        ],
        [
         "47",
         "1"
        ],
        [
         "48",
         "1"
        ],
        [
         "49",
         "1"
        ]
       ],
       "shape": {
        "columns": 1,
        "rows": 10675
       }
      },
      "text/plain": [
       "0          1\n",
       "1          1\n",
       "2          1\n",
       "3          1\n",
       "4          1\n",
       "        ... \n",
       "10670    468\n",
       "10671    468\n",
       "10672    468\n",
       "10673    468\n",
       "10674    468\n",
       "Name: target_index, Length: 10675, dtype: int64"
      ]
     },
     "execution_count": 8,
     "metadata": {},
     "output_type": "execute_result"
    }
   ],
   "source": [
    "dec.y_var['target_index']"
   ]
  },
  {
   "cell_type": "code",
   "execution_count": 12,
   "metadata": {},
   "outputs": [],
   "source": [
    "target_df_lags = decode_target_utils.make_target_df_lags(dec.y_var, dec.max_y_lag_number)"
   ]
  },
  {
   "cell_type": "code",
   "execution_count": null,
   "metadata": {},
   "outputs": [],
   "source": [
    "if 'target_index' not in dec.y_var_lags.columns:\n",
    "    dec.y_var_lags = dec.y_var_lags.merge(dec.y_var[['bin', 'target_index']], on='bin', how='left')"
   ]
  },
  {
   "cell_type": "code",
   "execution_count": null,
   "metadata": {},
   "outputs": [
    {
     "ename": "SyntaxError",
     "evalue": "invalid syntax (3319058519.py, line 1)",
     "output_type": "error",
     "traceback": [
      "  \u001b[36mCell\u001b[39m\u001b[36m \u001b[39m\u001b[32mIn[8]\u001b[39m\u001b[32m, line 1\u001b[39m\n\u001b[31m    \u001b[39m\u001b[31mstop!\u001b[39m\n        ^\n\u001b[31mSyntaxError\u001b[39m\u001b[31m:\u001b[39m invalid syntax\n"
     ]
    }
   ],
   "source": [
    "stop!"
   ]
  },
  {
   "cell_type": "code",
   "execution_count": null,
   "metadata": {},
   "outputs": [],
   "source": [
    "import ipdb"
   ]
  },
  {
   "cell_type": "code",
   "execution_count": null,
   "metadata": {},
   "outputs": [
    {
     "name": "stdout",
     "output_type": "stream",
     "text": [
      "Automatic pdb calling has been turned ON\n"
     ]
    }
   ],
   "source": [
    "%pdb on"
   ]
  },
  {
   "cell_type": "code",
   "execution_count": null,
   "metadata": {},
   "outputs": [],
   "source": [
    "y_var_lags = decode_target_utils.process_target_columns_in_lags(dec.y_var_lags, target_df_lags, dec.max_y_lag_number)"
   ]
  },
  {
   "cell_type": "code",
   "execution_count": null,
   "metadata": {},
   "outputs": [
    {
     "ename": "NameError",
     "evalue": "name 'temp_target_df' is not defined",
     "output_type": "error",
     "traceback": [
      "\u001b[31m---------------------------------------------------------------------------\u001b[39m",
      "\u001b[31mNameError\u001b[39m                                 Traceback (most recent call last)",
      "\u001b[36mCell\u001b[39m\u001b[36m \u001b[39m\u001b[32mIn[9]\u001b[39m\u001b[32m, line 1\u001b[39m\n\u001b[32m----> \u001b[39m\u001b[32m1\u001b[39m temp_target_df = decode_target_utils.add_target_info_based_on_target_index_and_point_index(\u001b[43mtemp_target_df\u001b[49m, dec.monkey_information, dec.ff_real_position_sorted, \n\u001b[32m      2\u001b[39m                                                                                             dec.ff_dataframe, dec.ff_caught_T_new, dec.curv_of_traj_df)\n",
      "\u001b[31mNameError\u001b[39m: name 'temp_target_df' is not defined"
     ]
    }
   ],
   "source": [
    "temp_target_df = decode_target_utils.add_target_info_based_on_target_index_and_point_index(temp_target_df, dec.monkey_information, dec.ff_real_position_sorted, \n",
    "                                                                                            dec.ff_dataframe, dec.ff_caught_T_new, dec.curv_of_traj_df)\n"
   ]
  },
  {
   "cell_type": "markdown",
   "metadata": {},
   "source": [
    "## inspect"
   ]
  },
  {
   "cell_type": "code",
   "execution_count": null,
   "metadata": {},
   "outputs": [
    {
     "data": {
      "text/html": [
       "<div>\n",
       "<style scoped>\n",
       "    .dataframe tbody tr th:only-of-type {\n",
       "        vertical-align: middle;\n",
       "    }\n",
       "\n",
       "    .dataframe tbody tr th {\n",
       "        vertical-align: top;\n",
       "    }\n",
       "\n",
       "    .dataframe thead th {\n",
       "        text-align: right;\n",
       "    }\n",
       "</style>\n",
       "<table border=\"1\" class=\"dataframe\">\n",
       "  <thead>\n",
       "    <tr style=\"text-align: right;\">\n",
       "      <th></th>\n",
       "      <th>bin</th>\n",
       "      <th>target_index</th>\n",
       "      <th>time</th>\n",
       "      <th>-5_time_target_last_seen</th>\n",
       "      <th>time_target_last_seen</th>\n",
       "      <th>-5_target_last_seen_distance</th>\n",
       "      <th>target_last_seen_distance</th>\n",
       "      <th>-5_time_since_target_last_seen</th>\n",
       "      <th>time_since_target_last_seen</th>\n",
       "    </tr>\n",
       "  </thead>\n",
       "  <tbody>\n",
       "    <tr>\n",
       "      <th>0</th>\n",
       "      <td>1161</td>\n",
       "      <td>1</td>\n",
       "      <td>23.23504</td>\n",
       "      <td>23.21834</td>\n",
       "      <td>23.21834</td>\n",
       "      <td>244.05748</td>\n",
       "      <td>244.05748</td>\n",
       "      <td>0.11630</td>\n",
       "      <td>0.01669</td>\n",
       "    </tr>\n",
       "    <tr>\n",
       "      <th>1</th>\n",
       "      <td>1162</td>\n",
       "      <td>1</td>\n",
       "      <td>23.25155</td>\n",
       "      <td>23.21834</td>\n",
       "      <td>23.21834</td>\n",
       "      <td>244.05748</td>\n",
       "      <td>244.05748</td>\n",
       "      <td>0.13285</td>\n",
       "      <td>0.03321</td>\n",
       "    </tr>\n",
       "    <tr>\n",
       "      <th>2</th>\n",
       "      <td>1163</td>\n",
       "      <td>1</td>\n",
       "      <td>23.26827</td>\n",
       "      <td>23.21834</td>\n",
       "      <td>23.21834</td>\n",
       "      <td>244.05748</td>\n",
       "      <td>244.05748</td>\n",
       "      <td>0.14949</td>\n",
       "      <td>0.04992</td>\n",
       "    </tr>\n",
       "    <tr>\n",
       "      <th>3</th>\n",
       "      <td>1164</td>\n",
       "      <td>1</td>\n",
       "      <td>23.28476</td>\n",
       "      <td>23.21834</td>\n",
       "      <td>23.21834</td>\n",
       "      <td>244.05748</td>\n",
       "      <td>244.05748</td>\n",
       "      <td>0.16599</td>\n",
       "      <td>0.06642</td>\n",
       "    </tr>\n",
       "    <tr>\n",
       "      <th>4</th>\n",
       "      <td>1165</td>\n",
       "      <td>1</td>\n",
       "      <td>23.30168</td>\n",
       "      <td>23.21834</td>\n",
       "      <td>23.21834</td>\n",
       "      <td>244.05748</td>\n",
       "      <td>244.05748</td>\n",
       "      <td>0.18273</td>\n",
       "      <td>0.08334</td>\n",
       "    </tr>\n",
       "    <tr>\n",
       "      <th>...</th>\n",
       "      <td>...</td>\n",
       "      <td>...</td>\n",
       "      <td>...</td>\n",
       "      <td>...</td>\n",
       "      <td>...</td>\n",
       "      <td>...</td>\n",
       "      <td>...</td>\n",
       "      <td>...</td>\n",
       "      <td>...</td>\n",
       "    </tr>\n",
       "    <tr>\n",
       "      <th>10670</th>\n",
       "      <td>179872</td>\n",
       "      <td>468</td>\n",
       "      <td>3597.44249</td>\n",
       "      <td>3596.64567</td>\n",
       "      <td>3596.64567</td>\n",
       "      <td>125.11175</td>\n",
       "      <td>125.11175</td>\n",
       "      <td>0.89655</td>\n",
       "      <td>0.79683</td>\n",
       "    </tr>\n",
       "    <tr>\n",
       "      <th>10671</th>\n",
       "      <td>179873</td>\n",
       "      <td>468</td>\n",
       "      <td>3597.47576</td>\n",
       "      <td>NaN</td>\n",
       "      <td>3596.64567</td>\n",
       "      <td>NaN</td>\n",
       "      <td>125.11175</td>\n",
       "      <td>NaN</td>\n",
       "      <td>0.83009</td>\n",
       "    </tr>\n",
       "    <tr>\n",
       "      <th>10672</th>\n",
       "      <td>179874</td>\n",
       "      <td>468</td>\n",
       "      <td>3597.49224</td>\n",
       "      <td>NaN</td>\n",
       "      <td>3596.64567</td>\n",
       "      <td>NaN</td>\n",
       "      <td>125.11175</td>\n",
       "      <td>NaN</td>\n",
       "      <td>0.84658</td>\n",
       "    </tr>\n",
       "    <tr>\n",
       "      <th>10673</th>\n",
       "      <td>179875</td>\n",
       "      <td>468</td>\n",
       "      <td>3597.50893</td>\n",
       "      <td>NaN</td>\n",
       "      <td>3596.64567</td>\n",
       "      <td>NaN</td>\n",
       "      <td>125.11175</td>\n",
       "      <td>NaN</td>\n",
       "      <td>0.86327</td>\n",
       "    </tr>\n",
       "    <tr>\n",
       "      <th>10674</th>\n",
       "      <td>179876</td>\n",
       "      <td>468</td>\n",
       "      <td>3597.52542</td>\n",
       "      <td>NaN</td>\n",
       "      <td>3596.64567</td>\n",
       "      <td>NaN</td>\n",
       "      <td>125.11175</td>\n",
       "      <td>NaN</td>\n",
       "      <td>0.87975</td>\n",
       "    </tr>\n",
       "  </tbody>\n",
       "</table>\n",
       "<p>10675 rows × 9 columns</p>\n",
       "</div>"
      ],
      "text/plain": [
       "          bin  target_index       time  -5_time_target_last_seen  \\\n",
       "0        1161             1   23.23504                  23.21834   \n",
       "1        1162             1   23.25155                  23.21834   \n",
       "2        1163             1   23.26827                  23.21834   \n",
       "3        1164             1   23.28476                  23.21834   \n",
       "4        1165             1   23.30168                  23.21834   \n",
       "...       ...           ...        ...                       ...   \n",
       "10670  179872           468 3597.44249                3596.64567   \n",
       "10671  179873           468 3597.47576                       NaN   \n",
       "10672  179874           468 3597.49224                       NaN   \n",
       "10673  179875           468 3597.50893                       NaN   \n",
       "10674  179876           468 3597.52542                       NaN   \n",
       "\n",
       "       time_target_last_seen  -5_target_last_seen_distance  \\\n",
       "0                   23.21834                     244.05748   \n",
       "1                   23.21834                     244.05748   \n",
       "2                   23.21834                     244.05748   \n",
       "3                   23.21834                     244.05748   \n",
       "4                   23.21834                     244.05748   \n",
       "...                      ...                           ...   \n",
       "10670             3596.64567                     125.11175   \n",
       "10671             3596.64567                           NaN   \n",
       "10672             3596.64567                           NaN   \n",
       "10673             3596.64567                           NaN   \n",
       "10674             3596.64567                           NaN   \n",
       "\n",
       "       target_last_seen_distance  -5_time_since_target_last_seen  \\\n",
       "0                      244.05748                         0.11630   \n",
       "1                      244.05748                         0.13285   \n",
       "2                      244.05748                         0.14949   \n",
       "3                      244.05748                         0.16599   \n",
       "4                      244.05748                         0.18273   \n",
       "...                          ...                             ...   \n",
       "10670                  125.11175                         0.89655   \n",
       "10671                  125.11175                             NaN   \n",
       "10672                  125.11175                             NaN   \n",
       "10673                  125.11175                             NaN   \n",
       "10674                  125.11175                             NaN   \n",
       "\n",
       "       time_since_target_last_seen  \n",
       "0                          0.01669  \n",
       "1                          0.03321  \n",
       "2                          0.04992  \n",
       "3                          0.06642  \n",
       "4                          0.08334  \n",
       "...                            ...  \n",
       "10670                      0.79683  \n",
       "10671                      0.83009  \n",
       "10672                      0.84658  \n",
       "10673                      0.86327  \n",
       "10674                      0.87975  \n",
       "\n",
       "[10675 rows x 9 columns]"
      ]
     },
     "metadata": {},
     "output_type": "display_data"
    }
   ],
   "source": [
    "temp_target_df2 = dec.y_var[['bin', 'target_index', 'time']].copy()\n",
    "for col in ['time_target_last_seen', 'target_last_seen_distance', 'time_since_target_last_seen']:\n",
    "    temp_target_df2[f'{lag_number}_{col}'] = y_var_lags2[f'{col}_{lag_number}']\n",
    "    temp_target_df2[col] = dec.y_var[col]\n",
    "temp_target_df2"
   ]
  },
  {
   "cell_type": "code",
   "execution_count": null,
   "metadata": {},
   "outputs": [
    {
     "name": "stdout",
     "output_type": "stream",
     "text": [
      "\n",
      "No NA values found in DataFrame\n",
      "\n",
      "================================================================================\n",
      "🔍 Duplicate Rows Analysis:\n",
      "================================================================================\n",
      "\n",
      "Found 2 duplicate rows\n",
      "\n",
      "Duplicate rows:\n",
      "------------------------------------------------------------\n",
      "       target_distance_5  target_angle_5  target_angle_to_boundary_5  \\\n",
      "10371          159.43123        -0.01182                    -0.00000   \n",
      "10372          159.43123        -0.01182                    -0.00000   \n",
      "\n",
      "       target_rel_x_5  target_rel_y_5  ...  \\\n",
      "10371         1.88419       159.42010  ...   \n",
      "10372         1.88419       159.42010  ...   \n",
      "\n",
      "       distance_from_monkey_pos_target_last_seen_5  \\\n",
      "10371                                     93.61758   \n",
      "10372                                     93.61758   \n",
      "\n",
      "       cum_distance_since_target_last_seen_5  \\\n",
      "10371                               93.63954   \n",
      "10372                               93.63954   \n",
      "\n",
      "       d_heading_since_target_last_seen_5  target_x_5  target_y_5  \n",
      "10371                             0.08302   457.70046  -706.58552  \n",
      "10372                             0.08302   457.70046  -706.58552  \n",
      "\n",
      "[2 rows x 17 columns]\n",
      "\n",
      "Duplicate combinations:\n",
      "------------------------------------------------------------\n",
      "target_distance_5  target_angle_5  target_angle_to_boundary_5  target_rel_x_5  target_rel_y_5  time_since_target_last_seen_5  target_last_seen_distance_5  target_last_seen_angle_5  target_last_seen_angle_to_boundary_5  target_visible_dummy_5  target_opt_arc_dheading_5  time_target_last_seen_5  distance_from_monkey_pos_target_last_seen_5  cum_distance_since_target_last_seen_5  d_heading_since_target_last_seen_5  target_x_5  target_y_5\n",
      "159.43123          -0.01182        -0.00000                    1.88419         159.42010       0.79692                        253.01799                    0.05924                   0.01971                               0                       -0.00016                   2385.60562               93.61758                                     93.63954                               0.08302                             457.70046   -706.58552    2\n",
      "Name: count, dtype: int64\n",
      "================================================================================\n"
     ]
    }
   ],
   "source": [
    "na_rows, na_cols = general_utils.find_rows_with_na(temp_target_df)\n",
    "duplicate_rows = general_utils.find_duplicate_rows(temp_target_df, column_subset=None)"
   ]
  },
  {
   "cell_type": "code",
   "execution_count": null,
   "metadata": {},
   "outputs": [],
   "source": []
  },
  {
   "cell_type": "markdown",
   "metadata": {},
   "source": [
    "# GPFA"
   ]
  },
  {
   "cell_type": "markdown",
   "metadata": {},
   "source": [
    "## get data for GPFA"
   ]
  },
  {
   "cell_type": "code",
   "execution_count": null,
   "metadata": {},
   "outputs": [
    {
     "data": {
      "text/plain": [
       "Index(['target_index', 'last_vis_point_index', 'last_vis_ff_index',\n",
       "       'nearby_vis_ff_indices', 'time_since_last_vis', 'last_vis_dist',\n",
       "       'last_vis_cum_dist', 'last_vis_ang', 'last_vis_ang_to_bndry',\n",
       "       'last_vis_target_dist', 'last_vis_target_ang',\n",
       "       'last_vis_target_ang_to_bndry', 'abs_last_vis_ang',\n",
       "       'abs_last_vis_ang_to_bndry', 'abs_last_vis_target_ang',\n",
       "       'abs_last_vis_target_ang_to_bndry', 'nearby_alive_ff_indices',\n",
       "       'num_nearby_vis_ff', 'ff_caught_time', 'ff_caught_point_index',\n",
       "       'last_vis_time', 'segment', 'seg_start_time', 'seg_end_time',\n",
       "       'seg_duration'],\n",
       "      dtype='object')"
      ]
     },
     "execution_count": 17,
     "metadata": {},
     "output_type": "execute_result"
    }
   ],
   "source": [
    "dec.single_vis_target_df.columns"
   ]
  },
  {
   "cell_type": "code",
   "execution_count": null,
   "metadata": {},
   "outputs": [
    {
     "name": "stdout",
     "output_type": "stream",
     "text": [
      "169\n",
      "86\n",
      "21\n"
     ]
    }
   ],
   "source": [
    "dec.prepare_spikes_for_gpfa()\n",
    "\n",
    "print(len(dec.spiketrains))\n",
    "print(len(dec.spiketrains[0]))\n",
    "print(len(dec.spiketrains[0][2]))"
   ]
  },
  {
   "cell_type": "markdown",
   "metadata": {},
   "source": [
    "## fit gpfa"
   ]
  },
  {
   "cell_type": "code",
   "execution_count": null,
   "metadata": {},
   "outputs": [
    {
     "data": {
      "text/plain": [
       "169"
      ]
     },
     "execution_count": 19,
     "metadata": {},
     "output_type": "execute_result"
    }
   ],
   "source": [
    "len(dec.spiketrains)"
   ]
  },
  {
   "cell_type": "code",
   "execution_count": null,
   "metadata": {},
   "outputs": [
    {
     "ename": "TypeError",
     "evalue": "GPFA.__init__() got an unexpected keyword argument 'bin_width_w_unit'",
     "output_type": "error",
     "traceback": [
      "\u001b[31m---------------------------------------------------------------------------\u001b[39m",
      "\u001b[31mTypeError\u001b[39m                                 Traceback (most recent call last)",
      "\u001b[36mCell\u001b[39m\u001b[36m \u001b[39m\u001b[32mIn[20]\u001b[39m\u001b[32m, line 1\u001b[39m\n\u001b[32m----> \u001b[39m\u001b[32m1\u001b[39m \u001b[43mdec\u001b[49m\u001b[43m.\u001b[49m\u001b[43mget_gpfa_traj\u001b[49m\u001b[43m(\u001b[49m\u001b[43mlatent_dimensionality\u001b[49m\u001b[43m=\u001b[49m\u001b[32;43m10\u001b[39;49m\u001b[43m)\u001b[49m\n",
      "\u001b[36mFile \u001b[39m\u001b[32m~/Documents/Multifirefly-Project/multiff_analysis/methods/non_behavioral_analysis/neural_data_analysis/decode_targets/decode_target_class.py:270\u001b[39m, in \u001b[36mDecodeTargetClass.get_gpfa_traj\u001b[39m\u001b[34m(self, latent_dimensionality)\u001b[39m\n\u001b[32m    268\u001b[39m \u001b[38;5;28;01mdef\u001b[39;00m\u001b[38;5;250m \u001b[39m\u001b[34mget_gpfa_traj\u001b[39m(\u001b[38;5;28mself\u001b[39m, latent_dimensionality=\u001b[32m10\u001b[39m):\n\u001b[32m--> \u001b[39m\u001b[32m270\u001b[39m     gpfa_3dim = \u001b[43mGPFA\u001b[49m\u001b[43m(\u001b[49m\u001b[43mbin_width_w_unit\u001b[49m\u001b[43m=\u001b[49m\u001b[38;5;28;43mself\u001b[39;49m\u001b[43m.\u001b[49m\u001b[43mbin_width_w_unit\u001b[49m\u001b[43m,\u001b[49m\n\u001b[32m    271\u001b[39m \u001b[43m                     \u001b[49m\u001b[43mx_dim\u001b[49m\u001b[43m=\u001b[49m\u001b[43mlatent_dimensionality\u001b[49m\u001b[43m)\u001b[49m\n\u001b[32m    272\u001b[39m     \u001b[38;5;28mself\u001b[39m.trajectories = gpfa_3dim.fit_transform(\u001b[38;5;28mself\u001b[39m.spiketrains)\n",
      "\u001b[31mTypeError\u001b[39m: GPFA.__init__() got an unexpected keyword argument 'bin_width_w_unit'"
     ]
    },
    {
     "name": "stdout",
     "output_type": "stream",
     "text": [
      "> \u001b[32m/Users/dusiyi/Documents/Multifirefly-Project/multiff_analysis/methods/non_behavioral_analysis/neural_data_analysis/decode_targets/decode_target_class.py\u001b[39m(\u001b[92m270\u001b[39m)\u001b[36mget_gpfa_traj\u001b[39m\u001b[34m()\u001b[39m\n",
      "\u001b[32m    268\u001b[39m     \u001b[38;5;28;01mdef\u001b[39;00m get_gpfa_traj(self, latent_dimensionality=\u001b[32m10\u001b[39m):\n",
      "\u001b[32m    269\u001b[39m \n",
      "\u001b[32m--> 270\u001b[39m         gpfa_3dim = GPFA(bin_width_w_unit=self.bin_width_w_unit,\n",
      "\u001b[32m    271\u001b[39m                          x_dim=latent_dimensionality)\n",
      "\u001b[32m    272\u001b[39m         self.trajectories = gpfa_3dim.fit_transform(self.spiketrains)\n",
      "\n"
     ]
    }
   ],
   "source": [
    "dec.get_gpfa_traj(latent_dimensionality=10)\n"
   ]
  },
  {
   "cell_type": "code",
   "execution_count": null,
   "metadata": {},
   "outputs": [],
   "source": [
    "stop!"
   ]
  },
  {
   "cell_type": "markdown",
   "metadata": {},
   "source": [
    "## plot latent dimensions"
   ]
  },
  {
   "cell_type": "code",
   "execution_count": null,
   "metadata": {},
   "outputs": [],
   "source": [
    "plot_gpfa_utils.plot_gpfa_traj_3d_uniform_color()\n"
   ]
  },
  {
   "cell_type": "code",
   "execution_count": null,
   "metadata": {},
   "outputs": [],
   "source": [
    "# First, enable interactive mode in your notebook\n",
    "%matplotlib inline\n",
    "\n",
    "# Import required modules\n",
    "import numpy as np\n",
    "import matplotlib.pyplot as plt\n",
    "from mpl_toolkits.mplot3d import Axes3D\n",
    "from matplotlib import cm\n",
    "\n",
    "# Create the interactive plot\n",
    "fig, ax = plot_gpfa_utils.plot_gpfa_traj_3d(\n",
    "    trajectories=dec.trajectories,\n",
    "    figsize=(15, 5),\n",
    "    linewidth_single_trial=0.75,\n",
    "    alpha_single_trial=0.3,\n",
    "    linewidth_trial_average=2,\n",
    "    title='Latent dynamics extracted by GPFA',\n",
    "    view_azim=-5,\n",
    "    view_elev=60\n",
    ")\n",
    "\n",
    "plt.show()"
   ]
  },
  {
   "cell_type": "code",
   "execution_count": null,
   "metadata": {},
   "outputs": [],
   "source": [
    "# fig = plot_gpfa_utils.plot_gpfa_traj_3d_plotly(trajectories)"
   ]
  },
  {
   "cell_type": "code",
   "execution_count": null,
   "metadata": {},
   "outputs": [],
   "source": [
    "# Find variance explained by each latent dimension\n",
    "traj_stack = np.stack(dec.trajectories, axis=0)  # shape: (n_trials, 3, T)\n",
    "var_by_dim = var(traj_stack, axis=(0, 2))    # variance across trials and time\n",
    "var_by_dim /= var_by_dim.sum()               # normalize to get explained variance ratio\n",
    "print(\"Variance explained by each latent dimension:\", var_by_dim)\n"
   ]
  },
  {
   "cell_type": "code",
   "execution_count": null,
   "metadata": {},
   "outputs": [],
   "source": [
    "\n",
    "%matplotlib inline\n",
    "import matplotlib.pyplot as plt\n",
    "import numpy as np\n",
    "\n",
    "fig, ax = plt.subplots(figsize=(15, 5))\n",
    "\n",
    "ax.set_title('Latent dynamics extracted by GPFA')\n",
    "ax.set_xlabel('Time [s]')\n",
    "\n",
    "average_trajectory = np.mean(, axis=0)\n",
    "time = np.arange(len(average_trajectory[0])) * 0.02  # assuming all trajectories have the same length\n",
    "\n",
    "for i, x in enumerate(average_trajectory):\n",
    "    ax.plot(time, x, label=f'Dim {i+1}')\n",
    "\n",
    "ax.legend()\n",
    "\n",
    "plt.tight_layout()\n",
    "plt.show()\n"
   ]
  },
  {
   "cell_type": "markdown",
   "metadata": {},
   "source": [
    "## prepare data for regression"
   ]
  },
  {
   "cell_type": "markdown",
   "metadata": {},
   "source": [
    "## regression"
   ]
  },
  {
   "cell_type": "code",
   "execution_count": null,
   "metadata": {},
   "outputs": [],
   "source": [
    "dec.common_t_stop = max(dec.spike_segs_df['t_duration']) * pq.s + dec.bin_width_w_unit        "
   ]
  },
  {
   "cell_type": "code",
   "execution_count": null,
   "metadata": {},
   "outputs": [],
   "source": [
    "dec.get_gpfa_and_behav_data_for_all_trials()"
   ]
  },
  {
   "cell_type": "code",
   "execution_count": null,
   "metadata": {},
   "outputs": [],
   "source": [
    "max_timepoints = int(1.5/0.02)\n",
    "scores_by_time, times = gpfa_regression_utils.time_resolved_regression_variable_length(dec.gpfa_trials, dec.behavior_trials, time_step=0.02, cv_folds=5, max_timepoints=max_timepoints)"
   ]
  },
  {
   "cell_type": "code",
   "execution_count": null,
   "metadata": {},
   "outputs": [],
   "source": [
    "behavior_labels = dec.pursuit_data_by_trial.drop(columns=['segment']).columns\n",
    "len(behavior_labels)\n",
    "scores_by_time_df = pd.DataFrame(scores_by_time, columns=behavior_labels)\n",
    "# see the percentage of 1 of this dummy variable\n",
    "dec.pursuit_data_by_trial[['whether_new_distinct_stop']].sum()/len(dec.pursuit_data_by_trial)"
   ]
  },
  {
   "cell_type": "code",
   "execution_count": null,
   "metadata": {},
   "outputs": [],
   "source": [
    "gpfa_regression_utils.plot_time_resolved_scores(scores_by_time, times, behavior_labels=behavior_labels)\n"
   ]
  },
  {
   "cell_type": "code",
   "execution_count": null,
   "metadata": {},
   "outputs": [],
   "source": [
    "trial_counts = np.array([sum(latent.shape[0] > t for latent in gpfa_trials)\n",
    "                         for t in range(scores_by_time.shape[0])])\n",
    "plt.plot(times, trial_counts)\n",
    "plt.xlabel(\"Time (s)\")\n",
    "plt.ylabel(\"Trials with data\")\n"
   ]
  },
  {
   "cell_type": "markdown",
   "metadata": {},
   "source": [
    "# Reduce columns in lags"
   ]
  },
  {
   "cell_type": "code",
   "execution_count": null,
   "metadata": {},
   "outputs": [
    {
     "name": "stdout",
     "output_type": "stream",
     "text": [
      "\n",
      "====================Dropping lags of features with high correlation for each feature====================\n",
      "Processing feature 1/60\n",
      "10 columns of *monkey_angle* dropped: [-5, -4, -3, -2, -1, 0, 1, 2, 3, 4]\n",
      "9 columns of *monkey_speeddummy* dropped: [-4, -3, -2, -1, 0, 1, 2, 3, 4]\n",
      "Processing feature 11/60\n",
      "Processing feature 21/60\n",
      "9 columns of *valid_view_point_l* dropped: [-4, -3, -2, -1, 0, 1, 2, 3, 4]\n",
      "9 columns of *valid_view_point_r* dropped: [-4, -3, -2, -1, 0, 1, 2, 3, 4]\n",
      "10 columns of *num_alive_ff* dropped: [-5, -4, -3, -2, -1, 0, 1, 2, 3, 4]\n",
      "9 columns of *num_visible_ff* dropped: [-4, -3, -2, -1, 0, 1, 2, 3, 4]\n",
      "9 columns of *min_ff_distance* dropped: [-4, -3, -2, -1, 0, 1, 2, 3, 4]\n",
      "9 columns of *min_abs_ff_angle* dropped: [-4, -3, -2, -1, 0, 1, 2, 3, 4]\n",
      "10 columns of *min_abs_ff_angle_boundary* dropped: [-5, -4, -3, -2, -1, 0, 1, 2, 3, 4]\n",
      "9 columns of *min_visible_ff_distance* dropped: [-4, -3, -2, -1, 0, 1, 2, 3, 4]\n",
      "9 columns of *min_abs_visible_ff_angle* dropped: [-4, -3, -2, -1, 0, 1, 2, 3, 4]\n",
      "9 columns of *min_abs_visible_ff_angle_boundary* dropped: [-4, -3, -2, -1, 0, 1, 2, 3, 4]\n",
      "Processing feature 31/60\n",
      "9 columns of *any_ff_visible* dropped: [-4, -3, -2, -1, 0, 1, 2, 3, 4]\n",
      "6 columns of *target_distance* dropped: [-4, 0, 1, 2, 3, 4]\n",
      "9 columns of *target_angle* dropped: [-4, -3, -2, -1, 0, 1, 2, 3, 4]\n",
      "9 columns of *target_angle_to_boundary* dropped: [-4, -3, -2, -1, 0, 1, 2, 3, 4]\n",
      "6 columns of *target_rel_x* dropped: [-4, 0, 1, 2, 3, 4]\n",
      "6 columns of *target_rel_y* dropped: [-4, 0, 1, 2, 3, 4]\n",
      "3 columns of *time_since_target_last_seen* dropped: [-4, 3, 4]\n",
      "9 columns of *target_last_seen_distance_frozen* dropped: [-4, -3, -2, -1, 0, 1, 2, 3, 4]\n",
      "9 columns of *target_last_seen_angle_frozen* dropped: [-4, -3, -2, -1, 0, 1, 2, 3, 4]\n",
      "Processing feature 41/60\n",
      "9 columns of *target_last_seen_angle_to_boundary_frozen* dropped: [-4, -3, -2, -1, 0, 1, 2, 3, 4]\n",
      "2 columns of *target_visible_dummy* dropped: [3, 4]\n",
      "10 columns of *time_since_last_capture* dropped: [-5, -4, -3, -2, -1, 0, 1, 2, 3, 4]\n",
      "9 columns of *traj_curv* dropped: [-4, -3, -2, -1, 0, 1, 2, 3, 4]\n",
      "8 columns of *target_opt_arc_dheading* dropped: [-4, -3, -2, 0, 1, 2, 3, 4]\n",
      "10 columns of *target_last_seen_time_abs* dropped: [-5, -4, -3, -2, -1, 0, 1, 2, 3, 4]\n",
      "8 columns of *distance_from_monkey_pos_target_last_seen* dropped: [-4, -3, -1, 0, 1, 2, 3, 4]\n",
      "6 columns of *cum_distance_since_target_last_seen* dropped: [-4, 0, 1, 2, 3, 4]\n",
      "8 columns of *d_heading_since_target_last_seen* dropped: [-4, -3, -1, 0, 1, 2, 3, 4]\n",
      "Processing feature 51/60\n",
      "10 columns of *monkey_x* dropped: [-5, -4, -3, -2, -1, 0, 1, 2, 3, 4]\n",
      "10 columns of *monkey_y* dropped: [-5, -4, -3, -2, -1, 0, 1, 2, 3, 4]\n",
      "10 columns of *target_x* dropped: [-5, -4, -3, -2, -1, 0, 1, 2, 3, 4]\n",
      "10 columns of *target_y* dropped: [-5, -4, -3, -2, -1, 0, 1, 2, 3, 4]\n",
      "\n",
      "287 out of 617 (46.52%) are dropped after dropping lags of features with high correlation for each feature\n",
      "====================Dropping lags of features with high correlation in all columns====================\n",
      "Processing subset 1 of 1, 330 features in total.\n",
      "52 columns out of 330 dropped: ['RDy_-5', 'gaze_mky_view_y_r_4', 'monkey_speed_2', 'monkey_speed_-1', 'gaze_mky_view_y_r_1', 'monkey_speed_-4', 'monkey_speed_4', 'RDy_4', 'gaze_mky_view_y_r_5', 'monkey_speed_-5', 'target_last_seen_time_abs_5', 'LDy_3', 'monkey_speed_0', 'monkey_x_5', 'distance_from_monkey_pos_target_last_seen_5', 'min_abs_visible_ff_angle_5', 'target_distance_5', 'time_since_target_last_seen_5', 'monkey_y_5', 'monkey_speed_1', 'gaze_mky_view_y_r_3', 'gaze_mky_view_y_r_2', 'RDy_-1', 'LDy_-3', 'time_since_target_last_seen_0', 'LDy_-1', 'LDy_5', 'RDy_2', 'LDy_0', 'LDy_2', 'monkey_speed_-2', 'LDy_1', 'monkey_speed_-3', 'RDy_-3', 'min_abs_ff_angle_5', 'time_since_target_last_seen_2', 'LDy_-2', 'gaze_mky_view_y_r_-1', 'RDy_0', 'RDy_3', 'monkey_speed_3', 'RDy_5', 'time_since_target_last_seen_1', 'gaze_mky_view_y_r_0', 'min_abs_visible_ff_angle_-5', 'monkey_speed_5', 'LDy_4', 'LDy_-5', 'LDy_-4', 'RDy_-2', 'RDy_1', 'RDy_-4']\n",
      "\n",
      "52 out of 330 (15.76%) are dropped after dropping lags of features with high correlation in subsets of features\n",
      "\n",
      "** Summary: 339 out of 617 (54.94%) are dropped after calling drop_columns_with_high_corr. 278 features are left. **\n",
      "\n",
      "====================Dropping lags of features with high VIF for each feature====================\n",
      "Processing feature 1/60\n",
      "5 columns of *delta_distance* dropped: [-2, -1, 0, 1, 2]\n",
      "Processing feature 11/60\n",
      "7 columns of *gaze_mky_view_angle_r* dropped: [-3, -2, -1, 0, 1, 2, 3]\n",
      "Processing feature 21/60\n",
      "1 columns of *valid_view_point_r* dropped: [-5]\n",
      "1 columns of *min_visible_ff_distance* dropped: [-5]\n",
      "Processing feature 31/60\n",
      "1 columns of *target_rel_y* dropped: [-1]\n",
      "1 columns of *target_last_seen_distance_frozen* dropped: [-5]\n",
      "Processing feature 41/60\n"
     ]
    },
    {
     "ename": "MissingDataError",
     "evalue": "exog contains inf or nans",
     "output_type": "error",
     "traceback": [
      "\u001b[31m---------------------------------------------------------------------------\u001b[39m",
      "\u001b[31mMissingDataError\u001b[39m                          Traceback (most recent call last)",
      "\u001b[36mCell\u001b[39m\u001b[36m \u001b[39m\u001b[32mIn[56]\u001b[39m\u001b[32m, line 2\u001b[39m\n\u001b[32m      1\u001b[39m \u001b[38;5;66;03m# dec.reduce_x_var_lags()  # currently not needed bc of the low correlations between clusters or lags\u001b[39;00m\n\u001b[32m----> \u001b[39m\u001b[32m2\u001b[39m \u001b[43mdec\u001b[49m\u001b[43m.\u001b[49m\u001b[43mreduce_y_var_lags\u001b[49m\u001b[43m(\u001b[49m\u001b[43m)\u001b[49m\n",
      "\u001b[36mFile \u001b[39m\u001b[32m~/Documents/Multifirefly-Project/multiff_analysis/methods/non_behavioral_analysis/neural_data_analysis/decode_targets/decode_target_class.py:115\u001b[39m, in \u001b[36mreduce_y_var_lags\u001b[39m\u001b[34m(self, corr_threshold_for_lags_of_a_feature, vif_threshold_for_initial_subset, vif_threshold, verbose, filter_corr_by_feature, filter_corr_by_subsets, filter_corr_by_all_columns, filter_vif_by_feature, filter_vif_by_subsets, filter_vif_by_all_columns)\u001b[39m\n\u001b[32m     95\u001b[39m \u001b[38;5;28;01mdef\u001b[39;00m\u001b[38;5;250m \u001b[39m\u001b[34mreduce_y_var_lags\u001b[39m(\u001b[38;5;28mself\u001b[39m, corr_threshold_for_lags_of_a_feature=\u001b[32m0.85\u001b[39m,\n\u001b[32m     96\u001b[39m                       vif_threshold_for_initial_subset=\u001b[32m5\u001b[39m,\n\u001b[32m     97\u001b[39m                       vif_threshold=\u001b[32m5\u001b[39m,\n\u001b[32m   (...)\u001b[39m\u001b[32m    104\u001b[39m                       filter_vif_by_all_columns=\u001b[38;5;28;01mFalse\u001b[39;00m\n\u001b[32m    105\u001b[39m                       ):\n\u001b[32m    107\u001b[39m     \u001b[38;5;28msuper\u001b[39m().reduce_y_var_lags(corr_threshold_for_lags_of_a_feature=corr_threshold_for_lags_of_a_feature,\n\u001b[32m    108\u001b[39m                               vif_threshold_for_initial_subset=vif_threshold_for_initial_subset,\n\u001b[32m    109\u001b[39m                               vif_threshold=vif_threshold,\n\u001b[32m    110\u001b[39m                               verbose=verbose,\n\u001b[32m    111\u001b[39m                               filter_corr_by_feature=filter_corr_by_feature,\n\u001b[32m    112\u001b[39m                               filter_corr_by_subsets=filter_corr_by_subsets,\n\u001b[32m    113\u001b[39m                               filter_corr_by_all_columns=filter_corr_by_all_columns,\n\u001b[32m    114\u001b[39m                               filter_vif_by_feature=filter_vif_by_feature,\n\u001b[32m--> \u001b[39m\u001b[32m115\u001b[39m                               filter_vif_by_subsets=filter_vif_by_subsets,\n\u001b[32m    116\u001b[39m                               filter_vif_by_all_columns=filter_vif_by_all_columns)\n",
      "\u001b[36mFile \u001b[39m\u001b[32m~/Documents/Multifirefly-Project/multiff_analysis/methods/non_behavioral_analysis/neural_data_analysis/neural_vs_behavioral/neural_vs_behavioral_class.py:128\u001b[39m, in \u001b[36mNeuralVsBehavioralClass.reduce_y_var_lags\u001b[39m\u001b[34m(self, corr_threshold_for_lags_of_a_feature, vif_threshold_for_initial_subset, vif_threshold, verbose, filter_corr_by_feature, filter_corr_by_subsets, filter_corr_by_all_columns, filter_vif_by_feature, filter_vif_by_subsets, filter_vif_by_all_columns)\u001b[39m\n\u001b[32m    109\u001b[39m \u001b[38;5;28;01mdef\u001b[39;00m\u001b[38;5;250m \u001b[39m\u001b[34mreduce_y_var_lags\u001b[39m(\u001b[38;5;28mself\u001b[39m, corr_threshold_for_lags_of_a_feature=\u001b[32m0.85\u001b[39m,\n\u001b[32m    110\u001b[39m                       vif_threshold_for_initial_subset=\u001b[32m5\u001b[39m, vif_threshold=\u001b[32m5\u001b[39m, verbose=\u001b[38;5;28;01mTrue\u001b[39;00m,\n\u001b[32m    111\u001b[39m                       filter_corr_by_feature=\u001b[38;5;28;01mTrue\u001b[39;00m,\n\u001b[32m   (...)\u001b[39m\u001b[32m    118\u001b[39m \n\u001b[32m    119\u001b[39m     \u001b[38;5;66;03m# Call the function to iteratively drop lags with high correlation for each feature\u001b[39;00m\n\u001b[32m    120\u001b[39m     \u001b[38;5;28mself\u001b[39m.y_var_lags_reduced_corr = drop_high_corr_vars.drop_columns_with_high_corr(\u001b[38;5;28mself\u001b[39m.y_var, \u001b[38;5;28mself\u001b[39m.y_var_lags,\n\u001b[32m    121\u001b[39m                                                                                    corr_threshold_for_lags=corr_threshold_for_lags_of_a_feature,\n\u001b[32m    122\u001b[39m                                                                                    verbose=verbose,\n\u001b[32m   (...)\u001b[39m\u001b[32m    125\u001b[39m                                                                                    filter_by_all_columns=filter_corr_by_all_columns,\n\u001b[32m    126\u001b[39m                                                                                    get_column_subsets_func=\u001b[38;5;28mself\u001b[39m.get_subset_key_words_and_all_column_subsets)\n\u001b[32m--> \u001b[39m\u001b[32m128\u001b[39m     \u001b[38;5;28mself\u001b[39m.y_var_lags_reduced = \u001b[43mdrop_high_vif_vars\u001b[49m\u001b[43m.\u001b[49m\u001b[43mdrop_columns_with_high_vif\u001b[49m\u001b[43m(\u001b[49m\u001b[38;5;28;43mself\u001b[39;49m\u001b[43m.\u001b[49m\u001b[43my_var\u001b[49m\u001b[43m,\u001b[49m\u001b[43m \u001b[49m\u001b[38;5;28;43mself\u001b[39;49m\u001b[43m.\u001b[49m\u001b[43my_var_lags_reduced_corr\u001b[49m\u001b[43m,\u001b[49m\n\u001b[32m    129\u001b[39m \u001b[43m                                                                            \u001b[49m\u001b[43mvif_threshold_for_initial_subset\u001b[49m\u001b[43m=\u001b[49m\u001b[43mvif_threshold_for_initial_subset\u001b[49m\u001b[43m,\u001b[49m\n\u001b[32m    130\u001b[39m \u001b[43m                                                                            \u001b[49m\u001b[43mvif_threshold\u001b[49m\u001b[43m=\u001b[49m\u001b[43mvif_threshold\u001b[49m\u001b[43m,\u001b[49m\n\u001b[32m    131\u001b[39m \u001b[43m                                                                            \u001b[49m\u001b[43mverbose\u001b[49m\u001b[43m=\u001b[49m\u001b[43mverbose\u001b[49m\u001b[43m,\u001b[49m\n\u001b[32m    132\u001b[39m \u001b[43m                                                                            \u001b[49m\u001b[43mfilter_by_feature\u001b[49m\u001b[43m=\u001b[49m\u001b[43mfilter_vif_by_feature\u001b[49m\u001b[43m,\u001b[49m\n\u001b[32m    133\u001b[39m \u001b[43m                                                                            \u001b[49m\u001b[43mfilter_by_subsets\u001b[49m\u001b[43m=\u001b[49m\u001b[43mfilter_vif_by_subsets\u001b[49m\u001b[43m,\u001b[49m\n\u001b[32m    134\u001b[39m \u001b[43m                                                                            \u001b[49m\u001b[43mfilter_by_all_columns\u001b[49m\u001b[43m=\u001b[49m\u001b[43mfilter_vif_by_all_columns\u001b[49m\u001b[43m,\u001b[49m\n\u001b[32m    135\u001b[39m \u001b[43m                                                                            \u001b[49m\u001b[43mget_column_subsets_func\u001b[49m\u001b[43m=\u001b[49m\u001b[38;5;28;43mself\u001b[39;49m\u001b[43m.\u001b[49m\u001b[43mget_subset_key_words_and_all_column_subsets\u001b[49m\u001b[43m)\u001b[49m\n",
      "\u001b[36mFile \u001b[39m\u001b[32m~/Documents/Multifirefly-Project/multiff_analysis/methods/non_behavioral_analysis/neural_data_analysis/model_neural_data/drop_high_vif_vars.py:39\u001b[39m, in \u001b[36mdrop_columns_with_high_vif\u001b[39m\u001b[34m(y_var, y_var_lags, vif_threshold, vif_threshold_for_initial_subset, verbose, filter_by_feature, filter_by_subsets, filter_by_all_columns, get_column_subsets_func)\u001b[39m\n\u001b[32m     36\u001b[39m \u001b[38;5;28;01mif\u001b[39;00m filter_by_feature:\n\u001b[32m     37\u001b[39m     \u001b[38;5;66;03m# drop all columns in y_var_lags that has 'feature' but is not 'feature'\u001b[39;00m\n\u001b[32m     38\u001b[39m     \u001b[38;5;28mprint\u001b[39m(\u001b[33m'\u001b[39m\u001b[38;5;130;01m\\n\u001b[39;00m\u001b[33m====================Dropping lags of features with high VIF for each feature====================\u001b[39m\u001b[33m'\u001b[39m)\n\u001b[32m---> \u001b[39m\u001b[32m39\u001b[39m     y_var_lags_reduced, top_values_by_feature, columns_dropped = \u001b[43mdrop_high_corr_vars\u001b[49m\u001b[43m.\u001b[49m\u001b[43mdrop_lags_with_high_corr_or_vif_for_each_feature\u001b[49m\u001b[43m(\u001b[49m\n\u001b[32m     40\u001b[39m \u001b[43m        \u001b[49m\u001b[43my_var\u001b[49m\u001b[43m,\u001b[49m\u001b[43m \u001b[49m\u001b[43my_var_lags_reduced\u001b[49m\u001b[43m,\u001b[49m\n\u001b[32m     41\u001b[39m \u001b[43m        \u001b[49m\u001b[43mvif_threshold\u001b[49m\u001b[43m=\u001b[49m\u001b[43mvif_threshold\u001b[49m\u001b[43m,\u001b[49m\n\u001b[32m     42\u001b[39m \u001b[43m        \u001b[49m\u001b[43mverbose\u001b[49m\u001b[43m=\u001b[49m\u001b[43mverbose\u001b[49m\u001b[43m,\u001b[49m\n\u001b[32m     43\u001b[39m \u001b[43m        \u001b[49m\u001b[43muse_vif_instead_of_corr\u001b[49m\u001b[43m=\u001b[49m\u001b[38;5;28;43;01mTrue\u001b[39;49;00m\n\u001b[32m     44\u001b[39m \u001b[43m    \u001b[49m\u001b[43m)\u001b[49m\n\u001b[32m     46\u001b[39m \u001b[38;5;28;01mif\u001b[39;00m filter_by_subsets:\n\u001b[32m     47\u001b[39m     \u001b[38;5;28mprint\u001b[39m(\u001b[33m'\u001b[39m\u001b[38;5;130;01m\\n\u001b[39;00m\u001b[33m====================Dropping lags with high VIF in subsets of features in an iterative manner====================\u001b[39m\u001b[33m'\u001b[39m)\n",
      "\u001b[36mFile \u001b[39m\u001b[32m~/Documents/Multifirefly-Project/multiff_analysis/methods/non_behavioral_analysis/neural_data_analysis/model_neural_data/drop_high_corr_vars.py:110\u001b[39m, in \u001b[36mdrop_lags_with_high_corr_or_vif_for_each_feature\u001b[39m\u001b[34m(df, df_with_lags, corr_threshold, vif_threshold, verbose, show_top_values_of_each_feature, use_vif_instead_of_corr)\u001b[39m\n\u001b[32m    107\u001b[39m         \u001b[38;5;28mprint\u001b[39m(top_values_by_feature.head(\u001b[32m3\u001b[39m))\n\u001b[32m    109\u001b[39m \u001b[38;5;28;01melse\u001b[39;00m:\n\u001b[32m--> \u001b[39m\u001b[32m110\u001b[39m     _, temp_columns_to_drop, top_values_of_feature = \u001b[43mdrop_high_vif_vars\u001b[49m\u001b[43m.\u001b[49m\u001b[43miteratively_drop_column_w_highest_vif\u001b[49m\u001b[43m(\u001b[49m\u001b[43mdf_with_lags_sub\u001b[49m\u001b[43m.\u001b[49m\u001b[43mcopy\u001b[49m\u001b[43m(\u001b[49m\u001b[43m)\u001b[49m\u001b[43m,\u001b[49m\n\u001b[32m    111\u001b[39m \u001b[43m                                                                                                              \u001b[49m\u001b[43mvif_threshold\u001b[49m\u001b[43m=\u001b[49m\u001b[43mvif_threshold\u001b[49m\u001b[43m,\u001b[49m\n\u001b[32m    112\u001b[39m \u001b[43m                                                                                                              \u001b[49m\u001b[43mverbose\u001b[49m\u001b[43m=\u001b[49m\u001b[38;5;28;43;01mFalse\u001b[39;49;00m\u001b[43m)\u001b[49m\n\u001b[32m    114\u001b[39m top_values_of_feature[\u001b[33m'\u001b[39m\u001b[33mfeature\u001b[39m\u001b[33m'\u001b[39m] = feature\n\u001b[32m    115\u001b[39m top_values_by_feature = pd.concat(\n\u001b[32m    116\u001b[39m     [top_values_by_feature, top_values_of_feature.iloc[[\u001b[32m0\u001b[39m]]])\n",
      "\u001b[36mFile \u001b[39m\u001b[32m~/Documents/Multifirefly-Project/multiff_analysis/methods/non_behavioral_analysis/neural_data_analysis/model_neural_data/drop_high_vif_vars.py:118\u001b[39m, in \u001b[36miteratively_drop_column_w_highest_vif\u001b[39m\u001b[34m(df, vif_threshold, verbose)\u001b[39m\n\u001b[32m    116\u001b[39m df = df.copy()\n\u001b[32m    117\u001b[39m columns_dropped = []\n\u001b[32m--> \u001b[39m\u001b[32m118\u001b[39m vif_df = \u001b[43mget_vif_df\u001b[49m\u001b[43m(\u001b[49m\u001b[43mdf\u001b[49m\u001b[43m)\u001b[49m\n\u001b[32m    119\u001b[39m initial_columns = df.columns\n\u001b[32m    120\u001b[39m \u001b[38;5;28;01mwhile\u001b[39;00m vif_df[\u001b[33m'\u001b[39m\u001b[33mvif\u001b[39m\u001b[33m'\u001b[39m].max() > vif_threshold:\n",
      "\u001b[36mFile \u001b[39m\u001b[32m~/Documents/Multifirefly-Project/multiff_analysis/methods/non_behavioral_analysis/neural_data_analysis/model_neural_data/drop_high_vif_vars.py:81\u001b[39m, in \u001b[36mget_vif_df\u001b[39m\u001b[34m(var_df, verbose)\u001b[39m\n\u001b[32m     79\u001b[39m \u001b[38;5;28;01mif\u001b[39;00m num_total_features > \u001b[32m1\u001b[39m:\n\u001b[32m     80\u001b[39m     \u001b[38;5;28;01mfor\u001b[39;00m i \u001b[38;5;129;01min\u001b[39;00m \u001b[38;5;28mrange\u001b[39m(var_df.shape[\u001b[32m1\u001b[39m]):\n\u001b[32m---> \u001b[39m\u001b[32m81\u001b[39m         vif_values.append(\u001b[43mvariance_inflation_factor\u001b[49m\u001b[43m(\u001b[49m\n\u001b[32m     82\u001b[39m \u001b[43m            \u001b[49m\u001b[43mvar_df\u001b[49m\u001b[43m.\u001b[49m\u001b[43mvalues\u001b[49m\u001b[43m,\u001b[49m\u001b[43m \u001b[49m\u001b[43mi\u001b[49m\u001b[43m)\u001b[49m)\n\u001b[32m     83\u001b[39m         \u001b[38;5;28;01mif\u001b[39;00m verbose:\n\u001b[32m     84\u001b[39m             \u001b[38;5;28;01mif\u001b[39;00m num_total_features > \u001b[32m20\u001b[39m:\n",
      "\u001b[36mFile \u001b[39m\u001b[32m/opt/miniconda3/envs/ff_venv2/lib/python3.11/site-packages/statsmodels/stats/outliers_influence.py:196\u001b[39m, in \u001b[36mvariance_inflation_factor\u001b[39m\u001b[34m(exog, exog_idx)\u001b[39m\n\u001b[32m    194\u001b[39m mask = np.arange(k_vars) != exog_idx\n\u001b[32m    195\u001b[39m x_noti = exog[:, mask]\n\u001b[32m--> \u001b[39m\u001b[32m196\u001b[39m r_squared_i = \u001b[43mOLS\u001b[49m\u001b[43m(\u001b[49m\u001b[43mx_i\u001b[49m\u001b[43m,\u001b[49m\u001b[43m \u001b[49m\u001b[43mx_noti\u001b[49m\u001b[43m)\u001b[49m.fit().rsquared\n\u001b[32m    197\u001b[39m vif = \u001b[32m1.\u001b[39m / (\u001b[32m1.\u001b[39m - r_squared_i)\n\u001b[32m    198\u001b[39m \u001b[38;5;28;01mreturn\u001b[39;00m vif\n",
      "\u001b[36mFile \u001b[39m\u001b[32m/opt/miniconda3/envs/ff_venv2/lib/python3.11/site-packages/statsmodels/regression/linear_model.py:921\u001b[39m, in \u001b[36mOLS.__init__\u001b[39m\u001b[34m(self, endog, exog, missing, hasconst, **kwargs)\u001b[39m\n\u001b[32m    918\u001b[39m     msg = (\u001b[33m\"\u001b[39m\u001b[33mWeights are not supported in OLS and will be ignored\u001b[39m\u001b[33m\"\u001b[39m\n\u001b[32m    919\u001b[39m            \u001b[33m\"\u001b[39m\u001b[33mAn exception will be raised in the next version.\u001b[39m\u001b[33m\"\u001b[39m)\n\u001b[32m    920\u001b[39m     warnings.warn(msg, ValueWarning)\n\u001b[32m--> \u001b[39m\u001b[32m921\u001b[39m \u001b[38;5;28;43msuper\u001b[39;49m\u001b[43m(\u001b[49m\u001b[43m)\u001b[49m\u001b[43m.\u001b[49m\u001b[34;43m__init__\u001b[39;49m\u001b[43m(\u001b[49m\u001b[43mendog\u001b[49m\u001b[43m,\u001b[49m\u001b[43m \u001b[49m\u001b[43mexog\u001b[49m\u001b[43m,\u001b[49m\u001b[43m \u001b[49m\u001b[43mmissing\u001b[49m\u001b[43m=\u001b[49m\u001b[43mmissing\u001b[49m\u001b[43m,\u001b[49m\n\u001b[32m    922\u001b[39m \u001b[43m                          \u001b[49m\u001b[43mhasconst\u001b[49m\u001b[43m=\u001b[49m\u001b[43mhasconst\u001b[49m\u001b[43m,\u001b[49m\u001b[43m \u001b[49m\u001b[43m*\u001b[49m\u001b[43m*\u001b[49m\u001b[43mkwargs\u001b[49m\u001b[43m)\u001b[49m\n\u001b[32m    923\u001b[39m \u001b[38;5;28;01mif\u001b[39;00m \u001b[33m\"\u001b[39m\u001b[33mweights\u001b[39m\u001b[33m\"\u001b[39m \u001b[38;5;129;01min\u001b[39;00m \u001b[38;5;28mself\u001b[39m._init_keys:\n\u001b[32m    924\u001b[39m     \u001b[38;5;28mself\u001b[39m._init_keys.remove(\u001b[33m\"\u001b[39m\u001b[33mweights\u001b[39m\u001b[33m\"\u001b[39m)\n",
      "\u001b[36mFile \u001b[39m\u001b[32m/opt/miniconda3/envs/ff_venv2/lib/python3.11/site-packages/statsmodels/regression/linear_model.py:746\u001b[39m, in \u001b[36mWLS.__init__\u001b[39m\u001b[34m(self, endog, exog, weights, missing, hasconst, **kwargs)\u001b[39m\n\u001b[32m    744\u001b[39m \u001b[38;5;28;01melse\u001b[39;00m:\n\u001b[32m    745\u001b[39m     weights = weights.squeeze()\n\u001b[32m--> \u001b[39m\u001b[32m746\u001b[39m \u001b[38;5;28;43msuper\u001b[39;49m\u001b[43m(\u001b[49m\u001b[43m)\u001b[49m\u001b[43m.\u001b[49m\u001b[34;43m__init__\u001b[39;49m\u001b[43m(\u001b[49m\u001b[43mendog\u001b[49m\u001b[43m,\u001b[49m\u001b[43m \u001b[49m\u001b[43mexog\u001b[49m\u001b[43m,\u001b[49m\u001b[43m \u001b[49m\u001b[43mmissing\u001b[49m\u001b[43m=\u001b[49m\u001b[43mmissing\u001b[49m\u001b[43m,\u001b[49m\n\u001b[32m    747\u001b[39m \u001b[43m                          \u001b[49m\u001b[43mweights\u001b[49m\u001b[43m=\u001b[49m\u001b[43mweights\u001b[49m\u001b[43m,\u001b[49m\u001b[43m \u001b[49m\u001b[43mhasconst\u001b[49m\u001b[43m=\u001b[49m\u001b[43mhasconst\u001b[49m\u001b[43m,\u001b[49m\u001b[43m \u001b[49m\u001b[43m*\u001b[49m\u001b[43m*\u001b[49m\u001b[43mkwargs\u001b[49m\u001b[43m)\u001b[49m\n\u001b[32m    748\u001b[39m nobs = \u001b[38;5;28mself\u001b[39m.exog.shape[\u001b[32m0\u001b[39m]\n\u001b[32m    749\u001b[39m weights = \u001b[38;5;28mself\u001b[39m.weights\n",
      "\u001b[36mFile \u001b[39m\u001b[32m/opt/miniconda3/envs/ff_venv2/lib/python3.11/site-packages/statsmodels/regression/linear_model.py:200\u001b[39m, in \u001b[36mRegressionModel.__init__\u001b[39m\u001b[34m(self, endog, exog, **kwargs)\u001b[39m\n\u001b[32m    199\u001b[39m \u001b[38;5;28;01mdef\u001b[39;00m\u001b[38;5;250m \u001b[39m\u001b[34m__init__\u001b[39m(\u001b[38;5;28mself\u001b[39m, endog, exog, **kwargs):\n\u001b[32m--> \u001b[39m\u001b[32m200\u001b[39m     \u001b[38;5;28;43msuper\u001b[39;49m\u001b[43m(\u001b[49m\u001b[43m)\u001b[49m\u001b[43m.\u001b[49m\u001b[34;43m__init__\u001b[39;49m\u001b[43m(\u001b[49m\u001b[43mendog\u001b[49m\u001b[43m,\u001b[49m\u001b[43m \u001b[49m\u001b[43mexog\u001b[49m\u001b[43m,\u001b[49m\u001b[43m \u001b[49m\u001b[43m*\u001b[49m\u001b[43m*\u001b[49m\u001b[43mkwargs\u001b[49m\u001b[43m)\u001b[49m\n\u001b[32m    201\u001b[39m     \u001b[38;5;28mself\u001b[39m.pinv_wexog: Float64Array | \u001b[38;5;28;01mNone\u001b[39;00m = \u001b[38;5;28;01mNone\u001b[39;00m\n\u001b[32m    202\u001b[39m     \u001b[38;5;28mself\u001b[39m._data_attr.extend([\u001b[33m'\u001b[39m\u001b[33mpinv_wexog\u001b[39m\u001b[33m'\u001b[39m, \u001b[33m'\u001b[39m\u001b[33mwendog\u001b[39m\u001b[33m'\u001b[39m, \u001b[33m'\u001b[39m\u001b[33mwexog\u001b[39m\u001b[33m'\u001b[39m, \u001b[33m'\u001b[39m\u001b[33mweights\u001b[39m\u001b[33m'\u001b[39m])\n",
      "\u001b[36mFile \u001b[39m\u001b[32m/opt/miniconda3/envs/ff_venv2/lib/python3.11/site-packages/statsmodels/base/model.py:270\u001b[39m, in \u001b[36mLikelihoodModel.__init__\u001b[39m\u001b[34m(self, endog, exog, **kwargs)\u001b[39m\n\u001b[32m    269\u001b[39m \u001b[38;5;28;01mdef\u001b[39;00m\u001b[38;5;250m \u001b[39m\u001b[34m__init__\u001b[39m(\u001b[38;5;28mself\u001b[39m, endog, exog=\u001b[38;5;28;01mNone\u001b[39;00m, **kwargs):\n\u001b[32m--> \u001b[39m\u001b[32m270\u001b[39m     \u001b[38;5;28;43msuper\u001b[39;49m\u001b[43m(\u001b[49m\u001b[43m)\u001b[49m\u001b[43m.\u001b[49m\u001b[34;43m__init__\u001b[39;49m\u001b[43m(\u001b[49m\u001b[43mendog\u001b[49m\u001b[43m,\u001b[49m\u001b[43m \u001b[49m\u001b[43mexog\u001b[49m\u001b[43m,\u001b[49m\u001b[43m \u001b[49m\u001b[43m*\u001b[49m\u001b[43m*\u001b[49m\u001b[43mkwargs\u001b[49m\u001b[43m)\u001b[49m\n\u001b[32m    271\u001b[39m     \u001b[38;5;28mself\u001b[39m.initialize()\n",
      "\u001b[36mFile \u001b[39m\u001b[32m/opt/miniconda3/envs/ff_venv2/lib/python3.11/site-packages/statsmodels/base/model.py:95\u001b[39m, in \u001b[36mModel.__init__\u001b[39m\u001b[34m(self, endog, exog, **kwargs)\u001b[39m\n\u001b[32m     93\u001b[39m missing = kwargs.pop(\u001b[33m'\u001b[39m\u001b[33mmissing\u001b[39m\u001b[33m'\u001b[39m, \u001b[33m'\u001b[39m\u001b[33mnone\u001b[39m\u001b[33m'\u001b[39m)\n\u001b[32m     94\u001b[39m hasconst = kwargs.pop(\u001b[33m'\u001b[39m\u001b[33mhasconst\u001b[39m\u001b[33m'\u001b[39m, \u001b[38;5;28;01mNone\u001b[39;00m)\n\u001b[32m---> \u001b[39m\u001b[32m95\u001b[39m \u001b[38;5;28mself\u001b[39m.data = \u001b[38;5;28;43mself\u001b[39;49m\u001b[43m.\u001b[49m\u001b[43m_handle_data\u001b[49m\u001b[43m(\u001b[49m\u001b[43mendog\u001b[49m\u001b[43m,\u001b[49m\u001b[43m \u001b[49m\u001b[43mexog\u001b[49m\u001b[43m,\u001b[49m\u001b[43m \u001b[49m\u001b[43mmissing\u001b[49m\u001b[43m,\u001b[49m\u001b[43m \u001b[49m\u001b[43mhasconst\u001b[49m\u001b[43m,\u001b[49m\n\u001b[32m     96\u001b[39m \u001b[43m                              \u001b[49m\u001b[43m*\u001b[49m\u001b[43m*\u001b[49m\u001b[43mkwargs\u001b[49m\u001b[43m)\u001b[49m\n\u001b[32m     97\u001b[39m \u001b[38;5;28mself\u001b[39m.k_constant = \u001b[38;5;28mself\u001b[39m.data.k_constant\n\u001b[32m     98\u001b[39m \u001b[38;5;28mself\u001b[39m.exog = \u001b[38;5;28mself\u001b[39m.data.exog\n",
      "\u001b[36mFile \u001b[39m\u001b[32m/opt/miniconda3/envs/ff_venv2/lib/python3.11/site-packages/statsmodels/base/model.py:135\u001b[39m, in \u001b[36mModel._handle_data\u001b[39m\u001b[34m(self, endog, exog, missing, hasconst, **kwargs)\u001b[39m\n\u001b[32m    134\u001b[39m \u001b[38;5;28;01mdef\u001b[39;00m\u001b[38;5;250m \u001b[39m\u001b[34m_handle_data\u001b[39m(\u001b[38;5;28mself\u001b[39m, endog, exog, missing, hasconst, **kwargs):\n\u001b[32m--> \u001b[39m\u001b[32m135\u001b[39m     data = \u001b[43mhandle_data\u001b[49m\u001b[43m(\u001b[49m\u001b[43mendog\u001b[49m\u001b[43m,\u001b[49m\u001b[43m \u001b[49m\u001b[43mexog\u001b[49m\u001b[43m,\u001b[49m\u001b[43m \u001b[49m\u001b[43mmissing\u001b[49m\u001b[43m,\u001b[49m\u001b[43m \u001b[49m\u001b[43mhasconst\u001b[49m\u001b[43m,\u001b[49m\u001b[43m \u001b[49m\u001b[43m*\u001b[49m\u001b[43m*\u001b[49m\u001b[43mkwargs\u001b[49m\u001b[43m)\u001b[49m\n\u001b[32m    136\u001b[39m     \u001b[38;5;66;03m# kwargs arrays could have changed, easier to just attach here\u001b[39;00m\n\u001b[32m    137\u001b[39m     \u001b[38;5;28;01mfor\u001b[39;00m key \u001b[38;5;129;01min\u001b[39;00m kwargs:\n",
      "\u001b[36mFile \u001b[39m\u001b[32m/opt/miniconda3/envs/ff_venv2/lib/python3.11/site-packages/statsmodels/base/data.py:675\u001b[39m, in \u001b[36mhandle_data\u001b[39m\u001b[34m(endog, exog, missing, hasconst, **kwargs)\u001b[39m\n\u001b[32m    672\u001b[39m     exog = np.asarray(exog)\n\u001b[32m    674\u001b[39m klass = handle_data_class_factory(endog, exog)\n\u001b[32m--> \u001b[39m\u001b[32m675\u001b[39m \u001b[38;5;28;01mreturn\u001b[39;00m \u001b[43mklass\u001b[49m\u001b[43m(\u001b[49m\u001b[43mendog\u001b[49m\u001b[43m,\u001b[49m\u001b[43m \u001b[49m\u001b[43mexog\u001b[49m\u001b[43m=\u001b[49m\u001b[43mexog\u001b[49m\u001b[43m,\u001b[49m\u001b[43m \u001b[49m\u001b[43mmissing\u001b[49m\u001b[43m=\u001b[49m\u001b[43mmissing\u001b[49m\u001b[43m,\u001b[49m\u001b[43m \u001b[49m\u001b[43mhasconst\u001b[49m\u001b[43m=\u001b[49m\u001b[43mhasconst\u001b[49m\u001b[43m,\u001b[49m\n\u001b[32m    676\u001b[39m \u001b[43m             \u001b[49m\u001b[43m*\u001b[49m\u001b[43m*\u001b[49m\u001b[43mkwargs\u001b[49m\u001b[43m)\u001b[49m\n",
      "\u001b[36mFile \u001b[39m\u001b[32m/opt/miniconda3/envs/ff_venv2/lib/python3.11/site-packages/statsmodels/base/data.py:88\u001b[39m, in \u001b[36mModelData.__init__\u001b[39m\u001b[34m(self, endog, exog, missing, hasconst, **kwargs)\u001b[39m\n\u001b[32m     86\u001b[39m \u001b[38;5;28mself\u001b[39m.const_idx = \u001b[38;5;28;01mNone\u001b[39;00m\n\u001b[32m     87\u001b[39m \u001b[38;5;28mself\u001b[39m.k_constant = \u001b[32m0\u001b[39m\n\u001b[32m---> \u001b[39m\u001b[32m88\u001b[39m \u001b[38;5;28;43mself\u001b[39;49m\u001b[43m.\u001b[49m\u001b[43m_handle_constant\u001b[49m\u001b[43m(\u001b[49m\u001b[43mhasconst\u001b[49m\u001b[43m)\u001b[49m\n\u001b[32m     89\u001b[39m \u001b[38;5;28mself\u001b[39m._check_integrity()\n\u001b[32m     90\u001b[39m \u001b[38;5;28mself\u001b[39m._cache = {}\n",
      "\u001b[36mFile \u001b[39m\u001b[32m/opt/miniconda3/envs/ff_venv2/lib/python3.11/site-packages/statsmodels/base/data.py:134\u001b[39m, in \u001b[36mModelData._handle_constant\u001b[39m\u001b[34m(self, hasconst)\u001b[39m\n\u001b[32m    132\u001b[39m exog_max = np.max(\u001b[38;5;28mself\u001b[39m.exog, axis=\u001b[32m0\u001b[39m)\n\u001b[32m    133\u001b[39m \u001b[38;5;28;01mif\u001b[39;00m \u001b[38;5;129;01mnot\u001b[39;00m np.isfinite(exog_max).all():\n\u001b[32m--> \u001b[39m\u001b[32m134\u001b[39m     \u001b[38;5;28;01mraise\u001b[39;00m MissingDataError(\u001b[33m'\u001b[39m\u001b[33mexog contains inf or nans\u001b[39m\u001b[33m'\u001b[39m)\n\u001b[32m    135\u001b[39m exog_min = np.min(\u001b[38;5;28mself\u001b[39m.exog, axis=\u001b[32m0\u001b[39m)\n\u001b[32m    136\u001b[39m const_idx = np.where(exog_max == exog_min)[\u001b[32m0\u001b[39m].squeeze()\n",
      "\u001b[31mMissingDataError\u001b[39m: exog contains inf or nans"
     ]
    }
   ],
   "source": [
    "# dec.reduce_x_var_lags()  # currently not needed bc of the low correlations between neural clusters\n",
    "dec.reduce_y_var_lags()"
   ]
  },
  {
   "cell_type": "markdown",
   "metadata": {},
   "source": [
    "## check result of reducing"
   ]
  },
  {
   "cell_type": "code",
   "execution_count": null,
   "metadata": {},
   "outputs": [],
   "source": [
    "## also check correlations between x vars without lags\n",
    "high_corr_pair_df, top_n_corr_df = drop_high_corr_vars.get_pairs_of_columns_w_high_corr(\n",
    "            dec.x_var, corr_threshold=0.8)\n",
    "top_n_corr_df"
   ]
  },
  {
   "cell_type": "markdown",
   "metadata": {},
   "source": [
    "# Linear regression (didn't modify yet)\n",
    "\n",
    "Regressing the behavioral variables individually (as y_var) against all neural activity"
   ]
  },
  {
   "cell_type": "markdown",
   "metadata": {},
   "source": [
    "## put results in df"
   ]
  },
  {
   "cell_type": "code",
   "execution_count": null,
   "metadata": {},
   "outputs": [],
   "source": [
    "# dec.make_or_retrieve_y_var_lr_resault_df(exists_ok=True)\n",
    "dec.y_var_lr_result_df = neural_data_modeling.get_y_var_lr_result_df(\n",
    "                dec.x_var_lags_reduced, dec.y_var)\n",
    "dec.y_var_lr_result_df.head(5)"
   ]
  },
  {
   "cell_type": "markdown",
   "metadata": {},
   "source": [
    "##  plot all neural clusters vs one behavioral var"
   ]
  },
  {
   "cell_type": "code",
   "execution_count": null,
   "metadata": {},
   "outputs": [],
   "source": [
    "# drop existing columns involving bin (most likely there's only one or zero after being reduced, because different lags of bins can have very high correlations)\n",
    "bin_cols = [col for col in dec.y_var_lags_reduced.columns if 'bin' in col]\n",
    "dec.y_var_lags_reduced.drop(columns=bin_cols, inplace=True)\n",
    "\n",
    "# then we add the variable bin (so that only the 0 lag is used)\n",
    "dec.y_var_lags_reduced['bin'] = dec.y_var_lags['bin_0'].astype(int)"
   ]
  },
  {
   "cell_type": "code",
   "execution_count": null,
   "metadata": {},
   "outputs": [],
   "source": [
    "\n",
    "\n",
    "# conduct linear regression on X and y\n",
    "plt.rcParams[\"figure.figsize\"] = (20, 10)\n",
    "bins_to_plot = dec.y_var_lags_reduced['bin'].values\n",
    "for i, column in enumerate(dec.y_var_lags_reduced.columns):\n",
    "\n",
    "    plot_neural_data.plot_regression(dec.y_var_lags_reduced, column, dec.x_var_lags_reduced, bins_to_plot=bins_to_plot, min_r_squared_to_plot=0.3)\n",
    "    # if i == 3:\n",
    "    #     break"
   ]
  },
  {
   "cell_type": "markdown",
   "metadata": {},
   "source": [
    "##  plot one neural cluster vs one behavioral var"
   ]
  },
  {
   "cell_type": "code",
   "execution_count": null,
   "metadata": {},
   "outputs": [],
   "source": [
    "# plot one neural cluster against one behavioral variable\n",
    "cluster_num, behavioral_column = 6, 'monkey_speed'\n",
    "bins_to_plot = range(1000, 1200)\n",
    "x_values = dec.binned_spikes_df.loc[bins_to_plot, f'unit_{cluster_num}'].values\n",
    "y_values = dec.pursuit_data[behavioral_column][bins_to_plot]\n",
    "reg = LinearRegression().fit(x_values.reshape(-1, 1), y_values)\n",
    "\n",
    "plt.scatter(x_values, y_values, color='blue', s=1)\n",
    "plt.plot(x_values, reg.predict(x_values.reshape(-1, 1)), color='red', linewidth=1)\n",
    "plt.show()"
   ]
  },
  {
   "cell_type": "markdown",
   "metadata": {},
   "source": [
    "# CCA\n",
    "\n",
    "https://medium.com/@pozdrawiamzuzanna/canonical-correlation-analysis-simple-explanation-and-python-example-a5b8e97648d2"
   ]
  },
  {
   "cell_type": "markdown",
   "metadata": {},
   "source": [
    "## No lagging"
   ]
  },
  {
   "cell_type": "code",
   "execution_count": null,
   "metadata": {},
   "outputs": [],
   "source": [
    "cca_no_lag = cca_class.CCAclass(X1=dec.x_var, X2=dec.y_var_reduced, lagging_included=False)"
   ]
  },
  {
   "cell_type": "code",
   "execution_count": null,
   "metadata": {},
   "outputs": [
    {
     "name": "stdout",
     "output_type": "stream",
     "text": [
      "Training CCA, kernel = None, regularization = 0.0000, 10 components\n",
      "Canonical Correlation Per Component Pair: [0.39963 0.35209 0.31528 0.29226 0.26277 0.23855 0.20085 0.19895 0.18979\n",
      " 0.17374]\n",
      "% Shared Variance: [0.1597  0.12397 0.0994  0.08542 0.06905 0.05691 0.04034 0.03958 0.03602\n",
      " 0.03019]\n"
     ]
    },
    {
     "data": {
      "image/png": "[encoded data removed]",
      "text/plain": [
       "<Figure size 640x480 with 1 Axes>"
      ]
     },
     "metadata": {},
     "output_type": "display_data"
    }
   ],
   "source": [
    "cca_no_lag.conduct_cca()"
   ]
  },
  {
   "cell_type": "markdown",
   "metadata": {},
   "source": [
    "## with lags"
   ]
  },
  {
   "cell_type": "code",
   "execution_count": null,
   "metadata": {},
   "outputs": [],
   "source": [
    "cca_lags = cca_class.CCAclass(X1=dec.x_var_lags, X2=dec.y_var_lags_reduced, lagging_included=True)"
   ]
  },
  {
   "cell_type": "code",
   "execution_count": null,
   "metadata": {},
   "outputs": [],
   "source": [
    "dec.y_var_lags_reduced.shape"
   ]
  },
  {
   "cell_type": "code",
   "execution_count": null,
   "metadata": {},
   "outputs": [],
   "source": [
    "cca_lags.conduct_cca()"
   ]
  },
  {
   "cell_type": "code",
   "execution_count": null,
   "metadata": {},
   "outputs": [],
   "source": [
    "gc.collect()"
   ]
  },
  {
   "cell_type": "markdown",
   "metadata": {},
   "source": [
    "## compare lag vs no lag"
   ]
  },
  {
   "cell_type": "code",
   "execution_count": null,
   "metadata": {},
   "outputs": [],
   "source": [
    "canon_df = pd.DataFrame(cca_no_lag.canon_corr, columns = ['no_lag'])\n",
    "canon_df[f'lag_{dec.max_lag_number}'] = cca_lags.canon_corr\n",
    "canon_df['component'] = [f'CC {i+1}' for i in range(cca_lags.n_components)]\n",
    "# convert canon_df to long format\n",
    "canon_df_long = pd.melt(canon_df, id_vars=['component'], var_name='lag', value_name='canon_coeff')"
   ]
  },
  {
   "cell_type": "code",
   "execution_count": null,
   "metadata": {},
   "outputs": [],
   "source": [
    "# make a sns bar plot on canon_df_long\n",
    "plt.figure(figsize=(8, 6))\n",
    "sns.barplot(x='component', y='canon_coeff', data=canon_df_long, hue='lag')\n",
    "plt.show()"
   ]
  },
  {
   "cell_type": "markdown",
   "metadata": {},
   "source": [
    "## cca_inst (choose one between lags and no lag)"
   ]
  },
  {
   "cell_type": "code",
   "execution_count": null,
   "metadata": {},
   "outputs": [
    {
     "ename": "NameError",
     "evalue": "name 'cca_lags' is not defined",
     "output_type": "error",
     "traceback": [
      "\u001b[31m---------------------------------------------------------------------------\u001b[39m",
      "\u001b[31mNameError\u001b[39m                                 Traceback (most recent call last)",
      "\u001b[36mCell\u001b[39m\u001b[36m \u001b[39m\u001b[32mIn[65]\u001b[39m\u001b[32m, line 2\u001b[39m\n\u001b[32m      1\u001b[39m \u001b[38;5;66;03m# choose lags\u001b[39;00m\n\u001b[32m----> \u001b[39m\u001b[32m2\u001b[39m cca_inst = \u001b[43mcca_lags\u001b[49m\n",
      "\u001b[31mNameError\u001b[39m: name 'cca_lags' is not defined"
     ]
    }
   ],
   "source": [
    "# choose lags\n",
    "cca_inst = cca_lags"
   ]
  },
  {
   "cell_type": "code",
   "execution_count": null,
   "metadata": {},
   "outputs": [],
   "source": [
    "# choose no lag\n",
    "cca_inst = cca_no_lag"
   ]
  },
  {
   "cell_type": "markdown",
   "metadata": {},
   "source": [
    "## loadings"
   ]
  },
  {
   "cell_type": "markdown",
   "metadata": {},
   "source": [
    "### neurons"
   ]
  },
  {
   "cell_type": "code",
   "execution_count": null,
   "metadata": {},
   "outputs": [
    {
     "data": {
      "image/png": "[encoded data removed]",
      "text/plain": [
       "<Figure size 800x600 with 1 Axes>"
      ]
     },
     "metadata": {},
     "output_type": "display_data"
    },
    {
     "data": {
      "image/png": "[encoded data removed]",
      "text/plain": [
       "<Figure size 800x600 with 1 Axes>"
      ]
     },
     "metadata": {},
     "output_type": "display_data"
    },
    {
     "data": {
      "image/png": "[encoded data removed]",
      "text/plain": [
       "<Figure size 800x600 with 1 Axes>"
      ]
     },
     "metadata": {},
     "output_type": "display_data"
    },
    {
     "data": {
      "image/png": "[encoded data removed]",
      "text/plain": [
       "<Figure size 800x600 with 1 Axes>"
      ]
     },
     "metadata": {},
     "output_type": "display_data"
    },
    {
     "data": {
      "image/png": "[encoded data removed]",
      "text/plain": [
       "<Figure size 800x600 with 1 Axes>"
      ]
     },
     "metadata": {},
     "output_type": "display_data"
    }
   ],
   "source": [
    "cca_inst.plot_ranked_loadings(X1_or_X2='X1', squared=False)"
   ]
  },
  {
   "cell_type": "markdown",
   "metadata": {},
   "source": [
    "### behavior"
   ]
  },
  {
   "cell_type": "code",
   "execution_count": null,
   "metadata": {},
   "outputs": [
    {
     "data": {
      "image/png": "[encoded data removed]",
      "text/plain": [
       "<Figure size 800x600 with 1 Axes>"
      ]
     },
     "metadata": {},
     "output_type": "display_data"
    },
    {
     "data": {
      "image/png": "[encoded data removed]",
      "text/plain": [
       "<Figure size 800x600 with 1 Axes>"
      ]
     },
     "metadata": {},
     "output_type": "display_data"
    },
    {
     "data": {
      "image/png": "[encoded data removed]",
      "text/plain": [
       "<Figure size 800x600 with 1 Axes>"
      ]
     },
     "metadata": {},
     "output_type": "display_data"
    },
    {
     "data": {
      "image/png": "[encoded data removed]",
      "text/plain": [
       "<Figure size 800x600 with 1 Axes>"
      ]
     },
     "metadata": {},
     "output_type": "display_data"
    },
    {
     "data": {
      "image/png": "[encoded data removed]",
      "text/plain": [
       "<Figure size 800x600 with 1 Axes>"
      ]
     },
     "metadata": {},
     "output_type": "display_data"
    }
   ],
   "source": [
    "cca_inst.plot_ranked_loadings(X1_or_X2='X2', squared=False)"
   ]
  },
  {
   "cell_type": "markdown",
   "metadata": {},
   "source": [
    "## squared loadings"
   ]
  },
  {
   "cell_type": "markdown",
   "metadata": {},
   "source": [
    "### neurons"
   ]
  },
  {
   "cell_type": "code",
   "execution_count": null,
   "metadata": {},
   "outputs": [],
   "source": [
    "cca_inst.plot_ranked_loadings(X1_or_X2='X1')"
   ]
  },
  {
   "cell_type": "markdown",
   "metadata": {},
   "source": [
    "### behavior"
   ]
  },
  {
   "cell_type": "code",
   "execution_count": null,
   "metadata": {},
   "outputs": [],
   "source": [
    "cca_inst.plot_ranked_loadings(X1_or_X2='X2')"
   ]
  },
  {
   "cell_type": "markdown",
   "metadata": {},
   "source": [
    "## abs weights ranked"
   ]
  },
  {
   "cell_type": "markdown",
   "metadata": {},
   "source": [
    "### neurons"
   ]
  },
  {
   "cell_type": "code",
   "execution_count": null,
   "metadata": {},
   "outputs": [],
   "source": [
    "cca_inst.plot_ranked_weights()"
   ]
  },
  {
   "cell_type": "markdown",
   "metadata": {},
   "source": [
    "### behavior"
   ]
  },
  {
   "cell_type": "code",
   "execution_count": null,
   "metadata": {},
   "outputs": [],
   "source": [
    "cca_inst.plot_ranked_weights(X1_or_X2='X2')"
   ]
  },
  {
   "cell_type": "markdown",
   "metadata": {},
   "source": [
    "## plot real weights"
   ]
  },
  {
   "cell_type": "markdown",
   "metadata": {},
   "source": [
    "### neurons"
   ]
  },
  {
   "cell_type": "code",
   "execution_count": null,
   "metadata": {},
   "outputs": [],
   "source": [
    "cca_inst.plot_ranked_weights(abs_value=False)"
   ]
  },
  {
   "cell_type": "markdown",
   "metadata": {},
   "source": [
    "### behavior"
   ]
  },
  {
   "cell_type": "code",
   "execution_count": null,
   "metadata": {},
   "outputs": [],
   "source": [
    "cca_inst.plot_ranked_weights(X1_or_X2='X2', abs_value=False)"
   ]
  },
  {
   "cell_type": "code",
   "execution_count": null,
   "metadata": {},
   "outputs": [],
   "source": [
    "stop here!"
   ]
  },
  {
   "cell_type": "markdown",
   "metadata": {},
   "source": [
    "## distribution of each feature"
   ]
  },
  {
   "cell_type": "code",
   "execution_count": null,
   "metadata": {},
   "outputs": [],
   "source": [
    "cca_inst.X2_sc.shape"
   ]
  },
  {
   "cell_type": "code",
   "execution_count": null,
   "metadata": {},
   "outputs": [],
   "source": [
    "X2_sc_df = pd.DataFrame(cca_inst.X2_sc, columns = cca_inst.X2.columns)\n",
    "X2_sc_df.describe()"
   ]
  },
  {
   "cell_type": "code",
   "execution_count": null,
   "metadata": {},
   "outputs": [],
   "source": [
    "for column in X2_sc_df.columns:\n",
    "    plt.figure(figsize=(8, 2))\n",
    "    sns.boxplot(X2_sc_df[column], orient='h')\n",
    "    plt.show()\n",
    "    "
   ]
  },
  {
   "cell_type": "markdown",
   "metadata": {},
   "source": [
    "## heatmap of weights\n",
    "raw canonical coefficients are interpreted in a manner analogous to interpreting regression coefficients. For example: a one unit increase in reading leads to a .0446 decrease in the first canonical variate of set 2 when all of the other variables are held constant (in some other data)"
   ]
  },
  {
   "cell_type": "code",
   "execution_count": null,
   "metadata": {},
   "outputs": [],
   "source": [
    "weight_df = cca_inst.X2_weight_df.copy()\n",
    "weight_df = weight_df.set_index('feature').drop(columns='feature_category')"
   ]
  },
  {
   "cell_type": "code",
   "execution_count": null,
   "metadata": {},
   "outputs": [],
   "source": [
    "plt.subplots(figsize=(15, 25))\n",
    "sns.heatmap(weight_df.iloc[:20, :10], cmap='coolwarm', annot=True, linewidths=1)\n",
    "plt.show()"
   ]
  },
  {
   "cell_type": "markdown",
   "metadata": {},
   "source": [
    "## train test split"
   ]
  },
  {
   "cell_type": "code",
   "execution_count": null,
   "metadata": {},
   "outputs": [],
   "source": [
    "train1, test1, train2, test2 = train_test_split(cca_inst.X1_sc, cca_inst.X2_sc, test_size=0.3, random_state=42)\n",
    "# use training and testing set\n",
    "nComponents = 10\n",
    "cca2 = rcca.CCA(kernelcca = False, reg = 0., numCC = nComponents)\n",
    "cca2.train([train1, train2])\n",
    "testcorrs = cca2.validate([test1, test2])\n",
    "testcorrs"
   ]
  },
  {
   "cell_type": "markdown",
   "metadata": {},
   "source": [
    "## compute explained variance"
   ]
  },
  {
   "cell_type": "code",
   "execution_count": null,
   "metadata": {},
   "outputs": [],
   "source": [
    "cca2.compute_ev([test1, test2])"
   ]
  },
  {
   "cell_type": "markdown",
   "metadata": {},
   "source": [
    "## test for p values"
   ]
  },
  {
   "cell_type": "code",
   "execution_count": null,
   "metadata": {},
   "outputs": [],
   "source": [
    "stats_cca = CanCorr(cca_inst.X1_sc, cca_inst.X2_sc)\n",
    "print(stats_cca.corr_test().summary())\n",
    "neural_data_modeling.print_weights('X', stats_cca.x_cancoef)\n",
    "neural_data_modeling.print_weights('Z', stats_cca.y_cancoef)"
   ]
  },
  {
   "cell_type": "code",
   "execution_count": null,
   "metadata": {},
   "outputs": [],
   "source": [
    "stop pls"
   ]
  },
  {
   "cell_type": "markdown",
   "metadata": {},
   "source": [
    "# PGAM (unfinished)"
   ]
  },
  {
   "cell_type": "code",
   "execution_count": null,
   "metadata": {},
   "outputs": [],
   "source": [
    "## Categorize variables\n",
    "dec.y_var_reduced.columns\n",
    "temporal_vars = ['time_rel_to_stop',\n",
    " 'time_when_nxt_ff_first_seen_rel_to_stop',\n",
    " 'time_when_cur_ff_first_seen_rel_to_stop',\n",
    " 'time_when_nxt_ff_last_seen_rel_to_stop',\n",
    " 'time_when_cur_ff_last_seen_rel_to_stop',\n",
    " ]\n",
    "\n",
    "spatial_vars = [x for x in dec.y_var_reduced.columns if x not in temporal_vars]\n",
    "spatial_vars"
   ]
  },
  {
   "cell_type": "markdown",
   "metadata": {},
   "source": [
    "# Inspect data"
   ]
  },
  {
   "cell_type": "markdown",
   "metadata": {},
   "source": [
    "## sparsity of neural data"
   ]
  },
  {
   "cell_type": "code",
   "execution_count": null,
   "metadata": {},
   "outputs": [],
   "source": [
    "dec.binned_spikes_df.shape"
   ]
  },
  {
   "cell_type": "code",
   "execution_count": null,
   "metadata": {},
   "outputs": [],
   "source": [
    "# inspect neural data\n",
    "\n",
    "bins = dec.binned_spikes_df\n",
    "\n",
    "# Calculate percentage of non-zero rows for each column\n",
    "non_zero_percentages = (bins != 0).mean() * 100\n",
    "\n",
    "# Create a DataFrame with the results\n",
    "non_zero_df = pd.DataFrame({\n",
    "    'Column': non_zero_percentages.index,\n",
    "    'Percent_Non_Zero': non_zero_percentages.values\n",
    "})\n",
    "\n",
    "# Sort by percentage in descending order\n",
    "non_zero_df = non_zero_df.sort_values('Percent_Non_Zero', ascending=False)\n",
    "\n",
    "print(\"Percentage of non-zero values in each column:\")\n",
    "print(non_zero_df)\n"
   ]
  },
  {
   "cell_type": "code",
   "execution_count": null,
   "metadata": {},
   "outputs": [],
   "source": [
    "bins.drop(columns='bin').mean(axis=1).describe()\n",
    "\n",
    "# plot the percentile of values of mean firing rates across neurons at each time bin\n",
    "mean_rates = bins.drop(columns='bin').mean(axis=1)\n",
    "\n",
    "# Calculate percentiles from 0 to 100\n",
    "percentiles = np.arange(0, 101, 1)\n",
    "percentile_values = np.percentile(mean_rates, percentiles)\n",
    "\n",
    "# Create plot\n",
    "plt.figure(figsize=(6, 4))\n",
    "plt.plot(percentiles, percentile_values)\n",
    "plt.xlabel('Percentile')\n",
    "plt.ylabel('Mean Firing Rate')\n",
    "plt.title('Distribution of Mean Firing Rates Across Neurons')\n",
    "plt.grid(True)\n",
    "plt.show()\n"
   ]
  },
  {
   "cell_type": "markdown",
   "metadata": {},
   "source": [
    "## multicollinearity"
   ]
  },
  {
   "cell_type": "markdown",
   "metadata": {},
   "source": [
    "### y var (behavioral)"
   ]
  },
  {
   "cell_type": "code",
   "execution_count": null,
   "metadata": {},
   "outputs": [],
   "source": [
    "y_var_vif = drop_high_vif_vars.get_vif_df(dec.y_var)\n",
    "print(y_var_vif.head(8))\n",
    "\n",
    "# calculate the correlation coefficient among the columns with VIF > 5\n",
    "# specific_columns = vif_df[vif_df['vif'] > 5].feature.values\n",
    "specific_columns = y_var_vif.feature.values[:10]\n",
    "corr_coeff = dec.y_var[specific_columns].corr()\n",
    "#plt.figure(figsize = (6, 6))\n",
    "plt.figure(figsize = (8, 6))\n",
    "sns.heatmap(corr_coeff, cmap='coolwarm', annot=True, linewidths=1, vmin=-1)\n",
    "plt.show()"
   ]
  },
  {
   "cell_type": "code",
   "execution_count": null,
   "metadata": {},
   "outputs": [],
   "source": [
    "# Try y_var_reduced\n",
    "\n",
    "y_var_vif = drop_high_vif_vars.get_vif_df(dec.y_var_reduced)\n",
    "print(y_var_vif.head(8))\n",
    "\n",
    "# calculate the correlation coefficient among the columns with VIF > 5\n",
    "# specific_columns = vif_df[vif_df['vif'] > 5].feature.values\n",
    "specific_columns = y_var_vif.feature.values[:10]\n",
    "corr_coeff = dec.y_var[specific_columns].corr()\n",
    "#plt.figure(figsize = (6, 6))\n",
    "plt.figure(figsize = (8, 6))\n",
    "sns.heatmap(corr_coeff, cmap='coolwarm', annot=True, linewidths=1, vmin=-1)\n",
    "plt.show()"
   ]
  },
  {
   "cell_type": "markdown",
   "metadata": {},
   "source": [
    "## plot trial segments in pursuit_data"
   ]
  },
  {
   "cell_type": "code",
   "execution_count": null,
   "metadata": {},
   "outputs": [],
   "source": [
    "from visualization.matplotlib_tools import plot_trials,\n",
    "dec.make_PlotTrials_args()"
   ]
  },
  {
   "cell_type": "code",
   "execution_count": null,
   "metadata": {},
   "outputs": [],
   "source": [
    "plt.rcParams['figure.figsize'] = [10, 10]                     \n",
    "\n",
    "max_plot_to_make = 2\n",
    "plot_counter = 0\n",
    "\n",
    "for index, row in dec.single_vis_target_df.iloc[2:].iterrows():\n",
    "\n",
    "    duration = [row['last_vis_time'], row['ff_caught_time']]\n",
    "\n",
    "    returned_info = plot_trials.PlotTrials(\n",
    "                duration, \n",
    "                *dec.PlotTrials_args,  \n",
    "                adjust_xy_limits=True,       \n",
    "                minimal_margin=50,\n",
    "                show_reward_boundary=True,\n",
    "                show_alive_fireflies=False,\n",
    "                show_visible_fireflies=True,\n",
    "                show_in_memory_fireflies=True,\n",
    "                show_believed_target_positions=True,\n",
    "                )\n",
    "    plt.show()\n",
    "    \n",
    "\n",
    "    plot_counter += 1\n",
    "    if plot_counter >= max_plot_to_make:\n",
    "        break"
   ]
  },
  {
   "cell_type": "markdown",
   "metadata": {},
   "source": [
    "### check target_rel_x and y\n",
    "(The look correct after checking)"
   ]
  },
  {
   "cell_type": "code",
   "execution_count": null,
   "metadata": {},
   "outputs": [],
   "source": [
    "pursuit_sub = dec.pursuit_data.loc[dec.pursuit_data['target_index']==65].copy()\n",
    "pursuit_sub['target_angle_deg'] = pursuit_sub['target_angle'] * 180/pi "
   ]
  },
  {
   "cell_type": "code",
   "execution_count": null,
   "metadata": {},
   "outputs": [],
   "source": [
    "pursuit_sub[['point_index', 'target_angle_deg', 'target_distance', 'target_rel_x', 'target_rel_y']]"
   ]
  },
  {
   "cell_type": "markdown",
   "metadata": {},
   "source": [
    "# Appendix"
   ]
  },
  {
   "cell_type": "markdown",
   "metadata": {},
   "source": [
    "## check NA"
   ]
  },
  {
   "cell_type": "code",
   "execution_count": null,
   "metadata": {},
   "outputs": [
    {
     "name": "stdout",
     "output_type": "stream",
     "text": [
      "No NA values found in the dataframe\n",
      "\n",
      "================================================================================\n",
      "🔍 Duplicate Rows Analysis:\n",
      "================================================================================\n",
      "No duplicate rows found in the dataframe\n"
     ]
    }
   ],
   "source": [
    "na_rows, na_cols = general_utils.find_rows_with_na(dec.y_var)\n",
    "duplicate_rows = general_utils.find_duplicate_rows(dec.y_var, column_subset=None)"
   ]
  },
  {
   "cell_type": "markdown",
   "metadata": {},
   "source": [
    "## See sizes of biggest variables"
   ]
  },
  {
   "cell_type": "markdown",
   "metadata": {},
   "source": [
    "### in dec"
   ]
  },
  {
   "cell_type": "code",
   "execution_count": null,
   "metadata": {},
   "outputs": [
    {
     "name": "stdout",
     "output_type": "stream",
     "text": [
      "behav_data: 389.82 MB\n",
      "binned_spikes_df: 239.04 MB\n",
      "x_var_lags: 234.83 MB\n",
      "behav_data_all: 229.43 MB\n",
      "y_var_lags: 153.08 MB\n",
      "x_var: 14.26 MB\n",
      "y_var: 9.95 MB\n",
      "pursuit_data: 9.69 MB\n",
      "y_var_reduced: 9.45 MB\n",
      "pursuit_data_by_trial: 8.03 MB\n",
      "time_bins: 3.97 MB\n",
      "ff_flash_sorted: 3.45 MB\n",
      "target_clust_last_vis_df: 0.31 MB\n",
      "single_vis_target_df: 0.24 MB\n",
      "closest_stop_to_capture_df: 0.09 MB\n",
      "ff_closest_stop_time_sorted: 0.02 MB\n",
      "ff_life_sorted: 0.02 MB\n",
      "ff_real_position_sorted: 0.02 MB\n",
      "ff_flash_end_sorted: 0.01 MB\n",
      "ff_index_sorted: 0.01 MB\n",
      "ff_believed_position_sorted: 0.01 MB\n",
      "ff_caught_T_new: 0.00 MB\n",
      "ff_caught_T_sorted: 0.00 MB\n",
      "bin_width_w_unit: 0.00 MB\n",
      "curv_of_traj_params: 0.00 MB\n",
      "y_columns_to_drop: 0.00 MB\n",
      "lag_numbers: 0.00 MB\n",
      "x_lag_numbers: 0.00 MB\n",
      "convolve_pattern: 0.00 MB\n",
      "lr_result_df_path: 0.00 MB\n",
      "vif_df_path: 0.00 MB\n",
      "y_var_lags_path: 0.00 MB\n",
      "patterns_and_features_data_folder_path: 0.00 MB\n",
      "processed_neural_data_folder_path: 0.00 MB\n",
      "decision_making_folder_path: 0.00 MB\n",
      "neural_data_folder_path: 0.00 MB\n",
      "processed_data_folder_path: 0.00 MB\n",
      "raw_data_folder_path: 0.00 MB\n",
      "time_calibration_folder_path: 0.00 MB\n",
      "planning_data_folder_path: 0.00 MB\n",
      "traj_curv_descr: 0.00 MB\n",
      "curv_of_traj_trace_name: 0.00 MB\n",
      "raw_data_dir_name: 0.00 MB\n",
      "data_name: 0.00 MB\n",
      "monkey_name: 0.00 MB\n",
      "player: 0.00 MB\n",
      "max_bin: 0.00 MB\n",
      "max_point_index: 0.00 MB\n",
      "min_point_index: 0.00 MB\n",
      "caught_ff_num: 0.00 MB\n",
      "interocular_dist: 0.00 MB\n",
      "max_lag_number: 0.00 MB\n",
      "max_x_lag_number: 0.00 MB\n",
      "num_bins_in_window: 0.00 MB\n",
      "one_behav_idx_per_bin: 0.00 MB\n",
      "sampling_rate: 0.00 MB\n",
      "bin_width: 0.00 MB\n",
      "smr_markers_end_time: 0.00 MB\n",
      "smr_markers_start_time: 0.00 MB\n",
      "window_width: 0.00 MB\n",
      "cluster_around_target_indices: 0.00 MB\n",
      "_add_all_target_and_target_cluster_info: 0.00 MB\n",
      "_add_all_target_info: 0.00 MB\n",
      "_add_curv_info: 0.00 MB\n",
      "_add_ff_info: 0.00 MB\n",
      "_add_monkey_info: 0.00 MB\n",
      "_add_pattern_info_based_on_points_and_trials: 0.00 MB\n",
      "_clip_values: 0.00 MB\n",
      "_find_single_vis_target_df: 0.00 MB\n",
      "_get_index_of_bins_in_valid_intervals: 0.00 MB\n",
      "_get_lags: 0.00 MB\n",
      "_get_x_and_y_var: 0.00 MB\n",
      "_get_x_var: 0.00 MB\n",
      "_get_x_var_lags: 0.00 MB\n",
      "_get_y_var: 0.00 MB\n",
      "_get_y_var_lags: 0.00 MB\n",
      "_make_cmb_target_df: 0.00 MB\n",
      "_make_final_behavioral_data: 0.00 MB\n",
      "_make_or_retrieve_target_cluster_df: 0.00 MB\n",
      "_make_or_retrieve_target_df: 0.00 MB\n",
      "_prepare_to_find_patterns_and_features: 0.00 MB\n",
      "_process_na: 0.00 MB\n",
      "_update_optimal_arc_type_and_related_paths: 0.00 MB\n",
      "crudely_furnish_ff_dataframe: 0.00 MB\n",
      "extract_info_from_raw_data_folder_path: 0.00 MB\n",
      "find_patterns: 0.00 MB\n",
      "get_basic_data: 0.00 MB\n",
      "get_behav_data: 0.00 MB\n",
      "get_curv_of_traj_df: 0.00 MB\n",
      "get_give_up_after_trying_info: 0.00 MB\n",
      "get_gpfa_trahjectories: 0.00 MB\n",
      "get_latent_data_and_behav_data_for_all_trials: 0.00 MB\n",
      "get_more_monkey_data: 0.00 MB\n",
      "get_pursuit_data: 0.00 MB\n",
      "get_ref_point_params_based_on_mode: 0.00 MB\n",
      "get_related_folder_names_from_raw_data_folder_path: 0.00 MB\n",
      "get_subset_key_words_and_all_column_subsets: 0.00 MB\n",
      "get_try_a_few_times_info: 0.00 MB\n",
      "get_x_and_y_var: 0.00 MB\n",
      "get_x_and_y_var_lags: 0.00 MB\n",
      "init_variations_list: 0.00 MB\n",
      "init_variations_list_func: 0.00 MB\n",
      "load_raw_data: 0.00 MB\n",
      "make_PlotTrials_args: 0.00 MB\n",
      "make_PlotTrials_kargs: 0.00 MB\n",
      "make_all_trial_patterns: 0.00 MB\n",
      "make_df_related_to_patterns_and_features: 0.00 MB\n",
      "make_distance_and_num_stops_df: 0.00 MB\n",
      "make_ff_caught_T_new: 0.00 MB\n",
      "make_info_of_monkey: 0.00 MB\n",
      "make_one_stop_w_ff_df: 0.00 MB\n",
      "make_or_retrieve_all_trial_features: 0.00 MB\n",
      "make_or_retrieve_all_trial_patterns: 0.00 MB\n",
      "make_or_retrieve_closest_stop_to_capture_df: 0.00 MB\n",
      "make_or_retrieve_feature_statistics: 0.00 MB\n",
      "make_or_retrieve_ff_dataframe: 0.00 MB\n",
      "make_or_retrieve_monkey_information: 0.00 MB\n",
      "make_or_retrieve_pattern_frequencies: 0.00 MB\n",
      "make_or_retrieve_scatter_around_target_df: 0.00 MB\n",
      "make_or_retrieve_target_angle_smallest: 0.00 MB\n",
      "make_or_retrieve_target_closest: 0.00 MB\n",
      "make_or_retrieve_target_clust_last_vis_df: 0.00 MB\n",
      "make_or_retrieve_target_last_vis_df: 0.00 MB\n",
      "make_or_retrieve_x_var_vif_df: 0.00 MB\n",
      "make_or_retrieve_y_var_lags_reduced: 0.00 MB\n",
      "make_or_retrieve_y_var_lags_reduced_vif_df: 0.00 MB\n",
      "make_or_retrieve_y_var_lags_vif_df: 0.00 MB\n",
      "make_or_retrieve_y_var_lr_result_df: 0.00 MB\n",
      "make_or_retrieve_y_var_reduced_vif_df: 0.00 MB\n",
      "make_or_retrieve_y_var_vif_df: 0.00 MB\n",
      "make_relevant_paths: 0.00 MB\n",
      "plot_scatter_around_target_df: 0.00 MB\n",
      "plot_trials_from_a_category: 0.00 MB\n",
      "prep_behavioral_data_for_neural_data_modeling: 0.00 MB\n",
      "prepare_spikes_for_gpfa: 0.00 MB\n",
      "reduce_x_var_lags: 0.00 MB\n",
      "reduce_y_var: 0.00 MB\n",
      "reduce_y_var_lags: 0.00 MB\n",
      "retrieve_neural_data: 0.00 MB\n",
      "retrieve_or_make_monkey_data: 0.00 MB\n",
      "streamline_making_behav_and_neural_data: 0.00 MB\n",
      "streamline_preparing_neural_and_behavioral_data: 0.00 MB\n",
      "try_retrieving_df: 0.00 MB\n"
     ]
    }
   ],
   "source": [
    "from pympler import asizeof\n",
    "\n",
    "sizes = []\n",
    "for attr in dir(dec):\n",
    "    if attr.startswith('__') and attr.endswith('__'):\n",
    "        continue  # skip dunder attributes\n",
    "    try:\n",
    "        val = getattr(dec, attr)\n",
    "        size = asizeof.asizeof(val)\n",
    "        sizes.append((attr, size))\n",
    "    except Exception:\n",
    "        pass  # ignore any errors\n",
    "\n",
    "# Sort and display largest attributes in MB\n",
    "for name, size in sorted(sizes, key=lambda x: x[1], reverse=True):\n",
    "    print(f\"{name}: {size / (1024 * 1024):.2f} MB\")\n"
   ]
  },
  {
   "cell_type": "markdown",
   "metadata": {},
   "source": [
    "### global"
   ]
  },
  {
   "cell_type": "code",
   "execution_count": null,
   "metadata": {},
   "outputs": [
    {
     "name": "stdout",
     "output_type": "stream",
     "text": [
      "quit: 1089.19 MB\n",
      "exit: 1089.19 MB\n",
      "user_vars: 1088.96 MB\n",
      "filtered: 1088.96 MB\n",
      "sorted_vars: 1088.41 MB\n",
      "current_globals: 1076.42 MB\n",
      "dec: 1076.27 MB\n",
      "_oh: 9.79 MB\n",
      "Out: 9.79 MB\n",
      "_13: 9.79 MB\n",
      "sizes: 0.01 MB\n",
      "_ih: 0.01 MB\n",
      "In: 0.01 MB\n",
      "var: 0.00 MB\n",
      "_i1: 0.00 MB\n",
      "exclude_names: 0.00 MB\n",
      "_dh: 0.00 MB\n",
      "_i20: 0.00 MB\n",
      "_i19: 0.00 MB\n",
      "_ii: 0.00 MB\n"
     ]
    }
   ],
   "source": [
    "import types\n",
    "import warnings\n",
    "from pympler import asizeof\n",
    "\n",
    "warnings.filterwarnings(\"ignore\", category=UserWarning)\n",
    "\n",
    "\n",
    "filtered = {\n",
    "    k: v for k, v in globals().items()\n",
    "    if not isinstance(v, types.ModuleType)\n",
    "}\n",
    "\n",
    "sizes = []\n",
    "for name, val in filtered.items():\n",
    "    try:\n",
    "        sizes.append((name, asizeof.asizeof(val)))\n",
    "    except:\n",
    "        pass\n",
    "\n",
    "for name, size in sorted(sizes, key=lambda x: x[1], reverse=True)[:20]:\n",
    "    print(f\"{name}: {size / (1024 * 1024):.2f} MB\")\n"
   ]
  },
  {
   "cell_type": "markdown",
   "metadata": {},
   "source": [
    "## more columns (possibly get in the future)"
   ]
  },
  {
   "cell_type": "markdown",
   "metadata": {},
   "source": [
    "get also get: (but to be honest, it doesn't make that much sense to get them....so let's skip for now.)\n",
    "'distance traversed since target last visible',\n",
    "'d angle since target last visible', 'target_at_right',\n",
    "'time_till_capture', 'time from last visible to capture"
   ]
  },
  {
   "cell_type": "markdown",
   "metadata": {},
   "source": [
    "Note that there might be multicollinearity. For example, duration from last visible to capture = time since target last visible + time till capture\n",
    "\n",
    "Similarly, target angle = target angle last seen frozen - d angle since target last visible\n",
    "\n",
    "(For distance it's not exactly the same because of the difference between distance and distance traversed, but it's still similar)\n",
    "\n",
    "The multicollinearity is fine in linear regression (when each feature here is a y var), but need to be dealt with in cca."
   ]
  },
  {
   "cell_type": "markdown",
   "metadata": {},
   "source": [
    "## other thoughts"
   ]
  },
  {
   "cell_type": "markdown",
   "metadata": {},
   "source": [
    "should i actually align each section, as if they are trials???\n",
    "maybe i can try both that and continuous time... both can shed light on different behavioral variables\n",
    "but for aligning trials, it may require alignment or warping since trial durations vary.\n",
    "\n",
    "btw, what does it mean stitch data?\n",
    "\n",
    "also, what does it look like to use RNN to model it?\n",
    "I thought about the paper that Noah presented on\n",
    "\n",
    "\n",
    "btw.......IME"
   ]
  },
  {
   "cell_type": "markdown",
   "metadata": {},
   "source": [
    "## why ratio of bin/target_index approaches constant"
   ]
  },
  {
   "cell_type": "code",
   "execution_count": null,
   "metadata": {},
   "outputs": [],
   "source": [
    "trial_lengths = dec.pursuit_data[['target_index', 'bin']].groupby('target_index').count()\n",
    "trial_lengths.describe()"
   ]
  },
  {
   "cell_type": "code",
   "execution_count": null,
   "metadata": {},
   "outputs": [],
   "source": [
    "sub = dec.y_var_reduced[['time', 'bin', 'target_index']]\n",
    "sub['factor'] = dec.y_var_reduced['bin']/dec.y_var_reduced['target_index']\n",
    "sub"
   ]
  },
  {
   "cell_type": "code",
   "execution_count": null,
   "metadata": {},
   "outputs": [],
   "source": [
    "plt.hist(np.diff(dec.ff_caught_T_sorted), bins=30)\n",
    "plt.xlabel('Time difference')\n",
    "plt.ylabel('Count')\n",
    "plt.title('Distribution of time differences between caught events')\n",
    "plt.show()\n"
   ]
  },
  {
   "cell_type": "code",
   "execution_count": null,
   "metadata": {},
   "outputs": [],
   "source": [
    "dec.ff_caught_T_sorted/np.arange(len(dec.ff_caught_T_sorted))"
   ]
  },
  {
   "cell_type": "markdown",
   "metadata": {},
   "source": [
    "## compared with neural_data_modeling"
   ]
  },
  {
   "cell_type": "code",
   "execution_count": null,
   "metadata": {},
   "outputs": [],
   "source": [
    "dec = neural_vs_behavioral_class.NeuralVsBehavioralClass(raw_data_folder_path=raw_data_folder_path)\n",
    "dec.streamline_preparing_neural_and_behavioral_data()"
   ]
  },
  {
   "cell_type": "code",
   "execution_count": null,
   "metadata": {},
   "outputs": [],
   "source": [
    "dec.final_behavioral_data"
   ]
  },
  {
   "cell_type": "code",
   "execution_count": null,
   "metadata": {},
   "outputs": [],
   "source": [
    "dec.y_var"
   ]
  },
  {
   "cell_type": "code",
   "execution_count": null,
   "metadata": {},
   "outputs": [],
   "source": [
    "dec.y_var_reduced"
   ]
  },
  {
   "cell_type": "code",
   "execution_count": null,
   "metadata": {},
   "outputs": [],
   "source": [
    "dec.y_var.columns"
   ]
  },
  {
   "cell_type": "code",
   "execution_count": null,
   "metadata": {},
   "outputs": [],
   "source": [
    "dec.y_var_reduced.columns"
   ]
  },
  {
   "cell_type": "code",
   "execution_count": null,
   "metadata": {},
   "outputs": [],
   "source": [
    "[col for col in dec.y_var.columns if col not in dec.y_var_reduced.columns]"
   ]
  },
  {
   "cell_type": "code",
   "execution_count": null,
   "metadata": {},
   "outputs": [],
   "source": [
    "[col for col in dec.y_var_reduced.columns if col not in dec.y_var.columns]"
   ]
  },
  {
   "cell_type": "markdown",
   "metadata": {},
   "source": [
    "## Check gpfa's binned spikes vs my own binned spikes"
   ]
  },
  {
   "cell_type": "code",
   "execution_count": null,
   "metadata": {},
   "outputs": [],
   "source": [
    "spike_segs_df = fit_gpfa_utils.make_spike_segs_df(dec.spike_df, dec.single_vis_target_df)\n"
   ]
  },
  {
   "cell_type": "markdown",
   "metadata": {},
   "source": [
    "### get binned spikes (seqs) from gpfa_utils."
   ]
  },
  {
   "cell_type": "code",
   "execution_count": null,
   "metadata": {},
   "outputs": [],
   "source": [
    "seg_index = 9\n",
    "cluster_index = 12\n",
    "seg = dec.spiketrain_corr_segs[seg_index]\n",
    "cluster = dec.spike_segs_df.cluster.unique()[cluster_index]\n",
    "\n",
    "spiketrain = dec.spiketrains[seg_index][cluster_index]\n",
    "seqs = gpfa_util.get_seqs([spiketrain], dec.bin_width_w_unit)"
   ]
  },
  {
   "cell_type": "markdown",
   "metadata": {},
   "source": [
    "### take out my own binned spikes"
   ]
  },
  {
   "cell_type": "code",
   "execution_count": null,
   "metadata": {},
   "outputs": [],
   "source": [
    "p_sub = dec.pursuit_data_all[dec.pursuit_data_all['segment']==seg]\n",
    "binned_spikes_sub = dec.binned_spikes_df[dec.binned_spikes_df['bin'].isin(p_sub['bin'])].copy()\n",
    "binned_spikes_sub['bin'] = binned_spikes_sub.index\n",
    "binned_spikes_sub2 = binned_spikes_sub.merge(p_sub[['bin', 'time']], on='bin', how='left')\n",
    "binned_spikes_sub3 = binned_spikes_sub2[['bin', 'time', f'unit_{cluster}']].copy()"
   ]
  },
  {
   "cell_type": "markdown",
   "metadata": {},
   "source": [
    "### compare"
   ]
  },
  {
   "cell_type": "code",
   "execution_count": null,
   "metadata": {},
   "outputs": [],
   "source": [
    "trial_length = len(binned_spikes_sub3)\n",
    "if dec.align_at_beginning:\n",
    "    binned_spikes_sub3['gpfa'] = seqs[0][1][0][trial_length:]\n",
    "else:\n",
    "    binned_spikes_sub3['gpfa'] = seqs[0][1][0][-trial_length:] # when getting latent dimension for neural data, [-trial_length:] was also used\n",
    "binned_spikes_sub3['same'] = binned_spikes_sub3[f'unit_{cluster}'] == binned_spikes_sub3['gpfa']\n",
    "binned_spikes_sub3[binned_spikes_sub3['same']!=True]"
   ]
  },
  {
   "cell_type": "markdown",
   "metadata": {},
   "source": [
    "## find out why there are rows of NA in dec.y_var"
   ]
  },
  {
   "cell_type": "code",
   "execution_count": null,
   "metadata": {},
   "outputs": [
    {
     "name": "stdout",
     "output_type": "stream",
     "text": [
      "\n",
      "================================================================================\n",
      "NA Values Analysis for DataFrame (10,752 rows)\n",
      "================================================================================\n",
      "\n",
      "Columns with NA values:\n",
      "------------------------------------------------------------\n",
      "bin                                            10 (   0.1%)\n",
      "point_index                                    10 (   0.1%)\n",
      "monkey_speed                                   10 (   0.1%)\n",
      "monkey_angle                                   10 (   0.1%)\n",
      "monkey_dw                                      10 (   0.1%)\n",
      "monkey_ddw                                     10 (   0.1%)\n",
      "monkey_ddv                                     10 (   0.1%)\n",
      "monkey_speeddummy                              10 (   0.1%)\n",
      "whether_new_distinct_stop                      10 (   0.1%)\n",
      "delta_distance                                 10 (   0.1%)\n",
      "LDy                                            10 (   0.1%)\n",
      "LDz                                            10 (   0.1%)\n",
      "RDy                                            10 (   0.1%)\n",
      "RDz                                            10 (   0.1%)\n",
      "gaze_mky_view_x_l                              10 (   0.1%)\n",
      "gaze_mky_view_y_l                              10 (   0.1%)\n",
      "gaze_mky_view_angle_l                          10 (   0.1%)\n",
      "gaze_mky_view_x_r                              10 (   0.1%)\n",
      "gaze_mky_view_y_r                              10 (   0.1%)\n",
      "gaze_mky_view_angle_r                          10 (   0.1%)\n",
      "eye_world_speed                                10 (   0.1%)\n",
      "valid_view_point_l                             10 (   0.1%)\n",
      "valid_view_point_r                             10 (   0.1%)\n",
      "num_alive_ff                                   10 (   0.1%)\n",
      "num_visible_ff                                 10 (   0.1%)\n",
      "min_ff_distance                                10 (   0.1%)\n",
      "min_abs_ff_angle                               10 (   0.1%)\n",
      "min_abs_ff_angle_boundary                      10 (   0.1%)\n",
      "min_visible_ff_distance                        10 (   0.1%)\n",
      "min_abs_visible_ff_angle                       10 (   0.1%)\n",
      "min_abs_visible_ff_angle_boundary              10 (   0.1%)\n",
      "catching_ff                                    10 (   0.1%)\n",
      "any_ff_visible                                 10 (   0.1%)\n",
      "target_distance                                10 (   0.1%)\n",
      "target_angle                                   10 (   0.1%)\n",
      "target_angle_to_boundary                       10 (   0.1%)\n",
      "target_rel_x                                   10 (   0.1%)\n",
      "target_rel_y                                   10 (   0.1%)\n",
      "time_since_target_last_seen                    10 (   0.1%)\n",
      "target_last_seen_distance                      10 (   0.1%)\n",
      "target_last_seen_angle                         10 (   0.1%)\n",
      "target_last_seen_angle_to_boundary             10 (   0.1%)\n",
      "target_visible_dummy                           10 (   0.1%)\n",
      "time_since_last_capture                        10 (   0.1%)\n",
      "traj_curv                                      10 (   0.1%)\n",
      "target_opt_arc_dheading                        10 (   0.1%)\n",
      "time_target_last_seen                          10 (   0.1%)\n",
      "distance_from_monkey_pos_target_last_seen       10 (   0.1%)\n",
      "cum_distance_since_target_last_seen            10 (   0.1%)\n",
      "d_heading_since_target_last_seen               10 (   0.1%)\n",
      "time                                           10 (   0.1%)\n",
      "monkey_x                                       10 (   0.1%)\n",
      "monkey_y                                       10 (   0.1%)\n",
      "cum_distance                                   10 (   0.1%)\n",
      "gaze_world_x_l                                 10 (   0.1%)\n",
      "gaze_world_y_l                                 10 (   0.1%)\n",
      "gaze_world_x_r                                 10 (   0.1%)\n",
      "gaze_world_y_r                                 10 (   0.1%)\n",
      "target_index                                   10 (   0.1%)\n",
      "target_x                                       10 (   0.1%)\n",
      "target_y                                       10 (   0.1%)\n",
      "------------------------------------------------------------\n",
      "\n",
      "Sample of rows with NA values (first 5):\n",
      "------------------------------------------------------------\n",
      "    bin  point_index  monkey_speed  monkey_angle  monkey_dw  monkey_ddw  monkey_ddv  monkey_speeddummy  whether_new_distinct_stop  delta_distance  LDy  LDz  RDy  RDz  gaze_mky_view_x_l  gaze_mky_view_y_l  gaze_mky_view_angle_l  gaze_mky_view_x_r  gaze_mky_view_y_r  gaze_mky_view_angle_r  eye_world_speed  valid_view_point_l  valid_view_point_r  num_alive_ff  num_visible_ff  min_ff_distance  min_abs_ff_angle  min_abs_ff_angle_boundary  min_visible_ff_distance  min_abs_visible_ff_angle  min_abs_visible_ff_angle_boundary  catching_ff  any_ff_visible  target_distance  target_angle  target_angle_to_boundary  target_rel_x  target_rel_y  time_since_target_last_seen  target_last_seen_distance  target_last_seen_angle  target_last_seen_angle_to_boundary  target_visible_dummy  time_since_last_capture  traj_curv  target_opt_arc_dheading  time_target_last_seen  distance_from_monkey_pos_target_last_seen  cum_distance_since_target_last_seen  d_heading_since_target_last_seen  time  monkey_x  monkey_y  cum_distance  gaze_world_x_l  gaze_world_y_l  gaze_world_x_r  gaze_world_y_r  target_index  target_x  target_y\n",
      "20  NaN          NaN           NaN           NaN        NaN         NaN         NaN                NaN                        NaN             NaN  NaN  NaN  NaN  NaN                NaN                NaN                    NaN                NaN                NaN                    NaN              NaN                 NaN                 NaN           NaN             NaN              NaN               NaN                        NaN                      NaN                       NaN                                NaN          NaN             NaN              NaN           NaN                       NaN           NaN           NaN                          NaN                        NaN                     NaN                                 NaN                   NaN                      NaN        NaN                      NaN                    NaN                                        NaN                                  NaN                               NaN   NaN       NaN       NaN           NaN             NaN             NaN             NaN             NaN           NaN       NaN       NaN\n",
      "21  NaN          NaN           NaN           NaN        NaN         NaN         NaN                NaN                        NaN             NaN  NaN  NaN  NaN  NaN                NaN                NaN                    NaN                NaN                NaN                    NaN              NaN                 NaN                 NaN           NaN             NaN              NaN               NaN                        NaN                      NaN                       NaN                                NaN          NaN             NaN              NaN           NaN                       NaN           NaN           NaN                          NaN                        NaN                     NaN                                 NaN                   NaN                      NaN        NaN                      NaN                    NaN                                        NaN                                  NaN                               NaN   NaN       NaN       NaN           NaN             NaN             NaN             NaN             NaN           NaN       NaN       NaN\n",
      "22  NaN          NaN           NaN           NaN        NaN         NaN         NaN                NaN                        NaN             NaN  NaN  NaN  NaN  NaN                NaN                NaN                    NaN                NaN                NaN                    NaN              NaN                 NaN                 NaN           NaN             NaN              NaN               NaN                        NaN                      NaN                       NaN                                NaN          NaN             NaN              NaN           NaN                       NaN           NaN           NaN                          NaN                        NaN                     NaN                                 NaN                   NaN                      NaN        NaN                      NaN                    NaN                                        NaN                                  NaN                               NaN   NaN       NaN       NaN           NaN             NaN             NaN             NaN             NaN           NaN       NaN       NaN\n",
      "23  NaN          NaN           NaN           NaN        NaN         NaN         NaN                NaN                        NaN             NaN  NaN  NaN  NaN  NaN                NaN                NaN                    NaN                NaN                NaN                    NaN              NaN                 NaN                 NaN           NaN             NaN              NaN               NaN                        NaN                      NaN                       NaN                                NaN          NaN             NaN              NaN           NaN                       NaN           NaN           NaN                          NaN                        NaN                     NaN                                 NaN                   NaN                      NaN        NaN                      NaN                    NaN                                        NaN                                  NaN                               NaN   NaN       NaN       NaN           NaN             NaN             NaN             NaN             NaN           NaN       NaN       NaN\n",
      "24  NaN          NaN           NaN           NaN        NaN         NaN         NaN                NaN                        NaN             NaN  NaN  NaN  NaN  NaN                NaN                NaN                    NaN                NaN                NaN                    NaN              NaN                 NaN                 NaN           NaN             NaN              NaN               NaN                        NaN                      NaN                       NaN                                NaN          NaN             NaN              NaN           NaN                       NaN           NaN           NaN                          NaN                        NaN                     NaN                                 NaN                   NaN                      NaN        NaN                      NaN                    NaN                                        NaN                                  NaN                               NaN   NaN       NaN       NaN           NaN             NaN             NaN             NaN             NaN           NaN       NaN       NaN\n",
      "------------------------------------------------------------\n",
      "\n",
      "================================================================================\n",
      "🔍 Duplicate Rows Analysis:\n",
      "================================================================================\n",
      "\n",
      "Found 10 duplicate rows\n",
      "\n",
      "Duplicate rows:\n",
      "------------------------------------------------------------\n",
      "    bin  point_index  monkey_speed  monkey_angle  monkey_dw  ...  \\\n",
      "20  NaN          NaN           NaN           NaN        NaN  ...   \n",
      "21  NaN          NaN           NaN           NaN        NaN  ...   \n",
      "22  NaN          NaN           NaN           NaN        NaN  ...   \n",
      "23  NaN          NaN           NaN           NaN        NaN  ...   \n",
      "24  NaN          NaN           NaN           NaN        NaN  ...   \n",
      "\n",
      "    gaze_world_x_r  gaze_world_y_r  target_index  target_x  target_y  \n",
      "20             NaN             NaN           NaN       NaN       NaN  \n",
      "21             NaN             NaN           NaN       NaN       NaN  \n",
      "22             NaN             NaN           NaN       NaN       NaN  \n",
      "23             NaN             NaN           NaN       NaN       NaN  \n",
      "24             NaN             NaN           NaN       NaN       NaN  \n",
      "\n",
      "[5 rows x 61 columns]\n",
      "\n",
      "Duplicate combinations:\n",
      "------------------------------------------------------------\n",
      "Series([], Name: count, dtype: int64)\n",
      "================================================================================\n"
     ]
    }
   ],
   "source": [
    "na_rows, na_cols = general_utils.find_rows_with_na(dec.y_var)\n",
    "duplicate_rows = general_utils.find_duplicate_rows(dec.y_var, column_subset=None)"
   ]
  },
  {
   "cell_type": "code",
   "execution_count": null,
   "metadata": {},
   "outputs": [
    {
     "data": {
      "text/html": [
       "<div>\n",
       "<style scoped>\n",
       "    .dataframe tbody tr th:only-of-type {\n",
       "        vertical-align: middle;\n",
       "    }\n",
       "\n",
       "    .dataframe tbody tr th {\n",
       "        vertical-align: top;\n",
       "    }\n",
       "\n",
       "    .dataframe thead th {\n",
       "        text-align: right;\n",
       "    }\n",
       "</style>\n",
       "<table border=\"1\" class=\"dataframe\">\n",
       "  <thead>\n",
       "    <tr style=\"text-align: right;\">\n",
       "      <th></th>\n",
       "      <th>bin</th>\n",
       "      <th>time</th>\n",
       "      <th>target_rel_x</th>\n",
       "      <th>target_rel_y</th>\n",
       "      <th>time_since_target_last_seen</th>\n",
       "      <th>target_last_seen_distance_frozen</th>\n",
       "    </tr>\n",
       "  </thead>\n",
       "  <tbody>\n",
       "    <tr>\n",
       "      <th>118189</th>\n",
       "      <td>118189</td>\n",
       "      <td>2363.79357</td>\n",
       "      <td>-28.19543</td>\n",
       "      <td>146.38031</td>\n",
       "      <td>100.00000</td>\n",
       "      <td>400.00000</td>\n",
       "    </tr>\n",
       "    <tr>\n",
       "      <th>118190</th>\n",
       "      <td>118190</td>\n",
       "      <td>2363.81014</td>\n",
       "      <td>-27.87834</td>\n",
       "      <td>146.44103</td>\n",
       "      <td>100.00000</td>\n",
       "      <td>400.00000</td>\n",
       "    </tr>\n",
       "    <tr>\n",
       "      <th>118191</th>\n",
       "      <td>118191</td>\n",
       "      <td>2363.82676</td>\n",
       "      <td>-27.83208</td>\n",
       "      <td>146.44983</td>\n",
       "      <td>100.00000</td>\n",
       "      <td>400.00000</td>\n",
       "    </tr>\n",
       "    <tr>\n",
       "      <th>118192</th>\n",
       "      <td>118192</td>\n",
       "      <td>2363.84340</td>\n",
       "      <td>-27.23474</td>\n",
       "      <td>146.56209</td>\n",
       "      <td>100.00000</td>\n",
       "      <td>400.00000</td>\n",
       "    </tr>\n",
       "    <tr>\n",
       "      <th>118193</th>\n",
       "      <td>118193</td>\n",
       "      <td>2363.87655</td>\n",
       "      <td>-30.89287</td>\n",
       "      <td>92.84220</td>\n",
       "      <td>0.03315</td>\n",
       "      <td>97.84704</td>\n",
       "    </tr>\n",
       "    <tr>\n",
       "      <th>118194</th>\n",
       "      <td>118194</td>\n",
       "      <td>2363.89316</td>\n",
       "      <td>-30.89386</td>\n",
       "      <td>92.77966</td>\n",
       "      <td>0.04976</td>\n",
       "      <td>97.84704</td>\n",
       "    </tr>\n",
       "    <tr>\n",
       "      <th>118195</th>\n",
       "      <td>118195</td>\n",
       "      <td>2363.90980</td>\n",
       "      <td>-30.89685</td>\n",
       "      <td>92.59225</td>\n",
       "      <td>0.06640</td>\n",
       "      <td>97.84704</td>\n",
       "    </tr>\n",
       "  </tbody>\n",
       "</table>\n",
       "</div>"
      ],
      "text/plain": [
       "           bin       time  target_rel_x  target_rel_y  \\\n",
       "118189  118189 2363.79357     -28.19543     146.38031   \n",
       "118190  118190 2363.81014     -27.87834     146.44103   \n",
       "118191  118191 2363.82676     -27.83208     146.44983   \n",
       "118192  118192 2363.84340     -27.23474     146.56209   \n",
       "118193  118193 2363.87655     -30.89287      92.84220   \n",
       "118194  118194 2363.89316     -30.89386      92.77966   \n",
       "118195  118195 2363.90980     -30.89685      92.59225   \n",
       "\n",
       "        time_since_target_last_seen  target_last_seen_distance_frozen  \n",
       "118189                    100.00000                         400.00000  \n",
       "118190                    100.00000                         400.00000  \n",
       "118191                    100.00000                         400.00000  \n",
       "118192                    100.00000                         400.00000  \n",
       "118193                      0.03315                          97.84704  \n",
       "118194                      0.04976                          97.84704  \n",
       "118195                      0.06640                          97.84704  "
      ]
     },
     "metadata": {},
     "output_type": "display_data"
    }
   ],
   "source": [
    "dec.behav_data_all.loc[118189:118195, ['bin', 'time', 'target_rel_x', 'target_rel_y','time_since_target_last_seen', 'target_last_seen_distance']]"
   ]
  },
  {
   "cell_type": "markdown",
   "metadata": {},
   "source": [
    "## Compare old and new target df"
   ]
  },
  {
   "cell_type": "code",
   "execution_count": null,
   "metadata": {},
   "outputs": [
    {
     "data": {
      "text/html": [
       "<div>\n",
       "<style scoped>\n",
       "    .dataframe tbody tr th:only-of-type {\n",
       "        vertical-align: middle;\n",
       "    }\n",
       "\n",
       "    .dataframe tbody tr th {\n",
       "        vertical-align: top;\n",
       "    }\n",
       "\n",
       "    .dataframe thead th {\n",
       "        text-align: right;\n",
       "    }\n",
       "</style>\n",
       "<table border=\"1\" class=\"dataframe\">\n",
       "  <thead>\n",
       "    <tr style=\"text-align: right;\">\n",
       "      <th></th>\n",
       "      <th>target_index</th>\n",
       "      <th>point_index</th>\n",
       "      <th>time</th>\n",
       "      <th>old_target_distance</th>\n",
       "      <th>new_target_distance</th>\n",
       "      <th>old_time_since_target_last_seen</th>\n",
       "      <th>new_time_since_target_last_seen</th>\n",
       "      <th>old_target_last_seen_distance</th>\n",
       "      <th>new_target_last_seen_distance</th>\n",
       "    </tr>\n",
       "  </thead>\n",
       "  <tbody>\n",
       "    <tr>\n",
       "      <th>10068</th>\n",
       "      <td>43</td>\n",
       "      <td>10068</td>\n",
       "      <td>166.25916</td>\n",
       "      <td>11.10407</td>\n",
       "      <td>11.10407</td>\n",
       "      <td>0.46470</td>\n",
       "      <td>0.46470</td>\n",
       "      <td>64.16406</td>\n",
       "      <td>64.16406</td>\n",
       "    </tr>\n",
       "    <tr>\n",
       "      <th>10069</th>\n",
       "      <td>43</td>\n",
       "      <td>10069</td>\n",
       "      <td>166.27583</td>\n",
       "      <td>11.30408</td>\n",
       "      <td>11.30408</td>\n",
       "      <td>0.48137</td>\n",
       "      <td>0.48137</td>\n",
       "      <td>64.16406</td>\n",
       "      <td>64.16406</td>\n",
       "    </tr>\n",
       "    <tr>\n",
       "      <th>10070</th>\n",
       "      <td>43</td>\n",
       "      <td>10070</td>\n",
       "      <td>166.29243</td>\n",
       "      <td>11.30411</td>\n",
       "      <td>11.30411</td>\n",
       "      <td>0.49797</td>\n",
       "      <td>0.49797</td>\n",
       "      <td>64.16406</td>\n",
       "      <td>64.16406</td>\n",
       "    </tr>\n",
       "    <tr>\n",
       "      <th>10071</th>\n",
       "      <td>44</td>\n",
       "      <td>10071</td>\n",
       "      <td>166.30901</td>\n",
       "      <td>564.26537</td>\n",
       "      <td>564.26537</td>\n",
       "      <td>85.88753</td>\n",
       "      <td>NaN</td>\n",
       "      <td>274.47807</td>\n",
       "      <td>NaN</td>\n",
       "    </tr>\n",
       "    <tr>\n",
       "      <th>10072</th>\n",
       "      <td>44</td>\n",
       "      <td>10072</td>\n",
       "      <td>166.32559</td>\n",
       "      <td>564.26537</td>\n",
       "      <td>564.26537</td>\n",
       "      <td>85.90411</td>\n",
       "      <td>NaN</td>\n",
       "      <td>274.47807</td>\n",
       "      <td>NaN</td>\n",
       "    </tr>\n",
       "    <tr>\n",
       "      <th>...</th>\n",
       "      <td>...</td>\n",
       "      <td>...</td>\n",
       "      <td>...</td>\n",
       "      <td>...</td>\n",
       "      <td>...</td>\n",
       "      <td>...</td>\n",
       "      <td>...</td>\n",
       "      <td>...</td>\n",
       "      <td>...</td>\n",
       "    </tr>\n",
       "    <tr>\n",
       "      <th>217186</th>\n",
       "      <td>469</td>\n",
       "      <td>217186</td>\n",
       "      <td>3598.88691</td>\n",
       "      <td>10.55384</td>\n",
       "      <td>10.55384</td>\n",
       "      <td>1229.88084</td>\n",
       "      <td>NaN</td>\n",
       "      <td>142.18819</td>\n",
       "      <td>NaN</td>\n",
       "    </tr>\n",
       "    <tr>\n",
       "      <th>217187</th>\n",
       "      <td>469</td>\n",
       "      <td>217187</td>\n",
       "      <td>3598.90334</td>\n",
       "      <td>10.55384</td>\n",
       "      <td>10.55384</td>\n",
       "      <td>1229.89728</td>\n",
       "      <td>NaN</td>\n",
       "      <td>142.18819</td>\n",
       "      <td>NaN</td>\n",
       "    </tr>\n",
       "    <tr>\n",
       "      <th>217188</th>\n",
       "      <td>470</td>\n",
       "      <td>217188</td>\n",
       "      <td>3598.91992</td>\n",
       "      <td>1144.91909</td>\n",
       "      <td>1144.91909</td>\n",
       "      <td>100.00000</td>\n",
       "      <td>NaN</td>\n",
       "      <td>400.00000</td>\n",
       "      <td>NaN</td>\n",
       "    </tr>\n",
       "    <tr>\n",
       "      <th>217189</th>\n",
       "      <td>470</td>\n",
       "      <td>217189</td>\n",
       "      <td>3598.93653</td>\n",
       "      <td>1144.91909</td>\n",
       "      <td>1144.91909</td>\n",
       "      <td>100.00000</td>\n",
       "      <td>NaN</td>\n",
       "      <td>400.00000</td>\n",
       "      <td>NaN</td>\n",
       "    </tr>\n",
       "    <tr>\n",
       "      <th>217190</th>\n",
       "      <td>470</td>\n",
       "      <td>217190</td>\n",
       "      <td>3598.95311</td>\n",
       "      <td>1144.91909</td>\n",
       "      <td>1144.91909</td>\n",
       "      <td>100.00000</td>\n",
       "      <td>NaN</td>\n",
       "      <td>400.00000</td>\n",
       "      <td>NaN</td>\n",
       "    </tr>\n",
       "  </tbody>\n",
       "</table>\n",
       "<p>207123 rows × 9 columns</p>\n",
       "</div>"
      ],
      "text/plain": [
       "        target_index  point_index       time  old_target_distance  \\\n",
       "10068             43        10068  166.25916             11.10407   \n",
       "10069             43        10069  166.27583             11.30408   \n",
       "10070             43        10070  166.29243             11.30411   \n",
       "10071             44        10071  166.30901            564.26537   \n",
       "10072             44        10072  166.32559            564.26537   \n",
       "...              ...          ...        ...                  ...   \n",
       "217186           469       217186 3598.88691             10.55384   \n",
       "217187           469       217187 3598.90334             10.55384   \n",
       "217188           470       217188 3598.91992           1144.91909   \n",
       "217189           470       217189 3598.93653           1144.91909   \n",
       "217190           470       217190 3598.95311           1144.91909   \n",
       "\n",
       "        new_target_distance  old_time_since_target_last_seen  \\\n",
       "10068              11.10407                          0.46470   \n",
       "10069              11.30408                          0.48137   \n",
       "10070              11.30411                          0.49797   \n",
       "10071             564.26537                         85.88753   \n",
       "10072             564.26537                         85.90411   \n",
       "...                     ...                              ...   \n",
       "217186             10.55384                       1229.88084   \n",
       "217187             10.55384                       1229.89728   \n",
       "217188           1144.91909                        100.00000   \n",
       "217189           1144.91909                        100.00000   \n",
       "217190           1144.91909                        100.00000   \n",
       "\n",
       "        new_time_since_target_last_seen  old_target_last_seen_distance  \\\n",
       "10068                           0.46470                       64.16406   \n",
       "10069                           0.48137                       64.16406   \n",
       "10070                           0.49797                       64.16406   \n",
       "10071                               NaN                      274.47807   \n",
       "10072                               NaN                      274.47807   \n",
       "...                                 ...                            ...   \n",
       "217186                              NaN                      142.18819   \n",
       "217187                              NaN                      142.18819   \n",
       "217188                              NaN                      400.00000   \n",
       "217189                              NaN                      400.00000   \n",
       "217190                              NaN                      400.00000   \n",
       "\n",
       "        new_target_last_seen_distance  \n",
       "10068                        64.16406  \n",
       "10069                        64.16406  \n",
       "10070                        64.16406  \n",
       "10071                             NaN  \n",
       "10072                             NaN  \n",
       "...                               ...  \n",
       "217186                            NaN  \n",
       "217187                            NaN  \n",
       "217188                            NaN  \n",
       "217189                            NaN  \n",
       "217190                            NaN  \n",
       "\n",
       "[207123 rows x 9 columns]"
      ]
     },
     "metadata": {},
     "output_type": "display_data"
    }
   ],
   "source": [
    "target_df_ori = pd.read_csv('/Users/dusiyi/Documents/Multifirefly-Project/all_monkey_data/patterns_and_features/monkey_Schro/data_0416/target_df_ori.csv')\n",
    "df = target_df_ori[['target_index', 'point_index', 'time']].copy()\n",
    "for col in ['target_distance', 'time_since_target_last_seen']:\n",
    "    df[f'old_{col}'] = target_df_ori[col]   \n",
    "    df[f'new_{col}'] = dec.target_df[col]  \n",
    "\n",
    "df['old_target_last_seen_distance'] = target_df_ori['target_last_seen_distance_frozen']\n",
    "df['new_target_last_seen_distance'] = dec.target_df['target_last_seen_distance']\n",
    "\n",
    "df2 = df.loc[10068:]\n",
    "df2"
   ]
  },
  {
   "cell_type": "code",
   "execution_count": null,
   "metadata": {},
   "outputs": [
    {
     "data": {
      "text/html": [
       "<div>\n",
       "<style scoped>\n",
       "    .dataframe tbody tr th:only-of-type {\n",
       "        vertical-align: middle;\n",
       "    }\n",
       "\n",
       "    .dataframe tbody tr th {\n",
       "        vertical-align: top;\n",
       "    }\n",
       "\n",
       "    .dataframe thead th {\n",
       "        text-align: right;\n",
       "    }\n",
       "</style>\n",
       "<table border=\"1\" class=\"dataframe\">\n",
       "  <thead>\n",
       "    <tr style=\"text-align: right;\">\n",
       "      <th></th>\n",
       "      <th>time</th>\n",
       "      <th>point_index</th>\n",
       "      <th>target_index</th>\n",
       "      <th>time_since_target_last_seen</th>\n",
       "      <th>target_last_seen_distance</th>\n",
       "      <th>...</th>\n",
       "      <th>target_last_seen_angle_to_boundary</th>\n",
       "      <th>time_target_last_seen</th>\n",
       "      <th>distance_from_monkey_pos_target_last_seen</th>\n",
       "      <th>cum_distance_since_target_last_seen</th>\n",
       "      <th>d_heading_since_target_last_seen</th>\n",
       "    </tr>\n",
       "  </thead>\n",
       "  <tbody>\n",
       "    <tr>\n",
       "      <th>10255</th>\n",
       "      <td>2316.60015</td>\n",
       "      <td>139913</td>\n",
       "      <td>450</td>\n",
       "      <td>NaN</td>\n",
       "      <td>NaN</td>\n",
       "      <td>...</td>\n",
       "      <td>NaN</td>\n",
       "      <td>NaN</td>\n",
       "      <td>NaN</td>\n",
       "      <td>NaN</td>\n",
       "      <td>NaN</td>\n",
       "    </tr>\n",
       "    <tr>\n",
       "      <th>10256</th>\n",
       "      <td>2316.63349</td>\n",
       "      <td>139915</td>\n",
       "      <td>450</td>\n",
       "      <td>NaN</td>\n",
       "      <td>NaN</td>\n",
       "      <td>...</td>\n",
       "      <td>NaN</td>\n",
       "      <td>NaN</td>\n",
       "      <td>NaN</td>\n",
       "      <td>NaN</td>\n",
       "      <td>NaN</td>\n",
       "    </tr>\n",
       "    <tr>\n",
       "      <th>10257</th>\n",
       "      <td>2316.65003</td>\n",
       "      <td>139916</td>\n",
       "      <td>450</td>\n",
       "      <td>NaN</td>\n",
       "      <td>NaN</td>\n",
       "      <td>...</td>\n",
       "      <td>NaN</td>\n",
       "      <td>NaN</td>\n",
       "      <td>NaN</td>\n",
       "      <td>NaN</td>\n",
       "      <td>NaN</td>\n",
       "    </tr>\n",
       "    <tr>\n",
       "      <th>10258</th>\n",
       "      <td>2316.66659</td>\n",
       "      <td>139917</td>\n",
       "      <td>450</td>\n",
       "      <td>NaN</td>\n",
       "      <td>NaN</td>\n",
       "      <td>...</td>\n",
       "      <td>NaN</td>\n",
       "      <td>NaN</td>\n",
       "      <td>NaN</td>\n",
       "      <td>NaN</td>\n",
       "      <td>NaN</td>\n",
       "    </tr>\n",
       "    <tr>\n",
       "      <th>10259</th>\n",
       "      <td>2316.68324</td>\n",
       "      <td>139918</td>\n",
       "      <td>450</td>\n",
       "      <td>NaN</td>\n",
       "      <td>NaN</td>\n",
       "      <td>...</td>\n",
       "      <td>NaN</td>\n",
       "      <td>NaN</td>\n",
       "      <td>NaN</td>\n",
       "      <td>NaN</td>\n",
       "      <td>NaN</td>\n",
       "    </tr>\n",
       "    <tr>\n",
       "      <th>...</th>\n",
       "      <td>...</td>\n",
       "      <td>...</td>\n",
       "      <td>...</td>\n",
       "      <td>...</td>\n",
       "      <td>...</td>\n",
       "      <td>...</td>\n",
       "      <td>...</td>\n",
       "      <td>...</td>\n",
       "      <td>...</td>\n",
       "      <td>...</td>\n",
       "      <td>...</td>\n",
       "    </tr>\n",
       "    <tr>\n",
       "      <th>10747</th>\n",
       "      <td>3597.44249</td>\n",
       "      <td>217097</td>\n",
       "      <td>468</td>\n",
       "      <td>NaN</td>\n",
       "      <td>NaN</td>\n",
       "      <td>...</td>\n",
       "      <td>NaN</td>\n",
       "      <td>NaN</td>\n",
       "      <td>NaN</td>\n",
       "      <td>NaN</td>\n",
       "      <td>NaN</td>\n",
       "    </tr>\n",
       "    <tr>\n",
       "      <th>10748</th>\n",
       "      <td>3597.47576</td>\n",
       "      <td>217099</td>\n",
       "      <td>468</td>\n",
       "      <td>NaN</td>\n",
       "      <td>NaN</td>\n",
       "      <td>...</td>\n",
       "      <td>NaN</td>\n",
       "      <td>NaN</td>\n",
       "      <td>NaN</td>\n",
       "      <td>NaN</td>\n",
       "      <td>NaN</td>\n",
       "    </tr>\n",
       "    <tr>\n",
       "      <th>10749</th>\n",
       "      <td>3597.49224</td>\n",
       "      <td>217100</td>\n",
       "      <td>468</td>\n",
       "      <td>NaN</td>\n",
       "      <td>NaN</td>\n",
       "      <td>...</td>\n",
       "      <td>NaN</td>\n",
       "      <td>NaN</td>\n",
       "      <td>NaN</td>\n",
       "      <td>NaN</td>\n",
       "      <td>NaN</td>\n",
       "    </tr>\n",
       "    <tr>\n",
       "      <th>10750</th>\n",
       "      <td>3597.50893</td>\n",
       "      <td>217101</td>\n",
       "      <td>468</td>\n",
       "      <td>NaN</td>\n",
       "      <td>NaN</td>\n",
       "      <td>...</td>\n",
       "      <td>NaN</td>\n",
       "      <td>NaN</td>\n",
       "      <td>NaN</td>\n",
       "      <td>NaN</td>\n",
       "      <td>NaN</td>\n",
       "    </tr>\n",
       "    <tr>\n",
       "      <th>10751</th>\n",
       "      <td>3597.52542</td>\n",
       "      <td>217102</td>\n",
       "      <td>468</td>\n",
       "      <td>NaN</td>\n",
       "      <td>NaN</td>\n",
       "      <td>...</td>\n",
       "      <td>NaN</td>\n",
       "      <td>NaN</td>\n",
       "      <td>NaN</td>\n",
       "      <td>NaN</td>\n",
       "      <td>NaN</td>\n",
       "    </tr>\n",
       "  </tbody>\n",
       "</table>\n",
       "<p>497 rows × 11 columns</p>\n",
       "</div>"
      ],
      "text/plain": [
       "            time  point_index  target_index  time_since_target_last_seen  \\\n",
       "10255 2316.60015       139913           450                          NaN   \n",
       "10256 2316.63349       139915           450                          NaN   \n",
       "10257 2316.65003       139916           450                          NaN   \n",
       "10258 2316.66659       139917           450                          NaN   \n",
       "10259 2316.68324       139918           450                          NaN   \n",
       "...          ...          ...           ...                          ...   \n",
       "10747 3597.44249       217097           468                          NaN   \n",
       "10748 3597.47576       217099           468                          NaN   \n",
       "10749 3597.49224       217100           468                          NaN   \n",
       "10750 3597.50893       217101           468                          NaN   \n",
       "10751 3597.52542       217102           468                          NaN   \n",
       "\n",
       "       target_last_seen_distance  ...  target_last_seen_angle_to_boundary  \\\n",
       "10255                        NaN  ...                                 NaN   \n",
       "10256                        NaN  ...                                 NaN   \n",
       "10257                        NaN  ...                                 NaN   \n",
       "10258                        NaN  ...                                 NaN   \n",
       "10259                        NaN  ...                                 NaN   \n",
       "...                          ...  ...                                 ...   \n",
       "10747                        NaN  ...                                 NaN   \n",
       "10748                        NaN  ...                                 NaN   \n",
       "10749                        NaN  ...                                 NaN   \n",
       "10750                        NaN  ...                                 NaN   \n",
       "10751                        NaN  ...                                 NaN   \n",
       "\n",
       "       time_target_last_seen  distance_from_monkey_pos_target_last_seen  \\\n",
       "10255                    NaN                                        NaN   \n",
       "10256                    NaN                                        NaN   \n",
       "10257                    NaN                                        NaN   \n",
       "10258                    NaN                                        NaN   \n",
       "10259                    NaN                                        NaN   \n",
       "...                      ...                                        ...   \n",
       "10747                    NaN                                        NaN   \n",
       "10748                    NaN                                        NaN   \n",
       "10749                    NaN                                        NaN   \n",
       "10750                    NaN                                        NaN   \n",
       "10751                    NaN                                        NaN   \n",
       "\n",
       "       cum_distance_since_target_last_seen  d_heading_since_target_last_seen  \n",
       "10255                                  NaN                               NaN  \n",
       "10256                                  NaN                               NaN  \n",
       "10257                                  NaN                               NaN  \n",
       "10258                                  NaN                               NaN  \n",
       "10259                                  NaN                               NaN  \n",
       "...                                    ...                               ...  \n",
       "10747                                  NaN                               NaN  \n",
       "10748                                  NaN                               NaN  \n",
       "10749                                  NaN                               NaN  \n",
       "10750                                  NaN                               NaN  \n",
       "10751                                  NaN                               NaN  \n",
       "\n",
       "[497 rows x 11 columns]"
      ]
     },
     "execution_count": 59,
     "metadata": {},
     "output_type": "execute_result"
    }
   ],
   "source": [
    "df3 = df2[df2['point_index']>= 139910]\n",
    "df3"
   ]
  },
  {
   "cell_type": "code",
   "execution_count": null,
   "metadata": {},
   "outputs": [],
   "source": [
    "139913"
   ]
  }
 ],
 "metadata": {
  "kernelspec": {
   "display_name": "ff_venv2",
   "language": "python",
   "name": "python3"
  },
  "language_info": {
   "codemirror_mode": {
    "name": "ipython",
    "version": 3
   },
   "file_extension": ".py",
   "mimetype": "text/x-python",
   "name": "python",
   "nbconvert_exporter": "python",
   "pygments_lexer": "ipython3",
   "version": "3.11.11"
  }
 },
 "nbformat": 4,
 "nbformat_minor": 2
}
