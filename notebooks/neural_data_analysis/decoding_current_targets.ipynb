{
 "cells": [
  {
   "cell_type": "markdown",
   "metadata": {},
   "source": [
    "# Import packages"
   ]
  },
  {
   "cell_type": "code",
   "execution_count": 4,
   "metadata": {},
   "outputs": [
    {
     "name": "stdout",
     "output_type": "stream",
     "text": [
      "Collecting git+https://github.com/gallantlab/pyrcca.git (from -r multiff_analysis/requirements.txt (line 20))\n",
      "  Cloning https://github.com/gallantlab/pyrcca.git to /private/var/folders/81/249hbjx960s5t_1dxgdxz6r00000gn/T/pip-req-build-4axpc730\n",
      "  Running command git clone --filter=blob:none --quiet https://github.com/gallantlab/pyrcca.git /private/var/folders/81/249hbjx960s5t_1dxgdxz6r00000gn/T/pip-req-build-4axpc730\n",
      "  Resolved https://github.com/gallantlab/pyrcca.git to commit bc60f25a8e395baf495dd0f7234a68490ed16a22\n",
      "  Preparing metadata (setup.py) ... \u001b[?25ldone\n",
      "\u001b[?25hRequirement already satisfied: numpy in /opt/miniconda3/envs/ff_venv2/lib/python3.11/site-packages (from -r multiff_analysis/requirements.txt (line 1)) (1.26.4)\n",
      "Requirement already satisfied: pandas in /opt/miniconda3/envs/ff_venv2/lib/python3.11/site-packages (from -r multiff_analysis/requirements.txt (line 2)) (2.2.3)\n",
      "Requirement already satisfied: scipy==1.11.4 in /opt/miniconda3/envs/ff_venv2/lib/python3.11/site-packages (from -r multiff_analysis/requirements.txt (line 3)) (1.11.4)\n",
      "Requirement already satisfied: matplotlib in /opt/miniconda3/envs/ff_venv2/lib/python3.11/site-packages (from -r multiff_analysis/requirements.txt (line 4)) (3.10.3)\n",
      "Requirement already satisfied: seaborn in /opt/miniconda3/envs/ff_venv2/lib/python3.11/site-packages (from -r multiff_analysis/requirements.txt (line 5)) (0.13.2)\n",
      "Requirement already satisfied: neo in /opt/miniconda3/envs/ff_venv2/lib/python3.11/site-packages (from -r multiff_analysis/requirements.txt (line 6)) (0.14.1)\n",
      "Requirement already satisfied: quantities in /opt/miniconda3/envs/ff_venv2/lib/python3.11/site-packages (from -r multiff_analysis/requirements.txt (line 7)) (0.16.2)\n",
      "Requirement already satisfied: elephant in /opt/miniconda3/envs/ff_venv2/lib/python3.11/site-packages (from -r multiff_analysis/requirements.txt (line 8)) (1.1.1)\n",
      "Requirement already satisfied: scikit-learn in /opt/miniconda3/envs/ff_venv2/lib/python3.11/site-packages (from -r multiff_analysis/requirements.txt (line 9)) (1.6.1)\n",
      "Requirement already satisfied: statsmodels in /opt/miniconda3/envs/ff_venv2/lib/python3.11/site-packages (from -r multiff_analysis/requirements.txt (line 10)) (0.14.4)\n",
      "Requirement already satisfied: torch in /opt/miniconda3/envs/ff_venv2/lib/python3.11/site-packages (from -r multiff_analysis/requirements.txt (line 11)) (2.7.0)\n",
      "Requirement already satisfied: matplotlib-scalebar in /opt/miniconda3/envs/ff_venv2/lib/python3.11/site-packages (from -r multiff_analysis/requirements.txt (line 12)) (0.9.0)\n",
      "Requirement already satisfied: plotly in /opt/miniconda3/envs/ff_venv2/lib/python3.11/site-packages (from -r multiff_analysis/requirements.txt (line 13)) (6.1.2)\n",
      "Requirement already satisfied: ffmpeg in /opt/miniconda3/envs/ff_venv2/lib/python3.11/site-packages (from -r multiff_analysis/requirements.txt (line 14)) (1.4)\n",
      "Requirement already satisfied: ipython in /opt/miniconda3/envs/ff_venv2/lib/python3.11/site-packages (from -r multiff_analysis/requirements.txt (line 15)) (9.3.0)\n",
      "Requirement already satisfied: debugpy in /opt/miniconda3/envs/ff_venv2/lib/python3.11/site-packages (from -r multiff_analysis/requirements.txt (line 16)) (1.8.14)\n",
      "Requirement already satisfied: colorcet in /opt/miniconda3/envs/ff_venv2/lib/python3.11/site-packages (from -r multiff_analysis/requirements.txt (line 17)) (3.1.0)\n",
      "Requirement already satisfied: dash in /opt/miniconda3/envs/ff_venv2/lib/python3.11/site-packages (from -r multiff_analysis/requirements.txt (line 18)) (3.0.4)\n",
      "Requirement already satisfied: numba in /opt/miniconda3/envs/ff_venv2/lib/python3.11/site-packages (from -r multiff_analysis/requirements.txt (line 19)) (0.61.2)\n",
      "Requirement already satisfied: h5py in /opt/miniconda3/envs/ff_venv2/lib/python3.11/site-packages (from pyrcca==0.2->-r multiff_analysis/requirements.txt (line 20)) (3.13.0)\n",
      "Requirement already satisfied: joblib in /opt/miniconda3/envs/ff_venv2/lib/python3.11/site-packages (from pyrcca==0.2->-r multiff_analysis/requirements.txt (line 20)) (1.5.1)\n",
      "Requirement already satisfied: python-dateutil>=2.8.2 in /opt/miniconda3/envs/ff_venv2/lib/python3.11/site-packages (from pandas->-r multiff_analysis/requirements.txt (line 2)) (2.9.0.post0)\n",
      "Requirement already satisfied: pytz>=2020.1 in /opt/miniconda3/envs/ff_venv2/lib/python3.11/site-packages (from pandas->-r multiff_analysis/requirements.txt (line 2)) (2025.2)\n",
      "Requirement already satisfied: tzdata>=2022.7 in /opt/miniconda3/envs/ff_venv2/lib/python3.11/site-packages (from pandas->-r multiff_analysis/requirements.txt (line 2)) (2025.2)\n",
      "Requirement already satisfied: contourpy>=1.0.1 in /opt/miniconda3/envs/ff_venv2/lib/python3.11/site-packages (from matplotlib->-r multiff_analysis/requirements.txt (line 4)) (1.3.2)\n",
      "Requirement already satisfied: cycler>=0.10 in /opt/miniconda3/envs/ff_venv2/lib/python3.11/site-packages (from matplotlib->-r multiff_analysis/requirements.txt (line 4)) (0.12.1)\n",
      "Requirement already satisfied: fonttools>=4.22.0 in /opt/miniconda3/envs/ff_venv2/lib/python3.11/site-packages (from matplotlib->-r multiff_analysis/requirements.txt (line 4)) (4.58.1)\n",
      "Requirement already satisfied: kiwisolver>=1.3.1 in /opt/miniconda3/envs/ff_venv2/lib/python3.11/site-packages (from matplotlib->-r multiff_analysis/requirements.txt (line 4)) (1.4.8)\n",
      "Requirement already satisfied: packaging>=20.0 in /opt/miniconda3/envs/ff_venv2/lib/python3.11/site-packages (from matplotlib->-r multiff_analysis/requirements.txt (line 4)) (25.0)\n",
      "Requirement already satisfied: pillow>=8 in /opt/miniconda3/envs/ff_venv2/lib/python3.11/site-packages (from matplotlib->-r multiff_analysis/requirements.txt (line 4)) (11.2.1)\n",
      "Requirement already satisfied: pyparsing>=2.3.1 in /opt/miniconda3/envs/ff_venv2/lib/python3.11/site-packages (from matplotlib->-r multiff_analysis/requirements.txt (line 4)) (3.2.3)\n",
      "Requirement already satisfied: six>=1.10.0 in /opt/miniconda3/envs/ff_venv2/lib/python3.11/site-packages (from elephant->-r multiff_analysis/requirements.txt (line 8)) (1.17.0)\n",
      "Requirement already satisfied: tqdm in /opt/miniconda3/envs/ff_venv2/lib/python3.11/site-packages (from elephant->-r multiff_analysis/requirements.txt (line 8)) (4.67.1)\n",
      "Requirement already satisfied: threadpoolctl>=3.1.0 in /opt/miniconda3/envs/ff_venv2/lib/python3.11/site-packages (from scikit-learn->-r multiff_analysis/requirements.txt (line 9)) (3.6.0)\n",
      "Requirement already satisfied: patsy>=0.5.6 in /opt/miniconda3/envs/ff_venv2/lib/python3.11/site-packages (from statsmodels->-r multiff_analysis/requirements.txt (line 10)) (1.0.1)\n",
      "Requirement already satisfied: filelock in /opt/miniconda3/envs/ff_venv2/lib/python3.11/site-packages (from torch->-r multiff_analysis/requirements.txt (line 11)) (3.18.0)\n",
      "Requirement already satisfied: typing-extensions>=4.10.0 in /opt/miniconda3/envs/ff_venv2/lib/python3.11/site-packages (from torch->-r multiff_analysis/requirements.txt (line 11)) (4.13.2)\n",
      "Requirement already satisfied: sympy>=1.13.3 in /opt/miniconda3/envs/ff_venv2/lib/python3.11/site-packages (from torch->-r multiff_analysis/requirements.txt (line 11)) (1.14.0)\n",
      "Requirement already satisfied: networkx in /opt/miniconda3/envs/ff_venv2/lib/python3.11/site-packages (from torch->-r multiff_analysis/requirements.txt (line 11)) (3.5)\n",
      "Requirement already satisfied: jinja2 in /opt/miniconda3/envs/ff_venv2/lib/python3.11/site-packages (from torch->-r multiff_analysis/requirements.txt (line 11)) (3.1.6)\n",
      "Requirement already satisfied: fsspec in /opt/miniconda3/envs/ff_venv2/lib/python3.11/site-packages (from torch->-r multiff_analysis/requirements.txt (line 11)) (2025.5.1)\n",
      "Requirement already satisfied: narwhals>=1.15.1 in /opt/miniconda3/envs/ff_venv2/lib/python3.11/site-packages (from plotly->-r multiff_analysis/requirements.txt (line 13)) (1.41.0)\n",
      "Requirement already satisfied: decorator in /opt/miniconda3/envs/ff_venv2/lib/python3.11/site-packages (from ipython->-r multiff_analysis/requirements.txt (line 15)) (5.2.1)\n",
      "Requirement already satisfied: ipython-pygments-lexers in /opt/miniconda3/envs/ff_venv2/lib/python3.11/site-packages (from ipython->-r multiff_analysis/requirements.txt (line 15)) (1.1.1)\n",
      "Requirement already satisfied: jedi>=0.16 in /opt/miniconda3/envs/ff_venv2/lib/python3.11/site-packages (from ipython->-r multiff_analysis/requirements.txt (line 15)) (0.19.2)\n",
      "Requirement already satisfied: matplotlib-inline in /opt/miniconda3/envs/ff_venv2/lib/python3.11/site-packages (from ipython->-r multiff_analysis/requirements.txt (line 15)) (0.1.7)\n",
      "Requirement already satisfied: pexpect>4.3 in /opt/miniconda3/envs/ff_venv2/lib/python3.11/site-packages (from ipython->-r multiff_analysis/requirements.txt (line 15)) (4.9.0)\n",
      "Requirement already satisfied: prompt_toolkit<3.1.0,>=3.0.41 in /opt/miniconda3/envs/ff_venv2/lib/python3.11/site-packages (from ipython->-r multiff_analysis/requirements.txt (line 15)) (3.0.51)\n",
      "Requirement already satisfied: pygments>=2.4.0 in /opt/miniconda3/envs/ff_venv2/lib/python3.11/site-packages (from ipython->-r multiff_analysis/requirements.txt (line 15)) (2.19.1)\n",
      "Requirement already satisfied: stack_data in /opt/miniconda3/envs/ff_venv2/lib/python3.11/site-packages (from ipython->-r multiff_analysis/requirements.txt (line 15)) (0.6.3)\n",
      "Requirement already satisfied: traitlets>=5.13.0 in /opt/miniconda3/envs/ff_venv2/lib/python3.11/site-packages (from ipython->-r multiff_analysis/requirements.txt (line 15)) (5.14.3)\n",
      "Requirement already satisfied: wcwidth in /opt/miniconda3/envs/ff_venv2/lib/python3.11/site-packages (from prompt_toolkit<3.1.0,>=3.0.41->ipython->-r multiff_analysis/requirements.txt (line 15)) (0.2.13)\n",
      "Requirement already satisfied: Flask<3.1,>=1.0.4 in /opt/miniconda3/envs/ff_venv2/lib/python3.11/site-packages (from dash->-r multiff_analysis/requirements.txt (line 18)) (3.0.3)\n",
      "Requirement already satisfied: Werkzeug<3.1 in /opt/miniconda3/envs/ff_venv2/lib/python3.11/site-packages (from dash->-r multiff_analysis/requirements.txt (line 18)) (3.0.6)\n",
      "Requirement already satisfied: importlib-metadata in /opt/miniconda3/envs/ff_venv2/lib/python3.11/site-packages (from dash->-r multiff_analysis/requirements.txt (line 18)) (8.7.0)\n",
      "Requirement already satisfied: requests in /opt/miniconda3/envs/ff_venv2/lib/python3.11/site-packages (from dash->-r multiff_analysis/requirements.txt (line 18)) (2.32.3)\n",
      "Requirement already satisfied: retrying in /opt/miniconda3/envs/ff_venv2/lib/python3.11/site-packages (from dash->-r multiff_analysis/requirements.txt (line 18)) (1.3.4)\n",
      "Requirement already satisfied: nest-asyncio in /opt/miniconda3/envs/ff_venv2/lib/python3.11/site-packages (from dash->-r multiff_analysis/requirements.txt (line 18)) (1.6.0)\n",
      "Requirement already satisfied: setuptools in /opt/miniconda3/envs/ff_venv2/lib/python3.11/site-packages (from dash->-r multiff_analysis/requirements.txt (line 18)) (78.1.1)\n",
      "Requirement already satisfied: itsdangerous>=2.1.2 in /opt/miniconda3/envs/ff_venv2/lib/python3.11/site-packages (from Flask<3.1,>=1.0.4->dash->-r multiff_analysis/requirements.txt (line 18)) (2.2.0)\n",
      "Requirement already satisfied: click>=8.1.3 in /opt/miniconda3/envs/ff_venv2/lib/python3.11/site-packages (from Flask<3.1,>=1.0.4->dash->-r multiff_analysis/requirements.txt (line 18)) (8.2.1)\n",
      "Requirement already satisfied: blinker>=1.6.2 in /opt/miniconda3/envs/ff_venv2/lib/python3.11/site-packages (from Flask<3.1,>=1.0.4->dash->-r multiff_analysis/requirements.txt (line 18)) (1.9.0)\n",
      "Requirement already satisfied: MarkupSafe>=2.1.1 in /opt/miniconda3/envs/ff_venv2/lib/python3.11/site-packages (from Werkzeug<3.1->dash->-r multiff_analysis/requirements.txt (line 18)) (3.0.2)\n",
      "Requirement already satisfied: llvmlite<0.45,>=0.44.0dev0 in /opt/miniconda3/envs/ff_venv2/lib/python3.11/site-packages (from numba->-r multiff_analysis/requirements.txt (line 19)) (0.44.0)\n",
      "Requirement already satisfied: parso<0.9.0,>=0.8.4 in /opt/miniconda3/envs/ff_venv2/lib/python3.11/site-packages (from jedi>=0.16->ipython->-r multiff_analysis/requirements.txt (line 15)) (0.8.4)\n",
      "Requirement already satisfied: ptyprocess>=0.5 in /opt/miniconda3/envs/ff_venv2/lib/python3.11/site-packages (from pexpect>4.3->ipython->-r multiff_analysis/requirements.txt (line 15)) (0.7.0)\n",
      "Requirement already satisfied: mpmath<1.4,>=1.1.0 in /opt/miniconda3/envs/ff_venv2/lib/python3.11/site-packages (from sympy>=1.13.3->torch->-r multiff_analysis/requirements.txt (line 11)) (1.3.0)\n",
      "Requirement already satisfied: zipp>=3.20 in /opt/miniconda3/envs/ff_venv2/lib/python3.11/site-packages (from importlib-metadata->dash->-r multiff_analysis/requirements.txt (line 18)) (3.22.0)\n",
      "Requirement already satisfied: charset-normalizer<4,>=2 in /opt/miniconda3/envs/ff_venv2/lib/python3.11/site-packages (from requests->dash->-r multiff_analysis/requirements.txt (line 18)) (3.4.2)\n",
      "Requirement already satisfied: idna<4,>=2.5 in /opt/miniconda3/envs/ff_venv2/lib/python3.11/site-packages (from requests->dash->-r multiff_analysis/requirements.txt (line 18)) (3.10)\n",
      "Requirement already satisfied: urllib3<3,>=1.21.1 in /opt/miniconda3/envs/ff_venv2/lib/python3.11/site-packages (from requests->dash->-r multiff_analysis/requirements.txt (line 18)) (2.4.0)\n",
      "Requirement already satisfied: certifi>=2017.4.17 in /opt/miniconda3/envs/ff_venv2/lib/python3.11/site-packages (from requests->dash->-r multiff_analysis/requirements.txt (line 18)) (2025.4.26)\n",
      "Requirement already satisfied: executing>=1.2.0 in /opt/miniconda3/envs/ff_venv2/lib/python3.11/site-packages (from stack_data->ipython->-r multiff_analysis/requirements.txt (line 15)) (2.2.0)\n",
      "Requirement already satisfied: asttokens>=2.1.0 in /opt/miniconda3/envs/ff_venv2/lib/python3.11/site-packages (from stack_data->ipython->-r multiff_analysis/requirements.txt (line 15)) (3.0.0)\n",
      "Requirement already satisfied: pure-eval in /opt/miniconda3/envs/ff_venv2/lib/python3.11/site-packages (from stack_data->ipython->-r multiff_analysis/requirements.txt (line 15)) (0.2.3)\n"
     ]
    }
   ],
   "source": [
    "!pip install -r multiff_analysis/requirements.txt"
   ]
  },
  {
   "cell_type": "code",
   "execution_count": 6,
   "metadata": {},
   "outputs": [
    {
     "name": "stdout",
     "output_type": "stream",
     "text": [
      "Collecting pygam\n",
      "  Downloading pygam-0.9.1-py3-none-any.whl.metadata (7.1 kB)\n",
      "Requirement already satisfied: numpy>=1.25 in /opt/miniconda3/envs/ff_venv2/lib/python3.11/site-packages (from pygam) (1.26.4)\n",
      "Collecting progressbar2<5.0.0,>=4.2.0 (from pygam)\n",
      "  Downloading progressbar2-4.5.0-py3-none-any.whl.metadata (16 kB)\n",
      "Requirement already satisfied: scipy<1.12,>=1.11.1 in /opt/miniconda3/envs/ff_venv2/lib/python3.11/site-packages (from pygam) (1.11.4)\n",
      "Collecting python-utils>=3.8.1 (from progressbar2<5.0.0,>=4.2.0->pygam)\n",
      "  Downloading python_utils-3.9.1-py2.py3-none-any.whl.metadata (9.8 kB)\n",
      "Requirement already satisfied: typing_extensions>3.10.0.2 in /opt/miniconda3/envs/ff_venv2/lib/python3.11/site-packages (from python-utils>=3.8.1->progressbar2<5.0.0,>=4.2.0->pygam) (4.13.2)\n",
      "Downloading pygam-0.9.1-py3-none-any.whl (522 kB)\n",
      "Downloading progressbar2-4.5.0-py3-none-any.whl (57 kB)\n",
      "Downloading python_utils-3.9.1-py2.py3-none-any.whl (32 kB)\n",
      "Installing collected packages: python-utils, progressbar2, pygam\n",
      "\u001b[2K   \u001b[90m━━━━━━━━━━━━━━━━━━━━━━━━━━━━━━━━━━━━━━━━\u001b[0m \u001b[32m3/3\u001b[0m [pygam]\n",
      "\u001b[1A\u001b[2KSuccessfully installed progressbar2-4.5.0 pygam-0.9.1 python-utils-3.9.1\n"
     ]
    }
   ],
   "source": [
    "!pip install pygam"
   ]
  },
  {
   "cell_type": "code",
   "execution_count": 1,
   "metadata": {},
   "outputs": [
    {
     "ename": "RuntimeError",
     "evalue": "The new DType API is currently in an exploratory phase and should NOT be used for production code.  Expect modifications and crashes!  To experiment with the new API you must set `NUMPY_EXPERIMENTAL_DTYPE_API=1` as an environment variable.",
     "output_type": "error",
     "traceback": [
      "\u001b[31m---------------------------------------------------------------------------\u001b[39m",
      "\u001b[31mRuntimeError\u001b[39m                              Traceback (most recent call last)",
      "\u001b[31mRuntimeError\u001b[39m: The new DType API is currently in an exploratory phase and should NOT be used for production code.  Expect modifications and crashes!  To experiment with the new API you must set `NUMPY_EXPERIMENTAL_DTYPE_API=1` as an environment variable."
     ]
    },
    {
     "ename": "RuntimeError",
     "evalue": "cannot load _umath_tests module.",
     "output_type": "error",
     "traceback": [
      "\u001b[31m---------------------------------------------------------------------------\u001b[39m",
      "\u001b[31mRuntimeError\u001b[39m                              Traceback (most recent call last)",
      "\u001b[36mCell\u001b[39m\u001b[36m \u001b[39m\u001b[32mIn[1]\u001b[39m\u001b[32m, line 16\u001b[39m\n\u001b[32m     14\u001b[39m \u001b[38;5;28;01mfrom\u001b[39;00m\u001b[38;5;250m \u001b[39m\u001b[34;01mnon_behavioral_analysis\u001b[39;00m\u001b[34;01m.\u001b[39;00m\u001b[34;01mneural_data_analysis\u001b[39;00m\u001b[34;01m.\u001b[39;00m\u001b[34;01mget_neural_data\u001b[39;00m\u001b[38;5;250m \u001b[39m\u001b[38;5;28;01mimport\u001b[39;00m neural_data_processing\n\u001b[32m     15\u001b[39m \u001b[38;5;28;01mfrom\u001b[39;00m\u001b[38;5;250m \u001b[39m\u001b[34;01mnon_behavioral_analysis\u001b[39;00m\u001b[34;01m.\u001b[39;00m\u001b[34;01mneural_data_analysis\u001b[39;00m\u001b[34;01m.\u001b[39;00m\u001b[34;01mvisualize_neural_data\u001b[39;00m\u001b[38;5;250m \u001b[39m\u001b[38;5;28;01mimport\u001b[39;00m plot_neural_data, plot_modeling_result\n\u001b[32m---> \u001b[39m\u001b[32m16\u001b[39m \u001b[38;5;28;01mfrom\u001b[39;00m\u001b[38;5;250m \u001b[39m\u001b[34;01mnon_behavioral_analysis\u001b[39;00m\u001b[34;01m.\u001b[39;00m\u001b[34;01mneural_data_analysis\u001b[39;00m\u001b[34;01m.\u001b[39;00m\u001b[34;01mmodel_neural_data\u001b[39;00m\u001b[38;5;250m \u001b[39m\u001b[38;5;28;01mimport\u001b[39;00m cca_class, pgam_class, neural_data_modeling, drop_high_corr_vars, drop_high_vif_vars\n\u001b[32m     17\u001b[39m \u001b[38;5;28;01mfrom\u001b[39;00m\u001b[38;5;250m \u001b[39m\u001b[34;01mnon_behavioral_analysis\u001b[39;00m\u001b[34;01m.\u001b[39;00m\u001b[34;01mneural_data_analysis\u001b[39;00m\u001b[34;01m.\u001b[39;00m\u001b[34;01mneural_vs_behavioral\u001b[39;00m\u001b[38;5;250m \u001b[39m\u001b[38;5;28;01mimport\u001b[39;00m prep_monkey_data, prep_target_data, neural_vs_behavioral_class\n\u001b[32m     18\u001b[39m \u001b[38;5;28;01mfrom\u001b[39;00m\u001b[38;5;250m \u001b[39m\u001b[34;01mnon_behavioral_analysis\u001b[39;00m\u001b[34;01m.\u001b[39;00m\u001b[34;01mneural_data_analysis\u001b[39;00m\u001b[34;01m.\u001b[39;00m\u001b[34;01mplanning_neural\u001b[39;00m\u001b[38;5;250m \u001b[39m\u001b[38;5;28;01mimport\u001b[39;00m planning_neural_class, planning_neural_utils\n",
      "\u001b[36mFile \u001b[39m\u001b[32m~/Documents/Multifirefly-Project/multiff_analysis/methods/non_behavioral_analysis/neural_data_analysis/model_neural_data/pgam_class.py:31\u001b[39m\n\u001b[32m     28\u001b[39m \u001b[38;5;28;01mif\u001b[39;00m \u001b[38;5;129;01mnot\u001b[39;00m \u001b[33m'\u001b[39m\u001b[33m/Users/dusiyi/Documents/Multifirefly-Project/PGAM/src/PGAM\u001b[39m\u001b[33m'\u001b[39m \u001b[38;5;129;01min\u001b[39;00m sys.path:\n\u001b[32m     29\u001b[39m     sys.path.append(\n\u001b[32m     30\u001b[39m         \u001b[33m'\u001b[39m\u001b[33m/Users/dusiyi/Documents/Multifirefly-Project/PGAM/src/PGAM\u001b[39m\u001b[33m'\u001b[39m)\n\u001b[32m---> \u001b[39m\u001b[32m31\u001b[39m \u001b[38;5;28;01mfrom\u001b[39;00m\u001b[38;5;250m \u001b[39m\u001b[34;01mGAM_library\u001b[39;00m\u001b[38;5;250m \u001b[39m\u001b[38;5;28;01mimport\u001b[39;00m *\n\u001b[32m     32\u001b[39m \u001b[38;5;28;01mimport\u001b[39;00m\u001b[38;5;250m \u001b[39m\u001b[34;01mgam_data_handlers\u001b[39;00m\u001b[38;5;250m \u001b[39m\u001b[38;5;28;01mas\u001b[39;00m\u001b[38;5;250m \u001b[39m\u001b[34;01mgdh\u001b[39;00m\n\u001b[32m     33\u001b[39m \u001b[38;5;28;01mfrom\u001b[39;00m\u001b[38;5;250m \u001b[39m\u001b[34;01mpost_processing\u001b[39;00m\u001b[38;5;250m \u001b[39m\u001b[38;5;28;01mimport\u001b[39;00m postprocess_results\n",
      "\u001b[36mFile \u001b[39m\u001b[32m~/Documents/Multifirefly-Project/PGAM/src/PGAM/GAM_library.py:21\u001b[39m\n\u001b[32m     19\u001b[39m \u001b[38;5;28;01mfrom\u001b[39;00m\u001b[38;5;250m \u001b[39m\u001b[34;01mscipy\u001b[39;00m\u001b[34;01m.\u001b[39;00m\u001b[34;01moptimize\u001b[39;00m\u001b[38;5;250m \u001b[39m\u001b[38;5;28;01mimport\u001b[39;00m minimize\n\u001b[32m     20\u001b[39m \u001b[38;5;28;01mfrom\u001b[39;00m\u001b[38;5;250m \u001b[39m\u001b[34;01mnewton_optim\u001b[39;00m\u001b[38;5;250m \u001b[39m\u001b[38;5;28;01mimport\u001b[39;00m *\n\u001b[32m---> \u001b[39m\u001b[32m21\u001b[39m \u001b[38;5;28;01mfrom\u001b[39;00m\u001b[38;5;250m \u001b[39m\u001b[34;01mder_wrt_smoothing\u001b[39;00m\u001b[38;5;250m \u001b[39m\u001b[38;5;28;01mimport\u001b[39;00m *\n\u001b[32m     22\u001b[39m \u001b[38;5;28;01mimport\u001b[39;00m\u001b[38;5;250m \u001b[39m\u001b[34;01mscipy\u001b[39;00m\u001b[34;01m.\u001b[39;00m\u001b[34;01mstats\u001b[39;00m\u001b[38;5;250m \u001b[39m\u001b[38;5;28;01mas\u001b[39;00m\u001b[38;5;250m \u001b[39m\u001b[34;01msts\u001b[39;00m\n\u001b[32m     24\u001b[39m \u001b[38;5;28;01mfrom\u001b[39;00m\u001b[38;5;250m \u001b[39m\u001b[34;01mtime\u001b[39;00m\u001b[38;5;250m \u001b[39m\u001b[38;5;28;01mimport\u001b[39;00m perf_counter\n",
      "\u001b[36mFile \u001b[39m\u001b[32m~/Documents/Multifirefly-Project/PGAM/src/PGAM/der_wrt_smoothing.py:16\u001b[39m\n\u001b[32m     14\u001b[39m \u001b[38;5;28;01mfrom\u001b[39;00m\u001b[38;5;250m \u001b[39m\u001b[34;01mscipy\u001b[39;00m\u001b[34;01m.\u001b[39;00m\u001b[34;01moptimize\u001b[39;00m\u001b[38;5;250m \u001b[39m\u001b[38;5;28;01mimport\u001b[39;00m minimize\n\u001b[32m     15\u001b[39m \u001b[38;5;28;01mfrom\u001b[39;00m\u001b[38;5;250m \u001b[39m\u001b[34;01mtime\u001b[39;00m\u001b[38;5;250m \u001b[39m\u001b[38;5;28;01mimport\u001b[39;00m perf_counter\n\u001b[32m---> \u001b[39m\u001b[32m16\u001b[39m \u001b[38;5;28;01mfrom\u001b[39;00m\u001b[38;5;250m \u001b[39m\u001b[34;01mderiv_det_Slam\u001b[39;00m\u001b[38;5;250m \u001b[39m\u001b[38;5;28;01mimport\u001b[39;00m *\n\u001b[32m     17\u001b[39m \u001b[38;5;28;01mfrom\u001b[39;00m\u001b[38;5;250m \u001b[39m\u001b[34;01mnewton_optim\u001b[39;00m\u001b[38;5;250m \u001b[39m\u001b[38;5;28;01mimport\u001b[39;00m *\n\u001b[32m     18\u001b[39m \u001b[38;5;28;01mfrom\u001b[39;00m\u001b[38;5;250m \u001b[39m\u001b[34;01mnumpy\u001b[39;00m\u001b[34;01m.\u001b[39;00m\u001b[34;01mcore\u001b[39;00m\u001b[34;01m.\u001b[39;00m\u001b[34;01mumath_tests\u001b[39;00m\u001b[38;5;250m \u001b[39m\u001b[38;5;28;01mimport\u001b[39;00m inner1d\n",
      "\u001b[36mFile \u001b[39m\u001b[32m~/Documents/Multifirefly-Project/PGAM/src/PGAM/deriv_det_Slam.py:5\u001b[39m\n\u001b[32m      3\u001b[39m \u001b[38;5;28;01mfrom\u001b[39;00m\u001b[38;5;250m \u001b[39m\u001b[34;01mgam_data_handlers\u001b[39;00m\u001b[38;5;250m \u001b[39m\u001b[38;5;28;01mimport\u001b[39;00m *\n\u001b[32m      4\u001b[39m \u001b[38;5;28;01mimport\u001b[39;00m\u001b[38;5;250m \u001b[39m\u001b[34;01mscipy\u001b[39;00m\u001b[34;01m.\u001b[39;00m\u001b[34;01mstats\u001b[39;00m\u001b[38;5;250m \u001b[39m\u001b[38;5;28;01mas\u001b[39;00m\u001b[38;5;250m \u001b[39m\u001b[34;01msts\u001b[39;00m\n\u001b[32m----> \u001b[39m\u001b[32m5\u001b[39m \u001b[38;5;28;01mfrom\u001b[39;00m\u001b[38;5;250m \u001b[39m\u001b[34;01mnumpy\u001b[39;00m\u001b[34;01m.\u001b[39;00m\u001b[34;01mcore\u001b[39;00m\u001b[34;01m.\u001b[39;00m\u001b[34;01mumath_tests\u001b[39;00m\u001b[38;5;250m \u001b[39m\u001b[38;5;28;01mimport\u001b[39;00m inner1d\n\u001b[32m      7\u001b[39m \u001b[38;5;28;01mdef\u001b[39;00m\u001b[38;5;250m \u001b[39m\u001b[34msymmetrize_tensor\u001b[39m(S_tens):\n\u001b[32m      8\u001b[39m     new_tens = np.zeros(S_tens.shape)\n",
      "\u001b[36mFile \u001b[39m\u001b[32m/opt/miniconda3/envs/ff_venv2/lib/python3.11/site-packages/numpy/core/umath_tests.py:13\u001b[39m\n\u001b[32m      7\u001b[39m \u001b[38;5;66;03m# 2018-04-04, numpy 1.15.0\u001b[39;00m\n\u001b[32m      8\u001b[39m warnings.warn((\u001b[33m\"\u001b[39m\u001b[33mnumpy.core.umath_tests is an internal NumPy \u001b[39m\u001b[33m\"\u001b[39m\n\u001b[32m      9\u001b[39m                \u001b[33m\"\u001b[39m\u001b[33mmodule and should not be imported. It will \u001b[39m\u001b[33m\"\u001b[39m\n\u001b[32m     10\u001b[39m                \u001b[33m\"\u001b[39m\u001b[33mbe removed in a future NumPy release.\u001b[39m\u001b[33m\"\u001b[39m),\n\u001b[32m     11\u001b[39m               category=\u001b[38;5;167;01mDeprecationWarning\u001b[39;00m, stacklevel=\u001b[32m2\u001b[39m)\n\u001b[32m---> \u001b[39m\u001b[32m13\u001b[39m \u001b[38;5;28;01mfrom\u001b[39;00m\u001b[38;5;250m \u001b[39m\u001b[34;01m.\u001b[39;00m\u001b[34;01m_umath_tests\u001b[39;00m\u001b[38;5;250m \u001b[39m\u001b[38;5;28;01mimport\u001b[39;00m *\n",
      "\u001b[31mRuntimeError\u001b[39m: cannot load _umath_tests module."
     ]
    }
   ],
   "source": [
    "%load_ext autoreload\n",
    "%autoreload 2\n",
    "\n",
    "import os\n",
    "import sys\n",
    "\n",
    "project_folder = '/Users/dusiyi/Documents/Multifirefly-Project'\n",
    "os.chdir(project_folder)\n",
    "sys.path.append(os.path.join(project_folder, 'multiff_analysis', 'methods'))\n",
    "\n",
    "from data_wrangling import specific_utils, process_monkey_information\n",
    "from pattern_discovery import pattern_by_trials, pattern_by_trials, cluster_analysis, organize_patterns_and_features\n",
    "from visualization.matplotlib_tools import plot_behaviors_utils\n",
    "from non_behavioral_analysis.neural_data_analysis.get_neural_data import neural_data_processing\n",
    "from non_behavioral_analysis.neural_data_analysis.visualize_neural_data import plot_neural_data, plot_modeling_result\n",
    "from non_behavioral_analysis.neural_data_analysis.model_neural_data import cca_class, pgam_class, neural_data_modeling, drop_high_corr_vars, drop_high_vif_vars\n",
    "from non_behavioral_analysis.neural_data_analysis.neural_vs_behavioral import prep_monkey_data, prep_target_data, neural_vs_behavioral_class\n",
    "from non_behavioral_analysis.neural_data_analysis.planning_neural import planning_neural_class, planning_neural_utils\n",
    "from non_behavioral_analysis.neural_data_analysis.decode_targets import behav_features_to_keep, decode_target_class, plot_gpfa_utils, decode_target_utils, fit_gpfa_utils, gpfa_regression_utils\n",
    "\n",
    "import sys\n",
    "import math\n",
    "import gc\n",
    "import subprocess\n",
    "from pathlib import Path\n",
    "from importlib import reload\n",
    "\n",
    "# Third-party imports\n",
    "import numpy as np\n",
    "from numpy import var\n",
    "import pandas as pd\n",
    "import matplotlib\n",
    "import matplotlib.pyplot as plt\n",
    "import seaborn as sns\n",
    "from matplotlib import rc\n",
    "from scipy import linalg, interpolate\n",
    "from scipy.signal import fftconvolve\n",
    "from scipy.io import loadmat\n",
    "from scipy import sparse\n",
    "import torch\n",
    "from numpy import pi\n",
    "\n",
    "# Machine Learning imports\n",
    "from sklearn.metrics import mean_squared_error, r2_score\n",
    "from sklearn.linear_model import LinearRegression, Ridge\n",
    "from sklearn.cross_decomposition import CCA\n",
    "from sklearn.preprocessing import StandardScaler\n",
    "from sklearn.model_selection import train_test_split, GridSearchCV\n",
    "from statsmodels.stats.outliers_influence import variance_inflation_factor\n",
    "from statsmodels.multivariate.cancorr import CanCorr\n",
    "\n",
    "# Neuroscience specific imports\n",
    "import neo\n",
    "import rcca\n",
    "\n",
    "# To fit gpfa\n",
    "import numpy as np\n",
    "from scipy.integrate import odeint\n",
    "import quantities as pq\n",
    "import neo\n",
    "from elephant.spike_train_generation import inhomogeneous_poisson_process\n",
    "from elephant.gpfa import GPFA\n",
    "import matplotlib.pyplot as plt\n",
    "from mpl_toolkits.mplot3d import Axes3D\n",
    "from elephant.gpfa import gpfa_core, gpfa_util\n",
    "\n",
    "plt.rcParams[\"animation.html\"] = \"html5\"\n",
    "os.environ['KMP_DUPLICATE_LIB_OK']='True'\n",
    "rc('animation', html='jshtml')\n",
    "matplotlib.rcParams.update(matplotlib.rcParamsDefault)\n",
    "matplotlib.rcParams['animation.embed_limit'] = 2**128\n",
    "pd.set_option('display.float_format', lambda x: '%.5f' % x)\n",
    "np.set_printoptions(suppress=True)\n",
    "print(\"done\")\n",
    "\n",
    "\n",
    "pd.set_option('display.max_rows', 10)\n",
    "pd.set_option('display.max_columns', 10)\n",
    "\n",
    "\n",
    "%load_ext autoreload\n",
    "%autoreload 2"
   ]
  },
  {
   "cell_type": "markdown",
   "metadata": {},
   "source": [
    "# Get data"
   ]
  },
  {
   "cell_type": "code",
   "execution_count": 2,
   "metadata": {},
   "outputs": [
    {
     "name": "stdout",
     "output_type": "stream",
     "text": [
      "Retrieved monkey_information\n",
      "The number of points that were removed due to delta_position exceeding the ceiling is 0\n",
      "Warning: ff_closest_stop_time_sorted has 1 points out of 470 points that are significantly larger than ff_caught_T_sorted, which is 0.21% of the points. Max value of closest_time - capture time is 0.4813680000000886. They are replaced with the original ff_caught_T in ff_caught_T_new.\n",
      "Warning: ff_closest_stop_time_sorted has 37 points out of 470 points that are outside of the reward boundary, which is 7.87% of the points. They are replaced with the original ff_caught_T in ff_caught_T_new.\n",
      "Note: ff_caught_T_sorted is replaced with ff_caught_T_new\n",
      "Retrieved ff_dataframe from all_monkey_data/processed_data/monkey_Schro/data_0416/ff_dataframe.h5\n"
     ]
    }
   ],
   "source": [
    "raw_data_folder_path = \"all_monkey_data/raw_monkey_data/monkey_Schro/data_0416\"\n",
    "dec = decode_target_class.DecodeTargetClass(raw_data_folder_path=raw_data_folder_path,\n",
    "                                                               bin_width=0.02, window_width=0.05)"
   ]
  },
  {
   "cell_type": "code",
   "execution_count": 3,
   "metadata": {},
   "outputs": [
    {
     "ename": "AttributeError",
     "evalue": "'DecodeTargetClass' object has no attribute 'behav_data'",
     "output_type": "error",
     "traceback": [
      "\u001b[0;31m---------------------------------------------------------------------------\u001b[0m",
      "\u001b[0;31mAttributeError\u001b[0m                            Traceback (most recent call last)",
      "Cell \u001b[0;32mIn[3], line 1\u001b[0m\n\u001b[0;32m----> 1\u001b[0m \u001b[43mdec\u001b[49m\u001b[38;5;241;43m.\u001b[39;49m\u001b[43mbehav_data\u001b[49m\u001b[38;5;241m.\u001b[39mshape\n",
      "\u001b[0;31mAttributeError\u001b[0m: 'DecodeTargetClass' object has no attribute 'behav_data'"
     ]
    }
   ],
   "source": [
    "dec.behav_data.shape"
   ]
  },
  {
   "cell_type": "code",
   "execution_count": null,
   "metadata": {},
   "outputs": [],
   "source": []
  },
  {
   "cell_type": "code",
   "execution_count": null,
   "metadata": {},
   "outputs": [],
   "source": [
    "stop!"
   ]
  },
  {
   "cell_type": "code",
   "execution_count": 4,
   "metadata": {},
   "outputs": [
    {
     "name": "stdout",
     "output_type": "stream",
     "text": [
      "Retrieved target_df\n",
      "Warnings: At least one ff has a lower bound equal to the upper bound. Please check the input.\n",
      "Warning: max_big_angle is 179.999741856538 when ff is to the left. There is a problem here. We will adjust them by making them a little less than 90.\n",
      "Warning: 8415 arc out of 180875 arcs where ff is to the left of the monkey has an angle larger than 90 degrees. The max is 179.999741856538. We will adjust them by making them a little less than 90.\n",
      "Warning: At least one arc end is outside the reward boundary. This is invalid. We will adjust them by making them a little less than pi.\n",
      "Warning: There are columns with NAs:  monkey_x_target_last_seen_frozen             10651\n",
      "monkey_y_target_last_seen_frozen             10651\n",
      "monkey_angle_target_last_seen_frozen         10651\n",
      "cum_distance_target_last_seen_frozen         10651\n",
      "distance_from_monkey_pos_target_last_seen    10651\n",
      "cum_distance_since_target_last_seen          10651\n",
      "d_heading_since_target_last_seen             10651\n",
      "dtype: int64\n",
      "Retrieved target_clust_last_vis_df\n",
      "Percentage of targets not in a visible cluster out of all targets 61.48936170212767\n",
      "10812 rows of 183061 rows (5.9%) of behav_data_all are preserved after taking out chunks between target last-seen time and capture time\n",
      "0 segments (0.0%) out of 289 segments have 0 duration. They are dropped from pursuit data\n",
      "Window width changed from 0.05 to 0.06 to make it odd\n"
     ]
    },
    {
     "data": {
      "text/html": [
       "<div>\n",
       "<style scoped>\n",
       "    .dataframe tbody tr th:only-of-type {\n",
       "        vertical-align: middle;\n",
       "    }\n",
       "\n",
       "    .dataframe tbody tr th {\n",
       "        vertical-align: top;\n",
       "    }\n",
       "\n",
       "    .dataframe thead th {\n",
       "        text-align: right;\n",
       "    }\n",
       "</style>\n",
       "<table border=\"1\" class=\"dataframe\">\n",
       "  <thead>\n",
       "    <tr style=\"text-align: right;\">\n",
       "      <th></th>\n",
       "      <th>bin</th>\n",
       "      <th>point_index</th>\n",
       "      <th>monkey_speed</th>\n",
       "      <th>monkey_angle</th>\n",
       "      <th>monkey_dw</th>\n",
       "      <th>...</th>\n",
       "      <th>gaze_world_x_r</th>\n",
       "      <th>gaze_world_y_r</th>\n",
       "      <th>target_index</th>\n",
       "      <th>target_x</th>\n",
       "      <th>target_y</th>\n",
       "    </tr>\n",
       "  </thead>\n",
       "  <tbody>\n",
       "    <tr>\n",
       "      <th>0</th>\n",
       "      <td>1161</td>\n",
       "      <td>1393.00000</td>\n",
       "      <td>200.00000</td>\n",
       "      <td>2.25388</td>\n",
       "      <td>-0.00006</td>\n",
       "      <td>...</td>\n",
       "      <td>351.83241</td>\n",
       "      <td>364.51694</td>\n",
       "      <td>1</td>\n",
       "      <td>825.24321</td>\n",
       "      <td>302.26639</td>\n",
       "    </tr>\n",
       "    <tr>\n",
       "      <th>1</th>\n",
       "      <td>1162</td>\n",
       "      <td>1394.00000</td>\n",
       "      <td>86.35241</td>\n",
       "      <td>2.25535</td>\n",
       "      <td>0.08863</td>\n",
       "      <td>...</td>\n",
       "      <td>427.21394</td>\n",
       "      <td>321.36366</td>\n",
       "      <td>1</td>\n",
       "      <td>825.24321</td>\n",
       "      <td>302.26639</td>\n",
       "    </tr>\n",
       "    <tr>\n",
       "      <th>2</th>\n",
       "      <td>1163</td>\n",
       "      <td>1395.00000</td>\n",
       "      <td>200.00000</td>\n",
       "      <td>2.25593</td>\n",
       "      <td>0.03467</td>\n",
       "      <td>...</td>\n",
       "      <td>510.20093</td>\n",
       "      <td>278.03411</td>\n",
       "      <td>1</td>\n",
       "      <td>825.24321</td>\n",
       "      <td>302.26639</td>\n",
       "    </tr>\n",
       "  </tbody>\n",
       "</table>\n",
       "<p>3 rows × 61 columns</p>\n",
       "</div>"
      ],
      "text/plain": [
       "    bin  point_index  monkey_speed  monkey_angle  monkey_dw  ...  \\\n",
       "0  1161   1393.00000     200.00000       2.25388   -0.00006  ...   \n",
       "1  1162   1394.00000      86.35241       2.25535    0.08863  ...   \n",
       "2  1163   1395.00000     200.00000       2.25593    0.03467  ...   \n",
       "\n",
       "   gaze_world_x_r  gaze_world_y_r  target_index  target_x  target_y  \n",
       "0       351.83241       364.51694             1 825.24321 302.26639  \n",
       "1       427.21394       321.36366             1 825.24321 302.26639  \n",
       "2       510.20093       278.03411             1 825.24321 302.26639  \n",
       "\n",
       "[3 rows x 61 columns]"
      ]
     },
     "execution_count": 4,
     "metadata": {},
     "output_type": "execute_result"
    }
   ],
   "source": [
    "dec.streamline_making_behav_and_neural_data()\n",
    "dec.get_x_and_y_var()\n",
    "dec.pursuit_data.head(3)"
   ]
  },
  {
   "cell_type": "code",
   "execution_count": 4,
   "metadata": {},
   "outputs": [
    {
     "name": "stdout",
     "output_type": "stream",
     "text": [
      "Number of rows with NA values: 1\n",
      "\n",
      "Columns with NA values:\n",
      "monkey_x_target_last_seen_frozen             1\n",
      "monkey_y_target_last_seen_frozen             1\n",
      "monkey_angle_target_last_seen_frozen         1\n",
      "cum_distance_target_last_seen_frozen         1\n",
      "distance_from_monkey_pos_target_last_seen    1\n",
      "cum_distance_since_target_last_seen          1\n",
      "d_heading_since_target_last_seen             1\n",
      "dtype: int64\n",
      "\n",
      "Sample of rows with NA values:\n",
      "          bin   monkey_x   monkey_y       time  point_index  monkey_angle  \\\n",
      "10347  118192 -690.05548 -687.94037 2363.84340       142767       1.70764   \n",
      "\n",
      "       monkey_speed  monkey_dw      RDz  monkey_y_smr  ...  \\\n",
      "10347       0.00000    0.24516 -4.83786    -687.89526  ...   \n",
      "\n",
      "       target_last_seen_time_abs  distance_from_monkey_pos_target_last_seen  \\\n",
      "10347                 2463.84340                                        NaN   \n",
      "\n",
      "       cum_distance_since_target_last_seen  d_heading_since_target_last_seen  \\\n",
      "10347                                  NaN                               NaN   \n",
      "\n",
      "       traj_curv  target_opt_arc_dheading  segment  seg_start_time  \\\n",
      "10347    0.00182                  0.27322      457      2363.84000   \n",
      "\n",
      "       seg_end_time  seg_duration  \n",
      "10347    2364.70000       0.86000  \n",
      "\n",
      "[1 rows x 91 columns]\n"
     ]
    }
   ],
   "source": [
    "# Show rows with NA values in pursuit_data_all\n",
    "na_rows = dec.pursuit_data_all[dec.pursuit_data_all.isna().any(axis=1)]\n",
    "print(\"Number of rows with NA values:\", len(na_rows))\n",
    "print(\"\\nColumns with NA values:\")\n",
    "print(dec.pursuit_data_all.isna().sum()[dec.pursuit_data_all.isna().sum() > 0])\n",
    "print(\"\\nSample of rows with NA values:\")\n",
    "print(na_rows.head())\n"
   ]
  },
  {
   "cell_type": "markdown",
   "metadata": {},
   "source": [
    "### debug"
   ]
  },
  {
   "cell_type": "code",
   "execution_count": null,
   "metadata": {},
   "outputs": [],
   "source": [
    "dec.y_var_lags['bin_0']"
   ]
  },
  {
   "cell_type": "code",
   "execution_count": null,
   "metadata": {},
   "outputs": [],
   "source": [
    "dec.get_x_and_y_var()"
   ]
  },
  {
   "cell_type": "code",
   "execution_count": null,
   "metadata": {},
   "outputs": [
    {
     "data": {
      "text/plain": [
       "(179947, 946)"
      ]
     },
     "metadata": {},
     "output_type": "display_data"
    }
   ],
   "source": [
    "dec.x_var_lags.shape"
   ]
  },
  {
   "cell_type": "code",
   "execution_count": null,
   "metadata": {},
   "outputs": [
    {
     "data": {
      "text/plain": [
       "(183061, 87)"
      ]
     },
     "metadata": {},
     "output_type": "display_data"
    }
   ],
   "source": [
    "dec.behav_data_all.shape"
   ]
  },
  {
   "cell_type": "code",
   "execution_count": null,
   "metadata": {},
   "outputs": [
    {
     "data": {
      "text/plain": [
       "(179947,)"
      ]
     },
     "metadata": {},
     "output_type": "display_data"
    }
   ],
   "source": [
    "dec.behav_data_all.bin.unique().shape"
   ]
  },
  {
   "cell_type": "code",
   "execution_count": null,
   "metadata": {},
   "outputs": [
    {
     "data": {
      "text/plain": [
       "3"
      ]
     },
     "metadata": {},
     "output_type": "display_data"
    }
   ],
   "source": [
    "import gc\n",
    "gc.collect()"
   ]
  },
  {
   "cell_type": "code",
   "execution_count": null,
   "metadata": {},
   "outputs": [
    {
     "name": "stdout",
     "output_type": "stream",
     "text": [
      "dusiyi           89281   0.9  2.5 1627003552 419888   ??  S    10:21AM   1:24.35 /Applications/Cursor.app/Contents/Frameworks/Cursor Helper (Plugin).app/Contents/MacOS/Cursor Helper (Plugin) /Users/dusiyi/.cursor/extensions/ms-python.vscode-pylance-2024.8.1/dist/server.bundle.js --cancellationReceive=file:84d8ac090c9f34809079fa87a1496ce4ac8c2d2962 --node-ipc --clientProcessId=89098\n",
      "dusiyi           89215   0.0  0.1 411180272  15776   ??  S    10:20AM   0:01.35 /opt/homebrew/Cellar/python@3.10/3.10.16/Frameworks/Python.framework/Versions/3.10/Resources/Python.app/Contents/MacOS/Python /Users/dusiyi/.cursor/extensions/ms-python.isort-2025.0.0/bundled/tool/lsp_server.py\n",
      "dusiyi           89214   0.0  0.1 411197840  13920   ??  S    10:20AM   0:01.30 /opt/homebrew/Cellar/python@3.10/3.10.16/Frameworks/Python.framework/Versions/3.10/Resources/Python.app/Contents/MacOS/Python /Users/dusiyi/.cursor/extensions/ms-python.black-formatter-2025.2.0/bundled/tool/lsp_server.py --stdio\n",
      "dusiyi           89213   0.0  0.1 411046944  13696   ??  S    10:20AM   0:01.18 /opt/homebrew/Cellar/python@3.10/3.10.16/Frameworks/Python.framework/Versions/3.10/Resources/Python.app/Contents/MacOS/Python /Users/dusiyi/.cursor/extensions/ms-python.autopep8-2025.2.0/bundled/tool/lsp_server.py\n",
      "dusiyi           89111   0.0  0.0 411185120    336   ??  S    10:20AM   0:00.21 /Users/dusiyi/.cursor/extensions/ms-python.python-2024.12.3-darwin-arm64/python-env-tools/bin/pet server\n",
      "dusiyi           67769   0.0  0.0 410459232     16   ??  S    Mon10AM   0:00.05 /opt/anaconda3/envs/ff_venv/bin/python -c from multiprocessing.resource_tracker import main;main(88)\n",
      "dusiyi           65299   0.0  0.0 410822832   5088   ??  S    Mon09AM   0:09.22 /opt/anaconda3/envs/ff_venv/bin/python -m ipykernel_launcher --f=/Users/dusiyi/Library/Jupyter/runtime/kernel-v3870054a3961fbf36e89fd595a8dee3fd1a2f4d67.json\n",
      "dusiyi           63610   0.0  0.1 417575184  10784   ??  S    Mon08AM  15:54.30 /opt/anaconda3/envs/ff_venv/bin/python -m ipykernel_launcher --f=/Users/dusiyi/Library/Jupyter/runtime/kernel-v3cee3c0b0e65543cb999639cac248c6a928bd192b.json\n",
      "dusiyi           58625   0.0  0.0 411353264   5200   ??  S    Mon02AM   0:09.83 /opt/anaconda3/envs/ff_venv/bin/python -m ipykernel_launcher --f=/Users/dusiyi/Library/Jupyter/runtime/kernel-v36458f213e77a91155c1a0aa67fc414d8cd3e5eba.json\n",
      "dusiyi           97379   0.0  0.4 411093168  67904   ??  S    12:09AM   0:00.56 /opt/anaconda3/envs/ff_venv/bin/python -m ipykernel_launcher --f=/Users/dusiyi/Library/Jupyter/runtime/kernel-v39d40744b3f80b89a0e0a486497f4e4a1a77a9985.json\n"
     ]
    }
   ],
   "source": [
    "import subprocess\n",
    "result = subprocess.run(['ps', 'aux'], capture_output=True, text=True)\n",
    "python_processes = [line for line in result.stdout.split('\\n') if 'python' in line.lower()]\n",
    "for proc in python_processes:\n",
    "    print(proc)"
   ]
  },
  {
   "cell_type": "code",
   "execution_count": null,
   "metadata": {},
   "outputs": [
    {
     "ename": "",
     "evalue": "",
     "output_type": "error",
     "traceback": [
      "\u001b[1;31mThe Kernel crashed while executing code in the current cell or a previous cell. \n",
      "\u001b[1;31mPlease review the code in the cell(s) to identify a possible cause of the failure. \n",
      "\u001b[1;31mClick <a href='https://aka.ms/vscodeJupyterKernelCrash'>here</a> for more info. \n",
      "\u001b[1;31mView Jupyter <a href='command:jupyter.viewOutput'>log</a> for further details."
     ]
    }
   ],
   "source": [
    "!kill -9 97368"
   ]
  },
  {
   "cell_type": "code",
   "execution_count": null,
   "metadata": {},
   "outputs": [
    {
     "name": "stdout",
     "output_type": "stream",
     "text": [
      "Axes3D\t CCA\t CanCorr\t GPFA\t GridSearchCV\t LinearRegression\t Path\t Ridge\t StandardScaler\t \n",
      "behav_features_to_keep\t builtins\t cca_class\t cluster_analysis\t debugpy\t dec\t decode_target_class\t decode_target_utils\t drop_high_corr_vars\t \n",
      "drop_high_vif_vars\t fftconvolve\t fit_gpfa_utils\t gc\t gpfa_core\t gpfa_regression_utils\t gpfa_util\t inhomogeneous_poisson_process\t interpolate\t \n",
      "ipykernel\t linalg\t loadmat\t math\t matplotlib\t mean_squared_error\t neo\t neural_data_modeling\t neural_data_processing\t \n",
      "neural_vs_behavioral_class\t np\t odeint\t organize_patterns_and_features\t os\t pattern_by_trials\t pd\t pgam_class\t pi\t \n",
      "planning_neural_class\t planning_neural_utils\t plot_behaviors_utils\t plot_gpfa_utils\t plot_modeling_result\t plot_neural_data\t plt\t pq\t prep_monkey_data\t \n",
      "prep_target_data\t proc\t process_monkey_information\t project_folder\t python_processes\t r2_score\t raw_data_folder_path\t rc\t rcca\t \n",
      "reload\t result\t sns\t sparse\t specific_utils\t subprocess\t sys\t torch\t train_test_split\t \n",
      "var\t variance_inflation_factor\t \n",
      "Variable                         Type                 Data/Info\n",
      "---------------------------------------------------------------\n",
      "Axes3D                           type                 <class 'mpl_toolkits.mplot3d.axes3d.Axes3D'>\n",
      "CCA                              ABCMeta              <class 'sklearn.cross_decomposition._pls.CCA'>\n",
      "CanCorr                          type                 <class 'statsmodels.multi<...>variate.cancorr.CanCorr'>\n",
      "GPFA                             type                 <class 'elephant.gpfa.gpfa.GPFA'>\n",
      "GridSearchCV                     ABCMeta              <class 'sklearn.model_sel<...>on._search.GridSearchCV'>\n",
      "LinearRegression                 ABCMeta              <class 'sklearn.linear_mo<...>._base.LinearRegression'>\n",
      "Path                             type                 <class 'pathlib.Path'>\n",
      "Ridge                            ABCMeta              <class 'sklearn.linear_model._ridge.Ridge'>\n",
      "StandardScaler                   type                 <class 'sklearn.preproces<...>ng._data.StandardScaler'>\n",
      "behav_features_to_keep           module               <module 'non_behavioral_a<...>hav_features_to_keep.py'>\n",
      "builtins                         module               <module 'builtins' (built-in)>\n",
      "cca_class                        module               <module 'non_behavioral_a<...>eural_data/cca_class.py'>\n",
      "cluster_analysis                 module               <module 'pattern_discover<...>ery/cluster_analysis.py'>\n",
      "debugpy                          module               <module 'debugpy' from '/<...>ges/debugpy/__init__.py'>\n",
      "dec                              DecodeTargetClass    <non_behavioral_analysis.<...>ss object at 0x10632ebe0>\n",
      "decode_target_class              module               <module 'non_behavioral_a<...>/decode_target_class.py'>\n",
      "decode_target_utils              module               <module 'non_behavioral_a<...>/decode_target_utils.py'>\n",
      "drop_high_corr_vars              module               <module 'non_behavioral_a<...>/drop_high_corr_vars.py'>\n",
      "drop_high_vif_vars               module               <module 'non_behavioral_a<...>a/drop_high_vif_vars.py'>\n",
      "fftconvolve                      function             <function fftconvolve at 0x142077670>\n",
      "fit_gpfa_utils                   module               <module 'non_behavioral_a<...>rgets/fit_gpfa_utils.py'>\n",
      "gc                               module               <module 'gc' (built-in)>\n",
      "gpfa_core                        module               <module 'elephant.gpfa.gp<...>phant/gpfa/gpfa_core.py'>\n",
      "gpfa_regression_utils            module               <module 'non_behavioral_a<...>pfa_regression_utils.py'>\n",
      "gpfa_util                        module               <module 'elephant.gpfa.gp<...>phant/gpfa/gpfa_util.py'>\n",
      "inhomogeneous_poisson_process    function             <function inhomogeneous_p<...>n_process at 0x309a813a0>\n",
      "interpolate                      module               <module 'scipy.interpolat<...>interpolate/__init__.py'>\n",
      "ipykernel                        module               <module 'ipykernel' from <...>s/ipykernel/__init__.py'>\n",
      "linalg                           module               <module 'scipy.linalg' fr<...>cipy/linalg/__init__.py'>\n",
      "loadmat                          function             <function loadmat at 0x309026d30>\n",
      "math                             module               <module 'math' from '/opt<...>th.cpython-39-darwin.so'>\n",
      "matplotlib                       module               <module 'matplotlib' from<...>/matplotlib/__init__.py'>\n",
      "mean_squared_error               function             <function mean_squared_error at 0x3012e7670>\n",
      "neo                              module               <module 'neo' from '/opt/<...>ackages/neo/__init__.py'>\n",
      "neural_data_modeling             module               <module 'non_behavioral_a<...>neural_data_modeling.py'>\n",
      "neural_data_processing           module               <module 'non_behavioral_a<...>ural_data_processing.py'>\n",
      "neural_vs_behavioral_class       module               <module 'non_behavioral_a<...>_vs_behavioral_class.py'>\n",
      "np                               module               <module 'numpy' from '/op<...>kages/numpy/__init__.py'>\n",
      "odeint                           function             <function odeint at 0x132dcc5e0>\n",
      "organize_patterns_and_features   module               <module 'pattern_discover<...>atterns_and_features.py'>\n",
      "os                               module               <module 'os' from '/opt/a<...>env/lib/python3.9/os.py'>\n",
      "pattern_by_trials                module               <module 'pattern_discover<...>ry/pattern_by_trials.py'>\n",
      "pd                               module               <module 'pandas' from '/o<...>ages/pandas/__init__.py'>\n",
      "pgam_class                       module               <module 'non_behavioral_a<...>ural_data/pgam_class.py'>\n",
      "pi                               float                3.141592653589793\n",
      "planning_neural_class            module               <module 'non_behavioral_a<...>lanning_neural_class.py'>\n",
      "planning_neural_utils            module               <module 'non_behavioral_a<...>lanning_neural_utils.py'>\n",
      "plot_behaviors_utils             module               <module 'visualization.ma<...>plot_behaviors_utils.py'>\n",
      "plot_gpfa_utils                  module               <module 'non_behavioral_a<...>gets/plot_gpfa_utils.py'>\n",
      "plot_modeling_result             module               <module 'non_behavioral_a<...>plot_modeling_result.py'>\n",
      "plot_neural_data                 module               <module 'non_behavioral_a<...>ata/plot_neural_data.py'>\n",
      "plt                              module               <module 'matplotlib.pyplo<...>es/matplotlib/pyplot.py'>\n",
      "pq                               module               <module 'quantities' from<...>/quantities/__init__.py'>\n",
      "prep_monkey_data                 module               <module 'non_behavioral_a<...>ral/prep_monkey_data.py'>\n",
      "prep_target_data                 module               <module 'non_behavioral_a<...>ral/prep_target_data.py'>\n",
      "proc                             str                  dusiyi           58625   <...>0aa67fc414d8cd3e5eba.json\n",
      "process_monkey_information       module               <module 'data_wrangling.p<...>s_monkey_information.py'>\n",
      "project_folder                   str                  /Users/dusiyi/Documents/Multifirefly-Project\n",
      "python_processes                 list                 n=11\n",
      "r2_score                         function             <function r2_score at 0x3012e7dc0>\n",
      "raw_data_folder_path             str                  all_monkey_data/raw_monke<...>ta/monkey_Schro/data_0416\n",
      "rc                               function             <function rc at 0x1105c3ee0>\n",
      "rcca                             module               <module 'rcca' from '/opt<...>ckages/rcca/__init__.py'>\n",
      "reload                           function             <function reload at 0x1032db310>\n",
      "result                           CompletedProcess     CompletedProcess(args=['p<...>m_installd\\n', stderr='')\n",
      "sns                              module               <module 'seaborn' from '/<...>ges/seaborn/__init__.py'>\n",
      "sparse                           module               <module 'scipy.sparse' fr<...>cipy/sparse/__init__.py'>\n",
      "specific_utils                   module               <module 'data_wrangling.s<...>gling/specific_utils.py'>\n",
      "subprocess                       module               <module 'subprocess' from<...>python3.9/subprocess.py'>\n",
      "sys                              module               <module 'sys' (built-in)>\n",
      "torch                            module               <module 'torch' from '/op<...>kages/torch/__init__.py'>\n",
      "train_test_split                 function             <function train_test_split at 0x3033f43a0>\n",
      "var                              function             <function var at 0x10653f670>\n",
      "variance_inflation_factor        function             <function variance_inflat<...>on_factor at 0x304734430>\n",
      "Don't know how to reset  #, please run `%reset?` for details\n",
      "Don't know how to reset  clear, please run `%reset?` for details\n",
      "Don't know how to reset  all, please run `%reset?` for details\n",
      "Don't know how to reset  variables, please run `%reset?` for details\n",
      "Don't know how to reset  if, please run `%reset?` for details\n",
      "Don't know how to reset  needed, please run `%reset?` for details\n"
     ]
    }
   ],
   "source": [
    "# In Jupyter\n",
    "%who\n",
    "%whos\n",
    "%reset -f  # Clear all variables if needed"
   ]
  },
  {
   "cell_type": "code",
   "execution_count": null,
   "metadata": {},
   "outputs": [],
   "source": [
    "# In Jupyter\n",
    "%who\n",
    "%whos\n",
    "%reset -f  # Clear all variables if needed"
   ]
  },
  {
   "cell_type": "code",
   "execution_count": null,
   "metadata": {},
   "outputs": [
    {
     "ename": "NameError",
     "evalue": "name 'df' is not defined",
     "output_type": "error",
     "traceback": [
      "\u001b[0;31m---------------------------------------------------------------------------\u001b[0m\n",
      "\u001b[0;31mNameError\u001b[0m                                 Traceback (most recent call last)\n",
      "Cell \u001b[0;32mIn[17], line 1\u001b[0m\n",
      "\u001b[0;32m----> 1\u001b[0m \u001b[38;5;28mtype\u001b[39m(\u001b[43mdf\u001b[49m)\n",
      "\n",
      "\u001b[0;31mNameError\u001b[0m: name 'df' is not defined"
     ]
    }
   ],
   "source": [
    "type(dec.behav_data_all)"
   ]
  },
  {
   "cell_type": "code",
   "execution_count": null,
   "metadata": {},
   "outputs": [
    {
     "data": {
      "text/plain": [
       "(10812,)"
      ]
     },
     "metadata": {},
     "output_type": "display_data"
    }
   ],
   "source": [
    "dec.y_var.bin.shape"
   ]
  },
  {
   "cell_type": "code",
   "execution_count": null,
   "metadata": {},
   "outputs": [
    {
     "data": {
      "text/plain": [
       "(10752,)"
      ]
     },
     "metadata": {},
     "output_type": "display_data"
    }
   ],
   "source": [
    "dec.y_var.bin.unique().shape"
   ]
  },
  {
   "cell_type": "code",
   "execution_count": 5,
   "metadata": {},
   "outputs": [
    {
     "data": {
      "text/plain": [
       "0"
      ]
     },
     "execution_count": 5,
     "metadata": {},
     "output_type": "execute_result"
    }
   ],
   "source": [
    "import gc\n",
    "gc.collect()"
   ]
  },
  {
   "cell_type": "code",
   "execution_count": 6,
   "metadata": {},
   "outputs": [
    {
     "ename": "SyntaxError",
     "evalue": "invalid syntax (3319058519.py, line 1)",
     "output_type": "error",
     "traceback": [
      "\u001b[0;36m  Cell \u001b[0;32mIn[6], line 1\u001b[0;36m\u001b[0m\n\u001b[0;31m    stop!\u001b[0m\n\u001b[0m        ^\u001b[0m\n\u001b[0;31mSyntaxError\u001b[0m\u001b[0;31m:\u001b[0m invalid syntax\n"
     ]
    }
   ],
   "source": [
    "stop!"
   ]
  },
  {
   "cell_type": "markdown",
   "metadata": {},
   "source": [
    "# GPFA"
   ]
  },
  {
   "cell_type": "markdown",
   "metadata": {},
   "source": [
    "## get data for GPFA"
   ]
  },
  {
   "cell_type": "code",
   "execution_count": null,
   "metadata": {},
   "outputs": [],
   "source": [
    "dec.single_vis_target_df.columns"
   ]
  },
  {
   "cell_type": "code",
   "execution_count": null,
   "metadata": {},
   "outputs": [],
   "source": [
    "dec.prepare_spikes_for_gpfa()\n",
    "\n",
    "print(len(dec.spiketrains))\n",
    "print(len(dec.spiketrains[0]))\n",
    "print(len(dec.spiketrains[0][2]))"
   ]
  },
  {
   "cell_type": "markdown",
   "metadata": {},
   "source": [
    "## fit gpfa"
   ]
  },
  {
   "cell_type": "code",
   "execution_count": null,
   "metadata": {},
   "outputs": [],
   "source": [
    "len(dec.spiketrains)"
   ]
  },
  {
   "cell_type": "code",
   "execution_count": null,
   "metadata": {},
   "outputs": [],
   "source": [
    "dec.get_gpfa_trahjectories(latent_dimensionality=10)\n"
   ]
  },
  {
   "cell_type": "code",
   "execution_count": null,
   "metadata": {},
   "outputs": [],
   "source": [
    "stop!"
   ]
  },
  {
   "cell_type": "markdown",
   "metadata": {},
   "source": [
    "## plot latent dimensions"
   ]
  },
  {
   "cell_type": "code",
   "execution_count": null,
   "metadata": {},
   "outputs": [],
   "source": [
    "plot_gpfa_utils.plot_gpfa_traj_3d_uniform_color()\n"
   ]
  },
  {
   "cell_type": "code",
   "execution_count": null,
   "metadata": {},
   "outputs": [],
   "source": [
    "# First, enable interactive mode in your notebook\n",
    "%matplotlib inline\n",
    "\n",
    "# Import required modules\n",
    "import numpy as np\n",
    "import matplotlib.pyplot as plt\n",
    "from mpl_toolkits.mplot3d import Axes3D\n",
    "from matplotlib import cm\n",
    "\n",
    "# Create the interactive plot\n",
    "fig, ax = plot_gpfa_utils.plot_gpfa_traj_3d(\n",
    "    trajectories=dec.trajectories,\n",
    "    figsize=(15, 5),\n",
    "    linewidth_single_trial=0.75,\n",
    "    alpha_single_trial=0.3,\n",
    "    linewidth_trial_average=2,\n",
    "    title='Latent dynamics extracted by GPFA',\n",
    "    view_azim=-5,\n",
    "    view_elev=60\n",
    ")\n",
    "\n",
    "plt.show()"
   ]
  },
  {
   "cell_type": "code",
   "execution_count": null,
   "metadata": {},
   "outputs": [],
   "source": [
    "# fig = plot_gpfa_utils.plot_gpfa_traj_3d_plotly(trajectories)"
   ]
  },
  {
   "cell_type": "code",
   "execution_count": null,
   "metadata": {},
   "outputs": [],
   "source": [
    "# Find variance explained by each latent dimension\n",
    "traj_stack = np.stack(dec.trajectories, axis=0)  # shape: (n_trials, 3, T)\n",
    "var_by_dim = var(traj_stack, axis=(0, 2))    # variance across trials and time\n",
    "var_by_dim /= var_by_dim.sum()               # normalize to get explained variance ratio\n",
    "print(\"Variance explained by each latent dimension:\", var_by_dim)\n"
   ]
  },
  {
   "cell_type": "code",
   "execution_count": null,
   "metadata": {},
   "outputs": [],
   "source": [
    "\n",
    "%matplotlib inline\n",
    "import matplotlib.pyplot as plt\n",
    "import numpy as np\n",
    "\n",
    "fig, ax = plt.subplots(figsize=(15, 5))\n",
    "\n",
    "ax.set_title('Latent dynamics extracted by GPFA')\n",
    "ax.set_xlabel('Time [s]')\n",
    "\n",
    "average_trajectory = np.mean(, axis=0)\n",
    "time = np.arange(len(average_trajectory[0])) * 0.02  # assuming all trajectories have the same length\n",
    "\n",
    "for i, x in enumerate(average_trajectory):\n",
    "    ax.plot(time, x, label=f'Dim {i+1}')\n",
    "\n",
    "ax.legend()\n",
    "\n",
    "plt.tight_layout()\n",
    "plt.show()\n"
   ]
  },
  {
   "cell_type": "markdown",
   "metadata": {},
   "source": [
    "## prepare data for regression"
   ]
  },
  {
   "cell_type": "markdown",
   "metadata": {},
   "source": [
    "## regression"
   ]
  },
  {
   "cell_type": "code",
   "execution_count": null,
   "metadata": {},
   "outputs": [],
   "source": [
    "dec.common_t_stop = max(dec.spike_segs_df['t_duration']) * pq.s + dec.bin_width_w_unit        "
   ]
  },
  {
   "cell_type": "code",
   "execution_count": null,
   "metadata": {},
   "outputs": [],
   "source": [
    "dec.get_latent_data_and_behav_data_for_all_trials()"
   ]
  },
  {
   "cell_type": "code",
   "execution_count": null,
   "metadata": {},
   "outputs": [],
   "source": [
    "max_timepoints = int(1.5/0.02)\n",
    "scores_by_time, times = gpfa_regression_utils.time_resolved_regression_variable_length(dec.latent_trials, dec.behavior_trials, time_step=0.02, cv_folds=5, max_timepoints=max_timepoints)"
   ]
  },
  {
   "cell_type": "code",
   "execution_count": null,
   "metadata": {},
   "outputs": [],
   "source": [
    "behavior_labels = dec.pursuit_data_by_trial.drop(columns=['segment']).columns\n",
    "len(behavior_labels)\n",
    "scores_by_time_df = pd.DataFrame(scores_by_time, columns=behavior_labels)\n",
    "# see the percentage of 1 of this dummy variable\n",
    "dec.pursuit_data_by_trial[['whether_new_distinct_stop']].sum()/len(dec.pursuit_data_by_trial)"
   ]
  },
  {
   "cell_type": "code",
   "execution_count": null,
   "metadata": {},
   "outputs": [],
   "source": [
    "gpfa_regression_utils.plot_time_resolved_scores(scores_by_time, times, behavior_labels=behavior_labels)\n"
   ]
  },
  {
   "cell_type": "code",
   "execution_count": null,
   "metadata": {},
   "outputs": [],
   "source": [
    "trial_counts = np.array([sum(latent.shape[0] > t for latent in latent_trials)\n",
    "                         for t in range(scores_by_time.shape[0])])\n",
    "plt.plot(times, trial_counts)\n",
    "plt.xlabel(\"Time (s)\")\n",
    "plt.ylabel(\"Trials with data\")\n"
   ]
  },
  {
   "cell_type": "markdown",
   "metadata": {},
   "source": [
    "# Reduce columns in lags"
   ]
  },
  {
   "cell_type": "code",
   "execution_count": null,
   "metadata": {},
   "outputs": [],
   "source": [
    "dec.reduce_x_var_lags()\n",
    "# dec.reduce_y_var_lags() # currently not needed bc of the low correlations between clusters or lags"
   ]
  },
  {
   "cell_type": "markdown",
   "metadata": {},
   "source": [
    "## check result of reducing"
   ]
  },
  {
   "cell_type": "code",
   "execution_count": null,
   "metadata": {},
   "outputs": [],
   "source": [
    "## also check correlations between x vars without lags\n",
    "high_corr_pair_df, top_n_corr_df = drop_high_corr_vars.get_pairs_of_columns_w_high_corr(\n",
    "            dec.x_var, corr_threshold=0.8)\n",
    "top_n_corr_df"
   ]
  },
  {
   "cell_type": "markdown",
   "metadata": {},
   "source": [
    "# Linear regression (didn't modify yet)\n",
    "\n",
    "Regressing the behavioral variables individually (as y_var) against all neural activity"
   ]
  },
  {
   "cell_type": "markdown",
   "metadata": {},
   "source": [
    "## put results in df"
   ]
  },
  {
   "cell_type": "code",
   "execution_count": null,
   "metadata": {},
   "outputs": [],
   "source": [
    "# dec.make_or_retrieve_y_var_lr_resault_df(exists_ok=True)\n",
    "dec.y_var_lr_result_df = neural_data_modeling.get_y_var_lr_result_df(\n",
    "                dec.x_var_lags_reduced, dec.y_var)\n",
    "dec.y_var_lr_result_df.head(5)"
   ]
  },
  {
   "cell_type": "markdown",
   "metadata": {},
   "source": [
    "##  plot all neural clusters vs one behavioral var"
   ]
  },
  {
   "cell_type": "code",
   "execution_count": null,
   "metadata": {},
   "outputs": [],
   "source": [
    "# drop existing columns involving bin (most likely there's only one or zero after being reduced, because different lags of bins can have very high correlations)\n",
    "bin_cols = [col for col in dec.y_var_lags_reduced.columns if 'bin' in col]\n",
    "dec.y_var_lags_reduced.drop(columns=bin_cols, inplace=True)\n",
    "\n",
    "# then we add the variable bin (so that only the 0 lag is used)\n",
    "dec.y_var_lags_reduced['bin'] = dec.y_var_lags['bin_0'].astype(int)"
   ]
  },
  {
   "cell_type": "code",
   "execution_count": 10,
   "metadata": {},
   "outputs": [
    {
     "data": {
      "text/plain": [
       "Index(['bin', 'monkey_speed', 'monkey_angle', 'monkey_dw', 'monkey_ddw',\n",
       "       'monkey_ddv', 'monkey_speeddummy', 'whether_new_distinct_stop',\n",
       "       'delta_distance', 'LDy', 'LDz', 'RDy', 'RDz', 'gaze_mky_view_x_l',\n",
       "       'gaze_mky_view_y_l', 'gaze_mky_view_angle_l', 'gaze_mky_view_x_r',\n",
       "       'gaze_mky_view_y_r', 'gaze_mky_view_angle_r', 'eye_world_speed',\n",
       "       'valid_view_point_l', 'valid_view_point_r', 'num_alive_ff',\n",
       "       'num_visible_ff', 'min_ff_distance', 'min_abs_ff_angle',\n",
       "       'min_abs_ff_angle_boundary', 'min_visible_ff_distance',\n",
       "       'min_abs_visible_ff_angle', 'min_abs_visible_ff_angle_boundary',\n",
       "       'catching_ff', 'any_ff_visible', 'target_distance', 'target_angle',\n",
       "       'target_angle_to_boundary', 'target_rel_x', 'target_rel_y',\n",
       "       'time_since_target_last_seen', 'target_last_seen_distance_frozen',\n",
       "       'target_last_seen_angle_frozen',\n",
       "       'target_last_seen_angle_to_boundary_frozen', 'target_visible_dummy',\n",
       "       'time_since_last_capture', 'traj_curv', 'target_opt_arc_dheading',\n",
       "       'target_last_seen_time_abs',\n",
       "       'distance_from_monkey_pos_target_last_seen',\n",
       "       'cum_distance_since_target_last_seen',\n",
       "       'd_heading_since_target_last_seen', 'time', 'monkey_x', 'monkey_y',\n",
       "       'cum_distance', 'gaze_world_x_l', 'gaze_world_y_l', 'gaze_world_x_r',\n",
       "       'gaze_world_y_r', 'target_index', 'target_x', 'target_y'],\n",
       "      dtype='object')"
      ]
     },
     "execution_count": 10,
     "metadata": {},
     "output_type": "execute_result"
    }
   ],
   "source": [
    "dec.y_var.columns"
   ]
  },
  {
   "cell_type": "code",
   "execution_count": 9,
   "metadata": {},
   "outputs": [
    {
     "data": {
      "application/vnd.microsoft.datawrangler.viewer.v0+json": {
       "columns": [
        {
         "name": "index",
         "rawType": "int64",
         "type": "integer"
        },
        {
         "name": "bin_0",
         "rawType": "float64",
         "type": "float"
        },
        {
         "name": "monkey_speed_0",
         "rawType": "float64",
         "type": "float"
        },
        {
         "name": "monkey_angle_0",
         "rawType": "float64",
         "type": "float"
        },
        {
         "name": "monkey_dw_0",
         "rawType": "float64",
         "type": "float"
        },
        {
         "name": "monkey_ddw_0",
         "rawType": "float64",
         "type": "float"
        },
        {
         "name": "monkey_ddv_0",
         "rawType": "float64",
         "type": "float"
        },
        {
         "name": "monkey_speeddummy_0",
         "rawType": "float64",
         "type": "float"
        },
        {
         "name": "whether_new_distinct_stop_0",
         "rawType": "float64",
         "type": "float"
        },
        {
         "name": "delta_distance_0",
         "rawType": "float64",
         "type": "float"
        },
        {
         "name": "LDy_0",
         "rawType": "float64",
         "type": "float"
        },
        {
         "name": "LDz_0",
         "rawType": "float64",
         "type": "float"
        },
        {
         "name": "RDy_0",
         "rawType": "float64",
         "type": "float"
        },
        {
         "name": "RDz_0",
         "rawType": "float64",
         "type": "float"
        },
        {
         "name": "gaze_mky_view_x_l_0",
         "rawType": "float64",
         "type": "float"
        },
        {
         "name": "gaze_mky_view_y_l_0",
         "rawType": "float64",
         "type": "float"
        },
        {
         "name": "gaze_mky_view_angle_l_0",
         "rawType": "float64",
         "type": "float"
        },
        {
         "name": "gaze_mky_view_x_r_0",
         "rawType": "float64",
         "type": "float"
        },
        {
         "name": "gaze_mky_view_y_r_0",
         "rawType": "float64",
         "type": "float"
        },
        {
         "name": "gaze_mky_view_angle_r_0",
         "rawType": "float64",
         "type": "float"
        },
        {
         "name": "eye_world_speed_0",
         "rawType": "float64",
         "type": "float"
        },
        {
         "name": "valid_view_point_l_0",
         "rawType": "float64",
         "type": "float"
        },
        {
         "name": "valid_view_point_r_0",
         "rawType": "float64",
         "type": "float"
        },
        {
         "name": "num_alive_ff_0",
         "rawType": "float64",
         "type": "float"
        },
        {
         "name": "num_visible_ff_0",
         "rawType": "float64",
         "type": "float"
        },
        {
         "name": "min_ff_distance_0",
         "rawType": "float64",
         "type": "float"
        },
        {
         "name": "min_abs_ff_angle_0",
         "rawType": "float64",
         "type": "float"
        },
        {
         "name": "min_abs_ff_angle_boundary_0",
         "rawType": "float64",
         "type": "float"
        },
        {
         "name": "min_visible_ff_distance_0",
         "rawType": "float64",
         "type": "float"
        },
        {
         "name": "min_abs_visible_ff_angle_0",
         "rawType": "float64",
         "type": "float"
        },
        {
         "name": "min_abs_visible_ff_angle_boundary_0",
         "rawType": "float64",
         "type": "float"
        },
        {
         "name": "catching_ff_0",
         "rawType": "float64",
         "type": "float"
        },
        {
         "name": "any_ff_visible_0",
         "rawType": "float64",
         "type": "float"
        },
        {
         "name": "target_distance_0",
         "rawType": "float64",
         "type": "float"
        },
        {
         "name": "target_angle_0",
         "rawType": "float64",
         "type": "float"
        },
        {
         "name": "target_angle_to_boundary_0",
         "rawType": "float64",
         "type": "float"
        },
        {
         "name": "target_rel_x_0",
         "rawType": "float64",
         "type": "float"
        },
        {
         "name": "target_rel_y_0",
         "rawType": "float64",
         "type": "float"
        },
        {
         "name": "time_since_target_last_seen_0",
         "rawType": "float64",
         "type": "float"
        },
        {
         "name": "target_last_seen_distance_frozen_0",
         "rawType": "float64",
         "type": "float"
        },
        {
         "name": "target_last_seen_angle_frozen_0",
         "rawType": "float64",
         "type": "float"
        },
        {
         "name": "target_last_seen_angle_to_boundary_frozen_0",
         "rawType": "float64",
         "type": "float"
        },
        {
         "name": "target_visible_dummy_0",
         "rawType": "float64",
         "type": "float"
        },
        {
         "name": "time_since_last_capture_0",
         "rawType": "float64",
         "type": "float"
        },
        {
         "name": "traj_curv_0",
         "rawType": "float64",
         "type": "float"
        },
        {
         "name": "target_opt_arc_dheading_0",
         "rawType": "float64",
         "type": "float"
        },
        {
         "name": "target_last_seen_time_abs_0",
         "rawType": "float64",
         "type": "float"
        },
        {
         "name": "distance_from_monkey_pos_target_last_seen_0",
         "rawType": "float64",
         "type": "float"
        },
        {
         "name": "cum_distance_since_target_last_seen_0",
         "rawType": "float64",
         "type": "float"
        },
        {
         "name": "d_heading_since_target_last_seen_0",
         "rawType": "float64",
         "type": "float"
        },
        {
         "name": "monkey_x_0",
         "rawType": "float64",
         "type": "float"
        },
        {
         "name": "monkey_y_0",
         "rawType": "float64",
         "type": "float"
        },
        {
         "name": "gaze_world_x_l_0",
         "rawType": "float64",
         "type": "float"
        },
        {
         "name": "gaze_world_y_l_0",
         "rawType": "float64",
         "type": "float"
        },
        {
         "name": "gaze_world_x_r_0",
         "rawType": "float64",
         "type": "float"
        },
        {
         "name": "gaze_world_y_r_0",
         "rawType": "float64",
         "type": "float"
        },
        {
         "name": "target_x_0",
         "rawType": "float64",
         "type": "float"
        },
        {
         "name": "target_y_0",
         "rawType": "float64",
         "type": "float"
        },
        {
         "name": "bin_-1",
         "rawType": "float64",
         "type": "float"
        },
        {
         "name": "monkey_speed_-1",
         "rawType": "float64",
         "type": "float"
        },
        {
         "name": "monkey_angle_-1",
         "rawType": "float64",
         "type": "float"
        },
        {
         "name": "monkey_dw_-1",
         "rawType": "float64",
         "type": "float"
        },
        {
         "name": "monkey_ddw_-1",
         "rawType": "float64",
         "type": "float"
        },
        {
         "name": "monkey_ddv_-1",
         "rawType": "float64",
         "type": "float"
        },
        {
         "name": "monkey_speeddummy_-1",
         "rawType": "float64",
         "type": "float"
        },
        {
         "name": "whether_new_distinct_stop_-1",
         "rawType": "float64",
         "type": "float"
        },
        {
         "name": "delta_distance_-1",
         "rawType": "float64",
         "type": "float"
        },
        {
         "name": "LDy_-1",
         "rawType": "float64",
         "type": "float"
        },
        {
         "name": "LDz_-1",
         "rawType": "float64",
         "type": "float"
        },
        {
         "name": "RDy_-1",
         "rawType": "float64",
         "type": "float"
        },
        {
         "name": "RDz_-1",
         "rawType": "float64",
         "type": "float"
        },
        {
         "name": "gaze_mky_view_x_l_-1",
         "rawType": "float64",
         "type": "float"
        },
        {
         "name": "gaze_mky_view_y_l_-1",
         "rawType": "float64",
         "type": "float"
        },
        {
         "name": "gaze_mky_view_angle_l_-1",
         "rawType": "float64",
         "type": "float"
        },
        {
         "name": "gaze_mky_view_x_r_-1",
         "rawType": "float64",
         "type": "float"
        },
        {
         "name": "gaze_mky_view_y_r_-1",
         "rawType": "float64",
         "type": "float"
        },
        {
         "name": "gaze_mky_view_angle_r_-1",
         "rawType": "float64",
         "type": "float"
        },
        {
         "name": "eye_world_speed_-1",
         "rawType": "float64",
         "type": "float"
        },
        {
         "name": "valid_view_point_l_-1",
         "rawType": "float64",
         "type": "float"
        },
        {
         "name": "valid_view_point_r_-1",
         "rawType": "float64",
         "type": "float"
        },
        {
         "name": "num_alive_ff_-1",
         "rawType": "float64",
         "type": "float"
        },
        {
         "name": "num_visible_ff_-1",
         "rawType": "float64",
         "type": "float"
        },
        {
         "name": "min_ff_distance_-1",
         "rawType": "float64",
         "type": "float"
        },
        {
         "name": "min_abs_ff_angle_-1",
         "rawType": "float64",
         "type": "float"
        },
        {
         "name": "min_abs_ff_angle_boundary_-1",
         "rawType": "float64",
         "type": "float"
        },
        {
         "name": "min_visible_ff_distance_-1",
         "rawType": "float64",
         "type": "float"
        },
        {
         "name": "min_abs_visible_ff_angle_-1",
         "rawType": "float64",
         "type": "float"
        },
        {
         "name": "min_abs_visible_ff_angle_boundary_-1",
         "rawType": "float64",
         "type": "float"
        },
        {
         "name": "catching_ff_-1",
         "rawType": "float64",
         "type": "float"
        },
        {
         "name": "any_ff_visible_-1",
         "rawType": "float64",
         "type": "float"
        },
        {
         "name": "target_distance_-1",
         "rawType": "float64",
         "type": "float"
        },
        {
         "name": "target_angle_-1",
         "rawType": "float64",
         "type": "float"
        },
        {
         "name": "target_angle_to_boundary_-1",
         "rawType": "float64",
         "type": "float"
        },
        {
         "name": "target_rel_x_-1",
         "rawType": "float64",
         "type": "float"
        },
        {
         "name": "target_rel_y_-1",
         "rawType": "float64",
         "type": "float"
        },
        {
         "name": "time_since_target_last_seen_-1",
         "rawType": "float64",
         "type": "float"
        },
        {
         "name": "target_last_seen_distance_frozen_-1",
         "rawType": "float64",
         "type": "float"
        },
        {
         "name": "target_last_seen_angle_frozen_-1",
         "rawType": "float64",
         "type": "float"
        },
        {
         "name": "target_last_seen_angle_to_boundary_frozen_-1",
         "rawType": "float64",
         "type": "float"
        },
        {
         "name": "target_visible_dummy_-1",
         "rawType": "float64",
         "type": "float"
        },
        {
         "name": "time_since_last_capture_-1",
         "rawType": "float64",
         "type": "float"
        },
        {
         "name": "traj_curv_-1",
         "rawType": "float64",
         "type": "float"
        },
        {
         "name": "target_opt_arc_dheading_-1",
         "rawType": "float64",
         "type": "float"
        },
        {
         "name": "target_last_seen_time_abs_-1",
         "rawType": "float64",
         "type": "float"
        },
        {
         "name": "distance_from_monkey_pos_target_last_seen_-1",
         "rawType": "float64",
         "type": "float"
        },
        {
         "name": "cum_distance_since_target_last_seen_-1",
         "rawType": "float64",
         "type": "float"
        },
        {
         "name": "d_heading_since_target_last_seen_-1",
         "rawType": "float64",
         "type": "float"
        },
        {
         "name": "monkey_x_-1",
         "rawType": "float64",
         "type": "float"
        },
        {
         "name": "monkey_y_-1",
         "rawType": "float64",
         "type": "float"
        },
        {
         "name": "gaze_world_x_l_-1",
         "rawType": "float64",
         "type": "float"
        },
        {
         "name": "gaze_world_y_l_-1",
         "rawType": "float64",
         "type": "float"
        },
        {
         "name": "gaze_world_x_r_-1",
         "rawType": "float64",
         "type": "float"
        },
        {
         "name": "gaze_world_y_r_-1",
         "rawType": "float64",
         "type": "float"
        },
        {
         "name": "target_x_-1",
         "rawType": "float64",
         "type": "float"
        },
        {
         "name": "target_y_-1",
         "rawType": "float64",
         "type": "float"
        },
        {
         "name": "bin_1",
         "rawType": "float64",
         "type": "float"
        },
        {
         "name": "monkey_speed_1",
         "rawType": "float64",
         "type": "float"
        },
        {
         "name": "monkey_angle_1",
         "rawType": "float64",
         "type": "float"
        },
        {
         "name": "monkey_dw_1",
         "rawType": "float64",
         "type": "float"
        },
        {
         "name": "monkey_ddw_1",
         "rawType": "float64",
         "type": "float"
        },
        {
         "name": "monkey_ddv_1",
         "rawType": "float64",
         "type": "float"
        },
        {
         "name": "monkey_speeddummy_1",
         "rawType": "float64",
         "type": "float"
        },
        {
         "name": "whether_new_distinct_stop_1",
         "rawType": "float64",
         "type": "float"
        },
        {
         "name": "delta_distance_1",
         "rawType": "float64",
         "type": "float"
        },
        {
         "name": "LDy_1",
         "rawType": "float64",
         "type": "float"
        },
        {
         "name": "LDz_1",
         "rawType": "float64",
         "type": "float"
        },
        {
         "name": "RDy_1",
         "rawType": "float64",
         "type": "float"
        },
        {
         "name": "RDz_1",
         "rawType": "float64",
         "type": "float"
        },
        {
         "name": "gaze_mky_view_x_l_1",
         "rawType": "float64",
         "type": "float"
        },
        {
         "name": "gaze_mky_view_y_l_1",
         "rawType": "float64",
         "type": "float"
        },
        {
         "name": "gaze_mky_view_angle_l_1",
         "rawType": "float64",
         "type": "float"
        },
        {
         "name": "gaze_mky_view_x_r_1",
         "rawType": "float64",
         "type": "float"
        },
        {
         "name": "gaze_mky_view_y_r_1",
         "rawType": "float64",
         "type": "float"
        },
        {
         "name": "gaze_mky_view_angle_r_1",
         "rawType": "float64",
         "type": "float"
        },
        {
         "name": "eye_world_speed_1",
         "rawType": "float64",
         "type": "float"
        },
        {
         "name": "valid_view_point_l_1",
         "rawType": "float64",
         "type": "float"
        },
        {
         "name": "valid_view_point_r_1",
         "rawType": "float64",
         "type": "float"
        },
        {
         "name": "num_alive_ff_1",
         "rawType": "float64",
         "type": "float"
        },
        {
         "name": "num_visible_ff_1",
         "rawType": "float64",
         "type": "float"
        },
        {
         "name": "min_ff_distance_1",
         "rawType": "float64",
         "type": "float"
        },
        {
         "name": "min_abs_ff_angle_1",
         "rawType": "float64",
         "type": "float"
        },
        {
         "name": "min_abs_ff_angle_boundary_1",
         "rawType": "float64",
         "type": "float"
        },
        {
         "name": "min_visible_ff_distance_1",
         "rawType": "float64",
         "type": "float"
        },
        {
         "name": "min_abs_visible_ff_angle_1",
         "rawType": "float64",
         "type": "float"
        },
        {
         "name": "min_abs_visible_ff_angle_boundary_1",
         "rawType": "float64",
         "type": "float"
        },
        {
         "name": "catching_ff_1",
         "rawType": "float64",
         "type": "float"
        },
        {
         "name": "any_ff_visible_1",
         "rawType": "float64",
         "type": "float"
        },
        {
         "name": "target_distance_1",
         "rawType": "float64",
         "type": "float"
        },
        {
         "name": "target_angle_1",
         "rawType": "float64",
         "type": "float"
        },
        {
         "name": "target_angle_to_boundary_1",
         "rawType": "float64",
         "type": "float"
        },
        {
         "name": "target_rel_x_1",
         "rawType": "float64",
         "type": "float"
        },
        {
         "name": "target_rel_y_1",
         "rawType": "float64",
         "type": "float"
        },
        {
         "name": "time_since_target_last_seen_1",
         "rawType": "float64",
         "type": "float"
        },
        {
         "name": "target_last_seen_distance_frozen_1",
         "rawType": "float64",
         "type": "float"
        },
        {
         "name": "target_last_seen_angle_frozen_1",
         "rawType": "float64",
         "type": "float"
        },
        {
         "name": "target_last_seen_angle_to_boundary_frozen_1",
         "rawType": "float64",
         "type": "float"
        },
        {
         "name": "target_visible_dummy_1",
         "rawType": "float64",
         "type": "float"
        },
        {
         "name": "time_since_last_capture_1",
         "rawType": "float64",
         "type": "float"
        },
        {
         "name": "traj_curv_1",
         "rawType": "float64",
         "type": "float"
        },
        {
         "name": "target_opt_arc_dheading_1",
         "rawType": "float64",
         "type": "float"
        },
        {
         "name": "target_last_seen_time_abs_1",
         "rawType": "float64",
         "type": "float"
        },
        {
         "name": "distance_from_monkey_pos_target_last_seen_1",
         "rawType": "float64",
         "type": "float"
        },
        {
         "name": "cum_distance_since_target_last_seen_1",
         "rawType": "float64",
         "type": "float"
        },
        {
         "name": "d_heading_since_target_last_seen_1",
         "rawType": "float64",
         "type": "float"
        },
        {
         "name": "monkey_x_1",
         "rawType": "float64",
         "type": "float"
        },
        {
         "name": "monkey_y_1",
         "rawType": "float64",
         "type": "float"
        },
        {
         "name": "gaze_world_x_l_1",
         "rawType": "float64",
         "type": "float"
        },
        {
         "name": "gaze_world_y_l_1",
         "rawType": "float64",
         "type": "float"
        },
        {
         "name": "gaze_world_x_r_1",
         "rawType": "float64",
         "type": "float"
        },
        {
         "name": "gaze_world_y_r_1",
         "rawType": "float64",
         "type": "float"
        },
        {
         "name": "target_x_1",
         "rawType": "float64",
         "type": "float"
        },
        {
         "name": "target_y_1",
         "rawType": "float64",
         "type": "float"
        },
        {
         "name": "bin_-2",
         "rawType": "float64",
         "type": "float"
        },
        {
         "name": "monkey_speed_-2",
         "rawType": "float64",
         "type": "float"
        },
        {
         "name": "monkey_angle_-2",
         "rawType": "float64",
         "type": "float"
        },
        {
         "name": "monkey_dw_-2",
         "rawType": "float64",
         "type": "float"
        },
        {
         "name": "monkey_ddw_-2",
         "rawType": "float64",
         "type": "float"
        },
        {
         "name": "monkey_ddv_-2",
         "rawType": "float64",
         "type": "float"
        },
        {
         "name": "monkey_speeddummy_-2",
         "rawType": "float64",
         "type": "float"
        },
        {
         "name": "whether_new_distinct_stop_-2",
         "rawType": "float64",
         "type": "float"
        },
        {
         "name": "delta_distance_-2",
         "rawType": "float64",
         "type": "float"
        },
        {
         "name": "LDy_-2",
         "rawType": "float64",
         "type": "float"
        },
        {
         "name": "LDz_-2",
         "rawType": "float64",
         "type": "float"
        },
        {
         "name": "RDy_-2",
         "rawType": "float64",
         "type": "float"
        },
        {
         "name": "RDz_-2",
         "rawType": "float64",
         "type": "float"
        },
        {
         "name": "gaze_mky_view_x_l_-2",
         "rawType": "float64",
         "type": "float"
        },
        {
         "name": "gaze_mky_view_y_l_-2",
         "rawType": "float64",
         "type": "float"
        },
        {
         "name": "gaze_mky_view_angle_l_-2",
         "rawType": "float64",
         "type": "float"
        },
        {
         "name": "gaze_mky_view_x_r_-2",
         "rawType": "float64",
         "type": "float"
        },
        {
         "name": "gaze_mky_view_y_r_-2",
         "rawType": "float64",
         "type": "float"
        },
        {
         "name": "gaze_mky_view_angle_r_-2",
         "rawType": "float64",
         "type": "float"
        },
        {
         "name": "eye_world_speed_-2",
         "rawType": "float64",
         "type": "float"
        },
        {
         "name": "valid_view_point_l_-2",
         "rawType": "float64",
         "type": "float"
        },
        {
         "name": "valid_view_point_r_-2",
         "rawType": "float64",
         "type": "float"
        },
        {
         "name": "num_alive_ff_-2",
         "rawType": "float64",
         "type": "float"
        },
        {
         "name": "num_visible_ff_-2",
         "rawType": "float64",
         "type": "float"
        },
        {
         "name": "min_ff_distance_-2",
         "rawType": "float64",
         "type": "float"
        },
        {
         "name": "min_abs_ff_angle_-2",
         "rawType": "float64",
         "type": "float"
        },
        {
         "name": "min_abs_ff_angle_boundary_-2",
         "rawType": "float64",
         "type": "float"
        },
        {
         "name": "min_visible_ff_distance_-2",
         "rawType": "float64",
         "type": "float"
        },
        {
         "name": "min_abs_visible_ff_angle_-2",
         "rawType": "float64",
         "type": "float"
        },
        {
         "name": "min_abs_visible_ff_angle_boundary_-2",
         "rawType": "float64",
         "type": "float"
        },
        {
         "name": "catching_ff_-2",
         "rawType": "float64",
         "type": "float"
        },
        {
         "name": "any_ff_visible_-2",
         "rawType": "float64",
         "type": "float"
        },
        {
         "name": "target_distance_-2",
         "rawType": "float64",
         "type": "float"
        },
        {
         "name": "target_angle_-2",
         "rawType": "float64",
         "type": "float"
        },
        {
         "name": "target_angle_to_boundary_-2",
         "rawType": "float64",
         "type": "float"
        },
        {
         "name": "target_rel_x_-2",
         "rawType": "float64",
         "type": "float"
        },
        {
         "name": "target_rel_y_-2",
         "rawType": "float64",
         "type": "float"
        },
        {
         "name": "time_since_target_last_seen_-2",
         "rawType": "float64",
         "type": "float"
        },
        {
         "name": "target_last_seen_distance_frozen_-2",
         "rawType": "float64",
         "type": "float"
        },
        {
         "name": "target_last_seen_angle_frozen_-2",
         "rawType": "float64",
         "type": "float"
        },
        {
         "name": "target_last_seen_angle_to_boundary_frozen_-2",
         "rawType": "float64",
         "type": "float"
        },
        {
         "name": "target_visible_dummy_-2",
         "rawType": "float64",
         "type": "float"
        },
        {
         "name": "time_since_last_capture_-2",
         "rawType": "float64",
         "type": "float"
        },
        {
         "name": "traj_curv_-2",
         "rawType": "float64",
         "type": "float"
        },
        {
         "name": "target_opt_arc_dheading_-2",
         "rawType": "float64",
         "type": "float"
        },
        {
         "name": "target_last_seen_time_abs_-2",
         "rawType": "float64",
         "type": "float"
        },
        {
         "name": "distance_from_monkey_pos_target_last_seen_-2",
         "rawType": "float64",
         "type": "float"
        },
        {
         "name": "cum_distance_since_target_last_seen_-2",
         "rawType": "float64",
         "type": "float"
        },
        {
         "name": "d_heading_since_target_last_seen_-2",
         "rawType": "float64",
         "type": "float"
        },
        {
         "name": "monkey_x_-2",
         "rawType": "float64",
         "type": "float"
        },
        {
         "name": "monkey_y_-2",
         "rawType": "float64",
         "type": "float"
        },
        {
         "name": "gaze_world_x_l_-2",
         "rawType": "float64",
         "type": "float"
        },
        {
         "name": "gaze_world_y_l_-2",
         "rawType": "float64",
         "type": "float"
        },
        {
         "name": "gaze_world_x_r_-2",
         "rawType": "float64",
         "type": "float"
        },
        {
         "name": "gaze_world_y_r_-2",
         "rawType": "float64",
         "type": "float"
        },
        {
         "name": "target_x_-2",
         "rawType": "float64",
         "type": "float"
        },
        {
         "name": "target_y_-2",
         "rawType": "float64",
         "type": "float"
        },
        {
         "name": "bin_2",
         "rawType": "float64",
         "type": "float"
        },
        {
         "name": "monkey_speed_2",
         "rawType": "float64",
         "type": "float"
        },
        {
         "name": "monkey_angle_2",
         "rawType": "float64",
         "type": "float"
        },
        {
         "name": "monkey_dw_2",
         "rawType": "float64",
         "type": "float"
        },
        {
         "name": "monkey_ddw_2",
         "rawType": "float64",
         "type": "float"
        },
        {
         "name": "monkey_ddv_2",
         "rawType": "float64",
         "type": "float"
        },
        {
         "name": "monkey_speeddummy_2",
         "rawType": "float64",
         "type": "float"
        },
        {
         "name": "whether_new_distinct_stop_2",
         "rawType": "float64",
         "type": "float"
        },
        {
         "name": "delta_distance_2",
         "rawType": "float64",
         "type": "float"
        },
        {
         "name": "LDy_2",
         "rawType": "float64",
         "type": "float"
        },
        {
         "name": "LDz_2",
         "rawType": "float64",
         "type": "float"
        },
        {
         "name": "RDy_2",
         "rawType": "float64",
         "type": "float"
        },
        {
         "name": "RDz_2",
         "rawType": "float64",
         "type": "float"
        },
        {
         "name": "gaze_mky_view_x_l_2",
         "rawType": "float64",
         "type": "float"
        },
        {
         "name": "gaze_mky_view_y_l_2",
         "rawType": "float64",
         "type": "float"
        },
        {
         "name": "gaze_mky_view_angle_l_2",
         "rawType": "float64",
         "type": "float"
        },
        {
         "name": "gaze_mky_view_x_r_2",
         "rawType": "float64",
         "type": "float"
        },
        {
         "name": "gaze_mky_view_y_r_2",
         "rawType": "float64",
         "type": "float"
        },
        {
         "name": "gaze_mky_view_angle_r_2",
         "rawType": "float64",
         "type": "float"
        },
        {
         "name": "eye_world_speed_2",
         "rawType": "float64",
         "type": "float"
        },
        {
         "name": "valid_view_point_l_2",
         "rawType": "float64",
         "type": "float"
        },
        {
         "name": "valid_view_point_r_2",
         "rawType": "float64",
         "type": "float"
        },
        {
         "name": "num_alive_ff_2",
         "rawType": "float64",
         "type": "float"
        },
        {
         "name": "num_visible_ff_2",
         "rawType": "float64",
         "type": "float"
        },
        {
         "name": "min_ff_distance_2",
         "rawType": "float64",
         "type": "float"
        },
        {
         "name": "min_abs_ff_angle_2",
         "rawType": "float64",
         "type": "float"
        },
        {
         "name": "min_abs_ff_angle_boundary_2",
         "rawType": "float64",
         "type": "float"
        },
        {
         "name": "min_visible_ff_distance_2",
         "rawType": "float64",
         "type": "float"
        },
        {
         "name": "min_abs_visible_ff_angle_2",
         "rawType": "float64",
         "type": "float"
        },
        {
         "name": "min_abs_visible_ff_angle_boundary_2",
         "rawType": "float64",
         "type": "float"
        },
        {
         "name": "catching_ff_2",
         "rawType": "float64",
         "type": "float"
        },
        {
         "name": "any_ff_visible_2",
         "rawType": "float64",
         "type": "float"
        },
        {
         "name": "target_distance_2",
         "rawType": "float64",
         "type": "float"
        },
        {
         "name": "target_angle_2",
         "rawType": "float64",
         "type": "float"
        },
        {
         "name": "target_angle_to_boundary_2",
         "rawType": "float64",
         "type": "float"
        },
        {
         "name": "target_rel_x_2",
         "rawType": "float64",
         "type": "float"
        },
        {
         "name": "target_rel_y_2",
         "rawType": "float64",
         "type": "float"
        },
        {
         "name": "time_since_target_last_seen_2",
         "rawType": "float64",
         "type": "float"
        },
        {
         "name": "target_last_seen_distance_frozen_2",
         "rawType": "float64",
         "type": "float"
        },
        {
         "name": "target_last_seen_angle_frozen_2",
         "rawType": "float64",
         "type": "float"
        },
        {
         "name": "target_last_seen_angle_to_boundary_frozen_2",
         "rawType": "float64",
         "type": "float"
        },
        {
         "name": "target_visible_dummy_2",
         "rawType": "float64",
         "type": "float"
        },
        {
         "name": "time_since_last_capture_2",
         "rawType": "float64",
         "type": "float"
        },
        {
         "name": "traj_curv_2",
         "rawType": "float64",
         "type": "float"
        },
        {
         "name": "target_opt_arc_dheading_2",
         "rawType": "float64",
         "type": "float"
        },
        {
         "name": "target_last_seen_time_abs_2",
         "rawType": "float64",
         "type": "float"
        },
        {
         "name": "distance_from_monkey_pos_target_last_seen_2",
         "rawType": "float64",
         "type": "float"
        },
        {
         "name": "cum_distance_since_target_last_seen_2",
         "rawType": "float64",
         "type": "float"
        },
        {
         "name": "d_heading_since_target_last_seen_2",
         "rawType": "float64",
         "type": "float"
        },
        {
         "name": "monkey_x_2",
         "rawType": "float64",
         "type": "float"
        },
        {
         "name": "monkey_y_2",
         "rawType": "float64",
         "type": "float"
        },
        {
         "name": "gaze_world_x_l_2",
         "rawType": "float64",
         "type": "float"
        },
        {
         "name": "gaze_world_y_l_2",
         "rawType": "float64",
         "type": "float"
        },
        {
         "name": "gaze_world_x_r_2",
         "rawType": "float64",
         "type": "float"
        },
        {
         "name": "gaze_world_y_r_2",
         "rawType": "float64",
         "type": "float"
        },
        {
         "name": "target_x_2",
         "rawType": "float64",
         "type": "float"
        },
        {
         "name": "target_y_2",
         "rawType": "float64",
         "type": "float"
        },
        {
         "name": "bin_-3",
         "rawType": "float64",
         "type": "float"
        },
        {
         "name": "monkey_speed_-3",
         "rawType": "float64",
         "type": "float"
        },
        {
         "name": "monkey_angle_-3",
         "rawType": "float64",
         "type": "float"
        },
        {
         "name": "monkey_dw_-3",
         "rawType": "float64",
         "type": "float"
        },
        {
         "name": "monkey_ddw_-3",
         "rawType": "float64",
         "type": "float"
        },
        {
         "name": "monkey_ddv_-3",
         "rawType": "float64",
         "type": "float"
        },
        {
         "name": "monkey_speeddummy_-3",
         "rawType": "float64",
         "type": "float"
        },
        {
         "name": "whether_new_distinct_stop_-3",
         "rawType": "float64",
         "type": "float"
        },
        {
         "name": "delta_distance_-3",
         "rawType": "float64",
         "type": "float"
        },
        {
         "name": "LDy_-3",
         "rawType": "float64",
         "type": "float"
        },
        {
         "name": "LDz_-3",
         "rawType": "float64",
         "type": "float"
        },
        {
         "name": "RDy_-3",
         "rawType": "float64",
         "type": "float"
        },
        {
         "name": "RDz_-3",
         "rawType": "float64",
         "type": "float"
        },
        {
         "name": "gaze_mky_view_x_l_-3",
         "rawType": "float64",
         "type": "float"
        },
        {
         "name": "gaze_mky_view_y_l_-3",
         "rawType": "float64",
         "type": "float"
        },
        {
         "name": "gaze_mky_view_angle_l_-3",
         "rawType": "float64",
         "type": "float"
        },
        {
         "name": "gaze_mky_view_x_r_-3",
         "rawType": "float64",
         "type": "float"
        },
        {
         "name": "gaze_mky_view_y_r_-3",
         "rawType": "float64",
         "type": "float"
        },
        {
         "name": "gaze_mky_view_angle_r_-3",
         "rawType": "float64",
         "type": "float"
        },
        {
         "name": "eye_world_speed_-3",
         "rawType": "float64",
         "type": "float"
        },
        {
         "name": "valid_view_point_l_-3",
         "rawType": "float64",
         "type": "float"
        },
        {
         "name": "valid_view_point_r_-3",
         "rawType": "float64",
         "type": "float"
        },
        {
         "name": "num_alive_ff_-3",
         "rawType": "float64",
         "type": "float"
        },
        {
         "name": "num_visible_ff_-3",
         "rawType": "float64",
         "type": "float"
        },
        {
         "name": "min_ff_distance_-3",
         "rawType": "float64",
         "type": "float"
        },
        {
         "name": "min_abs_ff_angle_-3",
         "rawType": "float64",
         "type": "float"
        },
        {
         "name": "min_abs_ff_angle_boundary_-3",
         "rawType": "float64",
         "type": "float"
        },
        {
         "name": "min_visible_ff_distance_-3",
         "rawType": "float64",
         "type": "float"
        },
        {
         "name": "min_abs_visible_ff_angle_-3",
         "rawType": "float64",
         "type": "float"
        },
        {
         "name": "min_abs_visible_ff_angle_boundary_-3",
         "rawType": "float64",
         "type": "float"
        },
        {
         "name": "catching_ff_-3",
         "rawType": "float64",
         "type": "float"
        },
        {
         "name": "any_ff_visible_-3",
         "rawType": "float64",
         "type": "float"
        },
        {
         "name": "target_distance_-3",
         "rawType": "float64",
         "type": "float"
        },
        {
         "name": "target_angle_-3",
         "rawType": "float64",
         "type": "float"
        },
        {
         "name": "target_angle_to_boundary_-3",
         "rawType": "float64",
         "type": "float"
        },
        {
         "name": "target_rel_x_-3",
         "rawType": "float64",
         "type": "float"
        },
        {
         "name": "target_rel_y_-3",
         "rawType": "float64",
         "type": "float"
        },
        {
         "name": "time_since_target_last_seen_-3",
         "rawType": "float64",
         "type": "float"
        },
        {
         "name": "target_last_seen_distance_frozen_-3",
         "rawType": "float64",
         "type": "float"
        },
        {
         "name": "target_last_seen_angle_frozen_-3",
         "rawType": "float64",
         "type": "float"
        },
        {
         "name": "target_last_seen_angle_to_boundary_frozen_-3",
         "rawType": "float64",
         "type": "float"
        },
        {
         "name": "target_visible_dummy_-3",
         "rawType": "float64",
         "type": "float"
        },
        {
         "name": "time_since_last_capture_-3",
         "rawType": "float64",
         "type": "float"
        },
        {
         "name": "traj_curv_-3",
         "rawType": "float64",
         "type": "float"
        },
        {
         "name": "target_opt_arc_dheading_-3",
         "rawType": "float64",
         "type": "float"
        },
        {
         "name": "target_last_seen_time_abs_-3",
         "rawType": "float64",
         "type": "float"
        },
        {
         "name": "distance_from_monkey_pos_target_last_seen_-3",
         "rawType": "float64",
         "type": "float"
        },
        {
         "name": "cum_distance_since_target_last_seen_-3",
         "rawType": "float64",
         "type": "float"
        },
        {
         "name": "d_heading_since_target_last_seen_-3",
         "rawType": "float64",
         "type": "float"
        },
        {
         "name": "monkey_x_-3",
         "rawType": "float64",
         "type": "float"
        },
        {
         "name": "monkey_y_-3",
         "rawType": "float64",
         "type": "float"
        },
        {
         "name": "gaze_world_x_l_-3",
         "rawType": "float64",
         "type": "float"
        },
        {
         "name": "gaze_world_y_l_-3",
         "rawType": "float64",
         "type": "float"
        },
        {
         "name": "gaze_world_x_r_-3",
         "rawType": "float64",
         "type": "float"
        },
        {
         "name": "gaze_world_y_r_-3",
         "rawType": "float64",
         "type": "float"
        },
        {
         "name": "target_x_-3",
         "rawType": "float64",
         "type": "float"
        },
        {
         "name": "target_y_-3",
         "rawType": "float64",
         "type": "float"
        },
        {
         "name": "bin_3",
         "rawType": "float64",
         "type": "float"
        },
        {
         "name": "monkey_speed_3",
         "rawType": "float64",
         "type": "float"
        },
        {
         "name": "monkey_angle_3",
         "rawType": "float64",
         "type": "float"
        },
        {
         "name": "monkey_dw_3",
         "rawType": "float64",
         "type": "float"
        },
        {
         "name": "monkey_ddw_3",
         "rawType": "float64",
         "type": "float"
        },
        {
         "name": "monkey_ddv_3",
         "rawType": "float64",
         "type": "float"
        },
        {
         "name": "monkey_speeddummy_3",
         "rawType": "float64",
         "type": "float"
        },
        {
         "name": "whether_new_distinct_stop_3",
         "rawType": "float64",
         "type": "float"
        },
        {
         "name": "delta_distance_3",
         "rawType": "float64",
         "type": "float"
        },
        {
         "name": "LDy_3",
         "rawType": "float64",
         "type": "float"
        },
        {
         "name": "LDz_3",
         "rawType": "float64",
         "type": "float"
        },
        {
         "name": "RDy_3",
         "rawType": "float64",
         "type": "float"
        },
        {
         "name": "RDz_3",
         "rawType": "float64",
         "type": "float"
        },
        {
         "name": "gaze_mky_view_x_l_3",
         "rawType": "float64",
         "type": "float"
        },
        {
         "name": "gaze_mky_view_y_l_3",
         "rawType": "float64",
         "type": "float"
        },
        {
         "name": "gaze_mky_view_angle_l_3",
         "rawType": "float64",
         "type": "float"
        },
        {
         "name": "gaze_mky_view_x_r_3",
         "rawType": "float64",
         "type": "float"
        },
        {
         "name": "gaze_mky_view_y_r_3",
         "rawType": "float64",
         "type": "float"
        },
        {
         "name": "gaze_mky_view_angle_r_3",
         "rawType": "float64",
         "type": "float"
        },
        {
         "name": "eye_world_speed_3",
         "rawType": "float64",
         "type": "float"
        },
        {
         "name": "valid_view_point_l_3",
         "rawType": "float64",
         "type": "float"
        },
        {
         "name": "valid_view_point_r_3",
         "rawType": "float64",
         "type": "float"
        },
        {
         "name": "num_alive_ff_3",
         "rawType": "float64",
         "type": "float"
        },
        {
         "name": "num_visible_ff_3",
         "rawType": "float64",
         "type": "float"
        },
        {
         "name": "min_ff_distance_3",
         "rawType": "float64",
         "type": "float"
        },
        {
         "name": "min_abs_ff_angle_3",
         "rawType": "float64",
         "type": "float"
        },
        {
         "name": "min_abs_ff_angle_boundary_3",
         "rawType": "float64",
         "type": "float"
        },
        {
         "name": "min_visible_ff_distance_3",
         "rawType": "float64",
         "type": "float"
        },
        {
         "name": "min_abs_visible_ff_angle_3",
         "rawType": "float64",
         "type": "float"
        },
        {
         "name": "min_abs_visible_ff_angle_boundary_3",
         "rawType": "float64",
         "type": "float"
        },
        {
         "name": "catching_ff_3",
         "rawType": "float64",
         "type": "float"
        },
        {
         "name": "any_ff_visible_3",
         "rawType": "float64",
         "type": "float"
        },
        {
         "name": "target_distance_3",
         "rawType": "float64",
         "type": "float"
        },
        {
         "name": "target_angle_3",
         "rawType": "float64",
         "type": "float"
        },
        {
         "name": "target_angle_to_boundary_3",
         "rawType": "float64",
         "type": "float"
        },
        {
         "name": "target_rel_x_3",
         "rawType": "float64",
         "type": "float"
        },
        {
         "name": "target_rel_y_3",
         "rawType": "float64",
         "type": "float"
        },
        {
         "name": "time_since_target_last_seen_3",
         "rawType": "float64",
         "type": "float"
        },
        {
         "name": "target_last_seen_distance_frozen_3",
         "rawType": "float64",
         "type": "float"
        },
        {
         "name": "target_last_seen_angle_frozen_3",
         "rawType": "float64",
         "type": "float"
        },
        {
         "name": "target_last_seen_angle_to_boundary_frozen_3",
         "rawType": "float64",
         "type": "float"
        },
        {
         "name": "target_visible_dummy_3",
         "rawType": "float64",
         "type": "float"
        },
        {
         "name": "time_since_last_capture_3",
         "rawType": "float64",
         "type": "float"
        },
        {
         "name": "traj_curv_3",
         "rawType": "float64",
         "type": "float"
        },
        {
         "name": "target_opt_arc_dheading_3",
         "rawType": "float64",
         "type": "float"
        },
        {
         "name": "target_last_seen_time_abs_3",
         "rawType": "float64",
         "type": "float"
        },
        {
         "name": "distance_from_monkey_pos_target_last_seen_3",
         "rawType": "float64",
         "type": "float"
        },
        {
         "name": "cum_distance_since_target_last_seen_3",
         "rawType": "float64",
         "type": "float"
        },
        {
         "name": "d_heading_since_target_last_seen_3",
         "rawType": "float64",
         "type": "float"
        },
        {
         "name": "monkey_x_3",
         "rawType": "float64",
         "type": "float"
        },
        {
         "name": "monkey_y_3",
         "rawType": "float64",
         "type": "float"
        },
        {
         "name": "gaze_world_x_l_3",
         "rawType": "float64",
         "type": "float"
        },
        {
         "name": "gaze_world_y_l_3",
         "rawType": "float64",
         "type": "float"
        },
        {
         "name": "gaze_world_x_r_3",
         "rawType": "float64",
         "type": "float"
        },
        {
         "name": "gaze_world_y_r_3",
         "rawType": "float64",
         "type": "float"
        },
        {
         "name": "target_x_3",
         "rawType": "float64",
         "type": "float"
        },
        {
         "name": "target_y_3",
         "rawType": "float64",
         "type": "float"
        },
        {
         "name": "bin_-4",
         "rawType": "float64",
         "type": "float"
        },
        {
         "name": "monkey_speed_-4",
         "rawType": "float64",
         "type": "float"
        },
        {
         "name": "monkey_angle_-4",
         "rawType": "float64",
         "type": "float"
        },
        {
         "name": "monkey_dw_-4",
         "rawType": "float64",
         "type": "float"
        },
        {
         "name": "monkey_ddw_-4",
         "rawType": "float64",
         "type": "float"
        },
        {
         "name": "monkey_ddv_-4",
         "rawType": "float64",
         "type": "float"
        },
        {
         "name": "monkey_speeddummy_-4",
         "rawType": "float64",
         "type": "float"
        },
        {
         "name": "whether_new_distinct_stop_-4",
         "rawType": "float64",
         "type": "float"
        },
        {
         "name": "delta_distance_-4",
         "rawType": "float64",
         "type": "float"
        },
        {
         "name": "LDy_-4",
         "rawType": "float64",
         "type": "float"
        },
        {
         "name": "LDz_-4",
         "rawType": "float64",
         "type": "float"
        },
        {
         "name": "RDy_-4",
         "rawType": "float64",
         "type": "float"
        },
        {
         "name": "RDz_-4",
         "rawType": "float64",
         "type": "float"
        },
        {
         "name": "gaze_mky_view_x_l_-4",
         "rawType": "float64",
         "type": "float"
        },
        {
         "name": "gaze_mky_view_y_l_-4",
         "rawType": "float64",
         "type": "float"
        },
        {
         "name": "gaze_mky_view_angle_l_-4",
         "rawType": "float64",
         "type": "float"
        },
        {
         "name": "gaze_mky_view_x_r_-4",
         "rawType": "float64",
         "type": "float"
        },
        {
         "name": "gaze_mky_view_y_r_-4",
         "rawType": "float64",
         "type": "float"
        },
        {
         "name": "gaze_mky_view_angle_r_-4",
         "rawType": "float64",
         "type": "float"
        },
        {
         "name": "eye_world_speed_-4",
         "rawType": "float64",
         "type": "float"
        },
        {
         "name": "valid_view_point_l_-4",
         "rawType": "float64",
         "type": "float"
        },
        {
         "name": "valid_view_point_r_-4",
         "rawType": "float64",
         "type": "float"
        },
        {
         "name": "num_alive_ff_-4",
         "rawType": "float64",
         "type": "float"
        },
        {
         "name": "num_visible_ff_-4",
         "rawType": "float64",
         "type": "float"
        },
        {
         "name": "min_ff_distance_-4",
         "rawType": "float64",
         "type": "float"
        },
        {
         "name": "min_abs_ff_angle_-4",
         "rawType": "float64",
         "type": "float"
        },
        {
         "name": "min_abs_ff_angle_boundary_-4",
         "rawType": "float64",
         "type": "float"
        },
        {
         "name": "min_visible_ff_distance_-4",
         "rawType": "float64",
         "type": "float"
        },
        {
         "name": "min_abs_visible_ff_angle_-4",
         "rawType": "float64",
         "type": "float"
        },
        {
         "name": "min_abs_visible_ff_angle_boundary_-4",
         "rawType": "float64",
         "type": "float"
        },
        {
         "name": "catching_ff_-4",
         "rawType": "float64",
         "type": "float"
        },
        {
         "name": "any_ff_visible_-4",
         "rawType": "float64",
         "type": "float"
        },
        {
         "name": "target_distance_-4",
         "rawType": "float64",
         "type": "float"
        },
        {
         "name": "target_angle_-4",
         "rawType": "float64",
         "type": "float"
        },
        {
         "name": "target_angle_to_boundary_-4",
         "rawType": "float64",
         "type": "float"
        },
        {
         "name": "target_rel_x_-4",
         "rawType": "float64",
         "type": "float"
        },
        {
         "name": "target_rel_y_-4",
         "rawType": "float64",
         "type": "float"
        },
        {
         "name": "time_since_target_last_seen_-4",
         "rawType": "float64",
         "type": "float"
        },
        {
         "name": "target_last_seen_distance_frozen_-4",
         "rawType": "float64",
         "type": "float"
        },
        {
         "name": "target_last_seen_angle_frozen_-4",
         "rawType": "float64",
         "type": "float"
        },
        {
         "name": "target_last_seen_angle_to_boundary_frozen_-4",
         "rawType": "float64",
         "type": "float"
        },
        {
         "name": "target_visible_dummy_-4",
         "rawType": "float64",
         "type": "float"
        },
        {
         "name": "time_since_last_capture_-4",
         "rawType": "float64",
         "type": "float"
        },
        {
         "name": "traj_curv_-4",
         "rawType": "float64",
         "type": "float"
        },
        {
         "name": "target_opt_arc_dheading_-4",
         "rawType": "float64",
         "type": "float"
        },
        {
         "name": "target_last_seen_time_abs_-4",
         "rawType": "float64",
         "type": "float"
        },
        {
         "name": "distance_from_monkey_pos_target_last_seen_-4",
         "rawType": "float64",
         "type": "float"
        },
        {
         "name": "cum_distance_since_target_last_seen_-4",
         "rawType": "float64",
         "type": "float"
        },
        {
         "name": "d_heading_since_target_last_seen_-4",
         "rawType": "float64",
         "type": "float"
        },
        {
         "name": "monkey_x_-4",
         "rawType": "float64",
         "type": "float"
        },
        {
         "name": "monkey_y_-4",
         "rawType": "float64",
         "type": "float"
        },
        {
         "name": "gaze_world_x_l_-4",
         "rawType": "float64",
         "type": "float"
        },
        {
         "name": "gaze_world_y_l_-4",
         "rawType": "float64",
         "type": "float"
        },
        {
         "name": "gaze_world_x_r_-4",
         "rawType": "float64",
         "type": "float"
        },
        {
         "name": "gaze_world_y_r_-4",
         "rawType": "float64",
         "type": "float"
        },
        {
         "name": "target_x_-4",
         "rawType": "float64",
         "type": "float"
        },
        {
         "name": "target_y_-4",
         "rawType": "float64",
         "type": "float"
        },
        {
         "name": "bin_4",
         "rawType": "float64",
         "type": "float"
        },
        {
         "name": "monkey_speed_4",
         "rawType": "float64",
         "type": "float"
        },
        {
         "name": "monkey_angle_4",
         "rawType": "float64",
         "type": "float"
        },
        {
         "name": "monkey_dw_4",
         "rawType": "float64",
         "type": "float"
        },
        {
         "name": "monkey_ddw_4",
         "rawType": "float64",
         "type": "float"
        },
        {
         "name": "monkey_ddv_4",
         "rawType": "float64",
         "type": "float"
        },
        {
         "name": "monkey_speeddummy_4",
         "rawType": "float64",
         "type": "float"
        },
        {
         "name": "whether_new_distinct_stop_4",
         "rawType": "float64",
         "type": "float"
        },
        {
         "name": "delta_distance_4",
         "rawType": "float64",
         "type": "float"
        },
        {
         "name": "LDy_4",
         "rawType": "float64",
         "type": "float"
        },
        {
         "name": "LDz_4",
         "rawType": "float64",
         "type": "float"
        },
        {
         "name": "RDy_4",
         "rawType": "float64",
         "type": "float"
        },
        {
         "name": "RDz_4",
         "rawType": "float64",
         "type": "float"
        },
        {
         "name": "gaze_mky_view_x_l_4",
         "rawType": "float64",
         "type": "float"
        },
        {
         "name": "gaze_mky_view_y_l_4",
         "rawType": "float64",
         "type": "float"
        },
        {
         "name": "gaze_mky_view_angle_l_4",
         "rawType": "float64",
         "type": "float"
        },
        {
         "name": "gaze_mky_view_x_r_4",
         "rawType": "float64",
         "type": "float"
        },
        {
         "name": "gaze_mky_view_y_r_4",
         "rawType": "float64",
         "type": "float"
        },
        {
         "name": "gaze_mky_view_angle_r_4",
         "rawType": "float64",
         "type": "float"
        },
        {
         "name": "eye_world_speed_4",
         "rawType": "float64",
         "type": "float"
        },
        {
         "name": "valid_view_point_l_4",
         "rawType": "float64",
         "type": "float"
        },
        {
         "name": "valid_view_point_r_4",
         "rawType": "float64",
         "type": "float"
        },
        {
         "name": "num_alive_ff_4",
         "rawType": "float64",
         "type": "float"
        },
        {
         "name": "num_visible_ff_4",
         "rawType": "float64",
         "type": "float"
        },
        {
         "name": "min_ff_distance_4",
         "rawType": "float64",
         "type": "float"
        },
        {
         "name": "min_abs_ff_angle_4",
         "rawType": "float64",
         "type": "float"
        },
        {
         "name": "min_abs_ff_angle_boundary_4",
         "rawType": "float64",
         "type": "float"
        },
        {
         "name": "min_visible_ff_distance_4",
         "rawType": "float64",
         "type": "float"
        },
        {
         "name": "min_abs_visible_ff_angle_4",
         "rawType": "float64",
         "type": "float"
        },
        {
         "name": "min_abs_visible_ff_angle_boundary_4",
         "rawType": "float64",
         "type": "float"
        },
        {
         "name": "catching_ff_4",
         "rawType": "float64",
         "type": "float"
        },
        {
         "name": "any_ff_visible_4",
         "rawType": "float64",
         "type": "float"
        },
        {
         "name": "target_distance_4",
         "rawType": "float64",
         "type": "float"
        },
        {
         "name": "target_angle_4",
         "rawType": "float64",
         "type": "float"
        },
        {
         "name": "target_angle_to_boundary_4",
         "rawType": "float64",
         "type": "float"
        },
        {
         "name": "target_rel_x_4",
         "rawType": "float64",
         "type": "float"
        },
        {
         "name": "target_rel_y_4",
         "rawType": "float64",
         "type": "float"
        },
        {
         "name": "time_since_target_last_seen_4",
         "rawType": "float64",
         "type": "float"
        },
        {
         "name": "target_last_seen_distance_frozen_4",
         "rawType": "float64",
         "type": "float"
        },
        {
         "name": "target_last_seen_angle_frozen_4",
         "rawType": "float64",
         "type": "float"
        },
        {
         "name": "target_last_seen_angle_to_boundary_frozen_4",
         "rawType": "float64",
         "type": "float"
        },
        {
         "name": "target_visible_dummy_4",
         "rawType": "float64",
         "type": "float"
        },
        {
         "name": "time_since_last_capture_4",
         "rawType": "float64",
         "type": "float"
        },
        {
         "name": "traj_curv_4",
         "rawType": "float64",
         "type": "float"
        },
        {
         "name": "target_opt_arc_dheading_4",
         "rawType": "float64",
         "type": "float"
        },
        {
         "name": "target_last_seen_time_abs_4",
         "rawType": "float64",
         "type": "float"
        },
        {
         "name": "distance_from_monkey_pos_target_last_seen_4",
         "rawType": "float64",
         "type": "float"
        },
        {
         "name": "cum_distance_since_target_last_seen_4",
         "rawType": "float64",
         "type": "float"
        },
        {
         "name": "d_heading_since_target_last_seen_4",
         "rawType": "float64",
         "type": "float"
        },
        {
         "name": "monkey_x_4",
         "rawType": "float64",
         "type": "float"
        },
        {
         "name": "monkey_y_4",
         "rawType": "float64",
         "type": "float"
        },
        {
         "name": "gaze_world_x_l_4",
         "rawType": "float64",
         "type": "float"
        },
        {
         "name": "gaze_world_y_l_4",
         "rawType": "float64",
         "type": "float"
        },
        {
         "name": "gaze_world_x_r_4",
         "rawType": "float64",
         "type": "float"
        },
        {
         "name": "gaze_world_y_r_4",
         "rawType": "float64",
         "type": "float"
        },
        {
         "name": "target_x_4",
         "rawType": "float64",
         "type": "float"
        },
        {
         "name": "target_y_4",
         "rawType": "float64",
         "type": "float"
        },
        {
         "name": "bin_-5",
         "rawType": "float64",
         "type": "float"
        },
        {
         "name": "monkey_speed_-5",
         "rawType": "float64",
         "type": "float"
        },
        {
         "name": "monkey_angle_-5",
         "rawType": "float64",
         "type": "float"
        },
        {
         "name": "monkey_dw_-5",
         "rawType": "float64",
         "type": "float"
        },
        {
         "name": "monkey_ddw_-5",
         "rawType": "float64",
         "type": "float"
        },
        {
         "name": "monkey_ddv_-5",
         "rawType": "float64",
         "type": "float"
        },
        {
         "name": "monkey_speeddummy_-5",
         "rawType": "float64",
         "type": "float"
        },
        {
         "name": "whether_new_distinct_stop_-5",
         "rawType": "float64",
         "type": "float"
        },
        {
         "name": "delta_distance_-5",
         "rawType": "float64",
         "type": "float"
        },
        {
         "name": "LDy_-5",
         "rawType": "float64",
         "type": "float"
        },
        {
         "name": "LDz_-5",
         "rawType": "float64",
         "type": "float"
        },
        {
         "name": "RDy_-5",
         "rawType": "float64",
         "type": "float"
        },
        {
         "name": "RDz_-5",
         "rawType": "float64",
         "type": "float"
        },
        {
         "name": "gaze_mky_view_x_l_-5",
         "rawType": "float64",
         "type": "float"
        },
        {
         "name": "gaze_mky_view_y_l_-5",
         "rawType": "float64",
         "type": "float"
        },
        {
         "name": "gaze_mky_view_angle_l_-5",
         "rawType": "float64",
         "type": "float"
        },
        {
         "name": "gaze_mky_view_x_r_-5",
         "rawType": "float64",
         "type": "float"
        },
        {
         "name": "gaze_mky_view_y_r_-5",
         "rawType": "float64",
         "type": "float"
        },
        {
         "name": "gaze_mky_view_angle_r_-5",
         "rawType": "float64",
         "type": "float"
        },
        {
         "name": "eye_world_speed_-5",
         "rawType": "float64",
         "type": "float"
        },
        {
         "name": "valid_view_point_l_-5",
         "rawType": "float64",
         "type": "float"
        },
        {
         "name": "valid_view_point_r_-5",
         "rawType": "float64",
         "type": "float"
        },
        {
         "name": "num_alive_ff_-5",
         "rawType": "float64",
         "type": "float"
        },
        {
         "name": "num_visible_ff_-5",
         "rawType": "float64",
         "type": "float"
        },
        {
         "name": "min_ff_distance_-5",
         "rawType": "float64",
         "type": "float"
        },
        {
         "name": "min_abs_ff_angle_-5",
         "rawType": "float64",
         "type": "float"
        },
        {
         "name": "min_abs_ff_angle_boundary_-5",
         "rawType": "float64",
         "type": "float"
        },
        {
         "name": "min_visible_ff_distance_-5",
         "rawType": "float64",
         "type": "float"
        },
        {
         "name": "min_abs_visible_ff_angle_-5",
         "rawType": "float64",
         "type": "float"
        },
        {
         "name": "min_abs_visible_ff_angle_boundary_-5",
         "rawType": "float64",
         "type": "float"
        },
        {
         "name": "catching_ff_-5",
         "rawType": "float64",
         "type": "float"
        },
        {
         "name": "any_ff_visible_-5",
         "rawType": "float64",
         "type": "float"
        },
        {
         "name": "target_distance_-5",
         "rawType": "float64",
         "type": "float"
        },
        {
         "name": "target_angle_-5",
         "rawType": "float64",
         "type": "float"
        },
        {
         "name": "target_angle_to_boundary_-5",
         "rawType": "float64",
         "type": "float"
        },
        {
         "name": "target_rel_x_-5",
         "rawType": "float64",
         "type": "float"
        },
        {
         "name": "target_rel_y_-5",
         "rawType": "float64",
         "type": "float"
        },
        {
         "name": "time_since_target_last_seen_-5",
         "rawType": "float64",
         "type": "float"
        },
        {
         "name": "target_last_seen_distance_frozen_-5",
         "rawType": "float64",
         "type": "float"
        },
        {
         "name": "target_last_seen_angle_frozen_-5",
         "rawType": "float64",
         "type": "float"
        },
        {
         "name": "target_last_seen_angle_to_boundary_frozen_-5",
         "rawType": "float64",
         "type": "float"
        },
        {
         "name": "target_visible_dummy_-5",
         "rawType": "float64",
         "type": "float"
        },
        {
         "name": "time_since_last_capture_-5",
         "rawType": "float64",
         "type": "float"
        },
        {
         "name": "traj_curv_-5",
         "rawType": "float64",
         "type": "float"
        },
        {
         "name": "target_opt_arc_dheading_-5",
         "rawType": "float64",
         "type": "float"
        },
        {
         "name": "target_last_seen_time_abs_-5",
         "rawType": "float64",
         "type": "float"
        },
        {
         "name": "distance_from_monkey_pos_target_last_seen_-5",
         "rawType": "float64",
         "type": "float"
        },
        {
         "name": "cum_distance_since_target_last_seen_-5",
         "rawType": "float64",
         "type": "float"
        },
        {
         "name": "d_heading_since_target_last_seen_-5",
         "rawType": "float64",
         "type": "float"
        },
        {
         "name": "monkey_x_-5",
         "rawType": "float64",
         "type": "float"
        },
        {
         "name": "monkey_y_-5",
         "rawType": "float64",
         "type": "float"
        },
        {
         "name": "gaze_world_x_l_-5",
         "rawType": "float64",
         "type": "float"
        },
        {
         "name": "gaze_world_y_l_-5",
         "rawType": "float64",
         "type": "float"
        },
        {
         "name": "gaze_world_x_r_-5",
         "rawType": "float64",
         "type": "float"
        },
        {
         "name": "gaze_world_y_r_-5",
         "rawType": "float64",
         "type": "float"
        },
        {
         "name": "target_x_-5",
         "rawType": "float64",
         "type": "float"
        },
        {
         "name": "target_y_-5",
         "rawType": "float64",
         "type": "float"
        },
        {
         "name": "bin_5",
         "rawType": "float64",
         "type": "float"
        },
        {
         "name": "monkey_speed_5",
         "rawType": "float64",
         "type": "float"
        },
        {
         "name": "monkey_angle_5",
         "rawType": "float64",
         "type": "float"
        },
        {
         "name": "monkey_dw_5",
         "rawType": "float64",
         "type": "float"
        },
        {
         "name": "monkey_ddw_5",
         "rawType": "float64",
         "type": "float"
        },
        {
         "name": "monkey_ddv_5",
         "rawType": "float64",
         "type": "float"
        },
        {
         "name": "monkey_speeddummy_5",
         "rawType": "float64",
         "type": "float"
        },
        {
         "name": "whether_new_distinct_stop_5",
         "rawType": "float64",
         "type": "float"
        },
        {
         "name": "delta_distance_5",
         "rawType": "float64",
         "type": "float"
        },
        {
         "name": "LDy_5",
         "rawType": "float64",
         "type": "float"
        },
        {
         "name": "LDz_5",
         "rawType": "float64",
         "type": "float"
        },
        {
         "name": "RDy_5",
         "rawType": "float64",
         "type": "float"
        },
        {
         "name": "RDz_5",
         "rawType": "float64",
         "type": "float"
        },
        {
         "name": "gaze_mky_view_x_l_5",
         "rawType": "float64",
         "type": "float"
        },
        {
         "name": "gaze_mky_view_y_l_5",
         "rawType": "float64",
         "type": "float"
        },
        {
         "name": "gaze_mky_view_angle_l_5",
         "rawType": "float64",
         "type": "float"
        },
        {
         "name": "gaze_mky_view_x_r_5",
         "rawType": "float64",
         "type": "float"
        },
        {
         "name": "gaze_mky_view_y_r_5",
         "rawType": "float64",
         "type": "float"
        },
        {
         "name": "gaze_mky_view_angle_r_5",
         "rawType": "float64",
         "type": "float"
        },
        {
         "name": "eye_world_speed_5",
         "rawType": "float64",
         "type": "float"
        },
        {
         "name": "valid_view_point_l_5",
         "rawType": "float64",
         "type": "float"
        },
        {
         "name": "valid_view_point_r_5",
         "rawType": "float64",
         "type": "float"
        },
        {
         "name": "num_alive_ff_5",
         "rawType": "float64",
         "type": "float"
        },
        {
         "name": "num_visible_ff_5",
         "rawType": "float64",
         "type": "float"
        },
        {
         "name": "min_ff_distance_5",
         "rawType": "float64",
         "type": "float"
        },
        {
         "name": "min_abs_ff_angle_5",
         "rawType": "float64",
         "type": "float"
        },
        {
         "name": "min_abs_ff_angle_boundary_5",
         "rawType": "float64",
         "type": "float"
        },
        {
         "name": "min_visible_ff_distance_5",
         "rawType": "float64",
         "type": "float"
        },
        {
         "name": "min_abs_visible_ff_angle_5",
         "rawType": "float64",
         "type": "float"
        },
        {
         "name": "min_abs_visible_ff_angle_boundary_5",
         "rawType": "float64",
         "type": "float"
        },
        {
         "name": "catching_ff_5",
         "rawType": "float64",
         "type": "float"
        },
        {
         "name": "any_ff_visible_5",
         "rawType": "float64",
         "type": "float"
        },
        {
         "name": "target_distance_5",
         "rawType": "float64",
         "type": "float"
        },
        {
         "name": "target_angle_5",
         "rawType": "float64",
         "type": "float"
        },
        {
         "name": "target_angle_to_boundary_5",
         "rawType": "float64",
         "type": "float"
        },
        {
         "name": "target_rel_x_5",
         "rawType": "float64",
         "type": "float"
        },
        {
         "name": "target_rel_y_5",
         "rawType": "float64",
         "type": "float"
        },
        {
         "name": "time_since_target_last_seen_5",
         "rawType": "float64",
         "type": "float"
        },
        {
         "name": "target_last_seen_distance_frozen_5",
         "rawType": "float64",
         "type": "float"
        },
        {
         "name": "target_last_seen_angle_frozen_5",
         "rawType": "float64",
         "type": "float"
        },
        {
         "name": "target_last_seen_angle_to_boundary_frozen_5",
         "rawType": "float64",
         "type": "float"
        },
        {
         "name": "target_visible_dummy_5",
         "rawType": "float64",
         "type": "float"
        },
        {
         "name": "time_since_last_capture_5",
         "rawType": "float64",
         "type": "float"
        },
        {
         "name": "traj_curv_5",
         "rawType": "float64",
         "type": "float"
        },
        {
         "name": "target_opt_arc_dheading_5",
         "rawType": "float64",
         "type": "float"
        },
        {
         "name": "target_last_seen_time_abs_5",
         "rawType": "float64",
         "type": "float"
        },
        {
         "name": "distance_from_monkey_pos_target_last_seen_5",
         "rawType": "float64",
         "type": "float"
        },
        {
         "name": "cum_distance_since_target_last_seen_5",
         "rawType": "float64",
         "type": "float"
        },
        {
         "name": "d_heading_since_target_last_seen_5",
         "rawType": "float64",
         "type": "float"
        },
        {
         "name": "monkey_x_5",
         "rawType": "float64",
         "type": "float"
        },
        {
         "name": "monkey_y_5",
         "rawType": "float64",
         "type": "float"
        },
        {
         "name": "gaze_world_x_l_5",
         "rawType": "float64",
         "type": "float"
        },
        {
         "name": "gaze_world_y_l_5",
         "rawType": "float64",
         "type": "float"
        },
        {
         "name": "gaze_world_x_r_5",
         "rawType": "float64",
         "type": "float"
        },
        {
         "name": "gaze_world_y_r_5",
         "rawType": "float64",
         "type": "float"
        },
        {
         "name": "target_x_5",
         "rawType": "float64",
         "type": "float"
        },
        {
         "name": "target_y_5",
         "rawType": "float64",
         "type": "float"
        }
       ],
       "ref": "5ee74444-e6a2-4312-8023-a5627eb80c4f",
       "rows": [
        [
         "0",
         "6.0",
         "0.0",
         "1.5707963267948966",
         "188.4596237347691",
         "0.0",
         "0.0",
         "0.0",
         "1.0",
         "0.0",
         "23.78424072265625",
         "-9.468048095703123",
         "21.7835693359375",
         "-16.34466552734375",
         "23.01669280169996",
         "54.72201255725338",
         "-0.3981474515606464",
         "14.686992773520432",
         "31.44550967845907",
         "-0.4369514880523075",
         "2.9021730027375217",
         "1.0",
         "1.0",
         "1.0",
         "1.0",
         "432.6518567867511",
         "0.23354978110032865",
         "0.21043445077303385",
         "432.6518567867511",
         "0.23354978110032865",
         "0.21043445077303385",
         "0.0",
         "1.0",
         "475.4235401820792",
         "-0.381188181609696",
         "-0.3601527538808206",
         "176.86879099999987",
         "441.29918800000013",
         "100.0",
         "400.0",
         "0.0",
         "0.0",
         "0.0",
         "0.127871",
         "-1.4600969001729167e-06",
         "-0.7068259141933577",
         "100.127871",
         null,
         null,
         null,
         "0.0",
         "32.5",
         "23.01669280169996",
         "87.22201255725338",
         "14.686992773520432",
         "63.94550967845908",
         "176.868791",
         "473.799188",
         "7.0",
         "0.0",
         "-1.5816977109027075",
         "188.4596237347691",
         "-94.22981186738456",
         "0.0",
         "0.0",
         "0.0",
         "0.0",
         "23.7607421875",
         "-9.943511962890623",
         "21.87969970703125",
         "-15.100921630859377",
         "21.83361689189319",
         "52.050823765416574",
         "-0.397175056849937",
         "15.80442825738437",
         "34.18732776447064",
         "-0.4330264003234125",
         "2.9021730027375217",
         "1.0",
         "1.0",
         "2.0",
         "1.0",
         "381.330328653104",
         "-2.8971414883816538",
         "-2.874026158054359",
         "381.330328653104",
         "0.5136717134798128",
         "0.4874447240024907",
         "0.0",
         "1.0",
         "475.4235401820792",
         "2.771305856087908",
         "2.7502704283590327",
         "-172.04760487507886",
         "-443.2010426612395",
         "100.0",
         "400.0",
         "0.0",
         "0.0",
         "0.0",
         "0.144483",
         "-1.4600969001729167e-06",
         "0.0",
         "100.144483",
         null,
         null,
         null,
         "0.0",
         "32.5",
         "-22.39973433353692",
         "-19.309719001625417",
         "-16.17617097605344",
         "-1.513009640013344",
         "176.868791",
         "473.799188",
         "0.0",
         "0.0",
         "0.0",
         "0.0",
         "0.0",
         "0.0",
         "0.0",
         "0.0",
         "0.0",
         "0.0",
         "0.0",
         "0.0",
         "0.0",
         "0.0",
         "0.0",
         "0.0",
         "0.0",
         "0.0",
         "0.0",
         "0.0",
         "0.0",
         "0.0",
         "0.0",
         "0.0",
         "0.0",
         "0.0",
         "0.0",
         "0.0",
         "0.0",
         "0.0",
         "0.0",
         "0.0",
         "0.0",
         "0.0",
         "0.0",
         "0.0",
         "0.0",
         "0.0",
         "0.0",
         "0.0",
         "0.0",
         "0.0",
         "0.0",
         "0.0",
         "0.0",
         "0.0",
         "0.0",
         "0.0",
         "0.0",
         "0.0",
         "0.0",
         "0.0",
         "0.0",
         "0.0",
         "0.0",
         "0.0",
         "0.0",
         "8.0",
         "0.0",
         "-1.5816977109027075",
         "0.0",
         "-94.22981186738456",
         "0.0",
         "0.0",
         "0.0",
         "0.0",
         "23.7479248046875",
         "-9.8304443359375",
         "21.79638671875",
         "-13.99053955078125",
         "22.0873182094147",
         "52.67063398234474",
         "-0.397073519326903",
         "16.858483595060612",
         "37.08124480926588",
         "-0.4267028619730242",
         "113.0435027851539",
         "1.0",
         "1.0",
         "3.0",
         "2.0",
         "295.6209254317086",
         "-2.8971414883816538",
         "-2.874026158054359",
         "295.6209254317086",
         "-0.34977387322922304",
         "-0.31594031395133193",
         "0.0",
         "1.0",
         "475.4235401820792",
         "2.771305856087908",
         "2.7502704283590327",
         "-172.04760487507886",
         "-443.2010426612395",
         "100.0",
         "400.0",
         "0.0",
         "0.0",
         "0.0",
         "0.161066",
         "-1.4600969001729167e-06",
         "0.0",
         "100.161066",
         null,
         null,
         null,
         "0.0",
         "32.5",
         "-22.660177231672986",
         "-19.92672674900885",
         "-17.261710758718753",
         "-4.395264295190636",
         "176.868791",
         "473.799188",
         "0.0",
         "0.0",
         "0.0",
         "0.0",
         "0.0",
         "0.0",
         "0.0",
         "0.0",
         "0.0",
         "0.0",
         "0.0",
         "0.0",
         "0.0",
         "0.0",
         "0.0",
         "0.0",
         "0.0",
         "0.0",
         "0.0",
         "0.0",
         "0.0",
         "0.0",
         "0.0",
         "0.0",
         "0.0",
         "0.0",
         "0.0",
         "0.0",
         "0.0",
         "0.0",
         "0.0",
         "0.0",
         "0.0",
         "0.0",
         "0.0",
         "0.0",
         "0.0",
         "0.0",
         "0.0",
         "0.0",
         "0.0",
         "0.0",
         "0.0",
         "0.0",
         "0.0",
         "0.0",
         "0.0",
         "0.0",
         "0.0",
         "0.0",
         "0.0",
         "0.0",
         "0.0",
         "0.0",
         "0.0",
         "0.0",
         "0.0",
         "9.0",
         "0.0",
         "-1.5816977109027075",
         "0.0",
         "0.0",
         "0.0",
         "0.0",
         "0.0",
         "0.0",
         "23.87823486328125",
         "-10.120361328125",
         "21.49945068359375",
         "-13.25994873046875",
         "21.53677072984847",
         "51.06892882092091",
         "-0.39908888280143",
         "17.478256094174533",
         "39.31237689985297",
         "-0.4183536524261617",
         "121.6222886812496",
         "1.0",
         "1.0",
         "3.0",
         "2.0",
         "295.6209254317086",
         "-2.8971414883816538",
         "-2.874026158054359",
         "295.6209254317086",
         "-0.34977387322922304",
         "-0.31594031395133193",
         "0.0",
         "1.0",
         "475.4235401820792",
         "2.771305856087908",
         "2.7502704283590327",
         "-172.04760487507886",
         "-443.2010426612395",
         "100.0",
         "400.0",
         "0.0",
         "0.0",
         "0.0",
         "0.195571",
         "-1.4600969001729167e-06",
         "0.0",
         "100.195571",
         null,
         null,
         null,
         "0.0",
         "32.5",
         "-22.092202008008936",
         "-18.331118370774316",
         "-17.90576837743179",
         "-6.619507568774509",
         "176.868791",
         "473.799188",
         "0.0",
         "0.0",
         "0.0",
         "0.0",
         "0.0",
         "0.0",
         "0.0",
         "0.0",
         "0.0",
         "0.0",
         "0.0",
         "0.0",
         "0.0",
         "0.0",
         "0.0",
         "0.0",
         "0.0",
         "0.0",
         "0.0",
         "0.0",
         "0.0",
         "0.0",
         "0.0",
         "0.0",
         "0.0",
         "0.0",
         "0.0",
         "0.0",
         "0.0",
         "0.0",
         "0.0",
         "0.0",
         "0.0",
         "0.0",
         "0.0",
         "0.0",
         "0.0",
         "0.0",
         "0.0",
         "0.0",
         "0.0",
         "0.0",
         "0.0",
         "0.0",
         "0.0",
         "0.0",
         "0.0",
         "0.0",
         "0.0",
         "0.0",
         "0.0",
         "0.0",
         "0.0",
         "0.0",
         "0.0",
         "0.0",
         "0.0",
         "10.0",
         "0.0",
         "-1.5816977109027075",
         "0.0",
         "0.0",
         "0.0",
         "0.0",
         "0.0",
         "0.0",
         "23.8077392578125",
         "-10.11456298828125",
         "21.3477783203125",
         "-12.8482666015625",
         "21.48575809001315",
         "51.12786799348737",
         "-0.397828376469473",
         "17.870382790574723",
         "40.67335615531292",
         "-0.4139733789909456",
         "47.1282992257406",
         "1.0",
         "1.0",
         "3.0",
         "2.0",
         "295.6209254317086",
         "-2.8971414883816538",
         "-2.874026158054359",
         "295.6209254317086",
         "-0.34977387322922304",
         "-0.31594031395133193",
         "0.0",
         "1.0",
         "475.4235401820792",
         "2.771305856087908",
         "2.7502704283590327",
         "-172.04760487507886",
         "-443.2010426612395",
         "100.0",
         "400.0",
         "0.0",
         "0.0",
         "0.0",
         "0.211064",
         "-1.4600969001729167e-06",
         "0.0",
         "100.211064",
         null,
         null,
         null,
         "0.0",
         "32.5",
         "-22.04183490515218",
         "-18.390610138571247",
         "-18.31270803762512",
         "-7.976131316459835",
         "176.868791",
         "473.799188",
         "0.0",
         "0.0",
         "0.0",
         "0.0",
         "0.0",
         "0.0",
         "0.0",
         "0.0",
         "0.0",
         "0.0",
         "0.0",
         "0.0",
         "0.0",
         "0.0",
         "0.0",
         "0.0",
         "0.0",
         "0.0",
         "0.0",
         "0.0",
         "0.0",
         "0.0",
         "0.0",
         "0.0",
         "0.0",
         "0.0",
         "0.0",
         "0.0",
         "0.0",
         "0.0",
         "0.0",
         "0.0",
         "0.0",
         "0.0",
         "0.0",
         "0.0",
         "0.0",
         "0.0",
         "0.0",
         "0.0",
         "0.0",
         "0.0",
         "0.0",
         "0.0",
         "0.0",
         "0.0",
         "0.0",
         "0.0",
         "0.0",
         "0.0",
         "0.0",
         "0.0",
         "0.0",
         "0.0",
         "0.0",
         "0.0",
         "0.0",
         "11.0",
         "0.0",
         "-1.5816977109027075",
         "0.0",
         "0.0",
         "0.0",
         "0.0",
         "0.0",
         "0.0",
         "23.61761474609375",
         "-9.926116943359377",
         "21.3734130859375",
         "-12.6627197265625",
         "21.74139121825639",
         "52.20373701548219",
         "-0.3946251805601601",
         "18.125261559345702",
         "41.28690261357975",
         "-0.4136750860569744",
         "53.31595074583661",
         "1.0",
         "1.0",
         "3.0",
         "2.0",
         "295.6209254317086",
         "-2.8971414883816538",
         "-2.874026158054359",
         "295.6209254317086",
         "-0.34977387322922304",
         "-0.31594031395133193",
         "0.0",
         "1.0",
         "475.4235401820792",
         "2.771305856087908",
         "2.7502704283590327",
         "-172.04760487507886",
         "-443.2010426612395",
         "100.0",
         "400.0",
         "0.0",
         "0.0",
         "0.0",
         "0.227615",
         "-1.4600969001729167e-06",
         "0.0",
         "100.227615",
         null,
         null,
         null,
         "0.0",
         "32.5",
         "-22.309181072960712",
         "-19.46362853324191",
         "-18.574260034760425",
         "-8.586862841777233",
         "176.868791",
         "473.799188",
         "0.0",
         "0.0",
         "0.0",
         "0.0",
         "0.0",
         "0.0",
         "0.0",
         "0.0",
         "0.0",
         "0.0",
         "0.0",
         "0.0",
         "0.0",
         "0.0",
         "0.0",
         "0.0",
         "0.0",
         "0.0",
         "0.0",
         "0.0",
         "0.0",
         "0.0",
         "0.0",
         "0.0",
         "0.0",
         "0.0",
         "0.0",
         "0.0",
         "0.0",
         "0.0",
         "0.0",
         "0.0",
         "0.0",
         "0.0",
         "0.0",
         "0.0",
         "0.0",
         "0.0",
         "0.0",
         "0.0",
         "0.0",
         "0.0",
         "0.0",
         "0.0",
         "0.0",
         "0.0",
         "0.0",
         "0.0",
         "0.0",
         "0.0",
         "0.0",
         "0.0",
         "0.0",
         "0.0",
         "0.0",
         "0.0",
         "0.0"
        ],
        [
         "1",
         "7.0",
         "0.0",
         "-1.5816977109027075",
         "188.4596237347691",
         "-94.22981186738456",
         "0.0",
         "0.0",
         "0.0",
         "0.0",
         "23.7607421875",
         "-9.943511962890623",
         "21.87969970703125",
         "-15.100921630859377",
         "21.83361689189319",
         "52.050823765416574",
         "-0.397175056849937",
         "15.80442825738437",
         "34.18732776447064",
         "-0.4330264003234125",
         "2.9021730027375217",
         "1.0",
         "1.0",
         "2.0",
         "1.0",
         "381.330328653104",
         "-2.8971414883816538",
         "-2.874026158054359",
         "381.330328653104",
         "0.5136717134798128",
         "0.4874447240024907",
         "0.0",
         "1.0",
         "475.4235401820792",
         "2.771305856087908",
         "2.7502704283590327",
         "-172.04760487507886",
         "-443.2010426612395",
         "100.0",
         "400.0",
         "0.0",
         "0.0",
         "0.0",
         "0.144483",
         "-1.4600969001729167e-06",
         "0.0",
         "100.144483",
         null,
         null,
         null,
         "0.0",
         "32.5",
         "-22.39973433353692",
         "-19.309719001625417",
         "-16.17617097605344",
         "-1.513009640013344",
         "176.868791",
         "473.799188",
         "8.0",
         "0.0",
         "-1.5816977109027075",
         "0.0",
         "-94.22981186738456",
         "0.0",
         "0.0",
         "0.0",
         "0.0",
         "23.7479248046875",
         "-9.8304443359375",
         "21.79638671875",
         "-13.99053955078125",
         "22.0873182094147",
         "52.67063398234474",
         "-0.397073519326903",
         "16.858483595060612",
         "37.08124480926588",
         "-0.4267028619730242",
         "113.0435027851539",
         "1.0",
         "1.0",
         "3.0",
         "2.0",
         "295.6209254317086",
         "-2.8971414883816538",
         "-2.874026158054359",
         "295.6209254317086",
         "-0.34977387322922304",
         "-0.31594031395133193",
         "0.0",
         "1.0",
         "475.4235401820792",
         "2.771305856087908",
         "2.7502704283590327",
         "-172.04760487507886",
         "-443.2010426612395",
         "100.0",
         "400.0",
         "0.0",
         "0.0",
         "0.0",
         "0.161066",
         "-1.4600969001729167e-06",
         "0.0",
         "100.161066",
         null,
         null,
         null,
         "0.0",
         "32.5",
         "-22.660177231672986",
         "-19.92672674900885",
         "-17.261710758718753",
         "-4.395264295190636",
         "176.868791",
         "473.799188",
         "6.0",
         "0.0",
         "1.5707963267948966",
         "188.4596237347691",
         "0.0",
         "0.0",
         "0.0",
         "1.0",
         "0.0",
         "23.78424072265625",
         "-9.468048095703123",
         "21.7835693359375",
         "-16.34466552734375",
         "23.01669280169996",
         "54.72201255725338",
         "-0.3981474515606464",
         "14.686992773520432",
         "31.44550967845907",
         "-0.4369514880523075",
         "2.9021730027375217",
         "1.0",
         "1.0",
         "1.0",
         "1.0",
         "432.6518567867511",
         "0.23354978110032865",
         "0.21043445077303385",
         "432.6518567867511",
         "0.23354978110032865",
         "0.21043445077303385",
         "0.0",
         "1.0",
         "475.4235401820792",
         "-0.381188181609696",
         "-0.3601527538808206",
         "176.86879099999987",
         "441.29918800000013",
         "100.0",
         "400.0",
         "0.0",
         "0.0",
         "0.0",
         "0.127871",
         "-1.4600969001729167e-06",
         "-0.7068259141933577",
         "100.127871",
         null,
         null,
         null,
         "0.0",
         "32.5",
         "23.01669280169996",
         "87.22201255725338",
         "14.686992773520432",
         "63.94550967845908",
         "176.868791",
         "473.799188",
         "9.0",
         "0.0",
         "-1.5816977109027075",
         "0.0",
         "0.0",
         "0.0",
         "0.0",
         "0.0",
         "0.0",
         "23.87823486328125",
         "-10.120361328125",
         "21.49945068359375",
         "-13.25994873046875",
         "21.53677072984847",
         "51.06892882092091",
         "-0.39908888280143",
         "17.478256094174533",
         "39.31237689985297",
         "-0.4183536524261617",
         "121.6222886812496",
         "1.0",
         "1.0",
         "3.0",
         "2.0",
         "295.6209254317086",
         "-2.8971414883816538",
         "-2.874026158054359",
         "295.6209254317086",
         "-0.34977387322922304",
         "-0.31594031395133193",
         "0.0",
         "1.0",
         "475.4235401820792",
         "2.771305856087908",
         "2.7502704283590327",
         "-172.04760487507886",
         "-443.2010426612395",
         "100.0",
         "400.0",
         "0.0",
         "0.0",
         "0.0",
         "0.195571",
         "-1.4600969001729167e-06",
         "0.0",
         "100.195571",
         null,
         null,
         null,
         "0.0",
         "32.5",
         "-22.092202008008936",
         "-18.331118370774316",
         "-17.90576837743179",
         "-6.619507568774509",
         "176.868791",
         "473.799188",
         "0.0",
         "0.0",
         "0.0",
         "0.0",
         "0.0",
         "0.0",
         "0.0",
         "0.0",
         "0.0",
         "0.0",
         "0.0",
         "0.0",
         "0.0",
         "0.0",
         "0.0",
         "0.0",
         "0.0",
         "0.0",
         "0.0",
         "0.0",
         "0.0",
         "0.0",
         "0.0",
         "0.0",
         "0.0",
         "0.0",
         "0.0",
         "0.0",
         "0.0",
         "0.0",
         "0.0",
         "0.0",
         "0.0",
         "0.0",
         "0.0",
         "0.0",
         "0.0",
         "0.0",
         "0.0",
         "0.0",
         "0.0",
         "0.0",
         "0.0",
         "0.0",
         "0.0",
         "0.0",
         "0.0",
         "0.0",
         "0.0",
         "0.0",
         "0.0",
         "0.0",
         "0.0",
         "0.0",
         "0.0",
         "0.0",
         "0.0",
         "10.0",
         "0.0",
         "-1.5816977109027075",
         "0.0",
         "0.0",
         "0.0",
         "0.0",
         "0.0",
         "0.0",
         "23.8077392578125",
         "-10.11456298828125",
         "21.3477783203125",
         "-12.8482666015625",
         "21.48575809001315",
         "51.12786799348737",
         "-0.397828376469473",
         "17.870382790574723",
         "40.67335615531292",
         "-0.4139733789909456",
         "47.1282992257406",
         "1.0",
         "1.0",
         "3.0",
         "2.0",
         "295.6209254317086",
         "-2.8971414883816538",
         "-2.874026158054359",
         "295.6209254317086",
         "-0.34977387322922304",
         "-0.31594031395133193",
         "0.0",
         "1.0",
         "475.4235401820792",
         "2.771305856087908",
         "2.7502704283590327",
         "-172.04760487507886",
         "-443.2010426612395",
         "100.0",
         "400.0",
         "0.0",
         "0.0",
         "0.0",
         "0.211064",
         "-1.4600969001729167e-06",
         "0.0",
         "100.211064",
         null,
         null,
         null,
         "0.0",
         "32.5",
         "-22.04183490515218",
         "-18.390610138571247",
         "-18.31270803762512",
         "-7.976131316459835",
         "176.868791",
         "473.799188",
         "0.0",
         "0.0",
         "0.0",
         "0.0",
         "0.0",
         "0.0",
         "0.0",
         "0.0",
         "0.0",
         "0.0",
         "0.0",
         "0.0",
         "0.0",
         "0.0",
         "0.0",
         "0.0",
         "0.0",
         "0.0",
         "0.0",
         "0.0",
         "0.0",
         "0.0",
         "0.0",
         "0.0",
         "0.0",
         "0.0",
         "0.0",
         "0.0",
         "0.0",
         "0.0",
         "0.0",
         "0.0",
         "0.0",
         "0.0",
         "0.0",
         "0.0",
         "0.0",
         "0.0",
         "0.0",
         "0.0",
         "0.0",
         "0.0",
         "0.0",
         "0.0",
         "0.0",
         "0.0",
         "0.0",
         "0.0",
         "0.0",
         "0.0",
         "0.0",
         "0.0",
         "0.0",
         "0.0",
         "0.0",
         "0.0",
         "0.0",
         "11.0",
         "0.0",
         "-1.5816977109027075",
         "0.0",
         "0.0",
         "0.0",
         "0.0",
         "0.0",
         "0.0",
         "23.61761474609375",
         "-9.926116943359377",
         "21.3734130859375",
         "-12.6627197265625",
         "21.74139121825639",
         "52.20373701548219",
         "-0.3946251805601601",
         "18.125261559345702",
         "41.28690261357975",
         "-0.4136750860569744",
         "53.31595074583661",
         "1.0",
         "1.0",
         "3.0",
         "2.0",
         "295.6209254317086",
         "-2.8971414883816538",
         "-2.874026158054359",
         "295.6209254317086",
         "-0.34977387322922304",
         "-0.31594031395133193",
         "0.0",
         "1.0",
         "475.4235401820792",
         "2.771305856087908",
         "2.7502704283590327",
         "-172.04760487507886",
         "-443.2010426612395",
         "100.0",
         "400.0",
         "0.0",
         "0.0",
         "0.0",
         "0.227615",
         "-1.4600969001729167e-06",
         "0.0",
         "100.227615",
         null,
         null,
         null,
         "0.0",
         "32.5",
         "-22.309181072960712",
         "-19.46362853324191",
         "-18.574260034760425",
         "-8.586862841777233",
         "176.868791",
         "473.799188",
         "0.0",
         "0.0",
         "0.0",
         "0.0",
         "0.0",
         "0.0",
         "0.0",
         "0.0",
         "0.0",
         "0.0",
         "0.0",
         "0.0",
         "0.0",
         "0.0",
         "0.0",
         "0.0",
         "0.0",
         "0.0",
         "0.0",
         "0.0",
         "0.0",
         "0.0",
         "0.0",
         "0.0",
         "0.0",
         "0.0",
         "0.0",
         "0.0",
         "0.0",
         "0.0",
         "0.0",
         "0.0",
         "0.0",
         "0.0",
         "0.0",
         "0.0",
         "0.0",
         "0.0",
         "0.0",
         "0.0",
         "0.0",
         "0.0",
         "0.0",
         "0.0",
         "0.0",
         "0.0",
         "0.0",
         "0.0",
         "0.0",
         "0.0",
         "0.0",
         "0.0",
         "0.0",
         "0.0",
         "0.0",
         "0.0",
         "0.0",
         "12.0",
         "0.0",
         "-1.5816977109027075",
         "0.0",
         "0.0",
         "0.0",
         "0.0",
         "0.0",
         "0.0",
         "23.74365234375",
         "-10.03338623046875",
         "21.45458984375",
         "-12.253936767578123",
         "21.61104758383407",
         "51.57919910982437",
         "-0.3967671340981358",
         "18.733104136196246",
         "42.69521387195859",
         "-0.4134705131869145",
         "27.554108713912683",
         "1.0",
         "1.0",
         "3.0",
         "2.0",
         "295.6209254317086",
         "-2.8971414883816538",
         "-2.874026158054359",
         "295.6209254317086",
         "-0.34977387322922304",
         "-0.31594031395133193",
         "0.0",
         "1.0",
         "475.4235401820792",
         "2.771305856087908",
         "2.7502704283590327",
         "-172.04760487507886",
         "-443.2010426612395",
         "100.0",
         "400.0",
         "0.0",
         "0.0",
         "0.0",
         "0.244269",
         "-1.4600969001729167e-06",
         "0.0",
         "100.244269",
         null,
         null,
         null,
         "0.0",
         "32.5",
         "-22.172036990742093",
         "-18.84054863519489",
         "-19.19741873179903",
         "-9.98846422484378",
         "176.868791",
         "473.799188",
         "0.0",
         "0.0",
         "0.0",
         "0.0",
         "0.0",
         "0.0",
         "0.0",
         "0.0",
         "0.0",
         "0.0",
         "0.0",
         "0.0",
         "0.0",
         "0.0",
         "0.0",
         "0.0",
         "0.0",
         "0.0",
         "0.0",
         "0.0",
         "0.0",
         "0.0",
         "0.0",
         "0.0",
         "0.0",
         "0.0",
         "0.0",
         "0.0",
         "0.0",
         "0.0",
         "0.0",
         "0.0",
         "0.0",
         "0.0",
         "0.0",
         "0.0",
         "0.0",
         "0.0",
         "0.0",
         "0.0",
         "0.0",
         "0.0",
         "0.0",
         "0.0",
         "0.0",
         "0.0",
         "0.0",
         "0.0",
         "0.0",
         "0.0",
         "0.0",
         "0.0",
         "0.0",
         "0.0",
         "0.0",
         "0.0",
         "0.0"
        ],
        [
         "2",
         "8.0",
         "0.0",
         "-1.5816977109027075",
         "0.0",
         "-94.22981186738456",
         "0.0",
         "0.0",
         "0.0",
         "0.0",
         "23.7479248046875",
         "-9.8304443359375",
         "21.79638671875",
         "-13.99053955078125",
         "22.0873182094147",
         "52.67063398234474",
         "-0.397073519326903",
         "16.858483595060612",
         "37.08124480926588",
         "-0.4267028619730242",
         "113.0435027851539",
         "1.0",
         "1.0",
         "3.0",
         "2.0",
         "295.6209254317086",
         "-2.8971414883816538",
         "-2.874026158054359",
         "295.6209254317086",
         "-0.34977387322922304",
         "-0.31594031395133193",
         "0.0",
         "1.0",
         "475.4235401820792",
         "2.771305856087908",
         "2.7502704283590327",
         "-172.04760487507886",
         "-443.2010426612395",
         "100.0",
         "400.0",
         "0.0",
         "0.0",
         "0.0",
         "0.161066",
         "-1.4600969001729167e-06",
         "0.0",
         "100.161066",
         null,
         null,
         null,
         "0.0",
         "32.5",
         "-22.660177231672986",
         "-19.92672674900885",
         "-17.261710758718753",
         "-4.395264295190636",
         "176.868791",
         "473.799188",
         "9.0",
         "0.0",
         "-1.5816977109027075",
         "0.0",
         "0.0",
         "0.0",
         "0.0",
         "0.0",
         "0.0",
         "23.87823486328125",
         "-10.120361328125",
         "21.49945068359375",
         "-13.25994873046875",
         "21.53677072984847",
         "51.06892882092091",
         "-0.39908888280143",
         "17.478256094174533",
         "39.31237689985297",
         "-0.4183536524261617",
         "121.6222886812496",
         "1.0",
         "1.0",
         "3.0",
         "2.0",
         "295.6209254317086",
         "-2.8971414883816538",
         "-2.874026158054359",
         "295.6209254317086",
         "-0.34977387322922304",
         "-0.31594031395133193",
         "0.0",
         "1.0",
         "475.4235401820792",
         "2.771305856087908",
         "2.7502704283590327",
         "-172.04760487507886",
         "-443.2010426612395",
         "100.0",
         "400.0",
         "0.0",
         "0.0",
         "0.0",
         "0.195571",
         "-1.4600969001729167e-06",
         "0.0",
         "100.195571",
         null,
         null,
         null,
         "0.0",
         "32.5",
         "-22.092202008008936",
         "-18.331118370774316",
         "-17.90576837743179",
         "-6.619507568774509",
         "176.868791",
         "473.799188",
         "7.0",
         "0.0",
         "-1.5816977109027075",
         "188.4596237347691",
         "-94.22981186738456",
         "0.0",
         "0.0",
         "0.0",
         "0.0",
         "23.7607421875",
         "-9.943511962890623",
         "21.87969970703125",
         "-15.100921630859377",
         "21.83361689189319",
         "52.050823765416574",
         "-0.397175056849937",
         "15.80442825738437",
         "34.18732776447064",
         "-0.4330264003234125",
         "2.9021730027375217",
         "1.0",
         "1.0",
         "2.0",
         "1.0",
         "381.330328653104",
         "-2.8971414883816538",
         "-2.874026158054359",
         "381.330328653104",
         "0.5136717134798128",
         "0.4874447240024907",
         "0.0",
         "1.0",
         "475.4235401820792",
         "2.771305856087908",
         "2.7502704283590327",
         "-172.04760487507886",
         "-443.2010426612395",
         "100.0",
         "400.0",
         "0.0",
         "0.0",
         "0.0",
         "0.144483",
         "-1.4600969001729167e-06",
         "0.0",
         "100.144483",
         null,
         null,
         null,
         "0.0",
         "32.5",
         "-22.39973433353692",
         "-19.309719001625417",
         "-16.17617097605344",
         "-1.513009640013344",
         "176.868791",
         "473.799188",
         "10.0",
         "0.0",
         "-1.5816977109027075",
         "0.0",
         "0.0",
         "0.0",
         "0.0",
         "0.0",
         "0.0",
         "23.8077392578125",
         "-10.11456298828125",
         "21.3477783203125",
         "-12.8482666015625",
         "21.48575809001315",
         "51.12786799348737",
         "-0.397828376469473",
         "17.870382790574723",
         "40.67335615531292",
         "-0.4139733789909456",
         "47.1282992257406",
         "1.0",
         "1.0",
         "3.0",
         "2.0",
         "295.6209254317086",
         "-2.8971414883816538",
         "-2.874026158054359",
         "295.6209254317086",
         "-0.34977387322922304",
         "-0.31594031395133193",
         "0.0",
         "1.0",
         "475.4235401820792",
         "2.771305856087908",
         "2.7502704283590327",
         "-172.04760487507886",
         "-443.2010426612395",
         "100.0",
         "400.0",
         "0.0",
         "0.0",
         "0.0",
         "0.211064",
         "-1.4600969001729167e-06",
         "0.0",
         "100.211064",
         null,
         null,
         null,
         "0.0",
         "32.5",
         "-22.04183490515218",
         "-18.390610138571247",
         "-18.31270803762512",
         "-7.976131316459835",
         "176.868791",
         "473.799188",
         "6.0",
         "0.0",
         "1.5707963267948966",
         "188.4596237347691",
         "0.0",
         "0.0",
         "0.0",
         "1.0",
         "0.0",
         "23.78424072265625",
         "-9.468048095703123",
         "21.7835693359375",
         "-16.34466552734375",
         "23.01669280169996",
         "54.72201255725338",
         "-0.3981474515606464",
         "14.686992773520432",
         "31.44550967845907",
         "-0.4369514880523075",
         "2.9021730027375217",
         "1.0",
         "1.0",
         "1.0",
         "1.0",
         "432.6518567867511",
         "0.23354978110032865",
         "0.21043445077303385",
         "432.6518567867511",
         "0.23354978110032865",
         "0.21043445077303385",
         "0.0",
         "1.0",
         "475.4235401820792",
         "-0.381188181609696",
         "-0.3601527538808206",
         "176.86879099999987",
         "441.29918800000013",
         "100.0",
         "400.0",
         "0.0",
         "0.0",
         "0.0",
         "0.127871",
         "-1.4600969001729167e-06",
         "-0.7068259141933577",
         "100.127871",
         null,
         null,
         null,
         "0.0",
         "32.5",
         "23.01669280169996",
         "87.22201255725338",
         "14.686992773520432",
         "63.94550967845908",
         "176.868791",
         "473.799188",
         "11.0",
         "0.0",
         "-1.5816977109027075",
         "0.0",
         "0.0",
         "0.0",
         "0.0",
         "0.0",
         "0.0",
         "23.61761474609375",
         "-9.926116943359377",
         "21.3734130859375",
         "-12.6627197265625",
         "21.74139121825639",
         "52.20373701548219",
         "-0.3946251805601601",
         "18.125261559345702",
         "41.28690261357975",
         "-0.4136750860569744",
         "53.31595074583661",
         "1.0",
         "1.0",
         "3.0",
         "2.0",
         "295.6209254317086",
         "-2.8971414883816538",
         "-2.874026158054359",
         "295.6209254317086",
         "-0.34977387322922304",
         "-0.31594031395133193",
         "0.0",
         "1.0",
         "475.4235401820792",
         "2.771305856087908",
         "2.7502704283590327",
         "-172.04760487507886",
         "-443.2010426612395",
         "100.0",
         "400.0",
         "0.0",
         "0.0",
         "0.0",
         "0.227615",
         "-1.4600969001729167e-06",
         "0.0",
         "100.227615",
         null,
         null,
         null,
         "0.0",
         "32.5",
         "-22.309181072960712",
         "-19.46362853324191",
         "-18.574260034760425",
         "-8.586862841777233",
         "176.868791",
         "473.799188",
         "0.0",
         "0.0",
         "0.0",
         "0.0",
         "0.0",
         "0.0",
         "0.0",
         "0.0",
         "0.0",
         "0.0",
         "0.0",
         "0.0",
         "0.0",
         "0.0",
         "0.0",
         "0.0",
         "0.0",
         "0.0",
         "0.0",
         "0.0",
         "0.0",
         "0.0",
         "0.0",
         "0.0",
         "0.0",
         "0.0",
         "0.0",
         "0.0",
         "0.0",
         "0.0",
         "0.0",
         "0.0",
         "0.0",
         "0.0",
         "0.0",
         "0.0",
         "0.0",
         "0.0",
         "0.0",
         "0.0",
         "0.0",
         "0.0",
         "0.0",
         "0.0",
         "0.0",
         "0.0",
         "0.0",
         "0.0",
         "0.0",
         "0.0",
         "0.0",
         "0.0",
         "0.0",
         "0.0",
         "0.0",
         "0.0",
         "0.0",
         "12.0",
         "0.0",
         "-1.5816977109027075",
         "0.0",
         "0.0",
         "0.0",
         "0.0",
         "0.0",
         "0.0",
         "23.74365234375",
         "-10.03338623046875",
         "21.45458984375",
         "-12.253936767578123",
         "21.61104758383407",
         "51.57919910982437",
         "-0.3967671340981358",
         "18.733104136196246",
         "42.69521387195859",
         "-0.4134705131869145",
         "27.554108713912683",
         "1.0",
         "1.0",
         "3.0",
         "2.0",
         "295.6209254317086",
         "-2.8971414883816538",
         "-2.874026158054359",
         "295.6209254317086",
         "-0.34977387322922304",
         "-0.31594031395133193",
         "0.0",
         "1.0",
         "475.4235401820792",
         "2.771305856087908",
         "2.7502704283590327",
         "-172.04760487507886",
         "-443.2010426612395",
         "100.0",
         "400.0",
         "0.0",
         "0.0",
         "0.0",
         "0.244269",
         "-1.4600969001729167e-06",
         "0.0",
         "100.244269",
         null,
         null,
         null,
         "0.0",
         "32.5",
         "-22.172036990742093",
         "-18.84054863519489",
         "-19.19741873179903",
         "-9.98846422484378",
         "176.868791",
         "473.799188",
         "0.0",
         "0.0",
         "0.0",
         "0.0",
         "0.0",
         "0.0",
         "0.0",
         "0.0",
         "0.0",
         "0.0",
         "0.0",
         "0.0",
         "0.0",
         "0.0",
         "0.0",
         "0.0",
         "0.0",
         "0.0",
         "0.0",
         "0.0",
         "0.0",
         "0.0",
         "0.0",
         "0.0",
         "0.0",
         "0.0",
         "0.0",
         "0.0",
         "0.0",
         "0.0",
         "0.0",
         "0.0",
         "0.0",
         "0.0",
         "0.0",
         "0.0",
         "0.0",
         "0.0",
         "0.0",
         "0.0",
         "0.0",
         "0.0",
         "0.0",
         "0.0",
         "0.0",
         "0.0",
         "0.0",
         "0.0",
         "0.0",
         "0.0",
         "0.0",
         "0.0",
         "0.0",
         "0.0",
         "0.0",
         "0.0",
         "0.0",
         "13.0",
         "0.0",
         "-1.5816977109027075",
         "0.0",
         "0.0",
         "0.0",
         "0.0",
         "0.0",
         "0.0",
         "23.598388671875",
         "-10.11456298828125",
         "21.37554931640625",
         "-12.2916259765625",
         "21.29525143809066",
         "51.2130888778084",
         "-0.3940665664463347",
         "18.62074607104865",
         "42.583525905751706",
         "-0.4122222591934497",
         "19.097641451270924",
         "1.0",
         "1.0",
         "3.0",
         "2.0",
         "295.6209254317086",
         "-2.8971414883816538",
         "-2.874026158054359",
         "295.6209254317086",
         "-0.34977387322922304",
         "-0.31594031395133193",
         "0.0",
         "1.0",
         "475.4235401820792",
         "2.771305856087908",
         "2.7502704283590327",
         "-172.04760487507886",
         "-443.2010426612395",
         "100.0",
         "400.0",
         "0.0",
         "0.0",
         "0.0",
         "0.261066",
         "-1.4600969001729167e-06",
         "0.0",
         "100.261066",
         null,
         null,
         null,
         "0.0",
         "32.5",
         "-21.85226858023273",
         "-18.477902704163668",
         "-19.08384981360713",
         "-9.878007729245454",
         "176.868791",
         "473.799188",
         "0.0",
         "0.0",
         "0.0",
         "0.0",
         "0.0",
         "0.0",
         "0.0",
         "0.0",
         "0.0",
         "0.0",
         "0.0",
         "0.0",
         "0.0",
         "0.0",
         "0.0",
         "0.0",
         "0.0",
         "0.0",
         "0.0",
         "0.0",
         "0.0",
         "0.0",
         "0.0",
         "0.0",
         "0.0",
         "0.0",
         "0.0",
         "0.0",
         "0.0",
         "0.0",
         "0.0",
         "0.0",
         "0.0",
         "0.0",
         "0.0",
         "0.0",
         "0.0",
         "0.0",
         "0.0",
         "0.0",
         "0.0",
         "0.0",
         "0.0",
         "0.0",
         "0.0",
         "0.0",
         "0.0",
         "0.0",
         "0.0",
         "0.0",
         "0.0",
         "0.0",
         "0.0",
         "0.0",
         "0.0",
         "0.0",
         "0.0"
        ]
       ],
       "shape": {
        "columns": 627,
        "rows": 3
       }
      },
      "text/html": [
       "<div>\n",
       "<style scoped>\n",
       "    .dataframe tbody tr th:only-of-type {\n",
       "        vertical-align: middle;\n",
       "    }\n",
       "\n",
       "    .dataframe tbody tr th {\n",
       "        vertical-align: top;\n",
       "    }\n",
       "\n",
       "    .dataframe thead th {\n",
       "        text-align: right;\n",
       "    }\n",
       "</style>\n",
       "<table border=\"1\" class=\"dataframe\">\n",
       "  <thead>\n",
       "    <tr style=\"text-align: right;\">\n",
       "      <th></th>\n",
       "      <th>bin_0</th>\n",
       "      <th>monkey_speed_0</th>\n",
       "      <th>monkey_angle_0</th>\n",
       "      <th>monkey_dw_0</th>\n",
       "      <th>monkey_ddw_0</th>\n",
       "      <th>monkey_ddv_0</th>\n",
       "      <th>monkey_speeddummy_0</th>\n",
       "      <th>whether_new_distinct_stop_0</th>\n",
       "      <th>delta_distance_0</th>\n",
       "      <th>LDy_0</th>\n",
       "      <th>...</th>\n",
       "      <th>cum_distance_since_target_last_seen_5</th>\n",
       "      <th>d_heading_since_target_last_seen_5</th>\n",
       "      <th>monkey_x_5</th>\n",
       "      <th>monkey_y_5</th>\n",
       "      <th>gaze_world_x_l_5</th>\n",
       "      <th>gaze_world_y_l_5</th>\n",
       "      <th>gaze_world_x_r_5</th>\n",
       "      <th>gaze_world_y_r_5</th>\n",
       "      <th>target_x_5</th>\n",
       "      <th>target_y_5</th>\n",
       "    </tr>\n",
       "  </thead>\n",
       "  <tbody>\n",
       "    <tr>\n",
       "      <th>0</th>\n",
       "      <td>6.00000</td>\n",
       "      <td>0.00000</td>\n",
       "      <td>1.57080</td>\n",
       "      <td>188.45962</td>\n",
       "      <td>0.00000</td>\n",
       "      <td>0.00000</td>\n",
       "      <td>0.00000</td>\n",
       "      <td>1.00000</td>\n",
       "      <td>0.00000</td>\n",
       "      <td>23.78424</td>\n",
       "      <td>...</td>\n",
       "      <td>0.00000</td>\n",
       "      <td>0.00000</td>\n",
       "      <td>0.00000</td>\n",
       "      <td>0.00000</td>\n",
       "      <td>0.00000</td>\n",
       "      <td>0.00000</td>\n",
       "      <td>0.00000</td>\n",
       "      <td>0.00000</td>\n",
       "      <td>0.00000</td>\n",
       "      <td>0.00000</td>\n",
       "    </tr>\n",
       "    <tr>\n",
       "      <th>1</th>\n",
       "      <td>7.00000</td>\n",
       "      <td>0.00000</td>\n",
       "      <td>-1.58170</td>\n",
       "      <td>188.45962</td>\n",
       "      <td>-94.22981</td>\n",
       "      <td>0.00000</td>\n",
       "      <td>0.00000</td>\n",
       "      <td>0.00000</td>\n",
       "      <td>0.00000</td>\n",
       "      <td>23.76074</td>\n",
       "      <td>...</td>\n",
       "      <td>0.00000</td>\n",
       "      <td>0.00000</td>\n",
       "      <td>0.00000</td>\n",
       "      <td>0.00000</td>\n",
       "      <td>0.00000</td>\n",
       "      <td>0.00000</td>\n",
       "      <td>0.00000</td>\n",
       "      <td>0.00000</td>\n",
       "      <td>0.00000</td>\n",
       "      <td>0.00000</td>\n",
       "    </tr>\n",
       "    <tr>\n",
       "      <th>2</th>\n",
       "      <td>8.00000</td>\n",
       "      <td>0.00000</td>\n",
       "      <td>-1.58170</td>\n",
       "      <td>0.00000</td>\n",
       "      <td>-94.22981</td>\n",
       "      <td>0.00000</td>\n",
       "      <td>0.00000</td>\n",
       "      <td>0.00000</td>\n",
       "      <td>0.00000</td>\n",
       "      <td>23.74792</td>\n",
       "      <td>...</td>\n",
       "      <td>0.00000</td>\n",
       "      <td>0.00000</td>\n",
       "      <td>0.00000</td>\n",
       "      <td>0.00000</td>\n",
       "      <td>0.00000</td>\n",
       "      <td>0.00000</td>\n",
       "      <td>0.00000</td>\n",
       "      <td>0.00000</td>\n",
       "      <td>0.00000</td>\n",
       "      <td>0.00000</td>\n",
       "    </tr>\n",
       "  </tbody>\n",
       "</table>\n",
       "<p>3 rows × 627 columns</p>\n",
       "</div>"
      ],
      "text/plain": [
       "    bin_0  monkey_speed_0  monkey_angle_0  monkey_dw_0  monkey_ddw_0  \\\n",
       "0 6.00000         0.00000         1.57080    188.45962       0.00000   \n",
       "1 7.00000         0.00000        -1.58170    188.45962     -94.22981   \n",
       "2 8.00000         0.00000        -1.58170      0.00000     -94.22981   \n",
       "\n",
       "   monkey_ddv_0  monkey_speeddummy_0  whether_new_distinct_stop_0  \\\n",
       "0       0.00000              0.00000                      1.00000   \n",
       "1       0.00000              0.00000                      0.00000   \n",
       "2       0.00000              0.00000                      0.00000   \n",
       "\n",
       "   delta_distance_0    LDy_0  ...  cum_distance_since_target_last_seen_5  \\\n",
       "0           0.00000 23.78424  ...                                0.00000   \n",
       "1           0.00000 23.76074  ...                                0.00000   \n",
       "2           0.00000 23.74792  ...                                0.00000   \n",
       "\n",
       "   d_heading_since_target_last_seen_5  monkey_x_5  monkey_y_5  \\\n",
       "0                             0.00000     0.00000     0.00000   \n",
       "1                             0.00000     0.00000     0.00000   \n",
       "2                             0.00000     0.00000     0.00000   \n",
       "\n",
       "   gaze_world_x_l_5  gaze_world_y_l_5  gaze_world_x_r_5  gaze_world_y_r_5  \\\n",
       "0           0.00000           0.00000           0.00000           0.00000   \n",
       "1           0.00000           0.00000           0.00000           0.00000   \n",
       "2           0.00000           0.00000           0.00000           0.00000   \n",
       "\n",
       "   target_x_5  target_y_5  \n",
       "0     0.00000     0.00000  \n",
       "1     0.00000     0.00000  \n",
       "2     0.00000     0.00000  \n",
       "\n",
       "[3 rows x 627 columns]"
      ]
     },
     "execution_count": 9,
     "metadata": {},
     "output_type": "execute_result"
    }
   ],
   "source": [
    "dec.y_var_lags.head(3)"
   ]
  },
  {
   "cell_type": "code",
   "execution_count": 12,
   "metadata": {},
   "outputs": [
    {
     "data": {
      "application/vnd.microsoft.datawrangler.viewer.v0+json": {
       "columns": [
        {
         "name": "index",
         "rawType": "int64",
         "type": "integer"
        },
        {
         "name": "unit_0",
         "rawType": "float64",
         "type": "float"
        },
        {
         "name": "unit_1",
         "rawType": "float64",
         "type": "float"
        },
        {
         "name": "unit_2",
         "rawType": "float64",
         "type": "float"
        },
        {
         "name": "unit_3",
         "rawType": "float64",
         "type": "float"
        },
        {
         "name": "unit_4",
         "rawType": "float64",
         "type": "float"
        },
        {
         "name": "unit_5",
         "rawType": "float64",
         "type": "float"
        },
        {
         "name": "unit_6",
         "rawType": "float64",
         "type": "float"
        },
        {
         "name": "unit_7",
         "rawType": "float64",
         "type": "float"
        },
        {
         "name": "unit_8",
         "rawType": "float64",
         "type": "float"
        },
        {
         "name": "unit_9",
         "rawType": "float64",
         "type": "float"
        },
        {
         "name": "unit_10",
         "rawType": "float64",
         "type": "float"
        },
        {
         "name": "unit_11",
         "rawType": "float64",
         "type": "float"
        },
        {
         "name": "unit_12",
         "rawType": "float64",
         "type": "float"
        },
        {
         "name": "unit_13",
         "rawType": "float64",
         "type": "float"
        },
        {
         "name": "unit_14",
         "rawType": "float64",
         "type": "float"
        },
        {
         "name": "unit_15",
         "rawType": "float64",
         "type": "float"
        },
        {
         "name": "unit_16",
         "rawType": "float64",
         "type": "float"
        },
        {
         "name": "unit_17",
         "rawType": "float64",
         "type": "float"
        },
        {
         "name": "unit_18",
         "rawType": "float64",
         "type": "float"
        },
        {
         "name": "unit_19",
         "rawType": "float64",
         "type": "float"
        },
        {
         "name": "unit_20",
         "rawType": "float64",
         "type": "float"
        },
        {
         "name": "unit_21",
         "rawType": "float64",
         "type": "float"
        },
        {
         "name": "unit_22",
         "rawType": "float64",
         "type": "float"
        },
        {
         "name": "unit_23",
         "rawType": "float64",
         "type": "float"
        },
        {
         "name": "unit_24",
         "rawType": "float64",
         "type": "float"
        },
        {
         "name": "unit_25",
         "rawType": "float64",
         "type": "float"
        },
        {
         "name": "unit_26",
         "rawType": "float64",
         "type": "float"
        },
        {
         "name": "unit_27",
         "rawType": "float64",
         "type": "float"
        },
        {
         "name": "unit_28",
         "rawType": "float64",
         "type": "float"
        },
        {
         "name": "unit_29",
         "rawType": "float64",
         "type": "float"
        },
        {
         "name": "unit_30",
         "rawType": "float64",
         "type": "float"
        },
        {
         "name": "unit_31",
         "rawType": "float64",
         "type": "float"
        },
        {
         "name": "unit_32",
         "rawType": "float64",
         "type": "float"
        },
        {
         "name": "unit_33",
         "rawType": "float64",
         "type": "float"
        },
        {
         "name": "unit_34",
         "rawType": "float64",
         "type": "float"
        },
        {
         "name": "unit_35",
         "rawType": "float64",
         "type": "float"
        },
        {
         "name": "unit_36",
         "rawType": "float64",
         "type": "float"
        },
        {
         "name": "unit_37",
         "rawType": "float64",
         "type": "float"
        },
        {
         "name": "unit_38",
         "rawType": "float64",
         "type": "float"
        },
        {
         "name": "unit_39",
         "rawType": "float64",
         "type": "float"
        },
        {
         "name": "unit_40",
         "rawType": "float64",
         "type": "float"
        },
        {
         "name": "unit_41",
         "rawType": "float64",
         "type": "float"
        },
        {
         "name": "unit_42",
         "rawType": "float64",
         "type": "float"
        },
        {
         "name": "unit_43",
         "rawType": "float64",
         "type": "float"
        },
        {
         "name": "unit_44",
         "rawType": "float64",
         "type": "float"
        },
        {
         "name": "unit_45",
         "rawType": "float64",
         "type": "float"
        },
        {
         "name": "unit_46",
         "rawType": "float64",
         "type": "float"
        },
        {
         "name": "unit_47",
         "rawType": "float64",
         "type": "float"
        },
        {
         "name": "unit_48",
         "rawType": "float64",
         "type": "float"
        },
        {
         "name": "unit_49",
         "rawType": "float64",
         "type": "float"
        },
        {
         "name": "unit_50",
         "rawType": "float64",
         "type": "float"
        },
        {
         "name": "unit_51",
         "rawType": "float64",
         "type": "float"
        },
        {
         "name": "unit_52",
         "rawType": "float64",
         "type": "float"
        },
        {
         "name": "unit_53",
         "rawType": "float64",
         "type": "float"
        },
        {
         "name": "unit_54",
         "rawType": "float64",
         "type": "float"
        },
        {
         "name": "unit_55",
         "rawType": "float64",
         "type": "float"
        },
        {
         "name": "unit_56",
         "rawType": "float64",
         "type": "float"
        },
        {
         "name": "unit_57",
         "rawType": "float64",
         "type": "float"
        },
        {
         "name": "unit_58",
         "rawType": "float64",
         "type": "float"
        },
        {
         "name": "unit_59",
         "rawType": "float64",
         "type": "float"
        },
        {
         "name": "unit_60",
         "rawType": "float64",
         "type": "float"
        },
        {
         "name": "unit_61",
         "rawType": "float64",
         "type": "float"
        },
        {
         "name": "unit_62",
         "rawType": "float64",
         "type": "float"
        },
        {
         "name": "unit_63",
         "rawType": "float64",
         "type": "float"
        },
        {
         "name": "unit_64",
         "rawType": "float64",
         "type": "float"
        },
        {
         "name": "unit_65",
         "rawType": "float64",
         "type": "float"
        },
        {
         "name": "unit_66",
         "rawType": "float64",
         "type": "float"
        },
        {
         "name": "unit_67",
         "rawType": "float64",
         "type": "float"
        },
        {
         "name": "unit_68",
         "rawType": "float64",
         "type": "float"
        },
        {
         "name": "unit_69",
         "rawType": "float64",
         "type": "float"
        },
        {
         "name": "unit_70",
         "rawType": "float64",
         "type": "float"
        },
        {
         "name": "unit_71",
         "rawType": "float64",
         "type": "float"
        },
        {
         "name": "unit_72",
         "rawType": "float64",
         "type": "float"
        },
        {
         "name": "unit_73",
         "rawType": "float64",
         "type": "float"
        },
        {
         "name": "unit_74",
         "rawType": "float64",
         "type": "float"
        },
        {
         "name": "unit_75",
         "rawType": "float64",
         "type": "float"
        },
        {
         "name": "unit_76",
         "rawType": "float64",
         "type": "float"
        },
        {
         "name": "unit_77",
         "rawType": "float64",
         "type": "float"
        },
        {
         "name": "unit_78",
         "rawType": "float64",
         "type": "float"
        },
        {
         "name": "unit_79",
         "rawType": "float64",
         "type": "float"
        },
        {
         "name": "unit_80",
         "rawType": "float64",
         "type": "float"
        },
        {
         "name": "unit_81",
         "rawType": "float64",
         "type": "float"
        },
        {
         "name": "unit_82",
         "rawType": "float64",
         "type": "float"
        },
        {
         "name": "unit_83",
         "rawType": "float64",
         "type": "float"
        },
        {
         "name": "unit_84",
         "rawType": "float64",
         "type": "float"
        },
        {
         "name": "unit_85",
         "rawType": "float64",
         "type": "float"
        },
        {
         "name": "bin",
         "rawType": "int64",
         "type": "integer"
        }
       ],
       "ref": "93c9b6c7-8a46-4010-9ec4-cd08f49e5aab",
       "rows": [
        [
         "0",
         "0.0",
         "0.0",
         "0.0",
         "0.0",
         "0.0",
         "0.0",
         "0.0",
         "0.0",
         "0.0",
         "0.0",
         "0.0",
         "0.0",
         "0.0",
         "0.0",
         "0.0",
         "0.0",
         "0.0",
         "0.0",
         "0.0",
         "0.0",
         "0.0",
         "0.0",
         "0.0",
         "0.0",
         "0.0",
         "0.0",
         "0.0",
         "0.0",
         "0.0",
         "0.0",
         "0.0",
         "0.0",
         "0.0",
         "0.0",
         "0.0",
         "0.0",
         "0.0",
         "0.0",
         "0.0",
         "0.0",
         "0.0",
         "0.0",
         "0.0",
         "0.0",
         "0.0",
         "0.0",
         "0.0",
         "0.0",
         "0.0",
         "0.0",
         "0.0",
         "0.0",
         "0.0",
         "0.0",
         "0.0",
         "0.0",
         "0.0",
         "0.0",
         "0.0",
         "0.0",
         "0.0",
         "0.0",
         "0.0",
         "0.0",
         "0.0",
         "0.0",
         "0.0",
         "0.0",
         "0.0",
         "0.0",
         "0.0",
         "0.0",
         "0.0",
         "0.0",
         "0.0",
         "0.0",
         "0.0",
         "0.0",
         "0.0",
         "0.0",
         "0.0",
         "0.0",
         "0.0",
         "0.0",
         "0.0",
         "0.0",
         "0"
        ],
        [
         "1",
         "0.0",
         "0.0",
         "0.0",
         "0.0",
         "0.0",
         "0.0",
         "0.0",
         "0.0",
         "0.0",
         "0.0",
         "0.0",
         "0.0",
         "0.0",
         "0.0",
         "0.0",
         "0.0",
         "0.0",
         "0.0",
         "0.0",
         "0.0",
         "0.0",
         "0.0",
         "0.0",
         "0.0",
         "0.0",
         "0.0",
         "0.0",
         "0.0",
         "0.0",
         "0.0",
         "0.0",
         "0.0",
         "0.0",
         "0.0",
         "0.0",
         "0.0",
         "0.0",
         "0.0",
         "0.0",
         "0.0",
         "0.0",
         "0.0",
         "0.0",
         "0.0",
         "0.0",
         "0.0",
         "0.0",
         "0.0",
         "0.0",
         "0.0",
         "0.0",
         "0.0",
         "0.0",
         "0.0",
         "0.0",
         "0.0",
         "0.0",
         "0.0",
         "0.0",
         "0.0",
         "0.0",
         "0.0",
         "0.0",
         "0.0",
         "0.0",
         "0.0",
         "0.0",
         "0.0",
         "0.0",
         "0.0",
         "0.0",
         "0.0",
         "0.0",
         "0.0",
         "0.0",
         "0.0",
         "0.0",
         "0.0",
         "0.0",
         "0.0",
         "0.0",
         "0.0",
         "0.0",
         "0.0",
         "0.0",
         "0.0",
         "1"
        ],
        [
         "2",
         "0.0",
         "0.0",
         "0.0",
         "0.0",
         "0.0",
         "0.0",
         "0.0",
         "0.0",
         "0.0",
         "0.0",
         "0.0",
         "0.0",
         "0.0",
         "0.0",
         "0.0",
         "0.0",
         "0.0",
         "0.0",
         "0.0",
         "0.0",
         "0.0",
         "0.0",
         "0.0",
         "0.0",
         "0.0",
         "0.0",
         "0.0",
         "0.0",
         "0.0",
         "0.0",
         "0.0",
         "0.0",
         "0.0",
         "0.0",
         "0.0",
         "0.0",
         "0.0",
         "0.0",
         "0.0",
         "0.0",
         "0.0",
         "0.0",
         "0.0",
         "0.0",
         "0.0",
         "0.0",
         "0.0",
         "0.0",
         "0.0",
         "0.0",
         "0.0",
         "0.0",
         "0.0",
         "0.0",
         "0.0",
         "0.0",
         "0.0",
         "0.0",
         "0.0",
         "0.0",
         "0.0",
         "0.0",
         "0.0",
         "0.0",
         "0.0",
         "0.0",
         "0.0",
         "0.0",
         "0.0",
         "0.0",
         "0.0",
         "0.0",
         "0.0",
         "0.0",
         "0.0",
         "0.0",
         "0.0",
         "0.0",
         "0.0",
         "0.0",
         "0.0",
         "0.0",
         "0.0",
         "0.0",
         "0.0",
         "0.0",
         "2"
        ],
        [
         "3",
         "0.0",
         "0.0",
         "0.0",
         "0.0",
         "0.0",
         "0.0",
         "0.0",
         "0.0",
         "0.0",
         "0.0",
         "0.0",
         "0.0",
         "0.0",
         "0.0",
         "0.0",
         "0.0",
         "0.0",
         "0.0",
         "0.0",
         "0.0",
         "0.0",
         "0.0",
         "0.0",
         "0.0",
         "0.0",
         "0.0",
         "0.0",
         "0.0",
         "0.0",
         "0.0",
         "0.0",
         "0.0",
         "0.0",
         "0.0",
         "0.0",
         "0.0",
         "0.0",
         "0.0",
         "0.0",
         "0.0",
         "0.0",
         "0.0",
         "0.0",
         "0.0",
         "0.0",
         "0.0",
         "0.0",
         "0.0",
         "0.0",
         "0.0",
         "0.0",
         "0.0",
         "0.0",
         "0.0",
         "0.0",
         "0.0",
         "0.0",
         "0.0",
         "0.0",
         "0.0",
         "0.0",
         "0.0",
         "0.0",
         "0.0",
         "0.0",
         "0.0",
         "0.0",
         "0.0",
         "0.0",
         "0.0",
         "0.0",
         "0.0",
         "0.0",
         "0.0",
         "0.0",
         "0.0",
         "0.0",
         "0.0",
         "0.0",
         "0.0",
         "0.0",
         "0.0",
         "0.0",
         "0.0",
         "0.0",
         "0.0",
         "3"
        ],
        [
         "4",
         "0.0",
         "0.0",
         "0.0",
         "0.0",
         "0.0",
         "0.0",
         "0.0",
         "0.0",
         "0.0",
         "0.0",
         "0.0",
         "0.0",
         "0.0",
         "0.0",
         "0.0",
         "0.0",
         "0.0",
         "0.0",
         "0.0",
         "0.0",
         "0.0",
         "0.0",
         "0.0",
         "0.0",
         "0.0",
         "0.0",
         "0.0",
         "0.0",
         "0.0",
         "0.0",
         "0.0",
         "0.0",
         "0.0",
         "0.0",
         "0.0",
         "0.0",
         "0.0",
         "0.0",
         "0.0",
         "0.0",
         "0.0",
         "0.0",
         "0.0",
         "0.0",
         "0.0",
         "0.0",
         "0.0",
         "0.0",
         "0.0",
         "0.0",
         "0.0",
         "0.0",
         "0.0",
         "0.0",
         "0.0",
         "0.0",
         "0.0",
         "0.0",
         "0.0",
         "0.0",
         "0.0",
         "0.0",
         "0.0",
         "0.0",
         "0.0",
         "0.0",
         "0.0",
         "0.0",
         "0.0",
         "0.0",
         "0.0",
         "0.0",
         "0.0",
         "0.0",
         "0.0",
         "0.0",
         "0.0",
         "0.0",
         "0.0",
         "0.0",
         "0.0",
         "0.0",
         "0.0",
         "0.0",
         "0.0",
         "0.0",
         "4"
        ]
       ],
       "shape": {
        "columns": 87,
        "rows": 5
       }
      },
      "text/html": [
       "<div>\n",
       "<style scoped>\n",
       "    .dataframe tbody tr th:only-of-type {\n",
       "        vertical-align: middle;\n",
       "    }\n",
       "\n",
       "    .dataframe tbody tr th {\n",
       "        vertical-align: top;\n",
       "    }\n",
       "\n",
       "    .dataframe thead th {\n",
       "        text-align: right;\n",
       "    }\n",
       "</style>\n",
       "<table border=\"1\" class=\"dataframe\">\n",
       "  <thead>\n",
       "    <tr style=\"text-align: right;\">\n",
       "      <th></th>\n",
       "      <th>unit_0</th>\n",
       "      <th>unit_1</th>\n",
       "      <th>unit_2</th>\n",
       "      <th>unit_3</th>\n",
       "      <th>unit_4</th>\n",
       "      <th>unit_5</th>\n",
       "      <th>unit_6</th>\n",
       "      <th>unit_7</th>\n",
       "      <th>unit_8</th>\n",
       "      <th>unit_9</th>\n",
       "      <th>...</th>\n",
       "      <th>unit_77</th>\n",
       "      <th>unit_78</th>\n",
       "      <th>unit_79</th>\n",
       "      <th>unit_80</th>\n",
       "      <th>unit_81</th>\n",
       "      <th>unit_82</th>\n",
       "      <th>unit_83</th>\n",
       "      <th>unit_84</th>\n",
       "      <th>unit_85</th>\n",
       "      <th>bin</th>\n",
       "    </tr>\n",
       "  </thead>\n",
       "  <tbody>\n",
       "    <tr>\n",
       "      <th>0</th>\n",
       "      <td>0.00000</td>\n",
       "      <td>0.00000</td>\n",
       "      <td>0.00000</td>\n",
       "      <td>0.00000</td>\n",
       "      <td>0.00000</td>\n",
       "      <td>0.00000</td>\n",
       "      <td>0.00000</td>\n",
       "      <td>0.00000</td>\n",
       "      <td>0.00000</td>\n",
       "      <td>0.00000</td>\n",
       "      <td>...</td>\n",
       "      <td>0.00000</td>\n",
       "      <td>0.00000</td>\n",
       "      <td>0.00000</td>\n",
       "      <td>0.00000</td>\n",
       "      <td>0.00000</td>\n",
       "      <td>0.00000</td>\n",
       "      <td>0.00000</td>\n",
       "      <td>0.00000</td>\n",
       "      <td>0.00000</td>\n",
       "      <td>0</td>\n",
       "    </tr>\n",
       "    <tr>\n",
       "      <th>1</th>\n",
       "      <td>0.00000</td>\n",
       "      <td>0.00000</td>\n",
       "      <td>0.00000</td>\n",
       "      <td>0.00000</td>\n",
       "      <td>0.00000</td>\n",
       "      <td>0.00000</td>\n",
       "      <td>0.00000</td>\n",
       "      <td>0.00000</td>\n",
       "      <td>0.00000</td>\n",
       "      <td>0.00000</td>\n",
       "      <td>...</td>\n",
       "      <td>0.00000</td>\n",
       "      <td>0.00000</td>\n",
       "      <td>0.00000</td>\n",
       "      <td>0.00000</td>\n",
       "      <td>0.00000</td>\n",
       "      <td>0.00000</td>\n",
       "      <td>0.00000</td>\n",
       "      <td>0.00000</td>\n",
       "      <td>0.00000</td>\n",
       "      <td>1</td>\n",
       "    </tr>\n",
       "    <tr>\n",
       "      <th>2</th>\n",
       "      <td>0.00000</td>\n",
       "      <td>0.00000</td>\n",
       "      <td>0.00000</td>\n",
       "      <td>0.00000</td>\n",
       "      <td>0.00000</td>\n",
       "      <td>0.00000</td>\n",
       "      <td>0.00000</td>\n",
       "      <td>0.00000</td>\n",
       "      <td>0.00000</td>\n",
       "      <td>0.00000</td>\n",
       "      <td>...</td>\n",
       "      <td>0.00000</td>\n",
       "      <td>0.00000</td>\n",
       "      <td>0.00000</td>\n",
       "      <td>0.00000</td>\n",
       "      <td>0.00000</td>\n",
       "      <td>0.00000</td>\n",
       "      <td>0.00000</td>\n",
       "      <td>0.00000</td>\n",
       "      <td>0.00000</td>\n",
       "      <td>2</td>\n",
       "    </tr>\n",
       "    <tr>\n",
       "      <th>3</th>\n",
       "      <td>0.00000</td>\n",
       "      <td>0.00000</td>\n",
       "      <td>0.00000</td>\n",
       "      <td>0.00000</td>\n",
       "      <td>0.00000</td>\n",
       "      <td>0.00000</td>\n",
       "      <td>0.00000</td>\n",
       "      <td>0.00000</td>\n",
       "      <td>0.00000</td>\n",
       "      <td>0.00000</td>\n",
       "      <td>...</td>\n",
       "      <td>0.00000</td>\n",
       "      <td>0.00000</td>\n",
       "      <td>0.00000</td>\n",
       "      <td>0.00000</td>\n",
       "      <td>0.00000</td>\n",
       "      <td>0.00000</td>\n",
       "      <td>0.00000</td>\n",
       "      <td>0.00000</td>\n",
       "      <td>0.00000</td>\n",
       "      <td>3</td>\n",
       "    </tr>\n",
       "    <tr>\n",
       "      <th>4</th>\n",
       "      <td>0.00000</td>\n",
       "      <td>0.00000</td>\n",
       "      <td>0.00000</td>\n",
       "      <td>0.00000</td>\n",
       "      <td>0.00000</td>\n",
       "      <td>0.00000</td>\n",
       "      <td>0.00000</td>\n",
       "      <td>0.00000</td>\n",
       "      <td>0.00000</td>\n",
       "      <td>0.00000</td>\n",
       "      <td>...</td>\n",
       "      <td>0.00000</td>\n",
       "      <td>0.00000</td>\n",
       "      <td>0.00000</td>\n",
       "      <td>0.00000</td>\n",
       "      <td>0.00000</td>\n",
       "      <td>0.00000</td>\n",
       "      <td>0.00000</td>\n",
       "      <td>0.00000</td>\n",
       "      <td>0.00000</td>\n",
       "      <td>4</td>\n",
       "    </tr>\n",
       "  </tbody>\n",
       "</table>\n",
       "<p>5 rows × 87 columns</p>\n",
       "</div>"
      ],
      "text/plain": [
       "   unit_0  unit_1  unit_2  unit_3  unit_4  unit_5  unit_6  unit_7  unit_8  \\\n",
       "0 0.00000 0.00000 0.00000 0.00000 0.00000 0.00000 0.00000 0.00000 0.00000   \n",
       "1 0.00000 0.00000 0.00000 0.00000 0.00000 0.00000 0.00000 0.00000 0.00000   \n",
       "2 0.00000 0.00000 0.00000 0.00000 0.00000 0.00000 0.00000 0.00000 0.00000   \n",
       "3 0.00000 0.00000 0.00000 0.00000 0.00000 0.00000 0.00000 0.00000 0.00000   \n",
       "4 0.00000 0.00000 0.00000 0.00000 0.00000 0.00000 0.00000 0.00000 0.00000   \n",
       "\n",
       "   unit_9  ...  unit_77  unit_78  unit_79  unit_80  unit_81  unit_82  unit_83  \\\n",
       "0 0.00000  ...  0.00000  0.00000  0.00000  0.00000  0.00000  0.00000  0.00000   \n",
       "1 0.00000  ...  0.00000  0.00000  0.00000  0.00000  0.00000  0.00000  0.00000   \n",
       "2 0.00000  ...  0.00000  0.00000  0.00000  0.00000  0.00000  0.00000  0.00000   \n",
       "3 0.00000  ...  0.00000  0.00000  0.00000  0.00000  0.00000  0.00000  0.00000   \n",
       "4 0.00000  ...  0.00000  0.00000  0.00000  0.00000  0.00000  0.00000  0.00000   \n",
       "\n",
       "   unit_84  unit_85  bin  \n",
       "0  0.00000  0.00000    0  \n",
       "1  0.00000  0.00000    1  \n",
       "2  0.00000  0.00000    2  \n",
       "3  0.00000  0.00000    3  \n",
       "4  0.00000  0.00000    4  \n",
       "\n",
       "[5 rows x 87 columns]"
      ]
     },
     "execution_count": 12,
     "metadata": {},
     "output_type": "execute_result"
    }
   ],
   "source": [
    "dec.binned_spikes_df.head()"
   ]
  },
  {
   "cell_type": "code",
   "execution_count": 13,
   "metadata": {},
   "outputs": [
    {
     "data": {
      "text/plain": [
       "(179948, 87)"
      ]
     },
     "execution_count": 13,
     "metadata": {},
     "output_type": "execute_result"
    }
   ],
   "source": [
    "dec.binned_spikes_df.shape"
   ]
  },
  {
   "cell_type": "code",
   "execution_count": 18,
   "metadata": {},
   "outputs": [
    {
     "data": {
      "application/vnd.microsoft.datawrangler.viewer.v0+json": {
       "columns": [
        {
         "name": "index",
         "rawType": "int64",
         "type": "integer"
        },
        {
         "name": "bin",
         "rawType": "int64",
         "type": "integer"
        }
       ],
       "ref": "e3d4f683-dfcd-4f8f-bffa-b414b9f683df",
       "rows": [
        [
         "179943",
         "179943"
        ],
        [
         "179944",
         "179944"
        ],
        [
         "179945",
         "179945"
        ],
        [
         "179946",
         "179946"
        ],
        [
         "179947",
         "179947"
        ]
       ],
       "shape": {
        "columns": 1,
        "rows": 5
       }
      },
      "text/html": [
       "<div>\n",
       "<style scoped>\n",
       "    .dataframe tbody tr th:only-of-type {\n",
       "        vertical-align: middle;\n",
       "    }\n",
       "\n",
       "    .dataframe tbody tr th {\n",
       "        vertical-align: top;\n",
       "    }\n",
       "\n",
       "    .dataframe thead th {\n",
       "        text-align: right;\n",
       "    }\n",
       "</style>\n",
       "<table border=\"1\" class=\"dataframe\">\n",
       "  <thead>\n",
       "    <tr style=\"text-align: right;\">\n",
       "      <th></th>\n",
       "      <th>bin</th>\n",
       "    </tr>\n",
       "  </thead>\n",
       "  <tbody>\n",
       "    <tr>\n",
       "      <th>179943</th>\n",
       "      <td>179943</td>\n",
       "    </tr>\n",
       "    <tr>\n",
       "      <th>179944</th>\n",
       "      <td>179944</td>\n",
       "    </tr>\n",
       "    <tr>\n",
       "      <th>179945</th>\n",
       "      <td>179945</td>\n",
       "    </tr>\n",
       "    <tr>\n",
       "      <th>179946</th>\n",
       "      <td>179946</td>\n",
       "    </tr>\n",
       "    <tr>\n",
       "      <th>179947</th>\n",
       "      <td>179947</td>\n",
       "    </tr>\n",
       "  </tbody>\n",
       "</table>\n",
       "</div>"
      ],
      "text/plain": [
       "           bin\n",
       "179943  179943\n",
       "179944  179944\n",
       "179945  179945\n",
       "179946  179946\n",
       "179947  179947"
      ]
     },
     "execution_count": 18,
     "metadata": {},
     "output_type": "execute_result"
    }
   ],
   "source": [
    "dec.binned_spikes_df[['bin']].tail()"
   ]
  },
  {
   "cell_type": "code",
   "execution_count": 17,
   "metadata": {},
   "outputs": [
    {
     "data": {
      "application/vnd.microsoft.datawrangler.viewer.v0+json": {
       "columns": [
        {
         "name": "index",
         "rawType": "int64",
         "type": "integer"
        },
        {
         "name": "bin",
         "rawType": "int64",
         "type": "integer"
        },
        {
         "name": "point_index",
         "rawType": "int64",
         "type": "integer"
        },
        {
         "name": "monkey_speed",
         "rawType": "float64",
         "type": "float"
        },
        {
         "name": "monkey_angle",
         "rawType": "float64",
         "type": "float"
        },
        {
         "name": "monkey_dw",
         "rawType": "float64",
         "type": "float"
        },
        {
         "name": "monkey_ddw",
         "rawType": "float64",
         "type": "float"
        },
        {
         "name": "monkey_ddv",
         "rawType": "float64",
         "type": "float"
        },
        {
         "name": "monkey_speeddummy",
         "rawType": "int64",
         "type": "integer"
        },
        {
         "name": "whether_new_distinct_stop",
         "rawType": "bool",
         "type": "boolean"
        },
        {
         "name": "delta_distance",
         "rawType": "float64",
         "type": "float"
        },
        {
         "name": "LDy",
         "rawType": "float64",
         "type": "float"
        },
        {
         "name": "LDz",
         "rawType": "float64",
         "type": "float"
        },
        {
         "name": "RDy",
         "rawType": "float64",
         "type": "float"
        },
        {
         "name": "RDz",
         "rawType": "float64",
         "type": "float"
        },
        {
         "name": "gaze_mky_view_x_l",
         "rawType": "float64",
         "type": "float"
        },
        {
         "name": "gaze_mky_view_y_l",
         "rawType": "float64",
         "type": "float"
        },
        {
         "name": "gaze_mky_view_angle_l",
         "rawType": "float64",
         "type": "float"
        },
        {
         "name": "gaze_mky_view_x_r",
         "rawType": "float64",
         "type": "float"
        },
        {
         "name": "gaze_mky_view_y_r",
         "rawType": "float64",
         "type": "float"
        },
        {
         "name": "gaze_mky_view_angle_r",
         "rawType": "float64",
         "type": "float"
        },
        {
         "name": "eye_world_speed",
         "rawType": "float64",
         "type": "float"
        },
        {
         "name": "valid_view_point_l",
         "rawType": "bool",
         "type": "boolean"
        },
        {
         "name": "valid_view_point_r",
         "rawType": "bool",
         "type": "boolean"
        },
        {
         "name": "num_alive_ff",
         "rawType": "float64",
         "type": "float"
        },
        {
         "name": "num_visible_ff",
         "rawType": "float64",
         "type": "float"
        },
        {
         "name": "min_ff_distance",
         "rawType": "float64",
         "type": "float"
        },
        {
         "name": "min_abs_ff_angle",
         "rawType": "float64",
         "type": "float"
        },
        {
         "name": "min_abs_ff_angle_boundary",
         "rawType": "float64",
         "type": "float"
        },
        {
         "name": "min_visible_ff_distance",
         "rawType": "float64",
         "type": "float"
        },
        {
         "name": "min_abs_visible_ff_angle",
         "rawType": "float64",
         "type": "float"
        },
        {
         "name": "min_abs_visible_ff_angle_boundary",
         "rawType": "float64",
         "type": "float"
        },
        {
         "name": "catching_ff",
         "rawType": "int64",
         "type": "integer"
        },
        {
         "name": "any_ff_visible",
         "rawType": "int64",
         "type": "integer"
        },
        {
         "name": "target_distance",
         "rawType": "float64",
         "type": "float"
        },
        {
         "name": "target_angle",
         "rawType": "float64",
         "type": "float"
        },
        {
         "name": "target_angle_to_boundary",
         "rawType": "float64",
         "type": "float"
        },
        {
         "name": "target_rel_x",
         "rawType": "float64",
         "type": "float"
        },
        {
         "name": "target_rel_y",
         "rawType": "float64",
         "type": "float"
        },
        {
         "name": "time_since_target_last_seen",
         "rawType": "float64",
         "type": "float"
        },
        {
         "name": "target_last_seen_distance_frozen",
         "rawType": "float64",
         "type": "float"
        },
        {
         "name": "target_last_seen_angle_frozen",
         "rawType": "float64",
         "type": "float"
        },
        {
         "name": "target_last_seen_angle_to_boundary_frozen",
         "rawType": "float64",
         "type": "float"
        },
        {
         "name": "target_visible_dummy",
         "rawType": "int64",
         "type": "integer"
        },
        {
         "name": "time_since_last_capture",
         "rawType": "float64",
         "type": "float"
        },
        {
         "name": "traj_curv",
         "rawType": "float64",
         "type": "float"
        },
        {
         "name": "target_opt_arc_dheading",
         "rawType": "float64",
         "type": "float"
        },
        {
         "name": "target_last_seen_time_abs",
         "rawType": "float64",
         "type": "float"
        },
        {
         "name": "distance_from_monkey_pos_target_last_seen",
         "rawType": "float64",
         "type": "float"
        },
        {
         "name": "cum_distance_since_target_last_seen",
         "rawType": "float64",
         "type": "float"
        },
        {
         "name": "d_heading_since_target_last_seen",
         "rawType": "float64",
         "type": "float"
        },
        {
         "name": "time",
         "rawType": "float64",
         "type": "float"
        },
        {
         "name": "monkey_x",
         "rawType": "float64",
         "type": "float"
        },
        {
         "name": "monkey_y",
         "rawType": "float64",
         "type": "float"
        },
        {
         "name": "cum_distance",
         "rawType": "float64",
         "type": "float"
        },
        {
         "name": "gaze_world_x_l",
         "rawType": "float64",
         "type": "float"
        },
        {
         "name": "gaze_world_y_l",
         "rawType": "float64",
         "type": "float"
        },
        {
         "name": "gaze_world_x_r",
         "rawType": "float64",
         "type": "float"
        },
        {
         "name": "gaze_world_y_r",
         "rawType": "float64",
         "type": "float"
        },
        {
         "name": "target_index",
         "rawType": "int64",
         "type": "integer"
        },
        {
         "name": "target_x",
         "rawType": "float64",
         "type": "float"
        },
        {
         "name": "target_y",
         "rawType": "float64",
         "type": "float"
        }
       ],
       "ref": "73e804fe-2272-48cd-bb8b-f401736a2e1a",
       "rows": [
        [
         "179510",
         "179944",
         "217186",
         "0.0221230929136103",
         "-2.2619437801039037",
         "0.0",
         "0.0",
         "-4.713562201472532",
         "0",
         "True",
         "0.000371048514345884",
         "146.4957275390625",
         "-192.99420166015625",
         "132.9957275390625",
         "-193.99420166015625",
         "23.049395534712183",
         "-35.710350802098695",
         "-2.568419722618987",
         "31.745362809055727",
         "-26.367447785212285",
         "-2.2639146475956062",
         "0.0",
         "True",
         "True",
         "2.0",
         "1.0",
         "22.270276838991755",
         "-3.0484206911384932",
         "-3.000533413422206",
         "16.54558726217293",
         "1.1688607187472169",
         "0.5198597937998056",
         "0",
         "0",
         "10.55383877051688",
         "0.6133163360525216",
         "0.0",
         "-6.074605254205269",
         "8.630335091967575",
         "1229.880843",
         "142.1881897088664",
         "-0.1622054907706696",
         "-0.0918180548353713",
         "0",
         "1.3446930000000066",
         "0.00543935660655463",
         "0.04850946556567992",
         "4828.767750999999",
         "150.3049637560638",
         "15681.832552717358",
         "1.64928595046291",
         "3598.886908",
         "-979.146057",
         "-129.469833",
         "447631.7468430718",
         "-974.1434109022666",
         "-87.26228247944273",
         "-986.7991545103714",
         "-88.91813191260759",
         "469",
         "-979.966645",
         "-139.991722"
        ],
        [
         "179511",
         "179945",
         "217187",
         "0.0",
         "-2.2619437801039037",
         "0.0",
         "0.0",
         "-0.01106154645680515",
         "0",
         "False",
         "0.0",
         "17.37554931640625",
         "-11.883056640625",
         "132.9957275390625",
         "-193.99420166015625",
         "13.002771396497812",
         "45.256044127308165",
         "-0.2797795724526839",
         "31.745362809055727",
         "-26.367447785212285",
         "-2.2639146475956062",
         "0.0",
         "False",
         "True",
         "2.0",
         "1.0",
         "22.270276838991755",
         "-3.0484206911384932",
         "-3.000533413422206",
         "16.54558726217293",
         "1.1688607187472169",
         "0.5198597937998056",
         "1",
         "0",
         "10.55383877051688",
         "0.6133163360525216",
         "0.0",
         "-6.074605254205269",
         "8.630335091967575",
         "1229.8972789999998",
         "142.1881897088664",
         "-0.1622054907706696",
         "-0.0918180548353713",
         "0",
         "1.3611289999998917",
         "0.00543935660655463",
         "0.04850946556567992",
         "4828.800622999999",
         "150.3049637560638",
         "15681.832552717358",
         "1.64928595046291",
         "3598.903344",
         "-979.146057",
         "-129.469833",
         "447631.7468430718",
         "-1018.0120748631516",
         "-156.05204979062188",
         "-986.7991545103714",
         "-88.91813191260759",
         "469",
         "-979.966645",
         "-139.991722"
        ],
        [
         "179512",
         "179946",
         "217189",
         "0.0",
         "-2.2619437801039037",
         "0.0",
         "0.0",
         "0.0",
         "0",
         "False",
         "0.0",
         "17.4246826171875",
         "-11.387298583984377",
         "132.9957275390625",
         "-193.99420166015625",
         "13.666724208066906",
         "47.27811199921603",
         "-0.2814001423643013",
         "31.745362809055727",
         "-26.367447785212285",
         "-2.2639146475956062",
         "0.0",
         "False",
         "True",
         "2.0",
         "1.0",
         "22.270276838991755",
         "-3.0484206911384932",
         "-3.000533413422206",
         "16.54558726217293",
         "1.1688607187472169",
         "0.5198597937998056",
         "0",
         "0",
         "1144.9190935591114",
         "-3.036919325661468",
         "-3.0281849729848616",
         "119.62376909946916",
         "-1138.652661992521",
         "100.0",
         "400.0",
         "0.0",
         "0.0",
         "0",
         "0.0331860000001142",
         "0.00543935660655463",
         "-0.0",
         "3698.93653",
         null,
         null,
         null,
         "3598.93653",
         "-979.146057",
         "-129.469833",
         "447631.7468430718",
         "-1019.8125705419496",
         "-157.1868656898859",
         "-986.7991545103714",
         "-88.91813191260759",
         "470",
         "-345.516027",
         "824.130039"
        ],
        [
         "179513",
         "179947",
         "217190",
         "0.0",
         "-2.2619437801039037",
         "0.0",
         "0.0",
         "0.0",
         "0",
         "False",
         "0.0",
         "17.45458984375",
         "-11.25103759765625",
         "132.9957275390625",
         "-193.99420166015625",
         "13.873521432065417",
         "47.86011626317563",
         "-0.2821434687718103",
         "31.745362809055727",
         "-26.367447785212285",
         "-2.2639146475956062",
         "0.0",
         "False",
         "True",
         "2.0",
         "1.0",
         "22.270276838991755",
         "-3.0484206911384932",
         "-3.000533413422206",
         "16.54558726217293",
         "1.1688607187472169",
         "0.5198597937998056",
         "0",
         "0",
         "1144.9190935591114",
         "-3.036919325661468",
         "-3.0281849729848616",
         "119.62376909946916",
         "-1138.652661992521",
         "100.0",
         "400.0",
         "0.0",
         "0.0",
         "0",
         "0.0497700000000804",
         "0.00543935660655463",
         "-0.0",
         "3698.953114",
         null,
         null,
         null,
         "3598.953114",
         "-979.146057",
         "-129.469833",
         "447631.7468430718",
         "-1020.3428930937296",
         "-157.50349172513006",
         "-986.7991545103714",
         "-88.91813191260759",
         "470",
         "-345.516027",
         "824.130039"
        ]
       ],
       "shape": {
        "columns": 61,
        "rows": 4
       }
      },
      "text/html": [
       "<div>\n",
       "<style scoped>\n",
       "    .dataframe tbody tr th:only-of-type {\n",
       "        vertical-align: middle;\n",
       "    }\n",
       "\n",
       "    .dataframe tbody tr th {\n",
       "        vertical-align: top;\n",
       "    }\n",
       "\n",
       "    .dataframe thead th {\n",
       "        text-align: right;\n",
       "    }\n",
       "</style>\n",
       "<table border=\"1\" class=\"dataframe\">\n",
       "  <thead>\n",
       "    <tr style=\"text-align: right;\">\n",
       "      <th></th>\n",
       "      <th>bin</th>\n",
       "      <th>point_index</th>\n",
       "      <th>monkey_speed</th>\n",
       "      <th>monkey_angle</th>\n",
       "      <th>monkey_dw</th>\n",
       "      <th>monkey_ddw</th>\n",
       "      <th>monkey_ddv</th>\n",
       "      <th>monkey_speeddummy</th>\n",
       "      <th>whether_new_distinct_stop</th>\n",
       "      <th>delta_distance</th>\n",
       "      <th>...</th>\n",
       "      <th>monkey_x</th>\n",
       "      <th>monkey_y</th>\n",
       "      <th>cum_distance</th>\n",
       "      <th>gaze_world_x_l</th>\n",
       "      <th>gaze_world_y_l</th>\n",
       "      <th>gaze_world_x_r</th>\n",
       "      <th>gaze_world_y_r</th>\n",
       "      <th>target_index</th>\n",
       "      <th>target_x</th>\n",
       "      <th>target_y</th>\n",
       "    </tr>\n",
       "  </thead>\n",
       "  <tbody>\n",
       "    <tr>\n",
       "      <th>179510</th>\n",
       "      <td>179944</td>\n",
       "      <td>217186</td>\n",
       "      <td>0.02212</td>\n",
       "      <td>-2.26194</td>\n",
       "      <td>0.00000</td>\n",
       "      <td>0.00000</td>\n",
       "      <td>-4.71356</td>\n",
       "      <td>0</td>\n",
       "      <td>True</td>\n",
       "      <td>0.00037</td>\n",
       "      <td>...</td>\n",
       "      <td>-979.14606</td>\n",
       "      <td>-129.46983</td>\n",
       "      <td>447631.74684</td>\n",
       "      <td>-974.14341</td>\n",
       "      <td>-87.26228</td>\n",
       "      <td>-986.79915</td>\n",
       "      <td>-88.91813</td>\n",
       "      <td>469</td>\n",
       "      <td>-979.96664</td>\n",
       "      <td>-139.99172</td>\n",
       "    </tr>\n",
       "    <tr>\n",
       "      <th>179511</th>\n",
       "      <td>179945</td>\n",
       "      <td>217187</td>\n",
       "      <td>0.00000</td>\n",
       "      <td>-2.26194</td>\n",
       "      <td>0.00000</td>\n",
       "      <td>0.00000</td>\n",
       "      <td>-0.01106</td>\n",
       "      <td>0</td>\n",
       "      <td>False</td>\n",
       "      <td>0.00000</td>\n",
       "      <td>...</td>\n",
       "      <td>-979.14606</td>\n",
       "      <td>-129.46983</td>\n",
       "      <td>447631.74684</td>\n",
       "      <td>-1018.01207</td>\n",
       "      <td>-156.05205</td>\n",
       "      <td>-986.79915</td>\n",
       "      <td>-88.91813</td>\n",
       "      <td>469</td>\n",
       "      <td>-979.96664</td>\n",
       "      <td>-139.99172</td>\n",
       "    </tr>\n",
       "    <tr>\n",
       "      <th>179512</th>\n",
       "      <td>179946</td>\n",
       "      <td>217189</td>\n",
       "      <td>0.00000</td>\n",
       "      <td>-2.26194</td>\n",
       "      <td>0.00000</td>\n",
       "      <td>0.00000</td>\n",
       "      <td>0.00000</td>\n",
       "      <td>0</td>\n",
       "      <td>False</td>\n",
       "      <td>0.00000</td>\n",
       "      <td>...</td>\n",
       "      <td>-979.14606</td>\n",
       "      <td>-129.46983</td>\n",
       "      <td>447631.74684</td>\n",
       "      <td>-1019.81257</td>\n",
       "      <td>-157.18687</td>\n",
       "      <td>-986.79915</td>\n",
       "      <td>-88.91813</td>\n",
       "      <td>470</td>\n",
       "      <td>-345.51603</td>\n",
       "      <td>824.13004</td>\n",
       "    </tr>\n",
       "    <tr>\n",
       "      <th>179513</th>\n",
       "      <td>179947</td>\n",
       "      <td>217190</td>\n",
       "      <td>0.00000</td>\n",
       "      <td>-2.26194</td>\n",
       "      <td>0.00000</td>\n",
       "      <td>0.00000</td>\n",
       "      <td>0.00000</td>\n",
       "      <td>0</td>\n",
       "      <td>False</td>\n",
       "      <td>0.00000</td>\n",
       "      <td>...</td>\n",
       "      <td>-979.14606</td>\n",
       "      <td>-129.46983</td>\n",
       "      <td>447631.74684</td>\n",
       "      <td>-1020.34289</td>\n",
       "      <td>-157.50349</td>\n",
       "      <td>-986.79915</td>\n",
       "      <td>-88.91813</td>\n",
       "      <td>470</td>\n",
       "      <td>-345.51603</td>\n",
       "      <td>824.13004</td>\n",
       "    </tr>\n",
       "  </tbody>\n",
       "</table>\n",
       "<p>4 rows × 61 columns</p>\n",
       "</div>"
      ],
      "text/plain": [
       "           bin  point_index  monkey_speed  monkey_angle  monkey_dw  \\\n",
       "179510  179944       217186       0.02212      -2.26194    0.00000   \n",
       "179511  179945       217187       0.00000      -2.26194    0.00000   \n",
       "179512  179946       217189       0.00000      -2.26194    0.00000   \n",
       "179513  179947       217190       0.00000      -2.26194    0.00000   \n",
       "\n",
       "        monkey_ddw  monkey_ddv  monkey_speeddummy  whether_new_distinct_stop  \\\n",
       "179510     0.00000    -4.71356                  0                       True   \n",
       "179511     0.00000    -0.01106                  0                      False   \n",
       "179512     0.00000     0.00000                  0                      False   \n",
       "179513     0.00000     0.00000                  0                      False   \n",
       "\n",
       "        delta_distance  ...   monkey_x   monkey_y  cum_distance  \\\n",
       "179510         0.00037  ... -979.14606 -129.46983  447631.74684   \n",
       "179511         0.00000  ... -979.14606 -129.46983  447631.74684   \n",
       "179512         0.00000  ... -979.14606 -129.46983  447631.74684   \n",
       "179513         0.00000  ... -979.14606 -129.46983  447631.74684   \n",
       "\n",
       "        gaze_world_x_l  gaze_world_y_l  gaze_world_x_r  gaze_world_y_r  \\\n",
       "179510      -974.14341       -87.26228      -986.79915       -88.91813   \n",
       "179511     -1018.01207      -156.05205      -986.79915       -88.91813   \n",
       "179512     -1019.81257      -157.18687      -986.79915       -88.91813   \n",
       "179513     -1020.34289      -157.50349      -986.79915       -88.91813   \n",
       "\n",
       "        target_index   target_x   target_y  \n",
       "179510           469 -979.96664 -139.99172  \n",
       "179511           469 -979.96664 -139.99172  \n",
       "179512           470 -345.51603  824.13004  \n",
       "179513           470 -345.51603  824.13004  \n",
       "\n",
       "[4 rows x 61 columns]"
      ]
     },
     "execution_count": 17,
     "metadata": {},
     "output_type": "execute_result"
    }
   ],
   "source": [
    "dec.behav_data.tail(4)"
   ]
  },
  {
   "cell_type": "code",
   "execution_count": 19,
   "metadata": {},
   "outputs": [
    {
     "data": {
      "text/plain": [
       "(179514, 87)"
      ]
     },
     "execution_count": 19,
     "metadata": {},
     "output_type": "execute_result"
    }
   ],
   "source": [
    "dec.behav_data_all.shape"
   ]
  },
  {
   "cell_type": "code",
   "execution_count": 11,
   "metadata": {},
   "outputs": [
    {
     "data": {
      "text/plain": [
       "Index(['unit_0', 'unit_1', 'unit_2', 'unit_3', 'unit_4', 'unit_5', 'unit_6',\n",
       "       'unit_7', 'unit_8', 'unit_9', 'unit_10', 'unit_11', 'unit_12',\n",
       "       'unit_13', 'unit_14', 'unit_15', 'unit_16', 'unit_17', 'unit_18',\n",
       "       'unit_19', 'unit_20', 'unit_21', 'unit_22', 'unit_23', 'unit_24',\n",
       "       'unit_25', 'unit_26', 'unit_27', 'unit_28', 'unit_29', 'unit_30',\n",
       "       'unit_31', 'unit_32', 'unit_33', 'unit_34', 'unit_35', 'unit_36',\n",
       "       'unit_37', 'unit_38', 'unit_39', 'unit_40', 'unit_41', 'unit_42',\n",
       "       'unit_43', 'unit_44', 'unit_45', 'unit_46', 'unit_47', 'unit_48',\n",
       "       'unit_49', 'unit_50', 'unit_51', 'unit_52', 'unit_53', 'unit_54',\n",
       "       'unit_55', 'unit_56', 'unit_57', 'unit_58', 'unit_59', 'unit_60',\n",
       "       'unit_61', 'unit_62', 'unit_63', 'unit_64', 'unit_65', 'unit_66',\n",
       "       'unit_67', 'unit_68', 'unit_69', 'unit_70', 'unit_71', 'unit_72',\n",
       "       'unit_73', 'unit_74', 'unit_75', 'unit_76', 'unit_77', 'unit_78',\n",
       "       'unit_79', 'unit_80', 'unit_81', 'unit_82', 'unit_83', 'unit_84',\n",
       "       'unit_85', 'bin'],\n",
       "      dtype='object')"
      ]
     },
     "execution_count": 11,
     "metadata": {},
     "output_type": "execute_result"
    }
   ],
   "source": [
    "dec.binned_spikes_df.columns"
   ]
  },
  {
   "cell_type": "code",
   "execution_count": 8,
   "metadata": {},
   "outputs": [
    {
     "data": {
      "application/vnd.microsoft.datawrangler.viewer.v0+json": {
       "columns": [
        {
         "name": "index",
         "rawType": "int64",
         "type": "integer"
        },
        {
         "name": "unit_0_0",
         "rawType": "float64",
         "type": "float"
        },
        {
         "name": "unit_1_0",
         "rawType": "float64",
         "type": "float"
        },
        {
         "name": "unit_2_0",
         "rawType": "float64",
         "type": "float"
        },
        {
         "name": "unit_3_0",
         "rawType": "float64",
         "type": "float"
        },
        {
         "name": "unit_4_0",
         "rawType": "float64",
         "type": "float"
        },
        {
         "name": "unit_5_0",
         "rawType": "float64",
         "type": "float"
        },
        {
         "name": "unit_6_0",
         "rawType": "float64",
         "type": "float"
        },
        {
         "name": "unit_7_0",
         "rawType": "float64",
         "type": "float"
        },
        {
         "name": "unit_8_0",
         "rawType": "float64",
         "type": "float"
        },
        {
         "name": "unit_9_0",
         "rawType": "float64",
         "type": "float"
        },
        {
         "name": "unit_10_0",
         "rawType": "float64",
         "type": "float"
        },
        {
         "name": "unit_11_0",
         "rawType": "float64",
         "type": "float"
        },
        {
         "name": "unit_12_0",
         "rawType": "float64",
         "type": "float"
        },
        {
         "name": "unit_13_0",
         "rawType": "float64",
         "type": "float"
        },
        {
         "name": "unit_14_0",
         "rawType": "float64",
         "type": "float"
        },
        {
         "name": "unit_15_0",
         "rawType": "float64",
         "type": "float"
        },
        {
         "name": "unit_16_0",
         "rawType": "float64",
         "type": "float"
        },
        {
         "name": "unit_17_0",
         "rawType": "float64",
         "type": "float"
        },
        {
         "name": "unit_18_0",
         "rawType": "float64",
         "type": "float"
        },
        {
         "name": "unit_19_0",
         "rawType": "float64",
         "type": "float"
        },
        {
         "name": "unit_20_0",
         "rawType": "float64",
         "type": "float"
        },
        {
         "name": "unit_21_0",
         "rawType": "float64",
         "type": "float"
        },
        {
         "name": "unit_22_0",
         "rawType": "float64",
         "type": "float"
        },
        {
         "name": "unit_23_0",
         "rawType": "float64",
         "type": "float"
        },
        {
         "name": "unit_24_0",
         "rawType": "float64",
         "type": "float"
        },
        {
         "name": "unit_25_0",
         "rawType": "float64",
         "type": "float"
        },
        {
         "name": "unit_26_0",
         "rawType": "float64",
         "type": "float"
        },
        {
         "name": "unit_27_0",
         "rawType": "float64",
         "type": "float"
        },
        {
         "name": "unit_28_0",
         "rawType": "float64",
         "type": "float"
        },
        {
         "name": "unit_29_0",
         "rawType": "float64",
         "type": "float"
        },
        {
         "name": "unit_30_0",
         "rawType": "float64",
         "type": "float"
        },
        {
         "name": "unit_31_0",
         "rawType": "float64",
         "type": "float"
        },
        {
         "name": "unit_32_0",
         "rawType": "float64",
         "type": "float"
        },
        {
         "name": "unit_33_0",
         "rawType": "float64",
         "type": "float"
        },
        {
         "name": "unit_34_0",
         "rawType": "float64",
         "type": "float"
        },
        {
         "name": "unit_35_0",
         "rawType": "float64",
         "type": "float"
        },
        {
         "name": "unit_36_0",
         "rawType": "float64",
         "type": "float"
        },
        {
         "name": "unit_37_0",
         "rawType": "float64",
         "type": "float"
        },
        {
         "name": "unit_38_0",
         "rawType": "float64",
         "type": "float"
        },
        {
         "name": "unit_39_0",
         "rawType": "float64",
         "type": "float"
        },
        {
         "name": "unit_40_0",
         "rawType": "float64",
         "type": "float"
        },
        {
         "name": "unit_41_0",
         "rawType": "float64",
         "type": "float"
        },
        {
         "name": "unit_42_0",
         "rawType": "float64",
         "type": "float"
        },
        {
         "name": "unit_43_0",
         "rawType": "float64",
         "type": "float"
        },
        {
         "name": "unit_44_0",
         "rawType": "float64",
         "type": "float"
        },
        {
         "name": "unit_45_0",
         "rawType": "float64",
         "type": "float"
        },
        {
         "name": "unit_46_0",
         "rawType": "float64",
         "type": "float"
        },
        {
         "name": "unit_47_0",
         "rawType": "float64",
         "type": "float"
        },
        {
         "name": "unit_48_0",
         "rawType": "float64",
         "type": "float"
        },
        {
         "name": "unit_49_0",
         "rawType": "float64",
         "type": "float"
        },
        {
         "name": "unit_50_0",
         "rawType": "float64",
         "type": "float"
        },
        {
         "name": "unit_51_0",
         "rawType": "float64",
         "type": "float"
        },
        {
         "name": "unit_52_0",
         "rawType": "float64",
         "type": "float"
        },
        {
         "name": "unit_53_0",
         "rawType": "float64",
         "type": "float"
        },
        {
         "name": "unit_54_0",
         "rawType": "float64",
         "type": "float"
        },
        {
         "name": "unit_55_0",
         "rawType": "float64",
         "type": "float"
        },
        {
         "name": "unit_56_0",
         "rawType": "float64",
         "type": "float"
        },
        {
         "name": "unit_57_0",
         "rawType": "float64",
         "type": "float"
        },
        {
         "name": "unit_58_0",
         "rawType": "float64",
         "type": "float"
        },
        {
         "name": "unit_59_0",
         "rawType": "float64",
         "type": "float"
        },
        {
         "name": "unit_60_0",
         "rawType": "float64",
         "type": "float"
        },
        {
         "name": "unit_61_0",
         "rawType": "float64",
         "type": "float"
        },
        {
         "name": "unit_62_0",
         "rawType": "float64",
         "type": "float"
        },
        {
         "name": "unit_63_0",
         "rawType": "float64",
         "type": "float"
        },
        {
         "name": "unit_64_0",
         "rawType": "float64",
         "type": "float"
        },
        {
         "name": "unit_65_0",
         "rawType": "float64",
         "type": "float"
        },
        {
         "name": "unit_66_0",
         "rawType": "float64",
         "type": "float"
        },
        {
         "name": "unit_67_0",
         "rawType": "float64",
         "type": "float"
        },
        {
         "name": "unit_68_0",
         "rawType": "float64",
         "type": "float"
        },
        {
         "name": "unit_69_0",
         "rawType": "float64",
         "type": "float"
        },
        {
         "name": "unit_70_0",
         "rawType": "float64",
         "type": "float"
        },
        {
         "name": "unit_71_0",
         "rawType": "float64",
         "type": "float"
        },
        {
         "name": "unit_72_0",
         "rawType": "float64",
         "type": "float"
        },
        {
         "name": "unit_73_0",
         "rawType": "float64",
         "type": "float"
        },
        {
         "name": "unit_74_0",
         "rawType": "float64",
         "type": "float"
        },
        {
         "name": "unit_75_0",
         "rawType": "float64",
         "type": "float"
        },
        {
         "name": "unit_76_0",
         "rawType": "float64",
         "type": "float"
        },
        {
         "name": "unit_77_0",
         "rawType": "float64",
         "type": "float"
        },
        {
         "name": "unit_78_0",
         "rawType": "float64",
         "type": "float"
        },
        {
         "name": "unit_79_0",
         "rawType": "float64",
         "type": "float"
        },
        {
         "name": "unit_80_0",
         "rawType": "float64",
         "type": "float"
        },
        {
         "name": "unit_81_0",
         "rawType": "float64",
         "type": "float"
        },
        {
         "name": "unit_82_0",
         "rawType": "float64",
         "type": "float"
        },
        {
         "name": "unit_83_0",
         "rawType": "float64",
         "type": "float"
        },
        {
         "name": "unit_84_0",
         "rawType": "float64",
         "type": "float"
        },
        {
         "name": "unit_85_0",
         "rawType": "float64",
         "type": "float"
        },
        {
         "name": "unit_0_-1",
         "rawType": "float64",
         "type": "float"
        },
        {
         "name": "unit_1_-1",
         "rawType": "float64",
         "type": "float"
        },
        {
         "name": "unit_2_-1",
         "rawType": "float64",
         "type": "float"
        },
        {
         "name": "unit_3_-1",
         "rawType": "float64",
         "type": "float"
        },
        {
         "name": "unit_4_-1",
         "rawType": "float64",
         "type": "float"
        },
        {
         "name": "unit_5_-1",
         "rawType": "float64",
         "type": "float"
        },
        {
         "name": "unit_6_-1",
         "rawType": "float64",
         "type": "float"
        },
        {
         "name": "unit_7_-1",
         "rawType": "float64",
         "type": "float"
        },
        {
         "name": "unit_8_-1",
         "rawType": "float64",
         "type": "float"
        },
        {
         "name": "unit_9_-1",
         "rawType": "float64",
         "type": "float"
        },
        {
         "name": "unit_10_-1",
         "rawType": "float64",
         "type": "float"
        },
        {
         "name": "unit_11_-1",
         "rawType": "float64",
         "type": "float"
        },
        {
         "name": "unit_12_-1",
         "rawType": "float64",
         "type": "float"
        },
        {
         "name": "unit_13_-1",
         "rawType": "float64",
         "type": "float"
        },
        {
         "name": "unit_14_-1",
         "rawType": "float64",
         "type": "float"
        },
        {
         "name": "unit_15_-1",
         "rawType": "float64",
         "type": "float"
        },
        {
         "name": "unit_16_-1",
         "rawType": "float64",
         "type": "float"
        },
        {
         "name": "unit_17_-1",
         "rawType": "float64",
         "type": "float"
        },
        {
         "name": "unit_18_-1",
         "rawType": "float64",
         "type": "float"
        },
        {
         "name": "unit_19_-1",
         "rawType": "float64",
         "type": "float"
        },
        {
         "name": "unit_20_-1",
         "rawType": "float64",
         "type": "float"
        },
        {
         "name": "unit_21_-1",
         "rawType": "float64",
         "type": "float"
        },
        {
         "name": "unit_22_-1",
         "rawType": "float64",
         "type": "float"
        },
        {
         "name": "unit_23_-1",
         "rawType": "float64",
         "type": "float"
        },
        {
         "name": "unit_24_-1",
         "rawType": "float64",
         "type": "float"
        },
        {
         "name": "unit_25_-1",
         "rawType": "float64",
         "type": "float"
        },
        {
         "name": "unit_26_-1",
         "rawType": "float64",
         "type": "float"
        },
        {
         "name": "unit_27_-1",
         "rawType": "float64",
         "type": "float"
        },
        {
         "name": "unit_28_-1",
         "rawType": "float64",
         "type": "float"
        },
        {
         "name": "unit_29_-1",
         "rawType": "float64",
         "type": "float"
        },
        {
         "name": "unit_30_-1",
         "rawType": "float64",
         "type": "float"
        },
        {
         "name": "unit_31_-1",
         "rawType": "float64",
         "type": "float"
        },
        {
         "name": "unit_32_-1",
         "rawType": "float64",
         "type": "float"
        },
        {
         "name": "unit_33_-1",
         "rawType": "float64",
         "type": "float"
        },
        {
         "name": "unit_34_-1",
         "rawType": "float64",
         "type": "float"
        },
        {
         "name": "unit_35_-1",
         "rawType": "float64",
         "type": "float"
        },
        {
         "name": "unit_36_-1",
         "rawType": "float64",
         "type": "float"
        },
        {
         "name": "unit_37_-1",
         "rawType": "float64",
         "type": "float"
        },
        {
         "name": "unit_38_-1",
         "rawType": "float64",
         "type": "float"
        },
        {
         "name": "unit_39_-1",
         "rawType": "float64",
         "type": "float"
        },
        {
         "name": "unit_40_-1",
         "rawType": "float64",
         "type": "float"
        },
        {
         "name": "unit_41_-1",
         "rawType": "float64",
         "type": "float"
        },
        {
         "name": "unit_42_-1",
         "rawType": "float64",
         "type": "float"
        },
        {
         "name": "unit_43_-1",
         "rawType": "float64",
         "type": "float"
        },
        {
         "name": "unit_44_-1",
         "rawType": "float64",
         "type": "float"
        },
        {
         "name": "unit_45_-1",
         "rawType": "float64",
         "type": "float"
        },
        {
         "name": "unit_46_-1",
         "rawType": "float64",
         "type": "float"
        },
        {
         "name": "unit_47_-1",
         "rawType": "float64",
         "type": "float"
        },
        {
         "name": "unit_48_-1",
         "rawType": "float64",
         "type": "float"
        },
        {
         "name": "unit_49_-1",
         "rawType": "float64",
         "type": "float"
        },
        {
         "name": "unit_50_-1",
         "rawType": "float64",
         "type": "float"
        },
        {
         "name": "unit_51_-1",
         "rawType": "float64",
         "type": "float"
        },
        {
         "name": "unit_52_-1",
         "rawType": "float64",
         "type": "float"
        },
        {
         "name": "unit_53_-1",
         "rawType": "float64",
         "type": "float"
        },
        {
         "name": "unit_54_-1",
         "rawType": "float64",
         "type": "float"
        },
        {
         "name": "unit_55_-1",
         "rawType": "float64",
         "type": "float"
        },
        {
         "name": "unit_56_-1",
         "rawType": "float64",
         "type": "float"
        },
        {
         "name": "unit_57_-1",
         "rawType": "float64",
         "type": "float"
        },
        {
         "name": "unit_58_-1",
         "rawType": "float64",
         "type": "float"
        },
        {
         "name": "unit_59_-1",
         "rawType": "float64",
         "type": "float"
        },
        {
         "name": "unit_60_-1",
         "rawType": "float64",
         "type": "float"
        },
        {
         "name": "unit_61_-1",
         "rawType": "float64",
         "type": "float"
        },
        {
         "name": "unit_62_-1",
         "rawType": "float64",
         "type": "float"
        },
        {
         "name": "unit_63_-1",
         "rawType": "float64",
         "type": "float"
        },
        {
         "name": "unit_64_-1",
         "rawType": "float64",
         "type": "float"
        },
        {
         "name": "unit_65_-1",
         "rawType": "float64",
         "type": "float"
        },
        {
         "name": "unit_66_-1",
         "rawType": "float64",
         "type": "float"
        },
        {
         "name": "unit_67_-1",
         "rawType": "float64",
         "type": "float"
        },
        {
         "name": "unit_68_-1",
         "rawType": "float64",
         "type": "float"
        },
        {
         "name": "unit_69_-1",
         "rawType": "float64",
         "type": "float"
        },
        {
         "name": "unit_70_-1",
         "rawType": "float64",
         "type": "float"
        },
        {
         "name": "unit_71_-1",
         "rawType": "float64",
         "type": "float"
        },
        {
         "name": "unit_72_-1",
         "rawType": "float64",
         "type": "float"
        },
        {
         "name": "unit_73_-1",
         "rawType": "float64",
         "type": "float"
        },
        {
         "name": "unit_74_-1",
         "rawType": "float64",
         "type": "float"
        },
        {
         "name": "unit_75_-1",
         "rawType": "float64",
         "type": "float"
        },
        {
         "name": "unit_76_-1",
         "rawType": "float64",
         "type": "float"
        },
        {
         "name": "unit_77_-1",
         "rawType": "float64",
         "type": "float"
        },
        {
         "name": "unit_78_-1",
         "rawType": "float64",
         "type": "float"
        },
        {
         "name": "unit_79_-1",
         "rawType": "float64",
         "type": "float"
        },
        {
         "name": "unit_80_-1",
         "rawType": "float64",
         "type": "float"
        },
        {
         "name": "unit_81_-1",
         "rawType": "float64",
         "type": "float"
        },
        {
         "name": "unit_82_-1",
         "rawType": "float64",
         "type": "float"
        },
        {
         "name": "unit_83_-1",
         "rawType": "float64",
         "type": "float"
        },
        {
         "name": "unit_84_-1",
         "rawType": "float64",
         "type": "float"
        },
        {
         "name": "unit_85_-1",
         "rawType": "float64",
         "type": "float"
        },
        {
         "name": "unit_0_1",
         "rawType": "float64",
         "type": "float"
        },
        {
         "name": "unit_1_1",
         "rawType": "float64",
         "type": "float"
        },
        {
         "name": "unit_2_1",
         "rawType": "float64",
         "type": "float"
        },
        {
         "name": "unit_3_1",
         "rawType": "float64",
         "type": "float"
        },
        {
         "name": "unit_4_1",
         "rawType": "float64",
         "type": "float"
        },
        {
         "name": "unit_5_1",
         "rawType": "float64",
         "type": "float"
        },
        {
         "name": "unit_6_1",
         "rawType": "float64",
         "type": "float"
        },
        {
         "name": "unit_7_1",
         "rawType": "float64",
         "type": "float"
        },
        {
         "name": "unit_8_1",
         "rawType": "float64",
         "type": "float"
        },
        {
         "name": "unit_9_1",
         "rawType": "float64",
         "type": "float"
        },
        {
         "name": "unit_10_1",
         "rawType": "float64",
         "type": "float"
        },
        {
         "name": "unit_11_1",
         "rawType": "float64",
         "type": "float"
        },
        {
         "name": "unit_12_1",
         "rawType": "float64",
         "type": "float"
        },
        {
         "name": "unit_13_1",
         "rawType": "float64",
         "type": "float"
        },
        {
         "name": "unit_14_1",
         "rawType": "float64",
         "type": "float"
        },
        {
         "name": "unit_15_1",
         "rawType": "float64",
         "type": "float"
        },
        {
         "name": "unit_16_1",
         "rawType": "float64",
         "type": "float"
        },
        {
         "name": "unit_17_1",
         "rawType": "float64",
         "type": "float"
        },
        {
         "name": "unit_18_1",
         "rawType": "float64",
         "type": "float"
        },
        {
         "name": "unit_19_1",
         "rawType": "float64",
         "type": "float"
        },
        {
         "name": "unit_20_1",
         "rawType": "float64",
         "type": "float"
        },
        {
         "name": "unit_21_1",
         "rawType": "float64",
         "type": "float"
        },
        {
         "name": "unit_22_1",
         "rawType": "float64",
         "type": "float"
        },
        {
         "name": "unit_23_1",
         "rawType": "float64",
         "type": "float"
        },
        {
         "name": "unit_24_1",
         "rawType": "float64",
         "type": "float"
        },
        {
         "name": "unit_25_1",
         "rawType": "float64",
         "type": "float"
        },
        {
         "name": "unit_26_1",
         "rawType": "float64",
         "type": "float"
        },
        {
         "name": "unit_27_1",
         "rawType": "float64",
         "type": "float"
        },
        {
         "name": "unit_28_1",
         "rawType": "float64",
         "type": "float"
        },
        {
         "name": "unit_29_1",
         "rawType": "float64",
         "type": "float"
        },
        {
         "name": "unit_30_1",
         "rawType": "float64",
         "type": "float"
        },
        {
         "name": "unit_31_1",
         "rawType": "float64",
         "type": "float"
        },
        {
         "name": "unit_32_1",
         "rawType": "float64",
         "type": "float"
        },
        {
         "name": "unit_33_1",
         "rawType": "float64",
         "type": "float"
        },
        {
         "name": "unit_34_1",
         "rawType": "float64",
         "type": "float"
        },
        {
         "name": "unit_35_1",
         "rawType": "float64",
         "type": "float"
        },
        {
         "name": "unit_36_1",
         "rawType": "float64",
         "type": "float"
        },
        {
         "name": "unit_37_1",
         "rawType": "float64",
         "type": "float"
        },
        {
         "name": "unit_38_1",
         "rawType": "float64",
         "type": "float"
        },
        {
         "name": "unit_39_1",
         "rawType": "float64",
         "type": "float"
        },
        {
         "name": "unit_40_1",
         "rawType": "float64",
         "type": "float"
        },
        {
         "name": "unit_41_1",
         "rawType": "float64",
         "type": "float"
        },
        {
         "name": "unit_42_1",
         "rawType": "float64",
         "type": "float"
        },
        {
         "name": "unit_43_1",
         "rawType": "float64",
         "type": "float"
        },
        {
         "name": "unit_44_1",
         "rawType": "float64",
         "type": "float"
        },
        {
         "name": "unit_45_1",
         "rawType": "float64",
         "type": "float"
        },
        {
         "name": "unit_46_1",
         "rawType": "float64",
         "type": "float"
        },
        {
         "name": "unit_47_1",
         "rawType": "float64",
         "type": "float"
        },
        {
         "name": "unit_48_1",
         "rawType": "float64",
         "type": "float"
        },
        {
         "name": "unit_49_1",
         "rawType": "float64",
         "type": "float"
        },
        {
         "name": "unit_50_1",
         "rawType": "float64",
         "type": "float"
        },
        {
         "name": "unit_51_1",
         "rawType": "float64",
         "type": "float"
        },
        {
         "name": "unit_52_1",
         "rawType": "float64",
         "type": "float"
        },
        {
         "name": "unit_53_1",
         "rawType": "float64",
         "type": "float"
        },
        {
         "name": "unit_54_1",
         "rawType": "float64",
         "type": "float"
        },
        {
         "name": "unit_55_1",
         "rawType": "float64",
         "type": "float"
        },
        {
         "name": "unit_56_1",
         "rawType": "float64",
         "type": "float"
        },
        {
         "name": "unit_57_1",
         "rawType": "float64",
         "type": "float"
        },
        {
         "name": "unit_58_1",
         "rawType": "float64",
         "type": "float"
        },
        {
         "name": "unit_59_1",
         "rawType": "float64",
         "type": "float"
        },
        {
         "name": "unit_60_1",
         "rawType": "float64",
         "type": "float"
        },
        {
         "name": "unit_61_1",
         "rawType": "float64",
         "type": "float"
        },
        {
         "name": "unit_62_1",
         "rawType": "float64",
         "type": "float"
        },
        {
         "name": "unit_63_1",
         "rawType": "float64",
         "type": "float"
        },
        {
         "name": "unit_64_1",
         "rawType": "float64",
         "type": "float"
        },
        {
         "name": "unit_65_1",
         "rawType": "float64",
         "type": "float"
        },
        {
         "name": "unit_66_1",
         "rawType": "float64",
         "type": "float"
        },
        {
         "name": "unit_67_1",
         "rawType": "float64",
         "type": "float"
        },
        {
         "name": "unit_68_1",
         "rawType": "float64",
         "type": "float"
        },
        {
         "name": "unit_69_1",
         "rawType": "float64",
         "type": "float"
        },
        {
         "name": "unit_70_1",
         "rawType": "float64",
         "type": "float"
        },
        {
         "name": "unit_71_1",
         "rawType": "float64",
         "type": "float"
        },
        {
         "name": "unit_72_1",
         "rawType": "float64",
         "type": "float"
        },
        {
         "name": "unit_73_1",
         "rawType": "float64",
         "type": "float"
        },
        {
         "name": "unit_74_1",
         "rawType": "float64",
         "type": "float"
        },
        {
         "name": "unit_75_1",
         "rawType": "float64",
         "type": "float"
        },
        {
         "name": "unit_76_1",
         "rawType": "float64",
         "type": "float"
        },
        {
         "name": "unit_77_1",
         "rawType": "float64",
         "type": "float"
        },
        {
         "name": "unit_78_1",
         "rawType": "float64",
         "type": "float"
        },
        {
         "name": "unit_79_1",
         "rawType": "float64",
         "type": "float"
        },
        {
         "name": "unit_80_1",
         "rawType": "float64",
         "type": "float"
        },
        {
         "name": "unit_81_1",
         "rawType": "float64",
         "type": "float"
        },
        {
         "name": "unit_82_1",
         "rawType": "float64",
         "type": "float"
        },
        {
         "name": "unit_83_1",
         "rawType": "float64",
         "type": "float"
        },
        {
         "name": "unit_84_1",
         "rawType": "float64",
         "type": "float"
        },
        {
         "name": "unit_85_1",
         "rawType": "float64",
         "type": "float"
        },
        {
         "name": "unit_0_-2",
         "rawType": "float64",
         "type": "float"
        },
        {
         "name": "unit_1_-2",
         "rawType": "float64",
         "type": "float"
        },
        {
         "name": "unit_2_-2",
         "rawType": "float64",
         "type": "float"
        },
        {
         "name": "unit_3_-2",
         "rawType": "float64",
         "type": "float"
        },
        {
         "name": "unit_4_-2",
         "rawType": "float64",
         "type": "float"
        },
        {
         "name": "unit_5_-2",
         "rawType": "float64",
         "type": "float"
        },
        {
         "name": "unit_6_-2",
         "rawType": "float64",
         "type": "float"
        },
        {
         "name": "unit_7_-2",
         "rawType": "float64",
         "type": "float"
        },
        {
         "name": "unit_8_-2",
         "rawType": "float64",
         "type": "float"
        },
        {
         "name": "unit_9_-2",
         "rawType": "float64",
         "type": "float"
        },
        {
         "name": "unit_10_-2",
         "rawType": "float64",
         "type": "float"
        },
        {
         "name": "unit_11_-2",
         "rawType": "float64",
         "type": "float"
        },
        {
         "name": "unit_12_-2",
         "rawType": "float64",
         "type": "float"
        },
        {
         "name": "unit_13_-2",
         "rawType": "float64",
         "type": "float"
        },
        {
         "name": "unit_14_-2",
         "rawType": "float64",
         "type": "float"
        },
        {
         "name": "unit_15_-2",
         "rawType": "float64",
         "type": "float"
        },
        {
         "name": "unit_16_-2",
         "rawType": "float64",
         "type": "float"
        },
        {
         "name": "unit_17_-2",
         "rawType": "float64",
         "type": "float"
        },
        {
         "name": "unit_18_-2",
         "rawType": "float64",
         "type": "float"
        },
        {
         "name": "unit_19_-2",
         "rawType": "float64",
         "type": "float"
        },
        {
         "name": "unit_20_-2",
         "rawType": "float64",
         "type": "float"
        },
        {
         "name": "unit_21_-2",
         "rawType": "float64",
         "type": "float"
        },
        {
         "name": "unit_22_-2",
         "rawType": "float64",
         "type": "float"
        },
        {
         "name": "unit_23_-2",
         "rawType": "float64",
         "type": "float"
        },
        {
         "name": "unit_24_-2",
         "rawType": "float64",
         "type": "float"
        },
        {
         "name": "unit_25_-2",
         "rawType": "float64",
         "type": "float"
        },
        {
         "name": "unit_26_-2",
         "rawType": "float64",
         "type": "float"
        },
        {
         "name": "unit_27_-2",
         "rawType": "float64",
         "type": "float"
        },
        {
         "name": "unit_28_-2",
         "rawType": "float64",
         "type": "float"
        },
        {
         "name": "unit_29_-2",
         "rawType": "float64",
         "type": "float"
        },
        {
         "name": "unit_30_-2",
         "rawType": "float64",
         "type": "float"
        },
        {
         "name": "unit_31_-2",
         "rawType": "float64",
         "type": "float"
        },
        {
         "name": "unit_32_-2",
         "rawType": "float64",
         "type": "float"
        },
        {
         "name": "unit_33_-2",
         "rawType": "float64",
         "type": "float"
        },
        {
         "name": "unit_34_-2",
         "rawType": "float64",
         "type": "float"
        },
        {
         "name": "unit_35_-2",
         "rawType": "float64",
         "type": "float"
        },
        {
         "name": "unit_36_-2",
         "rawType": "float64",
         "type": "float"
        },
        {
         "name": "unit_37_-2",
         "rawType": "float64",
         "type": "float"
        },
        {
         "name": "unit_38_-2",
         "rawType": "float64",
         "type": "float"
        },
        {
         "name": "unit_39_-2",
         "rawType": "float64",
         "type": "float"
        },
        {
         "name": "unit_40_-2",
         "rawType": "float64",
         "type": "float"
        },
        {
         "name": "unit_41_-2",
         "rawType": "float64",
         "type": "float"
        },
        {
         "name": "unit_42_-2",
         "rawType": "float64",
         "type": "float"
        },
        {
         "name": "unit_43_-2",
         "rawType": "float64",
         "type": "float"
        },
        {
         "name": "unit_44_-2",
         "rawType": "float64",
         "type": "float"
        },
        {
         "name": "unit_45_-2",
         "rawType": "float64",
         "type": "float"
        },
        {
         "name": "unit_46_-2",
         "rawType": "float64",
         "type": "float"
        },
        {
         "name": "unit_47_-2",
         "rawType": "float64",
         "type": "float"
        },
        {
         "name": "unit_48_-2",
         "rawType": "float64",
         "type": "float"
        },
        {
         "name": "unit_49_-2",
         "rawType": "float64",
         "type": "float"
        },
        {
         "name": "unit_50_-2",
         "rawType": "float64",
         "type": "float"
        },
        {
         "name": "unit_51_-2",
         "rawType": "float64",
         "type": "float"
        },
        {
         "name": "unit_52_-2",
         "rawType": "float64",
         "type": "float"
        },
        {
         "name": "unit_53_-2",
         "rawType": "float64",
         "type": "float"
        },
        {
         "name": "unit_54_-2",
         "rawType": "float64",
         "type": "float"
        },
        {
         "name": "unit_55_-2",
         "rawType": "float64",
         "type": "float"
        },
        {
         "name": "unit_56_-2",
         "rawType": "float64",
         "type": "float"
        },
        {
         "name": "unit_57_-2",
         "rawType": "float64",
         "type": "float"
        },
        {
         "name": "unit_58_-2",
         "rawType": "float64",
         "type": "float"
        },
        {
         "name": "unit_59_-2",
         "rawType": "float64",
         "type": "float"
        },
        {
         "name": "unit_60_-2",
         "rawType": "float64",
         "type": "float"
        },
        {
         "name": "unit_61_-2",
         "rawType": "float64",
         "type": "float"
        },
        {
         "name": "unit_62_-2",
         "rawType": "float64",
         "type": "float"
        },
        {
         "name": "unit_63_-2",
         "rawType": "float64",
         "type": "float"
        },
        {
         "name": "unit_64_-2",
         "rawType": "float64",
         "type": "float"
        },
        {
         "name": "unit_65_-2",
         "rawType": "float64",
         "type": "float"
        },
        {
         "name": "unit_66_-2",
         "rawType": "float64",
         "type": "float"
        },
        {
         "name": "unit_67_-2",
         "rawType": "float64",
         "type": "float"
        },
        {
         "name": "unit_68_-2",
         "rawType": "float64",
         "type": "float"
        },
        {
         "name": "unit_69_-2",
         "rawType": "float64",
         "type": "float"
        },
        {
         "name": "unit_70_-2",
         "rawType": "float64",
         "type": "float"
        },
        {
         "name": "unit_71_-2",
         "rawType": "float64",
         "type": "float"
        },
        {
         "name": "unit_72_-2",
         "rawType": "float64",
         "type": "float"
        },
        {
         "name": "unit_73_-2",
         "rawType": "float64",
         "type": "float"
        },
        {
         "name": "unit_74_-2",
         "rawType": "float64",
         "type": "float"
        },
        {
         "name": "unit_75_-2",
         "rawType": "float64",
         "type": "float"
        },
        {
         "name": "unit_76_-2",
         "rawType": "float64",
         "type": "float"
        },
        {
         "name": "unit_77_-2",
         "rawType": "float64",
         "type": "float"
        },
        {
         "name": "unit_78_-2",
         "rawType": "float64",
         "type": "float"
        },
        {
         "name": "unit_79_-2",
         "rawType": "float64",
         "type": "float"
        },
        {
         "name": "unit_80_-2",
         "rawType": "float64",
         "type": "float"
        },
        {
         "name": "unit_81_-2",
         "rawType": "float64",
         "type": "float"
        },
        {
         "name": "unit_82_-2",
         "rawType": "float64",
         "type": "float"
        },
        {
         "name": "unit_83_-2",
         "rawType": "float64",
         "type": "float"
        },
        {
         "name": "unit_84_-2",
         "rawType": "float64",
         "type": "float"
        },
        {
         "name": "unit_85_-2",
         "rawType": "float64",
         "type": "float"
        },
        {
         "name": "unit_0_2",
         "rawType": "float64",
         "type": "float"
        },
        {
         "name": "unit_1_2",
         "rawType": "float64",
         "type": "float"
        },
        {
         "name": "unit_2_2",
         "rawType": "float64",
         "type": "float"
        },
        {
         "name": "unit_3_2",
         "rawType": "float64",
         "type": "float"
        },
        {
         "name": "unit_4_2",
         "rawType": "float64",
         "type": "float"
        },
        {
         "name": "unit_5_2",
         "rawType": "float64",
         "type": "float"
        },
        {
         "name": "unit_6_2",
         "rawType": "float64",
         "type": "float"
        },
        {
         "name": "unit_7_2",
         "rawType": "float64",
         "type": "float"
        },
        {
         "name": "unit_8_2",
         "rawType": "float64",
         "type": "float"
        },
        {
         "name": "unit_9_2",
         "rawType": "float64",
         "type": "float"
        },
        {
         "name": "unit_10_2",
         "rawType": "float64",
         "type": "float"
        },
        {
         "name": "unit_11_2",
         "rawType": "float64",
         "type": "float"
        },
        {
         "name": "unit_12_2",
         "rawType": "float64",
         "type": "float"
        },
        {
         "name": "unit_13_2",
         "rawType": "float64",
         "type": "float"
        },
        {
         "name": "unit_14_2",
         "rawType": "float64",
         "type": "float"
        },
        {
         "name": "unit_15_2",
         "rawType": "float64",
         "type": "float"
        },
        {
         "name": "unit_16_2",
         "rawType": "float64",
         "type": "float"
        },
        {
         "name": "unit_17_2",
         "rawType": "float64",
         "type": "float"
        },
        {
         "name": "unit_18_2",
         "rawType": "float64",
         "type": "float"
        },
        {
         "name": "unit_19_2",
         "rawType": "float64",
         "type": "float"
        },
        {
         "name": "unit_20_2",
         "rawType": "float64",
         "type": "float"
        },
        {
         "name": "unit_21_2",
         "rawType": "float64",
         "type": "float"
        },
        {
         "name": "unit_22_2",
         "rawType": "float64",
         "type": "float"
        },
        {
         "name": "unit_23_2",
         "rawType": "float64",
         "type": "float"
        },
        {
         "name": "unit_24_2",
         "rawType": "float64",
         "type": "float"
        },
        {
         "name": "unit_25_2",
         "rawType": "float64",
         "type": "float"
        },
        {
         "name": "unit_26_2",
         "rawType": "float64",
         "type": "float"
        },
        {
         "name": "unit_27_2",
         "rawType": "float64",
         "type": "float"
        },
        {
         "name": "unit_28_2",
         "rawType": "float64",
         "type": "float"
        },
        {
         "name": "unit_29_2",
         "rawType": "float64",
         "type": "float"
        },
        {
         "name": "unit_30_2",
         "rawType": "float64",
         "type": "float"
        },
        {
         "name": "unit_31_2",
         "rawType": "float64",
         "type": "float"
        },
        {
         "name": "unit_32_2",
         "rawType": "float64",
         "type": "float"
        },
        {
         "name": "unit_33_2",
         "rawType": "float64",
         "type": "float"
        },
        {
         "name": "unit_34_2",
         "rawType": "float64",
         "type": "float"
        },
        {
         "name": "unit_35_2",
         "rawType": "float64",
         "type": "float"
        },
        {
         "name": "unit_36_2",
         "rawType": "float64",
         "type": "float"
        },
        {
         "name": "unit_37_2",
         "rawType": "float64",
         "type": "float"
        },
        {
         "name": "unit_38_2",
         "rawType": "float64",
         "type": "float"
        },
        {
         "name": "unit_39_2",
         "rawType": "float64",
         "type": "float"
        },
        {
         "name": "unit_40_2",
         "rawType": "float64",
         "type": "float"
        },
        {
         "name": "unit_41_2",
         "rawType": "float64",
         "type": "float"
        },
        {
         "name": "unit_42_2",
         "rawType": "float64",
         "type": "float"
        },
        {
         "name": "unit_43_2",
         "rawType": "float64",
         "type": "float"
        },
        {
         "name": "unit_44_2",
         "rawType": "float64",
         "type": "float"
        },
        {
         "name": "unit_45_2",
         "rawType": "float64",
         "type": "float"
        },
        {
         "name": "unit_46_2",
         "rawType": "float64",
         "type": "float"
        },
        {
         "name": "unit_47_2",
         "rawType": "float64",
         "type": "float"
        },
        {
         "name": "unit_48_2",
         "rawType": "float64",
         "type": "float"
        },
        {
         "name": "unit_49_2",
         "rawType": "float64",
         "type": "float"
        },
        {
         "name": "unit_50_2",
         "rawType": "float64",
         "type": "float"
        },
        {
         "name": "unit_51_2",
         "rawType": "float64",
         "type": "float"
        },
        {
         "name": "unit_52_2",
         "rawType": "float64",
         "type": "float"
        },
        {
         "name": "unit_53_2",
         "rawType": "float64",
         "type": "float"
        },
        {
         "name": "unit_54_2",
         "rawType": "float64",
         "type": "float"
        },
        {
         "name": "unit_55_2",
         "rawType": "float64",
         "type": "float"
        },
        {
         "name": "unit_56_2",
         "rawType": "float64",
         "type": "float"
        },
        {
         "name": "unit_57_2",
         "rawType": "float64",
         "type": "float"
        },
        {
         "name": "unit_58_2",
         "rawType": "float64",
         "type": "float"
        },
        {
         "name": "unit_59_2",
         "rawType": "float64",
         "type": "float"
        },
        {
         "name": "unit_60_2",
         "rawType": "float64",
         "type": "float"
        },
        {
         "name": "unit_61_2",
         "rawType": "float64",
         "type": "float"
        },
        {
         "name": "unit_62_2",
         "rawType": "float64",
         "type": "float"
        },
        {
         "name": "unit_63_2",
         "rawType": "float64",
         "type": "float"
        },
        {
         "name": "unit_64_2",
         "rawType": "float64",
         "type": "float"
        },
        {
         "name": "unit_65_2",
         "rawType": "float64",
         "type": "float"
        },
        {
         "name": "unit_66_2",
         "rawType": "float64",
         "type": "float"
        },
        {
         "name": "unit_67_2",
         "rawType": "float64",
         "type": "float"
        },
        {
         "name": "unit_68_2",
         "rawType": "float64",
         "type": "float"
        },
        {
         "name": "unit_69_2",
         "rawType": "float64",
         "type": "float"
        },
        {
         "name": "unit_70_2",
         "rawType": "float64",
         "type": "float"
        },
        {
         "name": "unit_71_2",
         "rawType": "float64",
         "type": "float"
        },
        {
         "name": "unit_72_2",
         "rawType": "float64",
         "type": "float"
        },
        {
         "name": "unit_73_2",
         "rawType": "float64",
         "type": "float"
        },
        {
         "name": "unit_74_2",
         "rawType": "float64",
         "type": "float"
        },
        {
         "name": "unit_75_2",
         "rawType": "float64",
         "type": "float"
        },
        {
         "name": "unit_76_2",
         "rawType": "float64",
         "type": "float"
        },
        {
         "name": "unit_77_2",
         "rawType": "float64",
         "type": "float"
        },
        {
         "name": "unit_78_2",
         "rawType": "float64",
         "type": "float"
        },
        {
         "name": "unit_79_2",
         "rawType": "float64",
         "type": "float"
        },
        {
         "name": "unit_80_2",
         "rawType": "float64",
         "type": "float"
        },
        {
         "name": "unit_81_2",
         "rawType": "float64",
         "type": "float"
        },
        {
         "name": "unit_82_2",
         "rawType": "float64",
         "type": "float"
        },
        {
         "name": "unit_83_2",
         "rawType": "float64",
         "type": "float"
        },
        {
         "name": "unit_84_2",
         "rawType": "float64",
         "type": "float"
        },
        {
         "name": "unit_85_2",
         "rawType": "float64",
         "type": "float"
        },
        {
         "name": "unit_0_-3",
         "rawType": "float64",
         "type": "float"
        },
        {
         "name": "unit_1_-3",
         "rawType": "float64",
         "type": "float"
        },
        {
         "name": "unit_2_-3",
         "rawType": "float64",
         "type": "float"
        },
        {
         "name": "unit_3_-3",
         "rawType": "float64",
         "type": "float"
        },
        {
         "name": "unit_4_-3",
         "rawType": "float64",
         "type": "float"
        },
        {
         "name": "unit_5_-3",
         "rawType": "float64",
         "type": "float"
        },
        {
         "name": "unit_6_-3",
         "rawType": "float64",
         "type": "float"
        },
        {
         "name": "unit_7_-3",
         "rawType": "float64",
         "type": "float"
        },
        {
         "name": "unit_8_-3",
         "rawType": "float64",
         "type": "float"
        },
        {
         "name": "unit_9_-3",
         "rawType": "float64",
         "type": "float"
        },
        {
         "name": "unit_10_-3",
         "rawType": "float64",
         "type": "float"
        },
        {
         "name": "unit_11_-3",
         "rawType": "float64",
         "type": "float"
        },
        {
         "name": "unit_12_-3",
         "rawType": "float64",
         "type": "float"
        },
        {
         "name": "unit_13_-3",
         "rawType": "float64",
         "type": "float"
        },
        {
         "name": "unit_14_-3",
         "rawType": "float64",
         "type": "float"
        },
        {
         "name": "unit_15_-3",
         "rawType": "float64",
         "type": "float"
        },
        {
         "name": "unit_16_-3",
         "rawType": "float64",
         "type": "float"
        },
        {
         "name": "unit_17_-3",
         "rawType": "float64",
         "type": "float"
        },
        {
         "name": "unit_18_-3",
         "rawType": "float64",
         "type": "float"
        },
        {
         "name": "unit_19_-3",
         "rawType": "float64",
         "type": "float"
        },
        {
         "name": "unit_20_-3",
         "rawType": "float64",
         "type": "float"
        },
        {
         "name": "unit_21_-3",
         "rawType": "float64",
         "type": "float"
        },
        {
         "name": "unit_22_-3",
         "rawType": "float64",
         "type": "float"
        },
        {
         "name": "unit_23_-3",
         "rawType": "float64",
         "type": "float"
        },
        {
         "name": "unit_24_-3",
         "rawType": "float64",
         "type": "float"
        },
        {
         "name": "unit_25_-3",
         "rawType": "float64",
         "type": "float"
        },
        {
         "name": "unit_26_-3",
         "rawType": "float64",
         "type": "float"
        },
        {
         "name": "unit_27_-3",
         "rawType": "float64",
         "type": "float"
        },
        {
         "name": "unit_28_-3",
         "rawType": "float64",
         "type": "float"
        },
        {
         "name": "unit_29_-3",
         "rawType": "float64",
         "type": "float"
        },
        {
         "name": "unit_30_-3",
         "rawType": "float64",
         "type": "float"
        },
        {
         "name": "unit_31_-3",
         "rawType": "float64",
         "type": "float"
        },
        {
         "name": "unit_32_-3",
         "rawType": "float64",
         "type": "float"
        },
        {
         "name": "unit_33_-3",
         "rawType": "float64",
         "type": "float"
        },
        {
         "name": "unit_34_-3",
         "rawType": "float64",
         "type": "float"
        },
        {
         "name": "unit_35_-3",
         "rawType": "float64",
         "type": "float"
        },
        {
         "name": "unit_36_-3",
         "rawType": "float64",
         "type": "float"
        },
        {
         "name": "unit_37_-3",
         "rawType": "float64",
         "type": "float"
        },
        {
         "name": "unit_38_-3",
         "rawType": "float64",
         "type": "float"
        },
        {
         "name": "unit_39_-3",
         "rawType": "float64",
         "type": "float"
        },
        {
         "name": "unit_40_-3",
         "rawType": "float64",
         "type": "float"
        },
        {
         "name": "unit_41_-3",
         "rawType": "float64",
         "type": "float"
        },
        {
         "name": "unit_42_-3",
         "rawType": "float64",
         "type": "float"
        },
        {
         "name": "unit_43_-3",
         "rawType": "float64",
         "type": "float"
        },
        {
         "name": "unit_44_-3",
         "rawType": "float64",
         "type": "float"
        },
        {
         "name": "unit_45_-3",
         "rawType": "float64",
         "type": "float"
        },
        {
         "name": "unit_46_-3",
         "rawType": "float64",
         "type": "float"
        },
        {
         "name": "unit_47_-3",
         "rawType": "float64",
         "type": "float"
        },
        {
         "name": "unit_48_-3",
         "rawType": "float64",
         "type": "float"
        },
        {
         "name": "unit_49_-3",
         "rawType": "float64",
         "type": "float"
        },
        {
         "name": "unit_50_-3",
         "rawType": "float64",
         "type": "float"
        },
        {
         "name": "unit_51_-3",
         "rawType": "float64",
         "type": "float"
        },
        {
         "name": "unit_52_-3",
         "rawType": "float64",
         "type": "float"
        },
        {
         "name": "unit_53_-3",
         "rawType": "float64",
         "type": "float"
        },
        {
         "name": "unit_54_-3",
         "rawType": "float64",
         "type": "float"
        },
        {
         "name": "unit_55_-3",
         "rawType": "float64",
         "type": "float"
        },
        {
         "name": "unit_56_-3",
         "rawType": "float64",
         "type": "float"
        },
        {
         "name": "unit_57_-3",
         "rawType": "float64",
         "type": "float"
        },
        {
         "name": "unit_58_-3",
         "rawType": "float64",
         "type": "float"
        },
        {
         "name": "unit_59_-3",
         "rawType": "float64",
         "type": "float"
        },
        {
         "name": "unit_60_-3",
         "rawType": "float64",
         "type": "float"
        },
        {
         "name": "unit_61_-3",
         "rawType": "float64",
         "type": "float"
        },
        {
         "name": "unit_62_-3",
         "rawType": "float64",
         "type": "float"
        },
        {
         "name": "unit_63_-3",
         "rawType": "float64",
         "type": "float"
        },
        {
         "name": "unit_64_-3",
         "rawType": "float64",
         "type": "float"
        },
        {
         "name": "unit_65_-3",
         "rawType": "float64",
         "type": "float"
        },
        {
         "name": "unit_66_-3",
         "rawType": "float64",
         "type": "float"
        },
        {
         "name": "unit_67_-3",
         "rawType": "float64",
         "type": "float"
        },
        {
         "name": "unit_68_-3",
         "rawType": "float64",
         "type": "float"
        },
        {
         "name": "unit_69_-3",
         "rawType": "float64",
         "type": "float"
        },
        {
         "name": "unit_70_-3",
         "rawType": "float64",
         "type": "float"
        },
        {
         "name": "unit_71_-3",
         "rawType": "float64",
         "type": "float"
        },
        {
         "name": "unit_72_-3",
         "rawType": "float64",
         "type": "float"
        },
        {
         "name": "unit_73_-3",
         "rawType": "float64",
         "type": "float"
        },
        {
         "name": "unit_74_-3",
         "rawType": "float64",
         "type": "float"
        },
        {
         "name": "unit_75_-3",
         "rawType": "float64",
         "type": "float"
        },
        {
         "name": "unit_76_-3",
         "rawType": "float64",
         "type": "float"
        },
        {
         "name": "unit_77_-3",
         "rawType": "float64",
         "type": "float"
        },
        {
         "name": "unit_78_-3",
         "rawType": "float64",
         "type": "float"
        },
        {
         "name": "unit_79_-3",
         "rawType": "float64",
         "type": "float"
        },
        {
         "name": "unit_80_-3",
         "rawType": "float64",
         "type": "float"
        },
        {
         "name": "unit_81_-3",
         "rawType": "float64",
         "type": "float"
        },
        {
         "name": "unit_82_-3",
         "rawType": "float64",
         "type": "float"
        },
        {
         "name": "unit_83_-3",
         "rawType": "float64",
         "type": "float"
        },
        {
         "name": "unit_84_-3",
         "rawType": "float64",
         "type": "float"
        },
        {
         "name": "unit_85_-3",
         "rawType": "float64",
         "type": "float"
        },
        {
         "name": "unit_0_3",
         "rawType": "float64",
         "type": "float"
        },
        {
         "name": "unit_1_3",
         "rawType": "float64",
         "type": "float"
        },
        {
         "name": "unit_2_3",
         "rawType": "float64",
         "type": "float"
        },
        {
         "name": "unit_3_3",
         "rawType": "float64",
         "type": "float"
        },
        {
         "name": "unit_4_3",
         "rawType": "float64",
         "type": "float"
        },
        {
         "name": "unit_5_3",
         "rawType": "float64",
         "type": "float"
        },
        {
         "name": "unit_6_3",
         "rawType": "float64",
         "type": "float"
        },
        {
         "name": "unit_7_3",
         "rawType": "float64",
         "type": "float"
        },
        {
         "name": "unit_8_3",
         "rawType": "float64",
         "type": "float"
        },
        {
         "name": "unit_9_3",
         "rawType": "float64",
         "type": "float"
        },
        {
         "name": "unit_10_3",
         "rawType": "float64",
         "type": "float"
        },
        {
         "name": "unit_11_3",
         "rawType": "float64",
         "type": "float"
        },
        {
         "name": "unit_12_3",
         "rawType": "float64",
         "type": "float"
        },
        {
         "name": "unit_13_3",
         "rawType": "float64",
         "type": "float"
        },
        {
         "name": "unit_14_3",
         "rawType": "float64",
         "type": "float"
        },
        {
         "name": "unit_15_3",
         "rawType": "float64",
         "type": "float"
        },
        {
         "name": "unit_16_3",
         "rawType": "float64",
         "type": "float"
        },
        {
         "name": "unit_17_3",
         "rawType": "float64",
         "type": "float"
        },
        {
         "name": "unit_18_3",
         "rawType": "float64",
         "type": "float"
        },
        {
         "name": "unit_19_3",
         "rawType": "float64",
         "type": "float"
        },
        {
         "name": "unit_20_3",
         "rawType": "float64",
         "type": "float"
        },
        {
         "name": "unit_21_3",
         "rawType": "float64",
         "type": "float"
        },
        {
         "name": "unit_22_3",
         "rawType": "float64",
         "type": "float"
        },
        {
         "name": "unit_23_3",
         "rawType": "float64",
         "type": "float"
        },
        {
         "name": "unit_24_3",
         "rawType": "float64",
         "type": "float"
        },
        {
         "name": "unit_25_3",
         "rawType": "float64",
         "type": "float"
        },
        {
         "name": "unit_26_3",
         "rawType": "float64",
         "type": "float"
        },
        {
         "name": "unit_27_3",
         "rawType": "float64",
         "type": "float"
        },
        {
         "name": "unit_28_3",
         "rawType": "float64",
         "type": "float"
        },
        {
         "name": "unit_29_3",
         "rawType": "float64",
         "type": "float"
        },
        {
         "name": "unit_30_3",
         "rawType": "float64",
         "type": "float"
        },
        {
         "name": "unit_31_3",
         "rawType": "float64",
         "type": "float"
        },
        {
         "name": "unit_32_3",
         "rawType": "float64",
         "type": "float"
        },
        {
         "name": "unit_33_3",
         "rawType": "float64",
         "type": "float"
        },
        {
         "name": "unit_34_3",
         "rawType": "float64",
         "type": "float"
        },
        {
         "name": "unit_35_3",
         "rawType": "float64",
         "type": "float"
        },
        {
         "name": "unit_36_3",
         "rawType": "float64",
         "type": "float"
        },
        {
         "name": "unit_37_3",
         "rawType": "float64",
         "type": "float"
        },
        {
         "name": "unit_38_3",
         "rawType": "float64",
         "type": "float"
        },
        {
         "name": "unit_39_3",
         "rawType": "float64",
         "type": "float"
        },
        {
         "name": "unit_40_3",
         "rawType": "float64",
         "type": "float"
        },
        {
         "name": "unit_41_3",
         "rawType": "float64",
         "type": "float"
        },
        {
         "name": "unit_42_3",
         "rawType": "float64",
         "type": "float"
        },
        {
         "name": "unit_43_3",
         "rawType": "float64",
         "type": "float"
        },
        {
         "name": "unit_44_3",
         "rawType": "float64",
         "type": "float"
        },
        {
         "name": "unit_45_3",
         "rawType": "float64",
         "type": "float"
        },
        {
         "name": "unit_46_3",
         "rawType": "float64",
         "type": "float"
        },
        {
         "name": "unit_47_3",
         "rawType": "float64",
         "type": "float"
        },
        {
         "name": "unit_48_3",
         "rawType": "float64",
         "type": "float"
        },
        {
         "name": "unit_49_3",
         "rawType": "float64",
         "type": "float"
        },
        {
         "name": "unit_50_3",
         "rawType": "float64",
         "type": "float"
        },
        {
         "name": "unit_51_3",
         "rawType": "float64",
         "type": "float"
        },
        {
         "name": "unit_52_3",
         "rawType": "float64",
         "type": "float"
        },
        {
         "name": "unit_53_3",
         "rawType": "float64",
         "type": "float"
        },
        {
         "name": "unit_54_3",
         "rawType": "float64",
         "type": "float"
        },
        {
         "name": "unit_55_3",
         "rawType": "float64",
         "type": "float"
        },
        {
         "name": "unit_56_3",
         "rawType": "float64",
         "type": "float"
        },
        {
         "name": "unit_57_3",
         "rawType": "float64",
         "type": "float"
        },
        {
         "name": "unit_58_3",
         "rawType": "float64",
         "type": "float"
        },
        {
         "name": "unit_59_3",
         "rawType": "float64",
         "type": "float"
        },
        {
         "name": "unit_60_3",
         "rawType": "float64",
         "type": "float"
        },
        {
         "name": "unit_61_3",
         "rawType": "float64",
         "type": "float"
        },
        {
         "name": "unit_62_3",
         "rawType": "float64",
         "type": "float"
        },
        {
         "name": "unit_63_3",
         "rawType": "float64",
         "type": "float"
        },
        {
         "name": "unit_64_3",
         "rawType": "float64",
         "type": "float"
        },
        {
         "name": "unit_65_3",
         "rawType": "float64",
         "type": "float"
        },
        {
         "name": "unit_66_3",
         "rawType": "float64",
         "type": "float"
        },
        {
         "name": "unit_67_3",
         "rawType": "float64",
         "type": "float"
        },
        {
         "name": "unit_68_3",
         "rawType": "float64",
         "type": "float"
        },
        {
         "name": "unit_69_3",
         "rawType": "float64",
         "type": "float"
        },
        {
         "name": "unit_70_3",
         "rawType": "float64",
         "type": "float"
        },
        {
         "name": "unit_71_3",
         "rawType": "float64",
         "type": "float"
        },
        {
         "name": "unit_72_3",
         "rawType": "float64",
         "type": "float"
        },
        {
         "name": "unit_73_3",
         "rawType": "float64",
         "type": "float"
        },
        {
         "name": "unit_74_3",
         "rawType": "float64",
         "type": "float"
        },
        {
         "name": "unit_75_3",
         "rawType": "float64",
         "type": "float"
        },
        {
         "name": "unit_76_3",
         "rawType": "float64",
         "type": "float"
        },
        {
         "name": "unit_77_3",
         "rawType": "float64",
         "type": "float"
        },
        {
         "name": "unit_78_3",
         "rawType": "float64",
         "type": "float"
        },
        {
         "name": "unit_79_3",
         "rawType": "float64",
         "type": "float"
        },
        {
         "name": "unit_80_3",
         "rawType": "float64",
         "type": "float"
        },
        {
         "name": "unit_81_3",
         "rawType": "float64",
         "type": "float"
        },
        {
         "name": "unit_82_3",
         "rawType": "float64",
         "type": "float"
        },
        {
         "name": "unit_83_3",
         "rawType": "float64",
         "type": "float"
        },
        {
         "name": "unit_84_3",
         "rawType": "float64",
         "type": "float"
        },
        {
         "name": "unit_85_3",
         "rawType": "float64",
         "type": "float"
        },
        {
         "name": "unit_0_-4",
         "rawType": "float64",
         "type": "float"
        },
        {
         "name": "unit_1_-4",
         "rawType": "float64",
         "type": "float"
        },
        {
         "name": "unit_2_-4",
         "rawType": "float64",
         "type": "float"
        },
        {
         "name": "unit_3_-4",
         "rawType": "float64",
         "type": "float"
        },
        {
         "name": "unit_4_-4",
         "rawType": "float64",
         "type": "float"
        },
        {
         "name": "unit_5_-4",
         "rawType": "float64",
         "type": "float"
        },
        {
         "name": "unit_6_-4",
         "rawType": "float64",
         "type": "float"
        },
        {
         "name": "unit_7_-4",
         "rawType": "float64",
         "type": "float"
        },
        {
         "name": "unit_8_-4",
         "rawType": "float64",
         "type": "float"
        },
        {
         "name": "unit_9_-4",
         "rawType": "float64",
         "type": "float"
        },
        {
         "name": "unit_10_-4",
         "rawType": "float64",
         "type": "float"
        },
        {
         "name": "unit_11_-4",
         "rawType": "float64",
         "type": "float"
        },
        {
         "name": "unit_12_-4",
         "rawType": "float64",
         "type": "float"
        },
        {
         "name": "unit_13_-4",
         "rawType": "float64",
         "type": "float"
        },
        {
         "name": "unit_14_-4",
         "rawType": "float64",
         "type": "float"
        },
        {
         "name": "unit_15_-4",
         "rawType": "float64",
         "type": "float"
        },
        {
         "name": "unit_16_-4",
         "rawType": "float64",
         "type": "float"
        },
        {
         "name": "unit_17_-4",
         "rawType": "float64",
         "type": "float"
        },
        {
         "name": "unit_18_-4",
         "rawType": "float64",
         "type": "float"
        },
        {
         "name": "unit_19_-4",
         "rawType": "float64",
         "type": "float"
        },
        {
         "name": "unit_20_-4",
         "rawType": "float64",
         "type": "float"
        },
        {
         "name": "unit_21_-4",
         "rawType": "float64",
         "type": "float"
        },
        {
         "name": "unit_22_-4",
         "rawType": "float64",
         "type": "float"
        },
        {
         "name": "unit_23_-4",
         "rawType": "float64",
         "type": "float"
        },
        {
         "name": "unit_24_-4",
         "rawType": "float64",
         "type": "float"
        },
        {
         "name": "unit_25_-4",
         "rawType": "float64",
         "type": "float"
        },
        {
         "name": "unit_26_-4",
         "rawType": "float64",
         "type": "float"
        },
        {
         "name": "unit_27_-4",
         "rawType": "float64",
         "type": "float"
        },
        {
         "name": "unit_28_-4",
         "rawType": "float64",
         "type": "float"
        },
        {
         "name": "unit_29_-4",
         "rawType": "float64",
         "type": "float"
        },
        {
         "name": "unit_30_-4",
         "rawType": "float64",
         "type": "float"
        },
        {
         "name": "unit_31_-4",
         "rawType": "float64",
         "type": "float"
        },
        {
         "name": "unit_32_-4",
         "rawType": "float64",
         "type": "float"
        },
        {
         "name": "unit_33_-4",
         "rawType": "float64",
         "type": "float"
        },
        {
         "name": "unit_34_-4",
         "rawType": "float64",
         "type": "float"
        },
        {
         "name": "unit_35_-4",
         "rawType": "float64",
         "type": "float"
        },
        {
         "name": "unit_36_-4",
         "rawType": "float64",
         "type": "float"
        },
        {
         "name": "unit_37_-4",
         "rawType": "float64",
         "type": "float"
        },
        {
         "name": "unit_38_-4",
         "rawType": "float64",
         "type": "float"
        },
        {
         "name": "unit_39_-4",
         "rawType": "float64",
         "type": "float"
        },
        {
         "name": "unit_40_-4",
         "rawType": "float64",
         "type": "float"
        },
        {
         "name": "unit_41_-4",
         "rawType": "float64",
         "type": "float"
        },
        {
         "name": "unit_42_-4",
         "rawType": "float64",
         "type": "float"
        },
        {
         "name": "unit_43_-4",
         "rawType": "float64",
         "type": "float"
        },
        {
         "name": "unit_44_-4",
         "rawType": "float64",
         "type": "float"
        },
        {
         "name": "unit_45_-4",
         "rawType": "float64",
         "type": "float"
        },
        {
         "name": "unit_46_-4",
         "rawType": "float64",
         "type": "float"
        },
        {
         "name": "unit_47_-4",
         "rawType": "float64",
         "type": "float"
        },
        {
         "name": "unit_48_-4",
         "rawType": "float64",
         "type": "float"
        },
        {
         "name": "unit_49_-4",
         "rawType": "float64",
         "type": "float"
        },
        {
         "name": "unit_50_-4",
         "rawType": "float64",
         "type": "float"
        },
        {
         "name": "unit_51_-4",
         "rawType": "float64",
         "type": "float"
        },
        {
         "name": "unit_52_-4",
         "rawType": "float64",
         "type": "float"
        },
        {
         "name": "unit_53_-4",
         "rawType": "float64",
         "type": "float"
        },
        {
         "name": "unit_54_-4",
         "rawType": "float64",
         "type": "float"
        },
        {
         "name": "unit_55_-4",
         "rawType": "float64",
         "type": "float"
        },
        {
         "name": "unit_56_-4",
         "rawType": "float64",
         "type": "float"
        },
        {
         "name": "unit_57_-4",
         "rawType": "float64",
         "type": "float"
        },
        {
         "name": "unit_58_-4",
         "rawType": "float64",
         "type": "float"
        },
        {
         "name": "unit_59_-4",
         "rawType": "float64",
         "type": "float"
        },
        {
         "name": "unit_60_-4",
         "rawType": "float64",
         "type": "float"
        },
        {
         "name": "unit_61_-4",
         "rawType": "float64",
         "type": "float"
        },
        {
         "name": "unit_62_-4",
         "rawType": "float64",
         "type": "float"
        },
        {
         "name": "unit_63_-4",
         "rawType": "float64",
         "type": "float"
        },
        {
         "name": "unit_64_-4",
         "rawType": "float64",
         "type": "float"
        },
        {
         "name": "unit_65_-4",
         "rawType": "float64",
         "type": "float"
        },
        {
         "name": "unit_66_-4",
         "rawType": "float64",
         "type": "float"
        },
        {
         "name": "unit_67_-4",
         "rawType": "float64",
         "type": "float"
        },
        {
         "name": "unit_68_-4",
         "rawType": "float64",
         "type": "float"
        },
        {
         "name": "unit_69_-4",
         "rawType": "float64",
         "type": "float"
        },
        {
         "name": "unit_70_-4",
         "rawType": "float64",
         "type": "float"
        },
        {
         "name": "unit_71_-4",
         "rawType": "float64",
         "type": "float"
        },
        {
         "name": "unit_72_-4",
         "rawType": "float64",
         "type": "float"
        },
        {
         "name": "unit_73_-4",
         "rawType": "float64",
         "type": "float"
        },
        {
         "name": "unit_74_-4",
         "rawType": "float64",
         "type": "float"
        },
        {
         "name": "unit_75_-4",
         "rawType": "float64",
         "type": "float"
        },
        {
         "name": "unit_76_-4",
         "rawType": "float64",
         "type": "float"
        },
        {
         "name": "unit_77_-4",
         "rawType": "float64",
         "type": "float"
        },
        {
         "name": "unit_78_-4",
         "rawType": "float64",
         "type": "float"
        },
        {
         "name": "unit_79_-4",
         "rawType": "float64",
         "type": "float"
        },
        {
         "name": "unit_80_-4",
         "rawType": "float64",
         "type": "float"
        },
        {
         "name": "unit_81_-4",
         "rawType": "float64",
         "type": "float"
        },
        {
         "name": "unit_82_-4",
         "rawType": "float64",
         "type": "float"
        },
        {
         "name": "unit_83_-4",
         "rawType": "float64",
         "type": "float"
        },
        {
         "name": "unit_84_-4",
         "rawType": "float64",
         "type": "float"
        },
        {
         "name": "unit_85_-4",
         "rawType": "float64",
         "type": "float"
        },
        {
         "name": "unit_0_4",
         "rawType": "float64",
         "type": "float"
        },
        {
         "name": "unit_1_4",
         "rawType": "float64",
         "type": "float"
        },
        {
         "name": "unit_2_4",
         "rawType": "float64",
         "type": "float"
        },
        {
         "name": "unit_3_4",
         "rawType": "float64",
         "type": "float"
        },
        {
         "name": "unit_4_4",
         "rawType": "float64",
         "type": "float"
        },
        {
         "name": "unit_5_4",
         "rawType": "float64",
         "type": "float"
        },
        {
         "name": "unit_6_4",
         "rawType": "float64",
         "type": "float"
        },
        {
         "name": "unit_7_4",
         "rawType": "float64",
         "type": "float"
        },
        {
         "name": "unit_8_4",
         "rawType": "float64",
         "type": "float"
        },
        {
         "name": "unit_9_4",
         "rawType": "float64",
         "type": "float"
        },
        {
         "name": "unit_10_4",
         "rawType": "float64",
         "type": "float"
        },
        {
         "name": "unit_11_4",
         "rawType": "float64",
         "type": "float"
        },
        {
         "name": "unit_12_4",
         "rawType": "float64",
         "type": "float"
        },
        {
         "name": "unit_13_4",
         "rawType": "float64",
         "type": "float"
        },
        {
         "name": "unit_14_4",
         "rawType": "float64",
         "type": "float"
        },
        {
         "name": "unit_15_4",
         "rawType": "float64",
         "type": "float"
        },
        {
         "name": "unit_16_4",
         "rawType": "float64",
         "type": "float"
        },
        {
         "name": "unit_17_4",
         "rawType": "float64",
         "type": "float"
        },
        {
         "name": "unit_18_4",
         "rawType": "float64",
         "type": "float"
        },
        {
         "name": "unit_19_4",
         "rawType": "float64",
         "type": "float"
        },
        {
         "name": "unit_20_4",
         "rawType": "float64",
         "type": "float"
        },
        {
         "name": "unit_21_4",
         "rawType": "float64",
         "type": "float"
        },
        {
         "name": "unit_22_4",
         "rawType": "float64",
         "type": "float"
        },
        {
         "name": "unit_23_4",
         "rawType": "float64",
         "type": "float"
        },
        {
         "name": "unit_24_4",
         "rawType": "float64",
         "type": "float"
        },
        {
         "name": "unit_25_4",
         "rawType": "float64",
         "type": "float"
        },
        {
         "name": "unit_26_4",
         "rawType": "float64",
         "type": "float"
        },
        {
         "name": "unit_27_4",
         "rawType": "float64",
         "type": "float"
        },
        {
         "name": "unit_28_4",
         "rawType": "float64",
         "type": "float"
        },
        {
         "name": "unit_29_4",
         "rawType": "float64",
         "type": "float"
        },
        {
         "name": "unit_30_4",
         "rawType": "float64",
         "type": "float"
        },
        {
         "name": "unit_31_4",
         "rawType": "float64",
         "type": "float"
        },
        {
         "name": "unit_32_4",
         "rawType": "float64",
         "type": "float"
        },
        {
         "name": "unit_33_4",
         "rawType": "float64",
         "type": "float"
        },
        {
         "name": "unit_34_4",
         "rawType": "float64",
         "type": "float"
        },
        {
         "name": "unit_35_4",
         "rawType": "float64",
         "type": "float"
        },
        {
         "name": "unit_36_4",
         "rawType": "float64",
         "type": "float"
        },
        {
         "name": "unit_37_4",
         "rawType": "float64",
         "type": "float"
        },
        {
         "name": "unit_38_4",
         "rawType": "float64",
         "type": "float"
        },
        {
         "name": "unit_39_4",
         "rawType": "float64",
         "type": "float"
        },
        {
         "name": "unit_40_4",
         "rawType": "float64",
         "type": "float"
        },
        {
         "name": "unit_41_4",
         "rawType": "float64",
         "type": "float"
        },
        {
         "name": "unit_42_4",
         "rawType": "float64",
         "type": "float"
        },
        {
         "name": "unit_43_4",
         "rawType": "float64",
         "type": "float"
        },
        {
         "name": "unit_44_4",
         "rawType": "float64",
         "type": "float"
        },
        {
         "name": "unit_45_4",
         "rawType": "float64",
         "type": "float"
        },
        {
         "name": "unit_46_4",
         "rawType": "float64",
         "type": "float"
        },
        {
         "name": "unit_47_4",
         "rawType": "float64",
         "type": "float"
        },
        {
         "name": "unit_48_4",
         "rawType": "float64",
         "type": "float"
        },
        {
         "name": "unit_49_4",
         "rawType": "float64",
         "type": "float"
        },
        {
         "name": "unit_50_4",
         "rawType": "float64",
         "type": "float"
        },
        {
         "name": "unit_51_4",
         "rawType": "float64",
         "type": "float"
        },
        {
         "name": "unit_52_4",
         "rawType": "float64",
         "type": "float"
        },
        {
         "name": "unit_53_4",
         "rawType": "float64",
         "type": "float"
        },
        {
         "name": "unit_54_4",
         "rawType": "float64",
         "type": "float"
        },
        {
         "name": "unit_55_4",
         "rawType": "float64",
         "type": "float"
        },
        {
         "name": "unit_56_4",
         "rawType": "float64",
         "type": "float"
        },
        {
         "name": "unit_57_4",
         "rawType": "float64",
         "type": "float"
        },
        {
         "name": "unit_58_4",
         "rawType": "float64",
         "type": "float"
        },
        {
         "name": "unit_59_4",
         "rawType": "float64",
         "type": "float"
        },
        {
         "name": "unit_60_4",
         "rawType": "float64",
         "type": "float"
        },
        {
         "name": "unit_61_4",
         "rawType": "float64",
         "type": "float"
        },
        {
         "name": "unit_62_4",
         "rawType": "float64",
         "type": "float"
        },
        {
         "name": "unit_63_4",
         "rawType": "float64",
         "type": "float"
        },
        {
         "name": "unit_64_4",
         "rawType": "float64",
         "type": "float"
        },
        {
         "name": "unit_65_4",
         "rawType": "float64",
         "type": "float"
        },
        {
         "name": "unit_66_4",
         "rawType": "float64",
         "type": "float"
        },
        {
         "name": "unit_67_4",
         "rawType": "float64",
         "type": "float"
        },
        {
         "name": "unit_68_4",
         "rawType": "float64",
         "type": "float"
        },
        {
         "name": "unit_69_4",
         "rawType": "float64",
         "type": "float"
        },
        {
         "name": "unit_70_4",
         "rawType": "float64",
         "type": "float"
        },
        {
         "name": "unit_71_4",
         "rawType": "float64",
         "type": "float"
        },
        {
         "name": "unit_72_4",
         "rawType": "float64",
         "type": "float"
        },
        {
         "name": "unit_73_4",
         "rawType": "float64",
         "type": "float"
        },
        {
         "name": "unit_74_4",
         "rawType": "float64",
         "type": "float"
        },
        {
         "name": "unit_75_4",
         "rawType": "float64",
         "type": "float"
        },
        {
         "name": "unit_76_4",
         "rawType": "float64",
         "type": "float"
        },
        {
         "name": "unit_77_4",
         "rawType": "float64",
         "type": "float"
        },
        {
         "name": "unit_78_4",
         "rawType": "float64",
         "type": "float"
        },
        {
         "name": "unit_79_4",
         "rawType": "float64",
         "type": "float"
        },
        {
         "name": "unit_80_4",
         "rawType": "float64",
         "type": "float"
        },
        {
         "name": "unit_81_4",
         "rawType": "float64",
         "type": "float"
        },
        {
         "name": "unit_82_4",
         "rawType": "float64",
         "type": "float"
        },
        {
         "name": "unit_83_4",
         "rawType": "float64",
         "type": "float"
        },
        {
         "name": "unit_84_4",
         "rawType": "float64",
         "type": "float"
        },
        {
         "name": "unit_85_4",
         "rawType": "float64",
         "type": "float"
        },
        {
         "name": "unit_0_-5",
         "rawType": "float64",
         "type": "float"
        },
        {
         "name": "unit_1_-5",
         "rawType": "float64",
         "type": "float"
        },
        {
         "name": "unit_2_-5",
         "rawType": "float64",
         "type": "float"
        },
        {
         "name": "unit_3_-5",
         "rawType": "float64",
         "type": "float"
        },
        {
         "name": "unit_4_-5",
         "rawType": "float64",
         "type": "float"
        },
        {
         "name": "unit_5_-5",
         "rawType": "float64",
         "type": "float"
        },
        {
         "name": "unit_6_-5",
         "rawType": "float64",
         "type": "float"
        },
        {
         "name": "unit_7_-5",
         "rawType": "float64",
         "type": "float"
        },
        {
         "name": "unit_8_-5",
         "rawType": "float64",
         "type": "float"
        },
        {
         "name": "unit_9_-5",
         "rawType": "float64",
         "type": "float"
        },
        {
         "name": "unit_10_-5",
         "rawType": "float64",
         "type": "float"
        },
        {
         "name": "unit_11_-5",
         "rawType": "float64",
         "type": "float"
        },
        {
         "name": "unit_12_-5",
         "rawType": "float64",
         "type": "float"
        },
        {
         "name": "unit_13_-5",
         "rawType": "float64",
         "type": "float"
        },
        {
         "name": "unit_14_-5",
         "rawType": "float64",
         "type": "float"
        },
        {
         "name": "unit_15_-5",
         "rawType": "float64",
         "type": "float"
        },
        {
         "name": "unit_16_-5",
         "rawType": "float64",
         "type": "float"
        },
        {
         "name": "unit_17_-5",
         "rawType": "float64",
         "type": "float"
        },
        {
         "name": "unit_18_-5",
         "rawType": "float64",
         "type": "float"
        },
        {
         "name": "unit_19_-5",
         "rawType": "float64",
         "type": "float"
        },
        {
         "name": "unit_20_-5",
         "rawType": "float64",
         "type": "float"
        },
        {
         "name": "unit_21_-5",
         "rawType": "float64",
         "type": "float"
        },
        {
         "name": "unit_22_-5",
         "rawType": "float64",
         "type": "float"
        },
        {
         "name": "unit_23_-5",
         "rawType": "float64",
         "type": "float"
        },
        {
         "name": "unit_24_-5",
         "rawType": "float64",
         "type": "float"
        },
        {
         "name": "unit_25_-5",
         "rawType": "float64",
         "type": "float"
        },
        {
         "name": "unit_26_-5",
         "rawType": "float64",
         "type": "float"
        },
        {
         "name": "unit_27_-5",
         "rawType": "float64",
         "type": "float"
        },
        {
         "name": "unit_28_-5",
         "rawType": "float64",
         "type": "float"
        },
        {
         "name": "unit_29_-5",
         "rawType": "float64",
         "type": "float"
        },
        {
         "name": "unit_30_-5",
         "rawType": "float64",
         "type": "float"
        },
        {
         "name": "unit_31_-5",
         "rawType": "float64",
         "type": "float"
        },
        {
         "name": "unit_32_-5",
         "rawType": "float64",
         "type": "float"
        },
        {
         "name": "unit_33_-5",
         "rawType": "float64",
         "type": "float"
        },
        {
         "name": "unit_34_-5",
         "rawType": "float64",
         "type": "float"
        },
        {
         "name": "unit_35_-5",
         "rawType": "float64",
         "type": "float"
        },
        {
         "name": "unit_36_-5",
         "rawType": "float64",
         "type": "float"
        },
        {
         "name": "unit_37_-5",
         "rawType": "float64",
         "type": "float"
        },
        {
         "name": "unit_38_-5",
         "rawType": "float64",
         "type": "float"
        },
        {
         "name": "unit_39_-5",
         "rawType": "float64",
         "type": "float"
        },
        {
         "name": "unit_40_-5",
         "rawType": "float64",
         "type": "float"
        },
        {
         "name": "unit_41_-5",
         "rawType": "float64",
         "type": "float"
        },
        {
         "name": "unit_42_-5",
         "rawType": "float64",
         "type": "float"
        },
        {
         "name": "unit_43_-5",
         "rawType": "float64",
         "type": "float"
        },
        {
         "name": "unit_44_-5",
         "rawType": "float64",
         "type": "float"
        },
        {
         "name": "unit_45_-5",
         "rawType": "float64",
         "type": "float"
        },
        {
         "name": "unit_46_-5",
         "rawType": "float64",
         "type": "float"
        },
        {
         "name": "unit_47_-5",
         "rawType": "float64",
         "type": "float"
        },
        {
         "name": "unit_48_-5",
         "rawType": "float64",
         "type": "float"
        },
        {
         "name": "unit_49_-5",
         "rawType": "float64",
         "type": "float"
        },
        {
         "name": "unit_50_-5",
         "rawType": "float64",
         "type": "float"
        },
        {
         "name": "unit_51_-5",
         "rawType": "float64",
         "type": "float"
        },
        {
         "name": "unit_52_-5",
         "rawType": "float64",
         "type": "float"
        },
        {
         "name": "unit_53_-5",
         "rawType": "float64",
         "type": "float"
        },
        {
         "name": "unit_54_-5",
         "rawType": "float64",
         "type": "float"
        },
        {
         "name": "unit_55_-5",
         "rawType": "float64",
         "type": "float"
        },
        {
         "name": "unit_56_-5",
         "rawType": "float64",
         "type": "float"
        },
        {
         "name": "unit_57_-5",
         "rawType": "float64",
         "type": "float"
        },
        {
         "name": "unit_58_-5",
         "rawType": "float64",
         "type": "float"
        },
        {
         "name": "unit_59_-5",
         "rawType": "float64",
         "type": "float"
        },
        {
         "name": "unit_60_-5",
         "rawType": "float64",
         "type": "float"
        },
        {
         "name": "unit_61_-5",
         "rawType": "float64",
         "type": "float"
        },
        {
         "name": "unit_62_-5",
         "rawType": "float64",
         "type": "float"
        },
        {
         "name": "unit_63_-5",
         "rawType": "float64",
         "type": "float"
        },
        {
         "name": "unit_64_-5",
         "rawType": "float64",
         "type": "float"
        },
        {
         "name": "unit_65_-5",
         "rawType": "float64",
         "type": "float"
        },
        {
         "name": "unit_66_-5",
         "rawType": "float64",
         "type": "float"
        },
        {
         "name": "unit_67_-5",
         "rawType": "float64",
         "type": "float"
        },
        {
         "name": "unit_68_-5",
         "rawType": "float64",
         "type": "float"
        },
        {
         "name": "unit_69_-5",
         "rawType": "float64",
         "type": "float"
        },
        {
         "name": "unit_70_-5",
         "rawType": "float64",
         "type": "float"
        },
        {
         "name": "unit_71_-5",
         "rawType": "float64",
         "type": "float"
        },
        {
         "name": "unit_72_-5",
         "rawType": "float64",
         "type": "float"
        },
        {
         "name": "unit_73_-5",
         "rawType": "float64",
         "type": "float"
        },
        {
         "name": "unit_74_-5",
         "rawType": "float64",
         "type": "float"
        },
        {
         "name": "unit_75_-5",
         "rawType": "float64",
         "type": "float"
        },
        {
         "name": "unit_76_-5",
         "rawType": "float64",
         "type": "float"
        },
        {
         "name": "unit_77_-5",
         "rawType": "float64",
         "type": "float"
        },
        {
         "name": "unit_78_-5",
         "rawType": "float64",
         "type": "float"
        },
        {
         "name": "unit_79_-5",
         "rawType": "float64",
         "type": "float"
        },
        {
         "name": "unit_80_-5",
         "rawType": "float64",
         "type": "float"
        },
        {
         "name": "unit_81_-5",
         "rawType": "float64",
         "type": "float"
        },
        {
         "name": "unit_82_-5",
         "rawType": "float64",
         "type": "float"
        },
        {
         "name": "unit_83_-5",
         "rawType": "float64",
         "type": "float"
        },
        {
         "name": "unit_84_-5",
         "rawType": "float64",
         "type": "float"
        },
        {
         "name": "unit_85_-5",
         "rawType": "float64",
         "type": "float"
        },
        {
         "name": "unit_0_5",
         "rawType": "float64",
         "type": "float"
        },
        {
         "name": "unit_1_5",
         "rawType": "float64",
         "type": "float"
        },
        {
         "name": "unit_2_5",
         "rawType": "float64",
         "type": "float"
        },
        {
         "name": "unit_3_5",
         "rawType": "float64",
         "type": "float"
        },
        {
         "name": "unit_4_5",
         "rawType": "float64",
         "type": "float"
        },
        {
         "name": "unit_5_5",
         "rawType": "float64",
         "type": "float"
        },
        {
         "name": "unit_6_5",
         "rawType": "float64",
         "type": "float"
        },
        {
         "name": "unit_7_5",
         "rawType": "float64",
         "type": "float"
        },
        {
         "name": "unit_8_5",
         "rawType": "float64",
         "type": "float"
        },
        {
         "name": "unit_9_5",
         "rawType": "float64",
         "type": "float"
        },
        {
         "name": "unit_10_5",
         "rawType": "float64",
         "type": "float"
        },
        {
         "name": "unit_11_5",
         "rawType": "float64",
         "type": "float"
        },
        {
         "name": "unit_12_5",
         "rawType": "float64",
         "type": "float"
        },
        {
         "name": "unit_13_5",
         "rawType": "float64",
         "type": "float"
        },
        {
         "name": "unit_14_5",
         "rawType": "float64",
         "type": "float"
        },
        {
         "name": "unit_15_5",
         "rawType": "float64",
         "type": "float"
        },
        {
         "name": "unit_16_5",
         "rawType": "float64",
         "type": "float"
        },
        {
         "name": "unit_17_5",
         "rawType": "float64",
         "type": "float"
        },
        {
         "name": "unit_18_5",
         "rawType": "float64",
         "type": "float"
        },
        {
         "name": "unit_19_5",
         "rawType": "float64",
         "type": "float"
        },
        {
         "name": "unit_20_5",
         "rawType": "float64",
         "type": "float"
        },
        {
         "name": "unit_21_5",
         "rawType": "float64",
         "type": "float"
        },
        {
         "name": "unit_22_5",
         "rawType": "float64",
         "type": "float"
        },
        {
         "name": "unit_23_5",
         "rawType": "float64",
         "type": "float"
        },
        {
         "name": "unit_24_5",
         "rawType": "float64",
         "type": "float"
        },
        {
         "name": "unit_25_5",
         "rawType": "float64",
         "type": "float"
        },
        {
         "name": "unit_26_5",
         "rawType": "float64",
         "type": "float"
        },
        {
         "name": "unit_27_5",
         "rawType": "float64",
         "type": "float"
        },
        {
         "name": "unit_28_5",
         "rawType": "float64",
         "type": "float"
        },
        {
         "name": "unit_29_5",
         "rawType": "float64",
         "type": "float"
        },
        {
         "name": "unit_30_5",
         "rawType": "float64",
         "type": "float"
        },
        {
         "name": "unit_31_5",
         "rawType": "float64",
         "type": "float"
        },
        {
         "name": "unit_32_5",
         "rawType": "float64",
         "type": "float"
        },
        {
         "name": "unit_33_5",
         "rawType": "float64",
         "type": "float"
        },
        {
         "name": "unit_34_5",
         "rawType": "float64",
         "type": "float"
        },
        {
         "name": "unit_35_5",
         "rawType": "float64",
         "type": "float"
        },
        {
         "name": "unit_36_5",
         "rawType": "float64",
         "type": "float"
        },
        {
         "name": "unit_37_5",
         "rawType": "float64",
         "type": "float"
        },
        {
         "name": "unit_38_5",
         "rawType": "float64",
         "type": "float"
        },
        {
         "name": "unit_39_5",
         "rawType": "float64",
         "type": "float"
        },
        {
         "name": "unit_40_5",
         "rawType": "float64",
         "type": "float"
        },
        {
         "name": "unit_41_5",
         "rawType": "float64",
         "type": "float"
        },
        {
         "name": "unit_42_5",
         "rawType": "float64",
         "type": "float"
        },
        {
         "name": "unit_43_5",
         "rawType": "float64",
         "type": "float"
        },
        {
         "name": "unit_44_5",
         "rawType": "float64",
         "type": "float"
        },
        {
         "name": "unit_45_5",
         "rawType": "float64",
         "type": "float"
        },
        {
         "name": "unit_46_5",
         "rawType": "float64",
         "type": "float"
        },
        {
         "name": "unit_47_5",
         "rawType": "float64",
         "type": "float"
        },
        {
         "name": "unit_48_5",
         "rawType": "float64",
         "type": "float"
        },
        {
         "name": "unit_49_5",
         "rawType": "float64",
         "type": "float"
        },
        {
         "name": "unit_50_5",
         "rawType": "float64",
         "type": "float"
        },
        {
         "name": "unit_51_5",
         "rawType": "float64",
         "type": "float"
        },
        {
         "name": "unit_52_5",
         "rawType": "float64",
         "type": "float"
        },
        {
         "name": "unit_53_5",
         "rawType": "float64",
         "type": "float"
        },
        {
         "name": "unit_54_5",
         "rawType": "float64",
         "type": "float"
        },
        {
         "name": "unit_55_5",
         "rawType": "float64",
         "type": "float"
        },
        {
         "name": "unit_56_5",
         "rawType": "float64",
         "type": "float"
        },
        {
         "name": "unit_57_5",
         "rawType": "float64",
         "type": "float"
        },
        {
         "name": "unit_58_5",
         "rawType": "float64",
         "type": "float"
        },
        {
         "name": "unit_59_5",
         "rawType": "float64",
         "type": "float"
        },
        {
         "name": "unit_60_5",
         "rawType": "float64",
         "type": "float"
        },
        {
         "name": "unit_61_5",
         "rawType": "float64",
         "type": "float"
        },
        {
         "name": "unit_62_5",
         "rawType": "float64",
         "type": "float"
        },
        {
         "name": "unit_63_5",
         "rawType": "float64",
         "type": "float"
        },
        {
         "name": "unit_64_5",
         "rawType": "float64",
         "type": "float"
        },
        {
         "name": "unit_65_5",
         "rawType": "float64",
         "type": "float"
        },
        {
         "name": "unit_66_5",
         "rawType": "float64",
         "type": "float"
        },
        {
         "name": "unit_67_5",
         "rawType": "float64",
         "type": "float"
        },
        {
         "name": "unit_68_5",
         "rawType": "float64",
         "type": "float"
        },
        {
         "name": "unit_69_5",
         "rawType": "float64",
         "type": "float"
        },
        {
         "name": "unit_70_5",
         "rawType": "float64",
         "type": "float"
        },
        {
         "name": "unit_71_5",
         "rawType": "float64",
         "type": "float"
        },
        {
         "name": "unit_72_5",
         "rawType": "float64",
         "type": "float"
        },
        {
         "name": "unit_73_5",
         "rawType": "float64",
         "type": "float"
        },
        {
         "name": "unit_74_5",
         "rawType": "float64",
         "type": "float"
        },
        {
         "name": "unit_75_5",
         "rawType": "float64",
         "type": "float"
        },
        {
         "name": "unit_76_5",
         "rawType": "float64",
         "type": "float"
        },
        {
         "name": "unit_77_5",
         "rawType": "float64",
         "type": "float"
        },
        {
         "name": "unit_78_5",
         "rawType": "float64",
         "type": "float"
        },
        {
         "name": "unit_79_5",
         "rawType": "float64",
         "type": "float"
        },
        {
         "name": "unit_80_5",
         "rawType": "float64",
         "type": "float"
        },
        {
         "name": "unit_81_5",
         "rawType": "float64",
         "type": "float"
        },
        {
         "name": "unit_82_5",
         "rawType": "float64",
         "type": "float"
        },
        {
         "name": "unit_83_5",
         "rawType": "float64",
         "type": "float"
        },
        {
         "name": "unit_84_5",
         "rawType": "float64",
         "type": "float"
        },
        {
         "name": "unit_85_5",
         "rawType": "float64",
         "type": "float"
        }
       ],
       "ref": "cc9f6a8b-70a4-4205-b4c6-e1f4db6ca6f8",
       "rows": [
        [
         "0",
         "0.0",
         "0.0",
         "0.0",
         "0.0",
         "0.0",
         "0.0",
         "0.0",
         "0.0",
         "0.0",
         "0.0",
         "0.0",
         "0.0",
         "0.0",
         "0.0",
         "0.0",
         "0.0",
         "0.0",
         "0.0",
         "0.0",
         "0.0",
         "0.0",
         "0.0",
         "0.0",
         "0.0",
         "0.0",
         "0.0",
         "0.0",
         "0.0",
         "0.0",
         "0.0",
         "0.0",
         "0.0",
         "0.0",
         "0.0",
         "0.0",
         "0.0",
         "0.0",
         "0.0",
         "0.0",
         "0.0",
         "0.0",
         "0.0",
         "0.0",
         "0.0",
         "0.0",
         "0.0",
         "0.0",
         "0.0",
         "0.0",
         "0.0",
         "0.0",
         "0.0",
         "0.0",
         "0.0",
         "0.0",
         "0.0",
         "0.0",
         "0.0",
         "0.0",
         "0.0",
         "0.0",
         "0.0",
         "0.0",
         "0.0",
         "0.0",
         "0.0",
         "0.0",
         "0.0",
         "0.0",
         "0.0",
         "0.0",
         "0.0",
         "0.0",
         "0.0",
         "0.0",
         "0.0",
         "0.0",
         "0.0",
         "0.0",
         "0.0",
         "0.0",
         "0.0",
         "0.0",
         "0.0",
         "0.0",
         "0.0",
         "0.0",
         "0.0",
         "0.0",
         "0.0",
         "0.0",
         "0.0",
         "0.0",
         "0.0",
         "0.0",
         "0.0",
         "0.0",
         "0.0",
         "0.0",
         "0.0",
         "0.0",
         "0.0",
         "0.0",
         "0.0",
         "0.0",
         "0.0",
         "0.0",
         "0.0",
         "0.0",
         "0.0",
         "0.0",
         "0.0",
         "0.0",
         "0.0",
         "0.0",
         "0.0",
         "0.0",
         "0.0",
         "0.0",
         "0.0",
         "0.0",
         "0.0",
         "0.0",
         "0.0",
         "0.0",
         "0.0",
         "0.0",
         "0.0",
         "0.0",
         "0.0",
         "0.0",
         "0.0",
         "0.0",
         "0.0",
         "0.0",
         "0.0",
         "0.0",
         "0.0",
         "0.0",
         "0.0",
         "0.0",
         "0.0",
         "0.0",
         "0.0",
         "0.0",
         "0.0",
         "0.0",
         "0.0",
         "0.0",
         "0.0",
         "0.0",
         "0.0",
         "0.0",
         "0.0",
         "0.0",
         "0.0",
         "0.0",
         "0.0",
         "0.0",
         "0.0",
         "0.0",
         "0.0",
         "0.0",
         "0.0",
         "0.0",
         "0.0",
         "0.0",
         "0.0",
         "0.0",
         "0.0",
         "0.0",
         "0.0",
         "0.0",
         "0.0",
         "0.0",
         "0.0",
         "0.0",
         "0.0",
         "0.0",
         "0.0",
         "0.0",
         "0.0",
         "0.0",
         "0.0",
         "0.0",
         "0.0",
         "0.0",
         "0.0",
         "0.0",
         "0.0",
         "0.0",
         "0.0",
         "0.0",
         "0.0",
         "0.0",
         "0.0",
         "0.0",
         "0.0",
         "0.0",
         "0.0",
         "0.0",
         "0.0",
         "0.0",
         "0.0",
         "0.0",
         "0.0",
         "0.0",
         "0.0",
         "0.0",
         "0.0",
         "0.0",
         "0.0",
         "0.0",
         "0.0",
         "0.0",
         "0.0",
         "0.0",
         "0.0",
         "0.0",
         "0.0",
         "0.0",
         "0.0",
         "0.0",
         "0.0",
         "0.0",
         "0.0",
         "0.0",
         "0.0",
         "0.0",
         "0.0",
         "0.0",
         "0.0",
         "0.0",
         "0.0",
         "0.0",
         "0.0",
         "0.0",
         "0.0",
         "0.0",
         "0.0",
         "0.0",
         "0.0",
         "0.0",
         "0.0",
         "0.0",
         "0.0",
         "0.0",
         "0.0",
         "0.0",
         "0.0",
         "0.0",
         "0.0",
         "0.0",
         "0.0",
         "0.0",
         "0.0",
         "0.0",
         "0.0",
         "0.0",
         "0.0",
         "0.0",
         "0.0",
         "0.0",
         "0.0",
         "0.0",
         "0.0",
         "0.0",
         "0.0",
         "0.0",
         "0.0",
         "0.0",
         "0.0",
         "0.0",
         "0.0",
         "0.0",
         "0.0",
         "0.0",
         "0.0",
         "0.0",
         "0.0",
         "0.0",
         "0.0",
         "0.0",
         "0.0",
         "0.0",
         "0.0",
         "0.0",
         "0.0",
         "0.0",
         "0.0",
         "0.0",
         "0.0",
         "0.0",
         "0.0",
         "0.0",
         "0.0",
         "0.0",
         "0.0",
         "0.0",
         "0.0",
         "0.0",
         "0.0",
         "0.0",
         "0.0",
         "0.0",
         "0.0",
         "0.0",
         "0.0",
         "0.0",
         "0.0",
         "0.0",
         "0.0",
         "0.0",
         "0.0",
         "0.0",
         "0.0",
         "0.0",
         "0.0",
         "0.0",
         "0.0",
         "0.0",
         "0.0",
         "0.0",
         "0.0",
         "0.0",
         "0.0",
         "0.0",
         "0.0",
         "0.0",
         "0.0",
         "0.0",
         "0.0",
         "0.0",
         "0.0",
         "0.0",
         "0.0",
         "0.0",
         "0.0",
         "0.0",
         "0.0",
         "0.0",
         "0.0",
         "0.0",
         "0.0",
         "0.0",
         "0.0",
         "0.0",
         "0.0",
         "0.0",
         "0.0",
         "0.0",
         "0.0",
         "0.0",
         "0.0",
         "0.0",
         "0.0",
         "0.0",
         "0.0",
         "0.0",
         "0.0",
         "0.0",
         "0.0",
         "0.0",
         "0.0",
         "0.0",
         "0.0",
         "0.0",
         "0.0",
         "0.0",
         "0.0",
         "0.0",
         "0.0",
         "0.0",
         "0.0",
         "0.0",
         "0.0",
         "0.0",
         "0.0",
         "0.0",
         "0.0",
         "0.0",
         "0.0",
         "0.0",
         "0.0",
         "0.0",
         "0.0",
         "0.0",
         "0.0",
         "0.0",
         "0.0",
         "0.0",
         "0.0",
         "0.0",
         "0.0",
         "0.0",
         "0.0",
         "0.0",
         "0.0",
         "0.0",
         "0.0",
         "0.0",
         "0.0",
         "0.0",
         "0.0",
         "0.0",
         "0.0",
         "0.0",
         "0.0",
         "0.0",
         "0.0",
         "0.0",
         "0.0",
         "0.0",
         "0.0",
         "0.0",
         "0.0",
         "0.0",
         "0.0",
         "0.0",
         "0.0",
         "0.0",
         "0.0",
         "0.0",
         "0.0",
         "0.0",
         "0.0",
         "0.0",
         "0.0",
         "0.0",
         "0.0",
         "0.0",
         "0.0",
         "0.0",
         "0.0",
         "0.0",
         "0.0",
         "0.0",
         "0.0",
         "0.0",
         "0.0",
         "0.0",
         "0.0",
         "0.0",
         "0.0",
         "0.0",
         "0.0",
         "0.0",
         "0.0",
         "0.0",
         "0.0",
         "0.0",
         "0.0",
         "0.0",
         "0.0",
         "0.0",
         "0.0",
         "0.0",
         "0.0",
         "0.0",
         "0.0",
         "0.0",
         "0.0",
         "0.0",
         "0.0",
         "0.0",
         "0.0",
         "0.0",
         "0.0",
         "0.0",
         "0.0",
         "0.0",
         "0.0",
         "0.0",
         "0.0",
         "0.0",
         "0.0",
         "0.0",
         "0.0",
         "0.0",
         "0.0",
         "0.0",
         "0.0",
         "0.0",
         "0.0",
         "0.0",
         "0.0",
         "0.0",
         "0.0",
         "0.0",
         "0.0",
         "0.0",
         "0.0",
         "0.0",
         "0.0",
         "0.0",
         "0.0",
         "0.0",
         "0.0",
         "0.0",
         "0.0",
         "0.0",
         "0.0",
         "0.0",
         "0.0",
         "0.0",
         "0.0",
         "0.0",
         "0.0",
         "0.0",
         "0.0",
         "0.0",
         "0.0",
         "0.0",
         "0.0",
         "0.0",
         "0.0",
         "0.0",
         "0.0",
         "0.0",
         "0.0",
         "0.0",
         "0.0",
         "0.0",
         "0.0",
         "0.0",
         "0.0",
         "0.0",
         "0.0",
         "0.0",
         "0.0",
         "0.0",
         "0.0",
         "0.0",
         "0.0",
         "0.0",
         "0.0",
         "0.0",
         "0.0",
         "0.0",
         "0.0",
         "0.0",
         "0.0",
         "0.0",
         "0.0",
         "0.0",
         "0.0",
         "0.0",
         "0.0",
         "0.0",
         "0.0",
         "0.0",
         "0.0",
         "0.0",
         "0.0",
         "0.0",
         "0.0",
         "0.0",
         "0.0",
         "0.0",
         "0.0",
         "0.0",
         "0.0",
         "0.0",
         "0.0",
         "0.0",
         "0.0",
         "0.0",
         "0.0",
         "0.0",
         "0.0",
         "0.0",
         "0.0",
         "0.0",
         "0.0",
         "0.0",
         "0.0",
         "0.0",
         "0.0",
         "0.0",
         "0.0",
         "0.0",
         "0.0",
         "0.0",
         "0.0",
         "0.0",
         "0.0",
         "0.0",
         "0.0",
         "0.0",
         "0.0",
         "0.0",
         "0.0",
         "0.0",
         "0.0",
         "0.0",
         "0.0",
         "0.0",
         "0.0",
         "0.0",
         "0.0",
         "0.0",
         "0.0",
         "0.0",
         "0.0",
         "0.0",
         "0.0",
         "0.0",
         "0.0",
         "0.0",
         "0.0",
         "0.0",
         "0.0",
         "0.0",
         "0.0",
         "0.0",
         "0.0",
         "0.0",
         "0.0",
         "0.0",
         "0.0",
         "0.0",
         "0.0",
         "0.0",
         "0.0",
         "0.0",
         "0.0",
         "0.0",
         "0.0",
         "0.0",
         "0.0",
         "0.0",
         "0.0",
         "0.0",
         "0.0",
         "0.0",
         "0.0",
         "0.0",
         "0.0",
         "0.0",
         "0.0",
         "0.0",
         "0.0",
         "0.0",
         "0.0",
         "0.0",
         "0.0",
         "0.0",
         "0.0",
         "0.0",
         "0.0",
         "0.0",
         "0.0",
         "0.0",
         "0.0",
         "0.0",
         "0.0",
         "0.0",
         "0.0",
         "0.0",
         "0.0",
         "0.0",
         "0.0",
         "0.0",
         "0.0",
         "0.0",
         "0.0",
         "0.0",
         "0.0",
         "0.0",
         "0.0",
         "0.0",
         "0.0",
         "0.0",
         "0.0",
         "0.0",
         "0.0",
         "0.0",
         "0.0",
         "0.0",
         "0.0",
         "0.0",
         "0.0",
         "0.0",
         "0.0",
         "0.0",
         "0.0",
         "0.0",
         "0.0",
         "0.0",
         "0.0",
         "0.0",
         "0.0",
         "0.0",
         "0.0",
         "0.0",
         "0.0",
         "0.0",
         "0.0",
         "0.0",
         "0.0",
         "0.0",
         "0.0",
         "0.0",
         "0.0",
         "0.0",
         "0.0",
         "0.0",
         "0.0",
         "0.0",
         "0.0",
         "0.0",
         "0.0",
         "0.0",
         "0.0",
         "0.0",
         "0.0",
         "0.0",
         "0.0",
         "0.0",
         "0.0",
         "0.0",
         "0.0",
         "0.0",
         "0.0",
         "0.0",
         "0.0",
         "0.0",
         "0.0",
         "0.0",
         "0.0",
         "0.0",
         "0.0",
         "0.0",
         "0.0",
         "0.0",
         "0.0",
         "0.0",
         "0.0",
         "0.0",
         "0.0",
         "0.0",
         "0.0",
         "0.0",
         "0.0",
         "0.0",
         "0.0",
         "0.0",
         "0.0",
         "0.0",
         "0.0",
         "0.0",
         "0.0",
         "0.0",
         "0.0",
         "0.0",
         "0.0",
         "0.0",
         "0.0",
         "0.0",
         "0.0",
         "0.0",
         "0.0",
         "0.0",
         "0.0",
         "0.0",
         "0.0",
         "0.0",
         "0.0",
         "0.0",
         "0.0",
         "0.0",
         "0.0",
         "0.0",
         "0.0",
         "0.0",
         "0.0",
         "0.0",
         "0.0",
         "0.0",
         "0.0",
         "0.0",
         "0.0",
         "0.0",
         "0.0",
         "0.0",
         "0.0",
         "0.0",
         "0.0",
         "0.0",
         "0.0",
         "0.0",
         "0.0",
         "0.0",
         "0.0",
         "0.0",
         "0.0",
         "0.0",
         "0.0",
         "0.0",
         "0.0",
         "0.0",
         "0.0",
         "0.0",
         "0.0",
         "0.0",
         "0.0",
         "0.0",
         "0.0",
         "0.0",
         "0.0",
         "0.0",
         "0.0",
         "0.0",
         "0.0",
         "0.0",
         "0.0",
         "0.0",
         "0.0",
         "0.0",
         "0.0",
         "0.0",
         "0.0",
         "0.0",
         "0.0",
         "0.0",
         "0.0",
         "0.0",
         "0.0",
         "0.0",
         "0.0",
         "0.0",
         "1.0",
         "1.0",
         "0.0",
         "0.0",
         "0.0",
         "0.0",
         "0.0",
         "0.0",
         "0.0",
         "0.0",
         "0.0",
         "0.0",
         "0.0",
         "0.0",
         "0.0",
         "0.0",
         "0.0",
         "0.0",
         "0.0",
         "0.0",
         "0.0",
         "0.0",
         "0.0",
         "0.0",
         "0.0",
         "0.0",
         "0.0",
         "0.0",
         "0.0",
         "0.0",
         "0.0",
         "0.0",
         "0.0",
         "0.0",
         "0.0",
         "0.0",
         "0.0",
         "0.0",
         "0.0",
         "0.0",
         "0.0",
         "0.0",
         "0.0",
         "0.0",
         "0.0",
         "0.0",
         "0.0",
         "0.0",
         "0.0",
         "0.0",
         "0.0",
         "0.0",
         "0.0",
         "0.0",
         "0.0",
         "0.0",
         "0.0",
         "0.0",
         "0.0",
         "0.0",
         "0.0",
         "0.0",
         "0.0",
         "0.0",
         "0.0",
         "0.0",
         "0.0",
         "0.0",
         "0.0",
         "0.0",
         "0.0",
         "0.0",
         "0.0",
         "0.0",
         "0.0",
         "0.0",
         "0.0",
         "0.0",
         "0.0",
         "0.0",
         "0.0",
         "0.0",
         "0.0",
         "0.0",
         "0.0",
         "0.0",
         "0.0",
         "0.0",
         "0.0",
         "0.0",
         "0.0",
         "0.0",
         "0.0",
         "0.0",
         "0.0",
         "0.0",
         "0.0",
         "0.0",
         "0.0",
         "0.0",
         "0.0",
         "0.0",
         "0.0",
         "0.0",
         "0.0",
         "0.0",
         "0.0",
         "0.0",
         "0.0",
         "0.0",
         "0.0",
         "0.0",
         "0.0",
         "0.0",
         "0.0"
        ],
        [
         "1",
         "0.0",
         "0.0",
         "0.0",
         "0.0",
         "0.0",
         "0.0",
         "0.0",
         "0.0",
         "0.0",
         "0.0",
         "0.0",
         "0.0",
         "0.0",
         "0.0",
         "0.0",
         "0.0",
         "0.0",
         "0.0",
         "0.0",
         "0.0",
         "0.0",
         "0.0",
         "0.0",
         "0.0",
         "0.0",
         "0.0",
         "0.0",
         "0.0",
         "0.0",
         "0.0",
         "0.0",
         "0.0",
         "0.0",
         "0.0",
         "0.0",
         "0.0",
         "0.0",
         "0.0",
         "0.0",
         "0.0",
         "0.0",
         "0.0",
         "0.0",
         "0.0",
         "0.0",
         "0.0",
         "0.0",
         "0.0",
         "0.0",
         "0.0",
         "0.0",
         "0.0",
         "0.0",
         "0.0",
         "0.0",
         "0.0",
         "0.0",
         "0.0",
         "0.0",
         "0.0",
         "0.0",
         "0.0",
         "0.0",
         "0.0",
         "0.0",
         "0.0",
         "0.0",
         "0.0",
         "0.0",
         "0.0",
         "0.0",
         "0.0",
         "0.0",
         "0.0",
         "0.0",
         "0.0",
         "0.0",
         "0.0",
         "0.0",
         "0.0",
         "0.0",
         "0.0",
         "0.0",
         "0.0",
         "0.0",
         "0.0",
         "0.0",
         "0.0",
         "0.0",
         "0.0",
         "0.0",
         "0.0",
         "0.0",
         "0.0",
         "0.0",
         "0.0",
         "0.0",
         "0.0",
         "0.0",
         "0.0",
         "0.0",
         "0.0",
         "0.0",
         "0.0",
         "0.0",
         "0.0",
         "0.0",
         "0.0",
         "0.0",
         "0.0",
         "0.0",
         "0.0",
         "0.0",
         "0.0",
         "0.0",
         "0.0",
         "0.0",
         "0.0",
         "0.0",
         "0.0",
         "0.0",
         "0.0",
         "0.0",
         "0.0",
         "0.0",
         "0.0",
         "0.0",
         "0.0",
         "0.0",
         "0.0",
         "0.0",
         "0.0",
         "0.0",
         "0.0",
         "0.0",
         "0.0",
         "0.0",
         "0.0",
         "0.0",
         "0.0",
         "0.0",
         "0.0",
         "0.0",
         "0.0",
         "0.0",
         "0.0",
         "0.0",
         "0.0",
         "0.0",
         "0.0",
         "0.0",
         "0.0",
         "0.0",
         "0.0",
         "0.0",
         "0.0",
         "0.0",
         "0.0",
         "0.0",
         "0.0",
         "0.0",
         "0.0",
         "0.0",
         "0.0",
         "0.0",
         "0.0",
         "0.0",
         "0.0",
         "0.0",
         "0.0",
         "0.0",
         "0.0",
         "0.0",
         "0.0",
         "0.0",
         "0.0",
         "0.0",
         "0.0",
         "0.0",
         "0.0",
         "0.0",
         "0.0",
         "0.0",
         "0.0",
         "0.0",
         "0.0",
         "0.0",
         "0.0",
         "0.0",
         "0.0",
         "0.0",
         "0.0",
         "0.0",
         "0.0",
         "0.0",
         "0.0",
         "0.0",
         "0.0",
         "0.0",
         "0.0",
         "0.0",
         "0.0",
         "0.0",
         "0.0",
         "0.0",
         "0.0",
         "0.0",
         "0.0",
         "0.0",
         "0.0",
         "0.0",
         "0.0",
         "0.0",
         "0.0",
         "0.0",
         "0.0",
         "0.0",
         "0.0",
         "0.0",
         "0.0",
         "0.0",
         "0.0",
         "0.0",
         "0.0",
         "0.0",
         "0.0",
         "0.0",
         "0.0",
         "0.0",
         "0.0",
         "0.0",
         "0.0",
         "0.0",
         "0.0",
         "0.0",
         "0.0",
         "0.0",
         "0.0",
         "0.0",
         "0.0",
         "0.0",
         "0.0",
         "0.0",
         "0.0",
         "0.0",
         "0.0",
         "0.0",
         "0.0",
         "0.0",
         "0.0",
         "0.0",
         "0.0",
         "0.0",
         "0.0",
         "0.0",
         "0.0",
         "0.0",
         "0.0",
         "0.0",
         "0.0",
         "0.0",
         "0.0",
         "0.0",
         "0.0",
         "0.0",
         "0.0",
         "0.0",
         "0.0",
         "0.0",
         "0.0",
         "0.0",
         "0.0",
         "0.0",
         "0.0",
         "0.0",
         "0.0",
         "0.0",
         "0.0",
         "0.0",
         "0.0",
         "0.0",
         "0.0",
         "0.0",
         "0.0",
         "0.0",
         "0.0",
         "0.0",
         "0.0",
         "0.0",
         "0.0",
         "0.0",
         "0.0",
         "0.0",
         "0.0",
         "0.0",
         "0.0",
         "0.0",
         "0.0",
         "0.0",
         "0.0",
         "0.0",
         "0.0",
         "0.0",
         "0.0",
         "0.0",
         "0.0",
         "0.0",
         "0.0",
         "0.0",
         "0.0",
         "0.0",
         "0.0",
         "0.0",
         "0.0",
         "0.0",
         "0.0",
         "0.0",
         "0.0",
         "0.0",
         "0.0",
         "0.0",
         "0.0",
         "0.0",
         "0.0",
         "0.0",
         "0.0",
         "0.0",
         "0.0",
         "0.0",
         "0.0",
         "0.0",
         "0.0",
         "0.0",
         "0.0",
         "0.0",
         "0.0",
         "0.0",
         "0.0",
         "0.0",
         "0.0",
         "0.0",
         "0.0",
         "0.0",
         "0.0",
         "0.0",
         "0.0",
         "0.0",
         "0.0",
         "0.0",
         "0.0",
         "0.0",
         "0.0",
         "0.0",
         "0.0",
         "0.0",
         "0.0",
         "0.0",
         "0.0",
         "0.0",
         "0.0",
         "0.0",
         "0.0",
         "0.0",
         "0.0",
         "0.0",
         "0.0",
         "0.0",
         "0.0",
         "0.0",
         "0.0",
         "0.0",
         "0.0",
         "0.0",
         "0.0",
         "0.0",
         "0.0",
         "0.0",
         "0.0",
         "0.0",
         "0.0",
         "0.0",
         "0.0",
         "0.0",
         "0.0",
         "0.0",
         "0.0",
         "0.0",
         "0.0",
         "0.0",
         "0.0",
         "0.0",
         "0.0",
         "0.0",
         "0.0",
         "0.0",
         "0.0",
         "0.0",
         "0.0",
         "0.0",
         "0.0",
         "0.0",
         "0.0",
         "0.0",
         "0.0",
         "0.0",
         "0.0",
         "0.0",
         "0.0",
         "0.0",
         "0.0",
         "0.0",
         "0.0",
         "0.0",
         "0.0",
         "0.0",
         "0.0",
         "0.0",
         "0.0",
         "0.0",
         "0.0",
         "0.0",
         "0.0",
         "0.0",
         "0.0",
         "0.0",
         "0.0",
         "0.0",
         "0.0",
         "0.0",
         "0.0",
         "0.0",
         "0.0",
         "0.0",
         "0.0",
         "0.0",
         "0.0",
         "0.0",
         "0.0",
         "0.0",
         "0.0",
         "0.0",
         "0.0",
         "0.0",
         "0.0",
         "0.0",
         "0.0",
         "0.0",
         "0.0",
         "0.0",
         "0.0",
         "0.0",
         "0.0",
         "0.0",
         "0.0",
         "0.0",
         "0.0",
         "0.0",
         "0.0",
         "0.0",
         "0.0",
         "0.0",
         "0.0",
         "0.0",
         "0.0",
         "0.0",
         "0.0",
         "0.0",
         "0.0",
         "0.0",
         "0.0",
         "0.0",
         "0.0",
         "0.0",
         "0.0",
         "0.0",
         "0.0",
         "0.0",
         "0.0",
         "0.0",
         "0.0",
         "0.0",
         "0.0",
         "0.0",
         "0.0",
         "0.0",
         "0.0",
         "0.0",
         "0.0",
         "0.0",
         "0.0",
         "0.0",
         "0.0",
         "0.0",
         "0.0",
         "0.0",
         "0.0",
         "0.0",
         "0.0",
         "0.0",
         "0.0",
         "0.0",
         "0.0",
         "0.0",
         "0.0",
         "0.0",
         "0.0",
         "0.0",
         "0.0",
         "0.0",
         "0.0",
         "0.0",
         "0.0",
         "0.0",
         "0.0",
         "0.0",
         "0.0",
         "0.0",
         "0.0",
         "0.0",
         "0.0",
         "0.0",
         "0.0",
         "0.0",
         "0.0",
         "0.0",
         "0.0",
         "0.0",
         "0.0",
         "0.0",
         "0.0",
         "0.0",
         "0.0",
         "0.0",
         "0.0",
         "0.0",
         "0.0",
         "0.0",
         "0.0",
         "0.0",
         "0.0",
         "0.0",
         "0.0",
         "0.0",
         "0.0",
         "0.0",
         "0.0",
         "0.0",
         "0.0",
         "0.0",
         "0.0",
         "0.0",
         "0.0",
         "0.0",
         "0.0",
         "0.0",
         "0.0",
         "0.0",
         "0.0",
         "0.0",
         "0.0",
         "0.0",
         "0.0",
         "0.0",
         "0.0",
         "0.0",
         "0.0",
         "0.0",
         "0.0",
         "0.0",
         "0.0",
         "0.0",
         "0.0",
         "0.0",
         "0.0",
         "0.0",
         "0.0",
         "0.0",
         "0.0",
         "0.0",
         "0.0",
         "0.0",
         "0.0",
         "0.0",
         "0.0",
         "0.0",
         "0.0",
         "0.0",
         "0.0",
         "0.0",
         "0.0",
         "0.0",
         "0.0",
         "0.0",
         "0.0",
         "0.0",
         "0.0",
         "0.0",
         "0.0",
         "0.0",
         "0.0",
         "0.0",
         "0.0",
         "0.0",
         "0.0",
         "0.0",
         "0.0",
         "0.0",
         "0.0",
         "0.0",
         "0.0",
         "0.0",
         "0.0",
         "0.0",
         "0.0",
         "0.0",
         "0.0",
         "0.0",
         "0.0",
         "0.0",
         "0.0",
         "0.0",
         "0.0",
         "0.0",
         "0.0",
         "0.0",
         "0.0",
         "0.0",
         "0.0",
         "0.0",
         "0.0",
         "0.0",
         "0.0",
         "0.0",
         "0.0",
         "0.0",
         "0.0",
         "0.0",
         "0.0",
         "0.0",
         "0.0",
         "0.0",
         "0.0",
         "0.0",
         "0.0",
         "0.0",
         "0.0",
         "0.0",
         "0.0",
         "0.0",
         "0.0",
         "0.0",
         "0.0",
         "0.0",
         "0.0",
         "0.0",
         "0.0",
         "0.0",
         "0.0",
         "0.0",
         "1.0",
         "1.0",
         "0.0",
         "0.0",
         "0.0",
         "0.0",
         "0.0",
         "0.0",
         "0.0",
         "0.0",
         "0.0",
         "0.0",
         "0.0",
         "0.0",
         "0.0",
         "0.0",
         "0.0",
         "0.0",
         "0.0",
         "0.0",
         "0.0",
         "0.0",
         "0.0",
         "0.0",
         "0.0",
         "0.0",
         "0.0",
         "0.0",
         "0.0",
         "0.0",
         "0.0",
         "0.0",
         "0.0",
         "0.0",
         "0.0",
         "0.0",
         "0.0",
         "0.0",
         "0.0",
         "0.0",
         "0.0",
         "0.0",
         "0.0",
         "0.0",
         "0.0",
         "0.0",
         "0.0",
         "0.0",
         "0.0",
         "0.0",
         "0.0",
         "0.0",
         "0.0",
         "0.0",
         "0.0",
         "0.0",
         "0.0",
         "0.0",
         "0.0",
         "0.0",
         "0.0",
         "0.0",
         "0.0",
         "0.0",
         "0.0",
         "0.0",
         "0.0",
         "0.0",
         "0.0",
         "0.0",
         "0.0",
         "0.0",
         "0.0",
         "0.0",
         "0.0",
         "0.0",
         "0.0",
         "0.0",
         "0.0",
         "0.0",
         "0.0",
         "0.0",
         "0.0",
         "0.0",
         "0.0",
         "0.0",
         "0.0",
         "0.0",
         "0.0",
         "0.0",
         "0.0",
         "0.0",
         "0.0",
         "0.0",
         "0.0",
         "0.0",
         "0.0",
         "0.0",
         "0.0",
         "0.0",
         "0.0",
         "0.0",
         "0.0",
         "0.0",
         "0.0",
         "0.0",
         "0.0",
         "0.0",
         "0.0",
         "0.0",
         "0.0",
         "0.0",
         "0.0",
         "0.0",
         "0.0",
         "0.0",
         "0.0",
         "0.0",
         "0.0",
         "0.0",
         "0.0",
         "1.0",
         "1.0",
         "0.0",
         "0.0",
         "0.0",
         "0.0",
         "0.0",
         "0.0",
         "0.0",
         "0.0",
         "0.0",
         "0.0",
         "0.0",
         "0.0",
         "0.0",
         "0.0",
         "0.0",
         "0.0",
         "1.0",
         "0.0",
         "0.0",
         "1.0",
         "0.0",
         "0.0",
         "0.0",
         "0.0",
         "0.0",
         "0.0",
         "1.0",
         "0.0",
         "0.0",
         "0.0",
         "0.0",
         "0.0",
         "0.0",
         "0.0",
         "2.0",
         "0.0",
         "0.0",
         "0.0",
         "0.0",
         "0.0",
         "0.0",
         "1.0",
         "0.0",
         "0.0",
         "0.0",
         "0.0",
         "0.0",
         "0.0",
         "0.0",
         "0.0",
         "0.0",
         "0.0",
         "0.0",
         "0.0",
         "0.0",
         "0.0",
         "0.0",
         "0.0",
         "0.0",
         "0.0",
         "0.0",
         "1.0",
         "0.0",
         "0.0",
         "0.0",
         "0.0",
         "0.0",
         "0.0",
         "0.0",
         "0.0",
         "0.0",
         "0.0",
         "0.0",
         "0.0",
         "0.0",
         "0.0",
         "0.0",
         "0.0",
         "0.0",
         "0.0",
         "0.0",
         "0.0",
         "0.0",
         "0.0",
         "0.0",
         "0.0",
         "0.0",
         "0.0",
         "0.0",
         "0.0",
         "0.0",
         "0.0",
         "0.0",
         "0.0",
         "0.0",
         "0.0",
         "0.0",
         "0.0",
         "0.0",
         "0.0",
         "0.0",
         "0.0",
         "0.0",
         "0.0",
         "0.0",
         "0.0",
         "0.0",
         "0.0",
         "0.0",
         "0.0",
         "0.0",
         "0.0",
         "0.0",
         "0.0",
         "0.0",
         "0.0",
         "0.0",
         "0.0",
         "0.0",
         "0.0",
         "0.0",
         "0.0",
         "0.0",
         "0.0",
         "0.0",
         "0.0",
         "0.0",
         "0.0",
         "0.0",
         "0.0",
         "0.0",
         "0.0",
         "0.0",
         "0.0",
         "0.0",
         "0.0",
         "0.0",
         "0.0",
         "0.0",
         "0.0",
         "0.0",
         "0.0",
         "0.0",
         "0.0",
         "0.0",
         "0.0",
         "0.0",
         "0.0",
         "0.0",
         "0.0",
         "0.0",
         "0.0",
         "0.0",
         "0.0",
         "0.0",
         "0.0",
         "0.0",
         "0.0",
         "0.0",
         "0.0",
         "0.0",
         "0.0",
         "0.0",
         "0.0"
        ],
        [
         "2",
         "0.0",
         "0.0",
         "0.0",
         "0.0",
         "0.0",
         "0.0",
         "0.0",
         "0.0",
         "0.0",
         "0.0",
         "0.0",
         "0.0",
         "0.0",
         "0.0",
         "0.0",
         "0.0",
         "0.0",
         "0.0",
         "0.0",
         "0.0",
         "0.0",
         "0.0",
         "0.0",
         "0.0",
         "0.0",
         "0.0",
         "0.0",
         "0.0",
         "0.0",
         "0.0",
         "0.0",
         "0.0",
         "0.0",
         "0.0",
         "0.0",
         "0.0",
         "0.0",
         "0.0",
         "0.0",
         "0.0",
         "0.0",
         "0.0",
         "0.0",
         "0.0",
         "0.0",
         "0.0",
         "0.0",
         "0.0",
         "0.0",
         "0.0",
         "0.0",
         "0.0",
         "0.0",
         "0.0",
         "0.0",
         "0.0",
         "0.0",
         "0.0",
         "0.0",
         "0.0",
         "0.0",
         "0.0",
         "0.0",
         "0.0",
         "0.0",
         "0.0",
         "0.0",
         "0.0",
         "0.0",
         "0.0",
         "0.0",
         "0.0",
         "0.0",
         "0.0",
         "0.0",
         "0.0",
         "0.0",
         "0.0",
         "0.0",
         "0.0",
         "0.0",
         "0.0",
         "0.0",
         "0.0",
         "0.0",
         "0.0",
         "0.0",
         "0.0",
         "0.0",
         "0.0",
         "0.0",
         "0.0",
         "0.0",
         "0.0",
         "0.0",
         "0.0",
         "0.0",
         "0.0",
         "0.0",
         "0.0",
         "0.0",
         "0.0",
         "0.0",
         "0.0",
         "0.0",
         "0.0",
         "0.0",
         "0.0",
         "0.0",
         "0.0",
         "0.0",
         "0.0",
         "0.0",
         "0.0",
         "0.0",
         "0.0",
         "0.0",
         "0.0",
         "0.0",
         "0.0",
         "0.0",
         "0.0",
         "0.0",
         "0.0",
         "0.0",
         "0.0",
         "0.0",
         "0.0",
         "0.0",
         "0.0",
         "0.0",
         "0.0",
         "0.0",
         "0.0",
         "0.0",
         "0.0",
         "0.0",
         "0.0",
         "0.0",
         "0.0",
         "0.0",
         "0.0",
         "0.0",
         "0.0",
         "0.0",
         "0.0",
         "0.0",
         "0.0",
         "0.0",
         "0.0",
         "0.0",
         "0.0",
         "0.0",
         "0.0",
         "0.0",
         "0.0",
         "0.0",
         "0.0",
         "0.0",
         "0.0",
         "0.0",
         "0.0",
         "0.0",
         "0.0",
         "0.0",
         "0.0",
         "0.0",
         "0.0",
         "0.0",
         "0.0",
         "0.0",
         "0.0",
         "0.0",
         "0.0",
         "0.0",
         "0.0",
         "0.0",
         "0.0",
         "0.0",
         "0.0",
         "0.0",
         "0.0",
         "0.0",
         "0.0",
         "0.0",
         "0.0",
         "0.0",
         "0.0",
         "0.0",
         "0.0",
         "0.0",
         "0.0",
         "0.0",
         "0.0",
         "0.0",
         "0.0",
         "0.0",
         "0.0",
         "0.0",
         "0.0",
         "0.0",
         "0.0",
         "0.0",
         "0.0",
         "0.0",
         "0.0",
         "0.0",
         "0.0",
         "0.0",
         "0.0",
         "0.0",
         "0.0",
         "0.0",
         "0.0",
         "0.0",
         "0.0",
         "0.0",
         "0.0",
         "0.0",
         "0.0",
         "0.0",
         "0.0",
         "0.0",
         "0.0",
         "0.0",
         "0.0",
         "0.0",
         "0.0",
         "0.0",
         "0.0",
         "0.0",
         "0.0",
         "0.0",
         "0.0",
         "0.0",
         "0.0",
         "0.0",
         "0.0",
         "0.0",
         "0.0",
         "0.0",
         "0.0",
         "0.0",
         "0.0",
         "0.0",
         "0.0",
         "0.0",
         "0.0",
         "0.0",
         "0.0",
         "0.0",
         "0.0",
         "0.0",
         "0.0",
         "0.0",
         "0.0",
         "0.0",
         "0.0",
         "0.0",
         "0.0",
         "0.0",
         "0.0",
         "0.0",
         "0.0",
         "0.0",
         "0.0",
         "0.0",
         "0.0",
         "0.0",
         "0.0",
         "0.0",
         "0.0",
         "0.0",
         "0.0",
         "0.0",
         "0.0",
         "0.0",
         "0.0",
         "0.0",
         "0.0",
         "0.0",
         "0.0",
         "0.0",
         "0.0",
         "0.0",
         "0.0",
         "0.0",
         "0.0",
         "0.0",
         "0.0",
         "0.0",
         "0.0",
         "0.0",
         "0.0",
         "0.0",
         "0.0",
         "0.0",
         "0.0",
         "0.0",
         "0.0",
         "0.0",
         "0.0",
         "0.0",
         "0.0",
         "0.0",
         "0.0",
         "0.0",
         "0.0",
         "0.0",
         "0.0",
         "0.0",
         "0.0",
         "0.0",
         "0.0",
         "0.0",
         "0.0",
         "0.0",
         "0.0",
         "0.0",
         "0.0",
         "0.0",
         "0.0",
         "0.0",
         "0.0",
         "0.0",
         "0.0",
         "0.0",
         "0.0",
         "0.0",
         "0.0",
         "0.0",
         "0.0",
         "0.0",
         "0.0",
         "0.0",
         "0.0",
         "0.0",
         "0.0",
         "0.0",
         "0.0",
         "0.0",
         "0.0",
         "0.0",
         "0.0",
         "0.0",
         "0.0",
         "0.0",
         "0.0",
         "0.0",
         "0.0",
         "0.0",
         "0.0",
         "0.0",
         "0.0",
         "0.0",
         "0.0",
         "0.0",
         "0.0",
         "0.0",
         "0.0",
         "0.0",
         "0.0",
         "0.0",
         "0.0",
         "0.0",
         "0.0",
         "0.0",
         "0.0",
         "0.0",
         "0.0",
         "0.0",
         "0.0",
         "0.0",
         "0.0",
         "0.0",
         "0.0",
         "0.0",
         "0.0",
         "0.0",
         "0.0",
         "0.0",
         "0.0",
         "0.0",
         "0.0",
         "0.0",
         "0.0",
         "0.0",
         "0.0",
         "0.0",
         "0.0",
         "0.0",
         "0.0",
         "0.0",
         "0.0",
         "0.0",
         "0.0",
         "0.0",
         "0.0",
         "0.0",
         "0.0",
         "0.0",
         "0.0",
         "0.0",
         "0.0",
         "0.0",
         "0.0",
         "0.0",
         "0.0",
         "0.0",
         "0.0",
         "0.0",
         "0.0",
         "0.0",
         "0.0",
         "0.0",
         "0.0",
         "0.0",
         "0.0",
         "0.0",
         "0.0",
         "0.0",
         "0.0",
         "0.0",
         "0.0",
         "0.0",
         "0.0",
         "0.0",
         "0.0",
         "0.0",
         "0.0",
         "0.0",
         "0.0",
         "0.0",
         "0.0",
         "0.0",
         "0.0",
         "0.0",
         "0.0",
         "0.0",
         "0.0",
         "0.0",
         "0.0",
         "0.0",
         "0.0",
         "0.0",
         "0.0",
         "0.0",
         "0.0",
         "0.0",
         "0.0",
         "0.0",
         "0.0",
         "0.0",
         "0.0",
         "0.0",
         "0.0",
         "0.0",
         "0.0",
         "0.0",
         "0.0",
         "0.0",
         "0.0",
         "0.0",
         "0.0",
         "0.0",
         "0.0",
         "0.0",
         "0.0",
         "0.0",
         "0.0",
         "0.0",
         "0.0",
         "0.0",
         "0.0",
         "0.0",
         "0.0",
         "0.0",
         "0.0",
         "0.0",
         "0.0",
         "0.0",
         "0.0",
         "0.0",
         "0.0",
         "0.0",
         "0.0",
         "0.0",
         "1.0",
         "1.0",
         "0.0",
         "0.0",
         "0.0",
         "0.0",
         "0.0",
         "0.0",
         "0.0",
         "0.0",
         "0.0",
         "0.0",
         "0.0",
         "0.0",
         "0.0",
         "0.0",
         "0.0",
         "0.0",
         "0.0",
         "0.0",
         "0.0",
         "0.0",
         "0.0",
         "0.0",
         "0.0",
         "0.0",
         "0.0",
         "0.0",
         "0.0",
         "0.0",
         "0.0",
         "0.0",
         "0.0",
         "0.0",
         "0.0",
         "0.0",
         "0.0",
         "0.0",
         "0.0",
         "0.0",
         "0.0",
         "0.0",
         "0.0",
         "0.0",
         "0.0",
         "0.0",
         "0.0",
         "0.0",
         "0.0",
         "0.0",
         "0.0",
         "0.0",
         "0.0",
         "0.0",
         "0.0",
         "0.0",
         "0.0",
         "0.0",
         "0.0",
         "0.0",
         "0.0",
         "0.0",
         "0.0",
         "0.0",
         "0.0",
         "0.0",
         "0.0",
         "0.0",
         "0.0",
         "0.0",
         "0.0",
         "0.0",
         "0.0",
         "0.0",
         "0.0",
         "0.0",
         "0.0",
         "0.0",
         "0.0",
         "0.0",
         "0.0",
         "0.0",
         "0.0",
         "0.0",
         "0.0",
         "0.0",
         "0.0",
         "0.0",
         "0.0",
         "0.0",
         "0.0",
         "0.0",
         "0.0",
         "0.0",
         "0.0",
         "0.0",
         "0.0",
         "0.0",
         "0.0",
         "0.0",
         "0.0",
         "0.0",
         "0.0",
         "0.0",
         "0.0",
         "0.0",
         "0.0",
         "0.0",
         "0.0",
         "0.0",
         "0.0",
         "0.0",
         "0.0",
         "0.0",
         "0.0",
         "0.0",
         "0.0",
         "0.0",
         "0.0",
         "0.0",
         "0.0",
         "1.0",
         "1.0",
         "0.0",
         "0.0",
         "0.0",
         "0.0",
         "0.0",
         "0.0",
         "0.0",
         "0.0",
         "0.0",
         "0.0",
         "0.0",
         "0.0",
         "0.0",
         "0.0",
         "0.0",
         "0.0",
         "1.0",
         "0.0",
         "0.0",
         "1.0",
         "0.0",
         "0.0",
         "0.0",
         "0.0",
         "0.0",
         "0.0",
         "1.0",
         "0.0",
         "0.0",
         "0.0",
         "0.0",
         "0.0",
         "0.0",
         "0.0",
         "2.0",
         "0.0",
         "0.0",
         "0.0",
         "0.0",
         "0.0",
         "0.0",
         "1.0",
         "0.0",
         "0.0",
         "0.0",
         "0.0",
         "0.0",
         "0.0",
         "0.0",
         "0.0",
         "0.0",
         "0.0",
         "0.0",
         "0.0",
         "0.0",
         "0.0",
         "0.0",
         "0.0",
         "0.0",
         "0.0",
         "0.0",
         "1.0",
         "0.0",
         "0.0",
         "0.0",
         "0.0",
         "0.0",
         "0.0",
         "0.0",
         "0.0",
         "0.0",
         "0.0",
         "0.0",
         "0.0",
         "0.0",
         "0.0",
         "0.0",
         "0.0",
         "0.0",
         "0.0",
         "0.0",
         "0.0",
         "0.0",
         "0.0",
         "0.0",
         "0.0",
         "0.0",
         "0.0",
         "0.0",
         "0.0",
         "0.0",
         "0.0",
         "0.0",
         "0.0",
         "0.0",
         "0.0",
         "0.0",
         "0.0",
         "0.0",
         "0.0",
         "0.0",
         "0.0",
         "0.0",
         "0.0",
         "0.0",
         "0.0",
         "0.0",
         "0.0",
         "0.0",
         "0.0",
         "0.0",
         "0.0",
         "0.0",
         "0.0",
         "0.0",
         "0.0",
         "0.0",
         "0.0",
         "0.0",
         "0.0",
         "0.0",
         "0.0",
         "0.0",
         "0.0",
         "0.0",
         "0.0",
         "0.0",
         "0.0",
         "0.0",
         "0.0",
         "0.0",
         "0.0",
         "0.0",
         "0.0",
         "0.0",
         "0.0",
         "0.0",
         "0.0",
         "0.0",
         "0.0",
         "0.0",
         "0.0",
         "0.0",
         "0.0",
         "0.0",
         "0.0",
         "0.0",
         "0.0",
         "0.0",
         "0.0",
         "0.0",
         "0.0",
         "0.0",
         "0.0",
         "0.0",
         "0.0",
         "0.0",
         "0.0",
         "0.0",
         "0.0",
         "0.0",
         "0.0",
         "0.0",
         "0.0",
         "0.0",
         "1.0",
         "0.0",
         "0.0",
         "0.0",
         "0.0",
         "0.0",
         "0.0",
         "0.0",
         "0.0",
         "0.0",
         "0.0",
         "0.0",
         "0.0",
         "2.0",
         "0.0",
         "1.0",
         "0.0",
         "0.0",
         "0.0",
         "0.0",
         "0.0",
         "0.0",
         "0.0",
         "1.0",
         "0.0",
         "1.0",
         "0.0",
         "0.0",
         "0.0",
         "0.0",
         "0.0",
         "0.0",
         "0.0",
         "0.0",
         "0.0",
         "0.0",
         "0.0",
         "0.0",
         "0.0",
         "0.0",
         "0.0",
         "1.0",
         "0.0",
         "1.0",
         "0.0",
         "0.0",
         "0.0",
         "0.0",
         "0.0",
         "0.0",
         "0.0",
         "0.0",
         "0.0",
         "0.0",
         "0.0",
         "0.0",
         "1.0",
         "0.0",
         "0.0",
         "0.0",
         "0.0",
         "0.0",
         "0.0",
         "0.0",
         "0.0",
         "0.0",
         "0.0",
         "0.0",
         "0.0",
         "0.0",
         "0.0",
         "0.0",
         "0.0",
         "0.0",
         "1.0",
         "0.0",
         "0.0",
         "0.0",
         "0.0",
         "0.0",
         "0.0",
         "0.0",
         "0.0",
         "0.0",
         "0.0",
         "0.0",
         "0.0",
         "0.0",
         "0.0",
         "0.0",
         "0.0",
         "0.0",
         "0.0",
         "0.0",
         "0.0",
         "0.0",
         "0.0",
         "0.0",
         "0.0",
         "0.0",
         "0.0",
         "0.0",
         "0.0",
         "0.0",
         "0.0",
         "0.0",
         "0.0",
         "0.0",
         "0.0",
         "0.0",
         "0.0",
         "0.0",
         "0.0",
         "0.0",
         "0.0",
         "0.0",
         "0.0",
         "0.0",
         "0.0",
         "0.0",
         "0.0",
         "0.0",
         "0.0",
         "0.0",
         "0.0",
         "0.0",
         "0.0",
         "0.0",
         "0.0",
         "0.0",
         "0.0",
         "0.0",
         "0.0",
         "0.0",
         "0.0",
         "0.0",
         "0.0",
         "0.0",
         "0.0",
         "0.0",
         "0.0",
         "0.0",
         "0.0",
         "0.0",
         "0.0",
         "0.0",
         "0.0",
         "0.0",
         "0.0",
         "0.0",
         "0.0",
         "0.0",
         "0.0",
         "0.0",
         "0.0",
         "0.0",
         "0.0",
         "0.0",
         "0.0",
         "0.0",
         "0.0",
         "0.0",
         "0.0",
         "0.0",
         "0.0",
         "0.0",
         "0.0",
         "0.0",
         "0.0",
         "0.0",
         "0.0"
        ]
       ],
       "shape": {
        "columns": 946,
        "rows": 3
       }
      },
      "text/html": [
       "<div>\n",
       "<style scoped>\n",
       "    .dataframe tbody tr th:only-of-type {\n",
       "        vertical-align: middle;\n",
       "    }\n",
       "\n",
       "    .dataframe tbody tr th {\n",
       "        vertical-align: top;\n",
       "    }\n",
       "\n",
       "    .dataframe thead th {\n",
       "        text-align: right;\n",
       "    }\n",
       "</style>\n",
       "<table border=\"1\" class=\"dataframe\">\n",
       "  <thead>\n",
       "    <tr style=\"text-align: right;\">\n",
       "      <th></th>\n",
       "      <th>unit_0_0</th>\n",
       "      <th>unit_1_0</th>\n",
       "      <th>unit_2_0</th>\n",
       "      <th>unit_3_0</th>\n",
       "      <th>unit_4_0</th>\n",
       "      <th>unit_5_0</th>\n",
       "      <th>unit_6_0</th>\n",
       "      <th>unit_7_0</th>\n",
       "      <th>unit_8_0</th>\n",
       "      <th>unit_9_0</th>\n",
       "      <th>...</th>\n",
       "      <th>unit_76_5</th>\n",
       "      <th>unit_77_5</th>\n",
       "      <th>unit_78_5</th>\n",
       "      <th>unit_79_5</th>\n",
       "      <th>unit_80_5</th>\n",
       "      <th>unit_81_5</th>\n",
       "      <th>unit_82_5</th>\n",
       "      <th>unit_83_5</th>\n",
       "      <th>unit_84_5</th>\n",
       "      <th>unit_85_5</th>\n",
       "    </tr>\n",
       "  </thead>\n",
       "  <tbody>\n",
       "    <tr>\n",
       "      <th>0</th>\n",
       "      <td>0.00000</td>\n",
       "      <td>0.00000</td>\n",
       "      <td>0.00000</td>\n",
       "      <td>0.00000</td>\n",
       "      <td>0.00000</td>\n",
       "      <td>0.00000</td>\n",
       "      <td>0.00000</td>\n",
       "      <td>0.00000</td>\n",
       "      <td>0.00000</td>\n",
       "      <td>0.00000</td>\n",
       "      <td>...</td>\n",
       "      <td>0.00000</td>\n",
       "      <td>0.00000</td>\n",
       "      <td>0.00000</td>\n",
       "      <td>0.00000</td>\n",
       "      <td>0.00000</td>\n",
       "      <td>0.00000</td>\n",
       "      <td>0.00000</td>\n",
       "      <td>0.00000</td>\n",
       "      <td>0.00000</td>\n",
       "      <td>0.00000</td>\n",
       "    </tr>\n",
       "    <tr>\n",
       "      <th>1</th>\n",
       "      <td>0.00000</td>\n",
       "      <td>0.00000</td>\n",
       "      <td>0.00000</td>\n",
       "      <td>0.00000</td>\n",
       "      <td>0.00000</td>\n",
       "      <td>0.00000</td>\n",
       "      <td>0.00000</td>\n",
       "      <td>0.00000</td>\n",
       "      <td>0.00000</td>\n",
       "      <td>0.00000</td>\n",
       "      <td>...</td>\n",
       "      <td>0.00000</td>\n",
       "      <td>0.00000</td>\n",
       "      <td>0.00000</td>\n",
       "      <td>0.00000</td>\n",
       "      <td>0.00000</td>\n",
       "      <td>0.00000</td>\n",
       "      <td>0.00000</td>\n",
       "      <td>0.00000</td>\n",
       "      <td>0.00000</td>\n",
       "      <td>0.00000</td>\n",
       "    </tr>\n",
       "    <tr>\n",
       "      <th>2</th>\n",
       "      <td>0.00000</td>\n",
       "      <td>0.00000</td>\n",
       "      <td>0.00000</td>\n",
       "      <td>0.00000</td>\n",
       "      <td>0.00000</td>\n",
       "      <td>0.00000</td>\n",
       "      <td>0.00000</td>\n",
       "      <td>0.00000</td>\n",
       "      <td>0.00000</td>\n",
       "      <td>0.00000</td>\n",
       "      <td>...</td>\n",
       "      <td>0.00000</td>\n",
       "      <td>0.00000</td>\n",
       "      <td>0.00000</td>\n",
       "      <td>0.00000</td>\n",
       "      <td>0.00000</td>\n",
       "      <td>0.00000</td>\n",
       "      <td>0.00000</td>\n",
       "      <td>0.00000</td>\n",
       "      <td>0.00000</td>\n",
       "      <td>0.00000</td>\n",
       "    </tr>\n",
       "  </tbody>\n",
       "</table>\n",
       "<p>3 rows × 946 columns</p>\n",
       "</div>"
      ],
      "text/plain": [
       "   unit_0_0  unit_1_0  unit_2_0  unit_3_0  unit_4_0  unit_5_0  unit_6_0  \\\n",
       "0   0.00000   0.00000   0.00000   0.00000   0.00000   0.00000   0.00000   \n",
       "1   0.00000   0.00000   0.00000   0.00000   0.00000   0.00000   0.00000   \n",
       "2   0.00000   0.00000   0.00000   0.00000   0.00000   0.00000   0.00000   \n",
       "\n",
       "   unit_7_0  unit_8_0  unit_9_0  ...  unit_76_5  unit_77_5  unit_78_5  \\\n",
       "0   0.00000   0.00000   0.00000  ...    0.00000    0.00000    0.00000   \n",
       "1   0.00000   0.00000   0.00000  ...    0.00000    0.00000    0.00000   \n",
       "2   0.00000   0.00000   0.00000  ...    0.00000    0.00000    0.00000   \n",
       "\n",
       "   unit_79_5  unit_80_5  unit_81_5  unit_82_5  unit_83_5  unit_84_5  unit_85_5  \n",
       "0    0.00000    0.00000    0.00000    0.00000    0.00000    0.00000    0.00000  \n",
       "1    0.00000    0.00000    0.00000    0.00000    0.00000    0.00000    0.00000  \n",
       "2    0.00000    0.00000    0.00000    0.00000    0.00000    0.00000    0.00000  \n",
       "\n",
       "[3 rows x 946 columns]"
      ]
     },
     "execution_count": 8,
     "metadata": {},
     "output_type": "execute_result"
    }
   ],
   "source": [
    "dec.x_var_lags.head(3)"
   ]
  },
  {
   "cell_type": "code",
   "execution_count": null,
   "metadata": {},
   "outputs": [],
   "source": [
    "dec.binned_spikes_df.shape"
   ]
  },
  {
   "cell_type": "code",
   "execution_count": null,
   "metadata": {},
   "outputs": [],
   "source": [
    "dec.all_binned_spikes.head()"
   ]
  },
  {
   "cell_type": "code",
   "execution_count": null,
   "metadata": {},
   "outputs": [],
   "source": [
    "dec.all_binned_spikes"
   ]
  },
  {
   "cell_type": "code",
   "execution_count": null,
   "metadata": {},
   "outputs": [
    {
     "data": {
      "text/plain": [
       "(10746, 86)"
      ]
     },
     "execution_count": 7,
     "metadata": {},
     "output_type": "execute_result"
    }
   ],
   "source": [
    "dec.x_var.shape"
   ]
  },
  {
   "cell_type": "code",
   "execution_count": null,
   "metadata": {},
   "outputs": [],
   "source": [
    "dec.y_var.shape"
   ]
  },
  {
   "cell_type": "code",
   "execution_count": null,
   "metadata": {},
   "outputs": [],
   "source": [
    "dec.y_var_lags.shape"
   ]
  },
  {
   "cell_type": "code",
   "execution_count": null,
   "metadata": {},
   "outputs": [],
   "source": [
    "dec.x_var_lags_reduced.shape"
   ]
  },
  {
   "cell_type": "code",
   "execution_count": null,
   "metadata": {},
   "outputs": [],
   "source": [
    "dec.y_var_lags_reduced.shape"
   ]
  },
  {
   "cell_type": "code",
   "execution_count": null,
   "metadata": {},
   "outputs": [],
   "source": [
    "\n",
    "\n",
    "# conduct linear regression on X and y\n",
    "plt.rcParams[\"figure.figsize\"] = (20, 10)\n",
    "bins_to_plot = dec.y_var_lags_reduced['bin'].values\n",
    "for i, column in enumerate(dec.y_var_lags_reduced.columns):\n",
    "\n",
    "    plot_neural_data.plot_regression(dec.y_var_lags_reduced, column, dec.x_var_lags_reduced, bins_to_plot=bins_to_plot, min_r_squared_to_plot=0.3)\n",
    "    # if i == 3:\n",
    "    #     break"
   ]
  },
  {
   "cell_type": "markdown",
   "metadata": {},
   "source": [
    "##  plot one neural cluster vs one behavioral var"
   ]
  },
  {
   "cell_type": "code",
   "execution_count": null,
   "metadata": {},
   "outputs": [],
   "source": [
    "# plot one neural cluster against one behavioral variable\n",
    "cluster_num, behavioral_column = 6, 'monkey_speed'\n",
    "bins_to_plot = range(1000, 1200)\n",
    "x_values = dec.binned_spikes_df.loc[bins_to_plot, f'unit_{cluster_num}'].values\n",
    "y_values = dec.pursuit_data[behavioral_column][bins_to_plot]\n",
    "reg = LinearRegression().fit(x_values.reshape(-1, 1), y_values)\n",
    "\n",
    "plt.scatter(x_values, y_values, color='blue', s=1)\n",
    "plt.plot(x_values, reg.predict(x_values.reshape(-1, 1)), color='red', linewidth=1)\n",
    "plt.show()"
   ]
  },
  {
   "cell_type": "markdown",
   "metadata": {},
   "source": [
    "# CCA\n",
    "\n",
    "https://medium.com/@pozdrawiamzuzanna/canonical-correlation-analysis-simple-explanation-and-python-example-a5b8e97648d2"
   ]
  },
  {
   "cell_type": "markdown",
   "metadata": {},
   "source": [
    "## No lagging"
   ]
  },
  {
   "cell_type": "code",
   "execution_count": null,
   "metadata": {},
   "outputs": [],
   "source": [
    "cca_no_lag = cca_class.CCAclass(X1=dec.x_var, X2=dec.y_var_reduced, lagging_included=False)"
   ]
  },
  {
   "cell_type": "code",
   "execution_count": null,
   "metadata": {},
   "outputs": [],
   "source": [
    "cca_no_lag.conduct_cca()"
   ]
  },
  {
   "cell_type": "markdown",
   "metadata": {},
   "source": [
    "## with lags"
   ]
  },
  {
   "cell_type": "code",
   "execution_count": null,
   "metadata": {},
   "outputs": [],
   "source": [
    "cca_lags = cca_class.CCAclass(X1=dec.x_var_lags, X2=dec.y_var_lags_reduced, lagging_included=True)"
   ]
  },
  {
   "cell_type": "code",
   "execution_count": null,
   "metadata": {},
   "outputs": [],
   "source": [
    "dec.y_var_lags_reduced.shape"
   ]
  },
  {
   "cell_type": "code",
   "execution_count": null,
   "metadata": {},
   "outputs": [],
   "source": [
    "cca_lags.conduct_cca()"
   ]
  },
  {
   "cell_type": "code",
   "execution_count": null,
   "metadata": {},
   "outputs": [],
   "source": [
    "gc.collect()"
   ]
  },
  {
   "cell_type": "markdown",
   "metadata": {},
   "source": [
    "## compare lag vs no lag"
   ]
  },
  {
   "cell_type": "code",
   "execution_count": null,
   "metadata": {},
   "outputs": [],
   "source": [
    "canon_df = pd.DataFrame(cca_no_lag.canon_corr, columns = ['no_lag'])\n",
    "canon_df[f'lag_{dec.max_lag_number}'] = cca_lags.canon_corr\n",
    "canon_df['component'] = [f'CC {i+1}' for i in range(cca_lags.n_components)]\n",
    "# convert canon_df to long format\n",
    "canon_df_long = pd.melt(canon_df, id_vars=['component'], var_name='lag', value_name='canon_coeff')"
   ]
  },
  {
   "cell_type": "code",
   "execution_count": null,
   "metadata": {},
   "outputs": [],
   "source": [
    "# make a sns bar plot on canon_df_long\n",
    "plt.figure(figsize=(8, 6))\n",
    "sns.barplot(x='component', y='canon_coeff', data=canon_df_long, hue='lag')\n",
    "plt.show()"
   ]
  },
  {
   "cell_type": "markdown",
   "metadata": {},
   "source": [
    "## cca_inst (choose one between lags and no lag)"
   ]
  },
  {
   "cell_type": "code",
   "execution_count": null,
   "metadata": {},
   "outputs": [],
   "source": [
    "# choose lags\n",
    "cca_inst = cca_lags"
   ]
  },
  {
   "cell_type": "code",
   "execution_count": null,
   "metadata": {},
   "outputs": [],
   "source": [
    "# choose no lag\n",
    "cca_inst = cca_no_lag"
   ]
  },
  {
   "cell_type": "markdown",
   "metadata": {},
   "source": [
    "## loadings"
   ]
  },
  {
   "cell_type": "markdown",
   "metadata": {},
   "source": [
    "### neurons"
   ]
  },
  {
   "cell_type": "code",
   "execution_count": null,
   "metadata": {},
   "outputs": [],
   "source": [
    "cca_inst.plot_ranked_loadings(X1_or_X2='X1', squared=False)"
   ]
  },
  {
   "cell_type": "markdown",
   "metadata": {},
   "source": [
    "### behavior"
   ]
  },
  {
   "cell_type": "code",
   "execution_count": null,
   "metadata": {},
   "outputs": [],
   "source": [
    "cca_inst.plot_ranked_loadings(X1_or_X2='X2', squared=False)"
   ]
  },
  {
   "cell_type": "markdown",
   "metadata": {},
   "source": [
    "## squared loadings"
   ]
  },
  {
   "cell_type": "markdown",
   "metadata": {},
   "source": [
    "### neurons"
   ]
  },
  {
   "cell_type": "code",
   "execution_count": null,
   "metadata": {},
   "outputs": [],
   "source": [
    "cca_inst.plot_ranked_loadings(X1_or_X2='X1')"
   ]
  },
  {
   "cell_type": "markdown",
   "metadata": {},
   "source": [
    "### behavior"
   ]
  },
  {
   "cell_type": "code",
   "execution_count": null,
   "metadata": {},
   "outputs": [],
   "source": [
    "cca_inst.plot_ranked_loadings(X1_or_X2='X2')"
   ]
  },
  {
   "cell_type": "markdown",
   "metadata": {},
   "source": [
    "## abs weights ranked"
   ]
  },
  {
   "cell_type": "markdown",
   "metadata": {},
   "source": [
    "### neurons"
   ]
  },
  {
   "cell_type": "code",
   "execution_count": null,
   "metadata": {},
   "outputs": [],
   "source": [
    "cca_inst.plot_ranked_weights()"
   ]
  },
  {
   "cell_type": "markdown",
   "metadata": {},
   "source": [
    "### behavior"
   ]
  },
  {
   "cell_type": "code",
   "execution_count": null,
   "metadata": {},
   "outputs": [],
   "source": [
    "cca_inst.plot_ranked_weights(X1_or_X2='X2')"
   ]
  },
  {
   "cell_type": "markdown",
   "metadata": {},
   "source": [
    "## plot real weights"
   ]
  },
  {
   "cell_type": "markdown",
   "metadata": {},
   "source": [
    "### neurons"
   ]
  },
  {
   "cell_type": "code",
   "execution_count": null,
   "metadata": {},
   "outputs": [],
   "source": [
    "cca_inst.plot_ranked_weights(abs_value=False)"
   ]
  },
  {
   "cell_type": "markdown",
   "metadata": {},
   "source": [
    "### behavior"
   ]
  },
  {
   "cell_type": "code",
   "execution_count": null,
   "metadata": {},
   "outputs": [],
   "source": [
    "cca_inst.plot_ranked_weights(X1_or_X2='X2', abs_value=False)"
   ]
  },
  {
   "cell_type": "code",
   "execution_count": null,
   "metadata": {},
   "outputs": [],
   "source": [
    "stop here!"
   ]
  },
  {
   "cell_type": "markdown",
   "metadata": {},
   "source": [
    "## distribution of each feature"
   ]
  },
  {
   "cell_type": "code",
   "execution_count": null,
   "metadata": {},
   "outputs": [],
   "source": [
    "cca_inst.X2_sc.shape"
   ]
  },
  {
   "cell_type": "code",
   "execution_count": null,
   "metadata": {},
   "outputs": [],
   "source": [
    "X2_sc_df = pd.DataFrame(cca_inst.X2_sc, columns = cca_inst.X2.columns)\n",
    "X2_sc_df.describe()"
   ]
  },
  {
   "cell_type": "code",
   "execution_count": null,
   "metadata": {},
   "outputs": [],
   "source": [
    "for column in X2_sc_df.columns:\n",
    "    plt.figure(figsize=(8, 2))\n",
    "    sns.boxplot(X2_sc_df[column], orient='h')\n",
    "    plt.show()\n",
    "    "
   ]
  },
  {
   "cell_type": "markdown",
   "metadata": {},
   "source": [
    "## heatmap of weights\n",
    "raw canonical coefficients are interpreted in a manner analogous to interpreting regression coefficients. For example: a one unit increase in reading leads to a .0446 decrease in the first canonical variate of set 2 when all of the other variables are held constant (in some other data)"
   ]
  },
  {
   "cell_type": "code",
   "execution_count": null,
   "metadata": {},
   "outputs": [],
   "source": [
    "weight_df = cca_inst.X2_weight_df.copy()\n",
    "weight_df = weight_df.set_index('feature').drop(columns='feature_category')"
   ]
  },
  {
   "cell_type": "code",
   "execution_count": null,
   "metadata": {},
   "outputs": [],
   "source": [
    "plt.subplots(figsize=(15, 25))\n",
    "sns.heatmap(weight_df.iloc[:20, :10], cmap='coolwarm', annot=True, linewidths=1)\n",
    "plt.show()"
   ]
  },
  {
   "cell_type": "markdown",
   "metadata": {},
   "source": [
    "## train test split"
   ]
  },
  {
   "cell_type": "code",
   "execution_count": null,
   "metadata": {},
   "outputs": [],
   "source": [
    "train1, test1, train2, test2 = train_test_split(cca_inst.X1_sc, cca_inst.X2_sc, test_size=0.3, random_state=42)\n",
    "# use training and testing set\n",
    "nComponents = 10\n",
    "cca2 = rcca.CCA(kernelcca = False, reg = 0., numCC = nComponents)\n",
    "cca2.train([train1, train2])\n",
    "testcorrs = cca2.validate([test1, test2])\n",
    "testcorrs"
   ]
  },
  {
   "cell_type": "markdown",
   "metadata": {},
   "source": [
    "## compute explained variance"
   ]
  },
  {
   "cell_type": "code",
   "execution_count": null,
   "metadata": {},
   "outputs": [],
   "source": [
    "cca2.compute_ev([test1, test2])"
   ]
  },
  {
   "cell_type": "markdown",
   "metadata": {},
   "source": [
    "## test for p values"
   ]
  },
  {
   "cell_type": "code",
   "execution_count": null,
   "metadata": {},
   "outputs": [],
   "source": [
    "stats_cca = CanCorr(cca_inst.X1_sc, cca_inst.X2_sc)\n",
    "print(stats_cca.corr_test().summary())\n",
    "neural_data_modeling.print_weights('X', stats_cca.x_cancoef)\n",
    "neural_data_modeling.print_weights('Z', stats_cca.y_cancoef)"
   ]
  },
  {
   "cell_type": "code",
   "execution_count": null,
   "metadata": {},
   "outputs": [],
   "source": [
    "stop pls"
   ]
  },
  {
   "cell_type": "markdown",
   "metadata": {},
   "source": [
    "# PGAM (unfinished)"
   ]
  },
  {
   "cell_type": "code",
   "execution_count": null,
   "metadata": {},
   "outputs": [],
   "source": [
    "## Categorize variables\n",
    "dec.y_var_reduced.columns\n",
    "temporal_vars = ['time_rel_to_stop',\n",
    " 'time_when_nxt_ff_first_seen_rel_to_stop',\n",
    " 'time_when_cur_ff_first_seen_rel_to_stop',\n",
    " 'time_when_nxt_ff_last_seen_rel_to_stop',\n",
    " 'time_when_cur_ff_last_seen_rel_to_stop',\n",
    " ]\n",
    "\n",
    "spatial_vars = [x for x in dec.y_var_reduced.columns if x not in temporal_vars]\n",
    "spatial_vars"
   ]
  },
  {
   "cell_type": "markdown",
   "metadata": {},
   "source": [
    "# Inspect data"
   ]
  },
  {
   "cell_type": "markdown",
   "metadata": {},
   "source": [
    "## sparsity of neural data"
   ]
  },
  {
   "cell_type": "code",
   "execution_count": null,
   "metadata": {},
   "outputs": [],
   "source": [
    "dec.binned_spikes_df.shape"
   ]
  },
  {
   "cell_type": "code",
   "execution_count": null,
   "metadata": {},
   "outputs": [],
   "source": [
    "# inspect neural data\n",
    "\n",
    "bins = dec.binned_spikes_df\n",
    "\n",
    "# Calculate percentage of non-zero rows for each column\n",
    "non_zero_percentages = (bins != 0).mean() * 100\n",
    "\n",
    "# Create a DataFrame with the results\n",
    "non_zero_df = pd.DataFrame({\n",
    "    'Column': non_zero_percentages.index,\n",
    "    'Percent_Non_Zero': non_zero_percentages.values\n",
    "})\n",
    "\n",
    "# Sort by percentage in descending order\n",
    "non_zero_df = non_zero_df.sort_values('Percent_Non_Zero', ascending=False)\n",
    "\n",
    "print(\"Percentage of non-zero values in each column:\")\n",
    "print(non_zero_df)\n"
   ]
  },
  {
   "cell_type": "code",
   "execution_count": null,
   "metadata": {},
   "outputs": [],
   "source": [
    "bins.drop(columns='bin').mean(axis=1).describe()\n",
    "\n",
    "# plot the percentile of values of mean firing rates across neurons at each time bin\n",
    "mean_rates = bins.drop(columns='bin').mean(axis=1)\n",
    "\n",
    "# Calculate percentiles from 0 to 100\n",
    "percentiles = np.arange(0, 101, 1)\n",
    "percentile_values = np.percentile(mean_rates, percentiles)\n",
    "\n",
    "# Create plot\n",
    "plt.figure(figsize=(6, 4))\n",
    "plt.plot(percentiles, percentile_values)\n",
    "plt.xlabel('Percentile')\n",
    "plt.ylabel('Mean Firing Rate')\n",
    "plt.title('Distribution of Mean Firing Rates Across Neurons')\n",
    "plt.grid(True)\n",
    "plt.show()\n"
   ]
  },
  {
   "cell_type": "markdown",
   "metadata": {},
   "source": [
    "## multicollinearity"
   ]
  },
  {
   "cell_type": "markdown",
   "metadata": {},
   "source": [
    "### y var (behavioral)"
   ]
  },
  {
   "cell_type": "code",
   "execution_count": null,
   "metadata": {},
   "outputs": [],
   "source": [
    "y_var_vif = drop_high_vif_vars.get_vif_df(dec.y_var)\n",
    "print(y_var_vif.head(8))\n",
    "\n",
    "# calculate the correlation coefficient among the columns with VIF > 5\n",
    "# specific_columns = vif_df[vif_df['vif'] > 5].feature.values\n",
    "specific_columns = y_var_vif.feature.values[:10]\n",
    "corr_coeff = dec.y_var[specific_columns].corr()\n",
    "#plt.figure(figsize = (6, 6))\n",
    "plt.figure(figsize = (8, 6))\n",
    "sns.heatmap(corr_coeff, cmap='coolwarm', annot=True, linewidths=1, vmin=-1)\n",
    "plt.show()"
   ]
  },
  {
   "cell_type": "code",
   "execution_count": null,
   "metadata": {},
   "outputs": [],
   "source": [
    "# Try y_var_reduced\n",
    "\n",
    "y_var_vif = drop_high_vif_vars.get_vif_df(dec.y_var_reduced)\n",
    "print(y_var_vif.head(8))\n",
    "\n",
    "# calculate the correlation coefficient among the columns with VIF > 5\n",
    "# specific_columns = vif_df[vif_df['vif'] > 5].feature.values\n",
    "specific_columns = y_var_vif.feature.values[:10]\n",
    "corr_coeff = dec.y_var[specific_columns].corr()\n",
    "#plt.figure(figsize = (6, 6))\n",
    "plt.figure(figsize = (8, 6))\n",
    "sns.heatmap(corr_coeff, cmap='coolwarm', annot=True, linewidths=1, vmin=-1)\n",
    "plt.show()"
   ]
  },
  {
   "cell_type": "markdown",
   "metadata": {},
   "source": [
    "## plot trial segments in pursuit_data"
   ]
  },
  {
   "cell_type": "code",
   "execution_count": null,
   "metadata": {},
   "outputs": [],
   "source": [
    "from visualization.matplotlib_tools import plot_trials,\n",
    "dec.make_PlotTrials_args()"
   ]
  },
  {
   "cell_type": "code",
   "execution_count": null,
   "metadata": {},
   "outputs": [],
   "source": [
    "plt.rcParams['figure.figsize'] = [10, 10]                     \n",
    "\n",
    "max_plot_to_make = 2\n",
    "plot_counter = 0\n",
    "\n",
    "for index, row in dec.single_vis_target_df.iloc[2:].iterrows():\n",
    "\n",
    "    duration = [row['last_vis_time'], row['ff_caught_time']]\n",
    "\n",
    "    returned_info = plot_trials.PlotTrials(\n",
    "                duration, \n",
    "                *dec.PlotTrials_args,  \n",
    "                adjust_xy_limits=True,       \n",
    "                minimal_margin=50,\n",
    "                show_reward_boundary=True,\n",
    "                show_alive_fireflies=False,\n",
    "                show_visible_fireflies=True,\n",
    "                show_in_memory_fireflies=True,\n",
    "                show_believed_target_positions=True,\n",
    "                )\n",
    "    plt.show()\n",
    "    \n",
    "\n",
    "    plot_counter += 1\n",
    "    if plot_counter >= max_plot_to_make:\n",
    "        break"
   ]
  },
  {
   "cell_type": "markdown",
   "metadata": {},
   "source": [
    "### check target_rel_x and y\n",
    "(The look correct after checking)"
   ]
  },
  {
   "cell_type": "code",
   "execution_count": null,
   "metadata": {},
   "outputs": [],
   "source": [
    "pursuit_sub = dec.pursuit_data.loc[dec.pursuit_data['target_index']==65].copy()\n",
    "pursuit_sub['target_angle_deg'] = pursuit_sub['target_angle'] * 180/pi "
   ]
  },
  {
   "cell_type": "code",
   "execution_count": null,
   "metadata": {},
   "outputs": [],
   "source": [
    "pursuit_sub[['point_index', 'target_angle_deg', 'target_distance', 'target_rel_x', 'target_rel_y']]"
   ]
  },
  {
   "cell_type": "markdown",
   "metadata": {},
   "source": [
    "# Appendix"
   ]
  },
  {
   "cell_type": "markdown",
   "metadata": {},
   "source": [
    "## more columns (possibly get in the future)"
   ]
  },
  {
   "cell_type": "markdown",
   "metadata": {},
   "source": [
    "get also get: (but to be honest, it doesn't make that much sense to get them....so let's skip for now.)\n",
    "'distance traversed since target last visible',\n",
    "'d angle since target last visible', 'target_at_right',\n",
    "'time_till_capture', 'time from last visible to capture"
   ]
  },
  {
   "cell_type": "markdown",
   "metadata": {},
   "source": [
    "Note that there might be multicollinearity. For example, duration from last visible to capture = time since target last visible + time till capture\n",
    "\n",
    "Similarly, target angle = target angle last seen frozen - d angle since target last visible\n",
    "\n",
    "(For distance it's not exactly the same because of the difference between distance and distance traversed, but it's still similar)\n",
    "\n",
    "The multicollinearity is fine in linear regression (when each feature here is a y var), but need to be dealt with in cca."
   ]
  },
  {
   "cell_type": "markdown",
   "metadata": {},
   "source": [
    "## other thoughts"
   ]
  },
  {
   "cell_type": "markdown",
   "metadata": {},
   "source": [
    "should i actually align each section, as if they are trials???\n",
    "maybe i can try both that and continuous time... both can shed light on different behavioral variables\n",
    "but for aligning trials, it may require alignment or warping since trial durations vary.\n",
    "\n",
    "btw, what does it mean stitch data?\n",
    "\n",
    "also, what does it look like to use RNN to model it?\n",
    "I thought about the paper that Noah presented on\n",
    "\n",
    "\n",
    "btw.......IME"
   ]
  },
  {
   "cell_type": "markdown",
   "metadata": {},
   "source": [
    "## why ratio of bin/target_index approaches constant"
   ]
  },
  {
   "cell_type": "code",
   "execution_count": null,
   "metadata": {},
   "outputs": [],
   "source": [
    "trial_lengths = dec.pursuit_data[['target_index', 'bin']].groupby('target_index').count()\n",
    "trial_lengths.describe()"
   ]
  },
  {
   "cell_type": "code",
   "execution_count": null,
   "metadata": {},
   "outputs": [],
   "source": [
    "sub = dec.y_var_reduced[['time', 'bin', 'target_index']]\n",
    "sub['factor'] = dec.y_var_reduced['bin']/dec.y_var_reduced['target_index']\n",
    "sub"
   ]
  },
  {
   "cell_type": "code",
   "execution_count": null,
   "metadata": {},
   "outputs": [],
   "source": [
    "plt.hist(np.diff(dec.ff_caught_T_sorted), bins=30)\n",
    "plt.xlabel('Time difference')\n",
    "plt.ylabel('Count')\n",
    "plt.title('Distribution of time differences between caught events')\n",
    "plt.show()\n"
   ]
  },
  {
   "cell_type": "code",
   "execution_count": null,
   "metadata": {},
   "outputs": [],
   "source": [
    "dec.ff_caught_T_sorted/np.arange(len(dec.ff_caught_T_sorted))"
   ]
  },
  {
   "cell_type": "markdown",
   "metadata": {},
   "source": [
    "## compared with neural_data_modeling"
   ]
  },
  {
   "cell_type": "code",
   "execution_count": null,
   "metadata": {},
   "outputs": [],
   "source": [
    "dec = neural_vs_behavioral_class.NeuralVsBehavioralClass(raw_data_folder_path=raw_data_folder_path)\n",
    "dec.streamline_preparing_neural_and_behavioral_data()"
   ]
  },
  {
   "cell_type": "code",
   "execution_count": null,
   "metadata": {},
   "outputs": [],
   "source": [
    "dec.final_behavioral_data"
   ]
  },
  {
   "cell_type": "code",
   "execution_count": null,
   "metadata": {},
   "outputs": [],
   "source": [
    "dec.y_var"
   ]
  },
  {
   "cell_type": "code",
   "execution_count": null,
   "metadata": {},
   "outputs": [],
   "source": [
    "dec.y_var_reduced"
   ]
  },
  {
   "cell_type": "code",
   "execution_count": null,
   "metadata": {},
   "outputs": [],
   "source": [
    "dec.y_var.columns"
   ]
  },
  {
   "cell_type": "code",
   "execution_count": null,
   "metadata": {},
   "outputs": [],
   "source": [
    "dec.y_var_reduced.columns"
   ]
  },
  {
   "cell_type": "code",
   "execution_count": null,
   "metadata": {},
   "outputs": [],
   "source": [
    "[col for col in dec.y_var.columns if col not in dec.y_var_reduced.columns]"
   ]
  },
  {
   "cell_type": "code",
   "execution_count": null,
   "metadata": {},
   "outputs": [],
   "source": [
    "[col for col in dec.y_var_reduced.columns if col not in dec.y_var.columns]"
   ]
  },
  {
   "cell_type": "markdown",
   "metadata": {},
   "source": [
    "## Check gpfa's binned spikes vs my own binned spikes"
   ]
  },
  {
   "cell_type": "code",
   "execution_count": null,
   "metadata": {},
   "outputs": [],
   "source": [
    "spike_segs_df = fit_gpfa_utils.make_spike_segs_df(dec.spike_df, dec.single_vis_target_df)\n"
   ]
  },
  {
   "cell_type": "markdown",
   "metadata": {},
   "source": [
    "### get binned spikes (seqs) from gpfa_utils."
   ]
  },
  {
   "cell_type": "code",
   "execution_count": null,
   "metadata": {},
   "outputs": [],
   "source": [
    "seg_index = 9\n",
    "cluster_index = 12\n",
    "seg = dec.spiketrain_corr_segs[seg_index]\n",
    "cluster = dec.spike_segs_df.cluster.unique()[cluster_index]\n",
    "\n",
    "spiketrain = dec.spiketrains[seg_index][cluster_index]\n",
    "seqs = gpfa_util.get_seqs([spiketrain], dec.bin_width_w_unit)"
   ]
  },
  {
   "cell_type": "markdown",
   "metadata": {},
   "source": [
    "### take out my own binned spikes"
   ]
  },
  {
   "cell_type": "code",
   "execution_count": null,
   "metadata": {},
   "outputs": [],
   "source": [
    "p_sub = dec.pursuit_data_all[dec.pursuit_data_all['segment']==seg]\n",
    "binned_spikes_sub = dec.binned_spikes_df[dec.binned_spikes_df['bin'].isin(p_sub['bin'])].copy()\n",
    "binned_spikes_sub['bin'] = binned_spikes_sub.index\n",
    "binned_spikes_sub2 = binned_spikes_sub.merge(p_sub[['bin', 'time']], on='bin', how='left')\n",
    "binned_spikes_sub3 = binned_spikes_sub2[['bin', 'time', f'unit_{cluster}']].copy()"
   ]
  },
  {
   "cell_type": "markdown",
   "metadata": {},
   "source": [
    "### compare"
   ]
  },
  {
   "cell_type": "code",
   "execution_count": null,
   "metadata": {},
   "outputs": [],
   "source": [
    "trial_length = len(binned_spikes_sub3)\n",
    "if dec.align_at_beginning:\n",
    "    binned_spikes_sub3['gpfa'] = seqs[0][1][0][trial_length:]\n",
    "else:\n",
    "    binned_spikes_sub3['gpfa'] = seqs[0][1][0][-trial_length:] # when getting latent dimension for neural data, [-trial_length:] was also used\n",
    "binned_spikes_sub3['same'] = binned_spikes_sub3[f'unit_{cluster}'] == binned_spikes_sub3['gpfa']\n",
    "binned_spikes_sub3[binned_spikes_sub3['same']!=True]"
   ]
  }
 ],
 "metadata": {
  "kernelspec": {
   "display_name": "ff_venv2",
   "language": "python",
   "name": "python3"
  },
  "language_info": {
   "codemirror_mode": {
    "name": "ipython",
    "version": 3
   },
   "file_extension": ".py",
   "mimetype": "text/x-python",
   "name": "python",
   "nbconvert_exporter": "python",
   "pygments_lexer": "ipython3",
   "version": "3.11.11"
  }
 },
 "nbformat": 4,
 "nbformat_minor": 2
}
